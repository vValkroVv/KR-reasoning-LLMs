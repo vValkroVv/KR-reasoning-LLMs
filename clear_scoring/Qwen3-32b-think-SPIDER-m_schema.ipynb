{
 "cells": [
  {
   "cell_type": "code",
   "execution_count": 1,
   "id": "8fc211c7-82bd-49c0-b7e2-1c1d6ad9134f",
   "metadata": {},
   "outputs": [
    {
     "name": "stdout",
     "output_type": "stream",
     "text": [
      "INFO 05-25 16:38:56 [__init__.py:239] Automatically detected platform cuda.\n"
     ]
    },
    {
     "name": "stderr",
     "output_type": "stream",
     "text": [
      "2025-05-25 16:38:57,968\tINFO util.py:154 -- Missing packages: ['ipywidgets']. Run `pip install -U ipywidgets`, then restart the notebook server for rich notebook output.\n"
     ]
    }
   ],
   "source": [
    "import os, sys\n",
    "sys.path.append(\"/home/vkropoti/vllm\")\n",
    "\n",
    "from src.experiment import run_think_experiment\n",
    "import random\n",
    "import numpy as np"
   ]
  },
  {
   "cell_type": "code",
   "execution_count": 2,
   "id": "ff95fe4c-4743-4a91-abcf-94e139e1a6d4",
   "metadata": {},
   "outputs": [
    {
     "name": "stdout",
     "output_type": "stream",
     "text": [
      "[44, 509, 298, 829, 410, 676, 744, 152, 677, 498, 752, 553, 463, 132, 689, 257, 329, 160, 213, 214]\n",
      "model: Qwen3-32B\n"
     ]
    }
   ],
   "source": [
    "n= 20\n",
    "arr_seeds = [random.randint(0,1000) for _ in range(n)]\n",
    "arr_versions = [x for x in range(n)]\n",
    "model = \"Qwen3-32B\"\n",
    "print(arr_seeds)\n",
    "print(f\"model: {model}\")"
   ]
  },
  {
   "cell_type": "code",
   "execution_count": 2,
   "id": "3389289b-f43f-4840-88af-e4856b34211d",
   "metadata": {
    "scrolled": true
   },
   "outputs": [
    {
     "name": "stdout",
     "output_type": "stream",
     "text": [
      "Загружаем модель...\n"
     ]
    },
    {
     "name": "stderr",
     "output_type": "stream",
     "text": [
      "Loading safetensors checkpoint shards:   0% Completed | 0/17 [00:00<?, ?it/s]\n",
      "Loading safetensors checkpoint shards:   6% Completed | 1/17 [00:01<00:22,  1.41s/it]\n",
      "Loading safetensors checkpoint shards:  12% Completed | 2/17 [00:02<00:21,  1.43s/it]\n",
      "Loading safetensors checkpoint shards:  18% Completed | 3/17 [00:03<00:17,  1.28s/it]\n",
      "Loading safetensors checkpoint shards:  24% Completed | 4/17 [00:05<00:17,  1.35s/it]\n",
      "Loading safetensors checkpoint shards:  29% Completed | 5/17 [00:06<00:16,  1.39s/it]\n",
      "Loading safetensors checkpoint shards:  35% Completed | 6/17 [00:08<00:15,  1.41s/it]\n",
      "Loading safetensors checkpoint shards:  41% Completed | 7/17 [00:09<00:14,  1.42s/it]\n",
      "Loading safetensors checkpoint shards:  47% Completed | 8/17 [00:11<00:12,  1.43s/it]\n",
      "Loading safetensors checkpoint shards:  53% Completed | 9/17 [00:12<00:11,  1.44s/it]\n",
      "Loading safetensors checkpoint shards:  59% Completed | 10/17 [00:14<00:10,  1.45s/it]\n",
      "Loading safetensors checkpoint shards:  65% Completed | 11/17 [00:15<00:08,  1.45s/it]\n",
      "Loading safetensors checkpoint shards:  71% Completed | 12/17 [00:17<00:07,  1.46s/it]\n",
      "Loading safetensors checkpoint shards:  76% Completed | 13/17 [00:18<00:05,  1.46s/it]\n",
      "Loading safetensors checkpoint shards:  82% Completed | 14/17 [00:20<00:04,  1.47s/it]\n",
      "Loading safetensors checkpoint shards:  88% Completed | 15/17 [00:21<00:02,  1.47s/it]\n",
      "Loading safetensors checkpoint shards:  94% Completed | 16/17 [00:22<00:01,  1.47s/it]\n",
      "Loading safetensors checkpoint shards: 100% Completed | 17/17 [00:24<00:00,  1.47s/it]\n",
      "Loading safetensors checkpoint shards: 100% Completed | 17/17 [00:24<00:00,  1.44s/it]\n",
      "\u001b[1;36m(VllmWorker rank=0 pid=1674534)\u001b[0;0m \n"
     ]
    },
    {
     "name": "stdout",
     "output_type": "stream",
     "text": [
      "Модель успешно загружена\n",
      "model_config {'model': '/data/home/vkropoti/models/Qwen3-32B', 'tensor_parallel_size': 2, 'max_model_len': 25000, 'max_new_tokens': 15000, 'temperature': 0.95, 'top_k': 50, 'top_p': 0.95, 'gpu_memory_utilization': 0.9, 'trust_remote_code': False, 'seed': 44}\n",
      "\n",
      "prompts_config {'path_dev_json': '/data/home/vkropoti/sql_data/dev_spider.json', 'path_sql_dbs': '/data/home/vkropoti/sql_data/data_bases_spider/', 'use_reasoning': True, 'paths_to_cot': None}\n",
      "\n",
      "save_config {'path_sql_save': '/data/home/vkropoti/sql_llm_answers/spider_dev_m_schema/sql_all_Qwen3-32B-reasoning-v0', 'path_think_save': '/data/home/vkropoti/sql_llm_answers/spider_dev_m_schema/sql_think_Qwen3-32B-reasoning-v0', 'path_sql_answers_save': '/data/home/vkropoti/sql_llm_answers/spider_dev_m_schema/sql_predict_Qwen3-32B-reasoning-v0', 'path_to_save_scores': '/data/home/vkropoti/sql_llm_answers/spider_dev_m_schema/sql_results_Qwen3-32B-reasoning-v0', 'path_to_save_executed': '/data/home/vkropoti/sql_llm_answers/spider_dev_m_schema/sql_executed_Qwen3-32B-reasoning-v0'}\n",
      "\n",
      "Модель успешно загружена\n",
      "Пример промпта\n",
      "<|im_start|>system\n",
      "\n",
      "You are a data science expert. Below, you are provided with a database schema and a natural language question. Your task is to understand the schema and generate a valid SQL query to answer the question.\n",
      "\n",
      "Database Engine: SQLite\n",
      "\n",
      "Firstly think how to solve the problem, analyze tables, take care what columns avaliable in each table and so on, check the syntacsis (do not otherthink 2k words is a limit, no more!).\n",
      "Secondly, create the answer based on thoughts. The answer should be only sql query.\n",
      "\n",
      "Carefully follow the instruction and add <|im_end|> and the end of the final answer.\n",
      "<|im_end|>\n",
      "<|im_start|>user\n",
      "here is avaliable tables and their structure below\n",
      "【DB_ID】 concert_singer\n",
      "【Schema】\n",
      "# Table: concert\n",
      "[\n",
      "(concert_ID:INTEGER, Primary Key, Examples: [1, 2, 3]),\n",
      "(concert_Name:TEXT, Examples: [Auditions, Super bootcamp, Home Visits]),\n",
      "(Theme:TEXT, Examples: [Free choice, Free choice 2, Bleeding Love]),\n",
      "(Stadium_ID:TEXT, maps to stadium.Stadium_ID, Examples: [1, 2, 10]),\n",
      "(Year:TEXT, Examples: [2014, 2015, 2016])\n",
      "]\n",
      "# Table: singer\n",
      "[\n",
      "(Singer_ID:INTEGER, Primary Key, Examples: [1, 2, 3]),\n",
      "(Name:TEXT, Examples: [Joe Sharp, Timbaland, Justin Brown]),\n",
      "(Country:TEXT, Examples: [Netherlands, United States, France]),\n",
      "(Song_Name:TEXT, Examples: [You, Dangerous, Hey Oh]),\n",
      "(Song_release_year:TEXT, Examples: [1992, 2008, 2013]),\n",
      "(Age:INTEGER, Examples: [52, 32, 29]),\n",
      "(Is_male:BOOLEAN, Examples: [False, True])\n",
      "]\n",
      "# Table: singer_in_concert\n",
      "[\n",
      "(concert_ID:INTEGER, maps to concert.concert_ID, Primary Key, Examples: [1, 2, 3]),\n",
      "(Singer_ID:TEXT, maps to singer.Singer_ID, Primary Key, Examples: [2, 3, 5])\n",
      "]\n",
      "# Table: stadium\n",
      "[\n",
      "(Stadium_ID:INTEGER, Primary Key, Examples: [1, 2, 3]),\n",
      "(Location:TEXT, Examples: [Raith Rovers, Ayr United, East Fife]),\n",
      "(Name:TEXT, Examples: [Stark's Park, Somerset Park, Bayview Stadium]),\n",
      "(Capacity:INTEGER, Examples: [10104, 11998, 2000]),\n",
      "(Highest:INTEGER, Examples: [4812, 2363, 1980]),\n",
      "(Lowest:INTEGER, Examples: [1294, 1057, 533]),\n",
      "(Average:INTEGER, Examples: [2106, 1477, 864])\n",
      "]\n",
      "【Foreign keys】\n",
      "concert.Stadium_ID=stadium.Stadium_ID\n",
      "singer_in_concert.concert_ID=concert.concert_ID\n",
      "singer_in_concert.Singer_ID=singer.Singer_ID\n",
      "\n",
      "-- Using valid SQLite, answer the following questions for the tables provided above.\n",
      "-- question: How many singers do we have?\n",
      "\n",
      "\n",
      "\n",
      "Generate the SQLite for the above question after thinking step by step: \n",
      "\n",
      "\n",
      "Instructions:\n",
      "- Make sure you only output the information that is asked in the question. If the question asks for a specific column, make sure to only include that column in the SELECT clause, nothing more.\n",
      "- The generated query should return all of the information asked in the question without any missing or extra information.\n",
      "- Before generating the final SQL query, please think through the steps of how to write the query.\n",
      "- In your response, you should provide thoughts and answer (thoughts are separated with <think>).\n",
      "- Do not misuse column names, keep them in quotes `\n",
      "- Carefully understand what colomns belond to what tables\n",
      "- Use only initial column names, change names prohibited\n",
      "        \n",
      "Output Format:\n",
      "In your answer, please enclose the generated SQL query in a code block:\n",
      "```\n",
      "```    \n",
      "and nothing else, no exaplains, no comments (asnwer should be less than 512 characters)\n",
      "\n",
      "Take a deep breath and think step by step to find the correct SQL query in SQLite format.\n",
      "\n",
      "Question repetition: How many singers do we have?\n",
      "\n",
      "Be care! Include only what i want it questiona and nothing else<|im_end|>\n",
      "<|im_start|>assistant\n",
      "\n",
      "\n",
      "\n",
      "Максимальное количество токенов в промптах: 1824\n",
      "\n",
      "начинаем скорринг\n",
      "Загружаем чаты с данными...\n",
      "Данные успешно загружены\n",
      "Начали генерацию SQL запросов\n"
     ]
    },
    {
     "name": "stderr",
     "output_type": "stream",
     "text": [
      "Processed prompts: 100%|██████████| 1076/1076 [05:42<00:00,  3.15it/s, est. speed input: 3313.04 toks/s, output: 2184.03 toks/s]"
     ]
    },
    {
     "name": "stdout",
     "output_type": "stream",
     "text": [
      "extract_think количество ошибок:  0\n",
      "extract_sql количество ошибок:  0\n",
      "Закончили генерацию SQL запросов\n",
      "Начали скорр полученных SQL запросов\n"
     ]
    },
    {
     "name": "stderr",
     "output_type": "stream",
     "text": [
      "\n"
     ]
    },
    {
     "name": "stdout",
     "output_type": "stream",
     "text": [
      "Qwen3-32B DEV Финальный результат EX: 73.79\n",
      "Qwen3-32B процент запросов, которые успешно выполнились DEV: 98.70%\n",
      "====================================================================================================\n",
      "\n",
      "\n",
      "Загружаем чаты с данными...\n",
      "Данные успешно загружены\n",
      "Начали генерацию SQL запросов\n"
     ]
    },
    {
     "name": "stderr",
     "output_type": "stream",
     "text": [
      "Processed prompts: 100%|██████████| 1076/1076 [06:20<00:00,  2.83it/s, est. speed input: 2980.69 toks/s, output: 1807.69 toks/s]"
     ]
    },
    {
     "name": "stdout",
     "output_type": "stream",
     "text": [
      "extract_think количество ошибок:  0\n",
      "extract_sql количество ошибок:  0\n",
      "Закончили генерацию SQL запросов\n",
      "Начали скорр полученных SQL запросов\n"
     ]
    },
    {
     "name": "stderr",
     "output_type": "stream",
     "text": [
      "\n"
     ]
    },
    {
     "name": "stdout",
     "output_type": "stream",
     "text": [
      "Qwen3-32B DEV Финальный результат EX: 74.72\n",
      "Qwen3-32B процент запросов, которые успешно выполнились DEV: 98.14%\n",
      "====================================================================================================\n",
      "\n",
      "\n",
      "Загружаем чаты с данными...\n",
      "Данные успешно загружены\n",
      "Начали генерацию SQL запросов\n"
     ]
    },
    {
     "name": "stderr",
     "output_type": "stream",
     "text": [
      "Processed prompts:   0%|          | 0/1076 [00:00<?, ?it/s, est. speed input: 0.00 toks/s, output: 0.00 toks/s]\n",
      "KeyboardInterrupt\n",
      "\n",
      "Exception ignored in: <bound method IPythonKernel._clean_thread_parent_frames of <ipykernel.ipkernel.IPythonKernel object at 0x7fa9d641d040>>\n",
      "Traceback (most recent call last):\n",
      "  File \"/data/home/vkropoti/vllm/lib64/python3.12/site-packages/ipykernel/ipkernel.py\", line 775, in _clean_thread_parent_frames\n",
      "    def _clean_thread_parent_frames(\n",
      "\n",
      "KeyboardInterrupt: \n",
      "\n",
      "KeyboardInterrupt\n",
      "\n"
     ]
    }
   ],
   "source": [
    "run_think_experiment(model,arr_seeds,arr_versions)"
   ]
  },
  {
   "cell_type": "markdown",
   "id": "81c34c01-00c6-498b-b626-e0452ab4ddb6",
   "metadata": {},
   "source": [
    "## Выводим средний скорр think подхода"
   ]
  },
  {
   "cell_type": "code",
   "execution_count": null,
   "id": "1e66fa7c-ddda-472d-93a3-2d563b0129df",
   "metadata": {},
   "outputs": [],
   "source": [
    "import pickle"
   ]
  },
  {
   "cell_type": "code",
   "execution_count": null,
   "id": "ce529050-623f-4d4f-bfac-9ab5d43e2c4a",
   "metadata": {},
   "outputs": [],
   "source": [
    "def load_results(k):\n",
    "    with open(f\"/data/home/vkropoti/sql_llm_answers/spider_dev_m_schema/sql_results_{model}-reasoning-v{k}\", \"rb\") as fp:\n",
    "        results = np.array(pickle.load(fp))\n",
    "    return results"
   ]
  },
  {
   "cell_type": "code",
   "execution_count": null,
   "id": "53838cd4-51fb-42d2-88c5-340999184bba",
   "metadata": {},
   "outputs": [],
   "source": [
    "def load_executed(k):\n",
    "    with open(f\"/data/home/vkropoti/sql_llm_answers/spider_dev_m_schema/sql_executed_{model}-reasoning-v{k}\", \"rb\") as fp:\n",
    "        executed = np.array(pickle.load(fp))\n",
    "    return executed"
   ]
  },
  {
   "cell_type": "code",
   "execution_count": null,
   "id": "c4defcb9-0814-4f71-8080-a3e3c52317ac",
   "metadata": {},
   "outputs": [],
   "source": [
    "def get_think_results(name,n):\n",
    "    arr_mean_scores = []\n",
    "    arr_mean_executed = []\n",
    "    for i in range(n):\n",
    "        results, executed = load_results(i), load_executed(i)\n",
    "        arr_mean_scores.append(np.mean(results))\n",
    "        arr_mean_executed.append(np.mean(executed))\n",
    "        \n",
    "    print(f\"{name} DEV Финальный результат EX: {np.mean(np.array(arr_mean_scores)):.3f}, при std: {np.std(np.array(arr_mean_scores)):.3f}\")\n",
    "    print(f\"{name} процент запросов, которые успешно выполнились DEV: {np.mean(np.array(arr_mean_executed)):.3f}, при std: {np.std(np.array(arr_mean_executed)):.3f}\")\n",
    "    "
   ]
  },
  {
   "cell_type": "code",
   "execution_count": null,
   "id": "9f57e1a5-7e57-4e87-9f42-e4a844087e40",
   "metadata": {},
   "outputs": [],
   "source": [
    "# все 20\n",
    "get_think_results(model,20)"
   ]
  },
  {
   "cell_type": "code",
   "execution_count": null,
   "id": "4394f90c-37ba-4023-a02f-8d737df1fca1",
   "metadata": {},
   "outputs": [],
   "source": []
  },
  {
   "cell_type": "code",
   "execution_count": null,
   "id": "4e1407db-0353-490d-be09-6f9e6bfd47d1",
   "metadata": {},
   "outputs": [],
   "source": []
  }
 ],
 "metadata": {
  "kernelspec": {
   "display_name": "vllm",
   "language": "python",
   "name": "vllm"
  },
  "language_info": {
   "codemirror_mode": {
    "name": "ipython",
    "version": 3
   },
   "file_extension": ".py",
   "mimetype": "text/x-python",
   "name": "python",
   "nbconvert_exporter": "python",
   "pygments_lexer": "ipython3",
   "version": "3.12.4"
  }
 },
 "nbformat": 4,
 "nbformat_minor": 5
}
