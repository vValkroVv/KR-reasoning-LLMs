{
 "cells": [
  {
   "cell_type": "code",
   "execution_count": 1,
   "id": "8fc211c7-82bd-49c0-b7e2-1c1d6ad9134f",
   "metadata": {},
   "outputs": [
    {
     "name": "stdout",
     "output_type": "stream",
     "text": [
      "INFO 05-18 04:36:32 [__init__.py:239] Automatically detected platform cuda.\n"
     ]
    },
    {
     "name": "stderr",
     "output_type": "stream",
     "text": [
      "2025-05-18 04:36:33,374\tINFO util.py:154 -- Missing packages: ['ipywidgets']. Run `pip install -U ipywidgets`, then restart the notebook server for rich notebook output.\n"
     ]
    }
   ],
   "source": [
    "import os, sys\n",
    "sys.path.append(\"/home/vkropoti/vllm\")\n",
    "\n",
    "from src.experiment import run_think_experiment\n",
    "import random\n",
    "import numpy as np"
   ]
  },
  {
   "cell_type": "code",
   "execution_count": 2,
   "id": "ff95fe4c-4743-4a91-abcf-94e139e1a6d4",
   "metadata": {},
   "outputs": [
    {
     "name": "stdout",
     "output_type": "stream",
     "text": [
      "[468, 931, 299, 622, 518, 366, 658, 936, 778, 76, 179, 358, 128, 13, 654, 963, 454, 298, 893, 621]\n",
      "model: Qwen3-32B\n"
     ]
    }
   ],
   "source": [
    "n= 20\n",
    "arr_seeds = [random.randint(0,1000) for _ in range(n)]\n",
    "arr_versions = [x for x in range(n)]\n",
    "model = \"Qwen3-32B\"\n",
    "print(arr_seeds)\n",
    "print(f\"model: {model}\")"
   ]
  },
  {
   "cell_type": "code",
   "execution_count": 3,
   "id": "3389289b-f43f-4840-88af-e4856b34211d",
   "metadata": {
    "scrolled": true
   },
   "outputs": [
    {
     "name": "stdout",
     "output_type": "stream",
     "text": [
      "Загружаем модель...\n"
     ]
    },
    {
     "name": "stderr",
     "output_type": "stream",
     "text": [
      "Loading safetensors checkpoint shards:   0% Completed | 0/17 [00:00<?, ?it/s]\n",
      "Loading safetensors checkpoint shards:   6% Completed | 1/17 [00:00<00:07,  2.02it/s]\n",
      "Loading safetensors checkpoint shards:  12% Completed | 2/17 [00:01<00:07,  1.89it/s]\n",
      "Loading safetensors checkpoint shards:  18% Completed | 3/17 [00:01<00:06,  2.01it/s]\n",
      "Loading safetensors checkpoint shards:  24% Completed | 4/17 [00:02<00:06,  1.92it/s]\n",
      "Loading safetensors checkpoint shards:  29% Completed | 5/17 [00:02<00:06,  1.85it/s]\n",
      "Loading safetensors checkpoint shards:  35% Completed | 6/17 [00:03<00:06,  1.82it/s]\n",
      "Loading safetensors checkpoint shards:  41% Completed | 7/17 [00:03<00:05,  1.80it/s]\n",
      "Loading safetensors checkpoint shards:  47% Completed | 8/17 [00:04<00:05,  1.78it/s]\n",
      "Loading safetensors checkpoint shards:  53% Completed | 9/17 [00:04<00:04,  1.76it/s]\n",
      "Loading safetensors checkpoint shards:  59% Completed | 10/17 [00:05<00:03,  1.75it/s]\n",
      "Loading safetensors checkpoint shards:  65% Completed | 11/17 [00:06<00:03,  1.75it/s]\n",
      "Loading safetensors checkpoint shards:  71% Completed | 12/17 [00:06<00:02,  1.74it/s]\n",
      "Loading safetensors checkpoint shards:  76% Completed | 13/17 [00:07<00:02,  1.71it/s]\n",
      "Loading safetensors checkpoint shards:  82% Completed | 14/17 [00:07<00:01,  1.69it/s]\n",
      "Loading safetensors checkpoint shards:  88% Completed | 15/17 [00:08<00:01,  1.70it/s]\n",
      "Loading safetensors checkpoint shards:  94% Completed | 16/17 [00:09<00:00,  1.71it/s]\n",
      "Loading safetensors checkpoint shards: 100% Completed | 17/17 [00:09<00:00,  1.71it/s]\n",
      "Loading safetensors checkpoint shards: 100% Completed | 17/17 [00:09<00:00,  1.76it/s]\n",
      "\n"
     ]
    },
    {
     "name": "stdout",
     "output_type": "stream",
     "text": [
      "Модель успешно загружена\n",
      "model_config {'model': '/data/home/vkropoti/models/Qwen3-32B', 'tensor_parallel_size': 2, 'max_model_len': 25000, 'max_new_tokens': 15000, 'temperature': 0.95, 'top_k': 50, 'top_p': 0.95, 'gpu_memory_utilization': 0.9, 'trust_remote_code': False, 'seed': 468}\n",
      "\n",
      "prompts_config {'path_dev_json': '/home/vkropoti/vllm/dev.json', 'path_sql_dbs': '/data/home/vkropoti/sql_data/dev_databases/', 'use_reasoning': True, 'paths_to_cot': None}\n",
      "\n",
      "save_config {'path_sql_save': '/data/home/vkropoti/sql_llm_answers/bird_dev/sql_all_Qwen3-32B-reasoning-v0', 'path_think_save': '/data/home/vkropoti/sql_llm_answers/bird_dev/sql_think_Qwen3-32B-reasoning-v0', 'path_sql_answers_save': '/data/home/vkropoti/sql_llm_answers/bird_dev/sql_predict_Qwen3-32B-reasoning-v0', 'path_to_save_scores': '/data/home/vkropoti/sql_llm_answers/bird_dev/sql_results_Qwen3-32B-reasoning-v0', 'path_to_save_executed': '/data/home/vkropoti/sql_llm_answers/bird_dev/sql_executed_Qwen3-32B-reasoning-v0'}\n",
      "\n",
      "Модель успешно загружена\n",
      "Пример промпта\n",
      "<|im_start|>system\n",
      "\n",
      "You are a data science expert. Below, you are provided with a database schema and a natural language question. Your task is to understand the schema and generate a valid SQL query to answer the question.\n",
      "\n",
      "Database Engine: SQLite\n",
      "\n",
      "Firstly think how to solve the problem, analyze tables, take care what columns avaliable in each table and so on, check the syntacsis (do not otherthink 2k words is a limit, no more!).\n",
      "Secondly, create the answer based on thoughts. The answer should be only sql query.\n",
      "\n",
      "Carefully follow the instruction and add <|im_end|> and the end of the final answer.\n",
      "<|im_end|>\n",
      "<|im_start|>user\n",
      "here is avaliable tables below\n",
      "\n",
      "\n",
      "Table: frpm\n",
      "CREATE TABLE frpm\n",
      "(\n",
      "    CDSCode                                       TEXT not null\n",
      "        primary key,\n",
      "    `Academic Year`                               TEXT  null,\n",
      "    `County Code`                                 TEXT  null,\n",
      "    `District Code`                               INTEGER         null,\n",
      "    `School Code`                                 TEXT  null,\n",
      "    `County Name`                                 TEXT null,\n",
      "    `District Name`                               TEXT null,\n",
      "    `School Name`                                 TEXT null,\n",
      "    `District Type`                               TEXT null,\n",
      "    `School Type`                                 TEXT null,\n",
      "    `Educational Option Type`                     TEXT null,\n",
      "    `NSLP Provision Status`                       TEXT null,\n",
      "    `Charter School (Y/N)`                        INTEGER    null,\n",
      "    `Charter School Number`                       TEXT  null,\n",
      "    `Charter Funding Type`                        TEXT null,\n",
      "    IRC                                           INTEGER    null,\n",
      "    `Low Grade`                                   TEXT  null,\n",
      "    `High Grade`                                  TEXT null,\n",
      "    `Enrollment (K-12)`                           REAL      null,\n",
      "    `Free Meal Count (K-12)`                      REAL       null,\n",
      "    `Percent (%) Eligible Free (K-12)`            REAL       null,\n",
      "    `FRPM Count (K-12)`                           REAL       null,\n",
      "    `Percent (%) Eligible FRPM (K-12)`            REAL       null,\n",
      "    `Enrollment (Ages 5-17)`                      REAL       null,\n",
      "    `Free Meal Count (Ages 5-17)`                 REAL       null,\n",
      "    `Percent (%) Eligible Free (Ages 5-17)`       REAL       null,\n",
      "    `FRPM Count (Ages 5-17)`                      REAL       null,\n",
      "    `Percent (%) Eligible FRPM (Ages 5-17)`       REAL       null,\n",
      "    `2013-14 CALPADS Fall 1 Certification Status` INTEGER    null,\n",
      "    foreign key (CDSCode) references schools (CDSCode)\n",
      ")\n",
      "\n",
      "Table: satscores\n",
      "CREATE TABLE satscores\n",
      "(\n",
      "    cds         TEXT not null\n",
      "        primary key,\n",
      "    rtype       TEXT  not null,\n",
      "    sname       TEXT null,\n",
      "    dname       TEXT null,\n",
      "    cname       TEXT null,\n",
      "    enroll12    INTEGER         not null,\n",
      "    NumTstTakr  INTEGER          not null,\n",
      "    AvgScrRead  INTEGER          null,\n",
      "    AvgScrMath  INTEGER          null,\n",
      "    AvgScrWrite INTEGER          null,\n",
      "    NumGE1500   INTEGER          null,\n",
      "--     PctGE1500   double      null,\n",
      "        foreign key (cds) references schools (CDSCode)\n",
      ")\n",
      "\n",
      "Table: schools\n",
      "CREATE TABLE schools\n",
      "(\n",
      "    CDSCode     TEXT not null\n",
      "        primary key,\n",
      "    NCESDist    TEXT  null,\n",
      "    NCESSchool  TEXT  null,\n",
      "    StatusType  TEXT  not null,\n",
      "    County      TEXT not null,\n",
      "    District    TEXT not null,\n",
      "    School      TEXT null,\n",
      "    Street      TEXT null,\n",
      "    StreetAbr   TEXT null,\n",
      "    City        TEXT null,\n",
      "    Zip         TEXT null,\n",
      "    State       TEXT  null,\n",
      "    MailStreet  TEXT null,\n",
      "    MailStrAbr  TEXT null,\n",
      "    MailCity    TEXT null,\n",
      "    MailZip     TEXT null,\n",
      "    MailState   TEXT  null,\n",
      "    Phone       TEXT null,\n",
      "    Ext         TEXT  null,\n",
      "    Website     TEXT null,\n",
      "    OpenDate    DATE        null,\n",
      "    ClosedDate  DATE        null,\n",
      "    Charter     INTEGER    null,\n",
      "    CharterNum  TEXT  null,\n",
      "    FundingType TEXT null,\n",
      "    DOC         TEXT  not null,\n",
      "    DOCType     TEXT not null,\n",
      "    SOC         TEXT  null,\n",
      "    SOCType     TEXT null,\n",
      "    EdOpsCode   TEXT  null,\n",
      "    EdOpsName   TEXT null,\n",
      "    EILCode     TEXT  null,\n",
      "    EILName     TEXT null,\n",
      "    GSoffered   TEXT null,\n",
      "    GSserved    TEXT  null,\n",
      "    Virtual     TEXT  null,\n",
      "    Magnet      INTEGER   null,\n",
      "    Latitude    REAL      null,\n",
      "    Longitude   REAL      null,\n",
      "    AdmFName1   TEXT null,\n",
      "    AdmLName1   TEXT null,\n",
      "    AdmEmail1   TEXT null,\n",
      "    AdmFName2   TEXT null,\n",
      "    AdmLName2   TEXT null,\n",
      "    AdmEmail2   TEXT null,\n",
      "    AdmFName3   TEXT  null,\n",
      "    AdmLName3   TEXT null,\n",
      "    AdmEmail3   TEXT null,\n",
      "    LastUpdate  DATE        not null\n",
      ")\n",
      "\n",
      "-- Using valid SQLite and understanding External Knowledge, answer the following questions for the tables provided above.\n",
      "-- question: What is the highest eligible free rate for K-12 students in the schools in Alameda County?\n",
      "-- External Knowledge: Eligible free rate for K-12 = `Free Meal Count (K-12)` / `Enrollment (K-12)`\n",
      "\n",
      "\n",
      "Generate the SQLite for the above question after thinking step by step: \n",
      "\n",
      "\n",
      "Instructions:\n",
      "- Make sure you only output the information that is asked in the question. If the question asks for a specific column, make sure to only include that column in the SELECT clause, nothing more.\n",
      "- The generated query should return all of the information asked in the question without any missing or extra information.\n",
      "- Before generating the final SQL query, please think through the steps of how to write the query.\n",
      "- In your response, you should provide thoughts and answer (thoughts are separated with <think>).\n",
      "- Do not misuse column names, keep them in quotes `\n",
      "- Carefully understand what colomns belond to what tables\n",
      "- Use only initial column names, change names prohibited\n",
      "        \n",
      "Output Format:\n",
      "In your answer, please enclose the generated SQL query in a code block:\n",
      "```\n",
      "-- Your SQL query\n",
      "```    \n",
      "and nothing else, no exaplains, no comments (asnwer should be less than 512 characters)\n",
      "\n",
      "Take a deep breath and think step by step to find the correct SQL query in SQLite format.\n",
      "\n",
      "Question repetition: What is the highest eligible free rate for K-12 students in the schools in Alameda County?\n",
      "\n",
      "Be care! Include only what i want it questiona and nothing else<|im_end|>\n",
      "<|im_start|>assistant\n",
      "\n",
      "\n",
      "\n",
      "Максимальное количество токенов в промптах: 2638\n",
      "\n",
      "начинаем скорринг\n",
      "Загружаем чаты с данными...\n",
      "Данные успешно загружены\n",
      "Начали генерацию SQL запросов\n"
     ]
    },
    {
     "name": "stderr",
     "output_type": "stream",
     "text": [
      "Processed prompts: 100%|██████████| 1534/1534 [15:17<00:00,  1.67it/s, est. speed input: 2224.54 toks/s, output: 1495.23 toks/s]"
     ]
    },
    {
     "name": "stdout",
     "output_type": "stream",
     "text": [
      "extract_think количество ошибок:  0\n",
      "extract_sql количество ошибок:  1\n",
      "Закончили генерацию SQL запросов\n",
      "Начали скорр полученных SQL запросов\n"
     ]
    },
    {
     "name": "stderr",
     "output_type": "stream",
     "text": [
      "\n"
     ]
    },
    {
     "name": "stdout",
     "output_type": "stream",
     "text": [
      "Qwen3-32B DEV Финальный результат EX: 57.37\n",
      "Qwen3-32B процент запросов, которые успешно выполнились DEV: 96.41%\n",
      "====================================================================================================\n",
      "\n",
      "\n",
      "Загружаем чаты с данными...\n",
      "Данные успешно загружены\n",
      "Начали генерацию SQL запросов\n"
     ]
    },
    {
     "name": "stderr",
     "output_type": "stream",
     "text": [
      "Processed prompts: 100%|██████████| 1534/1534 [15:34<00:00,  1.64it/s, est. speed input: 2182.84 toks/s, output: 1527.44 toks/s]"
     ]
    },
    {
     "name": "stdout",
     "output_type": "stream",
     "text": [
      "extract_think количество ошибок:  0\n",
      "extract_sql количество ошибок:  0\n",
      "Закончили генерацию SQL запросов\n",
      "Начали скорр полученных SQL запросов\n"
     ]
    },
    {
     "name": "stderr",
     "output_type": "stream",
     "text": [
      "\n"
     ]
    },
    {
     "name": "stdout",
     "output_type": "stream",
     "text": [
      "Qwen3-32B DEV Финальный результат EX: 58.21\n",
      "Qwen3-32B процент запросов, которые успешно выполнились DEV: 95.96%\n",
      "====================================================================================================\n",
      "\n",
      "\n",
      "Загружаем чаты с данными...\n",
      "Данные успешно загружены\n",
      "Начали генерацию SQL запросов\n"
     ]
    },
    {
     "name": "stderr",
     "output_type": "stream",
     "text": [
      "Processed prompts: 100%|██████████| 1534/1534 [15:37<00:00,  1.64it/s, est. speed input: 2175.91 toks/s, output: 1490.10 toks/s]"
     ]
    },
    {
     "name": "stdout",
     "output_type": "stream",
     "text": [
      "extract_think количество ошибок:  0\n",
      "extract_sql количество ошибок:  0\n",
      "Закончили генерацию SQL запросов\n",
      "Начали скорр полученных SQL запросов\n"
     ]
    },
    {
     "name": "stderr",
     "output_type": "stream",
     "text": [
      "\n"
     ]
    },
    {
     "name": "stdout",
     "output_type": "stream",
     "text": [
      "Qwen3-32B DEV Финальный результат EX: 57.17\n",
      "Qwen3-32B процент запросов, которые успешно выполнились DEV: 95.18%\n",
      "====================================================================================================\n",
      "\n",
      "\n",
      "Загружаем чаты с данными...\n",
      "Данные успешно загружены\n",
      "Начали генерацию SQL запросов\n"
     ]
    },
    {
     "name": "stderr",
     "output_type": "stream",
     "text": [
      "Processed prompts: 100%|██████████| 1534/1534 [15:45<00:00,  1.62it/s, est. speed input: 2157.67 toks/s, output: 1496.73 toks/s]"
     ]
    },
    {
     "name": "stdout",
     "output_type": "stream",
     "text": [
      "extract_think количество ошибок:  0\n",
      "extract_sql количество ошибок:  1\n",
      "Закончили генерацию SQL запросов\n",
      "Начали скорр полученных SQL запросов\n"
     ]
    },
    {
     "name": "stderr",
     "output_type": "stream",
     "text": [
      "\n"
     ]
    },
    {
     "name": "stdout",
     "output_type": "stream",
     "text": [
      "Qwen3-32B DEV Финальный результат EX: 57.17\n",
      "Qwen3-32B процент запросов, которые успешно выполнились DEV: 96.28%\n",
      "====================================================================================================\n",
      "\n",
      "\n",
      "Загружаем чаты с данными...\n",
      "Данные успешно загружены\n",
      "Начали генерацию SQL запросов\n"
     ]
    },
    {
     "name": "stderr",
     "output_type": "stream",
     "text": [
      "Processed prompts: 100%|██████████| 1534/1534 [14:41<00:00,  1.74it/s, est. speed input: 2314.81 toks/s, output: 1539.96 toks/s]"
     ]
    },
    {
     "name": "stdout",
     "output_type": "stream",
     "text": [
      "extract_think количество ошибок:  0\n",
      "extract_sql количество ошибок:  0\n",
      "Закончили генерацию SQL запросов\n",
      "Начали скорр полученных SQL запросов\n"
     ]
    },
    {
     "name": "stderr",
     "output_type": "stream",
     "text": [
      "\n"
     ]
    },
    {
     "name": "stdout",
     "output_type": "stream",
     "text": [
      "Qwen3-32B DEV Финальный результат EX: 57.30\n",
      "Qwen3-32B процент запросов, которые успешно выполнились DEV: 96.41%\n",
      "====================================================================================================\n",
      "\n",
      "\n",
      "Загружаем чаты с данными...\n",
      "Данные успешно загружены\n",
      "Начали генерацию SQL запросов\n"
     ]
    },
    {
     "name": "stderr",
     "output_type": "stream",
     "text": [
      "Processed prompts: 100%|██████████| 1534/1534 [16:43<00:00,  1.53it/s, est. speed input: 2032.91 toks/s, output: 1425.85 toks/s]"
     ]
    },
    {
     "name": "stdout",
     "output_type": "stream",
     "text": [
      "extract_think количество ошибок:  0\n",
      "extract_sql количество ошибок:  0\n",
      "Закончили генерацию SQL запросов\n",
      "Начали скорр полученных SQL запросов\n"
     ]
    },
    {
     "name": "stderr",
     "output_type": "stream",
     "text": [
      "\n"
     ]
    },
    {
     "name": "stdout",
     "output_type": "stream",
     "text": [
      "Qwen3-32B DEV Финальный результат EX: 57.89\n",
      "Qwen3-32B процент запросов, которые успешно выполнились DEV: 96.02%\n",
      "====================================================================================================\n",
      "\n",
      "\n",
      "Загружаем чаты с данными...\n",
      "Данные успешно загружены\n",
      "Начали генерацию SQL запросов\n"
     ]
    },
    {
     "name": "stderr",
     "output_type": "stream",
     "text": [
      "Processed prompts: 100%|██████████| 1534/1534 [14:59<00:00,  1.71it/s, est. speed input: 2268.48 toks/s, output: 1528.84 toks/s]"
     ]
    },
    {
     "name": "stdout",
     "output_type": "stream",
     "text": [
      "extract_think количество ошибок:  0\n",
      "extract_sql количество ошибок:  0\n",
      "Закончили генерацию SQL запросов\n",
      "Начали скорр полученных SQL запросов\n"
     ]
    },
    {
     "name": "stderr",
     "output_type": "stream",
     "text": [
      "\n"
     ]
    },
    {
     "name": "stdout",
     "output_type": "stream",
     "text": [
      "Qwen3-32B DEV Финальный результат EX: 57.24\n",
      "Qwen3-32B процент запросов, которые успешно выполнились DEV: 95.18%\n",
      "====================================================================================================\n",
      "\n",
      "\n",
      "Загружаем чаты с данными...\n",
      "Данные успешно загружены\n",
      "Начали генерацию SQL запросов\n"
     ]
    },
    {
     "name": "stderr",
     "output_type": "stream",
     "text": [
      "Processed prompts: 100%|██████████| 1534/1534 [15:04<00:00,  1.70it/s, est. speed input: 2256.02 toks/s, output: 1509.16 toks/s]"
     ]
    },
    {
     "name": "stdout",
     "output_type": "stream",
     "text": [
      "extract_think количество ошибок:  0\n",
      "extract_sql количество ошибок:  0\n",
      "Закончили генерацию SQL запросов\n",
      "Начали скорр полученных SQL запросов\n"
     ]
    },
    {
     "name": "stderr",
     "output_type": "stream",
     "text": [
      "\n"
     ]
    },
    {
     "name": "stdout",
     "output_type": "stream",
     "text": [
      "Qwen3-32B DEV Финальный результат EX: 56.26\n",
      "Qwen3-32B процент запросов, которые успешно выполнились DEV: 95.76%\n",
      "====================================================================================================\n",
      "\n",
      "\n",
      "Загружаем чаты с данными...\n",
      "Данные успешно загружены\n",
      "Начали генерацию SQL запросов\n"
     ]
    },
    {
     "name": "stderr",
     "output_type": "stream",
     "text": [
      "Processed prompts: 100%|██████████| 1534/1534 [16:25<00:00,  1.56it/s, est. speed input: 2070.66 toks/s, output: 1492.32 toks/s]"
     ]
    },
    {
     "name": "stdout",
     "output_type": "stream",
     "text": [
      "extract_think количество ошибок:  0\n",
      "extract_sql количество ошибок:  0\n",
      "Закончили генерацию SQL запросов\n",
      "Начали скорр полученных SQL запросов\n"
     ]
    },
    {
     "name": "stderr",
     "output_type": "stream",
     "text": [
      "\n"
     ]
    },
    {
     "name": "stdout",
     "output_type": "stream",
     "text": [
      "Qwen3-32B DEV Финальный результат EX: 58.15\n",
      "Qwen3-32B процент запросов, которые успешно выполнились DEV: 96.15%\n",
      "====================================================================================================\n",
      "\n",
      "\n",
      "Загружаем чаты с данными...\n",
      "Данные успешно загружены\n",
      "Начали генерацию SQL запросов\n"
     ]
    },
    {
     "name": "stderr",
     "output_type": "stream",
     "text": [
      "Processed prompts: 100%|██████████| 1534/1534 [16:09<00:00,  1.58it/s, est. speed input: 2104.13 toks/s, output: 1458.80 toks/s]"
     ]
    },
    {
     "name": "stdout",
     "output_type": "stream",
     "text": [
      "extract_think количество ошибок:  0\n",
      "extract_sql количество ошибок:  0\n",
      "Закончили генерацию SQL запросов\n",
      "Начали скорр полученных SQL запросов\n"
     ]
    },
    {
     "name": "stderr",
     "output_type": "stream",
     "text": [
      "\n"
     ]
    },
    {
     "name": "stdout",
     "output_type": "stream",
     "text": [
      "Qwen3-32B DEV Финальный результат EX: 56.98\n",
      "Qwen3-32B процент запросов, которые успешно выполнились DEV: 95.31%\n",
      "====================================================================================================\n",
      "\n",
      "\n",
      "Загружаем чаты с данными...\n",
      "Данные успешно загружены\n",
      "Начали генерацию SQL запросов\n"
     ]
    },
    {
     "name": "stderr",
     "output_type": "stream",
     "text": [
      "Processed prompts: 100%|██████████| 1534/1534 [14:36<00:00,  1.75it/s, est. speed input: 2329.12 toks/s, output: 1533.67 toks/s]"
     ]
    },
    {
     "name": "stdout",
     "output_type": "stream",
     "text": [
      "extract_think количество ошибок:  0\n",
      "extract_sql количество ошибок:  1\n",
      "Закончили генерацию SQL запросов\n",
      "Начали скорр полученных SQL запросов\n"
     ]
    },
    {
     "name": "stderr",
     "output_type": "stream",
     "text": [
      "\n"
     ]
    },
    {
     "name": "stdout",
     "output_type": "stream",
     "text": [
      "Qwen3-32B DEV Финальный результат EX: 56.65\n",
      "Qwen3-32B процент запросов, которые успешно выполнились DEV: 95.83%\n",
      "====================================================================================================\n",
      "\n",
      "\n",
      "Загружаем чаты с данными...\n",
      "Данные успешно загружены\n",
      "Начали генерацию SQL запросов\n"
     ]
    },
    {
     "name": "stderr",
     "output_type": "stream",
     "text": [
      "Processed prompts: 100%|██████████| 1534/1534 [16:55<00:00,  1.51it/s, est. speed input: 2008.50 toks/s, output: 1426.26 toks/s]"
     ]
    },
    {
     "name": "stdout",
     "output_type": "stream",
     "text": [
      "extract_think количество ошибок:  0\n",
      "extract_sql количество ошибок:  0\n",
      "Закончили генерацию SQL запросов\n",
      "Начали скорр полученных SQL запросов\n"
     ]
    },
    {
     "name": "stderr",
     "output_type": "stream",
     "text": [
      "\n"
     ]
    },
    {
     "name": "stdout",
     "output_type": "stream",
     "text": [
      "Qwen3-32B DEV Финальный результат EX: 56.39\n",
      "Qwen3-32B процент запросов, которые успешно выполнились DEV: 95.70%\n",
      "====================================================================================================\n",
      "\n",
      "\n",
      "Загружаем чаты с данными...\n",
      "Данные успешно загружены\n",
      "Начали генерацию SQL запросов\n"
     ]
    },
    {
     "name": "stderr",
     "output_type": "stream",
     "text": [
      "Processed prompts: 100%|██████████| 1534/1534 [15:53<00:00,  1.61it/s, est. speed input: 2140.89 toks/s, output: 1446.63 toks/s]"
     ]
    },
    {
     "name": "stdout",
     "output_type": "stream",
     "text": [
      "extract_think количество ошибок:  0\n",
      "extract_sql количество ошибок:  0\n",
      "Закончили генерацию SQL запросов\n",
      "Начали скорр полученных SQL запросов\n"
     ]
    },
    {
     "name": "stderr",
     "output_type": "stream",
     "text": [
      "\n"
     ]
    },
    {
     "name": "stdout",
     "output_type": "stream",
     "text": [
      "Qwen3-32B DEV Финальный результат EX: 57.17\n",
      "Qwen3-32B процент запросов, которые успешно выполнились DEV: 96.35%\n",
      "====================================================================================================\n",
      "\n",
      "\n",
      "Загружаем чаты с данными...\n",
      "Данные успешно загружены\n",
      "Начали генерацию SQL запросов\n"
     ]
    },
    {
     "name": "stderr",
     "output_type": "stream",
     "text": [
      "Processed prompts: 100%|██████████| 1534/1534 [15:34<00:00,  1.64it/s, est. speed input: 2184.32 toks/s, output: 1477.07 toks/s]"
     ]
    },
    {
     "name": "stdout",
     "output_type": "stream",
     "text": [
      "extract_think количество ошибок:  0\n",
      "extract_sql количество ошибок:  0\n",
      "Закончили генерацию SQL запросов\n",
      "Начали скорр полученных SQL запросов\n"
     ]
    },
    {
     "name": "stderr",
     "output_type": "stream",
     "text": [
      "\n"
     ]
    },
    {
     "name": "stdout",
     "output_type": "stream",
     "text": [
      "Qwen3-32B DEV Финальный результат EX: 57.43\n",
      "Qwen3-32B процент запросов, которые успешно выполнились DEV: 95.96%\n",
      "====================================================================================================\n",
      "\n",
      "\n",
      "Загружаем чаты с данными...\n",
      "Данные успешно загружены\n",
      "Начали генерацию SQL запросов\n"
     ]
    },
    {
     "name": "stderr",
     "output_type": "stream",
     "text": [
      "Processed prompts: 100%|██████████| 1534/1534 [15:50<00:00,  1.61it/s, est. speed input: 2146.24 toks/s, output: 1496.01 toks/s]"
     ]
    },
    {
     "name": "stdout",
     "output_type": "stream",
     "text": [
      "extract_think количество ошибок:  0\n",
      "extract_sql количество ошибок:  0\n",
      "Закончили генерацию SQL запросов\n",
      "Начали скорр полученных SQL запросов\n"
     ]
    },
    {
     "name": "stderr",
     "output_type": "stream",
     "text": [
      "\n"
     ]
    },
    {
     "name": "stdout",
     "output_type": "stream",
     "text": [
      "Qwen3-32B DEV Финальный результат EX: 57.30\n",
      "Qwen3-32B процент запросов, которые успешно выполнились DEV: 96.28%\n",
      "====================================================================================================\n",
      "\n",
      "\n",
      "Загружаем чаты с данными...\n",
      "Данные успешно загружены\n",
      "Начали генерацию SQL запросов\n"
     ]
    },
    {
     "name": "stderr",
     "output_type": "stream",
     "text": [
      "Processed prompts: 100%|██████████| 1534/1534 [16:01<00:00,  1.60it/s, est. speed input: 2122.52 toks/s, output: 1483.11 toks/s]"
     ]
    },
    {
     "name": "stdout",
     "output_type": "stream",
     "text": [
      "extract_think количество ошибок:  0\n",
      "extract_sql количество ошибок:  0\n",
      "Закончили генерацию SQL запросов\n",
      "Начали скорр полученных SQL запросов\n"
     ]
    },
    {
     "name": "stderr",
     "output_type": "stream",
     "text": [
      "\n"
     ]
    },
    {
     "name": "stdout",
     "output_type": "stream",
     "text": [
      "Qwen3-32B DEV Финальный результат EX: 57.24\n",
      "Qwen3-32B процент запросов, которые успешно выполнились DEV: 95.89%\n",
      "====================================================================================================\n",
      "\n",
      "\n",
      "Загружаем чаты с данными...\n",
      "Данные успешно загружены\n",
      "Начали генерацию SQL запросов\n"
     ]
    },
    {
     "name": "stderr",
     "output_type": "stream",
     "text": [
      "Processed prompts: 100%|██████████| 1534/1534 [15:22<00:00,  1.66it/s, est. speed input: 2211.10 toks/s, output: 1492.13 toks/s]"
     ]
    },
    {
     "name": "stdout",
     "output_type": "stream",
     "text": [
      "extract_think количество ошибок:  0\n",
      "extract_sql количество ошибок:  0\n",
      "Закончили генерацию SQL запросов\n",
      "Начали скорр полученных SQL запросов\n"
     ]
    },
    {
     "name": "stderr",
     "output_type": "stream",
     "text": [
      "\n"
     ]
    },
    {
     "name": "stdout",
     "output_type": "stream",
     "text": [
      "Qwen3-32B DEV Финальный результат EX: 57.11\n",
      "Qwen3-32B процент запросов, которые успешно выполнились DEV: 95.89%\n",
      "====================================================================================================\n",
      "\n",
      "\n",
      "Загружаем чаты с данными...\n",
      "Данные успешно загружены\n",
      "Начали генерацию SQL запросов\n"
     ]
    },
    {
     "name": "stderr",
     "output_type": "stream",
     "text": [
      "Processed prompts: 100%|██████████| 1534/1534 [15:14<00:00,  1.68it/s, est. speed input: 2231.22 toks/s, output: 1494.37 toks/s]"
     ]
    },
    {
     "name": "stdout",
     "output_type": "stream",
     "text": [
      "extract_think количество ошибок:  0\n",
      "extract_sql количество ошибок:  0\n",
      "Закончили генерацию SQL запросов\n",
      "Начали скорр полученных SQL запросов\n"
     ]
    },
    {
     "name": "stderr",
     "output_type": "stream",
     "text": [
      "\n"
     ]
    },
    {
     "name": "stdout",
     "output_type": "stream",
     "text": [
      "Qwen3-32B DEV Финальный результат EX: 57.95\n",
      "Qwen3-32B процент запросов, которые успешно выполнились DEV: 96.41%\n",
      "====================================================================================================\n",
      "\n",
      "\n",
      "Загружаем чаты с данными...\n",
      "Данные успешно загружены\n",
      "Начали генерацию SQL запросов\n"
     ]
    },
    {
     "name": "stderr",
     "output_type": "stream",
     "text": [
      "Processed prompts: 100%|██████████| 1534/1534 [14:47<00:00,  1.73it/s, est. speed input: 2298.81 toks/s, output: 1503.99 toks/s]"
     ]
    },
    {
     "name": "stdout",
     "output_type": "stream",
     "text": [
      "extract_think количество ошибок:  0\n",
      "extract_sql количество ошибок:  0\n",
      "Закончили генерацию SQL запросов\n",
      "Начали скорр полученных SQL запросов\n"
     ]
    },
    {
     "name": "stderr",
     "output_type": "stream",
     "text": [
      "\n"
     ]
    },
    {
     "name": "stdout",
     "output_type": "stream",
     "text": [
      "Qwen3-32B DEV Финальный результат EX: 58.02\n",
      "Qwen3-32B процент запросов, которые успешно выполнились DEV: 95.89%\n",
      "====================================================================================================\n",
      "\n",
      "\n",
      "Загружаем чаты с данными...\n",
      "Данные успешно загружены\n",
      "Начали генерацию SQL запросов\n"
     ]
    },
    {
     "name": "stderr",
     "output_type": "stream",
     "text": [
      "Processed prompts: 100%|██████████| 1534/1534 [15:36<00:00,  1.64it/s, est. speed input: 2179.63 toks/s, output: 1524.15 toks/s]"
     ]
    },
    {
     "name": "stdout",
     "output_type": "stream",
     "text": [
      "extract_think количество ошибок:  0\n",
      "extract_sql количество ошибок:  1\n",
      "Закончили генерацию SQL запросов\n",
      "Начали скорр полученных SQL запросов\n"
     ]
    },
    {
     "name": "stderr",
     "output_type": "stream",
     "text": [
      "\n"
     ]
    },
    {
     "name": "stdout",
     "output_type": "stream",
     "text": [
      "Qwen3-32B DEV Финальный результат EX: 56.91\n",
      "Qwen3-32B процент запросов, которые успешно выполнились DEV: 96.02%\n",
      "====================================================================================================\n",
      "\n",
      "\n"
     ]
    }
   ],
   "source": [
    "run_think_experiment(model,arr_seeds,arr_versions)"
   ]
  },
  {
   "cell_type": "markdown",
   "id": "81c34c01-00c6-498b-b626-e0452ab4ddb6",
   "metadata": {},
   "source": [
    "## Выводим средний скорр think подхода"
   ]
  },
  {
   "cell_type": "code",
   "execution_count": 4,
   "id": "1e66fa7c-ddda-472d-93a3-2d563b0129df",
   "metadata": {},
   "outputs": [],
   "source": [
    "import pickle"
   ]
  },
  {
   "cell_type": "code",
   "execution_count": 5,
   "id": "ce529050-623f-4d4f-bfac-9ab5d43e2c4a",
   "metadata": {},
   "outputs": [],
   "source": [
    "def load_results(k):\n",
    "    with open(f\"/data/home/vkropoti/sql_llm_answers/bird_dev/sql_results_{model}-reasoning-v{k}\", \"rb\") as fp:\n",
    "        results = np.array(pickle.load(fp))\n",
    "    return results"
   ]
  },
  {
   "cell_type": "code",
   "execution_count": 6,
   "id": "53838cd4-51fb-42d2-88c5-340999184bba",
   "metadata": {},
   "outputs": [],
   "source": [
    "def load_executed(k):\n",
    "    with open(f\"/data/home/vkropoti/sql_llm_answers/bird_dev/sql_executed_{model}-reasoning-v{k}\", \"rb\") as fp:\n",
    "        executed = np.array(pickle.load(fp))\n",
    "    return executed"
   ]
  },
  {
   "cell_type": "code",
   "execution_count": 7,
   "id": "c4defcb9-0814-4f71-8080-a3e3c52317ac",
   "metadata": {},
   "outputs": [],
   "source": [
    "def get_think_results(name,n):\n",
    "    arr_mean_scores = []\n",
    "    arr_mean_executed = []\n",
    "    for i in range(n):\n",
    "        results, executed = load_results(i), load_executed(i)\n",
    "        arr_mean_scores.append(np.mean(results))\n",
    "        arr_mean_executed.append(np.mean(executed))\n",
    "        \n",
    "    print(f\"{name} DEV Финальный результат EX: {np.mean(np.array(arr_mean_scores)):.3f}, при std: {np.std(np.array(arr_mean_scores)):.3f}\")\n",
    "    print(f\"{name} процент запросов, которые успешно выполнились DEV: {np.mean(np.array(arr_mean_executed)):.3f}, при std: {np.std(np.array(arr_mean_executed)):.3f}\")\n",
    "    "
   ]
  },
  {
   "cell_type": "code",
   "execution_count": 8,
   "id": "9f57e1a5-7e57-4e87-9f42-e4a844087e40",
   "metadata": {},
   "outputs": [
    {
     "name": "stdout",
     "output_type": "stream",
     "text": [
      "Qwen3-32B DEV Финальный результат EX: 0.573, при std: 0.005\n",
      "Qwen3-32B процент запросов, которые успешно выполнились DEV: 0.959, при std: 0.004\n"
     ]
    }
   ],
   "source": [
    "# все 50\n",
    "get_think_results(model,20)"
   ]
  }
 ],
 "metadata": {
  "kernelspec": {
   "display_name": "vllm",
   "language": "python",
   "name": "vllm"
  },
  "language_info": {
   "codemirror_mode": {
    "name": "ipython",
    "version": 3
   },
   "file_extension": ".py",
   "mimetype": "text/x-python",
   "name": "python",
   "nbconvert_exporter": "python",
   "pygments_lexer": "ipython3",
   "version": "3.12.4"
  }
 },
 "nbformat": 4,
 "nbformat_minor": 5
}
