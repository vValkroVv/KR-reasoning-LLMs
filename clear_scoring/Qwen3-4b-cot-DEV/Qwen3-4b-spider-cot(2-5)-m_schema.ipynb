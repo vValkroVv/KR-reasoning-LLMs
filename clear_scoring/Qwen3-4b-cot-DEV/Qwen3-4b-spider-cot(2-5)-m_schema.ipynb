{
 "cells": [
  {
   "cell_type": "code",
   "execution_count": 1,
   "id": "6f20e5ea-3a64-4bfa-8502-13bb8469c893",
   "metadata": {},
   "outputs": [],
   "source": [
    "import os, sys\n",
    "sys.path.append(\"/home/vkropoti/vllm\")"
   ]
  },
  {
   "cell_type": "code",
   "execution_count": 2,
   "id": "4fc844b5-83f1-48aa-a6c8-3d93f16a861d",
   "metadata": {},
   "outputs": [
    {
     "name": "stdout",
     "output_type": "stream",
     "text": [
      "INFO 05-27 02:45:42 [__init__.py:239] Automatically detected platform cuda.\n"
     ]
    },
    {
     "name": "stderr",
     "output_type": "stream",
     "text": [
      "2025-05-27 02:45:43,845\tINFO util.py:154 -- Missing packages: ['ipywidgets']. Run `pip install -U ipywidgets`, then restart the notebook server for rich notebook output.\n"
     ]
    }
   ],
   "source": [
    "from src.experiment import run_cot_experiment\n",
    "import random\n",
    "import numpy as np"
   ]
  },
  {
   "cell_type": "markdown",
   "id": "56cbd008-e8be-44cd-a2f8-83886376560e",
   "metadata": {},
   "source": [
    "# part1: reasoning+answer"
   ]
  },
  {
   "cell_type": "markdown",
   "id": "1d4174ff-32eb-4901-9b13-dfc26f6bd8e3",
   "metadata": {},
   "source": [
    "### 2 наблюдения"
   ]
  },
  {
   "cell_type": "code",
   "execution_count": 3,
   "id": "5635dae6-2ae1-4d4d-af1f-dfcd7abc923b",
   "metadata": {},
   "outputs": [
    {
     "name": "stdout",
     "output_type": "stream",
     "text": [
      "[667, 808, 452, 659, 972, 59, 602, 80, 303, 17, 56, 111, 466, 80, 862, 647, 50, 509, 110, 696]\n",
      "model: Qwen3-4B\n"
     ]
    }
   ],
   "source": [
    "n= 20\n",
    "arr_seeds = [random.randint(0,1000) for _ in range(n)]\n",
    "arr_versions = [x for x in range(n)]\n",
    "model = \"Qwen3-4B\"\n",
    "num_observations = 2\n",
    "type_cot = 'all_new'\n",
    "print(arr_seeds)\n",
    "print(f\"model: {model}\")"
   ]
  },
  {
   "cell_type": "code",
   "execution_count": 4,
   "id": "499630a1-5ce2-4867-9648-dc199d088be4",
   "metadata": {
    "scrolled": true
   },
   "outputs": [
    {
     "name": "stdout",
     "output_type": "stream",
     "text": [
      "Загружаем модель...\n"
     ]
    },
    {
     "name": "stderr",
     "output_type": "stream",
     "text": [
      "Loading safetensors checkpoint shards:   0% Completed | 0/3 [00:00<?, ?it/s]\n",
      "Loading safetensors checkpoint shards:  33% Completed | 1/3 [00:00<00:01,  1.04it/s]\n",
      "Loading safetensors checkpoint shards: 100% Completed | 3/3 [00:02<00:00,  1.27it/s]\n",
      "Loading safetensors checkpoint shards: 100% Completed | 3/3 [00:02<00:00,  1.24it/s]\n",
      "\u001b[1;36m(VllmWorker rank=0 pid=3303530)\u001b[0;0m \n"
     ]
    },
    {
     "name": "stdout",
     "output_type": "stream",
     "text": [
      "Модель успешно загружена\n",
      "model_config {'model': '/data/home/vkropoti/models/Qwen3-4B', 'tensor_parallel_size': 2, 'max_model_len': 40000, 'max_new_tokens': 1500, 'temperature': 0, 'top_k': 1, 'top_p': 0.8, 'gpu_memory_utilization': 0.9, 'trust_remote_code': False, 'seed': 667}\n",
      "\n",
      "prompts_config {'path_dev_json': '/data/home/vkropoti/sql_data/dev_spider.json', 'path_sql_dbs': '/data/home/vkropoti/sql_data/data_bases_spider/', 'use_reasoning': False, 'paths_to_cot': ['/data/home/vkropoti/sql_llm_answers/spider_dev_m_schema/sql_all_new_Qwen3-4B-reasoning-v0', '/data/home/vkropoti/sql_llm_answers/spider_dev_m_schema/sql_all_new_Qwen3-4B-reasoning-v1']}\n",
      "\n",
      "save_config {'path_sql_save': '/data/home/vkropoti/sql_llm_answers/spider_dev_m_schema/sql_all_Qwen3-4B-cot_all_new_think==False_nobs2-v0', 'path_think_save': None, 'path_sql_answers_save': '/data/home/vkropoti/sql_llm_answers/spider_dev_m_schema/sql_predict_Qwen3-4B-cot_all_new_think==False_nobs2-v0', 'path_to_save_scores': '/data/home/vkropoti/sql_llm_answers/spider_dev_m_schema/sql_results_Qwen3-4B-cot_all_new_think==False_nobs2-v0', 'path_to_save_executed': '/data/home/vkropoti/sql_llm_answers/spider_dev_m_schema/sql_executed_Qwen3-4B-cot_all_new_think==False_nobs2-v0'}\n",
      "\n",
      "Модель успешно загружена\n",
      "Пример промпта\n",
      "<|im_start|>system\n",
      "\n",
      "You are a data science expert. Below, you are provided with a database schema and a natural language question. Your task is to understand the schema and generate a valid SQL query to answer the question.\n",
      "\n",
      "Database Engine: SQLite\n",
      "\n",
      "You will be given an additional analysis of other models, please take it into account, so the plan is\n",
      "1. Analyse given addition analysis from other models (find in which analysis the same and differ, how to use that to answer question)\n",
      "2. Combine best from previous part and think how to solve the problem (analyze tables, take care what columns avaliable in each table and so on, check the syntacsis)\n",
      "3. Create the answers. The answer should be only sql query.\n",
      "\n",
      "Carefully follow the instruction and add <|im_end|> and the end of the final answer<|im_end|>\n",
      "<|im_start|>user\n",
      "Here is addition analysis from other models which can be helpfull, please take this into account but be careful (choose the best from each analysis, combine them to make the most proper answer):\n",
      "\n",
      "model 0 analysis:\n",
      " Reasoning process:\n",
      "\n",
      "Okay, let's see. The user is asking \"How many singers do we have?\" So I need to find the number of singers in the database.\n",
      "\n",
      "Looking at the tables provided, there's a 'singer' table. The 'singer' table has a primary key 'Singer_ID', which uniquely identifies each singer. So the number of singers should be the count of distinct Singer_IDs in the singer table.\n",
      "\n",
      "Wait, but maybe there's a possibility of duplicates? But since Singer_ID is the primary key, each entry is unique. So just counting the number of rows in the singer table would give the correct number. Alternatively, using COUNT(*) or COUNT(Singer_ID) would work.\n",
      "\n",
      "But the question is about the number of singers, so the answer is the count of all entries in the singer table. So the SQL query should be SELECT COUNT(*) FROM singer;.\n",
      "\n",
      "Let me check if there are any other tables that might have singer information. The 'singer_in_concert' table links singers to concerts, but that's a many-to-many relationship. The 'singer' table itself contains all the singers. So the correct approach is to count the rows in the singer table.\n",
      "\n",
      "Yes, so the correct SQL is to select the count of all rows from the singer table. That should give the total number of singers.\n",
      "\n",
      "Final answer based om reasoning for this model:\n",
      "\n",
      "\n",
      "```\n",
      "SELECT COUNT(*) FROM singer;\n",
      "```\n",
      "\n",
      "model 1 analysis:\n",
      " Reasoning process:\n",
      "\n",
      "Okay, let's see. The user is asking \"How many singers do we have?\" So I need to find the number of singers in the database.\n",
      "\n",
      "Looking at the tables, there's a 'singer' table. The 'singer' table has a primary key 'Singer_ID', which is an integer. Each row in this table represents a singer. So the number of singers should be the count of distinct Singer_IDs in the singer table.\n",
      "\n",
      "Wait, but maybe there's a possibility of duplicates? But since Singer_ID is the primary key, each entry is unique. So just counting the number of rows in the singer table would give the correct count.\n",
      "\n",
      "Alternatively, using COUNT(*) would also work. But since the question is about the number of singers, which is the count of distinct entries, either COUNT(*) or COUNT(Singer_ID) would work. But since Singer_ID is the primary key, it's guaranteed to be unique, so COUNT(*) is sufficient.\n",
      "\n",
      "So the SQL query would be SELECT COUNT(*) FROM singer;\n",
      "\n",
      "I need to make sure that the table name is correct. The table is called 'singer' as per the schema provided. The columns are correctly named. No need to join with other tables because the question is straightforward—just the count of singers in the singer table.\n",
      "\n",
      "Yes, that's it. The answer should be a simple SELECT COUNT(*) FROM singer;\n",
      "\n",
      "Final answer based om reasoning for this model:\n",
      "\n",
      "\n",
      "```\n",
      "SELECT COUNT(*) FROM singer;\n",
      "```\n",
      "\n",
      "\n",
      "here is avaliable tables and their structure below\n",
      "【DB_ID】 concert_singer\n",
      "【Schema】\n",
      "# Table: concert\n",
      "[\n",
      "(concert_ID:INTEGER, Primary Key, Examples: [1, 2, 3]),\n",
      "(concert_Name:TEXT, Examples: [Auditions, Super bootcamp, Home Visits]),\n",
      "(Theme:TEXT, Examples: [Free choice, Free choice 2, Bleeding Love]),\n",
      "(Stadium_ID:TEXT, maps to stadium.Stadium_ID, Examples: [1, 2, 10]),\n",
      "(Year:TEXT, Examples: [2014, 2015, 2016])\n",
      "]\n",
      "# Table: singer\n",
      "[\n",
      "(Singer_ID:INTEGER, Primary Key, Examples: [1, 2, 3]),\n",
      "(Name:TEXT, Examples: [Joe Sharp, Timbaland, Justin Brown]),\n",
      "(Country:TEXT, Examples: [Netherlands, United States, France]),\n",
      "(Song_Name:TEXT, Examples: [You, Dangerous, Hey Oh]),\n",
      "(Song_release_year:TEXT, Examples: [1992, 2008, 2013]),\n",
      "(Age:INTEGER, Examples: [52, 32, 29]),\n",
      "(Is_male:BOOLEAN, Examples: [False, True])\n",
      "]\n",
      "# Table: singer_in_concert\n",
      "[\n",
      "(concert_ID:INTEGER, maps to concert.concert_ID, Primary Key, Examples: [1, 2, 3]),\n",
      "(Singer_ID:TEXT, maps to singer.Singer_ID, Primary Key, Examples: [2, 3, 5])\n",
      "]\n",
      "# Table: stadium\n",
      "[\n",
      "(Stadium_ID:INTEGER, Primary Key, Examples: [1, 2, 3]),\n",
      "(Location:TEXT, Examples: [Raith Rovers, Ayr United, East Fife]),\n",
      "(Name:TEXT, Examples: [Stark's Park, Somerset Park, Bayview Stadium]),\n",
      "(Capacity:INTEGER, Examples: [10104, 11998, 2000]),\n",
      "(Highest:INTEGER, Examples: [4812, 2363, 1980]),\n",
      "(Lowest:INTEGER, Examples: [1294, 1057, 533]),\n",
      "(Average:INTEGER, Examples: [2106, 1477, 864])\n",
      "]\n",
      "【Foreign keys】\n",
      "concert.Stadium_ID=stadium.Stadium_ID\n",
      "singer_in_concert.concert_ID=concert.concert_ID\n",
      "singer_in_concert.Singer_ID=singer.Singer_ID\n",
      "\n",
      "-- Using valid SQLite, answer the following questions for the tables provided above.\n",
      "-- How many singers do we have?\n",
      "\n",
      "\n",
      "\n",
      "Generate the SQLite for the above question after thinking step by step: \n",
      "\n",
      "\n",
      "Instructions:\n",
      "- Make sure you only output the information that is asked in the question. If the question asks for a specific column, make sure to only include that column in the SELECT clause, nothing more.\n",
      "- The generated query should return all of the information asked in the question without any missing or extra information.\n",
      "- Before generating the final SQL query, please think through the steps of how to write the query.\n",
      "- Do not misuse column names, keep them in quotes `\n",
      "- Carefully understand what colomns belond to what tables\n",
      "- Use only initial column names, change names prohibited\n",
      "        \n",
      "Output Format:\n",
      "In your answer, please enclose the generated SQL query in a code block:\n",
      "```\n",
      "-- Your SQL query\n",
      "```    \n",
      "and nothing else, no exaplains, no comments (asnwer should be less than 512 characters)\n",
      "\n",
      "Take a deep breath and think step by step to find the correct SQL query in SQLite format.\n",
      "\n",
      "Question repetition: How many singers do we have?\n",
      "\n",
      "Be care! Include only what i want it questiona and nothing else<|im_end|>\n",
      "<|im_start|>assistant\n",
      "<think>\n",
      "\n",
      "</think>\n",
      "\n",
      "\n",
      "\n",
      "\n",
      "Максимальное количество токенов в промптах: 11062\n",
      "\n",
      "начинаем скорринг\n",
      "Загружаем чаты с данными...\n",
      "Данные успешно загружены\n",
      "Начали генерацию SQL запросов\n"
     ]
    },
    {
     "name": "stderr",
     "output_type": "stream",
     "text": [
      "Processed prompts: 100%|██████████| 1076/1076 [00:34<00:00, 31.60it/s, est. speed input: 76919.12 toks/s, output: 1044.44 toks/s] "
     ]
    },
    {
     "name": "stdout",
     "output_type": "stream",
     "text": [
      "extract_think количество ошибок:  0\n",
      "extract_sql количество ошибок:  0\n",
      "Закончили генерацию SQL запросов\n",
      "Начали скорр полученных SQL запросов\n"
     ]
    },
    {
     "name": "stderr",
     "output_type": "stream",
     "text": [
      "\n"
     ]
    },
    {
     "name": "stdout",
     "output_type": "stream",
     "text": [
      "Qwen3-4B DEV Финальный результат EX: 74.16\n",
      "Qwen3-4B процент запросов, которые успешно выполнились DEV: 98.33%\n",
      "====================================================================================================\n",
      "\n",
      "\n",
      "Загружаем чаты с данными...\n",
      "Данные успешно загружены\n",
      "Начали генерацию SQL запросов\n"
     ]
    },
    {
     "name": "stderr",
     "output_type": "stream",
     "text": [
      "Processed prompts: 100%|██████████| 1076/1076 [00:34<00:00, 30.85it/s, est. speed input: 76193.50 toks/s, output: 1013.40 toks/s]"
     ]
    },
    {
     "name": "stdout",
     "output_type": "stream",
     "text": [
      "extract_think количество ошибок:  0\n",
      "extract_sql количество ошибок:  0\n",
      "Закончили генерацию SQL запросов\n",
      "Начали скорр полученных SQL запросов\n"
     ]
    },
    {
     "name": "stderr",
     "output_type": "stream",
     "text": [
      "\n"
     ]
    },
    {
     "name": "stdout",
     "output_type": "stream",
     "text": [
      "Qwen3-4B DEV Финальный результат EX: 73.79\n",
      "Qwen3-4B процент запросов, которые успешно выполнились DEV: 98.05%\n",
      "====================================================================================================\n",
      "\n",
      "\n",
      "Загружаем чаты с данными...\n",
      "Данные успешно загружены\n",
      "Начали генерацию SQL запросов\n"
     ]
    },
    {
     "name": "stderr",
     "output_type": "stream",
     "text": [
      "Processed prompts: 100%|██████████| 1076/1076 [00:34<00:00, 31.18it/s, est. speed input: 76568.46 toks/s, output: 1016.61 toks/s] "
     ]
    },
    {
     "name": "stdout",
     "output_type": "stream",
     "text": [
      "extract_think количество ошибок:  0\n",
      "extract_sql количество ошибок:  0\n",
      "Закончили генерацию SQL запросов\n",
      "Начали скорр полученных SQL запросов\n"
     ]
    },
    {
     "name": "stderr",
     "output_type": "stream",
     "text": [
      "\n"
     ]
    },
    {
     "name": "stdout",
     "output_type": "stream",
     "text": [
      "Qwen3-4B DEV Финальный результат EX: 73.98\n",
      "Qwen3-4B процент запросов, которые успешно выполнились DEV: 98.42%\n",
      "====================================================================================================\n",
      "\n",
      "\n",
      "Загружаем чаты с данными...\n",
      "Данные успешно загружены\n",
      "Начали генерацию SQL запросов\n"
     ]
    },
    {
     "name": "stderr",
     "output_type": "stream",
     "text": [
      "Processed prompts: 100%|██████████| 1076/1076 [00:34<00:00, 31.03it/s, est. speed input: 75673.26 toks/s, output: 1023.79 toks/s] "
     ]
    },
    {
     "name": "stdout",
     "output_type": "stream",
     "text": [
      "extract_think количество ошибок:  0\n",
      "extract_sql количество ошибок:  0\n",
      "Закончили генерацию SQL запросов\n",
      "Начали скорр полученных SQL запросов\n"
     ]
    },
    {
     "name": "stderr",
     "output_type": "stream",
     "text": [
      "\n"
     ]
    },
    {
     "name": "stdout",
     "output_type": "stream",
     "text": [
      "Qwen3-4B DEV Финальный результат EX: 73.42\n",
      "Qwen3-4B процент запросов, которые успешно выполнились DEV: 98.33%\n",
      "====================================================================================================\n",
      "\n",
      "\n",
      "Загружаем чаты с данными...\n",
      "Данные успешно загружены\n",
      "Начали генерацию SQL запросов\n"
     ]
    },
    {
     "name": "stderr",
     "output_type": "stream",
     "text": [
      "Processed prompts: 100%|██████████| 1076/1076 [00:34<00:00, 31.09it/s, est. speed input: 76191.48 toks/s, output: 1018.74 toks/s] "
     ]
    },
    {
     "name": "stdout",
     "output_type": "stream",
     "text": [
      "extract_think количество ошибок:  0\n",
      "extract_sql количество ошибок:  0\n",
      "Закончили генерацию SQL запросов\n",
      "Начали скорр полученных SQL запросов\n"
     ]
    },
    {
     "name": "stderr",
     "output_type": "stream",
     "text": [
      "\n"
     ]
    },
    {
     "name": "stdout",
     "output_type": "stream",
     "text": [
      "Qwen3-4B DEV Финальный результат EX: 74.44\n",
      "Qwen3-4B процент запросов, которые успешно выполнились DEV: 98.79%\n",
      "====================================================================================================\n",
      "\n",
      "\n",
      "Загружаем чаты с данными...\n",
      "Данные успешно загружены\n",
      "Начали генерацию SQL запросов\n"
     ]
    },
    {
     "name": "stderr",
     "output_type": "stream",
     "text": [
      "Processed prompts: 100%|██████████| 1076/1076 [00:34<00:00, 30.86it/s, est. speed input: 75661.67 toks/s, output: 1004.82 toks/s]"
     ]
    },
    {
     "name": "stdout",
     "output_type": "stream",
     "text": [
      "extract_think количество ошибок:  0\n",
      "extract_sql количество ошибок:  0\n",
      "Закончили генерацию SQL запросов\n",
      "Начали скорр полученных SQL запросов\n"
     ]
    },
    {
     "name": "stderr",
     "output_type": "stream",
     "text": [
      "\n"
     ]
    },
    {
     "name": "stdout",
     "output_type": "stream",
     "text": [
      "Qwen3-4B DEV Финальный результат EX: 73.70\n",
      "Qwen3-4B процент запросов, которые успешно выполнились DEV: 98.61%\n",
      "====================================================================================================\n",
      "\n",
      "\n",
      "Загружаем чаты с данными...\n",
      "Данные успешно загружены\n",
      "Начали генерацию SQL запросов\n"
     ]
    },
    {
     "name": "stderr",
     "output_type": "stream",
     "text": [
      "Processed prompts: 100%|██████████| 1076/1076 [00:34<00:00, 31.25it/s, est. speed input: 76404.23 toks/s, output: 1028.05 toks/s] "
     ]
    },
    {
     "name": "stdout",
     "output_type": "stream",
     "text": [
      "extract_think количество ошибок:  0\n",
      "extract_sql количество ошибок:  0\n",
      "Закончили генерацию SQL запросов\n",
      "Начали скорр полученных SQL запросов\n"
     ]
    },
    {
     "name": "stderr",
     "output_type": "stream",
     "text": [
      "\n"
     ]
    },
    {
     "name": "stdout",
     "output_type": "stream",
     "text": [
      "Qwen3-4B DEV Финальный результат EX: 74.54\n",
      "Qwen3-4B процент запросов, которые успешно выполнились DEV: 98.79%\n",
      "====================================================================================================\n",
      "\n",
      "\n",
      "Загружаем чаты с данными...\n",
      "Данные успешно загружены\n",
      "Начали генерацию SQL запросов\n"
     ]
    },
    {
     "name": "stderr",
     "output_type": "stream",
     "text": [
      "Processed prompts: 100%|██████████| 1076/1076 [00:35<00:00, 30.43it/s, est. speed input: 74526.12 toks/s, output: 987.82 toks/s] "
     ]
    },
    {
     "name": "stdout",
     "output_type": "stream",
     "text": [
      "extract_think количество ошибок:  0\n",
      "extract_sql количество ошибок:  0\n",
      "Закончили генерацию SQL запросов\n",
      "Начали скорр полученных SQL запросов\n"
     ]
    },
    {
     "name": "stderr",
     "output_type": "stream",
     "text": [
      "\n"
     ]
    },
    {
     "name": "stdout",
     "output_type": "stream",
     "text": [
      "Qwen3-4B DEV Финальный результат EX: 74.07\n",
      "Qwen3-4B процент запросов, которые успешно выполнились DEV: 98.33%\n",
      "====================================================================================================\n",
      "\n",
      "\n",
      "Загружаем чаты с данными...\n",
      "Данные успешно загружены\n",
      "Начали генерацию SQL запросов\n"
     ]
    },
    {
     "name": "stderr",
     "output_type": "stream",
     "text": [
      "Processed prompts: 100%|██████████| 1076/1076 [00:35<00:00, 30.22it/s, est. speed input: 74859.44 toks/s, output: 1002.43 toks/s]"
     ]
    },
    {
     "name": "stdout",
     "output_type": "stream",
     "text": [
      "extract_think количество ошибок:  0\n",
      "extract_sql количество ошибок:  0\n",
      "Закончили генерацию SQL запросов\n",
      "Начали скорр полученных SQL запросов\n"
     ]
    },
    {
     "name": "stderr",
     "output_type": "stream",
     "text": [
      "\n"
     ]
    },
    {
     "name": "stdout",
     "output_type": "stream",
     "text": [
      "Qwen3-4B DEV Финальный результат EX: 73.70\n",
      "Qwen3-4B процент запросов, которые успешно выполнились DEV: 98.33%\n",
      "====================================================================================================\n",
      "\n",
      "\n",
      "Загружаем чаты с данными...\n",
      "Данные успешно загружены\n",
      "Начали генерацию SQL запросов\n"
     ]
    },
    {
     "name": "stderr",
     "output_type": "stream",
     "text": [
      "Processed prompts: 100%|██████████| 1076/1076 [00:35<00:00, 30.72it/s, est. speed input: 75145.77 toks/s, output: 1009.49 toks/s]"
     ]
    },
    {
     "name": "stdout",
     "output_type": "stream",
     "text": [
      "extract_think количество ошибок:  0\n",
      "extract_sql количество ошибок:  0\n",
      "Закончили генерацию SQL запросов\n",
      "Начали скорр полученных SQL запросов\n"
     ]
    },
    {
     "name": "stderr",
     "output_type": "stream",
     "text": [
      "\n"
     ]
    },
    {
     "name": "stdout",
     "output_type": "stream",
     "text": [
      "Qwen3-4B DEV Финальный результат EX: 74.16\n",
      "Qwen3-4B процент запросов, которые успешно выполнились DEV: 98.98%\n",
      "====================================================================================================\n",
      "\n",
      "\n",
      "Загружаем чаты с данными...\n",
      "Данные успешно загружены\n",
      "Начали генерацию SQL запросов\n"
     ]
    },
    {
     "name": "stderr",
     "output_type": "stream",
     "text": [
      "Processed prompts: 100%|██████████| 1076/1076 [00:34<00:00, 31.23it/s, est. speed input: 75543.90 toks/s, output: 1022.83 toks/s] "
     ]
    },
    {
     "name": "stdout",
     "output_type": "stream",
     "text": [
      "extract_think количество ошибок:  0\n",
      "extract_sql количество ошибок:  0\n",
      "Закончили генерацию SQL запросов\n",
      "Начали скорр полученных SQL запросов\n"
     ]
    },
    {
     "name": "stderr",
     "output_type": "stream",
     "text": [
      "\n"
     ]
    },
    {
     "name": "stdout",
     "output_type": "stream",
     "text": [
      "Qwen3-4B DEV Финальный результат EX: 74.07\n",
      "Qwen3-4B процент запросов, которые успешно выполнились DEV: 98.51%\n",
      "====================================================================================================\n",
      "\n",
      "\n",
      "Загружаем чаты с данными...\n",
      "Данные успешно загружены\n",
      "Начали генерацию SQL запросов\n"
     ]
    },
    {
     "name": "stderr",
     "output_type": "stream",
     "text": [
      "Processed prompts: 100%|██████████| 1076/1076 [00:35<00:00, 30.69it/s, est. speed input: 75416.87 toks/s, output: 1005.48 toks/s]"
     ]
    },
    {
     "name": "stdout",
     "output_type": "stream",
     "text": [
      "extract_think количество ошибок:  0\n",
      "extract_sql количество ошибок:  0\n",
      "Закончили генерацию SQL запросов\n",
      "Начали скорр полученных SQL запросов\n"
     ]
    },
    {
     "name": "stderr",
     "output_type": "stream",
     "text": [
      "\n"
     ]
    },
    {
     "name": "stdout",
     "output_type": "stream",
     "text": [
      "Qwen3-4B DEV Финальный результат EX: 74.35\n",
      "Qwen3-4B процент запросов, которые успешно выполнились DEV: 98.98%\n",
      "====================================================================================================\n",
      "\n",
      "\n",
      "Загружаем чаты с данными...\n",
      "Данные успешно загружены\n",
      "Начали генерацию SQL запросов\n"
     ]
    },
    {
     "name": "stderr",
     "output_type": "stream",
     "text": [
      "Processed prompts: 100%|██████████| 1076/1076 [00:35<00:00, 30.48it/s, est. speed input: 75169.83 toks/s, output: 1002.94 toks/s]"
     ]
    },
    {
     "name": "stdout",
     "output_type": "stream",
     "text": [
      "extract_think количество ошибок:  0\n",
      "extract_sql количество ошибок:  0\n",
      "Закончили генерацию SQL запросов\n",
      "Начали скорр полученных SQL запросов\n"
     ]
    },
    {
     "name": "stderr",
     "output_type": "stream",
     "text": [
      "\n"
     ]
    },
    {
     "name": "stdout",
     "output_type": "stream",
     "text": [
      "Qwen3-4B DEV Финальный результат EX: 73.98\n",
      "Qwen3-4B процент запросов, которые успешно выполнились DEV: 98.79%\n",
      "====================================================================================================\n",
      "\n",
      "\n",
      "Загружаем чаты с данными...\n",
      "Данные успешно загружены\n",
      "Начали генерацию SQL запросов\n"
     ]
    },
    {
     "name": "stderr",
     "output_type": "stream",
     "text": [
      "Processed prompts: 100%|██████████| 1076/1076 [00:34<00:00, 31.04it/s, est. speed input: 75905.96 toks/s, output: 1005.81 toks/s]"
     ]
    },
    {
     "name": "stdout",
     "output_type": "stream",
     "text": [
      "extract_think количество ошибок:  0\n",
      "extract_sql количество ошибок:  0\n",
      "Закончили генерацию SQL запросов\n",
      "Начали скорр полученных SQL запросов\n"
     ]
    },
    {
     "name": "stderr",
     "output_type": "stream",
     "text": [
      "\n"
     ]
    },
    {
     "name": "stdout",
     "output_type": "stream",
     "text": [
      "Qwen3-4B DEV Финальный результат EX: 73.98\n",
      "Qwen3-4B процент запросов, которые успешно выполнились DEV: 98.79%\n",
      "====================================================================================================\n",
      "\n",
      "\n",
      "Загружаем чаты с данными...\n",
      "Данные успешно загружены\n",
      "Начали генерацию SQL запросов\n"
     ]
    },
    {
     "name": "stderr",
     "output_type": "stream",
     "text": [
      "Processed prompts: 100%|██████████| 1076/1076 [00:35<00:00, 30.33it/s, est. speed input: 74289.10 toks/s, output: 992.71 toks/s] "
     ]
    },
    {
     "name": "stdout",
     "output_type": "stream",
     "text": [
      "extract_think количество ошибок:  0\n",
      "extract_sql количество ошибок:  0\n",
      "Закончили генерацию SQL запросов\n",
      "Начали скорр полученных SQL запросов\n"
     ]
    },
    {
     "name": "stderr",
     "output_type": "stream",
     "text": [
      "\n"
     ]
    },
    {
     "name": "stdout",
     "output_type": "stream",
     "text": [
      "Qwen3-4B DEV Финальный результат EX: 75.19\n",
      "Qwen3-4B процент запросов, которые успешно выполнились DEV: 98.79%\n",
      "====================================================================================================\n",
      "\n",
      "\n",
      "Загружаем чаты с данными...\n",
      "Данные успешно загружены\n",
      "Начали генерацию SQL запросов\n"
     ]
    },
    {
     "name": "stderr",
     "output_type": "stream",
     "text": [
      "Processed prompts: 100%|██████████| 1076/1076 [00:34<00:00, 31.35it/s, est. speed input: 76154.47 toks/s, output: 1027.17 toks/s] "
     ]
    },
    {
     "name": "stdout",
     "output_type": "stream",
     "text": [
      "extract_think количество ошибок:  0\n",
      "extract_sql количество ошибок:  0\n",
      "Закончили генерацию SQL запросов\n",
      "Начали скорр полученных SQL запросов\n"
     ]
    },
    {
     "name": "stderr",
     "output_type": "stream",
     "text": [
      "\n"
     ]
    },
    {
     "name": "stdout",
     "output_type": "stream",
     "text": [
      "Qwen3-4B DEV Финальный результат EX: 74.54\n",
      "Qwen3-4B процент запросов, которые успешно выполнились DEV: 98.61%\n",
      "====================================================================================================\n",
      "\n",
      "\n",
      "Загружаем чаты с данными...\n",
      "Данные успешно загружены\n",
      "Начали генерацию SQL запросов\n"
     ]
    },
    {
     "name": "stderr",
     "output_type": "stream",
     "text": [
      "Processed prompts: 100%|██████████| 1076/1076 [00:34<00:00, 31.23it/s, est. speed input: 75784.51 toks/s, output: 1034.16 toks/s] "
     ]
    },
    {
     "name": "stdout",
     "output_type": "stream",
     "text": [
      "extract_think количество ошибок:  0\n",
      "extract_sql количество ошибок:  0\n",
      "Закончили генерацию SQL запросов\n",
      "Начали скорр полученных SQL запросов\n"
     ]
    },
    {
     "name": "stderr",
     "output_type": "stream",
     "text": [
      "\n"
     ]
    },
    {
     "name": "stdout",
     "output_type": "stream",
     "text": [
      "Qwen3-4B DEV Финальный результат EX: 73.70\n",
      "Qwen3-4B процент запросов, которые успешно выполнились DEV: 98.98%\n",
      "====================================================================================================\n",
      "\n",
      "\n",
      "Загружаем чаты с данными...\n",
      "Данные успешно загружены\n",
      "Начали генерацию SQL запросов\n"
     ]
    },
    {
     "name": "stderr",
     "output_type": "stream",
     "text": [
      "Processed prompts: 100%|██████████| 1076/1076 [00:34<00:00, 31.28it/s, est. speed input: 76113.45 toks/s, output: 1029.74 toks/s]"
     ]
    },
    {
     "name": "stdout",
     "output_type": "stream",
     "text": [
      "extract_think количество ошибок:  0\n",
      "extract_sql количество ошибок:  0\n",
      "Закончили генерацию SQL запросов\n",
      "Начали скорр полученных SQL запросов\n"
     ]
    },
    {
     "name": "stderr",
     "output_type": "stream",
     "text": [
      "\n"
     ]
    },
    {
     "name": "stdout",
     "output_type": "stream",
     "text": [
      "Qwen3-4B DEV Финальный результат EX: 74.91\n",
      "Qwen3-4B процент запросов, которые успешно выполнились DEV: 99.07%\n",
      "====================================================================================================\n",
      "\n",
      "\n",
      "Загружаем чаты с данными...\n",
      "Данные успешно загружены\n",
      "Начали генерацию SQL запросов\n"
     ]
    },
    {
     "name": "stderr",
     "output_type": "stream",
     "text": [
      "Processed prompts: 100%|██████████| 1076/1076 [00:34<00:00, 31.49it/s, est. speed input: 76060.25 toks/s, output: 1027.54 toks/s] "
     ]
    },
    {
     "name": "stdout",
     "output_type": "stream",
     "text": [
      "extract_think количество ошибок:  0\n",
      "extract_sql количество ошибок:  0\n",
      "Закончили генерацию SQL запросов\n",
      "Начали скорр полученных SQL запросов\n"
     ]
    },
    {
     "name": "stderr",
     "output_type": "stream",
     "text": [
      "\n"
     ]
    },
    {
     "name": "stdout",
     "output_type": "stream",
     "text": [
      "Qwen3-4B DEV Финальный результат EX: 74.54\n",
      "Qwen3-4B процент запросов, которые успешно выполнились DEV: 99.26%\n",
      "====================================================================================================\n",
      "\n",
      "\n",
      "Загружаем чаты с данными...\n",
      "Данные успешно загружены\n",
      "Начали генерацию SQL запросов\n"
     ]
    },
    {
     "name": "stderr",
     "output_type": "stream",
     "text": [
      "Processed prompts: 100%|██████████| 1076/1076 [00:34<00:00, 31.26it/s, est. speed input: 75592.24 toks/s, output: 1023.68 toks/s]"
     ]
    },
    {
     "name": "stdout",
     "output_type": "stream",
     "text": [
      "extract_think количество ошибок:  0\n",
      "extract_sql количество ошибок:  0\n",
      "Закончили генерацию SQL запросов\n",
      "Начали скорр полученных SQL запросов\n"
     ]
    },
    {
     "name": "stderr",
     "output_type": "stream",
     "text": [
      "\n"
     ]
    },
    {
     "name": "stdout",
     "output_type": "stream",
     "text": [
      "Qwen3-4B DEV Финальный результат EX: 74.07\n",
      "Qwen3-4B процент запросов, которые успешно выполнились DEV: 98.98%\n",
      "====================================================================================================\n",
      "\n",
      "\n"
     ]
    }
   ],
   "source": [
    "run_cot_experiment(model,arr_seeds,arr_versions, type_cot, num_observations=num_observations)"
   ]
  },
  {
   "cell_type": "markdown",
   "id": "6046825c-8b23-4466-9c8c-2bd8d22da520",
   "metadata": {},
   "source": [
    "## 3 наблюдения"
   ]
  },
  {
   "cell_type": "code",
   "execution_count": 5,
   "id": "087d84b5-c110-41ff-a60d-7dbdeb15ffce",
   "metadata": {},
   "outputs": [
    {
     "name": "stdout",
     "output_type": "stream",
     "text": [
      "[225, 689, 972, 462, 348, 580, 675, 962, 438, 425, 827, 932, 565, 1000, 199, 831, 70, 7, 554, 67]\n",
      "model: Qwen3-4B\n"
     ]
    }
   ],
   "source": [
    "n= 20\n",
    "arr_seeds = [random.randint(0,1000) for _ in range(n)]\n",
    "arr_versions = [x for x in range(n)]\n",
    "model = \"Qwen3-4B\"\n",
    "num_observations = 3\n",
    "type_cot = 'all_new'\n",
    "print(arr_seeds)\n",
    "print(f\"model: {model}\")"
   ]
  },
  {
   "cell_type": "code",
   "execution_count": 6,
   "id": "75073cd5-a80a-47f6-90d0-af48f09fc511",
   "metadata": {
    "scrolled": true
   },
   "outputs": [
    {
     "name": "stdout",
     "output_type": "stream",
     "text": [
      "Загружаем модель...\n"
     ]
    },
    {
     "name": "stderr",
     "output_type": "stream",
     "text": [
      "Loading safetensors checkpoint shards:   0% Completed | 0/3 [00:00<?, ?it/s]\n",
      "Loading safetensors checkpoint shards:  33% Completed | 1/3 [00:01<00:02,  1.33s/it]\n",
      "Loading safetensors checkpoint shards: 100% Completed | 3/3 [00:02<00:00,  1.17it/s]\n",
      "Loading safetensors checkpoint shards: 100% Completed | 3/3 [00:02<00:00,  1.10it/s]\n",
      "\u001b[1;36m(VllmWorker rank=0 pid=3340457)\u001b[0;0m \n"
     ]
    },
    {
     "name": "stdout",
     "output_type": "stream",
     "text": [
      "Модель успешно загружена\n",
      "model_config {'model': '/data/home/vkropoti/models/Qwen3-4B', 'tensor_parallel_size': 2, 'max_model_len': 40000, 'max_new_tokens': 1500, 'temperature': 0, 'top_k': 1, 'top_p': 0.8, 'gpu_memory_utilization': 0.9, 'trust_remote_code': False, 'seed': 225}\n",
      "\n",
      "prompts_config {'path_dev_json': '/data/home/vkropoti/sql_data/dev_spider.json', 'path_sql_dbs': '/data/home/vkropoti/sql_data/data_bases_spider/', 'use_reasoning': False, 'paths_to_cot': ['/data/home/vkropoti/sql_llm_answers/spider_dev_m_schema/sql_all_new_Qwen3-4B-reasoning-v0', '/data/home/vkropoti/sql_llm_answers/spider_dev_m_schema/sql_all_new_Qwen3-4B-reasoning-v1', '/data/home/vkropoti/sql_llm_answers/spider_dev_m_schema/sql_all_new_Qwen3-4B-reasoning-v2']}\n",
      "\n",
      "save_config {'path_sql_save': '/data/home/vkropoti/sql_llm_answers/spider_dev_m_schema/sql_all_Qwen3-4B-cot_all_new_think==False_nobs3-v0', 'path_think_save': None, 'path_sql_answers_save': '/data/home/vkropoti/sql_llm_answers/spider_dev_m_schema/sql_predict_Qwen3-4B-cot_all_new_think==False_nobs3-v0', 'path_to_save_scores': '/data/home/vkropoti/sql_llm_answers/spider_dev_m_schema/sql_results_Qwen3-4B-cot_all_new_think==False_nobs3-v0', 'path_to_save_executed': '/data/home/vkropoti/sql_llm_answers/spider_dev_m_schema/sql_executed_Qwen3-4B-cot_all_new_think==False_nobs3-v0'}\n",
      "\n",
      "Модель успешно загружена\n",
      "Пример промпта\n",
      "<|im_start|>system\n",
      "\n",
      "You are a data science expert. Below, you are provided with a database schema and a natural language question. Your task is to understand the schema and generate a valid SQL query to answer the question.\n",
      "\n",
      "Database Engine: SQLite\n",
      "\n",
      "You will be given an additional analysis of other models, please take it into account, so the plan is\n",
      "1. Analyse given addition analysis from other models (find in which analysis the same and differ, how to use that to answer question)\n",
      "2. Combine best from previous part and think how to solve the problem (analyze tables, take care what columns avaliable in each table and so on, check the syntacsis)\n",
      "3. Create the answers. The answer should be only sql query.\n",
      "\n",
      "Carefully follow the instruction and add <|im_end|> and the end of the final answer<|im_end|>\n",
      "<|im_start|>user\n",
      "Here is addition analysis from other models which can be helpfull, please take this into account but be careful (choose the best from each analysis, combine them to make the most proper answer):\n",
      "\n",
      "model 0 analysis:\n",
      " Reasoning process:\n",
      "\n",
      "Okay, let's see. The user is asking \"How many singers do we have?\" So I need to find the number of singers in the database.\n",
      "\n",
      "Looking at the tables provided, there's a 'singer' table. The 'singer' table has a primary key 'Singer_ID', which uniquely identifies each singer. So the number of singers should be the count of distinct Singer_IDs in the singer table.\n",
      "\n",
      "Wait, but maybe there's a possibility of duplicates? But since Singer_ID is the primary key, each entry is unique. So just counting the number of rows in the singer table would give the correct number. Alternatively, using COUNT(*) or COUNT(Singer_ID) would work.\n",
      "\n",
      "But the question is about the number of singers, so the answer is the count of all entries in the singer table. So the SQL query should be SELECT COUNT(*) FROM singer;.\n",
      "\n",
      "Let me check if there are any other tables that might have singer information. The 'singer_in_concert' table links singers to concerts, but that's a many-to-many relationship. The 'singer' table itself contains all the singers. So the correct approach is to count the rows in the singer table.\n",
      "\n",
      "Yes, so the correct SQL is to select the count of all rows from the singer table. That should give the total number of singers.\n",
      "\n",
      "Final answer based om reasoning for this model:\n",
      "\n",
      "\n",
      "```\n",
      "SELECT COUNT(*) FROM singer;\n",
      "```\n",
      "\n",
      "model 1 analysis:\n",
      " Reasoning process:\n",
      "\n",
      "Okay, let's see. The user is asking \"How many singers do we have?\" So I need to find the number of singers in the database.\n",
      "\n",
      "Looking at the tables, there's a 'singer' table. The 'singer' table has a primary key 'Singer_ID', which is an integer. Each row in this table represents a singer. So the number of singers should be the count of distinct Singer_IDs in the singer table.\n",
      "\n",
      "Wait, but maybe there's a possibility of duplicates? But since Singer_ID is the primary key, each entry is unique. So just counting the number of rows in the singer table would give the correct count.\n",
      "\n",
      "Alternatively, using COUNT(*) would also work. But since the question is about the number of singers, which is the count of distinct entries, either COUNT(*) or COUNT(Singer_ID) would work. But since Singer_ID is the primary key, it's guaranteed to be unique, so COUNT(*) is sufficient.\n",
      "\n",
      "So the SQL query would be SELECT COUNT(*) FROM singer;\n",
      "\n",
      "I need to make sure that the table name is correct. The table is called 'singer' as per the schema provided. The columns are correctly named. No need to join with other tables because the question is straightforward—just the count of singers in the singer table.\n",
      "\n",
      "Yes, that's it. The answer should be a simple SELECT COUNT(*) FROM singer;\n",
      "\n",
      "Final answer based om reasoning for this model:\n",
      "\n",
      "\n",
      "```\n",
      "SELECT COUNT(*) FROM singer;\n",
      "```\n",
      "\n",
      "model 2 analysis:\n",
      " Reasoning process:\n",
      "\n",
      "Okay, let's see. The user is asking \"How many singers do we have?\" So I need to find the number of singers in the database.\n",
      "\n",
      "Looking at the tables, there's a 'singer' table. The schema for the singer table includes Singer_ID, Name, Country, Song_Name, Song_release_year, Age, and Is_male. The Singer_ID is the primary key, which means each row represents a unique singer. \n",
      "\n",
      "Since the question is about counting the number of singers, the correct approach is to count the number of rows in the singer table. The SQL function COUNT() can be used here. The simplest query would be SELECT COUNT(*) FROM singer; \n",
      "\n",
      "I need to make sure there are no other tables involved. The other tables like concert, stadium, and singer_in_concert don't seem relevant here because they relate to concerts and stadiums, not the count of singers. The singer table is the only one that contains singer information. \n",
      "\n",
      "So the answer should be a single SQL query that counts all rows in the singer table. No joins or additional conditions are needed. The COUNT(*) function will return the total number of singers.\n",
      "\n",
      "Final answer based om reasoning for this model:\n",
      "\n",
      "\n",
      "```\n",
      "SELECT COUNT(*) FROM singer;\n",
      "```\n",
      "\n",
      "\n",
      "here is avaliable tables and their structure below\n",
      "【DB_ID】 concert_singer\n",
      "【Schema】\n",
      "# Table: concert\n",
      "[\n",
      "(concert_ID:INTEGER, Primary Key, Examples: [1, 2, 3]),\n",
      "(concert_Name:TEXT, Examples: [Auditions, Super bootcamp, Home Visits]),\n",
      "(Theme:TEXT, Examples: [Free choice, Free choice 2, Bleeding Love]),\n",
      "(Stadium_ID:TEXT, maps to stadium.Stadium_ID, Examples: [1, 2, 10]),\n",
      "(Year:TEXT, Examples: [2014, 2015, 2016])\n",
      "]\n",
      "# Table: singer\n",
      "[\n",
      "(Singer_ID:INTEGER, Primary Key, Examples: [1, 2, 3]),\n",
      "(Name:TEXT, Examples: [Joe Sharp, Timbaland, Justin Brown]),\n",
      "(Country:TEXT, Examples: [Netherlands, United States, France]),\n",
      "(Song_Name:TEXT, Examples: [You, Dangerous, Hey Oh]),\n",
      "(Song_release_year:TEXT, Examples: [1992, 2008, 2013]),\n",
      "(Age:INTEGER, Examples: [52, 32, 29]),\n",
      "(Is_male:BOOLEAN, Examples: [False, True])\n",
      "]\n",
      "# Table: singer_in_concert\n",
      "[\n",
      "(concert_ID:INTEGER, maps to concert.concert_ID, Primary Key, Examples: [1, 2, 3]),\n",
      "(Singer_ID:TEXT, maps to singer.Singer_ID, Primary Key, Examples: [2, 3, 5])\n",
      "]\n",
      "# Table: stadium\n",
      "[\n",
      "(Stadium_ID:INTEGER, Primary Key, Examples: [1, 2, 3]),\n",
      "(Location:TEXT, Examples: [Raith Rovers, Ayr United, East Fife]),\n",
      "(Name:TEXT, Examples: [Stark's Park, Somerset Park, Bayview Stadium]),\n",
      "(Capacity:INTEGER, Examples: [10104, 11998, 2000]),\n",
      "(Highest:INTEGER, Examples: [4812, 2363, 1980]),\n",
      "(Lowest:INTEGER, Examples: [1294, 1057, 533]),\n",
      "(Average:INTEGER, Examples: [2106, 1477, 864])\n",
      "]\n",
      "【Foreign keys】\n",
      "concert.Stadium_ID=stadium.Stadium_ID\n",
      "singer_in_concert.concert_ID=concert.concert_ID\n",
      "singer_in_concert.Singer_ID=singer.Singer_ID\n",
      "\n",
      "-- Using valid SQLite, answer the following questions for the tables provided above.\n",
      "-- How many singers do we have?\n",
      "\n",
      "\n",
      "\n",
      "Generate the SQLite for the above question after thinking step by step: \n",
      "\n",
      "\n",
      "Instructions:\n",
      "- Make sure you only output the information that is asked in the question. If the question asks for a specific column, make sure to only include that column in the SELECT clause, nothing more.\n",
      "- The generated query should return all of the information asked in the question without any missing or extra information.\n",
      "- Before generating the final SQL query, please think through the steps of how to write the query.\n",
      "- Do not misuse column names, keep them in quotes `\n",
      "- Carefully understand what colomns belond to what tables\n",
      "- Use only initial column names, change names prohibited\n",
      "        \n",
      "Output Format:\n",
      "In your answer, please enclose the generated SQL query in a code block:\n",
      "```\n",
      "-- Your SQL query\n",
      "```    \n",
      "and nothing else, no exaplains, no comments (asnwer should be less than 512 characters)\n",
      "\n",
      "Take a deep breath and think step by step to find the correct SQL query in SQLite format.\n",
      "\n",
      "Question repetition: How many singers do we have?\n",
      "\n",
      "Be care! Include only what i want it questiona and nothing else<|im_end|>\n",
      "<|im_start|>assistant\n",
      "<think>\n",
      "\n",
      "</think>\n",
      "\n",
      "\n",
      "\n",
      "\n",
      "Максимальное количество токенов в промптах: 18861\n",
      "\n",
      "начинаем скорринг\n",
      "Загружаем чаты с данными...\n",
      "Данные успешно загружены\n",
      "Начали генерацию SQL запросов\n"
     ]
    },
    {
     "name": "stderr",
     "output_type": "stream",
     "text": [
      "Processed prompts: 100%|██████████| 1076/1076 [00:45<00:00, 23.45it/s, est. speed input: 73244.01 toks/s, output: 777.64 toks/s] "
     ]
    },
    {
     "name": "stdout",
     "output_type": "stream",
     "text": [
      "extract_think количество ошибок:  0\n",
      "extract_sql количество ошибок:  0\n",
      "Закончили генерацию SQL запросов\n",
      "Начали скорр полученных SQL запросов\n"
     ]
    },
    {
     "name": "stderr",
     "output_type": "stream",
     "text": [
      "\n"
     ]
    },
    {
     "name": "stdout",
     "output_type": "stream",
     "text": [
      "Qwen3-4B DEV Финальный результат EX: 74.26\n",
      "Qwen3-4B процент запросов, которые успешно выполнились DEV: 98.33%\n",
      "====================================================================================================\n",
      "\n",
      "\n",
      "Загружаем чаты с данными...\n",
      "Данные успешно загружены\n",
      "Начали генерацию SQL запросов\n"
     ]
    },
    {
     "name": "stderr",
     "output_type": "stream",
     "text": [
      "Processed prompts: 100%|██████████| 1076/1076 [00:45<00:00, 23.45it/s, est. speed input: 73225.84 toks/s, output: 766.51 toks/s] "
     ]
    },
    {
     "name": "stdout",
     "output_type": "stream",
     "text": [
      "extract_think количество ошибок:  0\n",
      "extract_sql количество ошибок:  0\n",
      "Закончили генерацию SQL запросов\n",
      "Начали скорр полученных SQL запросов\n"
     ]
    },
    {
     "name": "stderr",
     "output_type": "stream",
     "text": [
      "\n"
     ]
    },
    {
     "name": "stdout",
     "output_type": "stream",
     "text": [
      "Qwen3-4B DEV Финальный результат EX: 73.88\n",
      "Qwen3-4B процент запросов, которые успешно выполнились DEV: 98.51%\n",
      "====================================================================================================\n",
      "\n",
      "\n",
      "Загружаем чаты с данными...\n",
      "Данные успешно загружены\n",
      "Начали генерацию SQL запросов\n"
     ]
    },
    {
     "name": "stderr",
     "output_type": "stream",
     "text": [
      "Processed prompts: 100%|██████████| 1076/1076 [00:45<00:00, 23.41it/s, est. speed input: 73220.51 toks/s, output: 770.93 toks/s] "
     ]
    },
    {
     "name": "stdout",
     "output_type": "stream",
     "text": [
      "extract_think количество ошибок:  0\n",
      "extract_sql количество ошибок:  0\n",
      "Закончили генерацию SQL запросов\n",
      "Начали скорр полученных SQL запросов\n"
     ]
    },
    {
     "name": "stderr",
     "output_type": "stream",
     "text": [
      "\n"
     ]
    },
    {
     "name": "stdout",
     "output_type": "stream",
     "text": [
      "Qwen3-4B DEV Финальный результат EX: 74.16\n",
      "Qwen3-4B процент запросов, которые успешно выполнились DEV: 98.70%\n",
      "====================================================================================================\n",
      "\n",
      "\n",
      "Загружаем чаты с данными...\n",
      "Данные успешно загружены\n",
      "Начали генерацию SQL запросов\n"
     ]
    },
    {
     "name": "stderr",
     "output_type": "stream",
     "text": [
      "Processed prompts: 100%|██████████| 1076/1076 [00:46<00:00, 23.38it/s, est. speed input: 72594.20 toks/s, output: 766.13 toks/s] "
     ]
    },
    {
     "name": "stdout",
     "output_type": "stream",
     "text": [
      "extract_think количество ошибок:  0\n",
      "extract_sql количество ошибок:  0\n",
      "Закончили генерацию SQL запросов\n",
      "Начали скорр полученных SQL запросов\n"
     ]
    },
    {
     "name": "stderr",
     "output_type": "stream",
     "text": [
      "\n"
     ]
    },
    {
     "name": "stdout",
     "output_type": "stream",
     "text": [
      "Qwen3-4B DEV Финальный результат EX: 73.98\n",
      "Qwen3-4B процент запросов, которые успешно выполнились DEV: 98.23%\n",
      "====================================================================================================\n",
      "\n",
      "\n",
      "Загружаем чаты с данными...\n",
      "Данные успешно загружены\n",
      "Начали генерацию SQL запросов\n"
     ]
    },
    {
     "name": "stderr",
     "output_type": "stream",
     "text": [
      "Processed prompts: 100%|██████████| 1076/1076 [00:45<00:00, 23.81it/s, est. speed input: 74393.83 toks/s, output: 780.27 toks/s] \n"
     ]
    },
    {
     "name": "stdout",
     "output_type": "stream",
     "text": [
      "extract_think количество ошибок:  0\n",
      "extract_sql количество ошибок:  0\n",
      "Закончили генерацию SQL запросов\n",
      "Начали скорр полученных SQL запросов\n",
      "Qwen3-4B DEV Финальный результат EX: 73.88\n",
      "Qwen3-4B процент запросов, которые успешно выполнились DEV: 98.88%\n",
      "====================================================================================================\n",
      "\n",
      "\n",
      "Загружаем чаты с данными...\n",
      "Данные успешно загружены\n",
      "Начали генерацию SQL запросов\n"
     ]
    },
    {
     "name": "stderr",
     "output_type": "stream",
     "text": [
      "Processed prompts: 100%|██████████| 1076/1076 [00:45<00:00, 23.48it/s, est. speed input: 73030.92 toks/s, output: 768.61 toks/s] "
     ]
    },
    {
     "name": "stdout",
     "output_type": "stream",
     "text": [
      "extract_think количество ошибок:  0\n",
      "extract_sql количество ошибок:  0\n",
      "Закончили генерацию SQL запросов\n",
      "Начали скорр полученных SQL запросов\n"
     ]
    },
    {
     "name": "stderr",
     "output_type": "stream",
     "text": [
      "\n"
     ]
    },
    {
     "name": "stdout",
     "output_type": "stream",
     "text": [
      "Qwen3-4B DEV Финальный результат EX: 74.07\n",
      "Qwen3-4B процент запросов, которые успешно выполнились DEV: 98.61%\n",
      "====================================================================================================\n",
      "\n",
      "\n",
      "Загружаем чаты с данными...\n",
      "Данные успешно загружены\n",
      "Начали генерацию SQL запросов\n"
     ]
    },
    {
     "name": "stderr",
     "output_type": "stream",
     "text": [
      "Processed prompts: 100%|██████████| 1076/1076 [00:46<00:00, 23.32it/s, est. speed input: 72811.46 toks/s, output: 757.38 toks/s] "
     ]
    },
    {
     "name": "stdout",
     "output_type": "stream",
     "text": [
      "extract_think количество ошибок:  0\n",
      "extract_sql количество ошибок:  0\n",
      "Закончили генерацию SQL запросов\n",
      "Начали скорр полученных SQL запросов\n"
     ]
    },
    {
     "name": "stderr",
     "output_type": "stream",
     "text": [
      "\n"
     ]
    },
    {
     "name": "stdout",
     "output_type": "stream",
     "text": [
      "Qwen3-4B DEV Финальный результат EX: 74.16\n",
      "Qwen3-4B процент запросов, которые успешно выполнились DEV: 98.70%\n",
      "====================================================================================================\n",
      "\n",
      "\n",
      "Загружаем чаты с данными...\n",
      "Данные успешно загружены\n",
      "Начали генерацию SQL запросов\n"
     ]
    },
    {
     "name": "stderr",
     "output_type": "stream",
     "text": [
      "Processed prompts: 100%|██████████| 1076/1076 [00:46<00:00, 22.90it/s, est. speed input: 71808.27 toks/s, output: 747.51 toks/s] "
     ]
    },
    {
     "name": "stdout",
     "output_type": "stream",
     "text": [
      "extract_think количество ошибок:  0\n",
      "extract_sql количество ошибок:  0\n",
      "Закончили генерацию SQL запросов\n",
      "Начали скорр полученных SQL запросов\n"
     ]
    },
    {
     "name": "stderr",
     "output_type": "stream",
     "text": [
      "\n"
     ]
    },
    {
     "name": "stdout",
     "output_type": "stream",
     "text": [
      "Qwen3-4B DEV Финальный результат EX: 74.44\n",
      "Qwen3-4B процент запросов, которые успешно выполнились DEV: 98.98%\n",
      "====================================================================================================\n",
      "\n",
      "\n",
      "Загружаем чаты с данными...\n",
      "Данные успешно загружены\n",
      "Начали генерацию SQL запросов\n"
     ]
    },
    {
     "name": "stderr",
     "output_type": "stream",
     "text": [
      "Processed prompts: 100%|██████████| 1076/1076 [00:47<00:00, 22.55it/s, est. speed input: 70433.27 toks/s, output: 742.76 toks/s] "
     ]
    },
    {
     "name": "stdout",
     "output_type": "stream",
     "text": [
      "extract_think количество ошибок:  0\n",
      "extract_sql количество ошибок:  0\n",
      "Закончили генерацию SQL запросов\n",
      "Начали скорр полученных SQL запросов\n"
     ]
    },
    {
     "name": "stderr",
     "output_type": "stream",
     "text": [
      "\n"
     ]
    },
    {
     "name": "stdout",
     "output_type": "stream",
     "text": [
      "Qwen3-4B DEV Финальный результат EX: 73.33\n",
      "Qwen3-4B процент запросов, которые успешно выполнились DEV: 98.79%\n",
      "====================================================================================================\n",
      "\n",
      "\n",
      "Загружаем чаты с данными...\n",
      "Данные успешно загружены\n",
      "Начали генерацию SQL запросов\n"
     ]
    },
    {
     "name": "stderr",
     "output_type": "stream",
     "text": [
      "Processed prompts: 100%|██████████| 1076/1076 [00:46<00:00, 23.17it/s, est. speed input: 71939.27 toks/s, output: 765.24 toks/s] "
     ]
    },
    {
     "name": "stdout",
     "output_type": "stream",
     "text": [
      "extract_think количество ошибок:  0\n",
      "extract_sql количество ошибок:  0\n",
      "Закончили генерацию SQL запросов\n",
      "Начали скорр полученных SQL запросов\n"
     ]
    },
    {
     "name": "stderr",
     "output_type": "stream",
     "text": [
      "\n"
     ]
    },
    {
     "name": "stdout",
     "output_type": "stream",
     "text": [
      "Qwen3-4B DEV Финальный результат EX: 74.44\n",
      "Qwen3-4B процент запросов, которые успешно выполнились DEV: 98.33%\n",
      "====================================================================================================\n",
      "\n",
      "\n",
      "Загружаем чаты с данными...\n",
      "Данные успешно загружены\n",
      "Начали генерацию SQL запросов\n"
     ]
    },
    {
     "name": "stderr",
     "output_type": "stream",
     "text": [
      "Processed prompts: 100%|██████████| 1076/1076 [00:45<00:00, 23.49it/s, est. speed input: 72888.93 toks/s, output: 773.45 toks/s] "
     ]
    },
    {
     "name": "stdout",
     "output_type": "stream",
     "text": [
      "extract_think количество ошибок:  0\n",
      "extract_sql количество ошибок:  0\n",
      "Закончили генерацию SQL запросов\n",
      "Начали скорр полученных SQL запросов\n"
     ]
    },
    {
     "name": "stderr",
     "output_type": "stream",
     "text": [
      "\n"
     ]
    },
    {
     "name": "stdout",
     "output_type": "stream",
     "text": [
      "Qwen3-4B DEV Финальный результат EX: 73.33\n",
      "Qwen3-4B процент запросов, которые успешно выполнились DEV: 98.61%\n",
      "====================================================================================================\n",
      "\n",
      "\n",
      "Загружаем чаты с данными...\n",
      "Данные успешно загружены\n",
      "Начали генерацию SQL запросов\n"
     ]
    },
    {
     "name": "stderr",
     "output_type": "stream",
     "text": [
      "Processed prompts: 100%|██████████| 1076/1076 [00:45<00:00, 23.63it/s, est. speed input: 73846.55 toks/s, output: 774.01 toks/s] "
     ]
    },
    {
     "name": "stdout",
     "output_type": "stream",
     "text": [
      "extract_think количество ошибок:  0\n",
      "extract_sql количество ошибок:  0\n",
      "Закончили генерацию SQL запросов\n",
      "Начали скорр полученных SQL запросов\n"
     ]
    },
    {
     "name": "stderr",
     "output_type": "stream",
     "text": [
      "\n"
     ]
    },
    {
     "name": "stdout",
     "output_type": "stream",
     "text": [
      "Qwen3-4B DEV Финальный результат EX: 74.16\n",
      "Qwen3-4B процент запросов, которые успешно выполнились DEV: 99.07%\n",
      "====================================================================================================\n",
      "\n",
      "\n",
      "Загружаем чаты с данными...\n",
      "Данные успешно загружены\n",
      "Начали генерацию SQL запросов\n"
     ]
    },
    {
     "name": "stderr",
     "output_type": "stream",
     "text": [
      "Processed prompts: 100%|██████████| 1076/1076 [00:46<00:00, 23.21it/s, est. speed input: 72650.78 toks/s, output: 756.51 toks/s] "
     ]
    },
    {
     "name": "stdout",
     "output_type": "stream",
     "text": [
      "extract_think количество ошибок:  0\n",
      "extract_sql количество ошибок:  0\n",
      "Закончили генерацию SQL запросов\n",
      "Начали скорр полученных SQL запросов\n"
     ]
    },
    {
     "name": "stderr",
     "output_type": "stream",
     "text": [
      "\n"
     ]
    },
    {
     "name": "stdout",
     "output_type": "stream",
     "text": [
      "Qwen3-4B DEV Финальный результат EX: 74.54\n",
      "Qwen3-4B процент запросов, которые успешно выполнились DEV: 99.16%\n",
      "====================================================================================================\n",
      "\n",
      "\n",
      "Загружаем чаты с данными...\n",
      "Данные успешно загружены\n",
      "Начали генерацию SQL запросов\n"
     ]
    },
    {
     "name": "stderr",
     "output_type": "stream",
     "text": [
      "Processed prompts: 100%|██████████| 1076/1076 [00:46<00:00, 23.19it/s, est. speed input: 72301.43 toks/s, output: 761.38 toks/s] "
     ]
    },
    {
     "name": "stdout",
     "output_type": "stream",
     "text": [
      "extract_think количество ошибок:  0\n",
      "extract_sql количество ошибок:  0\n",
      "Закончили генерацию SQL запросов\n",
      "Начали скорр полученных SQL запросов\n"
     ]
    },
    {
     "name": "stderr",
     "output_type": "stream",
     "text": [
      "\n"
     ]
    },
    {
     "name": "stdout",
     "output_type": "stream",
     "text": [
      "Qwen3-4B DEV Финальный результат EX: 74.91\n",
      "Qwen3-4B процент запросов, которые успешно выполнились DEV: 98.70%\n",
      "====================================================================================================\n",
      "\n",
      "\n",
      "Загружаем чаты с данными...\n",
      "Данные успешно загружены\n",
      "Начали генерацию SQL запросов\n"
     ]
    },
    {
     "name": "stderr",
     "output_type": "stream",
     "text": [
      "Processed prompts: 100%|██████████| 1076/1076 [00:45<00:00, 23.67it/s, est. speed input: 73229.31 toks/s, output: 774.58 toks/s] "
     ]
    },
    {
     "name": "stdout",
     "output_type": "stream",
     "text": [
      "extract_think количество ошибок:  0\n",
      "extract_sql количество ошибок:  0\n",
      "Закончили генерацию SQL запросов\n",
      "Начали скорр полученных SQL запросов\n"
     ]
    },
    {
     "name": "stderr",
     "output_type": "stream",
     "text": [
      "\n"
     ]
    },
    {
     "name": "stdout",
     "output_type": "stream",
     "text": [
      "Qwen3-4B DEV Финальный результат EX: 74.07\n",
      "Qwen3-4B процент запросов, которые успешно выполнились DEV: 98.70%\n",
      "====================================================================================================\n",
      "\n",
      "\n",
      "Загружаем чаты с данными...\n",
      "Данные успешно загружены\n",
      "Начали генерацию SQL запросов\n"
     ]
    },
    {
     "name": "stderr",
     "output_type": "stream",
     "text": [
      "Processed prompts: 100%|██████████| 1076/1076 [00:46<00:00, 23.37it/s, est. speed input: 72403.24 toks/s, output: 770.24 toks/s] "
     ]
    },
    {
     "name": "stdout",
     "output_type": "stream",
     "text": [
      "extract_think количество ошибок:  0\n",
      "extract_sql количество ошибок:  0\n",
      "Закончили генерацию SQL запросов\n",
      "Начали скорр полученных SQL запросов\n"
     ]
    },
    {
     "name": "stderr",
     "output_type": "stream",
     "text": [
      "\n"
     ]
    },
    {
     "name": "stdout",
     "output_type": "stream",
     "text": [
      "Qwen3-4B DEV Финальный результат EX: 74.26\n",
      "Qwen3-4B процент запросов, которые успешно выполнились DEV: 98.70%\n",
      "====================================================================================================\n",
      "\n",
      "\n",
      "Загружаем чаты с данными...\n",
      "Данные успешно загружены\n",
      "Начали генерацию SQL запросов\n"
     ]
    },
    {
     "name": "stderr",
     "output_type": "stream",
     "text": [
      "Processed prompts: 100%|██████████| 1076/1076 [00:45<00:00, 23.51it/s, est. speed input: 72344.43 toks/s, output: 769.48 toks/s] "
     ]
    },
    {
     "name": "stdout",
     "output_type": "stream",
     "text": [
      "extract_think количество ошибок:  0\n",
      "extract_sql количество ошибок:  0\n",
      "Закончили генерацию SQL запросов\n",
      "Начали скорр полученных SQL запросов\n"
     ]
    },
    {
     "name": "stderr",
     "output_type": "stream",
     "text": [
      "\n"
     ]
    },
    {
     "name": "stdout",
     "output_type": "stream",
     "text": [
      "Qwen3-4B DEV Финальный результат EX: 74.44\n",
      "Qwen3-4B процент запросов, которые успешно выполнились DEV: 98.98%\n",
      "====================================================================================================\n",
      "\n",
      "\n",
      "Загружаем чаты с данными...\n",
      "Данные успешно загружены\n",
      "Начали генерацию SQL запросов\n"
     ]
    },
    {
     "name": "stderr",
     "output_type": "stream",
     "text": [
      "Processed prompts: 100%|██████████| 1076/1076 [00:46<00:00, 23.26it/s, est. speed input: 71770.26 toks/s, output: 769.81 toks/s] "
     ]
    },
    {
     "name": "stdout",
     "output_type": "stream",
     "text": [
      "extract_think количество ошибок:  0\n",
      "extract_sql количество ошибок:  0\n",
      "Закончили генерацию SQL запросов\n",
      "Начали скорр полученных SQL запросов\n"
     ]
    },
    {
     "name": "stderr",
     "output_type": "stream",
     "text": [
      "\n"
     ]
    },
    {
     "name": "stdout",
     "output_type": "stream",
     "text": [
      "Qwen3-4B DEV Финальный результат EX: 73.88\n",
      "Qwen3-4B процент запросов, которые успешно выполнились DEV: 98.98%\n",
      "====================================================================================================\n",
      "\n",
      "\n",
      "Загружаем чаты с данными...\n",
      "Данные успешно загружены\n",
      "Начали генерацию SQL запросов\n"
     ]
    },
    {
     "name": "stderr",
     "output_type": "stream",
     "text": [
      "Processed prompts: 100%|██████████| 1076/1076 [00:45<00:00, 23.73it/s, est. speed input: 72825.13 toks/s, output: 777.90 toks/s] "
     ]
    },
    {
     "name": "stdout",
     "output_type": "stream",
     "text": [
      "extract_think количество ошибок:  0\n",
      "extract_sql количество ошибок:  0\n",
      "Закончили генерацию SQL запросов\n",
      "Начали скорр полученных SQL запросов\n"
     ]
    },
    {
     "name": "stderr",
     "output_type": "stream",
     "text": [
      "\n"
     ]
    },
    {
     "name": "stdout",
     "output_type": "stream",
     "text": [
      "Qwen3-4B DEV Финальный результат EX: 74.72\n",
      "Qwen3-4B процент запросов, которые успешно выполнились DEV: 98.79%\n",
      "====================================================================================================\n",
      "\n",
      "\n",
      "Загружаем чаты с данными...\n",
      "Данные успешно загружены\n",
      "Начали генерацию SQL запросов\n"
     ]
    },
    {
     "name": "stderr",
     "output_type": "stream",
     "text": [
      "Processed prompts: 100%|██████████| 1076/1076 [00:45<00:00, 23.43it/s, est. speed input: 72292.71 toks/s, output: 770.45 toks/s] "
     ]
    },
    {
     "name": "stdout",
     "output_type": "stream",
     "text": [
      "extract_think количество ошибок:  0\n",
      "extract_sql количество ошибок:  0\n",
      "Закончили генерацию SQL запросов\n",
      "Начали скорр полученных SQL запросов\n"
     ]
    },
    {
     "name": "stderr",
     "output_type": "stream",
     "text": [
      "\n"
     ]
    },
    {
     "name": "stdout",
     "output_type": "stream",
     "text": [
      "Qwen3-4B DEV Финальный результат EX: 73.88\n",
      "Qwen3-4B процент запросов, которые успешно выполнились DEV: 98.33%\n",
      "====================================================================================================\n",
      "\n",
      "\n"
     ]
    }
   ],
   "source": [
    "run_cot_experiment(model,arr_seeds,arr_versions, type_cot,num_observations=num_observations)"
   ]
  },
  {
   "cell_type": "markdown",
   "id": "497ba1a7-9a17-4849-b915-86790c9c7d3b",
   "metadata": {},
   "source": [
    "## 4 наблюдения"
   ]
  },
  {
   "cell_type": "code",
   "execution_count": 7,
   "id": "ce49c4fe-8bad-4a23-82e6-10e210d49af7",
   "metadata": {},
   "outputs": [
    {
     "name": "stdout",
     "output_type": "stream",
     "text": [
      "[136, 919, 90, 862, 582, 935, 787, 910, 181, 763, 751, 830, 214, 975, 392, 892, 392, 198, 149, 340]\n",
      "model: Qwen3-4B\n"
     ]
    }
   ],
   "source": [
    "n= 20\n",
    "arr_seeds = [random.randint(0,1000) for _ in range(n)]\n",
    "arr_versions = [x for x in range(n)]\n",
    "model = \"Qwen3-4B\"\n",
    "num_observations = 4\n",
    "type_cot = 'all_new'\n",
    "print(arr_seeds)\n",
    "print(f\"model: {model}\")"
   ]
  },
  {
   "cell_type": "code",
   "execution_count": 8,
   "id": "7a21f95e-0959-4d46-b161-3dd97031a48f",
   "metadata": {
    "scrolled": true
   },
   "outputs": [
    {
     "name": "stdout",
     "output_type": "stream",
     "text": [
      "Загружаем модель...\n"
     ]
    },
    {
     "name": "stderr",
     "output_type": "stream",
     "text": [
      "Loading safetensors checkpoint shards:   0% Completed | 0/3 [00:00<?, ?it/s]\n",
      "Loading safetensors checkpoint shards:  33% Completed | 1/3 [00:01<00:02,  1.15s/it]\n",
      "Loading safetensors checkpoint shards: 100% Completed | 3/3 [00:02<00:00,  1.24it/s]\n",
      "Loading safetensors checkpoint shards: 100% Completed | 3/3 [00:02<00:00,  1.19it/s]\n",
      "\u001b[1;36m(VllmWorker rank=0 pid=3383156)\u001b[0;0m \n"
     ]
    },
    {
     "name": "stdout",
     "output_type": "stream",
     "text": [
      "Модель успешно загружена\n",
      "model_config {'model': '/data/home/vkropoti/models/Qwen3-4B', 'tensor_parallel_size': 2, 'max_model_len': 40000, 'max_new_tokens': 1500, 'temperature': 0, 'top_k': 1, 'top_p': 0.8, 'gpu_memory_utilization': 0.9, 'trust_remote_code': False, 'seed': 136}\n",
      "\n",
      "prompts_config {'path_dev_json': '/data/home/vkropoti/sql_data/dev_spider.json', 'path_sql_dbs': '/data/home/vkropoti/sql_data/data_bases_spider/', 'use_reasoning': False, 'paths_to_cot': ['/data/home/vkropoti/sql_llm_answers/spider_dev_m_schema/sql_all_new_Qwen3-4B-reasoning-v0', '/data/home/vkropoti/sql_llm_answers/spider_dev_m_schema/sql_all_new_Qwen3-4B-reasoning-v1', '/data/home/vkropoti/sql_llm_answers/spider_dev_m_schema/sql_all_new_Qwen3-4B-reasoning-v2', '/data/home/vkropoti/sql_llm_answers/spider_dev_m_schema/sql_all_new_Qwen3-4B-reasoning-v3']}\n",
      "\n",
      "save_config {'path_sql_save': '/data/home/vkropoti/sql_llm_answers/spider_dev_m_schema/sql_all_Qwen3-4B-cot_all_new_think==False_nobs4-v0', 'path_think_save': None, 'path_sql_answers_save': '/data/home/vkropoti/sql_llm_answers/spider_dev_m_schema/sql_predict_Qwen3-4B-cot_all_new_think==False_nobs4-v0', 'path_to_save_scores': '/data/home/vkropoti/sql_llm_answers/spider_dev_m_schema/sql_results_Qwen3-4B-cot_all_new_think==False_nobs4-v0', 'path_to_save_executed': '/data/home/vkropoti/sql_llm_answers/spider_dev_m_schema/sql_executed_Qwen3-4B-cot_all_new_think==False_nobs4-v0'}\n",
      "\n",
      "Модель успешно загружена\n",
      "Пример промпта\n",
      "<|im_start|>system\n",
      "\n",
      "You are a data science expert. Below, you are provided with a database schema and a natural language question. Your task is to understand the schema and generate a valid SQL query to answer the question.\n",
      "\n",
      "Database Engine: SQLite\n",
      "\n",
      "You will be given an additional analysis of other models, please take it into account, so the plan is\n",
      "1. Analyse given addition analysis from other models (find in which analysis the same and differ, how to use that to answer question)\n",
      "2. Combine best from previous part and think how to solve the problem (analyze tables, take care what columns avaliable in each table and so on, check the syntacsis)\n",
      "3. Create the answers. The answer should be only sql query.\n",
      "\n",
      "Carefully follow the instruction and add <|im_end|> and the end of the final answer<|im_end|>\n",
      "<|im_start|>user\n",
      "Here is addition analysis from other models which can be helpfull, please take this into account but be careful (choose the best from each analysis, combine them to make the most proper answer):\n",
      "\n",
      "model 0 analysis:\n",
      " Reasoning process:\n",
      "\n",
      "Okay, let's see. The user is asking \"How many singers do we have?\" So I need to find the number of singers in the database.\n",
      "\n",
      "Looking at the tables provided, there's a 'singer' table. The 'singer' table has a primary key 'Singer_ID', which uniquely identifies each singer. So the number of singers should be the count of distinct Singer_IDs in the singer table.\n",
      "\n",
      "Wait, but maybe there's a possibility of duplicates? But since Singer_ID is the primary key, each entry is unique. So just counting the number of rows in the singer table would give the correct number. Alternatively, using COUNT(*) or COUNT(Singer_ID) would work.\n",
      "\n",
      "But the question is about the number of singers, so the answer is the count of all entries in the singer table. So the SQL query should be SELECT COUNT(*) FROM singer;.\n",
      "\n",
      "Let me check if there are any other tables that might have singer information. The 'singer_in_concert' table links singers to concerts, but that's a many-to-many relationship. The 'singer' table itself contains all the singers. So the correct approach is to count the rows in the singer table.\n",
      "\n",
      "Yes, so the correct SQL is to select the count of all rows from the singer table. That should give the total number of singers.\n",
      "\n",
      "Final answer based om reasoning for this model:\n",
      "\n",
      "\n",
      "```\n",
      "SELECT COUNT(*) FROM singer;\n",
      "```\n",
      "\n",
      "model 1 analysis:\n",
      " Reasoning process:\n",
      "\n",
      "Okay, let's see. The user is asking \"How many singers do we have?\" So I need to find the number of singers in the database.\n",
      "\n",
      "Looking at the tables, there's a 'singer' table. The 'singer' table has a primary key 'Singer_ID', which is an integer. Each row in this table represents a singer. So the number of singers should be the count of distinct Singer_IDs in the singer table.\n",
      "\n",
      "Wait, but maybe there's a possibility of duplicates? But since Singer_ID is the primary key, each entry is unique. So just counting the number of rows in the singer table would give the correct count.\n",
      "\n",
      "Alternatively, using COUNT(*) would also work. But since the question is about the number of singers, which is the count of distinct entries, either COUNT(*) or COUNT(Singer_ID) would work. But since Singer_ID is the primary key, it's guaranteed to be unique, so COUNT(*) is sufficient.\n",
      "\n",
      "So the SQL query would be SELECT COUNT(*) FROM singer;\n",
      "\n",
      "I need to make sure that the table name is correct. The table is called 'singer' as per the schema provided. The columns are correctly named. No need to join with other tables because the question is straightforward—just the count of singers in the singer table.\n",
      "\n",
      "Yes, that's it. The answer should be a simple SELECT COUNT(*) FROM singer;\n",
      "\n",
      "Final answer based om reasoning for this model:\n",
      "\n",
      "\n",
      "```\n",
      "SELECT COUNT(*) FROM singer;\n",
      "```\n",
      "\n",
      "model 2 analysis:\n",
      " Reasoning process:\n",
      "\n",
      "Okay, let's see. The user is asking \"How many singers do we have?\" So I need to find the number of singers in the database.\n",
      "\n",
      "Looking at the tables, there's a 'singer' table. The schema for the singer table includes Singer_ID, Name, Country, Song_Name, Song_release_year, Age, and Is_male. The Singer_ID is the primary key, which means each row represents a unique singer. \n",
      "\n",
      "Since the question is about counting the number of singers, the correct approach is to count the number of rows in the singer table. The SQL function COUNT() can be used here. The simplest query would be SELECT COUNT(*) FROM singer; \n",
      "\n",
      "I need to make sure there are no other tables involved. The other tables like concert, stadium, and singer_in_concert don't seem relevant here because they relate to concerts and stadiums, not the count of singers. The singer table is the only one that contains singer information. \n",
      "\n",
      "So the answer should be a single SQL query that counts all rows in the singer table. No joins or additional conditions are needed. The COUNT(*) function will return the total number of singers.\n",
      "\n",
      "Final answer based om reasoning for this model:\n",
      "\n",
      "\n",
      "```\n",
      "SELECT COUNT(*) FROM singer;\n",
      "```\n",
      "\n",
      "model 3 analysis:\n",
      " Reasoning process:\n",
      "\n",
      "Okay, let's see. The user is asking \"How many singers do we have?\" So I need to find the number of singers in the database.\n",
      "\n",
      "Looking at the tables provided, there's a 'singer' table. The 'singer' table has a primary key 'Singer_ID', which is an integer. Each entry in this table represents a unique singer. So the number of singers should be the count of rows in the 'singer' table.\n",
      "\n",
      "Wait, but I need to make sure there are no duplicates or anything. But since 'Singer_ID' is the primary key, each row is unique. So counting the number of rows in the 'singer' table should give the correct count.\n",
      "\n",
      "So the SQL query would be a simple SELECT COUNT(*) FROM singer. That should return the total number of singers. Let me check if there's any other table that might have singer information. The 'singer_in_concert' table links singers to concerts, but that's a many-to-many relationship. The 'singer' table itself is the source of singer data. So yes, the answer is to count the rows in the singer table.\n",
      "\n",
      "Final answer based om reasoning for this model:\n",
      "\n",
      "\n",
      "```\n",
      "SELECT COUNT(*) FROM singer;\n",
      "```\n",
      "\n",
      "\n",
      "here is avaliable tables and their structure below\n",
      "【DB_ID】 concert_singer\n",
      "【Schema】\n",
      "# Table: concert\n",
      "[\n",
      "(concert_ID:INTEGER, Primary Key, Examples: [1, 2, 3]),\n",
      "(concert_Name:TEXT, Examples: [Auditions, Super bootcamp, Home Visits]),\n",
      "(Theme:TEXT, Examples: [Free choice, Free choice 2, Bleeding Love]),\n",
      "(Stadium_ID:TEXT, maps to stadium.Stadium_ID, Examples: [1, 2, 10]),\n",
      "(Year:TEXT, Examples: [2014, 2015, 2016])\n",
      "]\n",
      "# Table: singer\n",
      "[\n",
      "(Singer_ID:INTEGER, Primary Key, Examples: [1, 2, 3]),\n",
      "(Name:TEXT, Examples: [Joe Sharp, Timbaland, Justin Brown]),\n",
      "(Country:TEXT, Examples: [Netherlands, United States, France]),\n",
      "(Song_Name:TEXT, Examples: [You, Dangerous, Hey Oh]),\n",
      "(Song_release_year:TEXT, Examples: [1992, 2008, 2013]),\n",
      "(Age:INTEGER, Examples: [52, 32, 29]),\n",
      "(Is_male:BOOLEAN, Examples: [False, True])\n",
      "]\n",
      "# Table: singer_in_concert\n",
      "[\n",
      "(concert_ID:INTEGER, maps to concert.concert_ID, Primary Key, Examples: [1, 2, 3]),\n",
      "(Singer_ID:TEXT, maps to singer.Singer_ID, Primary Key, Examples: [2, 3, 5])\n",
      "]\n",
      "# Table: stadium\n",
      "[\n",
      "(Stadium_ID:INTEGER, Primary Key, Examples: [1, 2, 3]),\n",
      "(Location:TEXT, Examples: [Raith Rovers, Ayr United, East Fife]),\n",
      "(Name:TEXT, Examples: [Stark's Park, Somerset Park, Bayview Stadium]),\n",
      "(Capacity:INTEGER, Examples: [10104, 11998, 2000]),\n",
      "(Highest:INTEGER, Examples: [4812, 2363, 1980]),\n",
      "(Lowest:INTEGER, Examples: [1294, 1057, 533]),\n",
      "(Average:INTEGER, Examples: [2106, 1477, 864])\n",
      "]\n",
      "【Foreign keys】\n",
      "concert.Stadium_ID=stadium.Stadium_ID\n",
      "singer_in_concert.concert_ID=concert.concert_ID\n",
      "singer_in_concert.Singer_ID=singer.Singer_ID\n",
      "\n",
      "-- Using valid SQLite, answer the following questions for the tables provided above.\n",
      "-- How many singers do we have?\n",
      "\n",
      "\n",
      "\n",
      "Generate the SQLite for the above question after thinking step by step: \n",
      "\n",
      "\n",
      "Instructions:\n",
      "- Make sure you only output the information that is asked in the question. If the question asks for a specific column, make sure to only include that column in the SELECT clause, nothing more.\n",
      "- The generated query should return all of the information asked in the question without any missing or extra information.\n",
      "- Before generating the final SQL query, please think through the steps of how to write the query.\n",
      "- Do not misuse column names, keep them in quotes `\n",
      "- Carefully understand what colomns belond to what tables\n",
      "- Use only initial column names, change names prohibited\n",
      "        \n",
      "Output Format:\n",
      "In your answer, please enclose the generated SQL query in a code block:\n",
      "```\n",
      "-- Your SQL query\n",
      "```    \n",
      "and nothing else, no exaplains, no comments (asnwer should be less than 512 characters)\n",
      "\n",
      "Take a deep breath and think step by step to find the correct SQL query in SQLite format.\n",
      "\n",
      "Question repetition: How many singers do we have?\n",
      "\n",
      "Be care! Include only what i want it questiona and nothing else<|im_end|>\n",
      "<|im_start|>assistant\n",
      "<think>\n",
      "\n",
      "</think>\n",
      "\n",
      "\n",
      "\n",
      "\n",
      "Максимальное количество токенов в промптах: 21855\n",
      "\n",
      "начинаем скорринг\n",
      "Загружаем чаты с данными...\n",
      "Данные успешно загружены\n",
      "Начали генерацию SQL запросов\n"
     ]
    },
    {
     "name": "stderr",
     "output_type": "stream",
     "text": [
      "Processed prompts: 100%|██████████| 1076/1076 [00:57<00:00, 18.78it/s, est. speed input: 70943.84 toks/s, output: 615.08 toks/s] "
     ]
    },
    {
     "name": "stdout",
     "output_type": "stream",
     "text": [
      "extract_think количество ошибок:  0\n",
      "extract_sql количество ошибок:  0\n",
      "Закончили генерацию SQL запросов\n",
      "Начали скорр полученных SQL запросов\n"
     ]
    },
    {
     "name": "stderr",
     "output_type": "stream",
     "text": [
      "\n"
     ]
    },
    {
     "name": "stdout",
     "output_type": "stream",
     "text": [
      "Qwen3-4B DEV Финальный результат EX: 74.35\n",
      "Qwen3-4B процент запросов, которые успешно выполнились DEV: 98.70%\n",
      "====================================================================================================\n",
      "\n",
      "\n",
      "Загружаем чаты с данными...\n",
      "Данные успешно загружены\n",
      "Начали генерацию SQL запросов\n"
     ]
    },
    {
     "name": "stderr",
     "output_type": "stream",
     "text": [
      "Processed prompts: 100%|██████████| 1076/1076 [00:58<00:00, 18.49it/s, est. speed input: 70168.14 toks/s, output: 608.87 toks/s] "
     ]
    },
    {
     "name": "stdout",
     "output_type": "stream",
     "text": [
      "extract_think количество ошибок:  0\n",
      "extract_sql количество ошибок:  0\n",
      "Закончили генерацию SQL запросов\n",
      "Начали скорр полученных SQL запросов\n"
     ]
    },
    {
     "name": "stderr",
     "output_type": "stream",
     "text": [
      "\n"
     ]
    },
    {
     "name": "stdout",
     "output_type": "stream",
     "text": [
      "Qwen3-4B DEV Финальный результат EX: 73.70\n",
      "Qwen3-4B процент запросов, которые успешно выполнились DEV: 98.79%\n",
      "====================================================================================================\n",
      "\n",
      "\n",
      "Загружаем чаты с данными...\n",
      "Данные успешно загружены\n",
      "Начали генерацию SQL запросов\n"
     ]
    },
    {
     "name": "stderr",
     "output_type": "stream",
     "text": [
      "Processed prompts: 100%|██████████| 1076/1076 [00:57<00:00, 18.62it/s, est. speed input: 70637.51 toks/s, output: 610.64 toks/s] "
     ]
    },
    {
     "name": "stdout",
     "output_type": "stream",
     "text": [
      "extract_think количество ошибок:  0\n",
      "extract_sql количество ошибок:  0\n",
      "Закончили генерацию SQL запросов\n",
      "Начали скорр полученных SQL запросов\n"
     ]
    },
    {
     "name": "stderr",
     "output_type": "stream",
     "text": [
      "\n"
     ]
    },
    {
     "name": "stdout",
     "output_type": "stream",
     "text": [
      "Qwen3-4B DEV Финальный результат EX: 73.51\n",
      "Qwen3-4B процент запросов, которые успешно выполнились DEV: 98.70%\n",
      "====================================================================================================\n",
      "\n",
      "\n",
      "Загружаем чаты с данными...\n",
      "Данные успешно загружены\n",
      "Начали генерацию SQL запросов\n"
     ]
    },
    {
     "name": "stderr",
     "output_type": "stream",
     "text": [
      "Processed prompts: 100%|██████████| 1076/1076 [00:57<00:00, 18.81it/s, est. speed input: 71048.16 toks/s, output: 615.61 toks/s] "
     ]
    },
    {
     "name": "stdout",
     "output_type": "stream",
     "text": [
      "extract_think количество ошибок:  0\n",
      "extract_sql количество ошибок:  0\n",
      "Закончили генерацию SQL запросов\n",
      "Начали скорр полученных SQL запросов\n"
     ]
    },
    {
     "name": "stderr",
     "output_type": "stream",
     "text": [
      "\n"
     ]
    },
    {
     "name": "stdout",
     "output_type": "stream",
     "text": [
      "Qwen3-4B DEV Финальный результат EX: 73.42\n",
      "Qwen3-4B процент запросов, которые успешно выполнились DEV: 98.23%\n",
      "====================================================================================================\n",
      "\n",
      "\n",
      "Загружаем чаты с данными...\n",
      "Данные успешно загружены\n",
      "Начали генерацию SQL запросов\n"
     ]
    },
    {
     "name": "stderr",
     "output_type": "stream",
     "text": [
      "Processed prompts: 100%|██████████| 1076/1076 [00:57<00:00, 18.64it/s, est. speed input: 70494.52 toks/s, output: 612.64 toks/s] "
     ]
    },
    {
     "name": "stdout",
     "output_type": "stream",
     "text": [
      "extract_think количество ошибок:  0\n",
      "extract_sql количество ошибок:  0\n",
      "Закончили генерацию SQL запросов\n",
      "Начали скорр полученных SQL запросов\n"
     ]
    },
    {
     "name": "stderr",
     "output_type": "stream",
     "text": [
      "\n"
     ]
    },
    {
     "name": "stdout",
     "output_type": "stream",
     "text": [
      "Qwen3-4B DEV Финальный результат EX: 74.26\n",
      "Qwen3-4B процент запросов, которые успешно выполнились DEV: 98.88%\n",
      "====================================================================================================\n",
      "\n",
      "\n",
      "Загружаем чаты с данными...\n",
      "Данные успешно загружены\n",
      "Начали генерацию SQL запросов\n"
     ]
    },
    {
     "name": "stderr",
     "output_type": "stream",
     "text": [
      "Processed prompts: 100%|██████████| 1076/1076 [00:57<00:00, 18.58it/s, est. speed input: 70371.60 toks/s, output: 604.93 toks/s] "
     ]
    },
    {
     "name": "stdout",
     "output_type": "stream",
     "text": [
      "extract_think количество ошибок:  0\n",
      "extract_sql количество ошибок:  0\n",
      "Закончили генерацию SQL запросов\n",
      "Начали скорр полученных SQL запросов\n"
     ]
    },
    {
     "name": "stderr",
     "output_type": "stream",
     "text": [
      "\n"
     ]
    },
    {
     "name": "stdout",
     "output_type": "stream",
     "text": [
      "Qwen3-4B DEV Финальный результат EX: 74.07\n",
      "Qwen3-4B процент запросов, которые успешно выполнились DEV: 98.98%\n",
      "====================================================================================================\n",
      "\n",
      "\n",
      "Загружаем чаты с данными...\n",
      "Данные успешно загружены\n",
      "Начали генерацию SQL запросов\n"
     ]
    },
    {
     "name": "stderr",
     "output_type": "stream",
     "text": [
      "Processed prompts: 100%|██████████| 1076/1076 [00:58<00:00, 18.48it/s, est. speed input: 70375.39 toks/s, output: 600.48 toks/s] "
     ]
    },
    {
     "name": "stdout",
     "output_type": "stream",
     "text": [
      "extract_think количество ошибок:  0\n",
      "extract_sql количество ошибок:  0\n",
      "Закончили генерацию SQL запросов\n",
      "Начали скорр полученных SQL запросов\n"
     ]
    },
    {
     "name": "stderr",
     "output_type": "stream",
     "text": [
      "\n"
     ]
    },
    {
     "name": "stdout",
     "output_type": "stream",
     "text": [
      "Qwen3-4B DEV Финальный результат EX: 74.16\n",
      "Qwen3-4B процент запросов, которые успешно выполнились DEV: 99.07%\n",
      "====================================================================================================\n",
      "\n",
      "\n",
      "Загружаем чаты с данными...\n",
      "Данные успешно загружены\n",
      "Начали генерацию SQL запросов\n"
     ]
    },
    {
     "name": "stderr",
     "output_type": "stream",
     "text": [
      "Processed prompts: 100%|██████████| 1076/1076 [00:58<00:00, 18.50it/s, est. speed input: 69980.91 toks/s, output: 605.44 toks/s] "
     ]
    },
    {
     "name": "stdout",
     "output_type": "stream",
     "text": [
      "extract_think количество ошибок:  0\n",
      "extract_sql количество ошибок:  0\n",
      "Закончили генерацию SQL запросов\n",
      "Начали скорр полученных SQL запросов\n"
     ]
    },
    {
     "name": "stderr",
     "output_type": "stream",
     "text": [
      "\n"
     ]
    },
    {
     "name": "stdout",
     "output_type": "stream",
     "text": [
      "Qwen3-4B DEV Финальный результат EX: 73.98\n",
      "Qwen3-4B процент запросов, которые успешно выполнились DEV: 98.79%\n",
      "====================================================================================================\n",
      "\n",
      "\n",
      "Загружаем чаты с данными...\n",
      "Данные успешно загружены\n",
      "Начали генерацию SQL запросов\n"
     ]
    },
    {
     "name": "stderr",
     "output_type": "stream",
     "text": [
      "Processed prompts: 100%|██████████| 1076/1076 [00:57<00:00, 18.57it/s, est. speed input: 70232.55 toks/s, output: 614.97 toks/s] "
     ]
    },
    {
     "name": "stdout",
     "output_type": "stream",
     "text": [
      "extract_think количество ошибок:  0\n",
      "extract_sql количество ошибок:  0\n",
      "Закончили генерацию SQL запросов\n",
      "Начали скорр полученных SQL запросов\n"
     ]
    },
    {
     "name": "stderr",
     "output_type": "stream",
     "text": [
      "\n"
     ]
    },
    {
     "name": "stdout",
     "output_type": "stream",
     "text": [
      "Qwen3-4B DEV Финальный результат EX: 73.51\n",
      "Qwen3-4B процент запросов, которые успешно выполнились DEV: 98.42%\n",
      "====================================================================================================\n",
      "\n",
      "\n",
      "Загружаем чаты с данными...\n",
      "Данные успешно загружены\n",
      "Начали генерацию SQL запросов\n"
     ]
    },
    {
     "name": "stderr",
     "output_type": "stream",
     "text": [
      "Processed prompts: 100%|██████████| 1076/1076 [00:57<00:00, 18.59it/s, est. speed input: 70436.60 toks/s, output: 615.42 toks/s] "
     ]
    },
    {
     "name": "stdout",
     "output_type": "stream",
     "text": [
      "extract_think количество ошибок:  0\n",
      "extract_sql количество ошибок:  0\n",
      "Закончили генерацию SQL запросов\n",
      "Начали скорр полученных SQL запросов\n"
     ]
    },
    {
     "name": "stderr",
     "output_type": "stream",
     "text": [
      "\n"
     ]
    },
    {
     "name": "stdout",
     "output_type": "stream",
     "text": [
      "Qwen3-4B DEV Финальный результат EX: 73.61\n",
      "Qwen3-4B процент запросов, которые успешно выполнились DEV: 98.79%\n",
      "====================================================================================================\n",
      "\n",
      "\n",
      "Загружаем чаты с данными...\n",
      "Данные успешно загружены\n",
      "Начали генерацию SQL запросов\n"
     ]
    },
    {
     "name": "stderr",
     "output_type": "stream",
     "text": [
      "Processed prompts: 100%|██████████| 1076/1076 [00:57<00:00, 18.59it/s, est. speed input: 70114.94 toks/s, output: 610.26 toks/s] "
     ]
    },
    {
     "name": "stdout",
     "output_type": "stream",
     "text": [
      "extract_think количество ошибок:  0\n",
      "extract_sql количество ошибок:  0\n",
      "Закончили генерацию SQL запросов\n",
      "Начали скорр полученных SQL запросов\n"
     ]
    },
    {
     "name": "stderr",
     "output_type": "stream",
     "text": [
      "\n"
     ]
    },
    {
     "name": "stdout",
     "output_type": "stream",
     "text": [
      "Qwen3-4B DEV Финальный результат EX: 74.54\n",
      "Qwen3-4B процент запросов, которые успешно выполнились DEV: 98.79%\n",
      "====================================================================================================\n",
      "\n",
      "\n",
      "Загружаем чаты с данными...\n",
      "Данные успешно загружены\n",
      "Начали генерацию SQL запросов\n"
     ]
    },
    {
     "name": "stderr",
     "output_type": "stream",
     "text": [
      "Processed prompts: 100%|██████████| 1076/1076 [00:57<00:00, 18.72it/s, est. speed input: 70933.96 toks/s, output: 605.09 toks/s] "
     ]
    },
    {
     "name": "stdout",
     "output_type": "stream",
     "text": [
      "extract_think количество ошибок:  0\n",
      "extract_sql количество ошибок:  0\n",
      "Закончили генерацию SQL запросов\n",
      "Начали скорр полученных SQL запросов\n"
     ]
    },
    {
     "name": "stderr",
     "output_type": "stream",
     "text": [
      "\n"
     ]
    },
    {
     "name": "stdout",
     "output_type": "stream",
     "text": [
      "Qwen3-4B DEV Финальный результат EX: 74.91\n",
      "Qwen3-4B процент запросов, которые успешно выполнились DEV: 98.98%\n",
      "====================================================================================================\n",
      "\n",
      "\n",
      "Загружаем чаты с данными...\n",
      "Данные успешно загружены\n",
      "Начали генерацию SQL запросов\n"
     ]
    },
    {
     "name": "stderr",
     "output_type": "stream",
     "text": [
      "Processed prompts: 100%|██████████| 1076/1076 [00:58<00:00, 18.45it/s, est. speed input: 70146.67 toks/s, output: 606.80 toks/s] "
     ]
    },
    {
     "name": "stdout",
     "output_type": "stream",
     "text": [
      "extract_think количество ошибок:  0\n",
      "extract_sql количество ошибок:  0\n",
      "Закончили генерацию SQL запросов\n",
      "Начали скорр полученных SQL запросов\n"
     ]
    },
    {
     "name": "stderr",
     "output_type": "stream",
     "text": [
      "\n"
     ]
    },
    {
     "name": "stdout",
     "output_type": "stream",
     "text": [
      "Qwen3-4B DEV Финальный результат EX: 74.54\n",
      "Qwen3-4B процент запросов, которые успешно выполнились DEV: 98.79%\n",
      "====================================================================================================\n",
      "\n",
      "\n",
      "Загружаем чаты с данными...\n",
      "Данные успешно загружены\n",
      "Начали генерацию SQL запросов\n"
     ]
    },
    {
     "name": "stderr",
     "output_type": "stream",
     "text": [
      "Processed prompts: 100%|██████████| 1076/1076 [00:57<00:00, 18.80it/s, est. speed input: 70730.32 toks/s, output: 616.22 toks/s] "
     ]
    },
    {
     "name": "stdout",
     "output_type": "stream",
     "text": [
      "extract_think количество ошибок:  0\n",
      "extract_sql количество ошибок:  0\n",
      "Закончили генерацию SQL запросов\n",
      "Начали скорр полученных SQL запросов\n"
     ]
    },
    {
     "name": "stderr",
     "output_type": "stream",
     "text": [
      "\n"
     ]
    },
    {
     "name": "stdout",
     "output_type": "stream",
     "text": [
      "Qwen3-4B DEV Финальный результат EX: 73.88\n",
      "Qwen3-4B процент запросов, которые успешно выполнились DEV: 98.79%\n",
      "====================================================================================================\n",
      "\n",
      "\n",
      "Загружаем чаты с данными...\n",
      "Данные успешно загружены\n",
      "Начали генерацию SQL запросов\n"
     ]
    },
    {
     "name": "stderr",
     "output_type": "stream",
     "text": [
      "Processed prompts: 100%|██████████| 1076/1076 [00:57<00:00, 18.70it/s, est. speed input: 70362.97 toks/s, output: 614.07 toks/s] "
     ]
    },
    {
     "name": "stdout",
     "output_type": "stream",
     "text": [
      "extract_think количество ошибок:  0\n",
      "extract_sql количество ошибок:  0\n",
      "Закончили генерацию SQL запросов\n",
      "Начали скорр полученных SQL запросов\n"
     ]
    },
    {
     "name": "stderr",
     "output_type": "stream",
     "text": [
      "\n"
     ]
    },
    {
     "name": "stdout",
     "output_type": "stream",
     "text": [
      "Qwen3-4B DEV Финальный результат EX: 74.26\n",
      "Qwen3-4B процент запросов, которые успешно выполнились DEV: 99.07%\n",
      "====================================================================================================\n",
      "\n",
      "\n",
      "Загружаем чаты с данными...\n",
      "Данные успешно загружены\n",
      "Начали генерацию SQL запросов\n"
     ]
    },
    {
     "name": "stderr",
     "output_type": "stream",
     "text": [
      "Processed prompts: 100%|██████████| 1076/1076 [00:57<00:00, 18.80it/s, est. speed input: 70510.22 toks/s, output: 618.98 toks/s] "
     ]
    },
    {
     "name": "stdout",
     "output_type": "stream",
     "text": [
      "extract_think количество ошибок:  0\n",
      "extract_sql количество ошибок:  0\n",
      "Закончили генерацию SQL запросов\n",
      "Начали скорр полученных SQL запросов\n"
     ]
    },
    {
     "name": "stderr",
     "output_type": "stream",
     "text": [
      "\n"
     ]
    },
    {
     "name": "stdout",
     "output_type": "stream",
     "text": [
      "Qwen3-4B DEV Финальный результат EX: 75.28\n",
      "Qwen3-4B процент запросов, которые успешно выполнились DEV: 98.79%\n",
      "====================================================================================================\n",
      "\n",
      "\n",
      "Загружаем чаты с данными...\n",
      "Данные успешно загружены\n",
      "Начали генерацию SQL запросов\n"
     ]
    },
    {
     "name": "stderr",
     "output_type": "stream",
     "text": [
      "Processed prompts: 100%|██████████| 1076/1076 [00:56<00:00, 18.91it/s, est. speed input: 70534.02 toks/s, output: 622.49 toks/s] "
     ]
    },
    {
     "name": "stdout",
     "output_type": "stream",
     "text": [
      "extract_think количество ошибок:  0\n",
      "extract_sql количество ошибок:  0\n",
      "Закончили генерацию SQL запросов\n",
      "Начали скорр полученных SQL запросов\n"
     ]
    },
    {
     "name": "stderr",
     "output_type": "stream",
     "text": [
      "\n"
     ]
    },
    {
     "name": "stdout",
     "output_type": "stream",
     "text": [
      "Qwen3-4B DEV Финальный результат EX: 74.07\n",
      "Qwen3-4B процент запросов, которые успешно выполнились DEV: 99.16%\n",
      "====================================================================================================\n",
      "\n",
      "\n",
      "Загружаем чаты с данными...\n",
      "Данные успешно загружены\n",
      "Начали генерацию SQL запросов\n"
     ]
    },
    {
     "name": "stderr",
     "output_type": "stream",
     "text": [
      "Processed prompts: 100%|██████████| 1076/1076 [00:56<00:00, 18.90it/s, est. speed input: 70661.88 toks/s, output: 624.40 toks/s] "
     ]
    },
    {
     "name": "stdout",
     "output_type": "stream",
     "text": [
      "extract_think количество ошибок:  0\n",
      "extract_sql количество ошибок:  0\n",
      "Закончили генерацию SQL запросов\n",
      "Начали скорр полученных SQL запросов\n"
     ]
    },
    {
     "name": "stderr",
     "output_type": "stream",
     "text": [
      "\n"
     ]
    },
    {
     "name": "stdout",
     "output_type": "stream",
     "text": [
      "Qwen3-4B DEV Финальный результат EX: 74.44\n",
      "Qwen3-4B процент запросов, которые успешно выполнились DEV: 98.88%\n",
      "====================================================================================================\n",
      "\n",
      "\n",
      "Загружаем чаты с данными...\n",
      "Данные успешно загружены\n",
      "Начали генерацию SQL запросов\n"
     ]
    },
    {
     "name": "stderr",
     "output_type": "stream",
     "text": [
      "Processed prompts: 100%|██████████| 1076/1076 [00:57<00:00, 18.83it/s, est. speed input: 70351.04 toks/s, output: 621.49 toks/s] "
     ]
    },
    {
     "name": "stdout",
     "output_type": "stream",
     "text": [
      "extract_think количество ошибок:  0\n",
      "extract_sql количество ошибок:  0\n",
      "Закончили генерацию SQL запросов\n",
      "Начали скорр полученных SQL запросов\n"
     ]
    },
    {
     "name": "stderr",
     "output_type": "stream",
     "text": [
      "\n"
     ]
    },
    {
     "name": "stdout",
     "output_type": "stream",
     "text": [
      "Qwen3-4B DEV Финальный результат EX: 74.44\n",
      "Qwen3-4B процент запросов, которые успешно выполнились DEV: 98.70%\n",
      "====================================================================================================\n",
      "\n",
      "\n",
      "Загружаем чаты с данными...\n",
      "Данные успешно загружены\n",
      "Начали генерацию SQL запросов\n"
     ]
    },
    {
     "name": "stderr",
     "output_type": "stream",
     "text": [
      "Processed prompts: 100%|██████████| 1076/1076 [00:57<00:00, 18.60it/s, est. speed input: 70200.36 toks/s, output: 615.19 toks/s] "
     ]
    },
    {
     "name": "stdout",
     "output_type": "stream",
     "text": [
      "extract_think количество ошибок:  0\n",
      "extract_sql количество ошибок:  0\n",
      "Закончили генерацию SQL запросов\n",
      "Начали скорр полученных SQL запросов\n"
     ]
    },
    {
     "name": "stderr",
     "output_type": "stream",
     "text": [
      "\n"
     ]
    },
    {
     "name": "stdout",
     "output_type": "stream",
     "text": [
      "Qwen3-4B DEV Финальный результат EX: 73.88\n",
      "Qwen3-4B процент запросов, которые успешно выполнились DEV: 98.23%\n",
      "====================================================================================================\n",
      "\n",
      "\n"
     ]
    }
   ],
   "source": [
    "run_cot_experiment(model,arr_seeds,arr_versions, type_cot,num_observations=num_observations)"
   ]
  },
  {
   "cell_type": "markdown",
   "id": "e8321b48-e1ff-41e4-b667-d7196e984c17",
   "metadata": {},
   "source": [
    "## 5 наблюдений"
   ]
  },
  {
   "cell_type": "code",
   "execution_count": 9,
   "id": "613df4ca-270b-4de3-9fb0-a403da4769f9",
   "metadata": {},
   "outputs": [
    {
     "name": "stdout",
     "output_type": "stream",
     "text": [
      "[52, 275, 276, 486, 14, 945, 714, 830, 124, 507, 992, 153, 787, 431, 555, 908, 763, 189, 31, 155]\n",
      "model: Qwen3-4B\n"
     ]
    }
   ],
   "source": [
    "n= 20\n",
    "arr_seeds = [random.randint(0,1000) for _ in range(n)]\n",
    "arr_versions = [x for x in range(n)]\n",
    "model = \"Qwen3-4B\"\n",
    "num_observations = 5\n",
    "type_cot = 'all_new'\n",
    "print(arr_seeds)\n",
    "print(f\"model: {model}\")"
   ]
  },
  {
   "cell_type": "code",
   "execution_count": 10,
   "id": "cecc36c2-8753-43db-a939-82d14892b0f5",
   "metadata": {
    "scrolled": true
   },
   "outputs": [
    {
     "name": "stdout",
     "output_type": "stream",
     "text": [
      "Загружаем модель...\n"
     ]
    },
    {
     "name": "stderr",
     "output_type": "stream",
     "text": [
      "Loading safetensors checkpoint shards:   0% Completed | 0/3 [00:00<?, ?it/s]\n",
      "Loading safetensors checkpoint shards:  33% Completed | 1/3 [00:01<00:02,  1.32s/it]\n",
      "Loading safetensors checkpoint shards: 100% Completed | 3/3 [00:02<00:00,  1.21it/s]\n",
      "Loading safetensors checkpoint shards: 100% Completed | 3/3 [00:02<00:00,  1.14it/s]\n",
      "\u001b[1;36m(VllmWorker rank=0 pid=3421476)\u001b[0;0m \n"
     ]
    },
    {
     "name": "stdout",
     "output_type": "stream",
     "text": [
      "Модель успешно загружена\n",
      "model_config {'model': '/data/home/vkropoti/models/Qwen3-4B', 'tensor_parallel_size': 2, 'max_model_len': 40000, 'max_new_tokens': 1500, 'temperature': 0, 'top_k': 1, 'top_p': 0.8, 'gpu_memory_utilization': 0.9, 'trust_remote_code': False, 'seed': 52}\n",
      "\n",
      "prompts_config {'path_dev_json': '/data/home/vkropoti/sql_data/dev_spider.json', 'path_sql_dbs': '/data/home/vkropoti/sql_data/data_bases_spider/', 'use_reasoning': False, 'paths_to_cot': ['/data/home/vkropoti/sql_llm_answers/spider_dev_m_schema/sql_all_new_Qwen3-4B-reasoning-v0', '/data/home/vkropoti/sql_llm_answers/spider_dev_m_schema/sql_all_new_Qwen3-4B-reasoning-v1', '/data/home/vkropoti/sql_llm_answers/spider_dev_m_schema/sql_all_new_Qwen3-4B-reasoning-v2', '/data/home/vkropoti/sql_llm_answers/spider_dev_m_schema/sql_all_new_Qwen3-4B-reasoning-v3', '/data/home/vkropoti/sql_llm_answers/spider_dev_m_schema/sql_all_new_Qwen3-4B-reasoning-v4']}\n",
      "\n",
      "save_config {'path_sql_save': '/data/home/vkropoti/sql_llm_answers/spider_dev_m_schema/sql_all_Qwen3-4B-cot_all_new_think==False_nobs5-v0', 'path_think_save': None, 'path_sql_answers_save': '/data/home/vkropoti/sql_llm_answers/spider_dev_m_schema/sql_predict_Qwen3-4B-cot_all_new_think==False_nobs5-v0', 'path_to_save_scores': '/data/home/vkropoti/sql_llm_answers/spider_dev_m_schema/sql_results_Qwen3-4B-cot_all_new_think==False_nobs5-v0', 'path_to_save_executed': '/data/home/vkropoti/sql_llm_answers/spider_dev_m_schema/sql_executed_Qwen3-4B-cot_all_new_think==False_nobs5-v0'}\n",
      "\n",
      "Модель успешно загружена\n",
      "Пример промпта\n",
      "<|im_start|>system\n",
      "\n",
      "You are a data science expert. Below, you are provided with a database schema and a natural language question. Your task is to understand the schema and generate a valid SQL query to answer the question.\n",
      "\n",
      "Database Engine: SQLite\n",
      "\n",
      "You will be given an additional analysis of other models, please take it into account, so the plan is\n",
      "1. Analyse given addition analysis from other models (find in which analysis the same and differ, how to use that to answer question)\n",
      "2. Combine best from previous part and think how to solve the problem (analyze tables, take care what columns avaliable in each table and so on, check the syntacsis)\n",
      "3. Create the answers. The answer should be only sql query.\n",
      "\n",
      "Carefully follow the instruction and add <|im_end|> and the end of the final answer<|im_end|>\n",
      "<|im_start|>user\n",
      "Here is addition analysis from other models which can be helpfull, please take this into account but be careful (choose the best from each analysis, combine them to make the most proper answer):\n",
      "\n",
      "model 0 analysis:\n",
      " Reasoning process:\n",
      "\n",
      "Okay, let's see. The user is asking \"How many singers do we have?\" So I need to find the number of singers in the database.\n",
      "\n",
      "Looking at the tables provided, there's a 'singer' table. The 'singer' table has a primary key 'Singer_ID', which uniquely identifies each singer. So the number of singers should be the count of distinct Singer_IDs in the singer table.\n",
      "\n",
      "Wait, but maybe there's a possibility of duplicates? But since Singer_ID is the primary key, each entry is unique. So just counting the number of rows in the singer table would give the correct number. Alternatively, using COUNT(*) or COUNT(Singer_ID) would work.\n",
      "\n",
      "But the question is about the number of singers, so the answer is the count of all entries in the singer table. So the SQL query should be SELECT COUNT(*) FROM singer;.\n",
      "\n",
      "Let me check if there are any other tables that might have singer information. The 'singer_in_concert' table links singers to concerts, but that's a many-to-many relationship. The 'singer' table itself contains all the singers. So the correct approach is to count the rows in the singer table.\n",
      "\n",
      "Yes, so the correct SQL is to select the count of all rows from the singer table. That should give the total number of singers.\n",
      "\n",
      "Final answer based om reasoning for this model:\n",
      "\n",
      "\n",
      "```\n",
      "SELECT COUNT(*) FROM singer;\n",
      "```\n",
      "\n",
      "model 1 analysis:\n",
      " Reasoning process:\n",
      "\n",
      "Okay, let's see. The user is asking \"How many singers do we have?\" So I need to find the number of singers in the database.\n",
      "\n",
      "Looking at the tables, there's a 'singer' table. The 'singer' table has a primary key 'Singer_ID', which is an integer. Each row in this table represents a singer. So the number of singers should be the count of distinct Singer_IDs in the singer table.\n",
      "\n",
      "Wait, but maybe there's a possibility of duplicates? But since Singer_ID is the primary key, each entry is unique. So just counting the number of rows in the singer table would give the correct count.\n",
      "\n",
      "Alternatively, using COUNT(*) would also work. But since the question is about the number of singers, which is the count of distinct entries, either COUNT(*) or COUNT(Singer_ID) would work. But since Singer_ID is the primary key, it's guaranteed to be unique, so COUNT(*) is sufficient.\n",
      "\n",
      "So the SQL query would be SELECT COUNT(*) FROM singer;\n",
      "\n",
      "I need to make sure that the table name is correct. The table is called 'singer' as per the schema provided. The columns are correctly named. No need to join with other tables because the question is straightforward—just the count of singers in the singer table.\n",
      "\n",
      "Yes, that's it. The answer should be a simple SELECT COUNT(*) FROM singer;\n",
      "\n",
      "Final answer based om reasoning for this model:\n",
      "\n",
      "\n",
      "```\n",
      "SELECT COUNT(*) FROM singer;\n",
      "```\n",
      "\n",
      "model 2 analysis:\n",
      " Reasoning process:\n",
      "\n",
      "Okay, let's see. The user is asking \"How many singers do we have?\" So I need to find the number of singers in the database.\n",
      "\n",
      "Looking at the tables, there's a 'singer' table. The schema for the singer table includes Singer_ID, Name, Country, Song_Name, Song_release_year, Age, and Is_male. The Singer_ID is the primary key, which means each row represents a unique singer. \n",
      "\n",
      "Since the question is about counting the number of singers, the correct approach is to count the number of rows in the singer table. The SQL function COUNT() can be used here. The simplest query would be SELECT COUNT(*) FROM singer; \n",
      "\n",
      "I need to make sure there are no other tables involved. The other tables like concert, stadium, and singer_in_concert don't seem relevant here because they relate to concerts and stadiums, not the count of singers. The singer table is the only one that contains singer information. \n",
      "\n",
      "So the answer should be a single SQL query that counts all rows in the singer table. No joins or additional conditions are needed. The COUNT(*) function will return the total number of singers.\n",
      "\n",
      "Final answer based om reasoning for this model:\n",
      "\n",
      "\n",
      "```\n",
      "SELECT COUNT(*) FROM singer;\n",
      "```\n",
      "\n",
      "model 3 analysis:\n",
      " Reasoning process:\n",
      "\n",
      "Okay, let's see. The user is asking \"How many singers do we have?\" So I need to find the number of singers in the database.\n",
      "\n",
      "Looking at the tables provided, there's a 'singer' table. The 'singer' table has a primary key 'Singer_ID', which is an integer. Each entry in this table represents a unique singer. So the number of singers should be the count of rows in the 'singer' table.\n",
      "\n",
      "Wait, but I need to make sure there are no duplicates or anything. But since 'Singer_ID' is the primary key, each row is unique. So counting the number of rows in the 'singer' table should give the correct count.\n",
      "\n",
      "So the SQL query would be a simple SELECT COUNT(*) FROM singer. That should return the total number of singers. Let me check if there's any other table that might have singer information. The 'singer_in_concert' table links singers to concerts, but that's a many-to-many relationship. The 'singer' table itself is the source of singer data. So yes, the answer is to count the rows in the singer table.\n",
      "\n",
      "Final answer based om reasoning for this model:\n",
      "\n",
      "\n",
      "```\n",
      "SELECT COUNT(*) FROM singer;\n",
      "```\n",
      "\n",
      "model 4 analysis:\n",
      " Reasoning process:\n",
      "\n",
      "Okay, let's see. The user is asking \"How many singers do we have?\" So I need to find the number of singers in the database.\n",
      "\n",
      "Looking at the tables, there's a 'singer' table. The 'singer' table has a primary key 'Singer_ID', which uniquely identifies each singer. So the number of singers should be the count of distinct Singer_IDs in the singer table.\n",
      "\n",
      "Wait, but maybe there's a possibility of duplicate entries? But since Singer_ID is the primary key, each entry is unique. So counting the number of rows in the singer table would give the correct number. Alternatively, using COUNT(*) would work too.\n",
      "\n",
      "So the SQL query would be SELECT COUNT(*) FROM singer; or maybe SELECT COUNT(Singer_ID) FROM singer;. But since Singer_ID is the primary key, both should work. But the user might have a table with possible NULLs, but the schema says Singer_ID is an integer primary key, so it's not nullable. Therefore, COUNT(*) is safe.\n",
      "\n",
      "But the question is about the number of singers. So the correct query is to count the number of rows in the singer table. So the answer is SELECT COUNT(*) FROM singer;\n",
      "\n",
      "Final answer based om reasoning for this model:\n",
      "\n",
      "\n",
      "```\n",
      "SELECT COUNT(*) FROM singer;\n",
      "```\n",
      "\n",
      "\n",
      "here is avaliable tables and their structure below\n",
      "【DB_ID】 concert_singer\n",
      "【Schema】\n",
      "# Table: concert\n",
      "[\n",
      "(concert_ID:INTEGER, Primary Key, Examples: [1, 2, 3]),\n",
      "(concert_Name:TEXT, Examples: [Auditions, Super bootcamp, Home Visits]),\n",
      "(Theme:TEXT, Examples: [Free choice, Free choice 2, Bleeding Love]),\n",
      "(Stadium_ID:TEXT, maps to stadium.Stadium_ID, Examples: [1, 2, 10]),\n",
      "(Year:TEXT, Examples: [2014, 2015, 2016])\n",
      "]\n",
      "# Table: singer\n",
      "[\n",
      "(Singer_ID:INTEGER, Primary Key, Examples: [1, 2, 3]),\n",
      "(Name:TEXT, Examples: [Joe Sharp, Timbaland, Justin Brown]),\n",
      "(Country:TEXT, Examples: [Netherlands, United States, France]),\n",
      "(Song_Name:TEXT, Examples: [You, Dangerous, Hey Oh]),\n",
      "(Song_release_year:TEXT, Examples: [1992, 2008, 2013]),\n",
      "(Age:INTEGER, Examples: [52, 32, 29]),\n",
      "(Is_male:BOOLEAN, Examples: [False, True])\n",
      "]\n",
      "# Table: singer_in_concert\n",
      "[\n",
      "(concert_ID:INTEGER, maps to concert.concert_ID, Primary Key, Examples: [1, 2, 3]),\n",
      "(Singer_ID:TEXT, maps to singer.Singer_ID, Primary Key, Examples: [2, 3, 5])\n",
      "]\n",
      "# Table: stadium\n",
      "[\n",
      "(Stadium_ID:INTEGER, Primary Key, Examples: [1, 2, 3]),\n",
      "(Location:TEXT, Examples: [Raith Rovers, Ayr United, East Fife]),\n",
      "(Name:TEXT, Examples: [Stark's Park, Somerset Park, Bayview Stadium]),\n",
      "(Capacity:INTEGER, Examples: [10104, 11998, 2000]),\n",
      "(Highest:INTEGER, Examples: [4812, 2363, 1980]),\n",
      "(Lowest:INTEGER, Examples: [1294, 1057, 533]),\n",
      "(Average:INTEGER, Examples: [2106, 1477, 864])\n",
      "]\n",
      "【Foreign keys】\n",
      "concert.Stadium_ID=stadium.Stadium_ID\n",
      "singer_in_concert.concert_ID=concert.concert_ID\n",
      "singer_in_concert.Singer_ID=singer.Singer_ID\n",
      "\n",
      "-- Using valid SQLite, answer the following questions for the tables provided above.\n",
      "-- How many singers do we have?\n",
      "\n",
      "\n",
      "\n",
      "Generate the SQLite for the above question after thinking step by step: \n",
      "\n",
      "\n",
      "Instructions:\n",
      "- Make sure you only output the information that is asked in the question. If the question asks for a specific column, make sure to only include that column in the SELECT clause, nothing more.\n",
      "- The generated query should return all of the information asked in the question without any missing or extra information.\n",
      "- Before generating the final SQL query, please think through the steps of how to write the query.\n",
      "- Do not misuse column names, keep them in quotes `\n",
      "- Carefully understand what colomns belond to what tables\n",
      "- Use only initial column names, change names prohibited\n",
      "        \n",
      "Output Format:\n",
      "In your answer, please enclose the generated SQL query in a code block:\n",
      "```\n",
      "-- Your SQL query\n",
      "```    \n",
      "and nothing else, no exaplains, no comments (asnwer should be less than 512 characters)\n",
      "\n",
      "Take a deep breath and think step by step to find the correct SQL query in SQLite format.\n",
      "\n",
      "Question repetition: How many singers do we have?\n",
      "\n",
      "Be care! Include only what i want it questiona and nothing else<|im_end|>\n",
      "<|im_start|>assistant\n",
      "<think>\n",
      "\n",
      "</think>\n",
      "\n",
      "\n",
      "\n",
      "\n",
      "Максимальное количество токенов в промптах: 27578\n",
      "\n",
      "начинаем скорринг\n",
      "Загружаем чаты с данными...\n",
      "Данные успешно загружены\n",
      "Начали генерацию SQL запросов\n"
     ]
    },
    {
     "name": "stderr",
     "output_type": "stream",
     "text": [
      "Processed prompts: 100%|██████████| 1076/1076 [01:10<00:00, 15.26it/s, est. speed input: 67868.95 toks/s, output: 503.47 toks/s] "
     ]
    },
    {
     "name": "stdout",
     "output_type": "stream",
     "text": [
      "extract_think количество ошибок:  0\n",
      "extract_sql количество ошибок:  0\n",
      "Закончили генерацию SQL запросов\n",
      "Начали скорр полученных SQL запросов\n"
     ]
    },
    {
     "name": "stderr",
     "output_type": "stream",
     "text": [
      "\n"
     ]
    },
    {
     "name": "stdout",
     "output_type": "stream",
     "text": [
      "Qwen3-4B DEV Финальный результат EX: 74.16\n",
      "Qwen3-4B процент запросов, которые успешно выполнились DEV: 98.51%\n",
      "====================================================================================================\n",
      "\n",
      "\n",
      "Загружаем чаты с данными...\n",
      "Данные успешно загружены\n",
      "Начали генерацию SQL запросов\n"
     ]
    },
    {
     "name": "stderr",
     "output_type": "stream",
     "text": [
      "Processed prompts: 100%|██████████| 1076/1076 [01:11<00:00, 15.12it/s, est. speed input: 67428.50 toks/s, output: 496.91 toks/s] "
     ]
    },
    {
     "name": "stdout",
     "output_type": "stream",
     "text": [
      "extract_think количество ошибок:  0\n",
      "extract_sql количество ошибок:  0\n",
      "Закончили генерацию SQL запросов\n",
      "Начали скорр полученных SQL запросов\n"
     ]
    },
    {
     "name": "stderr",
     "output_type": "stream",
     "text": [
      "\n"
     ]
    },
    {
     "name": "stdout",
     "output_type": "stream",
     "text": [
      "Qwen3-4B DEV Финальный результат EX: 74.16\n",
      "Qwen3-4B процент запросов, которые успешно выполнились DEV: 98.61%\n",
      "====================================================================================================\n",
      "\n",
      "\n",
      "Загружаем чаты с данными...\n",
      "Данные успешно загружены\n",
      "Начали генерацию SQL запросов\n"
     ]
    },
    {
     "name": "stderr",
     "output_type": "stream",
     "text": [
      "Processed prompts: 100%|██████████| 1076/1076 [01:17<00:00, 13.94it/s, est. speed input: 62281.46 toks/s, output: 459.41 toks/s] "
     ]
    },
    {
     "name": "stdout",
     "output_type": "stream",
     "text": [
      "extract_think количество ошибок:  0\n",
      "extract_sql количество ошибок:  0\n",
      "Закончили генерацию SQL запросов\n",
      "Начали скорр полученных SQL запросов\n"
     ]
    },
    {
     "name": "stderr",
     "output_type": "stream",
     "text": [
      "\n"
     ]
    },
    {
     "name": "stdout",
     "output_type": "stream",
     "text": [
      "Qwen3-4B DEV Финальный результат EX: 73.42\n",
      "Qwen3-4B процент запросов, которые успешно выполнились DEV: 98.42%\n",
      "====================================================================================================\n",
      "\n",
      "\n",
      "Загружаем чаты с данными...\n",
      "Данные успешно загружены\n",
      "Начали генерацию SQL запросов\n"
     ]
    },
    {
     "name": "stderr",
     "output_type": "stream",
     "text": [
      "Processed prompts: 100%|██████████| 1076/1076 [01:16<00:00, 14.09it/s, est. speed input: 62503.99 toks/s, output: 460.97 toks/s] "
     ]
    },
    {
     "name": "stdout",
     "output_type": "stream",
     "text": [
      "extract_think количество ошибок:  0\n",
      "extract_sql количество ошибок:  0\n",
      "Закончили генерацию SQL запросов\n",
      "Начали скорр полученных SQL запросов\n"
     ]
    },
    {
     "name": "stderr",
     "output_type": "stream",
     "text": [
      "\n"
     ]
    },
    {
     "name": "stdout",
     "output_type": "stream",
     "text": [
      "Qwen3-4B DEV Финальный результат EX: 73.79\n",
      "Qwen3-4B процент запросов, которые успешно выполнились DEV: 98.70%\n",
      "====================================================================================================\n",
      "\n",
      "\n",
      "Загружаем чаты с данными...\n",
      "Данные успешно загружены\n",
      "Начали генерацию SQL запросов\n"
     ]
    },
    {
     "name": "stderr",
     "output_type": "stream",
     "text": [
      "Processed prompts: 100%|██████████| 1076/1076 [01:10<00:00, 15.26it/s, est. speed input: 68057.61 toks/s, output: 497.29 toks/s] "
     ]
    },
    {
     "name": "stdout",
     "output_type": "stream",
     "text": [
      "extract_think количество ошибок:  0\n",
      "extract_sql количество ошибок:  0\n",
      "Закончили генерацию SQL запросов\n",
      "Начали скорр полученных SQL запросов\n"
     ]
    },
    {
     "name": "stderr",
     "output_type": "stream",
     "text": [
      "\n"
     ]
    },
    {
     "name": "stdout",
     "output_type": "stream",
     "text": [
      "Qwen3-4B DEV Финальный результат EX: 74.63\n",
      "Qwen3-4B процент запросов, которые успешно выполнились DEV: 99.07%\n",
      "====================================================================================================\n",
      "\n",
      "\n",
      "Загружаем чаты с данными...\n",
      "Данные успешно загружены\n",
      "Начали генерацию SQL запросов\n"
     ]
    },
    {
     "name": "stderr",
     "output_type": "stream",
     "text": [
      "Processed prompts: 100%|██████████| 1076/1076 [01:11<00:00, 15.13it/s, est. speed input: 67696.27 toks/s, output: 491.98 toks/s] "
     ]
    },
    {
     "name": "stdout",
     "output_type": "stream",
     "text": [
      "extract_think количество ошибок:  0\n",
      "extract_sql количество ошибок:  0\n",
      "Закончили генерацию SQL запросов\n",
      "Начали скорр полученных SQL запросов\n"
     ]
    },
    {
     "name": "stderr",
     "output_type": "stream",
     "text": [
      "\n"
     ]
    },
    {
     "name": "stdout",
     "output_type": "stream",
     "text": [
      "Qwen3-4B DEV Финальный результат EX: 73.98\n",
      "Qwen3-4B процент запросов, которые успешно выполнились DEV: 98.88%\n",
      "====================================================================================================\n",
      "\n",
      "\n",
      "Загружаем чаты с данными...\n",
      "Данные успешно загружены\n",
      "Начали генерацию SQL запросов\n"
     ]
    },
    {
     "name": "stderr",
     "output_type": "stream",
     "text": [
      "Processed prompts: 100%|██████████| 1076/1076 [01:10<00:00, 15.28it/s, est. speed input: 68069.08 toks/s, output: 498.26 toks/s] "
     ]
    },
    {
     "name": "stdout",
     "output_type": "stream",
     "text": [
      "extract_think количество ошибок:  0\n",
      "extract_sql количество ошибок:  0\n",
      "Закончили генерацию SQL запросов\n",
      "Начали скорр полученных SQL запросов\n"
     ]
    },
    {
     "name": "stderr",
     "output_type": "stream",
     "text": [
      "\n"
     ]
    },
    {
     "name": "stdout",
     "output_type": "stream",
     "text": [
      "Qwen3-4B DEV Финальный результат EX: 74.07\n",
      "Qwen3-4B процент запросов, которые успешно выполнились DEV: 99.16%\n",
      "====================================================================================================\n",
      "\n",
      "\n",
      "Загружаем чаты с данными...\n",
      "Данные успешно загружены\n",
      "Начали генерацию SQL запросов\n"
     ]
    },
    {
     "name": "stderr",
     "output_type": "stream",
     "text": [
      "Processed prompts: 100%|██████████| 1076/1076 [01:13<00:00, 14.67it/s, est. speed input: 65143.70 toks/s, output: 482.21 toks/s] "
     ]
    },
    {
     "name": "stdout",
     "output_type": "stream",
     "text": [
      "extract_think количество ошибок:  0\n",
      "extract_sql количество ошибок:  0\n",
      "Закончили генерацию SQL запросов\n",
      "Начали скорр полученных SQL запросов\n"
     ]
    },
    {
     "name": "stderr",
     "output_type": "stream",
     "text": [
      "\n"
     ]
    },
    {
     "name": "stdout",
     "output_type": "stream",
     "text": [
      "Qwen3-4B DEV Финальный результат EX: 73.98\n",
      "Qwen3-4B процент запросов, которые успешно выполнились DEV: 98.61%\n",
      "====================================================================================================\n",
      "\n",
      "\n",
      "Загружаем чаты с данными...\n",
      "Данные успешно загружены\n",
      "Начали генерацию SQL запросов\n"
     ]
    },
    {
     "name": "stderr",
     "output_type": "stream",
     "text": [
      "Processed prompts: 100%|██████████| 1076/1076 [01:19<00:00, 13.59it/s, est. speed input: 60718.66 toks/s, output: 450.15 toks/s] "
     ]
    },
    {
     "name": "stdout",
     "output_type": "stream",
     "text": [
      "extract_think количество ошибок:  0\n",
      "extract_sql количество ошибок:  0\n",
      "Закончили генерацию SQL запросов\n",
      "Начали скорр полученных SQL запросов\n"
     ]
    },
    {
     "name": "stderr",
     "output_type": "stream",
     "text": [
      "\n"
     ]
    },
    {
     "name": "stdout",
     "output_type": "stream",
     "text": [
      "Qwen3-4B DEV Финальный результат EX: 73.51\n",
      "Qwen3-4B процент запросов, которые успешно выполнились DEV: 98.42%\n",
      "====================================================================================================\n",
      "\n",
      "\n",
      "Загружаем чаты с данными...\n",
      "Данные успешно загружены\n",
      "Начали генерацию SQL запросов\n"
     ]
    },
    {
     "name": "stderr",
     "output_type": "stream",
     "text": [
      "Processed prompts: 100%|██████████| 1076/1076 [01:16<00:00, 14.02it/s, est. speed input: 62509.62 toks/s, output: 463.50 toks/s] "
     ]
    },
    {
     "name": "stdout",
     "output_type": "stream",
     "text": [
      "extract_think количество ошибок:  0\n",
      "extract_sql количество ошибок:  0\n",
      "Закончили генерацию SQL запросов\n",
      "Начали скорр полученных SQL запросов\n"
     ]
    },
    {
     "name": "stderr",
     "output_type": "stream",
     "text": [
      "\n"
     ]
    },
    {
     "name": "stdout",
     "output_type": "stream",
     "text": [
      "Qwen3-4B DEV Финальный результат EX: 74.26\n",
      "Qwen3-4B процент запросов, которые успешно выполнились DEV: 98.79%\n",
      "====================================================================================================\n",
      "\n",
      "\n",
      "Загружаем чаты с данными...\n",
      "Данные успешно загружены\n",
      "Начали генерацию SQL запросов\n"
     ]
    },
    {
     "name": "stderr",
     "output_type": "stream",
     "text": [
      "Processed prompts: 100%|██████████| 1076/1076 [01:10<00:00, 15.18it/s, est. speed input: 67358.86 toks/s, output: 497.47 toks/s] "
     ]
    },
    {
     "name": "stdout",
     "output_type": "stream",
     "text": [
      "extract_think количество ошибок:  0\n",
      "extract_sql количество ошибок:  0\n",
      "Закончили генерацию SQL запросов\n",
      "Начали скорр полученных SQL запросов\n"
     ]
    },
    {
     "name": "stderr",
     "output_type": "stream",
     "text": [
      "\n"
     ]
    },
    {
     "name": "stdout",
     "output_type": "stream",
     "text": [
      "Qwen3-4B DEV Финальный результат EX: 74.16\n",
      "Qwen3-4B процент запросов, которые успешно выполнились DEV: 98.70%\n",
      "====================================================================================================\n",
      "\n",
      "\n",
      "Загружаем чаты с данными...\n",
      "Данные успешно загружены\n",
      "Начали генерацию SQL запросов\n"
     ]
    },
    {
     "name": "stderr",
     "output_type": "stream",
     "text": [
      "Processed prompts: 100%|██████████| 1076/1076 [01:11<00:00, 15.15it/s, est. speed input: 67580.83 toks/s, output: 495.75 toks/s] "
     ]
    },
    {
     "name": "stdout",
     "output_type": "stream",
     "text": [
      "extract_think количество ошибок:  0\n",
      "extract_sql количество ошибок:  0\n",
      "Закончили генерацию SQL запросов\n",
      "Начали скорр полученных SQL запросов\n"
     ]
    },
    {
     "name": "stderr",
     "output_type": "stream",
     "text": [
      "\n"
     ]
    },
    {
     "name": "stdout",
     "output_type": "stream",
     "text": [
      "Qwen3-4B DEV Финальный результат EX: 75.00\n",
      "Qwen3-4B процент запросов, которые успешно выполнились DEV: 98.79%\n",
      "====================================================================================================\n",
      "\n",
      "\n",
      "Загружаем чаты с данными...\n",
      "Данные успешно загружены\n",
      "Начали генерацию SQL запросов\n"
     ]
    },
    {
     "name": "stderr",
     "output_type": "stream",
     "text": [
      "Processed prompts: 100%|██████████| 1076/1076 [01:10<00:00, 15.33it/s, est. speed input: 68156.39 toks/s, output: 500.85 toks/s] "
     ]
    },
    {
     "name": "stdout",
     "output_type": "stream",
     "text": [
      "extract_think количество ошибок:  0\n",
      "extract_sql количество ошибок:  0\n",
      "Закончили генерацию SQL запросов\n",
      "Начали скорр полученных SQL запросов\n"
     ]
    },
    {
     "name": "stderr",
     "output_type": "stream",
     "text": [
      "\n"
     ]
    },
    {
     "name": "stdout",
     "output_type": "stream",
     "text": [
      "Qwen3-4B DEV Финальный результат EX: 73.70\n",
      "Qwen3-4B процент запросов, которые успешно выполнились DEV: 98.70%\n",
      "====================================================================================================\n",
      "\n",
      "\n",
      "Загружаем чаты с данными...\n",
      "Данные успешно загружены\n",
      "Начали генерацию SQL запросов\n"
     ]
    },
    {
     "name": "stderr",
     "output_type": "stream",
     "text": [
      "Processed prompts: 100%|██████████| 1076/1076 [01:10<00:00, 15.32it/s, est. speed input: 67899.44 toks/s, output: 504.08 toks/s] "
     ]
    },
    {
     "name": "stdout",
     "output_type": "stream",
     "text": [
      "extract_think количество ошибок:  0\n",
      "extract_sql количество ошибок:  0\n",
      "Закончили генерацию SQL запросов\n",
      "Начали скорр полученных SQL запросов\n"
     ]
    },
    {
     "name": "stderr",
     "output_type": "stream",
     "text": [
      "\n"
     ]
    },
    {
     "name": "stdout",
     "output_type": "stream",
     "text": [
      "Qwen3-4B DEV Финальный результат EX: 74.16\n",
      "Qwen3-4B процент запросов, которые успешно выполнились DEV: 99.07%\n",
      "====================================================================================================\n",
      "\n",
      "\n",
      "Загружаем чаты с данными...\n",
      "Данные успешно загружены\n",
      "Начали генерацию SQL запросов\n"
     ]
    },
    {
     "name": "stderr",
     "output_type": "stream",
     "text": [
      "Processed prompts: 100%|██████████| 1076/1076 [01:09<00:00, 15.43it/s, est. speed input: 68094.43 toks/s, output: 504.34 toks/s] "
     ]
    },
    {
     "name": "stdout",
     "output_type": "stream",
     "text": [
      "extract_think количество ошибок:  0\n",
      "extract_sql количество ошибок:  0\n",
      "Закончили генерацию SQL запросов\n",
      "Начали скорр полученных SQL запросов\n"
     ]
    },
    {
     "name": "stderr",
     "output_type": "stream",
     "text": [
      "\n"
     ]
    },
    {
     "name": "stdout",
     "output_type": "stream",
     "text": [
      "Qwen3-4B DEV Финальный результат EX: 74.91\n",
      "Qwen3-4B процент запросов, которые успешно выполнились DEV: 98.79%\n",
      "====================================================================================================\n",
      "\n",
      "\n",
      "Загружаем чаты с данными...\n",
      "Данные успешно загружены\n",
      "Начали генерацию SQL запросов\n"
     ]
    },
    {
     "name": "stderr",
     "output_type": "stream",
     "text": [
      "Processed prompts: 100%|██████████| 1076/1076 [01:09<00:00, 15.40it/s, est. speed input: 67799.35 toks/s, output: 507.03 toks/s] "
     ]
    },
    {
     "name": "stdout",
     "output_type": "stream",
     "text": [
      "extract_think количество ошибок:  0\n",
      "extract_sql количество ошибок:  0\n",
      "Закончили генерацию SQL запросов\n",
      "Начали скорр полученных SQL запросов\n"
     ]
    },
    {
     "name": "stderr",
     "output_type": "stream",
     "text": [
      "\n"
     ]
    },
    {
     "name": "stdout",
     "output_type": "stream",
     "text": [
      "Qwen3-4B DEV Финальный результат EX: 74.35\n",
      "Qwen3-4B процент запросов, которые успешно выполнились DEV: 98.61%\n",
      "====================================================================================================\n",
      "\n",
      "\n",
      "Загружаем чаты с данными...\n",
      "Данные успешно загружены\n",
      "Начали генерацию SQL запросов\n"
     ]
    },
    {
     "name": "stderr",
     "output_type": "stream",
     "text": [
      "Processed prompts: 100%|██████████| 1076/1076 [01:09<00:00, 15.49it/s, est. speed input: 67891.83 toks/s, output: 509.97 toks/s] "
     ]
    },
    {
     "name": "stdout",
     "output_type": "stream",
     "text": [
      "extract_think количество ошибок:  0\n",
      "extract_sql количество ошибок:  0\n",
      "Закончили генерацию SQL запросов\n",
      "Начали скорр полученных SQL запросов\n"
     ]
    },
    {
     "name": "stderr",
     "output_type": "stream",
     "text": [
      "\n"
     ]
    },
    {
     "name": "stdout",
     "output_type": "stream",
     "text": [
      "Qwen3-4B DEV Финальный результат EX: 74.26\n",
      "Qwen3-4B процент запросов, которые успешно выполнились DEV: 98.98%\n",
      "====================================================================================================\n",
      "\n",
      "\n",
      "Загружаем чаты с данными...\n",
      "Данные успешно загружены\n",
      "Начали генерацию SQL запросов\n"
     ]
    },
    {
     "name": "stderr",
     "output_type": "stream",
     "text": [
      "Processed prompts: 100%|██████████| 1076/1076 [01:13<00:00, 14.54it/s, est. speed input: 64070.53 toks/s, output: 480.07 toks/s] "
     ]
    },
    {
     "name": "stdout",
     "output_type": "stream",
     "text": [
      "extract_think количество ошибок:  0\n",
      "extract_sql количество ошибок:  0\n",
      "Закончили генерацию SQL запросов\n",
      "Начали скорр полученных SQL запросов\n"
     ]
    },
    {
     "name": "stderr",
     "output_type": "stream",
     "text": [
      "\n"
     ]
    },
    {
     "name": "stdout",
     "output_type": "stream",
     "text": [
      "Qwen3-4B DEV Финальный результат EX: 74.35\n",
      "Qwen3-4B процент запросов, которые успешно выполнились DEV: 98.98%\n",
      "====================================================================================================\n",
      "\n",
      "\n",
      "Загружаем чаты с данными...\n",
      "Данные успешно загружены\n",
      "Начали генерацию SQL запросов\n"
     ]
    },
    {
     "name": "stderr",
     "output_type": "stream",
     "text": [
      "Processed prompts: 100%|██████████| 1076/1076 [01:17<00:00, 13.97it/s, est. speed input: 61834.43 toks/s, output: 460.45 toks/s] "
     ]
    },
    {
     "name": "stdout",
     "output_type": "stream",
     "text": [
      "extract_think количество ошибок:  0\n",
      "extract_sql количество ошибок:  0\n",
      "Закончили генерацию SQL запросов\n",
      "Начали скорр полученных SQL запросов\n"
     ]
    },
    {
     "name": "stderr",
     "output_type": "stream",
     "text": [
      "\n"
     ]
    },
    {
     "name": "stdout",
     "output_type": "stream",
     "text": [
      "Qwen3-4B DEV Финальный результат EX: 74.44\n",
      "Qwen3-4B процент запросов, которые успешно выполнились DEV: 98.61%\n",
      "====================================================================================================\n",
      "\n",
      "\n",
      "Загружаем чаты с данными...\n",
      "Данные успешно загружены\n",
      "Начали генерацию SQL запросов\n"
     ]
    },
    {
     "name": "stderr",
     "output_type": "stream",
     "text": [
      "Processed prompts: 100%|██████████| 1076/1076 [01:10<00:00, 15.28it/s, est. speed input: 67678.67 toks/s, output: 500.35 toks/s] "
     ]
    },
    {
     "name": "stdout",
     "output_type": "stream",
     "text": [
      "extract_think количество ошибок:  0\n",
      "extract_sql количество ошибок:  0\n",
      "Закончили генерацию SQL запросов\n",
      "Начали скорр полученных SQL запросов\n"
     ]
    },
    {
     "name": "stderr",
     "output_type": "stream",
     "text": [
      "\n"
     ]
    },
    {
     "name": "stdout",
     "output_type": "stream",
     "text": [
      "Qwen3-4B DEV Финальный результат EX: 73.98\n",
      "Qwen3-4B процент запросов, которые успешно выполнились DEV: 98.33%\n",
      "====================================================================================================\n",
      "\n",
      "\n"
     ]
    }
   ],
   "source": [
    "run_cot_experiment(model,arr_seeds,arr_versions, type_cot,num_observations=num_observations)"
   ]
  },
  {
   "cell_type": "markdown",
   "id": "87878e5f-093d-453a-9788-03dc8dd66798",
   "metadata": {},
   "source": [
    "# part2: answer"
   ]
  },
  {
   "cell_type": "code",
   "execution_count": 11,
   "id": "bceafaae-0c5b-4fb9-a4f9-91e86a81a4fc",
   "metadata": {},
   "outputs": [
    {
     "name": "stdout",
     "output_type": "stream",
     "text": [
      "[678, 574, 472, 660, 997, 967, 236, 270, 397, 919, 405, 268, 649, 526, 256, 452, 573, 468, 508, 98]\n",
      "model: Qwen3-4B\n"
     ]
    }
   ],
   "source": [
    "n= 20\n",
    "arr_seeds = [random.randint(0,1000) for _ in range(n)]\n",
    "arr_versions = [x for x in range(n)]\n",
    "model = \"Qwen3-4B\"\n",
    "num_observations = 2\n",
    "type_cot = 'predict'\n",
    "print(arr_seeds)\n",
    "print(f\"model: {model}\")"
   ]
  },
  {
   "cell_type": "code",
   "execution_count": 12,
   "id": "612ac94a-93c5-4681-978d-f7322871fb25",
   "metadata": {
    "scrolled": true
   },
   "outputs": [
    {
     "name": "stdout",
     "output_type": "stream",
     "text": [
      "Загружаем модель...\n"
     ]
    },
    {
     "name": "stderr",
     "output_type": "stream",
     "text": [
      "Loading safetensors checkpoint shards:   0% Completed | 0/3 [00:00<?, ?it/s]\n",
      "Loading safetensors checkpoint shards:  33% Completed | 1/3 [00:01<00:02,  1.33s/it]\n",
      "Loading safetensors checkpoint shards: 100% Completed | 3/3 [00:02<00:00,  1.19it/s]\n",
      "Loading safetensors checkpoint shards: 100% Completed | 3/3 [00:02<00:00,  1.12it/s]\n",
      "\u001b[1;36m(VllmWorker rank=0 pid=3484792)\u001b[0;0m \n"
     ]
    },
    {
     "name": "stdout",
     "output_type": "stream",
     "text": [
      "Модель успешно загружена\n",
      "model_config {'model': '/data/home/vkropoti/models/Qwen3-4B', 'tensor_parallel_size': 2, 'max_model_len': 40000, 'max_new_tokens': 1500, 'temperature': 0, 'top_k': 1, 'top_p': 0.8, 'gpu_memory_utilization': 0.9, 'trust_remote_code': False, 'seed': 678}\n",
      "\n",
      "prompts_config {'path_dev_json': '/data/home/vkropoti/sql_data/dev_spider.json', 'path_sql_dbs': '/data/home/vkropoti/sql_data/data_bases_spider/', 'use_reasoning': False, 'paths_to_cot': ['/data/home/vkropoti/sql_llm_answers/spider_dev_m_schema/sql_predict_Qwen3-4B-reasoning-v0', '/data/home/vkropoti/sql_llm_answers/spider_dev_m_schema/sql_predict_Qwen3-4B-reasoning-v1']}\n",
      "\n",
      "save_config {'path_sql_save': '/data/home/vkropoti/sql_llm_answers/spider_dev_m_schema/sql_all_Qwen3-4B-cot_predict_think==False_nobs2-v0', 'path_think_save': None, 'path_sql_answers_save': '/data/home/vkropoti/sql_llm_answers/spider_dev_m_schema/sql_predict_Qwen3-4B-cot_predict_think==False_nobs2-v0', 'path_to_save_scores': '/data/home/vkropoti/sql_llm_answers/spider_dev_m_schema/sql_results_Qwen3-4B-cot_predict_think==False_nobs2-v0', 'path_to_save_executed': '/data/home/vkropoti/sql_llm_answers/spider_dev_m_schema/sql_executed_Qwen3-4B-cot_predict_think==False_nobs2-v0'}\n",
      "\n",
      "Модель успешно загружена\n",
      "Пример промпта\n",
      "<|im_start|>system\n",
      "\n",
      "You are a data science expert. Below, you are provided with a database schema and a natural language question. Your task is to understand the schema and generate a valid SQL query to answer the question.\n",
      "\n",
      "Database Engine: SQLite\n",
      "\n",
      "You will be given an additional analysis of other models, please take it into account, so the plan is\n",
      "1. Analyse given addition analysis from other models (find in which analysis the same and differ, how to use that to answer question)\n",
      "2. Combine best from previous part and think how to solve the problem (analyze tables, take care what columns avaliable in each table and so on, check the syntacsis)\n",
      "3. Create the answers. The answer should be only sql query.\n",
      "\n",
      "Carefully follow the instruction and add <|im_end|> and the end of the final answer<|im_end|>\n",
      "<|im_start|>user\n",
      "Here is addition analysis from other models which can be helpfull, please take this into account but be careful (choose the best from each analysis, combine them to make the most proper answer):\n",
      "\n",
      "model 0 analysis:\n",
      " SELECT COUNT(*) FROM singer;\n",
      "\n",
      "model 1 analysis:\n",
      " SELECT COUNT(*) FROM singer;\n",
      "\n",
      "\n",
      "here is avaliable tables and their structure below\n",
      "【DB_ID】 concert_singer\n",
      "【Schema】\n",
      "# Table: concert\n",
      "[\n",
      "(concert_ID:INTEGER, Primary Key, Examples: [1, 2, 3]),\n",
      "(concert_Name:TEXT, Examples: [Auditions, Super bootcamp, Home Visits]),\n",
      "(Theme:TEXT, Examples: [Free choice, Free choice 2, Bleeding Love]),\n",
      "(Stadium_ID:TEXT, maps to stadium.Stadium_ID, Examples: [1, 2, 10]),\n",
      "(Year:TEXT, Examples: [2014, 2015, 2016])\n",
      "]\n",
      "# Table: singer\n",
      "[\n",
      "(Singer_ID:INTEGER, Primary Key, Examples: [1, 2, 3]),\n",
      "(Name:TEXT, Examples: [Joe Sharp, Timbaland, Justin Brown]),\n",
      "(Country:TEXT, Examples: [Netherlands, United States, France]),\n",
      "(Song_Name:TEXT, Examples: [You, Dangerous, Hey Oh]),\n",
      "(Song_release_year:TEXT, Examples: [1992, 2008, 2013]),\n",
      "(Age:INTEGER, Examples: [52, 32, 29]),\n",
      "(Is_male:BOOLEAN, Examples: [False, True])\n",
      "]\n",
      "# Table: singer_in_concert\n",
      "[\n",
      "(concert_ID:INTEGER, maps to concert.concert_ID, Primary Key, Examples: [1, 2, 3]),\n",
      "(Singer_ID:TEXT, maps to singer.Singer_ID, Primary Key, Examples: [2, 3, 5])\n",
      "]\n",
      "# Table: stadium\n",
      "[\n",
      "(Stadium_ID:INTEGER, Primary Key, Examples: [1, 2, 3]),\n",
      "(Location:TEXT, Examples: [Raith Rovers, Ayr United, East Fife]),\n",
      "(Name:TEXT, Examples: [Stark's Park, Somerset Park, Bayview Stadium]),\n",
      "(Capacity:INTEGER, Examples: [10104, 11998, 2000]),\n",
      "(Highest:INTEGER, Examples: [4812, 2363, 1980]),\n",
      "(Lowest:INTEGER, Examples: [1294, 1057, 533]),\n",
      "(Average:INTEGER, Examples: [2106, 1477, 864])\n",
      "]\n",
      "【Foreign keys】\n",
      "concert.Stadium_ID=stadium.Stadium_ID\n",
      "singer_in_concert.concert_ID=concert.concert_ID\n",
      "singer_in_concert.Singer_ID=singer.Singer_ID\n",
      "\n",
      "-- Using valid SQLite, answer the following questions for the tables provided above.\n",
      "-- How many singers do we have?\n",
      "\n",
      "\n",
      "\n",
      "Generate the SQLite for the above question after thinking step by step: \n",
      "\n",
      "\n",
      "Instructions:\n",
      "- Make sure you only output the information that is asked in the question. If the question asks for a specific column, make sure to only include that column in the SELECT clause, nothing more.\n",
      "- The generated query should return all of the information asked in the question without any missing or extra information.\n",
      "- Before generating the final SQL query, please think through the steps of how to write the query.\n",
      "- Do not misuse column names, keep them in quotes `\n",
      "- Carefully understand what colomns belond to what tables\n",
      "- Use only initial column names, change names prohibited\n",
      "        \n",
      "Output Format:\n",
      "In your answer, please enclose the generated SQL query in a code block:\n",
      "```\n",
      "-- Your SQL query\n",
      "```    \n",
      "and nothing else, no exaplains, no comments (asnwer should be less than 512 characters)\n",
      "\n",
      "Take a deep breath and think step by step to find the correct SQL query in SQLite format.\n",
      "\n",
      "Question repetition: How many singers do we have?\n",
      "\n",
      "Be care! Include only what i want it questiona and nothing else<|im_end|>\n",
      "<|im_start|>assistant\n",
      "<think>\n",
      "\n",
      "</think>\n",
      "\n",
      "\n",
      "\n",
      "\n",
      "Максимальное количество токенов в промптах: 2088\n",
      "\n",
      "начинаем скорринг\n",
      "Загружаем чаты с данными...\n",
      "Данные успешно загружены\n",
      "Начали генерацию SQL запросов\n"
     ]
    },
    {
     "name": "stderr",
     "output_type": "stream",
     "text": [
      "Processed prompts: 100%|██████████| 1076/1076 [00:13<00:00, 77.86it/s, est. speed input: 91995.54 toks/s, output: 2596.51 toks/s] "
     ]
    },
    {
     "name": "stdout",
     "output_type": "stream",
     "text": [
      "extract_think количество ошибок:  0\n",
      "extract_sql количество ошибок:  0\n",
      "Закончили генерацию SQL запросов\n",
      "Начали скорр полученных SQL запросов\n"
     ]
    },
    {
     "name": "stderr",
     "output_type": "stream",
     "text": [
      "\n"
     ]
    },
    {
     "name": "stdout",
     "output_type": "stream",
     "text": [
      "Qwen3-4B DEV Финальный результат EX: 73.61\n",
      "Qwen3-4B процент запросов, которые успешно выполнились DEV: 97.40%\n",
      "====================================================================================================\n",
      "\n",
      "\n",
      "Загружаем чаты с данными...\n",
      "Данные успешно загружены\n",
      "Начали генерацию SQL запросов\n"
     ]
    },
    {
     "name": "stderr",
     "output_type": "stream",
     "text": [
      "Processed prompts: 100%|██████████| 1076/1076 [00:13<00:00, 78.81it/s, est. speed input: 93147.42 toks/s, output: 2656.82 toks/s] "
     ]
    },
    {
     "name": "stdout",
     "output_type": "stream",
     "text": [
      "extract_think количество ошибок:  0\n",
      "extract_sql количество ошибок:  0\n",
      "Закончили генерацию SQL запросов\n",
      "Начали скорр полученных SQL запросов\n"
     ]
    },
    {
     "name": "stderr",
     "output_type": "stream",
     "text": [
      "\n"
     ]
    },
    {
     "name": "stdout",
     "output_type": "stream",
     "text": [
      "Qwen3-4B DEV Финальный результат EX: 72.86\n",
      "Qwen3-4B процент запросов, которые успешно выполнились DEV: 97.03%\n",
      "====================================================================================================\n",
      "\n",
      "\n",
      "Загружаем чаты с данными...\n",
      "Данные успешно загружены\n",
      "Начали генерацию SQL запросов\n"
     ]
    },
    {
     "name": "stderr",
     "output_type": "stream",
     "text": [
      "Processed prompts: 100%|██████████| 1076/1076 [00:13<00:00, 80.05it/s, est. speed input: 94579.60 toks/s, output: 2677.29 toks/s] "
     ]
    },
    {
     "name": "stdout",
     "output_type": "stream",
     "text": [
      "extract_think количество ошибок:  0\n",
      "extract_sql количество ошибок:  0\n",
      "Закончили генерацию SQL запросов\n",
      "Начали скорр полученных SQL запросов\n"
     ]
    },
    {
     "name": "stderr",
     "output_type": "stream",
     "text": [
      "\n"
     ]
    },
    {
     "name": "stdout",
     "output_type": "stream",
     "text": [
      "Qwen3-4B DEV Финальный результат EX: 72.68\n",
      "Qwen3-4B процент запросов, которые успешно выполнились DEV: 97.58%\n",
      "====================================================================================================\n",
      "\n",
      "\n",
      "Загружаем чаты с данными...\n",
      "Данные успешно загружены\n",
      "Начали генерацию SQL запросов\n"
     ]
    },
    {
     "name": "stderr",
     "output_type": "stream",
     "text": [
      "Processed prompts: 100%|██████████| 1076/1076 [00:14<00:00, 76.66it/s, est. speed input: 90580.29 toks/s, output: 2611.31 toks/s] "
     ]
    },
    {
     "name": "stdout",
     "output_type": "stream",
     "text": [
      "extract_think количество ошибок:  0\n",
      "extract_sql количество ошибок:  0\n",
      "Закончили генерацию SQL запросов\n",
      "Начали скорр полученных SQL запросов\n"
     ]
    },
    {
     "name": "stderr",
     "output_type": "stream",
     "text": [
      "\n"
     ]
    },
    {
     "name": "stdout",
     "output_type": "stream",
     "text": [
      "Qwen3-4B DEV Финальный результат EX: 73.05\n",
      "Qwen3-4B процент запросов, которые успешно выполнились DEV: 97.30%\n",
      "====================================================================================================\n",
      "\n",
      "\n",
      "Загружаем чаты с данными...\n",
      "Данные успешно загружены\n",
      "Начали генерацию SQL запросов\n"
     ]
    },
    {
     "name": "stderr",
     "output_type": "stream",
     "text": [
      "Processed prompts: 100%|██████████| 1076/1076 [00:13<00:00, 77.28it/s, est. speed input: 91316.02 toks/s, output: 2606.26 toks/s] "
     ]
    },
    {
     "name": "stdout",
     "output_type": "stream",
     "text": [
      "extract_think количество ошибок:  0\n",
      "extract_sql количество ошибок:  0\n",
      "Закончили генерацию SQL запросов\n",
      "Начали скорр полученных SQL запросов\n"
     ]
    },
    {
     "name": "stderr",
     "output_type": "stream",
     "text": [
      "\n"
     ]
    },
    {
     "name": "stdout",
     "output_type": "stream",
     "text": [
      "Qwen3-4B DEV Финальный результат EX: 73.61\n",
      "Qwen3-4B процент запросов, которые успешно выполнились DEV: 97.40%\n",
      "====================================================================================================\n",
      "\n",
      "\n",
      "Загружаем чаты с данными...\n",
      "Данные успешно загружены\n",
      "Начали генерацию SQL запросов\n"
     ]
    },
    {
     "name": "stderr",
     "output_type": "stream",
     "text": [
      "Processed prompts: 100%|██████████| 1076/1076 [00:13<00:00, 80.26it/s, est. speed input: 94819.38 toks/s, output: 2686.56 toks/s] "
     ]
    },
    {
     "name": "stdout",
     "output_type": "stream",
     "text": [
      "extract_think количество ошибок:  0\n",
      "extract_sql количество ошибок:  0\n",
      "Закончили генерацию SQL запросов\n",
      "Начали скорр полученных SQL запросов\n"
     ]
    },
    {
     "name": "stderr",
     "output_type": "stream",
     "text": [
      "\n"
     ]
    },
    {
     "name": "stdout",
     "output_type": "stream",
     "text": [
      "Qwen3-4B DEV Финальный результат EX: 72.96\n",
      "Qwen3-4B процент запросов, которые успешно выполнились DEV: 97.86%\n",
      "====================================================================================================\n",
      "\n",
      "\n",
      "Загружаем чаты с данными...\n",
      "Данные успешно загружены\n",
      "Начали генерацию SQL запросов\n"
     ]
    },
    {
     "name": "stderr",
     "output_type": "stream",
     "text": [
      "Processed prompts: 100%|██████████| 1076/1076 [00:14<00:00, 74.70it/s, est. speed input: 88237.55 toks/s, output: 2523.47 toks/s] "
     ]
    },
    {
     "name": "stdout",
     "output_type": "stream",
     "text": [
      "extract_think количество ошибок:  0\n",
      "extract_sql количество ошибок:  0\n",
      "Закончили генерацию SQL запросов\n",
      "Начали скорр полученных SQL запросов\n"
     ]
    },
    {
     "name": "stderr",
     "output_type": "stream",
     "text": [
      "\n"
     ]
    },
    {
     "name": "stdout",
     "output_type": "stream",
     "text": [
      "Qwen3-4B DEV Финальный результат EX: 73.23\n",
      "Qwen3-4B процент запросов, которые успешно выполнились DEV: 97.58%\n",
      "====================================================================================================\n",
      "\n",
      "\n",
      "Загружаем чаты с данными...\n",
      "Данные успешно загружены\n",
      "Начали генерацию SQL запросов\n"
     ]
    },
    {
     "name": "stderr",
     "output_type": "stream",
     "text": [
      "Processed prompts: 100%|██████████| 1076/1076 [00:14<00:00, 76.63it/s, est. speed input: 90513.96 toks/s, output: 2568.95 toks/s] "
     ]
    },
    {
     "name": "stdout",
     "output_type": "stream",
     "text": [
      "extract_think количество ошибок:  0\n",
      "extract_sql количество ошибок:  0\n",
      "Закончили генерацию SQL запросов\n",
      "Начали скорр полученных SQL запросов\n"
     ]
    },
    {
     "name": "stderr",
     "output_type": "stream",
     "text": [
      "\n"
     ]
    },
    {
     "name": "stdout",
     "output_type": "stream",
     "text": [
      "Qwen3-4B DEV Финальный результат EX: 73.79\n",
      "Qwen3-4B процент запросов, которые успешно выполнились DEV: 97.77%\n",
      "====================================================================================================\n",
      "\n",
      "\n",
      "Загружаем чаты с данными...\n",
      "Данные успешно загружены\n",
      "Начали генерацию SQL запросов\n"
     ]
    },
    {
     "name": "stderr",
     "output_type": "stream",
     "text": [
      "Processed prompts: 100%|██████████| 1076/1076 [00:13<00:00, 78.51it/s, est. speed input: 92777.66 toks/s, output: 2661.21 toks/s] "
     ]
    },
    {
     "name": "stdout",
     "output_type": "stream",
     "text": [
      "extract_think количество ошибок:  0\n",
      "extract_sql количество ошибок:  0\n",
      "Закончили генерацию SQL запросов\n",
      "Начали скорр полученных SQL запросов\n"
     ]
    },
    {
     "name": "stderr",
     "output_type": "stream",
     "text": [
      "\n"
     ]
    },
    {
     "name": "stdout",
     "output_type": "stream",
     "text": [
      "Qwen3-4B DEV Финальный результат EX: 73.33\n",
      "Qwen3-4B процент запросов, которые успешно выполнились DEV: 97.49%\n",
      "====================================================================================================\n",
      "\n",
      "\n",
      "Загружаем чаты с данными...\n",
      "Данные успешно загружены\n",
      "Начали генерацию SQL запросов\n"
     ]
    },
    {
     "name": "stderr",
     "output_type": "stream",
     "text": [
      "Processed prompts: 100%|██████████| 1076/1076 [00:13<00:00, 77.28it/s, est. speed input: 91328.63 toks/s, output: 2612.68 toks/s] "
     ]
    },
    {
     "name": "stdout",
     "output_type": "stream",
     "text": [
      "extract_think количество ошибок:  0\n",
      "extract_sql количество ошибок:  0\n",
      "Закончили генерацию SQL запросов\n",
      "Начали скорр полученных SQL запросов\n"
     ]
    },
    {
     "name": "stderr",
     "output_type": "stream",
     "text": [
      "\n"
     ]
    },
    {
     "name": "stdout",
     "output_type": "stream",
     "text": [
      "Qwen3-4B DEV Финальный результат EX: 72.77\n",
      "Qwen3-4B процент запросов, которые успешно выполнились DEV: 97.96%\n",
      "====================================================================================================\n",
      "\n",
      "\n",
      "Загружаем чаты с данными...\n",
      "Данные успешно загружены\n",
      "Начали генерацию SQL запросов\n"
     ]
    },
    {
     "name": "stderr",
     "output_type": "stream",
     "text": [
      "Processed prompts: 100%|██████████| 1076/1076 [00:13<00:00, 76.99it/s, est. speed input: 90965.93 toks/s, output: 2592.32 toks/s] "
     ]
    },
    {
     "name": "stdout",
     "output_type": "stream",
     "text": [
      "extract_think количество ошибок:  0\n",
      "extract_sql количество ошибок:  0\n",
      "Закончили генерацию SQL запросов\n",
      "Начали скорр полученных SQL запросов\n"
     ]
    },
    {
     "name": "stderr",
     "output_type": "stream",
     "text": [
      "\n"
     ]
    },
    {
     "name": "stdout",
     "output_type": "stream",
     "text": [
      "Qwen3-4B DEV Финальный результат EX: 73.51\n",
      "Qwen3-4B процент запросов, которые успешно выполнились DEV: 97.77%\n",
      "====================================================================================================\n",
      "\n",
      "\n",
      "Загружаем чаты с данными...\n",
      "Данные успешно загружены\n",
      "Начали генерацию SQL запросов\n"
     ]
    },
    {
     "name": "stderr",
     "output_type": "stream",
     "text": [
      "Processed prompts: 100%|██████████| 1076/1076 [00:13<00:00, 79.60it/s, est. speed input: 94059.87 toks/s, output: 2663.23 toks/s] "
     ]
    },
    {
     "name": "stdout",
     "output_type": "stream",
     "text": [
      "extract_think количество ошибок:  0\n",
      "extract_sql количество ошибок:  0\n",
      "Закончили генерацию SQL запросов\n",
      "Начали скорр полученных SQL запросов\n"
     ]
    },
    {
     "name": "stderr",
     "output_type": "stream",
     "text": [
      "\n"
     ]
    },
    {
     "name": "stdout",
     "output_type": "stream",
     "text": [
      "Qwen3-4B DEV Финальный результат EX: 73.70\n",
      "Qwen3-4B процент запросов, которые успешно выполнились DEV: 98.33%\n",
      "====================================================================================================\n",
      "\n",
      "\n",
      "Загружаем чаты с данными...\n",
      "Данные успешно загружены\n",
      "Начали генерацию SQL запросов\n"
     ]
    },
    {
     "name": "stderr",
     "output_type": "stream",
     "text": [
      "Processed prompts: 100%|██████████| 1076/1076 [00:13<00:00, 77.15it/s, est. speed input: 91159.29 toks/s, output: 2605.23 toks/s] "
     ]
    },
    {
     "name": "stdout",
     "output_type": "stream",
     "text": [
      "extract_think количество ошибок:  0\n",
      "extract_sql количество ошибок:  0\n",
      "Закончили генерацию SQL запросов\n",
      "Начали скорр полученных SQL запросов\n"
     ]
    },
    {
     "name": "stderr",
     "output_type": "stream",
     "text": [
      "\n"
     ]
    },
    {
     "name": "stdout",
     "output_type": "stream",
     "text": [
      "Qwen3-4B DEV Финальный результат EX: 73.14\n",
      "Qwen3-4B процент запросов, которые успешно выполнились DEV: 97.77%\n",
      "====================================================================================================\n",
      "\n",
      "\n",
      "Загружаем чаты с данными...\n",
      "Данные успешно загружены\n",
      "Начали генерацию SQL запросов\n"
     ]
    },
    {
     "name": "stderr",
     "output_type": "stream",
     "text": [
      "Processed prompts: 100%|██████████| 1076/1076 [00:13<00:00, 77.08it/s, est. speed input: 91032.77 toks/s, output: 2575.51 toks/s] "
     ]
    },
    {
     "name": "stdout",
     "output_type": "stream",
     "text": [
      "extract_think количество ошибок:  0\n",
      "extract_sql количество ошибок:  0\n",
      "Закончили генерацию SQL запросов\n",
      "Начали скорр полученных SQL запросов\n"
     ]
    },
    {
     "name": "stderr",
     "output_type": "stream",
     "text": [
      "\n"
     ]
    },
    {
     "name": "stdout",
     "output_type": "stream",
     "text": [
      "Qwen3-4B DEV Финальный результат EX: 73.88\n",
      "Qwen3-4B процент запросов, которые успешно выполнились DEV: 97.49%\n",
      "====================================================================================================\n",
      "\n",
      "\n",
      "Загружаем чаты с данными...\n",
      "Данные успешно загружены\n",
      "Начали генерацию SQL запросов\n"
     ]
    },
    {
     "name": "stderr",
     "output_type": "stream",
     "text": [
      "Processed prompts: 100%|██████████| 1076/1076 [00:13<00:00, 79.25it/s, est. speed input: 93584.94 toks/s, output: 2647.75 toks/s] "
     ]
    },
    {
     "name": "stdout",
     "output_type": "stream",
     "text": [
      "extract_think количество ошибок:  0\n",
      "extract_sql количество ошибок:  0\n",
      "Закончили генерацию SQL запросов\n",
      "Начали скорр полученных SQL запросов\n"
     ]
    },
    {
     "name": "stderr",
     "output_type": "stream",
     "text": [
      "\n"
     ]
    },
    {
     "name": "stdout",
     "output_type": "stream",
     "text": [
      "Qwen3-4B DEV Финальный результат EX: 73.98\n",
      "Qwen3-4B процент запросов, которые успешно выполнились DEV: 97.58%\n",
      "====================================================================================================\n",
      "\n",
      "\n",
      "Загружаем чаты с данными...\n",
      "Данные успешно загружены\n",
      "Начали генерацию SQL запросов\n"
     ]
    },
    {
     "name": "stderr",
     "output_type": "stream",
     "text": [
      "Processed prompts: 100%|██████████| 1076/1076 [00:13<00:00, 77.57it/s, est. speed input: 91634.46 toks/s, output: 2616.22 toks/s] "
     ]
    },
    {
     "name": "stdout",
     "output_type": "stream",
     "text": [
      "extract_think количество ошибок:  0\n",
      "extract_sql количество ошибок:  0\n",
      "Закончили генерацию SQL запросов\n",
      "Начали скорр полученных SQL запросов\n"
     ]
    },
    {
     "name": "stderr",
     "output_type": "stream",
     "text": [
      "\n"
     ]
    },
    {
     "name": "stdout",
     "output_type": "stream",
     "text": [
      "Qwen3-4B DEV Финальный результат EX: 73.51\n",
      "Qwen3-4B процент запросов, которые успешно выполнились DEV: 97.68%\n",
      "====================================================================================================\n",
      "\n",
      "\n",
      "Загружаем чаты с данными...\n",
      "Данные успешно загружены\n",
      "Начали генерацию SQL запросов\n"
     ]
    },
    {
     "name": "stderr",
     "output_type": "stream",
     "text": [
      "Processed prompts: 100%|██████████| 1076/1076 [00:13<00:00, 78.33it/s, est. speed input: 92555.44 toks/s, output: 2658.21 toks/s] "
     ]
    },
    {
     "name": "stdout",
     "output_type": "stream",
     "text": [
      "extract_think количество ошибок:  0\n",
      "extract_sql количество ошибок:  0\n",
      "Закончили генерацию SQL запросов\n",
      "Начали скорр полученных SQL запросов\n"
     ]
    },
    {
     "name": "stderr",
     "output_type": "stream",
     "text": [
      "\n"
     ]
    },
    {
     "name": "stdout",
     "output_type": "stream",
     "text": [
      "Qwen3-4B DEV Финальный результат EX: 73.05\n",
      "Qwen3-4B процент запросов, которые успешно выполнились DEV: 97.77%\n",
      "====================================================================================================\n",
      "\n",
      "\n",
      "Загружаем чаты с данными...\n",
      "Данные успешно загружены\n",
      "Начали генерацию SQL запросов\n"
     ]
    },
    {
     "name": "stderr",
     "output_type": "stream",
     "text": [
      "Processed prompts: 100%|██████████| 1076/1076 [00:13<00:00, 79.98it/s, est. speed input: 94527.42 toks/s, output: 2701.47 toks/s] "
     ]
    },
    {
     "name": "stdout",
     "output_type": "stream",
     "text": [
      "extract_think количество ошибок:  0\n",
      "extract_sql количество ошибок:  0\n",
      "Закончили генерацию SQL запросов\n",
      "Начали скорр полученных SQL запросов\n"
     ]
    },
    {
     "name": "stderr",
     "output_type": "stream",
     "text": [
      "\n"
     ]
    },
    {
     "name": "stdout",
     "output_type": "stream",
     "text": [
      "Qwen3-4B DEV Финальный результат EX: 74.07\n",
      "Qwen3-4B процент запросов, которые успешно выполнились DEV: 98.05%\n",
      "====================================================================================================\n",
      "\n",
      "\n",
      "Загружаем чаты с данными...\n",
      "Данные успешно загружены\n",
      "Начали генерацию SQL запросов\n"
     ]
    },
    {
     "name": "stderr",
     "output_type": "stream",
     "text": [
      "Processed prompts: 100%|██████████| 1076/1076 [00:13<00:00, 78.49it/s, est. speed input: 92737.62 toks/s, output: 2614.83 toks/s] "
     ]
    },
    {
     "name": "stdout",
     "output_type": "stream",
     "text": [
      "extract_think количество ошибок:  0\n",
      "extract_sql количество ошибок:  0\n",
      "Закончили генерацию SQL запросов\n",
      "Начали скорр полученных SQL запросов\n"
     ]
    },
    {
     "name": "stderr",
     "output_type": "stream",
     "text": [
      "\n"
     ]
    },
    {
     "name": "stdout",
     "output_type": "stream",
     "text": [
      "Qwen3-4B DEV Финальный результат EX: 74.35\n",
      "Qwen3-4B процент запросов, которые успешно выполнились DEV: 98.51%\n",
      "====================================================================================================\n",
      "\n",
      "\n",
      "Загружаем чаты с данными...\n",
      "Данные успешно загружены\n",
      "Начали генерацию SQL запросов\n"
     ]
    },
    {
     "name": "stderr",
     "output_type": "stream",
     "text": [
      "Processed prompts: 100%|██████████| 1076/1076 [00:14<00:00, 76.34it/s, est. speed input: 90166.64 toks/s, output: 2550.61 toks/s] "
     ]
    },
    {
     "name": "stdout",
     "output_type": "stream",
     "text": [
      "extract_think количество ошибок:  0\n",
      "extract_sql количество ошибок:  0\n",
      "Закончили генерацию SQL запросов\n",
      "Начали скорр полученных SQL запросов\n"
     ]
    },
    {
     "name": "stderr",
     "output_type": "stream",
     "text": [
      "\n"
     ]
    },
    {
     "name": "stdout",
     "output_type": "stream",
     "text": [
      "Qwen3-4B DEV Финальный результат EX: 73.88\n",
      "Qwen3-4B процент запросов, которые успешно выполнились DEV: 97.86%\n",
      "====================================================================================================\n",
      "\n",
      "\n"
     ]
    }
   ],
   "source": [
    "run_cot_experiment(model,arr_seeds,arr_versions, type_cot,num_observations=num_observations)"
   ]
  },
  {
   "cell_type": "code",
   "execution_count": 13,
   "id": "567aebd6-c42e-43f1-b038-e70215d348ba",
   "metadata": {},
   "outputs": [
    {
     "name": "stdout",
     "output_type": "stream",
     "text": [
      "[93, 312, 365, 808, 854, 764, 440, 946, 250, 793, 89, 693, 476, 921, 965, 803, 390, 651, 770, 383]\n",
      "model: Qwen3-4B\n"
     ]
    }
   ],
   "source": [
    "n= 20\n",
    "arr_seeds = [random.randint(0,1000) for _ in range(n)]\n",
    "arr_versions = [x for x in range(n)]\n",
    "model = \"Qwen3-4B\"\n",
    "num_observations = 3\n",
    "type_cot = 'predict'\n",
    "print(arr_seeds)\n",
    "print(f\"model: {model}\")"
   ]
  },
  {
   "cell_type": "code",
   "execution_count": 14,
   "id": "ae9448a7-0cef-4f51-b3ca-c3e9733ea56f",
   "metadata": {
    "scrolled": true
   },
   "outputs": [
    {
     "name": "stdout",
     "output_type": "stream",
     "text": [
      "Загружаем модель...\n"
     ]
    },
    {
     "name": "stderr",
     "output_type": "stream",
     "text": [
      "Loading safetensors checkpoint shards:   0% Completed | 0/3 [00:00<?, ?it/s]\n",
      "Loading safetensors checkpoint shards:  33% Completed | 1/3 [00:01<00:02,  1.34s/it]\n",
      "Loading safetensors checkpoint shards: 100% Completed | 3/3 [00:02<00:00,  1.13it/s]\n",
      "Loading safetensors checkpoint shards: 100% Completed | 3/3 [00:02<00:00,  1.08it/s]\n",
      "\u001b[1;36m(VllmWorker rank=0 pid=3525838)\u001b[0;0m \n"
     ]
    },
    {
     "name": "stdout",
     "output_type": "stream",
     "text": [
      "Модель успешно загружена\n",
      "model_config {'model': '/data/home/vkropoti/models/Qwen3-4B', 'tensor_parallel_size': 2, 'max_model_len': 40000, 'max_new_tokens': 1500, 'temperature': 0, 'top_k': 1, 'top_p': 0.8, 'gpu_memory_utilization': 0.9, 'trust_remote_code': False, 'seed': 93}\n",
      "\n",
      "prompts_config {'path_dev_json': '/data/home/vkropoti/sql_data/dev_spider.json', 'path_sql_dbs': '/data/home/vkropoti/sql_data/data_bases_spider/', 'use_reasoning': False, 'paths_to_cot': ['/data/home/vkropoti/sql_llm_answers/spider_dev_m_schema/sql_predict_Qwen3-4B-reasoning-v0', '/data/home/vkropoti/sql_llm_answers/spider_dev_m_schema/sql_predict_Qwen3-4B-reasoning-v1', '/data/home/vkropoti/sql_llm_answers/spider_dev_m_schema/sql_predict_Qwen3-4B-reasoning-v2']}\n",
      "\n",
      "save_config {'path_sql_save': '/data/home/vkropoti/sql_llm_answers/spider_dev_m_schema/sql_all_Qwen3-4B-cot_predict_think==False_nobs3-v0', 'path_think_save': None, 'path_sql_answers_save': '/data/home/vkropoti/sql_llm_answers/spider_dev_m_schema/sql_predict_Qwen3-4B-cot_predict_think==False_nobs3-v0', 'path_to_save_scores': '/data/home/vkropoti/sql_llm_answers/spider_dev_m_schema/sql_results_Qwen3-4B-cot_predict_think==False_nobs3-v0', 'path_to_save_executed': '/data/home/vkropoti/sql_llm_answers/spider_dev_m_schema/sql_executed_Qwen3-4B-cot_predict_think==False_nobs3-v0'}\n",
      "\n",
      "Модель успешно загружена\n",
      "Пример промпта\n",
      "<|im_start|>system\n",
      "\n",
      "You are a data science expert. Below, you are provided with a database schema and a natural language question. Your task is to understand the schema and generate a valid SQL query to answer the question.\n",
      "\n",
      "Database Engine: SQLite\n",
      "\n",
      "You will be given an additional analysis of other models, please take it into account, so the plan is\n",
      "1. Analyse given addition analysis from other models (find in which analysis the same and differ, how to use that to answer question)\n",
      "2. Combine best from previous part and think how to solve the problem (analyze tables, take care what columns avaliable in each table and so on, check the syntacsis)\n",
      "3. Create the answers. The answer should be only sql query.\n",
      "\n",
      "Carefully follow the instruction and add <|im_end|> and the end of the final answer<|im_end|>\n",
      "<|im_start|>user\n",
      "Here is addition analysis from other models which can be helpfull, please take this into account but be careful (choose the best from each analysis, combine them to make the most proper answer):\n",
      "\n",
      "model 0 analysis:\n",
      " SELECT COUNT(*) FROM singer;\n",
      "\n",
      "model 1 analysis:\n",
      " SELECT COUNT(*) FROM singer;\n",
      "\n",
      "model 2 analysis:\n",
      " SELECT COUNT(*) FROM singer;\n",
      "\n",
      "\n",
      "here is avaliable tables and their structure below\n",
      "【DB_ID】 concert_singer\n",
      "【Schema】\n",
      "# Table: concert\n",
      "[\n",
      "(concert_ID:INTEGER, Primary Key, Examples: [1, 2, 3]),\n",
      "(concert_Name:TEXT, Examples: [Auditions, Super bootcamp, Home Visits]),\n",
      "(Theme:TEXT, Examples: [Free choice, Free choice 2, Bleeding Love]),\n",
      "(Stadium_ID:TEXT, maps to stadium.Stadium_ID, Examples: [1, 2, 10]),\n",
      "(Year:TEXT, Examples: [2014, 2015, 2016])\n",
      "]\n",
      "# Table: singer\n",
      "[\n",
      "(Singer_ID:INTEGER, Primary Key, Examples: [1, 2, 3]),\n",
      "(Name:TEXT, Examples: [Joe Sharp, Timbaland, Justin Brown]),\n",
      "(Country:TEXT, Examples: [Netherlands, United States, France]),\n",
      "(Song_Name:TEXT, Examples: [You, Dangerous, Hey Oh]),\n",
      "(Song_release_year:TEXT, Examples: [1992, 2008, 2013]),\n",
      "(Age:INTEGER, Examples: [52, 32, 29]),\n",
      "(Is_male:BOOLEAN, Examples: [False, True])\n",
      "]\n",
      "# Table: singer_in_concert\n",
      "[\n",
      "(concert_ID:INTEGER, maps to concert.concert_ID, Primary Key, Examples: [1, 2, 3]),\n",
      "(Singer_ID:TEXT, maps to singer.Singer_ID, Primary Key, Examples: [2, 3, 5])\n",
      "]\n",
      "# Table: stadium\n",
      "[\n",
      "(Stadium_ID:INTEGER, Primary Key, Examples: [1, 2, 3]),\n",
      "(Location:TEXT, Examples: [Raith Rovers, Ayr United, East Fife]),\n",
      "(Name:TEXT, Examples: [Stark's Park, Somerset Park, Bayview Stadium]),\n",
      "(Capacity:INTEGER, Examples: [10104, 11998, 2000]),\n",
      "(Highest:INTEGER, Examples: [4812, 2363, 1980]),\n",
      "(Lowest:INTEGER, Examples: [1294, 1057, 533]),\n",
      "(Average:INTEGER, Examples: [2106, 1477, 864])\n",
      "]\n",
      "【Foreign keys】\n",
      "concert.Stadium_ID=stadium.Stadium_ID\n",
      "singer_in_concert.concert_ID=concert.concert_ID\n",
      "singer_in_concert.Singer_ID=singer.Singer_ID\n",
      "\n",
      "-- Using valid SQLite, answer the following questions for the tables provided above.\n",
      "-- How many singers do we have?\n",
      "\n",
      "\n",
      "\n",
      "Generate the SQLite for the above question after thinking step by step: \n",
      "\n",
      "\n",
      "Instructions:\n",
      "- Make sure you only output the information that is asked in the question. If the question asks for a specific column, make sure to only include that column in the SELECT clause, nothing more.\n",
      "- The generated query should return all of the information asked in the question without any missing or extra information.\n",
      "- Before generating the final SQL query, please think through the steps of how to write the query.\n",
      "- Do not misuse column names, keep them in quotes `\n",
      "- Carefully understand what colomns belond to what tables\n",
      "- Use only initial column names, change names prohibited\n",
      "        \n",
      "Output Format:\n",
      "In your answer, please enclose the generated SQL query in a code block:\n",
      "```\n",
      "-- Your SQL query\n",
      "```    \n",
      "and nothing else, no exaplains, no comments (asnwer should be less than 512 characters)\n",
      "\n",
      "Take a deep breath and think step by step to find the correct SQL query in SQLite format.\n",
      "\n",
      "Question repetition: How many singers do we have?\n",
      "\n",
      "Be care! Include only what i want it questiona and nothing else<|im_end|>\n",
      "<|im_start|>assistant\n",
      "<think>\n",
      "\n",
      "</think>\n",
      "\n",
      "\n",
      "\n",
      "\n",
      "Максимальное количество токенов в промптах: 2203\n",
      "\n",
      "начинаем скорринг\n",
      "Загружаем чаты с данными...\n",
      "Данные успешно загружены\n",
      "Начали генерацию SQL запросов\n"
     ]
    },
    {
     "name": "stderr",
     "output_type": "stream",
     "text": [
      "Processed prompts: 100%|██████████| 1076/1076 [00:14<00:00, 74.05it/s, est. speed input: 90039.15 toks/s, output: 2457.58 toks/s] "
     ]
    },
    {
     "name": "stdout",
     "output_type": "stream",
     "text": [
      "extract_think количество ошибок:  0\n",
      "extract_sql количество ошибок:  0\n",
      "Закончили генерацию SQL запросов\n",
      "Начали скорр полученных SQL запросов\n"
     ]
    },
    {
     "name": "stderr",
     "output_type": "stream",
     "text": [
      "\n"
     ]
    },
    {
     "name": "stdout",
     "output_type": "stream",
     "text": [
      "Qwen3-4B DEV Финальный результат EX: 73.42\n",
      "Qwen3-4B процент запросов, которые успешно выполнились DEV: 97.77%\n",
      "====================================================================================================\n",
      "\n",
      "\n",
      "Загружаем чаты с данными...\n",
      "Данные успешно загружены\n",
      "Начали генерацию SQL запросов\n"
     ]
    },
    {
     "name": "stderr",
     "output_type": "stream",
     "text": [
      "Processed prompts: 100%|██████████| 1076/1076 [00:14<00:00, 74.29it/s, est. speed input: 90343.02 toks/s, output: 2486.48 toks/s] "
     ]
    },
    {
     "name": "stdout",
     "output_type": "stream",
     "text": [
      "extract_think количество ошибок:  0\n",
      "extract_sql количество ошибок:  0\n",
      "Закончили генерацию SQL запросов\n",
      "Начали скорр полученных SQL запросов\n"
     ]
    },
    {
     "name": "stderr",
     "output_type": "stream",
     "text": [
      "\n"
     ]
    },
    {
     "name": "stdout",
     "output_type": "stream",
     "text": [
      "Qwen3-4B DEV Финальный результат EX: 73.33\n",
      "Qwen3-4B процент запросов, которые успешно выполнились DEV: 97.77%\n",
      "====================================================================================================\n",
      "\n",
      "\n",
      "Загружаем чаты с данными...\n",
      "Данные успешно загружены\n",
      "Начали генерацию SQL запросов\n"
     ]
    },
    {
     "name": "stderr",
     "output_type": "stream",
     "text": [
      "Processed prompts: 100%|██████████| 1076/1076 [00:14<00:00, 75.85it/s, est. speed input: 92232.59 toks/s, output: 2534.33 toks/s] "
     ]
    },
    {
     "name": "stdout",
     "output_type": "stream",
     "text": [
      "extract_think количество ошибок:  0\n",
      "extract_sql количество ошибок:  0\n",
      "Закончили генерацию SQL запросов\n",
      "Начали скорр полученных SQL запросов\n"
     ]
    },
    {
     "name": "stderr",
     "output_type": "stream",
     "text": [
      "\n"
     ]
    },
    {
     "name": "stdout",
     "output_type": "stream",
     "text": [
      "Qwen3-4B DEV Финальный результат EX: 73.23\n",
      "Qwen3-4B процент запросов, которые успешно выполнились DEV: 97.77%\n",
      "====================================================================================================\n",
      "\n",
      "\n",
      "Загружаем чаты с данными...\n",
      "Данные успешно загружены\n",
      "Начали генерацию SQL запросов\n"
     ]
    },
    {
     "name": "stderr",
     "output_type": "stream",
     "text": [
      "Processed prompts: 100%|██████████| 1076/1076 [00:14<00:00, 75.24it/s, est. speed input: 91466.19 toks/s, output: 2490.42 toks/s] "
     ]
    },
    {
     "name": "stdout",
     "output_type": "stream",
     "text": [
      "extract_think количество ошибок:  0\n",
      "extract_sql количество ошибок:  0\n",
      "Закончили генерацию SQL запросов\n",
      "Начали скорр полученных SQL запросов\n"
     ]
    },
    {
     "name": "stderr",
     "output_type": "stream",
     "text": [
      "\n"
     ]
    },
    {
     "name": "stdout",
     "output_type": "stream",
     "text": [
      "Qwen3-4B DEV Финальный результат EX: 73.14\n",
      "Qwen3-4B процент запросов, которые успешно выполнились DEV: 97.68%\n",
      "====================================================================================================\n",
      "\n",
      "\n",
      "Загружаем чаты с данными...\n",
      "Данные успешно загружены\n",
      "Начали генерацию SQL запросов\n"
     ]
    },
    {
     "name": "stderr",
     "output_type": "stream",
     "text": [
      "Processed prompts: 100%|██████████| 1076/1076 [00:14<00:00, 75.02it/s, est. speed input: 91199.33 toks/s, output: 2470.46 toks/s] "
     ]
    },
    {
     "name": "stdout",
     "output_type": "stream",
     "text": [
      "extract_think количество ошибок:  0\n",
      "extract_sql количество ошибок:  0\n",
      "Закончили генерацию SQL запросов\n",
      "Начали скорр полученных SQL запросов\n"
     ]
    },
    {
     "name": "stderr",
     "output_type": "stream",
     "text": [
      "\n"
     ]
    },
    {
     "name": "stdout",
     "output_type": "stream",
     "text": [
      "Qwen3-4B DEV Финальный результат EX: 74.07\n",
      "Qwen3-4B процент запросов, которые успешно выполнились DEV: 98.33%\n",
      "====================================================================================================\n",
      "\n",
      "\n",
      "Загружаем чаты с данными...\n",
      "Данные успешно загружены\n",
      "Начали генерацию SQL запросов\n"
     ]
    },
    {
     "name": "stderr",
     "output_type": "stream",
     "text": [
      "Processed prompts: 100%|██████████| 1076/1076 [00:14<00:00, 74.79it/s, est. speed input: 90901.58 toks/s, output: 2493.81 toks/s] "
     ]
    },
    {
     "name": "stdout",
     "output_type": "stream",
     "text": [
      "extract_think количество ошибок:  0\n",
      "extract_sql количество ошибок:  0\n",
      "Закончили генерацию SQL запросов\n",
      "Начали скорр полученных SQL запросов\n"
     ]
    },
    {
     "name": "stderr",
     "output_type": "stream",
     "text": [
      "\n"
     ]
    },
    {
     "name": "stdout",
     "output_type": "stream",
     "text": [
      "Qwen3-4B DEV Финальный результат EX: 73.33\n",
      "Qwen3-4B процент запросов, которые успешно выполнились DEV: 98.05%\n",
      "====================================================================================================\n",
      "\n",
      "\n",
      "Загружаем чаты с данными...\n",
      "Данные успешно загружены\n",
      "Начали генерацию SQL запросов\n"
     ]
    },
    {
     "name": "stderr",
     "output_type": "stream",
     "text": [
      "Processed prompts: 100%|██████████| 1076/1076 [00:15<00:00, 70.86it/s, est. speed input: 86122.39 toks/s, output: 2336.74 toks/s] "
     ]
    },
    {
     "name": "stdout",
     "output_type": "stream",
     "text": [
      "extract_think количество ошибок:  0\n",
      "extract_sql количество ошибок:  0\n",
      "Закончили генерацию SQL запросов\n",
      "Начали скорр полученных SQL запросов\n"
     ]
    },
    {
     "name": "stderr",
     "output_type": "stream",
     "text": [
      "\n"
     ]
    },
    {
     "name": "stdout",
     "output_type": "stream",
     "text": [
      "Qwen3-4B DEV Финальный результат EX: 73.88\n",
      "Qwen3-4B процент запросов, которые успешно выполнились DEV: 98.05%\n",
      "====================================================================================================\n",
      "\n",
      "\n",
      "Загружаем чаты с данными...\n",
      "Данные успешно загружены\n",
      "Начали генерацию SQL запросов\n"
     ]
    },
    {
     "name": "stderr",
     "output_type": "stream",
     "text": [
      "Processed prompts: 100%|██████████| 1076/1076 [00:14<00:00, 73.45it/s, est. speed input: 89296.99 toks/s, output: 2443.71 toks/s] "
     ]
    },
    {
     "name": "stdout",
     "output_type": "stream",
     "text": [
      "extract_think количество ошибок:  0\n",
      "extract_sql количество ошибок:  0\n",
      "Закончили генерацию SQL запросов\n",
      "Начали скорр полученных SQL запросов\n"
     ]
    },
    {
     "name": "stderr",
     "output_type": "stream",
     "text": [
      "\n"
     ]
    },
    {
     "name": "stdout",
     "output_type": "stream",
     "text": [
      "Qwen3-4B DEV Финальный результат EX: 73.51\n",
      "Qwen3-4B процент запросов, которые успешно выполнились DEV: 98.14%\n",
      "====================================================================================================\n",
      "\n",
      "\n",
      "Загружаем чаты с данными...\n",
      "Данные успешно загружены\n",
      "Начали генерацию SQL запросов\n"
     ]
    },
    {
     "name": "stderr",
     "output_type": "stream",
     "text": [
      "Processed prompts: 100%|██████████| 1076/1076 [00:14<00:00, 73.70it/s, est. speed input: 89607.35 toks/s, output: 2443.76 toks/s] "
     ]
    },
    {
     "name": "stdout",
     "output_type": "stream",
     "text": [
      "extract_think количество ошибок:  0\n",
      "extract_sql количество ошибок:  0\n",
      "Закончили генерацию SQL запросов\n",
      "Начали скорр полученных SQL запросов\n"
     ]
    },
    {
     "name": "stderr",
     "output_type": "stream",
     "text": [
      "\n"
     ]
    },
    {
     "name": "stdout",
     "output_type": "stream",
     "text": [
      "Qwen3-4B DEV Финальный результат EX: 73.88\n",
      "Qwen3-4B процент запросов, которые успешно выполнились DEV: 98.70%\n",
      "====================================================================================================\n",
      "\n",
      "\n",
      "Загружаем чаты с данными...\n",
      "Данные успешно загружены\n",
      "Начали генерацию SQL запросов\n"
     ]
    },
    {
     "name": "stderr",
     "output_type": "stream",
     "text": [
      "Processed prompts: 100%|██████████| 1076/1076 [00:14<00:00, 73.11it/s, est. speed input: 88908.60 toks/s, output: 2441.63 toks/s] "
     ]
    },
    {
     "name": "stdout",
     "output_type": "stream",
     "text": [
      "extract_think количество ошибок:  0\n",
      "extract_sql количество ошибок:  0\n",
      "Закончили генерацию SQL запросов\n",
      "Начали скорр полученных SQL запросов\n"
     ]
    },
    {
     "name": "stderr",
     "output_type": "stream",
     "text": [
      "\n"
     ]
    },
    {
     "name": "stdout",
     "output_type": "stream",
     "text": [
      "Qwen3-4B DEV Финальный результат EX: 73.79\n",
      "Qwen3-4B процент запросов, которые успешно выполнились DEV: 98.05%\n",
      "====================================================================================================\n",
      "\n",
      "\n",
      "Загружаем чаты с данными...\n",
      "Данные успешно загружены\n",
      "Начали генерацию SQL запросов\n"
     ]
    },
    {
     "name": "stderr",
     "output_type": "stream",
     "text": [
      "Processed prompts: 100%|██████████| 1076/1076 [00:14<00:00, 75.65it/s, est. speed input: 91969.04 toks/s, output: 2513.79 toks/s] "
     ]
    },
    {
     "name": "stdout",
     "output_type": "stream",
     "text": [
      "extract_think количество ошибок:  0\n",
      "extract_sql количество ошибок:  0\n",
      "Закончили генерацию SQL запросов\n",
      "Начали скорр полученных SQL запросов\n"
     ]
    },
    {
     "name": "stderr",
     "output_type": "stream",
     "text": [
      "\n"
     ]
    },
    {
     "name": "stdout",
     "output_type": "stream",
     "text": [
      "Qwen3-4B DEV Финальный результат EX: 73.51\n",
      "Qwen3-4B процент запросов, которые успешно выполнились DEV: 97.77%\n",
      "====================================================================================================\n",
      "\n",
      "\n",
      "Загружаем чаты с данными...\n",
      "Данные успешно загружены\n",
      "Начали генерацию SQL запросов\n"
     ]
    },
    {
     "name": "stderr",
     "output_type": "stream",
     "text": [
      "Processed prompts: 100%|██████████| 1076/1076 [00:14<00:00, 74.16it/s, est. speed input: 90157.55 toks/s, output: 2488.49 toks/s] "
     ]
    },
    {
     "name": "stdout",
     "output_type": "stream",
     "text": [
      "extract_think количество ошибок:  0\n",
      "extract_sql количество ошибок:  0\n",
      "Закончили генерацию SQL запросов\n",
      "Начали скорр полученных SQL запросов\n"
     ]
    },
    {
     "name": "stderr",
     "output_type": "stream",
     "text": [
      "\n"
     ]
    },
    {
     "name": "stdout",
     "output_type": "stream",
     "text": [
      "Qwen3-4B DEV Финальный результат EX: 74.26\n",
      "Qwen3-4B процент запросов, которые успешно выполнились DEV: 97.96%\n",
      "====================================================================================================\n",
      "\n",
      "\n",
      "Загружаем чаты с данными...\n",
      "Данные успешно загружены\n",
      "Начали генерацию SQL запросов\n"
     ]
    },
    {
     "name": "stderr",
     "output_type": "stream",
     "text": [
      "Processed prompts: 100%|██████████| 1076/1076 [00:14<00:00, 72.03it/s, est. speed input: 87532.59 toks/s, output: 2399.78 toks/s] "
     ]
    },
    {
     "name": "stdout",
     "output_type": "stream",
     "text": [
      "extract_think количество ошибок:  0\n",
      "extract_sql количество ошибок:  0\n",
      "Закончили генерацию SQL запросов\n",
      "Начали скорр полученных SQL запросов\n"
     ]
    },
    {
     "name": "stderr",
     "output_type": "stream",
     "text": [
      "\n"
     ]
    },
    {
     "name": "stdout",
     "output_type": "stream",
     "text": [
      "Qwen3-4B DEV Финальный результат EX: 73.88\n",
      "Qwen3-4B процент запросов, которые успешно выполнились DEV: 97.86%\n",
      "====================================================================================================\n",
      "\n",
      "\n",
      "Загружаем чаты с данными...\n",
      "Данные успешно загружены\n",
      "Начали генерацию SQL запросов\n"
     ]
    },
    {
     "name": "stderr",
     "output_type": "stream",
     "text": [
      "Processed prompts: 100%|██████████| 1076/1076 [00:14<00:00, 73.18it/s, est. speed input: 88930.88 toks/s, output: 2434.81 toks/s] "
     ]
    },
    {
     "name": "stdout",
     "output_type": "stream",
     "text": [
      "extract_think количество ошибок:  0\n",
      "extract_sql количество ошибок:  0\n",
      "Закончили генерацию SQL запросов\n",
      "Начали скорр полученных SQL запросов\n"
     ]
    },
    {
     "name": "stderr",
     "output_type": "stream",
     "text": [
      "\n"
     ]
    },
    {
     "name": "stdout",
     "output_type": "stream",
     "text": [
      "Qwen3-4B DEV Финальный результат EX: 73.61\n",
      "Qwen3-4B процент запросов, которые успешно выполнились DEV: 97.86%\n",
      "====================================================================================================\n",
      "\n",
      "\n",
      "Загружаем чаты с данными...\n",
      "Данные успешно загружены\n",
      "Начали генерацию SQL запросов\n"
     ]
    },
    {
     "name": "stderr",
     "output_type": "stream",
     "text": [
      "Processed prompts: 100%|██████████| 1076/1076 [00:14<00:00, 73.57it/s, est. speed input: 89388.98 toks/s, output: 2442.52 toks/s] "
     ]
    },
    {
     "name": "stdout",
     "output_type": "stream",
     "text": [
      "extract_think количество ошибок:  0\n",
      "extract_sql количество ошибок:  0\n",
      "Закончили генерацию SQL запросов\n",
      "Начали скорр полученных SQL запросов\n"
     ]
    },
    {
     "name": "stderr",
     "output_type": "stream",
     "text": [
      "\n"
     ]
    },
    {
     "name": "stdout",
     "output_type": "stream",
     "text": [
      "Qwen3-4B DEV Финальный результат EX: 73.98\n",
      "Qwen3-4B процент запросов, которые успешно выполнились DEV: 98.23%\n",
      "====================================================================================================\n",
      "\n",
      "\n",
      "Загружаем чаты с данными...\n",
      "Данные успешно загружены\n",
      "Начали генерацию SQL запросов\n"
     ]
    },
    {
     "name": "stderr",
     "output_type": "stream",
     "text": [
      "Processed prompts: 100%|██████████| 1076/1076 [00:14<00:00, 75.12it/s, est. speed input: 91326.62 toks/s, output: 2511.56 toks/s] "
     ]
    },
    {
     "name": "stdout",
     "output_type": "stream",
     "text": [
      "extract_think количество ошибок:  0\n",
      "extract_sql количество ошибок:  0\n",
      "Закончили генерацию SQL запросов\n",
      "Начали скорр полученных SQL запросов\n"
     ]
    },
    {
     "name": "stderr",
     "output_type": "stream",
     "text": [
      "\n"
     ]
    },
    {
     "name": "stdout",
     "output_type": "stream",
     "text": [
      "Qwen3-4B DEV Финальный результат EX: 74.16\n",
      "Qwen3-4B процент запросов, которые успешно выполнились DEV: 98.23%\n",
      "====================================================================================================\n",
      "\n",
      "\n",
      "Загружаем чаты с данными...\n",
      "Данные успешно загружены\n",
      "Начали генерацию SQL запросов\n"
     ]
    },
    {
     "name": "stderr",
     "output_type": "stream",
     "text": [
      "Processed prompts: 100%|██████████| 1076/1076 [00:14<00:00, 74.79it/s, est. speed input: 90944.18 toks/s, output: 2514.56 toks/s] "
     ]
    },
    {
     "name": "stdout",
     "output_type": "stream",
     "text": [
      "extract_think количество ошибок:  0\n",
      "extract_sql количество ошибок:  0\n",
      "Закончили генерацию SQL запросов\n",
      "Начали скорр полученных SQL запросов\n"
     ]
    },
    {
     "name": "stderr",
     "output_type": "stream",
     "text": [
      "\n"
     ]
    },
    {
     "name": "stdout",
     "output_type": "stream",
     "text": [
      "Qwen3-4B DEV Финальный результат EX: 73.88\n",
      "Qwen3-4B процент запросов, которые успешно выполнились DEV: 98.33%\n",
      "====================================================================================================\n",
      "\n",
      "\n",
      "Загружаем чаты с данными...\n",
      "Данные успешно загружены\n",
      "Начали генерацию SQL запросов\n"
     ]
    },
    {
     "name": "stderr",
     "output_type": "stream",
     "text": [
      "Processed prompts: 100%|██████████| 1076/1076 [00:14<00:00, 73.92it/s, est. speed input: 89886.62 toks/s, output: 2465.33 toks/s] "
     ]
    },
    {
     "name": "stdout",
     "output_type": "stream",
     "text": [
      "extract_think количество ошибок:  0\n",
      "extract_sql количество ошибок:  0\n",
      "Закончили генерацию SQL запросов\n",
      "Начали скорр полученных SQL запросов\n"
     ]
    },
    {
     "name": "stderr",
     "output_type": "stream",
     "text": [
      "\n"
     ]
    },
    {
     "name": "stdout",
     "output_type": "stream",
     "text": [
      "Qwen3-4B DEV Финальный результат EX: 74.63\n",
      "Qwen3-4B процент запросов, которые успешно выполнились DEV: 98.61%\n",
      "====================================================================================================\n",
      "\n",
      "\n",
      "Загружаем чаты с данными...\n",
      "Данные успешно загружены\n",
      "Начали генерацию SQL запросов\n"
     ]
    },
    {
     "name": "stderr",
     "output_type": "stream",
     "text": [
      "Processed prompts: 100%|██████████| 1076/1076 [00:14<00:00, 74.82it/s, est. speed input: 90946.21 toks/s, output: 2491.18 toks/s] "
     ]
    },
    {
     "name": "stdout",
     "output_type": "stream",
     "text": [
      "extract_think количество ошибок:  0\n",
      "extract_sql количество ошибок:  0\n",
      "Закончили генерацию SQL запросов\n",
      "Начали скорр полученных SQL запросов\n"
     ]
    },
    {
     "name": "stderr",
     "output_type": "stream",
     "text": [
      "\n"
     ]
    },
    {
     "name": "stdout",
     "output_type": "stream",
     "text": [
      "Qwen3-4B DEV Финальный результат EX: 73.88\n",
      "Qwen3-4B процент запросов, которые успешно выполнились DEV: 98.23%\n",
      "====================================================================================================\n",
      "\n",
      "\n",
      "Загружаем чаты с данными...\n",
      "Данные успешно загружены\n",
      "Начали генерацию SQL запросов\n"
     ]
    },
    {
     "name": "stderr",
     "output_type": "stream",
     "text": [
      "Processed prompts: 100%|██████████| 1076/1076 [00:15<00:00, 71.67it/s, est. speed input: 87120.69 toks/s, output: 2377.93 toks/s] "
     ]
    },
    {
     "name": "stdout",
     "output_type": "stream",
     "text": [
      "extract_think количество ошибок:  0\n",
      "extract_sql количество ошибок:  0\n",
      "Закончили генерацию SQL запросов\n",
      "Начали скорр полученных SQL запросов\n"
     ]
    },
    {
     "name": "stderr",
     "output_type": "stream",
     "text": [
      "\n"
     ]
    },
    {
     "name": "stdout",
     "output_type": "stream",
     "text": [
      "Qwen3-4B DEV Финальный результат EX: 74.16\n",
      "Qwen3-4B процент запросов, которые успешно выполнились DEV: 98.05%\n",
      "====================================================================================================\n",
      "\n",
      "\n"
     ]
    }
   ],
   "source": [
    "run_cot_experiment(model,arr_seeds,arr_versions, type_cot,num_observations=num_observations)"
   ]
  },
  {
   "cell_type": "code",
   "execution_count": 15,
   "id": "57efa230-434d-4803-901f-a4d09f2971ad",
   "metadata": {},
   "outputs": [
    {
     "name": "stdout",
     "output_type": "stream",
     "text": [
      "[65, 328, 219, 481, 939, 738, 869, 558, 669, 191, 901, 424, 506, 549, 951, 420, 558, 836, 427, 509]\n",
      "model: Qwen3-4B\n"
     ]
    }
   ],
   "source": [
    "n= 20\n",
    "arr_seeds = [random.randint(0,1000) for _ in range(n)]\n",
    "arr_versions = [x for x in range(n)]\n",
    "model = \"Qwen3-4B\"\n",
    "num_observations = 4\n",
    "type_cot = 'predict'\n",
    "print(arr_seeds)\n",
    "print(f\"model: {model}\")"
   ]
  },
  {
   "cell_type": "code",
   "execution_count": 16,
   "id": "84e49863-1bc7-4141-93e1-a7dbca7ce991",
   "metadata": {
    "scrolled": true
   },
   "outputs": [
    {
     "name": "stdout",
     "output_type": "stream",
     "text": [
      "Загружаем модель...\n"
     ]
    },
    {
     "name": "stderr",
     "output_type": "stream",
     "text": [
      "Loading safetensors checkpoint shards:   0% Completed | 0/3 [00:00<?, ?it/s]\n",
      "Loading safetensors checkpoint shards:  33% Completed | 1/3 [00:00<00:01,  1.07it/s]\n",
      "Loading safetensors checkpoint shards: 100% Completed | 3/3 [00:02<00:00,  1.36it/s]\n",
      "Loading safetensors checkpoint shards: 100% Completed | 3/3 [00:02<00:00,  1.32it/s]\n",
      "\u001b[1;36m(VllmWorker rank=0 pid=3564654)\u001b[0;0m \n"
     ]
    },
    {
     "name": "stdout",
     "output_type": "stream",
     "text": [
      "Модель успешно загружена\n",
      "model_config {'model': '/data/home/vkropoti/models/Qwen3-4B', 'tensor_parallel_size': 2, 'max_model_len': 40000, 'max_new_tokens': 1500, 'temperature': 0, 'top_k': 1, 'top_p': 0.8, 'gpu_memory_utilization': 0.9, 'trust_remote_code': False, 'seed': 65}\n",
      "\n",
      "prompts_config {'path_dev_json': '/data/home/vkropoti/sql_data/dev_spider.json', 'path_sql_dbs': '/data/home/vkropoti/sql_data/data_bases_spider/', 'use_reasoning': False, 'paths_to_cot': ['/data/home/vkropoti/sql_llm_answers/spider_dev_m_schema/sql_predict_Qwen3-4B-reasoning-v0', '/data/home/vkropoti/sql_llm_answers/spider_dev_m_schema/sql_predict_Qwen3-4B-reasoning-v1', '/data/home/vkropoti/sql_llm_answers/spider_dev_m_schema/sql_predict_Qwen3-4B-reasoning-v2', '/data/home/vkropoti/sql_llm_answers/spider_dev_m_schema/sql_predict_Qwen3-4B-reasoning-v3']}\n",
      "\n",
      "save_config {'path_sql_save': '/data/home/vkropoti/sql_llm_answers/spider_dev_m_schema/sql_all_Qwen3-4B-cot_predict_think==False_nobs4-v0', 'path_think_save': None, 'path_sql_answers_save': '/data/home/vkropoti/sql_llm_answers/spider_dev_m_schema/sql_predict_Qwen3-4B-cot_predict_think==False_nobs4-v0', 'path_to_save_scores': '/data/home/vkropoti/sql_llm_answers/spider_dev_m_schema/sql_results_Qwen3-4B-cot_predict_think==False_nobs4-v0', 'path_to_save_executed': '/data/home/vkropoti/sql_llm_answers/spider_dev_m_schema/sql_executed_Qwen3-4B-cot_predict_think==False_nobs4-v0'}\n",
      "\n",
      "Модель успешно загружена\n",
      "Пример промпта\n",
      "<|im_start|>system\n",
      "\n",
      "You are a data science expert. Below, you are provided with a database schema and a natural language question. Your task is to understand the schema and generate a valid SQL query to answer the question.\n",
      "\n",
      "Database Engine: SQLite\n",
      "\n",
      "You will be given an additional analysis of other models, please take it into account, so the plan is\n",
      "1. Analyse given addition analysis from other models (find in which analysis the same and differ, how to use that to answer question)\n",
      "2. Combine best from previous part and think how to solve the problem (analyze tables, take care what columns avaliable in each table and so on, check the syntacsis)\n",
      "3. Create the answers. The answer should be only sql query.\n",
      "\n",
      "Carefully follow the instruction and add <|im_end|> and the end of the final answer<|im_end|>\n",
      "<|im_start|>user\n",
      "Here is addition analysis from other models which can be helpfull, please take this into account but be careful (choose the best from each analysis, combine them to make the most proper answer):\n",
      "\n",
      "model 0 analysis:\n",
      " SELECT COUNT(*) FROM singer;\n",
      "\n",
      "model 1 analysis:\n",
      " SELECT COUNT(*) FROM singer;\n",
      "\n",
      "model 2 analysis:\n",
      " SELECT COUNT(*) FROM singer;\n",
      "\n",
      "model 3 analysis:\n",
      " SELECT COUNT(*) FROM singer;\n",
      "\n",
      "\n",
      "here is avaliable tables and their structure below\n",
      "【DB_ID】 concert_singer\n",
      "【Schema】\n",
      "# Table: concert\n",
      "[\n",
      "(concert_ID:INTEGER, Primary Key, Examples: [1, 2, 3]),\n",
      "(concert_Name:TEXT, Examples: [Auditions, Super bootcamp, Home Visits]),\n",
      "(Theme:TEXT, Examples: [Free choice, Free choice 2, Bleeding Love]),\n",
      "(Stadium_ID:TEXT, maps to stadium.Stadium_ID, Examples: [1, 2, 10]),\n",
      "(Year:TEXT, Examples: [2014, 2015, 2016])\n",
      "]\n",
      "# Table: singer\n",
      "[\n",
      "(Singer_ID:INTEGER, Primary Key, Examples: [1, 2, 3]),\n",
      "(Name:TEXT, Examples: [Joe Sharp, Timbaland, Justin Brown]),\n",
      "(Country:TEXT, Examples: [Netherlands, United States, France]),\n",
      "(Song_Name:TEXT, Examples: [You, Dangerous, Hey Oh]),\n",
      "(Song_release_year:TEXT, Examples: [1992, 2008, 2013]),\n",
      "(Age:INTEGER, Examples: [52, 32, 29]),\n",
      "(Is_male:BOOLEAN, Examples: [False, True])\n",
      "]\n",
      "# Table: singer_in_concert\n",
      "[\n",
      "(concert_ID:INTEGER, maps to concert.concert_ID, Primary Key, Examples: [1, 2, 3]),\n",
      "(Singer_ID:TEXT, maps to singer.Singer_ID, Primary Key, Examples: [2, 3, 5])\n",
      "]\n",
      "# Table: stadium\n",
      "[\n",
      "(Stadium_ID:INTEGER, Primary Key, Examples: [1, 2, 3]),\n",
      "(Location:TEXT, Examples: [Raith Rovers, Ayr United, East Fife]),\n",
      "(Name:TEXT, Examples: [Stark's Park, Somerset Park, Bayview Stadium]),\n",
      "(Capacity:INTEGER, Examples: [10104, 11998, 2000]),\n",
      "(Highest:INTEGER, Examples: [4812, 2363, 1980]),\n",
      "(Lowest:INTEGER, Examples: [1294, 1057, 533]),\n",
      "(Average:INTEGER, Examples: [2106, 1477, 864])\n",
      "]\n",
      "【Foreign keys】\n",
      "concert.Stadium_ID=stadium.Stadium_ID\n",
      "singer_in_concert.concert_ID=concert.concert_ID\n",
      "singer_in_concert.Singer_ID=singer.Singer_ID\n",
      "\n",
      "-- Using valid SQLite, answer the following questions for the tables provided above.\n",
      "-- How many singers do we have?\n",
      "\n",
      "\n",
      "\n",
      "Generate the SQLite for the above question after thinking step by step: \n",
      "\n",
      "\n",
      "Instructions:\n",
      "- Make sure you only output the information that is asked in the question. If the question asks for a specific column, make sure to only include that column in the SELECT clause, nothing more.\n",
      "- The generated query should return all of the information asked in the question without any missing or extra information.\n",
      "- Before generating the final SQL query, please think through the steps of how to write the query.\n",
      "- Do not misuse column names, keep them in quotes `\n",
      "- Carefully understand what colomns belond to what tables\n",
      "- Use only initial column names, change names prohibited\n",
      "        \n",
      "Output Format:\n",
      "In your answer, please enclose the generated SQL query in a code block:\n",
      "```\n",
      "-- Your SQL query\n",
      "```    \n",
      "and nothing else, no exaplains, no comments (asnwer should be less than 512 characters)\n",
      "\n",
      "Take a deep breath and think step by step to find the correct SQL query in SQLite format.\n",
      "\n",
      "Question repetition: How many singers do we have?\n",
      "\n",
      "Be care! Include only what i want it questiona and nothing else<|im_end|>\n",
      "<|im_start|>assistant\n",
      "<think>\n",
      "\n",
      "</think>\n",
      "\n",
      "\n",
      "\n",
      "\n",
      "Максимальное количество токенов в промптах: 2304\n",
      "\n",
      "начинаем скорринг\n",
      "Загружаем чаты с данными...\n",
      "Данные успешно загружены\n",
      "Начали генерацию SQL запросов\n"
     ]
    },
    {
     "name": "stderr",
     "output_type": "stream",
     "text": [
      "Processed prompts: 100%|██████████| 1076/1076 [00:15<00:00, 71.37it/s, est. speed input: 89212.28 toks/s, output: 2367.73 toks/s] "
     ]
    },
    {
     "name": "stdout",
     "output_type": "stream",
     "text": [
      "extract_think количество ошибок:  0\n",
      "extract_sql количество ошибок:  0\n",
      "Закончили генерацию SQL запросов\n",
      "Начали скорр полученных SQL запросов\n"
     ]
    },
    {
     "name": "stderr",
     "output_type": "stream",
     "text": [
      "\n"
     ]
    },
    {
     "name": "stdout",
     "output_type": "stream",
     "text": [
      "Qwen3-4B DEV Финальный результат EX: 73.51\n",
      "Qwen3-4B процент запросов, которые успешно выполнились DEV: 98.14%\n",
      "====================================================================================================\n",
      "\n",
      "\n",
      "Загружаем чаты с данными...\n",
      "Данные успешно загружены\n",
      "Начали генерацию SQL запросов\n"
     ]
    },
    {
     "name": "stderr",
     "output_type": "stream",
     "text": [
      "Processed prompts: 100%|██████████| 1076/1076 [00:15<00:00, 70.85it/s, est. speed input: 88593.85 toks/s, output: 2354.48 toks/s] "
     ]
    },
    {
     "name": "stdout",
     "output_type": "stream",
     "text": [
      "extract_think количество ошибок:  0\n",
      "extract_sql количество ошибок:  0\n",
      "Закончили генерацию SQL запросов\n",
      "Начали скорр полученных SQL запросов\n"
     ]
    },
    {
     "name": "stderr",
     "output_type": "stream",
     "text": [
      "\n"
     ]
    },
    {
     "name": "stdout",
     "output_type": "stream",
     "text": [
      "Qwen3-4B DEV Финальный результат EX: 73.88\n",
      "Qwen3-4B процент запросов, которые успешно выполнились DEV: 98.42%\n",
      "====================================================================================================\n",
      "\n",
      "\n",
      "Загружаем чаты с данными...\n",
      "Данные успешно загружены\n",
      "Начали генерацию SQL запросов\n"
     ]
    },
    {
     "name": "stderr",
     "output_type": "stream",
     "text": [
      "Processed prompts: 100%|██████████| 1076/1076 [00:15<00:00, 71.38it/s, est. speed input: 89230.39 toks/s, output: 2365.75 toks/s] "
     ]
    },
    {
     "name": "stdout",
     "output_type": "stream",
     "text": [
      "extract_think количество ошибок:  0\n",
      "extract_sql количество ошибок:  0\n",
      "Закончили генерацию SQL запросов\n",
      "Начали скорр полученных SQL запросов\n"
     ]
    },
    {
     "name": "stderr",
     "output_type": "stream",
     "text": [
      "\n"
     ]
    },
    {
     "name": "stdout",
     "output_type": "stream",
     "text": [
      "Qwen3-4B DEV Финальный результат EX: 73.33\n",
      "Qwen3-4B процент запросов, которые успешно выполнились DEV: 97.96%\n",
      "====================================================================================================\n",
      "\n",
      "\n",
      "Загружаем чаты с данными...\n",
      "Данные успешно загружены\n",
      "Начали генерацию SQL запросов\n"
     ]
    },
    {
     "name": "stderr",
     "output_type": "stream",
     "text": [
      "Processed prompts: 100%|██████████| 1076/1076 [00:15<00:00, 70.18it/s, est. speed input: 87709.68 toks/s, output: 2308.58 toks/s] "
     ]
    },
    {
     "name": "stdout",
     "output_type": "stream",
     "text": [
      "extract_think количество ошибок:  0\n",
      "extract_sql количество ошибок:  0\n",
      "Закончили генерацию SQL запросов\n",
      "Начали скорр полученных SQL запросов\n"
     ]
    },
    {
     "name": "stderr",
     "output_type": "stream",
     "text": [
      "\n"
     ]
    },
    {
     "name": "stdout",
     "output_type": "stream",
     "text": [
      "Qwen3-4B DEV Финальный результат EX: 73.70\n",
      "Qwen3-4B процент запросов, которые успешно выполнились DEV: 98.42%\n",
      "====================================================================================================\n",
      "\n",
      "\n",
      "Загружаем чаты с данными...\n",
      "Данные успешно загружены\n",
      "Начали генерацию SQL запросов\n"
     ]
    },
    {
     "name": "stderr",
     "output_type": "stream",
     "text": [
      "Processed prompts: 100%|██████████| 1076/1076 [00:15<00:00, 70.70it/s, est. speed input: 88358.02 toks/s, output: 2338.47 toks/s] "
     ]
    },
    {
     "name": "stdout",
     "output_type": "stream",
     "text": [
      "extract_think количество ошибок:  0\n",
      "extract_sql количество ошибок:  0\n",
      "Закончили генерацию SQL запросов\n",
      "Начали скорр полученных SQL запросов\n"
     ]
    },
    {
     "name": "stderr",
     "output_type": "stream",
     "text": [
      "\n"
     ]
    },
    {
     "name": "stdout",
     "output_type": "stream",
     "text": [
      "Qwen3-4B DEV Финальный результат EX: 73.61\n",
      "Qwen3-4B процент запросов, которые успешно выполнились DEV: 98.33%\n",
      "====================================================================================================\n",
      "\n",
      "\n",
      "Загружаем чаты с данными...\n",
      "Данные успешно загружены\n",
      "Начали генерацию SQL запросов\n"
     ]
    },
    {
     "name": "stderr",
     "output_type": "stream",
     "text": [
      "Processed prompts: 100%|██████████| 1076/1076 [00:15<00:00, 70.03it/s, est. speed input: 87500.94 toks/s, output: 2306.00 toks/s] "
     ]
    },
    {
     "name": "stdout",
     "output_type": "stream",
     "text": [
      "extract_think количество ошибок:  0\n",
      "extract_sql количество ошибок:  0\n",
      "Закончили генерацию SQL запросов\n",
      "Начали скорр полученных SQL запросов\n"
     ]
    },
    {
     "name": "stderr",
     "output_type": "stream",
     "text": [
      "\n"
     ]
    },
    {
     "name": "stdout",
     "output_type": "stream",
     "text": [
      "Qwen3-4B DEV Финальный результат EX: 73.70\n",
      "Qwen3-4B процент запросов, которые успешно выполнились DEV: 98.79%\n",
      "====================================================================================================\n",
      "\n",
      "\n",
      "Загружаем чаты с данными...\n",
      "Данные успешно загружены\n",
      "Начали генерацию SQL запросов\n"
     ]
    },
    {
     "name": "stderr",
     "output_type": "stream",
     "text": [
      "Processed prompts: 100%|██████████| 1076/1076 [00:16<00:00, 66.32it/s, est. speed input: 82890.84 toks/s, output: 2211.26 toks/s] "
     ]
    },
    {
     "name": "stdout",
     "output_type": "stream",
     "text": [
      "extract_think количество ошибок:  0\n",
      "extract_sql количество ошибок:  0\n",
      "Закончили генерацию SQL запросов\n",
      "Начали скорр полученных SQL запросов\n"
     ]
    },
    {
     "name": "stderr",
     "output_type": "stream",
     "text": [
      "\n"
     ]
    },
    {
     "name": "stdout",
     "output_type": "stream",
     "text": [
      "Qwen3-4B DEV Финальный результат EX: 73.61\n",
      "Qwen3-4B процент запросов, которые успешно выполнились DEV: 98.14%\n",
      "====================================================================================================\n",
      "\n",
      "\n",
      "Загружаем чаты с данными...\n",
      "Данные успешно загружены\n",
      "Начали генерацию SQL запросов\n"
     ]
    },
    {
     "name": "stderr",
     "output_type": "stream",
     "text": [
      "Processed prompts: 100%|██████████| 1076/1076 [00:15<00:00, 69.20it/s, est. speed input: 86492.37 toks/s, output: 2291.03 toks/s] "
     ]
    },
    {
     "name": "stdout",
     "output_type": "stream",
     "text": [
      "extract_think количество ошибок:  0\n",
      "extract_sql количество ошибок:  0\n",
      "Закончили генерацию SQL запросов\n",
      "Начали скорр полученных SQL запросов\n"
     ]
    },
    {
     "name": "stderr",
     "output_type": "stream",
     "text": [
      "\n"
     ]
    },
    {
     "name": "stdout",
     "output_type": "stream",
     "text": [
      "Qwen3-4B DEV Финальный результат EX: 73.79\n",
      "Qwen3-4B процент запросов, которые успешно выполнились DEV: 98.79%\n",
      "====================================================================================================\n",
      "\n",
      "\n",
      "Загружаем чаты с данными...\n",
      "Данные успешно загружены\n",
      "Начали генерацию SQL запросов\n"
     ]
    },
    {
     "name": "stderr",
     "output_type": "stream",
     "text": [
      "Processed prompts: 100%|██████████| 1076/1076 [00:15<00:00, 68.41it/s, est. speed input: 85520.82 toks/s, output: 2264.71 toks/s] "
     ]
    },
    {
     "name": "stdout",
     "output_type": "stream",
     "text": [
      "extract_think количество ошибок:  0\n",
      "extract_sql количество ошибок:  0\n",
      "Закончили генерацию SQL запросов\n",
      "Начали скорр полученных SQL запросов\n"
     ]
    },
    {
     "name": "stderr",
     "output_type": "stream",
     "text": [
      "\n"
     ]
    },
    {
     "name": "stdout",
     "output_type": "stream",
     "text": [
      "Qwen3-4B DEV Финальный результат EX: 74.07\n",
      "Qwen3-4B процент запросов, которые успешно выполнились DEV: 98.51%\n",
      "====================================================================================================\n",
      "\n",
      "\n",
      "Загружаем чаты с данными...\n",
      "Данные успешно загружены\n",
      "Начали генерацию SQL запросов\n"
     ]
    },
    {
     "name": "stderr",
     "output_type": "stream",
     "text": [
      "Processed prompts: 100%|██████████| 1076/1076 [00:15<00:00, 69.59it/s, est. speed input: 87004.56 toks/s, output: 2306.33 toks/s] "
     ]
    },
    {
     "name": "stdout",
     "output_type": "stream",
     "text": [
      "extract_think количество ошибок:  0\n",
      "extract_sql количество ошибок:  0\n",
      "Закончили генерацию SQL запросов\n",
      "Начали скорр полученных SQL запросов\n"
     ]
    },
    {
     "name": "stderr",
     "output_type": "stream",
     "text": [
      "\n"
     ]
    },
    {
     "name": "stdout",
     "output_type": "stream",
     "text": [
      "Qwen3-4B DEV Финальный результат EX: 74.72\n",
      "Qwen3-4B процент запросов, которые успешно выполнились DEV: 98.98%\n",
      "====================================================================================================\n",
      "\n",
      "\n",
      "Загружаем чаты с данными...\n",
      "Данные успешно загружены\n",
      "Начали генерацию SQL запросов\n"
     ]
    },
    {
     "name": "stderr",
     "output_type": "stream",
     "text": [
      "Processed prompts: 100%|██████████| 1076/1076 [00:15<00:00, 69.72it/s, est. speed input: 87143.75 toks/s, output: 2316.12 toks/s] "
     ]
    },
    {
     "name": "stdout",
     "output_type": "stream",
     "text": [
      "extract_think количество ошибок:  0\n",
      "extract_sql количество ошибок:  0\n",
      "Закончили генерацию SQL запросов\n",
      "Начали скорр полученных SQL запросов\n"
     ]
    },
    {
     "name": "stderr",
     "output_type": "stream",
     "text": [
      "\n"
     ]
    },
    {
     "name": "stdout",
     "output_type": "stream",
     "text": [
      "Qwen3-4B DEV Финальный результат EX: 74.72\n",
      "Qwen3-4B процент запросов, которые успешно выполнились DEV: 98.61%\n",
      "====================================================================================================\n",
      "\n",
      "\n",
      "Загружаем чаты с данными...\n",
      "Данные успешно загружены\n",
      "Начали генерацию SQL запросов\n"
     ]
    },
    {
     "name": "stderr",
     "output_type": "stream",
     "text": [
      "Processed prompts: 100%|██████████| 1076/1076 [00:15<00:00, 69.30it/s, est. speed input: 86585.98 toks/s, output: 2294.05 toks/s] "
     ]
    },
    {
     "name": "stdout",
     "output_type": "stream",
     "text": [
      "extract_think количество ошибок:  0\n",
      "extract_sql количество ошибок:  0\n",
      "Закончили генерацию SQL запросов\n",
      "Начали скорр полученных SQL запросов\n"
     ]
    },
    {
     "name": "stderr",
     "output_type": "stream",
     "text": [
      "\n"
     ]
    },
    {
     "name": "stdout",
     "output_type": "stream",
     "text": [
      "Qwen3-4B DEV Финальный результат EX: 74.07\n",
      "Qwen3-4B процент запросов, которые успешно выполнились DEV: 98.14%\n",
      "====================================================================================================\n",
      "\n",
      "\n",
      "Загружаем чаты с данными...\n",
      "Данные успешно загружены\n",
      "Начали генерацию SQL запросов\n"
     ]
    },
    {
     "name": "stderr",
     "output_type": "stream",
     "text": [
      "Processed prompts: 100%|██████████| 1076/1076 [00:15<00:00, 69.94it/s, est. speed input: 87377.27 toks/s, output: 2330.26 toks/s] "
     ]
    },
    {
     "name": "stdout",
     "output_type": "stream",
     "text": [
      "extract_think количество ошибок:  0\n",
      "extract_sql количество ошибок:  0\n",
      "Закончили генерацию SQL запросов\n",
      "Начали скорр полученных SQL запросов\n"
     ]
    },
    {
     "name": "stderr",
     "output_type": "stream",
     "text": [
      "\n"
     ]
    },
    {
     "name": "stdout",
     "output_type": "stream",
     "text": [
      "Qwen3-4B DEV Финальный результат EX: 74.35\n",
      "Qwen3-4B процент запросов, которые успешно выполнились DEV: 98.14%\n",
      "====================================================================================================\n",
      "\n",
      "\n",
      "Загружаем чаты с данными...\n",
      "Данные успешно загружены\n",
      "Начали генерацию SQL запросов\n"
     ]
    },
    {
     "name": "stderr",
     "output_type": "stream",
     "text": [
      "Processed prompts: 100%|██████████| 1076/1076 [00:16<00:00, 66.39it/s, est. speed input: 82939.92 toks/s, output: 2188.06 toks/s] "
     ]
    },
    {
     "name": "stdout",
     "output_type": "stream",
     "text": [
      "extract_think количество ошибок:  0\n",
      "extract_sql количество ошибок:  0\n",
      "Закончили генерацию SQL запросов\n",
      "Начали скорр полученных SQL запросов\n"
     ]
    },
    {
     "name": "stderr",
     "output_type": "stream",
     "text": [
      "\n"
     ]
    },
    {
     "name": "stdout",
     "output_type": "stream",
     "text": [
      "Qwen3-4B DEV Финальный результат EX: 73.88\n",
      "Qwen3-4B процент запросов, которые успешно выполнились DEV: 98.51%\n",
      "====================================================================================================\n",
      "\n",
      "\n",
      "Загружаем чаты с данными...\n",
      "Данные успешно загружены\n",
      "Начали генерацию SQL запросов\n"
     ]
    },
    {
     "name": "stderr",
     "output_type": "stream",
     "text": [
      "Processed prompts: 100%|██████████| 1076/1076 [00:15<00:00, 70.25it/s, est. speed input: 87773.81 toks/s, output: 2321.24 toks/s] "
     ]
    },
    {
     "name": "stdout",
     "output_type": "stream",
     "text": [
      "extract_think количество ошибок:  0\n",
      "extract_sql количество ошибок:  0\n",
      "Закончили генерацию SQL запросов\n",
      "Начали скорр полученных SQL запросов\n"
     ]
    },
    {
     "name": "stderr",
     "output_type": "stream",
     "text": [
      "\n"
     ]
    },
    {
     "name": "stdout",
     "output_type": "stream",
     "text": [
      "Qwen3-4B DEV Финальный результат EX: 74.16\n",
      "Qwen3-4B процент запросов, которые успешно выполнились DEV: 98.42%\n",
      "====================================================================================================\n",
      "\n",
      "\n",
      "Загружаем чаты с данными...\n",
      "Данные успешно загружены\n",
      "Начали генерацию SQL запросов\n"
     ]
    },
    {
     "name": "stderr",
     "output_type": "stream",
     "text": [
      "Processed prompts: 100%|██████████| 1076/1076 [00:15<00:00, 69.25it/s, est. speed input: 86570.48 toks/s, output: 2304.19 toks/s] "
     ]
    },
    {
     "name": "stdout",
     "output_type": "stream",
     "text": [
      "extract_think количество ошибок:  0\n",
      "extract_sql количество ошибок:  0\n",
      "Закончили генерацию SQL запросов\n",
      "Начали скорр полученных SQL запросов\n"
     ]
    },
    {
     "name": "stderr",
     "output_type": "stream",
     "text": [
      "\n"
     ]
    },
    {
     "name": "stdout",
     "output_type": "stream",
     "text": [
      "Qwen3-4B DEV Финальный результат EX: 74.72\n",
      "Qwen3-4B процент запросов, которые успешно выполнились DEV: 98.79%\n",
      "====================================================================================================\n",
      "\n",
      "\n",
      "Загружаем чаты с данными...\n",
      "Данные успешно загружены\n",
      "Начали генерацию SQL запросов\n"
     ]
    },
    {
     "name": "stderr",
     "output_type": "stream",
     "text": [
      "Processed prompts: 100%|██████████| 1076/1076 [00:15<00:00, 70.97it/s, est. speed input: 88708.04 toks/s, output: 2363.98 toks/s] "
     ]
    },
    {
     "name": "stdout",
     "output_type": "stream",
     "text": [
      "extract_think количество ошибок:  0\n",
      "extract_sql количество ошибок:  0\n",
      "Закончили генерацию SQL запросов\n",
      "Начали скорр полученных SQL запросов\n"
     ]
    },
    {
     "name": "stderr",
     "output_type": "stream",
     "text": [
      "\n"
     ]
    },
    {
     "name": "stdout",
     "output_type": "stream",
     "text": [
      "Qwen3-4B DEV Финальный результат EX: 73.79\n",
      "Qwen3-4B процент запросов, которые успешно выполнились DEV: 98.88%\n",
      "====================================================================================================\n",
      "\n",
      "\n",
      "Загружаем чаты с данными...\n",
      "Данные успешно загружены\n",
      "Начали генерацию SQL запросов\n"
     ]
    },
    {
     "name": "stderr",
     "output_type": "stream",
     "text": [
      "Processed prompts: 100%|██████████| 1076/1076 [00:15<00:00, 69.23it/s, est. speed input: 86535.91 toks/s, output: 2276.23 toks/s] "
     ]
    },
    {
     "name": "stdout",
     "output_type": "stream",
     "text": [
      "extract_think количество ошибок:  0\n",
      "extract_sql количество ошибок:  0\n",
      "Закончили генерацию SQL запросов\n",
      "Начали скорр полученных SQL запросов\n"
     ]
    },
    {
     "name": "stderr",
     "output_type": "stream",
     "text": [
      "\n"
     ]
    },
    {
     "name": "stdout",
     "output_type": "stream",
     "text": [
      "Qwen3-4B DEV Финальный результат EX: 74.72\n",
      "Qwen3-4B процент запросов, которые успешно выполнились DEV: 98.88%\n",
      "====================================================================================================\n",
      "\n",
      "\n",
      "Загружаем чаты с данными...\n",
      "Данные успешно загружены\n",
      "Начали генерацию SQL запросов\n"
     ]
    },
    {
     "name": "stderr",
     "output_type": "stream",
     "text": [
      "Processed prompts: 100%|██████████| 1076/1076 [00:15<00:00, 69.21it/s, est. speed input: 86503.33 toks/s, output: 2296.89 toks/s] "
     ]
    },
    {
     "name": "stdout",
     "output_type": "stream",
     "text": [
      "extract_think количество ошибок:  0\n",
      "extract_sql количество ошибок:  0\n",
      "Закончили генерацию SQL запросов\n",
      "Начали скорр полученных SQL запросов\n"
     ]
    },
    {
     "name": "stderr",
     "output_type": "stream",
     "text": [
      "\n"
     ]
    },
    {
     "name": "stdout",
     "output_type": "stream",
     "text": [
      "Qwen3-4B DEV Финальный результат EX: 74.54\n",
      "Qwen3-4B процент запросов, которые успешно выполнились DEV: 98.14%\n",
      "====================================================================================================\n",
      "\n",
      "\n",
      "Загружаем чаты с данными...\n",
      "Данные успешно загружены\n",
      "Начали генерацию SQL запросов\n"
     ]
    },
    {
     "name": "stderr",
     "output_type": "stream",
     "text": [
      "Processed prompts: 100%|██████████| 1076/1076 [00:15<00:00, 68.96it/s, est. speed input: 86194.78 toks/s, output: 2280.94 toks/s] "
     ]
    },
    {
     "name": "stdout",
     "output_type": "stream",
     "text": [
      "extract_think количество ошибок:  0\n",
      "extract_sql количество ошибок:  0\n",
      "Закончили генерацию SQL запросов\n",
      "Начали скорр полученных SQL запросов\n"
     ]
    },
    {
     "name": "stderr",
     "output_type": "stream",
     "text": [
      "\n"
     ]
    },
    {
     "name": "stdout",
     "output_type": "stream",
     "text": [
      "Qwen3-4B DEV Финальный результат EX: 73.98\n",
      "Qwen3-4B процент запросов, которые успешно выполнились DEV: 98.05%\n",
      "====================================================================================================\n",
      "\n",
      "\n"
     ]
    }
   ],
   "source": [
    "run_cot_experiment(model,arr_seeds,arr_versions, type_cot,num_observations=num_observations)"
   ]
  },
  {
   "cell_type": "code",
   "execution_count": 17,
   "id": "c1e5e144-1e1f-44de-8094-e7172daff51b",
   "metadata": {},
   "outputs": [
    {
     "name": "stdout",
     "output_type": "stream",
     "text": [
      "[95, 35, 460, 643, 914, 337, 785, 756, 939, 70, 621, 218, 470, 386, 690, 342, 47, 196, 887, 246]\n",
      "model: Qwen3-4B\n"
     ]
    }
   ],
   "source": [
    "n= 20\n",
    "arr_seeds = [random.randint(0,1000) for _ in range(n)]\n",
    "arr_versions = [x for x in range(n)]\n",
    "model = \"Qwen3-4B\"\n",
    "num_observations = 5\n",
    "type_cot = 'predict'\n",
    "print(arr_seeds)\n",
    "print(f\"model: {model}\")"
   ]
  },
  {
   "cell_type": "code",
   "execution_count": 18,
   "id": "25a08606-4784-406f-965a-c029463c9e15",
   "metadata": {
    "scrolled": true
   },
   "outputs": [
    {
     "name": "stdout",
     "output_type": "stream",
     "text": [
      "Загружаем модель...\n"
     ]
    },
    {
     "name": "stderr",
     "output_type": "stream",
     "text": [
      "Loading safetensors checkpoint shards:   0% Completed | 0/3 [00:00<?, ?it/s]\n",
      "Loading safetensors checkpoint shards:  33% Completed | 1/3 [00:01<00:02,  1.32s/it]\n",
      "Loading safetensors checkpoint shards: 100% Completed | 3/3 [00:02<00:00,  1.18it/s]\n",
      "Loading safetensors checkpoint shards: 100% Completed | 3/3 [00:02<00:00,  1.12it/s]\n",
      "\u001b[1;36m(VllmWorker rank=0 pid=3604452)\u001b[0;0m \n"
     ]
    },
    {
     "name": "stdout",
     "output_type": "stream",
     "text": [
      "Модель успешно загружена\n",
      "model_config {'model': '/data/home/vkropoti/models/Qwen3-4B', 'tensor_parallel_size': 2, 'max_model_len': 40000, 'max_new_tokens': 1500, 'temperature': 0, 'top_k': 1, 'top_p': 0.8, 'gpu_memory_utilization': 0.9, 'trust_remote_code': False, 'seed': 95}\n",
      "\n",
      "prompts_config {'path_dev_json': '/data/home/vkropoti/sql_data/dev_spider.json', 'path_sql_dbs': '/data/home/vkropoti/sql_data/data_bases_spider/', 'use_reasoning': False, 'paths_to_cot': ['/data/home/vkropoti/sql_llm_answers/spider_dev_m_schema/sql_predict_Qwen3-4B-reasoning-v0', '/data/home/vkropoti/sql_llm_answers/spider_dev_m_schema/sql_predict_Qwen3-4B-reasoning-v1', '/data/home/vkropoti/sql_llm_answers/spider_dev_m_schema/sql_predict_Qwen3-4B-reasoning-v2', '/data/home/vkropoti/sql_llm_answers/spider_dev_m_schema/sql_predict_Qwen3-4B-reasoning-v3', '/data/home/vkropoti/sql_llm_answers/spider_dev_m_schema/sql_predict_Qwen3-4B-reasoning-v4']}\n",
      "\n",
      "save_config {'path_sql_save': '/data/home/vkropoti/sql_llm_answers/spider_dev_m_schema/sql_all_Qwen3-4B-cot_predict_think==False_nobs5-v0', 'path_think_save': None, 'path_sql_answers_save': '/data/home/vkropoti/sql_llm_answers/spider_dev_m_schema/sql_predict_Qwen3-4B-cot_predict_think==False_nobs5-v0', 'path_to_save_scores': '/data/home/vkropoti/sql_llm_answers/spider_dev_m_schema/sql_results_Qwen3-4B-cot_predict_think==False_nobs5-v0', 'path_to_save_executed': '/data/home/vkropoti/sql_llm_answers/spider_dev_m_schema/sql_executed_Qwen3-4B-cot_predict_think==False_nobs5-v0'}\n",
      "\n",
      "Модель успешно загружена\n",
      "Пример промпта\n",
      "<|im_start|>system\n",
      "\n",
      "You are a data science expert. Below, you are provided with a database schema and a natural language question. Your task is to understand the schema and generate a valid SQL query to answer the question.\n",
      "\n",
      "Database Engine: SQLite\n",
      "\n",
      "You will be given an additional analysis of other models, please take it into account, so the plan is\n",
      "1. Analyse given addition analysis from other models (find in which analysis the same and differ, how to use that to answer question)\n",
      "2. Combine best from previous part and think how to solve the problem (analyze tables, take care what columns avaliable in each table and so on, check the syntacsis)\n",
      "3. Create the answers. The answer should be only sql query.\n",
      "\n",
      "Carefully follow the instruction and add <|im_end|> and the end of the final answer<|im_end|>\n",
      "<|im_start|>user\n",
      "Here is addition analysis from other models which can be helpfull, please take this into account but be careful (choose the best from each analysis, combine them to make the most proper answer):\n",
      "\n",
      "model 0 analysis:\n",
      " SELECT COUNT(*) FROM singer;\n",
      "\n",
      "model 1 analysis:\n",
      " SELECT COUNT(*) FROM singer;\n",
      "\n",
      "model 2 analysis:\n",
      " SELECT COUNT(*) FROM singer;\n",
      "\n",
      "model 3 analysis:\n",
      " SELECT COUNT(*) FROM singer;\n",
      "\n",
      "model 4 analysis:\n",
      " SELECT COUNT(*) FROM singer;\n",
      "\n",
      "\n",
      "here is avaliable tables and their structure below\n",
      "【DB_ID】 concert_singer\n",
      "【Schema】\n",
      "# Table: concert\n",
      "[\n",
      "(concert_ID:INTEGER, Primary Key, Examples: [1, 2, 3]),\n",
      "(concert_Name:TEXT, Examples: [Auditions, Super bootcamp, Home Visits]),\n",
      "(Theme:TEXT, Examples: [Free choice, Free choice 2, Bleeding Love]),\n",
      "(Stadium_ID:TEXT, maps to stadium.Stadium_ID, Examples: [1, 2, 10]),\n",
      "(Year:TEXT, Examples: [2014, 2015, 2016])\n",
      "]\n",
      "# Table: singer\n",
      "[\n",
      "(Singer_ID:INTEGER, Primary Key, Examples: [1, 2, 3]),\n",
      "(Name:TEXT, Examples: [Joe Sharp, Timbaland, Justin Brown]),\n",
      "(Country:TEXT, Examples: [Netherlands, United States, France]),\n",
      "(Song_Name:TEXT, Examples: [You, Dangerous, Hey Oh]),\n",
      "(Song_release_year:TEXT, Examples: [1992, 2008, 2013]),\n",
      "(Age:INTEGER, Examples: [52, 32, 29]),\n",
      "(Is_male:BOOLEAN, Examples: [False, True])\n",
      "]\n",
      "# Table: singer_in_concert\n",
      "[\n",
      "(concert_ID:INTEGER, maps to concert.concert_ID, Primary Key, Examples: [1, 2, 3]),\n",
      "(Singer_ID:TEXT, maps to singer.Singer_ID, Primary Key, Examples: [2, 3, 5])\n",
      "]\n",
      "# Table: stadium\n",
      "[\n",
      "(Stadium_ID:INTEGER, Primary Key, Examples: [1, 2, 3]),\n",
      "(Location:TEXT, Examples: [Raith Rovers, Ayr United, East Fife]),\n",
      "(Name:TEXT, Examples: [Stark's Park, Somerset Park, Bayview Stadium]),\n",
      "(Capacity:INTEGER, Examples: [10104, 11998, 2000]),\n",
      "(Highest:INTEGER, Examples: [4812, 2363, 1980]),\n",
      "(Lowest:INTEGER, Examples: [1294, 1057, 533]),\n",
      "(Average:INTEGER, Examples: [2106, 1477, 864])\n",
      "]\n",
      "【Foreign keys】\n",
      "concert.Stadium_ID=stadium.Stadium_ID\n",
      "singer_in_concert.concert_ID=concert.concert_ID\n",
      "singer_in_concert.Singer_ID=singer.Singer_ID\n",
      "\n",
      "-- Using valid SQLite, answer the following questions for the tables provided above.\n",
      "-- How many singers do we have?\n",
      "\n",
      "\n",
      "\n",
      "Generate the SQLite for the above question after thinking step by step: \n",
      "\n",
      "\n",
      "Instructions:\n",
      "- Make sure you only output the information that is asked in the question. If the question asks for a specific column, make sure to only include that column in the SELECT clause, nothing more.\n",
      "- The generated query should return all of the information asked in the question without any missing or extra information.\n",
      "- Before generating the final SQL query, please think through the steps of how to write the query.\n",
      "- Do not misuse column names, keep them in quotes `\n",
      "- Carefully understand what colomns belond to what tables\n",
      "- Use only initial column names, change names prohibited\n",
      "        \n",
      "Output Format:\n",
      "In your answer, please enclose the generated SQL query in a code block:\n",
      "```\n",
      "-- Your SQL query\n",
      "```    \n",
      "and nothing else, no exaplains, no comments (asnwer should be less than 512 characters)\n",
      "\n",
      "Take a deep breath and think step by step to find the correct SQL query in SQLite format.\n",
      "\n",
      "Question repetition: How many singers do we have?\n",
      "\n",
      "Be care! Include only what i want it questiona and nothing else<|im_end|>\n",
      "<|im_start|>assistant\n",
      "<think>\n",
      "\n",
      "</think>\n",
      "\n",
      "\n",
      "\n",
      "\n",
      "Максимальное количество токенов в промптах: 2430\n",
      "\n",
      "начинаем скорринг\n",
      "Загружаем чаты с данными...\n",
      "Данные успешно загружены\n",
      "Начали генерацию SQL запросов\n"
     ]
    },
    {
     "name": "stderr",
     "output_type": "stream",
     "text": [
      "Processed prompts: 100%|██████████| 1076/1076 [00:16<00:00, 67.22it/s, est. speed input: 86339.09 toks/s, output: 2236.93 toks/s] "
     ]
    },
    {
     "name": "stdout",
     "output_type": "stream",
     "text": [
      "extract_think количество ошибок:  0\n",
      "extract_sql количество ошибок:  0\n",
      "Закончили генерацию SQL запросов\n",
      "Начали скорр полученных SQL запросов\n"
     ]
    },
    {
     "name": "stderr",
     "output_type": "stream",
     "text": [
      "\n"
     ]
    },
    {
     "name": "stdout",
     "output_type": "stream",
     "text": [
      "Qwen3-4B DEV Финальный результат EX: 73.61\n",
      "Qwen3-4B процент запросов, которые успешно выполнились DEV: 98.14%\n",
      "====================================================================================================\n",
      "\n",
      "\n",
      "Загружаем чаты с данными...\n",
      "Данные успешно загружены\n",
      "Начали генерацию SQL запросов\n"
     ]
    },
    {
     "name": "stderr",
     "output_type": "stream",
     "text": [
      "Processed prompts: 100%|██████████| 1076/1076 [00:15<00:00, 67.86it/s, est. speed input: 87172.92 toks/s, output: 2243.14 toks/s] "
     ]
    },
    {
     "name": "stdout",
     "output_type": "stream",
     "text": [
      "extract_think количество ошибок:  0\n",
      "extract_sql количество ошибок:  0\n",
      "Закончили генерацию SQL запросов\n",
      "Начали скорр полученных SQL запросов\n"
     ]
    },
    {
     "name": "stderr",
     "output_type": "stream",
     "text": [
      "\n"
     ]
    },
    {
     "name": "stdout",
     "output_type": "stream",
     "text": [
      "Qwen3-4B DEV Финальный результат EX: 73.79\n",
      "Qwen3-4B процент запросов, которые успешно выполнились DEV: 98.33%\n",
      "====================================================================================================\n",
      "\n",
      "\n",
      "Загружаем чаты с данными...\n",
      "Данные успешно загружены\n",
      "Начали генерацию SQL запросов\n"
     ]
    },
    {
     "name": "stderr",
     "output_type": "stream",
     "text": [
      "Processed prompts: 100%|██████████| 1076/1076 [00:15<00:00, 68.53it/s, est. speed input: 88011.88 toks/s, output: 2264.30 toks/s] "
     ]
    },
    {
     "name": "stdout",
     "output_type": "stream",
     "text": [
      "extract_think количество ошибок:  0\n",
      "extract_sql количество ошибок:  0\n",
      "Закончили генерацию SQL запросов\n",
      "Начали скорр полученных SQL запросов\n"
     ]
    },
    {
     "name": "stderr",
     "output_type": "stream",
     "text": [
      "\n"
     ]
    },
    {
     "name": "stdout",
     "output_type": "stream",
     "text": [
      "Qwen3-4B DEV Финальный результат EX: 73.88\n",
      "Qwen3-4B процент запросов, которые успешно выполнились DEV: 97.96%\n",
      "====================================================================================================\n",
      "\n",
      "\n",
      "Загружаем чаты с данными...\n",
      "Данные успешно загружены\n",
      "Начали генерацию SQL запросов\n"
     ]
    },
    {
     "name": "stderr",
     "output_type": "stream",
     "text": [
      "Processed prompts: 100%|██████████| 1076/1076 [00:16<00:00, 67.25it/s, est. speed input: 86341.05 toks/s, output: 2211.85 toks/s] "
     ]
    },
    {
     "name": "stdout",
     "output_type": "stream",
     "text": [
      "extract_think количество ошибок:  0\n",
      "extract_sql количество ошибок:  0\n",
      "Закончили генерацию SQL запросов\n",
      "Начали скорр полученных SQL запросов\n"
     ]
    },
    {
     "name": "stderr",
     "output_type": "stream",
     "text": [
      "\n"
     ]
    },
    {
     "name": "stdout",
     "output_type": "stream",
     "text": [
      "Qwen3-4B DEV Финальный результат EX: 73.70\n",
      "Qwen3-4B процент запросов, которые успешно выполнились DEV: 98.79%\n",
      "====================================================================================================\n",
      "\n",
      "\n",
      "Загружаем чаты с данными...\n",
      "Данные успешно загружены\n",
      "Начали генерацию SQL запросов\n"
     ]
    },
    {
     "name": "stderr",
     "output_type": "stream",
     "text": [
      "Processed prompts: 100%|██████████| 1076/1076 [00:15<00:00, 68.50it/s, est. speed input: 87941.61 toks/s, output: 2247.58 toks/s] "
     ]
    },
    {
     "name": "stdout",
     "output_type": "stream",
     "text": [
      "extract_think количество ошибок:  0\n",
      "extract_sql количество ошибок:  0\n",
      "Закончили генерацию SQL запросов\n",
      "Начали скорр полученных SQL запросов\n"
     ]
    },
    {
     "name": "stderr",
     "output_type": "stream",
     "text": [
      "\n"
     ]
    },
    {
     "name": "stdout",
     "output_type": "stream",
     "text": [
      "Qwen3-4B DEV Финальный результат EX: 73.79\n",
      "Qwen3-4B процент запросов, которые успешно выполнились DEV: 98.51%\n",
      "====================================================================================================\n",
      "\n",
      "\n",
      "Загружаем чаты с данными...\n",
      "Данные успешно загружены\n",
      "Начали генерацию SQL запросов\n"
     ]
    },
    {
     "name": "stderr",
     "output_type": "stream",
     "text": [
      "Processed prompts: 100%|██████████| 1076/1076 [00:16<00:00, 67.00it/s, est. speed input: 86030.38 toks/s, output: 2226.19 toks/s] "
     ]
    },
    {
     "name": "stdout",
     "output_type": "stream",
     "text": [
      "extract_think количество ошибок:  0\n",
      "extract_sql количество ошибок:  0\n",
      "Закончили генерацию SQL запросов\n",
      "Начали скорр полученных SQL запросов\n"
     ]
    },
    {
     "name": "stderr",
     "output_type": "stream",
     "text": [
      "\n"
     ]
    },
    {
     "name": "stdout",
     "output_type": "stream",
     "text": [
      "Qwen3-4B DEV Финальный результат EX: 73.51\n",
      "Qwen3-4B процент запросов, которые успешно выполнились DEV: 98.42%\n",
      "====================================================================================================\n",
      "\n",
      "\n",
      "Загружаем чаты с данными...\n",
      "Данные успешно загружены\n",
      "Начали генерацию SQL запросов\n"
     ]
    },
    {
     "name": "stderr",
     "output_type": "stream",
     "text": [
      "Processed prompts: 100%|██████████| 1076/1076 [00:16<00:00, 64.34it/s, est. speed input: 82613.67 toks/s, output: 2127.55 toks/s] "
     ]
    },
    {
     "name": "stdout",
     "output_type": "stream",
     "text": [
      "extract_think количество ошибок:  0\n",
      "extract_sql количество ошибок:  0\n",
      "Закончили генерацию SQL запросов\n",
      "Начали скорр полученных SQL запросов\n"
     ]
    },
    {
     "name": "stderr",
     "output_type": "stream",
     "text": [
      "\n"
     ]
    },
    {
     "name": "stdout",
     "output_type": "stream",
     "text": [
      "Qwen3-4B DEV Финальный результат EX: 73.70\n",
      "Qwen3-4B процент запросов, которые успешно выполнились DEV: 98.61%\n",
      "====================================================================================================\n",
      "\n",
      "\n",
      "Загружаем чаты с данными...\n",
      "Данные успешно загружены\n",
      "Начали генерацию SQL запросов\n"
     ]
    },
    {
     "name": "stderr",
     "output_type": "stream",
     "text": [
      "Processed prompts: 100%|██████████| 1076/1076 [00:16<00:00, 66.07it/s, est. speed input: 84844.99 toks/s, output: 2186.76 toks/s] "
     ]
    },
    {
     "name": "stdout",
     "output_type": "stream",
     "text": [
      "extract_think количество ошибок:  0\n",
      "extract_sql количество ошибок:  0\n",
      "Закончили генерацию SQL запросов\n",
      "Начали скорр полученных SQL запросов\n"
     ]
    },
    {
     "name": "stderr",
     "output_type": "stream",
     "text": [
      "\n"
     ]
    },
    {
     "name": "stdout",
     "output_type": "stream",
     "text": [
      "Qwen3-4B DEV Финальный результат EX: 74.26\n",
      "Qwen3-4B процент запросов, которые успешно выполнились DEV: 98.61%\n",
      "====================================================================================================\n",
      "\n",
      "\n",
      "Загружаем чаты с данными...\n",
      "Данные успешно загружены\n",
      "Начали генерацию SQL запросов\n"
     ]
    },
    {
     "name": "stderr",
     "output_type": "stream",
     "text": [
      "Processed prompts: 100%|██████████| 1076/1076 [00:16<00:00, 66.06it/s, est. speed input: 84846.21 toks/s, output: 2192.36 toks/s] "
     ]
    },
    {
     "name": "stdout",
     "output_type": "stream",
     "text": [
      "extract_think количество ошибок:  0\n",
      "extract_sql количество ошибок:  0\n",
      "Закончили генерацию SQL запросов\n",
      "Начали скорр полученных SQL запросов\n"
     ]
    },
    {
     "name": "stderr",
     "output_type": "stream",
     "text": [
      "\n"
     ]
    },
    {
     "name": "stdout",
     "output_type": "stream",
     "text": [
      "Qwen3-4B DEV Финальный результат EX: 74.63\n",
      "Qwen3-4B процент запросов, которые успешно выполнились DEV: 98.51%\n",
      "====================================================================================================\n",
      "\n",
      "\n",
      "Загружаем чаты с данными...\n",
      "Данные успешно загружены\n",
      "Начали генерацию SQL запросов\n"
     ]
    },
    {
     "name": "stderr",
     "output_type": "stream",
     "text": [
      "Processed prompts: 100%|██████████| 1076/1076 [00:15<00:00, 68.19it/s, est. speed input: 87591.28 toks/s, output: 2260.23 toks/s] "
     ]
    },
    {
     "name": "stdout",
     "output_type": "stream",
     "text": [
      "extract_think количество ошибок:  0\n",
      "extract_sql количество ошибок:  0\n",
      "Закончили генерацию SQL запросов\n",
      "Начали скорр полученных SQL запросов\n"
     ]
    },
    {
     "name": "stderr",
     "output_type": "stream",
     "text": [
      "\n"
     ]
    },
    {
     "name": "stdout",
     "output_type": "stream",
     "text": [
      "Qwen3-4B DEV Финальный результат EX: 74.81\n",
      "Qwen3-4B процент запросов, которые успешно выполнились DEV: 98.79%\n",
      "====================================================================================================\n",
      "\n",
      "\n",
      "Загружаем чаты с данными...\n",
      "Данные успешно загружены\n",
      "Начали генерацию SQL запросов\n"
     ]
    },
    {
     "name": "stderr",
     "output_type": "stream",
     "text": [
      "Processed prompts: 100%|██████████| 1076/1076 [00:16<00:00, 66.25it/s, est. speed input: 85047.50 toks/s, output: 2194.51 toks/s] "
     ]
    },
    {
     "name": "stdout",
     "output_type": "stream",
     "text": [
      "extract_think количество ошибок:  0\n",
      "extract_sql количество ошибок:  0\n",
      "Закончили генерацию SQL запросов\n",
      "Начали скорр полученных SQL запросов\n"
     ]
    },
    {
     "name": "stderr",
     "output_type": "stream",
     "text": [
      "\n"
     ]
    },
    {
     "name": "stdout",
     "output_type": "stream",
     "text": [
      "Qwen3-4B DEV Финальный результат EX: 74.44\n",
      "Qwen3-4B процент запросов, которые успешно выполнились DEV: 98.42%\n",
      "====================================================================================================\n",
      "\n",
      "\n",
      "Загружаем чаты с данными...\n",
      "Данные успешно загружены\n",
      "Начали генерацию SQL запросов\n"
     ]
    },
    {
     "name": "stderr",
     "output_type": "stream",
     "text": [
      "Processed prompts: 100%|██████████| 1076/1076 [00:15<00:00, 67.83it/s, est. speed input: 87073.90 toks/s, output: 2253.19 toks/s] "
     ]
    },
    {
     "name": "stdout",
     "output_type": "stream",
     "text": [
      "extract_think количество ошибок:  0\n",
      "extract_sql количество ошибок:  0\n",
      "Закончили генерацию SQL запросов\n",
      "Начали скорр полученных SQL запросов\n"
     ]
    },
    {
     "name": "stderr",
     "output_type": "stream",
     "text": [
      "\n"
     ]
    },
    {
     "name": "stdout",
     "output_type": "stream",
     "text": [
      "Qwen3-4B DEV Финальный результат EX: 74.44\n",
      "Qwen3-4B процент запросов, которые успешно выполнились DEV: 98.23%\n",
      "====================================================================================================\n",
      "\n",
      "\n",
      "Загружаем чаты с данными...\n",
      "Данные успешно загружены\n",
      "Начали генерацию SQL запросов\n"
     ]
    },
    {
     "name": "stderr",
     "output_type": "stream",
     "text": [
      "Processed prompts: 100%|██████████| 1076/1076 [00:16<00:00, 65.10it/s, est. speed input: 83551.24 toks/s, output: 2166.77 toks/s] "
     ]
    },
    {
     "name": "stdout",
     "output_type": "stream",
     "text": [
      "extract_think количество ошибок:  0\n",
      "extract_sql количество ошибок:  0\n",
      "Закончили генерацию SQL запросов\n",
      "Начали скорр полученных SQL запросов\n"
     ]
    },
    {
     "name": "stderr",
     "output_type": "stream",
     "text": [
      "\n"
     ]
    },
    {
     "name": "stdout",
     "output_type": "stream",
     "text": [
      "Qwen3-4B DEV Финальный результат EX: 73.61\n",
      "Qwen3-4B процент запросов, которые успешно выполнились DEV: 98.42%\n",
      "====================================================================================================\n",
      "\n",
      "\n",
      "Загружаем чаты с данными...\n",
      "Данные успешно загружены\n",
      "Начали генерацию SQL запросов\n"
     ]
    },
    {
     "name": "stderr",
     "output_type": "stream",
     "text": [
      "Processed prompts: 100%|██████████| 1076/1076 [00:16<00:00, 66.21it/s, est. speed input: 84998.71 toks/s, output: 2194.51 toks/s] "
     ]
    },
    {
     "name": "stdout",
     "output_type": "stream",
     "text": [
      "extract_think количество ошибок:  0\n",
      "extract_sql количество ошибок:  0\n",
      "Закончили генерацию SQL запросов\n",
      "Начали скорр полученных SQL запросов\n"
     ]
    },
    {
     "name": "stderr",
     "output_type": "stream",
     "text": [
      "\n"
     ]
    },
    {
     "name": "stdout",
     "output_type": "stream",
     "text": [
      "Qwen3-4B DEV Финальный результат EX: 74.16\n",
      "Qwen3-4B процент запросов, которые успешно выполнились DEV: 98.23%\n",
      "====================================================================================================\n",
      "\n",
      "\n",
      "Загружаем чаты с данными...\n",
      "Данные успешно загружены\n",
      "Начали генерацию SQL запросов\n"
     ]
    },
    {
     "name": "stderr",
     "output_type": "stream",
     "text": [
      "Processed prompts: 100%|██████████| 1076/1076 [00:16<00:00, 67.23it/s, est. speed input: 86310.64 toks/s, output: 2209.08 toks/s] "
     ]
    },
    {
     "name": "stdout",
     "output_type": "stream",
     "text": [
      "extract_think количество ошибок:  0\n",
      "extract_sql количество ошибок:  0\n",
      "Закончили генерацию SQL запросов\n",
      "Начали скорр полученных SQL запросов\n"
     ]
    },
    {
     "name": "stderr",
     "output_type": "stream",
     "text": [
      "\n"
     ]
    },
    {
     "name": "stdout",
     "output_type": "stream",
     "text": [
      "Qwen3-4B DEV Финальный результат EX: 74.44\n",
      "Qwen3-4B процент запросов, которые успешно выполнились DEV: 98.70%\n",
      "====================================================================================================\n",
      "\n",
      "\n",
      "Загружаем чаты с данными...\n",
      "Данные успешно загружены\n",
      "Начали генерацию SQL запросов\n"
     ]
    },
    {
     "name": "stderr",
     "output_type": "stream",
     "text": [
      "Processed prompts: 100%|██████████| 1076/1076 [00:16<00:00, 66.91it/s, est. speed input: 85915.32 toks/s, output: 2223.59 toks/s] "
     ]
    },
    {
     "name": "stdout",
     "output_type": "stream",
     "text": [
      "extract_think количество ошибок:  0\n",
      "extract_sql количество ошибок:  0\n",
      "Закончили генерацию SQL запросов\n",
      "Начали скорр полученных SQL запросов\n"
     ]
    },
    {
     "name": "stderr",
     "output_type": "stream",
     "text": [
      "\n"
     ]
    },
    {
     "name": "stdout",
     "output_type": "stream",
     "text": [
      "Qwen3-4B DEV Финальный результат EX: 74.07\n",
      "Qwen3-4B процент запросов, которые успешно выполнились DEV: 98.88%\n",
      "====================================================================================================\n",
      "\n",
      "\n",
      "Загружаем чаты с данными...\n",
      "Данные успешно загружены\n",
      "Начали генерацию SQL запросов\n"
     ]
    },
    {
     "name": "stderr",
     "output_type": "stream",
     "text": [
      "Processed prompts: 100%|██████████| 1076/1076 [00:15<00:00, 67.75it/s, est. speed input: 86988.83 toks/s, output: 2239.51 toks/s] "
     ]
    },
    {
     "name": "stdout",
     "output_type": "stream",
     "text": [
      "extract_think количество ошибок:  0\n",
      "extract_sql количество ошибок:  0\n",
      "Закончили генерацию SQL запросов\n",
      "Начали скорр полученных SQL запросов\n"
     ]
    },
    {
     "name": "stderr",
     "output_type": "stream",
     "text": [
      "\n"
     ]
    },
    {
     "name": "stdout",
     "output_type": "stream",
     "text": [
      "Qwen3-4B DEV Финальный результат EX: 74.54\n",
      "Qwen3-4B процент запросов, которые успешно выполнились DEV: 98.79%\n",
      "====================================================================================================\n",
      "\n",
      "\n",
      "Загружаем чаты с данными...\n",
      "Данные успешно загружены\n",
      "Начали генерацию SQL запросов\n"
     ]
    },
    {
     "name": "stderr",
     "output_type": "stream",
     "text": [
      "Processed prompts: 100%|██████████| 1076/1076 [00:16<00:00, 66.34it/s, est. speed input: 85205.66 toks/s, output: 2193.86 toks/s] "
     ]
    },
    {
     "name": "stdout",
     "output_type": "stream",
     "text": [
      "extract_think количество ошибок:  0\n",
      "extract_sql количество ошибок:  0\n",
      "Закончили генерацию SQL запросов\n",
      "Начали скорр полученных SQL запросов\n"
     ]
    },
    {
     "name": "stderr",
     "output_type": "stream",
     "text": [
      "\n"
     ]
    },
    {
     "name": "stdout",
     "output_type": "stream",
     "text": [
      "Qwen3-4B DEV Финальный результат EX: 74.91\n",
      "Qwen3-4B процент запросов, которые успешно выполнились DEV: 98.79%\n",
      "====================================================================================================\n",
      "\n",
      "\n",
      "Загружаем чаты с данными...\n",
      "Данные успешно загружены\n",
      "Начали генерацию SQL запросов\n"
     ]
    },
    {
     "name": "stderr",
     "output_type": "stream",
     "text": [
      "Processed prompts: 100%|██████████| 1076/1076 [00:15<00:00, 67.47it/s, est. speed input: 86644.87 toks/s, output: 2238.47 toks/s] "
     ]
    },
    {
     "name": "stdout",
     "output_type": "stream",
     "text": [
      "extract_think количество ошибок:  0\n",
      "extract_sql количество ошибок:  0\n",
      "Закончили генерацию SQL запросов\n",
      "Начали скорр полученных SQL запросов\n"
     ]
    },
    {
     "name": "stderr",
     "output_type": "stream",
     "text": [
      "\n"
     ]
    },
    {
     "name": "stdout",
     "output_type": "stream",
     "text": [
      "Qwen3-4B DEV Финальный результат EX: 74.44\n",
      "Qwen3-4B процент запросов, которые успешно выполнились DEV: 98.51%\n",
      "====================================================================================================\n",
      "\n",
      "\n",
      "Загружаем чаты с данными...\n",
      "Данные успешно загружены\n",
      "Начали генерацию SQL запросов\n"
     ]
    },
    {
     "name": "stderr",
     "output_type": "stream",
     "text": [
      "Processed prompts: 100%|██████████| 1076/1076 [00:16<00:00, 65.37it/s, est. speed input: 83943.01 toks/s, output: 2162.01 toks/s] "
     ]
    },
    {
     "name": "stdout",
     "output_type": "stream",
     "text": [
      "extract_think количество ошибок:  0\n",
      "extract_sql количество ошибок:  0\n",
      "Закончили генерацию SQL запросов\n",
      "Начали скорр полученных SQL запросов\n"
     ]
    },
    {
     "name": "stderr",
     "output_type": "stream",
     "text": [
      "\n"
     ]
    },
    {
     "name": "stdout",
     "output_type": "stream",
     "text": [
      "Qwen3-4B DEV Финальный результат EX: 74.26\n",
      "Qwen3-4B процент запросов, которые успешно выполнились DEV: 98.42%\n",
      "====================================================================================================\n",
      "\n",
      "\n"
     ]
    }
   ],
   "source": [
    "run_cot_experiment(model,arr_seeds,arr_versions, type_cot,num_observations=num_observations)"
   ]
  },
  {
   "cell_type": "markdown",
   "id": "c4dd2157-7279-458f-8a86-22686112bf5f",
   "metadata": {},
   "source": [
    "# part3: think"
   ]
  },
  {
   "cell_type": "code",
   "execution_count": 19,
   "id": "02febb85-1132-4b71-9ed8-e30241d01dc3",
   "metadata": {},
   "outputs": [
    {
     "name": "stdout",
     "output_type": "stream",
     "text": [
      "[793, 756, 113, 318, 934, 230, 570, 175, 858, 837, 442, 180, 252, 399, 979, 251, 137, 327, 503, 1]\n",
      "model: Qwen3-4B\n"
     ]
    }
   ],
   "source": [
    "n= 20\n",
    "arr_seeds = [random.randint(0,1000) for _ in range(n)]\n",
    "arr_versions = [x for x in range(n)]\n",
    "model = \"Qwen3-4B\"\n",
    "num_observations = 2\n",
    "type_cot = 'think'\n",
    "print(arr_seeds)\n",
    "print(f\"model: {model}\")"
   ]
  },
  {
   "cell_type": "code",
   "execution_count": 20,
   "id": "e9e60717-ffae-4f1f-8831-a4902529303e",
   "metadata": {
    "scrolled": true
   },
   "outputs": [
    {
     "name": "stdout",
     "output_type": "stream",
     "text": [
      "Загружаем модель...\n"
     ]
    },
    {
     "name": "stderr",
     "output_type": "stream",
     "text": [
      "Loading safetensors checkpoint shards:   0% Completed | 0/3 [00:00<?, ?it/s]\n",
      "Loading safetensors checkpoint shards:  33% Completed | 1/3 [00:01<00:02,  1.24s/it]\n",
      "Loading safetensors checkpoint shards: 100% Completed | 3/3 [00:02<00:00,  1.20it/s]\n",
      "Loading safetensors checkpoint shards: 100% Completed | 3/3 [00:02<00:00,  1.14it/s]\n",
      "\u001b[1;36m(VllmWorker rank=0 pid=3640935)\u001b[0;0m \n"
     ]
    },
    {
     "name": "stdout",
     "output_type": "stream",
     "text": [
      "Модель успешно загружена\n",
      "model_config {'model': '/data/home/vkropoti/models/Qwen3-4B', 'tensor_parallel_size': 2, 'max_model_len': 40000, 'max_new_tokens': 1500, 'temperature': 0, 'top_k': 1, 'top_p': 0.8, 'gpu_memory_utilization': 0.9, 'trust_remote_code': False, 'seed': 793}\n",
      "\n",
      "prompts_config {'path_dev_json': '/data/home/vkropoti/sql_data/dev_spider.json', 'path_sql_dbs': '/data/home/vkropoti/sql_data/data_bases_spider/', 'use_reasoning': False, 'paths_to_cot': ['/data/home/vkropoti/sql_llm_answers/spider_dev_m_schema/sql_think_Qwen3-4B-reasoning-v0', '/data/home/vkropoti/sql_llm_answers/spider_dev_m_schema/sql_think_Qwen3-4B-reasoning-v1']}\n",
      "\n",
      "save_config {'path_sql_save': '/data/home/vkropoti/sql_llm_answers/spider_dev_m_schema/sql_all_Qwen3-4B-cot_think_think==False_nobs2-v0', 'path_think_save': None, 'path_sql_answers_save': '/data/home/vkropoti/sql_llm_answers/spider_dev_m_schema/sql_predict_Qwen3-4B-cot_think_think==False_nobs2-v0', 'path_to_save_scores': '/data/home/vkropoti/sql_llm_answers/spider_dev_m_schema/sql_results_Qwen3-4B-cot_think_think==False_nobs2-v0', 'path_to_save_executed': '/data/home/vkropoti/sql_llm_answers/spider_dev_m_schema/sql_executed_Qwen3-4B-cot_think_think==False_nobs2-v0'}\n",
      "\n",
      "Модель успешно загружена\n",
      "Пример промпта\n",
      "<|im_start|>system\n",
      "\n",
      "You are a data science expert. Below, you are provided with a database schema and a natural language question. Your task is to understand the schema and generate a valid SQL query to answer the question.\n",
      "\n",
      "Database Engine: SQLite\n",
      "\n",
      "You will be given an additional analysis of other models, please take it into account, so the plan is\n",
      "1. Analyse given addition analysis from other models (find in which analysis the same and differ, how to use that to answer question)\n",
      "2. Combine best from previous part and think how to solve the problem (analyze tables, take care what columns avaliable in each table and so on, check the syntacsis)\n",
      "3. Create the answers. The answer should be only sql query.\n",
      "\n",
      "Carefully follow the instruction and add <|im_end|> and the end of the final answer<|im_end|>\n",
      "<|im_start|>user\n",
      "Here is addition analysis from other models which can be helpfull, please take this into account but be careful (choose the best from each analysis, combine them to make the most proper answer):\n",
      "\n",
      "model 0 analysis:\n",
      " Okay, let's see. The user is asking \"How many singers do we have?\" So I need to find the number of singers in the database.\n",
      "\n",
      "Looking at the tables provided, there's a 'singer' table. The 'singer' table has a primary key 'Singer_ID', which uniquely identifies each singer. So the number of singers should be the count of distinct Singer_IDs in the singer table.\n",
      "\n",
      "Wait, but maybe there's a possibility of duplicates? But since Singer_ID is the primary key, each entry is unique. So just counting the number of rows in the singer table would give the correct number. Alternatively, using COUNT(*) or COUNT(Singer_ID) would work.\n",
      "\n",
      "But the question is about the number of singers, so the answer is the count of all entries in the singer table. So the SQL query should be SELECT COUNT(*) FROM singer;.\n",
      "\n",
      "Let me check if there are any other tables that might have singer information. The 'singer_in_concert' table links singers to concerts, but that's a many-to-many relationship. The 'singer' table itself contains all the singers. So the correct approach is to count the rows in the singer table.\n",
      "\n",
      "Yes, so the correct SQL is to select the count of all rows from the singer table. That should give the total number of singers.\n",
      "\n",
      "model 1 analysis:\n",
      " Okay, let's see. The user is asking \"How many singers do we have?\" So I need to find the number of singers in the database.\n",
      "\n",
      "Looking at the tables, there's a 'singer' table. The 'singer' table has a primary key 'Singer_ID', which is an integer. Each row in this table represents a singer. So the number of singers should be the count of distinct Singer_IDs in the singer table.\n",
      "\n",
      "Wait, but maybe there's a possibility of duplicates? But since Singer_ID is the primary key, each entry is unique. So just counting the number of rows in the singer table would give the correct count.\n",
      "\n",
      "Alternatively, using COUNT(*) would also work. But since the question is about the number of singers, which is the count of distinct entries, either COUNT(*) or COUNT(Singer_ID) would work. But since Singer_ID is the primary key, it's guaranteed to be unique, so COUNT(*) is sufficient.\n",
      "\n",
      "So the SQL query would be SELECT COUNT(*) FROM singer;\n",
      "\n",
      "I need to make sure that the table name is correct. The table is called 'singer' as per the schema provided. The columns are correctly named. No need to join with other tables because the question is straightforward—just the count of singers in the singer table.\n",
      "\n",
      "Yes, that's it. The answer should be a simple SELECT COUNT(*) FROM singer;\n",
      "\n",
      "\n",
      "here is avaliable tables and their structure below\n",
      "【DB_ID】 concert_singer\n",
      "【Schema】\n",
      "# Table: concert\n",
      "[\n",
      "(concert_ID:INTEGER, Primary Key, Examples: [1, 2, 3]),\n",
      "(concert_Name:TEXT, Examples: [Auditions, Super bootcamp, Home Visits]),\n",
      "(Theme:TEXT, Examples: [Free choice, Free choice 2, Bleeding Love]),\n",
      "(Stadium_ID:TEXT, maps to stadium.Stadium_ID, Examples: [1, 2, 10]),\n",
      "(Year:TEXT, Examples: [2014, 2015, 2016])\n",
      "]\n",
      "# Table: singer\n",
      "[\n",
      "(Singer_ID:INTEGER, Primary Key, Examples: [1, 2, 3]),\n",
      "(Name:TEXT, Examples: [Joe Sharp, Timbaland, Justin Brown]),\n",
      "(Country:TEXT, Examples: [Netherlands, United States, France]),\n",
      "(Song_Name:TEXT, Examples: [You, Dangerous, Hey Oh]),\n",
      "(Song_release_year:TEXT, Examples: [1992, 2008, 2013]),\n",
      "(Age:INTEGER, Examples: [52, 32, 29]),\n",
      "(Is_male:BOOLEAN, Examples: [False, True])\n",
      "]\n",
      "# Table: singer_in_concert\n",
      "[\n",
      "(concert_ID:INTEGER, maps to concert.concert_ID, Primary Key, Examples: [1, 2, 3]),\n",
      "(Singer_ID:TEXT, maps to singer.Singer_ID, Primary Key, Examples: [2, 3, 5])\n",
      "]\n",
      "# Table: stadium\n",
      "[\n",
      "(Stadium_ID:INTEGER, Primary Key, Examples: [1, 2, 3]),\n",
      "(Location:TEXT, Examples: [Raith Rovers, Ayr United, East Fife]),\n",
      "(Name:TEXT, Examples: [Stark's Park, Somerset Park, Bayview Stadium]),\n",
      "(Capacity:INTEGER, Examples: [10104, 11998, 2000]),\n",
      "(Highest:INTEGER, Examples: [4812, 2363, 1980]),\n",
      "(Lowest:INTEGER, Examples: [1294, 1057, 533]),\n",
      "(Average:INTEGER, Examples: [2106, 1477, 864])\n",
      "]\n",
      "【Foreign keys】\n",
      "concert.Stadium_ID=stadium.Stadium_ID\n",
      "singer_in_concert.concert_ID=concert.concert_ID\n",
      "singer_in_concert.Singer_ID=singer.Singer_ID\n",
      "\n",
      "-- Using valid SQLite, answer the following questions for the tables provided above.\n",
      "-- How many singers do we have?\n",
      "\n",
      "\n",
      "\n",
      "Generate the SQLite for the above question after thinking step by step: \n",
      "\n",
      "\n",
      "Instructions:\n",
      "- Make sure you only output the information that is asked in the question. If the question asks for a specific column, make sure to only include that column in the SELECT clause, nothing more.\n",
      "- The generated query should return all of the information asked in the question without any missing or extra information.\n",
      "- Before generating the final SQL query, please think through the steps of how to write the query.\n",
      "- Do not misuse column names, keep them in quotes `\n",
      "- Carefully understand what colomns belond to what tables\n",
      "- Use only initial column names, change names prohibited\n",
      "        \n",
      "Output Format:\n",
      "In your answer, please enclose the generated SQL query in a code block:\n",
      "```\n",
      "-- Your SQL query\n",
      "```    \n",
      "and nothing else, no exaplains, no comments (asnwer should be less than 512 characters)\n",
      "\n",
      "Take a deep breath and think step by step to find the correct SQL query in SQLite format.\n",
      "\n",
      "Question repetition: How many singers do we have?\n",
      "\n",
      "Be care! Include only what i want it questiona and nothing else<|im_end|>\n",
      "<|im_start|>assistant\n",
      "<think>\n",
      "\n",
      "</think>\n",
      "\n",
      "\n",
      "\n",
      "\n",
      "Максимальное количество токенов в промптах: 10941\n",
      "\n",
      "начинаем скорринг\n",
      "Загружаем чаты с данными...\n",
      "Данные успешно загружены\n",
      "Начали генерацию SQL запросов\n"
     ]
    },
    {
     "name": "stderr",
     "output_type": "stream",
     "text": [
      "Processed prompts: 100%|██████████| 1076/1076 [00:33<00:00, 32.25it/s, est. speed input: 75526.36 toks/s, output: 1068.37 toks/s] "
     ]
    },
    {
     "name": "stdout",
     "output_type": "stream",
     "text": [
      "extract_think количество ошибок:  0\n",
      "extract_sql количество ошибок:  0\n",
      "Закончили генерацию SQL запросов\n",
      "Начали скорр полученных SQL запросов\n"
     ]
    },
    {
     "name": "stderr",
     "output_type": "stream",
     "text": [
      "\n"
     ]
    },
    {
     "name": "stdout",
     "output_type": "stream",
     "text": [
      "Qwen3-4B DEV Финальный результат EX: 73.42\n",
      "Qwen3-4B процент запросов, которые успешно выполнились DEV: 98.23%\n",
      "====================================================================================================\n",
      "\n",
      "\n",
      "Загружаем чаты с данными...\n",
      "Данные успешно загружены\n",
      "Начали генерацию SQL запросов\n"
     ]
    },
    {
     "name": "stderr",
     "output_type": "stream",
     "text": [
      "Processed prompts: 100%|██████████| 1076/1076 [00:34<00:00, 31.64it/s, est. speed input: 75210.78 toks/s, output: 1047.72 toks/s] "
     ]
    },
    {
     "name": "stdout",
     "output_type": "stream",
     "text": [
      "extract_think количество ошибок:  0\n",
      "extract_sql количество ошибок:  0\n",
      "Закончили генерацию SQL запросов\n",
      "Начали скорр полученных SQL запросов\n"
     ]
    },
    {
     "name": "stderr",
     "output_type": "stream",
     "text": [
      "\n"
     ]
    },
    {
     "name": "stdout",
     "output_type": "stream",
     "text": [
      "Qwen3-4B DEV Финальный результат EX: 73.98\n",
      "Qwen3-4B процент запросов, которые успешно выполнились DEV: 98.05%\n",
      "====================================================================================================\n",
      "\n",
      "\n",
      "Загружаем чаты с данными...\n",
      "Данные успешно загружены\n",
      "Начали генерацию SQL запросов\n"
     ]
    },
    {
     "name": "stderr",
     "output_type": "stream",
     "text": [
      "Processed prompts: 100%|██████████| 1076/1076 [00:33<00:00, 31.78it/s, est. speed input: 75111.78 toks/s, output: 1035.52 toks/s] "
     ]
    },
    {
     "name": "stdout",
     "output_type": "stream",
     "text": [
      "extract_think количество ошибок:  0\n",
      "extract_sql количество ошибок:  0\n",
      "Закончили генерацию SQL запросов\n",
      "Начали скорр полученных SQL запросов\n"
     ]
    },
    {
     "name": "stderr",
     "output_type": "stream",
     "text": [
      "\n"
     ]
    },
    {
     "name": "stdout",
     "output_type": "stream",
     "text": [
      "Qwen3-4B DEV Финальный результат EX: 73.33\n",
      "Qwen3-4B процент запросов, которые успешно выполнились DEV: 98.70%\n",
      "====================================================================================================\n",
      "\n",
      "\n",
      "Загружаем чаты с данными...\n",
      "Данные успешно загружены\n",
      "Начали генерацию SQL запросов\n"
     ]
    },
    {
     "name": "stderr",
     "output_type": "stream",
     "text": [
      "Processed prompts: 100%|██████████| 1076/1076 [00:33<00:00, 32.06it/s, est. speed input: 75235.20 toks/s, output: 1063.73 toks/s] "
     ]
    },
    {
     "name": "stdout",
     "output_type": "stream",
     "text": [
      "extract_think количество ошибок:  0\n",
      "extract_sql количество ошибок:  0\n",
      "Закончили генерацию SQL запросов\n",
      "Начали скорр полученных SQL запросов\n"
     ]
    },
    {
     "name": "stderr",
     "output_type": "stream",
     "text": [
      "\n"
     ]
    },
    {
     "name": "stdout",
     "output_type": "stream",
     "text": [
      "Qwen3-4B DEV Финальный результат EX: 73.70\n",
      "Qwen3-4B процент запросов, которые успешно выполнились DEV: 98.79%\n",
      "====================================================================================================\n",
      "\n",
      "\n",
      "Загружаем чаты с данными...\n",
      "Данные успешно загружены\n",
      "Начали генерацию SQL запросов\n"
     ]
    },
    {
     "name": "stderr",
     "output_type": "stream",
     "text": [
      "Processed prompts: 100%|██████████| 1076/1076 [00:33<00:00, 31.99it/s, est. speed input: 75447.17 toks/s, output: 1051.41 toks/s] "
     ]
    },
    {
     "name": "stdout",
     "output_type": "stream",
     "text": [
      "extract_think количество ошибок:  0\n",
      "extract_sql количество ошибок:  0\n",
      "Закончили генерацию SQL запросов\n",
      "Начали скорр полученных SQL запросов\n"
     ]
    },
    {
     "name": "stderr",
     "output_type": "stream",
     "text": [
      "\n"
     ]
    },
    {
     "name": "stdout",
     "output_type": "stream",
     "text": [
      "Qwen3-4B DEV Финальный результат EX: 73.98\n",
      "Qwen3-4B процент запросов, которые успешно выполнились DEV: 98.61%\n",
      "====================================================================================================\n",
      "\n",
      "\n",
      "Загружаем чаты с данными...\n",
      "Данные успешно загружены\n",
      "Начали генерацию SQL запросов\n"
     ]
    },
    {
     "name": "stderr",
     "output_type": "stream",
     "text": [
      "Processed prompts: 100%|██████████| 1076/1076 [00:33<00:00, 32.55it/s, est. speed input: 76823.09 toks/s, output: 1066.23 toks/s] "
     ]
    },
    {
     "name": "stdout",
     "output_type": "stream",
     "text": [
      "extract_think количество ошибок:  0\n",
      "extract_sql количество ошибок:  0\n",
      "Закончили генерацию SQL запросов\n",
      "Начали скорр полученных SQL запросов\n"
     ]
    },
    {
     "name": "stderr",
     "output_type": "stream",
     "text": [
      "\n"
     ]
    },
    {
     "name": "stdout",
     "output_type": "stream",
     "text": [
      "Qwen3-4B DEV Финальный результат EX: 73.61\n",
      "Qwen3-4B процент запросов, которые успешно выполнились DEV: 98.79%\n",
      "====================================================================================================\n",
      "\n",
      "\n",
      "Загружаем чаты с данными...\n",
      "Данные успешно загружены\n",
      "Начали генерацию SQL запросов\n"
     ]
    },
    {
     "name": "stderr",
     "output_type": "stream",
     "text": [
      "Processed prompts: 100%|██████████| 1076/1076 [00:33<00:00, 31.89it/s, est. speed input: 75030.18 toks/s, output: 1051.22 toks/s] "
     ]
    },
    {
     "name": "stdout",
     "output_type": "stream",
     "text": [
      "extract_think количество ошибок:  0\n",
      "extract_sql количество ошибок:  0\n",
      "Закончили генерацию SQL запросов\n",
      "Начали скорр полученных SQL запросов\n"
     ]
    },
    {
     "name": "stderr",
     "output_type": "stream",
     "text": [
      "\n"
     ]
    },
    {
     "name": "stdout",
     "output_type": "stream",
     "text": [
      "Qwen3-4B DEV Финальный результат EX: 74.63\n",
      "Qwen3-4B процент запросов, которые успешно выполнились DEV: 98.79%\n",
      "====================================================================================================\n",
      "\n",
      "\n",
      "Загружаем чаты с данными...\n",
      "Данные успешно загружены\n",
      "Начали генерацию SQL запросов\n"
     ]
    },
    {
     "name": "stderr",
     "output_type": "stream",
     "text": [
      "Processed prompts: 100%|██████████| 1076/1076 [00:33<00:00, 32.15it/s, est. speed input: 75766.75 toks/s, output: 1046.67 toks/s] "
     ]
    },
    {
     "name": "stdout",
     "output_type": "stream",
     "text": [
      "extract_think количество ошибок:  0\n",
      "extract_sql количество ошибок:  0\n",
      "Закончили генерацию SQL запросов\n",
      "Начали скорр полученных SQL запросов\n"
     ]
    },
    {
     "name": "stderr",
     "output_type": "stream",
     "text": [
      "\n"
     ]
    },
    {
     "name": "stdout",
     "output_type": "stream",
     "text": [
      "Qwen3-4B DEV Финальный результат EX: 74.16\n",
      "Qwen3-4B процент запросов, которые успешно выполнились DEV: 98.51%\n",
      "====================================================================================================\n",
      "\n",
      "\n",
      "Загружаем чаты с данными...\n",
      "Данные успешно загружены\n",
      "Начали генерацию SQL запросов\n"
     ]
    },
    {
     "name": "stderr",
     "output_type": "stream",
     "text": [
      "Processed prompts: 100%|██████████| 1076/1076 [00:34<00:00, 31.51it/s, est. speed input: 75133.48 toks/s, output: 1043.25 toks/s] "
     ]
    },
    {
     "name": "stdout",
     "output_type": "stream",
     "text": [
      "extract_think количество ошибок:  0\n",
      "extract_sql количество ошибок:  0\n",
      "Закончили генерацию SQL запросов\n",
      "Начали скорр полученных SQL запросов\n"
     ]
    },
    {
     "name": "stderr",
     "output_type": "stream",
     "text": [
      "\n"
     ]
    },
    {
     "name": "stdout",
     "output_type": "stream",
     "text": [
      "Qwen3-4B DEV Финальный результат EX: 73.88\n",
      "Qwen3-4B процент запросов, которые успешно выполнились DEV: 98.88%\n",
      "====================================================================================================\n",
      "\n",
      "\n",
      "Загружаем чаты с данными...\n",
      "Данные успешно загружены\n",
      "Начали генерацию SQL запросов\n"
     ]
    },
    {
     "name": "stderr",
     "output_type": "stream",
     "text": [
      "Processed prompts: 100%|██████████| 1076/1076 [00:33<00:00, 32.31it/s, est. speed input: 76035.50 toks/s, output: 1056.90 toks/s] "
     ]
    },
    {
     "name": "stdout",
     "output_type": "stream",
     "text": [
      "extract_think количество ошибок:  0\n",
      "extract_sql количество ошибок:  0\n",
      "Закончили генерацию SQL запросов\n",
      "Начали скорр полученных SQL запросов\n"
     ]
    },
    {
     "name": "stderr",
     "output_type": "stream",
     "text": [
      "\n"
     ]
    },
    {
     "name": "stdout",
     "output_type": "stream",
     "text": [
      "Qwen3-4B DEV Финальный результат EX: 72.96\n",
      "Qwen3-4B процент запросов, которые успешно выполнились DEV: 98.88%\n",
      "====================================================================================================\n",
      "\n",
      "\n",
      "Загружаем чаты с данными...\n",
      "Данные успешно загружены\n",
      "Начали генерацию SQL запросов\n"
     ]
    },
    {
     "name": "stderr",
     "output_type": "stream",
     "text": [
      "Processed prompts: 100%|██████████| 1076/1076 [00:33<00:00, 32.42it/s, est. speed input: 75417.76 toks/s, output: 1064.15 toks/s] "
     ]
    },
    {
     "name": "stdout",
     "output_type": "stream",
     "text": [
      "extract_think количество ошибок:  0\n",
      "extract_sql количество ошибок:  0\n",
      "Закончили генерацию SQL запросов\n",
      "Начали скорр полученных SQL запросов\n"
     ]
    },
    {
     "name": "stderr",
     "output_type": "stream",
     "text": [
      "\n"
     ]
    },
    {
     "name": "stdout",
     "output_type": "stream",
     "text": [
      "Qwen3-4B DEV Финальный результат EX: 74.26\n",
      "Qwen3-4B процент запросов, которые успешно выполнились DEV: 98.88%\n",
      "====================================================================================================\n",
      "\n",
      "\n",
      "Загружаем чаты с данными...\n",
      "Данные успешно загружены\n",
      "Начали генерацию SQL запросов\n"
     ]
    },
    {
     "name": "stderr",
     "output_type": "stream",
     "text": [
      "Processed prompts: 100%|██████████| 1076/1076 [00:33<00:00, 31.94it/s, est. speed input: 75529.67 toks/s, output: 1046.72 toks/s] "
     ]
    },
    {
     "name": "stdout",
     "output_type": "stream",
     "text": [
      "extract_think количество ошибок:  0\n",
      "extract_sql количество ошибок:  0\n",
      "Закончили генерацию SQL запросов\n",
      "Начали скорр полученных SQL запросов\n"
     ]
    },
    {
     "name": "stderr",
     "output_type": "stream",
     "text": [
      "\n"
     ]
    },
    {
     "name": "stdout",
     "output_type": "stream",
     "text": [
      "Qwen3-4B DEV Финальный результат EX: 73.70\n",
      "Qwen3-4B процент запросов, которые успешно выполнились DEV: 98.51%\n",
      "====================================================================================================\n",
      "\n",
      "\n",
      "Загружаем чаты с данными...\n",
      "Данные успешно загружены\n",
      "Начали генерацию SQL запросов\n"
     ]
    },
    {
     "name": "stderr",
     "output_type": "stream",
     "text": [
      "Processed prompts: 100%|██████████| 1076/1076 [00:33<00:00, 31.98it/s, est. speed input: 75911.47 toks/s, output: 1060.83 toks/s] "
     ]
    },
    {
     "name": "stdout",
     "output_type": "stream",
     "text": [
      "extract_think количество ошибок:  0\n",
      "extract_sql количество ошибок:  0\n",
      "Закончили генерацию SQL запросов\n",
      "Начали скорр полученных SQL запросов\n"
     ]
    },
    {
     "name": "stderr",
     "output_type": "stream",
     "text": [
      "\n"
     ]
    },
    {
     "name": "stdout",
     "output_type": "stream",
     "text": [
      "Qwen3-4B DEV Финальный результат EX: 73.51\n",
      "Qwen3-4B процент запросов, которые успешно выполнились DEV: 98.70%\n",
      "====================================================================================================\n",
      "\n",
      "\n",
      "Загружаем чаты с данными...\n",
      "Данные успешно загружены\n",
      "Начали генерацию SQL запросов\n"
     ]
    },
    {
     "name": "stderr",
     "output_type": "stream",
     "text": [
      "Processed prompts: 100%|██████████| 1076/1076 [00:33<00:00, 31.99it/s, est. speed input: 75299.30 toks/s, output: 1043.19 toks/s] "
     ]
    },
    {
     "name": "stdout",
     "output_type": "stream",
     "text": [
      "extract_think количество ошибок:  0\n",
      "extract_sql количество ошибок:  0\n",
      "Закончили генерацию SQL запросов\n",
      "Начали скорр полученных SQL запросов\n"
     ]
    },
    {
     "name": "stderr",
     "output_type": "stream",
     "text": [
      "\n"
     ]
    },
    {
     "name": "stdout",
     "output_type": "stream",
     "text": [
      "Qwen3-4B DEV Финальный результат EX: 73.88\n",
      "Qwen3-4B процент запросов, которые успешно выполнились DEV: 98.88%\n",
      "====================================================================================================\n",
      "\n",
      "\n",
      "Загружаем чаты с данными...\n",
      "Данные успешно загружены\n",
      "Начали генерацию SQL запросов\n"
     ]
    },
    {
     "name": "stderr",
     "output_type": "stream",
     "text": [
      "Processed prompts: 100%|██████████| 1076/1076 [00:33<00:00, 32.16it/s, est. speed input: 75807.92 toks/s, output: 1054.61 toks/s] "
     ]
    },
    {
     "name": "stdout",
     "output_type": "stream",
     "text": [
      "extract_think количество ошибок:  0\n",
      "extract_sql количество ошибок:  0\n",
      "Закончили генерацию SQL запросов\n",
      "Начали скорр полученных SQL запросов\n"
     ]
    },
    {
     "name": "stderr",
     "output_type": "stream",
     "text": [
      "\n"
     ]
    },
    {
     "name": "stdout",
     "output_type": "stream",
     "text": [
      "Qwen3-4B DEV Финальный результат EX: 74.72\n",
      "Qwen3-4B процент запросов, которые успешно выполнились DEV: 98.70%\n",
      "====================================================================================================\n",
      "\n",
      "\n",
      "Загружаем чаты с данными...\n",
      "Данные успешно загружены\n",
      "Начали генерацию SQL запросов\n"
     ]
    },
    {
     "name": "stderr",
     "output_type": "stream",
     "text": [
      "Processed prompts: 100%|██████████| 1076/1076 [00:33<00:00, 32.47it/s, est. speed input: 75883.31 toks/s, output: 1070.18 toks/s] "
     ]
    },
    {
     "name": "stdout",
     "output_type": "stream",
     "text": [
      "extract_think количество ошибок:  0\n",
      "extract_sql количество ошибок:  0\n",
      "Закончили генерацию SQL запросов\n",
      "Начали скорр полученных SQL запросов\n"
     ]
    },
    {
     "name": "stderr",
     "output_type": "stream",
     "text": [
      "\n"
     ]
    },
    {
     "name": "stdout",
     "output_type": "stream",
     "text": [
      "Qwen3-4B DEV Финальный результат EX: 74.07\n",
      "Qwen3-4B процент запросов, которые успешно выполнились DEV: 98.61%\n",
      "====================================================================================================\n",
      "\n",
      "\n",
      "Загружаем чаты с данными...\n",
      "Данные успешно загружены\n",
      "Начали генерацию SQL запросов\n"
     ]
    },
    {
     "name": "stderr",
     "output_type": "stream",
     "text": [
      "Processed prompts: 100%|██████████| 1076/1076 [00:32<00:00, 32.78it/s, est. speed input: 76511.46 toks/s, output: 1091.18 toks/s] "
     ]
    },
    {
     "name": "stdout",
     "output_type": "stream",
     "text": [
      "extract_think количество ошибок:  0\n",
      "extract_sql количество ошибок:  0\n",
      "Закончили генерацию SQL запросов\n",
      "Начали скорр полученных SQL запросов\n"
     ]
    },
    {
     "name": "stderr",
     "output_type": "stream",
     "text": [
      "\n"
     ]
    },
    {
     "name": "stdout",
     "output_type": "stream",
     "text": [
      "Qwen3-4B DEV Финальный результат EX: 73.70\n",
      "Qwen3-4B процент запросов, которые успешно выполнились DEV: 98.79%\n",
      "====================================================================================================\n",
      "\n",
      "\n",
      "Загружаем чаты с данными...\n",
      "Данные успешно загружены\n",
      "Начали генерацию SQL запросов\n"
     ]
    },
    {
     "name": "stderr",
     "output_type": "stream",
     "text": [
      "Processed prompts: 100%|██████████| 1076/1076 [00:33<00:00, 32.38it/s, est. speed input: 75786.57 toks/s, output: 1072.54 toks/s] "
     ]
    },
    {
     "name": "stdout",
     "output_type": "stream",
     "text": [
      "extract_think количество ошибок:  0\n",
      "extract_sql количество ошибок:  0\n",
      "Закончили генерацию SQL запросов\n",
      "Начали скорр полученных SQL запросов\n"
     ]
    },
    {
     "name": "stderr",
     "output_type": "stream",
     "text": [
      "\n"
     ]
    },
    {
     "name": "stdout",
     "output_type": "stream",
     "text": [
      "Qwen3-4B DEV Финальный результат EX: 75.00\n",
      "Qwen3-4B процент запросов, которые успешно выполнились DEV: 99.07%\n",
      "====================================================================================================\n",
      "\n",
      "\n",
      "Загружаем чаты с данными...\n",
      "Данные успешно загружены\n",
      "Начали генерацию SQL запросов\n"
     ]
    },
    {
     "name": "stderr",
     "output_type": "stream",
     "text": [
      "Processed prompts: 100%|██████████| 1076/1076 [00:32<00:00, 33.15it/s, est. speed input: 77018.68 toks/s, output: 1086.72 toks/s] "
     ]
    },
    {
     "name": "stdout",
     "output_type": "stream",
     "text": [
      "extract_think количество ошибок:  0\n",
      "extract_sql количество ошибок:  0\n",
      "Закончили генерацию SQL запросов\n",
      "Начали скорр полученных SQL запросов\n"
     ]
    },
    {
     "name": "stderr",
     "output_type": "stream",
     "text": [
      "\n"
     ]
    },
    {
     "name": "stdout",
     "output_type": "stream",
     "text": [
      "Qwen3-4B DEV Финальный результат EX: 74.54\n",
      "Qwen3-4B процент запросов, которые успешно выполнились DEV: 99.07%\n",
      "====================================================================================================\n",
      "\n",
      "\n",
      "Загружаем чаты с данными...\n",
      "Данные успешно загружены\n",
      "Начали генерацию SQL запросов\n"
     ]
    },
    {
     "name": "stderr",
     "output_type": "stream",
     "text": [
      "Processed prompts: 100%|██████████| 1076/1076 [00:32<00:00, 32.80it/s, est. speed input: 76282.55 toks/s, output: 1078.44 toks/s] "
     ]
    },
    {
     "name": "stdout",
     "output_type": "stream",
     "text": [
      "extract_think количество ошибок:  0\n",
      "extract_sql количество ошибок:  0\n",
      "Закончили генерацию SQL запросов\n",
      "Начали скорр полученных SQL запросов\n"
     ]
    },
    {
     "name": "stderr",
     "output_type": "stream",
     "text": [
      "\n"
     ]
    },
    {
     "name": "stdout",
     "output_type": "stream",
     "text": [
      "Qwen3-4B DEV Финальный результат EX: 73.79\n",
      "Qwen3-4B процент запросов, которые успешно выполнились DEV: 98.79%\n",
      "====================================================================================================\n",
      "\n",
      "\n"
     ]
    }
   ],
   "source": [
    "run_cot_experiment(model,arr_seeds,arr_versions, type_cot,num_observations=num_observations)"
   ]
  },
  {
   "cell_type": "code",
   "execution_count": 21,
   "id": "a20fe4f1-be38-4f30-b534-5959cc12deea",
   "metadata": {},
   "outputs": [
    {
     "name": "stdout",
     "output_type": "stream",
     "text": [
      "[557, 61, 250, 295, 699, 456, 743, 629, 704, 854, 228, 565, 813, 7, 568, 686, 578, 29, 315, 153]\n",
      "model: Qwen3-4B\n"
     ]
    }
   ],
   "source": [
    "n= 20\n",
    "arr_seeds = [random.randint(0,1000) for _ in range(n)]\n",
    "arr_versions = [x for x in range(n)]\n",
    "model = \"Qwen3-4B\"\n",
    "num_observations = 3\n",
    "type_cot = 'think'\n",
    "print(arr_seeds)\n",
    "print(f\"model: {model}\")"
   ]
  },
  {
   "cell_type": "code",
   "execution_count": 22,
   "id": "61d9bd8d-dd04-4a14-a288-585190158702",
   "metadata": {
    "scrolled": true
   },
   "outputs": [
    {
     "name": "stdout",
     "output_type": "stream",
     "text": [
      "Загружаем модель...\n"
     ]
    },
    {
     "name": "stderr",
     "output_type": "stream",
     "text": [
      "Loading safetensors checkpoint shards:   0% Completed | 0/3 [00:00<?, ?it/s]\n",
      "Loading safetensors checkpoint shards:  33% Completed | 1/3 [00:01<00:02,  1.32s/it]\n",
      "Loading safetensors checkpoint shards: 100% Completed | 3/3 [00:02<00:00,  1.20it/s]\n",
      "Loading safetensors checkpoint shards: 100% Completed | 3/3 [00:02<00:00,  1.13it/s]\n",
      "\u001b[1;36m(VllmWorker rank=0 pid=3705999)\u001b[0;0m \n"
     ]
    },
    {
     "name": "stdout",
     "output_type": "stream",
     "text": [
      "Модель успешно загружена\n",
      "model_config {'model': '/data/home/vkropoti/models/Qwen3-4B', 'tensor_parallel_size': 2, 'max_model_len': 40000, 'max_new_tokens': 1500, 'temperature': 0, 'top_k': 1, 'top_p': 0.8, 'gpu_memory_utilization': 0.9, 'trust_remote_code': False, 'seed': 557}\n",
      "\n",
      "prompts_config {'path_dev_json': '/data/home/vkropoti/sql_data/dev_spider.json', 'path_sql_dbs': '/data/home/vkropoti/sql_data/data_bases_spider/', 'use_reasoning': False, 'paths_to_cot': ['/data/home/vkropoti/sql_llm_answers/spider_dev_m_schema/sql_think_Qwen3-4B-reasoning-v0', '/data/home/vkropoti/sql_llm_answers/spider_dev_m_schema/sql_think_Qwen3-4B-reasoning-v1', '/data/home/vkropoti/sql_llm_answers/spider_dev_m_schema/sql_think_Qwen3-4B-reasoning-v2']}\n",
      "\n",
      "save_config {'path_sql_save': '/data/home/vkropoti/sql_llm_answers/spider_dev_m_schema/sql_all_Qwen3-4B-cot_think_think==False_nobs3-v0', 'path_think_save': None, 'path_sql_answers_save': '/data/home/vkropoti/sql_llm_answers/spider_dev_m_schema/sql_predict_Qwen3-4B-cot_think_think==False_nobs3-v0', 'path_to_save_scores': '/data/home/vkropoti/sql_llm_answers/spider_dev_m_schema/sql_results_Qwen3-4B-cot_think_think==False_nobs3-v0', 'path_to_save_executed': '/data/home/vkropoti/sql_llm_answers/spider_dev_m_schema/sql_executed_Qwen3-4B-cot_think_think==False_nobs3-v0'}\n",
      "\n",
      "Модель успешно загружена\n",
      "Пример промпта\n",
      "<|im_start|>system\n",
      "\n",
      "You are a data science expert. Below, you are provided with a database schema and a natural language question. Your task is to understand the schema and generate a valid SQL query to answer the question.\n",
      "\n",
      "Database Engine: SQLite\n",
      "\n",
      "You will be given an additional analysis of other models, please take it into account, so the plan is\n",
      "1. Analyse given addition analysis from other models (find in which analysis the same and differ, how to use that to answer question)\n",
      "2. Combine best from previous part and think how to solve the problem (analyze tables, take care what columns avaliable in each table and so on, check the syntacsis)\n",
      "3. Create the answers. The answer should be only sql query.\n",
      "\n",
      "Carefully follow the instruction and add <|im_end|> and the end of the final answer<|im_end|>\n",
      "<|im_start|>user\n",
      "Here is addition analysis from other models which can be helpfull, please take this into account but be careful (choose the best from each analysis, combine them to make the most proper answer):\n",
      "\n",
      "model 0 analysis:\n",
      " Okay, let's see. The user is asking \"How many singers do we have?\" So I need to find the number of singers in the database.\n",
      "\n",
      "Looking at the tables provided, there's a 'singer' table. The 'singer' table has a primary key 'Singer_ID', which uniquely identifies each singer. So the number of singers should be the count of distinct Singer_IDs in the singer table.\n",
      "\n",
      "Wait, but maybe there's a possibility of duplicates? But since Singer_ID is the primary key, each entry is unique. So just counting the number of rows in the singer table would give the correct number. Alternatively, using COUNT(*) or COUNT(Singer_ID) would work.\n",
      "\n",
      "But the question is about the number of singers, so the answer is the count of all entries in the singer table. So the SQL query should be SELECT COUNT(*) FROM singer;.\n",
      "\n",
      "Let me check if there are any other tables that might have singer information. The 'singer_in_concert' table links singers to concerts, but that's a many-to-many relationship. The 'singer' table itself contains all the singers. So the correct approach is to count the rows in the singer table.\n",
      "\n",
      "Yes, so the correct SQL is to select the count of all rows from the singer table. That should give the total number of singers.\n",
      "\n",
      "model 1 analysis:\n",
      " Okay, let's see. The user is asking \"How many singers do we have?\" So I need to find the number of singers in the database.\n",
      "\n",
      "Looking at the tables, there's a 'singer' table. The 'singer' table has a primary key 'Singer_ID', which is an integer. Each row in this table represents a singer. So the number of singers should be the count of distinct Singer_IDs in the singer table.\n",
      "\n",
      "Wait, but maybe there's a possibility of duplicates? But since Singer_ID is the primary key, each entry is unique. So just counting the number of rows in the singer table would give the correct count.\n",
      "\n",
      "Alternatively, using COUNT(*) would also work. But since the question is about the number of singers, which is the count of distinct entries, either COUNT(*) or COUNT(Singer_ID) would work. But since Singer_ID is the primary key, it's guaranteed to be unique, so COUNT(*) is sufficient.\n",
      "\n",
      "So the SQL query would be SELECT COUNT(*) FROM singer;\n",
      "\n",
      "I need to make sure that the table name is correct. The table is called 'singer' as per the schema provided. The columns are correctly named. No need to join with other tables because the question is straightforward—just the count of singers in the singer table.\n",
      "\n",
      "Yes, that's it. The answer should be a simple SELECT COUNT(*) FROM singer;\n",
      "\n",
      "model 2 analysis:\n",
      " Okay, let's see. The user is asking \"How many singers do we have?\" So I need to find the number of singers in the database.\n",
      "\n",
      "Looking at the tables, there's a 'singer' table. The schema for the singer table includes Singer_ID, Name, Country, Song_Name, Song_release_year, Age, and Is_male. The Singer_ID is the primary key, which means each row represents a unique singer. \n",
      "\n",
      "Since the question is about counting the number of singers, the correct approach is to count the number of rows in the singer table. The SQL function COUNT() can be used here. The simplest query would be SELECT COUNT(*) FROM singer; \n",
      "\n",
      "I need to make sure there are no other tables involved. The other tables like concert, stadium, and singer_in_concert don't seem relevant here because they relate to concerts and stadiums, not the count of singers. The singer table is the only one that contains singer information. \n",
      "\n",
      "So the answer should be a single SQL query that counts all rows in the singer table. No joins or additional conditions are needed. The COUNT(*) function will return the total number of singers.\n",
      "\n",
      "\n",
      "here is avaliable tables and their structure below\n",
      "【DB_ID】 concert_singer\n",
      "【Schema】\n",
      "# Table: concert\n",
      "[\n",
      "(concert_ID:INTEGER, Primary Key, Examples: [1, 2, 3]),\n",
      "(concert_Name:TEXT, Examples: [Auditions, Super bootcamp, Home Visits]),\n",
      "(Theme:TEXT, Examples: [Free choice, Free choice 2, Bleeding Love]),\n",
      "(Stadium_ID:TEXT, maps to stadium.Stadium_ID, Examples: [1, 2, 10]),\n",
      "(Year:TEXT, Examples: [2014, 2015, 2016])\n",
      "]\n",
      "# Table: singer\n",
      "[\n",
      "(Singer_ID:INTEGER, Primary Key, Examples: [1, 2, 3]),\n",
      "(Name:TEXT, Examples: [Joe Sharp, Timbaland, Justin Brown]),\n",
      "(Country:TEXT, Examples: [Netherlands, United States, France]),\n",
      "(Song_Name:TEXT, Examples: [You, Dangerous, Hey Oh]),\n",
      "(Song_release_year:TEXT, Examples: [1992, 2008, 2013]),\n",
      "(Age:INTEGER, Examples: [52, 32, 29]),\n",
      "(Is_male:BOOLEAN, Examples: [False, True])\n",
      "]\n",
      "# Table: singer_in_concert\n",
      "[\n",
      "(concert_ID:INTEGER, maps to concert.concert_ID, Primary Key, Examples: [1, 2, 3]),\n",
      "(Singer_ID:TEXT, maps to singer.Singer_ID, Primary Key, Examples: [2, 3, 5])\n",
      "]\n",
      "# Table: stadium\n",
      "[\n",
      "(Stadium_ID:INTEGER, Primary Key, Examples: [1, 2, 3]),\n",
      "(Location:TEXT, Examples: [Raith Rovers, Ayr United, East Fife]),\n",
      "(Name:TEXT, Examples: [Stark's Park, Somerset Park, Bayview Stadium]),\n",
      "(Capacity:INTEGER, Examples: [10104, 11998, 2000]),\n",
      "(Highest:INTEGER, Examples: [4812, 2363, 1980]),\n",
      "(Lowest:INTEGER, Examples: [1294, 1057, 533]),\n",
      "(Average:INTEGER, Examples: [2106, 1477, 864])\n",
      "]\n",
      "【Foreign keys】\n",
      "concert.Stadium_ID=stadium.Stadium_ID\n",
      "singer_in_concert.concert_ID=concert.concert_ID\n",
      "singer_in_concert.Singer_ID=singer.Singer_ID\n",
      "\n",
      "-- Using valid SQLite, answer the following questions for the tables provided above.\n",
      "-- How many singers do we have?\n",
      "\n",
      "\n",
      "\n",
      "Generate the SQLite for the above question after thinking step by step: \n",
      "\n",
      "\n",
      "Instructions:\n",
      "- Make sure you only output the information that is asked in the question. If the question asks for a specific column, make sure to only include that column in the SELECT clause, nothing more.\n",
      "- The generated query should return all of the information asked in the question without any missing or extra information.\n",
      "- Before generating the final SQL query, please think through the steps of how to write the query.\n",
      "- Do not misuse column names, keep them in quotes `\n",
      "- Carefully understand what colomns belond to what tables\n",
      "- Use only initial column names, change names prohibited\n",
      "        \n",
      "Output Format:\n",
      "In your answer, please enclose the generated SQL query in a code block:\n",
      "```\n",
      "-- Your SQL query\n",
      "```    \n",
      "and nothing else, no exaplains, no comments (asnwer should be less than 512 characters)\n",
      "\n",
      "Take a deep breath and think step by step to find the correct SQL query in SQLite format.\n",
      "\n",
      "Question repetition: How many singers do we have?\n",
      "\n",
      "Be care! Include only what i want it questiona and nothing else<|im_end|>\n",
      "<|im_start|>assistant\n",
      "<think>\n",
      "\n",
      "</think>\n",
      "\n",
      "\n",
      "\n",
      "\n",
      "Максимальное количество токенов в промптах: 18637\n",
      "\n",
      "начинаем скорринг\n",
      "Загружаем чаты с данными...\n",
      "Данные успешно загружены\n",
      "Начали генерацию SQL запросов\n"
     ]
    },
    {
     "name": "stderr",
     "output_type": "stream",
     "text": [
      "Processed prompts: 100%|██████████| 1076/1076 [00:43<00:00, 24.59it/s, est. speed input: 73369.29 toks/s, output: 817.62 toks/s] "
     ]
    },
    {
     "name": "stdout",
     "output_type": "stream",
     "text": [
      "extract_think количество ошибок:  0\n",
      "extract_sql количество ошибок:  0\n",
      "Закончили генерацию SQL запросов\n",
      "Начали скорр полученных SQL запросов\n"
     ]
    },
    {
     "name": "stderr",
     "output_type": "stream",
     "text": [
      "\n"
     ]
    },
    {
     "name": "stdout",
     "output_type": "stream",
     "text": [
      "Qwen3-4B DEV Финальный результат EX: 73.79\n",
      "Qwen3-4B процент запросов, которые успешно выполнились DEV: 98.33%\n",
      "====================================================================================================\n",
      "\n",
      "\n",
      "Загружаем чаты с данными...\n",
      "Данные успешно загружены\n",
      "Начали генерацию SQL запросов\n"
     ]
    },
    {
     "name": "stderr",
     "output_type": "stream",
     "text": [
      "Processed prompts: 100%|██████████| 1076/1076 [00:43<00:00, 24.67it/s, est. speed input: 73613.07 toks/s, output: 807.16 toks/s] "
     ]
    },
    {
     "name": "stdout",
     "output_type": "stream",
     "text": [
      "extract_think количество ошибок:  0\n",
      "extract_sql количество ошибок:  0\n",
      "Закончили генерацию SQL запросов\n",
      "Начали скорр полученных SQL запросов\n"
     ]
    },
    {
     "name": "stderr",
     "output_type": "stream",
     "text": [
      "\n"
     ]
    },
    {
     "name": "stdout",
     "output_type": "stream",
     "text": [
      "Qwen3-4B DEV Финальный результат EX: 73.88\n",
      "Qwen3-4B процент запросов, которые успешно выполнились DEV: 98.70%\n",
      "====================================================================================================\n",
      "\n",
      "\n",
      "Загружаем чаты с данными...\n",
      "Данные успешно загружены\n",
      "Начали генерацию SQL запросов\n"
     ]
    },
    {
     "name": "stderr",
     "output_type": "stream",
     "text": [
      "Processed prompts: 100%|██████████| 1076/1076 [00:43<00:00, 24.60it/s, est. speed input: 73532.81 toks/s, output: 814.50 toks/s] "
     ]
    },
    {
     "name": "stdout",
     "output_type": "stream",
     "text": [
      "extract_think количество ошибок:  0\n",
      "extract_sql количество ошибок:  0\n",
      "Закончили генерацию SQL запросов\n",
      "Начали скорр полученных SQL запросов\n"
     ]
    },
    {
     "name": "stderr",
     "output_type": "stream",
     "text": [
      "\n"
     ]
    },
    {
     "name": "stdout",
     "output_type": "stream",
     "text": [
      "Qwen3-4B DEV Финальный результат EX: 73.70\n",
      "Qwen3-4B процент запросов, которые успешно выполнились DEV: 98.88%\n",
      "====================================================================================================\n",
      "\n",
      "\n",
      "Загружаем чаты с данными...\n",
      "Данные успешно загружены\n",
      "Начали генерацию SQL запросов\n"
     ]
    },
    {
     "name": "stderr",
     "output_type": "stream",
     "text": [
      "Processed prompts: 100%|██████████| 1076/1076 [00:43<00:00, 24.60it/s, est. speed input: 72956.49 toks/s, output: 807.79 toks/s] "
     ]
    },
    {
     "name": "stdout",
     "output_type": "stream",
     "text": [
      "extract_think количество ошибок:  0\n",
      "extract_sql количество ошибок:  0\n",
      "Закончили генерацию SQL запросов\n",
      "Начали скорр полученных SQL запросов\n"
     ]
    },
    {
     "name": "stderr",
     "output_type": "stream",
     "text": [
      "\n"
     ]
    },
    {
     "name": "stdout",
     "output_type": "stream",
     "text": [
      "Qwen3-4B DEV Финальный результат EX: 73.79\n",
      "Qwen3-4B процент запросов, которые успешно выполнились DEV: 98.79%\n",
      "====================================================================================================\n",
      "\n",
      "\n",
      "Загружаем чаты с данными...\n",
      "Данные успешно загружены\n",
      "Начали генерацию SQL запросов\n"
     ]
    },
    {
     "name": "stderr",
     "output_type": "stream",
     "text": [
      "Processed prompts: 100%|██████████| 1076/1076 [00:43<00:00, 24.48it/s, est. speed input: 73101.05 toks/s, output: 805.26 toks/s] "
     ]
    },
    {
     "name": "stdout",
     "output_type": "stream",
     "text": [
      "extract_think количество ошибок:  0\n",
      "extract_sql количество ошибок:  0\n",
      "Закончили генерацию SQL запросов\n",
      "Начали скорр полученных SQL запросов\n"
     ]
    },
    {
     "name": "stderr",
     "output_type": "stream",
     "text": [
      "\n"
     ]
    },
    {
     "name": "stdout",
     "output_type": "stream",
     "text": [
      "Qwen3-4B DEV Финальный результат EX: 73.98\n",
      "Qwen3-4B процент запросов, которые успешно выполнились DEV: 98.79%\n",
      "====================================================================================================\n",
      "\n",
      "\n",
      "Загружаем чаты с данными...\n",
      "Данные успешно загружены\n",
      "Начали генерацию SQL запросов\n"
     ]
    },
    {
     "name": "stderr",
     "output_type": "stream",
     "text": [
      "Processed prompts: 100%|██████████| 1076/1076 [00:43<00:00, 24.71it/s, est. speed input: 73436.66 toks/s, output: 810.49 toks/s] "
     ]
    },
    {
     "name": "stdout",
     "output_type": "stream",
     "text": [
      "extract_think количество ошибок:  0\n",
      "extract_sql количество ошибок:  0\n",
      "Закончили генерацию SQL запросов\n",
      "Начали скорр полученных SQL запросов\n"
     ]
    },
    {
     "name": "stderr",
     "output_type": "stream",
     "text": [
      "\n"
     ]
    },
    {
     "name": "stdout",
     "output_type": "stream",
     "text": [
      "Qwen3-4B DEV Финальный результат EX: 73.98\n",
      "Qwen3-4B процент запросов, которые успешно выполнились DEV: 98.88%\n",
      "====================================================================================================\n",
      "\n",
      "\n",
      "Загружаем чаты с данными...\n",
      "Данные успешно загружены\n",
      "Начали генерацию SQL запросов\n"
     ]
    },
    {
     "name": "stderr",
     "output_type": "stream",
     "text": [
      "Processed prompts: 100%|██████████| 1076/1076 [00:43<00:00, 24.48it/s, est. speed input: 73060.32 toks/s, output: 796.87 toks/s] "
     ]
    },
    {
     "name": "stdout",
     "output_type": "stream",
     "text": [
      "extract_think количество ошибок:  0\n",
      "extract_sql количество ошибок:  0\n",
      "Закончили генерацию SQL запросов\n",
      "Начали скорр полученных SQL запросов\n"
     ]
    },
    {
     "name": "stderr",
     "output_type": "stream",
     "text": [
      "\n"
     ]
    },
    {
     "name": "stdout",
     "output_type": "stream",
     "text": [
      "Qwen3-4B DEV Финальный результат EX: 74.35\n",
      "Qwen3-4B процент запросов, которые успешно выполнились DEV: 98.88%\n",
      "====================================================================================================\n",
      "\n",
      "\n",
      "Загружаем чаты с данными...\n",
      "Данные успешно загружены\n",
      "Начали генерацию SQL запросов\n"
     ]
    },
    {
     "name": "stderr",
     "output_type": "stream",
     "text": [
      "Processed prompts: 100%|██████████| 1076/1076 [00:44<00:00, 23.94it/s, est. speed input: 71755.78 toks/s, output: 783.25 toks/s] "
     ]
    },
    {
     "name": "stdout",
     "output_type": "stream",
     "text": [
      "extract_think количество ошибок:  0\n",
      "extract_sql количество ошибок:  0\n",
      "Закончили генерацию SQL запросов\n",
      "Начали скорр полученных SQL запросов\n"
     ]
    },
    {
     "name": "stderr",
     "output_type": "stream",
     "text": [
      "\n"
     ]
    },
    {
     "name": "stdout",
     "output_type": "stream",
     "text": [
      "Qwen3-4B DEV Финальный результат EX: 74.54\n",
      "Qwen3-4B процент запросов, которые успешно выполнились DEV: 98.98%\n",
      "====================================================================================================\n",
      "\n",
      "\n",
      "Загружаем чаты с данными...\n",
      "Данные успешно загружены\n",
      "Начали генерацию SQL запросов\n"
     ]
    },
    {
     "name": "stderr",
     "output_type": "stream",
     "text": [
      "Processed prompts: 100%|██████████| 1076/1076 [00:44<00:00, 24.10it/s, est. speed input: 71938.29 toks/s, output: 791.77 toks/s] "
     ]
    },
    {
     "name": "stdout",
     "output_type": "stream",
     "text": [
      "extract_think количество ошибок:  0\n",
      "extract_sql количество ошибок:  0\n",
      "Закончили генерацию SQL запросов\n",
      "Начали скорр полученных SQL запросов\n"
     ]
    },
    {
     "name": "stderr",
     "output_type": "stream",
     "text": [
      "\n"
     ]
    },
    {
     "name": "stdout",
     "output_type": "stream",
     "text": [
      "Qwen3-4B DEV Финальный результат EX: 73.51\n",
      "Qwen3-4B процент запросов, которые успешно выполнились DEV: 98.79%\n",
      "====================================================================================================\n",
      "\n",
      "\n",
      "Загружаем чаты с данными...\n",
      "Данные успешно загружены\n",
      "Начали генерацию SQL запросов\n"
     ]
    },
    {
     "name": "stderr",
     "output_type": "stream",
     "text": [
      "Processed prompts: 100%|██████████| 1076/1076 [00:43<00:00, 24.60it/s, est. speed input: 72963.13 toks/s, output: 809.31 toks/s] "
     ]
    },
    {
     "name": "stdout",
     "output_type": "stream",
     "text": [
      "extract_think количество ошибок:  0\n",
      "extract_sql количество ошибок:  0\n",
      "Закончили генерацию SQL запросов\n",
      "Начали скорр полученных SQL запросов\n"
     ]
    },
    {
     "name": "stderr",
     "output_type": "stream",
     "text": [
      "\n"
     ]
    },
    {
     "name": "stdout",
     "output_type": "stream",
     "text": [
      "Qwen3-4B DEV Финальный результат EX: 74.44\n",
      "Qwen3-4B процент запросов, которые успешно выполнились DEV: 98.79%\n",
      "====================================================================================================\n",
      "\n",
      "\n",
      "Загружаем чаты с данными...\n",
      "Данные успешно загружены\n",
      "Начали генерацию SQL запросов\n"
     ]
    },
    {
     "name": "stderr",
     "output_type": "stream",
     "text": [
      "Processed prompts: 100%|██████████| 1076/1076 [00:43<00:00, 24.49it/s, est. speed input: 72600.19 toks/s, output: 808.26 toks/s] "
     ]
    },
    {
     "name": "stdout",
     "output_type": "stream",
     "text": [
      "extract_think количество ошибок:  0\n",
      "extract_sql количество ошибок:  0\n",
      "Закончили генерацию SQL запросов\n",
      "Начали скорр полученных SQL запросов\n"
     ]
    },
    {
     "name": "stderr",
     "output_type": "stream",
     "text": [
      "\n"
     ]
    },
    {
     "name": "stdout",
     "output_type": "stream",
     "text": [
      "Qwen3-4B DEV Финальный результат EX: 73.70\n",
      "Qwen3-4B процент запросов, которые успешно выполнились DEV: 99.07%\n",
      "====================================================================================================\n",
      "\n",
      "\n",
      "Загружаем чаты с данными...\n",
      "Данные успешно загружены\n",
      "Начали генерацию SQL запросов\n"
     ]
    },
    {
     "name": "stderr",
     "output_type": "stream",
     "text": [
      "Processed prompts: 100%|██████████| 1076/1076 [00:44<00:00, 24.37it/s, est. speed input: 72788.16 toks/s, output: 801.36 toks/s] "
     ]
    },
    {
     "name": "stdout",
     "output_type": "stream",
     "text": [
      "extract_think количество ошибок:  0\n",
      "extract_sql количество ошибок:  0\n",
      "Закончили генерацию SQL запросов\n",
      "Начали скорр полученных SQL запросов\n"
     ]
    },
    {
     "name": "stderr",
     "output_type": "stream",
     "text": [
      "\n"
     ]
    },
    {
     "name": "stdout",
     "output_type": "stream",
     "text": [
      "Qwen3-4B DEV Финальный результат EX: 73.70\n",
      "Qwen3-4B процент запросов, которые успешно выполнились DEV: 98.61%\n",
      "====================================================================================================\n",
      "\n",
      "\n",
      "Загружаем чаты с данными...\n",
      "Данные успешно загружены\n",
      "Начали генерацию SQL запросов\n"
     ]
    },
    {
     "name": "stderr",
     "output_type": "stream",
     "text": [
      "Processed prompts: 100%|██████████| 1076/1076 [00:43<00:00, 24.62it/s, est. speed input: 73658.24 toks/s, output: 799.95 toks/s] "
     ]
    },
    {
     "name": "stdout",
     "output_type": "stream",
     "text": [
      "extract_think количество ошибок:  0\n",
      "extract_sql количество ошибок:  0\n",
      "Закончили генерацию SQL запросов\n",
      "Начали скорр полученных SQL запросов\n"
     ]
    },
    {
     "name": "stderr",
     "output_type": "stream",
     "text": [
      "\n"
     ]
    },
    {
     "name": "stdout",
     "output_type": "stream",
     "text": [
      "Qwen3-4B DEV Финальный результат EX: 74.26\n",
      "Qwen3-4B процент запросов, которые успешно выполнились DEV: 99.26%\n",
      "====================================================================================================\n",
      "\n",
      "\n",
      "Загружаем чаты с данными...\n",
      "Данные успешно загружены\n",
      "Начали генерацию SQL запросов\n"
     ]
    },
    {
     "name": "stderr",
     "output_type": "stream",
     "text": [
      "Processed prompts: 100%|██████████| 1076/1076 [00:43<00:00, 24.50it/s, est. speed input: 73015.58 toks/s, output: 803.40 toks/s] "
     ]
    },
    {
     "name": "stdout",
     "output_type": "stream",
     "text": [
      "extract_think количество ошибок:  0\n",
      "extract_sql количество ошибок:  0\n",
      "Закончили генерацию SQL запросов\n",
      "Начали скорр полученных SQL запросов\n"
     ]
    },
    {
     "name": "stderr",
     "output_type": "stream",
     "text": [
      "\n"
     ]
    },
    {
     "name": "stdout",
     "output_type": "stream",
     "text": [
      "Qwen3-4B DEV Финальный результат EX: 74.63\n",
      "Qwen3-4B процент запросов, которые успешно выполнились DEV: 98.42%\n",
      "====================================================================================================\n",
      "\n",
      "\n",
      "Загружаем чаты с данными...\n",
      "Данные успешно загружены\n",
      "Начали генерацию SQL запросов\n"
     ]
    },
    {
     "name": "stderr",
     "output_type": "stream",
     "text": [
      "Processed prompts: 100%|██████████| 1076/1076 [00:43<00:00, 24.75it/s, est. speed input: 73163.41 toks/s, output: 811.93 toks/s] "
     ]
    },
    {
     "name": "stdout",
     "output_type": "stream",
     "text": [
      "extract_think количество ошибок:  0\n",
      "extract_sql количество ошибок:  0\n",
      "Закончили генерацию SQL запросов\n",
      "Начали скорр полученных SQL запросов\n"
     ]
    },
    {
     "name": "stderr",
     "output_type": "stream",
     "text": [
      "\n"
     ]
    },
    {
     "name": "stdout",
     "output_type": "stream",
     "text": [
      "Qwen3-4B DEV Финальный результат EX: 74.07\n",
      "Qwen3-4B процент запросов, которые успешно выполнились DEV: 98.51%\n",
      "====================================================================================================\n",
      "\n",
      "\n",
      "Загружаем чаты с данными...\n",
      "Данные успешно загружены\n",
      "Начали генерацию SQL запросов\n"
     ]
    },
    {
     "name": "stderr",
     "output_type": "stream",
     "text": [
      "Processed prompts: 100%|██████████| 1076/1076 [00:43<00:00, 24.68it/s, est. speed input: 73046.90 toks/s, output: 820.99 toks/s] "
     ]
    },
    {
     "name": "stdout",
     "output_type": "stream",
     "text": [
      "extract_think количество ошибок:  0\n",
      "extract_sql количество ошибок:  0\n",
      "Закончили генерацию SQL запросов\n",
      "Начали скорр полученных SQL запросов\n"
     ]
    },
    {
     "name": "stderr",
     "output_type": "stream",
     "text": [
      "\n"
     ]
    },
    {
     "name": "stdout",
     "output_type": "stream",
     "text": [
      "Qwen3-4B DEV Финальный результат EX: 74.16\n",
      "Qwen3-4B процент запросов, которые успешно выполнились DEV: 98.88%\n",
      "====================================================================================================\n",
      "\n",
      "\n",
      "Загружаем чаты с данными...\n",
      "Данные успешно загружены\n",
      "Начали генерацию SQL запросов\n"
     ]
    },
    {
     "name": "stderr",
     "output_type": "stream",
     "text": [
      "Processed prompts: 100%|██████████| 1076/1076 [00:43<00:00, 24.77it/s, est. speed input: 72799.17 toks/s, output: 815.58 toks/s] "
     ]
    },
    {
     "name": "stdout",
     "output_type": "stream",
     "text": [
      "extract_think количество ошибок:  0\n",
      "extract_sql количество ошибок:  0\n",
      "Закончили генерацию SQL запросов\n",
      "Начали скорр полученных SQL запросов\n"
     ]
    },
    {
     "name": "stderr",
     "output_type": "stream",
     "text": [
      "\n"
     ]
    },
    {
     "name": "stdout",
     "output_type": "stream",
     "text": [
      "Qwen3-4B DEV Финальный результат EX: 74.26\n",
      "Qwen3-4B процент запросов, которые успешно выполнились DEV: 98.98%\n",
      "====================================================================================================\n",
      "\n",
      "\n",
      "Загружаем чаты с данными...\n",
      "Данные успешно загружены\n",
      "Начали генерацию SQL запросов\n"
     ]
    },
    {
     "name": "stderr",
     "output_type": "stream",
     "text": [
      "Processed prompts: 100%|██████████| 1076/1076 [00:43<00:00, 24.72it/s, est. speed input: 72819.72 toks/s, output: 816.26 toks/s] "
     ]
    },
    {
     "name": "stdout",
     "output_type": "stream",
     "text": [
      "extract_think количество ошибок:  0\n",
      "extract_sql количество ошибок:  0\n",
      "Закончили генерацию SQL запросов\n",
      "Начали скорр полученных SQL запросов\n"
     ]
    },
    {
     "name": "stderr",
     "output_type": "stream",
     "text": [
      "\n"
     ]
    },
    {
     "name": "stdout",
     "output_type": "stream",
     "text": [
      "Qwen3-4B DEV Финальный результат EX: 73.51\n",
      "Qwen3-4B процент запросов, которые успешно выполнились DEV: 99.07%\n",
      "====================================================================================================\n",
      "\n",
      "\n",
      "Загружаем чаты с данными...\n",
      "Данные успешно загружены\n",
      "Начали генерацию SQL запросов\n"
     ]
    },
    {
     "name": "stderr",
     "output_type": "stream",
     "text": [
      "Processed prompts: 100%|██████████| 1076/1076 [00:42<00:00, 25.21it/s, est. speed input: 73879.22 toks/s, output: 826.79 toks/s] "
     ]
    },
    {
     "name": "stdout",
     "output_type": "stream",
     "text": [
      "extract_think количество ошибок:  0\n",
      "extract_sql количество ошибок:  0\n",
      "Закончили генерацию SQL запросов\n",
      "Начали скорр полученных SQL запросов\n"
     ]
    },
    {
     "name": "stderr",
     "output_type": "stream",
     "text": [
      "\n"
     ]
    },
    {
     "name": "stdout",
     "output_type": "stream",
     "text": [
      "Qwen3-4B DEV Финальный результат EX: 74.54\n",
      "Qwen3-4B процент запросов, которые успешно выполнились DEV: 99.07%\n",
      "====================================================================================================\n",
      "\n",
      "\n",
      "Загружаем чаты с данными...\n",
      "Данные успешно загружены\n",
      "Начали генерацию SQL запросов\n"
     ]
    },
    {
     "name": "stderr",
     "output_type": "stream",
     "text": [
      "Processed prompts: 100%|██████████| 1076/1076 [00:43<00:00, 24.73it/s, est. speed input: 72885.76 toks/s, output: 814.13 toks/s] "
     ]
    },
    {
     "name": "stdout",
     "output_type": "stream",
     "text": [
      "extract_think количество ошибок:  0\n",
      "extract_sql количество ошибок:  0\n",
      "Закончили генерацию SQL запросов\n",
      "Начали скорр полученных SQL запросов\n"
     ]
    },
    {
     "name": "stderr",
     "output_type": "stream",
     "text": [
      "\n"
     ]
    },
    {
     "name": "stdout",
     "output_type": "stream",
     "text": [
      "Qwen3-4B DEV Финальный результат EX: 73.51\n",
      "Qwen3-4B процент запросов, которые успешно выполнились DEV: 98.70%\n",
      "====================================================================================================\n",
      "\n",
      "\n"
     ]
    }
   ],
   "source": [
    "run_cot_experiment(model,arr_seeds,arr_versions, type_cot,num_observations=num_observations)"
   ]
  },
  {
   "cell_type": "code",
   "execution_count": 23,
   "id": "91935ea9-35a9-44aa-9e58-6390439df74f",
   "metadata": {},
   "outputs": [
    {
     "name": "stdout",
     "output_type": "stream",
     "text": [
      "[666, 762, 252, 151, 693, 991, 256, 677, 855, 252, 207, 60, 818, 553, 320, 107, 446, 228, 580, 389]\n",
      "model: Qwen3-4B\n"
     ]
    }
   ],
   "source": [
    "n= 20\n",
    "arr_seeds = [random.randint(0,1000) for _ in range(n)]\n",
    "arr_versions = [x for x in range(n)]\n",
    "model = \"Qwen3-4B\"\n",
    "num_observations = 4\n",
    "type_cot = 'think'\n",
    "print(arr_seeds)\n",
    "print(f\"model: {model}\")"
   ]
  },
  {
   "cell_type": "code",
   "execution_count": 24,
   "id": "a29f1083-de0f-4092-8479-ac68ef1c2d4a",
   "metadata": {
    "scrolled": true
   },
   "outputs": [
    {
     "name": "stdout",
     "output_type": "stream",
     "text": [
      "Загружаем модель...\n"
     ]
    },
    {
     "name": "stderr",
     "output_type": "stream",
     "text": [
      "Loading safetensors checkpoint shards:   0% Completed | 0/3 [00:00<?, ?it/s]\n",
      "Loading safetensors checkpoint shards:  33% Completed | 1/3 [00:01<00:02,  1.35s/it]\n",
      "Loading safetensors checkpoint shards: 100% Completed | 3/3 [00:02<00:00,  1.12it/s]\n",
      "Loading safetensors checkpoint shards: 100% Completed | 3/3 [00:02<00:00,  1.07it/s]\n",
      "\u001b[1;36m(VllmWorker rank=0 pid=3808417)\u001b[0;0m \n"
     ]
    },
    {
     "name": "stdout",
     "output_type": "stream",
     "text": [
      "Модель успешно загружена\n",
      "model_config {'model': '/data/home/vkropoti/models/Qwen3-4B', 'tensor_parallel_size': 2, 'max_model_len': 40000, 'max_new_tokens': 1500, 'temperature': 0, 'top_k': 1, 'top_p': 0.8, 'gpu_memory_utilization': 0.9, 'trust_remote_code': False, 'seed': 666}\n",
      "\n",
      "prompts_config {'path_dev_json': '/data/home/vkropoti/sql_data/dev_spider.json', 'path_sql_dbs': '/data/home/vkropoti/sql_data/data_bases_spider/', 'use_reasoning': False, 'paths_to_cot': ['/data/home/vkropoti/sql_llm_answers/spider_dev_m_schema/sql_think_Qwen3-4B-reasoning-v0', '/data/home/vkropoti/sql_llm_answers/spider_dev_m_schema/sql_think_Qwen3-4B-reasoning-v1', '/data/home/vkropoti/sql_llm_answers/spider_dev_m_schema/sql_think_Qwen3-4B-reasoning-v2', '/data/home/vkropoti/sql_llm_answers/spider_dev_m_schema/sql_think_Qwen3-4B-reasoning-v3']}\n",
      "\n",
      "save_config {'path_sql_save': '/data/home/vkropoti/sql_llm_answers/spider_dev_m_schema/sql_all_Qwen3-4B-cot_think_think==False_nobs4-v0', 'path_think_save': None, 'path_sql_answers_save': '/data/home/vkropoti/sql_llm_answers/spider_dev_m_schema/sql_predict_Qwen3-4B-cot_think_think==False_nobs4-v0', 'path_to_save_scores': '/data/home/vkropoti/sql_llm_answers/spider_dev_m_schema/sql_results_Qwen3-4B-cot_think_think==False_nobs4-v0', 'path_to_save_executed': '/data/home/vkropoti/sql_llm_answers/spider_dev_m_schema/sql_executed_Qwen3-4B-cot_think_think==False_nobs4-v0'}\n",
      "\n",
      "Модель успешно загружена\n",
      "Пример промпта\n",
      "<|im_start|>system\n",
      "\n",
      "You are a data science expert. Below, you are provided with a database schema and a natural language question. Your task is to understand the schema and generate a valid SQL query to answer the question.\n",
      "\n",
      "Database Engine: SQLite\n",
      "\n",
      "You will be given an additional analysis of other models, please take it into account, so the plan is\n",
      "1. Analyse given addition analysis from other models (find in which analysis the same and differ, how to use that to answer question)\n",
      "2. Combine best from previous part and think how to solve the problem (analyze tables, take care what columns avaliable in each table and so on, check the syntacsis)\n",
      "3. Create the answers. The answer should be only sql query.\n",
      "\n",
      "Carefully follow the instruction and add <|im_end|> and the end of the final answer<|im_end|>\n",
      "<|im_start|>user\n",
      "Here is addition analysis from other models which can be helpfull, please take this into account but be careful (choose the best from each analysis, combine them to make the most proper answer):\n",
      "\n",
      "model 0 analysis:\n",
      " Okay, let's see. The user is asking \"How many singers do we have?\" So I need to find the number of singers in the database.\n",
      "\n",
      "Looking at the tables provided, there's a 'singer' table. The 'singer' table has a primary key 'Singer_ID', which uniquely identifies each singer. So the number of singers should be the count of distinct Singer_IDs in the singer table.\n",
      "\n",
      "Wait, but maybe there's a possibility of duplicates? But since Singer_ID is the primary key, each entry is unique. So just counting the number of rows in the singer table would give the correct number. Alternatively, using COUNT(*) or COUNT(Singer_ID) would work.\n",
      "\n",
      "But the question is about the number of singers, so the answer is the count of all entries in the singer table. So the SQL query should be SELECT COUNT(*) FROM singer;.\n",
      "\n",
      "Let me check if there are any other tables that might have singer information. The 'singer_in_concert' table links singers to concerts, but that's a many-to-many relationship. The 'singer' table itself contains all the singers. So the correct approach is to count the rows in the singer table.\n",
      "\n",
      "Yes, so the correct SQL is to select the count of all rows from the singer table. That should give the total number of singers.\n",
      "\n",
      "model 1 analysis:\n",
      " Okay, let's see. The user is asking \"How many singers do we have?\" So I need to find the number of singers in the database.\n",
      "\n",
      "Looking at the tables, there's a 'singer' table. The 'singer' table has a primary key 'Singer_ID', which is an integer. Each row in this table represents a singer. So the number of singers should be the count of distinct Singer_IDs in the singer table.\n",
      "\n",
      "Wait, but maybe there's a possibility of duplicates? But since Singer_ID is the primary key, each entry is unique. So just counting the number of rows in the singer table would give the correct count.\n",
      "\n",
      "Alternatively, using COUNT(*) would also work. But since the question is about the number of singers, which is the count of distinct entries, either COUNT(*) or COUNT(Singer_ID) would work. But since Singer_ID is the primary key, it's guaranteed to be unique, so COUNT(*) is sufficient.\n",
      "\n",
      "So the SQL query would be SELECT COUNT(*) FROM singer;\n",
      "\n",
      "I need to make sure that the table name is correct. The table is called 'singer' as per the schema provided. The columns are correctly named. No need to join with other tables because the question is straightforward—just the count of singers in the singer table.\n",
      "\n",
      "Yes, that's it. The answer should be a simple SELECT COUNT(*) FROM singer;\n",
      "\n",
      "model 2 analysis:\n",
      " Okay, let's see. The user is asking \"How many singers do we have?\" So I need to find the number of singers in the database.\n",
      "\n",
      "Looking at the tables, there's a 'singer' table. The schema for the singer table includes Singer_ID, Name, Country, Song_Name, Song_release_year, Age, and Is_male. The Singer_ID is the primary key, which means each row represents a unique singer. \n",
      "\n",
      "Since the question is about counting the number of singers, the correct approach is to count the number of rows in the singer table. The SQL function COUNT() can be used here. The simplest query would be SELECT COUNT(*) FROM singer; \n",
      "\n",
      "I need to make sure there are no other tables involved. The other tables like concert, stadium, and singer_in_concert don't seem relevant here because they relate to concerts and stadiums, not the count of singers. The singer table is the only one that contains singer information. \n",
      "\n",
      "So the answer should be a single SQL query that counts all rows in the singer table. No joins or additional conditions are needed. The COUNT(*) function will return the total number of singers.\n",
      "\n",
      "model 3 analysis:\n",
      " Okay, let's see. The user is asking \"How many singers do we have?\" So I need to find the number of singers in the database.\n",
      "\n",
      "Looking at the tables provided, there's a 'singer' table. The 'singer' table has a primary key 'Singer_ID', which is an integer. Each entry in this table represents a unique singer. So the number of singers should be the count of rows in the 'singer' table.\n",
      "\n",
      "Wait, but I need to make sure there are no duplicates or anything. But since 'Singer_ID' is the primary key, each row is unique. So counting the number of rows in the 'singer' table should give the correct count.\n",
      "\n",
      "So the SQL query would be a simple SELECT COUNT(*) FROM singer. That should return the total number of singers. Let me check if there's any other table that might have singer information. The 'singer_in_concert' table links singers to concerts, but that's a many-to-many relationship. The 'singer' table itself is the source of singer data. So yes, the answer is to count the rows in the singer table.\n",
      "\n",
      "\n",
      "here is avaliable tables and their structure below\n",
      "【DB_ID】 concert_singer\n",
      "【Schema】\n",
      "# Table: concert\n",
      "[\n",
      "(concert_ID:INTEGER, Primary Key, Examples: [1, 2, 3]),\n",
      "(concert_Name:TEXT, Examples: [Auditions, Super bootcamp, Home Visits]),\n",
      "(Theme:TEXT, Examples: [Free choice, Free choice 2, Bleeding Love]),\n",
      "(Stadium_ID:TEXT, maps to stadium.Stadium_ID, Examples: [1, 2, 10]),\n",
      "(Year:TEXT, Examples: [2014, 2015, 2016])\n",
      "]\n",
      "# Table: singer\n",
      "[\n",
      "(Singer_ID:INTEGER, Primary Key, Examples: [1, 2, 3]),\n",
      "(Name:TEXT, Examples: [Joe Sharp, Timbaland, Justin Brown]),\n",
      "(Country:TEXT, Examples: [Netherlands, United States, France]),\n",
      "(Song_Name:TEXT, Examples: [You, Dangerous, Hey Oh]),\n",
      "(Song_release_year:TEXT, Examples: [1992, 2008, 2013]),\n",
      "(Age:INTEGER, Examples: [52, 32, 29]),\n",
      "(Is_male:BOOLEAN, Examples: [False, True])\n",
      "]\n",
      "# Table: singer_in_concert\n",
      "[\n",
      "(concert_ID:INTEGER, maps to concert.concert_ID, Primary Key, Examples: [1, 2, 3]),\n",
      "(Singer_ID:TEXT, maps to singer.Singer_ID, Primary Key, Examples: [2, 3, 5])\n",
      "]\n",
      "# Table: stadium\n",
      "[\n",
      "(Stadium_ID:INTEGER, Primary Key, Examples: [1, 2, 3]),\n",
      "(Location:TEXT, Examples: [Raith Rovers, Ayr United, East Fife]),\n",
      "(Name:TEXT, Examples: [Stark's Park, Somerset Park, Bayview Stadium]),\n",
      "(Capacity:INTEGER, Examples: [10104, 11998, 2000]),\n",
      "(Highest:INTEGER, Examples: [4812, 2363, 1980]),\n",
      "(Lowest:INTEGER, Examples: [1294, 1057, 533]),\n",
      "(Average:INTEGER, Examples: [2106, 1477, 864])\n",
      "]\n",
      "【Foreign keys】\n",
      "concert.Stadium_ID=stadium.Stadium_ID\n",
      "singer_in_concert.concert_ID=concert.concert_ID\n",
      "singer_in_concert.Singer_ID=singer.Singer_ID\n",
      "\n",
      "-- Using valid SQLite, answer the following questions for the tables provided above.\n",
      "-- How many singers do we have?\n",
      "\n",
      "\n",
      "\n",
      "Generate the SQLite for the above question after thinking step by step: \n",
      "\n",
      "\n",
      "Instructions:\n",
      "- Make sure you only output the information that is asked in the question. If the question asks for a specific column, make sure to only include that column in the SELECT clause, nothing more.\n",
      "- The generated query should return all of the information asked in the question without any missing or extra information.\n",
      "- Before generating the final SQL query, please think through the steps of how to write the query.\n",
      "- Do not misuse column names, keep them in quotes `\n",
      "- Carefully understand what colomns belond to what tables\n",
      "- Use only initial column names, change names prohibited\n",
      "        \n",
      "Output Format:\n",
      "In your answer, please enclose the generated SQL query in a code block:\n",
      "```\n",
      "-- Your SQL query\n",
      "```    \n",
      "and nothing else, no exaplains, no comments (asnwer should be less than 512 characters)\n",
      "\n",
      "Take a deep breath and think step by step to find the correct SQL query in SQLite format.\n",
      "\n",
      "Question repetition: How many singers do we have?\n",
      "\n",
      "Be care! Include only what i want it questiona and nothing else<|im_end|>\n",
      "<|im_start|>assistant\n",
      "<think>\n",
      "\n",
      "</think>\n",
      "\n",
      "\n",
      "\n",
      "\n",
      "Максимальное количество токенов в промптах: 21561\n",
      "\n",
      "начинаем скорринг\n",
      "Загружаем чаты с данными...\n",
      "Данные успешно загружены\n",
      "Начали генерацию SQL запросов\n"
     ]
    },
    {
     "name": "stderr",
     "output_type": "stream",
     "text": [
      "Processed prompts: 100%|██████████| 1076/1076 [00:54<00:00, 19.84it/s, est. speed input: 71262.35 toks/s, output: 648.72 toks/s] "
     ]
    },
    {
     "name": "stdout",
     "output_type": "stream",
     "text": [
      "extract_think количество ошибок:  0\n",
      "extract_sql количество ошибок:  0\n",
      "Закончили генерацию SQL запросов\n",
      "Начали скорр полученных SQL запросов\n"
     ]
    },
    {
     "name": "stderr",
     "output_type": "stream",
     "text": [
      "\n"
     ]
    },
    {
     "name": "stdout",
     "output_type": "stream",
     "text": [
      "Qwen3-4B DEV Финальный результат EX: 74.26\n",
      "Qwen3-4B процент запросов, которые успешно выполнились DEV: 98.70%\n",
      "====================================================================================================\n",
      "\n",
      "\n",
      "Загружаем чаты с данными...\n",
      "Данные успешно загружены\n",
      "Начали генерацию SQL запросов\n"
     ]
    },
    {
     "name": "stderr",
     "output_type": "stream",
     "text": [
      "Processed prompts: 100%|██████████| 1076/1076 [00:54<00:00, 19.58it/s, est. speed input: 70672.31 toks/s, output: 648.55 toks/s] "
     ]
    },
    {
     "name": "stdout",
     "output_type": "stream",
     "text": [
      "extract_think количество ошибок:  0\n",
      "extract_sql количество ошибок:  0\n",
      "Закончили генерацию SQL запросов\n",
      "Начали скорр полученных SQL запросов\n"
     ]
    },
    {
     "name": "stderr",
     "output_type": "stream",
     "text": [
      "\n"
     ]
    },
    {
     "name": "stdout",
     "output_type": "stream",
     "text": [
      "Qwen3-4B DEV Финальный результат EX: 73.88\n",
      "Qwen3-4B процент запросов, которые успешно выполнились DEV: 98.79%\n",
      "====================================================================================================\n",
      "\n",
      "\n",
      "Загружаем чаты с данными...\n",
      "Данные успешно загружены\n",
      "Начали генерацию SQL запросов\n"
     ]
    },
    {
     "name": "stderr",
     "output_type": "stream",
     "text": [
      "Processed prompts: 100%|██████████| 1076/1076 [00:55<00:00, 19.53it/s, est. speed input: 70491.62 toks/s, output: 642.49 toks/s] "
     ]
    },
    {
     "name": "stdout",
     "output_type": "stream",
     "text": [
      "extract_think количество ошибок:  0\n",
      "extract_sql количество ошибок:  0\n",
      "Закончили генерацию SQL запросов\n",
      "Начали скорр полученных SQL запросов\n"
     ]
    },
    {
     "name": "stderr",
     "output_type": "stream",
     "text": [
      "\n"
     ]
    },
    {
     "name": "stdout",
     "output_type": "stream",
     "text": [
      "Qwen3-4B DEV Финальный результат EX: 73.79\n",
      "Qwen3-4B процент запросов, которые успешно выполнились DEV: 98.98%\n",
      "====================================================================================================\n",
      "\n",
      "\n",
      "Загружаем чаты с данными...\n",
      "Данные успешно загружены\n",
      "Начали генерацию SQL запросов\n"
     ]
    },
    {
     "name": "stderr",
     "output_type": "stream",
     "text": [
      "Processed prompts: 100%|██████████| 1076/1076 [00:54<00:00, 19.70it/s, est. speed input: 70792.58 toks/s, output: 645.17 toks/s] "
     ]
    },
    {
     "name": "stdout",
     "output_type": "stream",
     "text": [
      "extract_think количество ошибок:  0\n",
      "extract_sql количество ошибок:  0\n",
      "Закончили генерацию SQL запросов\n",
      "Начали скорр полученных SQL запросов\n"
     ]
    },
    {
     "name": "stderr",
     "output_type": "stream",
     "text": [
      "\n"
     ]
    },
    {
     "name": "stdout",
     "output_type": "stream",
     "text": [
      "Qwen3-4B DEV Финальный результат EX: 73.61\n",
      "Qwen3-4B процент запросов, которые успешно выполнились DEV: 98.88%\n",
      "====================================================================================================\n",
      "\n",
      "\n",
      "Загружаем чаты с данными...\n",
      "Данные успешно загружены\n",
      "Начали генерацию SQL запросов\n"
     ]
    },
    {
     "name": "stderr",
     "output_type": "stream",
     "text": [
      "Processed prompts: 100%|██████████| 1076/1076 [00:54<00:00, 19.67it/s, est. speed input: 70753.14 toks/s, output: 646.69 toks/s] "
     ]
    },
    {
     "name": "stdout",
     "output_type": "stream",
     "text": [
      "extract_think количество ошибок:  0\n",
      "extract_sql количество ошибок:  0\n",
      "Закончили генерацию SQL запросов\n",
      "Начали скорр полученных SQL запросов\n"
     ]
    },
    {
     "name": "stderr",
     "output_type": "stream",
     "text": [
      "\n"
     ]
    },
    {
     "name": "stdout",
     "output_type": "stream",
     "text": [
      "Qwen3-4B DEV Финальный результат EX: 74.07\n",
      "Qwen3-4B процент запросов, которые успешно выполнились DEV: 98.98%\n",
      "====================================================================================================\n",
      "\n",
      "\n",
      "Загружаем чаты с данными...\n",
      "Данные успешно загружены\n",
      "Начали генерацию SQL запросов\n"
     ]
    },
    {
     "name": "stderr",
     "output_type": "stream",
     "text": [
      "Processed prompts: 100%|██████████| 1076/1076 [00:55<00:00, 19.51it/s, est. speed input: 70303.06 toks/s, output: 635.35 toks/s] "
     ]
    },
    {
     "name": "stdout",
     "output_type": "stream",
     "text": [
      "extract_think количество ошибок:  0\n",
      "extract_sql количество ошибок:  0\n",
      "Закончили генерацию SQL запросов\n",
      "Начали скорр полученных SQL запросов\n"
     ]
    },
    {
     "name": "stderr",
     "output_type": "stream",
     "text": [
      "\n"
     ]
    },
    {
     "name": "stdout",
     "output_type": "stream",
     "text": [
      "Qwen3-4B DEV Финальный результат EX: 73.98\n",
      "Qwen3-4B процент запросов, которые успешно выполнились DEV: 98.88%\n",
      "====================================================================================================\n",
      "\n",
      "\n",
      "Загружаем чаты с данными...\n",
      "Данные успешно загружены\n",
      "Начали генерацию SQL запросов\n"
     ]
    },
    {
     "name": "stderr",
     "output_type": "stream",
     "text": [
      "Processed prompts: 100%|██████████| 1076/1076 [00:55<00:00, 19.37it/s, est. speed input: 70209.57 toks/s, output: 631.72 toks/s] "
     ]
    },
    {
     "name": "stdout",
     "output_type": "stream",
     "text": [
      "extract_think количество ошибок:  0\n",
      "extract_sql количество ошибок:  0\n",
      "Закончили генерацию SQL запросов\n",
      "Начали скорр полученных SQL запросов\n"
     ]
    },
    {
     "name": "stderr",
     "output_type": "stream",
     "text": [
      "\n"
     ]
    },
    {
     "name": "stdout",
     "output_type": "stream",
     "text": [
      "Qwen3-4B DEV Финальный результат EX: 73.70\n",
      "Qwen3-4B процент запросов, которые успешно выполнились DEV: 98.79%\n",
      "====================================================================================================\n",
      "\n",
      "\n",
      "Загружаем чаты с данными...\n",
      "Данные успешно загружены\n",
      "Начали генерацию SQL запросов\n"
     ]
    },
    {
     "name": "stderr",
     "output_type": "stream",
     "text": [
      "Processed prompts: 100%|██████████| 1076/1076 [00:55<00:00, 19.44it/s, est. speed input: 69910.36 toks/s, output: 635.79 toks/s] "
     ]
    },
    {
     "name": "stdout",
     "output_type": "stream",
     "text": [
      "extract_think количество ошибок:  0\n",
      "extract_sql количество ошибок:  0\n",
      "Закончили генерацию SQL запросов\n",
      "Начали скорр полученных SQL запросов\n"
     ]
    },
    {
     "name": "stderr",
     "output_type": "stream",
     "text": [
      "\n"
     ]
    },
    {
     "name": "stdout",
     "output_type": "stream",
     "text": [
      "Qwen3-4B DEV Финальный результат EX: 73.51\n",
      "Qwen3-4B процент запросов, которые успешно выполнились DEV: 99.07%\n",
      "====================================================================================================\n",
      "\n",
      "\n",
      "Загружаем чаты с данными...\n",
      "Данные успешно загружены\n",
      "Начали генерацию SQL запросов\n"
     ]
    },
    {
     "name": "stderr",
     "output_type": "stream",
     "text": [
      "Processed prompts: 100%|██████████| 1076/1076 [00:55<00:00, 19.48it/s, est. speed input: 70079.19 toks/s, output: 642.60 toks/s] "
     ]
    },
    {
     "name": "stdout",
     "output_type": "stream",
     "text": [
      "extract_think количество ошибок:  0\n",
      "extract_sql количество ошибок:  0\n",
      "Закончили генерацию SQL запросов\n",
      "Начали скорр полученных SQL запросов\n"
     ]
    },
    {
     "name": "stderr",
     "output_type": "stream",
     "text": [
      "\n"
     ]
    },
    {
     "name": "stdout",
     "output_type": "stream",
     "text": [
      "Qwen3-4B DEV Финальный результат EX: 73.98\n",
      "Qwen3-4B процент запросов, которые успешно выполнились DEV: 98.42%\n",
      "====================================================================================================\n",
      "\n",
      "\n",
      "Загружаем чаты с данными...\n",
      "Данные успешно загружены\n",
      "Начали генерацию SQL запросов\n"
     ]
    },
    {
     "name": "stderr",
     "output_type": "stream",
     "text": [
      "Processed prompts: 100%|██████████| 1076/1076 [00:54<00:00, 19.66it/s, est. speed input: 70868.06 toks/s, output: 648.25 toks/s] "
     ]
    },
    {
     "name": "stdout",
     "output_type": "stream",
     "text": [
      "extract_think количество ошибок:  0\n",
      "extract_sql количество ошибок:  0\n",
      "Закончили генерацию SQL запросов\n",
      "Начали скорр полученных SQL запросов\n"
     ]
    },
    {
     "name": "stderr",
     "output_type": "stream",
     "text": [
      "\n"
     ]
    },
    {
     "name": "stdout",
     "output_type": "stream",
     "text": [
      "Qwen3-4B DEV Финальный результат EX: 73.33\n",
      "Qwen3-4B процент запросов, которые успешно выполнились DEV: 98.79%\n",
      "====================================================================================================\n",
      "\n",
      "\n",
      "Загружаем чаты с данными...\n",
      "Данные успешно загружены\n",
      "Начали генерацию SQL запросов\n"
     ]
    },
    {
     "name": "stderr",
     "output_type": "stream",
     "text": [
      "Processed prompts: 100%|██████████| 1076/1076 [00:54<00:00, 19.83it/s, est. speed input: 71135.22 toks/s, output: 650.12 toks/s] "
     ]
    },
    {
     "name": "stdout",
     "output_type": "stream",
     "text": [
      "extract_think количество ошибок:  0\n",
      "extract_sql количество ошибок:  0\n",
      "Закончили генерацию SQL запросов\n",
      "Начали скорр полученных SQL запросов\n"
     ]
    },
    {
     "name": "stderr",
     "output_type": "stream",
     "text": [
      "\n"
     ]
    },
    {
     "name": "stdout",
     "output_type": "stream",
     "text": [
      "Qwen3-4B DEV Финальный результат EX: 74.35\n",
      "Qwen3-4B процент запросов, которые успешно выполнились DEV: 98.79%\n",
      "====================================================================================================\n",
      "\n",
      "\n",
      "Загружаем чаты с данными...\n",
      "Данные успешно загружены\n",
      "Начали генерацию SQL запросов\n"
     ]
    },
    {
     "name": "stderr",
     "output_type": "stream",
     "text": [
      "Processed prompts: 100%|██████████| 1076/1076 [00:54<00:00, 19.79it/s, est. speed input: 71366.78 toks/s, output: 640.49 toks/s] "
     ]
    },
    {
     "name": "stdout",
     "output_type": "stream",
     "text": [
      "extract_think количество ошибок:  0\n",
      "extract_sql количество ошибок:  0\n",
      "Закончили генерацию SQL запросов\n",
      "Начали скорр полученных SQL запросов\n"
     ]
    },
    {
     "name": "stderr",
     "output_type": "stream",
     "text": [
      "\n"
     ]
    },
    {
     "name": "stdout",
     "output_type": "stream",
     "text": [
      "Qwen3-4B DEV Финальный результат EX: 74.35\n",
      "Qwen3-4B процент запросов, которые успешно выполнились DEV: 99.16%\n",
      "====================================================================================================\n",
      "\n",
      "\n",
      "Загружаем чаты с данными...\n",
      "Данные успешно загружены\n",
      "Начали генерацию SQL запросов\n"
     ]
    },
    {
     "name": "stderr",
     "output_type": "stream",
     "text": [
      "Processed prompts: 100%|██████████| 1076/1076 [00:54<00:00, 19.70it/s, est. speed input: 71268.66 toks/s, output: 642.96 toks/s] "
     ]
    },
    {
     "name": "stdout",
     "output_type": "stream",
     "text": [
      "extract_think количество ошибок:  0\n",
      "extract_sql количество ошибок:  0\n",
      "Закончили генерацию SQL запросов\n",
      "Начали скорр полученных SQL запросов\n"
     ]
    },
    {
     "name": "stderr",
     "output_type": "stream",
     "text": [
      "\n"
     ]
    },
    {
     "name": "stdout",
     "output_type": "stream",
     "text": [
      "Qwen3-4B DEV Финальный результат EX: 74.44\n",
      "Qwen3-4B процент запросов, которые успешно выполнились DEV: 98.88%\n",
      "====================================================================================================\n",
      "\n",
      "\n",
      "Загружаем чаты с данными...\n",
      "Данные успешно загружены\n",
      "Начали генерацию SQL запросов\n"
     ]
    },
    {
     "name": "stderr",
     "output_type": "stream",
     "text": [
      "Processed prompts: 100%|██████████| 1076/1076 [00:53<00:00, 20.03it/s, est. speed input: 71647.78 toks/s, output: 657.92 toks/s] "
     ]
    },
    {
     "name": "stdout",
     "output_type": "stream",
     "text": [
      "extract_think количество ошибок:  0\n",
      "extract_sql количество ошибок:  0\n",
      "Закончили генерацию SQL запросов\n",
      "Начали скорр полученных SQL запросов\n"
     ]
    },
    {
     "name": "stderr",
     "output_type": "stream",
     "text": [
      "\n"
     ]
    },
    {
     "name": "stdout",
     "output_type": "stream",
     "text": [
      "Qwen3-4B DEV Финальный результат EX: 73.88\n",
      "Qwen3-4B процент запросов, которые успешно выполнились DEV: 98.79%\n",
      "====================================================================================================\n",
      "\n",
      "\n",
      "Загружаем чаты с данными...\n",
      "Данные успешно загружены\n",
      "Начали генерацию SQL запросов\n"
     ]
    },
    {
     "name": "stderr",
     "output_type": "stream",
     "text": [
      "Processed prompts: 100%|██████████| 1076/1076 [00:53<00:00, 19.99it/s, est. speed input: 71544.60 toks/s, output: 655.69 toks/s] "
     ]
    },
    {
     "name": "stdout",
     "output_type": "stream",
     "text": [
      "extract_think количество ошибок:  0\n",
      "extract_sql количество ошибок:  0\n",
      "Закончили генерацию SQL запросов\n",
      "Начали скорр полученных SQL запросов\n"
     ]
    },
    {
     "name": "stderr",
     "output_type": "stream",
     "text": [
      "\n"
     ]
    },
    {
     "name": "stdout",
     "output_type": "stream",
     "text": [
      "Qwen3-4B DEV Финальный результат EX: 74.35\n",
      "Qwen3-4B процент запросов, которые успешно выполнились DEV: 98.88%\n",
      "====================================================================================================\n",
      "\n",
      "\n",
      "Загружаем чаты с данными...\n",
      "Данные успешно загружены\n",
      "Начали генерацию SQL запросов\n"
     ]
    },
    {
     "name": "stderr",
     "output_type": "stream",
     "text": [
      "Processed prompts: 100%|██████████| 1076/1076 [00:54<00:00, 19.92it/s, est. speed input: 71011.80 toks/s, output: 657.19 toks/s] "
     ]
    },
    {
     "name": "stdout",
     "output_type": "stream",
     "text": [
      "extract_think количество ошибок:  0\n",
      "extract_sql количество ошибок:  0\n",
      "Закончили генерацию SQL запросов\n",
      "Начали скорр полученных SQL запросов\n"
     ]
    },
    {
     "name": "stderr",
     "output_type": "stream",
     "text": [
      "\n"
     ]
    },
    {
     "name": "stdout",
     "output_type": "stream",
     "text": [
      "Qwen3-4B DEV Финальный результат EX: 75.00\n",
      "Qwen3-4B процент запросов, которые успешно выполнились DEV: 98.98%\n",
      "====================================================================================================\n",
      "\n",
      "\n",
      "Загружаем чаты с данными...\n",
      "Данные успешно загружены\n",
      "Начали генерацию SQL запросов\n"
     ]
    },
    {
     "name": "stderr",
     "output_type": "stream",
     "text": [
      "Processed prompts: 100%|██████████| 1076/1076 [00:53<00:00, 19.99it/s, est. speed input: 70845.40 toks/s, output: 655.38 toks/s] "
     ]
    },
    {
     "name": "stdout",
     "output_type": "stream",
     "text": [
      "extract_think количество ошибок:  0\n",
      "extract_sql количество ошибок:  0\n",
      "Закончили генерацию SQL запросов\n",
      "Начали скорр полученных SQL запросов\n"
     ]
    },
    {
     "name": "stderr",
     "output_type": "stream",
     "text": [
      "\n"
     ]
    },
    {
     "name": "stdout",
     "output_type": "stream",
     "text": [
      "Qwen3-4B DEV Финальный результат EX: 73.70\n",
      "Qwen3-4B процент запросов, которые успешно выполнились DEV: 98.70%\n",
      "====================================================================================================\n",
      "\n",
      "\n",
      "Загружаем чаты с данными...\n",
      "Данные успешно загружены\n",
      "Начали генерацию SQL запросов\n"
     ]
    },
    {
     "name": "stderr",
     "output_type": "stream",
     "text": [
      "Processed prompts: 100%|██████████| 1076/1076 [00:53<00:00, 20.10it/s, est. speed input: 71426.91 toks/s, output: 658.25 toks/s] "
     ]
    },
    {
     "name": "stdout",
     "output_type": "stream",
     "text": [
      "extract_think количество ошибок:  0\n",
      "extract_sql количество ошибок:  0\n",
      "Закончили генерацию SQL запросов\n",
      "Начали скорр полученных SQL запросов\n"
     ]
    },
    {
     "name": "stderr",
     "output_type": "stream",
     "text": [
      "\n"
     ]
    },
    {
     "name": "stdout",
     "output_type": "stream",
     "text": [
      "Qwen3-4B DEV Финальный результат EX: 74.72\n",
      "Qwen3-4B процент запросов, которые успешно выполнились DEV: 99.07%\n",
      "====================================================================================================\n",
      "\n",
      "\n",
      "Загружаем чаты с данными...\n",
      "Данные успешно загружены\n",
      "Начали генерацию SQL запросов\n"
     ]
    },
    {
     "name": "stderr",
     "output_type": "stream",
     "text": [
      "Processed prompts: 100%|██████████| 1076/1076 [00:53<00:00, 20.08it/s, est. speed input: 71315.02 toks/s, output: 658.85 toks/s] "
     ]
    },
    {
     "name": "stdout",
     "output_type": "stream",
     "text": [
      "extract_think количество ошибок:  0\n",
      "extract_sql количество ошибок:  0\n",
      "Закончили генерацию SQL запросов\n",
      "Начали скорр полученных SQL запросов\n"
     ]
    },
    {
     "name": "stderr",
     "output_type": "stream",
     "text": [
      "\n"
     ]
    },
    {
     "name": "stdout",
     "output_type": "stream",
     "text": [
      "Qwen3-4B DEV Финальный результат EX: 74.35\n",
      "Qwen3-4B процент запросов, которые успешно выполнились DEV: 98.98%\n",
      "====================================================================================================\n",
      "\n",
      "\n",
      "Загружаем чаты с данными...\n",
      "Данные успешно загружены\n",
      "Начали генерацию SQL запросов\n"
     ]
    },
    {
     "name": "stderr",
     "output_type": "stream",
     "text": [
      "Processed prompts: 100%|██████████| 1076/1076 [00:54<00:00, 19.65it/s, est. speed input: 70524.26 toks/s, output: 647.03 toks/s] "
     ]
    },
    {
     "name": "stdout",
     "output_type": "stream",
     "text": [
      "extract_think количество ошибок:  0\n",
      "extract_sql количество ошибок:  0\n",
      "Закончили генерацию SQL запросов\n",
      "Начали скорр полученных SQL запросов\n"
     ]
    },
    {
     "name": "stderr",
     "output_type": "stream",
     "text": [
      "\n"
     ]
    },
    {
     "name": "stdout",
     "output_type": "stream",
     "text": [
      "Qwen3-4B DEV Финальный результат EX: 73.79\n",
      "Qwen3-4B процент запросов, которые успешно выполнились DEV: 98.51%\n",
      "====================================================================================================\n",
      "\n",
      "\n"
     ]
    }
   ],
   "source": [
    "run_cot_experiment(model,arr_seeds,arr_versions, type_cot,num_observations=num_observations)"
   ]
  },
  {
   "cell_type": "code",
   "execution_count": 25,
   "id": "297e4c3e-c5be-4721-b770-83fa97d03f5e",
   "metadata": {},
   "outputs": [
    {
     "name": "stdout",
     "output_type": "stream",
     "text": [
      "[875, 530, 480, 705, 230, 688, 754, 202, 233, 434, 518, 91, 756, 634, 473, 307, 725, 314, 902, 361]\n",
      "model: Qwen3-4B\n"
     ]
    }
   ],
   "source": [
    "n= 20\n",
    "arr_seeds = [random.randint(0,1000) for _ in range(n)]\n",
    "arr_versions = [x for x in range(n)]\n",
    "model = \"Qwen3-4B\"\n",
    "num_observations = 5\n",
    "type_cot = 'think'\n",
    "print(arr_seeds)\n",
    "print(f\"model: {model}\")"
   ]
  },
  {
   "cell_type": "code",
   "execution_count": 26,
   "id": "604c03b5-0971-48e5-8b26-be78a74e2b9d",
   "metadata": {
    "scrolled": true
   },
   "outputs": [
    {
     "name": "stdout",
     "output_type": "stream",
     "text": [
      "Загружаем модель...\n"
     ]
    },
    {
     "name": "stderr",
     "output_type": "stream",
     "text": [
      "Loading safetensors checkpoint shards:   0% Completed | 0/3 [00:00<?, ?it/s]\n",
      "Loading safetensors checkpoint shards:  33% Completed | 1/3 [00:01<00:02,  1.35s/it]\n",
      "Loading safetensors checkpoint shards: 100% Completed | 3/3 [00:02<00:00,  1.13it/s]\n",
      "Loading safetensors checkpoint shards: 100% Completed | 3/3 [00:02<00:00,  1.08it/s]\n",
      "\u001b[1;36m(VllmWorker rank=0 pid=3884986)\u001b[0;0m \n"
     ]
    },
    {
     "name": "stdout",
     "output_type": "stream",
     "text": [
      "Модель успешно загружена\n",
      "model_config {'model': '/data/home/vkropoti/models/Qwen3-4B', 'tensor_parallel_size': 2, 'max_model_len': 40000, 'max_new_tokens': 1500, 'temperature': 0, 'top_k': 1, 'top_p': 0.8, 'gpu_memory_utilization': 0.9, 'trust_remote_code': False, 'seed': 875}\n",
      "\n",
      "prompts_config {'path_dev_json': '/data/home/vkropoti/sql_data/dev_spider.json', 'path_sql_dbs': '/data/home/vkropoti/sql_data/data_bases_spider/', 'use_reasoning': False, 'paths_to_cot': ['/data/home/vkropoti/sql_llm_answers/spider_dev_m_schema/sql_think_Qwen3-4B-reasoning-v0', '/data/home/vkropoti/sql_llm_answers/spider_dev_m_schema/sql_think_Qwen3-4B-reasoning-v1', '/data/home/vkropoti/sql_llm_answers/spider_dev_m_schema/sql_think_Qwen3-4B-reasoning-v2', '/data/home/vkropoti/sql_llm_answers/spider_dev_m_schema/sql_think_Qwen3-4B-reasoning-v3', '/data/home/vkropoti/sql_llm_answers/spider_dev_m_schema/sql_think_Qwen3-4B-reasoning-v4']}\n",
      "\n",
      "save_config {'path_sql_save': '/data/home/vkropoti/sql_llm_answers/spider_dev_m_schema/sql_all_Qwen3-4B-cot_think_think==False_nobs5-v0', 'path_think_save': None, 'path_sql_answers_save': '/data/home/vkropoti/sql_llm_answers/spider_dev_m_schema/sql_predict_Qwen3-4B-cot_think_think==False_nobs5-v0', 'path_to_save_scores': '/data/home/vkropoti/sql_llm_answers/spider_dev_m_schema/sql_results_Qwen3-4B-cot_think_think==False_nobs5-v0', 'path_to_save_executed': '/data/home/vkropoti/sql_llm_answers/spider_dev_m_schema/sql_executed_Qwen3-4B-cot_think_think==False_nobs5-v0'}\n",
      "\n",
      "Модель успешно загружена\n",
      "Пример промпта\n",
      "<|im_start|>system\n",
      "\n",
      "You are a data science expert. Below, you are provided with a database schema and a natural language question. Your task is to understand the schema and generate a valid SQL query to answer the question.\n",
      "\n",
      "Database Engine: SQLite\n",
      "\n",
      "You will be given an additional analysis of other models, please take it into account, so the plan is\n",
      "1. Analyse given addition analysis from other models (find in which analysis the same and differ, how to use that to answer question)\n",
      "2. Combine best from previous part and think how to solve the problem (analyze tables, take care what columns avaliable in each table and so on, check the syntacsis)\n",
      "3. Create the answers. The answer should be only sql query.\n",
      "\n",
      "Carefully follow the instruction and add <|im_end|> and the end of the final answer<|im_end|>\n",
      "<|im_start|>user\n",
      "Here is addition analysis from other models which can be helpfull, please take this into account but be careful (choose the best from each analysis, combine them to make the most proper answer):\n",
      "\n",
      "model 0 analysis:\n",
      " Okay, let's see. The user is asking \"How many singers do we have?\" So I need to find the number of singers in the database.\n",
      "\n",
      "Looking at the tables provided, there's a 'singer' table. The 'singer' table has a primary key 'Singer_ID', which uniquely identifies each singer. So the number of singers should be the count of distinct Singer_IDs in the singer table.\n",
      "\n",
      "Wait, but maybe there's a possibility of duplicates? But since Singer_ID is the primary key, each entry is unique. So just counting the number of rows in the singer table would give the correct number. Alternatively, using COUNT(*) or COUNT(Singer_ID) would work.\n",
      "\n",
      "But the question is about the number of singers, so the answer is the count of all entries in the singer table. So the SQL query should be SELECT COUNT(*) FROM singer;.\n",
      "\n",
      "Let me check if there are any other tables that might have singer information. The 'singer_in_concert' table links singers to concerts, but that's a many-to-many relationship. The 'singer' table itself contains all the singers. So the correct approach is to count the rows in the singer table.\n",
      "\n",
      "Yes, so the correct SQL is to select the count of all rows from the singer table. That should give the total number of singers.\n",
      "\n",
      "model 1 analysis:\n",
      " Okay, let's see. The user is asking \"How many singers do we have?\" So I need to find the number of singers in the database.\n",
      "\n",
      "Looking at the tables, there's a 'singer' table. The 'singer' table has a primary key 'Singer_ID', which is an integer. Each row in this table represents a singer. So the number of singers should be the count of distinct Singer_IDs in the singer table.\n",
      "\n",
      "Wait, but maybe there's a possibility of duplicates? But since Singer_ID is the primary key, each entry is unique. So just counting the number of rows in the singer table would give the correct count.\n",
      "\n",
      "Alternatively, using COUNT(*) would also work. But since the question is about the number of singers, which is the count of distinct entries, either COUNT(*) or COUNT(Singer_ID) would work. But since Singer_ID is the primary key, it's guaranteed to be unique, so COUNT(*) is sufficient.\n",
      "\n",
      "So the SQL query would be SELECT COUNT(*) FROM singer;\n",
      "\n",
      "I need to make sure that the table name is correct. The table is called 'singer' as per the schema provided. The columns are correctly named. No need to join with other tables because the question is straightforward—just the count of singers in the singer table.\n",
      "\n",
      "Yes, that's it. The answer should be a simple SELECT COUNT(*) FROM singer;\n",
      "\n",
      "model 2 analysis:\n",
      " Okay, let's see. The user is asking \"How many singers do we have?\" So I need to find the number of singers in the database.\n",
      "\n",
      "Looking at the tables, there's a 'singer' table. The schema for the singer table includes Singer_ID, Name, Country, Song_Name, Song_release_year, Age, and Is_male. The Singer_ID is the primary key, which means each row represents a unique singer. \n",
      "\n",
      "Since the question is about counting the number of singers, the correct approach is to count the number of rows in the singer table. The SQL function COUNT() can be used here. The simplest query would be SELECT COUNT(*) FROM singer; \n",
      "\n",
      "I need to make sure there are no other tables involved. The other tables like concert, stadium, and singer_in_concert don't seem relevant here because they relate to concerts and stadiums, not the count of singers. The singer table is the only one that contains singer information. \n",
      "\n",
      "So the answer should be a single SQL query that counts all rows in the singer table. No joins or additional conditions are needed. The COUNT(*) function will return the total number of singers.\n",
      "\n",
      "model 3 analysis:\n",
      " Okay, let's see. The user is asking \"How many singers do we have?\" So I need to find the number of singers in the database.\n",
      "\n",
      "Looking at the tables provided, there's a 'singer' table. The 'singer' table has a primary key 'Singer_ID', which is an integer. Each entry in this table represents a unique singer. So the number of singers should be the count of rows in the 'singer' table.\n",
      "\n",
      "Wait, but I need to make sure there are no duplicates or anything. But since 'Singer_ID' is the primary key, each row is unique. So counting the number of rows in the 'singer' table should give the correct count.\n",
      "\n",
      "So the SQL query would be a simple SELECT COUNT(*) FROM singer. That should return the total number of singers. Let me check if there's any other table that might have singer information. The 'singer_in_concert' table links singers to concerts, but that's a many-to-many relationship. The 'singer' table itself is the source of singer data. So yes, the answer is to count the rows in the singer table.\n",
      "\n",
      "model 4 analysis:\n",
      " Okay, let's see. The user is asking \"How many singers do we have?\" So I need to find the number of singers in the database.\n",
      "\n",
      "Looking at the tables, there's a 'singer' table. The 'singer' table has a primary key 'Singer_ID', which uniquely identifies each singer. So the number of singers should be the count of distinct Singer_IDs in the singer table.\n",
      "\n",
      "Wait, but maybe there's a possibility of duplicate entries? But since Singer_ID is the primary key, each entry is unique. So counting the number of rows in the singer table would give the correct number. Alternatively, using COUNT(*) would work too.\n",
      "\n",
      "So the SQL query would be SELECT COUNT(*) FROM singer; or maybe SELECT COUNT(Singer_ID) FROM singer;. But since Singer_ID is the primary key, both should work. But the user might have a table with possible NULLs, but the schema says Singer_ID is an integer primary key, so it's not nullable. Therefore, COUNT(*) is safe.\n",
      "\n",
      "But the question is about the number of singers. So the correct query is to count the number of rows in the singer table. So the answer is SELECT COUNT(*) FROM singer;\n",
      "\n",
      "\n",
      "here is avaliable tables and their structure below\n",
      "【DB_ID】 concert_singer\n",
      "【Schema】\n",
      "# Table: concert\n",
      "[\n",
      "(concert_ID:INTEGER, Primary Key, Examples: [1, 2, 3]),\n",
      "(concert_Name:TEXT, Examples: [Auditions, Super bootcamp, Home Visits]),\n",
      "(Theme:TEXT, Examples: [Free choice, Free choice 2, Bleeding Love]),\n",
      "(Stadium_ID:TEXT, maps to stadium.Stadium_ID, Examples: [1, 2, 10]),\n",
      "(Year:TEXT, Examples: [2014, 2015, 2016])\n",
      "]\n",
      "# Table: singer\n",
      "[\n",
      "(Singer_ID:INTEGER, Primary Key, Examples: [1, 2, 3]),\n",
      "(Name:TEXT, Examples: [Joe Sharp, Timbaland, Justin Brown]),\n",
      "(Country:TEXT, Examples: [Netherlands, United States, France]),\n",
      "(Song_Name:TEXT, Examples: [You, Dangerous, Hey Oh]),\n",
      "(Song_release_year:TEXT, Examples: [1992, 2008, 2013]),\n",
      "(Age:INTEGER, Examples: [52, 32, 29]),\n",
      "(Is_male:BOOLEAN, Examples: [False, True])\n",
      "]\n",
      "# Table: singer_in_concert\n",
      "[\n",
      "(concert_ID:INTEGER, maps to concert.concert_ID, Primary Key, Examples: [1, 2, 3]),\n",
      "(Singer_ID:TEXT, maps to singer.Singer_ID, Primary Key, Examples: [2, 3, 5])\n",
      "]\n",
      "# Table: stadium\n",
      "[\n",
      "(Stadium_ID:INTEGER, Primary Key, Examples: [1, 2, 3]),\n",
      "(Location:TEXT, Examples: [Raith Rovers, Ayr United, East Fife]),\n",
      "(Name:TEXT, Examples: [Stark's Park, Somerset Park, Bayview Stadium]),\n",
      "(Capacity:INTEGER, Examples: [10104, 11998, 2000]),\n",
      "(Highest:INTEGER, Examples: [4812, 2363, 1980]),\n",
      "(Lowest:INTEGER, Examples: [1294, 1057, 533]),\n",
      "(Average:INTEGER, Examples: [2106, 1477, 864])\n",
      "]\n",
      "【Foreign keys】\n",
      "concert.Stadium_ID=stadium.Stadium_ID\n",
      "singer_in_concert.concert_ID=concert.concert_ID\n",
      "singer_in_concert.Singer_ID=singer.Singer_ID\n",
      "\n",
      "-- Using valid SQLite, answer the following questions for the tables provided above.\n",
      "-- How many singers do we have?\n",
      "\n",
      "\n",
      "\n",
      "Generate the SQLite for the above question after thinking step by step: \n",
      "\n",
      "\n",
      "Instructions:\n",
      "- Make sure you only output the information that is asked in the question. If the question asks for a specific column, make sure to only include that column in the SELECT clause, nothing more.\n",
      "- The generated query should return all of the information asked in the question without any missing or extra information.\n",
      "- Before generating the final SQL query, please think through the steps of how to write the query.\n",
      "- Do not misuse column names, keep them in quotes `\n",
      "- Carefully understand what colomns belond to what tables\n",
      "- Use only initial column names, change names prohibited\n",
      "        \n",
      "Output Format:\n",
      "In your answer, please enclose the generated SQL query in a code block:\n",
      "```\n",
      "-- Your SQL query\n",
      "```    \n",
      "and nothing else, no exaplains, no comments (asnwer should be less than 512 characters)\n",
      "\n",
      "Take a deep breath and think step by step to find the correct SQL query in SQLite format.\n",
      "\n",
      "Question repetition: How many singers do we have?\n",
      "\n",
      "Be care! Include only what i want it questiona and nothing else<|im_end|>\n",
      "<|im_start|>assistant\n",
      "<think>\n",
      "\n",
      "</think>\n",
      "\n",
      "\n",
      "\n",
      "\n",
      "Максимальное количество токенов в промптах: 27227\n",
      "\n",
      "начинаем скорринг\n",
      "Загружаем чаты с данными...\n",
      "Данные успешно загружены\n",
      "Начали генерацию SQL запросов\n"
     ]
    },
    {
     "name": "stderr",
     "output_type": "stream",
     "text": [
      "Processed prompts: 100%|██████████| 1076/1076 [01:06<00:00, 16.21it/s, est. speed input: 68384.55 toks/s, output: 535.61 toks/s] "
     ]
    },
    {
     "name": "stdout",
     "output_type": "stream",
     "text": [
      "extract_think количество ошибок:  0\n",
      "extract_sql количество ошибок:  0\n",
      "Закончили генерацию SQL запросов\n",
      "Начали скорр полученных SQL запросов\n"
     ]
    },
    {
     "name": "stderr",
     "output_type": "stream",
     "text": [
      "\n"
     ]
    },
    {
     "name": "stdout",
     "output_type": "stream",
     "text": [
      "Qwen3-4B DEV Финальный результат EX: 73.70\n",
      "Qwen3-4B процент запросов, которые успешно выполнились DEV: 99.07%\n",
      "====================================================================================================\n",
      "\n",
      "\n",
      "Загружаем чаты с данными...\n",
      "Данные успешно загружены\n",
      "Начали генерацию SQL запросов\n"
     ]
    },
    {
     "name": "stderr",
     "output_type": "stream",
     "text": [
      "Processed prompts: 100%|██████████| 1076/1076 [01:06<00:00, 16.21it/s, est. speed input: 68544.61 toks/s, output: 531.79 toks/s] "
     ]
    },
    {
     "name": "stdout",
     "output_type": "stream",
     "text": [
      "extract_think количество ошибок:  0\n",
      "extract_sql количество ошибок:  0\n",
      "Закончили генерацию SQL запросов\n",
      "Начали скорр полученных SQL запросов\n"
     ]
    },
    {
     "name": "stderr",
     "output_type": "stream",
     "text": [
      "\n"
     ]
    },
    {
     "name": "stdout",
     "output_type": "stream",
     "text": [
      "Qwen3-4B DEV Финальный результат EX: 74.16\n",
      "Qwen3-4B процент запросов, которые успешно выполнились DEV: 98.79%\n",
      "====================================================================================================\n",
      "\n",
      "\n",
      "Загружаем чаты с данными...\n",
      "Данные успешно загружены\n",
      "Начали генерацию SQL запросов\n"
     ]
    },
    {
     "name": "stderr",
     "output_type": "stream",
     "text": [
      "Processed prompts: 100%|██████████| 1076/1076 [01:06<00:00, 16.23it/s, est. speed input: 68752.17 toks/s, output: 535.67 toks/s] "
     ]
    },
    {
     "name": "stdout",
     "output_type": "stream",
     "text": [
      "extract_think количество ошибок:  0\n",
      "extract_sql количество ошибок:  0\n",
      "Закончили генерацию SQL запросов\n",
      "Начали скорр полученных SQL запросов\n"
     ]
    },
    {
     "name": "stderr",
     "output_type": "stream",
     "text": [
      "\n"
     ]
    },
    {
     "name": "stdout",
     "output_type": "stream",
     "text": [
      "Qwen3-4B DEV Финальный результат EX: 73.61\n",
      "Qwen3-4B процент запросов, которые успешно выполнились DEV: 98.70%\n",
      "====================================================================================================\n",
      "\n",
      "\n",
      "Загружаем чаты с данными...\n",
      "Данные успешно загружены\n",
      "Начали генерацию SQL запросов\n"
     ]
    },
    {
     "name": "stderr",
     "output_type": "stream",
     "text": [
      "Processed prompts: 100%|██████████| 1076/1076 [01:05<00:00, 16.34it/s, est. speed input: 68702.80 toks/s, output: 535.08 toks/s] "
     ]
    },
    {
     "name": "stdout",
     "output_type": "stream",
     "text": [
      "extract_think количество ошибок:  0\n",
      "extract_sql количество ошибок:  0\n",
      "Закончили генерацию SQL запросов\n",
      "Начали скорр полученных SQL запросов\n"
     ]
    },
    {
     "name": "stderr",
     "output_type": "stream",
     "text": [
      "\n"
     ]
    },
    {
     "name": "stdout",
     "output_type": "stream",
     "text": [
      "Qwen3-4B DEV Финальный результат EX: 73.98\n",
      "Qwen3-4B процент запросов, которые успешно выполнились DEV: 98.70%\n",
      "====================================================================================================\n",
      "\n",
      "\n",
      "Загружаем чаты с данными...\n",
      "Данные успешно загружены\n",
      "Начали генерацию SQL запросов\n"
     ]
    },
    {
     "name": "stderr",
     "output_type": "stream",
     "text": [
      "Processed prompts: 100%|██████████| 1076/1076 [01:06<00:00, 16.27it/s, est. speed input: 68792.63 toks/s, output: 527.44 toks/s] "
     ]
    },
    {
     "name": "stdout",
     "output_type": "stream",
     "text": [
      "extract_think количество ошибок:  0\n",
      "extract_sql количество ошибок:  0\n",
      "Закончили генерацию SQL запросов\n",
      "Начали скорр полученных SQL запросов\n"
     ]
    },
    {
     "name": "stderr",
     "output_type": "stream",
     "text": [
      "\n"
     ]
    },
    {
     "name": "stdout",
     "output_type": "stream",
     "text": [
      "Qwen3-4B DEV Финальный результат EX: 74.16\n",
      "Qwen3-4B процент запросов, которые успешно выполнились DEV: 98.88%\n",
      "====================================================================================================\n",
      "\n",
      "\n",
      "Загружаем чаты с данными...\n",
      "Данные успешно загружены\n",
      "Начали генерацию SQL запросов\n"
     ]
    },
    {
     "name": "stderr",
     "output_type": "stream",
     "text": [
      "Processed prompts: 100%|██████████| 1076/1076 [01:06<00:00, 16.08it/s, est. speed input: 68245.35 toks/s, output: 525.87 toks/s] "
     ]
    },
    {
     "name": "stdout",
     "output_type": "stream",
     "text": [
      "extract_think количество ошибок:  0\n",
      "extract_sql количество ошибок:  0\n",
      "Закончили генерацию SQL запросов\n",
      "Начали скорр полученных SQL запросов\n"
     ]
    },
    {
     "name": "stderr",
     "output_type": "stream",
     "text": [
      "\n"
     ]
    },
    {
     "name": "stdout",
     "output_type": "stream",
     "text": [
      "Qwen3-4B DEV Финальный результат EX: 73.51\n",
      "Qwen3-4B процент запросов, которые успешно выполнились DEV: 98.98%\n",
      "====================================================================================================\n",
      "\n",
      "\n",
      "Загружаем чаты с данными...\n",
      "Данные успешно загружены\n",
      "Начали генерацию SQL запросов\n"
     ]
    },
    {
     "name": "stderr",
     "output_type": "stream",
     "text": [
      "Processed prompts: 100%|██████████| 1076/1076 [01:06<00:00, 16.23it/s, est. speed input: 68539.67 toks/s, output: 531.50 toks/s] "
     ]
    },
    {
     "name": "stdout",
     "output_type": "stream",
     "text": [
      "extract_think количество ошибок:  0\n",
      "extract_sql количество ошибок:  0\n",
      "Закончили генерацию SQL запросов\n",
      "Начали скорр полученных SQL запросов\n"
     ]
    },
    {
     "name": "stderr",
     "output_type": "stream",
     "text": [
      "\n"
     ]
    },
    {
     "name": "stdout",
     "output_type": "stream",
     "text": [
      "Qwen3-4B DEV Финальный результат EX: 73.70\n",
      "Qwen3-4B процент запросов, которые успешно выполнились DEV: 99.16%\n",
      "====================================================================================================\n",
      "\n",
      "\n",
      "Загружаем чаты с данными...\n",
      "Данные успешно загружены\n",
      "Начали генерацию SQL запросов\n"
     ]
    },
    {
     "name": "stderr",
     "output_type": "stream",
     "text": [
      "Processed prompts: 100%|██████████| 1076/1076 [01:06<00:00, 16.29it/s, est. speed input: 68593.03 toks/s, output: 535.06 toks/s] "
     ]
    },
    {
     "name": "stdout",
     "output_type": "stream",
     "text": [
      "extract_think количество ошибок:  0\n",
      "extract_sql количество ошибок:  0\n",
      "Закончили генерацию SQL запросов\n",
      "Начали скорр полученных SQL запросов\n"
     ]
    },
    {
     "name": "stderr",
     "output_type": "stream",
     "text": [
      "\n"
     ]
    },
    {
     "name": "stdout",
     "output_type": "stream",
     "text": [
      "Qwen3-4B DEV Финальный результат EX: 74.16\n",
      "Qwen3-4B процент запросов, которые успешно выполнились DEV: 98.42%\n",
      "====================================================================================================\n",
      "\n",
      "\n",
      "Загружаем чаты с данными...\n",
      "Данные успешно загружены\n",
      "Начали генерацию SQL запросов\n"
     ]
    },
    {
     "name": "stderr",
     "output_type": "stream",
     "text": [
      "Processed prompts: 100%|██████████| 1076/1076 [01:06<00:00, 16.10it/s, est. speed input: 68218.86 toks/s, output: 530.03 toks/s] "
     ]
    },
    {
     "name": "stdout",
     "output_type": "stream",
     "text": [
      "extract_think количество ошибок:  0\n",
      "extract_sql количество ошибок:  0\n",
      "Закончили генерацию SQL запросов\n",
      "Начали скорр полученных SQL запросов\n"
     ]
    },
    {
     "name": "stderr",
     "output_type": "stream",
     "text": [
      "\n"
     ]
    },
    {
     "name": "stdout",
     "output_type": "stream",
     "text": [
      "Qwen3-4B DEV Финальный результат EX: 73.42\n",
      "Qwen3-4B процент запросов, которые успешно выполнились DEV: 98.23%\n",
      "====================================================================================================\n",
      "\n",
      "\n",
      "Загружаем чаты с данными...\n",
      "Данные успешно загружены\n",
      "Начали генерацию SQL запросов\n"
     ]
    },
    {
     "name": "stderr",
     "output_type": "stream",
     "text": [
      "Processed prompts: 100%|██████████| 1076/1076 [01:06<00:00, 16.19it/s, est. speed input: 68450.19 toks/s, output: 528.88 toks/s] "
     ]
    },
    {
     "name": "stdout",
     "output_type": "stream",
     "text": [
      "extract_think количество ошибок:  0\n",
      "extract_sql количество ошибок:  0\n",
      "Закончили генерацию SQL запросов\n",
      "Начали скорр полученных SQL запросов\n"
     ]
    },
    {
     "name": "stderr",
     "output_type": "stream",
     "text": [
      "\n"
     ]
    },
    {
     "name": "stdout",
     "output_type": "stream",
     "text": [
      "Qwen3-4B DEV Финальный результат EX: 74.44\n",
      "Qwen3-4B процент запросов, которые успешно выполнились DEV: 98.88%\n",
      "====================================================================================================\n",
      "\n",
      "\n",
      "Загружаем чаты с данными...\n",
      "Данные успешно загружены\n",
      "Начали генерацию SQL запросов\n"
     ]
    },
    {
     "name": "stderr",
     "output_type": "stream",
     "text": [
      "Processed prompts: 100%|██████████| 1076/1076 [01:06<00:00, 16.26it/s, est. speed input: 68388.45 toks/s, output: 531.93 toks/s] "
     ]
    },
    {
     "name": "stdout",
     "output_type": "stream",
     "text": [
      "extract_think количество ошибок:  0\n",
      "extract_sql количество ошибок:  0\n",
      "Закончили генерацию SQL запросов\n",
      "Начали скорр полученных SQL запросов\n"
     ]
    },
    {
     "name": "stderr",
     "output_type": "stream",
     "text": [
      "\n"
     ]
    },
    {
     "name": "stdout",
     "output_type": "stream",
     "text": [
      "Qwen3-4B DEV Финальный результат EX: 73.98\n",
      "Qwen3-4B процент запросов, которые успешно выполнились DEV: 98.88%\n",
      "====================================================================================================\n",
      "\n",
      "\n",
      "Загружаем чаты с данными...\n",
      "Данные успешно загружены\n",
      "Начали генерацию SQL запросов\n"
     ]
    },
    {
     "name": "stderr",
     "output_type": "stream",
     "text": [
      "Processed prompts: 100%|██████████| 1076/1076 [01:05<00:00, 16.30it/s, est. speed input: 68987.85 toks/s, output: 531.79 toks/s] "
     ]
    },
    {
     "name": "stdout",
     "output_type": "stream",
     "text": [
      "extract_think количество ошибок:  0\n",
      "extract_sql количество ошибок:  0\n",
      "Закончили генерацию SQL запросов\n",
      "Начали скорр полученных SQL запросов\n"
     ]
    },
    {
     "name": "stderr",
     "output_type": "stream",
     "text": [
      "\n"
     ]
    },
    {
     "name": "stdout",
     "output_type": "stream",
     "text": [
      "Qwen3-4B DEV Финальный результат EX: 74.91\n",
      "Qwen3-4B процент запросов, которые успешно выполнились DEV: 98.61%\n",
      "====================================================================================================\n",
      "\n",
      "\n",
      "Загружаем чаты с данными...\n",
      "Данные успешно загружены\n",
      "Начали генерацию SQL запросов\n"
     ]
    },
    {
     "name": "stderr",
     "output_type": "stream",
     "text": [
      "Processed prompts: 100%|██████████| 1076/1076 [01:05<00:00, 16.40it/s, est. speed input: 69152.39 toks/s, output: 536.26 toks/s] "
     ]
    },
    {
     "name": "stdout",
     "output_type": "stream",
     "text": [
      "extract_think количество ошибок:  0\n",
      "extract_sql количество ошибок:  0\n",
      "Закончили генерацию SQL запросов\n",
      "Начали скорр полученных SQL запросов\n"
     ]
    },
    {
     "name": "stderr",
     "output_type": "stream",
     "text": [
      "\n"
     ]
    },
    {
     "name": "stdout",
     "output_type": "stream",
     "text": [
      "Qwen3-4B DEV Финальный результат EX: 74.16\n",
      "Qwen3-4B процент запросов, которые успешно выполнились DEV: 98.88%\n",
      "====================================================================================================\n",
      "\n",
      "\n",
      "Загружаем чаты с данными...\n",
      "Данные успешно загружены\n",
      "Начали генерацию SQL запросов\n"
     ]
    },
    {
     "name": "stderr",
     "output_type": "stream",
     "text": [
      "Processed prompts: 100%|██████████| 1076/1076 [01:05<00:00, 16.37it/s, est. speed input: 68743.08 toks/s, output: 539.27 toks/s] "
     ]
    },
    {
     "name": "stdout",
     "output_type": "stream",
     "text": [
      "extract_think количество ошибок:  0\n",
      "extract_sql количество ошибок:  0\n",
      "Закончили генерацию SQL запросов\n",
      "Начали скорр полученных SQL запросов\n"
     ]
    },
    {
     "name": "stderr",
     "output_type": "stream",
     "text": [
      "\n"
     ]
    },
    {
     "name": "stdout",
     "output_type": "stream",
     "text": [
      "Qwen3-4B DEV Финальный результат EX: 74.16\n",
      "Qwen3-4B процент запросов, которые успешно выполнились DEV: 99.07%\n",
      "====================================================================================================\n",
      "\n",
      "\n",
      "Загружаем чаты с данными...\n",
      "Данные успешно загружены\n",
      "Начали генерацию SQL запросов\n"
     ]
    },
    {
     "name": "stderr",
     "output_type": "stream",
     "text": [
      "Processed prompts: 100%|██████████| 1076/1076 [01:05<00:00, 16.47it/s, est. speed input: 68897.39 toks/s, output: 538.72 toks/s] "
     ]
    },
    {
     "name": "stdout",
     "output_type": "stream",
     "text": [
      "extract_think количество ошибок:  0\n",
      "extract_sql количество ошибок:  0\n",
      "Закончили генерацию SQL запросов\n",
      "Начали скорр полученных SQL запросов\n"
     ]
    },
    {
     "name": "stderr",
     "output_type": "stream",
     "text": [
      "\n"
     ]
    },
    {
     "name": "stdout",
     "output_type": "stream",
     "text": [
      "Qwen3-4B DEV Финальный результат EX: 74.81\n",
      "Qwen3-4B процент запросов, которые успешно выполнились DEV: 98.79%\n",
      "====================================================================================================\n",
      "\n",
      "\n",
      "Загружаем чаты с данными...\n",
      "Данные успешно загружены\n",
      "Начали генерацию SQL запросов\n"
     ]
    },
    {
     "name": "stderr",
     "output_type": "stream",
     "text": [
      "Processed prompts: 100%|██████████| 1076/1076 [01:04<00:00, 16.58it/s, est. speed input: 69144.85 toks/s, output: 544.73 toks/s] "
     ]
    },
    {
     "name": "stdout",
     "output_type": "stream",
     "text": [
      "extract_think количество ошибок:  0\n",
      "extract_sql количество ошибок:  0\n",
      "Закончили генерацию SQL запросов\n",
      "Начали скорр полученных SQL запросов\n"
     ]
    },
    {
     "name": "stderr",
     "output_type": "stream",
     "text": [
      "\n"
     ]
    },
    {
     "name": "stdout",
     "output_type": "stream",
     "text": [
      "Qwen3-4B DEV Финальный результат EX: 73.79\n",
      "Qwen3-4B процент запросов, которые успешно выполнились DEV: 98.42%\n",
      "====================================================================================================\n",
      "\n",
      "\n",
      "Загружаем чаты с данными...\n",
      "Данные успешно загружены\n",
      "Начали генерацию SQL запросов\n"
     ]
    },
    {
     "name": "stderr",
     "output_type": "stream",
     "text": [
      "Processed prompts: 100%|██████████| 1076/1076 [01:04<00:00, 16.59it/s, est. speed input: 68886.14 toks/s, output: 543.30 toks/s] "
     ]
    },
    {
     "name": "stdout",
     "output_type": "stream",
     "text": [
      "extract_think количество ошибок:  0\n",
      "extract_sql количество ошибок:  0\n",
      "Закончили генерацию SQL запросов\n",
      "Начали скорр полученных SQL запросов\n"
     ]
    },
    {
     "name": "stderr",
     "output_type": "stream",
     "text": [
      "\n"
     ]
    },
    {
     "name": "stdout",
     "output_type": "stream",
     "text": [
      "Qwen3-4B DEV Финальный результат EX: 74.16\n",
      "Qwen3-4B процент запросов, которые успешно выполнились DEV: 98.79%\n",
      "====================================================================================================\n",
      "\n",
      "\n",
      "Загружаем чаты с данными...\n",
      "Данные успешно загружены\n",
      "Начали генерацию SQL запросов\n"
     ]
    },
    {
     "name": "stderr",
     "output_type": "stream",
     "text": [
      "Processed prompts: 100%|██████████| 1076/1076 [01:05<00:00, 16.46it/s, est. speed input: 68707.32 toks/s, output: 543.40 toks/s] "
     ]
    },
    {
     "name": "stdout",
     "output_type": "stream",
     "text": [
      "extract_think количество ошибок:  0\n",
      "extract_sql количество ошибок:  0\n",
      "Закончили генерацию SQL запросов\n",
      "Начали скорр полученных SQL запросов\n"
     ]
    },
    {
     "name": "stderr",
     "output_type": "stream",
     "text": [
      "\n"
     ]
    },
    {
     "name": "stdout",
     "output_type": "stream",
     "text": [
      "Qwen3-4B DEV Финальный результат EX: 73.98\n",
      "Qwen3-4B процент запросов, которые успешно выполнились DEV: 99.07%\n",
      "====================================================================================================\n",
      "\n",
      "\n",
      "Загружаем чаты с данными...\n",
      "Данные успешно загружены\n",
      "Начали генерацию SQL запросов\n"
     ]
    },
    {
     "name": "stderr",
     "output_type": "stream",
     "text": [
      "Processed prompts: 100%|██████████| 1076/1076 [01:06<00:00, 16.27it/s, est. speed input: 68259.17 toks/s, output: 535.47 toks/s] "
     ]
    },
    {
     "name": "stdout",
     "output_type": "stream",
     "text": [
      "extract_think количество ошибок:  0\n",
      "extract_sql количество ошибок:  0\n",
      "Закончили генерацию SQL запросов\n",
      "Начали скорр полученных SQL запросов\n"
     ]
    },
    {
     "name": "stderr",
     "output_type": "stream",
     "text": [
      "\n"
     ]
    },
    {
     "name": "stdout",
     "output_type": "stream",
     "text": [
      "Qwen3-4B DEV Финальный результат EX: 73.98\n",
      "Qwen3-4B процент запросов, которые успешно выполнились DEV: 98.51%\n",
      "====================================================================================================\n",
      "\n",
      "\n",
      "Загружаем чаты с данными...\n",
      "Данные успешно загружены\n",
      "Начали генерацию SQL запросов\n"
     ]
    },
    {
     "name": "stderr",
     "output_type": "stream",
     "text": [
      "Processed prompts: 100%|██████████| 1076/1076 [01:05<00:00, 16.48it/s, est. speed input: 69159.08 toks/s, output: 539.27 toks/s] "
     ]
    },
    {
     "name": "stdout",
     "output_type": "stream",
     "text": [
      "extract_think количество ошибок:  0\n",
      "extract_sql количество ошибок:  0\n",
      "Закончили генерацию SQL запросов\n",
      "Начали скорр полученных SQL запросов\n"
     ]
    },
    {
     "name": "stderr",
     "output_type": "stream",
     "text": [
      "\n"
     ]
    },
    {
     "name": "stdout",
     "output_type": "stream",
     "text": [
      "Qwen3-4B DEV Финальный результат EX: 74.54\n",
      "Qwen3-4B процент запросов, которые успешно выполнились DEV: 98.70%\n",
      "====================================================================================================\n",
      "\n",
      "\n"
     ]
    }
   ],
   "source": [
    "run_cot_experiment(model,arr_seeds,arr_versions, type_cot,num_observations=num_observations)"
   ]
  },
  {
   "cell_type": "code",
   "execution_count": null,
   "id": "778de288-b491-4a74-b7ba-c43a19d8b2b7",
   "metadata": {},
   "outputs": [],
   "source": []
  },
  {
   "cell_type": "code",
   "execution_count": null,
   "id": "f1a4d858-22f7-45f2-ba3d-47f12869a06f",
   "metadata": {},
   "outputs": [],
   "source": []
  }
 ],
 "metadata": {
  "kernelspec": {
   "display_name": "vllm",
   "language": "python",
   "name": "vllm"
  },
  "language_info": {
   "codemirror_mode": {
    "name": "ipython",
    "version": 3
   },
   "file_extension": ".py",
   "mimetype": "text/x-python",
   "name": "python",
   "nbconvert_exporter": "python",
   "pygments_lexer": "ipython3",
   "version": "3.12.4"
  }
 },
 "nbformat": 4,
 "nbformat_minor": 5
}
