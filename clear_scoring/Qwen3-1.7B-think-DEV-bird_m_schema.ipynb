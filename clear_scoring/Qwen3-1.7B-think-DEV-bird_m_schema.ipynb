{
 "cells": [
  {
   "cell_type": "code",
   "execution_count": 1,
   "id": "8fc211c7-82bd-49c0-b7e2-1c1d6ad9134f",
   "metadata": {},
   "outputs": [
    {
     "name": "stdout",
     "output_type": "stream",
     "text": [
      "INFO 05-26 14:42:43 [__init__.py:239] Automatically detected platform cuda.\n"
     ]
    },
    {
     "name": "stderr",
     "output_type": "stream",
     "text": [
      "2025-05-26 14:42:44,673\tINFO util.py:154 -- Missing packages: ['ipywidgets']. Run `pip install -U ipywidgets`, then restart the notebook server for rich notebook output.\n"
     ]
    }
   ],
   "source": [
    "import os, sys\n",
    "sys.path.append(\"/home/vkropoti/vllm\")\n",
    "\n",
    "from src.experiment import run_think_experiment\n",
    "import random\n",
    "import numpy as np"
   ]
  },
  {
   "cell_type": "code",
   "execution_count": 2,
   "id": "ff95fe4c-4743-4a91-abcf-94e139e1a6d4",
   "metadata": {},
   "outputs": [
    {
     "name": "stdout",
     "output_type": "stream",
     "text": [
      "[974, 263, 481, 263, 98, 660, 453, 616, 404, 806, 242, 145, 310, 858, 757, 358, 920, 433, 439, 251]\n",
      "model: Qwen3-1.7B\n"
     ]
    }
   ],
   "source": [
    "n= 20\n",
    "arr_seeds = [random.randint(0,1000) for _ in range(n)]\n",
    "arr_versions = [x for x in range(n)]\n",
    "model = \"Qwen3-1.7B\"\n",
    "# \"QwQ-32B\"\n",
    "print(arr_seeds)\n",
    "print(f\"model: {model}\")"
   ]
  },
  {
   "cell_type": "code",
   "execution_count": 3,
   "id": "3389289b-f43f-4840-88af-e4856b34211d",
   "metadata": {
    "scrolled": true
   },
   "outputs": [
    {
     "name": "stdout",
     "output_type": "stream",
     "text": [
      "Загружаем модель...\n"
     ]
    },
    {
     "name": "stderr",
     "output_type": "stream",
     "text": [
      "Loading safetensors checkpoint shards:   0% Completed | 0/2 [00:00<?, ?it/s]\n",
      "Loading safetensors checkpoint shards:  50% Completed | 1/2 [00:01<00:01,  1.21s/it]\n",
      "Loading safetensors checkpoint shards: 100% Completed | 2/2 [00:01<00:00,  1.59it/s]\n",
      "\u001b[1;36m(VllmWorker rank=0 pid=2307238)\u001b[0;0m \n"
     ]
    },
    {
     "name": "stdout",
     "output_type": "stream",
     "text": [
      "Модель успешно загружена\n",
      "model_config {'model': '/data/home/vkropoti/models/Qwen3-1.7B', 'tensor_parallel_size': 2, 'max_model_len': 25000, 'max_new_tokens': 15000, 'temperature': 0.95, 'top_k': 50, 'top_p': 0.95, 'gpu_memory_utilization': 0.9, 'trust_remote_code': False, 'seed': 974}\n",
      "\n",
      "prompts_config {'path_dev_json': '/home/vkropoti/vllm/dev.json', 'path_sql_dbs': '/data/home/vkropoti/sql_data/dev_databases/', 'use_reasoning': True, 'paths_to_cot': None}\n",
      "\n",
      "save_config {'path_sql_save': '/data/home/vkropoti/sql_llm_answers/bird_dev_m_schema/sql_all_Qwen3-1.7B-reasoning-v0', 'path_think_save': '/data/home/vkropoti/sql_llm_answers/bird_dev_m_schema/sql_think_Qwen3-1.7B-reasoning-v0', 'path_sql_answers_save': '/data/home/vkropoti/sql_llm_answers/bird_dev_m_schema/sql_predict_Qwen3-1.7B-reasoning-v0', 'path_to_save_scores': '/data/home/vkropoti/sql_llm_answers/bird_dev_m_schema/sql_results_Qwen3-1.7B-reasoning-v0', 'path_to_save_executed': '/data/home/vkropoti/sql_llm_answers/bird_dev_m_schema/sql_executed_Qwen3-1.7B-reasoning-v0'}\n",
      "\n",
      "Модель успешно загружена\n",
      "Пример промпта\n",
      "<|im_start|>system\n",
      "\n",
      "You are a data science expert. Below, you are provided with a database schema and a natural language question. Your task is to understand the schema and generate a valid SQL query to answer the question.\n",
      "\n",
      "Database Engine: SQLite\n",
      "\n",
      "Firstly think how to solve the problem, analyze tables, take care what columns avaliable in each table and so on, check the syntacsis (do not otherthink 2k words is a limit, no more!).\n",
      "Secondly, create the answer based on thoughts. The answer should be only sql query.\n",
      "\n",
      "Carefully follow the instruction and add <|im_end|> and the end of the final answer.\n",
      "<|im_end|>\n",
      "<|im_start|>user\n",
      "here is avaliable tables and their structure below\n",
      "【DB_ID】 california_schools\n",
      "【Schema】\n",
      "# Table: frpm\n",
      "[\n",
      "(CDSCode:TEXT, maps to schools.CDSCode, Primary Key, Examples: [01100170109835, 01100170112607, 01100170118489]),\n",
      "(Academic Year:TEXT, Examples: [2014-2015]),\n",
      "(County Code:TEXT, Examples: [01, 02, 03]),\n",
      "(District Code:INTEGER, Examples: [10017, 31609, 31617]),\n",
      "(School Code:TEXT, Examples: [0109835, 0112607, 0118489]),\n",
      "(County Name:TEXT, Examples: [Alameda, Alpine, Amador]),\n",
      "(District Name:TEXT),\n",
      "(School Name:TEXT, Examples: [FAME Public Charter]),\n",
      "(District Type:TEXT, Examples: [County Office of Education (COE)]),\n",
      "(School Type:TEXT, Examples: [K-12 Schools (Public)]),\n",
      "(Educational Option Type:TEXT, Examples: [Traditional]),\n",
      "(NSLP Provision Status:TEXT, Examples: [Breakfast Provision 2]),\n",
      "(Charter School (Y/N):INTEGER, Examples: [1, 0]),\n",
      "(Charter School Number:TEXT, Examples: [0728, 0811, 1049]),\n",
      "(Charter Funding Type:TEXT, Examples: [Directly funded]),\n",
      "(IRC:INTEGER, Examples: [1, 0]),\n",
      "(Low Grade:TEXT, Examples: [K, 9, 1]),\n",
      "(High Grade:TEXT, Examples: [12, 8, 5]),\n",
      "(Enrollment (K-12):REAL, Examples: [1087.0, 395.0, 244.0]),\n",
      "(Free Meal Count (K-12):REAL, Examples: [565.0, 186.0, 134.0]),\n",
      "(Percent (%) Eligible Free (K-12):REAL, Examples: [0.519779208831647, 0.470886075949367, 0.549180327868853]),\n",
      "(FRPM Count (K-12):REAL, Examples: [715.0, 186.0, 175.0]),\n",
      "(Percent (%) Eligible FRPM (K-12):REAL, Examples: [0.657773689052438, 0.470886075949367, 0.717213114754098]),\n",
      "(Enrollment (Ages 5-17):REAL, Examples: [1070.0, 376.0, 230.0]),\n",
      "(Free Meal Count (Ages 5-17):REAL, Examples: [553.0, 182.0, 128.0]),\n",
      "(Percent (%) Eligible Free (Ages 5-17):REAL, Examples: [0.516822429906542, 0.484042553191489, 0.556521739130435]),\n",
      "(FRPM Count (Ages 5-17):REAL, Examples: [702.0, 182.0, 168.0]),\n",
      "(Percent (%) Eligible FRPM (Ages 5-17):REAL, Examples: [0.65607476635514, 0.484042553191489, 0.730434782608696]),\n",
      "(2013-14 CALPADS Fall 1 Certification Status:INTEGER, Examples: [1])\n",
      "]\n",
      "# Table: satscores\n",
      "[\n",
      "(cds:TEXT, maps to schools.CDSCode, Primary Key, Examples: [10101080000000, 10101080109991, 10101080111682]),\n",
      "(rtype:TEXT, Examples: [D, S]),\n",
      "(sname:TEXT, Examples: [FAME Public Charter]),\n",
      "(dname:TEXT, Examples: [Alameda County Office of Education]),\n",
      "(cname:TEXT, Examples: [Alameda, Amador, Butte]),\n",
      "(enroll12:INTEGER, Examples: [398, 62, 75]),\n",
      "(NumTstTakr:INTEGER, Examples: [88, 17, 71]),\n",
      "(AvgScrRead:INTEGER, Examples: [418, 503, 397]),\n",
      "(AvgScrMath:INTEGER, Examples: [418, 546, 387]),\n",
      "(AvgScrWrite:INTEGER, Examples: [417, 505, 395]),\n",
      "(NumGE1500:INTEGER, Examples: [14, 9, 5])\n",
      "]\n",
      "# Table: schools\n",
      "[\n",
      "(CDSCode:TEXT, Primary Key, Examples: [01100170000000, 01100170109835, 01100170112607]),\n",
      "(NCESDist:TEXT, Examples: [0691051, 0600002, 0600003]),\n",
      "(NCESSchool:TEXT, Examples: [10546, 10947, 12283]),\n",
      "(StatusType:TEXT, Examples: [Active, Closed, Merged]),\n",
      "(County:TEXT, Examples: [Alameda, Alpine, Amador]),\n",
      "(District:TEXT),\n",
      "(School:TEXT, Examples: [FAME Public Charter]),\n",
      "(Street:TEXT, Examples: [313 West Winton Avenue]),\n",
      "(StreetAbr:TEXT, Examples: [313 West Winton Ave.]),\n",
      "(City:TEXT, Examples: [Hayward, Newark, Oakland]),\n",
      "(Zip:TEXT, Examples: [94544-1136, 94560-5359, 94612-3355]),\n",
      "(State:TEXT, Examples: [CA]),\n",
      "(MailStreet:TEXT, Examples: [313 West Winton Avenue]),\n",
      "(MailStrAbr:TEXT, Examples: [313 West Winton Ave.]),\n",
      "(MailCity:TEXT, Examples: [Hayward, Newark, Oakland]),\n",
      "(MailZip:TEXT, Examples: [94544-1136, 94560-5359, 94612]),\n",
      "(MailState:TEXT, Examples: [CA]),\n",
      "(Phone:TEXT, Examples: [(510) 887-0152, (510) 596-8901, (510) 686-4131]),\n",
      "(Ext:TEXT, Examples: [130, 1240, 1200]),\n",
      "(Website:TEXT, Examples: [www.acoe.org]),\n",
      "(OpenDate:DATE, Examples: [2005-08-29]),\n",
      "(ClosedDate:DATE, Examples: [2015-07-31]),\n",
      "(Charter:INTEGER, Examples: [1, 0]),\n",
      "(CharterNum:TEXT, Examples: [0728, 0811, 1049]),\n",
      "(FundingType:TEXT, Examples: [Directly funded]),\n",
      "(DOC:TEXT, Examples: [00, 31, 34]),\n",
      "(DOCType:TEXT, Examples: [County Office of Education (COE)]),\n",
      "(SOC:TEXT, Examples: [65, 66, 60]),\n",
      "(SOCType:TEXT, Examples: [K-12 Schools (Public)]),\n",
      "(EdOpsCode:TEXT, Examples: [TRAD, JUV, COMM]),\n",
      "(EdOpsName:TEXT, Examples: [Traditional]),\n",
      "(EILCode:TEXT, Examples: [ELEMHIGH, HS, ELEM]),\n",
      "(EILName:TEXT, Examples: [Elementary-High Combination]),\n",
      "(GSoffered:TEXT, Examples: [K-12, 9-12, K-8]),\n",
      "(GSserved:TEXT, Examples: [K-12, 9-12, K-7]),\n",
      "(Virtual:TEXT, Examples: [P, N, F]),\n",
      "(Magnet:INTEGER, Examples: [0, 1]),\n",
      "(Latitude:REAL, Examples: [37.658212, 37.521436, 37.80452]),\n",
      "(Longitude:REAL, Examples: [-122.09713, -121.99391, -122.26815]),\n",
      "(AdmFName1:TEXT, Examples: [L Karen, Laura, Clifford]),\n",
      "(AdmLName1:TEXT, Examples: [Monroe, Robell, Thompson]),\n",
      "(AdmEmail1:TEXT),\n",
      "(AdmFName2:TEXT, Examples: [Sau-Lim (Lance), Jennifer, Annalisa]),\n",
      "(AdmLName2:TEXT, Examples: [Tsang, Koelling, Moore]),\n",
      "(AdmEmail2:TEXT),\n",
      "(AdmFName3:TEXT, Examples: [Drew, Irma, Vickie]),\n",
      "(AdmLName3:TEXT, Examples: [Sarratore, Munoz, Chang]),\n",
      "(AdmEmail3:TEXT),\n",
      "(LastUpdate:DATE, Examples: [2015-06-23])\n",
      "]\n",
      "【Foreign keys】\n",
      "frpm.CDSCode=schools.CDSCode\n",
      "satscores.cds=schools.CDSCode\n",
      "\n",
      "-- Using valid SQLite and understanding External Knowledge, answer the following questions for the tables provided above.\n",
      "-- question: What is the highest eligible free rate for K-12 students in the schools in Alameda County?\n",
      "-- External Knowledge: Eligible free rate for K-12 = `Free Meal Count (K-12)` / `Enrollment (K-12)`\n",
      "\n",
      "\n",
      "Generate the SQLite for the above question after thinking step by step: \n",
      "\n",
      "\n",
      "Instructions:\n",
      "- Make sure you only output the information that is asked in the question. If the question asks for a specific column, make sure to only include that column in the SELECT clause, nothing more.\n",
      "- The generated query should return all of the information asked in the question without any missing or extra information.\n",
      "- Before generating the final SQL query, please think through the steps of how to write the query.\n",
      "- In your response, you should provide thoughts and answer (thoughts are separated with <think>).\n",
      "- Do not misuse column names, keep them in quotes `\n",
      "- Carefully understand what colomns belond to what tables\n",
      "- Use only initial column names, change names prohibited\n",
      "        \n",
      "Output Format:\n",
      "In your answer, please enclose the generated SQL query in a code block:\n",
      "```\n",
      "```    \n",
      "and nothing else, no exaplains, no comments (asnwer should be less than 512 characters)\n",
      "\n",
      "Take a deep breath and think step by step to find the correct SQL query in SQLite format.\n",
      "\n",
      "Question repetition: What is the highest eligible free rate for K-12 students in the schools in Alameda County?\n",
      "\n",
      "Be care! Include only what i want it questiona and nothing else<|im_end|>\n",
      "<|im_start|>assistant\n",
      "\n",
      "\n",
      "\n",
      "Максимальное количество токенов в промптах: 5689\n",
      "\n",
      "начинаем скорринг\n",
      "Загружаем чаты с данными...\n",
      "Данные успешно загружены\n",
      "Начали генерацию SQL запросов\n"
     ]
    },
    {
     "name": "stderr",
     "output_type": "stream",
     "text": [
      "Processed prompts: 100%|██████████| 1534/1534 [04:30<00:00,  5.67it/s, est. speed input: 13102.74 toks/s, output: 5995.65 toks/s]"
     ]
    },
    {
     "name": "stdout",
     "output_type": "stream",
     "text": [
      "extract_think количество ошибок:  0\n",
      "extract_sql количество ошибок:  0\n",
      "Закончили генерацию SQL запросов\n",
      "Начали скорр полученных SQL запросов\n"
     ]
    },
    {
     "name": "stderr",
     "output_type": "stream",
     "text": [
      "\n"
     ]
    },
    {
     "name": "stdout",
     "output_type": "stream",
     "text": [
      "Qwen3-1.7B DEV Финальный результат EX: 44.13\n",
      "Qwen3-1.7B процент запросов, которые успешно выполнились DEV: 78.68%\n",
      "====================================================================================================\n",
      "\n",
      "\n",
      "Загружаем чаты с данными...\n",
      "Данные успешно загружены\n",
      "Начали генерацию SQL запросов\n"
     ]
    },
    {
     "name": "stderr",
     "output_type": "stream",
     "text": [
      "Processed prompts: 100%|██████████| 1534/1534 [03:49<00:00,  6.68it/s, est. speed input: 15446.50 toks/s, output: 6734.06 toks/s]"
     ]
    },
    {
     "name": "stdout",
     "output_type": "stream",
     "text": [
      "extract_think количество ошибок:  0\n",
      "extract_sql количество ошибок:  0\n",
      "Закончили генерацию SQL запросов\n",
      "Начали скорр полученных SQL запросов\n"
     ]
    },
    {
     "name": "stderr",
     "output_type": "stream",
     "text": [
      "\n"
     ]
    },
    {
     "name": "stdout",
     "output_type": "stream",
     "text": [
      "Qwen3-1.7B DEV Финальный результат EX: 42.18\n",
      "Qwen3-1.7B процент запросов, которые успешно выполнились DEV: 75.23%\n",
      "====================================================================================================\n",
      "\n",
      "\n",
      "Загружаем чаты с данными...\n",
      "Данные успешно загружены\n",
      "Начали генерацию SQL запросов\n"
     ]
    },
    {
     "name": "stderr",
     "output_type": "stream",
     "text": [
      "Processed prompts: 100%|██████████| 1534/1534 [03:14<00:00,  7.90it/s, est. speed input: 18280.51 toks/s, output: 7073.09 toks/s]"
     ]
    },
    {
     "name": "stdout",
     "output_type": "stream",
     "text": [
      "extract_think количество ошибок:  0\n",
      "extract_sql количество ошибок:  0\n",
      "Закончили генерацию SQL запросов\n",
      "Начали скорр полученных SQL запросов\n"
     ]
    },
    {
     "name": "stderr",
     "output_type": "stream",
     "text": [
      "\n"
     ]
    },
    {
     "name": "stdout",
     "output_type": "stream",
     "text": [
      "Qwen3-1.7B DEV Финальный результат EX: 38.01\n",
      "Qwen3-1.7B процент запросов, которые успешно выполнились DEV: 67.99%\n",
      "====================================================================================================\n",
      "\n",
      "\n",
      "Загружаем чаты с данными...\n",
      "Данные успешно загружены\n",
      "Начали генерацию SQL запросов\n"
     ]
    },
    {
     "name": "stderr",
     "output_type": "stream",
     "text": [
      "Processed prompts: 100%|██████████| 1534/1534 [04:00<00:00,  6.38it/s, est. speed input: 14744.40 toks/s, output: 6435.41 toks/s]"
     ]
    },
    {
     "name": "stdout",
     "output_type": "stream",
     "text": [
      "extract_think количество ошибок:  0\n",
      "extract_sql количество ошибок:  0\n",
      "Закончили генерацию SQL запросов\n",
      "Начали скорр полученных SQL запросов\n"
     ]
    },
    {
     "name": "stderr",
     "output_type": "stream",
     "text": [
      "\n"
     ]
    },
    {
     "name": "stdout",
     "output_type": "stream",
     "text": [
      "Qwen3-1.7B DEV Финальный результат EX: 42.24\n",
      "Qwen3-1.7B процент запросов, которые успешно выполнились DEV: 74.77%\n",
      "====================================================================================================\n",
      "\n",
      "\n",
      "Загружаем чаты с данными...\n",
      "Данные успешно загружены\n",
      "Начали генерацию SQL запросов\n"
     ]
    },
    {
     "name": "stderr",
     "output_type": "stream",
     "text": [
      "Processed prompts: 100%|██████████| 1534/1534 [03:50<00:00,  6.64it/s, est. speed input: 15366.28 toks/s, output: 6788.81 toks/s]"
     ]
    },
    {
     "name": "stdout",
     "output_type": "stream",
     "text": [
      "extract_think количество ошибок:  0\n",
      "extract_sql количество ошибок:  0\n",
      "Закончили генерацию SQL запросов\n",
      "Начали скорр полученных SQL запросов\n"
     ]
    },
    {
     "name": "stderr",
     "output_type": "stream",
     "text": [
      "\n"
     ]
    },
    {
     "name": "stdout",
     "output_type": "stream",
     "text": [
      "Qwen3-1.7B DEV Финальный результат EX: 44.07\n",
      "Qwen3-1.7B процент запросов, которые успешно выполнились DEV: 77.44%\n",
      "====================================================================================================\n",
      "\n",
      "\n",
      "Загружаем чаты с данными...\n",
      "Данные успешно загружены\n",
      "Начали генерацию SQL запросов\n"
     ]
    },
    {
     "name": "stderr",
     "output_type": "stream",
     "text": [
      "Processed prompts: 100%|██████████| 1534/1534 [04:14<00:00,  6.03it/s, est. speed input: 13938.55 toks/s, output: 6337.55 toks/s]"
     ]
    },
    {
     "name": "stdout",
     "output_type": "stream",
     "text": [
      "extract_think количество ошибок:  0\n",
      "extract_sql количество ошибок:  0\n",
      "Закончили генерацию SQL запросов\n",
      "Начали скорр полученных SQL запросов\n"
     ]
    },
    {
     "name": "stderr",
     "output_type": "stream",
     "text": [
      "\n"
     ]
    },
    {
     "name": "stdout",
     "output_type": "stream",
     "text": [
      "Qwen3-1.7B DEV Финальный результат EX: 44.52\n",
      "Qwen3-1.7B процент запросов, которые успешно выполнились DEV: 77.97%\n",
      "====================================================================================================\n",
      "\n",
      "\n",
      "Загружаем чаты с данными...\n",
      "Данные успешно загружены\n",
      "Начали генерацию SQL запросов\n"
     ]
    },
    {
     "name": "stderr",
     "output_type": "stream",
     "text": [
      "Processed prompts: 100%|██████████| 1534/1534 [04:36<00:00,  5.56it/s, est. speed input: 12850.07 toks/s, output: 5910.36 toks/s]"
     ]
    },
    {
     "name": "stdout",
     "output_type": "stream",
     "text": [
      "extract_think количество ошибок:  0\n",
      "extract_sql количество ошибок:  0\n",
      "Закончили генерацию SQL запросов\n",
      "Начали скорр полученных SQL запросов\n"
     ]
    },
    {
     "name": "stderr",
     "output_type": "stream",
     "text": [
      "\n"
     ]
    },
    {
     "name": "stdout",
     "output_type": "stream",
     "text": [
      "Qwen3-1.7B DEV Финальный результат EX: 45.18\n",
      "Qwen3-1.7B процент запросов, которые успешно выполнились DEV: 77.51%\n",
      "====================================================================================================\n",
      "\n",
      "\n",
      "Загружаем чаты с данными...\n",
      "Данные успешно загружены\n",
      "Начали генерацию SQL запросов\n"
     ]
    },
    {
     "name": "stderr",
     "output_type": "stream",
     "text": [
      "Processed prompts: 100%|██████████| 1534/1534 [03:38<00:00,  7.01it/s, est. speed input: 16213.65 toks/s, output: 7016.00 toks/s]"
     ]
    },
    {
     "name": "stdout",
     "output_type": "stream",
     "text": [
      "extract_think количество ошибок:  0\n",
      "extract_sql количество ошибок:  0\n",
      "Закончили генерацию SQL запросов\n",
      "Начали скорр полученных SQL запросов\n"
     ]
    },
    {
     "name": "stderr",
     "output_type": "stream",
     "text": [
      "\n"
     ]
    },
    {
     "name": "stdout",
     "output_type": "stream",
     "text": [
      "Qwen3-1.7B DEV Финальный результат EX: 43.68\n",
      "Qwen3-1.7B процент запросов, которые успешно выполнились DEV: 77.38%\n",
      "====================================================================================================\n",
      "\n",
      "\n",
      "Загружаем чаты с данными...\n",
      "Данные успешно загружены\n",
      "Начали генерацию SQL запросов\n"
     ]
    },
    {
     "name": "stderr",
     "output_type": "stream",
     "text": [
      "Processed prompts: 100%|██████████| 1534/1534 [03:55<00:00,  6.52it/s, est. speed input: 15069.51 toks/s, output: 6669.05 toks/s]"
     ]
    },
    {
     "name": "stdout",
     "output_type": "stream",
     "text": [
      "extract_think количество ошибок:  0\n",
      "extract_sql количество ошибок:  0\n",
      "Закончили генерацию SQL запросов\n",
      "Начали скорр полученных SQL запросов\n"
     ]
    },
    {
     "name": "stderr",
     "output_type": "stream",
     "text": [
      "\n"
     ]
    },
    {
     "name": "stdout",
     "output_type": "stream",
     "text": [
      "Qwen3-1.7B DEV Финальный результат EX: 43.42\n",
      "Qwen3-1.7B процент запросов, которые успешно выполнились DEV: 77.38%\n",
      "====================================================================================================\n",
      "\n",
      "\n",
      "Загружаем чаты с данными...\n",
      "Данные успешно загружены\n",
      "Начали генерацию SQL запросов\n"
     ]
    },
    {
     "name": "stderr",
     "output_type": "stream",
     "text": [
      "Processed prompts: 100%|██████████| 1534/1534 [03:56<00:00,  6.48it/s, est. speed input: 14986.58 toks/s, output: 6748.10 toks/s]"
     ]
    },
    {
     "name": "stdout",
     "output_type": "stream",
     "text": [
      "extract_think количество ошибок:  0\n",
      "extract_sql количество ошибок:  0\n",
      "Закончили генерацию SQL запросов\n",
      "Начали скорр полученных SQL запросов\n"
     ]
    },
    {
     "name": "stderr",
     "output_type": "stream",
     "text": [
      "\n"
     ]
    },
    {
     "name": "stdout",
     "output_type": "stream",
     "text": [
      "Qwen3-1.7B DEV Финальный результат EX: 43.94\n",
      "Qwen3-1.7B процент запросов, которые успешно выполнились DEV: 78.29%\n",
      "====================================================================================================\n",
      "\n",
      "\n",
      "Загружаем чаты с данными...\n",
      "Данные успешно загружены\n",
      "Начали генерацию SQL запросов\n"
     ]
    },
    {
     "name": "stderr",
     "output_type": "stream",
     "text": [
      "Processed prompts: 100%|██████████| 1534/1534 [04:44<00:00,  5.40it/s, est. speed input: 12479.53 toks/s, output: 5855.79 toks/s]"
     ]
    },
    {
     "name": "stdout",
     "output_type": "stream",
     "text": [
      "extract_think количество ошибок:  0\n",
      "extract_sql количество ошибок:  0\n",
      "Закончили генерацию SQL запросов\n",
      "Начали скорр полученных SQL запросов\n"
     ]
    },
    {
     "name": "stderr",
     "output_type": "stream",
     "text": [
      "\n"
     ]
    },
    {
     "name": "stdout",
     "output_type": "stream",
     "text": [
      "Qwen3-1.7B DEV Финальный результат EX: 44.07\n",
      "Qwen3-1.7B процент запросов, которые успешно выполнились DEV: 77.05%\n",
      "====================================================================================================\n",
      "\n",
      "\n",
      "Загружаем чаты с данными...\n",
      "Данные успешно загружены\n",
      "Начали генерацию SQL запросов\n"
     ]
    },
    {
     "name": "stderr",
     "output_type": "stream",
     "text": [
      "Processed prompts: 100%|██████████| 1534/1534 [03:57<00:00,  6.46it/s, est. speed input: 14932.72 toks/s, output: 6716.51 toks/s]"
     ]
    },
    {
     "name": "stdout",
     "output_type": "stream",
     "text": [
      "extract_think количество ошибок:  0\n",
      "extract_sql количество ошибок:  0\n",
      "Закончили генерацию SQL запросов\n",
      "Начали скорр полученных SQL запросов\n"
     ]
    },
    {
     "name": "stderr",
     "output_type": "stream",
     "text": [
      "\n"
     ]
    },
    {
     "name": "stdout",
     "output_type": "stream",
     "text": [
      "Qwen3-1.7B DEV Финальный результат EX: 43.16\n",
      "Qwen3-1.7B процент запросов, которые успешно выполнились DEV: 76.60%\n",
      "====================================================================================================\n",
      "\n",
      "\n",
      "Загружаем чаты с данными...\n",
      "Данные успешно загружены\n",
      "Начали генерацию SQL запросов\n"
     ]
    },
    {
     "name": "stderr",
     "output_type": "stream",
     "text": [
      "Processed prompts: 100%|██████████| 1534/1534 [03:50<00:00,  6.66it/s, est. speed input: 15406.20 toks/s, output: 6774.08 toks/s]"
     ]
    },
    {
     "name": "stdout",
     "output_type": "stream",
     "text": [
      "extract_think количество ошибок:  0\n",
      "extract_sql количество ошибок:  0\n",
      "Закончили генерацию SQL запросов\n",
      "Начали скорр полученных SQL запросов\n"
     ]
    },
    {
     "name": "stderr",
     "output_type": "stream",
     "text": [
      "\n"
     ]
    },
    {
     "name": "stdout",
     "output_type": "stream",
     "text": [
      "Qwen3-1.7B DEV Финальный результат EX: 43.74\n",
      "Qwen3-1.7B процент запросов, которые успешно выполнились DEV: 77.51%\n",
      "====================================================================================================\n",
      "\n",
      "\n",
      "Загружаем чаты с данными...\n",
      "Данные успешно загружены\n",
      "Начали генерацию SQL запросов\n"
     ]
    },
    {
     "name": "stderr",
     "output_type": "stream",
     "text": [
      "Processed prompts: 100%|██████████| 1534/1534 [03:54<00:00,  6.55it/s, est. speed input: 15156.22 toks/s, output: 6682.51 toks/s]"
     ]
    },
    {
     "name": "stdout",
     "output_type": "stream",
     "text": [
      "extract_think количество ошибок:  0\n",
      "extract_sql количество ошибок:  0\n",
      "Закончили генерацию SQL запросов\n",
      "Начали скорр полученных SQL запросов\n"
     ]
    },
    {
     "name": "stderr",
     "output_type": "stream",
     "text": [
      "\n"
     ]
    },
    {
     "name": "stdout",
     "output_type": "stream",
     "text": [
      "Qwen3-1.7B DEV Финальный результат EX: 43.42\n",
      "Qwen3-1.7B процент запросов, которые успешно выполнились DEV: 76.73%\n",
      "====================================================================================================\n",
      "\n",
      "\n",
      "Загружаем чаты с данными...\n",
      "Данные успешно загружены\n",
      "Начали генерацию SQL запросов\n"
     ]
    },
    {
     "name": "stderr",
     "output_type": "stream",
     "text": [
      "Processed prompts: 100%|██████████| 1534/1534 [03:53<00:00,  6.57it/s, est. speed input: 15193.74 toks/s, output: 6760.15 toks/s]"
     ]
    },
    {
     "name": "stdout",
     "output_type": "stream",
     "text": [
      "extract_think количество ошибок:  0\n",
      "extract_sql количество ошибок:  0\n",
      "Закончили генерацию SQL запросов\n",
      "Начали скорр полученных SQL запросов\n"
     ]
    },
    {
     "name": "stderr",
     "output_type": "stream",
     "text": [
      "\n"
     ]
    },
    {
     "name": "stdout",
     "output_type": "stream",
     "text": [
      "Qwen3-1.7B DEV Финальный результат EX: 43.94\n",
      "Qwen3-1.7B процент запросов, которые успешно выполнились DEV: 75.16%\n",
      "====================================================================================================\n",
      "\n",
      "\n",
      "Загружаем чаты с данными...\n",
      "Данные успешно загружены\n",
      "Начали генерацию SQL запросов\n"
     ]
    },
    {
     "name": "stderr",
     "output_type": "stream",
     "text": [
      "Processed prompts: 100%|██████████| 1534/1534 [03:55<00:00,  6.52it/s, est. speed input: 15070.04 toks/s, output: 6848.42 toks/s]"
     ]
    },
    {
     "name": "stdout",
     "output_type": "stream",
     "text": [
      "extract_think количество ошибок:  0\n",
      "extract_sql количество ошибок:  0\n",
      "Закончили генерацию SQL запросов\n",
      "Начали скорр полученных SQL запросов\n"
     ]
    },
    {
     "name": "stderr",
     "output_type": "stream",
     "text": [
      "\n"
     ]
    },
    {
     "name": "stdout",
     "output_type": "stream",
     "text": [
      "Qwen3-1.7B DEV Финальный результат EX: 44.00\n",
      "Qwen3-1.7B процент запросов, которые успешно выполнились DEV: 77.38%\n",
      "====================================================================================================\n",
      "\n",
      "\n",
      "Загружаем чаты с данными...\n",
      "Данные успешно загружены\n",
      "Начали генерацию SQL запросов\n"
     ]
    },
    {
     "name": "stderr",
     "output_type": "stream",
     "text": [
      "Processed prompts: 100%|██████████| 1534/1534 [04:32<00:00,  5.63it/s, est. speed input: 13026.86 toks/s, output: 5971.94 toks/s]"
     ]
    },
    {
     "name": "stdout",
     "output_type": "stream",
     "text": [
      "extract_think количество ошибок:  0\n",
      "extract_sql количество ошибок:  0\n",
      "Закончили генерацию SQL запросов\n",
      "Начали скорр полученных SQL запросов\n"
     ]
    },
    {
     "name": "stderr",
     "output_type": "stream",
     "text": [
      "\n"
     ]
    },
    {
     "name": "stdout",
     "output_type": "stream",
     "text": [
      "Qwen3-1.7B DEV Финальный результат EX: 43.87\n",
      "Qwen3-1.7B процент запросов, которые успешно выполнились DEV: 76.79%\n",
      "====================================================================================================\n",
      "\n",
      "\n",
      "Загружаем чаты с данными...\n",
      "Данные успешно загружены\n",
      "Начали генерацию SQL запросов\n"
     ]
    },
    {
     "name": "stderr",
     "output_type": "stream",
     "text": [
      "Processed prompts: 100%|██████████| 1534/1534 [03:49<00:00,  6.69it/s, est. speed input: 15467.33 toks/s, output: 6927.97 toks/s]"
     ]
    },
    {
     "name": "stdout",
     "output_type": "stream",
     "text": [
      "extract_think количество ошибок:  0\n",
      "extract_sql количество ошибок:  0\n",
      "Закончили генерацию SQL запросов\n",
      "Начали скорр полученных SQL запросов\n"
     ]
    },
    {
     "name": "stderr",
     "output_type": "stream",
     "text": [
      "\n"
     ]
    },
    {
     "name": "stdout",
     "output_type": "stream",
     "text": [
      "Qwen3-1.7B DEV Финальный результат EX: 44.39\n",
      "Qwen3-1.7B процент запросов, которые успешно выполнились DEV: 76.92%\n",
      "====================================================================================================\n",
      "\n",
      "\n",
      "Загружаем чаты с данными...\n",
      "Данные успешно загружены\n",
      "Начали генерацию SQL запросов\n"
     ]
    },
    {
     "name": "stderr",
     "output_type": "stream",
     "text": [
      "Processed prompts: 100%|██████████| 1534/1534 [03:41<00:00,  6.94it/s, est. speed input: 16051.57 toks/s, output: 6849.74 toks/s]"
     ]
    },
    {
     "name": "stdout",
     "output_type": "stream",
     "text": [
      "extract_think количество ошибок:  0\n",
      "extract_sql количество ошибок:  0\n",
      "Закончили генерацию SQL запросов\n",
      "Начали скорр полученных SQL запросов\n"
     ]
    },
    {
     "name": "stderr",
     "output_type": "stream",
     "text": [
      "\n"
     ]
    },
    {
     "name": "stdout",
     "output_type": "stream",
     "text": [
      "Qwen3-1.7B DEV Финальный результат EX: 43.81\n",
      "Qwen3-1.7B процент запросов, которые успешно выполнились DEV: 75.88%\n",
      "====================================================================================================\n",
      "\n",
      "\n",
      "Загружаем чаты с данными...\n",
      "Данные успешно загружены\n",
      "Начали генерацию SQL запросов\n"
     ]
    },
    {
     "name": "stderr",
     "output_type": "stream",
     "text": [
      "Processed prompts: 100%|██████████| 1534/1534 [03:45<00:00,  6.79it/s, est. speed input: 15708.43 toks/s, output: 6812.86 toks/s]"
     ]
    },
    {
     "name": "stdout",
     "output_type": "stream",
     "text": [
      "extract_think количество ошибок:  0\n",
      "extract_sql количество ошибок:  0\n",
      "Закончили генерацию SQL запросов\n",
      "Начали скорр полученных SQL запросов\n"
     ]
    },
    {
     "name": "stderr",
     "output_type": "stream",
     "text": [
      "\n"
     ]
    },
    {
     "name": "stdout",
     "output_type": "stream",
     "text": [
      "Qwen3-1.7B DEV Финальный результат EX: 43.48\n",
      "Qwen3-1.7B процент запросов, которые успешно выполнились DEV: 77.05%\n",
      "====================================================================================================\n",
      "\n",
      "\n"
     ]
    }
   ],
   "source": [
    "run_think_experiment(model,arr_seeds,arr_versions)"
   ]
  },
  {
   "cell_type": "markdown",
   "id": "81c34c01-00c6-498b-b626-e0452ab4ddb6",
   "metadata": {},
   "source": [
    "## Выводим средний скорр think подхода"
   ]
  },
  {
   "cell_type": "code",
   "execution_count": 4,
   "id": "1e66fa7c-ddda-472d-93a3-2d563b0129df",
   "metadata": {},
   "outputs": [],
   "source": [
    "import pickle"
   ]
  },
  {
   "cell_type": "code",
   "execution_count": 5,
   "id": "ce529050-623f-4d4f-bfac-9ab5d43e2c4a",
   "metadata": {},
   "outputs": [],
   "source": [
    "def load_results(k):\n",
    "    with open(f\"/data/home/vkropoti/sql_llm_answers/bird_dev_m_schema/sql_results_{model}-reasoning-v{k}\", \"rb\") as fp:\n",
    "        results = np.array(pickle.load(fp))\n",
    "    return results"
   ]
  },
  {
   "cell_type": "code",
   "execution_count": 6,
   "id": "53838cd4-51fb-42d2-88c5-340999184bba",
   "metadata": {},
   "outputs": [],
   "source": [
    "def load_executed(k):\n",
    "    with open(f\"/data/home/vkropoti/sql_llm_answers/bird_dev_m_schema/sql_executed_{model}-reasoning-v{k}\", \"rb\") as fp:\n",
    "        executed = np.array(pickle.load(fp))\n",
    "    return executed"
   ]
  },
  {
   "cell_type": "code",
   "execution_count": 7,
   "id": "c4defcb9-0814-4f71-8080-a3e3c52317ac",
   "metadata": {},
   "outputs": [],
   "source": [
    "def get_think_results(name,n):\n",
    "    arr_mean_scores = []\n",
    "    arr_mean_executed = []\n",
    "    for i in range(n):\n",
    "        results, executed = load_results(i), load_executed(i)\n",
    "        arr_mean_scores.append(np.mean(results))\n",
    "        arr_mean_executed.append(np.mean(executed))\n",
    "        \n",
    "    print(f\"{name} DEV Финальный результат EX: {np.mean(np.array(arr_mean_scores)):.3f}, при std: {np.std(np.array(arr_mean_scores)):.3f}\")\n",
    "    print(f\"{name} процент запросов, которые успешно выполнились DEV: {np.mean(np.array(arr_mean_executed)):.3f}, при std: {np.std(np.array(arr_mean_executed)):.3f}\")\n",
    "    "
   ]
  },
  {
   "cell_type": "code",
   "execution_count": 8,
   "id": "9f57e1a5-7e57-4e87-9f42-e4a844087e40",
   "metadata": {},
   "outputs": [
    {
     "name": "stdout",
     "output_type": "stream",
     "text": [
      "Qwen3-1.7B DEV Финальный результат EX: 0.435, при std: 0.014\n",
      "Qwen3-1.7B процент запросов, которые успешно выполнились DEV: 0.765, при std: 0.022\n"
     ]
    }
   ],
   "source": [
    "# все 20\n",
    "get_think_results(model,20)"
   ]
  },
  {
   "cell_type": "code",
   "execution_count": null,
   "id": "9e5e15bc-5d5d-4758-8104-b3d1aa2760e3",
   "metadata": {},
   "outputs": [],
   "source": []
  }
 ],
 "metadata": {
  "kernelspec": {
   "display_name": "vllm",
   "language": "python",
   "name": "vllm"
  },
  "language_info": {
   "codemirror_mode": {
    "name": "ipython",
    "version": 3
   },
   "file_extension": ".py",
   "mimetype": "text/x-python",
   "name": "python",
   "nbconvert_exporter": "python",
   "pygments_lexer": "ipython3",
   "version": "3.12.4"
  }
 },
 "nbformat": 4,
 "nbformat_minor": 5
}
