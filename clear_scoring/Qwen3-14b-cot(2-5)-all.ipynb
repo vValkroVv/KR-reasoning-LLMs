{
 "cells": [
  {
   "cell_type": "code",
   "execution_count": 1,
   "id": "6f20e5ea-3a64-4bfa-8502-13bb8469c893",
   "metadata": {},
   "outputs": [],
   "source": [
    "import os, sys\n",
    "sys.path.append(\"/home/vkropoti/vllm\")"
   ]
  },
  {
   "cell_type": "code",
   "execution_count": 2,
   "id": "4fc844b5-83f1-48aa-a6c8-3d93f16a861d",
   "metadata": {},
   "outputs": [
    {
     "name": "stdout",
     "output_type": "stream",
     "text": [
      "INFO 05-16 01:29:48 [__init__.py:239] Automatically detected platform cuda.\n"
     ]
    },
    {
     "name": "stderr",
     "output_type": "stream",
     "text": [
      "2025-05-16 01:29:49,559\tINFO util.py:154 -- Missing packages: ['ipywidgets']. Run `pip install -U ipywidgets`, then restart the notebook server for rich notebook output.\n"
     ]
    }
   ],
   "source": [
    "from src.experiment import run_cot_experiment\n",
    "import random\n",
    "import numpy as np"
   ]
  },
  {
   "cell_type": "markdown",
   "id": "1d4174ff-32eb-4901-9b13-dfc26f6bd8e3",
   "metadata": {},
   "source": [
    "## 2 наблюдения"
   ]
  },
  {
   "cell_type": "code",
   "execution_count": 3,
   "id": "5635dae6-2ae1-4d4d-af1f-dfcd7abc923b",
   "metadata": {},
   "outputs": [
    {
     "name": "stdout",
     "output_type": "stream",
     "text": [
      "[663, 679, 250, 783, 500, 542, 765, 553, 584, 838, 130, 347, 417, 606, 129, 542, 964, 380, 484, 803]\n",
      "model: Qwen3-14B\n"
     ]
    }
   ],
   "source": [
    "n= 20\n",
    "arr_seeds = [random.randint(0,1000) for _ in range(n)]\n",
    "arr_versions = [x for x in range(n)]\n",
    "model = \"Qwen3-14B\"\n",
    "num_observations = 2\n",
    "type_cot = 'all_new'\n",
    "print(arr_seeds)\n",
    "print(f\"model: {model}\")"
   ]
  },
  {
   "cell_type": "code",
   "execution_count": 4,
   "id": "499630a1-5ce2-4867-9648-dc199d088be4",
   "metadata": {
    "scrolled": true
   },
   "outputs": [
    {
     "name": "stdout",
     "output_type": "stream",
     "text": [
      "Загружаем модель...\n"
     ]
    },
    {
     "name": "stderr",
     "output_type": "stream",
     "text": [
      "Loading safetensors checkpoint shards:   0% Completed | 0/8 [00:00<?, ?it/s]\n",
      "Loading safetensors checkpoint shards:  12% Completed | 1/8 [00:01<00:09,  1.37s/it]\n",
      "Loading safetensors checkpoint shards:  25% Completed | 2/8 [00:02<00:08,  1.39s/it]\n",
      "Loading safetensors checkpoint shards:  38% Completed | 3/8 [00:04<00:06,  1.37s/it]\n",
      "Loading safetensors checkpoint shards:  50% Completed | 4/8 [00:05<00:05,  1.38s/it]\n",
      "Loading safetensors checkpoint shards:  62% Completed | 5/8 [00:06<00:04,  1.38s/it]\n",
      "Loading safetensors checkpoint shards:  75% Completed | 6/8 [00:07<00:02,  1.17s/it]\n",
      "Loading safetensors checkpoint shards:  88% Completed | 7/8 [00:09<00:01,  1.25s/it]\n",
      "Loading safetensors checkpoint shards: 100% Completed | 8/8 [00:10<00:00,  1.30s/it]\n",
      "Loading safetensors checkpoint shards: 100% Completed | 8/8 [00:10<00:00,  1.31s/it]\n",
      "\u001b[1;36m(VllmWorker rank=0 pid=3136822)\u001b[0;0m \n"
     ]
    },
    {
     "name": "stdout",
     "output_type": "stream",
     "text": [
      "Модель успешно загружена\n",
      "model_config {'model': '/data/home/vkropoti/models/Qwen3-14B', 'tensor_parallel_size': 2, 'max_model_len': 40000, 'max_new_tokens': 1500, 'temperature': 0, 'top_k': 1, 'top_p': 0.8, 'gpu_memory_utilization': 0.9, 'trust_remote_code': False, 'seed': 663}\n",
      "\n",
      "prompts_config {'path_dev_json': '/home/vkropoti/vllm/dev.json', 'path_sql_dbs': '/data/home/vkropoti/sql_data/dev_databases/', 'use_reasoning': False, 'paths_to_cot': ['/data/home/vkropoti/sql_llm_answers/base_reasoning/sql_all_new_Qwen3-14B-reasoning-v0', '/data/home/vkropoti/sql_llm_answers/base_reasoning/sql_all_new_Qwen3-14B-reasoning-v1']}\n",
      "\n",
      "save_config {'path_sql_save': '/data/home/vkropoti/sql_llm_answers/base_reasoning/sql_all_Qwen3-14B-cot_all_new_think==False_nobs2-v0', 'path_think_save': None, 'path_sql_answers_save': '/data/home/vkropoti/sql_llm_answers/base_reasoning/sql_predict_Qwen3-14B-cot_all_new_think==False_nobs2-v0', 'path_to_save_scores': '/data/home/vkropoti/sql_llm_answers/base_reasoning/sql_results_Qwen3-14B-cot_all_new_think==False_nobs2-v0', 'path_to_save_executed': '/data/home/vkropoti/sql_llm_answers/base_reasoning/sql_executed_Qwen3-14B-cot_all_new_think==False_nobs2-v0'}\n",
      "\n",
      "Модель успешно загружена\n",
      "Пример промпта\n",
      "<|im_start|>system\n",
      "\n",
      "You are a data science expert. Below, you are provided with a database schema and a natural language question. Your task is to understand the schema and generate a valid SQL query to answer the question.\n",
      "\n",
      "Database Engine: SQLite\n",
      "\n",
      "You will be given an additional analysis of other models, please take it into account, so the plan is\n",
      "1. Analyse given addition analysis from other models (find in which analysis the same and differ, how to use that to answer question)\n",
      "2. Combine best from previous part and think how to solve the problem (analyze tables, take care what columns avaliable in each table and so on, check the syntacsis)\n",
      "3. Create the answers. The answer should be only sql query.\n",
      "\n",
      "Carefully follow the instruction and add <|im_end|> and the end of the final answer<|im_end|>\n",
      "<|im_start|>user\n",
      "Here is addition analysis from other models which can be helpfull, please take this into account but be careful (choose the best from each analysis, combine them to make the most proper answer):\n",
      "\n",
      "model 0 analysis:\n",
      " Reasoning process:\n",
      "\n",
      "Okay, let's tackle this question. The user wants the ratio of customers who pay in EUR versus those who pay in CZK. \n",
      "\n",
      "First, I need to figure out where the currency information is stored. Looking at the tables, the 'customers' table has a 'Currency' column. That's where the payment currency for each customer is recorded.\n",
      "\n",
      "Next, the question is about the ratio. So, I need to count the number of customers with Currency 'EUR' and those with 'CZK'. Then divide these two counts. \n",
      "\n",
      "Wait, the External Knowledge note says the ratio is count(Currency = 'EUR') / count(Currency = 'CZK'). So I need to compute these two counts and then divide them. \n",
      "\n",
      "In SQLite, I can use the COUNT() function with a condition. For example, COUNT(CASE WHEN Currency = 'EUR' THEN 1 END) to count EUR customers. Similarly for CZK. \n",
      "\n",
      "But wait, the CustomerID in the customers table is the primary key, so each customer is unique. So just count the number of rows where Currency is EUR and where it's CZK. \n",
      "\n",
      "So the query should select (count of EUR) divided by (count of CZK). \n",
      "\n",
      "But how to handle division? In SQLite, using / operator. But need to make sure that division is done as floating point, not integer. For example, if both counts are integers, dividing them might result in integer division. To avoid that, maybe cast them to REAL or use a decimal value. \n",
      "\n",
      "But the question doesn't specify handling of zero, like if CZK count is zero. But assuming the data has both. \n",
      "\n",
      "Putting it all together: \n",
      "\n",
      "SELECT \n",
      "    (COUNT(CASE WHEN Currency = 'EUR' THEN 1 END) * 1.0) / COUNT(CASE WHEN Currency = 'CZK' THEN 1 END) AS Ratio\n",
      "FROM customers;\n",
      "\n",
      "Wait, but the question is about customers who pay in EUR against those who pay in CZK. So, the counts are based on the Currency column in the customers table. \n",
      "\n",
      "Yes. So the query would select from the customers table, count the number of EUR and CZK entries, then divide them. \n",
      "\n",
      "Alternatively, using SUM with conditions:\n",
      "\n",
      "SELECT \n",
      "    (SUM(CASE WHEN Currency = 'EUR' THEN 1 ELSE 0 END) * 1.0) / SUM(CASE WHEN Currency = 'CZK' THEN 1 ELSE 0 END) AS Ratio\n",
      "FROM customers;\n",
      "\n",
      "But COUNT is more efficient here. Because COUNT with a condition is equivalent to SUM with 1/0. So both approaches are similar. \n",
      "\n",
      "The final query needs to return only the ratio. So the SQL should select that calculated value. \n",
      "\n",
      "Make sure that the column names are correctly quoted, but since they're in the customers table, and the column is named 'Currency', it's okay. \n",
      "\n",
      "Check if there are any other tables involved. The transactions table has Price and Amount, but the question is about the currency the customers use, which is stored in the customers table. So the transactions_1k table is not needed here. \n",
      "\n",
      "So the correct SQL is to query the customers table, count the EUR and CZK customers, and divide them.\n",
      "\n",
      "Final answer based om reasoning for this model:\n",
      "\n",
      "\n",
      "```\n",
      "SELECT (COUNT(CASE WHEN Currency = 'EUR' THEN 1 END) * 1.0) / COUNT(CASE WHEN Currency = 'CZK' THEN 1 END) FROM customers;\n",
      "```\n",
      "\n",
      "model 1 analysis:\n",
      " Reasoning process:\n",
      "\n",
      "Okay, let's tackle this problem. The user wants the ratio of customers who pay in EUR versus those who pay in CZK. First, I need to figure out where the Currency information is stored. Looking at the tables, the 'customers' table has a 'Currency' column. So, the plan is to count how many customers have 'EUR' and how many have 'CZK' in that column.\n",
      "\n",
      "Wait, but the question mentions customers who pay in a certain currency. However, the 'Currency' column in the customers table might represent their preferred currency or the currency they use for transactions. But the problem states that the ratio is based on customers' payment currency, so I think the 'Currency' column in the customers table is the right place to look.\n",
      "\n",
      "Now, I need to count the number of customers with Currency = 'EUR' and those with Currency = 'CZK'. Then divide the two counts to get the ratio. \n",
      "\n",
      "I should write a query that selects these counts. Using COUNT(CASE WHEN Currency = 'EUR' THEN 1 END) and COUNT(CASE WHEN Currency = 'CZK' THEN 1 END), then divide them. Alternatively, I could use SUM with a condition, but COUNT with CASE is more straightforward here.\n",
      "\n",
      "Wait, but what if there are customers with other currencies? The problem says to count only EUR and CZK. So, the query should only consider those two. Also, need to make sure that the division is done correctly, but SQLite handles division as floating-point if needed.\n",
      "\n",
      "Now, the SQL query would be something like:\n",
      "\n",
      "SELECT \n",
      "    (COUNT(CASE WHEN Currency = 'EUR' THEN 1 END) * 1.0) / COUNT(CASE WHEN Currency = 'CZK' THEN 1 END) AS Ratio\n",
      "FROM customers;\n",
      "\n",
      "But I need to check if there are any customers with NULL in the Currency column. If so, they won't be counted in either. The problem doesn't mention handling that, so assuming that all customers have a valid currency.\n",
      "\n",
      "Wait, the 'Currency' column in the customers table is defined as NULLable. So, there could be customers with NULL. But the question is about customers who pay in EUR or CZK, so those with NULL would be excluded. That's correct.\n",
      "\n",
      "Another point: The question uses the term \"customers who pay in EUR\" which might imply that the currency is determined by their transactions. However, the 'Currency' column in the customers table might be their preferred currency or the currency used in transactions. Since the problem gives the external knowledge that it's based on the Currency column, I should stick to that.\n",
      "\n",
      "Therefore, the correct approach is to count the number of customers with Currency 'EUR' and 'CZK' and compute their ratio.\n",
      "\n",
      "Final answer based om reasoning for this model:\n",
      "\n",
      "\n",
      "```\n",
      "SELECT \n",
      "    (COUNT(CASE WHEN Currency = 'EUR' THEN 1 END) * 1.0) / COUNT(CASE WHEN Currency = 'CZK' THEN 1 END) AS Ratio\n",
      "FROM customers;\n",
      "```\n",
      "\n",
      "\n",
      "here is avaliable tables below\n",
      "\n",
      "\n",
      "Table: customers\n",
      "CREATE TABLE customers\n",
      "(\n",
      "    CustomerID INTEGER UNIQUE     not null\n",
      "        primary key,\n",
      "    Segment    TEXT null,\n",
      "    Currency   TEXT null\n",
      ")\n",
      "\n",
      "Table: gasstations\n",
      "CREATE TABLE gasstations\n",
      "(\n",
      "    GasStationID INTEGER    UNIQUE   not null\n",
      "        primary key,\n",
      "    ChainID      INTEGER          null,\n",
      "    Country      TEXT null,\n",
      "    Segment      TEXT null\n",
      ")\n",
      "\n",
      "Table: products\n",
      "CREATE TABLE products\n",
      "(\n",
      "    ProductID   INTEGER   UNIQUE      not null\n",
      "        primary key,\n",
      "    Description TEXT null\n",
      ")\n",
      "\n",
      "Table: transactions_1k\n",
      "CREATE TABLE \"transactions_1k\"\n",
      "(\n",
      "    TransactionID INTEGER\n",
      "        primary key autoincrement,\n",
      "    Date          DATE,\n",
      "    Time          TEXT,\n",
      "    CustomerID    INTEGER,\n",
      "    CardID        INTEGER,\n",
      "    GasStationID  INTEGER,\n",
      "    ProductID     INTEGER,\n",
      "    Amount        INTEGER,\n",
      "    Price         REAL\n",
      ")\n",
      "\n",
      "Table: sqlite_sequence\n",
      "CREATE TABLE sqlite_sequence(name,seq)\n",
      "\n",
      "Table: yearmonth\n",
      "CREATE TABLE \"yearmonth\"\n",
      "(\n",
      "    CustomerID  INTEGER not null\n",
      "        references customers\n",
      "            on update cascade on delete cascade\n",
      "        references customers,\n",
      "    Date        TEXT    not null,\n",
      "    Consumption REAL,\n",
      "    primary key (Date, CustomerID)\n",
      ")\n",
      "\n",
      "-- Using valid SQLite and understanding External Knowledge, answer the following questions for the tables provided above.\n",
      "-- What is the ratio of customers who pay in EUR against customers who pay in CZK?\n",
      "-- External Knowledge: ratio of customers who pay in EUR against customers who pay in CZK = count(Currency = 'EUR') / count(Currency = 'CZK').\n",
      "\n",
      "\n",
      "Generate the SQLite for the above question after thinking step by step: \n",
      "\n",
      "\n",
      "Instructions:\n",
      "- Make sure you only output the information that is asked in the question. If the question asks for a specific column, make sure to only include that column in the SELECT clause, nothing more.\n",
      "- The generated query should return all of the information asked in the question without any missing or extra information.\n",
      "- Before generating the final SQL query, please think through the steps of how to write the query.\n",
      "- Do not misuse column names, keep them in quotes `\n",
      "- Carefully understand what colomns belond to what tables\n",
      "- Use only initial column names, change names prohibited\n",
      "        \n",
      "Output Format:\n",
      "In your answer, please enclose the generated SQL query in a code block:\n",
      "```\n",
      "-- Your SQL query\n",
      "```    \n",
      "and nothing else, no exaplains, no comments (asnwer should be less than 512 characters)\n",
      "\n",
      "Take a deep breath and think step by step to find the correct SQL query in SQLite format.\n",
      "\n",
      "Question repetition: What is the ratio of customers who pay in EUR against customers who pay in CZK?\n",
      "\n",
      "Be care! Include only what i want it questiona and nothing else<|im_end|>\n",
      "<|im_start|>assistant\n",
      "<think>\n",
      "\n",
      "</think>\n",
      "\n",
      "\n",
      "\n",
      "\n",
      "Максимальное количество токенов в промптах: 8260\n",
      "\n",
      "начинаем скорринг\n",
      "Загружаем чаты с данными...\n",
      "Данные успешно загружены\n",
      "Начали генерацию SQL запросов\n"
     ]
    },
    {
     "name": "stderr",
     "output_type": "stream",
     "text": [
      "Processed prompts: 100%|██████████| 500/500 [01:07<00:00,  7.44it/s, est. speed input: 22696.52 toks/s, output: 434.17 toks/s] "
     ]
    },
    {
     "name": "stdout",
     "output_type": "stream",
     "text": [
      "extract_think количество ошибок:  0\n",
      "extract_sql количество ошибок:  0\n",
      "Закончили генерацию SQL запросов\n",
      "Начали скорр полученных SQL запросов\n"
     ]
    },
    {
     "name": "stderr",
     "output_type": "stream",
     "text": [
      "\n"
     ]
    },
    {
     "name": "stdout",
     "output_type": "stream",
     "text": [
      "Qwen3-8b Mini DEV Финальный результат EX: 54.80\n",
      "Qwen3-8b процент запросов, которые успешно выполнились Mini DEV: 96.00%\n",
      "====================================================================================================\n",
      "\n",
      "\n",
      "Загружаем чаты с данными...\n",
      "Данные успешно загружены\n",
      "Начали генерацию SQL запросов\n"
     ]
    },
    {
     "name": "stderr",
     "output_type": "stream",
     "text": [
      "Processed prompts: 100%|██████████| 500/500 [01:08<00:00,  7.25it/s, est. speed input: 22940.71 toks/s, output: 427.32 toks/s] "
     ]
    },
    {
     "name": "stdout",
     "output_type": "stream",
     "text": [
      "extract_think количество ошибок:  0\n",
      "extract_sql количество ошибок:  0\n",
      "Закончили генерацию SQL запросов\n",
      "Начали скорр полученных SQL запросов\n"
     ]
    },
    {
     "name": "stderr",
     "output_type": "stream",
     "text": [
      "\n"
     ]
    },
    {
     "name": "stdout",
     "output_type": "stream",
     "text": [
      "Qwen3-8b Mini DEV Финальный результат EX: 55.60\n",
      "Qwen3-8b процент запросов, которые успешно выполнились Mini DEV: 95.80%\n",
      "====================================================================================================\n",
      "\n",
      "\n",
      "Загружаем чаты с данными...\n",
      "Данные успешно загружены\n",
      "Начали генерацию SQL запросов\n"
     ]
    },
    {
     "name": "stderr",
     "output_type": "stream",
     "text": [
      "Processed prompts: 100%|██████████| 500/500 [01:17<00:00,  6.47it/s, est. speed input: 22523.54 toks/s, output: 379.10 toks/s]"
     ]
    },
    {
     "name": "stdout",
     "output_type": "stream",
     "text": [
      "extract_think количество ошибок:  0\n",
      "extract_sql количество ошибок:  0\n",
      "Закончили генерацию SQL запросов\n",
      "Начали скорр полученных SQL запросов\n"
     ]
    },
    {
     "name": "stderr",
     "output_type": "stream",
     "text": [
      "\n"
     ]
    },
    {
     "name": "stdout",
     "output_type": "stream",
     "text": [
      "Qwen3-8b Mini DEV Финальный результат EX: 55.40\n",
      "Qwen3-8b процент запросов, которые успешно выполнились Mini DEV: 96.40%\n",
      "====================================================================================================\n",
      "\n",
      "\n",
      "Загружаем чаты с данными...\n",
      "Данные успешно загружены\n",
      "Начали генерацию SQL запросов\n"
     ]
    },
    {
     "name": "stderr",
     "output_type": "stream",
     "text": [
      "Processed prompts: 100%|██████████| 500/500 [01:15<00:00,  6.61it/s, est. speed input: 22741.38 toks/s, output: 386.60 toks/s]"
     ]
    },
    {
     "name": "stdout",
     "output_type": "stream",
     "text": [
      "extract_think количество ошибок:  0\n",
      "extract_sql количество ошибок:  0\n",
      "Закончили генерацию SQL запросов\n",
      "Начали скорр полученных SQL запросов\n"
     ]
    },
    {
     "name": "stderr",
     "output_type": "stream",
     "text": [
      "\n"
     ]
    },
    {
     "name": "stdout",
     "output_type": "stream",
     "text": [
      "Qwen3-8b Mini DEV Финальный результат EX: 54.80\n",
      "Qwen3-8b процент запросов, которые успешно выполнились Mini DEV: 96.00%\n",
      "====================================================================================================\n",
      "\n",
      "\n",
      "Загружаем чаты с данными...\n",
      "Данные успешно загружены\n",
      "Начали генерацию SQL запросов\n"
     ]
    },
    {
     "name": "stderr",
     "output_type": "stream",
     "text": [
      "Processed prompts: 100%|██████████| 500/500 [01:13<00:00,  6.83it/s, est. speed input: 22855.92 toks/s, output: 399.07 toks/s] "
     ]
    },
    {
     "name": "stdout",
     "output_type": "stream",
     "text": [
      "extract_think количество ошибок:  0\n",
      "extract_sql количество ошибок:  0\n",
      "Закончили генерацию SQL запросов\n",
      "Начали скорр полученных SQL запросов\n"
     ]
    },
    {
     "name": "stderr",
     "output_type": "stream",
     "text": [
      "\n"
     ]
    },
    {
     "name": "stdout",
     "output_type": "stream",
     "text": [
      "Qwen3-8b Mini DEV Финальный результат EX: 53.60\n",
      "Qwen3-8b процент запросов, которые успешно выполнились Mini DEV: 96.00%\n",
      "====================================================================================================\n",
      "\n",
      "\n",
      "Загружаем чаты с данными...\n",
      "Данные успешно загружены\n",
      "Начали генерацию SQL запросов\n"
     ]
    },
    {
     "name": "stderr",
     "output_type": "stream",
     "text": [
      "Processed prompts: 100%|██████████| 500/500 [01:13<00:00,  6.80it/s, est. speed input: 22968.45 toks/s, output: 394.07 toks/s]"
     ]
    },
    {
     "name": "stdout",
     "output_type": "stream",
     "text": [
      "extract_think количество ошибок:  0\n",
      "extract_sql количество ошибок:  0\n",
      "Закончили генерацию SQL запросов\n",
      "Начали скорр полученных SQL запросов\n"
     ]
    },
    {
     "name": "stderr",
     "output_type": "stream",
     "text": [
      "\n"
     ]
    },
    {
     "name": "stdout",
     "output_type": "stream",
     "text": [
      "Qwen3-8b Mini DEV Финальный результат EX: 55.20\n",
      "Qwen3-8b процент запросов, которые успешно выполнились Mini DEV: 95.40%\n",
      "====================================================================================================\n",
      "\n",
      "\n",
      "Загружаем чаты с данными...\n",
      "Данные успешно загружены\n",
      "Начали генерацию SQL запросов\n"
     ]
    },
    {
     "name": "stderr",
     "output_type": "stream",
     "text": [
      "Processed prompts: 100%|██████████| 500/500 [01:09<00:00,  7.21it/s, est. speed input: 23060.12 toks/s, output: 420.55 toks/s]"
     ]
    },
    {
     "name": "stdout",
     "output_type": "stream",
     "text": [
      "extract_think количество ошибок:  0\n",
      "extract_sql количество ошибок:  0\n",
      "Закончили генерацию SQL запросов\n",
      "Начали скорр полученных SQL запросов\n"
     ]
    },
    {
     "name": "stderr",
     "output_type": "stream",
     "text": [
      "\n"
     ]
    },
    {
     "name": "stdout",
     "output_type": "stream",
     "text": [
      "Qwen3-8b Mini DEV Финальный результат EX: 54.60\n",
      "Qwen3-8b процент запросов, которые успешно выполнились Mini DEV: 95.80%\n",
      "====================================================================================================\n",
      "\n",
      "\n",
      "Загружаем чаты с данными...\n",
      "Данные успешно загружены\n",
      "Начали генерацию SQL запросов\n"
     ]
    },
    {
     "name": "stderr",
     "output_type": "stream",
     "text": [
      "Processed prompts: 100%|██████████| 500/500 [01:08<00:00,  7.32it/s, est. speed input: 22947.84 toks/s, output: 427.91 toks/s] "
     ]
    },
    {
     "name": "stdout",
     "output_type": "stream",
     "text": [
      "extract_think количество ошибок:  0\n",
      "extract_sql количество ошибок:  0\n",
      "Закончили генерацию SQL запросов\n",
      "Начали скорр полученных SQL запросов\n"
     ]
    },
    {
     "name": "stderr",
     "output_type": "stream",
     "text": [
      "\n"
     ]
    },
    {
     "name": "stdout",
     "output_type": "stream",
     "text": [
      "Qwen3-8b Mini DEV Финальный результат EX: 55.60\n",
      "Qwen3-8b процент запросов, которые успешно выполнились Mini DEV: 97.00%\n",
      "====================================================================================================\n",
      "\n",
      "\n",
      "Загружаем чаты с данными...\n",
      "Данные успешно загружены\n",
      "Начали генерацию SQL запросов\n"
     ]
    },
    {
     "name": "stderr",
     "output_type": "stream",
     "text": [
      "Processed prompts: 100%|██████████| 500/500 [01:09<00:00,  7.16it/s, est. speed input: 22956.08 toks/s, output: 413.30 toks/s] "
     ]
    },
    {
     "name": "stdout",
     "output_type": "stream",
     "text": [
      "extract_think количество ошибок:  0\n",
      "extract_sql количество ошибок:  0\n",
      "Закончили генерацию SQL запросов\n",
      "Начали скорр полученных SQL запросов\n"
     ]
    },
    {
     "name": "stderr",
     "output_type": "stream",
     "text": [
      "\n"
     ]
    },
    {
     "name": "stdout",
     "output_type": "stream",
     "text": [
      "Qwen3-8b Mini DEV Финальный результат EX: 55.00\n",
      "Qwen3-8b процент запросов, которые успешно выполнились Mini DEV: 96.40%\n",
      "====================================================================================================\n",
      "\n",
      "\n",
      "Загружаем чаты с данными...\n",
      "Данные успешно загружены\n",
      "Начали генерацию SQL запросов\n"
     ]
    },
    {
     "name": "stderr",
     "output_type": "stream",
     "text": [
      "Processed prompts: 100%|██████████| 500/500 [01:09<00:00,  7.24it/s, est. speed input: 23341.33 toks/s, output: 420.49 toks/s] "
     ]
    },
    {
     "name": "stdout",
     "output_type": "stream",
     "text": [
      "extract_think количество ошибок:  0\n",
      "extract_sql количество ошибок:  0\n",
      "Закончили генерацию SQL запросов\n",
      "Начали скорр полученных SQL запросов\n"
     ]
    },
    {
     "name": "stderr",
     "output_type": "stream",
     "text": [
      "\n"
     ]
    },
    {
     "name": "stdout",
     "output_type": "stream",
     "text": [
      "Qwen3-8b Mini DEV Финальный результат EX: 52.60\n",
      "Qwen3-8b процент запросов, которые успешно выполнились Mini DEV: 97.00%\n",
      "====================================================================================================\n",
      "\n",
      "\n",
      "Загружаем чаты с данными...\n",
      "Данные успешно загружены\n",
      "Начали генерацию SQL запросов\n"
     ]
    },
    {
     "name": "stderr",
     "output_type": "stream",
     "text": [
      "Processed prompts: 100%|██████████| 500/500 [01:10<00:00,  7.09it/s, est. speed input: 23332.84 toks/s, output: 413.09 toks/s]"
     ]
    },
    {
     "name": "stdout",
     "output_type": "stream",
     "text": [
      "extract_think количество ошибок:  0\n",
      "extract_sql количество ошибок:  0\n",
      "Закончили генерацию SQL запросов\n",
      "Начали скорр полученных SQL запросов\n"
     ]
    },
    {
     "name": "stderr",
     "output_type": "stream",
     "text": [
      "\n"
     ]
    },
    {
     "name": "stdout",
     "output_type": "stream",
     "text": [
      "Qwen3-8b Mini DEV Финальный результат EX: 54.20\n",
      "Qwen3-8b процент запросов, которые успешно выполнились Mini DEV: 97.00%\n",
      "====================================================================================================\n",
      "\n",
      "\n",
      "Загружаем чаты с данными...\n",
      "Данные успешно загружены\n",
      "Начали генерацию SQL запросов\n"
     ]
    },
    {
     "name": "stderr",
     "output_type": "stream",
     "text": [
      "Processed prompts: 100%|██████████| 500/500 [01:11<00:00,  6.98it/s, est. speed input: 23154.01 toks/s, output: 404.92 toks/s]"
     ]
    },
    {
     "name": "stdout",
     "output_type": "stream",
     "text": [
      "extract_think количество ошибок:  0\n",
      "extract_sql количество ошибок:  0\n",
      "Закончили генерацию SQL запросов\n",
      "Начали скорр полученных SQL запросов\n"
     ]
    },
    {
     "name": "stderr",
     "output_type": "stream",
     "text": [
      "\n"
     ]
    },
    {
     "name": "stdout",
     "output_type": "stream",
     "text": [
      "Qwen3-8b Mini DEV Финальный результат EX: 54.00\n",
      "Qwen3-8b процент запросов, которые успешно выполнились Mini DEV: 97.80%\n",
      "====================================================================================================\n",
      "\n",
      "\n",
      "Загружаем чаты с данными...\n",
      "Данные успешно загружены\n",
      "Начали генерацию SQL запросов\n"
     ]
    },
    {
     "name": "stderr",
     "output_type": "stream",
     "text": [
      "Processed prompts: 100%|██████████| 500/500 [01:12<00:00,  6.87it/s, est. speed input: 23007.40 toks/s, output: 400.35 toks/s] "
     ]
    },
    {
     "name": "stdout",
     "output_type": "stream",
     "text": [
      "extract_think количество ошибок:  0\n",
      "extract_sql количество ошибок:  0\n",
      "Закончили генерацию SQL запросов\n",
      "Начали скорр полученных SQL запросов\n"
     ]
    },
    {
     "name": "stderr",
     "output_type": "stream",
     "text": [
      "\n"
     ]
    },
    {
     "name": "stdout",
     "output_type": "stream",
     "text": [
      "Qwen3-8b Mini DEV Финальный результат EX: 53.20\n",
      "Qwen3-8b процент запросов, которые успешно выполнились Mini DEV: 96.20%\n",
      "====================================================================================================\n",
      "\n",
      "\n",
      "Загружаем чаты с данными...\n",
      "Данные успешно загружены\n",
      "Начали генерацию SQL запросов\n"
     ]
    },
    {
     "name": "stderr",
     "output_type": "stream",
     "text": [
      "Processed prompts: 100%|██████████| 500/500 [01:06<00:00,  7.57it/s, est. speed input: 23510.04 toks/s, output: 440.10 toks/s] "
     ]
    },
    {
     "name": "stdout",
     "output_type": "stream",
     "text": [
      "extract_think количество ошибок:  0\n",
      "extract_sql количество ошибок:  0\n",
      "Закончили генерацию SQL запросов\n",
      "Начали скорр полученных SQL запросов\n"
     ]
    },
    {
     "name": "stderr",
     "output_type": "stream",
     "text": [
      "\n"
     ]
    },
    {
     "name": "stdout",
     "output_type": "stream",
     "text": [
      "Qwen3-8b Mini DEV Финальный результат EX: 54.20\n",
      "Qwen3-8b процент запросов, которые успешно выполнились Mini DEV: 96.20%\n",
      "====================================================================================================\n",
      "\n",
      "\n",
      "Загружаем чаты с данными...\n",
      "Данные успешно загружены\n",
      "Начали генерацию SQL запросов\n"
     ]
    },
    {
     "name": "stderr",
     "output_type": "stream",
     "text": [
      "Processed prompts: 100%|██████████| 500/500 [01:06<00:00,  7.53it/s, est. speed input: 23458.28 toks/s, output: 433.90 toks/s] "
     ]
    },
    {
     "name": "stdout",
     "output_type": "stream",
     "text": [
      "extract_think количество ошибок:  0\n",
      "extract_sql количество ошибок:  0\n",
      "Закончили генерацию SQL запросов\n",
      "Начали скорр полученных SQL запросов\n"
     ]
    },
    {
     "name": "stderr",
     "output_type": "stream",
     "text": [
      "\n"
     ]
    },
    {
     "name": "stdout",
     "output_type": "stream",
     "text": [
      "Qwen3-8b Mini DEV Финальный результат EX: 54.80\n",
      "Qwen3-8b процент запросов, которые успешно выполнились Mini DEV: 95.80%\n",
      "====================================================================================================\n",
      "\n",
      "\n",
      "Загружаем чаты с данными...\n",
      "Данные успешно загружены\n",
      "Начали генерацию SQL запросов\n"
     ]
    },
    {
     "name": "stderr",
     "output_type": "stream",
     "text": [
      "Processed prompts: 100%|██████████| 500/500 [01:11<00:00,  6.98it/s, est. speed input: 22991.69 toks/s, output: 404.51 toks/s]"
     ]
    },
    {
     "name": "stdout",
     "output_type": "stream",
     "text": [
      "extract_think количество ошибок:  0\n",
      "extract_sql количество ошибок:  0\n",
      "Закончили генерацию SQL запросов\n",
      "Начали скорр полученных SQL запросов\n"
     ]
    },
    {
     "name": "stderr",
     "output_type": "stream",
     "text": [
      "\n"
     ]
    },
    {
     "name": "stdout",
     "output_type": "stream",
     "text": [
      "Qwen3-8b Mini DEV Финальный результат EX: 55.40\n",
      "Qwen3-8b процент запросов, которые успешно выполнились Mini DEV: 96.00%\n",
      "====================================================================================================\n",
      "\n",
      "\n",
      "Загружаем чаты с данными...\n",
      "Данные успешно загружены\n",
      "Начали генерацию SQL запросов\n"
     ]
    },
    {
     "name": "stderr",
     "output_type": "stream",
     "text": [
      "Processed prompts: 100%|██████████| 500/500 [01:09<00:00,  7.17it/s, est. speed input: 22840.09 toks/s, output: 417.60 toks/s] "
     ]
    },
    {
     "name": "stdout",
     "output_type": "stream",
     "text": [
      "extract_think количество ошибок:  0\n",
      "extract_sql количество ошибок:  0\n",
      "Закончили генерацию SQL запросов\n",
      "Начали скорр полученных SQL запросов\n"
     ]
    },
    {
     "name": "stderr",
     "output_type": "stream",
     "text": [
      "\n"
     ]
    },
    {
     "name": "stdout",
     "output_type": "stream",
     "text": [
      "Qwen3-8b Mini DEV Финальный результат EX: 55.60\n",
      "Qwen3-8b процент запросов, которые успешно выполнились Mini DEV: 96.80%\n",
      "====================================================================================================\n",
      "\n",
      "\n",
      "Загружаем чаты с данными...\n",
      "Данные успешно загружены\n",
      "Начали генерацию SQL запросов\n"
     ]
    },
    {
     "name": "stderr",
     "output_type": "stream",
     "text": [
      "Processed prompts: 100%|██████████| 500/500 [01:03<00:00,  7.86it/s, est. speed input: 23010.62 toks/s, output: 458.37 toks/s] "
     ]
    },
    {
     "name": "stdout",
     "output_type": "stream",
     "text": [
      "extract_think количество ошибок:  0\n",
      "extract_sql количество ошибок:  0\n",
      "Закончили генерацию SQL запросов\n",
      "Начали скорр полученных SQL запросов\n"
     ]
    },
    {
     "name": "stderr",
     "output_type": "stream",
     "text": [
      "\n"
     ]
    },
    {
     "name": "stdout",
     "output_type": "stream",
     "text": [
      "Qwen3-8b Mini DEV Финальный результат EX: 52.00\n",
      "Qwen3-8b процент запросов, которые успешно выполнились Mini DEV: 95.80%\n",
      "====================================================================================================\n",
      "\n",
      "\n",
      "Загружаем чаты с данными...\n",
      "Данные успешно загружены\n",
      "Начали генерацию SQL запросов\n"
     ]
    },
    {
     "name": "stderr",
     "output_type": "stream",
     "text": [
      "Processed prompts: 100%|██████████| 500/500 [00:54<00:00,  9.16it/s, est. speed input: 23020.18 toks/s, output: 530.75 toks/s] "
     ]
    },
    {
     "name": "stdout",
     "output_type": "stream",
     "text": [
      "extract_think количество ошибок:  0\n",
      "extract_sql количество ошибок:  0\n",
      "Закончили генерацию SQL запросов\n",
      "Начали скорр полученных SQL запросов\n"
     ]
    },
    {
     "name": "stderr",
     "output_type": "stream",
     "text": [
      "\n"
     ]
    },
    {
     "name": "stdout",
     "output_type": "stream",
     "text": [
      "Qwen3-8b Mini DEV Финальный результат EX: 51.00\n",
      "Qwen3-8b процент запросов, которые успешно выполнились Mini DEV: 94.40%\n",
      "====================================================================================================\n",
      "\n",
      "\n",
      "Загружаем чаты с данными...\n",
      "Данные успешно загружены\n",
      "Начали генерацию SQL запросов\n"
     ]
    },
    {
     "name": "stderr",
     "output_type": "stream",
     "text": [
      "Processed prompts: 100%|██████████| 500/500 [01:02<00:00,  8.05it/s, est. speed input: 22103.06 toks/s, output: 469.56 toks/s] "
     ]
    },
    {
     "name": "stdout",
     "output_type": "stream",
     "text": [
      "extract_think количество ошибок:  0\n",
      "extract_sql количество ошибок:  0\n",
      "Закончили генерацию SQL запросов\n",
      "Начали скорр полученных SQL запросов\n"
     ]
    },
    {
     "name": "stderr",
     "output_type": "stream",
     "text": [
      "\n"
     ]
    },
    {
     "name": "stdout",
     "output_type": "stream",
     "text": [
      "Qwen3-8b Mini DEV Финальный результат EX: 52.60\n",
      "Qwen3-8b процент запросов, которые успешно выполнились Mini DEV: 95.40%\n",
      "====================================================================================================\n",
      "\n",
      "\n"
     ]
    }
   ],
   "source": [
    "run_cot_experiment(model,arr_seeds,arr_versions, type_cot, num_observations=num_observations)"
   ]
  },
  {
   "cell_type": "markdown",
   "id": "6046825c-8b23-4466-9c8c-2bd8d22da520",
   "metadata": {},
   "source": [
    "## 3 наблюдения"
   ]
  },
  {
   "cell_type": "code",
   "execution_count": 5,
   "id": "087d84b5-c110-41ff-a60d-7dbdeb15ffce",
   "metadata": {},
   "outputs": [
    {
     "name": "stdout",
     "output_type": "stream",
     "text": [
      "[569, 567, 950, 911, 30, 229, 439, 88, 664, 701, 690, 509, 882, 672, 910, 731, 85, 385, 930, 602]\n",
      "model: Qwen3-14B\n"
     ]
    }
   ],
   "source": [
    "n= 20\n",
    "arr_seeds = [random.randint(0,1000) for _ in range(n)]\n",
    "arr_versions = [x for x in range(n)]\n",
    "model = \"Qwen3-14B\"\n",
    "num_observations = 3\n",
    "type_cot = 'all_new'\n",
    "print(arr_seeds)\n",
    "print(f\"model: {model}\")"
   ]
  },
  {
   "cell_type": "code",
   "execution_count": 6,
   "id": "75073cd5-a80a-47f6-90d0-af48f09fc511",
   "metadata": {
    "scrolled": true
   },
   "outputs": [
    {
     "name": "stdout",
     "output_type": "stream",
     "text": [
      "Загружаем модель...\n"
     ]
    },
    {
     "name": "stderr",
     "output_type": "stream",
     "text": [
      "Loading safetensors checkpoint shards:   0% Completed | 0/8 [00:00<?, ?it/s]\n",
      "Loading safetensors checkpoint shards:  12% Completed | 1/8 [00:01<00:09,  1.39s/it]\n",
      "Loading safetensors checkpoint shards:  25% Completed | 2/8 [00:02<00:08,  1.39s/it]\n",
      "Loading safetensors checkpoint shards:  38% Completed | 3/8 [00:04<00:06,  1.39s/it]\n",
      "Loading safetensors checkpoint shards:  50% Completed | 4/8 [00:05<00:05,  1.39s/it]\n",
      "Loading safetensors checkpoint shards:  62% Completed | 5/8 [00:07<00:04,  1.42s/it]\n",
      "Loading safetensors checkpoint shards:  75% Completed | 6/8 [00:07<00:02,  1.19s/it]\n",
      "Loading safetensors checkpoint shards:  88% Completed | 7/8 [00:09<00:01,  1.29s/it]\n",
      "Loading safetensors checkpoint shards: 100% Completed | 8/8 [00:10<00:00,  1.36s/it]\n",
      "Loading safetensors checkpoint shards: 100% Completed | 8/8 [00:10<00:00,  1.35s/it]\n",
      "\u001b[1;36m(VllmWorker rank=0 pid=3155574)\u001b[0;0m \n"
     ]
    },
    {
     "name": "stdout",
     "output_type": "stream",
     "text": [
      "Модель успешно загружена\n",
      "model_config {'model': '/data/home/vkropoti/models/Qwen3-14B', 'tensor_parallel_size': 2, 'max_model_len': 40000, 'max_new_tokens': 1500, 'temperature': 0, 'top_k': 1, 'top_p': 0.8, 'gpu_memory_utilization': 0.9, 'trust_remote_code': False, 'seed': 569}\n",
      "\n",
      "prompts_config {'path_dev_json': '/home/vkropoti/vllm/dev.json', 'path_sql_dbs': '/data/home/vkropoti/sql_data/dev_databases/', 'use_reasoning': False, 'paths_to_cot': ['/data/home/vkropoti/sql_llm_answers/base_reasoning/sql_all_new_Qwen3-14B-reasoning-v0', '/data/home/vkropoti/sql_llm_answers/base_reasoning/sql_all_new_Qwen3-14B-reasoning-v1', '/data/home/vkropoti/sql_llm_answers/base_reasoning/sql_all_new_Qwen3-14B-reasoning-v2']}\n",
      "\n",
      "save_config {'path_sql_save': '/data/home/vkropoti/sql_llm_answers/base_reasoning/sql_all_Qwen3-14B-cot_all_new_think==False_nobs3-v0', 'path_think_save': None, 'path_sql_answers_save': '/data/home/vkropoti/sql_llm_answers/base_reasoning/sql_predict_Qwen3-14B-cot_all_new_think==False_nobs3-v0', 'path_to_save_scores': '/data/home/vkropoti/sql_llm_answers/base_reasoning/sql_results_Qwen3-14B-cot_all_new_think==False_nobs3-v0', 'path_to_save_executed': '/data/home/vkropoti/sql_llm_answers/base_reasoning/sql_executed_Qwen3-14B-cot_all_new_think==False_nobs3-v0'}\n",
      "\n",
      "Модель успешно загружена\n",
      "Пример промпта\n",
      "<|im_start|>system\n",
      "\n",
      "You are a data science expert. Below, you are provided with a database schema and a natural language question. Your task is to understand the schema and generate a valid SQL query to answer the question.\n",
      "\n",
      "Database Engine: SQLite\n",
      "\n",
      "You will be given an additional analysis of other models, please take it into account, so the plan is\n",
      "1. Analyse given addition analysis from other models (find in which analysis the same and differ, how to use that to answer question)\n",
      "2. Combine best from previous part and think how to solve the problem (analyze tables, take care what columns avaliable in each table and so on, check the syntacsis)\n",
      "3. Create the answers. The answer should be only sql query.\n",
      "\n",
      "Carefully follow the instruction and add <|im_end|> and the end of the final answer<|im_end|>\n",
      "<|im_start|>user\n",
      "Here is addition analysis from other models which can be helpfull, please take this into account but be careful (choose the best from each analysis, combine them to make the most proper answer):\n",
      "\n",
      "model 0 analysis:\n",
      " Reasoning process:\n",
      "\n",
      "Okay, let's tackle this question. The user wants the ratio of customers who pay in EUR versus those who pay in CZK. \n",
      "\n",
      "First, I need to figure out where the currency information is stored. Looking at the tables, the 'customers' table has a 'Currency' column. That's where the payment currency for each customer is recorded.\n",
      "\n",
      "Next, the question is about the ratio. So, I need to count the number of customers with Currency 'EUR' and those with 'CZK'. Then divide these two counts. \n",
      "\n",
      "Wait, the External Knowledge note says the ratio is count(Currency = 'EUR') / count(Currency = 'CZK'). So I need to compute these two counts and then divide them. \n",
      "\n",
      "In SQLite, I can use the COUNT() function with a condition. For example, COUNT(CASE WHEN Currency = 'EUR' THEN 1 END) to count EUR customers. Similarly for CZK. \n",
      "\n",
      "But wait, the CustomerID in the customers table is the primary key, so each customer is unique. So just count the number of rows where Currency is EUR and where it's CZK. \n",
      "\n",
      "So the query should select (count of EUR) divided by (count of CZK). \n",
      "\n",
      "But how to handle division? In SQLite, using / operator. But need to make sure that division is done as floating point, not integer. For example, if both counts are integers, dividing them might result in integer division. To avoid that, maybe cast them to REAL or use a decimal value. \n",
      "\n",
      "But the question doesn't specify handling of zero, like if CZK count is zero. But assuming the data has both. \n",
      "\n",
      "Putting it all together: \n",
      "\n",
      "SELECT \n",
      "    (COUNT(CASE WHEN Currency = 'EUR' THEN 1 END) * 1.0) / COUNT(CASE WHEN Currency = 'CZK' THEN 1 END) AS Ratio\n",
      "FROM customers;\n",
      "\n",
      "Wait, but the question is about customers who pay in EUR against those who pay in CZK. So, the counts are based on the Currency column in the customers table. \n",
      "\n",
      "Yes. So the query would select from the customers table, count the number of EUR and CZK entries, then divide them. \n",
      "\n",
      "Alternatively, using SUM with conditions:\n",
      "\n",
      "SELECT \n",
      "    (SUM(CASE WHEN Currency = 'EUR' THEN 1 ELSE 0 END) * 1.0) / SUM(CASE WHEN Currency = 'CZK' THEN 1 ELSE 0 END) AS Ratio\n",
      "FROM customers;\n",
      "\n",
      "But COUNT is more efficient here. Because COUNT with a condition is equivalent to SUM with 1/0. So both approaches are similar. \n",
      "\n",
      "The final query needs to return only the ratio. So the SQL should select that calculated value. \n",
      "\n",
      "Make sure that the column names are correctly quoted, but since they're in the customers table, and the column is named 'Currency', it's okay. \n",
      "\n",
      "Check if there are any other tables involved. The transactions table has Price and Amount, but the question is about the currency the customers use, which is stored in the customers table. So the transactions_1k table is not needed here. \n",
      "\n",
      "So the correct SQL is to query the customers table, count the EUR and CZK customers, and divide them.\n",
      "\n",
      "Final answer based om reasoning for this model:\n",
      "\n",
      "\n",
      "```\n",
      "SELECT (COUNT(CASE WHEN Currency = 'EUR' THEN 1 END) * 1.0) / COUNT(CASE WHEN Currency = 'CZK' THEN 1 END) FROM customers;\n",
      "```\n",
      "\n",
      "model 1 analysis:\n",
      " Reasoning process:\n",
      "\n",
      "Okay, let's tackle this problem. The user wants the ratio of customers who pay in EUR versus those who pay in CZK. First, I need to figure out where the Currency information is stored. Looking at the tables, the 'customers' table has a 'Currency' column. So, the plan is to count how many customers have 'EUR' and how many have 'CZK' in that column.\n",
      "\n",
      "Wait, but the question mentions customers who pay in a certain currency. However, the 'Currency' column in the customers table might represent their preferred currency or the currency they use for transactions. But the problem states that the ratio is based on customers' payment currency, so I think the 'Currency' column in the customers table is the right place to look.\n",
      "\n",
      "Now, I need to count the number of customers with Currency = 'EUR' and those with Currency = 'CZK'. Then divide the two counts to get the ratio. \n",
      "\n",
      "I should write a query that selects these counts. Using COUNT(CASE WHEN Currency = 'EUR' THEN 1 END) and COUNT(CASE WHEN Currency = 'CZK' THEN 1 END), then divide them. Alternatively, I could use SUM with a condition, but COUNT with CASE is more straightforward here.\n",
      "\n",
      "Wait, but what if there are customers with other currencies? The problem says to count only EUR and CZK. So, the query should only consider those two. Also, need to make sure that the division is done correctly, but SQLite handles division as floating-point if needed.\n",
      "\n",
      "Now, the SQL query would be something like:\n",
      "\n",
      "SELECT \n",
      "    (COUNT(CASE WHEN Currency = 'EUR' THEN 1 END) * 1.0) / COUNT(CASE WHEN Currency = 'CZK' THEN 1 END) AS Ratio\n",
      "FROM customers;\n",
      "\n",
      "But I need to check if there are any customers with NULL in the Currency column. If so, they won't be counted in either. The problem doesn't mention handling that, so assuming that all customers have a valid currency.\n",
      "\n",
      "Wait, the 'Currency' column in the customers table is defined as NULLable. So, there could be customers with NULL. But the question is about customers who pay in EUR or CZK, so those with NULL would be excluded. That's correct.\n",
      "\n",
      "Another point: The question uses the term \"customers who pay in EUR\" which might imply that the currency is determined by their transactions. However, the 'Currency' column in the customers table might be their preferred currency or the currency used in transactions. Since the problem gives the external knowledge that it's based on the Currency column, I should stick to that.\n",
      "\n",
      "Therefore, the correct approach is to count the number of customers with Currency 'EUR' and 'CZK' and compute their ratio.\n",
      "\n",
      "Final answer based om reasoning for this model:\n",
      "\n",
      "\n",
      "```\n",
      "SELECT \n",
      "    (COUNT(CASE WHEN Currency = 'EUR' THEN 1 END) * 1.0) / COUNT(CASE WHEN Currency = 'CZK' THEN 1 END) AS Ratio\n",
      "FROM customers;\n",
      "```\n",
      "\n",
      "model 2 analysis:\n",
      " Reasoning process:\n",
      "\n",
      "Okay, let's see. The user is asking for the ratio of customers who pay in EUR versus those who pay in CZK. First, I need to figure out which table has the currency information. Looking at the tables provided, the 'customers' table has a 'Currency' column. So, the data we need is in the customers table.\n",
      "\n",
      "The question is about counting customers based on their currency. The external knowledge says the ratio is count(EUR) divided by count(CZK). So, I need to count how many customers have 'EUR' in their Currency column and how many have 'CZK'. Then divide those two counts.\n",
      "\n",
      "But wait, the customers table has CustomerID as the primary key, so each customer is unique. So, I can just count the number of rows where Currency is 'EUR' and where it's 'CZK'.\n",
      "\n",
      "So, the SQL query would need to select these two counts and then compute their ratio. But in SQLite, how to do that? Well, I can use COUNT(CASE WHEN Currency = 'EUR' THEN 1 ELSE NULL END) to count EUR customers, same for CZK. Then divide the two counts.\n",
      "\n",
      "Wait, but the question says \"ratio of customers who pay in EUR against customers who pay in CZK\". So, it's EUR count divided by CZK count.\n",
      "\n",
      "So, the query would be:\n",
      "\n",
      "SELECT \n",
      "    COUNT(CASE WHEN Currency = 'EUR' THEN 1 END) / COUNT(CASE WHEN Currency = 'CZK' THEN 1 END) AS ratio\n",
      "FROM customers;\n",
      "\n",
      "But wait, in SQLite, if you divide two integers, it does integer division. So if the counts are, say, 3 and 2, it would return 1.5 as 1 if using integer division. But maybe the user expects a float. To ensure it's a float, perhaps multiply by 1.0 or cast to REAL.\n",
      "\n",
      "Alternatively, using COUNT(CASE...) as separate columns and then compute the ratio. But the user wants the ratio as a single value.\n",
      "\n",
      "Another approach: compute each count as a subquery or in the same SELECT.\n",
      "\n",
      "Yes, the initial approach should work. Let me check the syntax again. The CASE expression returns 1 when the condition is met, otherwise NULL. COUNT counts non-NULL values. So COUNT(CASE WHEN Currency = 'EUR' THEN 1 END) gives the number of EUR customers.\n",
      "\n",
      "Then dividing those two counts.\n",
      "\n",
      "But I need to make sure that if there are no CZK customers, it doesn't divide by zero. However, the question might assume that both currencies exist. But the query as written would return NULL if there are no CZK customers, since division by zero is undefined.\n",
      "\n",
      "But the user hasn't mentioned handling that case, so proceed as per the question's instruction.\n",
      "\n",
      "So the final SQL would be:\n",
      "\n",
      "SELECT \n",
      "    (COUNT(CASE WHEN Currency = 'EUR' THEN 1 END) * 1.0) / COUNT(CASE WHEN Currency = 'CZK' THEN 1 END) AS ratio\n",
      "FROM customers;\n",
      "\n",
      "Multiplying by 1.0 ensures that the division is done as a floating-point operation. But maybe using REAL or CAST would be better, but in SQLite, multiplying by 1.0 converts to REAL.\n",
      "\n",
      "Alternatively, using COUNT(CASE...) / COUNT(...) as REAL. But the syntax should be correct.\n",
      "\n",
      "So that's the query. Check the column names again. The 'Currency' column is in the customers table, correct.\n",
      "\n",
      "Yes, that should do it.\n",
      "\n",
      "Final answer based om reasoning for this model:\n",
      "\n",
      "\n",
      "```\n",
      "SELECT (COUNT(CASE WHEN Currency = 'EUR' THEN 1 END) * 1.0) / COUNT(CASE WHEN Currency = 'CZK' THEN 1 END) FROM customers;\n",
      "```\n",
      "\n",
      "\n",
      "here is avaliable tables below\n",
      "\n",
      "\n",
      "Table: customers\n",
      "CREATE TABLE customers\n",
      "(\n",
      "    CustomerID INTEGER UNIQUE     not null\n",
      "        primary key,\n",
      "    Segment    TEXT null,\n",
      "    Currency   TEXT null\n",
      ")\n",
      "\n",
      "Table: gasstations\n",
      "CREATE TABLE gasstations\n",
      "(\n",
      "    GasStationID INTEGER    UNIQUE   not null\n",
      "        primary key,\n",
      "    ChainID      INTEGER          null,\n",
      "    Country      TEXT null,\n",
      "    Segment      TEXT null\n",
      ")\n",
      "\n",
      "Table: products\n",
      "CREATE TABLE products\n",
      "(\n",
      "    ProductID   INTEGER   UNIQUE      not null\n",
      "        primary key,\n",
      "    Description TEXT null\n",
      ")\n",
      "\n",
      "Table: transactions_1k\n",
      "CREATE TABLE \"transactions_1k\"\n",
      "(\n",
      "    TransactionID INTEGER\n",
      "        primary key autoincrement,\n",
      "    Date          DATE,\n",
      "    Time          TEXT,\n",
      "    CustomerID    INTEGER,\n",
      "    CardID        INTEGER,\n",
      "    GasStationID  INTEGER,\n",
      "    ProductID     INTEGER,\n",
      "    Amount        INTEGER,\n",
      "    Price         REAL\n",
      ")\n",
      "\n",
      "Table: sqlite_sequence\n",
      "CREATE TABLE sqlite_sequence(name,seq)\n",
      "\n",
      "Table: yearmonth\n",
      "CREATE TABLE \"yearmonth\"\n",
      "(\n",
      "    CustomerID  INTEGER not null\n",
      "        references customers\n",
      "            on update cascade on delete cascade\n",
      "        references customers,\n",
      "    Date        TEXT    not null,\n",
      "    Consumption REAL,\n",
      "    primary key (Date, CustomerID)\n",
      ")\n",
      "\n",
      "-- Using valid SQLite and understanding External Knowledge, answer the following questions for the tables provided above.\n",
      "-- What is the ratio of customers who pay in EUR against customers who pay in CZK?\n",
      "-- External Knowledge: ratio of customers who pay in EUR against customers who pay in CZK = count(Currency = 'EUR') / count(Currency = 'CZK').\n",
      "\n",
      "\n",
      "Generate the SQLite for the above question after thinking step by step: \n",
      "\n",
      "\n",
      "Instructions:\n",
      "- Make sure you only output the information that is asked in the question. If the question asks for a specific column, make sure to only include that column in the SELECT clause, nothing more.\n",
      "- The generated query should return all of the information asked in the question without any missing or extra information.\n",
      "- Before generating the final SQL query, please think through the steps of how to write the query.\n",
      "- Do not misuse column names, keep them in quotes `\n",
      "- Carefully understand what colomns belond to what tables\n",
      "- Use only initial column names, change names prohibited\n",
      "        \n",
      "Output Format:\n",
      "In your answer, please enclose the generated SQL query in a code block:\n",
      "```\n",
      "-- Your SQL query\n",
      "```    \n",
      "and nothing else, no exaplains, no comments (asnwer should be less than 512 characters)\n",
      "\n",
      "Take a deep breath and think step by step to find the correct SQL query in SQLite format.\n",
      "\n",
      "Question repetition: What is the ratio of customers who pay in EUR against customers who pay in CZK?\n",
      "\n",
      "Be care! Include only what i want it questiona and nothing else<|im_end|>\n",
      "<|im_start|>assistant\n",
      "<think>\n",
      "\n",
      "</think>\n",
      "\n",
      "\n",
      "\n",
      "\n",
      "Максимальное количество токенов в промптах: 13422\n",
      "\n",
      "начинаем скорринг\n",
      "Загружаем чаты с данными...\n",
      "Данные успешно загружены\n",
      "Начали генерацию SQL запросов\n"
     ]
    },
    {
     "name": "stderr",
     "output_type": "stream",
     "text": [
      "Processed prompts: 100%|██████████| 500/500 [01:30<00:00,  5.52it/s, est. speed input: 22449.06 toks/s, output: 323.03 toks/s]"
     ]
    },
    {
     "name": "stdout",
     "output_type": "stream",
     "text": [
      "extract_think количество ошибок:  0\n",
      "extract_sql количество ошибок:  0\n",
      "Закончили генерацию SQL запросов\n",
      "Начали скорр полученных SQL запросов\n"
     ]
    },
    {
     "name": "stderr",
     "output_type": "stream",
     "text": [
      "\n"
     ]
    },
    {
     "name": "stdout",
     "output_type": "stream",
     "text": [
      "Qwen3-8b Mini DEV Финальный результат EX: 56.00\n",
      "Qwen3-8b процент запросов, которые успешно выполнились Mini DEV: 95.80%\n",
      "====================================================================================================\n",
      "\n",
      "\n",
      "Загружаем чаты с данными...\n",
      "Данные успешно загружены\n",
      "Начали генерацию SQL запросов\n"
     ]
    },
    {
     "name": "stderr",
     "output_type": "stream",
     "text": [
      "Processed prompts: 100%|██████████| 500/500 [01:33<00:00,  5.32it/s, est. speed input: 22401.80 toks/s, output: 314.91 toks/s]"
     ]
    },
    {
     "name": "stdout",
     "output_type": "stream",
     "text": [
      "extract_think количество ошибок:  0\n",
      "extract_sql количество ошибок:  0\n",
      "Закончили генерацию SQL запросов\n",
      "Начали скорр полученных SQL запросов\n"
     ]
    },
    {
     "name": "stderr",
     "output_type": "stream",
     "text": [
      "\n"
     ]
    },
    {
     "name": "stdout",
     "output_type": "stream",
     "text": [
      "Qwen3-8b Mini DEV Финальный результат EX: 56.00\n",
      "Qwen3-8b процент запросов, которые успешно выполнились Mini DEV: 96.00%\n",
      "====================================================================================================\n",
      "\n",
      "\n",
      "Загружаем чаты с данными...\n",
      "Данные успешно загружены\n",
      "Начали генерацию SQL запросов\n"
     ]
    },
    {
     "name": "stderr",
     "output_type": "stream",
     "text": [
      "Processed prompts: 100%|██████████| 500/500 [01:38<00:00,  5.10it/s, est. speed input: 22726.39 toks/s, output: 299.92 toks/s]"
     ]
    },
    {
     "name": "stdout",
     "output_type": "stream",
     "text": [
      "extract_think количество ошибок:  0\n",
      "extract_sql количество ошибок:  0\n",
      "Закончили генерацию SQL запросов\n",
      "Начали скорр полученных SQL запросов\n"
     ]
    },
    {
     "name": "stderr",
     "output_type": "stream",
     "text": [
      "\n"
     ]
    },
    {
     "name": "stdout",
     "output_type": "stream",
     "text": [
      "Qwen3-8b Mini DEV Финальный результат EX: 55.00\n",
      "Qwen3-8b процент запросов, которые успешно выполнились Mini DEV: 96.20%\n",
      "====================================================================================================\n",
      "\n",
      "\n",
      "Загружаем чаты с данными...\n",
      "Данные успешно загружены\n",
      "Начали генерацию SQL запросов\n"
     ]
    },
    {
     "name": "stderr",
     "output_type": "stream",
     "text": [
      "Processed prompts: 100%|██████████| 500/500 [01:37<00:00,  5.15it/s, est. speed input: 22638.62 toks/s, output: 302.51 toks/s]"
     ]
    },
    {
     "name": "stdout",
     "output_type": "stream",
     "text": [
      "extract_think количество ошибок:  0\n",
      "extract_sql количество ошибок:  0\n",
      "Закончили генерацию SQL запросов\n",
      "Начали скорр полученных SQL запросов\n"
     ]
    },
    {
     "name": "stderr",
     "output_type": "stream",
     "text": [
      "\n"
     ]
    },
    {
     "name": "stdout",
     "output_type": "stream",
     "text": [
      "Qwen3-8b Mini DEV Финальный результат EX: 54.80\n",
      "Qwen3-8b процент запросов, которые успешно выполнились Mini DEV: 96.60%\n",
      "====================================================================================================\n",
      "\n",
      "\n",
      "Загружаем чаты с данными...\n",
      "Данные успешно загружены\n",
      "Начали генерацию SQL запросов\n"
     ]
    },
    {
     "name": "stderr",
     "output_type": "stream",
     "text": [
      "Processed prompts: 100%|██████████| 500/500 [01:36<00:00,  5.20it/s, est. speed input: 22637.28 toks/s, output: 304.72 toks/s]"
     ]
    },
    {
     "name": "stdout",
     "output_type": "stream",
     "text": [
      "extract_think количество ошибок:  0\n",
      "extract_sql количество ошибок:  0\n",
      "Закончили генерацию SQL запросов\n",
      "Начали скорр полученных SQL запросов\n"
     ]
    },
    {
     "name": "stderr",
     "output_type": "stream",
     "text": [
      "\n"
     ]
    },
    {
     "name": "stdout",
     "output_type": "stream",
     "text": [
      "Qwen3-8b Mini DEV Финальный результат EX: 55.20\n",
      "Qwen3-8b процент запросов, которые успешно выполнились Mini DEV: 95.40%\n",
      "====================================================================================================\n",
      "\n",
      "\n",
      "Загружаем чаты с данными...\n",
      "Данные успешно загружены\n",
      "Начали генерацию SQL запросов\n"
     ]
    },
    {
     "name": "stderr",
     "output_type": "stream",
     "text": [
      "Processed prompts: 100%|██████████| 500/500 [01:33<00:00,  5.38it/s, est. speed input: 22302.17 toks/s, output: 313.51 toks/s]"
     ]
    },
    {
     "name": "stdout",
     "output_type": "stream",
     "text": [
      "extract_think количество ошибок:  0\n",
      "extract_sql количество ошибок:  0\n",
      "Закончили генерацию SQL запросов\n",
      "Начали скорр полученных SQL запросов\n"
     ]
    },
    {
     "name": "stderr",
     "output_type": "stream",
     "text": [
      "\n"
     ]
    },
    {
     "name": "stdout",
     "output_type": "stream",
     "text": [
      "Qwen3-8b Mini DEV Финальный результат EX: 54.40\n",
      "Qwen3-8b процент запросов, которые успешно выполнились Mini DEV: 96.20%\n",
      "====================================================================================================\n",
      "\n",
      "\n",
      "Загружаем чаты с данными...\n",
      "Данные успешно загружены\n",
      "Начали генерацию SQL запросов\n"
     ]
    },
    {
     "name": "stderr",
     "output_type": "stream",
     "text": [
      "Processed prompts: 100%|██████████| 500/500 [01:31<00:00,  5.44it/s, est. speed input: 22547.17 toks/s, output: 317.10 toks/s]"
     ]
    },
    {
     "name": "stdout",
     "output_type": "stream",
     "text": [
      "extract_think количество ошибок:  0\n",
      "extract_sql количество ошибок:  0\n",
      "Закончили генерацию SQL запросов\n",
      "Начали скорр полученных SQL запросов\n"
     ]
    },
    {
     "name": "stderr",
     "output_type": "stream",
     "text": [
      "\n"
     ]
    },
    {
     "name": "stdout",
     "output_type": "stream",
     "text": [
      "Qwen3-8b Mini DEV Финальный результат EX: 55.00\n",
      "Qwen3-8b процент запросов, которые успешно выполнились Mini DEV: 96.60%\n",
      "====================================================================================================\n",
      "\n",
      "\n",
      "Загружаем чаты с данными...\n",
      "Данные успешно загружены\n",
      "Начали генерацию SQL запросов\n"
     ]
    },
    {
     "name": "stderr",
     "output_type": "stream",
     "text": [
      "Processed prompts: 100%|██████████| 500/500 [01:28<00:00,  5.65it/s, est. speed input: 22496.94 toks/s, output: 333.20 toks/s]"
     ]
    },
    {
     "name": "stdout",
     "output_type": "stream",
     "text": [
      "extract_think количество ошибок:  0\n",
      "extract_sql количество ошибок:  0\n",
      "Закончили генерацию SQL запросов\n",
      "Начали скорр полученных SQL запросов\n"
     ]
    },
    {
     "name": "stderr",
     "output_type": "stream",
     "text": [
      "\n"
     ]
    },
    {
     "name": "stdout",
     "output_type": "stream",
     "text": [
      "Qwen3-8b Mini DEV Финальный результат EX: 55.20\n",
      "Qwen3-8b процент запросов, которые успешно выполнились Mini DEV: 96.20%\n",
      "====================================================================================================\n",
      "\n",
      "\n",
      "Загружаем чаты с данными...\n",
      "Данные успешно загружены\n",
      "Начали генерацию SQL запросов\n"
     ]
    },
    {
     "name": "stderr",
     "output_type": "stream",
     "text": [
      "Processed prompts: 100%|██████████| 500/500 [01:32<00:00,  5.42it/s, est. speed input: 22609.43 toks/s, output: 313.37 toks/s]"
     ]
    },
    {
     "name": "stdout",
     "output_type": "stream",
     "text": [
      "extract_think количество ошибок:  0\n",
      "extract_sql количество ошибок:  0\n",
      "Закончили генерацию SQL запросов\n",
      "Начали скорр полученных SQL запросов\n"
     ]
    },
    {
     "name": "stderr",
     "output_type": "stream",
     "text": [
      "\n"
     ]
    },
    {
     "name": "stdout",
     "output_type": "stream",
     "text": [
      "Qwen3-8b Mini DEV Финальный результат EX: 55.60\n",
      "Qwen3-8b процент запросов, которые успешно выполнились Mini DEV: 97.20%\n",
      "====================================================================================================\n",
      "\n",
      "\n",
      "Загружаем чаты с данными...\n",
      "Данные успешно загружены\n",
      "Начали генерацию SQL запросов\n"
     ]
    },
    {
     "name": "stderr",
     "output_type": "stream",
     "text": [
      "Processed prompts: 100%|██████████| 500/500 [01:34<00:00,  5.31it/s, est. speed input: 21951.19 toks/s, output: 312.12 toks/s]"
     ]
    },
    {
     "name": "stdout",
     "output_type": "stream",
     "text": [
      "extract_think количество ошибок:  0\n",
      "extract_sql количество ошибок:  0\n",
      "Закончили генерацию SQL запросов\n",
      "Начали скорр полученных SQL запросов\n"
     ]
    },
    {
     "name": "stderr",
     "output_type": "stream",
     "text": [
      "\n"
     ]
    },
    {
     "name": "stdout",
     "output_type": "stream",
     "text": [
      "Qwen3-8b Mini DEV Финальный результат EX: 54.40\n",
      "Qwen3-8b процент запросов, которые успешно выполнились Mini DEV: 97.40%\n",
      "====================================================================================================\n",
      "\n",
      "\n",
      "Загружаем чаты с данными...\n",
      "Данные успешно загружены\n",
      "Начали генерацию SQL запросов\n"
     ]
    },
    {
     "name": "stderr",
     "output_type": "stream",
     "text": [
      "Processed prompts: 100%|██████████| 500/500 [01:36<00:00,  5.19it/s, est. speed input: 22221.52 toks/s, output: 305.98 toks/s]"
     ]
    },
    {
     "name": "stdout",
     "output_type": "stream",
     "text": [
      "extract_think количество ошибок:  0\n",
      "extract_sql количество ошибок:  0\n",
      "Закончили генерацию SQL запросов\n",
      "Начали скорр полученных SQL запросов\n"
     ]
    },
    {
     "name": "stderr",
     "output_type": "stream",
     "text": [
      "\n"
     ]
    },
    {
     "name": "stdout",
     "output_type": "stream",
     "text": [
      "Qwen3-8b Mini DEV Финальный результат EX: 53.00\n",
      "Qwen3-8b процент запросов, которые успешно выполнились Mini DEV: 96.40%\n",
      "====================================================================================================\n",
      "\n",
      "\n",
      "Загружаем чаты с данными...\n",
      "Данные успешно загружены\n",
      "Начали генерацию SQL запросов\n"
     ]
    },
    {
     "name": "stderr",
     "output_type": "stream",
     "text": [
      "Processed prompts: 100%|██████████| 500/500 [01:34<00:00,  5.31it/s, est. speed input: 22619.71 toks/s, output: 307.16 toks/s]"
     ]
    },
    {
     "name": "stdout",
     "output_type": "stream",
     "text": [
      "extract_think количество ошибок:  0\n",
      "extract_sql количество ошибок:  0\n",
      "Закончили генерацию SQL запросов\n",
      "Начали скорр полученных SQL запросов\n"
     ]
    },
    {
     "name": "stderr",
     "output_type": "stream",
     "text": [
      "\n"
     ]
    },
    {
     "name": "stdout",
     "output_type": "stream",
     "text": [
      "Qwen3-8b Mini DEV Финальный результат EX: 54.60\n",
      "Qwen3-8b процент запросов, которые успешно выполнились Mini DEV: 97.60%\n",
      "====================================================================================================\n",
      "\n",
      "\n",
      "Загружаем чаты с данными...\n",
      "Данные успешно загружены\n",
      "Начали генерацию SQL запросов\n"
     ]
    },
    {
     "name": "stderr",
     "output_type": "stream",
     "text": [
      "Processed prompts: 100%|██████████| 500/500 [01:33<00:00,  5.38it/s, est. speed input: 22006.00 toks/s, output: 314.20 toks/s]"
     ]
    },
    {
     "name": "stdout",
     "output_type": "stream",
     "text": [
      "extract_think количество ошибок:  0\n",
      "extract_sql количество ошибок:  0\n",
      "Закончили генерацию SQL запросов\n",
      "Начали скорр полученных SQL запросов\n"
     ]
    },
    {
     "name": "stderr",
     "output_type": "stream",
     "text": [
      "\n"
     ]
    },
    {
     "name": "stdout",
     "output_type": "stream",
     "text": [
      "Qwen3-8b Mini DEV Финальный результат EX: 53.40\n",
      "Qwen3-8b процент запросов, которые успешно выполнились Mini DEV: 96.40%\n",
      "====================================================================================================\n",
      "\n",
      "\n",
      "Загружаем чаты с данными...\n",
      "Данные успешно загружены\n",
      "Начали генерацию SQL запросов\n"
     ]
    },
    {
     "name": "stderr",
     "output_type": "stream",
     "text": [
      "Processed prompts: 100%|██████████| 500/500 [01:30<00:00,  5.50it/s, est. speed input: 22303.88 toks/s, output: 317.44 toks/s]"
     ]
    },
    {
     "name": "stdout",
     "output_type": "stream",
     "text": [
      "extract_think количество ошибок:  0\n",
      "extract_sql количество ошибок:  0\n",
      "Закончили генерацию SQL запросов\n",
      "Начали скорр полученных SQL запросов\n"
     ]
    },
    {
     "name": "stderr",
     "output_type": "stream",
     "text": [
      "\n"
     ]
    },
    {
     "name": "stdout",
     "output_type": "stream",
     "text": [
      "Qwen3-8b Mini DEV Финальный результат EX: 54.80\n",
      "Qwen3-8b процент запросов, которые успешно выполнились Mini DEV: 97.40%\n",
      "====================================================================================================\n",
      "\n",
      "\n",
      "Загружаем чаты с данными...\n",
      "Данные успешно загружены\n",
      "Начали генерацию SQL запросов\n"
     ]
    },
    {
     "name": "stderr",
     "output_type": "stream",
     "text": [
      "Processed prompts: 100%|██████████| 500/500 [01:30<00:00,  5.51it/s, est. speed input: 22263.58 toks/s, output: 319.32 toks/s]"
     ]
    },
    {
     "name": "stdout",
     "output_type": "stream",
     "text": [
      "extract_think количество ошибок:  0\n",
      "extract_sql количество ошибок:  0\n",
      "Закончили генерацию SQL запросов\n",
      "Начали скорр полученных SQL запросов\n"
     ]
    },
    {
     "name": "stderr",
     "output_type": "stream",
     "text": [
      "\n"
     ]
    },
    {
     "name": "stdout",
     "output_type": "stream",
     "text": [
      "Qwen3-8b Mini DEV Финальный результат EX: 54.40\n",
      "Qwen3-8b процент запросов, которые успешно выполнились Mini DEV: 96.40%\n",
      "====================================================================================================\n",
      "\n",
      "\n",
      "Загружаем чаты с данными...\n",
      "Данные успешно загружены\n",
      "Начали генерацию SQL запросов\n"
     ]
    },
    {
     "name": "stderr",
     "output_type": "stream",
     "text": [
      "Processed prompts: 100%|██████████| 500/500 [01:33<00:00,  5.36it/s, est. speed input: 22153.86 toks/s, output: 313.04 toks/s]"
     ]
    },
    {
     "name": "stdout",
     "output_type": "stream",
     "text": [
      "extract_think количество ошибок:  0\n",
      "extract_sql количество ошибок:  0\n",
      "Закончили генерацию SQL запросов\n",
      "Начали скорр полученных SQL запросов\n"
     ]
    },
    {
     "name": "stderr",
     "output_type": "stream",
     "text": [
      "\n"
     ]
    },
    {
     "name": "stdout",
     "output_type": "stream",
     "text": [
      "Qwen3-8b Mini DEV Финальный результат EX: 54.40\n",
      "Qwen3-8b процент запросов, которые успешно выполнились Mini DEV: 96.20%\n",
      "====================================================================================================\n",
      "\n",
      "\n",
      "Загружаем чаты с данными...\n",
      "Данные успешно загружены\n",
      "Начали генерацию SQL запросов\n"
     ]
    },
    {
     "name": "stderr",
     "output_type": "stream",
     "text": [
      "Processed prompts: 100%|██████████| 500/500 [01:25<00:00,  5.84it/s, est. speed input: 22496.66 toks/s, output: 342.24 toks/s]"
     ]
    },
    {
     "name": "stdout",
     "output_type": "stream",
     "text": [
      "extract_think количество ошибок:  0\n",
      "extract_sql количество ошибок:  0\n",
      "Закончили генерацию SQL запросов\n",
      "Начали скорр полученных SQL запросов\n"
     ]
    },
    {
     "name": "stderr",
     "output_type": "stream",
     "text": [
      "\n"
     ]
    },
    {
     "name": "stdout",
     "output_type": "stream",
     "text": [
      "Qwen3-8b Mini DEV Финальный результат EX: 53.40\n",
      "Qwen3-8b процент запросов, которые успешно выполнились Mini DEV: 96.20%\n",
      "====================================================================================================\n",
      "\n",
      "\n",
      "Загружаем чаты с данными...\n",
      "Данные успешно загружены\n",
      "Начали генерацию SQL запросов\n"
     ]
    },
    {
     "name": "stderr",
     "output_type": "stream",
     "text": [
      "Processed prompts: 100%|██████████| 500/500 [01:13<00:00,  6.79it/s, est. speed input: 22766.66 toks/s, output: 392.77 toks/s] "
     ]
    },
    {
     "name": "stdout",
     "output_type": "stream",
     "text": [
      "extract_think количество ошибок:  0\n",
      "extract_sql количество ошибок:  0\n",
      "Закончили генерацию SQL запросов\n",
      "Начали скорр полученных SQL запросов\n"
     ]
    },
    {
     "name": "stderr",
     "output_type": "stream",
     "text": [
      "\n"
     ]
    },
    {
     "name": "stdout",
     "output_type": "stream",
     "text": [
      "Qwen3-8b Mini DEV Финальный результат EX: 52.60\n",
      "Qwen3-8b процент запросов, которые успешно выполнились Mini DEV: 95.40%\n",
      "====================================================================================================\n",
      "\n",
      "\n",
      "Загружаем чаты с данными...\n",
      "Данные успешно загружены\n",
      "Начали генерацию SQL запросов\n"
     ]
    },
    {
     "name": "stderr",
     "output_type": "stream",
     "text": [
      "Processed prompts: 100%|██████████| 500/500 [01:15<00:00,  6.61it/s, est. speed input: 22586.75 toks/s, output: 388.64 toks/s]"
     ]
    },
    {
     "name": "stdout",
     "output_type": "stream",
     "text": [
      "extract_think количество ошибок:  0\n",
      "extract_sql количество ошибок:  0\n",
      "Закончили генерацию SQL запросов\n",
      "Начали скорр полученных SQL запросов\n"
     ]
    },
    {
     "name": "stderr",
     "output_type": "stream",
     "text": [
      "\n"
     ]
    },
    {
     "name": "stdout",
     "output_type": "stream",
     "text": [
      "Qwen3-8b Mini DEV Финальный результат EX: 53.20\n",
      "Qwen3-8b процент запросов, которые успешно выполнились Mini DEV: 94.40%\n",
      "====================================================================================================\n",
      "\n",
      "\n",
      "Загружаем чаты с данными...\n",
      "Данные успешно загружены\n",
      "Начали генерацию SQL запросов\n"
     ]
    },
    {
     "name": "stderr",
     "output_type": "stream",
     "text": [
      "Processed prompts: 100%|██████████| 500/500 [01:16<00:00,  6.50it/s, est. speed input: 22585.39 toks/s, output: 381.14 toks/s]"
     ]
    },
    {
     "name": "stdout",
     "output_type": "stream",
     "text": [
      "extract_think количество ошибок:  0\n",
      "extract_sql количество ошибок:  0\n",
      "Закончили генерацию SQL запросов\n",
      "Начали скорр полученных SQL запросов\n"
     ]
    },
    {
     "name": "stderr",
     "output_type": "stream",
     "text": [
      "\n"
     ]
    },
    {
     "name": "stdout",
     "output_type": "stream",
     "text": [
      "Qwen3-8b Mini DEV Финальный результат EX: 54.20\n",
      "Qwen3-8b процент запросов, которые успешно выполнились Mini DEV: 96.00%\n",
      "====================================================================================================\n",
      "\n",
      "\n"
     ]
    }
   ],
   "source": [
    "run_cot_experiment(model,arr_seeds,arr_versions, type_cot,num_observations=num_observations)"
   ]
  },
  {
   "cell_type": "markdown",
   "id": "497ba1a7-9a17-4849-b915-86790c9c7d3b",
   "metadata": {},
   "source": [
    "## 4 наблюдения"
   ]
  },
  {
   "cell_type": "code",
   "execution_count": 7,
   "id": "ce49c4fe-8bad-4a23-82e6-10e210d49af7",
   "metadata": {},
   "outputs": [
    {
     "name": "stdout",
     "output_type": "stream",
     "text": [
      "[600, 923, 423, 175, 107, 28, 29, 8, 628, 555, 827, 124, 560, 758, 262, 199, 297, 833, 985, 442]\n",
      "model: Qwen3-14B\n"
     ]
    }
   ],
   "source": [
    "n= 20\n",
    "arr_seeds = [random.randint(0,1000) for _ in range(n)]\n",
    "arr_versions = [x for x in range(n)]\n",
    "model = \"Qwen3-14B\"\n",
    "num_observations = 4\n",
    "type_cot = 'all_new'\n",
    "print(arr_seeds)\n",
    "print(f\"model: {model}\")"
   ]
  },
  {
   "cell_type": "code",
   "execution_count": 8,
   "id": "7a21f95e-0959-4d46-b161-3dd97031a48f",
   "metadata": {
    "scrolled": true
   },
   "outputs": [
    {
     "name": "stdout",
     "output_type": "stream",
     "text": [
      "Загружаем модель...\n"
     ]
    },
    {
     "name": "stderr",
     "output_type": "stream",
     "text": [
      "Loading safetensors checkpoint shards:   0% Completed | 0/8 [00:00<?, ?it/s]\n",
      "Loading safetensors checkpoint shards:  12% Completed | 1/8 [00:01<00:09,  1.39s/it]\n",
      "Loading safetensors checkpoint shards:  25% Completed | 2/8 [00:02<00:08,  1.37s/it]\n",
      "Loading safetensors checkpoint shards:  38% Completed | 3/8 [00:04<00:06,  1.37s/it]\n",
      "Loading safetensors checkpoint shards:  50% Completed | 4/8 [00:05<00:05,  1.37s/it]\n",
      "Loading safetensors checkpoint shards:  62% Completed | 5/8 [00:06<00:04,  1.37s/it]\n",
      "Loading safetensors checkpoint shards:  75% Completed | 6/8 [00:07<00:02,  1.15s/it]\n",
      "Loading safetensors checkpoint shards:  88% Completed | 7/8 [00:08<00:01,  1.23s/it]\n",
      "Loading safetensors checkpoint shards: 100% Completed | 8/8 [00:10<00:00,  1.29s/it]\n",
      "Loading safetensors checkpoint shards: 100% Completed | 8/8 [00:10<00:00,  1.30s/it]\n",
      "\u001b[1;36m(VllmWorker rank=0 pid=3179332)\u001b[0;0m \n"
     ]
    },
    {
     "name": "stdout",
     "output_type": "stream",
     "text": [
      "Модель успешно загружена\n",
      "model_config {'model': '/data/home/vkropoti/models/Qwen3-14B', 'tensor_parallel_size': 2, 'max_model_len': 40000, 'max_new_tokens': 1500, 'temperature': 0, 'top_k': 1, 'top_p': 0.8, 'gpu_memory_utilization': 0.9, 'trust_remote_code': False, 'seed': 600}\n",
      "\n",
      "prompts_config {'path_dev_json': '/home/vkropoti/vllm/dev.json', 'path_sql_dbs': '/data/home/vkropoti/sql_data/dev_databases/', 'use_reasoning': False, 'paths_to_cot': ['/data/home/vkropoti/sql_llm_answers/base_reasoning/sql_all_new_Qwen3-14B-reasoning-v0', '/data/home/vkropoti/sql_llm_answers/base_reasoning/sql_all_new_Qwen3-14B-reasoning-v1', '/data/home/vkropoti/sql_llm_answers/base_reasoning/sql_all_new_Qwen3-14B-reasoning-v2', '/data/home/vkropoti/sql_llm_answers/base_reasoning/sql_all_new_Qwen3-14B-reasoning-v3']}\n",
      "\n",
      "save_config {'path_sql_save': '/data/home/vkropoti/sql_llm_answers/base_reasoning/sql_all_Qwen3-14B-cot_all_new_think==False_nobs4-v0', 'path_think_save': None, 'path_sql_answers_save': '/data/home/vkropoti/sql_llm_answers/base_reasoning/sql_predict_Qwen3-14B-cot_all_new_think==False_nobs4-v0', 'path_to_save_scores': '/data/home/vkropoti/sql_llm_answers/base_reasoning/sql_results_Qwen3-14B-cot_all_new_think==False_nobs4-v0', 'path_to_save_executed': '/data/home/vkropoti/sql_llm_answers/base_reasoning/sql_executed_Qwen3-14B-cot_all_new_think==False_nobs4-v0'}\n",
      "\n",
      "Модель успешно загружена\n",
      "Пример промпта\n",
      "<|im_start|>system\n",
      "\n",
      "You are a data science expert. Below, you are provided with a database schema and a natural language question. Your task is to understand the schema and generate a valid SQL query to answer the question.\n",
      "\n",
      "Database Engine: SQLite\n",
      "\n",
      "You will be given an additional analysis of other models, please take it into account, so the plan is\n",
      "1. Analyse given addition analysis from other models (find in which analysis the same and differ, how to use that to answer question)\n",
      "2. Combine best from previous part and think how to solve the problem (analyze tables, take care what columns avaliable in each table and so on, check the syntacsis)\n",
      "3. Create the answers. The answer should be only sql query.\n",
      "\n",
      "Carefully follow the instruction and add <|im_end|> and the end of the final answer<|im_end|>\n",
      "<|im_start|>user\n",
      "Here is addition analysis from other models which can be helpfull, please take this into account but be careful (choose the best from each analysis, combine them to make the most proper answer):\n",
      "\n",
      "model 0 analysis:\n",
      " Reasoning process:\n",
      "\n",
      "Okay, let's tackle this question. The user wants the ratio of customers who pay in EUR versus those who pay in CZK. \n",
      "\n",
      "First, I need to figure out where the currency information is stored. Looking at the tables, the 'customers' table has a 'Currency' column. That's where the payment currency for each customer is recorded.\n",
      "\n",
      "Next, the question is about the ratio. So, I need to count the number of customers with Currency 'EUR' and those with 'CZK'. Then divide these two counts. \n",
      "\n",
      "Wait, the External Knowledge note says the ratio is count(Currency = 'EUR') / count(Currency = 'CZK'). So I need to compute these two counts and then divide them. \n",
      "\n",
      "In SQLite, I can use the COUNT() function with a condition. For example, COUNT(CASE WHEN Currency = 'EUR' THEN 1 END) to count EUR customers. Similarly for CZK. \n",
      "\n",
      "But wait, the CustomerID in the customers table is the primary key, so each customer is unique. So just count the number of rows where Currency is EUR and where it's CZK. \n",
      "\n",
      "So the query should select (count of EUR) divided by (count of CZK). \n",
      "\n",
      "But how to handle division? In SQLite, using / operator. But need to make sure that division is done as floating point, not integer. For example, if both counts are integers, dividing them might result in integer division. To avoid that, maybe cast them to REAL or use a decimal value. \n",
      "\n",
      "But the question doesn't specify handling of zero, like if CZK count is zero. But assuming the data has both. \n",
      "\n",
      "Putting it all together: \n",
      "\n",
      "SELECT \n",
      "    (COUNT(CASE WHEN Currency = 'EUR' THEN 1 END) * 1.0) / COUNT(CASE WHEN Currency = 'CZK' THEN 1 END) AS Ratio\n",
      "FROM customers;\n",
      "\n",
      "Wait, but the question is about customers who pay in EUR against those who pay in CZK. So, the counts are based on the Currency column in the customers table. \n",
      "\n",
      "Yes. So the query would select from the customers table, count the number of EUR and CZK entries, then divide them. \n",
      "\n",
      "Alternatively, using SUM with conditions:\n",
      "\n",
      "SELECT \n",
      "    (SUM(CASE WHEN Currency = 'EUR' THEN 1 ELSE 0 END) * 1.0) / SUM(CASE WHEN Currency = 'CZK' THEN 1 ELSE 0 END) AS Ratio\n",
      "FROM customers;\n",
      "\n",
      "But COUNT is more efficient here. Because COUNT with a condition is equivalent to SUM with 1/0. So both approaches are similar. \n",
      "\n",
      "The final query needs to return only the ratio. So the SQL should select that calculated value. \n",
      "\n",
      "Make sure that the column names are correctly quoted, but since they're in the customers table, and the column is named 'Currency', it's okay. \n",
      "\n",
      "Check if there are any other tables involved. The transactions table has Price and Amount, but the question is about the currency the customers use, which is stored in the customers table. So the transactions_1k table is not needed here. \n",
      "\n",
      "So the correct SQL is to query the customers table, count the EUR and CZK customers, and divide them.\n",
      "\n",
      "Final answer based om reasoning for this model:\n",
      "\n",
      "\n",
      "```\n",
      "SELECT (COUNT(CASE WHEN Currency = 'EUR' THEN 1 END) * 1.0) / COUNT(CASE WHEN Currency = 'CZK' THEN 1 END) FROM customers;\n",
      "```\n",
      "\n",
      "model 1 analysis:\n",
      " Reasoning process:\n",
      "\n",
      "Okay, let's tackle this problem. The user wants the ratio of customers who pay in EUR versus those who pay in CZK. First, I need to figure out where the Currency information is stored. Looking at the tables, the 'customers' table has a 'Currency' column. So, the plan is to count how many customers have 'EUR' and how many have 'CZK' in that column.\n",
      "\n",
      "Wait, but the question mentions customers who pay in a certain currency. However, the 'Currency' column in the customers table might represent their preferred currency or the currency they use for transactions. But the problem states that the ratio is based on customers' payment currency, so I think the 'Currency' column in the customers table is the right place to look.\n",
      "\n",
      "Now, I need to count the number of customers with Currency = 'EUR' and those with Currency = 'CZK'. Then divide the two counts to get the ratio. \n",
      "\n",
      "I should write a query that selects these counts. Using COUNT(CASE WHEN Currency = 'EUR' THEN 1 END) and COUNT(CASE WHEN Currency = 'CZK' THEN 1 END), then divide them. Alternatively, I could use SUM with a condition, but COUNT with CASE is more straightforward here.\n",
      "\n",
      "Wait, but what if there are customers with other currencies? The problem says to count only EUR and CZK. So, the query should only consider those two. Also, need to make sure that the division is done correctly, but SQLite handles division as floating-point if needed.\n",
      "\n",
      "Now, the SQL query would be something like:\n",
      "\n",
      "SELECT \n",
      "    (COUNT(CASE WHEN Currency = 'EUR' THEN 1 END) * 1.0) / COUNT(CASE WHEN Currency = 'CZK' THEN 1 END) AS Ratio\n",
      "FROM customers;\n",
      "\n",
      "But I need to check if there are any customers with NULL in the Currency column. If so, they won't be counted in either. The problem doesn't mention handling that, so assuming that all customers have a valid currency.\n",
      "\n",
      "Wait, the 'Currency' column in the customers table is defined as NULLable. So, there could be customers with NULL. But the question is about customers who pay in EUR or CZK, so those with NULL would be excluded. That's correct.\n",
      "\n",
      "Another point: The question uses the term \"customers who pay in EUR\" which might imply that the currency is determined by their transactions. However, the 'Currency' column in the customers table might be their preferred currency or the currency used in transactions. Since the problem gives the external knowledge that it's based on the Currency column, I should stick to that.\n",
      "\n",
      "Therefore, the correct approach is to count the number of customers with Currency 'EUR' and 'CZK' and compute their ratio.\n",
      "\n",
      "Final answer based om reasoning for this model:\n",
      "\n",
      "\n",
      "```\n",
      "SELECT \n",
      "    (COUNT(CASE WHEN Currency = 'EUR' THEN 1 END) * 1.0) / COUNT(CASE WHEN Currency = 'CZK' THEN 1 END) AS Ratio\n",
      "FROM customers;\n",
      "```\n",
      "\n",
      "model 2 analysis:\n",
      " Reasoning process:\n",
      "\n",
      "Okay, let's see. The user is asking for the ratio of customers who pay in EUR versus those who pay in CZK. First, I need to figure out which table has the currency information. Looking at the tables provided, the 'customers' table has a 'Currency' column. So, the data we need is in the customers table.\n",
      "\n",
      "The question is about counting customers based on their currency. The external knowledge says the ratio is count(EUR) divided by count(CZK). So, I need to count how many customers have 'EUR' in their Currency column and how many have 'CZK'. Then divide those two counts.\n",
      "\n",
      "But wait, the customers table has CustomerID as the primary key, so each customer is unique. So, I can just count the number of rows where Currency is 'EUR' and where it's 'CZK'.\n",
      "\n",
      "So, the SQL query would need to select these two counts and then compute their ratio. But in SQLite, how to do that? Well, I can use COUNT(CASE WHEN Currency = 'EUR' THEN 1 ELSE NULL END) to count EUR customers, same for CZK. Then divide the two counts.\n",
      "\n",
      "Wait, but the question says \"ratio of customers who pay in EUR against customers who pay in CZK\". So, it's EUR count divided by CZK count.\n",
      "\n",
      "So, the query would be:\n",
      "\n",
      "SELECT \n",
      "    COUNT(CASE WHEN Currency = 'EUR' THEN 1 END) / COUNT(CASE WHEN Currency = 'CZK' THEN 1 END) AS ratio\n",
      "FROM customers;\n",
      "\n",
      "But wait, in SQLite, if you divide two integers, it does integer division. So if the counts are, say, 3 and 2, it would return 1.5 as 1 if using integer division. But maybe the user expects a float. To ensure it's a float, perhaps multiply by 1.0 or cast to REAL.\n",
      "\n",
      "Alternatively, using COUNT(CASE...) as separate columns and then compute the ratio. But the user wants the ratio as a single value.\n",
      "\n",
      "Another approach: compute each count as a subquery or in the same SELECT.\n",
      "\n",
      "Yes, the initial approach should work. Let me check the syntax again. The CASE expression returns 1 when the condition is met, otherwise NULL. COUNT counts non-NULL values. So COUNT(CASE WHEN Currency = 'EUR' THEN 1 END) gives the number of EUR customers.\n",
      "\n",
      "Then dividing those two counts.\n",
      "\n",
      "But I need to make sure that if there are no CZK customers, it doesn't divide by zero. However, the question might assume that both currencies exist. But the query as written would return NULL if there are no CZK customers, since division by zero is undefined.\n",
      "\n",
      "But the user hasn't mentioned handling that case, so proceed as per the question's instruction.\n",
      "\n",
      "So the final SQL would be:\n",
      "\n",
      "SELECT \n",
      "    (COUNT(CASE WHEN Currency = 'EUR' THEN 1 END) * 1.0) / COUNT(CASE WHEN Currency = 'CZK' THEN 1 END) AS ratio\n",
      "FROM customers;\n",
      "\n",
      "Multiplying by 1.0 ensures that the division is done as a floating-point operation. But maybe using REAL or CAST would be better, but in SQLite, multiplying by 1.0 converts to REAL.\n",
      "\n",
      "Alternatively, using COUNT(CASE...) / COUNT(...) as REAL. But the syntax should be correct.\n",
      "\n",
      "So that's the query. Check the column names again. The 'Currency' column is in the customers table, correct.\n",
      "\n",
      "Yes, that should do it.\n",
      "\n",
      "Final answer based om reasoning for this model:\n",
      "\n",
      "\n",
      "```\n",
      "SELECT (COUNT(CASE WHEN Currency = 'EUR' THEN 1 END) * 1.0) / COUNT(CASE WHEN Currency = 'CZK' THEN 1 END) FROM customers;\n",
      "```\n",
      "\n",
      "model 3 analysis:\n",
      " Reasoning process:\n",
      "\n",
      "Okay, let's see. The user wants the ratio of customers who pay in EUR versus those who pay in CZK. Hmm. So first, I need to figure out where the currency information is stored. Looking at the tables, the 'customers' table has a 'Currency' column. That's where the payment currency for each customer is probably recorded.\n",
      "\n",
      "So the plan is to count how many customers have 'EUR' as their currency and how many have 'CZK'. Then divide those two counts to get the ratio. But wait, how do I handle cases where the currency might be something else? The question doesn't mention other currencies, so maybe we can ignore them. The external knowledge says to count only EUR and CZK.\n",
      "\n",
      "So the SQL query should select the count of customers where Currency is 'EUR' divided by the count where it's 'CZK'. But how to structure that. In SQLite, I can use a CASE statement or SUM with conditions. Alternatively, use two separate COUNTs in the SELECT clause.\n",
      "\n",
      "Wait, maybe using SUM with a condition. For example, SUM(CASE WHEN Currency = 'EUR' THEN 1 ELSE 0 END) as EUR_count and similarly for CZK. Then divide those two.\n",
      "\n",
      "But the customers table has CustomerID as the primary key, so each customer is unique. So I can just count the number of rows where Currency is 'EUR' and 'CZK' respectively.\n",
      "\n",
      "So the query would be:\n",
      "\n",
      "SELECT \n",
      "    COUNT(CASE WHEN Currency = 'EUR' THEN 1 END) * 1.0 / COUNT(CASE WHEN Currency = 'CZK' THEN 1 END) AS ratio\n",
      "FROM customers;\n",
      "\n",
      "Wait, but COUNT(CASE...) would count the non-null values. Alternatively, using SUM(1) where the condition is met. But in SQLite, COUNT with a condition can be done with COUNT(*) if we filter, but that would require subqueries or separate counts.\n",
      "\n",
      "Alternatively, I can use two separate COUNTs. But how to do that in one query. Like:\n",
      "\n",
      "SELECT \n",
      "    (SELECT COUNT(*) FROM customers WHERE Currency = 'EUR') * 1.0 / \n",
      "    (SELECT COUNT(*) FROM customers WHERE Currency = 'CZK') AS ratio\n",
      "FROM customers LIMIT 1;\n",
      "\n",
      "But that would work, but the LIMIT 1 is necessary because otherwise, if there are multiple rows, it would return multiple rows. But since the customer table has unique CustomerID, but the subqueries are aggregate functions, they would return a single value each. So the outer query would return one row, but using LIMIT 1 ensures that.\n",
      "\n",
      "Alternatively, use a single query with CASE expressions:\n",
      "\n",
      "SELECT \n",
      "    SUM(CASE WHEN Currency = 'EUR' THEN 1 ELSE 0 END) * 1.0 / \n",
      "    SUM(CASE WHEN Currency = 'CZK' THEN 1 ELSE 0 END) AS ratio\n",
      "FROM customers;\n",
      "\n",
      "This might be more efficient. Because SUM with 1 or 0 would effectively count the number of EUR and CZK customers.\n",
      "\n",
      "But in SQLite, COUNT(*) is more efficient than SUM(CASE...). However, since the CASE approach works, either way is acceptable.\n",
      "\n",
      "Another thing to note is that if there are no customers in one of the currencies, the division might result in a division by zero. But the question probably assumes there are customers in both currencies.\n",
      "\n",
      "So the final query would be using the SUM approach, or the two subqueries.\n",
      "\n",
      "Testing with sample data: if there are 10 EUR customers and 5 CZK, the ratio would be 10/5=2.0.\n",
      "\n",
      "But which method is better? Using the CASE expressions might be more straightforward and avoids multiple subqueries. So the first approach with SUM(CASE...) is better.\n",
      "\n",
      "So the SQL would be:\n",
      "\n",
      "SELECT \n",
      "    SUM(CASE WHEN Currency = 'EUR' THEN 1 ELSE 0 END) / SUM(CASE WHEN Currency = 'CZK' THEN 1 ELSE 0 END) AS ratio\n",
      "FROM customers;\n",
      "\n",
      "But wait, in SQLite, if the denominator is zero, this will result in an error. However, the question probably expects that there are customers in both currencies, so we can proceed.\n",
      "\n",
      "Another thing: the question says \"ratio of customers who pay in EUR against customers who pay in CZK\". So EUR divided by CZK.\n",
      "\n",
      "Yes, that's the correct calculation.\n",
      "\n",
      "So the final query should be as above. Now, making sure that the column names are correct. The Currency column is in the customers table, so that's correct.\n",
      "\n",
      "So the answer is the SQL query with that structure.\n",
      "\n",
      "Final answer based om reasoning for this model:\n",
      "\n",
      "\n",
      "```\n",
      "SELECT \n",
      "    SUM(CASE WHEN Currency = 'EUR' THEN 1 ELSE 0 END) * 1.0 / SUM(CASE WHEN Currency = 'CZK' THEN 1 ELSE 0 END) AS ratio\n",
      "FROM customers;\n",
      "```\n",
      "\n",
      "\n",
      "here is avaliable tables below\n",
      "\n",
      "\n",
      "Table: customers\n",
      "CREATE TABLE customers\n",
      "(\n",
      "    CustomerID INTEGER UNIQUE     not null\n",
      "        primary key,\n",
      "    Segment    TEXT null,\n",
      "    Currency   TEXT null\n",
      ")\n",
      "\n",
      "Table: gasstations\n",
      "CREATE TABLE gasstations\n",
      "(\n",
      "    GasStationID INTEGER    UNIQUE   not null\n",
      "        primary key,\n",
      "    ChainID      INTEGER          null,\n",
      "    Country      TEXT null,\n",
      "    Segment      TEXT null\n",
      ")\n",
      "\n",
      "Table: products\n",
      "CREATE TABLE products\n",
      "(\n",
      "    ProductID   INTEGER   UNIQUE      not null\n",
      "        primary key,\n",
      "    Description TEXT null\n",
      ")\n",
      "\n",
      "Table: transactions_1k\n",
      "CREATE TABLE \"transactions_1k\"\n",
      "(\n",
      "    TransactionID INTEGER\n",
      "        primary key autoincrement,\n",
      "    Date          DATE,\n",
      "    Time          TEXT,\n",
      "    CustomerID    INTEGER,\n",
      "    CardID        INTEGER,\n",
      "    GasStationID  INTEGER,\n",
      "    ProductID     INTEGER,\n",
      "    Amount        INTEGER,\n",
      "    Price         REAL\n",
      ")\n",
      "\n",
      "Table: sqlite_sequence\n",
      "CREATE TABLE sqlite_sequence(name,seq)\n",
      "\n",
      "Table: yearmonth\n",
      "CREATE TABLE \"yearmonth\"\n",
      "(\n",
      "    CustomerID  INTEGER not null\n",
      "        references customers\n",
      "            on update cascade on delete cascade\n",
      "        references customers,\n",
      "    Date        TEXT    not null,\n",
      "    Consumption REAL,\n",
      "    primary key (Date, CustomerID)\n",
      ")\n",
      "\n",
      "-- Using valid SQLite and understanding External Knowledge, answer the following questions for the tables provided above.\n",
      "-- What is the ratio of customers who pay in EUR against customers who pay in CZK?\n",
      "-- External Knowledge: ratio of customers who pay in EUR against customers who pay in CZK = count(Currency = 'EUR') / count(Currency = 'CZK').\n",
      "\n",
      "\n",
      "Generate the SQLite for the above question after thinking step by step: \n",
      "\n",
      "\n",
      "Instructions:\n",
      "- Make sure you only output the information that is asked in the question. If the question asks for a specific column, make sure to only include that column in the SELECT clause, nothing more.\n",
      "- The generated query should return all of the information asked in the question without any missing or extra information.\n",
      "- Before generating the final SQL query, please think through the steps of how to write the query.\n",
      "- Do not misuse column names, keep them in quotes `\n",
      "- Carefully understand what colomns belond to what tables\n",
      "- Use only initial column names, change names prohibited\n",
      "        \n",
      "Output Format:\n",
      "In your answer, please enclose the generated SQL query in a code block:\n",
      "```\n",
      "-- Your SQL query\n",
      "```    \n",
      "and nothing else, no exaplains, no comments (asnwer should be less than 512 characters)\n",
      "\n",
      "Take a deep breath and think step by step to find the correct SQL query in SQLite format.\n",
      "\n",
      "Question repetition: What is the ratio of customers who pay in EUR against customers who pay in CZK?\n",
      "\n",
      "Be care! Include only what i want it questiona and nothing else<|im_end|>\n",
      "<|im_start|>assistant\n",
      "<think>\n",
      "\n",
      "</think>\n",
      "\n",
      "\n",
      "\n",
      "\n",
      "Максимальное количество токенов в промптах: 15910\n",
      "\n",
      "начинаем скорринг\n",
      "Загружаем чаты с данными...\n",
      "Данные успешно загружены\n",
      "Начали генерацию SQL запросов\n"
     ]
    },
    {
     "name": "stderr",
     "output_type": "stream",
     "text": [
      "Processed prompts: 100%|██████████| 500/500 [01:56<00:00,  4.30it/s, est. speed input: 21981.83 toks/s, output: 251.60 toks/s]"
     ]
    },
    {
     "name": "stdout",
     "output_type": "stream",
     "text": [
      "extract_think количество ошибок:  0\n",
      "extract_sql количество ошибок:  0\n",
      "Закончили генерацию SQL запросов\n",
      "Начали скорр полученных SQL запросов\n"
     ]
    },
    {
     "name": "stderr",
     "output_type": "stream",
     "text": [
      "\n"
     ]
    },
    {
     "name": "stdout",
     "output_type": "stream",
     "text": [
      "Qwen3-8b Mini DEV Финальный результат EX: 55.80\n",
      "Qwen3-8b процент запросов, которые успешно выполнились Mini DEV: 97.00%\n",
      "====================================================================================================\n",
      "\n",
      "\n",
      "Загружаем чаты с данными...\n",
      "Данные успешно загружены\n",
      "Начали генерацию SQL запросов\n"
     ]
    },
    {
     "name": "stderr",
     "output_type": "stream",
     "text": [
      "Processed prompts: 100%|██████████| 500/500 [01:57<00:00,  4.25it/s, est. speed input: 22047.99 toks/s, output: 252.39 toks/s]"
     ]
    },
    {
     "name": "stdout",
     "output_type": "stream",
     "text": [
      "extract_think количество ошибок:  0\n",
      "extract_sql количество ошибок:  0\n",
      "Закончили генерацию SQL запросов\n",
      "Начали скорр полученных SQL запросов\n"
     ]
    },
    {
     "name": "stderr",
     "output_type": "stream",
     "text": [
      "\n"
     ]
    },
    {
     "name": "stdout",
     "output_type": "stream",
     "text": [
      "Qwen3-8b Mini DEV Финальный результат EX: 56.40\n",
      "Qwen3-8b процент запросов, которые успешно выполнились Mini DEV: 96.00%\n",
      "====================================================================================================\n",
      "\n",
      "\n",
      "Загружаем чаты с данными...\n",
      "Данные успешно загружены\n",
      "Начали генерацию SQL запросов\n"
     ]
    },
    {
     "name": "stderr",
     "output_type": "stream",
     "text": [
      "Processed prompts: 100%|██████████| 500/500 [02:04<00:00,  4.02it/s, est. speed input: 21717.86 toks/s, output: 235.97 toks/s]"
     ]
    },
    {
     "name": "stdout",
     "output_type": "stream",
     "text": [
      "extract_think количество ошибок:  0\n",
      "extract_sql количество ошибок:  0\n",
      "Закончили генерацию SQL запросов\n",
      "Начали скорр полученных SQL запросов\n"
     ]
    },
    {
     "name": "stderr",
     "output_type": "stream",
     "text": [
      "\n"
     ]
    },
    {
     "name": "stdout",
     "output_type": "stream",
     "text": [
      "Qwen3-8b Mini DEV Финальный результат EX: 55.60\n",
      "Qwen3-8b процент запросов, которые успешно выполнились Mini DEV: 96.60%\n",
      "====================================================================================================\n",
      "\n",
      "\n",
      "Загружаем чаты с данными...\n",
      "Данные успешно загружены\n",
      "Начали генерацию SQL запросов\n"
     ]
    },
    {
     "name": "stderr",
     "output_type": "stream",
     "text": [
      "Processed prompts: 100%|██████████| 500/500 [02:03<00:00,  4.06it/s, est. speed input: 21923.34 toks/s, output: 239.51 toks/s]"
     ]
    },
    {
     "name": "stdout",
     "output_type": "stream",
     "text": [
      "extract_think количество ошибок:  0\n",
      "extract_sql количество ошибок:  0\n",
      "Закончили генерацию SQL запросов\n",
      "Начали скорр полученных SQL запросов\n"
     ]
    },
    {
     "name": "stderr",
     "output_type": "stream",
     "text": [
      "\n"
     ]
    },
    {
     "name": "stdout",
     "output_type": "stream",
     "text": [
      "Qwen3-8b Mini DEV Финальный результат EX: 55.40\n",
      "Qwen3-8b процент запросов, которые успешно выполнились Mini DEV: 95.00%\n",
      "====================================================================================================\n",
      "\n",
      "\n",
      "Загружаем чаты с данными...\n",
      "Данные успешно загружены\n",
      "Начали генерацию SQL запросов\n"
     ]
    },
    {
     "name": "stderr",
     "output_type": "stream",
     "text": [
      "Processed prompts: 100%|██████████| 500/500 [01:56<00:00,  4.29it/s, est. speed input: 21979.26 toks/s, output: 252.52 toks/s]"
     ]
    },
    {
     "name": "stdout",
     "output_type": "stream",
     "text": [
      "extract_think количество ошибок:  0\n",
      "extract_sql количество ошибок:  0\n",
      "Закончили генерацию SQL запросов\n",
      "Начали скорр полученных SQL запросов\n"
     ]
    },
    {
     "name": "stderr",
     "output_type": "stream",
     "text": [
      "\n"
     ]
    },
    {
     "name": "stdout",
     "output_type": "stream",
     "text": [
      "Qwen3-8b Mini DEV Финальный результат EX: 55.00\n",
      "Qwen3-8b процент запросов, которые успешно выполнились Mini DEV: 96.00%\n",
      "====================================================================================================\n",
      "\n",
      "\n",
      "Загружаем чаты с данными...\n",
      "Данные успешно загружены\n",
      "Начали генерацию SQL запросов\n"
     ]
    },
    {
     "name": "stderr",
     "output_type": "stream",
     "text": [
      "Processed prompts: 100%|██████████| 500/500 [01:56<00:00,  4.30it/s, est. speed input: 21887.16 toks/s, output: 251.41 toks/s]"
     ]
    },
    {
     "name": "stdout",
     "output_type": "stream",
     "text": [
      "extract_think количество ошибок:  0\n",
      "extract_sql количество ошибок:  0\n",
      "Закончили генерацию SQL запросов\n",
      "Начали скорр полученных SQL запросов\n"
     ]
    },
    {
     "name": "stderr",
     "output_type": "stream",
     "text": [
      "\n"
     ]
    },
    {
     "name": "stdout",
     "output_type": "stream",
     "text": [
      "Qwen3-8b Mini DEV Финальный результат EX: 54.80\n",
      "Qwen3-8b процент запросов, которые успешно выполнились Mini DEV: 96.40%\n",
      "====================================================================================================\n",
      "\n",
      "\n",
      "Загружаем чаты с данными...\n",
      "Данные успешно загружены\n",
      "Начали генерацию SQL запросов\n"
     ]
    },
    {
     "name": "stderr",
     "output_type": "stream",
     "text": [
      "Processed prompts: 100%|██████████| 500/500 [01:53<00:00,  4.41it/s, est. speed input: 22010.34 toks/s, output: 257.13 toks/s]"
     ]
    },
    {
     "name": "stdout",
     "output_type": "stream",
     "text": [
      "extract_think количество ошибок:  0\n",
      "extract_sql количество ошибок:  0\n",
      "Закончили генерацию SQL запросов\n",
      "Начали скорр полученных SQL запросов\n"
     ]
    },
    {
     "name": "stderr",
     "output_type": "stream",
     "text": [
      "\n"
     ]
    },
    {
     "name": "stdout",
     "output_type": "stream",
     "text": [
      "Qwen3-8b Mini DEV Финальный результат EX: 54.80\n",
      "Qwen3-8b процент запросов, которые успешно выполнились Mini DEV: 95.40%\n",
      "====================================================================================================\n",
      "\n",
      "\n",
      "Загружаем чаты с данными...\n",
      "Данные успешно загружены\n",
      "Начали генерацию SQL запросов\n"
     ]
    },
    {
     "name": "stderr",
     "output_type": "stream",
     "text": [
      "Processed prompts: 100%|██████████| 500/500 [01:52<00:00,  4.45it/s, est. speed input: 21999.45 toks/s, output: 262.19 toks/s]"
     ]
    },
    {
     "name": "stdout",
     "output_type": "stream",
     "text": [
      "extract_think количество ошибок:  0\n",
      "extract_sql количество ошибок:  0\n",
      "Закончили генерацию SQL запросов\n",
      "Начали скорр полученных SQL запросов\n"
     ]
    },
    {
     "name": "stderr",
     "output_type": "stream",
     "text": [
      "\n"
     ]
    },
    {
     "name": "stdout",
     "output_type": "stream",
     "text": [
      "Qwen3-8b Mini DEV Финальный результат EX: 54.80\n",
      "Qwen3-8b процент запросов, которые успешно выполнились Mini DEV: 96.80%\n",
      "====================================================================================================\n",
      "\n",
      "\n",
      "Загружаем чаты с данными...\n",
      "Данные успешно загружены\n",
      "Начали генерацию SQL запросов\n"
     ]
    },
    {
     "name": "stderr",
     "output_type": "stream",
     "text": [
      "Processed prompts: 100%|██████████| 500/500 [01:56<00:00,  4.29it/s, est. speed input: 21799.39 toks/s, output: 251.47 toks/s]"
     ]
    },
    {
     "name": "stdout",
     "output_type": "stream",
     "text": [
      "extract_think количество ошибок:  0\n",
      "extract_sql количество ошибок:  0\n",
      "Закончили генерацию SQL запросов\n",
      "Начали скорр полученных SQL запросов\n"
     ]
    },
    {
     "name": "stderr",
     "output_type": "stream",
     "text": [
      "\n"
     ]
    },
    {
     "name": "stdout",
     "output_type": "stream",
     "text": [
      "Qwen3-8b Mini DEV Финальный результат EX: 55.60\n",
      "Qwen3-8b процент запросов, которые успешно выполнились Mini DEV: 97.40%\n",
      "====================================================================================================\n",
      "\n",
      "\n",
      "Загружаем чаты с данными...\n",
      "Данные успешно загружены\n",
      "Начали генерацию SQL запросов\n"
     ]
    },
    {
     "name": "stderr",
     "output_type": "stream",
     "text": [
      "Processed prompts: 100%|██████████| 500/500 [01:58<00:00,  4.22it/s, est. speed input: 21654.16 toks/s, output: 247.53 toks/s]"
     ]
    },
    {
     "name": "stdout",
     "output_type": "stream",
     "text": [
      "extract_think количество ошибок:  0\n",
      "extract_sql количество ошибок:  0\n",
      "Закончили генерацию SQL запросов\n",
      "Начали скорр полученных SQL запросов\n"
     ]
    },
    {
     "name": "stderr",
     "output_type": "stream",
     "text": [
      "\n"
     ]
    },
    {
     "name": "stdout",
     "output_type": "stream",
     "text": [
      "Qwen3-8b Mini DEV Финальный результат EX: 52.80\n",
      "Qwen3-8b процент запросов, которые успешно выполнились Mini DEV: 96.60%\n",
      "====================================================================================================\n",
      "\n",
      "\n",
      "Загружаем чаты с данными...\n",
      "Данные успешно загружены\n",
      "Начали генерацию SQL запросов\n"
     ]
    },
    {
     "name": "stderr",
     "output_type": "stream",
     "text": [
      "Processed prompts: 100%|██████████| 500/500 [02:01<00:00,  4.12it/s, est. speed input: 21524.07 toks/s, output: 239.00 toks/s]"
     ]
    },
    {
     "name": "stdout",
     "output_type": "stream",
     "text": [
      "extract_think количество ошибок:  0\n",
      "extract_sql количество ошибок:  0\n",
      "Закончили генерацию SQL запросов\n",
      "Начали скорр полученных SQL запросов\n"
     ]
    },
    {
     "name": "stderr",
     "output_type": "stream",
     "text": [
      "\n"
     ]
    },
    {
     "name": "stdout",
     "output_type": "stream",
     "text": [
      "Qwen3-8b Mini DEV Финальный результат EX: 53.20\n",
      "Qwen3-8b процент запросов, которые успешно выполнились Mini DEV: 97.00%\n",
      "====================================================================================================\n",
      "\n",
      "\n",
      "Загружаем чаты с данными...\n",
      "Данные успешно загружены\n",
      "Начали генерацию SQL запросов\n"
     ]
    },
    {
     "name": "stderr",
     "output_type": "stream",
     "text": [
      "Processed prompts: 100%|██████████| 500/500 [01:55<00:00,  4.35it/s, est. speed input: 21760.01 toks/s, output: 254.66 toks/s]"
     ]
    },
    {
     "name": "stdout",
     "output_type": "stream",
     "text": [
      "extract_think количество ошибок:  0\n",
      "extract_sql количество ошибок:  0\n",
      "Закончили генерацию SQL запросов\n",
      "Начали скорр полученных SQL запросов\n"
     ]
    },
    {
     "name": "stderr",
     "output_type": "stream",
     "text": [
      "\n"
     ]
    },
    {
     "name": "stdout",
     "output_type": "stream",
     "text": [
      "Qwen3-8b Mini DEV Финальный результат EX: 54.20\n",
      "Qwen3-8b процент запросов, которые успешно выполнились Mini DEV: 97.20%\n",
      "====================================================================================================\n",
      "\n",
      "\n",
      "Загружаем чаты с данными...\n",
      "Данные успешно загружены\n",
      "Начали генерацию SQL запросов\n"
     ]
    },
    {
     "name": "stderr",
     "output_type": "stream",
     "text": [
      "Processed prompts: 100%|██████████| 500/500 [01:54<00:00,  4.35it/s, est. speed input: 21936.33 toks/s, output: 250.64 toks/s]"
     ]
    },
    {
     "name": "stdout",
     "output_type": "stream",
     "text": [
      "extract_think количество ошибок:  0\n",
      "extract_sql количество ошибок:  0\n",
      "Закончили генерацию SQL запросов\n",
      "Начали скорр полученных SQL запросов\n"
     ]
    },
    {
     "name": "stderr",
     "output_type": "stream",
     "text": [
      "\n"
     ]
    },
    {
     "name": "stdout",
     "output_type": "stream",
     "text": [
      "Qwen3-8b Mini DEV Финальный результат EX: 54.60\n",
      "Qwen3-8b процент запросов, которые успешно выполнились Mini DEV: 97.20%\n",
      "====================================================================================================\n",
      "\n",
      "\n",
      "Загружаем чаты с данными...\n",
      "Данные успешно загружены\n",
      "Начали генерацию SQL запросов\n"
     ]
    },
    {
     "name": "stderr",
     "output_type": "stream",
     "text": [
      "Processed prompts: 100%|██████████| 500/500 [01:53<00:00,  4.41it/s, est. speed input: 21963.99 toks/s, output: 255.50 toks/s]"
     ]
    },
    {
     "name": "stdout",
     "output_type": "stream",
     "text": [
      "extract_think количество ошибок:  0\n",
      "extract_sql количество ошибок:  0\n",
      "Закончили генерацию SQL запросов\n",
      "Начали скорр полученных SQL запросов\n"
     ]
    },
    {
     "name": "stderr",
     "output_type": "stream",
     "text": [
      "\n"
     ]
    },
    {
     "name": "stdout",
     "output_type": "stream",
     "text": [
      "Qwen3-8b Mini DEV Финальный результат EX: 54.60\n",
      "Qwen3-8b процент запросов, которые успешно выполнились Mini DEV: 97.60%\n",
      "====================================================================================================\n",
      "\n",
      "\n",
      "Загружаем чаты с данными...\n",
      "Данные успешно загружены\n",
      "Начали генерацию SQL запросов\n"
     ]
    },
    {
     "name": "stderr",
     "output_type": "stream",
     "text": [
      "Processed prompts: 100%|██████████| 500/500 [01:51<00:00,  4.47it/s, est. speed input: 21804.67 toks/s, output: 259.57 toks/s]"
     ]
    },
    {
     "name": "stdout",
     "output_type": "stream",
     "text": [
      "extract_think количество ошибок:  0\n",
      "extract_sql количество ошибок:  0\n",
      "Закончили генерацию SQL запросов\n",
      "Начали скорр полученных SQL запросов\n"
     ]
    },
    {
     "name": "stderr",
     "output_type": "stream",
     "text": [
      "\n"
     ]
    },
    {
     "name": "stdout",
     "output_type": "stream",
     "text": [
      "Qwen3-8b Mini DEV Финальный результат EX: 54.40\n",
      "Qwen3-8b процент запросов, которые успешно выполнились Mini DEV: 96.60%\n",
      "====================================================================================================\n",
      "\n",
      "\n",
      "Загружаем чаты с данными...\n",
      "Данные успешно загружены\n",
      "Начали генерацию SQL запросов\n"
     ]
    },
    {
     "name": "stderr",
     "output_type": "stream",
     "text": [
      "Processed prompts: 100%|██████████| 500/500 [01:50<00:00,  4.53it/s, est. speed input: 21768.65 toks/s, output: 262.88 toks/s]"
     ]
    },
    {
     "name": "stdout",
     "output_type": "stream",
     "text": [
      "extract_think количество ошибок:  0\n",
      "extract_sql количество ошибок:  0\n",
      "Закончили генерацию SQL запросов\n",
      "Начали скорр полученных SQL запросов\n"
     ]
    },
    {
     "name": "stderr",
     "output_type": "stream",
     "text": [
      "\n"
     ]
    },
    {
     "name": "stdout",
     "output_type": "stream",
     "text": [
      "Qwen3-8b Mini DEV Финальный результат EX: 54.20\n",
      "Qwen3-8b процент запросов, которые успешно выполнились Mini DEV: 95.80%\n",
      "====================================================================================================\n",
      "\n",
      "\n",
      "Загружаем чаты с данными...\n",
      "Данные успешно загружены\n",
      "Начали генерацию SQL запросов\n"
     ]
    },
    {
     "name": "stderr",
     "output_type": "stream",
     "text": [
      "Processed prompts: 100%|██████████| 500/500 [01:34<00:00,  5.27it/s, est. speed input: 22539.23 toks/s, output: 308.33 toks/s]"
     ]
    },
    {
     "name": "stdout",
     "output_type": "stream",
     "text": [
      "extract_think количество ошибок:  0\n",
      "extract_sql количество ошибок:  0\n",
      "Закончили генерацию SQL запросов\n",
      "Начали скорр полученных SQL запросов\n"
     ]
    },
    {
     "name": "stderr",
     "output_type": "stream",
     "text": [
      "\n"
     ]
    },
    {
     "name": "stdout",
     "output_type": "stream",
     "text": [
      "Qwen3-8b Mini DEV Финальный результат EX: 53.60\n",
      "Qwen3-8b процент запросов, которые успешно выполнились Mini DEV: 95.60%\n",
      "====================================================================================================\n",
      "\n",
      "\n",
      "Загружаем чаты с данными...\n",
      "Данные успешно загружены\n",
      "Начали генерацию SQL запросов\n"
     ]
    },
    {
     "name": "stderr",
     "output_type": "stream",
     "text": [
      "Processed prompts: 100%|██████████| 500/500 [01:35<00:00,  5.25it/s, est. speed input: 22340.56 toks/s, output: 304.60 toks/s]"
     ]
    },
    {
     "name": "stdout",
     "output_type": "stream",
     "text": [
      "extract_think количество ошибок:  0\n",
      "extract_sql количество ошибок:  0\n",
      "Закончили генерацию SQL запросов\n",
      "Начали скорр полученных SQL запросов\n"
     ]
    },
    {
     "name": "stderr",
     "output_type": "stream",
     "text": [
      "\n"
     ]
    },
    {
     "name": "stdout",
     "output_type": "stream",
     "text": [
      "Qwen3-8b Mini DEV Финальный результат EX: 53.80\n",
      "Qwen3-8b процент запросов, которые успешно выполнились Mini DEV: 95.60%\n",
      "====================================================================================================\n",
      "\n",
      "\n",
      "Загружаем чаты с данными...\n",
      "Данные успешно загружены\n",
      "Начали генерацию SQL запросов\n"
     ]
    },
    {
     "name": "stderr",
     "output_type": "stream",
     "text": [
      "Processed prompts: 100%|██████████| 500/500 [01:33<00:00,  5.38it/s, est. speed input: 22281.10 toks/s, output: 315.43 toks/s]"
     ]
    },
    {
     "name": "stdout",
     "output_type": "stream",
     "text": [
      "extract_think количество ошибок:  0\n",
      "extract_sql количество ошибок:  0\n",
      "Закончили генерацию SQL запросов\n",
      "Начали скорр полученных SQL запросов\n"
     ]
    },
    {
     "name": "stderr",
     "output_type": "stream",
     "text": [
      "\n"
     ]
    },
    {
     "name": "stdout",
     "output_type": "stream",
     "text": [
      "Qwen3-8b Mini DEV Финальный результат EX: 54.40\n",
      "Qwen3-8b процент запросов, которые успешно выполнились Mini DEV: 95.40%\n",
      "====================================================================================================\n",
      "\n",
      "\n",
      "Загружаем чаты с данными...\n",
      "Данные успешно загружены\n",
      "Начали генерацию SQL запросов\n"
     ]
    },
    {
     "name": "stderr",
     "output_type": "stream",
     "text": [
      "Processed prompts: 100%|██████████| 500/500 [01:41<00:00,  4.95it/s, est. speed input: 22221.50 toks/s, output: 290.39 toks/s]"
     ]
    },
    {
     "name": "stdout",
     "output_type": "stream",
     "text": [
      "extract_think количество ошибок:  0\n",
      "extract_sql количество ошибок:  0\n",
      "Закончили генерацию SQL запросов\n",
      "Начали скорр полученных SQL запросов\n"
     ]
    },
    {
     "name": "stderr",
     "output_type": "stream",
     "text": [
      "\n"
     ]
    },
    {
     "name": "stdout",
     "output_type": "stream",
     "text": [
      "Qwen3-8b Mini DEV Финальный результат EX: 56.00\n",
      "Qwen3-8b процент запросов, которые успешно выполнились Mini DEV: 95.60%\n",
      "====================================================================================================\n",
      "\n",
      "\n"
     ]
    }
   ],
   "source": [
    "run_cot_experiment(model,arr_seeds,arr_versions, type_cot,num_observations=num_observations)"
   ]
  },
  {
   "cell_type": "markdown",
   "id": "e8321b48-e1ff-41e4-b667-d7196e984c17",
   "metadata": {},
   "source": [
    "## 5 наблюдений"
   ]
  },
  {
   "cell_type": "code",
   "execution_count": 9,
   "id": "613df4ca-270b-4de3-9fb0-a403da4769f9",
   "metadata": {},
   "outputs": [
    {
     "name": "stdout",
     "output_type": "stream",
     "text": [
      "[541, 537, 504, 397, 144, 358, 933, 641, 104, 77, 881, 78, 766, 856, 667, 739, 420, 121, 415, 852]\n",
      "model: Qwen3-14B\n"
     ]
    }
   ],
   "source": [
    "n= 20\n",
    "arr_seeds = [random.randint(0,1000) for _ in range(n)]\n",
    "arr_versions = [x for x in range(n)]\n",
    "model = \"Qwen3-14B\"\n",
    "num_observations = 5\n",
    "type_cot = 'all_new'\n",
    "print(arr_seeds)\n",
    "print(f\"model: {model}\")"
   ]
  },
  {
   "cell_type": "code",
   "execution_count": 10,
   "id": "cecc36c2-8753-43db-a939-82d14892b0f5",
   "metadata": {
    "scrolled": true
   },
   "outputs": [
    {
     "name": "stdout",
     "output_type": "stream",
     "text": [
      "Загружаем модель...\n"
     ]
    },
    {
     "name": "stderr",
     "output_type": "stream",
     "text": [
      "Loading safetensors checkpoint shards:   0% Completed | 0/8 [00:00<?, ?it/s]\n",
      "Loading safetensors checkpoint shards:  12% Completed | 1/8 [00:01<00:09,  1.41s/it]\n",
      "Loading safetensors checkpoint shards:  25% Completed | 2/8 [00:02<00:08,  1.40s/it]\n",
      "Loading safetensors checkpoint shards:  38% Completed | 3/8 [00:04<00:06,  1.39s/it]\n",
      "Loading safetensors checkpoint shards:  50% Completed | 4/8 [00:05<00:05,  1.39s/it]\n",
      "Loading safetensors checkpoint shards:  62% Completed | 5/8 [00:07<00:04,  1.45s/it]\n",
      "Loading safetensors checkpoint shards:  75% Completed | 6/8 [00:07<00:02,  1.21s/it]\n",
      "Loading safetensors checkpoint shards:  88% Completed | 7/8 [00:09<00:01,  1.28s/it]\n",
      "Loading safetensors checkpoint shards: 100% Completed | 8/8 [00:10<00:00,  1.34s/it]\n",
      "Loading safetensors checkpoint shards: 100% Completed | 8/8 [00:10<00:00,  1.34s/it]\n",
      "\u001b[1;36m(VllmWorker rank=0 pid=3215179)\u001b[0;0m \n"
     ]
    },
    {
     "name": "stdout",
     "output_type": "stream",
     "text": [
      "Модель успешно загружена\n",
      "model_config {'model': '/data/home/vkropoti/models/Qwen3-14B', 'tensor_parallel_size': 2, 'max_model_len': 40000, 'max_new_tokens': 1500, 'temperature': 0, 'top_k': 1, 'top_p': 0.8, 'gpu_memory_utilization': 0.9, 'trust_remote_code': False, 'seed': 541}\n",
      "\n",
      "prompts_config {'path_dev_json': '/home/vkropoti/vllm/dev.json', 'path_sql_dbs': '/data/home/vkropoti/sql_data/dev_databases/', 'use_reasoning': False, 'paths_to_cot': ['/data/home/vkropoti/sql_llm_answers/base_reasoning/sql_all_new_Qwen3-14B-reasoning-v0', '/data/home/vkropoti/sql_llm_answers/base_reasoning/sql_all_new_Qwen3-14B-reasoning-v1', '/data/home/vkropoti/sql_llm_answers/base_reasoning/sql_all_new_Qwen3-14B-reasoning-v2', '/data/home/vkropoti/sql_llm_answers/base_reasoning/sql_all_new_Qwen3-14B-reasoning-v3', '/data/home/vkropoti/sql_llm_answers/base_reasoning/sql_all_new_Qwen3-14B-reasoning-v4']}\n",
      "\n",
      "save_config {'path_sql_save': '/data/home/vkropoti/sql_llm_answers/base_reasoning/sql_all_Qwen3-14B-cot_all_new_think==False_nobs5-v0', 'path_think_save': None, 'path_sql_answers_save': '/data/home/vkropoti/sql_llm_answers/base_reasoning/sql_predict_Qwen3-14B-cot_all_new_think==False_nobs5-v0', 'path_to_save_scores': '/data/home/vkropoti/sql_llm_answers/base_reasoning/sql_results_Qwen3-14B-cot_all_new_think==False_nobs5-v0', 'path_to_save_executed': '/data/home/vkropoti/sql_llm_answers/base_reasoning/sql_executed_Qwen3-14B-cot_all_new_think==False_nobs5-v0'}\n",
      "\n",
      "Модель успешно загружена\n",
      "Пример промпта\n",
      "<|im_start|>system\n",
      "\n",
      "You are a data science expert. Below, you are provided with a database schema and a natural language question. Your task is to understand the schema and generate a valid SQL query to answer the question.\n",
      "\n",
      "Database Engine: SQLite\n",
      "\n",
      "You will be given an additional analysis of other models, please take it into account, so the plan is\n",
      "1. Analyse given addition analysis from other models (find in which analysis the same and differ, how to use that to answer question)\n",
      "2. Combine best from previous part and think how to solve the problem (analyze tables, take care what columns avaliable in each table and so on, check the syntacsis)\n",
      "3. Create the answers. The answer should be only sql query.\n",
      "\n",
      "Carefully follow the instruction and add <|im_end|> and the end of the final answer<|im_end|>\n",
      "<|im_start|>user\n",
      "Here is addition analysis from other models which can be helpfull, please take this into account but be careful (choose the best from each analysis, combine them to make the most proper answer):\n",
      "\n",
      "model 0 analysis:\n",
      " Reasoning process:\n",
      "\n",
      "Okay, let's tackle this question. The user wants the ratio of customers who pay in EUR versus those who pay in CZK. \n",
      "\n",
      "First, I need to figure out where the currency information is stored. Looking at the tables, the 'customers' table has a 'Currency' column. That's where the payment currency for each customer is recorded.\n",
      "\n",
      "Next, the question is about the ratio. So, I need to count the number of customers with Currency 'EUR' and those with 'CZK'. Then divide these two counts. \n",
      "\n",
      "Wait, the External Knowledge note says the ratio is count(Currency = 'EUR') / count(Currency = 'CZK'). So I need to compute these two counts and then divide them. \n",
      "\n",
      "In SQLite, I can use the COUNT() function with a condition. For example, COUNT(CASE WHEN Currency = 'EUR' THEN 1 END) to count EUR customers. Similarly for CZK. \n",
      "\n",
      "But wait, the CustomerID in the customers table is the primary key, so each customer is unique. So just count the number of rows where Currency is EUR and where it's CZK. \n",
      "\n",
      "So the query should select (count of EUR) divided by (count of CZK). \n",
      "\n",
      "But how to handle division? In SQLite, using / operator. But need to make sure that division is done as floating point, not integer. For example, if both counts are integers, dividing them might result in integer division. To avoid that, maybe cast them to REAL or use a decimal value. \n",
      "\n",
      "But the question doesn't specify handling of zero, like if CZK count is zero. But assuming the data has both. \n",
      "\n",
      "Putting it all together: \n",
      "\n",
      "SELECT \n",
      "    (COUNT(CASE WHEN Currency = 'EUR' THEN 1 END) * 1.0) / COUNT(CASE WHEN Currency = 'CZK' THEN 1 END) AS Ratio\n",
      "FROM customers;\n",
      "\n",
      "Wait, but the question is about customers who pay in EUR against those who pay in CZK. So, the counts are based on the Currency column in the customers table. \n",
      "\n",
      "Yes. So the query would select from the customers table, count the number of EUR and CZK entries, then divide them. \n",
      "\n",
      "Alternatively, using SUM with conditions:\n",
      "\n",
      "SELECT \n",
      "    (SUM(CASE WHEN Currency = 'EUR' THEN 1 ELSE 0 END) * 1.0) / SUM(CASE WHEN Currency = 'CZK' THEN 1 ELSE 0 END) AS Ratio\n",
      "FROM customers;\n",
      "\n",
      "But COUNT is more efficient here. Because COUNT with a condition is equivalent to SUM with 1/0. So both approaches are similar. \n",
      "\n",
      "The final query needs to return only the ratio. So the SQL should select that calculated value. \n",
      "\n",
      "Make sure that the column names are correctly quoted, but since they're in the customers table, and the column is named 'Currency', it's okay. \n",
      "\n",
      "Check if there are any other tables involved. The transactions table has Price and Amount, but the question is about the currency the customers use, which is stored in the customers table. So the transactions_1k table is not needed here. \n",
      "\n",
      "So the correct SQL is to query the customers table, count the EUR and CZK customers, and divide them.\n",
      "\n",
      "Final answer based om reasoning for this model:\n",
      "\n",
      "\n",
      "```\n",
      "SELECT (COUNT(CASE WHEN Currency = 'EUR' THEN 1 END) * 1.0) / COUNT(CASE WHEN Currency = 'CZK' THEN 1 END) FROM customers;\n",
      "```\n",
      "\n",
      "model 1 analysis:\n",
      " Reasoning process:\n",
      "\n",
      "Okay, let's tackle this problem. The user wants the ratio of customers who pay in EUR versus those who pay in CZK. First, I need to figure out where the Currency information is stored. Looking at the tables, the 'customers' table has a 'Currency' column. So, the plan is to count how many customers have 'EUR' and how many have 'CZK' in that column.\n",
      "\n",
      "Wait, but the question mentions customers who pay in a certain currency. However, the 'Currency' column in the customers table might represent their preferred currency or the currency they use for transactions. But the problem states that the ratio is based on customers' payment currency, so I think the 'Currency' column in the customers table is the right place to look.\n",
      "\n",
      "Now, I need to count the number of customers with Currency = 'EUR' and those with Currency = 'CZK'. Then divide the two counts to get the ratio. \n",
      "\n",
      "I should write a query that selects these counts. Using COUNT(CASE WHEN Currency = 'EUR' THEN 1 END) and COUNT(CASE WHEN Currency = 'CZK' THEN 1 END), then divide them. Alternatively, I could use SUM with a condition, but COUNT with CASE is more straightforward here.\n",
      "\n",
      "Wait, but what if there are customers with other currencies? The problem says to count only EUR and CZK. So, the query should only consider those two. Also, need to make sure that the division is done correctly, but SQLite handles division as floating-point if needed.\n",
      "\n",
      "Now, the SQL query would be something like:\n",
      "\n",
      "SELECT \n",
      "    (COUNT(CASE WHEN Currency = 'EUR' THEN 1 END) * 1.0) / COUNT(CASE WHEN Currency = 'CZK' THEN 1 END) AS Ratio\n",
      "FROM customers;\n",
      "\n",
      "But I need to check if there are any customers with NULL in the Currency column. If so, they won't be counted in either. The problem doesn't mention handling that, so assuming that all customers have a valid currency.\n",
      "\n",
      "Wait, the 'Currency' column in the customers table is defined as NULLable. So, there could be customers with NULL. But the question is about customers who pay in EUR or CZK, so those with NULL would be excluded. That's correct.\n",
      "\n",
      "Another point: The question uses the term \"customers who pay in EUR\" which might imply that the currency is determined by their transactions. However, the 'Currency' column in the customers table might be their preferred currency or the currency used in transactions. Since the problem gives the external knowledge that it's based on the Currency column, I should stick to that.\n",
      "\n",
      "Therefore, the correct approach is to count the number of customers with Currency 'EUR' and 'CZK' and compute their ratio.\n",
      "\n",
      "Final answer based om reasoning for this model:\n",
      "\n",
      "\n",
      "```\n",
      "SELECT \n",
      "    (COUNT(CASE WHEN Currency = 'EUR' THEN 1 END) * 1.0) / COUNT(CASE WHEN Currency = 'CZK' THEN 1 END) AS Ratio\n",
      "FROM customers;\n",
      "```\n",
      "\n",
      "model 2 analysis:\n",
      " Reasoning process:\n",
      "\n",
      "Okay, let's see. The user is asking for the ratio of customers who pay in EUR versus those who pay in CZK. First, I need to figure out which table has the currency information. Looking at the tables provided, the 'customers' table has a 'Currency' column. So, the data we need is in the customers table.\n",
      "\n",
      "The question is about counting customers based on their currency. The external knowledge says the ratio is count(EUR) divided by count(CZK). So, I need to count how many customers have 'EUR' in their Currency column and how many have 'CZK'. Then divide those two counts.\n",
      "\n",
      "But wait, the customers table has CustomerID as the primary key, so each customer is unique. So, I can just count the number of rows where Currency is 'EUR' and where it's 'CZK'.\n",
      "\n",
      "So, the SQL query would need to select these two counts and then compute their ratio. But in SQLite, how to do that? Well, I can use COUNT(CASE WHEN Currency = 'EUR' THEN 1 ELSE NULL END) to count EUR customers, same for CZK. Then divide the two counts.\n",
      "\n",
      "Wait, but the question says \"ratio of customers who pay in EUR against customers who pay in CZK\". So, it's EUR count divided by CZK count.\n",
      "\n",
      "So, the query would be:\n",
      "\n",
      "SELECT \n",
      "    COUNT(CASE WHEN Currency = 'EUR' THEN 1 END) / COUNT(CASE WHEN Currency = 'CZK' THEN 1 END) AS ratio\n",
      "FROM customers;\n",
      "\n",
      "But wait, in SQLite, if you divide two integers, it does integer division. So if the counts are, say, 3 and 2, it would return 1.5 as 1 if using integer division. But maybe the user expects a float. To ensure it's a float, perhaps multiply by 1.0 or cast to REAL.\n",
      "\n",
      "Alternatively, using COUNT(CASE...) as separate columns and then compute the ratio. But the user wants the ratio as a single value.\n",
      "\n",
      "Another approach: compute each count as a subquery or in the same SELECT.\n",
      "\n",
      "Yes, the initial approach should work. Let me check the syntax again. The CASE expression returns 1 when the condition is met, otherwise NULL. COUNT counts non-NULL values. So COUNT(CASE WHEN Currency = 'EUR' THEN 1 END) gives the number of EUR customers.\n",
      "\n",
      "Then dividing those two counts.\n",
      "\n",
      "But I need to make sure that if there are no CZK customers, it doesn't divide by zero. However, the question might assume that both currencies exist. But the query as written would return NULL if there are no CZK customers, since division by zero is undefined.\n",
      "\n",
      "But the user hasn't mentioned handling that case, so proceed as per the question's instruction.\n",
      "\n",
      "So the final SQL would be:\n",
      "\n",
      "SELECT \n",
      "    (COUNT(CASE WHEN Currency = 'EUR' THEN 1 END) * 1.0) / COUNT(CASE WHEN Currency = 'CZK' THEN 1 END) AS ratio\n",
      "FROM customers;\n",
      "\n",
      "Multiplying by 1.0 ensures that the division is done as a floating-point operation. But maybe using REAL or CAST would be better, but in SQLite, multiplying by 1.0 converts to REAL.\n",
      "\n",
      "Alternatively, using COUNT(CASE...) / COUNT(...) as REAL. But the syntax should be correct.\n",
      "\n",
      "So that's the query. Check the column names again. The 'Currency' column is in the customers table, correct.\n",
      "\n",
      "Yes, that should do it.\n",
      "\n",
      "Final answer based om reasoning for this model:\n",
      "\n",
      "\n",
      "```\n",
      "SELECT (COUNT(CASE WHEN Currency = 'EUR' THEN 1 END) * 1.0) / COUNT(CASE WHEN Currency = 'CZK' THEN 1 END) FROM customers;\n",
      "```\n",
      "\n",
      "model 3 analysis:\n",
      " Reasoning process:\n",
      "\n",
      "Okay, let's see. The user wants the ratio of customers who pay in EUR versus those who pay in CZK. Hmm. So first, I need to figure out where the currency information is stored. Looking at the tables, the 'customers' table has a 'Currency' column. That's where the payment currency for each customer is probably recorded.\n",
      "\n",
      "So the plan is to count how many customers have 'EUR' as their currency and how many have 'CZK'. Then divide those two counts to get the ratio. But wait, how do I handle cases where the currency might be something else? The question doesn't mention other currencies, so maybe we can ignore them. The external knowledge says to count only EUR and CZK.\n",
      "\n",
      "So the SQL query should select the count of customers where Currency is 'EUR' divided by the count where it's 'CZK'. But how to structure that. In SQLite, I can use a CASE statement or SUM with conditions. Alternatively, use two separate COUNTs in the SELECT clause.\n",
      "\n",
      "Wait, maybe using SUM with a condition. For example, SUM(CASE WHEN Currency = 'EUR' THEN 1 ELSE 0 END) as EUR_count and similarly for CZK. Then divide those two.\n",
      "\n",
      "But the customers table has CustomerID as the primary key, so each customer is unique. So I can just count the number of rows where Currency is 'EUR' and 'CZK' respectively.\n",
      "\n",
      "So the query would be:\n",
      "\n",
      "SELECT \n",
      "    COUNT(CASE WHEN Currency = 'EUR' THEN 1 END) * 1.0 / COUNT(CASE WHEN Currency = 'CZK' THEN 1 END) AS ratio\n",
      "FROM customers;\n",
      "\n",
      "Wait, but COUNT(CASE...) would count the non-null values. Alternatively, using SUM(1) where the condition is met. But in SQLite, COUNT with a condition can be done with COUNT(*) if we filter, but that would require subqueries or separate counts.\n",
      "\n",
      "Alternatively, I can use two separate COUNTs. But how to do that in one query. Like:\n",
      "\n",
      "SELECT \n",
      "    (SELECT COUNT(*) FROM customers WHERE Currency = 'EUR') * 1.0 / \n",
      "    (SELECT COUNT(*) FROM customers WHERE Currency = 'CZK') AS ratio\n",
      "FROM customers LIMIT 1;\n",
      "\n",
      "But that would work, but the LIMIT 1 is necessary because otherwise, if there are multiple rows, it would return multiple rows. But since the customer table has unique CustomerID, but the subqueries are aggregate functions, they would return a single value each. So the outer query would return one row, but using LIMIT 1 ensures that.\n",
      "\n",
      "Alternatively, use a single query with CASE expressions:\n",
      "\n",
      "SELECT \n",
      "    SUM(CASE WHEN Currency = 'EUR' THEN 1 ELSE 0 END) * 1.0 / \n",
      "    SUM(CASE WHEN Currency = 'CZK' THEN 1 ELSE 0 END) AS ratio\n",
      "FROM customers;\n",
      "\n",
      "This might be more efficient. Because SUM with 1 or 0 would effectively count the number of EUR and CZK customers.\n",
      "\n",
      "But in SQLite, COUNT(*) is more efficient than SUM(CASE...). However, since the CASE approach works, either way is acceptable.\n",
      "\n",
      "Another thing to note is that if there are no customers in one of the currencies, the division might result in a division by zero. But the question probably assumes there are customers in both currencies.\n",
      "\n",
      "So the final query would be using the SUM approach, or the two subqueries.\n",
      "\n",
      "Testing with sample data: if there are 10 EUR customers and 5 CZK, the ratio would be 10/5=2.0.\n",
      "\n",
      "But which method is better? Using the CASE expressions might be more straightforward and avoids multiple subqueries. So the first approach with SUM(CASE...) is better.\n",
      "\n",
      "So the SQL would be:\n",
      "\n",
      "SELECT \n",
      "    SUM(CASE WHEN Currency = 'EUR' THEN 1 ELSE 0 END) / SUM(CASE WHEN Currency = 'CZK' THEN 1 ELSE 0 END) AS ratio\n",
      "FROM customers;\n",
      "\n",
      "But wait, in SQLite, if the denominator is zero, this will result in an error. However, the question probably expects that there are customers in both currencies, so we can proceed.\n",
      "\n",
      "Another thing: the question says \"ratio of customers who pay in EUR against customers who pay in CZK\". So EUR divided by CZK.\n",
      "\n",
      "Yes, that's the correct calculation.\n",
      "\n",
      "So the final query should be as above. Now, making sure that the column names are correct. The Currency column is in the customers table, so that's correct.\n",
      "\n",
      "So the answer is the SQL query with that structure.\n",
      "\n",
      "Final answer based om reasoning for this model:\n",
      "\n",
      "\n",
      "```\n",
      "SELECT \n",
      "    SUM(CASE WHEN Currency = 'EUR' THEN 1 ELSE 0 END) * 1.0 / SUM(CASE WHEN Currency = 'CZK' THEN 1 ELSE 0 END) AS ratio\n",
      "FROM customers;\n",
      "```\n",
      "\n",
      "model 4 analysis:\n",
      " Reasoning process:\n",
      "\n",
      "Okay, let's see. The user wants the ratio of customers who pay in EUR compared to those who pay in CZK. Hmm, first, I need to figure out which tables have the currency information. The customers table has a Currency column. So that's where I should look.\n",
      "\n",
      "Wait, but how do I know which customers have paid in EUR or CZK? The Currency column in the customers table probably indicates their preferred currency. But maybe transactions are in different currencies? Wait, the transactions_1k table has a Price column, but the question is about the customers' payment currency, not the transaction's currency. The external knowledge says the ratio is based on the count of Currency = 'EUR' divided by count of Currency = 'CZK'. So it's about the customers' Currency field, not the transaction's price currency.\n",
      "\n",
      "So I need to count how many customers have Currency 'EUR' and how many have 'CZK'. Then divide those two counts. \n",
      "\n",
      "So the steps are: select count of EUR and count of CZK from customers table. Then compute the ratio. \n",
      "\n",
      "But how to do that in SQL. Maybe use a CASE statement or conditional aggregation. For example, SUM(CASE WHEN Currency = 'EUR' THEN 1 ELSE 0 END) as eur_count, same for CZK. Then divide them.\n",
      "\n",
      "Wait, but in SQLite, you can't directly divide two columns in a SELECT unless you use a subquery or a CTE. Alternatively, you can use a subquery to get the two counts and then divide them.\n",
      "\n",
      "Alternatively, use SUM with conditions. Let me think. Let's write:\n",
      "\n",
      "SELECT \n",
      "    SUM(CASE WHEN Currency = 'EUR' THEN 1 ELSE 0 END) / SUM(CASE WHEN Currency = 'CZK' THEN 1 ELSE 0 END) AS ratio\n",
      "FROM customers;\n",
      "\n",
      "But wait, what if there are customers with other currencies? The question is specifically about EUR vs CZK. So the counts would be only for those two. But what if a customer has a different currency? The CASE would ignore them. So that's okay.\n",
      "\n",
      "But need to make sure that the denominators are not zero. But the question probably expects that there are entries for both. However, the user didn't mention handling division by zero, so proceed as per the instruction.\n",
      "\n",
      "So the SQL query would be selecting the ratio as the division of the two counts. Make sure to use the correct column names and table names. The customers table has the Currency column.\n",
      "\n",
      "So the final SQL should be:\n",
      "\n",
      "SELECT \n",
      "    (SELECT COUNT(*) FROM customers WHERE Currency = 'EUR') \n",
      "    / \n",
      "    (SELECT COUNT(*) FROM customers WHERE Currency = 'CZK') \n",
      "    AS ratio;\n",
      "\n",
      "Alternatively, using conditional aggregation:\n",
      "\n",
      "SELECT \n",
      "    SUM(CASE WHEN Currency = 'EUR' THEN 1 ELSE 0 END) * 1.0 \n",
      "    / \n",
      "    SUM(CASE WHEN Currency = 'EUR' THEN 0 ELSE 1 END) \n",
      "    AS ratio\n",
      "FROM customers;\n",
      "\n",
      "Wait, but in the second approach, the denominator would be the count of non-EUR customers. But the question is specifically about EUR vs CZK. So the denominator should be the count of CZK, not others. So the first approach is better. But in the first approach, each subquery counts only for EUR and CZK respectively.\n",
      "\n",
      "So the correct way is to count EUR customers and divide by CZK customers. Therefore, the query would be:\n",
      "\n",
      "SELECT \n",
      "    (SELECT COUNT(*) FROM customers WHERE Currency = 'EUR') \n",
      "    / \n",
      "    (SELECT COUNT(*) FROM customers WHERE Currency = 'CZK') \n",
      "    AS ratio;\n",
      "\n",
      "But need to make sure that the division is done as a float. If both counts are integers, the division might result in integer division. For example, if there are 3 EUR and 2 CZK, 3/2 would be 1.5. But in SQLite, if you divide two integers, it does integer division. So 3/2 would be 1. To avoid that, multiply by 1.0 or cast to real.\n",
      "\n",
      "So perhaps:\n",
      "\n",
      "SELECT \n",
      "    (SELECT COUNT(*) FROM customers WHERE Currency = 'EUR') * 1.0 \n",
      "    / \n",
      "    (SELECT COUNT(*) FROM customers WHERE Currency = 'CZK') \n",
      "    AS ratio;\n",
      "\n",
      "Alternatively, use SUM with CASE statements. But in that case, using SUM(CASE WHEN Currency='EUR' THEN 1 ELSE 0 END) would be the same as COUNT(*), but it's more efficient to use COUNT with a WHERE clause. But either way, the division needs to be a float.\n",
      "\n",
      "So the final query would use the two subqueries, multiply by 1.0 to ensure floating point division. Therefore, the correct SQL is as above.\n",
      "\n",
      "Final answer based om reasoning for this model:\n",
      "\n",
      "\n",
      "```\n",
      "SELECT (SELECT COUNT(*) FROM customers WHERE Currency = 'EUR') * 1.0 / (SELECT COUNT(*) FROM customers WHERE Currency = 'CZK') AS ratio;\n",
      "```\n",
      "\n",
      "\n",
      "here is avaliable tables below\n",
      "\n",
      "\n",
      "Table: customers\n",
      "CREATE TABLE customers\n",
      "(\n",
      "    CustomerID INTEGER UNIQUE     not null\n",
      "        primary key,\n",
      "    Segment    TEXT null,\n",
      "    Currency   TEXT null\n",
      ")\n",
      "\n",
      "Table: gasstations\n",
      "CREATE TABLE gasstations\n",
      "(\n",
      "    GasStationID INTEGER    UNIQUE   not null\n",
      "        primary key,\n",
      "    ChainID      INTEGER          null,\n",
      "    Country      TEXT null,\n",
      "    Segment      TEXT null\n",
      ")\n",
      "\n",
      "Table: products\n",
      "CREATE TABLE products\n",
      "(\n",
      "    ProductID   INTEGER   UNIQUE      not null\n",
      "        primary key,\n",
      "    Description TEXT null\n",
      ")\n",
      "\n",
      "Table: transactions_1k\n",
      "CREATE TABLE \"transactions_1k\"\n",
      "(\n",
      "    TransactionID INTEGER\n",
      "        primary key autoincrement,\n",
      "    Date          DATE,\n",
      "    Time          TEXT,\n",
      "    CustomerID    INTEGER,\n",
      "    CardID        INTEGER,\n",
      "    GasStationID  INTEGER,\n",
      "    ProductID     INTEGER,\n",
      "    Amount        INTEGER,\n",
      "    Price         REAL\n",
      ")\n",
      "\n",
      "Table: sqlite_sequence\n",
      "CREATE TABLE sqlite_sequence(name,seq)\n",
      "\n",
      "Table: yearmonth\n",
      "CREATE TABLE \"yearmonth\"\n",
      "(\n",
      "    CustomerID  INTEGER not null\n",
      "        references customers\n",
      "            on update cascade on delete cascade\n",
      "        references customers,\n",
      "    Date        TEXT    not null,\n",
      "    Consumption REAL,\n",
      "    primary key (Date, CustomerID)\n",
      ")\n",
      "\n",
      "-- Using valid SQLite and understanding External Knowledge, answer the following questions for the tables provided above.\n",
      "-- What is the ratio of customers who pay in EUR against customers who pay in CZK?\n",
      "-- External Knowledge: ratio of customers who pay in EUR against customers who pay in CZK = count(Currency = 'EUR') / count(Currency = 'CZK').\n",
      "\n",
      "\n",
      "Generate the SQLite for the above question after thinking step by step: \n",
      "\n",
      "\n",
      "Instructions:\n",
      "- Make sure you only output the information that is asked in the question. If the question asks for a specific column, make sure to only include that column in the SELECT clause, nothing more.\n",
      "- The generated query should return all of the information asked in the question without any missing or extra information.\n",
      "- Before generating the final SQL query, please think through the steps of how to write the query.\n",
      "- Do not misuse column names, keep them in quotes `\n",
      "- Carefully understand what colomns belond to what tables\n",
      "- Use only initial column names, change names prohibited\n",
      "        \n",
      "Output Format:\n",
      "In your answer, please enclose the generated SQL query in a code block:\n",
      "```\n",
      "-- Your SQL query\n",
      "```    \n",
      "and nothing else, no exaplains, no comments (asnwer should be less than 512 characters)\n",
      "\n",
      "Take a deep breath and think step by step to find the correct SQL query in SQLite format.\n",
      "\n",
      "Question repetition: What is the ratio of customers who pay in EUR against customers who pay in CZK?\n",
      "\n",
      "Be care! Include only what i want it questiona and nothing else<|im_end|>\n",
      "<|im_start|>assistant\n",
      "<think>\n",
      "\n",
      "</think>\n",
      "\n",
      "\n",
      "\n",
      "\n",
      "Максимальное количество токенов в промптах: 17688\n",
      "\n",
      "начинаем скорринг\n",
      "Загружаем чаты с данными...\n",
      "Данные успешно загружены\n",
      "Начали генерацию SQL запросов\n"
     ]
    },
    {
     "name": "stderr",
     "output_type": "stream",
     "text": [
      "Processed prompts: 100%|██████████| 500/500 [02:20<00:00,  3.55it/s, est. speed input: 21643.24 toks/s, output: 209.85 toks/s]"
     ]
    },
    {
     "name": "stdout",
     "output_type": "stream",
     "text": [
      "extract_think количество ошибок:  0\n",
      "extract_sql количество ошибок:  0\n",
      "Закончили генерацию SQL запросов\n",
      "Начали скорр полученных SQL запросов\n"
     ]
    },
    {
     "name": "stderr",
     "output_type": "stream",
     "text": [
      "\n"
     ]
    },
    {
     "name": "stdout",
     "output_type": "stream",
     "text": [
      "Qwen3-8b Mini DEV Финальный результат EX: 55.80\n",
      "Qwen3-8b процент запросов, которые успешно выполнились Mini DEV: 96.60%\n",
      "====================================================================================================\n",
      "\n",
      "\n",
      "Загружаем чаты с данными...\n",
      "Данные успешно загружены\n",
      "Начали генерацию SQL запросов\n"
     ]
    },
    {
     "name": "stderr",
     "output_type": "stream",
     "text": [
      "Processed prompts: 100%|██████████| 500/500 [02:23<00:00,  3.48it/s, est. speed input: 21330.75 toks/s, output: 207.10 toks/s]"
     ]
    },
    {
     "name": "stdout",
     "output_type": "stream",
     "text": [
      "extract_think количество ошибок:  0\n",
      "extract_sql количество ошибок:  0\n",
      "Закончили генерацию SQL запросов\n",
      "Начали скорр полученных SQL запросов\n"
     ]
    },
    {
     "name": "stderr",
     "output_type": "stream",
     "text": [
      "\n"
     ]
    },
    {
     "name": "stdout",
     "output_type": "stream",
     "text": [
      "Qwen3-8b Mini DEV Финальный результат EX: 55.80\n",
      "Qwen3-8b процент запросов, которые успешно выполнились Mini DEV: 97.00%\n",
      "====================================================================================================\n",
      "\n",
      "\n",
      "Загружаем чаты с данными...\n",
      "Данные успешно загружены\n",
      "Начали генерацию SQL запросов\n"
     ]
    },
    {
     "name": "stderr",
     "output_type": "stream",
     "text": [
      "Processed prompts: 100%|██████████| 500/500 [02:30<00:00,  3.33it/s, est. speed input: 21367.06 toks/s, output: 196.23 toks/s]"
     ]
    },
    {
     "name": "stdout",
     "output_type": "stream",
     "text": [
      "extract_think количество ошибок:  0\n",
      "extract_sql количество ошибок:  0\n",
      "Закончили генерацию SQL запросов\n",
      "Начали скорр полученных SQL запросов\n"
     ]
    },
    {
     "name": "stderr",
     "output_type": "stream",
     "text": [
      "\n"
     ]
    },
    {
     "name": "stdout",
     "output_type": "stream",
     "text": [
      "Qwen3-8b Mini DEV Финальный результат EX: 55.40\n",
      "Qwen3-8b процент запросов, которые успешно выполнились Mini DEV: 95.40%\n",
      "====================================================================================================\n",
      "\n",
      "\n",
      "Загружаем чаты с данными...\n",
      "Данные успешно загружены\n",
      "Начали генерацию SQL запросов\n"
     ]
    },
    {
     "name": "stderr",
     "output_type": "stream",
     "text": [
      "Processed prompts: 100%|██████████| 500/500 [02:23<00:00,  3.48it/s, est. speed input: 21507.66 toks/s, output: 207.04 toks/s]"
     ]
    },
    {
     "name": "stdout",
     "output_type": "stream",
     "text": [
      "extract_think количество ошибок:  0\n",
      "extract_sql количество ошибок:  0\n",
      "Закончили генерацию SQL запросов\n",
      "Начали скорр полученных SQL запросов\n"
     ]
    },
    {
     "name": "stderr",
     "output_type": "stream",
     "text": [
      "\n"
     ]
    },
    {
     "name": "stdout",
     "output_type": "stream",
     "text": [
      "Qwen3-8b Mini DEV Финальный результат EX: 55.80\n",
      "Qwen3-8b процент запросов, которые успешно выполнились Mini DEV: 96.60%\n",
      "====================================================================================================\n",
      "\n",
      "\n",
      "Загружаем чаты с данными...\n",
      "Данные успешно загружены\n",
      "Начали генерацию SQL запросов\n"
     ]
    },
    {
     "name": "stderr",
     "output_type": "stream",
     "text": [
      "Processed prompts: 100%|██████████| 500/500 [02:20<00:00,  3.57it/s, est. speed input: 21654.58 toks/s, output: 210.18 toks/s]"
     ]
    },
    {
     "name": "stdout",
     "output_type": "stream",
     "text": [
      "extract_think количество ошибок:  0\n",
      "extract_sql количество ошибок:  0\n",
      "Закончили генерацию SQL запросов\n",
      "Начали скорр полученных SQL запросов\n"
     ]
    },
    {
     "name": "stderr",
     "output_type": "stream",
     "text": [
      "\n"
     ]
    },
    {
     "name": "stdout",
     "output_type": "stream",
     "text": [
      "Qwen3-8b Mini DEV Финальный результат EX: 55.40\n",
      "Qwen3-8b процент запросов, которые успешно выполнились Mini DEV: 97.00%\n",
      "====================================================================================================\n",
      "\n",
      "\n",
      "Загружаем чаты с данными...\n",
      "Данные успешно загружены\n",
      "Начали генерацию SQL запросов\n"
     ]
    },
    {
     "name": "stderr",
     "output_type": "stream",
     "text": [
      "Processed prompts: 100%|██████████| 500/500 [02:16<00:00,  3.67it/s, est. speed input: 21794.90 toks/s, output: 213.84 toks/s]"
     ]
    },
    {
     "name": "stdout",
     "output_type": "stream",
     "text": [
      "extract_think количество ошибок:  0\n",
      "extract_sql количество ошибок:  0\n",
      "Закончили генерацию SQL запросов\n",
      "Начали скорр полученных SQL запросов\n"
     ]
    },
    {
     "name": "stderr",
     "output_type": "stream",
     "text": [
      "\n"
     ]
    },
    {
     "name": "stdout",
     "output_type": "stream",
     "text": [
      "Qwen3-8b Mini DEV Финальный результат EX: 55.00\n",
      "Qwen3-8b процент запросов, которые успешно выполнились Mini DEV: 95.80%\n",
      "====================================================================================================\n",
      "\n",
      "\n",
      "Загружаем чаты с данными...\n",
      "Данные успешно загружены\n",
      "Начали генерацию SQL запросов\n"
     ]
    },
    {
     "name": "stderr",
     "output_type": "stream",
     "text": [
      "Processed prompts: 100%|██████████| 500/500 [02:17<00:00,  3.64it/s, est. speed input: 21647.55 toks/s, output: 212.04 toks/s]"
     ]
    },
    {
     "name": "stdout",
     "output_type": "stream",
     "text": [
      "extract_think количество ошибок:  0\n",
      "extract_sql количество ошибок:  0\n",
      "Закончили генерацию SQL запросов\n",
      "Начали скорр полученных SQL запросов\n"
     ]
    },
    {
     "name": "stderr",
     "output_type": "stream",
     "text": [
      "\n"
     ]
    },
    {
     "name": "stdout",
     "output_type": "stream",
     "text": [
      "Qwen3-8b Mini DEV Финальный результат EX: 54.60\n",
      "Qwen3-8b процент запросов, которые успешно выполнились Mini DEV: 97.00%\n",
      "====================================================================================================\n",
      "\n",
      "\n",
      "Загружаем чаты с данными...\n",
      "Данные успешно загружены\n",
      "Начали генерацию SQL запросов\n"
     ]
    },
    {
     "name": "stderr",
     "output_type": "stream",
     "text": [
      "Processed prompts: 100%|██████████| 500/500 [02:15<00:00,  3.70it/s, est. speed input: 21671.31 toks/s, output: 218.86 toks/s]"
     ]
    },
    {
     "name": "stdout",
     "output_type": "stream",
     "text": [
      "extract_think количество ошибок:  0\n",
      "extract_sql количество ошибок:  0\n",
      "Закончили генерацию SQL запросов\n",
      "Начали скорр полученных SQL запросов\n"
     ]
    },
    {
     "name": "stderr",
     "output_type": "stream",
     "text": [
      "\n"
     ]
    },
    {
     "name": "stdout",
     "output_type": "stream",
     "text": [
      "Qwen3-8b Mini DEV Финальный результат EX: 56.00\n",
      "Qwen3-8b процент запросов, которые успешно выполнились Mini DEV: 96.80%\n",
      "====================================================================================================\n",
      "\n",
      "\n",
      "Загружаем чаты с данными...\n",
      "Данные успешно загружены\n",
      "Начали генерацию SQL запросов\n"
     ]
    },
    {
     "name": "stderr",
     "output_type": "stream",
     "text": [
      "Processed prompts: 100%|██████████| 500/500 [02:19<00:00,  3.58it/s, est. speed input: 21718.55 toks/s, output: 210.26 toks/s]"
     ]
    },
    {
     "name": "stdout",
     "output_type": "stream",
     "text": [
      "extract_think количество ошибок:  0\n",
      "extract_sql количество ошибок:  0\n",
      "Закончили генерацию SQL запросов\n",
      "Начали скорр полученных SQL запросов\n"
     ]
    },
    {
     "name": "stderr",
     "output_type": "stream",
     "text": [
      "\n"
     ]
    },
    {
     "name": "stdout",
     "output_type": "stream",
     "text": [
      "Qwen3-8b Mini DEV Финальный результат EX: 54.80\n",
      "Qwen3-8b процент запросов, которые успешно выполнились Mini DEV: 96.60%\n",
      "====================================================================================================\n",
      "\n",
      "\n",
      "Загружаем чаты с данными...\n",
      "Данные успешно загружены\n",
      "Начали генерацию SQL запросов\n"
     ]
    },
    {
     "name": "stderr",
     "output_type": "stream",
     "text": [
      "Processed prompts: 100%|██████████| 500/500 [02:20<00:00,  3.57it/s, est. speed input: 21645.85 toks/s, output: 206.56 toks/s]"
     ]
    },
    {
     "name": "stdout",
     "output_type": "stream",
     "text": [
      "extract_think количество ошибок:  0\n",
      "extract_sql количество ошибок:  0\n",
      "Закончили генерацию SQL запросов\n",
      "Начали скорр полученных SQL запросов\n"
     ]
    },
    {
     "name": "stderr",
     "output_type": "stream",
     "text": [
      "\n"
     ]
    },
    {
     "name": "stdout",
     "output_type": "stream",
     "text": [
      "Qwen3-8b Mini DEV Финальный результат EX: 54.60\n",
      "Qwen3-8b процент запросов, которые успешно выполнились Mini DEV: 97.20%\n",
      "====================================================================================================\n",
      "\n",
      "\n",
      "Загружаем чаты с данными...\n",
      "Данные успешно загружены\n",
      "Начали генерацию SQL запросов\n"
     ]
    },
    {
     "name": "stderr",
     "output_type": "stream",
     "text": [
      "Processed prompts: 100%|██████████| 500/500 [02:16<00:00,  3.67it/s, est. speed input: 21874.04 toks/s, output: 213.65 toks/s]"
     ]
    },
    {
     "name": "stdout",
     "output_type": "stream",
     "text": [
      "extract_think количество ошибок:  0\n",
      "extract_sql количество ошибок:  0\n",
      "Закончили генерацию SQL запросов\n",
      "Начали скорр полученных SQL запросов\n"
     ]
    },
    {
     "name": "stderr",
     "output_type": "stream",
     "text": [
      "\n"
     ]
    },
    {
     "name": "stdout",
     "output_type": "stream",
     "text": [
      "Qwen3-8b Mini DEV Финальный результат EX: 53.60\n",
      "Qwen3-8b процент запросов, которые успешно выполнились Mini DEV: 97.40%\n",
      "====================================================================================================\n",
      "\n",
      "\n",
      "Загружаем чаты с данными...\n",
      "Данные успешно загружены\n",
      "Начали генерацию SQL запросов\n"
     ]
    },
    {
     "name": "stderr",
     "output_type": "stream",
     "text": [
      "Processed prompts: 100%|██████████| 500/500 [02:15<00:00,  3.69it/s, est. speed input: 21981.81 toks/s, output: 214.39 toks/s]"
     ]
    },
    {
     "name": "stdout",
     "output_type": "stream",
     "text": [
      "extract_think количество ошибок:  0\n",
      "extract_sql количество ошибок:  0\n",
      "Закончили генерацию SQL запросов\n",
      "Начали скорр полученных SQL запросов\n"
     ]
    },
    {
     "name": "stderr",
     "output_type": "stream",
     "text": [
      "\n"
     ]
    },
    {
     "name": "stdout",
     "output_type": "stream",
     "text": [
      "Qwen3-8b Mini DEV Финальный результат EX: 54.40\n",
      "Qwen3-8b процент запросов, которые успешно выполнились Mini DEV: 96.80%\n",
      "====================================================================================================\n",
      "\n",
      "\n",
      "Загружаем чаты с данными...\n",
      "Данные успешно загружены\n",
      "Начали генерацию SQL запросов\n"
     ]
    },
    {
     "name": "stderr",
     "output_type": "stream",
     "text": [
      "Processed prompts: 100%|██████████| 500/500 [02:16<00:00,  3.67it/s, est. speed input: 21926.98 toks/s, output: 213.18 toks/s]"
     ]
    },
    {
     "name": "stdout",
     "output_type": "stream",
     "text": [
      "extract_think количество ошибок:  0\n",
      "extract_sql количество ошибок:  0\n",
      "Закончили генерацию SQL запросов\n",
      "Начали скорр полученных SQL запросов\n"
     ]
    },
    {
     "name": "stderr",
     "output_type": "stream",
     "text": [
      "\n"
     ]
    },
    {
     "name": "stdout",
     "output_type": "stream",
     "text": [
      "Qwen3-8b Mini DEV Финальный результат EX: 54.40\n",
      "Qwen3-8b процент запросов, которые успешно выполнились Mini DEV: 97.20%\n",
      "====================================================================================================\n",
      "\n",
      "\n",
      "Загружаем чаты с данными...\n",
      "Данные успешно загружены\n",
      "Начали генерацию SQL запросов\n"
     ]
    },
    {
     "name": "stderr",
     "output_type": "stream",
     "text": [
      "Processed prompts: 100%|██████████| 500/500 [02:12<00:00,  3.77it/s, est. speed input: 21945.78 toks/s, output: 221.62 toks/s]"
     ]
    },
    {
     "name": "stdout",
     "output_type": "stream",
     "text": [
      "extract_think количество ошибок:  0\n",
      "extract_sql количество ошибок:  0\n",
      "Закончили генерацию SQL запросов\n",
      "Начали скорр полученных SQL запросов\n"
     ]
    },
    {
     "name": "stderr",
     "output_type": "stream",
     "text": [
      "\n"
     ]
    },
    {
     "name": "stdout",
     "output_type": "stream",
     "text": [
      "Qwen3-8b Mini DEV Финальный результат EX: 55.20\n",
      "Qwen3-8b процент запросов, которые успешно выполнились Mini DEV: 97.40%\n",
      "====================================================================================================\n",
      "\n",
      "\n",
      "Загружаем чаты с данными...\n",
      "Данные успешно загружены\n",
      "Начали генерацию SQL запросов\n"
     ]
    },
    {
     "name": "stderr",
     "output_type": "stream",
     "text": [
      "Processed prompts: 100%|██████████| 500/500 [02:05<00:00,  3.98it/s, est. speed input: 22104.07 toks/s, output: 232.00 toks/s]"
     ]
    },
    {
     "name": "stdout",
     "output_type": "stream",
     "text": [
      "extract_think количество ошибок:  0\n",
      "extract_sql количество ошибок:  0\n",
      "Закончили генерацию SQL запросов\n",
      "Начали скорр полученных SQL запросов\n"
     ]
    },
    {
     "name": "stderr",
     "output_type": "stream",
     "text": [
      "\n"
     ]
    },
    {
     "name": "stdout",
     "output_type": "stream",
     "text": [
      "Qwen3-8b Mini DEV Финальный результат EX: 54.20\n",
      "Qwen3-8b процент запросов, которые успешно выполнились Mini DEV: 96.00%\n",
      "====================================================================================================\n",
      "\n",
      "\n",
      "Загружаем чаты с данными...\n",
      "Данные успешно загружены\n",
      "Начали генерацию SQL запросов\n"
     ]
    },
    {
     "name": "stderr",
     "output_type": "stream",
     "text": [
      "Processed prompts: 100%|██████████| 500/500 [01:58<00:00,  4.22it/s, est. speed input: 22050.14 toks/s, output: 244.26 toks/s]"
     ]
    },
    {
     "name": "stdout",
     "output_type": "stream",
     "text": [
      "extract_think количество ошибок:  0\n",
      "extract_sql количество ошибок:  0\n",
      "Закончили генерацию SQL запросов\n",
      "Начали скорр полученных SQL запросов\n"
     ]
    },
    {
     "name": "stderr",
     "output_type": "stream",
     "text": [
      "\n"
     ]
    },
    {
     "name": "stdout",
     "output_type": "stream",
     "text": [
      "Qwen3-8b Mini DEV Финальный результат EX: 54.20\n",
      "Qwen3-8b процент запросов, которые успешно выполнились Mini DEV: 96.00%\n",
      "====================================================================================================\n",
      "\n",
      "\n",
      "Загружаем чаты с данными...\n",
      "Данные успешно загружены\n",
      "Начали генерацию SQL запросов\n"
     ]
    },
    {
     "name": "stderr",
     "output_type": "stream",
     "text": [
      "Processed prompts: 100%|██████████| 500/500 [01:57<00:00,  4.26it/s, est. speed input: 22097.87 toks/s, output: 250.31 toks/s]"
     ]
    },
    {
     "name": "stdout",
     "output_type": "stream",
     "text": [
      "extract_think количество ошибок:  0\n",
      "extract_sql количество ошибок:  0\n",
      "Закончили генерацию SQL запросов\n",
      "Начали скорр полученных SQL запросов\n"
     ]
    },
    {
     "name": "stderr",
     "output_type": "stream",
     "text": [
      "\n"
     ]
    },
    {
     "name": "stdout",
     "output_type": "stream",
     "text": [
      "Qwen3-8b Mini DEV Финальный результат EX: 53.80\n",
      "Qwen3-8b процент запросов, которые успешно выполнились Mini DEV: 96.00%\n",
      "====================================================================================================\n",
      "\n",
      "\n",
      "Загружаем чаты с данными...\n",
      "Данные успешно загружены\n",
      "Начали генерацию SQL запросов\n"
     ]
    },
    {
     "name": "stderr",
     "output_type": "stream",
     "text": [
      "Processed prompts: 100%|██████████| 500/500 [01:54<00:00,  4.37it/s, est. speed input: 21786.74 toks/s, output: 257.56 toks/s]"
     ]
    },
    {
     "name": "stdout",
     "output_type": "stream",
     "text": [
      "extract_think количество ошибок:  0\n",
      "extract_sql количество ошибок:  0\n",
      "Закончили генерацию SQL запросов\n",
      "Начали скорр полученных SQL запросов\n"
     ]
    },
    {
     "name": "stderr",
     "output_type": "stream",
     "text": [
      "\n"
     ]
    },
    {
     "name": "stdout",
     "output_type": "stream",
     "text": [
      "Qwen3-8b Mini DEV Финальный результат EX: 54.20\n",
      "Qwen3-8b процент запросов, которые успешно выполнились Mini DEV: 95.60%\n",
      "====================================================================================================\n",
      "\n",
      "\n",
      "Загружаем чаты с данными...\n",
      "Данные успешно загружены\n",
      "Начали генерацию SQL запросов\n"
     ]
    },
    {
     "name": "stderr",
     "output_type": "stream",
     "text": [
      "Processed prompts: 100%|██████████| 500/500 [01:57<00:00,  4.26it/s, est. speed input: 21996.72 toks/s, output: 252.27 toks/s]"
     ]
    },
    {
     "name": "stdout",
     "output_type": "stream",
     "text": [
      "extract_think количество ошибок:  0\n",
      "extract_sql количество ошибок:  0\n",
      "Закончили генерацию SQL запросов\n",
      "Начали скорр полученных SQL запросов\n"
     ]
    },
    {
     "name": "stderr",
     "output_type": "stream",
     "text": [
      "\n"
     ]
    },
    {
     "name": "stdout",
     "output_type": "stream",
     "text": [
      "Qwen3-8b Mini DEV Финальный результат EX: 56.20\n",
      "Qwen3-8b процент запросов, которые успешно выполнились Mini DEV: 95.60%\n",
      "====================================================================================================\n",
      "\n",
      "\n",
      "Загружаем чаты с данными...\n",
      "Данные успешно загружены\n",
      "Начали генерацию SQL запросов\n"
     ]
    },
    {
     "name": "stderr",
     "output_type": "stream",
     "text": [
      "Processed prompts: 100%|██████████| 500/500 [02:05<00:00,  3.97it/s, est. speed input: 22015.73 toks/s, output: 235.37 toks/s]"
     ]
    },
    {
     "name": "stdout",
     "output_type": "stream",
     "text": [
      "extract_think количество ошибок:  0\n",
      "extract_sql количество ошибок:  0\n",
      "Закончили генерацию SQL запросов\n",
      "Начали скорр полученных SQL запросов\n"
     ]
    },
    {
     "name": "stderr",
     "output_type": "stream",
     "text": [
      "\n"
     ]
    },
    {
     "name": "stdout",
     "output_type": "stream",
     "text": [
      "Qwen3-8b Mini DEV Финальный результат EX: 56.40\n",
      "Qwen3-8b процент запросов, которые успешно выполнились Mini DEV: 95.80%\n",
      "====================================================================================================\n",
      "\n",
      "\n"
     ]
    }
   ],
   "source": [
    "run_cot_experiment(model,arr_seeds,arr_versions, type_cot,num_observations=num_observations)"
   ]
  },
  {
   "cell_type": "markdown",
   "id": "8ecdae85-ab3f-4123-8cb2-d235fe12a9b6",
   "metadata": {},
   "source": [
    "## 6 наблюдений"
   ]
  },
  {
   "cell_type": "code",
   "execution_count": 11,
   "id": "4cf5d319-24ae-42c5-a259-219dab753f06",
   "metadata": {},
   "outputs": [
    {
     "name": "stdout",
     "output_type": "stream",
     "text": [
      "[228, 202, 104, 162, 278, 477, 53, 249, 911, 653, 266, 100, 656, 262, 623, 312, 375, 98, 836, 81]\n",
      "model: Qwen3-14B\n"
     ]
    }
   ],
   "source": [
    "n= 20\n",
    "arr_seeds = [random.randint(0,1000) for _ in range(n)]\n",
    "arr_versions = [x for x in range(n)]\n",
    "model = \"Qwen3-14B\"\n",
    "num_observations = 6\n",
    "type_cot = 'all_new'\n",
    "print(arr_seeds)\n",
    "print(f\"model: {model}\")"
   ]
  },
  {
   "cell_type": "code",
   "execution_count": 12,
   "id": "658afdd2-e3e5-4436-989d-2a8c484bbd3f",
   "metadata": {
    "scrolled": true
   },
   "outputs": [
    {
     "name": "stdout",
     "output_type": "stream",
     "text": [
      "Загружаем модель...\n"
     ]
    },
    {
     "name": "stderr",
     "output_type": "stream",
     "text": [
      "Loading safetensors checkpoint shards:   0% Completed | 0/8 [00:00<?, ?it/s]\n",
      "Loading safetensors checkpoint shards:  12% Completed | 1/8 [00:01<00:10,  1.44s/it]\n",
      "Loading safetensors checkpoint shards:  25% Completed | 2/8 [00:02<00:08,  1.43s/it]\n",
      "Loading safetensors checkpoint shards:  38% Completed | 3/8 [00:04<00:07,  1.44s/it]\n",
      "Loading safetensors checkpoint shards:  50% Completed | 4/8 [00:05<00:05,  1.44s/it]\n",
      "Loading safetensors checkpoint shards:  62% Completed | 5/8 [00:07<00:04,  1.45s/it]\n",
      "Loading safetensors checkpoint shards:  75% Completed | 6/8 [00:07<00:02,  1.21s/it]\n",
      "Loading safetensors checkpoint shards:  88% Completed | 7/8 [00:09<00:01,  1.28s/it]\n",
      "Loading safetensors checkpoint shards: 100% Completed | 8/8 [00:10<00:00,  1.34s/it]\n",
      "Loading safetensors checkpoint shards: 100% Completed | 8/8 [00:10<00:00,  1.36s/it]\n",
      "\u001b[1;36m(VllmWorker rank=0 pid=3261329)\u001b[0;0m \n"
     ]
    },
    {
     "name": "stdout",
     "output_type": "stream",
     "text": [
      "Модель успешно загружена\n",
      "model_config {'model': '/data/home/vkropoti/models/Qwen3-14B', 'tensor_parallel_size': 2, 'max_model_len': 40000, 'max_new_tokens': 1500, 'temperature': 0, 'top_k': 1, 'top_p': 0.8, 'gpu_memory_utilization': 0.9, 'trust_remote_code': False, 'seed': 228}\n",
      "\n",
      "prompts_config {'path_dev_json': '/home/vkropoti/vllm/dev.json', 'path_sql_dbs': '/data/home/vkropoti/sql_data/dev_databases/', 'use_reasoning': False, 'paths_to_cot': ['/data/home/vkropoti/sql_llm_answers/base_reasoning/sql_all_new_Qwen3-14B-reasoning-v0', '/data/home/vkropoti/sql_llm_answers/base_reasoning/sql_all_new_Qwen3-14B-reasoning-v1', '/data/home/vkropoti/sql_llm_answers/base_reasoning/sql_all_new_Qwen3-14B-reasoning-v2', '/data/home/vkropoti/sql_llm_answers/base_reasoning/sql_all_new_Qwen3-14B-reasoning-v3', '/data/home/vkropoti/sql_llm_answers/base_reasoning/sql_all_new_Qwen3-14B-reasoning-v4', '/data/home/vkropoti/sql_llm_answers/base_reasoning/sql_all_new_Qwen3-14B-reasoning-v5']}\n",
      "\n",
      "save_config {'path_sql_save': '/data/home/vkropoti/sql_llm_answers/base_reasoning/sql_all_Qwen3-14B-cot_all_new_think==False_nobs6-v0', 'path_think_save': None, 'path_sql_answers_save': '/data/home/vkropoti/sql_llm_answers/base_reasoning/sql_predict_Qwen3-14B-cot_all_new_think==False_nobs6-v0', 'path_to_save_scores': '/data/home/vkropoti/sql_llm_answers/base_reasoning/sql_results_Qwen3-14B-cot_all_new_think==False_nobs6-v0', 'path_to_save_executed': '/data/home/vkropoti/sql_llm_answers/base_reasoning/sql_executed_Qwen3-14B-cot_all_new_think==False_nobs6-v0'}\n",
      "\n",
      "Модель успешно загружена\n",
      "Пример промпта\n",
      "<|im_start|>system\n",
      "\n",
      "You are a data science expert. Below, you are provided with a database schema and a natural language question. Your task is to understand the schema and generate a valid SQL query to answer the question.\n",
      "\n",
      "Database Engine: SQLite\n",
      "\n",
      "You will be given an additional analysis of other models, please take it into account, so the plan is\n",
      "1. Analyse given addition analysis from other models (find in which analysis the same and differ, how to use that to answer question)\n",
      "2. Combine best from previous part and think how to solve the problem (analyze tables, take care what columns avaliable in each table and so on, check the syntacsis)\n",
      "3. Create the answers. The answer should be only sql query.\n",
      "\n",
      "Carefully follow the instruction and add <|im_end|> and the end of the final answer<|im_end|>\n",
      "<|im_start|>user\n",
      "Here is addition analysis from other models which can be helpfull, please take this into account but be careful (choose the best from each analysis, combine them to make the most proper answer):\n",
      "\n",
      "model 0 analysis:\n",
      " Reasoning process:\n",
      "\n",
      "Okay, let's tackle this question. The user wants the ratio of customers who pay in EUR versus those who pay in CZK. \n",
      "\n",
      "First, I need to figure out where the currency information is stored. Looking at the tables, the 'customers' table has a 'Currency' column. That's where the payment currency for each customer is recorded.\n",
      "\n",
      "Next, the question is about the ratio. So, I need to count the number of customers with Currency 'EUR' and those with 'CZK'. Then divide these two counts. \n",
      "\n",
      "Wait, the External Knowledge note says the ratio is count(Currency = 'EUR') / count(Currency = 'CZK'). So I need to compute these two counts and then divide them. \n",
      "\n",
      "In SQLite, I can use the COUNT() function with a condition. For example, COUNT(CASE WHEN Currency = 'EUR' THEN 1 END) to count EUR customers. Similarly for CZK. \n",
      "\n",
      "But wait, the CustomerID in the customers table is the primary key, so each customer is unique. So just count the number of rows where Currency is EUR and where it's CZK. \n",
      "\n",
      "So the query should select (count of EUR) divided by (count of CZK). \n",
      "\n",
      "But how to handle division? In SQLite, using / operator. But need to make sure that division is done as floating point, not integer. For example, if both counts are integers, dividing them might result in integer division. To avoid that, maybe cast them to REAL or use a decimal value. \n",
      "\n",
      "But the question doesn't specify handling of zero, like if CZK count is zero. But assuming the data has both. \n",
      "\n",
      "Putting it all together: \n",
      "\n",
      "SELECT \n",
      "    (COUNT(CASE WHEN Currency = 'EUR' THEN 1 END) * 1.0) / COUNT(CASE WHEN Currency = 'CZK' THEN 1 END) AS Ratio\n",
      "FROM customers;\n",
      "\n",
      "Wait, but the question is about customers who pay in EUR against those who pay in CZK. So, the counts are based on the Currency column in the customers table. \n",
      "\n",
      "Yes. So the query would select from the customers table, count the number of EUR and CZK entries, then divide them. \n",
      "\n",
      "Alternatively, using SUM with conditions:\n",
      "\n",
      "SELECT \n",
      "    (SUM(CASE WHEN Currency = 'EUR' THEN 1 ELSE 0 END) * 1.0) / SUM(CASE WHEN Currency = 'CZK' THEN 1 ELSE 0 END) AS Ratio\n",
      "FROM customers;\n",
      "\n",
      "But COUNT is more efficient here. Because COUNT with a condition is equivalent to SUM with 1/0. So both approaches are similar. \n",
      "\n",
      "The final query needs to return only the ratio. So the SQL should select that calculated value. \n",
      "\n",
      "Make sure that the column names are correctly quoted, but since they're in the customers table, and the column is named 'Currency', it's okay. \n",
      "\n",
      "Check if there are any other tables involved. The transactions table has Price and Amount, but the question is about the currency the customers use, which is stored in the customers table. So the transactions_1k table is not needed here. \n",
      "\n",
      "So the correct SQL is to query the customers table, count the EUR and CZK customers, and divide them.\n",
      "\n",
      "Final answer based om reasoning for this model:\n",
      "\n",
      "\n",
      "```\n",
      "SELECT (COUNT(CASE WHEN Currency = 'EUR' THEN 1 END) * 1.0) / COUNT(CASE WHEN Currency = 'CZK' THEN 1 END) FROM customers;\n",
      "```\n",
      "\n",
      "model 1 analysis:\n",
      " Reasoning process:\n",
      "\n",
      "Okay, let's tackle this problem. The user wants the ratio of customers who pay in EUR versus those who pay in CZK. First, I need to figure out where the Currency information is stored. Looking at the tables, the 'customers' table has a 'Currency' column. So, the plan is to count how many customers have 'EUR' and how many have 'CZK' in that column.\n",
      "\n",
      "Wait, but the question mentions customers who pay in a certain currency. However, the 'Currency' column in the customers table might represent their preferred currency or the currency they use for transactions. But the problem states that the ratio is based on customers' payment currency, so I think the 'Currency' column in the customers table is the right place to look.\n",
      "\n",
      "Now, I need to count the number of customers with Currency = 'EUR' and those with Currency = 'CZK'. Then divide the two counts to get the ratio. \n",
      "\n",
      "I should write a query that selects these counts. Using COUNT(CASE WHEN Currency = 'EUR' THEN 1 END) and COUNT(CASE WHEN Currency = 'CZK' THEN 1 END), then divide them. Alternatively, I could use SUM with a condition, but COUNT with CASE is more straightforward here.\n",
      "\n",
      "Wait, but what if there are customers with other currencies? The problem says to count only EUR and CZK. So, the query should only consider those two. Also, need to make sure that the division is done correctly, but SQLite handles division as floating-point if needed.\n",
      "\n",
      "Now, the SQL query would be something like:\n",
      "\n",
      "SELECT \n",
      "    (COUNT(CASE WHEN Currency = 'EUR' THEN 1 END) * 1.0) / COUNT(CASE WHEN Currency = 'CZK' THEN 1 END) AS Ratio\n",
      "FROM customers;\n",
      "\n",
      "But I need to check if there are any customers with NULL in the Currency column. If so, they won't be counted in either. The problem doesn't mention handling that, so assuming that all customers have a valid currency.\n",
      "\n",
      "Wait, the 'Currency' column in the customers table is defined as NULLable. So, there could be customers with NULL. But the question is about customers who pay in EUR or CZK, so those with NULL would be excluded. That's correct.\n",
      "\n",
      "Another point: The question uses the term \"customers who pay in EUR\" which might imply that the currency is determined by their transactions. However, the 'Currency' column in the customers table might be their preferred currency or the currency used in transactions. Since the problem gives the external knowledge that it's based on the Currency column, I should stick to that.\n",
      "\n",
      "Therefore, the correct approach is to count the number of customers with Currency 'EUR' and 'CZK' and compute their ratio.\n",
      "\n",
      "Final answer based om reasoning for this model:\n",
      "\n",
      "\n",
      "```\n",
      "SELECT \n",
      "    (COUNT(CASE WHEN Currency = 'EUR' THEN 1 END) * 1.0) / COUNT(CASE WHEN Currency = 'CZK' THEN 1 END) AS Ratio\n",
      "FROM customers;\n",
      "```\n",
      "\n",
      "model 2 analysis:\n",
      " Reasoning process:\n",
      "\n",
      "Okay, let's see. The user is asking for the ratio of customers who pay in EUR versus those who pay in CZK. First, I need to figure out which table has the currency information. Looking at the tables provided, the 'customers' table has a 'Currency' column. So, the data we need is in the customers table.\n",
      "\n",
      "The question is about counting customers based on their currency. The external knowledge says the ratio is count(EUR) divided by count(CZK). So, I need to count how many customers have 'EUR' in their Currency column and how many have 'CZK'. Then divide those two counts.\n",
      "\n",
      "But wait, the customers table has CustomerID as the primary key, so each customer is unique. So, I can just count the number of rows where Currency is 'EUR' and where it's 'CZK'.\n",
      "\n",
      "So, the SQL query would need to select these two counts and then compute their ratio. But in SQLite, how to do that? Well, I can use COUNT(CASE WHEN Currency = 'EUR' THEN 1 ELSE NULL END) to count EUR customers, same for CZK. Then divide the two counts.\n",
      "\n",
      "Wait, but the question says \"ratio of customers who pay in EUR against customers who pay in CZK\". So, it's EUR count divided by CZK count.\n",
      "\n",
      "So, the query would be:\n",
      "\n",
      "SELECT \n",
      "    COUNT(CASE WHEN Currency = 'EUR' THEN 1 END) / COUNT(CASE WHEN Currency = 'CZK' THEN 1 END) AS ratio\n",
      "FROM customers;\n",
      "\n",
      "But wait, in SQLite, if you divide two integers, it does integer division. So if the counts are, say, 3 and 2, it would return 1.5 as 1 if using integer division. But maybe the user expects a float. To ensure it's a float, perhaps multiply by 1.0 or cast to REAL.\n",
      "\n",
      "Alternatively, using COUNT(CASE...) as separate columns and then compute the ratio. But the user wants the ratio as a single value.\n",
      "\n",
      "Another approach: compute each count as a subquery or in the same SELECT.\n",
      "\n",
      "Yes, the initial approach should work. Let me check the syntax again. The CASE expression returns 1 when the condition is met, otherwise NULL. COUNT counts non-NULL values. So COUNT(CASE WHEN Currency = 'EUR' THEN 1 END) gives the number of EUR customers.\n",
      "\n",
      "Then dividing those two counts.\n",
      "\n",
      "But I need to make sure that if there are no CZK customers, it doesn't divide by zero. However, the question might assume that both currencies exist. But the query as written would return NULL if there are no CZK customers, since division by zero is undefined.\n",
      "\n",
      "But the user hasn't mentioned handling that case, so proceed as per the question's instruction.\n",
      "\n",
      "So the final SQL would be:\n",
      "\n",
      "SELECT \n",
      "    (COUNT(CASE WHEN Currency = 'EUR' THEN 1 END) * 1.0) / COUNT(CASE WHEN Currency = 'CZK' THEN 1 END) AS ratio\n",
      "FROM customers;\n",
      "\n",
      "Multiplying by 1.0 ensures that the division is done as a floating-point operation. But maybe using REAL or CAST would be better, but in SQLite, multiplying by 1.0 converts to REAL.\n",
      "\n",
      "Alternatively, using COUNT(CASE...) / COUNT(...) as REAL. But the syntax should be correct.\n",
      "\n",
      "So that's the query. Check the column names again. The 'Currency' column is in the customers table, correct.\n",
      "\n",
      "Yes, that should do it.\n",
      "\n",
      "Final answer based om reasoning for this model:\n",
      "\n",
      "\n",
      "```\n",
      "SELECT (COUNT(CASE WHEN Currency = 'EUR' THEN 1 END) * 1.0) / COUNT(CASE WHEN Currency = 'CZK' THEN 1 END) FROM customers;\n",
      "```\n",
      "\n",
      "model 3 analysis:\n",
      " Reasoning process:\n",
      "\n",
      "Okay, let's see. The user wants the ratio of customers who pay in EUR versus those who pay in CZK. Hmm. So first, I need to figure out where the currency information is stored. Looking at the tables, the 'customers' table has a 'Currency' column. That's where the payment currency for each customer is probably recorded.\n",
      "\n",
      "So the plan is to count how many customers have 'EUR' as their currency and how many have 'CZK'. Then divide those two counts to get the ratio. But wait, how do I handle cases where the currency might be something else? The question doesn't mention other currencies, so maybe we can ignore them. The external knowledge says to count only EUR and CZK.\n",
      "\n",
      "So the SQL query should select the count of customers where Currency is 'EUR' divided by the count where it's 'CZK'. But how to structure that. In SQLite, I can use a CASE statement or SUM with conditions. Alternatively, use two separate COUNTs in the SELECT clause.\n",
      "\n",
      "Wait, maybe using SUM with a condition. For example, SUM(CASE WHEN Currency = 'EUR' THEN 1 ELSE 0 END) as EUR_count and similarly for CZK. Then divide those two.\n",
      "\n",
      "But the customers table has CustomerID as the primary key, so each customer is unique. So I can just count the number of rows where Currency is 'EUR' and 'CZK' respectively.\n",
      "\n",
      "So the query would be:\n",
      "\n",
      "SELECT \n",
      "    COUNT(CASE WHEN Currency = 'EUR' THEN 1 END) * 1.0 / COUNT(CASE WHEN Currency = 'CZK' THEN 1 END) AS ratio\n",
      "FROM customers;\n",
      "\n",
      "Wait, but COUNT(CASE...) would count the non-null values. Alternatively, using SUM(1) where the condition is met. But in SQLite, COUNT with a condition can be done with COUNT(*) if we filter, but that would require subqueries or separate counts.\n",
      "\n",
      "Alternatively, I can use two separate COUNTs. But how to do that in one query. Like:\n",
      "\n",
      "SELECT \n",
      "    (SELECT COUNT(*) FROM customers WHERE Currency = 'EUR') * 1.0 / \n",
      "    (SELECT COUNT(*) FROM customers WHERE Currency = 'CZK') AS ratio\n",
      "FROM customers LIMIT 1;\n",
      "\n",
      "But that would work, but the LIMIT 1 is necessary because otherwise, if there are multiple rows, it would return multiple rows. But since the customer table has unique CustomerID, but the subqueries are aggregate functions, they would return a single value each. So the outer query would return one row, but using LIMIT 1 ensures that.\n",
      "\n",
      "Alternatively, use a single query with CASE expressions:\n",
      "\n",
      "SELECT \n",
      "    SUM(CASE WHEN Currency = 'EUR' THEN 1 ELSE 0 END) * 1.0 / \n",
      "    SUM(CASE WHEN Currency = 'CZK' THEN 1 ELSE 0 END) AS ratio\n",
      "FROM customers;\n",
      "\n",
      "This might be more efficient. Because SUM with 1 or 0 would effectively count the number of EUR and CZK customers.\n",
      "\n",
      "But in SQLite, COUNT(*) is more efficient than SUM(CASE...). However, since the CASE approach works, either way is acceptable.\n",
      "\n",
      "Another thing to note is that if there are no customers in one of the currencies, the division might result in a division by zero. But the question probably assumes there are customers in both currencies.\n",
      "\n",
      "So the final query would be using the SUM approach, or the two subqueries.\n",
      "\n",
      "Testing with sample data: if there are 10 EUR customers and 5 CZK, the ratio would be 10/5=2.0.\n",
      "\n",
      "But which method is better? Using the CASE expressions might be more straightforward and avoids multiple subqueries. So the first approach with SUM(CASE...) is better.\n",
      "\n",
      "So the SQL would be:\n",
      "\n",
      "SELECT \n",
      "    SUM(CASE WHEN Currency = 'EUR' THEN 1 ELSE 0 END) / SUM(CASE WHEN Currency = 'CZK' THEN 1 ELSE 0 END) AS ratio\n",
      "FROM customers;\n",
      "\n",
      "But wait, in SQLite, if the denominator is zero, this will result in an error. However, the question probably expects that there are customers in both currencies, so we can proceed.\n",
      "\n",
      "Another thing: the question says \"ratio of customers who pay in EUR against customers who pay in CZK\". So EUR divided by CZK.\n",
      "\n",
      "Yes, that's the correct calculation.\n",
      "\n",
      "So the final query should be as above. Now, making sure that the column names are correct. The Currency column is in the customers table, so that's correct.\n",
      "\n",
      "So the answer is the SQL query with that structure.\n",
      "\n",
      "Final answer based om reasoning for this model:\n",
      "\n",
      "\n",
      "```\n",
      "SELECT \n",
      "    SUM(CASE WHEN Currency = 'EUR' THEN 1 ELSE 0 END) * 1.0 / SUM(CASE WHEN Currency = 'CZK' THEN 1 ELSE 0 END) AS ratio\n",
      "FROM customers;\n",
      "```\n",
      "\n",
      "model 4 analysis:\n",
      " Reasoning process:\n",
      "\n",
      "Okay, let's see. The user wants the ratio of customers who pay in EUR compared to those who pay in CZK. Hmm, first, I need to figure out which tables have the currency information. The customers table has a Currency column. So that's where I should look.\n",
      "\n",
      "Wait, but how do I know which customers have paid in EUR or CZK? The Currency column in the customers table probably indicates their preferred currency. But maybe transactions are in different currencies? Wait, the transactions_1k table has a Price column, but the question is about the customers' payment currency, not the transaction's currency. The external knowledge says the ratio is based on the count of Currency = 'EUR' divided by count of Currency = 'CZK'. So it's about the customers' Currency field, not the transaction's price currency.\n",
      "\n",
      "So I need to count how many customers have Currency 'EUR' and how many have 'CZK'. Then divide those two counts. \n",
      "\n",
      "So the steps are: select count of EUR and count of CZK from customers table. Then compute the ratio. \n",
      "\n",
      "But how to do that in SQL. Maybe use a CASE statement or conditional aggregation. For example, SUM(CASE WHEN Currency = 'EUR' THEN 1 ELSE 0 END) as eur_count, same for CZK. Then divide them.\n",
      "\n",
      "Wait, but in SQLite, you can't directly divide two columns in a SELECT unless you use a subquery or a CTE. Alternatively, you can use a subquery to get the two counts and then divide them.\n",
      "\n",
      "Alternatively, use SUM with conditions. Let me think. Let's write:\n",
      "\n",
      "SELECT \n",
      "    SUM(CASE WHEN Currency = 'EUR' THEN 1 ELSE 0 END) / SUM(CASE WHEN Currency = 'CZK' THEN 1 ELSE 0 END) AS ratio\n",
      "FROM customers;\n",
      "\n",
      "But wait, what if there are customers with other currencies? The question is specifically about EUR vs CZK. So the counts would be only for those two. But what if a customer has a different currency? The CASE would ignore them. So that's okay.\n",
      "\n",
      "But need to make sure that the denominators are not zero. But the question probably expects that there are entries for both. However, the user didn't mention handling division by zero, so proceed as per the instruction.\n",
      "\n",
      "So the SQL query would be selecting the ratio as the division of the two counts. Make sure to use the correct column names and table names. The customers table has the Currency column.\n",
      "\n",
      "So the final SQL should be:\n",
      "\n",
      "SELECT \n",
      "    (SELECT COUNT(*) FROM customers WHERE Currency = 'EUR') \n",
      "    / \n",
      "    (SELECT COUNT(*) FROM customers WHERE Currency = 'CZK') \n",
      "    AS ratio;\n",
      "\n",
      "Alternatively, using conditional aggregation:\n",
      "\n",
      "SELECT \n",
      "    SUM(CASE WHEN Currency = 'EUR' THEN 1 ELSE 0 END) * 1.0 \n",
      "    / \n",
      "    SUM(CASE WHEN Currency = 'EUR' THEN 0 ELSE 1 END) \n",
      "    AS ratio\n",
      "FROM customers;\n",
      "\n",
      "Wait, but in the second approach, the denominator would be the count of non-EUR customers. But the question is specifically about EUR vs CZK. So the denominator should be the count of CZK, not others. So the first approach is better. But in the first approach, each subquery counts only for EUR and CZK respectively.\n",
      "\n",
      "So the correct way is to count EUR customers and divide by CZK customers. Therefore, the query would be:\n",
      "\n",
      "SELECT \n",
      "    (SELECT COUNT(*) FROM customers WHERE Currency = 'EUR') \n",
      "    / \n",
      "    (SELECT COUNT(*) FROM customers WHERE Currency = 'CZK') \n",
      "    AS ratio;\n",
      "\n",
      "But need to make sure that the division is done as a float. If both counts are integers, the division might result in integer division. For example, if there are 3 EUR and 2 CZK, 3/2 would be 1.5. But in SQLite, if you divide two integers, it does integer division. So 3/2 would be 1. To avoid that, multiply by 1.0 or cast to real.\n",
      "\n",
      "So perhaps:\n",
      "\n",
      "SELECT \n",
      "    (SELECT COUNT(*) FROM customers WHERE Currency = 'EUR') * 1.0 \n",
      "    / \n",
      "    (SELECT COUNT(*) FROM customers WHERE Currency = 'CZK') \n",
      "    AS ratio;\n",
      "\n",
      "Alternatively, use SUM with CASE statements. But in that case, using SUM(CASE WHEN Currency='EUR' THEN 1 ELSE 0 END) would be the same as COUNT(*), but it's more efficient to use COUNT with a WHERE clause. But either way, the division needs to be a float.\n",
      "\n",
      "So the final query would use the two subqueries, multiply by 1.0 to ensure floating point division. Therefore, the correct SQL is as above.\n",
      "\n",
      "Final answer based om reasoning for this model:\n",
      "\n",
      "\n",
      "```\n",
      "SELECT (SELECT COUNT(*) FROM customers WHERE Currency = 'EUR') * 1.0 / (SELECT COUNT(*) FROM customers WHERE Currency = 'CZK') AS ratio;\n",
      "```\n",
      "\n",
      "model 5 analysis:\n",
      " Reasoning process:\n",
      "\n",
      "Okay, let's see. The user is asking for the ratio of customers who pay in EUR versus those who pay in CZK. So first, I need to figure out how to get the count of customers for each currency.\n",
      "\n",
      "Looking at the tables provided, the 'customers' table has a 'Currency' column. That's where the payment currency information is stored. So I should start by checking that table.\n",
      "\n",
      "The 'customers' table has CustomerID, Segment, and Currency. The question is about customers, so the Currency column in this table is the key here. I need to count how many customers have 'EUR' and how many have 'CZK' in their Currency field.\n",
      "\n",
      "The external knowledge says the ratio is count(Currency='EUR') divided by count(Currency='CZK'). So I need to calculate these two counts and then divide them.\n",
      "\n",
      "In SQL, to count the number of customers with each currency, I can use the COUNT() function with a CASE statement or a WHERE clause. Alternatively, I can use conditional aggregation. For example:\n",
      "\n",
      "SELECT \n",
      "    COUNT(CASE WHEN Currency = 'EUR' THEN 1 END) AS EUR_count,\n",
      "    COUNT(CASE WHEN Currency = 'CZK' THEN 1 END) AS CZK_count\n",
      "FROM customers;\n",
      "\n",
      "But wait, the question asks for the ratio, not the individual counts. So I need to compute EUR_count divided by CZK_count.\n",
      "\n",
      "But wait, what if there are customers with other currencies? The question is specifically about EUR vs. CZK. So the counts should only include those two currencies. However, the problem statement says to use the external knowledge, which just divides the two counts. So even if there are other currencies, the query should just count those two.\n",
      "\n",
      "So the query would be:\n",
      "\n",
      "SELECT \n",
      "    COUNT(CASE WHEN Currency = 'EUR' THEN 1 END) / COUNT(CASE WHEN Currency = 'CZK' THEN 1 END) AS ratio\n",
      "FROM customers;\n",
      "\n",
      "But wait, in SQLite, if you divide two integers, it does integer division. So if the result is a fractional value, it would be truncated. But the question might expect a decimal ratio. However, the user didn't specify, but the external knowledge just says count(Currency='EUR') / count(Currency='CZK'), so maybe it's acceptable as is. Alternatively, to avoid integer division, we can cast one of the counts to REAL.\n",
      "\n",
      "Alternatively, using SUM with conditions. Another approach could be:\n",
      "\n",
      "SELECT \n",
      "    (SELECT COUNT(*) FROM customers WHERE Currency = 'EUR') \n",
      "    / \n",
      "    (SELECT COUNT(*) FROM customers WHERE Currency = 'CZK') AS ratio\n",
      "FROM customers\n",
      "LIMIT 1;\n",
      "\n",
      "But that might not be efficient, but since the customers table is likely small, it's manageable.\n",
      "\n",
      "Wait, but the problem says the answer should be only the SQL query. Also, the user said to make sure the query returns all the information asked without extra. So the final answer would be a query that returns a single value: the ratio.\n",
      "\n",
      "But wait, the first approach with conditional aggregation would return one row with two columns (EUR_count and CZK_count), but the user wants the ratio. So the correct approach is to compute the division.\n",
      "\n",
      "So the correct SQL would be:\n",
      "\n",
      "SELECT \n",
      "    COUNT(CASE WHEN Currency = 'EUR' THEN 1 END) * 1.0 \n",
      "    / \n",
      "    COUNT(CASE WHEN Currency = 'CZK' THEN 1 END) AS ratio\n",
      "FROM customers;\n",
      "\n",
      "But in SQLite, multiplying by 1.0 converts it to a float, ensuring that the division is a float. Alternatively, using COUNT(CASE WHEN ... THEN 1 END) as a numeric value.\n",
      "\n",
      "Alternatively, using subqueries:\n",
      "\n",
      "SELECT \n",
      "    (SELECT COUNT(*) FROM customers WHERE Currency = 'EUR') \n",
      "    / \n",
      "    (SELECT COUNT(*) FROM customers WHERE Currency = 'CZK') \n",
      "    AS ratio;\n",
      "\n",
      "But which is better? The first approach with conditional aggregation is better because it does a single scan of the table, whereas two subqueries would scan the table twice. However, for small tables, it doesn't matter much.\n",
      "\n",
      "But according to the user's instructions, the SQL query must return the ratio. The first approach is correct.\n",
      "\n",
      "So the final SQL query would be:\n",
      "\n",
      "SELECT \n",
      "    COUNT(CASE WHEN Currency = 'EUR' THEN 1 END) * 1.0 \n",
      "    / \n",
      "    COUNT(CASE WHEN Currency = 'CZK' THEN 1 END) \n",
      "    AS ratio\n",
      "FROM customers;\n",
      "\n",
      "But the user's instruction says to only include what is asked. The question asks for the ratio, so the query should return a single column named 'ratio'.\n",
      "\n",
      "Another thing to check: Are there customers with Currency as NULL? The problem says that the Currency column can be null. But in the count, those would be excluded. The problem might want to count only those with a defined currency.\n",
      "\n",
      "But the external knowledge says count(Currency='EUR') which in SQL is equivalent to counting rows where Currency equals 'EUR', which would exclude NULLs. So the query as written is correct.\n",
      "\n",
      "So the final answer is that SQL query.\n",
      "\n",
      "Final answer based om reasoning for this model:\n",
      "\n",
      "\n",
      "```\n",
      "SELECT \n",
      "    COUNT(CASE WHEN Currency = 'EUR' THEN 1 END) * 1.0 \n",
      "    / \n",
      "    COUNT(CASE WHEN Currency = 'CZK' THEN 1 END) \n",
      "    AS ratio\n",
      "FROM customers;\n",
      "```\n",
      "\n",
      "\n",
      "here is avaliable tables below\n",
      "\n",
      "\n",
      "Table: customers\n",
      "CREATE TABLE customers\n",
      "(\n",
      "    CustomerID INTEGER UNIQUE     not null\n",
      "        primary key,\n",
      "    Segment    TEXT null,\n",
      "    Currency   TEXT null\n",
      ")\n",
      "\n",
      "Table: gasstations\n",
      "CREATE TABLE gasstations\n",
      "(\n",
      "    GasStationID INTEGER    UNIQUE   not null\n",
      "        primary key,\n",
      "    ChainID      INTEGER          null,\n",
      "    Country      TEXT null,\n",
      "    Segment      TEXT null\n",
      ")\n",
      "\n",
      "Table: products\n",
      "CREATE TABLE products\n",
      "(\n",
      "    ProductID   INTEGER   UNIQUE      not null\n",
      "        primary key,\n",
      "    Description TEXT null\n",
      ")\n",
      "\n",
      "Table: transactions_1k\n",
      "CREATE TABLE \"transactions_1k\"\n",
      "(\n",
      "    TransactionID INTEGER\n",
      "        primary key autoincrement,\n",
      "    Date          DATE,\n",
      "    Time          TEXT,\n",
      "    CustomerID    INTEGER,\n",
      "    CardID        INTEGER,\n",
      "    GasStationID  INTEGER,\n",
      "    ProductID     INTEGER,\n",
      "    Amount        INTEGER,\n",
      "    Price         REAL\n",
      ")\n",
      "\n",
      "Table: sqlite_sequence\n",
      "CREATE TABLE sqlite_sequence(name,seq)\n",
      "\n",
      "Table: yearmonth\n",
      "CREATE TABLE \"yearmonth\"\n",
      "(\n",
      "    CustomerID  INTEGER not null\n",
      "        references customers\n",
      "            on update cascade on delete cascade\n",
      "        references customers,\n",
      "    Date        TEXT    not null,\n",
      "    Consumption REAL,\n",
      "    primary key (Date, CustomerID)\n",
      ")\n",
      "\n",
      "-- Using valid SQLite and understanding External Knowledge, answer the following questions for the tables provided above.\n",
      "-- What is the ratio of customers who pay in EUR against customers who pay in CZK?\n",
      "-- External Knowledge: ratio of customers who pay in EUR against customers who pay in CZK = count(Currency = 'EUR') / count(Currency = 'CZK').\n",
      "\n",
      "\n",
      "Generate the SQLite for the above question after thinking step by step: \n",
      "\n",
      "\n",
      "Instructions:\n",
      "- Make sure you only output the information that is asked in the question. If the question asks for a specific column, make sure to only include that column in the SELECT clause, nothing more.\n",
      "- The generated query should return all of the information asked in the question without any missing or extra information.\n",
      "- Before generating the final SQL query, please think through the steps of how to write the query.\n",
      "- Do not misuse column names, keep them in quotes `\n",
      "- Carefully understand what colomns belond to what tables\n",
      "- Use only initial column names, change names prohibited\n",
      "        \n",
      "Output Format:\n",
      "In your answer, please enclose the generated SQL query in a code block:\n",
      "```\n",
      "-- Your SQL query\n",
      "```    \n",
      "and nothing else, no exaplains, no comments (asnwer should be less than 512 characters)\n",
      "\n",
      "Take a deep breath and think step by step to find the correct SQL query in SQLite format.\n",
      "\n",
      "Question repetition: What is the ratio of customers who pay in EUR against customers who pay in CZK?\n",
      "\n",
      "Be care! Include only what i want it questiona and nothing else<|im_end|>\n",
      "<|im_start|>assistant\n",
      "<think>\n",
      "\n",
      "</think>\n",
      "\n",
      "\n",
      "\n",
      "\n",
      "Максимальное количество токенов в промптах: 21254\n",
      "\n",
      "начинаем скорринг\n",
      "Загружаем чаты с данными...\n",
      "Данные успешно загружены\n",
      "Начали генерацию SQL запросов\n"
     ]
    },
    {
     "name": "stderr",
     "output_type": "stream",
     "text": [
      "Processed prompts: 100%|██████████| 500/500 [02:45<00:00,  3.01it/s, est. speed input: 21223.63 toks/s, output: 178.42 toks/s]"
     ]
    },
    {
     "name": "stdout",
     "output_type": "stream",
     "text": [
      "extract_think количество ошибок:  0\n",
      "extract_sql количество ошибок:  0\n",
      "Закончили генерацию SQL запросов\n",
      "Начали скорр полученных SQL запросов\n"
     ]
    },
    {
     "name": "stderr",
     "output_type": "stream",
     "text": [
      "\n"
     ]
    },
    {
     "name": "stdout",
     "output_type": "stream",
     "text": [
      "Qwen3-8b Mini DEV Финальный результат EX: 55.60\n",
      "Qwen3-8b процент запросов, которые успешно выполнились Mini DEV: 96.80%\n",
      "====================================================================================================\n",
      "\n",
      "\n",
      "Загружаем чаты с данными...\n",
      "Данные успешно загружены\n",
      "Начали генерацию SQL запросов\n"
     ]
    },
    {
     "name": "stderr",
     "output_type": "stream",
     "text": [
      "Processed prompts: 100%|██████████| 500/500 [02:47<00:00,  2.98it/s, est. speed input: 21287.51 toks/s, output: 177.02 toks/s]"
     ]
    },
    {
     "name": "stdout",
     "output_type": "stream",
     "text": [
      "extract_think количество ошибок:  0\n",
      "extract_sql количество ошибок:  0\n",
      "Закончили генерацию SQL запросов\n",
      "Начали скорр полученных SQL запросов\n"
     ]
    },
    {
     "name": "stderr",
     "output_type": "stream",
     "text": [
      "\n"
     ]
    },
    {
     "name": "stdout",
     "output_type": "stream",
     "text": [
      "Qwen3-8b Mini DEV Финальный результат EX: 56.20\n",
      "Qwen3-8b процент запросов, которые успешно выполнились Mini DEV: 95.80%\n",
      "====================================================================================================\n",
      "\n",
      "\n",
      "Загружаем чаты с данными...\n",
      "Данные успешно загружены\n",
      "Начали генерацию SQL запросов\n"
     ]
    },
    {
     "name": "stderr",
     "output_type": "stream",
     "text": [
      "Processed prompts: 100%|██████████| 500/500 [02:48<00:00,  2.96it/s, est. speed input: 21290.19 toks/s, output: 175.48 toks/s]"
     ]
    },
    {
     "name": "stdout",
     "output_type": "stream",
     "text": [
      "extract_think количество ошибок:  0\n",
      "extract_sql количество ошибок:  0\n",
      "Закончили генерацию SQL запросов\n",
      "Начали скорр полученных SQL запросов\n"
     ]
    },
    {
     "name": "stderr",
     "output_type": "stream",
     "text": [
      "\n"
     ]
    },
    {
     "name": "stdout",
     "output_type": "stream",
     "text": [
      "Qwen3-8b Mini DEV Финальный результат EX: 56.20\n",
      "Qwen3-8b процент запросов, которые успешно выполнились Mini DEV: 95.80%\n",
      "====================================================================================================\n",
      "\n",
      "\n",
      "Загружаем чаты с данными...\n",
      "Данные успешно загружены\n",
      "Начали генерацию SQL запросов\n"
     ]
    },
    {
     "name": "stderr",
     "output_type": "stream",
     "text": [
      "Processed prompts: 100%|██████████| 500/500 [02:45<00:00,  3.02it/s, est. speed input: 21477.78 toks/s, output: 179.10 toks/s]"
     ]
    },
    {
     "name": "stdout",
     "output_type": "stream",
     "text": [
      "extract_think количество ошибок:  0\n",
      "extract_sql количество ошибок:  0\n",
      "Закончили генерацию SQL запросов\n",
      "Начали скорр полученных SQL запросов\n"
     ]
    },
    {
     "name": "stderr",
     "output_type": "stream",
     "text": [
      "\n"
     ]
    },
    {
     "name": "stdout",
     "output_type": "stream",
     "text": [
      "Qwen3-8b Mini DEV Финальный результат EX: 55.00\n",
      "Qwen3-8b процент запросов, которые успешно выполнились Mini DEV: 96.40%\n",
      "====================================================================================================\n",
      "\n",
      "\n",
      "Загружаем чаты с данными...\n",
      "Данные успешно загружены\n",
      "Начали генерацию SQL запросов\n"
     ]
    },
    {
     "name": "stderr",
     "output_type": "stream",
     "text": [
      "Processed prompts: 100%|██████████| 500/500 [02:41<00:00,  3.10it/s, est. speed input: 21440.17 toks/s, output: 182.92 toks/s]"
     ]
    },
    {
     "name": "stdout",
     "output_type": "stream",
     "text": [
      "extract_think количество ошибок:  0\n",
      "extract_sql количество ошибок:  0\n",
      "Закончили генерацию SQL запросов\n",
      "Начали скорр полученных SQL запросов\n"
     ]
    },
    {
     "name": "stderr",
     "output_type": "stream",
     "text": [
      "\n"
     ]
    },
    {
     "name": "stdout",
     "output_type": "stream",
     "text": [
      "Qwen3-8b Mini DEV Финальный результат EX: 55.60\n",
      "Qwen3-8b процент запросов, которые успешно выполнились Mini DEV: 96.40%\n",
      "====================================================================================================\n",
      "\n",
      "\n",
      "Загружаем чаты с данными...\n",
      "Данные успешно загружены\n",
      "Начали генерацию SQL запросов\n"
     ]
    },
    {
     "name": "stderr",
     "output_type": "stream",
     "text": [
      "Processed prompts: 100%|██████████| 500/500 [02:40<00:00,  3.12it/s, est. speed input: 21506.73 toks/s, output: 181.38 toks/s]"
     ]
    },
    {
     "name": "stdout",
     "output_type": "stream",
     "text": [
      "extract_think количество ошибок:  0\n",
      "extract_sql количество ошибок:  0\n",
      "Закончили генерацию SQL запросов\n",
      "Начали скорр полученных SQL запросов\n"
     ]
    },
    {
     "name": "stderr",
     "output_type": "stream",
     "text": [
      "\n"
     ]
    },
    {
     "name": "stdout",
     "output_type": "stream",
     "text": [
      "Qwen3-8b Mini DEV Финальный результат EX: 53.40\n",
      "Qwen3-8b процент запросов, которые успешно выполнились Mini DEV: 96.60%\n",
      "====================================================================================================\n",
      "\n",
      "\n",
      "Загружаем чаты с данными...\n",
      "Данные успешно загружены\n",
      "Начали генерацию SQL запросов\n"
     ]
    },
    {
     "name": "stderr",
     "output_type": "stream",
     "text": [
      "Processed prompts: 100%|██████████| 500/500 [02:39<00:00,  3.14it/s, est. speed input: 21577.29 toks/s, output: 185.02 toks/s]"
     ]
    },
    {
     "name": "stdout",
     "output_type": "stream",
     "text": [
      "extract_think количество ошибок:  0\n",
      "extract_sql количество ошибок:  0\n",
      "Закончили генерацию SQL запросов\n",
      "Начали скорр полученных SQL запросов\n"
     ]
    },
    {
     "name": "stderr",
     "output_type": "stream",
     "text": [
      "\n"
     ]
    },
    {
     "name": "stdout",
     "output_type": "stream",
     "text": [
      "Qwen3-8b Mini DEV Финальный результат EX: 56.00\n",
      "Qwen3-8b процент запросов, которые успешно выполнились Mini DEV: 97.60%\n",
      "====================================================================================================\n",
      "\n",
      "\n",
      "Загружаем чаты с данными...\n",
      "Данные успешно загружены\n",
      "Начали генерацию SQL запросов\n"
     ]
    },
    {
     "name": "stderr",
     "output_type": "stream",
     "text": [
      "Processed prompts: 100%|██████████| 500/500 [02:39<00:00,  3.14it/s, est. speed input: 21474.13 toks/s, output: 185.96 toks/s]"
     ]
    },
    {
     "name": "stdout",
     "output_type": "stream",
     "text": [
      "extract_think количество ошибок:  0\n",
      "extract_sql количество ошибок:  0\n",
      "Закончили генерацию SQL запросов\n",
      "Начали скорр полученных SQL запросов\n"
     ]
    },
    {
     "name": "stderr",
     "output_type": "stream",
     "text": [
      "\n"
     ]
    },
    {
     "name": "stdout",
     "output_type": "stream",
     "text": [
      "Qwen3-8b Mini DEV Финальный результат EX: 55.60\n",
      "Qwen3-8b процент запросов, которые успешно выполнились Mini DEV: 97.20%\n",
      "====================================================================================================\n",
      "\n",
      "\n",
      "Загружаем чаты с данными...\n",
      "Данные успешно загружены\n",
      "Начали генерацию SQL запросов\n"
     ]
    },
    {
     "name": "stderr",
     "output_type": "stream",
     "text": [
      "Processed prompts: 100%|██████████| 500/500 [02:42<00:00,  3.07it/s, est. speed input: 21534.67 toks/s, output: 179.01 toks/s]"
     ]
    },
    {
     "name": "stdout",
     "output_type": "stream",
     "text": [
      "extract_think количество ошибок:  0\n",
      "extract_sql количество ошибок:  0\n",
      "Закончили генерацию SQL запросов\n",
      "Начали скорр полученных SQL запросов\n"
     ]
    },
    {
     "name": "stderr",
     "output_type": "stream",
     "text": [
      "\n"
     ]
    },
    {
     "name": "stdout",
     "output_type": "stream",
     "text": [
      "Qwen3-8b Mini DEV Финальный результат EX: 54.20\n",
      "Qwen3-8b процент запросов, которые успешно выполнились Mini DEV: 96.60%\n",
      "====================================================================================================\n",
      "\n",
      "\n",
      "Загружаем чаты с данными...\n",
      "Данные успешно загружены\n",
      "Начали генерацию SQL запросов\n"
     ]
    },
    {
     "name": "stderr",
     "output_type": "stream",
     "text": [
      "Processed prompts: 100%|██████████| 500/500 [02:38<00:00,  3.16it/s, est. speed input: 21552.21 toks/s, output: 184.47 toks/s]"
     ]
    },
    {
     "name": "stdout",
     "output_type": "stream",
     "text": [
      "extract_think количество ошибок:  0\n",
      "extract_sql количество ошибок:  0\n",
      "Закончили генерацию SQL запросов\n",
      "Начали скорр полученных SQL запросов\n"
     ]
    },
    {
     "name": "stderr",
     "output_type": "stream",
     "text": [
      "\n"
     ]
    },
    {
     "name": "stdout",
     "output_type": "stream",
     "text": [
      "Qwen3-8b Mini DEV Финальный результат EX: 54.40\n",
      "Qwen3-8b процент запросов, которые успешно выполнились Mini DEV: 96.60%\n",
      "====================================================================================================\n",
      "\n",
      "\n",
      "Загружаем чаты с данными...\n",
      "Данные успешно загружены\n",
      "Начали генерацию SQL запросов\n"
     ]
    },
    {
     "name": "stderr",
     "output_type": "stream",
     "text": [
      "Processed prompts: 100%|██████████| 500/500 [02:40<00:00,  3.11it/s, est. speed input: 21535.59 toks/s, output: 181.93 toks/s]"
     ]
    },
    {
     "name": "stdout",
     "output_type": "stream",
     "text": [
      "extract_think количество ошибок:  0\n",
      "extract_sql количество ошибок:  0\n",
      "Закончили генерацию SQL запросов\n",
      "Начали скорр полученных SQL запросов\n"
     ]
    },
    {
     "name": "stderr",
     "output_type": "stream",
     "text": [
      "\n"
     ]
    },
    {
     "name": "stdout",
     "output_type": "stream",
     "text": [
      "Qwen3-8b Mini DEV Финальный результат EX: 53.60\n",
      "Qwen3-8b процент запросов, которые успешно выполнились Mini DEV: 96.60%\n",
      "====================================================================================================\n",
      "\n",
      "\n",
      "Загружаем чаты с данными...\n",
      "Данные успешно загружены\n",
      "Начали генерацию SQL запросов\n"
     ]
    },
    {
     "name": "stderr",
     "output_type": "stream",
     "text": [
      "Processed prompts: 100%|██████████| 500/500 [02:39<00:00,  3.13it/s, est. speed input: 21544.74 toks/s, output: 182.41 toks/s]"
     ]
    },
    {
     "name": "stdout",
     "output_type": "stream",
     "text": [
      "extract_think количество ошибок:  0\n",
      "extract_sql количество ошибок:  0\n",
      "Закончили генерацию SQL запросов\n",
      "Начали скорр полученных SQL запросов\n"
     ]
    },
    {
     "name": "stderr",
     "output_type": "stream",
     "text": [
      "\n"
     ]
    },
    {
     "name": "stdout",
     "output_type": "stream",
     "text": [
      "Qwen3-8b Mini DEV Финальный результат EX: 55.00\n",
      "Qwen3-8b процент запросов, которые успешно выполнились Mini DEV: 97.80%\n",
      "====================================================================================================\n",
      "\n",
      "\n",
      "Загружаем чаты с данными...\n",
      "Данные успешно загружены\n",
      "Начали генерацию SQL запросов\n"
     ]
    },
    {
     "name": "stderr",
     "output_type": "stream",
     "text": [
      "Processed prompts: 100%|██████████| 500/500 [02:38<00:00,  3.16it/s, est. speed input: 21525.04 toks/s, output: 184.84 toks/s]"
     ]
    },
    {
     "name": "stdout",
     "output_type": "stream",
     "text": [
      "extract_think количество ошибок:  0\n",
      "extract_sql количество ошибок:  0\n",
      "Закончили генерацию SQL запросов\n",
      "Начали скорр полученных SQL запросов\n"
     ]
    },
    {
     "name": "stderr",
     "output_type": "stream",
     "text": [
      "\n"
     ]
    },
    {
     "name": "stdout",
     "output_type": "stream",
     "text": [
      "Qwen3-8b Mini DEV Финальный результат EX: 53.80\n",
      "Qwen3-8b процент запросов, которые успешно выполнились Mini DEV: 96.60%\n",
      "====================================================================================================\n",
      "\n",
      "\n",
      "Загружаем чаты с данными...\n",
      "Данные успешно загружены\n",
      "Начали генерацию SQL запросов\n"
     ]
    },
    {
     "name": "stderr",
     "output_type": "stream",
     "text": [
      "Processed prompts: 100%|██████████| 500/500 [02:29<00:00,  3.34it/s, est. speed input: 21674.12 toks/s, output: 194.62 toks/s]"
     ]
    },
    {
     "name": "stdout",
     "output_type": "stream",
     "text": [
      "extract_think количество ошибок:  0\n",
      "extract_sql количество ошибок:  0\n",
      "Закончили генерацию SQL запросов\n",
      "Начали скорр полученных SQL запросов\n"
     ]
    },
    {
     "name": "stderr",
     "output_type": "stream",
     "text": [
      "\n"
     ]
    },
    {
     "name": "stdout",
     "output_type": "stream",
     "text": [
      "Qwen3-8b Mini DEV Финальный результат EX: 54.80\n",
      "Qwen3-8b процент запросов, которые успешно выполнились Mini DEV: 96.40%\n",
      "====================================================================================================\n",
      "\n",
      "\n",
      "Загружаем чаты с данными...\n",
      "Данные успешно загружены\n",
      "Начали генерацию SQL запросов\n"
     ]
    },
    {
     "name": "stderr",
     "output_type": "stream",
     "text": [
      "Processed prompts: 100%|██████████| 500/500 [02:16<00:00,  3.66it/s, est. speed input: 21902.78 toks/s, output: 211.72 toks/s]"
     ]
    },
    {
     "name": "stdout",
     "output_type": "stream",
     "text": [
      "extract_think количество ошибок:  0\n",
      "extract_sql количество ошибок:  0\n",
      "Закончили генерацию SQL запросов\n",
      "Начали скорр полученных SQL запросов\n"
     ]
    },
    {
     "name": "stderr",
     "output_type": "stream",
     "text": [
      "\n"
     ]
    },
    {
     "name": "stdout",
     "output_type": "stream",
     "text": [
      "Qwen3-8b Mini DEV Финальный результат EX: 54.00\n",
      "Qwen3-8b процент запросов, которые успешно выполнились Mini DEV: 95.80%\n",
      "====================================================================================================\n",
      "\n",
      "\n",
      "Загружаем чаты с данными...\n",
      "Данные успешно загружены\n",
      "Начали генерацию SQL запросов\n"
     ]
    },
    {
     "name": "stderr",
     "output_type": "stream",
     "text": [
      "Processed prompts: 100%|██████████| 500/500 [02:20<00:00,  3.55it/s, est. speed input: 21791.10 toks/s, output: 205.18 toks/s]"
     ]
    },
    {
     "name": "stdout",
     "output_type": "stream",
     "text": [
      "extract_think количество ошибок:  0\n",
      "extract_sql количество ошибок:  0\n",
      "Закончили генерацию SQL запросов\n",
      "Начали скорр полученных SQL запросов\n"
     ]
    },
    {
     "name": "stderr",
     "output_type": "stream",
     "text": [
      "\n"
     ]
    },
    {
     "name": "stdout",
     "output_type": "stream",
     "text": [
      "Qwen3-8b Mini DEV Финальный результат EX: 54.00\n",
      "Qwen3-8b процент запросов, которые успешно выполнились Mini DEV: 95.80%\n",
      "====================================================================================================\n",
      "\n",
      "\n",
      "Загружаем чаты с данными...\n",
      "Данные успешно загружены\n",
      "Начали генерацию SQL запросов\n"
     ]
    },
    {
     "name": "stderr",
     "output_type": "stream",
     "text": [
      "Processed prompts: 100%|██████████| 500/500 [02:14<00:00,  3.71it/s, est. speed input: 21911.27 toks/s, output: 217.71 toks/s]"
     ]
    },
    {
     "name": "stdout",
     "output_type": "stream",
     "text": [
      "extract_think количество ошибок:  0\n",
      "extract_sql количество ошибок:  0\n",
      "Закончили генерацию SQL запросов\n",
      "Начали скорр полученных SQL запросов\n"
     ]
    },
    {
     "name": "stderr",
     "output_type": "stream",
     "text": [
      "\n"
     ]
    },
    {
     "name": "stdout",
     "output_type": "stream",
     "text": [
      "Qwen3-8b Mini DEV Финальный результат EX: 54.40\n",
      "Qwen3-8b процент запросов, которые успешно выполнились Mini DEV: 96.20%\n",
      "====================================================================================================\n",
      "\n",
      "\n",
      "Загружаем чаты с данными...\n",
      "Данные успешно загружены\n",
      "Начали генерацию SQL запросов\n"
     ]
    },
    {
     "name": "stderr",
     "output_type": "stream",
     "text": [
      "Processed prompts: 100%|██████████| 500/500 [02:19<00:00,  3.59it/s, est. speed input: 21541.88 toks/s, output: 213.15 toks/s]"
     ]
    },
    {
     "name": "stdout",
     "output_type": "stream",
     "text": [
      "extract_think количество ошибок:  0\n",
      "extract_sql количество ошибок:  0\n",
      "Закончили генерацию SQL запросов\n",
      "Начали скорр полученных SQL запросов\n"
     ]
    },
    {
     "name": "stderr",
     "output_type": "stream",
     "text": [
      "\n"
     ]
    },
    {
     "name": "stdout",
     "output_type": "stream",
     "text": [
      "Qwen3-8b Mini DEV Финальный результат EX: 55.40\n",
      "Qwen3-8b процент запросов, которые успешно выполнились Mini DEV: 95.60%\n",
      "====================================================================================================\n",
      "\n",
      "\n",
      "Загружаем чаты с данными...\n",
      "Данные успешно загружены\n",
      "Начали генерацию SQL запросов\n"
     ]
    },
    {
     "name": "stderr",
     "output_type": "stream",
     "text": [
      "Processed prompts: 100%|██████████| 500/500 [02:22<00:00,  3.50it/s, est. speed input: 21739.24 toks/s, output: 206.75 toks/s]"
     ]
    },
    {
     "name": "stdout",
     "output_type": "stream",
     "text": [
      "extract_think количество ошибок:  0\n",
      "extract_sql количество ошибок:  0\n",
      "Закончили генерацию SQL запросов\n",
      "Начали скорр полученных SQL запросов\n"
     ]
    },
    {
     "name": "stderr",
     "output_type": "stream",
     "text": [
      "\n"
     ]
    },
    {
     "name": "stdout",
     "output_type": "stream",
     "text": [
      "Qwen3-8b Mini DEV Финальный результат EX: 55.40\n",
      "Qwen3-8b процент запросов, которые успешно выполнились Mini DEV: 95.20%\n",
      "====================================================================================================\n",
      "\n",
      "\n",
      "Загружаем чаты с данными...\n",
      "Данные успешно загружены\n",
      "Начали генерацию SQL запросов\n"
     ]
    },
    {
     "name": "stderr",
     "output_type": "stream",
     "text": [
      "Processed prompts: 100%|██████████| 500/500 [02:30<00:00,  3.32it/s, est. speed input: 21648.66 toks/s, output: 196.59 toks/s]"
     ]
    },
    {
     "name": "stdout",
     "output_type": "stream",
     "text": [
      "extract_think количество ошибок:  0\n",
      "extract_sql количество ошибок:  0\n",
      "Закончили генерацию SQL запросов\n",
      "Начали скорр полученных SQL запросов\n"
     ]
    },
    {
     "name": "stderr",
     "output_type": "stream",
     "text": [
      "\n"
     ]
    },
    {
     "name": "stdout",
     "output_type": "stream",
     "text": [
      "Qwen3-8b Mini DEV Финальный результат EX: 55.80\n",
      "Qwen3-8b процент запросов, которые успешно выполнились Mini DEV: 96.20%\n",
      "====================================================================================================\n",
      "\n",
      "\n"
     ]
    }
   ],
   "source": [
    "run_cot_experiment(model,arr_seeds,arr_versions, type_cot,num_observations=num_observations)"
   ]
  },
  {
   "cell_type": "markdown",
   "id": "51d986a1-0b51-4b35-9b9c-0acb184dcbda",
   "metadata": {},
   "source": [
    "## 7 наблюдений"
   ]
  },
  {
   "cell_type": "code",
   "execution_count": 13,
   "id": "1df4a57b-8c8c-4ec0-ba80-8dd616f717e7",
   "metadata": {},
   "outputs": [
    {
     "name": "stdout",
     "output_type": "stream",
     "text": [
      "[865, 118, 689, 24, 860, 336, 193, 607, 393, 323, 898, 327, 440, 934, 853, 627, 220, 733, 412, 428]\n",
      "model: Qwen3-14B\n"
     ]
    }
   ],
   "source": [
    "n= 20\n",
    "arr_seeds = [random.randint(0,1000) for _ in range(n)]\n",
    "arr_versions = [x for x in range(n)]\n",
    "model = \"Qwen3-14B\"\n",
    "num_observations = 7\n",
    "type_cot = 'all_new'\n",
    "print(arr_seeds)\n",
    "print(f\"model: {model}\")"
   ]
  },
  {
   "cell_type": "code",
   "execution_count": 14,
   "id": "6399f201-99a9-4c61-86dc-3570cf4878cd",
   "metadata": {
    "scrolled": true
   },
   "outputs": [
    {
     "name": "stdout",
     "output_type": "stream",
     "text": [
      "Загружаем модель...\n"
     ]
    },
    {
     "name": "stderr",
     "output_type": "stream",
     "text": [
      "Loading safetensors checkpoint shards:   0% Completed | 0/8 [00:00<?, ?it/s]\n",
      "Loading safetensors checkpoint shards:  12% Completed | 1/8 [00:01<00:09,  1.39s/it]\n",
      "Loading safetensors checkpoint shards:  25% Completed | 2/8 [00:02<00:08,  1.39s/it]\n",
      "Loading safetensors checkpoint shards:  38% Completed | 3/8 [00:04<00:07,  1.41s/it]\n",
      "Loading safetensors checkpoint shards:  50% Completed | 4/8 [00:05<00:05,  1.41s/it]\n",
      "Loading safetensors checkpoint shards:  62% Completed | 5/8 [00:07<00:04,  1.40s/it]\n",
      "Loading safetensors checkpoint shards:  75% Completed | 6/8 [00:07<00:02,  1.18s/it]\n",
      "Loading safetensors checkpoint shards:  88% Completed | 7/8 [00:09<00:01,  1.25s/it]\n",
      "Loading safetensors checkpoint shards: 100% Completed | 8/8 [00:10<00:00,  1.30s/it]\n",
      "Loading safetensors checkpoint shards: 100% Completed | 8/8 [00:10<00:00,  1.32s/it]\n",
      "\u001b[1;36m(VllmWorker rank=0 pid=3309516)\u001b[0;0m \n"
     ]
    },
    {
     "name": "stdout",
     "output_type": "stream",
     "text": [
      "Модель успешно загружена\n",
      "model_config {'model': '/data/home/vkropoti/models/Qwen3-14B', 'tensor_parallel_size': 2, 'max_model_len': 40000, 'max_new_tokens': 1500, 'temperature': 0, 'top_k': 1, 'top_p': 0.8, 'gpu_memory_utilization': 0.9, 'trust_remote_code': False, 'seed': 865}\n",
      "\n",
      "prompts_config {'path_dev_json': '/home/vkropoti/vllm/dev.json', 'path_sql_dbs': '/data/home/vkropoti/sql_data/dev_databases/', 'use_reasoning': False, 'paths_to_cot': ['/data/home/vkropoti/sql_llm_answers/base_reasoning/sql_all_new_Qwen3-14B-reasoning-v0', '/data/home/vkropoti/sql_llm_answers/base_reasoning/sql_all_new_Qwen3-14B-reasoning-v1', '/data/home/vkropoti/sql_llm_answers/base_reasoning/sql_all_new_Qwen3-14B-reasoning-v2', '/data/home/vkropoti/sql_llm_answers/base_reasoning/sql_all_new_Qwen3-14B-reasoning-v3', '/data/home/vkropoti/sql_llm_answers/base_reasoning/sql_all_new_Qwen3-14B-reasoning-v4', '/data/home/vkropoti/sql_llm_answers/base_reasoning/sql_all_new_Qwen3-14B-reasoning-v5', '/data/home/vkropoti/sql_llm_answers/base_reasoning/sql_all_new_Qwen3-14B-reasoning-v6']}\n",
      "\n",
      "save_config {'path_sql_save': '/data/home/vkropoti/sql_llm_answers/base_reasoning/sql_all_Qwen3-14B-cot_all_new_think==False_nobs7-v0', 'path_think_save': None, 'path_sql_answers_save': '/data/home/vkropoti/sql_llm_answers/base_reasoning/sql_predict_Qwen3-14B-cot_all_new_think==False_nobs7-v0', 'path_to_save_scores': '/data/home/vkropoti/sql_llm_answers/base_reasoning/sql_results_Qwen3-14B-cot_all_new_think==False_nobs7-v0', 'path_to_save_executed': '/data/home/vkropoti/sql_llm_answers/base_reasoning/sql_executed_Qwen3-14B-cot_all_new_think==False_nobs7-v0'}\n",
      "\n",
      "Модель успешно загружена\n",
      "Пример промпта\n",
      "<|im_start|>system\n",
      "\n",
      "You are a data science expert. Below, you are provided with a database schema and a natural language question. Your task is to understand the schema and generate a valid SQL query to answer the question.\n",
      "\n",
      "Database Engine: SQLite\n",
      "\n",
      "You will be given an additional analysis of other models, please take it into account, so the plan is\n",
      "1. Analyse given addition analysis from other models (find in which analysis the same and differ, how to use that to answer question)\n",
      "2. Combine best from previous part and think how to solve the problem (analyze tables, take care what columns avaliable in each table and so on, check the syntacsis)\n",
      "3. Create the answers. The answer should be only sql query.\n",
      "\n",
      "Carefully follow the instruction and add <|im_end|> and the end of the final answer<|im_end|>\n",
      "<|im_start|>user\n",
      "Here is addition analysis from other models which can be helpfull, please take this into account but be careful (choose the best from each analysis, combine them to make the most proper answer):\n",
      "\n",
      "model 0 analysis:\n",
      " Reasoning process:\n",
      "\n",
      "Okay, let's tackle this question. The user wants the ratio of customers who pay in EUR versus those who pay in CZK. \n",
      "\n",
      "First, I need to figure out where the currency information is stored. Looking at the tables, the 'customers' table has a 'Currency' column. That's where the payment currency for each customer is recorded.\n",
      "\n",
      "Next, the question is about the ratio. So, I need to count the number of customers with Currency 'EUR' and those with 'CZK'. Then divide these two counts. \n",
      "\n",
      "Wait, the External Knowledge note says the ratio is count(Currency = 'EUR') / count(Currency = 'CZK'). So I need to compute these two counts and then divide them. \n",
      "\n",
      "In SQLite, I can use the COUNT() function with a condition. For example, COUNT(CASE WHEN Currency = 'EUR' THEN 1 END) to count EUR customers. Similarly for CZK. \n",
      "\n",
      "But wait, the CustomerID in the customers table is the primary key, so each customer is unique. So just count the number of rows where Currency is EUR and where it's CZK. \n",
      "\n",
      "So the query should select (count of EUR) divided by (count of CZK). \n",
      "\n",
      "But how to handle division? In SQLite, using / operator. But need to make sure that division is done as floating point, not integer. For example, if both counts are integers, dividing them might result in integer division. To avoid that, maybe cast them to REAL or use a decimal value. \n",
      "\n",
      "But the question doesn't specify handling of zero, like if CZK count is zero. But assuming the data has both. \n",
      "\n",
      "Putting it all together: \n",
      "\n",
      "SELECT \n",
      "    (COUNT(CASE WHEN Currency = 'EUR' THEN 1 END) * 1.0) / COUNT(CASE WHEN Currency = 'CZK' THEN 1 END) AS Ratio\n",
      "FROM customers;\n",
      "\n",
      "Wait, but the question is about customers who pay in EUR against those who pay in CZK. So, the counts are based on the Currency column in the customers table. \n",
      "\n",
      "Yes. So the query would select from the customers table, count the number of EUR and CZK entries, then divide them. \n",
      "\n",
      "Alternatively, using SUM with conditions:\n",
      "\n",
      "SELECT \n",
      "    (SUM(CASE WHEN Currency = 'EUR' THEN 1 ELSE 0 END) * 1.0) / SUM(CASE WHEN Currency = 'CZK' THEN 1 ELSE 0 END) AS Ratio\n",
      "FROM customers;\n",
      "\n",
      "But COUNT is more efficient here. Because COUNT with a condition is equivalent to SUM with 1/0. So both approaches are similar. \n",
      "\n",
      "The final query needs to return only the ratio. So the SQL should select that calculated value. \n",
      "\n",
      "Make sure that the column names are correctly quoted, but since they're in the customers table, and the column is named 'Currency', it's okay. \n",
      "\n",
      "Check if there are any other tables involved. The transactions table has Price and Amount, but the question is about the currency the customers use, which is stored in the customers table. So the transactions_1k table is not needed here. \n",
      "\n",
      "So the correct SQL is to query the customers table, count the EUR and CZK customers, and divide them.\n",
      "\n",
      "Final answer based om reasoning for this model:\n",
      "\n",
      "\n",
      "```\n",
      "SELECT (COUNT(CASE WHEN Currency = 'EUR' THEN 1 END) * 1.0) / COUNT(CASE WHEN Currency = 'CZK' THEN 1 END) FROM customers;\n",
      "```\n",
      "\n",
      "model 1 analysis:\n",
      " Reasoning process:\n",
      "\n",
      "Okay, let's tackle this problem. The user wants the ratio of customers who pay in EUR versus those who pay in CZK. First, I need to figure out where the Currency information is stored. Looking at the tables, the 'customers' table has a 'Currency' column. So, the plan is to count how many customers have 'EUR' and how many have 'CZK' in that column.\n",
      "\n",
      "Wait, but the question mentions customers who pay in a certain currency. However, the 'Currency' column in the customers table might represent their preferred currency or the currency they use for transactions. But the problem states that the ratio is based on customers' payment currency, so I think the 'Currency' column in the customers table is the right place to look.\n",
      "\n",
      "Now, I need to count the number of customers with Currency = 'EUR' and those with Currency = 'CZK'. Then divide the two counts to get the ratio. \n",
      "\n",
      "I should write a query that selects these counts. Using COUNT(CASE WHEN Currency = 'EUR' THEN 1 END) and COUNT(CASE WHEN Currency = 'CZK' THEN 1 END), then divide them. Alternatively, I could use SUM with a condition, but COUNT with CASE is more straightforward here.\n",
      "\n",
      "Wait, but what if there are customers with other currencies? The problem says to count only EUR and CZK. So, the query should only consider those two. Also, need to make sure that the division is done correctly, but SQLite handles division as floating-point if needed.\n",
      "\n",
      "Now, the SQL query would be something like:\n",
      "\n",
      "SELECT \n",
      "    (COUNT(CASE WHEN Currency = 'EUR' THEN 1 END) * 1.0) / COUNT(CASE WHEN Currency = 'CZK' THEN 1 END) AS Ratio\n",
      "FROM customers;\n",
      "\n",
      "But I need to check if there are any customers with NULL in the Currency column. If so, they won't be counted in either. The problem doesn't mention handling that, so assuming that all customers have a valid currency.\n",
      "\n",
      "Wait, the 'Currency' column in the customers table is defined as NULLable. So, there could be customers with NULL. But the question is about customers who pay in EUR or CZK, so those with NULL would be excluded. That's correct.\n",
      "\n",
      "Another point: The question uses the term \"customers who pay in EUR\" which might imply that the currency is determined by their transactions. However, the 'Currency' column in the customers table might be their preferred currency or the currency used in transactions. Since the problem gives the external knowledge that it's based on the Currency column, I should stick to that.\n",
      "\n",
      "Therefore, the correct approach is to count the number of customers with Currency 'EUR' and 'CZK' and compute their ratio.\n",
      "\n",
      "Final answer based om reasoning for this model:\n",
      "\n",
      "\n",
      "```\n",
      "SELECT \n",
      "    (COUNT(CASE WHEN Currency = 'EUR' THEN 1 END) * 1.0) / COUNT(CASE WHEN Currency = 'CZK' THEN 1 END) AS Ratio\n",
      "FROM customers;\n",
      "```\n",
      "\n",
      "model 2 analysis:\n",
      " Reasoning process:\n",
      "\n",
      "Okay, let's see. The user is asking for the ratio of customers who pay in EUR versus those who pay in CZK. First, I need to figure out which table has the currency information. Looking at the tables provided, the 'customers' table has a 'Currency' column. So, the data we need is in the customers table.\n",
      "\n",
      "The question is about counting customers based on their currency. The external knowledge says the ratio is count(EUR) divided by count(CZK). So, I need to count how many customers have 'EUR' in their Currency column and how many have 'CZK'. Then divide those two counts.\n",
      "\n",
      "But wait, the customers table has CustomerID as the primary key, so each customer is unique. So, I can just count the number of rows where Currency is 'EUR' and where it's 'CZK'.\n",
      "\n",
      "So, the SQL query would need to select these two counts and then compute their ratio. But in SQLite, how to do that? Well, I can use COUNT(CASE WHEN Currency = 'EUR' THEN 1 ELSE NULL END) to count EUR customers, same for CZK. Then divide the two counts.\n",
      "\n",
      "Wait, but the question says \"ratio of customers who pay in EUR against customers who pay in CZK\". So, it's EUR count divided by CZK count.\n",
      "\n",
      "So, the query would be:\n",
      "\n",
      "SELECT \n",
      "    COUNT(CASE WHEN Currency = 'EUR' THEN 1 END) / COUNT(CASE WHEN Currency = 'CZK' THEN 1 END) AS ratio\n",
      "FROM customers;\n",
      "\n",
      "But wait, in SQLite, if you divide two integers, it does integer division. So if the counts are, say, 3 and 2, it would return 1.5 as 1 if using integer division. But maybe the user expects a float. To ensure it's a float, perhaps multiply by 1.0 or cast to REAL.\n",
      "\n",
      "Alternatively, using COUNT(CASE...) as separate columns and then compute the ratio. But the user wants the ratio as a single value.\n",
      "\n",
      "Another approach: compute each count as a subquery or in the same SELECT.\n",
      "\n",
      "Yes, the initial approach should work. Let me check the syntax again. The CASE expression returns 1 when the condition is met, otherwise NULL. COUNT counts non-NULL values. So COUNT(CASE WHEN Currency = 'EUR' THEN 1 END) gives the number of EUR customers.\n",
      "\n",
      "Then dividing those two counts.\n",
      "\n",
      "But I need to make sure that if there are no CZK customers, it doesn't divide by zero. However, the question might assume that both currencies exist. But the query as written would return NULL if there are no CZK customers, since division by zero is undefined.\n",
      "\n",
      "But the user hasn't mentioned handling that case, so proceed as per the question's instruction.\n",
      "\n",
      "So the final SQL would be:\n",
      "\n",
      "SELECT \n",
      "    (COUNT(CASE WHEN Currency = 'EUR' THEN 1 END) * 1.0) / COUNT(CASE WHEN Currency = 'CZK' THEN 1 END) AS ratio\n",
      "FROM customers;\n",
      "\n",
      "Multiplying by 1.0 ensures that the division is done as a floating-point operation. But maybe using REAL or CAST would be better, but in SQLite, multiplying by 1.0 converts to REAL.\n",
      "\n",
      "Alternatively, using COUNT(CASE...) / COUNT(...) as REAL. But the syntax should be correct.\n",
      "\n",
      "So that's the query. Check the column names again. The 'Currency' column is in the customers table, correct.\n",
      "\n",
      "Yes, that should do it.\n",
      "\n",
      "Final answer based om reasoning for this model:\n",
      "\n",
      "\n",
      "```\n",
      "SELECT (COUNT(CASE WHEN Currency = 'EUR' THEN 1 END) * 1.0) / COUNT(CASE WHEN Currency = 'CZK' THEN 1 END) FROM customers;\n",
      "```\n",
      "\n",
      "model 3 analysis:\n",
      " Reasoning process:\n",
      "\n",
      "Okay, let's see. The user wants the ratio of customers who pay in EUR versus those who pay in CZK. Hmm. So first, I need to figure out where the currency information is stored. Looking at the tables, the 'customers' table has a 'Currency' column. That's where the payment currency for each customer is probably recorded.\n",
      "\n",
      "So the plan is to count how many customers have 'EUR' as their currency and how many have 'CZK'. Then divide those two counts to get the ratio. But wait, how do I handle cases where the currency might be something else? The question doesn't mention other currencies, so maybe we can ignore them. The external knowledge says to count only EUR and CZK.\n",
      "\n",
      "So the SQL query should select the count of customers where Currency is 'EUR' divided by the count where it's 'CZK'. But how to structure that. In SQLite, I can use a CASE statement or SUM with conditions. Alternatively, use two separate COUNTs in the SELECT clause.\n",
      "\n",
      "Wait, maybe using SUM with a condition. For example, SUM(CASE WHEN Currency = 'EUR' THEN 1 ELSE 0 END) as EUR_count and similarly for CZK. Then divide those two.\n",
      "\n",
      "But the customers table has CustomerID as the primary key, so each customer is unique. So I can just count the number of rows where Currency is 'EUR' and 'CZK' respectively.\n",
      "\n",
      "So the query would be:\n",
      "\n",
      "SELECT \n",
      "    COUNT(CASE WHEN Currency = 'EUR' THEN 1 END) * 1.0 / COUNT(CASE WHEN Currency = 'CZK' THEN 1 END) AS ratio\n",
      "FROM customers;\n",
      "\n",
      "Wait, but COUNT(CASE...) would count the non-null values. Alternatively, using SUM(1) where the condition is met. But in SQLite, COUNT with a condition can be done with COUNT(*) if we filter, but that would require subqueries or separate counts.\n",
      "\n",
      "Alternatively, I can use two separate COUNTs. But how to do that in one query. Like:\n",
      "\n",
      "SELECT \n",
      "    (SELECT COUNT(*) FROM customers WHERE Currency = 'EUR') * 1.0 / \n",
      "    (SELECT COUNT(*) FROM customers WHERE Currency = 'CZK') AS ratio\n",
      "FROM customers LIMIT 1;\n",
      "\n",
      "But that would work, but the LIMIT 1 is necessary because otherwise, if there are multiple rows, it would return multiple rows. But since the customer table has unique CustomerID, but the subqueries are aggregate functions, they would return a single value each. So the outer query would return one row, but using LIMIT 1 ensures that.\n",
      "\n",
      "Alternatively, use a single query with CASE expressions:\n",
      "\n",
      "SELECT \n",
      "    SUM(CASE WHEN Currency = 'EUR' THEN 1 ELSE 0 END) * 1.0 / \n",
      "    SUM(CASE WHEN Currency = 'CZK' THEN 1 ELSE 0 END) AS ratio\n",
      "FROM customers;\n",
      "\n",
      "This might be more efficient. Because SUM with 1 or 0 would effectively count the number of EUR and CZK customers.\n",
      "\n",
      "But in SQLite, COUNT(*) is more efficient than SUM(CASE...). However, since the CASE approach works, either way is acceptable.\n",
      "\n",
      "Another thing to note is that if there are no customers in one of the currencies, the division might result in a division by zero. But the question probably assumes there are customers in both currencies.\n",
      "\n",
      "So the final query would be using the SUM approach, or the two subqueries.\n",
      "\n",
      "Testing with sample data: if there are 10 EUR customers and 5 CZK, the ratio would be 10/5=2.0.\n",
      "\n",
      "But which method is better? Using the CASE expressions might be more straightforward and avoids multiple subqueries. So the first approach with SUM(CASE...) is better.\n",
      "\n",
      "So the SQL would be:\n",
      "\n",
      "SELECT \n",
      "    SUM(CASE WHEN Currency = 'EUR' THEN 1 ELSE 0 END) / SUM(CASE WHEN Currency = 'CZK' THEN 1 ELSE 0 END) AS ratio\n",
      "FROM customers;\n",
      "\n",
      "But wait, in SQLite, if the denominator is zero, this will result in an error. However, the question probably expects that there are customers in both currencies, so we can proceed.\n",
      "\n",
      "Another thing: the question says \"ratio of customers who pay in EUR against customers who pay in CZK\". So EUR divided by CZK.\n",
      "\n",
      "Yes, that's the correct calculation.\n",
      "\n",
      "So the final query should be as above. Now, making sure that the column names are correct. The Currency column is in the customers table, so that's correct.\n",
      "\n",
      "So the answer is the SQL query with that structure.\n",
      "\n",
      "Final answer based om reasoning for this model:\n",
      "\n",
      "\n",
      "```\n",
      "SELECT \n",
      "    SUM(CASE WHEN Currency = 'EUR' THEN 1 ELSE 0 END) * 1.0 / SUM(CASE WHEN Currency = 'CZK' THEN 1 ELSE 0 END) AS ratio\n",
      "FROM customers;\n",
      "```\n",
      "\n",
      "model 4 analysis:\n",
      " Reasoning process:\n",
      "\n",
      "Okay, let's see. The user wants the ratio of customers who pay in EUR compared to those who pay in CZK. Hmm, first, I need to figure out which tables have the currency information. The customers table has a Currency column. So that's where I should look.\n",
      "\n",
      "Wait, but how do I know which customers have paid in EUR or CZK? The Currency column in the customers table probably indicates their preferred currency. But maybe transactions are in different currencies? Wait, the transactions_1k table has a Price column, but the question is about the customers' payment currency, not the transaction's currency. The external knowledge says the ratio is based on the count of Currency = 'EUR' divided by count of Currency = 'CZK'. So it's about the customers' Currency field, not the transaction's price currency.\n",
      "\n",
      "So I need to count how many customers have Currency 'EUR' and how many have 'CZK'. Then divide those two counts. \n",
      "\n",
      "So the steps are: select count of EUR and count of CZK from customers table. Then compute the ratio. \n",
      "\n",
      "But how to do that in SQL. Maybe use a CASE statement or conditional aggregation. For example, SUM(CASE WHEN Currency = 'EUR' THEN 1 ELSE 0 END) as eur_count, same for CZK. Then divide them.\n",
      "\n",
      "Wait, but in SQLite, you can't directly divide two columns in a SELECT unless you use a subquery or a CTE. Alternatively, you can use a subquery to get the two counts and then divide them.\n",
      "\n",
      "Alternatively, use SUM with conditions. Let me think. Let's write:\n",
      "\n",
      "SELECT \n",
      "    SUM(CASE WHEN Currency = 'EUR' THEN 1 ELSE 0 END) / SUM(CASE WHEN Currency = 'CZK' THEN 1 ELSE 0 END) AS ratio\n",
      "FROM customers;\n",
      "\n",
      "But wait, what if there are customers with other currencies? The question is specifically about EUR vs CZK. So the counts would be only for those two. But what if a customer has a different currency? The CASE would ignore them. So that's okay.\n",
      "\n",
      "But need to make sure that the denominators are not zero. But the question probably expects that there are entries for both. However, the user didn't mention handling division by zero, so proceed as per the instruction.\n",
      "\n",
      "So the SQL query would be selecting the ratio as the division of the two counts. Make sure to use the correct column names and table names. The customers table has the Currency column.\n",
      "\n",
      "So the final SQL should be:\n",
      "\n",
      "SELECT \n",
      "    (SELECT COUNT(*) FROM customers WHERE Currency = 'EUR') \n",
      "    / \n",
      "    (SELECT COUNT(*) FROM customers WHERE Currency = 'CZK') \n",
      "    AS ratio;\n",
      "\n",
      "Alternatively, using conditional aggregation:\n",
      "\n",
      "SELECT \n",
      "    SUM(CASE WHEN Currency = 'EUR' THEN 1 ELSE 0 END) * 1.0 \n",
      "    / \n",
      "    SUM(CASE WHEN Currency = 'EUR' THEN 0 ELSE 1 END) \n",
      "    AS ratio\n",
      "FROM customers;\n",
      "\n",
      "Wait, but in the second approach, the denominator would be the count of non-EUR customers. But the question is specifically about EUR vs CZK. So the denominator should be the count of CZK, not others. So the first approach is better. But in the first approach, each subquery counts only for EUR and CZK respectively.\n",
      "\n",
      "So the correct way is to count EUR customers and divide by CZK customers. Therefore, the query would be:\n",
      "\n",
      "SELECT \n",
      "    (SELECT COUNT(*) FROM customers WHERE Currency = 'EUR') \n",
      "    / \n",
      "    (SELECT COUNT(*) FROM customers WHERE Currency = 'CZK') \n",
      "    AS ratio;\n",
      "\n",
      "But need to make sure that the division is done as a float. If both counts are integers, the division might result in integer division. For example, if there are 3 EUR and 2 CZK, 3/2 would be 1.5. But in SQLite, if you divide two integers, it does integer division. So 3/2 would be 1. To avoid that, multiply by 1.0 or cast to real.\n",
      "\n",
      "So perhaps:\n",
      "\n",
      "SELECT \n",
      "    (SELECT COUNT(*) FROM customers WHERE Currency = 'EUR') * 1.0 \n",
      "    / \n",
      "    (SELECT COUNT(*) FROM customers WHERE Currency = 'CZK') \n",
      "    AS ratio;\n",
      "\n",
      "Alternatively, use SUM with CASE statements. But in that case, using SUM(CASE WHEN Currency='EUR' THEN 1 ELSE 0 END) would be the same as COUNT(*), but it's more efficient to use COUNT with a WHERE clause. But either way, the division needs to be a float.\n",
      "\n",
      "So the final query would use the two subqueries, multiply by 1.0 to ensure floating point division. Therefore, the correct SQL is as above.\n",
      "\n",
      "Final answer based om reasoning for this model:\n",
      "\n",
      "\n",
      "```\n",
      "SELECT (SELECT COUNT(*) FROM customers WHERE Currency = 'EUR') * 1.0 / (SELECT COUNT(*) FROM customers WHERE Currency = 'CZK') AS ratio;\n",
      "```\n",
      "\n",
      "model 5 analysis:\n",
      " Reasoning process:\n",
      "\n",
      "Okay, let's see. The user is asking for the ratio of customers who pay in EUR versus those who pay in CZK. So first, I need to figure out how to get the count of customers for each currency.\n",
      "\n",
      "Looking at the tables provided, the 'customers' table has a 'Currency' column. That's where the payment currency information is stored. So I should start by checking that table.\n",
      "\n",
      "The 'customers' table has CustomerID, Segment, and Currency. The question is about customers, so the Currency column in this table is the key here. I need to count how many customers have 'EUR' and how many have 'CZK' in their Currency field.\n",
      "\n",
      "The external knowledge says the ratio is count(Currency='EUR') divided by count(Currency='CZK'). So I need to calculate these two counts and then divide them.\n",
      "\n",
      "In SQL, to count the number of customers with each currency, I can use the COUNT() function with a CASE statement or a WHERE clause. Alternatively, I can use conditional aggregation. For example:\n",
      "\n",
      "SELECT \n",
      "    COUNT(CASE WHEN Currency = 'EUR' THEN 1 END) AS EUR_count,\n",
      "    COUNT(CASE WHEN Currency = 'CZK' THEN 1 END) AS CZK_count\n",
      "FROM customers;\n",
      "\n",
      "But wait, the question asks for the ratio, not the individual counts. So I need to compute EUR_count divided by CZK_count.\n",
      "\n",
      "But wait, what if there are customers with other currencies? The question is specifically about EUR vs. CZK. So the counts should only include those two currencies. However, the problem statement says to use the external knowledge, which just divides the two counts. So even if there are other currencies, the query should just count those two.\n",
      "\n",
      "So the query would be:\n",
      "\n",
      "SELECT \n",
      "    COUNT(CASE WHEN Currency = 'EUR' THEN 1 END) / COUNT(CASE WHEN Currency = 'CZK' THEN 1 END) AS ratio\n",
      "FROM customers;\n",
      "\n",
      "But wait, in SQLite, if you divide two integers, it does integer division. So if the result is a fractional value, it would be truncated. But the question might expect a decimal ratio. However, the user didn't specify, but the external knowledge just says count(Currency='EUR') / count(Currency='CZK'), so maybe it's acceptable as is. Alternatively, to avoid integer division, we can cast one of the counts to REAL.\n",
      "\n",
      "Alternatively, using SUM with conditions. Another approach could be:\n",
      "\n",
      "SELECT \n",
      "    (SELECT COUNT(*) FROM customers WHERE Currency = 'EUR') \n",
      "    / \n",
      "    (SELECT COUNT(*) FROM customers WHERE Currency = 'CZK') AS ratio\n",
      "FROM customers\n",
      "LIMIT 1;\n",
      "\n",
      "But that might not be efficient, but since the customers table is likely small, it's manageable.\n",
      "\n",
      "Wait, but the problem says the answer should be only the SQL query. Also, the user said to make sure the query returns all the information asked without extra. So the final answer would be a query that returns a single value: the ratio.\n",
      "\n",
      "But wait, the first approach with conditional aggregation would return one row with two columns (EUR_count and CZK_count), but the user wants the ratio. So the correct approach is to compute the division.\n",
      "\n",
      "So the correct SQL would be:\n",
      "\n",
      "SELECT \n",
      "    COUNT(CASE WHEN Currency = 'EUR' THEN 1 END) * 1.0 \n",
      "    / \n",
      "    COUNT(CASE WHEN Currency = 'CZK' THEN 1 END) AS ratio\n",
      "FROM customers;\n",
      "\n",
      "But in SQLite, multiplying by 1.0 converts it to a float, ensuring that the division is a float. Alternatively, using COUNT(CASE WHEN ... THEN 1 END) as a numeric value.\n",
      "\n",
      "Alternatively, using subqueries:\n",
      "\n",
      "SELECT \n",
      "    (SELECT COUNT(*) FROM customers WHERE Currency = 'EUR') \n",
      "    / \n",
      "    (SELECT COUNT(*) FROM customers WHERE Currency = 'CZK') \n",
      "    AS ratio;\n",
      "\n",
      "But which is better? The first approach with conditional aggregation is better because it does a single scan of the table, whereas two subqueries would scan the table twice. However, for small tables, it doesn't matter much.\n",
      "\n",
      "But according to the user's instructions, the SQL query must return the ratio. The first approach is correct.\n",
      "\n",
      "So the final SQL query would be:\n",
      "\n",
      "SELECT \n",
      "    COUNT(CASE WHEN Currency = 'EUR' THEN 1 END) * 1.0 \n",
      "    / \n",
      "    COUNT(CASE WHEN Currency = 'CZK' THEN 1 END) \n",
      "    AS ratio\n",
      "FROM customers;\n",
      "\n",
      "But the user's instruction says to only include what is asked. The question asks for the ratio, so the query should return a single column named 'ratio'.\n",
      "\n",
      "Another thing to check: Are there customers with Currency as NULL? The problem says that the Currency column can be null. But in the count, those would be excluded. The problem might want to count only those with a defined currency.\n",
      "\n",
      "But the external knowledge says count(Currency='EUR') which in SQL is equivalent to counting rows where Currency equals 'EUR', which would exclude NULLs. So the query as written is correct.\n",
      "\n",
      "So the final answer is that SQL query.\n",
      "\n",
      "Final answer based om reasoning for this model:\n",
      "\n",
      "\n",
      "```\n",
      "SELECT \n",
      "    COUNT(CASE WHEN Currency = 'EUR' THEN 1 END) * 1.0 \n",
      "    / \n",
      "    COUNT(CASE WHEN Currency = 'CZK' THEN 1 END) \n",
      "    AS ratio\n",
      "FROM customers;\n",
      "```\n",
      "\n",
      "model 6 analysis:\n",
      " Reasoning process:\n",
      "\n",
      "Okay, let's see. The user is asking for the ratio of customers who pay in EUR versus those who pay in CZK. First, I need to figure out where the currency information is stored. Looking at the tables, the customers table has a Currency column. So that's where I need to check.\n",
      "\n",
      "Wait, the question is about customers who pay in EUR and CZK. So I need to count how many customers have 'EUR' in their Currency column and how many have 'CZK'. Then divide those two counts to get the ratio.\n",
      "\n",
      "But how to do that in SQL? I can use COUNT with a condition. Like COUNT(CASE WHEN Currency = 'EUR' THEN 1 END) for EUR count and similarly for CZK. Then divide them.\n",
      "\n",
      "Wait, but the ratio is EUR count divided by CZK count. So the SQL query would select that division. Let me structure it.\n",
      "\n",
      "The customers table has CustomerID, Segment, and Currency. So the query should select from customers. Then calculate the two counts and divide. But need to make sure that if there are no CZK customers, it doesn't cause a division by zero. However, the problem might not require handling that, so proceed as per the question.\n",
      "\n",
      "So the SQL would be something like:\n",
      "\n",
      "SELECT \n",
      "    (COUNT(CASE WHEN Currency = 'EUR' THEN 1 END) * 1.0) / COUNT(CASE WHEN Currency = 'CZK' THEN 1 END) AS Ratio\n",
      "FROM customers;\n",
      "\n",
      "Wait, but in SQLite, dividing integers might result in integer division. So multiplying by 1.0 ensures it's a float. Also, need to make sure that the CASE statements are correctly used. Alternatively, using SUM with conditions.\n",
      "\n",
      "Another way is using SUM(CASE WHEN Currency = 'EUR' THEN 1 ELSE 0 END) for the count. But COUNT with a condition is more efficient.\n",
      "\n",
      "But the problem says ratio is count(EUR)/count(CZK). So the query should compute that. Let me check the tables again to confirm that Currency is in the customers table. Yes, it's there.\n",
      "\n",
      "So the correct query is selecting the ratio by dividing the counts of EUR and CZK customers from the customers table.\n",
      "\n",
      "Final answer based om reasoning for this model:\n",
      "\n",
      "\n",
      "```\n",
      "SELECT \n",
      "    (COUNT(CASE WHEN Currency = 'EUR' THEN 1 END) * 1.0) / COUNT(CASE WHEN Currency = 'CZK' THEN 1 END) AS Ratio\n",
      "FROM customers;\n",
      "```\n",
      "\n",
      "\n",
      "here is avaliable tables below\n",
      "\n",
      "\n",
      "Table: customers\n",
      "CREATE TABLE customers\n",
      "(\n",
      "    CustomerID INTEGER UNIQUE     not null\n",
      "        primary key,\n",
      "    Segment    TEXT null,\n",
      "    Currency   TEXT null\n",
      ")\n",
      "\n",
      "Table: gasstations\n",
      "CREATE TABLE gasstations\n",
      "(\n",
      "    GasStationID INTEGER    UNIQUE   not null\n",
      "        primary key,\n",
      "    ChainID      INTEGER          null,\n",
      "    Country      TEXT null,\n",
      "    Segment      TEXT null\n",
      ")\n",
      "\n",
      "Table: products\n",
      "CREATE TABLE products\n",
      "(\n",
      "    ProductID   INTEGER   UNIQUE      not null\n",
      "        primary key,\n",
      "    Description TEXT null\n",
      ")\n",
      "\n",
      "Table: transactions_1k\n",
      "CREATE TABLE \"transactions_1k\"\n",
      "(\n",
      "    TransactionID INTEGER\n",
      "        primary key autoincrement,\n",
      "    Date          DATE,\n",
      "    Time          TEXT,\n",
      "    CustomerID    INTEGER,\n",
      "    CardID        INTEGER,\n",
      "    GasStationID  INTEGER,\n",
      "    ProductID     INTEGER,\n",
      "    Amount        INTEGER,\n",
      "    Price         REAL\n",
      ")\n",
      "\n",
      "Table: sqlite_sequence\n",
      "CREATE TABLE sqlite_sequence(name,seq)\n",
      "\n",
      "Table: yearmonth\n",
      "CREATE TABLE \"yearmonth\"\n",
      "(\n",
      "    CustomerID  INTEGER not null\n",
      "        references customers\n",
      "            on update cascade on delete cascade\n",
      "        references customers,\n",
      "    Date        TEXT    not null,\n",
      "    Consumption REAL,\n",
      "    primary key (Date, CustomerID)\n",
      ")\n",
      "\n",
      "-- Using valid SQLite and understanding External Knowledge, answer the following questions for the tables provided above.\n",
      "-- What is the ratio of customers who pay in EUR against customers who pay in CZK?\n",
      "-- External Knowledge: ratio of customers who pay in EUR against customers who pay in CZK = count(Currency = 'EUR') / count(Currency = 'CZK').\n",
      "\n",
      "\n",
      "Generate the SQLite for the above question after thinking step by step: \n",
      "\n",
      "\n",
      "Instructions:\n",
      "- Make sure you only output the information that is asked in the question. If the question asks for a specific column, make sure to only include that column in the SELECT clause, nothing more.\n",
      "- The generated query should return all of the information asked in the question without any missing or extra information.\n",
      "- Before generating the final SQL query, please think through the steps of how to write the query.\n",
      "- Do not misuse column names, keep them in quotes `\n",
      "- Carefully understand what colomns belond to what tables\n",
      "- Use only initial column names, change names prohibited\n",
      "        \n",
      "Output Format:\n",
      "In your answer, please enclose the generated SQL query in a code block:\n",
      "```\n",
      "-- Your SQL query\n",
      "```    \n",
      "and nothing else, no exaplains, no comments (asnwer should be less than 512 characters)\n",
      "\n",
      "Take a deep breath and think step by step to find the correct SQL query in SQLite format.\n",
      "\n",
      "Question repetition: What is the ratio of customers who pay in EUR against customers who pay in CZK?\n",
      "\n",
      "Be care! Include only what i want it questiona and nothing else<|im_end|>\n",
      "<|im_start|>assistant\n",
      "<think>\n",
      "\n",
      "</think>\n",
      "\n",
      "\n",
      "\n",
      "\n",
      "Максимальное количество токенов в промптах: 24340\n",
      "\n",
      "начинаем скорринг\n",
      "Загружаем чаты с данными...\n",
      "Данные успешно загружены\n",
      "Начали генерацию SQL запросов\n"
     ]
    },
    {
     "name": "stderr",
     "output_type": "stream",
     "text": [
      "Processed prompts: 100%|██████████| 500/500 [03:14<00:00,  2.57it/s, est. speed input: 20720.67 toks/s, output: 152.02 toks/s]"
     ]
    },
    {
     "name": "stdout",
     "output_type": "stream",
     "text": [
      "extract_think количество ошибок:  0\n",
      "extract_sql количество ошибок:  0\n",
      "Закончили генерацию SQL запросов\n",
      "Начали скорр полученных SQL запросов\n"
     ]
    },
    {
     "name": "stderr",
     "output_type": "stream",
     "text": [
      "\n"
     ]
    },
    {
     "name": "stdout",
     "output_type": "stream",
     "text": [
      "Qwen3-8b Mini DEV Финальный результат EX: 56.20\n",
      "Qwen3-8b процент запросов, которые успешно выполнились Mini DEV: 96.00%\n",
      "====================================================================================================\n",
      "\n",
      "\n",
      "Загружаем чаты с данными...\n",
      "Данные успешно загружены\n",
      "Начали генерацию SQL запросов\n"
     ]
    },
    {
     "name": "stderr",
     "output_type": "stream",
     "text": [
      "Processed prompts: 100%|██████████| 500/500 [03:07<00:00,  2.67it/s, est. speed input: 21146.42 toks/s, output: 159.40 toks/s]"
     ]
    },
    {
     "name": "stdout",
     "output_type": "stream",
     "text": [
      "extract_think количество ошибок:  0\n",
      "extract_sql количество ошибок:  0\n",
      "Закончили генерацию SQL запросов\n",
      "Начали скорр полученных SQL запросов\n"
     ]
    },
    {
     "name": "stderr",
     "output_type": "stream",
     "text": [
      "\n"
     ]
    },
    {
     "name": "stdout",
     "output_type": "stream",
     "text": [
      "Qwen3-8b Mini DEV Финальный результат EX: 56.40\n",
      "Qwen3-8b процент запросов, которые успешно выполнились Mini DEV: 96.60%\n",
      "====================================================================================================\n",
      "\n",
      "\n",
      "Загружаем чаты с данными...\n",
      "Данные успешно загружены\n",
      "Начали генерацию SQL запросов\n"
     ]
    },
    {
     "name": "stderr",
     "output_type": "stream",
     "text": [
      "Processed prompts: 100%|██████████| 500/500 [03:12<00:00,  2.60it/s, est. speed input: 21115.01 toks/s, output: 153.87 toks/s]"
     ]
    },
    {
     "name": "stdout",
     "output_type": "stream",
     "text": [
      "extract_think количество ошибок:  0\n",
      "extract_sql количество ошибок:  0\n",
      "Закончили генерацию SQL запросов\n",
      "Начали скорр полученных SQL запросов\n"
     ]
    },
    {
     "name": "stderr",
     "output_type": "stream",
     "text": [
      "\n"
     ]
    },
    {
     "name": "stdout",
     "output_type": "stream",
     "text": [
      "Qwen3-8b Mini DEV Финальный результат EX: 54.80\n",
      "Qwen3-8b процент запросов, которые успешно выполнились Mini DEV: 96.40%\n",
      "====================================================================================================\n",
      "\n",
      "\n",
      "Загружаем чаты с данными...\n",
      "Данные успешно загружены\n",
      "Начали генерацию SQL запросов\n"
     ]
    },
    {
     "name": "stderr",
     "output_type": "stream",
     "text": [
      "Processed prompts: 100%|██████████| 500/500 [03:07<00:00,  2.67it/s, est. speed input: 21262.80 toks/s, output: 158.54 toks/s]"
     ]
    },
    {
     "name": "stdout",
     "output_type": "stream",
     "text": [
      "extract_think количество ошибок:  0\n",
      "extract_sql количество ошибок:  0\n",
      "Закончили генерацию SQL запросов\n",
      "Начали скорр полученных SQL запросов\n"
     ]
    },
    {
     "name": "stderr",
     "output_type": "stream",
     "text": [
      "\n"
     ]
    },
    {
     "name": "stdout",
     "output_type": "stream",
     "text": [
      "Qwen3-8b Mini DEV Финальный результат EX: 55.00\n",
      "Qwen3-8b процент запросов, которые успешно выполнились Mini DEV: 95.80%\n",
      "====================================================================================================\n",
      "\n",
      "\n",
      "Загружаем чаты с данными...\n",
      "Данные успешно загружены\n",
      "Начали генерацию SQL запросов\n"
     ]
    },
    {
     "name": "stderr",
     "output_type": "stream",
     "text": [
      "Processed prompts: 100%|██████████| 500/500 [03:06<00:00,  2.68it/s, est. speed input: 21153.77 toks/s, output: 157.77 toks/s]"
     ]
    },
    {
     "name": "stdout",
     "output_type": "stream",
     "text": [
      "extract_think количество ошибок:  0\n",
      "extract_sql количество ошибок:  0\n",
      "Закончили генерацию SQL запросов\n",
      "Начали скорр полученных SQL запросов\n"
     ]
    },
    {
     "name": "stderr",
     "output_type": "stream",
     "text": [
      "\n"
     ]
    },
    {
     "name": "stdout",
     "output_type": "stream",
     "text": [
      "Qwen3-8b Mini DEV Финальный результат EX: 54.00\n",
      "Qwen3-8b процент запросов, которые успешно выполнились Mini DEV: 97.20%\n",
      "====================================================================================================\n",
      "\n",
      "\n",
      "Загружаем чаты с данными...\n",
      "Данные успешно загружены\n",
      "Начали генерацию SQL запросов\n"
     ]
    },
    {
     "name": "stderr",
     "output_type": "stream",
     "text": [
      "Processed prompts: 100%|██████████| 500/500 [03:04<00:00,  2.71it/s, est. speed input: 21206.68 toks/s, output: 159.50 toks/s]"
     ]
    },
    {
     "name": "stdout",
     "output_type": "stream",
     "text": [
      "extract_think количество ошибок:  0\n",
      "extract_sql количество ошибок:  0\n",
      "Закончили генерацию SQL запросов\n",
      "Начали скорр полученных SQL запросов\n"
     ]
    },
    {
     "name": "stderr",
     "output_type": "stream",
     "text": [
      "\n"
     ]
    },
    {
     "name": "stdout",
     "output_type": "stream",
     "text": [
      "Qwen3-8b Mini DEV Финальный результат EX: 55.40\n",
      "Qwen3-8b процент запросов, которые успешно выполнились Mini DEV: 97.20%\n",
      "====================================================================================================\n",
      "\n",
      "\n",
      "Загружаем чаты с данными...\n",
      "Данные успешно загружены\n",
      "Начали генерацию SQL запросов\n"
     ]
    },
    {
     "name": "stderr",
     "output_type": "stream",
     "text": [
      "Processed prompts: 100%|██████████| 500/500 [03:05<00:00,  2.69it/s, est. speed input: 21112.23 toks/s, output: 157.48 toks/s]"
     ]
    },
    {
     "name": "stdout",
     "output_type": "stream",
     "text": [
      "extract_think количество ошибок:  0\n",
      "extract_sql количество ошибок:  0\n",
      "Закончили генерацию SQL запросов\n",
      "Начали скорр полученных SQL запросов\n"
     ]
    },
    {
     "name": "stderr",
     "output_type": "stream",
     "text": [
      "\n"
     ]
    },
    {
     "name": "stdout",
     "output_type": "stream",
     "text": [
      "Qwen3-8b Mini DEV Финальный результат EX: 54.40\n",
      "Qwen3-8b процент запросов, которые успешно выполнились Mini DEV: 96.20%\n",
      "====================================================================================================\n",
      "\n",
      "\n",
      "Загружаем чаты с данными...\n",
      "Данные успешно загружены\n",
      "Начали генерацию SQL запросов\n"
     ]
    },
    {
     "name": "stderr",
     "output_type": "stream",
     "text": [
      "Processed prompts: 100%|██████████| 500/500 [03:07<00:00,  2.67it/s, est. speed input: 20757.39 toks/s, output: 157.46 toks/s]"
     ]
    },
    {
     "name": "stdout",
     "output_type": "stream",
     "text": [
      "extract_think количество ошибок:  0\n",
      "extract_sql количество ошибок:  0\n",
      "Закончили генерацию SQL запросов\n",
      "Начали скорр полученных SQL запросов\n"
     ]
    },
    {
     "name": "stderr",
     "output_type": "stream",
     "text": [
      "\n"
     ]
    },
    {
     "name": "stdout",
     "output_type": "stream",
     "text": [
      "Qwen3-8b Mini DEV Финальный результат EX: 56.20\n",
      "Qwen3-8b процент запросов, которые успешно выполнились Mini DEV: 97.40%\n",
      "====================================================================================================\n",
      "\n",
      "\n",
      "Загружаем чаты с данными...\n",
      "Данные успешно загружены\n",
      "Начали генерацию SQL запросов\n"
     ]
    },
    {
     "name": "stderr",
     "output_type": "stream",
     "text": [
      "Processed prompts: 100%|██████████| 500/500 [03:04<00:00,  2.72it/s, est. speed input: 21067.92 toks/s, output: 160.14 toks/s]"
     ]
    },
    {
     "name": "stdout",
     "output_type": "stream",
     "text": [
      "extract_think количество ошибок:  0\n",
      "extract_sql количество ошибок:  0\n",
      "Закончили генерацию SQL запросов\n",
      "Начали скорр полученных SQL запросов\n"
     ]
    },
    {
     "name": "stderr",
     "output_type": "stream",
     "text": [
      "\n"
     ]
    },
    {
     "name": "stdout",
     "output_type": "stream",
     "text": [
      "Qwen3-8b Mini DEV Финальный результат EX: 54.60\n",
      "Qwen3-8b процент запросов, которые успешно выполнились Mini DEV: 96.80%\n",
      "====================================================================================================\n",
      "\n",
      "\n",
      "Загружаем чаты с данными...\n",
      "Данные успешно загружены\n",
      "Начали генерацию SQL запросов\n"
     ]
    },
    {
     "name": "stderr",
     "output_type": "stream",
     "text": [
      "Processed prompts: 100%|██████████| 500/500 [03:05<00:00,  2.70it/s, est. speed input: 20944.55 toks/s, output: 157.53 toks/s]"
     ]
    },
    {
     "name": "stdout",
     "output_type": "stream",
     "text": [
      "extract_think количество ошибок:  0\n",
      "extract_sql количество ошибок:  0\n",
      "Закончили генерацию SQL запросов\n",
      "Начали скорр полученных SQL запросов\n"
     ]
    },
    {
     "name": "stderr",
     "output_type": "stream",
     "text": [
      "\n"
     ]
    },
    {
     "name": "stdout",
     "output_type": "stream",
     "text": [
      "Qwen3-8b Mini DEV Финальный результат EX: 54.60\n",
      "Qwen3-8b процент запросов, которые успешно выполнились Mini DEV: 97.20%\n",
      "====================================================================================================\n",
      "\n",
      "\n",
      "Загружаем чаты с данными...\n",
      "Данные успешно загружены\n",
      "Начали генерацию SQL запросов\n"
     ]
    },
    {
     "name": "stderr",
     "output_type": "stream",
     "text": [
      "Processed prompts: 100%|██████████| 500/500 [03:06<00:00,  2.69it/s, est. speed input: 21071.24 toks/s, output: 157.83 toks/s]"
     ]
    },
    {
     "name": "stdout",
     "output_type": "stream",
     "text": [
      "extract_think количество ошибок:  0\n",
      "extract_sql количество ошибок:  0\n",
      "Закончили генерацию SQL запросов\n",
      "Начали скорр полученных SQL запросов\n"
     ]
    },
    {
     "name": "stderr",
     "output_type": "stream",
     "text": [
      "\n"
     ]
    },
    {
     "name": "stdout",
     "output_type": "stream",
     "text": [
      "Qwen3-8b Mini DEV Финальный результат EX: 53.20\n",
      "Qwen3-8b процент запросов, которые успешно выполнились Mini DEV: 96.60%\n",
      "====================================================================================================\n",
      "\n",
      "\n",
      "Загружаем чаты с данными...\n",
      "Данные успешно загружены\n",
      "Начали генерацию SQL запросов\n"
     ]
    },
    {
     "name": "stderr",
     "output_type": "stream",
     "text": [
      "Processed prompts: 100%|██████████| 500/500 [03:04<00:00,  2.71it/s, est. speed input: 20967.17 toks/s, output: 160.12 toks/s]"
     ]
    },
    {
     "name": "stdout",
     "output_type": "stream",
     "text": [
      "extract_think количество ошибок:  0\n",
      "extract_sql количество ошибок:  0\n",
      "Закончили генерацию SQL запросов\n",
      "Начали скорр полученных SQL запросов\n"
     ]
    },
    {
     "name": "stderr",
     "output_type": "stream",
     "text": [
      "\n"
     ]
    },
    {
     "name": "stdout",
     "output_type": "stream",
     "text": [
      "Qwen3-8b Mini DEV Финальный результат EX: 54.40\n",
      "Qwen3-8b процент запросов, которые успешно выполнились Mini DEV: 97.20%\n",
      "====================================================================================================\n",
      "\n",
      "\n",
      "Загружаем чаты с данными...\n",
      "Данные успешно загружены\n",
      "Начали генерацию SQL запросов\n"
     ]
    },
    {
     "name": "stderr",
     "output_type": "stream",
     "text": [
      "Processed prompts: 100%|██████████| 500/500 [02:57<00:00,  2.82it/s, est. speed input: 21065.13 toks/s, output: 162.69 toks/s]"
     ]
    },
    {
     "name": "stdout",
     "output_type": "stream",
     "text": [
      "extract_think количество ошибок:  0\n",
      "extract_sql количество ошибок:  0\n",
      "Закончили генерацию SQL запросов\n",
      "Начали скорр полученных SQL запросов\n"
     ]
    },
    {
     "name": "stderr",
     "output_type": "stream",
     "text": [
      "\n"
     ]
    },
    {
     "name": "stdout",
     "output_type": "stream",
     "text": [
      "Qwen3-8b Mini DEV Финальный результат EX: 54.20\n",
      "Qwen3-8b процент запросов, которые успешно выполнились Mini DEV: 96.80%\n",
      "====================================================================================================\n",
      "\n",
      "\n",
      "Загружаем чаты с данными...\n",
      "Данные успешно загружены\n",
      "Начали генерацию SQL запросов\n"
     ]
    },
    {
     "name": "stderr",
     "output_type": "stream",
     "text": [
      "Processed prompts: 100%|██████████| 500/500 [02:43<00:00,  3.06it/s, est. speed input: 21180.05 toks/s, output: 178.03 toks/s]"
     ]
    },
    {
     "name": "stdout",
     "output_type": "stream",
     "text": [
      "extract_think количество ошибок:  0\n",
      "extract_sql количество ошибок:  0\n",
      "Закончили генерацию SQL запросов\n",
      "Начали скорр полученных SQL запросов\n"
     ]
    },
    {
     "name": "stderr",
     "output_type": "stream",
     "text": [
      "\n"
     ]
    },
    {
     "name": "stdout",
     "output_type": "stream",
     "text": [
      "Qwen3-8b Mini DEV Финальный результат EX: 54.80\n",
      "Qwen3-8b процент запросов, которые успешно выполнились Mini DEV: 96.60%\n",
      "====================================================================================================\n",
      "\n",
      "\n",
      "Загружаем чаты с данными...\n",
      "Данные успешно загружены\n",
      "Начали генерацию SQL запросов\n"
     ]
    },
    {
     "name": "stderr",
     "output_type": "stream",
     "text": [
      "Processed prompts: 100%|██████████| 500/500 [02:41<00:00,  3.09it/s, est. speed input: 21280.14 toks/s, output: 180.26 toks/s]"
     ]
    },
    {
     "name": "stdout",
     "output_type": "stream",
     "text": [
      "extract_think количество ошибок:  0\n",
      "extract_sql количество ошибок:  0\n",
      "Закончили генерацию SQL запросов\n",
      "Начали скорр полученных SQL запросов\n"
     ]
    },
    {
     "name": "stderr",
     "output_type": "stream",
     "text": [
      "\n"
     ]
    },
    {
     "name": "stdout",
     "output_type": "stream",
     "text": [
      "Qwen3-8b Mini DEV Финальный результат EX: 53.40\n",
      "Qwen3-8b процент запросов, которые успешно выполнились Mini DEV: 95.80%\n",
      "====================================================================================================\n",
      "\n",
      "\n",
      "Загружаем чаты с данными...\n",
      "Данные успешно загружены\n",
      "Начали генерацию SQL запросов\n"
     ]
    },
    {
     "name": "stderr",
     "output_type": "stream",
     "text": [
      "Processed prompts: 100%|██████████| 500/500 [02:43<00:00,  3.06it/s, est. speed input: 21030.81 toks/s, output: 177.33 toks/s]"
     ]
    },
    {
     "name": "stdout",
     "output_type": "stream",
     "text": [
      "extract_think количество ошибок:  0\n",
      "extract_sql количество ошибок:  0\n",
      "Закончили генерацию SQL запросов\n",
      "Начали скорр полученных SQL запросов\n"
     ]
    },
    {
     "name": "stderr",
     "output_type": "stream",
     "text": [
      "\n"
     ]
    },
    {
     "name": "stdout",
     "output_type": "stream",
     "text": [
      "Qwen3-8b Mini DEV Финальный результат EX: 54.40\n",
      "Qwen3-8b процент запросов, которые успешно выполнились Mini DEV: 96.20%\n",
      "====================================================================================================\n",
      "\n",
      "\n",
      "Загружаем чаты с данными...\n",
      "Данные успешно загружены\n",
      "Начали генерацию SQL запросов\n"
     ]
    },
    {
     "name": "stderr",
     "output_type": "stream",
     "text": [
      "Processed prompts: 100%|██████████| 500/500 [02:44<00:00,  3.04it/s, est. speed input: 21081.98 toks/s, output: 180.27 toks/s]"
     ]
    },
    {
     "name": "stdout",
     "output_type": "stream",
     "text": [
      "extract_think количество ошибок:  0\n",
      "extract_sql количество ошибок:  0\n",
      "Закончили генерацию SQL запросов\n",
      "Начали скорр полученных SQL запросов\n"
     ]
    },
    {
     "name": "stderr",
     "output_type": "stream",
     "text": [
      "\n"
     ]
    },
    {
     "name": "stdout",
     "output_type": "stream",
     "text": [
      "Qwen3-8b Mini DEV Финальный результат EX: 55.00\n",
      "Qwen3-8b процент запросов, которые успешно выполнились Mini DEV: 95.60%\n",
      "====================================================================================================\n",
      "\n",
      "\n",
      "Загружаем чаты с данными...\n",
      "Данные успешно загружены\n",
      "Начали генерацию SQL запросов\n"
     ]
    },
    {
     "name": "stderr",
     "output_type": "stream",
     "text": [
      "Processed prompts: 100%|██████████| 500/500 [02:47<00:00,  2.99it/s, est. speed input: 21106.01 toks/s, output: 177.64 toks/s]"
     ]
    },
    {
     "name": "stdout",
     "output_type": "stream",
     "text": [
      "extract_think количество ошибок:  0\n",
      "extract_sql количество ошибок:  0\n",
      "Закончили генерацию SQL запросов\n",
      "Начали скорр полученных SQL запросов\n"
     ]
    },
    {
     "name": "stderr",
     "output_type": "stream",
     "text": [
      "\n"
     ]
    },
    {
     "name": "stdout",
     "output_type": "stream",
     "text": [
      "Qwen3-8b Mini DEV Финальный результат EX: 55.20\n",
      "Qwen3-8b процент запросов, которые успешно выполнились Mini DEV: 96.00%\n",
      "====================================================================================================\n",
      "\n",
      "\n",
      "Загружаем чаты с данными...\n",
      "Данные успешно загружены\n",
      "Начали генерацию SQL запросов\n"
     ]
    },
    {
     "name": "stderr",
     "output_type": "stream",
     "text": [
      "Processed prompts: 100%|██████████| 500/500 [02:51<00:00,  2.92it/s, est. speed input: 20995.92 toks/s, output: 174.61 toks/s]"
     ]
    },
    {
     "name": "stdout",
     "output_type": "stream",
     "text": [
      "extract_think количество ошибок:  0\n",
      "extract_sql количество ошибок:  0\n",
      "Закончили генерацию SQL запросов\n",
      "Начали скорр полученных SQL запросов\n"
     ]
    },
    {
     "name": "stderr",
     "output_type": "stream",
     "text": [
      "\n"
     ]
    },
    {
     "name": "stdout",
     "output_type": "stream",
     "text": [
      "Qwen3-8b Mini DEV Финальный результат EX: 55.60\n",
      "Qwen3-8b процент запросов, которые успешно выполнились Mini DEV: 95.40%\n",
      "====================================================================================================\n",
      "\n",
      "\n",
      "Загружаем чаты с данными...\n",
      "Данные успешно загружены\n",
      "Начали генерацию SQL запросов\n"
     ]
    },
    {
     "name": "stderr",
     "output_type": "stream",
     "text": [
      "Processed prompts: 100%|██████████| 500/500 [02:59<00:00,  2.79it/s, est. speed input: 20849.49 toks/s, output: 165.02 toks/s]"
     ]
    },
    {
     "name": "stdout",
     "output_type": "stream",
     "text": [
      "extract_think количество ошибок:  0\n",
      "extract_sql количество ошибок:  0\n",
      "Закончили генерацию SQL запросов\n",
      "Начали скорр полученных SQL запросов\n"
     ]
    },
    {
     "name": "stderr",
     "output_type": "stream",
     "text": [
      "\n"
     ]
    },
    {
     "name": "stdout",
     "output_type": "stream",
     "text": [
      "Qwen3-8b Mini DEV Финальный результат EX: 56.00\n",
      "Qwen3-8b процент запросов, которые успешно выполнились Mini DEV: 96.60%\n",
      "====================================================================================================\n",
      "\n",
      "\n"
     ]
    }
   ],
   "source": [
    "run_cot_experiment(model,arr_seeds,arr_versions, type_cot,num_observations=num_observations)"
   ]
  },
  {
   "cell_type": "code",
   "execution_count": null,
   "id": "171b2c3c-8791-4729-ab35-c2ce3d8aa2f0",
   "metadata": {},
   "outputs": [],
   "source": []
  }
 ],
 "metadata": {
  "kernelspec": {
   "display_name": "vllm",
   "language": "python",
   "name": "vllm"
  },
  "language_info": {
   "codemirror_mode": {
    "name": "ipython",
    "version": 3
   },
   "file_extension": ".py",
   "mimetype": "text/x-python",
   "name": "python",
   "nbconvert_exporter": "python",
   "pygments_lexer": "ipython3",
   "version": "3.12.4"
  }
 },
 "nbformat": 4,
 "nbformat_minor": 5
}
