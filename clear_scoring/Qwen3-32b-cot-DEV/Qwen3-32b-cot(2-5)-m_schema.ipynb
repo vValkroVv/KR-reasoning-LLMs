{
 "cells": [
  {
   "cell_type": "code",
   "execution_count": 1,
   "id": "6f20e5ea-3a64-4bfa-8502-13bb8469c893",
   "metadata": {},
   "outputs": [],
   "source": [
    "import os, sys\n",
    "sys.path.append(\"/home/vkropoti/vllm\")"
   ]
  },
  {
   "cell_type": "code",
   "execution_count": 2,
   "id": "4fc844b5-83f1-48aa-a6c8-3d93f16a861d",
   "metadata": {},
   "outputs": [
    {
     "name": "stdout",
     "output_type": "stream",
     "text": [
      "INFO 05-20 23:26:46 [__init__.py:239] Automatically detected platform cuda.\n"
     ]
    },
    {
     "name": "stderr",
     "output_type": "stream",
     "text": [
      "2025-05-20 23:26:47,700\tINFO util.py:154 -- Missing packages: ['ipywidgets']. Run `pip install -U ipywidgets`, then restart the notebook server for rich notebook output.\n"
     ]
    }
   ],
   "source": [
    "from src.experiment import run_cot_experiment\n",
    "import random\n",
    "import numpy as np"
   ]
  },
  {
   "cell_type": "markdown",
   "id": "56cbd008-e8be-44cd-a2f8-83886376560e",
   "metadata": {},
   "source": [
    "# part1: reasoning+answer"
   ]
  },
  {
   "cell_type": "markdown",
   "id": "1d4174ff-32eb-4901-9b13-dfc26f6bd8e3",
   "metadata": {},
   "source": [
    "### 2 наблюдения"
   ]
  },
  {
   "cell_type": "code",
   "execution_count": 3,
   "id": "5635dae6-2ae1-4d4d-af1f-dfcd7abc923b",
   "metadata": {},
   "outputs": [
    {
     "name": "stdout",
     "output_type": "stream",
     "text": [
      "[342, 667, 200, 546, 522, 631, 854, 833, 228, 909, 473, 73, 323, 205, 821, 499, 167, 545, 529, 6]\n",
      "model: Qwen3-32B\n"
     ]
    }
   ],
   "source": [
    "n= 20\n",
    "arr_seeds = [random.randint(0,1000) for _ in range(n)]\n",
    "arr_versions = [x for x in range(n)]\n",
    "model = \"Qwen3-32B\"\n",
    "num_observations = 2\n",
    "type_cot = 'all_new'\n",
    "print(arr_seeds)\n",
    "print(f\"model: {model}\")"
   ]
  },
  {
   "cell_type": "code",
   "execution_count": 4,
   "id": "c97ec156-9d39-4d60-b2c7-40545c467f8e",
   "metadata": {
    "scrolled": true
   },
   "outputs": [
    {
     "name": "stdout",
     "output_type": "stream",
     "text": [
      "Загружаем модель...\n"
     ]
    },
    {
     "name": "stderr",
     "output_type": "stream",
     "text": [
      "Loading safetensors checkpoint shards:   0% Completed | 0/17 [00:00<?, ?it/s]\n",
      "Loading safetensors checkpoint shards:   6% Completed | 1/17 [00:01<00:22,  1.41s/it]\n",
      "Loading safetensors checkpoint shards:  12% Completed | 2/17 [00:02<00:21,  1.42s/it]\n",
      "Loading safetensors checkpoint shards:  18% Completed | 3/17 [00:04<00:18,  1.31s/it]\n",
      "Loading safetensors checkpoint shards:  24% Completed | 4/17 [00:05<00:17,  1.38s/it]\n",
      "Loading safetensors checkpoint shards:  29% Completed | 5/17 [00:06<00:16,  1.41s/it]\n",
      "Loading safetensors checkpoint shards:  35% Completed | 6/17 [00:08<00:15,  1.43s/it]\n",
      "Loading safetensors checkpoint shards:  41% Completed | 7/17 [00:09<00:14,  1.42s/it]\n",
      "Loading safetensors checkpoint shards:  47% Completed | 8/17 [00:11<00:13,  1.46s/it]\n",
      "Loading safetensors checkpoint shards:  53% Completed | 9/17 [00:12<00:11,  1.46s/it]\n",
      "Loading safetensors checkpoint shards:  59% Completed | 10/17 [00:14<00:10,  1.46s/it]\n",
      "Loading safetensors checkpoint shards:  65% Completed | 11/17 [00:15<00:08,  1.46s/it]\n",
      "Loading safetensors checkpoint shards:  71% Completed | 12/17 [00:17<00:07,  1.46s/it]\n",
      "Loading safetensors checkpoint shards:  76% Completed | 13/17 [00:18<00:05,  1.47s/it]\n",
      "Loading safetensors checkpoint shards:  82% Completed | 14/17 [00:20<00:04,  1.50s/it]\n",
      "Loading safetensors checkpoint shards:  88% Completed | 15/17 [00:21<00:02,  1.50s/it]\n",
      "Loading safetensors checkpoint shards:  94% Completed | 16/17 [00:23<00:01,  1.49s/it]\n",
      "Loading safetensors checkpoint shards: 100% Completed | 17/17 [00:24<00:00,  1.49s/it]\n",
      "Loading safetensors checkpoint shards: 100% Completed | 17/17 [00:24<00:00,  1.46s/it]\n",
      "\u001b[1;36m(VllmWorker rank=0 pid=3106897)\u001b[0;0m \n"
     ]
    },
    {
     "name": "stdout",
     "output_type": "stream",
     "text": [
      "Модель успешно загружена\n",
      "model_config {'model': '/data/home/vkropoti/models/Qwen3-32B', 'tensor_parallel_size': 2, 'max_model_len': 40000, 'max_new_tokens': 1500, 'temperature': 0, 'top_k': 1, 'top_p': 0.8, 'gpu_memory_utilization': 0.9, 'trust_remote_code': False, 'seed': 342}\n",
      "\n",
      "prompts_config {'path_dev_json': '/home/vkropoti/vllm/dev.json', 'path_sql_dbs': '/data/home/vkropoti/sql_data/dev_databases/', 'use_reasoning': False, 'paths_to_cot': ['/data/home/vkropoti/sql_llm_answers/bird_dev_m_schema/sql_all_new_Qwen3-32B-reasoning-v0', '/data/home/vkropoti/sql_llm_answers/bird_dev_m_schema/sql_all_new_Qwen3-32B-reasoning-v1']}\n",
      "\n",
      "save_config {'path_sql_save': '/data/home/vkropoti/sql_llm_answers/bird_dev_m_schema/sql_all_Qwen3-32B-cot_all_new_think==False_nobs2-v0', 'path_think_save': None, 'path_sql_answers_save': '/data/home/vkropoti/sql_llm_answers/bird_dev_m_schema/sql_predict_Qwen3-32B-cot_all_new_think==False_nobs2-v0', 'path_to_save_scores': '/data/home/vkropoti/sql_llm_answers/bird_dev_m_schema/sql_results_Qwen3-32B-cot_all_new_think==False_nobs2-v0', 'path_to_save_executed': '/data/home/vkropoti/sql_llm_answers/bird_dev_m_schema/sql_executed_Qwen3-32B-cot_all_new_think==False_nobs2-v0'}\n",
      "\n",
      "Модель успешно загружена\n",
      "Пример промпта\n",
      "<|im_start|>system\n",
      "\n",
      "You are a data science expert. Below, you are provided with a database schema and a natural language question. Your task is to understand the schema and generate a valid SQL query to answer the question.\n",
      "\n",
      "Database Engine: SQLite\n",
      "\n",
      "You will be given an additional analysis of other models, please take it into account, so the plan is\n",
      "1. Analyse given addition analysis from other models (find in which analysis the same and differ, how to use that to answer question)\n",
      "2. Combine best from previous part and think how to solve the problem (analyze tables, take care what columns avaliable in each table and so on, check the syntacsis)\n",
      "3. Create the answers. The answer should be only sql query.\n",
      "\n",
      "Carefully follow the instruction and add <|im_end|> and the end of the final answer<|im_end|>\n",
      "<|im_start|>user\n",
      "Here is addition analysis from other models which can be helpfull, please take this into account but be careful (choose the best from each analysis, combine them to make the most proper answer):\n",
      "\n",
      "model 0 analysis:\n",
      " Reasoning process:\n",
      "\n",
      "Okay, let's see. The user wants the highest eligible free rate for K-12 students in Alameda County. The eligible free rate is calculated as Free Meal Count (K-12) divided by Enrollment (K-12). So first, I need to find the right tables.\n",
      "\n",
      "Looking at the schema, the frpm table has the Free Meal Count and Enrollment columns. Also, the frpm table has County Name, which we need to filter for Alameda County. \n",
      "\n",
      "So I should select the maximum value of (Free Meal Count (K-12) / Enrollment (K-12)) from the frpm table where County Name is 'Alameda'. \n",
      "\n",
      "Wait, but need to make sure that the columns are correctly named. In the frpm table, the columns are \"Free Meal Count (K-12)\" and \"Enrollment (K-12)\". Also, the county name is in \"County Name\". \n",
      "\n",
      "So the SQL query would be something like:\n",
      "\n",
      "SELECT MAX(`Percent (%) Eligible Free (K-12)`) FROM frpm WHERE `County Name` = 'Alameda';\n",
      "\n",
      "Wait, but the user's external knowledge says to compute it as the ratio of Free Meal Count to Enrollment. However, the frpm table already has \"Percent (%) Eligible Free (K-12)\", which is exactly that ratio. So maybe I can directly take the max of that column instead of calculating it again. \n",
      "\n",
      "But the user might expect using the actual columns for calculation. However, since the percentage is already provided, using the existing column is more efficient. \n",
      "\n",
      "So the correct approach is to select the maximum value from that percentage column where the county is Alameda. \n",
      "\n",
      "Therefore, the SQL query should be selecting the max of `Percent (%) Eligible Free (K-12)` from frpm where `County Name` is 'Alameda'. \n",
      "\n",
      "I need to make sure that the county name is correctly capitalized. The examples show 'Alameda' as a county name, so it's safe to use that. \n",
      "\n",
      "Also, checking for any possible NULLs, but since the question is about the highest, and there's data, it should work. \n",
      "\n",
      "So the final query is as above.\n",
      "\n",
      "Final answer based om reasoning for this model:\n",
      "\n",
      "\n",
      "```\n",
      "SELECT MAX(`Percent (%) Eligible Free (K-12)`) FROM frpm WHERE `County Name` = 'Alameda';\n",
      "```\n",
      "\n",
      "model 1 analysis:\n",
      " Reasoning process:\n",
      "\n",
      "Okay, let's tackle this problem. The user wants the highest eligible free rate for K-12 students in Alameda County. The eligible free rate is calculated as Free Meal Count (K-12) divided by Enrollment (K-12). \n",
      "\n",
      "First, I need to check which tables have the necessary columns. The 'frpm' table has both 'Free Meal Count (K-12)' and 'Enrollment (K-12)'. Also, the 'County Name' column in 'frpm' can be used to filter for Alameda County.\n",
      "\n",
      "So, I should select those two columns from the 'frpm' table where the County Name is 'Alameda'. Then calculate the division. But wait, the problem is that in SQL, dividing two REAL numbers should give a REAL result. However, to ensure that the division is done correctly without integer division, maybe I need to cast them, but in SQLite, REAL division should be fine.\n",
      "\n",
      "The user wants the highest rate, so I need to compute the maximum value of that division. So the query would be a SELECT MAX(Free Meal Count (K-12)/Enrollment (K-12)) from frpm where County Name is 'Alameda'.\n",
      "\n",
      "Wait, but I need to make sure that Enrollment (K-12) isn't zero to avoid division by zero. However, the problem statement's example data shows enrollment values like 1087.0, so maybe in practice, there's no zero. But since the user didn't mention handling that, I can proceed without it.\n",
      "\n",
      "Now, check the column names. The columns in 'frpm' are 'Free Meal Count (K-12)' and 'Enrollment (K-12)', and 'County Name'. The table name is 'frpm'.\n",
      "\n",
      "Putting it all together, the SQL query should select the maximum value of the division of those two columns, filtered by County Name = 'Alameda'.\n",
      "\n",
      "So the final SQL is:\n",
      "\n",
      "SELECT MAX(`Free Meal Count (K-12)` / `Enrollment (K-12)`) FROM frpm WHERE `County Name` = 'Alameda';\n",
      "\n",
      "Final answer based om reasoning for this model:\n",
      "\n",
      "\n",
      "```\n",
      "SELECT MAX(`Free Meal Count (K-12)` / `Enrollment (K-12)`) FROM frpm WHERE `County Name` = 'Alameda';\n",
      "```\n",
      "\n",
      "\n",
      "here is avaliable tables and their structure below\n",
      "【DB_ID】 california_schools\n",
      "【Schema】\n",
      "# Table: frpm\n",
      "[\n",
      "(CDSCode:TEXT, maps to schools.CDSCode, Primary Key, Examples: [01100170109835, 01100170112607, 01100170118489]),\n",
      "(Academic Year:TEXT, Examples: [2014-2015]),\n",
      "(County Code:TEXT, Examples: [01, 02, 03]),\n",
      "(District Code:INTEGER, Examples: [10017, 31609, 31617]),\n",
      "(School Code:TEXT, Examples: [0109835, 0112607, 0118489]),\n",
      "(County Name:TEXT, Examples: [Alameda, Alpine, Amador]),\n",
      "(District Name:TEXT),\n",
      "(School Name:TEXT, Examples: [FAME Public Charter]),\n",
      "(District Type:TEXT, Examples: [County Office of Education (COE)]),\n",
      "(School Type:TEXT, Examples: [K-12 Schools (Public)]),\n",
      "(Educational Option Type:TEXT, Examples: [Traditional]),\n",
      "(NSLP Provision Status:TEXT, Examples: [Breakfast Provision 2]),\n",
      "(Charter School (Y/N):INTEGER, Examples: [1, 0]),\n",
      "(Charter School Number:TEXT, Examples: [0728, 0811, 1049]),\n",
      "(Charter Funding Type:TEXT, Examples: [Directly funded]),\n",
      "(IRC:INTEGER, Examples: [1, 0]),\n",
      "(Low Grade:TEXT, Examples: [K, 9, 1]),\n",
      "(High Grade:TEXT, Examples: [12, 8, 5]),\n",
      "(Enrollment (K-12):REAL, Examples: [1087.0, 395.0, 244.0]),\n",
      "(Free Meal Count (K-12):REAL, Examples: [565.0, 186.0, 134.0]),\n",
      "(Percent (%) Eligible Free (K-12):REAL, Examples: [0.519779208831647, 0.470886075949367, 0.549180327868853]),\n",
      "(FRPM Count (K-12):REAL, Examples: [715.0, 186.0, 175.0]),\n",
      "(Percent (%) Eligible FRPM (K-12):REAL, Examples: [0.657773689052438, 0.470886075949367, 0.717213114754098]),\n",
      "(Enrollment (Ages 5-17):REAL, Examples: [1070.0, 376.0, 230.0]),\n",
      "(Free Meal Count (Ages 5-17):REAL, Examples: [553.0, 182.0, 128.0]),\n",
      "(Percent (%) Eligible Free (Ages 5-17):REAL, Examples: [0.516822429906542, 0.484042553191489, 0.556521739130435]),\n",
      "(FRPM Count (Ages 5-17):REAL, Examples: [702.0, 182.0, 168.0]),\n",
      "(Percent (%) Eligible FRPM (Ages 5-17):REAL, Examples: [0.65607476635514, 0.484042553191489, 0.730434782608696]),\n",
      "(2013-14 CALPADS Fall 1 Certification Status:INTEGER, Examples: [1])\n",
      "]\n",
      "# Table: satscores\n",
      "[\n",
      "(cds:TEXT, maps to schools.CDSCode, Primary Key, Examples: [10101080000000, 10101080109991, 10101080111682]),\n",
      "(rtype:TEXT, Examples: [D, S]),\n",
      "(sname:TEXT, Examples: [FAME Public Charter]),\n",
      "(dname:TEXT, Examples: [Alameda County Office of Education]),\n",
      "(cname:TEXT, Examples: [Alameda, Amador, Butte]),\n",
      "(enroll12:INTEGER, Examples: [398, 62, 75]),\n",
      "(NumTstTakr:INTEGER, Examples: [88, 17, 71]),\n",
      "(AvgScrRead:INTEGER, Examples: [418, 503, 397]),\n",
      "(AvgScrMath:INTEGER, Examples: [418, 546, 387]),\n",
      "(AvgScrWrite:INTEGER, Examples: [417, 505, 395]),\n",
      "(NumGE1500:INTEGER, Examples: [14, 9, 5])\n",
      "]\n",
      "# Table: schools\n",
      "[\n",
      "(CDSCode:TEXT, Primary Key, Examples: [01100170000000, 01100170109835, 01100170112607]),\n",
      "(NCESDist:TEXT, Examples: [0691051, 0600002, 0600003]),\n",
      "(NCESSchool:TEXT, Examples: [10546, 10947, 12283]),\n",
      "(StatusType:TEXT, Examples: [Active, Closed, Merged]),\n",
      "(County:TEXT, Examples: [Alameda, Alpine, Amador]),\n",
      "(District:TEXT),\n",
      "(School:TEXT, Examples: [FAME Public Charter]),\n",
      "(Street:TEXT, Examples: [313 West Winton Avenue]),\n",
      "(StreetAbr:TEXT, Examples: [313 West Winton Ave.]),\n",
      "(City:TEXT, Examples: [Hayward, Newark, Oakland]),\n",
      "(Zip:TEXT, Examples: [94544-1136, 94560-5359, 94612-3355]),\n",
      "(State:TEXT, Examples: [CA]),\n",
      "(MailStreet:TEXT, Examples: [313 West Winton Avenue]),\n",
      "(MailStrAbr:TEXT, Examples: [313 West Winton Ave.]),\n",
      "(MailCity:TEXT, Examples: [Hayward, Newark, Oakland]),\n",
      "(MailZip:TEXT, Examples: [94544-1136, 94560-5359, 94612]),\n",
      "(MailState:TEXT, Examples: [CA]),\n",
      "(Phone:TEXT, Examples: [(510) 887-0152, (510) 596-8901, (510) 686-4131]),\n",
      "(Ext:TEXT, Examples: [130, 1240, 1200]),\n",
      "(Website:TEXT, Examples: [www.acoe.org]),\n",
      "(OpenDate:DATE, Examples: [2005-08-29]),\n",
      "(ClosedDate:DATE, Examples: [2015-07-31]),\n",
      "(Charter:INTEGER, Examples: [1, 0]),\n",
      "(CharterNum:TEXT, Examples: [0728, 0811, 1049]),\n",
      "(FundingType:TEXT, Examples: [Directly funded]),\n",
      "(DOC:TEXT, Examples: [00, 31, 34]),\n",
      "(DOCType:TEXT, Examples: [County Office of Education (COE)]),\n",
      "(SOC:TEXT, Examples: [65, 66, 60]),\n",
      "(SOCType:TEXT, Examples: [K-12 Schools (Public)]),\n",
      "(EdOpsCode:TEXT, Examples: [TRAD, JUV, COMM]),\n",
      "(EdOpsName:TEXT, Examples: [Traditional]),\n",
      "(EILCode:TEXT, Examples: [ELEMHIGH, HS, ELEM]),\n",
      "(EILName:TEXT, Examples: [Elementary-High Combination]),\n",
      "(GSoffered:TEXT, Examples: [K-12, 9-12, K-8]),\n",
      "(GSserved:TEXT, Examples: [K-12, 9-12, K-7]),\n",
      "(Virtual:TEXT, Examples: [P, N, F]),\n",
      "(Magnet:INTEGER, Examples: [0, 1]),\n",
      "(Latitude:REAL, Examples: [37.658212, 37.521436, 37.80452]),\n",
      "(Longitude:REAL, Examples: [-122.09713, -121.99391, -122.26815]),\n",
      "(AdmFName1:TEXT, Examples: [L Karen, Laura, Clifford]),\n",
      "(AdmLName1:TEXT, Examples: [Monroe, Robell, Thompson]),\n",
      "(AdmEmail1:TEXT),\n",
      "(AdmFName2:TEXT, Examples: [Sau-Lim (Lance), Jennifer, Annalisa]),\n",
      "(AdmLName2:TEXT, Examples: [Tsang, Koelling, Moore]),\n",
      "(AdmEmail2:TEXT),\n",
      "(AdmFName3:TEXT, Examples: [Drew, Irma, Vickie]),\n",
      "(AdmLName3:TEXT, Examples: [Sarratore, Munoz, Chang]),\n",
      "(AdmEmail3:TEXT),\n",
      "(LastUpdate:DATE, Examples: [2015-06-23])\n",
      "]\n",
      "【Foreign keys】\n",
      "frpm.CDSCode=schools.CDSCode\n",
      "satscores.cds=schools.CDSCode\n",
      "\n",
      "-- Using valid SQLite and understanding External Knowledge, answer the following questions for the tables provided above.\n",
      "-- What is the highest eligible free rate for K-12 students in the schools in Alameda County?\n",
      "-- External Knowledge: Eligible free rate for K-12 = `Free Meal Count (K-12)` / `Enrollment (K-12)`\n",
      "\n",
      "\n",
      "Generate the SQLite for the above question after thinking step by step: \n",
      "\n",
      "\n",
      "Instructions:\n",
      "- Make sure you only output the information that is asked in the question. If the question asks for a specific column, make sure to only include that column in the SELECT clause, nothing more.\n",
      "- The generated query should return all of the information asked in the question without any missing or extra information.\n",
      "- Before generating the final SQL query, please think through the steps of how to write the query.\n",
      "- Do not misuse column names, keep them in quotes `\n",
      "- Carefully understand what colomns belond to what tables\n",
      "- Use only initial column names, change names prohibited\n",
      "        \n",
      "Output Format:\n",
      "In your answer, please enclose the generated SQL query in a code block:\n",
      "```\n",
      "-- Your SQL query\n",
      "```    \n",
      "and nothing else, no exaplains, no comments (asnwer should be less than 512 characters)\n",
      "\n",
      "Take a deep breath and think step by step to find the correct SQL query in SQLite format.\n",
      "\n",
      "Question repetition: What is the highest eligible free rate for K-12 students in the schools in Alameda County?\n",
      "\n",
      "Be care! Include only what i want it questiona and nothing else<|im_end|>\n",
      "<|im_start|>assistant\n",
      "<think>\n",
      "\n",
      "</think>\n",
      "\n",
      "\n",
      "\n",
      "\n",
      "Максимальное количество токенов в промптах: 14431\n",
      "\n",
      "начинаем скорринг\n",
      "Загружаем чаты с данными...\n",
      "Данные успешно загружены\n",
      "Начали генерацию SQL запросов\n"
     ]
    },
    {
     "name": "stderr",
     "output_type": "stream",
     "text": [
      "Processed prompts: 100%|██████████| 1534/1534 [10:55<00:00,  2.34it/s, est. speed input: 9687.53 toks/s, output: 129.59 toks/s]"
     ]
    },
    {
     "name": "stdout",
     "output_type": "stream",
     "text": [
      "extract_think количество ошибок:  0\n",
      "extract_sql количество ошибок:  0\n",
      "Закончили генерацию SQL запросов\n",
      "Начали скорр полученных SQL запросов\n"
     ]
    },
    {
     "name": "stderr",
     "output_type": "stream",
     "text": [
      "\n"
     ]
    },
    {
     "name": "stdout",
     "output_type": "stream",
     "text": [
      "Qwen3-32B DEV Финальный результат EX: 61.86\n",
      "Qwen3-32B процент запросов, которые успешно выполнились DEV: 96.68%\n",
      "====================================================================================================\n",
      "\n",
      "\n",
      "Загружаем чаты с данными...\n",
      "Данные успешно загружены\n",
      "Начали генерацию SQL запросов\n"
     ]
    },
    {
     "name": "stderr",
     "output_type": "stream",
     "text": [
      "Processed prompts: 100%|██████████| 1534/1534 [10:51<00:00,  2.35it/s, est. speed input: 9735.82 toks/s, output: 128.53 toks/s]"
     ]
    },
    {
     "name": "stdout",
     "output_type": "stream",
     "text": [
      "extract_think количество ошибок:  0\n",
      "extract_sql количество ошибок:  0\n",
      "Закончили генерацию SQL запросов\n",
      "Начали скорр полученных SQL запросов\n"
     ]
    },
    {
     "name": "stderr",
     "output_type": "stream",
     "text": [
      "\n",
      "Exception ignored in: <bound method IPythonKernel._clean_thread_parent_frames of <ipykernel.ipkernel.IPythonKernel object at 0x7f20931ab260>>\n",
      "Traceback (most recent call last):\n",
      "  File \"/data/home/vkropoti/vllm/lib64/python3.12/site-packages/ipykernel/ipkernel.py\", line 775, in _clean_thread_parent_frames\n",
      "    def _clean_thread_parent_frames(\n",
      "\n",
      "func_timeout.dafunc.FunctionTimedOut8725125968964812479: Function execute_query (args=('/data/home/vkropoti/sql_data/dev_databases/', 'financial', \"SELECT T1.account_id FROM trans AS T1 INNER JOIN account AS T2 ON T1.account_id = T2.account_id WHERE STRFTIME('%Y', T1.date) = '1998' AND T1.operation = 'VYBER KARTOU' AND T1.amount < (SELECT AVG(amount) FROM trans WHERE STRFTIME('%Y', date) = '1998')\", \"SELECT DISTINCT `client`.`client_id`\\nFROM `trans`\\nJOIN `account` ON `trans`.`account_id` = `account`.`account_id`\\nJOIN `disp` ON `account`.`account_id` = `disp`.`account_id`\\nJOIN `client` ON `disp`.`client_id` = `client`.`client_id`\\nWHERE `trans`.`operation` = 'VYBER KARTOU'\\nAND `trans`.`date` BETWEEN '1998-01-01' AND '1998-12-31'\\nAND `trans`.`amount` < (\\n    SELECT AVG(`amount`)\\n    FROM `trans`\\n    WHERE `operation` = 'VYBER KARTOU'\\n    AND `date` BETWEEN '1998-01-01' AND '1998-12-31'\\n);\")) (kwargs={}) timed out after 5.000000 seconds.\n",
      "\n"
     ]
    },
    {
     "name": "stdout",
     "output_type": "stream",
     "text": [
      "Qwen3-32B DEV Финальный результат EX: 62.19\n",
      "Qwen3-32B процент запросов, которые успешно выполнились DEV: 97.07%\n",
      "====================================================================================================\n",
      "\n",
      "\n",
      "Загружаем чаты с данными...\n",
      "Данные успешно загружены\n",
      "Начали генерацию SQL запросов\n"
     ]
    },
    {
     "name": "stderr",
     "output_type": "stream",
     "text": [
      "Processed prompts: 100%|██████████| 1534/1534 [11:07<00:00,  2.30it/s, est. speed input: 9676.34 toks/s, output: 125.99 toks/s]"
     ]
    },
    {
     "name": "stdout",
     "output_type": "stream",
     "text": [
      "extract_think количество ошибок:  0\n",
      "extract_sql количество ошибок:  0\n",
      "Закончили генерацию SQL запросов\n",
      "Начали скорр полученных SQL запросов\n"
     ]
    },
    {
     "name": "stderr",
     "output_type": "stream",
     "text": [
      "\n",
      "Exception ignored in: <bound method IPythonKernel._clean_thread_parent_frames of <ipykernel.ipkernel.IPythonKernel object at 0x7f20931ab260>>\n",
      "Traceback (most recent call last):\n",
      "  File \"/data/home/vkropoti/vllm/lib64/python3.12/site-packages/ipykernel/ipkernel.py\", line 775, in _clean_thread_parent_frames\n",
      "    def _clean_thread_parent_frames(\n",
      "\n",
      "func_timeout.dafunc.FunctionTimedOut6552745594666266280: Function execute_query (args=('/data/home/vkropoti/sql_data/dev_databases/', 'financial', \"SELECT T1.account_id FROM trans AS T1 INNER JOIN account AS T2 ON T1.account_id = T2.account_id WHERE STRFTIME('%Y', T1.date) = '1998' AND T1.operation = 'VYBER KARTOU' AND T1.amount < (SELECT AVG(amount) FROM trans WHERE STRFTIME('%Y', date) = '1998')\", \"SELECT DISTINCT `client`.`client_id`\\nFROM `trans`\\nJOIN `account` ON `trans`.`account_id` = `account`.`account_id`\\nJOIN `disp` ON `account`.`account_id` = `disp`.`account_id`\\nJOIN `client` ON `disp`.`client_id` = `client`.`client_id`\\nWHERE `trans`.`operation` = 'VYBER KARTOU'\\nAND `trans`.`date` BETWEEN '1998-01-01' AND '1998-12-31'\\nAND `trans`.`amount` < (\\n    SELECT AVG(`amount`)\\n    FROM `trans`\\n    WHERE `operation` = 'VYBER KARTOU'\\n    AND `date` BETWEEN '1998-01-01' AND '1998-12-31'\\n);\")) (kwargs={}) timed out after 5.000000 seconds.\n",
      "\n"
     ]
    },
    {
     "name": "stdout",
     "output_type": "stream",
     "text": [
      "Qwen3-32B DEV Финальный результат EX: 61.41\n",
      "Qwen3-32B процент запросов, которые успешно выполнились DEV: 97.00%\n",
      "====================================================================================================\n",
      "\n",
      "\n",
      "Загружаем чаты с данными...\n",
      "Данные успешно загружены\n",
      "Начали генерацию SQL запросов\n"
     ]
    },
    {
     "name": "stderr",
     "output_type": "stream",
     "text": [
      "Processed prompts: 100%|██████████| 1534/1534 [11:14<00:00,  2.27it/s, est. speed input: 9685.77 toks/s, output: 125.09 toks/s]"
     ]
    },
    {
     "name": "stdout",
     "output_type": "stream",
     "text": [
      "extract_think количество ошибок:  0\n",
      "extract_sql количество ошибок:  0\n",
      "Закончили генерацию SQL запросов\n",
      "Начали скорр полученных SQL запросов\n"
     ]
    },
    {
     "name": "stderr",
     "output_type": "stream",
     "text": [
      "\n"
     ]
    },
    {
     "name": "stdout",
     "output_type": "stream",
     "text": [
      "Qwen3-32B DEV Финальный результат EX: 62.13\n",
      "Qwen3-32B процент запросов, которые успешно выполнились DEV: 96.54%\n",
      "====================================================================================================\n",
      "\n",
      "\n",
      "Загружаем чаты с данными...\n",
      "Данные успешно загружены\n",
      "Начали генерацию SQL запросов\n"
     ]
    },
    {
     "name": "stderr",
     "output_type": "stream",
     "text": [
      "Processed prompts: 100%|██████████| 1534/1534 [11:12<00:00,  2.28it/s, est. speed input: 9694.78 toks/s, output: 126.14 toks/s]"
     ]
    },
    {
     "name": "stdout",
     "output_type": "stream",
     "text": [
      "extract_think количество ошибок:  0\n",
      "extract_sql количество ошибок:  0\n",
      "Закончили генерацию SQL запросов\n",
      "Начали скорр полученных SQL запросов\n"
     ]
    },
    {
     "name": "stderr",
     "output_type": "stream",
     "text": [
      "\n"
     ]
    },
    {
     "name": "stdout",
     "output_type": "stream",
     "text": [
      "Qwen3-32B DEV Финальный результат EX: 62.26\n",
      "Qwen3-32B процент запросов, которые успешно выполнились DEV: 96.81%\n",
      "====================================================================================================\n",
      "\n",
      "\n",
      "Загружаем чаты с данными...\n",
      "Данные успешно загружены\n",
      "Начали генерацию SQL запросов\n"
     ]
    },
    {
     "name": "stderr",
     "output_type": "stream",
     "text": [
      "Processed prompts: 100%|██████████| 1534/1534 [11:06<00:00,  2.30it/s, est. speed input: 9700.79 toks/s, output: 125.91 toks/s]"
     ]
    },
    {
     "name": "stdout",
     "output_type": "stream",
     "text": [
      "extract_think количество ошибок:  0\n",
      "extract_sql количество ошибок:  0\n",
      "Закончили генерацию SQL запросов\n",
      "Начали скорр полученных SQL запросов\n"
     ]
    },
    {
     "name": "stderr",
     "output_type": "stream",
     "text": [
      "\n"
     ]
    },
    {
     "name": "stdout",
     "output_type": "stream",
     "text": [
      "Qwen3-32B DEV Финальный результат EX: 61.60\n",
      "Qwen3-32B процент запросов, которые успешно выполнились DEV: 96.94%\n",
      "====================================================================================================\n",
      "\n",
      "\n",
      "Загружаем чаты с данными...\n",
      "Данные успешно загружены\n",
      "Начали генерацию SQL запросов\n"
     ]
    },
    {
     "name": "stderr",
     "output_type": "stream",
     "text": [
      "Processed prompts: 100%|██████████| 1534/1534 [11:01<00:00,  2.32it/s, est. speed input: 9650.59 toks/s, output: 127.83 toks/s]"
     ]
    },
    {
     "name": "stdout",
     "output_type": "stream",
     "text": [
      "extract_think количество ошибок:  0\n",
      "extract_sql количество ошибок:  0\n",
      "Закончили генерацию SQL запросов\n",
      "Начали скорр полученных SQL запросов\n"
     ]
    },
    {
     "name": "stderr",
     "output_type": "stream",
     "text": [
      "\n"
     ]
    },
    {
     "name": "stdout",
     "output_type": "stream",
     "text": [
      "Qwen3-32B DEV Финальный результат EX: 62.26\n",
      "Qwen3-32B процент запросов, которые успешно выполнились DEV: 97.00%\n",
      "====================================================================================================\n",
      "\n",
      "\n",
      "Загружаем чаты с данными...\n",
      "Данные успешно загружены\n",
      "Начали генерацию SQL запросов\n"
     ]
    },
    {
     "name": "stderr",
     "output_type": "stream",
     "text": [
      "Processed prompts: 100%|██████████| 1534/1534 [11:02<00:00,  2.32it/s, est. speed input: 9638.75 toks/s, output: 127.49 toks/s]"
     ]
    },
    {
     "name": "stdout",
     "output_type": "stream",
     "text": [
      "extract_think количество ошибок:  0\n",
      "extract_sql количество ошибок:  0\n",
      "Закончили генерацию SQL запросов\n",
      "Начали скорр полученных SQL запросов\n"
     ]
    },
    {
     "name": "stderr",
     "output_type": "stream",
     "text": [
      "\n"
     ]
    },
    {
     "name": "stdout",
     "output_type": "stream",
     "text": [
      "Qwen3-32B DEV Финальный результат EX: 61.47\n",
      "Qwen3-32B процент запросов, которые успешно выполнились DEV: 96.87%\n",
      "====================================================================================================\n",
      "\n",
      "\n",
      "Загружаем чаты с данными...\n",
      "Данные успешно загружены\n",
      "Начали генерацию SQL запросов\n"
     ]
    },
    {
     "name": "stderr",
     "output_type": "stream",
     "text": [
      "Processed prompts: 100%|██████████| 1534/1534 [11:07<00:00,  2.30it/s, est. speed input: 9635.37 toks/s, output: 126.28 toks/s]"
     ]
    },
    {
     "name": "stdout",
     "output_type": "stream",
     "text": [
      "extract_think количество ошибок:  0\n",
      "extract_sql количество ошибок:  0\n",
      "Закончили генерацию SQL запросов\n",
      "Начали скорр полученных SQL запросов\n"
     ]
    },
    {
     "name": "stderr",
     "output_type": "stream",
     "text": [
      "\n"
     ]
    },
    {
     "name": "stdout",
     "output_type": "stream",
     "text": [
      "Qwen3-32B DEV Финальный результат EX: 61.08\n",
      "Qwen3-32B процент запросов, которые успешно выполнились DEV: 97.00%\n",
      "====================================================================================================\n",
      "\n",
      "\n",
      "Загружаем чаты с данными...\n",
      "Данные успешно загружены\n",
      "Начали генерацию SQL запросов\n"
     ]
    },
    {
     "name": "stderr",
     "output_type": "stream",
     "text": [
      "Processed prompts: 100%|██████████| 1534/1534 [11:07<00:00,  2.30it/s, est. speed input: 9693.50 toks/s, output: 126.10 toks/s]"
     ]
    },
    {
     "name": "stdout",
     "output_type": "stream",
     "text": [
      "extract_think количество ошибок:  0\n",
      "extract_sql количество ошибок:  0\n",
      "Закончили генерацию SQL запросов\n",
      "Начали скорр полученных SQL запросов\n"
     ]
    },
    {
     "name": "stderr",
     "output_type": "stream",
     "text": [
      "\n"
     ]
    },
    {
     "name": "stdout",
     "output_type": "stream",
     "text": [
      "Qwen3-32B DEV Финальный результат EX: 60.82\n",
      "Qwen3-32B процент запросов, которые успешно выполнились DEV: 96.87%\n",
      "====================================================================================================\n",
      "\n",
      "\n",
      "Загружаем чаты с данными...\n",
      "Данные успешно загружены\n",
      "Начали генерацию SQL запросов\n"
     ]
    },
    {
     "name": "stderr",
     "output_type": "stream",
     "text": [
      "Processed prompts: 100%|██████████| 1534/1534 [11:05<00:00,  2.31it/s, est. speed input: 9692.83 toks/s, output: 126.72 toks/s]"
     ]
    },
    {
     "name": "stdout",
     "output_type": "stream",
     "text": [
      "extract_think количество ошибок:  0\n",
      "extract_sql количество ошибок:  0\n",
      "Закончили генерацию SQL запросов\n",
      "Начали скорр полученных SQL запросов\n"
     ]
    },
    {
     "name": "stderr",
     "output_type": "stream",
     "text": [
      "\n"
     ]
    },
    {
     "name": "stdout",
     "output_type": "stream",
     "text": [
      "Qwen3-32B DEV Финальный результат EX: 60.82\n",
      "Qwen3-32B процент запросов, которые успешно выполнились DEV: 96.87%\n",
      "====================================================================================================\n",
      "\n",
      "\n",
      "Загружаем чаты с данными...\n",
      "Данные успешно загружены\n",
      "Начали генерацию SQL запросов\n"
     ]
    },
    {
     "name": "stderr",
     "output_type": "stream",
     "text": [
      "Processed prompts: 100%|██████████| 1534/1534 [11:08<00:00,  2.30it/s, est. speed input: 9649.69 toks/s, output: 126.51 toks/s]"
     ]
    },
    {
     "name": "stdout",
     "output_type": "stream",
     "text": [
      "extract_think количество ошибок:  0\n",
      "extract_sql количество ошибок:  0\n",
      "Закончили генерацию SQL запросов\n",
      "Начали скорр полученных SQL запросов\n"
     ]
    },
    {
     "name": "stderr",
     "output_type": "stream",
     "text": [
      "\n"
     ]
    },
    {
     "name": "stdout",
     "output_type": "stream",
     "text": [
      "Qwen3-32B DEV Финальный результат EX: 61.54\n",
      "Qwen3-32B процент запросов, которые успешно выполнились DEV: 97.13%\n",
      "====================================================================================================\n",
      "\n",
      "\n",
      "Загружаем чаты с данными...\n",
      "Данные успешно загружены\n",
      "Начали генерацию SQL запросов\n"
     ]
    },
    {
     "name": "stderr",
     "output_type": "stream",
     "text": [
      "Processed prompts: 100%|██████████| 1534/1534 [10:59<00:00,  2.33it/s, est. speed input: 9732.96 toks/s, output: 127.08 toks/s]"
     ]
    },
    {
     "name": "stdout",
     "output_type": "stream",
     "text": [
      "extract_think количество ошибок:  0\n",
      "extract_sql количество ошибок:  0\n",
      "Закончили генерацию SQL запросов\n",
      "Начали скорр полученных SQL запросов\n"
     ]
    },
    {
     "name": "stderr",
     "output_type": "stream",
     "text": [
      "\n"
     ]
    },
    {
     "name": "stdout",
     "output_type": "stream",
     "text": [
      "Qwen3-32B DEV Финальный результат EX: 61.21\n",
      "Qwen3-32B процент запросов, которые успешно выполнились DEV: 97.33%\n",
      "====================================================================================================\n",
      "\n",
      "\n",
      "Загружаем чаты с данными...\n",
      "Данные успешно загружены\n",
      "Начали генерацию SQL запросов\n"
     ]
    },
    {
     "name": "stderr",
     "output_type": "stream",
     "text": [
      "Processed prompts: 100%|██████████| 1534/1534 [11:06<00:00,  2.30it/s, est. speed input: 9752.07 toks/s, output: 125.22 toks/s]"
     ]
    },
    {
     "name": "stdout",
     "output_type": "stream",
     "text": [
      "extract_think количество ошибок:  0\n",
      "extract_sql количество ошибок:  0\n",
      "Закончили генерацию SQL запросов\n",
      "Начали скорр полученных SQL запросов\n"
     ]
    },
    {
     "name": "stderr",
     "output_type": "stream",
     "text": [
      "\n"
     ]
    },
    {
     "name": "stdout",
     "output_type": "stream",
     "text": [
      "Qwen3-32B DEV Финальный результат EX: 61.86\n",
      "Qwen3-32B процент запросов, которые успешно выполнились DEV: 96.48%\n",
      "====================================================================================================\n",
      "\n",
      "\n",
      "Загружаем чаты с данными...\n",
      "Данные успешно загружены\n",
      "Начали генерацию SQL запросов\n"
     ]
    },
    {
     "name": "stderr",
     "output_type": "stream",
     "text": [
      "Processed prompts: 100%|██████████| 1534/1534 [11:18<00:00,  2.26it/s, est. speed input: 9636.61 toks/s, output: 124.02 toks/s]"
     ]
    },
    {
     "name": "stdout",
     "output_type": "stream",
     "text": [
      "extract_think количество ошибок:  0\n",
      "extract_sql количество ошибок:  0\n",
      "Закончили генерацию SQL запросов\n",
      "Начали скорр полученных SQL запросов\n"
     ]
    },
    {
     "name": "stderr",
     "output_type": "stream",
     "text": [
      "\n"
     ]
    },
    {
     "name": "stdout",
     "output_type": "stream",
     "text": [
      "Qwen3-32B DEV Финальный результат EX: 62.13\n",
      "Qwen3-32B процент запросов, которые успешно выполнились DEV: 96.68%\n",
      "====================================================================================================\n",
      "\n",
      "\n",
      "Загружаем чаты с данными...\n",
      "Данные успешно загружены\n",
      "Начали генерацию SQL запросов\n"
     ]
    },
    {
     "name": "stderr",
     "output_type": "stream",
     "text": [
      "Processed prompts: 100%|██████████| 1534/1534 [11:06<00:00,  2.30it/s, est. speed input: 9653.27 toks/s, output: 125.40 toks/s]"
     ]
    },
    {
     "name": "stdout",
     "output_type": "stream",
     "text": [
      "extract_think количество ошибок:  0\n",
      "extract_sql количество ошибок:  0\n",
      "Закончили генерацию SQL запросов\n",
      "Начали скорр полученных SQL запросов\n"
     ]
    },
    {
     "name": "stderr",
     "output_type": "stream",
     "text": [
      "\n"
     ]
    },
    {
     "name": "stdout",
     "output_type": "stream",
     "text": [
      "Qwen3-32B DEV Финальный результат EX: 61.15\n",
      "Qwen3-32B процент запросов, которые успешно выполнились DEV: 96.81%\n",
      "====================================================================================================\n",
      "\n",
      "\n",
      "Загружаем чаты с данными...\n",
      "Данные успешно загружены\n",
      "Начали генерацию SQL запросов\n"
     ]
    },
    {
     "name": "stderr",
     "output_type": "stream",
     "text": [
      "Processed prompts: 100%|██████████| 1534/1534 [10:57<00:00,  2.33it/s, est. speed input: 9713.78 toks/s, output: 127.93 toks/s]"
     ]
    },
    {
     "name": "stdout",
     "output_type": "stream",
     "text": [
      "extract_think количество ошибок:  0\n",
      "extract_sql количество ошибок:  0\n",
      "Закончили генерацию SQL запросов\n",
      "Начали скорр полученных SQL запросов\n"
     ]
    },
    {
     "name": "stderr",
     "output_type": "stream",
     "text": [
      "\n"
     ]
    },
    {
     "name": "stdout",
     "output_type": "stream",
     "text": [
      "Qwen3-32B DEV Финальный результат EX: 61.67\n",
      "Qwen3-32B процент запросов, которые успешно выполнились DEV: 97.13%\n",
      "====================================================================================================\n",
      "\n",
      "\n",
      "Загружаем чаты с данными...\n",
      "Данные успешно загружены\n",
      "Начали генерацию SQL запросов\n"
     ]
    },
    {
     "name": "stderr",
     "output_type": "stream",
     "text": [
      "Processed prompts: 100%|██████████| 1534/1534 [10:58<00:00,  2.33it/s, est. speed input: 9696.74 toks/s, output: 128.50 toks/s]"
     ]
    },
    {
     "name": "stdout",
     "output_type": "stream",
     "text": [
      "extract_think количество ошибок:  0\n",
      "extract_sql количество ошибок:  0\n",
      "Закончили генерацию SQL запросов\n",
      "Начали скорр полученных SQL запросов\n"
     ]
    },
    {
     "name": "stderr",
     "output_type": "stream",
     "text": [
      "\n"
     ]
    },
    {
     "name": "stdout",
     "output_type": "stream",
     "text": [
      "Qwen3-32B DEV Финальный результат EX: 61.47\n",
      "Qwen3-32B процент запросов, которые успешно выполнились DEV: 97.00%\n",
      "====================================================================================================\n",
      "\n",
      "\n",
      "Загружаем чаты с данными...\n",
      "Данные успешно загружены\n",
      "Начали генерацию SQL запросов\n"
     ]
    },
    {
     "name": "stderr",
     "output_type": "stream",
     "text": [
      "Processed prompts: 100%|██████████| 1534/1534 [11:04<00:00,  2.31it/s, est. speed input: 9652.42 toks/s, output: 126.37 toks/s]"
     ]
    },
    {
     "name": "stdout",
     "output_type": "stream",
     "text": [
      "extract_think количество ошибок:  0\n",
      "extract_sql количество ошибок:  0\n",
      "Закончили генерацию SQL запросов\n",
      "Начали скорр полученных SQL запросов\n"
     ]
    },
    {
     "name": "stderr",
     "output_type": "stream",
     "text": [
      "\n"
     ]
    },
    {
     "name": "stdout",
     "output_type": "stream",
     "text": [
      "Qwen3-32B DEV Финальный результат EX: 61.41\n",
      "Qwen3-32B процент запросов, которые успешно выполнились DEV: 97.07%\n",
      "====================================================================================================\n",
      "\n",
      "\n",
      "Загружаем чаты с данными...\n",
      "Данные успешно загружены\n",
      "Начали генерацию SQL запросов\n"
     ]
    },
    {
     "name": "stderr",
     "output_type": "stream",
     "text": [
      "Processed prompts: 100%|██████████| 1534/1534 [11:03<00:00,  2.31it/s, est. speed input: 9651.67 toks/s, output: 127.28 toks/s]"
     ]
    },
    {
     "name": "stdout",
     "output_type": "stream",
     "text": [
      "extract_think количество ошибок:  0\n",
      "extract_sql количество ошибок:  0\n",
      "Закончили генерацию SQL запросов\n",
      "Начали скорр полученных SQL запросов\n"
     ]
    },
    {
     "name": "stderr",
     "output_type": "stream",
     "text": [
      "\n"
     ]
    },
    {
     "name": "stdout",
     "output_type": "stream",
     "text": [
      "Qwen3-32B DEV Финальный результат EX: 61.80\n",
      "Qwen3-32B процент запросов, которые успешно выполнились DEV: 97.07%\n",
      "====================================================================================================\n",
      "\n",
      "\n"
     ]
    }
   ],
   "source": [
    "run_cot_experiment(model,arr_seeds,arr_versions, type_cot, num_observations=num_observations)"
   ]
  },
  {
   "cell_type": "markdown",
   "id": "6046825c-8b23-4466-9c8c-2bd8d22da520",
   "metadata": {},
   "source": [
    "## 3 наблюдения"
   ]
  },
  {
   "cell_type": "code",
   "execution_count": 3,
   "id": "087d84b5-c110-41ff-a60d-7dbdeb15ffce",
   "metadata": {},
   "outputs": [
    {
     "name": "stdout",
     "output_type": "stream",
     "text": [
      "[70, 466, 955, 886, 359, 37, 101, 871, 780, 465, 185, 560, 619, 842, 47, 623, 599, 15, 241, 99]\n",
      "model: Qwen3-32B\n"
     ]
    }
   ],
   "source": [
    "n= 20\n",
    "arr_seeds = [random.randint(0,1000) for _ in range(n)]\n",
    "arr_versions = [x for x in range(n)]\n",
    "model = \"Qwen3-32B\"\n",
    "num_observations = 3\n",
    "type_cot = 'all_new'\n",
    "print(arr_seeds)\n",
    "print(f\"model: {model}\")"
   ]
  },
  {
   "cell_type": "code",
   "execution_count": 4,
   "id": "75073cd5-a80a-47f6-90d0-af48f09fc511",
   "metadata": {
    "scrolled": true
   },
   "outputs": [
    {
     "name": "stdout",
     "output_type": "stream",
     "text": [
      "Загружаем модель...\n"
     ]
    },
    {
     "name": "stderr",
     "output_type": "stream",
     "text": [
      "Loading safetensors checkpoint shards:   0% Completed | 0/17 [00:00<?, ?it/s]\n",
      "Loading safetensors checkpoint shards:   6% Completed | 1/17 [00:01<00:25,  1.61s/it]\n",
      "Loading safetensors checkpoint shards:  12% Completed | 2/17 [00:03<00:24,  1.61s/it]\n",
      "Loading safetensors checkpoint shards:  18% Completed | 3/17 [00:04<00:20,  1.47s/it]\n",
      "Loading safetensors checkpoint shards:  24% Completed | 4/17 [00:06<00:19,  1.52s/it]\n",
      "Loading safetensors checkpoint shards:  29% Completed | 5/17 [00:07<00:18,  1.57s/it]\n",
      "Loading safetensors checkpoint shards:  35% Completed | 6/17 [00:09<00:17,  1.59s/it]\n",
      "Loading safetensors checkpoint shards:  41% Completed | 7/17 [00:11<00:16,  1.60s/it]\n",
      "Loading safetensors checkpoint shards:  47% Completed | 8/17 [00:12<00:14,  1.61s/it]\n",
      "Loading safetensors checkpoint shards:  53% Completed | 9/17 [00:14<00:12,  1.61s/it]\n",
      "Loading safetensors checkpoint shards:  59% Completed | 10/17 [00:15<00:11,  1.60s/it]\n",
      "Loading safetensors checkpoint shards:  65% Completed | 11/17 [00:17<00:09,  1.60s/it]\n",
      "Loading safetensors checkpoint shards:  71% Completed | 12/17 [00:19<00:08,  1.60s/it]\n",
      "Loading safetensors checkpoint shards:  76% Completed | 13/17 [00:20<00:06,  1.60s/it]\n",
      "Loading safetensors checkpoint shards:  82% Completed | 14/17 [00:22<00:04,  1.60s/it]\n",
      "Loading safetensors checkpoint shards:  88% Completed | 15/17 [00:23<00:03,  1.61s/it]\n",
      "Loading safetensors checkpoint shards:  94% Completed | 16/17 [00:25<00:01,  1.60s/it]\n",
      "Loading safetensors checkpoint shards: 100% Completed | 17/17 [00:27<00:00,  1.60s/it]\n",
      "Loading safetensors checkpoint shards: 100% Completed | 17/17 [00:27<00:00,  1.59s/it]\n",
      "\u001b[1;36m(VllmWorker rank=0 pid=3176969)\u001b[0;0m \n"
     ]
    },
    {
     "name": "stdout",
     "output_type": "stream",
     "text": [
      "Модель успешно загружена\n",
      "model_config {'model': '/data/home/vkropoti/models/Qwen3-32B', 'tensor_parallel_size': 2, 'max_model_len': 40000, 'max_new_tokens': 1500, 'temperature': 0, 'top_k': 1, 'top_p': 0.8, 'gpu_memory_utilization': 0.9, 'trust_remote_code': False, 'seed': 70}\n",
      "\n",
      "prompts_config {'path_dev_json': '/home/vkropoti/vllm/dev.json', 'path_sql_dbs': '/data/home/vkropoti/sql_data/dev_databases/', 'use_reasoning': False, 'paths_to_cot': ['/data/home/vkropoti/sql_llm_answers/bird_dev_m_schema/sql_all_new_Qwen3-32B-reasoning-v0', '/data/home/vkropoti/sql_llm_answers/bird_dev_m_schema/sql_all_new_Qwen3-32B-reasoning-v1', '/data/home/vkropoti/sql_llm_answers/bird_dev_m_schema/sql_all_new_Qwen3-32B-reasoning-v2']}\n",
      "\n",
      "save_config {'path_sql_save': '/data/home/vkropoti/sql_llm_answers/bird_dev_m_schema/sql_all_Qwen3-32B-cot_all_new_think==False_nobs3-v0', 'path_think_save': None, 'path_sql_answers_save': '/data/home/vkropoti/sql_llm_answers/bird_dev_m_schema/sql_predict_Qwen3-32B-cot_all_new_think==False_nobs3-v0', 'path_to_save_scores': '/data/home/vkropoti/sql_llm_answers/bird_dev_m_schema/sql_results_Qwen3-32B-cot_all_new_think==False_nobs3-v0', 'path_to_save_executed': '/data/home/vkropoti/sql_llm_answers/bird_dev_m_schema/sql_executed_Qwen3-32B-cot_all_new_think==False_nobs3-v0'}\n",
      "\n",
      "Модель успешно загружена\n",
      "Пример промпта\n",
      "<|im_start|>system\n",
      "\n",
      "You are a data science expert. Below, you are provided with a database schema and a natural language question. Your task is to understand the schema and generate a valid SQL query to answer the question.\n",
      "\n",
      "Database Engine: SQLite\n",
      "\n",
      "You will be given an additional analysis of other models, please take it into account, so the plan is\n",
      "1. Analyse given addition analysis from other models (find in which analysis the same and differ, how to use that to answer question)\n",
      "2. Combine best from previous part and think how to solve the problem (analyze tables, take care what columns avaliable in each table and so on, check the syntacsis)\n",
      "3. Create the answers. The answer should be only sql query.\n",
      "\n",
      "Carefully follow the instruction and add <|im_end|> and the end of the final answer<|im_end|>\n",
      "<|im_start|>user\n",
      "Here is addition analysis from other models which can be helpfull, please take this into account but be careful (choose the best from each analysis, combine them to make the most proper answer):\n",
      "\n",
      "model 0 analysis:\n",
      " Reasoning process:\n",
      "\n",
      "Okay, let's see. The user wants the highest eligible free rate for K-12 students in Alameda County. The eligible free rate is calculated as Free Meal Count (K-12) divided by Enrollment (K-12). So first, I need to find the right tables.\n",
      "\n",
      "Looking at the schema, the frpm table has the Free Meal Count and Enrollment columns. Also, the frpm table has County Name, which we need to filter for Alameda County. \n",
      "\n",
      "So I should select the maximum value of (Free Meal Count (K-12) / Enrollment (K-12)) from the frpm table where County Name is 'Alameda'. \n",
      "\n",
      "Wait, but need to make sure that the columns are correctly named. In the frpm table, the columns are \"Free Meal Count (K-12)\" and \"Enrollment (K-12)\". Also, the county name is in \"County Name\". \n",
      "\n",
      "So the SQL query would be something like:\n",
      "\n",
      "SELECT MAX(`Percent (%) Eligible Free (K-12)`) FROM frpm WHERE `County Name` = 'Alameda';\n",
      "\n",
      "Wait, but the user's external knowledge says to compute it as the ratio of Free Meal Count to Enrollment. However, the frpm table already has \"Percent (%) Eligible Free (K-12)\", which is exactly that ratio. So maybe I can directly take the max of that column instead of calculating it again. \n",
      "\n",
      "But the user might expect using the actual columns for calculation. However, since the percentage is already provided, using the existing column is more efficient. \n",
      "\n",
      "So the correct approach is to select the maximum value from that percentage column where the county is Alameda. \n",
      "\n",
      "Therefore, the SQL query should be selecting the max of `Percent (%) Eligible Free (K-12)` from frpm where `County Name` is 'Alameda'. \n",
      "\n",
      "I need to make sure that the county name is correctly capitalized. The examples show 'Alameda' as a county name, so it's safe to use that. \n",
      "\n",
      "Also, checking for any possible NULLs, but since the question is about the highest, and there's data, it should work. \n",
      "\n",
      "So the final query is as above.\n",
      "\n",
      "Final answer based om reasoning for this model:\n",
      "\n",
      "\n",
      "```\n",
      "SELECT MAX(`Percent (%) Eligible Free (K-12)`) FROM frpm WHERE `County Name` = 'Alameda';\n",
      "```\n",
      "\n",
      "model 1 analysis:\n",
      " Reasoning process:\n",
      "\n",
      "Okay, let's tackle this problem. The user wants the highest eligible free rate for K-12 students in Alameda County. The eligible free rate is calculated as Free Meal Count (K-12) divided by Enrollment (K-12). \n",
      "\n",
      "First, I need to check which tables have the necessary columns. The 'frpm' table has both 'Free Meal Count (K-12)' and 'Enrollment (K-12)'. Also, the 'County Name' column in 'frpm' can be used to filter for Alameda County.\n",
      "\n",
      "So, I should select those two columns from the 'frpm' table where the County Name is 'Alameda'. Then calculate the division. But wait, the problem is that in SQL, dividing two REAL numbers should give a REAL result. However, to ensure that the division is done correctly without integer division, maybe I need to cast them, but in SQLite, REAL division should be fine.\n",
      "\n",
      "The user wants the highest rate, so I need to compute the maximum value of that division. So the query would be a SELECT MAX(Free Meal Count (K-12)/Enrollment (K-12)) from frpm where County Name is 'Alameda'.\n",
      "\n",
      "Wait, but I need to make sure that Enrollment (K-12) isn't zero to avoid division by zero. However, the problem statement's example data shows enrollment values like 1087.0, so maybe in practice, there's no zero. But since the user didn't mention handling that, I can proceed without it.\n",
      "\n",
      "Now, check the column names. The columns in 'frpm' are 'Free Meal Count (K-12)' and 'Enrollment (K-12)', and 'County Name'. The table name is 'frpm'.\n",
      "\n",
      "Putting it all together, the SQL query should select the maximum value of the division of those two columns, filtered by County Name = 'Alameda'.\n",
      "\n",
      "So the final SQL is:\n",
      "\n",
      "SELECT MAX(`Free Meal Count (K-12)` / `Enrollment (K-12)`) FROM frpm WHERE `County Name` = 'Alameda';\n",
      "\n",
      "Final answer based om reasoning for this model:\n",
      "\n",
      "\n",
      "```\n",
      "SELECT MAX(`Free Meal Count (K-12)` / `Enrollment (K-12)`) FROM frpm WHERE `County Name` = 'Alameda';\n",
      "```\n",
      "\n",
      "model 2 analysis:\n",
      " Reasoning process:\n",
      "\n",
      "Okay, let's tackle this problem. The user wants the highest eligible free rate for K-12 students in Alameda County. The eligible free rate is calculated as `Free Meal Count (K-12)` divided by `Enrollment (K-12)`. Both these columns are in the frpm table. \n",
      "\n",
      "First, I need to find the schools in Alameda County. The County Name in the frpm table should be 'Alameda'. Alternatively, the schools table has a County column, but since the frpm table has County Name, maybe it's better to filter there directly.\n",
      "\n",
      "So, the main table to use here is frpm. We need to calculate the ratio for each school in Alameda County and then find the maximum value. \n",
      "\n",
      "The SQL function MAX() can be used on the calculated column. To get the maximum value, we can select MAX(`Free Meal Count (K-12)` / `Enrollment (K-12)`) where `County Name` is 'Alameda'. \n",
      "\n",
      "Wait, but division in SQL might have issues if Enrollment is zero, but assuming the data is clean. Also, since the user wants the highest rate, using MAX on the division should work. \n",
      "\n",
      "So the query should select the maximum of that division from frpm where County Name is Alameda. \n",
      "\n",
      "I need to make sure that the column names are correctly quoted, especially since they have spaces. Also, checking if the County Name in frpm is indeed 'Alameda' as a string. \n",
      "\n",
      "Yes, the example entries for County Name include 'Alameda'. So the WHERE clause would be WHERE `County Name` = 'Alameda'. \n",
      "\n",
      "Putting it all together, the SQL query would be:\n",
      "\n",
      "SELECT MAX(`Percent (%) Eligible Free (K-12)`) FROM frpm WHERE `County Name` = 'Alameda';\n",
      "\n",
      "Wait, wait! Oh, the user provided the formula, but the frpm table already has a column `Percent (%) Eligible Free (K-12)` which is exactly that ratio. So instead of calculating it, we can just take the MAX of that existing column. That's more efficient and avoids recalculating. \n",
      "\n",
      "Yes, the question's external knowledge says to calculate it, but if the table already has that column, we can use it directly. \n",
      "\n",
      "Therefore, the correct approach is to select the maximum value from that column where the county is Alameda. That's the simplest way. \n",
      "\n",
      "So the final query should select MAX(`Percent (%) Eligible Free (K-12)`) from frpm where `County Name` is Alameda. \n",
      "\n",
      "I think that's it. Let me double-check the table structure. Yes, frpm has `Percent (%) Eligible Free (K-12)` as a column. And the County Name is in the frpm table. So no need to join with schools. \n",
      "\n",
      "Therefore, the SQL is straightforward.\n",
      "\n",
      "Final answer based om reasoning for this model:\n",
      "\n",
      "\n",
      "```\n",
      "SELECT MAX(`Percent (%) Eligible Free (K-12)`) FROM frpm WHERE `County Name` = 'Alameda'\n",
      "```\n",
      "\n",
      "\n",
      "here is avaliable tables and their structure below\n",
      "【DB_ID】 california_schools\n",
      "【Schema】\n",
      "# Table: frpm\n",
      "[\n",
      "(CDSCode:TEXT, maps to schools.CDSCode, Primary Key, Examples: [01100170109835, 01100170112607, 01100170118489]),\n",
      "(Academic Year:TEXT, Examples: [2014-2015]),\n",
      "(County Code:TEXT, Examples: [01, 02, 03]),\n",
      "(District Code:INTEGER, Examples: [10017, 31609, 31617]),\n",
      "(School Code:TEXT, Examples: [0109835, 0112607, 0118489]),\n",
      "(County Name:TEXT, Examples: [Alameda, Alpine, Amador]),\n",
      "(District Name:TEXT),\n",
      "(School Name:TEXT, Examples: [FAME Public Charter]),\n",
      "(District Type:TEXT, Examples: [County Office of Education (COE)]),\n",
      "(School Type:TEXT, Examples: [K-12 Schools (Public)]),\n",
      "(Educational Option Type:TEXT, Examples: [Traditional]),\n",
      "(NSLP Provision Status:TEXT, Examples: [Breakfast Provision 2]),\n",
      "(Charter School (Y/N):INTEGER, Examples: [1, 0]),\n",
      "(Charter School Number:TEXT, Examples: [0728, 0811, 1049]),\n",
      "(Charter Funding Type:TEXT, Examples: [Directly funded]),\n",
      "(IRC:INTEGER, Examples: [1, 0]),\n",
      "(Low Grade:TEXT, Examples: [K, 9, 1]),\n",
      "(High Grade:TEXT, Examples: [12, 8, 5]),\n",
      "(Enrollment (K-12):REAL, Examples: [1087.0, 395.0, 244.0]),\n",
      "(Free Meal Count (K-12):REAL, Examples: [565.0, 186.0, 134.0]),\n",
      "(Percent (%) Eligible Free (K-12):REAL, Examples: [0.519779208831647, 0.470886075949367, 0.549180327868853]),\n",
      "(FRPM Count (K-12):REAL, Examples: [715.0, 186.0, 175.0]),\n",
      "(Percent (%) Eligible FRPM (K-12):REAL, Examples: [0.657773689052438, 0.470886075949367, 0.717213114754098]),\n",
      "(Enrollment (Ages 5-17):REAL, Examples: [1070.0, 376.0, 230.0]),\n",
      "(Free Meal Count (Ages 5-17):REAL, Examples: [553.0, 182.0, 128.0]),\n",
      "(Percent (%) Eligible Free (Ages 5-17):REAL, Examples: [0.516822429906542, 0.484042553191489, 0.556521739130435]),\n",
      "(FRPM Count (Ages 5-17):REAL, Examples: [702.0, 182.0, 168.0]),\n",
      "(Percent (%) Eligible FRPM (Ages 5-17):REAL, Examples: [0.65607476635514, 0.484042553191489, 0.730434782608696]),\n",
      "(2013-14 CALPADS Fall 1 Certification Status:INTEGER, Examples: [1])\n",
      "]\n",
      "# Table: satscores\n",
      "[\n",
      "(cds:TEXT, maps to schools.CDSCode, Primary Key, Examples: [10101080000000, 10101080109991, 10101080111682]),\n",
      "(rtype:TEXT, Examples: [D, S]),\n",
      "(sname:TEXT, Examples: [FAME Public Charter]),\n",
      "(dname:TEXT, Examples: [Alameda County Office of Education]),\n",
      "(cname:TEXT, Examples: [Alameda, Amador, Butte]),\n",
      "(enroll12:INTEGER, Examples: [398, 62, 75]),\n",
      "(NumTstTakr:INTEGER, Examples: [88, 17, 71]),\n",
      "(AvgScrRead:INTEGER, Examples: [418, 503, 397]),\n",
      "(AvgScrMath:INTEGER, Examples: [418, 546, 387]),\n",
      "(AvgScrWrite:INTEGER, Examples: [417, 505, 395]),\n",
      "(NumGE1500:INTEGER, Examples: [14, 9, 5])\n",
      "]\n",
      "# Table: schools\n",
      "[\n",
      "(CDSCode:TEXT, Primary Key, Examples: [01100170000000, 01100170109835, 01100170112607]),\n",
      "(NCESDist:TEXT, Examples: [0691051, 0600002, 0600003]),\n",
      "(NCESSchool:TEXT, Examples: [10546, 10947, 12283]),\n",
      "(StatusType:TEXT, Examples: [Active, Closed, Merged]),\n",
      "(County:TEXT, Examples: [Alameda, Alpine, Amador]),\n",
      "(District:TEXT),\n",
      "(School:TEXT, Examples: [FAME Public Charter]),\n",
      "(Street:TEXT, Examples: [313 West Winton Avenue]),\n",
      "(StreetAbr:TEXT, Examples: [313 West Winton Ave.]),\n",
      "(City:TEXT, Examples: [Hayward, Newark, Oakland]),\n",
      "(Zip:TEXT, Examples: [94544-1136, 94560-5359, 94612-3355]),\n",
      "(State:TEXT, Examples: [CA]),\n",
      "(MailStreet:TEXT, Examples: [313 West Winton Avenue]),\n",
      "(MailStrAbr:TEXT, Examples: [313 West Winton Ave.]),\n",
      "(MailCity:TEXT, Examples: [Hayward, Newark, Oakland]),\n",
      "(MailZip:TEXT, Examples: [94544-1136, 94560-5359, 94612]),\n",
      "(MailState:TEXT, Examples: [CA]),\n",
      "(Phone:TEXT, Examples: [(510) 887-0152, (510) 596-8901, (510) 686-4131]),\n",
      "(Ext:TEXT, Examples: [130, 1240, 1200]),\n",
      "(Website:TEXT, Examples: [www.acoe.org]),\n",
      "(OpenDate:DATE, Examples: [2005-08-29]),\n",
      "(ClosedDate:DATE, Examples: [2015-07-31]),\n",
      "(Charter:INTEGER, Examples: [1, 0]),\n",
      "(CharterNum:TEXT, Examples: [0728, 0811, 1049]),\n",
      "(FundingType:TEXT, Examples: [Directly funded]),\n",
      "(DOC:TEXT, Examples: [00, 31, 34]),\n",
      "(DOCType:TEXT, Examples: [County Office of Education (COE)]),\n",
      "(SOC:TEXT, Examples: [65, 66, 60]),\n",
      "(SOCType:TEXT, Examples: [K-12 Schools (Public)]),\n",
      "(EdOpsCode:TEXT, Examples: [TRAD, JUV, COMM]),\n",
      "(EdOpsName:TEXT, Examples: [Traditional]),\n",
      "(EILCode:TEXT, Examples: [ELEMHIGH, HS, ELEM]),\n",
      "(EILName:TEXT, Examples: [Elementary-High Combination]),\n",
      "(GSoffered:TEXT, Examples: [K-12, 9-12, K-8]),\n",
      "(GSserved:TEXT, Examples: [K-12, 9-12, K-7]),\n",
      "(Virtual:TEXT, Examples: [P, N, F]),\n",
      "(Magnet:INTEGER, Examples: [0, 1]),\n",
      "(Latitude:REAL, Examples: [37.658212, 37.521436, 37.80452]),\n",
      "(Longitude:REAL, Examples: [-122.09713, -121.99391, -122.26815]),\n",
      "(AdmFName1:TEXT, Examples: [L Karen, Laura, Clifford]),\n",
      "(AdmLName1:TEXT, Examples: [Monroe, Robell, Thompson]),\n",
      "(AdmEmail1:TEXT),\n",
      "(AdmFName2:TEXT, Examples: [Sau-Lim (Lance), Jennifer, Annalisa]),\n",
      "(AdmLName2:TEXT, Examples: [Tsang, Koelling, Moore]),\n",
      "(AdmEmail2:TEXT),\n",
      "(AdmFName3:TEXT, Examples: [Drew, Irma, Vickie]),\n",
      "(AdmLName3:TEXT, Examples: [Sarratore, Munoz, Chang]),\n",
      "(AdmEmail3:TEXT),\n",
      "(LastUpdate:DATE, Examples: [2015-06-23])\n",
      "]\n",
      "【Foreign keys】\n",
      "frpm.CDSCode=schools.CDSCode\n",
      "satscores.cds=schools.CDSCode\n",
      "\n",
      "-- Using valid SQLite and understanding External Knowledge, answer the following questions for the tables provided above.\n",
      "-- What is the highest eligible free rate for K-12 students in the schools in Alameda County?\n",
      "-- External Knowledge: Eligible free rate for K-12 = `Free Meal Count (K-12)` / `Enrollment (K-12)`\n",
      "\n",
      "\n",
      "Generate the SQLite for the above question after thinking step by step: \n",
      "\n",
      "\n",
      "Instructions:\n",
      "- Make sure you only output the information that is asked in the question. If the question asks for a specific column, make sure to only include that column in the SELECT clause, nothing more.\n",
      "- The generated query should return all of the information asked in the question without any missing or extra information.\n",
      "- Before generating the final SQL query, please think through the steps of how to write the query.\n",
      "- Do not misuse column names, keep them in quotes `\n",
      "- Carefully understand what colomns belond to what tables\n",
      "- Use only initial column names, change names prohibited\n",
      "        \n",
      "Output Format:\n",
      "In your answer, please enclose the generated SQL query in a code block:\n",
      "```\n",
      "-- Your SQL query\n",
      "```    \n",
      "and nothing else, no exaplains, no comments (asnwer should be less than 512 characters)\n",
      "\n",
      "Take a deep breath and think step by step to find the correct SQL query in SQLite format.\n",
      "\n",
      "Question repetition: What is the highest eligible free rate for K-12 students in the schools in Alameda County?\n",
      "\n",
      "Be care! Include only what i want it questiona and nothing else<|im_end|>\n",
      "<|im_start|>assistant\n",
      "<think>\n",
      "\n",
      "</think>\n",
      "\n",
      "\n",
      "\n",
      "\n",
      "Максимальное количество токенов в промптах: 17696\n",
      "\n",
      "начинаем скорринг\n",
      "Загружаем чаты с данными...\n",
      "Данные успешно загружены\n",
      "Начали генерацию SQL запросов\n"
     ]
    },
    {
     "name": "stderr",
     "output_type": "stream",
     "text": [
      "Processed prompts: 100%|██████████| 1534/1534 [13:36<00:00,  1.88it/s, est. speed input: 9458.43 toks/s, output: 103.75 toks/s]"
     ]
    },
    {
     "name": "stdout",
     "output_type": "stream",
     "text": [
      "extract_think количество ошибок:  0\n",
      "extract_sql количество ошибок:  0\n",
      "Закончили генерацию SQL запросов\n",
      "Начали скорр полученных SQL запросов\n"
     ]
    },
    {
     "name": "stderr",
     "output_type": "stream",
     "text": [
      "\n",
      "Exception ignored in: <bound method IPythonKernel._clean_thread_parent_frames of <ipykernel.ipkernel.IPythonKernel object at 0x7f6aa6ab99d0>>\n",
      "Traceback (most recent call last):\n",
      "  File \"/data/home/vkropoti/vllm/lib64/python3.12/site-packages/ipykernel/ipkernel.py\", line 775, in _clean_thread_parent_frames\n",
      "    def _clean_thread_parent_frames(\n",
      "\n",
      "func_timeout.dafunc.FunctionTimedOut3550342089135300660: Function execute_query (args=('/data/home/vkropoti/sql_data/dev_databases/', 'financial', \"SELECT T1.account_id FROM trans AS T1 INNER JOIN account AS T2 ON T1.account_id = T2.account_id WHERE STRFTIME('%Y', T1.date) = '1998' AND T1.operation = 'VYBER KARTOU' AND T1.amount < (SELECT AVG(amount) FROM trans WHERE STRFTIME('%Y', date) = '1998')\", \"SELECT DISTINCT `client`.`client_id`\\nFROM `trans`\\nJOIN `account` ON `trans`.`account_id` = `account`.`account_id`\\nJOIN `disp` ON `account`.`account_id` = `disp`.`account_id`\\nJOIN `client` ON `disp`.`client_id` = `client`.`client_id`\\nWHERE `trans`.`operation` = 'VYBER KARTOU'\\nAND `trans`.`date` BETWEEN '1998-01-01' AND '1998-12-31'\\nAND `trans`.`amount` < (\\n    SELECT AVG(`amount`)\\n    FROM `trans`\\n    WHERE `operation` = 'VYBER KARTOU'\\n    AND `date` BETWEEN '1998-01-01' AND '1998-12-31'\\n);\")) (kwargs={}) timed out after 5.000000 seconds.\n",
      "\n"
     ]
    },
    {
     "name": "stdout",
     "output_type": "stream",
     "text": [
      "Qwen3-32B DEV Финальный результат EX: 62.65\n",
      "Qwen3-32B процент запросов, которые успешно выполнились DEV: 97.00%\n",
      "====================================================================================================\n",
      "\n",
      "\n",
      "Загружаем чаты с данными...\n",
      "Данные успешно загружены\n",
      "Начали генерацию SQL запросов\n"
     ]
    },
    {
     "name": "stderr",
     "output_type": "stream",
     "text": [
      "Processed prompts: 100%|██████████| 1534/1534 [13:44<00:00,  1.86it/s, est. speed input: 9452.44 toks/s, output: 104.01 toks/s]"
     ]
    },
    {
     "name": "stdout",
     "output_type": "stream",
     "text": [
      "extract_think количество ошибок:  0\n",
      "extract_sql количество ошибок:  0\n",
      "Закончили генерацию SQL запросов\n",
      "Начали скорр полученных SQL запросов\n"
     ]
    },
    {
     "name": "stderr",
     "output_type": "stream",
     "text": [
      "\n"
     ]
    },
    {
     "name": "stdout",
     "output_type": "stream",
     "text": [
      "Qwen3-32B DEV Финальный результат EX: 61.41\n",
      "Qwen3-32B процент запросов, которые успешно выполнились DEV: 97.26%\n",
      "====================================================================================================\n",
      "\n",
      "\n",
      "Загружаем чаты с данными...\n",
      "Данные успешно загружены\n",
      "Начали генерацию SQL запросов\n"
     ]
    },
    {
     "name": "stderr",
     "output_type": "stream",
     "text": [
      "Processed prompts: 100%|██████████| 1534/1534 [13:57<00:00,  1.83it/s, est. speed input: 9441.25 toks/s, output: 101.78 toks/s]"
     ]
    },
    {
     "name": "stdout",
     "output_type": "stream",
     "text": [
      "extract_think количество ошибок:  0\n",
      "extract_sql количество ошибок:  0\n",
      "Закончили генерацию SQL запросов\n",
      "Начали скорр полученных SQL запросов\n"
     ]
    },
    {
     "name": "stderr",
     "output_type": "stream",
     "text": [
      "\n",
      "Exception ignored in: <bound method IPythonKernel._clean_thread_parent_frames of <ipykernel.ipkernel.IPythonKernel object at 0x7f6aa6ab99d0>>\n",
      "Traceback (most recent call last):\n",
      "  File \"/data/home/vkropoti/vllm/lib64/python3.12/site-packages/ipykernel/ipkernel.py\", line 775, in _clean_thread_parent_frames\n",
      "    def _clean_thread_parent_frames(\n",
      "\n",
      "func_timeout.dafunc.FunctionTimedOut-8816714674480858058: Function execute_query (args=('/data/home/vkropoti/sql_data/dev_databases/', 'financial', \"SELECT T1.account_id FROM trans AS T1 INNER JOIN account AS T2 ON T1.account_id = T2.account_id WHERE STRFTIME('%Y', T1.date) = '1998' AND T1.operation = 'VYBER KARTOU' AND T1.amount < (SELECT AVG(amount) FROM trans WHERE STRFTIME('%Y', date) = '1998')\", \"SELECT DISTINCT `client`.`client_id`\\nFROM `trans`\\nJOIN `account` ON `trans`.`account_id` = `account`.`account_id`\\nJOIN `disp` ON `account`.`account_id` = `disp`.`account_id`\\nJOIN `client` ON `disp`.`client_id` = `client`.`client_id`\\nWHERE `trans`.`operation` = 'VYBER KARTOU'\\nAND `trans`.`date` BETWEEN '1998-01-01' AND '1998-12-31'\\nAND `trans`.`amount` < (\\n    SELECT AVG(`amount`)\\n    FROM `trans`\\n    WHERE `operation` = 'VYBER KARTOU'\\n    AND `date` BETWEEN '1998-01-01' AND '1998-12-31'\\n);\")) (kwargs={}) timed out after 5.000000 seconds.\n",
      "\n"
     ]
    },
    {
     "name": "stdout",
     "output_type": "stream",
     "text": [
      "Qwen3-32B DEV Финальный результат EX: 61.15\n",
      "Qwen3-32B процент запросов, которые успешно выполнились DEV: 96.81%\n",
      "====================================================================================================\n",
      "\n",
      "\n",
      "Загружаем чаты с данными...\n",
      "Данные успешно загружены\n",
      "Начали генерацию SQL запросов\n"
     ]
    },
    {
     "name": "stderr",
     "output_type": "stream",
     "text": [
      "Processed prompts: 100%|██████████| 1534/1534 [14:10<00:00,  1.80it/s, est. speed input: 9372.77 toks/s, output: 100.40 toks/s]"
     ]
    },
    {
     "name": "stdout",
     "output_type": "stream",
     "text": [
      "extract_think количество ошибок:  0\n",
      "extract_sql количество ошибок:  0\n",
      "Закончили генерацию SQL запросов\n",
      "Начали скорр полученных SQL запросов\n"
     ]
    },
    {
     "name": "stderr",
     "output_type": "stream",
     "text": [
      "\n"
     ]
    },
    {
     "name": "stdout",
     "output_type": "stream",
     "text": [
      "Qwen3-32B DEV Финальный результат EX: 61.67\n",
      "Qwen3-32B процент запросов, которые успешно выполнились DEV: 97.26%\n",
      "====================================================================================================\n",
      "\n",
      "\n",
      "Загружаем чаты с данными...\n",
      "Данные успешно загружены\n",
      "Начали генерацию SQL запросов\n"
     ]
    },
    {
     "name": "stderr",
     "output_type": "stream",
     "text": [
      "Processed prompts: 100%|██████████| 1534/1534 [14:18<00:00,  1.79it/s, est. speed input: 9216.06 toks/s, output: 99.31 toks/s]"
     ]
    },
    {
     "name": "stdout",
     "output_type": "stream",
     "text": [
      "extract_think количество ошибок:  0\n",
      "extract_sql количество ошибок:  0\n",
      "Закончили генерацию SQL запросов\n",
      "Начали скорр полученных SQL запросов\n"
     ]
    },
    {
     "name": "stderr",
     "output_type": "stream",
     "text": [
      "\n"
     ]
    },
    {
     "name": "stdout",
     "output_type": "stream",
     "text": [
      "Qwen3-32B DEV Финальный результат EX: 62.06\n",
      "Qwen3-32B процент запросов, которые успешно выполнились DEV: 96.74%\n",
      "====================================================================================================\n",
      "\n",
      "\n",
      "Загружаем чаты с данными...\n",
      "Данные успешно загружены\n",
      "Начали генерацию SQL запросов\n"
     ]
    },
    {
     "name": "stderr",
     "output_type": "stream",
     "text": [
      "Processed prompts: 100%|██████████| 1534/1534 [13:47<00:00,  1.85it/s, est. speed input: 9452.57 toks/s, output: 101.95 toks/s]"
     ]
    },
    {
     "name": "stdout",
     "output_type": "stream",
     "text": [
      "extract_think количество ошибок:  0\n",
      "extract_sql количество ошибок:  0\n",
      "Закончили генерацию SQL запросов\n",
      "Начали скорр полученных SQL запросов\n"
     ]
    },
    {
     "name": "stderr",
     "output_type": "stream",
     "text": [
      "\n"
     ]
    },
    {
     "name": "stdout",
     "output_type": "stream",
     "text": [
      "Qwen3-32B DEV Финальный результат EX: 62.78\n",
      "Qwen3-32B процент запросов, которые успешно выполнились DEV: 97.20%\n",
      "====================================================================================================\n",
      "\n",
      "\n",
      "Загружаем чаты с данными...\n",
      "Данные успешно загружены\n",
      "Начали генерацию SQL запросов\n"
     ]
    },
    {
     "name": "stderr",
     "output_type": "stream",
     "text": [
      "Processed prompts: 100%|██████████| 1534/1534 [13:43<00:00,  1.86it/s, est. speed input: 9432.94 toks/s, output: 103.01 toks/s]"
     ]
    },
    {
     "name": "stdout",
     "output_type": "stream",
     "text": [
      "extract_think количество ошибок:  0\n",
      "extract_sql количество ошибок:  0\n",
      "Закончили генерацию SQL запросов\n",
      "Начали скорр полученных SQL запросов\n"
     ]
    },
    {
     "name": "stderr",
     "output_type": "stream",
     "text": [
      "\n"
     ]
    },
    {
     "name": "stdout",
     "output_type": "stream",
     "text": [
      "Qwen3-32B DEV Финальный результат EX: 61.67\n",
      "Qwen3-32B процент запросов, которые успешно выполнились DEV: 96.81%\n",
      "====================================================================================================\n",
      "\n",
      "\n",
      "Загружаем чаты с данными...\n",
      "Данные успешно загружены\n",
      "Начали генерацию SQL запросов\n"
     ]
    },
    {
     "name": "stderr",
     "output_type": "stream",
     "text": [
      "Processed prompts: 100%|██████████| 1534/1534 [13:45<00:00,  1.86it/s, est. speed input: 9434.67 toks/s, output: 103.18 toks/s]"
     ]
    },
    {
     "name": "stdout",
     "output_type": "stream",
     "text": [
      "extract_think количество ошибок:  0\n",
      "extract_sql количество ошибок:  0\n",
      "Закончили генерацию SQL запросов\n",
      "Начали скорр полученных SQL запросов\n"
     ]
    },
    {
     "name": "stderr",
     "output_type": "stream",
     "text": [
      "\n"
     ]
    },
    {
     "name": "stdout",
     "output_type": "stream",
     "text": [
      "Qwen3-32B DEV Финальный результат EX: 61.67\n",
      "Qwen3-32B процент запросов, которые успешно выполнились DEV: 97.00%\n",
      "====================================================================================================\n",
      "\n",
      "\n",
      "Загружаем чаты с данными...\n",
      "Данные успешно загружены\n",
      "Начали генерацию SQL запросов\n"
     ]
    },
    {
     "name": "stderr",
     "output_type": "stream",
     "text": [
      "Processed prompts: 100%|██████████| 1534/1534 [13:57<00:00,  1.83it/s, est. speed input: 9384.36 toks/s, output: 102.47 toks/s]"
     ]
    },
    {
     "name": "stdout",
     "output_type": "stream",
     "text": [
      "extract_think количество ошибок:  0\n",
      "extract_sql количество ошибок:  0\n",
      "Закончили генерацию SQL запросов\n",
      "Начали скорр полученных SQL запросов\n"
     ]
    },
    {
     "name": "stderr",
     "output_type": "stream",
     "text": [
      "\n"
     ]
    },
    {
     "name": "stdout",
     "output_type": "stream",
     "text": [
      "Qwen3-32B DEV Финальный результат EX: 61.15\n",
      "Qwen3-32B процент запросов, которые успешно выполнились DEV: 97.20%\n",
      "====================================================================================================\n",
      "\n",
      "\n",
      "Загружаем чаты с данными...\n",
      "Данные успешно загружены\n",
      "Начали генерацию SQL запросов\n"
     ]
    },
    {
     "name": "stderr",
     "output_type": "stream",
     "text": [
      "Processed prompts: 100%|██████████| 1534/1534 [13:57<00:00,  1.83it/s, est. speed input: 9380.06 toks/s, output: 100.92 toks/s]"
     ]
    },
    {
     "name": "stdout",
     "output_type": "stream",
     "text": [
      "extract_think количество ошибок:  0\n",
      "extract_sql количество ошибок:  0\n",
      "Закончили генерацию SQL запросов\n",
      "Начали скорр полученных SQL запросов\n"
     ]
    },
    {
     "name": "stderr",
     "output_type": "stream",
     "text": [
      "\n"
     ]
    },
    {
     "name": "stdout",
     "output_type": "stream",
     "text": [
      "Qwen3-32B DEV Финальный результат EX: 61.08\n",
      "Qwen3-32B процент запросов, которые успешно выполнились DEV: 97.07%\n",
      "====================================================================================================\n",
      "\n",
      "\n",
      "Загружаем чаты с данными...\n",
      "Данные успешно загружены\n",
      "Начали генерацию SQL запросов\n"
     ]
    },
    {
     "name": "stderr",
     "output_type": "stream",
     "text": [
      "Processed prompts: 100%|██████████| 1534/1534 [13:58<00:00,  1.83it/s, est. speed input: 9385.16 toks/s, output: 102.72 toks/s]"
     ]
    },
    {
     "name": "stdout",
     "output_type": "stream",
     "text": [
      "extract_think количество ошибок:  0\n",
      "extract_sql количество ошибок:  0\n",
      "Закончили генерацию SQL запросов\n",
      "Начали скорр полученных SQL запросов\n"
     ]
    },
    {
     "name": "stderr",
     "output_type": "stream",
     "text": [
      "\n"
     ]
    },
    {
     "name": "stdout",
     "output_type": "stream",
     "text": [
      "Qwen3-32B DEV Финальный результат EX: 61.60\n",
      "Qwen3-32B процент запросов, которые успешно выполнились DEV: 97.65%\n",
      "====================================================================================================\n",
      "\n",
      "\n",
      "Загружаем чаты с данными...\n",
      "Данные успешно загружены\n",
      "Начали генерацию SQL запросов\n"
     ]
    },
    {
     "name": "stderr",
     "output_type": "stream",
     "text": [
      "Processed prompts: 100%|██████████| 1534/1534 [13:43<00:00,  1.86it/s, est. speed input: 9479.97 toks/s, output: 102.43 toks/s]"
     ]
    },
    {
     "name": "stdout",
     "output_type": "stream",
     "text": [
      "extract_think количество ошибок:  0\n",
      "extract_sql количество ошибок:  0\n",
      "Закончили генерацию SQL запросов\n",
      "Начали скорр полученных SQL запросов\n"
     ]
    },
    {
     "name": "stderr",
     "output_type": "stream",
     "text": [
      "\n"
     ]
    },
    {
     "name": "stdout",
     "output_type": "stream",
     "text": [
      "Qwen3-32B DEV Финальный результат EX: 61.99\n",
      "Qwen3-32B процент запросов, которые успешно выполнились DEV: 97.39%\n",
      "====================================================================================================\n",
      "\n",
      "\n",
      "Загружаем чаты с данными...\n",
      "Данные успешно загружены\n",
      "Начали генерацию SQL запросов\n"
     ]
    },
    {
     "name": "stderr",
     "output_type": "stream",
     "text": [
      "Processed prompts: 100%|██████████| 1534/1534 [13:53<00:00,  1.84it/s, est. speed input: 9498.91 toks/s, output: 101.71 toks/s]"
     ]
    },
    {
     "name": "stdout",
     "output_type": "stream",
     "text": [
      "extract_think количество ошибок:  0\n",
      "extract_sql количество ошибок:  0\n",
      "Закончили генерацию SQL запросов\n",
      "Начали скорр полученных SQL запросов\n"
     ]
    },
    {
     "name": "stderr",
     "output_type": "stream",
     "text": [
      "\n"
     ]
    },
    {
     "name": "stdout",
     "output_type": "stream",
     "text": [
      "Qwen3-32B DEV Финальный результат EX: 61.41\n",
      "Qwen3-32B процент запросов, которые успешно выполнились DEV: 96.81%\n",
      "====================================================================================================\n",
      "\n",
      "\n",
      "Загружаем чаты с данными...\n",
      "Данные успешно загружены\n",
      "Начали генерацию SQL запросов\n"
     ]
    },
    {
     "name": "stderr",
     "output_type": "stream",
     "text": [
      "Processed prompts: 100%|██████████| 1534/1534 [13:54<00:00,  1.84it/s, est. speed input: 9465.16 toks/s, output: 101.66 toks/s]"
     ]
    },
    {
     "name": "stdout",
     "output_type": "stream",
     "text": [
      "extract_think количество ошибок:  0\n",
      "extract_sql количество ошибок:  0\n",
      "Закончили генерацию SQL запросов\n",
      "Начали скорр полученных SQL запросов\n"
     ]
    },
    {
     "name": "stderr",
     "output_type": "stream",
     "text": [
      "\n"
     ]
    },
    {
     "name": "stdout",
     "output_type": "stream",
     "text": [
      "Qwen3-32B DEV Финальный результат EX: 62.13\n",
      "Qwen3-32B процент запросов, которые успешно выполнились DEV: 96.94%\n",
      "====================================================================================================\n",
      "\n",
      "\n",
      "Загружаем чаты с данными...\n",
      "Данные успешно загружены\n",
      "Начали генерацию SQL запросов\n"
     ]
    },
    {
     "name": "stderr",
     "output_type": "stream",
     "text": [
      "Processed prompts: 100%|██████████| 1534/1534 [14:01<00:00,  1.82it/s, est. speed input: 9428.11 toks/s, output: 100.81 toks/s]"
     ]
    },
    {
     "name": "stdout",
     "output_type": "stream",
     "text": [
      "extract_think количество ошибок:  0\n",
      "extract_sql количество ошибок:  0\n",
      "Закончили генерацию SQL запросов\n",
      "Начали скорр полученных SQL запросов\n"
     ]
    },
    {
     "name": "stderr",
     "output_type": "stream",
     "text": [
      "\n"
     ]
    },
    {
     "name": "stdout",
     "output_type": "stream",
     "text": [
      "Qwen3-32B DEV Финальный результат EX: 62.06\n",
      "Qwen3-32B процент запросов, которые успешно выполнились DEV: 97.00%\n",
      "====================================================================================================\n",
      "\n",
      "\n",
      "Загружаем чаты с данными...\n",
      "Данные успешно загружены\n",
      "Начали генерацию SQL запросов\n"
     ]
    },
    {
     "name": "stderr",
     "output_type": "stream",
     "text": [
      "Processed prompts: 100%|██████████| 1534/1534 [13:40<00:00,  1.87it/s, est. speed input: 9481.55 toks/s, output: 103.35 toks/s]"
     ]
    },
    {
     "name": "stdout",
     "output_type": "stream",
     "text": [
      "extract_think количество ошибок:  0\n",
      "extract_sql количество ошибок:  0\n",
      "Закончили генерацию SQL запросов\n",
      "Начали скорр полученных SQL запросов\n"
     ]
    },
    {
     "name": "stderr",
     "output_type": "stream",
     "text": [
      "\n"
     ]
    },
    {
     "name": "stdout",
     "output_type": "stream",
     "text": [
      "Qwen3-32B DEV Финальный результат EX: 62.19\n",
      "Qwen3-32B процент запросов, которые успешно выполнились DEV: 97.07%\n",
      "====================================================================================================\n",
      "\n",
      "\n",
      "Загружаем чаты с данными...\n",
      "Данные успешно загружены\n",
      "Начали генерацию SQL запросов\n"
     ]
    },
    {
     "name": "stderr",
     "output_type": "stream",
     "text": [
      "Processed prompts: 100%|██████████| 1534/1534 [13:43<00:00,  1.86it/s, est. speed input: 9437.30 toks/s, output: 102.62 toks/s]"
     ]
    },
    {
     "name": "stdout",
     "output_type": "stream",
     "text": [
      "extract_think количество ошибок:  0\n",
      "extract_sql количество ошибок:  0\n",
      "Закончили генерацию SQL запросов\n",
      "Начали скорр полученных SQL запросов\n"
     ]
    },
    {
     "name": "stderr",
     "output_type": "stream",
     "text": [
      "\n"
     ]
    },
    {
     "name": "stdout",
     "output_type": "stream",
     "text": [
      "Qwen3-32B DEV Финальный результат EX: 61.80\n",
      "Qwen3-32B процент запросов, которые успешно выполнились DEV: 97.07%\n",
      "====================================================================================================\n",
      "\n",
      "\n",
      "Загружаем чаты с данными...\n",
      "Данные успешно загружены\n",
      "Начали генерацию SQL запросов\n"
     ]
    },
    {
     "name": "stderr",
     "output_type": "stream",
     "text": [
      "Processed prompts: 100%|██████████| 1534/1534 [14:02<00:00,  1.82it/s, est. speed input: 9217.99 toks/s, output: 101.13 toks/s]"
     ]
    },
    {
     "name": "stdout",
     "output_type": "stream",
     "text": [
      "extract_think количество ошибок:  0\n",
      "extract_sql количество ошибок:  0\n",
      "Закончили генерацию SQL запросов\n",
      "Начали скорр полученных SQL запросов\n"
     ]
    },
    {
     "name": "stderr",
     "output_type": "stream",
     "text": [
      "\n"
     ]
    },
    {
     "name": "stdout",
     "output_type": "stream",
     "text": [
      "Qwen3-32B DEV Финальный результат EX: 62.78\n",
      "Qwen3-32B процент запросов, которые успешно выполнились DEV: 97.26%\n",
      "====================================================================================================\n",
      "\n",
      "\n",
      "Загружаем чаты с данными...\n",
      "Данные успешно загружены\n",
      "Начали генерацию SQL запросов\n"
     ]
    },
    {
     "name": "stderr",
     "output_type": "stream",
     "text": [
      "Processed prompts: 100%|██████████| 1534/1534 [14:11<00:00,  1.80it/s, est. speed input: 9154.82 toks/s, output: 99.59 toks/s]"
     ]
    },
    {
     "name": "stdout",
     "output_type": "stream",
     "text": [
      "extract_think количество ошибок:  0\n",
      "extract_sql количество ошибок:  0\n",
      "Закончили генерацию SQL запросов\n",
      "Начали скорр полученных SQL запросов\n"
     ]
    },
    {
     "name": "stderr",
     "output_type": "stream",
     "text": [
      "\n"
     ]
    },
    {
     "name": "stdout",
     "output_type": "stream",
     "text": [
      "Qwen3-32B DEV Финальный результат EX: 61.73\n",
      "Qwen3-32B процент запросов, которые успешно выполнились DEV: 97.33%\n",
      "====================================================================================================\n",
      "\n",
      "\n",
      "Загружаем чаты с данными...\n",
      "Данные успешно загружены\n",
      "Начали генерацию SQL запросов\n"
     ]
    },
    {
     "name": "stderr",
     "output_type": "stream",
     "text": [
      "Processed prompts: 100%|██████████| 1534/1534 [13:35<00:00,  1.88it/s, est. speed input: 9476.78 toks/s, output: 104.56 toks/s]"
     ]
    },
    {
     "name": "stdout",
     "output_type": "stream",
     "text": [
      "extract_think количество ошибок:  0\n",
      "extract_sql количество ошибок:  0\n",
      "Закончили генерацию SQL запросов\n",
      "Начали скорр полученных SQL запросов\n"
     ]
    },
    {
     "name": "stderr",
     "output_type": "stream",
     "text": [
      "\n"
     ]
    },
    {
     "name": "stdout",
     "output_type": "stream",
     "text": [
      "Qwen3-32B DEV Финальный результат EX: 61.80\n",
      "Qwen3-32B процент запросов, которые успешно выполнились DEV: 97.20%\n",
      "====================================================================================================\n",
      "\n",
      "\n"
     ]
    }
   ],
   "source": [
    "run_cot_experiment(model,arr_seeds,arr_versions, type_cot,num_observations=num_observations)"
   ]
  },
  {
   "cell_type": "markdown",
   "id": "497ba1a7-9a17-4849-b915-86790c9c7d3b",
   "metadata": {},
   "source": [
    "## 4 наблюдения"
   ]
  },
  {
   "cell_type": "code",
   "execution_count": null,
   "id": "ce49c4fe-8bad-4a23-82e6-10e210d49af7",
   "metadata": {},
   "outputs": [],
   "source": [
    "n= 20\n",
    "arr_seeds = [random.randint(0,1000) for _ in range(n)]\n",
    "arr_versions = [x for x in range(n)]\n",
    "model = \"Qwen3-32B\"\n",
    "num_observations = 4\n",
    "type_cot = 'all_new'\n",
    "print(arr_seeds)\n",
    "print(f\"model: {model}\")"
   ]
  },
  {
   "cell_type": "code",
   "execution_count": null,
   "id": "7a21f95e-0959-4d46-b161-3dd97031a48f",
   "metadata": {
    "scrolled": true
   },
   "outputs": [],
   "source": [
    "run_cot_experiment(model,arr_seeds,arr_versions, type_cot,num_observations=num_observations)"
   ]
  },
  {
   "cell_type": "markdown",
   "id": "e8321b48-e1ff-41e4-b667-d7196e984c17",
   "metadata": {},
   "source": [
    "## 5 наблюдений"
   ]
  },
  {
   "cell_type": "code",
   "execution_count": null,
   "id": "613df4ca-270b-4de3-9fb0-a403da4769f9",
   "metadata": {},
   "outputs": [],
   "source": [
    "n= 20\n",
    "arr_seeds = [random.randint(0,1000) for _ in range(n)]\n",
    "arr_versions = [x for x in range(n)]\n",
    "model = \"Qwen3-32B\"\n",
    "num_observations = 5\n",
    "type_cot = 'all_new'\n",
    "print(arr_seeds)\n",
    "print(f\"model: {model}\")"
   ]
  },
  {
   "cell_type": "code",
   "execution_count": null,
   "id": "cecc36c2-8753-43db-a939-82d14892b0f5",
   "metadata": {
    "scrolled": true
   },
   "outputs": [],
   "source": [
    "run_cot_experiment(model,arr_seeds,arr_versions, type_cot,num_observations=num_observations)"
   ]
  },
  {
   "cell_type": "markdown",
   "id": "8ecdae85-ab3f-4123-8cb2-d235fe12a9b6",
   "metadata": {},
   "source": [
    "## 6 наблюдений"
   ]
  },
  {
   "cell_type": "code",
   "execution_count": null,
   "id": "4cf5d319-24ae-42c5-a259-219dab753f06",
   "metadata": {},
   "outputs": [],
   "source": [
    "n= 20\n",
    "arr_seeds = [random.randint(0,1000) for _ in range(n)]\n",
    "arr_versions = [x for x in range(n)]\n",
    "model = \"Qwen3-32B\"\n",
    "num_observations = 6\n",
    "type_cot = 'all_new'\n",
    "print(arr_seeds)\n",
    "print(f\"model: {model}\")"
   ]
  },
  {
   "cell_type": "code",
   "execution_count": null,
   "id": "658afdd2-e3e5-4436-989d-2a8c484bbd3f",
   "metadata": {
    "scrolled": true
   },
   "outputs": [],
   "source": [
    "run_cot_experiment(model,arr_seeds,arr_versions, type_cot,num_observations=num_observations)"
   ]
  },
  {
   "cell_type": "markdown",
   "id": "51d986a1-0b51-4b35-9b9c-0acb184dcbda",
   "metadata": {},
   "source": [
    "## 7 наблюдений"
   ]
  },
  {
   "cell_type": "code",
   "execution_count": null,
   "id": "1df4a57b-8c8c-4ec0-ba80-8dd616f717e7",
   "metadata": {},
   "outputs": [],
   "source": [
    "n= 20\n",
    "arr_seeds = [random.randint(0,1000) for _ in range(n)]\n",
    "arr_versions = [x for x in range(n)]\n",
    "model = \"Qwen3-32B\"\n",
    "num_observations = 7\n",
    "type_cot = 'all_new'\n",
    "print(arr_seeds)\n",
    "print(f\"model: {model}\")"
   ]
  },
  {
   "cell_type": "code",
   "execution_count": null,
   "id": "6399f201-99a9-4c61-86dc-3570cf4878cd",
   "metadata": {
    "scrolled": true
   },
   "outputs": [],
   "source": [
    "run_cot_experiment(model,arr_seeds,arr_versions, type_cot,num_observations=num_observations)"
   ]
  },
  {
   "cell_type": "markdown",
   "id": "87878e5f-093d-453a-9788-03dc8dd66798",
   "metadata": {},
   "source": [
    "# part2: answer"
   ]
  },
  {
   "cell_type": "code",
   "execution_count": 5,
   "id": "bceafaae-0c5b-4fb9-a4f9-91e86a81a4fc",
   "metadata": {},
   "outputs": [
    {
     "name": "stdout",
     "output_type": "stream",
     "text": [
      "[734, 815, 927, 306, 673, 487, 928, 564, 56, 831, 86, 545, 24, 258, 302, 177, 399, 31, 193, 501]\n",
      "model: Qwen3-32B\n"
     ]
    }
   ],
   "source": [
    "n= 20\n",
    "arr_seeds = [random.randint(0,1000) for _ in range(n)]\n",
    "arr_versions = [x for x in range(n)]\n",
    "model = \"Qwen3-32B\"\n",
    "num_observations = 2\n",
    "type_cot = 'predict'\n",
    "print(arr_seeds)\n",
    "print(f\"model: {model}\")"
   ]
  },
  {
   "cell_type": "code",
   "execution_count": 6,
   "id": "612ac94a-93c5-4681-978d-f7322871fb25",
   "metadata": {
    "scrolled": true
   },
   "outputs": [
    {
     "name": "stdout",
     "output_type": "stream",
     "text": [
      "Загружаем модель...\n"
     ]
    },
    {
     "name": "stderr",
     "output_type": "stream",
     "text": [
      "Loading safetensors checkpoint shards:   0% Completed | 0/17 [00:00<?, ?it/s]\n",
      "Loading safetensors checkpoint shards:   6% Completed | 1/17 [00:01<00:26,  1.64s/it]\n",
      "Loading safetensors checkpoint shards:  12% Completed | 2/17 [00:03<00:24,  1.65s/it]\n",
      "Loading safetensors checkpoint shards:  18% Completed | 3/17 [00:04<00:20,  1.49s/it]\n",
      "Loading safetensors checkpoint shards:  24% Completed | 4/17 [00:06<00:20,  1.55s/it]\n",
      "Loading safetensors checkpoint shards:  29% Completed | 5/17 [00:07<00:18,  1.57s/it]\n",
      "Loading safetensors checkpoint shards:  35% Completed | 6/17 [00:09<00:17,  1.57s/it]\n",
      "Loading safetensors checkpoint shards:  41% Completed | 7/17 [00:11<00:15,  1.58s/it]\n",
      "Loading safetensors checkpoint shards:  47% Completed | 8/17 [00:12<00:14,  1.59s/it]\n",
      "Loading safetensors checkpoint shards:  53% Completed | 9/17 [00:14<00:12,  1.60s/it]\n",
      "Loading safetensors checkpoint shards:  59% Completed | 10/17 [00:15<00:11,  1.60s/it]\n",
      "Loading safetensors checkpoint shards:  65% Completed | 11/17 [00:17<00:09,  1.60s/it]\n",
      "Loading safetensors checkpoint shards:  71% Completed | 12/17 [00:19<00:08,  1.61s/it]\n",
      "Loading safetensors checkpoint shards:  76% Completed | 13/17 [00:20<00:06,  1.61s/it]\n",
      "Loading safetensors checkpoint shards:  82% Completed | 14/17 [00:22<00:04,  1.61s/it]\n",
      "Loading safetensors checkpoint shards:  88% Completed | 15/17 [00:23<00:03,  1.62s/it]\n",
      "Loading safetensors checkpoint shards:  94% Completed | 16/17 [00:25<00:01,  1.61s/it]\n",
      "Loading safetensors checkpoint shards: 100% Completed | 17/17 [00:27<00:00,  1.61s/it]\n",
      "Loading safetensors checkpoint shards: 100% Completed | 17/17 [00:27<00:00,  1.60s/it]\n",
      "\u001b[1;36m(VllmWorker rank=0 pid=3252975)\u001b[0;0m \n"
     ]
    },
    {
     "name": "stdout",
     "output_type": "stream",
     "text": [
      "Модель успешно загружена\n",
      "model_config {'model': '/data/home/vkropoti/models/Qwen3-32B', 'tensor_parallel_size': 2, 'max_model_len': 40000, 'max_new_tokens': 1500, 'temperature': 0, 'top_k': 1, 'top_p': 0.8, 'gpu_memory_utilization': 0.9, 'trust_remote_code': False, 'seed': 734}\n",
      "\n",
      "prompts_config {'path_dev_json': '/home/vkropoti/vllm/dev.json', 'path_sql_dbs': '/data/home/vkropoti/sql_data/dev_databases/', 'use_reasoning': False, 'paths_to_cot': ['/data/home/vkropoti/sql_llm_answers/bird_dev_m_schema/sql_predict_Qwen3-32B-reasoning-v0', '/data/home/vkropoti/sql_llm_answers/bird_dev_m_schema/sql_predict_Qwen3-32B-reasoning-v1']}\n",
      "\n",
      "save_config {'path_sql_save': '/data/home/vkropoti/sql_llm_answers/bird_dev_m_schema/sql_all_Qwen3-32B-cot_predict_think==False_nobs2-v0', 'path_think_save': None, 'path_sql_answers_save': '/data/home/vkropoti/sql_llm_answers/bird_dev_m_schema/sql_predict_Qwen3-32B-cot_predict_think==False_nobs2-v0', 'path_to_save_scores': '/data/home/vkropoti/sql_llm_answers/bird_dev_m_schema/sql_results_Qwen3-32B-cot_predict_think==False_nobs2-v0', 'path_to_save_executed': '/data/home/vkropoti/sql_llm_answers/bird_dev_m_schema/sql_executed_Qwen3-32B-cot_predict_think==False_nobs2-v0'}\n",
      "\n",
      "Модель успешно загружена\n",
      "Пример промпта\n",
      "<|im_start|>system\n",
      "\n",
      "You are a data science expert. Below, you are provided with a database schema and a natural language question. Your task is to understand the schema and generate a valid SQL query to answer the question.\n",
      "\n",
      "Database Engine: SQLite\n",
      "\n",
      "You will be given an additional analysis of other models, please take it into account, so the plan is\n",
      "1. Analyse given addition analysis from other models (find in which analysis the same and differ, how to use that to answer question)\n",
      "2. Combine best from previous part and think how to solve the problem (analyze tables, take care what columns avaliable in each table and so on, check the syntacsis)\n",
      "3. Create the answers. The answer should be only sql query.\n",
      "\n",
      "Carefully follow the instruction and add <|im_end|> and the end of the final answer<|im_end|>\n",
      "<|im_start|>user\n",
      "Here is addition analysis from other models which can be helpfull, please take this into account but be careful (choose the best from each analysis, combine them to make the most proper answer):\n",
      "\n",
      "model 0 analysis:\n",
      " SELECT MAX(`Percent (%) Eligible Free (K-12)`) FROM frpm WHERE `County Name` = 'Alameda';\n",
      "\n",
      "model 1 analysis:\n",
      " SELECT MAX(`Free Meal Count (K-12)` / `Enrollment (K-12)`) FROM frpm WHERE `County Name` = 'Alameda';\n",
      "\n",
      "\n",
      "here is avaliable tables and their structure below\n",
      "【DB_ID】 california_schools\n",
      "【Schema】\n",
      "# Table: frpm\n",
      "[\n",
      "(CDSCode:TEXT, maps to schools.CDSCode, Primary Key, Examples: [01100170109835, 01100170112607, 01100170118489]),\n",
      "(Academic Year:TEXT, Examples: [2014-2015]),\n",
      "(County Code:TEXT, Examples: [01, 02, 03]),\n",
      "(District Code:INTEGER, Examples: [10017, 31609, 31617]),\n",
      "(School Code:TEXT, Examples: [0109835, 0112607, 0118489]),\n",
      "(County Name:TEXT, Examples: [Alameda, Alpine, Amador]),\n",
      "(District Name:TEXT),\n",
      "(School Name:TEXT, Examples: [FAME Public Charter]),\n",
      "(District Type:TEXT, Examples: [County Office of Education (COE)]),\n",
      "(School Type:TEXT, Examples: [K-12 Schools (Public)]),\n",
      "(Educational Option Type:TEXT, Examples: [Traditional]),\n",
      "(NSLP Provision Status:TEXT, Examples: [Breakfast Provision 2]),\n",
      "(Charter School (Y/N):INTEGER, Examples: [1, 0]),\n",
      "(Charter School Number:TEXT, Examples: [0728, 0811, 1049]),\n",
      "(Charter Funding Type:TEXT, Examples: [Directly funded]),\n",
      "(IRC:INTEGER, Examples: [1, 0]),\n",
      "(Low Grade:TEXT, Examples: [K, 9, 1]),\n",
      "(High Grade:TEXT, Examples: [12, 8, 5]),\n",
      "(Enrollment (K-12):REAL, Examples: [1087.0, 395.0, 244.0]),\n",
      "(Free Meal Count (K-12):REAL, Examples: [565.0, 186.0, 134.0]),\n",
      "(Percent (%) Eligible Free (K-12):REAL, Examples: [0.519779208831647, 0.470886075949367, 0.549180327868853]),\n",
      "(FRPM Count (K-12):REAL, Examples: [715.0, 186.0, 175.0]),\n",
      "(Percent (%) Eligible FRPM (K-12):REAL, Examples: [0.657773689052438, 0.470886075949367, 0.717213114754098]),\n",
      "(Enrollment (Ages 5-17):REAL, Examples: [1070.0, 376.0, 230.0]),\n",
      "(Free Meal Count (Ages 5-17):REAL, Examples: [553.0, 182.0, 128.0]),\n",
      "(Percent (%) Eligible Free (Ages 5-17):REAL, Examples: [0.516822429906542, 0.484042553191489, 0.556521739130435]),\n",
      "(FRPM Count (Ages 5-17):REAL, Examples: [702.0, 182.0, 168.0]),\n",
      "(Percent (%) Eligible FRPM (Ages 5-17):REAL, Examples: [0.65607476635514, 0.484042553191489, 0.730434782608696]),\n",
      "(2013-14 CALPADS Fall 1 Certification Status:INTEGER, Examples: [1])\n",
      "]\n",
      "# Table: satscores\n",
      "[\n",
      "(cds:TEXT, maps to schools.CDSCode, Primary Key, Examples: [10101080000000, 10101080109991, 10101080111682]),\n",
      "(rtype:TEXT, Examples: [D, S]),\n",
      "(sname:TEXT, Examples: [FAME Public Charter]),\n",
      "(dname:TEXT, Examples: [Alameda County Office of Education]),\n",
      "(cname:TEXT, Examples: [Alameda, Amador, Butte]),\n",
      "(enroll12:INTEGER, Examples: [398, 62, 75]),\n",
      "(NumTstTakr:INTEGER, Examples: [88, 17, 71]),\n",
      "(AvgScrRead:INTEGER, Examples: [418, 503, 397]),\n",
      "(AvgScrMath:INTEGER, Examples: [418, 546, 387]),\n",
      "(AvgScrWrite:INTEGER, Examples: [417, 505, 395]),\n",
      "(NumGE1500:INTEGER, Examples: [14, 9, 5])\n",
      "]\n",
      "# Table: schools\n",
      "[\n",
      "(CDSCode:TEXT, Primary Key, Examples: [01100170000000, 01100170109835, 01100170112607]),\n",
      "(NCESDist:TEXT, Examples: [0691051, 0600002, 0600003]),\n",
      "(NCESSchool:TEXT, Examples: [10546, 10947, 12283]),\n",
      "(StatusType:TEXT, Examples: [Active, Closed, Merged]),\n",
      "(County:TEXT, Examples: [Alameda, Alpine, Amador]),\n",
      "(District:TEXT),\n",
      "(School:TEXT, Examples: [FAME Public Charter]),\n",
      "(Street:TEXT, Examples: [313 West Winton Avenue]),\n",
      "(StreetAbr:TEXT, Examples: [313 West Winton Ave.]),\n",
      "(City:TEXT, Examples: [Hayward, Newark, Oakland]),\n",
      "(Zip:TEXT, Examples: [94544-1136, 94560-5359, 94612-3355]),\n",
      "(State:TEXT, Examples: [CA]),\n",
      "(MailStreet:TEXT, Examples: [313 West Winton Avenue]),\n",
      "(MailStrAbr:TEXT, Examples: [313 West Winton Ave.]),\n",
      "(MailCity:TEXT, Examples: [Hayward, Newark, Oakland]),\n",
      "(MailZip:TEXT, Examples: [94544-1136, 94560-5359, 94612]),\n",
      "(MailState:TEXT, Examples: [CA]),\n",
      "(Phone:TEXT, Examples: [(510) 887-0152, (510) 596-8901, (510) 686-4131]),\n",
      "(Ext:TEXT, Examples: [130, 1240, 1200]),\n",
      "(Website:TEXT, Examples: [www.acoe.org]),\n",
      "(OpenDate:DATE, Examples: [2005-08-29]),\n",
      "(ClosedDate:DATE, Examples: [2015-07-31]),\n",
      "(Charter:INTEGER, Examples: [1, 0]),\n",
      "(CharterNum:TEXT, Examples: [0728, 0811, 1049]),\n",
      "(FundingType:TEXT, Examples: [Directly funded]),\n",
      "(DOC:TEXT, Examples: [00, 31, 34]),\n",
      "(DOCType:TEXT, Examples: [County Office of Education (COE)]),\n",
      "(SOC:TEXT, Examples: [65, 66, 60]),\n",
      "(SOCType:TEXT, Examples: [K-12 Schools (Public)]),\n",
      "(EdOpsCode:TEXT, Examples: [TRAD, JUV, COMM]),\n",
      "(EdOpsName:TEXT, Examples: [Traditional]),\n",
      "(EILCode:TEXT, Examples: [ELEMHIGH, HS, ELEM]),\n",
      "(EILName:TEXT, Examples: [Elementary-High Combination]),\n",
      "(GSoffered:TEXT, Examples: [K-12, 9-12, K-8]),\n",
      "(GSserved:TEXT, Examples: [K-12, 9-12, K-7]),\n",
      "(Virtual:TEXT, Examples: [P, N, F]),\n",
      "(Magnet:INTEGER, Examples: [0, 1]),\n",
      "(Latitude:REAL, Examples: [37.658212, 37.521436, 37.80452]),\n",
      "(Longitude:REAL, Examples: [-122.09713, -121.99391, -122.26815]),\n",
      "(AdmFName1:TEXT, Examples: [L Karen, Laura, Clifford]),\n",
      "(AdmLName1:TEXT, Examples: [Monroe, Robell, Thompson]),\n",
      "(AdmEmail1:TEXT),\n",
      "(AdmFName2:TEXT, Examples: [Sau-Lim (Lance), Jennifer, Annalisa]),\n",
      "(AdmLName2:TEXT, Examples: [Tsang, Koelling, Moore]),\n",
      "(AdmEmail2:TEXT),\n",
      "(AdmFName3:TEXT, Examples: [Drew, Irma, Vickie]),\n",
      "(AdmLName3:TEXT, Examples: [Sarratore, Munoz, Chang]),\n",
      "(AdmEmail3:TEXT),\n",
      "(LastUpdate:DATE, Examples: [2015-06-23])\n",
      "]\n",
      "【Foreign keys】\n",
      "frpm.CDSCode=schools.CDSCode\n",
      "satscores.cds=schools.CDSCode\n",
      "\n",
      "-- Using valid SQLite and understanding External Knowledge, answer the following questions for the tables provided above.\n",
      "-- What is the highest eligible free rate for K-12 students in the schools in Alameda County?\n",
      "-- External Knowledge: Eligible free rate for K-12 = `Free Meal Count (K-12)` / `Enrollment (K-12)`\n",
      "\n",
      "\n",
      "Generate the SQLite for the above question after thinking step by step: \n",
      "\n",
      "\n",
      "Instructions:\n",
      "- Make sure you only output the information that is asked in the question. If the question asks for a specific column, make sure to only include that column in the SELECT clause, nothing more.\n",
      "- The generated query should return all of the information asked in the question without any missing or extra information.\n",
      "- Before generating the final SQL query, please think through the steps of how to write the query.\n",
      "- Do not misuse column names, keep them in quotes `\n",
      "- Carefully understand what colomns belond to what tables\n",
      "- Use only initial column names, change names prohibited\n",
      "        \n",
      "Output Format:\n",
      "In your answer, please enclose the generated SQL query in a code block:\n",
      "```\n",
      "-- Your SQL query\n",
      "```    \n",
      "and nothing else, no exaplains, no comments (asnwer should be less than 512 characters)\n",
      "\n",
      "Take a deep breath and think step by step to find the correct SQL query in SQLite format.\n",
      "\n",
      "Question repetition: What is the highest eligible free rate for K-12 students in the schools in Alameda County?\n",
      "\n",
      "Be care! Include only what i want it questiona and nothing else<|im_end|>\n",
      "<|im_start|>assistant\n",
      "<think>\n",
      "\n",
      "</think>\n",
      "\n",
      "\n",
      "\n",
      "\n",
      "Максимальное количество токенов в промптах: 7495\n",
      "\n",
      "начинаем скорринг\n",
      "Загружаем чаты с данными...\n",
      "Данные успешно загружены\n",
      "Начали генерацию SQL запросов\n"
     ]
    },
    {
     "name": "stderr",
     "output_type": "stream",
     "text": [
      "Processed prompts: 100%|██████████| 1534/1534 [06:30<00:00,  3.93it/s, est. speed input: 9760.24 toks/s, output: 221.20 toks/s]"
     ]
    },
    {
     "name": "stdout",
     "output_type": "stream",
     "text": [
      "extract_think количество ошибок:  0\n",
      "extract_sql количество ошибок:  0\n",
      "Закончили генерацию SQL запросов\n",
      "Начали скорр полученных SQL запросов\n"
     ]
    },
    {
     "name": "stderr",
     "output_type": "stream",
     "text": [
      "\n"
     ]
    },
    {
     "name": "stdout",
     "output_type": "stream",
     "text": [
      "Qwen3-32B DEV Финальный результат EX: 61.15\n",
      "Qwen3-32B процент запросов, которые успешно выполнились DEV: 96.74%\n",
      "====================================================================================================\n",
      "\n",
      "\n",
      "Загружаем чаты с данными...\n",
      "Данные успешно загружены\n",
      "Начали генерацию SQL запросов\n"
     ]
    },
    {
     "name": "stderr",
     "output_type": "stream",
     "text": [
      "Processed prompts: 100%|██████████| 1534/1534 [06:25<00:00,  3.98it/s, est. speed input: 9876.44 toks/s, output: 219.83 toks/s] "
     ]
    },
    {
     "name": "stdout",
     "output_type": "stream",
     "text": [
      "extract_think количество ошибок:  0\n",
      "extract_sql количество ошибок:  0\n",
      "Закончили генерацию SQL запросов\n",
      "Начали скорр полученных SQL запросов\n"
     ]
    },
    {
     "name": "stderr",
     "output_type": "stream",
     "text": [
      "\n"
     ]
    },
    {
     "name": "stdout",
     "output_type": "stream",
     "text": [
      "Qwen3-32B DEV Финальный результат EX: 61.99\n",
      "Qwen3-32B процент запросов, которые успешно выполнились DEV: 97.26%\n",
      "====================================================================================================\n",
      "\n",
      "\n",
      "Загружаем чаты с данными...\n",
      "Данные успешно загружены\n",
      "Начали генерацию SQL запросов\n"
     ]
    },
    {
     "name": "stderr",
     "output_type": "stream",
     "text": [
      "Processed prompts: 100%|██████████| 1534/1534 [06:24<00:00,  3.99it/s, est. speed input: 9918.14 toks/s, output: 221.37 toks/s] "
     ]
    },
    {
     "name": "stdout",
     "output_type": "stream",
     "text": [
      "extract_think количество ошибок:  0\n",
      "extract_sql количество ошибок:  0\n",
      "Закончили генерацию SQL запросов\n",
      "Начали скорр полученных SQL запросов\n"
     ]
    },
    {
     "name": "stderr",
     "output_type": "stream",
     "text": [
      "\n",
      "Exception ignored in: <bound method IPythonKernel._clean_thread_parent_frames of <ipykernel.ipkernel.IPythonKernel object at 0x7f6aa6ab99d0>>\n",
      "Traceback (most recent call last):\n",
      "  File \"/data/home/vkropoti/vllm/lib64/python3.12/site-packages/ipykernel/ipkernel.py\", line 775, in _clean_thread_parent_frames\n",
      "    def _clean_thread_parent_frames(\n",
      "\n",
      "func_timeout.dafunc.FunctionTimedOut-7250007951200212135: Function execute_query (args=('/data/home/vkropoti/sql_data/dev_databases/', 'financial', \"SELECT T1.account_id FROM trans AS T1 INNER JOIN account AS T2 ON T1.account_id = T2.account_id WHERE STRFTIME('%Y', T1.date) = '1998' AND T1.operation = 'VYBER KARTOU' AND T1.amount < (SELECT AVG(amount) FROM trans WHERE STRFTIME('%Y', date) = '1998')\", \"SELECT DISTINCT `client`.`client_id`\\nFROM `trans`\\nJOIN `account` ON `trans`.`account_id` = `account`.`account_id`\\nJOIN `disp` ON `account`.`account_id` = `disp`.`account_id`\\nJOIN `client` ON `disp`.`client_id` = `client`.`client_id`\\nWHERE `trans`.`operation` = 'VYBER KARTOU'\\n  AND `trans`.`date` BETWEEN '1998-01-01' AND '1998-12-31'\\n  AND `trans`.`amount` < (\\n    SELECT AVG(`amount`)\\n    FROM `trans`\\n    WHERE `operation` = 'VYBER KARTOU'\\n      AND `date` BETWEEN '1998-01-01' AND '1998-12-31'\\n  );\")) (kwargs={}) timed out after 5.000000 seconds.\n",
      "\n"
     ]
    },
    {
     "name": "stdout",
     "output_type": "stream",
     "text": [
      "Qwen3-32B DEV Финальный результат EX: 61.54\n",
      "Qwen3-32B процент запросов, которые успешно выполнились DEV: 96.81%\n",
      "====================================================================================================\n",
      "\n",
      "\n",
      "Загружаем чаты с данными...\n",
      "Данные успешно загружены\n",
      "Начали генерацию SQL запросов\n"
     ]
    },
    {
     "name": "stderr",
     "output_type": "stream",
     "text": [
      "Processed prompts: 100%|██████████| 1534/1534 [06:25<00:00,  3.98it/s, est. speed input: 9882.62 toks/s, output: 222.89 toks/s] "
     ]
    },
    {
     "name": "stdout",
     "output_type": "stream",
     "text": [
      "extract_think количество ошибок:  0\n",
      "extract_sql количество ошибок:  0\n",
      "Закончили генерацию SQL запросов\n",
      "Начали скорр полученных SQL запросов\n"
     ]
    },
    {
     "name": "stderr",
     "output_type": "stream",
     "text": [
      "\n"
     ]
    },
    {
     "name": "stdout",
     "output_type": "stream",
     "text": [
      "Qwen3-32B DEV Финальный результат EX: 61.80\n",
      "Qwen3-32B процент запросов, которые успешно выполнились DEV: 96.94%\n",
      "====================================================================================================\n",
      "\n",
      "\n",
      "Загружаем чаты с данными...\n",
      "Данные успешно загружены\n",
      "Начали генерацию SQL запросов\n"
     ]
    },
    {
     "name": "stderr",
     "output_type": "stream",
     "text": [
      "Processed prompts: 100%|██████████| 1534/1534 [06:26<00:00,  3.97it/s, est. speed input: 9854.58 toks/s, output: 221.45 toks/s] "
     ]
    },
    {
     "name": "stdout",
     "output_type": "stream",
     "text": [
      "extract_think количество ошибок:  0\n",
      "extract_sql количество ошибок:  0\n",
      "Закончили генерацию SQL запросов\n",
      "Начали скорр полученных SQL запросов\n"
     ]
    },
    {
     "name": "stderr",
     "output_type": "stream",
     "text": [
      "\n"
     ]
    },
    {
     "name": "stdout",
     "output_type": "stream",
     "text": [
      "Qwen3-32B DEV Финальный результат EX: 61.99\n",
      "Qwen3-32B процент запросов, которые успешно выполнились DEV: 96.54%\n",
      "====================================================================================================\n",
      "\n",
      "\n",
      "Загружаем чаты с данными...\n",
      "Данные успешно загружены\n",
      "Начали генерацию SQL запросов\n"
     ]
    },
    {
     "name": "stderr",
     "output_type": "stream",
     "text": [
      "Processed prompts: 100%|██████████| 1534/1534 [06:27<00:00,  3.96it/s, est. speed input: 9842.39 toks/s, output: 221.32 toks/s] "
     ]
    },
    {
     "name": "stdout",
     "output_type": "stream",
     "text": [
      "extract_think количество ошибок:  0\n",
      "extract_sql количество ошибок:  0\n",
      "Закончили генерацию SQL запросов\n",
      "Начали скорр полученных SQL запросов\n"
     ]
    },
    {
     "name": "stderr",
     "output_type": "stream",
     "text": [
      "\n"
     ]
    },
    {
     "name": "stdout",
     "output_type": "stream",
     "text": [
      "Qwen3-32B DEV Финальный результат EX: 61.28\n",
      "Qwen3-32B процент запросов, которые успешно выполнились DEV: 96.22%\n",
      "====================================================================================================\n",
      "\n",
      "\n",
      "Загружаем чаты с данными...\n",
      "Данные успешно загружены\n",
      "Начали генерацию SQL запросов\n"
     ]
    },
    {
     "name": "stderr",
     "output_type": "stream",
     "text": [
      "Processed prompts: 100%|██████████| 1534/1534 [06:28<00:00,  3.95it/s, est. speed input: 9816.97 toks/s, output: 219.35 toks/s] "
     ]
    },
    {
     "name": "stdout",
     "output_type": "stream",
     "text": [
      "extract_think количество ошибок:  0\n",
      "extract_sql количество ошибок:  0\n",
      "Закончили генерацию SQL запросов\n",
      "Начали скорр полученных SQL запросов\n"
     ]
    },
    {
     "name": "stderr",
     "output_type": "stream",
     "text": [
      "\n"
     ]
    },
    {
     "name": "stdout",
     "output_type": "stream",
     "text": [
      "Qwen3-32B DEV Финальный результат EX: 61.08\n",
      "Qwen3-32B процент запросов, которые успешно выполнились DEV: 96.54%\n",
      "====================================================================================================\n",
      "\n",
      "\n",
      "Загружаем чаты с данными...\n",
      "Данные успешно загружены\n",
      "Начали генерацию SQL запросов\n"
     ]
    },
    {
     "name": "stderr",
     "output_type": "stream",
     "text": [
      "Processed prompts: 100%|██████████| 1534/1534 [06:27<00:00,  3.96it/s, est. speed input: 9832.81 toks/s, output: 219.19 toks/s] "
     ]
    },
    {
     "name": "stdout",
     "output_type": "stream",
     "text": [
      "extract_think количество ошибок:  0\n",
      "extract_sql количество ошибок:  0\n",
      "Закончили генерацию SQL запросов\n",
      "Начали скорр полученных SQL запросов\n"
     ]
    },
    {
     "name": "stderr",
     "output_type": "stream",
     "text": [
      "\n"
     ]
    },
    {
     "name": "stdout",
     "output_type": "stream",
     "text": [
      "Qwen3-32B DEV Финальный результат EX: 61.60\n",
      "Qwen3-32B процент запросов, которые успешно выполнились DEV: 96.74%\n",
      "====================================================================================================\n",
      "\n",
      "\n",
      "Загружаем чаты с данными...\n",
      "Данные успешно загружены\n",
      "Начали генерацию SQL запросов\n"
     ]
    },
    {
     "name": "stderr",
     "output_type": "stream",
     "text": [
      "Processed prompts: 100%|██████████| 1534/1534 [06:26<00:00,  3.97it/s, est. speed input: 9850.10 toks/s, output: 220.54 toks/s] "
     ]
    },
    {
     "name": "stdout",
     "output_type": "stream",
     "text": [
      "extract_think количество ошибок:  0\n",
      "extract_sql количество ошибок:  0\n",
      "Закончили генерацию SQL запросов\n",
      "Начали скорр полученных SQL запросов\n"
     ]
    },
    {
     "name": "stderr",
     "output_type": "stream",
     "text": [
      "\n"
     ]
    },
    {
     "name": "stdout",
     "output_type": "stream",
     "text": [
      "Qwen3-32B DEV Финальный результат EX: 61.34\n",
      "Qwen3-32B процент запросов, которые успешно выполнились DEV: 97.20%\n",
      "====================================================================================================\n",
      "\n",
      "\n",
      "Загружаем чаты с данными...\n",
      "Данные успешно загружены\n",
      "Начали генерацию SQL запросов\n"
     ]
    },
    {
     "name": "stderr",
     "output_type": "stream",
     "text": [
      "Processed prompts: 100%|██████████| 1534/1534 [06:24<00:00,  3.99it/s, est. speed input: 9955.03 toks/s, output: 220.53 toks/s] "
     ]
    },
    {
     "name": "stdout",
     "output_type": "stream",
     "text": [
      "extract_think количество ошибок:  0\n",
      "extract_sql количество ошибок:  0\n",
      "Закончили генерацию SQL запросов\n",
      "Начали скорр полученных SQL запросов\n"
     ]
    },
    {
     "name": "stderr",
     "output_type": "stream",
     "text": [
      "\n"
     ]
    },
    {
     "name": "stdout",
     "output_type": "stream",
     "text": [
      "Qwen3-32B DEV Финальный результат EX: 61.73\n",
      "Qwen3-32B процент запросов, которые успешно выполнились DEV: 96.94%\n",
      "====================================================================================================\n",
      "\n",
      "\n",
      "Загружаем чаты с данными...\n",
      "Данные успешно загружены\n",
      "Начали генерацию SQL запросов\n"
     ]
    },
    {
     "name": "stderr",
     "output_type": "stream",
     "text": [
      "Processed prompts: 100%|██████████| 1534/1534 [06:25<00:00,  3.98it/s, est. speed input: 9918.64 toks/s, output: 220.44 toks/s] "
     ]
    },
    {
     "name": "stdout",
     "output_type": "stream",
     "text": [
      "extract_think количество ошибок:  0\n",
      "extract_sql количество ошибок:  0\n",
      "Закончили генерацию SQL запросов\n",
      "Начали скорр полученных SQL запросов\n"
     ]
    },
    {
     "name": "stderr",
     "output_type": "stream",
     "text": [
      "\n"
     ]
    },
    {
     "name": "stdout",
     "output_type": "stream",
     "text": [
      "Qwen3-32B DEV Финальный результат EX: 62.32\n",
      "Qwen3-32B процент запросов, которые успешно выполнились DEV: 96.94%\n",
      "====================================================================================================\n",
      "\n",
      "\n",
      "Загружаем чаты с данными...\n",
      "Данные успешно загружены\n",
      "Начали генерацию SQL запросов\n"
     ]
    },
    {
     "name": "stderr",
     "output_type": "stream",
     "text": [
      "Processed prompts: 100%|██████████| 1534/1534 [06:30<00:00,  3.93it/s, est. speed input: 9765.70 toks/s, output: 221.25 toks/s]"
     ]
    },
    {
     "name": "stdout",
     "output_type": "stream",
     "text": [
      "extract_think количество ошибок:  0\n",
      "extract_sql количество ошибок:  0\n",
      "Закончили генерацию SQL запросов\n",
      "Начали скорр полученных SQL запросов\n"
     ]
    },
    {
     "name": "stderr",
     "output_type": "stream",
     "text": [
      "\n"
     ]
    },
    {
     "name": "stdout",
     "output_type": "stream",
     "text": [
      "Qwen3-32B DEV Финальный результат EX: 61.21\n",
      "Qwen3-32B процент запросов, которые успешно выполнились DEV: 96.68%\n",
      "====================================================================================================\n",
      "\n",
      "\n",
      "Загружаем чаты с данными...\n",
      "Данные успешно загружены\n",
      "Начали генерацию SQL запросов\n"
     ]
    },
    {
     "name": "stderr",
     "output_type": "stream",
     "text": [
      "Processed prompts: 100%|██████████| 1534/1534 [06:27<00:00,  3.95it/s, est. speed input: 9817.16 toks/s, output: 219.62 toks/s] "
     ]
    },
    {
     "name": "stdout",
     "output_type": "stream",
     "text": [
      "extract_think количество ошибок:  0\n",
      "extract_sql количество ошибок:  0\n",
      "Закончили генерацию SQL запросов\n",
      "Начали скорр полученных SQL запросов\n"
     ]
    },
    {
     "name": "stderr",
     "output_type": "stream",
     "text": [
      "\n"
     ]
    },
    {
     "name": "stdout",
     "output_type": "stream",
     "text": [
      "Qwen3-32B DEV Финальный результат EX: 61.93\n",
      "Qwen3-32B процент запросов, которые успешно выполнились DEV: 96.87%\n",
      "====================================================================================================\n",
      "\n",
      "\n",
      "Загружаем чаты с данными...\n",
      "Данные успешно загружены\n",
      "Начали генерацию SQL запросов\n"
     ]
    },
    {
     "name": "stderr",
     "output_type": "stream",
     "text": [
      "Processed prompts: 100%|██████████| 1534/1534 [06:22<00:00,  4.01it/s, est. speed input: 9952.42 toks/s, output: 221.11 toks/s] "
     ]
    },
    {
     "name": "stdout",
     "output_type": "stream",
     "text": [
      "extract_think количество ошибок:  0\n",
      "extract_sql количество ошибок:  0\n",
      "Закончили генерацию SQL запросов\n",
      "Начали скорр полученных SQL запросов\n"
     ]
    },
    {
     "name": "stderr",
     "output_type": "stream",
     "text": [
      "\n"
     ]
    },
    {
     "name": "stdout",
     "output_type": "stream",
     "text": [
      "Qwen3-32B DEV Финальный результат EX: 61.86\n",
      "Qwen3-32B процент запросов, которые успешно выполнились DEV: 97.00%\n",
      "====================================================================================================\n",
      "\n",
      "\n",
      "Загружаем чаты с данными...\n",
      "Данные успешно загружены\n",
      "Начали генерацию SQL запросов\n"
     ]
    },
    {
     "name": "stderr",
     "output_type": "stream",
     "text": [
      "Processed prompts: 100%|██████████| 1534/1534 [06:19<00:00,  4.04it/s, est. speed input: 10024.18 toks/s, output: 223.36 toks/s]"
     ]
    },
    {
     "name": "stdout",
     "output_type": "stream",
     "text": [
      "extract_think количество ошибок:  0\n",
      "extract_sql количество ошибок:  0\n",
      "Закончили генерацию SQL запросов\n",
      "Начали скорр полученных SQL запросов\n"
     ]
    },
    {
     "name": "stderr",
     "output_type": "stream",
     "text": [
      "\n"
     ]
    },
    {
     "name": "stdout",
     "output_type": "stream",
     "text": [
      "Qwen3-32B DEV Финальный результат EX: 61.99\n",
      "Qwen3-32B процент запросов, которые успешно выполнились DEV: 96.81%\n",
      "====================================================================================================\n",
      "\n",
      "\n",
      "Загружаем чаты с данными...\n",
      "Данные успешно загружены\n",
      "Начали генерацию SQL запросов\n"
     ]
    },
    {
     "name": "stderr",
     "output_type": "stream",
     "text": [
      "Processed prompts: 100%|██████████| 1534/1534 [06:39<00:00,  3.84it/s, est. speed input: 9533.50 toks/s, output: 214.88 toks/s]"
     ]
    },
    {
     "name": "stdout",
     "output_type": "stream",
     "text": [
      "extract_think количество ошибок:  0\n",
      "extract_sql количество ошибок:  0\n",
      "Закончили генерацию SQL запросов\n",
      "Начали скорр полученных SQL запросов\n"
     ]
    },
    {
     "name": "stderr",
     "output_type": "stream",
     "text": [
      "\n"
     ]
    },
    {
     "name": "stdout",
     "output_type": "stream",
     "text": [
      "Qwen3-32B DEV Финальный результат EX: 61.73\n",
      "Qwen3-32B процент запросов, которые успешно выполнились DEV: 96.74%\n",
      "====================================================================================================\n",
      "\n",
      "\n",
      "Загружаем чаты с данными...\n",
      "Данные успешно загружены\n",
      "Начали генерацию SQL запросов\n"
     ]
    },
    {
     "name": "stderr",
     "output_type": "stream",
     "text": [
      "Processed prompts: 100%|██████████| 1534/1534 [06:33<00:00,  3.90it/s, est. speed input: 9684.42 toks/s, output: 216.23 toks/s]"
     ]
    },
    {
     "name": "stdout",
     "output_type": "stream",
     "text": [
      "extract_think количество ошибок:  0\n",
      "extract_sql количество ошибок:  0\n",
      "Закончили генерацию SQL запросов\n",
      "Начали скорр полученных SQL запросов\n"
     ]
    },
    {
     "name": "stderr",
     "output_type": "stream",
     "text": [
      "\n",
      "Exception ignored in: <bound method IPythonKernel._clean_thread_parent_frames of <ipykernel.ipkernel.IPythonKernel object at 0x7f6aa6ab99d0>>\n",
      "Traceback (most recent call last):\n",
      "  File \"/data/home/vkropoti/vllm/lib64/python3.12/site-packages/ipykernel/ipkernel.py\", line 775, in _clean_thread_parent_frames\n",
      "    def _clean_thread_parent_frames(\n",
      "\n",
      "func_timeout.dafunc.FunctionTimedOut-4967455838463213409: Function execute_query (args=('/data/home/vkropoti/sql_data/dev_databases/', 'financial', \"SELECT T1.account_id FROM trans AS T1 INNER JOIN account AS T2 ON T1.account_id = T2.account_id WHERE STRFTIME('%Y', T1.date) = '1998' AND T1.operation = 'VYBER KARTOU' AND T1.amount < (SELECT AVG(amount) FROM trans WHERE STRFTIME('%Y', date) = '1998')\", \"SELECT DISTINCT client.client_id\\nFROM trans\\nJOIN account ON trans.account_id = account.account_id\\nJOIN disp ON account.account_id = disp.account_id\\nJOIN client ON disp.client_id = client.client_id\\nWHERE trans.operation = 'VYBER KARTOU'\\n  AND trans.date BETWEEN '1998-01-01' AND '1998-12-31'\\n  AND trans.amount < (\\n    SELECT AVG(amount)\\n    FROM trans\\n    WHERE operation = 'VYBER KARTOU'\\n      AND date BETWEEN '1998-01-01' AND '1998-12-31'\\n  );\")) (kwargs={}) timed out after 5.000000 seconds.\n",
      "\n"
     ]
    },
    {
     "name": "stdout",
     "output_type": "stream",
     "text": [
      "Qwen3-32B DEV Финальный результат EX: 61.21\n",
      "Qwen3-32B процент запросов, которые успешно выполнились DEV: 96.68%\n",
      "====================================================================================================\n",
      "\n",
      "\n",
      "Загружаем чаты с данными...\n",
      "Данные успешно загружены\n",
      "Начали генерацию SQL запросов\n"
     ]
    },
    {
     "name": "stderr",
     "output_type": "stream",
     "text": [
      "Processed prompts: 100%|██████████| 1534/1534 [06:33<00:00,  3.90it/s, est. speed input: 9674.78 toks/s, output: 218.28 toks/s]"
     ]
    },
    {
     "name": "stdout",
     "output_type": "stream",
     "text": [
      "extract_think количество ошибок:  0\n",
      "extract_sql количество ошибок:  0\n",
      "Закончили генерацию SQL запросов\n",
      "Начали скорр полученных SQL запросов\n"
     ]
    },
    {
     "name": "stderr",
     "output_type": "stream",
     "text": [
      "\n"
     ]
    },
    {
     "name": "stdout",
     "output_type": "stream",
     "text": [
      "Qwen3-32B DEV Финальный результат EX: 61.21\n",
      "Qwen3-32B процент запросов, которые успешно выполнились DEV: 96.94%\n",
      "====================================================================================================\n",
      "\n",
      "\n",
      "Загружаем чаты с данными...\n",
      "Данные успешно загружены\n",
      "Начали генерацию SQL запросов\n"
     ]
    },
    {
     "name": "stderr",
     "output_type": "stream",
     "text": [
      "Processed prompts: 100%|██████████| 1534/1534 [06:22<00:00,  4.01it/s, est. speed input: 9965.45 toks/s, output: 223.44 toks/s] "
     ]
    },
    {
     "name": "stdout",
     "output_type": "stream",
     "text": [
      "extract_think количество ошибок:  0\n",
      "extract_sql количество ошибок:  0\n",
      "Закончили генерацию SQL запросов\n",
      "Начали скорр полученных SQL запросов\n"
     ]
    },
    {
     "name": "stderr",
     "output_type": "stream",
     "text": [
      "\n"
     ]
    },
    {
     "name": "stdout",
     "output_type": "stream",
     "text": [
      "Qwen3-32B DEV Финальный результат EX: 61.47\n",
      "Qwen3-32B процент запросов, которые успешно выполнились DEV: 97.00%\n",
      "====================================================================================================\n",
      "\n",
      "\n",
      "Загружаем чаты с данными...\n",
      "Данные успешно загружены\n",
      "Начали генерацию SQL запросов\n"
     ]
    },
    {
     "name": "stderr",
     "output_type": "stream",
     "text": [
      "Processed prompts: 100%|██████████| 1534/1534 [06:25<00:00,  3.98it/s, est. speed input: 9874.20 toks/s, output: 220.93 toks/s] "
     ]
    },
    {
     "name": "stdout",
     "output_type": "stream",
     "text": [
      "extract_think количество ошибок:  0\n",
      "extract_sql количество ошибок:  0\n",
      "Закончили генерацию SQL запросов\n",
      "Начали скорр полученных SQL запросов\n"
     ]
    },
    {
     "name": "stderr",
     "output_type": "stream",
     "text": [
      "\n"
     ]
    },
    {
     "name": "stdout",
     "output_type": "stream",
     "text": [
      "Qwen3-32B DEV Финальный результат EX: 61.80\n",
      "Qwen3-32B процент запросов, которые успешно выполнились DEV: 97.07%\n",
      "====================================================================================================\n",
      "\n",
      "\n"
     ]
    }
   ],
   "source": [
    "run_cot_experiment(model,arr_seeds,arr_versions, type_cot,num_observations=num_observations)"
   ]
  },
  {
   "cell_type": "code",
   "execution_count": 7,
   "id": "567aebd6-c42e-43f1-b038-e70215d348ba",
   "metadata": {},
   "outputs": [
    {
     "name": "stdout",
     "output_type": "stream",
     "text": [
      "[37, 642, 322, 511, 495, 681, 339, 206, 526, 436, 742, 800, 417, 762, 814, 972, 541, 295, 441, 275]\n",
      "model: Qwen3-32B\n"
     ]
    }
   ],
   "source": [
    "n= 20\n",
    "arr_seeds = [random.randint(0,1000) for _ in range(n)]\n",
    "arr_versions = [x for x in range(n)]\n",
    "model = \"Qwen3-32B\"\n",
    "num_observations = 3\n",
    "type_cot = 'predict'\n",
    "print(arr_seeds)\n",
    "print(f\"model: {model}\")"
   ]
  },
  {
   "cell_type": "code",
   "execution_count": 8,
   "id": "ae9448a7-0cef-4f51-b3ca-c3e9733ea56f",
   "metadata": {
    "scrolled": true
   },
   "outputs": [
    {
     "name": "stdout",
     "output_type": "stream",
     "text": [
      "Загружаем модель...\n"
     ]
    },
    {
     "name": "stderr",
     "output_type": "stream",
     "text": [
      "Loading safetensors checkpoint shards:   0% Completed | 0/17 [00:00<?, ?it/s]\n",
      "Loading safetensors checkpoint shards:   6% Completed | 1/17 [00:01<00:23,  1.49s/it]\n",
      "Loading safetensors checkpoint shards:  12% Completed | 2/17 [00:02<00:22,  1.50s/it]\n",
      "Loading safetensors checkpoint shards:  18% Completed | 3/17 [00:04<00:19,  1.42s/it]\n",
      "Loading safetensors checkpoint shards:  24% Completed | 4/17 [00:05<00:19,  1.46s/it]\n",
      "Loading safetensors checkpoint shards:  29% Completed | 5/17 [00:07<00:17,  1.47s/it]\n",
      "Loading safetensors checkpoint shards:  35% Completed | 6/17 [00:08<00:16,  1.46s/it]\n",
      "Loading safetensors checkpoint shards:  41% Completed | 7/17 [00:10<00:14,  1.46s/it]\n",
      "Loading safetensors checkpoint shards:  47% Completed | 8/17 [00:11<00:13,  1.46s/it]\n",
      "Loading safetensors checkpoint shards:  53% Completed | 9/17 [00:13<00:11,  1.47s/it]\n",
      "Loading safetensors checkpoint shards:  59% Completed | 10/17 [00:14<00:10,  1.48s/it]\n",
      "Loading safetensors checkpoint shards:  65% Completed | 11/17 [00:16<00:08,  1.48s/it]\n",
      "Loading safetensors checkpoint shards:  71% Completed | 12/17 [00:17<00:07,  1.48s/it]\n",
      "Loading safetensors checkpoint shards:  76% Completed | 13/17 [00:19<00:05,  1.48s/it]\n",
      "Loading safetensors checkpoint shards:  82% Completed | 14/17 [00:20<00:04,  1.48s/it]\n",
      "Loading safetensors checkpoint shards:  88% Completed | 15/17 [00:22<00:02,  1.49s/it]\n",
      "Loading safetensors checkpoint shards:  94% Completed | 16/17 [00:23<00:01,  1.50s/it]\n",
      "Loading safetensors checkpoint shards: 100% Completed | 17/17 [00:25<00:00,  1.50s/it]\n",
      "Loading safetensors checkpoint shards: 100% Completed | 17/17 [00:25<00:00,  1.48s/it]\n",
      "\u001b[1;36m(VllmWorker rank=0 pid=3301693)\u001b[0;0m \n"
     ]
    },
    {
     "name": "stdout",
     "output_type": "stream",
     "text": [
      "Модель успешно загружена\n",
      "model_config {'model': '/data/home/vkropoti/models/Qwen3-32B', 'tensor_parallel_size': 2, 'max_model_len': 40000, 'max_new_tokens': 1500, 'temperature': 0, 'top_k': 1, 'top_p': 0.8, 'gpu_memory_utilization': 0.9, 'trust_remote_code': False, 'seed': 37}\n",
      "\n",
      "prompts_config {'path_dev_json': '/home/vkropoti/vllm/dev.json', 'path_sql_dbs': '/data/home/vkropoti/sql_data/dev_databases/', 'use_reasoning': False, 'paths_to_cot': ['/data/home/vkropoti/sql_llm_answers/bird_dev_m_schema/sql_predict_Qwen3-32B-reasoning-v0', '/data/home/vkropoti/sql_llm_answers/bird_dev_m_schema/sql_predict_Qwen3-32B-reasoning-v1', '/data/home/vkropoti/sql_llm_answers/bird_dev_m_schema/sql_predict_Qwen3-32B-reasoning-v2']}\n",
      "\n",
      "save_config {'path_sql_save': '/data/home/vkropoti/sql_llm_answers/bird_dev_m_schema/sql_all_Qwen3-32B-cot_predict_think==False_nobs3-v0', 'path_think_save': None, 'path_sql_answers_save': '/data/home/vkropoti/sql_llm_answers/bird_dev_m_schema/sql_predict_Qwen3-32B-cot_predict_think==False_nobs3-v0', 'path_to_save_scores': '/data/home/vkropoti/sql_llm_answers/bird_dev_m_schema/sql_results_Qwen3-32B-cot_predict_think==False_nobs3-v0', 'path_to_save_executed': '/data/home/vkropoti/sql_llm_answers/bird_dev_m_schema/sql_executed_Qwen3-32B-cot_predict_think==False_nobs3-v0'}\n",
      "\n",
      "Модель успешно загружена\n",
      "Пример промпта\n",
      "<|im_start|>system\n",
      "\n",
      "You are a data science expert. Below, you are provided with a database schema and a natural language question. Your task is to understand the schema and generate a valid SQL query to answer the question.\n",
      "\n",
      "Database Engine: SQLite\n",
      "\n",
      "You will be given an additional analysis of other models, please take it into account, so the plan is\n",
      "1. Analyse given addition analysis from other models (find in which analysis the same and differ, how to use that to answer question)\n",
      "2. Combine best from previous part and think how to solve the problem (analyze tables, take care what columns avaliable in each table and so on, check the syntacsis)\n",
      "3. Create the answers. The answer should be only sql query.\n",
      "\n",
      "Carefully follow the instruction and add <|im_end|> and the end of the final answer<|im_end|>\n",
      "<|im_start|>user\n",
      "Here is addition analysis from other models which can be helpfull, please take this into account but be careful (choose the best from each analysis, combine them to make the most proper answer):\n",
      "\n",
      "model 0 analysis:\n",
      " SELECT MAX(`Percent (%) Eligible Free (K-12)`) FROM frpm WHERE `County Name` = 'Alameda';\n",
      "\n",
      "model 1 analysis:\n",
      " SELECT MAX(`Free Meal Count (K-12)` / `Enrollment (K-12)`) FROM frpm WHERE `County Name` = 'Alameda';\n",
      "\n",
      "model 2 analysis:\n",
      " SELECT MAX(`Percent (%) Eligible Free (K-12)`) FROM frpm WHERE `County Name` = 'Alameda'\n",
      "\n",
      "\n",
      "here is avaliable tables and their structure below\n",
      "【DB_ID】 california_schools\n",
      "【Schema】\n",
      "# Table: frpm\n",
      "[\n",
      "(CDSCode:TEXT, maps to schools.CDSCode, Primary Key, Examples: [01100170109835, 01100170112607, 01100170118489]),\n",
      "(Academic Year:TEXT, Examples: [2014-2015]),\n",
      "(County Code:TEXT, Examples: [01, 02, 03]),\n",
      "(District Code:INTEGER, Examples: [10017, 31609, 31617]),\n",
      "(School Code:TEXT, Examples: [0109835, 0112607, 0118489]),\n",
      "(County Name:TEXT, Examples: [Alameda, Alpine, Amador]),\n",
      "(District Name:TEXT),\n",
      "(School Name:TEXT, Examples: [FAME Public Charter]),\n",
      "(District Type:TEXT, Examples: [County Office of Education (COE)]),\n",
      "(School Type:TEXT, Examples: [K-12 Schools (Public)]),\n",
      "(Educational Option Type:TEXT, Examples: [Traditional]),\n",
      "(NSLP Provision Status:TEXT, Examples: [Breakfast Provision 2]),\n",
      "(Charter School (Y/N):INTEGER, Examples: [1, 0]),\n",
      "(Charter School Number:TEXT, Examples: [0728, 0811, 1049]),\n",
      "(Charter Funding Type:TEXT, Examples: [Directly funded]),\n",
      "(IRC:INTEGER, Examples: [1, 0]),\n",
      "(Low Grade:TEXT, Examples: [K, 9, 1]),\n",
      "(High Grade:TEXT, Examples: [12, 8, 5]),\n",
      "(Enrollment (K-12):REAL, Examples: [1087.0, 395.0, 244.0]),\n",
      "(Free Meal Count (K-12):REAL, Examples: [565.0, 186.0, 134.0]),\n",
      "(Percent (%) Eligible Free (K-12):REAL, Examples: [0.519779208831647, 0.470886075949367, 0.549180327868853]),\n",
      "(FRPM Count (K-12):REAL, Examples: [715.0, 186.0, 175.0]),\n",
      "(Percent (%) Eligible FRPM (K-12):REAL, Examples: [0.657773689052438, 0.470886075949367, 0.717213114754098]),\n",
      "(Enrollment (Ages 5-17):REAL, Examples: [1070.0, 376.0, 230.0]),\n",
      "(Free Meal Count (Ages 5-17):REAL, Examples: [553.0, 182.0, 128.0]),\n",
      "(Percent (%) Eligible Free (Ages 5-17):REAL, Examples: [0.516822429906542, 0.484042553191489, 0.556521739130435]),\n",
      "(FRPM Count (Ages 5-17):REAL, Examples: [702.0, 182.0, 168.0]),\n",
      "(Percent (%) Eligible FRPM (Ages 5-17):REAL, Examples: [0.65607476635514, 0.484042553191489, 0.730434782608696]),\n",
      "(2013-14 CALPADS Fall 1 Certification Status:INTEGER, Examples: [1])\n",
      "]\n",
      "# Table: satscores\n",
      "[\n",
      "(cds:TEXT, maps to schools.CDSCode, Primary Key, Examples: [10101080000000, 10101080109991, 10101080111682]),\n",
      "(rtype:TEXT, Examples: [D, S]),\n",
      "(sname:TEXT, Examples: [FAME Public Charter]),\n",
      "(dname:TEXT, Examples: [Alameda County Office of Education]),\n",
      "(cname:TEXT, Examples: [Alameda, Amador, Butte]),\n",
      "(enroll12:INTEGER, Examples: [398, 62, 75]),\n",
      "(NumTstTakr:INTEGER, Examples: [88, 17, 71]),\n",
      "(AvgScrRead:INTEGER, Examples: [418, 503, 397]),\n",
      "(AvgScrMath:INTEGER, Examples: [418, 546, 387]),\n",
      "(AvgScrWrite:INTEGER, Examples: [417, 505, 395]),\n",
      "(NumGE1500:INTEGER, Examples: [14, 9, 5])\n",
      "]\n",
      "# Table: schools\n",
      "[\n",
      "(CDSCode:TEXT, Primary Key, Examples: [01100170000000, 01100170109835, 01100170112607]),\n",
      "(NCESDist:TEXT, Examples: [0691051, 0600002, 0600003]),\n",
      "(NCESSchool:TEXT, Examples: [10546, 10947, 12283]),\n",
      "(StatusType:TEXT, Examples: [Active, Closed, Merged]),\n",
      "(County:TEXT, Examples: [Alameda, Alpine, Amador]),\n",
      "(District:TEXT),\n",
      "(School:TEXT, Examples: [FAME Public Charter]),\n",
      "(Street:TEXT, Examples: [313 West Winton Avenue]),\n",
      "(StreetAbr:TEXT, Examples: [313 West Winton Ave.]),\n",
      "(City:TEXT, Examples: [Hayward, Newark, Oakland]),\n",
      "(Zip:TEXT, Examples: [94544-1136, 94560-5359, 94612-3355]),\n",
      "(State:TEXT, Examples: [CA]),\n",
      "(MailStreet:TEXT, Examples: [313 West Winton Avenue]),\n",
      "(MailStrAbr:TEXT, Examples: [313 West Winton Ave.]),\n",
      "(MailCity:TEXT, Examples: [Hayward, Newark, Oakland]),\n",
      "(MailZip:TEXT, Examples: [94544-1136, 94560-5359, 94612]),\n",
      "(MailState:TEXT, Examples: [CA]),\n",
      "(Phone:TEXT, Examples: [(510) 887-0152, (510) 596-8901, (510) 686-4131]),\n",
      "(Ext:TEXT, Examples: [130, 1240, 1200]),\n",
      "(Website:TEXT, Examples: [www.acoe.org]),\n",
      "(OpenDate:DATE, Examples: [2005-08-29]),\n",
      "(ClosedDate:DATE, Examples: [2015-07-31]),\n",
      "(Charter:INTEGER, Examples: [1, 0]),\n",
      "(CharterNum:TEXT, Examples: [0728, 0811, 1049]),\n",
      "(FundingType:TEXT, Examples: [Directly funded]),\n",
      "(DOC:TEXT, Examples: [00, 31, 34]),\n",
      "(DOCType:TEXT, Examples: [County Office of Education (COE)]),\n",
      "(SOC:TEXT, Examples: [65, 66, 60]),\n",
      "(SOCType:TEXT, Examples: [K-12 Schools (Public)]),\n",
      "(EdOpsCode:TEXT, Examples: [TRAD, JUV, COMM]),\n",
      "(EdOpsName:TEXT, Examples: [Traditional]),\n",
      "(EILCode:TEXT, Examples: [ELEMHIGH, HS, ELEM]),\n",
      "(EILName:TEXT, Examples: [Elementary-High Combination]),\n",
      "(GSoffered:TEXT, Examples: [K-12, 9-12, K-8]),\n",
      "(GSserved:TEXT, Examples: [K-12, 9-12, K-7]),\n",
      "(Virtual:TEXT, Examples: [P, N, F]),\n",
      "(Magnet:INTEGER, Examples: [0, 1]),\n",
      "(Latitude:REAL, Examples: [37.658212, 37.521436, 37.80452]),\n",
      "(Longitude:REAL, Examples: [-122.09713, -121.99391, -122.26815]),\n",
      "(AdmFName1:TEXT, Examples: [L Karen, Laura, Clifford]),\n",
      "(AdmLName1:TEXT, Examples: [Monroe, Robell, Thompson]),\n",
      "(AdmEmail1:TEXT),\n",
      "(AdmFName2:TEXT, Examples: [Sau-Lim (Lance), Jennifer, Annalisa]),\n",
      "(AdmLName2:TEXT, Examples: [Tsang, Koelling, Moore]),\n",
      "(AdmEmail2:TEXT),\n",
      "(AdmFName3:TEXT, Examples: [Drew, Irma, Vickie]),\n",
      "(AdmLName3:TEXT, Examples: [Sarratore, Munoz, Chang]),\n",
      "(AdmEmail3:TEXT),\n",
      "(LastUpdate:DATE, Examples: [2015-06-23])\n",
      "]\n",
      "【Foreign keys】\n",
      "frpm.CDSCode=schools.CDSCode\n",
      "satscores.cds=schools.CDSCode\n",
      "\n",
      "-- Using valid SQLite and understanding External Knowledge, answer the following questions for the tables provided above.\n",
      "-- What is the highest eligible free rate for K-12 students in the schools in Alameda County?\n",
      "-- External Knowledge: Eligible free rate for K-12 = `Free Meal Count (K-12)` / `Enrollment (K-12)`\n",
      "\n",
      "\n",
      "Generate the SQLite for the above question after thinking step by step: \n",
      "\n",
      "\n",
      "Instructions:\n",
      "- Make sure you only output the information that is asked in the question. If the question asks for a specific column, make sure to only include that column in the SELECT clause, nothing more.\n",
      "- The generated query should return all of the information asked in the question without any missing or extra information.\n",
      "- Before generating the final SQL query, please think through the steps of how to write the query.\n",
      "- Do not misuse column names, keep them in quotes `\n",
      "- Carefully understand what colomns belond to what tables\n",
      "- Use only initial column names, change names prohibited\n",
      "        \n",
      "Output Format:\n",
      "In your answer, please enclose the generated SQL query in a code block:\n",
      "```\n",
      "-- Your SQL query\n",
      "```    \n",
      "and nothing else, no exaplains, no comments (asnwer should be less than 512 characters)\n",
      "\n",
      "Take a deep breath and think step by step to find the correct SQL query in SQLite format.\n",
      "\n",
      "Question repetition: What is the highest eligible free rate for K-12 students in the schools in Alameda County?\n",
      "\n",
      "Be care! Include only what i want it questiona and nothing else<|im_end|>\n",
      "<|im_start|>assistant\n",
      "<think>\n",
      "\n",
      "</think>\n",
      "\n",
      "\n",
      "\n",
      "\n",
      "Максимальное количество токенов в промптах: 8331\n",
      "\n",
      "начинаем скорринг\n",
      "Загружаем чаты с данными...\n",
      "Данные успешно загружены\n",
      "Начали генерацию SQL запросов\n"
     ]
    },
    {
     "name": "stderr",
     "output_type": "stream",
     "text": [
      "Processed prompts: 100%|██████████| 1534/1534 [06:41<00:00,  3.82it/s, est. speed input: 9703.13 toks/s, output: 214.61 toks/s]"
     ]
    },
    {
     "name": "stdout",
     "output_type": "stream",
     "text": [
      "extract_think количество ошибок:  0\n",
      "extract_sql количество ошибок:  0\n",
      "Закончили генерацию SQL запросов\n",
      "Начали скорр полученных SQL запросов\n"
     ]
    },
    {
     "name": "stderr",
     "output_type": "stream",
     "text": [
      "\n",
      "Exception ignored in: <bound method IPythonKernel._clean_thread_parent_frames of <ipykernel.ipkernel.IPythonKernel object at 0x7f6aa6ab99d0>>\n",
      "Traceback (most recent call last):\n",
      "  File \"/data/home/vkropoti/vllm/lib64/python3.12/site-packages/ipykernel/ipkernel.py\", line 775, in _clean_thread_parent_frames\n",
      "    def _clean_thread_parent_frames(\n",
      "\n",
      "func_timeout.dafunc.FunctionTimedOut7798243902121249018: Function execute_query (args=('/data/home/vkropoti/sql_data/dev_databases/', 'financial', \"SELECT T1.account_id FROM trans AS T1 INNER JOIN account AS T2 ON T1.account_id = T2.account_id WHERE STRFTIME('%Y', T1.date) = '1998' AND T1.operation = 'VYBER KARTOU' AND T1.amount < (SELECT AVG(amount) FROM trans WHERE STRFTIME('%Y', date) = '1998')\", \"SELECT DISTINCT `client`.`client_id`\\nFROM `trans`\\nJOIN `account` ON `trans`.`account_id` = `account`.`account_id`\\nJOIN `disp` ON `account`.`account_id` = `disp`.`account_id`\\nJOIN `client` ON `disp`.`client_id` = `client`.`client_id`\\nWHERE `trans`.`operation` = 'VYBER KARTOU'\\nAND `trans`.`date` BETWEEN '1998-01-01' AND '1998-12-31'\\nAND `trans`.`amount` < (\\n    SELECT AVG(`amount`)\\n    FROM `trans`\\n    WHERE `operation` = 'VYBER KARTOU'\\n    AND `date` BETWEEN '1998-01-01' AND '1998-12-31'\\n)\")) (kwargs={}) timed out after 5.000000 seconds.\n",
      "\n"
     ]
    },
    {
     "name": "stdout",
     "output_type": "stream",
     "text": [
      "Qwen3-32B DEV Финальный результат EX: 62.71\n",
      "Qwen3-32B процент запросов, которые успешно выполнились DEV: 97.13%\n",
      "====================================================================================================\n",
      "\n",
      "\n",
      "Загружаем чаты с данными...\n",
      "Данные успешно загружены\n",
      "Начали генерацию SQL запросов\n"
     ]
    },
    {
     "name": "stderr",
     "output_type": "stream",
     "text": [
      "Processed prompts: 100%|██████████| 1534/1534 [06:40<00:00,  3.83it/s, est. speed input: 9722.73 toks/s, output: 214.49 toks/s]"
     ]
    },
    {
     "name": "stdout",
     "output_type": "stream",
     "text": [
      "extract_think количество ошибок:  0\n",
      "extract_sql количество ошибок:  0\n",
      "Закончили генерацию SQL запросов\n",
      "Начали скорр полученных SQL запросов\n"
     ]
    },
    {
     "name": "stderr",
     "output_type": "stream",
     "text": [
      "\n"
     ]
    },
    {
     "name": "stdout",
     "output_type": "stream",
     "text": [
      "Qwen3-32B DEV Финальный результат EX: 61.80\n",
      "Qwen3-32B процент запросов, которые успешно выполнились DEV: 96.94%\n",
      "====================================================================================================\n",
      "\n",
      "\n",
      "Загружаем чаты с данными...\n",
      "Данные успешно загружены\n",
      "Начали генерацию SQL запросов\n"
     ]
    },
    {
     "name": "stderr",
     "output_type": "stream",
     "text": [
      "Processed prompts: 100%|██████████| 1534/1534 [06:27<00:00,  3.96it/s, est. speed input: 10056.79 toks/s, output: 222.03 toks/s]"
     ]
    },
    {
     "name": "stdout",
     "output_type": "stream",
     "text": [
      "extract_think количество ошибок:  0\n",
      "extract_sql количество ошибок:  0\n",
      "Закончили генерацию SQL запросов\n",
      "Начали скорр полученных SQL запросов\n"
     ]
    },
    {
     "name": "stderr",
     "output_type": "stream",
     "text": [
      "\n",
      "Exception ignored in: <bound method IPythonKernel._clean_thread_parent_frames of <ipykernel.ipkernel.IPythonKernel object at 0x7f6aa6ab99d0>>\n",
      "Traceback (most recent call last):\n",
      "  File \"/data/home/vkropoti/vllm/lib64/python3.12/site-packages/ipykernel/ipkernel.py\", line 775, in _clean_thread_parent_frames\n",
      "    def _clean_thread_parent_frames(\n",
      "\n",
      "func_timeout.dafunc.FunctionTimedOut-6747947932685606602: Function execute_query (args=('/data/home/vkropoti/sql_data/dev_databases/', 'financial', \"SELECT T1.account_id FROM trans AS T1 INNER JOIN account AS T2 ON T1.account_id = T2.account_id WHERE STRFTIME('%Y', T1.date) = '1998' AND T1.operation = 'VYBER KARTOU' AND T1.amount < (SELECT AVG(amount) FROM trans WHERE STRFTIME('%Y', date) = '1998')\", \"SELECT DISTINCT `client`.`client_id`\\nFROM `trans`\\nJOIN `account` ON `trans`.`account_id` = `account`.`account_id`\\nJOIN `disp` ON `account`.`account_id` = `disp`.`account_id`\\nJOIN `client` ON `disp`.`client_id` = `client`.`client_id`\\nWHERE `trans`.`operation` = 'VYBER KARTOU'\\n  AND `trans`.`date` BETWEEN '1998-01-01' AND '1998-12-31'\\n  AND `trans`.`amount` < (\\n    SELECT AVG(`amount`)\\n    FROM `trans`\\n    WHERE `operation` = 'VYBER KARTOU'\\n      AND `date` BETWEEN '1998-01-01' AND '1998-12-31'\\n  );\")) (kwargs={}) timed out after 5.000000 seconds.\n",
      "\n"
     ]
    },
    {
     "name": "stdout",
     "output_type": "stream",
     "text": [
      "Qwen3-32B DEV Финальный результат EX: 62.19\n",
      "Qwen3-32B процент запросов, которые успешно выполнились DEV: 96.94%\n",
      "====================================================================================================\n",
      "\n",
      "\n",
      "Загружаем чаты с данными...\n",
      "Данные успешно загружены\n",
      "Начали генерацию SQL запросов\n"
     ]
    },
    {
     "name": "stderr",
     "output_type": "stream",
     "text": [
      "Processed prompts: 100%|██████████| 1534/1534 [06:29<00:00,  3.93it/s, est. speed input: 9997.82 toks/s, output: 221.64 toks/s] "
     ]
    },
    {
     "name": "stdout",
     "output_type": "stream",
     "text": [
      "extract_think количество ошибок:  0\n",
      "extract_sql количество ошибок:  0\n",
      "Закончили генерацию SQL запросов\n",
      "Начали скорр полученных SQL запросов\n"
     ]
    },
    {
     "name": "stderr",
     "output_type": "stream",
     "text": [
      "\n"
     ]
    },
    {
     "name": "stdout",
     "output_type": "stream",
     "text": [
      "Qwen3-32B DEV Финальный результат EX: 61.99\n",
      "Qwen3-32B процент запросов, которые успешно выполнились DEV: 96.61%\n",
      "====================================================================================================\n",
      "\n",
      "\n",
      "Загружаем чаты с данными...\n",
      "Данные успешно загружены\n",
      "Начали генерацию SQL запросов\n"
     ]
    },
    {
     "name": "stderr",
     "output_type": "stream",
     "text": [
      "Processed prompts: 100%|██████████| 1534/1534 [06:28<00:00,  3.95it/s, est. speed input: 10024.90 toks/s, output: 221.52 toks/s]"
     ]
    },
    {
     "name": "stdout",
     "output_type": "stream",
     "text": [
      "extract_think количество ошибок:  0\n",
      "extract_sql количество ошибок:  0\n",
      "Закончили генерацию SQL запросов\n",
      "Начали скорр полученных SQL запросов\n"
     ]
    },
    {
     "name": "stderr",
     "output_type": "stream",
     "text": [
      "\n"
     ]
    },
    {
     "name": "stdout",
     "output_type": "stream",
     "text": [
      "Qwen3-32B DEV Финальный результат EX: 61.93\n",
      "Qwen3-32B процент запросов, которые успешно выполнились DEV: 96.09%\n",
      "====================================================================================================\n",
      "\n",
      "\n",
      "Загружаем чаты с данными...\n",
      "Данные успешно загружены\n",
      "Начали генерацию SQL запросов\n"
     ]
    },
    {
     "name": "stderr",
     "output_type": "stream",
     "text": [
      "Processed prompts: 100%|██████████| 1534/1534 [06:30<00:00,  3.93it/s, est. speed input: 9970.15 toks/s, output: 220.81 toks/s] "
     ]
    },
    {
     "name": "stdout",
     "output_type": "stream",
     "text": [
      "extract_think количество ошибок:  0\n",
      "extract_sql количество ошибок:  0\n",
      "Закончили генерацию SQL запросов\n",
      "Начали скорр полученных SQL запросов\n"
     ]
    },
    {
     "name": "stderr",
     "output_type": "stream",
     "text": [
      "\n"
     ]
    },
    {
     "name": "stdout",
     "output_type": "stream",
     "text": [
      "Qwen3-32B DEV Финальный результат EX: 62.06\n",
      "Qwen3-32B процент запросов, которые успешно выполнились DEV: 96.87%\n",
      "====================================================================================================\n",
      "\n",
      "\n",
      "Загружаем чаты с данными...\n",
      "Данные успешно загружены\n",
      "Начали генерацию SQL запросов\n"
     ]
    },
    {
     "name": "stderr",
     "output_type": "stream",
     "text": [
      "Processed prompts: 100%|██████████| 1534/1534 [06:33<00:00,  3.90it/s, est. speed input: 9899.38 toks/s, output: 218.10 toks/s] "
     ]
    },
    {
     "name": "stdout",
     "output_type": "stream",
     "text": [
      "extract_think количество ошибок:  0\n",
      "extract_sql количество ошибок:  0\n",
      "Закончили генерацию SQL запросов\n",
      "Начали скорр полученных SQL запросов\n"
     ]
    },
    {
     "name": "stderr",
     "output_type": "stream",
     "text": [
      "\n"
     ]
    },
    {
     "name": "stdout",
     "output_type": "stream",
     "text": [
      "Qwen3-32B DEV Финальный результат EX: 61.34\n",
      "Qwen3-32B процент запросов, которые успешно выполнились DEV: 96.87%\n",
      "====================================================================================================\n",
      "\n",
      "\n",
      "Загружаем чаты с данными...\n",
      "Данные успешно загружены\n",
      "Начали генерацию SQL запросов\n"
     ]
    },
    {
     "name": "stderr",
     "output_type": "stream",
     "text": [
      "Processed prompts: 100%|██████████| 1534/1534 [06:28<00:00,  3.95it/s, est. speed input: 10012.75 toks/s, output: 219.05 toks/s]"
     ]
    },
    {
     "name": "stdout",
     "output_type": "stream",
     "text": [
      "extract_think количество ошибок:  0\n",
      "extract_sql количество ошибок:  0\n",
      "Закончили генерацию SQL запросов\n",
      "Начали скорр полученных SQL запросов\n"
     ]
    },
    {
     "name": "stderr",
     "output_type": "stream",
     "text": [
      "\n"
     ]
    },
    {
     "name": "stdout",
     "output_type": "stream",
     "text": [
      "Qwen3-32B DEV Финальный результат EX: 61.08\n",
      "Qwen3-32B процент запросов, которые успешно выполнились DEV: 96.81%\n",
      "====================================================================================================\n",
      "\n",
      "\n",
      "Загружаем чаты с данными...\n",
      "Данные успешно загружены\n",
      "Начали генерацию SQL запросов\n"
     ]
    },
    {
     "name": "stderr",
     "output_type": "stream",
     "text": [
      "Processed prompts: 100%|██████████| 1534/1534 [06:33<00:00,  3.90it/s, est. speed input: 9934.20 toks/s, output: 217.67 toks/s] "
     ]
    },
    {
     "name": "stdout",
     "output_type": "stream",
     "text": [
      "extract_think количество ошибок:  0\n",
      "extract_sql количество ошибок:  0\n",
      "Закончили генерацию SQL запросов\n",
      "Начали скорр полученных SQL запросов\n"
     ]
    },
    {
     "name": "stderr",
     "output_type": "stream",
     "text": [
      "\n"
     ]
    },
    {
     "name": "stdout",
     "output_type": "stream",
     "text": [
      "Qwen3-32B DEV Финальный результат EX: 61.34\n",
      "Qwen3-32B процент запросов, которые успешно выполнились DEV: 96.54%\n",
      "====================================================================================================\n",
      "\n",
      "\n",
      "Загружаем чаты с данными...\n",
      "Данные успешно загружены\n",
      "Начали генерацию SQL запросов\n"
     ]
    },
    {
     "name": "stderr",
     "output_type": "stream",
     "text": [
      "Processed prompts: 100%|██████████| 1534/1534 [06:31<00:00,  3.92it/s, est. speed input: 9993.15 toks/s, output: 219.58 toks/s] "
     ]
    },
    {
     "name": "stdout",
     "output_type": "stream",
     "text": [
      "extract_think количество ошибок:  0\n",
      "extract_sql количество ошибок:  0\n",
      "Закончили генерацию SQL запросов\n",
      "Начали скорр полученных SQL запросов\n"
     ]
    },
    {
     "name": "stderr",
     "output_type": "stream",
     "text": [
      "\n"
     ]
    },
    {
     "name": "stdout",
     "output_type": "stream",
     "text": [
      "Qwen3-32B DEV Финальный результат EX: 62.13\n",
      "Qwen3-32B процент запросов, которые успешно выполнились DEV: 96.61%\n",
      "====================================================================================================\n",
      "\n",
      "\n",
      "Загружаем чаты с данными...\n",
      "Данные успешно загружены\n",
      "Начали генерацию SQL запросов\n"
     ]
    },
    {
     "name": "stderr",
     "output_type": "stream",
     "text": [
      "Processed prompts: 100%|██████████| 1534/1534 [06:32<00:00,  3.90it/s, est. speed input: 9950.99 toks/s, output: 218.24 toks/s] "
     ]
    },
    {
     "name": "stdout",
     "output_type": "stream",
     "text": [
      "extract_think количество ошибок:  0\n",
      "extract_sql количество ошибок:  0\n",
      "Закончили генерацию SQL запросов\n",
      "Начали скорр полученных SQL запросов\n"
     ]
    },
    {
     "name": "stderr",
     "output_type": "stream",
     "text": [
      "\n"
     ]
    },
    {
     "name": "stdout",
     "output_type": "stream",
     "text": [
      "Qwen3-32B DEV Финальный результат EX: 61.86\n",
      "Qwen3-32B процент запросов, которые успешно выполнились DEV: 97.46%\n",
      "====================================================================================================\n",
      "\n",
      "\n",
      "Загружаем чаты с данными...\n",
      "Данные успешно загружены\n",
      "Начали генерацию SQL запросов\n"
     ]
    },
    {
     "name": "stderr",
     "output_type": "stream",
     "text": [
      "Processed prompts: 100%|██████████| 1534/1534 [06:24<00:00,  3.99it/s, est. speed input: 10135.47 toks/s, output: 221.92 toks/s]"
     ]
    },
    {
     "name": "stdout",
     "output_type": "stream",
     "text": [
      "extract_think количество ошибок:  0\n",
      "extract_sql количество ошибок:  0\n",
      "Закончили генерацию SQL запросов\n",
      "Начали скорр полученных SQL запросов\n"
     ]
    },
    {
     "name": "stderr",
     "output_type": "stream",
     "text": [
      "\n"
     ]
    },
    {
     "name": "stdout",
     "output_type": "stream",
     "text": [
      "Qwen3-32B DEV Финальный результат EX: 61.28\n",
      "Qwen3-32B процент запросов, которые успешно выполнились DEV: 97.13%\n",
      "====================================================================================================\n",
      "\n",
      "\n",
      "Загружаем чаты с данными...\n",
      "Данные успешно загружены\n",
      "Начали генерацию SQL запросов\n"
     ]
    },
    {
     "name": "stderr",
     "output_type": "stream",
     "text": [
      "Processed prompts: 100%|██████████| 1534/1534 [06:33<00:00,  3.90it/s, est. speed input: 9895.10 toks/s, output: 218.34 toks/s] "
     ]
    },
    {
     "name": "stdout",
     "output_type": "stream",
     "text": [
      "extract_think количество ошибок:  0\n",
      "extract_sql количество ошибок:  0\n",
      "Закончили генерацию SQL запросов\n",
      "Начали скорр полученных SQL запросов\n"
     ]
    },
    {
     "name": "stderr",
     "output_type": "stream",
     "text": [
      "\n"
     ]
    },
    {
     "name": "stdout",
     "output_type": "stream",
     "text": [
      "Qwen3-32B DEV Финальный результат EX: 62.52\n",
      "Qwen3-32B процент запросов, которые успешно выполнились DEV: 96.68%\n",
      "====================================================================================================\n",
      "\n",
      "\n",
      "Загружаем чаты с данными...\n",
      "Данные успешно загружены\n",
      "Начали генерацию SQL запросов\n"
     ]
    },
    {
     "name": "stderr",
     "output_type": "stream",
     "text": [
      "Processed prompts: 100%|██████████| 1534/1534 [06:28<00:00,  3.95it/s, est. speed input: 10026.48 toks/s, output: 219.14 toks/s]"
     ]
    },
    {
     "name": "stdout",
     "output_type": "stream",
     "text": [
      "extract_think количество ошибок:  0\n",
      "extract_sql количество ошибок:  0\n",
      "Закончили генерацию SQL запросов\n",
      "Начали скорр полученных SQL запросов\n"
     ]
    },
    {
     "name": "stderr",
     "output_type": "stream",
     "text": [
      "\n"
     ]
    },
    {
     "name": "stdout",
     "output_type": "stream",
     "text": [
      "Qwen3-32B DEV Финальный результат EX: 62.13\n",
      "Qwen3-32B процент запросов, которые успешно выполнились DEV: 97.20%\n",
      "====================================================================================================\n",
      "\n",
      "\n",
      "Загружаем чаты с данными...\n",
      "Данные успешно загружены\n",
      "Начали генерацию SQL запросов\n"
     ]
    },
    {
     "name": "stderr",
     "output_type": "stream",
     "text": [
      "Processed prompts: 100%|██████████| 1534/1534 [06:29<00:00,  3.94it/s, est. speed input: 9993.05 toks/s, output: 217.39 toks/s] "
     ]
    },
    {
     "name": "stdout",
     "output_type": "stream",
     "text": [
      "extract_think количество ошибок:  0\n",
      "extract_sql количество ошибок:  0\n",
      "Закончили генерацию SQL запросов\n",
      "Начали скорр полученных SQL запросов\n"
     ]
    },
    {
     "name": "stderr",
     "output_type": "stream",
     "text": [
      "\n"
     ]
    },
    {
     "name": "stdout",
     "output_type": "stream",
     "text": [
      "Qwen3-32B DEV Финальный результат EX: 62.13\n",
      "Qwen3-32B процент запросов, которые успешно выполнились DEV: 97.13%\n",
      "====================================================================================================\n",
      "\n",
      "\n",
      "Загружаем чаты с данными...\n",
      "Данные успешно загружены\n",
      "Начали генерацию SQL запросов\n"
     ]
    },
    {
     "name": "stderr",
     "output_type": "stream",
     "text": [
      "Processed prompts: 100%|██████████| 1534/1534 [06:25<00:00,  3.97it/s, est. speed input: 10086.48 toks/s, output: 221.32 toks/s]"
     ]
    },
    {
     "name": "stdout",
     "output_type": "stream",
     "text": [
      "extract_think количество ошибок:  0\n",
      "extract_sql количество ошибок:  0\n",
      "Закончили генерацию SQL запросов\n",
      "Начали скорр полученных SQL запросов\n"
     ]
    },
    {
     "name": "stderr",
     "output_type": "stream",
     "text": [
      "\n"
     ]
    },
    {
     "name": "stdout",
     "output_type": "stream",
     "text": [
      "Qwen3-32B DEV Финальный результат EX: 61.80\n",
      "Qwen3-32B процент запросов, которые успешно выполнились DEV: 96.94%\n",
      "====================================================================================================\n",
      "\n",
      "\n",
      "Загружаем чаты с данными...\n",
      "Данные успешно загружены\n",
      "Начали генерацию SQL запросов\n"
     ]
    },
    {
     "name": "stderr",
     "output_type": "stream",
     "text": [
      "Processed prompts: 100%|██████████| 1534/1534 [06:26<00:00,  3.97it/s, est. speed input: 10062.85 toks/s, output: 220.23 toks/s]"
     ]
    },
    {
     "name": "stdout",
     "output_type": "stream",
     "text": [
      "extract_think количество ошибок:  0\n",
      "extract_sql количество ошибок:  0\n",
      "Закончили генерацию SQL запросов\n",
      "Начали скорр полученных SQL запросов\n"
     ]
    },
    {
     "name": "stderr",
     "output_type": "stream",
     "text": [
      "\n"
     ]
    },
    {
     "name": "stdout",
     "output_type": "stream",
     "text": [
      "Qwen3-32B DEV Финальный результат EX: 62.13\n",
      "Qwen3-32B процент запросов, которые успешно выполнились DEV: 97.33%\n",
      "====================================================================================================\n",
      "\n",
      "\n",
      "Загружаем чаты с данными...\n",
      "Данные успешно загружены\n",
      "Начали генерацию SQL запросов\n"
     ]
    },
    {
     "name": "stderr",
     "output_type": "stream",
     "text": [
      "Processed prompts: 100%|██████████| 1534/1534 [06:34<00:00,  3.89it/s, est. speed input: 9872.97 toks/s, output: 218.15 toks/s] "
     ]
    },
    {
     "name": "stdout",
     "output_type": "stream",
     "text": [
      "extract_think количество ошибок:  0\n",
      "extract_sql количество ошибок:  0\n",
      "Закончили генерацию SQL запросов\n",
      "Начали скорр полученных SQL запросов\n"
     ]
    },
    {
     "name": "stderr",
     "output_type": "stream",
     "text": [
      "\n"
     ]
    },
    {
     "name": "stdout",
     "output_type": "stream",
     "text": [
      "Qwen3-32B DEV Финальный результат EX: 62.19\n",
      "Qwen3-32B процент запросов, которые успешно выполнились DEV: 97.07%\n",
      "====================================================================================================\n",
      "\n",
      "\n",
      "Загружаем чаты с данными...\n",
      "Данные успешно загружены\n",
      "Начали генерацию SQL запросов\n"
     ]
    },
    {
     "name": "stderr",
     "output_type": "stream",
     "text": [
      "Processed prompts: 100%|██████████| 1534/1534 [06:26<00:00,  3.97it/s, est. speed input: 10073.97 toks/s, output: 221.16 toks/s]"
     ]
    },
    {
     "name": "stdout",
     "output_type": "stream",
     "text": [
      "extract_think количество ошибок:  0\n",
      "extract_sql количество ошибок:  0\n",
      "Закончили генерацию SQL запросов\n",
      "Начали скорр полученных SQL запросов\n"
     ]
    },
    {
     "name": "stderr",
     "output_type": "stream",
     "text": [
      "\n"
     ]
    },
    {
     "name": "stdout",
     "output_type": "stream",
     "text": [
      "Qwen3-32B DEV Финальный результат EX: 61.93\n",
      "Qwen3-32B процент запросов, которые успешно выполнились DEV: 96.94%\n",
      "====================================================================================================\n",
      "\n",
      "\n",
      "Загружаем чаты с данными...\n",
      "Данные успешно загружены\n",
      "Начали генерацию SQL запросов\n"
     ]
    },
    {
     "name": "stderr",
     "output_type": "stream",
     "text": [
      "Processed prompts: 100%|██████████| 1534/1534 [06:40<00:00,  3.83it/s, est. speed input: 9716.33 toks/s, output: 215.45 toks/s] "
     ]
    },
    {
     "name": "stdout",
     "output_type": "stream",
     "text": [
      "extract_think количество ошибок:  0\n",
      "extract_sql количество ошибок:  0\n",
      "Закончили генерацию SQL запросов\n",
      "Начали скорр полученных SQL запросов\n"
     ]
    },
    {
     "name": "stderr",
     "output_type": "stream",
     "text": [
      "\n"
     ]
    },
    {
     "name": "stdout",
     "output_type": "stream",
     "text": [
      "Qwen3-32B DEV Финальный результат EX: 62.32\n",
      "Qwen3-32B процент запросов, которые успешно выполнились DEV: 97.00%\n",
      "====================================================================================================\n",
      "\n",
      "\n"
     ]
    }
   ],
   "source": [
    "run_cot_experiment(model,arr_seeds,arr_versions, type_cot,num_observations=num_observations)"
   ]
  },
  {
   "cell_type": "code",
   "execution_count": null,
   "id": "57efa230-434d-4803-901f-a4d09f2971ad",
   "metadata": {},
   "outputs": [],
   "source": [
    "n= 20\n",
    "arr_seeds = [random.randint(0,1000) for _ in range(n)]\n",
    "arr_versions = [x for x in range(n)]\n",
    "model = \"Qwen3-32B\"\n",
    "num_observations = 4\n",
    "type_cot = 'predict'\n",
    "print(arr_seeds)\n",
    "print(f\"model: {model}\")"
   ]
  },
  {
   "cell_type": "code",
   "execution_count": null,
   "id": "84e49863-1bc7-4141-93e1-a7dbca7ce991",
   "metadata": {
    "scrolled": true
   },
   "outputs": [],
   "source": [
    "run_cot_experiment(model,arr_seeds,arr_versions, type_cot,num_observations=num_observations)"
   ]
  },
  {
   "cell_type": "code",
   "execution_count": null,
   "id": "c1e5e144-1e1f-44de-8094-e7172daff51b",
   "metadata": {},
   "outputs": [],
   "source": [
    "n= 20\n",
    "arr_seeds = [random.randint(0,1000) for _ in range(n)]\n",
    "arr_versions = [x for x in range(n)]\n",
    "model = \"Qwen3-32B\"\n",
    "num_observations = 5\n",
    "type_cot = 'predict'\n",
    "print(arr_seeds)\n",
    "print(f\"model: {model}\")"
   ]
  },
  {
   "cell_type": "code",
   "execution_count": null,
   "id": "25a08606-4784-406f-965a-c029463c9e15",
   "metadata": {
    "scrolled": true
   },
   "outputs": [],
   "source": [
    "run_cot_experiment(model,arr_seeds,arr_versions, type_cot,num_observations=num_observations)"
   ]
  },
  {
   "cell_type": "code",
   "execution_count": null,
   "id": "8ae6563c-4ff4-406d-ac16-83ebfd6bc432",
   "metadata": {},
   "outputs": [],
   "source": [
    "n= 20\n",
    "arr_seeds = [random.randint(0,1000) for _ in range(n)]\n",
    "arr_versions = [x for x in range(n)]\n",
    "model = \"Qwen3-32B\"\n",
    "num_observations = 6\n",
    "type_cot = 'predict'\n",
    "print(arr_seeds)\n",
    "print(f\"model: {model}\")"
   ]
  },
  {
   "cell_type": "code",
   "execution_count": null,
   "id": "5bb17664-8fd5-4e8f-84de-49f872c5aa4a",
   "metadata": {
    "scrolled": true
   },
   "outputs": [],
   "source": [
    "run_cot_experiment(model,arr_seeds,arr_versions, type_cot,num_observations=num_observations)"
   ]
  },
  {
   "cell_type": "code",
   "execution_count": null,
   "id": "a94cd47b-49f8-474e-b88d-fe0c14ff3e2e",
   "metadata": {},
   "outputs": [],
   "source": [
    "n= 20\n",
    "arr_seeds = [random.randint(0,1000) for _ in range(n)]\n",
    "arr_versions = [x for x in range(n)]\n",
    "model = \"Qwen3-32B\"\n",
    "num_observations = 7\n",
    "type_cot = 'predict'\n",
    "print(arr_seeds)\n",
    "print(f\"model: {model}\")"
   ]
  },
  {
   "cell_type": "code",
   "execution_count": null,
   "id": "91c21ffa-aee2-4dba-abad-52c7011ded7d",
   "metadata": {
    "scrolled": true
   },
   "outputs": [],
   "source": [
    "run_cot_experiment(model,arr_seeds,arr_versions, type_cot,num_observations=num_observations)"
   ]
  },
  {
   "cell_type": "markdown",
   "id": "c4dd2157-7279-458f-8a86-22686112bf5f",
   "metadata": {},
   "source": [
    "# part3: think"
   ]
  },
  {
   "cell_type": "code",
   "execution_count": 9,
   "id": "02febb85-1132-4b71-9ed8-e30241d01dc3",
   "metadata": {},
   "outputs": [
    {
     "name": "stdout",
     "output_type": "stream",
     "text": [
      "[633, 862, 946, 636, 399, 360, 311, 294, 825, 946, 816, 947, 850, 583, 760, 891, 870, 846, 158, 450]\n",
      "model: Qwen3-32B\n"
     ]
    }
   ],
   "source": [
    "n= 20\n",
    "arr_seeds = [random.randint(0,1000) for _ in range(n)]\n",
    "arr_versions = [x for x in range(n)]\n",
    "model = \"Qwen3-32B\"\n",
    "num_observations = 2\n",
    "type_cot = 'think'\n",
    "print(arr_seeds)\n",
    "print(f\"model: {model}\")"
   ]
  },
  {
   "cell_type": "code",
   "execution_count": 10,
   "id": "e9e60717-ffae-4f1f-8831-a4902529303e",
   "metadata": {
    "scrolled": true
   },
   "outputs": [
    {
     "name": "stdout",
     "output_type": "stream",
     "text": [
      "Загружаем модель...\n"
     ]
    },
    {
     "name": "stderr",
     "output_type": "stream",
     "text": [
      "Loading safetensors checkpoint shards:   0% Completed | 0/17 [00:00<?, ?it/s]\n",
      "Loading safetensors checkpoint shards:   6% Completed | 1/17 [00:01<00:23,  1.44s/it]\n",
      "Loading safetensors checkpoint shards:  12% Completed | 2/17 [00:02<00:21,  1.45s/it]\n",
      "Loading safetensors checkpoint shards:  18% Completed | 3/17 [00:04<00:18,  1.33s/it]\n",
      "Loading safetensors checkpoint shards:  24% Completed | 4/17 [00:05<00:17,  1.38s/it]\n",
      "Loading safetensors checkpoint shards:  29% Completed | 5/17 [00:07<00:17,  1.42s/it]\n",
      "Loading safetensors checkpoint shards:  35% Completed | 6/17 [00:08<00:15,  1.44s/it]\n",
      "Loading safetensors checkpoint shards:  41% Completed | 7/17 [00:09<00:14,  1.45s/it]\n",
      "Loading safetensors checkpoint shards:  47% Completed | 8/17 [00:11<00:13,  1.45s/it]\n",
      "Loading safetensors checkpoint shards:  53% Completed | 9/17 [00:12<00:11,  1.45s/it]\n",
      "Loading safetensors checkpoint shards:  59% Completed | 10/17 [00:14<00:10,  1.45s/it]\n",
      "Loading safetensors checkpoint shards:  65% Completed | 11/17 [00:15<00:08,  1.46s/it]\n",
      "Loading safetensors checkpoint shards:  71% Completed | 12/17 [00:17<00:07,  1.46s/it]\n",
      "Loading safetensors checkpoint shards:  76% Completed | 13/17 [00:18<00:05,  1.46s/it]\n",
      "Loading safetensors checkpoint shards:  82% Completed | 14/17 [00:20<00:04,  1.46s/it]\n",
      "Loading safetensors checkpoint shards:  88% Completed | 15/17 [00:21<00:02,  1.46s/it]\n",
      "Loading safetensors checkpoint shards:  94% Completed | 16/17 [00:23<00:01,  1.48s/it]\n",
      "Loading safetensors checkpoint shards: 100% Completed | 17/17 [00:24<00:00,  1.49s/it]\n",
      "Loading safetensors checkpoint shards: 100% Completed | 17/17 [00:24<00:00,  1.45s/it]\n",
      "\u001b[1;36m(VllmWorker rank=0 pid=3351052)\u001b[0;0m \n"
     ]
    },
    {
     "name": "stdout",
     "output_type": "stream",
     "text": [
      "Модель успешно загружена\n",
      "model_config {'model': '/data/home/vkropoti/models/Qwen3-32B', 'tensor_parallel_size': 2, 'max_model_len': 40000, 'max_new_tokens': 1500, 'temperature': 0, 'top_k': 1, 'top_p': 0.8, 'gpu_memory_utilization': 0.9, 'trust_remote_code': False, 'seed': 633}\n",
      "\n",
      "prompts_config {'path_dev_json': '/home/vkropoti/vllm/dev.json', 'path_sql_dbs': '/data/home/vkropoti/sql_data/dev_databases/', 'use_reasoning': False, 'paths_to_cot': ['/data/home/vkropoti/sql_llm_answers/bird_dev_m_schema/sql_think_Qwen3-32B-reasoning-v0', '/data/home/vkropoti/sql_llm_answers/bird_dev_m_schema/sql_think_Qwen3-32B-reasoning-v1']}\n",
      "\n",
      "save_config {'path_sql_save': '/data/home/vkropoti/sql_llm_answers/bird_dev_m_schema/sql_all_Qwen3-32B-cot_think_think==False_nobs2-v0', 'path_think_save': None, 'path_sql_answers_save': '/data/home/vkropoti/sql_llm_answers/bird_dev_m_schema/sql_predict_Qwen3-32B-cot_think_think==False_nobs2-v0', 'path_to_save_scores': '/data/home/vkropoti/sql_llm_answers/bird_dev_m_schema/sql_results_Qwen3-32B-cot_think_think==False_nobs2-v0', 'path_to_save_executed': '/data/home/vkropoti/sql_llm_answers/bird_dev_m_schema/sql_executed_Qwen3-32B-cot_think_think==False_nobs2-v0'}\n",
      "\n",
      "Модель успешно загружена\n",
      "Пример промпта\n",
      "<|im_start|>system\n",
      "\n",
      "You are a data science expert. Below, you are provided with a database schema and a natural language question. Your task is to understand the schema and generate a valid SQL query to answer the question.\n",
      "\n",
      "Database Engine: SQLite\n",
      "\n",
      "You will be given an additional analysis of other models, please take it into account, so the plan is\n",
      "1. Analyse given addition analysis from other models (find in which analysis the same and differ, how to use that to answer question)\n",
      "2. Combine best from previous part and think how to solve the problem (analyze tables, take care what columns avaliable in each table and so on, check the syntacsis)\n",
      "3. Create the answers. The answer should be only sql query.\n",
      "\n",
      "Carefully follow the instruction and add <|im_end|> and the end of the final answer<|im_end|>\n",
      "<|im_start|>user\n",
      "Here is addition analysis from other models which can be helpfull, please take this into account but be careful (choose the best from each analysis, combine them to make the most proper answer):\n",
      "\n",
      "model 0 analysis:\n",
      " Okay, let's see. The user wants the highest eligible free rate for K-12 students in Alameda County. The eligible free rate is calculated as Free Meal Count (K-12) divided by Enrollment (K-12). So first, I need to find the right tables.\n",
      "\n",
      "Looking at the schema, the frpm table has the Free Meal Count and Enrollment columns. Also, the frpm table has County Name, which we need to filter for Alameda County. \n",
      "\n",
      "So I should select the maximum value of (Free Meal Count (K-12) / Enrollment (K-12)) from the frpm table where County Name is 'Alameda'. \n",
      "\n",
      "Wait, but need to make sure that the columns are correctly named. In the frpm table, the columns are \"Free Meal Count (K-12)\" and \"Enrollment (K-12)\". Also, the county name is in \"County Name\". \n",
      "\n",
      "So the SQL query would be something like:\n",
      "\n",
      "SELECT MAX(`Percent (%) Eligible Free (K-12)`) FROM frpm WHERE `County Name` = 'Alameda';\n",
      "\n",
      "Wait, but the user's external knowledge says to compute it as the ratio of Free Meal Count to Enrollment. However, the frpm table already has \"Percent (%) Eligible Free (K-12)\", which is exactly that ratio. So maybe I can directly take the max of that column instead of calculating it again. \n",
      "\n",
      "But the user might expect using the actual columns for calculation. However, since the percentage is already provided, using the existing column is more efficient. \n",
      "\n",
      "So the correct approach is to select the maximum value from that percentage column where the county is Alameda. \n",
      "\n",
      "Therefore, the SQL query should be selecting the max of `Percent (%) Eligible Free (K-12)` from frpm where `County Name` is 'Alameda'. \n",
      "\n",
      "I need to make sure that the county name is correctly capitalized. The examples show 'Alameda' as a county name, so it's safe to use that. \n",
      "\n",
      "Also, checking for any possible NULLs, but since the question is about the highest, and there's data, it should work. \n",
      "\n",
      "So the final query is as above.\n",
      "\n",
      "model 1 analysis:\n",
      " Okay, let's tackle this problem. The user wants the highest eligible free rate for K-12 students in Alameda County. The eligible free rate is calculated as Free Meal Count (K-12) divided by Enrollment (K-12). \n",
      "\n",
      "First, I need to check which tables have the necessary columns. The 'frpm' table has both 'Free Meal Count (K-12)' and 'Enrollment (K-12)'. Also, the 'County Name' column in 'frpm' can be used to filter for Alameda County.\n",
      "\n",
      "So, I should select those two columns from the 'frpm' table where the County Name is 'Alameda'. Then calculate the division. But wait, the problem is that in SQL, dividing two REAL numbers should give a REAL result. However, to ensure that the division is done correctly without integer division, maybe I need to cast them, but in SQLite, REAL division should be fine.\n",
      "\n",
      "The user wants the highest rate, so I need to compute the maximum value of that division. So the query would be a SELECT MAX(Free Meal Count (K-12)/Enrollment (K-12)) from frpm where County Name is 'Alameda'.\n",
      "\n",
      "Wait, but I need to make sure that Enrollment (K-12) isn't zero to avoid division by zero. However, the problem statement's example data shows enrollment values like 1087.0, so maybe in practice, there's no zero. But since the user didn't mention handling that, I can proceed without it.\n",
      "\n",
      "Now, check the column names. The columns in 'frpm' are 'Free Meal Count (K-12)' and 'Enrollment (K-12)', and 'County Name'. The table name is 'frpm'.\n",
      "\n",
      "Putting it all together, the SQL query should select the maximum value of the division of those two columns, filtered by County Name = 'Alameda'.\n",
      "\n",
      "So the final SQL is:\n",
      "\n",
      "SELECT MAX(`Free Meal Count (K-12)` / `Enrollment (K-12)`) FROM frpm WHERE `County Name` = 'Alameda';\n",
      "\n",
      "\n",
      "here is avaliable tables and their structure below\n",
      "【DB_ID】 california_schools\n",
      "【Schema】\n",
      "# Table: frpm\n",
      "[\n",
      "(CDSCode:TEXT, maps to schools.CDSCode, Primary Key, Examples: [01100170109835, 01100170112607, 01100170118489]),\n",
      "(Academic Year:TEXT, Examples: [2014-2015]),\n",
      "(County Code:TEXT, Examples: [01, 02, 03]),\n",
      "(District Code:INTEGER, Examples: [10017, 31609, 31617]),\n",
      "(School Code:TEXT, Examples: [0109835, 0112607, 0118489]),\n",
      "(County Name:TEXT, Examples: [Alameda, Alpine, Amador]),\n",
      "(District Name:TEXT),\n",
      "(School Name:TEXT, Examples: [FAME Public Charter]),\n",
      "(District Type:TEXT, Examples: [County Office of Education (COE)]),\n",
      "(School Type:TEXT, Examples: [K-12 Schools (Public)]),\n",
      "(Educational Option Type:TEXT, Examples: [Traditional]),\n",
      "(NSLP Provision Status:TEXT, Examples: [Breakfast Provision 2]),\n",
      "(Charter School (Y/N):INTEGER, Examples: [1, 0]),\n",
      "(Charter School Number:TEXT, Examples: [0728, 0811, 1049]),\n",
      "(Charter Funding Type:TEXT, Examples: [Directly funded]),\n",
      "(IRC:INTEGER, Examples: [1, 0]),\n",
      "(Low Grade:TEXT, Examples: [K, 9, 1]),\n",
      "(High Grade:TEXT, Examples: [12, 8, 5]),\n",
      "(Enrollment (K-12):REAL, Examples: [1087.0, 395.0, 244.0]),\n",
      "(Free Meal Count (K-12):REAL, Examples: [565.0, 186.0, 134.0]),\n",
      "(Percent (%) Eligible Free (K-12):REAL, Examples: [0.519779208831647, 0.470886075949367, 0.549180327868853]),\n",
      "(FRPM Count (K-12):REAL, Examples: [715.0, 186.0, 175.0]),\n",
      "(Percent (%) Eligible FRPM (K-12):REAL, Examples: [0.657773689052438, 0.470886075949367, 0.717213114754098]),\n",
      "(Enrollment (Ages 5-17):REAL, Examples: [1070.0, 376.0, 230.0]),\n",
      "(Free Meal Count (Ages 5-17):REAL, Examples: [553.0, 182.0, 128.0]),\n",
      "(Percent (%) Eligible Free (Ages 5-17):REAL, Examples: [0.516822429906542, 0.484042553191489, 0.556521739130435]),\n",
      "(FRPM Count (Ages 5-17):REAL, Examples: [702.0, 182.0, 168.0]),\n",
      "(Percent (%) Eligible FRPM (Ages 5-17):REAL, Examples: [0.65607476635514, 0.484042553191489, 0.730434782608696]),\n",
      "(2013-14 CALPADS Fall 1 Certification Status:INTEGER, Examples: [1])\n",
      "]\n",
      "# Table: satscores\n",
      "[\n",
      "(cds:TEXT, maps to schools.CDSCode, Primary Key, Examples: [10101080000000, 10101080109991, 10101080111682]),\n",
      "(rtype:TEXT, Examples: [D, S]),\n",
      "(sname:TEXT, Examples: [FAME Public Charter]),\n",
      "(dname:TEXT, Examples: [Alameda County Office of Education]),\n",
      "(cname:TEXT, Examples: [Alameda, Amador, Butte]),\n",
      "(enroll12:INTEGER, Examples: [398, 62, 75]),\n",
      "(NumTstTakr:INTEGER, Examples: [88, 17, 71]),\n",
      "(AvgScrRead:INTEGER, Examples: [418, 503, 397]),\n",
      "(AvgScrMath:INTEGER, Examples: [418, 546, 387]),\n",
      "(AvgScrWrite:INTEGER, Examples: [417, 505, 395]),\n",
      "(NumGE1500:INTEGER, Examples: [14, 9, 5])\n",
      "]\n",
      "# Table: schools\n",
      "[\n",
      "(CDSCode:TEXT, Primary Key, Examples: [01100170000000, 01100170109835, 01100170112607]),\n",
      "(NCESDist:TEXT, Examples: [0691051, 0600002, 0600003]),\n",
      "(NCESSchool:TEXT, Examples: [10546, 10947, 12283]),\n",
      "(StatusType:TEXT, Examples: [Active, Closed, Merged]),\n",
      "(County:TEXT, Examples: [Alameda, Alpine, Amador]),\n",
      "(District:TEXT),\n",
      "(School:TEXT, Examples: [FAME Public Charter]),\n",
      "(Street:TEXT, Examples: [313 West Winton Avenue]),\n",
      "(StreetAbr:TEXT, Examples: [313 West Winton Ave.]),\n",
      "(City:TEXT, Examples: [Hayward, Newark, Oakland]),\n",
      "(Zip:TEXT, Examples: [94544-1136, 94560-5359, 94612-3355]),\n",
      "(State:TEXT, Examples: [CA]),\n",
      "(MailStreet:TEXT, Examples: [313 West Winton Avenue]),\n",
      "(MailStrAbr:TEXT, Examples: [313 West Winton Ave.]),\n",
      "(MailCity:TEXT, Examples: [Hayward, Newark, Oakland]),\n",
      "(MailZip:TEXT, Examples: [94544-1136, 94560-5359, 94612]),\n",
      "(MailState:TEXT, Examples: [CA]),\n",
      "(Phone:TEXT, Examples: [(510) 887-0152, (510) 596-8901, (510) 686-4131]),\n",
      "(Ext:TEXT, Examples: [130, 1240, 1200]),\n",
      "(Website:TEXT, Examples: [www.acoe.org]),\n",
      "(OpenDate:DATE, Examples: [2005-08-29]),\n",
      "(ClosedDate:DATE, Examples: [2015-07-31]),\n",
      "(Charter:INTEGER, Examples: [1, 0]),\n",
      "(CharterNum:TEXT, Examples: [0728, 0811, 1049]),\n",
      "(FundingType:TEXT, Examples: [Directly funded]),\n",
      "(DOC:TEXT, Examples: [00, 31, 34]),\n",
      "(DOCType:TEXT, Examples: [County Office of Education (COE)]),\n",
      "(SOC:TEXT, Examples: [65, 66, 60]),\n",
      "(SOCType:TEXT, Examples: [K-12 Schools (Public)]),\n",
      "(EdOpsCode:TEXT, Examples: [TRAD, JUV, COMM]),\n",
      "(EdOpsName:TEXT, Examples: [Traditional]),\n",
      "(EILCode:TEXT, Examples: [ELEMHIGH, HS, ELEM]),\n",
      "(EILName:TEXT, Examples: [Elementary-High Combination]),\n",
      "(GSoffered:TEXT, Examples: [K-12, 9-12, K-8]),\n",
      "(GSserved:TEXT, Examples: [K-12, 9-12, K-7]),\n",
      "(Virtual:TEXT, Examples: [P, N, F]),\n",
      "(Magnet:INTEGER, Examples: [0, 1]),\n",
      "(Latitude:REAL, Examples: [37.658212, 37.521436, 37.80452]),\n",
      "(Longitude:REAL, Examples: [-122.09713, -121.99391, -122.26815]),\n",
      "(AdmFName1:TEXT, Examples: [L Karen, Laura, Clifford]),\n",
      "(AdmLName1:TEXT, Examples: [Monroe, Robell, Thompson]),\n",
      "(AdmEmail1:TEXT),\n",
      "(AdmFName2:TEXT, Examples: [Sau-Lim (Lance), Jennifer, Annalisa]),\n",
      "(AdmLName2:TEXT, Examples: [Tsang, Koelling, Moore]),\n",
      "(AdmEmail2:TEXT),\n",
      "(AdmFName3:TEXT, Examples: [Drew, Irma, Vickie]),\n",
      "(AdmLName3:TEXT, Examples: [Sarratore, Munoz, Chang]),\n",
      "(AdmEmail3:TEXT),\n",
      "(LastUpdate:DATE, Examples: [2015-06-23])\n",
      "]\n",
      "【Foreign keys】\n",
      "frpm.CDSCode=schools.CDSCode\n",
      "satscores.cds=schools.CDSCode\n",
      "\n",
      "-- Using valid SQLite and understanding External Knowledge, answer the following questions for the tables provided above.\n",
      "-- What is the highest eligible free rate for K-12 students in the schools in Alameda County?\n",
      "-- External Knowledge: Eligible free rate for K-12 = `Free Meal Count (K-12)` / `Enrollment (K-12)`\n",
      "\n",
      "\n",
      "Generate the SQLite for the above question after thinking step by step: \n",
      "\n",
      "\n",
      "Instructions:\n",
      "- Make sure you only output the information that is asked in the question. If the question asks for a specific column, make sure to only include that column in the SELECT clause, nothing more.\n",
      "- The generated query should return all of the information asked in the question without any missing or extra information.\n",
      "- Before generating the final SQL query, please think through the steps of how to write the query.\n",
      "- Do not misuse column names, keep them in quotes `\n",
      "- Carefully understand what colomns belond to what tables\n",
      "- Use only initial column names, change names prohibited\n",
      "        \n",
      "Output Format:\n",
      "In your answer, please enclose the generated SQL query in a code block:\n",
      "```\n",
      "-- Your SQL query\n",
      "```    \n",
      "and nothing else, no exaplains, no comments (asnwer should be less than 512 characters)\n",
      "\n",
      "Take a deep breath and think step by step to find the correct SQL query in SQLite format.\n",
      "\n",
      "Question repetition: What is the highest eligible free rate for K-12 students in the schools in Alameda County?\n",
      "\n",
      "Be care! Include only what i want it questiona and nothing else<|im_end|>\n",
      "<|im_start|>assistant\n",
      "<think>\n",
      "\n",
      "</think>\n",
      "\n",
      "\n",
      "\n",
      "\n",
      "Максимальное количество токенов в промптах: 13335\n",
      "\n",
      "начинаем скорринг\n",
      "Загружаем чаты с данными...\n",
      "Данные успешно загружены\n",
      "Начали генерацию SQL запросов\n"
     ]
    },
    {
     "name": "stderr",
     "output_type": "stream",
     "text": [
      "Processed prompts: 100%|██████████| 1534/1534 [10:43<00:00,  2.38it/s, est. speed input: 9541.57 toks/s, output: 126.57 toks/s]"
     ]
    },
    {
     "name": "stdout",
     "output_type": "stream",
     "text": [
      "extract_think количество ошибок:  0\n",
      "extract_sql количество ошибок:  0\n",
      "Закончили генерацию SQL запросов\n",
      "Начали скорр полученных SQL запросов\n"
     ]
    },
    {
     "name": "stderr",
     "output_type": "stream",
     "text": [
      "\n"
     ]
    },
    {
     "name": "stdout",
     "output_type": "stream",
     "text": [
      "Qwen3-32B DEV Финальный результат EX: 61.60\n",
      "Qwen3-32B процент запросов, которые успешно выполнились DEV: 96.87%\n",
      "====================================================================================================\n",
      "\n",
      "\n",
      "Загружаем чаты с данными...\n",
      "Данные успешно загружены\n",
      "Начали генерацию SQL запросов\n"
     ]
    },
    {
     "name": "stderr",
     "output_type": "stream",
     "text": [
      "Processed prompts: 100%|██████████| 1534/1534 [10:34<00:00,  2.42it/s, est. speed input: 9681.67 toks/s, output: 127.54 toks/s]"
     ]
    },
    {
     "name": "stdout",
     "output_type": "stream",
     "text": [
      "extract_think количество ошибок:  0\n",
      "extract_sql количество ошибок:  0\n",
      "Закончили генерацию SQL запросов\n",
      "Начали скорр полученных SQL запросов\n"
     ]
    },
    {
     "name": "stderr",
     "output_type": "stream",
     "text": [
      "\n"
     ]
    },
    {
     "name": "stdout",
     "output_type": "stream",
     "text": [
      "Qwen3-32B DEV Финальный результат EX: 61.86\n",
      "Qwen3-32B процент запросов, которые успешно выполнились DEV: 97.00%\n",
      "====================================================================================================\n",
      "\n",
      "\n",
      "Загружаем чаты с данными...\n",
      "Данные успешно загружены\n",
      "Начали генерацию SQL запросов\n"
     ]
    },
    {
     "name": "stderr",
     "output_type": "stream",
     "text": [
      "Processed prompts: 100%|██████████| 1534/1534 [10:45<00:00,  2.38it/s, est. speed input: 9697.46 toks/s, output: 127.53 toks/s]"
     ]
    },
    {
     "name": "stdout",
     "output_type": "stream",
     "text": [
      "extract_think количество ошибок:  0\n",
      "extract_sql количество ошибок:  0\n",
      "Закончили генерацию SQL запросов\n",
      "Начали скорр полученных SQL запросов\n"
     ]
    },
    {
     "name": "stderr",
     "output_type": "stream",
     "text": [
      "\n",
      "Exception ignored in: <bound method IPythonKernel._clean_thread_parent_frames of <ipykernel.ipkernel.IPythonKernel object at 0x7f6aa6ab99d0>>\n",
      "Traceback (most recent call last):\n",
      "  File \"/data/home/vkropoti/vllm/lib64/python3.12/site-packages/ipykernel/ipkernel.py\", line 775, in _clean_thread_parent_frames\n",
      "    def _clean_thread_parent_frames(\n",
      "\n",
      "func_timeout.dafunc.FunctionTimedOut-35211472178809297: Function execute_query (args=('/data/home/vkropoti/sql_data/dev_databases/', 'financial', \"SELECT T1.account_id FROM trans AS T1 INNER JOIN account AS T2 ON T1.account_id = T2.account_id WHERE STRFTIME('%Y', T1.date) = '1998' AND T1.operation = 'VYBER KARTOU' AND T1.amount < (SELECT AVG(amount) FROM trans WHERE STRFTIME('%Y', date) = '1998')\", \"SELECT DISTINCT client.client_id\\nFROM trans\\nJOIN account ON trans.account_id = account.account_id\\nJOIN disp ON account.account_id = disp.account_id\\nJOIN client ON disp.client_id = client.client_id\\nWHERE trans.operation = 'VYBER KARTOU'\\n  AND trans.date BETWEEN '1998-01-01' AND '1998-12-31'\\n  AND trans.amount < (\\n    SELECT AVG(amount)\\n    FROM trans\\n    WHERE operation = 'VYBER KARTOU'\\n      AND date BETWEEN '1998-01-01' AND '1998-12-31'\\n  );\")) (kwargs={}) timed out after 5.000000 seconds.\n",
      "\n"
     ]
    },
    {
     "name": "stdout",
     "output_type": "stream",
     "text": [
      "Qwen3-32B DEV Финальный результат EX: 61.28\n",
      "Qwen3-32B процент запросов, которые успешно выполнились DEV: 96.87%\n",
      "====================================================================================================\n",
      "\n",
      "\n",
      "Загружаем чаты с данными...\n",
      "Данные успешно загружены\n",
      "Начали генерацию SQL запросов\n"
     ]
    },
    {
     "name": "stderr",
     "output_type": "stream",
     "text": [
      "Processed prompts: 100%|██████████| 1534/1534 [10:50<00:00,  2.36it/s, est. speed input: 9720.42 toks/s, output: 125.32 toks/s]"
     ]
    },
    {
     "name": "stdout",
     "output_type": "stream",
     "text": [
      "extract_think количество ошибок:  0\n",
      "extract_sql количество ошибок:  0\n",
      "Закончили генерацию SQL запросов\n",
      "Начали скорр полученных SQL запросов\n"
     ]
    },
    {
     "name": "stderr",
     "output_type": "stream",
     "text": [
      "\n"
     ]
    },
    {
     "name": "stdout",
     "output_type": "stream",
     "text": [
      "Qwen3-32B DEV Финальный результат EX: 62.19\n",
      "Qwen3-32B процент запросов, которые успешно выполнились DEV: 97.33%\n",
      "====================================================================================================\n",
      "\n",
      "\n",
      "Загружаем чаты с данными...\n",
      "Данные успешно загружены\n",
      "Начали генерацию SQL запросов\n"
     ]
    },
    {
     "name": "stderr",
     "output_type": "stream",
     "text": [
      "Processed prompts: 100%|██████████| 1534/1534 [10:52<00:00,  2.35it/s, est. speed input: 9684.61 toks/s, output: 125.95 toks/s]"
     ]
    },
    {
     "name": "stdout",
     "output_type": "stream",
     "text": [
      "extract_think количество ошибок:  0\n",
      "extract_sql количество ошибок:  0\n",
      "Закончили генерацию SQL запросов\n",
      "Начали скорр полученных SQL запросов\n"
     ]
    },
    {
     "name": "stderr",
     "output_type": "stream",
     "text": [
      "\n"
     ]
    },
    {
     "name": "stdout",
     "output_type": "stream",
     "text": [
      "Qwen3-32B DEV Финальный результат EX: 62.26\n",
      "Qwen3-32B процент запросов, которые успешно выполнились DEV: 96.94%\n",
      "====================================================================================================\n",
      "\n",
      "\n",
      "Загружаем чаты с данными...\n",
      "Данные успешно загружены\n",
      "Начали генерацию SQL запросов\n"
     ]
    },
    {
     "name": "stderr",
     "output_type": "stream",
     "text": [
      "Processed prompts: 100%|██████████| 1534/1534 [10:43<00:00,  2.38it/s, est. speed input: 9721.11 toks/s, output: 126.54 toks/s]"
     ]
    },
    {
     "name": "stdout",
     "output_type": "stream",
     "text": [
      "extract_think количество ошибок:  0\n",
      "extract_sql количество ошибок:  0\n",
      "Закончили генерацию SQL запросов\n",
      "Начали скорр полученных SQL запросов\n"
     ]
    },
    {
     "name": "stderr",
     "output_type": "stream",
     "text": [
      "\n"
     ]
    },
    {
     "name": "stdout",
     "output_type": "stream",
     "text": [
      "Qwen3-32B DEV Финальный результат EX: 61.60\n",
      "Qwen3-32B процент запросов, которые успешно выполнились DEV: 97.07%\n",
      "====================================================================================================\n",
      "\n",
      "\n",
      "Загружаем чаты с данными...\n",
      "Данные успешно загружены\n",
      "Начали генерацию SQL запросов\n"
     ]
    },
    {
     "name": "stderr",
     "output_type": "stream",
     "text": [
      "Processed prompts: 100%|██████████| 1534/1534 [10:37<00:00,  2.40it/s, est. speed input: 9689.20 toks/s, output: 128.14 toks/s]"
     ]
    },
    {
     "name": "stdout",
     "output_type": "stream",
     "text": [
      "extract_think количество ошибок:  0\n",
      "extract_sql количество ошибок:  0\n",
      "Закончили генерацию SQL запросов\n",
      "Начали скорр полученных SQL запросов\n"
     ]
    },
    {
     "name": "stderr",
     "output_type": "stream",
     "text": [
      "\n"
     ]
    },
    {
     "name": "stdout",
     "output_type": "stream",
     "text": [
      "Qwen3-32B DEV Финальный результат EX: 62.45\n",
      "Qwen3-32B процент запросов, которые успешно выполнились DEV: 97.13%\n",
      "====================================================================================================\n",
      "\n",
      "\n",
      "Загружаем чаты с данными...\n",
      "Данные успешно загружены\n",
      "Начали генерацию SQL запросов\n"
     ]
    },
    {
     "name": "stderr",
     "output_type": "stream",
     "text": [
      "Processed prompts: 100%|██████████| 1534/1534 [10:36<00:00,  2.41it/s, est. speed input: 9709.49 toks/s, output: 128.42 toks/s]"
     ]
    },
    {
     "name": "stdout",
     "output_type": "stream",
     "text": [
      "extract_think количество ошибок:  0\n",
      "extract_sql количество ошибок:  0\n",
      "Закончили генерацию SQL запросов\n",
      "Начали скорр полученных SQL запросов\n"
     ]
    },
    {
     "name": "stderr",
     "output_type": "stream",
     "text": [
      "\n",
      "Exception ignored in: <bound method IPythonKernel._clean_thread_parent_frames of <ipykernel.ipkernel.IPythonKernel object at 0x7f6aa6ab99d0>>\n",
      "Traceback (most recent call last):\n",
      "  File \"/data/home/vkropoti/vllm/lib64/python3.12/site-packages/ipykernel/ipkernel.py\", line 775, in _clean_thread_parent_frames\n",
      "    def _clean_thread_parent_frames(\n",
      "\n",
      "func_timeout.dafunc.FunctionTimedOut-5440604670770939970: Function execute_query (args=('/data/home/vkropoti/sql_data/dev_databases/', 'financial', \"SELECT T1.account_id FROM trans AS T1 INNER JOIN account AS T2 ON T1.account_id = T2.account_id WHERE STRFTIME('%Y', T1.date) = '1998' AND T1.operation = 'VYBER KARTOU' AND T1.amount < (SELECT AVG(amount) FROM trans WHERE STRFTIME('%Y', date) = '1998')\", \"SELECT DISTINCT client.client_id\\nFROM trans\\nJOIN account ON trans.account_id = account.account_id\\nJOIN disp ON account.account_id = disp.account_id\\nJOIN client ON disp.client_id = client.client_id\\nWHERE trans.operation = 'VYBER KARTOU'\\n  AND trans.date BETWEEN '1998-01-01' AND '1998-12-31'\\n  AND trans.amount < (\\n      SELECT AVG(amount)\\n      FROM trans\\n      WHERE operation = 'VYBER KARTOU'\\n        AND date BETWEEN '1998-01-01' AND '1998-12-31'\\n  );\")) (kwargs={}) timed out after 5.000000 seconds.\n",
      "\n"
     ]
    },
    {
     "name": "stdout",
     "output_type": "stream",
     "text": [
      "Qwen3-32B DEV Финальный результат EX: 61.41\n",
      "Qwen3-32B процент запросов, которые успешно выполнились DEV: 96.54%\n",
      "====================================================================================================\n",
      "\n",
      "\n",
      "Загружаем чаты с данными...\n",
      "Данные успешно загружены\n",
      "Начали генерацию SQL запросов\n"
     ]
    },
    {
     "name": "stderr",
     "output_type": "stream",
     "text": [
      "Processed prompts: 100%|██████████| 1534/1534 [10:38<00:00,  2.40it/s, est. speed input: 9744.42 toks/s, output: 126.71 toks/s]"
     ]
    },
    {
     "name": "stdout",
     "output_type": "stream",
     "text": [
      "extract_think количество ошибок:  0\n",
      "extract_sql количество ошибок:  0\n",
      "Закончили генерацию SQL запросов\n",
      "Начали скорр полученных SQL запросов\n"
     ]
    },
    {
     "name": "stderr",
     "output_type": "stream",
     "text": [
      "\n"
     ]
    },
    {
     "name": "stdout",
     "output_type": "stream",
     "text": [
      "Qwen3-32B DEV Финальный результат EX: 61.67\n",
      "Qwen3-32B процент запросов, которые успешно выполнились DEV: 97.13%\n",
      "====================================================================================================\n",
      "\n",
      "\n",
      "Загружаем чаты с данными...\n",
      "Данные успешно загружены\n",
      "Начали генерацию SQL запросов\n"
     ]
    },
    {
     "name": "stderr",
     "output_type": "stream",
     "text": [
      "Processed prompts: 100%|██████████| 1534/1534 [10:45<00:00,  2.38it/s, est. speed input: 9714.99 toks/s, output: 126.23 toks/s]"
     ]
    },
    {
     "name": "stdout",
     "output_type": "stream",
     "text": [
      "extract_think количество ошибок:  0\n",
      "extract_sql количество ошибок:  0\n",
      "Закончили генерацию SQL запросов\n",
      "Начали скорр полученных SQL запросов\n"
     ]
    },
    {
     "name": "stderr",
     "output_type": "stream",
     "text": [
      "\n"
     ]
    },
    {
     "name": "stdout",
     "output_type": "stream",
     "text": [
      "Qwen3-32B DEV Финальный результат EX: 61.34\n",
      "Qwen3-32B процент запросов, которые успешно выполнились DEV: 96.94%\n",
      "====================================================================================================\n",
      "\n",
      "\n",
      "Загружаем чаты с данными...\n",
      "Данные успешно загружены\n",
      "Начали генерацию SQL запросов\n"
     ]
    },
    {
     "name": "stderr",
     "output_type": "stream",
     "text": [
      "Processed prompts: 100%|██████████| 1534/1534 [10:41<00:00,  2.39it/s, est. speed input: 9736.64 toks/s, output: 126.17 toks/s]"
     ]
    },
    {
     "name": "stdout",
     "output_type": "stream",
     "text": [
      "extract_think количество ошибок:  0\n",
      "extract_sql количество ошибок:  0\n",
      "Закончили генерацию SQL запросов\n",
      "Начали скорр полученных SQL запросов\n"
     ]
    },
    {
     "name": "stderr",
     "output_type": "stream",
     "text": [
      "\n"
     ]
    },
    {
     "name": "stdout",
     "output_type": "stream",
     "text": [
      "Qwen3-32B DEV Финальный результат EX: 61.34\n",
      "Qwen3-32B процент запросов, которые успешно выполнились DEV: 97.26%\n",
      "====================================================================================================\n",
      "\n",
      "\n",
      "Загружаем чаты с данными...\n",
      "Данные успешно загружены\n",
      "Начали генерацию SQL запросов\n"
     ]
    },
    {
     "name": "stderr",
     "output_type": "stream",
     "text": [
      "Processed prompts: 100%|██████████| 1534/1534 [10:44<00:00,  2.38it/s, est. speed input: 9681.01 toks/s, output: 126.65 toks/s]"
     ]
    },
    {
     "name": "stdout",
     "output_type": "stream",
     "text": [
      "extract_think количество ошибок:  0\n",
      "extract_sql количество ошибок:  0\n",
      "Закончили генерацию SQL запросов\n",
      "Начали скорр полученных SQL запросов\n"
     ]
    },
    {
     "name": "stderr",
     "output_type": "stream",
     "text": [
      "\n"
     ]
    },
    {
     "name": "stdout",
     "output_type": "stream",
     "text": [
      "Qwen3-32B DEV Финальный результат EX: 62.26\n",
      "Qwen3-32B процент запросов, которые успешно выполнились DEV: 97.39%\n",
      "====================================================================================================\n",
      "\n",
      "\n",
      "Загружаем чаты с данными...\n",
      "Данные успешно загружены\n",
      "Начали генерацию SQL запросов\n"
     ]
    },
    {
     "name": "stderr",
     "output_type": "stream",
     "text": [
      "Processed prompts: 100%|██████████| 1534/1534 [10:35<00:00,  2.41it/s, est. speed input: 9779.51 toks/s, output: 127.93 toks/s]"
     ]
    },
    {
     "name": "stdout",
     "output_type": "stream",
     "text": [
      "extract_think количество ошибок:  0\n",
      "extract_sql количество ошибок:  0\n",
      "Закончили генерацию SQL запросов\n",
      "Начали скорр полученных SQL запросов\n"
     ]
    },
    {
     "name": "stderr",
     "output_type": "stream",
     "text": [
      "\n"
     ]
    },
    {
     "name": "stdout",
     "output_type": "stream",
     "text": [
      "Qwen3-32B DEV Финальный результат EX: 61.54\n",
      "Qwen3-32B процент запросов, которые успешно выполнились DEV: 97.26%\n",
      "====================================================================================================\n",
      "\n",
      "\n",
      "Загружаем чаты с данными...\n",
      "Данные успешно загружены\n",
      "Начали генерацию SQL запросов\n"
     ]
    },
    {
     "name": "stderr",
     "output_type": "stream",
     "text": [
      "Processed prompts: 100%|██████████| 1534/1534 [10:43<00:00,  2.39it/s, est. speed input: 9787.66 toks/s, output: 125.97 toks/s]"
     ]
    },
    {
     "name": "stdout",
     "output_type": "stream",
     "text": [
      "extract_think количество ошибок:  0\n",
      "extract_sql количество ошибок:  0\n",
      "Закончили генерацию SQL запросов\n",
      "Начали скорр полученных SQL запросов\n"
     ]
    },
    {
     "name": "stderr",
     "output_type": "stream",
     "text": [
      "\n"
     ]
    },
    {
     "name": "stdout",
     "output_type": "stream",
     "text": [
      "Qwen3-32B DEV Финальный результат EX: 62.06\n",
      "Qwen3-32B процент запросов, которые успешно выполнились DEV: 96.68%\n",
      "====================================================================================================\n",
      "\n",
      "\n",
      "Загружаем чаты с данными...\n",
      "Данные успешно загружены\n",
      "Начали генерацию SQL запросов\n"
     ]
    },
    {
     "name": "stderr",
     "output_type": "stream",
     "text": [
      "Processed prompts: 100%|██████████| 1534/1534 [10:49<00:00,  2.36it/s, est. speed input: 9751.32 toks/s, output: 125.44 toks/s]"
     ]
    },
    {
     "name": "stdout",
     "output_type": "stream",
     "text": [
      "extract_think количество ошибок:  0\n",
      "extract_sql количество ошибок:  0\n",
      "Закончили генерацию SQL запросов\n",
      "Начали скорр полученных SQL запросов\n"
     ]
    },
    {
     "name": "stderr",
     "output_type": "stream",
     "text": [
      "\n"
     ]
    },
    {
     "name": "stdout",
     "output_type": "stream",
     "text": [
      "Qwen3-32B DEV Финальный результат EX: 62.06\n",
      "Qwen3-32B процент запросов, которые успешно выполнились DEV: 96.87%\n",
      "====================================================================================================\n",
      "\n",
      "\n",
      "Загружаем чаты с данными...\n",
      "Данные успешно загружены\n",
      "Начали генерацию SQL запросов\n"
     ]
    },
    {
     "name": "stderr",
     "output_type": "stream",
     "text": [
      "Processed prompts: 100%|██████████| 1534/1534 [10:44<00:00,  2.38it/s, est. speed input: 9659.76 toks/s, output: 125.47 toks/s]"
     ]
    },
    {
     "name": "stdout",
     "output_type": "stream",
     "text": [
      "extract_think количество ошибок:  0\n",
      "extract_sql количество ошибок:  0\n",
      "Закончили генерацию SQL запросов\n",
      "Начали скорр полученных SQL запросов\n"
     ]
    },
    {
     "name": "stderr",
     "output_type": "stream",
     "text": [
      "\n"
     ]
    },
    {
     "name": "stdout",
     "output_type": "stream",
     "text": [
      "Qwen3-32B DEV Финальный результат EX: 61.34\n",
      "Qwen3-32B процент запросов, которые успешно выполнились DEV: 97.07%\n",
      "====================================================================================================\n",
      "\n",
      "\n",
      "Загружаем чаты с данными...\n",
      "Данные успешно загружены\n",
      "Начали генерацию SQL запросов\n"
     ]
    },
    {
     "name": "stderr",
     "output_type": "stream",
     "text": [
      "Processed prompts: 100%|██████████| 1534/1534 [10:30<00:00,  2.43it/s, est. speed input: 9794.61 toks/s, output: 128.78 toks/s]"
     ]
    },
    {
     "name": "stdout",
     "output_type": "stream",
     "text": [
      "extract_think количество ошибок:  0\n",
      "extract_sql количество ошибок:  0\n",
      "Закончили генерацию SQL запросов\n",
      "Начали скорр полученных SQL запросов\n"
     ]
    },
    {
     "name": "stderr",
     "output_type": "stream",
     "text": [
      "\n"
     ]
    },
    {
     "name": "stdout",
     "output_type": "stream",
     "text": [
      "Qwen3-32B DEV Финальный результат EX: 61.86\n",
      "Qwen3-32B процент запросов, которые успешно выполнились DEV: 97.59%\n",
      "====================================================================================================\n",
      "\n",
      "\n",
      "Загружаем чаты с данными...\n",
      "Данные успешно загружены\n",
      "Начали генерацию SQL запросов\n"
     ]
    },
    {
     "name": "stderr",
     "output_type": "stream",
     "text": [
      "Processed prompts: 100%|██████████| 1534/1534 [10:30<00:00,  2.43it/s, est. speed input: 9803.15 toks/s, output: 129.14 toks/s]"
     ]
    },
    {
     "name": "stdout",
     "output_type": "stream",
     "text": [
      "extract_think количество ошибок:  0\n",
      "extract_sql количество ошибок:  0\n",
      "Закончили генерацию SQL запросов\n",
      "Начали скорр полученных SQL запросов\n"
     ]
    },
    {
     "name": "stderr",
     "output_type": "stream",
     "text": [
      "\n"
     ]
    },
    {
     "name": "stdout",
     "output_type": "stream",
     "text": [
      "Qwen3-32B DEV Финальный результат EX: 61.54\n",
      "Qwen3-32B процент запросов, которые успешно выполнились DEV: 97.39%\n",
      "====================================================================================================\n",
      "\n",
      "\n",
      "Загружаем чаты с данными...\n",
      "Данные успешно загружены\n",
      "Начали генерацию SQL запросов\n"
     ]
    },
    {
     "name": "stderr",
     "output_type": "stream",
     "text": [
      "Processed prompts: 100%|██████████| 1534/1534 [10:40<00:00,  2.40it/s, est. speed input: 9694.59 toks/s, output: 126.38 toks/s]"
     ]
    },
    {
     "name": "stdout",
     "output_type": "stream",
     "text": [
      "extract_think количество ошибок:  0\n",
      "extract_sql количество ошибок:  0\n",
      "Закончили генерацию SQL запросов\n",
      "Начали скорр полученных SQL запросов\n"
     ]
    },
    {
     "name": "stderr",
     "output_type": "stream",
     "text": [
      "\n"
     ]
    },
    {
     "name": "stdout",
     "output_type": "stream",
     "text": [
      "Qwen3-32B DEV Финальный результат EX: 61.73\n",
      "Qwen3-32B процент запросов, которые успешно выполнились DEV: 97.72%\n",
      "====================================================================================================\n",
      "\n",
      "\n",
      "Загружаем чаты с данными...\n",
      "Данные успешно загружены\n",
      "Начали генерацию SQL запросов\n"
     ]
    },
    {
     "name": "stderr",
     "output_type": "stream",
     "text": [
      "Processed prompts: 100%|██████████| 1534/1534 [10:39<00:00,  2.40it/s, est. speed input: 9693.86 toks/s, output: 127.09 toks/s]"
     ]
    },
    {
     "name": "stdout",
     "output_type": "stream",
     "text": [
      "extract_think количество ошибок:  0\n",
      "extract_sql количество ошибок:  0\n",
      "Закончили генерацию SQL запросов\n",
      "Начали скорр полученных SQL запросов\n"
     ]
    },
    {
     "name": "stderr",
     "output_type": "stream",
     "text": [
      "\n"
     ]
    },
    {
     "name": "stdout",
     "output_type": "stream",
     "text": [
      "Qwen3-32B DEV Финальный результат EX: 61.60\n",
      "Qwen3-32B процент запросов, которые успешно выполнились DEV: 96.94%\n",
      "====================================================================================================\n",
      "\n",
      "\n"
     ]
    }
   ],
   "source": [
    "run_cot_experiment(model,arr_seeds,arr_versions, type_cot,num_observations=num_observations)"
   ]
  },
  {
   "cell_type": "code",
   "execution_count": 11,
   "id": "a20fe4f1-be38-4f30-b534-5959cc12deea",
   "metadata": {},
   "outputs": [
    {
     "name": "stdout",
     "output_type": "stream",
     "text": [
      "[993, 898, 263, 447, 776, 38, 287, 734, 705, 421, 31, 720, 408, 39, 369, 958, 387, 563, 458, 714]\n",
      "model: Qwen3-32B\n"
     ]
    }
   ],
   "source": [
    "n= 20\n",
    "arr_seeds = [random.randint(0,1000) for _ in range(n)]\n",
    "arr_versions = [x for x in range(n)]\n",
    "model = \"Qwen3-32B\"\n",
    "num_observations = 3\n",
    "type_cot = 'think'\n",
    "print(arr_seeds)\n",
    "print(f\"model: {model}\")"
   ]
  },
  {
   "cell_type": "code",
   "execution_count": 12,
   "id": "61d9bd8d-dd04-4a14-a288-585190158702",
   "metadata": {
    "scrolled": true
   },
   "outputs": [
    {
     "name": "stdout",
     "output_type": "stream",
     "text": [
      "Загружаем модель...\n"
     ]
    },
    {
     "name": "stderr",
     "output_type": "stream",
     "text": [
      "Loading safetensors checkpoint shards:   0% Completed | 0/17 [00:00<?, ?it/s]\n",
      "Loading safetensors checkpoint shards:   6% Completed | 1/17 [00:01<00:23,  1.47s/it]\n",
      "Loading safetensors checkpoint shards:  12% Completed | 2/17 [00:02<00:22,  1.48s/it]\n",
      "Loading safetensors checkpoint shards:  18% Completed | 3/17 [00:04<00:18,  1.36s/it]\n",
      "Loading safetensors checkpoint shards:  24% Completed | 4/17 [00:05<00:18,  1.40s/it]\n",
      "Loading safetensors checkpoint shards:  29% Completed | 5/17 [00:07<00:17,  1.43s/it]\n",
      "Loading safetensors checkpoint shards:  35% Completed | 6/17 [00:08<00:15,  1.44s/it]\n",
      "Loading safetensors checkpoint shards:  41% Completed | 7/17 [00:10<00:14,  1.44s/it]\n",
      "Loading safetensors checkpoint shards:  47% Completed | 8/17 [00:11<00:13,  1.45s/it]\n",
      "Loading safetensors checkpoint shards:  53% Completed | 9/17 [00:12<00:11,  1.46s/it]\n",
      "Loading safetensors checkpoint shards:  59% Completed | 10/17 [00:14<00:10,  1.46s/it]\n",
      "Loading safetensors checkpoint shards:  65% Completed | 11/17 [00:15<00:08,  1.47s/it]\n",
      "Loading safetensors checkpoint shards:  71% Completed | 12/17 [00:17<00:07,  1.47s/it]\n",
      "Loading safetensors checkpoint shards:  76% Completed | 13/17 [00:18<00:05,  1.48s/it]\n",
      "Loading safetensors checkpoint shards:  82% Completed | 14/17 [00:20<00:04,  1.49s/it]\n",
      "Loading safetensors checkpoint shards:  88% Completed | 15/17 [00:21<00:02,  1.49s/it]\n",
      "Loading safetensors checkpoint shards:  94% Completed | 16/17 [00:23<00:01,  1.49s/it]\n",
      "Loading safetensors checkpoint shards: 100% Completed | 17/17 [00:24<00:00,  1.48s/it]\n",
      "Loading safetensors checkpoint shards: 100% Completed | 17/17 [00:24<00:00,  1.46s/it]\n",
      "\u001b[1;36m(VllmWorker rank=0 pid=3555541)\u001b[0;0m \n"
     ]
    },
    {
     "name": "stdout",
     "output_type": "stream",
     "text": [
      "Модель успешно загружена\n",
      "model_config {'model': '/data/home/vkropoti/models/Qwen3-32B', 'tensor_parallel_size': 2, 'max_model_len': 40000, 'max_new_tokens': 1500, 'temperature': 0, 'top_k': 1, 'top_p': 0.8, 'gpu_memory_utilization': 0.9, 'trust_remote_code': False, 'seed': 993}\n",
      "\n",
      "prompts_config {'path_dev_json': '/home/vkropoti/vllm/dev.json', 'path_sql_dbs': '/data/home/vkropoti/sql_data/dev_databases/', 'use_reasoning': False, 'paths_to_cot': ['/data/home/vkropoti/sql_llm_answers/bird_dev_m_schema/sql_think_Qwen3-32B-reasoning-v0', '/data/home/vkropoti/sql_llm_answers/bird_dev_m_schema/sql_think_Qwen3-32B-reasoning-v1', '/data/home/vkropoti/sql_llm_answers/bird_dev_m_schema/sql_think_Qwen3-32B-reasoning-v2']}\n",
      "\n",
      "save_config {'path_sql_save': '/data/home/vkropoti/sql_llm_answers/bird_dev_m_schema/sql_all_Qwen3-32B-cot_think_think==False_nobs3-v0', 'path_think_save': None, 'path_sql_answers_save': '/data/home/vkropoti/sql_llm_answers/bird_dev_m_schema/sql_predict_Qwen3-32B-cot_think_think==False_nobs3-v0', 'path_to_save_scores': '/data/home/vkropoti/sql_llm_answers/bird_dev_m_schema/sql_results_Qwen3-32B-cot_think_think==False_nobs3-v0', 'path_to_save_executed': '/data/home/vkropoti/sql_llm_answers/bird_dev_m_schema/sql_executed_Qwen3-32B-cot_think_think==False_nobs3-v0'}\n",
      "\n",
      "Модель успешно загружена\n",
      "Пример промпта\n",
      "<|im_start|>system\n",
      "\n",
      "You are a data science expert. Below, you are provided with a database schema and a natural language question. Your task is to understand the schema and generate a valid SQL query to answer the question.\n",
      "\n",
      "Database Engine: SQLite\n",
      "\n",
      "You will be given an additional analysis of other models, please take it into account, so the plan is\n",
      "1. Analyse given addition analysis from other models (find in which analysis the same and differ, how to use that to answer question)\n",
      "2. Combine best from previous part and think how to solve the problem (analyze tables, take care what columns avaliable in each table and so on, check the syntacsis)\n",
      "3. Create the answers. The answer should be only sql query.\n",
      "\n",
      "Carefully follow the instruction and add <|im_end|> and the end of the final answer<|im_end|>\n",
      "<|im_start|>user\n",
      "Here is addition analysis from other models which can be helpfull, please take this into account but be careful (choose the best from each analysis, combine them to make the most proper answer):\n",
      "\n",
      "model 0 analysis:\n",
      " Okay, let's see. The user wants the highest eligible free rate for K-12 students in Alameda County. The eligible free rate is calculated as Free Meal Count (K-12) divided by Enrollment (K-12). So first, I need to find the right tables.\n",
      "\n",
      "Looking at the schema, the frpm table has the Free Meal Count and Enrollment columns. Also, the frpm table has County Name, which we need to filter for Alameda County. \n",
      "\n",
      "So I should select the maximum value of (Free Meal Count (K-12) / Enrollment (K-12)) from the frpm table where County Name is 'Alameda'. \n",
      "\n",
      "Wait, but need to make sure that the columns are correctly named. In the frpm table, the columns are \"Free Meal Count (K-12)\" and \"Enrollment (K-12)\". Also, the county name is in \"County Name\". \n",
      "\n",
      "So the SQL query would be something like:\n",
      "\n",
      "SELECT MAX(`Percent (%) Eligible Free (K-12)`) FROM frpm WHERE `County Name` = 'Alameda';\n",
      "\n",
      "Wait, but the user's external knowledge says to compute it as the ratio of Free Meal Count to Enrollment. However, the frpm table already has \"Percent (%) Eligible Free (K-12)\", which is exactly that ratio. So maybe I can directly take the max of that column instead of calculating it again. \n",
      "\n",
      "But the user might expect using the actual columns for calculation. However, since the percentage is already provided, using the existing column is more efficient. \n",
      "\n",
      "So the correct approach is to select the maximum value from that percentage column where the county is Alameda. \n",
      "\n",
      "Therefore, the SQL query should be selecting the max of `Percent (%) Eligible Free (K-12)` from frpm where `County Name` is 'Alameda'. \n",
      "\n",
      "I need to make sure that the county name is correctly capitalized. The examples show 'Alameda' as a county name, so it's safe to use that. \n",
      "\n",
      "Also, checking for any possible NULLs, but since the question is about the highest, and there's data, it should work. \n",
      "\n",
      "So the final query is as above.\n",
      "\n",
      "model 1 analysis:\n",
      " Okay, let's tackle this problem. The user wants the highest eligible free rate for K-12 students in Alameda County. The eligible free rate is calculated as Free Meal Count (K-12) divided by Enrollment (K-12). \n",
      "\n",
      "First, I need to check which tables have the necessary columns. The 'frpm' table has both 'Free Meal Count (K-12)' and 'Enrollment (K-12)'. Also, the 'County Name' column in 'frpm' can be used to filter for Alameda County.\n",
      "\n",
      "So, I should select those two columns from the 'frpm' table where the County Name is 'Alameda'. Then calculate the division. But wait, the problem is that in SQL, dividing two REAL numbers should give a REAL result. However, to ensure that the division is done correctly without integer division, maybe I need to cast them, but in SQLite, REAL division should be fine.\n",
      "\n",
      "The user wants the highest rate, so I need to compute the maximum value of that division. So the query would be a SELECT MAX(Free Meal Count (K-12)/Enrollment (K-12)) from frpm where County Name is 'Alameda'.\n",
      "\n",
      "Wait, but I need to make sure that Enrollment (K-12) isn't zero to avoid division by zero. However, the problem statement's example data shows enrollment values like 1087.0, so maybe in practice, there's no zero. But since the user didn't mention handling that, I can proceed without it.\n",
      "\n",
      "Now, check the column names. The columns in 'frpm' are 'Free Meal Count (K-12)' and 'Enrollment (K-12)', and 'County Name'. The table name is 'frpm'.\n",
      "\n",
      "Putting it all together, the SQL query should select the maximum value of the division of those two columns, filtered by County Name = 'Alameda'.\n",
      "\n",
      "So the final SQL is:\n",
      "\n",
      "SELECT MAX(`Free Meal Count (K-12)` / `Enrollment (K-12)`) FROM frpm WHERE `County Name` = 'Alameda';\n",
      "\n",
      "model 2 analysis:\n",
      " Okay, let's tackle this problem. The user wants the highest eligible free rate for K-12 students in Alameda County. The eligible free rate is calculated as `Free Meal Count (K-12)` divided by `Enrollment (K-12)`. Both these columns are in the frpm table. \n",
      "\n",
      "First, I need to find the schools in Alameda County. The County Name in the frpm table should be 'Alameda'. Alternatively, the schools table has a County column, but since the frpm table has County Name, maybe it's better to filter there directly.\n",
      "\n",
      "So, the main table to use here is frpm. We need to calculate the ratio for each school in Alameda County and then find the maximum value. \n",
      "\n",
      "The SQL function MAX() can be used on the calculated column. To get the maximum value, we can select MAX(`Free Meal Count (K-12)` / `Enrollment (K-12)`) where `County Name` is 'Alameda'. \n",
      "\n",
      "Wait, but division in SQL might have issues if Enrollment is zero, but assuming the data is clean. Also, since the user wants the highest rate, using MAX on the division should work. \n",
      "\n",
      "So the query should select the maximum of that division from frpm where County Name is Alameda. \n",
      "\n",
      "I need to make sure that the column names are correctly quoted, especially since they have spaces. Also, checking if the County Name in frpm is indeed 'Alameda' as a string. \n",
      "\n",
      "Yes, the example entries for County Name include 'Alameda'. So the WHERE clause would be WHERE `County Name` = 'Alameda'. \n",
      "\n",
      "Putting it all together, the SQL query would be:\n",
      "\n",
      "SELECT MAX(`Percent (%) Eligible Free (K-12)`) FROM frpm WHERE `County Name` = 'Alameda';\n",
      "\n",
      "Wait, wait! Oh, the user provided the formula, but the frpm table already has a column `Percent (%) Eligible Free (K-12)` which is exactly that ratio. So instead of calculating it, we can just take the MAX of that existing column. That's more efficient and avoids recalculating. \n",
      "\n",
      "Yes, the question's external knowledge says to calculate it, but if the table already has that column, we can use it directly. \n",
      "\n",
      "Therefore, the correct approach is to select the maximum value from that column where the county is Alameda. That's the simplest way. \n",
      "\n",
      "So the final query should select MAX(`Percent (%) Eligible Free (K-12)`) from frpm where `County Name` is Alameda. \n",
      "\n",
      "I think that's it. Let me double-check the table structure. Yes, frpm has `Percent (%) Eligible Free (K-12)` as a column. And the County Name is in the frpm table. So no need to join with schools. \n",
      "\n",
      "Therefore, the SQL is straightforward.\n",
      "\n",
      "\n",
      "here is avaliable tables and their structure below\n",
      "【DB_ID】 california_schools\n",
      "【Schema】\n",
      "# Table: frpm\n",
      "[\n",
      "(CDSCode:TEXT, maps to schools.CDSCode, Primary Key, Examples: [01100170109835, 01100170112607, 01100170118489]),\n",
      "(Academic Year:TEXT, Examples: [2014-2015]),\n",
      "(County Code:TEXT, Examples: [01, 02, 03]),\n",
      "(District Code:INTEGER, Examples: [10017, 31609, 31617]),\n",
      "(School Code:TEXT, Examples: [0109835, 0112607, 0118489]),\n",
      "(County Name:TEXT, Examples: [Alameda, Alpine, Amador]),\n",
      "(District Name:TEXT),\n",
      "(School Name:TEXT, Examples: [FAME Public Charter]),\n",
      "(District Type:TEXT, Examples: [County Office of Education (COE)]),\n",
      "(School Type:TEXT, Examples: [K-12 Schools (Public)]),\n",
      "(Educational Option Type:TEXT, Examples: [Traditional]),\n",
      "(NSLP Provision Status:TEXT, Examples: [Breakfast Provision 2]),\n",
      "(Charter School (Y/N):INTEGER, Examples: [1, 0]),\n",
      "(Charter School Number:TEXT, Examples: [0728, 0811, 1049]),\n",
      "(Charter Funding Type:TEXT, Examples: [Directly funded]),\n",
      "(IRC:INTEGER, Examples: [1, 0]),\n",
      "(Low Grade:TEXT, Examples: [K, 9, 1]),\n",
      "(High Grade:TEXT, Examples: [12, 8, 5]),\n",
      "(Enrollment (K-12):REAL, Examples: [1087.0, 395.0, 244.0]),\n",
      "(Free Meal Count (K-12):REAL, Examples: [565.0, 186.0, 134.0]),\n",
      "(Percent (%) Eligible Free (K-12):REAL, Examples: [0.519779208831647, 0.470886075949367, 0.549180327868853]),\n",
      "(FRPM Count (K-12):REAL, Examples: [715.0, 186.0, 175.0]),\n",
      "(Percent (%) Eligible FRPM (K-12):REAL, Examples: [0.657773689052438, 0.470886075949367, 0.717213114754098]),\n",
      "(Enrollment (Ages 5-17):REAL, Examples: [1070.0, 376.0, 230.0]),\n",
      "(Free Meal Count (Ages 5-17):REAL, Examples: [553.0, 182.0, 128.0]),\n",
      "(Percent (%) Eligible Free (Ages 5-17):REAL, Examples: [0.516822429906542, 0.484042553191489, 0.556521739130435]),\n",
      "(FRPM Count (Ages 5-17):REAL, Examples: [702.0, 182.0, 168.0]),\n",
      "(Percent (%) Eligible FRPM (Ages 5-17):REAL, Examples: [0.65607476635514, 0.484042553191489, 0.730434782608696]),\n",
      "(2013-14 CALPADS Fall 1 Certification Status:INTEGER, Examples: [1])\n",
      "]\n",
      "# Table: satscores\n",
      "[\n",
      "(cds:TEXT, maps to schools.CDSCode, Primary Key, Examples: [10101080000000, 10101080109991, 10101080111682]),\n",
      "(rtype:TEXT, Examples: [D, S]),\n",
      "(sname:TEXT, Examples: [FAME Public Charter]),\n",
      "(dname:TEXT, Examples: [Alameda County Office of Education]),\n",
      "(cname:TEXT, Examples: [Alameda, Amador, Butte]),\n",
      "(enroll12:INTEGER, Examples: [398, 62, 75]),\n",
      "(NumTstTakr:INTEGER, Examples: [88, 17, 71]),\n",
      "(AvgScrRead:INTEGER, Examples: [418, 503, 397]),\n",
      "(AvgScrMath:INTEGER, Examples: [418, 546, 387]),\n",
      "(AvgScrWrite:INTEGER, Examples: [417, 505, 395]),\n",
      "(NumGE1500:INTEGER, Examples: [14, 9, 5])\n",
      "]\n",
      "# Table: schools\n",
      "[\n",
      "(CDSCode:TEXT, Primary Key, Examples: [01100170000000, 01100170109835, 01100170112607]),\n",
      "(NCESDist:TEXT, Examples: [0691051, 0600002, 0600003]),\n",
      "(NCESSchool:TEXT, Examples: [10546, 10947, 12283]),\n",
      "(StatusType:TEXT, Examples: [Active, Closed, Merged]),\n",
      "(County:TEXT, Examples: [Alameda, Alpine, Amador]),\n",
      "(District:TEXT),\n",
      "(School:TEXT, Examples: [FAME Public Charter]),\n",
      "(Street:TEXT, Examples: [313 West Winton Avenue]),\n",
      "(StreetAbr:TEXT, Examples: [313 West Winton Ave.]),\n",
      "(City:TEXT, Examples: [Hayward, Newark, Oakland]),\n",
      "(Zip:TEXT, Examples: [94544-1136, 94560-5359, 94612-3355]),\n",
      "(State:TEXT, Examples: [CA]),\n",
      "(MailStreet:TEXT, Examples: [313 West Winton Avenue]),\n",
      "(MailStrAbr:TEXT, Examples: [313 West Winton Ave.]),\n",
      "(MailCity:TEXT, Examples: [Hayward, Newark, Oakland]),\n",
      "(MailZip:TEXT, Examples: [94544-1136, 94560-5359, 94612]),\n",
      "(MailState:TEXT, Examples: [CA]),\n",
      "(Phone:TEXT, Examples: [(510) 887-0152, (510) 596-8901, (510) 686-4131]),\n",
      "(Ext:TEXT, Examples: [130, 1240, 1200]),\n",
      "(Website:TEXT, Examples: [www.acoe.org]),\n",
      "(OpenDate:DATE, Examples: [2005-08-29]),\n",
      "(ClosedDate:DATE, Examples: [2015-07-31]),\n",
      "(Charter:INTEGER, Examples: [1, 0]),\n",
      "(CharterNum:TEXT, Examples: [0728, 0811, 1049]),\n",
      "(FundingType:TEXT, Examples: [Directly funded]),\n",
      "(DOC:TEXT, Examples: [00, 31, 34]),\n",
      "(DOCType:TEXT, Examples: [County Office of Education (COE)]),\n",
      "(SOC:TEXT, Examples: [65, 66, 60]),\n",
      "(SOCType:TEXT, Examples: [K-12 Schools (Public)]),\n",
      "(EdOpsCode:TEXT, Examples: [TRAD, JUV, COMM]),\n",
      "(EdOpsName:TEXT, Examples: [Traditional]),\n",
      "(EILCode:TEXT, Examples: [ELEMHIGH, HS, ELEM]),\n",
      "(EILName:TEXT, Examples: [Elementary-High Combination]),\n",
      "(GSoffered:TEXT, Examples: [K-12, 9-12, K-8]),\n",
      "(GSserved:TEXT, Examples: [K-12, 9-12, K-7]),\n",
      "(Virtual:TEXT, Examples: [P, N, F]),\n",
      "(Magnet:INTEGER, Examples: [0, 1]),\n",
      "(Latitude:REAL, Examples: [37.658212, 37.521436, 37.80452]),\n",
      "(Longitude:REAL, Examples: [-122.09713, -121.99391, -122.26815]),\n",
      "(AdmFName1:TEXT, Examples: [L Karen, Laura, Clifford]),\n",
      "(AdmLName1:TEXT, Examples: [Monroe, Robell, Thompson]),\n",
      "(AdmEmail1:TEXT),\n",
      "(AdmFName2:TEXT, Examples: [Sau-Lim (Lance), Jennifer, Annalisa]),\n",
      "(AdmLName2:TEXT, Examples: [Tsang, Koelling, Moore]),\n",
      "(AdmEmail2:TEXT),\n",
      "(AdmFName3:TEXT, Examples: [Drew, Irma, Vickie]),\n",
      "(AdmLName3:TEXT, Examples: [Sarratore, Munoz, Chang]),\n",
      "(AdmEmail3:TEXT),\n",
      "(LastUpdate:DATE, Examples: [2015-06-23])\n",
      "]\n",
      "【Foreign keys】\n",
      "frpm.CDSCode=schools.CDSCode\n",
      "satscores.cds=schools.CDSCode\n",
      "\n",
      "-- Using valid SQLite and understanding External Knowledge, answer the following questions for the tables provided above.\n",
      "-- What is the highest eligible free rate for K-12 students in the schools in Alameda County?\n",
      "-- External Knowledge: Eligible free rate for K-12 = `Free Meal Count (K-12)` / `Enrollment (K-12)`\n",
      "\n",
      "\n",
      "Generate the SQLite for the above question after thinking step by step: \n",
      "\n",
      "\n",
      "Instructions:\n",
      "- Make sure you only output the information that is asked in the question. If the question asks for a specific column, make sure to only include that column in the SELECT clause, nothing more.\n",
      "- The generated query should return all of the information asked in the question without any missing or extra information.\n",
      "- Before generating the final SQL query, please think through the steps of how to write the query.\n",
      "- Do not misuse column names, keep them in quotes `\n",
      "- Carefully understand what colomns belond to what tables\n",
      "- Use only initial column names, change names prohibited\n",
      "        \n",
      "Output Format:\n",
      "In your answer, please enclose the generated SQL query in a code block:\n",
      "```\n",
      "-- Your SQL query\n",
      "```    \n",
      "and nothing else, no exaplains, no comments (asnwer should be less than 512 characters)\n",
      "\n",
      "Take a deep breath and think step by step to find the correct SQL query in SQLite format.\n",
      "\n",
      "Question repetition: What is the highest eligible free rate for K-12 students in the schools in Alameda County?\n",
      "\n",
      "Be care! Include only what i want it questiona and nothing else<|im_end|>\n",
      "<|im_start|>assistant\n",
      "<think>\n",
      "\n",
      "</think>\n",
      "\n",
      "\n",
      "\n",
      "\n",
      "Максимальное количество токенов в промптах: 16859\n",
      "\n",
      "начинаем скорринг\n",
      "Загружаем чаты с данными...\n",
      "Данные успешно загружены\n",
      "Начали генерацию SQL запросов\n"
     ]
    },
    {
     "name": "stderr",
     "output_type": "stream",
     "text": [
      "Processed prompts: 100%|██████████| 1534/1534 [13:02<00:00,  1.96it/s, est. speed input: 9477.97 toks/s, output: 104.04 toks/s]"
     ]
    },
    {
     "name": "stdout",
     "output_type": "stream",
     "text": [
      "extract_think количество ошибок:  0\n",
      "extract_sql количество ошибок:  0\n",
      "Закончили генерацию SQL запросов\n",
      "Начали скорр полученных SQL запросов\n"
     ]
    },
    {
     "name": "stderr",
     "output_type": "stream",
     "text": [
      "\n"
     ]
    },
    {
     "name": "stdout",
     "output_type": "stream",
     "text": [
      "Qwen3-32B DEV Финальный результат EX: 62.26\n",
      "Qwen3-32B процент запросов, которые успешно выполнились DEV: 97.26%\n",
      "====================================================================================================\n",
      "\n",
      "\n",
      "Загружаем чаты с данными...\n",
      "Данные успешно загружены\n",
      "Начали генерацию SQL запросов\n"
     ]
    },
    {
     "name": "stderr",
     "output_type": "stream",
     "text": [
      "Processed prompts: 100%|██████████| 1534/1534 [13:08<00:00,  1.95it/s, est. speed input: 9489.22 toks/s, output: 104.12 toks/s]"
     ]
    },
    {
     "name": "stdout",
     "output_type": "stream",
     "text": [
      "extract_think количество ошибок:  0\n",
      "extract_sql количество ошибок:  0\n",
      "Закончили генерацию SQL запросов\n",
      "Начали скорр полученных SQL запросов\n"
     ]
    },
    {
     "name": "stderr",
     "output_type": "stream",
     "text": [
      "\n"
     ]
    },
    {
     "name": "stdout",
     "output_type": "stream",
     "text": [
      "Qwen3-32B DEV Финальный результат EX: 61.86\n",
      "Qwen3-32B процент запросов, которые успешно выполнились DEV: 97.33%\n",
      "====================================================================================================\n",
      "\n",
      "\n",
      "Загружаем чаты с данными...\n",
      "Данные успешно загружены\n",
      "Начали генерацию SQL запросов\n"
     ]
    },
    {
     "name": "stderr",
     "output_type": "stream",
     "text": [
      "Processed prompts: 100%|██████████| 1534/1534 [13:18<00:00,  1.92it/s, est. speed input: 9517.06 toks/s, output: 103.29 toks/s]"
     ]
    },
    {
     "name": "stdout",
     "output_type": "stream",
     "text": [
      "extract_think количество ошибок:  0\n",
      "extract_sql количество ошибок:  0\n",
      "Закончили генерацию SQL запросов\n",
      "Начали скорр полученных SQL запросов\n"
     ]
    },
    {
     "name": "stderr",
     "output_type": "stream",
     "text": [
      "\n",
      "Exception ignored in: <bound method IPythonKernel._clean_thread_parent_frames of <ipykernel.ipkernel.IPythonKernel object at 0x7f6aa6ab99d0>>\n",
      "Traceback (most recent call last):\n",
      "  File \"/data/home/vkropoti/vllm/lib64/python3.12/site-packages/ipykernel/ipkernel.py\", line 775, in _clean_thread_parent_frames\n",
      "    def _clean_thread_parent_frames(\n",
      "\n",
      "func_timeout.dafunc.FunctionTimedOut5029365169999166629: Function execute_query (args=('/data/home/vkropoti/sql_data/dev_databases/', 'financial', \"SELECT T1.account_id FROM trans AS T1 INNER JOIN account AS T2 ON T1.account_id = T2.account_id WHERE STRFTIME('%Y', T1.date) = '1998' AND T1.operation = 'VYBER KARTOU' AND T1.amount < (SELECT AVG(amount) FROM trans WHERE STRFTIME('%Y', date) = '1998')\", \"SELECT DISTINCT client.client_id\\nFROM trans\\nJOIN account ON trans.account_id = account.account_id\\nJOIN disp ON account.account_id = disp.account_id\\nJOIN client ON disp.client_id = client.client_id\\nWHERE trans.operation = 'VYBER KARTOU'\\n  AND trans.date BETWEEN '1998-01-01' AND '1998-12-31'\\n  AND trans.amount < (\\n    SELECT AVG(amount)\\n    FROM trans\\n    WHERE operation = 'VYBER KARTOU'\\n      AND date BETWEEN '1998-01-01' AND '1998-12-31'\\n  );\")) (kwargs={}) timed out after 5.000000 seconds.\n",
      "\n"
     ]
    },
    {
     "name": "stdout",
     "output_type": "stream",
     "text": [
      "Qwen3-32B DEV Финальный результат EX: 61.86\n",
      "Qwen3-32B процент запросов, которые успешно выполнились DEV: 97.13%\n",
      "====================================================================================================\n",
      "\n",
      "\n",
      "Загружаем чаты с данными...\n",
      "Данные успешно загружены\n",
      "Начали генерацию SQL запросов\n"
     ]
    },
    {
     "name": "stderr",
     "output_type": "stream",
     "text": [
      "Processed prompts: 100%|██████████| 1534/1534 [13:23<00:00,  1.91it/s, est. speed input: 9528.48 toks/s, output: 101.98 toks/s]"
     ]
    },
    {
     "name": "stdout",
     "output_type": "stream",
     "text": [
      "extract_think количество ошибок:  0\n",
      "extract_sql количество ошибок:  0\n",
      "Закончили генерацию SQL запросов\n",
      "Начали скорр полученных SQL запросов\n"
     ]
    },
    {
     "name": "stderr",
     "output_type": "stream",
     "text": [
      "\n"
     ]
    },
    {
     "name": "stdout",
     "output_type": "stream",
     "text": [
      "Qwen3-32B DEV Финальный результат EX: 61.86\n",
      "Qwen3-32B процент запросов, которые успешно выполнились DEV: 97.26%\n",
      "====================================================================================================\n",
      "\n",
      "\n",
      "Загружаем чаты с данными...\n",
      "Данные успешно загружены\n",
      "Начали генерацию SQL запросов\n"
     ]
    },
    {
     "name": "stderr",
     "output_type": "stream",
     "text": [
      "Processed prompts: 100%|██████████| 1534/1534 [13:17<00:00,  1.92it/s, est. speed input: 9520.87 toks/s, output: 102.94 toks/s]"
     ]
    },
    {
     "name": "stdout",
     "output_type": "stream",
     "text": [
      "extract_think количество ошибок:  0\n",
      "extract_sql количество ошибок:  0\n",
      "Закончили генерацию SQL запросов\n",
      "Начали скорр полученных SQL запросов\n"
     ]
    },
    {
     "name": "stderr",
     "output_type": "stream",
     "text": [
      "\n"
     ]
    },
    {
     "name": "stdout",
     "output_type": "stream",
     "text": [
      "Qwen3-32B DEV Финальный результат EX: 62.06\n",
      "Qwen3-32B процент запросов, которые успешно выполнились DEV: 97.07%\n",
      "====================================================================================================\n",
      "\n",
      "\n",
      "Загружаем чаты с данными...\n",
      "Данные успешно загружены\n",
      "Начали генерацию SQL запросов\n"
     ]
    },
    {
     "name": "stderr",
     "output_type": "stream",
     "text": [
      "Processed prompts: 100%|██████████| 1534/1534 [13:11<00:00,  1.94it/s, est. speed input: 9496.88 toks/s, output: 103.72 toks/s]"
     ]
    },
    {
     "name": "stdout",
     "output_type": "stream",
     "text": [
      "extract_think количество ошибок:  0\n",
      "extract_sql количество ошибок:  0\n",
      "Закончили генерацию SQL запросов\n",
      "Начали скорр полученных SQL запросов\n"
     ]
    },
    {
     "name": "stderr",
     "output_type": "stream",
     "text": [
      "\n"
     ]
    },
    {
     "name": "stdout",
     "output_type": "stream",
     "text": [
      "Qwen3-32B DEV Финальный результат EX: 62.78\n",
      "Qwen3-32B процент запросов, которые успешно выполнились DEV: 97.26%\n",
      "====================================================================================================\n",
      "\n",
      "\n",
      "Загружаем чаты с данными...\n",
      "Данные успешно загружены\n",
      "Начали генерацию SQL запросов\n"
     ]
    },
    {
     "name": "stderr",
     "output_type": "stream",
     "text": [
      "Processed prompts: 100%|██████████| 1534/1534 [13:04<00:00,  1.96it/s, est. speed input: 9514.20 toks/s, output: 104.56 toks/s]"
     ]
    },
    {
     "name": "stdout",
     "output_type": "stream",
     "text": [
      "extract_think количество ошибок:  0\n",
      "extract_sql количество ошибок:  0\n",
      "Закончили генерацию SQL запросов\n",
      "Начали скорр полученных SQL запросов\n"
     ]
    },
    {
     "name": "stderr",
     "output_type": "stream",
     "text": [
      "\n"
     ]
    },
    {
     "name": "stdout",
     "output_type": "stream",
     "text": [
      "Qwen3-32B DEV Финальный результат EX: 61.93\n",
      "Qwen3-32B процент запросов, которые успешно выполнились DEV: 97.07%\n",
      "====================================================================================================\n",
      "\n",
      "\n",
      "Загружаем чаты с данными...\n",
      "Данные успешно загружены\n",
      "Начали генерацию SQL запросов\n"
     ]
    },
    {
     "name": "stderr",
     "output_type": "stream",
     "text": [
      "Processed prompts: 100%|██████████| 1534/1534 [13:03<00:00,  1.96it/s, est. speed input: 9553.26 toks/s, output: 103.43 toks/s]"
     ]
    },
    {
     "name": "stdout",
     "output_type": "stream",
     "text": [
      "extract_think количество ошибок:  0\n",
      "extract_sql количество ошибок:  0\n",
      "Закончили генерацию SQL запросов\n",
      "Начали скорр полученных SQL запросов\n"
     ]
    },
    {
     "name": "stderr",
     "output_type": "stream",
     "text": [
      "\n"
     ]
    },
    {
     "name": "stdout",
     "output_type": "stream",
     "text": [
      "Qwen3-32B DEV Финальный результат EX: 62.52\n",
      "Qwen3-32B процент запросов, которые успешно выполнились DEV: 97.07%\n",
      "====================================================================================================\n",
      "\n",
      "\n",
      "Загружаем чаты с данными...\n",
      "Данные успешно загружены\n",
      "Начали генерацию SQL запросов\n"
     ]
    },
    {
     "name": "stderr",
     "output_type": "stream",
     "text": [
      "Processed prompts: 100%|██████████| 1534/1534 [13:16<00:00,  1.93it/s, est. speed input: 9479.46 toks/s, output: 103.24 toks/s]"
     ]
    },
    {
     "name": "stdout",
     "output_type": "stream",
     "text": [
      "extract_think количество ошибок:  0\n",
      "extract_sql количество ошибок:  0\n",
      "Закончили генерацию SQL запросов\n",
      "Начали скорр полученных SQL запросов\n"
     ]
    },
    {
     "name": "stderr",
     "output_type": "stream",
     "text": [
      "\n"
     ]
    },
    {
     "name": "stdout",
     "output_type": "stream",
     "text": [
      "Qwen3-32B DEV Финальный результат EX: 61.47\n",
      "Qwen3-32B процент запросов, которые успешно выполнились DEV: 96.94%\n",
      "====================================================================================================\n",
      "\n",
      "\n",
      "Загружаем чаты с данными...\n",
      "Данные успешно загружены\n",
      "Начали генерацию SQL запросов\n"
     ]
    },
    {
     "name": "stderr",
     "output_type": "stream",
     "text": [
      "Processed prompts: 100%|██████████| 1534/1534 [13:14<00:00,  1.93it/s, est. speed input: 9508.32 toks/s, output: 102.14 toks/s]"
     ]
    },
    {
     "name": "stdout",
     "output_type": "stream",
     "text": [
      "extract_think количество ошибок:  0\n",
      "extract_sql количество ошибок:  0\n",
      "Закончили генерацию SQL запросов\n",
      "Начали скорр полученных SQL запросов\n"
     ]
    },
    {
     "name": "stderr",
     "output_type": "stream",
     "text": [
      "\n"
     ]
    },
    {
     "name": "stdout",
     "output_type": "stream",
     "text": [
      "Qwen3-32B DEV Финальный результат EX: 60.82\n",
      "Qwen3-32B процент запросов, которые успешно выполнились DEV: 97.13%\n",
      "====================================================================================================\n",
      "\n",
      "\n",
      "Загружаем чаты с данными...\n",
      "Данные успешно загружены\n",
      "Начали генерацию SQL запросов\n"
     ]
    },
    {
     "name": "stderr",
     "output_type": "stream",
     "text": [
      "Processed prompts: 100%|██████████| 1534/1534 [13:17<00:00,  1.92it/s, est. speed input: 9479.69 toks/s, output: 103.81 toks/s]"
     ]
    },
    {
     "name": "stdout",
     "output_type": "stream",
     "text": [
      "extract_think количество ошибок:  0\n",
      "extract_sql количество ошибок:  0\n",
      "Закончили генерацию SQL запросов\n",
      "Начали скорр полученных SQL запросов\n"
     ]
    },
    {
     "name": "stderr",
     "output_type": "stream",
     "text": [
      "\n"
     ]
    },
    {
     "name": "stdout",
     "output_type": "stream",
     "text": [
      "Qwen3-32B DEV Финальный результат EX: 61.41\n",
      "Qwen3-32B процент запросов, которые успешно выполнились DEV: 97.85%\n",
      "====================================================================================================\n",
      "\n",
      "\n",
      "Загружаем чаты с данными...\n",
      "Данные успешно загружены\n",
      "Начали генерацию SQL запросов\n"
     ]
    },
    {
     "name": "stderr",
     "output_type": "stream",
     "text": [
      "Processed prompts: 100%|██████████| 1534/1534 [12:59<00:00,  1.97it/s, est. speed input: 9613.38 toks/s, output: 103.48 toks/s]"
     ]
    },
    {
     "name": "stdout",
     "output_type": "stream",
     "text": [
      "extract_think количество ошибок:  0\n",
      "extract_sql количество ошибок:  0\n",
      "Закончили генерацию SQL запросов\n",
      "Начали скорр полученных SQL запросов\n"
     ]
    },
    {
     "name": "stderr",
     "output_type": "stream",
     "text": [
      "\n"
     ]
    },
    {
     "name": "stdout",
     "output_type": "stream",
     "text": [
      "Qwen3-32B DEV Финальный результат EX: 61.73\n",
      "Qwen3-32B процент запросов, которые успешно выполнились DEV: 97.65%\n",
      "====================================================================================================\n",
      "\n",
      "\n",
      "Загружаем чаты с данными...\n",
      "Данные успешно загружены\n",
      "Начали генерацию SQL запросов\n"
     ]
    },
    {
     "name": "stderr",
     "output_type": "stream",
     "text": [
      "Processed prompts: 100%|██████████| 1534/1534 [13:14<00:00,  1.93it/s, est. speed input: 9579.41 toks/s, output: 102.88 toks/s]"
     ]
    },
    {
     "name": "stdout",
     "output_type": "stream",
     "text": [
      "extract_think количество ошибок:  0\n",
      "extract_sql количество ошибок:  0\n",
      "Закончили генерацию SQL запросов\n",
      "Начали скорр полученных SQL запросов\n"
     ]
    },
    {
     "name": "stderr",
     "output_type": "stream",
     "text": [
      "\n"
     ]
    },
    {
     "name": "stdout",
     "output_type": "stream",
     "text": [
      "Qwen3-32B DEV Финальный результат EX: 62.13\n",
      "Qwen3-32B процент запросов, которые успешно выполнились DEV: 97.39%\n",
      "====================================================================================================\n",
      "\n",
      "\n",
      "Загружаем чаты с данными...\n",
      "Данные успешно загружены\n",
      "Начали генерацию SQL запросов\n"
     ]
    },
    {
     "name": "stderr",
     "output_type": "stream",
     "text": [
      "Processed prompts: 100%|██████████| 1534/1534 [13:13<00:00,  1.93it/s, est. speed input: 9565.75 toks/s, output: 102.61 toks/s]"
     ]
    },
    {
     "name": "stdout",
     "output_type": "stream",
     "text": [
      "extract_think количество ошибок:  0\n",
      "extract_sql количество ошибок:  0\n",
      "Закончили генерацию SQL запросов\n",
      "Начали скорр полученных SQL запросов\n"
     ]
    },
    {
     "name": "stderr",
     "output_type": "stream",
     "text": [
      "\n"
     ]
    },
    {
     "name": "stdout",
     "output_type": "stream",
     "text": [
      "Qwen3-32B DEV Финальный результат EX: 61.93\n",
      "Qwen3-32B процент запросов, которые успешно выполнились DEV: 96.94%\n",
      "====================================================================================================\n",
      "\n",
      "\n",
      "Загружаем чаты с данными...\n",
      "Данные успешно загружены\n",
      "Начали генерацию SQL запросов\n"
     ]
    },
    {
     "name": "stderr",
     "output_type": "stream",
     "text": [
      "Processed prompts: 100%|██████████| 1534/1534 [13:25<00:00,  1.90it/s, est. speed input: 9467.84 toks/s, output: 102.20 toks/s]"
     ]
    },
    {
     "name": "stdout",
     "output_type": "stream",
     "text": [
      "extract_think количество ошибок:  0\n",
      "extract_sql количество ошибок:  0\n",
      "Закончили генерацию SQL запросов\n",
      "Начали скорр полученных SQL запросов\n"
     ]
    },
    {
     "name": "stderr",
     "output_type": "stream",
     "text": [
      "\n"
     ]
    },
    {
     "name": "stdout",
     "output_type": "stream",
     "text": [
      "Qwen3-32B DEV Финальный результат EX: 62.06\n",
      "Qwen3-32B процент запросов, которые успешно выполнились DEV: 96.48%\n",
      "====================================================================================================\n",
      "\n",
      "\n",
      "Загружаем чаты с данными...\n",
      "Данные успешно загружены\n",
      "Начали генерацию SQL запросов\n"
     ]
    },
    {
     "name": "stderr",
     "output_type": "stream",
     "text": [
      "Processed prompts: 100%|██████████| 1534/1534 [13:00<00:00,  1.96it/s, est. speed input: 9572.68 toks/s, output: 104.02 toks/s]"
     ]
    },
    {
     "name": "stdout",
     "output_type": "stream",
     "text": [
      "extract_think количество ошибок:  0\n",
      "extract_sql количество ошибок:  0\n",
      "Закончили генерацию SQL запросов\n",
      "Начали скорр полученных SQL запросов\n"
     ]
    },
    {
     "name": "stderr",
     "output_type": "stream",
     "text": [
      "\n"
     ]
    },
    {
     "name": "stdout",
     "output_type": "stream",
     "text": [
      "Qwen3-32B DEV Финальный результат EX: 62.06\n",
      "Qwen3-32B процент запросов, которые успешно выполнились DEV: 97.26%\n",
      "====================================================================================================\n",
      "\n",
      "\n",
      "Загружаем чаты с данными...\n",
      "Данные успешно загружены\n",
      "Начали генерацию SQL запросов\n"
     ]
    },
    {
     "name": "stderr",
     "output_type": "stream",
     "text": [
      "Processed prompts: 100%|██████████| 1534/1534 [12:57<00:00,  1.97it/s, est. speed input: 9597.18 toks/s, output: 104.11 toks/s]"
     ]
    },
    {
     "name": "stdout",
     "output_type": "stream",
     "text": [
      "extract_think количество ошибок:  0\n",
      "extract_sql количество ошибок:  0\n",
      "Закончили генерацию SQL запросов\n",
      "Начали скорр полученных SQL запросов\n"
     ]
    },
    {
     "name": "stderr",
     "output_type": "stream",
     "text": [
      "\n"
     ]
    },
    {
     "name": "stdout",
     "output_type": "stream",
     "text": [
      "Qwen3-32B DEV Финальный результат EX: 61.47\n",
      "Qwen3-32B процент запросов, которые успешно выполнились DEV: 97.46%\n",
      "====================================================================================================\n",
      "\n",
      "\n",
      "Загружаем чаты с данными...\n",
      "Данные успешно загружены\n",
      "Начали генерацию SQL запросов\n"
     ]
    },
    {
     "name": "stderr",
     "output_type": "stream",
     "text": [
      "Processed prompts: 100%|██████████| 1534/1534 [13:04<00:00,  1.95it/s, est. speed input: 9499.43 toks/s, output: 105.08 toks/s]"
     ]
    },
    {
     "name": "stdout",
     "output_type": "stream",
     "text": [
      "extract_think количество ошибок:  0\n",
      "extract_sql количество ошибок:  0\n",
      "Закончили генерацию SQL запросов\n",
      "Начали скорр полученных SQL запросов\n"
     ]
    },
    {
     "name": "stderr",
     "output_type": "stream",
     "text": [
      "\n"
     ]
    },
    {
     "name": "stdout",
     "output_type": "stream",
     "text": [
      "Qwen3-32B DEV Финальный результат EX: 61.80\n",
      "Qwen3-32B процент запросов, которые успешно выполнились DEV: 97.39%\n",
      "====================================================================================================\n",
      "\n",
      "\n",
      "Загружаем чаты с данными...\n",
      "Данные успешно загружены\n",
      "Начали генерацию SQL запросов\n"
     ]
    },
    {
     "name": "stderr",
     "output_type": "stream",
     "text": [
      "Processed prompts: 100%|██████████| 1534/1534 [13:09<00:00,  1.94it/s, est. speed input: 9480.18 toks/s, output: 103.61 toks/s]"
     ]
    },
    {
     "name": "stdout",
     "output_type": "stream",
     "text": [
      "extract_think количество ошибок:  0\n",
      "extract_sql количество ошибок:  0\n",
      "Закончили генерацию SQL запросов\n",
      "Начали скорр полученных SQL запросов\n"
     ]
    },
    {
     "name": "stderr",
     "output_type": "stream",
     "text": [
      "\n"
     ]
    },
    {
     "name": "stdout",
     "output_type": "stream",
     "text": [
      "Qwen3-32B DEV Финальный результат EX: 61.73\n",
      "Qwen3-32B процент запросов, которые успешно выполнились DEV: 96.94%\n",
      "====================================================================================================\n",
      "\n",
      "\n",
      "Загружаем чаты с данными...\n",
      "Данные успешно загружены\n",
      "Начали генерацию SQL запросов\n"
     ]
    },
    {
     "name": "stderr",
     "output_type": "stream",
     "text": [
      "Processed prompts: 100%|██████████| 1534/1534 [12:57<00:00,  1.97it/s, est. speed input: 9539.52 toks/s, output: 105.23 toks/s]"
     ]
    },
    {
     "name": "stdout",
     "output_type": "stream",
     "text": [
      "extract_think количество ошибок:  0\n",
      "extract_sql количество ошибок:  0\n",
      "Закончили генерацию SQL запросов\n",
      "Начали скорр полученных SQL запросов\n"
     ]
    },
    {
     "name": "stderr",
     "output_type": "stream",
     "text": [
      "\n"
     ]
    },
    {
     "name": "stdout",
     "output_type": "stream",
     "text": [
      "Qwen3-32B DEV Финальный результат EX: 62.06\n",
      "Qwen3-32B процент запросов, которые успешно выполнились DEV: 97.00%\n",
      "====================================================================================================\n",
      "\n",
      "\n"
     ]
    }
   ],
   "source": [
    "run_cot_experiment(model,arr_seeds,arr_versions, type_cot,num_observations=num_observations)"
   ]
  },
  {
   "cell_type": "code",
   "execution_count": null,
   "id": "91935ea9-35a9-44aa-9e58-6390439df74f",
   "metadata": {},
   "outputs": [],
   "source": [
    "n= 20\n",
    "arr_seeds = [random.randint(0,1000) for _ in range(n)]\n",
    "arr_versions = [x for x in range(n)]\n",
    "model = \"Qwen3-32B\"\n",
    "num_observations = 4\n",
    "type_cot = 'think'\n",
    "print(arr_seeds)\n",
    "print(f\"model: {model}\")"
   ]
  },
  {
   "cell_type": "code",
   "execution_count": null,
   "id": "a29f1083-de0f-4092-8479-ac68ef1c2d4a",
   "metadata": {
    "scrolled": true
   },
   "outputs": [],
   "source": [
    "run_cot_experiment(model,arr_seeds,arr_versions, type_cot,num_observations=num_observations)"
   ]
  },
  {
   "cell_type": "code",
   "execution_count": null,
   "id": "297e4c3e-c5be-4721-b770-83fa97d03f5e",
   "metadata": {},
   "outputs": [],
   "source": [
    "n= 20\n",
    "arr_seeds = [random.randint(0,1000) for _ in range(n)]\n",
    "arr_versions = [x for x in range(n)]\n",
    "model = \"Qwen3-32B\"\n",
    "num_observations = 5\n",
    "type_cot = 'think'\n",
    "print(arr_seeds)\n",
    "print(f\"model: {model}\")"
   ]
  },
  {
   "cell_type": "code",
   "execution_count": null,
   "id": "604c03b5-0971-48e5-8b26-be78a74e2b9d",
   "metadata": {
    "scrolled": true
   },
   "outputs": [],
   "source": [
    "run_cot_experiment(model,arr_seeds,arr_versions, type_cot,num_observations=num_observations)"
   ]
  },
  {
   "cell_type": "code",
   "execution_count": null,
   "id": "618682f5-a160-460f-8f95-1cf78a4111df",
   "metadata": {},
   "outputs": [],
   "source": [
    "n= 20\n",
    "arr_seeds = [random.randint(0,1000) for _ in range(n)]\n",
    "arr_versions = [x for x in range(n)]\n",
    "model = \"Qwen3-32B\"\n",
    "num_observations = 6\n",
    "type_cot = 'think'\n",
    "print(arr_seeds)\n",
    "print(f\"model: {model}\")"
   ]
  },
  {
   "cell_type": "code",
   "execution_count": null,
   "id": "5346e0c4-95a5-4b8b-99f8-bd9905dbdbf5",
   "metadata": {
    "scrolled": true
   },
   "outputs": [],
   "source": [
    "run_cot_experiment(model,arr_seeds,arr_versions, type_cot,num_observations=num_observations)"
   ]
  },
  {
   "cell_type": "code",
   "execution_count": null,
   "id": "e1546848-51e6-48b8-a752-2e11cf612fba",
   "metadata": {},
   "outputs": [],
   "source": [
    "n= 20\n",
    "arr_seeds = [random.randint(0,1000) for _ in range(n)]\n",
    "arr_versions = [x for x in range(n)]\n",
    "model = \"Qwen3-32B\"\n",
    "num_observations = 7\n",
    "type_cot = 'think'\n",
    "print(arr_seeds)\n",
    "print(f\"model: {model}\")"
   ]
  },
  {
   "cell_type": "code",
   "execution_count": null,
   "id": "bbd1c5d7-3f56-4d9b-b2da-ced7d7af5dcd",
   "metadata": {
    "scrolled": true
   },
   "outputs": [],
   "source": [
    "run_cot_experiment(model,arr_seeds,arr_versions, type_cot,num_observations=num_observations)"
   ]
  },
  {
   "cell_type": "code",
   "execution_count": null,
   "id": "1f275770-a1ff-4c32-9410-a2f1b90d6387",
   "metadata": {},
   "outputs": [],
   "source": []
  },
  {
   "cell_type": "code",
   "execution_count": null,
   "id": "9faf42f9-4b40-4d9f-b5a1-f83094808532",
   "metadata": {},
   "outputs": [],
   "source": []
  }
 ],
 "metadata": {
  "kernelspec": {
   "display_name": "vllm",
   "language": "python",
   "name": "vllm"
  },
  "language_info": {
   "codemirror_mode": {
    "name": "ipython",
    "version": 3
   },
   "file_extension": ".py",
   "mimetype": "text/x-python",
   "name": "python",
   "nbconvert_exporter": "python",
   "pygments_lexer": "ipython3",
   "version": "3.12.4"
  }
 },
 "nbformat": 4,
 "nbformat_minor": 5
}
