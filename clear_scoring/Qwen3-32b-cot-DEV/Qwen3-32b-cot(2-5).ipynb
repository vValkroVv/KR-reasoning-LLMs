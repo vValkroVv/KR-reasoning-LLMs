{
 "cells": [
  {
   "cell_type": "code",
   "execution_count": 1,
   "id": "6f20e5ea-3a64-4bfa-8502-13bb8469c893",
   "metadata": {},
   "outputs": [],
   "source": [
    "import os, sys\n",
    "sys.path.append(\"/home/vkropoti/vllm\")"
   ]
  },
  {
   "cell_type": "code",
   "execution_count": 2,
   "id": "4fc844b5-83f1-48aa-a6c8-3d93f16a861d",
   "metadata": {},
   "outputs": [
    {
     "name": "stdout",
     "output_type": "stream",
     "text": [
      "INFO 05-18 20:07:23 [__init__.py:239] Automatically detected platform cuda.\n"
     ]
    },
    {
     "name": "stderr",
     "output_type": "stream",
     "text": [
      "2025-05-18 20:07:24,403\tINFO util.py:154 -- Missing packages: ['ipywidgets']. Run `pip install -U ipywidgets`, then restart the notebook server for rich notebook output.\n"
     ]
    }
   ],
   "source": [
    "from src.experiment import run_cot_experiment\n",
    "import random\n",
    "import numpy as np"
   ]
  },
  {
   "cell_type": "markdown",
   "id": "56cbd008-e8be-44cd-a2f8-83886376560e",
   "metadata": {},
   "source": [
    "# part1: reasoning+answer"
   ]
  },
  {
   "cell_type": "markdown",
   "id": "1d4174ff-32eb-4901-9b13-dfc26f6bd8e3",
   "metadata": {},
   "source": [
    "### 2 наблюдения"
   ]
  },
  {
   "cell_type": "code",
   "execution_count": 3,
   "id": "5635dae6-2ae1-4d4d-af1f-dfcd7abc923b",
   "metadata": {},
   "outputs": [
    {
     "name": "stdout",
     "output_type": "stream",
     "text": [
      "[231, 285, 486, 9, 159, 546, 200, 621, 364, 670, 504, 942, 458, 697, 20, 324, 650, 31, 709, 110]\n",
      "model: Qwen3-32B\n"
     ]
    }
   ],
   "source": [
    "n= 20\n",
    "arr_seeds = [random.randint(0,1000) for _ in range(n)]\n",
    "arr_versions = [x for x in range(n)]\n",
    "model = \"Qwen3-32B\"\n",
    "num_observations = 2\n",
    "type_cot = 'all_new'\n",
    "print(arr_seeds)\n",
    "print(f\"model: {model}\")"
   ]
  },
  {
   "cell_type": "code",
   "execution_count": 4,
   "id": "c97ec156-9d39-4d60-b2c7-40545c467f8e",
   "metadata": {
    "scrolled": true
   },
   "outputs": [
    {
     "name": "stdout",
     "output_type": "stream",
     "text": [
      "Загружаем модель...\n"
     ]
    },
    {
     "name": "stderr",
     "output_type": "stream",
     "text": [
      "Loading safetensors checkpoint shards:   0% Completed | 0/17 [00:00<?, ?it/s]\n",
      "Loading safetensors checkpoint shards:   6% Completed | 1/17 [00:01<00:22,  1.43s/it]\n",
      "Loading safetensors checkpoint shards:  12% Completed | 2/17 [00:02<00:21,  1.44s/it]\n",
      "Loading safetensors checkpoint shards:  18% Completed | 3/17 [00:04<00:18,  1.32s/it]\n",
      "Loading safetensors checkpoint shards:  24% Completed | 4/17 [00:05<00:17,  1.37s/it]\n",
      "Loading safetensors checkpoint shards:  29% Completed | 5/17 [00:06<00:16,  1.41s/it]\n",
      "Loading safetensors checkpoint shards:  35% Completed | 6/17 [00:08<00:15,  1.42s/it]\n",
      "Loading safetensors checkpoint shards:  41% Completed | 7/17 [00:09<00:14,  1.44s/it]\n",
      "Loading safetensors checkpoint shards:  47% Completed | 8/17 [00:11<00:13,  1.45s/it]\n",
      "Loading safetensors checkpoint shards:  53% Completed | 9/17 [00:12<00:11,  1.45s/it]\n",
      "Loading safetensors checkpoint shards:  59% Completed | 10/17 [00:14<00:10,  1.46s/it]\n",
      "Loading safetensors checkpoint shards:  65% Completed | 11/17 [00:15<00:08,  1.46s/it]\n",
      "Loading safetensors checkpoint shards:  71% Completed | 12/17 [00:17<00:07,  1.46s/it]\n",
      "Loading safetensors checkpoint shards:  76% Completed | 13/17 [00:18<00:05,  1.46s/it]\n",
      "Loading safetensors checkpoint shards:  82% Completed | 14/17 [00:20<00:04,  1.46s/it]\n",
      "Loading safetensors checkpoint shards:  88% Completed | 15/17 [00:21<00:02,  1.46s/it]\n",
      "Loading safetensors checkpoint shards:  94% Completed | 16/17 [00:23<00:01,  1.46s/it]\n",
      "Loading safetensors checkpoint shards: 100% Completed | 17/17 [00:24<00:00,  1.46s/it]\n",
      "Loading safetensors checkpoint shards: 100% Completed | 17/17 [00:24<00:00,  1.44s/it]\n",
      "\u001b[1;36m(VllmWorker rank=0 pid=1330589)\u001b[0;0m \n"
     ]
    },
    {
     "name": "stdout",
     "output_type": "stream",
     "text": [
      "Модель успешно загружена\n",
      "model_config {'model': '/data/home/vkropoti/models/Qwen3-32B', 'tensor_parallel_size': 2, 'max_model_len': 40000, 'max_new_tokens': 1500, 'temperature': 0, 'top_k': 1, 'top_p': 0.8, 'gpu_memory_utilization': 0.9, 'trust_remote_code': False, 'seed': 231}\n",
      "\n",
      "prompts_config {'path_dev_json': '/home/vkropoti/vllm/dev.json', 'path_sql_dbs': '/data/home/vkropoti/sql_data/dev_databases/', 'use_reasoning': False, 'paths_to_cot': ['/data/home/vkropoti/sql_llm_answers/bird_dev/sql_all_new_Qwen3-32B-reasoning-v0', '/data/home/vkropoti/sql_llm_answers/bird_dev/sql_all_new_Qwen3-32B-reasoning-v1']}\n",
      "\n",
      "save_config {'path_sql_save': '/data/home/vkropoti/sql_llm_answers/bird_dev/sql_all_Qwen3-32B-cot_all_new_think==False_nobs2-v0', 'path_think_save': None, 'path_sql_answers_save': '/data/home/vkropoti/sql_llm_answers/bird_dev/sql_predict_Qwen3-32B-cot_all_new_think==False_nobs2-v0', 'path_to_save_scores': '/data/home/vkropoti/sql_llm_answers/bird_dev/sql_results_Qwen3-32B-cot_all_new_think==False_nobs2-v0', 'path_to_save_executed': '/data/home/vkropoti/sql_llm_answers/bird_dev/sql_executed_Qwen3-32B-cot_all_new_think==False_nobs2-v0'}\n",
      "\n",
      "Модель успешно загружена\n",
      "Пример промпта\n",
      "<|im_start|>system\n",
      "\n",
      "You are a data science expert. Below, you are provided with a database schema and a natural language question. Your task is to understand the schema and generate a valid SQL query to answer the question.\n",
      "\n",
      "Database Engine: SQLite\n",
      "\n",
      "You will be given an additional analysis of other models, please take it into account, so the plan is\n",
      "1. Analyse given addition analysis from other models (find in which analysis the same and differ, how to use that to answer question)\n",
      "2. Combine best from previous part and think how to solve the problem (analyze tables, take care what columns avaliable in each table and so on, check the syntacsis)\n",
      "3. Create the answers. The answer should be only sql query.\n",
      "\n",
      "Carefully follow the instruction and add <|im_end|> and the end of the final answer<|im_end|>\n",
      "<|im_start|>user\n",
      "Here is addition analysis from other models which can be helpfull, please take this into account but be careful (choose the best from each analysis, combine them to make the most proper answer):\n",
      "\n",
      "model 0 analysis:\n",
      " Reasoning process:\n",
      "\n",
      "Okay, let's tackle this question. The user wants the highest eligible free rate for K-12 students in Alameda County. The eligible free rate is calculated as `Free Meal Count (K-12)` divided by `Enrollment (K-12)`. \n",
      "\n",
      "First, I need to check which tables have these columns. The `frpm` table has both `Free Meal Count (K-12)` and `Enrollment (K-12)`. Also, the `frpm` table has a `County Name` column which we can use to filter for Alameda County.\n",
      "\n",
      "So the plan is to select the maximum value of (`Free Meal Count (K-12)` / `Enrollment (K-12)`) from the `frpm` table where `County Name` is 'Alameda'. \n",
      "\n",
      "Wait, but division in SQL can sometimes have issues with zero denominators. However, since we're dealing with enrollment numbers, it's safe to assume that enrollment is non-zero here. Also, using the MAX() function on the calculated rate should give the highest value.\n",
      "\n",
      "I need to make sure that the column names are correctly quoted, especially since they have spaces. The SQL query will use the `County Name` column to filter and the two columns for the calculation. \n",
      "\n",
      "So the final query should be a SELECT statement with MAX() applied to the division of the two columns, from the `frpm` table where `County Name` is 'Alameda'. Let me structure that correctly.\n",
      "\n",
      "Final answer based om reasoning for this model:\n",
      "\n",
      "\n",
      "```\n",
      "SELECT MAX(`Free Meal Count (K-12)` / `Enrollment (K-12)`) FROM frpm WHERE `County Name` = 'Alameda';\n",
      "```\n",
      "\n",
      "model 1 analysis:\n",
      " Reasoning process:\n",
      "\n",
      "Okay, let's see. The user is asking for the highest eligible free rate for K-12 students in Alameda County. The eligible free rate is calculated as Free Meal Count (K-12) divided by Enrollment (K-12). \n",
      "\n",
      "First, I need to figure out which tables to use. The frpm table has those two columns. The schools table probably has the county information. Since there's a foreign key from frpm to schools on CDSCode, I should join them.\n",
      "\n",
      "So, I'll start by joining frpm with schools where the County is 'Alameda'. Then, calculate the ratio. But wait, the columns in frpm are `Free Meal Count (K-12)` and `Enrollment (K-12)`. I need to make sure I'm using the correct columns.\n",
      "\n",
      "To get the highest rate, I should order by the ratio descending and take the maximum. But since the user just wants the highest value, using MAX(Free Meal Count (K-12) / Enrollment (K-12)) would work. Also, need to handle possible division by zero, but maybe the data doesn't have that. The question doesn't mention handling that, so I'll proceed as per the calculation.\n",
      "\n",
      "Putting it all together: SELECT MAX(...) as max_rate from frpm join schools on CDSCode where County is 'Alameda'. \n",
      "\n",
      "Wait, in the schools table, the county column is called County. So in the join condition, after joining frpm.CDSCode = schools.CDSCode, add WHERE schools.County = 'Alameda County'? Or is it just 'Alameda'? Let me check the schema. The schools table's County is a TEXT not null. The example in the question says Alameda County, so maybe the value is stored as 'Alameda County'. But I'll go with the exact value. \n",
      "\n",
      "So the query would be:\n",
      "\n",
      "SELECT MAX(`Free Meal Count (K-12)` / `Enrollment (K-12)`) \n",
      "FROM frpm \n",
      "JOIN schools ON frpm.CDSCode = schools.CDSCode \n",
      "WHERE schools.County = 'Alameda County';\n",
      "\n",
      "But wait, the user wants the highest eligible free rate. So this should work. Also, the columns are in frpm, so the calculation is done there. That should do it.\n",
      "\n",
      "Final answer based om reasoning for this model:\n",
      "\n",
      "\n",
      "```\n",
      "SELECT MAX(`Free Meal Count (K-12)` / `Enrollment (K-12)`)\n",
      "FROM frpm\n",
      "JOIN schools ON frpm.CDSCode = schools.CDSCode\n",
      "WHERE schools.County = 'Alameda County';\n",
      "```\n",
      "\n",
      "\n",
      "here is avaliable tables below\n",
      "\n",
      "\n",
      "Table: frpm\n",
      "CREATE TABLE frpm\n",
      "(\n",
      "    CDSCode                                       TEXT not null\n",
      "        primary key,\n",
      "    `Academic Year`                               TEXT  null,\n",
      "    `County Code`                                 TEXT  null,\n",
      "    `District Code`                               INTEGER         null,\n",
      "    `School Code`                                 TEXT  null,\n",
      "    `County Name`                                 TEXT null,\n",
      "    `District Name`                               TEXT null,\n",
      "    `School Name`                                 TEXT null,\n",
      "    `District Type`                               TEXT null,\n",
      "    `School Type`                                 TEXT null,\n",
      "    `Educational Option Type`                     TEXT null,\n",
      "    `NSLP Provision Status`                       TEXT null,\n",
      "    `Charter School (Y/N)`                        INTEGER    null,\n",
      "    `Charter School Number`                       TEXT  null,\n",
      "    `Charter Funding Type`                        TEXT null,\n",
      "    IRC                                           INTEGER    null,\n",
      "    `Low Grade`                                   TEXT  null,\n",
      "    `High Grade`                                  TEXT null,\n",
      "    `Enrollment (K-12)`                           REAL      null,\n",
      "    `Free Meal Count (K-12)`                      REAL       null,\n",
      "    `Percent (%) Eligible Free (K-12)`            REAL       null,\n",
      "    `FRPM Count (K-12)`                           REAL       null,\n",
      "    `Percent (%) Eligible FRPM (K-12)`            REAL       null,\n",
      "    `Enrollment (Ages 5-17)`                      REAL       null,\n",
      "    `Free Meal Count (Ages 5-17)`                 REAL       null,\n",
      "    `Percent (%) Eligible Free (Ages 5-17)`       REAL       null,\n",
      "    `FRPM Count (Ages 5-17)`                      REAL       null,\n",
      "    `Percent (%) Eligible FRPM (Ages 5-17)`       REAL       null,\n",
      "    `2013-14 CALPADS Fall 1 Certification Status` INTEGER    null,\n",
      "    foreign key (CDSCode) references schools (CDSCode)\n",
      ")\n",
      "\n",
      "Table: satscores\n",
      "CREATE TABLE satscores\n",
      "(\n",
      "    cds         TEXT not null\n",
      "        primary key,\n",
      "    rtype       TEXT  not null,\n",
      "    sname       TEXT null,\n",
      "    dname       TEXT null,\n",
      "    cname       TEXT null,\n",
      "    enroll12    INTEGER         not null,\n",
      "    NumTstTakr  INTEGER          not null,\n",
      "    AvgScrRead  INTEGER          null,\n",
      "    AvgScrMath  INTEGER          null,\n",
      "    AvgScrWrite INTEGER          null,\n",
      "    NumGE1500   INTEGER          null,\n",
      "--     PctGE1500   double      null,\n",
      "        foreign key (cds) references schools (CDSCode)\n",
      ")\n",
      "\n",
      "Table: schools\n",
      "CREATE TABLE schools\n",
      "(\n",
      "    CDSCode     TEXT not null\n",
      "        primary key,\n",
      "    NCESDist    TEXT  null,\n",
      "    NCESSchool  TEXT  null,\n",
      "    StatusType  TEXT  not null,\n",
      "    County      TEXT not null,\n",
      "    District    TEXT not null,\n",
      "    School      TEXT null,\n",
      "    Street      TEXT null,\n",
      "    StreetAbr   TEXT null,\n",
      "    City        TEXT null,\n",
      "    Zip         TEXT null,\n",
      "    State       TEXT  null,\n",
      "    MailStreet  TEXT null,\n",
      "    MailStrAbr  TEXT null,\n",
      "    MailCity    TEXT null,\n",
      "    MailZip     TEXT null,\n",
      "    MailState   TEXT  null,\n",
      "    Phone       TEXT null,\n",
      "    Ext         TEXT  null,\n",
      "    Website     TEXT null,\n",
      "    OpenDate    DATE        null,\n",
      "    ClosedDate  DATE        null,\n",
      "    Charter     INTEGER    null,\n",
      "    CharterNum  TEXT  null,\n",
      "    FundingType TEXT null,\n",
      "    DOC         TEXT  not null,\n",
      "    DOCType     TEXT not null,\n",
      "    SOC         TEXT  null,\n",
      "    SOCType     TEXT null,\n",
      "    EdOpsCode   TEXT  null,\n",
      "    EdOpsName   TEXT null,\n",
      "    EILCode     TEXT  null,\n",
      "    EILName     TEXT null,\n",
      "    GSoffered   TEXT null,\n",
      "    GSserved    TEXT  null,\n",
      "    Virtual     TEXT  null,\n",
      "    Magnet      INTEGER   null,\n",
      "    Latitude    REAL      null,\n",
      "    Longitude   REAL      null,\n",
      "    AdmFName1   TEXT null,\n",
      "    AdmLName1   TEXT null,\n",
      "    AdmEmail1   TEXT null,\n",
      "    AdmFName2   TEXT null,\n",
      "    AdmLName2   TEXT null,\n",
      "    AdmEmail2   TEXT null,\n",
      "    AdmFName3   TEXT  null,\n",
      "    AdmLName3   TEXT null,\n",
      "    AdmEmail3   TEXT null,\n",
      "    LastUpdate  DATE        not null\n",
      ")\n",
      "\n",
      "-- Using valid SQLite and understanding External Knowledge, answer the following questions for the tables provided above.\n",
      "-- What is the highest eligible free rate for K-12 students in the schools in Alameda County?\n",
      "-- External Knowledge: Eligible free rate for K-12 = `Free Meal Count (K-12)` / `Enrollment (K-12)`\n",
      "\n",
      "\n",
      "Generate the SQLite for the above question after thinking step by step: \n",
      "\n",
      "\n",
      "Instructions:\n",
      "- Make sure you only output the information that is asked in the question. If the question asks for a specific column, make sure to only include that column in the SELECT clause, nothing more.\n",
      "- The generated query should return all of the information asked in the question without any missing or extra information.\n",
      "- Before generating the final SQL query, please think through the steps of how to write the query.\n",
      "- Do not misuse column names, keep them in quotes `\n",
      "- Carefully understand what colomns belond to what tables\n",
      "- Use only initial column names, change names prohibited\n",
      "        \n",
      "Output Format:\n",
      "In your answer, please enclose the generated SQL query in a code block:\n",
      "```\n",
      "-- Your SQL query\n",
      "```    \n",
      "and nothing else, no exaplains, no comments (asnwer should be less than 512 characters)\n",
      "\n",
      "Take a deep breath and think step by step to find the correct SQL query in SQLite format.\n",
      "\n",
      "Question repetition: What is the highest eligible free rate for K-12 students in the schools in Alameda County?\n",
      "\n",
      "Be care! Include only what i want it questiona and nothing else<|im_end|>\n",
      "<|im_start|>assistant\n",
      "<think>\n",
      "\n",
      "</think>\n",
      "\n",
      "\n",
      "\n",
      "\n",
      "Максимальное количество токенов в промптах: 13047\n",
      "\n",
      "начинаем скорринг\n",
      "Загружаем чаты с данными...\n",
      "Данные успешно загружены\n",
      "Начали генерацию SQL запросов\n"
     ]
    },
    {
     "name": "stderr",
     "output_type": "stream",
     "text": [
      "Processed prompts: 100%|██████████| 1534/1534 [08:19<00:00,  3.07it/s, est. speed input: 9948.31 toks/s, output: 167.24 toks/s]"
     ]
    },
    {
     "name": "stdout",
     "output_type": "stream",
     "text": [
      "extract_think количество ошибок:  0\n",
      "extract_sql количество ошибок:  0\n",
      "Закончили генерацию SQL запросов\n",
      "Начали скорр полученных SQL запросов\n"
     ]
    },
    {
     "name": "stderr",
     "output_type": "stream",
     "text": [
      "\n"
     ]
    },
    {
     "name": "stdout",
     "output_type": "stream",
     "text": [
      "Qwen3-32B DEV Финальный результат EX: 59.06\n",
      "Qwen3-32B процент запросов, которые успешно выполнились DEV: 97.39%\n",
      "====================================================================================================\n",
      "\n",
      "\n",
      "Загружаем чаты с данными...\n",
      "Данные успешно загружены\n",
      "Начали генерацию SQL запросов\n"
     ]
    },
    {
     "name": "stderr",
     "output_type": "stream",
     "text": [
      "Processed prompts: 100%|██████████| 1534/1534 [08:27<00:00,  3.02it/s, est. speed input: 9837.44 toks/s, output: 165.87 toks/s] "
     ]
    },
    {
     "name": "stdout",
     "output_type": "stream",
     "text": [
      "extract_think количество ошибок:  0\n",
      "extract_sql количество ошибок:  0\n",
      "Закончили генерацию SQL запросов\n",
      "Начали скорр полученных SQL запросов\n"
     ]
    },
    {
     "name": "stderr",
     "output_type": "stream",
     "text": [
      "\n"
     ]
    },
    {
     "name": "stdout",
     "output_type": "stream",
     "text": [
      "Qwen3-32B DEV Финальный результат EX: 58.60\n",
      "Qwen3-32B процент запросов, которые успешно выполнились DEV: 96.94%\n",
      "====================================================================================================\n",
      "\n",
      "\n",
      "Загружаем чаты с данными...\n",
      "Данные успешно загружены\n",
      "Начали генерацию SQL запросов\n"
     ]
    },
    {
     "name": "stderr",
     "output_type": "stream",
     "text": [
      "Processed prompts: 100%|██████████| 1534/1534 [08:29<00:00,  3.01it/s, est. speed input: 9779.38 toks/s, output: 166.01 toks/s] "
     ]
    },
    {
     "name": "stdout",
     "output_type": "stream",
     "text": [
      "extract_think количество ошибок:  0\n",
      "extract_sql количество ошибок:  0\n",
      "Закончили генерацию SQL запросов\n",
      "Начали скорр полученных SQL запросов\n"
     ]
    },
    {
     "name": "stderr",
     "output_type": "stream",
     "text": [
      "\n"
     ]
    },
    {
     "name": "stdout",
     "output_type": "stream",
     "text": [
      "Qwen3-32B DEV Финальный результат EX: 58.21\n",
      "Qwen3-32B процент запросов, которые успешно выполнились DEV: 97.26%\n",
      "====================================================================================================\n",
      "\n",
      "\n",
      "Загружаем чаты с данными...\n",
      "Данные успешно загружены\n",
      "Начали генерацию SQL запросов\n"
     ]
    },
    {
     "name": "stderr",
     "output_type": "stream",
     "text": [
      "Processed prompts: 100%|██████████| 1534/1534 [08:11<00:00,  3.12it/s, est. speed input: 10050.36 toks/s, output: 171.28 toks/s]"
     ]
    },
    {
     "name": "stdout",
     "output_type": "stream",
     "text": [
      "extract_think количество ошибок:  0\n",
      "extract_sql количество ошибок:  0\n",
      "Закончили генерацию SQL запросов\n",
      "Начали скорр полученных SQL запросов\n"
     ]
    },
    {
     "name": "stderr",
     "output_type": "stream",
     "text": [
      "\n"
     ]
    },
    {
     "name": "stdout",
     "output_type": "stream",
     "text": [
      "Qwen3-32B DEV Финальный результат EX: 58.28\n",
      "Qwen3-32B процент запросов, которые успешно выполнились DEV: 97.26%\n",
      "====================================================================================================\n",
      "\n",
      "\n",
      "Загружаем чаты с данными...\n",
      "Данные успешно загружены\n",
      "Начали генерацию SQL запросов\n"
     ]
    },
    {
     "name": "stderr",
     "output_type": "stream",
     "text": [
      "Processed prompts: 100%|██████████| 1534/1534 [08:18<00:00,  3.07it/s, est. speed input: 9932.76 toks/s, output: 170.02 toks/s]"
     ]
    },
    {
     "name": "stdout",
     "output_type": "stream",
     "text": [
      "extract_think количество ошибок:  0\n",
      "extract_sql количество ошибок:  0\n",
      "Закончили генерацию SQL запросов\n",
      "Начали скорр полученных SQL запросов\n"
     ]
    },
    {
     "name": "stderr",
     "output_type": "stream",
     "text": [
      "\n"
     ]
    },
    {
     "name": "stdout",
     "output_type": "stream",
     "text": [
      "Qwen3-32B DEV Финальный результат EX: 58.60\n",
      "Qwen3-32B процент запросов, которые успешно выполнились DEV: 97.72%\n",
      "====================================================================================================\n",
      "\n",
      "\n",
      "Загружаем чаты с данными...\n",
      "Данные успешно загружены\n",
      "Начали генерацию SQL запросов\n"
     ]
    },
    {
     "name": "stderr",
     "output_type": "stream",
     "text": [
      "Processed prompts: 100%|██████████| 1534/1534 [08:26<00:00,  3.03it/s, est. speed input: 9822.70 toks/s, output: 169.20 toks/s]"
     ]
    },
    {
     "name": "stdout",
     "output_type": "stream",
     "text": [
      "extract_think количество ошибок:  0\n",
      "extract_sql количество ошибок:  0\n",
      "Закончили генерацию SQL запросов\n",
      "Начали скорр полученных SQL запросов\n"
     ]
    },
    {
     "name": "stderr",
     "output_type": "stream",
     "text": [
      "\n"
     ]
    },
    {
     "name": "stdout",
     "output_type": "stream",
     "text": [
      "Qwen3-32B DEV Финальный результат EX: 57.63\n",
      "Qwen3-32B процент запросов, которые успешно выполнились DEV: 96.81%\n",
      "====================================================================================================\n",
      "\n",
      "\n",
      "Загружаем чаты с данными...\n",
      "Данные успешно загружены\n",
      "Начали генерацию SQL запросов\n"
     ]
    },
    {
     "name": "stderr",
     "output_type": "stream",
     "text": [
      "Processed prompts: 100%|██████████| 1534/1534 [08:14<00:00,  3.10it/s, est. speed input: 9922.63 toks/s, output: 171.90 toks/s] "
     ]
    },
    {
     "name": "stdout",
     "output_type": "stream",
     "text": [
      "extract_think количество ошибок:  0\n",
      "extract_sql количество ошибок:  0\n",
      "Закончили генерацию SQL запросов\n",
      "Начали скорр полученных SQL запросов\n"
     ]
    },
    {
     "name": "stderr",
     "output_type": "stream",
     "text": [
      "\n"
     ]
    },
    {
     "name": "stdout",
     "output_type": "stream",
     "text": [
      "Qwen3-32B DEV Финальный результат EX: 58.41\n",
      "Qwen3-32B процент запросов, которые успешно выполнились DEV: 96.61%\n",
      "====================================================================================================\n",
      "\n",
      "\n",
      "Загружаем чаты с данными...\n",
      "Данные успешно загружены\n",
      "Начали генерацию SQL запросов\n"
     ]
    },
    {
     "name": "stderr",
     "output_type": "stream",
     "text": [
      "Processed prompts: 100%|██████████| 1534/1534 [08:20<00:00,  3.07it/s, est. speed input: 9996.72 toks/s, output: 168.62 toks/s] "
     ]
    },
    {
     "name": "stdout",
     "output_type": "stream",
     "text": [
      "extract_think количество ошибок:  0\n",
      "extract_sql количество ошибок:  0\n",
      "Закончили генерацию SQL запросов\n",
      "Начали скорр полученных SQL запросов\n"
     ]
    },
    {
     "name": "stderr",
     "output_type": "stream",
     "text": [
      "\n"
     ]
    },
    {
     "name": "stdout",
     "output_type": "stream",
     "text": [
      "Qwen3-32B DEV Финальный результат EX: 58.34\n",
      "Qwen3-32B процент запросов, которые успешно выполнились DEV: 97.20%\n",
      "====================================================================================================\n",
      "\n",
      "\n",
      "Загружаем чаты с данными...\n",
      "Данные успешно загружены\n",
      "Начали генерацию SQL запросов\n"
     ]
    },
    {
     "name": "stderr",
     "output_type": "stream",
     "text": [
      "Processed prompts: 100%|██████████| 1534/1534 [08:31<00:00,  3.00it/s, est. speed input: 9882.95 toks/s, output: 165.64 toks/s]"
     ]
    },
    {
     "name": "stdout",
     "output_type": "stream",
     "text": [
      "extract_think количество ошибок:  0\n",
      "extract_sql количество ошибок:  0\n",
      "Закончили генерацию SQL запросов\n",
      "Начали скорр полученных SQL запросов\n"
     ]
    },
    {
     "name": "stderr",
     "output_type": "stream",
     "text": [
      "\n"
     ]
    },
    {
     "name": "stdout",
     "output_type": "stream",
     "text": [
      "Qwen3-32B DEV Финальный результат EX: 58.15\n",
      "Qwen3-32B процент запросов, которые успешно выполнились DEV: 97.07%\n",
      "====================================================================================================\n",
      "\n",
      "\n",
      "Загружаем чаты с данными...\n",
      "Данные успешно загружены\n",
      "Начали генерацию SQL запросов\n"
     ]
    },
    {
     "name": "stderr",
     "output_type": "stream",
     "text": [
      "Processed prompts: 100%|██████████| 1534/1534 [08:19<00:00,  3.07it/s, est. speed input: 9852.46 toks/s, output: 169.27 toks/s]"
     ]
    },
    {
     "name": "stdout",
     "output_type": "stream",
     "text": [
      "extract_think количество ошибок:  0\n",
      "extract_sql количество ошибок:  0\n",
      "Закончили генерацию SQL запросов\n",
      "Начали скорр полученных SQL запросов\n"
     ]
    },
    {
     "name": "stderr",
     "output_type": "stream",
     "text": [
      "\n"
     ]
    },
    {
     "name": "stdout",
     "output_type": "stream",
     "text": [
      "Qwen3-32B DEV Финальный результат EX: 58.54\n",
      "Qwen3-32B процент запросов, которые успешно выполнились DEV: 96.94%\n",
      "====================================================================================================\n",
      "\n",
      "\n",
      "Загружаем чаты с данными...\n",
      "Данные успешно загружены\n",
      "Начали генерацию SQL запросов\n"
     ]
    },
    {
     "name": "stderr",
     "output_type": "stream",
     "text": [
      "Processed prompts: 100%|██████████| 1534/1534 [08:33<00:00,  2.99it/s, est. speed input: 9666.42 toks/s, output: 167.56 toks/s]"
     ]
    },
    {
     "name": "stdout",
     "output_type": "stream",
     "text": [
      "extract_think количество ошибок:  0\n",
      "extract_sql количество ошибок:  0\n",
      "Закончили генерацию SQL запросов\n",
      "Начали скорр полученных SQL запросов\n"
     ]
    },
    {
     "name": "stderr",
     "output_type": "stream",
     "text": [
      "\n"
     ]
    },
    {
     "name": "stdout",
     "output_type": "stream",
     "text": [
      "Qwen3-32B DEV Финальный результат EX: 57.30\n",
      "Qwen3-32B процент запросов, которые успешно выполнились DEV: 96.94%\n",
      "====================================================================================================\n",
      "\n",
      "\n",
      "Загружаем чаты с данными...\n",
      "Данные успешно загружены\n",
      "Начали генерацию SQL запросов\n"
     ]
    },
    {
     "name": "stderr",
     "output_type": "stream",
     "text": [
      "Processed prompts: 100%|██████████| 1534/1534 [08:27<00:00,  3.02it/s, est. speed input: 9837.16 toks/s, output: 167.15 toks/s]"
     ]
    },
    {
     "name": "stdout",
     "output_type": "stream",
     "text": [
      "extract_think количество ошибок:  0\n",
      "extract_sql количество ошибок:  0\n",
      "Закончили генерацию SQL запросов\n",
      "Начали скорр полученных SQL запросов\n"
     ]
    },
    {
     "name": "stderr",
     "output_type": "stream",
     "text": [
      "\n"
     ]
    },
    {
     "name": "stdout",
     "output_type": "stream",
     "text": [
      "Qwen3-32B DEV Финальный результат EX: 57.89\n",
      "Qwen3-32B процент запросов, которые успешно выполнились DEV: 96.87%\n",
      "====================================================================================================\n",
      "\n",
      "\n",
      "Загружаем чаты с данными...\n",
      "Данные успешно загружены\n",
      "Начали генерацию SQL запросов\n"
     ]
    },
    {
     "name": "stderr",
     "output_type": "stream",
     "text": [
      "Processed prompts: 100%|██████████| 1534/1534 [08:07<00:00,  3.14it/s, est. speed input: 10094.68 toks/s, output: 170.64 toks/s]"
     ]
    },
    {
     "name": "stdout",
     "output_type": "stream",
     "text": [
      "extract_think количество ошибок:  0\n",
      "extract_sql количество ошибок:  0\n",
      "Закончили генерацию SQL запросов\n",
      "Начали скорр полученных SQL запросов\n"
     ]
    },
    {
     "name": "stderr",
     "output_type": "stream",
     "text": [
      "\n"
     ]
    },
    {
     "name": "stdout",
     "output_type": "stream",
     "text": [
      "Qwen3-32B DEV Финальный результат EX: 57.69\n",
      "Qwen3-32B процент запросов, которые успешно выполнились DEV: 97.52%\n",
      "====================================================================================================\n",
      "\n",
      "\n",
      "Загружаем чаты с данными...\n",
      "Данные успешно загружены\n",
      "Начали генерацию SQL запросов\n"
     ]
    },
    {
     "name": "stderr",
     "output_type": "stream",
     "text": [
      "Processed prompts: 100%|██████████| 1534/1534 [08:23<00:00,  3.05it/s, est. speed input: 9870.87 toks/s, output: 167.74 toks/s] "
     ]
    },
    {
     "name": "stdout",
     "output_type": "stream",
     "text": [
      "extract_think количество ошибок:  0\n",
      "extract_sql количество ошибок:  0\n",
      "Закончили генерацию SQL запросов\n",
      "Начали скорр полученных SQL запросов\n"
     ]
    },
    {
     "name": "stderr",
     "output_type": "stream",
     "text": [
      "\n",
      "Exception ignored in: <bound method IPythonKernel._clean_thread_parent_frames of <ipykernel.ipkernel.IPythonKernel object at 0x7f46d99c2fc0>>\n",
      "Traceback (most recent call last):\n",
      "  File \"/data/home/vkropoti/vllm/lib64/python3.12/site-packages/ipykernel/ipkernel.py\", line 775, in _clean_thread_parent_frames\n",
      "    def _clean_thread_parent_frames(\n",
      "\n",
      "func_timeout.dafunc.FunctionTimedOut-887970420153218718: Function execute_query (args=('/data/home/vkropoti/sql_data/dev_databases/', 'financial', \"SELECT T1.account_id FROM trans AS T1 INNER JOIN account AS T2 ON T1.account_id = T2.account_id WHERE STRFTIME('%Y', T1.date) = '1998' AND T1.operation = 'VYBER KARTOU' AND T1.amount < (SELECT AVG(amount) FROM trans WHERE STRFTIME('%Y', date) = '1998')\", \"SELECT DISTINCT `client`.`client_id`\\nFROM `trans`\\nJOIN `account` ON `trans`.`account_id` = `account`.`account_id`\\nJOIN `disp` ON `account`.`account_id` = `disp`.`account_id`\\nJOIN `client` ON `disp`.`client_id` = `client`.`client_id`\\nWHERE `trans`.`operation` = 'VYBER KARTOU'\\n  AND `trans`.`date` BETWEEN '1998-01-01' AND '1998-12-31'\\n  AND `trans`.`amount` < (\\n      SELECT AVG(`amount`)\\n      FROM `trans`\\n      WHERE `operation` = 'VYBER KARTOU'\\n        AND `date` BETWEEN '1998-01-01' AND '1998-12-31'\\n  )\")) (kwargs={}) timed out after 5.000000 seconds.\n",
      "\n"
     ]
    },
    {
     "name": "stdout",
     "output_type": "stream",
     "text": [
      "Qwen3-32B DEV Финальный результат EX: 58.80\n",
      "Qwen3-32B процент запросов, которые успешно выполнились DEV: 97.07%\n",
      "====================================================================================================\n",
      "\n",
      "\n",
      "Загружаем чаты с данными...\n",
      "Данные успешно загружены\n",
      "Начали генерацию SQL запросов\n"
     ]
    },
    {
     "name": "stderr",
     "output_type": "stream",
     "text": [
      "Processed prompts: 100%|██████████| 1534/1534 [08:30<00:00,  3.01it/s, est. speed input: 9833.00 toks/s, output: 167.21 toks/s]"
     ]
    },
    {
     "name": "stdout",
     "output_type": "stream",
     "text": [
      "extract_think количество ошибок:  0\n",
      "extract_sql количество ошибок:  0\n",
      "Закончили генерацию SQL запросов\n",
      "Начали скорр полученных SQL запросов\n"
     ]
    },
    {
     "name": "stderr",
     "output_type": "stream",
     "text": [
      "\n"
     ]
    },
    {
     "name": "stdout",
     "output_type": "stream",
     "text": [
      "Qwen3-32B DEV Финальный результат EX: 57.76\n",
      "Qwen3-32B процент запросов, которые успешно выполнились DEV: 96.87%\n",
      "====================================================================================================\n",
      "\n",
      "\n",
      "Загружаем чаты с данными...\n",
      "Данные успешно загружены\n",
      "Начали генерацию SQL запросов\n"
     ]
    },
    {
     "name": "stderr",
     "output_type": "stream",
     "text": [
      "Processed prompts: 100%|██████████| 1534/1534 [08:19<00:00,  3.07it/s, est. speed input: 9957.27 toks/s, output: 169.99 toks/s]"
     ]
    },
    {
     "name": "stdout",
     "output_type": "stream",
     "text": [
      "extract_think количество ошибок:  0\n",
      "extract_sql количество ошибок:  0\n",
      "Закончили генерацию SQL запросов\n",
      "Начали скорр полученных SQL запросов\n"
     ]
    },
    {
     "name": "stderr",
     "output_type": "stream",
     "text": [
      "\n"
     ]
    },
    {
     "name": "stdout",
     "output_type": "stream",
     "text": [
      "Qwen3-32B DEV Финальный результат EX: 57.82\n",
      "Qwen3-32B процент запросов, которые успешно выполнились DEV: 96.41%\n",
      "====================================================================================================\n",
      "\n",
      "\n",
      "Загружаем чаты с данными...\n",
      "Данные успешно загружены\n",
      "Начали генерацию SQL запросов\n"
     ]
    },
    {
     "name": "stderr",
     "output_type": "stream",
     "text": [
      "Processed prompts: 100%|██████████| 1534/1534 [08:16<00:00,  3.09it/s, est. speed input: 9889.99 toks/s, output: 169.63 toks/s]"
     ]
    },
    {
     "name": "stdout",
     "output_type": "stream",
     "text": [
      "extract_think количество ошибок:  0\n",
      "extract_sql количество ошибок:  0\n",
      "Закончили генерацию SQL запросов\n",
      "Начали скорр полученных SQL запросов\n"
     ]
    },
    {
     "name": "stderr",
     "output_type": "stream",
     "text": [
      "\n"
     ]
    },
    {
     "name": "stdout",
     "output_type": "stream",
     "text": [
      "Qwen3-32B DEV Финальный результат EX: 57.63\n",
      "Qwen3-32B процент запросов, которые успешно выполнились DEV: 97.52%\n",
      "====================================================================================================\n",
      "\n",
      "\n",
      "Загружаем чаты с данными...\n",
      "Данные успешно загружены\n",
      "Начали генерацию SQL запросов\n"
     ]
    },
    {
     "name": "stderr",
     "output_type": "stream",
     "text": [
      "Processed prompts: 100%|██████████| 1534/1534 [08:14<00:00,  3.10it/s, est. speed input: 9852.71 toks/s, output: 170.88 toks/s]"
     ]
    },
    {
     "name": "stdout",
     "output_type": "stream",
     "text": [
      "extract_think количество ошибок:  0\n",
      "extract_sql количество ошибок:  0\n",
      "Закончили генерацию SQL запросов\n",
      "Начали скорр полученных SQL запросов\n"
     ]
    },
    {
     "name": "stderr",
     "output_type": "stream",
     "text": [
      "\n"
     ]
    },
    {
     "name": "stdout",
     "output_type": "stream",
     "text": [
      "Qwen3-32B DEV Финальный результат EX: 58.74\n",
      "Qwen3-32B процент запросов, которые успешно выполнились DEV: 97.39%\n",
      "====================================================================================================\n",
      "\n",
      "\n",
      "Загружаем чаты с данными...\n",
      "Данные успешно загружены\n",
      "Начали генерацию SQL запросов\n"
     ]
    },
    {
     "name": "stderr",
     "output_type": "stream",
     "text": [
      "Processed prompts: 100%|██████████| 1534/1534 [08:16<00:00,  3.09it/s, est. speed input: 9926.44 toks/s, output: 169.30 toks/s] "
     ]
    },
    {
     "name": "stdout",
     "output_type": "stream",
     "text": [
      "extract_think количество ошибок:  0\n",
      "extract_sql количество ошибок:  0\n",
      "Закончили генерацию SQL запросов\n",
      "Начали скорр полученных SQL запросов\n"
     ]
    },
    {
     "name": "stderr",
     "output_type": "stream",
     "text": [
      "\n"
     ]
    },
    {
     "name": "stdout",
     "output_type": "stream",
     "text": [
      "Qwen3-32B DEV Финальный результат EX: 58.34\n",
      "Qwen3-32B процент запросов, которые успешно выполнились DEV: 97.13%\n",
      "====================================================================================================\n",
      "\n",
      "\n",
      "Загружаем чаты с данными...\n",
      "Данные успешно загружены\n",
      "Начали генерацию SQL запросов\n"
     ]
    },
    {
     "name": "stderr",
     "output_type": "stream",
     "text": [
      "Processed prompts: 100%|██████████| 1534/1534 [08:24<00:00,  3.04it/s, est. speed input: 9844.60 toks/s, output: 166.69 toks/s]"
     ]
    },
    {
     "name": "stdout",
     "output_type": "stream",
     "text": [
      "extract_think количество ошибок:  0\n",
      "extract_sql количество ошибок:  0\n",
      "Закончили генерацию SQL запросов\n",
      "Начали скорр полученных SQL запросов\n"
     ]
    },
    {
     "name": "stderr",
     "output_type": "stream",
     "text": [
      "\n",
      "Exception ignored in: <bound method IPythonKernel._clean_thread_parent_frames of <ipykernel.ipkernel.IPythonKernel object at 0x7f46d99c2fc0>>\n",
      "Traceback (most recent call last):\n",
      "  File \"/data/home/vkropoti/vllm/lib64/python3.12/site-packages/ipykernel/ipkernel.py\", line 775, in _clean_thread_parent_frames\n",
      "    def _clean_thread_parent_frames(\n",
      "\n",
      "func_timeout.dafunc.FunctionTimedOut4762786145531391540: Function execute_query (args=('/data/home/vkropoti/sql_data/dev_databases/', 'financial', \"SELECT T1.account_id FROM trans AS T1 INNER JOIN account AS T2 ON T1.account_id = T2.account_id WHERE STRFTIME('%Y', T1.date) = '1998' AND T1.operation = 'VYBER KARTOU' AND T1.amount < (SELECT AVG(amount) FROM trans WHERE STRFTIME('%Y', date) = '1998')\", \"SELECT DISTINCT client.client_id\\nFROM trans\\nJOIN account ON trans.account_id = account.account_id\\nJOIN disp ON account.account_id = disp.account_id\\nJOIN client ON disp.client_id = client.client_id\\nWHERE trans.operation = 'VYBER KARTOU'\\n  AND trans.date BETWEEN '1998-01-01' AND '1998-12-31'\\n  AND trans.amount < (\\n    SELECT AVG(amount)\\n    FROM trans\\n    WHERE operation = 'VYBER KARTOU'\\n      AND date BETWEEN '1998-01-01' AND '1998-12-31'\\n  )\")) (kwargs={}) timed out after 5.000000 seconds.\n",
      "\n"
     ]
    },
    {
     "name": "stdout",
     "output_type": "stream",
     "text": [
      "Qwen3-32B DEV Финальный результат EX: 58.02\n",
      "Qwen3-32B процент запросов, которые успешно выполнились DEV: 96.94%\n",
      "====================================================================================================\n",
      "\n",
      "\n"
     ]
    }
   ],
   "source": [
    "run_cot_experiment(model,arr_seeds,arr_versions, type_cot, num_observations=num_observations)"
   ]
  },
  {
   "cell_type": "markdown",
   "id": "6046825c-8b23-4466-9c8c-2bd8d22da520",
   "metadata": {},
   "source": [
    "## 3 наблюдения"
   ]
  },
  {
   "cell_type": "code",
   "execution_count": null,
   "id": "087d84b5-c110-41ff-a60d-7dbdeb15ffce",
   "metadata": {},
   "outputs": [],
   "source": [
    "n= 20\n",
    "arr_seeds = [random.randint(0,1000) for _ in range(n)]\n",
    "arr_versions = [x for x in range(n)]\n",
    "model = \"Qwen3-32B\"\n",
    "num_observations = 3\n",
    "type_cot = 'all_new'\n",
    "print(arr_seeds)\n",
    "print(f\"model: {model}\")"
   ]
  },
  {
   "cell_type": "code",
   "execution_count": null,
   "id": "75073cd5-a80a-47f6-90d0-af48f09fc511",
   "metadata": {
    "scrolled": true
   },
   "outputs": [],
   "source": [
    "run_cot_experiment(model,arr_seeds,arr_versions, type_cot,num_observations=num_observations)"
   ]
  },
  {
   "cell_type": "markdown",
   "id": "497ba1a7-9a17-4849-b915-86790c9c7d3b",
   "metadata": {},
   "source": [
    "## 4 наблюдения"
   ]
  },
  {
   "cell_type": "code",
   "execution_count": null,
   "id": "ce49c4fe-8bad-4a23-82e6-10e210d49af7",
   "metadata": {},
   "outputs": [],
   "source": [
    "n= 20\n",
    "arr_seeds = [random.randint(0,1000) for _ in range(n)]\n",
    "arr_versions = [x for x in range(n)]\n",
    "model = \"Qwen3-32B\"\n",
    "num_observations = 4\n",
    "type_cot = 'all_new'\n",
    "print(arr_seeds)\n",
    "print(f\"model: {model}\")"
   ]
  },
  {
   "cell_type": "code",
   "execution_count": null,
   "id": "7a21f95e-0959-4d46-b161-3dd97031a48f",
   "metadata": {
    "scrolled": true
   },
   "outputs": [],
   "source": [
    "run_cot_experiment(model,arr_seeds,arr_versions, type_cot,num_observations=num_observations)"
   ]
  },
  {
   "cell_type": "markdown",
   "id": "e8321b48-e1ff-41e4-b667-d7196e984c17",
   "metadata": {},
   "source": [
    "## 5 наблюдений"
   ]
  },
  {
   "cell_type": "code",
   "execution_count": null,
   "id": "613df4ca-270b-4de3-9fb0-a403da4769f9",
   "metadata": {},
   "outputs": [],
   "source": [
    "n= 20\n",
    "arr_seeds = [random.randint(0,1000) for _ in range(n)]\n",
    "arr_versions = [x for x in range(n)]\n",
    "model = \"Qwen3-32B\"\n",
    "num_observations = 5\n",
    "type_cot = 'all_new'\n",
    "print(arr_seeds)\n",
    "print(f\"model: {model}\")"
   ]
  },
  {
   "cell_type": "code",
   "execution_count": null,
   "id": "cecc36c2-8753-43db-a939-82d14892b0f5",
   "metadata": {
    "scrolled": true
   },
   "outputs": [],
   "source": [
    "run_cot_experiment(model,arr_seeds,arr_versions, type_cot,num_observations=num_observations)"
   ]
  },
  {
   "cell_type": "markdown",
   "id": "8ecdae85-ab3f-4123-8cb2-d235fe12a9b6",
   "metadata": {},
   "source": [
    "## 6 наблюдений"
   ]
  },
  {
   "cell_type": "code",
   "execution_count": null,
   "id": "4cf5d319-24ae-42c5-a259-219dab753f06",
   "metadata": {},
   "outputs": [],
   "source": [
    "n= 20\n",
    "arr_seeds = [random.randint(0,1000) for _ in range(n)]\n",
    "arr_versions = [x for x in range(n)]\n",
    "model = \"Qwen3-32B\"\n",
    "num_observations = 6\n",
    "type_cot = 'all_new'\n",
    "print(arr_seeds)\n",
    "print(f\"model: {model}\")"
   ]
  },
  {
   "cell_type": "code",
   "execution_count": null,
   "id": "658afdd2-e3e5-4436-989d-2a8c484bbd3f",
   "metadata": {
    "scrolled": true
   },
   "outputs": [],
   "source": [
    "run_cot_experiment(model,arr_seeds,arr_versions, type_cot,num_observations=num_observations)"
   ]
  },
  {
   "cell_type": "markdown",
   "id": "51d986a1-0b51-4b35-9b9c-0acb184dcbda",
   "metadata": {},
   "source": [
    "## 7 наблюдений"
   ]
  },
  {
   "cell_type": "code",
   "execution_count": null,
   "id": "1df4a57b-8c8c-4ec0-ba80-8dd616f717e7",
   "metadata": {},
   "outputs": [],
   "source": [
    "n= 20\n",
    "arr_seeds = [random.randint(0,1000) for _ in range(n)]\n",
    "arr_versions = [x for x in range(n)]\n",
    "model = \"Qwen3-32B\"\n",
    "num_observations = 7\n",
    "type_cot = 'all_new'\n",
    "print(arr_seeds)\n",
    "print(f\"model: {model}\")"
   ]
  },
  {
   "cell_type": "code",
   "execution_count": null,
   "id": "6399f201-99a9-4c61-86dc-3570cf4878cd",
   "metadata": {
    "scrolled": true
   },
   "outputs": [],
   "source": [
    "run_cot_experiment(model,arr_seeds,arr_versions, type_cot,num_observations=num_observations)"
   ]
  },
  {
   "cell_type": "markdown",
   "id": "87878e5f-093d-453a-9788-03dc8dd66798",
   "metadata": {},
   "source": [
    "# part2: answer"
   ]
  },
  {
   "cell_type": "code",
   "execution_count": null,
   "id": "bceafaae-0c5b-4fb9-a4f9-91e86a81a4fc",
   "metadata": {},
   "outputs": [],
   "source": [
    "n= 20\n",
    "arr_seeds = [random.randint(0,1000) for _ in range(n)]\n",
    "arr_versions = [x for x in range(n)]\n",
    "model = \"Qwen3-32B\"\n",
    "num_observations = 2\n",
    "type_cot = 'predict'\n",
    "print(arr_seeds)\n",
    "print(f\"model: {model}\")"
   ]
  },
  {
   "cell_type": "code",
   "execution_count": null,
   "id": "612ac94a-93c5-4681-978d-f7322871fb25",
   "metadata": {
    "scrolled": true
   },
   "outputs": [],
   "source": [
    "run_cot_experiment(model,arr_seeds,arr_versions, type_cot,num_observations=num_observations)"
   ]
  },
  {
   "cell_type": "code",
   "execution_count": null,
   "id": "567aebd6-c42e-43f1-b038-e70215d348ba",
   "metadata": {},
   "outputs": [],
   "source": [
    "n= 20\n",
    "arr_seeds = [random.randint(0,1000) for _ in range(n)]\n",
    "arr_versions = [x for x in range(n)]\n",
    "model = \"Qwen3-32B\"\n",
    "num_observations = 3\n",
    "type_cot = 'predict'\n",
    "print(arr_seeds)\n",
    "print(f\"model: {model}\")"
   ]
  },
  {
   "cell_type": "code",
   "execution_count": null,
   "id": "ae9448a7-0cef-4f51-b3ca-c3e9733ea56f",
   "metadata": {
    "scrolled": true
   },
   "outputs": [],
   "source": [
    "run_cot_experiment(model,arr_seeds,arr_versions, type_cot,num_observations=num_observations)"
   ]
  },
  {
   "cell_type": "code",
   "execution_count": null,
   "id": "57efa230-434d-4803-901f-a4d09f2971ad",
   "metadata": {},
   "outputs": [],
   "source": [
    "n= 20\n",
    "arr_seeds = [random.randint(0,1000) for _ in range(n)]\n",
    "arr_versions = [x for x in range(n)]\n",
    "model = \"Qwen3-32B\"\n",
    "num_observations = 4\n",
    "type_cot = 'predict'\n",
    "print(arr_seeds)\n",
    "print(f\"model: {model}\")"
   ]
  },
  {
   "cell_type": "code",
   "execution_count": null,
   "id": "84e49863-1bc7-4141-93e1-a7dbca7ce991",
   "metadata": {
    "scrolled": true
   },
   "outputs": [],
   "source": [
    "run_cot_experiment(model,arr_seeds,arr_versions, type_cot,num_observations=num_observations)"
   ]
  },
  {
   "cell_type": "code",
   "execution_count": null,
   "id": "c1e5e144-1e1f-44de-8094-e7172daff51b",
   "metadata": {},
   "outputs": [],
   "source": [
    "n= 20\n",
    "arr_seeds = [random.randint(0,1000) for _ in range(n)]\n",
    "arr_versions = [x for x in range(n)]\n",
    "model = \"Qwen3-32B\"\n",
    "num_observations = 5\n",
    "type_cot = 'predict'\n",
    "print(arr_seeds)\n",
    "print(f\"model: {model}\")"
   ]
  },
  {
   "cell_type": "code",
   "execution_count": null,
   "id": "25a08606-4784-406f-965a-c029463c9e15",
   "metadata": {
    "scrolled": true
   },
   "outputs": [],
   "source": [
    "run_cot_experiment(model,arr_seeds,arr_versions, type_cot,num_observations=num_observations)"
   ]
  },
  {
   "cell_type": "code",
   "execution_count": null,
   "id": "8ae6563c-4ff4-406d-ac16-83ebfd6bc432",
   "metadata": {},
   "outputs": [],
   "source": [
    "n= 20\n",
    "arr_seeds = [random.randint(0,1000) for _ in range(n)]\n",
    "arr_versions = [x for x in range(n)]\n",
    "model = \"Qwen3-32B\"\n",
    "num_observations = 6\n",
    "type_cot = 'predict'\n",
    "print(arr_seeds)\n",
    "print(f\"model: {model}\")"
   ]
  },
  {
   "cell_type": "code",
   "execution_count": null,
   "id": "5bb17664-8fd5-4e8f-84de-49f872c5aa4a",
   "metadata": {
    "scrolled": true
   },
   "outputs": [],
   "source": [
    "run_cot_experiment(model,arr_seeds,arr_versions, type_cot,num_observations=num_observations)"
   ]
  },
  {
   "cell_type": "code",
   "execution_count": null,
   "id": "a94cd47b-49f8-474e-b88d-fe0c14ff3e2e",
   "metadata": {},
   "outputs": [],
   "source": [
    "n= 20\n",
    "arr_seeds = [random.randint(0,1000) for _ in range(n)]\n",
    "arr_versions = [x for x in range(n)]\n",
    "model = \"Qwen3-32B\"\n",
    "num_observations = 7\n",
    "type_cot = 'predict'\n",
    "print(arr_seeds)\n",
    "print(f\"model: {model}\")"
   ]
  },
  {
   "cell_type": "code",
   "execution_count": null,
   "id": "91c21ffa-aee2-4dba-abad-52c7011ded7d",
   "metadata": {
    "scrolled": true
   },
   "outputs": [],
   "source": [
    "run_cot_experiment(model,arr_seeds,arr_versions, type_cot,num_observations=num_observations)"
   ]
  },
  {
   "cell_type": "markdown",
   "id": "c4dd2157-7279-458f-8a86-22686112bf5f",
   "metadata": {},
   "source": [
    "# part3: think"
   ]
  },
  {
   "cell_type": "code",
   "execution_count": null,
   "id": "02febb85-1132-4b71-9ed8-e30241d01dc3",
   "metadata": {},
   "outputs": [],
   "source": [
    "n= 20\n",
    "arr_seeds = [random.randint(0,1000) for _ in range(n)]\n",
    "arr_versions = [x for x in range(n)]\n",
    "model = \"Qwen3-32B\"\n",
    "num_observations = 2\n",
    "type_cot = 'think'\n",
    "print(arr_seeds)\n",
    "print(f\"model: {model}\")"
   ]
  },
  {
   "cell_type": "code",
   "execution_count": null,
   "id": "e9e60717-ffae-4f1f-8831-a4902529303e",
   "metadata": {
    "scrolled": true
   },
   "outputs": [],
   "source": [
    "run_cot_experiment(model,arr_seeds,arr_versions, type_cot,num_observations=num_observations)"
   ]
  },
  {
   "cell_type": "code",
   "execution_count": null,
   "id": "a20fe4f1-be38-4f30-b534-5959cc12deea",
   "metadata": {},
   "outputs": [],
   "source": [
    "n= 20\n",
    "arr_seeds = [random.randint(0,1000) for _ in range(n)]\n",
    "arr_versions = [x for x in range(n)]\n",
    "model = \"Qwen3-32B\"\n",
    "num_observations = 3\n",
    "type_cot = 'think'\n",
    "print(arr_seeds)\n",
    "print(f\"model: {model}\")"
   ]
  },
  {
   "cell_type": "code",
   "execution_count": null,
   "id": "61d9bd8d-dd04-4a14-a288-585190158702",
   "metadata": {
    "scrolled": true
   },
   "outputs": [],
   "source": [
    "run_cot_experiment(model,arr_seeds,arr_versions, type_cot,num_observations=num_observations)"
   ]
  },
  {
   "cell_type": "code",
   "execution_count": null,
   "id": "91935ea9-35a9-44aa-9e58-6390439df74f",
   "metadata": {},
   "outputs": [],
   "source": [
    "n= 20\n",
    "arr_seeds = [random.randint(0,1000) for _ in range(n)]\n",
    "arr_versions = [x for x in range(n)]\n",
    "model = \"Qwen3-32B\"\n",
    "num_observations = 4\n",
    "type_cot = 'think'\n",
    "print(arr_seeds)\n",
    "print(f\"model: {model}\")"
   ]
  },
  {
   "cell_type": "code",
   "execution_count": null,
   "id": "a29f1083-de0f-4092-8479-ac68ef1c2d4a",
   "metadata": {
    "scrolled": true
   },
   "outputs": [],
   "source": [
    "run_cot_experiment(model,arr_seeds,arr_versions, type_cot,num_observations=num_observations)"
   ]
  },
  {
   "cell_type": "code",
   "execution_count": null,
   "id": "297e4c3e-c5be-4721-b770-83fa97d03f5e",
   "metadata": {},
   "outputs": [],
   "source": [
    "n= 20\n",
    "arr_seeds = [random.randint(0,1000) for _ in range(n)]\n",
    "arr_versions = [x for x in range(n)]\n",
    "model = \"Qwen3-32B\"\n",
    "num_observations = 5\n",
    "type_cot = 'think'\n",
    "print(arr_seeds)\n",
    "print(f\"model: {model}\")"
   ]
  },
  {
   "cell_type": "code",
   "execution_count": null,
   "id": "604c03b5-0971-48e5-8b26-be78a74e2b9d",
   "metadata": {
    "scrolled": true
   },
   "outputs": [],
   "source": [
    "run_cot_experiment(model,arr_seeds,arr_versions, type_cot,num_observations=num_observations)"
   ]
  },
  {
   "cell_type": "code",
   "execution_count": null,
   "id": "618682f5-a160-460f-8f95-1cf78a4111df",
   "metadata": {},
   "outputs": [],
   "source": [
    "n= 20\n",
    "arr_seeds = [random.randint(0,1000) for _ in range(n)]\n",
    "arr_versions = [x for x in range(n)]\n",
    "model = \"Qwen3-32B\"\n",
    "num_observations = 6\n",
    "type_cot = 'think'\n",
    "print(arr_seeds)\n",
    "print(f\"model: {model}\")"
   ]
  },
  {
   "cell_type": "code",
   "execution_count": null,
   "id": "5346e0c4-95a5-4b8b-99f8-bd9905dbdbf5",
   "metadata": {
    "scrolled": true
   },
   "outputs": [],
   "source": [
    "run_cot_experiment(model,arr_seeds,arr_versions, type_cot,num_observations=num_observations)"
   ]
  },
  {
   "cell_type": "code",
   "execution_count": null,
   "id": "e1546848-51e6-48b8-a752-2e11cf612fba",
   "metadata": {},
   "outputs": [],
   "source": [
    "n= 20\n",
    "arr_seeds = [random.randint(0,1000) for _ in range(n)]\n",
    "arr_versions = [x for x in range(n)]\n",
    "model = \"Qwen3-32B\"\n",
    "num_observations = 7\n",
    "type_cot = 'think'\n",
    "print(arr_seeds)\n",
    "print(f\"model: {model}\")"
   ]
  },
  {
   "cell_type": "code",
   "execution_count": null,
   "id": "bbd1c5d7-3f56-4d9b-b2da-ced7d7af5dcd",
   "metadata": {
    "scrolled": true
   },
   "outputs": [],
   "source": [
    "run_cot_experiment(model,arr_seeds,arr_versions, type_cot,num_observations=num_observations)"
   ]
  },
  {
   "cell_type": "code",
   "execution_count": null,
   "id": "1f275770-a1ff-4c32-9410-a2f1b90d6387",
   "metadata": {},
   "outputs": [],
   "source": []
  },
  {
   "cell_type": "code",
   "execution_count": null,
   "id": "9faf42f9-4b40-4d9f-b5a1-f83094808532",
   "metadata": {},
   "outputs": [],
   "source": []
  }
 ],
 "metadata": {
  "kernelspec": {
   "display_name": "vllm",
   "language": "python",
   "name": "vllm"
  },
  "language_info": {
   "codemirror_mode": {
    "name": "ipython",
    "version": 3
   },
   "file_extension": ".py",
   "mimetype": "text/x-python",
   "name": "python",
   "nbconvert_exporter": "python",
   "pygments_lexer": "ipython3",
   "version": "3.12.4"
  }
 },
 "nbformat": 4,
 "nbformat_minor": 5
}
