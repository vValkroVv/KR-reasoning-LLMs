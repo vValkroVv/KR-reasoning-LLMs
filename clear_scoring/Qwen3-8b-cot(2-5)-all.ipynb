{
 "cells": [
  {
   "cell_type": "code",
   "execution_count": 1,
   "id": "6f20e5ea-3a64-4bfa-8502-13bb8469c893",
   "metadata": {},
   "outputs": [],
   "source": [
    "import os, sys\n",
    "sys.path.append(\"/home/vkropoti/vllm\")"
   ]
  },
  {
   "cell_type": "code",
   "execution_count": 2,
   "id": "4fc844b5-83f1-48aa-a6c8-3d93f16a861d",
   "metadata": {},
   "outputs": [
    {
     "name": "stdout",
     "output_type": "stream",
     "text": [
      "INFO 05-06 18:05:52 [__init__.py:239] Automatically detected platform cuda.\n"
     ]
    },
    {
     "name": "stderr",
     "output_type": "stream",
     "text": [
      "2025-05-06 18:05:54,100\tINFO util.py:154 -- Missing packages: ['ipywidgets']. Run `pip install -U ipywidgets`, then restart the notebook server for rich notebook output.\n"
     ]
    }
   ],
   "source": [
    "from src.experiment import run_cot_experiment\n",
    "import random\n",
    "import numpy as np"
   ]
  },
  {
   "cell_type": "markdown",
   "id": "1d4174ff-32eb-4901-9b13-dfc26f6bd8e3",
   "metadata": {},
   "source": [
    "## 2 наблюдения"
   ]
  },
  {
   "cell_type": "code",
   "execution_count": 3,
   "id": "5635dae6-2ae1-4d4d-af1f-dfcd7abc923b",
   "metadata": {},
   "outputs": [
    {
     "name": "stdout",
     "output_type": "stream",
     "text": [
      "[355, 598, 903, 592, 709, 917, 487, 258, 785, 49, 817, 66, 534, 467, 522, 8, 796, 382, 435, 420, 207, 41, 757, 838, 857, 497, 791, 655, 931, 477, 446, 925, 295, 365, 553, 924, 540, 868, 229, 653, 228, 782, 779, 238, 440, 355, 37, 374, 183, 136]\n",
      "model: Qwen3-8B\n"
     ]
    }
   ],
   "source": [
    "n= 50\n",
    "arr_seeds = [random.randint(0,1000) for _ in range(n)]\n",
    "arr_versions = [x for x in range(n)]\n",
    "model = \"Qwen3-8B\"\n",
    "num_observations = 2\n",
    "type_cot = 'all_new'\n",
    "print(arr_seeds)\n",
    "print(f\"model: {model}\")"
   ]
  },
  {
   "cell_type": "code",
   "execution_count": 4,
   "id": "499630a1-5ce2-4867-9648-dc199d088be4",
   "metadata": {
    "scrolled": true
   },
   "outputs": [
    {
     "name": "stdout",
     "output_type": "stream",
     "text": [
      "Загружаем модель...\n"
     ]
    },
    {
     "name": "stderr",
     "output_type": "stream",
     "text": [
      "Loading safetensors checkpoint shards:   0% Completed | 0/4 [00:00<?, ?it/s]\n",
      "Loading safetensors checkpoint shards:  25% Completed | 1/4 [00:00<00:00,  4.45it/s]\n",
      "Loading safetensors checkpoint shards:  50% Completed | 2/4 [00:00<00:00,  2.09it/s]\n",
      "Loading safetensors checkpoint shards:  75% Completed | 3/4 [00:01<00:00,  1.76it/s]\n",
      "Loading safetensors checkpoint shards: 100% Completed | 4/4 [00:02<00:00,  1.66it/s]\n",
      "Loading safetensors checkpoint shards: 100% Completed | 4/4 [00:02<00:00,  1.80it/s]\n",
      "\n"
     ]
    },
    {
     "name": "stdout",
     "output_type": "stream",
     "text": [
      "Модель успешно загружена\n",
      "model_config {'model': '/data/home/vkropoti/models/Qwen3-8B', 'tensor_parallel_size': 1, 'max_model_len': 40000, 'max_new_tokens': 1500, 'temperature': 0, 'top_k': 1, 'top_p': 0.8, 'gpu_memory_utilization': 0.9, 'trust_remote_code': False, 'seed': 355}\n",
      "\n",
      "prompts_config {'path_dev_json': '/home/vkropoti/vllm/dev.json', 'path_sql_dbs': '/data/home/vkropoti/sql_data/dev_databases/', 'use_reasoning': False, 'paths_to_cot': ['/data/home/vkropoti/sql_llm_answers/base_reasoning/sql_all_new_Qwen3-8B-reasoning-v0', '/data/home/vkropoti/sql_llm_answers/base_reasoning/sql_all_new_Qwen3-8B-reasoning-v1']}\n",
      "\n",
      "save_config {'path_sql_save': '/data/home/vkropoti/sql_llm_answers/base_reasoning/sql_all_Qwen3-8B-cot_all_new_think==False_nobs2-v0', 'path_think_save': None, 'path_sql_answers_save': '/data/home/vkropoti/sql_llm_answers/base_reasoning/sql_predict_Qwen3-8B-cot_all_new_think==False_nobs2-v0', 'path_to_save_scores': '/data/home/vkropoti/sql_llm_answers/base_reasoning/sql_results_Qwen3-8B-cot_all_new_think==False_nobs2-v0', 'path_to_save_executed': '/data/home/vkropoti/sql_llm_answers/base_reasoning/sql_executed_Qwen3-8B-cot_all_new_think==False_nobs2-v0'}\n",
      "\n",
      "Модель успешно загружена\n",
      "Пример промпта\n",
      "<|im_start|>system\n",
      "\n",
      "You are a data science expert. Below, you are provided with a database schema and a natural language question. Your task is to understand the schema and generate a valid SQL query to answer the question.\n",
      "\n",
      "Database Engine: SQLite\n",
      "\n",
      "You will be given an additional analysis of other models, please take it into account, so the plan is\n",
      "1. Analyse given addition analysis from other models (find in which analysis the same and differ, how to use that to answer question)\n",
      "2. Combine best from previous part and think how to solve the problem (analyze tables, take care what columns avaliable in each table and so on, check the syntacsis)\n",
      "3. Create the answers. The answer should be only sql query.\n",
      "\n",
      "Carefully follow the instruction and add <|im_end|> and the end of the final answer<|im_end|>\n",
      "<|im_start|>user\n",
      "Here is addition analysis from other models which can be helpfull, please take this into account but be careful (choose the best from each analysis, combine them to make the most proper answer):\n",
      "\n",
      "model 0 analysis:\n",
      " Reasoning process:\n",
      "\n",
      "Okay, let's tackle this question. The user wants the ratio of customers who pay in EUR against those who pay in CZK. First, I need to figure out which tables and columns are relevant. \n",
      "\n",
      "Looking at the tables, the customers table has a Currency column. That's probably where the payment currency is stored. The question is about counting customers based on their Currency. So, I should focus on the customers table.\n",
      "\n",
      "Wait, but the question mentions \"customers who pay in EUR\" and \"CZK\". The customers table has a Currency column, so I need to count how many customers have Currency as 'EUR' and how many have 'CZK'. Then divide those counts to get the ratio.\n",
      "\n",
      "But wait, the customers table's Currency column might have other values too. So, I need to make sure I only consider those two currencies. Also, since the question is about the ratio, I need to calculate (count of EUR customers) divided by (count of CZK customers).\n",
      "\n",
      "So, the SQL query should select the count of customers where Currency is 'EUR' and the count where it's 'CZK', then divide them. But how to do that in SQLite?\n",
      "\n",
      "I can use a CASE statement in the SELECT clause. For example, count the number of EUR customers by summing 1 where Currency is 'EUR', and similarly for CZK. Then divide the two sums.\n",
      "\n",
      "Wait, but the ratio is count(EUR)/count(CZK). So, the query would be something like:\n",
      "\n",
      "SELECT \n",
      "    SUM(CASE WHEN Currency = 'EUR' THEN 1 ELSE 0 END) * 1.0 / \n",
      "    SUM(CASE WHEN Currency = 'CZK' THEN 1 ELSE 0 END) AS ratio\n",
      "FROM customers;\n",
      "\n",
      "But I need to make sure that the denominator isn't zero to avoid division by zero. However, the problem might assume that there are customers in both currencies. But since the user didn't mention handling that, maybe it's safe to proceed as is.\n",
      "\n",
      "Alternatively, maybe using COUNT with conditions. But COUNT with a condition would count non-null values. Wait, if the Currency is 'EUR', then COUNT(Currency = 'EUR') would count the number of rows where Currency is 'EUR', but in SQLite, the expression inside COUNT would evaluate to 1 or 0. Wait, no, COUNT() counts the number of non-NULL values. So, if I use COUNT(CASE WHEN Currency = 'EUR' THEN 1 END), that would count the number of customers with EUR. Similarly for CZK.\n",
      "\n",
      "So, the query would be:\n",
      "\n",
      "SELECT \n",
      "    COUNT(CASE WHEN Currency = 'EUR' THEN 1 END) * 1.0 / \n",
      "    COUNT(CASE WHEN Currency = 'CZK' THEN 1 END) AS ratio\n",
      "FROM customers;\n",
      "\n",
      "But I need to make sure that the division is done as a float. Multiplying by 1.0 ensures that the division is floating-point. Otherwise, if both counts are integers, the division might result in integer division, which would truncate the decimal part. So, adding * 1.0 is important.\n",
      "\n",
      "Another thing to check: the customers table's Currency column might have NULL values. But the question is about customers who pay in EUR or CZK, so we can assume that those with NULL are not counted. The CASE statements would handle that by returning 0 for those.\n",
      "\n",
      "So the final query should select the ratio using the COUNT with CASE statements. The tables involved are only the customers table. No need to join with other tables since the Currency is directly in the customers table.\n",
      "\n",
      "Wait, but the question says \"customers who pay in EUR\" – does that mean that the payment method is in EUR? But the customers table's Currency column might represent the currency they use, so that's the right place to look. So the query is correct.\n",
      "\n",
      "Thus, the SQL query should be as described.\n",
      "\n",
      "Final answer based om reasoning for this model:\n",
      "\n",
      "\n",
      "```\n",
      "-- Your SQL query\n",
      "SELECT COUNT(CASE WHEN Currency = 'EUR' THEN 1 END) * 1.0 / COUNT(CASE WHEN Currency = 'CZK' THEN 1 END) FROM customers;\n",
      "```\n",
      "\n",
      "model 1 analysis:\n",
      " Reasoning process:\n",
      "\n",
      "Okay, let's see. The user is asking for the ratio of customers who pay in EUR against those who pay in CZK. So first, I need to figure out which tables and columns are relevant here.\n",
      "\n",
      "Looking at the tables provided, the customers table has a Currency column. That's probably where the payment currency information is stored. The question is about customers, so the customers table is the main focus here.\n",
      "\n",
      "Wait, but the transactions_1k table also has a Currency column? No, checking the schema again. The customers table has Currency, but the transactions_1k table doesn't. So the Currency here refers to the customer's preferred currency, maybe? Or perhaps it's the transaction currency. Hmm, but the question is about customers paying in EUR or CZK. So it's likely that the Currency column in the customers table indicates the currency they use. \n",
      "\n",
      "So, the plan is to count how many customers have Currency 'EUR' and how many have 'CZK', then divide the two. But wait, the question says ratio of EUR customers against CZK. So EUR count divided by CZK count.\n",
      "\n",
      "But how to handle if there are customers with other currencies? The question doesn't mention them, so maybe we just ignore them. So the query should count customers where Currency is EUR, count where it's CZK, then compute the ratio.\n",
      "\n",
      "So the SQL would need to select those counts. But how to do that in SQLite. Maybe using CASE statements or SUM with conditions. Alternatively, use COUNT with a condition.\n",
      "\n",
      "So, the query would be something like:\n",
      "\n",
      "SELECT \n",
      "    COUNT(CASE WHEN Currency = 'EUR' THEN 1 END) * 1.0 / COUNT(CASE WHEN Currency = 'CZK' THEN 1 END) AS ratio\n",
      "FROM customers;\n",
      "\n",
      "Wait, but what if there are customers with other currencies? The COUNT(CASE WHEN ...) would ignore them. So that's correct.\n",
      "\n",
      "But the user wants the ratio, so the division. Also, need to make sure that division is floating point, not integer. So multiplying by 1.0 or using CAST.\n",
      "\n",
      "But in SQLite, dividing integers would result in integer division. So to get a float, we need to cast one of them to real. So maybe:\n",
      "\n",
      "COUNT(CASE WHEN Currency = 'EUR' THEN 1 END) * 1.0 / COUNT(CASE WHEN Currency = 'CZK' THEN 1 END)\n",
      "\n",
      "Alternatively, use SUM with 1s. But the CASE approach works.\n",
      "\n",
      "So the final query would be selecting that ratio from the customers table.\n",
      "\n",
      "Wait, but what if there are no customers in CZK? Then division by zero. But the question doesn't mention handling that, so maybe it's assumed that there are some.\n",
      "\n",
      "So the correct SQL is as above. Let me check the tables again to confirm. The customers table has Currency as a column. Yes. So the answer is that query.\n",
      "\n",
      "Final answer based om reasoning for this model:\n",
      "\n",
      "\n",
      "```\n",
      "SELECT COUNT(CASE WHEN Currency = 'EUR' THEN 1 END) * 1.0 / COUNT(CASE WHEN Currency = 'CZK' THEN 1 END) FROM customers;\n",
      "```\n",
      "\n",
      "\n",
      "here is avaliable tables below\n",
      "\n",
      "\n",
      "Table: customers\n",
      "CREATE TABLE customers\n",
      "(\n",
      "    CustomerID INTEGER UNIQUE     not null\n",
      "        primary key,\n",
      "    Segment    TEXT null,\n",
      "    Currency   TEXT null\n",
      ")\n",
      "\n",
      "Table: gasstations\n",
      "CREATE TABLE gasstations\n",
      "(\n",
      "    GasStationID INTEGER    UNIQUE   not null\n",
      "        primary key,\n",
      "    ChainID      INTEGER          null,\n",
      "    Country      TEXT null,\n",
      "    Segment      TEXT null\n",
      ")\n",
      "\n",
      "Table: products\n",
      "CREATE TABLE products\n",
      "(\n",
      "    ProductID   INTEGER   UNIQUE      not null\n",
      "        primary key,\n",
      "    Description TEXT null\n",
      ")\n",
      "\n",
      "Table: transactions_1k\n",
      "CREATE TABLE \"transactions_1k\"\n",
      "(\n",
      "    TransactionID INTEGER\n",
      "        primary key autoincrement,\n",
      "    Date          DATE,\n",
      "    Time          TEXT,\n",
      "    CustomerID    INTEGER,\n",
      "    CardID        INTEGER,\n",
      "    GasStationID  INTEGER,\n",
      "    ProductID     INTEGER,\n",
      "    Amount        INTEGER,\n",
      "    Price         REAL\n",
      ")\n",
      "\n",
      "Table: sqlite_sequence\n",
      "CREATE TABLE sqlite_sequence(name,seq)\n",
      "\n",
      "Table: yearmonth\n",
      "CREATE TABLE \"yearmonth\"\n",
      "(\n",
      "    CustomerID  INTEGER not null\n",
      "        references customers\n",
      "            on update cascade on delete cascade\n",
      "        references customers,\n",
      "    Date        TEXT    not null,\n",
      "    Consumption REAL,\n",
      "    primary key (Date, CustomerID)\n",
      ")\n",
      "\n",
      "-- Using valid SQLite and understanding External Knowledge, answer the following questions for the tables provided above.\n",
      "-- What is the ratio of customers who pay in EUR against customers who pay in CZK?\n",
      "-- External Knowledge: ratio of customers who pay in EUR against customers who pay in CZK = count(Currency = 'EUR') / count(Currency = 'CZK').\n",
      "\n",
      "\n",
      "Generate the SQLite for the above question after thinking step by step: \n",
      "\n",
      "\n",
      "Instructions:\n",
      "- Make sure you only output the information that is asked in the question. If the question asks for a specific column, make sure to only include that column in the SELECT clause, nothing more.\n",
      "- The generated query should return all of the information asked in the question without any missing or extra information.\n",
      "- Before generating the final SQL query, please think through the steps of how to write the query.\n",
      "- Do not misuse column names, keep them in quotes `\n",
      "- Carefully understand what colomns belond to what tables\n",
      "- Use only initial column names, change names prohibited\n",
      "        \n",
      "Output Format:\n",
      "In your answer, please enclose the generated SQL query in a code block:\n",
      "```\n",
      "-- Your SQL query\n",
      "```    \n",
      "and nothing else, no exaplains, no comments (asnwer should be less than 512 characters)\n",
      "\n",
      "Take a deep breath and think step by step to find the correct SQL query in SQLite format.\n",
      "\n",
      "Question repetition: What is the ratio of customers who pay in EUR against customers who pay in CZK?\n",
      "\n",
      "Be care! Include only what i want it questiona and nothing else<|im_end|>\n",
      "<|im_start|>assistant\n",
      "<think>\n",
      "\n",
      "</think>\n",
      "\n",
      "\n",
      "\n",
      "\n",
      "Максимальное количество токенов в промптах: 10138\n",
      "\n",
      "начинаем скорринг\n",
      "Загружаем чаты с данными...\n",
      "Данные успешно загружены\n",
      "Начали генерацию SQL запросов\n"
     ]
    },
    {
     "name": "stderr",
     "output_type": "stream",
     "text": [
      "Processed prompts: 100%|██████████| 500/500 [01:21<00:00,  6.14it/s, est. speed input: 21447.95 toks/s, output: 337.38 toks/s]"
     ]
    },
    {
     "name": "stdout",
     "output_type": "stream",
     "text": [
      "extract_think количество ошибок:  0\n",
      "extract_sql количество ошибок:  0\n",
      "Закончили генерацию SQL запросов\n",
      "Начали скорр полученных SQL запросов\n"
     ]
    },
    {
     "name": "stderr",
     "output_type": "stream",
     "text": [
      "\n"
     ]
    },
    {
     "name": "stdout",
     "output_type": "stream",
     "text": [
      "Qwen3-8b Mini DEV Финальный результат EX: 54.60\n",
      "Qwen3-8b процент запросов, которые успешно выполнились Mini DEV: 94.40%\n",
      "====================================================================================================\n",
      "\n",
      "\n",
      "Загружаем чаты с данными...\n",
      "Данные успешно загружены\n",
      "Начали генерацию SQL запросов\n"
     ]
    },
    {
     "name": "stderr",
     "output_type": "stream",
     "text": [
      "Processed prompts: 100%|██████████| 500/500 [01:22<00:00,  6.09it/s, est. speed input: 21471.61 toks/s, output: 334.06 toks/s]"
     ]
    },
    {
     "name": "stdout",
     "output_type": "stream",
     "text": [
      "extract_think количество ошибок:  0\n",
      "extract_sql количество ошибок:  0\n",
      "Закончили генерацию SQL запросов\n",
      "Начали скорр полученных SQL запросов\n"
     ]
    },
    {
     "name": "stderr",
     "output_type": "stream",
     "text": [
      "\n"
     ]
    },
    {
     "name": "stdout",
     "output_type": "stream",
     "text": [
      "Qwen3-8b Mini DEV Финальный результат EX: 52.40\n",
      "Qwen3-8b процент запросов, которые успешно выполнились Mini DEV: 94.40%\n",
      "====================================================================================================\n",
      "\n",
      "\n",
      "Загружаем чаты с данными...\n",
      "Данные успешно загружены\n",
      "Начали генерацию SQL запросов\n"
     ]
    },
    {
     "name": "stderr",
     "output_type": "stream",
     "text": [
      "Processed prompts: 100%|██████████| 500/500 [01:22<00:00,  6.07it/s, est. speed input: 21392.15 toks/s, output: 330.16 toks/s]"
     ]
    },
    {
     "name": "stdout",
     "output_type": "stream",
     "text": [
      "extract_think количество ошибок:  0\n",
      "extract_sql количество ошибок:  0\n",
      "Закончили генерацию SQL запросов\n",
      "Начали скорр полученных SQL запросов\n"
     ]
    },
    {
     "name": "stderr",
     "output_type": "stream",
     "text": [
      "\n"
     ]
    },
    {
     "name": "stdout",
     "output_type": "stream",
     "text": [
      "Qwen3-8b Mini DEV Финальный результат EX: 52.80\n",
      "Qwen3-8b процент запросов, которые успешно выполнились Mini DEV: 94.00%\n",
      "====================================================================================================\n",
      "\n",
      "\n",
      "Загружаем чаты с данными...\n",
      "Данные успешно загружены\n",
      "Начали генерацию SQL запросов\n"
     ]
    },
    {
     "name": "stderr",
     "output_type": "stream",
     "text": [
      "Processed prompts: 100%|██████████| 500/500 [01:25<00:00,  5.86it/s, est. speed input: 20500.67 toks/s, output: 323.35 toks/s]"
     ]
    },
    {
     "name": "stdout",
     "output_type": "stream",
     "text": [
      "extract_think количество ошибок:  0\n",
      "extract_sql количество ошибок:  0\n",
      "Закончили генерацию SQL запросов\n",
      "Начали скорр полученных SQL запросов\n"
     ]
    },
    {
     "name": "stderr",
     "output_type": "stream",
     "text": [
      "\n"
     ]
    },
    {
     "name": "stdout",
     "output_type": "stream",
     "text": [
      "Qwen3-8b Mini DEV Финальный результат EX: 54.00\n",
      "Qwen3-8b процент запросов, которые успешно выполнились Mini DEV: 94.40%\n",
      "====================================================================================================\n",
      "\n",
      "\n",
      "Загружаем чаты с данными...\n",
      "Данные успешно загружены\n",
      "Начали генерацию SQL запросов\n"
     ]
    },
    {
     "name": "stderr",
     "output_type": "stream",
     "text": [
      "Processed prompts: 100%|██████████| 500/500 [01:20<00:00,  6.21it/s, est. speed input: 21723.57 toks/s, output: 330.96 toks/s]"
     ]
    },
    {
     "name": "stdout",
     "output_type": "stream",
     "text": [
      "extract_think количество ошибок:  0\n",
      "extract_sql количество ошибок:  0\n",
      "Закончили генерацию SQL запросов\n",
      "Начали скорр полученных SQL запросов\n"
     ]
    },
    {
     "name": "stderr",
     "output_type": "stream",
     "text": [
      "\n"
     ]
    },
    {
     "name": "stdout",
     "output_type": "stream",
     "text": [
      "Qwen3-8b Mini DEV Финальный результат EX: 54.20\n",
      "Qwen3-8b процент запросов, которые успешно выполнились Mini DEV: 94.20%\n",
      "====================================================================================================\n",
      "\n",
      "\n",
      "Загружаем чаты с данными...\n",
      "Данные успешно загружены\n",
      "Начали генерацию SQL запросов\n"
     ]
    },
    {
     "name": "stderr",
     "output_type": "stream",
     "text": [
      "Processed prompts: 100%|██████████| 500/500 [01:20<00:00,  6.22it/s, est. speed input: 21754.81 toks/s, output: 337.55 toks/s]"
     ]
    },
    {
     "name": "stdout",
     "output_type": "stream",
     "text": [
      "extract_think количество ошибок:  0\n",
      "extract_sql количество ошибок:  0\n",
      "Закончили генерацию SQL запросов\n",
      "Начали скорр полученных SQL запросов\n"
     ]
    },
    {
     "name": "stderr",
     "output_type": "stream",
     "text": [
      "\n"
     ]
    },
    {
     "name": "stdout",
     "output_type": "stream",
     "text": [
      "Qwen3-8b Mini DEV Финальный результат EX: 53.60\n",
      "Qwen3-8b процент запросов, которые успешно выполнились Mini DEV: 94.60%\n",
      "====================================================================================================\n",
      "\n",
      "\n",
      "Загружаем чаты с данными...\n",
      "Данные успешно загружены\n",
      "Начали генерацию SQL запросов\n"
     ]
    },
    {
     "name": "stderr",
     "output_type": "stream",
     "text": [
      "Processed prompts: 100%|██████████| 500/500 [01:22<00:00,  6.06it/s, est. speed input: 21660.62 toks/s, output: 327.26 toks/s]"
     ]
    },
    {
     "name": "stdout",
     "output_type": "stream",
     "text": [
      "extract_think количество ошибок:  0\n",
      "extract_sql количество ошибок:  0\n",
      "Закончили генерацию SQL запросов\n",
      "Начали скорр полученных SQL запросов\n"
     ]
    },
    {
     "name": "stderr",
     "output_type": "stream",
     "text": [
      "\n"
     ]
    },
    {
     "name": "stdout",
     "output_type": "stream",
     "text": [
      "Qwen3-8b Mini DEV Финальный результат EX: 54.00\n",
      "Qwen3-8b процент запросов, которые успешно выполнились Mini DEV: 95.80%\n",
      "====================================================================================================\n",
      "\n",
      "\n",
      "Загружаем чаты с данными...\n",
      "Данные успешно загружены\n",
      "Начали генерацию SQL запросов\n"
     ]
    },
    {
     "name": "stderr",
     "output_type": "stream",
     "text": [
      "Processed prompts: 100%|██████████| 500/500 [01:22<00:00,  6.03it/s, est. speed input: 21669.92 toks/s, output: 326.51 toks/s]"
     ]
    },
    {
     "name": "stdout",
     "output_type": "stream",
     "text": [
      "extract_think количество ошибок:  0\n",
      "extract_sql количество ошибок:  0\n",
      "Закончили генерацию SQL запросов\n",
      "Начали скорр полученных SQL запросов\n"
     ]
    },
    {
     "name": "stderr",
     "output_type": "stream",
     "text": [
      "\n"
     ]
    },
    {
     "name": "stdout",
     "output_type": "stream",
     "text": [
      "Qwen3-8b Mini DEV Финальный результат EX: 51.40\n",
      "Qwen3-8b процент запросов, которые успешно выполнились Mini DEV: 93.40%\n",
      "====================================================================================================\n",
      "\n",
      "\n",
      "Загружаем чаты с данными...\n",
      "Данные успешно загружены\n",
      "Начали генерацию SQL запросов\n"
     ]
    },
    {
     "name": "stderr",
     "output_type": "stream",
     "text": [
      "Processed prompts: 100%|██████████| 500/500 [01:24<00:00,  5.95it/s, est. speed input: 20864.72 toks/s, output: 325.75 toks/s]"
     ]
    },
    {
     "name": "stdout",
     "output_type": "stream",
     "text": [
      "extract_think количество ошибок:  0\n",
      "extract_sql количество ошибок:  0\n",
      "Закончили генерацию SQL запросов\n",
      "Начали скорр полученных SQL запросов\n"
     ]
    },
    {
     "name": "stderr",
     "output_type": "stream",
     "text": [
      "\n"
     ]
    },
    {
     "name": "stdout",
     "output_type": "stream",
     "text": [
      "Qwen3-8b Mini DEV Финальный результат EX: 54.00\n",
      "Qwen3-8b процент запросов, которые успешно выполнились Mini DEV: 94.80%\n",
      "====================================================================================================\n",
      "\n",
      "\n",
      "Загружаем чаты с данными...\n",
      "Данные успешно загружены\n",
      "Начали генерацию SQL запросов\n"
     ]
    },
    {
     "name": "stderr",
     "output_type": "stream",
     "text": [
      "Processed prompts: 100%|██████████| 500/500 [01:23<00:00,  5.99it/s, est. speed input: 21426.00 toks/s, output: 326.10 toks/s]"
     ]
    },
    {
     "name": "stdout",
     "output_type": "stream",
     "text": [
      "extract_think количество ошибок:  0\n",
      "extract_sql количество ошибок:  0\n",
      "Закончили генерацию SQL запросов\n",
      "Начали скорр полученных SQL запросов\n"
     ]
    },
    {
     "name": "stderr",
     "output_type": "stream",
     "text": [
      "\n"
     ]
    },
    {
     "name": "stdout",
     "output_type": "stream",
     "text": [
      "Qwen3-8b Mini DEV Финальный результат EX: 53.20\n",
      "Qwen3-8b процент запросов, которые успешно выполнились Mini DEV: 93.60%\n",
      "====================================================================================================\n",
      "\n",
      "\n",
      "Загружаем чаты с данными...\n",
      "Данные успешно загружены\n",
      "Начали генерацию SQL запросов\n"
     ]
    },
    {
     "name": "stderr",
     "output_type": "stream",
     "text": [
      "Processed prompts: 100%|██████████| 500/500 [01:21<00:00,  6.17it/s, est. speed input: 21669.10 toks/s, output: 331.76 toks/s]"
     ]
    },
    {
     "name": "stdout",
     "output_type": "stream",
     "text": [
      "extract_think количество ошибок:  0\n",
      "extract_sql количество ошибок:  0\n",
      "Закончили генерацию SQL запросов\n",
      "Начали скорр полученных SQL запросов\n"
     ]
    },
    {
     "name": "stderr",
     "output_type": "stream",
     "text": [
      "\n"
     ]
    },
    {
     "name": "stdout",
     "output_type": "stream",
     "text": [
      "Qwen3-8b Mini DEV Финальный результат EX: 55.80\n",
      "Qwen3-8b процент запросов, которые успешно выполнились Mini DEV: 94.20%\n",
      "====================================================================================================\n",
      "\n",
      "\n",
      "Загружаем чаты с данными...\n",
      "Данные успешно загружены\n",
      "Начали генерацию SQL запросов\n"
     ]
    },
    {
     "name": "stderr",
     "output_type": "stream",
     "text": [
      "Processed prompts: 100%|██████████| 500/500 [01:20<00:00,  6.23it/s, est. speed input: 21690.26 toks/s, output: 336.07 toks/s]"
     ]
    },
    {
     "name": "stdout",
     "output_type": "stream",
     "text": [
      "extract_think количество ошибок:  0\n",
      "extract_sql количество ошибок:  0\n",
      "Закончили генерацию SQL запросов\n",
      "Начали скорр полученных SQL запросов\n"
     ]
    },
    {
     "name": "stderr",
     "output_type": "stream",
     "text": [
      "\n"
     ]
    },
    {
     "name": "stdout",
     "output_type": "stream",
     "text": [
      "Qwen3-8b Mini DEV Финальный результат EX: 54.20\n",
      "Qwen3-8b процент запросов, которые успешно выполнились Mini DEV: 93.80%\n",
      "====================================================================================================\n",
      "\n",
      "\n",
      "Загружаем чаты с данными...\n",
      "Данные успешно загружены\n",
      "Начали генерацию SQL запросов\n"
     ]
    },
    {
     "name": "stderr",
     "output_type": "stream",
     "text": [
      "Processed prompts: 100%|██████████| 500/500 [01:20<00:00,  6.23it/s, est. speed input: 21937.10 toks/s, output: 331.26 toks/s]"
     ]
    },
    {
     "name": "stdout",
     "output_type": "stream",
     "text": [
      "extract_think количество ошибок:  0\n",
      "extract_sql количество ошибок:  0\n",
      "Закончили генерацию SQL запросов\n",
      "Начали скорр полученных SQL запросов\n"
     ]
    },
    {
     "name": "stderr",
     "output_type": "stream",
     "text": [
      "\n"
     ]
    },
    {
     "name": "stdout",
     "output_type": "stream",
     "text": [
      "Qwen3-8b Mini DEV Финальный результат EX: 53.80\n",
      "Qwen3-8b процент запросов, которые успешно выполнились Mini DEV: 94.20%\n",
      "====================================================================================================\n",
      "\n",
      "\n",
      "Загружаем чаты с данными...\n",
      "Данные успешно загружены\n",
      "Начали генерацию SQL запросов\n"
     ]
    },
    {
     "name": "stderr",
     "output_type": "stream",
     "text": [
      "Processed prompts: 100%|██████████| 500/500 [01:21<00:00,  6.15it/s, est. speed input: 21772.28 toks/s, output: 326.85 toks/s]"
     ]
    },
    {
     "name": "stdout",
     "output_type": "stream",
     "text": [
      "extract_think количество ошибок:  0\n",
      "extract_sql количество ошибок:  0\n",
      "Закончили генерацию SQL запросов\n",
      "Начали скорр полученных SQL запросов\n"
     ]
    },
    {
     "name": "stderr",
     "output_type": "stream",
     "text": [
      "\n"
     ]
    },
    {
     "name": "stdout",
     "output_type": "stream",
     "text": [
      "Qwen3-8b Mini DEV Финальный результат EX: 53.80\n",
      "Qwen3-8b процент запросов, которые успешно выполнились Mini DEV: 95.20%\n",
      "====================================================================================================\n",
      "\n",
      "\n",
      "Загружаем чаты с данными...\n",
      "Данные успешно загружены\n",
      "Начали генерацию SQL запросов\n"
     ]
    },
    {
     "name": "stderr",
     "output_type": "stream",
     "text": [
      "Processed prompts: 100%|██████████| 500/500 [01:22<00:00,  6.05it/s, est. speed input: 21449.67 toks/s, output: 328.62 toks/s]"
     ]
    },
    {
     "name": "stdout",
     "output_type": "stream",
     "text": [
      "extract_think количество ошибок:  0\n",
      "extract_sql количество ошибок:  0\n",
      "Закончили генерацию SQL запросов\n",
      "Начали скорр полученных SQL запросов\n"
     ]
    },
    {
     "name": "stderr",
     "output_type": "stream",
     "text": [
      "\n"
     ]
    },
    {
     "name": "stdout",
     "output_type": "stream",
     "text": [
      "Qwen3-8b Mini DEV Финальный результат EX: 53.60\n",
      "Qwen3-8b процент запросов, которые успешно выполнились Mini DEV: 94.40%\n",
      "====================================================================================================\n",
      "\n",
      "\n",
      "Загружаем чаты с данными...\n",
      "Данные успешно загружены\n",
      "Начали генерацию SQL запросов\n"
     ]
    },
    {
     "name": "stderr",
     "output_type": "stream",
     "text": [
      "Processed prompts: 100%|██████████| 500/500 [01:25<00:00,  5.83it/s, est. speed input: 20298.74 toks/s, output: 317.86 toks/s]"
     ]
    },
    {
     "name": "stdout",
     "output_type": "stream",
     "text": [
      "extract_think количество ошибок:  0\n",
      "extract_sql количество ошибок:  0\n",
      "Закончили генерацию SQL запросов\n",
      "Начали скорр полученных SQL запросов\n"
     ]
    },
    {
     "name": "stderr",
     "output_type": "stream",
     "text": [
      "\n"
     ]
    },
    {
     "name": "stdout",
     "output_type": "stream",
     "text": [
      "Qwen3-8b Mini DEV Финальный результат EX: 54.40\n",
      "Qwen3-8b процент запросов, которые успешно выполнились Mini DEV: 95.00%\n",
      "====================================================================================================\n",
      "\n",
      "\n",
      "Загружаем чаты с данными...\n",
      "Данные успешно загружены\n",
      "Начали генерацию SQL запросов\n"
     ]
    },
    {
     "name": "stderr",
     "output_type": "stream",
     "text": [
      "Processed prompts: 100%|██████████| 500/500 [01:21<00:00,  6.15it/s, est. speed input: 21345.55 toks/s, output: 331.33 toks/s]"
     ]
    },
    {
     "name": "stdout",
     "output_type": "stream",
     "text": [
      "extract_think количество ошибок:  0\n",
      "extract_sql количество ошибок:  0\n",
      "Закончили генерацию SQL запросов\n",
      "Начали скорр полученных SQL запросов\n"
     ]
    },
    {
     "name": "stderr",
     "output_type": "stream",
     "text": [
      "\n"
     ]
    },
    {
     "name": "stdout",
     "output_type": "stream",
     "text": [
      "Qwen3-8b Mini DEV Финальный результат EX: 53.40\n",
      "Qwen3-8b процент запросов, которые успешно выполнились Mini DEV: 93.40%\n",
      "====================================================================================================\n",
      "\n",
      "\n",
      "Загружаем чаты с данными...\n",
      "Данные успешно загружены\n",
      "Начали генерацию SQL запросов\n"
     ]
    },
    {
     "name": "stderr",
     "output_type": "stream",
     "text": [
      "Processed prompts: 100%|██████████| 500/500 [01:22<00:00,  6.09it/s, est. speed input: 21315.79 toks/s, output: 332.91 toks/s]"
     ]
    },
    {
     "name": "stdout",
     "output_type": "stream",
     "text": [
      "extract_think количество ошибок:  0\n",
      "extract_sql количество ошибок:  0\n",
      "Закончили генерацию SQL запросов\n",
      "Начали скорр полученных SQL запросов\n"
     ]
    },
    {
     "name": "stderr",
     "output_type": "stream",
     "text": [
      "\n"
     ]
    },
    {
     "name": "stdout",
     "output_type": "stream",
     "text": [
      "Qwen3-8b Mini DEV Финальный результат EX: 52.80\n",
      "Qwen3-8b процент запросов, которые успешно выполнились Mini DEV: 92.80%\n",
      "====================================================================================================\n",
      "\n",
      "\n",
      "Загружаем чаты с данными...\n",
      "Данные успешно загружены\n",
      "Начали генерацию SQL запросов\n"
     ]
    },
    {
     "name": "stderr",
     "output_type": "stream",
     "text": [
      "Processed prompts: 100%|██████████| 500/500 [01:24<00:00,  5.90it/s, est. speed input: 20793.32 toks/s, output: 327.46 toks/s]"
     ]
    },
    {
     "name": "stdout",
     "output_type": "stream",
     "text": [
      "extract_think количество ошибок:  0\n",
      "extract_sql количество ошибок:  0\n",
      "Закончили генерацию SQL запросов\n",
      "Начали скорр полученных SQL запросов\n"
     ]
    },
    {
     "name": "stderr",
     "output_type": "stream",
     "text": [
      "\n"
     ]
    },
    {
     "name": "stdout",
     "output_type": "stream",
     "text": [
      "Qwen3-8b Mini DEV Финальный результат EX: 54.40\n",
      "Qwen3-8b процент запросов, которые успешно выполнились Mini DEV: 93.00%\n",
      "====================================================================================================\n",
      "\n",
      "\n",
      "Загружаем чаты с данными...\n",
      "Данные успешно загружены\n",
      "Начали генерацию SQL запросов\n"
     ]
    },
    {
     "name": "stderr",
     "output_type": "stream",
     "text": [
      "Processed prompts: 100%|██████████| 500/500 [01:23<00:00,  5.99it/s, est. speed input: 21035.55 toks/s, output: 326.05 toks/s]"
     ]
    },
    {
     "name": "stdout",
     "output_type": "stream",
     "text": [
      "extract_think количество ошибок:  0\n",
      "extract_sql количество ошибок:  0\n",
      "Закончили генерацию SQL запросов\n",
      "Начали скорр полученных SQL запросов\n"
     ]
    },
    {
     "name": "stderr",
     "output_type": "stream",
     "text": [
      "\n"
     ]
    },
    {
     "name": "stdout",
     "output_type": "stream",
     "text": [
      "Qwen3-8b Mini DEV Финальный результат EX: 53.80\n",
      "Qwen3-8b процент запросов, которые успешно выполнились Mini DEV: 94.20%\n",
      "====================================================================================================\n",
      "\n",
      "\n",
      "Загружаем чаты с данными...\n",
      "Данные успешно загружены\n",
      "Начали генерацию SQL запросов\n"
     ]
    },
    {
     "name": "stderr",
     "output_type": "stream",
     "text": [
      "Processed prompts: 100%|██████████| 500/500 [01:28<00:00,  5.64it/s, est. speed input: 19675.08 toks/s, output: 315.19 toks/s]"
     ]
    },
    {
     "name": "stdout",
     "output_type": "stream",
     "text": [
      "extract_think количество ошибок:  0\n",
      "extract_sql количество ошибок:  0\n",
      "Закончили генерацию SQL запросов\n",
      "Начали скорр полученных SQL запросов\n"
     ]
    },
    {
     "name": "stderr",
     "output_type": "stream",
     "text": [
      "\n"
     ]
    },
    {
     "name": "stdout",
     "output_type": "stream",
     "text": [
      "Qwen3-8b Mini DEV Финальный результат EX: 54.60\n",
      "Qwen3-8b процент запросов, которые успешно выполнились Mini DEV: 93.40%\n",
      "====================================================================================================\n",
      "\n",
      "\n",
      "Загружаем чаты с данными...\n",
      "Данные успешно загружены\n",
      "Начали генерацию SQL запросов\n"
     ]
    },
    {
     "name": "stderr",
     "output_type": "stream",
     "text": [
      "Processed prompts: 100%|██████████| 500/500 [01:24<00:00,  5.94it/s, est. speed input: 20639.77 toks/s, output: 329.05 toks/s]"
     ]
    },
    {
     "name": "stdout",
     "output_type": "stream",
     "text": [
      "extract_think количество ошибок:  0\n",
      "extract_sql количество ошибок:  0\n",
      "Закончили генерацию SQL запросов\n",
      "Начали скорр полученных SQL запросов\n"
     ]
    },
    {
     "name": "stderr",
     "output_type": "stream",
     "text": [
      "\n"
     ]
    },
    {
     "name": "stdout",
     "output_type": "stream",
     "text": [
      "Qwen3-8b Mini DEV Финальный результат EX: 55.20\n",
      "Qwen3-8b процент запросов, которые успешно выполнились Mini DEV: 94.60%\n",
      "====================================================================================================\n",
      "\n",
      "\n",
      "Загружаем чаты с данными...\n",
      "Данные успешно загружены\n",
      "Начали генерацию SQL запросов\n"
     ]
    },
    {
     "name": "stderr",
     "output_type": "stream",
     "text": [
      "Processed prompts: 100%|██████████| 500/500 [01:22<00:00,  6.09it/s, est. speed input: 21148.50 toks/s, output: 333.19 toks/s]"
     ]
    },
    {
     "name": "stdout",
     "output_type": "stream",
     "text": [
      "extract_think количество ошибок:  0\n",
      "extract_sql количество ошибок:  0\n",
      "Закончили генерацию SQL запросов\n",
      "Начали скорр полученных SQL запросов\n"
     ]
    },
    {
     "name": "stderr",
     "output_type": "stream",
     "text": [
      "\n"
     ]
    },
    {
     "name": "stdout",
     "output_type": "stream",
     "text": [
      "Qwen3-8b Mini DEV Финальный результат EX: 53.20\n",
      "Qwen3-8b процент запросов, которые успешно выполнились Mini DEV: 94.80%\n",
      "====================================================================================================\n",
      "\n",
      "\n",
      "Загружаем чаты с данными...\n",
      "Данные успешно загружены\n",
      "Начали генерацию SQL запросов\n"
     ]
    },
    {
     "name": "stderr",
     "output_type": "stream",
     "text": [
      "Processed prompts: 100%|██████████| 500/500 [01:25<00:00,  5.86it/s, est. speed input: 20318.62 toks/s, output: 324.71 toks/s]"
     ]
    },
    {
     "name": "stdout",
     "output_type": "stream",
     "text": [
      "extract_think количество ошибок:  0\n",
      "extract_sql количество ошибок:  0\n",
      "Закончили генерацию SQL запросов\n",
      "Начали скорр полученных SQL запросов\n"
     ]
    },
    {
     "name": "stderr",
     "output_type": "stream",
     "text": [
      "\n"
     ]
    },
    {
     "name": "stdout",
     "output_type": "stream",
     "text": [
      "Qwen3-8b Mini DEV Финальный результат EX: 52.20\n",
      "Qwen3-8b процент запросов, которые успешно выполнились Mini DEV: 93.20%\n",
      "====================================================================================================\n",
      "\n",
      "\n",
      "Загружаем чаты с данными...\n",
      "Данные успешно загружены\n",
      "Начали генерацию SQL запросов\n"
     ]
    },
    {
     "name": "stderr",
     "output_type": "stream",
     "text": [
      "Processed prompts: 100%|██████████| 500/500 [01:29<00:00,  5.61it/s, est. speed input: 19702.67 toks/s, output: 310.94 toks/s]"
     ]
    },
    {
     "name": "stdout",
     "output_type": "stream",
     "text": [
      "extract_think количество ошибок:  0\n",
      "extract_sql количество ошибок:  0\n",
      "Закончили генерацию SQL запросов\n",
      "Начали скорр полученных SQL запросов\n"
     ]
    },
    {
     "name": "stderr",
     "output_type": "stream",
     "text": [
      "\n"
     ]
    },
    {
     "name": "stdout",
     "output_type": "stream",
     "text": [
      "Qwen3-8b Mini DEV Финальный результат EX: 53.40\n",
      "Qwen3-8b процент запросов, которые успешно выполнились Mini DEV: 93.80%\n",
      "====================================================================================================\n",
      "\n",
      "\n",
      "Загружаем чаты с данными...\n",
      "Данные успешно загружены\n",
      "Начали генерацию SQL запросов\n"
     ]
    },
    {
     "name": "stderr",
     "output_type": "stream",
     "text": [
      "Processed prompts: 100%|██████████| 500/500 [01:25<00:00,  5.88it/s, est. speed input: 20814.07 toks/s, output: 318.23 toks/s]"
     ]
    },
    {
     "name": "stdout",
     "output_type": "stream",
     "text": [
      "extract_think количество ошибок:  0\n",
      "extract_sql количество ошибок:  0\n",
      "Закончили генерацию SQL запросов\n",
      "Начали скорр полученных SQL запросов\n"
     ]
    },
    {
     "name": "stderr",
     "output_type": "stream",
     "text": [
      "\n"
     ]
    },
    {
     "name": "stdout",
     "output_type": "stream",
     "text": [
      "Qwen3-8b Mini DEV Финальный результат EX: 54.00\n",
      "Qwen3-8b процент запросов, которые успешно выполнились Mini DEV: 94.60%\n",
      "====================================================================================================\n",
      "\n",
      "\n",
      "Загружаем чаты с данными...\n",
      "Данные успешно загружены\n",
      "Начали генерацию SQL запросов\n"
     ]
    },
    {
     "name": "stderr",
     "output_type": "stream",
     "text": [
      "Processed prompts: 100%|██████████| 500/500 [01:27<00:00,  5.73it/s, est. speed input: 20683.11 toks/s, output: 311.48 toks/s]"
     ]
    },
    {
     "name": "stdout",
     "output_type": "stream",
     "text": [
      "extract_think количество ошибок:  0\n",
      "extract_sql количество ошибок:  0\n",
      "Закончили генерацию SQL запросов\n",
      "Начали скорр полученных SQL запросов\n"
     ]
    },
    {
     "name": "stderr",
     "output_type": "stream",
     "text": [
      "\n"
     ]
    },
    {
     "name": "stdout",
     "output_type": "stream",
     "text": [
      "Qwen3-8b Mini DEV Финальный результат EX: 55.40\n",
      "Qwen3-8b процент запросов, которые успешно выполнились Mini DEV: 95.40%\n",
      "====================================================================================================\n",
      "\n",
      "\n",
      "Загружаем чаты с данными...\n",
      "Данные успешно загружены\n",
      "Начали генерацию SQL запросов\n"
     ]
    },
    {
     "name": "stderr",
     "output_type": "stream",
     "text": [
      "Processed prompts: 100%|██████████| 500/500 [01:26<00:00,  5.76it/s, est. speed input: 20699.08 toks/s, output: 307.69 toks/s]"
     ]
    },
    {
     "name": "stdout",
     "output_type": "stream",
     "text": [
      "extract_think количество ошибок:  0\n",
      "extract_sql количество ошибок:  0\n",
      "Закончили генерацию SQL запросов\n",
      "Начали скорр полученных SQL запросов\n"
     ]
    },
    {
     "name": "stderr",
     "output_type": "stream",
     "text": [
      "\n"
     ]
    },
    {
     "name": "stdout",
     "output_type": "stream",
     "text": [
      "Qwen3-8b Mini DEV Финальный результат EX: 54.40\n",
      "Qwen3-8b процент запросов, которые успешно выполнились Mini DEV: 94.40%\n",
      "====================================================================================================\n",
      "\n",
      "\n",
      "Загружаем чаты с данными...\n",
      "Данные успешно загружены\n",
      "Начали генерацию SQL запросов\n"
     ]
    },
    {
     "name": "stderr",
     "output_type": "stream",
     "text": [
      "Processed prompts: 100%|██████████| 500/500 [01:22<00:00,  6.05it/s, est. speed input: 21475.91 toks/s, output: 327.37 toks/s]"
     ]
    },
    {
     "name": "stdout",
     "output_type": "stream",
     "text": [
      "extract_think количество ошибок:  0\n",
      "extract_sql количество ошибок:  0\n",
      "Закончили генерацию SQL запросов\n",
      "Начали скорр полученных SQL запросов\n"
     ]
    },
    {
     "name": "stderr",
     "output_type": "stream",
     "text": [
      "\n"
     ]
    },
    {
     "name": "stdout",
     "output_type": "stream",
     "text": [
      "Qwen3-8b Mini DEV Финальный результат EX: 54.40\n",
      "Qwen3-8b процент запросов, которые успешно выполнились Mini DEV: 93.40%\n",
      "====================================================================================================\n",
      "\n",
      "\n",
      "Загружаем чаты с данными...\n",
      "Данные успешно загружены\n",
      "Начали генерацию SQL запросов\n"
     ]
    },
    {
     "name": "stderr",
     "output_type": "stream",
     "text": [
      "Processed prompts: 100%|██████████| 500/500 [01:22<00:00,  6.03it/s, est. speed input: 21214.78 toks/s, output: 329.88 toks/s]"
     ]
    },
    {
     "name": "stdout",
     "output_type": "stream",
     "text": [
      "extract_think количество ошибок:  0\n",
      "extract_sql количество ошибок:  0\n",
      "Закончили генерацию SQL запросов\n",
      "Начали скорр полученных SQL запросов\n"
     ]
    },
    {
     "name": "stderr",
     "output_type": "stream",
     "text": [
      "\n"
     ]
    },
    {
     "name": "stdout",
     "output_type": "stream",
     "text": [
      "Qwen3-8b Mini DEV Финальный результат EX: 54.00\n",
      "Qwen3-8b процент запросов, которые успешно выполнились Mini DEV: 93.80%\n",
      "====================================================================================================\n",
      "\n",
      "\n",
      "Загружаем чаты с данными...\n",
      "Данные успешно загружены\n",
      "Начали генерацию SQL запросов\n"
     ]
    },
    {
     "name": "stderr",
     "output_type": "stream",
     "text": [
      "Processed prompts: 100%|██████████| 500/500 [01:22<00:00,  6.08it/s, est. speed input: 21192.25 toks/s, output: 335.31 toks/s]"
     ]
    },
    {
     "name": "stdout",
     "output_type": "stream",
     "text": [
      "extract_think количество ошибок:  0\n",
      "extract_sql количество ошибок:  0\n",
      "Закончили генерацию SQL запросов\n",
      "Начали скорр полученных SQL запросов\n"
     ]
    },
    {
     "name": "stderr",
     "output_type": "stream",
     "text": [
      "\n"
     ]
    },
    {
     "name": "stdout",
     "output_type": "stream",
     "text": [
      "Qwen3-8b Mini DEV Финальный результат EX: 52.80\n",
      "Qwen3-8b процент запросов, которые успешно выполнились Mini DEV: 93.60%\n",
      "====================================================================================================\n",
      "\n",
      "\n",
      "Загружаем чаты с данными...\n",
      "Данные успешно загружены\n",
      "Начали генерацию SQL запросов\n"
     ]
    },
    {
     "name": "stderr",
     "output_type": "stream",
     "text": [
      "Processed prompts: 100%|██████████| 500/500 [01:26<00:00,  5.81it/s, est. speed input: 20322.69 toks/s, output: 319.47 toks/s]"
     ]
    },
    {
     "name": "stdout",
     "output_type": "stream",
     "text": [
      "extract_think количество ошибок:  0\n",
      "extract_sql количество ошибок:  0\n",
      "Закончили генерацию SQL запросов\n",
      "Начали скорр полученных SQL запросов\n"
     ]
    },
    {
     "name": "stderr",
     "output_type": "stream",
     "text": [
      "\n"
     ]
    },
    {
     "name": "stdout",
     "output_type": "stream",
     "text": [
      "Qwen3-8b Mini DEV Финальный результат EX: 55.00\n",
      "Qwen3-8b процент запросов, которые успешно выполнились Mini DEV: 94.60%\n",
      "====================================================================================================\n",
      "\n",
      "\n",
      "Загружаем чаты с данными...\n",
      "Данные успешно загружены\n",
      "Начали генерацию SQL запросов\n"
     ]
    },
    {
     "name": "stderr",
     "output_type": "stream",
     "text": [
      "Processed prompts: 100%|██████████| 500/500 [01:21<00:00,  6.10it/s, est. speed input: 21292.50 toks/s, output: 328.51 toks/s]"
     ]
    },
    {
     "name": "stdout",
     "output_type": "stream",
     "text": [
      "extract_think количество ошибок:  0\n",
      "extract_sql количество ошибок:  0\n",
      "Закончили генерацию SQL запросов\n",
      "Начали скорр полученных SQL запросов\n"
     ]
    },
    {
     "name": "stderr",
     "output_type": "stream",
     "text": [
      "\n"
     ]
    },
    {
     "name": "stdout",
     "output_type": "stream",
     "text": [
      "Qwen3-8b Mini DEV Финальный результат EX: 55.20\n",
      "Qwen3-8b процент запросов, которые успешно выполнились Mini DEV: 94.00%\n",
      "====================================================================================================\n",
      "\n",
      "\n",
      "Загружаем чаты с данными...\n",
      "Данные успешно загружены\n",
      "Начали генерацию SQL запросов\n"
     ]
    },
    {
     "name": "stderr",
     "output_type": "stream",
     "text": [
      "Processed prompts: 100%|██████████| 500/500 [01:24<00:00,  5.93it/s, est. speed input: 21383.92 toks/s, output: 322.02 toks/s]"
     ]
    },
    {
     "name": "stdout",
     "output_type": "stream",
     "text": [
      "extract_think количество ошибок:  0\n",
      "extract_sql количество ошибок:  0\n",
      "Закончили генерацию SQL запросов\n",
      "Начали скорр полученных SQL запросов\n"
     ]
    },
    {
     "name": "stderr",
     "output_type": "stream",
     "text": [
      "\n"
     ]
    },
    {
     "name": "stdout",
     "output_type": "stream",
     "text": [
      "Qwen3-8b Mini DEV Финальный результат EX: 52.20\n",
      "Qwen3-8b процент запросов, которые успешно выполнились Mini DEV: 94.60%\n",
      "====================================================================================================\n",
      "\n",
      "\n",
      "Загружаем чаты с данными...\n",
      "Данные успешно загружены\n",
      "Начали генерацию SQL запросов\n"
     ]
    },
    {
     "name": "stderr",
     "output_type": "stream",
     "text": [
      "Processed prompts: 100%|██████████| 500/500 [01:23<00:00,  5.97it/s, est. speed input: 21363.43 toks/s, output: 324.36 toks/s]"
     ]
    },
    {
     "name": "stdout",
     "output_type": "stream",
     "text": [
      "extract_think количество ошибок:  0\n",
      "extract_sql количество ошибок:  0\n",
      "Закончили генерацию SQL запросов\n",
      "Начали скорр полученных SQL запросов\n"
     ]
    },
    {
     "name": "stderr",
     "output_type": "stream",
     "text": [
      "\n"
     ]
    },
    {
     "name": "stdout",
     "output_type": "stream",
     "text": [
      "Qwen3-8b Mini DEV Финальный результат EX: 51.60\n",
      "Qwen3-8b процент запросов, которые успешно выполнились Mini DEV: 94.20%\n",
      "====================================================================================================\n",
      "\n",
      "\n",
      "Загружаем чаты с данными...\n",
      "Данные успешно загружены\n",
      "Начали генерацию SQL запросов\n"
     ]
    },
    {
     "name": "stderr",
     "output_type": "stream",
     "text": [
      "Processed prompts: 100%|██████████| 500/500 [01:26<00:00,  5.79it/s, est. speed input: 20015.69 toks/s, output: 322.06 toks/s]"
     ]
    },
    {
     "name": "stdout",
     "output_type": "stream",
     "text": [
      "extract_think количество ошибок:  0\n",
      "extract_sql количество ошибок:  0\n",
      "Закончили генерацию SQL запросов\n",
      "Начали скорр полученных SQL запросов\n"
     ]
    },
    {
     "name": "stderr",
     "output_type": "stream",
     "text": [
      "\n"
     ]
    },
    {
     "name": "stdout",
     "output_type": "stream",
     "text": [
      "Qwen3-8b Mini DEV Финальный результат EX: 52.60\n",
      "Qwen3-8b процент запросов, которые успешно выполнились Mini DEV: 93.80%\n",
      "====================================================================================================\n",
      "\n",
      "\n",
      "Загружаем чаты с данными...\n",
      "Данные успешно загружены\n",
      "Начали генерацию SQL запросов\n"
     ]
    },
    {
     "name": "stderr",
     "output_type": "stream",
     "text": [
      "Processed prompts: 100%|██████████| 500/500 [01:21<00:00,  6.12it/s, est. speed input: 21502.08 toks/s, output: 335.28 toks/s]"
     ]
    },
    {
     "name": "stdout",
     "output_type": "stream",
     "text": [
      "extract_think количество ошибок:  0\n",
      "extract_sql количество ошибок:  0\n",
      "Закончили генерацию SQL запросов\n",
      "Начали скорр полученных SQL запросов\n"
     ]
    },
    {
     "name": "stderr",
     "output_type": "stream",
     "text": [
      "\n"
     ]
    },
    {
     "name": "stdout",
     "output_type": "stream",
     "text": [
      "Qwen3-8b Mini DEV Финальный результат EX: 52.80\n",
      "Qwen3-8b процент запросов, которые успешно выполнились Mini DEV: 95.00%\n",
      "====================================================================================================\n",
      "\n",
      "\n",
      "Загружаем чаты с данными...\n",
      "Данные успешно загружены\n",
      "Начали генерацию SQL запросов\n"
     ]
    },
    {
     "name": "stderr",
     "output_type": "stream",
     "text": [
      "Processed prompts: 100%|██████████| 500/500 [01:23<00:00,  6.00it/s, est. speed input: 21399.24 toks/s, output: 323.05 toks/s]"
     ]
    },
    {
     "name": "stdout",
     "output_type": "stream",
     "text": [
      "extract_think количество ошибок:  0\n",
      "extract_sql количество ошибок:  0\n",
      "Закончили генерацию SQL запросов\n",
      "Начали скорр полученных SQL запросов\n"
     ]
    },
    {
     "name": "stderr",
     "output_type": "stream",
     "text": [
      "\n"
     ]
    },
    {
     "name": "stdout",
     "output_type": "stream",
     "text": [
      "Qwen3-8b Mini DEV Финальный результат EX: 54.00\n",
      "Qwen3-8b процент запросов, которые успешно выполнились Mini DEV: 95.00%\n",
      "====================================================================================================\n",
      "\n",
      "\n",
      "Загружаем чаты с данными...\n",
      "Данные успешно загружены\n",
      "Начали генерацию SQL запросов\n"
     ]
    },
    {
     "name": "stderr",
     "output_type": "stream",
     "text": [
      "Processed prompts: 100%|██████████| 500/500 [01:22<00:00,  6.09it/s, est. speed input: 21492.63 toks/s, output: 330.04 toks/s]"
     ]
    },
    {
     "name": "stdout",
     "output_type": "stream",
     "text": [
      "extract_think количество ошибок:  0\n",
      "extract_sql количество ошибок:  0\n",
      "Закончили генерацию SQL запросов\n",
      "Начали скорр полученных SQL запросов\n"
     ]
    },
    {
     "name": "stderr",
     "output_type": "stream",
     "text": [
      "\n"
     ]
    },
    {
     "name": "stdout",
     "output_type": "stream",
     "text": [
      "Qwen3-8b Mini DEV Финальный результат EX: 54.60\n",
      "Qwen3-8b процент запросов, которые успешно выполнились Mini DEV: 93.60%\n",
      "====================================================================================================\n",
      "\n",
      "\n",
      "Загружаем чаты с данными...\n",
      "Данные успешно загружены\n",
      "Начали генерацию SQL запросов\n"
     ]
    },
    {
     "name": "stderr",
     "output_type": "stream",
     "text": [
      "Processed prompts: 100%|██████████| 500/500 [01:20<00:00,  6.22it/s, est. speed input: 21543.97 toks/s, output: 334.02 toks/s]"
     ]
    },
    {
     "name": "stdout",
     "output_type": "stream",
     "text": [
      "extract_think количество ошибок:  0\n",
      "extract_sql количество ошибок:  0\n",
      "Закончили генерацию SQL запросов\n",
      "Начали скорр полученных SQL запросов\n"
     ]
    },
    {
     "name": "stderr",
     "output_type": "stream",
     "text": [
      "\n"
     ]
    },
    {
     "name": "stdout",
     "output_type": "stream",
     "text": [
      "Qwen3-8b Mini DEV Финальный результат EX: 53.20\n",
      "Qwen3-8b процент запросов, которые успешно выполнились Mini DEV: 94.60%\n",
      "====================================================================================================\n",
      "\n",
      "\n",
      "Загружаем чаты с данными...\n",
      "Данные успешно загружены\n",
      "Начали генерацию SQL запросов\n"
     ]
    },
    {
     "name": "stderr",
     "output_type": "stream",
     "text": [
      "Processed prompts: 100%|██████████| 500/500 [01:20<00:00,  6.18it/s, est. speed input: 21561.04 toks/s, output: 331.88 toks/s]"
     ]
    },
    {
     "name": "stdout",
     "output_type": "stream",
     "text": [
      "extract_think количество ошибок:  0\n",
      "extract_sql количество ошибок:  0\n",
      "Закончили генерацию SQL запросов\n",
      "Начали скорр полученных SQL запросов\n"
     ]
    },
    {
     "name": "stderr",
     "output_type": "stream",
     "text": [
      "\n"
     ]
    },
    {
     "name": "stdout",
     "output_type": "stream",
     "text": [
      "Qwen3-8b Mini DEV Финальный результат EX: 54.40\n",
      "Qwen3-8b процент запросов, которые успешно выполнились Mini DEV: 95.00%\n",
      "====================================================================================================\n",
      "\n",
      "\n",
      "Загружаем чаты с данными...\n",
      "Данные успешно загружены\n",
      "Начали генерацию SQL запросов\n"
     ]
    },
    {
     "name": "stderr",
     "output_type": "stream",
     "text": [
      "Processed prompts: 100%|██████████| 500/500 [01:20<00:00,  6.19it/s, est. speed input: 21633.99 toks/s, output: 328.96 toks/s]"
     ]
    },
    {
     "name": "stdout",
     "output_type": "stream",
     "text": [
      "extract_think количество ошибок:  0\n",
      "extract_sql количество ошибок:  0\n",
      "Закончили генерацию SQL запросов\n",
      "Начали скорр полученных SQL запросов\n"
     ]
    },
    {
     "name": "stderr",
     "output_type": "stream",
     "text": [
      "\n"
     ]
    },
    {
     "name": "stdout",
     "output_type": "stream",
     "text": [
      "Qwen3-8b Mini DEV Финальный результат EX: 53.80\n",
      "Qwen3-8b процент запросов, которые успешно выполнились Mini DEV: 94.80%\n",
      "====================================================================================================\n",
      "\n",
      "\n",
      "Загружаем чаты с данными...\n",
      "Данные успешно загружены\n",
      "Начали генерацию SQL запросов\n"
     ]
    },
    {
     "name": "stderr",
     "output_type": "stream",
     "text": [
      "Processed prompts: 100%|██████████| 500/500 [01:25<00:00,  5.86it/s, est. speed input: 20451.93 toks/s, output: 321.11 toks/s]"
     ]
    },
    {
     "name": "stdout",
     "output_type": "stream",
     "text": [
      "extract_think количество ошибок:  0\n",
      "extract_sql количество ошибок:  0\n",
      "Закончили генерацию SQL запросов\n",
      "Начали скорр полученных SQL запросов\n"
     ]
    },
    {
     "name": "stderr",
     "output_type": "stream",
     "text": [
      "\n"
     ]
    },
    {
     "name": "stdout",
     "output_type": "stream",
     "text": [
      "Qwen3-8b Mini DEV Финальный результат EX: 54.00\n",
      "Qwen3-8b процент запросов, которые успешно выполнились Mini DEV: 95.00%\n",
      "====================================================================================================\n",
      "\n",
      "\n",
      "Загружаем чаты с данными...\n",
      "Данные успешно загружены\n",
      "Начали генерацию SQL запросов\n"
     ]
    },
    {
     "name": "stderr",
     "output_type": "stream",
     "text": [
      "Processed prompts: 100%|██████████| 500/500 [01:21<00:00,  6.17it/s, est. speed input: 21704.43 toks/s, output: 334.31 toks/s]"
     ]
    },
    {
     "name": "stdout",
     "output_type": "stream",
     "text": [
      "extract_think количество ошибок:  0\n",
      "extract_sql количество ошибок:  0\n",
      "Закончили генерацию SQL запросов\n",
      "Начали скорр полученных SQL запросов\n"
     ]
    },
    {
     "name": "stderr",
     "output_type": "stream",
     "text": [
      "\n"
     ]
    },
    {
     "name": "stdout",
     "output_type": "stream",
     "text": [
      "Qwen3-8b Mini DEV Финальный результат EX: 54.00\n",
      "Qwen3-8b процент запросов, которые успешно выполнились Mini DEV: 94.40%\n",
      "====================================================================================================\n",
      "\n",
      "\n",
      "Загружаем чаты с данными...\n",
      "Данные успешно загружены\n",
      "Начали генерацию SQL запросов\n"
     ]
    },
    {
     "name": "stderr",
     "output_type": "stream",
     "text": [
      "Processed prompts: 100%|██████████| 500/500 [01:21<00:00,  6.15it/s, est. speed input: 21588.14 toks/s, output: 334.46 toks/s]"
     ]
    },
    {
     "name": "stdout",
     "output_type": "stream",
     "text": [
      "extract_think количество ошибок:  0\n",
      "extract_sql количество ошибок:  0\n",
      "Закончили генерацию SQL запросов\n",
      "Начали скорр полученных SQL запросов\n"
     ]
    },
    {
     "name": "stderr",
     "output_type": "stream",
     "text": [
      "\n"
     ]
    },
    {
     "name": "stdout",
     "output_type": "stream",
     "text": [
      "Qwen3-8b Mini DEV Финальный результат EX: 53.60\n",
      "Qwen3-8b процент запросов, которые успешно выполнились Mini DEV: 95.20%\n",
      "====================================================================================================\n",
      "\n",
      "\n",
      "Загружаем чаты с данными...\n",
      "Данные успешно загружены\n",
      "Начали генерацию SQL запросов\n"
     ]
    },
    {
     "name": "stderr",
     "output_type": "stream",
     "text": [
      "Processed prompts: 100%|██████████| 500/500 [01:22<00:00,  6.06it/s, est. speed input: 21447.86 toks/s, output: 332.41 toks/s]"
     ]
    },
    {
     "name": "stdout",
     "output_type": "stream",
     "text": [
      "extract_think количество ошибок:  0\n",
      "extract_sql количество ошибок:  0\n",
      "Закончили генерацию SQL запросов\n",
      "Начали скорр полученных SQL запросов\n"
     ]
    },
    {
     "name": "stderr",
     "output_type": "stream",
     "text": [
      "\n"
     ]
    },
    {
     "name": "stdout",
     "output_type": "stream",
     "text": [
      "Qwen3-8b Mini DEV Финальный результат EX: 53.20\n",
      "Qwen3-8b процент запросов, которые успешно выполнились Mini DEV: 94.00%\n",
      "====================================================================================================\n",
      "\n",
      "\n",
      "Загружаем чаты с данными...\n",
      "Данные успешно загружены\n",
      "Начали генерацию SQL запросов\n"
     ]
    },
    {
     "name": "stderr",
     "output_type": "stream",
     "text": [
      "Processed prompts: 100%|██████████| 500/500 [01:21<00:00,  6.17it/s, est. speed input: 21564.51 toks/s, output: 337.08 toks/s]"
     ]
    },
    {
     "name": "stdout",
     "output_type": "stream",
     "text": [
      "extract_think количество ошибок:  0\n",
      "extract_sql количество ошибок:  0\n",
      "Закончили генерацию SQL запросов\n",
      "Начали скорр полученных SQL запросов\n"
     ]
    },
    {
     "name": "stderr",
     "output_type": "stream",
     "text": [
      "\n"
     ]
    },
    {
     "name": "stdout",
     "output_type": "stream",
     "text": [
      "Qwen3-8b Mini DEV Финальный результат EX: 53.20\n",
      "Qwen3-8b процент запросов, которые успешно выполнились Mini DEV: 93.60%\n",
      "====================================================================================================\n",
      "\n",
      "\n",
      "Загружаем чаты с данными...\n",
      "Данные успешно загружены\n",
      "Начали генерацию SQL запросов\n"
     ]
    },
    {
     "name": "stderr",
     "output_type": "stream",
     "text": [
      "Processed prompts: 100%|██████████| 500/500 [01:22<00:00,  6.03it/s, est. speed input: 21053.36 toks/s, output: 330.56 toks/s]"
     ]
    },
    {
     "name": "stdout",
     "output_type": "stream",
     "text": [
      "extract_think количество ошибок:  0\n",
      "extract_sql количество ошибок:  0\n",
      "Закончили генерацию SQL запросов\n",
      "Начали скорр полученных SQL запросов\n"
     ]
    },
    {
     "name": "stderr",
     "output_type": "stream",
     "text": [
      "\n"
     ]
    },
    {
     "name": "stdout",
     "output_type": "stream",
     "text": [
      "Qwen3-8b Mini DEV Финальный результат EX: 54.20\n",
      "Qwen3-8b процент запросов, которые успешно выполнились Mini DEV: 93.40%\n",
      "====================================================================================================\n",
      "\n",
      "\n",
      "Загружаем чаты с данными...\n",
      "Данные успешно загружены\n",
      "Начали генерацию SQL запросов\n"
     ]
    },
    {
     "name": "stderr",
     "output_type": "stream",
     "text": [
      "Processed prompts: 100%|██████████| 500/500 [01:24<00:00,  5.93it/s, est. speed input: 21024.00 toks/s, output: 324.43 toks/s]"
     ]
    },
    {
     "name": "stdout",
     "output_type": "stream",
     "text": [
      "extract_think количество ошибок:  0\n",
      "extract_sql количество ошибок:  0\n",
      "Закончили генерацию SQL запросов\n",
      "Начали скорр полученных SQL запросов\n"
     ]
    },
    {
     "name": "stderr",
     "output_type": "stream",
     "text": [
      "\n"
     ]
    },
    {
     "name": "stdout",
     "output_type": "stream",
     "text": [
      "Qwen3-8b Mini DEV Финальный результат EX: 55.40\n",
      "Qwen3-8b процент запросов, которые успешно выполнились Mini DEV: 94.80%\n",
      "====================================================================================================\n",
      "\n",
      "\n",
      "Загружаем чаты с данными...\n",
      "Данные успешно загружены\n",
      "Начали генерацию SQL запросов\n"
     ]
    },
    {
     "name": "stderr",
     "output_type": "stream",
     "text": [
      "Processed prompts: 100%|██████████| 500/500 [01:23<00:00,  5.96it/s, est. speed input: 20823.44 toks/s, output: 325.70 toks/s]"
     ]
    },
    {
     "name": "stdout",
     "output_type": "stream",
     "text": [
      "extract_think количество ошибок:  0\n",
      "extract_sql количество ошибок:  0\n",
      "Закончили генерацию SQL запросов\n",
      "Начали скорр полученных SQL запросов\n"
     ]
    },
    {
     "name": "stderr",
     "output_type": "stream",
     "text": [
      "\n"
     ]
    },
    {
     "name": "stdout",
     "output_type": "stream",
     "text": [
      "Qwen3-8b Mini DEV Финальный результат EX: 54.00\n",
      "Qwen3-8b процент запросов, которые успешно выполнились Mini DEV: 94.20%\n",
      "====================================================================================================\n",
      "\n",
      "\n"
     ]
    }
   ],
   "source": [
    "run_cot_experiment(model,arr_seeds,arr_versions, type_cot, num_observations=num_observations)"
   ]
  },
  {
   "cell_type": "markdown",
   "id": "6046825c-8b23-4466-9c8c-2bd8d22da520",
   "metadata": {},
   "source": [
    "## 3 наблюдения"
   ]
  },
  {
   "cell_type": "code",
   "execution_count": 5,
   "id": "087d84b5-c110-41ff-a60d-7dbdeb15ffce",
   "metadata": {},
   "outputs": [
    {
     "name": "stdout",
     "output_type": "stream",
     "text": [
      "[382, 812, 914, 372, 655, 659, 203, 697, 293, 200, 319, 591, 973, 448, 741, 47, 991, 296, 760, 821, 823, 581, 806, 570, 254, 888, 286, 864, 689, 88, 501, 602, 267, 328, 847, 965, 92, 601, 888, 141, 415, 94, 635, 852, 522, 328, 523, 855, 743, 695]\n",
      "model: Qwen3-8B\n"
     ]
    }
   ],
   "source": [
    "n= 50\n",
    "arr_seeds = [random.randint(0,1000) for _ in range(n)]\n",
    "arr_versions = [x for x in range(n)]\n",
    "model = \"Qwen3-8B\"\n",
    "num_observations = 3\n",
    "type_cot = 'all_new'\n",
    "print(arr_seeds)\n",
    "print(f\"model: {model}\")"
   ]
  },
  {
   "cell_type": "code",
   "execution_count": 6,
   "id": "75073cd5-a80a-47f6-90d0-af48f09fc511",
   "metadata": {
    "scrolled": true
   },
   "outputs": [
    {
     "name": "stdout",
     "output_type": "stream",
     "text": [
      "Загружаем модель...\n"
     ]
    },
    {
     "name": "stderr",
     "output_type": "stream",
     "text": [
      "Loading safetensors checkpoint shards:   0% Completed | 0/4 [00:00<?, ?it/s]\n",
      "Loading safetensors checkpoint shards:  25% Completed | 1/4 [00:00<00:00,  4.44it/s]\n",
      "Loading safetensors checkpoint shards:  50% Completed | 2/4 [00:00<00:00,  2.10it/s]\n",
      "Loading safetensors checkpoint shards:  75% Completed | 3/4 [00:01<00:00,  1.76it/s]\n",
      "Loading safetensors checkpoint shards: 100% Completed | 4/4 [00:02<00:00,  1.66it/s]\n",
      "Loading safetensors checkpoint shards: 100% Completed | 4/4 [00:02<00:00,  1.81it/s]\n",
      "\n"
     ]
    },
    {
     "name": "stdout",
     "output_type": "stream",
     "text": [
      "Модель успешно загружена\n",
      "model_config {'model': '/data/home/vkropoti/models/Qwen3-8B', 'tensor_parallel_size': 1, 'max_model_len': 40000, 'max_new_tokens': 1500, 'temperature': 0, 'top_k': 1, 'top_p': 0.8, 'gpu_memory_utilization': 0.9, 'trust_remote_code': False, 'seed': 382}\n",
      "\n",
      "prompts_config {'path_dev_json': '/home/vkropoti/vllm/dev.json', 'path_sql_dbs': '/data/home/vkropoti/sql_data/dev_databases/', 'use_reasoning': False, 'paths_to_cot': ['/data/home/vkropoti/sql_llm_answers/base_reasoning/sql_all_new_Qwen3-8B-reasoning-v0', '/data/home/vkropoti/sql_llm_answers/base_reasoning/sql_all_new_Qwen3-8B-reasoning-v1', '/data/home/vkropoti/sql_llm_answers/base_reasoning/sql_all_new_Qwen3-8B-reasoning-v2']}\n",
      "\n",
      "save_config {'path_sql_save': '/data/home/vkropoti/sql_llm_answers/base_reasoning/sql_all_Qwen3-8B-cot_all_new_think==False_nobs3-v0', 'path_think_save': None, 'path_sql_answers_save': '/data/home/vkropoti/sql_llm_answers/base_reasoning/sql_predict_Qwen3-8B-cot_all_new_think==False_nobs3-v0', 'path_to_save_scores': '/data/home/vkropoti/sql_llm_answers/base_reasoning/sql_results_Qwen3-8B-cot_all_new_think==False_nobs3-v0', 'path_to_save_executed': '/data/home/vkropoti/sql_llm_answers/base_reasoning/sql_executed_Qwen3-8B-cot_all_new_think==False_nobs3-v0'}\n",
      "\n",
      "Модель успешно загружена\n",
      "Пример промпта\n",
      "<|im_start|>system\n",
      "\n",
      "You are a data science expert. Below, you are provided with a database schema and a natural language question. Your task is to understand the schema and generate a valid SQL query to answer the question.\n",
      "\n",
      "Database Engine: SQLite\n",
      "\n",
      "You will be given an additional analysis of other models, please take it into account, so the plan is\n",
      "1. Analyse given addition analysis from other models (find in which analysis the same and differ, how to use that to answer question)\n",
      "2. Combine best from previous part and think how to solve the problem (analyze tables, take care what columns avaliable in each table and so on, check the syntacsis)\n",
      "3. Create the answers. The answer should be only sql query.\n",
      "\n",
      "Carefully follow the instruction and add <|im_end|> and the end of the final answer<|im_end|>\n",
      "<|im_start|>user\n",
      "Here is addition analysis from other models which can be helpfull, please take this into account but be careful (choose the best from each analysis, combine them to make the most proper answer):\n",
      "\n",
      "model 0 analysis:\n",
      " Reasoning process:\n",
      "\n",
      "Okay, let's tackle this question. The user wants the ratio of customers who pay in EUR against those who pay in CZK. First, I need to figure out which tables and columns are relevant. \n",
      "\n",
      "Looking at the tables, the customers table has a Currency column. That's probably where the payment currency is stored. The question is about counting customers based on their Currency. So, I should focus on the customers table.\n",
      "\n",
      "Wait, but the question mentions \"customers who pay in EUR\" and \"CZK\". The customers table has a Currency column, so I need to count how many customers have Currency as 'EUR' and how many have 'CZK'. Then divide those counts to get the ratio.\n",
      "\n",
      "But wait, the customers table's Currency column might have other values too. So, I need to make sure I only consider those two currencies. Also, since the question is about the ratio, I need to calculate (count of EUR customers) divided by (count of CZK customers).\n",
      "\n",
      "So, the SQL query should select the count of customers where Currency is 'EUR' and the count where it's 'CZK', then divide them. But how to do that in SQLite?\n",
      "\n",
      "I can use a CASE statement in the SELECT clause. For example, count the number of EUR customers by summing 1 where Currency is 'EUR', and similarly for CZK. Then divide the two sums.\n",
      "\n",
      "Wait, but the ratio is count(EUR)/count(CZK). So, the query would be something like:\n",
      "\n",
      "SELECT \n",
      "    SUM(CASE WHEN Currency = 'EUR' THEN 1 ELSE 0 END) * 1.0 / \n",
      "    SUM(CASE WHEN Currency = 'CZK' THEN 1 ELSE 0 END) AS ratio\n",
      "FROM customers;\n",
      "\n",
      "But I need to make sure that the denominator isn't zero to avoid division by zero. However, the problem might assume that there are customers in both currencies. But since the user didn't mention handling that, maybe it's safe to proceed as is.\n",
      "\n",
      "Alternatively, maybe using COUNT with conditions. But COUNT with a condition would count non-null values. Wait, if the Currency is 'EUR', then COUNT(Currency = 'EUR') would count the number of rows where Currency is 'EUR', but in SQLite, the expression inside COUNT would evaluate to 1 or 0. Wait, no, COUNT() counts the number of non-NULL values. So, if I use COUNT(CASE WHEN Currency = 'EUR' THEN 1 END), that would count the number of customers with EUR. Similarly for CZK.\n",
      "\n",
      "So, the query would be:\n",
      "\n",
      "SELECT \n",
      "    COUNT(CASE WHEN Currency = 'EUR' THEN 1 END) * 1.0 / \n",
      "    COUNT(CASE WHEN Currency = 'CZK' THEN 1 END) AS ratio\n",
      "FROM customers;\n",
      "\n",
      "But I need to make sure that the division is done as a float. Multiplying by 1.0 ensures that the division is floating-point. Otherwise, if both counts are integers, the division might result in integer division, which would truncate the decimal part. So, adding * 1.0 is important.\n",
      "\n",
      "Another thing to check: the customers table's Currency column might have NULL values. But the question is about customers who pay in EUR or CZK, so we can assume that those with NULL are not counted. The CASE statements would handle that by returning 0 for those.\n",
      "\n",
      "So the final query should select the ratio using the COUNT with CASE statements. The tables involved are only the customers table. No need to join with other tables since the Currency is directly in the customers table.\n",
      "\n",
      "Wait, but the question says \"customers who pay in EUR\" – does that mean that the payment method is in EUR? But the customers table's Currency column might represent the currency they use, so that's the right place to look. So the query is correct.\n",
      "\n",
      "Thus, the SQL query should be as described.\n",
      "\n",
      "Final answer based om reasoning for this model:\n",
      "\n",
      "\n",
      "```\n",
      "-- Your SQL query\n",
      "SELECT COUNT(CASE WHEN Currency = 'EUR' THEN 1 END) * 1.0 / COUNT(CASE WHEN Currency = 'CZK' THEN 1 END) FROM customers;\n",
      "```\n",
      "\n",
      "model 1 analysis:\n",
      " Reasoning process:\n",
      "\n",
      "Okay, let's see. The user is asking for the ratio of customers who pay in EUR against those who pay in CZK. So first, I need to figure out which tables and columns are relevant here.\n",
      "\n",
      "Looking at the tables provided, the customers table has a Currency column. That's probably where the payment currency information is stored. The question is about customers, so the customers table is the main focus here.\n",
      "\n",
      "Wait, but the transactions_1k table also has a Currency column? No, checking the schema again. The customers table has Currency, but the transactions_1k table doesn't. So the Currency here refers to the customer's preferred currency, maybe? Or perhaps it's the transaction currency. Hmm, but the question is about customers paying in EUR or CZK. So it's likely that the Currency column in the customers table indicates the currency they use. \n",
      "\n",
      "So, the plan is to count how many customers have Currency 'EUR' and how many have 'CZK', then divide the two. But wait, the question says ratio of EUR customers against CZK. So EUR count divided by CZK count.\n",
      "\n",
      "But how to handle if there are customers with other currencies? The question doesn't mention them, so maybe we just ignore them. So the query should count customers where Currency is EUR, count where it's CZK, then compute the ratio.\n",
      "\n",
      "So the SQL would need to select those counts. But how to do that in SQLite. Maybe using CASE statements or SUM with conditions. Alternatively, use COUNT with a condition.\n",
      "\n",
      "So, the query would be something like:\n",
      "\n",
      "SELECT \n",
      "    COUNT(CASE WHEN Currency = 'EUR' THEN 1 END) * 1.0 / COUNT(CASE WHEN Currency = 'CZK' THEN 1 END) AS ratio\n",
      "FROM customers;\n",
      "\n",
      "Wait, but what if there are customers with other currencies? The COUNT(CASE WHEN ...) would ignore them. So that's correct.\n",
      "\n",
      "But the user wants the ratio, so the division. Also, need to make sure that division is floating point, not integer. So multiplying by 1.0 or using CAST.\n",
      "\n",
      "But in SQLite, dividing integers would result in integer division. So to get a float, we need to cast one of them to real. So maybe:\n",
      "\n",
      "COUNT(CASE WHEN Currency = 'EUR' THEN 1 END) * 1.0 / COUNT(CASE WHEN Currency = 'CZK' THEN 1 END)\n",
      "\n",
      "Alternatively, use SUM with 1s. But the CASE approach works.\n",
      "\n",
      "So the final query would be selecting that ratio from the customers table.\n",
      "\n",
      "Wait, but what if there are no customers in CZK? Then division by zero. But the question doesn't mention handling that, so maybe it's assumed that there are some.\n",
      "\n",
      "So the correct SQL is as above. Let me check the tables again to confirm. The customers table has Currency as a column. Yes. So the answer is that query.\n",
      "\n",
      "Final answer based om reasoning for this model:\n",
      "\n",
      "\n",
      "```\n",
      "SELECT COUNT(CASE WHEN Currency = 'EUR' THEN 1 END) * 1.0 / COUNT(CASE WHEN Currency = 'CZK' THEN 1 END) FROM customers;\n",
      "```\n",
      "\n",
      "model 2 analysis:\n",
      " Reasoning process:\n",
      "\n",
      "Okay, I need to find the ratio of customers who pay in EUR against those who pay in CZK. Let's start by checking the tables available. The customers table has a Currency column, which is probably the key here. The question is about the ratio of customers using EUR versus CZK.\n",
      "\n",
      "First, I should count how many customers have Currency set to 'EUR' and how many have it set to 'CZK'. Then, divide the two counts to get the ratio. But wait, the customers table's Currency column might have other values too. However, the question only asks about EUR and CZK, so I can filter for those two.\n",
      "\n",
      "I need to make sure that each customer is counted once, even if they have multiple transactions. Since the question is about customers, not transactions, I should use the CustomerID from the customers table. But wait, the transactions_1k table has a CustomerID as well. However, the customers table's Currency is the relevant column here. So, I should focus on the customers table.\n",
      "\n",
      "Wait, but maybe some customers don't have a Currency entry? The schema shows that Currency is nullable. So, I need to make sure I only consider customers where Currency is either EUR or CZK. Otherwise, those customers would be excluded from the ratio calculation.\n",
      "\n",
      "So, the plan is: count the number of customers with Currency = 'EUR', count those with Currency = 'CZK', then divide the two. But how to do this in a single query?\n",
      "\n",
      "In SQLite, I can use conditional aggregation. For example, using SUM(CASE WHEN Currency = 'EUR' THEN 1 ELSE 0 END) to get the count of EUR customers, and similarly for CZK. Then, divide them.\n",
      "\n",
      "But the question says \"ratio of customers who pay in EUR against customers who pay in CZK\". So, the ratio is EUR_count / CZK_count. However, I need to handle cases where CZK_count is zero to avoid division by zero. But the problem might not require handling that, assuming there are customers in both currencies.\n",
      "\n",
      "So the SQL query would select (count_eur / count_czk) from the customers table, filtering for Currency in ('EUR', 'CZK').\n",
      "\n",
      "Wait, but the customers table's Currency column might have other values. So, I should filter where Currency is either 'EUR' or 'CZK'. Then, count each group.\n",
      "\n",
      "So the query would be:\n",
      "\n",
      "SELECT \n",
      "    SUM(CASE WHEN Currency = 'EUR' THEN 1 ELSE 0 END) * 1.0 / \n",
      "    SUM(CASE WHEN Currency = 'CZK' THEN 1 ELSE 0 END) AS ratio\n",
      "FROM customers\n",
      "WHERE Currency IN ('EUR', 'CZK');\n",
      "\n",
      "But wait, the problem says \"customers who pay in EUR against customers who pay in CZK\". So, the ratio is EUR customers divided by CZK customers. That's what the query does.\n",
      "\n",
      "But I need to make sure that the query only includes customers with Currency as EUR or CZK. The WHERE clause ensures that. Also, using SUM with CASE WHEN gives the counts. The multiplication by 1.0 is to ensure that the division is done as a floating-point operation, not integer division.\n",
      "\n",
      "So this should give the correct ratio. Let me check the tables again. The customers table has the Currency column, so this is correct. There's no need to involve other tables like transactions_1k because the question is about customers' currency, not their transactions.\n",
      "\n",
      "Therefore, the final SQL query is as above.\n",
      "\n",
      "Final answer based om reasoning for this model:\n",
      "\n",
      "\n",
      "```\n",
      "-- Your SQL query\n",
      "SELECT SUM(CASE WHEN Currency = 'EUR' THEN 1 ELSE 0 END) * 1.0 / SUM(CASE WHEN Currency = 'CZK' THEN 1 ELSE 0 END) AS ratio FROM customers WHERE Currency IN ('EUR', 'CZK');\n",
      "```\n",
      "\n",
      "\n",
      "here is avaliable tables below\n",
      "\n",
      "\n",
      "Table: customers\n",
      "CREATE TABLE customers\n",
      "(\n",
      "    CustomerID INTEGER UNIQUE     not null\n",
      "        primary key,\n",
      "    Segment    TEXT null,\n",
      "    Currency   TEXT null\n",
      ")\n",
      "\n",
      "Table: gasstations\n",
      "CREATE TABLE gasstations\n",
      "(\n",
      "    GasStationID INTEGER    UNIQUE   not null\n",
      "        primary key,\n",
      "    ChainID      INTEGER          null,\n",
      "    Country      TEXT null,\n",
      "    Segment      TEXT null\n",
      ")\n",
      "\n",
      "Table: products\n",
      "CREATE TABLE products\n",
      "(\n",
      "    ProductID   INTEGER   UNIQUE      not null\n",
      "        primary key,\n",
      "    Description TEXT null\n",
      ")\n",
      "\n",
      "Table: transactions_1k\n",
      "CREATE TABLE \"transactions_1k\"\n",
      "(\n",
      "    TransactionID INTEGER\n",
      "        primary key autoincrement,\n",
      "    Date          DATE,\n",
      "    Time          TEXT,\n",
      "    CustomerID    INTEGER,\n",
      "    CardID        INTEGER,\n",
      "    GasStationID  INTEGER,\n",
      "    ProductID     INTEGER,\n",
      "    Amount        INTEGER,\n",
      "    Price         REAL\n",
      ")\n",
      "\n",
      "Table: sqlite_sequence\n",
      "CREATE TABLE sqlite_sequence(name,seq)\n",
      "\n",
      "Table: yearmonth\n",
      "CREATE TABLE \"yearmonth\"\n",
      "(\n",
      "    CustomerID  INTEGER not null\n",
      "        references customers\n",
      "            on update cascade on delete cascade\n",
      "        references customers,\n",
      "    Date        TEXT    not null,\n",
      "    Consumption REAL,\n",
      "    primary key (Date, CustomerID)\n",
      ")\n",
      "\n",
      "-- Using valid SQLite and understanding External Knowledge, answer the following questions for the tables provided above.\n",
      "-- What is the ratio of customers who pay in EUR against customers who pay in CZK?\n",
      "-- External Knowledge: ratio of customers who pay in EUR against customers who pay in CZK = count(Currency = 'EUR') / count(Currency = 'CZK').\n",
      "\n",
      "\n",
      "Generate the SQLite for the above question after thinking step by step: \n",
      "\n",
      "\n",
      "Instructions:\n",
      "- Make sure you only output the information that is asked in the question. If the question asks for a specific column, make sure to only include that column in the SELECT clause, nothing more.\n",
      "- The generated query should return all of the information asked in the question without any missing or extra information.\n",
      "- Before generating the final SQL query, please think through the steps of how to write the query.\n",
      "- Do not misuse column names, keep them in quotes `\n",
      "- Carefully understand what colomns belond to what tables\n",
      "- Use only initial column names, change names prohibited\n",
      "        \n",
      "Output Format:\n",
      "In your answer, please enclose the generated SQL query in a code block:\n",
      "```\n",
      "-- Your SQL query\n",
      "```    \n",
      "and nothing else, no exaplains, no comments (asnwer should be less than 512 characters)\n",
      "\n",
      "Take a deep breath and think step by step to find the correct SQL query in SQLite format.\n",
      "\n",
      "Question repetition: What is the ratio of customers who pay in EUR against customers who pay in CZK?\n",
      "\n",
      "Be care! Include only what i want it questiona and nothing else<|im_end|>\n",
      "<|im_start|>assistant\n",
      "<think>\n",
      "\n",
      "</think>\n",
      "\n",
      "\n",
      "\n",
      "\n",
      "Максимальное количество токенов в промптах: 15134\n",
      "\n",
      "начинаем скорринг\n",
      "Загружаем чаты с данными...\n",
      "Данные успешно загружены\n",
      "Начали генерацию SQL запросов\n"
     ]
    },
    {
     "name": "stderr",
     "output_type": "stream",
     "text": [
      "Processed prompts: 100%|██████████| 500/500 [01:54<00:00,  4.38it/s, est. speed input: 19890.11 toks/s, output: 239.36 toks/s]"
     ]
    },
    {
     "name": "stdout",
     "output_type": "stream",
     "text": [
      "extract_think количество ошибок:  0\n",
      "extract_sql количество ошибок:  0\n",
      "Закончили генерацию SQL запросов\n",
      "Начали скорр полученных SQL запросов\n"
     ]
    },
    {
     "name": "stderr",
     "output_type": "stream",
     "text": [
      "\n"
     ]
    },
    {
     "name": "stdout",
     "output_type": "stream",
     "text": [
      "Qwen3-8b Mini DEV Финальный результат EX: 54.40\n",
      "Qwen3-8b процент запросов, которые успешно выполнились Mini DEV: 95.20%\n",
      "====================================================================================================\n",
      "\n",
      "\n",
      "Загружаем чаты с данными...\n",
      "Данные успешно загружены\n",
      "Начали генерацию SQL запросов\n"
     ]
    },
    {
     "name": "stderr",
     "output_type": "stream",
     "text": [
      "Processed prompts: 100%|██████████| 500/500 [01:58<00:00,  4.23it/s, est. speed input: 19394.89 toks/s, output: 235.17 toks/s]"
     ]
    },
    {
     "name": "stdout",
     "output_type": "stream",
     "text": [
      "extract_think количество ошибок:  0\n",
      "extract_sql количество ошибок:  0\n",
      "Закончили генерацию SQL запросов\n",
      "Начали скорр полученных SQL запросов\n"
     ]
    },
    {
     "name": "stderr",
     "output_type": "stream",
     "text": [
      "\n"
     ]
    },
    {
     "name": "stdout",
     "output_type": "stream",
     "text": [
      "Qwen3-8b Mini DEV Финальный результат EX: 53.60\n",
      "Qwen3-8b процент запросов, которые успешно выполнились Mini DEV: 94.40%\n",
      "====================================================================================================\n",
      "\n",
      "\n",
      "Загружаем чаты с данными...\n",
      "Данные успешно загружены\n",
      "Начали генерацию SQL запросов\n"
     ]
    },
    {
     "name": "stderr",
     "output_type": "stream",
     "text": [
      "Processed prompts: 100%|██████████| 500/500 [01:57<00:00,  4.26it/s, est. speed input: 19350.34 toks/s, output: 236.40 toks/s]"
     ]
    },
    {
     "name": "stdout",
     "output_type": "stream",
     "text": [
      "extract_think количество ошибок:  0\n",
      "extract_sql количество ошибок:  0\n",
      "Закончили генерацию SQL запросов\n",
      "Начали скорр полученных SQL запросов\n"
     ]
    },
    {
     "name": "stderr",
     "output_type": "stream",
     "text": [
      "\n"
     ]
    },
    {
     "name": "stdout",
     "output_type": "stream",
     "text": [
      "Qwen3-8b Mini DEV Финальный результат EX: 53.60\n",
      "Qwen3-8b процент запросов, которые успешно выполнились Mini DEV: 94.60%\n",
      "====================================================================================================\n",
      "\n",
      "\n",
      "Загружаем чаты с данными...\n",
      "Данные успешно загружены\n",
      "Начали генерацию SQL запросов\n"
     ]
    },
    {
     "name": "stderr",
     "output_type": "stream",
     "text": [
      "Processed prompts: 100%|██████████| 500/500 [01:55<00:00,  4.34it/s, est. speed input: 19737.55 toks/s, output: 233.79 toks/s]"
     ]
    },
    {
     "name": "stdout",
     "output_type": "stream",
     "text": [
      "extract_think количество ошибок:  0\n",
      "extract_sql количество ошибок:  0\n",
      "Закончили генерацию SQL запросов\n",
      "Начали скорр полученных SQL запросов\n"
     ]
    },
    {
     "name": "stderr",
     "output_type": "stream",
     "text": [
      "\n"
     ]
    },
    {
     "name": "stdout",
     "output_type": "stream",
     "text": [
      "Qwen3-8b Mini DEV Финальный результат EX: 54.60\n",
      "Qwen3-8b процент запросов, которые успешно выполнились Mini DEV: 95.00%\n",
      "====================================================================================================\n",
      "\n",
      "\n",
      "Загружаем чаты с данными...\n",
      "Данные успешно загружены\n",
      "Начали генерацию SQL запросов\n"
     ]
    },
    {
     "name": "stderr",
     "output_type": "stream",
     "text": [
      "Processed prompts: 100%|██████████| 500/500 [01:50<00:00,  4.51it/s, est. speed input: 20371.18 toks/s, output: 243.83 toks/s]"
     ]
    },
    {
     "name": "stdout",
     "output_type": "stream",
     "text": [
      "extract_think количество ошибок:  0\n",
      "extract_sql количество ошибок:  0\n",
      "Закончили генерацию SQL запросов\n",
      "Начали скорр полученных SQL запросов\n"
     ]
    },
    {
     "name": "stderr",
     "output_type": "stream",
     "text": [
      "\n"
     ]
    },
    {
     "name": "stdout",
     "output_type": "stream",
     "text": [
      "Qwen3-8b Mini DEV Финальный результат EX: 54.20\n",
      "Qwen3-8b процент запросов, которые успешно выполнились Mini DEV: 94.40%\n",
      "====================================================================================================\n",
      "\n",
      "\n",
      "Загружаем чаты с данными...\n",
      "Данные успешно загружены\n",
      "Начали генерацию SQL запросов\n"
     ]
    },
    {
     "name": "stderr",
     "output_type": "stream",
     "text": [
      "Processed prompts: 100%|██████████| 500/500 [01:54<00:00,  4.35it/s, est. speed input: 20143.41 toks/s, output: 234.63 toks/s]\n"
     ]
    },
    {
     "name": "stdout",
     "output_type": "stream",
     "text": [
      "extract_think количество ошибок:  0\n",
      "extract_sql количество ошибок:  0\n",
      "Закончили генерацию SQL запросов\n",
      "Начали скорр полученных SQL запросов\n",
      "Qwen3-8b Mini DEV Финальный результат EX: 54.00\n",
      "Qwen3-8b процент запросов, которые успешно выполнились Mini DEV: 95.40%\n",
      "====================================================================================================\n",
      "\n",
      "\n",
      "Загружаем чаты с данными...\n",
      "Данные успешно загружены\n",
      "Начали генерацию SQL запросов\n"
     ]
    },
    {
     "name": "stderr",
     "output_type": "stream",
     "text": [
      "Processed prompts: 100%|██████████| 500/500 [01:51<00:00,  4.48it/s, est. speed input: 20667.10 toks/s, output: 242.41 toks/s]"
     ]
    },
    {
     "name": "stdout",
     "output_type": "stream",
     "text": [
      "extract_think количество ошибок:  0\n",
      "extract_sql количество ошибок:  0\n",
      "Закончили генерацию SQL запросов\n",
      "Начали скорр полученных SQL запросов\n"
     ]
    },
    {
     "name": "stderr",
     "output_type": "stream",
     "text": [
      "\n"
     ]
    },
    {
     "name": "stdout",
     "output_type": "stream",
     "text": [
      "Qwen3-8b Mini DEV Финальный результат EX: 53.40\n",
      "Qwen3-8b процент запросов, которые успешно выполнились Mini DEV: 94.60%\n",
      "====================================================================================================\n",
      "\n",
      "\n",
      "Загружаем чаты с данными...\n",
      "Данные успешно загружены\n",
      "Начали генерацию SQL запросов\n"
     ]
    },
    {
     "name": "stderr",
     "output_type": "stream",
     "text": [
      "Processed prompts: 100%|██████████| 500/500 [02:02<00:00,  4.09it/s, est. speed input: 19003.16 toks/s, output: 229.71 toks/s]"
     ]
    },
    {
     "name": "stdout",
     "output_type": "stream",
     "text": [
      "extract_think количество ошибок:  0\n",
      "extract_sql количество ошибок:  0\n",
      "Закончили генерацию SQL запросов\n",
      "Начали скорр полученных SQL запросов\n"
     ]
    },
    {
     "name": "stderr",
     "output_type": "stream",
     "text": [
      "\n"
     ]
    },
    {
     "name": "stdout",
     "output_type": "stream",
     "text": [
      "Qwen3-8b Mini DEV Финальный результат EX: 53.00\n",
      "Qwen3-8b процент запросов, которые успешно выполнились Mini DEV: 95.00%\n",
      "====================================================================================================\n",
      "\n",
      "\n",
      "Загружаем чаты с данными...\n",
      "Данные успешно загружены\n",
      "Начали генерацию SQL запросов\n"
     ]
    },
    {
     "name": "stderr",
     "output_type": "stream",
     "text": [
      "Processed prompts: 100%|██████████| 500/500 [01:52<00:00,  4.46it/s, est. speed input: 20630.67 toks/s, output: 240.18 toks/s]"
     ]
    },
    {
     "name": "stdout",
     "output_type": "stream",
     "text": [
      "extract_think количество ошибок:  0\n",
      "extract_sql количество ошибок:  0\n",
      "Закончили генерацию SQL запросов\n",
      "Начали скорр полученных SQL запросов\n"
     ]
    },
    {
     "name": "stderr",
     "output_type": "stream",
     "text": [
      "\n"
     ]
    },
    {
     "name": "stdout",
     "output_type": "stream",
     "text": [
      "Qwen3-8b Mini DEV Финальный результат EX: 53.00\n",
      "Qwen3-8b процент запросов, которые успешно выполнились Mini DEV: 93.40%\n",
      "====================================================================================================\n",
      "\n",
      "\n",
      "Загружаем чаты с данными...\n",
      "Данные успешно загружены\n",
      "Начали генерацию SQL запросов\n"
     ]
    },
    {
     "name": "stderr",
     "output_type": "stream",
     "text": [
      "Processed prompts: 100%|██████████| 500/500 [01:51<00:00,  4.49it/s, est. speed input: 20481.25 toks/s, output: 241.58 toks/s]"
     ]
    },
    {
     "name": "stdout",
     "output_type": "stream",
     "text": [
      "extract_think количество ошибок:  0\n",
      "extract_sql количество ошибок:  0\n",
      "Закончили генерацию SQL запросов\n",
      "Начали скорр полученных SQL запросов\n"
     ]
    },
    {
     "name": "stderr",
     "output_type": "stream",
     "text": [
      "\n"
     ]
    },
    {
     "name": "stdout",
     "output_type": "stream",
     "text": [
      "Qwen3-8b Mini DEV Финальный результат EX: 54.40\n",
      "Qwen3-8b процент запросов, которые успешно выполнились Mini DEV: 94.40%\n",
      "====================================================================================================\n",
      "\n",
      "\n",
      "Загружаем чаты с данными...\n",
      "Данные успешно загружены\n",
      "Начали генерацию SQL запросов\n"
     ]
    },
    {
     "name": "stderr",
     "output_type": "stream",
     "text": [
      "Processed prompts: 100%|██████████| 500/500 [01:52<00:00,  4.44it/s, est. speed input: 20425.12 toks/s, output: 239.16 toks/s]"
     ]
    },
    {
     "name": "stdout",
     "output_type": "stream",
     "text": [
      "extract_think количество ошибок:  0\n",
      "extract_sql количество ошибок:  0\n",
      "Закончили генерацию SQL запросов\n",
      "Начали скорр полученных SQL запросов\n"
     ]
    },
    {
     "name": "stderr",
     "output_type": "stream",
     "text": [
      "\n"
     ]
    },
    {
     "name": "stdout",
     "output_type": "stream",
     "text": [
      "Qwen3-8b Mini DEV Финальный результат EX: 53.40\n",
      "Qwen3-8b процент запросов, которые успешно выполнились Mini DEV: 93.60%\n",
      "====================================================================================================\n",
      "\n",
      "\n",
      "Загружаем чаты с данными...\n",
      "Данные успешно загружены\n",
      "Начали генерацию SQL запросов\n"
     ]
    },
    {
     "name": "stderr",
     "output_type": "stream",
     "text": [
      "Processed prompts: 100%|██████████| 500/500 [01:50<00:00,  4.51it/s, est. speed input: 20315.08 toks/s, output: 239.46 toks/s]"
     ]
    },
    {
     "name": "stdout",
     "output_type": "stream",
     "text": [
      "extract_think количество ошибок:  0\n",
      "extract_sql количество ошибок:  0\n",
      "Закончили генерацию SQL запросов\n",
      "Начали скорр полученных SQL запросов\n"
     ]
    },
    {
     "name": "stderr",
     "output_type": "stream",
     "text": [
      "\n"
     ]
    },
    {
     "name": "stdout",
     "output_type": "stream",
     "text": [
      "Qwen3-8b Mini DEV Финальный результат EX: 54.20\n",
      "Qwen3-8b процент запросов, которые успешно выполнились Mini DEV: 94.40%\n",
      "====================================================================================================\n",
      "\n",
      "\n",
      "Загружаем чаты с данными...\n",
      "Данные успешно загружены\n",
      "Начали генерацию SQL запросов\n"
     ]
    },
    {
     "name": "stderr",
     "output_type": "stream",
     "text": [
      "Processed prompts: 100%|██████████| 500/500 [01:53<00:00,  4.39it/s, est. speed input: 20293.23 toks/s, output: 235.30 toks/s]"
     ]
    },
    {
     "name": "stdout",
     "output_type": "stream",
     "text": [
      "extract_think количество ошибок:  0\n",
      "extract_sql количество ошибок:  0\n",
      "Закончили генерацию SQL запросов\n",
      "Начали скорр полученных SQL запросов\n"
     ]
    },
    {
     "name": "stderr",
     "output_type": "stream",
     "text": [
      "\n"
     ]
    },
    {
     "name": "stdout",
     "output_type": "stream",
     "text": [
      "Qwen3-8b Mini DEV Финальный результат EX: 55.20\n",
      "Qwen3-8b процент запросов, которые успешно выполнились Mini DEV: 94.20%\n",
      "====================================================================================================\n",
      "\n",
      "\n",
      "Загружаем чаты с данными...\n",
      "Данные успешно загружены\n",
      "Начали генерацию SQL запросов\n"
     ]
    },
    {
     "name": "stderr",
     "output_type": "stream",
     "text": [
      "Processed prompts: 100%|██████████| 500/500 [01:52<00:00,  4.44it/s, est. speed input: 20284.20 toks/s, output: 237.86 toks/s]"
     ]
    },
    {
     "name": "stdout",
     "output_type": "stream",
     "text": [
      "extract_think количество ошибок:  0\n",
      "extract_sql количество ошибок:  0\n",
      "Закончили генерацию SQL запросов\n",
      "Начали скорр полученных SQL запросов\n"
     ]
    },
    {
     "name": "stderr",
     "output_type": "stream",
     "text": [
      "\n"
     ]
    },
    {
     "name": "stdout",
     "output_type": "stream",
     "text": [
      "Qwen3-8b Mini DEV Финальный результат EX: 54.20\n",
      "Qwen3-8b процент запросов, которые успешно выполнились Mini DEV: 95.20%\n",
      "====================================================================================================\n",
      "\n",
      "\n",
      "Загружаем чаты с данными...\n",
      "Данные успешно загружены\n",
      "Начали генерацию SQL запросов\n"
     ]
    },
    {
     "name": "stderr",
     "output_type": "stream",
     "text": [
      "Processed prompts: 100%|██████████| 500/500 [01:52<00:00,  4.43it/s, est. speed input: 20313.80 toks/s, output: 237.08 toks/s]"
     ]
    },
    {
     "name": "stdout",
     "output_type": "stream",
     "text": [
      "extract_think количество ошибок:  0\n",
      "extract_sql количество ошибок:  0\n",
      "Закончили генерацию SQL запросов\n",
      "Начали скорр полученных SQL запросов\n"
     ]
    },
    {
     "name": "stderr",
     "output_type": "stream",
     "text": [
      "\n"
     ]
    },
    {
     "name": "stdout",
     "output_type": "stream",
     "text": [
      "Qwen3-8b Mini DEV Финальный результат EX: 54.20\n",
      "Qwen3-8b процент запросов, которые успешно выполнились Mini DEV: 94.60%\n",
      "====================================================================================================\n",
      "\n",
      "\n",
      "Загружаем чаты с данными...\n",
      "Данные успешно загружены\n",
      "Начали генерацию SQL запросов\n"
     ]
    },
    {
     "name": "stderr",
     "output_type": "stream",
     "text": [
      "Processed prompts: 100%|██████████| 500/500 [01:50<00:00,  4.54it/s, est. speed input: 20422.59 toks/s, output: 242.70 toks/s]"
     ]
    },
    {
     "name": "stdout",
     "output_type": "stream",
     "text": [
      "extract_think количество ошибок:  0\n",
      "extract_sql количество ошибок:  0\n",
      "Закончили генерацию SQL запросов\n",
      "Начали скорр полученных SQL запросов\n"
     ]
    },
    {
     "name": "stderr",
     "output_type": "stream",
     "text": [
      "\n"
     ]
    },
    {
     "name": "stdout",
     "output_type": "stream",
     "text": [
      "Qwen3-8b Mini DEV Финальный результат EX: 54.40\n",
      "Qwen3-8b процент запросов, которые успешно выполнились Mini DEV: 94.40%\n",
      "====================================================================================================\n",
      "\n",
      "\n",
      "Загружаем чаты с данными...\n",
      "Данные успешно загружены\n",
      "Начали генерацию SQL запросов\n"
     ]
    },
    {
     "name": "stderr",
     "output_type": "stream",
     "text": [
      "Processed prompts: 100%|██████████| 500/500 [01:51<00:00,  4.49it/s, est. speed input: 20378.78 toks/s, output: 244.63 toks/s]"
     ]
    },
    {
     "name": "stdout",
     "output_type": "stream",
     "text": [
      "extract_think количество ошибок:  0\n",
      "extract_sql количество ошибок:  0\n",
      "Закончили генерацию SQL запросов\n",
      "Начали скорр полученных SQL запросов\n"
     ]
    },
    {
     "name": "stderr",
     "output_type": "stream",
     "text": [
      "\n"
     ]
    },
    {
     "name": "stdout",
     "output_type": "stream",
     "text": [
      "Qwen3-8b Mini DEV Финальный результат EX: 52.60\n",
      "Qwen3-8b процент запросов, которые успешно выполнились Mini DEV: 93.60%\n",
      "====================================================================================================\n",
      "\n",
      "\n",
      "Загружаем чаты с данными...\n",
      "Данные успешно загружены\n",
      "Начали генерацию SQL запросов\n"
     ]
    },
    {
     "name": "stderr",
     "output_type": "stream",
     "text": [
      "Processed prompts: 100%|██████████| 500/500 [01:51<00:00,  4.50it/s, est. speed input: 20403.07 toks/s, output: 242.54 toks/s]"
     ]
    },
    {
     "name": "stdout",
     "output_type": "stream",
     "text": [
      "extract_think количество ошибок:  0\n",
      "extract_sql количество ошибок:  0\n",
      "Закончили генерацию SQL запросов\n",
      "Начали скорр полученных SQL запросов\n"
     ]
    },
    {
     "name": "stderr",
     "output_type": "stream",
     "text": [
      "\n"
     ]
    },
    {
     "name": "stdout",
     "output_type": "stream",
     "text": [
      "Qwen3-8b Mini DEV Финальный результат EX: 55.40\n",
      "Qwen3-8b процент запросов, которые успешно выполнились Mini DEV: 94.00%\n",
      "====================================================================================================\n",
      "\n",
      "\n",
      "Загружаем чаты с данными...\n",
      "Данные успешно загружены\n",
      "Начали генерацию SQL запросов\n"
     ]
    },
    {
     "name": "stderr",
     "output_type": "stream",
     "text": [
      "Processed prompts: 100%|██████████| 500/500 [01:52<00:00,  4.44it/s, est. speed input: 20308.72 toks/s, output: 240.96 toks/s]"
     ]
    },
    {
     "name": "stdout",
     "output_type": "stream",
     "text": [
      "extract_think количество ошибок:  0\n",
      "extract_sql количество ошибок:  0\n",
      "Закончили генерацию SQL запросов\n",
      "Начали скорр полученных SQL запросов\n"
     ]
    },
    {
     "name": "stderr",
     "output_type": "stream",
     "text": [
      "\n"
     ]
    },
    {
     "name": "stdout",
     "output_type": "stream",
     "text": [
      "Qwen3-8b Mini DEV Финальный результат EX: 53.80\n",
      "Qwen3-8b процент запросов, которые успешно выполнились Mini DEV: 93.80%\n",
      "====================================================================================================\n",
      "\n",
      "\n",
      "Загружаем чаты с данными...\n",
      "Данные успешно загружены\n",
      "Начали генерацию SQL запросов\n"
     ]
    },
    {
     "name": "stderr",
     "output_type": "stream",
     "text": [
      "Processed prompts: 100%|██████████| 500/500 [01:52<00:00,  4.46it/s, est. speed input: 20189.69 toks/s, output: 241.79 toks/s]"
     ]
    },
    {
     "name": "stdout",
     "output_type": "stream",
     "text": [
      "extract_think количество ошибок:  0\n",
      "extract_sql количество ошибок:  0\n",
      "Закончили генерацию SQL запросов\n",
      "Начали скорр полученных SQL запросов\n"
     ]
    },
    {
     "name": "stderr",
     "output_type": "stream",
     "text": [
      "\n"
     ]
    },
    {
     "name": "stdout",
     "output_type": "stream",
     "text": [
      "Qwen3-8b Mini DEV Финальный результат EX: 55.80\n",
      "Qwen3-8b процент запросов, которые успешно выполнились Mini DEV: 94.00%\n",
      "====================================================================================================\n",
      "\n",
      "\n",
      "Загружаем чаты с данными...\n",
      "Данные успешно загружены\n",
      "Начали генерацию SQL запросов\n"
     ]
    },
    {
     "name": "stderr",
     "output_type": "stream",
     "text": [
      "Processed prompts: 100%|██████████| 500/500 [01:54<00:00,  4.36it/s, est. speed input: 19761.30 toks/s, output: 239.04 toks/s]"
     ]
    },
    {
     "name": "stdout",
     "output_type": "stream",
     "text": [
      "extract_think количество ошибок:  0\n",
      "extract_sql количество ошибок:  0\n",
      "Закончили генерацию SQL запросов\n",
      "Начали скорр полученных SQL запросов\n"
     ]
    },
    {
     "name": "stderr",
     "output_type": "stream",
     "text": [
      "\n"
     ]
    },
    {
     "name": "stdout",
     "output_type": "stream",
     "text": [
      "Qwen3-8b Mini DEV Финальный результат EX: 55.40\n",
      "Qwen3-8b процент запросов, которые успешно выполнились Mini DEV: 94.40%\n",
      "====================================================================================================\n",
      "\n",
      "\n",
      "Загружаем чаты с данными...\n",
      "Данные успешно загружены\n",
      "Начали генерацию SQL запросов\n"
     ]
    },
    {
     "name": "stderr",
     "output_type": "stream",
     "text": [
      "Processed prompts: 100%|██████████| 500/500 [01:50<00:00,  4.53it/s, est. speed input: 20354.79 toks/s, output: 246.37 toks/s]"
     ]
    },
    {
     "name": "stdout",
     "output_type": "stream",
     "text": [
      "extract_think количество ошибок:  0\n",
      "extract_sql количество ошибок:  0\n",
      "Закончили генерацию SQL запросов\n",
      "Начали скорр полученных SQL запросов\n"
     ]
    },
    {
     "name": "stderr",
     "output_type": "stream",
     "text": [
      "\n"
     ]
    },
    {
     "name": "stdout",
     "output_type": "stream",
     "text": [
      "Qwen3-8b Mini DEV Финальный результат EX: 54.20\n",
      "Qwen3-8b процент запросов, которые успешно выполнились Mini DEV: 95.20%\n",
      "====================================================================================================\n",
      "\n",
      "\n",
      "Загружаем чаты с данными...\n",
      "Данные успешно загружены\n",
      "Начали генерацию SQL запросов\n"
     ]
    },
    {
     "name": "stderr",
     "output_type": "stream",
     "text": [
      "Processed prompts: 100%|██████████| 500/500 [01:53<00:00,  4.41it/s, est. speed input: 19873.80 toks/s, output: 242.27 toks/s]"
     ]
    },
    {
     "name": "stdout",
     "output_type": "stream",
     "text": [
      "extract_think количество ошибок:  0\n",
      "extract_sql количество ошибок:  0\n",
      "Закончили генерацию SQL запросов\n",
      "Начали скорр полученных SQL запросов\n"
     ]
    },
    {
     "name": "stderr",
     "output_type": "stream",
     "text": [
      "\n"
     ]
    },
    {
     "name": "stdout",
     "output_type": "stream",
     "text": [
      "Qwen3-8b Mini DEV Финальный результат EX: 53.60\n",
      "Qwen3-8b процент запросов, которые успешно выполнились Mini DEV: 94.40%\n",
      "====================================================================================================\n",
      "\n",
      "\n",
      "Загружаем чаты с данными...\n",
      "Данные успешно загружены\n",
      "Начали генерацию SQL запросов\n"
     ]
    },
    {
     "name": "stderr",
     "output_type": "stream",
     "text": [
      "Processed prompts: 100%|██████████| 500/500 [01:51<00:00,  4.47it/s, est. speed input: 20224.01 toks/s, output: 243.09 toks/s]"
     ]
    },
    {
     "name": "stdout",
     "output_type": "stream",
     "text": [
      "extract_think количество ошибок:  0\n",
      "extract_sql количество ошибок:  0\n",
      "Закончили генерацию SQL запросов\n",
      "Начали скорр полученных SQL запросов\n"
     ]
    },
    {
     "name": "stderr",
     "output_type": "stream",
     "text": [
      "\n"
     ]
    },
    {
     "name": "stdout",
     "output_type": "stream",
     "text": [
      "Qwen3-8b Mini DEV Финальный результат EX: 52.60\n",
      "Qwen3-8b процент запросов, которые успешно выполнились Mini DEV: 93.40%\n",
      "====================================================================================================\n",
      "\n",
      "\n",
      "Загружаем чаты с данными...\n",
      "Данные успешно загружены\n",
      "Начали генерацию SQL запросов\n"
     ]
    },
    {
     "name": "stderr",
     "output_type": "stream",
     "text": [
      "Processed prompts: 100%|██████████| 500/500 [01:54<00:00,  4.39it/s, est. speed input: 20078.03 toks/s, output: 239.29 toks/s]"
     ]
    },
    {
     "name": "stdout",
     "output_type": "stream",
     "text": [
      "extract_think количество ошибок:  0\n",
      "extract_sql количество ошибок:  0\n",
      "Закончили генерацию SQL запросов\n",
      "Начали скорр полученных SQL запросов\n"
     ]
    },
    {
     "name": "stderr",
     "output_type": "stream",
     "text": [
      "\n"
     ]
    },
    {
     "name": "stdout",
     "output_type": "stream",
     "text": [
      "Qwen3-8b Mini DEV Финальный результат EX: 53.60\n",
      "Qwen3-8b процент запросов, которые успешно выполнились Mini DEV: 93.20%\n",
      "====================================================================================================\n",
      "\n",
      "\n",
      "Загружаем чаты с данными...\n",
      "Данные успешно загружены\n",
      "Начали генерацию SQL запросов\n"
     ]
    },
    {
     "name": "stderr",
     "output_type": "stream",
     "text": [
      "Processed prompts: 100%|██████████| 500/500 [02:01<00:00,  4.13it/s, est. speed input: 19246.47 toks/s, output: 227.53 toks/s]"
     ]
    },
    {
     "name": "stdout",
     "output_type": "stream",
     "text": [
      "extract_think количество ошибок:  0\n",
      "extract_sql количество ошибок:  0\n",
      "Закончили генерацию SQL запросов\n",
      "Начали скорр полученных SQL запросов\n"
     ]
    },
    {
     "name": "stderr",
     "output_type": "stream",
     "text": [
      "\n"
     ]
    },
    {
     "name": "stdout",
     "output_type": "stream",
     "text": [
      "Qwen3-8b Mini DEV Финальный результат EX: 54.20\n",
      "Qwen3-8b процент запросов, которые успешно выполнились Mini DEV: 95.20%\n",
      "====================================================================================================\n",
      "\n",
      "\n",
      "Загружаем чаты с данными...\n",
      "Данные успешно загружены\n",
      "Начали генерацию SQL запросов\n"
     ]
    },
    {
     "name": "stderr",
     "output_type": "stream",
     "text": [
      "Processed prompts: 100%|██████████| 500/500 [01:54<00:00,  4.38it/s, est. speed input: 20410.84 toks/s, output: 236.79 toks/s]"
     ]
    },
    {
     "name": "stdout",
     "output_type": "stream",
     "text": [
      "extract_think количество ошибок:  0\n",
      "extract_sql количество ошибок:  0\n",
      "Закончили генерацию SQL запросов\n",
      "Начали скорр полученных SQL запросов\n"
     ]
    },
    {
     "name": "stderr",
     "output_type": "stream",
     "text": [
      "\n"
     ]
    },
    {
     "name": "stdout",
     "output_type": "stream",
     "text": [
      "Qwen3-8b Mini DEV Финальный результат EX: 54.60\n",
      "Qwen3-8b процент запросов, которые успешно выполнились Mini DEV: 94.20%\n",
      "====================================================================================================\n",
      "\n",
      "\n",
      "Загружаем чаты с данными...\n",
      "Данные успешно загружены\n",
      "Начали генерацию SQL запросов\n"
     ]
    },
    {
     "name": "stderr",
     "output_type": "stream",
     "text": [
      "Processed prompts: 100%|██████████| 500/500 [01:55<00:00,  4.31it/s, est. speed input: 20163.25 toks/s, output: 231.66 toks/s]"
     ]
    },
    {
     "name": "stdout",
     "output_type": "stream",
     "text": [
      "extract_think количество ошибок:  0\n",
      "extract_sql количество ошибок:  0\n",
      "Закончили генерацию SQL запросов\n",
      "Начали скорр полученных SQL запросов\n"
     ]
    },
    {
     "name": "stderr",
     "output_type": "stream",
     "text": [
      "\n"
     ]
    },
    {
     "name": "stdout",
     "output_type": "stream",
     "text": [
      "Qwen3-8b Mini DEV Финальный результат EX: 52.80\n",
      "Qwen3-8b процент запросов, которые успешно выполнились Mini DEV: 94.40%\n",
      "====================================================================================================\n",
      "\n",
      "\n",
      "Загружаем чаты с данными...\n",
      "Данные успешно загружены\n",
      "Начали генерацию SQL запросов\n"
     ]
    },
    {
     "name": "stderr",
     "output_type": "stream",
     "text": [
      "Processed prompts: 100%|██████████| 500/500 [01:53<00:00,  4.39it/s, est. speed input: 20045.89 toks/s, output: 238.48 toks/s]"
     ]
    },
    {
     "name": "stdout",
     "output_type": "stream",
     "text": [
      "extract_think количество ошибок:  0\n",
      "extract_sql количество ошибок:  0\n",
      "Закончили генерацию SQL запросов\n",
      "Начали скорр полученных SQL запросов\n"
     ]
    },
    {
     "name": "stderr",
     "output_type": "stream",
     "text": [
      "\n"
     ]
    },
    {
     "name": "stdout",
     "output_type": "stream",
     "text": [
      "Qwen3-8b Mini DEV Финальный результат EX: 53.40\n",
      "Qwen3-8b процент запросов, которые успешно выполнились Mini DEV: 93.40%\n",
      "====================================================================================================\n",
      "\n",
      "\n",
      "Загружаем чаты с данными...\n",
      "Данные успешно загружены\n",
      "Начали генерацию SQL запросов\n"
     ]
    },
    {
     "name": "stderr",
     "output_type": "stream",
     "text": [
      "Processed prompts: 100%|██████████| 500/500 [01:53<00:00,  4.40it/s, est. speed input: 20126.32 toks/s, output: 240.01 toks/s]"
     ]
    },
    {
     "name": "stdout",
     "output_type": "stream",
     "text": [
      "extract_think количество ошибок:  0\n",
      "extract_sql количество ошибок:  0\n",
      "Закончили генерацию SQL запросов\n",
      "Начали скорр полученных SQL запросов\n"
     ]
    },
    {
     "name": "stderr",
     "output_type": "stream",
     "text": [
      "\n"
     ]
    },
    {
     "name": "stdout",
     "output_type": "stream",
     "text": [
      "Qwen3-8b Mini DEV Финальный результат EX: 53.20\n",
      "Qwen3-8b процент запросов, которые успешно выполнились Mini DEV: 94.40%\n",
      "====================================================================================================\n",
      "\n",
      "\n",
      "Загружаем чаты с данными...\n",
      "Данные успешно загружены\n",
      "Начали генерацию SQL запросов\n"
     ]
    },
    {
     "name": "stderr",
     "output_type": "stream",
     "text": [
      "Processed prompts: 100%|██████████| 500/500 [01:52<00:00,  4.44it/s, est. speed input: 20067.46 toks/s, output: 240.98 toks/s]"
     ]
    },
    {
     "name": "stdout",
     "output_type": "stream",
     "text": [
      "extract_think количество ошибок:  0\n",
      "extract_sql количество ошибок:  0\n",
      "Закончили генерацию SQL запросов\n",
      "Начали скорр полученных SQL запросов\n"
     ]
    },
    {
     "name": "stderr",
     "output_type": "stream",
     "text": [
      "\n"
     ]
    },
    {
     "name": "stdout",
     "output_type": "stream",
     "text": [
      "Qwen3-8b Mini DEV Финальный результат EX: 54.60\n",
      "Qwen3-8b процент запросов, которые успешно выполнились Mini DEV: 94.20%\n",
      "====================================================================================================\n",
      "\n",
      "\n",
      "Загружаем чаты с данными...\n",
      "Данные успешно загружены\n",
      "Начали генерацию SQL запросов\n"
     ]
    },
    {
     "name": "stderr",
     "output_type": "stream",
     "text": [
      "Processed prompts: 100%|██████████| 500/500 [01:55<00:00,  4.34it/s, est. speed input: 19698.67 toks/s, output: 239.05 toks/s]"
     ]
    },
    {
     "name": "stdout",
     "output_type": "stream",
     "text": [
      "extract_think количество ошибок:  0\n",
      "extract_sql количество ошибок:  0\n",
      "Закончили генерацию SQL запросов\n",
      "Начали скорр полученных SQL запросов\n"
     ]
    },
    {
     "name": "stderr",
     "output_type": "stream",
     "text": [
      "\n"
     ]
    },
    {
     "name": "stdout",
     "output_type": "stream",
     "text": [
      "Qwen3-8b Mini DEV Финальный результат EX: 53.60\n",
      "Qwen3-8b процент запросов, которые успешно выполнились Mini DEV: 94.60%\n",
      "====================================================================================================\n",
      "\n",
      "\n",
      "Загружаем чаты с данными...\n",
      "Данные успешно загружены\n",
      "Начали генерацию SQL запросов\n"
     ]
    },
    {
     "name": "stderr",
     "output_type": "stream",
     "text": [
      "Processed prompts: 100%|██████████| 500/500 [01:56<00:00,  4.30it/s, est. speed input: 19931.04 toks/s, output: 235.20 toks/s]"
     ]
    },
    {
     "name": "stdout",
     "output_type": "stream",
     "text": [
      "extract_think количество ошибок:  0\n",
      "extract_sql количество ошибок:  0\n",
      "Закончили генерацию SQL запросов\n",
      "Начали скорр полученных SQL запросов\n"
     ]
    },
    {
     "name": "stderr",
     "output_type": "stream",
     "text": [
      "\n"
     ]
    },
    {
     "name": "stdout",
     "output_type": "stream",
     "text": [
      "Qwen3-8b Mini DEV Финальный результат EX: 53.40\n",
      "Qwen3-8b процент запросов, которые успешно выполнились Mini DEV: 93.20%\n",
      "====================================================================================================\n",
      "\n",
      "\n",
      "Загружаем чаты с данными...\n",
      "Данные успешно загружены\n",
      "Начали генерацию SQL запросов\n"
     ]
    },
    {
     "name": "stderr",
     "output_type": "stream",
     "text": [
      "Processed prompts: 100%|██████████| 500/500 [01:55<00:00,  4.31it/s, est. speed input: 19939.68 toks/s, output: 232.21 toks/s]"
     ]
    },
    {
     "name": "stdout",
     "output_type": "stream",
     "text": [
      "extract_think количество ошибок:  0\n",
      "extract_sql количество ошибок:  0\n",
      "Закончили генерацию SQL запросов\n",
      "Начали скорр полученных SQL запросов\n"
     ]
    },
    {
     "name": "stderr",
     "output_type": "stream",
     "text": [
      "\n"
     ]
    },
    {
     "name": "stdout",
     "output_type": "stream",
     "text": [
      "Qwen3-8b Mini DEV Финальный результат EX: 53.20\n",
      "Qwen3-8b процент запросов, которые успешно выполнились Mini DEV: 94.60%\n",
      "====================================================================================================\n",
      "\n",
      "\n",
      "Загружаем чаты с данными...\n",
      "Данные успешно загружены\n",
      "Начали генерацию SQL запросов\n"
     ]
    },
    {
     "name": "stderr",
     "output_type": "stream",
     "text": [
      "Processed prompts: 100%|██████████| 500/500 [02:00<00:00,  4.14it/s, est. speed input: 19063.93 toks/s, output: 231.83 toks/s]"
     ]
    },
    {
     "name": "stdout",
     "output_type": "stream",
     "text": [
      "extract_think количество ошибок:  0\n",
      "extract_sql количество ошибок:  0\n",
      "Закончили генерацию SQL запросов\n",
      "Начали скорр полученных SQL запросов\n"
     ]
    },
    {
     "name": "stderr",
     "output_type": "stream",
     "text": [
      "\n"
     ]
    },
    {
     "name": "stdout",
     "output_type": "stream",
     "text": [
      "Qwen3-8b Mini DEV Финальный результат EX: 51.40\n",
      "Qwen3-8b процент запросов, которые успешно выполнились Mini DEV: 93.40%\n",
      "====================================================================================================\n",
      "\n",
      "\n",
      "Загружаем чаты с данными...\n",
      "Данные успешно загружены\n",
      "Начали генерацию SQL запросов\n"
     ]
    },
    {
     "name": "stderr",
     "output_type": "stream",
     "text": [
      "Processed prompts: 100%|██████████| 500/500 [01:52<00:00,  4.44it/s, est. speed input: 20085.99 toks/s, output: 239.70 toks/s]"
     ]
    },
    {
     "name": "stdout",
     "output_type": "stream",
     "text": [
      "extract_think количество ошибок:  0\n",
      "extract_sql количество ошибок:  0\n",
      "Закончили генерацию SQL запросов\n",
      "Начали скорр полученных SQL запросов\n"
     ]
    },
    {
     "name": "stderr",
     "output_type": "stream",
     "text": [
      "\n"
     ]
    },
    {
     "name": "stdout",
     "output_type": "stream",
     "text": [
      "Qwen3-8b Mini DEV Финальный результат EX: 52.20\n",
      "Qwen3-8b процент запросов, которые успешно выполнились Mini DEV: 95.00%\n",
      "====================================================================================================\n",
      "\n",
      "\n",
      "Загружаем чаты с данными...\n",
      "Данные успешно загружены\n",
      "Начали генерацию SQL запросов\n"
     ]
    },
    {
     "name": "stderr",
     "output_type": "stream",
     "text": [
      "Processed prompts: 100%|██████████| 500/500 [01:56<00:00,  4.28it/s, est. speed input: 19632.27 toks/s, output: 231.37 toks/s]"
     ]
    },
    {
     "name": "stdout",
     "output_type": "stream",
     "text": [
      "extract_think количество ошибок:  0\n",
      "extract_sql количество ошибок:  0\n",
      "Закончили генерацию SQL запросов\n",
      "Начали скорр полученных SQL запросов\n"
     ]
    },
    {
     "name": "stderr",
     "output_type": "stream",
     "text": [
      "\n"
     ]
    },
    {
     "name": "stdout",
     "output_type": "stream",
     "text": [
      "Qwen3-8b Mini DEV Финальный результат EX: 55.20\n",
      "Qwen3-8b процент запросов, которые успешно выполнились Mini DEV: 95.00%\n",
      "====================================================================================================\n",
      "\n",
      "\n",
      "Загружаем чаты с данными...\n",
      "Данные успешно загружены\n",
      "Начали генерацию SQL запросов\n"
     ]
    },
    {
     "name": "stderr",
     "output_type": "stream",
     "text": [
      "Processed prompts: 100%|██████████| 500/500 [01:55<00:00,  4.33it/s, est. speed input: 19880.92 toks/s, output: 232.04 toks/s]"
     ]
    },
    {
     "name": "stdout",
     "output_type": "stream",
     "text": [
      "extract_think количество ошибок:  0\n",
      "extract_sql количество ошибок:  0\n",
      "Закончили генерацию SQL запросов\n",
      "Начали скорр полученных SQL запросов\n"
     ]
    },
    {
     "name": "stderr",
     "output_type": "stream",
     "text": [
      "\n"
     ]
    },
    {
     "name": "stdout",
     "output_type": "stream",
     "text": [
      "Qwen3-8b Mini DEV Финальный результат EX: 55.40\n",
      "Qwen3-8b процент запросов, которые успешно выполнились Mini DEV: 94.40%\n",
      "====================================================================================================\n",
      "\n",
      "\n",
      "Загружаем чаты с данными...\n",
      "Данные успешно загружены\n",
      "Начали генерацию SQL запросов\n"
     ]
    },
    {
     "name": "stderr",
     "output_type": "stream",
     "text": [
      "Processed prompts: 100%|██████████| 500/500 [01:54<00:00,  4.38it/s, est. speed input: 19877.58 toks/s, output: 233.42 toks/s]"
     ]
    },
    {
     "name": "stdout",
     "output_type": "stream",
     "text": [
      "extract_think количество ошибок:  0\n",
      "extract_sql количество ошибок:  0\n",
      "Закончили генерацию SQL запросов\n",
      "Начали скорр полученных SQL запросов\n"
     ]
    },
    {
     "name": "stderr",
     "output_type": "stream",
     "text": [
      "\n"
     ]
    },
    {
     "name": "stdout",
     "output_type": "stream",
     "text": [
      "Qwen3-8b Mini DEV Финальный результат EX: 54.40\n",
      "Qwen3-8b процент запросов, которые успешно выполнились Mini DEV: 94.80%\n",
      "====================================================================================================\n",
      "\n",
      "\n",
      "Загружаем чаты с данными...\n",
      "Данные успешно загружены\n",
      "Начали генерацию SQL запросов\n"
     ]
    },
    {
     "name": "stderr",
     "output_type": "stream",
     "text": [
      "Processed prompts: 100%|██████████| 500/500 [01:52<00:00,  4.43it/s, est. speed input: 20013.62 toks/s, output: 235.40 toks/s]"
     ]
    },
    {
     "name": "stdout",
     "output_type": "stream",
     "text": [
      "extract_think количество ошибок:  0\n",
      "extract_sql количество ошибок:  0\n",
      "Закончили генерацию SQL запросов\n",
      "Начали скорр полученных SQL запросов\n"
     ]
    },
    {
     "name": "stderr",
     "output_type": "stream",
     "text": [
      "\n"
     ]
    },
    {
     "name": "stdout",
     "output_type": "stream",
     "text": [
      "Qwen3-8b Mini DEV Финальный результат EX: 54.20\n",
      "Qwen3-8b процент запросов, которые успешно выполнились Mini DEV: 94.40%\n",
      "====================================================================================================\n",
      "\n",
      "\n",
      "Загружаем чаты с данными...\n",
      "Данные успешно загружены\n",
      "Начали генерацию SQL запросов\n"
     ]
    },
    {
     "name": "stderr",
     "output_type": "stream",
     "text": [
      "Processed prompts: 100%|██████████| 500/500 [01:51<00:00,  4.49it/s, est. speed input: 20251.07 toks/s, output: 241.12 toks/s]"
     ]
    },
    {
     "name": "stdout",
     "output_type": "stream",
     "text": [
      "extract_think количество ошибок:  0\n",
      "extract_sql количество ошибок:  0\n",
      "Закончили генерацию SQL запросов\n",
      "Начали скорр полученных SQL запросов\n"
     ]
    },
    {
     "name": "stderr",
     "output_type": "stream",
     "text": [
      "\n"
     ]
    },
    {
     "name": "stdout",
     "output_type": "stream",
     "text": [
      "Qwen3-8b Mini DEV Финальный результат EX: 53.40\n",
      "Qwen3-8b процент запросов, которые успешно выполнились Mini DEV: 93.20%\n",
      "====================================================================================================\n",
      "\n",
      "\n",
      "Загружаем чаты с данными...\n",
      "Данные успешно загружены\n",
      "Начали генерацию SQL запросов\n"
     ]
    },
    {
     "name": "stderr",
     "output_type": "stream",
     "text": [
      "Processed prompts: 100%|██████████| 500/500 [01:53<00:00,  4.39it/s, est. speed input: 19998.40 toks/s, output: 234.95 toks/s]"
     ]
    },
    {
     "name": "stdout",
     "output_type": "stream",
     "text": [
      "extract_think количество ошибок:  0\n",
      "extract_sql количество ошибок:  0\n",
      "Закончили генерацию SQL запросов\n",
      "Начали скорр полученных SQL запросов\n"
     ]
    },
    {
     "name": "stderr",
     "output_type": "stream",
     "text": [
      "\n"
     ]
    },
    {
     "name": "stdout",
     "output_type": "stream",
     "text": [
      "Qwen3-8b Mini DEV Финальный результат EX: 54.80\n",
      "Qwen3-8b процент запросов, которые успешно выполнились Mini DEV: 94.20%\n",
      "====================================================================================================\n",
      "\n",
      "\n",
      "Загружаем чаты с данными...\n",
      "Данные успешно загружены\n",
      "Начали генерацию SQL запросов\n"
     ]
    },
    {
     "name": "stderr",
     "output_type": "stream",
     "text": [
      "Processed prompts: 100%|██████████| 500/500 [01:52<00:00,  4.44it/s, est. speed input: 20132.06 toks/s, output: 240.65 toks/s]"
     ]
    },
    {
     "name": "stdout",
     "output_type": "stream",
     "text": [
      "extract_think количество ошибок:  0\n",
      "extract_sql количество ошибок:  0\n",
      "Закончили генерацию SQL запросов\n",
      "Начали скорр полученных SQL запросов\n"
     ]
    },
    {
     "name": "stderr",
     "output_type": "stream",
     "text": [
      "\n"
     ]
    },
    {
     "name": "stdout",
     "output_type": "stream",
     "text": [
      "Qwen3-8b Mini DEV Финальный результат EX: 54.80\n",
      "Qwen3-8b процент запросов, которые успешно выполнились Mini DEV: 95.20%\n",
      "====================================================================================================\n",
      "\n",
      "\n",
      "Загружаем чаты с данными...\n",
      "Данные успешно загружены\n",
      "Начали генерацию SQL запросов\n"
     ]
    },
    {
     "name": "stderr",
     "output_type": "stream",
     "text": [
      "Processed prompts: 100%|██████████| 500/500 [01:53<00:00,  4.39it/s, est. speed input: 20070.16 toks/s, output: 237.69 toks/s]"
     ]
    },
    {
     "name": "stdout",
     "output_type": "stream",
     "text": [
      "extract_think количество ошибок:  0\n",
      "extract_sql количество ошибок:  0\n",
      "Закончили генерацию SQL запросов\n",
      "Начали скорр полученных SQL запросов\n"
     ]
    },
    {
     "name": "stderr",
     "output_type": "stream",
     "text": [
      "\n"
     ]
    },
    {
     "name": "stdout",
     "output_type": "stream",
     "text": [
      "Qwen3-8b Mini DEV Финальный результат EX: 54.40\n",
      "Qwen3-8b процент запросов, которые успешно выполнились Mini DEV: 95.20%\n",
      "====================================================================================================\n",
      "\n",
      "\n",
      "Загружаем чаты с данными...\n",
      "Данные успешно загружены\n",
      "Начали генерацию SQL запросов\n"
     ]
    },
    {
     "name": "stderr",
     "output_type": "stream",
     "text": [
      "Processed prompts: 100%|██████████| 500/500 [01:52<00:00,  4.45it/s, est. speed input: 20375.89 toks/s, output: 240.27 toks/s]"
     ]
    },
    {
     "name": "stdout",
     "output_type": "stream",
     "text": [
      "extract_think количество ошибок:  0\n",
      "extract_sql количество ошибок:  0\n",
      "Закончили генерацию SQL запросов\n",
      "Начали скорр полученных SQL запросов\n"
     ]
    },
    {
     "name": "stderr",
     "output_type": "stream",
     "text": [
      "\n"
     ]
    },
    {
     "name": "stdout",
     "output_type": "stream",
     "text": [
      "Qwen3-8b Mini DEV Финальный результат EX: 53.60\n",
      "Qwen3-8b процент запросов, которые успешно выполнились Mini DEV: 94.20%\n",
      "====================================================================================================\n",
      "\n",
      "\n",
      "Загружаем чаты с данными...\n",
      "Данные успешно загружены\n",
      "Начали генерацию SQL запросов\n"
     ]
    },
    {
     "name": "stderr",
     "output_type": "stream",
     "text": [
      "Processed prompts: 100%|██████████| 500/500 [01:51<00:00,  4.50it/s, est. speed input: 20459.24 toks/s, output: 242.71 toks/s]"
     ]
    },
    {
     "name": "stdout",
     "output_type": "stream",
     "text": [
      "extract_think количество ошибок:  0\n",
      "extract_sql количество ошибок:  0\n",
      "Закончили генерацию SQL запросов\n",
      "Начали скорр полученных SQL запросов\n"
     ]
    },
    {
     "name": "stderr",
     "output_type": "stream",
     "text": [
      "\n"
     ]
    },
    {
     "name": "stdout",
     "output_type": "stream",
     "text": [
      "Qwen3-8b Mini DEV Финальный результат EX: 53.60\n",
      "Qwen3-8b процент запросов, которые успешно выполнились Mini DEV: 93.40%\n",
      "====================================================================================================\n",
      "\n",
      "\n",
      "Загружаем чаты с данными...\n",
      "Данные успешно загружены\n",
      "Начали генерацию SQL запросов\n"
     ]
    },
    {
     "name": "stderr",
     "output_type": "stream",
     "text": [
      "Processed prompts: 100%|██████████| 500/500 [01:53<00:00,  4.39it/s, est. speed input: 20031.44 toks/s, output: 241.70 toks/s]"
     ]
    },
    {
     "name": "stdout",
     "output_type": "stream",
     "text": [
      "extract_think количество ошибок:  0\n",
      "extract_sql количество ошибок:  0\n",
      "Закончили генерацию SQL запросов\n",
      "Начали скорр полученных SQL запросов\n"
     ]
    },
    {
     "name": "stderr",
     "output_type": "stream",
     "text": [
      "\n"
     ]
    },
    {
     "name": "stdout",
     "output_type": "stream",
     "text": [
      "Qwen3-8b Mini DEV Финальный результат EX: 54.60\n",
      "Qwen3-8b процент запросов, которые успешно выполнились Mini DEV: 93.80%\n",
      "====================================================================================================\n",
      "\n",
      "\n",
      "Загружаем чаты с данными...\n",
      "Данные успешно загружены\n",
      "Начали генерацию SQL запросов\n"
     ]
    },
    {
     "name": "stderr",
     "output_type": "stream",
     "text": [
      "Processed prompts: 100%|██████████| 500/500 [01:53<00:00,  4.41it/s, est. speed input: 20096.50 toks/s, output: 240.36 toks/s]"
     ]
    },
    {
     "name": "stdout",
     "output_type": "stream",
     "text": [
      "extract_think количество ошибок:  0\n",
      "extract_sql количество ошибок:  0\n",
      "Закончили генерацию SQL запросов\n",
      "Начали скорр полученных SQL запросов\n"
     ]
    },
    {
     "name": "stderr",
     "output_type": "stream",
     "text": [
      "\n"
     ]
    },
    {
     "name": "stdout",
     "output_type": "stream",
     "text": [
      "Qwen3-8b Mini DEV Финальный результат EX: 53.80\n",
      "Qwen3-8b процент запросов, которые успешно выполнились Mini DEV: 93.40%\n",
      "====================================================================================================\n",
      "\n",
      "\n",
      "Загружаем чаты с данными...\n",
      "Данные успешно загружены\n",
      "Начали генерацию SQL запросов\n"
     ]
    },
    {
     "name": "stderr",
     "output_type": "stream",
     "text": [
      "Processed prompts: 100%|██████████| 500/500 [01:53<00:00,  4.41it/s, est. speed input: 20107.59 toks/s, output: 240.08 toks/s]"
     ]
    },
    {
     "name": "stdout",
     "output_type": "stream",
     "text": [
      "extract_think количество ошибок:  0\n",
      "extract_sql количество ошибок:  0\n",
      "Закончили генерацию SQL запросов\n",
      "Начали скорр полученных SQL запросов\n"
     ]
    },
    {
     "name": "stderr",
     "output_type": "stream",
     "text": [
      "\n"
     ]
    },
    {
     "name": "stdout",
     "output_type": "stream",
     "text": [
      "Qwen3-8b Mini DEV Финальный результат EX: 53.60\n",
      "Qwen3-8b процент запросов, которые успешно выполнились Mini DEV: 94.60%\n",
      "====================================================================================================\n",
      "\n",
      "\n",
      "Загружаем чаты с данными...\n",
      "Данные успешно загружены\n",
      "Начали генерацию SQL запросов\n"
     ]
    },
    {
     "name": "stderr",
     "output_type": "stream",
     "text": [
      "Processed prompts: 100%|██████████| 500/500 [02:01<00:00,  4.11it/s, est. speed input: 18721.88 toks/s, output: 231.38 toks/s]"
     ]
    },
    {
     "name": "stdout",
     "output_type": "stream",
     "text": [
      "extract_think количество ошибок:  0\n",
      "extract_sql количество ошибок:  0\n",
      "Закончили генерацию SQL запросов\n",
      "Начали скорр полученных SQL запросов\n"
     ]
    },
    {
     "name": "stderr",
     "output_type": "stream",
     "text": [
      "\n"
     ]
    },
    {
     "name": "stdout",
     "output_type": "stream",
     "text": [
      "Qwen3-8b Mini DEV Финальный результат EX: 55.20\n",
      "Qwen3-8b процент запросов, которые успешно выполнились Mini DEV: 94.60%\n",
      "====================================================================================================\n",
      "\n",
      "\n"
     ]
    }
   ],
   "source": [
    "run_cot_experiment(model,arr_seeds,arr_versions, type_cot,num_observations=num_observations)"
   ]
  },
  {
   "cell_type": "markdown",
   "id": "497ba1a7-9a17-4849-b915-86790c9c7d3b",
   "metadata": {},
   "source": [
    "## 4 наблюдения"
   ]
  },
  {
   "cell_type": "code",
   "execution_count": 3,
   "id": "ce49c4fe-8bad-4a23-82e6-10e210d49af7",
   "metadata": {},
   "outputs": [
    {
     "name": "stdout",
     "output_type": "stream",
     "text": [
      "[349, 833, 372, 771, 406, 788, 912, 588, 847, 146, 172, 334, 879, 692, 868, 806, 638, 645, 113, 438, 945, 532, 708, 117, 340, 362, 817, 845, 749, 503, 272, 817, 321, 479, 861, 193, 363, 516, 989, 782, 246, 181, 150, 322, 331, 979, 153, 18, 157, 40]\n",
      "model: Qwen3-8B\n"
     ]
    }
   ],
   "source": [
    "n= 50\n",
    "arr_seeds = [random.randint(0,1000) for _ in range(n)]\n",
    "arr_versions = [x for x in range(n)]\n",
    "model = \"Qwen3-8B\"\n",
    "num_observations = 4\n",
    "type_cot = 'all_new'\n",
    "print(arr_seeds)\n",
    "print(f\"model: {model}\")"
   ]
  },
  {
   "cell_type": "code",
   "execution_count": 4,
   "id": "7a21f95e-0959-4d46-b161-3dd97031a48f",
   "metadata": {
    "scrolled": true
   },
   "outputs": [
    {
     "name": "stdout",
     "output_type": "stream",
     "text": [
      "Загружаем модель...\n"
     ]
    },
    {
     "name": "stderr",
     "output_type": "stream",
     "text": [
      "Loading safetensors checkpoint shards:   0% Completed | 0/4 [00:00<?, ?it/s]\n",
      "Loading safetensors checkpoint shards:  25% Completed | 1/4 [00:00<00:00,  6.79it/s]\n",
      "Loading safetensors checkpoint shards:  50% Completed | 2/4 [00:00<00:00,  2.61it/s]\n",
      "Loading safetensors checkpoint shards:  75% Completed | 3/4 [00:01<00:00,  2.01it/s]\n",
      "Loading safetensors checkpoint shards: 100% Completed | 4/4 [00:01<00:00,  1.81it/s]\n",
      "Loading safetensors checkpoint shards: 100% Completed | 4/4 [00:01<00:00,  2.03it/s]\n",
      "\u001b[1;36m(VllmWorker rank=0 pid=2989815)\u001b[0;0m \n"
     ]
    },
    {
     "name": "stdout",
     "output_type": "stream",
     "text": [
      "Модель успешно загружена\n",
      "model_config {'model': '/data/home/vkropoti/models/Qwen3-8B', 'tensor_parallel_size': 2, 'max_model_len': 40000, 'max_new_tokens': 1500, 'temperature': 0, 'top_k': 1, 'top_p': 0.8, 'gpu_memory_utilization': 0.9, 'trust_remote_code': False, 'seed': 349}\n",
      "\n",
      "prompts_config {'path_dev_json': '/home/vkropoti/vllm/dev.json', 'path_sql_dbs': '/data/home/vkropoti/sql_data/dev_databases/', 'use_reasoning': False, 'paths_to_cot': ['/data/home/vkropoti/sql_llm_answers/base_reasoning/sql_all_new_Qwen3-8B-reasoning-v0', '/data/home/vkropoti/sql_llm_answers/base_reasoning/sql_all_new_Qwen3-8B-reasoning-v1', '/data/home/vkropoti/sql_llm_answers/base_reasoning/sql_all_new_Qwen3-8B-reasoning-v2', '/data/home/vkropoti/sql_llm_answers/base_reasoning/sql_all_new_Qwen3-8B-reasoning-v3']}\n",
      "\n",
      "save_config {'path_sql_save': '/data/home/vkropoti/sql_llm_answers/base_reasoning/sql_all_Qwen3-8B-cot_all_new_think==False_nobs4-v0', 'path_think_save': None, 'path_sql_answers_save': '/data/home/vkropoti/sql_llm_answers/base_reasoning/sql_predict_Qwen3-8B-cot_all_new_think==False_nobs4-v0', 'path_to_save_scores': '/data/home/vkropoti/sql_llm_answers/base_reasoning/sql_results_Qwen3-8B-cot_all_new_think==False_nobs4-v0', 'path_to_save_executed': '/data/home/vkropoti/sql_llm_answers/base_reasoning/sql_executed_Qwen3-8B-cot_all_new_think==False_nobs4-v0'}\n",
      "\n",
      "Модель успешно загружена\n",
      "Пример промпта\n",
      "<|im_start|>system\n",
      "\n",
      "You are a data science expert. Below, you are provided with a database schema and a natural language question. Your task is to understand the schema and generate a valid SQL query to answer the question.\n",
      "\n",
      "Database Engine: SQLite\n",
      "\n",
      "You will be given an additional analysis of other models, please take it into account, so the plan is\n",
      "1. Analyse given addition analysis from other models (find in which analysis the same and differ, how to use that to answer question)\n",
      "2. Combine best from previous part and think how to solve the problem (analyze tables, take care what columns avaliable in each table and so on, check the syntacsis)\n",
      "3. Create the answers. The answer should be only sql query.\n",
      "\n",
      "Carefully follow the instruction and add <|im_end|> and the end of the final answer<|im_end|>\n",
      "<|im_start|>user\n",
      "Here is addition analysis from other models which can be helpfull, please take this into account but be careful (choose the best from each analysis, combine them to make the most proper answer):\n",
      "\n",
      "model 0 analysis:\n",
      " Reasoning process:\n",
      "\n",
      "Okay, let's tackle this question. The user wants the ratio of customers who pay in EUR against those who pay in CZK. First, I need to figure out which tables and columns are relevant. \n",
      "\n",
      "Looking at the tables, the customers table has a Currency column. That's probably where the payment currency is stored. The question is about counting customers based on their Currency. So, I should focus on the customers table.\n",
      "\n",
      "Wait, but the question mentions \"customers who pay in EUR\" and \"CZK\". The customers table has a Currency column, so I need to count how many customers have Currency as 'EUR' and how many have 'CZK'. Then divide those counts to get the ratio.\n",
      "\n",
      "But wait, the customers table's Currency column might have other values too. So, I need to make sure I only consider those two currencies. Also, since the question is about the ratio, I need to calculate (count of EUR customers) divided by (count of CZK customers).\n",
      "\n",
      "So, the SQL query should select the count of customers where Currency is 'EUR' and the count where it's 'CZK', then divide them. But how to do that in SQLite?\n",
      "\n",
      "I can use a CASE statement in the SELECT clause. For example, count the number of EUR customers by summing 1 where Currency is 'EUR', and similarly for CZK. Then divide the two sums.\n",
      "\n",
      "Wait, but the ratio is count(EUR)/count(CZK). So, the query would be something like:\n",
      "\n",
      "SELECT \n",
      "    SUM(CASE WHEN Currency = 'EUR' THEN 1 ELSE 0 END) * 1.0 / \n",
      "    SUM(CASE WHEN Currency = 'CZK' THEN 1 ELSE 0 END) AS ratio\n",
      "FROM customers;\n",
      "\n",
      "But I need to make sure that the denominator isn't zero to avoid division by zero. However, the problem might assume that there are customers in both currencies. But since the user didn't mention handling that, maybe it's safe to proceed as is.\n",
      "\n",
      "Alternatively, maybe using COUNT with conditions. But COUNT with a condition would count non-null values. Wait, if the Currency is 'EUR', then COUNT(Currency = 'EUR') would count the number of rows where Currency is 'EUR', but in SQLite, the expression inside COUNT would evaluate to 1 or 0. Wait, no, COUNT() counts the number of non-NULL values. So, if I use COUNT(CASE WHEN Currency = 'EUR' THEN 1 END), that would count the number of customers with EUR. Similarly for CZK.\n",
      "\n",
      "So, the query would be:\n",
      "\n",
      "SELECT \n",
      "    COUNT(CASE WHEN Currency = 'EUR' THEN 1 END) * 1.0 / \n",
      "    COUNT(CASE WHEN Currency = 'CZK' THEN 1 END) AS ratio\n",
      "FROM customers;\n",
      "\n",
      "But I need to make sure that the division is done as a float. Multiplying by 1.0 ensures that the division is floating-point. Otherwise, if both counts are integers, the division might result in integer division, which would truncate the decimal part. So, adding * 1.0 is important.\n",
      "\n",
      "Another thing to check: the customers table's Currency column might have NULL values. But the question is about customers who pay in EUR or CZK, so we can assume that those with NULL are not counted. The CASE statements would handle that by returning 0 for those.\n",
      "\n",
      "So the final query should select the ratio using the COUNT with CASE statements. The tables involved are only the customers table. No need to join with other tables since the Currency is directly in the customers table.\n",
      "\n",
      "Wait, but the question says \"customers who pay in EUR\" – does that mean that the payment method is in EUR? But the customers table's Currency column might represent the currency they use, so that's the right place to look. So the query is correct.\n",
      "\n",
      "Thus, the SQL query should be as described.\n",
      "\n",
      "Final answer based om reasoning for this model:\n",
      "\n",
      "\n",
      "```\n",
      "-- Your SQL query\n",
      "SELECT COUNT(CASE WHEN Currency = 'EUR' THEN 1 END) * 1.0 / COUNT(CASE WHEN Currency = 'CZK' THEN 1 END) FROM customers;\n",
      "```\n",
      "\n",
      "model 1 analysis:\n",
      " Reasoning process:\n",
      "\n",
      "Okay, let's see. The user is asking for the ratio of customers who pay in EUR against those who pay in CZK. So first, I need to figure out which tables and columns are relevant here.\n",
      "\n",
      "Looking at the tables provided, the customers table has a Currency column. That's probably where the payment currency information is stored. The question is about customers, so the customers table is the main focus here.\n",
      "\n",
      "Wait, but the transactions_1k table also has a Currency column? No, checking the schema again. The customers table has Currency, but the transactions_1k table doesn't. So the Currency here refers to the customer's preferred currency, maybe? Or perhaps it's the transaction currency. Hmm, but the question is about customers paying in EUR or CZK. So it's likely that the Currency column in the customers table indicates the currency they use. \n",
      "\n",
      "So, the plan is to count how many customers have Currency 'EUR' and how many have 'CZK', then divide the two. But wait, the question says ratio of EUR customers against CZK. So EUR count divided by CZK count.\n",
      "\n",
      "But how to handle if there are customers with other currencies? The question doesn't mention them, so maybe we just ignore them. So the query should count customers where Currency is EUR, count where it's CZK, then compute the ratio.\n",
      "\n",
      "So the SQL would need to select those counts. But how to do that in SQLite. Maybe using CASE statements or SUM with conditions. Alternatively, use COUNT with a condition.\n",
      "\n",
      "So, the query would be something like:\n",
      "\n",
      "SELECT \n",
      "    COUNT(CASE WHEN Currency = 'EUR' THEN 1 END) * 1.0 / COUNT(CASE WHEN Currency = 'CZK' THEN 1 END) AS ratio\n",
      "FROM customers;\n",
      "\n",
      "Wait, but what if there are customers with other currencies? The COUNT(CASE WHEN ...) would ignore them. So that's correct.\n",
      "\n",
      "But the user wants the ratio, so the division. Also, need to make sure that division is floating point, not integer. So multiplying by 1.0 or using CAST.\n",
      "\n",
      "But in SQLite, dividing integers would result in integer division. So to get a float, we need to cast one of them to real. So maybe:\n",
      "\n",
      "COUNT(CASE WHEN Currency = 'EUR' THEN 1 END) * 1.0 / COUNT(CASE WHEN Currency = 'CZK' THEN 1 END)\n",
      "\n",
      "Alternatively, use SUM with 1s. But the CASE approach works.\n",
      "\n",
      "So the final query would be selecting that ratio from the customers table.\n",
      "\n",
      "Wait, but what if there are no customers in CZK? Then division by zero. But the question doesn't mention handling that, so maybe it's assumed that there are some.\n",
      "\n",
      "So the correct SQL is as above. Let me check the tables again to confirm. The customers table has Currency as a column. Yes. So the answer is that query.\n",
      "\n",
      "Final answer based om reasoning for this model:\n",
      "\n",
      "\n",
      "```\n",
      "SELECT COUNT(CASE WHEN Currency = 'EUR' THEN 1 END) * 1.0 / COUNT(CASE WHEN Currency = 'CZK' THEN 1 END) FROM customers;\n",
      "```\n",
      "\n",
      "model 2 analysis:\n",
      " Reasoning process:\n",
      "\n",
      "Okay, I need to find the ratio of customers who pay in EUR against those who pay in CZK. Let's start by checking the tables available. The customers table has a Currency column, which is probably the key here. The question is about the ratio of customers using EUR versus CZK.\n",
      "\n",
      "First, I should count how many customers have Currency set to 'EUR' and how many have it set to 'CZK'. Then, divide the two counts to get the ratio. But wait, the customers table's Currency column might have other values too. However, the question only asks about EUR and CZK, so I can filter for those two.\n",
      "\n",
      "I need to make sure that each customer is counted once, even if they have multiple transactions. Since the question is about customers, not transactions, I should use the CustomerID from the customers table. But wait, the transactions_1k table has a CustomerID as well. However, the customers table's Currency is the relevant column here. So, I should focus on the customers table.\n",
      "\n",
      "Wait, but maybe some customers don't have a Currency entry? The schema shows that Currency is nullable. So, I need to make sure I only consider customers where Currency is either EUR or CZK. Otherwise, those customers would be excluded from the ratio calculation.\n",
      "\n",
      "So, the plan is: count the number of customers with Currency = 'EUR', count those with Currency = 'CZK', then divide the two. But how to do this in a single query?\n",
      "\n",
      "In SQLite, I can use conditional aggregation. For example, using SUM(CASE WHEN Currency = 'EUR' THEN 1 ELSE 0 END) to get the count of EUR customers, and similarly for CZK. Then, divide them.\n",
      "\n",
      "But the question says \"ratio of customers who pay in EUR against customers who pay in CZK\". So, the ratio is EUR_count / CZK_count. However, I need to handle cases where CZK_count is zero to avoid division by zero. But the problem might not require handling that, assuming there are customers in both currencies.\n",
      "\n",
      "So the SQL query would select (count_eur / count_czk) from the customers table, filtering for Currency in ('EUR', 'CZK').\n",
      "\n",
      "Wait, but the customers table's Currency column might have other values. So, I should filter where Currency is either 'EUR' or 'CZK'. Then, count each group.\n",
      "\n",
      "So the query would be:\n",
      "\n",
      "SELECT \n",
      "    SUM(CASE WHEN Currency = 'EUR' THEN 1 ELSE 0 END) * 1.0 / \n",
      "    SUM(CASE WHEN Currency = 'CZK' THEN 1 ELSE 0 END) AS ratio\n",
      "FROM customers\n",
      "WHERE Currency IN ('EUR', 'CZK');\n",
      "\n",
      "But wait, the problem says \"customers who pay in EUR against customers who pay in CZK\". So, the ratio is EUR customers divided by CZK customers. That's what the query does.\n",
      "\n",
      "But I need to make sure that the query only includes customers with Currency as EUR or CZK. The WHERE clause ensures that. Also, using SUM with CASE WHEN gives the counts. The multiplication by 1.0 is to ensure that the division is done as a floating-point operation, not integer division.\n",
      "\n",
      "So this should give the correct ratio. Let me check the tables again. The customers table has the Currency column, so this is correct. There's no need to involve other tables like transactions_1k because the question is about customers' currency, not their transactions.\n",
      "\n",
      "Therefore, the final SQL query is as above.\n",
      "\n",
      "Final answer based om reasoning for this model:\n",
      "\n",
      "\n",
      "```\n",
      "-- Your SQL query\n",
      "SELECT SUM(CASE WHEN Currency = 'EUR' THEN 1 ELSE 0 END) * 1.0 / SUM(CASE WHEN Currency = 'CZK' THEN 1 ELSE 0 END) AS ratio FROM customers WHERE Currency IN ('EUR', 'CZK');\n",
      "```\n",
      "\n",
      "model 3 analysis:\n",
      " Reasoning process:\n",
      "\n",
      "Okay, I need to find the ratio of customers who pay in EUR against those who pay in CZK. Let me look at the tables provided.\n",
      "\n",
      "The customers table has a Currency column. So, I should check that. The question is about customers' payment currencies. So, the customers table is the right place to start.\n",
      "\n",
      "Wait, but the transactions_1k table also has a Price column, but the question is about the currency the customers use. So the Currency column in the customers table is the key here. \n",
      "\n",
      "So, the plan is to count how many customers have Currency 'EUR' and how many have 'CZK'. Then divide the two counts to get the ratio.\n",
      "\n",
      "But I need to make sure that each customer is counted once, even if they have multiple transactions. Because the question is about customers, not transactions. So, I should use the CustomerID from the customers table and group by Currency.\n",
      "\n",
      "So the SQL query would select the count of CustomerID where Currency is 'EUR' divided by the count where Currency is 'CZK'. But how to structure this in SQLite?\n",
      "\n",
      "I can use a CASE statement in the SELECT to count EUR and CZK separately. Or maybe use SUM with conditions. Let me think.\n",
      "\n",
      "Another approach is to use SUM with 1 when Currency is EUR and 0 otherwise for the numerator, and same for CZK. Then divide them.\n",
      "\n",
      "So the query would be:\n",
      "\n",
      "SELECT \n",
      "    SUM(CASE WHEN Currency = 'EUR' THEN 1 ELSE 0 END) / \n",
      "    SUM(CASE WHEN Currency = 'CZK' THEN 1 ELSE 0 END) AS ratio\n",
      "FROM customers;\n",
      "\n",
      "But wait, what if there are customers with other currencies? The question specifies EUR vs CZK, so others should be ignored. The CASE statements will handle that by only counting EUR and CZK.\n",
      "\n",
      "This should give the ratio as required. Let me check if there are any other tables involved. The question is about customers' currencies, so only the customers table is needed. No need to join with other tables. \n",
      "\n",
      "Yes, that's correct. So the final query is as above. Make sure to use the exact column names and table name. The Currency column is in the customers table. So the query is valid.\n",
      "\n",
      "Final answer based om reasoning for this model:\n",
      "\n",
      "\n",
      "```\n",
      "-- Your SQL query\n",
      "SELECT SUM(CASE WHEN Currency = 'EUR' THEN 1 ELSE 0 END) / SUM(CASE WHEN Currency = 'CZK' THEN 1 ELSE 0 END) FROM customers;\n",
      "```\n",
      "\n",
      "\n",
      "here is avaliable tables below\n",
      "\n",
      "\n",
      "Table: customers\n",
      "CREATE TABLE customers\n",
      "(\n",
      "    CustomerID INTEGER UNIQUE     not null\n",
      "        primary key,\n",
      "    Segment    TEXT null,\n",
      "    Currency   TEXT null\n",
      ")\n",
      "\n",
      "Table: gasstations\n",
      "CREATE TABLE gasstations\n",
      "(\n",
      "    GasStationID INTEGER    UNIQUE   not null\n",
      "        primary key,\n",
      "    ChainID      INTEGER          null,\n",
      "    Country      TEXT null,\n",
      "    Segment      TEXT null\n",
      ")\n",
      "\n",
      "Table: products\n",
      "CREATE TABLE products\n",
      "(\n",
      "    ProductID   INTEGER   UNIQUE      not null\n",
      "        primary key,\n",
      "    Description TEXT null\n",
      ")\n",
      "\n",
      "Table: transactions_1k\n",
      "CREATE TABLE \"transactions_1k\"\n",
      "(\n",
      "    TransactionID INTEGER\n",
      "        primary key autoincrement,\n",
      "    Date          DATE,\n",
      "    Time          TEXT,\n",
      "    CustomerID    INTEGER,\n",
      "    CardID        INTEGER,\n",
      "    GasStationID  INTEGER,\n",
      "    ProductID     INTEGER,\n",
      "    Amount        INTEGER,\n",
      "    Price         REAL\n",
      ")\n",
      "\n",
      "Table: sqlite_sequence\n",
      "CREATE TABLE sqlite_sequence(name,seq)\n",
      "\n",
      "Table: yearmonth\n",
      "CREATE TABLE \"yearmonth\"\n",
      "(\n",
      "    CustomerID  INTEGER not null\n",
      "        references customers\n",
      "            on update cascade on delete cascade\n",
      "        references customers,\n",
      "    Date        TEXT    not null,\n",
      "    Consumption REAL,\n",
      "    primary key (Date, CustomerID)\n",
      ")\n",
      "\n",
      "-- Using valid SQLite and understanding External Knowledge, answer the following questions for the tables provided above.\n",
      "-- What is the ratio of customers who pay in EUR against customers who pay in CZK?\n",
      "-- External Knowledge: ratio of customers who pay in EUR against customers who pay in CZK = count(Currency = 'EUR') / count(Currency = 'CZK').\n",
      "\n",
      "\n",
      "Generate the SQLite for the above question after thinking step by step: \n",
      "\n",
      "\n",
      "Instructions:\n",
      "- Make sure you only output the information that is asked in the question. If the question asks for a specific column, make sure to only include that column in the SELECT clause, nothing more.\n",
      "- The generated query should return all of the information asked in the question without any missing or extra information.\n",
      "- Before generating the final SQL query, please think through the steps of how to write the query.\n",
      "- Do not misuse column names, keep them in quotes `\n",
      "- Carefully understand what colomns belond to what tables\n",
      "- Use only initial column names, change names prohibited\n",
      "        \n",
      "Output Format:\n",
      "In your answer, please enclose the generated SQL query in a code block:\n",
      "```\n",
      "-- Your SQL query\n",
      "```    \n",
      "and nothing else, no exaplains, no comments (asnwer should be less than 512 characters)\n",
      "\n",
      "Take a deep breath and think step by step to find the correct SQL query in SQLite format.\n",
      "\n",
      "Question repetition: What is the ratio of customers who pay in EUR against customers who pay in CZK?\n",
      "\n",
      "Be care! Include only what i want it questiona and nothing else<|im_end|>\n",
      "<|im_start|>assistant\n",
      "<think>\n",
      "\n",
      "</think>\n",
      "\n",
      "\n",
      "\n",
      "\n",
      "Максимальное количество токенов в промптах: 21386\n",
      "\n",
      "начинаем скорринг\n",
      "Загружаем чаты с данными...\n",
      "Данные успешно загружены\n",
      "Начали генерацию SQL запросов\n"
     ]
    },
    {
     "name": "stderr",
     "output_type": "stream",
     "text": [
      "Processed prompts: 100%|██████████| 500/500 [01:15<00:00,  6.65it/s, est. speed input: 37191.56 toks/s, output: 369.94 toks/s]"
     ]
    },
    {
     "name": "stdout",
     "output_type": "stream",
     "text": [
      "extract_think количество ошибок:  0\n",
      "extract_sql количество ошибок:  0\n",
      "Закончили генерацию SQL запросов\n",
      "Начали скорр полученных SQL запросов\n"
     ]
    },
    {
     "name": "stderr",
     "output_type": "stream",
     "text": [
      "\n"
     ]
    },
    {
     "name": "stdout",
     "output_type": "stream",
     "text": [
      "Qwen3-8b Mini DEV Финальный результат EX: 55.60\n",
      "Qwen3-8b процент запросов, которые успешно выполнились Mini DEV: 95.00%\n",
      "====================================================================================================\n",
      "\n",
      "\n",
      "Загружаем чаты с данными...\n",
      "Данные успешно загружены\n",
      "Начали генерацию SQL запросов\n"
     ]
    },
    {
     "name": "stderr",
     "output_type": "stream",
     "text": [
      "Processed prompts: 100%|██████████| 500/500 [01:11<00:00,  6.96it/s, est. speed input: 38989.89 toks/s, output: 376.77 toks/s]"
     ]
    },
    {
     "name": "stdout",
     "output_type": "stream",
     "text": [
      "extract_think количество ошибок:  0\n",
      "extract_sql количество ошибок:  0\n",
      "Закончили генерацию SQL запросов\n",
      "Начали скорр полученных SQL запросов\n"
     ]
    },
    {
     "name": "stderr",
     "output_type": "stream",
     "text": [
      "\n"
     ]
    },
    {
     "name": "stdout",
     "output_type": "stream",
     "text": [
      "Qwen3-8b Mini DEV Финальный результат EX: 53.80\n",
      "Qwen3-8b процент запросов, которые успешно выполнились Mini DEV: 94.80%\n",
      "====================================================================================================\n",
      "\n",
      "\n",
      "Загружаем чаты с данными...\n",
      "Данные успешно загружены\n",
      "Начали генерацию SQL запросов\n"
     ]
    },
    {
     "name": "stderr",
     "output_type": "stream",
     "text": [
      "Processed prompts: 100%|██████████| 500/500 [01:11<00:00,  7.03it/s, est. speed input: 39376.12 toks/s, output: 375.37 toks/s]"
     ]
    },
    {
     "name": "stdout",
     "output_type": "stream",
     "text": [
      "extract_think количество ошибок:  0\n",
      "extract_sql количество ошибок:  0\n",
      "Закончили генерацию SQL запросов\n",
      "Начали скорр полученных SQL запросов\n"
     ]
    },
    {
     "name": "stderr",
     "output_type": "stream",
     "text": [
      "\n"
     ]
    },
    {
     "name": "stdout",
     "output_type": "stream",
     "text": [
      "Qwen3-8b Mini DEV Финальный результат EX: 53.80\n",
      "Qwen3-8b процент запросов, которые успешно выполнились Mini DEV: 95.00%\n",
      "====================================================================================================\n",
      "\n",
      "\n",
      "Загружаем чаты с данными...\n",
      "Данные успешно загружены\n",
      "Начали генерацию SQL запросов\n"
     ]
    },
    {
     "name": "stderr",
     "output_type": "stream",
     "text": [
      "Processed prompts: 100%|██████████| 500/500 [01:09<00:00,  7.16it/s, est. speed input: 39941.48 toks/s, output: 383.09 toks/s]"
     ]
    },
    {
     "name": "stdout",
     "output_type": "stream",
     "text": [
      "extract_think количество ошибок:  0\n",
      "extract_sql количество ошибок:  0\n",
      "Закончили генерацию SQL запросов\n",
      "Начали скорр полученных SQL запросов\n"
     ]
    },
    {
     "name": "stderr",
     "output_type": "stream",
     "text": [
      "\n"
     ]
    },
    {
     "name": "stdout",
     "output_type": "stream",
     "text": [
      "Qwen3-8b Mini DEV Финальный результат EX: 54.40\n",
      "Qwen3-8b процент запросов, которые успешно выполнились Mini DEV: 94.40%\n",
      "====================================================================================================\n",
      "\n",
      "\n",
      "Загружаем чаты с данными...\n",
      "Данные успешно загружены\n",
      "Начали генерацию SQL запросов\n"
     ]
    },
    {
     "name": "stderr",
     "output_type": "stream",
     "text": [
      "Processed prompts: 100%|██████████| 500/500 [01:11<00:00,  6.99it/s, est. speed input: 39509.00 toks/s, output: 373.68 toks/s]"
     ]
    },
    {
     "name": "stdout",
     "output_type": "stream",
     "text": [
      "extract_think количество ошибок:  0\n",
      "extract_sql количество ошибок:  0\n",
      "Закончили генерацию SQL запросов\n",
      "Начали скорр полученных SQL запросов\n"
     ]
    },
    {
     "name": "stderr",
     "output_type": "stream",
     "text": [
      "\n"
     ]
    },
    {
     "name": "stdout",
     "output_type": "stream",
     "text": [
      "Qwen3-8b Mini DEV Финальный результат EX: 54.20\n",
      "Qwen3-8b процент запросов, которые успешно выполнились Mini DEV: 95.40%\n",
      "====================================================================================================\n",
      "\n",
      "\n",
      "Загружаем чаты с данными...\n",
      "Данные успешно загружены\n",
      "Начали генерацию SQL запросов\n"
     ]
    },
    {
     "name": "stderr",
     "output_type": "stream",
     "text": [
      "Processed prompts: 100%|██████████| 500/500 [01:12<00:00,  6.92it/s, est. speed input: 39265.63 toks/s, output: 374.42 toks/s]"
     ]
    },
    {
     "name": "stdout",
     "output_type": "stream",
     "text": [
      "extract_think количество ошибок:  0\n",
      "extract_sql количество ошибок:  0\n",
      "Закончили генерацию SQL запросов\n",
      "Начали скорр полученных SQL запросов\n"
     ]
    },
    {
     "name": "stderr",
     "output_type": "stream",
     "text": [
      "\n"
     ]
    },
    {
     "name": "stdout",
     "output_type": "stream",
     "text": [
      "Qwen3-8b Mini DEV Финальный результат EX: 53.40\n",
      "Qwen3-8b процент запросов, которые успешно выполнились Mini DEV: 94.00%\n",
      "====================================================================================================\n",
      "\n",
      "\n",
      "Загружаем чаты с данными...\n",
      "Данные успешно загружены\n",
      "Начали генерацию SQL запросов\n"
     ]
    },
    {
     "name": "stderr",
     "output_type": "stream",
     "text": [
      "Processed prompts: 100%|██████████| 500/500 [01:12<00:00,  6.92it/s, est. speed input: 39217.37 toks/s, output: 375.16 toks/s]"
     ]
    },
    {
     "name": "stdout",
     "output_type": "stream",
     "text": [
      "extract_think количество ошибок:  0\n",
      "extract_sql количество ошибок:  0\n",
      "Закончили генерацию SQL запросов\n",
      "Начали скорр полученных SQL запросов\n"
     ]
    },
    {
     "name": "stderr",
     "output_type": "stream",
     "text": [
      "\n"
     ]
    },
    {
     "name": "stdout",
     "output_type": "stream",
     "text": [
      "Qwen3-8b Mini DEV Финальный результат EX: 54.20\n",
      "Qwen3-8b процент запросов, которые успешно выполнились Mini DEV: 95.00%\n",
      "====================================================================================================\n",
      "\n",
      "\n",
      "Загружаем чаты с данными...\n",
      "Данные успешно загружены\n",
      "Начали генерацию SQL запросов\n"
     ]
    },
    {
     "name": "stderr",
     "output_type": "stream",
     "text": [
      "Processed prompts: 100%|██████████| 500/500 [01:13<00:00,  6.84it/s, est. speed input: 39346.24 toks/s, output: 367.81 toks/s]"
     ]
    },
    {
     "name": "stdout",
     "output_type": "stream",
     "text": [
      "extract_think количество ошибок:  0\n",
      "extract_sql количество ошибок:  0\n",
      "Закончили генерацию SQL запросов\n",
      "Начали скорр полученных SQL запросов\n"
     ]
    },
    {
     "name": "stderr",
     "output_type": "stream",
     "text": [
      "\n"
     ]
    },
    {
     "name": "stdout",
     "output_type": "stream",
     "text": [
      "Qwen3-8b Mini DEV Финальный результат EX: 53.00\n",
      "Qwen3-8b процент запросов, которые успешно выполнились Mini DEV: 93.80%\n",
      "====================================================================================================\n",
      "\n",
      "\n",
      "Загружаем чаты с данными...\n",
      "Данные успешно загружены\n",
      "Начали генерацию SQL запросов\n"
     ]
    },
    {
     "name": "stderr",
     "output_type": "stream",
     "text": [
      "Processed prompts: 100%|██████████| 500/500 [01:10<00:00,  7.06it/s, est. speed input: 39568.32 toks/s, output: 381.05 toks/s]"
     ]
    },
    {
     "name": "stdout",
     "output_type": "stream",
     "text": [
      "extract_think количество ошибок:  0\n",
      "extract_sql количество ошибок:  0\n",
      "Закончили генерацию SQL запросов\n",
      "Начали скорр полученных SQL запросов\n"
     ]
    },
    {
     "name": "stderr",
     "output_type": "stream",
     "text": [
      "\n"
     ]
    },
    {
     "name": "stdout",
     "output_type": "stream",
     "text": [
      "Qwen3-8b Mini DEV Финальный результат EX: 52.80\n",
      "Qwen3-8b процент запросов, которые успешно выполнились Mini DEV: 94.00%\n",
      "====================================================================================================\n",
      "\n",
      "\n",
      "Загружаем чаты с данными...\n",
      "Данные успешно загружены\n",
      "Начали генерацию SQL запросов\n"
     ]
    },
    {
     "name": "stderr",
     "output_type": "stream",
     "text": [
      "Processed prompts: 100%|██████████| 500/500 [01:11<00:00,  7.00it/s, est. speed input: 39480.93 toks/s, output: 374.04 toks/s]"
     ]
    },
    {
     "name": "stdout",
     "output_type": "stream",
     "text": [
      "extract_think количество ошибок:  0\n",
      "extract_sql количество ошибок:  0\n",
      "Закончили генерацию SQL запросов\n",
      "Начали скорр полученных SQL запросов\n"
     ]
    },
    {
     "name": "stderr",
     "output_type": "stream",
     "text": [
      "\n"
     ]
    },
    {
     "name": "stdout",
     "output_type": "stream",
     "text": [
      "Qwen3-8b Mini DEV Финальный результат EX: 53.40\n",
      "Qwen3-8b процент запросов, которые успешно выполнились Mini DEV: 94.60%\n",
      "====================================================================================================\n",
      "\n",
      "\n",
      "Загружаем чаты с данными...\n",
      "Данные успешно загружены\n",
      "Начали генерацию SQL запросов\n"
     ]
    },
    {
     "name": "stderr",
     "output_type": "stream",
     "text": [
      "Processed prompts: 100%|██████████| 500/500 [01:11<00:00,  7.03it/s, est. speed input: 39466.39 toks/s, output: 374.63 toks/s]"
     ]
    },
    {
     "name": "stdout",
     "output_type": "stream",
     "text": [
      "extract_think количество ошибок:  0\n",
      "extract_sql количество ошибок:  0\n",
      "Закончили генерацию SQL запросов\n",
      "Начали скорр полученных SQL запросов\n"
     ]
    },
    {
     "name": "stderr",
     "output_type": "stream",
     "text": [
      "\n"
     ]
    },
    {
     "name": "stdout",
     "output_type": "stream",
     "text": [
      "Qwen3-8b Mini DEV Финальный результат EX: 53.40\n",
      "Qwen3-8b процент запросов, которые успешно выполнились Mini DEV: 94.00%\n",
      "====================================================================================================\n",
      "\n",
      "\n",
      "Загружаем чаты с данными...\n",
      "Данные успешно загружены\n",
      "Начали генерацию SQL запросов\n"
     ]
    },
    {
     "name": "stderr",
     "output_type": "stream",
     "text": [
      "Processed prompts: 100%|██████████| 500/500 [01:10<00:00,  7.07it/s, est. speed input: 39624.86 toks/s, output: 377.37 toks/s]"
     ]
    },
    {
     "name": "stdout",
     "output_type": "stream",
     "text": [
      "extract_think количество ошибок:  0\n",
      "extract_sql количество ошибок:  0\n",
      "Закончили генерацию SQL запросов\n",
      "Начали скорр полученных SQL запросов\n"
     ]
    },
    {
     "name": "stderr",
     "output_type": "stream",
     "text": [
      "\n"
     ]
    },
    {
     "name": "stdout",
     "output_type": "stream",
     "text": [
      "Qwen3-8b Mini DEV Финальный результат EX: 53.40\n",
      "Qwen3-8b процент запросов, которые успешно выполнились Mini DEV: 94.20%\n",
      "====================================================================================================\n",
      "\n",
      "\n",
      "Загружаем чаты с данными...\n",
      "Данные успешно загружены\n",
      "Начали генерацию SQL запросов\n"
     ]
    },
    {
     "name": "stderr",
     "output_type": "stream",
     "text": [
      "Processed prompts: 100%|██████████| 500/500 [01:12<00:00,  6.93it/s, est. speed input: 39165.15 toks/s, output: 371.48 toks/s]"
     ]
    },
    {
     "name": "stdout",
     "output_type": "stream",
     "text": [
      "extract_think количество ошибок:  0\n",
      "extract_sql количество ошибок:  0\n",
      "Закончили генерацию SQL запросов\n",
      "Начали скорр полученных SQL запросов\n"
     ]
    },
    {
     "name": "stderr",
     "output_type": "stream",
     "text": [
      "\n"
     ]
    },
    {
     "name": "stdout",
     "output_type": "stream",
     "text": [
      "Qwen3-8b Mini DEV Финальный результат EX: 54.00\n",
      "Qwen3-8b процент запросов, которые успешно выполнились Mini DEV: 94.40%\n",
      "====================================================================================================\n",
      "\n",
      "\n",
      "Загружаем чаты с данными...\n",
      "Данные успешно загружены\n",
      "Начали генерацию SQL запросов\n"
     ]
    },
    {
     "name": "stderr",
     "output_type": "stream",
     "text": [
      "Processed prompts: 100%|██████████| 500/500 [01:10<00:00,  7.06it/s, est. speed input: 39602.89 toks/s, output: 377.28 toks/s]"
     ]
    },
    {
     "name": "stdout",
     "output_type": "stream",
     "text": [
      "extract_think количество ошибок:  0\n",
      "extract_sql количество ошибок:  0\n",
      "Закончили генерацию SQL запросов\n",
      "Начали скорр полученных SQL запросов\n"
     ]
    },
    {
     "name": "stderr",
     "output_type": "stream",
     "text": [
      "\n"
     ]
    },
    {
     "name": "stdout",
     "output_type": "stream",
     "text": [
      "Qwen3-8b Mini DEV Финальный результат EX: 55.00\n",
      "Qwen3-8b процент запросов, которые успешно выполнились Mini DEV: 95.20%\n",
      "====================================================================================================\n",
      "\n",
      "\n",
      "Загружаем чаты с данными...\n",
      "Данные успешно загружены\n",
      "Начали генерацию SQL запросов\n"
     ]
    },
    {
     "name": "stderr",
     "output_type": "stream",
     "text": [
      "Processed prompts: 100%|██████████| 500/500 [01:10<00:00,  7.08it/s, est. speed input: 39624.49 toks/s, output: 378.18 toks/s]"
     ]
    },
    {
     "name": "stdout",
     "output_type": "stream",
     "text": [
      "extract_think количество ошибок:  0\n",
      "extract_sql количество ошибок:  0\n",
      "Закончили генерацию SQL запросов\n",
      "Начали скорр полученных SQL запросов\n"
     ]
    },
    {
     "name": "stderr",
     "output_type": "stream",
     "text": [
      "\n"
     ]
    },
    {
     "name": "stdout",
     "output_type": "stream",
     "text": [
      "Qwen3-8b Mini DEV Финальный результат EX: 53.20\n",
      "Qwen3-8b процент запросов, которые успешно выполнились Mini DEV: 94.00%\n",
      "====================================================================================================\n",
      "\n",
      "\n",
      "Загружаем чаты с данными...\n",
      "Данные успешно загружены\n",
      "Начали генерацию SQL запросов\n"
     ]
    },
    {
     "name": "stderr",
     "output_type": "stream",
     "text": [
      "Processed prompts: 100%|██████████| 500/500 [01:11<00:00,  6.95it/s, est. speed input: 38699.60 toks/s, output: 380.09 toks/s]"
     ]
    },
    {
     "name": "stdout",
     "output_type": "stream",
     "text": [
      "extract_think количество ошибок:  0\n",
      "extract_sql количество ошибок:  0\n",
      "Закончили генерацию SQL запросов\n",
      "Начали скорр полученных SQL запросов\n"
     ]
    },
    {
     "name": "stderr",
     "output_type": "stream",
     "text": [
      "\n"
     ]
    },
    {
     "name": "stdout",
     "output_type": "stream",
     "text": [
      "Qwen3-8b Mini DEV Финальный результат EX: 53.80\n",
      "Qwen3-8b процент запросов, которые успешно выполнились Mini DEV: 94.00%\n",
      "====================================================================================================\n",
      "\n",
      "\n",
      "Загружаем чаты с данными...\n",
      "Данные успешно загружены\n",
      "Начали генерацию SQL запросов\n"
     ]
    },
    {
     "name": "stderr",
     "output_type": "stream",
     "text": [
      "Processed prompts: 100%|██████████| 500/500 [01:10<00:00,  7.05it/s, est. speed input: 39353.64 toks/s, output: 382.44 toks/s]"
     ]
    },
    {
     "name": "stdout",
     "output_type": "stream",
     "text": [
      "extract_think количество ошибок:  0\n",
      "extract_sql количество ошибок:  0\n",
      "Закончили генерацию SQL запросов\n",
      "Начали скорр полученных SQL запросов\n"
     ]
    },
    {
     "name": "stderr",
     "output_type": "stream",
     "text": [
      "\n"
     ]
    },
    {
     "name": "stdout",
     "output_type": "stream",
     "text": [
      "Qwen3-8b Mini DEV Финальный результат EX: 54.60\n",
      "Qwen3-8b процент запросов, которые успешно выполнились Mini DEV: 94.00%\n",
      "====================================================================================================\n",
      "\n",
      "\n",
      "Загружаем чаты с данными...\n",
      "Данные успешно загружены\n",
      "Начали генерацию SQL запросов\n"
     ]
    },
    {
     "name": "stderr",
     "output_type": "stream",
     "text": [
      "Processed prompts: 100%|██████████| 500/500 [01:10<00:00,  7.07it/s, est. speed input: 39546.70 toks/s, output: 379.71 toks/s]"
     ]
    },
    {
     "name": "stdout",
     "output_type": "stream",
     "text": [
      "extract_think количество ошибок:  0\n",
      "extract_sql количество ошибок:  0\n",
      "Закончили генерацию SQL запросов\n",
      "Начали скорр полученных SQL запросов\n"
     ]
    },
    {
     "name": "stderr",
     "output_type": "stream",
     "text": [
      "\n"
     ]
    },
    {
     "name": "stdout",
     "output_type": "stream",
     "text": [
      "Qwen3-8b Mini DEV Финальный результат EX: 55.00\n",
      "Qwen3-8b процент запросов, которые успешно выполнились Mini DEV: 94.20%\n",
      "====================================================================================================\n",
      "\n",
      "\n",
      "Загружаем чаты с данными...\n",
      "Данные успешно загружены\n",
      "Начали генерацию SQL запросов\n"
     ]
    },
    {
     "name": "stderr",
     "output_type": "stream",
     "text": [
      "Processed prompts: 100%|██████████| 500/500 [01:14<00:00,  6.75it/s, est. speed input: 37761.62 toks/s, output: 375.66 toks/s]"
     ]
    },
    {
     "name": "stdout",
     "output_type": "stream",
     "text": [
      "extract_think количество ошибок:  0\n",
      "extract_sql количество ошибок:  0\n",
      "Закончили генерацию SQL запросов\n",
      "Начали скорр полученных SQL запросов\n"
     ]
    },
    {
     "name": "stderr",
     "output_type": "stream",
     "text": [
      "\n"
     ]
    },
    {
     "name": "stdout",
     "output_type": "stream",
     "text": [
      "Qwen3-8b Mini DEV Финальный результат EX: 55.40\n",
      "Qwen3-8b процент запросов, которые успешно выполнились Mini DEV: 94.20%\n",
      "====================================================================================================\n",
      "\n",
      "\n",
      "Загружаем чаты с данными...\n",
      "Данные успешно загружены\n",
      "Начали генерацию SQL запросов\n"
     ]
    },
    {
     "name": "stderr",
     "output_type": "stream",
     "text": [
      "Processed prompts: 100%|██████████| 500/500 [01:13<00:00,  6.77it/s, est. speed input: 37721.94 toks/s, output: 374.18 toks/s]"
     ]
    },
    {
     "name": "stdout",
     "output_type": "stream",
     "text": [
      "extract_think количество ошибок:  0\n",
      "extract_sql количество ошибок:  0\n",
      "Закончили генерацию SQL запросов\n",
      "Начали скорр полученных SQL запросов\n"
     ]
    },
    {
     "name": "stderr",
     "output_type": "stream",
     "text": [
      "\n"
     ]
    },
    {
     "name": "stdout",
     "output_type": "stream",
     "text": [
      "Qwen3-8b Mini DEV Финальный результат EX: 55.00\n",
      "Qwen3-8b процент запросов, которые успешно выполнились Mini DEV: 94.60%\n",
      "====================================================================================================\n",
      "\n",
      "\n",
      "Загружаем чаты с данными...\n",
      "Данные успешно загружены\n",
      "Начали генерацию SQL запросов\n"
     ]
    },
    {
     "name": "stderr",
     "output_type": "stream",
     "text": [
      "Processed prompts: 100%|██████████| 500/500 [01:09<00:00,  7.15it/s, est. speed input: 39638.54 toks/s, output: 387.08 toks/s]"
     ]
    },
    {
     "name": "stdout",
     "output_type": "stream",
     "text": [
      "extract_think количество ошибок:  0\n",
      "extract_sql количество ошибок:  0\n",
      "Закончили генерацию SQL запросов\n",
      "Начали скорр полученных SQL запросов\n"
     ]
    },
    {
     "name": "stderr",
     "output_type": "stream",
     "text": [
      "\n"
     ]
    },
    {
     "name": "stdout",
     "output_type": "stream",
     "text": [
      "Qwen3-8b Mini DEV Финальный результат EX: 54.00\n",
      "Qwen3-8b процент запросов, которые успешно выполнились Mini DEV: 94.40%\n",
      "====================================================================================================\n",
      "\n",
      "\n",
      "Загружаем чаты с данными...\n",
      "Данные успешно загружены\n",
      "Начали генерацию SQL запросов\n"
     ]
    },
    {
     "name": "stderr",
     "output_type": "stream",
     "text": [
      "Processed prompts: 100%|██████████| 500/500 [01:09<00:00,  7.15it/s, est. speed input: 39517.99 toks/s, output: 387.05 toks/s]"
     ]
    },
    {
     "name": "stdout",
     "output_type": "stream",
     "text": [
      "extract_think количество ошибок:  0\n",
      "extract_sql количество ошибок:  0\n",
      "Закончили генерацию SQL запросов\n",
      "Начали скорр полученных SQL запросов\n"
     ]
    },
    {
     "name": "stderr",
     "output_type": "stream",
     "text": [
      "\n"
     ]
    },
    {
     "name": "stdout",
     "output_type": "stream",
     "text": [
      "Qwen3-8b Mini DEV Финальный результат EX: 54.60\n",
      "Qwen3-8b процент запросов, которые успешно выполнились Mini DEV: 94.60%\n",
      "====================================================================================================\n",
      "\n",
      "\n",
      "Загружаем чаты с данными...\n",
      "Данные успешно загружены\n",
      "Начали генерацию SQL запросов\n"
     ]
    },
    {
     "name": "stderr",
     "output_type": "stream",
     "text": [
      "Processed prompts: 100%|██████████| 500/500 [01:14<00:00,  6.75it/s, est. speed input: 37580.47 toks/s, output: 370.73 toks/s]"
     ]
    },
    {
     "name": "stdout",
     "output_type": "stream",
     "text": [
      "extract_think количество ошибок:  0\n",
      "extract_sql количество ошибок:  0\n",
      "Закончили генерацию SQL запросов\n",
      "Начали скорр полученных SQL запросов\n"
     ]
    },
    {
     "name": "stderr",
     "output_type": "stream",
     "text": [
      "\n"
     ]
    },
    {
     "name": "stdout",
     "output_type": "stream",
     "text": [
      "Qwen3-8b Mini DEV Финальный результат EX: 53.80\n",
      "Qwen3-8b процент запросов, которые успешно выполнились Mini DEV: 94.80%\n",
      "====================================================================================================\n",
      "\n",
      "\n",
      "Загружаем чаты с данными...\n",
      "Данные успешно загружены\n",
      "Начали генерацию SQL запросов\n"
     ]
    },
    {
     "name": "stderr",
     "output_type": "stream",
     "text": [
      "Processed prompts: 100%|██████████| 500/500 [01:11<00:00,  7.01it/s, est. speed input: 39205.80 toks/s, output: 381.27 toks/s]"
     ]
    },
    {
     "name": "stdout",
     "output_type": "stream",
     "text": [
      "extract_think количество ошибок:  0\n",
      "extract_sql количество ошибок:  0\n",
      "Закончили генерацию SQL запросов\n",
      "Начали скорр полученных SQL запросов\n"
     ]
    },
    {
     "name": "stderr",
     "output_type": "stream",
     "text": [
      "\n"
     ]
    },
    {
     "name": "stdout",
     "output_type": "stream",
     "text": [
      "Qwen3-8b Mini DEV Финальный результат EX: 53.40\n",
      "Qwen3-8b процент запросов, которые успешно выполнились Mini DEV: 93.20%\n",
      "====================================================================================================\n",
      "\n",
      "\n",
      "Загружаем чаты с данными...\n",
      "Данные успешно загружены\n",
      "Начали генерацию SQL запросов\n"
     ]
    },
    {
     "name": "stderr",
     "output_type": "stream",
     "text": [
      "Processed prompts: 100%|██████████| 500/500 [01:12<00:00,  6.92it/s, est. speed input: 39477.32 toks/s, output: 371.94 toks/s]"
     ]
    },
    {
     "name": "stdout",
     "output_type": "stream",
     "text": [
      "extract_think количество ошибок:  0\n",
      "extract_sql количество ошибок:  0\n",
      "Закончили генерацию SQL запросов\n",
      "Начали скорр полученных SQL запросов\n"
     ]
    },
    {
     "name": "stderr",
     "output_type": "stream",
     "text": [
      "\n"
     ]
    },
    {
     "name": "stdout",
     "output_type": "stream",
     "text": [
      "Qwen3-8b Mini DEV Финальный результат EX: 54.40\n",
      "Qwen3-8b процент запросов, которые успешно выполнились Mini DEV: 94.40%\n",
      "====================================================================================================\n",
      "\n",
      "\n",
      "Загружаем чаты с данными...\n",
      "Данные успешно загружены\n",
      "Начали генерацию SQL запросов\n"
     ]
    },
    {
     "name": "stderr",
     "output_type": "stream",
     "text": [
      "Processed prompts: 100%|██████████| 500/500 [01:12<00:00,  6.93it/s, est. speed input: 39607.31 toks/s, output: 372.66 toks/s]"
     ]
    },
    {
     "name": "stdout",
     "output_type": "stream",
     "text": [
      "extract_think количество ошибок:  0\n",
      "extract_sql количество ошибок:  0\n",
      "Закончили генерацию SQL запросов\n",
      "Начали скорр полученных SQL запросов\n"
     ]
    },
    {
     "name": "stderr",
     "output_type": "stream",
     "text": [
      "\n"
     ]
    },
    {
     "name": "stdout",
     "output_type": "stream",
     "text": [
      "Qwen3-8b Mini DEV Финальный результат EX: 54.00\n",
      "Qwen3-8b процент запросов, которые успешно выполнились Mini DEV: 92.80%\n",
      "====================================================================================================\n",
      "\n",
      "\n",
      "Загружаем чаты с данными...\n",
      "Данные успешно загружены\n",
      "Начали генерацию SQL запросов\n"
     ]
    },
    {
     "name": "stderr",
     "output_type": "stream",
     "text": [
      "Processed prompts: 100%|██████████| 500/500 [01:13<00:00,  6.85it/s, est. speed input: 39324.69 toks/s, output: 370.20 toks/s]"
     ]
    },
    {
     "name": "stdout",
     "output_type": "stream",
     "text": [
      "extract_think количество ошибок:  0\n",
      "extract_sql количество ошибок:  0\n",
      "Закончили генерацию SQL запросов\n",
      "Начали скорр полученных SQL запросов\n"
     ]
    },
    {
     "name": "stderr",
     "output_type": "stream",
     "text": [
      "\n"
     ]
    },
    {
     "name": "stdout",
     "output_type": "stream",
     "text": [
      "Qwen3-8b Mini DEV Финальный результат EX: 53.80\n",
      "Qwen3-8b процент запросов, которые успешно выполнились Mini DEV: 93.40%\n",
      "====================================================================================================\n",
      "\n",
      "\n",
      "Загружаем чаты с данными...\n",
      "Данные успешно загружены\n",
      "Начали генерацию SQL запросов\n"
     ]
    },
    {
     "name": "stderr",
     "output_type": "stream",
     "text": [
      "Processed prompts: 100%|██████████| 500/500 [01:12<00:00,  6.94it/s, est. speed input: 39487.18 toks/s, output: 375.95 toks/s]"
     ]
    },
    {
     "name": "stdout",
     "output_type": "stream",
     "text": [
      "extract_think количество ошибок:  0\n",
      "extract_sql количество ошибок:  0\n",
      "Закончили генерацию SQL запросов\n",
      "Начали скорр полученных SQL запросов\n"
     ]
    },
    {
     "name": "stderr",
     "output_type": "stream",
     "text": [
      "\n"
     ]
    },
    {
     "name": "stdout",
     "output_type": "stream",
     "text": [
      "Qwen3-8b Mini DEV Финальный результат EX: 53.20\n",
      "Qwen3-8b процент запросов, которые успешно выполнились Mini DEV: 93.20%\n",
      "====================================================================================================\n",
      "\n",
      "\n",
      "Загружаем чаты с данными...\n",
      "Данные успешно загружены\n",
      "Начали генерацию SQL запросов\n"
     ]
    },
    {
     "name": "stderr",
     "output_type": "stream",
     "text": [
      "Processed prompts: 100%|██████████| 500/500 [01:12<00:00,  6.93it/s, est. speed input: 38992.89 toks/s, output: 378.63 toks/s]"
     ]
    },
    {
     "name": "stdout",
     "output_type": "stream",
     "text": [
      "extract_think количество ошибок:  0\n",
      "extract_sql количество ошибок:  0\n",
      "Закончили генерацию SQL запросов\n",
      "Начали скорр полученных SQL запросов\n"
     ]
    },
    {
     "name": "stderr",
     "output_type": "stream",
     "text": [
      "\n"
     ]
    },
    {
     "name": "stdout",
     "output_type": "stream",
     "text": [
      "Qwen3-8b Mini DEV Финальный результат EX: 52.60\n",
      "Qwen3-8b процент запросов, которые успешно выполнились Mini DEV: 93.40%\n",
      "====================================================================================================\n",
      "\n",
      "\n",
      "Загружаем чаты с данными...\n",
      "Данные успешно загружены\n",
      "Начали генерацию SQL запросов\n"
     ]
    },
    {
     "name": "stderr",
     "output_type": "stream",
     "text": [
      "Processed prompts: 100%|██████████| 500/500 [01:11<00:00,  7.02it/s, est. speed input: 39286.52 toks/s, output: 378.57 toks/s]"
     ]
    },
    {
     "name": "stdout",
     "output_type": "stream",
     "text": [
      "extract_think количество ошибок:  0\n",
      "extract_sql количество ошибок:  0\n",
      "Закончили генерацию SQL запросов\n",
      "Начали скорр полученных SQL запросов\n"
     ]
    },
    {
     "name": "stderr",
     "output_type": "stream",
     "text": [
      "\n"
     ]
    },
    {
     "name": "stdout",
     "output_type": "stream",
     "text": [
      "Qwen3-8b Mini DEV Финальный результат EX: 54.80\n",
      "Qwen3-8b процент запросов, которые успешно выполнились Mini DEV: 93.80%\n",
      "====================================================================================================\n",
      "\n",
      "\n",
      "Загружаем чаты с данными...\n",
      "Данные успешно загружены\n",
      "Начали генерацию SQL запросов\n"
     ]
    },
    {
     "name": "stderr",
     "output_type": "stream",
     "text": [
      "Processed prompts: 100%|██████████| 500/500 [01:11<00:00,  7.00it/s, est. speed input: 38904.60 toks/s, output: 381.31 toks/s]"
     ]
    },
    {
     "name": "stdout",
     "output_type": "stream",
     "text": [
      "extract_think количество ошибок:  0\n",
      "extract_sql количество ошибок:  0\n",
      "Закончили генерацию SQL запросов\n",
      "Начали скорр полученных SQL запросов\n"
     ]
    },
    {
     "name": "stderr",
     "output_type": "stream",
     "text": [
      "\n"
     ]
    },
    {
     "name": "stdout",
     "output_type": "stream",
     "text": [
      "Qwen3-8b Mini DEV Финальный результат EX: 53.00\n",
      "Qwen3-8b процент запросов, которые успешно выполнились Mini DEV: 93.80%\n",
      "====================================================================================================\n",
      "\n",
      "\n",
      "Загружаем чаты с данными...\n",
      "Данные успешно загружены\n",
      "Начали генерацию SQL запросов\n"
     ]
    },
    {
     "name": "stderr",
     "output_type": "stream",
     "text": [
      "Processed prompts: 100%|██████████| 500/500 [01:12<00:00,  6.94it/s, est. speed input: 39477.81 toks/s, output: 374.73 toks/s]"
     ]
    },
    {
     "name": "stdout",
     "output_type": "stream",
     "text": [
      "extract_think количество ошибок:  0\n",
      "extract_sql количество ошибок:  0\n",
      "Закончили генерацию SQL запросов\n",
      "Начали скорр полученных SQL запросов\n"
     ]
    },
    {
     "name": "stderr",
     "output_type": "stream",
     "text": [
      "\n"
     ]
    },
    {
     "name": "stdout",
     "output_type": "stream",
     "text": [
      "Qwen3-8b Mini DEV Финальный результат EX: 52.60\n",
      "Qwen3-8b процент запросов, которые успешно выполнились Mini DEV: 93.60%\n",
      "====================================================================================================\n",
      "\n",
      "\n",
      "Загружаем чаты с данными...\n",
      "Данные успешно загружены\n",
      "Начали генерацию SQL запросов\n"
     ]
    },
    {
     "name": "stderr",
     "output_type": "stream",
     "text": [
      "Processed prompts: 100%|██████████| 500/500 [01:11<00:00,  6.95it/s, est. speed input: 39268.67 toks/s, output: 377.59 toks/s]"
     ]
    },
    {
     "name": "stdout",
     "output_type": "stream",
     "text": [
      "extract_think количество ошибок:  0\n",
      "extract_sql количество ошибок:  0\n",
      "Закончили генерацию SQL запросов\n",
      "Начали скорр полученных SQL запросов\n"
     ]
    },
    {
     "name": "stderr",
     "output_type": "stream",
     "text": [
      "\n"
     ]
    },
    {
     "name": "stdout",
     "output_type": "stream",
     "text": [
      "Qwen3-8b Mini DEV Финальный результат EX: 53.00\n",
      "Qwen3-8b процент запросов, которые успешно выполнились Mini DEV: 94.00%\n",
      "====================================================================================================\n",
      "\n",
      "\n",
      "Загружаем чаты с данными...\n",
      "Данные успешно загружены\n",
      "Начали генерацию SQL запросов\n"
     ]
    },
    {
     "name": "stderr",
     "output_type": "stream",
     "text": [
      "Processed prompts: 100%|██████████| 500/500 [01:12<00:00,  6.88it/s, est. speed input: 38872.59 toks/s, output: 374.77 toks/s]"
     ]
    },
    {
     "name": "stdout",
     "output_type": "stream",
     "text": [
      "extract_think количество ошибок:  0\n",
      "extract_sql количество ошибок:  0\n",
      "Закончили генерацию SQL запросов\n",
      "Начали скорр полученных SQL запросов\n"
     ]
    },
    {
     "name": "stderr",
     "output_type": "stream",
     "text": [
      "\n"
     ]
    },
    {
     "name": "stdout",
     "output_type": "stream",
     "text": [
      "Qwen3-8b Mini DEV Финальный результат EX: 53.00\n",
      "Qwen3-8b процент запросов, которые успешно выполнились Mini DEV: 93.60%\n",
      "====================================================================================================\n",
      "\n",
      "\n",
      "Загружаем чаты с данными...\n",
      "Данные успешно загружены\n",
      "Начали генерацию SQL запросов\n"
     ]
    },
    {
     "name": "stderr",
     "output_type": "stream",
     "text": [
      "Processed prompts: 100%|██████████| 500/500 [01:11<00:00,  6.95it/s, est. speed input: 39431.21 toks/s, output: 377.17 toks/s]"
     ]
    },
    {
     "name": "stdout",
     "output_type": "stream",
     "text": [
      "extract_think количество ошибок:  0\n",
      "extract_sql количество ошибок:  0\n",
      "Закончили генерацию SQL запросов\n",
      "Начали скорр полученных SQL запросов\n"
     ]
    },
    {
     "name": "stderr",
     "output_type": "stream",
     "text": [
      "\n"
     ]
    },
    {
     "name": "stdout",
     "output_type": "stream",
     "text": [
      "Qwen3-8b Mini DEV Финальный результат EX: 53.80\n",
      "Qwen3-8b процент запросов, которые успешно выполнились Mini DEV: 94.40%\n",
      "====================================================================================================\n",
      "\n",
      "\n",
      "Загружаем чаты с данными...\n",
      "Данные успешно загружены\n",
      "Начали генерацию SQL запросов\n"
     ]
    },
    {
     "name": "stderr",
     "output_type": "stream",
     "text": [
      "Processed prompts: 100%|██████████| 500/500 [01:10<00:00,  7.05it/s, est. speed input: 39522.70 toks/s, output: 377.56 toks/s]"
     ]
    },
    {
     "name": "stdout",
     "output_type": "stream",
     "text": [
      "extract_think количество ошибок:  0\n",
      "extract_sql количество ошибок:  0\n",
      "Закончили генерацию SQL запросов\n",
      "Начали скорр полученных SQL запросов\n"
     ]
    },
    {
     "name": "stderr",
     "output_type": "stream",
     "text": [
      "\n"
     ]
    },
    {
     "name": "stdout",
     "output_type": "stream",
     "text": [
      "Qwen3-8b Mini DEV Финальный результат EX: 54.20\n",
      "Qwen3-8b процент запросов, которые успешно выполнились Mini DEV: 95.40%\n",
      "====================================================================================================\n",
      "\n",
      "\n",
      "Загружаем чаты с данными...\n",
      "Данные успешно загружены\n",
      "Начали генерацию SQL запросов\n"
     ]
    },
    {
     "name": "stderr",
     "output_type": "stream",
     "text": [
      "Processed prompts: 100%|██████████| 500/500 [01:15<00:00,  6.63it/s, est. speed input: 37282.43 toks/s, output: 365.21 toks/s]"
     ]
    },
    {
     "name": "stdout",
     "output_type": "stream",
     "text": [
      "extract_think количество ошибок:  0\n",
      "extract_sql количество ошибок:  0\n",
      "Закончили генерацию SQL запросов\n",
      "Начали скорр полученных SQL запросов\n"
     ]
    },
    {
     "name": "stderr",
     "output_type": "stream",
     "text": [
      "\n"
     ]
    },
    {
     "name": "stdout",
     "output_type": "stream",
     "text": [
      "Qwen3-8b Mini DEV Финальный результат EX: 54.00\n",
      "Qwen3-8b процент запросов, которые успешно выполнились Mini DEV: 94.40%\n",
      "====================================================================================================\n",
      "\n",
      "\n",
      "Загружаем чаты с данными...\n",
      "Данные успешно загружены\n",
      "Начали генерацию SQL запросов\n"
     ]
    },
    {
     "name": "stderr",
     "output_type": "stream",
     "text": [
      "Processed prompts: 100%|██████████| 500/500 [01:11<00:00,  7.04it/s, est. speed input: 39493.29 toks/s, output: 373.52 toks/s]"
     ]
    },
    {
     "name": "stdout",
     "output_type": "stream",
     "text": [
      "extract_think количество ошибок:  0\n",
      "extract_sql количество ошибок:  0\n",
      "Закончили генерацию SQL запросов\n",
      "Начали скорр полученных SQL запросов\n"
     ]
    },
    {
     "name": "stderr",
     "output_type": "stream",
     "text": [
      "\n"
     ]
    },
    {
     "name": "stdout",
     "output_type": "stream",
     "text": [
      "Qwen3-8b Mini DEV Финальный результат EX: 54.80\n",
      "Qwen3-8b процент запросов, которые успешно выполнились Mini DEV: 96.00%\n",
      "====================================================================================================\n",
      "\n",
      "\n",
      "Загружаем чаты с данными...\n",
      "Данные успешно загружены\n",
      "Начали генерацию SQL запросов\n"
     ]
    },
    {
     "name": "stderr",
     "output_type": "stream",
     "text": [
      "Processed prompts: 100%|██████████| 500/500 [01:11<00:00,  7.01it/s, est. speed input: 39235.56 toks/s, output: 373.93 toks/s]"
     ]
    },
    {
     "name": "stdout",
     "output_type": "stream",
     "text": [
      "extract_think количество ошибок:  0\n",
      "extract_sql количество ошибок:  0\n",
      "Закончили генерацию SQL запросов\n",
      "Начали скорр полученных SQL запросов\n"
     ]
    },
    {
     "name": "stderr",
     "output_type": "stream",
     "text": [
      "\n"
     ]
    },
    {
     "name": "stdout",
     "output_type": "stream",
     "text": [
      "Qwen3-8b Mini DEV Финальный результат EX: 54.80\n",
      "Qwen3-8b процент запросов, которые успешно выполнились Mini DEV: 94.60%\n",
      "====================================================================================================\n",
      "\n",
      "\n",
      "Загружаем чаты с данными...\n",
      "Данные успешно загружены\n",
      "Начали генерацию SQL запросов\n"
     ]
    },
    {
     "name": "stderr",
     "output_type": "stream",
     "text": [
      "Processed prompts: 100%|██████████| 500/500 [01:10<00:00,  7.12it/s, est. speed input: 39443.36 toks/s, output: 380.76 toks/s]"
     ]
    },
    {
     "name": "stdout",
     "output_type": "stream",
     "text": [
      "extract_think количество ошибок:  0\n",
      "extract_sql количество ошибок:  0\n",
      "Закончили генерацию SQL запросов\n",
      "Начали скорр полученных SQL запросов\n"
     ]
    },
    {
     "name": "stderr",
     "output_type": "stream",
     "text": [
      "\n"
     ]
    },
    {
     "name": "stdout",
     "output_type": "stream",
     "text": [
      "Qwen3-8b Mini DEV Финальный результат EX: 53.80\n",
      "Qwen3-8b процент запросов, которые успешно выполнились Mini DEV: 93.60%\n",
      "====================================================================================================\n",
      "\n",
      "\n",
      "Загружаем чаты с данными...\n",
      "Данные успешно загружены\n",
      "Начали генерацию SQL запросов\n"
     ]
    },
    {
     "name": "stderr",
     "output_type": "stream",
     "text": [
      "Processed prompts: 100%|██████████| 500/500 [01:10<00:00,  7.05it/s, est. speed input: 39219.61 toks/s, output: 377.58 toks/s]"
     ]
    },
    {
     "name": "stdout",
     "output_type": "stream",
     "text": [
      "extract_think количество ошибок:  0\n",
      "extract_sql количество ошибок:  0\n",
      "Закончили генерацию SQL запросов\n",
      "Начали скорр полученных SQL запросов\n"
     ]
    },
    {
     "name": "stderr",
     "output_type": "stream",
     "text": [
      "\n"
     ]
    },
    {
     "name": "stdout",
     "output_type": "stream",
     "text": [
      "Qwen3-8b Mini DEV Финальный результат EX: 52.60\n",
      "Qwen3-8b процент запросов, которые успешно выполнились Mini DEV: 93.60%\n",
      "====================================================================================================\n",
      "\n",
      "\n",
      "Загружаем чаты с данными...\n",
      "Данные успешно загружены\n",
      "Начали генерацию SQL запросов\n"
     ]
    },
    {
     "name": "stderr",
     "output_type": "stream",
     "text": [
      "Processed prompts: 100%|██████████| 500/500 [01:10<00:00,  7.08it/s, est. speed input: 39624.85 toks/s, output: 376.73 toks/s]"
     ]
    },
    {
     "name": "stdout",
     "output_type": "stream",
     "text": [
      "extract_think количество ошибок:  0\n",
      "extract_sql количество ошибок:  0\n",
      "Закончили генерацию SQL запросов\n",
      "Начали скорр полученных SQL запросов\n"
     ]
    },
    {
     "name": "stderr",
     "output_type": "stream",
     "text": [
      "\n"
     ]
    },
    {
     "name": "stdout",
     "output_type": "stream",
     "text": [
      "Qwen3-8b Mini DEV Финальный результат EX: 55.00\n",
      "Qwen3-8b процент запросов, которые успешно выполнились Mini DEV: 95.00%\n",
      "====================================================================================================\n",
      "\n",
      "\n",
      "Загружаем чаты с данными...\n",
      "Данные успешно загружены\n",
      "Начали генерацию SQL запросов\n"
     ]
    },
    {
     "name": "stderr",
     "output_type": "stream",
     "text": [
      "Processed prompts: 100%|██████████| 500/500 [01:11<00:00,  6.96it/s, est. speed input: 38880.98 toks/s, output: 377.15 toks/s]"
     ]
    },
    {
     "name": "stdout",
     "output_type": "stream",
     "text": [
      "extract_think количество ошибок:  0\n",
      "extract_sql количество ошибок:  0\n",
      "Закончили генерацию SQL запросов\n",
      "Начали скорр полученных SQL запросов\n"
     ]
    },
    {
     "name": "stderr",
     "output_type": "stream",
     "text": [
      "\n"
     ]
    },
    {
     "name": "stdout",
     "output_type": "stream",
     "text": [
      "Qwen3-8b Mini DEV Финальный результат EX: 55.00\n",
      "Qwen3-8b процент запросов, которые успешно выполнились Mini DEV: 94.60%\n",
      "====================================================================================================\n",
      "\n",
      "\n",
      "Загружаем чаты с данными...\n",
      "Данные успешно загружены\n",
      "Начали генерацию SQL запросов\n"
     ]
    },
    {
     "name": "stderr",
     "output_type": "stream",
     "text": [
      "Processed prompts: 100%|██████████| 500/500 [01:12<00:00,  6.92it/s, est. speed input: 39017.91 toks/s, output: 376.06 toks/s]"
     ]
    },
    {
     "name": "stdout",
     "output_type": "stream",
     "text": [
      "extract_think количество ошибок:  0\n",
      "extract_sql количество ошибок:  0\n",
      "Закончили генерацию SQL запросов\n",
      "Начали скорр полученных SQL запросов\n"
     ]
    },
    {
     "name": "stderr",
     "output_type": "stream",
     "text": [
      "\n"
     ]
    },
    {
     "name": "stdout",
     "output_type": "stream",
     "text": [
      "Qwen3-8b Mini DEV Финальный результат EX: 54.20\n",
      "Qwen3-8b процент запросов, которые успешно выполнились Mini DEV: 94.80%\n",
      "====================================================================================================\n",
      "\n",
      "\n",
      "Загружаем чаты с данными...\n",
      "Данные успешно загружены\n",
      "Начали генерацию SQL запросов\n"
     ]
    },
    {
     "name": "stderr",
     "output_type": "stream",
     "text": [
      "Processed prompts: 100%|██████████| 500/500 [01:11<00:00,  7.03it/s, est. speed input: 39330.65 toks/s, output: 380.26 toks/s]"
     ]
    },
    {
     "name": "stdout",
     "output_type": "stream",
     "text": [
      "extract_think количество ошибок:  0\n",
      "extract_sql количество ошибок:  0\n",
      "Закончили генерацию SQL запросов\n",
      "Начали скорр полученных SQL запросов\n"
     ]
    },
    {
     "name": "stderr",
     "output_type": "stream",
     "text": [
      "\n"
     ]
    },
    {
     "name": "stdout",
     "output_type": "stream",
     "text": [
      "Qwen3-8b Mini DEV Финальный результат EX: 53.40\n",
      "Qwen3-8b процент запросов, которые успешно выполнились Mini DEV: 93.80%\n",
      "====================================================================================================\n",
      "\n",
      "\n",
      "Загружаем чаты с данными...\n",
      "Данные успешно загружены\n",
      "Начали генерацию SQL запросов\n"
     ]
    },
    {
     "name": "stderr",
     "output_type": "stream",
     "text": [
      "Processed prompts: 100%|██████████| 500/500 [01:11<00:00,  6.95it/s, est. speed input: 39036.78 toks/s, output: 380.84 toks/s]"
     ]
    },
    {
     "name": "stdout",
     "output_type": "stream",
     "text": [
      "extract_think количество ошибок:  0\n",
      "extract_sql количество ошибок:  0\n",
      "Закончили генерацию SQL запросов\n",
      "Начали скорр полученных SQL запросов\n"
     ]
    },
    {
     "name": "stderr",
     "output_type": "stream",
     "text": [
      "\n"
     ]
    },
    {
     "name": "stdout",
     "output_type": "stream",
     "text": [
      "Qwen3-8b Mini DEV Финальный результат EX: 54.80\n",
      "Qwen3-8b процент запросов, которые успешно выполнились Mini DEV: 93.80%\n",
      "====================================================================================================\n",
      "\n",
      "\n",
      "Загружаем чаты с данными...\n",
      "Данные успешно загружены\n",
      "Начали генерацию SQL запросов\n"
     ]
    },
    {
     "name": "stderr",
     "output_type": "stream",
     "text": [
      "Processed prompts: 100%|██████████| 500/500 [01:14<00:00,  6.68it/s, est. speed input: 37588.69 toks/s, output: 369.93 toks/s]"
     ]
    },
    {
     "name": "stdout",
     "output_type": "stream",
     "text": [
      "extract_think количество ошибок:  0\n",
      "extract_sql количество ошибок:  0\n",
      "Закончили генерацию SQL запросов\n",
      "Начали скорр полученных SQL запросов\n"
     ]
    },
    {
     "name": "stderr",
     "output_type": "stream",
     "text": [
      "\n"
     ]
    },
    {
     "name": "stdout",
     "output_type": "stream",
     "text": [
      "Qwen3-8b Mini DEV Финальный результат EX: 52.80\n",
      "Qwen3-8b процент запросов, которые успешно выполнились Mini DEV: 93.20%\n",
      "====================================================================================================\n",
      "\n",
      "\n",
      "Загружаем чаты с данными...\n",
      "Данные успешно загружены\n",
      "Начали генерацию SQL запросов\n"
     ]
    },
    {
     "name": "stderr",
     "output_type": "stream",
     "text": [
      "Processed prompts: 100%|██████████| 500/500 [01:10<00:00,  7.05it/s, est. speed input: 39235.21 toks/s, output: 377.83 toks/s]"
     ]
    },
    {
     "name": "stdout",
     "output_type": "stream",
     "text": [
      "extract_think количество ошибок:  0\n",
      "extract_sql количество ошибок:  0\n",
      "Закончили генерацию SQL запросов\n",
      "Начали скорр полученных SQL запросов\n"
     ]
    },
    {
     "name": "stderr",
     "output_type": "stream",
     "text": [
      "\n"
     ]
    },
    {
     "name": "stdout",
     "output_type": "stream",
     "text": [
      "Qwen3-8b Mini DEV Финальный результат EX: 54.00\n",
      "Qwen3-8b процент запросов, которые успешно выполнились Mini DEV: 93.80%\n",
      "====================================================================================================\n",
      "\n",
      "\n",
      "Загружаем чаты с данными...\n",
      "Данные успешно загружены\n",
      "Начали генерацию SQL запросов\n"
     ]
    },
    {
     "name": "stderr",
     "output_type": "stream",
     "text": [
      "Processed prompts: 100%|██████████| 500/500 [01:12<00:00,  6.93it/s, est. speed input: 38950.48 toks/s, output: 379.23 toks/s]"
     ]
    },
    {
     "name": "stdout",
     "output_type": "stream",
     "text": [
      "extract_think количество ошибок:  0\n",
      "extract_sql количество ошибок:  0\n",
      "Закончили генерацию SQL запросов\n",
      "Начали скорр полученных SQL запросов\n"
     ]
    },
    {
     "name": "stderr",
     "output_type": "stream",
     "text": [
      "\n"
     ]
    },
    {
     "name": "stdout",
     "output_type": "stream",
     "text": [
      "Qwen3-8b Mini DEV Финальный результат EX: 53.40\n",
      "Qwen3-8b процент запросов, которые успешно выполнились Mini DEV: 94.40%\n",
      "====================================================================================================\n",
      "\n",
      "\n",
      "Загружаем чаты с данными...\n",
      "Данные успешно загружены\n",
      "Начали генерацию SQL запросов\n"
     ]
    },
    {
     "name": "stderr",
     "output_type": "stream",
     "text": [
      "Processed prompts: 100%|██████████| 500/500 [01:11<00:00,  6.99it/s, est. speed input: 39182.14 toks/s, output: 380.81 toks/s]"
     ]
    },
    {
     "name": "stdout",
     "output_type": "stream",
     "text": [
      "extract_think количество ошибок:  0\n",
      "extract_sql количество ошибок:  0\n",
      "Закончили генерацию SQL запросов\n",
      "Начали скорр полученных SQL запросов\n"
     ]
    },
    {
     "name": "stderr",
     "output_type": "stream",
     "text": [
      "\n"
     ]
    },
    {
     "name": "stdout",
     "output_type": "stream",
     "text": [
      "Qwen3-8b Mini DEV Финальный результат EX: 54.00\n",
      "Qwen3-8b процент запросов, которые успешно выполнились Mini DEV: 94.60%\n",
      "====================================================================================================\n",
      "\n",
      "\n"
     ]
    }
   ],
   "source": [
    "run_cot_experiment(model,arr_seeds,arr_versions, type_cot,num_observations=num_observations)"
   ]
  },
  {
   "cell_type": "markdown",
   "id": "e8321b48-e1ff-41e4-b667-d7196e984c17",
   "metadata": {},
   "source": [
    "## 5 наблюдений"
   ]
  },
  {
   "cell_type": "code",
   "execution_count": 5,
   "id": "613df4ca-270b-4de3-9fb0-a403da4769f9",
   "metadata": {},
   "outputs": [
    {
     "name": "stdout",
     "output_type": "stream",
     "text": [
      "[830, 556, 604, 16, 352, 925, 603, 701, 294, 396, 120, 189, 110, 792, 50, 884, 573, 283, 423, 7, 934, 744, 423, 254, 48, 669, 14, 386, 114, 86, 682, 100, 941, 104, 886, 518, 477, 724, 912, 658, 540, 832, 316, 593, 521, 297, 856, 700, 923, 987]\n",
      "model: Qwen3-8B\n"
     ]
    }
   ],
   "source": [
    "n= 50\n",
    "arr_seeds = [random.randint(0,1000) for _ in range(n)]\n",
    "arr_versions = [x for x in range(n)]\n",
    "model = \"Qwen3-8B\"\n",
    "num_observations = 5\n",
    "type_cot = 'all_new'\n",
    "print(arr_seeds)\n",
    "print(f\"model: {model}\")"
   ]
  },
  {
   "cell_type": "code",
   "execution_count": 6,
   "id": "cecc36c2-8753-43db-a939-82d14892b0f5",
   "metadata": {
    "scrolled": true
   },
   "outputs": [
    {
     "name": "stdout",
     "output_type": "stream",
     "text": [
      "Загружаем модель...\n"
     ]
    },
    {
     "name": "stderr",
     "output_type": "stream",
     "text": [
      "Loading safetensors checkpoint shards:   0% Completed | 0/4 [00:00<?, ?it/s]\n",
      "Loading safetensors checkpoint shards:  25% Completed | 1/4 [00:00<00:00,  7.17it/s]\n",
      "Loading safetensors checkpoint shards:  50% Completed | 2/4 [00:00<00:00,  2.66it/s]\n",
      "Loading safetensors checkpoint shards:  75% Completed | 3/4 [00:01<00:00,  2.02it/s]\n",
      "Loading safetensors checkpoint shards: 100% Completed | 4/4 [00:01<00:00,  1.82it/s]\n",
      "Loading safetensors checkpoint shards: 100% Completed | 4/4 [00:01<00:00,  2.05it/s]\n",
      "\u001b[1;36m(VllmWorker rank=0 pid=3033852)\u001b[0;0m \n"
     ]
    },
    {
     "name": "stdout",
     "output_type": "stream",
     "text": [
      "Модель успешно загружена\n",
      "model_config {'model': '/data/home/vkropoti/models/Qwen3-8B', 'tensor_parallel_size': 2, 'max_model_len': 40000, 'max_new_tokens': 1500, 'temperature': 0, 'top_k': 1, 'top_p': 0.8, 'gpu_memory_utilization': 0.9, 'trust_remote_code': False, 'seed': 830}\n",
      "\n",
      "prompts_config {'path_dev_json': '/home/vkropoti/vllm/dev.json', 'path_sql_dbs': '/data/home/vkropoti/sql_data/dev_databases/', 'use_reasoning': False, 'paths_to_cot': ['/data/home/vkropoti/sql_llm_answers/base_reasoning/sql_all_new_Qwen3-8B-reasoning-v0', '/data/home/vkropoti/sql_llm_answers/base_reasoning/sql_all_new_Qwen3-8B-reasoning-v1', '/data/home/vkropoti/sql_llm_answers/base_reasoning/sql_all_new_Qwen3-8B-reasoning-v2', '/data/home/vkropoti/sql_llm_answers/base_reasoning/sql_all_new_Qwen3-8B-reasoning-v3', '/data/home/vkropoti/sql_llm_answers/base_reasoning/sql_all_new_Qwen3-8B-reasoning-v4']}\n",
      "\n",
      "save_config {'path_sql_save': '/data/home/vkropoti/sql_llm_answers/base_reasoning/sql_all_Qwen3-8B-cot_all_new_think==False_nobs5-v0', 'path_think_save': None, 'path_sql_answers_save': '/data/home/vkropoti/sql_llm_answers/base_reasoning/sql_predict_Qwen3-8B-cot_all_new_think==False_nobs5-v0', 'path_to_save_scores': '/data/home/vkropoti/sql_llm_answers/base_reasoning/sql_results_Qwen3-8B-cot_all_new_think==False_nobs5-v0', 'path_to_save_executed': '/data/home/vkropoti/sql_llm_answers/base_reasoning/sql_executed_Qwen3-8B-cot_all_new_think==False_nobs5-v0'}\n",
      "\n",
      "Модель успешно загружена\n",
      "Пример промпта\n",
      "<|im_start|>system\n",
      "\n",
      "You are a data science expert. Below, you are provided with a database schema and a natural language question. Your task is to understand the schema and generate a valid SQL query to answer the question.\n",
      "\n",
      "Database Engine: SQLite\n",
      "\n",
      "You will be given an additional analysis of other models, please take it into account, so the plan is\n",
      "1. Analyse given addition analysis from other models (find in which analysis the same and differ, how to use that to answer question)\n",
      "2. Combine best from previous part and think how to solve the problem (analyze tables, take care what columns avaliable in each table and so on, check the syntacsis)\n",
      "3. Create the answers. The answer should be only sql query.\n",
      "\n",
      "Carefully follow the instruction and add <|im_end|> and the end of the final answer<|im_end|>\n",
      "<|im_start|>user\n",
      "Here is addition analysis from other models which can be helpfull, please take this into account but be careful (choose the best from each analysis, combine them to make the most proper answer):\n",
      "\n",
      "model 0 analysis:\n",
      " Reasoning process:\n",
      "\n",
      "Okay, let's tackle this question. The user wants the ratio of customers who pay in EUR against those who pay in CZK. First, I need to figure out which tables and columns are relevant. \n",
      "\n",
      "Looking at the tables, the customers table has a Currency column. That's probably where the payment currency is stored. The question is about counting customers based on their Currency. So, I should focus on the customers table.\n",
      "\n",
      "Wait, but the question mentions \"customers who pay in EUR\" and \"CZK\". The customers table has a Currency column, so I need to count how many customers have Currency as 'EUR' and how many have 'CZK'. Then divide those counts to get the ratio.\n",
      "\n",
      "But wait, the customers table's Currency column might have other values too. So, I need to make sure I only consider those two currencies. Also, since the question is about the ratio, I need to calculate (count of EUR customers) divided by (count of CZK customers).\n",
      "\n",
      "So, the SQL query should select the count of customers where Currency is 'EUR' and the count where it's 'CZK', then divide them. But how to do that in SQLite?\n",
      "\n",
      "I can use a CASE statement in the SELECT clause. For example, count the number of EUR customers by summing 1 where Currency is 'EUR', and similarly for CZK. Then divide the two sums.\n",
      "\n",
      "Wait, but the ratio is count(EUR)/count(CZK). So, the query would be something like:\n",
      "\n",
      "SELECT \n",
      "    SUM(CASE WHEN Currency = 'EUR' THEN 1 ELSE 0 END) * 1.0 / \n",
      "    SUM(CASE WHEN Currency = 'CZK' THEN 1 ELSE 0 END) AS ratio\n",
      "FROM customers;\n",
      "\n",
      "But I need to make sure that the denominator isn't zero to avoid division by zero. However, the problem might assume that there are customers in both currencies. But since the user didn't mention handling that, maybe it's safe to proceed as is.\n",
      "\n",
      "Alternatively, maybe using COUNT with conditions. But COUNT with a condition would count non-null values. Wait, if the Currency is 'EUR', then COUNT(Currency = 'EUR') would count the number of rows where Currency is 'EUR', but in SQLite, the expression inside COUNT would evaluate to 1 or 0. Wait, no, COUNT() counts the number of non-NULL values. So, if I use COUNT(CASE WHEN Currency = 'EUR' THEN 1 END), that would count the number of customers with EUR. Similarly for CZK.\n",
      "\n",
      "So, the query would be:\n",
      "\n",
      "SELECT \n",
      "    COUNT(CASE WHEN Currency = 'EUR' THEN 1 END) * 1.0 / \n",
      "    COUNT(CASE WHEN Currency = 'CZK' THEN 1 END) AS ratio\n",
      "FROM customers;\n",
      "\n",
      "But I need to make sure that the division is done as a float. Multiplying by 1.0 ensures that the division is floating-point. Otherwise, if both counts are integers, the division might result in integer division, which would truncate the decimal part. So, adding * 1.0 is important.\n",
      "\n",
      "Another thing to check: the customers table's Currency column might have NULL values. But the question is about customers who pay in EUR or CZK, so we can assume that those with NULL are not counted. The CASE statements would handle that by returning 0 for those.\n",
      "\n",
      "So the final query should select the ratio using the COUNT with CASE statements. The tables involved are only the customers table. No need to join with other tables since the Currency is directly in the customers table.\n",
      "\n",
      "Wait, but the question says \"customers who pay in EUR\" – does that mean that the payment method is in EUR? But the customers table's Currency column might represent the currency they use, so that's the right place to look. So the query is correct.\n",
      "\n",
      "Thus, the SQL query should be as described.\n",
      "\n",
      "Final answer based om reasoning for this model:\n",
      "\n",
      "\n",
      "```\n",
      "-- Your SQL query\n",
      "SELECT COUNT(CASE WHEN Currency = 'EUR' THEN 1 END) * 1.0 / COUNT(CASE WHEN Currency = 'CZK' THEN 1 END) FROM customers;\n",
      "```\n",
      "\n",
      "model 1 analysis:\n",
      " Reasoning process:\n",
      "\n",
      "Okay, let's see. The user is asking for the ratio of customers who pay in EUR against those who pay in CZK. So first, I need to figure out which tables and columns are relevant here.\n",
      "\n",
      "Looking at the tables provided, the customers table has a Currency column. That's probably where the payment currency information is stored. The question is about customers, so the customers table is the main focus here.\n",
      "\n",
      "Wait, but the transactions_1k table also has a Currency column? No, checking the schema again. The customers table has Currency, but the transactions_1k table doesn't. So the Currency here refers to the customer's preferred currency, maybe? Or perhaps it's the transaction currency. Hmm, but the question is about customers paying in EUR or CZK. So it's likely that the Currency column in the customers table indicates the currency they use. \n",
      "\n",
      "So, the plan is to count how many customers have Currency 'EUR' and how many have 'CZK', then divide the two. But wait, the question says ratio of EUR customers against CZK. So EUR count divided by CZK count.\n",
      "\n",
      "But how to handle if there are customers with other currencies? The question doesn't mention them, so maybe we just ignore them. So the query should count customers where Currency is EUR, count where it's CZK, then compute the ratio.\n",
      "\n",
      "So the SQL would need to select those counts. But how to do that in SQLite. Maybe using CASE statements or SUM with conditions. Alternatively, use COUNT with a condition.\n",
      "\n",
      "So, the query would be something like:\n",
      "\n",
      "SELECT \n",
      "    COUNT(CASE WHEN Currency = 'EUR' THEN 1 END) * 1.0 / COUNT(CASE WHEN Currency = 'CZK' THEN 1 END) AS ratio\n",
      "FROM customers;\n",
      "\n",
      "Wait, but what if there are customers with other currencies? The COUNT(CASE WHEN ...) would ignore them. So that's correct.\n",
      "\n",
      "But the user wants the ratio, so the division. Also, need to make sure that division is floating point, not integer. So multiplying by 1.0 or using CAST.\n",
      "\n",
      "But in SQLite, dividing integers would result in integer division. So to get a float, we need to cast one of them to real. So maybe:\n",
      "\n",
      "COUNT(CASE WHEN Currency = 'EUR' THEN 1 END) * 1.0 / COUNT(CASE WHEN Currency = 'CZK' THEN 1 END)\n",
      "\n",
      "Alternatively, use SUM with 1s. But the CASE approach works.\n",
      "\n",
      "So the final query would be selecting that ratio from the customers table.\n",
      "\n",
      "Wait, but what if there are no customers in CZK? Then division by zero. But the question doesn't mention handling that, so maybe it's assumed that there are some.\n",
      "\n",
      "So the correct SQL is as above. Let me check the tables again to confirm. The customers table has Currency as a column. Yes. So the answer is that query.\n",
      "\n",
      "Final answer based om reasoning for this model:\n",
      "\n",
      "\n",
      "```\n",
      "SELECT COUNT(CASE WHEN Currency = 'EUR' THEN 1 END) * 1.0 / COUNT(CASE WHEN Currency = 'CZK' THEN 1 END) FROM customers;\n",
      "```\n",
      "\n",
      "model 2 analysis:\n",
      " Reasoning process:\n",
      "\n",
      "Okay, I need to find the ratio of customers who pay in EUR against those who pay in CZK. Let's start by checking the tables available. The customers table has a Currency column, which is probably the key here. The question is about the ratio of customers using EUR versus CZK.\n",
      "\n",
      "First, I should count how many customers have Currency set to 'EUR' and how many have it set to 'CZK'. Then, divide the two counts to get the ratio. But wait, the customers table's Currency column might have other values too. However, the question only asks about EUR and CZK, so I can filter for those two.\n",
      "\n",
      "I need to make sure that each customer is counted once, even if they have multiple transactions. Since the question is about customers, not transactions, I should use the CustomerID from the customers table. But wait, the transactions_1k table has a CustomerID as well. However, the customers table's Currency is the relevant column here. So, I should focus on the customers table.\n",
      "\n",
      "Wait, but maybe some customers don't have a Currency entry? The schema shows that Currency is nullable. So, I need to make sure I only consider customers where Currency is either EUR or CZK. Otherwise, those customers would be excluded from the ratio calculation.\n",
      "\n",
      "So, the plan is: count the number of customers with Currency = 'EUR', count those with Currency = 'CZK', then divide the two. But how to do this in a single query?\n",
      "\n",
      "In SQLite, I can use conditional aggregation. For example, using SUM(CASE WHEN Currency = 'EUR' THEN 1 ELSE 0 END) to get the count of EUR customers, and similarly for CZK. Then, divide them.\n",
      "\n",
      "But the question says \"ratio of customers who pay in EUR against customers who pay in CZK\". So, the ratio is EUR_count / CZK_count. However, I need to handle cases where CZK_count is zero to avoid division by zero. But the problem might not require handling that, assuming there are customers in both currencies.\n",
      "\n",
      "So the SQL query would select (count_eur / count_czk) from the customers table, filtering for Currency in ('EUR', 'CZK').\n",
      "\n",
      "Wait, but the customers table's Currency column might have other values. So, I should filter where Currency is either 'EUR' or 'CZK'. Then, count each group.\n",
      "\n",
      "So the query would be:\n",
      "\n",
      "SELECT \n",
      "    SUM(CASE WHEN Currency = 'EUR' THEN 1 ELSE 0 END) * 1.0 / \n",
      "    SUM(CASE WHEN Currency = 'CZK' THEN 1 ELSE 0 END) AS ratio\n",
      "FROM customers\n",
      "WHERE Currency IN ('EUR', 'CZK');\n",
      "\n",
      "But wait, the problem says \"customers who pay in EUR against customers who pay in CZK\". So, the ratio is EUR customers divided by CZK customers. That's what the query does.\n",
      "\n",
      "But I need to make sure that the query only includes customers with Currency as EUR or CZK. The WHERE clause ensures that. Also, using SUM with CASE WHEN gives the counts. The multiplication by 1.0 is to ensure that the division is done as a floating-point operation, not integer division.\n",
      "\n",
      "So this should give the correct ratio. Let me check the tables again. The customers table has the Currency column, so this is correct. There's no need to involve other tables like transactions_1k because the question is about customers' currency, not their transactions.\n",
      "\n",
      "Therefore, the final SQL query is as above.\n",
      "\n",
      "Final answer based om reasoning for this model:\n",
      "\n",
      "\n",
      "```\n",
      "-- Your SQL query\n",
      "SELECT SUM(CASE WHEN Currency = 'EUR' THEN 1 ELSE 0 END) * 1.0 / SUM(CASE WHEN Currency = 'CZK' THEN 1 ELSE 0 END) AS ratio FROM customers WHERE Currency IN ('EUR', 'CZK');\n",
      "```\n",
      "\n",
      "model 3 analysis:\n",
      " Reasoning process:\n",
      "\n",
      "Okay, I need to find the ratio of customers who pay in EUR against those who pay in CZK. Let me look at the tables provided.\n",
      "\n",
      "The customers table has a Currency column. So, I should check that. The question is about customers' payment currencies. So, the customers table is the right place to start.\n",
      "\n",
      "Wait, but the transactions_1k table also has a Price column, but the question is about the currency the customers use. So the Currency column in the customers table is the key here. \n",
      "\n",
      "So, the plan is to count how many customers have Currency 'EUR' and how many have 'CZK'. Then divide the two counts to get the ratio.\n",
      "\n",
      "But I need to make sure that each customer is counted once, even if they have multiple transactions. Because the question is about customers, not transactions. So, I should use the CustomerID from the customers table and group by Currency.\n",
      "\n",
      "So the SQL query would select the count of CustomerID where Currency is 'EUR' divided by the count where Currency is 'CZK'. But how to structure this in SQLite?\n",
      "\n",
      "I can use a CASE statement in the SELECT to count EUR and CZK separately. Or maybe use SUM with conditions. Let me think.\n",
      "\n",
      "Another approach is to use SUM with 1 when Currency is EUR and 0 otherwise for the numerator, and same for CZK. Then divide them.\n",
      "\n",
      "So the query would be:\n",
      "\n",
      "SELECT \n",
      "    SUM(CASE WHEN Currency = 'EUR' THEN 1 ELSE 0 END) / \n",
      "    SUM(CASE WHEN Currency = 'CZK' THEN 1 ELSE 0 END) AS ratio\n",
      "FROM customers;\n",
      "\n",
      "But wait, what if there are customers with other currencies? The question specifies EUR vs CZK, so others should be ignored. The CASE statements will handle that by only counting EUR and CZK.\n",
      "\n",
      "This should give the ratio as required. Let me check if there are any other tables involved. The question is about customers' currencies, so only the customers table is needed. No need to join with other tables. \n",
      "\n",
      "Yes, that's correct. So the final query is as above. Make sure to use the exact column names and table name. The Currency column is in the customers table. So the query is valid.\n",
      "\n",
      "Final answer based om reasoning for this model:\n",
      "\n",
      "\n",
      "```\n",
      "-- Your SQL query\n",
      "SELECT SUM(CASE WHEN Currency = 'EUR' THEN 1 ELSE 0 END) / SUM(CASE WHEN Currency = 'CZK' THEN 1 ELSE 0 END) FROM customers;\n",
      "```\n",
      "\n",
      "model 4 analysis:\n",
      " Reasoning process:\n",
      "\n",
      "Okay, I need to find the ratio of customers who pay in EUR against those who pay in CZK. Let's start by understanding the tables involved. The customers table has a Currency column, which is likely the key here. The question is about the ratio of customers using EUR versus CZK. \n",
      "\n",
      "First, I should check if the Currency column in the customers table is the right one. The question mentions customers paying in EUR or CZK, so the Currency field should indicate the currency they use. \n",
      "\n",
      "Next, I need to count how many customers have Currency set to EUR and how many have it set to CZK. Then, divide the EUR count by the CZK count to get the ratio. \n",
      "\n",
      "Wait, but what if there are customers with other currencies? The question doesn't mention them, so maybe we can ignore those. The ratio is specifically between EUR and CZK. \n",
      "\n",
      "So the approach is to count the number of customers where Currency is 'EUR' and the number where it's 'CZK'. Then, divide the two counts. \n",
      "\n",
      "But how to structure the SQL query? I can use a CASE statement or COUNT with conditions. Let me think. \n",
      "\n",
      "Using COUNT with CASE WHEN might be better. For example, COUNT(CASE WHEN Currency = 'EUR' THEN 1 END) as EUR_count, and similarly for CZK. Then, divide them. \n",
      "\n",
      "But in SQLite, division of integers might result in integer division. Wait, but the question says ratio, which could be a float. So maybe cast one of the counts to REAL. \n",
      "\n",
      "So the query would select (count_eur / count_czk) as ratio. \n",
      "\n",
      "Wait, but how to get both counts in a single query? Maybe using subqueries or conditional aggregation. \n",
      "\n",
      "Alternatively, I can use SUM with CASE WHEN. For example:\n",
      "\n",
      "SELECT \n",
      "    SUM(CASE WHEN Currency = 'EUR' THEN 1 ELSE 0 END) * 1.0 / \n",
      "    SUM(CASE WHEN Currency = 'CZK' THEN 1 ELSE 0 END) AS ratio\n",
      "FROM customers;\n",
      "\n",
      "But I need to make sure that the denominator isn't zero. However, the question doesn't mention handling division by zero, so maybe it's safe to assume there are customers in both currencies. \n",
      "\n",
      "Wait, the problem says \"customers who pay in EUR against customers who pay in CZK\". So the customers table's Currency column is the key. \n",
      "\n",
      "So the final query would be to count EUR and CZK customers, then divide. \n",
      "\n",
      "But the question specifies the ratio as count(EUR)/count(CZK). So the SQL should calculate that. \n",
      "\n",
      "Now, checking the tables again. The customers table has Currency as a column, so that's correct. \n",
      "\n",
      "So the SQL query would be:\n",
      "\n",
      "SELECT \n",
      "    COUNT(CASE WHEN Currency = 'EUR' THEN 1 END) * 1.0 / \n",
      "    COUNT(CASE WHEN Currency = 'CZK' THEN 1 END) AS ratio\n",
      "FROM customers;\n",
      "\n",
      "But in SQLite, using COUNT with a CASE statement where the condition is true returns the count of non-null values. So if the CASE returns 1 when Currency is EUR, then COUNT will count those rows. \n",
      "\n",
      "Alternatively, using SUM with 1 when condition is met. \n",
      "\n",
      "But the main idea is to get the counts and divide. \n",
      "\n",
      "So the final SQL should be as above. \n",
      "\n",
      "Wait, but in SQLite, the COUNT function counts non-null values. So if the CASE returns 1 (non-null) when Currency is EUR, then COUNT will count those. \n",
      "\n",
      "Yes, that should work. \n",
      "\n",
      "So the query is correct. Now, I need to make sure that the SQL syntax is correct. \n",
      "\n",
      "Another approach is to use SUM with 1 for each condition. For example:\n",
      "\n",
      "SELECT \n",
      "    SUM(CASE WHEN Currency = 'EUR' THEN 1 ELSE 0 END) * 1.0 / \n",
      "    SUM(CASE WHEN Currency = 'CZK' THEN 1 ELSE 0 END) AS ratio\n",
      "FROM customers;\n",
      "\n",
      "This should give the same result. \n",
      "\n",
      "But since the question specifies the ratio as count(EUR)/count(CZK), the first approach with COUNT(CASE WHEN...) is equivalent. \n",
      "\n",
      "Either way, the query should work. \n",
      "\n",
      "Now, I need to write the SQL query correctly, making sure to use the right column names and syntax. \n",
      "\n",
      "The final answer should be the SQL query that calculates this ratio.\n",
      "\n",
      "Final answer based om reasoning for this model:\n",
      "\n",
      "\n",
      "```\n",
      "-- Your SQL query\n",
      "SELECT COUNT(CASE WHEN Currency = 'EUR' THEN 1 END) * 1.0 / COUNT(CASE WHEN Currency = 'CZK' THEN 1 END) AS ratio FROM customers;\n",
      "```\n",
      "\n",
      "\n",
      "here is avaliable tables below\n",
      "\n",
      "\n",
      "Table: customers\n",
      "CREATE TABLE customers\n",
      "(\n",
      "    CustomerID INTEGER UNIQUE     not null\n",
      "        primary key,\n",
      "    Segment    TEXT null,\n",
      "    Currency   TEXT null\n",
      ")\n",
      "\n",
      "Table: gasstations\n",
      "CREATE TABLE gasstations\n",
      "(\n",
      "    GasStationID INTEGER    UNIQUE   not null\n",
      "        primary key,\n",
      "    ChainID      INTEGER          null,\n",
      "    Country      TEXT null,\n",
      "    Segment      TEXT null\n",
      ")\n",
      "\n",
      "Table: products\n",
      "CREATE TABLE products\n",
      "(\n",
      "    ProductID   INTEGER   UNIQUE      not null\n",
      "        primary key,\n",
      "    Description TEXT null\n",
      ")\n",
      "\n",
      "Table: transactions_1k\n",
      "CREATE TABLE \"transactions_1k\"\n",
      "(\n",
      "    TransactionID INTEGER\n",
      "        primary key autoincrement,\n",
      "    Date          DATE,\n",
      "    Time          TEXT,\n",
      "    CustomerID    INTEGER,\n",
      "    CardID        INTEGER,\n",
      "    GasStationID  INTEGER,\n",
      "    ProductID     INTEGER,\n",
      "    Amount        INTEGER,\n",
      "    Price         REAL\n",
      ")\n",
      "\n",
      "Table: sqlite_sequence\n",
      "CREATE TABLE sqlite_sequence(name,seq)\n",
      "\n",
      "Table: yearmonth\n",
      "CREATE TABLE \"yearmonth\"\n",
      "(\n",
      "    CustomerID  INTEGER not null\n",
      "        references customers\n",
      "            on update cascade on delete cascade\n",
      "        references customers,\n",
      "    Date        TEXT    not null,\n",
      "    Consumption REAL,\n",
      "    primary key (Date, CustomerID)\n",
      ")\n",
      "\n",
      "-- Using valid SQLite and understanding External Knowledge, answer the following questions for the tables provided above.\n",
      "-- What is the ratio of customers who pay in EUR against customers who pay in CZK?\n",
      "-- External Knowledge: ratio of customers who pay in EUR against customers who pay in CZK = count(Currency = 'EUR') / count(Currency = 'CZK').\n",
      "\n",
      "\n",
      "Generate the SQLite for the above question after thinking step by step: \n",
      "\n",
      "\n",
      "Instructions:\n",
      "- Make sure you only output the information that is asked in the question. If the question asks for a specific column, make sure to only include that column in the SELECT clause, nothing more.\n",
      "- The generated query should return all of the information asked in the question without any missing or extra information.\n",
      "- Before generating the final SQL query, please think through the steps of how to write the query.\n",
      "- Do not misuse column names, keep them in quotes `\n",
      "- Carefully understand what colomns belond to what tables\n",
      "- Use only initial column names, change names prohibited\n",
      "        \n",
      "Output Format:\n",
      "In your answer, please enclose the generated SQL query in a code block:\n",
      "```\n",
      "-- Your SQL query\n",
      "```    \n",
      "and nothing else, no exaplains, no comments (asnwer should be less than 512 characters)\n",
      "\n",
      "Take a deep breath and think step by step to find the correct SQL query in SQLite format.\n",
      "\n",
      "Question repetition: What is the ratio of customers who pay in EUR against customers who pay in CZK?\n",
      "\n",
      "Be care! Include only what i want it questiona and nothing else<|im_end|>\n",
      "<|im_start|>assistant\n",
      "<think>\n",
      "\n",
      "</think>\n",
      "\n",
      "\n",
      "\n",
      "\n",
      "Максимальное количество токенов в промптах: 23991\n",
      "\n",
      "начинаем скорринг\n",
      "Загружаем чаты с данными...\n",
      "Данные успешно загружены\n",
      "Начали генерацию SQL запросов\n"
     ]
    },
    {
     "name": "stderr",
     "output_type": "stream",
     "text": [
      "Processed prompts: 100%|██████████| 500/500 [01:26<00:00,  5.81it/s, est. speed input: 38477.09 toks/s, output: 315.39 toks/s]"
     ]
    },
    {
     "name": "stdout",
     "output_type": "stream",
     "text": [
      "extract_think количество ошибок:  0\n",
      "extract_sql количество ошибок:  0\n",
      "Закончили генерацию SQL запросов\n",
      "Начали скорр полученных SQL запросов\n"
     ]
    },
    {
     "name": "stderr",
     "output_type": "stream",
     "text": [
      "\n"
     ]
    },
    {
     "name": "stdout",
     "output_type": "stream",
     "text": [
      "Qwen3-8b Mini DEV Финальный результат EX: 55.00\n",
      "Qwen3-8b процент запросов, которые успешно выполнились Mini DEV: 94.60%\n",
      "====================================================================================================\n",
      "\n",
      "\n",
      "Загружаем чаты с данными...\n",
      "Данные успешно загружены\n",
      "Начали генерацию SQL запросов\n"
     ]
    },
    {
     "name": "stderr",
     "output_type": "stream",
     "text": [
      "Processed prompts: 100%|██████████| 500/500 [01:26<00:00,  5.75it/s, est. speed input: 38278.47 toks/s, output: 307.37 toks/s]"
     ]
    },
    {
     "name": "stdout",
     "output_type": "stream",
     "text": [
      "extract_think количество ошибок:  0\n",
      "extract_sql количество ошибок:  0\n",
      "Закончили генерацию SQL запросов\n",
      "Начали скорр полученных SQL запросов\n"
     ]
    },
    {
     "name": "stderr",
     "output_type": "stream",
     "text": [
      "\n"
     ]
    },
    {
     "name": "stdout",
     "output_type": "stream",
     "text": [
      "Qwen3-8b Mini DEV Финальный результат EX: 53.40\n",
      "Qwen3-8b процент запросов, которые успешно выполнились Mini DEV: 94.80%\n",
      "====================================================================================================\n",
      "\n",
      "\n",
      "Загружаем чаты с данными...\n",
      "Данные успешно загружены\n",
      "Начали генерацию SQL запросов\n"
     ]
    },
    {
     "name": "stderr",
     "output_type": "stream",
     "text": [
      "Processed prompts: 100%|██████████| 500/500 [01:25<00:00,  5.82it/s, est. speed input: 38528.34 toks/s, output: 312.61 toks/s]"
     ]
    },
    {
     "name": "stdout",
     "output_type": "stream",
     "text": [
      "extract_think количество ошибок:  0\n",
      "extract_sql количество ошибок:  0\n",
      "Закончили генерацию SQL запросов\n",
      "Начали скорр полученных SQL запросов\n"
     ]
    },
    {
     "name": "stderr",
     "output_type": "stream",
     "text": [
      "\n"
     ]
    },
    {
     "name": "stdout",
     "output_type": "stream",
     "text": [
      "Qwen3-8b Mini DEV Финальный результат EX: 54.00\n",
      "Qwen3-8b процент запросов, которые успешно выполнились Mini DEV: 94.60%\n",
      "====================================================================================================\n",
      "\n",
      "\n",
      "Загружаем чаты с данными...\n",
      "Данные успешно загружены\n",
      "Начали генерацию SQL запросов\n"
     ]
    },
    {
     "name": "stderr",
     "output_type": "stream",
     "text": [
      "Processed prompts: 100%|██████████| 500/500 [01:27<00:00,  5.73it/s, est. speed input: 38411.75 toks/s, output: 305.56 toks/s]"
     ]
    },
    {
     "name": "stdout",
     "output_type": "stream",
     "text": [
      "extract_think количество ошибок:  0\n",
      "extract_sql количество ошибок:  0\n",
      "Закончили генерацию SQL запросов\n",
      "Начали скорр полученных SQL запросов\n"
     ]
    },
    {
     "name": "stderr",
     "output_type": "stream",
     "text": [
      "\n"
     ]
    },
    {
     "name": "stdout",
     "output_type": "stream",
     "text": [
      "Qwen3-8b Mini DEV Финальный результат EX: 54.40\n",
      "Qwen3-8b процент запросов, которые успешно выполнились Mini DEV: 95.80%\n",
      "====================================================================================================\n",
      "\n",
      "\n",
      "Загружаем чаты с данными...\n",
      "Данные успешно загружены\n",
      "Начали генерацию SQL запросов\n"
     ]
    },
    {
     "name": "stderr",
     "output_type": "stream",
     "text": [
      "Processed prompts: 100%|██████████| 500/500 [01:27<00:00,  5.72it/s, est. speed input: 38298.90 toks/s, output: 308.49 toks/s]"
     ]
    },
    {
     "name": "stdout",
     "output_type": "stream",
     "text": [
      "extract_think количество ошибок:  0\n",
      "extract_sql количество ошибок:  0\n",
      "Закончили генерацию SQL запросов\n",
      "Начали скорр полученных SQL запросов\n"
     ]
    },
    {
     "name": "stderr",
     "output_type": "stream",
     "text": [
      "\n"
     ]
    },
    {
     "name": "stdout",
     "output_type": "stream",
     "text": [
      "Qwen3-8b Mini DEV Финальный результат EX: 53.80\n",
      "Qwen3-8b процент запросов, которые успешно выполнились Mini DEV: 94.20%\n",
      "====================================================================================================\n",
      "\n",
      "\n",
      "Загружаем чаты с данными...\n",
      "Данные успешно загружены\n",
      "Начали генерацию SQL запросов\n"
     ]
    },
    {
     "name": "stderr",
     "output_type": "stream",
     "text": [
      "Processed prompts: 100%|██████████| 500/500 [01:27<00:00,  5.74it/s, est. speed input: 38574.81 toks/s, output: 308.71 toks/s]"
     ]
    },
    {
     "name": "stdout",
     "output_type": "stream",
     "text": [
      "extract_think количество ошибок:  0\n",
      "extract_sql количество ошибок:  0\n",
      "Закончили генерацию SQL запросов\n",
      "Начали скорр полученных SQL запросов\n"
     ]
    },
    {
     "name": "stderr",
     "output_type": "stream",
     "text": [
      "\n"
     ]
    },
    {
     "name": "stdout",
     "output_type": "stream",
     "text": [
      "Qwen3-8b Mini DEV Финальный результат EX: 54.40\n",
      "Qwen3-8b процент запросов, которые успешно выполнились Mini DEV: 94.40%\n",
      "====================================================================================================\n",
      "\n",
      "\n",
      "Загружаем чаты с данными...\n",
      "Данные успешно загружены\n",
      "Начали генерацию SQL запросов\n"
     ]
    },
    {
     "name": "stderr",
     "output_type": "stream",
     "text": [
      "Processed prompts: 100%|██████████| 500/500 [01:28<00:00,  5.66it/s, est. speed input: 38396.97 toks/s, output: 304.09 toks/s]"
     ]
    },
    {
     "name": "stdout",
     "output_type": "stream",
     "text": [
      "extract_think количество ошибок:  0\n",
      "extract_sql количество ошибок:  0\n",
      "Закончили генерацию SQL запросов\n",
      "Начали скорр полученных SQL запросов\n"
     ]
    },
    {
     "name": "stderr",
     "output_type": "stream",
     "text": [
      "\n"
     ]
    },
    {
     "name": "stdout",
     "output_type": "stream",
     "text": [
      "Qwen3-8b Mini DEV Финальный результат EX: 53.60\n",
      "Qwen3-8b процент запросов, которые успешно выполнились Mini DEV: 94.60%\n",
      "====================================================================================================\n",
      "\n",
      "\n",
      "Загружаем чаты с данными...\n",
      "Данные успешно загружены\n",
      "Начали генерацию SQL запросов\n"
     ]
    },
    {
     "name": "stderr",
     "output_type": "stream",
     "text": [
      "Processed prompts: 100%|██████████| 500/500 [01:27<00:00,  5.69it/s, est. speed input: 38327.21 toks/s, output: 303.51 toks/s]"
     ]
    },
    {
     "name": "stdout",
     "output_type": "stream",
     "text": [
      "extract_think количество ошибок:  0\n",
      "extract_sql количество ошибок:  0\n",
      "Закончили генерацию SQL запросов\n",
      "Начали скорр полученных SQL запросов\n"
     ]
    },
    {
     "name": "stderr",
     "output_type": "stream",
     "text": [
      "\n"
     ]
    },
    {
     "name": "stdout",
     "output_type": "stream",
     "text": [
      "Qwen3-8b Mini DEV Финальный результат EX: 53.80\n",
      "Qwen3-8b процент запросов, которые успешно выполнились Mini DEV: 94.20%\n",
      "====================================================================================================\n",
      "\n",
      "\n",
      "Загружаем чаты с данными...\n",
      "Данные успешно загружены\n",
      "Начали генерацию SQL запросов\n"
     ]
    },
    {
     "name": "stderr",
     "output_type": "stream",
     "text": [
      "Processed prompts: 100%|██████████| 500/500 [01:27<00:00,  5.73it/s, est. speed input: 38288.61 toks/s, output: 305.41 toks/s]"
     ]
    },
    {
     "name": "stdout",
     "output_type": "stream",
     "text": [
      "extract_think количество ошибок:  0\n",
      "extract_sql количество ошибок:  0\n",
      "Закончили генерацию SQL запросов\n",
      "Начали скорр полученных SQL запросов\n"
     ]
    },
    {
     "name": "stderr",
     "output_type": "stream",
     "text": [
      "\n"
     ]
    },
    {
     "name": "stdout",
     "output_type": "stream",
     "text": [
      "Qwen3-8b Mini DEV Финальный результат EX: 53.00\n",
      "Qwen3-8b процент запросов, которые успешно выполнились Mini DEV: 93.40%\n",
      "====================================================================================================\n",
      "\n",
      "\n",
      "Загружаем чаты с данными...\n",
      "Данные успешно загружены\n",
      "Начали генерацию SQL запросов\n"
     ]
    },
    {
     "name": "stderr",
     "output_type": "stream",
     "text": [
      "Processed prompts: 100%|██████████| 500/500 [01:26<00:00,  5.75it/s, est. speed input: 38349.48 toks/s, output: 306.08 toks/s]"
     ]
    },
    {
     "name": "stdout",
     "output_type": "stream",
     "text": [
      "extract_think количество ошибок:  0\n",
      "extract_sql количество ошибок:  0\n",
      "Закончили генерацию SQL запросов\n",
      "Начали скорр полученных SQL запросов\n"
     ]
    },
    {
     "name": "stderr",
     "output_type": "stream",
     "text": [
      "\n"
     ]
    },
    {
     "name": "stdout",
     "output_type": "stream",
     "text": [
      "Qwen3-8b Mini DEV Финальный результат EX: 53.80\n",
      "Qwen3-8b процент запросов, которые успешно выполнились Mini DEV: 95.40%\n",
      "====================================================================================================\n",
      "\n",
      "\n",
      "Загружаем чаты с данными...\n",
      "Данные успешно загружены\n",
      "Начали генерацию SQL запросов\n"
     ]
    },
    {
     "name": "stderr",
     "output_type": "stream",
     "text": [
      "Processed prompts: 100%|██████████| 500/500 [01:27<00:00,  5.69it/s, est. speed input: 38256.81 toks/s, output: 305.88 toks/s]"
     ]
    },
    {
     "name": "stdout",
     "output_type": "stream",
     "text": [
      "extract_think количество ошибок:  0\n",
      "extract_sql количество ошибок:  0\n",
      "Закончили генерацию SQL запросов\n",
      "Начали скорр полученных SQL запросов\n"
     ]
    },
    {
     "name": "stderr",
     "output_type": "stream",
     "text": [
      "\n"
     ]
    },
    {
     "name": "stdout",
     "output_type": "stream",
     "text": [
      "Qwen3-8b Mini DEV Финальный результат EX: 54.20\n",
      "Qwen3-8b процент запросов, которые успешно выполнились Mini DEV: 93.60%\n",
      "====================================================================================================\n",
      "\n",
      "\n",
      "Загружаем чаты с данными...\n",
      "Данные успешно загружены\n",
      "Начали генерацию SQL запросов\n"
     ]
    },
    {
     "name": "stderr",
     "output_type": "stream",
     "text": [
      "Processed prompts: 100%|██████████| 500/500 [01:26<00:00,  5.75it/s, est. speed input: 38151.19 toks/s, output: 308.24 toks/s]"
     ]
    },
    {
     "name": "stdout",
     "output_type": "stream",
     "text": [
      "extract_think количество ошибок:  0\n",
      "extract_sql количество ошибок:  0\n",
      "Закончили генерацию SQL запросов\n",
      "Начали скорр полученных SQL запросов\n"
     ]
    },
    {
     "name": "stderr",
     "output_type": "stream",
     "text": [
      "\n"
     ]
    },
    {
     "name": "stdout",
     "output_type": "stream",
     "text": [
      "Qwen3-8b Mini DEV Финальный результат EX: 53.60\n",
      "Qwen3-8b процент запросов, которые успешно выполнились Mini DEV: 95.60%\n",
      "====================================================================================================\n",
      "\n",
      "\n",
      "Загружаем чаты с данными...\n",
      "Данные успешно загружены\n",
      "Начали генерацию SQL запросов\n"
     ]
    },
    {
     "name": "stderr",
     "output_type": "stream",
     "text": [
      "Processed prompts: 100%|██████████| 500/500 [01:27<00:00,  5.73it/s, est. speed input: 38350.12 toks/s, output: 305.14 toks/s]"
     ]
    },
    {
     "name": "stdout",
     "output_type": "stream",
     "text": [
      "extract_think количество ошибок:  0\n",
      "extract_sql количество ошибок:  0\n",
      "Закончили генерацию SQL запросов\n",
      "Начали скорр полученных SQL запросов\n"
     ]
    },
    {
     "name": "stderr",
     "output_type": "stream",
     "text": [
      "\n"
     ]
    },
    {
     "name": "stdout",
     "output_type": "stream",
     "text": [
      "Qwen3-8b Mini DEV Финальный результат EX: 55.40\n",
      "Qwen3-8b процент запросов, которые успешно выполнились Mini DEV: 94.60%\n",
      "====================================================================================================\n",
      "\n",
      "\n",
      "Загружаем чаты с данными...\n",
      "Данные успешно загружены\n",
      "Начали генерацию SQL запросов\n"
     ]
    },
    {
     "name": "stderr",
     "output_type": "stream",
     "text": [
      "Processed prompts: 100%|██████████| 500/500 [01:26<00:00,  5.80it/s, est. speed input: 38427.80 toks/s, output: 306.96 toks/s]"
     ]
    },
    {
     "name": "stdout",
     "output_type": "stream",
     "text": [
      "extract_think количество ошибок:  0\n",
      "extract_sql количество ошибок:  0\n",
      "Закончили генерацию SQL запросов\n",
      "Начали скорр полученных SQL запросов\n"
     ]
    },
    {
     "name": "stderr",
     "output_type": "stream",
     "text": [
      "\n"
     ]
    },
    {
     "name": "stdout",
     "output_type": "stream",
     "text": [
      "Qwen3-8b Mini DEV Финальный результат EX: 53.80\n",
      "Qwen3-8b процент запросов, которые успешно выполнились Mini DEV: 95.40%\n",
      "====================================================================================================\n",
      "\n",
      "\n",
      "Загружаем чаты с данными...\n",
      "Данные успешно загружены\n",
      "Начали генерацию SQL запросов\n"
     ]
    },
    {
     "name": "stderr",
     "output_type": "stream",
     "text": [
      "Processed prompts: 100%|██████████| 500/500 [01:29<00:00,  5.61it/s, est. speed input: 37422.86 toks/s, output: 309.17 toks/s]"
     ]
    },
    {
     "name": "stdout",
     "output_type": "stream",
     "text": [
      "extract_think количество ошибок:  0\n",
      "extract_sql количество ошибок:  0\n",
      "Закончили генерацию SQL запросов\n",
      "Начали скорр полученных SQL запросов\n"
     ]
    },
    {
     "name": "stderr",
     "output_type": "stream",
     "text": [
      "\n"
     ]
    },
    {
     "name": "stdout",
     "output_type": "stream",
     "text": [
      "Qwen3-8b Mini DEV Финальный результат EX: 54.00\n",
      "Qwen3-8b процент запросов, которые успешно выполнились Mini DEV: 94.40%\n",
      "====================================================================================================\n",
      "\n",
      "\n",
      "Загружаем чаты с данными...\n",
      "Данные успешно загружены\n",
      "Начали генерацию SQL запросов\n"
     ]
    },
    {
     "name": "stderr",
     "output_type": "stream",
     "text": [
      "Processed prompts: 100%|██████████| 500/500 [01:28<00:00,  5.66it/s, est. speed input: 37357.98 toks/s, output: 309.34 toks/s]"
     ]
    },
    {
     "name": "stdout",
     "output_type": "stream",
     "text": [
      "extract_think количество ошибок:  0\n",
      "extract_sql количество ошибок:  0\n",
      "Закончили генерацию SQL запросов\n",
      "Начали скорр полученных SQL запросов\n"
     ]
    },
    {
     "name": "stderr",
     "output_type": "stream",
     "text": [
      "\n"
     ]
    },
    {
     "name": "stdout",
     "output_type": "stream",
     "text": [
      "Qwen3-8b Mini DEV Финальный результат EX: 56.00\n",
      "Qwen3-8b процент запросов, которые успешно выполнились Mini DEV: 94.80%\n",
      "====================================================================================================\n",
      "\n",
      "\n",
      "Загружаем чаты с данными...\n",
      "Данные успешно загружены\n",
      "Начали генерацию SQL запросов\n"
     ]
    },
    {
     "name": "stderr",
     "output_type": "stream",
     "text": [
      "Processed prompts: 100%|██████████| 500/500 [01:30<00:00,  5.53it/s, est. speed input: 36711.23 toks/s, output: 306.05 toks/s]"
     ]
    },
    {
     "name": "stdout",
     "output_type": "stream",
     "text": [
      "extract_think количество ошибок:  0\n",
      "extract_sql количество ошибок:  0\n",
      "Закончили генерацию SQL запросов\n",
      "Начали скорр полученных SQL запросов\n"
     ]
    },
    {
     "name": "stderr",
     "output_type": "stream",
     "text": [
      "\n"
     ]
    },
    {
     "name": "stdout",
     "output_type": "stream",
     "text": [
      "Qwen3-8b Mini DEV Финальный результат EX: 54.80\n",
      "Qwen3-8b процент запросов, которые успешно выполнились Mini DEV: 93.20%\n",
      "====================================================================================================\n",
      "\n",
      "\n",
      "Загружаем чаты с данными...\n",
      "Данные успешно загружены\n",
      "Начали генерацию SQL запросов\n"
     ]
    },
    {
     "name": "stderr",
     "output_type": "stream",
     "text": [
      "Processed prompts: 100%|██████████| 500/500 [01:27<00:00,  5.74it/s, est. speed input: 37931.30 toks/s, output: 312.11 toks/s]"
     ]
    },
    {
     "name": "stdout",
     "output_type": "stream",
     "text": [
      "extract_think количество ошибок:  0\n",
      "extract_sql количество ошибок:  0\n",
      "Закончили генерацию SQL запросов\n",
      "Начали скорр полученных SQL запросов\n"
     ]
    },
    {
     "name": "stderr",
     "output_type": "stream",
     "text": [
      "\n"
     ]
    },
    {
     "name": "stdout",
     "output_type": "stream",
     "text": [
      "Qwen3-8b Mini DEV Финальный результат EX: 55.80\n",
      "Qwen3-8b процент запросов, которые успешно выполнились Mini DEV: 94.00%\n",
      "====================================================================================================\n",
      "\n",
      "\n",
      "Загружаем чаты с данными...\n",
      "Данные успешно загружены\n",
      "Начали генерацию SQL запросов\n"
     ]
    },
    {
     "name": "stderr",
     "output_type": "stream",
     "text": [
      "Processed prompts: 100%|██████████| 500/500 [01:28<00:00,  5.65it/s, est. speed input: 37485.07 toks/s, output: 313.20 toks/s]"
     ]
    },
    {
     "name": "stdout",
     "output_type": "stream",
     "text": [
      "extract_think количество ошибок:  0\n",
      "extract_sql количество ошибок:  0\n",
      "Закончили генерацию SQL запросов\n",
      "Начали скорр полученных SQL запросов\n"
     ]
    },
    {
     "name": "stderr",
     "output_type": "stream",
     "text": [
      "\n"
     ]
    },
    {
     "name": "stdout",
     "output_type": "stream",
     "text": [
      "Qwen3-8b Mini DEV Финальный результат EX: 53.60\n",
      "Qwen3-8b процент запросов, которые успешно выполнились Mini DEV: 93.80%\n",
      "====================================================================================================\n",
      "\n",
      "\n",
      "Загружаем чаты с данными...\n",
      "Данные успешно загружены\n",
      "Начали генерацию SQL запросов\n"
     ]
    },
    {
     "name": "stderr",
     "output_type": "stream",
     "text": [
      "Processed prompts: 100%|██████████| 500/500 [01:27<00:00,  5.74it/s, est. speed input: 37804.23 toks/s, output: 313.98 toks/s]"
     ]
    },
    {
     "name": "stdout",
     "output_type": "stream",
     "text": [
      "extract_think количество ошибок:  0\n",
      "extract_sql количество ошибок:  0\n",
      "Закончили генерацию SQL запросов\n",
      "Начали скорр полученных SQL запросов\n"
     ]
    },
    {
     "name": "stderr",
     "output_type": "stream",
     "text": [
      "\n"
     ]
    },
    {
     "name": "stdout",
     "output_type": "stream",
     "text": [
      "Qwen3-8b Mini DEV Финальный результат EX: 53.20\n",
      "Qwen3-8b процент запросов, которые успешно выполнились Mini DEV: 93.80%\n",
      "====================================================================================================\n",
      "\n",
      "\n",
      "Загружаем чаты с данными...\n",
      "Данные успешно загружены\n",
      "Начали генерацию SQL запросов\n"
     ]
    },
    {
     "name": "stderr",
     "output_type": "stream",
     "text": [
      "Processed prompts: 100%|██████████| 500/500 [01:27<00:00,  5.70it/s, est. speed input: 37504.03 toks/s, output: 309.59 toks/s]"
     ]
    },
    {
     "name": "stdout",
     "output_type": "stream",
     "text": [
      "extract_think количество ошибок:  0\n",
      "extract_sql количество ошибок:  0\n",
      "Закончили генерацию SQL запросов\n",
      "Начали скорр полученных SQL запросов\n"
     ]
    },
    {
     "name": "stderr",
     "output_type": "stream",
     "text": [
      "\n"
     ]
    },
    {
     "name": "stdout",
     "output_type": "stream",
     "text": [
      "Qwen3-8b Mini DEV Финальный результат EX: 53.60\n",
      "Qwen3-8b процент запросов, которые успешно выполнились Mini DEV: 94.20%\n",
      "====================================================================================================\n",
      "\n",
      "\n",
      "Загружаем чаты с данными...\n",
      "Данные успешно загружены\n",
      "Начали генерацию SQL запросов\n"
     ]
    },
    {
     "name": "stderr",
     "output_type": "stream",
     "text": [
      "Processed prompts: 100%|██████████| 500/500 [01:28<00:00,  5.64it/s, est. speed input: 37149.22 toks/s, output: 307.85 toks/s]"
     ]
    },
    {
     "name": "stdout",
     "output_type": "stream",
     "text": [
      "extract_think количество ошибок:  0\n",
      "extract_sql количество ошибок:  0\n",
      "Закончили генерацию SQL запросов\n",
      "Начали скорр полученных SQL запросов\n"
     ]
    },
    {
     "name": "stderr",
     "output_type": "stream",
     "text": [
      "\n"
     ]
    },
    {
     "name": "stdout",
     "output_type": "stream",
     "text": [
      "Qwen3-8b Mini DEV Финальный результат EX: 54.60\n",
      "Qwen3-8b процент запросов, которые успешно выполнились Mini DEV: 94.40%\n",
      "====================================================================================================\n",
      "\n",
      "\n",
      "Загружаем чаты с данными...\n",
      "Данные успешно загружены\n",
      "Начали генерацию SQL запросов\n"
     ]
    },
    {
     "name": "stderr",
     "output_type": "stream",
     "text": [
      "Processed prompts: 100%|██████████| 500/500 [01:26<00:00,  5.77it/s, est. speed input: 38271.99 toks/s, output: 314.10 toks/s]"
     ]
    },
    {
     "name": "stdout",
     "output_type": "stream",
     "text": [
      "extract_think количество ошибок:  0\n",
      "extract_sql количество ошибок:  0\n",
      "Закончили генерацию SQL запросов\n",
      "Начали скорр полученных SQL запросов\n"
     ]
    },
    {
     "name": "stderr",
     "output_type": "stream",
     "text": [
      "\n"
     ]
    },
    {
     "name": "stdout",
     "output_type": "stream",
     "text": [
      "Qwen3-8b Mini DEV Финальный результат EX: 54.00\n",
      "Qwen3-8b процент запросов, которые успешно выполнились Mini DEV: 94.60%\n",
      "====================================================================================================\n",
      "\n",
      "\n",
      "Загружаем чаты с данными...\n",
      "Данные успешно загружены\n",
      "Начали генерацию SQL запросов\n"
     ]
    },
    {
     "name": "stderr",
     "output_type": "stream",
     "text": [
      "Processed prompts: 100%|██████████| 500/500 [01:32<00:00,  5.42it/s, est. speed input: 36421.27 toks/s, output: 300.71 toks/s]"
     ]
    },
    {
     "name": "stdout",
     "output_type": "stream",
     "text": [
      "extract_think количество ошибок:  0\n",
      "extract_sql количество ошибок:  0\n",
      "Закончили генерацию SQL запросов\n",
      "Начали скорр полученных SQL запросов\n"
     ]
    },
    {
     "name": "stderr",
     "output_type": "stream",
     "text": [
      "\n"
     ]
    },
    {
     "name": "stdout",
     "output_type": "stream",
     "text": [
      "Qwen3-8b Mini DEV Финальный результат EX: 54.00\n",
      "Qwen3-8b процент запросов, которые успешно выполнились Mini DEV: 94.00%\n",
      "====================================================================================================\n",
      "\n",
      "\n",
      "Загружаем чаты с данными...\n",
      "Данные успешно загружены\n",
      "Начали генерацию SQL запросов\n"
     ]
    },
    {
     "name": "stderr",
     "output_type": "stream",
     "text": [
      "Processed prompts: 100%|██████████| 500/500 [01:28<00:00,  5.64it/s, est. speed input: 38085.15 toks/s, output: 305.47 toks/s]"
     ]
    },
    {
     "name": "stdout",
     "output_type": "stream",
     "text": [
      "extract_think количество ошибок:  0\n",
      "extract_sql количество ошибок:  0\n",
      "Закончили генерацию SQL запросов\n",
      "Начали скорр полученных SQL запросов\n"
     ]
    },
    {
     "name": "stderr",
     "output_type": "stream",
     "text": [
      "\n"
     ]
    },
    {
     "name": "stdout",
     "output_type": "stream",
     "text": [
      "Qwen3-8b Mini DEV Финальный результат EX: 55.00\n",
      "Qwen3-8b процент запросов, которые успешно выполнились Mini DEV: 93.20%\n",
      "====================================================================================================\n",
      "\n",
      "\n",
      "Загружаем чаты с данными...\n",
      "Данные успешно загружены\n",
      "Начали генерацию SQL запросов\n"
     ]
    },
    {
     "name": "stderr",
     "output_type": "stream",
     "text": [
      "Processed prompts: 100%|██████████| 500/500 [01:28<00:00,  5.63it/s, est. speed input: 38303.73 toks/s, output: 303.44 toks/s]"
     ]
    },
    {
     "name": "stdout",
     "output_type": "stream",
     "text": [
      "extract_think количество ошибок:  0\n",
      "extract_sql количество ошибок:  0\n",
      "Закончили генерацию SQL запросов\n",
      "Начали скорр полученных SQL запросов\n"
     ]
    },
    {
     "name": "stderr",
     "output_type": "stream",
     "text": [
      "\n"
     ]
    },
    {
     "name": "stdout",
     "output_type": "stream",
     "text": [
      "Qwen3-8b Mini DEV Финальный результат EX: 54.20\n",
      "Qwen3-8b процент запросов, которые успешно выполнились Mini DEV: 93.20%\n",
      "====================================================================================================\n",
      "\n",
      "\n",
      "Загружаем чаты с данными...\n",
      "Данные успешно загружены\n",
      "Начали генерацию SQL запросов\n"
     ]
    },
    {
     "name": "stderr",
     "output_type": "stream",
     "text": [
      "Processed prompts: 100%|██████████| 500/500 [01:28<00:00,  5.65it/s, est. speed input: 38181.99 toks/s, output: 307.82 toks/s]"
     ]
    },
    {
     "name": "stdout",
     "output_type": "stream",
     "text": [
      "extract_think количество ошибок:  0\n",
      "extract_sql количество ошибок:  0\n",
      "Закончили генерацию SQL запросов\n",
      "Начали скорр полученных SQL запросов\n"
     ]
    },
    {
     "name": "stderr",
     "output_type": "stream",
     "text": [
      "\n"
     ]
    },
    {
     "name": "stdout",
     "output_type": "stream",
     "text": [
      "Qwen3-8b Mini DEV Финальный результат EX: 54.60\n",
      "Qwen3-8b процент запросов, которые успешно выполнились Mini DEV: 93.40%\n",
      "====================================================================================================\n",
      "\n",
      "\n",
      "Загружаем чаты с данными...\n",
      "Данные успешно загружены\n",
      "Начали генерацию SQL запросов\n"
     ]
    },
    {
     "name": "stderr",
     "output_type": "stream",
     "text": [
      "Processed prompts: 100%|██████████| 500/500 [01:28<00:00,  5.67it/s, est. speed input: 38250.29 toks/s, output: 307.80 toks/s]"
     ]
    },
    {
     "name": "stdout",
     "output_type": "stream",
     "text": [
      "extract_think количество ошибок:  0\n",
      "extract_sql количество ошибок:  0\n",
      "Закончили генерацию SQL запросов\n",
      "Начали скорр полученных SQL запросов\n"
     ]
    },
    {
     "name": "stderr",
     "output_type": "stream",
     "text": [
      "\n"
     ]
    },
    {
     "name": "stdout",
     "output_type": "stream",
     "text": [
      "Qwen3-8b Mini DEV Финальный результат EX: 52.20\n",
      "Qwen3-8b процент запросов, которые успешно выполнились Mini DEV: 93.60%\n",
      "====================================================================================================\n",
      "\n",
      "\n",
      "Загружаем чаты с данными...\n",
      "Данные успешно загружены\n",
      "Начали генерацию SQL запросов\n"
     ]
    },
    {
     "name": "stderr",
     "output_type": "stream",
     "text": [
      "Processed prompts: 100%|██████████| 500/500 [01:27<00:00,  5.74it/s, est. speed input: 38160.04 toks/s, output: 310.63 toks/s]"
     ]
    },
    {
     "name": "stdout",
     "output_type": "stream",
     "text": [
      "extract_think количество ошибок:  0\n",
      "extract_sql количество ошибок:  0\n",
      "Закончили генерацию SQL запросов\n",
      "Начали скорр полученных SQL запросов\n"
     ]
    },
    {
     "name": "stderr",
     "output_type": "stream",
     "text": [
      "\n"
     ]
    },
    {
     "name": "stdout",
     "output_type": "stream",
     "text": [
      "Qwen3-8b Mini DEV Финальный результат EX: 54.40\n",
      "Qwen3-8b процент запросов, которые успешно выполнились Mini DEV: 93.20%\n",
      "====================================================================================================\n",
      "\n",
      "\n",
      "Загружаем чаты с данными...\n",
      "Данные успешно загружены\n",
      "Начали генерацию SQL запросов\n"
     ]
    },
    {
     "name": "stderr",
     "output_type": "stream",
     "text": [
      "Processed prompts: 100%|██████████| 500/500 [01:26<00:00,  5.76it/s, est. speed input: 38278.98 toks/s, output: 312.72 toks/s]"
     ]
    },
    {
     "name": "stdout",
     "output_type": "stream",
     "text": [
      "extract_think количество ошибок:  0\n",
      "extract_sql количество ошибок:  0\n",
      "Закончили генерацию SQL запросов\n",
      "Начали скорр полученных SQL запросов\n"
     ]
    },
    {
     "name": "stderr",
     "output_type": "stream",
     "text": [
      "\n"
     ]
    },
    {
     "name": "stdout",
     "output_type": "stream",
     "text": [
      "Qwen3-8b Mini DEV Финальный результат EX: 53.60\n",
      "Qwen3-8b процент запросов, которые успешно выполнились Mini DEV: 93.80%\n",
      "====================================================================================================\n",
      "\n",
      "\n",
      "Загружаем чаты с данными...\n",
      "Данные успешно загружены\n",
      "Начали генерацию SQL запросов\n"
     ]
    },
    {
     "name": "stderr",
     "output_type": "stream",
     "text": [
      "Processed prompts: 100%|██████████| 500/500 [01:30<00:00,  5.51it/s, est. speed input: 36918.56 toks/s, output: 308.79 toks/s]"
     ]
    },
    {
     "name": "stdout",
     "output_type": "stream",
     "text": [
      "extract_think количество ошибок:  0\n",
      "extract_sql количество ошибок:  0\n",
      "Закончили генерацию SQL запросов\n",
      "Начали скорр полученных SQL запросов\n"
     ]
    },
    {
     "name": "stderr",
     "output_type": "stream",
     "text": [
      "\n"
     ]
    },
    {
     "name": "stdout",
     "output_type": "stream",
     "text": [
      "Qwen3-8b Mini DEV Финальный результат EX: 52.80\n",
      "Qwen3-8b процент запросов, которые успешно выполнились Mini DEV: 93.60%\n",
      "====================================================================================================\n",
      "\n",
      "\n",
      "Загружаем чаты с данными...\n",
      "Данные успешно загружены\n",
      "Начали генерацию SQL запросов\n"
     ]
    },
    {
     "name": "stderr",
     "output_type": "stream",
     "text": [
      "Processed prompts: 100%|██████████| 500/500 [01:27<00:00,  5.75it/s, est. speed input: 38513.49 toks/s, output: 309.66 toks/s]"
     ]
    },
    {
     "name": "stdout",
     "output_type": "stream",
     "text": [
      "extract_think количество ошибок:  0\n",
      "extract_sql количество ошибок:  0\n",
      "Закончили генерацию SQL запросов\n",
      "Начали скорр полученных SQL запросов\n"
     ]
    },
    {
     "name": "stderr",
     "output_type": "stream",
     "text": [
      "\n"
     ]
    },
    {
     "name": "stdout",
     "output_type": "stream",
     "text": [
      "Qwen3-8b Mini DEV Финальный результат EX: 53.00\n",
      "Qwen3-8b процент запросов, которые успешно выполнились Mini DEV: 94.40%\n",
      "====================================================================================================\n",
      "\n",
      "\n",
      "Загружаем чаты с данными...\n",
      "Данные успешно загружены\n",
      "Начали генерацию SQL запросов\n"
     ]
    },
    {
     "name": "stderr",
     "output_type": "stream",
     "text": [
      "Processed prompts: 100%|██████████| 500/500 [01:26<00:00,  5.75it/s, est. speed input: 38401.73 toks/s, output: 312.74 toks/s]"
     ]
    },
    {
     "name": "stdout",
     "output_type": "stream",
     "text": [
      "extract_think количество ошибок:  0\n",
      "extract_sql количество ошибок:  0\n",
      "Закончили генерацию SQL запросов\n",
      "Начали скорр полученных SQL запросов\n"
     ]
    },
    {
     "name": "stderr",
     "output_type": "stream",
     "text": [
      "\n"
     ]
    },
    {
     "name": "stdout",
     "output_type": "stream",
     "text": [
      "Qwen3-8b Mini DEV Финальный результат EX: 54.20\n",
      "Qwen3-8b процент запросов, которые успешно выполнились Mini DEV: 93.80%\n",
      "====================================================================================================\n",
      "\n",
      "\n",
      "Загружаем чаты с данными...\n",
      "Данные успешно загружены\n",
      "Начали генерацию SQL запросов\n"
     ]
    },
    {
     "name": "stderr",
     "output_type": "stream",
     "text": [
      "Processed prompts: 100%|██████████| 500/500 [01:27<00:00,  5.72it/s, est. speed input: 38452.45 toks/s, output: 311.54 toks/s]"
     ]
    },
    {
     "name": "stdout",
     "output_type": "stream",
     "text": [
      "extract_think количество ошибок:  0\n",
      "extract_sql количество ошибок:  0\n",
      "Закончили генерацию SQL запросов\n",
      "Начали скорр полученных SQL запросов\n"
     ]
    },
    {
     "name": "stderr",
     "output_type": "stream",
     "text": [
      "\n"
     ]
    },
    {
     "name": "stdout",
     "output_type": "stream",
     "text": [
      "Qwen3-8b Mini DEV Финальный результат EX: 53.40\n",
      "Qwen3-8b процент запросов, которые успешно выполнились Mini DEV: 94.80%\n",
      "====================================================================================================\n",
      "\n",
      "\n",
      "Загружаем чаты с данными...\n",
      "Данные успешно загружены\n",
      "Начали генерацию SQL запросов\n"
     ]
    },
    {
     "name": "stderr",
     "output_type": "stream",
     "text": [
      "Processed prompts: 100%|██████████| 500/500 [01:27<00:00,  5.69it/s, est. speed input: 38415.81 toks/s, output: 306.98 toks/s]"
     ]
    },
    {
     "name": "stdout",
     "output_type": "stream",
     "text": [
      "extract_think количество ошибок:  0\n",
      "extract_sql количество ошибок:  0\n",
      "Закончили генерацию SQL запросов\n",
      "Начали скорр полученных SQL запросов\n"
     ]
    },
    {
     "name": "stderr",
     "output_type": "stream",
     "text": [
      "\n"
     ]
    },
    {
     "name": "stdout",
     "output_type": "stream",
     "text": [
      "Qwen3-8b Mini DEV Финальный результат EX: 53.00\n",
      "Qwen3-8b процент запросов, которые успешно выполнились Mini DEV: 95.00%\n",
      "====================================================================================================\n",
      "\n",
      "\n",
      "Загружаем чаты с данными...\n",
      "Данные успешно загружены\n",
      "Начали генерацию SQL запросов\n"
     ]
    },
    {
     "name": "stderr",
     "output_type": "stream",
     "text": [
      "Processed prompts: 100%|██████████| 500/500 [01:26<00:00,  5.81it/s, est. speed input: 38546.88 toks/s, output: 311.36 toks/s]"
     ]
    },
    {
     "name": "stdout",
     "output_type": "stream",
     "text": [
      "extract_think количество ошибок:  0\n",
      "extract_sql количество ошибок:  0\n",
      "Закончили генерацию SQL запросов\n",
      "Начали скорр полученных SQL запросов\n"
     ]
    },
    {
     "name": "stderr",
     "output_type": "stream",
     "text": [
      "\n"
     ]
    },
    {
     "name": "stdout",
     "output_type": "stream",
     "text": [
      "Qwen3-8b Mini DEV Финальный результат EX: 54.00\n",
      "Qwen3-8b процент запросов, которые успешно выполнились Mini DEV: 95.00%\n",
      "====================================================================================================\n",
      "\n",
      "\n",
      "Загружаем чаты с данными...\n",
      "Данные успешно загружены\n",
      "Начали генерацию SQL запросов\n"
     ]
    },
    {
     "name": "stderr",
     "output_type": "stream",
     "text": [
      "Processed prompts: 100%|██████████| 500/500 [01:26<00:00,  5.80it/s, est. speed input: 38483.64 toks/s, output: 309.98 toks/s]"
     ]
    },
    {
     "name": "stdout",
     "output_type": "stream",
     "text": [
      "extract_think количество ошибок:  0\n",
      "extract_sql количество ошибок:  0\n",
      "Закончили генерацию SQL запросов\n",
      "Начали скорр полученных SQL запросов\n"
     ]
    },
    {
     "name": "stderr",
     "output_type": "stream",
     "text": [
      "\n"
     ]
    },
    {
     "name": "stdout",
     "output_type": "stream",
     "text": [
      "Qwen3-8b Mini DEV Финальный результат EX: 53.40\n",
      "Qwen3-8b процент запросов, которые успешно выполнились Mini DEV: 95.00%\n",
      "====================================================================================================\n",
      "\n",
      "\n",
      "Загружаем чаты с данными...\n",
      "Данные успешно загружены\n",
      "Начали генерацию SQL запросов\n"
     ]
    },
    {
     "name": "stderr",
     "output_type": "stream",
     "text": [
      "Processed prompts: 100%|██████████| 500/500 [01:26<00:00,  5.76it/s, est. speed input: 38388.93 toks/s, output: 306.96 toks/s]"
     ]
    },
    {
     "name": "stdout",
     "output_type": "stream",
     "text": [
      "extract_think количество ошибок:  0\n",
      "extract_sql количество ошибок:  0\n",
      "Закончили генерацию SQL запросов\n",
      "Начали скорр полученных SQL запросов\n"
     ]
    },
    {
     "name": "stderr",
     "output_type": "stream",
     "text": [
      "\n"
     ]
    },
    {
     "name": "stdout",
     "output_type": "stream",
     "text": [
      "Qwen3-8b Mini DEV Финальный результат EX: 54.00\n",
      "Qwen3-8b процент запросов, которые успешно выполнились Mini DEV: 95.40%\n",
      "====================================================================================================\n",
      "\n",
      "\n",
      "Загружаем чаты с данными...\n",
      "Данные успешно загружены\n",
      "Начали генерацию SQL запросов\n"
     ]
    },
    {
     "name": "stderr",
     "output_type": "stream",
     "text": [
      "Processed prompts: 100%|██████████| 500/500 [01:25<00:00,  5.83it/s, est. speed input: 38562.41 toks/s, output: 309.55 toks/s]"
     ]
    },
    {
     "name": "stdout",
     "output_type": "stream",
     "text": [
      "extract_think количество ошибок:  0\n",
      "extract_sql количество ошибок:  0\n",
      "Закончили генерацию SQL запросов\n",
      "Начали скорр полученных SQL запросов\n"
     ]
    },
    {
     "name": "stderr",
     "output_type": "stream",
     "text": [
      "\n"
     ]
    },
    {
     "name": "stdout",
     "output_type": "stream",
     "text": [
      "Qwen3-8b Mini DEV Финальный результат EX: 54.20\n",
      "Qwen3-8b процент запросов, которые успешно выполнились Mini DEV: 94.20%\n",
      "====================================================================================================\n",
      "\n",
      "\n",
      "Загружаем чаты с данными...\n",
      "Данные успешно загружены\n",
      "Начали генерацию SQL запросов\n"
     ]
    },
    {
     "name": "stderr",
     "output_type": "stream",
     "text": [
      "Processed prompts: 100%|██████████| 500/500 [01:25<00:00,  5.82it/s, est. speed input: 38386.09 toks/s, output: 313.07 toks/s]"
     ]
    },
    {
     "name": "stdout",
     "output_type": "stream",
     "text": [
      "extract_think количество ошибок:  0\n",
      "extract_sql количество ошибок:  0\n",
      "Закончили генерацию SQL запросов\n",
      "Начали скорр полученных SQL запросов\n"
     ]
    },
    {
     "name": "stderr",
     "output_type": "stream",
     "text": [
      "\n"
     ]
    },
    {
     "name": "stdout",
     "output_type": "stream",
     "text": [
      "Qwen3-8b Mini DEV Финальный результат EX: 54.00\n",
      "Qwen3-8b процент запросов, которые успешно выполнились Mini DEV: 93.00%\n",
      "====================================================================================================\n",
      "\n",
      "\n",
      "Загружаем чаты с данными...\n",
      "Данные успешно загружены\n",
      "Начали генерацию SQL запросов\n"
     ]
    },
    {
     "name": "stderr",
     "output_type": "stream",
     "text": [
      "Processed prompts: 100%|██████████| 500/500 [01:25<00:00,  5.83it/s, est. speed input: 38494.74 toks/s, output: 313.86 toks/s]"
     ]
    },
    {
     "name": "stdout",
     "output_type": "stream",
     "text": [
      "extract_think количество ошибок:  0\n",
      "extract_sql количество ошибок:  0\n",
      "Закончили генерацию SQL запросов\n",
      "Начали скорр полученных SQL запросов\n"
     ]
    },
    {
     "name": "stderr",
     "output_type": "stream",
     "text": [
      "\n"
     ]
    },
    {
     "name": "stdout",
     "output_type": "stream",
     "text": [
      "Qwen3-8b Mini DEV Финальный результат EX: 54.80\n",
      "Qwen3-8b процент запросов, которые успешно выполнились Mini DEV: 93.80%\n",
      "====================================================================================================\n",
      "\n",
      "\n",
      "Загружаем чаты с данными...\n",
      "Данные успешно загружены\n",
      "Начали генерацию SQL запросов\n"
     ]
    },
    {
     "name": "stderr",
     "output_type": "stream",
     "text": [
      "Processed prompts: 100%|██████████| 500/500 [01:27<00:00,  5.75it/s, est. speed input: 38191.26 toks/s, output: 308.92 toks/s]"
     ]
    },
    {
     "name": "stdout",
     "output_type": "stream",
     "text": [
      "extract_think количество ошибок:  0\n",
      "extract_sql количество ошибок:  0\n",
      "Закончили генерацию SQL запросов\n",
      "Начали скорр полученных SQL запросов\n"
     ]
    },
    {
     "name": "stderr",
     "output_type": "stream",
     "text": [
      "\n"
     ]
    },
    {
     "name": "stdout",
     "output_type": "stream",
     "text": [
      "Qwen3-8b Mini DEV Финальный результат EX: 55.20\n",
      "Qwen3-8b процент запросов, которые успешно выполнились Mini DEV: 94.40%\n",
      "====================================================================================================\n",
      "\n",
      "\n",
      "Загружаем чаты с данными...\n",
      "Данные успешно загружены\n",
      "Начали генерацию SQL запросов\n"
     ]
    },
    {
     "name": "stderr",
     "output_type": "stream",
     "text": [
      "Processed prompts: 100%|██████████| 500/500 [01:27<00:00,  5.74it/s, est. speed input: 38213.25 toks/s, output: 312.99 toks/s]"
     ]
    },
    {
     "name": "stdout",
     "output_type": "stream",
     "text": [
      "extract_think количество ошибок:  0\n",
      "extract_sql количество ошибок:  0\n",
      "Закончили генерацию SQL запросов\n",
      "Начали скорр полученных SQL запросов\n"
     ]
    },
    {
     "name": "stderr",
     "output_type": "stream",
     "text": [
      "\n"
     ]
    },
    {
     "name": "stdout",
     "output_type": "stream",
     "text": [
      "Qwen3-8b Mini DEV Финальный результат EX: 55.00\n",
      "Qwen3-8b процент запросов, которые успешно выполнились Mini DEV: 95.00%\n",
      "====================================================================================================\n",
      "\n",
      "\n",
      "Загружаем чаты с данными...\n",
      "Данные успешно загружены\n",
      "Начали генерацию SQL запросов\n"
     ]
    },
    {
     "name": "stderr",
     "output_type": "stream",
     "text": [
      "Processed prompts: 100%|██████████| 500/500 [01:26<00:00,  5.77it/s, est. speed input: 38355.54 toks/s, output: 311.81 toks/s]"
     ]
    },
    {
     "name": "stdout",
     "output_type": "stream",
     "text": [
      "extract_think количество ошибок:  0\n",
      "extract_sql количество ошибок:  0\n",
      "Закончили генерацию SQL запросов\n",
      "Начали скорр полученных SQL запросов\n"
     ]
    },
    {
     "name": "stderr",
     "output_type": "stream",
     "text": [
      "\n"
     ]
    },
    {
     "name": "stdout",
     "output_type": "stream",
     "text": [
      "Qwen3-8b Mini DEV Финальный результат EX: 53.60\n",
      "Qwen3-8b процент запросов, которые успешно выполнились Mini DEV: 94.00%\n",
      "====================================================================================================\n",
      "\n",
      "\n",
      "Загружаем чаты с данными...\n",
      "Данные успешно загружены\n",
      "Начали генерацию SQL запросов\n"
     ]
    },
    {
     "name": "stderr",
     "output_type": "stream",
     "text": [
      "Processed prompts: 100%|██████████| 500/500 [01:26<00:00,  5.79it/s, est. speed input: 38508.37 toks/s, output: 313.99 toks/s]"
     ]
    },
    {
     "name": "stdout",
     "output_type": "stream",
     "text": [
      "extract_think количество ошибок:  0\n",
      "extract_sql количество ошибок:  0\n",
      "Закончили генерацию SQL запросов\n",
      "Начали скорр полученных SQL запросов\n"
     ]
    },
    {
     "name": "stderr",
     "output_type": "stream",
     "text": [
      "\n"
     ]
    },
    {
     "name": "stdout",
     "output_type": "stream",
     "text": [
      "Qwen3-8b Mini DEV Финальный результат EX: 53.60\n",
      "Qwen3-8b процент запросов, которые успешно выполнились Mini DEV: 94.20%\n",
      "====================================================================================================\n",
      "\n",
      "\n",
      "Загружаем чаты с данными...\n",
      "Данные успешно загружены\n",
      "Начали генерацию SQL запросов\n"
     ]
    },
    {
     "name": "stderr",
     "output_type": "stream",
     "text": [
      "Processed prompts: 100%|██████████| 500/500 [01:30<00:00,  5.55it/s, est. speed input: 37073.48 toks/s, output: 305.56 toks/s]"
     ]
    },
    {
     "name": "stdout",
     "output_type": "stream",
     "text": [
      "extract_think количество ошибок:  0\n",
      "extract_sql количество ошибок:  0\n",
      "Закончили генерацию SQL запросов\n",
      "Начали скорр полученных SQL запросов\n"
     ]
    },
    {
     "name": "stderr",
     "output_type": "stream",
     "text": [
      "\n"
     ]
    },
    {
     "name": "stdout",
     "output_type": "stream",
     "text": [
      "Qwen3-8b Mini DEV Финальный результат EX: 53.00\n",
      "Qwen3-8b процент запросов, которые успешно выполнились Mini DEV: 93.20%\n",
      "====================================================================================================\n",
      "\n",
      "\n",
      "Загружаем чаты с данными...\n",
      "Данные успешно загружены\n",
      "Начали генерацию SQL запросов\n"
     ]
    },
    {
     "name": "stderr",
     "output_type": "stream",
     "text": [
      "Processed prompts: 100%|██████████| 500/500 [01:27<00:00,  5.73it/s, est. speed input: 38057.50 toks/s, output: 313.59 toks/s]"
     ]
    },
    {
     "name": "stdout",
     "output_type": "stream",
     "text": [
      "extract_think количество ошибок:  0\n",
      "extract_sql количество ошибок:  0\n",
      "Закончили генерацию SQL запросов\n",
      "Начали скорр полученных SQL запросов\n"
     ]
    },
    {
     "name": "stderr",
     "output_type": "stream",
     "text": [
      "\n"
     ]
    },
    {
     "name": "stdout",
     "output_type": "stream",
     "text": [
      "Qwen3-8b Mini DEV Финальный результат EX: 53.80\n",
      "Qwen3-8b процент запросов, которые успешно выполнились Mini DEV: 94.00%\n",
      "====================================================================================================\n",
      "\n",
      "\n",
      "Загружаем чаты с данными...\n",
      "Данные успешно загружены\n",
      "Начали генерацию SQL запросов\n"
     ]
    },
    {
     "name": "stderr",
     "output_type": "stream",
     "text": [
      "Processed prompts: 100%|██████████| 500/500 [01:29<00:00,  5.60it/s, est. speed input: 37125.70 toks/s, output: 309.93 toks/s]"
     ]
    },
    {
     "name": "stdout",
     "output_type": "stream",
     "text": [
      "extract_think количество ошибок:  0\n",
      "extract_sql количество ошибок:  0\n",
      "Закончили генерацию SQL запросов\n",
      "Начали скорр полученных SQL запросов\n"
     ]
    },
    {
     "name": "stderr",
     "output_type": "stream",
     "text": [
      "\n"
     ]
    },
    {
     "name": "stdout",
     "output_type": "stream",
     "text": [
      "Qwen3-8b Mini DEV Финальный результат EX: 53.80\n",
      "Qwen3-8b процент запросов, которые успешно выполнились Mini DEV: 93.20%\n",
      "====================================================================================================\n",
      "\n",
      "\n",
      "Загружаем чаты с данными...\n",
      "Данные успешно загружены\n",
      "Начали генерацию SQL запросов\n"
     ]
    },
    {
     "name": "stderr",
     "output_type": "stream",
     "text": [
      "Processed prompts: 100%|██████████| 500/500 [01:27<00:00,  5.72it/s, est. speed input: 38123.81 toks/s, output: 312.55 toks/s]"
     ]
    },
    {
     "name": "stdout",
     "output_type": "stream",
     "text": [
      "extract_think количество ошибок:  0\n",
      "extract_sql количество ошибок:  0\n",
      "Закончили генерацию SQL запросов\n",
      "Начали скорр полученных SQL запросов\n"
     ]
    },
    {
     "name": "stderr",
     "output_type": "stream",
     "text": [
      "\n"
     ]
    },
    {
     "name": "stdout",
     "output_type": "stream",
     "text": [
      "Qwen3-8b Mini DEV Финальный результат EX: 52.80\n",
      "Qwen3-8b процент запросов, которые успешно выполнились Mini DEV: 95.00%\n",
      "====================================================================================================\n",
      "\n",
      "\n",
      "Загружаем чаты с данными...\n",
      "Данные успешно загружены\n",
      "Начали генерацию SQL запросов\n"
     ]
    },
    {
     "name": "stderr",
     "output_type": "stream",
     "text": [
      "Processed prompts: 100%|██████████| 500/500 [01:31<00:00,  5.49it/s, est. speed input: 36577.31 toks/s, output: 302.18 toks/s]"
     ]
    },
    {
     "name": "stdout",
     "output_type": "stream",
     "text": [
      "extract_think количество ошибок:  0\n",
      "extract_sql количество ошибок:  0\n",
      "Закончили генерацию SQL запросов\n",
      "Начали скорр полученных SQL запросов\n"
     ]
    },
    {
     "name": "stderr",
     "output_type": "stream",
     "text": [
      "\n"
     ]
    },
    {
     "name": "stdout",
     "output_type": "stream",
     "text": [
      "Qwen3-8b Mini DEV Финальный результат EX: 55.60\n",
      "Qwen3-8b процент запросов, которые успешно выполнились Mini DEV: 94.00%\n",
      "====================================================================================================\n",
      "\n",
      "\n"
     ]
    }
   ],
   "source": [
    "run_cot_experiment(model,arr_seeds,arr_versions, type_cot,num_observations=num_observations)"
   ]
  },
  {
   "cell_type": "markdown",
   "id": "8ecdae85-ab3f-4123-8cb2-d235fe12a9b6",
   "metadata": {},
   "source": [
    "## 6 наблюдений"
   ]
  },
  {
   "cell_type": "code",
   "execution_count": 3,
   "id": "4cf5d319-24ae-42c5-a259-219dab753f06",
   "metadata": {},
   "outputs": [
    {
     "name": "stdout",
     "output_type": "stream",
     "text": [
      "[560, 60, 105, 213, 567, 926, 945, 2, 816, 859, 863, 790, 926, 70, 806, 98, 961, 641, 723, 513, 908, 34, 129, 811, 100, 94, 982, 49, 118, 310, 78, 469, 226, 824, 499, 358, 201, 931, 21, 648, 487, 945, 659, 431, 798, 104, 337, 784, 533, 766]\n",
      "model: Qwen3-8B\n"
     ]
    }
   ],
   "source": [
    "n= 50\n",
    "arr_seeds = [random.randint(0,1000) for _ in range(n)]\n",
    "arr_versions = [x for x in range(n)]\n",
    "model = \"Qwen3-8B\"\n",
    "num_observations = 6\n",
    "type_cot = 'all_new'\n",
    "print(arr_seeds)\n",
    "print(f\"model: {model}\")"
   ]
  },
  {
   "cell_type": "code",
   "execution_count": 4,
   "id": "658afdd2-e3e5-4436-989d-2a8c484bbd3f",
   "metadata": {
    "scrolled": true
   },
   "outputs": [
    {
     "name": "stdout",
     "output_type": "stream",
     "text": [
      "Загружаем модель...\n"
     ]
    },
    {
     "name": "stderr",
     "output_type": "stream",
     "text": [
      "Loading safetensors checkpoint shards:   0% Completed | 0/4 [00:00<?, ?it/s]\n",
      "Loading safetensors checkpoint shards:  25% Completed | 1/4 [00:00<00:00,  8.14it/s]\n",
      "Loading safetensors checkpoint shards:  50% Completed | 2/4 [00:00<00:00,  2.95it/s]\n",
      "Loading safetensors checkpoint shards:  75% Completed | 3/4 [00:01<00:00,  2.25it/s]\n",
      "Loading safetensors checkpoint shards: 100% Completed | 4/4 [00:01<00:00,  2.02it/s]\n",
      "Loading safetensors checkpoint shards: 100% Completed | 4/4 [00:01<00:00,  2.28it/s]\n",
      "\u001b[1;36m(VllmWorker rank=0 pid=3521145)\u001b[0;0m \n"
     ]
    },
    {
     "name": "stdout",
     "output_type": "stream",
     "text": [
      "Модель успешно загружена\n",
      "model_config {'model': '/data/home/vkropoti/models/Qwen3-8B', 'tensor_parallel_size': 2, 'max_model_len': 40000, 'max_new_tokens': 1500, 'temperature': 0, 'top_k': 1, 'top_p': 0.8, 'gpu_memory_utilization': 0.9, 'trust_remote_code': False, 'seed': 560}\n",
      "\n",
      "prompts_config {'path_dev_json': '/home/vkropoti/vllm/dev.json', 'path_sql_dbs': '/data/home/vkropoti/sql_data/dev_databases/', 'use_reasoning': False, 'paths_to_cot': ['/data/home/vkropoti/sql_llm_answers/base_reasoning/sql_all_new_Qwen3-8B-reasoning-v0', '/data/home/vkropoti/sql_llm_answers/base_reasoning/sql_all_new_Qwen3-8B-reasoning-v1', '/data/home/vkropoti/sql_llm_answers/base_reasoning/sql_all_new_Qwen3-8B-reasoning-v2', '/data/home/vkropoti/sql_llm_answers/base_reasoning/sql_all_new_Qwen3-8B-reasoning-v3', '/data/home/vkropoti/sql_llm_answers/base_reasoning/sql_all_new_Qwen3-8B-reasoning-v4', '/data/home/vkropoti/sql_llm_answers/base_reasoning/sql_all_new_Qwen3-8B-reasoning-v5']}\n",
      "\n",
      "save_config {'path_sql_save': '/data/home/vkropoti/sql_llm_answers/base_reasoning/sql_all_Qwen3-8B-cot_all_new_think==False_nobs6-v0', 'path_think_save': None, 'path_sql_answers_save': '/data/home/vkropoti/sql_llm_answers/base_reasoning/sql_predict_Qwen3-8B-cot_all_new_think==False_nobs6-v0', 'path_to_save_scores': '/data/home/vkropoti/sql_llm_answers/base_reasoning/sql_results_Qwen3-8B-cot_all_new_think==False_nobs6-v0', 'path_to_save_executed': '/data/home/vkropoti/sql_llm_answers/base_reasoning/sql_executed_Qwen3-8B-cot_all_new_think==False_nobs6-v0'}\n",
      "\n",
      "Модель успешно загружена\n",
      "Пример промпта\n",
      "<|im_start|>system\n",
      "\n",
      "You are a data science expert. Below, you are provided with a database schema and a natural language question. Your task is to understand the schema and generate a valid SQL query to answer the question.\n",
      "\n",
      "Database Engine: SQLite\n",
      "\n",
      "You will be given an additional analysis of other models, please take it into account, so the plan is\n",
      "1. Analyse given addition analysis from other models (find in which analysis the same and differ, how to use that to answer question)\n",
      "2. Combine best from previous part and think how to solve the problem (analyze tables, take care what columns avaliable in each table and so on, check the syntacsis)\n",
      "3. Create the answers. The answer should be only sql query.\n",
      "\n",
      "Carefully follow the instruction and add <|im_end|> and the end of the final answer<|im_end|>\n",
      "<|im_start|>user\n",
      "Here is addition analysis from other models which can be helpfull, please take this into account but be careful (choose the best from each analysis, combine them to make the most proper answer):\n",
      "\n",
      "model 0 analysis:\n",
      " Reasoning process:\n",
      "\n",
      "Okay, let's tackle this question. The user wants the ratio of customers who pay in EUR against those who pay in CZK. First, I need to figure out which tables and columns are relevant. \n",
      "\n",
      "Looking at the tables, the customers table has a Currency column. That's probably where the payment currency is stored. The question is about counting customers based on their Currency. So, I should focus on the customers table.\n",
      "\n",
      "Wait, but the question mentions \"customers who pay in EUR\" and \"CZK\". The customers table has a Currency column, so I need to count how many customers have Currency as 'EUR' and how many have 'CZK'. Then divide those counts to get the ratio.\n",
      "\n",
      "But wait, the customers table's Currency column might have other values too. So, I need to make sure I only consider those two currencies. Also, since the question is about the ratio, I need to calculate (count of EUR customers) divided by (count of CZK customers).\n",
      "\n",
      "So, the SQL query should select the count of customers where Currency is 'EUR' and the count where it's 'CZK', then divide them. But how to do that in SQLite?\n",
      "\n",
      "I can use a CASE statement in the SELECT clause. For example, count the number of EUR customers by summing 1 where Currency is 'EUR', and similarly for CZK. Then divide the two sums.\n",
      "\n",
      "Wait, but the ratio is count(EUR)/count(CZK). So, the query would be something like:\n",
      "\n",
      "SELECT \n",
      "    SUM(CASE WHEN Currency = 'EUR' THEN 1 ELSE 0 END) * 1.0 / \n",
      "    SUM(CASE WHEN Currency = 'CZK' THEN 1 ELSE 0 END) AS ratio\n",
      "FROM customers;\n",
      "\n",
      "But I need to make sure that the denominator isn't zero to avoid division by zero. However, the problem might assume that there are customers in both currencies. But since the user didn't mention handling that, maybe it's safe to proceed as is.\n",
      "\n",
      "Alternatively, maybe using COUNT with conditions. But COUNT with a condition would count non-null values. Wait, if the Currency is 'EUR', then COUNT(Currency = 'EUR') would count the number of rows where Currency is 'EUR', but in SQLite, the expression inside COUNT would evaluate to 1 or 0. Wait, no, COUNT() counts the number of non-NULL values. So, if I use COUNT(CASE WHEN Currency = 'EUR' THEN 1 END), that would count the number of customers with EUR. Similarly for CZK.\n",
      "\n",
      "So, the query would be:\n",
      "\n",
      "SELECT \n",
      "    COUNT(CASE WHEN Currency = 'EUR' THEN 1 END) * 1.0 / \n",
      "    COUNT(CASE WHEN Currency = 'CZK' THEN 1 END) AS ratio\n",
      "FROM customers;\n",
      "\n",
      "But I need to make sure that the division is done as a float. Multiplying by 1.0 ensures that the division is floating-point. Otherwise, if both counts are integers, the division might result in integer division, which would truncate the decimal part. So, adding * 1.0 is important.\n",
      "\n",
      "Another thing to check: the customers table's Currency column might have NULL values. But the question is about customers who pay in EUR or CZK, so we can assume that those with NULL are not counted. The CASE statements would handle that by returning 0 for those.\n",
      "\n",
      "So the final query should select the ratio using the COUNT with CASE statements. The tables involved are only the customers table. No need to join with other tables since the Currency is directly in the customers table.\n",
      "\n",
      "Wait, but the question says \"customers who pay in EUR\" – does that mean that the payment method is in EUR? But the customers table's Currency column might represent the currency they use, so that's the right place to look. So the query is correct.\n",
      "\n",
      "Thus, the SQL query should be as described.\n",
      "\n",
      "Final answer based om reasoning for this model:\n",
      "\n",
      "\n",
      "```\n",
      "-- Your SQL query\n",
      "SELECT COUNT(CASE WHEN Currency = 'EUR' THEN 1 END) * 1.0 / COUNT(CASE WHEN Currency = 'CZK' THEN 1 END) FROM customers;\n",
      "```\n",
      "\n",
      "model 1 analysis:\n",
      " Reasoning process:\n",
      "\n",
      "Okay, let's see. The user is asking for the ratio of customers who pay in EUR against those who pay in CZK. So first, I need to figure out which tables and columns are relevant here.\n",
      "\n",
      "Looking at the tables provided, the customers table has a Currency column. That's probably where the payment currency information is stored. The question is about customers, so the customers table is the main focus here.\n",
      "\n",
      "Wait, but the transactions_1k table also has a Currency column? No, checking the schema again. The customers table has Currency, but the transactions_1k table doesn't. So the Currency here refers to the customer's preferred currency, maybe? Or perhaps it's the transaction currency. Hmm, but the question is about customers paying in EUR or CZK. So it's likely that the Currency column in the customers table indicates the currency they use. \n",
      "\n",
      "So, the plan is to count how many customers have Currency 'EUR' and how many have 'CZK', then divide the two. But wait, the question says ratio of EUR customers against CZK. So EUR count divided by CZK count.\n",
      "\n",
      "But how to handle if there are customers with other currencies? The question doesn't mention them, so maybe we just ignore them. So the query should count customers where Currency is EUR, count where it's CZK, then compute the ratio.\n",
      "\n",
      "So the SQL would need to select those counts. But how to do that in SQLite. Maybe using CASE statements or SUM with conditions. Alternatively, use COUNT with a condition.\n",
      "\n",
      "So, the query would be something like:\n",
      "\n",
      "SELECT \n",
      "    COUNT(CASE WHEN Currency = 'EUR' THEN 1 END) * 1.0 / COUNT(CASE WHEN Currency = 'CZK' THEN 1 END) AS ratio\n",
      "FROM customers;\n",
      "\n",
      "Wait, but what if there are customers with other currencies? The COUNT(CASE WHEN ...) would ignore them. So that's correct.\n",
      "\n",
      "But the user wants the ratio, so the division. Also, need to make sure that division is floating point, not integer. So multiplying by 1.0 or using CAST.\n",
      "\n",
      "But in SQLite, dividing integers would result in integer division. So to get a float, we need to cast one of them to real. So maybe:\n",
      "\n",
      "COUNT(CASE WHEN Currency = 'EUR' THEN 1 END) * 1.0 / COUNT(CASE WHEN Currency = 'CZK' THEN 1 END)\n",
      "\n",
      "Alternatively, use SUM with 1s. But the CASE approach works.\n",
      "\n",
      "So the final query would be selecting that ratio from the customers table.\n",
      "\n",
      "Wait, but what if there are no customers in CZK? Then division by zero. But the question doesn't mention handling that, so maybe it's assumed that there are some.\n",
      "\n",
      "So the correct SQL is as above. Let me check the tables again to confirm. The customers table has Currency as a column. Yes. So the answer is that query.\n",
      "\n",
      "Final answer based om reasoning for this model:\n",
      "\n",
      "\n",
      "```\n",
      "SELECT COUNT(CASE WHEN Currency = 'EUR' THEN 1 END) * 1.0 / COUNT(CASE WHEN Currency = 'CZK' THEN 1 END) FROM customers;\n",
      "```\n",
      "\n",
      "model 2 analysis:\n",
      " Reasoning process:\n",
      "\n",
      "Okay, I need to find the ratio of customers who pay in EUR against those who pay in CZK. Let's start by checking the tables available. The customers table has a Currency column, which is probably the key here. The question is about the ratio of customers using EUR versus CZK.\n",
      "\n",
      "First, I should count how many customers have Currency set to 'EUR' and how many have it set to 'CZK'. Then, divide the two counts to get the ratio. But wait, the customers table's Currency column might have other values too. However, the question only asks about EUR and CZK, so I can filter for those two.\n",
      "\n",
      "I need to make sure that each customer is counted once, even if they have multiple transactions. Since the question is about customers, not transactions, I should use the CustomerID from the customers table. But wait, the transactions_1k table has a CustomerID as well. However, the customers table's Currency is the relevant column here. So, I should focus on the customers table.\n",
      "\n",
      "Wait, but maybe some customers don't have a Currency entry? The schema shows that Currency is nullable. So, I need to make sure I only consider customers where Currency is either EUR or CZK. Otherwise, those customers would be excluded from the ratio calculation.\n",
      "\n",
      "So, the plan is: count the number of customers with Currency = 'EUR', count those with Currency = 'CZK', then divide the two. But how to do this in a single query?\n",
      "\n",
      "In SQLite, I can use conditional aggregation. For example, using SUM(CASE WHEN Currency = 'EUR' THEN 1 ELSE 0 END) to get the count of EUR customers, and similarly for CZK. Then, divide them.\n",
      "\n",
      "But the question says \"ratio of customers who pay in EUR against customers who pay in CZK\". So, the ratio is EUR_count / CZK_count. However, I need to handle cases where CZK_count is zero to avoid division by zero. But the problem might not require handling that, assuming there are customers in both currencies.\n",
      "\n",
      "So the SQL query would select (count_eur / count_czk) from the customers table, filtering for Currency in ('EUR', 'CZK').\n",
      "\n",
      "Wait, but the customers table's Currency column might have other values. So, I should filter where Currency is either 'EUR' or 'CZK'. Then, count each group.\n",
      "\n",
      "So the query would be:\n",
      "\n",
      "SELECT \n",
      "    SUM(CASE WHEN Currency = 'EUR' THEN 1 ELSE 0 END) * 1.0 / \n",
      "    SUM(CASE WHEN Currency = 'CZK' THEN 1 ELSE 0 END) AS ratio\n",
      "FROM customers\n",
      "WHERE Currency IN ('EUR', 'CZK');\n",
      "\n",
      "But wait, the problem says \"customers who pay in EUR against customers who pay in CZK\". So, the ratio is EUR customers divided by CZK customers. That's what the query does.\n",
      "\n",
      "But I need to make sure that the query only includes customers with Currency as EUR or CZK. The WHERE clause ensures that. Also, using SUM with CASE WHEN gives the counts. The multiplication by 1.0 is to ensure that the division is done as a floating-point operation, not integer division.\n",
      "\n",
      "So this should give the correct ratio. Let me check the tables again. The customers table has the Currency column, so this is correct. There's no need to involve other tables like transactions_1k because the question is about customers' currency, not their transactions.\n",
      "\n",
      "Therefore, the final SQL query is as above.\n",
      "\n",
      "Final answer based om reasoning for this model:\n",
      "\n",
      "\n",
      "```\n",
      "-- Your SQL query\n",
      "SELECT SUM(CASE WHEN Currency = 'EUR' THEN 1 ELSE 0 END) * 1.0 / SUM(CASE WHEN Currency = 'CZK' THEN 1 ELSE 0 END) AS ratio FROM customers WHERE Currency IN ('EUR', 'CZK');\n",
      "```\n",
      "\n",
      "model 3 analysis:\n",
      " Reasoning process:\n",
      "\n",
      "Okay, I need to find the ratio of customers who pay in EUR against those who pay in CZK. Let me look at the tables provided.\n",
      "\n",
      "The customers table has a Currency column. So, I should check that. The question is about customers' payment currencies. So, the customers table is the right place to start.\n",
      "\n",
      "Wait, but the transactions_1k table also has a Price column, but the question is about the currency the customers use. So the Currency column in the customers table is the key here. \n",
      "\n",
      "So, the plan is to count how many customers have Currency 'EUR' and how many have 'CZK'. Then divide the two counts to get the ratio.\n",
      "\n",
      "But I need to make sure that each customer is counted once, even if they have multiple transactions. Because the question is about customers, not transactions. So, I should use the CustomerID from the customers table and group by Currency.\n",
      "\n",
      "So the SQL query would select the count of CustomerID where Currency is 'EUR' divided by the count where Currency is 'CZK'. But how to structure this in SQLite?\n",
      "\n",
      "I can use a CASE statement in the SELECT to count EUR and CZK separately. Or maybe use SUM with conditions. Let me think.\n",
      "\n",
      "Another approach is to use SUM with 1 when Currency is EUR and 0 otherwise for the numerator, and same for CZK. Then divide them.\n",
      "\n",
      "So the query would be:\n",
      "\n",
      "SELECT \n",
      "    SUM(CASE WHEN Currency = 'EUR' THEN 1 ELSE 0 END) / \n",
      "    SUM(CASE WHEN Currency = 'CZK' THEN 1 ELSE 0 END) AS ratio\n",
      "FROM customers;\n",
      "\n",
      "But wait, what if there are customers with other currencies? The question specifies EUR vs CZK, so others should be ignored. The CASE statements will handle that by only counting EUR and CZK.\n",
      "\n",
      "This should give the ratio as required. Let me check if there are any other tables involved. The question is about customers' currencies, so only the customers table is needed. No need to join with other tables. \n",
      "\n",
      "Yes, that's correct. So the final query is as above. Make sure to use the exact column names and table name. The Currency column is in the customers table. So the query is valid.\n",
      "\n",
      "Final answer based om reasoning for this model:\n",
      "\n",
      "\n",
      "```\n",
      "-- Your SQL query\n",
      "SELECT SUM(CASE WHEN Currency = 'EUR' THEN 1 ELSE 0 END) / SUM(CASE WHEN Currency = 'CZK' THEN 1 ELSE 0 END) FROM customers;\n",
      "```\n",
      "\n",
      "model 4 analysis:\n",
      " Reasoning process:\n",
      "\n",
      "Okay, I need to find the ratio of customers who pay in EUR against those who pay in CZK. Let's start by understanding the tables involved. The customers table has a Currency column, which is likely the key here. The question is about the ratio of customers using EUR versus CZK. \n",
      "\n",
      "First, I should check if the Currency column in the customers table is the right one. The question mentions customers paying in EUR or CZK, so the Currency field should indicate the currency they use. \n",
      "\n",
      "Next, I need to count how many customers have Currency set to EUR and how many have it set to CZK. Then, divide the EUR count by the CZK count to get the ratio. \n",
      "\n",
      "Wait, but what if there are customers with other currencies? The question doesn't mention them, so maybe we can ignore those. The ratio is specifically between EUR and CZK. \n",
      "\n",
      "So the approach is to count the number of customers where Currency is 'EUR' and the number where it's 'CZK'. Then, divide the two counts. \n",
      "\n",
      "But how to structure the SQL query? I can use a CASE statement or COUNT with conditions. Let me think. \n",
      "\n",
      "Using COUNT with CASE WHEN might be better. For example, COUNT(CASE WHEN Currency = 'EUR' THEN 1 END) as EUR_count, and similarly for CZK. Then, divide them. \n",
      "\n",
      "But in SQLite, division of integers might result in integer division. Wait, but the question says ratio, which could be a float. So maybe cast one of the counts to REAL. \n",
      "\n",
      "So the query would select (count_eur / count_czk) as ratio. \n",
      "\n",
      "Wait, but how to get both counts in a single query? Maybe using subqueries or conditional aggregation. \n",
      "\n",
      "Alternatively, I can use SUM with CASE WHEN. For example:\n",
      "\n",
      "SELECT \n",
      "    SUM(CASE WHEN Currency = 'EUR' THEN 1 ELSE 0 END) * 1.0 / \n",
      "    SUM(CASE WHEN Currency = 'CZK' THEN 1 ELSE 0 END) AS ratio\n",
      "FROM customers;\n",
      "\n",
      "But I need to make sure that the denominator isn't zero. However, the question doesn't mention handling division by zero, so maybe it's safe to assume there are customers in both currencies. \n",
      "\n",
      "Wait, the problem says \"customers who pay in EUR against customers who pay in CZK\". So the customers table's Currency column is the key. \n",
      "\n",
      "So the final query would be to count EUR and CZK customers, then divide. \n",
      "\n",
      "But the question specifies the ratio as count(EUR)/count(CZK). So the SQL should calculate that. \n",
      "\n",
      "Now, checking the tables again. The customers table has Currency as a column, so that's correct. \n",
      "\n",
      "So the SQL query would be:\n",
      "\n",
      "SELECT \n",
      "    COUNT(CASE WHEN Currency = 'EUR' THEN 1 END) * 1.0 / \n",
      "    COUNT(CASE WHEN Currency = 'CZK' THEN 1 END) AS ratio\n",
      "FROM customers;\n",
      "\n",
      "But in SQLite, using COUNT with a CASE statement where the condition is true returns the count of non-null values. So if the CASE returns 1 when Currency is EUR, then COUNT will count those rows. \n",
      "\n",
      "Alternatively, using SUM with 1 when condition is met. \n",
      "\n",
      "But the main idea is to get the counts and divide. \n",
      "\n",
      "So the final SQL should be as above. \n",
      "\n",
      "Wait, but in SQLite, the COUNT function counts non-null values. So if the CASE returns 1 (non-null) when Currency is EUR, then COUNT will count those. \n",
      "\n",
      "Yes, that should work. \n",
      "\n",
      "So the query is correct. Now, I need to make sure that the SQL syntax is correct. \n",
      "\n",
      "Another approach is to use SUM with 1 for each condition. For example:\n",
      "\n",
      "SELECT \n",
      "    SUM(CASE WHEN Currency = 'EUR' THEN 1 ELSE 0 END) * 1.0 / \n",
      "    SUM(CASE WHEN Currency = 'CZK' THEN 1 ELSE 0 END) AS ratio\n",
      "FROM customers;\n",
      "\n",
      "This should give the same result. \n",
      "\n",
      "But since the question specifies the ratio as count(EUR)/count(CZK), the first approach with COUNT(CASE WHEN...) is equivalent. \n",
      "\n",
      "Either way, the query should work. \n",
      "\n",
      "Now, I need to write the SQL query correctly, making sure to use the right column names and syntax. \n",
      "\n",
      "The final answer should be the SQL query that calculates this ratio.\n",
      "\n",
      "Final answer based om reasoning for this model:\n",
      "\n",
      "\n",
      "```\n",
      "-- Your SQL query\n",
      "SELECT COUNT(CASE WHEN Currency = 'EUR' THEN 1 END) * 1.0 / COUNT(CASE WHEN Currency = 'CZK' THEN 1 END) AS ratio FROM customers;\n",
      "```\n",
      "\n",
      "model 5 analysis:\n",
      " Reasoning process:\n",
      "\n",
      "Okay, I need to find the ratio of customers who pay in EUR against those who pay in CZK. Let's start by understanding the tables involved.\n",
      "\n",
      "First, looking at the tables, the customers table has a Currency column. That's probably where the payment currency is stored. The question is about counting customers based on their Currency. So I should check the customers table.\n",
      "\n",
      "Wait, but the question says \"customers who pay in EUR\" and \"CZK\". So the Currency column in the customers table must have values like 'EUR' and 'CZK'. I need to count how many customers have Currency as EUR and how many have CZK.\n",
      "\n",
      "But wait, what if some customers have other currencies? The question is about the ratio between EUR and CZK, so maybe we need to exclude others. But the problem statement doesn't mention that, so perhaps we just count EUR and CZK, and if there are others, they are not included in the ratio.\n",
      "\n",
      "So the approach would be to count the number of customers with Currency = 'EUR' and divide by the number with Currency = 'CZK'.\n",
      "\n",
      "But how to do that in SQL. The ratio can be calculated using a single query that counts both values.\n",
      "\n",
      "Wait, the user mentioned that the ratio is count(Currency='EUR') / count(Currency='CZK'). But in SQL, we can't directly do that. Instead, we can use conditional aggregation.\n",
      "\n",
      "So the query would select the count of customers where Currency is EUR and divide by the count where Currency is CZK.\n",
      "\n",
      "So the SQL query would be:\n",
      "\n",
      "SELECT \n",
      "    COUNT(CASE WHEN Currency = 'EUR' THEN 1 END) / COUNT(CASE WHEN Currency = 'CZK' THEN 1 END) AS ratio\n",
      "FROM customers;\n",
      "\n",
      "But wait, in SQLite, division of integers might result in integer division. For example, 3/2 would be 1. So maybe we need to cast one of them to a real number to get a floating point result. So perhaps:\n",
      "\n",
      "SELECT \n",
      "    COUNT(CASE WHEN Currency = 'EUR' THEN 1 END) * 1.0 / COUNT(CASE WHEN Currency = 'CZK' THEN 1 END) AS ratio\n",
      "FROM customers;\n",
      "\n",
      "But the question says to return the ratio as per the external knowledge. So the answer should be the division of the counts. However, the problem is that the customers table might not have any entries with Currency as CZK. In that case, division by zero would occur. But the problem doesn't mention handling that, so we proceed as is.\n",
      "\n",
      "So the final query would be selecting the ratio using the COUNT with CASE statements.\n",
      "\n",
      "Wait, but the question says \"customers who pay in EUR against customers who pay in CZK\". So the ratio is EUR count divided by CZK count. So the SQL query should compute that.\n",
      "\n",
      "So the correct query is:\n",
      "\n",
      "SELECT \n",
      "    COUNT(CASE WHEN Currency = 'EUR' THEN 1 END) * 1.0 / COUNT(CASE WHEN Currency = 'CZK' THEN 1 END) AS ratio\n",
      "FROM customers;\n",
      "\n",
      "But the user wants the SQL query to be enclosed in a code block. Also, the output should only include the ratio. The query should return a single value, the ratio.\n",
      "\n",
      "But I need to make sure that the columns are correctly named. The customers table has a Currency column. So the query is correct.\n",
      "\n",
      "Another thing to check: Are there any customers with NULL in Currency? The original schema says Currency is NULLABLE. So if some customers have NULL, they would be excluded from both counts. But the question is about customers who pay in EUR or CZK, so those with NULL are not counted. That's correct.\n",
      "\n",
      "So the final SQL query should be as above.\n",
      "\n",
      "Final answer based om reasoning for this model:\n",
      "\n",
      "\n",
      "```\n",
      "-- Your SQL query\n",
      "SELECT COUNT(CASE WHEN Currency = 'EUR' THEN 1 END) * 1.0 / COUNT(CASE WHEN Currency = 'CZK' THEN 1 END) AS ratio FROM customers;\n",
      "```\n",
      "\n",
      "\n",
      "here is avaliable tables below\n",
      "\n",
      "\n",
      "Table: customers\n",
      "CREATE TABLE customers\n",
      "(\n",
      "    CustomerID INTEGER UNIQUE     not null\n",
      "        primary key,\n",
      "    Segment    TEXT null,\n",
      "    Currency   TEXT null\n",
      ")\n",
      "\n",
      "Table: gasstations\n",
      "CREATE TABLE gasstations\n",
      "(\n",
      "    GasStationID INTEGER    UNIQUE   not null\n",
      "        primary key,\n",
      "    ChainID      INTEGER          null,\n",
      "    Country      TEXT null,\n",
      "    Segment      TEXT null\n",
      ")\n",
      "\n",
      "Table: products\n",
      "CREATE TABLE products\n",
      "(\n",
      "    ProductID   INTEGER   UNIQUE      not null\n",
      "        primary key,\n",
      "    Description TEXT null\n",
      ")\n",
      "\n",
      "Table: transactions_1k\n",
      "CREATE TABLE \"transactions_1k\"\n",
      "(\n",
      "    TransactionID INTEGER\n",
      "        primary key autoincrement,\n",
      "    Date          DATE,\n",
      "    Time          TEXT,\n",
      "    CustomerID    INTEGER,\n",
      "    CardID        INTEGER,\n",
      "    GasStationID  INTEGER,\n",
      "    ProductID     INTEGER,\n",
      "    Amount        INTEGER,\n",
      "    Price         REAL\n",
      ")\n",
      "\n",
      "Table: sqlite_sequence\n",
      "CREATE TABLE sqlite_sequence(name,seq)\n",
      "\n",
      "Table: yearmonth\n",
      "CREATE TABLE \"yearmonth\"\n",
      "(\n",
      "    CustomerID  INTEGER not null\n",
      "        references customers\n",
      "            on update cascade on delete cascade\n",
      "        references customers,\n",
      "    Date        TEXT    not null,\n",
      "    Consumption REAL,\n",
      "    primary key (Date, CustomerID)\n",
      ")\n",
      "\n",
      "-- Using valid SQLite and understanding External Knowledge, answer the following questions for the tables provided above.\n",
      "-- What is the ratio of customers who pay in EUR against customers who pay in CZK?\n",
      "-- External Knowledge: ratio of customers who pay in EUR against customers who pay in CZK = count(Currency = 'EUR') / count(Currency = 'CZK').\n",
      "\n",
      "\n",
      "Generate the SQLite for the above question after thinking step by step: \n",
      "\n",
      "\n",
      "Instructions:\n",
      "- Make sure you only output the information that is asked in the question. If the question asks for a specific column, make sure to only include that column in the SELECT clause, nothing more.\n",
      "- The generated query should return all of the information asked in the question without any missing or extra information.\n",
      "- Before generating the final SQL query, please think through the steps of how to write the query.\n",
      "- Do not misuse column names, keep them in quotes `\n",
      "- Carefully understand what colomns belond to what tables\n",
      "- Use only initial column names, change names prohibited\n",
      "        \n",
      "Output Format:\n",
      "In your answer, please enclose the generated SQL query in a code block:\n",
      "```\n",
      "-- Your SQL query\n",
      "```    \n",
      "and nothing else, no exaplains, no comments (asnwer should be less than 512 characters)\n",
      "\n",
      "Take a deep breath and think step by step to find the correct SQL query in SQLite format.\n",
      "\n",
      "Question repetition: What is the ratio of customers who pay in EUR against customers who pay in CZK?\n",
      "\n",
      "Be care! Include only what i want it questiona and nothing else<|im_end|>\n",
      "<|im_start|>assistant\n",
      "<think>\n",
      "\n",
      "</think>\n",
      "\n",
      "\n",
      "\n",
      "\n",
      "Максимальное количество токенов в промптах: 25269\n",
      "\n",
      "начинаем скорринг\n",
      "Загружаем чаты с данными...\n",
      "Данные успешно загружены\n",
      "Начали генерацию SQL запросов\n"
     ]
    },
    {
     "name": "stderr",
     "output_type": "stream",
     "text": [
      "Processed prompts: 100%|██████████| 500/500 [01:41<00:00,  4.93it/s, est. speed input: 37840.13 toks/s, output: 262.25 toks/s]"
     ]
    },
    {
     "name": "stdout",
     "output_type": "stream",
     "text": [
      "extract_think количество ошибок:  0\n",
      "extract_sql количество ошибок:  0\n",
      "Закончили генерацию SQL запросов\n",
      "Начали скорр полученных SQL запросов\n"
     ]
    },
    {
     "name": "stderr",
     "output_type": "stream",
     "text": [
      "\n"
     ]
    },
    {
     "name": "stdout",
     "output_type": "stream",
     "text": [
      "Qwen3-8b Mini DEV Финальный результат EX: 55.40\n",
      "Qwen3-8b процент запросов, которые успешно выполнились Mini DEV: 94.60%\n",
      "====================================================================================================\n",
      "\n",
      "\n",
      "Загружаем чаты с данными...\n",
      "Данные успешно загружены\n",
      "Начали генерацию SQL запросов\n"
     ]
    },
    {
     "name": "stderr",
     "output_type": "stream",
     "text": [
      "Processed prompts: 100%|██████████| 500/500 [01:41<00:00,  4.91it/s, est. speed input: 37745.29 toks/s, output: 264.30 toks/s]"
     ]
    },
    {
     "name": "stdout",
     "output_type": "stream",
     "text": [
      "extract_think количество ошибок:  0\n",
      "extract_sql количество ошибок:  0\n",
      "Закончили генерацию SQL запросов\n",
      "Начали скорр полученных SQL запросов\n"
     ]
    },
    {
     "name": "stderr",
     "output_type": "stream",
     "text": [
      "\n"
     ]
    },
    {
     "name": "stdout",
     "output_type": "stream",
     "text": [
      "Qwen3-8b Mini DEV Финальный результат EX: 53.00\n",
      "Qwen3-8b процент запросов, которые успешно выполнились Mini DEV: 94.40%\n",
      "====================================================================================================\n",
      "\n",
      "\n",
      "Загружаем чаты с данными...\n",
      "Данные успешно загружены\n",
      "Начали генерацию SQL запросов\n"
     ]
    },
    {
     "name": "stderr",
     "output_type": "stream",
     "text": [
      "Processed prompts: 100%|██████████| 500/500 [01:43<00:00,  4.85it/s, est. speed input: 37653.81 toks/s, output: 258.28 toks/s]"
     ]
    },
    {
     "name": "stdout",
     "output_type": "stream",
     "text": [
      "extract_think количество ошибок:  0\n",
      "extract_sql количество ошибок:  0\n",
      "Закончили генерацию SQL запросов\n",
      "Начали скорр полученных SQL запросов\n"
     ]
    },
    {
     "name": "stderr",
     "output_type": "stream",
     "text": [
      "\n"
     ]
    },
    {
     "name": "stdout",
     "output_type": "stream",
     "text": [
      "Qwen3-8b Mini DEV Финальный результат EX: 53.60\n",
      "Qwen3-8b процент запросов, которые успешно выполнились Mini DEV: 95.00%\n",
      "====================================================================================================\n",
      "\n",
      "\n",
      "Загружаем чаты с данными...\n",
      "Данные успешно загружены\n",
      "Начали генерацию SQL запросов\n"
     ]
    },
    {
     "name": "stderr",
     "output_type": "stream",
     "text": [
      "Processed prompts: 100%|██████████| 500/500 [01:43<00:00,  4.83it/s, est. speed input: 37473.44 toks/s, output: 260.15 toks/s]"
     ]
    },
    {
     "name": "stdout",
     "output_type": "stream",
     "text": [
      "extract_think количество ошибок:  0\n",
      "extract_sql количество ошибок:  0\n",
      "Закончили генерацию SQL запросов\n",
      "Начали скорр полученных SQL запросов\n"
     ]
    },
    {
     "name": "stderr",
     "output_type": "stream",
     "text": [
      "\n"
     ]
    },
    {
     "name": "stdout",
     "output_type": "stream",
     "text": [
      "Qwen3-8b Mini DEV Финальный результат EX: 54.40\n",
      "Qwen3-8b процент запросов, которые успешно выполнились Mini DEV: 94.40%\n",
      "====================================================================================================\n",
      "\n",
      "\n",
      "Загружаем чаты с данными...\n",
      "Данные успешно загружены\n",
      "Начали генерацию SQL запросов\n"
     ]
    },
    {
     "name": "stderr",
     "output_type": "stream",
     "text": [
      "Processed prompts: 100%|██████████| 500/500 [01:45<00:00,  4.73it/s, est. speed input: 36615.69 toks/s, output: 258.06 toks/s]"
     ]
    },
    {
     "name": "stdout",
     "output_type": "stream",
     "text": [
      "extract_think количество ошибок:  0\n",
      "extract_sql количество ошибок:  0\n",
      "Закончили генерацию SQL запросов\n",
      "Начали скорр полученных SQL запросов\n"
     ]
    },
    {
     "name": "stderr",
     "output_type": "stream",
     "text": [
      "\n"
     ]
    },
    {
     "name": "stdout",
     "output_type": "stream",
     "text": [
      "Qwen3-8b Mini DEV Финальный результат EX: 54.40\n",
      "Qwen3-8b процент запросов, которые успешно выполнились Mini DEV: 94.20%\n",
      "====================================================================================================\n",
      "\n",
      "\n",
      "Загружаем чаты с данными...\n",
      "Данные успешно загружены\n",
      "Начали генерацию SQL запросов\n"
     ]
    },
    {
     "name": "stderr",
     "output_type": "stream",
     "text": [
      "Processed prompts: 100%|██████████| 500/500 [01:44<00:00,  4.79it/s, est. speed input: 37503.56 toks/s, output: 258.05 toks/s]"
     ]
    },
    {
     "name": "stdout",
     "output_type": "stream",
     "text": [
      "extract_think количество ошибок:  0\n",
      "extract_sql количество ошибок:  0\n",
      "Закончили генерацию SQL запросов\n",
      "Начали скорр полученных SQL запросов\n"
     ]
    },
    {
     "name": "stderr",
     "output_type": "stream",
     "text": [
      "\n"
     ]
    },
    {
     "name": "stdout",
     "output_type": "stream",
     "text": [
      "Qwen3-8b Mini DEV Финальный результат EX: 53.60\n",
      "Qwen3-8b процент запросов, которые успешно выполнились Mini DEV: 93.40%\n",
      "====================================================================================================\n",
      "\n",
      "\n",
      "Загружаем чаты с данными...\n",
      "Данные успешно загружены\n",
      "Начали генерацию SQL запросов\n"
     ]
    },
    {
     "name": "stderr",
     "output_type": "stream",
     "text": [
      "Processed prompts: 100%|██████████| 500/500 [01:43<00:00,  4.84it/s, est. speed input: 37588.89 toks/s, output: 259.19 toks/s]"
     ]
    },
    {
     "name": "stdout",
     "output_type": "stream",
     "text": [
      "extract_think количество ошибок:  0\n",
      "extract_sql количество ошибок:  0\n",
      "Закончили генерацию SQL запросов\n",
      "Начали скорр полученных SQL запросов\n"
     ]
    },
    {
     "name": "stderr",
     "output_type": "stream",
     "text": [
      "\n"
     ]
    },
    {
     "name": "stdout",
     "output_type": "stream",
     "text": [
      "Qwen3-8b Mini DEV Финальный результат EX: 54.60\n",
      "Qwen3-8b процент запросов, которые успешно выполнились Mini DEV: 94.40%\n",
      "====================================================================================================\n",
      "\n",
      "\n",
      "Загружаем чаты с данными...\n",
      "Данные успешно загружены\n",
      "Начали генерацию SQL запросов\n"
     ]
    },
    {
     "name": "stderr",
     "output_type": "stream",
     "text": [
      "Processed prompts: 100%|██████████| 500/500 [01:44<00:00,  4.78it/s, est. speed input: 37422.30 toks/s, output: 257.12 toks/s]"
     ]
    },
    {
     "name": "stdout",
     "output_type": "stream",
     "text": [
      "extract_think количество ошибок:  0\n",
      "extract_sql количество ошибок:  0\n",
      "Закончили генерацию SQL запросов\n",
      "Начали скорр полученных SQL запросов\n"
     ]
    },
    {
     "name": "stderr",
     "output_type": "stream",
     "text": [
      "\n"
     ]
    },
    {
     "name": "stdout",
     "output_type": "stream",
     "text": [
      "Qwen3-8b Mini DEV Финальный результат EX: 53.60\n",
      "Qwen3-8b процент запросов, которые успешно выполнились Mini DEV: 93.60%\n",
      "====================================================================================================\n",
      "\n",
      "\n",
      "Загружаем чаты с данными...\n",
      "Данные успешно загружены\n",
      "Начали генерацию SQL запросов\n"
     ]
    },
    {
     "name": "stderr",
     "output_type": "stream",
     "text": [
      "Processed prompts: 100%|██████████| 500/500 [01:42<00:00,  4.88it/s, est. speed input: 37625.56 toks/s, output: 261.95 toks/s]"
     ]
    },
    {
     "name": "stdout",
     "output_type": "stream",
     "text": [
      "extract_think количество ошибок:  0\n",
      "extract_sql количество ошибок:  0\n",
      "Закончили генерацию SQL запросов\n",
      "Начали скорр полученных SQL запросов\n"
     ]
    },
    {
     "name": "stderr",
     "output_type": "stream",
     "text": [
      "\n"
     ]
    },
    {
     "name": "stdout",
     "output_type": "stream",
     "text": [
      "Qwen3-8b Mini DEV Финальный результат EX: 53.00\n",
      "Qwen3-8b процент запросов, которые успешно выполнились Mini DEV: 94.40%\n",
      "====================================================================================================\n",
      "\n",
      "\n",
      "Загружаем чаты с данными...\n",
      "Данные успешно загружены\n",
      "Начали генерацию SQL запросов\n"
     ]
    },
    {
     "name": "stderr",
     "output_type": "stream",
     "text": [
      "Processed prompts: 100%|██████████| 500/500 [01:43<00:00,  4.84it/s, est. speed input: 37558.48 toks/s, output: 259.50 toks/s]"
     ]
    },
    {
     "name": "stdout",
     "output_type": "stream",
     "text": [
      "extract_think количество ошибок:  0\n",
      "extract_sql количество ошибок:  0\n",
      "Закончили генерацию SQL запросов\n",
      "Начали скорр полученных SQL запросов\n"
     ]
    },
    {
     "name": "stderr",
     "output_type": "stream",
     "text": [
      "\n"
     ]
    },
    {
     "name": "stdout",
     "output_type": "stream",
     "text": [
      "Qwen3-8b Mini DEV Финальный результат EX: 54.20\n",
      "Qwen3-8b процент запросов, которые успешно выполнились Mini DEV: 94.60%\n",
      "====================================================================================================\n",
      "\n",
      "\n",
      "Загружаем чаты с данными...\n",
      "Данные успешно загружены\n",
      "Начали генерацию SQL запросов\n"
     ]
    },
    {
     "name": "stderr",
     "output_type": "stream",
     "text": [
      "Processed prompts: 100%|██████████| 500/500 [01:43<00:00,  4.85it/s, est. speed input: 37592.51 toks/s, output: 258.94 toks/s]"
     ]
    },
    {
     "name": "stdout",
     "output_type": "stream",
     "text": [
      "extract_think количество ошибок:  0\n",
      "extract_sql количество ошибок:  0\n",
      "Закончили генерацию SQL запросов\n",
      "Начали скорр полученных SQL запросов\n"
     ]
    },
    {
     "name": "stderr",
     "output_type": "stream",
     "text": [
      "\n"
     ]
    },
    {
     "name": "stdout",
     "output_type": "stream",
     "text": [
      "Qwen3-8b Mini DEV Финальный результат EX: 53.80\n",
      "Qwen3-8b процент запросов, которые успешно выполнились Mini DEV: 94.40%\n",
      "====================================================================================================\n",
      "\n",
      "\n",
      "Загружаем чаты с данными...\n",
      "Данные успешно загружены\n",
      "Начали генерацию SQL запросов\n"
     ]
    },
    {
     "name": "stderr",
     "output_type": "stream",
     "text": [
      "Processed prompts: 100%|██████████| 500/500 [01:42<00:00,  4.90it/s, est. speed input: 37576.62 toks/s, output: 261.45 toks/s]"
     ]
    },
    {
     "name": "stdout",
     "output_type": "stream",
     "text": [
      "extract_think количество ошибок:  0\n",
      "extract_sql количество ошибок:  0\n",
      "Закончили генерацию SQL запросов\n",
      "Начали скорр полученных SQL запросов\n"
     ]
    },
    {
     "name": "stderr",
     "output_type": "stream",
     "text": [
      "\n"
     ]
    },
    {
     "name": "stdout",
     "output_type": "stream",
     "text": [
      "Qwen3-8b Mini DEV Финальный результат EX: 55.20\n",
      "Qwen3-8b процент запросов, которые успешно выполнились Mini DEV: 95.00%\n",
      "====================================================================================================\n",
      "\n",
      "\n",
      "Загружаем чаты с данными...\n",
      "Данные успешно загружены\n",
      "Начали генерацию SQL запросов\n"
     ]
    },
    {
     "name": "stderr",
     "output_type": "stream",
     "text": [
      "Processed prompts: 100%|██████████| 500/500 [01:42<00:00,  4.87it/s, est. speed input: 37518.01 toks/s, output: 258.34 toks/s]"
     ]
    },
    {
     "name": "stdout",
     "output_type": "stream",
     "text": [
      "extract_think количество ошибок:  0\n",
      "extract_sql количество ошибок:  0\n",
      "Закончили генерацию SQL запросов\n",
      "Начали скорр полученных SQL запросов\n"
     ]
    },
    {
     "name": "stderr",
     "output_type": "stream",
     "text": [
      "\n"
     ]
    },
    {
     "name": "stdout",
     "output_type": "stream",
     "text": [
      "Qwen3-8b Mini DEV Финальный результат EX: 53.80\n",
      "Qwen3-8b процент запросов, которые успешно выполнились Mini DEV: 94.40%\n",
      "====================================================================================================\n",
      "\n",
      "\n",
      "Загружаем чаты с данными...\n",
      "Данные успешно загружены\n",
      "Начали генерацию SQL запросов\n"
     ]
    },
    {
     "name": "stderr",
     "output_type": "stream",
     "text": [
      "Processed prompts: 100%|██████████| 500/500 [01:44<00:00,  4.80it/s, est. speed input: 36895.31 toks/s, output: 262.28 toks/s]"
     ]
    },
    {
     "name": "stdout",
     "output_type": "stream",
     "text": [
      "extract_think количество ошибок:  0\n",
      "extract_sql количество ошибок:  0\n",
      "Закончили генерацию SQL запросов\n",
      "Начали скорр полученных SQL запросов\n"
     ]
    },
    {
     "name": "stderr",
     "output_type": "stream",
     "text": [
      "\n"
     ]
    },
    {
     "name": "stdout",
     "output_type": "stream",
     "text": [
      "Qwen3-8b Mini DEV Финальный результат EX: 53.80\n",
      "Qwen3-8b процент запросов, которые успешно выполнились Mini DEV: 94.20%\n",
      "====================================================================================================\n",
      "\n",
      "\n",
      "Загружаем чаты с данными...\n",
      "Данные успешно загружены\n",
      "Начали генерацию SQL запросов\n"
     ]
    },
    {
     "name": "stderr",
     "output_type": "stream",
     "text": [
      "Processed prompts: 100%|██████████| 500/500 [01:42<00:00,  4.87it/s, est. speed input: 37504.85 toks/s, output: 262.96 toks/s]"
     ]
    },
    {
     "name": "stdout",
     "output_type": "stream",
     "text": [
      "extract_think количество ошибок:  0\n",
      "extract_sql количество ошибок:  0\n",
      "Закончили генерацию SQL запросов\n",
      "Начали скорр полученных SQL запросов\n"
     ]
    },
    {
     "name": "stderr",
     "output_type": "stream",
     "text": [
      "\n"
     ]
    },
    {
     "name": "stdout",
     "output_type": "stream",
     "text": [
      "Qwen3-8b Mini DEV Финальный результат EX: 55.80\n",
      "Qwen3-8b процент запросов, которые успешно выполнились Mini DEV: 94.60%\n",
      "====================================================================================================\n",
      "\n",
      "\n",
      "Загружаем чаты с данными...\n",
      "Данные успешно загружены\n",
      "Начали генерацию SQL запросов\n"
     ]
    },
    {
     "name": "stderr",
     "output_type": "stream",
     "text": [
      "Processed prompts: 100%|██████████| 500/500 [01:43<00:00,  4.81it/s, est. speed input: 36865.03 toks/s, output: 262.48 toks/s]"
     ]
    },
    {
     "name": "stdout",
     "output_type": "stream",
     "text": [
      "extract_think количество ошибок:  0\n",
      "extract_sql количество ошибок:  0\n",
      "Закончили генерацию SQL запросов\n",
      "Начали скорр полученных SQL запросов\n"
     ]
    },
    {
     "name": "stderr",
     "output_type": "stream",
     "text": [
      "\n"
     ]
    },
    {
     "name": "stdout",
     "output_type": "stream",
     "text": [
      "Qwen3-8b Mini DEV Финальный результат EX: 54.80\n",
      "Qwen3-8b процент запросов, которые успешно выполнились Mini DEV: 94.40%\n",
      "====================================================================================================\n",
      "\n",
      "\n",
      "Загружаем чаты с данными...\n",
      "Данные успешно загружены\n",
      "Начали генерацию SQL запросов\n"
     ]
    },
    {
     "name": "stderr",
     "output_type": "stream",
     "text": [
      "Processed prompts: 100%|██████████| 500/500 [01:42<00:00,  4.87it/s, est. speed input: 37252.51 toks/s, output: 264.90 toks/s]"
     ]
    },
    {
     "name": "stdout",
     "output_type": "stream",
     "text": [
      "extract_think количество ошибок:  0\n",
      "extract_sql количество ошибок:  0\n",
      "Закончили генерацию SQL запросов\n",
      "Начали скорр полученных SQL запросов\n"
     ]
    },
    {
     "name": "stderr",
     "output_type": "stream",
     "text": [
      "\n"
     ]
    },
    {
     "name": "stdout",
     "output_type": "stream",
     "text": [
      "Qwen3-8b Mini DEV Финальный результат EX: 55.80\n",
      "Qwen3-8b процент запросов, которые успешно выполнились Mini DEV: 93.60%\n",
      "====================================================================================================\n",
      "\n",
      "\n",
      "Загружаем чаты с данными...\n",
      "Данные успешно загружены\n",
      "Начали генерацию SQL запросов\n"
     ]
    },
    {
     "name": "stderr",
     "output_type": "stream",
     "text": [
      "Processed prompts: 100%|██████████| 500/500 [01:43<00:00,  4.81it/s, est. speed input: 36810.06 toks/s, output: 263.13 toks/s]"
     ]
    },
    {
     "name": "stdout",
     "output_type": "stream",
     "text": [
      "extract_think количество ошибок:  0\n",
      "extract_sql количество ошибок:  0\n",
      "Закончили генерацию SQL запросов\n",
      "Начали скорр полученных SQL запросов\n"
     ]
    },
    {
     "name": "stderr",
     "output_type": "stream",
     "text": [
      "\n"
     ]
    },
    {
     "name": "stdout",
     "output_type": "stream",
     "text": [
      "Qwen3-8b Mini DEV Финальный результат EX: 55.00\n",
      "Qwen3-8b процент запросов, которые успешно выполнились Mini DEV: 93.80%\n",
      "====================================================================================================\n",
      "\n",
      "\n",
      "Загружаем чаты с данными...\n",
      "Данные успешно загружены\n",
      "Начали генерацию SQL запросов\n"
     ]
    },
    {
     "name": "stderr",
     "output_type": "stream",
     "text": [
      "Processed prompts: 100%|██████████| 500/500 [01:42<00:00,  4.87it/s, est. speed input: 37273.13 toks/s, output: 266.50 toks/s]"
     ]
    },
    {
     "name": "stdout",
     "output_type": "stream",
     "text": [
      "extract_think количество ошибок:  0\n",
      "extract_sql количество ошибок:  0\n",
      "Закончили генерацию SQL запросов\n",
      "Начали скорр полученных SQL запросов\n"
     ]
    },
    {
     "name": "stderr",
     "output_type": "stream",
     "text": [
      "\n"
     ]
    },
    {
     "name": "stdout",
     "output_type": "stream",
     "text": [
      "Qwen3-8b Mini DEV Финальный результат EX: 53.20\n",
      "Qwen3-8b процент запросов, которые успешно выполнились Mini DEV: 93.60%\n",
      "====================================================================================================\n",
      "\n",
      "\n",
      "Загружаем чаты с данными...\n",
      "Данные успешно загружены\n",
      "Начали генерацию SQL запросов\n"
     ]
    },
    {
     "name": "stderr",
     "output_type": "stream",
     "text": [
      "Processed prompts: 100%|██████████| 500/500 [01:47<00:00,  4.65it/s, est. speed input: 35440.39 toks/s, output: 261.87 toks/s]"
     ]
    },
    {
     "name": "stdout",
     "output_type": "stream",
     "text": [
      "extract_think количество ошибок:  0\n",
      "extract_sql количество ошибок:  0\n",
      "Закончили генерацию SQL запросов\n",
      "Начали скорр полученных SQL запросов\n"
     ]
    },
    {
     "name": "stderr",
     "output_type": "stream",
     "text": [
      "\n"
     ]
    },
    {
     "name": "stdout",
     "output_type": "stream",
     "text": [
      "Qwen3-8b Mini DEV Финальный результат EX: 54.60\n",
      "Qwen3-8b процент запросов, которые успешно выполнились Mini DEV: 93.60%\n",
      "====================================================================================================\n",
      "\n",
      "\n",
      "Загружаем чаты с данными...\n",
      "Данные успешно загружены\n",
      "Начали генерацию SQL запросов\n"
     ]
    },
    {
     "name": "stderr",
     "output_type": "stream",
     "text": [
      "Processed prompts: 100%|██████████| 500/500 [01:43<00:00,  4.85it/s, est. speed input: 37045.89 toks/s, output: 263.19 toks/s]"
     ]
    },
    {
     "name": "stdout",
     "output_type": "stream",
     "text": [
      "extract_think количество ошибок:  0\n",
      "extract_sql количество ошибок:  0\n",
      "Закончили генерацию SQL запросов\n",
      "Начали скорр полученных SQL запросов\n"
     ]
    },
    {
     "name": "stderr",
     "output_type": "stream",
     "text": [
      "\n"
     ]
    },
    {
     "name": "stdout",
     "output_type": "stream",
     "text": [
      "Qwen3-8b Mini DEV Финальный результат EX: 53.80\n",
      "Qwen3-8b процент запросов, которые успешно выполнились Mini DEV: 93.60%\n",
      "====================================================================================================\n",
      "\n",
      "\n",
      "Загружаем чаты с данными...\n",
      "Данные успешно загружены\n",
      "Начали генерацию SQL запросов\n"
     ]
    },
    {
     "name": "stderr",
     "output_type": "stream",
     "text": [
      "Processed prompts: 100%|██████████| 500/500 [01:41<00:00,  4.92it/s, est. speed input: 37640.22 toks/s, output: 264.89 toks/s]"
     ]
    },
    {
     "name": "stdout",
     "output_type": "stream",
     "text": [
      "extract_think количество ошибок:  0\n",
      "extract_sql количество ошибок:  0\n",
      "Закончили генерацию SQL запросов\n",
      "Начали скорр полученных SQL запросов\n"
     ]
    },
    {
     "name": "stderr",
     "output_type": "stream",
     "text": [
      "\n"
     ]
    },
    {
     "name": "stdout",
     "output_type": "stream",
     "text": [
      "Qwen3-8b Mini DEV Финальный результат EX: 54.20\n",
      "Qwen3-8b процент запросов, которые успешно выполнились Mini DEV: 94.60%\n",
      "====================================================================================================\n",
      "\n",
      "\n",
      "Загружаем чаты с данными...\n",
      "Данные успешно загружены\n",
      "Начали генерацию SQL запросов\n"
     ]
    },
    {
     "name": "stderr",
     "output_type": "stream",
     "text": [
      "Processed prompts: 100%|██████████| 500/500 [01:43<00:00,  4.83it/s, est. speed input: 37511.61 toks/s, output: 259.35 toks/s]"
     ]
    },
    {
     "name": "stdout",
     "output_type": "stream",
     "text": [
      "extract_think количество ошибок:  0\n",
      "extract_sql количество ошибок:  0\n",
      "Закончили генерацию SQL запросов\n",
      "Начали скорр полученных SQL запросов\n"
     ]
    },
    {
     "name": "stderr",
     "output_type": "stream",
     "text": [
      "\n"
     ]
    },
    {
     "name": "stdout",
     "output_type": "stream",
     "text": [
      "Qwen3-8b Mini DEV Финальный результат EX: 53.80\n",
      "Qwen3-8b процент запросов, которые успешно выполнились Mini DEV: 94.20%\n",
      "====================================================================================================\n",
      "\n",
      "\n",
      "Загружаем чаты с данными...\n",
      "Данные успешно загружены\n",
      "Начали генерацию SQL запросов\n"
     ]
    },
    {
     "name": "stderr",
     "output_type": "stream",
     "text": [
      "Processed prompts: 100%|██████████| 500/500 [01:43<00:00,  4.82it/s, est. speed input: 37439.05 toks/s, output: 261.63 toks/s]"
     ]
    },
    {
     "name": "stdout",
     "output_type": "stream",
     "text": [
      "extract_think количество ошибок:  0\n",
      "extract_sql количество ошибок:  0\n",
      "Закончили генерацию SQL запросов\n",
      "Начали скорр полученных SQL запросов\n"
     ]
    },
    {
     "name": "stderr",
     "output_type": "stream",
     "text": [
      "\n"
     ]
    },
    {
     "name": "stdout",
     "output_type": "stream",
     "text": [
      "Qwen3-8b Mini DEV Финальный результат EX: 54.80\n",
      "Qwen3-8b процент запросов, которые успешно выполнились Mini DEV: 92.60%\n",
      "====================================================================================================\n",
      "\n",
      "\n",
      "Загружаем чаты с данными...\n",
      "Данные успешно загружены\n",
      "Начали генерацию SQL запросов\n"
     ]
    },
    {
     "name": "stderr",
     "output_type": "stream",
     "text": [
      "Processed prompts: 100%|██████████| 500/500 [01:44<00:00,  4.80it/s, est. speed input: 37657.01 toks/s, output: 259.63 toks/s]"
     ]
    },
    {
     "name": "stdout",
     "output_type": "stream",
     "text": [
      "extract_think количество ошибок:  0\n",
      "extract_sql количество ошибок:  0\n",
      "Закончили генерацию SQL запросов\n",
      "Начали скорр полученных SQL запросов\n"
     ]
    },
    {
     "name": "stderr",
     "output_type": "stream",
     "text": [
      "\n"
     ]
    },
    {
     "name": "stdout",
     "output_type": "stream",
     "text": [
      "Qwen3-8b Mini DEV Финальный результат EX: 54.40\n",
      "Qwen3-8b процент запросов, которые успешно выполнились Mini DEV: 93.80%\n",
      "====================================================================================================\n",
      "\n",
      "\n",
      "Загружаем чаты с данными...\n",
      "Данные успешно загружены\n",
      "Начали генерацию SQL запросов\n"
     ]
    },
    {
     "name": "stderr",
     "output_type": "stream",
     "text": [
      "Processed prompts: 100%|██████████| 500/500 [01:44<00:00,  4.77it/s, est. speed input: 37266.90 toks/s, output: 258.57 toks/s]"
     ]
    },
    {
     "name": "stdout",
     "output_type": "stream",
     "text": [
      "extract_think количество ошибок:  0\n",
      "extract_sql количество ошибок:  0\n",
      "Закончили генерацию SQL запросов\n",
      "Начали скорр полученных SQL запросов\n"
     ]
    },
    {
     "name": "stderr",
     "output_type": "stream",
     "text": [
      "\n"
     ]
    },
    {
     "name": "stdout",
     "output_type": "stream",
     "text": [
      "Qwen3-8b Mini DEV Финальный результат EX: 53.00\n",
      "Qwen3-8b процент запросов, которые успешно выполнились Mini DEV: 93.20%\n",
      "====================================================================================================\n",
      "\n",
      "\n",
      "Загружаем чаты с данными...\n",
      "Данные успешно загружены\n",
      "Начали генерацию SQL запросов\n"
     ]
    },
    {
     "name": "stderr",
     "output_type": "stream",
     "text": [
      "Processed prompts: 100%|██████████| 500/500 [01:46<00:00,  4.68it/s, est. speed input: 36565.49 toks/s, output: 260.31 toks/s]"
     ]
    },
    {
     "name": "stdout",
     "output_type": "stream",
     "text": [
      "extract_think количество ошибок:  0\n",
      "extract_sql количество ошибок:  0\n",
      "Закончили генерацию SQL запросов\n",
      "Начали скорр полученных SQL запросов\n"
     ]
    },
    {
     "name": "stderr",
     "output_type": "stream",
     "text": [
      "\n"
     ]
    },
    {
     "name": "stdout",
     "output_type": "stream",
     "text": [
      "Qwen3-8b Mini DEV Финальный результат EX: 53.80\n",
      "Qwen3-8b процент запросов, которые успешно выполнились Mini DEV: 93.80%\n",
      "====================================================================================================\n",
      "\n",
      "\n",
      "Загружаем чаты с данными...\n",
      "Данные успешно загружены\n",
      "Начали генерацию SQL запросов\n"
     ]
    },
    {
     "name": "stderr",
     "output_type": "stream",
     "text": [
      "Processed prompts: 100%|██████████| 500/500 [01:42<00:00,  4.86it/s, est. speed input: 37802.29 toks/s, output: 260.95 toks/s]"
     ]
    },
    {
     "name": "stdout",
     "output_type": "stream",
     "text": [
      "extract_think количество ошибок:  0\n",
      "extract_sql количество ошибок:  0\n",
      "Закончили генерацию SQL запросов\n",
      "Начали скорр полученных SQL запросов\n"
     ]
    },
    {
     "name": "stderr",
     "output_type": "stream",
     "text": [
      "\n"
     ]
    },
    {
     "name": "stdout",
     "output_type": "stream",
     "text": [
      "Qwen3-8b Mini DEV Финальный результат EX: 54.20\n",
      "Qwen3-8b процент запросов, которые успешно выполнились Mini DEV: 93.60%\n",
      "====================================================================================================\n",
      "\n",
      "\n",
      "Загружаем чаты с данными...\n",
      "Данные успешно загружены\n",
      "Начали генерацию SQL запросов\n"
     ]
    },
    {
     "name": "stderr",
     "output_type": "stream",
     "text": [
      "Processed prompts: 100%|██████████| 500/500 [01:41<00:00,  4.90it/s, est. speed input: 37730.99 toks/s, output: 265.20 toks/s]"
     ]
    },
    {
     "name": "stdout",
     "output_type": "stream",
     "text": [
      "extract_think количество ошибок:  0\n",
      "extract_sql количество ошибок:  0\n",
      "Закончили генерацию SQL запросов\n",
      "Начали скорр полученных SQL запросов\n"
     ]
    },
    {
     "name": "stderr",
     "output_type": "stream",
     "text": [
      "\n"
     ]
    },
    {
     "name": "stdout",
     "output_type": "stream",
     "text": [
      "Qwen3-8b Mini DEV Финальный результат EX: 52.80\n",
      "Qwen3-8b процент запросов, которые успешно выполнились Mini DEV: 93.60%\n",
      "====================================================================================================\n",
      "\n",
      "\n",
      "Загружаем чаты с данными...\n",
      "Данные успешно загружены\n",
      "Начали генерацию SQL запросов\n"
     ]
    },
    {
     "name": "stderr",
     "output_type": "stream",
     "text": [
      "Processed prompts: 100%|██████████| 500/500 [01:43<00:00,  4.84it/s, est. speed input: 37686.82 toks/s, output: 262.13 toks/s]"
     ]
    },
    {
     "name": "stdout",
     "output_type": "stream",
     "text": [
      "extract_think количество ошибок:  0\n",
      "extract_sql количество ошибок:  0\n",
      "Закончили генерацию SQL запросов\n",
      "Начали скорр полученных SQL запросов\n"
     ]
    },
    {
     "name": "stderr",
     "output_type": "stream",
     "text": [
      "\n"
     ]
    },
    {
     "name": "stdout",
     "output_type": "stream",
     "text": [
      "Qwen3-8b Mini DEV Финальный результат EX: 52.40\n",
      "Qwen3-8b процент запросов, которые успешно выполнились Mini DEV: 93.00%\n",
      "====================================================================================================\n",
      "\n",
      "\n",
      "Загружаем чаты с данными...\n",
      "Данные успешно загружены\n",
      "Начали генерацию SQL запросов\n"
     ]
    },
    {
     "name": "stderr",
     "output_type": "stream",
     "text": [
      "Processed prompts: 100%|██████████| 500/500 [01:42<00:00,  4.88it/s, est. speed input: 37708.99 toks/s, output: 264.94 toks/s]"
     ]
    },
    {
     "name": "stdout",
     "output_type": "stream",
     "text": [
      "extract_think количество ошибок:  0\n",
      "extract_sql количество ошибок:  0\n",
      "Закончили генерацию SQL запросов\n",
      "Начали скорр полученных SQL запросов\n"
     ]
    },
    {
     "name": "stderr",
     "output_type": "stream",
     "text": [
      "\n"
     ]
    },
    {
     "name": "stdout",
     "output_type": "stream",
     "text": [
      "Qwen3-8b Mini DEV Финальный результат EX: 53.00\n",
      "Qwen3-8b процент запросов, которые успешно выполнились Mini DEV: 94.00%\n",
      "====================================================================================================\n",
      "\n",
      "\n",
      "Загружаем чаты с данными...\n",
      "Данные успешно загружены\n",
      "Начали генерацию SQL запросов\n"
     ]
    },
    {
     "name": "stderr",
     "output_type": "stream",
     "text": [
      "Processed prompts: 100%|██████████| 500/500 [01:46<00:00,  4.71it/s, est. speed input: 36360.34 toks/s, output: 261.59 toks/s]"
     ]
    },
    {
     "name": "stdout",
     "output_type": "stream",
     "text": [
      "extract_think количество ошибок:  0\n",
      "extract_sql количество ошибок:  0\n",
      "Закончили генерацию SQL запросов\n",
      "Начали скорр полученных SQL запросов\n"
     ]
    },
    {
     "name": "stderr",
     "output_type": "stream",
     "text": [
      "\n"
     ]
    },
    {
     "name": "stdout",
     "output_type": "stream",
     "text": [
      "Qwen3-8b Mini DEV Финальный результат EX: 52.20\n",
      "Qwen3-8b процент запросов, которые успешно выполнились Mini DEV: 93.00%\n",
      "====================================================================================================\n",
      "\n",
      "\n",
      "Загружаем чаты с данными...\n",
      "Данные успешно загружены\n",
      "Начали генерацию SQL запросов\n"
     ]
    },
    {
     "name": "stderr",
     "output_type": "stream",
     "text": [
      "Processed prompts: 100%|██████████| 500/500 [01:42<00:00,  4.86it/s, est. speed input: 37659.49 toks/s, output: 264.75 toks/s]"
     ]
    },
    {
     "name": "stdout",
     "output_type": "stream",
     "text": [
      "extract_think количество ошибок:  0\n",
      "extract_sql количество ошибок:  0\n",
      "Закончили генерацию SQL запросов\n",
      "Начали скорр полученных SQL запросов\n"
     ]
    },
    {
     "name": "stderr",
     "output_type": "stream",
     "text": [
      "\n"
     ]
    },
    {
     "name": "stdout",
     "output_type": "stream",
     "text": [
      "Qwen3-8b Mini DEV Финальный результат EX: 54.20\n",
      "Qwen3-8b процент запросов, которые успешно выполнились Mini DEV: 94.40%\n",
      "====================================================================================================\n",
      "\n",
      "\n",
      "Загружаем чаты с данными...\n",
      "Данные успешно загружены\n",
      "Начали генерацию SQL запросов\n"
     ]
    },
    {
     "name": "stderr",
     "output_type": "stream",
     "text": [
      "Processed prompts: 100%|██████████| 500/500 [01:43<00:00,  4.85it/s, est. speed input: 37787.23 toks/s, output: 259.58 toks/s]"
     ]
    },
    {
     "name": "stdout",
     "output_type": "stream",
     "text": [
      "extract_think количество ошибок:  0\n",
      "extract_sql количество ошибок:  0\n",
      "Закончили генерацию SQL запросов\n",
      "Начали скорр полученных SQL запросов\n"
     ]
    },
    {
     "name": "stderr",
     "output_type": "stream",
     "text": [
      "\n"
     ]
    },
    {
     "name": "stdout",
     "output_type": "stream",
     "text": [
      "Qwen3-8b Mini DEV Финальный результат EX: 53.20\n",
      "Qwen3-8b процент запросов, которые успешно выполнились Mini DEV: 94.60%\n",
      "====================================================================================================\n",
      "\n",
      "\n",
      "Загружаем чаты с данными...\n",
      "Данные успешно загружены\n",
      "Начали генерацию SQL запросов\n"
     ]
    },
    {
     "name": "stderr",
     "output_type": "stream",
     "text": [
      "Processed prompts: 100%|██████████| 500/500 [01:43<00:00,  4.83it/s, est. speed input: 37574.60 toks/s, output: 261.06 toks/s]"
     ]
    },
    {
     "name": "stdout",
     "output_type": "stream",
     "text": [
      "extract_think количество ошибок:  0\n",
      "extract_sql количество ошибок:  0\n",
      "Закончили генерацию SQL запросов\n",
      "Начали скорр полученных SQL запросов\n"
     ]
    },
    {
     "name": "stderr",
     "output_type": "stream",
     "text": [
      "\n"
     ]
    },
    {
     "name": "stdout",
     "output_type": "stream",
     "text": [
      "Qwen3-8b Mini DEV Финальный результат EX: 53.60\n",
      "Qwen3-8b процент запросов, которые успешно выполнились Mini DEV: 94.60%\n",
      "====================================================================================================\n",
      "\n",
      "\n",
      "Загружаем чаты с данными...\n",
      "Данные успешно загружены\n",
      "Начали генерацию SQL запросов\n"
     ]
    },
    {
     "name": "stderr",
     "output_type": "stream",
     "text": [
      "Processed prompts: 100%|██████████| 500/500 [01:41<00:00,  4.94it/s, est. speed input: 37822.98 toks/s, output: 265.07 toks/s]"
     ]
    },
    {
     "name": "stdout",
     "output_type": "stream",
     "text": [
      "extract_think количество ошибок:  0\n",
      "extract_sql количество ошибок:  0\n",
      "Закончили генерацию SQL запросов\n",
      "Начали скорр полученных SQL запросов\n"
     ]
    },
    {
     "name": "stderr",
     "output_type": "stream",
     "text": [
      "\n"
     ]
    },
    {
     "name": "stdout",
     "output_type": "stream",
     "text": [
      "Qwen3-8b Mini DEV Финальный результат EX: 54.00\n",
      "Qwen3-8b процент запросов, которые успешно выполнились Mini DEV: 96.00%\n",
      "====================================================================================================\n",
      "\n",
      "\n",
      "Загружаем чаты с данными...\n",
      "Данные успешно загружены\n",
      "Начали генерацию SQL запросов\n"
     ]
    },
    {
     "name": "stderr",
     "output_type": "stream",
     "text": [
      "Processed prompts: 100%|██████████| 500/500 [01:42<00:00,  4.89it/s, est. speed input: 37629.61 toks/s, output: 261.31 toks/s]"
     ]
    },
    {
     "name": "stdout",
     "output_type": "stream",
     "text": [
      "extract_think количество ошибок:  0\n",
      "extract_sql количество ошибок:  0\n",
      "Закончили генерацию SQL запросов\n",
      "Начали скорр полученных SQL запросов\n"
     ]
    },
    {
     "name": "stderr",
     "output_type": "stream",
     "text": [
      "\n"
     ]
    },
    {
     "name": "stdout",
     "output_type": "stream",
     "text": [
      "Qwen3-8b Mini DEV Финальный результат EX: 53.80\n",
      "Qwen3-8b процент запросов, которые успешно выполнились Mini DEV: 95.00%\n",
      "====================================================================================================\n",
      "\n",
      "\n",
      "Загружаем чаты с данными...\n",
      "Данные успешно загружены\n",
      "Начали генерацию SQL запросов\n"
     ]
    },
    {
     "name": "stderr",
     "output_type": "stream",
     "text": [
      "Processed prompts: 100%|██████████| 500/500 [01:41<00:00,  4.91it/s, est. speed input: 37758.45 toks/s, output: 259.38 toks/s]"
     ]
    },
    {
     "name": "stdout",
     "output_type": "stream",
     "text": [
      "extract_think количество ошибок:  0\n",
      "extract_sql количество ошибок:  0\n",
      "Закончили генерацию SQL запросов\n",
      "Начали скорр полученных SQL запросов\n"
     ]
    },
    {
     "name": "stderr",
     "output_type": "stream",
     "text": [
      "\n"
     ]
    },
    {
     "name": "stdout",
     "output_type": "stream",
     "text": [
      "Qwen3-8b Mini DEV Финальный результат EX: 54.40\n",
      "Qwen3-8b процент запросов, которые успешно выполнились Mini DEV: 95.40%\n",
      "====================================================================================================\n",
      "\n",
      "\n",
      "Загружаем чаты с данными...\n",
      "Данные успешно загружены\n",
      "Начали генерацию SQL запросов\n"
     ]
    },
    {
     "name": "stderr",
     "output_type": "stream",
     "text": [
      "Processed prompts: 100%|██████████| 500/500 [01:42<00:00,  4.88it/s, est. speed input: 37485.50 toks/s, output: 260.70 toks/s]"
     ]
    },
    {
     "name": "stdout",
     "output_type": "stream",
     "text": [
      "extract_think количество ошибок:  0\n",
      "extract_sql количество ошибок:  0\n",
      "Закончили генерацию SQL запросов\n",
      "Начали скорр полученных SQL запросов\n"
     ]
    },
    {
     "name": "stderr",
     "output_type": "stream",
     "text": [
      "\n"
     ]
    },
    {
     "name": "stdout",
     "output_type": "stream",
     "text": [
      "Qwen3-8b Mini DEV Финальный результат EX: 54.20\n",
      "Qwen3-8b процент запросов, которые успешно выполнились Mini DEV: 94.00%\n",
      "====================================================================================================\n",
      "\n",
      "\n",
      "Загружаем чаты с данными...\n",
      "Данные успешно загружены\n",
      "Начали генерацию SQL запросов\n"
     ]
    },
    {
     "name": "stderr",
     "output_type": "stream",
     "text": [
      "Processed prompts: 100%|██████████| 500/500 [01:42<00:00,  4.89it/s, est. speed input: 37395.09 toks/s, output: 262.47 toks/s]"
     ]
    },
    {
     "name": "stdout",
     "output_type": "stream",
     "text": [
      "extract_think количество ошибок:  0\n",
      "extract_sql количество ошибок:  0\n",
      "Закончили генерацию SQL запросов\n",
      "Начали скорр полученных SQL запросов\n"
     ]
    },
    {
     "name": "stderr",
     "output_type": "stream",
     "text": [
      "\n"
     ]
    },
    {
     "name": "stdout",
     "output_type": "stream",
     "text": [
      "Qwen3-8b Mini DEV Финальный результат EX: 54.80\n",
      "Qwen3-8b процент запросов, которые успешно выполнились Mini DEV: 93.60%\n",
      "====================================================================================================\n",
      "\n",
      "\n",
      "Загружаем чаты с данными...\n",
      "Данные успешно загружены\n",
      "Начали генерацию SQL запросов\n"
     ]
    },
    {
     "name": "stderr",
     "output_type": "stream",
     "text": [
      "Processed prompts: 100%|██████████| 500/500 [01:42<00:00,  4.89it/s, est. speed input: 37491.92 toks/s, output: 263.79 toks/s]"
     ]
    },
    {
     "name": "stdout",
     "output_type": "stream",
     "text": [
      "extract_think количество ошибок:  0\n",
      "extract_sql количество ошибок:  0\n",
      "Закончили генерацию SQL запросов\n",
      "Начали скорр полученных SQL запросов\n"
     ]
    },
    {
     "name": "stderr",
     "output_type": "stream",
     "text": [
      "\n"
     ]
    },
    {
     "name": "stdout",
     "output_type": "stream",
     "text": [
      "Qwen3-8b Mini DEV Финальный результат EX: 54.20\n",
      "Qwen3-8b процент запросов, которые успешно выполнились Mini DEV: 94.20%\n",
      "====================================================================================================\n",
      "\n",
      "\n",
      "Загружаем чаты с данными...\n",
      "Данные успешно загружены\n",
      "Начали генерацию SQL запросов\n"
     ]
    },
    {
     "name": "stderr",
     "output_type": "stream",
     "text": [
      "Processed prompts: 100%|██████████| 500/500 [01:42<00:00,  4.87it/s, est. speed input: 37553.14 toks/s, output: 262.98 toks/s]"
     ]
    },
    {
     "name": "stdout",
     "output_type": "stream",
     "text": [
      "extract_think количество ошибок:  0\n",
      "extract_sql количество ошибок:  0\n",
      "Закончили генерацию SQL запросов\n",
      "Начали скорр полученных SQL запросов\n"
     ]
    },
    {
     "name": "stderr",
     "output_type": "stream",
     "text": [
      "\n"
     ]
    },
    {
     "name": "stdout",
     "output_type": "stream",
     "text": [
      "Qwen3-8b Mini DEV Финальный результат EX: 54.40\n",
      "Qwen3-8b процент запросов, которые успешно выполнились Mini DEV: 94.40%\n",
      "====================================================================================================\n",
      "\n",
      "\n",
      "Загружаем чаты с данными...\n",
      "Данные успешно загружены\n",
      "Начали генерацию SQL запросов\n"
     ]
    },
    {
     "name": "stderr",
     "output_type": "stream",
     "text": [
      "Processed prompts: 100%|██████████| 500/500 [01:41<00:00,  4.91it/s, est. speed input: 37675.68 toks/s, output: 264.80 toks/s]"
     ]
    },
    {
     "name": "stdout",
     "output_type": "stream",
     "text": [
      "extract_think количество ошибок:  0\n",
      "extract_sql количество ошибок:  0\n",
      "Закончили генерацию SQL запросов\n",
      "Начали скорр полученных SQL запросов\n"
     ]
    },
    {
     "name": "stderr",
     "output_type": "stream",
     "text": [
      "\n"
     ]
    },
    {
     "name": "stdout",
     "output_type": "stream",
     "text": [
      "Qwen3-8b Mini DEV Финальный результат EX: 54.60\n",
      "Qwen3-8b процент запросов, которые успешно выполнились Mini DEV: 94.80%\n",
      "====================================================================================================\n",
      "\n",
      "\n",
      "Загружаем чаты с данными...\n",
      "Данные успешно загружены\n",
      "Начали генерацию SQL запросов\n"
     ]
    },
    {
     "name": "stderr",
     "output_type": "stream",
     "text": [
      "Processed prompts: 100%|██████████| 500/500 [01:42<00:00,  4.87it/s, est. speed input: 37544.70 toks/s, output: 264.17 toks/s]"
     ]
    },
    {
     "name": "stdout",
     "output_type": "stream",
     "text": [
      "extract_think количество ошибок:  0\n",
      "extract_sql количество ошибок:  0\n",
      "Закончили генерацию SQL запросов\n",
      "Начали скорр полученных SQL запросов\n"
     ]
    },
    {
     "name": "stderr",
     "output_type": "stream",
     "text": [
      "\n"
     ]
    },
    {
     "name": "stdout",
     "output_type": "stream",
     "text": [
      "Qwen3-8b Mini DEV Финальный результат EX: 54.20\n",
      "Qwen3-8b процент запросов, которые успешно выполнились Mini DEV: 94.60%\n",
      "====================================================================================================\n",
      "\n",
      "\n",
      "Загружаем чаты с данными...\n",
      "Данные успешно загружены\n",
      "Начали генерацию SQL запросов\n"
     ]
    },
    {
     "name": "stderr",
     "output_type": "stream",
     "text": [
      "Processed prompts: 100%|██████████| 500/500 [01:49<00:00,  4.59it/s, est. speed input: 35397.90 toks/s, output: 257.27 toks/s]"
     ]
    },
    {
     "name": "stdout",
     "output_type": "stream",
     "text": [
      "extract_think количество ошибок:  0\n",
      "extract_sql количество ошибок:  0\n",
      "Закончили генерацию SQL запросов\n",
      "Начали скорр полученных SQL запросов\n"
     ]
    },
    {
     "name": "stderr",
     "output_type": "stream",
     "text": [
      "\n"
     ]
    },
    {
     "name": "stdout",
     "output_type": "stream",
     "text": [
      "Qwen3-8b Mini DEV Финальный результат EX: 53.80\n",
      "Qwen3-8b процент запросов, которые успешно выполнились Mini DEV: 94.00%\n",
      "====================================================================================================\n",
      "\n",
      "\n",
      "Загружаем чаты с данными...\n",
      "Данные успешно загружены\n",
      "Начали генерацию SQL запросов\n"
     ]
    },
    {
     "name": "stderr",
     "output_type": "stream",
     "text": [
      "Processed prompts: 100%|██████████| 500/500 [01:42<00:00,  4.88it/s, est. speed input: 37510.46 toks/s, output: 263.78 toks/s]"
     ]
    },
    {
     "name": "stdout",
     "output_type": "stream",
     "text": [
      "extract_think количество ошибок:  0\n",
      "extract_sql количество ошибок:  0\n",
      "Закончили генерацию SQL запросов\n",
      "Начали скорр полученных SQL запросов\n"
     ]
    },
    {
     "name": "stderr",
     "output_type": "stream",
     "text": [
      "\n"
     ]
    },
    {
     "name": "stdout",
     "output_type": "stream",
     "text": [
      "Qwen3-8b Mini DEV Финальный результат EX: 54.60\n",
      "Qwen3-8b процент запросов, которые успешно выполнились Mini DEV: 93.40%\n",
      "====================================================================================================\n",
      "\n",
      "\n",
      "Загружаем чаты с данными...\n",
      "Данные успешно загружены\n",
      "Начали генерацию SQL запросов\n"
     ]
    },
    {
     "name": "stderr",
     "output_type": "stream",
     "text": [
      "Processed prompts: 100%|██████████| 500/500 [01:47<00:00,  4.66it/s, est. speed input: 35851.36 toks/s, output: 261.86 toks/s]"
     ]
    },
    {
     "name": "stdout",
     "output_type": "stream",
     "text": [
      "extract_think количество ошибок:  0\n",
      "extract_sql количество ошибок:  0\n",
      "Закончили генерацию SQL запросов\n",
      "Начали скорр полученных SQL запросов\n"
     ]
    },
    {
     "name": "stderr",
     "output_type": "stream",
     "text": [
      "\n"
     ]
    },
    {
     "name": "stdout",
     "output_type": "stream",
     "text": [
      "Qwen3-8b Mini DEV Финальный результат EX: 54.80\n",
      "Qwen3-8b процент запросов, которые успешно выполнились Mini DEV: 93.80%\n",
      "====================================================================================================\n",
      "\n",
      "\n",
      "Загружаем чаты с данными...\n",
      "Данные успешно загружены\n",
      "Начали генерацию SQL запросов\n"
     ]
    },
    {
     "name": "stderr",
     "output_type": "stream",
     "text": [
      "Processed prompts: 100%|██████████| 500/500 [01:42<00:00,  4.90it/s, est. speed input: 37617.33 toks/s, output: 265.91 toks/s]"
     ]
    },
    {
     "name": "stdout",
     "output_type": "stream",
     "text": [
      "extract_think количество ошибок:  0\n",
      "extract_sql количество ошибок:  0\n",
      "Закончили генерацию SQL запросов\n",
      "Начали скорр полученных SQL запросов\n"
     ]
    },
    {
     "name": "stderr",
     "output_type": "stream",
     "text": [
      "\n"
     ]
    },
    {
     "name": "stdout",
     "output_type": "stream",
     "text": [
      "Qwen3-8b Mini DEV Финальный результат EX: 54.00\n",
      "Qwen3-8b процент запросов, которые успешно выполнились Mini DEV: 94.40%\n",
      "====================================================================================================\n",
      "\n",
      "\n",
      "Загружаем чаты с данными...\n",
      "Данные успешно загружены\n",
      "Начали генерацию SQL запросов\n"
     ]
    },
    {
     "name": "stderr",
     "output_type": "stream",
     "text": [
      "Processed prompts: 100%|██████████| 500/500 [01:47<00:00,  4.67it/s, est. speed input: 36040.91 toks/s, output: 257.45 toks/s]"
     ]
    },
    {
     "name": "stdout",
     "output_type": "stream",
     "text": [
      "extract_think количество ошибок:  0\n",
      "extract_sql количество ошибок:  0\n",
      "Закончили генерацию SQL запросов\n",
      "Начали скорр полученных SQL запросов\n"
     ]
    },
    {
     "name": "stderr",
     "output_type": "stream",
     "text": [
      "\n"
     ]
    },
    {
     "name": "stdout",
     "output_type": "stream",
     "text": [
      "Qwen3-8b Mini DEV Финальный результат EX: 54.20\n",
      "Qwen3-8b процент запросов, которые успешно выполнились Mini DEV: 95.00%\n",
      "====================================================================================================\n",
      "\n",
      "\n",
      "Загружаем чаты с данными...\n",
      "Данные успешно загружены\n",
      "Начали генерацию SQL запросов\n"
     ]
    },
    {
     "name": "stderr",
     "output_type": "stream",
     "text": [
      "Processed prompts: 100%|██████████| 500/500 [01:45<00:00,  4.75it/s, est. speed input: 36525.02 toks/s, output: 261.67 toks/s]"
     ]
    },
    {
     "name": "stdout",
     "output_type": "stream",
     "text": [
      "extract_think количество ошибок:  0\n",
      "extract_sql количество ошибок:  0\n",
      "Закончили генерацию SQL запросов\n",
      "Начали скорр полученных SQL запросов\n"
     ]
    },
    {
     "name": "stderr",
     "output_type": "stream",
     "text": [
      "\n"
     ]
    },
    {
     "name": "stdout",
     "output_type": "stream",
     "text": [
      "Qwen3-8b Mini DEV Финальный результат EX: 54.60\n",
      "Qwen3-8b процент запросов, которые успешно выполнились Mini DEV: 94.20%\n",
      "====================================================================================================\n",
      "\n",
      "\n"
     ]
    }
   ],
   "source": [
    "run_cot_experiment(model,arr_seeds,arr_versions, type_cot,num_observations=num_observations)"
   ]
  },
  {
   "cell_type": "markdown",
   "id": "51d986a1-0b51-4b35-9b9c-0acb184dcbda",
   "metadata": {},
   "source": [
    "## 7 наблюдений"
   ]
  },
  {
   "cell_type": "code",
   "execution_count": 5,
   "id": "1df4a57b-8c8c-4ec0-ba80-8dd616f717e7",
   "metadata": {},
   "outputs": [
    {
     "name": "stdout",
     "output_type": "stream",
     "text": [
      "[4, 359, 826, 199, 825, 419, 843, 225, 993, 760, 250, 115, 8, 952, 796, 740, 336, 950, 415, 796, 597, 321, 736, 474, 112, 610, 642, 636, 73, 442, 409, 139, 88, 798, 93, 158, 493, 863, 341, 64, 362, 172, 866, 729, 265, 276, 518, 576, 753, 144]\n",
      "model: Qwen3-8B\n"
     ]
    }
   ],
   "source": [
    "n= 50\n",
    "arr_seeds = [random.randint(0,1000) for _ in range(n)]\n",
    "arr_versions = [x for x in range(n)]\n",
    "model = \"Qwen3-8B\"\n",
    "num_observations = 7\n",
    "type_cot = 'all_new'\n",
    "print(arr_seeds)\n",
    "print(f\"model: {model}\")"
   ]
  },
  {
   "cell_type": "code",
   "execution_count": 6,
   "id": "6399f201-99a9-4c61-86dc-3570cf4878cd",
   "metadata": {
    "scrolled": true
   },
   "outputs": [
    {
     "name": "stdout",
     "output_type": "stream",
     "text": [
      "Загружаем модель...\n"
     ]
    },
    {
     "name": "stderr",
     "output_type": "stream",
     "text": [
      "Loading safetensors checkpoint shards:   0% Completed | 0/4 [00:00<?, ?it/s]\n",
      "Loading safetensors checkpoint shards:  25% Completed | 1/4 [00:00<00:00,  8.00it/s]\n",
      "Loading safetensors checkpoint shards:  50% Completed | 2/4 [00:00<00:00,  2.95it/s]\n",
      "Loading safetensors checkpoint shards:  75% Completed | 3/4 [00:01<00:00,  2.25it/s]\n",
      "Loading safetensors checkpoint shards: 100% Completed | 4/4 [00:01<00:00,  2.03it/s]\n",
      "Loading safetensors checkpoint shards: 100% Completed | 4/4 [00:01<00:00,  2.28it/s]\n",
      "\u001b[1;36m(VllmWorker rank=0 pid=3561165)\u001b[0;0m \n"
     ]
    },
    {
     "name": "stdout",
     "output_type": "stream",
     "text": [
      "Модель успешно загружена\n",
      "model_config {'model': '/data/home/vkropoti/models/Qwen3-8B', 'tensor_parallel_size': 2, 'max_model_len': 40000, 'max_new_tokens': 1500, 'temperature': 0, 'top_k': 1, 'top_p': 0.8, 'gpu_memory_utilization': 0.9, 'trust_remote_code': False, 'seed': 4}\n",
      "\n",
      "prompts_config {'path_dev_json': '/home/vkropoti/vllm/dev.json', 'path_sql_dbs': '/data/home/vkropoti/sql_data/dev_databases/', 'use_reasoning': False, 'paths_to_cot': ['/data/home/vkropoti/sql_llm_answers/base_reasoning/sql_all_new_Qwen3-8B-reasoning-v0', '/data/home/vkropoti/sql_llm_answers/base_reasoning/sql_all_new_Qwen3-8B-reasoning-v1', '/data/home/vkropoti/sql_llm_answers/base_reasoning/sql_all_new_Qwen3-8B-reasoning-v2', '/data/home/vkropoti/sql_llm_answers/base_reasoning/sql_all_new_Qwen3-8B-reasoning-v3', '/data/home/vkropoti/sql_llm_answers/base_reasoning/sql_all_new_Qwen3-8B-reasoning-v4', '/data/home/vkropoti/sql_llm_answers/base_reasoning/sql_all_new_Qwen3-8B-reasoning-v5', '/data/home/vkropoti/sql_llm_answers/base_reasoning/sql_all_new_Qwen3-8B-reasoning-v6']}\n",
      "\n",
      "save_config {'path_sql_save': '/data/home/vkropoti/sql_llm_answers/base_reasoning/sql_all_Qwen3-8B-cot_all_new_think==False_nobs7-v0', 'path_think_save': None, 'path_sql_answers_save': '/data/home/vkropoti/sql_llm_answers/base_reasoning/sql_predict_Qwen3-8B-cot_all_new_think==False_nobs7-v0', 'path_to_save_scores': '/data/home/vkropoti/sql_llm_answers/base_reasoning/sql_results_Qwen3-8B-cot_all_new_think==False_nobs7-v0', 'path_to_save_executed': '/data/home/vkropoti/sql_llm_answers/base_reasoning/sql_executed_Qwen3-8B-cot_all_new_think==False_nobs7-v0'}\n",
      "\n",
      "Модель успешно загружена\n",
      "Пример промпта\n",
      "<|im_start|>system\n",
      "\n",
      "You are a data science expert. Below, you are provided with a database schema and a natural language question. Your task is to understand the schema and generate a valid SQL query to answer the question.\n",
      "\n",
      "Database Engine: SQLite\n",
      "\n",
      "You will be given an additional analysis of other models, please take it into account, so the plan is\n",
      "1. Analyse given addition analysis from other models (find in which analysis the same and differ, how to use that to answer question)\n",
      "2. Combine best from previous part and think how to solve the problem (analyze tables, take care what columns avaliable in each table and so on, check the syntacsis)\n",
      "3. Create the answers. The answer should be only sql query.\n",
      "\n",
      "Carefully follow the instruction and add <|im_end|> and the end of the final answer<|im_end|>\n",
      "<|im_start|>user\n",
      "Here is addition analysis from other models which can be helpfull, please take this into account but be careful (choose the best from each analysis, combine them to make the most proper answer):\n",
      "\n",
      "model 0 analysis:\n",
      " Reasoning process:\n",
      "\n",
      "Okay, let's tackle this question. The user wants the ratio of customers who pay in EUR against those who pay in CZK. First, I need to figure out which tables and columns are relevant. \n",
      "\n",
      "Looking at the tables, the customers table has a Currency column. That's probably where the payment currency is stored. The question is about counting customers based on their Currency. So, I should focus on the customers table.\n",
      "\n",
      "Wait, but the question mentions \"customers who pay in EUR\" and \"CZK\". The customers table has a Currency column, so I need to count how many customers have Currency as 'EUR' and how many have 'CZK'. Then divide those counts to get the ratio.\n",
      "\n",
      "But wait, the customers table's Currency column might have other values too. So, I need to make sure I only consider those two currencies. Also, since the question is about the ratio, I need to calculate (count of EUR customers) divided by (count of CZK customers).\n",
      "\n",
      "So, the SQL query should select the count of customers where Currency is 'EUR' and the count where it's 'CZK', then divide them. But how to do that in SQLite?\n",
      "\n",
      "I can use a CASE statement in the SELECT clause. For example, count the number of EUR customers by summing 1 where Currency is 'EUR', and similarly for CZK. Then divide the two sums.\n",
      "\n",
      "Wait, but the ratio is count(EUR)/count(CZK). So, the query would be something like:\n",
      "\n",
      "SELECT \n",
      "    SUM(CASE WHEN Currency = 'EUR' THEN 1 ELSE 0 END) * 1.0 / \n",
      "    SUM(CASE WHEN Currency = 'CZK' THEN 1 ELSE 0 END) AS ratio\n",
      "FROM customers;\n",
      "\n",
      "But I need to make sure that the denominator isn't zero to avoid division by zero. However, the problem might assume that there are customers in both currencies. But since the user didn't mention handling that, maybe it's safe to proceed as is.\n",
      "\n",
      "Alternatively, maybe using COUNT with conditions. But COUNT with a condition would count non-null values. Wait, if the Currency is 'EUR', then COUNT(Currency = 'EUR') would count the number of rows where Currency is 'EUR', but in SQLite, the expression inside COUNT would evaluate to 1 or 0. Wait, no, COUNT() counts the number of non-NULL values. So, if I use COUNT(CASE WHEN Currency = 'EUR' THEN 1 END), that would count the number of customers with EUR. Similarly for CZK.\n",
      "\n",
      "So, the query would be:\n",
      "\n",
      "SELECT \n",
      "    COUNT(CASE WHEN Currency = 'EUR' THEN 1 END) * 1.0 / \n",
      "    COUNT(CASE WHEN Currency = 'CZK' THEN 1 END) AS ratio\n",
      "FROM customers;\n",
      "\n",
      "But I need to make sure that the division is done as a float. Multiplying by 1.0 ensures that the division is floating-point. Otherwise, if both counts are integers, the division might result in integer division, which would truncate the decimal part. So, adding * 1.0 is important.\n",
      "\n",
      "Another thing to check: the customers table's Currency column might have NULL values. But the question is about customers who pay in EUR or CZK, so we can assume that those with NULL are not counted. The CASE statements would handle that by returning 0 for those.\n",
      "\n",
      "So the final query should select the ratio using the COUNT with CASE statements. The tables involved are only the customers table. No need to join with other tables since the Currency is directly in the customers table.\n",
      "\n",
      "Wait, but the question says \"customers who pay in EUR\" – does that mean that the payment method is in EUR? But the customers table's Currency column might represent the currency they use, so that's the right place to look. So the query is correct.\n",
      "\n",
      "Thus, the SQL query should be as described.\n",
      "\n",
      "Final answer based om reasoning for this model:\n",
      "\n",
      "\n",
      "```\n",
      "-- Your SQL query\n",
      "SELECT COUNT(CASE WHEN Currency = 'EUR' THEN 1 END) * 1.0 / COUNT(CASE WHEN Currency = 'CZK' THEN 1 END) FROM customers;\n",
      "```\n",
      "\n",
      "model 1 analysis:\n",
      " Reasoning process:\n",
      "\n",
      "Okay, let's see. The user is asking for the ratio of customers who pay in EUR against those who pay in CZK. So first, I need to figure out which tables and columns are relevant here.\n",
      "\n",
      "Looking at the tables provided, the customers table has a Currency column. That's probably where the payment currency information is stored. The question is about customers, so the customers table is the main focus here.\n",
      "\n",
      "Wait, but the transactions_1k table also has a Currency column? No, checking the schema again. The customers table has Currency, but the transactions_1k table doesn't. So the Currency here refers to the customer's preferred currency, maybe? Or perhaps it's the transaction currency. Hmm, but the question is about customers paying in EUR or CZK. So it's likely that the Currency column in the customers table indicates the currency they use. \n",
      "\n",
      "So, the plan is to count how many customers have Currency 'EUR' and how many have 'CZK', then divide the two. But wait, the question says ratio of EUR customers against CZK. So EUR count divided by CZK count.\n",
      "\n",
      "But how to handle if there are customers with other currencies? The question doesn't mention them, so maybe we just ignore them. So the query should count customers where Currency is EUR, count where it's CZK, then compute the ratio.\n",
      "\n",
      "So the SQL would need to select those counts. But how to do that in SQLite. Maybe using CASE statements or SUM with conditions. Alternatively, use COUNT with a condition.\n",
      "\n",
      "So, the query would be something like:\n",
      "\n",
      "SELECT \n",
      "    COUNT(CASE WHEN Currency = 'EUR' THEN 1 END) * 1.0 / COUNT(CASE WHEN Currency = 'CZK' THEN 1 END) AS ratio\n",
      "FROM customers;\n",
      "\n",
      "Wait, but what if there are customers with other currencies? The COUNT(CASE WHEN ...) would ignore them. So that's correct.\n",
      "\n",
      "But the user wants the ratio, so the division. Also, need to make sure that division is floating point, not integer. So multiplying by 1.0 or using CAST.\n",
      "\n",
      "But in SQLite, dividing integers would result in integer division. So to get a float, we need to cast one of them to real. So maybe:\n",
      "\n",
      "COUNT(CASE WHEN Currency = 'EUR' THEN 1 END) * 1.0 / COUNT(CASE WHEN Currency = 'CZK' THEN 1 END)\n",
      "\n",
      "Alternatively, use SUM with 1s. But the CASE approach works.\n",
      "\n",
      "So the final query would be selecting that ratio from the customers table.\n",
      "\n",
      "Wait, but what if there are no customers in CZK? Then division by zero. But the question doesn't mention handling that, so maybe it's assumed that there are some.\n",
      "\n",
      "So the correct SQL is as above. Let me check the tables again to confirm. The customers table has Currency as a column. Yes. So the answer is that query.\n",
      "\n",
      "Final answer based om reasoning for this model:\n",
      "\n",
      "\n",
      "```\n",
      "SELECT COUNT(CASE WHEN Currency = 'EUR' THEN 1 END) * 1.0 / COUNT(CASE WHEN Currency = 'CZK' THEN 1 END) FROM customers;\n",
      "```\n",
      "\n",
      "model 2 analysis:\n",
      " Reasoning process:\n",
      "\n",
      "Okay, I need to find the ratio of customers who pay in EUR against those who pay in CZK. Let's start by checking the tables available. The customers table has a Currency column, which is probably the key here. The question is about the ratio of customers using EUR versus CZK.\n",
      "\n",
      "First, I should count how many customers have Currency set to 'EUR' and how many have it set to 'CZK'. Then, divide the two counts to get the ratio. But wait, the customers table's Currency column might have other values too. However, the question only asks about EUR and CZK, so I can filter for those two.\n",
      "\n",
      "I need to make sure that each customer is counted once, even if they have multiple transactions. Since the question is about customers, not transactions, I should use the CustomerID from the customers table. But wait, the transactions_1k table has a CustomerID as well. However, the customers table's Currency is the relevant column here. So, I should focus on the customers table.\n",
      "\n",
      "Wait, but maybe some customers don't have a Currency entry? The schema shows that Currency is nullable. So, I need to make sure I only consider customers where Currency is either EUR or CZK. Otherwise, those customers would be excluded from the ratio calculation.\n",
      "\n",
      "So, the plan is: count the number of customers with Currency = 'EUR', count those with Currency = 'CZK', then divide the two. But how to do this in a single query?\n",
      "\n",
      "In SQLite, I can use conditional aggregation. For example, using SUM(CASE WHEN Currency = 'EUR' THEN 1 ELSE 0 END) to get the count of EUR customers, and similarly for CZK. Then, divide them.\n",
      "\n",
      "But the question says \"ratio of customers who pay in EUR against customers who pay in CZK\". So, the ratio is EUR_count / CZK_count. However, I need to handle cases where CZK_count is zero to avoid division by zero. But the problem might not require handling that, assuming there are customers in both currencies.\n",
      "\n",
      "So the SQL query would select (count_eur / count_czk) from the customers table, filtering for Currency in ('EUR', 'CZK').\n",
      "\n",
      "Wait, but the customers table's Currency column might have other values. So, I should filter where Currency is either 'EUR' or 'CZK'. Then, count each group.\n",
      "\n",
      "So the query would be:\n",
      "\n",
      "SELECT \n",
      "    SUM(CASE WHEN Currency = 'EUR' THEN 1 ELSE 0 END) * 1.0 / \n",
      "    SUM(CASE WHEN Currency = 'CZK' THEN 1 ELSE 0 END) AS ratio\n",
      "FROM customers\n",
      "WHERE Currency IN ('EUR', 'CZK');\n",
      "\n",
      "But wait, the problem says \"customers who pay in EUR against customers who pay in CZK\". So, the ratio is EUR customers divided by CZK customers. That's what the query does.\n",
      "\n",
      "But I need to make sure that the query only includes customers with Currency as EUR or CZK. The WHERE clause ensures that. Also, using SUM with CASE WHEN gives the counts. The multiplication by 1.0 is to ensure that the division is done as a floating-point operation, not integer division.\n",
      "\n",
      "So this should give the correct ratio. Let me check the tables again. The customers table has the Currency column, so this is correct. There's no need to involve other tables like transactions_1k because the question is about customers' currency, not their transactions.\n",
      "\n",
      "Therefore, the final SQL query is as above.\n",
      "\n",
      "Final answer based om reasoning for this model:\n",
      "\n",
      "\n",
      "```\n",
      "-- Your SQL query\n",
      "SELECT SUM(CASE WHEN Currency = 'EUR' THEN 1 ELSE 0 END) * 1.0 / SUM(CASE WHEN Currency = 'CZK' THEN 1 ELSE 0 END) AS ratio FROM customers WHERE Currency IN ('EUR', 'CZK');\n",
      "```\n",
      "\n",
      "model 3 analysis:\n",
      " Reasoning process:\n",
      "\n",
      "Okay, I need to find the ratio of customers who pay in EUR against those who pay in CZK. Let me look at the tables provided.\n",
      "\n",
      "The customers table has a Currency column. So, I should check that. The question is about customers' payment currencies. So, the customers table is the right place to start.\n",
      "\n",
      "Wait, but the transactions_1k table also has a Price column, but the question is about the currency the customers use. So the Currency column in the customers table is the key here. \n",
      "\n",
      "So, the plan is to count how many customers have Currency 'EUR' and how many have 'CZK'. Then divide the two counts to get the ratio.\n",
      "\n",
      "But I need to make sure that each customer is counted once, even if they have multiple transactions. Because the question is about customers, not transactions. So, I should use the CustomerID from the customers table and group by Currency.\n",
      "\n",
      "So the SQL query would select the count of CustomerID where Currency is 'EUR' divided by the count where Currency is 'CZK'. But how to structure this in SQLite?\n",
      "\n",
      "I can use a CASE statement in the SELECT to count EUR and CZK separately. Or maybe use SUM with conditions. Let me think.\n",
      "\n",
      "Another approach is to use SUM with 1 when Currency is EUR and 0 otherwise for the numerator, and same for CZK. Then divide them.\n",
      "\n",
      "So the query would be:\n",
      "\n",
      "SELECT \n",
      "    SUM(CASE WHEN Currency = 'EUR' THEN 1 ELSE 0 END) / \n",
      "    SUM(CASE WHEN Currency = 'CZK' THEN 1 ELSE 0 END) AS ratio\n",
      "FROM customers;\n",
      "\n",
      "But wait, what if there are customers with other currencies? The question specifies EUR vs CZK, so others should be ignored. The CASE statements will handle that by only counting EUR and CZK.\n",
      "\n",
      "This should give the ratio as required. Let me check if there are any other tables involved. The question is about customers' currencies, so only the customers table is needed. No need to join with other tables. \n",
      "\n",
      "Yes, that's correct. So the final query is as above. Make sure to use the exact column names and table name. The Currency column is in the customers table. So the query is valid.\n",
      "\n",
      "Final answer based om reasoning for this model:\n",
      "\n",
      "\n",
      "```\n",
      "-- Your SQL query\n",
      "SELECT SUM(CASE WHEN Currency = 'EUR' THEN 1 ELSE 0 END) / SUM(CASE WHEN Currency = 'CZK' THEN 1 ELSE 0 END) FROM customers;\n",
      "```\n",
      "\n",
      "model 4 analysis:\n",
      " Reasoning process:\n",
      "\n",
      "Okay, I need to find the ratio of customers who pay in EUR against those who pay in CZK. Let's start by understanding the tables involved. The customers table has a Currency column, which is likely the key here. The question is about the ratio of customers using EUR versus CZK. \n",
      "\n",
      "First, I should check if the Currency column in the customers table is the right one. The question mentions customers paying in EUR or CZK, so the Currency field should indicate the currency they use. \n",
      "\n",
      "Next, I need to count how many customers have Currency set to EUR and how many have it set to CZK. Then, divide the EUR count by the CZK count to get the ratio. \n",
      "\n",
      "Wait, but what if there are customers with other currencies? The question doesn't mention them, so maybe we can ignore those. The ratio is specifically between EUR and CZK. \n",
      "\n",
      "So the approach is to count the number of customers where Currency is 'EUR' and the number where it's 'CZK'. Then, divide the two counts. \n",
      "\n",
      "But how to structure the SQL query? I can use a CASE statement or COUNT with conditions. Let me think. \n",
      "\n",
      "Using COUNT with CASE WHEN might be better. For example, COUNT(CASE WHEN Currency = 'EUR' THEN 1 END) as EUR_count, and similarly for CZK. Then, divide them. \n",
      "\n",
      "But in SQLite, division of integers might result in integer division. Wait, but the question says ratio, which could be a float. So maybe cast one of the counts to REAL. \n",
      "\n",
      "So the query would select (count_eur / count_czk) as ratio. \n",
      "\n",
      "Wait, but how to get both counts in a single query? Maybe using subqueries or conditional aggregation. \n",
      "\n",
      "Alternatively, I can use SUM with CASE WHEN. For example:\n",
      "\n",
      "SELECT \n",
      "    SUM(CASE WHEN Currency = 'EUR' THEN 1 ELSE 0 END) * 1.0 / \n",
      "    SUM(CASE WHEN Currency = 'CZK' THEN 1 ELSE 0 END) AS ratio\n",
      "FROM customers;\n",
      "\n",
      "But I need to make sure that the denominator isn't zero. However, the question doesn't mention handling division by zero, so maybe it's safe to assume there are customers in both currencies. \n",
      "\n",
      "Wait, the problem says \"customers who pay in EUR against customers who pay in CZK\". So the customers table's Currency column is the key. \n",
      "\n",
      "So the final query would be to count EUR and CZK customers, then divide. \n",
      "\n",
      "But the question specifies the ratio as count(EUR)/count(CZK). So the SQL should calculate that. \n",
      "\n",
      "Now, checking the tables again. The customers table has Currency as a column, so that's correct. \n",
      "\n",
      "So the SQL query would be:\n",
      "\n",
      "SELECT \n",
      "    COUNT(CASE WHEN Currency = 'EUR' THEN 1 END) * 1.0 / \n",
      "    COUNT(CASE WHEN Currency = 'CZK' THEN 1 END) AS ratio\n",
      "FROM customers;\n",
      "\n",
      "But in SQLite, using COUNT with a CASE statement where the condition is true returns the count of non-null values. So if the CASE returns 1 when Currency is EUR, then COUNT will count those rows. \n",
      "\n",
      "Alternatively, using SUM with 1 when condition is met. \n",
      "\n",
      "But the main idea is to get the counts and divide. \n",
      "\n",
      "So the final SQL should be as above. \n",
      "\n",
      "Wait, but in SQLite, the COUNT function counts non-null values. So if the CASE returns 1 (non-null) when Currency is EUR, then COUNT will count those. \n",
      "\n",
      "Yes, that should work. \n",
      "\n",
      "So the query is correct. Now, I need to make sure that the SQL syntax is correct. \n",
      "\n",
      "Another approach is to use SUM with 1 for each condition. For example:\n",
      "\n",
      "SELECT \n",
      "    SUM(CASE WHEN Currency = 'EUR' THEN 1 ELSE 0 END) * 1.0 / \n",
      "    SUM(CASE WHEN Currency = 'CZK' THEN 1 ELSE 0 END) AS ratio\n",
      "FROM customers;\n",
      "\n",
      "This should give the same result. \n",
      "\n",
      "But since the question specifies the ratio as count(EUR)/count(CZK), the first approach with COUNT(CASE WHEN...) is equivalent. \n",
      "\n",
      "Either way, the query should work. \n",
      "\n",
      "Now, I need to write the SQL query correctly, making sure to use the right column names and syntax. \n",
      "\n",
      "The final answer should be the SQL query that calculates this ratio.\n",
      "\n",
      "Final answer based om reasoning for this model:\n",
      "\n",
      "\n",
      "```\n",
      "-- Your SQL query\n",
      "SELECT COUNT(CASE WHEN Currency = 'EUR' THEN 1 END) * 1.0 / COUNT(CASE WHEN Currency = 'CZK' THEN 1 END) AS ratio FROM customers;\n",
      "```\n",
      "\n",
      "model 5 analysis:\n",
      " Reasoning process:\n",
      "\n",
      "Okay, I need to find the ratio of customers who pay in EUR against those who pay in CZK. Let's start by understanding the tables involved.\n",
      "\n",
      "First, looking at the tables, the customers table has a Currency column. That's probably where the payment currency is stored. The question is about counting customers based on their Currency. So I should check the customers table.\n",
      "\n",
      "Wait, but the question says \"customers who pay in EUR\" and \"CZK\". So the Currency column in the customers table must have values like 'EUR' and 'CZK'. I need to count how many customers have Currency as EUR and how many have CZK.\n",
      "\n",
      "But wait, what if some customers have other currencies? The question is about the ratio between EUR and CZK, so maybe we need to exclude others. But the problem statement doesn't mention that, so perhaps we just count EUR and CZK, and if there are others, they are not included in the ratio.\n",
      "\n",
      "So the approach would be to count the number of customers with Currency = 'EUR' and divide by the number with Currency = 'CZK'.\n",
      "\n",
      "But how to do that in SQL. The ratio can be calculated using a single query that counts both values.\n",
      "\n",
      "Wait, the user mentioned that the ratio is count(Currency='EUR') / count(Currency='CZK'). But in SQL, we can't directly do that. Instead, we can use conditional aggregation.\n",
      "\n",
      "So the query would select the count of customers where Currency is EUR and divide by the count where Currency is CZK.\n",
      "\n",
      "So the SQL query would be:\n",
      "\n",
      "SELECT \n",
      "    COUNT(CASE WHEN Currency = 'EUR' THEN 1 END) / COUNT(CASE WHEN Currency = 'CZK' THEN 1 END) AS ratio\n",
      "FROM customers;\n",
      "\n",
      "But wait, in SQLite, division of integers might result in integer division. For example, 3/2 would be 1. So maybe we need to cast one of them to a real number to get a floating point result. So perhaps:\n",
      "\n",
      "SELECT \n",
      "    COUNT(CASE WHEN Currency = 'EUR' THEN 1 END) * 1.0 / COUNT(CASE WHEN Currency = 'CZK' THEN 1 END) AS ratio\n",
      "FROM customers;\n",
      "\n",
      "But the question says to return the ratio as per the external knowledge. So the answer should be the division of the counts. However, the problem is that the customers table might not have any entries with Currency as CZK. In that case, division by zero would occur. But the problem doesn't mention handling that, so we proceed as is.\n",
      "\n",
      "So the final query would be selecting the ratio using the COUNT with CASE statements.\n",
      "\n",
      "Wait, but the question says \"customers who pay in EUR against customers who pay in CZK\". So the ratio is EUR count divided by CZK count. So the SQL query should compute that.\n",
      "\n",
      "So the correct query is:\n",
      "\n",
      "SELECT \n",
      "    COUNT(CASE WHEN Currency = 'EUR' THEN 1 END) * 1.0 / COUNT(CASE WHEN Currency = 'CZK' THEN 1 END) AS ratio\n",
      "FROM customers;\n",
      "\n",
      "But the user wants the SQL query to be enclosed in a code block. Also, the output should only include the ratio. The query should return a single value, the ratio.\n",
      "\n",
      "But I need to make sure that the columns are correctly named. The customers table has a Currency column. So the query is correct.\n",
      "\n",
      "Another thing to check: Are there any customers with NULL in Currency? The original schema says Currency is NULLABLE. So if some customers have NULL, they would be excluded from both counts. But the question is about customers who pay in EUR or CZK, so those with NULL are not counted. That's correct.\n",
      "\n",
      "So the final SQL query should be as above.\n",
      "\n",
      "Final answer based om reasoning for this model:\n",
      "\n",
      "\n",
      "```\n",
      "-- Your SQL query\n",
      "SELECT COUNT(CASE WHEN Currency = 'EUR' THEN 1 END) * 1.0 / COUNT(CASE WHEN Currency = 'CZK' THEN 1 END) AS ratio FROM customers;\n",
      "```\n",
      "\n",
      "model 6 analysis:\n",
      " Reasoning process:\n",
      "\n",
      "Okay, I need to find the ratio of customers who pay in EUR against those who pay in CZK. Let me think about the tables involved.\n",
      "\n",
      "First, the customers table has a Currency column. So I should look there. The question is about customers' payment currencies, so the customers table is the right place. \n",
      "\n",
      "Wait, but the transactions table has a Price column, but the question is about the currency the customers use. The Currency column in the customers table is the one that indicates the currency they pay in. So I need to count how many customers have Currency 'EUR' and how many have 'CZK'.\n",
      "\n",
      "But wait, the question says \"customers who pay in EUR\" and \"customers who pay in CZK\". So it's about the customers' currency, not the transaction's currency. So the customers table's Currency column is the key here.\n",
      "\n",
      "So the plan is: count the number of customers where Currency is 'EUR', and the number where it's 'CZK', then divide them.\n",
      "\n",
      "But how to do that in SQL. I can use COUNT with CASE statements. Or maybe use SUM with 1 where condition is met.\n",
      "\n",
      "So the query would be:\n",
      "\n",
      "SELECT \n",
      "  (COUNT(CASE WHEN Currency = 'EUR' THEN 1 END) * 1.0) / COUNT(CASE WHEN Currency = 'CZK' THEN 1 END) AS ratio\n",
      "FROM customers;\n",
      "\n",
      "Wait, but what if there are customers with other currencies? The question is about EUR vs CZK. So we need to make sure that we only count those two. But the problem is that if a customer has a currency other than EUR or CZK, they are not counted in either numerator or denominator. So the ratio is (number of EUR customers) divided by (number of CZK customers). \n",
      "\n",
      "But the question says \"ratio of customers who pay in EUR against customers who pay in CZK\", so that's EUR count / CZK count. \n",
      "\n",
      "So the SQL should count the customers with Currency 'EUR' and divide by those with 'CZK'. \n",
      "\n",
      "But I need to make sure that the denominator isn't zero. However, the problem doesn't mention handling division by zero, so perhaps the query can proceed as is.\n",
      "\n",
      "So the final query would be:\n",
      "\n",
      "SELECT \n",
      "  (COUNT(CASE WHEN Currency = 'EUR' THEN 1 END) * 1.0) / COUNT(CASE WHEN Currency = 'CZK' THEN 1 END) AS ratio\n",
      "FROM customers;\n",
      "\n",
      "But wait, the problem says \"ratio of customers who pay in EUR against customers who pay in CZK\". So the ratio is EUR count divided by CZK count. That's what the query does.\n",
      "\n",
      "But I need to make sure that the columns are correctly named. The customers table has a Currency column. So the query is correct.\n",
      "\n",
      "Another approach could be to use SUM with 1s and 0s, but the CASE statement approach is straightforward.\n",
      "\n",
      "So the final SQL query is as written above.\n",
      "\n",
      "Final answer based om reasoning for this model:\n",
      "\n",
      "\n",
      "```\n",
      "-- Your SQL query\n",
      "SELECT (COUNT(CASE WHEN Currency = 'EUR' THEN 1 END) * 1.0) / COUNT(CASE WHEN Currency = 'CZK' THEN 1 END) AS ratio FROM customers;\n",
      "```\n",
      "\n",
      "\n",
      "here is avaliable tables below\n",
      "\n",
      "\n",
      "Table: customers\n",
      "CREATE TABLE customers\n",
      "(\n",
      "    CustomerID INTEGER UNIQUE     not null\n",
      "        primary key,\n",
      "    Segment    TEXT null,\n",
      "    Currency   TEXT null\n",
      ")\n",
      "\n",
      "Table: gasstations\n",
      "CREATE TABLE gasstations\n",
      "(\n",
      "    GasStationID INTEGER    UNIQUE   not null\n",
      "        primary key,\n",
      "    ChainID      INTEGER          null,\n",
      "    Country      TEXT null,\n",
      "    Segment      TEXT null\n",
      ")\n",
      "\n",
      "Table: products\n",
      "CREATE TABLE products\n",
      "(\n",
      "    ProductID   INTEGER   UNIQUE      not null\n",
      "        primary key,\n",
      "    Description TEXT null\n",
      ")\n",
      "\n",
      "Table: transactions_1k\n",
      "CREATE TABLE \"transactions_1k\"\n",
      "(\n",
      "    TransactionID INTEGER\n",
      "        primary key autoincrement,\n",
      "    Date          DATE,\n",
      "    Time          TEXT,\n",
      "    CustomerID    INTEGER,\n",
      "    CardID        INTEGER,\n",
      "    GasStationID  INTEGER,\n",
      "    ProductID     INTEGER,\n",
      "    Amount        INTEGER,\n",
      "    Price         REAL\n",
      ")\n",
      "\n",
      "Table: sqlite_sequence\n",
      "CREATE TABLE sqlite_sequence(name,seq)\n",
      "\n",
      "Table: yearmonth\n",
      "CREATE TABLE \"yearmonth\"\n",
      "(\n",
      "    CustomerID  INTEGER not null\n",
      "        references customers\n",
      "            on update cascade on delete cascade\n",
      "        references customers,\n",
      "    Date        TEXT    not null,\n",
      "    Consumption REAL,\n",
      "    primary key (Date, CustomerID)\n",
      ")\n",
      "\n",
      "-- Using valid SQLite and understanding External Knowledge, answer the following questions for the tables provided above.\n",
      "-- What is the ratio of customers who pay in EUR against customers who pay in CZK?\n",
      "-- External Knowledge: ratio of customers who pay in EUR against customers who pay in CZK = count(Currency = 'EUR') / count(Currency = 'CZK').\n",
      "\n",
      "\n",
      "Generate the SQLite for the above question after thinking step by step: \n",
      "\n",
      "\n",
      "Instructions:\n",
      "- Make sure you only output the information that is asked in the question. If the question asks for a specific column, make sure to only include that column in the SELECT clause, nothing more.\n",
      "- The generated query should return all of the information asked in the question without any missing or extra information.\n",
      "- Before generating the final SQL query, please think through the steps of how to write the query.\n",
      "- Do not misuse column names, keep them in quotes `\n",
      "- Carefully understand what colomns belond to what tables\n",
      "- Use only initial column names, change names prohibited\n",
      "        \n",
      "Output Format:\n",
      "In your answer, please enclose the generated SQL query in a code block:\n",
      "```\n",
      "-- Your SQL query\n",
      "```    \n",
      "and nothing else, no exaplains, no comments (asnwer should be less than 512 characters)\n",
      "\n",
      "Take a deep breath and think step by step to find the correct SQL query in SQLite format.\n",
      "\n",
      "Question repetition: What is the ratio of customers who pay in EUR against customers who pay in CZK?\n",
      "\n",
      "Be care! Include only what i want it questiona and nothing else<|im_end|>\n",
      "<|im_start|>assistant\n",
      "<think>\n",
      "\n",
      "</think>\n",
      "\n",
      "\n",
      "\n",
      "\n",
      "Максимальное количество токенов в промптах: 29958\n",
      "\n",
      "начинаем скорринг\n",
      "Загружаем чаты с данными...\n",
      "Данные успешно загружены\n",
      "Начали генерацию SQL запросов\n"
     ]
    },
    {
     "name": "stderr",
     "output_type": "stream",
     "text": [
      "Processed prompts: 100%|██████████| 500/500 [01:57<00:00,  4.24it/s, est. speed input: 36881.90 toks/s, output: 228.10 toks/s]"
     ]
    },
    {
     "name": "stdout",
     "output_type": "stream",
     "text": [
      "extract_think количество ошибок:  0\n",
      "extract_sql количество ошибок:  0\n",
      "Закончили генерацию SQL запросов\n",
      "Начали скорр полученных SQL запросов\n"
     ]
    },
    {
     "name": "stderr",
     "output_type": "stream",
     "text": [
      "\n"
     ]
    },
    {
     "name": "stdout",
     "output_type": "stream",
     "text": [
      "Qwen3-8b Mini DEV Финальный результат EX: 54.60\n",
      "Qwen3-8b процент запросов, которые успешно выполнились Mini DEV: 95.00%\n",
      "====================================================================================================\n",
      "\n",
      "\n",
      "Загружаем чаты с данными...\n",
      "Данные успешно загружены\n",
      "Начали генерацию SQL запросов\n"
     ]
    },
    {
     "name": "stderr",
     "output_type": "stream",
     "text": [
      "Processed prompts: 100%|██████████| 500/500 [01:59<00:00,  4.18it/s, est. speed input: 36876.05 toks/s, output: 226.00 toks/s]"
     ]
    },
    {
     "name": "stdout",
     "output_type": "stream",
     "text": [
      "extract_think количество ошибок:  0\n",
      "extract_sql количество ошибок:  0\n",
      "Закончили генерацию SQL запросов\n",
      "Начали скорр полученных SQL запросов\n"
     ]
    },
    {
     "name": "stderr",
     "output_type": "stream",
     "text": [
      "\n"
     ]
    },
    {
     "name": "stdout",
     "output_type": "stream",
     "text": [
      "Qwen3-8b Mini DEV Финальный результат EX: 53.60\n",
      "Qwen3-8b процент запросов, которые успешно выполнились Mini DEV: 94.60%\n",
      "====================================================================================================\n",
      "\n",
      "\n",
      "Загружаем чаты с данными...\n",
      "Данные успешно загружены\n",
      "Начали генерацию SQL запросов\n"
     ]
    },
    {
     "name": "stderr",
     "output_type": "stream",
     "text": [
      "Processed prompts: 100%|██████████| 500/500 [01:59<00:00,  4.17it/s, est. speed input: 36731.67 toks/s, output: 225.74 toks/s]"
     ]
    },
    {
     "name": "stdout",
     "output_type": "stream",
     "text": [
      "extract_think количество ошибок:  0\n",
      "extract_sql количество ошибок:  0\n",
      "Закончили генерацию SQL запросов\n",
      "Начали скорр полученных SQL запросов\n"
     ]
    },
    {
     "name": "stderr",
     "output_type": "stream",
     "text": [
      "\n"
     ]
    },
    {
     "name": "stdout",
     "output_type": "stream",
     "text": [
      "Qwen3-8b Mini DEV Финальный результат EX: 53.20\n",
      "Qwen3-8b процент запросов, которые успешно выполнились Mini DEV: 94.40%\n",
      "====================================================================================================\n",
      "\n",
      "\n",
      "Загружаем чаты с данными...\n",
      "Данные успешно загружены\n",
      "Начали генерацию SQL запросов\n"
     ]
    },
    {
     "name": "stderr",
     "output_type": "stream",
     "text": [
      "Processed prompts: 100%|██████████| 500/500 [02:02<00:00,  4.09it/s, est. speed input: 36033.84 toks/s, output: 223.52 toks/s]"
     ]
    },
    {
     "name": "stdout",
     "output_type": "stream",
     "text": [
      "extract_think количество ошибок:  0\n",
      "extract_sql количество ошибок:  0\n",
      "Закончили генерацию SQL запросов\n",
      "Начали скорр полученных SQL запросов\n"
     ]
    },
    {
     "name": "stderr",
     "output_type": "stream",
     "text": [
      "\n"
     ]
    },
    {
     "name": "stdout",
     "output_type": "stream",
     "text": [
      "Qwen3-8b Mini DEV Финальный результат EX: 54.40\n",
      "Qwen3-8b процент запросов, которые успешно выполнились Mini DEV: 95.40%\n",
      "====================================================================================================\n",
      "\n",
      "\n",
      "Загружаем чаты с данными...\n",
      "Данные успешно загружены\n",
      "Начали генерацию SQL запросов\n"
     ]
    },
    {
     "name": "stderr",
     "output_type": "stream",
     "text": [
      "Processed prompts: 100%|██████████| 500/500 [02:01<00:00,  4.13it/s, est. speed input: 36555.84 toks/s, output: 223.34 toks/s]"
     ]
    },
    {
     "name": "stdout",
     "output_type": "stream",
     "text": [
      "extract_think количество ошибок:  0\n",
      "extract_sql количество ошибок:  0\n",
      "Закончили генерацию SQL запросов\n",
      "Начали скорр полученных SQL запросов\n"
     ]
    },
    {
     "name": "stderr",
     "output_type": "stream",
     "text": [
      "\n"
     ]
    },
    {
     "name": "stdout",
     "output_type": "stream",
     "text": [
      "Qwen3-8b Mini DEV Финальный результат EX: 53.80\n",
      "Qwen3-8b процент запросов, которые успешно выполнились Mini DEV: 94.00%\n",
      "====================================================================================================\n",
      "\n",
      "\n",
      "Загружаем чаты с данными...\n",
      "Данные успешно загружены\n",
      "Начали генерацию SQL запросов\n"
     ]
    },
    {
     "name": "stderr",
     "output_type": "stream",
     "text": [
      "Processed prompts: 100%|██████████| 500/500 [01:59<00:00,  4.17it/s, est. speed input: 36738.23 toks/s, output: 222.30 toks/s]"
     ]
    },
    {
     "name": "stdout",
     "output_type": "stream",
     "text": [
      "extract_think количество ошибок:  0\n",
      "extract_sql количество ошибок:  0\n",
      "Закончили генерацию SQL запросов\n",
      "Начали скорр полученных SQL запросов\n"
     ]
    },
    {
     "name": "stderr",
     "output_type": "stream",
     "text": [
      "\n"
     ]
    },
    {
     "name": "stdout",
     "output_type": "stream",
     "text": [
      "Qwen3-8b Mini DEV Финальный результат EX: 54.60\n",
      "Qwen3-8b процент запросов, которые успешно выполнились Mini DEV: 93.80%\n",
      "====================================================================================================\n",
      "\n",
      "\n",
      "Загружаем чаты с данными...\n",
      "Данные успешно загружены\n",
      "Начали генерацию SQL запросов\n"
     ]
    },
    {
     "name": "stderr",
     "output_type": "stream",
     "text": [
      "Processed prompts: 100%|██████████| 500/500 [01:59<00:00,  4.18it/s, est. speed input: 36995.29 toks/s, output: 223.68 toks/s]"
     ]
    },
    {
     "name": "stdout",
     "output_type": "stream",
     "text": [
      "extract_think количество ошибок:  0\n",
      "extract_sql количество ошибок:  0\n",
      "Закончили генерацию SQL запросов\n",
      "Начали скорр полученных SQL запросов\n"
     ]
    },
    {
     "name": "stderr",
     "output_type": "stream",
     "text": [
      "\n"
     ]
    },
    {
     "name": "stdout",
     "output_type": "stream",
     "text": [
      "Qwen3-8b Mini DEV Финальный результат EX: 53.40\n",
      "Qwen3-8b процент запросов, которые успешно выполнились Mini DEV: 93.40%\n",
      "====================================================================================================\n",
      "\n",
      "\n",
      "Загружаем чаты с данными...\n",
      "Данные успешно загружены\n",
      "Начали генерацию SQL запросов\n"
     ]
    },
    {
     "name": "stderr",
     "output_type": "stream",
     "text": [
      "Processed prompts: 100%|██████████| 500/500 [02:00<00:00,  4.14it/s, est. speed input: 36629.78 toks/s, output: 220.32 toks/s]"
     ]
    },
    {
     "name": "stdout",
     "output_type": "stream",
     "text": [
      "extract_think количество ошибок:  0\n",
      "extract_sql количество ошибок:  0\n",
      "Закончили генерацию SQL запросов\n",
      "Начали скорр полученных SQL запросов\n"
     ]
    },
    {
     "name": "stderr",
     "output_type": "stream",
     "text": [
      "\n"
     ]
    },
    {
     "name": "stdout",
     "output_type": "stream",
     "text": [
      "Qwen3-8b Mini DEV Финальный результат EX: 54.00\n",
      "Qwen3-8b процент запросов, которые успешно выполнились Mini DEV: 94.60%\n",
      "====================================================================================================\n",
      "\n",
      "\n",
      "Загружаем чаты с данными...\n",
      "Данные успешно загружены\n",
      "Начали генерацию SQL запросов\n"
     ]
    },
    {
     "name": "stderr",
     "output_type": "stream",
     "text": [
      "Processed prompts: 100%|██████████| 500/500 [01:59<00:00,  4.17it/s, est. speed input: 36732.59 toks/s, output: 223.62 toks/s]"
     ]
    },
    {
     "name": "stdout",
     "output_type": "stream",
     "text": [
      "extract_think количество ошибок:  0\n",
      "extract_sql количество ошибок:  0\n",
      "Закончили генерацию SQL запросов\n",
      "Начали скорр полученных SQL запросов\n"
     ]
    },
    {
     "name": "stderr",
     "output_type": "stream",
     "text": [
      "\n"
     ]
    },
    {
     "name": "stdout",
     "output_type": "stream",
     "text": [
      "Qwen3-8b Mini DEV Финальный результат EX: 52.60\n",
      "Qwen3-8b процент запросов, которые успешно выполнились Mini DEV: 93.60%\n",
      "====================================================================================================\n",
      "\n",
      "\n",
      "Загружаем чаты с данными...\n",
      "Данные успешно загружены\n",
      "Начали генерацию SQL запросов\n"
     ]
    },
    {
     "name": "stderr",
     "output_type": "stream",
     "text": [
      "Processed prompts: 100%|██████████| 500/500 [02:00<00:00,  4.16it/s, est. speed input: 36592.48 toks/s, output: 224.38 toks/s]"
     ]
    },
    {
     "name": "stdout",
     "output_type": "stream",
     "text": [
      "extract_think количество ошибок:  0\n",
      "extract_sql количество ошибок:  0\n",
      "Закончили генерацию SQL запросов\n",
      "Начали скорр полученных SQL запросов\n"
     ]
    },
    {
     "name": "stderr",
     "output_type": "stream",
     "text": [
      "\n"
     ]
    },
    {
     "name": "stdout",
     "output_type": "stream",
     "text": [
      "Qwen3-8b Mini DEV Финальный результат EX: 54.00\n",
      "Qwen3-8b процент запросов, которые успешно выполнились Mini DEV: 94.40%\n",
      "====================================================================================================\n",
      "\n",
      "\n",
      "Загружаем чаты с данными...\n",
      "Данные успешно загружены\n",
      "Начали генерацию SQL запросов\n"
     ]
    },
    {
     "name": "stderr",
     "output_type": "stream",
     "text": [
      "Processed prompts: 100%|██████████| 500/500 [01:59<00:00,  4.19it/s, est. speed input: 36772.73 toks/s, output: 223.36 toks/s]"
     ]
    },
    {
     "name": "stdout",
     "output_type": "stream",
     "text": [
      "extract_think количество ошибок:  0\n",
      "extract_sql количество ошибок:  0\n",
      "Закончили генерацию SQL запросов\n",
      "Начали скорр полученных SQL запросов\n"
     ]
    },
    {
     "name": "stderr",
     "output_type": "stream",
     "text": [
      "\n"
     ]
    },
    {
     "name": "stdout",
     "output_type": "stream",
     "text": [
      "Qwen3-8b Mini DEV Финальный результат EX: 54.80\n",
      "Qwen3-8b процент запросов, которые успешно выполнились Mini DEV: 95.00%\n",
      "====================================================================================================\n",
      "\n",
      "\n",
      "Загружаем чаты с данными...\n",
      "Данные успешно загружены\n",
      "Начали генерацию SQL запросов\n"
     ]
    },
    {
     "name": "stderr",
     "output_type": "stream",
     "text": [
      "Processed prompts: 100%|██████████| 500/500 [01:58<00:00,  4.23it/s, est. speed input: 36778.94 toks/s, output: 225.44 toks/s]"
     ]
    },
    {
     "name": "stdout",
     "output_type": "stream",
     "text": [
      "extract_think количество ошибок:  0\n",
      "extract_sql количество ошибок:  0\n",
      "Закончили генерацию SQL запросов\n",
      "Начали скорр полученных SQL запросов\n"
     ]
    },
    {
     "name": "stderr",
     "output_type": "stream",
     "text": [
      "\n"
     ]
    },
    {
     "name": "stdout",
     "output_type": "stream",
     "text": [
      "Qwen3-8b Mini DEV Финальный результат EX: 54.20\n",
      "Qwen3-8b процент запросов, которые успешно выполнились Mini DEV: 94.60%\n",
      "====================================================================================================\n",
      "\n",
      "\n",
      "Загружаем чаты с данными...\n",
      "Данные успешно загружены\n",
      "Начали генерацию SQL запросов\n"
     ]
    },
    {
     "name": "stderr",
     "output_type": "stream",
     "text": [
      "Processed prompts: 100%|██████████| 500/500 [02:01<00:00,  4.12it/s, est. speed input: 36131.07 toks/s, output: 224.79 toks/s]"
     ]
    },
    {
     "name": "stdout",
     "output_type": "stream",
     "text": [
      "extract_think количество ошибок:  0\n",
      "extract_sql количество ошибок:  0\n",
      "Закончили генерацию SQL запросов\n",
      "Начали скорр полученных SQL запросов\n"
     ]
    },
    {
     "name": "stderr",
     "output_type": "stream",
     "text": [
      "\n"
     ]
    },
    {
     "name": "stdout",
     "output_type": "stream",
     "text": [
      "Qwen3-8b Mini DEV Финальный результат EX: 54.00\n",
      "Qwen3-8b процент запросов, которые успешно выполнились Mini DEV: 93.00%\n",
      "====================================================================================================\n",
      "\n",
      "\n",
      "Загружаем чаты с данными...\n",
      "Данные успешно загружены\n",
      "Начали генерацию SQL запросов\n"
     ]
    },
    {
     "name": "stderr",
     "output_type": "stream",
     "text": [
      "Processed prompts: 100%|██████████| 500/500 [01:58<00:00,  4.20it/s, est. speed input: 36671.53 toks/s, output: 225.47 toks/s]"
     ]
    },
    {
     "name": "stdout",
     "output_type": "stream",
     "text": [
      "extract_think количество ошибок:  0\n",
      "extract_sql количество ошибок:  0\n",
      "Закончили генерацию SQL запросов\n",
      "Начали скорр полученных SQL запросов\n"
     ]
    },
    {
     "name": "stderr",
     "output_type": "stream",
     "text": [
      "\n"
     ]
    },
    {
     "name": "stdout",
     "output_type": "stream",
     "text": [
      "Qwen3-8b Mini DEV Финальный результат EX: 54.20\n",
      "Qwen3-8b процент запросов, которые успешно выполнились Mini DEV: 93.80%\n",
      "====================================================================================================\n",
      "\n",
      "\n",
      "Загружаем чаты с данными...\n",
      "Данные успешно загружены\n",
      "Начали генерацию SQL запросов\n"
     ]
    },
    {
     "name": "stderr",
     "output_type": "stream",
     "text": [
      "Processed prompts: 100%|██████████| 500/500 [02:01<00:00,  4.13it/s, est. speed input: 36161.21 toks/s, output: 225.79 toks/s]"
     ]
    },
    {
     "name": "stdout",
     "output_type": "stream",
     "text": [
      "extract_think количество ошибок:  0\n",
      "extract_sql количество ошибок:  0\n",
      "Закончили генерацию SQL запросов\n",
      "Начали скорр полученных SQL запросов\n"
     ]
    },
    {
     "name": "stderr",
     "output_type": "stream",
     "text": [
      "\n"
     ]
    },
    {
     "name": "stdout",
     "output_type": "stream",
     "text": [
      "Qwen3-8b Mini DEV Финальный результат EX: 54.40\n",
      "Qwen3-8b процент запросов, которые успешно выполнились Mini DEV: 94.00%\n",
      "====================================================================================================\n",
      "\n",
      "\n",
      "Загружаем чаты с данными...\n",
      "Данные успешно загружены\n",
      "Начали генерацию SQL запросов\n"
     ]
    },
    {
     "name": "stderr",
     "output_type": "stream",
     "text": [
      "Processed prompts: 100%|██████████| 500/500 [02:02<00:00,  4.08it/s, est. speed input: 35400.52 toks/s, output: 225.78 toks/s]"
     ]
    },
    {
     "name": "stdout",
     "output_type": "stream",
     "text": [
      "extract_think количество ошибок:  0\n",
      "extract_sql количество ошибок:  0\n",
      "Закончили генерацию SQL запросов\n",
      "Начали скорр полученных SQL запросов\n"
     ]
    },
    {
     "name": "stderr",
     "output_type": "stream",
     "text": [
      "\n"
     ]
    },
    {
     "name": "stdout",
     "output_type": "stream",
     "text": [
      "Qwen3-8b Mini DEV Финальный результат EX: 55.80\n",
      "Qwen3-8b процент запросов, которые успешно выполнились Mini DEV: 94.20%\n",
      "====================================================================================================\n",
      "\n",
      "\n",
      "Загружаем чаты с данными...\n",
      "Данные успешно загружены\n",
      "Начали генерацию SQL запросов\n"
     ]
    },
    {
     "name": "stderr",
     "output_type": "stream",
     "text": [
      "Processed prompts: 100%|██████████| 500/500 [02:00<00:00,  4.16it/s, est. speed input: 36125.45 toks/s, output: 227.28 toks/s]"
     ]
    },
    {
     "name": "stdout",
     "output_type": "stream",
     "text": [
      "extract_think количество ошибок:  0\n",
      "extract_sql количество ошибок:  0\n",
      "Закончили генерацию SQL запросов\n",
      "Начали скорр полученных SQL запросов\n"
     ]
    },
    {
     "name": "stderr",
     "output_type": "stream",
     "text": [
      "\n"
     ]
    },
    {
     "name": "stdout",
     "output_type": "stream",
     "text": [
      "Qwen3-8b Mini DEV Финальный результат EX: 56.00\n",
      "Qwen3-8b процент запросов, которые успешно выполнились Mini DEV: 93.80%\n",
      "====================================================================================================\n",
      "\n",
      "\n",
      "Загружаем чаты с данными...\n",
      "Данные успешно загружены\n",
      "Начали генерацию SQL запросов\n"
     ]
    },
    {
     "name": "stderr",
     "output_type": "stream",
     "text": [
      "Processed prompts: 100%|██████████| 500/500 [01:59<00:00,  4.18it/s, est. speed input: 36244.09 toks/s, output: 230.26 toks/s]"
     ]
    },
    {
     "name": "stdout",
     "output_type": "stream",
     "text": [
      "extract_think количество ошибок:  0\n",
      "extract_sql количество ошибок:  0\n",
      "Закончили генерацию SQL запросов\n",
      "Начали скорр полученных SQL запросов\n"
     ]
    },
    {
     "name": "stderr",
     "output_type": "stream",
     "text": [
      "\n"
     ]
    },
    {
     "name": "stdout",
     "output_type": "stream",
     "text": [
      "Qwen3-8b Mini DEV Финальный результат EX: 54.00\n",
      "Qwen3-8b процент запросов, которые успешно выполнились Mini DEV: 94.00%\n",
      "====================================================================================================\n",
      "\n",
      "\n",
      "Загружаем чаты с данными...\n",
      "Данные успешно загружены\n",
      "Начали генерацию SQL запросов\n"
     ]
    },
    {
     "name": "stderr",
     "output_type": "stream",
     "text": [
      "Processed prompts: 100%|██████████| 500/500 [02:04<00:00,  4.02it/s, est. speed input: 34925.78 toks/s, output: 227.09 toks/s]"
     ]
    },
    {
     "name": "stdout",
     "output_type": "stream",
     "text": [
      "extract_think количество ошибок:  0\n",
      "extract_sql количество ошибок:  0\n",
      "Закончили генерацию SQL запросов\n",
      "Начали скорр полученных SQL запросов\n"
     ]
    },
    {
     "name": "stderr",
     "output_type": "stream",
     "text": [
      "\n"
     ]
    },
    {
     "name": "stdout",
     "output_type": "stream",
     "text": [
      "Qwen3-8b Mini DEV Финальный результат EX: 53.60\n",
      "Qwen3-8b процент запросов, которые успешно выполнились Mini DEV: 93.40%\n",
      "====================================================================================================\n",
      "\n",
      "\n",
      "Загружаем чаты с данными...\n",
      "Данные успешно загружены\n",
      "Начали генерацию SQL запросов\n"
     ]
    },
    {
     "name": "stderr",
     "output_type": "stream",
     "text": [
      "Processed prompts: 100%|██████████| 500/500 [01:59<00:00,  4.18it/s, est. speed input: 36301.59 toks/s, output: 227.12 toks/s]"
     ]
    },
    {
     "name": "stdout",
     "output_type": "stream",
     "text": [
      "extract_think количество ошибок:  0\n",
      "extract_sql количество ошибок:  0\n",
      "Закончили генерацию SQL запросов\n",
      "Начали скорр полученных SQL запросов\n"
     ]
    },
    {
     "name": "stderr",
     "output_type": "stream",
     "text": [
      "\n"
     ]
    },
    {
     "name": "stdout",
     "output_type": "stream",
     "text": [
      "Qwen3-8b Mini DEV Финальный результат EX: 54.00\n",
      "Qwen3-8b процент запросов, которые успешно выполнились Mini DEV: 93.40%\n",
      "====================================================================================================\n",
      "\n",
      "\n",
      "Загружаем чаты с данными...\n",
      "Данные успешно загружены\n",
      "Начали генерацию SQL запросов\n"
     ]
    },
    {
     "name": "stderr",
     "output_type": "stream",
     "text": [
      "Processed prompts: 100%|██████████| 500/500 [02:02<00:00,  4.07it/s, est. speed input: 35399.31 toks/s, output: 225.71 toks/s]"
     ]
    },
    {
     "name": "stdout",
     "output_type": "stream",
     "text": [
      "extract_think количество ошибок:  0\n",
      "extract_sql количество ошибок:  0\n",
      "Закончили генерацию SQL запросов\n",
      "Начали скорр полученных SQL запросов\n"
     ]
    },
    {
     "name": "stderr",
     "output_type": "stream",
     "text": [
      "\n"
     ]
    },
    {
     "name": "stdout",
     "output_type": "stream",
     "text": [
      "Qwen3-8b Mini DEV Финальный результат EX: 54.40\n",
      "Qwen3-8b процент запросов, которые успешно выполнились Mini DEV: 93.60%\n",
      "====================================================================================================\n",
      "\n",
      "\n",
      "Загружаем чаты с данными...\n",
      "Данные успешно загружены\n",
      "Начали генерацию SQL запросов\n"
     ]
    },
    {
     "name": "stderr",
     "output_type": "stream",
     "text": [
      "Processed prompts: 100%|██████████| 500/500 [01:59<00:00,  4.20it/s, est. speed input: 36858.15 toks/s, output: 225.25 toks/s]"
     ]
    },
    {
     "name": "stdout",
     "output_type": "stream",
     "text": [
      "extract_think количество ошибок:  0\n",
      "extract_sql количество ошибок:  0\n",
      "Закончили генерацию SQL запросов\n",
      "Начали скорр полученных SQL запросов\n"
     ]
    },
    {
     "name": "stderr",
     "output_type": "stream",
     "text": [
      "\n"
     ]
    },
    {
     "name": "stdout",
     "output_type": "stream",
     "text": [
      "Qwen3-8b Mini DEV Финальный результат EX: 54.80\n",
      "Qwen3-8b процент запросов, которые успешно выполнились Mini DEV: 94.40%\n",
      "====================================================================================================\n",
      "\n",
      "\n",
      "Загружаем чаты с данными...\n",
      "Данные успешно загружены\n",
      "Начали генерацию SQL запросов\n"
     ]
    },
    {
     "name": "stderr",
     "output_type": "stream",
     "text": [
      "Processed prompts: 100%|██████████| 500/500 [01:59<00:00,  4.18it/s, est. speed input: 36795.45 toks/s, output: 225.37 toks/s]"
     ]
    },
    {
     "name": "stdout",
     "output_type": "stream",
     "text": [
      "extract_think количество ошибок:  0\n",
      "extract_sql количество ошибок:  0\n",
      "Закончили генерацию SQL запросов\n",
      "Начали скорр полученных SQL запросов\n"
     ]
    },
    {
     "name": "stderr",
     "output_type": "stream",
     "text": [
      "\n"
     ]
    },
    {
     "name": "stdout",
     "output_type": "stream",
     "text": [
      "Qwen3-8b Mini DEV Финальный результат EX: 54.00\n",
      "Qwen3-8b процент запросов, которые успешно выполнились Mini DEV: 93.00%\n",
      "====================================================================================================\n",
      "\n",
      "\n",
      "Загружаем чаты с данными...\n",
      "Данные успешно загружены\n",
      "Начали генерацию SQL запросов\n"
     ]
    },
    {
     "name": "stderr",
     "output_type": "stream",
     "text": [
      "Processed prompts: 100%|██████████| 500/500 [02:01<00:00,  4.13it/s, est. speed input: 36540.85 toks/s, output: 224.13 toks/s]"
     ]
    },
    {
     "name": "stdout",
     "output_type": "stream",
     "text": [
      "extract_think количество ошибок:  0\n",
      "extract_sql количество ошибок:  0\n",
      "Закончили генерацию SQL запросов\n",
      "Начали скорр полученных SQL запросов\n"
     ]
    },
    {
     "name": "stderr",
     "output_type": "stream",
     "text": [
      "\n"
     ]
    },
    {
     "name": "stdout",
     "output_type": "stream",
     "text": [
      "Qwen3-8b Mini DEV Финальный результат EX: 53.80\n",
      "Qwen3-8b процент запросов, которые успешно выполнились Mini DEV: 93.20%\n",
      "====================================================================================================\n",
      "\n",
      "\n",
      "Загружаем чаты с данными...\n",
      "Данные успешно загружены\n",
      "Начали генерацию SQL запросов\n"
     ]
    },
    {
     "name": "stderr",
     "output_type": "stream",
     "text": [
      "Processed prompts: 100%|██████████| 500/500 [02:01<00:00,  4.12it/s, est. speed input: 36491.31 toks/s, output: 225.46 toks/s]"
     ]
    },
    {
     "name": "stdout",
     "output_type": "stream",
     "text": [
      "extract_think количество ошибок:  0\n",
      "extract_sql количество ошибок:  0\n",
      "Закончили генерацию SQL запросов\n",
      "Начали скорр полученных SQL запросов\n"
     ]
    },
    {
     "name": "stderr",
     "output_type": "stream",
     "text": [
      "\n"
     ]
    },
    {
     "name": "stdout",
     "output_type": "stream",
     "text": [
      "Qwen3-8b Mini DEV Финальный результат EX: 54.00\n",
      "Qwen3-8b процент запросов, которые успешно выполнились Mini DEV: 93.60%\n",
      "====================================================================================================\n",
      "\n",
      "\n",
      "Загружаем чаты с данными...\n",
      "Данные успешно загружены\n",
      "Начали генерацию SQL запросов\n"
     ]
    },
    {
     "name": "stderr",
     "output_type": "stream",
     "text": [
      "Processed prompts: 100%|██████████| 500/500 [02:05<00:00,  3.98it/s, est. speed input: 35326.94 toks/s, output: 221.24 toks/s]"
     ]
    },
    {
     "name": "stdout",
     "output_type": "stream",
     "text": [
      "extract_think количество ошибок:  0\n",
      "extract_sql количество ошибок:  0\n",
      "Закончили генерацию SQL запросов\n",
      "Начали скорр полученных SQL запросов\n"
     ]
    },
    {
     "name": "stderr",
     "output_type": "stream",
     "text": [
      "\n"
     ]
    },
    {
     "name": "stdout",
     "output_type": "stream",
     "text": [
      "Qwen3-8b Mini DEV Финальный результат EX: 53.80\n",
      "Qwen3-8b процент запросов, которые успешно выполнились Mini DEV: 93.60%\n",
      "====================================================================================================\n",
      "\n",
      "\n",
      "Загружаем чаты с данными...\n",
      "Данные успешно загружены\n",
      "Начали генерацию SQL запросов\n"
     ]
    },
    {
     "name": "stderr",
     "output_type": "stream",
     "text": [
      "Processed prompts: 100%|██████████| 500/500 [02:01<00:00,  4.13it/s, est. speed input: 36503.48 toks/s, output: 223.57 toks/s]"
     ]
    },
    {
     "name": "stdout",
     "output_type": "stream",
     "text": [
      "extract_think количество ошибок:  0\n",
      "extract_sql количество ошибок:  0\n",
      "Закончили генерацию SQL запросов\n",
      "Начали скорр полученных SQL запросов\n"
     ]
    },
    {
     "name": "stderr",
     "output_type": "stream",
     "text": [
      "\n"
     ]
    },
    {
     "name": "stdout",
     "output_type": "stream",
     "text": [
      "Qwen3-8b Mini DEV Финальный результат EX: 54.80\n",
      "Qwen3-8b процент запросов, которые успешно выполнились Mini DEV: 94.00%\n",
      "====================================================================================================\n",
      "\n",
      "\n",
      "Загружаем чаты с данными...\n",
      "Данные успешно загружены\n",
      "Начали генерацию SQL запросов\n"
     ]
    },
    {
     "name": "stderr",
     "output_type": "stream",
     "text": [
      "Processed prompts: 100%|██████████| 500/500 [02:00<00:00,  4.15it/s, est. speed input: 36580.20 toks/s, output: 224.13 toks/s]"
     ]
    },
    {
     "name": "stdout",
     "output_type": "stream",
     "text": [
      "extract_think количество ошибок:  0\n",
      "extract_sql количество ошибок:  0\n",
      "Закончили генерацию SQL запросов\n",
      "Начали скорр полученных SQL запросов\n"
     ]
    },
    {
     "name": "stderr",
     "output_type": "stream",
     "text": [
      "\n"
     ]
    },
    {
     "name": "stdout",
     "output_type": "stream",
     "text": [
      "Qwen3-8b Mini DEV Финальный результат EX: 54.00\n",
      "Qwen3-8b процент запросов, которые успешно выполнились Mini DEV: 94.40%\n",
      "====================================================================================================\n",
      "\n",
      "\n",
      "Загружаем чаты с данными...\n",
      "Данные успешно загружены\n",
      "Начали генерацию SQL запросов\n"
     ]
    },
    {
     "name": "stderr",
     "output_type": "stream",
     "text": [
      "Processed prompts: 100%|██████████| 500/500 [02:01<00:00,  4.12it/s, est. speed input: 36433.23 toks/s, output: 226.06 toks/s]"
     ]
    },
    {
     "name": "stdout",
     "output_type": "stream",
     "text": [
      "extract_think количество ошибок:  0\n",
      "extract_sql количество ошибок:  0\n",
      "Закончили генерацию SQL запросов\n",
      "Начали скорр полученных SQL запросов\n"
     ]
    },
    {
     "name": "stderr",
     "output_type": "stream",
     "text": [
      "\n"
     ]
    },
    {
     "name": "stdout",
     "output_type": "stream",
     "text": [
      "Qwen3-8b Mini DEV Финальный результат EX: 52.80\n",
      "Qwen3-8b процент запросов, которые успешно выполнились Mini DEV: 93.20%\n",
      "====================================================================================================\n",
      "\n",
      "\n",
      "Загружаем чаты с данными...\n",
      "Данные успешно загружены\n",
      "Начали генерацию SQL запросов\n"
     ]
    },
    {
     "name": "stderr",
     "output_type": "stream",
     "text": [
      "Processed prompts: 100%|██████████| 500/500 [02:00<00:00,  4.16it/s, est. speed input: 36631.53 toks/s, output: 225.32 toks/s]"
     ]
    },
    {
     "name": "stdout",
     "output_type": "stream",
     "text": [
      "extract_think количество ошибок:  0\n",
      "extract_sql количество ошибок:  0\n",
      "Закончили генерацию SQL запросов\n",
      "Начали скорр полученных SQL запросов\n"
     ]
    },
    {
     "name": "stderr",
     "output_type": "stream",
     "text": [
      "\n"
     ]
    },
    {
     "name": "stdout",
     "output_type": "stream",
     "text": [
      "Qwen3-8b Mini DEV Финальный результат EX: 53.00\n",
      "Qwen3-8b процент запросов, которые успешно выполнились Mini DEV: 93.20%\n",
      "====================================================================================================\n",
      "\n",
      "\n",
      "Загружаем чаты с данными...\n",
      "Данные успешно загружены\n",
      "Начали генерацию SQL запросов\n"
     ]
    },
    {
     "name": "stderr",
     "output_type": "stream",
     "text": [
      "Processed prompts: 100%|██████████| 500/500 [01:59<00:00,  4.18it/s, est. speed input: 36522.00 toks/s, output: 230.06 toks/s]"
     ]
    },
    {
     "name": "stdout",
     "output_type": "stream",
     "text": [
      "extract_think количество ошибок:  0\n",
      "extract_sql количество ошибок:  0\n",
      "Закончили генерацию SQL запросов\n",
      "Начали скорр полученных SQL запросов\n"
     ]
    },
    {
     "name": "stderr",
     "output_type": "stream",
     "text": [
      "\n"
     ]
    },
    {
     "name": "stdout",
     "output_type": "stream",
     "text": [
      "Qwen3-8b Mini DEV Финальный результат EX: 53.20\n",
      "Qwen3-8b процент запросов, которые успешно выполнились Mini DEV: 93.20%\n",
      "====================================================================================================\n",
      "\n",
      "\n",
      "Загружаем чаты с данными...\n",
      "Данные успешно загружены\n",
      "Начали генерацию SQL запросов\n"
     ]
    },
    {
     "name": "stderr",
     "output_type": "stream",
     "text": [
      "Processed prompts: 100%|██████████| 500/500 [02:00<00:00,  4.16it/s, est. speed input: 36621.46 toks/s, output: 227.78 toks/s]"
     ]
    },
    {
     "name": "stdout",
     "output_type": "stream",
     "text": [
      "extract_think количество ошибок:  0\n",
      "extract_sql количество ошибок:  0\n",
      "Закончили генерацию SQL запросов\n",
      "Начали скорр полученных SQL запросов\n"
     ]
    },
    {
     "name": "stderr",
     "output_type": "stream",
     "text": [
      "\n"
     ]
    },
    {
     "name": "stdout",
     "output_type": "stream",
     "text": [
      "Qwen3-8b Mini DEV Финальный результат EX: 53.00\n",
      "Qwen3-8b процент запросов, которые успешно выполнились Mini DEV: 94.40%\n",
      "====================================================================================================\n",
      "\n",
      "\n",
      "Загружаем чаты с данными...\n",
      "Данные успешно загружены\n",
      "Начали генерацию SQL запросов\n"
     ]
    },
    {
     "name": "stderr",
     "output_type": "stream",
     "text": [
      "Processed prompts: 100%|██████████| 500/500 [01:59<00:00,  4.17it/s, est. speed input: 36769.14 toks/s, output: 223.86 toks/s]"
     ]
    },
    {
     "name": "stdout",
     "output_type": "stream",
     "text": [
      "extract_think количество ошибок:  0\n",
      "extract_sql количество ошибок:  0\n",
      "Закончили генерацию SQL запросов\n",
      "Начали скорр полученных SQL запросов\n"
     ]
    },
    {
     "name": "stderr",
     "output_type": "stream",
     "text": [
      "\n"
     ]
    },
    {
     "name": "stdout",
     "output_type": "stream",
     "text": [
      "Qwen3-8b Mini DEV Финальный результат EX: 54.20\n",
      "Qwen3-8b процент запросов, которые успешно выполнились Mini DEV: 95.40%\n",
      "====================================================================================================\n",
      "\n",
      "\n",
      "Загружаем чаты с данными...\n",
      "Данные успешно загружены\n",
      "Начали генерацию SQL запросов\n"
     ]
    },
    {
     "name": "stderr",
     "output_type": "stream",
     "text": [
      "Processed prompts: 100%|██████████| 500/500 [02:00<00:00,  4.15it/s, est. speed input: 36585.49 toks/s, output: 224.66 toks/s]"
     ]
    },
    {
     "name": "stdout",
     "output_type": "stream",
     "text": [
      "extract_think количество ошибок:  0\n",
      "extract_sql количество ошибок:  0\n",
      "Закончили генерацию SQL запросов\n",
      "Начали скорр полученных SQL запросов\n"
     ]
    },
    {
     "name": "stderr",
     "output_type": "stream",
     "text": [
      "\n"
     ]
    },
    {
     "name": "stdout",
     "output_type": "stream",
     "text": [
      "Qwen3-8b Mini DEV Финальный результат EX: 53.80\n",
      "Qwen3-8b процент запросов, которые успешно выполнились Mini DEV: 93.40%\n",
      "====================================================================================================\n",
      "\n",
      "\n",
      "Загружаем чаты с данными...\n",
      "Данные успешно загружены\n",
      "Начали генерацию SQL запросов\n"
     ]
    },
    {
     "name": "stderr",
     "output_type": "stream",
     "text": [
      "Processed prompts: 100%|██████████| 500/500 [02:00<00:00,  4.16it/s, est. speed input: 36609.76 toks/s, output: 225.00 toks/s]"
     ]
    },
    {
     "name": "stdout",
     "output_type": "stream",
     "text": [
      "extract_think количество ошибок:  0\n",
      "extract_sql количество ошибок:  0\n",
      "Закончили генерацию SQL запросов\n",
      "Начали скорр полученных SQL запросов\n"
     ]
    },
    {
     "name": "stderr",
     "output_type": "stream",
     "text": [
      "\n"
     ]
    },
    {
     "name": "stdout",
     "output_type": "stream",
     "text": [
      "Qwen3-8b Mini DEV Финальный результат EX: 53.20\n",
      "Qwen3-8b процент запросов, которые успешно выполнились Mini DEV: 95.40%\n",
      "====================================================================================================\n",
      "\n",
      "\n",
      "Загружаем чаты с данными...\n",
      "Данные успешно загружены\n",
      "Начали генерацию SQL запросов\n"
     ]
    },
    {
     "name": "stderr",
     "output_type": "stream",
     "text": [
      "Processed prompts: 100%|██████████| 500/500 [01:58<00:00,  4.21it/s, est. speed input: 36685.24 toks/s, output: 225.23 toks/s]"
     ]
    },
    {
     "name": "stdout",
     "output_type": "stream",
     "text": [
      "extract_think количество ошибок:  0\n",
      "extract_sql количество ошибок:  0\n",
      "Закончили генерацию SQL запросов\n",
      "Начали скорр полученных SQL запросов\n"
     ]
    },
    {
     "name": "stderr",
     "output_type": "stream",
     "text": [
      "\n"
     ]
    },
    {
     "name": "stdout",
     "output_type": "stream",
     "text": [
      "Qwen3-8b Mini DEV Финальный результат EX: 55.00\n",
      "Qwen3-8b процент запросов, которые успешно выполнились Mini DEV: 94.40%\n",
      "====================================================================================================\n",
      "\n",
      "\n",
      "Загружаем чаты с данными...\n",
      "Данные успешно загружены\n",
      "Начали генерацию SQL запросов\n"
     ]
    },
    {
     "name": "stderr",
     "output_type": "stream",
     "text": [
      "Processed prompts: 100%|██████████| 500/500 [01:58<00:00,  4.21it/s, est. speed input: 36651.46 toks/s, output: 225.51 toks/s]"
     ]
    },
    {
     "name": "stdout",
     "output_type": "stream",
     "text": [
      "extract_think количество ошибок:  0\n",
      "extract_sql количество ошибок:  0\n",
      "Закончили генерацию SQL запросов\n",
      "Начали скорр полученных SQL запросов\n"
     ]
    },
    {
     "name": "stderr",
     "output_type": "stream",
     "text": [
      "\n"
     ]
    },
    {
     "name": "stdout",
     "output_type": "stream",
     "text": [
      "Qwen3-8b Mini DEV Финальный результат EX: 54.20\n",
      "Qwen3-8b процент запросов, которые успешно выполнились Mini DEV: 94.00%\n",
      "====================================================================================================\n",
      "\n",
      "\n",
      "Загружаем чаты с данными...\n",
      "Данные успешно загружены\n",
      "Начали генерацию SQL запросов\n"
     ]
    },
    {
     "name": "stderr",
     "output_type": "stream",
     "text": [
      "Processed prompts: 100%|██████████| 500/500 [01:59<00:00,  4.19it/s, est. speed input: 36650.58 toks/s, output: 224.14 toks/s]"
     ]
    },
    {
     "name": "stdout",
     "output_type": "stream",
     "text": [
      "extract_think количество ошибок:  0\n",
      "extract_sql количество ошибок:  0\n",
      "Закончили генерацию SQL запросов\n",
      "Начали скорр полученных SQL запросов\n"
     ]
    },
    {
     "name": "stderr",
     "output_type": "stream",
     "text": [
      "\n"
     ]
    },
    {
     "name": "stdout",
     "output_type": "stream",
     "text": [
      "Qwen3-8b Mini DEV Финальный результат EX: 54.00\n",
      "Qwen3-8b процент запросов, которые успешно выполнились Mini DEV: 94.80%\n",
      "====================================================================================================\n",
      "\n",
      "\n",
      "Загружаем чаты с данными...\n",
      "Данные успешно загружены\n",
      "Начали генерацию SQL запросов\n"
     ]
    },
    {
     "name": "stderr",
     "output_type": "stream",
     "text": [
      "Processed prompts: 100%|██████████| 500/500 [01:59<00:00,  4.19it/s, est. speed input: 36548.03 toks/s, output: 226.07 toks/s]"
     ]
    },
    {
     "name": "stdout",
     "output_type": "stream",
     "text": [
      "extract_think количество ошибок:  0\n",
      "extract_sql количество ошибок:  0\n",
      "Закончили генерацию SQL запросов\n",
      "Начали скорр полученных SQL запросов\n"
     ]
    },
    {
     "name": "stderr",
     "output_type": "stream",
     "text": [
      "\n"
     ]
    },
    {
     "name": "stdout",
     "output_type": "stream",
     "text": [
      "Qwen3-8b Mini DEV Финальный результат EX: 55.60\n",
      "Qwen3-8b процент запросов, которые успешно выполнились Mini DEV: 94.60%\n",
      "====================================================================================================\n",
      "\n",
      "\n",
      "Загружаем чаты с данными...\n",
      "Данные успешно загружены\n",
      "Начали генерацию SQL запросов\n"
     ]
    },
    {
     "name": "stderr",
     "output_type": "stream",
     "text": [
      "Processed prompts: 100%|██████████| 500/500 [01:59<00:00,  4.20it/s, est. speed input: 36513.98 toks/s, output: 225.60 toks/s]"
     ]
    },
    {
     "name": "stdout",
     "output_type": "stream",
     "text": [
      "extract_think количество ошибок:  0\n",
      "extract_sql количество ошибок:  0\n",
      "Закончили генерацию SQL запросов\n",
      "Начали скорр полученных SQL запросов\n"
     ]
    },
    {
     "name": "stderr",
     "output_type": "stream",
     "text": [
      "\n"
     ]
    },
    {
     "name": "stdout",
     "output_type": "stream",
     "text": [
      "Qwen3-8b Mini DEV Финальный результат EX: 55.60\n",
      "Qwen3-8b процент запросов, которые успешно выполнились Mini DEV: 93.80%\n",
      "====================================================================================================\n",
      "\n",
      "\n",
      "Загружаем чаты с данными...\n",
      "Данные успешно загружены\n",
      "Начали генерацию SQL запросов\n"
     ]
    },
    {
     "name": "stderr",
     "output_type": "stream",
     "text": [
      "Processed prompts: 100%|██████████| 500/500 [01:59<00:00,  4.17it/s, est. speed input: 36401.52 toks/s, output: 225.90 toks/s]"
     ]
    },
    {
     "name": "stdout",
     "output_type": "stream",
     "text": [
      "extract_think количество ошибок:  0\n",
      "extract_sql количество ошибок:  0\n",
      "Закончили генерацию SQL запросов\n",
      "Начали скорр полученных SQL запросов\n"
     ]
    },
    {
     "name": "stderr",
     "output_type": "stream",
     "text": [
      "\n"
     ]
    },
    {
     "name": "stdout",
     "output_type": "stream",
     "text": [
      "Qwen3-8b Mini DEV Финальный результат EX: 53.60\n",
      "Qwen3-8b процент запросов, которые успешно выполнились Mini DEV: 94.20%\n",
      "====================================================================================================\n",
      "\n",
      "\n",
      "Загружаем чаты с данными...\n",
      "Данные успешно загружены\n",
      "Начали генерацию SQL запросов\n"
     ]
    },
    {
     "name": "stderr",
     "output_type": "stream",
     "text": [
      "Processed prompts: 100%|██████████| 500/500 [01:58<00:00,  4.22it/s, est. speed input: 36789.08 toks/s, output: 226.80 toks/s]"
     ]
    },
    {
     "name": "stdout",
     "output_type": "stream",
     "text": [
      "extract_think количество ошибок:  0\n",
      "extract_sql количество ошибок:  0\n",
      "Закончили генерацию SQL запросов\n",
      "Начали скорр полученных SQL запросов\n"
     ]
    },
    {
     "name": "stderr",
     "output_type": "stream",
     "text": [
      "\n"
     ]
    },
    {
     "name": "stdout",
     "output_type": "stream",
     "text": [
      "Qwen3-8b Mini DEV Финальный результат EX: 53.40\n",
      "Qwen3-8b процент запросов, которые успешно выполнились Mini DEV: 94.00%\n",
      "====================================================================================================\n",
      "\n",
      "\n",
      "Загружаем чаты с данными...\n",
      "Данные успешно загружены\n",
      "Начали генерацию SQL запросов\n"
     ]
    },
    {
     "name": "stderr",
     "output_type": "stream",
     "text": [
      "Processed prompts: 100%|██████████| 500/500 [01:58<00:00,  4.21it/s, est. speed input: 36774.31 toks/s, output: 228.12 toks/s]"
     ]
    },
    {
     "name": "stdout",
     "output_type": "stream",
     "text": [
      "extract_think количество ошибок:  0\n",
      "extract_sql количество ошибок:  0\n",
      "Закончили генерацию SQL запросов\n",
      "Начали скорр полученных SQL запросов\n"
     ]
    },
    {
     "name": "stderr",
     "output_type": "stream",
     "text": [
      "\n"
     ]
    },
    {
     "name": "stdout",
     "output_type": "stream",
     "text": [
      "Qwen3-8b Mini DEV Финальный результат EX: 53.80\n",
      "Qwen3-8b процент запросов, которые успешно выполнились Mini DEV: 94.40%\n",
      "====================================================================================================\n",
      "\n",
      "\n",
      "Загружаем чаты с данными...\n",
      "Данные успешно загружены\n",
      "Начали генерацию SQL запросов\n"
     ]
    },
    {
     "name": "stderr",
     "output_type": "stream",
     "text": [
      "Processed prompts: 100%|██████████| 500/500 [01:59<00:00,  4.18it/s, est. speed input: 36651.60 toks/s, output: 224.97 toks/s]"
     ]
    },
    {
     "name": "stdout",
     "output_type": "stream",
     "text": [
      "extract_think количество ошибок:  0\n",
      "extract_sql количество ошибок:  0\n",
      "Закончили генерацию SQL запросов\n",
      "Начали скорр полученных SQL запросов\n"
     ]
    },
    {
     "name": "stderr",
     "output_type": "stream",
     "text": [
      "\n"
     ]
    },
    {
     "name": "stdout",
     "output_type": "stream",
     "text": [
      "Qwen3-8b Mini DEV Финальный результат EX: 53.20\n",
      "Qwen3-8b процент запросов, которые успешно выполнились Mini DEV: 94.00%\n",
      "====================================================================================================\n",
      "\n",
      "\n",
      "Загружаем чаты с данными...\n",
      "Данные успешно загружены\n",
      "Начали генерацию SQL запросов\n"
     ]
    },
    {
     "name": "stderr",
     "output_type": "stream",
     "text": [
      "Processed prompts: 100%|██████████| 500/500 [01:59<00:00,  4.19it/s, est. speed input: 36584.18 toks/s, output: 225.80 toks/s]"
     ]
    },
    {
     "name": "stdout",
     "output_type": "stream",
     "text": [
      "extract_think количество ошибок:  0\n",
      "extract_sql количество ошибок:  0\n",
      "Закончили генерацию SQL запросов\n",
      "Начали скорр полученных SQL запросов\n"
     ]
    },
    {
     "name": "stderr",
     "output_type": "stream",
     "text": [
      "\n"
     ]
    },
    {
     "name": "stdout",
     "output_type": "stream",
     "text": [
      "Qwen3-8b Mini DEV Финальный результат EX: 54.40\n",
      "Qwen3-8b процент запросов, которые успешно выполнились Mini DEV: 94.40%\n",
      "====================================================================================================\n",
      "\n",
      "\n",
      "Загружаем чаты с данными...\n",
      "Данные успешно загружены\n",
      "Начали генерацию SQL запросов\n"
     ]
    },
    {
     "name": "stderr",
     "output_type": "stream",
     "text": [
      "Processed prompts: 100%|██████████| 500/500 [01:59<00:00,  4.17it/s, est. speed input: 36510.67 toks/s, output: 227.35 toks/s]"
     ]
    },
    {
     "name": "stdout",
     "output_type": "stream",
     "text": [
      "extract_think количество ошибок:  0\n",
      "extract_sql количество ошибок:  0\n",
      "Закончили генерацию SQL запросов\n",
      "Начали скорр полученных SQL запросов\n"
     ]
    },
    {
     "name": "stderr",
     "output_type": "stream",
     "text": [
      "\n"
     ]
    },
    {
     "name": "stdout",
     "output_type": "stream",
     "text": [
      "Qwen3-8b Mini DEV Финальный результат EX: 54.00\n",
      "Qwen3-8b процент запросов, которые успешно выполнились Mini DEV: 93.20%\n",
      "====================================================================================================\n",
      "\n",
      "\n",
      "Загружаем чаты с данными...\n",
      "Данные успешно загружены\n",
      "Начали генерацию SQL запросов\n"
     ]
    },
    {
     "name": "stderr",
     "output_type": "stream",
     "text": [
      "Processed prompts: 100%|██████████| 500/500 [01:59<00:00,  4.18it/s, est. speed input: 36583.13 toks/s, output: 226.88 toks/s]"
     ]
    },
    {
     "name": "stdout",
     "output_type": "stream",
     "text": [
      "extract_think количество ошибок:  0\n",
      "extract_sql количество ошибок:  0\n",
      "Закончили генерацию SQL запросов\n",
      "Начали скорр полученных SQL запросов\n"
     ]
    },
    {
     "name": "stderr",
     "output_type": "stream",
     "text": [
      "\n"
     ]
    },
    {
     "name": "stdout",
     "output_type": "stream",
     "text": [
      "Qwen3-8b Mini DEV Финальный результат EX: 54.80\n",
      "Qwen3-8b процент запросов, которые успешно выполнились Mini DEV: 94.80%\n",
      "====================================================================================================\n",
      "\n",
      "\n",
      "Загружаем чаты с данными...\n",
      "Данные успешно загружены\n",
      "Начали генерацию SQL запросов\n"
     ]
    },
    {
     "name": "stderr",
     "output_type": "stream",
     "text": [
      "Processed prompts: 100%|██████████| 500/500 [02:00<00:00,  4.16it/s, est. speed input: 36367.78 toks/s, output: 227.45 toks/s]"
     ]
    },
    {
     "name": "stdout",
     "output_type": "stream",
     "text": [
      "extract_think количество ошибок:  0\n",
      "extract_sql количество ошибок:  0\n",
      "Закончили генерацию SQL запросов\n",
      "Начали скорр полученных SQL запросов\n"
     ]
    },
    {
     "name": "stderr",
     "output_type": "stream",
     "text": [
      "\n"
     ]
    },
    {
     "name": "stdout",
     "output_type": "stream",
     "text": [
      "Qwen3-8b Mini DEV Финальный результат EX: 53.60\n",
      "Qwen3-8b процент запросов, которые успешно выполнились Mini DEV: 93.40%\n",
      "====================================================================================================\n",
      "\n",
      "\n",
      "Загружаем чаты с данными...\n",
      "Данные успешно загружены\n",
      "Начали генерацию SQL запросов\n"
     ]
    },
    {
     "name": "stderr",
     "output_type": "stream",
     "text": [
      "Processed prompts: 100%|██████████| 500/500 [02:03<00:00,  4.06it/s, est. speed input: 35497.44 toks/s, output: 224.10 toks/s]"
     ]
    },
    {
     "name": "stdout",
     "output_type": "stream",
     "text": [
      "extract_think количество ошибок:  0\n",
      "extract_sql количество ошибок:  0\n",
      "Закончили генерацию SQL запросов\n",
      "Начали скорр полученных SQL запросов\n"
     ]
    },
    {
     "name": "stderr",
     "output_type": "stream",
     "text": [
      "\n"
     ]
    },
    {
     "name": "stdout",
     "output_type": "stream",
     "text": [
      "Qwen3-8b Mini DEV Финальный результат EX: 54.20\n",
      "Qwen3-8b процент запросов, которые успешно выполнились Mini DEV: 94.60%\n",
      "====================================================================================================\n",
      "\n",
      "\n",
      "Загружаем чаты с данными...\n",
      "Данные успешно загружены\n",
      "Начали генерацию SQL запросов\n"
     ]
    },
    {
     "name": "stderr",
     "output_type": "stream",
     "text": [
      "Processed prompts: 100%|██████████| 500/500 [01:58<00:00,  4.21it/s, est. speed input: 36807.12 toks/s, output: 222.72 toks/s]"
     ]
    },
    {
     "name": "stdout",
     "output_type": "stream",
     "text": [
      "extract_think количество ошибок:  0\n",
      "extract_sql количество ошибок:  0\n",
      "Закончили генерацию SQL запросов\n",
      "Начали скорр полученных SQL запросов\n"
     ]
    },
    {
     "name": "stderr",
     "output_type": "stream",
     "text": [
      "\n"
     ]
    },
    {
     "name": "stdout",
     "output_type": "stream",
     "text": [
      "Qwen3-8b Mini DEV Финальный результат EX: 54.60\n",
      "Qwen3-8b процент запросов, которые успешно выполнились Mini DEV: 94.80%\n",
      "====================================================================================================\n",
      "\n",
      "\n"
     ]
    }
   ],
   "source": [
    "run_cot_experiment(model,arr_seeds,arr_versions, type_cot,num_observations=num_observations)"
   ]
  },
  {
   "cell_type": "code",
   "execution_count": null,
   "id": "171b2c3c-8791-4729-ab35-c2ce3d8aa2f0",
   "metadata": {},
   "outputs": [],
   "source": []
  }
 ],
 "metadata": {
  "kernelspec": {
   "display_name": "vllm",
   "language": "python",
   "name": "vllm"
  },
  "language_info": {
   "codemirror_mode": {
    "name": "ipython",
    "version": 3
   },
   "file_extension": ".py",
   "mimetype": "text/x-python",
   "name": "python",
   "nbconvert_exporter": "python",
   "pygments_lexer": "ipython3",
   "version": "3.12.4"
  }
 },
 "nbformat": 4,
 "nbformat_minor": 5
}
