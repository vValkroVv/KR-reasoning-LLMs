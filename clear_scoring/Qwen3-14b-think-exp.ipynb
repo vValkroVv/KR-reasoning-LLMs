{
 "cells": [
  {
   "cell_type": "code",
   "execution_count": 1,
   "id": "8fc211c7-82bd-49c0-b7e2-1c1d6ad9134f",
   "metadata": {},
   "outputs": [
    {
     "name": "stdout",
     "output_type": "stream",
     "text": [
      "INFO 05-16 00:47:47 [__init__.py:239] Automatically detected platform cuda.\n"
     ]
    },
    {
     "name": "stderr",
     "output_type": "stream",
     "text": [
      "2025-05-16 00:47:48,911\tINFO util.py:154 -- Missing packages: ['ipywidgets']. Run `pip install -U ipywidgets`, then restart the notebook server for rich notebook output.\n"
     ]
    }
   ],
   "source": [
    "import os, sys\n",
    "sys.path.append(\"/home/vkropoti/vllm\")\n",
    "\n",
    "from src.experiment import run_think_experiment\n",
    "import random\n",
    "import numpy as np"
   ]
  },
  {
   "cell_type": "code",
   "execution_count": 3,
   "id": "ff95fe4c-4743-4a91-abcf-94e139e1a6d4",
   "metadata": {},
   "outputs": [
    {
     "name": "stdout",
     "output_type": "stream",
     "text": [
      "[746, 901, 940, 666, 922, 434, 286, 0, 650, 317, 622, 74, 370, 150, 799, 892, 280, 737, 857, 827]\n",
      "model: Qwen3-14B\n"
     ]
    }
   ],
   "source": [
    "n= 20\n",
    "arr_seeds = [random.randint(0,1000) for _ in range(n)]\n",
    "arr_versions = [x for x in range(n)]\n",
    "model = \"Qwen3-14B\"\n",
    "print(arr_seeds)\n",
    "print(f\"model: {model}\")"
   ]
  },
  {
   "cell_type": "code",
   "execution_count": 4,
   "id": "3389289b-f43f-4840-88af-e4856b34211d",
   "metadata": {},
   "outputs": [
    {
     "name": "stdout",
     "output_type": "stream",
     "text": [
      "Загружаем модель...\n"
     ]
    },
    {
     "name": "stderr",
     "output_type": "stream",
     "text": [
      "Loading safetensors checkpoint shards:   0% Completed | 0/8 [00:00<?, ?it/s]\n",
      "Loading safetensors checkpoint shards:  12% Completed | 1/8 [00:01<00:11,  1.57s/it]\n",
      "Loading safetensors checkpoint shards:  25% Completed | 2/8 [00:03<00:09,  1.53s/it]\n",
      "Loading safetensors checkpoint shards:  38% Completed | 3/8 [00:04<00:07,  1.54s/it]\n",
      "Loading safetensors checkpoint shards:  50% Completed | 4/8 [00:06<00:06,  1.56s/it]\n",
      "Loading safetensors checkpoint shards:  62% Completed | 5/8 [00:07<00:04,  1.58s/it]\n",
      "Loading safetensors checkpoint shards:  75% Completed | 6/8 [00:08<00:02,  1.32s/it]\n",
      "Loading safetensors checkpoint shards:  88% Completed | 7/8 [00:10<00:01,  1.41s/it]\n",
      "Loading safetensors checkpoint shards: 100% Completed | 8/8 [00:11<00:00,  1.47s/it]\n",
      "Loading safetensors checkpoint shards: 100% Completed | 8/8 [00:11<00:00,  1.48s/it]\n",
      "\u001b[1;36m(VllmWorker rank=0 pid=3114268)\u001b[0;0m \n"
     ]
    },
    {
     "name": "stdout",
     "output_type": "stream",
     "text": [
      "Модель успешно загружена\n",
      "model_config {'model': '/data/home/vkropoti/models/Qwen3-14B', 'tensor_parallel_size': 2, 'max_model_len': 25000, 'max_new_tokens': 15000, 'temperature': 0.95, 'top_k': 50, 'top_p': 0.95, 'gpu_memory_utilization': 0.9, 'trust_remote_code': False, 'seed': 746}\n",
      "\n",
      "prompts_config {'path_dev_json': '/home/vkropoti/vllm/dev.json', 'path_sql_dbs': '/data/home/vkropoti/sql_data/dev_databases/', 'use_reasoning': True, 'paths_to_cot': None}\n",
      "\n",
      "save_config {'path_sql_save': '/data/home/vkropoti/sql_llm_answers/base_reasoning/sql_all_Qwen3-14B-reasoning-v0', 'path_think_save': '/data/home/vkropoti/sql_llm_answers/base_reasoning/sql_think_Qwen3-14B-reasoning-v0', 'path_sql_answers_save': '/data/home/vkropoti/sql_llm_answers/base_reasoning/sql_predict_Qwen3-14B-reasoning-v0', 'path_to_save_scores': '/data/home/vkropoti/sql_llm_answers/base_reasoning/sql_results_Qwen3-14B-reasoning-v0', 'path_to_save_executed': '/data/home/vkropoti/sql_llm_answers/base_reasoning/sql_executed_Qwen3-14B-reasoning-v0'}\n",
      "\n",
      "Модель успешно загружена\n",
      "Пример промпта\n",
      "<|im_start|>system\n",
      "\n",
      "You are a data science expert. Below, you are provided with a database schema and a natural language question. Your task is to understand the schema and generate a valid SQL query to answer the question.\n",
      "\n",
      "Database Engine: SQLite\n",
      "\n",
      "Firstly think how to solve the problem, analyze tables, take care what columns avaliable in each table and so on, check the syntacsis (do not otherthink 2k words is a limit, no more!).\n",
      "Secondly, create the answer based on thoughts. The answer should be only sql query.\n",
      "\n",
      "Carefully follow the instruction and add <|im_end|> and the end of the final answer.\n",
      "<|im_end|>\n",
      "<|im_start|>user\n",
      "here is avaliable tables below\n",
      "\n",
      "\n",
      "Table: customers\n",
      "CREATE TABLE customers\n",
      "(\n",
      "    CustomerID INTEGER UNIQUE     not null\n",
      "        primary key,\n",
      "    Segment    TEXT null,\n",
      "    Currency   TEXT null\n",
      ")\n",
      "\n",
      "Table: gasstations\n",
      "CREATE TABLE gasstations\n",
      "(\n",
      "    GasStationID INTEGER    UNIQUE   not null\n",
      "        primary key,\n",
      "    ChainID      INTEGER          null,\n",
      "    Country      TEXT null,\n",
      "    Segment      TEXT null\n",
      ")\n",
      "\n",
      "Table: products\n",
      "CREATE TABLE products\n",
      "(\n",
      "    ProductID   INTEGER   UNIQUE      not null\n",
      "        primary key,\n",
      "    Description TEXT null\n",
      ")\n",
      "\n",
      "Table: transactions_1k\n",
      "CREATE TABLE \"transactions_1k\"\n",
      "(\n",
      "    TransactionID INTEGER\n",
      "        primary key autoincrement,\n",
      "    Date          DATE,\n",
      "    Time          TEXT,\n",
      "    CustomerID    INTEGER,\n",
      "    CardID        INTEGER,\n",
      "    GasStationID  INTEGER,\n",
      "    ProductID     INTEGER,\n",
      "    Amount        INTEGER,\n",
      "    Price         REAL\n",
      ")\n",
      "\n",
      "Table: sqlite_sequence\n",
      "CREATE TABLE sqlite_sequence(name,seq)\n",
      "\n",
      "Table: yearmonth\n",
      "CREATE TABLE \"yearmonth\"\n",
      "(\n",
      "    CustomerID  INTEGER not null\n",
      "        references customers\n",
      "            on update cascade on delete cascade\n",
      "        references customers,\n",
      "    Date        TEXT    not null,\n",
      "    Consumption REAL,\n",
      "    primary key (Date, CustomerID)\n",
      ")\n",
      "\n",
      "-- Using valid SQLite and understanding External Knowledge, answer the following questions for the tables provided above.\n",
      "-- question: What is the ratio of customers who pay in EUR against customers who pay in CZK?\n",
      "-- External Knowledge: ratio of customers who pay in EUR against customers who pay in CZK = count(Currency = 'EUR') / count(Currency = 'CZK').\n",
      "\n",
      "\n",
      "Generate the SQLite for the above question after thinking step by step: \n",
      "\n",
      "\n",
      "Instructions:\n",
      "- Make sure you only output the information that is asked in the question. If the question asks for a specific column, make sure to only include that column in the SELECT clause, nothing more.\n",
      "- The generated query should return all of the information asked in the question without any missing or extra information.\n",
      "- Before generating the final SQL query, please think through the steps of how to write the query.\n",
      "- In your response, you should provide thoughts and answer (thoughts are separated with <think>).\n",
      "- Do not misuse column names, keep them in quotes `\n",
      "- Carefully understand what colomns belond to what tables\n",
      "- Use only initial column names, change names prohibited\n",
      "        \n",
      "Output Format:\n",
      "In your answer, please enclose the generated SQL query in a code block:\n",
      "```\n",
      "-- Your SQL query\n",
      "```    \n",
      "and nothing else, no exaplains, no comments (asnwer should be less than 512 characters)\n",
      "\n",
      "Take a deep breath and think step by step to find the correct SQL query in SQLite format.\n",
      "\n",
      "Question repetition: What is the ratio of customers who pay in EUR against customers who pay in CZK?\n",
      "\n",
      "Be care! Include only what i want it questiona and nothing else<|im_end|>\n",
      "<|im_start|>assistant\n",
      "\n",
      "\n",
      "\n",
      "Максимальное количество токенов в промптах: 2600\n",
      "\n",
      "начинаем скорринг\n",
      "Загружаем чаты с данными...\n",
      "Данные успешно загружены\n",
      "Начали генерацию SQL запросов\n"
     ]
    },
    {
     "name": "stderr",
     "output_type": "stream",
     "text": [
      "Processed prompts: 100%|██████████| 500/500 [01:52<00:00,  4.43it/s, est. speed input: 6032.62 toks/s, output: 3938.34 toks/s]"
     ]
    },
    {
     "name": "stdout",
     "output_type": "stream",
     "text": [
      "extract_think количество ошибок:  0\n",
      "extract_sql количество ошибок:  0\n",
      "Закончили генерацию SQL запросов\n",
      "Начали скорр полученных SQL запросов\n"
     ]
    },
    {
     "name": "stderr",
     "output_type": "stream",
     "text": [
      "\n"
     ]
    },
    {
     "name": "stdout",
     "output_type": "stream",
     "text": [
      "Qwen3-8b Mini DEV Финальный результат EX: 51.40\n",
      "Qwen3-8b процент запросов, которые успешно выполнились Mini DEV: 95.40%\n",
      "====================================================================================================\n",
      "\n",
      "\n",
      "Загружаем чаты с данными...\n",
      "Данные успешно загружены\n",
      "Начали генерацию SQL запросов\n"
     ]
    },
    {
     "name": "stderr",
     "output_type": "stream",
     "text": [
      "Processed prompts: 100%|██████████| 500/500 [01:32<00:00,  5.40it/s, est. speed input: 7358.26 toks/s, output: 3864.89 toks/s] "
     ]
    },
    {
     "name": "stdout",
     "output_type": "stream",
     "text": [
      "extract_think количество ошибок:  0\n",
      "extract_sql количество ошибок:  0\n",
      "Закончили генерацию SQL запросов\n",
      "Начали скорр полученных SQL запросов\n"
     ]
    },
    {
     "name": "stderr",
     "output_type": "stream",
     "text": [
      "\n"
     ]
    },
    {
     "name": "stdout",
     "output_type": "stream",
     "text": [
      "Qwen3-8b Mini DEV Финальный результат EX: 52.60\n",
      "Qwen3-8b процент запросов, которые успешно выполнились Mini DEV: 93.80%\n",
      "====================================================================================================\n",
      "\n",
      "\n",
      "Загружаем чаты с данными...\n",
      "Данные успешно загружены\n",
      "Начали генерацию SQL запросов\n"
     ]
    },
    {
     "name": "stderr",
     "output_type": "stream",
     "text": [
      "Processed prompts: 100%|██████████| 500/500 [02:05<00:00,  3.98it/s, est. speed input: 5422.17 toks/s, output: 3992.35 toks/s]"
     ]
    },
    {
     "name": "stdout",
     "output_type": "stream",
     "text": [
      "extract_think количество ошибок:  0\n",
      "extract_sql количество ошибок:  0\n",
      "Закончили генерацию SQL запросов\n",
      "Начали скорр полученных SQL запросов\n"
     ]
    },
    {
     "name": "stderr",
     "output_type": "stream",
     "text": [
      "\n"
     ]
    },
    {
     "name": "stdout",
     "output_type": "stream",
     "text": [
      "Qwen3-8b Mini DEV Финальный результат EX: 54.60\n",
      "Qwen3-8b процент запросов, которые успешно выполнились Mini DEV: 94.80%\n",
      "====================================================================================================\n",
      "\n",
      "\n",
      "Загружаем чаты с данными...\n",
      "Данные успешно загружены\n",
      "Начали генерацию SQL запросов\n"
     ]
    },
    {
     "name": "stderr",
     "output_type": "stream",
     "text": [
      "Processed prompts: 100%|██████████| 500/500 [02:01<00:00,  4.10it/s, est. speed input: 5582.16 toks/s, output: 4232.89 toks/s]"
     ]
    },
    {
     "name": "stdout",
     "output_type": "stream",
     "text": [
      "extract_think количество ошибок:  0\n",
      "extract_sql количество ошибок:  0\n",
      "Закончили генерацию SQL запросов\n",
      "Начали скорр полученных SQL запросов\n"
     ]
    },
    {
     "name": "stderr",
     "output_type": "stream",
     "text": [
      "\n"
     ]
    },
    {
     "name": "stdout",
     "output_type": "stream",
     "text": [
      "Qwen3-8b Mini DEV Финальный результат EX: 53.40\n",
      "Qwen3-8b процент запросов, которые успешно выполнились Mini DEV: 96.00%\n",
      "====================================================================================================\n",
      "\n",
      "\n",
      "Загружаем чаты с данными...\n",
      "Данные успешно загружены\n",
      "Начали генерацию SQL запросов\n"
     ]
    },
    {
     "name": "stderr",
     "output_type": "stream",
     "text": [
      "Processed prompts: 100%|██████████| 500/500 [01:54<00:00,  4.37it/s, est. speed input: 5947.14 toks/s, output: 4206.34 toks/s]"
     ]
    },
    {
     "name": "stdout",
     "output_type": "stream",
     "text": [
      "extract_think количество ошибок:  0\n",
      "extract_sql количество ошибок:  0\n",
      "Закончили генерацию SQL запросов\n",
      "Начали скорр полученных SQL запросов\n"
     ]
    },
    {
     "name": "stderr",
     "output_type": "stream",
     "text": [
      "\n"
     ]
    },
    {
     "name": "stdout",
     "output_type": "stream",
     "text": [
      "Qwen3-8b Mini DEV Финальный результат EX: 54.40\n",
      "Qwen3-8b процент запросов, которые успешно выполнились Mini DEV: 95.20%\n",
      "====================================================================================================\n",
      "\n",
      "\n",
      "Загружаем чаты с данными...\n",
      "Данные успешно загружены\n",
      "Начали генерацию SQL запросов\n"
     ]
    },
    {
     "name": "stderr",
     "output_type": "stream",
     "text": [
      "Processed prompts: 100%|██████████| 500/500 [01:56<00:00,  4.31it/s, est. speed input: 5866.91 toks/s, output: 4038.22 toks/s]"
     ]
    },
    {
     "name": "stdout",
     "output_type": "stream",
     "text": [
      "extract_think количество ошибок:  0\n",
      "extract_sql количество ошибок:  0\n",
      "Закончили генерацию SQL запросов\n",
      "Начали скорр полученных SQL запросов\n"
     ]
    },
    {
     "name": "stderr",
     "output_type": "stream",
     "text": [
      "\n"
     ]
    },
    {
     "name": "stdout",
     "output_type": "stream",
     "text": [
      "Qwen3-8b Mini DEV Финальный результат EX: 54.00\n",
      "Qwen3-8b процент запросов, которые успешно выполнились Mini DEV: 96.20%\n",
      "====================================================================================================\n",
      "\n",
      "\n",
      "Загружаем чаты с данными...\n",
      "Данные успешно загружены\n",
      "Начали генерацию SQL запросов\n"
     ]
    },
    {
     "name": "stderr",
     "output_type": "stream",
     "text": [
      "Processed prompts: 100%|██████████| 500/500 [01:56<00:00,  4.28it/s, est. speed input: 5824.49 toks/s, output: 4252.97 toks/s]"
     ]
    },
    {
     "name": "stdout",
     "output_type": "stream",
     "text": [
      "extract_think количество ошибок:  0\n",
      "extract_sql количество ошибок:  0\n",
      "Закончили генерацию SQL запросов\n",
      "Начали скорр полученных SQL запросов\n"
     ]
    },
    {
     "name": "stderr",
     "output_type": "stream",
     "text": [
      "\n"
     ]
    },
    {
     "name": "stdout",
     "output_type": "stream",
     "text": [
      "Qwen3-8b Mini DEV Финальный результат EX: 53.40\n",
      "Qwen3-8b процент запросов, которые успешно выполнились Mini DEV: 94.80%\n",
      "====================================================================================================\n",
      "\n",
      "\n",
      "Загружаем чаты с данными...\n",
      "Данные успешно загружены\n",
      "Начали генерацию SQL запросов\n"
     ]
    },
    {
     "name": "stderr",
     "output_type": "stream",
     "text": [
      "Processed prompts: 100%|██████████| 500/500 [01:37<00:00,  5.14it/s, est. speed input: 6996.56 toks/s, output: 3895.02 toks/s] "
     ]
    },
    {
     "name": "stdout",
     "output_type": "stream",
     "text": [
      "extract_think количество ошибок:  0\n",
      "extract_sql количество ошибок:  0\n",
      "Закончили генерацию SQL запросов\n",
      "Начали скорр полученных SQL запросов\n"
     ]
    },
    {
     "name": "stderr",
     "output_type": "stream",
     "text": [
      "\n"
     ]
    },
    {
     "name": "stdout",
     "output_type": "stream",
     "text": [
      "Qwen3-8b Mini DEV Финальный результат EX: 53.40\n",
      "Qwen3-8b процент запросов, которые успешно выполнились Mini DEV: 95.00%\n",
      "====================================================================================================\n",
      "\n",
      "\n",
      "Загружаем чаты с данными...\n",
      "Данные успешно загружены\n",
      "Начали генерацию SQL запросов\n"
     ]
    },
    {
     "name": "stderr",
     "output_type": "stream",
     "text": [
      "Processed prompts: 100%|██████████| 500/500 [01:48<00:00,  4.63it/s, est. speed input: 6302.63 toks/s, output: 4306.54 toks/s]"
     ]
    },
    {
     "name": "stdout",
     "output_type": "stream",
     "text": [
      "extract_think количество ошибок:  0\n",
      "extract_sql количество ошибок:  0\n",
      "Закончили генерацию SQL запросов\n",
      "Начали скорр полученных SQL запросов\n"
     ]
    },
    {
     "name": "stderr",
     "output_type": "stream",
     "text": [
      "\n"
     ]
    },
    {
     "name": "stdout",
     "output_type": "stream",
     "text": [
      "Qwen3-8b Mini DEV Финальный результат EX: 53.60\n",
      "Qwen3-8b процент запросов, которые успешно выполнились Mini DEV: 95.80%\n",
      "====================================================================================================\n",
      "\n",
      "\n",
      "Загружаем чаты с данными...\n",
      "Данные успешно загружены\n",
      "Начали генерацию SQL запросов\n"
     ]
    },
    {
     "name": "stderr",
     "output_type": "stream",
     "text": [
      "Processed prompts: 100%|██████████| 500/500 [01:54<00:00,  4.37it/s, est. speed input: 5951.34 toks/s, output: 3634.46 toks/s]"
     ]
    },
    {
     "name": "stdout",
     "output_type": "stream",
     "text": [
      "extract_think количество ошибок:  0\n",
      "extract_sql количество ошибок:  0\n",
      "Закончили генерацию SQL запросов\n",
      "Начали скорр полученных SQL запросов\n"
     ]
    },
    {
     "name": "stderr",
     "output_type": "stream",
     "text": [
      "\n"
     ]
    },
    {
     "name": "stdout",
     "output_type": "stream",
     "text": [
      "Qwen3-8b Mini DEV Финальный результат EX: 52.20\n",
      "Qwen3-8b процент запросов, которые успешно выполнились Mini DEV: 96.20%\n",
      "====================================================================================================\n",
      "\n",
      "\n",
      "Загружаем чаты с данными...\n",
      "Данные успешно загружены\n",
      "Начали генерацию SQL запросов\n"
     ]
    },
    {
     "name": "stderr",
     "output_type": "stream",
     "text": [
      "Processed prompts: 100%|██████████| 500/500 [02:08<00:00,  3.89it/s, est. speed input: 5298.23 toks/s, output: 3692.62 toks/s]"
     ]
    },
    {
     "name": "stdout",
     "output_type": "stream",
     "text": [
      "extract_think количество ошибок:  0\n",
      "extract_sql количество ошибок:  0\n",
      "Закончили генерацию SQL запросов\n",
      "Начали скорр полученных SQL запросов\n"
     ]
    },
    {
     "name": "stderr",
     "output_type": "stream",
     "text": [
      "\n"
     ]
    },
    {
     "name": "stdout",
     "output_type": "stream",
     "text": [
      "Qwen3-8b Mini DEV Финальный результат EX: 51.60\n",
      "Qwen3-8b процент запросов, которые успешно выполнились Mini DEV: 96.00%\n",
      "====================================================================================================\n",
      "\n",
      "\n",
      "Загружаем чаты с данными...\n",
      "Данные успешно загружены\n",
      "Начали генерацию SQL запросов\n"
     ]
    },
    {
     "name": "stderr",
     "output_type": "stream",
     "text": [
      "Processed prompts: 100%|██████████| 500/500 [01:47<00:00,  4.64it/s, est. speed input: 6324.95 toks/s, output: 4166.18 toks/s]"
     ]
    },
    {
     "name": "stdout",
     "output_type": "stream",
     "text": [
      "extract_think количество ошибок:  0\n",
      "extract_sql количество ошибок:  0\n",
      "Закончили генерацию SQL запросов\n",
      "Начали скорр полученных SQL запросов\n"
     ]
    },
    {
     "name": "stderr",
     "output_type": "stream",
     "text": [
      "\n"
     ]
    },
    {
     "name": "stdout",
     "output_type": "stream",
     "text": [
      "Qwen3-8b Mini DEV Финальный результат EX: 52.80\n",
      "Qwen3-8b процент запросов, которые успешно выполнились Mini DEV: 97.40%\n",
      "====================================================================================================\n",
      "\n",
      "\n",
      "Загружаем чаты с данными...\n",
      "Данные успешно загружены\n",
      "Начали генерацию SQL запросов\n"
     ]
    },
    {
     "name": "stderr",
     "output_type": "stream",
     "text": [
      "Processed prompts: 100%|██████████| 500/500 [01:55<00:00,  4.32it/s, est. speed input: 5877.74 toks/s, output: 4211.70 toks/s]"
     ]
    },
    {
     "name": "stdout",
     "output_type": "stream",
     "text": [
      "extract_think количество ошибок:  0\n",
      "extract_sql количество ошибок:  0\n",
      "Закончили генерацию SQL запросов\n",
      "Начали скорр полученных SQL запросов\n"
     ]
    },
    {
     "name": "stderr",
     "output_type": "stream",
     "text": [
      "\n"
     ]
    },
    {
     "name": "stdout",
     "output_type": "stream",
     "text": [
      "Qwen3-8b Mini DEV Финальный результат EX: 52.80\n",
      "Qwen3-8b процент запросов, которые успешно выполнились Mini DEV: 95.80%\n",
      "====================================================================================================\n",
      "\n",
      "\n",
      "Загружаем чаты с данными...\n",
      "Данные успешно загружены\n",
      "Начали генерацию SQL запросов\n"
     ]
    },
    {
     "name": "stderr",
     "output_type": "stream",
     "text": [
      "Processed prompts: 100%|██████████| 500/500 [01:55<00:00,  4.34it/s, est. speed input: 5913.85 toks/s, output: 4026.38 toks/s]"
     ]
    },
    {
     "name": "stdout",
     "output_type": "stream",
     "text": [
      "extract_think количество ошибок:  0\n",
      "extract_sql количество ошибок:  0\n",
      "Закончили генерацию SQL запросов\n",
      "Начали скорр полученных SQL запросов\n"
     ]
    },
    {
     "name": "stderr",
     "output_type": "stream",
     "text": [
      "\n"
     ]
    },
    {
     "name": "stdout",
     "output_type": "stream",
     "text": [
      "Qwen3-8b Mini DEV Финальный результат EX: 52.40\n",
      "Qwen3-8b процент запросов, которые успешно выполнились Mini DEV: 96.00%\n",
      "====================================================================================================\n",
      "\n",
      "\n",
      "Загружаем чаты с данными...\n",
      "Данные успешно загружены\n",
      "Начали генерацию SQL запросов\n"
     ]
    },
    {
     "name": "stderr",
     "output_type": "stream",
     "text": [
      "Processed prompts: 100%|██████████| 500/500 [01:34<00:00,  5.31it/s, est. speed input: 7226.33 toks/s, output: 3884.61 toks/s] "
     ]
    },
    {
     "name": "stdout",
     "output_type": "stream",
     "text": [
      "extract_think количество ошибок:  0\n",
      "extract_sql количество ошибок:  0\n",
      "Закончили генерацию SQL запросов\n",
      "Начали скорр полученных SQL запросов\n"
     ]
    },
    {
     "name": "stderr",
     "output_type": "stream",
     "text": [
      "\n"
     ]
    },
    {
     "name": "stdout",
     "output_type": "stream",
     "text": [
      "Qwen3-8b Mini DEV Финальный результат EX: 50.00\n",
      "Qwen3-8b процент запросов, которые успешно выполнились Mini DEV: 94.00%\n",
      "====================================================================================================\n",
      "\n",
      "\n",
      "Загружаем чаты с данными...\n",
      "Данные успешно загружены\n",
      "Начали генерацию SQL запросов\n"
     ]
    },
    {
     "name": "stderr",
     "output_type": "stream",
     "text": [
      "Processed prompts: 100%|██████████| 500/500 [02:05<00:00,  3.99it/s, est. speed input: 5427.85 toks/s, output: 3732.07 toks/s]"
     ]
    },
    {
     "name": "stdout",
     "output_type": "stream",
     "text": [
      "extract_think количество ошибок:  0\n",
      "extract_sql количество ошибок:  0\n",
      "Закончили генерацию SQL запросов\n",
      "Начали скорр полученных SQL запросов\n"
     ]
    },
    {
     "name": "stderr",
     "output_type": "stream",
     "text": [
      "\n"
     ]
    },
    {
     "name": "stdout",
     "output_type": "stream",
     "text": [
      "Qwen3-8b Mini DEV Финальный результат EX: 54.00\n",
      "Qwen3-8b процент запросов, которые успешно выполнились Mini DEV: 94.80%\n",
      "====================================================================================================\n",
      "\n",
      "\n",
      "Загружаем чаты с данными...\n",
      "Данные успешно загружены\n",
      "Начали генерацию SQL запросов\n"
     ]
    },
    {
     "name": "stderr",
     "output_type": "stream",
     "text": [
      "Processed prompts: 100%|██████████| 500/500 [02:07<00:00,  3.93it/s, est. speed input: 5357.72 toks/s, output: 3590.33 toks/s]"
     ]
    },
    {
     "name": "stdout",
     "output_type": "stream",
     "text": [
      "extract_think количество ошибок:  0\n",
      "extract_sql количество ошибок:  0\n",
      "Закончили генерацию SQL запросов\n",
      "Начали скорр полученных SQL запросов\n"
     ]
    },
    {
     "name": "stderr",
     "output_type": "stream",
     "text": [
      "\n"
     ]
    },
    {
     "name": "stdout",
     "output_type": "stream",
     "text": [
      "Qwen3-8b Mini DEV Финальный результат EX: 53.00\n",
      "Qwen3-8b процент запросов, которые успешно выполнились Mini DEV: 94.60%\n",
      "====================================================================================================\n",
      "\n",
      "\n",
      "Загружаем чаты с данными...\n",
      "Данные успешно загружены\n",
      "Начали генерацию SQL запросов\n"
     ]
    },
    {
     "name": "stderr",
     "output_type": "stream",
     "text": [
      "Processed prompts: 100%|██████████| 500/500 [01:50<00:00,  4.51it/s, est. speed input: 6146.55 toks/s, output: 3735.89 toks/s]"
     ]
    },
    {
     "name": "stdout",
     "output_type": "stream",
     "text": [
      "extract_think количество ошибок:  0\n",
      "extract_sql количество ошибок:  0\n",
      "Закончили генерацию SQL запросов\n",
      "Начали скорр полученных SQL запросов\n"
     ]
    },
    {
     "name": "stderr",
     "output_type": "stream",
     "text": [
      "\n"
     ]
    },
    {
     "name": "stdout",
     "output_type": "stream",
     "text": [
      "Qwen3-8b Mini DEV Финальный результат EX: 52.60\n",
      "Qwen3-8b процент запросов, которые успешно выполнились Mini DEV: 94.80%\n",
      "====================================================================================================\n",
      "\n",
      "\n",
      "Загружаем чаты с данными...\n",
      "Данные успешно загружены\n",
      "Начали генерацию SQL запросов\n"
     ]
    },
    {
     "name": "stderr",
     "output_type": "stream",
     "text": [
      "Processed prompts: 100%|██████████| 500/500 [01:28<00:00,  5.66it/s, est. speed input: 7714.09 toks/s, output: 3705.46 toks/s] "
     ]
    },
    {
     "name": "stdout",
     "output_type": "stream",
     "text": [
      "extract_think количество ошибок:  0\n",
      "extract_sql количество ошибок:  0\n",
      "Закончили генерацию SQL запросов\n",
      "Начали скорр полученных SQL запросов\n"
     ]
    },
    {
     "name": "stderr",
     "output_type": "stream",
     "text": [
      "\n"
     ]
    },
    {
     "name": "stdout",
     "output_type": "stream",
     "text": [
      "Qwen3-8b Mini DEV Финальный результат EX: 50.60\n",
      "Qwen3-8b процент запросов, которые успешно выполнились Mini DEV: 93.60%\n",
      "====================================================================================================\n",
      "\n",
      "\n",
      "Загружаем чаты с данными...\n",
      "Данные успешно загружены\n",
      "Начали генерацию SQL запросов\n"
     ]
    },
    {
     "name": "stderr",
     "output_type": "stream",
     "text": [
      "Processed prompts: 100%|██████████| 500/500 [01:18<00:00,  6.41it/s, est. speed input: 8729.89 toks/s, output: 2648.62 toks/s]  "
     ]
    },
    {
     "name": "stdout",
     "output_type": "stream",
     "text": [
      "extract_think количество ошибок:  0\n",
      "extract_sql количество ошибок:  0\n",
      "Закончили генерацию SQL запросов\n",
      "Начали скорр полученных SQL запросов\n"
     ]
    },
    {
     "name": "stderr",
     "output_type": "stream",
     "text": [
      "\n"
     ]
    },
    {
     "name": "stdout",
     "output_type": "stream",
     "text": [
      "Qwen3-8b Mini DEV Финальный результат EX: 51.40\n",
      "Qwen3-8b процент запросов, которые успешно выполнились Mini DEV: 93.20%\n",
      "====================================================================================================\n",
      "\n",
      "\n"
     ]
    }
   ],
   "source": [
    "run_think_experiment(model,arr_seeds,arr_versions)"
   ]
  },
  {
   "cell_type": "markdown",
   "id": "81c34c01-00c6-498b-b626-e0452ab4ddb6",
   "metadata": {},
   "source": [
    "## Выводим средний скорр think подхода"
   ]
  },
  {
   "cell_type": "code",
   "execution_count": 5,
   "id": "1e66fa7c-ddda-472d-93a3-2d563b0129df",
   "metadata": {},
   "outputs": [],
   "source": [
    "import pickle"
   ]
  },
  {
   "cell_type": "code",
   "execution_count": 6,
   "id": "ce529050-623f-4d4f-bfac-9ab5d43e2c4a",
   "metadata": {},
   "outputs": [],
   "source": [
    "def load_results(k):\n",
    "    with open(f\"/data/home/vkropoti/sql_llm_answers/base_reasoning/sql_results_{model}-reasoning-v{k}\", \"rb\") as fp:\n",
    "        results = np.array(pickle.load(fp))\n",
    "    return results"
   ]
  },
  {
   "cell_type": "code",
   "execution_count": 7,
   "id": "53838cd4-51fb-42d2-88c5-340999184bba",
   "metadata": {},
   "outputs": [],
   "source": [
    "def load_executed(k):\n",
    "    with open(f\"/data/home/vkropoti/sql_llm_answers/base_reasoning/sql_executed_{model}-reasoning-v{k}\", \"rb\") as fp:\n",
    "        executed = np.array(pickle.load(fp))\n",
    "    return executed"
   ]
  },
  {
   "cell_type": "code",
   "execution_count": 8,
   "id": "c4defcb9-0814-4f71-8080-a3e3c52317ac",
   "metadata": {},
   "outputs": [],
   "source": [
    "def get_think_results(n):\n",
    "    arr_mean_scores = []\n",
    "    arr_mean_executed = []\n",
    "    for i in range(n):\n",
    "        results, executed = load_results(i), load_executed(i)\n",
    "        arr_mean_scores.append(np.mean(result))\n",
    "        arr_mean_executed.append(np.mean(executed))\n",
    "        \n",
    "    print(f\"{name} Mini DEV Финальный результат EX: {np.mean(np.array(result)):.3f}, при std: {np.std(np.array(result)):.3f}\")\n",
    "    print(f\"{name} процент запросов, которые успешно выполнились Mini DEV: {np.mean(np.array(executed)):.3f}, при std: {np.std(np.array(executed)):.3f}\")\n",
    "    "
   ]
  },
  {
   "cell_type": "code",
   "execution_count": 9,
   "id": "bd970f43-9be2-4e65-893a-9624c720d244",
   "metadata": {},
   "outputs": [],
   "source": [
    "def get_think_results(model,n):\n",
    "    arr_mean_scores = []\n",
    "    for i in range(n):\n",
    "        result = load_results(i)\n",
    "        arr_mean_scores.append(np.mean(result))\n",
    "        # arr_mean_executed.append(np.mean(executed))\n",
    "        \n",
    "    print(f\"{model} Mini DEV Финальный результат EX: {np.mean(np.array(arr_mean_scores)):.3f}, при std: {np.std(np.array(arr_mean_scores)):.3f}\")\n",
    "    # print(f\"{name} процент запросов, которые успешно выполнились Mini DEV: {np.mean(np.array(executed)):.3f}, при std: {np.std(np.array(executed)):.3f}\")\n",
    "    "
   ]
  },
  {
   "cell_type": "code",
   "execution_count": 11,
   "id": "9f57e1a5-7e57-4e87-9f42-e4a844087e40",
   "metadata": {},
   "outputs": [
    {
     "name": "stdout",
     "output_type": "stream",
     "text": [
      "Qwen3-14B Mini DEV Финальный результат EX: 0.527, при std: 0.012\n"
     ]
    }
   ],
   "source": [
    "# все 50\n",
    "get_think_results(model,20)"
   ]
  },
  {
   "cell_type": "code",
   "execution_count": 27,
   "id": "f99157c5-d923-4212-ab36-dbabe75107f6",
   "metadata": {},
   "outputs": [
    {
     "name": "stdout",
     "output_type": "stream",
     "text": [
      "Qwen3-8B Mini DEV Финальный результат EX: 0.528, при std: 0.009\n"
     ]
    }
   ],
   "source": [
    "# первые 20\n",
    "get_think_results(model,n)"
   ]
  }
 ],
 "metadata": {
  "kernelspec": {
   "display_name": "vllm",
   "language": "python",
   "name": "vllm"
  },
  "language_info": {
   "codemirror_mode": {
    "name": "ipython",
    "version": 3
   },
   "file_extension": ".py",
   "mimetype": "text/x-python",
   "name": "python",
   "nbconvert_exporter": "python",
   "pygments_lexer": "ipython3",
   "version": "3.12.4"
  }
 },
 "nbformat": 4,
 "nbformat_minor": 5
}
