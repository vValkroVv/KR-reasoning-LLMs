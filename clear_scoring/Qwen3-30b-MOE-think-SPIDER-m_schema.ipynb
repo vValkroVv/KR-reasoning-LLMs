{
 "cells": [
  {
   "cell_type": "code",
   "execution_count": 1,
   "id": "8fc211c7-82bd-49c0-b7e2-1c1d6ad9134f",
   "metadata": {},
   "outputs": [
    {
     "name": "stdout",
     "output_type": "stream",
     "text": [
      "INFO 05-25 16:29:51 [__init__.py:239] Automatically detected platform cuda.\n"
     ]
    },
    {
     "name": "stderr",
     "output_type": "stream",
     "text": [
      "2025-05-25 16:29:52,901\tINFO util.py:154 -- Missing packages: ['ipywidgets']. Run `pip install -U ipywidgets`, then restart the notebook server for rich notebook output.\n"
     ]
    }
   ],
   "source": [
    "import os, sys\n",
    "sys.path.append(\"/home/vkropoti/vllm\")\n",
    "\n",
    "from src.experiment import run_think_experiment\n",
    "import random\n",
    "import numpy as np"
   ]
  },
  {
   "cell_type": "code",
   "execution_count": 2,
   "id": "ff95fe4c-4743-4a91-abcf-94e139e1a6d4",
   "metadata": {},
   "outputs": [
    {
     "name": "stdout",
     "output_type": "stream",
     "text": [
      "[397, 552, 17, 424, 566, 769, 323, 759, 60, 557, 267, 317, 184, 604, 240, 493, 425, 35, 618, 570]\n",
      "model: Qwen3-30b-moe\n"
     ]
    }
   ],
   "source": [
    "n= 20\n",
    "arr_seeds = [random.randint(0,1000) for _ in range(n)]\n",
    "arr_versions = [x for x in range(n)]\n",
    "# model = \"Qwen3-8B\"\n",
    "model = \"Qwen3-30b-moe\"\n",
    "print(arr_seeds)\n",
    "print(f\"model: {model}\")"
   ]
  },
  {
   "cell_type": "code",
   "execution_count": 3,
   "id": "3389289b-f43f-4840-88af-e4856b34211d",
   "metadata": {
    "scrolled": true
   },
   "outputs": [
    {
     "name": "stdout",
     "output_type": "stream",
     "text": [
      "Загружаем модель...\n"
     ]
    },
    {
     "name": "stderr",
     "output_type": "stream",
     "text": [
      "Loading safetensors checkpoint shards:   0% Completed | 0/16 [00:00<?, ?it/s]\n",
      "Loading safetensors checkpoint shards:   6% Completed | 1/16 [00:00<00:14,  1.03it/s]\n",
      "Loading safetensors checkpoint shards:  12% Completed | 2/16 [00:01<00:13,  1.00it/s]\n",
      "Loading safetensors checkpoint shards:  19% Completed | 3/16 [00:02<00:13,  1.00s/it]\n",
      "Loading safetensors checkpoint shards:  25% Completed | 4/16 [00:04<00:12,  1.01s/it]\n",
      "Loading safetensors checkpoint shards:  31% Completed | 5/16 [00:05<00:11,  1.01s/it]\n",
      "Loading safetensors checkpoint shards:  38% Completed | 6/16 [00:06<00:10,  1.02s/it]\n",
      "Loading safetensors checkpoint shards:  44% Completed | 7/16 [00:07<00:09,  1.01s/it]\n",
      "Loading safetensors checkpoint shards:  50% Completed | 8/16 [00:08<00:08,  1.02s/it]\n",
      "Loading safetensors checkpoint shards:  56% Completed | 9/16 [00:09<00:07,  1.03s/it]\n",
      "Loading safetensors checkpoint shards:  62% Completed | 10/16 [00:10<00:06,  1.03s/it]\n",
      "Loading safetensors checkpoint shards:  69% Completed | 11/16 [00:11<00:05,  1.02s/it]\n",
      "Loading safetensors checkpoint shards:  75% Completed | 12/16 [00:12<00:04,  1.02s/it]\n",
      "Loading safetensors checkpoint shards:  81% Completed | 13/16 [00:12<00:02,  1.21it/s]\n",
      "Loading safetensors checkpoint shards:  88% Completed | 14/16 [00:13<00:01,  1.14it/s]\n",
      "Loading safetensors checkpoint shards:  94% Completed | 15/16 [00:14<00:00,  1.05it/s]\n",
      "Loading safetensors checkpoint shards: 100% Completed | 16/16 [00:15<00:00,  1.02it/s]\n",
      "Loading safetensors checkpoint shards: 100% Completed | 16/16 [00:15<00:00,  1.02it/s]\n",
      "\u001b[1;36m(VllmWorker rank=0 pid=1669684)\u001b[0;0m \n"
     ]
    },
    {
     "name": "stdout",
     "output_type": "stream",
     "text": [
      "Модель успешно загружена\n",
      "model_config {'model': '/data/home/vkropoti/models/Qwen3-30b-moe', 'tensor_parallel_size': 2, 'max_model_len': 25000, 'max_new_tokens': 15000, 'temperature': 0.95, 'top_k': 50, 'top_p': 0.95, 'gpu_memory_utilization': 0.9, 'trust_remote_code': False, 'seed': 397}\n",
      "\n",
      "prompts_config {'path_dev_json': '/data/home/vkropoti/sql_data/dev_spider.json', 'path_sql_dbs': '/data/home/vkropoti/sql_data/data_bases_spider/', 'use_reasoning': True, 'paths_to_cot': None}\n",
      "\n",
      "save_config {'path_sql_save': '/data/home/vkropoti/sql_llm_answers/spider_dev_m_schema/sql_all_Qwen3-30b-moe-reasoning-v0', 'path_think_save': '/data/home/vkropoti/sql_llm_answers/spider_dev_m_schema/sql_think_Qwen3-30b-moe-reasoning-v0', 'path_sql_answers_save': '/data/home/vkropoti/sql_llm_answers/spider_dev_m_schema/sql_predict_Qwen3-30b-moe-reasoning-v0', 'path_to_save_scores': '/data/home/vkropoti/sql_llm_answers/spider_dev_m_schema/sql_results_Qwen3-30b-moe-reasoning-v0', 'path_to_save_executed': '/data/home/vkropoti/sql_llm_answers/spider_dev_m_schema/sql_executed_Qwen3-30b-moe-reasoning-v0'}\n",
      "\n",
      "Модель успешно загружена\n",
      "Пример промпта\n",
      "<|im_start|>system\n",
      "\n",
      "You are a data science expert. Below, you are provided with a database schema and a natural language question. Your task is to understand the schema and generate a valid SQL query to answer the question.\n",
      "\n",
      "Database Engine: SQLite\n",
      "\n",
      "Firstly think how to solve the problem, analyze tables, take care what columns avaliable in each table and so on, check the syntacsis (do not otherthink 2k words is a limit, no more!).\n",
      "Secondly, create the answer based on thoughts. The answer should be only sql query.\n",
      "\n",
      "Carefully follow the instruction and add <|im_end|> and the end of the final answer.\n",
      "<|im_end|>\n",
      "<|im_start|>user\n",
      "here is avaliable tables and their structure below\n",
      "【DB_ID】 concert_singer\n",
      "【Schema】\n",
      "# Table: concert\n",
      "[\n",
      "(concert_ID:INTEGER, Primary Key, Examples: [1, 2, 3]),\n",
      "(concert_Name:TEXT, Examples: [Auditions, Super bootcamp, Home Visits]),\n",
      "(Theme:TEXT, Examples: [Free choice, Free choice 2, Bleeding Love]),\n",
      "(Stadium_ID:TEXT, maps to stadium.Stadium_ID, Examples: [1, 2, 10]),\n",
      "(Year:TEXT, Examples: [2014, 2015, 2016])\n",
      "]\n",
      "# Table: singer\n",
      "[\n",
      "(Singer_ID:INTEGER, Primary Key, Examples: [1, 2, 3]),\n",
      "(Name:TEXT, Examples: [Joe Sharp, Timbaland, Justin Brown]),\n",
      "(Country:TEXT, Examples: [Netherlands, United States, France]),\n",
      "(Song_Name:TEXT, Examples: [You, Dangerous, Hey Oh]),\n",
      "(Song_release_year:TEXT, Examples: [1992, 2008, 2013]),\n",
      "(Age:INTEGER, Examples: [52, 32, 29]),\n",
      "(Is_male:BOOLEAN, Examples: [False, True])\n",
      "]\n",
      "# Table: singer_in_concert\n",
      "[\n",
      "(concert_ID:INTEGER, maps to concert.concert_ID, Primary Key, Examples: [1, 2, 3]),\n",
      "(Singer_ID:TEXT, maps to singer.Singer_ID, Primary Key, Examples: [2, 3, 5])\n",
      "]\n",
      "# Table: stadium\n",
      "[\n",
      "(Stadium_ID:INTEGER, Primary Key, Examples: [1, 2, 3]),\n",
      "(Location:TEXT, Examples: [Raith Rovers, Ayr United, East Fife]),\n",
      "(Name:TEXT, Examples: [Stark's Park, Somerset Park, Bayview Stadium]),\n",
      "(Capacity:INTEGER, Examples: [10104, 11998, 2000]),\n",
      "(Highest:INTEGER, Examples: [4812, 2363, 1980]),\n",
      "(Lowest:INTEGER, Examples: [1294, 1057, 533]),\n",
      "(Average:INTEGER, Examples: [2106, 1477, 864])\n",
      "]\n",
      "【Foreign keys】\n",
      "concert.Stadium_ID=stadium.Stadium_ID\n",
      "singer_in_concert.concert_ID=concert.concert_ID\n",
      "singer_in_concert.Singer_ID=singer.Singer_ID\n",
      "\n",
      "-- Using valid SQLite, answer the following questions for the tables provided above.\n",
      "-- question: How many singers do we have?\n",
      "\n",
      "\n",
      "\n",
      "Generate the SQLite for the above question after thinking step by step: \n",
      "\n",
      "\n",
      "Instructions:\n",
      "- Make sure you only output the information that is asked in the question. If the question asks for a specific column, make sure to only include that column in the SELECT clause, nothing more.\n",
      "- The generated query should return all of the information asked in the question without any missing or extra information.\n",
      "- Before generating the final SQL query, please think through the steps of how to write the query.\n",
      "- In your response, you should provide thoughts and answer (thoughts are separated with <think>).\n",
      "- Do not misuse column names, keep them in quotes `\n",
      "- Carefully understand what colomns belond to what tables\n",
      "- Use only initial column names, change names prohibited\n",
      "        \n",
      "Output Format:\n",
      "In your answer, please enclose the generated SQL query in a code block:\n",
      "```\n",
      "```    \n",
      "and nothing else, no exaplains, no comments (asnwer should be less than 512 characters)\n",
      "\n",
      "Take a deep breath and think step by step to find the correct SQL query in SQLite format.\n",
      "\n",
      "Question repetition: How many singers do we have?\n",
      "\n",
      "Be care! Include only what i want it questiona and nothing else<|im_end|>\n",
      "<|im_start|>assistant\n",
      "\n",
      "\n",
      "\n",
      "Максимальное количество токенов в промптах: 1824\n",
      "\n",
      "начинаем скорринг\n",
      "Загружаем чаты с данными...\n",
      "Данные успешно загружены\n",
      "Начали генерацию SQL запросов\n"
     ]
    },
    {
     "name": "stderr",
     "output_type": "stream",
     "text": [
      "Processed prompts: 100%|██████████| 1076/1076 [02:12<00:00,  8.13it/s, est. speed input: 8559.96 toks/s, output: 5043.75 toks/s] "
     ]
    },
    {
     "name": "stdout",
     "output_type": "stream",
     "text": [
      "extract_think количество ошибок:  0\n",
      "extract_sql количество ошибок:  0\n",
      "Закончили генерацию SQL запросов\n",
      "Начали скорр полученных SQL запросов\n"
     ]
    },
    {
     "name": "stderr",
     "output_type": "stream",
     "text": [
      "\n"
     ]
    },
    {
     "name": "stdout",
     "output_type": "stream",
     "text": [
      "Qwen3-30b-moe DEV Финальный результат EX: 77.04\n",
      "Qwen3-30b-moe процент запросов, которые успешно выполнились DEV: 98.88%\n",
      "====================================================================================================\n",
      "\n",
      "\n",
      "Загружаем чаты с данными...\n",
      "Данные успешно загружены\n",
      "Начали генерацию SQL запросов\n"
     ]
    },
    {
     "name": "stderr",
     "output_type": "stream",
     "text": [
      "Processed prompts: 100%|██████████| 1076/1076 [02:33<00:00,  7.01it/s, est. speed input: 7378.48 toks/s, output: 4475.72 toks/s] "
     ]
    },
    {
     "name": "stdout",
     "output_type": "stream",
     "text": [
      "extract_think количество ошибок:  0\n",
      "extract_sql количество ошибок:  0\n",
      "Закончили генерацию SQL запросов\n",
      "Начали скорр полученных SQL запросов\n"
     ]
    },
    {
     "name": "stderr",
     "output_type": "stream",
     "text": [
      "\n"
     ]
    },
    {
     "name": "stdout",
     "output_type": "stream",
     "text": [
      "Qwen3-30b-moe DEV Финальный результат EX: 75.93\n",
      "Qwen3-30b-moe процент запросов, которые успешно выполнились DEV: 98.79%\n",
      "====================================================================================================\n",
      "\n",
      "\n",
      "Загружаем чаты с данными...\n",
      "Данные успешно загружены\n",
      "Начали генерацию SQL запросов\n"
     ]
    },
    {
     "name": "stderr",
     "output_type": "stream",
     "text": [
      "Processed prompts: 100%|██████████| 1076/1076 [02:20<00:00,  7.67it/s, est. speed input: 8075.09 toks/s, output: 4923.52 toks/s] "
     ]
    },
    {
     "name": "stdout",
     "output_type": "stream",
     "text": [
      "extract_think количество ошибок:  0\n",
      "extract_sql количество ошибок:  0\n",
      "Закончили генерацию SQL запросов\n",
      "Начали скорр полученных SQL запросов\n"
     ]
    },
    {
     "name": "stderr",
     "output_type": "stream",
     "text": [
      "\n"
     ]
    },
    {
     "name": "stdout",
     "output_type": "stream",
     "text": [
      "Qwen3-30b-moe DEV Финальный результат EX: 76.30\n",
      "Qwen3-30b-moe процент запросов, которые успешно выполнились DEV: 98.79%\n",
      "====================================================================================================\n",
      "\n",
      "\n",
      "Загружаем чаты с данными...\n",
      "Данные успешно загружены\n",
      "Начали генерацию SQL запросов\n"
     ]
    },
    {
     "name": "stderr",
     "output_type": "stream",
     "text": [
      "Processed prompts: 100%|██████████| 1076/1076 [01:58<00:00,  9.08it/s, est. speed input: 9562.02 toks/s, output: 5597.38 toks/s] "
     ]
    },
    {
     "name": "stdout",
     "output_type": "stream",
     "text": [
      "extract_think количество ошибок:  0\n",
      "extract_sql количество ошибок:  0\n",
      "Закончили генерацию SQL запросов\n",
      "Начали скорр полученных SQL запросов\n"
     ]
    },
    {
     "name": "stderr",
     "output_type": "stream",
     "text": [
      "\n"
     ]
    },
    {
     "name": "stdout",
     "output_type": "stream",
     "text": [
      "Qwen3-30b-moe DEV Финальный результат EX: 76.02\n",
      "Qwen3-30b-moe процент запросов, которые успешно выполнились DEV: 98.51%\n",
      "====================================================================================================\n",
      "\n",
      "\n",
      "Загружаем чаты с данными...\n",
      "Данные успешно загружены\n",
      "Начали генерацию SQL запросов\n"
     ]
    },
    {
     "name": "stderr",
     "output_type": "stream",
     "text": [
      "Processed prompts: 100%|██████████| 1076/1076 [02:15<00:00,  7.92it/s, est. speed input: 8336.12 toks/s, output: 5079.33 toks/s] "
     ]
    },
    {
     "name": "stdout",
     "output_type": "stream",
     "text": [
      "extract_think количество ошибок:  0\n",
      "extract_sql количество ошибок:  0\n",
      "Закончили генерацию SQL запросов\n",
      "Начали скорр полученных SQL запросов\n"
     ]
    },
    {
     "name": "stderr",
     "output_type": "stream",
     "text": [
      "\n"
     ]
    },
    {
     "name": "stdout",
     "output_type": "stream",
     "text": [
      "Qwen3-30b-moe DEV Финальный результат EX: 76.49\n",
      "Qwen3-30b-moe процент запросов, которые успешно выполнились DEV: 98.79%\n",
      "====================================================================================================\n",
      "\n",
      "\n",
      "Загружаем чаты с данными...\n",
      "Данные успешно загружены\n",
      "Начали генерацию SQL запросов\n"
     ]
    },
    {
     "name": "stderr",
     "output_type": "stream",
     "text": [
      "Processed prompts: 100%|██████████| 1076/1076 [02:11<00:00,  8.18it/s, est. speed input: 8614.53 toks/s, output: 5118.92 toks/s] "
     ]
    },
    {
     "name": "stdout",
     "output_type": "stream",
     "text": [
      "extract_think количество ошибок:  0\n",
      "extract_sql количество ошибок:  0\n",
      "Закончили генерацию SQL запросов\n",
      "Начали скорр полученных SQL запросов\n"
     ]
    },
    {
     "name": "stderr",
     "output_type": "stream",
     "text": [
      "\n"
     ]
    },
    {
     "name": "stdout",
     "output_type": "stream",
     "text": [
      "Qwen3-30b-moe DEV Финальный результат EX: 77.60\n",
      "Qwen3-30b-moe процент запросов, которые успешно выполнились DEV: 99.07%\n",
      "====================================================================================================\n",
      "\n",
      "\n",
      "Загружаем чаты с данными...\n",
      "Данные успешно загружены\n",
      "Начали генерацию SQL запросов\n"
     ]
    },
    {
     "name": "stderr",
     "output_type": "stream",
     "text": [
      "Processed prompts: 100%|██████████| 1076/1076 [02:20<00:00,  7.63it/s, est. speed input: 8038.74 toks/s, output: 4914.21 toks/s] "
     ]
    },
    {
     "name": "stdout",
     "output_type": "stream",
     "text": [
      "extract_think количество ошибок:  0\n",
      "extract_sql количество ошибок:  0\n",
      "Закончили генерацию SQL запросов\n",
      "Начали скорр полученных SQL запросов\n"
     ]
    },
    {
     "name": "stderr",
     "output_type": "stream",
     "text": [
      "\n"
     ]
    },
    {
     "name": "stdout",
     "output_type": "stream",
     "text": [
      "Qwen3-30b-moe DEV Финальный результат EX: 75.84\n",
      "Qwen3-30b-moe процент запросов, которые успешно выполнились DEV: 98.33%\n",
      "====================================================================================================\n",
      "\n",
      "\n",
      "Загружаем чаты с данными...\n",
      "Данные успешно загружены\n",
      "Начали генерацию SQL запросов\n"
     ]
    },
    {
     "name": "stderr",
     "output_type": "stream",
     "text": [
      "Processed prompts: 100%|██████████| 1076/1076 [02:15<00:00,  7.92it/s, est. speed input: 8337.53 toks/s, output: 5195.12 toks/s] "
     ]
    },
    {
     "name": "stdout",
     "output_type": "stream",
     "text": [
      "extract_think количество ошибок:  0\n",
      "extract_sql количество ошибок:  0\n",
      "Закончили генерацию SQL запросов\n",
      "Начали скорр полученных SQL запросов\n"
     ]
    },
    {
     "name": "stderr",
     "output_type": "stream",
     "text": [
      "\n"
     ]
    },
    {
     "name": "stdout",
     "output_type": "stream",
     "text": [
      "Qwen3-30b-moe DEV Финальный результат EX: 76.30\n",
      "Qwen3-30b-moe процент запросов, которые успешно выполнились DEV: 98.61%\n",
      "====================================================================================================\n",
      "\n",
      "\n",
      "Загружаем чаты с данными...\n",
      "Данные успешно загружены\n",
      "Начали генерацию SQL запросов\n"
     ]
    },
    {
     "name": "stderr",
     "output_type": "stream",
     "text": [
      "Processed prompts: 100%|██████████| 1076/1076 [02:25<00:00,  7.42it/s, est. speed input: 7810.63 toks/s, output: 4794.50 toks/s] "
     ]
    },
    {
     "name": "stdout",
     "output_type": "stream",
     "text": [
      "extract_think количество ошибок:  0\n",
      "extract_sql количество ошибок:  0\n",
      "Закончили генерацию SQL запросов\n",
      "Начали скорр полученных SQL запросов\n"
     ]
    },
    {
     "name": "stderr",
     "output_type": "stream",
     "text": [
      "\n"
     ]
    },
    {
     "name": "stdout",
     "output_type": "stream",
     "text": [
      "Qwen3-30b-moe DEV Финальный результат EX: 75.65\n",
      "Qwen3-30b-moe процент запросов, которые успешно выполнились DEV: 98.61%\n",
      "====================================================================================================\n",
      "\n",
      "\n",
      "Загружаем чаты с данными...\n",
      "Данные успешно загружены\n",
      "Начали генерацию SQL запросов\n"
     ]
    },
    {
     "name": "stderr",
     "output_type": "stream",
     "text": [
      "Processed prompts: 100%|██████████| 1076/1076 [02:20<00:00,  7.64it/s, est. speed input: 8041.71 toks/s, output: 4757.22 toks/s] "
     ]
    },
    {
     "name": "stdout",
     "output_type": "stream",
     "text": [
      "extract_think количество ошибок:  0\n",
      "extract_sql количество ошибок:  0\n",
      "Закончили генерацию SQL запросов\n",
      "Начали скорр полученных SQL запросов\n"
     ]
    },
    {
     "name": "stderr",
     "output_type": "stream",
     "text": [
      "\n"
     ]
    },
    {
     "name": "stdout",
     "output_type": "stream",
     "text": [
      "Qwen3-30b-moe DEV Финальный результат EX: 76.95\n",
      "Qwen3-30b-moe процент запросов, которые успешно выполнились DEV: 98.42%\n",
      "====================================================================================================\n",
      "\n",
      "\n",
      "Загружаем чаты с данными...\n",
      "Данные успешно загружены\n",
      "Начали генерацию SQL запросов\n"
     ]
    },
    {
     "name": "stderr",
     "output_type": "stream",
     "text": [
      "Processed prompts: 100%|██████████| 1076/1076 [02:23<00:00,  7.49it/s, est. speed input: 7882.45 toks/s, output: 4764.10 toks/s] "
     ]
    },
    {
     "name": "stdout",
     "output_type": "stream",
     "text": [
      "extract_think количество ошибок:  0\n",
      "extract_sql количество ошибок:  0\n",
      "Закончили генерацию SQL запросов\n",
      "Начали скорр полученных SQL запросов\n"
     ]
    },
    {
     "name": "stderr",
     "output_type": "stream",
     "text": [
      "\n"
     ]
    },
    {
     "name": "stdout",
     "output_type": "stream",
     "text": [
      "Qwen3-30b-moe DEV Финальный результат EX: 76.21\n",
      "Qwen3-30b-moe процент запросов, которые успешно выполнились DEV: 98.61%\n",
      "====================================================================================================\n",
      "\n",
      "\n",
      "Загружаем чаты с данными...\n",
      "Данные успешно загружены\n",
      "Начали генерацию SQL запросов\n"
     ]
    },
    {
     "name": "stderr",
     "output_type": "stream",
     "text": [
      "Processed prompts: 100%|██████████| 1076/1076 [02:26<00:00,  7.36it/s, est. speed input: 7746.18 toks/s, output: 4727.41 toks/s] "
     ]
    },
    {
     "name": "stdout",
     "output_type": "stream",
     "text": [
      "extract_think количество ошибок:  0\n",
      "extract_sql количество ошибок:  0\n",
      "Закончили генерацию SQL запросов\n",
      "Начали скорр полученных SQL запросов\n"
     ]
    },
    {
     "name": "stderr",
     "output_type": "stream",
     "text": [
      "\n"
     ]
    },
    {
     "name": "stdout",
     "output_type": "stream",
     "text": [
      "Qwen3-30b-moe DEV Финальный результат EX: 76.49\n",
      "Qwen3-30b-moe процент запросов, которые успешно выполнились DEV: 99.07%\n",
      "====================================================================================================\n",
      "\n",
      "\n",
      "Загружаем чаты с данными...\n",
      "Данные успешно загружены\n",
      "Начали генерацию SQL запросов\n"
     ]
    },
    {
     "name": "stderr",
     "output_type": "stream",
     "text": [
      "Processed prompts: 100%|██████████| 1076/1076 [02:36<00:00,  6.86it/s, est. speed input: 7223.87 toks/s, output: 4454.13 toks/s] "
     ]
    },
    {
     "name": "stdout",
     "output_type": "stream",
     "text": [
      "extract_think количество ошибок:  0\n",
      "extract_sql количество ошибок:  0\n",
      "Закончили генерацию SQL запросов\n",
      "Начали скорр полученных SQL запросов\n"
     ]
    },
    {
     "name": "stderr",
     "output_type": "stream",
     "text": [
      "\n"
     ]
    },
    {
     "name": "stdout",
     "output_type": "stream",
     "text": [
      "Qwen3-30b-moe DEV Финальный результат EX: 76.49\n",
      "Qwen3-30b-moe процент запросов, которые успешно выполнились DEV: 98.88%\n",
      "====================================================================================================\n",
      "\n",
      "\n",
      "Загружаем чаты с данными...\n",
      "Данные успешно загружены\n",
      "Начали генерацию SQL запросов\n"
     ]
    },
    {
     "name": "stderr",
     "output_type": "stream",
     "text": [
      "Processed prompts: 100%|██████████| 1076/1076 [02:18<00:00,  7.75it/s, est. speed input: 8161.47 toks/s, output: 4936.65 toks/s] "
     ]
    },
    {
     "name": "stdout",
     "output_type": "stream",
     "text": [
      "extract_think количество ошибок:  0\n",
      "extract_sql количество ошибок:  0\n",
      "Закончили генерацию SQL запросов\n",
      "Начали скорр полученных SQL запросов\n"
     ]
    },
    {
     "name": "stderr",
     "output_type": "stream",
     "text": [
      "\n"
     ]
    },
    {
     "name": "stdout",
     "output_type": "stream",
     "text": [
      "Qwen3-30b-moe DEV Финальный результат EX: 76.02\n",
      "Qwen3-30b-moe процент запросов, которые успешно выполнились DEV: 98.88%\n",
      "====================================================================================================\n",
      "\n",
      "\n",
      "Загружаем чаты с данными...\n",
      "Данные успешно загружены\n",
      "Начали генерацию SQL запросов\n"
     ]
    },
    {
     "name": "stderr",
     "output_type": "stream",
     "text": [
      "Processed prompts: 100%|██████████| 1076/1076 [02:10<00:00,  8.25it/s, est. speed input: 8691.79 toks/s, output: 5110.84 toks/s] "
     ]
    },
    {
     "name": "stdout",
     "output_type": "stream",
     "text": [
      "extract_think количество ошибок:  0\n",
      "extract_sql количество ошибок:  0\n",
      "Закончили генерацию SQL запросов\n",
      "Начали скорр полученных SQL запросов\n"
     ]
    },
    {
     "name": "stderr",
     "output_type": "stream",
     "text": [
      "\n"
     ]
    },
    {
     "name": "stdout",
     "output_type": "stream",
     "text": [
      "Qwen3-30b-moe DEV Финальный результат EX: 76.39\n",
      "Qwen3-30b-moe процент запросов, которые успешно выполнились DEV: 98.14%\n",
      "====================================================================================================\n",
      "\n",
      "\n",
      "Загружаем чаты с данными...\n",
      "Данные успешно загружены\n",
      "Начали генерацию SQL запросов\n"
     ]
    },
    {
     "name": "stderr",
     "output_type": "stream",
     "text": [
      "Processed prompts: 100%|██████████| 1076/1076 [02:00<00:00,  8.90it/s, est. speed input: 9374.45 toks/s, output: 5597.41 toks/s] "
     ]
    },
    {
     "name": "stdout",
     "output_type": "stream",
     "text": [
      "extract_think количество ошибок:  0\n",
      "extract_sql количество ошибок:  0\n",
      "Закончили генерацию SQL запросов\n",
      "Начали скорр полученных SQL запросов\n"
     ]
    },
    {
     "name": "stderr",
     "output_type": "stream",
     "text": [
      "\n"
     ]
    },
    {
     "name": "stdout",
     "output_type": "stream",
     "text": [
      "Qwen3-30b-moe DEV Финальный результат EX: 75.65\n",
      "Qwen3-30b-moe процент запросов, которые успешно выполнились DEV: 98.51%\n",
      "====================================================================================================\n",
      "\n",
      "\n",
      "Загружаем чаты с данными...\n",
      "Данные успешно загружены\n",
      "Начали генерацию SQL запросов\n"
     ]
    },
    {
     "name": "stderr",
     "output_type": "stream",
     "text": [
      "Processed prompts: 100%|██████████| 1076/1076 [02:26<00:00,  7.34it/s, est. speed input: 7729.56 toks/s, output: 4672.23 toks/s] "
     ]
    },
    {
     "name": "stdout",
     "output_type": "stream",
     "text": [
      "extract_think количество ошибок:  0\n",
      "extract_sql количество ошибок:  0\n",
      "Закончили генерацию SQL запросов\n",
      "Начали скорр полученных SQL запросов\n"
     ]
    },
    {
     "name": "stderr",
     "output_type": "stream",
     "text": [
      "\n"
     ]
    },
    {
     "name": "stdout",
     "output_type": "stream",
     "text": [
      "Qwen3-30b-moe DEV Финальный результат EX: 76.86\n",
      "Qwen3-30b-moe процент запросов, которые успешно выполнились DEV: 99.26%\n",
      "====================================================================================================\n",
      "\n",
      "\n",
      "Загружаем чаты с данными...\n",
      "Данные успешно загружены\n",
      "Начали генерацию SQL запросов\n"
     ]
    },
    {
     "name": "stderr",
     "output_type": "stream",
     "text": [
      "Processed prompts: 100%|██████████| 1076/1076 [02:28<00:00,  7.23it/s, est. speed input: 7618.78 toks/s, output: 4596.25 toks/s] "
     ]
    },
    {
     "name": "stdout",
     "output_type": "stream",
     "text": [
      "extract_think количество ошибок:  0\n",
      "extract_sql количество ошибок:  0\n",
      "Закончили генерацию SQL запросов\n",
      "Начали скорр полученных SQL запросов\n"
     ]
    },
    {
     "name": "stderr",
     "output_type": "stream",
     "text": [
      "\n"
     ]
    },
    {
     "name": "stdout",
     "output_type": "stream",
     "text": [
      "Qwen3-30b-moe DEV Финальный результат EX: 75.56\n",
      "Qwen3-30b-moe процент запросов, которые успешно выполнились DEV: 98.42%\n",
      "====================================================================================================\n",
      "\n",
      "\n",
      "Загружаем чаты с данными...\n",
      "Данные успешно загружены\n",
      "Начали генерацию SQL запросов\n"
     ]
    },
    {
     "name": "stderr",
     "output_type": "stream",
     "text": [
      "Processed prompts: 100%|██████████| 1076/1076 [02:26<00:00,  7.35it/s, est. speed input: 7740.79 toks/s, output: 4685.08 toks/s] "
     ]
    },
    {
     "name": "stdout",
     "output_type": "stream",
     "text": [
      "extract_think количество ошибок:  0\n",
      "extract_sql количество ошибок:  0\n",
      "Закончили генерацию SQL запросов\n",
      "Начали скорр полученных SQL запросов\n"
     ]
    },
    {
     "name": "stderr",
     "output_type": "stream",
     "text": [
      "\n"
     ]
    },
    {
     "name": "stdout",
     "output_type": "stream",
     "text": [
      "Qwen3-30b-moe DEV Финальный результат EX: 76.02\n",
      "Qwen3-30b-moe процент запросов, которые успешно выполнились DEV: 98.33%\n",
      "====================================================================================================\n",
      "\n",
      "\n",
      "Загружаем чаты с данными...\n",
      "Данные успешно загружены\n",
      "Начали генерацию SQL запросов\n"
     ]
    },
    {
     "name": "stderr",
     "output_type": "stream",
     "text": [
      "Processed prompts: 100%|██████████| 1076/1076 [02:08<00:00,  8.38it/s, est. speed input: 8823.14 toks/s, output: 5293.93 toks/s] "
     ]
    },
    {
     "name": "stdout",
     "output_type": "stream",
     "text": [
      "extract_think количество ошибок:  0\n",
      "extract_sql количество ошибок:  0\n",
      "Закончили генерацию SQL запросов\n",
      "Начали скорр полученных SQL запросов\n"
     ]
    },
    {
     "name": "stderr",
     "output_type": "stream",
     "text": [
      "\n"
     ]
    },
    {
     "name": "stdout",
     "output_type": "stream",
     "text": [
      "Qwen3-30b-moe DEV Финальный результат EX: 77.32\n",
      "Qwen3-30b-moe процент запросов, которые успешно выполнились DEV: 98.70%\n",
      "====================================================================================================\n",
      "\n",
      "\n"
     ]
    }
   ],
   "source": [
    "run_think_experiment(model,arr_seeds,arr_versions)"
   ]
  },
  {
   "cell_type": "markdown",
   "id": "81c34c01-00c6-498b-b626-e0452ab4ddb6",
   "metadata": {},
   "source": [
    "## Выводим средний скорр think подхода"
   ]
  },
  {
   "cell_type": "code",
   "execution_count": 4,
   "id": "1e66fa7c-ddda-472d-93a3-2d563b0129df",
   "metadata": {},
   "outputs": [],
   "source": [
    "import pickle"
   ]
  },
  {
   "cell_type": "code",
   "execution_count": 5,
   "id": "ce529050-623f-4d4f-bfac-9ab5d43e2c4a",
   "metadata": {},
   "outputs": [],
   "source": [
    "def load_results(k):\n",
    "    with open(f\"/data/home/vkropoti/sql_llm_answers/spider_dev_m_schema/sql_results_{model}-reasoning-v{k}\", \"rb\") as fp:\n",
    "        results = np.array(pickle.load(fp))\n",
    "    return results"
   ]
  },
  {
   "cell_type": "code",
   "execution_count": 6,
   "id": "53838cd4-51fb-42d2-88c5-340999184bba",
   "metadata": {},
   "outputs": [],
   "source": [
    "def load_executed(k):\n",
    "    with open(f\"/data/home/vkropoti/sql_llm_answers/spider_dev_m_schema/sql_executed_{model}-reasoning-v{k}\", \"rb\") as fp:\n",
    "        executed = np.array(pickle.load(fp))\n",
    "    return executed"
   ]
  },
  {
   "cell_type": "code",
   "execution_count": 7,
   "id": "c4defcb9-0814-4f71-8080-a3e3c52317ac",
   "metadata": {},
   "outputs": [],
   "source": [
    "def get_think_results(name,n):\n",
    "    arr_mean_scores = []\n",
    "    arr_mean_executed = []\n",
    "    for i in range(n):\n",
    "        results, executed = load_results(i), load_executed(i)\n",
    "        arr_mean_scores.append(np.mean(results))\n",
    "        arr_mean_executed.append(np.mean(executed))\n",
    "        \n",
    "    print(f\"{name} DEV Финальный результат EX: {np.mean(np.array(arr_mean_scores)):.3f}, при std: {np.std(np.array(arr_mean_scores)):.3f}\")\n",
    "    print(f\"{name} процент запросов, которые успешно выполнились DEV: {np.mean(np.array(arr_mean_executed)):.3f}, при std: {np.std(np.array(arr_mean_executed)):.3f}\")\n",
    "    "
   ]
  },
  {
   "cell_type": "code",
   "execution_count": 8,
   "id": "9f57e1a5-7e57-4e87-9f42-e4a844087e40",
   "metadata": {},
   "outputs": [
    {
     "name": "stdout",
     "output_type": "stream",
     "text": [
      "Qwen3-30b-moe DEV Финальный результат EX: 0.764, при std: 0.006\n",
      "Qwen3-30b-moe процент запросов, которые успешно выполнились DEV: 0.987, при std: 0.003\n"
     ]
    }
   ],
   "source": [
    "# все 20\n",
    "get_think_results(model,20)"
   ]
  },
  {
   "cell_type": "code",
   "execution_count": null,
   "id": "25a146d4-bd27-4ef3-b729-5f524f668b3f",
   "metadata": {},
   "outputs": [],
   "source": []
  }
 ],
 "metadata": {
  "kernelspec": {
   "display_name": "vllm",
   "language": "python",
   "name": "vllm"
  },
  "language_info": {
   "codemirror_mode": {
    "name": "ipython",
    "version": 3
   },
   "file_extension": ".py",
   "mimetype": "text/x-python",
   "name": "python",
   "nbconvert_exporter": "python",
   "pygments_lexer": "ipython3",
   "version": "3.12.4"
  }
 },
 "nbformat": 4,
 "nbformat_minor": 5
}
