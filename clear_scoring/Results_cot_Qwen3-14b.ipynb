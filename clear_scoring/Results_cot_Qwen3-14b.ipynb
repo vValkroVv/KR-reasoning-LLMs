{
 "cells": [
  {
   "cell_type": "code",
   "execution_count": 1,
   "id": "9155ad82-bb8b-4bf7-aae9-a0f2cb6e7bd1",
   "metadata": {},
   "outputs": [],
   "source": [
    "import pickle\n",
    "import numpy as np\n",
    "import scipy.stats as stats\n",
    "import math\n",
    "import json"
   ]
  },
  {
   "cell_type": "code",
   "execution_count": 2,
   "id": "a0870895-3214-4b5b-8864-4183ce7df836",
   "metadata": {},
   "outputs": [],
   "source": [
    "model = \"Qwen3-14B\""
   ]
  },
  {
   "cell_type": "code",
   "execution_count": 3,
   "id": "c649a828-3236-4995-8a13-7b3e75325077",
   "metadata": {},
   "outputs": [],
   "source": [
    "with open(\"/data/home/vkropoti/sql_data/mini-dev-index\", \"rb\") as fp:   # Unpickling\n",
    "    mini_dev_index = np.array(pickle.load(fp))\n",
    "    \n",
    "def load_json():\n",
    "    with open('/home/vkropoti/vllm/dev.json', \"r\") as j:\n",
    "        contents = json.loads(j.read())\n",
    "    return contents\n",
    "\n",
    "def load_split():\n",
    "    data = load_json()\n",
    "    query_level = []\n",
    "    for k in mini_dev_index:\n",
    "        query_level.append(data[k]['difficulty'])\n",
    "    return np.array(query_level)"
   ]
  },
  {
   "cell_type": "code",
   "execution_count": 10,
   "id": "7a2036cc-0497-48e3-aede-58cd0e9e29ec",
   "metadata": {},
   "outputs": [],
   "source": [
    "split = load_split()"
   ]
  },
  {
   "cell_type": "code",
   "execution_count": 11,
   "id": "6794ee28-92f9-442f-9c1e-dc72a34f2408",
   "metadata": {},
   "outputs": [
    {
     "data": {
      "text/plain": [
       "np.float64(0.296)"
      ]
     },
     "execution_count": 11,
     "metadata": {},
     "output_type": "execute_result"
    }
   ],
   "source": [
    "np.mean(split=='simple')"
   ]
  },
  {
   "cell_type": "code",
   "execution_count": 12,
   "id": "ded4042a-0ef1-42b1-9edc-ee76e783ef2a",
   "metadata": {},
   "outputs": [
    {
     "data": {
      "text/plain": [
       "np.float64(0.5)"
      ]
     },
     "execution_count": 12,
     "metadata": {},
     "output_type": "execute_result"
    }
   ],
   "source": [
    "np.mean(split=='moderate')"
   ]
  },
  {
   "cell_type": "code",
   "execution_count": 13,
   "id": "c1e137c3-a1a1-4381-a086-3d01c170c219",
   "metadata": {},
   "outputs": [
    {
     "data": {
      "text/plain": [
       "np.float64(0.204)"
      ]
     },
     "execution_count": 13,
     "metadata": {},
     "output_type": "execute_result"
    }
   ],
   "source": [
    "np.mean(split=='challenging')"
   ]
  },
  {
   "cell_type": "code",
   "execution_count": 14,
   "id": "c87c0520-71e5-4fd6-9ee2-0be4c378377b",
   "metadata": {},
   "outputs": [],
   "source": [
    "def I_alpha(mean,n,std_dev,confidence = 0.95):\n",
    "    # Критическое значение t для 95% ДИ и 49 степеней свободы\n",
    "    t_value = stats.t.ppf((1 + confidence) / 2, df=n-1)\n",
    "    margin_of_error = t_value * (std_dev / math.sqrt(n))\n",
    "    \n",
    "    # Границы доверительного интервала\n",
    "    ci_lower = mean - margin_of_error\n",
    "    ci_upper = mean + margin_of_error\n",
    "    return ci_lower, ci_upper"
   ]
  },
  {
   "cell_type": "code",
   "execution_count": 15,
   "id": "6381dbae-5c83-4ca0-a1ac-0e355ea3fe58",
   "metadata": {},
   "outputs": [],
   "source": [
    "def load_results(k,nobs,cot_type,think=False):\n",
    "    # sql_results_Qwen3-8B-cot_all_new_think==False_nobs2-v0\n",
    "    # with open(f\"/data/home/vkropoti/sql_llm_answers/base_reasoning/sql_results_{model}-cot_{type_cot}_think=={use_think}-v{k}\", \"rb\") as fp:\n",
    "    with open(f\"/data/home/vkropoti/sql_llm_answers/base_reasoning/sql_results_Qwen3-14B-cot_{cot_type}_think=={think}_nobs{nobs}-v{k}\", \"rb\") as fp:\n",
    "        results = np.array(pickle.load(fp))\n",
    "    return results"
   ]
  },
  {
   "cell_type": "code",
   "execution_count": 16,
   "id": "0d66133b-dd71-4cb1-8799-1d60af0eb74c",
   "metadata": {},
   "outputs": [],
   "source": [
    "def load_executed(k,nobs,cot_type,think=False):\n",
    "    # /data/home/vkropoti/sql_llm_answers/base_reasoning/sql_executed_{model}-cot_{type_cot}_think=={use_think}-v{version}\n",
    "    with open(f\"/data/home/vkropoti/sql_llm_answers/base_reasoning/sql_executed_Qwen3-14B-cot_{cot_type}_think=={think}_nobs{nobs}-v{k}\", \"rb\") as fp:\n",
    "        executed = np.array(pickle.load(fp))\n",
    "    return executed"
   ]
  },
  {
   "cell_type": "code",
   "execution_count": 17,
   "id": "48c0d2b0-b844-4882-8122-fd2d33dc91c8",
   "metadata": {},
   "outputs": [],
   "source": [
    "def get_think_results(n,nobs=2,cot_type='all_new',think=False):\n",
    "    \n",
    "    arr_mean_scores = []\n",
    "    arr_mean_executed = []\n",
    "    d_split = {\"simple\":[], \"moderate\":[], \"challenging\":[]}\n",
    "    for i in range(n):\n",
    "        result, executed = load_results(i,nobs,cot_type,think), load_executed(i,nobs,cot_type,think)\n",
    "        arr_mean_scores.append(np.mean(result))\n",
    "        arr_mean_executed.append(np.mean(executed))\n",
    "        d_split['simple'].append(np.mean(result[split=='simple']))\n",
    "        d_split['moderate'].append(np.mean(result[split=='moderate']))\n",
    "        d_split['challenging'].append(np.mean(result[split=='challenging']))\n",
    "        \n",
    "    if cot_type=='all_new':\n",
    "        add = \"данные о размышлениях + финальный ответ\"\n",
    "    elif cot_type=='think':\n",
    "        add = \"только данные о размышлениях\"\n",
    "    elif cot_type=='predict':\n",
    "        add = \"только данные о финальных ответах\"\n",
    "\n",
    "    ci_lower, ci_upper = I_alpha(np.mean(np.array(arr_mean_scores)),n,np.std(np.array(arr_mean_scores)))\n",
    "    print(f\"Модель основывает ответ по {nobs} выводам других моделей, которые включают {add}\")\n",
    "    print(f\"Результаты получены прогоном {n} симуляций с разными seed\")\n",
    "    print(f\"{model} Mini DEV Финальный результат EX: {np.mean(np.array(arr_mean_scores)):.5f}, при std: {np.std(np.array(arr_mean_scores)):.4f}\")\n",
    "    print(f\"95% доверительный интервал: ({ci_lower:.5f},{ci_upper:.5f})\")\n",
    "    for type_ in d_split:\n",
    "        print(f\"{type_}: {np.mean(np.array(d_split[type_])):.5f}\")\n",
    "    # print(f\"{model} процент запросов, которые успешно выполнились Mini DEV: {np.mean(np.array(arr_mean_executed)):.4f}, при std: {np.std(np.array(arr_mean_executed)):.4f}\")\n",
    "    "
   ]
  },
  {
   "cell_type": "markdown",
   "id": "add55efb-64df-451c-ae00-2a99e59103ec",
   "metadata": {},
   "source": [
    "## Использование reasoning+ответ"
   ]
  },
  {
   "cell_type": "code",
   "execution_count": 20,
   "id": "2b59c3e0-c15c-400e-9891-48565845a050",
   "metadata": {},
   "outputs": [
    {
     "name": "stdout",
     "output_type": "stream",
     "text": [
      "Модель основывает ответ по 2 выводам других моделей, которые включают данные о размышлениях + финальный ответ\n",
      "Результаты получены прогоном 20 симуляций с разными seed\n",
      "Qwen3-14B Mini DEV Финальный результат EX: 0.54210, при std: 0.0129\n",
      "95% доверительный интервал: (0.53607,0.54813)\n",
      "simple: 0.67635\n",
      "moderate: 0.52380\n",
      "challenging: 0.39216\n"
     ]
    }
   ],
   "source": [
    "get_think_results(20,nobs=2,cot_type='all_new')"
   ]
  },
  {
   "cell_type": "code",
   "execution_count": 22,
   "id": "f3f6a679-2c13-400b-a9d1-2255b20c5416",
   "metadata": {},
   "outputs": [
    {
     "name": "stdout",
     "output_type": "stream",
     "text": [
      "Модель основывает ответ по 3 выводам других моделей, которые включают данные о размышлениях + финальный ответ\n",
      "Результаты получены прогоном 20 симуляций с разными seed\n",
      "Qwen3-14B Mini DEV Финальный результат EX: 0.54480, при std: 0.0093\n",
      "95% доверительный интервал: (0.54043,0.54917)\n",
      "simple: 0.67872\n",
      "moderate: 0.52620\n",
      "challenging: 0.39608\n"
     ]
    }
   ],
   "source": [
    "get_think_results(20,nobs=3,cot_type='all_new')"
   ]
  },
  {
   "cell_type": "code",
   "execution_count": 24,
   "id": "5864a0a7-7af4-4919-9ffd-5c328492b61c",
   "metadata": {},
   "outputs": [
    {
     "name": "stdout",
     "output_type": "stream",
     "text": [
      "Модель основывает ответ по 4 выводам других моделей, которые включают данные о размышлениях + финальный ответ\n",
      "Результаты получены прогоном 20 симуляций с разными seed\n",
      "Qwen3-14B Mini DEV Финальный результат EX: 0.54700, при std: 0.0091\n",
      "95% доверительный интервал: (0.54274,0.55126)\n",
      "simple: 0.67703\n",
      "moderate: 0.53080\n",
      "challenging: 0.39804\n"
     ]
    }
   ],
   "source": [
    "get_think_results(20,nobs=4,cot_type='all_new')"
   ]
  },
  {
   "cell_type": "code",
   "execution_count": 27,
   "id": "69158517-b2e3-48a9-896f-126faa32c4f7",
   "metadata": {},
   "outputs": [
    {
     "name": "stdout",
     "output_type": "stream",
     "text": [
      "Модель основывает ответ по 5 выводам других моделей, которые включают данные о размышлениях + финальный ответ\n",
      "Результаты получены прогоном 20 симуляций с разными seed\n",
      "Qwen3-14B Mini DEV Финальный результат EX: 0.54990, при std: 0.0081\n",
      "95% доверительный интервал: (0.54612,0.55368)\n",
      "simple: 0.67973\n",
      "moderate: 0.53380\n",
      "challenging: 0.40098\n"
     ]
    }
   ],
   "source": [
    "get_think_results(20,nobs=5,cot_type='all_new')"
   ]
  },
  {
   "cell_type": "code",
   "execution_count": 29,
   "id": "98950f31-eef1-49de-add4-e6790c91d265",
   "metadata": {},
   "outputs": [
    {
     "name": "stdout",
     "output_type": "stream",
     "text": [
      "Модель основывает ответ по 6 выводам других моделей, которые включают данные о размышлениях + финальный ответ\n",
      "Результаты получены прогоном 20 симуляций с разными seed\n",
      "Qwen3-14B Mini DEV Финальный результат EX: 0.54920, при std: 0.0087\n",
      "95% доверительный интервал: (0.54513,0.55327)\n",
      "simple: 0.67804\n",
      "moderate: 0.53420\n",
      "challenging: 0.39902\n"
     ]
    }
   ],
   "source": [
    "get_think_results(20,nobs=6,cot_type='all_new')"
   ]
  },
  {
   "cell_type": "code",
   "execution_count": 30,
   "id": "817bd373-ffea-456a-9700-598eb132873b",
   "metadata": {},
   "outputs": [
    {
     "name": "stdout",
     "output_type": "stream",
     "text": [
      "Модель основывает ответ по 7 выводам других моделей, которые включают данные о размышлениях + финальный ответ\n",
      "Результаты получены прогоном 20 симуляций с разными seed\n",
      "Qwen3-14B Mini DEV Финальный результат EX: 0.54890, при std: 0.0087\n",
      "95% доверительный интервал: (0.54484,0.55296)\n",
      "simple: 0.67736\n",
      "moderate: 0.53500\n",
      "challenging: 0.39657\n"
     ]
    }
   ],
   "source": [
    "get_think_results(20,nobs=7,cot_type='all_new')"
   ]
  },
  {
   "cell_type": "markdown",
   "id": "bb74d30d-f688-46e8-a032-173fe324e18b",
   "metadata": {},
   "source": [
    "## Использование только ответ"
   ]
  },
  {
   "cell_type": "code",
   "execution_count": 23,
   "id": "2ed04ba9-5f90-4850-be00-fb5a6e358480",
   "metadata": {},
   "outputs": [
    {
     "name": "stdout",
     "output_type": "stream",
     "text": [
      "Модель основывает ответ по 2 выводам других моделей, которые включают только данные о финальных ответах\n",
      "Результаты получены прогоном 20 симуляций с разными seed\n",
      "Qwen3-14B Mini DEV Финальный результат EX: 0.53720, при std: 0.0114\n",
      "95% доверительный интервал: (0.53189,0.54251)\n",
      "simple: 0.67162\n",
      "moderate: 0.51740\n",
      "challenging: 0.39069\n"
     ]
    }
   ],
   "source": [
    "get_think_results(20,nobs=2,cot_type='predict')"
   ]
  },
  {
   "cell_type": "code",
   "execution_count": 25,
   "id": "67280012-c6c9-4cb1-91a5-ae8d1e1f922b",
   "metadata": {},
   "outputs": [
    {
     "name": "stdout",
     "output_type": "stream",
     "text": [
      "Модель основывает ответ по 3 выводам других моделей, которые включают только данные о финальных ответах\n",
      "Результаты получены прогоном 20 симуляций с разными seed\n",
      "Qwen3-14B Mini DEV Финальный результат EX: 0.54150, при std: 0.0124\n",
      "95% доверительный интервал: (0.53572,0.54728)\n",
      "simple: 0.67162\n",
      "moderate: 0.52320\n",
      "challenging: 0.39755\n"
     ]
    }
   ],
   "source": [
    "get_think_results(20,nobs=3,cot_type='predict')"
   ]
  },
  {
   "cell_type": "code",
   "execution_count": 26,
   "id": "44c5d757-798c-4d8e-a4c5-5103f80a7a90",
   "metadata": {},
   "outputs": [
    {
     "name": "stdout",
     "output_type": "stream",
     "text": [
      "Модель основывает ответ по 4 выводам других моделей, которые включают только данные о финальных ответах\n",
      "Результаты получены прогоном 20 симуляций с разными seed\n",
      "Qwen3-14B Mini DEV Финальный результат EX: 0.54310, при std: 0.0126\n",
      "95% доверительный интервал: (0.53719,0.54901)\n",
      "simple: 0.67027\n",
      "moderate: 0.52760\n",
      "challenging: 0.39657\n"
     ]
    }
   ],
   "source": [
    "get_think_results(20,nobs=4,cot_type='predict')"
   ]
  },
  {
   "cell_type": "code",
   "execution_count": 28,
   "id": "bac16ddb-9131-4970-b592-ac37835be50e",
   "metadata": {},
   "outputs": [
    {
     "name": "stdout",
     "output_type": "stream",
     "text": [
      "Модель основывает ответ по 5 выводам других моделей, которые включают только данные о финальных ответах\n",
      "Результаты получены прогоном 20 симуляций с разными seed\n",
      "Qwen3-14B Mini DEV Финальный результат EX: 0.54510, при std: 0.0098\n",
      "95% доверительный интервал: (0.54053,0.54967)\n",
      "simple: 0.67061\n",
      "moderate: 0.52880\n",
      "challenging: 0.40294\n"
     ]
    }
   ],
   "source": [
    "get_think_results(20,nobs=5,cot_type='predict')"
   ]
  },
  {
   "cell_type": "code",
   "execution_count": 32,
   "id": "d490736a-9111-4878-8848-cd7995fdc055",
   "metadata": {},
   "outputs": [
    {
     "name": "stdout",
     "output_type": "stream",
     "text": [
      "Модель основывает ответ по 6 выводам других моделей, которые включают только данные о финальных ответах\n",
      "Результаты получены прогоном 20 симуляций с разными seed\n",
      "Qwen3-14B Mini DEV Финальный результат EX: 0.54440, при std: 0.0107\n",
      "95% доверительный интервал: (0.53941,0.54939)\n",
      "simple: 0.66791\n",
      "moderate: 0.52960\n",
      "challenging: 0.40147\n"
     ]
    }
   ],
   "source": [
    "get_think_results(20,nobs=6,cot_type='predict')"
   ]
  },
  {
   "cell_type": "code",
   "execution_count": 34,
   "id": "8283201a-1659-4b8b-9c6e-7926742b2ef8",
   "metadata": {},
   "outputs": [
    {
     "name": "stdout",
     "output_type": "stream",
     "text": [
      "Модель основывает ответ по 7 выводам других моделей, которые включают только данные о финальных ответах\n",
      "Результаты получены прогоном 20 симуляций с разными seed\n",
      "Qwen3-14B Mini DEV Финальный результат EX: 0.54460, при std: 0.0104\n",
      "95% доверительный интервал: (0.53974,0.54946)\n",
      "simple: 0.67230\n",
      "moderate: 0.52780\n",
      "challenging: 0.40049\n"
     ]
    }
   ],
   "source": [
    "get_think_results(20,nobs=7,cot_type='predict')"
   ]
  },
  {
   "cell_type": "markdown",
   "id": "e00cbaf6-bb7e-46b9-b547-6c17ea940711",
   "metadata": {},
   "source": [
    "## Использование только размышлений"
   ]
  },
  {
   "cell_type": "code",
   "execution_count": 35,
   "id": "f3842525-cfa9-4697-add0-d82777a88505",
   "metadata": {},
   "outputs": [],
   "source": [
    "# get_think_results(50,nobs=2,cot_type='think')"
   ]
  },
  {
   "cell_type": "code",
   "execution_count": 36,
   "id": "0b7110c5-e034-47f2-93f1-ca5ec48a6359",
   "metadata": {},
   "outputs": [],
   "source": [
    "# get_think_results(50,nobs=3,cot_type='think')"
   ]
  },
  {
   "cell_type": "code",
   "execution_count": 37,
   "id": "ad72cdb3-71b6-43a9-a904-cce2c68881aa",
   "metadata": {},
   "outputs": [],
   "source": [
    "# get_think_results(50,nobs=4,cot_type='think')"
   ]
  },
  {
   "cell_type": "code",
   "execution_count": 38,
   "id": "9f1d02e4-89fd-462d-960d-4e9f2b048045",
   "metadata": {},
   "outputs": [],
   "source": [
    "# get_think_results(50,nobs=5,cot_type='think')"
   ]
  },
  {
   "cell_type": "markdown",
   "id": "78ba3574-eaa2-4752-895e-87fab4f7b623",
   "metadata": {},
   "source": [
    "## Использование reasoning+ответ + reasning above"
   ]
  },
  {
   "cell_type": "code",
   "execution_count": 39,
   "id": "50085f02-056b-4999-9f59-48920481111d",
   "metadata": {},
   "outputs": [],
   "source": [
    "# get_think_results(50,nobs=2,cot_type='all_new',think=True)"
   ]
  },
  {
   "cell_type": "code",
   "execution_count": 40,
   "id": "faa22699-f08a-4101-a85f-1770e3da5153",
   "metadata": {},
   "outputs": [],
   "source": [
    "# get_think_results(50,nobs=3,cot_type='all_new',think=True)"
   ]
  },
  {
   "cell_type": "markdown",
   "id": "d9b374fc-b64d-4425-876f-4dca69e42293",
   "metadata": {},
   "source": [
    "## Использование ответ + reasning above"
   ]
  },
  {
   "cell_type": "code",
   "execution_count": 41,
   "id": "cf8c99cd-bb45-4482-a56d-959f5bf1a845",
   "metadata": {},
   "outputs": [],
   "source": [
    "# get_think_results(50,nobs=2,cot_type='predict',think=True)"
   ]
  },
  {
   "cell_type": "code",
   "execution_count": 42,
   "id": "9034d820-abd9-4177-bb26-7b8daffe36e6",
   "metadata": {},
   "outputs": [],
   "source": [
    "# get_think_results(50,nobs=3,cot_type='predict',think=True)"
   ]
  },
  {
   "cell_type": "code",
   "execution_count": 44,
   "id": "34a4a951-aa0f-490c-a6cf-4217205a13a3",
   "metadata": {},
   "outputs": [
    {
     "data": {
      "image/png": "[encoded data removed]",
      "text/plain": [
       "<Figure size 1000x600 with 1 Axes>"
      ]
     },
     "metadata": {},
     "output_type": "display_data"
    }
   ],
   "source": [
    "import matplotlib.pyplot as plt\n",
    "import numpy as np\n",
    "\n",
    "# Данные\n",
    "nobs = [2, 3, 4, 5, 6, 7]\n",
    "scores = [0.54210, 0.54480, 0.54700, 0.54990, 0.54920, 0.54890]          # reasoning+answer\n",
    "scores_predict = [0.53720, 0.54150, 0.54310, 0.54510, 0.54440, 0.54460]  # answer\n",
    "scores_think = [0.53544, 0.53816, 0.53884, 0.53912]   # reasoning\n",
    "base_think = [0.527]*6\n",
    "# Создание графика\n",
    "plt.figure(figsize=(10, 6))\n",
    "plt.plot(nobs, scores, marker='o', label='reasoning+answer', color='tab:blue')\n",
    "plt.plot(nobs, scores_predict, marker='s', label='answer', color='tab:orange')\n",
    "# plt.plot(nobs[0:4], scores_think, marker='^', label='reasoning', color='tab:green')\n",
    "plt.plot(nobs, base_think, label='base reasoning', color='tab:red')\n",
    "\n",
    "# Настройки\n",
    "plt.title('Сравнение методов агрегации ответов Qwen3-14b', fontsize=14)\n",
    "plt.xlabel('Количество наблюдений в помощь (nobs)', fontsize=12)\n",
    "plt.ylabel('Средний EX-скор', fontsize=12)\n",
    "plt.xticks(nobs)\n",
    "plt.grid(True, linestyle='--', alpha=0.7)\n",
    "plt.legend(fontsize=12)\n",
    "plt.ylim(0.52, 0.56)  # Фиксируем диапазон для лучшего сравнения\n",
    "\n",
    "# Отображение\n",
    "plt.tight_layout()\n",
    "plt.show()"
   ]
  },
  {
   "cell_type": "code",
   "execution_count": null,
   "id": "00a83c3d-69b4-4920-939f-8a319cf790e3",
   "metadata": {},
   "outputs": [],
   "source": []
  }
 ],
 "metadata": {
  "kernelspec": {
   "display_name": "vllm",
   "language": "python",
   "name": "vllm"
  },
  "language_info": {
   "codemirror_mode": {
    "name": "ipython",
    "version": 3
   },
   "file_extension": ".py",
   "mimetype": "text/x-python",
   "name": "python",
   "nbconvert_exporter": "python",
   "pygments_lexer": "ipython3",
   "version": "3.12.4"
  }
 },
 "nbformat": 4,
 "nbformat_minor": 5
}
