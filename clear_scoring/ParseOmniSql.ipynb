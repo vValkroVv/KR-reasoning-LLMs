{
 "cells": [
  {
   "cell_type": "code",
   "execution_count": 1,
   "id": "ccde0c3d-324c-413d-9f23-ea32bb979259",
   "metadata": {},
   "outputs": [],
   "source": [
    "import sqlite3\n",
    "import numpy as np\n",
    "import time\n",
    "import pickle\n",
    "import json\n",
    "from func_timeout import func_timeout, FunctionTimedOut\n",
    "from concurrent.futures import ProcessPoolExecutor, as_completed\n",
    "import matplotlib.pyplot as plt\n",
    "\n",
    "import warnings\n",
    "warnings.filterwarnings(\"ignore\")\n",
    "\n",
    "with open(\"/data/home/vkropoti/sql_data/mini-dev-index\", \"rb\") as fp:   # Unpickling\n",
    "    mini_dev_index = np.array(pickle.load(fp))\n",
    "\n",
    "def load_json(dir):\n",
    "    with open(dir, \"r\") as j:\n",
    "        contents = json.loads(j.read())\n",
    "    return contents\n",
    "    \n",
    "def generate_bd_list(path_dev_json):\n",
    "\n",
    "\n",
    "    data = load_json(path_dev_json)\n",
    "    bd_list = []\n",
    "    for k in range(len(data)):\n",
    "    # for k in mini_dev_index:\n",
    "        db = data[k]['db_id']\n",
    "        bd_list.append(db)\n",
    "\n",
    "    return  bd_list\n",
    "\n",
    "def generate_sql_gt_list(path_dev_json):\n",
    "\n",
    "    data = load_json(path_dev_json)\n",
    "    sql_gt_list = []\n",
    "    for k in range(len(data)):\n",
    "    # for k in mini_dev_index:\n",
    "        gt_sql = data[k]['SQL']\n",
    "        sql_gt_list.append(gt_sql)\n",
    "\n",
    "    return  sql_gt_list\n",
    "    \n",
    "def calculate_ex(predicted_res, ground_truth_res):\n",
    "    res = 0\n",
    "    if set(predicted_res) == set(ground_truth_res):\n",
    "        res = 1\n",
    "    return res\n",
    "\n",
    "def sql_worker(args):\n",
    "    i, path_sql_dbs, db, sql_gt, sql_predict = args\n",
    "    if len(sql_predict) > 512:\n",
    "        return i, 0, 0\n",
    "    \n",
    "    try:\n",
    "        \n",
    "        def execute_query(path_sql_dbs,db,sql_predict,sql_gt):\n",
    "            conn = sqlite3.connect(f'{path_sql_dbs}/{db}/{db}.sqlite')\n",
    "            cursor = conn.cursor()\n",
    "            with conn:\n",
    "                cursor.execute(sql_predict)\n",
    "                pred = cursor.fetchall()\n",
    "                \n",
    "                cursor.execute(sql_gt)\n",
    "                real = cursor.fetchall()\n",
    "            cursor.close()\n",
    "            conn.close()\n",
    "            return pred, real\n",
    "\n",
    "        \n",
    "        results_pred, results_gt = func_timeout(5, execute_query, args=(path_sql_dbs, db, sql_gt, sql_predict,))\n",
    "        # results_gt = func_timeout(5, execute_query, args=(sql_gt,))\n",
    "        \n",
    "        \n",
    "        return i, calculate_ex(results_pred, results_gt), 1\n",
    "    \n",
    "    except (FunctionTimedOut, Exception) as e:\n",
    "        # print(e)\n",
    "        return i, 0, 0\n",
    "\n",
    "def calculate_ex_values(path_sql_dbs, bd_list, sql_gt_list, sql_predict):\n",
    "    result = [0] * len(bd_list)\n",
    "    executed = [0] * len(bd_list)\n",
    "    \n",
    "    with ProcessPoolExecutor() as executor:\n",
    "        futures = [\n",
    "            executor.submit(\n",
    "                sql_worker,\n",
    "                (i, path_sql_dbs, db, sql_gt_list[i], sql_predict[i])\n",
    "            )\n",
    "            for i, db in enumerate(bd_list)\n",
    "            if len(sql_predict[i]) <= 512\n",
    "        ]\n",
    "        \n",
    "        for future in as_completed(futures):\n",
    "            try:\n",
    "                i, ex_val, exec_flag = future.result(timeout=10)\n",
    "                result[i] = ex_val\n",
    "                executed[i] = exec_flag\n",
    "            except Exception as e:\n",
    "                continue\n",
    "    \n",
    "    return result, executed\n",
    "    \n",
    "def print_and_save(name, path_sql_dbs, bd_list, sql_gt_list, sql_predict, path_to_save_scores=None, path_to_save_executed=None):\n",
    "    result, executed = calculate_ex_values(path_sql_dbs, bd_list, sql_gt_list, sql_predict)\n",
    "\n",
    "    print(f\"{name} DEV Финальный результат EX: {np.mean(result)*100:.2f}\")\n",
    "    print(f\"{name} процент запросов, которые успешно выполнились DEV: {np.mean(executed)*100:.2f}%\")\n",
    "    return result, executed"
   ]
  },
  {
   "cell_type": "code",
   "execution_count": 2,
   "id": "d7fbb65e-7961-4904-9c01-f8c16f72cdca",
   "metadata": {},
   "outputs": [],
   "source": [
    "path_dev_json = '/home/vkropoti/vllm/dev.json'\n",
    "# '/data/home/vkropoti/sql_data/dev_spider.json'\n",
    "# '/home/vkropoti/vllm/dev.json'\n",
    "path_sql_dbs = '/data/home/vkropoti/sql_data/dev_databases/'\n",
    "# '/data/home/vkropoti/sql_data/data_bases_spider/'\n",
    "# '/data/home/vkropoti/sql_data/dev_databases/'\n",
    "bd_list = generate_bd_list(path_dev_json)\n",
    "sql_gt_list = generate_sql_gt_list(path_dev_json)"
   ]
  },
  {
   "cell_type": "code",
   "execution_count": 3,
   "id": "93b15816-108e-494f-8fae-1cfce09d8ac3",
   "metadata": {
    "scrolled": true
   },
   "outputs": [],
   "source": [
    "# sql_gt_list"
   ]
  },
  {
   "cell_type": "code",
   "execution_count": 4,
   "id": "228aef7d-6d9e-452f-9f51-adbd43cca569",
   "metadata": {
    "scrolled": true
   },
   "outputs": [],
   "source": [
    "# bd_list"
   ]
  },
  {
   "cell_type": "code",
   "execution_count": 53,
   "id": "a4d56113-11d0-4af7-9f79-c9e3531ac0ed",
   "metadata": {},
   "outputs": [],
   "source": [
    "model = \"seeklhy:OmniSQL-7B\"\n",
    "# \"DeepCoder-14B-Preview\"\n",
    "# \"Qwen3-14B\"\n",
    "# model_add = \"MiMo-7B-RL\"\n",
    "# type_cot =  'all_new'\n",
    "version = 2\n",
    "path = f\"/data/home/vkropoti/sql_llm_answers/bird_dev_m_schema/sql_all_{model}-reasoning-v{version}\""
   ]
  },
  {
   "cell_type": "code",
   "execution_count": 54,
   "id": "b4d386e4-b230-495d-873f-1b32789c77be",
   "metadata": {},
   "outputs": [],
   "source": [
    "with open(path, \"rb\") as fp:   # Unpickling\n",
    "    sql_predict = np.array(pickle.load(fp))"
   ]
  },
  {
   "cell_type": "code",
   "execution_count": 55,
   "id": "f6852a3d-0932-4757-952b-afb4eb1ebcd7",
   "metadata": {},
   "outputs": [
    {
     "name": "stdout",
     "output_type": "stream",
     "text": [
      "To solve this problem, we need to determine the highest eligible free rate for K-12 students in the schools located in Alameda County. The eligible free rate for K-12 is calculated as the `Free Meal Count (K-12)` divided by the `Enrollment (K-12)`. Here is the step-by-step approach to construct the SQL query:\n",
      "\n",
      "1. **Identify the relevant table**: The `frpm` table contains the necessary fields to calculate the eligible free rate for K-12 students.\n",
      "2. **Filter by County**: We need to select only the records where the `County Name` is 'Alameda'.\n",
      "3. **Calculate the eligible free rate**: This is done by dividing `Free Meal Count (K-12)` by `Enrollment (K-12)`.\n",
      "4. **Find the highest eligible free rate**: We need to use the `MAX` function to get the highest eligible free rate.\n",
      "5. **Ensure the calculation is correct**: Make sure to avoid division by zero by checking that `Enrollment (K-12)` is not zero.\n",
      "\n",
      "Given these steps, the query can be simplified to avoid unnecessary joins and calculations. Here is the final query:\n",
      "\n",
      "```sql\n",
      "SELECT \n",
      "    MAX(free_meal_count / enrollment) AS highest_eligible_free_rate\n",
      "FROM \n",
      "    frpm\n",
      "WHERE \n",
      "    county_name = 'Alameda' \n",
      "    AND enrollment > 0;\n",
      "```\n",
      "\n",
      "This query directly selects the maximum eligible free rate from the `frpm` table for Alameda County and ensures that the `Enrollment (K-12)` is greater than zero to avoid division by zero errors.\n"
     ]
    }
   ],
   "source": [
    "print(sql_predict[0])"
   ]
  },
  {
   "cell_type": "code",
   "execution_count": 56,
   "id": "44f6ab46-6cb4-4c29-bbcf-e62c317e4bdb",
   "metadata": {
    "scrolled": true
   },
   "outputs": [
    {
     "name": "stdout",
     "output_type": "stream",
     "text": [
      "seeklhy:OmniSQL-7B DEV Финальный результат EX: 0.00\n",
      "seeklhy:OmniSQL-7B процент запросов, которые успешно выполнились DEV: 0.00%\n"
     ]
    }
   ],
   "source": [
    "_,_ = print_and_save(model,path_sql_dbs,bd_list,sql_gt_list,sql_predict)"
   ]
  },
  {
   "cell_type": "code",
   "execution_count": 57,
   "id": "efc6f04b-4f93-4099-999d-36fee65e0c69",
   "metadata": {},
   "outputs": [],
   "source": [
    "def parse_sql(x):\n",
    "    try:\n",
    "        answer = x.split('```')[1].strip()\n",
    "        if len(answer)==0:\n",
    "            answer = x.split('```')[2].strip()\n",
    "    except:\n",
    "        answer = x\n",
    "    try:\n",
    "        if answer[0]=='s' and answer[1]=='q' and answer[2]=='l':\n",
    "            return answer[3:].strip()\n",
    "        else:\n",
    "            return answer\n",
    "    except:\n",
    "        print(answer)"
   ]
  },
  {
   "cell_type": "code",
   "execution_count": null,
   "id": "6eb159a8-106e-455c-9a8a-d98b0e83020a",
   "metadata": {},
   "outputs": [],
   "source": []
  },
  {
   "cell_type": "code",
   "execution_count": 58,
   "id": "5748de24-da76-4bba-aad7-52ecec1fd24c",
   "metadata": {},
   "outputs": [
    {
     "name": "stdout",
     "output_type": "stream",
     "text": [
      "CPU times: user 38.5 ms, sys: 83 μs, total: 38.5 ms\n",
      "Wall time: 38.4 ms\n"
     ]
    }
   ],
   "source": [
    "%%time\n",
    "parsed_arr = [parse_sql(x) for x in sql_predict]"
   ]
  },
  {
   "cell_type": "code",
   "execution_count": 59,
   "id": "e7fdb03c-9bf7-4b30-b906-9f38d4b2754c",
   "metadata": {},
   "outputs": [
    {
     "data": {
      "text/plain": [
       "\"SELECT\\n    s.sname AS SchoolName,\\n    AVG(ss.AvgScrWrite) AS AvgWritingScore,\\n    s.Phone AS CommunicationNumber\\nFROM\\n    schools s\\nJOIN\\n    satscores ss ON s.CDSCode = ss.cds\\nWHERE\\n    (STRFTIME('%Y', s.OpenDate) > '1991') OR (STRFTIME('%Y', s.ClosedDate) < '2000')\\nGROUP BY\\n    s.sname,\\n    s.Phone\\nORDER BY\\n    AvgWritingScore DESC;\""
      ]
     },
     "execution_count": 59,
     "metadata": {},
     "output_type": "execute_result"
    }
   ],
   "source": [
    "parsed_arr[27]"
   ]
  },
  {
   "cell_type": "code",
   "execution_count": 37,
   "id": "1e60be59-8ffb-4839-bfd0-b58bd2639832",
   "metadata": {},
   "outputs": [
    {
     "name": "stdout",
     "output_type": "stream",
     "text": [
      "seeklhy:OmniSQL-7B DEV Финальный результат EX: 53.52\n",
      "seeklhy:OmniSQL-7B процент запросов, которые успешно выполнились DEV: 91.26%\n"
     ]
    }
   ],
   "source": [
    "result1, executed = print_and_save(model,path_sql_dbs,bd_list,sql_gt_list,parsed_arr)"
   ]
  },
  {
   "cell_type": "code",
   "execution_count": 45,
   "id": "09599142-d08c-4828-b9cf-8898e26afc64",
   "metadata": {},
   "outputs": [
    {
     "name": "stdout",
     "output_type": "stream",
     "text": [
      "seeklhy:OmniSQL-7B DEV Финальный результат EX: 53.32\n",
      "seeklhy:OmniSQL-7B процент запросов, которые успешно выполнились DEV: 90.03%\n"
     ]
    }
   ],
   "source": [
    "result2, executed = print_and_save(model,path_sql_dbs,bd_list,sql_gt_list,parsed_arr)"
   ]
  },
  {
   "cell_type": "code",
   "execution_count": 60,
   "id": "5cd7b5da-e705-4c97-8252-09fa0d36a9dc",
   "metadata": {},
   "outputs": [
    {
     "name": "stdout",
     "output_type": "stream",
     "text": [
      "seeklhy:OmniSQL-7B DEV Финальный результат EX: 55.28\n",
      "seeklhy:OmniSQL-7B процент запросов, которые успешно выполнились DEV: 90.03%\n"
     ]
    }
   ],
   "source": [
    "result3, executed = print_and_save(model,path_sql_dbs,bd_list,sql_gt_list,parsed_arr)"
   ]
  },
  {
   "cell_type": "code",
   "execution_count": 61,
   "id": "af141b9e-2091-41b5-864a-70f68169bc0d",
   "metadata": {},
   "outputs": [
    {
     "data": {
      "text/plain": [
       "np.float64(0.6740547588005215)"
      ]
     },
     "execution_count": 61,
     "metadata": {},
     "output_type": "execute_result"
    }
   ],
   "source": [
    "np.mean(np.max([result1,result2,result3],axis=0))"
   ]
  },
  {
   "cell_type": "code",
   "execution_count": 36,
   "id": "0d6a4a37-edd6-4fbe-af0a-532165eaa599",
   "metadata": {},
   "outputs": [
    {
     "data": {
      "text/plain": [
       "0"
      ]
     },
     "execution_count": 36,
     "metadata": {},
     "output_type": "execute_result"
    }
   ],
   "source": [
    "result[27]"
   ]
  },
  {
   "cell_type": "code",
   "execution_count": 147,
   "id": "3c996ee1-d654-4253-9bd8-17d3cf398fc1",
   "metadata": {},
   "outputs": [
    {
     "name": "stdout",
     "output_type": "stream",
     "text": [
      "SELECT MAX(`Free Meal Count (K-12` / `Enrollment (K-12`) FROM frpm WHERE `County Name` = 'Alameda';\n"
     ]
    }
   ],
   "source": [
    "print(parsed_arr[0])"
   ]
  },
  {
   "cell_type": "code",
   "execution_count": 145,
   "id": "218f6841-468e-402b-8725-aee7f3934769",
   "metadata": {
    "scrolled": true
   },
   "outputs": [
    {
     "data": {
      "text/plain": [
       "[0, 0, 0, 1, 0, 1, 1, 1, 1, 1]"
      ]
     },
     "execution_count": 145,
     "metadata": {},
     "output_type": "execute_result"
    }
   ],
   "source": [
    "result[0:10]"
   ]
  },
  {
   "cell_type": "code",
   "execution_count": 155,
   "id": "f795c736-9383-442d-9f92-68736c0a6fdf",
   "metadata": {},
   "outputs": [
    {
     "name": "stdout",
     "output_type": "stream",
     "text": [
      "SELECT (\"Free Meal Count (Ages 5-17)\" / \"Enrollment (Ages 5-17)\") AS eligible_rate\n",
      "FROM frpm\n",
      "JOIN schools ON frpm.CDSCode = schools.CDSCode\n",
      "WHERE schools.GSserved = '9-12'\n",
      "ORDER BY eligible_rate ASC\n",
      "LIMIT 3;\n"
     ]
    }
   ],
   "source": [
    "print(parsed_arr[1])"
   ]
  },
  {
   "cell_type": "code",
   "execution_count": 301,
   "id": "b76b1e0a-5f35-4f28-8125-bd422a529da7",
   "metadata": {},
   "outputs": [
    {
     "data": {
      "text/plain": [
       "['SELECT schools.City, frpm.`Enrollment (K-12)` FROM frpm JOIN schools ON frpm.CDSCode = schools.CDSCode ORDER BY frpm.`Enrollment (K-12)` ASC LIMIT 5;',\n",
       " np.str_('SELECT (`Free Meal Count (K-12)` / `Enrollment (K-12)`) AS eligible_free_rate FROM frpm ORDER BY `Enrollment (K-12)` DESC LIMIT 2 OFFSET 9;'),\n",
       " \"SELECT schools.School, frpm.`FRPM Count (K-12)`, frpm.`Enrollment (K-12)`, \\n       (frpm.`FRPM Count (K-12)` / frpm.`Enrollment (K-12)` * 100) AS MealRate\\nFROM frpm\\nJOIN schools ON frpm.CDSCode = schools.CDSCode\\nWHERE schools.SOC = '66'\\nORDER BY frpm.`FRPM Count (K-12)` DESC\\nLIMIT 5;\",\n",
       " 'SELECT schools.Website, schools.School FROM schools\\nJOIN frpm ON schools.CDSCode = frpm.CDSCode\\nWHERE frpm.`Free Meal Count (Ages 5-17)` BETWEEN 1900 AND 2000;',\n",
       " \"SELECT ROUND(`Free Meal Count (Ages 5-17)` / `Enrollment (Ages 5-17)`, 2) AS FreeRate FROM frpm JOIN schools ON frpm.CDSCode = schools.CDSCode WHERE `AdmFName1` = 'Kacey' AND `AdmLName1` = 'Gibson';\",\n",
       " np.str_('SELECT schools.AdmEmail1 FROM schools\\nJOIN frpm ON schools.CDSCode = frpm.CDSCode\\nWHERE frpm.\"Charter School (Y/N)\" = 1\\nORDER BY frpm.\"Enrollment (K-12)\" ASC\\nLIMIT 1;'),\n",
       " np.str_('SELECT schools.AdmFName1, schools.AdmLName1, schools.AdmFName2, schools.AdmLName2, schools.AdmFName3, schools.AdmLName3\\nFROM schools\\nWHERE schools.CDSCode = (\\n    SELECT cds\\n    FROM satscores\\n    GROUP BY cds\\n    ORDER BY SUM(NumGE1500) DESC\\n    LIMIT 1\\n);'),\n",
       " 'SELECT schools.Street, schools.City, schools.Zip, schools.State FROM satscores JOIN schools ON satscores.cds = schools.CDSCode WHERE (satscores.NumGE1500 / satscores.NumTstTakr) = (SELECT MIN(NumGE1500 / NumTstTakr) FROM satscores);',\n",
       " \"SELECT schools.Website FROM schools INNER JOIN satscores ON schools.CDSCode = satscores.cds WHERE schools.County = 'Los Angeles' AND satscores.rtype = 'S' AND satscores.NumTstTakr BETWEEN 2000 AND 3000;\",\n",
       " \"SELECT AVG(NumTstTakr) \\nFROM satscores \\nJOIN schools USING (cds) \\nWHERE cname = 'Fresno' \\n  AND OpenDate BETWEEN '1980-01-01' AND '1980-12-31';\"]"
      ]
     },
     "execution_count": 301,
     "metadata": {},
     "output_type": "execute_result"
    }
   ],
   "source": [
    "parsed_arr[30:40]"
   ]
  },
  {
   "cell_type": "code",
   "execution_count": 165,
   "id": "b72274dd-c326-4305-8792-9e8e0c3b3937",
   "metadata": {},
   "outputs": [],
   "source": [
    "data = load_json(path_dev_json)"
   ]
  },
  {
   "cell_type": "code",
   "execution_count": 166,
   "id": "9db49c8d-1a98-4d39-a705-45abe33319ca",
   "metadata": {},
   "outputs": [],
   "source": [
    "k=1"
   ]
  },
  {
   "cell_type": "code",
   "execution_count": 167,
   "id": "37f48bd1-94b0-4800-b349-665da7bbbd2f",
   "metadata": {},
   "outputs": [
    {
     "data": {
      "text/plain": [
       "{'question_id': 1,\n",
       " 'db_id': 'california_schools',\n",
       " 'question': 'Please list the lowest three eligible free rates for students aged 5-17 in continuation schools.',\n",
       " 'evidence': 'Eligible free rates for students aged 5-17 = `Free Meal Count (Ages 5-17)` / `Enrollment (Ages 5-17)`',\n",
       " 'SQL': \"SELECT `Free Meal Count (Ages 5-17)` / `Enrollment (Ages 5-17)` FROM frpm WHERE `Educational Option Type` = 'Continuation School' AND `Free Meal Count (Ages 5-17)` / `Enrollment (Ages 5-17)` IS NOT NULL ORDER BY `Free Meal Count (Ages 5-17)` / `Enrollment (Ages 5-17)` ASC LIMIT 3\",\n",
       " 'difficulty': 'moderate'}"
      ]
     },
     "execution_count": 167,
     "metadata": {},
     "output_type": "execute_result"
    }
   ],
   "source": [
    "data[k]"
   ]
  },
  {
   "cell_type": "code",
   "execution_count": 168,
   "id": "cd7f3522-1f11-4192-a501-a177aa48ce15",
   "metadata": {},
   "outputs": [
    {
     "name": "stdout",
     "output_type": "stream",
     "text": [
      "SELECT `Free Meal Count (Ages 5-17)` / `Enrollment (Ages 5-17)` FROM frpm WHERE `Educational Option Type` = 'Continuation School' AND `Free Meal Count (Ages 5-17)` / `Enrollment (Ages 5-17)` IS NOT NULL ORDER BY `Free Meal Count (Ages 5-17)` / `Enrollment (Ages 5-17)` ASC LIMIT 3\n"
     ]
    }
   ],
   "source": [
    "print(sql_gt_list[k])"
   ]
  },
  {
   "cell_type": "code",
   "execution_count": 192,
   "id": "98531dd7-3d09-4aa9-86f2-7ae6c69bda7d",
   "metadata": {},
   "outputs": [],
   "source": [
    "new_answer = \"\"\"SELECT TOP 3 \n",
    "       frpm.Percent (%) Eligible FRPM (Ages 5-17) \n",
    "FROM frpm \n",
    "JOIN schools \n",
    "ON frpm.CDSCode = schools.CDSCode\n",
    "WHERE schools.School = 'Continuation'\n",
    "ORDER BY Percent (%) Eligible FRPM (Ages 5-17) DESC;\n",
    "\n",
    "\"\"\""
   ]
  },
  {
   "cell_type": "code",
   "execution_count": 193,
   "id": "081d8a68-eaf4-4579-8d8a-769db626fd02",
   "metadata": {},
   "outputs": [],
   "source": [
    "def execute_query(path_sql_dbs,db,sql_predict,sql_gt):\n",
    "        conn = sqlite3.connect(f'{path_sql_dbs}/{db}/{db}.sqlite')\n",
    "        cursor = conn.cursor()\n",
    "        with conn:\n",
    "            cursor.execute(sql_predict)\n",
    "            pred = cursor.fetchall()\n",
    "            \n",
    "            cursor.execute(sql_gt)\n",
    "            real = cursor.fetchall()\n",
    "        cursor.close()\n",
    "        conn.close()\n",
    "        return pred, real"
   ]
  },
  {
   "cell_type": "code",
   "execution_count": 194,
   "id": "6b32c37e-38cc-4137-9452-91aac21157c9",
   "metadata": {},
   "outputs": [
    {
     "ename": "OperationalError",
     "evalue": "near \"3\": syntax error",
     "output_type": "error",
     "traceback": [
      "\u001b[31m---------------------------------------------------------------------------\u001b[39m",
      "\u001b[31mOperationalError\u001b[39m                          Traceback (most recent call last)",
      "\u001b[36mCell\u001b[39m\u001b[36m \u001b[39m\u001b[32mIn[194]\u001b[39m\u001b[32m, line 1\u001b[39m\n\u001b[32m----> \u001b[39m\u001b[32m1\u001b[39m results_pred, results_gt = \u001b[43mfunc_timeout\u001b[49m\u001b[43m(\u001b[49m\u001b[32;43m5\u001b[39;49m\u001b[43m,\u001b[49m\u001b[43m \u001b[49m\u001b[43mexecute_query\u001b[49m\u001b[43m,\u001b[49m\u001b[43m \u001b[49m\u001b[43margs\u001b[49m\u001b[43m=\u001b[49m\u001b[43m(\u001b[49m\u001b[43mpath_sql_dbs\u001b[49m\u001b[43m,\u001b[49m\u001b[43m \u001b[49m\u001b[43mbd_list\u001b[49m\u001b[43m[\u001b[49m\u001b[43mk\u001b[49m\u001b[43m]\u001b[49m\u001b[43m,\u001b[49m\u001b[43m \u001b[49m\u001b[43mnew_answer\u001b[49m\u001b[43m,\u001b[49m\u001b[43msql_gt_list\u001b[49m\u001b[43m[\u001b[49m\u001b[43mk\u001b[49m\u001b[43m]\u001b[49m\u001b[43m \u001b[49m\u001b[43m,\u001b[49m\u001b[43m)\u001b[49m\u001b[43m)\u001b[49m\n",
      "\u001b[36mFile \u001b[39m\u001b[32m/data/home/vkropoti/vllm/lib64/python3.12/site-packages/func_timeout/dafunc.py:108\u001b[39m, in \u001b[36mfunc_timeout\u001b[39m\u001b[34m(timeout, func, args, kwargs)\u001b[39m\n\u001b[32m    105\u001b[39m     thread.join(\u001b[32m.5\u001b[39m)\n\u001b[32m    107\u001b[39m \u001b[38;5;28;01mif\u001b[39;00m exception:\n\u001b[32m--> \u001b[39m\u001b[32m108\u001b[39m     \u001b[43mraise_exception\u001b[49m\u001b[43m(\u001b[49m\u001b[43mexception\u001b[49m\u001b[43m)\u001b[49m\n\u001b[32m    110\u001b[39m \u001b[38;5;28;01mif\u001b[39;00m ret:\n\u001b[32m    111\u001b[39m     \u001b[38;5;28;01mreturn\u001b[39;00m ret[\u001b[32m0\u001b[39m]\n",
      "\u001b[36mFile \u001b[39m\u001b[32m/data/home/vkropoti/vllm/lib64/python3.12/site-packages/func_timeout/py3_raise.py:7\u001b[39m, in \u001b[36mraise_exception\u001b[39m\u001b[34m(exception)\u001b[39m\n\u001b[32m      6\u001b[39m \u001b[38;5;28;01mdef\u001b[39;00m\u001b[38;5;250m \u001b[39m\u001b[34mraise_exception\u001b[39m(exception):\n\u001b[32m----> \u001b[39m\u001b[32m7\u001b[39m     \u001b[38;5;28;01mraise\u001b[39;00m exception[\u001b[32m0\u001b[39m] \u001b[38;5;28;01mfrom\u001b[39;00m\u001b[38;5;250m \u001b[39m\u001b[38;5;28;01mNone\u001b[39;00m\n",
      "\u001b[36mCell\u001b[39m\u001b[36m \u001b[39m\u001b[32mIn[193]\u001b[39m\u001b[32m, line 5\u001b[39m, in \u001b[36mexecute_query\u001b[39m\u001b[34m(path_sql_dbs, db, sql_predict, sql_gt)\u001b[39m\n\u001b[32m      3\u001b[39m cursor = conn.cursor()\n\u001b[32m      4\u001b[39m \u001b[38;5;28;01mwith\u001b[39;00m conn:\n\u001b[32m----> \u001b[39m\u001b[32m5\u001b[39m     \u001b[43mcursor\u001b[49m\u001b[43m.\u001b[49m\u001b[43mexecute\u001b[49m\u001b[43m(\u001b[49m\u001b[43msql_predict\u001b[49m\u001b[43m)\u001b[49m\n\u001b[32m      6\u001b[39m     pred = cursor.fetchall()\n\u001b[32m      8\u001b[39m     cursor.execute(sql_gt)\n",
      "\u001b[31mOperationalError\u001b[39m: near \"3\": syntax error"
     ]
    }
   ],
   "source": [
    "results_pred, results_gt = func_timeout(5, execute_query, args=(path_sql_dbs, bd_list[k], new_answer,sql_gt_list[k] ,))"
   ]
  },
  {
   "cell_type": "code",
   "execution_count": 188,
   "id": "a0c45231-aba8-401a-b7a4-25b1c26628f1",
   "metadata": {},
   "outputs": [
    {
     "data": {
      "text/plain": [
       "0"
      ]
     },
     "execution_count": 188,
     "metadata": {},
     "output_type": "execute_result"
    }
   ],
   "source": [
    "calculate_ex(results_pred,results_gt)"
   ]
  },
  {
   "cell_type": "code",
   "execution_count": 183,
   "id": "a5891c05-0731-49ff-a3a8-0582b9ced464",
   "metadata": {
    "scrolled": true
   },
   "outputs": [
    {
     "name": "stdout",
     "output_type": "stream",
     "text": [
      "[]\n"
     ]
    }
   ],
   "source": [
    "print(results_pred)"
   ]
  },
  {
   "cell_type": "code",
   "execution_count": 184,
   "id": "07fa0341-2614-4fab-8808-01f873899453",
   "metadata": {
    "scrolled": true
   },
   "outputs": [
    {
     "name": "stdout",
     "output_type": "stream",
     "text": [
      "[(0.043478260869565216,), (0.07042253521126761,), (0.11363636363636363,)]\n"
     ]
    }
   ],
   "source": [
    "print(results_gt)"
   ]
  },
  {
   "cell_type": "code",
   "execution_count": 276,
   "id": "bdb1d558-88ef-45db-b21e-41a14d7c83f5",
   "metadata": {},
   "outputs": [],
   "source": [
    "results_pred, results_gt = func_timeout(5, execute_query, args=(path_sql_dbs, bd_list[k], parsed_arr[k],sql_gt_list[k] ,))"
   ]
  },
  {
   "cell_type": "code",
   "execution_count": 277,
   "id": "0b569082-6d46-4f8b-a768-38f4b19c4b4c",
   "metadata": {},
   "outputs": [
    {
     "name": "stdout",
     "output_type": "stream",
     "text": [
      "[(None, 'Roy A. Johnson High', '01611500130047'), (None, 'Young Adult Program', '01611760127233'), (None, 'Acalanes Center for Independent Study', '07616300107524')]\n",
      "[(0.043478260869565216,), (0.07042253521126761,), (0.11363636363636363,)]\n"
     ]
    }
   ],
   "source": [
    "print(results_pred)\n",
    "print(results_gt)"
   ]
  },
  {
   "cell_type": "code",
   "execution_count": 43,
   "id": "7c920537-14ac-4d5f-9889-9f44db145e18",
   "metadata": {},
   "outputs": [
    {
     "name": "stdout",
     "output_type": "stream",
     "text": [
      "SELECT major.major_name FROM member JOIN major ON member.link_to_major = major.major_id WHERE member.first_name = 'Angela' AND member.last_name = 'Sanders';\n"
     ]
    }
   ],
   "source": [
    "print(parse_sql(sql_predict[30]))"
   ]
  },
  {
   "cell_type": "code",
   "execution_count": 27,
   "id": "818aaa07-31a6-4b71-9629-f62e2c47bb24",
   "metadata": {},
   "outputs": [
    {
     "name": "stdout",
     "output_type": "stream",
     "text": [
      "To find the gas consumption peak month for SME customers in 2013, I'll join the `customers` and `yearmonth` tables, filter for the year 2013 and SME segment, then calculate the total consumption per month and find the maximum.\n",
      "\n",
      "```\n",
      "-- Thoughts: Join yearmonth and customers, filter for 2013 and SME, group by month, find max consumption.\n",
      "-- SQL Query:\n",
      "SELECT substr(y.Date, 1, 4) AS Year, substr(y.Date, 5, 2) AS Month, sum(y.Consumption) AS TotalConsumption\n",
      "FROM yearmonth y\n",
      "JOIN customers c ON y.CustomerID = c.CustomerID\n",
      "WHERE substr(y.Date, 1, 4) = '2013' AND c.Segment = 'SME'\n",
      "GROUP BY substr(y.Date, 1, 4), substr(y.Date, 5, 2)\n",
      "HAVING Year = '2013'\n",
      "ORDER BY TotalConsumption DESC\n",
      "LIMIT 1;\n",
      "```\n",
      "\n",
      "The query extracts the year and month from the Date string, sums the consumption for each month, and returns the month with the highest total, which is the peak consumption month for SMEs in 2013.\n"
     ]
    }
   ],
   "source": [
    "print(sql_predict[5])"
   ]
  },
  {
   "cell_type": "code",
   "execution_count": null,
   "id": "2294f63b-4397-4bae-8fec-2724a5f4391e",
   "metadata": {},
   "outputs": [],
   "source": []
  }
 ],
 "metadata": {
  "kernelspec": {
   "display_name": "vllm",
   "language": "python",
   "name": "vllm"
  },
  "language_info": {
   "codemirror_mode": {
    "name": "ipython",
    "version": 3
   },
   "file_extension": ".py",
   "mimetype": "text/x-python",
   "name": "python",
   "nbconvert_exporter": "python",
   "pygments_lexer": "ipython3",
   "version": "3.12.4"
  }
 },
 "nbformat": 4,
 "nbformat_minor": 5
}
