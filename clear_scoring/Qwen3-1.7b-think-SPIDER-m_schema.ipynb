{
 "cells": [
  {
   "cell_type": "code",
   "execution_count": 1,
   "id": "8fc211c7-82bd-49c0-b7e2-1c1d6ad9134f",
   "metadata": {},
   "outputs": [
    {
     "name": "stdout",
     "output_type": "stream",
     "text": [
      "INFO 05-27 03:26:10 [__init__.py:239] Automatically detected platform cuda.\n"
     ]
    },
    {
     "name": "stderr",
     "output_type": "stream",
     "text": [
      "2025-05-27 03:26:11,744\tINFO util.py:154 -- Missing packages: ['ipywidgets']. Run `pip install -U ipywidgets`, then restart the notebook server for rich notebook output.\n"
     ]
    }
   ],
   "source": [
    "import os, sys\n",
    "sys.path.append(\"/home/vkropoti/vllm\")\n",
    "\n",
    "from src.experiment import run_think_experiment\n",
    "import random\n",
    "import numpy as np"
   ]
  },
  {
   "cell_type": "code",
   "execution_count": 2,
   "id": "ff95fe4c-4743-4a91-abcf-94e139e1a6d4",
   "metadata": {},
   "outputs": [
    {
     "name": "stdout",
     "output_type": "stream",
     "text": [
      "[701, 214, 973, 82, 411, 932, 603, 910, 67, 1, 256, 95, 754, 236, 989, 891, 213, 227, 262, 968]\n",
      "model: Qwen3-1.7B\n"
     ]
    }
   ],
   "source": [
    "n= 20\n",
    "arr_seeds = [random.randint(0,1000) for _ in range(n)]\n",
    "arr_versions = [x for x in range(n)]\n",
    "model = \"Qwen3-1.7B\"\n",
    "print(arr_seeds)\n",
    "print(f\"model: {model}\")"
   ]
  },
  {
   "cell_type": "code",
   "execution_count": 3,
   "id": "3389289b-f43f-4840-88af-e4856b34211d",
   "metadata": {
    "scrolled": true
   },
   "outputs": [
    {
     "name": "stdout",
     "output_type": "stream",
     "text": [
      "Загружаем модель...\n"
     ]
    },
    {
     "name": "stderr",
     "output_type": "stream",
     "text": [
      "Loading safetensors checkpoint shards:   0% Completed | 0/2 [00:00<?, ?it/s]\n",
      "Loading safetensors checkpoint shards:  50% Completed | 1/2 [00:01<00:01,  1.26s/it]\n",
      "Loading safetensors checkpoint shards: 100% Completed | 2/2 [00:01<00:00,  1.53it/s]\n",
      "\u001b[1;36m(VllmWorker rank=0 pid=3388955)\u001b[0;0m \n"
     ]
    },
    {
     "name": "stdout",
     "output_type": "stream",
     "text": [
      "Модель успешно загружена\n",
      "model_config {'model': '/data/home/vkropoti/models/Qwen3-1.7B', 'tensor_parallel_size': 2, 'max_model_len': 25000, 'max_new_tokens': 15000, 'temperature': 0.95, 'top_k': 50, 'top_p': 0.95, 'gpu_memory_utilization': 0.9, 'trust_remote_code': False, 'seed': 701}\n",
      "\n",
      "prompts_config {'path_dev_json': '/data/home/vkropoti/sql_data/dev_spider.json', 'path_sql_dbs': '/data/home/vkropoti/sql_data/data_bases_spider/', 'use_reasoning': True, 'paths_to_cot': None}\n",
      "\n",
      "save_config {'path_sql_save': '/data/home/vkropoti/sql_llm_answers/spider_dev_m_schema/sql_all_Qwen3-1.7B-reasoning-v0', 'path_think_save': '/data/home/vkropoti/sql_llm_answers/spider_dev_m_schema/sql_think_Qwen3-1.7B-reasoning-v0', 'path_sql_answers_save': '/data/home/vkropoti/sql_llm_answers/spider_dev_m_schema/sql_predict_Qwen3-1.7B-reasoning-v0', 'path_to_save_scores': '/data/home/vkropoti/sql_llm_answers/spider_dev_m_schema/sql_results_Qwen3-1.7B-reasoning-v0', 'path_to_save_executed': '/data/home/vkropoti/sql_llm_answers/spider_dev_m_schema/sql_executed_Qwen3-1.7B-reasoning-v0'}\n",
      "\n",
      "Модель успешно загружена\n",
      "Пример промпта\n",
      "<|im_start|>system\n",
      "\n",
      "You are a data science expert. Below, you are provided with a database schema and a natural language question. Your task is to understand the schema and generate a valid SQL query to answer the question.\n",
      "\n",
      "Database Engine: SQLite\n",
      "\n",
      "Firstly think how to solve the problem, analyze tables, take care what columns avaliable in each table and so on, check the syntacsis (do not otherthink 2k words is a limit, no more!).\n",
      "Secondly, create the answer based on thoughts. The answer should be only sql query.\n",
      "\n",
      "Carefully follow the instruction and add <|im_end|> and the end of the final answer.\n",
      "<|im_end|>\n",
      "<|im_start|>user\n",
      "here is avaliable tables and their structure below\n",
      "【DB_ID】 concert_singer\n",
      "【Schema】\n",
      "# Table: concert\n",
      "[\n",
      "(concert_ID:INTEGER, Primary Key, Examples: [1, 2, 3]),\n",
      "(concert_Name:TEXT, Examples: [Auditions, Super bootcamp, Home Visits]),\n",
      "(Theme:TEXT, Examples: [Free choice, Free choice 2, Bleeding Love]),\n",
      "(Stadium_ID:TEXT, maps to stadium.Stadium_ID, Examples: [1, 2, 10]),\n",
      "(Year:TEXT, Examples: [2014, 2015, 2016])\n",
      "]\n",
      "# Table: singer\n",
      "[\n",
      "(Singer_ID:INTEGER, Primary Key, Examples: [1, 2, 3]),\n",
      "(Name:TEXT, Examples: [Joe Sharp, Timbaland, Justin Brown]),\n",
      "(Country:TEXT, Examples: [Netherlands, United States, France]),\n",
      "(Song_Name:TEXT, Examples: [You, Dangerous, Hey Oh]),\n",
      "(Song_release_year:TEXT, Examples: [1992, 2008, 2013]),\n",
      "(Age:INTEGER, Examples: [52, 32, 29]),\n",
      "(Is_male:BOOLEAN, Examples: [False, True])\n",
      "]\n",
      "# Table: singer_in_concert\n",
      "[\n",
      "(concert_ID:INTEGER, maps to concert.concert_ID, Primary Key, Examples: [1, 2, 3]),\n",
      "(Singer_ID:TEXT, maps to singer.Singer_ID, Primary Key, Examples: [2, 3, 5])\n",
      "]\n",
      "# Table: stadium\n",
      "[\n",
      "(Stadium_ID:INTEGER, Primary Key, Examples: [1, 2, 3]),\n",
      "(Location:TEXT, Examples: [Raith Rovers, Ayr United, East Fife]),\n",
      "(Name:TEXT, Examples: [Stark's Park, Somerset Park, Bayview Stadium]),\n",
      "(Capacity:INTEGER, Examples: [10104, 11998, 2000]),\n",
      "(Highest:INTEGER, Examples: [4812, 2363, 1980]),\n",
      "(Lowest:INTEGER, Examples: [1294, 1057, 533]),\n",
      "(Average:INTEGER, Examples: [2106, 1477, 864])\n",
      "]\n",
      "【Foreign keys】\n",
      "concert.Stadium_ID=stadium.Stadium_ID\n",
      "singer_in_concert.concert_ID=concert.concert_ID\n",
      "singer_in_concert.Singer_ID=singer.Singer_ID\n",
      "\n",
      "-- Using valid SQLite, answer the following questions for the tables provided above.\n",
      "-- question: How many singers do we have?\n",
      "\n",
      "\n",
      "\n",
      "Generate the SQLite for the above question after thinking step by step: \n",
      "\n",
      "\n",
      "Instructions:\n",
      "- Make sure you only output the information that is asked in the question. If the question asks for a specific column, make sure to only include that column in the SELECT clause, nothing more.\n",
      "- The generated query should return all of the information asked in the question without any missing or extra information.\n",
      "- Before generating the final SQL query, please think through the steps of how to write the query.\n",
      "- In your response, you should provide thoughts and answer (thoughts are separated with <think>).\n",
      "- Do not misuse column names, keep them in quotes `\n",
      "- Carefully understand what colomns belond to what tables\n",
      "- Use only initial column names, change names prohibited\n",
      "        \n",
      "Output Format:\n",
      "In your answer, please enclose the generated SQL query in a code block:\n",
      "```\n",
      "```    \n",
      "and nothing else, no exaplains, no comments (asnwer should be less than 512 characters)\n",
      "\n",
      "Take a deep breath and think step by step to find the correct SQL query in SQLite format.\n",
      "\n",
      "Question repetition: How many singers do we have?\n",
      "\n",
      "Be care! Include only what i want it questiona and nothing else<|im_end|>\n",
      "<|im_start|>assistant\n",
      "\n",
      "\n",
      "\n",
      "Максимальное количество токенов в промптах: 1824\n",
      "\n",
      "начинаем скорринг\n",
      "Загружаем чаты с данными...\n",
      "Данные успешно загружены\n",
      "Начали генерацию SQL запросов\n"
     ]
    },
    {
     "name": "stderr",
     "output_type": "stream",
     "text": [
      "Processed prompts: 100%|██████████| 1076/1076 [01:31<00:00, 11.71it/s, est. speed input: 12331.97 toks/s, output: 8977.23 toks/s]"
     ]
    },
    {
     "name": "stdout",
     "output_type": "stream",
     "text": [
      "extract_think количество ошибок:  0\n",
      "extract_sql количество ошибок:  0\n",
      "Закончили генерацию SQL запросов\n",
      "Начали скорр полученных SQL запросов\n"
     ]
    },
    {
     "name": "stderr",
     "output_type": "stream",
     "text": [
      "\n"
     ]
    },
    {
     "name": "stdout",
     "output_type": "stream",
     "text": [
      "Qwen3-1.7B DEV Финальный результат EX: 67.19\n",
      "Qwen3-1.7B процент запросов, которые успешно выполнились DEV: 93.22%\n",
      "====================================================================================================\n",
      "\n",
      "\n",
      "Загружаем чаты с данными...\n",
      "Данные успешно загружены\n",
      "Начали генерацию SQL запросов\n"
     ]
    },
    {
     "name": "stderr",
     "output_type": "stream",
     "text": [
      "Processed prompts: 100%|██████████| 1076/1076 [01:36<00:00, 11.19it/s, est. speed input: 11784.38 toks/s, output: 8473.21 toks/s]"
     ]
    },
    {
     "name": "stdout",
     "output_type": "stream",
     "text": [
      "extract_think количество ошибок:  0\n",
      "extract_sql количество ошибок:  0\n",
      "Закончили генерацию SQL запросов\n",
      "Начали скорр полученных SQL запросов\n"
     ]
    },
    {
     "name": "stderr",
     "output_type": "stream",
     "text": [
      "\n"
     ]
    },
    {
     "name": "stdout",
     "output_type": "stream",
     "text": [
      "Qwen3-1.7B DEV Финальный результат EX: 67.94\n",
      "Qwen3-1.7B процент запросов, которые успешно выполнились DEV: 93.31%\n",
      "====================================================================================================\n",
      "\n",
      "\n",
      "Загружаем чаты с данными...\n",
      "Данные успешно загружены\n",
      "Начали генерацию SQL запросов\n"
     ]
    },
    {
     "name": "stderr",
     "output_type": "stream",
     "text": [
      "Processed prompts: 100%|██████████| 1076/1076 [01:44<00:00, 10.30it/s, est. speed input: 10851.57 toks/s, output: 8286.57 toks/s]"
     ]
    },
    {
     "name": "stdout",
     "output_type": "stream",
     "text": [
      "extract_think количество ошибок:  0\n",
      "extract_sql количество ошибок:  0\n",
      "Закончили генерацию SQL запросов\n",
      "Начали скорр полученных SQL запросов\n"
     ]
    },
    {
     "name": "stderr",
     "output_type": "stream",
     "text": [
      "\n"
     ]
    },
    {
     "name": "stdout",
     "output_type": "stream",
     "text": [
      "Qwen3-1.7B DEV Финальный результат EX: 68.49\n",
      "Qwen3-1.7B процент запросов, которые успешно выполнились DEV: 93.77%\n",
      "====================================================================================================\n",
      "\n",
      "\n",
      "Загружаем чаты с данными...\n",
      "Данные успешно загружены\n",
      "Начали генерацию SQL запросов\n"
     ]
    },
    {
     "name": "stderr",
     "output_type": "stream",
     "text": [
      "Processed prompts: 100%|██████████| 1076/1076 [01:36<00:00, 11.10it/s, est. speed input: 11685.11 toks/s, output: 8460.40 toks/s]"
     ]
    },
    {
     "name": "stdout",
     "output_type": "stream",
     "text": [
      "extract_think количество ошибок:  0\n",
      "extract_sql количество ошибок:  0\n",
      "Закончили генерацию SQL запросов\n",
      "Начали скорр полученных SQL запросов\n"
     ]
    },
    {
     "name": "stderr",
     "output_type": "stream",
     "text": [
      "\n"
     ]
    },
    {
     "name": "stdout",
     "output_type": "stream",
     "text": [
      "Qwen3-1.7B DEV Финальный результат EX: 68.40\n",
      "Qwen3-1.7B процент запросов, которые успешно выполнились DEV: 93.03%\n",
      "====================================================================================================\n",
      "\n",
      "\n",
      "Загружаем чаты с данными...\n",
      "Данные успешно загружены\n",
      "Начали генерацию SQL запросов\n"
     ]
    },
    {
     "name": "stderr",
     "output_type": "stream",
     "text": [
      "Processed prompts: 100%|██████████| 1076/1076 [01:37<00:00, 11.01it/s, est. speed input: 11597.95 toks/s, output: 8556.59 toks/s]"
     ]
    },
    {
     "name": "stdout",
     "output_type": "stream",
     "text": [
      "extract_think количество ошибок:  0\n",
      "extract_sql количество ошибок:  0\n",
      "Закончили генерацию SQL запросов\n",
      "Начали скорр полученных SQL запросов\n"
     ]
    },
    {
     "name": "stderr",
     "output_type": "stream",
     "text": [
      "\n"
     ]
    },
    {
     "name": "stdout",
     "output_type": "stream",
     "text": [
      "Qwen3-1.7B DEV Финальный результат EX: 68.40\n",
      "Qwen3-1.7B процент запросов, которые успешно выполнились DEV: 93.40%\n",
      "====================================================================================================\n",
      "\n",
      "\n",
      "Загружаем чаты с данными...\n",
      "Данные успешно загружены\n",
      "Начали генерацию SQL запросов\n"
     ]
    },
    {
     "name": "stderr",
     "output_type": "stream",
     "text": [
      "Processed prompts: 100%|██████████| 1076/1076 [01:48<00:00,  9.93it/s, est. speed input: 10456.90 toks/s, output: 8179.48 toks/s]"
     ]
    },
    {
     "name": "stdout",
     "output_type": "stream",
     "text": [
      "extract_think количество ошибок:  0\n",
      "extract_sql количество ошибок:  0\n",
      "Закончили генерацию SQL запросов\n",
      "Начали скорр полученных SQL запросов\n"
     ]
    },
    {
     "name": "stderr",
     "output_type": "stream",
     "text": [
      "\n"
     ]
    },
    {
     "name": "stdout",
     "output_type": "stream",
     "text": [
      "Qwen3-1.7B DEV Финальный результат EX: 67.29\n",
      "Qwen3-1.7B процент запросов, которые успешно выполнились DEV: 92.38%\n",
      "====================================================================================================\n",
      "\n",
      "\n",
      "Загружаем чаты с данными...\n",
      "Данные успешно загружены\n",
      "Начали генерацию SQL запросов\n"
     ]
    },
    {
     "name": "stderr",
     "output_type": "stream",
     "text": [
      "Processed prompts: 100%|██████████| 1076/1076 [01:42<00:00, 10.53it/s, est. speed input: 11089.58 toks/s, output: 8887.26 toks/s]"
     ]
    },
    {
     "name": "stdout",
     "output_type": "stream",
     "text": [
      "extract_think количество ошибок:  0\n",
      "extract_sql количество ошибок:  0\n",
      "Закончили генерацию SQL запросов\n",
      "Начали скорр полученных SQL запросов\n"
     ]
    },
    {
     "name": "stderr",
     "output_type": "stream",
     "text": [
      "\n"
     ]
    },
    {
     "name": "stdout",
     "output_type": "stream",
     "text": [
      "Qwen3-1.7B DEV Финальный результат EX: 66.64\n",
      "Qwen3-1.7B процент запросов, которые успешно выполнились DEV: 92.84%\n",
      "====================================================================================================\n",
      "\n",
      "\n",
      "Загружаем чаты с данными...\n",
      "Данные успешно загружены\n",
      "Начали генерацию SQL запросов\n"
     ]
    },
    {
     "name": "stderr",
     "output_type": "stream",
     "text": [
      "Processed prompts: 100%|██████████| 1076/1076 [01:36<00:00, 11.10it/s, est. speed input: 11687.68 toks/s, output: 8724.87 toks/s]"
     ]
    },
    {
     "name": "stdout",
     "output_type": "stream",
     "text": [
      "extract_think количество ошибок:  0\n",
      "extract_sql количество ошибок:  0\n",
      "Закончили генерацию SQL запросов\n",
      "Начали скорр полученных SQL запросов\n"
     ]
    },
    {
     "name": "stderr",
     "output_type": "stream",
     "text": [
      "\n"
     ]
    },
    {
     "name": "stdout",
     "output_type": "stream",
     "text": [
      "Qwen3-1.7B DEV Финальный результат EX: 66.91\n",
      "Qwen3-1.7B процент запросов, которые успешно выполнились DEV: 92.94%\n",
      "====================================================================================================\n",
      "\n",
      "\n",
      "Загружаем чаты с данными...\n",
      "Данные успешно загружены\n",
      "Начали генерацию SQL запросов\n"
     ]
    },
    {
     "name": "stderr",
     "output_type": "stream",
     "text": [
      "Processed prompts: 100%|██████████| 1076/1076 [01:38<00:00, 10.98it/s, est. speed input: 11557.87 toks/s, output: 8780.10 toks/s]"
     ]
    },
    {
     "name": "stdout",
     "output_type": "stream",
     "text": [
      "extract_think количество ошибок:  0\n",
      "extract_sql количество ошибок:  0\n",
      "Закончили генерацию SQL запросов\n",
      "Начали скорр полученных SQL запросов\n"
     ]
    },
    {
     "name": "stderr",
     "output_type": "stream",
     "text": [
      "\n"
     ]
    },
    {
     "name": "stdout",
     "output_type": "stream",
     "text": [
      "Qwen3-1.7B DEV Финальный результат EX: 65.99\n",
      "Qwen3-1.7B процент запросов, которые успешно выполнились DEV: 92.75%\n",
      "====================================================================================================\n",
      "\n",
      "\n",
      "Загружаем чаты с данными...\n",
      "Данные успешно загружены\n",
      "Начали генерацию SQL запросов\n"
     ]
    },
    {
     "name": "stderr",
     "output_type": "stream",
     "text": [
      "Processed prompts: 100%|██████████| 1076/1076 [01:43<00:00, 10.36it/s, est. speed input: 10909.13 toks/s, output: 8150.62 toks/s]"
     ]
    },
    {
     "name": "stdout",
     "output_type": "stream",
     "text": [
      "extract_think количество ошибок:  0\n",
      "extract_sql количество ошибок:  0\n",
      "Закончили генерацию SQL запросов\n",
      "Начали скорр полученных SQL запросов\n"
     ]
    },
    {
     "name": "stderr",
     "output_type": "stream",
     "text": [
      "\n"
     ]
    },
    {
     "name": "stdout",
     "output_type": "stream",
     "text": [
      "Qwen3-1.7B DEV Финальный результат EX: 67.47\n",
      "Qwen3-1.7B процент запросов, которые успешно выполнились DEV: 93.22%\n",
      "====================================================================================================\n",
      "\n",
      "\n",
      "Загружаем чаты с данными...\n",
      "Данные успешно загружены\n",
      "Начали генерацию SQL запросов\n"
     ]
    },
    {
     "name": "stderr",
     "output_type": "stream",
     "text": [
      "Processed prompts: 100%|██████████| 1076/1076 [01:32<00:00, 11.57it/s, est. speed input: 12187.48 toks/s, output: 8873.39 toks/s]"
     ]
    },
    {
     "name": "stdout",
     "output_type": "stream",
     "text": [
      "extract_think количество ошибок:  0\n",
      "extract_sql количество ошибок:  0\n",
      "Закончили генерацию SQL запросов\n",
      "Начали скорр полученных SQL запросов\n"
     ]
    },
    {
     "name": "stderr",
     "output_type": "stream",
     "text": [
      "\n"
     ]
    },
    {
     "name": "stdout",
     "output_type": "stream",
     "text": [
      "Qwen3-1.7B DEV Финальный результат EX: 65.61\n",
      "Qwen3-1.7B процент запросов, которые успешно выполнились DEV: 92.66%\n",
      "====================================================================================================\n",
      "\n",
      "\n",
      "Загружаем чаты с данными...\n",
      "Данные успешно загружены\n",
      "Начали генерацию SQL запросов\n"
     ]
    },
    {
     "name": "stderr",
     "output_type": "stream",
     "text": [
      "Processed prompts: 100%|██████████| 1076/1076 [01:38<00:00, 10.87it/s, est. speed input: 11450.40 toks/s, output: 8504.64 toks/s]"
     ]
    },
    {
     "name": "stdout",
     "output_type": "stream",
     "text": [
      "extract_think количество ошибок:  0\n",
      "extract_sql количество ошибок:  0\n",
      "Закончили генерацию SQL запросов\n",
      "Начали скорр полученных SQL запросов\n"
     ]
    },
    {
     "name": "stderr",
     "output_type": "stream",
     "text": [
      "\n"
     ]
    },
    {
     "name": "stdout",
     "output_type": "stream",
     "text": [
      "Qwen3-1.7B DEV Финальный результат EX: 65.89\n",
      "Qwen3-1.7B процент запросов, которые успешно выполнились DEV: 92.01%\n",
      "====================================================================================================\n",
      "\n",
      "\n",
      "Загружаем чаты с данными...\n",
      "Данные успешно загружены\n",
      "Начали генерацию SQL запросов\n"
     ]
    },
    {
     "name": "stderr",
     "output_type": "stream",
     "text": [
      "Processed prompts: 100%|██████████| 1076/1076 [01:37<00:00, 11.05it/s, est. speed input: 11633.31 toks/s, output: 8687.61 toks/s]"
     ]
    },
    {
     "name": "stdout",
     "output_type": "stream",
     "text": [
      "extract_think количество ошибок:  0\n",
      "extract_sql количество ошибок:  0\n",
      "Закончили генерацию SQL запросов\n",
      "Начали скорр полученных SQL запросов\n"
     ]
    },
    {
     "name": "stderr",
     "output_type": "stream",
     "text": [
      "\n"
     ]
    },
    {
     "name": "stdout",
     "output_type": "stream",
     "text": [
      "Qwen3-1.7B DEV Финальный результат EX: 66.45\n",
      "Qwen3-1.7B процент запросов, которые успешно выполнились DEV: 92.47%\n",
      "====================================================================================================\n",
      "\n",
      "\n",
      "Загружаем чаты с данными...\n",
      "Данные успешно загружены\n",
      "Начали генерацию SQL запросов\n"
     ]
    },
    {
     "name": "stderr",
     "output_type": "stream",
     "text": [
      "Processed prompts: 100%|██████████| 1076/1076 [01:39<00:00, 10.78it/s, est. speed input: 11357.47 toks/s, output: 8495.84 toks/s]"
     ]
    },
    {
     "name": "stdout",
     "output_type": "stream",
     "text": [
      "extract_think количество ошибок:  0\n",
      "extract_sql количество ошибок:  0\n",
      "Закончили генерацию SQL запросов\n",
      "Начали скорр полученных SQL запросов\n"
     ]
    },
    {
     "name": "stderr",
     "output_type": "stream",
     "text": [
      "\n"
     ]
    },
    {
     "name": "stdout",
     "output_type": "stream",
     "text": [
      "Qwen3-1.7B DEV Финальный результат EX: 66.54\n",
      "Qwen3-1.7B процент запросов, которые успешно выполнились DEV: 92.94%\n",
      "====================================================================================================\n",
      "\n",
      "\n",
      "Загружаем чаты с данными...\n",
      "Данные успешно загружены\n",
      "Начали генерацию SQL запросов\n"
     ]
    },
    {
     "name": "stderr",
     "output_type": "stream",
     "text": [
      "Processed prompts: 100%|██████████| 1076/1076 [01:41<00:00, 10.65it/s, est. speed input: 11211.99 toks/s, output: 8755.90 toks/s]"
     ]
    },
    {
     "name": "stdout",
     "output_type": "stream",
     "text": [
      "extract_think количество ошибок:  0\n",
      "extract_sql количество ошибок:  0\n",
      "Закончили генерацию SQL запросов\n",
      "Начали скорр полученных SQL запросов\n"
     ]
    },
    {
     "name": "stderr",
     "output_type": "stream",
     "text": [
      "\n"
     ]
    },
    {
     "name": "stdout",
     "output_type": "stream",
     "text": [
      "Qwen3-1.7B DEV Финальный результат EX: 67.19\n",
      "Qwen3-1.7B процент запросов, которые успешно выполнились DEV: 94.05%\n",
      "====================================================================================================\n",
      "\n",
      "\n",
      "Загружаем чаты с данными...\n",
      "Данные успешно загружены\n",
      "Начали генерацию SQL запросов\n"
     ]
    },
    {
     "name": "stderr",
     "output_type": "stream",
     "text": [
      "Processed prompts: 100%|██████████| 1076/1076 [01:36<00:00, 11.09it/s, est. speed input: 11682.06 toks/s, output: 8649.07 toks/s]"
     ]
    },
    {
     "name": "stdout",
     "output_type": "stream",
     "text": [
      "extract_think количество ошибок:  0\n",
      "extract_sql количество ошибок:  0\n",
      "Закончили генерацию SQL запросов\n",
      "Начали скорр полученных SQL запросов\n"
     ]
    },
    {
     "name": "stderr",
     "output_type": "stream",
     "text": [
      "\n"
     ]
    },
    {
     "name": "stdout",
     "output_type": "stream",
     "text": [
      "Qwen3-1.7B DEV Финальный результат EX: 66.64\n",
      "Qwen3-1.7B процент запросов, которые успешно выполнились DEV: 93.12%\n",
      "====================================================================================================\n",
      "\n",
      "\n",
      "Загружаем чаты с данными...\n",
      "Данные успешно загружены\n",
      "Начали генерацию SQL запросов\n"
     ]
    },
    {
     "name": "stderr",
     "output_type": "stream",
     "text": [
      "Processed prompts: 100%|██████████| 1076/1076 [02:18<00:00,  7.75it/s, est. speed input: 8157.40 toks/s, output: 6323.79 toks/s] "
     ]
    },
    {
     "name": "stdout",
     "output_type": "stream",
     "text": [
      "extract_think количество ошибок:  0\n",
      "extract_sql количество ошибок:  0\n",
      "Закончили генерацию SQL запросов\n",
      "Начали скорр полученных SQL запросов\n"
     ]
    },
    {
     "name": "stderr",
     "output_type": "stream",
     "text": [
      "\n"
     ]
    },
    {
     "name": "stdout",
     "output_type": "stream",
     "text": [
      "Qwen3-1.7B DEV Финальный результат EX: 68.68\n",
      "Qwen3-1.7B процент запросов, которые успешно выполнились DEV: 93.12%\n",
      "====================================================================================================\n",
      "\n",
      "\n",
      "Загружаем чаты с данными...\n",
      "Данные успешно загружены\n",
      "Начали генерацию SQL запросов\n"
     ]
    },
    {
     "name": "stderr",
     "output_type": "stream",
     "text": [
      "Processed prompts: 100%|██████████| 1076/1076 [01:40<00:00, 10.68it/s, est. speed input: 11250.93 toks/s, output: 8374.22 toks/s]"
     ]
    },
    {
     "name": "stdout",
     "output_type": "stream",
     "text": [
      "extract_think количество ошибок:  0\n",
      "extract_sql количество ошибок:  0\n",
      "Закончили генерацию SQL запросов\n",
      "Начали скорр полученных SQL запросов\n"
     ]
    },
    {
     "name": "stderr",
     "output_type": "stream",
     "text": [
      "\n"
     ]
    },
    {
     "name": "stdout",
     "output_type": "stream",
     "text": [
      "Qwen3-1.7B DEV Финальный результат EX: 67.57\n",
      "Qwen3-1.7B процент запросов, которые успешно выполнились DEV: 92.38%\n",
      "====================================================================================================\n",
      "\n",
      "\n",
      "Загружаем чаты с данными...\n",
      "Данные успешно загружены\n",
      "Начали генерацию SQL запросов\n"
     ]
    },
    {
     "name": "stderr",
     "output_type": "stream",
     "text": [
      "Processed prompts: 100%|██████████| 1076/1076 [01:43<00:00, 10.42it/s, est. speed input: 10974.16 toks/s, output: 8263.12 toks/s]"
     ]
    },
    {
     "name": "stdout",
     "output_type": "stream",
     "text": [
      "extract_think количество ошибок:  0\n",
      "extract_sql количество ошибок:  0\n",
      "Закончили генерацию SQL запросов\n",
      "Начали скорр полученных SQL запросов\n"
     ]
    },
    {
     "name": "stderr",
     "output_type": "stream",
     "text": [
      "\n"
     ]
    },
    {
     "name": "stdout",
     "output_type": "stream",
     "text": [
      "Qwen3-1.7B DEV Финальный результат EX: 66.73\n",
      "Qwen3-1.7B процент запросов, которые успешно выполнились DEV: 92.84%\n",
      "====================================================================================================\n",
      "\n",
      "\n",
      "Загружаем чаты с данными...\n",
      "Данные успешно загружены\n",
      "Начали генерацию SQL запросов\n"
     ]
    },
    {
     "name": "stderr",
     "output_type": "stream",
     "text": [
      "Processed prompts: 100%|██████████| 1076/1076 [01:45<00:00, 10.21it/s, est. speed input: 10757.14 toks/s, output: 8462.42 toks/s]"
     ]
    },
    {
     "name": "stdout",
     "output_type": "stream",
     "text": [
      "extract_think количество ошибок:  0\n",
      "extract_sql количество ошибок:  0\n",
      "Закончили генерацию SQL запросов\n",
      "Начали скорр полученных SQL запросов\n"
     ]
    },
    {
     "name": "stderr",
     "output_type": "stream",
     "text": [
      "\n"
     ]
    },
    {
     "name": "stdout",
     "output_type": "stream",
     "text": [
      "Qwen3-1.7B DEV Финальный результат EX: 67.29\n",
      "Qwen3-1.7B процент запросов, которые успешно выполнились DEV: 92.57%\n",
      "====================================================================================================\n",
      "\n",
      "\n"
     ]
    }
   ],
   "source": [
    "run_think_experiment(model,arr_seeds,arr_versions)"
   ]
  },
  {
   "cell_type": "markdown",
   "id": "81c34c01-00c6-498b-b626-e0452ab4ddb6",
   "metadata": {},
   "source": [
    "## Выводим средний скорр think подхода"
   ]
  },
  {
   "cell_type": "code",
   "execution_count": 4,
   "id": "1e66fa7c-ddda-472d-93a3-2d563b0129df",
   "metadata": {},
   "outputs": [],
   "source": [
    "import pickle"
   ]
  },
  {
   "cell_type": "code",
   "execution_count": 5,
   "id": "ce529050-623f-4d4f-bfac-9ab5d43e2c4a",
   "metadata": {},
   "outputs": [],
   "source": [
    "def load_results(k):\n",
    "    with open(f\"/data/home/vkropoti/sql_llm_answers/spider_dev_m_schema/sql_results_{model}-reasoning-v{k}\", \"rb\") as fp:\n",
    "        results = np.array(pickle.load(fp))\n",
    "    return results"
   ]
  },
  {
   "cell_type": "code",
   "execution_count": 6,
   "id": "53838cd4-51fb-42d2-88c5-340999184bba",
   "metadata": {},
   "outputs": [],
   "source": [
    "def load_executed(k):\n",
    "    with open(f\"/data/home/vkropoti/sql_llm_answers/spider_dev_m_schema/sql_executed_{model}-reasoning-v{k}\", \"rb\") as fp:\n",
    "        executed = np.array(pickle.load(fp))\n",
    "    return executed"
   ]
  },
  {
   "cell_type": "code",
   "execution_count": 7,
   "id": "c4defcb9-0814-4f71-8080-a3e3c52317ac",
   "metadata": {},
   "outputs": [],
   "source": [
    "def get_think_results(name,n):\n",
    "    arr_mean_scores = []\n",
    "    arr_mean_executed = []\n",
    "    for i in range(n):\n",
    "        results, executed = load_results(i), load_executed(i)\n",
    "        arr_mean_scores.append(np.mean(results))\n",
    "        arr_mean_executed.append(np.mean(executed))\n",
    "        \n",
    "    print(f\"{name} DEV Финальный результат EX: {np.mean(np.array(arr_mean_scores)):.3f}, при std: {np.std(np.array(arr_mean_scores)):.3f}\")\n",
    "    print(f\"{name} процент запросов, которые успешно выполнились DEV: {np.mean(np.array(arr_mean_executed)):.3f}, при std: {np.std(np.array(arr_mean_executed)):.3f}\")\n",
    "    "
   ]
  },
  {
   "cell_type": "code",
   "execution_count": 8,
   "id": "9f57e1a5-7e57-4e87-9f42-e4a844087e40",
   "metadata": {},
   "outputs": [
    {
     "name": "stdout",
     "output_type": "stream",
     "text": [
      "Qwen3-1.7B DEV Финальный результат EX: 0.672, при std: 0.009\n",
      "Qwen3-1.7B процент запросов, которые успешно выполнились DEV: 0.930, при std: 0.005\n"
     ]
    }
   ],
   "source": [
    "# все 20\n",
    "get_think_results(model,20)"
   ]
  },
  {
   "cell_type": "code",
   "execution_count": null,
   "id": "36bf5215-5084-4528-a52f-834df3f95473",
   "metadata": {},
   "outputs": [],
   "source": []
  },
  {
   "cell_type": "code",
   "execution_count": null,
   "id": "954ae1f9-976e-43ee-ae69-36675ce483a9",
   "metadata": {},
   "outputs": [],
   "source": []
  }
 ],
 "metadata": {
  "kernelspec": {
   "display_name": "vllm",
   "language": "python",
   "name": "vllm"
  },
  "language_info": {
   "codemirror_mode": {
    "name": "ipython",
    "version": 3
   },
   "file_extension": ".py",
   "mimetype": "text/x-python",
   "name": "python",
   "nbconvert_exporter": "python",
   "pygments_lexer": "ipython3",
   "version": "3.12.4"
  }
 },
 "nbformat": 4,
 "nbformat_minor": 5
}
