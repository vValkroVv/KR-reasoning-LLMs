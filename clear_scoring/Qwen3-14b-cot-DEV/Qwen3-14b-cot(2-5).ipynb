{
 "cells": [
  {
   "cell_type": "code",
   "execution_count": 1,
   "id": "6f20e5ea-3a64-4bfa-8502-13bb8469c893",
   "metadata": {},
   "outputs": [],
   "source": [
    "import os, sys\n",
    "sys.path.append(\"/home/vkropoti/vllm\")"
   ]
  },
  {
   "cell_type": "code",
   "execution_count": 2,
   "id": "4fc844b5-83f1-48aa-a6c8-3d93f16a861d",
   "metadata": {},
   "outputs": [
    {
     "name": "stdout",
     "output_type": "stream",
     "text": [
      "INFO 05-17 20:31:52 [__init__.py:239] Automatically detected platform cuda.\n"
     ]
    },
    {
     "name": "stderr",
     "output_type": "stream",
     "text": [
      "2025-05-17 20:31:54,203\tINFO util.py:154 -- Missing packages: ['ipywidgets']. Run `pip install -U ipywidgets`, then restart the notebook server for rich notebook output.\n"
     ]
    }
   ],
   "source": [
    "from src.experiment import run_cot_experiment\n",
    "import random\n",
    "import numpy as np"
   ]
  },
  {
   "cell_type": "markdown",
   "id": "56cbd008-e8be-44cd-a2f8-83886376560e",
   "metadata": {},
   "source": [
    "# part1: reasoning+answer"
   ]
  },
  {
   "cell_type": "markdown",
   "id": "1d4174ff-32eb-4901-9b13-dfc26f6bd8e3",
   "metadata": {},
   "source": [
    "### 2 наблюдения"
   ]
  },
  {
   "cell_type": "code",
   "execution_count": 3,
   "id": "5635dae6-2ae1-4d4d-af1f-dfcd7abc923b",
   "metadata": {},
   "outputs": [
    {
     "name": "stdout",
     "output_type": "stream",
     "text": [
      "[161, 755, 259, 209, 908, 329, 643, 226, 70, 463, 712, 997, 940, 771, 932, 786, 840, 18, 128, 601]\n",
      "model: Qwen3-14B\n"
     ]
    }
   ],
   "source": [
    "n= 20\n",
    "arr_seeds = [random.randint(0,1000) for _ in range(n)]\n",
    "arr_versions = [x for x in range(n)]\n",
    "model = \"Qwen3-14B\"\n",
    "num_observations = 2\n",
    "type_cot = 'all_new'\n",
    "print(arr_seeds)\n",
    "print(f\"model: {model}\")"
   ]
  },
  {
   "cell_type": "code",
   "execution_count": 4,
   "id": "499630a1-5ce2-4867-9648-dc199d088be4",
   "metadata": {
    "scrolled": true
   },
   "outputs": [
    {
     "name": "stdout",
     "output_type": "stream",
     "text": [
      "Загружаем модель...\n"
     ]
    },
    {
     "name": "stderr",
     "output_type": "stream",
     "text": [
      "Loading safetensors checkpoint shards:   0% Completed | 0/8 [00:00<?, ?it/s]\n",
      "Loading safetensors checkpoint shards:  12% Completed | 1/8 [00:01<00:09,  1.41s/it]\n",
      "Loading safetensors checkpoint shards:  25% Completed | 2/8 [00:02<00:08,  1.41s/it]\n",
      "Loading safetensors checkpoint shards:  38% Completed | 3/8 [00:04<00:07,  1.41s/it]\n",
      "Loading safetensors checkpoint shards:  50% Completed | 4/8 [00:05<00:05,  1.40s/it]\n",
      "Loading safetensors checkpoint shards:  62% Completed | 5/8 [00:06<00:04,  1.38s/it]\n",
      "Loading safetensors checkpoint shards:  75% Completed | 6/8 [00:07<00:02,  1.16s/it]\n",
      "Loading safetensors checkpoint shards:  88% Completed | 7/8 [00:09<00:01,  1.24s/it]\n",
      "Loading safetensors checkpoint shards: 100% Completed | 8/8 [00:10<00:00,  1.27s/it]\n",
      "Loading safetensors checkpoint shards: 100% Completed | 8/8 [00:10<00:00,  1.31s/it]\n",
      "\u001b[1;36m(VllmWorker rank=0 pid=437573)\u001b[0;0m \n"
     ]
    },
    {
     "name": "stdout",
     "output_type": "stream",
     "text": [
      "Модель успешно загружена\n",
      "model_config {'model': '/data/home/vkropoti/models/Qwen3-14B', 'tensor_parallel_size': 2, 'max_model_len': 40000, 'max_new_tokens': 1500, 'temperature': 0, 'top_k': 1, 'top_p': 0.8, 'gpu_memory_utilization': 0.9, 'trust_remote_code': False, 'seed': 161}\n",
      "\n",
      "prompts_config {'path_dev_json': '/home/vkropoti/vllm/dev.json', 'path_sql_dbs': '/data/home/vkropoti/sql_data/dev_databases/', 'use_reasoning': False, 'paths_to_cot': ['/data/home/vkropoti/sql_llm_answers/bird_dev/sql_all_new_Qwen3-14B-reasoning-v0', '/data/home/vkropoti/sql_llm_answers/bird_dev/sql_all_new_Qwen3-14B-reasoning-v1']}\n",
      "\n",
      "save_config {'path_sql_save': '/data/home/vkropoti/sql_llm_answers/bird_dev/sql_all_Qwen3-14B-cot_all_new_think==False_nobs2-v0', 'path_think_save': None, 'path_sql_answers_save': '/data/home/vkropoti/sql_llm_answers/bird_dev/sql_predict_Qwen3-14B-cot_all_new_think==False_nobs2-v0', 'path_to_save_scores': '/data/home/vkropoti/sql_llm_answers/bird_dev/sql_results_Qwen3-14B-cot_all_new_think==False_nobs2-v0', 'path_to_save_executed': '/data/home/vkropoti/sql_llm_answers/bird_dev/sql_executed_Qwen3-14B-cot_all_new_think==False_nobs2-v0'}\n",
      "\n",
      "Модель успешно загружена\n",
      "Пример промпта\n",
      "<|im_start|>system\n",
      "\n",
      "You are a data science expert. Below, you are provided with a database schema and a natural language question. Your task is to understand the schema and generate a valid SQL query to answer the question.\n",
      "\n",
      "Database Engine: SQLite\n",
      "\n",
      "You will be given an additional analysis of other models, please take it into account, so the plan is\n",
      "1. Analyse given addition analysis from other models (find in which analysis the same and differ, how to use that to answer question)\n",
      "2. Combine best from previous part and think how to solve the problem (analyze tables, take care what columns avaliable in each table and so on, check the syntacsis)\n",
      "3. Create the answers. The answer should be only sql query.\n",
      "\n",
      "Carefully follow the instruction and add <|im_end|> and the end of the final answer<|im_end|>\n",
      "<|im_start|>user\n",
      "Here is addition analysis from other models which can be helpfull, please take this into account but be careful (choose the best from each analysis, combine them to make the most proper answer):\n",
      "\n",
      "model 0 analysis:\n",
      " Reasoning process:\n",
      "\n",
      "Okay, let's see. The user is asking for the highest eligible free rate for K-12 students in schools located in Alameda County. \n",
      "\n",
      "First, I need to figure out which tables are relevant here. The question mentions \"eligible free rate,\" which is calculated as `Free Meal Count (K-12)` divided by `Enrollment (K-12)`. Looking at the tables provided, the `frpm` table contains these exact columns: `Free Meal Count (K-12)` and `Enrollment (K-12)`. So, the calculation will be done using the `frpm` table.\n",
      "\n",
      "Next, the schools need to be in Alameda County. The `County` column is present in the `schools` table. But the `frpm` table has a `County Name` column. Wait, but the user is asking for schools in Alameda County. Which table's county field should I use? The `frpm` table has a `County Name` column, and the `schools` table has a `County` column. However, since the `frpm` table has a foreign key relationship with `schools` via `CDSCode`, maybe I need to join the two tables to get the county information from `schools`?\n",
      "\n",
      "Wait, the question says \"schools in Alameda County.\" So the county is determined by the school's county, which is in the `schools` table. Therefore, I should join `frpm` with `schools` on `CDSCode` to get the `County` from `schools` and filter where that county is 'Alameda'.\n",
      "\n",
      "But let me check the schema again. The `frpm` table has a `County Name` column. However, the `schools` table has a `County` column. Maybe the `frpm` is referencing the schools' county, but perhaps the `County Name` in `frpm` is redundant. However, the user wants to filter based on the school's county, which is in the `schools` table. Therefore, to get accurate information, I should join `frpm` with `schools` on `CDSCode` and then filter `schools.County = 'Alameda'`.\n",
      "\n",
      "So the steps are:\n",
      "\n",
      "1. Join `frpm` and `schools` on `CDSCode`.\n",
      "2. Filter where `schools.County = 'Alameda'`.\n",
      "3. Calculate the eligible free rate as `Free Meal Count (K-12)` / `Enrollment (K-12)`.\n",
      "4. Find the maximum value of this calculated rate.\n",
      "\n",
      "But wait, in the `frpm` table, there's also a `County Name` column. Could that be used instead? However, the `schools` table's `County` might be more reliable. For example, if a school is in Alameda County, the `schools` table's `County` should be 'Alameda', whereas the `County Name` in `frpm` might be the same. But since the `frpm` has a foreign key to `schools`, perhaps the county is consistent between both tables. However, to be safe, using `schools.County = 'Alameda'` is better because that's the school's actual county.\n",
      "\n",
      "So, the query would involve joining `frpm` with `schools` where `CDSCode` matches. Then, filter on `schools.County = 'Alameda'`. Then calculate the rate and find the maximum.\n",
      "\n",
      "But what if there are multiple entries in `frpm` for the same school? The `frpm` table has `CDSCode` as primary key, so each school has one entry in `frpm`. So the join is straightforward.\n",
      "\n",
      "Now, the SQL query would select the maximum of (Free Meal Count / Enrollment) where the county is Alameda. The columns are in the `frpm` table, so after joining with `schools` to get the county.\n",
      "\n",
      "So the query would be:\n",
      "\n",
      "SELECT MAX(`Free Meal Count (K-12)` / `Enrollment (K-12)`) AS highest_rate\n",
      "FROM frpm\n",
      "JOIN schools ON frpm.CDSCode = schools.CDSCode\n",
      "WHERE schools.County = 'Alameda';\n",
      "\n",
      "But I need to make sure that the `Enrollment (K-12)` is not zero to avoid division by zero. However, the question might assume that all entries have valid enrollment numbers. If not, perhaps a WHERE clause to exclude zero enrollments. But since the problem doesn't mention handling that, maybe it's safe to proceed without it.\n",
      "\n",
      "Also, the `frpm` table has `Enrollment (K-12)` as a REAL, so division should be handled as floating points.\n",
      "\n",
      "So the final SQL is as above, selecting the MAX of the calculated rate, joining on CDSCode, and filtering for Alameda County in the schools table.\n",
      "\n",
      "Final answer based om reasoning for this model:\n",
      "\n",
      "\n",
      "```\n",
      "SELECT MAX(`Free Meal Count (K-12` / `Enrollment (K-12`) FROM frpm JOIN schools ON frpm.CDSCode = schools.CDSCode WHERE schools.County = 'Alameda';\n",
      "```\n",
      "\n",
      "model 1 analysis:\n",
      " Reasoning process:\n",
      "\n",
      "Okay, I need to find the highest eligible free rate for K-12 students in schools located in Alameda County. Let me break this down.\n",
      "\n",
      "First, the eligible free rate is calculated as `Free Meal Count (K-12)` divided by `Enrollment (K-12)`. The question is asking for the maximum value of this rate among schools in Alameda County.\n",
      "\n",
      "Looking at the tables, the `frpm` table has both `Free Meal Count (K-12)` and `Enrollment (K-12)` columns. Also, the `frpm` table has a `County Name` column which should be used to filter for Alameda County.\n",
      "\n",
      "Wait, but there's also a `schools` table with a `County` column. However, the `frpm` table's `County Name` is likely the correct one to use since it's part of the same dataset. The `schools` table might have different county info, but the question mentions using the `frpm` data.\n",
      "\n",
      "So, the plan is to select the maximum of (`Free Meal Count (K-12)` / `Enrollment (K-12)`) from the `frpm` table where `County Name` is 'Alameda County'.\n",
      "\n",
      "But wait, I need to make sure that the `County Name` is correctly spelled and matches the data. Also, the `frpm` table has a foreign key to `schools` via `CDSCode`, but maybe the county info is already in `frpm` so joining isn't necessary. Let me check the schema again.\n",
      "\n",
      "Yes, `frpm` has `County Name` as a column. So I don't need to join with `schools` for the county. Therefore, the query can be written directly on the `frpm` table.\n",
      "\n",
      "Now, the SQL query would use the MAX function on the division of those two columns. Also, since these are REAL numbers, the division should work. Need to make sure that `Enrollment (K-12)` is not zero to avoid division by zero, but the question might assume that all entries have valid enrollments.\n",
      "\n",
      "So the final query would be:\n",
      "\n",
      "SELECT MAX(`Free Meal Count (K-12)` / `Enrollment (K-12)`) FROM frpm WHERE `County Name` = 'Alameda County';\n",
      "\n",
      "Wait, but the `County Name` might have entries like 'Alameda County' exactly. I should check if the data uses that exact name. Assuming it does, this query should work.\n",
      "\n",
      "Final answer based om reasoning for this model:\n",
      "\n",
      "\n",
      "```\n",
      "SELECT MAX(`Free Meal Count (K-12` / `Enrollment (K-12`) FROM frpm WHERE `County Name` = 'Alameda County';\n",
      "```\n",
      "\n",
      "\n",
      "here is avaliable tables below\n",
      "\n",
      "\n",
      "Table: frpm\n",
      "CREATE TABLE frpm\n",
      "(\n",
      "    CDSCode                                       TEXT not null\n",
      "        primary key,\n",
      "    `Academic Year`                               TEXT  null,\n",
      "    `County Code`                                 TEXT  null,\n",
      "    `District Code`                               INTEGER         null,\n",
      "    `School Code`                                 TEXT  null,\n",
      "    `County Name`                                 TEXT null,\n",
      "    `District Name`                               TEXT null,\n",
      "    `School Name`                                 TEXT null,\n",
      "    `District Type`                               TEXT null,\n",
      "    `School Type`                                 TEXT null,\n",
      "    `Educational Option Type`                     TEXT null,\n",
      "    `NSLP Provision Status`                       TEXT null,\n",
      "    `Charter School (Y/N)`                        INTEGER    null,\n",
      "    `Charter School Number`                       TEXT  null,\n",
      "    `Charter Funding Type`                        TEXT null,\n",
      "    IRC                                           INTEGER    null,\n",
      "    `Low Grade`                                   TEXT  null,\n",
      "    `High Grade`                                  TEXT null,\n",
      "    `Enrollment (K-12)`                           REAL      null,\n",
      "    `Free Meal Count (K-12)`                      REAL       null,\n",
      "    `Percent (%) Eligible Free (K-12)`            REAL       null,\n",
      "    `FRPM Count (K-12)`                           REAL       null,\n",
      "    `Percent (%) Eligible FRPM (K-12)`            REAL       null,\n",
      "    `Enrollment (Ages 5-17)`                      REAL       null,\n",
      "    `Free Meal Count (Ages 5-17)`                 REAL       null,\n",
      "    `Percent (%) Eligible Free (Ages 5-17)`       REAL       null,\n",
      "    `FRPM Count (Ages 5-17)`                      REAL       null,\n",
      "    `Percent (%) Eligible FRPM (Ages 5-17)`       REAL       null,\n",
      "    `2013-14 CALPADS Fall 1 Certification Status` INTEGER    null,\n",
      "    foreign key (CDSCode) references schools (CDSCode)\n",
      ")\n",
      "\n",
      "Table: satscores\n",
      "CREATE TABLE satscores\n",
      "(\n",
      "    cds         TEXT not null\n",
      "        primary key,\n",
      "    rtype       TEXT  not null,\n",
      "    sname       TEXT null,\n",
      "    dname       TEXT null,\n",
      "    cname       TEXT null,\n",
      "    enroll12    INTEGER         not null,\n",
      "    NumTstTakr  INTEGER          not null,\n",
      "    AvgScrRead  INTEGER          null,\n",
      "    AvgScrMath  INTEGER          null,\n",
      "    AvgScrWrite INTEGER          null,\n",
      "    NumGE1500   INTEGER          null,\n",
      "--     PctGE1500   double      null,\n",
      "        foreign key (cds) references schools (CDSCode)\n",
      ")\n",
      "\n",
      "Table: schools\n",
      "CREATE TABLE schools\n",
      "(\n",
      "    CDSCode     TEXT not null\n",
      "        primary key,\n",
      "    NCESDist    TEXT  null,\n",
      "    NCESSchool  TEXT  null,\n",
      "    StatusType  TEXT  not null,\n",
      "    County      TEXT not null,\n",
      "    District    TEXT not null,\n",
      "    School      TEXT null,\n",
      "    Street      TEXT null,\n",
      "    StreetAbr   TEXT null,\n",
      "    City        TEXT null,\n",
      "    Zip         TEXT null,\n",
      "    State       TEXT  null,\n",
      "    MailStreet  TEXT null,\n",
      "    MailStrAbr  TEXT null,\n",
      "    MailCity    TEXT null,\n",
      "    MailZip     TEXT null,\n",
      "    MailState   TEXT  null,\n",
      "    Phone       TEXT null,\n",
      "    Ext         TEXT  null,\n",
      "    Website     TEXT null,\n",
      "    OpenDate    DATE        null,\n",
      "    ClosedDate  DATE        null,\n",
      "    Charter     INTEGER    null,\n",
      "    CharterNum  TEXT  null,\n",
      "    FundingType TEXT null,\n",
      "    DOC         TEXT  not null,\n",
      "    DOCType     TEXT not null,\n",
      "    SOC         TEXT  null,\n",
      "    SOCType     TEXT null,\n",
      "    EdOpsCode   TEXT  null,\n",
      "    EdOpsName   TEXT null,\n",
      "    EILCode     TEXT  null,\n",
      "    EILName     TEXT null,\n",
      "    GSoffered   TEXT null,\n",
      "    GSserved    TEXT  null,\n",
      "    Virtual     TEXT  null,\n",
      "    Magnet      INTEGER   null,\n",
      "    Latitude    REAL      null,\n",
      "    Longitude   REAL      null,\n",
      "    AdmFName1   TEXT null,\n",
      "    AdmLName1   TEXT null,\n",
      "    AdmEmail1   TEXT null,\n",
      "    AdmFName2   TEXT null,\n",
      "    AdmLName2   TEXT null,\n",
      "    AdmEmail2   TEXT null,\n",
      "    AdmFName3   TEXT  null,\n",
      "    AdmLName3   TEXT null,\n",
      "    AdmEmail3   TEXT null,\n",
      "    LastUpdate  DATE        not null\n",
      ")\n",
      "\n",
      "-- Using valid SQLite and understanding External Knowledge, answer the following questions for the tables provided above.\n",
      "-- What is the highest eligible free rate for K-12 students in the schools in Alameda County?\n",
      "-- External Knowledge: Eligible free rate for K-12 = `Free Meal Count (K-12)` / `Enrollment (K-12)`\n",
      "\n",
      "\n",
      "Generate the SQLite for the above question after thinking step by step: \n",
      "\n",
      "\n",
      "Instructions:\n",
      "- Make sure you only output the information that is asked in the question. If the question asks for a specific column, make sure to only include that column in the SELECT clause, nothing more.\n",
      "- The generated query should return all of the information asked in the question without any missing or extra information.\n",
      "- Before generating the final SQL query, please think through the steps of how to write the query.\n",
      "- Do not misuse column names, keep them in quotes `\n",
      "- Carefully understand what colomns belond to what tables\n",
      "- Use only initial column names, change names prohibited\n",
      "        \n",
      "Output Format:\n",
      "In your answer, please enclose the generated SQL query in a code block:\n",
      "```\n",
      "-- Your SQL query\n",
      "```    \n",
      "and nothing else, no exaplains, no comments (asnwer should be less than 512 characters)\n",
      "\n",
      "Take a deep breath and think step by step to find the correct SQL query in SQLite format.\n",
      "\n",
      "Question repetition: What is the highest eligible free rate for K-12 students in the schools in Alameda County?\n",
      "\n",
      "Be care! Include only what i want it questiona and nothing else<|im_end|>\n",
      "<|im_start|>assistant\n",
      "<think>\n",
      "\n",
      "</think>\n",
      "\n",
      "\n",
      "\n",
      "\n",
      "Максимальное количество токенов в промптах: 10827\n",
      "\n",
      "начинаем скорринг\n",
      "Загружаем чаты с данными...\n",
      "Данные успешно загружены\n",
      "Начали генерацию SQL запросов\n"
     ]
    },
    {
     "name": "stderr",
     "output_type": "stream",
     "text": [
      "Processed prompts: 100%|██████████| 1534/1534 [03:28<00:00,  7.35it/s, est. speed input: 23079.32 toks/s, output: 375.00 toks/s] "
     ]
    },
    {
     "name": "stdout",
     "output_type": "stream",
     "text": [
      "extract_think количество ошибок:  0\n",
      "extract_sql количество ошибок:  0\n",
      "Закончили генерацию SQL запросов\n",
      "Начали скорр полученных SQL запросов\n"
     ]
    },
    {
     "name": "stderr",
     "output_type": "stream",
     "text": [
      "\n"
     ]
    },
    {
     "name": "stdout",
     "output_type": "stream",
     "text": [
      "Qwen3-14B DEV Финальный результат EX: 57.43\n",
      "Qwen3-14B процент запросов, которые успешно выполнились DEV: 97.26%\n",
      "====================================================================================================\n",
      "\n",
      "\n",
      "Загружаем чаты с данными...\n",
      "Данные успешно загружены\n",
      "Начали генерацию SQL запросов\n"
     ]
    },
    {
     "name": "stderr",
     "output_type": "stream",
     "text": [
      "Processed prompts: 100%|██████████| 1534/1534 [03:32<00:00,  7.22it/s, est. speed input: 22664.50 toks/s, output: 367.84 toks/s]"
     ]
    },
    {
     "name": "stdout",
     "output_type": "stream",
     "text": [
      "extract_think количество ошибок:  0\n",
      "extract_sql количество ошибок:  0\n",
      "Закончили генерацию SQL запросов\n",
      "Начали скорр полученных SQL запросов\n"
     ]
    },
    {
     "name": "stderr",
     "output_type": "stream",
     "text": [
      "\n"
     ]
    },
    {
     "name": "stdout",
     "output_type": "stream",
     "text": [
      "Qwen3-14B DEV Финальный результат EX: 57.50\n",
      "Qwen3-14B процент запросов, которые успешно выполнились DEV: 97.26%\n",
      "====================================================================================================\n",
      "\n",
      "\n",
      "Загружаем чаты с данными...\n",
      "Данные успешно загружены\n",
      "Начали генерацию SQL запросов\n"
     ]
    },
    {
     "name": "stderr",
     "output_type": "stream",
     "text": [
      "Processed prompts: 100%|██████████| 1534/1534 [03:30<00:00,  7.29it/s, est. speed input: 23167.00 toks/s, output: 367.82 toks/s] "
     ]
    },
    {
     "name": "stdout",
     "output_type": "stream",
     "text": [
      "extract_think количество ошибок:  0\n",
      "extract_sql количество ошибок:  0\n",
      "Закончили генерацию SQL запросов\n",
      "Начали скорр полученных SQL запросов\n"
     ]
    },
    {
     "name": "stderr",
     "output_type": "stream",
     "text": [
      "\n"
     ]
    },
    {
     "name": "stdout",
     "output_type": "stream",
     "text": [
      "Qwen3-14B DEV Финальный результат EX: 57.24\n",
      "Qwen3-14B процент запросов, которые успешно выполнились DEV: 96.41%\n",
      "====================================================================================================\n",
      "\n",
      "\n",
      "Загружаем чаты с данными...\n",
      "Данные успешно загружены\n",
      "Начали генерацию SQL запросов\n"
     ]
    },
    {
     "name": "stderr",
     "output_type": "stream",
     "text": [
      "Processed prompts: 100%|██████████| 1534/1534 [03:34<00:00,  7.14it/s, est. speed input: 23160.72 toks/s, output: 361.37 toks/s]"
     ]
    },
    {
     "name": "stdout",
     "output_type": "stream",
     "text": [
      "extract_think количество ошибок:  0\n",
      "extract_sql количество ошибок:  0\n",
      "Закончили генерацию SQL запросов\n",
      "Начали скорр полученных SQL запросов\n"
     ]
    },
    {
     "name": "stderr",
     "output_type": "stream",
     "text": [
      "\n"
     ]
    },
    {
     "name": "stdout",
     "output_type": "stream",
     "text": [
      "Qwen3-14B DEV Финальный результат EX: 57.30\n",
      "Qwen3-14B процент запросов, которые успешно выполнились DEV: 95.96%\n",
      "====================================================================================================\n",
      "\n",
      "\n",
      "Загружаем чаты с данными...\n",
      "Данные успешно загружены\n",
      "Начали генерацию SQL запросов\n"
     ]
    },
    {
     "name": "stderr",
     "output_type": "stream",
     "text": [
      "Processed prompts: 100%|██████████| 1534/1534 [03:35<00:00,  7.10it/s, est. speed input: 23100.40 toks/s, output: 362.83 toks/s]"
     ]
    },
    {
     "name": "stdout",
     "output_type": "stream",
     "text": [
      "extract_think количество ошибок:  0\n",
      "extract_sql количество ошибок:  0\n",
      "Закончили генерацию SQL запросов\n",
      "Начали скорр полученных SQL запросов\n"
     ]
    },
    {
     "name": "stderr",
     "output_type": "stream",
     "text": [
      "\n"
     ]
    },
    {
     "name": "stdout",
     "output_type": "stream",
     "text": [
      "Qwen3-14B DEV Финальный результат EX: 56.91\n",
      "Qwen3-14B процент запросов, которые успешно выполнились DEV: 96.35%\n",
      "====================================================================================================\n",
      "\n",
      "\n",
      "Загружаем чаты с данными...\n",
      "Данные успешно загружены\n",
      "Начали генерацию SQL запросов\n"
     ]
    },
    {
     "name": "stderr",
     "output_type": "stream",
     "text": [
      "Processed prompts: 100%|██████████| 1534/1534 [03:21<00:00,  7.62it/s, est. speed input: 22564.75 toks/s, output: 394.03 toks/s] "
     ]
    },
    {
     "name": "stdout",
     "output_type": "stream",
     "text": [
      "extract_think количество ошибок:  0\n",
      "extract_sql количество ошибок:  0\n",
      "Закончили генерацию SQL запросов\n",
      "Начали скорр полученных SQL запросов\n"
     ]
    },
    {
     "name": "stderr",
     "output_type": "stream",
     "text": [
      "\n"
     ]
    },
    {
     "name": "stdout",
     "output_type": "stream",
     "text": [
      "Qwen3-14B DEV Финальный результат EX: 56.98\n",
      "Qwen3-14B процент запросов, которые успешно выполнились DEV: 96.15%\n",
      "====================================================================================================\n",
      "\n",
      "\n",
      "Загружаем чаты с данными...\n",
      "Данные успешно загружены\n",
      "Начали генерацию SQL запросов\n"
     ]
    },
    {
     "name": "stderr",
     "output_type": "stream",
     "text": [
      "Processed prompts: 100%|██████████| 1534/1534 [03:10<00:00,  8.04it/s, est. speed input: 23003.29 toks/s, output: 410.05 toks/s] "
     ]
    },
    {
     "name": "stdout",
     "output_type": "stream",
     "text": [
      "extract_think количество ошибок:  0\n",
      "extract_sql количество ошибок:  0\n",
      "Закончили генерацию SQL запросов\n",
      "Начали скорр полученных SQL запросов\n"
     ]
    },
    {
     "name": "stderr",
     "output_type": "stream",
     "text": [
      "\n"
     ]
    },
    {
     "name": "stdout",
     "output_type": "stream",
     "text": [
      "Qwen3-14B DEV Финальный результат EX: 57.24\n",
      "Qwen3-14B процент запросов, которые успешно выполнились DEV: 95.70%\n",
      "====================================================================================================\n",
      "\n",
      "\n",
      "Загружаем чаты с данными...\n",
      "Данные успешно загружены\n",
      "Начали генерацию SQL запросов\n"
     ]
    },
    {
     "name": "stderr",
     "output_type": "stream",
     "text": [
      "Processed prompts: 100%|██████████| 1534/1534 [03:20<00:00,  7.64it/s, est. speed input: 23343.44 toks/s, output: 388.10 toks/s] "
     ]
    },
    {
     "name": "stdout",
     "output_type": "stream",
     "text": [
      "extract_think количество ошибок:  0\n",
      "extract_sql количество ошибок:  0\n",
      "Закончили генерацию SQL запросов\n",
      "Начали скорр полученных SQL запросов\n"
     ]
    },
    {
     "name": "stderr",
     "output_type": "stream",
     "text": [
      "\n"
     ]
    },
    {
     "name": "stdout",
     "output_type": "stream",
     "text": [
      "Qwen3-14B DEV Финальный результат EX: 57.24\n",
      "Qwen3-14B процент запросов, которые успешно выполнились DEV: 96.35%\n",
      "====================================================================================================\n",
      "\n",
      "\n",
      "Загружаем чаты с данными...\n",
      "Данные успешно загружены\n",
      "Начали генерацию SQL запросов\n"
     ]
    },
    {
     "name": "stderr",
     "output_type": "stream",
     "text": [
      "Processed prompts: 100%|██████████| 1534/1534 [03:23<00:00,  7.52it/s, est. speed input: 23096.23 toks/s, output: 385.89 toks/s] "
     ]
    },
    {
     "name": "stdout",
     "output_type": "stream",
     "text": [
      "extract_think количество ошибок:  0\n",
      "extract_sql количество ошибок:  0\n",
      "Закончили генерацию SQL запросов\n",
      "Начали скорр полученных SQL запросов\n"
     ]
    },
    {
     "name": "stderr",
     "output_type": "stream",
     "text": [
      "\n"
     ]
    },
    {
     "name": "stdout",
     "output_type": "stream",
     "text": [
      "Qwen3-14B DEV Финальный результат EX: 57.43\n",
      "Qwen3-14B процент запросов, которые успешно выполнились DEV: 96.41%\n",
      "====================================================================================================\n",
      "\n",
      "\n",
      "Загружаем чаты с данными...\n",
      "Данные успешно загружены\n",
      "Начали генерацию SQL запросов\n"
     ]
    },
    {
     "name": "stderr",
     "output_type": "stream",
     "text": [
      "Processed prompts: 100%|██████████| 1534/1534 [03:27<00:00,  7.39it/s, est. speed input: 23130.40 toks/s, output: 377.50 toks/s] "
     ]
    },
    {
     "name": "stdout",
     "output_type": "stream",
     "text": [
      "extract_think количество ошибок:  0\n",
      "extract_sql количество ошибок:  0\n",
      "Закончили генерацию SQL запросов\n",
      "Начали скорр полученных SQL запросов\n"
     ]
    },
    {
     "name": "stderr",
     "output_type": "stream",
     "text": [
      "\n"
     ]
    },
    {
     "name": "stdout",
     "output_type": "stream",
     "text": [
      "Qwen3-14B DEV Финальный результат EX: 57.63\n",
      "Qwen3-14B процент запросов, которые успешно выполнились DEV: 96.28%\n",
      "====================================================================================================\n",
      "\n",
      "\n",
      "Загружаем чаты с данными...\n",
      "Данные успешно загружены\n",
      "Начали генерацию SQL запросов\n"
     ]
    },
    {
     "name": "stderr",
     "output_type": "stream",
     "text": [
      "Processed prompts: 100%|██████████| 1534/1534 [03:29<00:00,  7.31it/s, est. speed input: 22772.34 toks/s, output: 375.80 toks/s]"
     ]
    },
    {
     "name": "stdout",
     "output_type": "stream",
     "text": [
      "extract_think количество ошибок:  0\n",
      "extract_sql количество ошибок:  0\n",
      "Закончили генерацию SQL запросов\n",
      "Начали скорр полученных SQL запросов\n"
     ]
    },
    {
     "name": "stderr",
     "output_type": "stream",
     "text": [
      "\n"
     ]
    },
    {
     "name": "stdout",
     "output_type": "stream",
     "text": [
      "Qwen3-14B DEV Финальный результат EX: 58.15\n",
      "Qwen3-14B процент запросов, которые успешно выполнились DEV: 96.54%\n",
      "====================================================================================================\n",
      "\n",
      "\n",
      "Загружаем чаты с данными...\n",
      "Данные успешно загружены\n",
      "Начали генерацию SQL запросов\n"
     ]
    },
    {
     "name": "stderr",
     "output_type": "stream",
     "text": [
      "Processed prompts: 100%|██████████| 1534/1534 [03:25<00:00,  7.47it/s, est. speed input: 22899.19 toks/s, output: 380.89 toks/s]"
     ]
    },
    {
     "name": "stdout",
     "output_type": "stream",
     "text": [
      "extract_think количество ошибок:  0\n",
      "extract_sql количество ошибок:  0\n",
      "Закончили генерацию SQL запросов\n",
      "Начали скорр полученных SQL запросов\n"
     ]
    },
    {
     "name": "stderr",
     "output_type": "stream",
     "text": [
      "\n"
     ]
    },
    {
     "name": "stdout",
     "output_type": "stream",
     "text": [
      "Qwen3-14B DEV Финальный результат EX: 57.56\n",
      "Qwen3-14B процент запросов, которые успешно выполнились DEV: 96.61%\n",
      "====================================================================================================\n",
      "\n",
      "\n",
      "Загружаем чаты с данными...\n",
      "Данные успешно загружены\n",
      "Начали генерацию SQL запросов\n"
     ]
    },
    {
     "name": "stderr",
     "output_type": "stream",
     "text": [
      "Processed prompts: 100%|██████████| 1534/1534 [03:27<00:00,  7.38it/s, est. speed input: 23426.21 toks/s, output: 376.97 toks/s] "
     ]
    },
    {
     "name": "stdout",
     "output_type": "stream",
     "text": [
      "extract_think количество ошибок:  0\n",
      "extract_sql количество ошибок:  0\n",
      "Закончили генерацию SQL запросов\n",
      "Начали скорр полученных SQL запросов\n"
     ]
    },
    {
     "name": "stderr",
     "output_type": "stream",
     "text": [
      "\n"
     ]
    },
    {
     "name": "stdout",
     "output_type": "stream",
     "text": [
      "Qwen3-14B DEV Финальный результат EX: 58.02\n",
      "Qwen3-14B процент запросов, которые успешно выполнились DEV: 96.09%\n",
      "====================================================================================================\n",
      "\n",
      "\n",
      "Загружаем чаты с данными...\n",
      "Данные успешно загружены\n",
      "Начали генерацию SQL запросов\n"
     ]
    },
    {
     "name": "stderr",
     "output_type": "stream",
     "text": [
      "Processed prompts: 100%|██████████| 1534/1534 [02:56<00:00,  8.70it/s, est. speed input: 24041.63 toks/s, output: 437.00 toks/s] "
     ]
    },
    {
     "name": "stdout",
     "output_type": "stream",
     "text": [
      "extract_think количество ошибок:  0\n",
      "extract_sql количество ошибок:  0\n",
      "Закончили генерацию SQL запросов\n",
      "Начали скорр полученных SQL запросов\n"
     ]
    },
    {
     "name": "stderr",
     "output_type": "stream",
     "text": [
      "\n"
     ]
    },
    {
     "name": "stdout",
     "output_type": "stream",
     "text": [
      "Qwen3-14B DEV Финальный результат EX: 57.63\n",
      "Qwen3-14B процент запросов, которые успешно выполнились DEV: 96.74%\n",
      "====================================================================================================\n",
      "\n",
      "\n",
      "Загружаем чаты с данными...\n",
      "Данные успешно загружены\n",
      "Начали генерацию SQL запросов\n"
     ]
    },
    {
     "name": "stderr",
     "output_type": "stream",
     "text": [
      "Processed prompts: 100%|██████████| 1534/1534 [02:32<00:00, 10.08it/s, est. speed input: 24356.13 toks/s, output: 499.23 toks/s] "
     ]
    },
    {
     "name": "stdout",
     "output_type": "stream",
     "text": [
      "extract_think количество ошибок:  0\n",
      "extract_sql количество ошибок:  0\n",
      "Закончили генерацию SQL запросов\n",
      "Начали скорр полученных SQL запросов\n"
     ]
    },
    {
     "name": "stderr",
     "output_type": "stream",
     "text": [
      "\n"
     ]
    },
    {
     "name": "stdout",
     "output_type": "stream",
     "text": [
      "Qwen3-14B DEV Финальный результат EX: 56.91\n",
      "Qwen3-14B процент запросов, которые успешно выполнились DEV: 95.18%\n",
      "====================================================================================================\n",
      "\n",
      "\n",
      "Загружаем чаты с данными...\n",
      "Данные успешно загружены\n",
      "Начали генерацию SQL запросов\n"
     ]
    },
    {
     "name": "stderr",
     "output_type": "stream",
     "text": [
      "Processed prompts: 100%|██████████| 1534/1534 [02:58<00:00,  8.60it/s, est. speed input: 23809.73 toks/s, output: 438.65 toks/s] "
     ]
    },
    {
     "name": "stdout",
     "output_type": "stream",
     "text": [
      "extract_think количество ошибок:  0\n",
      "extract_sql количество ошибок:  0\n",
      "Закончили генерацию SQL запросов\n",
      "Начали скорр полученных SQL запросов\n"
     ]
    },
    {
     "name": "stderr",
     "output_type": "stream",
     "text": [
      "\n"
     ]
    },
    {
     "name": "stdout",
     "output_type": "stream",
     "text": [
      "Qwen3-14B DEV Финальный результат EX: 57.76\n",
      "Qwen3-14B процент запросов, которые успешно выполнились DEV: 95.89%\n",
      "====================================================================================================\n",
      "\n",
      "\n",
      "Загружаем чаты с данными...\n",
      "Данные успешно загружены\n",
      "Начали генерацию SQL запросов\n"
     ]
    },
    {
     "name": "stderr",
     "output_type": "stream",
     "text": [
      "Processed prompts: 100%|██████████| 1534/1534 [03:22<00:00,  7.59it/s, est. speed input: 23154.08 toks/s, output: 388.79 toks/s] "
     ]
    },
    {
     "name": "stdout",
     "output_type": "stream",
     "text": [
      "extract_think количество ошибок:  0\n",
      "extract_sql количество ошибок:  0\n",
      "Закончили генерацию SQL запросов\n",
      "Начали скорр полученных SQL запросов\n"
     ]
    },
    {
     "name": "stderr",
     "output_type": "stream",
     "text": [
      "\n"
     ]
    },
    {
     "name": "stdout",
     "output_type": "stream",
     "text": [
      "Qwen3-14B DEV Финальный результат EX: 57.82\n",
      "Qwen3-14B процент запросов, которые успешно выполнились DEV: 96.35%\n",
      "====================================================================================================\n",
      "\n",
      "\n",
      "Загружаем чаты с данными...\n",
      "Данные успешно загружены\n",
      "Начали генерацию SQL запросов\n"
     ]
    },
    {
     "name": "stderr",
     "output_type": "stream",
     "text": [
      "Processed prompts: 100%|██████████| 1534/1534 [03:29<00:00,  7.34it/s, est. speed input: 23238.34 toks/s, output: 378.09 toks/s] "
     ]
    },
    {
     "name": "stdout",
     "output_type": "stream",
     "text": [
      "extract_think количество ошибок:  0\n",
      "extract_sql количество ошибок:  0\n",
      "Закончили генерацию SQL запросов\n",
      "Начали скорр полученных SQL запросов\n"
     ]
    },
    {
     "name": "stderr",
     "output_type": "stream",
     "text": [
      "\n"
     ]
    },
    {
     "name": "stdout",
     "output_type": "stream",
     "text": [
      "Qwen3-14B DEV Финальный результат EX: 57.37\n",
      "Qwen3-14B процент запросов, которые успешно выполнились DEV: 96.22%\n",
      "====================================================================================================\n",
      "\n",
      "\n",
      "Загружаем чаты с данными...\n",
      "Данные успешно загружены\n",
      "Начали генерацию SQL запросов\n"
     ]
    },
    {
     "name": "stderr",
     "output_type": "stream",
     "text": [
      "Processed prompts: 100%|██████████| 1534/1534 [03:30<00:00,  7.30it/s, est. speed input: 23366.21 toks/s, output: 374.71 toks/s] "
     ]
    },
    {
     "name": "stdout",
     "output_type": "stream",
     "text": [
      "extract_think количество ошибок:  0\n",
      "extract_sql количество ошибок:  0\n",
      "Закончили генерацию SQL запросов\n",
      "Начали скорр полученных SQL запросов\n"
     ]
    },
    {
     "name": "stderr",
     "output_type": "stream",
     "text": [
      "\n"
     ]
    },
    {
     "name": "stdout",
     "output_type": "stream",
     "text": [
      "Qwen3-14B DEV Финальный результат EX: 57.89\n",
      "Qwen3-14B процент запросов, которые успешно выполнились DEV: 96.74%\n",
      "====================================================================================================\n",
      "\n",
      "\n",
      "Загружаем чаты с данными...\n",
      "Данные успешно загружены\n",
      "Начали генерацию SQL запросов\n"
     ]
    },
    {
     "name": "stderr",
     "output_type": "stream",
     "text": [
      "Processed prompts: 100%|██████████| 1534/1534 [03:27<00:00,  7.38it/s, est. speed input: 23326.69 toks/s, output: 377.24 toks/s] "
     ]
    },
    {
     "name": "stdout",
     "output_type": "stream",
     "text": [
      "extract_think количество ошибок:  0\n",
      "extract_sql количество ошибок:  0\n",
      "Закончили генерацию SQL запросов\n",
      "Начали скорр полученных SQL запросов\n"
     ]
    },
    {
     "name": "stderr",
     "output_type": "stream",
     "text": [
      "\n"
     ]
    },
    {
     "name": "stdout",
     "output_type": "stream",
     "text": [
      "Qwen3-14B DEV Финальный результат EX: 58.02\n",
      "Qwen3-14B процент запросов, которые успешно выполнились DEV: 96.35%\n",
      "====================================================================================================\n",
      "\n",
      "\n"
     ]
    }
   ],
   "source": [
    "run_cot_experiment(model,arr_seeds,arr_versions, type_cot, num_observations=num_observations)"
   ]
  },
  {
   "cell_type": "markdown",
   "id": "6046825c-8b23-4466-9c8c-2bd8d22da520",
   "metadata": {},
   "source": [
    "## 3 наблюдения"
   ]
  },
  {
   "cell_type": "code",
   "execution_count": 5,
   "id": "087d84b5-c110-41ff-a60d-7dbdeb15ffce",
   "metadata": {},
   "outputs": [
    {
     "name": "stdout",
     "output_type": "stream",
     "text": [
      "[226, 208, 225, 7, 900, 263, 196, 776, 153, 630, 993, 878, 298, 973, 799, 880, 934, 150, 222, 800]\n",
      "model: Qwen3-14B\n"
     ]
    }
   ],
   "source": [
    "n= 20\n",
    "arr_seeds = [random.randint(0,1000) for _ in range(n)]\n",
    "arr_versions = [x for x in range(n)]\n",
    "model = \"Qwen3-14B\"\n",
    "num_observations = 3\n",
    "type_cot = 'all_new'\n",
    "print(arr_seeds)\n",
    "print(f\"model: {model}\")"
   ]
  },
  {
   "cell_type": "code",
   "execution_count": 6,
   "id": "75073cd5-a80a-47f6-90d0-af48f09fc511",
   "metadata": {
    "scrolled": true
   },
   "outputs": [
    {
     "name": "stdout",
     "output_type": "stream",
     "text": [
      "Загружаем модель...\n"
     ]
    },
    {
     "name": "stderr",
     "output_type": "stream",
     "text": [
      "Loading safetensors checkpoint shards:   0% Completed | 0/8 [00:00<?, ?it/s]\n",
      "Loading safetensors checkpoint shards:  12% Completed | 1/8 [00:01<00:09,  1.41s/it]\n",
      "Loading safetensors checkpoint shards:  25% Completed | 2/8 [00:02<00:08,  1.40s/it]\n",
      "Loading safetensors checkpoint shards:  38% Completed | 3/8 [00:04<00:07,  1.40s/it]\n",
      "Loading safetensors checkpoint shards:  50% Completed | 4/8 [00:05<00:05,  1.39s/it]\n",
      "Loading safetensors checkpoint shards:  62% Completed | 5/8 [00:06<00:04,  1.39s/it]\n",
      "Loading safetensors checkpoint shards:  75% Completed | 6/8 [00:07<00:02,  1.16s/it]\n",
      "Loading safetensors checkpoint shards:  88% Completed | 7/8 [00:09<00:01,  1.22s/it]\n",
      "Loading safetensors checkpoint shards: 100% Completed | 8/8 [00:10<00:00,  1.27s/it]\n",
      "Loading safetensors checkpoint shards: 100% Completed | 8/8 [00:10<00:00,  1.30s/it]\n",
      "\u001b[1;36m(VllmWorker rank=0 pid=486409)\u001b[0;0m \n"
     ]
    },
    {
     "name": "stdout",
     "output_type": "stream",
     "text": [
      "Модель успешно загружена\n",
      "model_config {'model': '/data/home/vkropoti/models/Qwen3-14B', 'tensor_parallel_size': 2, 'max_model_len': 40000, 'max_new_tokens': 1500, 'temperature': 0, 'top_k': 1, 'top_p': 0.8, 'gpu_memory_utilization': 0.9, 'trust_remote_code': False, 'seed': 226}\n",
      "\n",
      "prompts_config {'path_dev_json': '/home/vkropoti/vllm/dev.json', 'path_sql_dbs': '/data/home/vkropoti/sql_data/dev_databases/', 'use_reasoning': False, 'paths_to_cot': ['/data/home/vkropoti/sql_llm_answers/bird_dev/sql_all_new_Qwen3-14B-reasoning-v0', '/data/home/vkropoti/sql_llm_answers/bird_dev/sql_all_new_Qwen3-14B-reasoning-v1', '/data/home/vkropoti/sql_llm_answers/bird_dev/sql_all_new_Qwen3-14B-reasoning-v2']}\n",
      "\n",
      "save_config {'path_sql_save': '/data/home/vkropoti/sql_llm_answers/bird_dev/sql_all_Qwen3-14B-cot_all_new_think==False_nobs3-v0', 'path_think_save': None, 'path_sql_answers_save': '/data/home/vkropoti/sql_llm_answers/bird_dev/sql_predict_Qwen3-14B-cot_all_new_think==False_nobs3-v0', 'path_to_save_scores': '/data/home/vkropoti/sql_llm_answers/bird_dev/sql_results_Qwen3-14B-cot_all_new_think==False_nobs3-v0', 'path_to_save_executed': '/data/home/vkropoti/sql_llm_answers/bird_dev/sql_executed_Qwen3-14B-cot_all_new_think==False_nobs3-v0'}\n",
      "\n",
      "Модель успешно загружена\n",
      "Пример промпта\n",
      "<|im_start|>system\n",
      "\n",
      "You are a data science expert. Below, you are provided with a database schema and a natural language question. Your task is to understand the schema and generate a valid SQL query to answer the question.\n",
      "\n",
      "Database Engine: SQLite\n",
      "\n",
      "You will be given an additional analysis of other models, please take it into account, so the plan is\n",
      "1. Analyse given addition analysis from other models (find in which analysis the same and differ, how to use that to answer question)\n",
      "2. Combine best from previous part and think how to solve the problem (analyze tables, take care what columns avaliable in each table and so on, check the syntacsis)\n",
      "3. Create the answers. The answer should be only sql query.\n",
      "\n",
      "Carefully follow the instruction and add <|im_end|> and the end of the final answer<|im_end|>\n",
      "<|im_start|>user\n",
      "Here is addition analysis from other models which can be helpfull, please take this into account but be careful (choose the best from each analysis, combine them to make the most proper answer):\n",
      "\n",
      "model 0 analysis:\n",
      " Reasoning process:\n",
      "\n",
      "Okay, let's see. The user is asking for the highest eligible free rate for K-12 students in schools located in Alameda County. \n",
      "\n",
      "First, I need to figure out which tables are relevant here. The question mentions \"eligible free rate,\" which is calculated as `Free Meal Count (K-12)` divided by `Enrollment (K-12)`. Looking at the tables provided, the `frpm` table contains these exact columns: `Free Meal Count (K-12)` and `Enrollment (K-12)`. So, the calculation will be done using the `frpm` table.\n",
      "\n",
      "Next, the schools need to be in Alameda County. The `County` column is present in the `schools` table. But the `frpm` table has a `County Name` column. Wait, but the user is asking for schools in Alameda County. Which table's county field should I use? The `frpm` table has a `County Name` column, and the `schools` table has a `County` column. However, since the `frpm` table has a foreign key relationship with `schools` via `CDSCode`, maybe I need to join the two tables to get the county information from `schools`?\n",
      "\n",
      "Wait, the question says \"schools in Alameda County.\" So the county is determined by the school's county, which is in the `schools` table. Therefore, I should join `frpm` with `schools` on `CDSCode` to get the `County` from `schools` and filter where that county is 'Alameda'.\n",
      "\n",
      "But let me check the schema again. The `frpm` table has a `County Name` column. However, the `schools` table has a `County` column. Maybe the `frpm` is referencing the schools' county, but perhaps the `County Name` in `frpm` is redundant. However, the user wants to filter based on the school's county, which is in the `schools` table. Therefore, to get accurate information, I should join `frpm` with `schools` on `CDSCode` and then filter `schools.County = 'Alameda'`.\n",
      "\n",
      "So the steps are:\n",
      "\n",
      "1. Join `frpm` and `schools` on `CDSCode`.\n",
      "2. Filter where `schools.County = 'Alameda'`.\n",
      "3. Calculate the eligible free rate as `Free Meal Count (K-12)` / `Enrollment (K-12)`.\n",
      "4. Find the maximum value of this calculated rate.\n",
      "\n",
      "But wait, in the `frpm` table, there's also a `County Name` column. Could that be used instead? However, the `schools` table's `County` might be more reliable. For example, if a school is in Alameda County, the `schools` table's `County` should be 'Alameda', whereas the `County Name` in `frpm` might be the same. But since the `frpm` has a foreign key to `schools`, perhaps the county is consistent between both tables. However, to be safe, using `schools.County = 'Alameda'` is better because that's the school's actual county.\n",
      "\n",
      "So, the query would involve joining `frpm` with `schools` where `CDSCode` matches. Then, filter on `schools.County = 'Alameda'`. Then calculate the rate and find the maximum.\n",
      "\n",
      "But what if there are multiple entries in `frpm` for the same school? The `frpm` table has `CDSCode` as primary key, so each school has one entry in `frpm`. So the join is straightforward.\n",
      "\n",
      "Now, the SQL query would select the maximum of (Free Meal Count / Enrollment) where the county is Alameda. The columns are in the `frpm` table, so after joining with `schools` to get the county.\n",
      "\n",
      "So the query would be:\n",
      "\n",
      "SELECT MAX(`Free Meal Count (K-12)` / `Enrollment (K-12)`) AS highest_rate\n",
      "FROM frpm\n",
      "JOIN schools ON frpm.CDSCode = schools.CDSCode\n",
      "WHERE schools.County = 'Alameda';\n",
      "\n",
      "But I need to make sure that the `Enrollment (K-12)` is not zero to avoid division by zero. However, the question might assume that all entries have valid enrollment numbers. If not, perhaps a WHERE clause to exclude zero enrollments. But since the problem doesn't mention handling that, maybe it's safe to proceed without it.\n",
      "\n",
      "Also, the `frpm` table has `Enrollment (K-12)` as a REAL, so division should be handled as floating points.\n",
      "\n",
      "So the final SQL is as above, selecting the MAX of the calculated rate, joining on CDSCode, and filtering for Alameda County in the schools table.\n",
      "\n",
      "Final answer based om reasoning for this model:\n",
      "\n",
      "\n",
      "```\n",
      "SELECT MAX(`Free Meal Count (K-12` / `Enrollment (K-12`) FROM frpm JOIN schools ON frpm.CDSCode = schools.CDSCode WHERE schools.County = 'Alameda';\n",
      "```\n",
      "\n",
      "model 1 analysis:\n",
      " Reasoning process:\n",
      "\n",
      "Okay, I need to find the highest eligible free rate for K-12 students in schools located in Alameda County. Let me break this down.\n",
      "\n",
      "First, the eligible free rate is calculated as `Free Meal Count (K-12)` divided by `Enrollment (K-12)`. The question is asking for the maximum value of this rate among schools in Alameda County.\n",
      "\n",
      "Looking at the tables, the `frpm` table has both `Free Meal Count (K-12)` and `Enrollment (K-12)` columns. Also, the `frpm` table has a `County Name` column which should be used to filter for Alameda County.\n",
      "\n",
      "Wait, but there's also a `schools` table with a `County` column. However, the `frpm` table's `County Name` is likely the correct one to use since it's part of the same dataset. The `schools` table might have different county info, but the question mentions using the `frpm` data.\n",
      "\n",
      "So, the plan is to select the maximum of (`Free Meal Count (K-12)` / `Enrollment (K-12)`) from the `frpm` table where `County Name` is 'Alameda County'.\n",
      "\n",
      "But wait, I need to make sure that the `County Name` is correctly spelled and matches the data. Also, the `frpm` table has a foreign key to `schools` via `CDSCode`, but maybe the county info is already in `frpm` so joining isn't necessary. Let me check the schema again.\n",
      "\n",
      "Yes, `frpm` has `County Name` as a column. So I don't need to join with `schools` for the county. Therefore, the query can be written directly on the `frpm` table.\n",
      "\n",
      "Now, the SQL query would use the MAX function on the division of those two columns. Also, since these are REAL numbers, the division should work. Need to make sure that `Enrollment (K-12)` is not zero to avoid division by zero, but the question might assume that all entries have valid enrollments.\n",
      "\n",
      "So the final query would be:\n",
      "\n",
      "SELECT MAX(`Free Meal Count (K-12)` / `Enrollment (K-12)`) FROM frpm WHERE `County Name` = 'Alameda County';\n",
      "\n",
      "Wait, but the `County Name` might have entries like 'Alameda County' exactly. I should check if the data uses that exact name. Assuming it does, this query should work.\n",
      "\n",
      "Final answer based om reasoning for this model:\n",
      "\n",
      "\n",
      "```\n",
      "SELECT MAX(`Free Meal Count (K-12` / `Enrollment (K-12`) FROM frpm WHERE `County Name` = 'Alameda County';\n",
      "```\n",
      "\n",
      "model 2 analysis:\n",
      " Reasoning process:\n",
      "\n",
      "Okay, let's see. The user is asking for the highest eligible free rate for K-12 students in Alameda County. The eligible free rate is calculated as Free Meal Count (K-12) divided by Enrollment (K-12). \n",
      "\n",
      "First, I need to figure out which tables have the necessary data. The frpm table has columns for Free Meal Count (K-12) and Enrollment (K-12), which are needed for the calculation. Also, the frpm table has a County Name column, which I can use to filter for Alameda County.\n",
      "\n",
      "Wait, but the schools table also has a County column. Hmm, but the frpm table has a foreign key to schools, so maybe the County Name in frpm is redundant? But the user's question specifies using the county from the schools table? Or maybe not. Let me check the schema again.\n",
      "\n",
      "Looking at the frpm table's columns, there's a `County Name` field. The schools table has a `County` field. But the question is about Alameda County, so I need to make sure which table's county field is correct. However, since the frpm table has a foreign key to schools, perhaps the county in frpm is derived from schools. But maybe the question uses the `County Name` from frpm directly. The user's instruction says to use the column names as they are, so I should check the frpm table's columns.\n",
      "\n",
      "So, to filter for Alameda County, I need to use the `County Name` column in the frpm table. Wait, but maybe the schools table's County is more accurate? The problem says to use the columns as they are. Let me recheck the tables.\n",
      "\n",
      "In the frpm table, there's `County Name`, and in schools, there's `County`. The user's question is about schools in Alameda County. If the frpm table's `County Name` is the correct county for the school, then using that would be better. Alternatively, since the frpm table references schools, maybe the county from the schools table is more accurate. But the user hasn't specified which one to use. However, since the frpm table has `County Name` and the question is about schools in Alameda County, I think the correct approach is to use the `County Name` from the frpm table because that's the county associated with the school in the frpm context.\n",
      "\n",
      "Wait, but the problem says to use the columns as they are. Let me look again. The frpm table has `County Name` as a column. The schools table has `County`. The user's question is about schools in Alameda County. Since the frpm table has a foreign key to schools, perhaps the county in frpm is the same as in schools. However, if the question is about the schools' county, then using the schools table's County would be more accurate. But without more info, perhaps the user expects using the `County Name` from the frpm table. Alternatively, maybe the schools table's County is the correct one. However, the question mentions \"schools in Alameda County\" which would be in the schools table's County field. But since the frpm table has the county name, maybe the user expects that.\n",
      "\n",
      "Alternatively, maybe the frpm table's `County Name` is redundant and the schools table's County is the correct one. However, since the frpm table has that field, maybe the user expects to use it. But I need to check the correct way. Let's think: the frpm table has the `County Name` as a column. So, if a school is in Alameda County, the `County Name` in frpm should be 'Alameda County'. So, the correct filter is `frpm.\"County Name\" = 'Alameda County'`.\n",
      "\n",
      "Now, the calculation is Free Meal Count (K-12) / Enrollment (K-12). The frpm table has both columns. So the SQL would select the maximum of that ratio. So the query would be:\n",
      "\n",
      "SELECT MAX(`Free Meal Count (K-12)` / `Enrollment (K-12)`) FROM frpm WHERE `County Name` = 'Alameda County';\n",
      "\n",
      "Wait, but the user wants the highest rate, so MAX of that calculation. That's correct.\n",
      "\n",
      "But need to ensure that both columns are not null, but the question doesn't mention handling nulls. So assuming that where the data is present, the division is valid.\n",
      "\n",
      "Therefore, the final query is selecting the maximum of that ratio from the frpm table where the county name is Alameda County.\n",
      "\n",
      "Final answer based om reasoning for this model:\n",
      "\n",
      "\n",
      "```\n",
      "SELECT MAX(`Free Meal Count (K-12)` / `Enrollment (K-12)`) FROM frpm WHERE `County Name` = 'Alameda County';\n",
      "```\n",
      "\n",
      "\n",
      "here is avaliable tables below\n",
      "\n",
      "\n",
      "Table: frpm\n",
      "CREATE TABLE frpm\n",
      "(\n",
      "    CDSCode                                       TEXT not null\n",
      "        primary key,\n",
      "    `Academic Year`                               TEXT  null,\n",
      "    `County Code`                                 TEXT  null,\n",
      "    `District Code`                               INTEGER         null,\n",
      "    `School Code`                                 TEXT  null,\n",
      "    `County Name`                                 TEXT null,\n",
      "    `District Name`                               TEXT null,\n",
      "    `School Name`                                 TEXT null,\n",
      "    `District Type`                               TEXT null,\n",
      "    `School Type`                                 TEXT null,\n",
      "    `Educational Option Type`                     TEXT null,\n",
      "    `NSLP Provision Status`                       TEXT null,\n",
      "    `Charter School (Y/N)`                        INTEGER    null,\n",
      "    `Charter School Number`                       TEXT  null,\n",
      "    `Charter Funding Type`                        TEXT null,\n",
      "    IRC                                           INTEGER    null,\n",
      "    `Low Grade`                                   TEXT  null,\n",
      "    `High Grade`                                  TEXT null,\n",
      "    `Enrollment (K-12)`                           REAL      null,\n",
      "    `Free Meal Count (K-12)`                      REAL       null,\n",
      "    `Percent (%) Eligible Free (K-12)`            REAL       null,\n",
      "    `FRPM Count (K-12)`                           REAL       null,\n",
      "    `Percent (%) Eligible FRPM (K-12)`            REAL       null,\n",
      "    `Enrollment (Ages 5-17)`                      REAL       null,\n",
      "    `Free Meal Count (Ages 5-17)`                 REAL       null,\n",
      "    `Percent (%) Eligible Free (Ages 5-17)`       REAL       null,\n",
      "    `FRPM Count (Ages 5-17)`                      REAL       null,\n",
      "    `Percent (%) Eligible FRPM (Ages 5-17)`       REAL       null,\n",
      "    `2013-14 CALPADS Fall 1 Certification Status` INTEGER    null,\n",
      "    foreign key (CDSCode) references schools (CDSCode)\n",
      ")\n",
      "\n",
      "Table: satscores\n",
      "CREATE TABLE satscores\n",
      "(\n",
      "    cds         TEXT not null\n",
      "        primary key,\n",
      "    rtype       TEXT  not null,\n",
      "    sname       TEXT null,\n",
      "    dname       TEXT null,\n",
      "    cname       TEXT null,\n",
      "    enroll12    INTEGER         not null,\n",
      "    NumTstTakr  INTEGER          not null,\n",
      "    AvgScrRead  INTEGER          null,\n",
      "    AvgScrMath  INTEGER          null,\n",
      "    AvgScrWrite INTEGER          null,\n",
      "    NumGE1500   INTEGER          null,\n",
      "--     PctGE1500   double      null,\n",
      "        foreign key (cds) references schools (CDSCode)\n",
      ")\n",
      "\n",
      "Table: schools\n",
      "CREATE TABLE schools\n",
      "(\n",
      "    CDSCode     TEXT not null\n",
      "        primary key,\n",
      "    NCESDist    TEXT  null,\n",
      "    NCESSchool  TEXT  null,\n",
      "    StatusType  TEXT  not null,\n",
      "    County      TEXT not null,\n",
      "    District    TEXT not null,\n",
      "    School      TEXT null,\n",
      "    Street      TEXT null,\n",
      "    StreetAbr   TEXT null,\n",
      "    City        TEXT null,\n",
      "    Zip         TEXT null,\n",
      "    State       TEXT  null,\n",
      "    MailStreet  TEXT null,\n",
      "    MailStrAbr  TEXT null,\n",
      "    MailCity    TEXT null,\n",
      "    MailZip     TEXT null,\n",
      "    MailState   TEXT  null,\n",
      "    Phone       TEXT null,\n",
      "    Ext         TEXT  null,\n",
      "    Website     TEXT null,\n",
      "    OpenDate    DATE        null,\n",
      "    ClosedDate  DATE        null,\n",
      "    Charter     INTEGER    null,\n",
      "    CharterNum  TEXT  null,\n",
      "    FundingType TEXT null,\n",
      "    DOC         TEXT  not null,\n",
      "    DOCType     TEXT not null,\n",
      "    SOC         TEXT  null,\n",
      "    SOCType     TEXT null,\n",
      "    EdOpsCode   TEXT  null,\n",
      "    EdOpsName   TEXT null,\n",
      "    EILCode     TEXT  null,\n",
      "    EILName     TEXT null,\n",
      "    GSoffered   TEXT null,\n",
      "    GSserved    TEXT  null,\n",
      "    Virtual     TEXT  null,\n",
      "    Magnet      INTEGER   null,\n",
      "    Latitude    REAL      null,\n",
      "    Longitude   REAL      null,\n",
      "    AdmFName1   TEXT null,\n",
      "    AdmLName1   TEXT null,\n",
      "    AdmEmail1   TEXT null,\n",
      "    AdmFName2   TEXT null,\n",
      "    AdmLName2   TEXT null,\n",
      "    AdmEmail2   TEXT null,\n",
      "    AdmFName3   TEXT  null,\n",
      "    AdmLName3   TEXT null,\n",
      "    AdmEmail3   TEXT null,\n",
      "    LastUpdate  DATE        not null\n",
      ")\n",
      "\n",
      "-- Using valid SQLite and understanding External Knowledge, answer the following questions for the tables provided above.\n",
      "-- What is the highest eligible free rate for K-12 students in the schools in Alameda County?\n",
      "-- External Knowledge: Eligible free rate for K-12 = `Free Meal Count (K-12)` / `Enrollment (K-12)`\n",
      "\n",
      "\n",
      "Generate the SQLite for the above question after thinking step by step: \n",
      "\n",
      "\n",
      "Instructions:\n",
      "- Make sure you only output the information that is asked in the question. If the question asks for a specific column, make sure to only include that column in the SELECT clause, nothing more.\n",
      "- The generated query should return all of the information asked in the question without any missing or extra information.\n",
      "- Before generating the final SQL query, please think through the steps of how to write the query.\n",
      "- Do not misuse column names, keep them in quotes `\n",
      "- Carefully understand what colomns belond to what tables\n",
      "- Use only initial column names, change names prohibited\n",
      "        \n",
      "Output Format:\n",
      "In your answer, please enclose the generated SQL query in a code block:\n",
      "```\n",
      "-- Your SQL query\n",
      "```    \n",
      "and nothing else, no exaplains, no comments (asnwer should be less than 512 characters)\n",
      "\n",
      "Take a deep breath and think step by step to find the correct SQL query in SQLite format.\n",
      "\n",
      "Question repetition: What is the highest eligible free rate for K-12 students in the schools in Alameda County?\n",
      "\n",
      "Be care! Include only what i want it questiona and nothing else<|im_end|>\n",
      "<|im_start|>assistant\n",
      "<think>\n",
      "\n",
      "</think>\n",
      "\n",
      "\n",
      "\n",
      "\n",
      "Максимальное количество токенов в промптах: 14019\n",
      "\n",
      "начинаем скорринг\n",
      "Загружаем чаты с данными...\n",
      "Данные успешно загружены\n",
      "Начали генерацию SQL запросов\n"
     ]
    },
    {
     "name": "stderr",
     "output_type": "stream",
     "text": [
      "Processed prompts: 100%|██████████| 1534/1534 [04:30<00:00,  5.67it/s, est. speed input: 22781.13 toks/s, output: 290.25 toks/s]"
     ]
    },
    {
     "name": "stdout",
     "output_type": "stream",
     "text": [
      "extract_think количество ошибок:  0\n",
      "extract_sql количество ошибок:  0\n",
      "Закончили генерацию SQL запросов\n",
      "Начали скорр полученных SQL запросов\n"
     ]
    },
    {
     "name": "stderr",
     "output_type": "stream",
     "text": [
      "\n"
     ]
    },
    {
     "name": "stdout",
     "output_type": "stream",
     "text": [
      "Qwen3-14B DEV Финальный результат EX: 57.30\n",
      "Qwen3-14B процент запросов, которые успешно выполнились DEV: 97.20%\n",
      "====================================================================================================\n",
      "\n",
      "\n",
      "Загружаем чаты с данными...\n",
      "Данные успешно загружены\n",
      "Начали генерацию SQL запросов\n"
     ]
    },
    {
     "name": "stderr",
     "output_type": "stream",
     "text": [
      "Processed prompts: 100%|██████████| 1534/1534 [04:29<00:00,  5.69it/s, est. speed input: 23087.83 toks/s, output: 288.86 toks/s]"
     ]
    },
    {
     "name": "stdout",
     "output_type": "stream",
     "text": [
      "extract_think количество ошибок:  0\n",
      "extract_sql количество ошибок:  0\n",
      "Закончили генерацию SQL запросов\n",
      "Начали скорр полученных SQL запросов\n"
     ]
    },
    {
     "name": "stderr",
     "output_type": "stream",
     "text": [
      "\n"
     ]
    },
    {
     "name": "stdout",
     "output_type": "stream",
     "text": [
      "Qwen3-14B DEV Финальный результат EX: 57.76\n",
      "Qwen3-14B процент запросов, которые успешно выполнились DEV: 97.13%\n",
      "====================================================================================================\n",
      "\n",
      "\n",
      "Загружаем чаты с данными...\n",
      "Данные успешно загружены\n",
      "Начали генерацию SQL запросов\n"
     ]
    },
    {
     "name": "stderr",
     "output_type": "stream",
     "text": [
      "Processed prompts: 100%|██████████| 1534/1534 [04:40<00:00,  5.48it/s, est. speed input: 22568.99 toks/s, output: 283.15 toks/s]"
     ]
    },
    {
     "name": "stdout",
     "output_type": "stream",
     "text": [
      "extract_think количество ошибок:  0\n",
      "extract_sql количество ошибок:  0\n",
      "Закончили генерацию SQL запросов\n",
      "Начали скорр полученных SQL запросов\n"
     ]
    },
    {
     "name": "stderr",
     "output_type": "stream",
     "text": [
      "\n"
     ]
    },
    {
     "name": "stdout",
     "output_type": "stream",
     "text": [
      "Qwen3-14B DEV Финальный результат EX: 57.63\n",
      "Qwen3-14B процент запросов, которые успешно выполнились DEV: 96.22%\n",
      "====================================================================================================\n",
      "\n",
      "\n",
      "Загружаем чаты с данными...\n",
      "Данные успешно загружены\n",
      "Начали генерацию SQL запросов\n"
     ]
    },
    {
     "name": "stderr",
     "output_type": "stream",
     "text": [
      "Processed prompts: 100%|██████████| 1534/1534 [04:42<00:00,  5.43it/s, est. speed input: 22638.65 toks/s, output: 280.88 toks/s]"
     ]
    },
    {
     "name": "stdout",
     "output_type": "stream",
     "text": [
      "extract_think количество ошибок:  0\n",
      "extract_sql количество ошибок:  0\n",
      "Закончили генерацию SQL запросов\n",
      "Начали скорр полученных SQL запросов\n"
     ]
    },
    {
     "name": "stderr",
     "output_type": "stream",
     "text": [
      "\n"
     ]
    },
    {
     "name": "stdout",
     "output_type": "stream",
     "text": [
      "Qwen3-14B DEV Финальный результат EX: 57.69\n",
      "Qwen3-14B процент запросов, которые успешно выполнились DEV: 96.15%\n",
      "====================================================================================================\n",
      "\n",
      "\n",
      "Загружаем чаты с данными...\n",
      "Данные успешно загружены\n",
      "Начали генерацию SQL запросов\n"
     ]
    },
    {
     "name": "stderr",
     "output_type": "stream",
     "text": [
      "Processed prompts: 100%|██████████| 1534/1534 [04:24<00:00,  5.79it/s, est. speed input: 22635.50 toks/s, output: 299.44 toks/s]"
     ]
    },
    {
     "name": "stdout",
     "output_type": "stream",
     "text": [
      "extract_think количество ошибок:  0\n",
      "extract_sql количество ошибок:  0\n",
      "Закончили генерацию SQL запросов\n",
      "Начали скорр полученных SQL запросов\n"
     ]
    },
    {
     "name": "stderr",
     "output_type": "stream",
     "text": [
      "\n"
     ]
    },
    {
     "name": "stdout",
     "output_type": "stream",
     "text": [
      "Qwen3-14B DEV Финальный результат EX: 57.69\n",
      "Qwen3-14B процент запросов, которые успешно выполнились DEV: 96.35%\n",
      "====================================================================================================\n",
      "\n",
      "\n",
      "Загружаем чаты с данными...\n",
      "Данные успешно загружены\n",
      "Начали генерацию SQL запросов\n"
     ]
    },
    {
     "name": "stderr",
     "output_type": "stream",
     "text": [
      "Processed prompts: 100%|██████████| 1534/1534 [04:14<00:00,  6.02it/s, est. speed input: 22780.15 toks/s, output: 313.44 toks/s]"
     ]
    },
    {
     "name": "stdout",
     "output_type": "stream",
     "text": [
      "extract_think количество ошибок:  0\n",
      "extract_sql количество ошибок:  0\n",
      "Закончили генерацию SQL запросов\n",
      "Начали скорр полученных SQL запросов\n"
     ]
    },
    {
     "name": "stderr",
     "output_type": "stream",
     "text": [
      "\n"
     ]
    },
    {
     "name": "stdout",
     "output_type": "stream",
     "text": [
      "Qwen3-14B DEV Финальный результат EX: 56.98\n",
      "Qwen3-14B процент запросов, которые успешно выполнились DEV: 95.89%\n",
      "====================================================================================================\n",
      "\n",
      "\n",
      "Загружаем чаты с данными...\n",
      "Данные успешно загружены\n",
      "Начали генерацию SQL запросов\n"
     ]
    },
    {
     "name": "stderr",
     "output_type": "stream",
     "text": [
      "Processed prompts: 100%|██████████| 1534/1534 [04:09<00:00,  6.15it/s, est. speed input: 22808.28 toks/s, output: 316.47 toks/s]"
     ]
    },
    {
     "name": "stdout",
     "output_type": "stream",
     "text": [
      "extract_think количество ошибок:  0\n",
      "extract_sql количество ошибок:  0\n",
      "Закончили генерацию SQL запросов\n",
      "Начали скорр полученных SQL запросов\n"
     ]
    },
    {
     "name": "stderr",
     "output_type": "stream",
     "text": [
      "\n"
     ]
    },
    {
     "name": "stdout",
     "output_type": "stream",
     "text": [
      "Qwen3-14B DEV Финальный результат EX: 57.82\n",
      "Qwen3-14B процент запросов, которые успешно выполнились DEV: 95.63%\n",
      "====================================================================================================\n",
      "\n",
      "\n",
      "Загружаем чаты с данными...\n",
      "Данные успешно загружены\n",
      "Начали генерацию SQL запросов\n"
     ]
    },
    {
     "name": "stderr",
     "output_type": "stream",
     "text": [
      "Processed prompts: 100%|██████████| 1534/1534 [04:22<00:00,  5.84it/s, est. speed input: 22718.31 toks/s, output: 300.16 toks/s]"
     ]
    },
    {
     "name": "stdout",
     "output_type": "stream",
     "text": [
      "extract_think количество ошибок:  0\n",
      "extract_sql количество ошибок:  0\n",
      "Закончили генерацию SQL запросов\n",
      "Начали скорр полученных SQL запросов\n"
     ]
    },
    {
     "name": "stderr",
     "output_type": "stream",
     "text": [
      "\n"
     ]
    },
    {
     "name": "stdout",
     "output_type": "stream",
     "text": [
      "Qwen3-14B DEV Финальный результат EX: 57.04\n",
      "Qwen3-14B процент запросов, которые успешно выполнились DEV: 96.22%\n",
      "====================================================================================================\n",
      "\n",
      "\n",
      "Загружаем чаты с данными...\n",
      "Данные успешно загружены\n",
      "Начали генерацию SQL запросов\n"
     ]
    },
    {
     "name": "stderr",
     "output_type": "stream",
     "text": [
      "Processed prompts: 100%|██████████| 1534/1534 [04:27<00:00,  5.74it/s, est. speed input: 22822.83 toks/s, output: 295.04 toks/s]"
     ]
    },
    {
     "name": "stdout",
     "output_type": "stream",
     "text": [
      "extract_think количество ошибок:  0\n",
      "extract_sql количество ошибок:  0\n",
      "Закончили генерацию SQL запросов\n",
      "Начали скорр полученных SQL запросов\n"
     ]
    },
    {
     "name": "stderr",
     "output_type": "stream",
     "text": [
      "\n"
     ]
    },
    {
     "name": "stdout",
     "output_type": "stream",
     "text": [
      "Qwen3-14B DEV Финальный результат EX: 57.56\n",
      "Qwen3-14B процент запросов, которые успешно выполнились DEV: 96.41%\n",
      "====================================================================================================\n",
      "\n",
      "\n",
      "Загружаем чаты с данными...\n",
      "Данные успешно загружены\n",
      "Начали генерацию SQL запросов\n"
     ]
    },
    {
     "name": "stderr",
     "output_type": "stream",
     "text": [
      "Processed prompts: 100%|██████████| 1534/1534 [04:27<00:00,  5.74it/s, est. speed input: 22685.35 toks/s, output: 294.97 toks/s]"
     ]
    },
    {
     "name": "stdout",
     "output_type": "stream",
     "text": [
      "extract_think количество ошибок:  0\n",
      "extract_sql количество ошибок:  0\n",
      "Закончили генерацию SQL запросов\n",
      "Начали скорр полученных SQL запросов\n"
     ]
    },
    {
     "name": "stderr",
     "output_type": "stream",
     "text": [
      "\n"
     ]
    },
    {
     "name": "stdout",
     "output_type": "stream",
     "text": [
      "Qwen3-14B DEV Финальный результат EX: 57.37\n",
      "Qwen3-14B процент запросов, которые успешно выполнились DEV: 96.41%\n",
      "====================================================================================================\n",
      "\n",
      "\n",
      "Загружаем чаты с данными...\n",
      "Данные успешно загружены\n",
      "Начали генерацию SQL запросов\n"
     ]
    },
    {
     "name": "stderr",
     "output_type": "stream",
     "text": [
      "Processed prompts: 100%|██████████| 1534/1534 [04:27<00:00,  5.74it/s, est. speed input: 22792.32 toks/s, output: 294.44 toks/s]"
     ]
    },
    {
     "name": "stdout",
     "output_type": "stream",
     "text": [
      "extract_think количество ошибок:  0\n",
      "extract_sql количество ошибок:  0\n",
      "Закончили генерацию SQL запросов\n",
      "Начали скорр полученных SQL запросов\n"
     ]
    },
    {
     "name": "stderr",
     "output_type": "stream",
     "text": [
      "\n"
     ]
    },
    {
     "name": "stdout",
     "output_type": "stream",
     "text": [
      "Qwen3-14B DEV Финальный результат EX: 58.34\n",
      "Qwen3-14B процент запросов, которые успешно выполнились DEV: 96.68%\n",
      "====================================================================================================\n",
      "\n",
      "\n",
      "Загружаем чаты с данными...\n",
      "Данные успешно загружены\n",
      "Начали генерацию SQL запросов\n"
     ]
    },
    {
     "name": "stderr",
     "output_type": "stream",
     "text": [
      "Processed prompts: 100%|██████████| 1534/1534 [04:35<00:00,  5.57it/s, est. speed input: 22253.49 toks/s, output: 289.84 toks/s]"
     ]
    },
    {
     "name": "stdout",
     "output_type": "stream",
     "text": [
      "extract_think количество ошибок:  0\n",
      "extract_sql количество ошибок:  0\n",
      "Закончили генерацию SQL запросов\n",
      "Начали скорр полученных SQL запросов\n"
     ]
    },
    {
     "name": "stderr",
     "output_type": "stream",
     "text": [
      "\n"
     ]
    },
    {
     "name": "stdout",
     "output_type": "stream",
     "text": [
      "Qwen3-14B DEV Финальный результат EX: 57.82\n",
      "Qwen3-14B процент запросов, которые успешно выполнились DEV: 96.35%\n",
      "====================================================================================================\n",
      "\n",
      "\n",
      "Загружаем чаты с данными...\n",
      "Данные успешно загружены\n",
      "Начали генерацию SQL запросов\n"
     ]
    },
    {
     "name": "stderr",
     "output_type": "stream",
     "text": [
      "Processed prompts: 100%|██████████| 1534/1534 [03:57<00:00,  6.47it/s, est. speed input: 23430.99 toks/s, output: 328.89 toks/s]"
     ]
    },
    {
     "name": "stdout",
     "output_type": "stream",
     "text": [
      "extract_think количество ошибок:  0\n",
      "extract_sql количество ошибок:  0\n",
      "Закончили генерацию SQL запросов\n",
      "Начали скорр полученных SQL запросов\n"
     ]
    },
    {
     "name": "stderr",
     "output_type": "stream",
     "text": [
      "\n"
     ]
    },
    {
     "name": "stdout",
     "output_type": "stream",
     "text": [
      "Qwen3-14B DEV Финальный результат EX: 57.95\n",
      "Qwen3-14B процент запросов, которые успешно выполнились DEV: 96.41%\n",
      "====================================================================================================\n",
      "\n",
      "\n",
      "Загружаем чаты с данными...\n",
      "Данные успешно загружены\n",
      "Начали генерацию SQL запросов\n"
     ]
    },
    {
     "name": "stderr",
     "output_type": "stream",
     "text": [
      "Processed prompts: 100%|██████████| 1534/1534 [03:41<00:00,  6.94it/s, est. speed input: 23220.37 toks/s, output: 356.19 toks/s]"
     ]
    },
    {
     "name": "stdout",
     "output_type": "stream",
     "text": [
      "extract_think количество ошибок:  0\n",
      "extract_sql количество ошибок:  0\n",
      "Закончили генерацию SQL запросов\n",
      "Начали скорр полученных SQL запросов\n"
     ]
    },
    {
     "name": "stderr",
     "output_type": "stream",
     "text": [
      "\n"
     ]
    },
    {
     "name": "stdout",
     "output_type": "stream",
     "text": [
      "Qwen3-14B DEV Финальный результат EX: 57.43\n",
      "Qwen3-14B процент запросов, которые успешно выполнились DEV: 96.28%\n",
      "====================================================================================================\n",
      "\n",
      "\n",
      "Загружаем чаты с данными...\n",
      "Данные успешно загружены\n",
      "Начали генерацию SQL запросов\n"
     ]
    },
    {
     "name": "stderr",
     "output_type": "stream",
     "text": [
      "Processed prompts: 100%|██████████| 1534/1534 [03:35<00:00,  7.11it/s, est. speed input: 22888.04 toks/s, output: 360.77 toks/s]"
     ]
    },
    {
     "name": "stdout",
     "output_type": "stream",
     "text": [
      "extract_think количество ошибок:  0\n",
      "extract_sql количество ошибок:  0\n",
      "Закончили генерацию SQL запросов\n",
      "Начали скорр полученных SQL запросов\n"
     ]
    },
    {
     "name": "stderr",
     "output_type": "stream",
     "text": [
      "\n"
     ]
    },
    {
     "name": "stdout",
     "output_type": "stream",
     "text": [
      "Qwen3-14B DEV Финальный результат EX: 58.15\n",
      "Qwen3-14B процент запросов, которые успешно выполнились DEV: 96.15%\n",
      "====================================================================================================\n",
      "\n",
      "\n",
      "Загружаем чаты с данными...\n",
      "Данные успешно загружены\n",
      "Начали генерацию SQL запросов\n"
     ]
    },
    {
     "name": "stderr",
     "output_type": "stream",
     "text": [
      "Processed prompts: 100%|██████████| 1534/1534 [04:06<00:00,  6.21it/s, est. speed input: 22584.67 toks/s, output: 318.76 toks/s]"
     ]
    },
    {
     "name": "stdout",
     "output_type": "stream",
     "text": [
      "extract_think количество ошибок:  0\n",
      "extract_sql количество ошибок:  0\n",
      "Закончили генерацию SQL запросов\n",
      "Начали скорр полученных SQL запросов\n"
     ]
    },
    {
     "name": "stderr",
     "output_type": "stream",
     "text": [
      "\n"
     ]
    },
    {
     "name": "stdout",
     "output_type": "stream",
     "text": [
      "Qwen3-14B DEV Финальный результат EX: 58.47\n",
      "Qwen3-14B процент запросов, которые успешно выполнились DEV: 96.54%\n",
      "====================================================================================================\n",
      "\n",
      "\n",
      "Загружаем чаты с данными...\n",
      "Данные успешно загружены\n",
      "Начали генерацию SQL запросов\n"
     ]
    },
    {
     "name": "stderr",
     "output_type": "stream",
     "text": [
      "Processed prompts: 100%|██████████| 1534/1534 [04:27<00:00,  5.73it/s, est. speed input: 22719.52 toks/s, output: 293.45 toks/s]"
     ]
    },
    {
     "name": "stdout",
     "output_type": "stream",
     "text": [
      "extract_think количество ошибок:  0\n",
      "extract_sql количество ошибок:  0\n",
      "Закончили генерацию SQL запросов\n",
      "Начали скорр полученных SQL запросов\n"
     ]
    },
    {
     "name": "stderr",
     "output_type": "stream",
     "text": [
      "\n"
     ]
    },
    {
     "name": "stdout",
     "output_type": "stream",
     "text": [
      "Qwen3-14B DEV Финальный результат EX: 57.76\n",
      "Qwen3-14B процент запросов, которые успешно выполнились DEV: 96.28%\n",
      "====================================================================================================\n",
      "\n",
      "\n",
      "Загружаем чаты с данными...\n",
      "Данные успешно загружены\n",
      "Начали генерацию SQL запросов\n"
     ]
    },
    {
     "name": "stderr",
     "output_type": "stream",
     "text": [
      "Processed prompts: 100%|██████████| 1534/1534 [04:41<00:00,  5.45it/s, est. speed input: 22164.79 toks/s, output: 284.37 toks/s]"
     ]
    },
    {
     "name": "stdout",
     "output_type": "stream",
     "text": [
      "extract_think количество ошибок:  0\n",
      "extract_sql количество ошибок:  0\n",
      "Закончили генерацию SQL запросов\n",
      "Начали скорр полученных SQL запросов\n"
     ]
    },
    {
     "name": "stderr",
     "output_type": "stream",
     "text": [
      "\n"
     ]
    },
    {
     "name": "stdout",
     "output_type": "stream",
     "text": [
      "Qwen3-14B DEV Финальный результат EX: 57.89\n",
      "Qwen3-14B процент запросов, которые успешно выполнились DEV: 96.48%\n",
      "====================================================================================================\n",
      "\n",
      "\n",
      "Загружаем чаты с данными...\n",
      "Данные успешно загружены\n",
      "Начали генерацию SQL запросов\n"
     ]
    },
    {
     "name": "stderr",
     "output_type": "stream",
     "text": [
      "Processed prompts: 100%|██████████| 1534/1534 [04:40<00:00,  5.47it/s, est. speed input: 22317.06 toks/s, output: 283.03 toks/s]"
     ]
    },
    {
     "name": "stdout",
     "output_type": "stream",
     "text": [
      "extract_think количество ошибок:  0\n",
      "extract_sql количество ошибок:  0\n",
      "Закончили генерацию SQL запросов\n",
      "Начали скорр полученных SQL запросов\n"
     ]
    },
    {
     "name": "stderr",
     "output_type": "stream",
     "text": [
      "\n"
     ]
    },
    {
     "name": "stdout",
     "output_type": "stream",
     "text": [
      "Qwen3-14B DEV Финальный результат EX: 57.89\n",
      "Qwen3-14B процент запросов, которые успешно выполнились DEV: 96.02%\n",
      "====================================================================================================\n",
      "\n",
      "\n",
      "Загружаем чаты с данными...\n",
      "Данные успешно загружены\n",
      "Начали генерацию SQL запросов\n"
     ]
    },
    {
     "name": "stderr",
     "output_type": "stream",
     "text": [
      "Processed prompts: 100%|██████████| 1534/1534 [04:32<00:00,  5.62it/s, est. speed input: 22700.27 toks/s, output: 285.67 toks/s]"
     ]
    },
    {
     "name": "stdout",
     "output_type": "stream",
     "text": [
      "extract_think количество ошибок:  0\n",
      "extract_sql количество ошибок:  0\n",
      "Закончили генерацию SQL запросов\n",
      "Начали скорр полученных SQL запросов\n"
     ]
    },
    {
     "name": "stderr",
     "output_type": "stream",
     "text": [
      "\n"
     ]
    },
    {
     "name": "stdout",
     "output_type": "stream",
     "text": [
      "Qwen3-14B DEV Финальный результат EX: 58.08\n",
      "Qwen3-14B процент запросов, которые успешно выполнились DEV: 96.81%\n",
      "====================================================================================================\n",
      "\n",
      "\n"
     ]
    }
   ],
   "source": [
    "run_cot_experiment(model,arr_seeds,arr_versions, type_cot,num_observations=num_observations)"
   ]
  },
  {
   "cell_type": "markdown",
   "id": "497ba1a7-9a17-4849-b915-86790c9c7d3b",
   "metadata": {},
   "source": [
    "## 4 наблюдения"
   ]
  },
  {
   "cell_type": "code",
   "execution_count": 7,
   "id": "ce49c4fe-8bad-4a23-82e6-10e210d49af7",
   "metadata": {},
   "outputs": [
    {
     "name": "stdout",
     "output_type": "stream",
     "text": [
      "[167, 856, 847, 802, 185, 290, 990, 150, 337, 560, 702, 625, 445, 580, 329, 610, 748, 523, 113, 763]\n",
      "model: Qwen3-14B\n"
     ]
    }
   ],
   "source": [
    "n= 20\n",
    "arr_seeds = [random.randint(0,1000) for _ in range(n)]\n",
    "arr_versions = [x for x in range(n)]\n",
    "model = \"Qwen3-14B\"\n",
    "num_observations = 4\n",
    "type_cot = 'all_new'\n",
    "print(arr_seeds)\n",
    "print(f\"model: {model}\")"
   ]
  },
  {
   "cell_type": "code",
   "execution_count": 8,
   "id": "7a21f95e-0959-4d46-b161-3dd97031a48f",
   "metadata": {
    "scrolled": true
   },
   "outputs": [
    {
     "name": "stdout",
     "output_type": "stream",
     "text": [
      "Загружаем модель...\n"
     ]
    },
    {
     "name": "stderr",
     "output_type": "stream",
     "text": [
      "Loading safetensors checkpoint shards:   0% Completed | 0/8 [00:00<?, ?it/s]\n",
      "Loading safetensors checkpoint shards:  12% Completed | 1/8 [00:01<00:09,  1.40s/it]\n",
      "Loading safetensors checkpoint shards:  25% Completed | 2/8 [00:02<00:08,  1.42s/it]\n",
      "Loading safetensors checkpoint shards:  38% Completed | 3/8 [00:04<00:07,  1.42s/it]\n",
      "Loading safetensors checkpoint shards:  50% Completed | 4/8 [00:05<00:05,  1.44s/it]\n",
      "Loading safetensors checkpoint shards:  62% Completed | 5/8 [00:07<00:04,  1.44s/it]\n",
      "Loading safetensors checkpoint shards:  75% Completed | 6/8 [00:07<00:02,  1.20s/it]\n",
      "Loading safetensors checkpoint shards:  88% Completed | 7/8 [00:09<00:01,  1.27s/it]\n",
      "Loading safetensors checkpoint shards: 100% Completed | 8/8 [00:10<00:00,  1.31s/it]\n",
      "Loading safetensors checkpoint shards: 100% Completed | 8/8 [00:10<00:00,  1.34s/it]\n",
      "\u001b[1;36m(VllmWorker rank=0 pid=540338)\u001b[0;0m \n"
     ]
    },
    {
     "name": "stdout",
     "output_type": "stream",
     "text": [
      "Модель успешно загружена\n",
      "model_config {'model': '/data/home/vkropoti/models/Qwen3-14B', 'tensor_parallel_size': 2, 'max_model_len': 40000, 'max_new_tokens': 1500, 'temperature': 0, 'top_k': 1, 'top_p': 0.8, 'gpu_memory_utilization': 0.9, 'trust_remote_code': False, 'seed': 167}\n",
      "\n",
      "prompts_config {'path_dev_json': '/home/vkropoti/vllm/dev.json', 'path_sql_dbs': '/data/home/vkropoti/sql_data/dev_databases/', 'use_reasoning': False, 'paths_to_cot': ['/data/home/vkropoti/sql_llm_answers/bird_dev/sql_all_new_Qwen3-14B-reasoning-v0', '/data/home/vkropoti/sql_llm_answers/bird_dev/sql_all_new_Qwen3-14B-reasoning-v1', '/data/home/vkropoti/sql_llm_answers/bird_dev/sql_all_new_Qwen3-14B-reasoning-v2', '/data/home/vkropoti/sql_llm_answers/bird_dev/sql_all_new_Qwen3-14B-reasoning-v3']}\n",
      "\n",
      "save_config {'path_sql_save': '/data/home/vkropoti/sql_llm_answers/bird_dev/sql_all_Qwen3-14B-cot_all_new_think==False_nobs4-v0', 'path_think_save': None, 'path_sql_answers_save': '/data/home/vkropoti/sql_llm_answers/bird_dev/sql_predict_Qwen3-14B-cot_all_new_think==False_nobs4-v0', 'path_to_save_scores': '/data/home/vkropoti/sql_llm_answers/bird_dev/sql_results_Qwen3-14B-cot_all_new_think==False_nobs4-v0', 'path_to_save_executed': '/data/home/vkropoti/sql_llm_answers/bird_dev/sql_executed_Qwen3-14B-cot_all_new_think==False_nobs4-v0'}\n",
      "\n",
      "Модель успешно загружена\n",
      "Пример промпта\n",
      "<|im_start|>system\n",
      "\n",
      "You are a data science expert. Below, you are provided with a database schema and a natural language question. Your task is to understand the schema and generate a valid SQL query to answer the question.\n",
      "\n",
      "Database Engine: SQLite\n",
      "\n",
      "You will be given an additional analysis of other models, please take it into account, so the plan is\n",
      "1. Analyse given addition analysis from other models (find in which analysis the same and differ, how to use that to answer question)\n",
      "2. Combine best from previous part and think how to solve the problem (analyze tables, take care what columns avaliable in each table and so on, check the syntacsis)\n",
      "3. Create the answers. The answer should be only sql query.\n",
      "\n",
      "Carefully follow the instruction and add <|im_end|> and the end of the final answer<|im_end|>\n",
      "<|im_start|>user\n",
      "Here is addition analysis from other models which can be helpfull, please take this into account but be careful (choose the best from each analysis, combine them to make the most proper answer):\n",
      "\n",
      "model 0 analysis:\n",
      " Reasoning process:\n",
      "\n",
      "Okay, let's see. The user is asking for the highest eligible free rate for K-12 students in schools located in Alameda County. \n",
      "\n",
      "First, I need to figure out which tables are relevant here. The question mentions \"eligible free rate,\" which is calculated as `Free Meal Count (K-12)` divided by `Enrollment (K-12)`. Looking at the tables provided, the `frpm` table contains these exact columns: `Free Meal Count (K-12)` and `Enrollment (K-12)`. So, the calculation will be done using the `frpm` table.\n",
      "\n",
      "Next, the schools need to be in Alameda County. The `County` column is present in the `schools` table. But the `frpm` table has a `County Name` column. Wait, but the user is asking for schools in Alameda County. Which table's county field should I use? The `frpm` table has a `County Name` column, and the `schools` table has a `County` column. However, since the `frpm` table has a foreign key relationship with `schools` via `CDSCode`, maybe I need to join the two tables to get the county information from `schools`?\n",
      "\n",
      "Wait, the question says \"schools in Alameda County.\" So the county is determined by the school's county, which is in the `schools` table. Therefore, I should join `frpm` with `schools` on `CDSCode` to get the `County` from `schools` and filter where that county is 'Alameda'.\n",
      "\n",
      "But let me check the schema again. The `frpm` table has a `County Name` column. However, the `schools` table has a `County` column. Maybe the `frpm` is referencing the schools' county, but perhaps the `County Name` in `frpm` is redundant. However, the user wants to filter based on the school's county, which is in the `schools` table. Therefore, to get accurate information, I should join `frpm` with `schools` on `CDSCode` and then filter `schools.County = 'Alameda'`.\n",
      "\n",
      "So the steps are:\n",
      "\n",
      "1. Join `frpm` and `schools` on `CDSCode`.\n",
      "2. Filter where `schools.County = 'Alameda'`.\n",
      "3. Calculate the eligible free rate as `Free Meal Count (K-12)` / `Enrollment (K-12)`.\n",
      "4. Find the maximum value of this calculated rate.\n",
      "\n",
      "But wait, in the `frpm` table, there's also a `County Name` column. Could that be used instead? However, the `schools` table's `County` might be more reliable. For example, if a school is in Alameda County, the `schools` table's `County` should be 'Alameda', whereas the `County Name` in `frpm` might be the same. But since the `frpm` has a foreign key to `schools`, perhaps the county is consistent between both tables. However, to be safe, using `schools.County = 'Alameda'` is better because that's the school's actual county.\n",
      "\n",
      "So, the query would involve joining `frpm` with `schools` where `CDSCode` matches. Then, filter on `schools.County = 'Alameda'`. Then calculate the rate and find the maximum.\n",
      "\n",
      "But what if there are multiple entries in `frpm` for the same school? The `frpm` table has `CDSCode` as primary key, so each school has one entry in `frpm`. So the join is straightforward.\n",
      "\n",
      "Now, the SQL query would select the maximum of (Free Meal Count / Enrollment) where the county is Alameda. The columns are in the `frpm` table, so after joining with `schools` to get the county.\n",
      "\n",
      "So the query would be:\n",
      "\n",
      "SELECT MAX(`Free Meal Count (K-12)` / `Enrollment (K-12)`) AS highest_rate\n",
      "FROM frpm\n",
      "JOIN schools ON frpm.CDSCode = schools.CDSCode\n",
      "WHERE schools.County = 'Alameda';\n",
      "\n",
      "But I need to make sure that the `Enrollment (K-12)` is not zero to avoid division by zero. However, the question might assume that all entries have valid enrollment numbers. If not, perhaps a WHERE clause to exclude zero enrollments. But since the problem doesn't mention handling that, maybe it's safe to proceed without it.\n",
      "\n",
      "Also, the `frpm` table has `Enrollment (K-12)` as a REAL, so division should be handled as floating points.\n",
      "\n",
      "So the final SQL is as above, selecting the MAX of the calculated rate, joining on CDSCode, and filtering for Alameda County in the schools table.\n",
      "\n",
      "Final answer based om reasoning for this model:\n",
      "\n",
      "\n",
      "```\n",
      "SELECT MAX(`Free Meal Count (K-12` / `Enrollment (K-12`) FROM frpm JOIN schools ON frpm.CDSCode = schools.CDSCode WHERE schools.County = 'Alameda';\n",
      "```\n",
      "\n",
      "model 1 analysis:\n",
      " Reasoning process:\n",
      "\n",
      "Okay, I need to find the highest eligible free rate for K-12 students in schools located in Alameda County. Let me break this down.\n",
      "\n",
      "First, the eligible free rate is calculated as `Free Meal Count (K-12)` divided by `Enrollment (K-12)`. The question is asking for the maximum value of this rate among schools in Alameda County.\n",
      "\n",
      "Looking at the tables, the `frpm` table has both `Free Meal Count (K-12)` and `Enrollment (K-12)` columns. Also, the `frpm` table has a `County Name` column which should be used to filter for Alameda County.\n",
      "\n",
      "Wait, but there's also a `schools` table with a `County` column. However, the `frpm` table's `County Name` is likely the correct one to use since it's part of the same dataset. The `schools` table might have different county info, but the question mentions using the `frpm` data.\n",
      "\n",
      "So, the plan is to select the maximum of (`Free Meal Count (K-12)` / `Enrollment (K-12)`) from the `frpm` table where `County Name` is 'Alameda County'.\n",
      "\n",
      "But wait, I need to make sure that the `County Name` is correctly spelled and matches the data. Also, the `frpm` table has a foreign key to `schools` via `CDSCode`, but maybe the county info is already in `frpm` so joining isn't necessary. Let me check the schema again.\n",
      "\n",
      "Yes, `frpm` has `County Name` as a column. So I don't need to join with `schools` for the county. Therefore, the query can be written directly on the `frpm` table.\n",
      "\n",
      "Now, the SQL query would use the MAX function on the division of those two columns. Also, since these are REAL numbers, the division should work. Need to make sure that `Enrollment (K-12)` is not zero to avoid division by zero, but the question might assume that all entries have valid enrollments.\n",
      "\n",
      "So the final query would be:\n",
      "\n",
      "SELECT MAX(`Free Meal Count (K-12)` / `Enrollment (K-12)`) FROM frpm WHERE `County Name` = 'Alameda County';\n",
      "\n",
      "Wait, but the `County Name` might have entries like 'Alameda County' exactly. I should check if the data uses that exact name. Assuming it does, this query should work.\n",
      "\n",
      "Final answer based om reasoning for this model:\n",
      "\n",
      "\n",
      "```\n",
      "SELECT MAX(`Free Meal Count (K-12` / `Enrollment (K-12`) FROM frpm WHERE `County Name` = 'Alameda County';\n",
      "```\n",
      "\n",
      "model 2 analysis:\n",
      " Reasoning process:\n",
      "\n",
      "Okay, let's see. The user is asking for the highest eligible free rate for K-12 students in Alameda County. The eligible free rate is calculated as Free Meal Count (K-12) divided by Enrollment (K-12). \n",
      "\n",
      "First, I need to figure out which tables have the necessary data. The frpm table has columns for Free Meal Count (K-12) and Enrollment (K-12), which are needed for the calculation. Also, the frpm table has a County Name column, which I can use to filter for Alameda County.\n",
      "\n",
      "Wait, but the schools table also has a County column. Hmm, but the frpm table has a foreign key to schools, so maybe the County Name in frpm is redundant? But the user's question specifies using the county from the schools table? Or maybe not. Let me check the schema again.\n",
      "\n",
      "Looking at the frpm table's columns, there's a `County Name` field. The schools table has a `County` field. But the question is about Alameda County, so I need to make sure which table's county field is correct. However, since the frpm table has a foreign key to schools, perhaps the county in frpm is derived from schools. But maybe the question uses the `County Name` from frpm directly. The user's instruction says to use the column names as they are, so I should check the frpm table's columns.\n",
      "\n",
      "So, to filter for Alameda County, I need to use the `County Name` column in the frpm table. Wait, but maybe the schools table's County is more accurate? The problem says to use the columns as they are. Let me recheck the tables.\n",
      "\n",
      "In the frpm table, there's `County Name`, and in schools, there's `County`. The user's question is about schools in Alameda County. If the frpm table's `County Name` is the correct county for the school, then using that would be better. Alternatively, since the frpm table references schools, maybe the county from the schools table is more accurate. But the user hasn't specified which one to use. However, since the frpm table has `County Name` and the question is about schools in Alameda County, I think the correct approach is to use the `County Name` from the frpm table because that's the county associated with the school in the frpm context.\n",
      "\n",
      "Wait, but the problem says to use the columns as they are. Let me look again. The frpm table has `County Name` as a column. The schools table has `County`. The user's question is about schools in Alameda County. Since the frpm table has a foreign key to schools, perhaps the county in frpm is the same as in schools. However, if the question is about the schools' county, then using the schools table's County would be more accurate. But without more info, perhaps the user expects using the `County Name` from the frpm table. Alternatively, maybe the schools table's County is the correct one. However, the question mentions \"schools in Alameda County\" which would be in the schools table's County field. But since the frpm table has the county name, maybe the user expects that.\n",
      "\n",
      "Alternatively, maybe the frpm table's `County Name` is redundant and the schools table's County is the correct one. However, since the frpm table has that field, maybe the user expects to use it. But I need to check the correct way. Let's think: the frpm table has the `County Name` as a column. So, if a school is in Alameda County, the `County Name` in frpm should be 'Alameda County'. So, the correct filter is `frpm.\"County Name\" = 'Alameda County'`.\n",
      "\n",
      "Now, the calculation is Free Meal Count (K-12) / Enrollment (K-12). The frpm table has both columns. So the SQL would select the maximum of that ratio. So the query would be:\n",
      "\n",
      "SELECT MAX(`Free Meal Count (K-12)` / `Enrollment (K-12)`) FROM frpm WHERE `County Name` = 'Alameda County';\n",
      "\n",
      "Wait, but the user wants the highest rate, so MAX of that calculation. That's correct.\n",
      "\n",
      "But need to ensure that both columns are not null, but the question doesn't mention handling nulls. So assuming that where the data is present, the division is valid.\n",
      "\n",
      "Therefore, the final query is selecting the maximum of that ratio from the frpm table where the county name is Alameda County.\n",
      "\n",
      "Final answer based om reasoning for this model:\n",
      "\n",
      "\n",
      "```\n",
      "SELECT MAX(`Free Meal Count (K-12)` / `Enrollment (K-12)`) FROM frpm WHERE `County Name` = 'Alameda County';\n",
      "```\n",
      "\n",
      "model 3 analysis:\n",
      " Reasoning process:\n",
      "\n",
      "Okay, let me figure out how to answer this question. The user wants the highest eligible free rate for K-12 students in Alameda County. From the external knowledge, I know that the eligible free rate is calculated by dividing the Free Meal Count (K-12) by the Enrollment (K-12). \n",
      "\n",
      "First, I need to check which tables have the necessary data. The 'frpm' table has both 'Free Meal Count (K-12)' and 'Enrollment (K-12)' columns. Also, the 'County Name' column in the 'frpm' table can be used to filter for Alameda County.\n",
      "\n",
      "So the plan is to select the maximum value of the ratio (Free Meal Count / Enrollment) from the frpm table where County Name is 'Alameda County'. But I need to make sure that the division is done correctly. In SQLite, using / should work for real numbers.\n",
      "\n",
      "Wait, the columns are of type REAL, so dividing them should give the rate. Then, using MAX() on that calculated column would give the highest rate. Also, I need to ensure that Enrollment (K-12) is not zero to avoid division by zero. However, the problem might not have such cases, or maybe the database handles it. But since the user didn't mention handling that, I'll proceed as is.\n",
      "\n",
      "So the SQL query would be: SELECT MAX(`Free Meal Count (K-12)` / `Enrollment (K-12)`) FROM frpm WHERE `County Name` = 'Alameda County';\n",
      "\n",
      "I should check if the 'County Name' is correctly spelled and matches the data in the table. Also, make sure that the column names are enclosed in backticks as they have spaces. The 'frpm' table's County Name is the right place to filter. That should do it.\n",
      "\n",
      "Final answer based om reasoning for this model:\n",
      "\n",
      "\n",
      "```\n",
      "SELECT MAX(`Free Meal Count (K-12)` / `Enrollment (K-12)`) FROM frpm WHERE `County Name` = 'Alameda County';\n",
      "```\n",
      "\n",
      "\n",
      "here is avaliable tables below\n",
      "\n",
      "\n",
      "Table: frpm\n",
      "CREATE TABLE frpm\n",
      "(\n",
      "    CDSCode                                       TEXT not null\n",
      "        primary key,\n",
      "    `Academic Year`                               TEXT  null,\n",
      "    `County Code`                                 TEXT  null,\n",
      "    `District Code`                               INTEGER         null,\n",
      "    `School Code`                                 TEXT  null,\n",
      "    `County Name`                                 TEXT null,\n",
      "    `District Name`                               TEXT null,\n",
      "    `School Name`                                 TEXT null,\n",
      "    `District Type`                               TEXT null,\n",
      "    `School Type`                                 TEXT null,\n",
      "    `Educational Option Type`                     TEXT null,\n",
      "    `NSLP Provision Status`                       TEXT null,\n",
      "    `Charter School (Y/N)`                        INTEGER    null,\n",
      "    `Charter School Number`                       TEXT  null,\n",
      "    `Charter Funding Type`                        TEXT null,\n",
      "    IRC                                           INTEGER    null,\n",
      "    `Low Grade`                                   TEXT  null,\n",
      "    `High Grade`                                  TEXT null,\n",
      "    `Enrollment (K-12)`                           REAL      null,\n",
      "    `Free Meal Count (K-12)`                      REAL       null,\n",
      "    `Percent (%) Eligible Free (K-12)`            REAL       null,\n",
      "    `FRPM Count (K-12)`                           REAL       null,\n",
      "    `Percent (%) Eligible FRPM (K-12)`            REAL       null,\n",
      "    `Enrollment (Ages 5-17)`                      REAL       null,\n",
      "    `Free Meal Count (Ages 5-17)`                 REAL       null,\n",
      "    `Percent (%) Eligible Free (Ages 5-17)`       REAL       null,\n",
      "    `FRPM Count (Ages 5-17)`                      REAL       null,\n",
      "    `Percent (%) Eligible FRPM (Ages 5-17)`       REAL       null,\n",
      "    `2013-14 CALPADS Fall 1 Certification Status` INTEGER    null,\n",
      "    foreign key (CDSCode) references schools (CDSCode)\n",
      ")\n",
      "\n",
      "Table: satscores\n",
      "CREATE TABLE satscores\n",
      "(\n",
      "    cds         TEXT not null\n",
      "        primary key,\n",
      "    rtype       TEXT  not null,\n",
      "    sname       TEXT null,\n",
      "    dname       TEXT null,\n",
      "    cname       TEXT null,\n",
      "    enroll12    INTEGER         not null,\n",
      "    NumTstTakr  INTEGER          not null,\n",
      "    AvgScrRead  INTEGER          null,\n",
      "    AvgScrMath  INTEGER          null,\n",
      "    AvgScrWrite INTEGER          null,\n",
      "    NumGE1500   INTEGER          null,\n",
      "--     PctGE1500   double      null,\n",
      "        foreign key (cds) references schools (CDSCode)\n",
      ")\n",
      "\n",
      "Table: schools\n",
      "CREATE TABLE schools\n",
      "(\n",
      "    CDSCode     TEXT not null\n",
      "        primary key,\n",
      "    NCESDist    TEXT  null,\n",
      "    NCESSchool  TEXT  null,\n",
      "    StatusType  TEXT  not null,\n",
      "    County      TEXT not null,\n",
      "    District    TEXT not null,\n",
      "    School      TEXT null,\n",
      "    Street      TEXT null,\n",
      "    StreetAbr   TEXT null,\n",
      "    City        TEXT null,\n",
      "    Zip         TEXT null,\n",
      "    State       TEXT  null,\n",
      "    MailStreet  TEXT null,\n",
      "    MailStrAbr  TEXT null,\n",
      "    MailCity    TEXT null,\n",
      "    MailZip     TEXT null,\n",
      "    MailState   TEXT  null,\n",
      "    Phone       TEXT null,\n",
      "    Ext         TEXT  null,\n",
      "    Website     TEXT null,\n",
      "    OpenDate    DATE        null,\n",
      "    ClosedDate  DATE        null,\n",
      "    Charter     INTEGER    null,\n",
      "    CharterNum  TEXT  null,\n",
      "    FundingType TEXT null,\n",
      "    DOC         TEXT  not null,\n",
      "    DOCType     TEXT not null,\n",
      "    SOC         TEXT  null,\n",
      "    SOCType     TEXT null,\n",
      "    EdOpsCode   TEXT  null,\n",
      "    EdOpsName   TEXT null,\n",
      "    EILCode     TEXT  null,\n",
      "    EILName     TEXT null,\n",
      "    GSoffered   TEXT null,\n",
      "    GSserved    TEXT  null,\n",
      "    Virtual     TEXT  null,\n",
      "    Magnet      INTEGER   null,\n",
      "    Latitude    REAL      null,\n",
      "    Longitude   REAL      null,\n",
      "    AdmFName1   TEXT null,\n",
      "    AdmLName1   TEXT null,\n",
      "    AdmEmail1   TEXT null,\n",
      "    AdmFName2   TEXT null,\n",
      "    AdmLName2   TEXT null,\n",
      "    AdmEmail2   TEXT null,\n",
      "    AdmFName3   TEXT  null,\n",
      "    AdmLName3   TEXT null,\n",
      "    AdmEmail3   TEXT null,\n",
      "    LastUpdate  DATE        not null\n",
      ")\n",
      "\n",
      "-- Using valid SQLite and understanding External Knowledge, answer the following questions for the tables provided above.\n",
      "-- What is the highest eligible free rate for K-12 students in the schools in Alameda County?\n",
      "-- External Knowledge: Eligible free rate for K-12 = `Free Meal Count (K-12)` / `Enrollment (K-12)`\n",
      "\n",
      "\n",
      "Generate the SQLite for the above question after thinking step by step: \n",
      "\n",
      "\n",
      "Instructions:\n",
      "- Make sure you only output the information that is asked in the question. If the question asks for a specific column, make sure to only include that column in the SELECT clause, nothing more.\n",
      "- The generated query should return all of the information asked in the question without any missing or extra information.\n",
      "- Before generating the final SQL query, please think through the steps of how to write the query.\n",
      "- Do not misuse column names, keep them in quotes `\n",
      "- Carefully understand what colomns belond to what tables\n",
      "- Use only initial column names, change names prohibited\n",
      "        \n",
      "Output Format:\n",
      "In your answer, please enclose the generated SQL query in a code block:\n",
      "```\n",
      "-- Your SQL query\n",
      "```    \n",
      "and nothing else, no exaplains, no comments (asnwer should be less than 512 characters)\n",
      "\n",
      "Take a deep breath and think step by step to find the correct SQL query in SQLite format.\n",
      "\n",
      "Question repetition: What is the highest eligible free rate for K-12 students in the schools in Alameda County?\n",
      "\n",
      "Be care! Include only what i want it questiona and nothing else<|im_end|>\n",
      "<|im_start|>assistant\n",
      "<think>\n",
      "\n",
      "</think>\n",
      "\n",
      "\n",
      "\n",
      "\n",
      "Максимальное количество токенов в промптах: 17903\n",
      "\n",
      "начинаем скорринг\n",
      "Загружаем чаты с данными...\n",
      "Данные успешно загружены\n",
      "Начали генерацию SQL запросов\n"
     ]
    },
    {
     "name": "stderr",
     "output_type": "stream",
     "text": [
      "Processed prompts: 100%|██████████| 1534/1534 [05:43<00:00,  4.46it/s, est. speed input: 22010.54 toks/s, output: 229.74 toks/s]"
     ]
    },
    {
     "name": "stdout",
     "output_type": "stream",
     "text": [
      "extract_think количество ошибок:  0\n",
      "extract_sql количество ошибок:  0\n",
      "Закончили генерацию SQL запросов\n",
      "Начали скорр полученных SQL запросов\n"
     ]
    },
    {
     "name": "stderr",
     "output_type": "stream",
     "text": [
      "\n"
     ]
    },
    {
     "name": "stdout",
     "output_type": "stream",
     "text": [
      "Qwen3-14B DEV Финальный результат EX: 57.95\n",
      "Qwen3-14B процент запросов, которые успешно выполнились DEV: 97.00%\n",
      "====================================================================================================\n",
      "\n",
      "\n",
      "Загружаем чаты с данными...\n",
      "Данные успешно загружены\n",
      "Начали генерацию SQL запросов\n"
     ]
    },
    {
     "name": "stderr",
     "output_type": "stream",
     "text": [
      "Processed prompts: 100%|██████████| 1534/1534 [05:48<00:00,  4.40it/s, est. speed input: 21971.97 toks/s, output: 226.55 toks/s]"
     ]
    },
    {
     "name": "stdout",
     "output_type": "stream",
     "text": [
      "extract_think количество ошибок:  0\n",
      "extract_sql количество ошибок:  0\n",
      "Закончили генерацию SQL запросов\n",
      "Начали скорр полученных SQL запросов\n"
     ]
    },
    {
     "name": "stderr",
     "output_type": "stream",
     "text": [
      "\n"
     ]
    },
    {
     "name": "stdout",
     "output_type": "stream",
     "text": [
      "Qwen3-14B DEV Финальный результат EX: 57.95\n",
      "Qwen3-14B процент запросов, которые успешно выполнились DEV: 96.94%\n",
      "====================================================================================================\n",
      "\n",
      "\n",
      "Загружаем чаты с данными...\n",
      "Данные успешно загружены\n",
      "Начали генерацию SQL запросов\n"
     ]
    },
    {
     "name": "stderr",
     "output_type": "stream",
     "text": [
      "Processed prompts: 100%|██████████| 1534/1534 [05:55<00:00,  4.32it/s, est. speed input: 21774.65 toks/s, output: 222.95 toks/s]"
     ]
    },
    {
     "name": "stdout",
     "output_type": "stream",
     "text": [
      "extract_think количество ошибок:  0\n",
      "extract_sql количество ошибок:  0\n",
      "Закончили генерацию SQL запросов\n",
      "Начали скорр полученных SQL запросов\n"
     ]
    },
    {
     "name": "stderr",
     "output_type": "stream",
     "text": [
      "\n"
     ]
    },
    {
     "name": "stdout",
     "output_type": "stream",
     "text": [
      "Qwen3-14B DEV Финальный результат EX: 57.30\n",
      "Qwen3-14B процент запросов, которые успешно выполнились DEV: 96.28%\n",
      "====================================================================================================\n",
      "\n",
      "\n",
      "Загружаем чаты с данными...\n",
      "Данные успешно загружены\n",
      "Начали генерацию SQL запросов\n"
     ]
    },
    {
     "name": "stderr",
     "output_type": "stream",
     "text": [
      "Processed prompts: 100%|██████████| 1534/1534 [05:38<00:00,  4.54it/s, est. speed input: 21880.21 toks/s, output: 236.65 toks/s]"
     ]
    },
    {
     "name": "stdout",
     "output_type": "stream",
     "text": [
      "extract_think количество ошибок:  0\n",
      "extract_sql количество ошибок:  0\n",
      "Закончили генерацию SQL запросов\n",
      "Начали скорр полученных SQL запросов\n"
     ]
    },
    {
     "name": "stderr",
     "output_type": "stream",
     "text": [
      "\n"
     ]
    },
    {
     "name": "stdout",
     "output_type": "stream",
     "text": [
      "Qwen3-14B DEV Финальный результат EX: 57.43\n",
      "Qwen3-14B процент запросов, которые успешно выполнились DEV: 95.83%\n",
      "====================================================================================================\n",
      "\n",
      "\n",
      "Загружаем чаты с данными...\n",
      "Данные успешно загружены\n",
      "Начали генерацию SQL запросов\n"
     ]
    },
    {
     "name": "stderr",
     "output_type": "stream",
     "text": [
      "Processed prompts: 100%|██████████| 1534/1534 [05:26<00:00,  4.70it/s, est. speed input: 22233.98 toks/s, output: 244.08 toks/s]"
     ]
    },
    {
     "name": "stdout",
     "output_type": "stream",
     "text": [
      "extract_think количество ошибок:  0\n",
      "extract_sql количество ошибок:  0\n",
      "Закончили генерацию SQL запросов\n",
      "Начали скорр полученных SQL запросов\n"
     ]
    },
    {
     "name": "stderr",
     "output_type": "stream",
     "text": [
      "\n"
     ]
    },
    {
     "name": "stdout",
     "output_type": "stream",
     "text": [
      "Qwen3-14B DEV Финальный результат EX: 57.95\n",
      "Qwen3-14B процент запросов, которые успешно выполнились DEV: 96.02%\n",
      "====================================================================================================\n",
      "\n",
      "\n",
      "Загружаем чаты с данными...\n",
      "Данные успешно загружены\n",
      "Начали генерацию SQL запросов\n"
     ]
    },
    {
     "name": "stderr",
     "output_type": "stream",
     "text": [
      "Processed prompts: 100%|██████████| 1534/1534 [05:22<00:00,  4.76it/s, est. speed input: 22042.78 toks/s, output: 247.47 toks/s]"
     ]
    },
    {
     "name": "stdout",
     "output_type": "stream",
     "text": [
      "extract_think количество ошибок:  0\n",
      "extract_sql количество ошибок:  0\n",
      "Закончили генерацию SQL запросов\n",
      "Начали скорр полученных SQL запросов\n"
     ]
    },
    {
     "name": "stderr",
     "output_type": "stream",
     "text": [
      "\n"
     ]
    },
    {
     "name": "stdout",
     "output_type": "stream",
     "text": [
      "Qwen3-14B DEV Финальный результат EX: 57.56\n",
      "Qwen3-14B процент запросов, которые успешно выполнились DEV: 95.63%\n",
      "====================================================================================================\n",
      "\n",
      "\n",
      "Загружаем чаты с данными...\n",
      "Данные успешно загружены\n",
      "Начали генерацию SQL запросов\n"
     ]
    },
    {
     "name": "stderr",
     "output_type": "stream",
     "text": [
      "Processed prompts: 100%|██████████| 1534/1534 [05:16<00:00,  4.85it/s, est. speed input: 22067.18 toks/s, output: 253.96 toks/s]"
     ]
    },
    {
     "name": "stdout",
     "output_type": "stream",
     "text": [
      "extract_think количество ошибок:  0\n",
      "extract_sql количество ошибок:  0\n",
      "Закончили генерацию SQL запросов\n",
      "Начали скорр полученных SQL запросов\n"
     ]
    },
    {
     "name": "stderr",
     "output_type": "stream",
     "text": [
      "\n"
     ]
    },
    {
     "name": "stdout",
     "output_type": "stream",
     "text": [
      "Qwen3-14B DEV Финальный результат EX: 57.30\n",
      "Qwen3-14B процент запросов, которые успешно выполнились DEV: 96.35%\n",
      "====================================================================================================\n",
      "\n",
      "\n",
      "Загружаем чаты с данными...\n",
      "Данные успешно загружены\n",
      "Начали генерацию SQL запросов\n"
     ]
    },
    {
     "name": "stderr",
     "output_type": "stream",
     "text": [
      "Processed prompts: 100%|██████████| 1534/1534 [05:27<00:00,  4.68it/s, est. speed input: 22460.81 toks/s, output: 240.83 toks/s]"
     ]
    },
    {
     "name": "stdout",
     "output_type": "stream",
     "text": [
      "extract_think количество ошибок:  0\n",
      "extract_sql количество ошибок:  0\n",
      "Закончили генерацию SQL запросов\n",
      "Начали скорр полученных SQL запросов\n"
     ]
    },
    {
     "name": "stderr",
     "output_type": "stream",
     "text": [
      "\n"
     ]
    },
    {
     "name": "stdout",
     "output_type": "stream",
     "text": [
      "Qwen3-14B DEV Финальный результат EX: 57.56\n",
      "Qwen3-14B процент запросов, которые успешно выполнились DEV: 95.83%\n",
      "====================================================================================================\n",
      "\n",
      "\n",
      "Загружаем чаты с данными...\n",
      "Данные успешно загружены\n",
      "Начали генерацию SQL запросов\n"
     ]
    },
    {
     "name": "stderr",
     "output_type": "stream",
     "text": [
      "Processed prompts: 100%|██████████| 1534/1534 [05:27<00:00,  4.68it/s, est. speed input: 22467.40 toks/s, output: 241.29 toks/s]"
     ]
    },
    {
     "name": "stdout",
     "output_type": "stream",
     "text": [
      "extract_think количество ошибок:  0\n",
      "extract_sql количество ошибок:  0\n",
      "Закончили генерацию SQL запросов\n",
      "Начали скорр полученных SQL запросов\n"
     ]
    },
    {
     "name": "stderr",
     "output_type": "stream",
     "text": [
      "\n"
     ]
    },
    {
     "name": "stdout",
     "output_type": "stream",
     "text": [
      "Qwen3-14B DEV Финальный результат EX: 57.89\n",
      "Qwen3-14B процент запросов, которые успешно выполнились DEV: 96.28%\n",
      "====================================================================================================\n",
      "\n",
      "\n",
      "Загружаем чаты с данными...\n",
      "Данные успешно загружены\n",
      "Начали генерацию SQL запросов\n"
     ]
    },
    {
     "name": "stderr",
     "output_type": "stream",
     "text": [
      "Processed prompts: 100%|██████████| 1534/1534 [05:30<00:00,  4.64it/s, est. speed input: 22338.11 toks/s, output: 241.69 toks/s]"
     ]
    },
    {
     "name": "stdout",
     "output_type": "stream",
     "text": [
      "extract_think количество ошибок:  0\n",
      "extract_sql количество ошибок:  0\n",
      "Закончили генерацию SQL запросов\n",
      "Начали скорр полученных SQL запросов\n"
     ]
    },
    {
     "name": "stderr",
     "output_type": "stream",
     "text": [
      "\n"
     ]
    },
    {
     "name": "stdout",
     "output_type": "stream",
     "text": [
      "Qwen3-14B DEV Финальный результат EX: 57.89\n",
      "Qwen3-14B процент запросов, которые успешно выполнились DEV: 96.54%\n",
      "====================================================================================================\n",
      "\n",
      "\n",
      "Загружаем чаты с данными...\n",
      "Данные успешно загружены\n",
      "Начали генерацию SQL запросов\n"
     ]
    },
    {
     "name": "stderr",
     "output_type": "stream",
     "text": [
      "Processed prompts: 100%|██████████| 1534/1534 [05:37<00:00,  4.55it/s, est. speed input: 22302.24 toks/s, output: 236.49 toks/s]"
     ]
    },
    {
     "name": "stdout",
     "output_type": "stream",
     "text": [
      "extract_think количество ошибок:  0\n",
      "extract_sql количество ошибок:  0\n",
      "Закончили генерацию SQL запросов\n",
      "Начали скорр полученных SQL запросов\n"
     ]
    },
    {
     "name": "stderr",
     "output_type": "stream",
     "text": [
      "\n"
     ]
    },
    {
     "name": "stdout",
     "output_type": "stream",
     "text": [
      "Qwen3-14B DEV Финальный результат EX: 57.95\n",
      "Qwen3-14B процент запросов, которые успешно выполнились DEV: 96.54%\n",
      "====================================================================================================\n",
      "\n",
      "\n",
      "Загружаем чаты с данными...\n",
      "Данные успешно загружены\n",
      "Начали генерацию SQL запросов\n"
     ]
    },
    {
     "name": "stderr",
     "output_type": "stream",
     "text": [
      "Processed prompts: 100%|██████████| 1534/1534 [05:03<00:00,  5.06it/s, est. speed input: 22496.11 toks/s, output: 258.07 toks/s]"
     ]
    },
    {
     "name": "stdout",
     "output_type": "stream",
     "text": [
      "extract_think количество ошибок:  0\n",
      "extract_sql количество ошибок:  0\n",
      "Закончили генерацию SQL запросов\n",
      "Начали скорр полученных SQL запросов\n"
     ]
    },
    {
     "name": "stderr",
     "output_type": "stream",
     "text": [
      "\n"
     ]
    },
    {
     "name": "stdout",
     "output_type": "stream",
     "text": [
      "Qwen3-14B DEV Финальный результат EX: 57.63\n",
      "Qwen3-14B процент запросов, которые успешно выполнились DEV: 97.13%\n",
      "====================================================================================================\n",
      "\n",
      "\n",
      "Загружаем чаты с данными...\n",
      "Данные успешно загружены\n",
      "Начали генерацию SQL запросов\n"
     ]
    },
    {
     "name": "stderr",
     "output_type": "stream",
     "text": [
      "Processed prompts: 100%|██████████| 1534/1534 [04:45<00:00,  5.37it/s, est. speed input: 22602.86 toks/s, output: 275.06 toks/s]"
     ]
    },
    {
     "name": "stdout",
     "output_type": "stream",
     "text": [
      "extract_think количество ошибок:  0\n",
      "extract_sql количество ошибок:  0\n",
      "Закончили генерацию SQL запросов\n",
      "Начали скорр полученных SQL запросов\n"
     ]
    },
    {
     "name": "stderr",
     "output_type": "stream",
     "text": [
      "\n"
     ]
    },
    {
     "name": "stdout",
     "output_type": "stream",
     "text": [
      "Qwen3-14B DEV Финальный результат EX: 58.28\n",
      "Qwen3-14B процент запросов, которые успешно выполнились DEV: 96.35%\n",
      "====================================================================================================\n",
      "\n",
      "\n",
      "Загружаем чаты с данными...\n",
      "Данные успешно загружены\n",
      "Начали генерацию SQL запросов\n"
     ]
    },
    {
     "name": "stderr",
     "output_type": "stream",
     "text": [
      "Processed prompts: 100%|██████████| 1534/1534 [04:39<00:00,  5.49it/s, est. speed input: 22772.47 toks/s, output: 281.07 toks/s]"
     ]
    },
    {
     "name": "stdout",
     "output_type": "stream",
     "text": [
      "extract_think количество ошибок:  0\n",
      "extract_sql количество ошибок:  0\n",
      "Закончили генерацию SQL запросов\n",
      "Начали скорр полученных SQL запросов\n"
     ]
    },
    {
     "name": "stderr",
     "output_type": "stream",
     "text": [
      "\n"
     ]
    },
    {
     "name": "stdout",
     "output_type": "stream",
     "text": [
      "Qwen3-14B DEV Финальный результат EX: 58.21\n",
      "Qwen3-14B процент запросов, которые успешно выполнились DEV: 96.35%\n",
      "====================================================================================================\n",
      "\n",
      "\n",
      "Загружаем чаты с данными...\n",
      "Данные успешно загружены\n",
      "Начали генерацию SQL запросов\n"
     ]
    },
    {
     "name": "stderr",
     "output_type": "stream",
     "text": [
      "Processed prompts: 100%|██████████| 1534/1534 [04:36<00:00,  5.56it/s, est. speed input: 22697.29 toks/s, output: 281.76 toks/s]"
     ]
    },
    {
     "name": "stdout",
     "output_type": "stream",
     "text": [
      "extract_think количество ошибок:  0\n",
      "extract_sql количество ошибок:  0\n",
      "Закончили генерацию SQL запросов\n",
      "Начали скорр полученных SQL запросов\n"
     ]
    },
    {
     "name": "stderr",
     "output_type": "stream",
     "text": [
      "\n"
     ]
    },
    {
     "name": "stdout",
     "output_type": "stream",
     "text": [
      "Qwen3-14B DEV Финальный результат EX: 58.80\n",
      "Qwen3-14B процент запросов, которые успешно выполнились DEV: 96.35%\n",
      "====================================================================================================\n",
      "\n",
      "\n",
      "Загружаем чаты с данными...\n",
      "Данные успешно загружены\n",
      "Начали генерацию SQL запросов\n"
     ]
    },
    {
     "name": "stderr",
     "output_type": "stream",
     "text": [
      "Processed prompts: 100%|██████████| 1534/1534 [05:14<00:00,  4.88it/s, est. speed input: 22229.66 toks/s, output: 252.99 toks/s]"
     ]
    },
    {
     "name": "stdout",
     "output_type": "stream",
     "text": [
      "extract_think количество ошибок:  0\n",
      "extract_sql количество ошибок:  0\n",
      "Закончили генерацию SQL запросов\n",
      "Начали скорр полученных SQL запросов\n"
     ]
    },
    {
     "name": "stderr",
     "output_type": "stream",
     "text": [
      "\n"
     ]
    },
    {
     "name": "stdout",
     "output_type": "stream",
     "text": [
      "Qwen3-14B DEV Финальный результат EX: 58.60\n",
      "Qwen3-14B процент запросов, которые успешно выполнились DEV: 96.54%\n",
      "====================================================================================================\n",
      "\n",
      "\n",
      "Загружаем чаты с данными...\n",
      "Данные успешно загружены\n",
      "Начали генерацию SQL запросов\n"
     ]
    },
    {
     "name": "stderr",
     "output_type": "stream",
     "text": [
      "Processed prompts: 100%|██████████| 1534/1534 [05:31<00:00,  4.63it/s, est. speed input: 22547.62 toks/s, output: 238.63 toks/s]"
     ]
    },
    {
     "name": "stdout",
     "output_type": "stream",
     "text": [
      "extract_think количество ошибок:  0\n",
      "extract_sql количество ошибок:  0\n",
      "Закончили генерацию SQL запросов\n",
      "Начали скорр полученных SQL запросов\n"
     ]
    },
    {
     "name": "stderr",
     "output_type": "stream",
     "text": [
      "\n"
     ]
    },
    {
     "name": "stdout",
     "output_type": "stream",
     "text": [
      "Qwen3-14B DEV Финальный результат EX: 58.34\n",
      "Qwen3-14B процент запросов, которые успешно выполнились DEV: 96.41%\n",
      "====================================================================================================\n",
      "\n",
      "\n",
      "Загружаем чаты с данными...\n",
      "Данные успешно загружены\n",
      "Начали генерацию SQL запросов\n"
     ]
    },
    {
     "name": "stderr",
     "output_type": "stream",
     "text": [
      "Processed prompts: 100%|██████████| 1534/1534 [05:45<00:00,  4.44it/s, est. speed input: 21947.44 toks/s, output: 234.21 toks/s]"
     ]
    },
    {
     "name": "stdout",
     "output_type": "stream",
     "text": [
      "extract_think количество ошибок:  0\n",
      "extract_sql количество ошибок:  0\n",
      "Закончили генерацию SQL запросов\n",
      "Начали скорр полученных SQL запросов\n"
     ]
    },
    {
     "name": "stderr",
     "output_type": "stream",
     "text": [
      "\n"
     ]
    },
    {
     "name": "stdout",
     "output_type": "stream",
     "text": [
      "Qwen3-14B DEV Финальный результат EX: 57.37\n",
      "Qwen3-14B процент запросов, которые успешно выполнились DEV: 95.89%\n",
      "====================================================================================================\n",
      "\n",
      "\n",
      "Загружаем чаты с данными...\n",
      "Данные успешно загружены\n",
      "Начали генерацию SQL запросов\n"
     ]
    },
    {
     "name": "stderr",
     "output_type": "stream",
     "text": [
      "Processed prompts: 100%|██████████| 1534/1534 [05:40<00:00,  4.50it/s, est. speed input: 22306.50 toks/s, output: 231.33 toks/s]"
     ]
    },
    {
     "name": "stdout",
     "output_type": "stream",
     "text": [
      "extract_think количество ошибок:  0\n",
      "extract_sql количество ошибок:  0\n",
      "Закончили генерацию SQL запросов\n",
      "Начали скорр полученных SQL запросов\n"
     ]
    },
    {
     "name": "stderr",
     "output_type": "stream",
     "text": [
      "\n"
     ]
    },
    {
     "name": "stdout",
     "output_type": "stream",
     "text": [
      "Qwen3-14B DEV Финальный результат EX: 58.02\n",
      "Qwen3-14B процент запросов, которые успешно выполнились DEV: 96.87%\n",
      "====================================================================================================\n",
      "\n",
      "\n",
      "Загружаем чаты с данными...\n",
      "Данные успешно загружены\n",
      "Начали генерацию SQL запросов\n"
     ]
    },
    {
     "name": "stderr",
     "output_type": "stream",
     "text": [
      "Processed prompts: 100%|██████████| 1534/1534 [05:39<00:00,  4.52it/s, est. speed input: 22195.43 toks/s, output: 232.86 toks/s]"
     ]
    },
    {
     "name": "stdout",
     "output_type": "stream",
     "text": [
      "extract_think количество ошибок:  0\n",
      "extract_sql количество ошибок:  0\n",
      "Закончили генерацию SQL запросов\n",
      "Начали скорр полученных SQL запросов\n"
     ]
    },
    {
     "name": "stderr",
     "output_type": "stream",
     "text": [
      "\n"
     ]
    },
    {
     "name": "stdout",
     "output_type": "stream",
     "text": [
      "Qwen3-14B DEV Финальный результат EX: 57.69\n",
      "Qwen3-14B процент запросов, которые успешно выполнились DEV: 96.81%\n",
      "====================================================================================================\n",
      "\n",
      "\n"
     ]
    }
   ],
   "source": [
    "run_cot_experiment(model,arr_seeds,arr_versions, type_cot,num_observations=num_observations)"
   ]
  },
  {
   "cell_type": "markdown",
   "id": "e8321b48-e1ff-41e4-b667-d7196e984c17",
   "metadata": {},
   "source": [
    "## 5 наблюдений"
   ]
  },
  {
   "cell_type": "code",
   "execution_count": 9,
   "id": "613df4ca-270b-4de3-9fb0-a403da4769f9",
   "metadata": {},
   "outputs": [
    {
     "name": "stdout",
     "output_type": "stream",
     "text": [
      "[334, 803, 401, 875, 188, 168, 69, 604, 750, 665, 63, 731, 20, 448, 388, 568, 8, 472, 825, 676]\n",
      "model: Qwen3-14B\n"
     ]
    }
   ],
   "source": [
    "n= 20\n",
    "arr_seeds = [random.randint(0,1000) for _ in range(n)]\n",
    "arr_versions = [x for x in range(n)]\n",
    "model = \"Qwen3-14B\"\n",
    "num_observations = 5\n",
    "type_cot = 'all_new'\n",
    "print(arr_seeds)\n",
    "print(f\"model: {model}\")"
   ]
  },
  {
   "cell_type": "code",
   "execution_count": 10,
   "id": "cecc36c2-8753-43db-a939-82d14892b0f5",
   "metadata": {
    "scrolled": true
   },
   "outputs": [
    {
     "name": "stdout",
     "output_type": "stream",
     "text": [
      "Загружаем модель...\n"
     ]
    },
    {
     "name": "stderr",
     "output_type": "stream",
     "text": [
      "Loading safetensors checkpoint shards:   0% Completed | 0/8 [00:00<?, ?it/s]\n",
      "Loading safetensors checkpoint shards:  12% Completed | 1/8 [00:01<00:09,  1.41s/it]\n",
      "Loading safetensors checkpoint shards:  25% Completed | 2/8 [00:02<00:08,  1.40s/it]\n",
      "Loading safetensors checkpoint shards:  38% Completed | 3/8 [00:04<00:07,  1.41s/it]\n",
      "Loading safetensors checkpoint shards:  50% Completed | 4/8 [00:05<00:05,  1.40s/it]\n",
      "Loading safetensors checkpoint shards:  62% Completed | 5/8 [00:06<00:04,  1.39s/it]\n",
      "Loading safetensors checkpoint shards:  75% Completed | 6/8 [00:07<00:02,  1.16s/it]\n",
      "Loading safetensors checkpoint shards:  88% Completed | 7/8 [00:09<00:01,  1.25s/it]\n",
      "Loading safetensors checkpoint shards: 100% Completed | 8/8 [00:10<00:00,  1.31s/it]\n",
      "Loading safetensors checkpoint shards: 100% Completed | 8/8 [00:10<00:00,  1.32s/it]\n",
      "\u001b[1;36m(VllmWorker rank=0 pid=602153)\u001b[0;0m \n"
     ]
    },
    {
     "name": "stdout",
     "output_type": "stream",
     "text": [
      "Модель успешно загружена\n",
      "model_config {'model': '/data/home/vkropoti/models/Qwen3-14B', 'tensor_parallel_size': 2, 'max_model_len': 40000, 'max_new_tokens': 1500, 'temperature': 0, 'top_k': 1, 'top_p': 0.8, 'gpu_memory_utilization': 0.9, 'trust_remote_code': False, 'seed': 334}\n",
      "\n",
      "prompts_config {'path_dev_json': '/home/vkropoti/vllm/dev.json', 'path_sql_dbs': '/data/home/vkropoti/sql_data/dev_databases/', 'use_reasoning': False, 'paths_to_cot': ['/data/home/vkropoti/sql_llm_answers/bird_dev/sql_all_new_Qwen3-14B-reasoning-v0', '/data/home/vkropoti/sql_llm_answers/bird_dev/sql_all_new_Qwen3-14B-reasoning-v1', '/data/home/vkropoti/sql_llm_answers/bird_dev/sql_all_new_Qwen3-14B-reasoning-v2', '/data/home/vkropoti/sql_llm_answers/bird_dev/sql_all_new_Qwen3-14B-reasoning-v3', '/data/home/vkropoti/sql_llm_answers/bird_dev/sql_all_new_Qwen3-14B-reasoning-v4']}\n",
      "\n",
      "save_config {'path_sql_save': '/data/home/vkropoti/sql_llm_answers/bird_dev/sql_all_Qwen3-14B-cot_all_new_think==False_nobs5-v0', 'path_think_save': None, 'path_sql_answers_save': '/data/home/vkropoti/sql_llm_answers/bird_dev/sql_predict_Qwen3-14B-cot_all_new_think==False_nobs5-v0', 'path_to_save_scores': '/data/home/vkropoti/sql_llm_answers/bird_dev/sql_results_Qwen3-14B-cot_all_new_think==False_nobs5-v0', 'path_to_save_executed': '/data/home/vkropoti/sql_llm_answers/bird_dev/sql_executed_Qwen3-14B-cot_all_new_think==False_nobs5-v0'}\n",
      "\n",
      "Модель успешно загружена\n",
      "Пример промпта\n",
      "<|im_start|>system\n",
      "\n",
      "You are a data science expert. Below, you are provided with a database schema and a natural language question. Your task is to understand the schema and generate a valid SQL query to answer the question.\n",
      "\n",
      "Database Engine: SQLite\n",
      "\n",
      "You will be given an additional analysis of other models, please take it into account, so the plan is\n",
      "1. Analyse given addition analysis from other models (find in which analysis the same and differ, how to use that to answer question)\n",
      "2. Combine best from previous part and think how to solve the problem (analyze tables, take care what columns avaliable in each table and so on, check the syntacsis)\n",
      "3. Create the answers. The answer should be only sql query.\n",
      "\n",
      "Carefully follow the instruction and add <|im_end|> and the end of the final answer<|im_end|>\n",
      "<|im_start|>user\n",
      "Here is addition analysis from other models which can be helpfull, please take this into account but be careful (choose the best from each analysis, combine them to make the most proper answer):\n",
      "\n",
      "model 0 analysis:\n",
      " Reasoning process:\n",
      "\n",
      "Okay, let's see. The user is asking for the highest eligible free rate for K-12 students in schools located in Alameda County. \n",
      "\n",
      "First, I need to figure out which tables are relevant here. The question mentions \"eligible free rate,\" which is calculated as `Free Meal Count (K-12)` divided by `Enrollment (K-12)`. Looking at the tables provided, the `frpm` table contains these exact columns: `Free Meal Count (K-12)` and `Enrollment (K-12)`. So, the calculation will be done using the `frpm` table.\n",
      "\n",
      "Next, the schools need to be in Alameda County. The `County` column is present in the `schools` table. But the `frpm` table has a `County Name` column. Wait, but the user is asking for schools in Alameda County. Which table's county field should I use? The `frpm` table has a `County Name` column, and the `schools` table has a `County` column. However, since the `frpm` table has a foreign key relationship with `schools` via `CDSCode`, maybe I need to join the two tables to get the county information from `schools`?\n",
      "\n",
      "Wait, the question says \"schools in Alameda County.\" So the county is determined by the school's county, which is in the `schools` table. Therefore, I should join `frpm` with `schools` on `CDSCode` to get the `County` from `schools` and filter where that county is 'Alameda'.\n",
      "\n",
      "But let me check the schema again. The `frpm` table has a `County Name` column. However, the `schools` table has a `County` column. Maybe the `frpm` is referencing the schools' county, but perhaps the `County Name` in `frpm` is redundant. However, the user wants to filter based on the school's county, which is in the `schools` table. Therefore, to get accurate information, I should join `frpm` with `schools` on `CDSCode` and then filter `schools.County = 'Alameda'`.\n",
      "\n",
      "So the steps are:\n",
      "\n",
      "1. Join `frpm` and `schools` on `CDSCode`.\n",
      "2. Filter where `schools.County = 'Alameda'`.\n",
      "3. Calculate the eligible free rate as `Free Meal Count (K-12)` / `Enrollment (K-12)`.\n",
      "4. Find the maximum value of this calculated rate.\n",
      "\n",
      "But wait, in the `frpm` table, there's also a `County Name` column. Could that be used instead? However, the `schools` table's `County` might be more reliable. For example, if a school is in Alameda County, the `schools` table's `County` should be 'Alameda', whereas the `County Name` in `frpm` might be the same. But since the `frpm` has a foreign key to `schools`, perhaps the county is consistent between both tables. However, to be safe, using `schools.County = 'Alameda'` is better because that's the school's actual county.\n",
      "\n",
      "So, the query would involve joining `frpm` with `schools` where `CDSCode` matches. Then, filter on `schools.County = 'Alameda'`. Then calculate the rate and find the maximum.\n",
      "\n",
      "But what if there are multiple entries in `frpm` for the same school? The `frpm` table has `CDSCode` as primary key, so each school has one entry in `frpm`. So the join is straightforward.\n",
      "\n",
      "Now, the SQL query would select the maximum of (Free Meal Count / Enrollment) where the county is Alameda. The columns are in the `frpm` table, so after joining with `schools` to get the county.\n",
      "\n",
      "So the query would be:\n",
      "\n",
      "SELECT MAX(`Free Meal Count (K-12)` / `Enrollment (K-12)`) AS highest_rate\n",
      "FROM frpm\n",
      "JOIN schools ON frpm.CDSCode = schools.CDSCode\n",
      "WHERE schools.County = 'Alameda';\n",
      "\n",
      "But I need to make sure that the `Enrollment (K-12)` is not zero to avoid division by zero. However, the question might assume that all entries have valid enrollment numbers. If not, perhaps a WHERE clause to exclude zero enrollments. But since the problem doesn't mention handling that, maybe it's safe to proceed without it.\n",
      "\n",
      "Also, the `frpm` table has `Enrollment (K-12)` as a REAL, so division should be handled as floating points.\n",
      "\n",
      "So the final SQL is as above, selecting the MAX of the calculated rate, joining on CDSCode, and filtering for Alameda County in the schools table.\n",
      "\n",
      "Final answer based om reasoning for this model:\n",
      "\n",
      "\n",
      "```\n",
      "SELECT MAX(`Free Meal Count (K-12` / `Enrollment (K-12`) FROM frpm JOIN schools ON frpm.CDSCode = schools.CDSCode WHERE schools.County = 'Alameda';\n",
      "```\n",
      "\n",
      "model 1 analysis:\n",
      " Reasoning process:\n",
      "\n",
      "Okay, I need to find the highest eligible free rate for K-12 students in schools located in Alameda County. Let me break this down.\n",
      "\n",
      "First, the eligible free rate is calculated as `Free Meal Count (K-12)` divided by `Enrollment (K-12)`. The question is asking for the maximum value of this rate among schools in Alameda County.\n",
      "\n",
      "Looking at the tables, the `frpm` table has both `Free Meal Count (K-12)` and `Enrollment (K-12)` columns. Also, the `frpm` table has a `County Name` column which should be used to filter for Alameda County.\n",
      "\n",
      "Wait, but there's also a `schools` table with a `County` column. However, the `frpm` table's `County Name` is likely the correct one to use since it's part of the same dataset. The `schools` table might have different county info, but the question mentions using the `frpm` data.\n",
      "\n",
      "So, the plan is to select the maximum of (`Free Meal Count (K-12)` / `Enrollment (K-12)`) from the `frpm` table where `County Name` is 'Alameda County'.\n",
      "\n",
      "But wait, I need to make sure that the `County Name` is correctly spelled and matches the data. Also, the `frpm` table has a foreign key to `schools` via `CDSCode`, but maybe the county info is already in `frpm` so joining isn't necessary. Let me check the schema again.\n",
      "\n",
      "Yes, `frpm` has `County Name` as a column. So I don't need to join with `schools` for the county. Therefore, the query can be written directly on the `frpm` table.\n",
      "\n",
      "Now, the SQL query would use the MAX function on the division of those two columns. Also, since these are REAL numbers, the division should work. Need to make sure that `Enrollment (K-12)` is not zero to avoid division by zero, but the question might assume that all entries have valid enrollments.\n",
      "\n",
      "So the final query would be:\n",
      "\n",
      "SELECT MAX(`Free Meal Count (K-12)` / `Enrollment (K-12)`) FROM frpm WHERE `County Name` = 'Alameda County';\n",
      "\n",
      "Wait, but the `County Name` might have entries like 'Alameda County' exactly. I should check if the data uses that exact name. Assuming it does, this query should work.\n",
      "\n",
      "Final answer based om reasoning for this model:\n",
      "\n",
      "\n",
      "```\n",
      "SELECT MAX(`Free Meal Count (K-12` / `Enrollment (K-12`) FROM frpm WHERE `County Name` = 'Alameda County';\n",
      "```\n",
      "\n",
      "model 2 analysis:\n",
      " Reasoning process:\n",
      "\n",
      "Okay, let's see. The user is asking for the highest eligible free rate for K-12 students in Alameda County. The eligible free rate is calculated as Free Meal Count (K-12) divided by Enrollment (K-12). \n",
      "\n",
      "First, I need to figure out which tables have the necessary data. The frpm table has columns for Free Meal Count (K-12) and Enrollment (K-12), which are needed for the calculation. Also, the frpm table has a County Name column, which I can use to filter for Alameda County.\n",
      "\n",
      "Wait, but the schools table also has a County column. Hmm, but the frpm table has a foreign key to schools, so maybe the County Name in frpm is redundant? But the user's question specifies using the county from the schools table? Or maybe not. Let me check the schema again.\n",
      "\n",
      "Looking at the frpm table's columns, there's a `County Name` field. The schools table has a `County` field. But the question is about Alameda County, so I need to make sure which table's county field is correct. However, since the frpm table has a foreign key to schools, perhaps the county in frpm is derived from schools. But maybe the question uses the `County Name` from frpm directly. The user's instruction says to use the column names as they are, so I should check the frpm table's columns.\n",
      "\n",
      "So, to filter for Alameda County, I need to use the `County Name` column in the frpm table. Wait, but maybe the schools table's County is more accurate? The problem says to use the columns as they are. Let me recheck the tables.\n",
      "\n",
      "In the frpm table, there's `County Name`, and in schools, there's `County`. The user's question is about schools in Alameda County. If the frpm table's `County Name` is the correct county for the school, then using that would be better. Alternatively, since the frpm table references schools, maybe the county from the schools table is more accurate. But the user hasn't specified which one to use. However, since the frpm table has `County Name` and the question is about schools in Alameda County, I think the correct approach is to use the `County Name` from the frpm table because that's the county associated with the school in the frpm context.\n",
      "\n",
      "Wait, but the problem says to use the columns as they are. Let me look again. The frpm table has `County Name` as a column. The schools table has `County`. The user's question is about schools in Alameda County. Since the frpm table has a foreign key to schools, perhaps the county in frpm is the same as in schools. However, if the question is about the schools' county, then using the schools table's County would be more accurate. But without more info, perhaps the user expects using the `County Name` from the frpm table. Alternatively, maybe the schools table's County is the correct one. However, the question mentions \"schools in Alameda County\" which would be in the schools table's County field. But since the frpm table has the county name, maybe the user expects that.\n",
      "\n",
      "Alternatively, maybe the frpm table's `County Name` is redundant and the schools table's County is the correct one. However, since the frpm table has that field, maybe the user expects to use it. But I need to check the correct way. Let's think: the frpm table has the `County Name` as a column. So, if a school is in Alameda County, the `County Name` in frpm should be 'Alameda County'. So, the correct filter is `frpm.\"County Name\" = 'Alameda County'`.\n",
      "\n",
      "Now, the calculation is Free Meal Count (K-12) / Enrollment (K-12). The frpm table has both columns. So the SQL would select the maximum of that ratio. So the query would be:\n",
      "\n",
      "SELECT MAX(`Free Meal Count (K-12)` / `Enrollment (K-12)`) FROM frpm WHERE `County Name` = 'Alameda County';\n",
      "\n",
      "Wait, but the user wants the highest rate, so MAX of that calculation. That's correct.\n",
      "\n",
      "But need to ensure that both columns are not null, but the question doesn't mention handling nulls. So assuming that where the data is present, the division is valid.\n",
      "\n",
      "Therefore, the final query is selecting the maximum of that ratio from the frpm table where the county name is Alameda County.\n",
      "\n",
      "Final answer based om reasoning for this model:\n",
      "\n",
      "\n",
      "```\n",
      "SELECT MAX(`Free Meal Count (K-12)` / `Enrollment (K-12)`) FROM frpm WHERE `County Name` = 'Alameda County';\n",
      "```\n",
      "\n",
      "model 3 analysis:\n",
      " Reasoning process:\n",
      "\n",
      "Okay, let me figure out how to answer this question. The user wants the highest eligible free rate for K-12 students in Alameda County. From the external knowledge, I know that the eligible free rate is calculated by dividing the Free Meal Count (K-12) by the Enrollment (K-12). \n",
      "\n",
      "First, I need to check which tables have the necessary data. The 'frpm' table has both 'Free Meal Count (K-12)' and 'Enrollment (K-12)' columns. Also, the 'County Name' column in the 'frpm' table can be used to filter for Alameda County.\n",
      "\n",
      "So the plan is to select the maximum value of the ratio (Free Meal Count / Enrollment) from the frpm table where County Name is 'Alameda County'. But I need to make sure that the division is done correctly. In SQLite, using / should work for real numbers.\n",
      "\n",
      "Wait, the columns are of type REAL, so dividing them should give the rate. Then, using MAX() on that calculated column would give the highest rate. Also, I need to ensure that Enrollment (K-12) is not zero to avoid division by zero. However, the problem might not have such cases, or maybe the database handles it. But since the user didn't mention handling that, I'll proceed as is.\n",
      "\n",
      "So the SQL query would be: SELECT MAX(`Free Meal Count (K-12)` / `Enrollment (K-12)`) FROM frpm WHERE `County Name` = 'Alameda County';\n",
      "\n",
      "I should check if the 'County Name' is correctly spelled and matches the data in the table. Also, make sure that the column names are enclosed in backticks as they have spaces. The 'frpm' table's County Name is the right place to filter. That should do it.\n",
      "\n",
      "Final answer based om reasoning for this model:\n",
      "\n",
      "\n",
      "```\n",
      "SELECT MAX(`Free Meal Count (K-12)` / `Enrollment (K-12)`) FROM frpm WHERE `County Name` = 'Alameda County';\n",
      "```\n",
      "\n",
      "model 4 analysis:\n",
      " Reasoning process:\n",
      "\n",
      "Okay, let me try to figure out how to answer this question. The user is asking for the highest eligible free rate for K-12 students in schools located in Alameda County. \n",
      "\n",
      "First, I need to recall the database schema. The relevant tables here are 'frpm' and 'schools'. The 'frpm' table has columns for 'Free Meal Count (K-12)' and 'Enrollment (K-12)', which are needed to calculate the eligible free rate. The 'schools' table has a 'County' column that I can use to filter for Alameda County.\n",
      "\n",
      "So the plan is: join the frpm and schools tables on the CDSCode, then calculate the rate by dividing Free Meal Count by Enrollment. Then find the maximum value of that rate where the county is Alameda.\n",
      "\n",
      "Wait, but the 'County' in the schools table is the county for the school, right? So I need to join the two tables using CDSCode and then filter where schools.County = 'Alameda'.\n",
      "\n",
      "Once the tables are joined, I can compute the rate as (Free Meal Count (K-12) / Enrollment (K-12)). Then, use MAX() to get the highest rate. But I have to make sure that Enrollment isn't zero to avoid division by zero. However, the question doesn't mention handling that, so maybe the data is clean enough, or the MAX() will ignore NULLs if enrollment is zero.\n",
      "\n",
      "So the SQL query would select MAX((Free Meal Count / Enrollment)) from the joined tables where County is Alameda. Also, I need to make sure the columns are correctly quoted with backticks since they have spaces and special characters.\n",
      "\n",
      "Wait, the 'County' in schools is the county name. So the WHERE condition is schools.County = 'Alameda'.\n",
      "\n",
      "Putting it all together: SELECT MAX(`Free Meal Count (K-12)` / `Enrollment (K-12)`) FROM frpm JOIN schools ON frpm.CDSCode = schools.CDSCode WHERE schools.County = 'Alameda';\n",
      "\n",
      "But the question says to only include the information asked. The answer is a single value, the highest rate, so the SELECT should just compute that MAX.\n",
      "\n",
      "I need to check if there are any other conditions. The 'frpm' table's County Name might be redundant, but the schools table's County is the correct one to use here. The join is on CDSCode between frpm and schools. That should be correct.\n",
      "\n",
      "Yes, this should work.\n",
      "\n",
      "Final answer based om reasoning for this model:\n",
      "\n",
      "\n",
      "```\n",
      "SELECT MAX(`Free Meal Count (K-12)` / `Enrollment (K-12)`) FROM frpm JOIN schools ON frpm.CDSCode = schools.CDSCode WHERE schools.County = 'Alameda';\n",
      "```\n",
      "\n",
      "\n",
      "here is avaliable tables below\n",
      "\n",
      "\n",
      "Table: frpm\n",
      "CREATE TABLE frpm\n",
      "(\n",
      "    CDSCode                                       TEXT not null\n",
      "        primary key,\n",
      "    `Academic Year`                               TEXT  null,\n",
      "    `County Code`                                 TEXT  null,\n",
      "    `District Code`                               INTEGER         null,\n",
      "    `School Code`                                 TEXT  null,\n",
      "    `County Name`                                 TEXT null,\n",
      "    `District Name`                               TEXT null,\n",
      "    `School Name`                                 TEXT null,\n",
      "    `District Type`                               TEXT null,\n",
      "    `School Type`                                 TEXT null,\n",
      "    `Educational Option Type`                     TEXT null,\n",
      "    `NSLP Provision Status`                       TEXT null,\n",
      "    `Charter School (Y/N)`                        INTEGER    null,\n",
      "    `Charter School Number`                       TEXT  null,\n",
      "    `Charter Funding Type`                        TEXT null,\n",
      "    IRC                                           INTEGER    null,\n",
      "    `Low Grade`                                   TEXT  null,\n",
      "    `High Grade`                                  TEXT null,\n",
      "    `Enrollment (K-12)`                           REAL      null,\n",
      "    `Free Meal Count (K-12)`                      REAL       null,\n",
      "    `Percent (%) Eligible Free (K-12)`            REAL       null,\n",
      "    `FRPM Count (K-12)`                           REAL       null,\n",
      "    `Percent (%) Eligible FRPM (K-12)`            REAL       null,\n",
      "    `Enrollment (Ages 5-17)`                      REAL       null,\n",
      "    `Free Meal Count (Ages 5-17)`                 REAL       null,\n",
      "    `Percent (%) Eligible Free (Ages 5-17)`       REAL       null,\n",
      "    `FRPM Count (Ages 5-17)`                      REAL       null,\n",
      "    `Percent (%) Eligible FRPM (Ages 5-17)`       REAL       null,\n",
      "    `2013-14 CALPADS Fall 1 Certification Status` INTEGER    null,\n",
      "    foreign key (CDSCode) references schools (CDSCode)\n",
      ")\n",
      "\n",
      "Table: satscores\n",
      "CREATE TABLE satscores\n",
      "(\n",
      "    cds         TEXT not null\n",
      "        primary key,\n",
      "    rtype       TEXT  not null,\n",
      "    sname       TEXT null,\n",
      "    dname       TEXT null,\n",
      "    cname       TEXT null,\n",
      "    enroll12    INTEGER         not null,\n",
      "    NumTstTakr  INTEGER          not null,\n",
      "    AvgScrRead  INTEGER          null,\n",
      "    AvgScrMath  INTEGER          null,\n",
      "    AvgScrWrite INTEGER          null,\n",
      "    NumGE1500   INTEGER          null,\n",
      "--     PctGE1500   double      null,\n",
      "        foreign key (cds) references schools (CDSCode)\n",
      ")\n",
      "\n",
      "Table: schools\n",
      "CREATE TABLE schools\n",
      "(\n",
      "    CDSCode     TEXT not null\n",
      "        primary key,\n",
      "    NCESDist    TEXT  null,\n",
      "    NCESSchool  TEXT  null,\n",
      "    StatusType  TEXT  not null,\n",
      "    County      TEXT not null,\n",
      "    District    TEXT not null,\n",
      "    School      TEXT null,\n",
      "    Street      TEXT null,\n",
      "    StreetAbr   TEXT null,\n",
      "    City        TEXT null,\n",
      "    Zip         TEXT null,\n",
      "    State       TEXT  null,\n",
      "    MailStreet  TEXT null,\n",
      "    MailStrAbr  TEXT null,\n",
      "    MailCity    TEXT null,\n",
      "    MailZip     TEXT null,\n",
      "    MailState   TEXT  null,\n",
      "    Phone       TEXT null,\n",
      "    Ext         TEXT  null,\n",
      "    Website     TEXT null,\n",
      "    OpenDate    DATE        null,\n",
      "    ClosedDate  DATE        null,\n",
      "    Charter     INTEGER    null,\n",
      "    CharterNum  TEXT  null,\n",
      "    FundingType TEXT null,\n",
      "    DOC         TEXT  not null,\n",
      "    DOCType     TEXT not null,\n",
      "    SOC         TEXT  null,\n",
      "    SOCType     TEXT null,\n",
      "    EdOpsCode   TEXT  null,\n",
      "    EdOpsName   TEXT null,\n",
      "    EILCode     TEXT  null,\n",
      "    EILName     TEXT null,\n",
      "    GSoffered   TEXT null,\n",
      "    GSserved    TEXT  null,\n",
      "    Virtual     TEXT  null,\n",
      "    Magnet      INTEGER   null,\n",
      "    Latitude    REAL      null,\n",
      "    Longitude   REAL      null,\n",
      "    AdmFName1   TEXT null,\n",
      "    AdmLName1   TEXT null,\n",
      "    AdmEmail1   TEXT null,\n",
      "    AdmFName2   TEXT null,\n",
      "    AdmLName2   TEXT null,\n",
      "    AdmEmail2   TEXT null,\n",
      "    AdmFName3   TEXT  null,\n",
      "    AdmLName3   TEXT null,\n",
      "    AdmEmail3   TEXT null,\n",
      "    LastUpdate  DATE        not null\n",
      ")\n",
      "\n",
      "-- Using valid SQLite and understanding External Knowledge, answer the following questions for the tables provided above.\n",
      "-- What is the highest eligible free rate for K-12 students in the schools in Alameda County?\n",
      "-- External Knowledge: Eligible free rate for K-12 = `Free Meal Count (K-12)` / `Enrollment (K-12)`\n",
      "\n",
      "\n",
      "Generate the SQLite for the above question after thinking step by step: \n",
      "\n",
      "\n",
      "Instructions:\n",
      "- Make sure you only output the information that is asked in the question. If the question asks for a specific column, make sure to only include that column in the SELECT clause, nothing more.\n",
      "- The generated query should return all of the information asked in the question without any missing or extra information.\n",
      "- Before generating the final SQL query, please think through the steps of how to write the query.\n",
      "- Do not misuse column names, keep them in quotes `\n",
      "- Carefully understand what colomns belond to what tables\n",
      "- Use only initial column names, change names prohibited\n",
      "        \n",
      "Output Format:\n",
      "In your answer, please enclose the generated SQL query in a code block:\n",
      "```\n",
      "-- Your SQL query\n",
      "```    \n",
      "and nothing else, no exaplains, no comments (asnwer should be less than 512 characters)\n",
      "\n",
      "Take a deep breath and think step by step to find the correct SQL query in SQLite format.\n",
      "\n",
      "Question repetition: What is the highest eligible free rate for K-12 students in the schools in Alameda County?\n",
      "\n",
      "Be care! Include only what i want it questiona and nothing else<|im_end|>\n",
      "<|im_start|>assistant\n",
      "<think>\n",
      "\n",
      "</think>\n",
      "\n",
      "\n",
      "\n",
      "\n",
      "Максимальное количество токенов в промптах: 24243\n",
      "\n",
      "начинаем скорринг\n",
      "Загружаем чаты с данными...\n",
      "Данные успешно загружены\n",
      "Начали генерацию SQL запросов\n"
     ]
    },
    {
     "name": "stderr",
     "output_type": "stream",
     "text": [
      "Processed prompts: 100%|██████████| 1534/1534 [06:52<00:00,  3.72it/s, est. speed input: 21856.21 toks/s, output: 193.70 toks/s]"
     ]
    },
    {
     "name": "stdout",
     "output_type": "stream",
     "text": [
      "extract_think количество ошибок:  0\n",
      "extract_sql количество ошибок:  0\n",
      "Закончили генерацию SQL запросов\n",
      "Начали скорр полученных SQL запросов\n"
     ]
    },
    {
     "name": "stderr",
     "output_type": "stream",
     "text": [
      "\n"
     ]
    },
    {
     "name": "stdout",
     "output_type": "stream",
     "text": [
      "Qwen3-14B DEV Финальный результат EX: 58.02\n",
      "Qwen3-14B процент запросов, которые успешно выполнились DEV: 96.74%\n",
      "====================================================================================================\n",
      "\n",
      "\n",
      "Загружаем чаты с данными...\n",
      "Данные успешно загружены\n",
      "Начали генерацию SQL запросов\n"
     ]
    },
    {
     "name": "stderr",
     "output_type": "stream",
     "text": [
      "Processed prompts: 100%|██████████| 1534/1534 [06:53<00:00,  3.71it/s, est. speed input: 21943.57 toks/s, output: 192.72 toks/s]"
     ]
    },
    {
     "name": "stdout",
     "output_type": "stream",
     "text": [
      "extract_think количество ошибок:  0\n",
      "extract_sql количество ошибок:  0\n",
      "Закончили генерацию SQL запросов\n",
      "Начали скорр полученных SQL запросов\n"
     ]
    },
    {
     "name": "stderr",
     "output_type": "stream",
     "text": [
      "\n"
     ]
    },
    {
     "name": "stdout",
     "output_type": "stream",
     "text": [
      "Qwen3-14B DEV Финальный результат EX: 57.24\n",
      "Qwen3-14B процент запросов, которые успешно выполнились DEV: 97.07%\n",
      "====================================================================================================\n",
      "\n",
      "\n",
      "Загружаем чаты с данными...\n",
      "Данные успешно загружены\n",
      "Начали генерацию SQL запросов\n"
     ]
    },
    {
     "name": "stderr",
     "output_type": "stream",
     "text": [
      "Processed prompts: 100%|██████████| 1534/1534 [06:38<00:00,  3.85it/s, est. speed input: 21954.78 toks/s, output: 200.19 toks/s]"
     ]
    },
    {
     "name": "stdout",
     "output_type": "stream",
     "text": [
      "extract_think количество ошибок:  0\n",
      "extract_sql количество ошибок:  0\n",
      "Закончили генерацию SQL запросов\n",
      "Начали скорр полученных SQL запросов\n"
     ]
    },
    {
     "name": "stderr",
     "output_type": "stream",
     "text": [
      "\n"
     ]
    },
    {
     "name": "stdout",
     "output_type": "stream",
     "text": [
      "Qwen3-14B DEV Финальный результат EX: 58.15\n",
      "Qwen3-14B процент запросов, которые успешно выполнились DEV: 96.15%\n",
      "====================================================================================================\n",
      "\n",
      "\n",
      "Загружаем чаты с данными...\n",
      "Данные успешно загружены\n",
      "Начали генерацию SQL запросов\n"
     ]
    },
    {
     "name": "stderr",
     "output_type": "stream",
     "text": [
      "Processed prompts: 100%|██████████| 1534/1534 [06:34<00:00,  3.89it/s, est. speed input: 21965.26 toks/s, output: 203.79 toks/s]"
     ]
    },
    {
     "name": "stdout",
     "output_type": "stream",
     "text": [
      "extract_think количество ошибок:  0\n",
      "extract_sql количество ошибок:  0\n",
      "Закончили генерацию SQL запросов\n",
      "Начали скорр полученных SQL запросов\n"
     ]
    },
    {
     "name": "stderr",
     "output_type": "stream",
     "text": [
      "\n"
     ]
    },
    {
     "name": "stdout",
     "output_type": "stream",
     "text": [
      "Qwen3-14B DEV Финальный результат EX: 58.08\n",
      "Qwen3-14B процент запросов, которые успешно выполнились DEV: 95.44%\n",
      "====================================================================================================\n",
      "\n",
      "\n",
      "Загружаем чаты с данными...\n",
      "Данные успешно загружены\n",
      "Начали генерацию SQL запросов\n"
     ]
    },
    {
     "name": "stderr",
     "output_type": "stream",
     "text": [
      "Processed prompts: 100%|██████████| 1534/1534 [06:29<00:00,  3.94it/s, est. speed input: 21977.79 toks/s, output: 205.90 toks/s]"
     ]
    },
    {
     "name": "stdout",
     "output_type": "stream",
     "text": [
      "extract_think количество ошибок:  0\n",
      "extract_sql количество ошибок:  0\n",
      "Закончили генерацию SQL запросов\n",
      "Начали скорр полученных SQL запросов\n"
     ]
    },
    {
     "name": "stderr",
     "output_type": "stream",
     "text": [
      "\n"
     ]
    },
    {
     "name": "stdout",
     "output_type": "stream",
     "text": [
      "Qwen3-14B DEV Финальный результат EX: 57.89\n",
      "Qwen3-14B процент запросов, которые успешно выполнились DEV: 95.89%\n",
      "====================================================================================================\n",
      "\n",
      "\n",
      "Загружаем чаты с данными...\n",
      "Данные успешно загружены\n",
      "Начали генерацию SQL запросов\n"
     ]
    },
    {
     "name": "stderr",
     "output_type": "stream",
     "text": [
      "Processed prompts: 100%|██████████| 1534/1534 [06:25<00:00,  3.98it/s, est. speed input: 21766.71 toks/s, output: 209.55 toks/s]"
     ]
    },
    {
     "name": "stdout",
     "output_type": "stream",
     "text": [
      "extract_think количество ошибок:  0\n",
      "extract_sql количество ошибок:  0\n",
      "Закончили генерацию SQL запросов\n",
      "Начали скорр полученных SQL запросов\n"
     ]
    },
    {
     "name": "stderr",
     "output_type": "stream",
     "text": [
      "\n"
     ]
    },
    {
     "name": "stdout",
     "output_type": "stream",
     "text": [
      "Qwen3-14B DEV Финальный результат EX: 57.43\n",
      "Qwen3-14B процент запросов, которые успешно выполнились DEV: 96.09%\n",
      "====================================================================================================\n",
      "\n",
      "\n",
      "Загружаем чаты с данными...\n",
      "Данные успешно загружены\n",
      "Начали генерацию SQL запросов\n"
     ]
    },
    {
     "name": "stderr",
     "output_type": "stream",
     "text": [
      "Processed prompts: 100%|██████████| 1534/1534 [06:16<00:00,  4.08it/s, est. speed input: 22237.57 toks/s, output: 209.51 toks/s]"
     ]
    },
    {
     "name": "stdout",
     "output_type": "stream",
     "text": [
      "extract_think количество ошибок:  0\n",
      "extract_sql количество ошибок:  0\n",
      "Закончили генерацию SQL запросов\n",
      "Начали скорр полученных SQL запросов\n"
     ]
    },
    {
     "name": "stderr",
     "output_type": "stream",
     "text": [
      "\n"
     ]
    },
    {
     "name": "stdout",
     "output_type": "stream",
     "text": [
      "Qwen3-14B DEV Финальный результат EX: 58.02\n",
      "Qwen3-14B процент запросов, которые успешно выполнились DEV: 96.28%\n",
      "====================================================================================================\n",
      "\n",
      "\n",
      "Загружаем чаты с данными...\n",
      "Данные успешно загружены\n",
      "Начали генерацию SQL запросов\n"
     ]
    },
    {
     "name": "stderr",
     "output_type": "stream",
     "text": [
      "Processed prompts: 100%|██████████| 1534/1534 [06:33<00:00,  3.90it/s, est. speed input: 21911.07 toks/s, output: 202.92 toks/s]"
     ]
    },
    {
     "name": "stdout",
     "output_type": "stream",
     "text": [
      "extract_think количество ошибок:  0\n",
      "extract_sql количество ошибок:  0\n",
      "Закончили генерацию SQL запросов\n",
      "Начали скорр полученных SQL запросов\n"
     ]
    },
    {
     "name": "stderr",
     "output_type": "stream",
     "text": [
      "\n"
     ]
    },
    {
     "name": "stdout",
     "output_type": "stream",
     "text": [
      "Qwen3-14B DEV Финальный результат EX: 58.08\n",
      "Qwen3-14B процент запросов, которые успешно выполнились DEV: 96.48%\n",
      "====================================================================================================\n",
      "\n",
      "\n",
      "Загружаем чаты с данными...\n",
      "Данные успешно загружены\n",
      "Начали генерацию SQL запросов\n"
     ]
    },
    {
     "name": "stderr",
     "output_type": "stream",
     "text": [
      "Processed prompts: 100%|██████████| 1534/1534 [06:33<00:00,  3.90it/s, est. speed input: 22075.03 toks/s, output: 202.46 toks/s]"
     ]
    },
    {
     "name": "stdout",
     "output_type": "stream",
     "text": [
      "extract_think количество ошибок:  0\n",
      "extract_sql количество ошибок:  0\n",
      "Закончили генерацию SQL запросов\n",
      "Начали скорр полученных SQL запросов\n"
     ]
    },
    {
     "name": "stderr",
     "output_type": "stream",
     "text": [
      "\n"
     ]
    },
    {
     "name": "stdout",
     "output_type": "stream",
     "text": [
      "Qwen3-14B DEV Финальный результат EX: 58.41\n",
      "Qwen3-14B процент запросов, которые успешно выполнились DEV: 96.28%\n",
      "====================================================================================================\n",
      "\n",
      "\n",
      "Загружаем чаты с данными...\n",
      "Данные успешно загружены\n",
      "Начали генерацию SQL запросов\n"
     ]
    },
    {
     "name": "stderr",
     "output_type": "stream",
     "text": [
      "Processed prompts: 100%|██████████| 1534/1534 [06:39<00:00,  3.84it/s, est. speed input: 22035.02 toks/s, output: 201.28 toks/s]"
     ]
    },
    {
     "name": "stdout",
     "output_type": "stream",
     "text": [
      "extract_think количество ошибок:  0\n",
      "extract_sql количество ошибок:  0\n",
      "Закончили генерацию SQL запросов\n",
      "Начали скорр полученных SQL запросов\n"
     ]
    },
    {
     "name": "stderr",
     "output_type": "stream",
     "text": [
      "\n"
     ]
    },
    {
     "name": "stdout",
     "output_type": "stream",
     "text": [
      "Qwen3-14B DEV Финальный результат EX: 57.82\n",
      "Qwen3-14B процент запросов, которые успешно выполнились DEV: 96.28%\n",
      "====================================================================================================\n",
      "\n",
      "\n",
      "Загружаем чаты с данными...\n",
      "Данные успешно загружены\n",
      "Начали генерацию SQL запросов\n"
     ]
    },
    {
     "name": "stderr",
     "output_type": "stream",
     "text": [
      "Processed prompts: 100%|██████████| 1534/1534 [06:13<00:00,  4.11it/s, est. speed input: 22002.07 toks/s, output: 211.86 toks/s]"
     ]
    },
    {
     "name": "stdout",
     "output_type": "stream",
     "text": [
      "extract_think количество ошибок:  0\n",
      "extract_sql количество ошибок:  0\n",
      "Закончили генерацию SQL запросов\n",
      "Начали скорр полученных SQL запросов\n"
     ]
    },
    {
     "name": "stderr",
     "output_type": "stream",
     "text": [
      "\n"
     ]
    },
    {
     "name": "stdout",
     "output_type": "stream",
     "text": [
      "Qwen3-14B DEV Финальный результат EX: 58.08\n",
      "Qwen3-14B процент запросов, которые успешно выполнились DEV: 97.00%\n",
      "====================================================================================================\n",
      "\n",
      "\n",
      "Загружаем чаты с данными...\n",
      "Данные успешно загружены\n",
      "Начали генерацию SQL запросов\n"
     ]
    },
    {
     "name": "stderr",
     "output_type": "stream",
     "text": [
      "Processed prompts: 100%|██████████| 1534/1534 [05:45<00:00,  4.44it/s, est. speed input: 22306.88 toks/s, output: 228.21 toks/s]"
     ]
    },
    {
     "name": "stdout",
     "output_type": "stream",
     "text": [
      "extract_think количество ошибок:  0\n",
      "extract_sql количество ошибок:  0\n",
      "Закончили генерацию SQL запросов\n",
      "Начали скорр полученных SQL запросов\n"
     ]
    },
    {
     "name": "stderr",
     "output_type": "stream",
     "text": [
      "\n"
     ]
    },
    {
     "name": "stdout",
     "output_type": "stream",
     "text": [
      "Qwen3-14B DEV Финальный результат EX: 57.82\n",
      "Qwen3-14B процент запросов, которые успешно выполнились DEV: 96.61%\n",
      "====================================================================================================\n",
      "\n",
      "\n",
      "Загружаем чаты с данными...\n",
      "Данные успешно загружены\n",
      "Начали генерацию SQL запросов\n"
     ]
    },
    {
     "name": "stderr",
     "output_type": "stream",
     "text": [
      "Processed prompts: 100%|██████████| 1534/1534 [05:47<00:00,  4.42it/s, est. speed input: 22117.77 toks/s, output: 228.35 toks/s]"
     ]
    },
    {
     "name": "stdout",
     "output_type": "stream",
     "text": [
      "extract_think количество ошибок:  0\n",
      "extract_sql количество ошибок:  0\n",
      "Закончили генерацию SQL запросов\n",
      "Начали скорр полученных SQL запросов\n"
     ]
    },
    {
     "name": "stderr",
     "output_type": "stream",
     "text": [
      "\n"
     ]
    },
    {
     "name": "stdout",
     "output_type": "stream",
     "text": [
      "Qwen3-14B DEV Финальный результат EX: 58.21\n",
      "Qwen3-14B процент запросов, которые успешно выполнились DEV: 96.35%\n",
      "====================================================================================================\n",
      "\n",
      "\n",
      "Загружаем чаты с данными...\n",
      "Данные успешно загружены\n",
      "Начали генерацию SQL запросов\n"
     ]
    },
    {
     "name": "stderr",
     "output_type": "stream",
     "text": [
      "Processed prompts: 100%|██████████| 1534/1534 [05:46<00:00,  4.43it/s, est. speed input: 22204.38 toks/s, output: 227.91 toks/s]"
     ]
    },
    {
     "name": "stdout",
     "output_type": "stream",
     "text": [
      "extract_think количество ошибок:  0\n",
      "extract_sql количество ошибок:  0\n",
      "Закончили генерацию SQL запросов\n",
      "Начали скорр полученных SQL запросов\n"
     ]
    },
    {
     "name": "stderr",
     "output_type": "stream",
     "text": [
      "\n"
     ]
    },
    {
     "name": "stdout",
     "output_type": "stream",
     "text": [
      "Qwen3-14B DEV Финальный результат EX: 57.95\n",
      "Qwen3-14B процент запросов, которые успешно выполнились DEV: 96.74%\n",
      "====================================================================================================\n",
      "\n",
      "\n",
      "Загружаем чаты с данными...\n",
      "Данные успешно загружены\n",
      "Начали генерацию SQL запросов\n"
     ]
    },
    {
     "name": "stderr",
     "output_type": "stream",
     "text": [
      "Processed prompts: 100%|██████████| 1534/1534 [05:44<00:00,  4.45it/s, est. speed input: 22235.27 toks/s, output: 226.54 toks/s]"
     ]
    },
    {
     "name": "stdout",
     "output_type": "stream",
     "text": [
      "extract_think количество ошибок:  0\n",
      "extract_sql количество ошибок:  0\n",
      "Закончили генерацию SQL запросов\n",
      "Начали скорр полученных SQL запросов\n"
     ]
    },
    {
     "name": "stderr",
     "output_type": "stream",
     "text": [
      "\n"
     ]
    },
    {
     "name": "stdout",
     "output_type": "stream",
     "text": [
      "Qwen3-14B DEV Финальный результат EX: 58.47\n",
      "Qwen3-14B процент запросов, которые успешно выполнились DEV: 96.41%\n",
      "====================================================================================================\n",
      "\n",
      "\n",
      "Загружаем чаты с данными...\n",
      "Данные успешно загружены\n",
      "Начали генерацию SQL запросов\n"
     ]
    },
    {
     "name": "stderr",
     "output_type": "stream",
     "text": [
      "Processed prompts: 100%|██████████| 1534/1534 [06:24<00:00,  3.99it/s, est. speed input: 21769.73 toks/s, output: 208.39 toks/s]"
     ]
    },
    {
     "name": "stdout",
     "output_type": "stream",
     "text": [
      "extract_think количество ошибок:  0\n",
      "extract_sql количество ошибок:  0\n",
      "Закончили генерацию SQL запросов\n",
      "Начали скорр полученных SQL запросов\n"
     ]
    },
    {
     "name": "stderr",
     "output_type": "stream",
     "text": [
      "\n"
     ]
    },
    {
     "name": "stdout",
     "output_type": "stream",
     "text": [
      "Qwen3-14B DEV Финальный результат EX: 58.60\n",
      "Qwen3-14B процент запросов, которые успешно выполнились DEV: 96.41%\n",
      "====================================================================================================\n",
      "\n",
      "\n",
      "Загружаем чаты с данными...\n",
      "Данные успешно загружены\n",
      "Начали генерацию SQL запросов\n"
     ]
    },
    {
     "name": "stderr",
     "output_type": "stream",
     "text": [
      "Processed prompts: 100%|██████████| 1534/1534 [06:41<00:00,  3.82it/s, est. speed input: 21929.02 toks/s, output: 197.29 toks/s]"
     ]
    },
    {
     "name": "stdout",
     "output_type": "stream",
     "text": [
      "extract_think количество ошибок:  0\n",
      "extract_sql количество ошибок:  0\n",
      "Закончили генерацию SQL запросов\n",
      "Начали скорр полученных SQL запросов\n"
     ]
    },
    {
     "name": "stderr",
     "output_type": "stream",
     "text": [
      "\n"
     ]
    },
    {
     "name": "stdout",
     "output_type": "stream",
     "text": [
      "Qwen3-14B DEV Финальный результат EX: 58.34\n",
      "Qwen3-14B процент запросов, которые успешно выполнились DEV: 96.22%\n",
      "====================================================================================================\n",
      "\n",
      "\n",
      "Загружаем чаты с данными...\n",
      "Данные успешно загружены\n",
      "Начали генерацию SQL запросов\n"
     ]
    },
    {
     "name": "stderr",
     "output_type": "stream",
     "text": [
      "Processed prompts: 100%|██████████| 1534/1534 [06:48<00:00,  3.75it/s, est. speed input: 21833.14 toks/s, output: 196.13 toks/s]"
     ]
    },
    {
     "name": "stdout",
     "output_type": "stream",
     "text": [
      "extract_think количество ошибок:  0\n",
      "extract_sql количество ошибок:  0\n",
      "Закончили генерацию SQL запросов\n",
      "Начали скорр полученных SQL запросов\n"
     ]
    },
    {
     "name": "stderr",
     "output_type": "stream",
     "text": [
      "\n"
     ]
    },
    {
     "name": "stdout",
     "output_type": "stream",
     "text": [
      "Qwen3-14B DEV Финальный результат EX: 58.21\n",
      "Qwen3-14B процент запросов, которые успешно выполнились DEV: 96.54%\n",
      "====================================================================================================\n",
      "\n",
      "\n",
      "Загружаем чаты с данными...\n",
      "Данные успешно загружены\n",
      "Начали генерацию SQL запросов\n"
     ]
    },
    {
     "name": "stderr",
     "output_type": "stream",
     "text": [
      "Processed prompts: 100%|██████████| 1534/1534 [06:48<00:00,  3.76it/s, est. speed input: 21904.11 toks/s, output: 195.82 toks/s]"
     ]
    },
    {
     "name": "stdout",
     "output_type": "stream",
     "text": [
      "extract_think количество ошибок:  0\n",
      "extract_sql количество ошибок:  0\n",
      "Закончили генерацию SQL запросов\n",
      "Начали скорр полученных SQL запросов\n"
     ]
    },
    {
     "name": "stderr",
     "output_type": "stream",
     "text": [
      "\n"
     ]
    },
    {
     "name": "stdout",
     "output_type": "stream",
     "text": [
      "Qwen3-14B DEV Финальный результат EX: 57.30\n",
      "Qwen3-14B процент запросов, которые успешно выполнились DEV: 96.35%\n",
      "====================================================================================================\n",
      "\n",
      "\n",
      "Загружаем чаты с данными...\n",
      "Данные успешно загружены\n",
      "Начали генерацию SQL запросов\n"
     ]
    },
    {
     "name": "stderr",
     "output_type": "stream",
     "text": [
      "Processed prompts: 100%|██████████| 1534/1534 [06:45<00:00,  3.78it/s, est. speed input: 22029.02 toks/s, output: 195.40 toks/s]"
     ]
    },
    {
     "name": "stdout",
     "output_type": "stream",
     "text": [
      "extract_think количество ошибок:  0\n",
      "extract_sql количество ошибок:  0\n",
      "Закончили генерацию SQL запросов\n",
      "Начали скорр полученных SQL запросов\n"
     ]
    },
    {
     "name": "stderr",
     "output_type": "stream",
     "text": [
      "\n"
     ]
    },
    {
     "name": "stdout",
     "output_type": "stream",
     "text": [
      "Qwen3-14B DEV Финальный результат EX: 57.95\n",
      "Qwen3-14B процент запросов, которые успешно выполнились DEV: 96.48%\n",
      "====================================================================================================\n",
      "\n",
      "\n"
     ]
    }
   ],
   "source": [
    "run_cot_experiment(model,arr_seeds,arr_versions, type_cot,num_observations=num_observations)"
   ]
  },
  {
   "cell_type": "markdown",
   "id": "8ecdae85-ab3f-4123-8cb2-d235fe12a9b6",
   "metadata": {},
   "source": [
    "## 6 наблюдений"
   ]
  },
  {
   "cell_type": "code",
   "execution_count": 11,
   "id": "4cf5d319-24ae-42c5-a259-219dab753f06",
   "metadata": {},
   "outputs": [
    {
     "name": "stdout",
     "output_type": "stream",
     "text": [
      "[390, 11, 230, 415, 216, 185, 261, 565, 782, 256, 416, 35, 215, 996, 426, 432, 380, 327, 66, 331]\n",
      "model: Qwen3-14B\n"
     ]
    }
   ],
   "source": [
    "n= 20\n",
    "arr_seeds = [random.randint(0,1000) for _ in range(n)]\n",
    "arr_versions = [x for x in range(n)]\n",
    "model = \"Qwen3-14B\"\n",
    "num_observations = 6\n",
    "type_cot = 'all_new'\n",
    "print(arr_seeds)\n",
    "print(f\"model: {model}\")"
   ]
  },
  {
   "cell_type": "code",
   "execution_count": 12,
   "id": "658afdd2-e3e5-4436-989d-2a8c484bbd3f",
   "metadata": {
    "scrolled": true
   },
   "outputs": [
    {
     "name": "stdout",
     "output_type": "stream",
     "text": [
      "Загружаем модель...\n"
     ]
    },
    {
     "name": "stderr",
     "output_type": "stream",
     "text": [
      "Loading safetensors checkpoint shards:   0% Completed | 0/8 [00:00<?, ?it/s]\n",
      "Loading safetensors checkpoint shards:  12% Completed | 1/8 [00:01<00:09,  1.41s/it]\n",
      "Loading safetensors checkpoint shards:  25% Completed | 2/8 [00:02<00:08,  1.41s/it]\n",
      "Loading safetensors checkpoint shards:  38% Completed | 3/8 [00:04<00:07,  1.41s/it]\n",
      "Loading safetensors checkpoint shards:  50% Completed | 4/8 [00:05<00:05,  1.42s/it]\n",
      "Loading safetensors checkpoint shards:  62% Completed | 5/8 [00:07<00:04,  1.43s/it]\n",
      "Loading safetensors checkpoint shards:  75% Completed | 6/8 [00:07<00:02,  1.19s/it]\n",
      "Loading safetensors checkpoint shards:  88% Completed | 7/8 [00:09<00:01,  1.25s/it]\n",
      "Loading safetensors checkpoint shards: 100% Completed | 8/8 [00:10<00:00,  1.28s/it]\n",
      "Loading safetensors checkpoint shards: 100% Completed | 8/8 [00:10<00:00,  1.32s/it]\n",
      "\u001b[1;36m(VllmWorker rank=0 pid=665960)\u001b[0;0m \n"
     ]
    },
    {
     "name": "stdout",
     "output_type": "stream",
     "text": [
      "Модель успешно загружена\n",
      "model_config {'model': '/data/home/vkropoti/models/Qwen3-14B', 'tensor_parallel_size': 2, 'max_model_len': 40000, 'max_new_tokens': 1500, 'temperature': 0, 'top_k': 1, 'top_p': 0.8, 'gpu_memory_utilization': 0.9, 'trust_remote_code': False, 'seed': 390}\n",
      "\n",
      "prompts_config {'path_dev_json': '/home/vkropoti/vllm/dev.json', 'path_sql_dbs': '/data/home/vkropoti/sql_data/dev_databases/', 'use_reasoning': False, 'paths_to_cot': ['/data/home/vkropoti/sql_llm_answers/bird_dev/sql_all_new_Qwen3-14B-reasoning-v0', '/data/home/vkropoti/sql_llm_answers/bird_dev/sql_all_new_Qwen3-14B-reasoning-v1', '/data/home/vkropoti/sql_llm_answers/bird_dev/sql_all_new_Qwen3-14B-reasoning-v2', '/data/home/vkropoti/sql_llm_answers/bird_dev/sql_all_new_Qwen3-14B-reasoning-v3', '/data/home/vkropoti/sql_llm_answers/bird_dev/sql_all_new_Qwen3-14B-reasoning-v4', '/data/home/vkropoti/sql_llm_answers/bird_dev/sql_all_new_Qwen3-14B-reasoning-v5']}\n",
      "\n",
      "save_config {'path_sql_save': '/data/home/vkropoti/sql_llm_answers/bird_dev/sql_all_Qwen3-14B-cot_all_new_think==False_nobs6-v0', 'path_think_save': None, 'path_sql_answers_save': '/data/home/vkropoti/sql_llm_answers/bird_dev/sql_predict_Qwen3-14B-cot_all_new_think==False_nobs6-v0', 'path_to_save_scores': '/data/home/vkropoti/sql_llm_answers/bird_dev/sql_results_Qwen3-14B-cot_all_new_think==False_nobs6-v0', 'path_to_save_executed': '/data/home/vkropoti/sql_llm_answers/bird_dev/sql_executed_Qwen3-14B-cot_all_new_think==False_nobs6-v0'}\n",
      "\n",
      "Модель успешно загружена\n",
      "Пример промпта\n",
      "<|im_start|>system\n",
      "\n",
      "You are a data science expert. Below, you are provided with a database schema and a natural language question. Your task is to understand the schema and generate a valid SQL query to answer the question.\n",
      "\n",
      "Database Engine: SQLite\n",
      "\n",
      "You will be given an additional analysis of other models, please take it into account, so the plan is\n",
      "1. Analyse given addition analysis from other models (find in which analysis the same and differ, how to use that to answer question)\n",
      "2. Combine best from previous part and think how to solve the problem (analyze tables, take care what columns avaliable in each table and so on, check the syntacsis)\n",
      "3. Create the answers. The answer should be only sql query.\n",
      "\n",
      "Carefully follow the instruction and add <|im_end|> and the end of the final answer<|im_end|>\n",
      "<|im_start|>user\n",
      "Here is addition analysis from other models which can be helpfull, please take this into account but be careful (choose the best from each analysis, combine them to make the most proper answer):\n",
      "\n",
      "model 0 analysis:\n",
      " Reasoning process:\n",
      "\n",
      "Okay, let's see. The user is asking for the highest eligible free rate for K-12 students in schools located in Alameda County. \n",
      "\n",
      "First, I need to figure out which tables are relevant here. The question mentions \"eligible free rate,\" which is calculated as `Free Meal Count (K-12)` divided by `Enrollment (K-12)`. Looking at the tables provided, the `frpm` table contains these exact columns: `Free Meal Count (K-12)` and `Enrollment (K-12)`. So, the calculation will be done using the `frpm` table.\n",
      "\n",
      "Next, the schools need to be in Alameda County. The `County` column is present in the `schools` table. But the `frpm` table has a `County Name` column. Wait, but the user is asking for schools in Alameda County. Which table's county field should I use? The `frpm` table has a `County Name` column, and the `schools` table has a `County` column. However, since the `frpm` table has a foreign key relationship with `schools` via `CDSCode`, maybe I need to join the two tables to get the county information from `schools`?\n",
      "\n",
      "Wait, the question says \"schools in Alameda County.\" So the county is determined by the school's county, which is in the `schools` table. Therefore, I should join `frpm` with `schools` on `CDSCode` to get the `County` from `schools` and filter where that county is 'Alameda'.\n",
      "\n",
      "But let me check the schema again. The `frpm` table has a `County Name` column. However, the `schools` table has a `County` column. Maybe the `frpm` is referencing the schools' county, but perhaps the `County Name` in `frpm` is redundant. However, the user wants to filter based on the school's county, which is in the `schools` table. Therefore, to get accurate information, I should join `frpm` with `schools` on `CDSCode` and then filter `schools.County = 'Alameda'`.\n",
      "\n",
      "So the steps are:\n",
      "\n",
      "1. Join `frpm` and `schools` on `CDSCode`.\n",
      "2. Filter where `schools.County = 'Alameda'`.\n",
      "3. Calculate the eligible free rate as `Free Meal Count (K-12)` / `Enrollment (K-12)`.\n",
      "4. Find the maximum value of this calculated rate.\n",
      "\n",
      "But wait, in the `frpm` table, there's also a `County Name` column. Could that be used instead? However, the `schools` table's `County` might be more reliable. For example, if a school is in Alameda County, the `schools` table's `County` should be 'Alameda', whereas the `County Name` in `frpm` might be the same. But since the `frpm` has a foreign key to `schools`, perhaps the county is consistent between both tables. However, to be safe, using `schools.County = 'Alameda'` is better because that's the school's actual county.\n",
      "\n",
      "So, the query would involve joining `frpm` with `schools` where `CDSCode` matches. Then, filter on `schools.County = 'Alameda'`. Then calculate the rate and find the maximum.\n",
      "\n",
      "But what if there are multiple entries in `frpm` for the same school? The `frpm` table has `CDSCode` as primary key, so each school has one entry in `frpm`. So the join is straightforward.\n",
      "\n",
      "Now, the SQL query would select the maximum of (Free Meal Count / Enrollment) where the county is Alameda. The columns are in the `frpm` table, so after joining with `schools` to get the county.\n",
      "\n",
      "So the query would be:\n",
      "\n",
      "SELECT MAX(`Free Meal Count (K-12)` / `Enrollment (K-12)`) AS highest_rate\n",
      "FROM frpm\n",
      "JOIN schools ON frpm.CDSCode = schools.CDSCode\n",
      "WHERE schools.County = 'Alameda';\n",
      "\n",
      "But I need to make sure that the `Enrollment (K-12)` is not zero to avoid division by zero. However, the question might assume that all entries have valid enrollment numbers. If not, perhaps a WHERE clause to exclude zero enrollments. But since the problem doesn't mention handling that, maybe it's safe to proceed without it.\n",
      "\n",
      "Also, the `frpm` table has `Enrollment (K-12)` as a REAL, so division should be handled as floating points.\n",
      "\n",
      "So the final SQL is as above, selecting the MAX of the calculated rate, joining on CDSCode, and filtering for Alameda County in the schools table.\n",
      "\n",
      "Final answer based om reasoning for this model:\n",
      "\n",
      "\n",
      "```\n",
      "SELECT MAX(`Free Meal Count (K-12` / `Enrollment (K-12`) FROM frpm JOIN schools ON frpm.CDSCode = schools.CDSCode WHERE schools.County = 'Alameda';\n",
      "```\n",
      "\n",
      "model 1 analysis:\n",
      " Reasoning process:\n",
      "\n",
      "Okay, I need to find the highest eligible free rate for K-12 students in schools located in Alameda County. Let me break this down.\n",
      "\n",
      "First, the eligible free rate is calculated as `Free Meal Count (K-12)` divided by `Enrollment (K-12)`. The question is asking for the maximum value of this rate among schools in Alameda County.\n",
      "\n",
      "Looking at the tables, the `frpm` table has both `Free Meal Count (K-12)` and `Enrollment (K-12)` columns. Also, the `frpm` table has a `County Name` column which should be used to filter for Alameda County.\n",
      "\n",
      "Wait, but there's also a `schools` table with a `County` column. However, the `frpm` table's `County Name` is likely the correct one to use since it's part of the same dataset. The `schools` table might have different county info, but the question mentions using the `frpm` data.\n",
      "\n",
      "So, the plan is to select the maximum of (`Free Meal Count (K-12)` / `Enrollment (K-12)`) from the `frpm` table where `County Name` is 'Alameda County'.\n",
      "\n",
      "But wait, I need to make sure that the `County Name` is correctly spelled and matches the data. Also, the `frpm` table has a foreign key to `schools` via `CDSCode`, but maybe the county info is already in `frpm` so joining isn't necessary. Let me check the schema again.\n",
      "\n",
      "Yes, `frpm` has `County Name` as a column. So I don't need to join with `schools` for the county. Therefore, the query can be written directly on the `frpm` table.\n",
      "\n",
      "Now, the SQL query would use the MAX function on the division of those two columns. Also, since these are REAL numbers, the division should work. Need to make sure that `Enrollment (K-12)` is not zero to avoid division by zero, but the question might assume that all entries have valid enrollments.\n",
      "\n",
      "So the final query would be:\n",
      "\n",
      "SELECT MAX(`Free Meal Count (K-12)` / `Enrollment (K-12)`) FROM frpm WHERE `County Name` = 'Alameda County';\n",
      "\n",
      "Wait, but the `County Name` might have entries like 'Alameda County' exactly. I should check if the data uses that exact name. Assuming it does, this query should work.\n",
      "\n",
      "Final answer based om reasoning for this model:\n",
      "\n",
      "\n",
      "```\n",
      "SELECT MAX(`Free Meal Count (K-12` / `Enrollment (K-12`) FROM frpm WHERE `County Name` = 'Alameda County';\n",
      "```\n",
      "\n",
      "model 2 analysis:\n",
      " Reasoning process:\n",
      "\n",
      "Okay, let's see. The user is asking for the highest eligible free rate for K-12 students in Alameda County. The eligible free rate is calculated as Free Meal Count (K-12) divided by Enrollment (K-12). \n",
      "\n",
      "First, I need to figure out which tables have the necessary data. The frpm table has columns for Free Meal Count (K-12) and Enrollment (K-12), which are needed for the calculation. Also, the frpm table has a County Name column, which I can use to filter for Alameda County.\n",
      "\n",
      "Wait, but the schools table also has a County column. Hmm, but the frpm table has a foreign key to schools, so maybe the County Name in frpm is redundant? But the user's question specifies using the county from the schools table? Or maybe not. Let me check the schema again.\n",
      "\n",
      "Looking at the frpm table's columns, there's a `County Name` field. The schools table has a `County` field. But the question is about Alameda County, so I need to make sure which table's county field is correct. However, since the frpm table has a foreign key to schools, perhaps the county in frpm is derived from schools. But maybe the question uses the `County Name` from frpm directly. The user's instruction says to use the column names as they are, so I should check the frpm table's columns.\n",
      "\n",
      "So, to filter for Alameda County, I need to use the `County Name` column in the frpm table. Wait, but maybe the schools table's County is more accurate? The problem says to use the columns as they are. Let me recheck the tables.\n",
      "\n",
      "In the frpm table, there's `County Name`, and in schools, there's `County`. The user's question is about schools in Alameda County. If the frpm table's `County Name` is the correct county for the school, then using that would be better. Alternatively, since the frpm table references schools, maybe the county from the schools table is more accurate. But the user hasn't specified which one to use. However, since the frpm table has `County Name` and the question is about schools in Alameda County, I think the correct approach is to use the `County Name` from the frpm table because that's the county associated with the school in the frpm context.\n",
      "\n",
      "Wait, but the problem says to use the columns as they are. Let me look again. The frpm table has `County Name` as a column. The schools table has `County`. The user's question is about schools in Alameda County. Since the frpm table has a foreign key to schools, perhaps the county in frpm is the same as in schools. However, if the question is about the schools' county, then using the schools table's County would be more accurate. But without more info, perhaps the user expects using the `County Name` from the frpm table. Alternatively, maybe the schools table's County is the correct one. However, the question mentions \"schools in Alameda County\" which would be in the schools table's County field. But since the frpm table has the county name, maybe the user expects that.\n",
      "\n",
      "Alternatively, maybe the frpm table's `County Name` is redundant and the schools table's County is the correct one. However, since the frpm table has that field, maybe the user expects to use it. But I need to check the correct way. Let's think: the frpm table has the `County Name` as a column. So, if a school is in Alameda County, the `County Name` in frpm should be 'Alameda County'. So, the correct filter is `frpm.\"County Name\" = 'Alameda County'`.\n",
      "\n",
      "Now, the calculation is Free Meal Count (K-12) / Enrollment (K-12). The frpm table has both columns. So the SQL would select the maximum of that ratio. So the query would be:\n",
      "\n",
      "SELECT MAX(`Free Meal Count (K-12)` / `Enrollment (K-12)`) FROM frpm WHERE `County Name` = 'Alameda County';\n",
      "\n",
      "Wait, but the user wants the highest rate, so MAX of that calculation. That's correct.\n",
      "\n",
      "But need to ensure that both columns are not null, but the question doesn't mention handling nulls. So assuming that where the data is present, the division is valid.\n",
      "\n",
      "Therefore, the final query is selecting the maximum of that ratio from the frpm table where the county name is Alameda County.\n",
      "\n",
      "Final answer based om reasoning for this model:\n",
      "\n",
      "\n",
      "```\n",
      "SELECT MAX(`Free Meal Count (K-12)` / `Enrollment (K-12)`) FROM frpm WHERE `County Name` = 'Alameda County';\n",
      "```\n",
      "\n",
      "model 3 analysis:\n",
      " Reasoning process:\n",
      "\n",
      "Okay, let me figure out how to answer this question. The user wants the highest eligible free rate for K-12 students in Alameda County. From the external knowledge, I know that the eligible free rate is calculated by dividing the Free Meal Count (K-12) by the Enrollment (K-12). \n",
      "\n",
      "First, I need to check which tables have the necessary data. The 'frpm' table has both 'Free Meal Count (K-12)' and 'Enrollment (K-12)' columns. Also, the 'County Name' column in the 'frpm' table can be used to filter for Alameda County.\n",
      "\n",
      "So the plan is to select the maximum value of the ratio (Free Meal Count / Enrollment) from the frpm table where County Name is 'Alameda County'. But I need to make sure that the division is done correctly. In SQLite, using / should work for real numbers.\n",
      "\n",
      "Wait, the columns are of type REAL, so dividing them should give the rate. Then, using MAX() on that calculated column would give the highest rate. Also, I need to ensure that Enrollment (K-12) is not zero to avoid division by zero. However, the problem might not have such cases, or maybe the database handles it. But since the user didn't mention handling that, I'll proceed as is.\n",
      "\n",
      "So the SQL query would be: SELECT MAX(`Free Meal Count (K-12)` / `Enrollment (K-12)`) FROM frpm WHERE `County Name` = 'Alameda County';\n",
      "\n",
      "I should check if the 'County Name' is correctly spelled and matches the data in the table. Also, make sure that the column names are enclosed in backticks as they have spaces. The 'frpm' table's County Name is the right place to filter. That should do it.\n",
      "\n",
      "Final answer based om reasoning for this model:\n",
      "\n",
      "\n",
      "```\n",
      "SELECT MAX(`Free Meal Count (K-12)` / `Enrollment (K-12)`) FROM frpm WHERE `County Name` = 'Alameda County';\n",
      "```\n",
      "\n",
      "model 4 analysis:\n",
      " Reasoning process:\n",
      "\n",
      "Okay, let me try to figure out how to answer this question. The user is asking for the highest eligible free rate for K-12 students in schools located in Alameda County. \n",
      "\n",
      "First, I need to recall the database schema. The relevant tables here are 'frpm' and 'schools'. The 'frpm' table has columns for 'Free Meal Count (K-12)' and 'Enrollment (K-12)', which are needed to calculate the eligible free rate. The 'schools' table has a 'County' column that I can use to filter for Alameda County.\n",
      "\n",
      "So the plan is: join the frpm and schools tables on the CDSCode, then calculate the rate by dividing Free Meal Count by Enrollment. Then find the maximum value of that rate where the county is Alameda.\n",
      "\n",
      "Wait, but the 'County' in the schools table is the county for the school, right? So I need to join the two tables using CDSCode and then filter where schools.County = 'Alameda'.\n",
      "\n",
      "Once the tables are joined, I can compute the rate as (Free Meal Count (K-12) / Enrollment (K-12)). Then, use MAX() to get the highest rate. But I have to make sure that Enrollment isn't zero to avoid division by zero. However, the question doesn't mention handling that, so maybe the data is clean enough, or the MAX() will ignore NULLs if enrollment is zero.\n",
      "\n",
      "So the SQL query would select MAX((Free Meal Count / Enrollment)) from the joined tables where County is Alameda. Also, I need to make sure the columns are correctly quoted with backticks since they have spaces and special characters.\n",
      "\n",
      "Wait, the 'County' in schools is the county name. So the WHERE condition is schools.County = 'Alameda'.\n",
      "\n",
      "Putting it all together: SELECT MAX(`Free Meal Count (K-12)` / `Enrollment (K-12)`) FROM frpm JOIN schools ON frpm.CDSCode = schools.CDSCode WHERE schools.County = 'Alameda';\n",
      "\n",
      "But the question says to only include the information asked. The answer is a single value, the highest rate, so the SELECT should just compute that MAX.\n",
      "\n",
      "I need to check if there are any other conditions. The 'frpm' table's County Name might be redundant, but the schools table's County is the correct one to use here. The join is on CDSCode between frpm and schools. That should be correct.\n",
      "\n",
      "Yes, this should work.\n",
      "\n",
      "Final answer based om reasoning for this model:\n",
      "\n",
      "\n",
      "```\n",
      "SELECT MAX(`Free Meal Count (K-12)` / `Enrollment (K-12)`) FROM frpm JOIN schools ON frpm.CDSCode = schools.CDSCode WHERE schools.County = 'Alameda';\n",
      "```\n",
      "\n",
      "model 5 analysis:\n",
      " Reasoning process:\n",
      "\n",
      "Okay, I need to find the highest eligible free rate for K-12 students in Alameda County. Let me start by looking at the tables available. The frpm table has columns for Free Meal Count (K-12) and Enrollment (K-12), which are needed to calculate the rate. The question mentions Alameda County, so I need to filter schools in that county.\n",
      "\n",
      "The schools table has a County column, so I should join frpm with schools on CDSCode to get the county information. Then, I can filter where schools.County = 'Alameda'. \n",
      "\n",
      "The calculation is Free Meal Count divided by Enrollment. Since these are REAL numbers, I can compute that in SQL. To get the highest rate, I'll use MAX() on the calculated column. \n",
      "\n",
      "Wait, but I need to make sure that Enrollment isn't zero to avoid division by zero. But maybe the data doesn't have that, or the question assumes it's safe. The problem doesn't mention handling that, so proceed as is.\n",
      "\n",
      "So the steps are: Join frpm and schools on CDSCode, filter for Alameda County, calculate the rate, then select the maximum value. The final query should select MAX((Free Meal Count (K-12) / Enrollment (K-12))) from the joined tables where County is Alameda.\n",
      "\n",
      "Final answer based om reasoning for this model:\n",
      "\n",
      "\n",
      "```\n",
      "SELECT MAX(`Free Meal Count (K-12)` / `Enrollment (K-12)`) FROM frpm JOIN schools ON frpm.CDSCode = schools.CDSCode WHERE schools.County = 'Alameda';\n",
      "```\n",
      "\n",
      "\n",
      "here is avaliable tables below\n",
      "\n",
      "\n",
      "Table: frpm\n",
      "CREATE TABLE frpm\n",
      "(\n",
      "    CDSCode                                       TEXT not null\n",
      "        primary key,\n",
      "    `Academic Year`                               TEXT  null,\n",
      "    `County Code`                                 TEXT  null,\n",
      "    `District Code`                               INTEGER         null,\n",
      "    `School Code`                                 TEXT  null,\n",
      "    `County Name`                                 TEXT null,\n",
      "    `District Name`                               TEXT null,\n",
      "    `School Name`                                 TEXT null,\n",
      "    `District Type`                               TEXT null,\n",
      "    `School Type`                                 TEXT null,\n",
      "    `Educational Option Type`                     TEXT null,\n",
      "    `NSLP Provision Status`                       TEXT null,\n",
      "    `Charter School (Y/N)`                        INTEGER    null,\n",
      "    `Charter School Number`                       TEXT  null,\n",
      "    `Charter Funding Type`                        TEXT null,\n",
      "    IRC                                           INTEGER    null,\n",
      "    `Low Grade`                                   TEXT  null,\n",
      "    `High Grade`                                  TEXT null,\n",
      "    `Enrollment (K-12)`                           REAL      null,\n",
      "    `Free Meal Count (K-12)`                      REAL       null,\n",
      "    `Percent (%) Eligible Free (K-12)`            REAL       null,\n",
      "    `FRPM Count (K-12)`                           REAL       null,\n",
      "    `Percent (%) Eligible FRPM (K-12)`            REAL       null,\n",
      "    `Enrollment (Ages 5-17)`                      REAL       null,\n",
      "    `Free Meal Count (Ages 5-17)`                 REAL       null,\n",
      "    `Percent (%) Eligible Free (Ages 5-17)`       REAL       null,\n",
      "    `FRPM Count (Ages 5-17)`                      REAL       null,\n",
      "    `Percent (%) Eligible FRPM (Ages 5-17)`       REAL       null,\n",
      "    `2013-14 CALPADS Fall 1 Certification Status` INTEGER    null,\n",
      "    foreign key (CDSCode) references schools (CDSCode)\n",
      ")\n",
      "\n",
      "Table: satscores\n",
      "CREATE TABLE satscores\n",
      "(\n",
      "    cds         TEXT not null\n",
      "        primary key,\n",
      "    rtype       TEXT  not null,\n",
      "    sname       TEXT null,\n",
      "    dname       TEXT null,\n",
      "    cname       TEXT null,\n",
      "    enroll12    INTEGER         not null,\n",
      "    NumTstTakr  INTEGER          not null,\n",
      "    AvgScrRead  INTEGER          null,\n",
      "    AvgScrMath  INTEGER          null,\n",
      "    AvgScrWrite INTEGER          null,\n",
      "    NumGE1500   INTEGER          null,\n",
      "--     PctGE1500   double      null,\n",
      "        foreign key (cds) references schools (CDSCode)\n",
      ")\n",
      "\n",
      "Table: schools\n",
      "CREATE TABLE schools\n",
      "(\n",
      "    CDSCode     TEXT not null\n",
      "        primary key,\n",
      "    NCESDist    TEXT  null,\n",
      "    NCESSchool  TEXT  null,\n",
      "    StatusType  TEXT  not null,\n",
      "    County      TEXT not null,\n",
      "    District    TEXT not null,\n",
      "    School      TEXT null,\n",
      "    Street      TEXT null,\n",
      "    StreetAbr   TEXT null,\n",
      "    City        TEXT null,\n",
      "    Zip         TEXT null,\n",
      "    State       TEXT  null,\n",
      "    MailStreet  TEXT null,\n",
      "    MailStrAbr  TEXT null,\n",
      "    MailCity    TEXT null,\n",
      "    MailZip     TEXT null,\n",
      "    MailState   TEXT  null,\n",
      "    Phone       TEXT null,\n",
      "    Ext         TEXT  null,\n",
      "    Website     TEXT null,\n",
      "    OpenDate    DATE        null,\n",
      "    ClosedDate  DATE        null,\n",
      "    Charter     INTEGER    null,\n",
      "    CharterNum  TEXT  null,\n",
      "    FundingType TEXT null,\n",
      "    DOC         TEXT  not null,\n",
      "    DOCType     TEXT not null,\n",
      "    SOC         TEXT  null,\n",
      "    SOCType     TEXT null,\n",
      "    EdOpsCode   TEXT  null,\n",
      "    EdOpsName   TEXT null,\n",
      "    EILCode     TEXT  null,\n",
      "    EILName     TEXT null,\n",
      "    GSoffered   TEXT null,\n",
      "    GSserved    TEXT  null,\n",
      "    Virtual     TEXT  null,\n",
      "    Magnet      INTEGER   null,\n",
      "    Latitude    REAL      null,\n",
      "    Longitude   REAL      null,\n",
      "    AdmFName1   TEXT null,\n",
      "    AdmLName1   TEXT null,\n",
      "    AdmEmail1   TEXT null,\n",
      "    AdmFName2   TEXT null,\n",
      "    AdmLName2   TEXT null,\n",
      "    AdmEmail2   TEXT null,\n",
      "    AdmFName3   TEXT  null,\n",
      "    AdmLName3   TEXT null,\n",
      "    AdmEmail3   TEXT null,\n",
      "    LastUpdate  DATE        not null\n",
      ")\n",
      "\n",
      "-- Using valid SQLite and understanding External Knowledge, answer the following questions for the tables provided above.\n",
      "-- What is the highest eligible free rate for K-12 students in the schools in Alameda County?\n",
      "-- External Knowledge: Eligible free rate for K-12 = `Free Meal Count (K-12)` / `Enrollment (K-12)`\n",
      "\n",
      "\n",
      "Generate the SQLite for the above question after thinking step by step: \n",
      "\n",
      "\n",
      "Instructions:\n",
      "- Make sure you only output the information that is asked in the question. If the question asks for a specific column, make sure to only include that column in the SELECT clause, nothing more.\n",
      "- The generated query should return all of the information asked in the question without any missing or extra information.\n",
      "- Before generating the final SQL query, please think through the steps of how to write the query.\n",
      "- Do not misuse column names, keep them in quotes `\n",
      "- Carefully understand what colomns belond to what tables\n",
      "- Use only initial column names, change names prohibited\n",
      "        \n",
      "Output Format:\n",
      "In your answer, please enclose the generated SQL query in a code block:\n",
      "```\n",
      "-- Your SQL query\n",
      "```    \n",
      "and nothing else, no exaplains, no comments (asnwer should be less than 512 characters)\n",
      "\n",
      "Take a deep breath and think step by step to find the correct SQL query in SQLite format.\n",
      "\n",
      "Question repetition: What is the highest eligible free rate for K-12 students in the schools in Alameda County?\n",
      "\n",
      "Be care! Include only what i want it questiona and nothing else<|im_end|>\n",
      "<|im_start|>assistant\n",
      "<think>\n",
      "\n",
      "</think>\n",
      "\n",
      "\n",
      "\n",
      "\n",
      "Максимальное количество токенов в промптах: 28141\n",
      "\n",
      "начинаем скорринг\n",
      "Загружаем чаты с данными...\n",
      "Данные успешно загружены\n",
      "Начали генерацию SQL запросов\n"
     ]
    },
    {
     "name": "stderr",
     "output_type": "stream",
     "text": [
      "Processed prompts: 100%|██████████| 1534/1534 [08:08<00:00,  3.14it/s, est. speed input: 21342.24 toks/s, output: 163.27 toks/s]"
     ]
    },
    {
     "name": "stdout",
     "output_type": "stream",
     "text": [
      "extract_think количество ошибок:  0\n",
      "extract_sql количество ошибок:  0\n",
      "Закончили генерацию SQL запросов\n",
      "Начали скорр полученных SQL запросов\n"
     ]
    },
    {
     "name": "stderr",
     "output_type": "stream",
     "text": [
      "\n"
     ]
    },
    {
     "name": "stdout",
     "output_type": "stream",
     "text": [
      "Qwen3-14B DEV Финальный результат EX: 57.56\n",
      "Qwen3-14B процент запросов, которые успешно выполнились DEV: 96.15%\n",
      "====================================================================================================\n",
      "\n",
      "\n",
      "Загружаем чаты с данными...\n",
      "Данные успешно загружены\n",
      "Начали генерацию SQL запросов\n"
     ]
    },
    {
     "name": "stderr",
     "output_type": "stream",
     "text": [
      "Processed prompts: 100%|██████████| 1534/1534 [07:45<00:00,  3.29it/s, est. speed input: 21657.28 toks/s, output: 170.72 toks/s]"
     ]
    },
    {
     "name": "stdout",
     "output_type": "stream",
     "text": [
      "extract_think количество ошибок:  0\n",
      "extract_sql количество ошибок:  0\n",
      "Закончили генерацию SQL запросов\n",
      "Начали скорр полученных SQL запросов\n"
     ]
    },
    {
     "name": "stderr",
     "output_type": "stream",
     "text": [
      "\n"
     ]
    },
    {
     "name": "stdout",
     "output_type": "stream",
     "text": [
      "Qwen3-14B DEV Финальный результат EX: 57.43\n",
      "Qwen3-14B процент запросов, которые успешно выполнились DEV: 96.61%\n",
      "====================================================================================================\n",
      "\n",
      "\n",
      "Загружаем чаты с данными...\n",
      "Данные успешно загружены\n",
      "Начали генерацию SQL запросов\n"
     ]
    },
    {
     "name": "stderr",
     "output_type": "stream",
     "text": [
      "Processed prompts: 100%|██████████| 1534/1534 [07:43<00:00,  3.31it/s, est. speed input: 21566.20 toks/s, output: 172.17 toks/s]"
     ]
    },
    {
     "name": "stdout",
     "output_type": "stream",
     "text": [
      "extract_think количество ошибок:  0\n",
      "extract_sql количество ошибок:  0\n",
      "Закончили генерацию SQL запросов\n",
      "Начали скорр полученных SQL запросов\n"
     ]
    },
    {
     "name": "stderr",
     "output_type": "stream",
     "text": [
      "\n"
     ]
    },
    {
     "name": "stdout",
     "output_type": "stream",
     "text": [
      "Qwen3-14B DEV Финальный результат EX: 58.08\n",
      "Qwen3-14B процент запросов, которые успешно выполнились DEV: 95.83%\n",
      "====================================================================================================\n",
      "\n",
      "\n",
      "Загружаем чаты с данными...\n",
      "Данные успешно загружены\n",
      "Начали генерацию SQL запросов\n"
     ]
    },
    {
     "name": "stderr",
     "output_type": "stream",
     "text": [
      "Processed prompts: 100%|██████████| 1534/1534 [07:40<00:00,  3.33it/s, est. speed input: 21611.11 toks/s, output: 174.80 toks/s]"
     ]
    },
    {
     "name": "stdout",
     "output_type": "stream",
     "text": [
      "extract_think количество ошибок:  0\n",
      "extract_sql количество ошибок:  0\n",
      "Закончили генерацию SQL запросов\n",
      "Начали скорр полученных SQL запросов\n"
     ]
    },
    {
     "name": "stderr",
     "output_type": "stream",
     "text": [
      "\n"
     ]
    },
    {
     "name": "stdout",
     "output_type": "stream",
     "text": [
      "Qwen3-14B DEV Финальный результат EX: 57.89\n",
      "Qwen3-14B процент запросов, которые успешно выполнились DEV: 95.76%\n",
      "====================================================================================================\n",
      "\n",
      "\n",
      "Загружаем чаты с данными...\n",
      "Данные успешно загружены\n",
      "Начали генерацию SQL запросов\n"
     ]
    },
    {
     "name": "stderr",
     "output_type": "stream",
     "text": [
      "Processed prompts: 100%|██████████| 1534/1534 [07:38<00:00,  3.35it/s, est. speed input: 21462.67 toks/s, output: 175.63 toks/s]"
     ]
    },
    {
     "name": "stdout",
     "output_type": "stream",
     "text": [
      "extract_think количество ошибок:  0\n",
      "extract_sql количество ошибок:  0\n",
      "Закончили генерацию SQL запросов\n",
      "Начали скорр полученных SQL запросов\n"
     ]
    },
    {
     "name": "stderr",
     "output_type": "stream",
     "text": [
      "\n"
     ]
    },
    {
     "name": "stdout",
     "output_type": "stream",
     "text": [
      "Qwen3-14B DEV Финальный результат EX: 57.82\n",
      "Qwen3-14B процент запросов, которые успешно выполнились DEV: 96.28%\n",
      "====================================================================================================\n",
      "\n",
      "\n",
      "Загружаем чаты с данными...\n",
      "Данные успешно загружены\n",
      "Начали генерацию SQL запросов\n"
     ]
    },
    {
     "name": "stderr",
     "output_type": "stream",
     "text": [
      "Processed prompts: 100%|██████████| 1534/1534 [07:29<00:00,  3.41it/s, est. speed input: 21744.04 toks/s, output: 177.73 toks/s]"
     ]
    },
    {
     "name": "stdout",
     "output_type": "stream",
     "text": [
      "extract_think количество ошибок:  0\n",
      "extract_sql количество ошибок:  0\n",
      "Закончили генерацию SQL запросов\n",
      "Начали скорр полученных SQL запросов\n"
     ]
    },
    {
     "name": "stderr",
     "output_type": "stream",
     "text": [
      "\n"
     ]
    },
    {
     "name": "stdout",
     "output_type": "stream",
     "text": [
      "Qwen3-14B DEV Финальный результат EX: 57.69\n",
      "Qwen3-14B процент запросов, которые успешно выполнились DEV: 96.28%\n",
      "====================================================================================================\n",
      "\n",
      "\n",
      "Загружаем чаты с данными...\n",
      "Данные успешно загружены\n",
      "Начали генерацию SQL запросов\n"
     ]
    },
    {
     "name": "stderr",
     "output_type": "stream",
     "text": [
      "Processed prompts: 100%|██████████| 1534/1534 [07:19<00:00,  3.49it/s, est. speed input: 21886.29 toks/s, output: 178.86 toks/s]"
     ]
    },
    {
     "name": "stdout",
     "output_type": "stream",
     "text": [
      "extract_think количество ошибок:  0\n",
      "extract_sql количество ошибок:  0\n",
      "Закончили генерацию SQL запросов\n",
      "Начали скорр полученных SQL запросов\n"
     ]
    },
    {
     "name": "stderr",
     "output_type": "stream",
     "text": [
      "\n"
     ]
    },
    {
     "name": "stdout",
     "output_type": "stream",
     "text": [
      "Qwen3-14B DEV Финальный результат EX: 58.02\n",
      "Qwen3-14B процент запросов, которые успешно выполнились DEV: 96.41%\n",
      "====================================================================================================\n",
      "\n",
      "\n",
      "Загружаем чаты с данными...\n",
      "Данные успешно загружены\n",
      "Начали генерацию SQL запросов\n"
     ]
    },
    {
     "name": "stderr",
     "output_type": "stream",
     "text": [
      "Processed prompts: 100%|██████████| 1534/1534 [07:38<00:00,  3.35it/s, est. speed input: 21680.80 toks/s, output: 173.50 toks/s]"
     ]
    },
    {
     "name": "stdout",
     "output_type": "stream",
     "text": [
      "extract_think количество ошибок:  0\n",
      "extract_sql количество ошибок:  0\n",
      "Закончили генерацию SQL запросов\n",
      "Начали скорр полученных SQL запросов\n"
     ]
    },
    {
     "name": "stderr",
     "output_type": "stream",
     "text": [
      "\n"
     ]
    },
    {
     "name": "stdout",
     "output_type": "stream",
     "text": [
      "Qwen3-14B DEV Финальный результат EX: 57.95\n",
      "Qwen3-14B процент запросов, которые успешно выполнились DEV: 96.41%\n",
      "====================================================================================================\n",
      "\n",
      "\n",
      "Загружаем чаты с данными...\n",
      "Данные успешно загружены\n",
      "Начали генерацию SQL запросов\n"
     ]
    },
    {
     "name": "stderr",
     "output_type": "stream",
     "text": [
      "Processed prompts: 100%|██████████| 1534/1534 [07:50<00:00,  3.26it/s, est. speed input: 21502.99 toks/s, output: 170.46 toks/s]"
     ]
    },
    {
     "name": "stdout",
     "output_type": "stream",
     "text": [
      "extract_think количество ошибок:  0\n",
      "extract_sql количество ошибок:  0\n",
      "Закончили генерацию SQL запросов\n",
      "Начали скорр полученных SQL запросов\n"
     ]
    },
    {
     "name": "stderr",
     "output_type": "stream",
     "text": [
      "\n"
     ]
    },
    {
     "name": "stdout",
     "output_type": "stream",
     "text": [
      "Qwen3-14B DEV Финальный результат EX: 58.08\n",
      "Qwen3-14B процент запросов, которые успешно выполнились DEV: 96.28%\n",
      "====================================================================================================\n",
      "\n",
      "\n",
      "Загружаем чаты с данными...\n",
      "Данные успешно загружены\n",
      "Начали генерацию SQL запросов\n"
     ]
    },
    {
     "name": "stderr",
     "output_type": "stream",
     "text": [
      "Processed prompts: 100%|██████████| 1534/1534 [07:16<00:00,  3.51it/s, est. speed input: 21737.60 toks/s, output: 182.19 toks/s]"
     ]
    },
    {
     "name": "stdout",
     "output_type": "stream",
     "text": [
      "extract_think количество ошибок:  0\n",
      "extract_sql количество ошибок:  0\n",
      "Закончили генерацию SQL запросов\n",
      "Начали скорр полученных SQL запросов\n"
     ]
    },
    {
     "name": "stderr",
     "output_type": "stream",
     "text": [
      "\n"
     ]
    },
    {
     "name": "stdout",
     "output_type": "stream",
     "text": [
      "Qwen3-14B DEV Финальный результат EX: 57.63\n",
      "Qwen3-14B процент запросов, которые успешно выполнились DEV: 96.81%\n",
      "====================================================================================================\n",
      "\n",
      "\n",
      "Загружаем чаты с данными...\n",
      "Данные успешно загружены\n",
      "Начали генерацию SQL запросов\n"
     ]
    },
    {
     "name": "stderr",
     "output_type": "stream",
     "text": [
      "Processed prompts: 100%|██████████| 1534/1534 [06:53<00:00,  3.71it/s, est. speed input: 22012.84 toks/s, output: 191.35 toks/s]"
     ]
    },
    {
     "name": "stdout",
     "output_type": "stream",
     "text": [
      "extract_think количество ошибок:  0\n",
      "extract_sql количество ошибок:  0\n",
      "Закончили генерацию SQL запросов\n",
      "Начали скорр полученных SQL запросов\n"
     ]
    },
    {
     "name": "stderr",
     "output_type": "stream",
     "text": [
      "\n"
     ]
    },
    {
     "name": "stdout",
     "output_type": "stream",
     "text": [
      "Qwen3-14B DEV Финальный результат EX: 58.74\n",
      "Qwen3-14B процент запросов, которые успешно выполнились DEV: 97.00%\n",
      "====================================================================================================\n",
      "\n",
      "\n",
      "Загружаем чаты с данными...\n",
      "Данные успешно загружены\n",
      "Начали генерацию SQL запросов\n"
     ]
    },
    {
     "name": "stderr",
     "output_type": "stream",
     "text": [
      "Processed prompts: 100%|██████████| 1534/1534 [06:47<00:00,  3.76it/s, est. speed input: 21930.43 toks/s, output: 194.27 toks/s]"
     ]
    },
    {
     "name": "stdout",
     "output_type": "stream",
     "text": [
      "extract_think количество ошибок:  0\n",
      "extract_sql количество ошибок:  0\n",
      "Закончили генерацию SQL запросов\n",
      "Начали скорр полученных SQL запросов\n"
     ]
    },
    {
     "name": "stderr",
     "output_type": "stream",
     "text": [
      "\n"
     ]
    },
    {
     "name": "stdout",
     "output_type": "stream",
     "text": [
      "Qwen3-14B DEV Финальный результат EX: 57.95\n",
      "Qwen3-14B процент запросов, которые успешно выполнились DEV: 96.48%\n",
      "====================================================================================================\n",
      "\n",
      "\n",
      "Загружаем чаты с данными...\n",
      "Данные успешно загружены\n",
      "Начали генерацию SQL запросов\n"
     ]
    },
    {
     "name": "stderr",
     "output_type": "stream",
     "text": [
      "Processed prompts: 100%|██████████| 1534/1534 [06:52<00:00,  3.72it/s, est. speed input: 21859.73 toks/s, output: 192.17 toks/s]"
     ]
    },
    {
     "name": "stdout",
     "output_type": "stream",
     "text": [
      "extract_think количество ошибок:  0\n",
      "extract_sql количество ошибок:  0\n",
      "Закончили генерацию SQL запросов\n",
      "Начали скорр полученных SQL запросов\n"
     ]
    },
    {
     "name": "stderr",
     "output_type": "stream",
     "text": [
      "\n"
     ]
    },
    {
     "name": "stdout",
     "output_type": "stream",
     "text": [
      "Qwen3-14B DEV Финальный результат EX: 58.21\n",
      "Qwen3-14B процент запросов, которые успешно выполнились DEV: 96.35%\n",
      "====================================================================================================\n",
      "\n",
      "\n",
      "Загружаем чаты с данными...\n",
      "Данные успешно загружены\n",
      "Начали генерацию SQL запросов\n"
     ]
    },
    {
     "name": "stderr",
     "output_type": "stream",
     "text": [
      "Processed prompts: 100%|██████████| 1534/1534 [06:52<00:00,  3.72it/s, est. speed input: 22046.94 toks/s, output: 193.31 toks/s]"
     ]
    },
    {
     "name": "stdout",
     "output_type": "stream",
     "text": [
      "extract_think количество ошибок:  0\n",
      "extract_sql количество ошибок:  0\n",
      "Закончили генерацию SQL запросов\n",
      "Начали скорр полученных SQL запросов\n"
     ]
    },
    {
     "name": "stderr",
     "output_type": "stream",
     "text": [
      "\n"
     ]
    },
    {
     "name": "stdout",
     "output_type": "stream",
     "text": [
      "Qwen3-14B DEV Финальный результат EX: 58.15\n",
      "Qwen3-14B процент запросов, которые успешно выполнились DEV: 96.61%\n",
      "====================================================================================================\n",
      "\n",
      "\n",
      "Загружаем чаты с данными...\n",
      "Данные успешно загружены\n",
      "Начали генерацию SQL запросов\n"
     ]
    },
    {
     "name": "stderr",
     "output_type": "stream",
     "text": [
      "Processed prompts: 100%|██████████| 1534/1534 [06:48<00:00,  3.75it/s, est. speed input: 22138.82 toks/s, output: 193.17 toks/s]"
     ]
    },
    {
     "name": "stdout",
     "output_type": "stream",
     "text": [
      "extract_think количество ошибок:  0\n",
      "extract_sql количество ошибок:  0\n",
      "Закончили генерацию SQL запросов\n",
      "Начали скорр полученных SQL запросов\n"
     ]
    },
    {
     "name": "stderr",
     "output_type": "stream",
     "text": [
      "\n"
     ]
    },
    {
     "name": "stdout",
     "output_type": "stream",
     "text": [
      "Qwen3-14B DEV Финальный результат EX: 58.54\n",
      "Qwen3-14B процент запросов, которые успешно выполнились DEV: 96.81%\n",
      "====================================================================================================\n",
      "\n",
      "\n",
      "Загружаем чаты с данными...\n",
      "Данные успешно загружены\n",
      "Начали генерацию SQL запросов\n"
     ]
    },
    {
     "name": "stderr",
     "output_type": "stream",
     "text": [
      "Processed prompts: 100%|██████████| 1534/1534 [07:33<00:00,  3.38it/s, est. speed input: 21391.67 toks/s, output: 176.91 toks/s]"
     ]
    },
    {
     "name": "stdout",
     "output_type": "stream",
     "text": [
      "extract_think количество ошибок:  0\n",
      "extract_sql количество ошибок:  0\n",
      "Закончили генерацию SQL запросов\n",
      "Начали скорр полученных SQL запросов\n"
     ]
    },
    {
     "name": "stderr",
     "output_type": "stream",
     "text": [
      "\n"
     ]
    },
    {
     "name": "stdout",
     "output_type": "stream",
     "text": [
      "Qwen3-14B DEV Финальный результат EX: 58.28\n",
      "Qwen3-14B процент запросов, которые успешно выполнились DEV: 96.22%\n",
      "====================================================================================================\n",
      "\n",
      "\n",
      "Загружаем чаты с данными...\n",
      "Данные успешно загружены\n",
      "Начали генерацию SQL запросов\n"
     ]
    },
    {
     "name": "stderr",
     "output_type": "stream",
     "text": [
      "Processed prompts: 100%|██████████| 1534/1534 [07:53<00:00,  3.24it/s, est. speed input: 21467.18 toks/s, output: 167.70 toks/s]"
     ]
    },
    {
     "name": "stdout",
     "output_type": "stream",
     "text": [
      "extract_think количество ошибок:  0\n",
      "extract_sql количество ошибок:  0\n",
      "Закончили генерацию SQL запросов\n",
      "Начали скорр полученных SQL запросов\n"
     ]
    },
    {
     "name": "stderr",
     "output_type": "stream",
     "text": [
      "\n"
     ]
    },
    {
     "name": "stdout",
     "output_type": "stream",
     "text": [
      "Qwen3-14B DEV Финальный результат EX: 58.02\n",
      "Qwen3-14B процент запросов, которые успешно выполнились DEV: 96.61%\n",
      "====================================================================================================\n",
      "\n",
      "\n",
      "Загружаем чаты с данными...\n",
      "Данные успешно загружены\n",
      "Начали генерацию SQL запросов\n"
     ]
    },
    {
     "name": "stderr",
     "output_type": "stream",
     "text": [
      "Processed prompts: 100%|██████████| 1534/1534 [08:04<00:00,  3.17it/s, est. speed input: 21210.92 toks/s, output: 165.76 toks/s]"
     ]
    },
    {
     "name": "stdout",
     "output_type": "stream",
     "text": [
      "extract_think количество ошибок:  0\n",
      "extract_sql количество ошибок:  0\n",
      "Закончили генерацию SQL запросов\n",
      "Начали скорр полученных SQL запросов\n"
     ]
    },
    {
     "name": "stderr",
     "output_type": "stream",
     "text": [
      "\n"
     ]
    },
    {
     "name": "stdout",
     "output_type": "stream",
     "text": [
      "Qwen3-14B DEV Финальный результат EX: 57.56\n",
      "Qwen3-14B процент запросов, которые успешно выполнились DEV: 96.48%\n",
      "====================================================================================================\n",
      "\n",
      "\n",
      "Загружаем чаты с данными...\n",
      "Данные успешно загружены\n",
      "Начали генерацию SQL запросов\n"
     ]
    },
    {
     "name": "stderr",
     "output_type": "stream",
     "text": [
      "Processed prompts: 100%|██████████| 1534/1534 [08:07<00:00,  3.15it/s, est. speed input: 21226.66 toks/s, output: 163.86 toks/s]"
     ]
    },
    {
     "name": "stdout",
     "output_type": "stream",
     "text": [
      "extract_think количество ошибок:  0\n",
      "extract_sql количество ошибок:  0\n",
      "Закончили генерацию SQL запросов\n",
      "Начали скорр полученных SQL запросов\n"
     ]
    },
    {
     "name": "stderr",
     "output_type": "stream",
     "text": [
      "\n"
     ]
    },
    {
     "name": "stdout",
     "output_type": "stream",
     "text": [
      "Qwen3-14B DEV Финальный результат EX: 58.15\n",
      "Qwen3-14B процент запросов, которые успешно выполнились DEV: 96.87%\n",
      "====================================================================================================\n",
      "\n",
      "\n",
      "Загружаем чаты с данными...\n",
      "Данные успешно загружены\n",
      "Начали генерацию SQL запросов\n"
     ]
    },
    {
     "name": "stderr",
     "output_type": "stream",
     "text": [
      "Processed prompts: 100%|██████████| 1534/1534 [08:11<00:00,  3.12it/s, est. speed input: 21161.71 toks/s, output: 163.41 toks/s]"
     ]
    },
    {
     "name": "stdout",
     "output_type": "stream",
     "text": [
      "extract_think количество ошибок:  0\n",
      "extract_sql количество ошибок:  0\n",
      "Закончили генерацию SQL запросов\n",
      "Начали скорр полученных SQL запросов\n"
     ]
    },
    {
     "name": "stderr",
     "output_type": "stream",
     "text": [
      "\n",
      "Exception ignored in: "
     ]
    },
    {
     "name": "stdout",
     "output_type": "stream",
     "text": [
      "Qwen3-14B DEV Финальный результат EX: 58.28\n",
      "Qwen3-14B процент запросов, которые успешно выполнились DEV: 96.41%\n",
      "====================================================================================================\n",
      "\n",
      "\n"
     ]
    }
   ],
   "source": [
    "run_cot_experiment(model,arr_seeds,arr_versions, type_cot,num_observations=num_observations)"
   ]
  },
  {
   "cell_type": "markdown",
   "id": "51d986a1-0b51-4b35-9b9c-0acb184dcbda",
   "metadata": {},
   "source": [
    "## 7 наблюдений"
   ]
  },
  {
   "cell_type": "code",
   "execution_count": 13,
   "id": "1df4a57b-8c8c-4ec0-ba80-8dd616f717e7",
   "metadata": {},
   "outputs": [
    {
     "name": "stdout",
     "output_type": "stream",
     "text": [
      "[449, 161, 699, 509, 33, 501, 988, 426, 1000, 281, 343, 946, 337, 673, 417, 641, 609, 741, 221, 853]\n",
      "model: Qwen3-14B\n"
     ]
    }
   ],
   "source": [
    "n= 20\n",
    "arr_seeds = [random.randint(0,1000) for _ in range(n)]\n",
    "arr_versions = [x for x in range(n)]\n",
    "model = \"Qwen3-14B\"\n",
    "num_observations = 7\n",
    "type_cot = 'all_new'\n",
    "print(arr_seeds)\n",
    "print(f\"model: {model}\")"
   ]
  },
  {
   "cell_type": "code",
   "execution_count": 14,
   "id": "6399f201-99a9-4c61-86dc-3570cf4878cd",
   "metadata": {
    "scrolled": true
   },
   "outputs": [
    {
     "name": "stdout",
     "output_type": "stream",
     "text": [
      "Загружаем модель...\n"
     ]
    },
    {
     "name": "stderr",
     "output_type": "stream",
     "text": [
      "Loading safetensors checkpoint shards:   0% Completed | 0/8 [00:00<?, ?it/s]\n",
      "Loading safetensors checkpoint shards:  12% Completed | 1/8 [00:01<00:10,  1.46s/it]\n",
      "Loading safetensors checkpoint shards:  25% Completed | 2/8 [00:02<00:08,  1.44s/it]\n",
      "Loading safetensors checkpoint shards:  38% Completed | 3/8 [00:04<00:07,  1.47s/it]\n",
      "Loading safetensors checkpoint shards:  50% Completed | 4/8 [00:05<00:05,  1.45s/it]\n",
      "Loading safetensors checkpoint shards:  62% Completed | 5/8 [00:07<00:04,  1.45s/it]\n",
      "Loading safetensors checkpoint shards:  75% Completed | 6/8 [00:07<00:02,  1.21s/it]\n",
      "Loading safetensors checkpoint shards:  88% Completed | 7/8 [00:09<00:01,  1.28s/it]\n",
      "Loading safetensors checkpoint shards: 100% Completed | 8/8 [00:10<00:00,  1.34s/it]\n",
      "Loading safetensors checkpoint shards: 100% Completed | 8/8 [00:10<00:00,  1.36s/it]\n",
      "\u001b[1;36m(VllmWorker rank=0 pid=744256)\u001b[0;0m \n"
     ]
    },
    {
     "name": "stdout",
     "output_type": "stream",
     "text": [
      "Модель успешно загружена\n",
      "model_config {'model': '/data/home/vkropoti/models/Qwen3-14B', 'tensor_parallel_size': 2, 'max_model_len': 40000, 'max_new_tokens': 1500, 'temperature': 0, 'top_k': 1, 'top_p': 0.8, 'gpu_memory_utilization': 0.9, 'trust_remote_code': False, 'seed': 449}\n",
      "\n",
      "prompts_config {'path_dev_json': '/home/vkropoti/vllm/dev.json', 'path_sql_dbs': '/data/home/vkropoti/sql_data/dev_databases/', 'use_reasoning': False, 'paths_to_cot': ['/data/home/vkropoti/sql_llm_answers/bird_dev/sql_all_new_Qwen3-14B-reasoning-v0', '/data/home/vkropoti/sql_llm_answers/bird_dev/sql_all_new_Qwen3-14B-reasoning-v1', '/data/home/vkropoti/sql_llm_answers/bird_dev/sql_all_new_Qwen3-14B-reasoning-v2', '/data/home/vkropoti/sql_llm_answers/bird_dev/sql_all_new_Qwen3-14B-reasoning-v3', '/data/home/vkropoti/sql_llm_answers/bird_dev/sql_all_new_Qwen3-14B-reasoning-v4', '/data/home/vkropoti/sql_llm_answers/bird_dev/sql_all_new_Qwen3-14B-reasoning-v5', '/data/home/vkropoti/sql_llm_answers/bird_dev/sql_all_new_Qwen3-14B-reasoning-v6']}\n",
      "\n",
      "save_config {'path_sql_save': '/data/home/vkropoti/sql_llm_answers/bird_dev/sql_all_Qwen3-14B-cot_all_new_think==False_nobs7-v0', 'path_think_save': None, 'path_sql_answers_save': '/data/home/vkropoti/sql_llm_answers/bird_dev/sql_predict_Qwen3-14B-cot_all_new_think==False_nobs7-v0', 'path_to_save_scores': '/data/home/vkropoti/sql_llm_answers/bird_dev/sql_results_Qwen3-14B-cot_all_new_think==False_nobs7-v0', 'path_to_save_executed': '/data/home/vkropoti/sql_llm_answers/bird_dev/sql_executed_Qwen3-14B-cot_all_new_think==False_nobs7-v0'}\n",
      "\n",
      "Модель успешно загружена\n",
      "Пример промпта\n",
      "<|im_start|>system\n",
      "\n",
      "You are a data science expert. Below, you are provided with a database schema and a natural language question. Your task is to understand the schema and generate a valid SQL query to answer the question.\n",
      "\n",
      "Database Engine: SQLite\n",
      "\n",
      "You will be given an additional analysis of other models, please take it into account, so the plan is\n",
      "1. Analyse given addition analysis from other models (find in which analysis the same and differ, how to use that to answer question)\n",
      "2. Combine best from previous part and think how to solve the problem (analyze tables, take care what columns avaliable in each table and so on, check the syntacsis)\n",
      "3. Create the answers. The answer should be only sql query.\n",
      "\n",
      "Carefully follow the instruction and add <|im_end|> and the end of the final answer<|im_end|>\n",
      "<|im_start|>user\n",
      "Here is addition analysis from other models which can be helpfull, please take this into account but be careful (choose the best from each analysis, combine them to make the most proper answer):\n",
      "\n",
      "model 0 analysis:\n",
      " Reasoning process:\n",
      "\n",
      "Okay, let's see. The user is asking for the highest eligible free rate for K-12 students in schools located in Alameda County. \n",
      "\n",
      "First, I need to figure out which tables are relevant here. The question mentions \"eligible free rate,\" which is calculated as `Free Meal Count (K-12)` divided by `Enrollment (K-12)`. Looking at the tables provided, the `frpm` table contains these exact columns: `Free Meal Count (K-12)` and `Enrollment (K-12)`. So, the calculation will be done using the `frpm` table.\n",
      "\n",
      "Next, the schools need to be in Alameda County. The `County` column is present in the `schools` table. But the `frpm` table has a `County Name` column. Wait, but the user is asking for schools in Alameda County. Which table's county field should I use? The `frpm` table has a `County Name` column, and the `schools` table has a `County` column. However, since the `frpm` table has a foreign key relationship with `schools` via `CDSCode`, maybe I need to join the two tables to get the county information from `schools`?\n",
      "\n",
      "Wait, the question says \"schools in Alameda County.\" So the county is determined by the school's county, which is in the `schools` table. Therefore, I should join `frpm` with `schools` on `CDSCode` to get the `County` from `schools` and filter where that county is 'Alameda'.\n",
      "\n",
      "But let me check the schema again. The `frpm` table has a `County Name` column. However, the `schools` table has a `County` column. Maybe the `frpm` is referencing the schools' county, but perhaps the `County Name` in `frpm` is redundant. However, the user wants to filter based on the school's county, which is in the `schools` table. Therefore, to get accurate information, I should join `frpm` with `schools` on `CDSCode` and then filter `schools.County = 'Alameda'`.\n",
      "\n",
      "So the steps are:\n",
      "\n",
      "1. Join `frpm` and `schools` on `CDSCode`.\n",
      "2. Filter where `schools.County = 'Alameda'`.\n",
      "3. Calculate the eligible free rate as `Free Meal Count (K-12)` / `Enrollment (K-12)`.\n",
      "4. Find the maximum value of this calculated rate.\n",
      "\n",
      "But wait, in the `frpm` table, there's also a `County Name` column. Could that be used instead? However, the `schools` table's `County` might be more reliable. For example, if a school is in Alameda County, the `schools` table's `County` should be 'Alameda', whereas the `County Name` in `frpm` might be the same. But since the `frpm` has a foreign key to `schools`, perhaps the county is consistent between both tables. However, to be safe, using `schools.County = 'Alameda'` is better because that's the school's actual county.\n",
      "\n",
      "So, the query would involve joining `frpm` with `schools` where `CDSCode` matches. Then, filter on `schools.County = 'Alameda'`. Then calculate the rate and find the maximum.\n",
      "\n",
      "But what if there are multiple entries in `frpm` for the same school? The `frpm` table has `CDSCode` as primary key, so each school has one entry in `frpm`. So the join is straightforward.\n",
      "\n",
      "Now, the SQL query would select the maximum of (Free Meal Count / Enrollment) where the county is Alameda. The columns are in the `frpm` table, so after joining with `schools` to get the county.\n",
      "\n",
      "So the query would be:\n",
      "\n",
      "SELECT MAX(`Free Meal Count (K-12)` / `Enrollment (K-12)`) AS highest_rate\n",
      "FROM frpm\n",
      "JOIN schools ON frpm.CDSCode = schools.CDSCode\n",
      "WHERE schools.County = 'Alameda';\n",
      "\n",
      "But I need to make sure that the `Enrollment (K-12)` is not zero to avoid division by zero. However, the question might assume that all entries have valid enrollment numbers. If not, perhaps a WHERE clause to exclude zero enrollments. But since the problem doesn't mention handling that, maybe it's safe to proceed without it.\n",
      "\n",
      "Also, the `frpm` table has `Enrollment (K-12)` as a REAL, so division should be handled as floating points.\n",
      "\n",
      "So the final SQL is as above, selecting the MAX of the calculated rate, joining on CDSCode, and filtering for Alameda County in the schools table.\n",
      "\n",
      "Final answer based om reasoning for this model:\n",
      "\n",
      "\n",
      "```\n",
      "SELECT MAX(`Free Meal Count (K-12` / `Enrollment (K-12`) FROM frpm JOIN schools ON frpm.CDSCode = schools.CDSCode WHERE schools.County = 'Alameda';\n",
      "```\n",
      "\n",
      "model 1 analysis:\n",
      " Reasoning process:\n",
      "\n",
      "Okay, I need to find the highest eligible free rate for K-12 students in schools located in Alameda County. Let me break this down.\n",
      "\n",
      "First, the eligible free rate is calculated as `Free Meal Count (K-12)` divided by `Enrollment (K-12)`. The question is asking for the maximum value of this rate among schools in Alameda County.\n",
      "\n",
      "Looking at the tables, the `frpm` table has both `Free Meal Count (K-12)` and `Enrollment (K-12)` columns. Also, the `frpm` table has a `County Name` column which should be used to filter for Alameda County.\n",
      "\n",
      "Wait, but there's also a `schools` table with a `County` column. However, the `frpm` table's `County Name` is likely the correct one to use since it's part of the same dataset. The `schools` table might have different county info, but the question mentions using the `frpm` data.\n",
      "\n",
      "So, the plan is to select the maximum of (`Free Meal Count (K-12)` / `Enrollment (K-12)`) from the `frpm` table where `County Name` is 'Alameda County'.\n",
      "\n",
      "But wait, I need to make sure that the `County Name` is correctly spelled and matches the data. Also, the `frpm` table has a foreign key to `schools` via `CDSCode`, but maybe the county info is already in `frpm` so joining isn't necessary. Let me check the schema again.\n",
      "\n",
      "Yes, `frpm` has `County Name` as a column. So I don't need to join with `schools` for the county. Therefore, the query can be written directly on the `frpm` table.\n",
      "\n",
      "Now, the SQL query would use the MAX function on the division of those two columns. Also, since these are REAL numbers, the division should work. Need to make sure that `Enrollment (K-12)` is not zero to avoid division by zero, but the question might assume that all entries have valid enrollments.\n",
      "\n",
      "So the final query would be:\n",
      "\n",
      "SELECT MAX(`Free Meal Count (K-12)` / `Enrollment (K-12)`) FROM frpm WHERE `County Name` = 'Alameda County';\n",
      "\n",
      "Wait, but the `County Name` might have entries like 'Alameda County' exactly. I should check if the data uses that exact name. Assuming it does, this query should work.\n",
      "\n",
      "Final answer based om reasoning for this model:\n",
      "\n",
      "\n",
      "```\n",
      "SELECT MAX(`Free Meal Count (K-12` / `Enrollment (K-12`) FROM frpm WHERE `County Name` = 'Alameda County';\n",
      "```\n",
      "\n",
      "model 2 analysis:\n",
      " Reasoning process:\n",
      "\n",
      "Okay, let's see. The user is asking for the highest eligible free rate for K-12 students in Alameda County. The eligible free rate is calculated as Free Meal Count (K-12) divided by Enrollment (K-12). \n",
      "\n",
      "First, I need to figure out which tables have the necessary data. The frpm table has columns for Free Meal Count (K-12) and Enrollment (K-12), which are needed for the calculation. Also, the frpm table has a County Name column, which I can use to filter for Alameda County.\n",
      "\n",
      "Wait, but the schools table also has a County column. Hmm, but the frpm table has a foreign key to schools, so maybe the County Name in frpm is redundant? But the user's question specifies using the county from the schools table? Or maybe not. Let me check the schema again.\n",
      "\n",
      "Looking at the frpm table's columns, there's a `County Name` field. The schools table has a `County` field. But the question is about Alameda County, so I need to make sure which table's county field is correct. However, since the frpm table has a foreign key to schools, perhaps the county in frpm is derived from schools. But maybe the question uses the `County Name` from frpm directly. The user's instruction says to use the column names as they are, so I should check the frpm table's columns.\n",
      "\n",
      "So, to filter for Alameda County, I need to use the `County Name` column in the frpm table. Wait, but maybe the schools table's County is more accurate? The problem says to use the columns as they are. Let me recheck the tables.\n",
      "\n",
      "In the frpm table, there's `County Name`, and in schools, there's `County`. The user's question is about schools in Alameda County. If the frpm table's `County Name` is the correct county for the school, then using that would be better. Alternatively, since the frpm table references schools, maybe the county from the schools table is more accurate. But the user hasn't specified which one to use. However, since the frpm table has `County Name` and the question is about schools in Alameda County, I think the correct approach is to use the `County Name` from the frpm table because that's the county associated with the school in the frpm context.\n",
      "\n",
      "Wait, but the problem says to use the columns as they are. Let me look again. The frpm table has `County Name` as a column. The schools table has `County`. The user's question is about schools in Alameda County. Since the frpm table has a foreign key to schools, perhaps the county in frpm is the same as in schools. However, if the question is about the schools' county, then using the schools table's County would be more accurate. But without more info, perhaps the user expects using the `County Name` from the frpm table. Alternatively, maybe the schools table's County is the correct one. However, the question mentions \"schools in Alameda County\" which would be in the schools table's County field. But since the frpm table has the county name, maybe the user expects that.\n",
      "\n",
      "Alternatively, maybe the frpm table's `County Name` is redundant and the schools table's County is the correct one. However, since the frpm table has that field, maybe the user expects to use it. But I need to check the correct way. Let's think: the frpm table has the `County Name` as a column. So, if a school is in Alameda County, the `County Name` in frpm should be 'Alameda County'. So, the correct filter is `frpm.\"County Name\" = 'Alameda County'`.\n",
      "\n",
      "Now, the calculation is Free Meal Count (K-12) / Enrollment (K-12). The frpm table has both columns. So the SQL would select the maximum of that ratio. So the query would be:\n",
      "\n",
      "SELECT MAX(`Free Meal Count (K-12)` / `Enrollment (K-12)`) FROM frpm WHERE `County Name` = 'Alameda County';\n",
      "\n",
      "Wait, but the user wants the highest rate, so MAX of that calculation. That's correct.\n",
      "\n",
      "But need to ensure that both columns are not null, but the question doesn't mention handling nulls. So assuming that where the data is present, the division is valid.\n",
      "\n",
      "Therefore, the final query is selecting the maximum of that ratio from the frpm table where the county name is Alameda County.\n",
      "\n",
      "Final answer based om reasoning for this model:\n",
      "\n",
      "\n",
      "```\n",
      "SELECT MAX(`Free Meal Count (K-12)` / `Enrollment (K-12)`) FROM frpm WHERE `County Name` = 'Alameda County';\n",
      "```\n",
      "\n",
      "model 3 analysis:\n",
      " Reasoning process:\n",
      "\n",
      "Okay, let me figure out how to answer this question. The user wants the highest eligible free rate for K-12 students in Alameda County. From the external knowledge, I know that the eligible free rate is calculated by dividing the Free Meal Count (K-12) by the Enrollment (K-12). \n",
      "\n",
      "First, I need to check which tables have the necessary data. The 'frpm' table has both 'Free Meal Count (K-12)' and 'Enrollment (K-12)' columns. Also, the 'County Name' column in the 'frpm' table can be used to filter for Alameda County.\n",
      "\n",
      "So the plan is to select the maximum value of the ratio (Free Meal Count / Enrollment) from the frpm table where County Name is 'Alameda County'. But I need to make sure that the division is done correctly. In SQLite, using / should work for real numbers.\n",
      "\n",
      "Wait, the columns are of type REAL, so dividing them should give the rate. Then, using MAX() on that calculated column would give the highest rate. Also, I need to ensure that Enrollment (K-12) is not zero to avoid division by zero. However, the problem might not have such cases, or maybe the database handles it. But since the user didn't mention handling that, I'll proceed as is.\n",
      "\n",
      "So the SQL query would be: SELECT MAX(`Free Meal Count (K-12)` / `Enrollment (K-12)`) FROM frpm WHERE `County Name` = 'Alameda County';\n",
      "\n",
      "I should check if the 'County Name' is correctly spelled and matches the data in the table. Also, make sure that the column names are enclosed in backticks as they have spaces. The 'frpm' table's County Name is the right place to filter. That should do it.\n",
      "\n",
      "Final answer based om reasoning for this model:\n",
      "\n",
      "\n",
      "```\n",
      "SELECT MAX(`Free Meal Count (K-12)` / `Enrollment (K-12)`) FROM frpm WHERE `County Name` = 'Alameda County';\n",
      "```\n",
      "\n",
      "model 4 analysis:\n",
      " Reasoning process:\n",
      "\n",
      "Okay, let me try to figure out how to answer this question. The user is asking for the highest eligible free rate for K-12 students in schools located in Alameda County. \n",
      "\n",
      "First, I need to recall the database schema. The relevant tables here are 'frpm' and 'schools'. The 'frpm' table has columns for 'Free Meal Count (K-12)' and 'Enrollment (K-12)', which are needed to calculate the eligible free rate. The 'schools' table has a 'County' column that I can use to filter for Alameda County.\n",
      "\n",
      "So the plan is: join the frpm and schools tables on the CDSCode, then calculate the rate by dividing Free Meal Count by Enrollment. Then find the maximum value of that rate where the county is Alameda.\n",
      "\n",
      "Wait, but the 'County' in the schools table is the county for the school, right? So I need to join the two tables using CDSCode and then filter where schools.County = 'Alameda'.\n",
      "\n",
      "Once the tables are joined, I can compute the rate as (Free Meal Count (K-12) / Enrollment (K-12)). Then, use MAX() to get the highest rate. But I have to make sure that Enrollment isn't zero to avoid division by zero. However, the question doesn't mention handling that, so maybe the data is clean enough, or the MAX() will ignore NULLs if enrollment is zero.\n",
      "\n",
      "So the SQL query would select MAX((Free Meal Count / Enrollment)) from the joined tables where County is Alameda. Also, I need to make sure the columns are correctly quoted with backticks since they have spaces and special characters.\n",
      "\n",
      "Wait, the 'County' in schools is the county name. So the WHERE condition is schools.County = 'Alameda'.\n",
      "\n",
      "Putting it all together: SELECT MAX(`Free Meal Count (K-12)` / `Enrollment (K-12)`) FROM frpm JOIN schools ON frpm.CDSCode = schools.CDSCode WHERE schools.County = 'Alameda';\n",
      "\n",
      "But the question says to only include the information asked. The answer is a single value, the highest rate, so the SELECT should just compute that MAX.\n",
      "\n",
      "I need to check if there are any other conditions. The 'frpm' table's County Name might be redundant, but the schools table's County is the correct one to use here. The join is on CDSCode between frpm and schools. That should be correct.\n",
      "\n",
      "Yes, this should work.\n",
      "\n",
      "Final answer based om reasoning for this model:\n",
      "\n",
      "\n",
      "```\n",
      "SELECT MAX(`Free Meal Count (K-12)` / `Enrollment (K-12)`) FROM frpm JOIN schools ON frpm.CDSCode = schools.CDSCode WHERE schools.County = 'Alameda';\n",
      "```\n",
      "\n",
      "model 5 analysis:\n",
      " Reasoning process:\n",
      "\n",
      "Okay, I need to find the highest eligible free rate for K-12 students in Alameda County. Let me start by looking at the tables available. The frpm table has columns for Free Meal Count (K-12) and Enrollment (K-12), which are needed to calculate the rate. The question mentions Alameda County, so I need to filter schools in that county.\n",
      "\n",
      "The schools table has a County column, so I should join frpm with schools on CDSCode to get the county information. Then, I can filter where schools.County = 'Alameda'. \n",
      "\n",
      "The calculation is Free Meal Count divided by Enrollment. Since these are REAL numbers, I can compute that in SQL. To get the highest rate, I'll use MAX() on the calculated column. \n",
      "\n",
      "Wait, but I need to make sure that Enrollment isn't zero to avoid division by zero. But maybe the data doesn't have that, or the question assumes it's safe. The problem doesn't mention handling that, so proceed as is.\n",
      "\n",
      "So the steps are: Join frpm and schools on CDSCode, filter for Alameda County, calculate the rate, then select the maximum value. The final query should select MAX((Free Meal Count (K-12) / Enrollment (K-12))) from the joined tables where County is Alameda.\n",
      "\n",
      "Final answer based om reasoning for this model:\n",
      "\n",
      "\n",
      "```\n",
      "SELECT MAX(`Free Meal Count (K-12)` / `Enrollment (K-12)`) FROM frpm JOIN schools ON frpm.CDSCode = schools.CDSCode WHERE schools.County = 'Alameda';\n",
      "```\n",
      "\n",
      "model 6 analysis:\n",
      " Reasoning process:\n",
      "\n",
      "Okay, let's see. The user wants the highest eligible free rate for K-12 students in Alameda County. The eligible free rate is calculated as Free Meal Count (K-12) divided by Enrollment (K-12). \n",
      "\n",
      "First, I need to check which table has these columns. Looking at the frpm table, there are columns `Free Meal Count (K-12)` and `Enrollment (K-12)`. Also, the `County Name` is in the frpm table. So I need to filter where `County Name` is 'Alameda County'.\n",
      "\n",
      "But wait, the schools table also has a County column. However, the frpm table has a foreign key to schools, but the County Name in frpm might be redundant. But the question specifies using the county from the schools table? Or the frpm's County Name? The user didn't specify, but the External Knowledge uses the frpm's columns. The question says \"in the schools in Alameda County\"—probably referring to the county where the school is located, which might be in the schools table. But the frpm table has `County Name` as well. Hmm, this is a bit ambiguous. However, since the frpm table has a foreign key to schools, maybe the County Name in frpm is the same as the County in schools. But to be safe, I should check which table has the correct county information.\n",
      "\n",
      "Wait, the schools table has a County column, which is not null. The frpm table has `County Name`, which is null. So perhaps the correct way is to join frpm with schools on CDSCode, and then filter where schools.County = 'Alameda County'.\n",
      "\n",
      "Alternatively, if the frpm's `County Name` is correct, but that column is nullable. But the question says \"schools in Alameda County\", which would be better to use the schools table's County column. So I need to join frpm with schools on CDSCode, then filter where schools.County = 'Alameda County'.\n",
      "\n",
      "So the steps are:\n",
      "\n",
      "1. Join frpm and schools on CDSCode.\n",
      "2. Filter where schools.County = 'Alameda County'.\n",
      "3. Calculate the eligible free rate as (Free Meal Count (K-12) / Enrollment (K-12)) for each school.\n",
      "4. Find the maximum of these rates.\n",
      "\n",
      "But the question asks for the highest rate, so I need to use MAX() function on the calculated rate.\n",
      "\n",
      "So the SQL query would be:\n",
      "\n",
      "SELECT MAX(`Free Meal Count (K-12)` / `Enrollment (K-12)`) AS highest_rate\n",
      "FROM frpm\n",
      "JOIN schools ON frpm.CDSCode = schools.CDSCode\n",
      "WHERE schools.County = 'Alameda County';\n",
      "\n",
      "But wait, in SQLite, division of REAL numbers would work. Also, need to make sure that Enrollment (K-12) is not zero to avoid division by zero. However, the question might assume that there are no such cases. The user didn't mention handling that, so proceed as is.\n",
      "\n",
      "Alternatively, maybe the frpm table's `County Name` is the correct one, but the schools' County might be different. But given the schema, the schools table's County is not null, so it's more reliable. Hence, the join is needed.\n",
      "\n",
      "So the correct approach is to join the tables, filter by schools.County = 'Alameda County', compute the rate, and take the maximum.\n",
      "\n",
      "Final answer based om reasoning for this model:\n",
      "\n",
      "\n",
      "```\n",
      "SELECT MAX(`Free Meal Count (K-12` / `Enrollment (K-12`) FROM frpm JOIN schools ON frpm.CDSCode = schools.CDSCode WHERE schools.County = 'Alameda County';\n",
      "```\n",
      "\n",
      "\n",
      "here is avaliable tables below\n",
      "\n",
      "\n",
      "Table: frpm\n",
      "CREATE TABLE frpm\n",
      "(\n",
      "    CDSCode                                       TEXT not null\n",
      "        primary key,\n",
      "    `Academic Year`                               TEXT  null,\n",
      "    `County Code`                                 TEXT  null,\n",
      "    `District Code`                               INTEGER         null,\n",
      "    `School Code`                                 TEXT  null,\n",
      "    `County Name`                                 TEXT null,\n",
      "    `District Name`                               TEXT null,\n",
      "    `School Name`                                 TEXT null,\n",
      "    `District Type`                               TEXT null,\n",
      "    `School Type`                                 TEXT null,\n",
      "    `Educational Option Type`                     TEXT null,\n",
      "    `NSLP Provision Status`                       TEXT null,\n",
      "    `Charter School (Y/N)`                        INTEGER    null,\n",
      "    `Charter School Number`                       TEXT  null,\n",
      "    `Charter Funding Type`                        TEXT null,\n",
      "    IRC                                           INTEGER    null,\n",
      "    `Low Grade`                                   TEXT  null,\n",
      "    `High Grade`                                  TEXT null,\n",
      "    `Enrollment (K-12)`                           REAL      null,\n",
      "    `Free Meal Count (K-12)`                      REAL       null,\n",
      "    `Percent (%) Eligible Free (K-12)`            REAL       null,\n",
      "    `FRPM Count (K-12)`                           REAL       null,\n",
      "    `Percent (%) Eligible FRPM (K-12)`            REAL       null,\n",
      "    `Enrollment (Ages 5-17)`                      REAL       null,\n",
      "    `Free Meal Count (Ages 5-17)`                 REAL       null,\n",
      "    `Percent (%) Eligible Free (Ages 5-17)`       REAL       null,\n",
      "    `FRPM Count (Ages 5-17)`                      REAL       null,\n",
      "    `Percent (%) Eligible FRPM (Ages 5-17)`       REAL       null,\n",
      "    `2013-14 CALPADS Fall 1 Certification Status` INTEGER    null,\n",
      "    foreign key (CDSCode) references schools (CDSCode)\n",
      ")\n",
      "\n",
      "Table: satscores\n",
      "CREATE TABLE satscores\n",
      "(\n",
      "    cds         TEXT not null\n",
      "        primary key,\n",
      "    rtype       TEXT  not null,\n",
      "    sname       TEXT null,\n",
      "    dname       TEXT null,\n",
      "    cname       TEXT null,\n",
      "    enroll12    INTEGER         not null,\n",
      "    NumTstTakr  INTEGER          not null,\n",
      "    AvgScrRead  INTEGER          null,\n",
      "    AvgScrMath  INTEGER          null,\n",
      "    AvgScrWrite INTEGER          null,\n",
      "    NumGE1500   INTEGER          null,\n",
      "--     PctGE1500   double      null,\n",
      "        foreign key (cds) references schools (CDSCode)\n",
      ")\n",
      "\n",
      "Table: schools\n",
      "CREATE TABLE schools\n",
      "(\n",
      "    CDSCode     TEXT not null\n",
      "        primary key,\n",
      "    NCESDist    TEXT  null,\n",
      "    NCESSchool  TEXT  null,\n",
      "    StatusType  TEXT  not null,\n",
      "    County      TEXT not null,\n",
      "    District    TEXT not null,\n",
      "    School      TEXT null,\n",
      "    Street      TEXT null,\n",
      "    StreetAbr   TEXT null,\n",
      "    City        TEXT null,\n",
      "    Zip         TEXT null,\n",
      "    State       TEXT  null,\n",
      "    MailStreet  TEXT null,\n",
      "    MailStrAbr  TEXT null,\n",
      "    MailCity    TEXT null,\n",
      "    MailZip     TEXT null,\n",
      "    MailState   TEXT  null,\n",
      "    Phone       TEXT null,\n",
      "    Ext         TEXT  null,\n",
      "    Website     TEXT null,\n",
      "    OpenDate    DATE        null,\n",
      "    ClosedDate  DATE        null,\n",
      "    Charter     INTEGER    null,\n",
      "    CharterNum  TEXT  null,\n",
      "    FundingType TEXT null,\n",
      "    DOC         TEXT  not null,\n",
      "    DOCType     TEXT not null,\n",
      "    SOC         TEXT  null,\n",
      "    SOCType     TEXT null,\n",
      "    EdOpsCode   TEXT  null,\n",
      "    EdOpsName   TEXT null,\n",
      "    EILCode     TEXT  null,\n",
      "    EILName     TEXT null,\n",
      "    GSoffered   TEXT null,\n",
      "    GSserved    TEXT  null,\n",
      "    Virtual     TEXT  null,\n",
      "    Magnet      INTEGER   null,\n",
      "    Latitude    REAL      null,\n",
      "    Longitude   REAL      null,\n",
      "    AdmFName1   TEXT null,\n",
      "    AdmLName1   TEXT null,\n",
      "    AdmEmail1   TEXT null,\n",
      "    AdmFName2   TEXT null,\n",
      "    AdmLName2   TEXT null,\n",
      "    AdmEmail2   TEXT null,\n",
      "    AdmFName3   TEXT  null,\n",
      "    AdmLName3   TEXT null,\n",
      "    AdmEmail3   TEXT null,\n",
      "    LastUpdate  DATE        not null\n",
      ")\n",
      "\n",
      "-- Using valid SQLite and understanding External Knowledge, answer the following questions for the tables provided above.\n",
      "-- What is the highest eligible free rate for K-12 students in the schools in Alameda County?\n",
      "-- External Knowledge: Eligible free rate for K-12 = `Free Meal Count (K-12)` / `Enrollment (K-12)`\n",
      "\n",
      "\n",
      "Generate the SQLite for the above question after thinking step by step: \n",
      "\n",
      "\n",
      "Instructions:\n",
      "- Make sure you only output the information that is asked in the question. If the question asks for a specific column, make sure to only include that column in the SELECT clause, nothing more.\n",
      "- The generated query should return all of the information asked in the question without any missing or extra information.\n",
      "- Before generating the final SQL query, please think through the steps of how to write the query.\n",
      "- Do not misuse column names, keep them in quotes `\n",
      "- Carefully understand what colomns belond to what tables\n",
      "- Use only initial column names, change names prohibited\n",
      "        \n",
      "Output Format:\n",
      "In your answer, please enclose the generated SQL query in a code block:\n",
      "```\n",
      "-- Your SQL query\n",
      "```    \n",
      "and nothing else, no exaplains, no comments (asnwer should be less than 512 characters)\n",
      "\n",
      "Take a deep breath and think step by step to find the correct SQL query in SQLite format.\n",
      "\n",
      "Question repetition: What is the highest eligible free rate for K-12 students in the schools in Alameda County?\n",
      "\n",
      "Be care! Include only what i want it questiona and nothing else<|im_end|>\n",
      "<|im_start|>assistant\n",
      "<think>\n",
      "\n",
      "</think>\n",
      "\n",
      "\n",
      "\n",
      "\n",
      "Максимальное количество токенов в промптах: 28699\n",
      "\n",
      "начинаем скорринг\n",
      "Загружаем чаты с данными...\n",
      "Данные успешно загружены\n",
      "Начали генерацию SQL запросов\n"
     ]
    },
    {
     "name": "stderr",
     "output_type": "stream",
     "text": [
      "Processed prompts: 100%|██████████| 1534/1534 [09:04<00:00,  2.82it/s, est. speed input: 21000.65 toks/s, output: 147.52 toks/s]"
     ]
    },
    {
     "name": "stdout",
     "output_type": "stream",
     "text": [
      "extract_think количество ошибок:  0\n",
      "extract_sql количество ошибок:  0\n",
      "Закончили генерацию SQL запросов\n",
      "Начали скорр полученных SQL запросов\n"
     ]
    },
    {
     "name": "stderr",
     "output_type": "stream",
     "text": [
      "\n"
     ]
    },
    {
     "name": "stdout",
     "output_type": "stream",
     "text": [
      "Qwen3-14B DEV Финальный результат EX: 58.15\n",
      "Qwen3-14B процент запросов, которые успешно выполнились DEV: 96.35%\n",
      "====================================================================================================\n",
      "\n",
      "\n",
      "Загружаем чаты с данными...\n",
      "Данные успешно загружены\n",
      "Начали генерацию SQL запросов\n"
     ]
    },
    {
     "name": "stderr",
     "output_type": "stream",
     "text": [
      "Processed prompts: 100%|██████████| 1534/1534 [09:00<00:00,  2.84it/s, est. speed input: 20995.55 toks/s, output: 148.26 toks/s]"
     ]
    },
    {
     "name": "stdout",
     "output_type": "stream",
     "text": [
      "extract_think количество ошибок:  0\n",
      "extract_sql количество ошибок:  0\n",
      "Закончили генерацию SQL запросов\n",
      "Начали скорр полученных SQL запросов\n"
     ]
    },
    {
     "name": "stderr",
     "output_type": "stream",
     "text": [
      "\n"
     ]
    },
    {
     "name": "stdout",
     "output_type": "stream",
     "text": [
      "Qwen3-14B DEV Финальный результат EX: 57.89\n",
      "Qwen3-14B процент запросов, которые успешно выполнились DEV: 96.41%\n",
      "====================================================================================================\n",
      "\n",
      "\n",
      "Загружаем чаты с данными...\n",
      "Данные успешно загружены\n",
      "Начали генерацию SQL запросов\n"
     ]
    },
    {
     "name": "stderr",
     "output_type": "stream",
     "text": [
      "Processed prompts: 100%|██████████| 1534/1534 [08:55<00:00,  2.86it/s, est. speed input: 21082.25 toks/s, output: 149.42 toks/s]"
     ]
    },
    {
     "name": "stdout",
     "output_type": "stream",
     "text": [
      "extract_think количество ошибок:  0\n",
      "extract_sql количество ошибок:  0\n",
      "Закончили генерацию SQL запросов\n",
      "Начали скорр полученных SQL запросов\n"
     ]
    },
    {
     "name": "stderr",
     "output_type": "stream",
     "text": [
      "\n"
     ]
    },
    {
     "name": "stdout",
     "output_type": "stream",
     "text": [
      "Qwen3-14B DEV Финальный результат EX: 58.08\n",
      "Qwen3-14B процент запросов, которые успешно выполнились DEV: 96.15%\n",
      "====================================================================================================\n",
      "\n",
      "\n",
      "Загружаем чаты с данными...\n",
      "Данные успешно загружены\n",
      "Начали генерацию SQL запросов\n"
     ]
    },
    {
     "name": "stderr",
     "output_type": "stream",
     "text": [
      "Processed prompts: 100%|██████████| 1534/1534 [08:58<00:00,  2.85it/s, est. speed input: 20895.88 toks/s, output: 150.36 toks/s]"
     ]
    },
    {
     "name": "stdout",
     "output_type": "stream",
     "text": [
      "extract_think количество ошибок:  0\n",
      "extract_sql количество ошибок:  0\n",
      "Закончили генерацию SQL запросов\n",
      "Начали скорр полученных SQL запросов\n"
     ]
    },
    {
     "name": "stderr",
     "output_type": "stream",
     "text": [
      "\n"
     ]
    },
    {
     "name": "stdout",
     "output_type": "stream",
     "text": [
      "Qwen3-14B DEV Финальный результат EX: 57.76\n",
      "Qwen3-14B процент запросов, которые успешно выполнились DEV: 96.22%\n",
      "====================================================================================================\n",
      "\n",
      "\n",
      "Загружаем чаты с данными...\n",
      "Данные успешно загружены\n",
      "Начали генерацию SQL запросов\n"
     ]
    },
    {
     "name": "stderr",
     "output_type": "stream",
     "text": [
      "Processed prompts: 100%|██████████| 1534/1534 [08:57<00:00,  2.85it/s, est. speed input: 20898.46 toks/s, output: 150.19 toks/s]"
     ]
    },
    {
     "name": "stdout",
     "output_type": "stream",
     "text": [
      "extract_think количество ошибок:  0\n",
      "extract_sql количество ошибок:  0\n",
      "Закончили генерацию SQL запросов\n",
      "Начали скорр полученных SQL запросов\n"
     ]
    },
    {
     "name": "stderr",
     "output_type": "stream",
     "text": [
      "\n"
     ]
    },
    {
     "name": "stdout",
     "output_type": "stream",
     "text": [
      "Qwen3-14B DEV Финальный результат EX: 57.95\n",
      "Qwen3-14B процент запросов, которые успешно выполнились DEV: 96.48%\n",
      "====================================================================================================\n",
      "\n",
      "\n",
      "Загружаем чаты с данными...\n",
      "Данные успешно загружены\n",
      "Начали генерацию SQL запросов\n"
     ]
    },
    {
     "name": "stderr",
     "output_type": "stream",
     "text": [
      "Processed prompts: 100%|██████████| 1534/1534 [08:34<00:00,  2.98it/s, est. speed input: 21482.29 toks/s, output: 155.19 toks/s]"
     ]
    },
    {
     "name": "stdout",
     "output_type": "stream",
     "text": [
      "extract_think количество ошибок:  0\n",
      "extract_sql количество ошибок:  0\n",
      "Закончили генерацию SQL запросов\n",
      "Начали скорр полученных SQL запросов\n"
     ]
    },
    {
     "name": "stderr",
     "output_type": "stream",
     "text": [
      "\n"
     ]
    },
    {
     "name": "stdout",
     "output_type": "stream",
     "text": [
      "Qwen3-14B DEV Финальный результат EX: 57.89\n",
      "Qwen3-14B процент запросов, которые успешно выполнились DEV: 96.22%\n",
      "====================================================================================================\n",
      "\n",
      "\n",
      "Загружаем чаты с данными...\n",
      "Данные успешно загружены\n",
      "Начали генерацию SQL запросов\n"
     ]
    },
    {
     "name": "stderr",
     "output_type": "stream",
     "text": [
      "Processed prompts: 100%|██████████| 1534/1534 [08:27<00:00,  3.02it/s, est. speed input: 21550.60 toks/s, output: 156.38 toks/s]"
     ]
    },
    {
     "name": "stdout",
     "output_type": "stream",
     "text": [
      "extract_think количество ошибок:  0\n",
      "extract_sql количество ошибок:  0\n",
      "Закончили генерацию SQL запросов\n",
      "Начали скорр полученных SQL запросов\n"
     ]
    },
    {
     "name": "stderr",
     "output_type": "stream",
     "text": [
      "\n"
     ]
    },
    {
     "name": "stdout",
     "output_type": "stream",
     "text": [
      "Qwen3-14B DEV Финальный результат EX: 58.41\n",
      "Qwen3-14B процент запросов, которые успешно выполнились DEV: 96.54%\n",
      "====================================================================================================\n",
      "\n",
      "\n",
      "Загружаем чаты с данными...\n",
      "Данные успешно загружены\n",
      "Начали генерацию SQL запросов\n"
     ]
    },
    {
     "name": "stderr",
     "output_type": "stream",
     "text": [
      "Processed prompts: 100%|██████████| 1534/1534 [08:46<00:00,  2.92it/s, est. speed input: 21600.33 toks/s, output: 151.48 toks/s]"
     ]
    },
    {
     "name": "stdout",
     "output_type": "stream",
     "text": [
      "extract_think количество ошибок:  0\n",
      "extract_sql количество ошибок:  0\n",
      "Закончили генерацию SQL запросов\n",
      "Начали скорр полученных SQL запросов\n"
     ]
    },
    {
     "name": "stderr",
     "output_type": "stream",
     "text": [
      "\n"
     ]
    },
    {
     "name": "stdout",
     "output_type": "stream",
     "text": [
      "Qwen3-14B DEV Финальный результат EX: 57.82\n",
      "Qwen3-14B процент запросов, которые успешно выполнились DEV: 95.96%\n",
      "====================================================================================================\n",
      "\n",
      "\n",
      "Загружаем чаты с данными...\n",
      "Данные успешно загружены\n",
      "Начали генерацию SQL запросов\n"
     ]
    },
    {
     "name": "stderr",
     "output_type": "stream",
     "text": [
      "Processed prompts: 100%|██████████| 1534/1534 [08:14<00:00,  3.10it/s, est. speed input: 21838.83 toks/s, output: 159.80 toks/s]"
     ]
    },
    {
     "name": "stdout",
     "output_type": "stream",
     "text": [
      "extract_think количество ошибок:  0\n",
      "extract_sql количество ошибок:  0\n",
      "Закончили генерацию SQL запросов\n",
      "Начали скорр полученных SQL запросов\n"
     ]
    },
    {
     "name": "stderr",
     "output_type": "stream",
     "text": [
      "\n"
     ]
    },
    {
     "name": "stdout",
     "output_type": "stream",
     "text": [
      "Qwen3-14B DEV Финальный результат EX: 58.54\n",
      "Qwen3-14B процент запросов, которые успешно выполнились DEV: 96.61%\n",
      "====================================================================================================\n",
      "\n",
      "\n",
      "Загружаем чаты с данными...\n",
      "Данные успешно загружены\n",
      "Начали генерацию SQL запросов\n"
     ]
    },
    {
     "name": "stderr",
     "output_type": "stream",
     "text": [
      "Processed prompts: 100%|██████████| 1534/1534 [07:57<00:00,  3.21it/s, est. speed input: 21766.07 toks/s, output: 167.93 toks/s]"
     ]
    },
    {
     "name": "stdout",
     "output_type": "stream",
     "text": [
      "extract_think количество ошибок:  0\n",
      "extract_sql количество ошибок:  0\n",
      "Закончили генерацию SQL запросов\n",
      "Начали скорр полученных SQL запросов\n"
     ]
    },
    {
     "name": "stderr",
     "output_type": "stream",
     "text": [
      "\n"
     ]
    },
    {
     "name": "stdout",
     "output_type": "stream",
     "text": [
      "Qwen3-14B DEV Финальный результат EX: 57.56\n",
      "Qwen3-14B процент запросов, которые успешно выполнились DEV: 96.35%\n",
      "====================================================================================================\n",
      "\n",
      "\n",
      "Загружаем чаты с данными...\n",
      "Данные успешно загружены\n",
      "Начали генерацию SQL запросов\n"
     ]
    },
    {
     "name": "stderr",
     "output_type": "stream",
     "text": [
      "Processed prompts: 100%|██████████| 1534/1534 [07:51<00:00,  3.25it/s, est. speed input: 21908.52 toks/s, output: 167.12 toks/s]"
     ]
    },
    {
     "name": "stdout",
     "output_type": "stream",
     "text": [
      "extract_think количество ошибок:  0\n",
      "extract_sql количество ошибок:  0\n",
      "Закончили генерацию SQL запросов\n",
      "Начали скорр полученных SQL запросов\n"
     ]
    },
    {
     "name": "stderr",
     "output_type": "stream",
     "text": [
      "\n"
     ]
    },
    {
     "name": "stdout",
     "output_type": "stream",
     "text": [
      "Qwen3-14B DEV Финальный результат EX: 59.13\n",
      "Qwen3-14B процент запросов, которые успешно выполнились DEV: 97.13%\n",
      "====================================================================================================\n",
      "\n",
      "\n",
      "Загружаем чаты с данными...\n",
      "Данные успешно загружены\n",
      "Начали генерацию SQL запросов\n"
     ]
    },
    {
     "name": "stderr",
     "output_type": "stream",
     "text": [
      "Processed prompts: 100%|██████████| 1534/1534 [07:56<00:00,  3.22it/s, est. speed input: 21564.22 toks/s, output: 168.60 toks/s]"
     ]
    },
    {
     "name": "stdout",
     "output_type": "stream",
     "text": [
      "extract_think количество ошибок:  0\n",
      "extract_sql количество ошибок:  0\n",
      "Закончили генерацию SQL запросов\n",
      "Начали скорр полученных SQL запросов\n"
     ]
    },
    {
     "name": "stderr",
     "output_type": "stream",
     "text": [
      "\n"
     ]
    },
    {
     "name": "stdout",
     "output_type": "stream",
     "text": [
      "Qwen3-14B DEV Финальный результат EX: 58.34\n",
      "Qwen3-14B процент запросов, которые успешно выполнились DEV: 96.41%\n",
      "====================================================================================================\n",
      "\n",
      "\n",
      "Загружаем чаты с данными...\n",
      "Данные успешно загружены\n",
      "Начали генерацию SQL запросов\n"
     ]
    },
    {
     "name": "stderr",
     "output_type": "stream",
     "text": [
      "Processed prompts: 100%|██████████| 1534/1534 [07:59<00:00,  3.20it/s, est. speed input: 21706.87 toks/s, output: 165.97 toks/s]"
     ]
    },
    {
     "name": "stdout",
     "output_type": "stream",
     "text": [
      "extract_think количество ошибок:  0\n",
      "extract_sql количество ошибок:  0\n",
      "Закончили генерацию SQL запросов\n",
      "Начали скорр полученных SQL запросов\n"
     ]
    },
    {
     "name": "stderr",
     "output_type": "stream",
     "text": [
      "\n"
     ]
    },
    {
     "name": "stdout",
     "output_type": "stream",
     "text": [
      "Qwen3-14B DEV Финальный результат EX: 57.56\n",
      "Qwen3-14B процент запросов, которые успешно выполнились DEV: 96.35%\n",
      "====================================================================================================\n",
      "\n",
      "\n",
      "Загружаем чаты с данными...\n",
      "Данные успешно загружены\n",
      "Начали генерацию SQL запросов\n"
     ]
    },
    {
     "name": "stderr",
     "output_type": "stream",
     "text": [
      "Processed prompts: 100%|██████████| 1534/1534 [08:02<00:00,  3.18it/s, est. speed input: 21692.74 toks/s, output: 166.16 toks/s]"
     ]
    },
    {
     "name": "stdout",
     "output_type": "stream",
     "text": [
      "extract_think количество ошибок:  0\n",
      "extract_sql количество ошибок:  0\n",
      "Закончили генерацию SQL запросов\n",
      "Начали скорр полученных SQL запросов\n"
     ]
    },
    {
     "name": "stderr",
     "output_type": "stream",
     "text": [
      "\n"
     ]
    },
    {
     "name": "stdout",
     "output_type": "stream",
     "text": [
      "Qwen3-14B DEV Финальный результат EX: 57.82\n",
      "Qwen3-14B процент запросов, которые успешно выполнились DEV: 96.61%\n",
      "====================================================================================================\n",
      "\n",
      "\n",
      "Загружаем чаты с данными...\n",
      "Данные успешно загружены\n",
      "Начали генерацию SQL запросов\n"
     ]
    },
    {
     "name": "stderr",
     "output_type": "stream",
     "text": [
      "Processed prompts: 100%|██████████| 1534/1534 [07:59<00:00,  3.20it/s, est. speed input: 21697.62 toks/s, output: 165.72 toks/s]"
     ]
    },
    {
     "name": "stdout",
     "output_type": "stream",
     "text": [
      "extract_think количество ошибок:  0\n",
      "extract_sql количество ошибок:  0\n",
      "Закончили генерацию SQL запросов\n",
      "Начали скорр полученных SQL запросов\n"
     ]
    },
    {
     "name": "stderr",
     "output_type": "stream",
     "text": [
      "\n"
     ]
    },
    {
     "name": "stdout",
     "output_type": "stream",
     "text": [
      "Qwen3-14B DEV Финальный результат EX: 58.15\n",
      "Qwen3-14B процент запросов, которые успешно выполнились DEV: 96.09%\n",
      "====================================================================================================\n",
      "\n",
      "\n",
      "Загружаем чаты с данными...\n",
      "Данные успешно загружены\n",
      "Начали генерацию SQL запросов\n"
     ]
    },
    {
     "name": "stderr",
     "output_type": "stream",
     "text": [
      "Processed prompts: 100%|██████████| 1534/1534 [08:33<00:00,  2.99it/s, est. speed input: 21508.03 toks/s, output: 156.17 toks/s]"
     ]
    },
    {
     "name": "stdout",
     "output_type": "stream",
     "text": [
      "extract_think количество ошибок:  0\n",
      "extract_sql количество ошибок:  0\n",
      "Закончили генерацию SQL запросов\n",
      "Начали скорр полученных SQL запросов\n"
     ]
    },
    {
     "name": "stderr",
     "output_type": "stream",
     "text": [
      "\n"
     ]
    },
    {
     "name": "stdout",
     "output_type": "stream",
     "text": [
      "Qwen3-14B DEV Финальный результат EX: 58.02\n",
      "Qwen3-14B процент запросов, которые успешно выполнились DEV: 96.35%\n",
      "====================================================================================================\n",
      "\n",
      "\n",
      "Загружаем чаты с данными...\n",
      "Данные успешно загружены\n",
      "Начали генерацию SQL запросов\n"
     ]
    },
    {
     "name": "stderr",
     "output_type": "stream",
     "text": [
      "Processed prompts: 100%|██████████| 1534/1534 [09:02<00:00,  2.83it/s, est. speed input: 21210.58 toks/s, output: 148.76 toks/s]"
     ]
    },
    {
     "name": "stdout",
     "output_type": "stream",
     "text": [
      "extract_think количество ошибок:  0\n",
      "extract_sql количество ошибок:  0\n",
      "Закончили генерацию SQL запросов\n",
      "Начали скорр полученных SQL запросов\n"
     ]
    },
    {
     "name": "stderr",
     "output_type": "stream",
     "text": [
      "\n"
     ]
    },
    {
     "name": "stdout",
     "output_type": "stream",
     "text": [
      "Qwen3-14B DEV Финальный результат EX: 57.95\n",
      "Qwen3-14B процент запросов, которые успешно выполнились DEV: 96.41%\n",
      "====================================================================================================\n",
      "\n",
      "\n",
      "Загружаем чаты с данными...\n",
      "Данные успешно загружены\n",
      "Начали генерацию SQL запросов\n"
     ]
    },
    {
     "name": "stderr",
     "output_type": "stream",
     "text": [
      "Processed prompts: 100%|██████████| 1534/1534 [09:08<00:00,  2.80it/s, est. speed input: 21284.57 toks/s, output: 146.95 toks/s]"
     ]
    },
    {
     "name": "stdout",
     "output_type": "stream",
     "text": [
      "extract_think количество ошибок:  0\n",
      "extract_sql количество ошибок:  0\n",
      "Закончили генерацию SQL запросов\n",
      "Начали скорр полученных SQL запросов\n"
     ]
    },
    {
     "name": "stderr",
     "output_type": "stream",
     "text": [
      "\n"
     ]
    },
    {
     "name": "stdout",
     "output_type": "stream",
     "text": [
      "Qwen3-14B DEV Финальный результат EX: 57.69\n",
      "Qwen3-14B процент запросов, которые успешно выполнились DEV: 96.35%\n",
      "====================================================================================================\n",
      "\n",
      "\n",
      "Загружаем чаты с данными...\n",
      "Данные успешно загружены\n",
      "Начали генерацию SQL запросов\n"
     ]
    },
    {
     "name": "stderr",
     "output_type": "stream",
     "text": [
      "Processed prompts: 100%|██████████| 1534/1534 [09:13<00:00,  2.77it/s, est. speed input: 21328.62 toks/s, output: 144.58 toks/s]"
     ]
    },
    {
     "name": "stdout",
     "output_type": "stream",
     "text": [
      "extract_think количество ошибок:  0\n",
      "extract_sql количество ошибок:  0\n",
      "Закончили генерацию SQL запросов\n",
      "Начали скорр полученных SQL запросов\n"
     ]
    },
    {
     "name": "stderr",
     "output_type": "stream",
     "text": [
      "\n"
     ]
    },
    {
     "name": "stdout",
     "output_type": "stream",
     "text": [
      "Qwen3-14B DEV Финальный результат EX: 57.82\n",
      "Qwen3-14B процент запросов, которые успешно выполнились DEV: 96.41%\n",
      "====================================================================================================\n",
      "\n",
      "\n",
      "Загружаем чаты с данными...\n",
      "Данные успешно загружены\n",
      "Начали генерацию SQL запросов\n"
     ]
    },
    {
     "name": "stderr",
     "output_type": "stream",
     "text": [
      "Processed prompts: 100%|██████████| 1534/1534 [09:13<00:00,  2.77it/s, est. speed input: 21321.30 toks/s, output: 144.87 toks/s]"
     ]
    },
    {
     "name": "stdout",
     "output_type": "stream",
     "text": [
      "extract_think количество ошибок:  0\n",
      "extract_sql количество ошибок:  0\n",
      "Закончили генерацию SQL запросов\n",
      "Начали скорр полученных SQL запросов\n"
     ]
    },
    {
     "name": "stderr",
     "output_type": "stream",
     "text": [
      "\n"
     ]
    },
    {
     "name": "stdout",
     "output_type": "stream",
     "text": [
      "Qwen3-14B DEV Финальный результат EX: 58.02\n",
      "Qwen3-14B процент запросов, которые успешно выполнились DEV: 96.09%\n",
      "====================================================================================================\n",
      "\n",
      "\n"
     ]
    }
   ],
   "source": [
    "run_cot_experiment(model,arr_seeds,arr_versions, type_cot,num_observations=num_observations)"
   ]
  },
  {
   "cell_type": "markdown",
   "id": "87878e5f-093d-453a-9788-03dc8dd66798",
   "metadata": {},
   "source": [
    "# part2: answer"
   ]
  },
  {
   "cell_type": "code",
   "execution_count": 15,
   "id": "bceafaae-0c5b-4fb9-a4f9-91e86a81a4fc",
   "metadata": {},
   "outputs": [
    {
     "name": "stdout",
     "output_type": "stream",
     "text": [
      "[235, 785, 404, 9, 340, 927, 972, 240, 415, 0, 61, 35, 308, 232, 942, 948, 417, 101, 624, 792]\n",
      "model: Qwen3-14B\n"
     ]
    }
   ],
   "source": [
    "n= 20\n",
    "arr_seeds = [random.randint(0,1000) for _ in range(n)]\n",
    "arr_versions = [x for x in range(n)]\n",
    "model = \"Qwen3-14B\"\n",
    "num_observations = 2\n",
    "type_cot = 'predict'\n",
    "print(arr_seeds)\n",
    "print(f\"model: {model}\")"
   ]
  },
  {
   "cell_type": "code",
   "execution_count": 16,
   "id": "612ac94a-93c5-4681-978d-f7322871fb25",
   "metadata": {
    "scrolled": true
   },
   "outputs": [
    {
     "name": "stdout",
     "output_type": "stream",
     "text": [
      "Загружаем модель...\n"
     ]
    },
    {
     "name": "stderr",
     "output_type": "stream",
     "text": [
      "Loading safetensors checkpoint shards:   0% Completed | 0/8 [00:00<?, ?it/s]\n",
      "Loading safetensors checkpoint shards:  12% Completed | 1/8 [00:01<00:10,  1.46s/it]\n",
      "Loading safetensors checkpoint shards:  25% Completed | 2/8 [00:02<00:08,  1.44s/it]\n",
      "Loading safetensors checkpoint shards:  38% Completed | 3/8 [00:04<00:07,  1.43s/it]\n",
      "Loading safetensors checkpoint shards:  50% Completed | 4/8 [00:05<00:05,  1.45s/it]\n",
      "Loading safetensors checkpoint shards:  62% Completed | 5/8 [00:07<00:04,  1.43s/it]\n",
      "Loading safetensors checkpoint shards:  75% Completed | 6/8 [00:07<00:02,  1.19s/it]\n",
      "Loading safetensors checkpoint shards:  88% Completed | 7/8 [00:09<00:01,  1.25s/it]\n",
      "Loading safetensors checkpoint shards: 100% Completed | 8/8 [00:10<00:00,  1.29s/it]\n",
      "Loading safetensors checkpoint shards: 100% Completed | 8/8 [00:10<00:00,  1.33s/it]\n",
      "\u001b[1;36m(VllmWorker rank=0 pid=837799)\u001b[0;0m \n"
     ]
    },
    {
     "name": "stdout",
     "output_type": "stream",
     "text": [
      "Модель успешно загружена\n",
      "model_config {'model': '/data/home/vkropoti/models/Qwen3-14B', 'tensor_parallel_size': 2, 'max_model_len': 40000, 'max_new_tokens': 1500, 'temperature': 0, 'top_k': 1, 'top_p': 0.8, 'gpu_memory_utilization': 0.9, 'trust_remote_code': False, 'seed': 235}\n",
      "\n",
      "prompts_config {'path_dev_json': '/home/vkropoti/vllm/dev.json', 'path_sql_dbs': '/data/home/vkropoti/sql_data/dev_databases/', 'use_reasoning': False, 'paths_to_cot': ['/data/home/vkropoti/sql_llm_answers/bird_dev/sql_predict_Qwen3-14B-reasoning-v0', '/data/home/vkropoti/sql_llm_answers/bird_dev/sql_predict_Qwen3-14B-reasoning-v1']}\n",
      "\n",
      "save_config {'path_sql_save': '/data/home/vkropoti/sql_llm_answers/bird_dev/sql_all_Qwen3-14B-cot_predict_think==False_nobs2-v0', 'path_think_save': None, 'path_sql_answers_save': '/data/home/vkropoti/sql_llm_answers/bird_dev/sql_predict_Qwen3-14B-cot_predict_think==False_nobs2-v0', 'path_to_save_scores': '/data/home/vkropoti/sql_llm_answers/bird_dev/sql_results_Qwen3-14B-cot_predict_think==False_nobs2-v0', 'path_to_save_executed': '/data/home/vkropoti/sql_llm_answers/bird_dev/sql_executed_Qwen3-14B-cot_predict_think==False_nobs2-v0'}\n",
      "\n",
      "Модель успешно загружена\n",
      "Пример промпта\n",
      "<|im_start|>system\n",
      "\n",
      "You are a data science expert. Below, you are provided with a database schema and a natural language question. Your task is to understand the schema and generate a valid SQL query to answer the question.\n",
      "\n",
      "Database Engine: SQLite\n",
      "\n",
      "You will be given an additional analysis of other models, please take it into account, so the plan is\n",
      "1. Analyse given addition analysis from other models (find in which analysis the same and differ, how to use that to answer question)\n",
      "2. Combine best from previous part and think how to solve the problem (analyze tables, take care what columns avaliable in each table and so on, check the syntacsis)\n",
      "3. Create the answers. The answer should be only sql query.\n",
      "\n",
      "Carefully follow the instruction and add <|im_end|> and the end of the final answer<|im_end|>\n",
      "<|im_start|>user\n",
      "Here is addition analysis from other models which can be helpfull, please take this into account but be careful (choose the best from each analysis, combine them to make the most proper answer):\n",
      "\n",
      "model 0 analysis:\n",
      " SELECT MAX(`Free Meal Count (K-12` / `Enrollment (K-12`) FROM frpm JOIN schools ON frpm.CDSCode = schools.CDSCode WHERE schools.County = 'Alameda';\n",
      "\n",
      "model 1 analysis:\n",
      " SELECT MAX(`Free Meal Count (K-12` / `Enrollment (K-12`) FROM frpm WHERE `County Name` = 'Alameda County';\n",
      "\n",
      "\n",
      "here is avaliable tables below\n",
      "\n",
      "\n",
      "Table: frpm\n",
      "CREATE TABLE frpm\n",
      "(\n",
      "    CDSCode                                       TEXT not null\n",
      "        primary key,\n",
      "    `Academic Year`                               TEXT  null,\n",
      "    `County Code`                                 TEXT  null,\n",
      "    `District Code`                               INTEGER         null,\n",
      "    `School Code`                                 TEXT  null,\n",
      "    `County Name`                                 TEXT null,\n",
      "    `District Name`                               TEXT null,\n",
      "    `School Name`                                 TEXT null,\n",
      "    `District Type`                               TEXT null,\n",
      "    `School Type`                                 TEXT null,\n",
      "    `Educational Option Type`                     TEXT null,\n",
      "    `NSLP Provision Status`                       TEXT null,\n",
      "    `Charter School (Y/N)`                        INTEGER    null,\n",
      "    `Charter School Number`                       TEXT  null,\n",
      "    `Charter Funding Type`                        TEXT null,\n",
      "    IRC                                           INTEGER    null,\n",
      "    `Low Grade`                                   TEXT  null,\n",
      "    `High Grade`                                  TEXT null,\n",
      "    `Enrollment (K-12)`                           REAL      null,\n",
      "    `Free Meal Count (K-12)`                      REAL       null,\n",
      "    `Percent (%) Eligible Free (K-12)`            REAL       null,\n",
      "    `FRPM Count (K-12)`                           REAL       null,\n",
      "    `Percent (%) Eligible FRPM (K-12)`            REAL       null,\n",
      "    `Enrollment (Ages 5-17)`                      REAL       null,\n",
      "    `Free Meal Count (Ages 5-17)`                 REAL       null,\n",
      "    `Percent (%) Eligible Free (Ages 5-17)`       REAL       null,\n",
      "    `FRPM Count (Ages 5-17)`                      REAL       null,\n",
      "    `Percent (%) Eligible FRPM (Ages 5-17)`       REAL       null,\n",
      "    `2013-14 CALPADS Fall 1 Certification Status` INTEGER    null,\n",
      "    foreign key (CDSCode) references schools (CDSCode)\n",
      ")\n",
      "\n",
      "Table: satscores\n",
      "CREATE TABLE satscores\n",
      "(\n",
      "    cds         TEXT not null\n",
      "        primary key,\n",
      "    rtype       TEXT  not null,\n",
      "    sname       TEXT null,\n",
      "    dname       TEXT null,\n",
      "    cname       TEXT null,\n",
      "    enroll12    INTEGER         not null,\n",
      "    NumTstTakr  INTEGER          not null,\n",
      "    AvgScrRead  INTEGER          null,\n",
      "    AvgScrMath  INTEGER          null,\n",
      "    AvgScrWrite INTEGER          null,\n",
      "    NumGE1500   INTEGER          null,\n",
      "--     PctGE1500   double      null,\n",
      "        foreign key (cds) references schools (CDSCode)\n",
      ")\n",
      "\n",
      "Table: schools\n",
      "CREATE TABLE schools\n",
      "(\n",
      "    CDSCode     TEXT not null\n",
      "        primary key,\n",
      "    NCESDist    TEXT  null,\n",
      "    NCESSchool  TEXT  null,\n",
      "    StatusType  TEXT  not null,\n",
      "    County      TEXT not null,\n",
      "    District    TEXT not null,\n",
      "    School      TEXT null,\n",
      "    Street      TEXT null,\n",
      "    StreetAbr   TEXT null,\n",
      "    City        TEXT null,\n",
      "    Zip         TEXT null,\n",
      "    State       TEXT  null,\n",
      "    MailStreet  TEXT null,\n",
      "    MailStrAbr  TEXT null,\n",
      "    MailCity    TEXT null,\n",
      "    MailZip     TEXT null,\n",
      "    MailState   TEXT  null,\n",
      "    Phone       TEXT null,\n",
      "    Ext         TEXT  null,\n",
      "    Website     TEXT null,\n",
      "    OpenDate    DATE        null,\n",
      "    ClosedDate  DATE        null,\n",
      "    Charter     INTEGER    null,\n",
      "    CharterNum  TEXT  null,\n",
      "    FundingType TEXT null,\n",
      "    DOC         TEXT  not null,\n",
      "    DOCType     TEXT not null,\n",
      "    SOC         TEXT  null,\n",
      "    SOCType     TEXT null,\n",
      "    EdOpsCode   TEXT  null,\n",
      "    EdOpsName   TEXT null,\n",
      "    EILCode     TEXT  null,\n",
      "    EILName     TEXT null,\n",
      "    GSoffered   TEXT null,\n",
      "    GSserved    TEXT  null,\n",
      "    Virtual     TEXT  null,\n",
      "    Magnet      INTEGER   null,\n",
      "    Latitude    REAL      null,\n",
      "    Longitude   REAL      null,\n",
      "    AdmFName1   TEXT null,\n",
      "    AdmLName1   TEXT null,\n",
      "    AdmEmail1   TEXT null,\n",
      "    AdmFName2   TEXT null,\n",
      "    AdmLName2   TEXT null,\n",
      "    AdmEmail2   TEXT null,\n",
      "    AdmFName3   TEXT  null,\n",
      "    AdmLName3   TEXT null,\n",
      "    AdmEmail3   TEXT null,\n",
      "    LastUpdate  DATE        not null\n",
      ")\n",
      "\n",
      "-- Using valid SQLite and understanding External Knowledge, answer the following questions for the tables provided above.\n",
      "-- What is the highest eligible free rate for K-12 students in the schools in Alameda County?\n",
      "-- External Knowledge: Eligible free rate for K-12 = `Free Meal Count (K-12)` / `Enrollment (K-12)`\n",
      "\n",
      "\n",
      "Generate the SQLite for the above question after thinking step by step: \n",
      "\n",
      "\n",
      "Instructions:\n",
      "- Make sure you only output the information that is asked in the question. If the question asks for a specific column, make sure to only include that column in the SELECT clause, nothing more.\n",
      "- The generated query should return all of the information asked in the question without any missing or extra information.\n",
      "- Before generating the final SQL query, please think through the steps of how to write the query.\n",
      "- Do not misuse column names, keep them in quotes `\n",
      "- Carefully understand what colomns belond to what tables\n",
      "- Use only initial column names, change names prohibited\n",
      "        \n",
      "Output Format:\n",
      "In your answer, please enclose the generated SQL query in a code block:\n",
      "```\n",
      "-- Your SQL query\n",
      "```    \n",
      "and nothing else, no exaplains, no comments (asnwer should be less than 512 characters)\n",
      "\n",
      "Take a deep breath and think step by step to find the correct SQL query in SQLite format.\n",
      "\n",
      "Question repetition: What is the highest eligible free rate for K-12 students in the schools in Alameda County?\n",
      "\n",
      "Be care! Include only what i want it questiona and nothing else<|im_end|>\n",
      "<|im_start|>assistant\n",
      "<think>\n",
      "\n",
      "</think>\n",
      "\n",
      "\n",
      "\n",
      "\n",
      "Максимальное количество токенов в промптах: 3715\n",
      "\n",
      "начинаем скорринг\n",
      "Загружаем чаты с данными...\n",
      "Данные успешно загружены\n",
      "Начали генерацию SQL запросов\n"
     ]
    },
    {
     "name": "stderr",
     "output_type": "stream",
     "text": [
      "Processed prompts: 100%|██████████| 1534/1534 [01:34<00:00, 16.19it/s, est. speed input: 24114.54 toks/s, output: 833.00 toks/s] "
     ]
    },
    {
     "name": "stdout",
     "output_type": "stream",
     "text": [
      "extract_think количество ошибок:  0\n",
      "extract_sql количество ошибок:  0\n",
      "Закончили генерацию SQL запросов\n",
      "Начали скорр полученных SQL запросов\n"
     ]
    },
    {
     "name": "stderr",
     "output_type": "stream",
     "text": [
      "\n"
     ]
    },
    {
     "name": "stdout",
     "output_type": "stream",
     "text": [
      "Qwen3-14B DEV Финальный результат EX: 58.34\n",
      "Qwen3-14B процент запросов, которые успешно выполнились DEV: 97.26%\n",
      "====================================================================================================\n",
      "\n",
      "\n",
      "Загружаем чаты с данными...\n",
      "Данные успешно загружены\n",
      "Начали генерацию SQL запросов\n"
     ]
    },
    {
     "name": "stderr",
     "output_type": "stream",
     "text": [
      "Processed prompts: 100%|██████████| 1534/1534 [01:33<00:00, 16.38it/s, est. speed input: 24382.80 toks/s, output: 831.70 toks/s] "
     ]
    },
    {
     "name": "stdout",
     "output_type": "stream",
     "text": [
      "extract_think количество ошибок:  0\n",
      "extract_sql количество ошибок:  0\n",
      "Закончили генерацию SQL запросов\n",
      "Начали скорр полученных SQL запросов\n"
     ]
    },
    {
     "name": "stderr",
     "output_type": "stream",
     "text": [
      "\n"
     ]
    },
    {
     "name": "stdout",
     "output_type": "stream",
     "text": [
      "Qwen3-14B DEV Финальный результат EX: 57.43\n",
      "Qwen3-14B процент запросов, которые успешно выполнились DEV: 97.26%\n",
      "====================================================================================================\n",
      "\n",
      "\n",
      "Загружаем чаты с данными...\n",
      "Данные успешно загружены\n",
      "Начали генерацию SQL запросов\n"
     ]
    },
    {
     "name": "stderr",
     "output_type": "stream",
     "text": [
      "Processed prompts: 100%|██████████| 1534/1534 [01:30<00:00, 17.04it/s, est. speed input: 25369.12 toks/s, output: 857.60 toks/s] "
     ]
    },
    {
     "name": "stdout",
     "output_type": "stream",
     "text": [
      "extract_think количество ошибок:  0\n",
      "extract_sql количество ошибок:  0\n",
      "Закончили генерацию SQL запросов\n",
      "Начали скорр полученных SQL запросов\n"
     ]
    },
    {
     "name": "stderr",
     "output_type": "stream",
     "text": [
      "\n"
     ]
    },
    {
     "name": "stdout",
     "output_type": "stream",
     "text": [
      "Qwen3-14B DEV Финальный результат EX: 57.37\n",
      "Qwen3-14B процент запросов, которые успешно выполнились DEV: 96.87%\n",
      "====================================================================================================\n",
      "\n",
      "\n",
      "Загружаем чаты с данными...\n",
      "Данные успешно загружены\n",
      "Начали генерацию SQL запросов\n"
     ]
    },
    {
     "name": "stderr",
     "output_type": "stream",
     "text": [
      "Processed prompts: 100%|██████████| 1534/1534 [01:32<00:00, 16.50it/s, est. speed input: 24584.28 toks/s, output: 848.09 toks/s] "
     ]
    },
    {
     "name": "stdout",
     "output_type": "stream",
     "text": [
      "extract_think количество ошибок:  0\n",
      "extract_sql количество ошибок:  0\n",
      "Закончили генерацию SQL запросов\n",
      "Начали скорр полученных SQL запросов\n"
     ]
    },
    {
     "name": "stderr",
     "output_type": "stream",
     "text": [
      "\n"
     ]
    },
    {
     "name": "stdout",
     "output_type": "stream",
     "text": [
      "Qwen3-14B DEV Финальный результат EX: 57.69\n",
      "Qwen3-14B процент запросов, которые успешно выполнились DEV: 96.68%\n",
      "====================================================================================================\n",
      "\n",
      "\n",
      "Загружаем чаты с данными...\n",
      "Данные успешно загружены\n",
      "Начали генерацию SQL запросов\n"
     ]
    },
    {
     "name": "stderr",
     "output_type": "stream",
     "text": [
      "Processed prompts: 100%|██████████| 1534/1534 [01:35<00:00, 16.11it/s, est. speed input: 24017.66 toks/s, output: 837.07 toks/s] "
     ]
    },
    {
     "name": "stdout",
     "output_type": "stream",
     "text": [
      "extract_think количество ошибок:  0\n",
      "extract_sql количество ошибок:  0\n",
      "Закончили генерацию SQL запросов\n",
      "Начали скорр полученных SQL запросов\n"
     ]
    },
    {
     "name": "stderr",
     "output_type": "stream",
     "text": [
      "\n",
      "Exception ignored in: <bound method IPythonKernel._clean_thread_parent_frames of <ipykernel.ipkernel.IPythonKernel object at 0x7fe0d1896f30>>\n",
      "Traceback (most recent call last):\n",
      "  File \"/data/home/vkropoti/vllm/lib64/python3.12/site-packages/ipykernel/ipkernel.py\", line 775, in _clean_thread_parent_frames\n",
      "    def _clean_thread_parent_frames(\n",
      "\n",
      "func_timeout.dafunc.FunctionTimedOut3356428281691169441: Function execute_query (args=('/data/home/vkropoti/sql_data/dev_databases/', 'financial', \"SELECT T1.account_id FROM trans AS T1 INNER JOIN account AS T2 ON T1.account_id = T2.account_id WHERE STRFTIME('%Y', T1.date) = '1998' AND T1.operation = 'VYBER KARTOU' AND T1.amount < (SELECT AVG(amount) FROM trans WHERE STRFTIME('%Y', date) = '1998')\", \"SELECT DISTINCT client.client_id\\nFROM trans\\nJOIN disp ON trans.account_id = disp.account_id\\nJOIN client ON disp.client_id = client.client_id\\nWHERE trans.date BETWEEN '1998-01-01' AND '1998-12-31'\\nAND trans.operation = 'VYBER KARTOU'\\nAND trans.amount < (\\n    SELECT AVG(amount)\\n    FROM trans\\n    WHERE date BETWEEN '1998-01-01' AND '1998-12-31'\\n    AND operation = 'VYBER KARTOU'\\n);\")) (kwargs={}) timed out after 5.000000 seconds.\n",
      "\n"
     ]
    },
    {
     "name": "stdout",
     "output_type": "stream",
     "text": [
      "Qwen3-14B DEV Финальный результат EX: 57.82\n",
      "Qwen3-14B процент запросов, которые успешно выполнились DEV: 97.00%\n",
      "====================================================================================================\n",
      "\n",
      "\n",
      "Загружаем чаты с данными...\n",
      "Данные успешно загружены\n",
      "Начали генерацию SQL запросов\n"
     ]
    },
    {
     "name": "stderr",
     "output_type": "stream",
     "text": [
      "Processed prompts: 100%|██████████| 1534/1534 [01:35<00:00, 15.99it/s, est. speed input: 23818.80 toks/s, output: 817.37 toks/s] "
     ]
    },
    {
     "name": "stdout",
     "output_type": "stream",
     "text": [
      "extract_think количество ошибок:  0\n",
      "extract_sql количество ошибок:  0\n",
      "Закончили генерацию SQL запросов\n",
      "Начали скорр полученных SQL запросов\n"
     ]
    },
    {
     "name": "stderr",
     "output_type": "stream",
     "text": [
      "\n"
     ]
    },
    {
     "name": "stdout",
     "output_type": "stream",
     "text": [
      "Qwen3-14B DEV Финальный результат EX: 57.56\n",
      "Qwen3-14B процент запросов, которые успешно выполнились DEV: 96.81%\n",
      "====================================================================================================\n",
      "\n",
      "\n",
      "Загружаем чаты с данными...\n",
      "Данные успешно загружены\n",
      "Начали генерацию SQL запросов\n"
     ]
    },
    {
     "name": "stderr",
     "output_type": "stream",
     "text": [
      "Processed prompts: 100%|██████████| 1534/1534 [01:35<00:00, 16.01it/s, est. speed input: 23839.25 toks/s, output: 820.26 toks/s] "
     ]
    },
    {
     "name": "stdout",
     "output_type": "stream",
     "text": [
      "extract_think количество ошибок:  0\n",
      "extract_sql количество ошибок:  0\n",
      "Закончили генерацию SQL запросов\n",
      "Начали скорр полученных SQL запросов\n"
     ]
    },
    {
     "name": "stderr",
     "output_type": "stream",
     "text": [
      "\n"
     ]
    },
    {
     "name": "stdout",
     "output_type": "stream",
     "text": [
      "Qwen3-14B DEV Финальный результат EX: 57.69\n",
      "Qwen3-14B процент запросов, которые успешно выполнились DEV: 96.41%\n",
      "====================================================================================================\n",
      "\n",
      "\n",
      "Загружаем чаты с данными...\n",
      "Данные успешно загружены\n",
      "Начали генерацию SQL запросов\n"
     ]
    },
    {
     "name": "stderr",
     "output_type": "stream",
     "text": [
      "Processed prompts: 100%|██████████| 1534/1534 [01:30<00:00, 16.93it/s, est. speed input: 25200.99 toks/s, output: 860.18 toks/s] "
     ]
    },
    {
     "name": "stdout",
     "output_type": "stream",
     "text": [
      "extract_think количество ошибок:  0\n",
      "extract_sql количество ошибок:  0\n",
      "Закончили генерацию SQL запросов\n",
      "Начали скорр полученных SQL запросов\n"
     ]
    },
    {
     "name": "stderr",
     "output_type": "stream",
     "text": [
      "\n"
     ]
    },
    {
     "name": "stdout",
     "output_type": "stream",
     "text": [
      "Qwen3-14B DEV Финальный результат EX: 57.76\n",
      "Qwen3-14B процент запросов, которые успешно выполнились DEV: 97.00%\n",
      "====================================================================================================\n",
      "\n",
      "\n",
      "Загружаем чаты с данными...\n",
      "Данные успешно загружены\n",
      "Начали генерацию SQL запросов\n"
     ]
    },
    {
     "name": "stderr",
     "output_type": "stream",
     "text": [
      "Processed prompts: 100%|██████████| 1534/1534 [01:29<00:00, 17.05it/s, est. speed input: 25392.75 toks/s, output: 865.52 toks/s] "
     ]
    },
    {
     "name": "stdout",
     "output_type": "stream",
     "text": [
      "extract_think количество ошибок:  0\n",
      "extract_sql количество ошибок:  0\n",
      "Закончили генерацию SQL запросов\n",
      "Начали скорр полученных SQL запросов\n"
     ]
    },
    {
     "name": "stderr",
     "output_type": "stream",
     "text": [
      "\n"
     ]
    },
    {
     "name": "stdout",
     "output_type": "stream",
     "text": [
      "Qwen3-14B DEV Финальный результат EX: 57.69\n",
      "Qwen3-14B процент запросов, которые успешно выполнились DEV: 97.33%\n",
      "====================================================================================================\n",
      "\n",
      "\n",
      "Загружаем чаты с данными...\n",
      "Данные успешно загружены\n",
      "Начали генерацию SQL запросов\n"
     ]
    },
    {
     "name": "stderr",
     "output_type": "stream",
     "text": [
      "Processed prompts: 100%|██████████| 1534/1534 [01:35<00:00, 16.15it/s, est. speed input: 24056.38 toks/s, output: 831.34 toks/s] "
     ]
    },
    {
     "name": "stdout",
     "output_type": "stream",
     "text": [
      "extract_think количество ошибок:  0\n",
      "extract_sql количество ошибок:  0\n",
      "Закончили генерацию SQL запросов\n",
      "Начали скорр полученных SQL запросов\n"
     ]
    },
    {
     "name": "stderr",
     "output_type": "stream",
     "text": [
      "\n"
     ]
    },
    {
     "name": "stdout",
     "output_type": "stream",
     "text": [
      "Qwen3-14B DEV Финальный результат EX: 57.56\n",
      "Qwen3-14B процент запросов, которые успешно выполнились DEV: 96.54%\n",
      "====================================================================================================\n",
      "\n",
      "\n",
      "Загружаем чаты с данными...\n",
      "Данные успешно загружены\n",
      "Начали генерацию SQL запросов\n"
     ]
    },
    {
     "name": "stderr",
     "output_type": "stream",
     "text": [
      "Processed prompts: 100%|██████████| 1534/1534 [01:36<00:00, 15.92it/s, est. speed input: 23721.01 toks/s, output: 821.35 toks/s] "
     ]
    },
    {
     "name": "stdout",
     "output_type": "stream",
     "text": [
      "extract_think количество ошибок:  0\n",
      "extract_sql количество ошибок:  0\n",
      "Закончили генерацию SQL запросов\n",
      "Начали скорр полученных SQL запросов\n"
     ]
    },
    {
     "name": "stderr",
     "output_type": "stream",
     "text": [
      "\n"
     ]
    },
    {
     "name": "stdout",
     "output_type": "stream",
     "text": [
      "Qwen3-14B DEV Финальный результат EX: 57.82\n",
      "Qwen3-14B процент запросов, которые успешно выполнились DEV: 96.81%\n",
      "====================================================================================================\n",
      "\n",
      "\n",
      "Загружаем чаты с данными...\n",
      "Данные успешно загружены\n",
      "Начали генерацию SQL запросов\n"
     ]
    },
    {
     "name": "stderr",
     "output_type": "stream",
     "text": [
      "Processed prompts: 100%|██████████| 1534/1534 [01:34<00:00, 16.19it/s, est. speed input: 24113.41 toks/s, output: 836.53 toks/s] "
     ]
    },
    {
     "name": "stdout",
     "output_type": "stream",
     "text": [
      "extract_think количество ошибок:  0\n",
      "extract_sql количество ошибок:  0\n",
      "Закончили генерацию SQL запросов\n",
      "Начали скорр полученных SQL запросов\n"
     ]
    },
    {
     "name": "stderr",
     "output_type": "stream",
     "text": [
      "\n"
     ]
    },
    {
     "name": "stdout",
     "output_type": "stream",
     "text": [
      "Qwen3-14B DEV Финальный результат EX: 58.08\n",
      "Qwen3-14B процент запросов, которые успешно выполнились DEV: 96.68%\n",
      "====================================================================================================\n",
      "\n",
      "\n",
      "Загружаем чаты с данными...\n",
      "Данные успешно загружены\n",
      "Начали генерацию SQL запросов\n"
     ]
    },
    {
     "name": "stderr",
     "output_type": "stream",
     "text": [
      "Processed prompts: 100%|██████████| 1534/1534 [01:36<00:00, 15.85it/s, est. speed input: 23601.30 toks/s, output: 812.42 toks/s] "
     ]
    },
    {
     "name": "stdout",
     "output_type": "stream",
     "text": [
      "extract_think количество ошибок:  0\n",
      "extract_sql количество ошибок:  0\n",
      "Закончили генерацию SQL запросов\n",
      "Начали скорр полученных SQL запросов\n"
     ]
    },
    {
     "name": "stderr",
     "output_type": "stream",
     "text": [
      "\n"
     ]
    },
    {
     "name": "stdout",
     "output_type": "stream",
     "text": [
      "Qwen3-14B DEV Финальный результат EX: 58.28\n",
      "Qwen3-14B процент запросов, которые успешно выполнились DEV: 96.74%\n",
      "====================================================================================================\n",
      "\n",
      "\n",
      "Загружаем чаты с данными...\n",
      "Данные успешно загружены\n",
      "Начали генерацию SQL запросов\n"
     ]
    },
    {
     "name": "stderr",
     "output_type": "stream",
     "text": [
      "Processed prompts: 100%|██████████| 1534/1534 [01:35<00:00, 16.05it/s, est. speed input: 23868.29 toks/s, output: 808.00 toks/s] "
     ]
    },
    {
     "name": "stdout",
     "output_type": "stream",
     "text": [
      "extract_think количество ошибок:  0\n",
      "extract_sql количество ошибок:  0\n",
      "Закончили генерацию SQL запросов\n",
      "Начали скорр полученных SQL запросов\n"
     ]
    },
    {
     "name": "stderr",
     "output_type": "stream",
     "text": [
      "\n"
     ]
    },
    {
     "name": "stdout",
     "output_type": "stream",
     "text": [
      "Qwen3-14B DEV Финальный результат EX: 58.02\n",
      "Qwen3-14B процент запросов, которые успешно выполнились DEV: 96.41%\n",
      "====================================================================================================\n",
      "\n",
      "\n",
      "Загружаем чаты с данными...\n",
      "Данные успешно загружены\n",
      "Начали генерацию SQL запросов\n"
     ]
    },
    {
     "name": "stderr",
     "output_type": "stream",
     "text": [
      "Processed prompts: 100%|██████████| 1534/1534 [01:35<00:00, 16.13it/s, est. speed input: 23956.79 toks/s, output: 817.23 toks/s] "
     ]
    },
    {
     "name": "stdout",
     "output_type": "stream",
     "text": [
      "extract_think количество ошибок:  0\n",
      "extract_sql количество ошибок:  0\n",
      "Закончили генерацию SQL запросов\n",
      "Начали скорр полученных SQL запросов\n"
     ]
    },
    {
     "name": "stderr",
     "output_type": "stream",
     "text": [
      "\n"
     ]
    },
    {
     "name": "stdout",
     "output_type": "stream",
     "text": [
      "Qwen3-14B DEV Финальный результат EX: 56.84\n",
      "Qwen3-14B процент запросов, которые успешно выполнились DEV: 95.76%\n",
      "====================================================================================================\n",
      "\n",
      "\n",
      "Загружаем чаты с данными...\n",
      "Данные успешно загружены\n",
      "Начали генерацию SQL запросов\n"
     ]
    },
    {
     "name": "stderr",
     "output_type": "stream",
     "text": [
      "Processed prompts: 100%|██████████| 1534/1534 [01:31<00:00, 16.70it/s, est. speed input: 24841.13 toks/s, output: 852.05 toks/s] "
     ]
    },
    {
     "name": "stdout",
     "output_type": "stream",
     "text": [
      "extract_think количество ошибок:  0\n",
      "extract_sql количество ошибок:  0\n",
      "Закончили генерацию SQL запросов\n",
      "Начали скорр полученных SQL запросов\n"
     ]
    },
    {
     "name": "stderr",
     "output_type": "stream",
     "text": [
      "\n"
     ]
    },
    {
     "name": "stdout",
     "output_type": "stream",
     "text": [
      "Qwen3-14B DEV Финальный результат EX: 57.56\n",
      "Qwen3-14B процент запросов, которые успешно выполнились DEV: 96.09%\n",
      "====================================================================================================\n",
      "\n",
      "\n",
      "Загружаем чаты с данными...\n",
      "Данные успешно загружены\n",
      "Начали генерацию SQL запросов\n"
     ]
    },
    {
     "name": "stderr",
     "output_type": "stream",
     "text": [
      "Processed prompts: 100%|██████████| 1534/1534 [01:30<00:00, 16.96it/s, est. speed input: 25248.85 toks/s, output: 858.61 toks/s] "
     ]
    },
    {
     "name": "stdout",
     "output_type": "stream",
     "text": [
      "extract_think количество ошибок:  0\n",
      "extract_sql количество ошибок:  0\n",
      "Закончили генерацию SQL запросов\n",
      "Начали скорр полученных SQL запросов\n"
     ]
    },
    {
     "name": "stderr",
     "output_type": "stream",
     "text": [
      "\n"
     ]
    },
    {
     "name": "stdout",
     "output_type": "stream",
     "text": [
      "Qwen3-14B DEV Финальный результат EX: 58.47\n",
      "Qwen3-14B процент запросов, которые успешно выполнились DEV: 96.61%\n",
      "====================================================================================================\n",
      "\n",
      "\n",
      "Загружаем чаты с данными...\n",
      "Данные успешно загружены\n",
      "Начали генерацию SQL запросов\n"
     ]
    },
    {
     "name": "stderr",
     "output_type": "stream",
     "text": [
      "Processed prompts: 100%|██████████| 1534/1534 [01:34<00:00, 16.23it/s, est. speed input: 24175.46 toks/s, output: 826.23 toks/s] "
     ]
    },
    {
     "name": "stdout",
     "output_type": "stream",
     "text": [
      "extract_think количество ошибок:  0\n",
      "extract_sql количество ошибок:  0\n",
      "Закончили генерацию SQL запросов\n",
      "Начали скорр полученных SQL запросов\n"
     ]
    },
    {
     "name": "stderr",
     "output_type": "stream",
     "text": [
      "\n"
     ]
    },
    {
     "name": "stdout",
     "output_type": "stream",
     "text": [
      "Qwen3-14B DEV Финальный результат EX: 58.28\n",
      "Qwen3-14B процент запросов, которые успешно выполнились DEV: 96.48%\n",
      "====================================================================================================\n",
      "\n",
      "\n",
      "Загружаем чаты с данными...\n",
      "Данные успешно загружены\n",
      "Начали генерацию SQL запросов\n"
     ]
    },
    {
     "name": "stderr",
     "output_type": "stream",
     "text": [
      "Processed prompts: 100%|██████████| 1534/1534 [01:34<00:00, 16.27it/s, est. speed input: 24227.16 toks/s, output: 833.55 toks/s] "
     ]
    },
    {
     "name": "stdout",
     "output_type": "stream",
     "text": [
      "extract_think количество ошибок:  0\n",
      "extract_sql количество ошибок:  0\n",
      "Закончили генерацию SQL запросов\n",
      "Начали скорр полученных SQL запросов\n"
     ]
    },
    {
     "name": "stderr",
     "output_type": "stream",
     "text": [
      "\n"
     ]
    },
    {
     "name": "stdout",
     "output_type": "stream",
     "text": [
      "Qwen3-14B DEV Финальный результат EX: 58.60\n",
      "Qwen3-14B процент запросов, которые успешно выполнились DEV: 97.39%\n",
      "====================================================================================================\n",
      "\n",
      "\n",
      "Загружаем чаты с данными...\n",
      "Данные успешно загружены\n",
      "Начали генерацию SQL запросов\n"
     ]
    },
    {
     "name": "stderr",
     "output_type": "stream",
     "text": [
      "Processed prompts: 100%|██████████| 1534/1534 [01:35<00:00, 16.07it/s, est. speed input: 23933.99 toks/s, output: 828.86 toks/s] "
     ]
    },
    {
     "name": "stdout",
     "output_type": "stream",
     "text": [
      "extract_think количество ошибок:  0\n",
      "extract_sql количество ошибок:  0\n",
      "Закончили генерацию SQL запросов\n",
      "Начали скорр полученных SQL запросов\n"
     ]
    },
    {
     "name": "stderr",
     "output_type": "stream",
     "text": [
      "\n"
     ]
    },
    {
     "name": "stdout",
     "output_type": "stream",
     "text": [
      "Qwen3-14B DEV Финальный результат EX: 58.02\n",
      "Qwen3-14B процент запросов, которые успешно выполнились DEV: 96.74%\n",
      "====================================================================================================\n",
      "\n",
      "\n"
     ]
    }
   ],
   "source": [
    "run_cot_experiment(model,arr_seeds,arr_versions, type_cot,num_observations=num_observations)"
   ]
  },
  {
   "cell_type": "code",
   "execution_count": 17,
   "id": "567aebd6-c42e-43f1-b038-e70215d348ba",
   "metadata": {},
   "outputs": [
    {
     "name": "stdout",
     "output_type": "stream",
     "text": [
      "[465, 686, 514, 340, 820, 69, 453, 753, 226, 551, 179, 941, 633, 350, 944, 138, 571, 609, 930, 674]\n",
      "model: Qwen3-14B\n"
     ]
    }
   ],
   "source": [
    "n= 20\n",
    "arr_seeds = [random.randint(0,1000) for _ in range(n)]\n",
    "arr_versions = [x for x in range(n)]\n",
    "model = \"Qwen3-14B\"\n",
    "num_observations = 3\n",
    "type_cot = 'predict'\n",
    "print(arr_seeds)\n",
    "print(f\"model: {model}\")"
   ]
  },
  {
   "cell_type": "code",
   "execution_count": 18,
   "id": "ae9448a7-0cef-4f51-b3ca-c3e9733ea56f",
   "metadata": {
    "scrolled": true
   },
   "outputs": [
    {
     "name": "stdout",
     "output_type": "stream",
     "text": [
      "Загружаем модель...\n"
     ]
    },
    {
     "name": "stderr",
     "output_type": "stream",
     "text": [
      "Loading safetensors checkpoint shards:   0% Completed | 0/8 [00:00<?, ?it/s]\n",
      "Loading safetensors checkpoint shards:  12% Completed | 1/8 [00:01<00:10,  1.47s/it]\n",
      "Loading safetensors checkpoint shards:  25% Completed | 2/8 [00:02<00:08,  1.44s/it]\n",
      "Loading safetensors checkpoint shards:  38% Completed | 3/8 [00:04<00:07,  1.46s/it]\n",
      "Loading safetensors checkpoint shards:  50% Completed | 4/8 [00:05<00:05,  1.47s/it]\n",
      "Loading safetensors checkpoint shards:  62% Completed | 5/8 [00:07<00:04,  1.47s/it]\n",
      "Loading safetensors checkpoint shards:  75% Completed | 6/8 [00:08<00:02,  1.22s/it]\n",
      "Loading safetensors checkpoint shards:  88% Completed | 7/8 [00:09<00:01,  1.29s/it]\n",
      "Loading safetensors checkpoint shards: 100% Completed | 8/8 [00:10<00:00,  1.34s/it]\n",
      "Loading safetensors checkpoint shards: 100% Completed | 8/8 [00:10<00:00,  1.37s/it]\n",
      "\u001b[1;36m(VllmWorker rank=0 pid=882147)\u001b[0;0m \n"
     ]
    },
    {
     "name": "stdout",
     "output_type": "stream",
     "text": [
      "Модель успешно загружена\n",
      "model_config {'model': '/data/home/vkropoti/models/Qwen3-14B', 'tensor_parallel_size': 2, 'max_model_len': 40000, 'max_new_tokens': 1500, 'temperature': 0, 'top_k': 1, 'top_p': 0.8, 'gpu_memory_utilization': 0.9, 'trust_remote_code': False, 'seed': 465}\n",
      "\n",
      "prompts_config {'path_dev_json': '/home/vkropoti/vllm/dev.json', 'path_sql_dbs': '/data/home/vkropoti/sql_data/dev_databases/', 'use_reasoning': False, 'paths_to_cot': ['/data/home/vkropoti/sql_llm_answers/bird_dev/sql_predict_Qwen3-14B-reasoning-v0', '/data/home/vkropoti/sql_llm_answers/bird_dev/sql_predict_Qwen3-14B-reasoning-v1', '/data/home/vkropoti/sql_llm_answers/bird_dev/sql_predict_Qwen3-14B-reasoning-v2']}\n",
      "\n",
      "save_config {'path_sql_save': '/data/home/vkropoti/sql_llm_answers/bird_dev/sql_all_Qwen3-14B-cot_predict_think==False_nobs3-v0', 'path_think_save': None, 'path_sql_answers_save': '/data/home/vkropoti/sql_llm_answers/bird_dev/sql_predict_Qwen3-14B-cot_predict_think==False_nobs3-v0', 'path_to_save_scores': '/data/home/vkropoti/sql_llm_answers/bird_dev/sql_results_Qwen3-14B-cot_predict_think==False_nobs3-v0', 'path_to_save_executed': '/data/home/vkropoti/sql_llm_answers/bird_dev/sql_executed_Qwen3-14B-cot_predict_think==False_nobs3-v0'}\n",
      "\n",
      "Модель успешно загружена\n",
      "Пример промпта\n",
      "<|im_start|>system\n",
      "\n",
      "You are a data science expert. Below, you are provided with a database schema and a natural language question. Your task is to understand the schema and generate a valid SQL query to answer the question.\n",
      "\n",
      "Database Engine: SQLite\n",
      "\n",
      "You will be given an additional analysis of other models, please take it into account, so the plan is\n",
      "1. Analyse given addition analysis from other models (find in which analysis the same and differ, how to use that to answer question)\n",
      "2. Combine best from previous part and think how to solve the problem (analyze tables, take care what columns avaliable in each table and so on, check the syntacsis)\n",
      "3. Create the answers. The answer should be only sql query.\n",
      "\n",
      "Carefully follow the instruction and add <|im_end|> and the end of the final answer<|im_end|>\n",
      "<|im_start|>user\n",
      "Here is addition analysis from other models which can be helpfull, please take this into account but be careful (choose the best from each analysis, combine them to make the most proper answer):\n",
      "\n",
      "model 0 analysis:\n",
      " SELECT MAX(`Free Meal Count (K-12` / `Enrollment (K-12`) FROM frpm JOIN schools ON frpm.CDSCode = schools.CDSCode WHERE schools.County = 'Alameda';\n",
      "\n",
      "model 1 analysis:\n",
      " SELECT MAX(`Free Meal Count (K-12` / `Enrollment (K-12`) FROM frpm WHERE `County Name` = 'Alameda County';\n",
      "\n",
      "model 2 analysis:\n",
      " SELECT MAX(`Free Meal Count (K-12)` / `Enrollment (K-12)`) FROM frpm WHERE `County Name` = 'Alameda County';\n",
      "\n",
      "\n",
      "here is avaliable tables below\n",
      "\n",
      "\n",
      "Table: frpm\n",
      "CREATE TABLE frpm\n",
      "(\n",
      "    CDSCode                                       TEXT not null\n",
      "        primary key,\n",
      "    `Academic Year`                               TEXT  null,\n",
      "    `County Code`                                 TEXT  null,\n",
      "    `District Code`                               INTEGER         null,\n",
      "    `School Code`                                 TEXT  null,\n",
      "    `County Name`                                 TEXT null,\n",
      "    `District Name`                               TEXT null,\n",
      "    `School Name`                                 TEXT null,\n",
      "    `District Type`                               TEXT null,\n",
      "    `School Type`                                 TEXT null,\n",
      "    `Educational Option Type`                     TEXT null,\n",
      "    `NSLP Provision Status`                       TEXT null,\n",
      "    `Charter School (Y/N)`                        INTEGER    null,\n",
      "    `Charter School Number`                       TEXT  null,\n",
      "    `Charter Funding Type`                        TEXT null,\n",
      "    IRC                                           INTEGER    null,\n",
      "    `Low Grade`                                   TEXT  null,\n",
      "    `High Grade`                                  TEXT null,\n",
      "    `Enrollment (K-12)`                           REAL      null,\n",
      "    `Free Meal Count (K-12)`                      REAL       null,\n",
      "    `Percent (%) Eligible Free (K-12)`            REAL       null,\n",
      "    `FRPM Count (K-12)`                           REAL       null,\n",
      "    `Percent (%) Eligible FRPM (K-12)`            REAL       null,\n",
      "    `Enrollment (Ages 5-17)`                      REAL       null,\n",
      "    `Free Meal Count (Ages 5-17)`                 REAL       null,\n",
      "    `Percent (%) Eligible Free (Ages 5-17)`       REAL       null,\n",
      "    `FRPM Count (Ages 5-17)`                      REAL       null,\n",
      "    `Percent (%) Eligible FRPM (Ages 5-17)`       REAL       null,\n",
      "    `2013-14 CALPADS Fall 1 Certification Status` INTEGER    null,\n",
      "    foreign key (CDSCode) references schools (CDSCode)\n",
      ")\n",
      "\n",
      "Table: satscores\n",
      "CREATE TABLE satscores\n",
      "(\n",
      "    cds         TEXT not null\n",
      "        primary key,\n",
      "    rtype       TEXT  not null,\n",
      "    sname       TEXT null,\n",
      "    dname       TEXT null,\n",
      "    cname       TEXT null,\n",
      "    enroll12    INTEGER         not null,\n",
      "    NumTstTakr  INTEGER          not null,\n",
      "    AvgScrRead  INTEGER          null,\n",
      "    AvgScrMath  INTEGER          null,\n",
      "    AvgScrWrite INTEGER          null,\n",
      "    NumGE1500   INTEGER          null,\n",
      "--     PctGE1500   double      null,\n",
      "        foreign key (cds) references schools (CDSCode)\n",
      ")\n",
      "\n",
      "Table: schools\n",
      "CREATE TABLE schools\n",
      "(\n",
      "    CDSCode     TEXT not null\n",
      "        primary key,\n",
      "    NCESDist    TEXT  null,\n",
      "    NCESSchool  TEXT  null,\n",
      "    StatusType  TEXT  not null,\n",
      "    County      TEXT not null,\n",
      "    District    TEXT not null,\n",
      "    School      TEXT null,\n",
      "    Street      TEXT null,\n",
      "    StreetAbr   TEXT null,\n",
      "    City        TEXT null,\n",
      "    Zip         TEXT null,\n",
      "    State       TEXT  null,\n",
      "    MailStreet  TEXT null,\n",
      "    MailStrAbr  TEXT null,\n",
      "    MailCity    TEXT null,\n",
      "    MailZip     TEXT null,\n",
      "    MailState   TEXT  null,\n",
      "    Phone       TEXT null,\n",
      "    Ext         TEXT  null,\n",
      "    Website     TEXT null,\n",
      "    OpenDate    DATE        null,\n",
      "    ClosedDate  DATE        null,\n",
      "    Charter     INTEGER    null,\n",
      "    CharterNum  TEXT  null,\n",
      "    FundingType TEXT null,\n",
      "    DOC         TEXT  not null,\n",
      "    DOCType     TEXT not null,\n",
      "    SOC         TEXT  null,\n",
      "    SOCType     TEXT null,\n",
      "    EdOpsCode   TEXT  null,\n",
      "    EdOpsName   TEXT null,\n",
      "    EILCode     TEXT  null,\n",
      "    EILName     TEXT null,\n",
      "    GSoffered   TEXT null,\n",
      "    GSserved    TEXT  null,\n",
      "    Virtual     TEXT  null,\n",
      "    Magnet      INTEGER   null,\n",
      "    Latitude    REAL      null,\n",
      "    Longitude   REAL      null,\n",
      "    AdmFName1   TEXT null,\n",
      "    AdmLName1   TEXT null,\n",
      "    AdmEmail1   TEXT null,\n",
      "    AdmFName2   TEXT null,\n",
      "    AdmLName2   TEXT null,\n",
      "    AdmEmail2   TEXT null,\n",
      "    AdmFName3   TEXT  null,\n",
      "    AdmLName3   TEXT null,\n",
      "    AdmEmail3   TEXT null,\n",
      "    LastUpdate  DATE        not null\n",
      ")\n",
      "\n",
      "-- Using valid SQLite and understanding External Knowledge, answer the following questions for the tables provided above.\n",
      "-- What is the highest eligible free rate for K-12 students in the schools in Alameda County?\n",
      "-- External Knowledge: Eligible free rate for K-12 = `Free Meal Count (K-12)` / `Enrollment (K-12)`\n",
      "\n",
      "\n",
      "Generate the SQLite for the above question after thinking step by step: \n",
      "\n",
      "\n",
      "Instructions:\n",
      "- Make sure you only output the information that is asked in the question. If the question asks for a specific column, make sure to only include that column in the SELECT clause, nothing more.\n",
      "- The generated query should return all of the information asked in the question without any missing or extra information.\n",
      "- Before generating the final SQL query, please think through the steps of how to write the query.\n",
      "- Do not misuse column names, keep them in quotes `\n",
      "- Carefully understand what colomns belond to what tables\n",
      "- Use only initial column names, change names prohibited\n",
      "        \n",
      "Output Format:\n",
      "In your answer, please enclose the generated SQL query in a code block:\n",
      "```\n",
      "-- Your SQL query\n",
      "```    \n",
      "and nothing else, no exaplains, no comments (asnwer should be less than 512 characters)\n",
      "\n",
      "Take a deep breath and think step by step to find the correct SQL query in SQLite format.\n",
      "\n",
      "Question repetition: What is the highest eligible free rate for K-12 students in the schools in Alameda County?\n",
      "\n",
      "Be care! Include only what i want it questiona and nothing else<|im_end|>\n",
      "<|im_start|>assistant\n",
      "<think>\n",
      "\n",
      "</think>\n",
      "\n",
      "\n",
      "\n",
      "\n",
      "Максимальное количество токенов в промптах: 3992\n",
      "\n",
      "начинаем скорринг\n",
      "Загружаем чаты с данными...\n",
      "Данные успешно загружены\n",
      "Начали генерацию SQL запросов\n"
     ]
    },
    {
     "name": "stderr",
     "output_type": "stream",
     "text": [
      "Processed prompts: 100%|██████████| 1534/1534 [01:38<00:00, 15.60it/s, est. speed input: 24043.15 toks/s, output: 807.86 toks/s] "
     ]
    },
    {
     "name": "stdout",
     "output_type": "stream",
     "text": [
      "extract_think количество ошибок:  0\n",
      "extract_sql количество ошибок:  0\n",
      "Закончили генерацию SQL запросов\n",
      "Начали скорр полученных SQL запросов\n"
     ]
    },
    {
     "name": "stderr",
     "output_type": "stream",
     "text": [
      "\n"
     ]
    },
    {
     "name": "stdout",
     "output_type": "stream",
     "text": [
      "Qwen3-14B DEV Финальный результат EX: 57.82\n",
      "Qwen3-14B процент запросов, которые успешно выполнились DEV: 96.87%\n",
      "====================================================================================================\n",
      "\n",
      "\n",
      "Загружаем чаты с данными...\n",
      "Данные успешно загружены\n",
      "Начали генерацию SQL запросов\n"
     ]
    },
    {
     "name": "stderr",
     "output_type": "stream",
     "text": [
      "Processed prompts: 100%|██████████| 1534/1534 [01:33<00:00, 16.37it/s, est. speed input: 25209.22 toks/s, output: 833.69 toks/s] "
     ]
    },
    {
     "name": "stdout",
     "output_type": "stream",
     "text": [
      "extract_think количество ошибок:  0\n",
      "extract_sql количество ошибок:  0\n",
      "Закончили генерацию SQL запросов\n",
      "Начали скорр полученных SQL запросов\n"
     ]
    },
    {
     "name": "stderr",
     "output_type": "stream",
     "text": [
      "\n"
     ]
    },
    {
     "name": "stdout",
     "output_type": "stream",
     "text": [
      "Qwen3-14B DEV Финальный результат EX: 57.17\n",
      "Qwen3-14B процент запросов, которые успешно выполнились DEV: 97.13%\n",
      "====================================================================================================\n",
      "\n",
      "\n",
      "Загружаем чаты с данными...\n",
      "Данные успешно загружены\n",
      "Начали генерацию SQL запросов\n"
     ]
    },
    {
     "name": "stderr",
     "output_type": "stream",
     "text": [
      "Processed prompts: 100%|██████████| 1534/1534 [01:32<00:00, 16.54it/s, est. speed input: 25497.12 toks/s, output: 839.70 toks/s] "
     ]
    },
    {
     "name": "stdout",
     "output_type": "stream",
     "text": [
      "extract_think количество ошибок:  0\n",
      "extract_sql количество ошибок:  0\n",
      "Закончили генерацию SQL запросов\n",
      "Начали скорр полученных SQL запросов\n"
     ]
    },
    {
     "name": "stderr",
     "output_type": "stream",
     "text": [
      "\n"
     ]
    },
    {
     "name": "stdout",
     "output_type": "stream",
     "text": [
      "Qwen3-14B DEV Финальный результат EX: 57.89\n",
      "Qwen3-14B процент запросов, которые успешно выполнились DEV: 96.81%\n",
      "====================================================================================================\n",
      "\n",
      "\n",
      "Загружаем чаты с данными...\n",
      "Данные успешно загружены\n",
      "Начали генерацию SQL запросов\n"
     ]
    },
    {
     "name": "stderr",
     "output_type": "stream",
     "text": [
      "Processed prompts: 100%|██████████| 1534/1534 [01:38<00:00, 15.58it/s, est. speed input: 24022.95 toks/s, output: 803.15 toks/s] "
     ]
    },
    {
     "name": "stdout",
     "output_type": "stream",
     "text": [
      "extract_think количество ошибок:  0\n",
      "extract_sql количество ошибок:  0\n",
      "Закончили генерацию SQL запросов\n",
      "Начали скорр полученных SQL запросов\n"
     ]
    },
    {
     "name": "stderr",
     "output_type": "stream",
     "text": [
      "\n"
     ]
    },
    {
     "name": "stdout",
     "output_type": "stream",
     "text": [
      "Qwen3-14B DEV Финальный результат EX: 58.08\n",
      "Qwen3-14B процент запросов, которые успешно выполнились DEV: 96.61%\n",
      "====================================================================================================\n",
      "\n",
      "\n",
      "Загружаем чаты с данными...\n",
      "Данные успешно загружены\n",
      "Начали генерацию SQL запросов\n"
     ]
    },
    {
     "name": "stderr",
     "output_type": "stream",
     "text": [
      "Processed prompts: 100%|██████████| 1534/1534 [01:35<00:00, 16.03it/s, est. speed input: 24725.91 toks/s, output: 827.03 toks/s] "
     ]
    },
    {
     "name": "stdout",
     "output_type": "stream",
     "text": [
      "extract_think количество ошибок:  0\n",
      "extract_sql количество ошибок:  0\n",
      "Закончили генерацию SQL запросов\n",
      "Начали скорр полученных SQL запросов\n"
     ]
    },
    {
     "name": "stderr",
     "output_type": "stream",
     "text": [
      "\n"
     ]
    },
    {
     "name": "stdout",
     "output_type": "stream",
     "text": [
      "Qwen3-14B DEV Финальный результат EX: 57.63\n",
      "Qwen3-14B процент запросов, которые успешно выполнились DEV: 96.87%\n",
      "====================================================================================================\n",
      "\n",
      "\n",
      "Загружаем чаты с данными...\n",
      "Данные успешно загружены\n",
      "Начали генерацию SQL запросов\n"
     ]
    },
    {
     "name": "stderr",
     "output_type": "stream",
     "text": [
      "Processed prompts: 100%|██████████| 1534/1534 [01:38<00:00, 15.64it/s, est. speed input: 24105.83 toks/s, output: 811.73 toks/s] "
     ]
    },
    {
     "name": "stdout",
     "output_type": "stream",
     "text": [
      "extract_think количество ошибок:  0\n",
      "extract_sql количество ошибок:  0\n",
      "Закончили генерацию SQL запросов\n",
      "Начали скорр полученных SQL запросов\n"
     ]
    },
    {
     "name": "stderr",
     "output_type": "stream",
     "text": [
      "\n"
     ]
    },
    {
     "name": "stdout",
     "output_type": "stream",
     "text": [
      "Qwen3-14B DEV Финальный результат EX: 58.08\n",
      "Qwen3-14B процент запросов, которые успешно выполнились DEV: 96.15%\n",
      "====================================================================================================\n",
      "\n",
      "\n",
      "Загружаем чаты с данными...\n",
      "Данные успешно загружены\n",
      "Начали генерацию SQL запросов\n"
     ]
    },
    {
     "name": "stderr",
     "output_type": "stream",
     "text": [
      "Processed prompts: 100%|██████████| 1534/1534 [01:34<00:00, 16.24it/s, est. speed input: 25013.90 toks/s, output: 828.30 toks/s] "
     ]
    },
    {
     "name": "stdout",
     "output_type": "stream",
     "text": [
      "extract_think количество ошибок:  0\n",
      "extract_sql количество ошибок:  0\n",
      "Закончили генерацию SQL запросов\n",
      "Начали скорр полученных SQL запросов\n"
     ]
    },
    {
     "name": "stderr",
     "output_type": "stream",
     "text": [
      "\n"
     ]
    },
    {
     "name": "stdout",
     "output_type": "stream",
     "text": [
      "Qwen3-14B DEV Финальный результат EX: 57.69\n",
      "Qwen3-14B процент запросов, которые успешно выполнились DEV: 97.00%\n",
      "====================================================================================================\n",
      "\n",
      "\n",
      "Загружаем чаты с данными...\n",
      "Данные успешно загружены\n",
      "Начали генерацию SQL запросов\n"
     ]
    },
    {
     "name": "stderr",
     "output_type": "stream",
     "text": [
      "Processed prompts: 100%|██████████| 1534/1534 [01:38<00:00, 15.57it/s, est. speed input: 24009.86 toks/s, output: 797.64 toks/s] "
     ]
    },
    {
     "name": "stdout",
     "output_type": "stream",
     "text": [
      "extract_think количество ошибок:  0\n",
      "extract_sql количество ошибок:  0\n",
      "Закончили генерацию SQL запросов\n",
      "Начали скорр полученных SQL запросов\n"
     ]
    },
    {
     "name": "stderr",
     "output_type": "stream",
     "text": [
      "\n"
     ]
    },
    {
     "name": "stdout",
     "output_type": "stream",
     "text": [
      "Qwen3-14B DEV Финальный результат EX: 56.78\n",
      "Qwen3-14B процент запросов, которые успешно выполнились DEV: 97.33%\n",
      "====================================================================================================\n",
      "\n",
      "\n",
      "Загружаем чаты с данными...\n",
      "Данные успешно загружены\n",
      "Начали генерацию SQL запросов\n"
     ]
    },
    {
     "name": "stderr",
     "output_type": "stream",
     "text": [
      "Processed prompts: 100%|██████████| 1534/1534 [01:33<00:00, 16.36it/s, est. speed input: 25223.91 toks/s, output: 831.05 toks/s] "
     ]
    },
    {
     "name": "stdout",
     "output_type": "stream",
     "text": [
      "extract_think количество ошибок:  0\n",
      "extract_sql количество ошибок:  0\n",
      "Закончили генерацию SQL запросов\n",
      "Начали скорр полученных SQL запросов\n"
     ]
    },
    {
     "name": "stderr",
     "output_type": "stream",
     "text": [
      "\n"
     ]
    },
    {
     "name": "stdout",
     "output_type": "stream",
     "text": [
      "Qwen3-14B DEV Финальный результат EX: 57.89\n",
      "Qwen3-14B процент запросов, которые успешно выполнились DEV: 96.87%\n",
      "====================================================================================================\n",
      "\n",
      "\n",
      "Загружаем чаты с данными...\n",
      "Данные успешно загружены\n",
      "Начали генерацию SQL запросов\n"
     ]
    },
    {
     "name": "stderr",
     "output_type": "stream",
     "text": [
      "Processed prompts: 100%|██████████| 1534/1534 [01:39<00:00, 15.35it/s, est. speed input: 23672.94 toks/s, output: 799.89 toks/s] "
     ]
    },
    {
     "name": "stdout",
     "output_type": "stream",
     "text": [
      "extract_think количество ошибок:  0\n",
      "extract_sql количество ошибок:  0\n",
      "Закончили генерацию SQL запросов\n",
      "Начали скорр полученных SQL запросов\n"
     ]
    },
    {
     "name": "stderr",
     "output_type": "stream",
     "text": [
      "\n"
     ]
    },
    {
     "name": "stdout",
     "output_type": "stream",
     "text": [
      "Qwen3-14B DEV Финальный результат EX: 57.69\n",
      "Qwen3-14B процент запросов, которые успешно выполнились DEV: 96.87%\n",
      "====================================================================================================\n",
      "\n",
      "\n",
      "Загружаем чаты с данными...\n",
      "Данные успешно загружены\n",
      "Начали генерацию SQL запросов\n"
     ]
    },
    {
     "name": "stderr",
     "output_type": "stream",
     "text": [
      "Processed prompts: 100%|██████████| 1534/1534 [01:41<00:00, 15.09it/s, est. speed input: 23260.95 toks/s, output: 790.11 toks/s] "
     ]
    },
    {
     "name": "stdout",
     "output_type": "stream",
     "text": [
      "extract_think количество ошибок:  0\n",
      "extract_sql количество ошибок:  0\n",
      "Закончили генерацию SQL запросов\n",
      "Начали скорр полученных SQL запросов\n"
     ]
    },
    {
     "name": "stderr",
     "output_type": "stream",
     "text": [
      "\n"
     ]
    },
    {
     "name": "stdout",
     "output_type": "stream",
     "text": [
      "Qwen3-14B DEV Финальный результат EX: 58.08\n",
      "Qwen3-14B процент запросов, которые успешно выполнились DEV: 96.28%\n",
      "====================================================================================================\n",
      "\n",
      "\n",
      "Загружаем чаты с данными...\n",
      "Данные успешно загружены\n",
      "Начали генерацию SQL запросов\n"
     ]
    },
    {
     "name": "stderr",
     "output_type": "stream",
     "text": [
      "Processed prompts: 100%|██████████| 1534/1534 [01:38<00:00, 15.65it/s, est. speed input: 24129.21 toks/s, output: 794.68 toks/s] "
     ]
    },
    {
     "name": "stdout",
     "output_type": "stream",
     "text": [
      "extract_think количество ошибок:  0\n",
      "extract_sql количество ошибок:  0\n",
      "Закончили генерацию SQL запросов\n",
      "Начали скорр полученных SQL запросов\n"
     ]
    },
    {
     "name": "stderr",
     "output_type": "stream",
     "text": [
      "\n"
     ]
    },
    {
     "name": "stdout",
     "output_type": "stream",
     "text": [
      "Qwen3-14B DEV Финальный результат EX: 57.89\n",
      "Qwen3-14B процент запросов, которые успешно выполнились DEV: 97.13%\n",
      "====================================================================================================\n",
      "\n",
      "\n",
      "Загружаем чаты с данными...\n",
      "Данные успешно загружены\n",
      "Начали генерацию SQL запросов\n"
     ]
    },
    {
     "name": "stderr",
     "output_type": "stream",
     "text": [
      "Processed prompts: 100%|██████████| 1534/1534 [01:40<00:00, 15.21it/s, est. speed input: 23407.75 toks/s, output: 774.47 toks/s] "
     ]
    },
    {
     "name": "stdout",
     "output_type": "stream",
     "text": [
      "extract_think количество ошибок:  0\n",
      "extract_sql количество ошибок:  0\n",
      "Закончили генерацию SQL запросов\n",
      "Начали скорр полученных SQL запросов\n"
     ]
    },
    {
     "name": "stderr",
     "output_type": "stream",
     "text": [
      "\n"
     ]
    },
    {
     "name": "stdout",
     "output_type": "stream",
     "text": [
      "Qwen3-14B DEV Финальный результат EX: 58.87\n",
      "Qwen3-14B процент запросов, которые успешно выполнились DEV: 96.74%\n",
      "====================================================================================================\n",
      "\n",
      "\n",
      "Загружаем чаты с данными...\n",
      "Данные успешно загружены\n",
      "Начали генерацию SQL запросов\n"
     ]
    },
    {
     "name": "stderr",
     "output_type": "stream",
     "text": [
      "Processed prompts: 100%|██████████| 1534/1534 [01:39<00:00, 15.45it/s, est. speed input: 23762.00 toks/s, output: 785.83 toks/s] "
     ]
    },
    {
     "name": "stdout",
     "output_type": "stream",
     "text": [
      "extract_think количество ошибок:  0\n",
      "extract_sql количество ошибок:  0\n",
      "Закончили генерацию SQL запросов\n",
      "Начали скорр полученных SQL запросов\n"
     ]
    },
    {
     "name": "stderr",
     "output_type": "stream",
     "text": [
      "\n"
     ]
    },
    {
     "name": "stdout",
     "output_type": "stream",
     "text": [
      "Qwen3-14B DEV Финальный результат EX: 57.76\n",
      "Qwen3-14B процент запросов, которые успешно выполнились DEV: 96.35%\n",
      "====================================================================================================\n",
      "\n",
      "\n",
      "Загружаем чаты с данными...\n",
      "Данные успешно загружены\n",
      "Начали генерацию SQL запросов\n"
     ]
    },
    {
     "name": "stderr",
     "output_type": "stream",
     "text": [
      "Processed prompts: 100%|██████████| 1534/1534 [01:39<00:00, 15.48it/s, est. speed input: 23798.09 toks/s, output: 782.67 toks/s] "
     ]
    },
    {
     "name": "stdout",
     "output_type": "stream",
     "text": [
      "extract_think количество ошибок:  0\n",
      "extract_sql количество ошибок:  0\n",
      "Закончили генерацию SQL запросов\n",
      "Начали скорр полученных SQL запросов\n"
     ]
    },
    {
     "name": "stderr",
     "output_type": "stream",
     "text": [
      "\n"
     ]
    },
    {
     "name": "stdout",
     "output_type": "stream",
     "text": [
      "Qwen3-14B DEV Финальный результат EX: 57.24\n",
      "Qwen3-14B процент запросов, которые успешно выполнились DEV: 96.35%\n",
      "====================================================================================================\n",
      "\n",
      "\n",
      "Загружаем чаты с данными...\n",
      "Данные успешно загружены\n",
      "Начали генерацию SQL запросов\n"
     ]
    },
    {
     "name": "stderr",
     "output_type": "stream",
     "text": [
      "Processed prompts: 100%|██████████| 1534/1534 [01:36<00:00, 15.94it/s, est. speed input: 24538.31 toks/s, output: 816.82 toks/s] "
     ]
    },
    {
     "name": "stdout",
     "output_type": "stream",
     "text": [
      "extract_think количество ошибок:  0\n",
      "extract_sql количество ошибок:  0\n",
      "Закончили генерацию SQL запросов\n",
      "Начали скорр полученных SQL запросов\n"
     ]
    },
    {
     "name": "stderr",
     "output_type": "stream",
     "text": [
      "\n"
     ]
    },
    {
     "name": "stdout",
     "output_type": "stream",
     "text": [
      "Qwen3-14B DEV Финальный результат EX: 58.21\n",
      "Qwen3-14B процент запросов, которые успешно выполнились DEV: 96.48%\n",
      "====================================================================================================\n",
      "\n",
      "\n",
      "Загружаем чаты с данными...\n",
      "Данные успешно загружены\n",
      "Начали генерацию SQL запросов\n"
     ]
    },
    {
     "name": "stderr",
     "output_type": "stream",
     "text": [
      "Processed prompts: 100%|██████████| 1534/1534 [01:37<00:00, 15.73it/s, est. speed input: 24245.77 toks/s, output: 810.43 toks/s] "
     ]
    },
    {
     "name": "stdout",
     "output_type": "stream",
     "text": [
      "extract_think количество ошибок:  0\n",
      "extract_sql количество ошибок:  0\n",
      "Закончили генерацию SQL запросов\n",
      "Начали скорр полученных SQL запросов\n"
     ]
    },
    {
     "name": "stderr",
     "output_type": "stream",
     "text": [
      "\n"
     ]
    },
    {
     "name": "stdout",
     "output_type": "stream",
     "text": [
      "Qwen3-14B DEV Финальный результат EX: 58.02\n",
      "Qwen3-14B процент запросов, которые успешно выполнились DEV: 96.54%\n",
      "====================================================================================================\n",
      "\n",
      "\n",
      "Загружаем чаты с данными...\n",
      "Данные успешно загружены\n",
      "Начали генерацию SQL запросов\n"
     ]
    },
    {
     "name": "stderr",
     "output_type": "stream",
     "text": [
      "Processed prompts: 100%|██████████| 1534/1534 [01:37<00:00, 15.67it/s, est. speed input: 24152.86 toks/s, output: 803.23 toks/s] "
     ]
    },
    {
     "name": "stdout",
     "output_type": "stream",
     "text": [
      "extract_think количество ошибок:  0\n",
      "extract_sql количество ошибок:  0\n",
      "Закончили генерацию SQL запросов\n",
      "Начали скорр полученных SQL запросов\n"
     ]
    },
    {
     "name": "stderr",
     "output_type": "stream",
     "text": [
      "\n"
     ]
    },
    {
     "name": "stdout",
     "output_type": "stream",
     "text": [
      "Qwen3-14B DEV Финальный результат EX: 58.60\n",
      "Qwen3-14B процент запросов, которые успешно выполнились DEV: 96.94%\n",
      "====================================================================================================\n",
      "\n",
      "\n",
      "Загружаем чаты с данными...\n",
      "Данные успешно загружены\n",
      "Начали генерацию SQL запросов\n"
     ]
    },
    {
     "name": "stderr",
     "output_type": "stream",
     "text": [
      "Processed prompts: 100%|██████████| 1534/1534 [01:38<00:00, 15.59it/s, est. speed input: 24028.08 toks/s, output: 797.62 toks/s] "
     ]
    },
    {
     "name": "stdout",
     "output_type": "stream",
     "text": [
      "extract_think количество ошибок:  0\n",
      "extract_sql количество ошибок:  0\n",
      "Закончили генерацию SQL запросов\n",
      "Начали скорр полученных SQL запросов\n"
     ]
    },
    {
     "name": "stderr",
     "output_type": "stream",
     "text": [
      "\n"
     ]
    },
    {
     "name": "stdout",
     "output_type": "stream",
     "text": [
      "Qwen3-14B DEV Финальный результат EX: 58.41\n",
      "Qwen3-14B процент запросов, которые успешно выполнились DEV: 97.00%\n",
      "====================================================================================================\n",
      "\n",
      "\n",
      "Загружаем чаты с данными...\n",
      "Данные успешно загружены\n",
      "Начали генерацию SQL запросов\n"
     ]
    },
    {
     "name": "stderr",
     "output_type": "stream",
     "text": [
      "Processed prompts: 100%|██████████| 1534/1534 [01:37<00:00, 15.72it/s, est. speed input: 24231.47 toks/s, output: 810.12 toks/s] "
     ]
    },
    {
     "name": "stdout",
     "output_type": "stream",
     "text": [
      "extract_think количество ошибок:  0\n",
      "extract_sql количество ошибок:  0\n",
      "Закончили генерацию SQL запросов\n",
      "Начали скорр полученных SQL запросов\n"
     ]
    },
    {
     "name": "stderr",
     "output_type": "stream",
     "text": [
      "\n"
     ]
    },
    {
     "name": "stdout",
     "output_type": "stream",
     "text": [
      "Qwen3-14B DEV Финальный результат EX: 58.21\n",
      "Qwen3-14B процент запросов, которые успешно выполнились DEV: 96.87%\n",
      "====================================================================================================\n",
      "\n",
      "\n"
     ]
    }
   ],
   "source": [
    "run_cot_experiment(model,arr_seeds,arr_versions, type_cot,num_observations=num_observations)"
   ]
  },
  {
   "cell_type": "code",
   "execution_count": 19,
   "id": "57efa230-434d-4803-901f-a4d09f2971ad",
   "metadata": {},
   "outputs": [
    {
     "name": "stdout",
     "output_type": "stream",
     "text": [
      "[990, 513, 179, 375, 461, 908, 793, 402, 931, 445, 436, 985, 171, 620, 986, 104, 630, 427, 462, 840]\n",
      "model: Qwen3-14B\n"
     ]
    }
   ],
   "source": [
    "n= 20\n",
    "arr_seeds = [random.randint(0,1000) for _ in range(n)]\n",
    "arr_versions = [x for x in range(n)]\n",
    "model = \"Qwen3-14B\"\n",
    "num_observations = 4\n",
    "type_cot = 'predict'\n",
    "print(arr_seeds)\n",
    "print(f\"model: {model}\")"
   ]
  },
  {
   "cell_type": "code",
   "execution_count": 20,
   "id": "84e49863-1bc7-4141-93e1-a7dbca7ce991",
   "metadata": {
    "scrolled": true
   },
   "outputs": [
    {
     "name": "stdout",
     "output_type": "stream",
     "text": [
      "Загружаем модель...\n"
     ]
    },
    {
     "name": "stderr",
     "output_type": "stream",
     "text": [
      "Loading safetensors checkpoint shards:   0% Completed | 0/8 [00:00<?, ?it/s]\n",
      "Loading safetensors checkpoint shards:  12% Completed | 1/8 [00:01<00:09,  1.43s/it]\n",
      "Loading safetensors checkpoint shards:  25% Completed | 2/8 [00:02<00:08,  1.42s/it]\n",
      "Loading safetensors checkpoint shards:  38% Completed | 3/8 [00:04<00:07,  1.42s/it]\n",
      "Loading safetensors checkpoint shards:  50% Completed | 4/8 [00:05<00:05,  1.41s/it]\n",
      "Loading safetensors checkpoint shards:  62% Completed | 5/8 [00:07<00:04,  1.40s/it]\n",
      "Loading safetensors checkpoint shards:  75% Completed | 6/8 [00:07<00:02,  1.17s/it]\n",
      "Loading safetensors checkpoint shards:  88% Completed | 7/8 [00:09<00:01,  1.24s/it]\n",
      "Loading safetensors checkpoint shards: 100% Completed | 8/8 [00:10<00:00,  1.28s/it]\n",
      "Loading safetensors checkpoint shards: 100% Completed | 8/8 [00:10<00:00,  1.31s/it]\n",
      "\u001b[1;36m(VllmWorker rank=0 pid=925078)\u001b[0;0m \n"
     ]
    },
    {
     "name": "stdout",
     "output_type": "stream",
     "text": [
      "Модель успешно загружена\n",
      "model_config {'model': '/data/home/vkropoti/models/Qwen3-14B', 'tensor_parallel_size': 2, 'max_model_len': 40000, 'max_new_tokens': 1500, 'temperature': 0, 'top_k': 1, 'top_p': 0.8, 'gpu_memory_utilization': 0.9, 'trust_remote_code': False, 'seed': 990}\n",
      "\n",
      "prompts_config {'path_dev_json': '/home/vkropoti/vllm/dev.json', 'path_sql_dbs': '/data/home/vkropoti/sql_data/dev_databases/', 'use_reasoning': False, 'paths_to_cot': ['/data/home/vkropoti/sql_llm_answers/bird_dev/sql_predict_Qwen3-14B-reasoning-v0', '/data/home/vkropoti/sql_llm_answers/bird_dev/sql_predict_Qwen3-14B-reasoning-v1', '/data/home/vkropoti/sql_llm_answers/bird_dev/sql_predict_Qwen3-14B-reasoning-v2', '/data/home/vkropoti/sql_llm_answers/bird_dev/sql_predict_Qwen3-14B-reasoning-v3']}\n",
      "\n",
      "save_config {'path_sql_save': '/data/home/vkropoti/sql_llm_answers/bird_dev/sql_all_Qwen3-14B-cot_predict_think==False_nobs4-v0', 'path_think_save': None, 'path_sql_answers_save': '/data/home/vkropoti/sql_llm_answers/bird_dev/sql_predict_Qwen3-14B-cot_predict_think==False_nobs4-v0', 'path_to_save_scores': '/data/home/vkropoti/sql_llm_answers/bird_dev/sql_results_Qwen3-14B-cot_predict_think==False_nobs4-v0', 'path_to_save_executed': '/data/home/vkropoti/sql_llm_answers/bird_dev/sql_executed_Qwen3-14B-cot_predict_think==False_nobs4-v0'}\n",
      "\n",
      "Модель успешно загружена\n",
      "Пример промпта\n",
      "<|im_start|>system\n",
      "\n",
      "You are a data science expert. Below, you are provided with a database schema and a natural language question. Your task is to understand the schema and generate a valid SQL query to answer the question.\n",
      "\n",
      "Database Engine: SQLite\n",
      "\n",
      "You will be given an additional analysis of other models, please take it into account, so the plan is\n",
      "1. Analyse given addition analysis from other models (find in which analysis the same and differ, how to use that to answer question)\n",
      "2. Combine best from previous part and think how to solve the problem (analyze tables, take care what columns avaliable in each table and so on, check the syntacsis)\n",
      "3. Create the answers. The answer should be only sql query.\n",
      "\n",
      "Carefully follow the instruction and add <|im_end|> and the end of the final answer<|im_end|>\n",
      "<|im_start|>user\n",
      "Here is addition analysis from other models which can be helpfull, please take this into account but be careful (choose the best from each analysis, combine them to make the most proper answer):\n",
      "\n",
      "model 0 analysis:\n",
      " SELECT MAX(`Free Meal Count (K-12` / `Enrollment (K-12`) FROM frpm JOIN schools ON frpm.CDSCode = schools.CDSCode WHERE schools.County = 'Alameda';\n",
      "\n",
      "model 1 analysis:\n",
      " SELECT MAX(`Free Meal Count (K-12` / `Enrollment (K-12`) FROM frpm WHERE `County Name` = 'Alameda County';\n",
      "\n",
      "model 2 analysis:\n",
      " SELECT MAX(`Free Meal Count (K-12)` / `Enrollment (K-12)`) FROM frpm WHERE `County Name` = 'Alameda County';\n",
      "\n",
      "model 3 analysis:\n",
      " SELECT MAX(`Free Meal Count (K-12)` / `Enrollment (K-12)`) FROM frpm WHERE `County Name` = 'Alameda County';\n",
      "\n",
      "\n",
      "here is avaliable tables below\n",
      "\n",
      "\n",
      "Table: frpm\n",
      "CREATE TABLE frpm\n",
      "(\n",
      "    CDSCode                                       TEXT not null\n",
      "        primary key,\n",
      "    `Academic Year`                               TEXT  null,\n",
      "    `County Code`                                 TEXT  null,\n",
      "    `District Code`                               INTEGER         null,\n",
      "    `School Code`                                 TEXT  null,\n",
      "    `County Name`                                 TEXT null,\n",
      "    `District Name`                               TEXT null,\n",
      "    `School Name`                                 TEXT null,\n",
      "    `District Type`                               TEXT null,\n",
      "    `School Type`                                 TEXT null,\n",
      "    `Educational Option Type`                     TEXT null,\n",
      "    `NSLP Provision Status`                       TEXT null,\n",
      "    `Charter School (Y/N)`                        INTEGER    null,\n",
      "    `Charter School Number`                       TEXT  null,\n",
      "    `Charter Funding Type`                        TEXT null,\n",
      "    IRC                                           INTEGER    null,\n",
      "    `Low Grade`                                   TEXT  null,\n",
      "    `High Grade`                                  TEXT null,\n",
      "    `Enrollment (K-12)`                           REAL      null,\n",
      "    `Free Meal Count (K-12)`                      REAL       null,\n",
      "    `Percent (%) Eligible Free (K-12)`            REAL       null,\n",
      "    `FRPM Count (K-12)`                           REAL       null,\n",
      "    `Percent (%) Eligible FRPM (K-12)`            REAL       null,\n",
      "    `Enrollment (Ages 5-17)`                      REAL       null,\n",
      "    `Free Meal Count (Ages 5-17)`                 REAL       null,\n",
      "    `Percent (%) Eligible Free (Ages 5-17)`       REAL       null,\n",
      "    `FRPM Count (Ages 5-17)`                      REAL       null,\n",
      "    `Percent (%) Eligible FRPM (Ages 5-17)`       REAL       null,\n",
      "    `2013-14 CALPADS Fall 1 Certification Status` INTEGER    null,\n",
      "    foreign key (CDSCode) references schools (CDSCode)\n",
      ")\n",
      "\n",
      "Table: satscores\n",
      "CREATE TABLE satscores\n",
      "(\n",
      "    cds         TEXT not null\n",
      "        primary key,\n",
      "    rtype       TEXT  not null,\n",
      "    sname       TEXT null,\n",
      "    dname       TEXT null,\n",
      "    cname       TEXT null,\n",
      "    enroll12    INTEGER         not null,\n",
      "    NumTstTakr  INTEGER          not null,\n",
      "    AvgScrRead  INTEGER          null,\n",
      "    AvgScrMath  INTEGER          null,\n",
      "    AvgScrWrite INTEGER          null,\n",
      "    NumGE1500   INTEGER          null,\n",
      "--     PctGE1500   double      null,\n",
      "        foreign key (cds) references schools (CDSCode)\n",
      ")\n",
      "\n",
      "Table: schools\n",
      "CREATE TABLE schools\n",
      "(\n",
      "    CDSCode     TEXT not null\n",
      "        primary key,\n",
      "    NCESDist    TEXT  null,\n",
      "    NCESSchool  TEXT  null,\n",
      "    StatusType  TEXT  not null,\n",
      "    County      TEXT not null,\n",
      "    District    TEXT not null,\n",
      "    School      TEXT null,\n",
      "    Street      TEXT null,\n",
      "    StreetAbr   TEXT null,\n",
      "    City        TEXT null,\n",
      "    Zip         TEXT null,\n",
      "    State       TEXT  null,\n",
      "    MailStreet  TEXT null,\n",
      "    MailStrAbr  TEXT null,\n",
      "    MailCity    TEXT null,\n",
      "    MailZip     TEXT null,\n",
      "    MailState   TEXT  null,\n",
      "    Phone       TEXT null,\n",
      "    Ext         TEXT  null,\n",
      "    Website     TEXT null,\n",
      "    OpenDate    DATE        null,\n",
      "    ClosedDate  DATE        null,\n",
      "    Charter     INTEGER    null,\n",
      "    CharterNum  TEXT  null,\n",
      "    FundingType TEXT null,\n",
      "    DOC         TEXT  not null,\n",
      "    DOCType     TEXT not null,\n",
      "    SOC         TEXT  null,\n",
      "    SOCType     TEXT null,\n",
      "    EdOpsCode   TEXT  null,\n",
      "    EdOpsName   TEXT null,\n",
      "    EILCode     TEXT  null,\n",
      "    EILName     TEXT null,\n",
      "    GSoffered   TEXT null,\n",
      "    GSserved    TEXT  null,\n",
      "    Virtual     TEXT  null,\n",
      "    Magnet      INTEGER   null,\n",
      "    Latitude    REAL      null,\n",
      "    Longitude   REAL      null,\n",
      "    AdmFName1   TEXT null,\n",
      "    AdmLName1   TEXT null,\n",
      "    AdmEmail1   TEXT null,\n",
      "    AdmFName2   TEXT null,\n",
      "    AdmLName2   TEXT null,\n",
      "    AdmEmail2   TEXT null,\n",
      "    AdmFName3   TEXT  null,\n",
      "    AdmLName3   TEXT null,\n",
      "    AdmEmail3   TEXT null,\n",
      "    LastUpdate  DATE        not null\n",
      ")\n",
      "\n",
      "-- Using valid SQLite and understanding External Knowledge, answer the following questions for the tables provided above.\n",
      "-- What is the highest eligible free rate for K-12 students in the schools in Alameda County?\n",
      "-- External Knowledge: Eligible free rate for K-12 = `Free Meal Count (K-12)` / `Enrollment (K-12)`\n",
      "\n",
      "\n",
      "Generate the SQLite for the above question after thinking step by step: \n",
      "\n",
      "\n",
      "Instructions:\n",
      "- Make sure you only output the information that is asked in the question. If the question asks for a specific column, make sure to only include that column in the SELECT clause, nothing more.\n",
      "- The generated query should return all of the information asked in the question without any missing or extra information.\n",
      "- Before generating the final SQL query, please think through the steps of how to write the query.\n",
      "- Do not misuse column names, keep them in quotes `\n",
      "- Carefully understand what colomns belond to what tables\n",
      "- Use only initial column names, change names prohibited\n",
      "        \n",
      "Output Format:\n",
      "In your answer, please enclose the generated SQL query in a code block:\n",
      "```\n",
      "-- Your SQL query\n",
      "```    \n",
      "and nothing else, no exaplains, no comments (asnwer should be less than 512 characters)\n",
      "\n",
      "Take a deep breath and think step by step to find the correct SQL query in SQLite format.\n",
      "\n",
      "Question repetition: What is the highest eligible free rate for K-12 students in the schools in Alameda County?\n",
      "\n",
      "Be care! Include only what i want it questiona and nothing else<|im_end|>\n",
      "<|im_start|>assistant\n",
      "<think>\n",
      "\n",
      "</think>\n",
      "\n",
      "\n",
      "\n",
      "\n",
      "Максимальное количество токенов в промптах: 4137\n",
      "\n",
      "начинаем скорринг\n",
      "Загружаем чаты с данными...\n",
      "Данные успешно загружены\n",
      "Начали генерацию SQL запросов\n"
     ]
    },
    {
     "name": "stderr",
     "output_type": "stream",
     "text": [
      "Processed prompts: 100%|██████████| 1534/1534 [01:37<00:00, 15.80it/s, est. speed input: 25168.00 toks/s, output: 806.62 toks/s] "
     ]
    },
    {
     "name": "stdout",
     "output_type": "stream",
     "text": [
      "extract_think количество ошибок:  0\n",
      "extract_sql количество ошибок:  0\n",
      "Закончили генерацию SQL запросов\n",
      "Начали скорр полученных SQL запросов\n"
     ]
    },
    {
     "name": "stderr",
     "output_type": "stream",
     "text": [
      "\n"
     ]
    },
    {
     "name": "stdout",
     "output_type": "stream",
     "text": [
      "Qwen3-14B DEV Финальный результат EX: 57.37\n",
      "Qwen3-14B процент запросов, которые успешно выполнились DEV: 96.81%\n",
      "====================================================================================================\n",
      "\n",
      "\n",
      "Загружаем чаты с данными...\n",
      "Данные успешно загружены\n",
      "Начали генерацию SQL запросов\n"
     ]
    },
    {
     "name": "stderr",
     "output_type": "stream",
     "text": [
      "Processed prompts: 100%|██████████| 1534/1534 [01:38<00:00, 15.51it/s, est. speed input: 24707.26 toks/s, output: 799.54 toks/s] "
     ]
    },
    {
     "name": "stdout",
     "output_type": "stream",
     "text": [
      "extract_think количество ошибок:  0\n",
      "extract_sql количество ошибок:  0\n",
      "Закончили генерацию SQL запросов\n",
      "Начали скорр полученных SQL запросов\n"
     ]
    },
    {
     "name": "stderr",
     "output_type": "stream",
     "text": [
      "\n"
     ]
    },
    {
     "name": "stdout",
     "output_type": "stream",
     "text": [
      "Qwen3-14B DEV Финальный результат EX: 57.82\n",
      "Qwen3-14B процент запросов, которые успешно выполнились DEV: 96.87%\n",
      "====================================================================================================\n",
      "\n",
      "\n",
      "Загружаем чаты с данными...\n",
      "Данные успешно загружены\n",
      "Начали генерацию SQL запросов\n"
     ]
    },
    {
     "name": "stderr",
     "output_type": "stream",
     "text": [
      "Processed prompts: 100%|██████████| 1534/1534 [01:36<00:00, 15.83it/s, est. speed input: 25225.30 toks/s, output: 808.19 toks/s] "
     ]
    },
    {
     "name": "stdout",
     "output_type": "stream",
     "text": [
      "extract_think количество ошибок:  0\n",
      "extract_sql количество ошибок:  0\n",
      "Закончили генерацию SQL запросов\n",
      "Начали скорр полученных SQL запросов\n"
     ]
    },
    {
     "name": "stderr",
     "output_type": "stream",
     "text": [
      "\n"
     ]
    },
    {
     "name": "stdout",
     "output_type": "stream",
     "text": [
      "Qwen3-14B DEV Финальный результат EX: 57.11\n",
      "Qwen3-14B процент запросов, которые успешно выполнились DEV: 96.54%\n",
      "====================================================================================================\n",
      "\n",
      "\n",
      "Загружаем чаты с данными...\n",
      "Данные успешно загружены\n",
      "Начали генерацию SQL запросов\n"
     ]
    },
    {
     "name": "stderr",
     "output_type": "stream",
     "text": [
      "Processed prompts: 100%|██████████| 1534/1534 [01:43<00:00, 14.84it/s, est. speed input: 23655.40 toks/s, output: 765.26 toks/s] "
     ]
    },
    {
     "name": "stdout",
     "output_type": "stream",
     "text": [
      "extract_think количество ошибок:  0\n",
      "extract_sql количество ошибок:  0\n",
      "Закончили генерацию SQL запросов\n",
      "Начали скорр полученных SQL запросов\n"
     ]
    },
    {
     "name": "stderr",
     "output_type": "stream",
     "text": [
      "\n"
     ]
    },
    {
     "name": "stdout",
     "output_type": "stream",
     "text": [
      "Qwen3-14B DEV Финальный результат EX: 58.02\n",
      "Qwen3-14B процент запросов, которые успешно выполнились DEV: 96.74%\n",
      "====================================================================================================\n",
      "\n",
      "\n",
      "Загружаем чаты с данными...\n",
      "Данные успешно загружены\n",
      "Начали генерацию SQL запросов\n"
     ]
    },
    {
     "name": "stderr",
     "output_type": "stream",
     "text": [
      "Processed prompts: 100%|██████████| 1534/1534 [01:43<00:00, 14.88it/s, est. speed input: 23727.64 toks/s, output: 776.71 toks/s] "
     ]
    },
    {
     "name": "stdout",
     "output_type": "stream",
     "text": [
      "extract_think количество ошибок:  0\n",
      "extract_sql количество ошибок:  0\n",
      "Закончили генерацию SQL запросов\n",
      "Начали скорр полученных SQL запросов\n"
     ]
    },
    {
     "name": "stderr",
     "output_type": "stream",
     "text": [
      "\n"
     ]
    },
    {
     "name": "stdout",
     "output_type": "stream",
     "text": [
      "Qwen3-14B DEV Финальный результат EX: 57.76\n",
      "Qwen3-14B процент запросов, которые успешно выполнились DEV: 96.94%\n",
      "====================================================================================================\n",
      "\n",
      "\n",
      "Загружаем чаты с данными...\n",
      "Данные успешно загружены\n",
      "Начали генерацию SQL запросов\n"
     ]
    },
    {
     "name": "stderr",
     "output_type": "stream",
     "text": [
      "Processed prompts: 100%|██████████| 1534/1534 [01:42<00:00, 14.94it/s, est. speed input: 23793.92 toks/s, output: 775.44 toks/s] "
     ]
    },
    {
     "name": "stdout",
     "output_type": "stream",
     "text": [
      "extract_think количество ошибок:  0\n",
      "extract_sql количество ошибок:  0\n",
      "Закончили генерацию SQL запросов\n",
      "Начали скорр полученных SQL запросов\n"
     ]
    },
    {
     "name": "stderr",
     "output_type": "stream",
     "text": [
      "\n"
     ]
    },
    {
     "name": "stdout",
     "output_type": "stream",
     "text": [
      "Qwen3-14B DEV Финальный результат EX: 57.56\n",
      "Qwen3-14B процент запросов, которые успешно выполнились DEV: 95.89%\n",
      "====================================================================================================\n",
      "\n",
      "\n",
      "Загружаем чаты с данными...\n",
      "Данные успешно загружены\n",
      "Начали генерацию SQL запросов\n"
     ]
    },
    {
     "name": "stderr",
     "output_type": "stream",
     "text": [
      "Processed prompts: 100%|██████████| 1534/1534 [01:39<00:00, 15.49it/s, est. speed input: 24683.22 toks/s, output: 786.52 toks/s] "
     ]
    },
    {
     "name": "stdout",
     "output_type": "stream",
     "text": [
      "extract_think количество ошибок:  0\n",
      "extract_sql количество ошибок:  0\n",
      "Закончили генерацию SQL запросов\n",
      "Начали скорр полученных SQL запросов\n"
     ]
    },
    {
     "name": "stderr",
     "output_type": "stream",
     "text": [
      "\n"
     ]
    },
    {
     "name": "stdout",
     "output_type": "stream",
     "text": [
      "Qwen3-14B DEV Финальный результат EX: 56.65\n",
      "Qwen3-14B процент запросов, которые успешно выполнились DEV: 96.94%\n",
      "====================================================================================================\n",
      "\n",
      "\n",
      "Загружаем чаты с данными...\n",
      "Данные успешно загружены\n",
      "Начали генерацию SQL запросов\n"
     ]
    },
    {
     "name": "stderr",
     "output_type": "stream",
     "text": [
      "Processed prompts: 100%|██████████| 1534/1534 [01:41<00:00, 15.18it/s, est. speed input: 24187.67 toks/s, output: 780.53 toks/s] "
     ]
    },
    {
     "name": "stdout",
     "output_type": "stream",
     "text": [
      "extract_think количество ошибок:  0\n",
      "extract_sql количество ошибок:  0\n",
      "Закончили генерацию SQL запросов\n",
      "Начали скорр полученных SQL запросов\n"
     ]
    },
    {
     "name": "stderr",
     "output_type": "stream",
     "text": [
      "\n"
     ]
    },
    {
     "name": "stdout",
     "output_type": "stream",
     "text": [
      "Qwen3-14B DEV Финальный результат EX: 57.89\n",
      "Qwen3-14B процент запросов, которые успешно выполнились DEV: 96.54%\n",
      "====================================================================================================\n",
      "\n",
      "\n",
      "Загружаем чаты с данными...\n",
      "Данные успешно загружены\n",
      "Начали генерацию SQL запросов\n"
     ]
    },
    {
     "name": "stderr",
     "output_type": "stream",
     "text": [
      "Processed prompts: 100%|██████████| 1534/1534 [01:41<00:00, 15.08it/s, est. speed input: 24040.83 toks/s, output: 774.82 toks/s] "
     ]
    },
    {
     "name": "stdout",
     "output_type": "stream",
     "text": [
      "extract_think количество ошибок:  0\n",
      "extract_sql количество ошибок:  0\n",
      "Закончили генерацию SQL запросов\n",
      "Начали скорр полученных SQL запросов\n"
     ]
    },
    {
     "name": "stderr",
     "output_type": "stream",
     "text": [
      "\n"
     ]
    },
    {
     "name": "stdout",
     "output_type": "stream",
     "text": [
      "Qwen3-14B DEV Финальный результат EX: 58.02\n",
      "Qwen3-14B процент запросов, которые успешно выполнились DEV: 97.00%\n",
      "====================================================================================================\n",
      "\n",
      "\n",
      "Загружаем чаты с данными...\n",
      "Данные успешно загружены\n",
      "Начали генерацию SQL запросов\n"
     ]
    },
    {
     "name": "stderr",
     "output_type": "stream",
     "text": [
      "Processed prompts: 100%|██████████| 1534/1534 [01:42<00:00, 15.00it/s, est. speed input: 23923.38 toks/s, output: 772.79 toks/s] "
     ]
    },
    {
     "name": "stdout",
     "output_type": "stream",
     "text": [
      "extract_think количество ошибок:  0\n",
      "extract_sql количество ошибок:  0\n",
      "Закончили генерацию SQL запросов\n",
      "Начали скорр полученных SQL запросов\n"
     ]
    },
    {
     "name": "stderr",
     "output_type": "stream",
     "text": [
      "\n"
     ]
    },
    {
     "name": "stdout",
     "output_type": "stream",
     "text": [
      "Qwen3-14B DEV Финальный результат EX: 58.28\n",
      "Qwen3-14B процент запросов, которые успешно выполнились DEV: 96.94%\n",
      "====================================================================================================\n",
      "\n",
      "\n",
      "Загружаем чаты с данными...\n",
      "Данные успешно загружены\n",
      "Начали генерацию SQL запросов\n"
     ]
    },
    {
     "name": "stderr",
     "output_type": "stream",
     "text": [
      "Processed prompts: 100%|██████████| 1534/1534 [01:43<00:00, 14.85it/s, est. speed input: 23662.83 toks/s, output: 772.97 toks/s] "
     ]
    },
    {
     "name": "stdout",
     "output_type": "stream",
     "text": [
      "extract_think количество ошибок:  0\n",
      "extract_sql количество ошибок:  0\n",
      "Закончили генерацию SQL запросов\n",
      "Начали скорр полученных SQL запросов\n"
     ]
    },
    {
     "name": "stderr",
     "output_type": "stream",
     "text": [
      "\n"
     ]
    },
    {
     "name": "stdout",
     "output_type": "stream",
     "text": [
      "Qwen3-14B DEV Финальный результат EX: 58.41\n",
      "Qwen3-14B процент запросов, которые успешно выполнились DEV: 96.22%\n",
      "====================================================================================================\n",
      "\n",
      "\n",
      "Загружаем чаты с данными...\n",
      "Данные успешно загружены\n",
      "Начали генерацию SQL запросов\n"
     ]
    },
    {
     "name": "stderr",
     "output_type": "stream",
     "text": [
      "Processed prompts: 100%|██████████| 1534/1534 [01:36<00:00, 15.83it/s, est. speed input: 25197.80 toks/s, output: 795.19 toks/s] "
     ]
    },
    {
     "name": "stdout",
     "output_type": "stream",
     "text": [
      "extract_think количество ошибок:  0\n",
      "extract_sql количество ошибок:  0\n",
      "Закончили генерацию SQL запросов\n",
      "Начали скорр полученных SQL запросов\n"
     ]
    },
    {
     "name": "stderr",
     "output_type": "stream",
     "text": [
      "\n"
     ]
    },
    {
     "name": "stdout",
     "output_type": "stream",
     "text": [
      "Qwen3-14B DEV Финальный результат EX: 57.50\n",
      "Qwen3-14B процент запросов, которые успешно выполнились DEV: 96.81%\n",
      "====================================================================================================\n",
      "\n",
      "\n",
      "Загружаем чаты с данными...\n",
      "Данные успешно загружены\n",
      "Начали генерацию SQL запросов\n"
     ]
    },
    {
     "name": "stderr",
     "output_type": "stream",
     "text": [
      "Processed prompts: 100%|██████████| 1534/1534 [01:44<00:00, 14.73it/s, est. speed input: 23423.36 toks/s, output: 751.64 toks/s] "
     ]
    },
    {
     "name": "stdout",
     "output_type": "stream",
     "text": [
      "extract_think количество ошибок:  0\n",
      "extract_sql количество ошибок:  0\n",
      "Закончили генерацию SQL запросов\n",
      "Начали скорр полученных SQL запросов\n"
     ]
    },
    {
     "name": "stderr",
     "output_type": "stream",
     "text": [
      "\n"
     ]
    },
    {
     "name": "stdout",
     "output_type": "stream",
     "text": [
      "Qwen3-14B DEV Финальный результат EX: 58.21\n",
      "Qwen3-14B процент запросов, которые успешно выполнились DEV: 96.94%\n",
      "====================================================================================================\n",
      "\n",
      "\n",
      "Загружаем чаты с данными...\n",
      "Данные успешно загружены\n",
      "Начали генерацию SQL запросов\n"
     ]
    },
    {
     "name": "stderr",
     "output_type": "stream",
     "text": [
      "Processed prompts: 100%|██████████| 1534/1534 [01:43<00:00, 14.85it/s, est. speed input: 23600.51 toks/s, output: 764.33 toks/s] "
     ]
    },
    {
     "name": "stdout",
     "output_type": "stream",
     "text": [
      "extract_think количество ошибок:  0\n",
      "extract_sql количество ошибок:  0\n",
      "Закончили генерацию SQL запросов\n",
      "Начали скорр полученных SQL запросов\n"
     ]
    },
    {
     "name": "stderr",
     "output_type": "stream",
     "text": [
      "\n"
     ]
    },
    {
     "name": "stdout",
     "output_type": "stream",
     "text": [
      "Qwen3-14B DEV Финальный результат EX: 58.41\n",
      "Qwen3-14B процент запросов, которые успешно выполнились DEV: 96.68%\n",
      "====================================================================================================\n",
      "\n",
      "\n",
      "Загружаем чаты с данными...\n",
      "Данные успешно загружены\n",
      "Начали генерацию SQL запросов\n"
     ]
    },
    {
     "name": "stderr",
     "output_type": "stream",
     "text": [
      "Processed prompts: 100%|██████████| 1534/1534 [01:38<00:00, 15.64it/s, est. speed input: 24861.58 toks/s, output: 799.11 toks/s] "
     ]
    },
    {
     "name": "stdout",
     "output_type": "stream",
     "text": [
      "extract_think количество ошибок:  0\n",
      "extract_sql количество ошибок:  0\n",
      "Закончили генерацию SQL запросов\n",
      "Начали скорр полученных SQL запросов\n"
     ]
    },
    {
     "name": "stderr",
     "output_type": "stream",
     "text": [
      "\n"
     ]
    },
    {
     "name": "stdout",
     "output_type": "stream",
     "text": [
      "Qwen3-14B DEV Финальный результат EX: 57.69\n",
      "Qwen3-14B процент запросов, которые успешно выполнились DEV: 96.41%\n",
      "====================================================================================================\n",
      "\n",
      "\n",
      "Загружаем чаты с данными...\n",
      "Данные успешно загружены\n",
      "Начали генерацию SQL запросов\n"
     ]
    },
    {
     "name": "stderr",
     "output_type": "stream",
     "text": [
      "Processed prompts: 100%|██████████| 1534/1534 [01:41<00:00, 15.09it/s, est. speed input: 24011.49 toks/s, output: 772.32 toks/s] "
     ]
    },
    {
     "name": "stdout",
     "output_type": "stream",
     "text": [
      "extract_think количество ошибок:  0\n",
      "extract_sql количество ошибок:  0\n",
      "Закончили генерацию SQL запросов\n",
      "Начали скорр полученных SQL запросов\n"
     ]
    },
    {
     "name": "stderr",
     "output_type": "stream",
     "text": [
      "\n"
     ]
    },
    {
     "name": "stdout",
     "output_type": "stream",
     "text": [
      "Qwen3-14B DEV Финальный результат EX: 58.34\n",
      "Qwen3-14B процент запросов, которые успешно выполнились DEV: 96.48%\n",
      "====================================================================================================\n",
      "\n",
      "\n",
      "Загружаем чаты с данными...\n",
      "Данные успешно загружены\n",
      "Начали генерацию SQL запросов\n"
     ]
    },
    {
     "name": "stderr",
     "output_type": "stream",
     "text": [
      "Processed prompts: 100%|██████████| 1534/1534 [01:41<00:00, 15.06it/s, est. speed input: 23988.73 toks/s, output: 775.03 toks/s] "
     ]
    },
    {
     "name": "stdout",
     "output_type": "stream",
     "text": [
      "extract_think количество ошибок:  0\n",
      "extract_sql количество ошибок:  0\n",
      "Закончили генерацию SQL запросов\n",
      "Начали скорр полученных SQL запросов\n"
     ]
    },
    {
     "name": "stderr",
     "output_type": "stream",
     "text": [
      "\n"
     ]
    },
    {
     "name": "stdout",
     "output_type": "stream",
     "text": [
      "Qwen3-14B DEV Финальный результат EX: 58.08\n",
      "Qwen3-14B процент запросов, которые успешно выполнились DEV: 96.81%\n",
      "====================================================================================================\n",
      "\n",
      "\n",
      "Загружаем чаты с данными...\n",
      "Данные успешно загружены\n",
      "Начали генерацию SQL запросов\n"
     ]
    },
    {
     "name": "stderr",
     "output_type": "stream",
     "text": [
      "Processed prompts: 100%|██████████| 1534/1534 [01:42<00:00, 14.94it/s, est. speed input: 23811.09 toks/s, output: 764.38 toks/s] "
     ]
    },
    {
     "name": "stdout",
     "output_type": "stream",
     "text": [
      "extract_think количество ошибок:  0\n",
      "extract_sql количество ошибок:  0\n",
      "Закончили генерацию SQL запросов\n",
      "Начали скорр полученных SQL запросов\n"
     ]
    },
    {
     "name": "stderr",
     "output_type": "stream",
     "text": [
      "\n"
     ]
    },
    {
     "name": "stdout",
     "output_type": "stream",
     "text": [
      "Qwen3-14B DEV Финальный результат EX: 58.47\n",
      "Qwen3-14B процент запросов, которые успешно выполнились DEV: 97.52%\n",
      "====================================================================================================\n",
      "\n",
      "\n",
      "Загружаем чаты с данными...\n",
      "Данные успешно загружены\n",
      "Начали генерацию SQL запросов\n"
     ]
    },
    {
     "name": "stderr",
     "output_type": "stream",
     "text": [
      "Processed prompts: 100%|██████████| 1534/1534 [01:42<00:00, 15.02it/s, est. speed input: 23918.93 toks/s, output: 771.48 toks/s] "
     ]
    },
    {
     "name": "stdout",
     "output_type": "stream",
     "text": [
      "extract_think количество ошибок:  0\n",
      "extract_sql количество ошибок:  0\n",
      "Закончили генерацию SQL запросов\n",
      "Начали скорр полученных SQL запросов\n"
     ]
    },
    {
     "name": "stderr",
     "output_type": "stream",
     "text": [
      "\n"
     ]
    },
    {
     "name": "stdout",
     "output_type": "stream",
     "text": [
      "Qwen3-14B DEV Финальный результат EX: 58.67\n",
      "Qwen3-14B процент запросов, которые успешно выполнились DEV: 97.13%\n",
      "====================================================================================================\n",
      "\n",
      "\n",
      "Загружаем чаты с данными...\n",
      "Данные успешно загружены\n",
      "Начали генерацию SQL запросов\n"
     ]
    },
    {
     "name": "stderr",
     "output_type": "stream",
     "text": [
      "Processed prompts: 100%|██████████| 1534/1534 [01:38<00:00, 15.55it/s, est. speed input: 24767.70 toks/s, output: 794.81 toks/s] "
     ]
    },
    {
     "name": "stdout",
     "output_type": "stream",
     "text": [
      "extract_think количество ошибок:  0\n",
      "extract_sql количество ошибок:  0\n",
      "Закончили генерацию SQL запросов\n",
      "Начали скорр полученных SQL запросов\n"
     ]
    },
    {
     "name": "stderr",
     "output_type": "stream",
     "text": [
      "\n"
     ]
    },
    {
     "name": "stdout",
     "output_type": "stream",
     "text": [
      "Qwen3-14B DEV Финальный результат EX: 57.69\n",
      "Qwen3-14B процент запросов, которые успешно выполнились DEV: 97.00%\n",
      "====================================================================================================\n",
      "\n",
      "\n"
     ]
    }
   ],
   "source": [
    "run_cot_experiment(model,arr_seeds,arr_versions, type_cot,num_observations=num_observations)"
   ]
  },
  {
   "cell_type": "code",
   "execution_count": 21,
   "id": "c1e5e144-1e1f-44de-8094-e7172daff51b",
   "metadata": {},
   "outputs": [
    {
     "name": "stdout",
     "output_type": "stream",
     "text": [
      "[269, 4, 480, 651, 133, 249, 385, 259, 152, 689, 87, 822, 231, 765, 256, 780, 931, 597, 200, 899]\n",
      "model: Qwen3-14B\n"
     ]
    }
   ],
   "source": [
    "n= 20\n",
    "arr_seeds = [random.randint(0,1000) for _ in range(n)]\n",
    "arr_versions = [x for x in range(n)]\n",
    "model = \"Qwen3-14B\"\n",
    "num_observations = 5\n",
    "type_cot = 'predict'\n",
    "print(arr_seeds)\n",
    "print(f\"model: {model}\")"
   ]
  },
  {
   "cell_type": "code",
   "execution_count": 22,
   "id": "25a08606-4784-406f-965a-c029463c9e15",
   "metadata": {
    "scrolled": true
   },
   "outputs": [
    {
     "name": "stdout",
     "output_type": "stream",
     "text": [
      "Загружаем модель...\n"
     ]
    },
    {
     "name": "stderr",
     "output_type": "stream",
     "text": [
      "Loading safetensors checkpoint shards:   0% Completed | 0/8 [00:00<?, ?it/s]\n",
      "Loading safetensors checkpoint shards:  12% Completed | 1/8 [00:01<00:09,  1.38s/it]\n",
      "Loading safetensors checkpoint shards:  25% Completed | 2/8 [00:02<00:08,  1.43s/it]\n",
      "Loading safetensors checkpoint shards:  38% Completed | 3/8 [00:04<00:07,  1.42s/it]\n",
      "Loading safetensors checkpoint shards:  50% Completed | 4/8 [00:05<00:05,  1.43s/it]\n",
      "Loading safetensors checkpoint shards:  62% Completed | 5/8 [00:07<00:04,  1.42s/it]\n",
      "Loading safetensors checkpoint shards:  75% Completed | 6/8 [00:07<00:02,  1.20s/it]\n",
      "Loading safetensors checkpoint shards:  88% Completed | 7/8 [00:09<00:01,  1.27s/it]\n",
      "Loading safetensors checkpoint shards: 100% Completed | 8/8 [00:10<00:00,  1.31s/it]\n",
      "Loading safetensors checkpoint shards: 100% Completed | 8/8 [00:10<00:00,  1.33s/it]\n",
      "\u001b[1;36m(VllmWorker rank=0 pid=966605)\u001b[0;0m \n"
     ]
    },
    {
     "name": "stdout",
     "output_type": "stream",
     "text": [
      "Модель успешно загружена\n",
      "model_config {'model': '/data/home/vkropoti/models/Qwen3-14B', 'tensor_parallel_size': 2, 'max_model_len': 40000, 'max_new_tokens': 1500, 'temperature': 0, 'top_k': 1, 'top_p': 0.8, 'gpu_memory_utilization': 0.9, 'trust_remote_code': False, 'seed': 269}\n",
      "\n",
      "prompts_config {'path_dev_json': '/home/vkropoti/vllm/dev.json', 'path_sql_dbs': '/data/home/vkropoti/sql_data/dev_databases/', 'use_reasoning': False, 'paths_to_cot': ['/data/home/vkropoti/sql_llm_answers/bird_dev/sql_predict_Qwen3-14B-reasoning-v0', '/data/home/vkropoti/sql_llm_answers/bird_dev/sql_predict_Qwen3-14B-reasoning-v1', '/data/home/vkropoti/sql_llm_answers/bird_dev/sql_predict_Qwen3-14B-reasoning-v2', '/data/home/vkropoti/sql_llm_answers/bird_dev/sql_predict_Qwen3-14B-reasoning-v3', '/data/home/vkropoti/sql_llm_answers/bird_dev/sql_predict_Qwen3-14B-reasoning-v4']}\n",
      "\n",
      "save_config {'path_sql_save': '/data/home/vkropoti/sql_llm_answers/bird_dev/sql_all_Qwen3-14B-cot_predict_think==False_nobs5-v0', 'path_think_save': None, 'path_sql_answers_save': '/data/home/vkropoti/sql_llm_answers/bird_dev/sql_predict_Qwen3-14B-cot_predict_think==False_nobs5-v0', 'path_to_save_scores': '/data/home/vkropoti/sql_llm_answers/bird_dev/sql_results_Qwen3-14B-cot_predict_think==False_nobs5-v0', 'path_to_save_executed': '/data/home/vkropoti/sql_llm_answers/bird_dev/sql_executed_Qwen3-14B-cot_predict_think==False_nobs5-v0'}\n",
      "\n",
      "Модель успешно загружена\n",
      "Пример промпта\n",
      "<|im_start|>system\n",
      "\n",
      "You are a data science expert. Below, you are provided with a database schema and a natural language question. Your task is to understand the schema and generate a valid SQL query to answer the question.\n",
      "\n",
      "Database Engine: SQLite\n",
      "\n",
      "You will be given an additional analysis of other models, please take it into account, so the plan is\n",
      "1. Analyse given addition analysis from other models (find in which analysis the same and differ, how to use that to answer question)\n",
      "2. Combine best from previous part and think how to solve the problem (analyze tables, take care what columns avaliable in each table and so on, check the syntacsis)\n",
      "3. Create the answers. The answer should be only sql query.\n",
      "\n",
      "Carefully follow the instruction and add <|im_end|> and the end of the final answer<|im_end|>\n",
      "<|im_start|>user\n",
      "Here is addition analysis from other models which can be helpfull, please take this into account but be careful (choose the best from each analysis, combine them to make the most proper answer):\n",
      "\n",
      "model 0 analysis:\n",
      " SELECT MAX(`Free Meal Count (K-12` / `Enrollment (K-12`) FROM frpm JOIN schools ON frpm.CDSCode = schools.CDSCode WHERE schools.County = 'Alameda';\n",
      "\n",
      "model 1 analysis:\n",
      " SELECT MAX(`Free Meal Count (K-12` / `Enrollment (K-12`) FROM frpm WHERE `County Name` = 'Alameda County';\n",
      "\n",
      "model 2 analysis:\n",
      " SELECT MAX(`Free Meal Count (K-12)` / `Enrollment (K-12)`) FROM frpm WHERE `County Name` = 'Alameda County';\n",
      "\n",
      "model 3 analysis:\n",
      " SELECT MAX(`Free Meal Count (K-12)` / `Enrollment (K-12)`) FROM frpm WHERE `County Name` = 'Alameda County';\n",
      "\n",
      "model 4 analysis:\n",
      " SELECT MAX(`Free Meal Count (K-12)` / `Enrollment (K-12)`) FROM frpm JOIN schools ON frpm.CDSCode = schools.CDSCode WHERE schools.County = 'Alameda';\n",
      "\n",
      "\n",
      "here is avaliable tables below\n",
      "\n",
      "\n",
      "Table: frpm\n",
      "CREATE TABLE frpm\n",
      "(\n",
      "    CDSCode                                       TEXT not null\n",
      "        primary key,\n",
      "    `Academic Year`                               TEXT  null,\n",
      "    `County Code`                                 TEXT  null,\n",
      "    `District Code`                               INTEGER         null,\n",
      "    `School Code`                                 TEXT  null,\n",
      "    `County Name`                                 TEXT null,\n",
      "    `District Name`                               TEXT null,\n",
      "    `School Name`                                 TEXT null,\n",
      "    `District Type`                               TEXT null,\n",
      "    `School Type`                                 TEXT null,\n",
      "    `Educational Option Type`                     TEXT null,\n",
      "    `NSLP Provision Status`                       TEXT null,\n",
      "    `Charter School (Y/N)`                        INTEGER    null,\n",
      "    `Charter School Number`                       TEXT  null,\n",
      "    `Charter Funding Type`                        TEXT null,\n",
      "    IRC                                           INTEGER    null,\n",
      "    `Low Grade`                                   TEXT  null,\n",
      "    `High Grade`                                  TEXT null,\n",
      "    `Enrollment (K-12)`                           REAL      null,\n",
      "    `Free Meal Count (K-12)`                      REAL       null,\n",
      "    `Percent (%) Eligible Free (K-12)`            REAL       null,\n",
      "    `FRPM Count (K-12)`                           REAL       null,\n",
      "    `Percent (%) Eligible FRPM (K-12)`            REAL       null,\n",
      "    `Enrollment (Ages 5-17)`                      REAL       null,\n",
      "    `Free Meal Count (Ages 5-17)`                 REAL       null,\n",
      "    `Percent (%) Eligible Free (Ages 5-17)`       REAL       null,\n",
      "    `FRPM Count (Ages 5-17)`                      REAL       null,\n",
      "    `Percent (%) Eligible FRPM (Ages 5-17)`       REAL       null,\n",
      "    `2013-14 CALPADS Fall 1 Certification Status` INTEGER    null,\n",
      "    foreign key (CDSCode) references schools (CDSCode)\n",
      ")\n",
      "\n",
      "Table: satscores\n",
      "CREATE TABLE satscores\n",
      "(\n",
      "    cds         TEXT not null\n",
      "        primary key,\n",
      "    rtype       TEXT  not null,\n",
      "    sname       TEXT null,\n",
      "    dname       TEXT null,\n",
      "    cname       TEXT null,\n",
      "    enroll12    INTEGER         not null,\n",
      "    NumTstTakr  INTEGER          not null,\n",
      "    AvgScrRead  INTEGER          null,\n",
      "    AvgScrMath  INTEGER          null,\n",
      "    AvgScrWrite INTEGER          null,\n",
      "    NumGE1500   INTEGER          null,\n",
      "--     PctGE1500   double      null,\n",
      "        foreign key (cds) references schools (CDSCode)\n",
      ")\n",
      "\n",
      "Table: schools\n",
      "CREATE TABLE schools\n",
      "(\n",
      "    CDSCode     TEXT not null\n",
      "        primary key,\n",
      "    NCESDist    TEXT  null,\n",
      "    NCESSchool  TEXT  null,\n",
      "    StatusType  TEXT  not null,\n",
      "    County      TEXT not null,\n",
      "    District    TEXT not null,\n",
      "    School      TEXT null,\n",
      "    Street      TEXT null,\n",
      "    StreetAbr   TEXT null,\n",
      "    City        TEXT null,\n",
      "    Zip         TEXT null,\n",
      "    State       TEXT  null,\n",
      "    MailStreet  TEXT null,\n",
      "    MailStrAbr  TEXT null,\n",
      "    MailCity    TEXT null,\n",
      "    MailZip     TEXT null,\n",
      "    MailState   TEXT  null,\n",
      "    Phone       TEXT null,\n",
      "    Ext         TEXT  null,\n",
      "    Website     TEXT null,\n",
      "    OpenDate    DATE        null,\n",
      "    ClosedDate  DATE        null,\n",
      "    Charter     INTEGER    null,\n",
      "    CharterNum  TEXT  null,\n",
      "    FundingType TEXT null,\n",
      "    DOC         TEXT  not null,\n",
      "    DOCType     TEXT not null,\n",
      "    SOC         TEXT  null,\n",
      "    SOCType     TEXT null,\n",
      "    EdOpsCode   TEXT  null,\n",
      "    EdOpsName   TEXT null,\n",
      "    EILCode     TEXT  null,\n",
      "    EILName     TEXT null,\n",
      "    GSoffered   TEXT null,\n",
      "    GSserved    TEXT  null,\n",
      "    Virtual     TEXT  null,\n",
      "    Magnet      INTEGER   null,\n",
      "    Latitude    REAL      null,\n",
      "    Longitude   REAL      null,\n",
      "    AdmFName1   TEXT null,\n",
      "    AdmLName1   TEXT null,\n",
      "    AdmEmail1   TEXT null,\n",
      "    AdmFName2   TEXT null,\n",
      "    AdmLName2   TEXT null,\n",
      "    AdmEmail2   TEXT null,\n",
      "    AdmFName3   TEXT  null,\n",
      "    AdmLName3   TEXT null,\n",
      "    AdmEmail3   TEXT null,\n",
      "    LastUpdate  DATE        not null\n",
      ")\n",
      "\n",
      "-- Using valid SQLite and understanding External Knowledge, answer the following questions for the tables provided above.\n",
      "-- What is the highest eligible free rate for K-12 students in the schools in Alameda County?\n",
      "-- External Knowledge: Eligible free rate for K-12 = `Free Meal Count (K-12)` / `Enrollment (K-12)`\n",
      "\n",
      "\n",
      "Generate the SQLite for the above question after thinking step by step: \n",
      "\n",
      "\n",
      "Instructions:\n",
      "- Make sure you only output the information that is asked in the question. If the question asks for a specific column, make sure to only include that column in the SELECT clause, nothing more.\n",
      "- The generated query should return all of the information asked in the question without any missing or extra information.\n",
      "- Before generating the final SQL query, please think through the steps of how to write the query.\n",
      "- Do not misuse column names, keep them in quotes `\n",
      "- Carefully understand what colomns belond to what tables\n",
      "- Use only initial column names, change names prohibited\n",
      "        \n",
      "Output Format:\n",
      "In your answer, please enclose the generated SQL query in a code block:\n",
      "```\n",
      "-- Your SQL query\n",
      "```    \n",
      "and nothing else, no exaplains, no comments (asnwer should be less than 512 characters)\n",
      "\n",
      "Take a deep breath and think step by step to find the correct SQL query in SQLite format.\n",
      "\n",
      "Question repetition: What is the highest eligible free rate for K-12 students in the schools in Alameda County?\n",
      "\n",
      "Be care! Include only what i want it questiona and nothing else<|im_end|>\n",
      "<|im_start|>assistant\n",
      "<think>\n",
      "\n",
      "</think>\n",
      "\n",
      "\n",
      "\n",
      "\n",
      "Максимальное количество токенов в промптах: 4706\n",
      "\n",
      "начинаем скорринг\n",
      "Загружаем чаты с данными...\n",
      "Данные успешно загружены\n",
      "Начали генерацию SQL запросов\n"
     ]
    },
    {
     "name": "stderr",
     "output_type": "stream",
     "text": [
      "Processed prompts: 100%|██████████| 1534/1534 [01:41<00:00, 15.16it/s, est. speed input: 24953.24 toks/s, output: 780.20 toks/s] "
     ]
    },
    {
     "name": "stdout",
     "output_type": "stream",
     "text": [
      "extract_think количество ошибок:  0\n",
      "extract_sql количество ошибок:  0\n",
      "Закончили генерацию SQL запросов\n",
      "Начали скорр полученных SQL запросов\n"
     ]
    },
    {
     "name": "stderr",
     "output_type": "stream",
     "text": [
      "\n"
     ]
    },
    {
     "name": "stdout",
     "output_type": "stream",
     "text": [
      "Qwen3-14B DEV Финальный результат EX: 58.08\n",
      "Qwen3-14B процент запросов, которые успешно выполнились DEV: 97.07%\n",
      "====================================================================================================\n",
      "\n",
      "\n",
      "Загружаем чаты с данными...\n",
      "Данные успешно загружены\n",
      "Начали генерацию SQL запросов\n"
     ]
    },
    {
     "name": "stderr",
     "output_type": "stream",
     "text": [
      "Processed prompts: 100%|██████████| 1534/1534 [01:45<00:00, 14.47it/s, est. speed input: 23819.78 toks/s, output: 747.87 toks/s] "
     ]
    },
    {
     "name": "stdout",
     "output_type": "stream",
     "text": [
      "extract_think количество ошибок:  0\n",
      "extract_sql количество ошибок:  0\n",
      "Закончили генерацию SQL запросов\n",
      "Начали скорр полученных SQL запросов\n"
     ]
    },
    {
     "name": "stderr",
     "output_type": "stream",
     "text": [
      "\n"
     ]
    },
    {
     "name": "stdout",
     "output_type": "stream",
     "text": [
      "Qwen3-14B DEV Финальный результат EX: 57.95\n",
      "Qwen3-14B процент запросов, которые успешно выполнились DEV: 96.94%\n",
      "====================================================================================================\n",
      "\n",
      "\n",
      "Загружаем чаты с данными...\n",
      "Данные успешно загружены\n",
      "Начали генерацию SQL запросов\n"
     ]
    },
    {
     "name": "stderr",
     "output_type": "stream",
     "text": [
      "Processed prompts: 100%|██████████| 1534/1534 [01:40<00:00, 15.25it/s, est. speed input: 25088.08 toks/s, output: 776.99 toks/s] "
     ]
    },
    {
     "name": "stdout",
     "output_type": "stream",
     "text": [
      "extract_think количество ошибок:  0\n",
      "extract_sql количество ошибок:  0\n",
      "Закончили генерацию SQL запросов\n",
      "Начали скорр полученных SQL запросов\n"
     ]
    },
    {
     "name": "stderr",
     "output_type": "stream",
     "text": [
      "\n"
     ]
    },
    {
     "name": "stdout",
     "output_type": "stream",
     "text": [
      "Qwen3-14B DEV Финальный результат EX: 57.76\n",
      "Qwen3-14B процент запросов, которые успешно выполнились DEV: 96.54%\n",
      "====================================================================================================\n",
      "\n",
      "\n",
      "Загружаем чаты с данными...\n",
      "Данные успешно загружены\n",
      "Начали генерацию SQL запросов\n"
     ]
    },
    {
     "name": "stderr",
     "output_type": "stream",
     "text": [
      "Processed prompts: 100%|██████████| 1534/1534 [01:46<00:00, 14.40it/s, est. speed input: 23696.99 toks/s, output: 744.55 toks/s] "
     ]
    },
    {
     "name": "stdout",
     "output_type": "stream",
     "text": [
      "extract_think количество ошибок:  0\n",
      "extract_sql количество ошибок:  0\n",
      "Закончили генерацию SQL запросов\n",
      "Начали скорр полученных SQL запросов\n"
     ]
    },
    {
     "name": "stderr",
     "output_type": "stream",
     "text": [
      "\n"
     ]
    },
    {
     "name": "stdout",
     "output_type": "stream",
     "text": [
      "Qwen3-14B DEV Финальный результат EX: 57.76\n",
      "Qwen3-14B процент запросов, которые успешно выполнились DEV: 96.81%\n",
      "====================================================================================================\n",
      "\n",
      "\n",
      "Загружаем чаты с данными...\n",
      "Данные успешно загружены\n",
      "Начали генерацию SQL запросов\n"
     ]
    },
    {
     "name": "stderr",
     "output_type": "stream",
     "text": [
      "Processed prompts: 100%|██████████| 1534/1534 [01:41<00:00, 15.05it/s, est. speed input: 24762.11 toks/s, output: 774.03 toks/s] "
     ]
    },
    {
     "name": "stdout",
     "output_type": "stream",
     "text": [
      "extract_think количество ошибок:  0\n",
      "extract_sql количество ошибок:  0\n",
      "Закончили генерацию SQL запросов\n",
      "Начали скорр полученных SQL запросов\n"
     ]
    },
    {
     "name": "stderr",
     "output_type": "stream",
     "text": [
      "\n"
     ]
    },
    {
     "name": "stdout",
     "output_type": "stream",
     "text": [
      "Qwen3-14B DEV Финальный результат EX: 57.82\n",
      "Qwen3-14B процент запросов, которые успешно выполнились DEV: 96.54%\n",
      "====================================================================================================\n",
      "\n",
      "\n",
      "Загружаем чаты с данными...\n",
      "Данные успешно загружены\n",
      "Начали генерацию SQL запросов\n"
     ]
    },
    {
     "name": "stderr",
     "output_type": "stream",
     "text": [
      "Processed prompts: 100%|██████████| 1534/1534 [01:45<00:00, 14.53it/s, est. speed input: 23909.14 toks/s, output: 753.20 toks/s] "
     ]
    },
    {
     "name": "stdout",
     "output_type": "stream",
     "text": [
      "extract_think количество ошибок:  0\n",
      "extract_sql количество ошибок:  0\n",
      "Закончили генерацию SQL запросов\n",
      "Начали скорр полученных SQL запросов\n"
     ]
    },
    {
     "name": "stderr",
     "output_type": "stream",
     "text": [
      "\n"
     ]
    },
    {
     "name": "stdout",
     "output_type": "stream",
     "text": [
      "Qwen3-14B DEV Финальный результат EX: 57.24\n",
      "Qwen3-14B процент запросов, которые успешно выполнились DEV: 96.41%\n",
      "====================================================================================================\n",
      "\n",
      "\n",
      "Загружаем чаты с данными...\n",
      "Данные успешно загружены\n",
      "Начали генерацию SQL запросов\n"
     ]
    },
    {
     "name": "stderr",
     "output_type": "stream",
     "text": [
      "Processed prompts: 100%|██████████| 1534/1534 [01:42<00:00, 15.02it/s, est. speed input: 24706.73 toks/s, output: 766.77 toks/s] "
     ]
    },
    {
     "name": "stdout",
     "output_type": "stream",
     "text": [
      "extract_think количество ошибок:  0\n",
      "extract_sql количество ошибок:  0\n",
      "Закончили генерацию SQL запросов\n",
      "Начали скорр полученных SQL запросов\n"
     ]
    },
    {
     "name": "stderr",
     "output_type": "stream",
     "text": [
      "\n"
     ]
    },
    {
     "name": "stdout",
     "output_type": "stream",
     "text": [
      "Qwen3-14B DEV Финальный результат EX: 57.63\n",
      "Qwen3-14B процент запросов, которые успешно выполнились DEV: 96.87%\n",
      "====================================================================================================\n",
      "\n",
      "\n",
      "Загружаем чаты с данными...\n",
      "Данные успешно загружены\n",
      "Начали генерацию SQL запросов\n"
     ]
    },
    {
     "name": "stderr",
     "output_type": "stream",
     "text": [
      "Processed prompts: 100%|██████████| 1534/1534 [01:46<00:00, 14.43it/s, est. speed input: 23746.25 toks/s, output: 750.70 toks/s] "
     ]
    },
    {
     "name": "stdout",
     "output_type": "stream",
     "text": [
      "extract_think количество ошибок:  0\n",
      "extract_sql количество ошибок:  0\n",
      "Закончили генерацию SQL запросов\n",
      "Начали скорр полученных SQL запросов\n"
     ]
    },
    {
     "name": "stderr",
     "output_type": "stream",
     "text": [
      "\n"
     ]
    },
    {
     "name": "stdout",
     "output_type": "stream",
     "text": [
      "Qwen3-14B DEV Финальный результат EX: 58.15\n",
      "Qwen3-14B процент запросов, которые успешно выполнились DEV: 96.81%\n",
      "====================================================================================================\n",
      "\n",
      "\n",
      "Загружаем чаты с данными...\n",
      "Данные успешно загружены\n",
      "Начали генерацию SQL запросов\n"
     ]
    },
    {
     "name": "stderr",
     "output_type": "stream",
     "text": [
      "Processed prompts: 100%|██████████| 1534/1534 [01:46<00:00, 14.44it/s, est. speed input: 23782.22 toks/s, output: 750.76 toks/s] "
     ]
    },
    {
     "name": "stdout",
     "output_type": "stream",
     "text": [
      "extract_think количество ошибок:  0\n",
      "extract_sql количество ошибок:  0\n",
      "Закончили генерацию SQL запросов\n",
      "Начали скорр полученных SQL запросов\n"
     ]
    },
    {
     "name": "stderr",
     "output_type": "stream",
     "text": [
      "\n"
     ]
    },
    {
     "name": "stdout",
     "output_type": "stream",
     "text": [
      "Qwen3-14B DEV Финальный результат EX: 58.41\n",
      "Qwen3-14B процент запросов, которые успешно выполнились DEV: 96.81%\n",
      "====================================================================================================\n",
      "\n",
      "\n",
      "Загружаем чаты с данными...\n",
      "Данные успешно загружены\n",
      "Начали генерацию SQL запросов\n"
     ]
    },
    {
     "name": "stderr",
     "output_type": "stream",
     "text": [
      "Processed prompts: 100%|██████████| 1534/1534 [01:45<00:00, 14.49it/s, est. speed input: 23865.18 toks/s, output: 737.77 toks/s] "
     ]
    },
    {
     "name": "stdout",
     "output_type": "stream",
     "text": [
      "extract_think количество ошибок:  0\n",
      "extract_sql количество ошибок:  0\n",
      "Закончили генерацию SQL запросов\n",
      "Начали скорр полученных SQL запросов\n"
     ]
    },
    {
     "name": "stderr",
     "output_type": "stream",
     "text": [
      "\n"
     ]
    },
    {
     "name": "stdout",
     "output_type": "stream",
     "text": [
      "Qwen3-14B DEV Финальный результат EX: 58.47\n",
      "Qwen3-14B процент запросов, которые успешно выполнились DEV: 96.87%\n",
      "====================================================================================================\n",
      "\n",
      "\n",
      "Загружаем чаты с данными...\n",
      "Данные успешно загружены\n",
      "Начали генерацию SQL запросов\n"
     ]
    },
    {
     "name": "stderr",
     "output_type": "stream",
     "text": [
      "Processed prompts: 100%|██████████| 1534/1534 [01:40<00:00, 15.28it/s, est. speed input: 25111.50 toks/s, output: 774.39 toks/s] "
     ]
    },
    {
     "name": "stdout",
     "output_type": "stream",
     "text": [
      "extract_think количество ошибок:  0\n",
      "extract_sql количество ошибок:  0\n",
      "Закончили генерацию SQL запросов\n",
      "Начали скорр полученных SQL запросов\n"
     ]
    },
    {
     "name": "stderr",
     "output_type": "stream",
     "text": [
      "\n"
     ]
    },
    {
     "name": "stdout",
     "output_type": "stream",
     "text": [
      "Qwen3-14B DEV Финальный результат EX: 58.28\n",
      "Qwen3-14B процент запросов, которые успешно выполнились DEV: 96.68%\n",
      "====================================================================================================\n",
      "\n",
      "\n",
      "Загружаем чаты с данными...\n",
      "Данные успешно загружены\n",
      "Начали генерацию SQL запросов\n"
     ]
    },
    {
     "name": "stderr",
     "output_type": "stream",
     "text": [
      "Processed prompts: 100%|██████████| 1534/1534 [01:44<00:00, 14.66it/s, est. speed input: 24079.16 toks/s, output: 740.99 toks/s] "
     ]
    },
    {
     "name": "stdout",
     "output_type": "stream",
     "text": [
      "extract_think количество ошибок:  0\n",
      "extract_sql количество ошибок:  0\n",
      "Закончили генерацию SQL запросов\n",
      "Начали скорр полученных SQL запросов\n"
     ]
    },
    {
     "name": "stderr",
     "output_type": "stream",
     "text": [
      "\n"
     ]
    },
    {
     "name": "stdout",
     "output_type": "stream",
     "text": [
      "Qwen3-14B DEV Финальный результат EX: 57.82\n",
      "Qwen3-14B процент запросов, которые успешно выполнились DEV: 96.94%\n",
      "====================================================================================================\n",
      "\n",
      "\n",
      "Загружаем чаты с данными...\n",
      "Данные успешно загружены\n",
      "Начали генерацию SQL запросов\n"
     ]
    },
    {
     "name": "stderr",
     "output_type": "stream",
     "text": [
      "Processed prompts: 100%|██████████| 1534/1534 [01:47<00:00, 14.24it/s, est. speed input: 23369.70 toks/s, output: 729.72 toks/s] "
     ]
    },
    {
     "name": "stdout",
     "output_type": "stream",
     "text": [
      "extract_think количество ошибок:  0\n",
      "extract_sql количество ошибок:  0\n",
      "Закончили генерацию SQL запросов\n",
      "Начали скорр полученных SQL запросов\n"
     ]
    },
    {
     "name": "stderr",
     "output_type": "stream",
     "text": [
      "\n"
     ]
    },
    {
     "name": "stdout",
     "output_type": "stream",
     "text": [
      "Qwen3-14B DEV Финальный результат EX: 58.47\n",
      "Qwen3-14B процент запросов, которые успешно выполнились DEV: 96.74%\n",
      "====================================================================================================\n",
      "\n",
      "\n",
      "Загружаем чаты с данными...\n",
      "Данные успешно загружены\n",
      "Начали генерацию SQL запросов\n"
     ]
    },
    {
     "name": "stderr",
     "output_type": "stream",
     "text": [
      "Processed prompts: 100%|██████████| 1534/1534 [01:44<00:00, 14.65it/s, est. speed input: 24055.60 toks/s, output: 749.44 toks/s] "
     ]
    },
    {
     "name": "stdout",
     "output_type": "stream",
     "text": [
      "extract_think количество ошибок:  0\n",
      "extract_sql количество ошибок:  0\n",
      "Закончили генерацию SQL запросов\n",
      "Начали скорр полученных SQL запросов\n"
     ]
    },
    {
     "name": "stderr",
     "output_type": "stream",
     "text": [
      "\n"
     ]
    },
    {
     "name": "stdout",
     "output_type": "stream",
     "text": [
      "Qwen3-14B DEV Финальный результат EX: 58.34\n",
      "Qwen3-14B процент запросов, которые успешно выполнились DEV: 96.81%\n",
      "====================================================================================================\n",
      "\n",
      "\n",
      "Загружаем чаты с данными...\n",
      "Данные успешно загружены\n",
      "Начали генерацию SQL запросов\n"
     ]
    },
    {
     "name": "stderr",
     "output_type": "stream",
     "text": [
      "Processed prompts: 100%|██████████| 1534/1534 [01:45<00:00, 14.60it/s, est. speed input: 23958.78 toks/s, output: 746.65 toks/s] "
     ]
    },
    {
     "name": "stdout",
     "output_type": "stream",
     "text": [
      "extract_think количество ошибок:  0\n",
      "extract_sql количество ошибок:  0\n",
      "Закончили генерацию SQL запросов\n",
      "Начали скорр полученных SQL запросов\n"
     ]
    },
    {
     "name": "stderr",
     "output_type": "stream",
     "text": [
      "\n"
     ]
    },
    {
     "name": "stdout",
     "output_type": "stream",
     "text": [
      "Qwen3-14B DEV Финальный результат EX: 58.41\n",
      "Qwen3-14B процент запросов, которые успешно выполнились DEV: 96.87%\n",
      "====================================================================================================\n",
      "\n",
      "\n",
      "Загружаем чаты с данными...\n",
      "Данные успешно загружены\n",
      "Начали генерацию SQL запросов\n"
     ]
    },
    {
     "name": "stderr",
     "output_type": "stream",
     "text": [
      "Processed prompts: 100%|██████████| 1534/1534 [01:44<00:00, 14.65it/s, est. speed input: 24071.23 toks/s, output: 751.71 toks/s] "
     ]
    },
    {
     "name": "stdout",
     "output_type": "stream",
     "text": [
      "extract_think количество ошибок:  0\n",
      "extract_sql количество ошибок:  0\n",
      "Закончили генерацию SQL запросов\n",
      "Начали скорр полученных SQL запросов\n"
     ]
    },
    {
     "name": "stderr",
     "output_type": "stream",
     "text": [
      "\n"
     ]
    },
    {
     "name": "stdout",
     "output_type": "stream",
     "text": [
      "Qwen3-14B DEV Финальный результат EX: 58.54\n",
      "Qwen3-14B процент запросов, которые успешно выполнились DEV: 96.61%\n",
      "====================================================================================================\n",
      "\n",
      "\n",
      "Загружаем чаты с данными...\n",
      "Данные успешно загружены\n",
      "Начали генерацию SQL запросов\n"
     ]
    },
    {
     "name": "stderr",
     "output_type": "stream",
     "text": [
      "Processed prompts: 100%|██████████| 1534/1534 [01:45<00:00, 14.61it/s, est. speed input: 24025.72 toks/s, output: 754.88 toks/s] "
     ]
    },
    {
     "name": "stdout",
     "output_type": "stream",
     "text": [
      "extract_think количество ошибок:  0\n",
      "extract_sql количество ошибок:  0\n",
      "Закончили генерацию SQL запросов\n",
      "Начали скорр полученных SQL запросов\n"
     ]
    },
    {
     "name": "stderr",
     "output_type": "stream",
     "text": [
      "\n"
     ]
    },
    {
     "name": "stdout",
     "output_type": "stream",
     "text": [
      "Qwen3-14B DEV Финальный результат EX: 58.47\n",
      "Qwen3-14B процент запросов, которые успешно выполнились DEV: 96.68%\n",
      "====================================================================================================\n",
      "\n",
      "\n",
      "Загружаем чаты с данными...\n",
      "Данные успешно загружены\n",
      "Начали генерацию SQL запросов\n"
     ]
    },
    {
     "name": "stderr",
     "output_type": "stream",
     "text": [
      "Processed prompts: 100%|██████████| 1534/1534 [01:45<00:00, 14.52it/s, est. speed input: 23895.49 toks/s, output: 739.96 toks/s] "
     ]
    },
    {
     "name": "stdout",
     "output_type": "stream",
     "text": [
      "extract_think количество ошибок:  0\n",
      "extract_sql количество ошибок:  0\n",
      "Закончили генерацию SQL запросов\n",
      "Начали скорр полученных SQL запросов\n"
     ]
    },
    {
     "name": "stderr",
     "output_type": "stream",
     "text": [
      "\n"
     ]
    },
    {
     "name": "stdout",
     "output_type": "stream",
     "text": [
      "Qwen3-14B DEV Финальный результат EX: 58.47\n",
      "Qwen3-14B процент запросов, которые успешно выполнились DEV: 97.39%\n",
      "====================================================================================================\n",
      "\n",
      "\n",
      "Загружаем чаты с данными...\n",
      "Данные успешно загружены\n",
      "Начали генерацию SQL запросов\n"
     ]
    },
    {
     "name": "stderr",
     "output_type": "stream",
     "text": [
      "Processed prompts: 100%|██████████| 1534/1534 [01:45<00:00, 14.60it/s, est. speed input: 24010.62 toks/s, output: 753.20 toks/s] "
     ]
    },
    {
     "name": "stdout",
     "output_type": "stream",
     "text": [
      "extract_think количество ошибок:  0\n",
      "extract_sql количество ошибок:  0\n",
      "Закончили генерацию SQL запросов\n",
      "Начали скорр полученных SQL запросов\n"
     ]
    },
    {
     "name": "stderr",
     "output_type": "stream",
     "text": [
      "\n"
     ]
    },
    {
     "name": "stdout",
     "output_type": "stream",
     "text": [
      "Qwen3-14B DEV Финальный результат EX: 58.67\n",
      "Qwen3-14B процент запросов, которые успешно выполнились DEV: 97.07%\n",
      "====================================================================================================\n",
      "\n",
      "\n",
      "Загружаем чаты с данными...\n",
      "Данные успешно загружены\n",
      "Начали генерацию SQL запросов\n"
     ]
    },
    {
     "name": "stderr",
     "output_type": "stream",
     "text": [
      "Processed prompts: 100%|██████████| 1534/1534 [01:41<00:00, 15.15it/s, est. speed input: 24910.90 toks/s, output: 774.09 toks/s] "
     ]
    },
    {
     "name": "stdout",
     "output_type": "stream",
     "text": [
      "extract_think количество ошибок:  0\n",
      "extract_sql количество ошибок:  0\n",
      "Закончили генерацию SQL запросов\n",
      "Начали скорр полученных SQL запросов\n"
     ]
    },
    {
     "name": "stderr",
     "output_type": "stream",
     "text": [
      "\n"
     ]
    },
    {
     "name": "stdout",
     "output_type": "stream",
     "text": [
      "Qwen3-14B DEV Финальный результат EX: 57.76\n",
      "Qwen3-14B процент запросов, которые успешно выполнились DEV: 96.94%\n",
      "====================================================================================================\n",
      "\n",
      "\n"
     ]
    }
   ],
   "source": [
    "run_cot_experiment(model,arr_seeds,arr_versions, type_cot,num_observations=num_observations)"
   ]
  },
  {
   "cell_type": "code",
   "execution_count": 23,
   "id": "8ae6563c-4ff4-406d-ac16-83ebfd6bc432",
   "metadata": {},
   "outputs": [
    {
     "name": "stdout",
     "output_type": "stream",
     "text": [
      "[137, 241, 462, 188, 294, 636, 854, 180, 868, 69, 396, 831, 649, 665, 514, 862, 186, 483, 314, 632]\n",
      "model: Qwen3-14B\n"
     ]
    }
   ],
   "source": [
    "n= 20\n",
    "arr_seeds = [random.randint(0,1000) for _ in range(n)]\n",
    "arr_versions = [x for x in range(n)]\n",
    "model = \"Qwen3-14B\"\n",
    "num_observations = 6\n",
    "type_cot = 'predict'\n",
    "print(arr_seeds)\n",
    "print(f\"model: {model}\")"
   ]
  },
  {
   "cell_type": "code",
   "execution_count": 24,
   "id": "5bb17664-8fd5-4e8f-84de-49f872c5aa4a",
   "metadata": {
    "scrolled": true
   },
   "outputs": [
    {
     "name": "stdout",
     "output_type": "stream",
     "text": [
      "Загружаем модель...\n"
     ]
    },
    {
     "name": "stderr",
     "output_type": "stream",
     "text": [
      "Loading safetensors checkpoint shards:   0% Completed | 0/8 [00:00<?, ?it/s]\n",
      "Loading safetensors checkpoint shards:  12% Completed | 1/8 [00:01<00:09,  1.37s/it]\n",
      "Loading safetensors checkpoint shards:  25% Completed | 2/8 [00:02<00:08,  1.44s/it]\n",
      "Loading safetensors checkpoint shards:  38% Completed | 3/8 [00:04<00:07,  1.41s/it]\n",
      "Loading safetensors checkpoint shards:  50% Completed | 4/8 [00:05<00:05,  1.40s/it]\n",
      "Loading safetensors checkpoint shards:  62% Completed | 5/8 [00:07<00:04,  1.39s/it]\n",
      "Loading safetensors checkpoint shards:  75% Completed | 6/8 [00:07<00:02,  1.19s/it]\n",
      "Loading safetensors checkpoint shards:  88% Completed | 7/8 [00:09<00:01,  1.27s/it]\n",
      "Loading safetensors checkpoint shards: 100% Completed | 8/8 [00:10<00:00,  1.33s/it]\n",
      "Loading safetensors checkpoint shards: 100% Completed | 8/8 [00:10<00:00,  1.34s/it]\n",
      "\u001b[1;36m(VllmWorker rank=0 pid=1008328)\u001b[0;0m \n"
     ]
    },
    {
     "name": "stdout",
     "output_type": "stream",
     "text": [
      "Модель успешно загружена\n",
      "model_config {'model': '/data/home/vkropoti/models/Qwen3-14B', 'tensor_parallel_size': 2, 'max_model_len': 40000, 'max_new_tokens': 1500, 'temperature': 0, 'top_k': 1, 'top_p': 0.8, 'gpu_memory_utilization': 0.9, 'trust_remote_code': False, 'seed': 137}\n",
      "\n",
      "prompts_config {'path_dev_json': '/home/vkropoti/vllm/dev.json', 'path_sql_dbs': '/data/home/vkropoti/sql_data/dev_databases/', 'use_reasoning': False, 'paths_to_cot': ['/data/home/vkropoti/sql_llm_answers/bird_dev/sql_predict_Qwen3-14B-reasoning-v0', '/data/home/vkropoti/sql_llm_answers/bird_dev/sql_predict_Qwen3-14B-reasoning-v1', '/data/home/vkropoti/sql_llm_answers/bird_dev/sql_predict_Qwen3-14B-reasoning-v2', '/data/home/vkropoti/sql_llm_answers/bird_dev/sql_predict_Qwen3-14B-reasoning-v3', '/data/home/vkropoti/sql_llm_answers/bird_dev/sql_predict_Qwen3-14B-reasoning-v4', '/data/home/vkropoti/sql_llm_answers/bird_dev/sql_predict_Qwen3-14B-reasoning-v5']}\n",
      "\n",
      "save_config {'path_sql_save': '/data/home/vkropoti/sql_llm_answers/bird_dev/sql_all_Qwen3-14B-cot_predict_think==False_nobs6-v0', 'path_think_save': None, 'path_sql_answers_save': '/data/home/vkropoti/sql_llm_answers/bird_dev/sql_predict_Qwen3-14B-cot_predict_think==False_nobs6-v0', 'path_to_save_scores': '/data/home/vkropoti/sql_llm_answers/bird_dev/sql_results_Qwen3-14B-cot_predict_think==False_nobs6-v0', 'path_to_save_executed': '/data/home/vkropoti/sql_llm_answers/bird_dev/sql_executed_Qwen3-14B-cot_predict_think==False_nobs6-v0'}\n",
      "\n",
      "Модель успешно загружена\n",
      "Пример промпта\n",
      "<|im_start|>system\n",
      "\n",
      "You are a data science expert. Below, you are provided with a database schema and a natural language question. Your task is to understand the schema and generate a valid SQL query to answer the question.\n",
      "\n",
      "Database Engine: SQLite\n",
      "\n",
      "You will be given an additional analysis of other models, please take it into account, so the plan is\n",
      "1. Analyse given addition analysis from other models (find in which analysis the same and differ, how to use that to answer question)\n",
      "2. Combine best from previous part and think how to solve the problem (analyze tables, take care what columns avaliable in each table and so on, check the syntacsis)\n",
      "3. Create the answers. The answer should be only sql query.\n",
      "\n",
      "Carefully follow the instruction and add <|im_end|> and the end of the final answer<|im_end|>\n",
      "<|im_start|>user\n",
      "Here is addition analysis from other models which can be helpfull, please take this into account but be careful (choose the best from each analysis, combine them to make the most proper answer):\n",
      "\n",
      "model 0 analysis:\n",
      " SELECT MAX(`Free Meal Count (K-12` / `Enrollment (K-12`) FROM frpm JOIN schools ON frpm.CDSCode = schools.CDSCode WHERE schools.County = 'Alameda';\n",
      "\n",
      "model 1 analysis:\n",
      " SELECT MAX(`Free Meal Count (K-12` / `Enrollment (K-12`) FROM frpm WHERE `County Name` = 'Alameda County';\n",
      "\n",
      "model 2 analysis:\n",
      " SELECT MAX(`Free Meal Count (K-12)` / `Enrollment (K-12)`) FROM frpm WHERE `County Name` = 'Alameda County';\n",
      "\n",
      "model 3 analysis:\n",
      " SELECT MAX(`Free Meal Count (K-12)` / `Enrollment (K-12)`) FROM frpm WHERE `County Name` = 'Alameda County';\n",
      "\n",
      "model 4 analysis:\n",
      " SELECT MAX(`Free Meal Count (K-12)` / `Enrollment (K-12)`) FROM frpm JOIN schools ON frpm.CDSCode = schools.CDSCode WHERE schools.County = 'Alameda';\n",
      "\n",
      "model 5 analysis:\n",
      " SELECT MAX(`Free Meal Count (K-12)` / `Enrollment (K-12)`) FROM frpm JOIN schools ON frpm.CDSCode = schools.CDSCode WHERE schools.County = 'Alameda';\n",
      "\n",
      "\n",
      "here is avaliable tables below\n",
      "\n",
      "\n",
      "Table: frpm\n",
      "CREATE TABLE frpm\n",
      "(\n",
      "    CDSCode                                       TEXT not null\n",
      "        primary key,\n",
      "    `Academic Year`                               TEXT  null,\n",
      "    `County Code`                                 TEXT  null,\n",
      "    `District Code`                               INTEGER         null,\n",
      "    `School Code`                                 TEXT  null,\n",
      "    `County Name`                                 TEXT null,\n",
      "    `District Name`                               TEXT null,\n",
      "    `School Name`                                 TEXT null,\n",
      "    `District Type`                               TEXT null,\n",
      "    `School Type`                                 TEXT null,\n",
      "    `Educational Option Type`                     TEXT null,\n",
      "    `NSLP Provision Status`                       TEXT null,\n",
      "    `Charter School (Y/N)`                        INTEGER    null,\n",
      "    `Charter School Number`                       TEXT  null,\n",
      "    `Charter Funding Type`                        TEXT null,\n",
      "    IRC                                           INTEGER    null,\n",
      "    `Low Grade`                                   TEXT  null,\n",
      "    `High Grade`                                  TEXT null,\n",
      "    `Enrollment (K-12)`                           REAL      null,\n",
      "    `Free Meal Count (K-12)`                      REAL       null,\n",
      "    `Percent (%) Eligible Free (K-12)`            REAL       null,\n",
      "    `FRPM Count (K-12)`                           REAL       null,\n",
      "    `Percent (%) Eligible FRPM (K-12)`            REAL       null,\n",
      "    `Enrollment (Ages 5-17)`                      REAL       null,\n",
      "    `Free Meal Count (Ages 5-17)`                 REAL       null,\n",
      "    `Percent (%) Eligible Free (Ages 5-17)`       REAL       null,\n",
      "    `FRPM Count (Ages 5-17)`                      REAL       null,\n",
      "    `Percent (%) Eligible FRPM (Ages 5-17)`       REAL       null,\n",
      "    `2013-14 CALPADS Fall 1 Certification Status` INTEGER    null,\n",
      "    foreign key (CDSCode) references schools (CDSCode)\n",
      ")\n",
      "\n",
      "Table: satscores\n",
      "CREATE TABLE satscores\n",
      "(\n",
      "    cds         TEXT not null\n",
      "        primary key,\n",
      "    rtype       TEXT  not null,\n",
      "    sname       TEXT null,\n",
      "    dname       TEXT null,\n",
      "    cname       TEXT null,\n",
      "    enroll12    INTEGER         not null,\n",
      "    NumTstTakr  INTEGER          not null,\n",
      "    AvgScrRead  INTEGER          null,\n",
      "    AvgScrMath  INTEGER          null,\n",
      "    AvgScrWrite INTEGER          null,\n",
      "    NumGE1500   INTEGER          null,\n",
      "--     PctGE1500   double      null,\n",
      "        foreign key (cds) references schools (CDSCode)\n",
      ")\n",
      "\n",
      "Table: schools\n",
      "CREATE TABLE schools\n",
      "(\n",
      "    CDSCode     TEXT not null\n",
      "        primary key,\n",
      "    NCESDist    TEXT  null,\n",
      "    NCESSchool  TEXT  null,\n",
      "    StatusType  TEXT  not null,\n",
      "    County      TEXT not null,\n",
      "    District    TEXT not null,\n",
      "    School      TEXT null,\n",
      "    Street      TEXT null,\n",
      "    StreetAbr   TEXT null,\n",
      "    City        TEXT null,\n",
      "    Zip         TEXT null,\n",
      "    State       TEXT  null,\n",
      "    MailStreet  TEXT null,\n",
      "    MailStrAbr  TEXT null,\n",
      "    MailCity    TEXT null,\n",
      "    MailZip     TEXT null,\n",
      "    MailState   TEXT  null,\n",
      "    Phone       TEXT null,\n",
      "    Ext         TEXT  null,\n",
      "    Website     TEXT null,\n",
      "    OpenDate    DATE        null,\n",
      "    ClosedDate  DATE        null,\n",
      "    Charter     INTEGER    null,\n",
      "    CharterNum  TEXT  null,\n",
      "    FundingType TEXT null,\n",
      "    DOC         TEXT  not null,\n",
      "    DOCType     TEXT not null,\n",
      "    SOC         TEXT  null,\n",
      "    SOCType     TEXT null,\n",
      "    EdOpsCode   TEXT  null,\n",
      "    EdOpsName   TEXT null,\n",
      "    EILCode     TEXT  null,\n",
      "    EILName     TEXT null,\n",
      "    GSoffered   TEXT null,\n",
      "    GSserved    TEXT  null,\n",
      "    Virtual     TEXT  null,\n",
      "    Magnet      INTEGER   null,\n",
      "    Latitude    REAL      null,\n",
      "    Longitude   REAL      null,\n",
      "    AdmFName1   TEXT null,\n",
      "    AdmLName1   TEXT null,\n",
      "    AdmEmail1   TEXT null,\n",
      "    AdmFName2   TEXT null,\n",
      "    AdmLName2   TEXT null,\n",
      "    AdmEmail2   TEXT null,\n",
      "    AdmFName3   TEXT  null,\n",
      "    AdmLName3   TEXT null,\n",
      "    AdmEmail3   TEXT null,\n",
      "    LastUpdate  DATE        not null\n",
      ")\n",
      "\n",
      "-- Using valid SQLite and understanding External Knowledge, answer the following questions for the tables provided above.\n",
      "-- What is the highest eligible free rate for K-12 students in the schools in Alameda County?\n",
      "-- External Knowledge: Eligible free rate for K-12 = `Free Meal Count (K-12)` / `Enrollment (K-12)`\n",
      "\n",
      "\n",
      "Generate the SQLite for the above question after thinking step by step: \n",
      "\n",
      "\n",
      "Instructions:\n",
      "- Make sure you only output the information that is asked in the question. If the question asks for a specific column, make sure to only include that column in the SELECT clause, nothing more.\n",
      "- The generated query should return all of the information asked in the question without any missing or extra information.\n",
      "- Before generating the final SQL query, please think through the steps of how to write the query.\n",
      "- Do not misuse column names, keep them in quotes `\n",
      "- Carefully understand what colomns belond to what tables\n",
      "- Use only initial column names, change names prohibited\n",
      "        \n",
      "Output Format:\n",
      "In your answer, please enclose the generated SQL query in a code block:\n",
      "```\n",
      "-- Your SQL query\n",
      "```    \n",
      "and nothing else, no exaplains, no comments (asnwer should be less than 512 characters)\n",
      "\n",
      "Take a deep breath and think step by step to find the correct SQL query in SQLite format.\n",
      "\n",
      "Question repetition: What is the highest eligible free rate for K-12 students in the schools in Alameda County?\n",
      "\n",
      "Be care! Include only what i want it questiona and nothing else<|im_end|>\n",
      "<|im_start|>assistant\n",
      "<think>\n",
      "\n",
      "</think>\n",
      "\n",
      "\n",
      "\n",
      "\n",
      "Максимальное количество токенов в промптах: 5142\n",
      "\n",
      "начинаем скорринг\n",
      "Загружаем чаты с данными...\n",
      "Данные успешно загружены\n",
      "Начали генерацию SQL запросов\n"
     ]
    },
    {
     "name": "stderr",
     "output_type": "stream",
     "text": [
      "Processed prompts: 100%|██████████| 1534/1534 [01:49<00:00, 14.06it/s, est. speed input: 23871.87 toks/s, output: 729.91 toks/s] "
     ]
    },
    {
     "name": "stdout",
     "output_type": "stream",
     "text": [
      "extract_think количество ошибок:  0\n",
      "extract_sql количество ошибок:  0\n",
      "Закончили генерацию SQL запросов\n",
      "Начали скорр полученных SQL запросов\n"
     ]
    },
    {
     "name": "stderr",
     "output_type": "stream",
     "text": [
      "\n"
     ]
    },
    {
     "name": "stdout",
     "output_type": "stream",
     "text": [
      "Qwen3-14B DEV Финальный результат EX: 57.43\n",
      "Qwen3-14B процент запросов, которые успешно выполнились DEV: 96.68%\n",
      "====================================================================================================\n",
      "\n",
      "\n",
      "Загружаем чаты с данными...\n",
      "Данные успешно загружены\n",
      "Начали генерацию SQL запросов\n"
     ]
    },
    {
     "name": "stderr",
     "output_type": "stream",
     "text": [
      "Processed prompts: 100%|██████████| 1534/1534 [01:50<00:00, 13.84it/s, est. speed input: 23485.20 toks/s, output: 714.68 toks/s] "
     ]
    },
    {
     "name": "stdout",
     "output_type": "stream",
     "text": [
      "extract_think количество ошибок:  0\n",
      "extract_sql количество ошибок:  0\n",
      "Закончили генерацию SQL запросов\n",
      "Начали скорр полученных SQL запросов\n"
     ]
    },
    {
     "name": "stderr",
     "output_type": "stream",
     "text": [
      "\n"
     ]
    },
    {
     "name": "stdout",
     "output_type": "stream",
     "text": [
      "Qwen3-14B DEV Финальный результат EX: 57.82\n",
      "Qwen3-14B процент запросов, которые успешно выполнились DEV: 96.81%\n",
      "====================================================================================================\n",
      "\n",
      "\n",
      "Загружаем чаты с данными...\n",
      "Данные успешно загружены\n",
      "Начали генерацию SQL запросов\n"
     ]
    },
    {
     "name": "stderr",
     "output_type": "stream",
     "text": [
      "Processed prompts: 100%|██████████| 1534/1534 [01:44<00:00, 14.63it/s, est. speed input: 24836.98 toks/s, output: 747.18 toks/s] "
     ]
    },
    {
     "name": "stdout",
     "output_type": "stream",
     "text": [
      "extract_think количество ошибок:  0\n",
      "extract_sql количество ошибок:  0\n",
      "Закончили генерацию SQL запросов\n",
      "Начали скорр полученных SQL запросов\n"
     ]
    },
    {
     "name": "stderr",
     "output_type": "stream",
     "text": [
      "\n"
     ]
    },
    {
     "name": "stdout",
     "output_type": "stream",
     "text": [
      "Qwen3-14B DEV Финальный результат EX: 57.76\n",
      "Qwen3-14B процент запросов, которые успешно выполнились DEV: 96.54%\n",
      "====================================================================================================\n",
      "\n",
      "\n",
      "Загружаем чаты с данными...\n",
      "Данные успешно загружены\n",
      "Начали генерацию SQL запросов\n"
     ]
    },
    {
     "name": "stderr",
     "output_type": "stream",
     "text": [
      "Processed prompts: 100%|██████████| 1534/1534 [01:50<00:00, 13.86it/s, est. speed input: 23535.41 toks/s, output: 719.32 toks/s] "
     ]
    },
    {
     "name": "stdout",
     "output_type": "stream",
     "text": [
      "extract_think количество ошибок:  0\n",
      "extract_sql количество ошибок:  0\n",
      "Закончили генерацию SQL запросов\n",
      "Начали скорр полученных SQL запросов\n"
     ]
    },
    {
     "name": "stderr",
     "output_type": "stream",
     "text": [
      "\n"
     ]
    },
    {
     "name": "stdout",
     "output_type": "stream",
     "text": [
      "Qwen3-14B DEV Финальный результат EX: 57.76\n",
      "Qwen3-14B процент запросов, которые успешно выполнились DEV: 96.28%\n",
      "====================================================================================================\n",
      "\n",
      "\n",
      "Загружаем чаты с данными...\n",
      "Данные успешно загружены\n",
      "Начали генерацию SQL запросов\n"
     ]
    },
    {
     "name": "stderr",
     "output_type": "stream",
     "text": [
      "Processed prompts: 100%|██████████| 1534/1534 [01:49<00:00, 13.96it/s, est. speed input: 23717.85 toks/s, output: 726.83 toks/s] "
     ]
    },
    {
     "name": "stdout",
     "output_type": "stream",
     "text": [
      "extract_think количество ошибок:  0\n",
      "extract_sql количество ошибок:  0\n",
      "Закончили генерацию SQL запросов\n",
      "Начали скорр полученных SQL запросов\n"
     ]
    },
    {
     "name": "stderr",
     "output_type": "stream",
     "text": [
      "\n"
     ]
    },
    {
     "name": "stdout",
     "output_type": "stream",
     "text": [
      "Qwen3-14B DEV Финальный результат EX: 57.69\n",
      "Qwen3-14B процент запросов, которые успешно выполнились DEV: 96.61%\n",
      "====================================================================================================\n",
      "\n",
      "\n",
      "Загружаем чаты с данными...\n",
      "Данные успешно загружены\n",
      "Начали генерацию SQL запросов\n"
     ]
    },
    {
     "name": "stderr",
     "output_type": "stream",
     "text": [
      "Processed prompts: 100%|██████████| 1534/1534 [01:50<00:00, 13.90it/s, est. speed input: 23606.70 toks/s, output: 722.29 toks/s] "
     ]
    },
    {
     "name": "stdout",
     "output_type": "stream",
     "text": [
      "extract_think количество ошибок:  0\n",
      "extract_sql количество ошибок:  0\n",
      "Закончили генерацию SQL запросов\n",
      "Начали скорр полученных SQL запросов\n"
     ]
    },
    {
     "name": "stderr",
     "output_type": "stream",
     "text": [
      "\n"
     ]
    },
    {
     "name": "stdout",
     "output_type": "stream",
     "text": [
      "Qwen3-14B DEV Финальный результат EX: 57.56\n",
      "Qwen3-14B процент запросов, которые успешно выполнились DEV: 96.54%\n",
      "====================================================================================================\n",
      "\n",
      "\n",
      "Загружаем чаты с данными...\n",
      "Данные успешно загружены\n",
      "Начали генерацию SQL запросов\n"
     ]
    },
    {
     "name": "stderr",
     "output_type": "stream",
     "text": [
      "Processed prompts: 100%|██████████| 1534/1534 [01:50<00:00, 13.83it/s, est. speed input: 23478.17 toks/s, output: 715.38 toks/s] "
     ]
    },
    {
     "name": "stdout",
     "output_type": "stream",
     "text": [
      "extract_think количество ошибок:  0\n",
      "extract_sql количество ошибок:  0\n",
      "Закончили генерацию SQL запросов\n",
      "Начали скорр полученных SQL запросов\n"
     ]
    },
    {
     "name": "stderr",
     "output_type": "stream",
     "text": [
      "\n"
     ]
    },
    {
     "name": "stdout",
     "output_type": "stream",
     "text": [
      "Qwen3-14B DEV Финальный результат EX: 57.43\n",
      "Qwen3-14B процент запросов, которые успешно выполнились DEV: 96.74%\n",
      "====================================================================================================\n",
      "\n",
      "\n",
      "Загружаем чаты с данными...\n",
      "Данные успешно загружены\n",
      "Начали генерацию SQL запросов\n"
     ]
    },
    {
     "name": "stderr",
     "output_type": "stream",
     "text": [
      "Processed prompts: 100%|██████████| 1534/1534 [01:49<00:00, 13.96it/s, est. speed input: 23712.73 toks/s, output: 717.47 toks/s] "
     ]
    },
    {
     "name": "stdout",
     "output_type": "stream",
     "text": [
      "extract_think количество ошибок:  0\n",
      "extract_sql количество ошибок:  0\n",
      "Закончили генерацию SQL запросов\n",
      "Начали скорр полученных SQL запросов\n"
     ]
    },
    {
     "name": "stderr",
     "output_type": "stream",
     "text": [
      "\n"
     ]
    },
    {
     "name": "stdout",
     "output_type": "stream",
     "text": [
      "Qwen3-14B DEV Финальный результат EX: 58.28\n",
      "Qwen3-14B процент запросов, которые успешно выполнились DEV: 96.74%\n",
      "====================================================================================================\n",
      "\n",
      "\n",
      "Загружаем чаты с данными...\n",
      "Данные успешно загружены\n",
      "Начали генерацию SQL запросов\n"
     ]
    },
    {
     "name": "stderr",
     "output_type": "stream",
     "text": [
      "Processed prompts: 100%|██████████| 1534/1534 [01:42<00:00, 14.89it/s, est. speed input: 25295.18 toks/s, output: 756.26 toks/s] "
     ]
    },
    {
     "name": "stdout",
     "output_type": "stream",
     "text": [
      "extract_think количество ошибок:  0\n",
      "extract_sql количество ошибок:  0\n",
      "Закончили генерацию SQL запросов\n",
      "Начали скорр полученных SQL запросов\n"
     ]
    },
    {
     "name": "stderr",
     "output_type": "stream",
     "text": [
      "\n"
     ]
    },
    {
     "name": "stdout",
     "output_type": "stream",
     "text": [
      "Qwen3-14B DEV Финальный результат EX: 58.21\n",
      "Qwen3-14B процент запросов, которые успешно выполнились DEV: 96.94%\n",
      "====================================================================================================\n",
      "\n",
      "\n",
      "Загружаем чаты с данными...\n",
      "Данные успешно загружены\n",
      "Начали генерацию SQL запросов\n"
     ]
    },
    {
     "name": "stderr",
     "output_type": "stream",
     "text": [
      "Processed prompts: 100%|██████████| 1534/1534 [01:47<00:00, 14.33it/s, est. speed input: 24303.05 toks/s, output: 733.25 toks/s] "
     ]
    },
    {
     "name": "stdout",
     "output_type": "stream",
     "text": [
      "extract_think количество ошибок:  0\n",
      "extract_sql количество ошибок:  0\n",
      "Закончили генерацию SQL запросов\n",
      "Начали скорр полученных SQL запросов\n"
     ]
    },
    {
     "name": "stderr",
     "output_type": "stream",
     "text": [
      "\n"
     ]
    },
    {
     "name": "stdout",
     "output_type": "stream",
     "text": [
      "Qwen3-14B DEV Финальный результат EX: 58.08\n",
      "Qwen3-14B процент запросов, которые успешно выполнились DEV: 96.81%\n",
      "====================================================================================================\n",
      "\n",
      "\n",
      "Загружаем чаты с данными...\n",
      "Данные успешно загружены\n",
      "Начали генерацию SQL запросов\n"
     ]
    },
    {
     "name": "stderr",
     "output_type": "stream",
     "text": [
      "Processed prompts: 100%|██████████| 1534/1534 [01:44<00:00, 14.73it/s, est. speed input: 24964.69 toks/s, output: 747.06 toks/s] "
     ]
    },
    {
     "name": "stdout",
     "output_type": "stream",
     "text": [
      "extract_think количество ошибок:  0\n",
      "extract_sql количество ошибок:  0\n",
      "Закончили генерацию SQL запросов\n",
      "Начали скорр полученных SQL запросов\n"
     ]
    },
    {
     "name": "stderr",
     "output_type": "stream",
     "text": [
      "\n"
     ]
    },
    {
     "name": "stdout",
     "output_type": "stream",
     "text": [
      "Qwen3-14B DEV Финальный результат EX: 57.89\n",
      "Qwen3-14B процент запросов, которые успешно выполнились DEV: 96.68%\n",
      "====================================================================================================\n",
      "\n",
      "\n",
      "Загружаем чаты с данными...\n",
      "Данные успешно загружены\n",
      "Начали генерацию SQL запросов\n"
     ]
    },
    {
     "name": "stderr",
     "output_type": "stream",
     "text": [
      "Processed prompts: 100%|██████████| 1534/1534 [01:47<00:00, 14.30it/s, est. speed input: 24224.05 toks/s, output: 724.65 toks/s] "
     ]
    },
    {
     "name": "stdout",
     "output_type": "stream",
     "text": [
      "extract_think количество ошибок:  0\n",
      "extract_sql количество ошибок:  0\n",
      "Закончили генерацию SQL запросов\n",
      "Начали скорр полученных SQL запросов\n"
     ]
    },
    {
     "name": "stderr",
     "output_type": "stream",
     "text": [
      "\n"
     ]
    },
    {
     "name": "stdout",
     "output_type": "stream",
     "text": [
      "Qwen3-14B DEV Финальный результат EX: 58.15\n",
      "Qwen3-14B процент запросов, которые успешно выполнились DEV: 96.94%\n",
      "====================================================================================================\n",
      "\n",
      "\n",
      "Загружаем чаты с данными...\n",
      "Данные успешно загружены\n",
      "Начали генерацию SQL запросов\n"
     ]
    },
    {
     "name": "stderr",
     "output_type": "stream",
     "text": [
      "Processed prompts: 100%|██████████| 1534/1534 [01:48<00:00, 14.08it/s, est. speed input: 23857.44 toks/s, output: 719.86 toks/s] "
     ]
    },
    {
     "name": "stdout",
     "output_type": "stream",
     "text": [
      "extract_think количество ошибок:  0\n",
      "extract_sql количество ошибок:  0\n",
      "Закончили генерацию SQL запросов\n",
      "Начали скорр полученных SQL запросов\n"
     ]
    },
    {
     "name": "stderr",
     "output_type": "stream",
     "text": [
      "\n"
     ]
    },
    {
     "name": "stdout",
     "output_type": "stream",
     "text": [
      "Qwen3-14B DEV Финальный результат EX: 58.80\n",
      "Qwen3-14B процент запросов, которые успешно выполнились DEV: 96.74%\n",
      "====================================================================================================\n",
      "\n",
      "\n",
      "Загружаем чаты с данными...\n",
      "Данные успешно загружены\n",
      "Начали генерацию SQL запросов\n"
     ]
    },
    {
     "name": "stderr",
     "output_type": "stream",
     "text": [
      "Processed prompts: 100%|██████████| 1534/1534 [01:48<00:00, 14.10it/s, est. speed input: 23879.85 toks/s, output: 721.46 toks/s] "
     ]
    },
    {
     "name": "stdout",
     "output_type": "stream",
     "text": [
      "extract_think количество ошибок:  0\n",
      "extract_sql количество ошибок:  0\n",
      "Закончили генерацию SQL запросов\n",
      "Начали скорр полученных SQL запросов\n"
     ]
    },
    {
     "name": "stderr",
     "output_type": "stream",
     "text": [
      "\n"
     ]
    },
    {
     "name": "stdout",
     "output_type": "stream",
     "text": [
      "Qwen3-14B DEV Финальный результат EX: 58.21\n",
      "Qwen3-14B процент запросов, которые успешно выполнились DEV: 96.87%\n",
      "====================================================================================================\n",
      "\n",
      "\n",
      "Загружаем чаты с данными...\n",
      "Данные успешно загружены\n",
      "Начали генерацию SQL запросов\n"
     ]
    },
    {
     "name": "stderr",
     "output_type": "stream",
     "text": [
      "Processed prompts: 100%|██████████| 1534/1534 [01:48<00:00, 14.15it/s, est. speed input: 23951.48 toks/s, output: 730.98 toks/s] "
     ]
    },
    {
     "name": "stdout",
     "output_type": "stream",
     "text": [
      "extract_think количество ошибок:  0\n",
      "extract_sql количество ошибок:  0\n",
      "Закончили генерацию SQL запросов\n",
      "Начали скорр полученных SQL запросов\n"
     ]
    },
    {
     "name": "stderr",
     "output_type": "stream",
     "text": [
      "\n"
     ]
    },
    {
     "name": "stdout",
     "output_type": "stream",
     "text": [
      "Qwen3-14B DEV Финальный результат EX: 58.21\n",
      "Qwen3-14B процент запросов, которые успешно выполнились DEV: 96.61%\n",
      "====================================================================================================\n",
      "\n",
      "\n",
      "Загружаем чаты с данными...\n",
      "Данные успешно загружены\n",
      "Начали генерацию SQL запросов\n"
     ]
    },
    {
     "name": "stderr",
     "output_type": "stream",
     "text": [
      "Processed prompts: 100%|██████████| 1534/1534 [01:49<00:00, 14.03it/s, est. speed input: 23788.45 toks/s, output: 721.50 toks/s] "
     ]
    },
    {
     "name": "stdout",
     "output_type": "stream",
     "text": [
      "extract_think количество ошибок:  0\n",
      "extract_sql количество ошибок:  0\n",
      "Закончили генерацию SQL запросов\n",
      "Начали скорр полученных SQL запросов\n"
     ]
    },
    {
     "name": "stderr",
     "output_type": "stream",
     "text": [
      "\n"
     ]
    },
    {
     "name": "stdout",
     "output_type": "stream",
     "text": [
      "Qwen3-14B DEV Финальный результат EX: 58.28\n",
      "Qwen3-14B процент запросов, которые успешно выполнились DEV: 96.48%\n",
      "====================================================================================================\n",
      "\n",
      "\n",
      "Загружаем чаты с данными...\n",
      "Данные успешно загружены\n",
      "Начали генерацию SQL запросов\n"
     ]
    },
    {
     "name": "stderr",
     "output_type": "stream",
     "text": [
      "Processed prompts: 100%|██████████| 1534/1534 [01:47<00:00, 14.33it/s, est. speed input: 24323.90 toks/s, output: 740.53 toks/s] "
     ]
    },
    {
     "name": "stdout",
     "output_type": "stream",
     "text": [
      "extract_think количество ошибок:  0\n",
      "extract_sql количество ошибок:  0\n",
      "Закончили генерацию SQL запросов\n",
      "Начали скорр полученных SQL запросов\n"
     ]
    },
    {
     "name": "stderr",
     "output_type": "stream",
     "text": [
      "\n"
     ]
    },
    {
     "name": "stdout",
     "output_type": "stream",
     "text": [
      "Qwen3-14B DEV Финальный результат EX: 58.60\n",
      "Qwen3-14B процент запросов, которые успешно выполнились DEV: 96.94%\n",
      "====================================================================================================\n",
      "\n",
      "\n",
      "Загружаем чаты с данными...\n",
      "Данные успешно загружены\n",
      "Начали генерацию SQL запросов\n"
     ]
    },
    {
     "name": "stderr",
     "output_type": "stream",
     "text": [
      "Processed prompts: 100%|██████████| 1534/1534 [01:45<00:00, 14.53it/s, est. speed input: 24657.22 toks/s, output: 737.28 toks/s] "
     ]
    },
    {
     "name": "stdout",
     "output_type": "stream",
     "text": [
      "extract_think количество ошибок:  0\n",
      "extract_sql количество ошибок:  0\n",
      "Закончили генерацию SQL запросов\n",
      "Начали скорр полученных SQL запросов\n"
     ]
    },
    {
     "name": "stderr",
     "output_type": "stream",
     "text": [
      "\n"
     ]
    },
    {
     "name": "stdout",
     "output_type": "stream",
     "text": [
      "Qwen3-14B DEV Финальный результат EX: 58.02\n",
      "Qwen3-14B процент запросов, которые успешно выполнились DEV: 96.94%\n",
      "====================================================================================================\n",
      "\n",
      "\n",
      "Загружаем чаты с данными...\n",
      "Данные успешно загружены\n",
      "Начали генерацию SQL запросов\n"
     ]
    },
    {
     "name": "stderr",
     "output_type": "stream",
     "text": [
      "Processed prompts: 100%|██████████| 1534/1534 [01:49<00:00, 13.99it/s, est. speed input: 23729.60 toks/s, output: 723.88 toks/s] "
     ]
    },
    {
     "name": "stdout",
     "output_type": "stream",
     "text": [
      "extract_think количество ошибок:  0\n",
      "extract_sql количество ошибок:  0\n",
      "Закончили генерацию SQL запросов\n",
      "Начали скорр полученных SQL запросов\n"
     ]
    },
    {
     "name": "stderr",
     "output_type": "stream",
     "text": [
      "\n"
     ]
    },
    {
     "name": "stdout",
     "output_type": "stream",
     "text": [
      "Qwen3-14B DEV Финальный результат EX: 58.15\n",
      "Qwen3-14B процент запросов, которые успешно выполнились DEV: 96.94%\n",
      "====================================================================================================\n",
      "\n",
      "\n",
      "Загружаем чаты с данными...\n",
      "Данные успешно загружены\n",
      "Начали генерацию SQL запросов\n"
     ]
    },
    {
     "name": "stderr",
     "output_type": "stream",
     "text": [
      "Processed prompts: 100%|██████████| 1534/1534 [01:49<00:00, 13.98it/s, est. speed input: 23730.96 toks/s, output: 724.33 toks/s] "
     ]
    },
    {
     "name": "stdout",
     "output_type": "stream",
     "text": [
      "extract_think количество ошибок:  0\n",
      "extract_sql количество ошибок:  0\n",
      "Закончили генерацию SQL запросов\n",
      "Начали скорр полученных SQL запросов\n"
     ]
    },
    {
     "name": "stderr",
     "output_type": "stream",
     "text": [
      "\n"
     ]
    },
    {
     "name": "stdout",
     "output_type": "stream",
     "text": [
      "Qwen3-14B DEV Финальный результат EX: 58.02\n",
      "Qwen3-14B процент запросов, которые успешно выполнились DEV: 96.74%\n",
      "====================================================================================================\n",
      "\n",
      "\n"
     ]
    }
   ],
   "source": [
    "run_cot_experiment(model,arr_seeds,arr_versions, type_cot,num_observations=num_observations)"
   ]
  },
  {
   "cell_type": "code",
   "execution_count": 25,
   "id": "a94cd47b-49f8-474e-b88d-fe0c14ff3e2e",
   "metadata": {},
   "outputs": [
    {
     "name": "stdout",
     "output_type": "stream",
     "text": [
      "[113, 296, 43, 380, 137, 527, 791, 904, 900, 979, 14, 392, 968, 746, 912, 989, 517, 812, 118, 228]\n",
      "model: Qwen3-14B\n"
     ]
    }
   ],
   "source": [
    "n= 20\n",
    "arr_seeds = [random.randint(0,1000) for _ in range(n)]\n",
    "arr_versions = [x for x in range(n)]\n",
    "model = \"Qwen3-14B\"\n",
    "num_observations = 7\n",
    "type_cot = 'predict'\n",
    "print(arr_seeds)\n",
    "print(f\"model: {model}\")"
   ]
  },
  {
   "cell_type": "code",
   "execution_count": 26,
   "id": "91c21ffa-aee2-4dba-abad-52c7011ded7d",
   "metadata": {
    "scrolled": true
   },
   "outputs": [
    {
     "name": "stdout",
     "output_type": "stream",
     "text": [
      "Загружаем модель...\n"
     ]
    },
    {
     "name": "stderr",
     "output_type": "stream",
     "text": [
      "Loading safetensors checkpoint shards:   0% Completed | 0/8 [00:00<?, ?it/s]\n",
      "Loading safetensors checkpoint shards:  12% Completed | 1/8 [00:01<00:09,  1.41s/it]\n",
      "Loading safetensors checkpoint shards:  25% Completed | 2/8 [00:02<00:08,  1.45s/it]\n",
      "Loading safetensors checkpoint shards:  38% Completed | 3/8 [00:04<00:07,  1.47s/it]\n",
      "Loading safetensors checkpoint shards:  50% Completed | 4/8 [00:05<00:05,  1.48s/it]\n",
      "Loading safetensors checkpoint shards:  62% Completed | 5/8 [00:07<00:04,  1.46s/it]\n",
      "Loading safetensors checkpoint shards:  75% Completed | 6/8 [00:08<00:02,  1.22s/it]\n",
      "Loading safetensors checkpoint shards:  88% Completed | 7/8 [00:09<00:01,  1.29s/it]\n",
      "Loading safetensors checkpoint shards: 100% Completed | 8/8 [00:10<00:00,  1.34s/it]\n",
      "Loading safetensors checkpoint shards: 100% Completed | 8/8 [00:10<00:00,  1.37s/it]\n",
      "\u001b[1;36m(VllmWorker rank=0 pid=1050594)\u001b[0;0m \n"
     ]
    },
    {
     "name": "stdout",
     "output_type": "stream",
     "text": [
      "Модель успешно загружена\n",
      "model_config {'model': '/data/home/vkropoti/models/Qwen3-14B', 'tensor_parallel_size': 2, 'max_model_len': 40000, 'max_new_tokens': 1500, 'temperature': 0, 'top_k': 1, 'top_p': 0.8, 'gpu_memory_utilization': 0.9, 'trust_remote_code': False, 'seed': 113}\n",
      "\n",
      "prompts_config {'path_dev_json': '/home/vkropoti/vllm/dev.json', 'path_sql_dbs': '/data/home/vkropoti/sql_data/dev_databases/', 'use_reasoning': False, 'paths_to_cot': ['/data/home/vkropoti/sql_llm_answers/bird_dev/sql_predict_Qwen3-14B-reasoning-v0', '/data/home/vkropoti/sql_llm_answers/bird_dev/sql_predict_Qwen3-14B-reasoning-v1', '/data/home/vkropoti/sql_llm_answers/bird_dev/sql_predict_Qwen3-14B-reasoning-v2', '/data/home/vkropoti/sql_llm_answers/bird_dev/sql_predict_Qwen3-14B-reasoning-v3', '/data/home/vkropoti/sql_llm_answers/bird_dev/sql_predict_Qwen3-14B-reasoning-v4', '/data/home/vkropoti/sql_llm_answers/bird_dev/sql_predict_Qwen3-14B-reasoning-v5', '/data/home/vkropoti/sql_llm_answers/bird_dev/sql_predict_Qwen3-14B-reasoning-v6']}\n",
      "\n",
      "save_config {'path_sql_save': '/data/home/vkropoti/sql_llm_answers/bird_dev/sql_all_Qwen3-14B-cot_predict_think==False_nobs7-v0', 'path_think_save': None, 'path_sql_answers_save': '/data/home/vkropoti/sql_llm_answers/bird_dev/sql_predict_Qwen3-14B-cot_predict_think==False_nobs7-v0', 'path_to_save_scores': '/data/home/vkropoti/sql_llm_answers/bird_dev/sql_results_Qwen3-14B-cot_predict_think==False_nobs7-v0', 'path_to_save_executed': '/data/home/vkropoti/sql_llm_answers/bird_dev/sql_executed_Qwen3-14B-cot_predict_think==False_nobs7-v0'}\n",
      "\n",
      "Модель успешно загружена\n",
      "Пример промпта\n",
      "<|im_start|>system\n",
      "\n",
      "You are a data science expert. Below, you are provided with a database schema and a natural language question. Your task is to understand the schema and generate a valid SQL query to answer the question.\n",
      "\n",
      "Database Engine: SQLite\n",
      "\n",
      "You will be given an additional analysis of other models, please take it into account, so the plan is\n",
      "1. Analyse given addition analysis from other models (find in which analysis the same and differ, how to use that to answer question)\n",
      "2. Combine best from previous part and think how to solve the problem (analyze tables, take care what columns avaliable in each table and so on, check the syntacsis)\n",
      "3. Create the answers. The answer should be only sql query.\n",
      "\n",
      "Carefully follow the instruction and add <|im_end|> and the end of the final answer<|im_end|>\n",
      "<|im_start|>user\n",
      "Here is addition analysis from other models which can be helpfull, please take this into account but be careful (choose the best from each analysis, combine them to make the most proper answer):\n",
      "\n",
      "model 0 analysis:\n",
      " SELECT MAX(`Free Meal Count (K-12` / `Enrollment (K-12`) FROM frpm JOIN schools ON frpm.CDSCode = schools.CDSCode WHERE schools.County = 'Alameda';\n",
      "\n",
      "model 1 analysis:\n",
      " SELECT MAX(`Free Meal Count (K-12` / `Enrollment (K-12`) FROM frpm WHERE `County Name` = 'Alameda County';\n",
      "\n",
      "model 2 analysis:\n",
      " SELECT MAX(`Free Meal Count (K-12)` / `Enrollment (K-12)`) FROM frpm WHERE `County Name` = 'Alameda County';\n",
      "\n",
      "model 3 analysis:\n",
      " SELECT MAX(`Free Meal Count (K-12)` / `Enrollment (K-12)`) FROM frpm WHERE `County Name` = 'Alameda County';\n",
      "\n",
      "model 4 analysis:\n",
      " SELECT MAX(`Free Meal Count (K-12)` / `Enrollment (K-12)`) FROM frpm JOIN schools ON frpm.CDSCode = schools.CDSCode WHERE schools.County = 'Alameda';\n",
      "\n",
      "model 5 analysis:\n",
      " SELECT MAX(`Free Meal Count (K-12)` / `Enrollment (K-12)`) FROM frpm JOIN schools ON frpm.CDSCode = schools.CDSCode WHERE schools.County = 'Alameda';\n",
      "\n",
      "model 6 analysis:\n",
      " SELECT MAX(`Free Meal Count (K-12` / `Enrollment (K-12`) FROM frpm JOIN schools ON frpm.CDSCode = schools.CDSCode WHERE schools.County = 'Alameda County';\n",
      "\n",
      "\n",
      "here is avaliable tables below\n",
      "\n",
      "\n",
      "Table: frpm\n",
      "CREATE TABLE frpm\n",
      "(\n",
      "    CDSCode                                       TEXT not null\n",
      "        primary key,\n",
      "    `Academic Year`                               TEXT  null,\n",
      "    `County Code`                                 TEXT  null,\n",
      "    `District Code`                               INTEGER         null,\n",
      "    `School Code`                                 TEXT  null,\n",
      "    `County Name`                                 TEXT null,\n",
      "    `District Name`                               TEXT null,\n",
      "    `School Name`                                 TEXT null,\n",
      "    `District Type`                               TEXT null,\n",
      "    `School Type`                                 TEXT null,\n",
      "    `Educational Option Type`                     TEXT null,\n",
      "    `NSLP Provision Status`                       TEXT null,\n",
      "    `Charter School (Y/N)`                        INTEGER    null,\n",
      "    `Charter School Number`                       TEXT  null,\n",
      "    `Charter Funding Type`                        TEXT null,\n",
      "    IRC                                           INTEGER    null,\n",
      "    `Low Grade`                                   TEXT  null,\n",
      "    `High Grade`                                  TEXT null,\n",
      "    `Enrollment (K-12)`                           REAL      null,\n",
      "    `Free Meal Count (K-12)`                      REAL       null,\n",
      "    `Percent (%) Eligible Free (K-12)`            REAL       null,\n",
      "    `FRPM Count (K-12)`                           REAL       null,\n",
      "    `Percent (%) Eligible FRPM (K-12)`            REAL       null,\n",
      "    `Enrollment (Ages 5-17)`                      REAL       null,\n",
      "    `Free Meal Count (Ages 5-17)`                 REAL       null,\n",
      "    `Percent (%) Eligible Free (Ages 5-17)`       REAL       null,\n",
      "    `FRPM Count (Ages 5-17)`                      REAL       null,\n",
      "    `Percent (%) Eligible FRPM (Ages 5-17)`       REAL       null,\n",
      "    `2013-14 CALPADS Fall 1 Certification Status` INTEGER    null,\n",
      "    foreign key (CDSCode) references schools (CDSCode)\n",
      ")\n",
      "\n",
      "Table: satscores\n",
      "CREATE TABLE satscores\n",
      "(\n",
      "    cds         TEXT not null\n",
      "        primary key,\n",
      "    rtype       TEXT  not null,\n",
      "    sname       TEXT null,\n",
      "    dname       TEXT null,\n",
      "    cname       TEXT null,\n",
      "    enroll12    INTEGER         not null,\n",
      "    NumTstTakr  INTEGER          not null,\n",
      "    AvgScrRead  INTEGER          null,\n",
      "    AvgScrMath  INTEGER          null,\n",
      "    AvgScrWrite INTEGER          null,\n",
      "    NumGE1500   INTEGER          null,\n",
      "--     PctGE1500   double      null,\n",
      "        foreign key (cds) references schools (CDSCode)\n",
      ")\n",
      "\n",
      "Table: schools\n",
      "CREATE TABLE schools\n",
      "(\n",
      "    CDSCode     TEXT not null\n",
      "        primary key,\n",
      "    NCESDist    TEXT  null,\n",
      "    NCESSchool  TEXT  null,\n",
      "    StatusType  TEXT  not null,\n",
      "    County      TEXT not null,\n",
      "    District    TEXT not null,\n",
      "    School      TEXT null,\n",
      "    Street      TEXT null,\n",
      "    StreetAbr   TEXT null,\n",
      "    City        TEXT null,\n",
      "    Zip         TEXT null,\n",
      "    State       TEXT  null,\n",
      "    MailStreet  TEXT null,\n",
      "    MailStrAbr  TEXT null,\n",
      "    MailCity    TEXT null,\n",
      "    MailZip     TEXT null,\n",
      "    MailState   TEXT  null,\n",
      "    Phone       TEXT null,\n",
      "    Ext         TEXT  null,\n",
      "    Website     TEXT null,\n",
      "    OpenDate    DATE        null,\n",
      "    ClosedDate  DATE        null,\n",
      "    Charter     INTEGER    null,\n",
      "    CharterNum  TEXT  null,\n",
      "    FundingType TEXT null,\n",
      "    DOC         TEXT  not null,\n",
      "    DOCType     TEXT not null,\n",
      "    SOC         TEXT  null,\n",
      "    SOCType     TEXT null,\n",
      "    EdOpsCode   TEXT  null,\n",
      "    EdOpsName   TEXT null,\n",
      "    EILCode     TEXT  null,\n",
      "    EILName     TEXT null,\n",
      "    GSoffered   TEXT null,\n",
      "    GSserved    TEXT  null,\n",
      "    Virtual     TEXT  null,\n",
      "    Magnet      INTEGER   null,\n",
      "    Latitude    REAL      null,\n",
      "    Longitude   REAL      null,\n",
      "    AdmFName1   TEXT null,\n",
      "    AdmLName1   TEXT null,\n",
      "    AdmEmail1   TEXT null,\n",
      "    AdmFName2   TEXT null,\n",
      "    AdmLName2   TEXT null,\n",
      "    AdmEmail2   TEXT null,\n",
      "    AdmFName3   TEXT  null,\n",
      "    AdmLName3   TEXT null,\n",
      "    AdmEmail3   TEXT null,\n",
      "    LastUpdate  DATE        not null\n",
      ")\n",
      "\n",
      "-- Using valid SQLite and understanding External Knowledge, answer the following questions for the tables provided above.\n",
      "-- What is the highest eligible free rate for K-12 students in the schools in Alameda County?\n",
      "-- External Knowledge: Eligible free rate for K-12 = `Free Meal Count (K-12)` / `Enrollment (K-12)`\n",
      "\n",
      "\n",
      "Generate the SQLite for the above question after thinking step by step: \n",
      "\n",
      "\n",
      "Instructions:\n",
      "- Make sure you only output the information that is asked in the question. If the question asks for a specific column, make sure to only include that column in the SELECT clause, nothing more.\n",
      "- The generated query should return all of the information asked in the question without any missing or extra information.\n",
      "- Before generating the final SQL query, please think through the steps of how to write the query.\n",
      "- Do not misuse column names, keep them in quotes `\n",
      "- Carefully understand what colomns belond to what tables\n",
      "- Use only initial column names, change names prohibited\n",
      "        \n",
      "Output Format:\n",
      "In your answer, please enclose the generated SQL query in a code block:\n",
      "```\n",
      "-- Your SQL query\n",
      "```    \n",
      "and nothing else, no exaplains, no comments (asnwer should be less than 512 characters)\n",
      "\n",
      "Take a deep breath and think step by step to find the correct SQL query in SQLite format.\n",
      "\n",
      "Question repetition: What is the highest eligible free rate for K-12 students in the schools in Alameda County?\n",
      "\n",
      "Be care! Include only what i want it questiona and nothing else<|im_end|>\n",
      "<|im_start|>assistant\n",
      "<think>\n",
      "\n",
      "</think>\n",
      "\n",
      "\n",
      "\n",
      "\n",
      "Максимальное количество токенов в промптах: 5820\n",
      "\n",
      "начинаем скорринг\n",
      "Загружаем чаты с данными...\n",
      "Данные успешно загружены\n",
      "Начали генерацию SQL запросов\n"
     ]
    },
    {
     "name": "stderr",
     "output_type": "stream",
     "text": [
      "Processed prompts: 100%|██████████| 1534/1534 [01:52<00:00, 13.64it/s, est. speed input: 23861.23 toks/s, output: 707.44 toks/s] "
     ]
    },
    {
     "name": "stdout",
     "output_type": "stream",
     "text": [
      "extract_think количество ошибок:  0\n",
      "extract_sql количество ошибок:  0\n",
      "Закончили генерацию SQL запросов\n",
      "Начали скорр полученных SQL запросов\n"
     ]
    },
    {
     "name": "stderr",
     "output_type": "stream",
     "text": [
      "\n"
     ]
    },
    {
     "name": "stdout",
     "output_type": "stream",
     "text": [
      "Qwen3-14B DEV Финальный результат EX: 57.89\n",
      "Qwen3-14B процент запросов, которые успешно выполнились DEV: 96.68%\n",
      "====================================================================================================\n",
      "\n",
      "\n",
      "Загружаем чаты с данными...\n",
      "Данные успешно загружены\n",
      "Начали генерацию SQL запросов\n"
     ]
    },
    {
     "name": "stderr",
     "output_type": "stream",
     "text": [
      "Processed prompts: 100%|██████████| 1534/1534 [01:55<00:00, 13.31it/s, est. speed input: 23278.96 toks/s, output: 687.23 toks/s] "
     ]
    },
    {
     "name": "stdout",
     "output_type": "stream",
     "text": [
      "extract_think количество ошибок:  0\n",
      "extract_sql количество ошибок:  0\n",
      "Закончили генерацию SQL запросов\n",
      "Начали скорр полученных SQL запросов\n"
     ]
    },
    {
     "name": "stderr",
     "output_type": "stream",
     "text": [
      "\n"
     ]
    },
    {
     "name": "stdout",
     "output_type": "stream",
     "text": [
      "Qwen3-14B DEV Финальный результат EX: 58.08\n",
      "Qwen3-14B процент запросов, которые успешно выполнились DEV: 97.00%\n",
      "====================================================================================================\n",
      "\n",
      "\n",
      "Загружаем чаты с данными...\n",
      "Данные успешно загружены\n",
      "Начали генерацию SQL запросов\n"
     ]
    },
    {
     "name": "stderr",
     "output_type": "stream",
     "text": [
      "Processed prompts: 100%|██████████| 1534/1534 [01:48<00:00, 14.10it/s, est. speed input: 24664.01 toks/s, output: 726.36 toks/s] "
     ]
    },
    {
     "name": "stdout",
     "output_type": "stream",
     "text": [
      "extract_think количество ошибок:  0\n",
      "extract_sql количество ошибок:  0\n",
      "Закончили генерацию SQL запросов\n",
      "Начали скорр полученных SQL запросов\n"
     ]
    },
    {
     "name": "stderr",
     "output_type": "stream",
     "text": [
      "\n"
     ]
    },
    {
     "name": "stdout",
     "output_type": "stream",
     "text": [
      "Qwen3-14B DEV Финальный результат EX: 57.56\n",
      "Qwen3-14B процент запросов, которые успешно выполнились DEV: 96.48%\n",
      "====================================================================================================\n",
      "\n",
      "\n",
      "Загружаем чаты с данными...\n",
      "Данные успешно загружены\n",
      "Начали генерацию SQL запросов\n"
     ]
    },
    {
     "name": "stderr",
     "output_type": "stream",
     "text": [
      "Processed prompts: 100%|██████████| 1534/1534 [01:54<00:00, 13.42it/s, est. speed input: 23484.59 toks/s, output: 698.70 toks/s] "
     ]
    },
    {
     "name": "stdout",
     "output_type": "stream",
     "text": [
      "extract_think количество ошибок:  0\n",
      "extract_sql количество ошибок:  0\n",
      "Закончили генерацию SQL запросов\n",
      "Начали скорр полученных SQL запросов\n"
     ]
    },
    {
     "name": "stderr",
     "output_type": "stream",
     "text": [
      "\n"
     ]
    },
    {
     "name": "stdout",
     "output_type": "stream",
     "text": [
      "Qwen3-14B DEV Финальный результат EX: 58.15\n",
      "Qwen3-14B процент запросов, которые успешно выполнились DEV: 96.68%\n",
      "====================================================================================================\n",
      "\n",
      "\n",
      "Загружаем чаты с данными...\n",
      "Данные успешно загружены\n",
      "Начали генерацию SQL запросов\n"
     ]
    },
    {
     "name": "stderr",
     "output_type": "stream",
     "text": [
      "Processed prompts: 100%|██████████| 1534/1534 [01:53<00:00, 13.51it/s, est. speed input: 23657.25 toks/s, output: 702.72 toks/s] "
     ]
    },
    {
     "name": "stdout",
     "output_type": "stream",
     "text": [
      "extract_think количество ошибок:  0\n",
      "extract_sql количество ошибок:  0\n",
      "Закончили генерацию SQL запросов\n",
      "Начали скорр полученных SQL запросов\n"
     ]
    },
    {
     "name": "stderr",
     "output_type": "stream",
     "text": [
      "\n"
     ]
    },
    {
     "name": "stdout",
     "output_type": "stream",
     "text": [
      "Qwen3-14B DEV Финальный результат EX: 57.76\n",
      "Qwen3-14B процент запросов, которые успешно выполнились DEV: 96.54%\n",
      "====================================================================================================\n",
      "\n",
      "\n",
      "Загружаем чаты с данными...\n",
      "Данные успешно загружены\n",
      "Начали генерацию SQL запросов\n"
     ]
    },
    {
     "name": "stderr",
     "output_type": "stream",
     "text": [
      "Processed prompts: 100%|██████████| 1534/1534 [01:53<00:00, 13.53it/s, est. speed input: 23678.66 toks/s, output: 702.02 toks/s] "
     ]
    },
    {
     "name": "stdout",
     "output_type": "stream",
     "text": [
      "extract_think количество ошибок:  0\n",
      "extract_sql количество ошибок:  0\n",
      "Закончили генерацию SQL запросов\n",
      "Начали скорр полученных SQL запросов\n"
     ]
    },
    {
     "name": "stderr",
     "output_type": "stream",
     "text": [
      "\n"
     ]
    },
    {
     "name": "stdout",
     "output_type": "stream",
     "text": [
      "Qwen3-14B DEV Финальный результат EX: 57.43\n",
      "Qwen3-14B процент запросов, которые успешно выполнились DEV: 96.48%\n",
      "====================================================================================================\n",
      "\n",
      "\n",
      "Загружаем чаты с данными...\n",
      "Данные успешно загружены\n",
      "Начали генерацию SQL запросов\n"
     ]
    },
    {
     "name": "stderr",
     "output_type": "stream",
     "text": [
      "Processed prompts: 100%|██████████| 1534/1534 [01:54<00:00, 13.43it/s, est. speed input: 23505.08 toks/s, output: 691.43 toks/s] "
     ]
    },
    {
     "name": "stdout",
     "output_type": "stream",
     "text": [
      "extract_think количество ошибок:  0\n",
      "extract_sql количество ошибок:  0\n",
      "Закончили генерацию SQL запросов\n",
      "Начали скорр полученных SQL запросов\n"
     ]
    },
    {
     "name": "stderr",
     "output_type": "stream",
     "text": [
      "\n"
     ]
    },
    {
     "name": "stdout",
     "output_type": "stream",
     "text": [
      "Qwen3-14B DEV Финальный результат EX: 58.28\n",
      "Qwen3-14B процент запросов, которые успешно выполнились DEV: 96.94%\n",
      "====================================================================================================\n",
      "\n",
      "\n",
      "Загружаем чаты с данными...\n",
      "Данные успешно загружены\n",
      "Начали генерацию SQL запросов\n"
     ]
    },
    {
     "name": "stderr",
     "output_type": "stream",
     "text": [
      "Processed prompts: 100%|██████████| 1534/1534 [01:53<00:00, 13.54it/s, est. speed input: 23700.02 toks/s, output: 694.73 toks/s] "
     ]
    },
    {
     "name": "stdout",
     "output_type": "stream",
     "text": [
      "extract_think количество ошибок:  0\n",
      "extract_sql количество ошибок:  0\n",
      "Закончили генерацию SQL запросов\n",
      "Начали скорр полученных SQL запросов\n"
     ]
    },
    {
     "name": "stderr",
     "output_type": "stream",
     "text": [
      "\n"
     ]
    },
    {
     "name": "stdout",
     "output_type": "stream",
     "text": [
      "Qwen3-14B DEV Финальный результат EX: 57.82\n",
      "Qwen3-14B процент запросов, которые успешно выполнились DEV: 96.61%\n",
      "====================================================================================================\n",
      "\n",
      "\n",
      "Загружаем чаты с данными...\n",
      "Данные успешно загружены\n",
      "Начали генерацию SQL запросов\n"
     ]
    },
    {
     "name": "stderr",
     "output_type": "stream",
     "text": [
      "Processed prompts: 100%|██████████| 1534/1534 [01:47<00:00, 14.30it/s, est. speed input: 24998.23 toks/s, output: 724.88 toks/s] "
     ]
    },
    {
     "name": "stdout",
     "output_type": "stream",
     "text": [
      "extract_think количество ошибок:  0\n",
      "extract_sql количество ошибок:  0\n",
      "Закончили генерацию SQL запросов\n",
      "Начали скорр полученных SQL запросов\n"
     ]
    },
    {
     "name": "stderr",
     "output_type": "stream",
     "text": [
      "\n"
     ]
    },
    {
     "name": "stdout",
     "output_type": "stream",
     "text": [
      "Qwen3-14B DEV Финальный результат EX: 57.56\n",
      "Qwen3-14B процент запросов, которые успешно выполнились DEV: 96.87%\n",
      "====================================================================================================\n",
      "\n",
      "\n",
      "Загружаем чаты с данными...\n",
      "Данные успешно загружены\n",
      "Начали генерацию SQL запросов\n"
     ]
    },
    {
     "name": "stderr",
     "output_type": "stream",
     "text": [
      "Processed prompts: 100%|██████████| 1534/1534 [01:53<00:00, 13.51it/s, est. speed input: 23612.53 toks/s, output: 691.91 toks/s] "
     ]
    },
    {
     "name": "stdout",
     "output_type": "stream",
     "text": [
      "extract_think количество ошибок:  0\n",
      "extract_sql количество ошибок:  0\n",
      "Закончили генерацию SQL запросов\n",
      "Начали скорр полученных SQL запросов\n"
     ]
    },
    {
     "name": "stderr",
     "output_type": "stream",
     "text": [
      "\n"
     ]
    },
    {
     "name": "stdout",
     "output_type": "stream",
     "text": [
      "Qwen3-14B DEV Финальный результат EX: 58.28\n",
      "Qwen3-14B процент запросов, которые успешно выполнились DEV: 97.07%\n",
      "====================================================================================================\n",
      "\n",
      "\n",
      "Загружаем чаты с данными...\n",
      "Данные успешно загружены\n",
      "Начали генерацию SQL запросов\n"
     ]
    },
    {
     "name": "stderr",
     "output_type": "stream",
     "text": [
      "Processed prompts: 100%|██████████| 1534/1534 [01:48<00:00, 14.18it/s, est. speed input: 24763.65 toks/s, output: 723.88 toks/s] "
     ]
    },
    {
     "name": "stdout",
     "output_type": "stream",
     "text": [
      "extract_think количество ошибок:  0\n",
      "extract_sql количество ошибок:  0\n",
      "Закончили генерацию SQL запросов\n",
      "Начали скорр полученных SQL запросов\n"
     ]
    },
    {
     "name": "stderr",
     "output_type": "stream",
     "text": [
      "\n"
     ]
    },
    {
     "name": "stdout",
     "output_type": "stream",
     "text": [
      "Qwen3-14B DEV Финальный результат EX: 58.67\n",
      "Qwen3-14B процент запросов, которые успешно выполнились DEV: 96.81%\n",
      "====================================================================================================\n",
      "\n",
      "\n",
      "Загружаем чаты с данными...\n",
      "Данные успешно загружены\n",
      "Начали генерацию SQL запросов\n"
     ]
    },
    {
     "name": "stderr",
     "output_type": "stream",
     "text": [
      "Processed prompts: 100%|██████████| 1534/1534 [01:51<00:00, 13.72it/s, est. speed input: 23959.92 toks/s, output: 696.43 toks/s] "
     ]
    },
    {
     "name": "stdout",
     "output_type": "stream",
     "text": [
      "extract_think количество ошибок:  0\n",
      "extract_sql количество ошибок:  0\n",
      "Закончили генерацию SQL запросов\n",
      "Начали скорр полученных SQL запросов\n"
     ]
    },
    {
     "name": "stderr",
     "output_type": "stream",
     "text": [
      "\n"
     ]
    },
    {
     "name": "stdout",
     "output_type": "stream",
     "text": [
      "Qwen3-14B DEV Финальный результат EX: 58.41\n",
      "Qwen3-14B процент запросов, которые успешно выполнились DEV: 96.87%\n",
      "====================================================================================================\n",
      "\n",
      "\n",
      "Загружаем чаты с данными...\n",
      "Данные успешно загружены\n",
      "Начали генерацию SQL запросов\n"
     ]
    },
    {
     "name": "stderr",
     "output_type": "stream",
     "text": [
      "Processed prompts: 100%|██████████| 1534/1534 [01:52<00:00, 13.61it/s, est. speed input: 23756.02 toks/s, output: 697.84 toks/s] "
     ]
    },
    {
     "name": "stdout",
     "output_type": "stream",
     "text": [
      "extract_think количество ошибок:  0\n",
      "extract_sql количество ошибок:  0\n",
      "Закончили генерацию SQL запросов\n",
      "Начали скорр полученных SQL запросов\n"
     ]
    },
    {
     "name": "stderr",
     "output_type": "stream",
     "text": [
      "\n"
     ]
    },
    {
     "name": "stdout",
     "output_type": "stream",
     "text": [
      "Qwen3-14B DEV Финальный результат EX: 58.87\n",
      "Qwen3-14B процент запросов, которые успешно выполнились DEV: 96.74%\n",
      "====================================================================================================\n",
      "\n",
      "\n",
      "Загружаем чаты с данными...\n",
      "Данные успешно загружены\n",
      "Начали генерацию SQL запросов\n"
     ]
    },
    {
     "name": "stderr",
     "output_type": "stream",
     "text": [
      "Processed prompts: 100%|██████████| 1534/1534 [01:52<00:00, 13.61it/s, est. speed input: 23752.46 toks/s, output: 699.75 toks/s] "
     ]
    },
    {
     "name": "stdout",
     "output_type": "stream",
     "text": [
      "extract_think количество ошибок:  0\n",
      "extract_sql количество ошибок:  0\n",
      "Закончили генерацию SQL запросов\n",
      "Начали скорр полученных SQL запросов\n"
     ]
    },
    {
     "name": "stderr",
     "output_type": "stream",
     "text": [
      "\n"
     ]
    },
    {
     "name": "stdout",
     "output_type": "stream",
     "text": [
      "Qwen3-14B DEV Финальный результат EX: 58.41\n",
      "Qwen3-14B процент запросов, которые успешно выполнились DEV: 96.68%\n",
      "====================================================================================================\n",
      "\n",
      "\n",
      "Загружаем чаты с данными...\n",
      "Данные успешно загружены\n",
      "Начали генерацию SQL запросов\n"
     ]
    },
    {
     "name": "stderr",
     "output_type": "stream",
     "text": [
      "Processed prompts: 100%|██████████| 1534/1534 [01:52<00:00, 13.69it/s, est. speed input: 23889.37 toks/s, output: 699.49 toks/s] "
     ]
    },
    {
     "name": "stdout",
     "output_type": "stream",
     "text": [
      "extract_think количество ошибок:  0\n",
      "extract_sql количество ошибок:  0\n",
      "Закончили генерацию SQL запросов\n",
      "Начали скорр полученных SQL запросов\n"
     ]
    },
    {
     "name": "stderr",
     "output_type": "stream",
     "text": [
      "\n"
     ]
    },
    {
     "name": "stdout",
     "output_type": "stream",
     "text": [
      "Qwen3-14B DEV Финальный результат EX: 57.95\n",
      "Qwen3-14B процент запросов, которые успешно выполнились DEV: 96.81%\n",
      "====================================================================================================\n",
      "\n",
      "\n",
      "Загружаем чаты с данными...\n",
      "Данные успешно загружены\n",
      "Начали генерацию SQL запросов\n"
     ]
    },
    {
     "name": "stderr",
     "output_type": "stream",
     "text": [
      "Processed prompts: 100%|██████████| 1534/1534 [01:52<00:00, 13.66it/s, est. speed input: 23870.10 toks/s, output: 703.72 toks/s] "
     ]
    },
    {
     "name": "stdout",
     "output_type": "stream",
     "text": [
      "extract_think количество ошибок:  0\n",
      "extract_sql количество ошибок:  0\n",
      "Закончили генерацию SQL запросов\n",
      "Начали скорр полученных SQL запросов\n"
     ]
    },
    {
     "name": "stderr",
     "output_type": "stream",
     "text": [
      "\n"
     ]
    },
    {
     "name": "stdout",
     "output_type": "stream",
     "text": [
      "Qwen3-14B DEV Финальный результат EX: 58.54\n",
      "Qwen3-14B процент запросов, которые успешно выполнились DEV: 96.74%\n",
      "====================================================================================================\n",
      "\n",
      "\n",
      "Загружаем чаты с данными...\n",
      "Данные успешно загружены\n",
      "Начали генерацию SQL запросов\n"
     ]
    },
    {
     "name": "stderr",
     "output_type": "stream",
     "text": [
      "Processed prompts: 100%|██████████| 1534/1534 [01:48<00:00, 14.12it/s, est. speed input: 24692.00 toks/s, output: 721.03 toks/s] "
     ]
    },
    {
     "name": "stdout",
     "output_type": "stream",
     "text": [
      "extract_think количество ошибок:  0\n",
      "extract_sql количество ошибок:  0\n",
      "Закончили генерацию SQL запросов\n",
      "Начали скорр полученных SQL запросов\n"
     ]
    },
    {
     "name": "stderr",
     "output_type": "stream",
     "text": [
      "\n"
     ]
    },
    {
     "name": "stdout",
     "output_type": "stream",
     "text": [
      "Qwen3-14B DEV Финальный результат EX: 58.80\n",
      "Qwen3-14B процент запросов, которые успешно выполнились DEV: 97.07%\n",
      "====================================================================================================\n",
      "\n",
      "\n",
      "Загружаем чаты с данными...\n",
      "Данные успешно загружены\n",
      "Начали генерацию SQL запросов\n"
     ]
    },
    {
     "name": "stderr",
     "output_type": "stream",
     "text": [
      "Processed prompts: 100%|██████████| 1534/1534 [01:52<00:00, 13.69it/s, est. speed input: 23933.54 toks/s, output: 704.96 toks/s] "
     ]
    },
    {
     "name": "stdout",
     "output_type": "stream",
     "text": [
      "extract_think количество ошибок:  0\n",
      "extract_sql количество ошибок:  0\n",
      "Закончили генерацию SQL запросов\n",
      "Начали скорр полученных SQL запросов\n"
     ]
    },
    {
     "name": "stderr",
     "output_type": "stream",
     "text": [
      "\n"
     ]
    },
    {
     "name": "stdout",
     "output_type": "stream",
     "text": [
      "Qwen3-14B DEV Финальный результат EX: 58.21\n",
      "Qwen3-14B процент запросов, которые успешно выполнились DEV: 97.00%\n",
      "====================================================================================================\n",
      "\n",
      "\n",
      "Загружаем чаты с данными...\n",
      "Данные успешно загружены\n",
      "Начали генерацию SQL запросов\n"
     ]
    },
    {
     "name": "stderr",
     "output_type": "stream",
     "text": [
      "Processed prompts: 100%|██████████| 1534/1534 [01:51<00:00, 13.73it/s, est. speed input: 24013.39 toks/s, output: 709.14 toks/s] "
     ]
    },
    {
     "name": "stdout",
     "output_type": "stream",
     "text": [
      "extract_think количество ошибок:  0\n",
      "extract_sql количество ошибок:  0\n",
      "Закончили генерацию SQL запросов\n",
      "Начали скорр полученных SQL запросов\n"
     ]
    },
    {
     "name": "stderr",
     "output_type": "stream",
     "text": [
      "\n"
     ]
    },
    {
     "name": "stdout",
     "output_type": "stream",
     "text": [
      "Qwen3-14B DEV Финальный результат EX: 58.21\n",
      "Qwen3-14B процент запросов, которые успешно выполнились DEV: 96.94%\n",
      "====================================================================================================\n",
      "\n",
      "\n",
      "Загружаем чаты с данными...\n",
      "Данные успешно загружены\n",
      "Начали генерацию SQL запросов\n"
     ]
    },
    {
     "name": "stderr",
     "output_type": "stream",
     "text": [
      "Processed prompts: 100%|██████████| 1534/1534 [01:52<00:00, 13.66it/s, est. speed input: 23901.62 toks/s, output: 708.16 toks/s] "
     ]
    },
    {
     "name": "stdout",
     "output_type": "stream",
     "text": [
      "extract_think количество ошибок:  0\n",
      "extract_sql количество ошибок:  0\n",
      "Закончили генерацию SQL запросов\n",
      "Начали скорр полученных SQL запросов\n"
     ]
    },
    {
     "name": "stderr",
     "output_type": "stream",
     "text": [
      "\n"
     ]
    },
    {
     "name": "stdout",
     "output_type": "stream",
     "text": [
      "Qwen3-14B DEV Финальный результат EX: 57.63\n",
      "Qwen3-14B процент запросов, которые успешно выполнились DEV: 96.81%\n",
      "====================================================================================================\n",
      "\n",
      "\n"
     ]
    }
   ],
   "source": [
    "run_cot_experiment(model,arr_seeds,arr_versions, type_cot,num_observations=num_observations)"
   ]
  },
  {
   "cell_type": "markdown",
   "id": "c4dd2157-7279-458f-8a86-22686112bf5f",
   "metadata": {},
   "source": [
    "# part3: think"
   ]
  },
  {
   "cell_type": "code",
   "execution_count": 27,
   "id": "02febb85-1132-4b71-9ed8-e30241d01dc3",
   "metadata": {},
   "outputs": [
    {
     "name": "stdout",
     "output_type": "stream",
     "text": [
      "[249, 51, 214, 241, 478, 126, 68, 736, 48, 198, 138, 24, 756, 583, 363, 639, 867, 397, 998, 358]\n",
      "model: Qwen3-14B\n"
     ]
    }
   ],
   "source": [
    "n= 20\n",
    "arr_seeds = [random.randint(0,1000) for _ in range(n)]\n",
    "arr_versions = [x for x in range(n)]\n",
    "model = \"Qwen3-14B\"\n",
    "num_observations = 2\n",
    "type_cot = 'think'\n",
    "print(arr_seeds)\n",
    "print(f\"model: {model}\")"
   ]
  },
  {
   "cell_type": "code",
   "execution_count": 28,
   "id": "e9e60717-ffae-4f1f-8831-a4902529303e",
   "metadata": {
    "scrolled": true
   },
   "outputs": [
    {
     "name": "stdout",
     "output_type": "stream",
     "text": [
      "Загружаем модель...\n"
     ]
    },
    {
     "name": "stderr",
     "output_type": "stream",
     "text": [
      "Loading safetensors checkpoint shards:   0% Completed | 0/8 [00:00<?, ?it/s]\n",
      "Loading safetensors checkpoint shards:  12% Completed | 1/8 [00:01<00:09,  1.42s/it]\n",
      "Loading safetensors checkpoint shards:  25% Completed | 2/8 [00:02<00:08,  1.43s/it]\n",
      "Loading safetensors checkpoint shards:  38% Completed | 3/8 [00:04<00:07,  1.44s/it]\n",
      "Loading safetensors checkpoint shards:  50% Completed | 4/8 [00:05<00:05,  1.43s/it]\n",
      "Loading safetensors checkpoint shards:  62% Completed | 5/8 [00:07<00:04,  1.42s/it]\n",
      "Loading safetensors checkpoint shards:  75% Completed | 6/8 [00:07<00:02,  1.19s/it]\n",
      "Loading safetensors checkpoint shards:  88% Completed | 7/8 [00:09<00:01,  1.27s/it]\n",
      "Loading safetensors checkpoint shards: 100% Completed | 8/8 [00:10<00:00,  1.33s/it]\n",
      "Loading safetensors checkpoint shards: 100% Completed | 8/8 [00:10<00:00,  1.35s/it]\n",
      "\u001b[1;36m(VllmWorker rank=0 pid=1092927)\u001b[0;0m \n"
     ]
    },
    {
     "name": "stdout",
     "output_type": "stream",
     "text": [
      "Модель успешно загружена\n",
      "model_config {'model': '/data/home/vkropoti/models/Qwen3-14B', 'tensor_parallel_size': 2, 'max_model_len': 40000, 'max_new_tokens': 1500, 'temperature': 0, 'top_k': 1, 'top_p': 0.8, 'gpu_memory_utilization': 0.9, 'trust_remote_code': False, 'seed': 249}\n",
      "\n",
      "prompts_config {'path_dev_json': '/home/vkropoti/vllm/dev.json', 'path_sql_dbs': '/data/home/vkropoti/sql_data/dev_databases/', 'use_reasoning': False, 'paths_to_cot': ['/data/home/vkropoti/sql_llm_answers/bird_dev/sql_think_Qwen3-14B-reasoning-v0', '/data/home/vkropoti/sql_llm_answers/bird_dev/sql_think_Qwen3-14B-reasoning-v1']}\n",
      "\n",
      "save_config {'path_sql_save': '/data/home/vkropoti/sql_llm_answers/bird_dev/sql_all_Qwen3-14B-cot_think_think==False_nobs2-v0', 'path_think_save': None, 'path_sql_answers_save': '/data/home/vkropoti/sql_llm_answers/bird_dev/sql_predict_Qwen3-14B-cot_think_think==False_nobs2-v0', 'path_to_save_scores': '/data/home/vkropoti/sql_llm_answers/bird_dev/sql_results_Qwen3-14B-cot_think_think==False_nobs2-v0', 'path_to_save_executed': '/data/home/vkropoti/sql_llm_answers/bird_dev/sql_executed_Qwen3-14B-cot_think_think==False_nobs2-v0'}\n",
      "\n",
      "Модель успешно загружена\n",
      "Пример промпта\n",
      "<|im_start|>system\n",
      "\n",
      "You are a data science expert. Below, you are provided with a database schema and a natural language question. Your task is to understand the schema and generate a valid SQL query to answer the question.\n",
      "\n",
      "Database Engine: SQLite\n",
      "\n",
      "You will be given an additional analysis of other models, please take it into account, so the plan is\n",
      "1. Analyse given addition analysis from other models (find in which analysis the same and differ, how to use that to answer question)\n",
      "2. Combine best from previous part and think how to solve the problem (analyze tables, take care what columns avaliable in each table and so on, check the syntacsis)\n",
      "3. Create the answers. The answer should be only sql query.\n",
      "\n",
      "Carefully follow the instruction and add <|im_end|> and the end of the final answer<|im_end|>\n",
      "<|im_start|>user\n",
      "Here is addition analysis from other models which can be helpfull, please take this into account but be careful (choose the best from each analysis, combine them to make the most proper answer):\n",
      "\n",
      "model 0 analysis:\n",
      " Okay, let's see. The user is asking for the highest eligible free rate for K-12 students in schools located in Alameda County. \n",
      "\n",
      "First, I need to figure out which tables are relevant here. The question mentions \"eligible free rate,\" which is calculated as `Free Meal Count (K-12)` divided by `Enrollment (K-12)`. Looking at the tables provided, the `frpm` table contains these exact columns: `Free Meal Count (K-12)` and `Enrollment (K-12)`. So, the calculation will be done using the `frpm` table.\n",
      "\n",
      "Next, the schools need to be in Alameda County. The `County` column is present in the `schools` table. But the `frpm` table has a `County Name` column. Wait, but the user is asking for schools in Alameda County. Which table's county field should I use? The `frpm` table has a `County Name` column, and the `schools` table has a `County` column. However, since the `frpm` table has a foreign key relationship with `schools` via `CDSCode`, maybe I need to join the two tables to get the county information from `schools`?\n",
      "\n",
      "Wait, the question says \"schools in Alameda County.\" So the county is determined by the school's county, which is in the `schools` table. Therefore, I should join `frpm` with `schools` on `CDSCode` to get the `County` from `schools` and filter where that county is 'Alameda'.\n",
      "\n",
      "But let me check the schema again. The `frpm` table has a `County Name` column. However, the `schools` table has a `County` column. Maybe the `frpm` is referencing the schools' county, but perhaps the `County Name` in `frpm` is redundant. However, the user wants to filter based on the school's county, which is in the `schools` table. Therefore, to get accurate information, I should join `frpm` with `schools` on `CDSCode` and then filter `schools.County = 'Alameda'`.\n",
      "\n",
      "So the steps are:\n",
      "\n",
      "1. Join `frpm` and `schools` on `CDSCode`.\n",
      "2. Filter where `schools.County = 'Alameda'`.\n",
      "3. Calculate the eligible free rate as `Free Meal Count (K-12)` / `Enrollment (K-12)`.\n",
      "4. Find the maximum value of this calculated rate.\n",
      "\n",
      "But wait, in the `frpm` table, there's also a `County Name` column. Could that be used instead? However, the `schools` table's `County` might be more reliable. For example, if a school is in Alameda County, the `schools` table's `County` should be 'Alameda', whereas the `County Name` in `frpm` might be the same. But since the `frpm` has a foreign key to `schools`, perhaps the county is consistent between both tables. However, to be safe, using `schools.County = 'Alameda'` is better because that's the school's actual county.\n",
      "\n",
      "So, the query would involve joining `frpm` with `schools` where `CDSCode` matches. Then, filter on `schools.County = 'Alameda'`. Then calculate the rate and find the maximum.\n",
      "\n",
      "But what if there are multiple entries in `frpm` for the same school? The `frpm` table has `CDSCode` as primary key, so each school has one entry in `frpm`. So the join is straightforward.\n",
      "\n",
      "Now, the SQL query would select the maximum of (Free Meal Count / Enrollment) where the county is Alameda. The columns are in the `frpm` table, so after joining with `schools` to get the county.\n",
      "\n",
      "So the query would be:\n",
      "\n",
      "SELECT MAX(`Free Meal Count (K-12)` / `Enrollment (K-12)`) AS highest_rate\n",
      "FROM frpm\n",
      "JOIN schools ON frpm.CDSCode = schools.CDSCode\n",
      "WHERE schools.County = 'Alameda';\n",
      "\n",
      "But I need to make sure that the `Enrollment (K-12)` is not zero to avoid division by zero. However, the question might assume that all entries have valid enrollment numbers. If not, perhaps a WHERE clause to exclude zero enrollments. But since the problem doesn't mention handling that, maybe it's safe to proceed without it.\n",
      "\n",
      "Also, the `frpm` table has `Enrollment (K-12)` as a REAL, so division should be handled as floating points.\n",
      "\n",
      "So the final SQL is as above, selecting the MAX of the calculated rate, joining on CDSCode, and filtering for Alameda County in the schools table.\n",
      "\n",
      "model 1 analysis:\n",
      " Okay, I need to find the highest eligible free rate for K-12 students in schools located in Alameda County. Let me break this down.\n",
      "\n",
      "First, the eligible free rate is calculated as `Free Meal Count (K-12)` divided by `Enrollment (K-12)`. The question is asking for the maximum value of this rate among schools in Alameda County.\n",
      "\n",
      "Looking at the tables, the `frpm` table has both `Free Meal Count (K-12)` and `Enrollment (K-12)` columns. Also, the `frpm` table has a `County Name` column which should be used to filter for Alameda County.\n",
      "\n",
      "Wait, but there's also a `schools` table with a `County` column. However, the `frpm` table's `County Name` is likely the correct one to use since it's part of the same dataset. The `schools` table might have different county info, but the question mentions using the `frpm` data.\n",
      "\n",
      "So, the plan is to select the maximum of (`Free Meal Count (K-12)` / `Enrollment (K-12)`) from the `frpm` table where `County Name` is 'Alameda County'.\n",
      "\n",
      "But wait, I need to make sure that the `County Name` is correctly spelled and matches the data. Also, the `frpm` table has a foreign key to `schools` via `CDSCode`, but maybe the county info is already in `frpm` so joining isn't necessary. Let me check the schema again.\n",
      "\n",
      "Yes, `frpm` has `County Name` as a column. So I don't need to join with `schools` for the county. Therefore, the query can be written directly on the `frpm` table.\n",
      "\n",
      "Now, the SQL query would use the MAX function on the division of those two columns. Also, since these are REAL numbers, the division should work. Need to make sure that `Enrollment (K-12)` is not zero to avoid division by zero, but the question might assume that all entries have valid enrollments.\n",
      "\n",
      "So the final query would be:\n",
      "\n",
      "SELECT MAX(`Free Meal Count (K-12)` / `Enrollment (K-12)`) FROM frpm WHERE `County Name` = 'Alameda County';\n",
      "\n",
      "Wait, but the `County Name` might have entries like 'Alameda County' exactly. I should check if the data uses that exact name. Assuming it does, this query should work.\n",
      "\n",
      "\n",
      "here is avaliable tables below\n",
      "\n",
      "\n",
      "Table: frpm\n",
      "CREATE TABLE frpm\n",
      "(\n",
      "    CDSCode                                       TEXT not null\n",
      "        primary key,\n",
      "    `Academic Year`                               TEXT  null,\n",
      "    `County Code`                                 TEXT  null,\n",
      "    `District Code`                               INTEGER         null,\n",
      "    `School Code`                                 TEXT  null,\n",
      "    `County Name`                                 TEXT null,\n",
      "    `District Name`                               TEXT null,\n",
      "    `School Name`                                 TEXT null,\n",
      "    `District Type`                               TEXT null,\n",
      "    `School Type`                                 TEXT null,\n",
      "    `Educational Option Type`                     TEXT null,\n",
      "    `NSLP Provision Status`                       TEXT null,\n",
      "    `Charter School (Y/N)`                        INTEGER    null,\n",
      "    `Charter School Number`                       TEXT  null,\n",
      "    `Charter Funding Type`                        TEXT null,\n",
      "    IRC                                           INTEGER    null,\n",
      "    `Low Grade`                                   TEXT  null,\n",
      "    `High Grade`                                  TEXT null,\n",
      "    `Enrollment (K-12)`                           REAL      null,\n",
      "    `Free Meal Count (K-12)`                      REAL       null,\n",
      "    `Percent (%) Eligible Free (K-12)`            REAL       null,\n",
      "    `FRPM Count (K-12)`                           REAL       null,\n",
      "    `Percent (%) Eligible FRPM (K-12)`            REAL       null,\n",
      "    `Enrollment (Ages 5-17)`                      REAL       null,\n",
      "    `Free Meal Count (Ages 5-17)`                 REAL       null,\n",
      "    `Percent (%) Eligible Free (Ages 5-17)`       REAL       null,\n",
      "    `FRPM Count (Ages 5-17)`                      REAL       null,\n",
      "    `Percent (%) Eligible FRPM (Ages 5-17)`       REAL       null,\n",
      "    `2013-14 CALPADS Fall 1 Certification Status` INTEGER    null,\n",
      "    foreign key (CDSCode) references schools (CDSCode)\n",
      ")\n",
      "\n",
      "Table: satscores\n",
      "CREATE TABLE satscores\n",
      "(\n",
      "    cds         TEXT not null\n",
      "        primary key,\n",
      "    rtype       TEXT  not null,\n",
      "    sname       TEXT null,\n",
      "    dname       TEXT null,\n",
      "    cname       TEXT null,\n",
      "    enroll12    INTEGER         not null,\n",
      "    NumTstTakr  INTEGER          not null,\n",
      "    AvgScrRead  INTEGER          null,\n",
      "    AvgScrMath  INTEGER          null,\n",
      "    AvgScrWrite INTEGER          null,\n",
      "    NumGE1500   INTEGER          null,\n",
      "--     PctGE1500   double      null,\n",
      "        foreign key (cds) references schools (CDSCode)\n",
      ")\n",
      "\n",
      "Table: schools\n",
      "CREATE TABLE schools\n",
      "(\n",
      "    CDSCode     TEXT not null\n",
      "        primary key,\n",
      "    NCESDist    TEXT  null,\n",
      "    NCESSchool  TEXT  null,\n",
      "    StatusType  TEXT  not null,\n",
      "    County      TEXT not null,\n",
      "    District    TEXT not null,\n",
      "    School      TEXT null,\n",
      "    Street      TEXT null,\n",
      "    StreetAbr   TEXT null,\n",
      "    City        TEXT null,\n",
      "    Zip         TEXT null,\n",
      "    State       TEXT  null,\n",
      "    MailStreet  TEXT null,\n",
      "    MailStrAbr  TEXT null,\n",
      "    MailCity    TEXT null,\n",
      "    MailZip     TEXT null,\n",
      "    MailState   TEXT  null,\n",
      "    Phone       TEXT null,\n",
      "    Ext         TEXT  null,\n",
      "    Website     TEXT null,\n",
      "    OpenDate    DATE        null,\n",
      "    ClosedDate  DATE        null,\n",
      "    Charter     INTEGER    null,\n",
      "    CharterNum  TEXT  null,\n",
      "    FundingType TEXT null,\n",
      "    DOC         TEXT  not null,\n",
      "    DOCType     TEXT not null,\n",
      "    SOC         TEXT  null,\n",
      "    SOCType     TEXT null,\n",
      "    EdOpsCode   TEXT  null,\n",
      "    EdOpsName   TEXT null,\n",
      "    EILCode     TEXT  null,\n",
      "    EILName     TEXT null,\n",
      "    GSoffered   TEXT null,\n",
      "    GSserved    TEXT  null,\n",
      "    Virtual     TEXT  null,\n",
      "    Magnet      INTEGER   null,\n",
      "    Latitude    REAL      null,\n",
      "    Longitude   REAL      null,\n",
      "    AdmFName1   TEXT null,\n",
      "    AdmLName1   TEXT null,\n",
      "    AdmEmail1   TEXT null,\n",
      "    AdmFName2   TEXT null,\n",
      "    AdmLName2   TEXT null,\n",
      "    AdmEmail2   TEXT null,\n",
      "    AdmFName3   TEXT  null,\n",
      "    AdmLName3   TEXT null,\n",
      "    AdmEmail3   TEXT null,\n",
      "    LastUpdate  DATE        not null\n",
      ")\n",
      "\n",
      "-- Using valid SQLite and understanding External Knowledge, answer the following questions for the tables provided above.\n",
      "-- What is the highest eligible free rate for K-12 students in the schools in Alameda County?\n",
      "-- External Knowledge: Eligible free rate for K-12 = `Free Meal Count (K-12)` / `Enrollment (K-12)`\n",
      "\n",
      "\n",
      "Generate the SQLite for the above question after thinking step by step: \n",
      "\n",
      "\n",
      "Instructions:\n",
      "- Make sure you only output the information that is asked in the question. If the question asks for a specific column, make sure to only include that column in the SELECT clause, nothing more.\n",
      "- The generated query should return all of the information asked in the question without any missing or extra information.\n",
      "- Before generating the final SQL query, please think through the steps of how to write the query.\n",
      "- Do not misuse column names, keep them in quotes `\n",
      "- Carefully understand what colomns belond to what tables\n",
      "- Use only initial column names, change names prohibited\n",
      "        \n",
      "Output Format:\n",
      "In your answer, please enclose the generated SQL query in a code block:\n",
      "```\n",
      "-- Your SQL query\n",
      "```    \n",
      "and nothing else, no exaplains, no comments (asnwer should be less than 512 characters)\n",
      "\n",
      "Take a deep breath and think step by step to find the correct SQL query in SQLite format.\n",
      "\n",
      "Question repetition: What is the highest eligible free rate for K-12 students in the schools in Alameda County?\n",
      "\n",
      "Be care! Include only what i want it questiona and nothing else<|im_end|>\n",
      "<|im_start|>assistant\n",
      "<think>\n",
      "\n",
      "</think>\n",
      "\n",
      "\n",
      "\n",
      "\n",
      "Максимальное количество токенов в промптах: 10232\n",
      "\n",
      "начинаем скорринг\n",
      "Загружаем чаты с данными...\n",
      "Данные успешно загружены\n",
      "Начали генерацию SQL запросов\n"
     ]
    },
    {
     "name": "stderr",
     "output_type": "stream",
     "text": [
      "Processed prompts: 100%|██████████| 1534/1534 [03:14<00:00,  7.87it/s, est. speed input: 23718.95 toks/s, output: 393.87 toks/s] "
     ]
    },
    {
     "name": "stdout",
     "output_type": "stream",
     "text": [
      "extract_think количество ошибок:  0\n",
      "extract_sql количество ошибок:  0\n",
      "Закончили генерацию SQL запросов\n",
      "Начали скорр полученных SQL запросов\n"
     ]
    },
    {
     "name": "stderr",
     "output_type": "stream",
     "text": [
      "\n"
     ]
    },
    {
     "name": "stdout",
     "output_type": "stream",
     "text": [
      "Qwen3-14B DEV Финальный результат EX: 57.11\n",
      "Qwen3-14B процент запросов, которые успешно выполнились DEV: 97.33%\n",
      "====================================================================================================\n",
      "\n",
      "\n",
      "Загружаем чаты с данными...\n",
      "Данные успешно загружены\n",
      "Начали генерацию SQL запросов\n"
     ]
    },
    {
     "name": "stderr",
     "output_type": "stream",
     "text": [
      "Processed prompts: 100%|██████████| 1534/1534 [03:18<00:00,  7.73it/s, est. speed input: 23290.63 toks/s, output: 389.45 toks/s] "
     ]
    },
    {
     "name": "stdout",
     "output_type": "stream",
     "text": [
      "extract_think количество ошибок:  0\n",
      "extract_sql количество ошибок:  0\n",
      "Закончили генерацию SQL запросов\n",
      "Начали скорр полученных SQL запросов\n"
     ]
    },
    {
     "name": "stderr",
     "output_type": "stream",
     "text": [
      "\n"
     ]
    },
    {
     "name": "stdout",
     "output_type": "stream",
     "text": [
      "Qwen3-14B DEV Финальный результат EX: 57.04\n",
      "Qwen3-14B процент запросов, которые успешно выполнились DEV: 97.33%\n",
      "====================================================================================================\n",
      "\n",
      "\n",
      "Загружаем чаты с данными...\n",
      "Данные успешно загружены\n",
      "Начали генерацию SQL запросов\n"
     ]
    },
    {
     "name": "stderr",
     "output_type": "stream",
     "text": [
      "Processed prompts: 100%|██████████| 1534/1534 [03:18<00:00,  7.72it/s, est. speed input: 23538.45 toks/s, output: 388.94 toks/s] "
     ]
    },
    {
     "name": "stdout",
     "output_type": "stream",
     "text": [
      "extract_think количество ошибок:  0\n",
      "extract_sql количество ошибок:  0\n",
      "Закончили генерацию SQL запросов\n",
      "Начали скорр полученных SQL запросов\n"
     ]
    },
    {
     "name": "stderr",
     "output_type": "stream",
     "text": [
      "\n"
     ]
    },
    {
     "name": "stdout",
     "output_type": "stream",
     "text": [
      "Qwen3-14B DEV Финальный результат EX: 57.11\n",
      "Qwen3-14B процент запросов, которые успешно выполнились DEV: 96.48%\n",
      "====================================================================================================\n",
      "\n",
      "\n",
      "Загружаем чаты с данными...\n",
      "Данные успешно загружены\n",
      "Начали генерацию SQL запросов\n"
     ]
    },
    {
     "name": "stderr",
     "output_type": "stream",
     "text": [
      "Processed prompts: 100%|██████████| 1534/1534 [03:26<00:00,  7.42it/s, est. speed input: 23123.02 toks/s, output: 377.64 toks/s]"
     ]
    },
    {
     "name": "stdout",
     "output_type": "stream",
     "text": [
      "extract_think количество ошибок:  0\n",
      "extract_sql количество ошибок:  0\n",
      "Закончили генерацию SQL запросов\n",
      "Начали скорр полученных SQL запросов\n"
     ]
    },
    {
     "name": "stderr",
     "output_type": "stream",
     "text": [
      "\n"
     ]
    },
    {
     "name": "stdout",
     "output_type": "stream",
     "text": [
      "Qwen3-14B DEV Финальный результат EX: 57.37\n",
      "Qwen3-14B процент запросов, которые успешно выполнились DEV: 96.15%\n",
      "====================================================================================================\n",
      "\n",
      "\n",
      "Загружаем чаты с данными...\n",
      "Данные успешно загружены\n",
      "Начали генерацию SQL запросов\n"
     ]
    },
    {
     "name": "stderr",
     "output_type": "stream",
     "text": [
      "Processed prompts: 100%|██████████| 1534/1534 [03:30<00:00,  7.30it/s, est. speed input: 22808.23 toks/s, output: 370.76 toks/s] "
     ]
    },
    {
     "name": "stdout",
     "output_type": "stream",
     "text": [
      "extract_think количество ошибок:  0\n",
      "extract_sql количество ошибок:  0\n",
      "Закончили генерацию SQL запросов\n",
      "Начали скорр полученных SQL запросов\n"
     ]
    },
    {
     "name": "stderr",
     "output_type": "stream",
     "text": [
      "\n"
     ]
    },
    {
     "name": "stdout",
     "output_type": "stream",
     "text": [
      "Qwen3-14B DEV Финальный результат EX: 56.45\n",
      "Qwen3-14B процент запросов, которые успешно выполнились DEV: 96.54%\n",
      "====================================================================================================\n",
      "\n",
      "\n",
      "Загружаем чаты с данными...\n",
      "Данные успешно загружены\n",
      "Начали генерацию SQL запросов\n"
     ]
    },
    {
     "name": "stderr",
     "output_type": "stream",
     "text": [
      "Processed prompts: 100%|██████████| 1534/1534 [03:07<00:00,  8.20it/s, est. speed input: 23246.47 toks/s, output: 414.48 toks/s] "
     ]
    },
    {
     "name": "stdout",
     "output_type": "stream",
     "text": [
      "extract_think количество ошибок:  0\n",
      "extract_sql количество ошибок:  0\n",
      "Закончили генерацию SQL запросов\n",
      "Начали скорр полученных SQL запросов\n"
     ]
    },
    {
     "name": "stderr",
     "output_type": "stream",
     "text": [
      "\n"
     ]
    },
    {
     "name": "stdout",
     "output_type": "stream",
     "text": [
      "Qwen3-14B DEV Финальный результат EX: 57.11\n",
      "Qwen3-14B процент запросов, которые успешно выполнились DEV: 96.28%\n",
      "====================================================================================================\n",
      "\n",
      "\n",
      "Загружаем чаты с данными...\n",
      "Данные успешно загружены\n",
      "Начали генерацию SQL запросов\n"
     ]
    },
    {
     "name": "stderr",
     "output_type": "stream",
     "text": [
      "Processed prompts: 100%|██████████| 1534/1534 [02:59<00:00,  8.53it/s, est. speed input: 23305.85 toks/s, output: 430.77 toks/s] "
     ]
    },
    {
     "name": "stdout",
     "output_type": "stream",
     "text": [
      "extract_think количество ошибок:  0\n",
      "extract_sql количество ошибок:  0\n",
      "Закончили генерацию SQL запросов\n",
      "Начали скорр полученных SQL запросов\n"
     ]
    },
    {
     "name": "stderr",
     "output_type": "stream",
     "text": [
      "\n"
     ]
    },
    {
     "name": "stdout",
     "output_type": "stream",
     "text": [
      "Qwen3-14B DEV Финальный результат EX: 57.30\n",
      "Qwen3-14B процент запросов, которые успешно выполнились DEV: 96.09%\n",
      "====================================================================================================\n",
      "\n",
      "\n",
      "Загружаем чаты с данными...\n",
      "Данные успешно загружены\n",
      "Начали генерацию SQL запросов\n"
     ]
    },
    {
     "name": "stderr",
     "output_type": "stream",
     "text": [
      "Processed prompts: 100%|██████████| 1534/1534 [03:11<00:00,  8.02it/s, est. speed input: 23463.50 toks/s, output: 403.37 toks/s] "
     ]
    },
    {
     "name": "stdout",
     "output_type": "stream",
     "text": [
      "extract_think количество ошибок:  0\n",
      "extract_sql количество ошибок:  0\n",
      "Закончили генерацию SQL запросов\n",
      "Начали скорр полученных SQL запросов\n"
     ]
    },
    {
     "name": "stderr",
     "output_type": "stream",
     "text": [
      "\n"
     ]
    },
    {
     "name": "stdout",
     "output_type": "stream",
     "text": [
      "Qwen3-14B DEV Финальный результат EX: 57.69\n",
      "Qwen3-14B процент запросов, которые успешно выполнились DEV: 96.48%\n",
      "====================================================================================================\n",
      "\n",
      "\n",
      "Загружаем чаты с данными...\n",
      "Данные успешно загружены\n",
      "Начали генерацию SQL запросов\n"
     ]
    },
    {
     "name": "stderr",
     "output_type": "stream",
     "text": [
      "Processed prompts: 100%|██████████| 1534/1534 [03:14<00:00,  7.87it/s, est. speed input: 23154.10 toks/s, output: 400.92 toks/s] "
     ]
    },
    {
     "name": "stdout",
     "output_type": "stream",
     "text": [
      "extract_think количество ошибок:  0\n",
      "extract_sql количество ошибок:  0\n",
      "Закончили генерацию SQL запросов\n",
      "Начали скорр полученных SQL запросов\n"
     ]
    },
    {
     "name": "stderr",
     "output_type": "stream",
     "text": [
      "\n"
     ]
    },
    {
     "name": "stdout",
     "output_type": "stream",
     "text": [
      "Qwen3-14B DEV Финальный результат EX: 56.84\n",
      "Qwen3-14B процент запросов, которые успешно выполнились DEV: 96.15%\n",
      "====================================================================================================\n",
      "\n",
      "\n",
      "Загружаем чаты с данными...\n",
      "Данные успешно загружены\n",
      "Начали генерацию SQL запросов\n"
     ]
    },
    {
     "name": "stderr",
     "output_type": "stream",
     "text": [
      "Processed prompts: 100%|██████████| 1534/1534 [03:13<00:00,  7.95it/s, est. speed input: 23853.84 toks/s, output: 402.09 toks/s] "
     ]
    },
    {
     "name": "stdout",
     "output_type": "stream",
     "text": [
      "extract_think количество ошибок:  0\n",
      "extract_sql количество ошибок:  0\n",
      "Закончили генерацию SQL запросов\n",
      "Начали скорр полученных SQL запросов\n"
     ]
    },
    {
     "name": "stderr",
     "output_type": "stream",
     "text": [
      "\n"
     ]
    },
    {
     "name": "stdout",
     "output_type": "stream",
     "text": [
      "Qwen3-14B DEV Финальный результат EX: 57.50\n",
      "Qwen3-14B процент запросов, которые успешно выполнились DEV: 96.74%\n",
      "====================================================================================================\n",
      "\n",
      "\n",
      "Загружаем чаты с данными...\n",
      "Данные успешно загружены\n",
      "Начали генерацию SQL запросов\n"
     ]
    },
    {
     "name": "stderr",
     "output_type": "stream",
     "text": [
      "Processed prompts: 100%|██████████| 1534/1534 [03:16<00:00,  7.80it/s, est. speed input: 23300.66 toks/s, output: 398.71 toks/s] "
     ]
    },
    {
     "name": "stdout",
     "output_type": "stream",
     "text": [
      "extract_think количество ошибок:  0\n",
      "extract_sql количество ошибок:  0\n",
      "Закончили генерацию SQL запросов\n",
      "Начали скорр полученных SQL запросов\n"
     ]
    },
    {
     "name": "stderr",
     "output_type": "stream",
     "text": [
      "\n"
     ]
    },
    {
     "name": "stdout",
     "output_type": "stream",
     "text": [
      "Qwen3-14B DEV Финальный результат EX: 57.69\n",
      "Qwen3-14B процент запросов, которые успешно выполнились DEV: 96.28%\n",
      "====================================================================================================\n",
      "\n",
      "\n",
      "Загружаем чаты с данными...\n",
      "Данные успешно загружены\n",
      "Начали генерацию SQL запросов\n"
     ]
    },
    {
     "name": "stderr",
     "output_type": "stream",
     "text": [
      "Processed prompts: 100%|██████████| 1534/1534 [03:12<00:00,  7.98it/s, est. speed input: 23444.09 toks/s, output: 404.40 toks/s] "
     ]
    },
    {
     "name": "stdout",
     "output_type": "stream",
     "text": [
      "extract_think количество ошибок:  0\n",
      "extract_sql количество ошибок:  0\n",
      "Закончили генерацию SQL запросов\n",
      "Начали скорр полученных SQL запросов\n"
     ]
    },
    {
     "name": "stderr",
     "output_type": "stream",
     "text": [
      "\n"
     ]
    },
    {
     "name": "stdout",
     "output_type": "stream",
     "text": [
      "Qwen3-14B DEV Финальный результат EX: 57.30\n",
      "Qwen3-14B процент запросов, которые успешно выполнились DEV: 96.41%\n",
      "====================================================================================================\n",
      "\n",
      "\n",
      "Загружаем чаты с данными...\n",
      "Данные успешно загружены\n",
      "Начали генерацию SQL запросов\n"
     ]
    },
    {
     "name": "stderr",
     "output_type": "stream",
     "text": [
      "Processed prompts: 100%|██████████| 1534/1534 [03:18<00:00,  7.72it/s, est. speed input: 23493.14 toks/s, output: 394.12 toks/s] "
     ]
    },
    {
     "name": "stdout",
     "output_type": "stream",
     "text": [
      "extract_think количество ошибок:  0\n",
      "extract_sql количество ошибок:  0\n",
      "Закончили генерацию SQL запросов\n",
      "Начали скорр полученных SQL запросов\n"
     ]
    },
    {
     "name": "stderr",
     "output_type": "stream",
     "text": [
      "\n"
     ]
    },
    {
     "name": "stdout",
     "output_type": "stream",
     "text": [
      "Qwen3-14B DEV Финальный результат EX: 57.95\n",
      "Qwen3-14B процент запросов, которые успешно выполнились DEV: 96.02%\n",
      "====================================================================================================\n",
      "\n",
      "\n",
      "Загружаем чаты с данными...\n",
      "Данные успешно загружены\n",
      "Начали генерацию SQL запросов\n"
     ]
    },
    {
     "name": "stderr",
     "output_type": "stream",
     "text": [
      "Processed prompts: 100%|██████████| 1534/1534 [02:48<00:00,  9.12it/s, est. speed input: 24072.94 toks/s, output: 457.32 toks/s] "
     ]
    },
    {
     "name": "stdout",
     "output_type": "stream",
     "text": [
      "extract_think количество ошибок:  0\n",
      "extract_sql количество ошибок:  0\n",
      "Закончили генерацию SQL запросов\n",
      "Начали скорр полученных SQL запросов\n"
     ]
    },
    {
     "name": "stderr",
     "output_type": "stream",
     "text": [
      "\n"
     ]
    },
    {
     "name": "stdout",
     "output_type": "stream",
     "text": [
      "Qwen3-14B DEV Финальный результат EX: 57.82\n",
      "Qwen3-14B процент запросов, которые успешно выполнились DEV: 96.54%\n",
      "====================================================================================================\n",
      "\n",
      "\n",
      "Загружаем чаты с данными...\n",
      "Данные успешно загружены\n",
      "Начали генерацию SQL запросов\n"
     ]
    },
    {
     "name": "stderr",
     "output_type": "stream",
     "text": [
      "Processed prompts: 100%|██████████| 1534/1534 [02:15<00:00, 11.34it/s, est. speed input: 26003.17 toks/s, output: 561.14 toks/s] "
     ]
    },
    {
     "name": "stdout",
     "output_type": "stream",
     "text": [
      "extract_think количество ошибок:  0\n",
      "extract_sql количество ошибок:  0\n",
      "Закончили генерацию SQL запросов\n",
      "Начали скорр полученных SQL запросов\n"
     ]
    },
    {
     "name": "stderr",
     "output_type": "stream",
     "text": [
      "\n"
     ]
    },
    {
     "name": "stdout",
     "output_type": "stream",
     "text": [
      "Qwen3-14B DEV Финальный результат EX: 56.32\n",
      "Qwen3-14B процент запросов, которые успешно выполнились DEV: 95.37%\n",
      "====================================================================================================\n",
      "\n",
      "\n",
      "Загружаем чаты с данными...\n",
      "Данные успешно загружены\n",
      "Начали генерацию SQL запросов\n"
     ]
    },
    {
     "name": "stderr",
     "output_type": "stream",
     "text": [
      "Processed prompts: 100%|██████████| 1534/1534 [02:47<00:00,  9.14it/s, est. speed input: 24156.59 toks/s, output: 459.91 toks/s] "
     ]
    },
    {
     "name": "stdout",
     "output_type": "stream",
     "text": [
      "extract_think количество ошибок:  0\n",
      "extract_sql количество ошибок:  0\n",
      "Закончили генерацию SQL запросов\n",
      "Начали скорр полученных SQL запросов\n"
     ]
    },
    {
     "name": "stderr",
     "output_type": "stream",
     "text": [
      "\n"
     ]
    },
    {
     "name": "stdout",
     "output_type": "stream",
     "text": [
      "Qwen3-14B DEV Финальный результат EX: 57.37\n",
      "Qwen3-14B процент запросов, которые успешно выполнились DEV: 95.89%\n",
      "====================================================================================================\n",
      "\n",
      "\n",
      "Загружаем чаты с данными...\n",
      "Данные успешно загружены\n",
      "Начали генерацию SQL запросов\n"
     ]
    },
    {
     "name": "stderr",
     "output_type": "stream",
     "text": [
      "Processed prompts: 100%|██████████| 1534/1534 [03:13<00:00,  7.92it/s, est. speed input: 23171.93 toks/s, output: 404.13 toks/s] "
     ]
    },
    {
     "name": "stdout",
     "output_type": "stream",
     "text": [
      "extract_think количество ошибок:  0\n",
      "extract_sql количество ошибок:  0\n",
      "Закончили генерацию SQL запросов\n",
      "Начали скорр полученных SQL запросов\n"
     ]
    },
    {
     "name": "stderr",
     "output_type": "stream",
     "text": [
      "\n"
     ]
    },
    {
     "name": "stdout",
     "output_type": "stream",
     "text": [
      "Qwen3-14B DEV Финальный результат EX: 56.71\n",
      "Qwen3-14B процент запросов, которые успешно выполнились DEV: 96.41%\n",
      "====================================================================================================\n",
      "\n",
      "\n",
      "Загружаем чаты с данными...\n",
      "Данные успешно загружены\n",
      "Начали генерацию SQL запросов\n"
     ]
    },
    {
     "name": "stderr",
     "output_type": "stream",
     "text": [
      "Processed prompts: 100%|██████████| 1534/1534 [03:21<00:00,  7.60it/s, est. speed input: 23109.25 toks/s, output: 388.95 toks/s] "
     ]
    },
    {
     "name": "stdout",
     "output_type": "stream",
     "text": [
      "extract_think количество ошибок:  0\n",
      "extract_sql количество ошибок:  0\n",
      "Закончили генерацию SQL запросов\n",
      "Начали скорр полученных SQL запросов\n"
     ]
    },
    {
     "name": "stderr",
     "output_type": "stream",
     "text": [
      "\n"
     ]
    },
    {
     "name": "stdout",
     "output_type": "stream",
     "text": [
      "Qwen3-14B DEV Финальный результат EX: 56.65\n",
      "Qwen3-14B процент запросов, которые успешно выполнились DEV: 96.22%\n",
      "====================================================================================================\n",
      "\n",
      "\n",
      "Загружаем чаты с данными...\n",
      "Данные успешно загружены\n",
      "Начали генерацию SQL запросов\n"
     ]
    },
    {
     "name": "stderr",
     "output_type": "stream",
     "text": [
      "Processed prompts: 100%|██████████| 1534/1534 [03:23<00:00,  7.52it/s, est. speed input: 23123.33 toks/s, output: 381.13 toks/s] "
     ]
    },
    {
     "name": "stdout",
     "output_type": "stream",
     "text": [
      "extract_think количество ошибок:  0\n",
      "extract_sql количество ошибок:  0\n",
      "Закончили генерацию SQL запросов\n",
      "Начали скорр полученных SQL запросов\n"
     ]
    },
    {
     "name": "stderr",
     "output_type": "stream",
     "text": [
      "\n"
     ]
    },
    {
     "name": "stdout",
     "output_type": "stream",
     "text": [
      "Qwen3-14B DEV Финальный результат EX: 58.08\n",
      "Qwen3-14B процент запросов, которые успешно выполнились DEV: 96.41%\n",
      "====================================================================================================\n",
      "\n",
      "\n",
      "Загружаем чаты с данными...\n",
      "Данные успешно загружены\n",
      "Начали генерацию SQL запросов\n"
     ]
    },
    {
     "name": "stderr",
     "output_type": "stream",
     "text": [
      "Processed prompts: 100%|██████████| 1534/1534 [03:19<00:00,  7.68it/s, est. speed input: 23277.08 toks/s, output: 390.54 toks/s] "
     ]
    },
    {
     "name": "stdout",
     "output_type": "stream",
     "text": [
      "extract_think количество ошибок:  0\n",
      "extract_sql количество ошибок:  0\n",
      "Закончили генерацию SQL запросов\n",
      "Начали скорр полученных SQL запросов\n"
     ]
    },
    {
     "name": "stderr",
     "output_type": "stream",
     "text": [
      "\n"
     ]
    },
    {
     "name": "stdout",
     "output_type": "stream",
     "text": [
      "Qwen3-14B DEV Финальный результат EX: 57.17\n",
      "Qwen3-14B процент запросов, которые успешно выполнились DEV: 96.28%\n",
      "====================================================================================================\n",
      "\n",
      "\n"
     ]
    }
   ],
   "source": [
    "run_cot_experiment(model,arr_seeds,arr_versions, type_cot,num_observations=num_observations)"
   ]
  },
  {
   "cell_type": "code",
   "execution_count": 29,
   "id": "a20fe4f1-be38-4f30-b534-5959cc12deea",
   "metadata": {},
   "outputs": [
    {
     "name": "stdout",
     "output_type": "stream",
     "text": [
      "[487, 226, 916, 129, 904, 786, 213, 477, 823, 890, 380, 159, 789, 991, 341, 270, 3, 350, 108, 435]\n",
      "model: Qwen3-14B\n"
     ]
    }
   ],
   "source": [
    "n= 20\n",
    "arr_seeds = [random.randint(0,1000) for _ in range(n)]\n",
    "arr_versions = [x for x in range(n)]\n",
    "model = \"Qwen3-14B\"\n",
    "num_observations = 3\n",
    "type_cot = 'think'\n",
    "print(arr_seeds)\n",
    "print(f\"model: {model}\")"
   ]
  },
  {
   "cell_type": "code",
   "execution_count": 30,
   "id": "61d9bd8d-dd04-4a14-a288-585190158702",
   "metadata": {
    "scrolled": true
   },
   "outputs": [
    {
     "name": "stdout",
     "output_type": "stream",
     "text": [
      "Загружаем модель...\n"
     ]
    },
    {
     "name": "stderr",
     "output_type": "stream",
     "text": [
      "Loading safetensors checkpoint shards:   0% Completed | 0/8 [00:00<?, ?it/s]\n",
      "Loading safetensors checkpoint shards:  12% Completed | 1/8 [00:01<00:09,  1.38s/it]\n",
      "Loading safetensors checkpoint shards:  25% Completed | 2/8 [00:02<00:08,  1.41s/it]\n",
      "Loading safetensors checkpoint shards:  38% Completed | 3/8 [00:04<00:06,  1.40s/it]\n",
      "Loading safetensors checkpoint shards:  50% Completed | 4/8 [00:05<00:05,  1.40s/it]\n",
      "Loading safetensors checkpoint shards:  62% Completed | 5/8 [00:07<00:04,  1.41s/it]\n",
      "Loading safetensors checkpoint shards:  75% Completed | 6/8 [00:07<00:02,  1.18s/it]\n",
      "Loading safetensors checkpoint shards:  88% Completed | 7/8 [00:09<00:01,  1.24s/it]\n",
      "Loading safetensors checkpoint shards: 100% Completed | 8/8 [00:10<00:00,  1.27s/it]\n",
      "Loading safetensors checkpoint shards: 100% Completed | 8/8 [00:10<00:00,  1.31s/it]\n",
      "\u001b[1;36m(VllmWorker rank=0 pid=1140985)\u001b[0;0m \n"
     ]
    },
    {
     "name": "stdout",
     "output_type": "stream",
     "text": [
      "Модель успешно загружена\n",
      "model_config {'model': '/data/home/vkropoti/models/Qwen3-14B', 'tensor_parallel_size': 2, 'max_model_len': 40000, 'max_new_tokens': 1500, 'temperature': 0, 'top_k': 1, 'top_p': 0.8, 'gpu_memory_utilization': 0.9, 'trust_remote_code': False, 'seed': 487}\n",
      "\n",
      "prompts_config {'path_dev_json': '/home/vkropoti/vllm/dev.json', 'path_sql_dbs': '/data/home/vkropoti/sql_data/dev_databases/', 'use_reasoning': False, 'paths_to_cot': ['/data/home/vkropoti/sql_llm_answers/bird_dev/sql_think_Qwen3-14B-reasoning-v0', '/data/home/vkropoti/sql_llm_answers/bird_dev/sql_think_Qwen3-14B-reasoning-v1', '/data/home/vkropoti/sql_llm_answers/bird_dev/sql_think_Qwen3-14B-reasoning-v2']}\n",
      "\n",
      "save_config {'path_sql_save': '/data/home/vkropoti/sql_llm_answers/bird_dev/sql_all_Qwen3-14B-cot_think_think==False_nobs3-v0', 'path_think_save': None, 'path_sql_answers_save': '/data/home/vkropoti/sql_llm_answers/bird_dev/sql_predict_Qwen3-14B-cot_think_think==False_nobs3-v0', 'path_to_save_scores': '/data/home/vkropoti/sql_llm_answers/bird_dev/sql_results_Qwen3-14B-cot_think_think==False_nobs3-v0', 'path_to_save_executed': '/data/home/vkropoti/sql_llm_answers/bird_dev/sql_executed_Qwen3-14B-cot_think_think==False_nobs3-v0'}\n",
      "\n",
      "Модель успешно загружена\n",
      "Пример промпта\n",
      "<|im_start|>system\n",
      "\n",
      "You are a data science expert. Below, you are provided with a database schema and a natural language question. Your task is to understand the schema and generate a valid SQL query to answer the question.\n",
      "\n",
      "Database Engine: SQLite\n",
      "\n",
      "You will be given an additional analysis of other models, please take it into account, so the plan is\n",
      "1. Analyse given addition analysis from other models (find in which analysis the same and differ, how to use that to answer question)\n",
      "2. Combine best from previous part and think how to solve the problem (analyze tables, take care what columns avaliable in each table and so on, check the syntacsis)\n",
      "3. Create the answers. The answer should be only sql query.\n",
      "\n",
      "Carefully follow the instruction and add <|im_end|> and the end of the final answer<|im_end|>\n",
      "<|im_start|>user\n",
      "Here is addition analysis from other models which can be helpfull, please take this into account but be careful (choose the best from each analysis, combine them to make the most proper answer):\n",
      "\n",
      "model 0 analysis:\n",
      " Okay, let's see. The user is asking for the highest eligible free rate for K-12 students in schools located in Alameda County. \n",
      "\n",
      "First, I need to figure out which tables are relevant here. The question mentions \"eligible free rate,\" which is calculated as `Free Meal Count (K-12)` divided by `Enrollment (K-12)`. Looking at the tables provided, the `frpm` table contains these exact columns: `Free Meal Count (K-12)` and `Enrollment (K-12)`. So, the calculation will be done using the `frpm` table.\n",
      "\n",
      "Next, the schools need to be in Alameda County. The `County` column is present in the `schools` table. But the `frpm` table has a `County Name` column. Wait, but the user is asking for schools in Alameda County. Which table's county field should I use? The `frpm` table has a `County Name` column, and the `schools` table has a `County` column. However, since the `frpm` table has a foreign key relationship with `schools` via `CDSCode`, maybe I need to join the two tables to get the county information from `schools`?\n",
      "\n",
      "Wait, the question says \"schools in Alameda County.\" So the county is determined by the school's county, which is in the `schools` table. Therefore, I should join `frpm` with `schools` on `CDSCode` to get the `County` from `schools` and filter where that county is 'Alameda'.\n",
      "\n",
      "But let me check the schema again. The `frpm` table has a `County Name` column. However, the `schools` table has a `County` column. Maybe the `frpm` is referencing the schools' county, but perhaps the `County Name` in `frpm` is redundant. However, the user wants to filter based on the school's county, which is in the `schools` table. Therefore, to get accurate information, I should join `frpm` with `schools` on `CDSCode` and then filter `schools.County = 'Alameda'`.\n",
      "\n",
      "So the steps are:\n",
      "\n",
      "1. Join `frpm` and `schools` on `CDSCode`.\n",
      "2. Filter where `schools.County = 'Alameda'`.\n",
      "3. Calculate the eligible free rate as `Free Meal Count (K-12)` / `Enrollment (K-12)`.\n",
      "4. Find the maximum value of this calculated rate.\n",
      "\n",
      "But wait, in the `frpm` table, there's also a `County Name` column. Could that be used instead? However, the `schools` table's `County` might be more reliable. For example, if a school is in Alameda County, the `schools` table's `County` should be 'Alameda', whereas the `County Name` in `frpm` might be the same. But since the `frpm` has a foreign key to `schools`, perhaps the county is consistent between both tables. However, to be safe, using `schools.County = 'Alameda'` is better because that's the school's actual county.\n",
      "\n",
      "So, the query would involve joining `frpm` with `schools` where `CDSCode` matches. Then, filter on `schools.County = 'Alameda'`. Then calculate the rate and find the maximum.\n",
      "\n",
      "But what if there are multiple entries in `frpm` for the same school? The `frpm` table has `CDSCode` as primary key, so each school has one entry in `frpm`. So the join is straightforward.\n",
      "\n",
      "Now, the SQL query would select the maximum of (Free Meal Count / Enrollment) where the county is Alameda. The columns are in the `frpm` table, so after joining with `schools` to get the county.\n",
      "\n",
      "So the query would be:\n",
      "\n",
      "SELECT MAX(`Free Meal Count (K-12)` / `Enrollment (K-12)`) AS highest_rate\n",
      "FROM frpm\n",
      "JOIN schools ON frpm.CDSCode = schools.CDSCode\n",
      "WHERE schools.County = 'Alameda';\n",
      "\n",
      "But I need to make sure that the `Enrollment (K-12)` is not zero to avoid division by zero. However, the question might assume that all entries have valid enrollment numbers. If not, perhaps a WHERE clause to exclude zero enrollments. But since the problem doesn't mention handling that, maybe it's safe to proceed without it.\n",
      "\n",
      "Also, the `frpm` table has `Enrollment (K-12)` as a REAL, so division should be handled as floating points.\n",
      "\n",
      "So the final SQL is as above, selecting the MAX of the calculated rate, joining on CDSCode, and filtering for Alameda County in the schools table.\n",
      "\n",
      "model 1 analysis:\n",
      " Okay, I need to find the highest eligible free rate for K-12 students in schools located in Alameda County. Let me break this down.\n",
      "\n",
      "First, the eligible free rate is calculated as `Free Meal Count (K-12)` divided by `Enrollment (K-12)`. The question is asking for the maximum value of this rate among schools in Alameda County.\n",
      "\n",
      "Looking at the tables, the `frpm` table has both `Free Meal Count (K-12)` and `Enrollment (K-12)` columns. Also, the `frpm` table has a `County Name` column which should be used to filter for Alameda County.\n",
      "\n",
      "Wait, but there's also a `schools` table with a `County` column. However, the `frpm` table's `County Name` is likely the correct one to use since it's part of the same dataset. The `schools` table might have different county info, but the question mentions using the `frpm` data.\n",
      "\n",
      "So, the plan is to select the maximum of (`Free Meal Count (K-12)` / `Enrollment (K-12)`) from the `frpm` table where `County Name` is 'Alameda County'.\n",
      "\n",
      "But wait, I need to make sure that the `County Name` is correctly spelled and matches the data. Also, the `frpm` table has a foreign key to `schools` via `CDSCode`, but maybe the county info is already in `frpm` so joining isn't necessary. Let me check the schema again.\n",
      "\n",
      "Yes, `frpm` has `County Name` as a column. So I don't need to join with `schools` for the county. Therefore, the query can be written directly on the `frpm` table.\n",
      "\n",
      "Now, the SQL query would use the MAX function on the division of those two columns. Also, since these are REAL numbers, the division should work. Need to make sure that `Enrollment (K-12)` is not zero to avoid division by zero, but the question might assume that all entries have valid enrollments.\n",
      "\n",
      "So the final query would be:\n",
      "\n",
      "SELECT MAX(`Free Meal Count (K-12)` / `Enrollment (K-12)`) FROM frpm WHERE `County Name` = 'Alameda County';\n",
      "\n",
      "Wait, but the `County Name` might have entries like 'Alameda County' exactly. I should check if the data uses that exact name. Assuming it does, this query should work.\n",
      "\n",
      "model 2 analysis:\n",
      " Okay, let's see. The user is asking for the highest eligible free rate for K-12 students in Alameda County. The eligible free rate is calculated as Free Meal Count (K-12) divided by Enrollment (K-12). \n",
      "\n",
      "First, I need to figure out which tables have the necessary data. The frpm table has columns for Free Meal Count (K-12) and Enrollment (K-12), which are needed for the calculation. Also, the frpm table has a County Name column, which I can use to filter for Alameda County.\n",
      "\n",
      "Wait, but the schools table also has a County column. Hmm, but the frpm table has a foreign key to schools, so maybe the County Name in frpm is redundant? But the user's question specifies using the county from the schools table? Or maybe not. Let me check the schema again.\n",
      "\n",
      "Looking at the frpm table's columns, there's a `County Name` field. The schools table has a `County` field. But the question is about Alameda County, so I need to make sure which table's county field is correct. However, since the frpm table has a foreign key to schools, perhaps the county in frpm is derived from schools. But maybe the question uses the `County Name` from frpm directly. The user's instruction says to use the column names as they are, so I should check the frpm table's columns.\n",
      "\n",
      "So, to filter for Alameda County, I need to use the `County Name` column in the frpm table. Wait, but maybe the schools table's County is more accurate? The problem says to use the columns as they are. Let me recheck the tables.\n",
      "\n",
      "In the frpm table, there's `County Name`, and in schools, there's `County`. The user's question is about schools in Alameda County. If the frpm table's `County Name` is the correct county for the school, then using that would be better. Alternatively, since the frpm table references schools, maybe the county from the schools table is more accurate. But the user hasn't specified which one to use. However, since the frpm table has `County Name` and the question is about schools in Alameda County, I think the correct approach is to use the `County Name` from the frpm table because that's the county associated with the school in the frpm context.\n",
      "\n",
      "Wait, but the problem says to use the columns as they are. Let me look again. The frpm table has `County Name` as a column. The schools table has `County`. The user's question is about schools in Alameda County. Since the frpm table has a foreign key to schools, perhaps the county in frpm is the same as in schools. However, if the question is about the schools' county, then using the schools table's County would be more accurate. But without more info, perhaps the user expects using the `County Name` from the frpm table. Alternatively, maybe the schools table's County is the correct one. However, the question mentions \"schools in Alameda County\" which would be in the schools table's County field. But since the frpm table has the county name, maybe the user expects that.\n",
      "\n",
      "Alternatively, maybe the frpm table's `County Name` is redundant and the schools table's County is the correct one. However, since the frpm table has that field, maybe the user expects to use it. But I need to check the correct way. Let's think: the frpm table has the `County Name` as a column. So, if a school is in Alameda County, the `County Name` in frpm should be 'Alameda County'. So, the correct filter is `frpm.\"County Name\" = 'Alameda County'`.\n",
      "\n",
      "Now, the calculation is Free Meal Count (K-12) / Enrollment (K-12). The frpm table has both columns. So the SQL would select the maximum of that ratio. So the query would be:\n",
      "\n",
      "SELECT MAX(`Free Meal Count (K-12)` / `Enrollment (K-12)`) FROM frpm WHERE `County Name` = 'Alameda County';\n",
      "\n",
      "Wait, but the user wants the highest rate, so MAX of that calculation. That's correct.\n",
      "\n",
      "But need to ensure that both columns are not null, but the question doesn't mention handling nulls. So assuming that where the data is present, the division is valid.\n",
      "\n",
      "Therefore, the final query is selecting the maximum of that ratio from the frpm table where the county name is Alameda County.\n",
      "\n",
      "\n",
      "here is avaliable tables below\n",
      "\n",
      "\n",
      "Table: frpm\n",
      "CREATE TABLE frpm\n",
      "(\n",
      "    CDSCode                                       TEXT not null\n",
      "        primary key,\n",
      "    `Academic Year`                               TEXT  null,\n",
      "    `County Code`                                 TEXT  null,\n",
      "    `District Code`                               INTEGER         null,\n",
      "    `School Code`                                 TEXT  null,\n",
      "    `County Name`                                 TEXT null,\n",
      "    `District Name`                               TEXT null,\n",
      "    `School Name`                                 TEXT null,\n",
      "    `District Type`                               TEXT null,\n",
      "    `School Type`                                 TEXT null,\n",
      "    `Educational Option Type`                     TEXT null,\n",
      "    `NSLP Provision Status`                       TEXT null,\n",
      "    `Charter School (Y/N)`                        INTEGER    null,\n",
      "    `Charter School Number`                       TEXT  null,\n",
      "    `Charter Funding Type`                        TEXT null,\n",
      "    IRC                                           INTEGER    null,\n",
      "    `Low Grade`                                   TEXT  null,\n",
      "    `High Grade`                                  TEXT null,\n",
      "    `Enrollment (K-12)`                           REAL      null,\n",
      "    `Free Meal Count (K-12)`                      REAL       null,\n",
      "    `Percent (%) Eligible Free (K-12)`            REAL       null,\n",
      "    `FRPM Count (K-12)`                           REAL       null,\n",
      "    `Percent (%) Eligible FRPM (K-12)`            REAL       null,\n",
      "    `Enrollment (Ages 5-17)`                      REAL       null,\n",
      "    `Free Meal Count (Ages 5-17)`                 REAL       null,\n",
      "    `Percent (%) Eligible Free (Ages 5-17)`       REAL       null,\n",
      "    `FRPM Count (Ages 5-17)`                      REAL       null,\n",
      "    `Percent (%) Eligible FRPM (Ages 5-17)`       REAL       null,\n",
      "    `2013-14 CALPADS Fall 1 Certification Status` INTEGER    null,\n",
      "    foreign key (CDSCode) references schools (CDSCode)\n",
      ")\n",
      "\n",
      "Table: satscores\n",
      "CREATE TABLE satscores\n",
      "(\n",
      "    cds         TEXT not null\n",
      "        primary key,\n",
      "    rtype       TEXT  not null,\n",
      "    sname       TEXT null,\n",
      "    dname       TEXT null,\n",
      "    cname       TEXT null,\n",
      "    enroll12    INTEGER         not null,\n",
      "    NumTstTakr  INTEGER          not null,\n",
      "    AvgScrRead  INTEGER          null,\n",
      "    AvgScrMath  INTEGER          null,\n",
      "    AvgScrWrite INTEGER          null,\n",
      "    NumGE1500   INTEGER          null,\n",
      "--     PctGE1500   double      null,\n",
      "        foreign key (cds) references schools (CDSCode)\n",
      ")\n",
      "\n",
      "Table: schools\n",
      "CREATE TABLE schools\n",
      "(\n",
      "    CDSCode     TEXT not null\n",
      "        primary key,\n",
      "    NCESDist    TEXT  null,\n",
      "    NCESSchool  TEXT  null,\n",
      "    StatusType  TEXT  not null,\n",
      "    County      TEXT not null,\n",
      "    District    TEXT not null,\n",
      "    School      TEXT null,\n",
      "    Street      TEXT null,\n",
      "    StreetAbr   TEXT null,\n",
      "    City        TEXT null,\n",
      "    Zip         TEXT null,\n",
      "    State       TEXT  null,\n",
      "    MailStreet  TEXT null,\n",
      "    MailStrAbr  TEXT null,\n",
      "    MailCity    TEXT null,\n",
      "    MailZip     TEXT null,\n",
      "    MailState   TEXT  null,\n",
      "    Phone       TEXT null,\n",
      "    Ext         TEXT  null,\n",
      "    Website     TEXT null,\n",
      "    OpenDate    DATE        null,\n",
      "    ClosedDate  DATE        null,\n",
      "    Charter     INTEGER    null,\n",
      "    CharterNum  TEXT  null,\n",
      "    FundingType TEXT null,\n",
      "    DOC         TEXT  not null,\n",
      "    DOCType     TEXT not null,\n",
      "    SOC         TEXT  null,\n",
      "    SOCType     TEXT null,\n",
      "    EdOpsCode   TEXT  null,\n",
      "    EdOpsName   TEXT null,\n",
      "    EILCode     TEXT  null,\n",
      "    EILName     TEXT null,\n",
      "    GSoffered   TEXT null,\n",
      "    GSserved    TEXT  null,\n",
      "    Virtual     TEXT  null,\n",
      "    Magnet      INTEGER   null,\n",
      "    Latitude    REAL      null,\n",
      "    Longitude   REAL      null,\n",
      "    AdmFName1   TEXT null,\n",
      "    AdmLName1   TEXT null,\n",
      "    AdmEmail1   TEXT null,\n",
      "    AdmFName2   TEXT null,\n",
      "    AdmLName2   TEXT null,\n",
      "    AdmEmail2   TEXT null,\n",
      "    AdmFName3   TEXT  null,\n",
      "    AdmLName3   TEXT null,\n",
      "    AdmEmail3   TEXT null,\n",
      "    LastUpdate  DATE        not null\n",
      ")\n",
      "\n",
      "-- Using valid SQLite and understanding External Knowledge, answer the following questions for the tables provided above.\n",
      "-- What is the highest eligible free rate for K-12 students in the schools in Alameda County?\n",
      "-- External Knowledge: Eligible free rate for K-12 = `Free Meal Count (K-12)` / `Enrollment (K-12)`\n",
      "\n",
      "\n",
      "Generate the SQLite for the above question after thinking step by step: \n",
      "\n",
      "\n",
      "Instructions:\n",
      "- Make sure you only output the information that is asked in the question. If the question asks for a specific column, make sure to only include that column in the SELECT clause, nothing more.\n",
      "- The generated query should return all of the information asked in the question without any missing or extra information.\n",
      "- Before generating the final SQL query, please think through the steps of how to write the query.\n",
      "- Do not misuse column names, keep them in quotes `\n",
      "- Carefully understand what colomns belond to what tables\n",
      "- Use only initial column names, change names prohibited\n",
      "        \n",
      "Output Format:\n",
      "In your answer, please enclose the generated SQL query in a code block:\n",
      "```\n",
      "-- Your SQL query\n",
      "```    \n",
      "and nothing else, no exaplains, no comments (asnwer should be less than 512 characters)\n",
      "\n",
      "Take a deep breath and think step by step to find the correct SQL query in SQLite format.\n",
      "\n",
      "Question repetition: What is the highest eligible free rate for K-12 students in the schools in Alameda County?\n",
      "\n",
      "Be care! Include only what i want it questiona and nothing else<|im_end|>\n",
      "<|im_start|>assistant\n",
      "<think>\n",
      "\n",
      "</think>\n",
      "\n",
      "\n",
      "\n",
      "\n",
      "Максимальное количество токенов в промптах: 12865\n",
      "\n",
      "начинаем скорринг\n",
      "Загружаем чаты с данными...\n",
      "Данные успешно загружены\n",
      "Начали генерацию SQL запросов\n"
     ]
    },
    {
     "name": "stderr",
     "output_type": "stream",
     "text": [
      "Processed prompts: 100%|██████████| 1534/1534 [04:21<00:00,  5.87it/s, est. speed input: 22461.29 toks/s, output: 301.86 toks/s]"
     ]
    },
    {
     "name": "stdout",
     "output_type": "stream",
     "text": [
      "extract_think количество ошибок:  0\n",
      "extract_sql количество ошибок:  0\n",
      "Закончили генерацию SQL запросов\n",
      "Начали скорр полученных SQL запросов\n"
     ]
    },
    {
     "name": "stderr",
     "output_type": "stream",
     "text": [
      "\n"
     ]
    },
    {
     "name": "stdout",
     "output_type": "stream",
     "text": [
      "Qwen3-14B DEV Финальный результат EX: 56.78\n",
      "Qwen3-14B процент запросов, которые успешно выполнились DEV: 97.00%\n",
      "====================================================================================================\n",
      "\n",
      "\n",
      "Загружаем чаты с данными...\n",
      "Данные успешно загружены\n",
      "Начали генерацию SQL запросов\n"
     ]
    },
    {
     "name": "stderr",
     "output_type": "stream",
     "text": [
      "Processed prompts: 100%|██████████| 1534/1534 [04:21<00:00,  5.86it/s, est. speed input: 22633.48 toks/s, output: 297.64 toks/s]"
     ]
    },
    {
     "name": "stdout",
     "output_type": "stream",
     "text": [
      "extract_think количество ошибок:  0\n",
      "extract_sql количество ошибок:  0\n",
      "Закончили генерацию SQL запросов\n",
      "Начали скорр полученных SQL запросов\n"
     ]
    },
    {
     "name": "stderr",
     "output_type": "stream",
     "text": [
      "\n"
     ]
    },
    {
     "name": "stdout",
     "output_type": "stream",
     "text": [
      "Qwen3-14B DEV Финальный результат EX: 57.50\n",
      "Qwen3-14B процент запросов, которые успешно выполнились DEV: 96.74%\n",
      "====================================================================================================\n",
      "\n",
      "\n",
      "Загружаем чаты с данными...\n",
      "Данные успешно загружены\n",
      "Начали генерацию SQL запросов\n"
     ]
    },
    {
     "name": "stderr",
     "output_type": "stream",
     "text": [
      "Processed prompts: 100%|██████████| 1534/1534 [04:25<00:00,  5.79it/s, est. speed input: 22725.36 toks/s, output: 295.66 toks/s]"
     ]
    },
    {
     "name": "stdout",
     "output_type": "stream",
     "text": [
      "extract_think количество ошибок:  0\n",
      "extract_sql количество ошибок:  0\n",
      "Закончили генерацию SQL запросов\n",
      "Начали скорр полученных SQL запросов\n"
     ]
    },
    {
     "name": "stderr",
     "output_type": "stream",
     "text": [
      "\n"
     ]
    },
    {
     "name": "stdout",
     "output_type": "stream",
     "text": [
      "Qwen3-14B DEV Финальный результат EX: 57.17\n",
      "Qwen3-14B процент запросов, которые успешно выполнились DEV: 96.22%\n",
      "====================================================================================================\n",
      "\n",
      "\n",
      "Загружаем чаты с данными...\n",
      "Данные успешно загружены\n",
      "Начали генерацию SQL запросов\n"
     ]
    },
    {
     "name": "stderr",
     "output_type": "stream",
     "text": [
      "Processed prompts: 100%|██████████| 1534/1534 [04:26<00:00,  5.76it/s, est. speed input: 22893.33 toks/s, output: 294.18 toks/s]"
     ]
    },
    {
     "name": "stdout",
     "output_type": "stream",
     "text": [
      "extract_think количество ошибок:  0\n",
      "extract_sql количество ошибок:  0\n",
      "Закончили генерацию SQL запросов\n",
      "Начали скорр полученных SQL запросов\n"
     ]
    },
    {
     "name": "stderr",
     "output_type": "stream",
     "text": [
      "\n"
     ]
    },
    {
     "name": "stdout",
     "output_type": "stream",
     "text": [
      "Qwen3-14B DEV Финальный результат EX: 57.30\n",
      "Qwen3-14B процент запросов, которые успешно выполнились DEV: 95.89%\n",
      "====================================================================================================\n",
      "\n",
      "\n",
      "Загружаем чаты с данными...\n",
      "Данные успешно загружены\n",
      "Начали генерацию SQL запросов\n"
     ]
    },
    {
     "name": "stderr",
     "output_type": "stream",
     "text": [
      "Processed prompts: 100%|██████████| 1534/1534 [04:10<00:00,  6.11it/s, est. speed input: 22705.47 toks/s, output: 311.76 toks/s]"
     ]
    },
    {
     "name": "stdout",
     "output_type": "stream",
     "text": [
      "extract_think количество ошибок:  0\n",
      "extract_sql количество ошибок:  0\n",
      "Закончили генерацию SQL запросов\n",
      "Начали скорр полученных SQL запросов\n"
     ]
    },
    {
     "name": "stderr",
     "output_type": "stream",
     "text": [
      "\n"
     ]
    },
    {
     "name": "stdout",
     "output_type": "stream",
     "text": [
      "Qwen3-14B DEV Финальный результат EX: 57.17\n",
      "Qwen3-14B процент запросов, которые успешно выполнились DEV: 96.02%\n",
      "====================================================================================================\n",
      "\n",
      "\n",
      "Загружаем чаты с данными...\n",
      "Данные успешно загружены\n",
      "Начали генерацию SQL запросов\n"
     ]
    },
    {
     "name": "stderr",
     "output_type": "stream",
     "text": [
      "Processed prompts: 100%|██████████| 1534/1534 [04:03<00:00,  6.31it/s, est. speed input: 22663.00 toks/s, output: 322.07 toks/s]"
     ]
    },
    {
     "name": "stdout",
     "output_type": "stream",
     "text": [
      "extract_think количество ошибок:  0\n",
      "extract_sql количество ошибок:  0\n",
      "Закончили генерацию SQL запросов\n",
      "Начали скорр полученных SQL запросов\n"
     ]
    },
    {
     "name": "stderr",
     "output_type": "stream",
     "text": [
      "\n"
     ]
    },
    {
     "name": "stdout",
     "output_type": "stream",
     "text": [
      "Qwen3-14B DEV Финальный результат EX: 57.04\n",
      "Qwen3-14B процент запросов, которые успешно выполнились DEV: 96.02%\n",
      "====================================================================================================\n",
      "\n",
      "\n",
      "Загружаем чаты с данными...\n",
      "Данные успешно загружены\n",
      "Начали генерацию SQL запросов\n"
     ]
    },
    {
     "name": "stderr",
     "output_type": "stream",
     "text": [
      "Processed prompts: 100%|██████████| 1534/1534 [03:55<00:00,  6.51it/s, est. speed input: 22885.27 toks/s, output: 330.53 toks/s] "
     ]
    },
    {
     "name": "stdout",
     "output_type": "stream",
     "text": [
      "extract_think количество ошибок:  0\n",
      "extract_sql количество ошибок:  0\n",
      "Закончили генерацию SQL запросов\n",
      "Начали скорр полученных SQL запросов\n"
     ]
    },
    {
     "name": "stderr",
     "output_type": "stream",
     "text": [
      "\n"
     ]
    },
    {
     "name": "stdout",
     "output_type": "stream",
     "text": [
      "Qwen3-14B DEV Финальный результат EX: 57.82\n",
      "Qwen3-14B процент запросов, которые успешно выполнились DEV: 95.83%\n",
      "====================================================================================================\n",
      "\n",
      "\n",
      "Загружаем чаты с данными...\n",
      "Данные успешно загружены\n",
      "Начали генерацию SQL запросов\n"
     ]
    },
    {
     "name": "stderr",
     "output_type": "stream",
     "text": [
      "Processed prompts: 100%|██████████| 1534/1534 [04:07<00:00,  6.20it/s, est. speed input: 22942.84 toks/s, output: 316.08 toks/s]"
     ]
    },
    {
     "name": "stdout",
     "output_type": "stream",
     "text": [
      "extract_think количество ошибок:  0\n",
      "extract_sql количество ошибок:  0\n",
      "Закончили генерацию SQL запросов\n",
      "Начали скорр полученных SQL запросов\n"
     ]
    },
    {
     "name": "stderr",
     "output_type": "stream",
     "text": [
      "\n"
     ]
    },
    {
     "name": "stdout",
     "output_type": "stream",
     "text": [
      "Qwen3-14B DEV Финальный результат EX: 57.04\n",
      "Qwen3-14B процент запросов, которые успешно выполнились DEV: 95.89%\n",
      "====================================================================================================\n",
      "\n",
      "\n",
      "Загружаем чаты с данными...\n",
      "Данные успешно загружены\n",
      "Начали генерацию SQL запросов\n"
     ]
    },
    {
     "name": "stderr",
     "output_type": "stream",
     "text": [
      "Processed prompts: 100%|██████████| 1534/1534 [04:13<00:00,  6.05it/s, est. speed input: 22899.53 toks/s, output: 307.85 toks/s]"
     ]
    },
    {
     "name": "stdout",
     "output_type": "stream",
     "text": [
      "extract_think количество ошибок:  0\n",
      "extract_sql количество ошибок:  0\n",
      "Закончили генерацию SQL запросов\n",
      "Начали скорр полученных SQL запросов\n"
     ]
    },
    {
     "name": "stderr",
     "output_type": "stream",
     "text": [
      "\n"
     ]
    },
    {
     "name": "stdout",
     "output_type": "stream",
     "text": [
      "Qwen3-14B DEV Финальный результат EX: 57.82\n",
      "Qwen3-14B процент запросов, которые успешно выполнились DEV: 96.28%\n",
      "====================================================================================================\n",
      "\n",
      "\n",
      "Загружаем чаты с данными...\n",
      "Данные успешно загружены\n",
      "Начали генерацию SQL запросов\n"
     ]
    },
    {
     "name": "stderr",
     "output_type": "stream",
     "text": [
      "Processed prompts: 100%|██████████| 1534/1534 [04:09<00:00,  6.14it/s, est. speed input: 23069.73 toks/s, output: 311.74 toks/s]"
     ]
    },
    {
     "name": "stdout",
     "output_type": "stream",
     "text": [
      "extract_think количество ошибок:  0\n",
      "extract_sql количество ошибок:  0\n",
      "Закончили генерацию SQL запросов\n",
      "Начали скорр полученных SQL запросов\n"
     ]
    },
    {
     "name": "stderr",
     "output_type": "stream",
     "text": [
      "\n"
     ]
    },
    {
     "name": "stdout",
     "output_type": "stream",
     "text": [
      "Qwen3-14B DEV Финальный результат EX: 57.37\n",
      "Qwen3-14B процент запросов, которые успешно выполнились DEV: 96.48%\n",
      "====================================================================================================\n",
      "\n",
      "\n",
      "Загружаем чаты с данными...\n",
      "Данные успешно загружены\n",
      "Начали генерацию SQL запросов\n"
     ]
    },
    {
     "name": "stderr",
     "output_type": "stream",
     "text": [
      "Processed prompts: 100%|██████████| 1534/1534 [04:12<00:00,  6.09it/s, est. speed input: 23009.32 toks/s, output: 311.57 toks/s]"
     ]
    },
    {
     "name": "stdout",
     "output_type": "stream",
     "text": [
      "extract_think количество ошибок:  0\n",
      "extract_sql количество ошибок:  0\n",
      "Закончили генерацию SQL запросов\n",
      "Начали скорр полученных SQL запросов\n"
     ]
    },
    {
     "name": "stderr",
     "output_type": "stream",
     "text": [
      "\n"
     ]
    },
    {
     "name": "stdout",
     "output_type": "stream",
     "text": [
      "Qwen3-14B DEV Финальный результат EX: 57.82\n",
      "Qwen3-14B процент запросов, которые успешно выполнились DEV: 96.54%\n",
      "====================================================================================================\n",
      "\n",
      "\n",
      "Загружаем чаты с данными...\n",
      "Данные успешно загружены\n",
      "Начали генерацию SQL запросов\n"
     ]
    },
    {
     "name": "stderr",
     "output_type": "stream",
     "text": [
      "Processed prompts: 100%|██████████| 1534/1534 [04:14<00:00,  6.02it/s, est. speed input: 22892.13 toks/s, output: 307.06 toks/s]"
     ]
    },
    {
     "name": "stdout",
     "output_type": "stream",
     "text": [
      "extract_think количество ошибок:  0\n",
      "extract_sql количество ошибок:  0\n",
      "Закончили генерацию SQL запросов\n",
      "Начали скорр полученных SQL запросов\n"
     ]
    },
    {
     "name": "stderr",
     "output_type": "stream",
     "text": [
      "\n"
     ]
    },
    {
     "name": "stdout",
     "output_type": "stream",
     "text": [
      "Qwen3-14B DEV Финальный результат EX: 57.56\n",
      "Qwen3-14B процент запросов, которые успешно выполнились DEV: 96.09%\n",
      "====================================================================================================\n",
      "\n",
      "\n",
      "Загружаем чаты с данными...\n",
      "Данные успешно загружены\n",
      "Начали генерацию SQL запросов\n"
     ]
    },
    {
     "name": "stderr",
     "output_type": "stream",
     "text": [
      "Processed prompts: 100%|██████████| 1534/1534 [03:46<00:00,  6.76it/s, est. speed input: 23218.70 toks/s, output: 343.48 toks/s]"
     ]
    },
    {
     "name": "stdout",
     "output_type": "stream",
     "text": [
      "extract_think количество ошибок:  0\n",
      "extract_sql количество ошибок:  0\n",
      "Закончили генерацию SQL запросов\n",
      "Начали скорр полученных SQL запросов\n"
     ]
    },
    {
     "name": "stderr",
     "output_type": "stream",
     "text": [
      "\n"
     ]
    },
    {
     "name": "stdout",
     "output_type": "stream",
     "text": [
      "Qwen3-14B DEV Финальный результат EX: 58.08\n",
      "Qwen3-14B процент запросов, которые успешно выполнились DEV: 95.96%\n",
      "====================================================================================================\n",
      "\n",
      "\n",
      "Загружаем чаты с данными...\n",
      "Данные успешно загружены\n",
      "Начали генерацию SQL запросов\n"
     ]
    },
    {
     "name": "stderr",
     "output_type": "stream",
     "text": [
      "Processed prompts: 100%|██████████| 1534/1534 [03:28<00:00,  7.35it/s, est. speed input: 23207.34 toks/s, output: 372.29 toks/s]"
     ]
    },
    {
     "name": "stdout",
     "output_type": "stream",
     "text": [
      "extract_think количество ошибок:  0\n",
      "extract_sql количество ошибок:  0\n",
      "Закончили генерацию SQL запросов\n",
      "Начали скорр полученных SQL запросов\n"
     ]
    },
    {
     "name": "stderr",
     "output_type": "stream",
     "text": [
      "\n"
     ]
    },
    {
     "name": "stdout",
     "output_type": "stream",
     "text": [
      "Qwen3-14B DEV Финальный результат EX: 57.82\n",
      "Qwen3-14B процент запросов, которые успешно выполнились DEV: 96.41%\n",
      "====================================================================================================\n",
      "\n",
      "\n",
      "Загружаем чаты с данными...\n",
      "Данные успешно загружены\n",
      "Начали генерацию SQL запросов\n"
     ]
    },
    {
     "name": "stderr",
     "output_type": "stream",
     "text": [
      "Processed prompts: 100%|██████████| 1534/1534 [03:16<00:00,  7.79it/s, est. speed input: 23627.55 toks/s, output: 392.51 toks/s] "
     ]
    },
    {
     "name": "stdout",
     "output_type": "stream",
     "text": [
      "extract_think количество ошибок:  0\n",
      "extract_sql количество ошибок:  0\n",
      "Закончили генерацию SQL запросов\n",
      "Начали скорр полученных SQL запросов\n"
     ]
    },
    {
     "name": "stderr",
     "output_type": "stream",
     "text": [
      "\n"
     ]
    },
    {
     "name": "stdout",
     "output_type": "stream",
     "text": [
      "Qwen3-14B DEV Финальный результат EX: 57.37\n",
      "Qwen3-14B процент запросов, которые успешно выполнились DEV: 95.76%\n",
      "====================================================================================================\n",
      "\n",
      "\n",
      "Загружаем чаты с данными...\n",
      "Данные успешно загружены\n",
      "Начали генерацию SQL запросов\n"
     ]
    },
    {
     "name": "stderr",
     "output_type": "stream",
     "text": [
      "Processed prompts: 100%|██████████| 1534/1534 [03:53<00:00,  6.58it/s, est. speed input: 22667.93 toks/s, output: 335.59 toks/s]"
     ]
    },
    {
     "name": "stdout",
     "output_type": "stream",
     "text": [
      "extract_think количество ошибок:  0\n",
      "extract_sql количество ошибок:  0\n",
      "Закончили генерацию SQL запросов\n",
      "Начали скорр полученных SQL запросов\n"
     ]
    },
    {
     "name": "stderr",
     "output_type": "stream",
     "text": [
      "\n"
     ]
    },
    {
     "name": "stdout",
     "output_type": "stream",
     "text": [
      "Qwen3-14B DEV Финальный результат EX: 57.50\n",
      "Qwen3-14B процент запросов, которые успешно выполнились DEV: 96.87%\n",
      "====================================================================================================\n",
      "\n",
      "\n",
      "Загружаем чаты с данными...\n",
      "Данные успешно загружены\n",
      "Начали генерацию SQL запросов\n"
     ]
    },
    {
     "name": "stderr",
     "output_type": "stream",
     "text": [
      "Processed prompts: 100%|██████████| 1534/1534 [04:16<00:00,  5.99it/s, est. speed input: 22630.67 toks/s, output: 308.45 toks/s]"
     ]
    },
    {
     "name": "stdout",
     "output_type": "stream",
     "text": [
      "extract_think количество ошибок:  0\n",
      "extract_sql количество ошибок:  0\n",
      "Закончили генерацию SQL запросов\n",
      "Начали скорр полученных SQL запросов\n"
     ]
    },
    {
     "name": "stderr",
     "output_type": "stream",
     "text": [
      "\n"
     ]
    },
    {
     "name": "stdout",
     "output_type": "stream",
     "text": [
      "Qwen3-14B DEV Финальный результат EX: 57.17\n",
      "Qwen3-14B процент запросов, которые успешно выполнились DEV: 96.54%\n",
      "====================================================================================================\n",
      "\n",
      "\n",
      "Загружаем чаты с данными...\n",
      "Данные успешно загружены\n",
      "Начали генерацию SQL запросов\n"
     ]
    },
    {
     "name": "stderr",
     "output_type": "stream",
     "text": [
      "Processed prompts: 100%|██████████| 1534/1534 [04:22<00:00,  5.85it/s, est. speed input: 22661.92 toks/s, output: 300.65 toks/s]"
     ]
    },
    {
     "name": "stdout",
     "output_type": "stream",
     "text": [
      "extract_think количество ошибок:  0\n",
      "extract_sql количество ошибок:  0\n",
      "Закончили генерацию SQL запросов\n",
      "Начали скорр полученных SQL запросов\n"
     ]
    },
    {
     "name": "stderr",
     "output_type": "stream",
     "text": [
      "\n"
     ]
    },
    {
     "name": "stdout",
     "output_type": "stream",
     "text": [
      "Qwen3-14B DEV Финальный результат EX: 57.69\n",
      "Qwen3-14B процент запросов, которые успешно выполнились DEV: 96.41%\n",
      "====================================================================================================\n",
      "\n",
      "\n",
      "Загружаем чаты с данными...\n",
      "Данные успешно загружены\n",
      "Начали генерацию SQL запросов\n"
     ]
    },
    {
     "name": "stderr",
     "output_type": "stream",
     "text": [
      "Processed prompts: 100%|██████████| 1534/1534 [04:21<00:00,  5.87it/s, est. speed input: 22808.80 toks/s, output: 300.22 toks/s]"
     ]
    },
    {
     "name": "stdout",
     "output_type": "stream",
     "text": [
      "extract_think количество ошибок:  0\n",
      "extract_sql количество ошибок:  0\n",
      "Закончили генерацию SQL запросов\n",
      "Начали скорр полученных SQL запросов\n"
     ]
    },
    {
     "name": "stderr",
     "output_type": "stream",
     "text": [
      "\n"
     ]
    },
    {
     "name": "stdout",
     "output_type": "stream",
     "text": [
      "Qwen3-14B DEV Финальный результат EX: 57.24\n",
      "Qwen3-14B процент запросов, которые успешно выполнились DEV: 95.70%\n",
      "====================================================================================================\n",
      "\n",
      "\n",
      "Загружаем чаты с данными...\n",
      "Данные успешно загружены\n",
      "Начали генерацию SQL запросов\n"
     ]
    },
    {
     "name": "stderr",
     "output_type": "stream",
     "text": [
      "Processed prompts: 100%|██████████| 1534/1534 [04:17<00:00,  5.95it/s, est. speed input: 22895.49 toks/s, output: 301.60 toks/s]"
     ]
    },
    {
     "name": "stdout",
     "output_type": "stream",
     "text": [
      "extract_think количество ошибок:  0\n",
      "extract_sql количество ошибок:  0\n",
      "Закончили генерацию SQL запросов\n",
      "Начали скорр полученных SQL запросов\n"
     ]
    },
    {
     "name": "stderr",
     "output_type": "stream",
     "text": [
      "\n"
     ]
    },
    {
     "name": "stdout",
     "output_type": "stream",
     "text": [
      "Qwen3-14B DEV Финальный результат EX: 57.69\n",
      "Qwen3-14B процент запросов, которые успешно выполнились DEV: 96.81%\n",
      "====================================================================================================\n",
      "\n",
      "\n"
     ]
    }
   ],
   "source": [
    "run_cot_experiment(model,arr_seeds,arr_versions, type_cot,num_observations=num_observations)"
   ]
  },
  {
   "cell_type": "code",
   "execution_count": 31,
   "id": "91935ea9-35a9-44aa-9e58-6390439df74f",
   "metadata": {},
   "outputs": [
    {
     "name": "stdout",
     "output_type": "stream",
     "text": [
      "[368, 114, 644, 937, 725, 833, 26, 638, 948, 972, 626, 589, 280, 144, 678, 264, 68, 774, 659, 344]\n",
      "model: Qwen3-14B\n"
     ]
    }
   ],
   "source": [
    "n= 20\n",
    "arr_seeds = [random.randint(0,1000) for _ in range(n)]\n",
    "arr_versions = [x for x in range(n)]\n",
    "model = \"Qwen3-14B\"\n",
    "num_observations = 4\n",
    "type_cot = 'think'\n",
    "print(arr_seeds)\n",
    "print(f\"model: {model}\")"
   ]
  },
  {
   "cell_type": "code",
   "execution_count": 32,
   "id": "a29f1083-de0f-4092-8479-ac68ef1c2d4a",
   "metadata": {
    "scrolled": true
   },
   "outputs": [
    {
     "name": "stdout",
     "output_type": "stream",
     "text": [
      "Загружаем модель...\n"
     ]
    },
    {
     "name": "stderr",
     "output_type": "stream",
     "text": [
      "Loading safetensors checkpoint shards:   0% Completed | 0/8 [00:00<?, ?it/s]\n",
      "Loading safetensors checkpoint shards:  12% Completed | 1/8 [00:01<00:09,  1.41s/it]\n",
      "Loading safetensors checkpoint shards:  25% Completed | 2/8 [00:02<00:08,  1.45s/it]\n",
      "Loading safetensors checkpoint shards:  38% Completed | 3/8 [00:04<00:07,  1.45s/it]\n",
      "Loading safetensors checkpoint shards:  50% Completed | 4/8 [00:05<00:05,  1.44s/it]\n",
      "Loading safetensors checkpoint shards:  62% Completed | 5/8 [00:07<00:04,  1.43s/it]\n",
      "Loading safetensors checkpoint shards:  75% Completed | 6/8 [00:07<00:02,  1.20s/it]\n",
      "Loading safetensors checkpoint shards:  88% Completed | 7/8 [00:09<00:01,  1.27s/it]\n",
      "Loading safetensors checkpoint shards: 100% Completed | 8/8 [00:10<00:00,  1.32s/it]\n",
      "Loading safetensors checkpoint shards: 100% Completed | 8/8 [00:10<00:00,  1.35s/it]\n",
      "\u001b[1;36m(VllmWorker rank=0 pid=1193843)\u001b[0;0m \n"
     ]
    },
    {
     "name": "stdout",
     "output_type": "stream",
     "text": [
      "Модель успешно загружена\n",
      "model_config {'model': '/data/home/vkropoti/models/Qwen3-14B', 'tensor_parallel_size': 2, 'max_model_len': 40000, 'max_new_tokens': 1500, 'temperature': 0, 'top_k': 1, 'top_p': 0.8, 'gpu_memory_utilization': 0.9, 'trust_remote_code': False, 'seed': 368}\n",
      "\n",
      "prompts_config {'path_dev_json': '/home/vkropoti/vllm/dev.json', 'path_sql_dbs': '/data/home/vkropoti/sql_data/dev_databases/', 'use_reasoning': False, 'paths_to_cot': ['/data/home/vkropoti/sql_llm_answers/bird_dev/sql_think_Qwen3-14B-reasoning-v0', '/data/home/vkropoti/sql_llm_answers/bird_dev/sql_think_Qwen3-14B-reasoning-v1', '/data/home/vkropoti/sql_llm_answers/bird_dev/sql_think_Qwen3-14B-reasoning-v2', '/data/home/vkropoti/sql_llm_answers/bird_dev/sql_think_Qwen3-14B-reasoning-v3']}\n",
      "\n",
      "save_config {'path_sql_save': '/data/home/vkropoti/sql_llm_answers/bird_dev/sql_all_Qwen3-14B-cot_think_think==False_nobs4-v0', 'path_think_save': None, 'path_sql_answers_save': '/data/home/vkropoti/sql_llm_answers/bird_dev/sql_predict_Qwen3-14B-cot_think_think==False_nobs4-v0', 'path_to_save_scores': '/data/home/vkropoti/sql_llm_answers/bird_dev/sql_results_Qwen3-14B-cot_think_think==False_nobs4-v0', 'path_to_save_executed': '/data/home/vkropoti/sql_llm_answers/bird_dev/sql_executed_Qwen3-14B-cot_think_think==False_nobs4-v0'}\n",
      "\n",
      "Модель успешно загружена\n",
      "Пример промпта\n",
      "<|im_start|>system\n",
      "\n",
      "You are a data science expert. Below, you are provided with a database schema and a natural language question. Your task is to understand the schema and generate a valid SQL query to answer the question.\n",
      "\n",
      "Database Engine: SQLite\n",
      "\n",
      "You will be given an additional analysis of other models, please take it into account, so the plan is\n",
      "1. Analyse given addition analysis from other models (find in which analysis the same and differ, how to use that to answer question)\n",
      "2. Combine best from previous part and think how to solve the problem (analyze tables, take care what columns avaliable in each table and so on, check the syntacsis)\n",
      "3. Create the answers. The answer should be only sql query.\n",
      "\n",
      "Carefully follow the instruction and add <|im_end|> and the end of the final answer<|im_end|>\n",
      "<|im_start|>user\n",
      "Here is addition analysis from other models which can be helpfull, please take this into account but be careful (choose the best from each analysis, combine them to make the most proper answer):\n",
      "\n",
      "model 0 analysis:\n",
      " Okay, let's see. The user is asking for the highest eligible free rate for K-12 students in schools located in Alameda County. \n",
      "\n",
      "First, I need to figure out which tables are relevant here. The question mentions \"eligible free rate,\" which is calculated as `Free Meal Count (K-12)` divided by `Enrollment (K-12)`. Looking at the tables provided, the `frpm` table contains these exact columns: `Free Meal Count (K-12)` and `Enrollment (K-12)`. So, the calculation will be done using the `frpm` table.\n",
      "\n",
      "Next, the schools need to be in Alameda County. The `County` column is present in the `schools` table. But the `frpm` table has a `County Name` column. Wait, but the user is asking for schools in Alameda County. Which table's county field should I use? The `frpm` table has a `County Name` column, and the `schools` table has a `County` column. However, since the `frpm` table has a foreign key relationship with `schools` via `CDSCode`, maybe I need to join the two tables to get the county information from `schools`?\n",
      "\n",
      "Wait, the question says \"schools in Alameda County.\" So the county is determined by the school's county, which is in the `schools` table. Therefore, I should join `frpm` with `schools` on `CDSCode` to get the `County` from `schools` and filter where that county is 'Alameda'.\n",
      "\n",
      "But let me check the schema again. The `frpm` table has a `County Name` column. However, the `schools` table has a `County` column. Maybe the `frpm` is referencing the schools' county, but perhaps the `County Name` in `frpm` is redundant. However, the user wants to filter based on the school's county, which is in the `schools` table. Therefore, to get accurate information, I should join `frpm` with `schools` on `CDSCode` and then filter `schools.County = 'Alameda'`.\n",
      "\n",
      "So the steps are:\n",
      "\n",
      "1. Join `frpm` and `schools` on `CDSCode`.\n",
      "2. Filter where `schools.County = 'Alameda'`.\n",
      "3. Calculate the eligible free rate as `Free Meal Count (K-12)` / `Enrollment (K-12)`.\n",
      "4. Find the maximum value of this calculated rate.\n",
      "\n",
      "But wait, in the `frpm` table, there's also a `County Name` column. Could that be used instead? However, the `schools` table's `County` might be more reliable. For example, if a school is in Alameda County, the `schools` table's `County` should be 'Alameda', whereas the `County Name` in `frpm` might be the same. But since the `frpm` has a foreign key to `schools`, perhaps the county is consistent between both tables. However, to be safe, using `schools.County = 'Alameda'` is better because that's the school's actual county.\n",
      "\n",
      "So, the query would involve joining `frpm` with `schools` where `CDSCode` matches. Then, filter on `schools.County = 'Alameda'`. Then calculate the rate and find the maximum.\n",
      "\n",
      "But what if there are multiple entries in `frpm` for the same school? The `frpm` table has `CDSCode` as primary key, so each school has one entry in `frpm`. So the join is straightforward.\n",
      "\n",
      "Now, the SQL query would select the maximum of (Free Meal Count / Enrollment) where the county is Alameda. The columns are in the `frpm` table, so after joining with `schools` to get the county.\n",
      "\n",
      "So the query would be:\n",
      "\n",
      "SELECT MAX(`Free Meal Count (K-12)` / `Enrollment (K-12)`) AS highest_rate\n",
      "FROM frpm\n",
      "JOIN schools ON frpm.CDSCode = schools.CDSCode\n",
      "WHERE schools.County = 'Alameda';\n",
      "\n",
      "But I need to make sure that the `Enrollment (K-12)` is not zero to avoid division by zero. However, the question might assume that all entries have valid enrollment numbers. If not, perhaps a WHERE clause to exclude zero enrollments. But since the problem doesn't mention handling that, maybe it's safe to proceed without it.\n",
      "\n",
      "Also, the `frpm` table has `Enrollment (K-12)` as a REAL, so division should be handled as floating points.\n",
      "\n",
      "So the final SQL is as above, selecting the MAX of the calculated rate, joining on CDSCode, and filtering for Alameda County in the schools table.\n",
      "\n",
      "model 1 analysis:\n",
      " Okay, I need to find the highest eligible free rate for K-12 students in schools located in Alameda County. Let me break this down.\n",
      "\n",
      "First, the eligible free rate is calculated as `Free Meal Count (K-12)` divided by `Enrollment (K-12)`. The question is asking for the maximum value of this rate among schools in Alameda County.\n",
      "\n",
      "Looking at the tables, the `frpm` table has both `Free Meal Count (K-12)` and `Enrollment (K-12)` columns. Also, the `frpm` table has a `County Name` column which should be used to filter for Alameda County.\n",
      "\n",
      "Wait, but there's also a `schools` table with a `County` column. However, the `frpm` table's `County Name` is likely the correct one to use since it's part of the same dataset. The `schools` table might have different county info, but the question mentions using the `frpm` data.\n",
      "\n",
      "So, the plan is to select the maximum of (`Free Meal Count (K-12)` / `Enrollment (K-12)`) from the `frpm` table where `County Name` is 'Alameda County'.\n",
      "\n",
      "But wait, I need to make sure that the `County Name` is correctly spelled and matches the data. Also, the `frpm` table has a foreign key to `schools` via `CDSCode`, but maybe the county info is already in `frpm` so joining isn't necessary. Let me check the schema again.\n",
      "\n",
      "Yes, `frpm` has `County Name` as a column. So I don't need to join with `schools` for the county. Therefore, the query can be written directly on the `frpm` table.\n",
      "\n",
      "Now, the SQL query would use the MAX function on the division of those two columns. Also, since these are REAL numbers, the division should work. Need to make sure that `Enrollment (K-12)` is not zero to avoid division by zero, but the question might assume that all entries have valid enrollments.\n",
      "\n",
      "So the final query would be:\n",
      "\n",
      "SELECT MAX(`Free Meal Count (K-12)` / `Enrollment (K-12)`) FROM frpm WHERE `County Name` = 'Alameda County';\n",
      "\n",
      "Wait, but the `County Name` might have entries like 'Alameda County' exactly. I should check if the data uses that exact name. Assuming it does, this query should work.\n",
      "\n",
      "model 2 analysis:\n",
      " Okay, let's see. The user is asking for the highest eligible free rate for K-12 students in Alameda County. The eligible free rate is calculated as Free Meal Count (K-12) divided by Enrollment (K-12). \n",
      "\n",
      "First, I need to figure out which tables have the necessary data. The frpm table has columns for Free Meal Count (K-12) and Enrollment (K-12), which are needed for the calculation. Also, the frpm table has a County Name column, which I can use to filter for Alameda County.\n",
      "\n",
      "Wait, but the schools table also has a County column. Hmm, but the frpm table has a foreign key to schools, so maybe the County Name in frpm is redundant? But the user's question specifies using the county from the schools table? Or maybe not. Let me check the schema again.\n",
      "\n",
      "Looking at the frpm table's columns, there's a `County Name` field. The schools table has a `County` field. But the question is about Alameda County, so I need to make sure which table's county field is correct. However, since the frpm table has a foreign key to schools, perhaps the county in frpm is derived from schools. But maybe the question uses the `County Name` from frpm directly. The user's instruction says to use the column names as they are, so I should check the frpm table's columns.\n",
      "\n",
      "So, to filter for Alameda County, I need to use the `County Name` column in the frpm table. Wait, but maybe the schools table's County is more accurate? The problem says to use the columns as they are. Let me recheck the tables.\n",
      "\n",
      "In the frpm table, there's `County Name`, and in schools, there's `County`. The user's question is about schools in Alameda County. If the frpm table's `County Name` is the correct county for the school, then using that would be better. Alternatively, since the frpm table references schools, maybe the county from the schools table is more accurate. But the user hasn't specified which one to use. However, since the frpm table has `County Name` and the question is about schools in Alameda County, I think the correct approach is to use the `County Name` from the frpm table because that's the county associated with the school in the frpm context.\n",
      "\n",
      "Wait, but the problem says to use the columns as they are. Let me look again. The frpm table has `County Name` as a column. The schools table has `County`. The user's question is about schools in Alameda County. Since the frpm table has a foreign key to schools, perhaps the county in frpm is the same as in schools. However, if the question is about the schools' county, then using the schools table's County would be more accurate. But without more info, perhaps the user expects using the `County Name` from the frpm table. Alternatively, maybe the schools table's County is the correct one. However, the question mentions \"schools in Alameda County\" which would be in the schools table's County field. But since the frpm table has the county name, maybe the user expects that.\n",
      "\n",
      "Alternatively, maybe the frpm table's `County Name` is redundant and the schools table's County is the correct one. However, since the frpm table has that field, maybe the user expects to use it. But I need to check the correct way. Let's think: the frpm table has the `County Name` as a column. So, if a school is in Alameda County, the `County Name` in frpm should be 'Alameda County'. So, the correct filter is `frpm.\"County Name\" = 'Alameda County'`.\n",
      "\n",
      "Now, the calculation is Free Meal Count (K-12) / Enrollment (K-12). The frpm table has both columns. So the SQL would select the maximum of that ratio. So the query would be:\n",
      "\n",
      "SELECT MAX(`Free Meal Count (K-12)` / `Enrollment (K-12)`) FROM frpm WHERE `County Name` = 'Alameda County';\n",
      "\n",
      "Wait, but the user wants the highest rate, so MAX of that calculation. That's correct.\n",
      "\n",
      "But need to ensure that both columns are not null, but the question doesn't mention handling nulls. So assuming that where the data is present, the division is valid.\n",
      "\n",
      "Therefore, the final query is selecting the maximum of that ratio from the frpm table where the county name is Alameda County.\n",
      "\n",
      "model 3 analysis:\n",
      " Okay, let me figure out how to answer this question. The user wants the highest eligible free rate for K-12 students in Alameda County. From the external knowledge, I know that the eligible free rate is calculated by dividing the Free Meal Count (K-12) by the Enrollment (K-12). \n",
      "\n",
      "First, I need to check which tables have the necessary data. The 'frpm' table has both 'Free Meal Count (K-12)' and 'Enrollment (K-12)' columns. Also, the 'County Name' column in the 'frpm' table can be used to filter for Alameda County.\n",
      "\n",
      "So the plan is to select the maximum value of the ratio (Free Meal Count / Enrollment) from the frpm table where County Name is 'Alameda County'. But I need to make sure that the division is done correctly. In SQLite, using / should work for real numbers.\n",
      "\n",
      "Wait, the columns are of type REAL, so dividing them should give the rate. Then, using MAX() on that calculated column would give the highest rate. Also, I need to ensure that Enrollment (K-12) is not zero to avoid division by zero. However, the problem might not have such cases, or maybe the database handles it. But since the user didn't mention handling that, I'll proceed as is.\n",
      "\n",
      "So the SQL query would be: SELECT MAX(`Free Meal Count (K-12)` / `Enrollment (K-12)`) FROM frpm WHERE `County Name` = 'Alameda County';\n",
      "\n",
      "I should check if the 'County Name' is correctly spelled and matches the data in the table. Also, make sure that the column names are enclosed in backticks as they have spaces. The 'frpm' table's County Name is the right place to filter. That should do it.\n",
      "\n",
      "\n",
      "here is avaliable tables below\n",
      "\n",
      "\n",
      "Table: frpm\n",
      "CREATE TABLE frpm\n",
      "(\n",
      "    CDSCode                                       TEXT not null\n",
      "        primary key,\n",
      "    `Academic Year`                               TEXT  null,\n",
      "    `County Code`                                 TEXT  null,\n",
      "    `District Code`                               INTEGER         null,\n",
      "    `School Code`                                 TEXT  null,\n",
      "    `County Name`                                 TEXT null,\n",
      "    `District Name`                               TEXT null,\n",
      "    `School Name`                                 TEXT null,\n",
      "    `District Type`                               TEXT null,\n",
      "    `School Type`                                 TEXT null,\n",
      "    `Educational Option Type`                     TEXT null,\n",
      "    `NSLP Provision Status`                       TEXT null,\n",
      "    `Charter School (Y/N)`                        INTEGER    null,\n",
      "    `Charter School Number`                       TEXT  null,\n",
      "    `Charter Funding Type`                        TEXT null,\n",
      "    IRC                                           INTEGER    null,\n",
      "    `Low Grade`                                   TEXT  null,\n",
      "    `High Grade`                                  TEXT null,\n",
      "    `Enrollment (K-12)`                           REAL      null,\n",
      "    `Free Meal Count (K-12)`                      REAL       null,\n",
      "    `Percent (%) Eligible Free (K-12)`            REAL       null,\n",
      "    `FRPM Count (K-12)`                           REAL       null,\n",
      "    `Percent (%) Eligible FRPM (K-12)`            REAL       null,\n",
      "    `Enrollment (Ages 5-17)`                      REAL       null,\n",
      "    `Free Meal Count (Ages 5-17)`                 REAL       null,\n",
      "    `Percent (%) Eligible Free (Ages 5-17)`       REAL       null,\n",
      "    `FRPM Count (Ages 5-17)`                      REAL       null,\n",
      "    `Percent (%) Eligible FRPM (Ages 5-17)`       REAL       null,\n",
      "    `2013-14 CALPADS Fall 1 Certification Status` INTEGER    null,\n",
      "    foreign key (CDSCode) references schools (CDSCode)\n",
      ")\n",
      "\n",
      "Table: satscores\n",
      "CREATE TABLE satscores\n",
      "(\n",
      "    cds         TEXT not null\n",
      "        primary key,\n",
      "    rtype       TEXT  not null,\n",
      "    sname       TEXT null,\n",
      "    dname       TEXT null,\n",
      "    cname       TEXT null,\n",
      "    enroll12    INTEGER         not null,\n",
      "    NumTstTakr  INTEGER          not null,\n",
      "    AvgScrRead  INTEGER          null,\n",
      "    AvgScrMath  INTEGER          null,\n",
      "    AvgScrWrite INTEGER          null,\n",
      "    NumGE1500   INTEGER          null,\n",
      "--     PctGE1500   double      null,\n",
      "        foreign key (cds) references schools (CDSCode)\n",
      ")\n",
      "\n",
      "Table: schools\n",
      "CREATE TABLE schools\n",
      "(\n",
      "    CDSCode     TEXT not null\n",
      "        primary key,\n",
      "    NCESDist    TEXT  null,\n",
      "    NCESSchool  TEXT  null,\n",
      "    StatusType  TEXT  not null,\n",
      "    County      TEXT not null,\n",
      "    District    TEXT not null,\n",
      "    School      TEXT null,\n",
      "    Street      TEXT null,\n",
      "    StreetAbr   TEXT null,\n",
      "    City        TEXT null,\n",
      "    Zip         TEXT null,\n",
      "    State       TEXT  null,\n",
      "    MailStreet  TEXT null,\n",
      "    MailStrAbr  TEXT null,\n",
      "    MailCity    TEXT null,\n",
      "    MailZip     TEXT null,\n",
      "    MailState   TEXT  null,\n",
      "    Phone       TEXT null,\n",
      "    Ext         TEXT  null,\n",
      "    Website     TEXT null,\n",
      "    OpenDate    DATE        null,\n",
      "    ClosedDate  DATE        null,\n",
      "    Charter     INTEGER    null,\n",
      "    CharterNum  TEXT  null,\n",
      "    FundingType TEXT null,\n",
      "    DOC         TEXT  not null,\n",
      "    DOCType     TEXT not null,\n",
      "    SOC         TEXT  null,\n",
      "    SOCType     TEXT null,\n",
      "    EdOpsCode   TEXT  null,\n",
      "    EdOpsName   TEXT null,\n",
      "    EILCode     TEXT  null,\n",
      "    EILName     TEXT null,\n",
      "    GSoffered   TEXT null,\n",
      "    GSserved    TEXT  null,\n",
      "    Virtual     TEXT  null,\n",
      "    Magnet      INTEGER   null,\n",
      "    Latitude    REAL      null,\n",
      "    Longitude   REAL      null,\n",
      "    AdmFName1   TEXT null,\n",
      "    AdmLName1   TEXT null,\n",
      "    AdmEmail1   TEXT null,\n",
      "    AdmFName2   TEXT null,\n",
      "    AdmLName2   TEXT null,\n",
      "    AdmEmail2   TEXT null,\n",
      "    AdmFName3   TEXT  null,\n",
      "    AdmLName3   TEXT null,\n",
      "    AdmEmail3   TEXT null,\n",
      "    LastUpdate  DATE        not null\n",
      ")\n",
      "\n",
      "-- Using valid SQLite and understanding External Knowledge, answer the following questions for the tables provided above.\n",
      "-- What is the highest eligible free rate for K-12 students in the schools in Alameda County?\n",
      "-- External Knowledge: Eligible free rate for K-12 = `Free Meal Count (K-12)` / `Enrollment (K-12)`\n",
      "\n",
      "\n",
      "Generate the SQLite for the above question after thinking step by step: \n",
      "\n",
      "\n",
      "Instructions:\n",
      "- Make sure you only output the information that is asked in the question. If the question asks for a specific column, make sure to only include that column in the SELECT clause, nothing more.\n",
      "- The generated query should return all of the information asked in the question without any missing or extra information.\n",
      "- Before generating the final SQL query, please think through the steps of how to write the query.\n",
      "- Do not misuse column names, keep them in quotes `\n",
      "- Carefully understand what colomns belond to what tables\n",
      "- Use only initial column names, change names prohibited\n",
      "        \n",
      "Output Format:\n",
      "In your answer, please enclose the generated SQL query in a code block:\n",
      "```\n",
      "-- Your SQL query\n",
      "```    \n",
      "and nothing else, no exaplains, no comments (asnwer should be less than 512 characters)\n",
      "\n",
      "Take a deep breath and think step by step to find the correct SQL query in SQLite format.\n",
      "\n",
      "Question repetition: What is the highest eligible free rate for K-12 students in the schools in Alameda County?\n",
      "\n",
      "Be care! Include only what i want it questiona and nothing else<|im_end|>\n",
      "<|im_start|>assistant\n",
      "<think>\n",
      "\n",
      "</think>\n",
      "\n",
      "\n",
      "\n",
      "\n",
      "Максимальное количество токенов в промптах: 16618\n",
      "\n",
      "начинаем скорринг\n",
      "Загружаем чаты с данными...\n",
      "Данные успешно загружены\n",
      "Начали генерацию SQL запросов\n"
     ]
    },
    {
     "name": "stderr",
     "output_type": "stream",
     "text": [
      "Processed prompts: 100%|██████████| 1534/1534 [05:20<00:00,  4.78it/s, est. speed input: 22349.35 toks/s, output: 244.60 toks/s]"
     ]
    },
    {
     "name": "stdout",
     "output_type": "stream",
     "text": [
      "extract_think количество ошибок:  0\n",
      "extract_sql количество ошибок:  0\n",
      "Закончили генерацию SQL запросов\n",
      "Начали скорр полученных SQL запросов\n"
     ]
    },
    {
     "name": "stderr",
     "output_type": "stream",
     "text": [
      "\n"
     ]
    },
    {
     "name": "stdout",
     "output_type": "stream",
     "text": [
      "Qwen3-14B DEV Финальный результат EX: 57.63\n",
      "Qwen3-14B процент запросов, которые успешно выполнились DEV: 96.54%\n",
      "====================================================================================================\n",
      "\n",
      "\n",
      "Загружаем чаты с данными...\n",
      "Данные успешно загружены\n",
      "Начали генерацию SQL запросов\n"
     ]
    },
    {
     "name": "stderr",
     "output_type": "stream",
     "text": [
      "Processed prompts: 100%|██████████| 1534/1534 [05:23<00:00,  4.74it/s, est. speed input: 22469.66 toks/s, output: 241.37 toks/s]"
     ]
    },
    {
     "name": "stdout",
     "output_type": "stream",
     "text": [
      "extract_think количество ошибок:  0\n",
      "extract_sql количество ошибок:  0\n",
      "Закончили генерацию SQL запросов\n",
      "Начали скорр полученных SQL запросов\n"
     ]
    },
    {
     "name": "stderr",
     "output_type": "stream",
     "text": [
      "\n"
     ]
    },
    {
     "name": "stdout",
     "output_type": "stream",
     "text": [
      "Qwen3-14B DEV Финальный результат EX: 57.89\n",
      "Qwen3-14B процент запросов, которые успешно выполнились DEV: 96.81%\n",
      "====================================================================================================\n",
      "\n",
      "\n",
      "Загружаем чаты с данными...\n",
      "Данные успешно загружены\n",
      "Начали генерацию SQL запросов\n"
     ]
    },
    {
     "name": "stderr",
     "output_type": "stream",
     "text": [
      "Processed prompts: 100%|██████████| 1534/1534 [05:28<00:00,  4.67it/s, est. speed input: 22353.42 toks/s, output: 238.35 toks/s]"
     ]
    },
    {
     "name": "stdout",
     "output_type": "stream",
     "text": [
      "extract_think количество ошибок:  0\n",
      "extract_sql количество ошибок:  0\n",
      "Закончили генерацию SQL запросов\n",
      "Начали скорр полученных SQL запросов\n"
     ]
    },
    {
     "name": "stderr",
     "output_type": "stream",
     "text": [
      "\n"
     ]
    },
    {
     "name": "stdout",
     "output_type": "stream",
     "text": [
      "Qwen3-14B DEV Финальный результат EX: 56.91\n",
      "Qwen3-14B процент запросов, которые успешно выполнились DEV: 96.09%\n",
      "====================================================================================================\n",
      "\n",
      "\n",
      "Загружаем чаты с данными...\n",
      "Данные успешно загружены\n",
      "Начали генерацию SQL запросов\n"
     ]
    },
    {
     "name": "stderr",
     "output_type": "stream",
     "text": [
      "Processed prompts: 100%|██████████| 1534/1534 [05:12<00:00,  4.91it/s, est. speed input: 22397.49 toks/s, output: 250.34 toks/s]"
     ]
    },
    {
     "name": "stdout",
     "output_type": "stream",
     "text": [
      "extract_think количество ошибок:  0\n",
      "extract_sql количество ошибок:  0\n",
      "Закончили генерацию SQL запросов\n",
      "Начали скорр полученных SQL запросов\n"
     ]
    },
    {
     "name": "stderr",
     "output_type": "stream",
     "text": [
      "\n"
     ]
    },
    {
     "name": "stdout",
     "output_type": "stream",
     "text": [
      "Qwen3-14B DEV Финальный результат EX: 56.98\n",
      "Qwen3-14B процент запросов, которые успешно выполнились DEV: 95.76%\n",
      "====================================================================================================\n",
      "\n",
      "\n",
      "Загружаем чаты с данными...\n",
      "Данные успешно загружены\n",
      "Начали генерацию SQL запросов\n"
     ]
    },
    {
     "name": "stderr",
     "output_type": "stream",
     "text": [
      "Processed prompts: 100%|██████████| 1534/1534 [05:07<00:00,  4.98it/s, est. speed input: 22273.80 toks/s, output: 254.03 toks/s]"
     ]
    },
    {
     "name": "stdout",
     "output_type": "stream",
     "text": [
      "extract_think количество ошибок:  0\n",
      "extract_sql количество ошибок:  0\n",
      "Закончили генерацию SQL запросов\n",
      "Начали скорр полученных SQL запросов\n"
     ]
    },
    {
     "name": "stderr",
     "output_type": "stream",
     "text": [
      "\n"
     ]
    },
    {
     "name": "stdout",
     "output_type": "stream",
     "text": [
      "Qwen3-14B DEV Финальный результат EX: 56.98\n",
      "Qwen3-14B процент запросов, которые успешно выполнились DEV: 96.22%\n",
      "====================================================================================================\n",
      "\n",
      "\n",
      "Загружаем чаты с данными...\n",
      "Данные успешно загружены\n",
      "Начали генерацию SQL запросов\n"
     ]
    },
    {
     "name": "stderr",
     "output_type": "stream",
     "text": [
      "Processed prompts: 100%|██████████| 1534/1534 [05:01<00:00,  5.10it/s, est. speed input: 22299.10 toks/s, output: 261.02 toks/s]"
     ]
    },
    {
     "name": "stdout",
     "output_type": "stream",
     "text": [
      "extract_think количество ошибок:  0\n",
      "extract_sql количество ошибок:  0\n",
      "Закончили генерацию SQL запросов\n",
      "Начали скорр полученных SQL запросов\n"
     ]
    },
    {
     "name": "stderr",
     "output_type": "stream",
     "text": [
      "\n"
     ]
    },
    {
     "name": "stdout",
     "output_type": "stream",
     "text": [
      "Qwen3-14B DEV Финальный результат EX: 56.71\n",
      "Qwen3-14B процент запросов, которые успешно выполнились DEV: 95.76%\n",
      "====================================================================================================\n",
      "\n",
      "\n",
      "Загружаем чаты с данными...\n",
      "Данные успешно загружены\n",
      "Начали генерацию SQL запросов\n"
     ]
    },
    {
     "name": "stderr",
     "output_type": "stream",
     "text": [
      "Processed prompts: 100%|██████████| 1534/1534 [04:52<00:00,  5.25it/s, est. speed input: 22531.63 toks/s, output: 267.12 toks/s]"
     ]
    },
    {
     "name": "stdout",
     "output_type": "stream",
     "text": [
      "extract_think количество ошибок:  0\n",
      "extract_sql количество ошибок:  0\n",
      "Закончили генерацию SQL запросов\n",
      "Начали скорр полученных SQL запросов\n"
     ]
    },
    {
     "name": "stderr",
     "output_type": "stream",
     "text": [
      "\n"
     ]
    },
    {
     "name": "stdout",
     "output_type": "stream",
     "text": [
      "Qwen3-14B DEV Финальный результат EX: 57.24\n",
      "Qwen3-14B процент запросов, которые успешно выполнились DEV: 95.96%\n",
      "====================================================================================================\n",
      "\n",
      "\n",
      "Загружаем чаты с данными...\n",
      "Данные успешно загружены\n",
      "Начали генерацию SQL запросов\n"
     ]
    },
    {
     "name": "stderr",
     "output_type": "stream",
     "text": [
      "Processed prompts: 100%|██████████| 1534/1534 [05:11<00:00,  4.93it/s, est. speed input: 22389.31 toks/s, output: 252.36 toks/s]"
     ]
    },
    {
     "name": "stdout",
     "output_type": "stream",
     "text": [
      "extract_think количество ошибок:  0\n",
      "extract_sql количество ошибок:  0\n",
      "Закончили генерацию SQL запросов\n",
      "Начали скорр полученных SQL запросов\n"
     ]
    },
    {
     "name": "stderr",
     "output_type": "stream",
     "text": [
      "\n"
     ]
    },
    {
     "name": "stdout",
     "output_type": "stream",
     "text": [
      "Qwen3-14B DEV Финальный результат EX: 57.69\n",
      "Qwen3-14B процент запросов, которые успешно выполнились DEV: 96.28%\n",
      "====================================================================================================\n",
      "\n",
      "\n",
      "Загружаем чаты с данными...\n",
      "Данные успешно загружены\n",
      "Начали генерацию SQL запросов\n"
     ]
    },
    {
     "name": "stderr",
     "output_type": "stream",
     "text": [
      "Processed prompts: 100%|██████████| 1534/1534 [05:11<00:00,  4.93it/s, est. speed input: 22389.88 toks/s, output: 251.35 toks/s]"
     ]
    },
    {
     "name": "stdout",
     "output_type": "stream",
     "text": [
      "extract_think количество ошибок:  0\n",
      "extract_sql количество ошибок:  0\n",
      "Закончили генерацию SQL запросов\n",
      "Начали скорр полученных SQL запросов\n"
     ]
    },
    {
     "name": "stderr",
     "output_type": "stream",
     "text": [
      "\n"
     ]
    },
    {
     "name": "stdout",
     "output_type": "stream",
     "text": [
      "Qwen3-14B DEV Финальный результат EX: 57.37\n",
      "Qwen3-14B процент запросов, которые успешно выполнились DEV: 95.96%\n",
      "====================================================================================================\n",
      "\n",
      "\n",
      "Загружаем чаты с данными...\n",
      "Данные успешно загружены\n",
      "Начали генерацию SQL запросов\n"
     ]
    },
    {
     "name": "stderr",
     "output_type": "stream",
     "text": [
      "Processed prompts: 100%|██████████| 1534/1534 [05:14<00:00,  4.88it/s, est. speed input: 22205.20 toks/s, output: 251.11 toks/s]"
     ]
    },
    {
     "name": "stdout",
     "output_type": "stream",
     "text": [
      "extract_think количество ошибок:  0\n",
      "extract_sql количество ошибок:  0\n",
      "Закончили генерацию SQL запросов\n",
      "Начали скорр полученных SQL запросов\n"
     ]
    },
    {
     "name": "stderr",
     "output_type": "stream",
     "text": [
      "\n"
     ]
    },
    {
     "name": "stdout",
     "output_type": "stream",
     "text": [
      "Qwen3-14B DEV Финальный результат EX: 57.37\n",
      "Qwen3-14B процент запросов, которые успешно выполнились DEV: 96.22%\n",
      "====================================================================================================\n",
      "\n",
      "\n",
      "Загружаем чаты с данными...\n",
      "Данные успешно загружены\n",
      "Начали генерацию SQL запросов\n"
     ]
    },
    {
     "name": "stderr",
     "output_type": "stream",
     "text": [
      "Processed prompts: 100%|██████████| 1534/1534 [05:21<00:00,  4.78it/s, est. speed input: 22187.71 toks/s, output: 245.68 toks/s]"
     ]
    },
    {
     "name": "stdout",
     "output_type": "stream",
     "text": [
      "extract_think количество ошибок:  0\n",
      "extract_sql количество ошибок:  0\n",
      "Закончили генерацию SQL запросов\n",
      "Начали скорр полученных SQL запросов\n"
     ]
    },
    {
     "name": "stderr",
     "output_type": "stream",
     "text": [
      "\n"
     ]
    },
    {
     "name": "stdout",
     "output_type": "stream",
     "text": [
      "Qwen3-14B DEV Финальный результат EX: 57.43\n",
      "Qwen3-14B процент запросов, которые успешно выполнились DEV: 96.15%\n",
      "====================================================================================================\n",
      "\n",
      "\n",
      "Загружаем чаты с данными...\n",
      "Данные успешно загружены\n",
      "Начали генерацию SQL запросов\n"
     ]
    },
    {
     "name": "stderr",
     "output_type": "stream",
     "text": [
      "Processed prompts: 100%|██████████| 1534/1534 [04:45<00:00,  5.37it/s, est. speed input: 22516.33 toks/s, output: 271.67 toks/s]"
     ]
    },
    {
     "name": "stdout",
     "output_type": "stream",
     "text": [
      "extract_think количество ошибок:  0\n",
      "extract_sql количество ошибок:  0\n",
      "Закончили генерацию SQL запросов\n",
      "Начали скорр полученных SQL запросов\n"
     ]
    },
    {
     "name": "stderr",
     "output_type": "stream",
     "text": [
      "\n"
     ]
    },
    {
     "name": "stdout",
     "output_type": "stream",
     "text": [
      "Qwen3-14B DEV Финальный результат EX: 57.82\n",
      "Qwen3-14B процент запросов, которые успешно выполнились DEV: 96.35%\n",
      "====================================================================================================\n",
      "\n",
      "\n",
      "Загружаем чаты с данными...\n",
      "Данные успешно загружены\n",
      "Начали генерацию SQL запросов\n"
     ]
    },
    {
     "name": "stderr",
     "output_type": "stream",
     "text": [
      "Processed prompts: 100%|██████████| 1534/1534 [04:28<00:00,  5.70it/s, est. speed input: 22549.89 toks/s, output: 290.41 toks/s]"
     ]
    },
    {
     "name": "stdout",
     "output_type": "stream",
     "text": [
      "extract_think количество ошибок:  0\n",
      "extract_sql количество ошибок:  0\n",
      "Закончили генерацию SQL запросов\n",
      "Начали скорр полученных SQL запросов\n"
     ]
    },
    {
     "name": "stderr",
     "output_type": "stream",
     "text": [
      "\n"
     ]
    },
    {
     "name": "stdout",
     "output_type": "stream",
     "text": [
      "Qwen3-14B DEV Финальный результат EX: 58.15\n",
      "Qwen3-14B процент запросов, которые успешно выполнились DEV: 95.96%\n",
      "====================================================================================================\n",
      "\n",
      "\n",
      "Загружаем чаты с данными...\n",
      "Данные успешно загружены\n",
      "Начали генерацию SQL запросов\n"
     ]
    },
    {
     "name": "stderr",
     "output_type": "stream",
     "text": [
      "Processed prompts: 100%|██████████| 1534/1534 [04:19<00:00,  5.90it/s, est. speed input: 23009.73 toks/s, output: 299.28 toks/s]"
     ]
    },
    {
     "name": "stdout",
     "output_type": "stream",
     "text": [
      "extract_think количество ошибок:  0\n",
      "extract_sql количество ошибок:  0\n",
      "Закончили генерацию SQL запросов\n",
      "Начали скорр полученных SQL запросов\n"
     ]
    },
    {
     "name": "stderr",
     "output_type": "stream",
     "text": [
      "\n"
     ]
    },
    {
     "name": "stdout",
     "output_type": "stream",
     "text": [
      "Qwen3-14B DEV Финальный результат EX: 57.50\n",
      "Qwen3-14B процент запросов, которые успешно выполнились DEV: 96.41%\n",
      "====================================================================================================\n",
      "\n",
      "\n",
      "Загружаем чаты с данными...\n",
      "Данные успешно загружены\n",
      "Начали генерацию SQL запросов\n"
     ]
    },
    {
     "name": "stderr",
     "output_type": "stream",
     "text": [
      "Processed prompts: 100%|██████████| 1534/1534 [04:16<00:00,  5.99it/s, est. speed input: 22957.54 toks/s, output: 302.42 toks/s]"
     ]
    },
    {
     "name": "stdout",
     "output_type": "stream",
     "text": [
      "extract_think количество ошибок:  0\n",
      "extract_sql количество ошибок:  0\n",
      "Закончили генерацию SQL запросов\n",
      "Начали скорр полученных SQL запросов\n"
     ]
    },
    {
     "name": "stderr",
     "output_type": "stream",
     "text": [
      "\n"
     ]
    },
    {
     "name": "stdout",
     "output_type": "stream",
     "text": [
      "Qwen3-14B DEV Финальный результат EX: 57.69\n",
      "Qwen3-14B процент запросов, которые успешно выполнились DEV: 96.74%\n",
      "====================================================================================================\n",
      "\n",
      "\n",
      "Загружаем чаты с данными...\n",
      "Данные успешно загружены\n",
      "Начали генерацию SQL запросов\n"
     ]
    },
    {
     "name": "stderr",
     "output_type": "stream",
     "text": [
      "Processed prompts: 100%|██████████| 1534/1534 [04:54<00:00,  5.20it/s, est. speed input: 22355.27 toks/s, output: 267.57 toks/s]"
     ]
    },
    {
     "name": "stdout",
     "output_type": "stream",
     "text": [
      "extract_think количество ошибок:  0\n",
      "extract_sql количество ошибок:  0\n",
      "Закончили генерацию SQL запросов\n",
      "Начали скорр полученных SQL запросов\n"
     ]
    },
    {
     "name": "stderr",
     "output_type": "stream",
     "text": [
      "\n"
     ]
    },
    {
     "name": "stdout",
     "output_type": "stream",
     "text": [
      "Qwen3-14B DEV Финальный результат EX: 57.30\n",
      "Qwen3-14B процент запросов, которые успешно выполнились DEV: 96.22%\n",
      "====================================================================================================\n",
      "\n",
      "\n",
      "Загружаем чаты с данными...\n",
      "Данные успешно загружены\n",
      "Начали генерацию SQL запросов\n"
     ]
    },
    {
     "name": "stderr",
     "output_type": "stream",
     "text": [
      "Processed prompts: 100%|██████████| 1534/1534 [05:16<00:00,  4.85it/s, est. speed input: 22383.09 toks/s, output: 251.05 toks/s]"
     ]
    },
    {
     "name": "stdout",
     "output_type": "stream",
     "text": [
      "extract_think количество ошибок:  0\n",
      "extract_sql количество ошибок:  0\n",
      "Закончили генерацию SQL запросов\n",
      "Начали скорр полученных SQL запросов\n"
     ]
    },
    {
     "name": "stderr",
     "output_type": "stream",
     "text": [
      "\n"
     ]
    },
    {
     "name": "stdout",
     "output_type": "stream",
     "text": [
      "Qwen3-14B DEV Финальный результат EX: 57.89\n",
      "Qwen3-14B процент запросов, которые успешно выполнились DEV: 96.41%\n",
      "====================================================================================================\n",
      "\n",
      "\n",
      "Загружаем чаты с данными...\n",
      "Данные успешно загружены\n",
      "Начали генерацию SQL запросов\n"
     ]
    },
    {
     "name": "stderr",
     "output_type": "stream",
     "text": [
      "Processed prompts: 100%|██████████| 1534/1534 [05:24<00:00,  4.73it/s, est. speed input: 22169.68 toks/s, output: 245.56 toks/s]"
     ]
    },
    {
     "name": "stdout",
     "output_type": "stream",
     "text": [
      "extract_think количество ошибок:  0\n",
      "extract_sql количество ошибок:  0\n",
      "Закончили генерацию SQL запросов\n",
      "Начали скорр полученных SQL запросов\n"
     ]
    },
    {
     "name": "stderr",
     "output_type": "stream",
     "text": [
      "\n"
     ]
    },
    {
     "name": "stdout",
     "output_type": "stream",
     "text": [
      "Qwen3-14B DEV Финальный результат EX: 56.78\n",
      "Qwen3-14B процент запросов, которые успешно выполнились DEV: 95.96%\n",
      "====================================================================================================\n",
      "\n",
      "\n",
      "Загружаем чаты с данными...\n",
      "Данные успешно загружены\n",
      "Начали генерацию SQL запросов\n"
     ]
    },
    {
     "name": "stderr",
     "output_type": "stream",
     "text": [
      "Processed prompts: 100%|██████████| 1534/1534 [05:22<00:00,  4.75it/s, est. speed input: 22343.39 toks/s, output: 242.66 toks/s]"
     ]
    },
    {
     "name": "stdout",
     "output_type": "stream",
     "text": [
      "extract_think количество ошибок:  0\n",
      "extract_sql количество ошибок:  0\n",
      "Закончили генерацию SQL запросов\n",
      "Начали скорр полученных SQL запросов\n"
     ]
    },
    {
     "name": "stderr",
     "output_type": "stream",
     "text": [
      "\n"
     ]
    },
    {
     "name": "stdout",
     "output_type": "stream",
     "text": [
      "Qwen3-14B DEV Финальный результат EX: 57.50\n",
      "Qwen3-14B процент запросов, которые успешно выполнились DEV: 96.61%\n",
      "====================================================================================================\n",
      "\n",
      "\n",
      "Загружаем чаты с данными...\n",
      "Данные успешно загружены\n",
      "Начали генерацию SQL запросов\n"
     ]
    },
    {
     "name": "stderr",
     "output_type": "stream",
     "text": [
      "Processed prompts: 100%|██████████| 1534/1534 [05:21<00:00,  4.77it/s, est. speed input: 22216.11 toks/s, output: 244.11 toks/s]"
     ]
    },
    {
     "name": "stdout",
     "output_type": "stream",
     "text": [
      "extract_think количество ошибок:  0\n",
      "extract_sql количество ошибок:  0\n",
      "Закончили генерацию SQL запросов\n",
      "Начали скорр полученных SQL запросов\n"
     ]
    },
    {
     "name": "stderr",
     "output_type": "stream",
     "text": [
      "\n"
     ]
    },
    {
     "name": "stdout",
     "output_type": "stream",
     "text": [
      "Qwen3-14B DEV Финальный результат EX: 57.63\n",
      "Qwen3-14B процент запросов, которые успешно выполнились DEV: 96.81%\n",
      "====================================================================================================\n",
      "\n",
      "\n"
     ]
    }
   ],
   "source": [
    "run_cot_experiment(model,arr_seeds,arr_versions, type_cot,num_observations=num_observations)"
   ]
  },
  {
   "cell_type": "code",
   "execution_count": 33,
   "id": "297e4c3e-c5be-4721-b770-83fa97d03f5e",
   "metadata": {},
   "outputs": [
    {
     "name": "stdout",
     "output_type": "stream",
     "text": [
      "[99, 963, 47, 5, 571, 651, 224, 937, 859, 259, 906, 349, 846, 537, 19, 249, 898, 62, 183, 929]\n",
      "model: Qwen3-14B\n"
     ]
    }
   ],
   "source": [
    "n= 20\n",
    "arr_seeds = [random.randint(0,1000) for _ in range(n)]\n",
    "arr_versions = [x for x in range(n)]\n",
    "model = \"Qwen3-14B\"\n",
    "num_observations = 5\n",
    "type_cot = 'think'\n",
    "print(arr_seeds)\n",
    "print(f\"model: {model}\")"
   ]
  },
  {
   "cell_type": "code",
   "execution_count": 33,
   "id": "604c03b5-0971-48e5-8b26-be78a74e2b9d",
   "metadata": {
    "scrolled": true
   },
   "outputs": [
    {
     "name": "stdout",
     "output_type": "stream",
     "text": [
      "Загружаем модель...\n"
     ]
    },
    {
     "name": "stderr",
     "output_type": "stream",
     "text": [
      "Loading safetensors checkpoint shards:   0% Completed | 0/8 [00:00<?, ?it/s]\n",
      "Loading safetensors checkpoint shards:  12% Completed | 1/8 [00:01<00:10,  1.55s/it]\n",
      "Loading safetensors checkpoint shards:  25% Completed | 2/8 [00:03<00:09,  1.58s/it]\n",
      "Loading safetensors checkpoint shards:  38% Completed | 3/8 [00:04<00:08,  1.61s/it]\n",
      "Loading safetensors checkpoint shards:  50% Completed | 4/8 [00:06<00:06,  1.62s/it]\n",
      "Loading safetensors checkpoint shards:  62% Completed | 5/8 [00:08<00:04,  1.63s/it]\n",
      "Loading safetensors checkpoint shards:  75% Completed | 6/8 [00:08<00:02,  1.35s/it]\n",
      "Loading safetensors checkpoint shards:  88% Completed | 7/8 [00:10<00:01,  1.43s/it]\n",
      "Loading safetensors checkpoint shards: 100% Completed | 8/8 [00:12<00:00,  1.49s/it]\n",
      "Loading safetensors checkpoint shards: 100% Completed | 8/8 [00:12<00:00,  1.51s/it]\n",
      "\u001b[1;36m(VllmWorker rank=0 pid=1264242)\u001b[0;0m \n"
     ]
    },
    {
     "name": "stdout",
     "output_type": "stream",
     "text": [
      "Модель успешно загружена\n",
      "model_config {'model': '/data/home/vkropoti/models/Qwen3-14B', 'tensor_parallel_size': 2, 'max_model_len': 40000, 'max_new_tokens': 1500, 'temperature': 0, 'top_k': 1, 'top_p': 0.8, 'gpu_memory_utilization': 0.9, 'trust_remote_code': False, 'seed': 99}\n",
      "\n",
      "prompts_config {'path_dev_json': '/home/vkropoti/vllm/dev.json', 'path_sql_dbs': '/data/home/vkropoti/sql_data/dev_databases/', 'use_reasoning': False, 'paths_to_cot': ['/data/home/vkropoti/sql_llm_answers/bird_dev/sql_think_Qwen3-14B-reasoning-v0', '/data/home/vkropoti/sql_llm_answers/bird_dev/sql_think_Qwen3-14B-reasoning-v1', '/data/home/vkropoti/sql_llm_answers/bird_dev/sql_think_Qwen3-14B-reasoning-v2', '/data/home/vkropoti/sql_llm_answers/bird_dev/sql_think_Qwen3-14B-reasoning-v3', '/data/home/vkropoti/sql_llm_answers/bird_dev/sql_think_Qwen3-14B-reasoning-v4']}\n",
      "\n",
      "save_config {'path_sql_save': '/data/home/vkropoti/sql_llm_answers/bird_dev/sql_all_Qwen3-14B-cot_think_think==False_nobs5-v0', 'path_think_save': None, 'path_sql_answers_save': '/data/home/vkropoti/sql_llm_answers/bird_dev/sql_predict_Qwen3-14B-cot_think_think==False_nobs5-v0', 'path_to_save_scores': '/data/home/vkropoti/sql_llm_answers/bird_dev/sql_results_Qwen3-14B-cot_think_think==False_nobs5-v0', 'path_to_save_executed': '/data/home/vkropoti/sql_llm_answers/bird_dev/sql_executed_Qwen3-14B-cot_think_think==False_nobs5-v0'}\n",
      "\n",
      "Модель успешно загружена\n",
      "Пример промпта\n",
      "<|im_start|>system\n",
      "\n",
      "You are a data science expert. Below, you are provided with a database schema and a natural language question. Your task is to understand the schema and generate a valid SQL query to answer the question.\n",
      "\n",
      "Database Engine: SQLite\n",
      "\n",
      "You will be given an additional analysis of other models, please take it into account, so the plan is\n",
      "1. Analyse given addition analysis from other models (find in which analysis the same and differ, how to use that to answer question)\n",
      "2. Combine best from previous part and think how to solve the problem (analyze tables, take care what columns avaliable in each table and so on, check the syntacsis)\n",
      "3. Create the answers. The answer should be only sql query.\n",
      "\n",
      "Carefully follow the instruction and add <|im_end|> and the end of the final answer<|im_end|>\n",
      "<|im_start|>user\n",
      "Here is addition analysis from other models which can be helpfull, please take this into account but be careful (choose the best from each analysis, combine them to make the most proper answer):\n",
      "\n",
      "model 0 analysis:\n",
      " Okay, let's see. The user is asking for the highest eligible free rate for K-12 students in schools located in Alameda County. \n",
      "\n",
      "First, I need to figure out which tables are relevant here. The question mentions \"eligible free rate,\" which is calculated as `Free Meal Count (K-12)` divided by `Enrollment (K-12)`. Looking at the tables provided, the `frpm` table contains these exact columns: `Free Meal Count (K-12)` and `Enrollment (K-12)`. So, the calculation will be done using the `frpm` table.\n",
      "\n",
      "Next, the schools need to be in Alameda County. The `County` column is present in the `schools` table. But the `frpm` table has a `County Name` column. Wait, but the user is asking for schools in Alameda County. Which table's county field should I use? The `frpm` table has a `County Name` column, and the `schools` table has a `County` column. However, since the `frpm` table has a foreign key relationship with `schools` via `CDSCode`, maybe I need to join the two tables to get the county information from `schools`?\n",
      "\n",
      "Wait, the question says \"schools in Alameda County.\" So the county is determined by the school's county, which is in the `schools` table. Therefore, I should join `frpm` with `schools` on `CDSCode` to get the `County` from `schools` and filter where that county is 'Alameda'.\n",
      "\n",
      "But let me check the schema again. The `frpm` table has a `County Name` column. However, the `schools` table has a `County` column. Maybe the `frpm` is referencing the schools' county, but perhaps the `County Name` in `frpm` is redundant. However, the user wants to filter based on the school's county, which is in the `schools` table. Therefore, to get accurate information, I should join `frpm` with `schools` on `CDSCode` and then filter `schools.County = 'Alameda'`.\n",
      "\n",
      "So the steps are:\n",
      "\n",
      "1. Join `frpm` and `schools` on `CDSCode`.\n",
      "2. Filter where `schools.County = 'Alameda'`.\n",
      "3. Calculate the eligible free rate as `Free Meal Count (K-12)` / `Enrollment (K-12)`.\n",
      "4. Find the maximum value of this calculated rate.\n",
      "\n",
      "But wait, in the `frpm` table, there's also a `County Name` column. Could that be used instead? However, the `schools` table's `County` might be more reliable. For example, if a school is in Alameda County, the `schools` table's `County` should be 'Alameda', whereas the `County Name` in `frpm` might be the same. But since the `frpm` has a foreign key to `schools`, perhaps the county is consistent between both tables. However, to be safe, using `schools.County = 'Alameda'` is better because that's the school's actual county.\n",
      "\n",
      "So, the query would involve joining `frpm` with `schools` where `CDSCode` matches. Then, filter on `schools.County = 'Alameda'`. Then calculate the rate and find the maximum.\n",
      "\n",
      "But what if there are multiple entries in `frpm` for the same school? The `frpm` table has `CDSCode` as primary key, so each school has one entry in `frpm`. So the join is straightforward.\n",
      "\n",
      "Now, the SQL query would select the maximum of (Free Meal Count / Enrollment) where the county is Alameda. The columns are in the `frpm` table, so after joining with `schools` to get the county.\n",
      "\n",
      "So the query would be:\n",
      "\n",
      "SELECT MAX(`Free Meal Count (K-12)` / `Enrollment (K-12)`) AS highest_rate\n",
      "FROM frpm\n",
      "JOIN schools ON frpm.CDSCode = schools.CDSCode\n",
      "WHERE schools.County = 'Alameda';\n",
      "\n",
      "But I need to make sure that the `Enrollment (K-12)` is not zero to avoid division by zero. However, the question might assume that all entries have valid enrollment numbers. If not, perhaps a WHERE clause to exclude zero enrollments. But since the problem doesn't mention handling that, maybe it's safe to proceed without it.\n",
      "\n",
      "Also, the `frpm` table has `Enrollment (K-12)` as a REAL, so division should be handled as floating points.\n",
      "\n",
      "So the final SQL is as above, selecting the MAX of the calculated rate, joining on CDSCode, and filtering for Alameda County in the schools table.\n",
      "\n",
      "model 1 analysis:\n",
      " Okay, I need to find the highest eligible free rate for K-12 students in schools located in Alameda County. Let me break this down.\n",
      "\n",
      "First, the eligible free rate is calculated as `Free Meal Count (K-12)` divided by `Enrollment (K-12)`. The question is asking for the maximum value of this rate among schools in Alameda County.\n",
      "\n",
      "Looking at the tables, the `frpm` table has both `Free Meal Count (K-12)` and `Enrollment (K-12)` columns. Also, the `frpm` table has a `County Name` column which should be used to filter for Alameda County.\n",
      "\n",
      "Wait, but there's also a `schools` table with a `County` column. However, the `frpm` table's `County Name` is likely the correct one to use since it's part of the same dataset. The `schools` table might have different county info, but the question mentions using the `frpm` data.\n",
      "\n",
      "So, the plan is to select the maximum of (`Free Meal Count (K-12)` / `Enrollment (K-12)`) from the `frpm` table where `County Name` is 'Alameda County'.\n",
      "\n",
      "But wait, I need to make sure that the `County Name` is correctly spelled and matches the data. Also, the `frpm` table has a foreign key to `schools` via `CDSCode`, but maybe the county info is already in `frpm` so joining isn't necessary. Let me check the schema again.\n",
      "\n",
      "Yes, `frpm` has `County Name` as a column. So I don't need to join with `schools` for the county. Therefore, the query can be written directly on the `frpm` table.\n",
      "\n",
      "Now, the SQL query would use the MAX function on the division of those two columns. Also, since these are REAL numbers, the division should work. Need to make sure that `Enrollment (K-12)` is not zero to avoid division by zero, but the question might assume that all entries have valid enrollments.\n",
      "\n",
      "So the final query would be:\n",
      "\n",
      "SELECT MAX(`Free Meal Count (K-12)` / `Enrollment (K-12)`) FROM frpm WHERE `County Name` = 'Alameda County';\n",
      "\n",
      "Wait, but the `County Name` might have entries like 'Alameda County' exactly. I should check if the data uses that exact name. Assuming it does, this query should work.\n",
      "\n",
      "model 2 analysis:\n",
      " Okay, let's see. The user is asking for the highest eligible free rate for K-12 students in Alameda County. The eligible free rate is calculated as Free Meal Count (K-12) divided by Enrollment (K-12). \n",
      "\n",
      "First, I need to figure out which tables have the necessary data. The frpm table has columns for Free Meal Count (K-12) and Enrollment (K-12), which are needed for the calculation. Also, the frpm table has a County Name column, which I can use to filter for Alameda County.\n",
      "\n",
      "Wait, but the schools table also has a County column. Hmm, but the frpm table has a foreign key to schools, so maybe the County Name in frpm is redundant? But the user's question specifies using the county from the schools table? Or maybe not. Let me check the schema again.\n",
      "\n",
      "Looking at the frpm table's columns, there's a `County Name` field. The schools table has a `County` field. But the question is about Alameda County, so I need to make sure which table's county field is correct. However, since the frpm table has a foreign key to schools, perhaps the county in frpm is derived from schools. But maybe the question uses the `County Name` from frpm directly. The user's instruction says to use the column names as they are, so I should check the frpm table's columns.\n",
      "\n",
      "So, to filter for Alameda County, I need to use the `County Name` column in the frpm table. Wait, but maybe the schools table's County is more accurate? The problem says to use the columns as they are. Let me recheck the tables.\n",
      "\n",
      "In the frpm table, there's `County Name`, and in schools, there's `County`. The user's question is about schools in Alameda County. If the frpm table's `County Name` is the correct county for the school, then using that would be better. Alternatively, since the frpm table references schools, maybe the county from the schools table is more accurate. But the user hasn't specified which one to use. However, since the frpm table has `County Name` and the question is about schools in Alameda County, I think the correct approach is to use the `County Name` from the frpm table because that's the county associated with the school in the frpm context.\n",
      "\n",
      "Wait, but the problem says to use the columns as they are. Let me look again. The frpm table has `County Name` as a column. The schools table has `County`. The user's question is about schools in Alameda County. Since the frpm table has a foreign key to schools, perhaps the county in frpm is the same as in schools. However, if the question is about the schools' county, then using the schools table's County would be more accurate. But without more info, perhaps the user expects using the `County Name` from the frpm table. Alternatively, maybe the schools table's County is the correct one. However, the question mentions \"schools in Alameda County\" which would be in the schools table's County field. But since the frpm table has the county name, maybe the user expects that.\n",
      "\n",
      "Alternatively, maybe the frpm table's `County Name` is redundant and the schools table's County is the correct one. However, since the frpm table has that field, maybe the user expects to use it. But I need to check the correct way. Let's think: the frpm table has the `County Name` as a column. So, if a school is in Alameda County, the `County Name` in frpm should be 'Alameda County'. So, the correct filter is `frpm.\"County Name\" = 'Alameda County'`.\n",
      "\n",
      "Now, the calculation is Free Meal Count (K-12) / Enrollment (K-12). The frpm table has both columns. So the SQL would select the maximum of that ratio. So the query would be:\n",
      "\n",
      "SELECT MAX(`Free Meal Count (K-12)` / `Enrollment (K-12)`) FROM frpm WHERE `County Name` = 'Alameda County';\n",
      "\n",
      "Wait, but the user wants the highest rate, so MAX of that calculation. That's correct.\n",
      "\n",
      "But need to ensure that both columns are not null, but the question doesn't mention handling nulls. So assuming that where the data is present, the division is valid.\n",
      "\n",
      "Therefore, the final query is selecting the maximum of that ratio from the frpm table where the county name is Alameda County.\n",
      "\n",
      "model 3 analysis:\n",
      " Okay, let me figure out how to answer this question. The user wants the highest eligible free rate for K-12 students in Alameda County. From the external knowledge, I know that the eligible free rate is calculated by dividing the Free Meal Count (K-12) by the Enrollment (K-12). \n",
      "\n",
      "First, I need to check which tables have the necessary data. The 'frpm' table has both 'Free Meal Count (K-12)' and 'Enrollment (K-12)' columns. Also, the 'County Name' column in the 'frpm' table can be used to filter for Alameda County.\n",
      "\n",
      "So the plan is to select the maximum value of the ratio (Free Meal Count / Enrollment) from the frpm table where County Name is 'Alameda County'. But I need to make sure that the division is done correctly. In SQLite, using / should work for real numbers.\n",
      "\n",
      "Wait, the columns are of type REAL, so dividing them should give the rate. Then, using MAX() on that calculated column would give the highest rate. Also, I need to ensure that Enrollment (K-12) is not zero to avoid division by zero. However, the problem might not have such cases, or maybe the database handles it. But since the user didn't mention handling that, I'll proceed as is.\n",
      "\n",
      "So the SQL query would be: SELECT MAX(`Free Meal Count (K-12)` / `Enrollment (K-12)`) FROM frpm WHERE `County Name` = 'Alameda County';\n",
      "\n",
      "I should check if the 'County Name' is correctly spelled and matches the data in the table. Also, make sure that the column names are enclosed in backticks as they have spaces. The 'frpm' table's County Name is the right place to filter. That should do it.\n",
      "\n",
      "model 4 analysis:\n",
      " Okay, let me try to figure out how to answer this question. The user is asking for the highest eligible free rate for K-12 students in schools located in Alameda County. \n",
      "\n",
      "First, I need to recall the database schema. The relevant tables here are 'frpm' and 'schools'. The 'frpm' table has columns for 'Free Meal Count (K-12)' and 'Enrollment (K-12)', which are needed to calculate the eligible free rate. The 'schools' table has a 'County' column that I can use to filter for Alameda County.\n",
      "\n",
      "So the plan is: join the frpm and schools tables on the CDSCode, then calculate the rate by dividing Free Meal Count by Enrollment. Then find the maximum value of that rate where the county is Alameda.\n",
      "\n",
      "Wait, but the 'County' in the schools table is the county for the school, right? So I need to join the two tables using CDSCode and then filter where schools.County = 'Alameda'.\n",
      "\n",
      "Once the tables are joined, I can compute the rate as (Free Meal Count (K-12) / Enrollment (K-12)). Then, use MAX() to get the highest rate. But I have to make sure that Enrollment isn't zero to avoid division by zero. However, the question doesn't mention handling that, so maybe the data is clean enough, or the MAX() will ignore NULLs if enrollment is zero.\n",
      "\n",
      "So the SQL query would select MAX((Free Meal Count / Enrollment)) from the joined tables where County is Alameda. Also, I need to make sure the columns are correctly quoted with backticks since they have spaces and special characters.\n",
      "\n",
      "Wait, the 'County' in schools is the county name. So the WHERE condition is schools.County = 'Alameda'.\n",
      "\n",
      "Putting it all together: SELECT MAX(`Free Meal Count (K-12)` / `Enrollment (K-12)`) FROM frpm JOIN schools ON frpm.CDSCode = schools.CDSCode WHERE schools.County = 'Alameda';\n",
      "\n",
      "But the question says to only include the information asked. The answer is a single value, the highest rate, so the SELECT should just compute that MAX.\n",
      "\n",
      "I need to check if there are any other conditions. The 'frpm' table's County Name might be redundant, but the schools table's County is the correct one to use here. The join is on CDSCode between frpm and schools. That should be correct.\n",
      "\n",
      "Yes, this should work.\n",
      "\n",
      "\n",
      "here is avaliable tables below\n",
      "\n",
      "\n",
      "Table: frpm\n",
      "CREATE TABLE frpm\n",
      "(\n",
      "    CDSCode                                       TEXT not null\n",
      "        primary key,\n",
      "    `Academic Year`                               TEXT  null,\n",
      "    `County Code`                                 TEXT  null,\n",
      "    `District Code`                               INTEGER         null,\n",
      "    `School Code`                                 TEXT  null,\n",
      "    `County Name`                                 TEXT null,\n",
      "    `District Name`                               TEXT null,\n",
      "    `School Name`                                 TEXT null,\n",
      "    `District Type`                               TEXT null,\n",
      "    `School Type`                                 TEXT null,\n",
      "    `Educational Option Type`                     TEXT null,\n",
      "    `NSLP Provision Status`                       TEXT null,\n",
      "    `Charter School (Y/N)`                        INTEGER    null,\n",
      "    `Charter School Number`                       TEXT  null,\n",
      "    `Charter Funding Type`                        TEXT null,\n",
      "    IRC                                           INTEGER    null,\n",
      "    `Low Grade`                                   TEXT  null,\n",
      "    `High Grade`                                  TEXT null,\n",
      "    `Enrollment (K-12)`                           REAL      null,\n",
      "    `Free Meal Count (K-12)`                      REAL       null,\n",
      "    `Percent (%) Eligible Free (K-12)`            REAL       null,\n",
      "    `FRPM Count (K-12)`                           REAL       null,\n",
      "    `Percent (%) Eligible FRPM (K-12)`            REAL       null,\n",
      "    `Enrollment (Ages 5-17)`                      REAL       null,\n",
      "    `Free Meal Count (Ages 5-17)`                 REAL       null,\n",
      "    `Percent (%) Eligible Free (Ages 5-17)`       REAL       null,\n",
      "    `FRPM Count (Ages 5-17)`                      REAL       null,\n",
      "    `Percent (%) Eligible FRPM (Ages 5-17)`       REAL       null,\n",
      "    `2013-14 CALPADS Fall 1 Certification Status` INTEGER    null,\n",
      "    foreign key (CDSCode) references schools (CDSCode)\n",
      ")\n",
      "\n",
      "Table: satscores\n",
      "CREATE TABLE satscores\n",
      "(\n",
      "    cds         TEXT not null\n",
      "        primary key,\n",
      "    rtype       TEXT  not null,\n",
      "    sname       TEXT null,\n",
      "    dname       TEXT null,\n",
      "    cname       TEXT null,\n",
      "    enroll12    INTEGER         not null,\n",
      "    NumTstTakr  INTEGER          not null,\n",
      "    AvgScrRead  INTEGER          null,\n",
      "    AvgScrMath  INTEGER          null,\n",
      "    AvgScrWrite INTEGER          null,\n",
      "    NumGE1500   INTEGER          null,\n",
      "--     PctGE1500   double      null,\n",
      "        foreign key (cds) references schools (CDSCode)\n",
      ")\n",
      "\n",
      "Table: schools\n",
      "CREATE TABLE schools\n",
      "(\n",
      "    CDSCode     TEXT not null\n",
      "        primary key,\n",
      "    NCESDist    TEXT  null,\n",
      "    NCESSchool  TEXT  null,\n",
      "    StatusType  TEXT  not null,\n",
      "    County      TEXT not null,\n",
      "    District    TEXT not null,\n",
      "    School      TEXT null,\n",
      "    Street      TEXT null,\n",
      "    StreetAbr   TEXT null,\n",
      "    City        TEXT null,\n",
      "    Zip         TEXT null,\n",
      "    State       TEXT  null,\n",
      "    MailStreet  TEXT null,\n",
      "    MailStrAbr  TEXT null,\n",
      "    MailCity    TEXT null,\n",
      "    MailZip     TEXT null,\n",
      "    MailState   TEXT  null,\n",
      "    Phone       TEXT null,\n",
      "    Ext         TEXT  null,\n",
      "    Website     TEXT null,\n",
      "    OpenDate    DATE        null,\n",
      "    ClosedDate  DATE        null,\n",
      "    Charter     INTEGER    null,\n",
      "    CharterNum  TEXT  null,\n",
      "    FundingType TEXT null,\n",
      "    DOC         TEXT  not null,\n",
      "    DOCType     TEXT not null,\n",
      "    SOC         TEXT  null,\n",
      "    SOCType     TEXT null,\n",
      "    EdOpsCode   TEXT  null,\n",
      "    EdOpsName   TEXT null,\n",
      "    EILCode     TEXT  null,\n",
      "    EILName     TEXT null,\n",
      "    GSoffered   TEXT null,\n",
      "    GSserved    TEXT  null,\n",
      "    Virtual     TEXT  null,\n",
      "    Magnet      INTEGER   null,\n",
      "    Latitude    REAL      null,\n",
      "    Longitude   REAL      null,\n",
      "    AdmFName1   TEXT null,\n",
      "    AdmLName1   TEXT null,\n",
      "    AdmEmail1   TEXT null,\n",
      "    AdmFName2   TEXT null,\n",
      "    AdmLName2   TEXT null,\n",
      "    AdmEmail2   TEXT null,\n",
      "    AdmFName3   TEXT  null,\n",
      "    AdmLName3   TEXT null,\n",
      "    AdmEmail3   TEXT null,\n",
      "    LastUpdate  DATE        not null\n",
      ")\n",
      "\n",
      "-- Using valid SQLite and understanding External Knowledge, answer the following questions for the tables provided above.\n",
      "-- What is the highest eligible free rate for K-12 students in the schools in Alameda County?\n",
      "-- External Knowledge: Eligible free rate for K-12 = `Free Meal Count (K-12)` / `Enrollment (K-12)`\n",
      "\n",
      "\n",
      "Generate the SQLite for the above question after thinking step by step: \n",
      "\n",
      "\n",
      "Instructions:\n",
      "- Make sure you only output the information that is asked in the question. If the question asks for a specific column, make sure to only include that column in the SELECT clause, nothing more.\n",
      "- The generated query should return all of the information asked in the question without any missing or extra information.\n",
      "- Before generating the final SQL query, please think through the steps of how to write the query.\n",
      "- Do not misuse column names, keep them in quotes `\n",
      "- Carefully understand what colomns belond to what tables\n",
      "- Use only initial column names, change names prohibited\n",
      "        \n",
      "Output Format:\n",
      "In your answer, please enclose the generated SQL query in a code block:\n",
      "```\n",
      "-- Your SQL query\n",
      "```    \n",
      "and nothing else, no exaplains, no comments (asnwer should be less than 512 characters)\n",
      "\n",
      "Take a deep breath and think step by step to find the correct SQL query in SQLite format.\n",
      "\n",
      "Question repetition: What is the highest eligible free rate for K-12 students in the schools in Alameda County?\n",
      "\n",
      "Be care! Include only what i want it questiona and nothing else<|im_end|>\n",
      "<|im_start|>assistant\n",
      "<think>\n",
      "\n",
      "</think>\n",
      "\n",
      "\n",
      "\n",
      "\n",
      "Максимальное количество токенов в промптах: 22382\n",
      "\n",
      "начинаем скорринг\n",
      "Загружаем чаты с данными...\n",
      "Данные успешно загружены\n",
      "Начали генерацию SQL запросов\n"
     ]
    },
    {
     "name": "stderr",
     "output_type": "stream",
     "text": [
      "Processed prompts: 100%|██████████| 1534/1534 [06:26<00:00,  3.97it/s, est. speed input: 22058.84 toks/s, output: 203.50 toks/s]"
     ]
    },
    {
     "name": "stdout",
     "output_type": "stream",
     "text": [
      "extract_think количество ошибок:  0\n",
      "extract_sql количество ошибок:  0\n",
      "Закончили генерацию SQL запросов\n",
      "Начали скорр полученных SQL запросов\n"
     ]
    },
    {
     "name": "stderr",
     "output_type": "stream",
     "text": [
      "\n"
     ]
    },
    {
     "name": "stdout",
     "output_type": "stream",
     "text": [
      "Qwen3-14B DEV Финальный результат EX: 58.08\n",
      "Qwen3-14B процент запросов, которые успешно выполнились DEV: 96.48%\n",
      "====================================================================================================\n",
      "\n",
      "\n",
      "Загружаем чаты с данными...\n",
      "Данные успешно загружены\n",
      "Начали генерацию SQL запросов\n"
     ]
    },
    {
     "name": "stderr",
     "output_type": "stream",
     "text": [
      "Processed prompts: 100%|██████████| 1534/1534 [06:29<00:00,  3.93it/s, est. speed input: 22034.95 toks/s, output: 200.69 toks/s]"
     ]
    },
    {
     "name": "stdout",
     "output_type": "stream",
     "text": [
      "extract_think количество ошибок:  0\n",
      "extract_sql количество ошибок:  0\n",
      "Закончили генерацию SQL запросов\n",
      "Начали скорр полученных SQL запросов\n"
     ]
    },
    {
     "name": "stderr",
     "output_type": "stream",
     "text": [
      "\n"
     ]
    },
    {
     "name": "stdout",
     "output_type": "stream",
     "text": [
      "Qwen3-14B DEV Финальный результат EX: 56.78\n",
      "Qwen3-14B процент запросов, которые успешно выполнились DEV: 96.41%\n",
      "====================================================================================================\n",
      "\n",
      "\n",
      "Загружаем чаты с данными...\n",
      "Данные успешно загружены\n",
      "Начали генерацию SQL запросов\n"
     ]
    },
    {
     "name": "stderr",
     "output_type": "stream",
     "text": [
      "\n",
      "KeyboardInterrupt\n",
      "\n",
      "Exception ignored in: <bound method IPythonKernel._clean_thread_parent_frames of <ipykernel.ipkernel.IPythonKernel object at 0x7fe0d1896f30>>\n",
      "Traceback (most recent call last):\n",
      "  File \"/data/home/vkropoti/vllm/lib64/python3.12/site-packages/ipykernel/ipkernel.py\", line 775, in _clean_thread_parent_frames\n",
      "KeyboardInterrupt: \n",
      "\n",
      "KeyboardInterrupt\n",
      "\n"
     ]
    }
   ],
   "source": [
    "run_cot_experiment(model,arr_seeds,arr_versions, type_cot,num_observations=num_observations)"
   ]
  },
  {
   "cell_type": "code",
   "execution_count": null,
   "id": "618682f5-a160-460f-8f95-1cf78a4111df",
   "metadata": {},
   "outputs": [],
   "source": [
    "n= 20\n",
    "arr_seeds = [random.randint(0,1000) for _ in range(n)]\n",
    "arr_versions = [x for x in range(n)]\n",
    "model = \"Qwen3-14B\"\n",
    "num_observations = 6\n",
    "type_cot = 'think'\n",
    "print(arr_seeds)\n",
    "print(f\"model: {model}\")"
   ]
  },
  {
   "cell_type": "code",
   "execution_count": null,
   "id": "5346e0c4-95a5-4b8b-99f8-bd9905dbdbf5",
   "metadata": {
    "scrolled": true
   },
   "outputs": [],
   "source": [
    "run_cot_experiment(model,arr_seeds,arr_versions, type_cot,num_observations=num_observations)"
   ]
  },
  {
   "cell_type": "code",
   "execution_count": null,
   "id": "e1546848-51e6-48b8-a752-2e11cf612fba",
   "metadata": {},
   "outputs": [],
   "source": [
    "n= 20\n",
    "arr_seeds = [random.randint(0,1000) for _ in range(n)]\n",
    "arr_versions = [x for x in range(n)]\n",
    "model = \"Qwen3-8B\"\n",
    "num_observations = 7\n",
    "type_cot = 'think'\n",
    "print(arr_seeds)\n",
    "print(f\"model: {model}\")"
   ]
  },
  {
   "cell_type": "code",
   "execution_count": null,
   "id": "bbd1c5d7-3f56-4d9b-b2da-ced7d7af5dcd",
   "metadata": {
    "scrolled": true
   },
   "outputs": [],
   "source": [
    "run_cot_experiment(model,arr_seeds,arr_versions, type_cot,num_observations=num_observations)"
   ]
  },
  {
   "cell_type": "code",
   "execution_count": null,
   "id": "1f275770-a1ff-4c32-9410-a2f1b90d6387",
   "metadata": {},
   "outputs": [],
   "source": []
  }
 ],
 "metadata": {
  "kernelspec": {
   "display_name": "vllm",
   "language": "python",
   "name": "vllm"
  },
  "language_info": {
   "codemirror_mode": {
    "name": "ipython",
    "version": 3
   },
   "file_extension": ".py",
   "mimetype": "text/x-python",
   "name": "python",
   "nbconvert_exporter": "python",
   "pygments_lexer": "ipython3",
   "version": "3.12.4"
  }
 },
 "nbformat": 4,
 "nbformat_minor": 5
}
