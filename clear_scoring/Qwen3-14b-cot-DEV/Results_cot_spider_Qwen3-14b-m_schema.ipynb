{
 "cells": [
  {
   "cell_type": "code",
   "execution_count": 1,
   "id": "9155ad82-bb8b-4bf7-aae9-a0f2cb6e7bd1",
   "metadata": {},
   "outputs": [],
   "source": [
    "import pickle\n",
    "import numpy as np\n",
    "import scipy.stats as stats\n",
    "import math\n",
    "import json"
   ]
  },
  {
   "cell_type": "code",
   "execution_count": 2,
   "id": "a0870895-3214-4b5b-8864-4183ce7df836",
   "metadata": {},
   "outputs": [],
   "source": [
    "model = \"Qwen3-14B\""
   ]
  },
  {
   "cell_type": "code",
   "execution_count": 3,
   "id": "c649a828-3236-4995-8a13-7b3e75325077",
   "metadata": {},
   "outputs": [],
   "source": [
    "with open(\"/data/home/vkropoti/sql_data/mini-dev-index\", \"rb\") as fp:   # Unpickling\n",
    "    mini_dev_index = np.array(pickle.load(fp))\n",
    "    \n",
    "def load_json():\n",
    "    with open('/home/vkropoti/vllm/dev.json', \"r\") as j:\n",
    "        contents = json.loads(j.read())\n",
    "    return contents\n",
    "\n",
    "def load_split():\n",
    "    data = load_json()\n",
    "    query_level = []\n",
    "    for k in range(len(data)):\n",
    "        query_level.append(data[k]['difficulty'])\n",
    "    return np.array(query_level)"
   ]
  },
  {
   "cell_type": "code",
   "execution_count": 4,
   "id": "7a2036cc-0497-48e3-aede-58cd0e9e29ec",
   "metadata": {},
   "outputs": [],
   "source": [
    "split = load_split()"
   ]
  },
  {
   "cell_type": "code",
   "execution_count": 5,
   "id": "6794ee28-92f9-442f-9c1e-dc72a34f2408",
   "metadata": {},
   "outputs": [
    {
     "data": {
      "text/plain": [
       "np.float64(0.6029986962190352)"
      ]
     },
     "execution_count": 5,
     "metadata": {},
     "output_type": "execute_result"
    }
   ],
   "source": [
    "np.mean(split=='simple')"
   ]
  },
  {
   "cell_type": "code",
   "execution_count": 6,
   "id": "ded4042a-0ef1-42b1-9edc-ee76e783ef2a",
   "metadata": {},
   "outputs": [
    {
     "data": {
      "text/plain": [
       "np.float64(0.30247718383311606)"
      ]
     },
     "execution_count": 6,
     "metadata": {},
     "output_type": "execute_result"
    }
   ],
   "source": [
    "np.mean(split=='moderate')"
   ]
  },
  {
   "cell_type": "code",
   "execution_count": 7,
   "id": "c1e137c3-a1a1-4381-a086-3d01c170c219",
   "metadata": {},
   "outputs": [
    {
     "data": {
      "text/plain": [
       "np.float64(0.09452411994784876)"
      ]
     },
     "execution_count": 7,
     "metadata": {},
     "output_type": "execute_result"
    }
   ],
   "source": [
    "np.mean(split=='challenging')"
   ]
  },
  {
   "cell_type": "code",
   "execution_count": 8,
   "id": "c87c0520-71e5-4fd6-9ee2-0be4c378377b",
   "metadata": {},
   "outputs": [],
   "source": [
    "def I_alpha(mean,n,std_dev,confidence = 0.95):\n",
    "    # Критическое значение t для 95% ДИ и 49 степеней свободы\n",
    "    t_value = stats.t.ppf((1 + confidence) / 2, df=n-1)\n",
    "    margin_of_error = t_value * (std_dev / math.sqrt(n))\n",
    "    \n",
    "    # Границы доверительного интервала\n",
    "    ci_lower = mean - margin_of_error\n",
    "    ci_upper = mean + margin_of_error\n",
    "    return ci_lower, ci_upper"
   ]
  },
  {
   "cell_type": "code",
   "execution_count": 9,
   "id": "6381dbae-5c83-4ca0-a1ac-0e355ea3fe58",
   "metadata": {},
   "outputs": [],
   "source": [
    "def load_results(k,nobs,cot_type,think=False):\n",
    "    # sql_results_Qwen3-8B-cot_all_new_think==False_nobs2-v0\n",
    "    # with open(f\"/data/home/vkropoti/sql_llm_answers/base_reasoning/sql_results_{model}-cot_{type_cot}_think=={use_think}-v{k}\", \"rb\") as fp:\n",
    "    with open(f\"/data/home/vkropoti/sql_llm_answers/spider_dev_m_schema/sql_results_Qwen3-14B-cot_{cot_type}_think=={think}_nobs{nobs}-v{k}\", \"rb\") as fp:\n",
    "        results = np.array(pickle.load(fp))\n",
    "    return results"
   ]
  },
  {
   "cell_type": "code",
   "execution_count": 10,
   "id": "0d66133b-dd71-4cb1-8799-1d60af0eb74c",
   "metadata": {},
   "outputs": [],
   "source": [
    "def load_executed(k,nobs,cot_type,think=False):\n",
    "    # /data/home/vkropoti/sql_llm_answers/base_reasoning/sql_executed_{model}-cot_{type_cot}_think=={use_think}-v{version}\n",
    "    with open(f\"/data/home/vkropoti/sql_llm_answers/spider_dev_m_schema/sql_executed_Qwen3-14B-cot_{cot_type}_think=={think}_nobs{nobs}-v{k}\", \"rb\") as fp:\n",
    "        executed = np.array(pickle.load(fp))\n",
    "    return executed"
   ]
  },
  {
   "cell_type": "code",
   "execution_count": 15,
   "id": "48c0d2b0-b844-4882-8122-fd2d33dc91c8",
   "metadata": {},
   "outputs": [],
   "source": [
    "def get_think_results(n,nobs=2,cot_type='all_new',think=False):\n",
    "    \n",
    "    arr_mean_scores = []\n",
    "    arr_mean_executed = []\n",
    "    # d_split = {\"simple\":[], \"moderate\":[], \"challenging\":[]}\n",
    "    for i in range(n):\n",
    "        result, executed = load_results(i,nobs,cot_type,think), load_executed(i,nobs,cot_type,think)\n",
    "        arr_mean_scores.append(np.mean(result))\n",
    "        arr_mean_executed.append(np.mean(executed))\n",
    "        # d_split['simple'].append(np.mean(result[split=='simple']))\n",
    "        # d_split['moderate'].append(np.mean(result[split=='moderate']))\n",
    "        # d_split['challenging'].append(np.mean(result[split=='challenging']))\n",
    "        \n",
    "    if cot_type=='all_new':\n",
    "        add = \"данные о размышлениях + финальный ответ\"\n",
    "    elif cot_type=='think':\n",
    "        add = \"только данные о размышлениях\"\n",
    "    elif cot_type=='predict':\n",
    "        add = \"только данные о финальных ответах\"\n",
    "\n",
    "    ci_lower, ci_upper = I_alpha(np.mean(np.array(arr_mean_scores)),n,np.std(np.array(arr_mean_scores)))\n",
    "    print(f\"Модель основывает ответ по {nobs} выводам других моделей, которые включают {add}\")\n",
    "    print(f\"Результаты получены прогоном {n} симуляций с разными seed\")\n",
    "    print(f\"{model} DEV Финальный результат EX: {np.mean(np.array(arr_mean_scores)):.5f}, при std: {np.std(np.array(arr_mean_scores)):.4f}\")\n",
    "    print(f\"95% доверительный интервал: ({ci_lower:.5f},{ci_upper:.5f})\")\n",
    "    # for type_ in d_split:\n",
    "    #     print(f\"{type_}: {np.mean(np.array(d_split[type_])):.5f}\")\n",
    "    # print(f\"{model} процент запросов, которые успешно выполнились DEV: {np.mean(np.array(arr_mean_executed)):.4f}, при std: {np.std(np.array(arr_mean_executed)):.4f}\")\n",
    "    return np.mean(np.array(arr_mean_scores))\n",
    "    # print(f\"{model} процент запросов, которые успешно выполнились Mini DEV: {np.mean(np.array(arr_mean_executed)):.4f}, при std: {np.std(np.array(arr_mean_executed)):.4f}\")\n",
    "    "
   ]
  },
  {
   "cell_type": "markdown",
   "id": "add55efb-64df-451c-ae00-2a99e59103ec",
   "metadata": {},
   "source": [
    "## Использование reasoning+ответ"
   ]
  },
  {
   "cell_type": "code",
   "execution_count": 19,
   "id": "5b2540fa-e460-4baa-8d93-b9bcbc4c3e3c",
   "metadata": {},
   "outputs": [
    {
     "name": "stdout",
     "output_type": "stream",
     "text": [
      "Модель основывает ответ по 2 выводам других моделей, которые включают данные о размышлениях + финальный ответ\n",
      "Результаты получены прогоном 20 симуляций с разными seed\n",
      "Qwen3-14B DEV Финальный результат EX: 0.75046, при std: 0.0049\n",
      "95% доверительный интервал: (0.74817,0.75276)\n",
      "\n",
      "Модель основывает ответ по 3 выводам других моделей, которые включают данные о размышлениях + финальный ответ\n",
      "Результаты получены прогоном 20 симуляций с разными seed\n",
      "Qwen3-14B DEV Финальный результат EX: 0.75144, при std: 0.0030\n",
      "95% доверительный интервал: (0.75003,0.75285)\n",
      "\n",
      "Модель основывает ответ по 4 выводам других моделей, которые включают данные о размышлениях + финальный ответ\n",
      "Результаты получены прогоном 20 симуляций с разными seed\n",
      "Qwen3-14B DEV Финальный результат EX: 0.75195, при std: 0.0041\n",
      "95% доверительный интервал: (0.75004,0.75386)\n",
      "\n",
      "Модель основывает ответ по 5 выводам других моделей, которые включают данные о размышлениях + финальный ответ\n",
      "Результаты получены прогоном 20 симуляций с разными seed\n",
      "Qwen3-14B DEV Финальный результат EX: 0.75242, при std: 0.0054\n",
      "95% доверительный интервал: (0.74988,0.75495)\n",
      "\n"
     ]
    }
   ],
   "source": [
    "scores = []\n",
    "for n in range(2,6):\n",
    "    scores.append(get_think_results(20,nobs=n,cot_type='all_new'))\n",
    "    print()"
   ]
  },
  {
   "cell_type": "markdown",
   "id": "bb74d30d-f688-46e8-a032-173fe324e18b",
   "metadata": {},
   "source": [
    "## Использование только ответ"
   ]
  },
  {
   "cell_type": "code",
   "execution_count": 20,
   "id": "ed9dcf3c-d696-4239-9278-423939b240d2",
   "metadata": {},
   "outputs": [
    {
     "name": "stdout",
     "output_type": "stream",
     "text": [
      "Модель основывает ответ по 2 выводам других моделей, которые включают только данные о финальных ответах\n",
      "Результаты получены прогоном 20 симуляций с разными seed\n",
      "Qwen3-14B DEV Финальный результат EX: 0.75525, при std: 0.0052\n",
      "95% доверительный интервал: (0.75282,0.75768)\n",
      "\n",
      "Модель основывает ответ по 3 выводам других моделей, которые включают только данные о финальных ответах\n",
      "Результаты получены прогоном 20 симуляций с разными seed\n",
      "Qwen3-14B DEV Финальный результат EX: 0.75734, при std: 0.0056\n",
      "95% доверительный интервал: (0.75472,0.75996)\n",
      "\n",
      "Модель основывает ответ по 4 выводам других моделей, которые включают только данные о финальных ответах\n",
      "Результаты получены прогоном 20 симуляций с разными seed\n",
      "Qwen3-14B DEV Финальный результат EX: 0.75906, при std: 0.0050\n",
      "95% доверительный интервал: (0.75674,0.76139)\n",
      "\n",
      "Модель основывает ответ по 5 выводам других моделей, которые включают только данные о финальных ответах\n",
      "Результаты получены прогоном 20 симуляций с разными seed\n",
      "Qwen3-14B DEV Финальный результат EX: 0.75957, при std: 0.0041\n",
      "95% доверительный интервал: (0.75767,0.76147)\n",
      "\n"
     ]
    }
   ],
   "source": [
    "scores_predict = []\n",
    "for n in range(2,6):\n",
    "    scores_predict.append(get_think_results(20,nobs=n,cot_type='predict'))\n",
    "    print()"
   ]
  },
  {
   "cell_type": "markdown",
   "id": "e00cbaf6-bb7e-46b9-b547-6c17ea940711",
   "metadata": {},
   "source": [
    "## Использование только размышлений"
   ]
  },
  {
   "cell_type": "code",
   "execution_count": 21,
   "id": "247f5fe1-0df1-4c4e-ac95-0e7cb9623788",
   "metadata": {},
   "outputs": [
    {
     "name": "stdout",
     "output_type": "stream",
     "text": [
      "Модель основывает ответ по 2 выводам других моделей, которые включают только данные о размышлениях\n",
      "Результаты получены прогоном 20 симуляций с разными seed\n",
      "Qwen3-14B DEV Финальный результат EX: 0.75019, при std: 0.0046\n",
      "95% доверительный интервал: (0.74804,0.75233)\n",
      "\n",
      "Модель основывает ответ по 3 выводам других моделей, которые включают только данные о размышлениях\n",
      "Результаты получены прогоном 20 симуляций с разными seed\n",
      "Qwen3-14B DEV Финальный результат EX: 0.74940, при std: 0.0048\n",
      "95% доверительный интервал: (0.74713,0.75167)\n",
      "\n",
      "Модель основывает ответ по 4 выводам других моделей, которые включают только данные о размышлениях\n",
      "Результаты получены прогоном 20 симуляций с разными seed\n",
      "Qwen3-14B DEV Финальный результат EX: 0.74963, при std: 0.0058\n",
      "95% доверительный интервал: (0.74691,0.75235)\n",
      "\n",
      "Модель основывает ответ по 5 выводам других моделей, которые включают только данные о размышлениях\n",
      "Результаты получены прогоном 20 симуляций с разными seed\n",
      "Qwen3-14B DEV Финальный результат EX: 0.75042, при std: 0.0063\n",
      "95% доверительный интервал: (0.74747,0.75337)\n",
      "\n"
     ]
    }
   ],
   "source": [
    "scores_think = []\n",
    "for n in range(2,6):\n",
    "    scores_think.append(get_think_results(20,nobs=n,cot_type='think'))\n",
    "    print()"
   ]
  },
  {
   "cell_type": "code",
   "execution_count": 36,
   "id": "ea44663d-6c97-49dd-aae1-633be47e3571",
   "metadata": {},
   "outputs": [],
   "source": [
    "# get_think_results(20,nobs=6,cot_type='think')"
   ]
  },
  {
   "cell_type": "code",
   "execution_count": 37,
   "id": "02fc2a0d-60ca-47b4-b8ba-a87c18602fa5",
   "metadata": {},
   "outputs": [],
   "source": [
    "# get_think_results(20,nobs=7,cot_type='think')"
   ]
  },
  {
   "cell_type": "code",
   "execution_count": 23,
   "id": "34a4a951-aa0f-490c-a6cf-4217205a13a3",
   "metadata": {},
   "outputs": [
    {
     "data": {
      "image/png": "[encoded data removed]",
      "text/plain": [
       "<Figure size 1000x600 with 1 Axes>"
      ]
     },
     "metadata": {},
     "output_type": "display_data"
    }
   ],
   "source": [
    "import matplotlib.pyplot as plt\n",
    "import numpy as np\n",
    "\n",
    "# Данные\n",
    "nobs = [2, 3, 4, 5]\n",
    "base_think = [0.748]*4\n",
    "# Создание графика\n",
    "plt.figure(figsize=(10, 6))\n",
    "plt.plot(nobs, scores, marker='o', label='reasoning+answer', color='tab:blue')\n",
    "plt.plot(nobs, scores_predict, marker='s', label='answer', color='tab:orange')\n",
    "plt.plot(nobs, scores_think, marker='^', label='reasoning', color='tab:green')\n",
    "plt.plot(nobs, base_think, label='base reasoning', color='tab:red')\n",
    "\n",
    "# Настройки\n",
    "plt.title('Сравнение методов агрегации ответов SPIDER Qwen3-14b M-schema', fontsize=14)\n",
    "plt.xlabel('Количество наблюдений в помощь (nobs)', fontsize=12)\n",
    "plt.ylabel('Средний EX-скор', fontsize=12)\n",
    "plt.xticks(nobs)\n",
    "plt.grid(True, linestyle='--', alpha=0.7)\n",
    "plt.legend(fontsize=12)\n",
    "plt.ylim(0.70, 0.80)  # Фиксируем диапазон для лучшего сравнения\n",
    "\n",
    "# Отображение\n",
    "plt.tight_layout()\n",
    "plt.show()"
   ]
  },
  {
   "cell_type": "code",
   "execution_count": null,
   "id": "00a83c3d-69b4-4920-939f-8a319cf790e3",
   "metadata": {},
   "outputs": [],
   "source": []
  }
 ],
 "metadata": {
  "kernelspec": {
   "display_name": "vllm",
   "language": "python",
   "name": "vllm"
  },
  "language_info": {
   "codemirror_mode": {
    "name": "ipython",
    "version": 3
   },
   "file_extension": ".py",
   "mimetype": "text/x-python",
   "name": "python",
   "nbconvert_exporter": "python",
   "pygments_lexer": "ipython3",
   "version": "3.12.4"
  }
 },
 "nbformat": 4,
 "nbformat_minor": 5
}
