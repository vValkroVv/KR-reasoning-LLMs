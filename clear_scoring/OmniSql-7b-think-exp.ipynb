{
 "cells": [
  {
   "cell_type": "code",
   "execution_count": 1,
   "id": "8fc211c7-82bd-49c0-b7e2-1c1d6ad9134f",
   "metadata": {},
   "outputs": [
    {
     "name": "stdout",
     "output_type": "stream",
     "text": [
      "INFO 06-02 16:03:10 [__init__.py:239] Automatically detected platform cuda.\n"
     ]
    },
    {
     "name": "stderr",
     "output_type": "stream",
     "text": [
      "2025-06-02 16:03:12,042\tINFO util.py:154 -- Missing packages: ['ipywidgets']. Run `pip install -U ipywidgets`, then restart the notebook server for rich notebook output.\n"
     ]
    }
   ],
   "source": [
    "import os, sys\n",
    "sys.path.append(\"/home/vkropoti/vllm\")\n",
    "\n",
    "from src.experiment import run_think_experiment\n",
    "import random\n",
    "import numpy as np"
   ]
  },
  {
   "cell_type": "code",
   "execution_count": 2,
   "id": "ff95fe4c-4743-4a91-abcf-94e139e1a6d4",
   "metadata": {},
   "outputs": [
    {
     "name": "stdout",
     "output_type": "stream",
     "text": [
      "[298, 266, 787, 846, 308, 691, 598, 81, 427, 964, 296, 414, 472, 161, 244, 38, 393, 915, 325, 630]\n",
      "model: seeklhy:OmniSQL-7B\n"
     ]
    }
   ],
   "source": [
    "n= 20\n",
    "arr_seeds = [random.randint(0,1000) for _ in range(n)]\n",
    "arr_versions = [x for x in range(n)]\n",
    "model = \"seeklhy:OmniSQL-7B\"\n",
    "print(arr_seeds)\n",
    "print(f\"model: {model}\")"
   ]
  },
  {
   "cell_type": "code",
   "execution_count": 3,
   "id": "a15e1546-972b-4bf9-accc-f7acdf4137e9",
   "metadata": {
    "scrolled": true
   },
   "outputs": [
    {
     "name": "stdout",
     "output_type": "stream",
     "text": [
      "Загружаем модель...\n"
     ]
    },
    {
     "name": "stderr",
     "output_type": "stream",
     "text": [
      "Loading safetensors checkpoint shards:   0% Completed | 0/1 [00:00<?, ?it/s]\n",
      "Loading safetensors checkpoint shards: 100% Completed | 1/1 [00:01<00:00,  1.76s/it]\n",
      "Loading safetensors checkpoint shards: 100% Completed | 1/1 [00:01<00:00,  1.76s/it]\n",
      "\u001b[1;36m(VllmWorker rank=0 pid=3124307)\u001b[0;0m \n"
     ]
    },
    {
     "name": "stdout",
     "output_type": "stream",
     "text": [
      "Модель успешно загружена\n",
      "model_config {'model': '/data/home/vkropoti/models/seeklhy:OmniSQL-7B', 'tensor_parallel_size': 2, 'max_model_len': 25000, 'max_new_tokens': 15000, 'temperature': 0.95, 'top_k': 50, 'top_p': 0.95, 'gpu_memory_utilization': 0.9, 'trust_remote_code': False, 'seed': 898}\n",
      "\n",
      "prompts_config {'path_dev_json': '/home/vkropoti/vllm/dev.json', 'path_sql_dbs': '/data/home/vkropoti/sql_data/dev_databases/', 'use_reasoning': True, 'paths_to_cot': None}\n",
      "\n",
      "save_config {'path_sql_save': '/data/home/vkropoti/sql_llm_answers/bird_dev_m_schema/sql_all_seeklhy:OmniSQL-7B-reasoning-v0', 'path_think_save': '/data/home/vkropoti/sql_llm_answers/bird_dev_m_schema/sql_think_seeklhy:OmniSQL-7B-reasoning-v0', 'path_sql_answers_save': '/data/home/vkropoti/sql_llm_answers/bird_dev_m_schema/sql_predict_seeklhy:OmniSQL-7B-reasoning-v0', 'path_to_save_scores': '/data/home/vkropoti/sql_llm_answers/bird_dev_m_schema/sql_results_seeklhy:OmniSQL-7B-reasoning-v0', 'path_to_save_executed': '/data/home/vkropoti/sql_llm_answers/bird_dev_m_schema/sql_executed_seeklhy:OmniSQL-7B-reasoning-v0'}\n",
      "\n",
      "Модель успешно загружена\n"
     ]
    },
    {
     "name": "stderr",
     "output_type": "stream",
     "text": [
      "100%|██████████| 1534/1534 [00:00<00:00, 541724.54it/s]\n"
     ]
    },
    {
     "name": "stdout",
     "output_type": "stream",
     "text": [
      "Пример промпта\n",
      "<|im_start|>system\n",
      "You are Qwen, created by Alibaba Cloud. You are a helpful assistant.<|im_end|>\n",
      "<|im_start|>user\n",
      "Task Overview:\n",
      "You are a data science expert. Below, you are provided with a database schema and a natural language question. Your task is to understand the schema and generate a valid SQL query to answer the question.\n",
      "\n",
      "Database Engine:\n",
      "SQLite\n",
      "\n",
      "Database Schema:\n",
      "CREATE TABLE frpm (\n",
      "    CDSCode text, -- example: ['01100170109835', '01100170112607']\n",
      "    `Academic Year` text, -- example: ['2014-2015']\n",
      "    `County Code` text, -- example: ['01', '02']\n",
      "    `District Code` integer, -- example: [10017, 31609]\n",
      "    `School Code` text, -- example: ['0109835', '0112607']\n",
      "    `County Name` text, -- example: ['Alameda', 'Alpine']\n",
      "    `District Name` text, -- example: ['Alameda County Office of Education', 'California School for the Blind (State S']\n",
      "    `School Name` text, -- example: ['FAME Public Charter', 'Envision Academy for Arts & Technology']\n",
      "    `District Type` text, -- example: ['County Office of Education (COE)', 'State Special Schools']\n",
      "    `School Type` text, -- example: ['K-12 Schools (Public)', 'High Schools (Public)']\n",
      "    `Educational Option Type` text, -- example: ['Traditional', 'Juvenile Court School']\n",
      "    `NSLP Provision Status` text, -- example: ['Breakfast Provision 2', 'Provision 2']\n",
      "    `Charter School (Y/N)` integer, -- example: [1, 0]\n",
      "    `Charter School Number` text, -- example: ['0728', '0811']\n",
      "    `Charter Funding Type` text, -- example: ['Directly funded', 'Locally funded']\n",
      "    IRC integer, -- example: [1, 0]\n",
      "    `Low Grade` text, -- example: ['K', '9']\n",
      "    `High Grade` text, -- example: ['12', '8']\n",
      "    `Enrollment (K-12)` real, -- example: [1087.0, 395.0]\n",
      "    `Free Meal Count (K-12)` real, -- example: [565.0, 186.0]\n",
      "    `Percent (%) Eligible Free (K-12)` real, -- example: [0.519779208831647, 0.470886075949367]\n",
      "    `FRPM Count (K-12)` real, -- example: [715.0, 186.0]\n",
      "    `Percent (%) Eligible FRPM (K-12)` real, -- example: [0.657773689052438, 0.470886075949367]\n",
      "    `Enrollment (Ages 5-17)` real, -- example: [1070.0, 376.0]\n",
      "    `Free Meal Count (Ages 5-17)` real, -- example: [553.0, 182.0]\n",
      "    `Percent (%) Eligible Free (Ages 5-17)` real, -- example: [0.516822429906542, 0.484042553191489]\n",
      "    `FRPM Count (Ages 5-17)` real, -- example: [702.0, 182.0]\n",
      "    `Percent (%) Eligible FRPM (Ages 5-17)` real, -- example: [0.65607476635514, 0.484042553191489]\n",
      "    `2013-14 CALPADS Fall 1 Certification Status` integer, -- example: [1]\n",
      "    PRIMARY KEY (CDSCode),\n",
      "    CONSTRAINT fk_frpm_cdscode FOREIGN KEY (CDSCode) REFERENCES schools (CDSCode)\n",
      ");\n",
      "\n",
      "CREATE TABLE satscores (\n",
      "    cds text, -- example: ['10101080000000', '10101080109991']\n",
      "    rtype text, -- example: ['D', 'S']\n",
      "    sname text, -- school name, example: ['FAME Public Charter', 'Envision Academy for Arts & Technology']\n",
      "    dname text, -- district name, example: ['Alameda County Office of Education', 'Alameda Unified']\n",
      "    cname text, -- county name, example: ['Alameda', 'Amador']\n",
      "    enroll12 integer, -- enrollment (1st-12nd grade), example: [398, 62]\n",
      "    NumTstTakr integer, -- Number of Test Takers, example: [88, 17]\n",
      "    AvgScrRead integer, -- average scores in Reading, example: [418, 503]\n",
      "    AvgScrMath integer, -- average scores in Math, example: [418, 546]\n",
      "    AvgScrWrite integer, -- average scores in writing, example: [417, 505]\n",
      "    NumGE1500 integer, -- Number of Test Takers Whose Total SAT Scores Are Greater or Equal to 1500, example: [14, 9]\n",
      "    PRIMARY KEY (cds),\n",
      "    CONSTRAINT fk_satscores_cds FOREIGN KEY (cds) REFERENCES schools (CDSCode)\n",
      ");\n",
      "\n",
      "CREATE TABLE schools (\n",
      "    CDSCode text, -- example: ['01100170000000', '01100170109835']\n",
      "    NCESDist text, -- National Center for Educational Statistics school district identification number, example: ['0691051', '0600002']\n",
      "    NCESSchool text, -- National Center for Educational Statistics school identification number, example: ['10546', '10947']\n",
      "    StatusType text, -- example: ['Active', 'Closed']\n",
      "    County text, -- example: ['Alameda', 'Alpine']\n",
      "    District text, -- example: ['Alameda County Office of Education', 'California School for the Blind (State S']\n",
      "    School text, -- example: ['FAME Public Charter', 'Envision Academy for Arts & Technology']\n",
      "    Street text, -- example: ['313 West Winton Avenue', '39899 Balentine Drive, Suite 335']\n",
      "    StreetAbr text, -- street address, example: ['313 West Winton Ave.', '39899 Balentine Dr., Ste. 335']\n",
      "    City text, -- example: ['Alameda', 'Hayward', 'Newark']\n",
      "    Zip text, -- example: ['94544-1136', '94560-5359']\n",
      "    State text, -- example: ['CA']\n",
      "    MailStreet text, -- example: ['313 West Winton Avenue', '39899 Balentine Drive, Suite 335']\n",
      "    MailStrAbr text, -- mailing street address, example: ['313 West Winton Ave.', '39899 Balentine Dr., Ste. 335']\n",
      "    MailCity text, -- mailing city, example: ['Alameda', 'Hayward', 'Newark']\n",
      "    MailZip text, -- mailing zip, example: ['94544-1136', '94560-5359']\n",
      "    MailState text, -- mailing state, example: ['CA']\n",
      "    Phone text, -- example: ['(510) 887-0152', '(510) 596-8901']\n",
      "    Ext text, -- extension, example: ['130', '1240']\n",
      "    Website text, -- example: ['www.acoe.org', 'www.envisionacademy.org/']\n",
      "    OpenDate date, -- example: ['2005-08-29', '2006-08-28']\n",
      "    ClosedDate date, -- example: ['2015-07-31', '2015-06-30']\n",
      "    Charter integer, -- example: [1, 0]\n",
      "    CharterNum text, -- example: ['0728', '0811']\n",
      "    FundingType text, -- example: ['Directly funded', 'Locally funded']\n",
      "    DOC text, -- District Ownership Code, example: ['00', '31']\n",
      "    DOCType text, -- The District Ownership Code Type, example: ['County Office of Education (COE)', 'State Special Schools']\n",
      "    SOC text, -- School Ownership Code, example: ['65', '66']\n",
      "    SOCType text, -- School Ownership Code Type, example: ['K-12 Schools (Public)', 'High Schools (Public)']\n",
      "    EdOpsCode text, -- Education Option Code, example: ['TRAD', 'JUV']\n",
      "    EdOpsName text, -- Educational Option Name, example: ['Traditional', 'Juvenile Court School']\n",
      "    EILCode text, -- Educational Instruction Level Code, example: ['ELEMHIGH', 'HS']\n",
      "    EILName text, -- Educational Instruction Level Name, example: ['Elementary-High Combination', 'High School']\n",
      "    GSoffered text, -- grade span offered, example: ['K-12', '9-12']\n",
      "    GSserved text, -- grade span served., example: ['K-12', '9-12']\n",
      "    Virtual text, -- example: ['P', 'N']\n",
      "    Magnet integer, -- example: [0, 1]\n",
      "    Latitude real, -- example: [37.658212, 37.521436]\n",
      "    Longitude real, -- example: [-122.09713, -121.99391]\n",
      "    AdmFName1 text, -- administrator's first name 1, example: ['L Karen', 'Laura']\n",
      "    AdmLName1 text, -- administrator's last name 1, example: ['Free', 'Monroe', 'Robell']\n",
      "    AdmEmail1 text, -- administrator's email address 1, example: ['lkmonroe@acoe.org', 'laura@envisionacademy.org']\n",
      "    AdmFName2 text, -- administrator's first name 2, example: ['Sau-Lim (Lance)', 'Jennifer']\n",
      "    AdmLName2 text, -- administrator's last name 2, example: ['Tsang', 'Koelling']\n",
      "    AdmEmail2 text, -- administrator's email address 2, example: ['stsang@unityhigh.org', 'jkoelling@efcps.net']\n",
      "    AdmFName3 text, -- administrator's first name 3, example: ['Drew', 'Irma']\n",
      "    AdmLName3 text, -- administrator's last name 3, example: ['Sarratore', 'Munoz']\n",
      "    AdmEmail3 text, -- administrator's email address 3, example: ['dsarratore@vincentacademy.org', 'gmunoz@piedmont.k12.ca.us']\n",
      "    LastUpdate date, -- example: ['2015-06-23', '2015-09-01']\n",
      "    PRIMARY KEY (CDSCode)\n",
      ");\n",
      "This schema describes the database's structure, including tables, columns, primary keys, foreign keys, and any relevant relationships or constraints.\n",
      "\n",
      "Question:\n",
      "Eligible free rate for K-12 = `Free Meal Count (K-12)` / `Enrollment (K-12)`\n",
      "What is the highest eligible free rate for K-12 students in the schools in Alameda County?\n",
      "\n",
      "Instructions:\n",
      "- Make sure you only output the information that is asked in the question. If the question asks for a specific column, make sure to only include that column in the SELECT clause, nothing more.\n",
      "- The generated query should return all of the information asked in the question without any missing or extra information.\n",
      "- Before generating the final SQL query, please think through the steps of how to write the query.\n",
      "\n",
      "Output Format:\n",
      "In your answer, please enclose the generated SQL query in a code block:\n",
      "```sql\n",
      "-- Your SQL query\n",
      "```\n",
      "\n",
      "Take a deep breath and think step by step to find the correct SQL query.\n",
      "<|im_end|>\n",
      "<|im_start|>assistant\n",
      "\n",
      "\n",
      "\n",
      "Максимальное количество токенов в промптах: 5092\n",
      "\n",
      "начинаем скорринг\n",
      "Загружаем чаты с данными...\n"
     ]
    },
    {
     "name": "stderr",
     "output_type": "stream",
     "text": [
      "100%|██████████| 1534/1534 [00:00<00:00, 1399013.34it/s]\n"
     ]
    },
    {
     "name": "stdout",
     "output_type": "stream",
     "text": [
      "Данные успешно загружены\n",
      "Начали генерацию SQL запросов\n"
     ]
    },
    {
     "name": "stderr",
     "output_type": "stream",
     "text": [
      "Processed prompts: 100%|██████████| 1534/1534 [02:09<00:00, 11.84it/s, est. speed input: 26426.28 toks/s, output: 7556.63 toks/s]"
     ]
    },
    {
     "name": "stdout",
     "output_type": "stream",
     "text": [
      "extract_think количество ошибок:  0\n",
      "extract_sql количество ошибок:  0\n",
      "Закончили генерацию SQL запросов\n",
      "Начали скорр полученных SQL запросов\n"
     ]
    },
    {
     "name": "stderr",
     "output_type": "stream",
     "text": [
      "\n"
     ]
    },
    {
     "name": "stdout",
     "output_type": "stream",
     "text": [
      "seeklhy:OmniSQL-7B DEV Финальный результат EX: 63.69\n",
      "seeklhy:OmniSQL-7B процент запросов, которые успешно выполнились DEV: 95.70%\n",
      "====================================================================================================\n",
      "\n",
      "\n",
      "Загружаем чаты с данными...\n"
     ]
    },
    {
     "name": "stderr",
     "output_type": "stream",
     "text": [
      "100%|██████████| 1534/1534 [00:00<00:00, 1089964.82it/s]\n"
     ]
    },
    {
     "name": "stdout",
     "output_type": "stream",
     "text": [
      "Данные успешно загружены\n",
      "Начали генерацию SQL запросов\n"
     ]
    },
    {
     "name": "stderr",
     "output_type": "stream",
     "text": [
      "Processed prompts: 100%|██████████| 1534/1534 [01:59<00:00, 12.80it/s, est. speed input: 28560.78 toks/s, output: 8178.29 toks/s]"
     ]
    },
    {
     "name": "stdout",
     "output_type": "stream",
     "text": [
      "extract_think количество ошибок:  0\n",
      "extract_sql количество ошибок:  0\n",
      "Закончили генерацию SQL запросов\n",
      "Начали скорр полученных SQL запросов\n"
     ]
    },
    {
     "name": "stderr",
     "output_type": "stream",
     "text": [
      "\n"
     ]
    },
    {
     "name": "stdout",
     "output_type": "stream",
     "text": [
      "seeklhy:OmniSQL-7B DEV Финальный результат EX: 62.13\n",
      "seeklhy:OmniSQL-7B процент запросов, которые успешно выполнились DEV: 95.24%\n",
      "====================================================================================================\n",
      "\n",
      "\n",
      "Загружаем чаты с данными...\n"
     ]
    },
    {
     "name": "stderr",
     "output_type": "stream",
     "text": [
      "100%|██████████| 1534/1534 [00:00<00:00, 1110469.85it/s]\n"
     ]
    },
    {
     "name": "stdout",
     "output_type": "stream",
     "text": [
      "Данные успешно загружены\n",
      "Начали генерацию SQL запросов\n"
     ]
    },
    {
     "name": "stderr",
     "output_type": "stream",
     "text": [
      "Processed prompts: 100%|██████████| 1534/1534 [01:58<00:00, 12.91it/s, est. speed input: 28802.10 toks/s, output: 8282.87 toks/s]"
     ]
    },
    {
     "name": "stdout",
     "output_type": "stream",
     "text": [
      "extract_think количество ошибок:  0\n",
      "extract_sql количество ошибок:  0\n",
      "Закончили генерацию SQL запросов\n",
      "Начали скорр полученных SQL запросов\n"
     ]
    },
    {
     "name": "stderr",
     "output_type": "stream",
     "text": [
      "\n"
     ]
    },
    {
     "name": "stdout",
     "output_type": "stream",
     "text": [
      "seeklhy:OmniSQL-7B DEV Финальный результат EX: 63.17\n",
      "seeklhy:OmniSQL-7B процент запросов, которые успешно выполнились DEV: 95.63%\n",
      "====================================================================================================\n",
      "\n",
      "\n",
      "Загружаем чаты с данными...\n"
     ]
    },
    {
     "name": "stderr",
     "output_type": "stream",
     "text": [
      "100%|██████████| 1534/1534 [00:00<00:00, 1164325.43it/s]\n"
     ]
    },
    {
     "name": "stdout",
     "output_type": "stream",
     "text": [
      "Данные успешно загружены\n",
      "Начали генерацию SQL запросов\n"
     ]
    },
    {
     "name": "stderr",
     "output_type": "stream",
     "text": [
      "Processed prompts: 100%|██████████| 1534/1534 [01:57<00:00, 13.03it/s, est. speed input: 29063.70 toks/s, output: 8302.36 toks/s]"
     ]
    },
    {
     "name": "stdout",
     "output_type": "stream",
     "text": [
      "extract_think количество ошибок:  0\n",
      "extract_sql количество ошибок:  0\n",
      "Закончили генерацию SQL запросов\n",
      "Начали скорр полученных SQL запросов\n"
     ]
    },
    {
     "name": "stderr",
     "output_type": "stream",
     "text": [
      "\n"
     ]
    },
    {
     "name": "stdout",
     "output_type": "stream",
     "text": [
      "seeklhy:OmniSQL-7B DEV Финальный результат EX: 63.82\n",
      "seeklhy:OmniSQL-7B процент запросов, которые успешно выполнились DEV: 96.61%\n",
      "====================================================================================================\n",
      "\n",
      "\n",
      "Загружаем чаты с данными...\n"
     ]
    },
    {
     "name": "stderr",
     "output_type": "stream",
     "text": [
      "100%|██████████| 1534/1534 [00:00<00:00, 1133955.29it/s]\n"
     ]
    },
    {
     "name": "stdout",
     "output_type": "stream",
     "text": [
      "Данные успешно загружены\n",
      "Начали генерацию SQL запросов\n"
     ]
    },
    {
     "name": "stderr",
     "output_type": "stream",
     "text": [
      "Processed prompts: 100%|██████████| 1534/1534 [01:57<00:00, 13.04it/s, est. speed input: 29094.82 toks/s, output: 8320.61 toks/s]"
     ]
    },
    {
     "name": "stdout",
     "output_type": "stream",
     "text": [
      "extract_think количество ошибок:  0\n",
      "extract_sql количество ошибок:  0\n",
      "Закончили генерацию SQL запросов\n",
      "Начали скорр полученных SQL запросов\n"
     ]
    },
    {
     "name": "stderr",
     "output_type": "stream",
     "text": [
      "\n"
     ]
    },
    {
     "name": "stdout",
     "output_type": "stream",
     "text": [
      "seeklhy:OmniSQL-7B DEV Финальный результат EX: 64.02\n",
      "seeklhy:OmniSQL-7B процент запросов, которые успешно выполнились DEV: 96.74%\n",
      "====================================================================================================\n",
      "\n",
      "\n",
      "Загружаем чаты с данными...\n"
     ]
    },
    {
     "name": "stderr",
     "output_type": "stream",
     "text": [
      "100%|██████████| 1534/1534 [00:00<00:00, 561975.92it/s]\n"
     ]
    },
    {
     "name": "stdout",
     "output_type": "stream",
     "text": [
      "Данные успешно загружены\n",
      "Начали генерацию SQL запросов\n"
     ]
    },
    {
     "name": "stderr",
     "output_type": "stream",
     "text": [
      "Processed prompts: 100%|██████████| 1534/1534 [01:59<00:00, 12.87it/s, est. speed input: 28703.47 toks/s, output: 8223.47 toks/s]"
     ]
    },
    {
     "name": "stdout",
     "output_type": "stream",
     "text": [
      "extract_think количество ошибок:  0\n",
      "extract_sql количество ошибок:  0\n",
      "Закончили генерацию SQL запросов\n",
      "Начали скорр полученных SQL запросов\n"
     ]
    },
    {
     "name": "stderr",
     "output_type": "stream",
     "text": [
      "\n"
     ]
    },
    {
     "name": "stdout",
     "output_type": "stream",
     "text": [
      "seeklhy:OmniSQL-7B DEV Финальный результат EX: 62.71\n",
      "seeklhy:OmniSQL-7B процент запросов, которые успешно выполнились DEV: 95.96%\n",
      "====================================================================================================\n",
      "\n",
      "\n",
      "Загружаем чаты с данными...\n"
     ]
    },
    {
     "name": "stderr",
     "output_type": "stream",
     "text": [
      "100%|██████████| 1534/1534 [00:00<00:00, 992451.39it/s]\n"
     ]
    },
    {
     "name": "stdout",
     "output_type": "stream",
     "text": [
      "Данные успешно загружены\n",
      "Начали генерацию SQL запросов\n"
     ]
    },
    {
     "name": "stderr",
     "output_type": "stream",
     "text": [
      "Processed prompts: 100%|██████████| 1534/1534 [02:00<00:00, 12.77it/s, est. speed input: 28495.92 toks/s, output: 8182.80 toks/s]"
     ]
    },
    {
     "name": "stdout",
     "output_type": "stream",
     "text": [
      "extract_think количество ошибок:  0\n",
      "extract_sql количество ошибок:  0\n",
      "Закончили генерацию SQL запросов\n",
      "Начали скорр полученных SQL запросов\n"
     ]
    },
    {
     "name": "stderr",
     "output_type": "stream",
     "text": [
      "\n"
     ]
    },
    {
     "name": "stdout",
     "output_type": "stream",
     "text": [
      "seeklhy:OmniSQL-7B DEV Финальный результат EX: 63.30\n",
      "seeklhy:OmniSQL-7B процент запросов, которые успешно выполнились DEV: 96.02%\n",
      "====================================================================================================\n",
      "\n",
      "\n",
      "Загружаем чаты с данными...\n"
     ]
    },
    {
     "name": "stderr",
     "output_type": "stream",
     "text": [
      "100%|██████████| 1534/1534 [00:00<00:00, 966946.55it/s]\n"
     ]
    },
    {
     "name": "stdout",
     "output_type": "stream",
     "text": [
      "Данные успешно загружены\n",
      "Начали генерацию SQL запросов\n"
     ]
    },
    {
     "name": "stderr",
     "output_type": "stream",
     "text": [
      "Processed prompts: 100%|██████████| 1534/1534 [01:59<00:00, 12.79it/s, est. speed input: 28537.90 toks/s, output: 8175.25 toks/s]"
     ]
    },
    {
     "name": "stdout",
     "output_type": "stream",
     "text": [
      "extract_think количество ошибок:  0\n",
      "extract_sql количество ошибок:  0\n",
      "Закончили генерацию SQL запросов\n",
      "Начали скорр полученных SQL запросов\n"
     ]
    },
    {
     "name": "stderr",
     "output_type": "stream",
     "text": [
      "\n"
     ]
    },
    {
     "name": "stdout",
     "output_type": "stream",
     "text": [
      "seeklhy:OmniSQL-7B DEV Финальный результат EX: 62.58\n",
      "seeklhy:OmniSQL-7B процент запросов, которые успешно выполнились DEV: 96.35%\n",
      "====================================================================================================\n",
      "\n",
      "\n",
      "Загружаем чаты с данными...\n"
     ]
    },
    {
     "name": "stderr",
     "output_type": "stream",
     "text": [
      "100%|██████████| 1534/1534 [00:00<00:00, 1187753.80it/s]\n"
     ]
    },
    {
     "name": "stdout",
     "output_type": "stream",
     "text": [
      "Данные успешно загружены\n",
      "Начали генерацию SQL запросов\n"
     ]
    },
    {
     "name": "stderr",
     "output_type": "stream",
     "text": [
      "Processed prompts: 100%|██████████| 1534/1534 [01:58<00:00, 12.93it/s, est. speed input: 28845.40 toks/s, output: 8272.12 toks/s]"
     ]
    },
    {
     "name": "stdout",
     "output_type": "stream",
     "text": [
      "extract_think количество ошибок:  0\n",
      "extract_sql количество ошибок:  0\n",
      "Закончили генерацию SQL запросов\n",
      "Начали скорр полученных SQL запросов\n"
     ]
    },
    {
     "name": "stderr",
     "output_type": "stream",
     "text": [
      "\n"
     ]
    },
    {
     "name": "stdout",
     "output_type": "stream",
     "text": [
      "seeklhy:OmniSQL-7B DEV Финальный результат EX: 62.65\n",
      "seeklhy:OmniSQL-7B процент запросов, которые успешно выполнились DEV: 94.65%\n",
      "====================================================================================================\n",
      "\n",
      "\n",
      "Загружаем чаты с данными...\n"
     ]
    },
    {
     "name": "stderr",
     "output_type": "stream",
     "text": [
      "100%|██████████| 1534/1534 [00:00<00:00, 1130567.97it/s]\n"
     ]
    },
    {
     "name": "stdout",
     "output_type": "stream",
     "text": [
      "Данные успешно загружены\n",
      "Начали генерацию SQL запросов\n"
     ]
    },
    {
     "name": "stderr",
     "output_type": "stream",
     "text": [
      "Processed prompts: 100%|██████████| 1534/1534 [01:58<00:00, 13.00it/s, est. speed input: 28999.58 toks/s, output: 8299.40 toks/s]"
     ]
    },
    {
     "name": "stdout",
     "output_type": "stream",
     "text": [
      "extract_think количество ошибок:  0\n",
      "extract_sql количество ошибок:  0\n",
      "Закончили генерацию SQL запросов\n",
      "Начали скорр полученных SQL запросов\n"
     ]
    },
    {
     "name": "stderr",
     "output_type": "stream",
     "text": [
      "\n"
     ]
    },
    {
     "name": "stdout",
     "output_type": "stream",
     "text": [
      "seeklhy:OmniSQL-7B DEV Финальный результат EX: 63.17\n",
      "seeklhy:OmniSQL-7B процент запросов, которые успешно выполнились DEV: 95.70%\n",
      "====================================================================================================\n",
      "\n",
      "\n",
      "Загружаем чаты с данными...\n"
     ]
    },
    {
     "name": "stderr",
     "output_type": "stream",
     "text": [
      "100%|██████████| 1534/1534 [00:00<00:00, 1123853.68it/s]\n"
     ]
    },
    {
     "name": "stdout",
     "output_type": "stream",
     "text": [
      "Данные успешно загружены\n",
      "Начали генерацию SQL запросов\n"
     ]
    },
    {
     "name": "stderr",
     "output_type": "stream",
     "text": [
      "Processed prompts: 100%|██████████| 1534/1534 [01:58<00:00, 12.99it/s, est. speed input: 28972.94 toks/s, output: 8303.91 toks/s]"
     ]
    },
    {
     "name": "stdout",
     "output_type": "stream",
     "text": [
      "extract_think количество ошибок:  0\n",
      "extract_sql количество ошибок:  0\n",
      "Закончили генерацию SQL запросов\n",
      "Начали скорр полученных SQL запросов\n"
     ]
    },
    {
     "name": "stderr",
     "output_type": "stream",
     "text": [
      "\n"
     ]
    },
    {
     "name": "stdout",
     "output_type": "stream",
     "text": [
      "seeklhy:OmniSQL-7B DEV Финальный результат EX: 63.82\n",
      "seeklhy:OmniSQL-7B процент запросов, которые успешно выполнились DEV: 95.57%\n",
      "====================================================================================================\n",
      "\n",
      "\n",
      "Загружаем чаты с данными...\n"
     ]
    },
    {
     "name": "stderr",
     "output_type": "stream",
     "text": [
      "100%|██████████| 1534/1534 [00:00<00:00, 1164957.87it/s]\n"
     ]
    },
    {
     "name": "stdout",
     "output_type": "stream",
     "text": [
      "Данные успешно загружены\n",
      "Начали генерацию SQL запросов\n"
     ]
    },
    {
     "name": "stderr",
     "output_type": "stream",
     "text": [
      "Processed prompts: 100%|██████████| 1534/1534 [02:02<00:00, 12.54it/s, est. speed input: 27968.64 toks/s, output: 8008.58 toks/s]"
     ]
    },
    {
     "name": "stdout",
     "output_type": "stream",
     "text": [
      "extract_think количество ошибок:  0\n",
      "extract_sql количество ошибок:  0\n",
      "Закончили генерацию SQL запросов\n",
      "Начали скорр полученных SQL запросов\n"
     ]
    },
    {
     "name": "stderr",
     "output_type": "stream",
     "text": [
      "\n"
     ]
    },
    {
     "name": "stdout",
     "output_type": "stream",
     "text": [
      "seeklhy:OmniSQL-7B DEV Финальный результат EX: 62.65\n",
      "seeklhy:OmniSQL-7B процент запросов, которые успешно выполнились DEV: 96.28%\n",
      "====================================================================================================\n",
      "\n",
      "\n",
      "Загружаем чаты с данными...\n"
     ]
    },
    {
     "name": "stderr",
     "output_type": "stream",
     "text": [
      "100%|██████████| 1534/1534 [00:00<00:00, 1110278.23it/s]\n"
     ]
    },
    {
     "name": "stdout",
     "output_type": "stream",
     "text": [
      "Данные успешно загружены\n",
      "Начали генерацию SQL запросов\n"
     ]
    },
    {
     "name": "stderr",
     "output_type": "stream",
     "text": [
      "Processed prompts: 100%|██████████| 1534/1534 [02:00<00:00, 12.71it/s, est. speed input: 28353.29 toks/s, output: 8123.10 toks/s]"
     ]
    },
    {
     "name": "stdout",
     "output_type": "stream",
     "text": [
      "extract_think количество ошибок:  0\n",
      "extract_sql количество ошибок:  0\n",
      "Закончили генерацию SQL запросов\n",
      "Начали скорр полученных SQL запросов\n"
     ]
    },
    {
     "name": "stderr",
     "output_type": "stream",
     "text": [
      "\n"
     ]
    },
    {
     "name": "stdout",
     "output_type": "stream",
     "text": [
      "seeklhy:OmniSQL-7B DEV Финальный результат EX: 62.91\n",
      "seeklhy:OmniSQL-7B процент запросов, которые успешно выполнились DEV: 96.02%\n",
      "====================================================================================================\n",
      "\n",
      "\n",
      "Загружаем чаты с данными...\n"
     ]
    },
    {
     "name": "stderr",
     "output_type": "stream",
     "text": [
      "100%|██████████| 1534/1534 [00:00<00:00, 1152231.79it/s]\n"
     ]
    },
    {
     "name": "stdout",
     "output_type": "stream",
     "text": [
      "Данные успешно загружены\n",
      "Начали генерацию SQL запросов\n"
     ]
    },
    {
     "name": "stderr",
     "output_type": "stream",
     "text": [
      "Processed prompts: 100%|██████████| 1534/1534 [01:58<00:00, 12.98it/s, est. speed input: 28967.68 toks/s, output: 8265.79 toks/s]"
     ]
    },
    {
     "name": "stdout",
     "output_type": "stream",
     "text": [
      "extract_think количество ошибок:  0\n",
      "extract_sql количество ошибок:  0\n",
      "Закончили генерацию SQL запросов\n",
      "Начали скорр полученных SQL запросов\n"
     ]
    },
    {
     "name": "stderr",
     "output_type": "stream",
     "text": [
      "\n"
     ]
    },
    {
     "name": "stdout",
     "output_type": "stream",
     "text": [
      "seeklhy:OmniSQL-7B DEV Финальный результат EX: 62.32\n",
      "seeklhy:OmniSQL-7B процент запросов, которые успешно выполнились DEV: 95.70%\n",
      "====================================================================================================\n",
      "\n",
      "\n",
      "Загружаем чаты с данными...\n"
     ]
    },
    {
     "name": "stderr",
     "output_type": "stream",
     "text": [
      "100%|██████████| 1534/1534 [00:00<00:00, 1012600.30it/s]\n"
     ]
    },
    {
     "name": "stdout",
     "output_type": "stream",
     "text": [
      "Данные успешно загружены\n",
      "Начали генерацию SQL запросов\n"
     ]
    },
    {
     "name": "stderr",
     "output_type": "stream",
     "text": [
      "Processed prompts: 100%|██████████| 1534/1534 [01:59<00:00, 12.84it/s, est. speed input: 28649.74 toks/s, output: 8201.42 toks/s]"
     ]
    },
    {
     "name": "stdout",
     "output_type": "stream",
     "text": [
      "extract_think количество ошибок:  0\n",
      "extract_sql количество ошибок:  0\n",
      "Закончили генерацию SQL запросов\n",
      "Начали скорр полученных SQL запросов\n"
     ]
    },
    {
     "name": "stderr",
     "output_type": "stream",
     "text": [
      "\n"
     ]
    },
    {
     "name": "stdout",
     "output_type": "stream",
     "text": [
      "seeklhy:OmniSQL-7B DEV Финальный результат EX: 63.89\n",
      "seeklhy:OmniSQL-7B процент запросов, которые успешно выполнились DEV: 95.83%\n",
      "====================================================================================================\n",
      "\n",
      "\n",
      "Загружаем чаты с данными...\n"
     ]
    },
    {
     "name": "stderr",
     "output_type": "stream",
     "text": [
      "100%|██████████| 1534/1534 [00:00<00:00, 1090149.50it/s]\n"
     ]
    },
    {
     "name": "stdout",
     "output_type": "stream",
     "text": [
      "Данные успешно загружены\n",
      "Начали генерацию SQL запросов\n"
     ]
    },
    {
     "name": "stderr",
     "output_type": "stream",
     "text": [
      "Processed prompts: 100%|██████████| 1534/1534 [01:59<00:00, 12.87it/s, est. speed input: 28717.60 toks/s, output: 8202.81 toks/s]"
     ]
    },
    {
     "name": "stdout",
     "output_type": "stream",
     "text": [
      "extract_think количество ошибок:  0\n",
      "extract_sql количество ошибок:  0\n",
      "Закончили генерацию SQL запросов\n",
      "Начали скорр полученных SQL запросов\n"
     ]
    },
    {
     "name": "stderr",
     "output_type": "stream",
     "text": [
      "\n"
     ]
    },
    {
     "name": "stdout",
     "output_type": "stream",
     "text": [
      "seeklhy:OmniSQL-7B DEV Финальный результат EX: 62.84\n",
      "seeklhy:OmniSQL-7B процент запросов, которые успешно выполнились DEV: 96.09%\n",
      "====================================================================================================\n",
      "\n",
      "\n",
      "Загружаем чаты с данными...\n"
     ]
    },
    {
     "name": "stderr",
     "output_type": "stream",
     "text": [
      "100%|██████████| 1534/1534 [00:00<00:00, 1060326.69it/s]\n"
     ]
    },
    {
     "name": "stdout",
     "output_type": "stream",
     "text": [
      "Данные успешно загружены\n",
      "Начали генерацию SQL запросов\n"
     ]
    },
    {
     "name": "stderr",
     "output_type": "stream",
     "text": [
      "Processed prompts: 100%|██████████| 1534/1534 [01:59<00:00, 12.86it/s, est. speed input: 28701.03 toks/s, output: 8230.14 toks/s]"
     ]
    },
    {
     "name": "stdout",
     "output_type": "stream",
     "text": [
      "extract_think количество ошибок:  0\n",
      "extract_sql количество ошибок:  0\n",
      "Закончили генерацию SQL запросов\n",
      "Начали скорр полученных SQL запросов\n"
     ]
    },
    {
     "name": "stderr",
     "output_type": "stream",
     "text": [
      "\n"
     ]
    },
    {
     "name": "stdout",
     "output_type": "stream",
     "text": [
      "seeklhy:OmniSQL-7B DEV Финальный результат EX: 63.49\n",
      "seeklhy:OmniSQL-7B процент запросов, которые успешно выполнились DEV: 96.54%\n",
      "====================================================================================================\n",
      "\n",
      "\n",
      "Загружаем чаты с данными...\n"
     ]
    },
    {
     "name": "stderr",
     "output_type": "stream",
     "text": [
      "100%|██████████| 1534/1534 [00:00<00:00, 987576.72it/s]\n"
     ]
    },
    {
     "name": "stdout",
     "output_type": "stream",
     "text": [
      "Данные успешно загружены\n",
      "Начали генерацию SQL запросов\n"
     ]
    },
    {
     "name": "stderr",
     "output_type": "stream",
     "text": [
      "Processed prompts: 100%|██████████| 1534/1534 [01:59<00:00, 12.81it/s, est. speed input: 28572.97 toks/s, output: 8180.53 toks/s]"
     ]
    },
    {
     "name": "stdout",
     "output_type": "stream",
     "text": [
      "extract_think количество ошибок:  0\n",
      "extract_sql количество ошибок:  0\n",
      "Закончили генерацию SQL запросов\n",
      "Начали скорр полученных SQL запросов\n"
     ]
    },
    {
     "name": "stderr",
     "output_type": "stream",
     "text": [
      "\n"
     ]
    },
    {
     "name": "stdout",
     "output_type": "stream",
     "text": [
      "seeklhy:OmniSQL-7B DEV Финальный результат EX: 64.02\n",
      "seeklhy:OmniSQL-7B процент запросов, которые успешно выполнились DEV: 95.57%\n",
      "====================================================================================================\n",
      "\n",
      "\n",
      "Загружаем чаты с данными...\n"
     ]
    },
    {
     "name": "stderr",
     "output_type": "stream",
     "text": [
      "100%|██████████| 1534/1534 [00:00<00:00, 1056843.35it/s]\n"
     ]
    },
    {
     "name": "stdout",
     "output_type": "stream",
     "text": [
      "Данные успешно загружены\n",
      "Начали генерацию SQL запросов\n"
     ]
    },
    {
     "name": "stderr",
     "output_type": "stream",
     "text": [
      "Processed prompts: 100%|██████████| 1534/1534 [02:03<00:00, 12.46it/s, est. speed input: 27807.90 toks/s, output: 7947.63 toks/s]"
     ]
    },
    {
     "name": "stdout",
     "output_type": "stream",
     "text": [
      "extract_think количество ошибок:  0\n",
      "extract_sql количество ошибок:  0\n",
      "Закончили генерацию SQL запросов\n",
      "Начали скорр полученных SQL запросов\n"
     ]
    },
    {
     "name": "stderr",
     "output_type": "stream",
     "text": [
      "\n"
     ]
    },
    {
     "name": "stdout",
     "output_type": "stream",
     "text": [
      "seeklhy:OmniSQL-7B DEV Финальный результат EX: 63.36\n",
      "seeklhy:OmniSQL-7B процент запросов, которые успешно выполнились DEV: 95.76%\n",
      "====================================================================================================\n",
      "\n",
      "\n",
      "Загружаем чаты с данными...\n"
     ]
    },
    {
     "name": "stderr",
     "output_type": "stream",
     "text": [
      "100%|██████████| 1534/1534 [00:00<00:00, 1070737.62it/s]\n"
     ]
    },
    {
     "name": "stdout",
     "output_type": "stream",
     "text": [
      "Данные успешно загружены\n",
      "Начали генерацию SQL запросов\n"
     ]
    },
    {
     "name": "stderr",
     "output_type": "stream",
     "text": [
      "Processed prompts: 100%|██████████| 1534/1534 [02:00<00:00, 12.76it/s, est. speed input: 28467.29 toks/s, output: 8178.82 toks/s]"
     ]
    },
    {
     "name": "stdout",
     "output_type": "stream",
     "text": [
      "extract_think количество ошибок:  0\n",
      "extract_sql количество ошибок:  0\n",
      "Закончили генерацию SQL запросов\n",
      "Начали скорр полученных SQL запросов\n"
     ]
    },
    {
     "name": "stderr",
     "output_type": "stream",
     "text": [
      "\n"
     ]
    },
    {
     "name": "stdout",
     "output_type": "stream",
     "text": [
      "seeklhy:OmniSQL-7B DEV Финальный результат EX: 63.23\n",
      "seeklhy:OmniSQL-7B процент запросов, которые успешно выполнились DEV: 95.89%\n",
      "====================================================================================================\n",
      "\n",
      "\n"
     ]
    }
   ],
   "source": [
    "run_think_experiment(model,arr_seeds,arr_versions)"
   ]
  },
  {
   "cell_type": "code",
   "execution_count": 3,
   "id": "3389289b-f43f-4840-88af-e4856b34211d",
   "metadata": {
    "scrolled": true
   },
   "outputs": [
    {
     "name": "stdout",
     "output_type": "stream",
     "text": [
      "Загружаем модель...\n"
     ]
    },
    {
     "name": "stderr",
     "output_type": "stream",
     "text": [
      "Loading safetensors checkpoint shards:   0% Completed | 0/1 [00:00<?, ?it/s]\n",
      "Loading safetensors checkpoint shards: 100% Completed | 1/1 [00:05<00:00,  5.41s/it]\n",
      "Loading safetensors checkpoint shards: 100% Completed | 1/1 [00:05<00:00,  5.41s/it]\n",
      "\u001b[1;36m(VllmWorker rank=0 pid=2874287)\u001b[0;0m \n"
     ]
    },
    {
     "name": "stdout",
     "output_type": "stream",
     "text": [
      "Модель успешно загружена\n",
      "model_config {'model': '/data/home/vkropoti/models/seeklhy:OmniSQL-7B', 'tensor_parallel_size': 2, 'max_model_len': 25000, 'max_new_tokens': 15000, 'temperature': 0.95, 'top_k': 50, 'top_p': 0.95, 'gpu_memory_utilization': 0.9, 'trust_remote_code': False, 'seed': 827}\n",
      "\n",
      "prompts_config {'path_dev_json': '/home/vkropoti/vllm/dev.json', 'path_sql_dbs': '/data/home/vkropoti/sql_data/dev_databases/', 'use_reasoning': True, 'paths_to_cot': None}\n",
      "\n",
      "save_config {'path_sql_save': '/data/home/vkropoti/sql_llm_answers/bird_dev_m_schema/sql_all_seeklhy:OmniSQL-7B-reasoning-v0', 'path_think_save': '/data/home/vkropoti/sql_llm_answers/bird_dev_m_schema/sql_think_seeklhy:OmniSQL-7B-reasoning-v0', 'path_sql_answers_save': '/data/home/vkropoti/sql_llm_answers/bird_dev_m_schema/sql_predict_seeklhy:OmniSQL-7B-reasoning-v0', 'path_to_save_scores': '/data/home/vkropoti/sql_llm_answers/bird_dev_m_schema/sql_results_seeklhy:OmniSQL-7B-reasoning-v0', 'path_to_save_executed': '/data/home/vkropoti/sql_llm_answers/bird_dev_m_schema/sql_executed_seeklhy:OmniSQL-7B-reasoning-v0'}\n",
      "\n",
      "Модель успешно загружена\n",
      "Process: 1/1\n"
     ]
    },
    {
     "name": "stderr",
     "output_type": "stream",
     "text": [
      "100%|██████████| 1534/1534 [00:01<00:00, 809.25it/s]\n",
      "100%|██████████| 1534/1534 [00:00<00:00, 1234470.90it/s]\n"
     ]
    },
    {
     "name": "stdout",
     "output_type": "stream",
     "text": [
      "Пример промпта\n",
      "<|im_start|>system\n",
      "You are Qwen, created by Alibaba Cloud. You are a helpful assistant.<|im_end|>\n",
      "<|im_start|>user\n",
      "Task Overview:\n",
      "You are a data science expert. Below, you are provided with a database schema and a natural language question. Your task is to understand the schema and generate a valid SQL query to answer the question.\n",
      "\n",
      "Database Engine:\n",
      "SQLite\n",
      "\n",
      "Database Schema:\n",
      "CREATE TABLE frpm (\n",
      "    CDSCode text, -- example: ['01100170109835', '01100170112607']\n",
      "    `Academic Year` text, -- example: ['2014-2015']\n",
      "    `County Code` text, -- example: ['01', '02']\n",
      "    `District Code` integer, -- example: [10017, 31609]\n",
      "    `School Code` text, -- example: ['0109835', '0112607']\n",
      "    `County Name` text, -- example: ['Alameda', 'Alpine']\n",
      "    `District Name` text, -- example: ['Alameda County Office of Education', 'California School for the Blind (State S']\n",
      "    `School Name` text, -- example: ['FAME Public Charter', 'Envision Academy for Arts & Technology']\n",
      "    `District Type` text, -- example: ['County Office of Education (COE)', 'State Special Schools']\n",
      "    `School Type` text, -- example: ['K-12 Schools (Public)', 'High Schools (Public)']\n",
      "    `Educational Option Type` text, -- example: ['Traditional', 'Juvenile Court School']\n",
      "    `NSLP Provision Status` text, -- example: ['Breakfast Provision 2', 'Provision 2']\n",
      "    `Charter School (Y/N)` integer, -- example: [1, 0]\n",
      "    `Charter School Number` text, -- example: ['0728', '0811']\n",
      "    `Charter Funding Type` text, -- example: ['Directly funded', 'Locally funded']\n",
      "    IRC integer, -- example: [1, 0]\n",
      "    `Low Grade` text, -- example: ['K', '9']\n",
      "    `High Grade` text, -- example: ['12', '8']\n",
      "    `Enrollment (K-12)` real, -- example: [1087.0, 395.0]\n",
      "    `Free Meal Count (K-12)` real, -- example: [565.0, 186.0]\n",
      "    `Percent (%) Eligible Free (K-12)` real, -- example: [0.519779208831647, 0.470886075949367]\n",
      "    `FRPM Count (K-12)` real, -- example: [715.0, 186.0]\n",
      "    `Percent (%) Eligible FRPM (K-12)` real, -- example: [0.657773689052438, 0.470886075949367]\n",
      "    `Enrollment (Ages 5-17)` real, -- example: [1070.0, 376.0]\n",
      "    `Free Meal Count (Ages 5-17)` real, -- example: [553.0, 182.0]\n",
      "    `Percent (%) Eligible Free (Ages 5-17)` real, -- example: [0.516822429906542, 0.484042553191489]\n",
      "    `FRPM Count (Ages 5-17)` real, -- example: [702.0, 182.0]\n",
      "    `Percent (%) Eligible FRPM (Ages 5-17)` real, -- example: [0.65607476635514, 0.484042553191489]\n",
      "    `2013-14 CALPADS Fall 1 Certification Status` integer, -- example: [1]\n",
      "    PRIMARY KEY (CDSCode),\n",
      "    CONSTRAINT fk_frpm_cdscode FOREIGN KEY (CDSCode) REFERENCES schools (CDSCode)\n",
      ");\n",
      "\n",
      "CREATE TABLE satscores (\n",
      "    cds text, -- example: ['10101080000000', '10101080109991']\n",
      "    rtype text, -- example: ['D', 'S']\n",
      "    sname text, -- school name, example: ['FAME Public Charter', 'Envision Academy for Arts & Technology']\n",
      "    dname text, -- district name, example: ['Alameda County Office of Education', 'Alameda Unified']\n",
      "    cname text, -- county name, example: ['Alameda', 'Amador']\n",
      "    enroll12 integer, -- enrollment (1st-12nd grade), example: [398, 62]\n",
      "    NumTstTakr integer, -- Number of Test Takers, example: [88, 17]\n",
      "    AvgScrRead integer, -- average scores in Reading, example: [418, 503]\n",
      "    AvgScrMath integer, -- average scores in Math, example: [418, 546]\n",
      "    AvgScrWrite integer, -- average scores in writing, example: [417, 505]\n",
      "    NumGE1500 integer, -- Number of Test Takers Whose Total SAT Scores Are Greater or Equal to 1500, example: [14, 9]\n",
      "    PRIMARY KEY (cds),\n",
      "    CONSTRAINT fk_satscores_cds FOREIGN KEY (cds) REFERENCES schools (CDSCode)\n",
      ");\n",
      "\n",
      "CREATE TABLE schools (\n",
      "    CDSCode text, -- example: ['01100170000000', '01100170109835']\n",
      "    NCESDist text, -- National Center for Educational Statistics school district identification number, example: ['0691051', '0600002']\n",
      "    NCESSchool text, -- National Center for Educational Statistics school identification number, example: ['10546', '10947']\n",
      "    StatusType text, -- example: ['Active', 'Closed']\n",
      "    County text, -- example: ['Alameda', 'Alpine']\n",
      "    District text, -- example: ['Alameda County Office of Education', 'California School for the Blind (State S']\n",
      "    School text, -- example: ['FAME Public Charter', 'Envision Academy for Arts & Technology']\n",
      "    Street text, -- example: ['313 West Winton Avenue', '39899 Balentine Drive, Suite 335']\n",
      "    StreetAbr text, -- street address, example: ['313 West Winton Ave.', '39899 Balentine Dr., Ste. 335']\n",
      "    City text, -- example: ['Hayward', 'Newark']\n",
      "    Zip text, -- example: ['94544-1136', '94560-5359']\n",
      "    State text, -- example: ['CA']\n",
      "    MailStreet text, -- example: ['313 West Winton Avenue', '39899 Balentine Drive, Suite 335']\n",
      "    MailStrAbr text, -- mailing street address, example: ['313 West Winton Ave.', '39899 Balentine Dr., Ste. 335']\n",
      "    MailCity text, -- mailing city, example: ['Hayward', 'Newark']\n",
      "    MailZip text, -- mailing zip, example: ['94544-1136', '94560-5359']\n",
      "    MailState text, -- mailing state, example: ['CA']\n",
      "    Phone text, -- example: ['(510) 887-0152', '(510) 596-8901']\n",
      "    Ext text, -- extension, example: ['130', '1240']\n",
      "    Website text, -- example: ['www.acoe.org', 'www.envisionacademy.org/']\n",
      "    OpenDate date, -- example: ['2005-08-29', '2006-08-28']\n",
      "    ClosedDate date, -- example: ['2015-07-31', '2015-06-30']\n",
      "    Charter integer, -- example: [1, 0]\n",
      "    CharterNum text, -- example: ['0728', '0811']\n",
      "    FundingType text, -- example: ['Directly funded', 'Locally funded']\n",
      "    DOC text, -- District Ownership Code, example: ['00', '31']\n",
      "    DOCType text, -- The District Ownership Code Type, example: ['County Office of Education (COE)', 'State Special Schools']\n",
      "    SOC text, -- School Ownership Code, example: ['65', '66']\n",
      "    SOCType text, -- School Ownership Code Type, example: ['K-12 Schools (Public)', 'High Schools (Public)']\n",
      "    EdOpsCode text, -- Education Option Code, example: ['TRAD', 'JUV']\n",
      "    EdOpsName text, -- Educational Option Name, example: ['Traditional', 'Juvenile Court School']\n",
      "    EILCode text, -- Educational Instruction Level Code, example: ['ELEMHIGH', 'HS']\n",
      "    EILName text, -- Educational Instruction Level Name, example: ['Elementary-High Combination', 'High School']\n",
      "    GSoffered text, -- grade span offered, example: ['K-12', '9-12']\n",
      "    GSserved text, -- grade span served., example: ['K-12', '9-12']\n",
      "    Virtual text, -- example: ['P', 'N']\n",
      "    Magnet integer, -- example: [0, 1]\n",
      "    Latitude real, -- example: [37.658212, 37.521436]\n",
      "    Longitude real, -- example: [-122.09713, -121.99391]\n",
      "    AdmFName1 text, -- administrator's first name 1, example: ['L Karen', 'Laura']\n",
      "    AdmLName1 text, -- administrator's last name 1, example: ['Monroe', 'Robell']\n",
      "    AdmEmail1 text, -- administrator's email address 1, example: ['lkmonroe@acoe.org', 'laura@envisionacademy.org']\n",
      "    AdmFName2 text, -- administrator's first name 2, example: ['Sau-Lim (Lance)', 'Jennifer']\n",
      "    AdmLName2 text, -- administrator's last name 2, example: ['Tsang', 'Koelling']\n",
      "    AdmEmail2 text, -- administrator's email address 2, example: ['stsang@unityhigh.org', 'jkoelling@efcps.net']\n",
      "    AdmFName3 text, -- administrator's first name 3, example: ['Drew', 'Irma']\n",
      "    AdmLName3 text, -- administrator's last name 3, example: ['Sarratore', 'Munoz']\n",
      "    AdmEmail3 text, -- administrator's email address 3, example: ['dsarratore@vincentacademy.org', 'gmunoz@piedmont.k12.ca.us']\n",
      "    LastUpdate date, -- example: ['2015-06-23', '2015-09-01']\n",
      "    PRIMARY KEY (CDSCode)\n",
      ");\n",
      "This schema describes the database's structure, including tables, columns, primary keys, foreign keys, and any relevant relationships or constraints.\n",
      "\n",
      "Question:\n",
      "Eligible free rate for K-12 = `Free Meal Count (K-12)` / `Enrollment (K-12)`\n",
      "What is the highest eligible free rate for K-12 students in the schools in Alameda County?\n",
      "\n",
      "Instructions:\n",
      "- Make sure you only output the information that is asked in the question. If the question asks for a specific column, make sure to only include that column in the SELECT clause, nothing more.\n",
      "- The generated query should return all of the information asked in the question without any missing or extra information.\n",
      "- Before generating the final SQL query, please think through the steps of how to write the query.\n",
      "\n",
      "Output Format:\n",
      "In your answer, please enclose the generated SQL query in a code block:\n",
      "```sql\n",
      "-- Your SQL query\n",
      "```\n",
      "\n",
      "Take a deep breath and think step by step to find the correct SQL query.\n",
      "<|im_end|>\n",
      "<|im_start|>assistant\n",
      "\n",
      "\n",
      "\n",
      "Максимальное количество токенов в промптах: 5029\n",
      "\n",
      "начинаем скорринг\n",
      "Загружаем чаты с данными...\n",
      "Process: 1/1\n"
     ]
    },
    {
     "name": "stderr",
     "output_type": "stream",
     "text": [
      "100%|██████████| 1534/1534 [00:01<00:00, 812.92it/s] \n",
      "100%|██████████| 1534/1534 [00:00<00:00, 1277106.46it/s]\n"
     ]
    },
    {
     "name": "stdout",
     "output_type": "stream",
     "text": [
      "Данные успешно загружены\n",
      "Начали генерацию SQL запросов\n"
     ]
    },
    {
     "name": "stderr",
     "output_type": "stream",
     "text": [
      "Processed prompts: 100%|██████████| 1534/1534 [01:44<00:00, 14.68it/s, est. speed input: 32618.73 toks/s, output: 9282.84 toks/s]"
     ]
    },
    {
     "name": "stdout",
     "output_type": "stream",
     "text": [
      "extract_think количество ошибок:  0\n",
      "extract_sql количество ошибок:  0\n",
      "Закончили генерацию SQL запросов\n",
      "Начали скорр полученных SQL запросов\n"
     ]
    },
    {
     "name": "stderr",
     "output_type": "stream",
     "text": [
      "\n"
     ]
    },
    {
     "name": "stdout",
     "output_type": "stream",
     "text": [
      "seeklhy:OmniSQL-7B DEV Финальный результат EX: 61.99\n",
      "seeklhy:OmniSQL-7B процент запросов, которые успешно выполнились DEV: 95.57%\n",
      "====================================================================================================\n",
      "\n",
      "\n",
      "Загружаем чаты с данными...\n",
      "Process: 1/1\n"
     ]
    },
    {
     "name": "stderr",
     "output_type": "stream",
     "text": [
      "100%|██████████| 1534/1534 [00:01<00:00, 802.94it/s]\n",
      "100%|██████████| 1534/1534 [00:00<00:00, 798369.81it/s]\n"
     ]
    },
    {
     "name": "stdout",
     "output_type": "stream",
     "text": [
      "Данные успешно загружены\n",
      "Начали генерацию SQL запросов\n"
     ]
    },
    {
     "name": "stderr",
     "output_type": "stream",
     "text": [
      "Processed prompts: 100%|██████████| 1534/1534 [01:37<00:00, 15.73it/s, est. speed input: 34937.18 toks/s, output: 9810.57 toks/s]"
     ]
    },
    {
     "name": "stdout",
     "output_type": "stream",
     "text": [
      "extract_think количество ошибок:  0\n",
      "extract_sql количество ошибок:  0\n",
      "Закончили генерацию SQL запросов\n",
      "Начали скорр полученных SQL запросов\n"
     ]
    },
    {
     "name": "stderr",
     "output_type": "stream",
     "text": [
      "\n"
     ]
    },
    {
     "name": "stdout",
     "output_type": "stream",
     "text": [
      "seeklhy:OmniSQL-7B DEV Финальный результат EX: 60.82\n",
      "seeklhy:OmniSQL-7B процент запросов, которые успешно выполнились DEV: 95.50%\n",
      "====================================================================================================\n",
      "\n",
      "\n",
      "Загружаем чаты с данными...\n",
      "Process: 1/1\n"
     ]
    },
    {
     "name": "stderr",
     "output_type": "stream",
     "text": [
      "100%|██████████| 1534/1534 [00:01<00:00, 802.47it/s]\n",
      "100%|██████████| 1534/1534 [00:00<00:00, 1171746.92it/s]\n"
     ]
    },
    {
     "name": "stdout",
     "output_type": "stream",
     "text": [
      "Данные успешно загружены\n",
      "Начали генерацию SQL запросов\n"
     ]
    },
    {
     "name": "stderr",
     "output_type": "stream",
     "text": [
      "Processed prompts: 100%|██████████| 1534/1534 [01:38<00:00, 15.59it/s, est. speed input: 34625.04 toks/s, output: 9767.65 toks/s]"
     ]
    },
    {
     "name": "stdout",
     "output_type": "stream",
     "text": [
      "extract_think количество ошибок:  0\n",
      "extract_sql количество ошибок:  0\n",
      "Закончили генерацию SQL запросов\n",
      "Начали скорр полученных SQL запросов\n"
     ]
    },
    {
     "name": "stderr",
     "output_type": "stream",
     "text": [
      "\n"
     ]
    },
    {
     "name": "stdout",
     "output_type": "stream",
     "text": [
      "seeklhy:OmniSQL-7B DEV Финальный результат EX: 61.28\n",
      "seeklhy:OmniSQL-7B процент запросов, которые успешно выполнились DEV: 95.63%\n",
      "====================================================================================================\n",
      "\n",
      "\n",
      "Загружаем чаты с данными...\n",
      "Process: 1/1\n"
     ]
    },
    {
     "name": "stderr",
     "output_type": "stream",
     "text": [
      "100%|██████████| 1534/1534 [00:01<00:00, 802.97it/s] \n",
      "100%|██████████| 1534/1534 [00:00<00:00, 922578.48it/s]\n"
     ]
    },
    {
     "name": "stdout",
     "output_type": "stream",
     "text": [
      "Данные успешно загружены\n",
      "Начали генерацию SQL запросов\n"
     ]
    },
    {
     "name": "stderr",
     "output_type": "stream",
     "text": [
      "Processed prompts: 100%|██████████| 1534/1534 [01:40<00:00, 15.28it/s, est. speed input: 33937.46 toks/s, output: 9833.21 toks/s]"
     ]
    },
    {
     "name": "stdout",
     "output_type": "stream",
     "text": [
      "extract_think количество ошибок:  0\n",
      "extract_sql количество ошибок:  0\n",
      "Закончили генерацию SQL запросов\n",
      "Начали скорр полученных SQL запросов\n"
     ]
    },
    {
     "name": "stderr",
     "output_type": "stream",
     "text": [
      "\n"
     ]
    },
    {
     "name": "stdout",
     "output_type": "stream",
     "text": [
      "seeklhy:OmniSQL-7B DEV Финальный результат EX: 60.69\n",
      "seeklhy:OmniSQL-7B процент запросов, которые успешно выполнились DEV: 95.18%\n",
      "====================================================================================================\n",
      "\n",
      "\n",
      "Загружаем чаты с данными...\n",
      "Process: 1/1\n"
     ]
    },
    {
     "name": "stderr",
     "output_type": "stream",
     "text": [
      "100%|██████████| 1534/1534 [00:01<00:00, 814.82it/s]\n",
      "100%|██████████| 1534/1534 [00:00<00:00, 963615.75it/s]\n"
     ]
    },
    {
     "name": "stdout",
     "output_type": "stream",
     "text": [
      "Данные успешно загружены\n",
      "Начали генерацию SQL запросов\n"
     ]
    },
    {
     "name": "stderr",
     "output_type": "stream",
     "text": [
      "Processed prompts: 100%|██████████| 1534/1534 [01:38<00:00, 15.55it/s, est. speed input: 34537.31 toks/s, output: 9668.01 toks/s]"
     ]
    },
    {
     "name": "stdout",
     "output_type": "stream",
     "text": [
      "extract_think количество ошибок:  0\n",
      "extract_sql количество ошибок:  0\n",
      "Закончили генерацию SQL запросов\n",
      "Начали скорр полученных SQL запросов\n"
     ]
    },
    {
     "name": "stderr",
     "output_type": "stream",
     "text": [
      "\n"
     ]
    },
    {
     "name": "stdout",
     "output_type": "stream",
     "text": [
      "seeklhy:OmniSQL-7B DEV Финальный результат EX: 61.80\n",
      "seeklhy:OmniSQL-7B процент запросов, которые успешно выполнились DEV: 95.05%\n",
      "====================================================================================================\n",
      "\n",
      "\n",
      "Загружаем чаты с данными...\n",
      "Process: 1/1\n"
     ]
    },
    {
     "name": "stderr",
     "output_type": "stream",
     "text": [
      "100%|██████████| 1534/1534 [00:01<00:00, 795.79it/s] \n",
      "100%|██████████| 1534/1534 [00:00<00:00, 634648.09it/s]\n"
     ]
    },
    {
     "name": "stdout",
     "output_type": "stream",
     "text": [
      "Данные успешно загружены\n",
      "Начали генерацию SQL запросов\n"
     ]
    },
    {
     "name": "stderr",
     "output_type": "stream",
     "text": [
      "Processed prompts: 100%|██████████| 1534/1534 [01:45<00:00, 14.59it/s, est. speed input: 32414.49 toks/s, output: 9488.80 toks/s]"
     ]
    },
    {
     "name": "stdout",
     "output_type": "stream",
     "text": [
      "extract_think количество ошибок:  0\n",
      "extract_sql количество ошибок:  0\n",
      "Закончили генерацию SQL запросов\n",
      "Начали скорр полученных SQL запросов\n"
     ]
    },
    {
     "name": "stderr",
     "output_type": "stream",
     "text": [
      "\n"
     ]
    },
    {
     "name": "stdout",
     "output_type": "stream",
     "text": [
      "seeklhy:OmniSQL-7B DEV Финальный результат EX: 60.89\n",
      "seeklhy:OmniSQL-7B процент запросов, которые успешно выполнились DEV: 96.02%\n",
      "====================================================================================================\n",
      "\n",
      "\n",
      "Загружаем чаты с данными...\n",
      "Process: 1/1\n"
     ]
    },
    {
     "name": "stderr",
     "output_type": "stream",
     "text": [
      "100%|██████████| 1534/1534 [00:01<00:00, 820.77it/s]\n",
      "100%|██████████| 1534/1534 [00:00<00:00, 973383.11it/s]\n"
     ]
    },
    {
     "name": "stdout",
     "output_type": "stream",
     "text": [
      "Данные успешно загружены\n",
      "Начали генерацию SQL запросов\n"
     ]
    },
    {
     "name": "stderr",
     "output_type": "stream",
     "text": [
      "Processed prompts: 100%|██████████| 1534/1534 [01:43<00:00, 14.84it/s, est. speed input: 32969.55 toks/s, output: 9668.55 toks/s]"
     ]
    },
    {
     "name": "stdout",
     "output_type": "stream",
     "text": [
      "extract_think количество ошибок:  0\n",
      "extract_sql количество ошибок:  0\n",
      "Закончили генерацию SQL запросов\n",
      "Начали скорр полученных SQL запросов\n"
     ]
    },
    {
     "name": "stderr",
     "output_type": "stream",
     "text": [
      "\n"
     ]
    },
    {
     "name": "stdout",
     "output_type": "stream",
     "text": [
      "seeklhy:OmniSQL-7B DEV Финальный результат EX: 60.95\n",
      "seeklhy:OmniSQL-7B процент запросов, которые успешно выполнились DEV: 95.63%\n",
      "====================================================================================================\n",
      "\n",
      "\n",
      "Загружаем чаты с данными...\n",
      "Process: 1/1\n"
     ]
    },
    {
     "name": "stderr",
     "output_type": "stream",
     "text": [
      "100%|██████████| 1534/1534 [00:01<00:00, 803.02it/s] \n",
      "100%|██████████| 1534/1534 [00:00<00:00, 1055283.31it/s]\n"
     ]
    },
    {
     "name": "stdout",
     "output_type": "stream",
     "text": [
      "Данные успешно загружены\n",
      "Начали генерацию SQL запросов\n"
     ]
    },
    {
     "name": "stderr",
     "output_type": "stream",
     "text": [
      "Processed prompts: 100%|██████████| 1534/1534 [01:43<00:00, 14.78it/s, est. speed input: 32831.55 toks/s, output: 9692.69 toks/s]"
     ]
    },
    {
     "name": "stdout",
     "output_type": "stream",
     "text": [
      "extract_think количество ошибок:  0\n",
      "extract_sql количество ошибок:  0\n",
      "Закончили генерацию SQL запросов\n",
      "Начали скорр полученных SQL запросов\n"
     ]
    },
    {
     "name": "stderr",
     "output_type": "stream",
     "text": [
      "\n"
     ]
    },
    {
     "name": "stdout",
     "output_type": "stream",
     "text": [
      "seeklhy:OmniSQL-7B DEV Финальный результат EX: 62.06\n",
      "seeklhy:OmniSQL-7B процент запросов, которые успешно выполнились DEV: 96.35%\n",
      "====================================================================================================\n",
      "\n",
      "\n",
      "Загружаем чаты с данными...\n",
      "Process: 1/1\n"
     ]
    },
    {
     "name": "stderr",
     "output_type": "stream",
     "text": [
      "100%|██████████| 1534/1534 [00:01<00:00, 803.20it/s]\n",
      "100%|██████████| 1534/1534 [00:00<00:00, 884285.64it/s]\n"
     ]
    },
    {
     "name": "stdout",
     "output_type": "stream",
     "text": [
      "Данные успешно загружены\n",
      "Начали генерацию SQL запросов\n"
     ]
    },
    {
     "name": "stderr",
     "output_type": "stream",
     "text": [
      "Processed prompts: 100%|██████████| 1534/1534 [01:44<00:00, 14.65it/s, est. speed input: 32549.82 toks/s, output: 9273.25 toks/s]"
     ]
    },
    {
     "name": "stdout",
     "output_type": "stream",
     "text": [
      "extract_think количество ошибок:  0\n",
      "extract_sql количество ошибок:  0\n",
      "Закончили генерацию SQL запросов\n",
      "Начали скорр полученных SQL запросов\n"
     ]
    },
    {
     "name": "stderr",
     "output_type": "stream",
     "text": [
      "\n"
     ]
    },
    {
     "name": "stdout",
     "output_type": "stream",
     "text": [
      "seeklhy:OmniSQL-7B DEV Финальный результат EX: 61.80\n",
      "seeklhy:OmniSQL-7B процент запросов, которые успешно выполнились DEV: 96.22%\n",
      "====================================================================================================\n",
      "\n",
      "\n",
      "Загружаем чаты с данными...\n",
      "Process: 1/1\n"
     ]
    },
    {
     "name": "stderr",
     "output_type": "stream",
     "text": [
      "100%|██████████| 1534/1534 [00:01<00:00, 817.86it/s]\n",
      "100%|██████████| 1534/1534 [00:00<00:00, 590985.79it/s]\n"
     ]
    },
    {
     "name": "stdout",
     "output_type": "stream",
     "text": [
      "Данные успешно загружены\n",
      "Начали генерацию SQL запросов\n"
     ]
    },
    {
     "name": "stderr",
     "output_type": "stream",
     "text": [
      "Processed prompts: 100%|██████████| 1534/1534 [01:40<00:00, 15.29it/s, est. speed input: 33956.84 toks/s, output: 9631.03 toks/s]"
     ]
    },
    {
     "name": "stdout",
     "output_type": "stream",
     "text": [
      "extract_think количество ошибок:  0\n",
      "extract_sql количество ошибок:  0\n",
      "Закончили генерацию SQL запросов\n",
      "Начали скорр полученных SQL запросов\n"
     ]
    },
    {
     "name": "stderr",
     "output_type": "stream",
     "text": [
      "\n"
     ]
    },
    {
     "name": "stdout",
     "output_type": "stream",
     "text": [
      "seeklhy:OmniSQL-7B DEV Финальный результат EX: 61.41\n",
      "seeklhy:OmniSQL-7B процент запросов, которые успешно выполнились DEV: 94.78%\n",
      "====================================================================================================\n",
      "\n",
      "\n",
      "Загружаем чаты с данными...\n",
      "Process: 1/1\n"
     ]
    },
    {
     "name": "stderr",
     "output_type": "stream",
     "text": [
      "100%|██████████| 1534/1534 [00:01<00:00, 809.84it/s]\n",
      "100%|██████████| 1534/1534 [00:00<00:00, 996293.33it/s]\n"
     ]
    },
    {
     "name": "stdout",
     "output_type": "stream",
     "text": [
      "Данные успешно загружены\n",
      "Начали генерацию SQL запросов\n"
     ]
    },
    {
     "name": "stderr",
     "output_type": "stream",
     "text": [
      "Processed prompts: 100%|██████████| 1534/1534 [01:41<00:00, 15.12it/s, est. speed input: 33589.69 toks/s, output: 9683.07 toks/s]"
     ]
    },
    {
     "name": "stdout",
     "output_type": "stream",
     "text": [
      "extract_think количество ошибок:  0\n",
      "extract_sql количество ошибок:  0\n",
      "Закончили генерацию SQL запросов\n",
      "Начали скорр полученных SQL запросов\n"
     ]
    },
    {
     "name": "stderr",
     "output_type": "stream",
     "text": [
      "\n"
     ]
    },
    {
     "name": "stdout",
     "output_type": "stream",
     "text": [
      "seeklhy:OmniSQL-7B DEV Финальный результат EX: 60.82\n",
      "seeklhy:OmniSQL-7B процент запросов, которые успешно выполнились DEV: 94.85%\n",
      "====================================================================================================\n",
      "\n",
      "\n",
      "Загружаем чаты с данными...\n",
      "Process: 1/1\n"
     ]
    },
    {
     "name": "stderr",
     "output_type": "stream",
     "text": [
      "100%|██████████| 1534/1534 [00:01<00:00, 792.18it/s] \n",
      "100%|██████████| 1534/1534 [00:00<00:00, 713548.00it/s]\n"
     ]
    },
    {
     "name": "stdout",
     "output_type": "stream",
     "text": [
      "Данные успешно загружены\n",
      "Начали генерацию SQL запросов\n"
     ]
    },
    {
     "name": "stderr",
     "output_type": "stream",
     "text": [
      "Processed prompts: 100%|██████████| 1534/1534 [01:42<00:00, 14.96it/s, est. speed input: 33222.87 toks/s, output: 9706.98 toks/s]"
     ]
    },
    {
     "name": "stdout",
     "output_type": "stream",
     "text": [
      "extract_think количество ошибок:  0\n",
      "extract_sql количество ошибок:  0\n",
      "Закончили генерацию SQL запросов\n",
      "Начали скорр полученных SQL запросов\n"
     ]
    },
    {
     "name": "stderr",
     "output_type": "stream",
     "text": [
      "\n"
     ]
    },
    {
     "name": "stdout",
     "output_type": "stream",
     "text": [
      "seeklhy:OmniSQL-7B DEV Финальный результат EX: 62.19\n",
      "seeklhy:OmniSQL-7B процент запросов, которые успешно выполнились DEV: 95.70%\n",
      "====================================================================================================\n",
      "\n",
      "\n",
      "Загружаем чаты с данными...\n",
      "Process: 1/1\n"
     ]
    },
    {
     "name": "stderr",
     "output_type": "stream",
     "text": [
      "100%|██████████| 1534/1534 [00:01<00:00, 782.96it/s] \n",
      "100%|██████████| 1534/1534 [00:00<00:00, 1137966.45it/s]\n"
     ]
    },
    {
     "name": "stdout",
     "output_type": "stream",
     "text": [
      "Данные успешно загружены\n",
      "Начали генерацию SQL запросов\n"
     ]
    },
    {
     "name": "stderr",
     "output_type": "stream",
     "text": [
      "Processed prompts: 100%|██████████| 1534/1534 [01:43<00:00, 14.84it/s, est. speed input: 32952.38 toks/s, output: 9634.83 toks/s]"
     ]
    },
    {
     "name": "stdout",
     "output_type": "stream",
     "text": [
      "extract_think количество ошибок:  0\n",
      "extract_sql количество ошибок:  0\n",
      "Закончили генерацию SQL запросов\n",
      "Начали скорр полученных SQL запросов\n"
     ]
    },
    {
     "name": "stderr",
     "output_type": "stream",
     "text": [
      "\n"
     ]
    },
    {
     "name": "stdout",
     "output_type": "stream",
     "text": [
      "seeklhy:OmniSQL-7B DEV Финальный результат EX: 61.86\n",
      "seeklhy:OmniSQL-7B процент запросов, которые успешно выполнились DEV: 95.57%\n",
      "====================================================================================================\n",
      "\n",
      "\n",
      "Загружаем чаты с данными...\n",
      "Process: 1/1\n"
     ]
    },
    {
     "name": "stderr",
     "output_type": "stream",
     "text": [
      "100%|██████████| 1534/1534 [00:01<00:00, 805.41it/s]\n",
      "100%|██████████| 1534/1534 [00:00<00:00, 927098.32it/s]\n"
     ]
    },
    {
     "name": "stdout",
     "output_type": "stream",
     "text": [
      "Данные успешно загружены\n",
      "Начали генерацию SQL запросов\n"
     ]
    },
    {
     "name": "stderr",
     "output_type": "stream",
     "text": [
      "Processed prompts: 100%|██████████| 1534/1534 [01:41<00:00, 15.06it/s, est. speed input: 33445.58 toks/s, output: 9683.85 toks/s]"
     ]
    },
    {
     "name": "stdout",
     "output_type": "stream",
     "text": [
      "extract_think количество ошибок:  0\n",
      "extract_sql количество ошибок:  0\n",
      "Закончили генерацию SQL запросов\n",
      "Начали скорр полученных SQL запросов\n"
     ]
    },
    {
     "name": "stderr",
     "output_type": "stream",
     "text": [
      "\n"
     ]
    },
    {
     "name": "stdout",
     "output_type": "stream",
     "text": [
      "seeklhy:OmniSQL-7B DEV Финальный результат EX: 61.80\n",
      "seeklhy:OmniSQL-7B процент запросов, которые успешно выполнились DEV: 95.63%\n",
      "====================================================================================================\n",
      "\n",
      "\n",
      "Загружаем чаты с данными...\n",
      "Process: 1/1\n"
     ]
    },
    {
     "name": "stderr",
     "output_type": "stream",
     "text": [
      "100%|██████████| 1534/1534 [00:01<00:00, 797.03it/s]\n",
      "100%|██████████| 1534/1534 [00:00<00:00, 1164325.43it/s]\n"
     ]
    },
    {
     "name": "stdout",
     "output_type": "stream",
     "text": [
      "Данные успешно загружены\n",
      "Начали генерацию SQL запросов\n"
     ]
    },
    {
     "name": "stderr",
     "output_type": "stream",
     "text": [
      "Processed prompts: 100%|██████████| 1534/1534 [01:42<00:00, 14.90it/s, est. speed input: 33106.58 toks/s, output: 9689.45 toks/s]"
     ]
    },
    {
     "name": "stdout",
     "output_type": "stream",
     "text": [
      "extract_think количество ошибок:  0\n",
      "extract_sql количество ошибок:  0\n",
      "Закончили генерацию SQL запросов\n",
      "Начали скорр полученных SQL запросов\n"
     ]
    },
    {
     "name": "stderr",
     "output_type": "stream",
     "text": [
      "\n"
     ]
    },
    {
     "name": "stdout",
     "output_type": "stream",
     "text": [
      "seeklhy:OmniSQL-7B DEV Финальный результат EX: 61.73\n",
      "seeklhy:OmniSQL-7B процент запросов, которые успешно выполнились DEV: 95.24%\n",
      "====================================================================================================\n",
      "\n",
      "\n",
      "Загружаем чаты с данными...\n",
      "Process: 1/1\n"
     ]
    },
    {
     "name": "stderr",
     "output_type": "stream",
     "text": [
      "100%|██████████| 1534/1534 [00:01<00:00, 800.44it/s] \n",
      "100%|██████████| 1534/1534 [00:00<00:00, 951502.86it/s]\n"
     ]
    },
    {
     "name": "stdout",
     "output_type": "stream",
     "text": [
      "Данные успешно загружены\n",
      "Начали генерацию SQL запросов\n"
     ]
    },
    {
     "name": "stderr",
     "output_type": "stream",
     "text": [
      "Processed prompts: 100%|██████████| 1534/1534 [01:41<00:00, 15.04it/s, est. speed input: 33407.30 toks/s, output: 9810.29 toks/s]"
     ]
    },
    {
     "name": "stdout",
     "output_type": "stream",
     "text": [
      "extract_think количество ошибок:  0\n",
      "extract_sql количество ошибок:  0\n",
      "Закончили генерацию SQL запросов\n",
      "Начали скорр полученных SQL запросов\n"
     ]
    },
    {
     "name": "stderr",
     "output_type": "stream",
     "text": [
      "\n"
     ]
    },
    {
     "name": "stdout",
     "output_type": "stream",
     "text": [
      "seeklhy:OmniSQL-7B DEV Финальный результат EX: 60.50\n",
      "seeklhy:OmniSQL-7B процент запросов, которые успешно выполнились DEV: 95.96%\n",
      "====================================================================================================\n",
      "\n",
      "\n",
      "Загружаем чаты с данными...\n",
      "Process: 1/1\n"
     ]
    },
    {
     "name": "stderr",
     "output_type": "stream",
     "text": [
      "100%|██████████| 1534/1534 [00:01<00:00, 795.03it/s]\n",
      "100%|██████████| 1534/1534 [00:00<00:00, 1092370.52it/s]\n"
     ]
    },
    {
     "name": "stdout",
     "output_type": "stream",
     "text": [
      "Данные успешно загружены\n",
      "Начали генерацию SQL запросов\n"
     ]
    },
    {
     "name": "stderr",
     "output_type": "stream",
     "text": [
      "Processed prompts: 100%|██████████| 1534/1534 [01:43<00:00, 14.88it/s, est. speed input: 33041.15 toks/s, output: 9709.37 toks/s]"
     ]
    },
    {
     "name": "stdout",
     "output_type": "stream",
     "text": [
      "extract_think количество ошибок:  0\n",
      "extract_sql количество ошибок:  0\n",
      "Закончили генерацию SQL запросов\n",
      "Начали скорр полученных SQL запросов\n"
     ]
    },
    {
     "name": "stderr",
     "output_type": "stream",
     "text": [
      "\n"
     ]
    },
    {
     "name": "stdout",
     "output_type": "stream",
     "text": [
      "seeklhy:OmniSQL-7B DEV Финальный результат EX: 61.21\n",
      "seeklhy:OmniSQL-7B процент запросов, которые успешно выполнились DEV: 95.76%\n",
      "====================================================================================================\n",
      "\n",
      "\n",
      "Загружаем чаты с данными...\n",
      "Process: 1/1\n"
     ]
    },
    {
     "name": "stderr",
     "output_type": "stream",
     "text": [
      "100%|██████████| 1534/1534 [00:01<00:00, 809.13it/s]\n",
      "100%|██████████| 1534/1534 [00:00<00:00, 1094042.23it/s]\n"
     ]
    },
    {
     "name": "stdout",
     "output_type": "stream",
     "text": [
      "Данные успешно загружены\n",
      "Начали генерацию SQL запросов\n"
     ]
    },
    {
     "name": "stderr",
     "output_type": "stream",
     "text": [
      "Processed prompts: 100%|██████████| 1534/1534 [01:40<00:00, 15.28it/s, est. speed input: 33930.22 toks/s, output: 9722.18 toks/s]"
     ]
    },
    {
     "name": "stdout",
     "output_type": "stream",
     "text": [
      "extract_think количество ошибок:  0\n",
      "extract_sql количество ошибок:  0\n",
      "Закончили генерацию SQL запросов\n",
      "Начали скорр полученных SQL запросов\n"
     ]
    },
    {
     "name": "stderr",
     "output_type": "stream",
     "text": [
      "\n"
     ]
    },
    {
     "name": "stdout",
     "output_type": "stream",
     "text": [
      "seeklhy:OmniSQL-7B DEV Финальный результат EX: 62.06\n",
      "seeklhy:OmniSQL-7B процент запросов, которые успешно выполнились DEV: 95.44%\n",
      "====================================================================================================\n",
      "\n",
      "\n",
      "Загружаем чаты с данными...\n",
      "Process: 1/1\n"
     ]
    },
    {
     "name": "stderr",
     "output_type": "stream",
     "text": [
      "100%|██████████| 1534/1534 [00:01<00:00, 799.11it/s]\n",
      "100%|██████████| 1534/1534 [00:00<00:00, 880413.57it/s]\n"
     ]
    },
    {
     "name": "stdout",
     "output_type": "stream",
     "text": [
      "Данные успешно загружены\n",
      "Начали генерацию SQL запросов\n"
     ]
    },
    {
     "name": "stderr",
     "output_type": "stream",
     "text": [
      "Processed prompts: 100%|██████████| 1534/1534 [01:43<00:00, 14.82it/s, est. speed input: 32913.44 toks/s, output: 9596.92 toks/s]"
     ]
    },
    {
     "name": "stdout",
     "output_type": "stream",
     "text": [
      "extract_think количество ошибок:  0\n",
      "extract_sql количество ошибок:  0\n",
      "Закончили генерацию SQL запросов\n",
      "Начали скорр полученных SQL запросов\n"
     ]
    },
    {
     "name": "stderr",
     "output_type": "stream",
     "text": [
      "\n"
     ]
    },
    {
     "name": "stdout",
     "output_type": "stream",
     "text": [
      "seeklhy:OmniSQL-7B DEV Финальный результат EX: 61.54\n",
      "seeklhy:OmniSQL-7B процент запросов, которые успешно выполнились DEV: 94.85%\n",
      "====================================================================================================\n",
      "\n",
      "\n",
      "Загружаем чаты с данными...\n",
      "Process: 1/1\n"
     ]
    },
    {
     "name": "stderr",
     "output_type": "stream",
     "text": [
      "100%|██████████| 1534/1534 [00:01<00:00, 781.73it/s] \n",
      "100%|██████████| 1534/1534 [00:00<00:00, 1028133.96it/s]\n"
     ]
    },
    {
     "name": "stdout",
     "output_type": "stream",
     "text": [
      "Данные успешно загружены\n",
      "Начали генерацию SQL запросов\n"
     ]
    },
    {
     "name": "stderr",
     "output_type": "stream",
     "text": [
      "Processed prompts: 100%|██████████| 1534/1534 [01:43<00:00, 14.89it/s, est. speed input: 33066.74 toks/s, output: 9680.41 toks/s]"
     ]
    },
    {
     "name": "stdout",
     "output_type": "stream",
     "text": [
      "extract_think количество ошибок:  0\n",
      "extract_sql количество ошибок:  0\n",
      "Закончили генерацию SQL запросов\n",
      "Начали скорр полученных SQL запросов\n"
     ]
    },
    {
     "name": "stderr",
     "output_type": "stream",
     "text": [
      "\n"
     ]
    },
    {
     "name": "stdout",
     "output_type": "stream",
     "text": [
      "seeklhy:OmniSQL-7B DEV Финальный результат EX: 60.82\n",
      "seeklhy:OmniSQL-7B процент запросов, которые успешно выполнились DEV: 95.83%\n",
      "====================================================================================================\n",
      "\n",
      "\n"
     ]
    }
   ],
   "source": [
    "run_think_experiment(model,arr_seeds,arr_versions)"
   ]
  },
  {
   "cell_type": "markdown",
   "id": "81c34c01-00c6-498b-b626-e0452ab4ddb6",
   "metadata": {},
   "source": [
    "## Выводим средний скорр think подхода"
   ]
  },
  {
   "cell_type": "code",
   "execution_count": 4,
   "id": "1e66fa7c-ddda-472d-93a3-2d563b0129df",
   "metadata": {},
   "outputs": [],
   "source": [
    "import pickle"
   ]
  },
  {
   "cell_type": "code",
   "execution_count": 5,
   "id": "ce529050-623f-4d4f-bfac-9ab5d43e2c4a",
   "metadata": {},
   "outputs": [],
   "source": [
    "def load_results(k):\n",
    "    with open(f\"/data/home/vkropoti/sql_llm_answers/bird_dev_m_schema/sql_results_{model}-reasoning-v{k}\", \"rb\") as fp:\n",
    "        results = np.array(pickle.load(fp))\n",
    "    return results"
   ]
  },
  {
   "cell_type": "code",
   "execution_count": 6,
   "id": "53838cd4-51fb-42d2-88c5-340999184bba",
   "metadata": {},
   "outputs": [],
   "source": [
    "def load_executed(k):\n",
    "    with open(f\"/data/home/vkropoti/sql_llm_answers/bird_dev_m_schema/sql_executed_{model}-reasoning-v{k}\", \"rb\") as fp:\n",
    "        executed = np.array(pickle.load(fp))\n",
    "    return executed"
   ]
  },
  {
   "cell_type": "code",
   "execution_count": 7,
   "id": "c4defcb9-0814-4f71-8080-a3e3c52317ac",
   "metadata": {},
   "outputs": [],
   "source": [
    "def get_think_results(model,n):\n",
    "    arr_mean_scores = []\n",
    "    arr_mean_executed = []\n",
    "    for i in range(n):\n",
    "        results, executed = load_results(i), load_executed(i)\n",
    "        arr_mean_scores.append(np.mean(results))\n",
    "        arr_mean_executed.append(np.mean(executed))\n",
    "        \n",
    "    print(f\"{model} Mini DEV Финальный результат EX: {np.mean(np.array(arr_mean_scores)):.3f}, при std: {np.std(np.array(arr_mean_scores)):.3f}\")\n",
    "    print(f\"{model} процент запросов, которые успешно выполнились Mini DEV: {np.mean(np.array(arr_mean_executed)):.3f}, при std: {np.std(np.array(arr_mean_executed)):.3f}\")\n",
    "    "
   ]
  },
  {
   "cell_type": "code",
   "execution_count": 8,
   "id": "9f57e1a5-7e57-4e87-9f42-e4a844087e40",
   "metadata": {},
   "outputs": [
    {
     "name": "stdout",
     "output_type": "stream",
     "text": [
      "seeklhy:OmniSQL-7B Mini DEV Финальный результат EX: 0.614, при std: 0.005\n",
      "seeklhy:OmniSQL-7B процент запросов, которые успешно выполнились Mini DEV: 0.955, при std: 0.004\n"
     ]
    }
   ],
   "source": [
    "get_think_results(model,20)"
   ]
  },
  {
   "cell_type": "code",
   "execution_count": 8,
   "id": "edb38bd5-3e43-4f08-8418-c019e6406722",
   "metadata": {},
   "outputs": [
    {
     "name": "stdout",
     "output_type": "stream",
     "text": [
      "seeklhy:OmniSQL-7B Mini DEV Финальный результат EX: 0.632, при std: 0.006\n",
      "seeklhy:OmniSQL-7B процент запросов, которые успешно выполнились Mini DEV: 0.959, при std: 0.005\n"
     ]
    }
   ],
   "source": [
    "get_think_results(model,20)"
   ]
  },
  {
   "cell_type": "code",
   "execution_count": null,
   "id": "9a1876d1-c8e8-4882-95b5-264801a905c5",
   "metadata": {},
   "outputs": [],
   "source": []
  }
 ],
 "metadata": {
  "kernelspec": {
   "display_name": "vllm",
   "language": "python",
   "name": "vllm"
  },
  "language_info": {
   "codemirror_mode": {
    "name": "ipython",
    "version": 3
   },
   "file_extension": ".py",
   "mimetype": "text/x-python",
   "name": "python",
   "nbconvert_exporter": "python",
   "pygments_lexer": "ipython3",
   "version": "3.12.4"
  }
 },
 "nbformat": 4,
 "nbformat_minor": 5
}
