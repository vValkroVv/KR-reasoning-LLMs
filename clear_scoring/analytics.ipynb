{
 "cells": [
  {
   "cell_type": "code",
   "execution_count": 305,
   "id": "f964c82e-9c48-4ec5-bbee-e7c456fcc6ba",
   "metadata": {},
   "outputs": [],
   "source": [
    "import pickle\n",
    "import numpy as np\n"
   ]
  },
  {
   "cell_type": "code",
   "execution_count": 248,
   "id": "75e0a113-5a39-4f72-b4ca-a2087c6b5f8b",
   "metadata": {},
   "outputs": [],
   "source": [
    "model = \"Qwen3-8B\"\n",
    "# \"Qwen3-30b-moe\"\n",
    "# \"DeepCoder-14B-Preview\"\n",
    "# \"Qwen3-14B\"\n",
    "model_add = \"Qwen3-14B\"\n",
    "model_add2 = \"Qwen3-30b-moe\"\n",
    "# model_add = \"MiMo-7B-RL\"\n",
    "type_cot =  'all_new'\n",
    "version = 0\n",
    "path = f\"/data/home/vkropoti/sql_llm_answers/spider_dev_m_schema/sql_predict_{model}-reasoning-v{version}\"\n",
    "# f\"/data/home/vkropoti/sql_llm_answers/base_reasoning/sql_all_{model}-cot_withadd_{type_cot}_think=={True}-v{version}\"\n",
    "# \"/data/home/vkropoti/sql_llm_answers/base_reasoning/sql_think_Qwen3-8B-reasoning-v0\"\n",
    "# f\"/data/home/vkropoti/sql_llm_answers/base_reasoning/sql_all_{model}-cot_withadd_{type_cot}_think=={True}-v{version}\""
   ]
  },
  {
   "cell_type": "code",
   "execution_count": 306,
   "id": "a5a80d18-04b8-4381-8631-246219c673e7",
   "metadata": {},
   "outputs": [],
   "source": [
    "def load(path):\n",
    "    with open(path, \"rb\") as fp:   # Unpickling\n",
    "        sql_predict = np.array(pickle.load(fp))\n",
    "    return sql_predict"
   ]
  },
  {
   "cell_type": "code",
   "execution_count": 450,
   "id": "c3cf4cca-d8d9-4496-9251-b0f9f097ce2b",
   "metadata": {},
   "outputs": [],
   "source": [
    "arr_results = []\n",
    "for i in range(80):\n",
    "    path = f\"/data/home/vkropoti/sql_llm_answers/bird_train_m_schema/sql_results_Qwen3-1.7B-reasoning-v{i}\"\n",
    "    arr_results.append(load(path))"
   ]
  },
  {
   "cell_type": "code",
   "execution_count": 451,
   "id": "e7057388-2736-41e8-80e1-c0b5810e4e80",
   "metadata": {},
   "outputs": [
    {
     "data": {
      "text/plain": [
       "np.float64(0.6651463725074247)"
      ]
     },
     "execution_count": 451,
     "metadata": {},
     "output_type": "execute_result"
    }
   ],
   "source": [
    "np.mean(np.max(arr_results,axis=0))"
   ]
  },
  {
   "cell_type": "code",
   "execution_count": 417,
   "id": "0a204d82-3cc5-4a8f-b011-8ee7d72c917b",
   "metadata": {},
   "outputs": [
    {
     "data": {
      "text/plain": [
       "0.04"
      ]
     },
     "execution_count": 417,
     "metadata": {},
     "output_type": "execute_result"
    }
   ],
   "source": [
    "40*0.001"
   ]
  },
  {
   "cell_type": "code",
   "execution_count": 409,
   "id": "25ff65f9-5214-40ef-bca7-b436c5a7e0bb",
   "metadata": {},
   "outputs": [
    {
     "data": {
      "text/plain": [
       "95.0"
      ]
     },
     "execution_count": 409,
     "metadata": {},
     "output_type": "execute_result"
    }
   ],
   "source": [
    "0.01*9500"
   ]
  },
  {
   "cell_type": "code",
   "execution_count": 250,
   "id": "6a1867ea-14bd-464c-a2c6-f64b85685136",
   "metadata": {},
   "outputs": [],
   "source": [
    "all_data = load(path)"
   ]
  },
  {
   "cell_type": "code",
   "execution_count": 251,
   "id": "9dd9528f-a90d-49de-9d76-c050c2113bb5",
   "metadata": {},
   "outputs": [
    {
     "name": "stdout",
     "output_type": "stream",
     "text": [
      "SELECT `Name`, `Country`, `Age` FROM singer ORDER BY `Age` DESC;\n"
     ]
    }
   ],
   "source": [
    "print(all_data[2])"
   ]
  },
  {
   "cell_type": "code",
   "execution_count": 252,
   "id": "c5020b95-1020-44ca-8875-f98f42880559",
   "metadata": {},
   "outputs": [
    {
     "name": "stdout",
     "output_type": "stream",
     "text": [
      "SELECT MIN(Weight) FROM cars_data WHERE Cylinders = 8 AND Year = 1974;\n",
      "1\n"
     ]
    }
   ],
   "source": [
    "k=120\n",
    "print(all_data[k])\n",
    "print(pred[0][k])"
   ]
  },
  {
   "cell_type": "code",
   "execution_count": 253,
   "id": "ddadebdb-6a1b-4473-9ca8-013328336964",
   "metadata": {},
   "outputs": [],
   "source": [
    "pred1 = []\n",
    "for i in range(20):\n",
    "    pred1.append(load(path = f\"/data/home/vkropoti/sql_llm_answers/spider_dev_m_schema/sql_results_{model}-reasoning-v{i}\"))"
   ]
  },
  {
   "cell_type": "code",
   "execution_count": 254,
   "id": "71b12c4d-67a5-4eff-9d45-45d7a0fb8200",
   "metadata": {},
   "outputs": [],
   "source": [
    "pred2 = []\n",
    "for i in range(20):\n",
    "    pred2.append(load(path = f\"/data/home/vkropoti/sql_llm_answers/spider_dev_m_schema/sql_results_{model_add}-reasoning-v{i}\"))"
   ]
  },
  {
   "cell_type": "code",
   "execution_count": 255,
   "id": "ae1b35c5-8118-42ae-bf73-ca2ffba50d59",
   "metadata": {},
   "outputs": [],
   "source": [
    "pred3 = []\n",
    "for i in range(20):\n",
    "    pred3.append(load(path = f\"/data/home/vkropoti/sql_llm_answers/spider_dev_m_schema/sql_results_{model_add2}-reasoning-v{i}\"))"
   ]
  },
  {
   "cell_type": "code",
   "execution_count": 256,
   "id": "4376229e-09c7-4b6f-abc6-7d471521c816",
   "metadata": {},
   "outputs": [],
   "source": [
    "import numpy as np\n",
    "from scipy.stats import pearsonr\n",
    "\n",
    "def compute_correlations(pred1, pred2):\n",
    "    \"\"\"\n",
    "    Вычисляет попарные корреляции между элементами двух массивов,\n",
    "    исключая пары с одинаковыми индексами.\n",
    "\n",
    "    Параметры:\n",
    "    pred1 (list): Список одномерных массивов.\n",
    "    pred2 (list): Список одномерных массивов.\n",
    "\n",
    "    Возвращает:\n",
    "    list: Список коэффициентов корреляции для всех допустимых пар.\n",
    "    \"\"\"\n",
    "    correlations = []\n",
    "    for i in range(len(pred1)):\n",
    "        for j in range(len(pred2)):\n",
    "            if i != j:\n",
    "                # Вычисляем корреляцию Пирсона между pred1[i] и pred2[j]\n",
    "                # corr, _ = pearsonr(pred1[i], pred2[j])\n",
    "                corr = np.mean(pred1[i]==pred2[j])\n",
    "                correlations.append(corr)\n",
    "    return np.mean(correlations)"
   ]
  },
  {
   "cell_type": "code",
   "execution_count": 257,
   "id": "a9ad7e39-16a6-40c2-a68b-4ed8a2b27b25",
   "metadata": {},
   "outputs": [
    {
     "data": {
      "text/plain": [
       "np.float64(0.9212287223635297)"
      ]
     },
     "execution_count": 257,
     "metadata": {},
     "output_type": "execute_result"
    }
   ],
   "source": [
    "compute_correlations(pred1,pred1)"
   ]
  },
  {
   "cell_type": "code",
   "execution_count": 258,
   "id": "0bc44033-b161-404a-8042-739d2efe4d88",
   "metadata": {},
   "outputs": [
    {
     "data": {
      "text/plain": [
       "np.float64(0.9200939150851106)"
      ]
     },
     "execution_count": 258,
     "metadata": {},
     "output_type": "execute_result"
    }
   ],
   "source": [
    "compute_correlations(pred2,pred2)"
   ]
  },
  {
   "cell_type": "code",
   "execution_count": 259,
   "id": "cd70ef2d-c222-40a3-ac41-742de8421cd2",
   "metadata": {},
   "outputs": [
    {
     "data": {
      "text/plain": [
       "np.float64(0.9484249657601252)"
      ]
     },
     "execution_count": 259,
     "metadata": {},
     "output_type": "execute_result"
    }
   ],
   "source": [
    "compute_correlations(pred3,pred3)"
   ]
  },
  {
   "cell_type": "code",
   "execution_count": 260,
   "id": "31235d75-7182-4ac2-8bed-f73fb7742735",
   "metadata": {},
   "outputs": [
    {
     "data": {
      "text/plain": [
       "np.float64(0.8943406378399531)"
      ]
     },
     "execution_count": 260,
     "metadata": {},
     "output_type": "execute_result"
    }
   ],
   "source": [
    "compute_correlations(pred1,pred2)"
   ]
  },
  {
   "cell_type": "code",
   "execution_count": 261,
   "id": "5ba8fddc-bef2-4ee1-91f6-12a2557d294c",
   "metadata": {},
   "outputs": [
    {
     "data": {
      "text/plain": [
       "np.float64(0.91377421248288)"
      ]
     },
     "execution_count": 261,
     "metadata": {},
     "output_type": "execute_result"
    }
   ],
   "source": [
    "compute_correlations(pred2,pred3)"
   ]
  },
  {
   "cell_type": "code",
   "execution_count": 262,
   "id": "2c8810e0-abb4-4071-bafb-c67ee4066cee",
   "metadata": {},
   "outputs": [
    {
     "data": {
      "text/plain": [
       "np.float64(0.9086871453727254)"
      ]
     },
     "execution_count": 262,
     "metadata": {},
     "output_type": "execute_result"
    }
   ],
   "source": [
    "compute_correlations(pred1,pred3)"
   ]
  },
  {
   "cell_type": "code",
   "execution_count": 264,
   "id": "0a3179b2-066b-4e16-b60d-adb33d6c3869",
   "metadata": {},
   "outputs": [
    {
     "data": {
      "text/plain": [
       "np.float64(0.8382899628252788)"
      ]
     },
     "execution_count": 264,
     "metadata": {},
     "output_type": "execute_result"
    }
   ],
   "source": [
    "np.mean(np.max(pred1,axis=0))"
   ]
  },
  {
   "cell_type": "code",
   "execution_count": 265,
   "id": "6cb950b9-e34e-4a86-a24f-a2d431ada2eb",
   "metadata": {},
   "outputs": [
    {
     "data": {
      "text/plain": [
       "np.float64(0.8494423791821561)"
      ]
     },
     "execution_count": 265,
     "metadata": {},
     "output_type": "execute_result"
    }
   ],
   "source": [
    "np.mean(np.max(pred2,axis=0))"
   ]
  },
  {
   "cell_type": "code",
   "execution_count": 266,
   "id": "bc06acb4-e05c-4c59-be83-f80961c3e355",
   "metadata": {},
   "outputs": [
    {
     "data": {
      "text/plain": [
       "np.float64(0.8317843866171004)"
      ]
     },
     "execution_count": 266,
     "metadata": {},
     "output_type": "execute_result"
    }
   ],
   "source": [
    "np.mean(np.max(pred3,axis=0))"
   ]
  },
  {
   "cell_type": "code",
   "execution_count": 170,
   "id": "791d4c7e-920e-48ad-9ba5-b26a02b6f353",
   "metadata": {},
   "outputs": [
    {
     "data": {
      "text/plain": [
       "array([1, 0, 1, ..., 0, 1, 1], shape=(1534,))"
      ]
     },
     "execution_count": 170,
     "metadata": {},
     "output_type": "execute_result"
    }
   ],
   "source": [
    "np.max(pred,axis=0)"
   ]
  },
  {
   "cell_type": "code",
   "execution_count": 192,
   "id": "57017acf-dead-4261-a861-052ac0fffb7d",
   "metadata": {},
   "outputs": [],
   "source": [
    "pred1 = load(path = f\"/data/home/vkropoti/sql_llm_answers/bird_dev_m_schema/sql_results_{model}-reasoning-v{1}\")"
   ]
  },
  {
   "cell_type": "code",
   "execution_count": 193,
   "id": "c2255cc9-31d4-48ec-9725-c307cdfd283a",
   "metadata": {},
   "outputs": [],
   "source": [
    "pred2 = load(path = f\"/data/home/vkropoti/sql_llm_answers/bird_dev_m_schema/sql_results_{model}-reasoning-v{2}\")"
   ]
  },
  {
   "cell_type": "code",
   "execution_count": 186,
   "id": "c023df7b-ea17-435f-8fde-8d68e2692f9c",
   "metadata": {},
   "outputs": [
    {
     "data": {
      "text/plain": [
       "np.float64(0.7238500910389257)"
      ]
     },
     "execution_count": 186,
     "metadata": {},
     "output_type": "execute_result"
    }
   ],
   "source": [
    "np.corrcoef(pred1,pred2)[0][1]"
   ]
  },
  {
   "cell_type": "code",
   "execution_count": 194,
   "id": "1f2c1343-53c7-4cf3-a6bd-27f3c0eaf825",
   "metadata": {},
   "outputs": [
    {
     "data": {
      "text/plain": [
       "np.float64(0.8222993888506518)"
      ]
     },
     "execution_count": 194,
     "metadata": {},
     "output_type": "execute_result"
    }
   ],
   "source": [
    "np.corrcoef(pred1,pred2)[0][1]"
   ]
  },
  {
   "cell_type": "code",
   "execution_count": 19,
   "id": "622f11e7-364e-490e-8738-e638e3ea7e32",
   "metadata": {},
   "outputs": [
    {
     "data": {
      "text/plain": [
       "np.float64(0.559973924380704)"
      ]
     },
     "execution_count": 19,
     "metadata": {},
     "output_type": "execute_result"
    }
   ],
   "source": [
    "each = (pred1==1)&(pred2==1)\n",
    "np.mean(each)"
   ]
  },
  {
   "cell_type": "code",
   "execution_count": 20,
   "id": "a7eeb0ec-1f01-48d7-b42b-aee71f5cba9f",
   "metadata": {},
   "outputs": [
    {
     "data": {
      "text/plain": [
       "np.float64(0.6629726205997393)"
      ]
     },
     "execution_count": 20,
     "metadata": {},
     "output_type": "execute_result"
    }
   ],
   "source": [
    "all_ = (pred1==1)|(pred2==1)\n",
    "np.mean(all_)"
   ]
  },
  {
   "cell_type": "code",
   "execution_count": 37,
   "id": "f436e7d3-01fc-4ebd-822e-df4efe8ed23f",
   "metadata": {},
   "outputs": [
    {
     "data": {
      "text/plain": [
       "array([   4,   23,   56,   57,   62,   98,  114,  161,  164,  168,  189,\n",
       "        201,  219,  248,  273,  278,  315,  321,  409,  413,  474,  515,\n",
       "        527,  536,  563,  599,  606,  611,  630,  637,  673,  678,  736,\n",
       "        766,  772,  863,  881,  899,  907,  945,  948,  953,  954,  964,\n",
       "        968,  987,  994,  996,  999, 1002, 1031, 1039, 1050, 1051, 1061,\n",
       "       1093, 1153, 1160, 1165, 1201, 1216, 1242, 1244, 1249, 1289, 1297,\n",
       "       1360, 1376, 1387, 1464, 1472, 1490, 1497])"
      ]
     },
     "execution_count": 37,
     "metadata": {},
     "output_type": "execute_result"
    }
   ],
   "source": [
    "np.arange(len(pred1))[((~pred1) & pred2 | pred2 & (~pred1)).astype(bool)]\n",
    "# [(~pred1) & pred2 | pred2 & (~pred1)]"
   ]
  },
  {
   "cell_type": "code",
   "execution_count": 21,
   "id": "73323cf1-d0ca-475c-9813-9a7f1973d198",
   "metadata": {},
   "outputs": [
    {
     "data": {
      "text/plain": [
       "array([ True, False,  True, ..., False,  True,  True], shape=(1534,))"
      ]
     },
     "execution_count": 21,
     "metadata": {},
     "output_type": "execute_result"
    }
   ],
   "source": [
    "all_"
   ]
  },
  {
   "cell_type": "code",
   "execution_count": 22,
   "id": "068cb45d-cb4f-4020-993f-d6d5284ccab0",
   "metadata": {},
   "outputs": [
    {
     "data": {
      "text/plain": [
       "array([ True, False,  True, ..., False,  True,  True], shape=(1534,))"
      ]
     },
     "execution_count": 22,
     "metadata": {},
     "output_type": "execute_result"
    }
   ],
   "source": [
    "each"
   ]
  },
  {
   "cell_type": "code",
   "execution_count": 36,
   "id": "17c7a100-655d-4de0-9101-6ffbddafeb7f",
   "metadata": {},
   "outputs": [
    {
     "data": {
      "text/plain": [
       "array([False, False, False, ..., False, False, False], shape=(1534,))"
      ]
     },
     "execution_count": 36,
     "metadata": {},
     "output_type": "execute_result"
    }
   ],
   "source": [
    "((~pred1) & pred2 | pred2 & (~pred1)).astype(bool)"
   ]
  },
  {
   "cell_type": "code",
   "execution_count": 173,
   "id": "bf18ef06-5b32-4146-9b75-1e7bdd5afef2",
   "metadata": {},
   "outputs": [
    {
     "name": "stdout",
     "output_type": "stream",
     "text": [
      "```\n",
      "SELECT COUNT(DISTINCT Examination.ID) FROM Examination WHERE Thrombosis = 2 AND `ANA Pattern` = 'S' AND `aCL IgM` > (SELECT AVG(`aCL IgM`) FROM Examination) * 1.2\n",
      "```\n"
     ]
    }
   ],
   "source": [
    "print(sql_predict[95])"
   ]
  },
  {
   "cell_type": "code",
   "execution_count": 169,
   "id": "84bb16d5-275a-4318-a57c-c0df33d20fac",
   "metadata": {},
   "outputs": [
    {
     "name": "stdout",
     "output_type": "stream",
     "text": [
      "```\n",
      "SELECT COUNT(DISTINCT ID) FROM Examination WHERE Thrombosis = 2 AND `ANA Pattern` = 'S' AND `aCL IgM` > (SELECT AVG(`aCL IgM`) * 0.4 FROM Examination)\n",
      "```\n"
     ]
    }
   ],
   "source": [
    "print(sql_predict[95])"
   ]
  },
  {
   "cell_type": "code",
   "execution_count": 78,
   "id": "9e7658a0-e304-4302-9510-6a8fb18a0b09",
   "metadata": {},
   "outputs": [],
   "source": [
    "import matplotlib.pyplot as plt\n",
    "import numpy as np\n",
    "from transformers import AutoTokenizer\n",
    "from tqdm import tqdm"
   ]
  },
  {
   "cell_type": "code",
   "execution_count": 79,
   "id": "216e0aa5-0d8c-4bcb-af32-744265bf45af",
   "metadata": {},
   "outputs": [
    {
     "name": "stderr",
     "output_type": "stream",
     "text": [
      "100%|██████████| 500/500 [00:00<00:00, 6000.25it/s]\n"
     ]
    }
   ],
   "source": [
    "#v2\n",
    "tokenizer = AutoTokenizer.from_pretrained(\"/data/home/vkropoti/models/Qwen3-8B\")\n",
    "arr_lens = []\n",
    "for i in tqdm(range(len(sql_predict))):\n",
    "    res = tokenizer.tokenize(sql_predict[i])\n",
    "    arr_lens.append(len(res))\n",
    "    # break\n",
    "    "
   ]
  },
  {
   "cell_type": "code",
   "execution_count": 80,
   "id": "adb249c1-4071-422f-8a2b-3bcd7d8f18a7",
   "metadata": {},
   "outputs": [
    {
     "data": {
      "image/png": "[encoded data removed]",
      "text/plain": [
       "<Figure size 640x480 with 1 Axes>"
      ]
     },
     "metadata": {},
     "output_type": "display_data"
    }
   ],
   "source": [
    "p = plt.hist(np.log(1+np.array(arr_lens)),bins=30)"
   ]
  },
  {
   "cell_type": "code",
   "execution_count": 67,
   "id": "ae074836-5c03-4897-b40d-7172cadb0fa8",
   "metadata": {},
   "outputs": [
    {
     "name": "stdout",
     "output_type": "stream",
     "text": [
      "54.598150033144236\n",
      "403.4287934927351\n"
     ]
    }
   ],
   "source": [
    "print(np.exp(4))\n",
    "print(np.exp(6))"
   ]
  },
  {
   "cell_type": "markdown",
   "id": "c2e12c44-2950-4859-8c6d-71e04b49605e",
   "metadata": {},
   "source": [
    "## Меняем SQL all"
   ]
  },
  {
   "cell_type": "code",
   "execution_count": 300,
   "id": "26b19d92-a9b9-4b33-856e-bed4838b7297",
   "metadata": {},
   "outputs": [],
   "source": [
    "def get_path(v):\n",
    "    return f\"/data/home/vkropoti/sql_llm_answers/bird_dev_m_schema/sql_predict_seeklhy:OmniSQL-7B-reasoning-v{v}\"\n",
    "    # f\"/data/home/vkropoti/sql_llm_answers/base_reasoning/sql_all_Qwen3-14B-reasoning-v{v}\"\n",
    "\n",
    "def save_path(v):\n",
    "    return f\"/data/home/vkropoti/sql_llm_answers/bird_dev_m_schema/sql_predict_new_seeklhy:OmniSQL-7B-reasoning-v{v}\"\n",
    "    # f\"/data/home/vkropoti/sql_llm_answers/base_reasoning/sql_all_new_Qwen3-14B-reasoning-v{v}\""
   ]
  },
  {
   "cell_type": "code",
   "execution_count": 294,
   "id": "2416fdb0-ae10-4ba6-9a26-9c22d0fd420b",
   "metadata": {},
   "outputs": [],
   "source": [
    "import re\n",
    "def parse_response(response):\n",
    "    pattern = r\"```sql\\s*(.*?)\\s*```\"\n",
    "    \n",
    "    sql_blocks = re.findall(pattern, response, re.DOTALL)\n",
    "\n",
    "    if sql_blocks:\n",
    "        # Extract the last SQL query in the response text and remove extra whitespace characters\n",
    "        last_sql = sql_blocks[-1].strip()\n",
    "        return last_sql\n",
    "    else:\n",
    "        # print(\"No SQL blocks found.\")\n",
    "        return \"\""
   ]
  },
  {
   "cell_type": "code",
   "execution_count": 295,
   "id": "f79c4b20-1c9f-4b68-9106-7192cff3f9b4",
   "metadata": {},
   "outputs": [],
   "source": [
    "def change_all(x):\n",
    "    arr = x[8:].split('</think>')\n",
    "    arr_new = [\"Reasoning process:\\n\"] + arr[0:-1] + [\"Final answer based om reasoning for this model:\"] + [arr[-1]]\n",
    "    return \"\\n\".join(arr_new)"
   ]
  },
  {
   "cell_type": "code",
   "execution_count": 296,
   "id": "7fa40b31-f14e-4be7-ba63-15dcc0f4dfbd",
   "metadata": {},
   "outputs": [],
   "source": [
    "def change_all(x):\n",
    "    return parse_response(x)"
   ]
  },
  {
   "cell_type": "code",
   "execution_count": 301,
   "id": "6996e8fb-e9ef-4ee2-a0b1-fe6feb85c2ee",
   "metadata": {},
   "outputs": [],
   "source": [
    "def change_n(n):\n",
    "    for i in range(n):\n",
    "        with open(get_path(i), \"rb\") as fp:   # Unpickling\n",
    "            sql_predict = np.array(pickle.load(fp))\n",
    "        arr_changed = [change_all(sql_predict[k]) for k in range(len(sql_predict))]\n",
    "        with open(save_path(i), \"wb\") as fp:\n",
    "            pickle.dump(arr_changed, fp)"
   ]
  },
  {
   "cell_type": "code",
   "execution_count": 302,
   "id": "aa28d30f-3e56-4a0b-8ae5-9b6b63cf8a42",
   "metadata": {},
   "outputs": [],
   "source": [
    "with open(get_path(0), \"rb\") as fp:   # Unpickling\n",
    "        sql_predict = np.array(pickle.load(fp))"
   ]
  },
  {
   "cell_type": "code",
   "execution_count": 303,
   "id": "0c40cde2-0b27-438d-95e4-a756aba4ac2a",
   "metadata": {},
   "outputs": [
    {
     "data": {
      "text/plain": [
       "np.str_(\"SELECT \\n    MAX(f.`Free Meal Count (K-12)` / f.`Enrollment (K-12)`) AS HighestEligibleFreeRate\\nFROM \\n    frpm AS f\\nINNER JOIN \\n    schools AS s\\nON \\n    f.CDSCode = s.CDSCode\\nWHERE \\n    s.County = 'Alameda';\")"
      ]
     },
     "execution_count": 303,
     "metadata": {},
     "output_type": "execute_result"
    }
   ],
   "source": [
    "sql_predict[0]"
   ]
  },
  {
   "cell_type": "code",
   "execution_count": 282,
   "id": "8b96c236-2dcc-4a41-864c-14e270c59476",
   "metadata": {},
   "outputs": [
    {
     "name": "stdout",
     "output_type": "stream",
     "text": [
      "CPU times: user 1.42 s, sys: 780 ms, total: 2.2 s\n",
      "Wall time: 2.21 s\n"
     ]
    }
   ],
   "source": [
    "%%time\n",
    "change_n(20)"
   ]
  },
  {
   "cell_type": "code",
   "execution_count": 153,
   "id": "5d651075-3161-46f7-891d-527bcb51f64b",
   "metadata": {},
   "outputs": [],
   "source": [
    "with open(get_path(0), \"rb\") as fp:   # Unpickling\n",
    "    sql_predict = np.array(pickle.load(fp))"
   ]
  },
  {
   "cell_type": "code",
   "execution_count": 147,
   "id": "8a2d37cd-d0b3-49c7-8e18-eb2a9e427f4c",
   "metadata": {},
   "outputs": [],
   "source": [
    "arr_changed = [change_all(sql_predict[k]) for k in range(len(sql_predict))]"
   ]
  },
  {
   "cell_type": "code",
   "execution_count": 152,
   "id": "169e26b9-7eb0-47eb-b1d1-a9ac0da53a82",
   "metadata": {},
   "outputs": [],
   "source": [
    "with open(save_path(0), \"wb\") as fp:\n",
    "    pickle.dump(arr_changed, fp)"
   ]
  },
  {
   "cell_type": "markdown",
   "id": "812849ad-25dd-4ed2-a93a-4a7ade16f9fe",
   "metadata": {},
   "source": [
    "## Смотрим зависимости"
   ]
  },
  {
   "cell_type": "code",
   "execution_count": 10,
   "id": "7a12623a-4615-4efb-901a-2f638a4e0b76",
   "metadata": {},
   "outputs": [],
   "source": [
    "import pickle"
   ]
  },
  {
   "cell_type": "code",
   "execution_count": 11,
   "id": "5c7bcdde-7e49-4bc3-bd01-16220ba2c639",
   "metadata": {},
   "outputs": [],
   "source": [
    "def load_results(k,nobs,cot_type,think=False):\n",
    "    with open(f\"/data/home/vkropoti/sql_llm_answers/base_reasoning/sql_results_Qwen3-8B-cot_{cot_type}_think=={think}_nobs{nobs}-v{k}\", \"rb\") as fp:\n",
    "        results = np.array(pickle.load(fp))\n",
    "    return results"
   ]
  },
  {
   "cell_type": "code",
   "execution_count": 12,
   "id": "3976c0e9-fdcd-447a-8f32-fa9e70ddcde5",
   "metadata": {},
   "outputs": [],
   "source": [
    "def change_to_int(arr):\n",
    "     new_arr = []\n",
    "     for i in range(len(arr)):\n",
    "        new_arr.append(int(arr[i]))\n",
    "     return new_arr"
   ]
  },
  {
   "cell_type": "code",
   "execution_count": 35,
   "id": "b3ff7a95-4582-4ce3-983e-018c17f85958",
   "metadata": {},
   "outputs": [],
   "source": [
    "def load_k(k,nobs,cot_type,think=False):\n",
    "\n",
    "    paths_to_cot = []\n",
    "    for i in range(nobs):\n",
    "        paths_to_cot.append(f\"/data/home/vkropoti/sql_llm_answers/base_reasoning/sql_results_Qwen3-8B-reasoning-v{(k+i)%50}\",)\n",
    "\n",
    "    arr_cots = []\n",
    "    for path in paths_to_cot:\n",
    "        with open(path, \"rb\") as fp: \n",
    "            arr = np.array(pickle.load(fp))\n",
    "        arr = change_to_int(arr)\n",
    "        arr_cots.append(arr)\n",
    "    \n",
    "\n",
    "    results = load_results(k,nobs,cot_type,think)\n",
    "    results = change_to_int(results)\n",
    "    \n",
    "    return arr_cots, results"
   ]
  },
  {
   "cell_type": "code",
   "execution_count": 36,
   "id": "0d7d8783-5689-47e6-b579-d9d62496dc86",
   "metadata": {},
   "outputs": [],
   "source": [
    "import pandas as pd\n",
    "from collections import defaultdict\n",
    "import itertools\n",
    "\n",
    "def analyze_combination_dependency_pd(*base_arrays, result_array):\n",
    "    \"\"\"\n",
    "    Анализирует зависимость результирующего массива от комбинаций входных массивов\n",
    "    \n",
    "    Параметры:\n",
    "    *base_arrays: произвольное количество входных массивов\n",
    "    result_array: результирующий массив\n",
    "    \n",
    "    Возвращает:\n",
    "    DataFrame с анализом распределения результатов\n",
    "    \"\"\"\n",
    "    # Проверка согласованности длин массивов\n",
    "    lengths = [len(arr) for arr in base_arrays] + [len(result_array)]\n",
    "    if len(set(lengths)) > 1:\n",
    "        raise ValueError(\"Все массивы должны иметь одинаковую длину\")\n",
    "    \n",
    "    # Создаем словарь для подсчета комбинаций\n",
    "    counter = defaultdict(lambda: {'total': 0, '0': 0, '1': 0})\n",
    "    \n",
    "    # Собираем данные\n",
    "    for elements in zip(*base_arrays, result_array):\n",
    "        *input_comb, result = elements\n",
    "        key = tuple(input_comb)\n",
    "        counter[key]['total'] += 1\n",
    "        counter[key][str(result)] += 1\n",
    "    \n",
    "    # Создаем DataFrame\n",
    "    df = pd.DataFrame.from_dict(counter, orient='index')\n",
    "    # print(df)\n",
    "    df['Комбинация'] = df.index\n",
    "    # df.index.names = ['Комбинация']\n",
    "    df = df.reset_index()\n",
    "    \n",
    "    # Рассчитываем вероятности\n",
    "    df['prob_0'] = df['0'] / df['total']\n",
    "    df['prob_1'] = df['1'] / df['total']\n",
    "    \n",
    "    # Форматируем выходные данные\n",
    "    df = df[[\n",
    "        'Комбинация', \n",
    "        'total', \n",
    "        'prob_0', \n",
    "        'prob_1'\n",
    "    ]].rename(columns={\n",
    "        'total': 'Всего случаев',\n",
    "        'prob_0': 'Вероятность 0',\n",
    "        'prob_1': 'Вероятность 1'\n",
    "    })\n",
    "    \n",
    "    return df.sort_values('Всего случаев', ascending=False).reset_index(drop=True)\n"
   ]
  },
  {
   "cell_type": "code",
   "execution_count": 37,
   "id": "4bd17727-178f-49b7-87d0-feb0aea1fabf",
   "metadata": {},
   "outputs": [],
   "source": [
    "import pandas as pd\n",
    "import numpy as np\n",
    "\n",
    "def aggregate_tables(tables_list, method='weighted'):\n",
    "    \"\"\"\n",
    "    Агрегирует несколько таблиц с результатами в одну общую\n",
    "    \n",
    "    Параметры:\n",
    "    tables_list - список DataFrame с результатами\n",
    "    method - метод агрегации: \n",
    "        'weighted' - взвешенное среднее (по умолчанию)\n",
    "        'mean' - простое среднее\n",
    "        'full_stats' - расширенная статистика\n",
    "    \n",
    "    Возвращает:\n",
    "    Единый агрегированный DataFrame\n",
    "    \"\"\"\n",
    "    # Проверка входных данных\n",
    "    if not all([set(df.columns) == {'Комбинация', 'Всего случаев', 'Вероятность 0', 'Вероятность 1'} \n",
    "               for df in tables_list]):\n",
    "        raise ValueError(\"Все таблицы должны иметь идентичную структуру колонок\")\n",
    "    \n",
    "    # Объединение всех таблиц\n",
    "    combined = pd.concat(tables_list, ignore_index=True)\n",
    "    \n",
    "    # Группировка по комбинациям\n",
    "    grouped = combined.groupby('Комбинация')\n",
    "    \n",
    "    if method == 'weighted':\n",
    "        # Взвешенное среднее по количеству случаев\n",
    "        agg_df = grouped.apply(\n",
    "            lambda x: pd.Series({\n",
    "                'Всего случаев': x['Всего случаев'].sum(),\n",
    "                'Вероятность 0': np.average(x['Вероятность 0'], weights=x['Всего случаев']),\n",
    "                'Вероятность 1': np.average(x['Вероятность 1'], weights=x['Всего случаев'])\n",
    "            })\n",
    "        ).reset_index()\n",
    "        \n",
    "    elif method == 'mean':\n",
    "        # Простое среднее по всем экспериментам\n",
    "        agg_df = grouped.agg({\n",
    "            'Всего случаев': 'sum',\n",
    "            'Вероятность 0': 'mean',\n",
    "            'Вероятность 1': 'mean'\n",
    "        }).reset_index()\n",
    "        \n",
    "    elif method == 'full_stats':\n",
    "        # Расширенная статистика с сохранением структуры\n",
    "        agg_df = grouped.agg({\n",
    "            'Всего случаев': 'sum',\n",
    "            'Вероятность 0': ['mean', 'std', 'min', 'max'],\n",
    "            'Вероятность 1': ['mean', 'std', 'min', 'max']\n",
    "        })\n",
    "        \n",
    "        # Упрощение мультииндекса колонок\n",
    "        agg_df.columns = [\n",
    "            'Всего случаев', \n",
    "            'Вероятность 0 (mean)', 'Вероятность 0 (std)', \n",
    "            'Вероятность 0 (min)', 'Вероятность 0 (max)',\n",
    "            'Вероятность 1 (mean)', 'Вероятность 1 (std)', \n",
    "            'Вероятность 1 (min)', 'Вероятность 1 (max)'\n",
    "        ]\n",
    "        \n",
    "        agg_df = agg_df.reset_index()\n",
    "        \n",
    "    else:\n",
    "        raise ValueError(\"Допустимые методы: 'weighted', 'mean', 'full_stats'\")\n",
    "\n",
    "    # Сортировка и форматирование\n",
    "    return agg_df.sort_values('Всего случаев', ascending=False) \\\n",
    "                .reset_index(drop=True) \\\n",
    "                .round(4)\n"
   ]
  },
  {
   "cell_type": "code",
   "execution_count": 38,
   "id": "96de8862-a57f-442a-858c-bebc3d487f8c",
   "metadata": {},
   "outputs": [],
   "source": [
    "def create_table_mean(nobs,cot_type,think=False):\n",
    "    arr_tables = []\n",
    "    for i in range(50):\n",
    "        arr_cots, results = load_k(i,nobs,cot_type,think)\n",
    "        analysis = analyze_combination_dependency_pd(*arr_cots, result_array=results)\n",
    "        arr_tables.append(analysis)\n",
    "    aggregated_mean = aggregate_tables(arr_tables, method='mean')\n",
    "    print(sum(aggregated_mean['Всего случаев']*aggregated_mean['Вероятность 1'])/sum(aggregated_mean['Всего случаев']))\n",
    "    return aggregated_mean\n",
    "        "
   ]
  },
  {
   "cell_type": "code",
   "execution_count": 26,
   "id": "da60cf6d-1ed7-487f-ac40-5f30ede1c29f",
   "metadata": {},
   "outputs": [
    {
     "name": "stdout",
     "output_type": "stream",
     "text": [
      "0.53728168\n"
     ]
    },
    {
     "data": {
      "text/html": [
       "<div>\n",
       "<style scoped>\n",
       "    .dataframe tbody tr th:only-of-type {\n",
       "        vertical-align: middle;\n",
       "    }\n",
       "\n",
       "    .dataframe tbody tr th {\n",
       "        vertical-align: top;\n",
       "    }\n",
       "\n",
       "    .dataframe thead th {\n",
       "        text-align: right;\n",
       "    }\n",
       "</style>\n",
       "<table border=\"1\" class=\"dataframe\">\n",
       "  <thead>\n",
       "    <tr style=\"text-align: right;\">\n",
       "      <th></th>\n",
       "      <th>Комбинация</th>\n",
       "      <th>Всего случаев</th>\n",
       "      <th>Вероятность 0</th>\n",
       "      <th>Вероятность 1</th>\n",
       "    </tr>\n",
       "  </thead>\n",
       "  <tbody>\n",
       "    <tr>\n",
       "      <th>0</th>\n",
       "      <td>(1, 1)</td>\n",
       "      <td>11793</td>\n",
       "      <td>0.0048</td>\n",
       "      <td>0.9952</td>\n",
       "    </tr>\n",
       "    <tr>\n",
       "      <th>1</th>\n",
       "      <td>(0, 0)</td>\n",
       "      <td>10515</td>\n",
       "      <td>0.9860</td>\n",
       "      <td>0.0140</td>\n",
       "    </tr>\n",
       "    <tr>\n",
       "      <th>2</th>\n",
       "      <td>(0, 1)</td>\n",
       "      <td>1346</td>\n",
       "      <td>0.4410</td>\n",
       "      <td>0.5590</td>\n",
       "    </tr>\n",
       "    <tr>\n",
       "      <th>3</th>\n",
       "      <td>(1, 0)</td>\n",
       "      <td>1346</td>\n",
       "      <td>0.4086</td>\n",
       "      <td>0.5914</td>\n",
       "    </tr>\n",
       "  </tbody>\n",
       "</table>\n",
       "</div>"
      ],
      "text/plain": [
       "  Комбинация  Всего случаев  Вероятность 0  Вероятность 1\n",
       "0     (1, 1)          11793         0.0048         0.9952\n",
       "1     (0, 0)          10515         0.9860         0.0140\n",
       "2     (0, 1)           1346         0.4410         0.5590\n",
       "3     (1, 0)           1346         0.4086         0.5914"
      ]
     },
     "execution_count": 26,
     "metadata": {},
     "output_type": "execute_result"
    }
   ],
   "source": [
    "df = create_table_mean(2,'all_new',think=False)\n",
    "df"
   ]
  },
  {
   "cell_type": "code",
   "execution_count": 27,
   "id": "ac31b835-1651-4ae2-880c-6858d1f0f815",
   "metadata": {},
   "outputs": [
    {
     "name": "stdout",
     "output_type": "stream",
     "text": [
      "0.532759012\n"
     ]
    },
    {
     "data": {
      "text/html": [
       "<div>\n",
       "<style scoped>\n",
       "    .dataframe tbody tr th:only-of-type {\n",
       "        vertical-align: middle;\n",
       "    }\n",
       "\n",
       "    .dataframe tbody tr th {\n",
       "        vertical-align: top;\n",
       "    }\n",
       "\n",
       "    .dataframe thead th {\n",
       "        text-align: right;\n",
       "    }\n",
       "</style>\n",
       "<table border=\"1\" class=\"dataframe\">\n",
       "  <thead>\n",
       "    <tr style=\"text-align: right;\">\n",
       "      <th></th>\n",
       "      <th>Комбинация</th>\n",
       "      <th>Всего случаев</th>\n",
       "      <th>Вероятность 0</th>\n",
       "      <th>Вероятность 1</th>\n",
       "    </tr>\n",
       "  </thead>\n",
       "  <tbody>\n",
       "    <tr>\n",
       "      <th>0</th>\n",
       "      <td>(1, 1)</td>\n",
       "      <td>11793</td>\n",
       "      <td>0.0100</td>\n",
       "      <td>0.9900</td>\n",
       "    </tr>\n",
       "    <tr>\n",
       "      <th>1</th>\n",
       "      <td>(0, 0)</td>\n",
       "      <td>10515</td>\n",
       "      <td>0.9895</td>\n",
       "      <td>0.0105</td>\n",
       "    </tr>\n",
       "    <tr>\n",
       "      <th>2</th>\n",
       "      <td>(0, 1)</td>\n",
       "      <td>1346</td>\n",
       "      <td>0.3788</td>\n",
       "      <td>0.6212</td>\n",
       "    </tr>\n",
       "    <tr>\n",
       "      <th>3</th>\n",
       "      <td>(1, 0)</td>\n",
       "      <td>1346</td>\n",
       "      <td>0.4819</td>\n",
       "      <td>0.5181</td>\n",
       "    </tr>\n",
       "  </tbody>\n",
       "</table>\n",
       "</div>"
      ],
      "text/plain": [
       "  Комбинация  Всего случаев  Вероятность 0  Вероятность 1\n",
       "0     (1, 1)          11793         0.0100         0.9900\n",
       "1     (0, 0)          10515         0.9895         0.0105\n",
       "2     (0, 1)           1346         0.3788         0.6212\n",
       "3     (1, 0)           1346         0.4819         0.5181"
      ]
     },
     "execution_count": 27,
     "metadata": {},
     "output_type": "execute_result"
    }
   ],
   "source": [
    "df = create_table_mean(2,'predict',think=False)\n",
    "df"
   ]
  },
  {
   "cell_type": "code",
   "execution_count": 31,
   "id": "f5760442-1597-41b0-b56f-26ac07e14c58",
   "metadata": {},
   "outputs": [
    {
     "name": "stdout",
     "output_type": "stream",
     "text": [
      "0.538997724\n"
     ]
    },
    {
     "data": {
      "text/html": [
       "<div>\n",
       "<style scoped>\n",
       "    .dataframe tbody tr th:only-of-type {\n",
       "        vertical-align: middle;\n",
       "    }\n",
       "\n",
       "    .dataframe tbody tr th {\n",
       "        vertical-align: top;\n",
       "    }\n",
       "\n",
       "    .dataframe thead th {\n",
       "        text-align: right;\n",
       "    }\n",
       "</style>\n",
       "<table border=\"1\" class=\"dataframe\">\n",
       "  <thead>\n",
       "    <tr style=\"text-align: right;\">\n",
       "      <th></th>\n",
       "      <th>Комбинация</th>\n",
       "      <th>Всего случаев</th>\n",
       "      <th>Вероятность 0</th>\n",
       "      <th>Вероятность 1</th>\n",
       "    </tr>\n",
       "  </thead>\n",
       "  <tbody>\n",
       "    <tr>\n",
       "      <th>0</th>\n",
       "      <td>(1, 1, 1)</td>\n",
       "      <td>11025</td>\n",
       "      <td>0.0033</td>\n",
       "      <td>0.9967</td>\n",
       "    </tr>\n",
       "    <tr>\n",
       "      <th>1</th>\n",
       "      <td>(0, 0, 0)</td>\n",
       "      <td>9906</td>\n",
       "      <td>0.9905</td>\n",
       "      <td>0.0095</td>\n",
       "    </tr>\n",
       "    <tr>\n",
       "      <th>2</th>\n",
       "      <td>(1, 1, 0)</td>\n",
       "      <td>768</td>\n",
       "      <td>0.2645</td>\n",
       "      <td>0.7355</td>\n",
       "    </tr>\n",
       "    <tr>\n",
       "      <th>3</th>\n",
       "      <td>(0, 1, 1)</td>\n",
       "      <td>768</td>\n",
       "      <td>0.2830</td>\n",
       "      <td>0.7170</td>\n",
       "    </tr>\n",
       "    <tr>\n",
       "      <th>4</th>\n",
       "      <td>(1, 0, 1)</td>\n",
       "      <td>737</td>\n",
       "      <td>0.1460</td>\n",
       "      <td>0.8540</td>\n",
       "    </tr>\n",
       "    <tr>\n",
       "      <th>5</th>\n",
       "      <td>(0, 0, 1)</td>\n",
       "      <td>609</td>\n",
       "      <td>0.5544</td>\n",
       "      <td>0.4456</td>\n",
       "    </tr>\n",
       "    <tr>\n",
       "      <th>6</th>\n",
       "      <td>(1, 0, 0)</td>\n",
       "      <td>609</td>\n",
       "      <td>0.6234</td>\n",
       "      <td>0.3766</td>\n",
       "    </tr>\n",
       "    <tr>\n",
       "      <th>7</th>\n",
       "      <td>(0, 1, 0)</td>\n",
       "      <td>578</td>\n",
       "      <td>0.7464</td>\n",
       "      <td>0.2536</td>\n",
       "    </tr>\n",
       "  </tbody>\n",
       "</table>\n",
       "</div>"
      ],
      "text/plain": [
       "  Комбинация  Всего случаев  Вероятность 0  Вероятность 1\n",
       "0  (1, 1, 1)          11025         0.0033         0.9967\n",
       "1  (0, 0, 0)           9906         0.9905         0.0095\n",
       "2  (1, 1, 0)            768         0.2645         0.7355\n",
       "3  (0, 1, 1)            768         0.2830         0.7170\n",
       "4  (1, 0, 1)            737         0.1460         0.8540\n",
       "5  (0, 0, 1)            609         0.5544         0.4456\n",
       "6  (1, 0, 0)            609         0.6234         0.3766\n",
       "7  (0, 1, 0)            578         0.7464         0.2536"
      ]
     },
     "execution_count": 31,
     "metadata": {},
     "output_type": "execute_result"
    }
   ],
   "source": [
    "df = create_table_mean(3,'all_new',think=False)\n",
    "df"
   ]
  },
  {
   "cell_type": "code",
   "execution_count": 32,
   "id": "d59bdc98-384d-4e83-bb19-76d58b5091a5",
   "metadata": {},
   "outputs": [
    {
     "name": "stdout",
     "output_type": "stream",
     "text": [
      "0.5391951519999999\n"
     ]
    },
    {
     "data": {
      "text/html": [
       "<div>\n",
       "<style scoped>\n",
       "    .dataframe tbody tr th:only-of-type {\n",
       "        vertical-align: middle;\n",
       "    }\n",
       "\n",
       "    .dataframe tbody tr th {\n",
       "        vertical-align: top;\n",
       "    }\n",
       "\n",
       "    .dataframe thead th {\n",
       "        text-align: right;\n",
       "    }\n",
       "</style>\n",
       "<table border=\"1\" class=\"dataframe\">\n",
       "  <thead>\n",
       "    <tr style=\"text-align: right;\">\n",
       "      <th></th>\n",
       "      <th>Комбинация</th>\n",
       "      <th>Всего случаев</th>\n",
       "      <th>Вероятность 0</th>\n",
       "      <th>Вероятность 1</th>\n",
       "    </tr>\n",
       "  </thead>\n",
       "  <tbody>\n",
       "    <tr>\n",
       "      <th>0</th>\n",
       "      <td>(1, 1, 1)</td>\n",
       "      <td>11025</td>\n",
       "      <td>0.0080</td>\n",
       "      <td>0.9920</td>\n",
       "    </tr>\n",
       "    <tr>\n",
       "      <th>1</th>\n",
       "      <td>(0, 0, 0)</td>\n",
       "      <td>9906</td>\n",
       "      <td>0.9939</td>\n",
       "      <td>0.0061</td>\n",
       "    </tr>\n",
       "    <tr>\n",
       "      <th>2</th>\n",
       "      <td>(1, 1, 0)</td>\n",
       "      <td>768</td>\n",
       "      <td>0.2087</td>\n",
       "      <td>0.7913</td>\n",
       "    </tr>\n",
       "    <tr>\n",
       "      <th>3</th>\n",
       "      <td>(0, 1, 1)</td>\n",
       "      <td>768</td>\n",
       "      <td>0.1538</td>\n",
       "      <td>0.8462</td>\n",
       "    </tr>\n",
       "    <tr>\n",
       "      <th>4</th>\n",
       "      <td>(1, 0, 1)</td>\n",
       "      <td>737</td>\n",
       "      <td>0.2170</td>\n",
       "      <td>0.7830</td>\n",
       "    </tr>\n",
       "    <tr>\n",
       "      <th>5</th>\n",
       "      <td>(0, 0, 1)</td>\n",
       "      <td>609</td>\n",
       "      <td>0.6098</td>\n",
       "      <td>0.3902</td>\n",
       "    </tr>\n",
       "    <tr>\n",
       "      <th>6</th>\n",
       "      <td>(1, 0, 0)</td>\n",
       "      <td>609</td>\n",
       "      <td>0.6430</td>\n",
       "      <td>0.3570</td>\n",
       "    </tr>\n",
       "    <tr>\n",
       "      <th>7</th>\n",
       "      <td>(0, 1, 0)</td>\n",
       "      <td>578</td>\n",
       "      <td>0.6662</td>\n",
       "      <td>0.3338</td>\n",
       "    </tr>\n",
       "  </tbody>\n",
       "</table>\n",
       "</div>"
      ],
      "text/plain": [
       "  Комбинация  Всего случаев  Вероятность 0  Вероятность 1\n",
       "0  (1, 1, 1)          11025         0.0080         0.9920\n",
       "1  (0, 0, 0)           9906         0.9939         0.0061\n",
       "2  (1, 1, 0)            768         0.2087         0.7913\n",
       "3  (0, 1, 1)            768         0.1538         0.8462\n",
       "4  (1, 0, 1)            737         0.2170         0.7830\n",
       "5  (0, 0, 1)            609         0.6098         0.3902\n",
       "6  (1, 0, 0)            609         0.6430         0.3570\n",
       "7  (0, 1, 0)            578         0.6662         0.3338"
      ]
     },
     "execution_count": 32,
     "metadata": {},
     "output_type": "execute_result"
    }
   ],
   "source": [
    "df = create_table_mean(3,'predict',think=False)\n",
    "df"
   ]
  },
  {
   "cell_type": "code",
   "execution_count": 41,
   "id": "830a7225-1849-4131-8769-ef1e38131cd3",
   "metadata": {},
   "outputs": [
    {
     "name": "stdout",
     "output_type": "stream",
     "text": [
      "0.537996032\n"
     ]
    },
    {
     "data": {
      "text/html": [
       "<div>\n",
       "<style scoped>\n",
       "    .dataframe tbody tr th:only-of-type {\n",
       "        vertical-align: middle;\n",
       "    }\n",
       "\n",
       "    .dataframe tbody tr th {\n",
       "        vertical-align: top;\n",
       "    }\n",
       "\n",
       "    .dataframe thead th {\n",
       "        text-align: right;\n",
       "    }\n",
       "</style>\n",
       "<table border=\"1\" class=\"dataframe\">\n",
       "  <thead>\n",
       "    <tr style=\"text-align: right;\">\n",
       "      <th></th>\n",
       "      <th>Комбинация</th>\n",
       "      <th>Всего случаев</th>\n",
       "      <th>Вероятность 0</th>\n",
       "      <th>Вероятность 1</th>\n",
       "    </tr>\n",
       "  </thead>\n",
       "  <tbody>\n",
       "    <tr>\n",
       "      <th>0</th>\n",
       "      <td>(1, 1, 1, 1)</td>\n",
       "      <td>10482</td>\n",
       "      <td>0.0041</td>\n",
       "      <td>0.9959</td>\n",
       "    </tr>\n",
       "    <tr>\n",
       "      <th>1</th>\n",
       "      <td>(0, 0, 0, 0)</td>\n",
       "      <td>9521</td>\n",
       "      <td>0.9927</td>\n",
       "      <td>0.0073</td>\n",
       "    </tr>\n",
       "    <tr>\n",
       "      <th>2</th>\n",
       "      <td>(1, 1, 1, 0)</td>\n",
       "      <td>543</td>\n",
       "      <td>0.1944</td>\n",
       "      <td>0.8056</td>\n",
       "    </tr>\n",
       "    <tr>\n",
       "      <th>3</th>\n",
       "      <td>(0, 1, 1, 1)</td>\n",
       "      <td>543</td>\n",
       "      <td>0.2150</td>\n",
       "      <td>0.7850</td>\n",
       "    </tr>\n",
       "    <tr>\n",
       "      <th>4</th>\n",
       "      <td>(1, 0, 1, 1)</td>\n",
       "      <td>533</td>\n",
       "      <td>0.1058</td>\n",
       "      <td>0.8942</td>\n",
       "    </tr>\n",
       "    <tr>\n",
       "      <th>5</th>\n",
       "      <td>(1, 1, 0, 1)</td>\n",
       "      <td>519</td>\n",
       "      <td>0.1196</td>\n",
       "      <td>0.8804</td>\n",
       "    </tr>\n",
       "    <tr>\n",
       "      <th>6</th>\n",
       "      <td>(0, 0, 0, 1)</td>\n",
       "      <td>385</td>\n",
       "      <td>0.6645</td>\n",
       "      <td>0.3355</td>\n",
       "    </tr>\n",
       "    <tr>\n",
       "      <th>7</th>\n",
       "      <td>(1, 0, 0, 0)</td>\n",
       "      <td>385</td>\n",
       "      <td>0.7194</td>\n",
       "      <td>0.2806</td>\n",
       "    </tr>\n",
       "    <tr>\n",
       "      <th>8</th>\n",
       "      <td>(0, 0, 1, 0)</td>\n",
       "      <td>374</td>\n",
       "      <td>0.8253</td>\n",
       "      <td>0.1747</td>\n",
       "    </tr>\n",
       "    <tr>\n",
       "      <th>9</th>\n",
       "      <td>(0, 1, 0, 0)</td>\n",
       "      <td>360</td>\n",
       "      <td>0.8516</td>\n",
       "      <td>0.1484</td>\n",
       "    </tr>\n",
       "    <tr>\n",
       "      <th>10</th>\n",
       "      <td>(1, 1, 0, 0)</td>\n",
       "      <td>249</td>\n",
       "      <td>0.4186</td>\n",
       "      <td>0.5814</td>\n",
       "    </tr>\n",
       "    <tr>\n",
       "      <th>11</th>\n",
       "      <td>(0, 0, 1, 1)</td>\n",
       "      <td>235</td>\n",
       "      <td>0.3919</td>\n",
       "      <td>0.6081</td>\n",
       "    </tr>\n",
       "    <tr>\n",
       "      <th>12</th>\n",
       "      <td>(0, 1, 1, 0)</td>\n",
       "      <td>225</td>\n",
       "      <td>0.5793</td>\n",
       "      <td>0.4207</td>\n",
       "    </tr>\n",
       "    <tr>\n",
       "      <th>13</th>\n",
       "      <td>(1, 0, 0, 1)</td>\n",
       "      <td>224</td>\n",
       "      <td>0.2471</td>\n",
       "      <td>0.7529</td>\n",
       "    </tr>\n",
       "    <tr>\n",
       "      <th>14</th>\n",
       "      <td>(0, 1, 0, 1)</td>\n",
       "      <td>218</td>\n",
       "      <td>0.4615</td>\n",
       "      <td>0.5385</td>\n",
       "    </tr>\n",
       "    <tr>\n",
       "      <th>15</th>\n",
       "      <td>(1, 0, 1, 0)</td>\n",
       "      <td>204</td>\n",
       "      <td>0.4127</td>\n",
       "      <td>0.5873</td>\n",
       "    </tr>\n",
       "  </tbody>\n",
       "</table>\n",
       "</div>"
      ],
      "text/plain": [
       "      Комбинация  Всего случаев  Вероятность 0  Вероятность 1\n",
       "0   (1, 1, 1, 1)          10482         0.0041         0.9959\n",
       "1   (0, 0, 0, 0)           9521         0.9927         0.0073\n",
       "2   (1, 1, 1, 0)            543         0.1944         0.8056\n",
       "3   (0, 1, 1, 1)            543         0.2150         0.7850\n",
       "4   (1, 0, 1, 1)            533         0.1058         0.8942\n",
       "5   (1, 1, 0, 1)            519         0.1196         0.8804\n",
       "6   (0, 0, 0, 1)            385         0.6645         0.3355\n",
       "7   (1, 0, 0, 0)            385         0.7194         0.2806\n",
       "8   (0, 0, 1, 0)            374         0.8253         0.1747\n",
       "9   (0, 1, 0, 0)            360         0.8516         0.1484\n",
       "10  (1, 1, 0, 0)            249         0.4186         0.5814\n",
       "11  (0, 0, 1, 1)            235         0.3919         0.6081\n",
       "12  (0, 1, 1, 0)            225         0.5793         0.4207\n",
       "13  (1, 0, 0, 1)            224         0.2471         0.7529\n",
       "14  (0, 1, 0, 1)            218         0.4615         0.5385\n",
       "15  (1, 0, 1, 0)            204         0.4127         0.5873"
      ]
     },
     "execution_count": 41,
     "metadata": {},
     "output_type": "execute_result"
    }
   ],
   "source": [
    "df = create_table_mean(4,'all_new',think=False)\n",
    "df"
   ]
  },
  {
   "cell_type": "code",
   "execution_count": 42,
   "id": "fccd03d6-864e-44e0-9562-af420389647c",
   "metadata": {},
   "outputs": [
    {
     "name": "stdout",
     "output_type": "stream",
     "text": [
      "0.540190796\n"
     ]
    },
    {
     "data": {
      "text/html": [
       "<div>\n",
       "<style scoped>\n",
       "    .dataframe tbody tr th:only-of-type {\n",
       "        vertical-align: middle;\n",
       "    }\n",
       "\n",
       "    .dataframe tbody tr th {\n",
       "        vertical-align: top;\n",
       "    }\n",
       "\n",
       "    .dataframe thead th {\n",
       "        text-align: right;\n",
       "    }\n",
       "</style>\n",
       "<table border=\"1\" class=\"dataframe\">\n",
       "  <thead>\n",
       "    <tr style=\"text-align: right;\">\n",
       "      <th></th>\n",
       "      <th>Комбинация</th>\n",
       "      <th>Всего случаев</th>\n",
       "      <th>Вероятность 0</th>\n",
       "      <th>Вероятность 1</th>\n",
       "    </tr>\n",
       "  </thead>\n",
       "  <tbody>\n",
       "    <tr>\n",
       "      <th>0</th>\n",
       "      <td>(1, 1, 1, 1)</td>\n",
       "      <td>10482</td>\n",
       "      <td>0.0074</td>\n",
       "      <td>0.9926</td>\n",
       "    </tr>\n",
       "    <tr>\n",
       "      <th>1</th>\n",
       "      <td>(0, 0, 0, 0)</td>\n",
       "      <td>9521</td>\n",
       "      <td>0.9955</td>\n",
       "      <td>0.0045</td>\n",
       "    </tr>\n",
       "    <tr>\n",
       "      <th>2</th>\n",
       "      <td>(1, 1, 1, 0)</td>\n",
       "      <td>543</td>\n",
       "      <td>0.1554</td>\n",
       "      <td>0.8446</td>\n",
       "    </tr>\n",
       "    <tr>\n",
       "      <th>3</th>\n",
       "      <td>(0, 1, 1, 1)</td>\n",
       "      <td>543</td>\n",
       "      <td>0.1240</td>\n",
       "      <td>0.8760</td>\n",
       "    </tr>\n",
       "    <tr>\n",
       "      <th>4</th>\n",
       "      <td>(1, 0, 1, 1)</td>\n",
       "      <td>533</td>\n",
       "      <td>0.1192</td>\n",
       "      <td>0.8808</td>\n",
       "    </tr>\n",
       "    <tr>\n",
       "      <th>5</th>\n",
       "      <td>(1, 1, 0, 1)</td>\n",
       "      <td>519</td>\n",
       "      <td>0.1060</td>\n",
       "      <td>0.8940</td>\n",
       "    </tr>\n",
       "    <tr>\n",
       "      <th>6</th>\n",
       "      <td>(0, 0, 0, 1)</td>\n",
       "      <td>385</td>\n",
       "      <td>0.6956</td>\n",
       "      <td>0.3044</td>\n",
       "    </tr>\n",
       "    <tr>\n",
       "      <th>7</th>\n",
       "      <td>(1, 0, 0, 0)</td>\n",
       "      <td>385</td>\n",
       "      <td>0.7851</td>\n",
       "      <td>0.2149</td>\n",
       "    </tr>\n",
       "    <tr>\n",
       "      <th>8</th>\n",
       "      <td>(0, 0, 1, 0)</td>\n",
       "      <td>374</td>\n",
       "      <td>0.8032</td>\n",
       "      <td>0.1968</td>\n",
       "    </tr>\n",
       "    <tr>\n",
       "      <th>9</th>\n",
       "      <td>(0, 1, 0, 0)</td>\n",
       "      <td>360</td>\n",
       "      <td>0.7934</td>\n",
       "      <td>0.2066</td>\n",
       "    </tr>\n",
       "    <tr>\n",
       "      <th>10</th>\n",
       "      <td>(1, 1, 0, 0)</td>\n",
       "      <td>249</td>\n",
       "      <td>0.4097</td>\n",
       "      <td>0.5903</td>\n",
       "    </tr>\n",
       "    <tr>\n",
       "      <th>11</th>\n",
       "      <td>(0, 0, 1, 1)</td>\n",
       "      <td>235</td>\n",
       "      <td>0.3062</td>\n",
       "      <td>0.6938</td>\n",
       "    </tr>\n",
       "    <tr>\n",
       "      <th>12</th>\n",
       "      <td>(0, 1, 1, 0)</td>\n",
       "      <td>225</td>\n",
       "      <td>0.3346</td>\n",
       "      <td>0.6654</td>\n",
       "    </tr>\n",
       "    <tr>\n",
       "      <th>13</th>\n",
       "      <td>(1, 0, 0, 1)</td>\n",
       "      <td>224</td>\n",
       "      <td>0.3830</td>\n",
       "      <td>0.6170</td>\n",
       "    </tr>\n",
       "    <tr>\n",
       "      <th>14</th>\n",
       "      <td>(0, 1, 0, 1)</td>\n",
       "      <td>218</td>\n",
       "      <td>0.3726</td>\n",
       "      <td>0.6274</td>\n",
       "    </tr>\n",
       "    <tr>\n",
       "      <th>15</th>\n",
       "      <td>(1, 0, 1, 0)</td>\n",
       "      <td>204</td>\n",
       "      <td>0.4749</td>\n",
       "      <td>0.5251</td>\n",
       "    </tr>\n",
       "  </tbody>\n",
       "</table>\n",
       "</div>"
      ],
      "text/plain": [
       "      Комбинация  Всего случаев  Вероятность 0  Вероятность 1\n",
       "0   (1, 1, 1, 1)          10482         0.0074         0.9926\n",
       "1   (0, 0, 0, 0)           9521         0.9955         0.0045\n",
       "2   (1, 1, 1, 0)            543         0.1554         0.8446\n",
       "3   (0, 1, 1, 1)            543         0.1240         0.8760\n",
       "4   (1, 0, 1, 1)            533         0.1192         0.8808\n",
       "5   (1, 1, 0, 1)            519         0.1060         0.8940\n",
       "6   (0, 0, 0, 1)            385         0.6956         0.3044\n",
       "7   (1, 0, 0, 0)            385         0.7851         0.2149\n",
       "8   (0, 0, 1, 0)            374         0.8032         0.1968\n",
       "9   (0, 1, 0, 0)            360         0.7934         0.2066\n",
       "10  (1, 1, 0, 0)            249         0.4097         0.5903\n",
       "11  (0, 0, 1, 1)            235         0.3062         0.6938\n",
       "12  (0, 1, 1, 0)            225         0.3346         0.6654\n",
       "13  (1, 0, 0, 1)            224         0.3830         0.6170\n",
       "14  (0, 1, 0, 1)            218         0.3726         0.6274\n",
       "15  (1, 0, 1, 0)            204         0.4749         0.5251"
      ]
     },
     "execution_count": 42,
     "metadata": {},
     "output_type": "execute_result"
    }
   ],
   "source": [
    "df = create_table_mean(4,'predict',think=False)\n",
    "df"
   ]
  },
  {
   "cell_type": "code",
   "execution_count": null,
   "id": "7915377c-f286-43c2-9953-a5dbe22240a3",
   "metadata": {},
   "outputs": [],
   "source": []
  },
  {
   "cell_type": "code",
   "execution_count": null,
   "id": "824fe033-0830-429c-876b-c4f3e7f68222",
   "metadata": {},
   "outputs": [],
   "source": []
  },
  {
   "cell_type": "code",
   "execution_count": 25,
   "id": "1cffb109-e798-46ac-bb95-ba5242db6a1f",
   "metadata": {},
   "outputs": [
    {
     "data": {
      "text/html": [
       "<div>\n",
       "<style scoped>\n",
       "    .dataframe tbody tr th:only-of-type {\n",
       "        vertical-align: middle;\n",
       "    }\n",
       "\n",
       "    .dataframe tbody tr th {\n",
       "        vertical-align: top;\n",
       "    }\n",
       "\n",
       "    .dataframe thead th {\n",
       "        text-align: right;\n",
       "    }\n",
       "</style>\n",
       "<table border=\"1\" class=\"dataframe\">\n",
       "  <thead>\n",
       "    <tr style=\"text-align: right;\">\n",
       "      <th></th>\n",
       "      <th>Комбинация</th>\n",
       "      <th>Всего случаев</th>\n",
       "      <th>Вероятность 0</th>\n",
       "      <th>Вероятность 1</th>\n",
       "    </tr>\n",
       "  </thead>\n",
       "  <tbody>\n",
       "    <tr>\n",
       "      <th>0</th>\n",
       "      <td>(1, 1)</td>\n",
       "      <td>11793</td>\n",
       "      <td>0.0048</td>\n",
       "      <td>0.9952</td>\n",
       "    </tr>\n",
       "    <tr>\n",
       "      <th>1</th>\n",
       "      <td>(0, 0)</td>\n",
       "      <td>10515</td>\n",
       "      <td>0.9860</td>\n",
       "      <td>0.0140</td>\n",
       "    </tr>\n",
       "    <tr>\n",
       "      <th>2</th>\n",
       "      <td>(0, 1)</td>\n",
       "      <td>1346</td>\n",
       "      <td>0.4410</td>\n",
       "      <td>0.5590</td>\n",
       "    </tr>\n",
       "    <tr>\n",
       "      <th>3</th>\n",
       "      <td>(1, 0)</td>\n",
       "      <td>1346</td>\n",
       "      <td>0.4086</td>\n",
       "      <td>0.5914</td>\n",
       "    </tr>\n",
       "  </tbody>\n",
       "</table>\n",
       "</div>"
      ],
      "text/plain": [
       "  Комбинация  Всего случаев  Вероятность 0  Вероятность 1\n",
       "0     (1, 1)          11793         0.0048         0.9952\n",
       "1     (0, 0)          10515         0.9860         0.0140\n",
       "2     (0, 1)           1346         0.4410         0.5590\n",
       "3     (1, 0)           1346         0.4086         0.5914"
      ]
     },
     "execution_count": 25,
     "metadata": {},
     "output_type": "execute_result"
    }
   ],
   "source": [
    "df"
   ]
  },
  {
   "cell_type": "code",
   "execution_count": 285,
   "id": "8ec3b196-6add-4b5e-8656-029281958403",
   "metadata": {},
   "outputs": [],
   "source": [
    "arr_tables_3 = []\n",
    "for i in range(20):\n",
    "    arr1, arr2, arr3, arr4, arr_with3, arr_with2, arr_with3_qwen = load_k(i,False)\n",
    "    analysis = analyze_combination_dependency_pd(arr1, arr2, arr3, result_array=arr_with3)\n",
    "    arr_tables_3.append(analysis)"
   ]
  },
  {
   "cell_type": "code",
   "execution_count": 286,
   "id": "b8af2b61-d8db-4f8c-8064-b5fd751e7773",
   "metadata": {},
   "outputs": [],
   "source": [
    "aggregated_mean_3 = aggregate_tables(arr_tables_3, method='mean')"
   ]
  },
  {
   "cell_type": "code",
   "execution_count": 287,
   "id": "657a1d1a-6db9-4932-a022-eef854e9dba5",
   "metadata": {},
   "outputs": [
    {
     "data": {
      "text/html": [
       "<div>\n",
       "<style scoped>\n",
       "    .dataframe tbody tr th:only-of-type {\n",
       "        vertical-align: middle;\n",
       "    }\n",
       "\n",
       "    .dataframe tbody tr th {\n",
       "        vertical-align: top;\n",
       "    }\n",
       "\n",
       "    .dataframe thead th {\n",
       "        text-align: right;\n",
       "    }\n",
       "</style>\n",
       "<table border=\"1\" class=\"dataframe\">\n",
       "  <thead>\n",
       "    <tr style=\"text-align: right;\">\n",
       "      <th></th>\n",
       "      <th>Комбинация</th>\n",
       "      <th>Всего случаев</th>\n",
       "      <th>Вероятность 0</th>\n",
       "      <th>Вероятность 1</th>\n",
       "    </tr>\n",
       "  </thead>\n",
       "  <tbody>\n",
       "    <tr>\n",
       "      <th>0</th>\n",
       "      <td>(0, 0, 0)</td>\n",
       "      <td>3945</td>\n",
       "      <td>0.9835</td>\n",
       "      <td>0.0165</td>\n",
       "    </tr>\n",
       "    <tr>\n",
       "      <th>1</th>\n",
       "      <td>(1, 1, 1)</td>\n",
       "      <td>2722</td>\n",
       "      <td>0.0030</td>\n",
       "      <td>0.9970</td>\n",
       "    </tr>\n",
       "    <tr>\n",
       "      <th>2</th>\n",
       "      <td>(1, 0, 1)</td>\n",
       "      <td>2013</td>\n",
       "      <td>0.0774</td>\n",
       "      <td>0.9226</td>\n",
       "    </tr>\n",
       "    <tr>\n",
       "      <th>3</th>\n",
       "      <td>(1, 0, 0)</td>\n",
       "      <td>399</td>\n",
       "      <td>0.5720</td>\n",
       "      <td>0.4280</td>\n",
       "    </tr>\n",
       "    <tr>\n",
       "      <th>4</th>\n",
       "      <td>(0, 0, 1)</td>\n",
       "      <td>393</td>\n",
       "      <td>0.3840</td>\n",
       "      <td>0.6160</td>\n",
       "    </tr>\n",
       "    <tr>\n",
       "      <th>5</th>\n",
       "      <td>(0, 1, 0)</td>\n",
       "      <td>240</td>\n",
       "      <td>0.7588</td>\n",
       "      <td>0.2412</td>\n",
       "    </tr>\n",
       "    <tr>\n",
       "      <th>6</th>\n",
       "      <td>(0, 1, 1)</td>\n",
       "      <td>147</td>\n",
       "      <td>0.2320</td>\n",
       "      <td>0.7680</td>\n",
       "    </tr>\n",
       "    <tr>\n",
       "      <th>7</th>\n",
       "      <td>(1, 1, 0)</td>\n",
       "      <td>141</td>\n",
       "      <td>0.2810</td>\n",
       "      <td>0.7190</td>\n",
       "    </tr>\n",
       "  </tbody>\n",
       "</table>\n",
       "</div>"
      ],
      "text/plain": [
       "  Комбинация  Всего случаев  Вероятность 0  Вероятность 1\n",
       "0  (0, 0, 0)           3945         0.9835         0.0165\n",
       "1  (1, 1, 1)           2722         0.0030         0.9970\n",
       "2  (1, 0, 1)           2013         0.0774         0.9226\n",
       "3  (1, 0, 0)            399         0.5720         0.4280\n",
       "4  (0, 0, 1)            393         0.3840         0.6160\n",
       "5  (0, 1, 0)            240         0.7588         0.2412\n",
       "6  (0, 1, 1)            147         0.2320         0.7680\n",
       "7  (1, 1, 0)            141         0.2810         0.7190"
      ]
     },
     "execution_count": 287,
     "metadata": {},
     "output_type": "execute_result"
    }
   ],
   "source": [
    "aggregated_mean_3"
   ]
  },
  {
   "cell_type": "code",
   "execution_count": 292,
   "id": "d3b98cd3-30a9-44d9-aa18-d56de108a61a",
   "metadata": {},
   "outputs": [],
   "source": [
    "arr_tables_2 = []\n",
    "for i in range(20):\n",
    "    arr1, arr2, arr3, arr4, arr_with3, arr_with2, arr_with3_qwen = load_k(i,False)\n",
    "    analysis = analyze_combination_dependency_pd(arr1, arr3, arr4, result_array=arr_with2)\n",
    "    arr_tables_2.append(analysis)"
   ]
  },
  {
   "cell_type": "code",
   "execution_count": 298,
   "id": "c3c672b2-7111-467c-a869-46157d5082a7",
   "metadata": {},
   "outputs": [
    {
     "name": "stdout",
     "output_type": "stream",
     "text": [
      "0.5346701500000001\n"
     ]
    },
    {
     "data": {
      "text/html": [
       "<div>\n",
       "<style scoped>\n",
       "    .dataframe tbody tr th:only-of-type {\n",
       "        vertical-align: middle;\n",
       "    }\n",
       "\n",
       "    .dataframe tbody tr th {\n",
       "        vertical-align: top;\n",
       "    }\n",
       "\n",
       "    .dataframe thead th {\n",
       "        text-align: right;\n",
       "    }\n",
       "</style>\n",
       "<table border=\"1\" class=\"dataframe\">\n",
       "  <thead>\n",
       "    <tr style=\"text-align: right;\">\n",
       "      <th></th>\n",
       "      <th>Комбинация</th>\n",
       "      <th>Всего случаев</th>\n",
       "      <th>Вероятность 0</th>\n",
       "      <th>Вероятность 1</th>\n",
       "    </tr>\n",
       "  </thead>\n",
       "  <tbody>\n",
       "    <tr>\n",
       "      <th>0</th>\n",
       "      <td>(1, 1, 1)</td>\n",
       "      <td>4430</td>\n",
       "      <td>0.0043</td>\n",
       "      <td>0.9957</td>\n",
       "    </tr>\n",
       "    <tr>\n",
       "      <th>1</th>\n",
       "      <td>(0, 0, 0)</td>\n",
       "      <td>3942</td>\n",
       "      <td>0.9919</td>\n",
       "      <td>0.0081</td>\n",
       "    </tr>\n",
       "    <tr>\n",
       "      <th>2</th>\n",
       "      <td>(1, 1, 0)</td>\n",
       "      <td>305</td>\n",
       "      <td>0.0119</td>\n",
       "      <td>0.9881</td>\n",
       "    </tr>\n",
       "    <tr>\n",
       "      <th>3</th>\n",
       "      <td>(0, 1, 1)</td>\n",
       "      <td>305</td>\n",
       "      <td>0.3252</td>\n",
       "      <td>0.6748</td>\n",
       "    </tr>\n",
       "    <tr>\n",
       "      <th>4</th>\n",
       "      <td>(1, 0, 1)</td>\n",
       "      <td>297</td>\n",
       "      <td>0.5248</td>\n",
       "      <td>0.4752</td>\n",
       "    </tr>\n",
       "    <tr>\n",
       "      <th>5</th>\n",
       "      <td>(0, 0, 1)</td>\n",
       "      <td>243</td>\n",
       "      <td>0.9361</td>\n",
       "      <td>0.0639</td>\n",
       "    </tr>\n",
       "    <tr>\n",
       "      <th>6</th>\n",
       "      <td>(1, 0, 0)</td>\n",
       "      <td>243</td>\n",
       "      <td>0.6221</td>\n",
       "      <td>0.3779</td>\n",
       "    </tr>\n",
       "    <tr>\n",
       "      <th>7</th>\n",
       "      <td>(0, 1, 0)</td>\n",
       "      <td>235</td>\n",
       "      <td>0.3696</td>\n",
       "      <td>0.6304</td>\n",
       "    </tr>\n",
       "  </tbody>\n",
       "</table>\n",
       "</div>"
      ],
      "text/plain": [
       "  Комбинация  Всего случаев  Вероятность 0  Вероятность 1\n",
       "0  (1, 1, 1)           4430         0.0043         0.9957\n",
       "1  (0, 0, 0)           3942         0.9919         0.0081\n",
       "2  (1, 1, 0)            305         0.0119         0.9881\n",
       "3  (0, 1, 1)            305         0.3252         0.6748\n",
       "4  (1, 0, 1)            297         0.5248         0.4752\n",
       "5  (0, 0, 1)            243         0.9361         0.0639\n",
       "6  (1, 0, 0)            243         0.6221         0.3779\n",
       "7  (0, 1, 0)            235         0.3696         0.6304"
      ]
     },
     "execution_count": 298,
     "metadata": {},
     "output_type": "execute_result"
    }
   ],
   "source": [
    "aggregated_mean_2 = aggregate_tables(arr_tables_2, method='mean')\n",
    "print(sum(aggregated_mean_2['Всего случаев']*aggregated_mean_2['Вероятность 1'])/sum(aggregated_mean_2['Всего случаев']))\n",
    "aggregated_mean_2"
   ]
  },
  {
   "cell_type": "code",
   "execution_count": 294,
   "id": "87794d47-cd5b-4924-9089-40548e65ab8a",
   "metadata": {},
   "outputs": [],
   "source": [
    "arr_tables_3_qwen = []\n",
    "for i in range(20):\n",
    "    arr1, arr2, arr3, arr4, arr_with3, arr_with2, arr_with3_qwen = load_k(i,False)\n",
    "    analysis = analyze_combination_dependency_pd(arr1, arr3, arr4, result_array=arr_with3_qwen)\n",
    "    arr_tables_3_qwen.append(analysis)"
   ]
  },
  {
   "cell_type": "code",
   "execution_count": 300,
   "id": "1cc698f6-e7bd-4045-9af1-a8cfa4c64918",
   "metadata": {},
   "outputs": [
    {
     "name": "stdout",
     "output_type": "stream",
     "text": [
      "0.53516845\n"
     ]
    },
    {
     "data": {
      "text/html": [
       "<div>\n",
       "<style scoped>\n",
       "    .dataframe tbody tr th:only-of-type {\n",
       "        vertical-align: middle;\n",
       "    }\n",
       "\n",
       "    .dataframe tbody tr th {\n",
       "        vertical-align: top;\n",
       "    }\n",
       "\n",
       "    .dataframe thead th {\n",
       "        text-align: right;\n",
       "    }\n",
       "</style>\n",
       "<table border=\"1\" class=\"dataframe\">\n",
       "  <thead>\n",
       "    <tr style=\"text-align: right;\">\n",
       "      <th></th>\n",
       "      <th>Комбинация</th>\n",
       "      <th>Всего случаев</th>\n",
       "      <th>Вероятность 0</th>\n",
       "      <th>Вероятность 1</th>\n",
       "    </tr>\n",
       "  </thead>\n",
       "  <tbody>\n",
       "    <tr>\n",
       "      <th>0</th>\n",
       "      <td>(1, 1, 1)</td>\n",
       "      <td>4430</td>\n",
       "      <td>0.0050</td>\n",
       "      <td>0.9950</td>\n",
       "    </tr>\n",
       "    <tr>\n",
       "      <th>1</th>\n",
       "      <td>(0, 0, 0)</td>\n",
       "      <td>3942</td>\n",
       "      <td>0.9932</td>\n",
       "      <td>0.0068</td>\n",
       "    </tr>\n",
       "    <tr>\n",
       "      <th>2</th>\n",
       "      <td>(1, 1, 0)</td>\n",
       "      <td>305</td>\n",
       "      <td>0.4592</td>\n",
       "      <td>0.5408</td>\n",
       "    </tr>\n",
       "    <tr>\n",
       "      <th>3</th>\n",
       "      <td>(0, 1, 1)</td>\n",
       "      <td>305</td>\n",
       "      <td>0.2055</td>\n",
       "      <td>0.7945</td>\n",
       "    </tr>\n",
       "    <tr>\n",
       "      <th>4</th>\n",
       "      <td>(1, 0, 1)</td>\n",
       "      <td>297</td>\n",
       "      <td>0.1314</td>\n",
       "      <td>0.8686</td>\n",
       "    </tr>\n",
       "    <tr>\n",
       "      <th>5</th>\n",
       "      <td>(0, 0, 1)</td>\n",
       "      <td>243</td>\n",
       "      <td>0.4202</td>\n",
       "      <td>0.5798</td>\n",
       "    </tr>\n",
       "    <tr>\n",
       "      <th>6</th>\n",
       "      <td>(1, 0, 0)</td>\n",
       "      <td>243</td>\n",
       "      <td>0.7444</td>\n",
       "      <td>0.2556</td>\n",
       "    </tr>\n",
       "    <tr>\n",
       "      <th>7</th>\n",
       "      <td>(0, 1, 0)</td>\n",
       "      <td>235</td>\n",
       "      <td>0.7924</td>\n",
       "      <td>0.2076</td>\n",
       "    </tr>\n",
       "  </tbody>\n",
       "</table>\n",
       "</div>"
      ],
      "text/plain": [
       "  Комбинация  Всего случаев  Вероятность 0  Вероятность 1\n",
       "0  (1, 1, 1)           4430         0.0050         0.9950\n",
       "1  (0, 0, 0)           3942         0.9932         0.0068\n",
       "2  (1, 1, 0)            305         0.4592         0.5408\n",
       "3  (0, 1, 1)            305         0.2055         0.7945\n",
       "4  (1, 0, 1)            297         0.1314         0.8686\n",
       "5  (0, 0, 1)            243         0.4202         0.5798\n",
       "6  (1, 0, 0)            243         0.7444         0.2556\n",
       "7  (0, 1, 0)            235         0.7924         0.2076"
      ]
     },
     "execution_count": 300,
     "metadata": {},
     "output_type": "execute_result"
    }
   ],
   "source": [
    "aggregated_mean_3_qwen = aggregate_tables(arr_tables_3_qwen, method='mean')\n",
    "print(sum(aggregated_mean_3_qwen['Всего случаев']*aggregated_mean_3_qwen['Вероятность 1'])/sum(aggregated_mean_3_qwen['Всего случаев']))\n",
    "aggregated_mean_3_qwen"
   ]
  },
  {
   "cell_type": "code",
   "execution_count": null,
   "id": "ef420a02-dc8a-4bb2-9151-0e449211f117",
   "metadata": {},
   "outputs": [],
   "source": []
  },
  {
   "cell_type": "code",
   "execution_count": null,
   "id": "302d4a94-0f7a-4fe6-b284-fe404328b5fc",
   "metadata": {},
   "outputs": [],
   "source": []
  },
  {
   "cell_type": "code",
   "execution_count": null,
   "id": "398b826b-d0dd-44db-a4a5-026e26c94ed4",
   "metadata": {},
   "outputs": [],
   "source": []
  },
  {
   "cell_type": "code",
   "execution_count": 257,
   "id": "063b033e-702d-4c28-b6d3-fa8a565030a6",
   "metadata": {},
   "outputs": [
    {
     "data": {
      "text/plain": [
       "np.float64(0.546)"
      ]
     },
     "execution_count": 257,
     "metadata": {},
     "output_type": "execute_result"
    }
   ],
   "source": [
    "np.mean(arr_with2)"
   ]
  },
  {
   "cell_type": "code",
   "execution_count": 261,
   "id": "d751ac43-84a8-4245-8a17-e61d77e8798a",
   "metadata": {},
   "outputs": [
    {
     "name": "stdout",
     "output_type": "stream",
     "text": [
      "0.54\n"
     ]
    },
    {
     "data": {
      "text/html": [
       "<div>\n",
       "<style scoped>\n",
       "    .dataframe tbody tr th:only-of-type {\n",
       "        vertical-align: middle;\n",
       "    }\n",
       "\n",
       "    .dataframe tbody tr th {\n",
       "        vertical-align: top;\n",
       "    }\n",
       "\n",
       "    .dataframe thead th {\n",
       "        text-align: right;\n",
       "    }\n",
       "</style>\n",
       "<table border=\"1\" class=\"dataframe\">\n",
       "  <thead>\n",
       "    <tr style=\"text-align: right;\">\n",
       "      <th></th>\n",
       "      <th>Комбинация</th>\n",
       "      <th>Всего случаев</th>\n",
       "      <th>Вероятность 0</th>\n",
       "      <th>Вероятность 1</th>\n",
       "    </tr>\n",
       "  </thead>\n",
       "  <tbody>\n",
       "    <tr>\n",
       "      <th>0</th>\n",
       "      <td>(0, 0, 0)</td>\n",
       "      <td>198</td>\n",
       "      <td>0.984848</td>\n",
       "      <td>0.015152</td>\n",
       "    </tr>\n",
       "    <tr>\n",
       "      <th>1</th>\n",
       "      <td>(1, 1, 1)</td>\n",
       "      <td>144</td>\n",
       "      <td>0.000000</td>\n",
       "      <td>1.000000</td>\n",
       "    </tr>\n",
       "    <tr>\n",
       "      <th>2</th>\n",
       "      <td>(1, 0, 1)</td>\n",
       "      <td>92</td>\n",
       "      <td>0.065217</td>\n",
       "      <td>0.934783</td>\n",
       "    </tr>\n",
       "    <tr>\n",
       "      <th>3</th>\n",
       "      <td>(1, 0, 0)</td>\n",
       "      <td>23</td>\n",
       "      <td>0.391304</td>\n",
       "      <td>0.608696</td>\n",
       "    </tr>\n",
       "    <tr>\n",
       "      <th>4</th>\n",
       "      <td>(0, 0, 1)</td>\n",
       "      <td>21</td>\n",
       "      <td>0.428571</td>\n",
       "      <td>0.571429</td>\n",
       "    </tr>\n",
       "    <tr>\n",
       "      <th>5</th>\n",
       "      <td>(0, 1, 0)</td>\n",
       "      <td>11</td>\n",
       "      <td>0.727273</td>\n",
       "      <td>0.272727</td>\n",
       "    </tr>\n",
       "    <tr>\n",
       "      <th>6</th>\n",
       "      <td>(0, 1, 1)</td>\n",
       "      <td>6</td>\n",
       "      <td>0.166667</td>\n",
       "      <td>0.833333</td>\n",
       "    </tr>\n",
       "    <tr>\n",
       "      <th>7</th>\n",
       "      <td>(1, 1, 0)</td>\n",
       "      <td>5</td>\n",
       "      <td>0.400000</td>\n",
       "      <td>0.600000</td>\n",
       "    </tr>\n",
       "  </tbody>\n",
       "</table>\n",
       "</div>"
      ],
      "text/plain": [
       "  Комбинация  Всего случаев  Вероятность 0  Вероятность 1\n",
       "0  (0, 0, 0)            198       0.984848       0.015152\n",
       "1  (1, 1, 1)            144       0.000000       1.000000\n",
       "2  (1, 0, 1)             92       0.065217       0.934783\n",
       "3  (1, 0, 0)             23       0.391304       0.608696\n",
       "4  (0, 0, 1)             21       0.428571       0.571429\n",
       "5  (0, 1, 0)             11       0.727273       0.272727\n",
       "6  (0, 1, 1)              6       0.166667       0.833333\n",
       "7  (1, 1, 0)              5       0.400000       0.600000"
      ]
     },
     "execution_count": 261,
     "metadata": {},
     "output_type": "execute_result"
    }
   ],
   "source": [
    "analysis = analyze_combination_dependency_pd(arr1, arr2, arr3, result_array=arr_with3)\n",
    "print(np.mean(arr_with3))\n",
    "analysis"
   ]
  },
  {
   "cell_type": "code",
   "execution_count": 263,
   "id": "f4b1330a-b4b2-439d-9ee9-19eb259b5c08",
   "metadata": {},
   "outputs": [
    {
     "name": "stdout",
     "output_type": "stream",
     "text": [
      "0.546\n"
     ]
    },
    {
     "data": {
      "text/html": [
       "<div>\n",
       "<style scoped>\n",
       "    .dataframe tbody tr th:only-of-type {\n",
       "        vertical-align: middle;\n",
       "    }\n",
       "\n",
       "    .dataframe tbody tr th {\n",
       "        vertical-align: top;\n",
       "    }\n",
       "\n",
       "    .dataframe thead th {\n",
       "        text-align: right;\n",
       "    }\n",
       "</style>\n",
       "<table border=\"1\" class=\"dataframe\">\n",
       "  <thead>\n",
       "    <tr style=\"text-align: right;\">\n",
       "      <th></th>\n",
       "      <th>Комбинация</th>\n",
       "      <th>Всего случаев</th>\n",
       "      <th>Вероятность 0</th>\n",
       "      <th>Вероятность 1</th>\n",
       "    </tr>\n",
       "  </thead>\n",
       "  <tbody>\n",
       "    <tr>\n",
       "      <th>0</th>\n",
       "      <td>(1, 1)</td>\n",
       "      <td>236</td>\n",
       "      <td>0.004237</td>\n",
       "      <td>0.995763</td>\n",
       "    </tr>\n",
       "    <tr>\n",
       "      <th>1</th>\n",
       "      <td>(0, 0)</td>\n",
       "      <td>209</td>\n",
       "      <td>0.990431</td>\n",
       "      <td>0.009569</td>\n",
       "    </tr>\n",
       "    <tr>\n",
       "      <th>2</th>\n",
       "      <td>(1, 0)</td>\n",
       "      <td>28</td>\n",
       "      <td>0.500000</td>\n",
       "      <td>0.500000</td>\n",
       "    </tr>\n",
       "    <tr>\n",
       "      <th>3</th>\n",
       "      <td>(0, 1)</td>\n",
       "      <td>27</td>\n",
       "      <td>0.185185</td>\n",
       "      <td>0.814815</td>\n",
       "    </tr>\n",
       "  </tbody>\n",
       "</table>\n",
       "</div>"
      ],
      "text/plain": [
       "  Комбинация  Всего случаев  Вероятность 0  Вероятность 1\n",
       "0     (1, 1)            236       0.004237       0.995763\n",
       "1     (0, 0)            209       0.990431       0.009569\n",
       "2     (1, 0)             28       0.500000       0.500000\n",
       "3     (0, 1)             27       0.185185       0.814815"
      ]
     },
     "execution_count": 263,
     "metadata": {},
     "output_type": "execute_result"
    }
   ],
   "source": [
    "analysis = analyze_combination_dependency_pd(arr1, arr3, result_array=arr_with2)\n",
    "print(np.mean(arr_with2))\n",
    "analysis"
   ]
  },
  {
   "cell_type": "code",
   "execution_count": 267,
   "id": "40acd0de-3c80-4c2e-8b55-54a6b9c1dbaf",
   "metadata": {},
   "outputs": [
    {
     "name": "stdout",
     "output_type": "stream",
     "text": [
      "0.546\n"
     ]
    },
    {
     "data": {
      "text/html": [
       "<div>\n",
       "<style scoped>\n",
       "    .dataframe tbody tr th:only-of-type {\n",
       "        vertical-align: middle;\n",
       "    }\n",
       "\n",
       "    .dataframe tbody tr th {\n",
       "        vertical-align: top;\n",
       "    }\n",
       "\n",
       "    .dataframe thead th {\n",
       "        text-align: right;\n",
       "    }\n",
       "</style>\n",
       "<table border=\"1\" class=\"dataframe\">\n",
       "  <thead>\n",
       "    <tr style=\"text-align: right;\">\n",
       "      <th></th>\n",
       "      <th>Комбинация</th>\n",
       "      <th>Всего случаев</th>\n",
       "      <th>Вероятность 0</th>\n",
       "      <th>Вероятность 1</th>\n",
       "    </tr>\n",
       "  </thead>\n",
       "  <tbody>\n",
       "    <tr>\n",
       "      <th>0</th>\n",
       "      <td>(1, 1, 1)</td>\n",
       "      <td>219</td>\n",
       "      <td>0.004566</td>\n",
       "      <td>0.995434</td>\n",
       "    </tr>\n",
       "    <tr>\n",
       "      <th>1</th>\n",
       "      <td>(0, 0, 0)</td>\n",
       "      <td>197</td>\n",
       "      <td>0.989848</td>\n",
       "      <td>0.010152</td>\n",
       "    </tr>\n",
       "    <tr>\n",
       "      <th>2</th>\n",
       "      <td>(1, 1, 0)</td>\n",
       "      <td>17</td>\n",
       "      <td>0.000000</td>\n",
       "      <td>1.000000</td>\n",
       "    </tr>\n",
       "    <tr>\n",
       "      <th>3</th>\n",
       "      <td>(1, 0, 1)</td>\n",
       "      <td>16</td>\n",
       "      <td>0.437500</td>\n",
       "      <td>0.562500</td>\n",
       "    </tr>\n",
       "    <tr>\n",
       "      <th>4</th>\n",
       "      <td>(0, 1, 0)</td>\n",
       "      <td>15</td>\n",
       "      <td>0.133333</td>\n",
       "      <td>0.866667</td>\n",
       "    </tr>\n",
       "    <tr>\n",
       "      <th>5</th>\n",
       "      <td>(1, 0, 0)</td>\n",
       "      <td>12</td>\n",
       "      <td>0.583333</td>\n",
       "      <td>0.416667</td>\n",
       "    </tr>\n",
       "    <tr>\n",
       "      <th>6</th>\n",
       "      <td>(0, 1, 1)</td>\n",
       "      <td>12</td>\n",
       "      <td>0.250000</td>\n",
       "      <td>0.750000</td>\n",
       "    </tr>\n",
       "    <tr>\n",
       "      <th>7</th>\n",
       "      <td>(0, 0, 1)</td>\n",
       "      <td>12</td>\n",
       "      <td>1.000000</td>\n",
       "      <td>0.000000</td>\n",
       "    </tr>\n",
       "  </tbody>\n",
       "</table>\n",
       "</div>"
      ],
      "text/plain": [
       "  Комбинация  Всего случаев  Вероятность 0  Вероятность 1\n",
       "0  (1, 1, 1)            219       0.004566       0.995434\n",
       "1  (0, 0, 0)            197       0.989848       0.010152\n",
       "2  (1, 1, 0)             17       0.000000       1.000000\n",
       "3  (1, 0, 1)             16       0.437500       0.562500\n",
       "4  (0, 1, 0)             15       0.133333       0.866667\n",
       "5  (1, 0, 0)             12       0.583333       0.416667\n",
       "6  (0, 1, 1)             12       0.250000       0.750000\n",
       "7  (0, 0, 1)             12       1.000000       0.000000"
      ]
     },
     "execution_count": 267,
     "metadata": {},
     "output_type": "execute_result"
    }
   ],
   "source": [
    "analysis = analyze_combination_dependency_pd(arr1, arr3, arr4, result_array=arr_with2)\n",
    "print(np.mean(arr_with2))\n",
    "analysis"
   ]
  },
  {
   "cell_type": "code",
   "execution_count": 265,
   "id": "ddf52d70-7d33-4efd-b88d-3a8313ec9364",
   "metadata": {},
   "outputs": [
    {
     "data": {
      "text/plain": [
       "96"
      ]
     },
     "execution_count": 265,
     "metadata": {},
     "output_type": "execute_result"
    }
   ],
   "source": [
    "import multiprocessing\n",
    "\n",
    "multiprocessing.cpu_count()"
   ]
  },
  {
   "cell_type": "code",
   "execution_count": null,
   "id": "ec9611cb-1141-4690-b713-e25009db7b2a",
   "metadata": {},
   "outputs": [],
   "source": []
  }
 ],
 "metadata": {
  "kernelspec": {
   "display_name": "vllm",
   "language": "python",
   "name": "vllm"
  },
  "language_info": {
   "codemirror_mode": {
    "name": "ipython",
    "version": 3
   },
   "file_extension": ".py",
   "mimetype": "text/x-python",
   "name": "python",
   "nbconvert_exporter": "python",
   "pygments_lexer": "ipython3",
   "version": "3.12.4"
  }
 },
 "nbformat": 4,
 "nbformat_minor": 5
}
