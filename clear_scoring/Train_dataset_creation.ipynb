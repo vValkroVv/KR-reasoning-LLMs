{
 "cells": [
  {
   "cell_type": "code",
   "execution_count": 93,
   "id": "ef882aed-21e9-439b-b287-ed4199b468f7",
   "metadata": {},
   "outputs": [],
   "source": [
    "import pickle\n",
    "import numpy as np"
   ]
  },
  {
   "cell_type": "code",
   "execution_count": 94,
   "id": "855e3378-6141-4bb4-9a4c-a6ece8be3cbc",
   "metadata": {},
   "outputs": [],
   "source": [
    "def load(path):\n",
    "    with open(path, \"rb\") as fp:   # Unpickling\n",
    "        sql_predict = np.array(pickle.load(fp))\n",
    "    return sql_predict"
   ]
  },
  {
   "cell_type": "code",
   "execution_count": 95,
   "id": "3d3bcfc6-0dd6-4038-8022-705f6686e40d",
   "metadata": {},
   "outputs": [],
   "source": [
    "arr_results = []\n",
    "for i in range(80):\n",
    "    path = f\"/data/home/vkropoti/sql_llm_answers/bird_train_m_schema/sql_results_Qwen3-1.7B-reasoning-v{i}\"\n",
    "    arr_results.append(load(path))"
   ]
  },
  {
   "cell_type": "code",
   "execution_count": 96,
   "id": "04270b3f-8ec8-4ce7-a5e7-30cbec2f2d74",
   "metadata": {},
   "outputs": [],
   "source": [
    "arr_results = np.stack(arr_results)"
   ]
  },
  {
   "cell_type": "code",
   "execution_count": 97,
   "id": "45fff6f5-c1e2-4a84-a137-1eae393fe866",
   "metadata": {},
   "outputs": [
    {
     "data": {
      "text/plain": [
       "(80, 9428)"
      ]
     },
     "execution_count": 97,
     "metadata": {},
     "output_type": "execute_result"
    }
   ],
   "source": [
    "arr_results.shape"
   ]
  },
  {
   "cell_type": "code",
   "execution_count": 98,
   "id": "fe82bdef-7c10-487f-852c-ab669b4e9bff",
   "metadata": {},
   "outputs": [
    {
     "data": {
      "text/plain": [
       "0.6651463725074247"
      ]
     },
     "execution_count": 98,
     "metadata": {},
     "output_type": "execute_result"
    }
   ],
   "source": [
    "np.mean(np.max(arr_results,axis=0))"
   ]
  },
  {
   "cell_type": "markdown",
   "id": "1aa5691b-f615-4974-87a9-d99d66682355",
   "metadata": {},
   "source": [
    "## Собираем индексы"
   ]
  },
  {
   "cell_type": "code",
   "execution_count": 99,
   "id": "9435d0df-e40f-4440-8249-625e20021f44",
   "metadata": {},
   "outputs": [],
   "source": [
    "indices = []\n",
    "values = []\n",
    "for i in range(arr_results.shape[1]):  # Итерируемся по каждой позиции (1500)\n",
    "    column = arr_results[:, i]  # Получаем столбец для текущей позиции\n",
    "    ones = np.arange(len(column))[column == 1]  # Выбираем все единицы\n",
    "    zeros = np.arange(len(column))[column == 0]  # Выбираем все нули\n",
    "    \n",
    "    \n",
    "    \n",
    "    # Формируем три значения: сначала единицы, затем нули, если необходимо\n",
    "    selected = list(np.random.permutation(ones)[:5])  # Берём первые три единицы\n",
    "    needed = 5 - len(selected)\n",
    "    if needed > 0:\n",
    "        selected += list(zeros[:needed])  # Добавляем нужное количество нулей\n",
    "    \n",
    "    indices.append(selected)\n",
    "    \n",
    "    ones = column[column == 1]  # Выбираем все единицы\n",
    "    zeros = column[column == 0]  # Выбираем все нули\n",
    "    selected = list(ones[:5])  # Берём первые три единицы\n",
    "    needed = 5 - len(selected)\n",
    "    if needed > 0:\n",
    "        selected += list(zeros[:needed])\n",
    "        \n",
    "    values.append(selected)\n",
    "# Преобразуем результат в NumPy-массив\n",
    "indices = np.array(indices)\n",
    "values = np.array(values)"
   ]
  },
  {
   "cell_type": "code",
   "execution_count": 100,
   "id": "58964f04-2058-4f91-aa5c-09867adb38d0",
   "metadata": {},
   "outputs": [
    {
     "data": {
      "text/plain": [
       "7.374840899448452"
      ]
     },
     "execution_count": 100,
     "metadata": {},
     "output_type": "execute_result"
    }
   ],
   "source": [
    "np.mean(np.min(indices,axis=1))"
   ]
  },
  {
   "cell_type": "code",
   "execution_count": 101,
   "id": "a2b00261-eeaa-4eda-bc18-d5c9f62bc0c5",
   "metadata": {},
   "outputs": [
    {
     "data": {
      "text/plain": [
       "0.595566397963513"
      ]
     },
     "execution_count": 101,
     "metadata": {},
     "output_type": "execute_result"
    }
   ],
   "source": [
    "np.mean(np.min(values,axis=1))"
   ]
  },
  {
   "cell_type": "code",
   "execution_count": 103,
   "id": "1a20d7bb-5dc2-4254-b004-71ee50f25e60",
   "metadata": {},
   "outputs": [
    {
     "data": {
      "text/plain": [
       "array([[ 0,  1,  2,  3,  4],\n",
       "       [66, 54,  6, 69, 11],\n",
       "       [ 0,  1,  2,  3,  4],\n",
       "       ...,\n",
       "       [76, 72, 29, 38, 20],\n",
       "       [19, 28, 20,  9, 16],\n",
       "       [22,  8, 77, 23, 47]])"
      ]
     },
     "execution_count": 103,
     "metadata": {},
     "output_type": "execute_result"
    }
   ],
   "source": [
    "indices_good"
   ]
  },
  {
   "cell_type": "code",
   "execution_count": 104,
   "id": "5666de96-cfe5-4c73-aef8-7f88772c99d5",
   "metadata": {},
   "outputs": [
    {
     "data": {
      "text/plain": [
       "array([[0, 0, 0, 0, 0],\n",
       "       [1, 1, 1, 1, 1],\n",
       "       [0, 0, 0, 0, 0],\n",
       "       ...,\n",
       "       [1, 1, 1, 1, 1],\n",
       "       [1, 1, 1, 1, 1],\n",
       "       [1, 1, 1, 1, 1]])"
      ]
     },
     "execution_count": 104,
     "metadata": {},
     "output_type": "execute_result"
    }
   ],
   "source": [
    "values"
   ]
  },
  {
   "cell_type": "code",
   "execution_count": 102,
   "id": "d053bbf0-1b1f-4bc0-8764-1c0b3227b82f",
   "metadata": {},
   "outputs": [],
   "source": [
    "indices_good = indices.copy()\n",
    "values_good = values.copy()"
   ]
  },
  {
   "cell_type": "code",
   "execution_count": 38,
   "id": "a9048cb4-3c84-4fec-b9b0-275f9a5be626",
   "metadata": {},
   "outputs": [
    {
     "name": "stdout",
     "output_type": "stream",
     "text": [
      "CPU times: user 68.3 ms, sys: 375 ms, total: 443 ms\n",
      "Wall time: 444 ms\n"
     ]
    }
   ],
   "source": [
    "%%time\n",
    "path = f\"/data/home/vkropoti/sql_llm_answers/bird_train_m_schema/sql_all_Qwen3-1.7B-reasoning-v{0}\"\n",
    "answer = load(path)"
   ]
  },
  {
   "cell_type": "code",
   "execution_count": 34,
   "id": "5cf86919-5082-42e7-a9f0-46a33acb6047",
   "metadata": {},
   "outputs": [
    {
     "name": "stderr",
     "output_type": "stream",
     "text": [
      "/data/home/vkropoti/vllm/lib64/python3.12/site-packages/tqdm/auto.py:21: TqdmWarning: IProgress not found. Please update jupyter and ipywidgets. See https://ipywidgets.readthedocs.io/en/stable/user_install.html\n",
      "  from .autonotebook import tqdm as notebook_tqdm\n"
     ]
    }
   ],
   "source": [
    "from transformers import AutoTokenizer"
   ]
  },
  {
   "cell_type": "code",
   "execution_count": 35,
   "id": "a9a3d77f-a736-4144-aa56-b60307a1bf22",
   "metadata": {},
   "outputs": [],
   "source": [
    "tokenizer = AutoTokenizer.from_pretrained(f\"/data/home/vkropoti/models/Qwen3-1.7B\")"
   ]
  },
  {
   "cell_type": "code",
   "execution_count": 37,
   "id": "d4587b6a-9808-4c8f-b05b-7440cfeb480d",
   "metadata": {},
   "outputs": [
    {
     "name": "stdout",
     "output_type": "stream",
     "text": [
      "<|im_start|>user\n",
      "тут будет входящий промпт<|im_end|>\n",
      "<|im_start|>assistant\n",
      "<think>\n",
      "Okay, let's tackle this problem. The user wants to find movie titles released in 1945 and sort them by descending popularity. \n",
      "\n",
      "First, I need to look at the tables provided. The relevant table here is the 'movies' table because it contains the movie_release_year and movie_popularity columns. \n",
      "\n",
      "The 'movies' table has columns like movie_id, movie_title, movie_release_year, and movie_popularity. So, the main steps are to select the movie_title from movies where movie_release_year is 1945, and then order the results by movie_popularity in descending order.\n",
      "\n",
      "I should check if there are any foreign keys or joins needed. But since the question is directly about the movies table, there's no need for joins. The 'ratings' and 'ratings_users' tables might have some data, but the question isn't asking about ratings. \n",
      "\n",
      "Wait, the user specified to use only the initial column names and not change them. So the columns in the 'movies' table are movie_id, movie_title, movie_release_year, movie_popularity. \n",
      "\n",
      "So the SQL query would be SELECT movie_title FROM movies WHERE movie_release_year = 1945 ORDER BY movie_popularity DESC. \n",
      "\n",
      "I need to make sure that the column names are correct. The movie_release_year is an integer, so the WHERE clause uses = 1945. The ORDER BY clause sorts in descending order. \n",
      "\n",
      "I should also check if there are any other tables that might affect this, but since the question is straightforward, it's just the movies table. \n",
      "\n",
      "Therefore, the final SQL query should be as simple as selecting the movie_title from movies where release year is 1945 and ordered by popularity descending.\n",
      "</think>\n",
      "\n",
      "```\n",
      "SELECT movie_title FROM movies WHERE movie_release_year = 1945 ORDER BY movie_popularity DESC;\n",
      "```<|im_end|>\n",
      "\n"
     ]
    }
   ],
   "source": [
    "print(tokenizer.apply_chat_template([\n",
    "                {\"role\": \"user\", \"content\": \"тут будет входящий промпт\"},\n",
    "                {\"role\": \"assistant\", \"content\": answer[0]}\n",
    "            ], add_generation_prompt = False, tokenize = False))"
   ]
  },
  {
   "cell_type": "code",
   "execution_count": null,
   "id": "bfe2203d-8665-4dfb-a1f2-d840d943a240",
   "metadata": {},
   "outputs": [],
   "source": [
    "sequences = [tokenizer.apply_chat_template([\n",
    "                {\"role\": \"user\", \"content\": \"тут будет входящий промпт\"},\n",
    "                {\"role\": \"assistant\", \"content\": answer[0]}\n",
    "            ], add_generation_prompt = False, tokenize = False) for data in tqdm(dataset)]"
   ]
  },
  {
   "cell_type": "markdown",
   "id": "809863bc-11ad-4a1c-8e00-33b098d56041",
   "metadata": {},
   "source": [
    "## creating dataset"
   ]
  },
  {
   "cell_type": "code",
   "execution_count": 105,
   "id": "3432f05a-4ef8-4403-af75-c662dc7d42e9",
   "metadata": {},
   "outputs": [],
   "source": [
    "system_prompt = \"\"\"\n",
    "You are a data science expert. Below, you are provided with a database schema and a natural language question. Your task is to understand the schema and generate a valid SQL query to answer the question.\n",
    "\n",
    "Database Engine: SQLite\n",
    "\n",
    "Firstly think how to solve the problem, analyze tables, take care what columns avaliable in each table and so on, check the syntacsis (do not otherthink 2k words is a limit, no more!).\n",
    "Secondly, create the answer based on thoughts. The answer should be only sql query.\n",
    "\n",
    "Carefully follow the instruction and add <|im_end|> and the end of the final answer.\n",
    "\"\"\""
   ]
  },
  {
   "cell_type": "code",
   "execution_count": 106,
   "id": "cf2c9c93-b781-4580-9abe-370bab6b9ba0",
   "metadata": {},
   "outputs": [],
   "source": [
    "import os, sys\n",
    "sys.path.append(\"/home/vkropoti/vllm\")\n",
    "import json\n",
    "from tqdm import tqdm"
   ]
  },
  {
   "cell_type": "code",
   "execution_count": 107,
   "id": "45b995cc-b470-41b6-9cce-6954b9c4a640",
   "metadata": {},
   "outputs": [],
   "source": [
    "from src.prompt import generate_combined_prompts_one\n",
    "from src.prompt_reasoning import generate_combined_prompts_one as generate_combined_prompts_one_reasoning\n",
    "from src.prompt_with_cot_add import generate_combined_prompts_one as generate_combined_prompts_one_with_cot"
   ]
  },
  {
   "cell_type": "code",
   "execution_count": 108,
   "id": "cd0be41a-dd33-4da3-88df-9944c02bbfef",
   "metadata": {},
   "outputs": [],
   "source": [
    "path_dev_json = '/data/home/vkropoti/sql_data/train/train.json'\n",
    "path_sql_dbs = \"/data/home/vkropoti/sql_data/train/train_databases/\""
   ]
  },
  {
   "cell_type": "code",
   "execution_count": 109,
   "id": "54b6eb47-1e2d-4745-8be3-3b479f2859ff",
   "metadata": {},
   "outputs": [],
   "source": [
    "def load_json(dir):\n",
    "    with open(dir, \"r\") as j:\n",
    "        contents = json.loads(j.read())\n",
    "    return contents"
   ]
  },
  {
   "cell_type": "code",
   "execution_count": 110,
   "id": "5af9a8cb-11bc-4ff1-aab0-f491f1eb9a3a",
   "metadata": {},
   "outputs": [
    {
     "name": "stderr",
     "output_type": "stream",
     "text": [
      "9428it [00:00, 222742.37it/s]\n"
     ]
    }
   ],
   "source": [
    "d_user = {}\n",
    "data = load_json(path_dev_json)\n",
    "batch_messages = []\n",
    "for i,k in tqdm(enumerate(range(len(data)))):\n",
    "# for i,k in enumerate(mini_dev_index):\n",
    "    question = data[k]['question']\n",
    "    db = data[k]['db_id']\n",
    "    sql_dialect = \"SQLite\"\n",
    "    knowledge = data[k]['evidence']\n",
    "    prompt = generate_combined_prompts_one_reasoning(f'{path_sql_dbs}{db}/{db}.sqlite', question, sql_dialect, knowledge)\n",
    "    d_user[i] = prompt\n",
    "    # if paths_to_cot is not None:\n",
    "    #     cots = [x[i] for x in cot]\n",
    "    #     prompt = generate_combined_prompts_one_with_cot(f'{path_sql_dbs}{db}/{db}.sqlite', question, sql_dialect, cots, knowledge, use_reasoning)\n",
    "    # else:\n",
    "    #     if use_reasoning:\n",
    "    #         prompt = generate_combined_prompts_one_reasoning(f'{path_sql_dbs}{db}/{db}.sqlite', question, sql_dialect, knowledge)\n",
    "    #     else:\n",
    "    #         prompt = generate_combined_prompts_one(f'{path_sql_dbs}{db}/{db}.sqlite', question, sql_dialect, knowledge)"
   ]
  },
  {
   "cell_type": "code",
   "execution_count": 111,
   "id": "17099934-214b-4a3d-8120-69b794dfd7d6",
   "metadata": {},
   "outputs": [
    {
     "data": {
      "text/plain": [
       "9428"
      ]
     },
     "execution_count": 111,
     "metadata": {},
     "output_type": "execute_result"
    }
   ],
   "source": [
    "len(d_user)"
   ]
  },
  {
   "cell_type": "code",
   "execution_count": 112,
   "id": "f64f6577-a269-4c00-823e-3802ecfe9299",
   "metadata": {},
   "outputs": [],
   "source": [
    "from collections import defaultdict"
   ]
  },
  {
   "cell_type": "code",
   "execution_count": 113,
   "id": "97baadc4-75be-46bc-b190-ad987cbefa38",
   "metadata": {},
   "outputs": [],
   "source": [
    "d_base = defaultdict(list)\n",
    "for iter_ in range(80):\n",
    "    for i in range(indices_good.shape[1]):\n",
    "        add_index = np.arange(indices_good.shape[0])[indices_good[:,i]==iter_]\n",
    "        d_base[iter_].extend(list(add_index))\n",
    "    d_base[iter_] = list(map(int,list(set(d_base[iter_]))))\n",
    "    "
   ]
  },
  {
   "cell_type": "code",
   "execution_count": 114,
   "id": "99a384ff-4b03-4d73-b418-46036eb6fca9",
   "metadata": {},
   "outputs": [
    {
     "name": "stderr",
     "output_type": "stream",
     "text": [
      "100%|██████████| 80/80 [02:41<00:00,  2.02s/it]\n"
     ]
    }
   ],
   "source": [
    "data_answers = dict()\n",
    "for iter_ in tqdm(range(80)):\n",
    "    path = f\"/data/home/vkropoti/sql_llm_answers/bird_train_m_schema/sql_all_Qwen3-1.7B-reasoning-v{iter_}\"\n",
    "    answer = load(path)\n",
    "    for ind in d_base[iter_]:\n",
    "        data_answers[(iter_,ind)] = answer[ind]"
   ]
  },
  {
   "cell_type": "code",
   "execution_count": null,
   "id": "12f30e8f-0b54-479e-b1ac-b50efef04d4e",
   "metadata": {},
   "outputs": [],
   "source": []
  },
  {
   "cell_type": "code",
   "execution_count": 115,
   "id": "dfb64deb-b629-4eb8-81b1-647e9a736b1d",
   "metadata": {},
   "outputs": [],
   "source": [
    "## creating dataset"
   ]
  },
  {
   "cell_type": "code",
   "execution_count": 116,
   "id": "c758f4c8-bc8a-4478-b754-aa311156afd4",
   "metadata": {},
   "outputs": [
    {
     "name": "stderr",
     "output_type": "stream",
     "text": [
      "100%|██████████| 9428/9428 [00:00<00:00, 20871.44it/s]\n"
     ]
    }
   ],
   "source": [
    "arr_dataset = []\n",
    "arr_values = []\n",
    "arr_lens = []\n",
    "for i in tqdm(range(indices_good.shape[0])):\n",
    "    for j in range(indices_good.shape[1]):\n",
    "        ind = int(indices_good[i,j])\n",
    "        if values_good[i,j]==1:\n",
    "            arr_dataset.append({\"system\":system_prompt,\"user\":d_user[i],\"answer\":data_answers[(ind,i)]})\n",
    "        arr_values.append(values_good[i,j])\n",
    "        arr_lens.append(len(system_prompt+d_user[i]+data_answers[(ind,i)]))"
   ]
  },
  {
   "cell_type": "code",
   "execution_count": 118,
   "id": "8d64f142-f8a4-4bec-b2b8-c9f7cb440643",
   "metadata": {},
   "outputs": [
    {
     "data": {
      "text/plain": [
       "29428"
      ]
     },
     "execution_count": 118,
     "metadata": {},
     "output_type": "execute_result"
    }
   ],
   "source": [
    "len(arr_dataset)"
   ]
  },
  {
   "cell_type": "code",
   "execution_count": 91,
   "id": "38a273d3-fd0b-462e-9e69-ceaddf887df7",
   "metadata": {},
   "outputs": [
    {
     "data": {
      "text/plain": [
       "['system', 'user', 'answer']"
      ]
     },
     "execution_count": 91,
     "metadata": {},
     "output_type": "execute_result"
    }
   ],
   "source": [
    "list(arr_dataset[0])"
   ]
  },
  {
   "cell_type": "code",
   "execution_count": 92,
   "id": "305423ad-32eb-4c07-9a51-3cf6cc7c36ac",
   "metadata": {},
   "outputs": [
    {
     "name": "stdout",
     "output_type": "stream",
     "text": [
      "here is avaliable tables and their structure below\n",
      "【DB_ID】 movie_platform\n",
      "【Schema】\n",
      "# Table: lists\n",
      "[\n",
      "(user_id:INTEGER, maps to lists_users.user_id, Examples: [88260493, 45204418, 48905025]),\n",
      "(list_id:INTEGER, Primary Key, Examples: [1, 2, 3]),\n",
      "(list_title:TEXT, Examples: [Films that made your kid sister cry]),\n",
      "(list_movie_number:INTEGER, Examples: [5, 3, 7]),\n",
      "(list_update_timestamp_utc:TEXT, Examples: [2019-01-24 19:16:18, 2018-12-03 15:12:20, 2019-05-30 03:00:07]),\n",
      "(list_creation_timestamp_utc:TEXT, Examples: [2009-11-11 00:02:21, 2009-11-11 00:05:11, 2009-11-11 00:20:00]),\n",
      "(list_followers:INTEGER, Examples: [5, 1, 6]),\n",
      "(list_url:TEXT),\n",
      "(list_comments:INTEGER, Examples: [3, 2, 5]),\n",
      "(list_description:TEXT),\n",
      "(list_cover_image_url:TEXT),\n",
      "(list_first_image_url:TEXT),\n",
      "(list_second_image_url:TEXT),\n",
      "(list_third_image_url:TEXT)\n",
      "]\n",
      "# Table: lists_users\n",
      "[\n",
      "(user_id:INTEGER, maps to lists.user_id, Primary Key, Examples: [2385, 15264, 15344]),\n",
      "(list_id:INTEGER, maps to lists.list_id, Primary Key, Examples: [192287, 192313, 192318]),\n",
      "(list_update_date_utc:TEXT, Examples: [2019-11-26, 2020-05-01, 2020-04-12]),\n",
      "(list_creation_date_utc:TEXT, Examples: [2009-12-18, 2010-01-30, 2010-03-31]),\n",
      "(user_trialist:INTEGER, Examples: [1, 0]),\n",
      "(user_subscriber:INTEGER, Examples: [1, 0]),\n",
      "(user_avatar_image_url:TEXT),\n",
      "(user_cover_image_url:TEXT),\n",
      "(user_eligible_for_trial:TEXT, Examples: [0, 1]),\n",
      "(user_has_payment_method:TEXT, Examples: [1, 0])\n",
      "]\n",
      "# Table: movies\n",
      "[\n",
      "(movie_id:INTEGER, Primary Key, Examples: [1, 2, 3]),\n",
      "(movie_title:TEXT, Examples: [La Antena, Elementary Particles, It's Winter]),\n",
      "(movie_release_year:INTEGER, Examples: [2007, 2006, 2005]),\n",
      "(movie_url:TEXT),\n",
      "(movie_title_language:TEXT, Examples: [en]),\n",
      "(movie_popularity:INTEGER, Examples: [105, 23, 21]),\n",
      "(movie_image_url:TEXT),\n",
      "(director_id:TEXT, Examples: [131, 73, 82]),\n",
      "(director_name:TEXT, Examples: [Esteban Sapir, Oskar Roehler, Rafi Pitts]),\n",
      "(director_url:TEXT)\n",
      "]\n",
      "# Table: ratings\n",
      "[\n",
      "(movie_id:INTEGER, maps to movies.movie_id, Examples: [1066, 1067, 1068]),\n",
      "(rating_id:INTEGER, maps to ratings.rating_id, Examples: [15610495, 10704606, 10177114]),\n",
      "(rating_url:TEXT),\n",
      "(rating_score:INTEGER, Examples: [3, 2, 4]),\n",
      "(rating_timestamp_utc:TEXT, Examples: [2017-06-10 12:38:33, 2014-08-15 23:42:31, 2014-01-30 13:21:57]),\n",
      "(critic:TEXT),\n",
      "(critic_likes:INTEGER, Examples: [0, 1, 2]),\n",
      "(critic_comments:INTEGER, Examples: [0, 2, 1]),\n",
      "(user_id:INTEGER, maps to lists_users.user_id maps to ratings_users.user_id, Examples: [41579158, 85981819, 4208563]),\n",
      "(user_trialist:INTEGER, Examples: [0, 1]),\n",
      "(user_subscriber:INTEGER, Examples: [0, 1]),\n",
      "(user_eligible_for_trial:INTEGER, Examples: [1, 0]),\n",
      "(user_has_payment_method:INTEGER, Examples: [0, 1])\n",
      "]\n",
      "# Table: ratings_users\n",
      "[\n",
      "(user_id:INTEGER, maps to lists_users.user_id, Examples: [41579158, 68654088, 84114365]),\n",
      "(rating_date_utc:TEXT, Examples: [2017-06-10, 2012-10-02, 2010-12-25]),\n",
      "(user_trialist:INTEGER, Examples: [0, 1]),\n",
      "(user_subscriber:INTEGER, Examples: [0, 1]),\n",
      "(user_avatar_image_url:TEXT),\n",
      "(user_cover_image_url:TEXT),\n",
      "(user_eligible_for_trial:INTEGER, Examples: [1, 0]),\n",
      "(user_has_payment_method:INTEGER, Examples: [0, 1])\n",
      "]\n",
      "【Foreign keys】\n",
      "lists.user_id=lists_users.user_id\n",
      "lists_users.list_id=lists.list_id\n",
      "lists_users.user_id=lists.user_id\n",
      "ratings.movie_id=movies.movie_id\n",
      "ratings.user_id=lists_users.user_id\n",
      "ratings.rating_id=ratings.rating_id\n",
      "ratings.user_id=ratings_users.user_id\n",
      "ratings_users.user_id=lists_users.user_id\n",
      "\n",
      "-- Using valid SQLite and understanding External Knowledge, answer the following questions for the tables provided above.\n",
      "-- question: State the most popular movie? When was it released and who is the director for the movie?\n",
      "-- External Knowledge: most popular movie refers to MAX(movie_popularity); when it was released refers to movie_release_year; director for the movie refers to director_name;\n",
      "\n",
      "\n",
      "Generate the SQLite for the above question after thinking step by step: \n",
      "\n",
      "\n",
      "Instructions:\n",
      "- Make sure you only output the information that is asked in the question. If the question asks for a specific column, make sure to only include that column in the SELECT clause, nothing more.\n",
      "- The generated query should return all of the information asked in the question without any missing or extra information.\n",
      "- Before generating the final SQL query, please think through the steps of how to write the query.\n",
      "- In your response, you should provide thoughts and answer (thoughts are separated with <think>).\n",
      "- Do not misuse column names, keep them in quotes `\n",
      "- Carefully understand what colomns belond to what tables\n",
      "- Use only initial column names, change names prohibited\n",
      "        \n",
      "Output Format:\n",
      "In your answer, please enclose the generated SQL query in a code block:\n",
      "```\n",
      "```    \n",
      "and nothing else, no exaplains, no comments (asnwer should be less than 512 characters)\n",
      "\n",
      "Take a deep breath and think step by step to find the correct SQL query in SQLite format.\n",
      "\n",
      "Question repetition: State the most popular movie? When was it released and who is the director for the movie?\n",
      "\n",
      "Be care! Include only what i want it questiona and nothing else\n"
     ]
    }
   ],
   "source": [
    "print(arr_dataset[0]['user'])"
   ]
  },
  {
   "cell_type": "code",
   "execution_count": 85,
   "id": "96945875-5073-489f-beee-436016a6860b",
   "metadata": {
    "scrolled": true
   },
   "outputs": [
    {
     "data": {
      "text/plain": [
       "[0, 0, 0, 0, 0, 1, 1, 1, 1, 1, 0, 0, 0, 0, 0, 0, 0, 0, 0, 0]"
      ]
     },
     "execution_count": 85,
     "metadata": {},
     "output_type": "execute_result"
    }
   ],
   "source": [
    "arr_values[0:20]"
   ]
  },
  {
   "cell_type": "code",
   "execution_count": 86,
   "id": "20587b52-dee2-4fdb-874b-5c3931e9b1e6",
   "metadata": {},
   "outputs": [
    {
     "data": {
      "text/plain": [
       "0.9479635129401782"
      ]
     },
     "execution_count": 86,
     "metadata": {},
     "output_type": "execute_result"
    }
   ],
   "source": [
    "np.mean(np.array(arr_lens)<30000)"
   ]
  },
  {
   "cell_type": "code",
   "execution_count": 87,
   "id": "386f2b7e-0a1c-4bcc-8edb-71455e8af81b",
   "metadata": {},
   "outputs": [
    {
     "data": {
      "image/png": "[encoded data removed]",
      "text/plain": [
       "<Figure size 640x480 with 1 Axes>"
      ]
     },
     "metadata": {},
     "output_type": "display_data"
    }
   ],
   "source": [
    "p = plt.hist(np.array(arr_lens)[np.array(arr_values)==1],bins=50)"
   ]
  },
  {
   "cell_type": "code",
   "execution_count": 88,
   "id": "c945ede2-98d0-4a91-889f-1f128392faa3",
   "metadata": {},
   "outputs": [
    {
     "data": {
      "image/png": "[encoded data removed]",
      "text/plain": [
       "<Figure size 640x480 with 1 Axes>"
      ]
     },
     "metadata": {},
     "output_type": "display_data"
    }
   ],
   "source": [
    "p = plt.hist(np.array(arr_lens)[np.array(arr_values)==0],bins=50)"
   ]
  },
  {
   "cell_type": "code",
   "execution_count": 59,
   "id": "c6643243-7f6d-4f74-9516-f2861883157d",
   "metadata": {
    "scrolled": true
   },
   "outputs": [
    {
     "data": {
      "text/plain": [
       "[7334,\n",
       " 7115,\n",
       " 7155,\n",
       " 8870,\n",
       " 8520,\n",
       " 10548,\n",
       " 8549,\n",
       " 8020,\n",
       " 8702,\n",
       " 10439,\n",
       " 8418,\n",
       " 11319,\n",
       " 12443,\n",
       " 9945,\n",
       " 10186,\n",
       " 7961,\n",
       " 7802,\n",
       " 7557,\n",
       " 10677,\n",
       " 12058]"
      ]
     },
     "execution_count": 59,
     "metadata": {},
     "output_type": "execute_result"
    }
   ],
   "source": [
    "arr_lens[0:20]"
   ]
  },
  {
   "cell_type": "code",
   "execution_count": 80,
   "id": "f8e9da1d-dcf3-497b-b443-ddbf78ce9913",
   "metadata": {},
   "outputs": [
    {
     "data": {
      "text/plain": [
       "28284"
      ]
     },
     "execution_count": 80,
     "metadata": {},
     "output_type": "execute_result"
    }
   ],
   "source": [
    "len(arr_dataset)"
   ]
  },
  {
   "cell_type": "code",
   "execution_count": null,
   "id": "461b88b2-aef5-401a-800f-dddb57a1b49b",
   "metadata": {},
   "outputs": [],
   "source": []
  },
  {
   "cell_type": "code",
   "execution_count": 89,
   "id": "2f2c8a5a-4abd-4a2e-a570-27cf73f90b25",
   "metadata": {},
   "outputs": [],
   "source": [
    "with open(\"/data/home/vkropoti/sql_data/train/train_dataset_sft\", \"wb\") as fp:   #Pickling\n",
    "        pickle.dump(arr_dataset, fp)"
   ]
  },
  {
   "cell_type": "code",
   "execution_count": 120,
   "id": "049fe5a2-92d9-4107-91ca-7be0f15188d8",
   "metadata": {},
   "outputs": [],
   "source": [
    "with open(\"/data/home/vkropoti/sql_data/train/train_dataset_sft_v2\", \"wb\") as fp:   #Pickling\n",
    "        pickle.dump(arr_dataset, fp)"
   ]
  },
  {
   "cell_type": "markdown",
   "id": "bc5d0e27-34ae-4525-adab-3f24c3feeb1b",
   "metadata": {},
   "source": [
    "### проверяем как загружается"
   ]
  },
  {
   "cell_type": "code",
   "execution_count": 16,
   "id": "c4073dcf-689d-4652-84ce-3ec662e2dd14",
   "metadata": {},
   "outputs": [],
   "source": [
    "import os, sys\n",
    "sys.path.append(\"/home/vkropoti/vllm\")\n",
    "sys.path.append(\"/home/vkropoti/vllm/src/utils\")\n",
    "import json\n",
    "from tqdm import tqdm"
   ]
  },
  {
   "cell_type": "code",
   "execution_count": 17,
   "id": "772a32a7-4f94-4164-b9c3-1e8a3cb81ff9",
   "metadata": {},
   "outputs": [
    {
     "name": "stderr",
     "output_type": "stream",
     "text": [
      "/data/home/vkropoti/vllm/lib64/python3.12/site-packages/tqdm/auto.py:21: TqdmWarning: IProgress not found. Please update jupyter and ipywidgets. See https://ipywidgets.readthedocs.io/en/stable/user_install.html\n",
      "  from .autonotebook import tqdm as notebook_tqdm\n"
     ]
    }
   ],
   "source": [
    "from transformers import AutoTokenizer"
   ]
  },
  {
   "cell_type": "code",
   "execution_count": 18,
   "id": "87365af4-1d63-4ee5-aa3a-cb60fc2f8fe3",
   "metadata": {},
   "outputs": [],
   "source": [
    "tokenizer = AutoTokenizer.from_pretrained(f\"/data/home/vkropoti/models/Qwen3-1.7B\")"
   ]
  },
  {
   "cell_type": "code",
   "execution_count": 19,
   "id": "bbf7c124-3e15-4e53-9fe7-851c61159baf",
   "metadata": {},
   "outputs": [],
   "source": [
    "from load_sft_dataset import SFTDataset"
   ]
  },
  {
   "cell_type": "code",
   "execution_count": 20,
   "id": "42ea0a57-283f-457d-b80d-37d9a86831bd",
   "metadata": {},
   "outputs": [
    {
     "name": "stderr",
     "output_type": "stream",
     "text": [
      "100%|██████████| 28284/28284 [00:03<00:00, 7797.93it/s]\n"
     ]
    },
    {
     "name": "stdout",
     "output_type": "stream",
     "text": [
      "input_ids 18698\n",
      "There are 0 sequences have been truncated.\n",
      "CPU times: user 59min 28s, sys: 30.1 s, total: 59min 58s\n",
      "Wall time: 3min 3s\n"
     ]
    }
   ],
   "source": [
    "%%time\n",
    "dataset = SFTDataset(\"/data/home/vkropoti/sql_data/train/train_dataset_sft\",tokenizer,19000,'sft')"
   ]
  },
  {
   "cell_type": "code",
   "execution_count": 28,
   "id": "dba0ebd2-880f-4f9c-965c-861a2da4fe71",
   "metadata": {},
   "outputs": [
    {
     "name": "stderr",
     "output_type": "stream",
     "text": [
      "100%|██████████| 28284/28284 [00:06<00:00, 4569.16it/s]\n"
     ]
    }
   ],
   "source": [
    "arr_len = []\n",
    "for i in tqdm(range(len(dataset))):\n",
    "    arr_len.append(max(np.arange(len(dataset[i]['attention_mask']))[dataset[i]['attention_mask'].numpy()==1]))"
   ]
  },
  {
   "cell_type": "code",
   "execution_count": 60,
   "id": "56795ff5-e27b-43e4-9b62-f9ebd6d02a69",
   "metadata": {},
   "outputs": [],
   "source": [
    "import matplotlib.pyplot as plt"
   ]
  },
  {
   "cell_type": "code",
   "execution_count": 33,
   "id": "5039c691-571f-42b2-8bcb-006cae0c86e3",
   "metadata": {},
   "outputs": [
    {
     "data": {
      "image/png": "[encoded data removed]",
      "text/plain": [
       "<Figure size 640x480 with 1 Axes>"
      ]
     },
     "metadata": {},
     "output_type": "display_data"
    }
   ],
   "source": [
    "p = plt.hist(arr_len,bins=50)"
   ]
  },
  {
   "cell_type": "code",
   "execution_count": 27,
   "id": "819c3707-f95a-42f1-9cde-f6f3d68cbfb1",
   "metadata": {},
   "outputs": [
    {
     "data": {
      "text/plain": [
       "2183"
      ]
     },
     "execution_count": 27,
     "metadata": {},
     "output_type": "execute_result"
    }
   ],
   "source": [
    "max(np.arange(len(dataset[0]['attention_mask']))[dataset[0]['attention_mask'].numpy()==1])"
   ]
  },
  {
   "cell_type": "code",
   "execution_count": 7,
   "id": "787419a7-afd3-44b8-acfc-cad829964379",
   "metadata": {},
   "outputs": [
    {
     "data": {
      "text/plain": [
       "[151644, 77091]"
      ]
     },
     "execution_count": 7,
     "metadata": {},
     "output_type": "execute_result"
    }
   ],
   "source": [
    "tokenizer.encode(\"<|im_start|>assistant\")"
   ]
  },
  {
   "cell_type": "code",
   "execution_count": 1,
   "id": "5055bdee-92ab-4521-88fb-29c20b7883ee",
   "metadata": {},
   "outputs": [
    {
     "ename": "ModuleNotFoundError",
     "evalue": "No module named 'monkey_patch_packing'",
     "output_type": "error",
     "traceback": [
      "\u001b[31m---------------------------------------------------------------------------\u001b[39m",
      "\u001b[31mModuleNotFoundError\u001b[39m                       Traceback (most recent call last)",
      "\u001b[36mCell\u001b[39m\u001b[36m \u001b[39m\u001b[32mIn[1]\u001b[39m\u001b[32m, line 1\u001b[39m\n\u001b[32m----> \u001b[39m\u001b[32m1\u001b[39m \u001b[38;5;28;01mfrom\u001b[39;00m\u001b[38;5;250m \u001b[39m\u001b[34;01mmonkey_patch_packing\u001b[39;00m\u001b[38;5;250m \u001b[39m\u001b[38;5;28;01mimport\u001b[39;00m monkey_patch_packing_for_model\n",
      "\u001b[31mModuleNotFoundError\u001b[39m: No module named 'monkey_patch_packing'"
     ]
    }
   ],
   "source": [
    "from monkey_patch_packing import monkey_patch_packing_for_model"
   ]
  },
  {
   "cell_type": "code",
   "execution_count": 65,
   "id": "3f774204-8cfe-4858-9e6d-17d15e366b78",
   "metadata": {},
   "outputs": [
    {
     "data": {
      "text/plain": [
       "6.138888888888888"
      ]
     },
     "execution_count": 65,
     "metadata": {},
     "output_type": "execute_result"
    }
   ],
   "source": [
    "884*25/60/60"
   ]
  },
  {
   "cell_type": "code",
   "execution_count": null,
   "id": "fd60d737-f6a3-44fb-a3bb-20ca088d7dc6",
   "metadata": {},
   "outputs": [],
   "source": []
  }
 ],
 "metadata": {
  "kernelspec": {
   "display_name": "vllm",
   "language": "python",
   "name": "vllm"
  },
  "language_info": {
   "codemirror_mode": {
    "name": "ipython",
    "version": 3
   },
   "file_extension": ".py",
   "mimetype": "text/x-python",
   "name": "python",
   "nbconvert_exporter": "python",
   "pygments_lexer": "ipython3",
   "version": "3.12.4"
  }
 },
 "nbformat": 4,
 "nbformat_minor": 5
}
