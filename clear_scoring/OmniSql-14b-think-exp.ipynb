{
 "cells": [
  {
   "cell_type": "code",
   "execution_count": 1,
   "id": "8fc211c7-82bd-49c0-b7e2-1c1d6ad9134f",
   "metadata": {},
   "outputs": [
    {
     "name": "stdout",
     "output_type": "stream",
     "text": [
      "INFO 06-03 00:34:35 [__init__.py:239] Automatically detected platform cuda.\n"
     ]
    },
    {
     "name": "stderr",
     "output_type": "stream",
     "text": [
      "2025-06-03 00:34:36,950\tINFO util.py:154 -- Missing packages: ['ipywidgets']. Run `pip install -U ipywidgets`, then restart the notebook server for rich notebook output.\n"
     ]
    }
   ],
   "source": [
    "import os, sys\n",
    "sys.path.append(\"/home/vkropoti/vllm\")\n",
    "\n",
    "from src.experiment import run_think_experiment\n",
    "import random\n",
    "import numpy as np"
   ]
  },
  {
   "cell_type": "code",
   "execution_count": 2,
   "id": "ff95fe4c-4743-4a91-abcf-94e139e1a6d4",
   "metadata": {},
   "outputs": [
    {
     "name": "stdout",
     "output_type": "stream",
     "text": [
      "[941, 278, 416, 636, 34, 399, 491, 251, 846, 782, 565, 334, 923, 123, 531, 888, 232, 829, 962, 96]\n",
      "model: OmniSQL-14B\n"
     ]
    }
   ],
   "source": [
    "n= 20\n",
    "arr_seeds = [random.randint(0,1000) for _ in range(n)]\n",
    "arr_versions = [x for x in range(n)]\n",
    "model = \"OmniSQL-14B\"\n",
    "print(arr_seeds)\n",
    "print(f\"model: {model}\")"
   ]
  },
  {
   "cell_type": "code",
   "execution_count": 3,
   "id": "a15e1546-972b-4bf9-accc-f7acdf4137e9",
   "metadata": {
    "scrolled": true
   },
   "outputs": [
    {
     "name": "stdout",
     "output_type": "stream",
     "text": [
      "Загружаем модель...\n"
     ]
    },
    {
     "name": "stderr",
     "output_type": "stream",
     "text": [
      "Loading safetensors checkpoint shards:   0% Completed | 0/1 [00:00<?, ?it/s]\n",
      "Loading safetensors checkpoint shards: 100% Completed | 1/1 [00:03<00:00,  3.42s/it]\n",
      "Loading safetensors checkpoint shards: 100% Completed | 1/1 [00:03<00:00,  3.42s/it]\n",
      "\u001b[1;36m(VllmWorker rank=0 pid=3679168)\u001b[0;0m \n"
     ]
    },
    {
     "name": "stdout",
     "output_type": "stream",
     "text": [
      "Модель успешно загружена\n",
      "model_config {'model': '/data/home/vkropoti/models/OmniSQL-14B', 'tensor_parallel_size': 2, 'max_model_len': 25000, 'max_new_tokens': 15000, 'temperature': 0.95, 'top_k': 50, 'top_p': 0.95, 'gpu_memory_utilization': 0.9, 'trust_remote_code': False, 'seed': 941}\n",
      "\n",
      "prompts_config {'path_dev_json': '/home/vkropoti/vllm/dev.json', 'path_sql_dbs': '/data/home/vkropoti/sql_data/dev_databases/', 'use_reasoning': True, 'paths_to_cot': None}\n",
      "\n",
      "save_config {'path_sql_save': '/data/home/vkropoti/sql_llm_answers/bird_dev_m_schema/sql_all_OmniSQL-14B-reasoning-v0', 'path_think_save': '/data/home/vkropoti/sql_llm_answers/bird_dev_m_schema/sql_think_OmniSQL-14B-reasoning-v0', 'path_sql_answers_save': '/data/home/vkropoti/sql_llm_answers/bird_dev_m_schema/sql_predict_OmniSQL-14B-reasoning-v0', 'path_to_save_scores': '/data/home/vkropoti/sql_llm_answers/bird_dev_m_schema/sql_results_OmniSQL-14B-reasoning-v0', 'path_to_save_executed': '/data/home/vkropoti/sql_llm_answers/bird_dev_m_schema/sql_executed_OmniSQL-14B-reasoning-v0'}\n",
      "\n",
      "Модель успешно загружена\n"
     ]
    },
    {
     "name": "stderr",
     "output_type": "stream",
     "text": [
      "100%|██████████| 1534/1534 [00:00<00:00, 488465.10it/s]\n"
     ]
    },
    {
     "name": "stdout",
     "output_type": "stream",
     "text": [
      "Пример промпта\n",
      "<|im_start|>system\n",
      "You are Qwen, created by Alibaba Cloud. You are a helpful assistant.<|im_end|>\n",
      "<|im_start|>user\n",
      "Task Overview:\n",
      "You are a data science expert. Below, you are provided with a database schema and a natural language question. Your task is to understand the schema and generate a valid SQL query to answer the question.\n",
      "\n",
      "Database Engine:\n",
      "SQLite\n",
      "\n",
      "Database Schema:\n",
      "CREATE TABLE frpm (\n",
      "    CDSCode text, -- example: ['01100170109835', '01100170112607']\n",
      "    `Academic Year` text, -- example: ['2014-2015']\n",
      "    `County Code` text, -- example: ['01', '02']\n",
      "    `District Code` integer, -- example: [10017, 31609]\n",
      "    `School Code` text, -- example: ['0109835', '0112607']\n",
      "    `County Name` text, -- example: ['Alameda', 'Alpine']\n",
      "    `District Name` text, -- example: ['Alameda County Office of Education', 'California School for the Blind (State S']\n",
      "    `School Name` text, -- example: ['FAME Public Charter', 'Envision Academy for Arts & Technology']\n",
      "    `District Type` text, -- example: ['County Office of Education (COE)', 'State Special Schools']\n",
      "    `School Type` text, -- example: ['K-12 Schools (Public)', 'High Schools (Public)']\n",
      "    `Educational Option Type` text, -- example: ['Traditional', 'Juvenile Court School']\n",
      "    `NSLP Provision Status` text, -- example: ['Breakfast Provision 2', 'Provision 2']\n",
      "    `Charter School (Y/N)` integer, -- example: [1, 0]\n",
      "    `Charter School Number` text, -- example: ['0728', '0811']\n",
      "    `Charter Funding Type` text, -- example: ['Directly funded', 'Locally funded']\n",
      "    IRC integer, -- example: [1, 0]\n",
      "    `Low Grade` text, -- example: ['K', '9']\n",
      "    `High Grade` text, -- example: ['12', '8']\n",
      "    `Enrollment (K-12)` real, -- example: [1087.0, 395.0]\n",
      "    `Free Meal Count (K-12)` real, -- example: [565.0, 186.0]\n",
      "    `Percent (%) Eligible Free (K-12)` real, -- example: [0.519779208831647, 0.470886075949367]\n",
      "    `FRPM Count (K-12)` real, -- example: [715.0, 186.0]\n",
      "    `Percent (%) Eligible FRPM (K-12)` real, -- example: [0.657773689052438, 0.470886075949367]\n",
      "    `Enrollment (Ages 5-17)` real, -- example: [1070.0, 376.0]\n",
      "    `Free Meal Count (Ages 5-17)` real, -- example: [553.0, 182.0]\n",
      "    `Percent (%) Eligible Free (Ages 5-17)` real, -- example: [0.516822429906542, 0.484042553191489]\n",
      "    `FRPM Count (Ages 5-17)` real, -- example: [702.0, 182.0]\n",
      "    `Percent (%) Eligible FRPM (Ages 5-17)` real, -- example: [0.65607476635514, 0.484042553191489]\n",
      "    `2013-14 CALPADS Fall 1 Certification Status` integer, -- example: [1]\n",
      "    PRIMARY KEY (CDSCode),\n",
      "    CONSTRAINT fk_frpm_cdscode FOREIGN KEY (CDSCode) REFERENCES schools (CDSCode)\n",
      ");\n",
      "\n",
      "CREATE TABLE satscores (\n",
      "    cds text, -- example: ['10101080000000', '10101080109991']\n",
      "    rtype text, -- example: ['D', 'S']\n",
      "    sname text, -- school name, example: ['FAME Public Charter', 'Envision Academy for Arts & Technology']\n",
      "    dname text, -- district name, example: ['Alameda County Office of Education', 'Alameda Unified']\n",
      "    cname text, -- county name, example: ['Alameda', 'Amador']\n",
      "    enroll12 integer, -- enrollment (1st-12nd grade), example: [398, 62]\n",
      "    NumTstTakr integer, -- Number of Test Takers, example: [88, 17]\n",
      "    AvgScrRead integer, -- average scores in Reading, example: [418, 503]\n",
      "    AvgScrMath integer, -- average scores in Math, example: [418, 546]\n",
      "    AvgScrWrite integer, -- average scores in writing, example: [417, 505]\n",
      "    NumGE1500 integer, -- Number of Test Takers Whose Total SAT Scores Are Greater or Equal to 1500, example: [14, 9]\n",
      "    PRIMARY KEY (cds),\n",
      "    CONSTRAINT fk_satscores_cds FOREIGN KEY (cds) REFERENCES schools (CDSCode)\n",
      ");\n",
      "\n",
      "CREATE TABLE schools (\n",
      "    CDSCode text, -- example: ['01100170000000', '01100170109835']\n",
      "    NCESDist text, -- National Center for Educational Statistics school district identification number, example: ['0691051', '0600002']\n",
      "    NCESSchool text, -- National Center for Educational Statistics school identification number, example: ['10546', '10947']\n",
      "    StatusType text, -- example: ['Active', 'Closed']\n",
      "    County text, -- example: ['Alameda', 'Alpine']\n",
      "    District text, -- example: ['Alameda County Office of Education', 'California School for the Blind (State S']\n",
      "    School text, -- example: ['FAME Public Charter', 'Envision Academy for Arts & Technology']\n",
      "    Street text, -- example: ['313 West Winton Avenue', '39899 Balentine Drive, Suite 335']\n",
      "    StreetAbr text, -- street address, example: ['313 West Winton Ave.', '39899 Balentine Dr., Ste. 335']\n",
      "    City text, -- example: ['Alameda', 'Hayward', 'Newark']\n",
      "    Zip text, -- example: ['94544-1136', '94560-5359']\n",
      "    State text, -- example: ['CA']\n",
      "    MailStreet text, -- example: ['313 West Winton Avenue', '39899 Balentine Drive, Suite 335']\n",
      "    MailStrAbr text, -- mailing street address, example: ['313 West Winton Ave.', '39899 Balentine Dr., Ste. 335']\n",
      "    MailCity text, -- mailing city, example: ['Alameda', 'Hayward', 'Newark']\n",
      "    MailZip text, -- mailing zip, example: ['94544-1136', '94560-5359']\n",
      "    MailState text, -- mailing state, example: ['CA']\n",
      "    Phone text, -- example: ['(510) 887-0152', '(510) 596-8901']\n",
      "    Ext text, -- extension, example: ['130', '1240']\n",
      "    Website text, -- example: ['www.acoe.org', 'www.envisionacademy.org/']\n",
      "    OpenDate date, -- example: ['2005-08-29', '2006-08-28']\n",
      "    ClosedDate date, -- example: ['2015-07-31', '2015-06-30']\n",
      "    Charter integer, -- example: [1, 0]\n",
      "    CharterNum text, -- example: ['0728', '0811']\n",
      "    FundingType text, -- example: ['Directly funded', 'Locally funded']\n",
      "    DOC text, -- District Ownership Code, example: ['00', '31']\n",
      "    DOCType text, -- The District Ownership Code Type, example: ['County Office of Education (COE)', 'State Special Schools']\n",
      "    SOC text, -- School Ownership Code, example: ['65', '66']\n",
      "    SOCType text, -- School Ownership Code Type, example: ['K-12 Schools (Public)', 'High Schools (Public)']\n",
      "    EdOpsCode text, -- Education Option Code, example: ['TRAD', 'JUV']\n",
      "    EdOpsName text, -- Educational Option Name, example: ['Traditional', 'Juvenile Court School']\n",
      "    EILCode text, -- Educational Instruction Level Code, example: ['ELEMHIGH', 'HS']\n",
      "    EILName text, -- Educational Instruction Level Name, example: ['Elementary-High Combination', 'High School']\n",
      "    GSoffered text, -- grade span offered, example: ['K-12', '9-12']\n",
      "    GSserved text, -- grade span served., example: ['K-12', '9-12']\n",
      "    Virtual text, -- example: ['P', 'N']\n",
      "    Magnet integer, -- example: [0, 1]\n",
      "    Latitude real, -- example: [37.658212, 37.521436]\n",
      "    Longitude real, -- example: [-122.09713, -121.99391]\n",
      "    AdmFName1 text, -- administrator's first name 1, example: ['L Karen', 'Laura']\n",
      "    AdmLName1 text, -- administrator's last name 1, example: ['Free', 'Monroe', 'Robell']\n",
      "    AdmEmail1 text, -- administrator's email address 1, example: ['lkmonroe@acoe.org', 'laura@envisionacademy.org']\n",
      "    AdmFName2 text, -- administrator's first name 2, example: ['Sau-Lim (Lance)', 'Jennifer']\n",
      "    AdmLName2 text, -- administrator's last name 2, example: ['Tsang', 'Koelling']\n",
      "    AdmEmail2 text, -- administrator's email address 2, example: ['stsang@unityhigh.org', 'jkoelling@efcps.net']\n",
      "    AdmFName3 text, -- administrator's first name 3, example: ['Drew', 'Irma']\n",
      "    AdmLName3 text, -- administrator's last name 3, example: ['Sarratore', 'Munoz']\n",
      "    AdmEmail3 text, -- administrator's email address 3, example: ['dsarratore@vincentacademy.org', 'gmunoz@piedmont.k12.ca.us']\n",
      "    LastUpdate date, -- example: ['2015-06-23', '2015-09-01']\n",
      "    PRIMARY KEY (CDSCode)\n",
      ");\n",
      "This schema describes the database's structure, including tables, columns, primary keys, foreign keys, and any relevant relationships or constraints.\n",
      "\n",
      "Question:\n",
      "Eligible free rate for K-12 = `Free Meal Count (K-12)` / `Enrollment (K-12)`\n",
      "What is the highest eligible free rate for K-12 students in the schools in Alameda County?\n",
      "\n",
      "Instructions:\n",
      "- Make sure you only output the information that is asked in the question. If the question asks for a specific column, make sure to only include that column in the SELECT clause, nothing more.\n",
      "- The generated query should return all of the information asked in the question without any missing or extra information.\n",
      "- Before generating the final SQL query, please think through the steps of how to write the query.\n",
      "\n",
      "Output Format:\n",
      "In your answer, please enclose the generated SQL query in a code block:\n",
      "```sql\n",
      "-- Your SQL query\n",
      "```\n",
      "\n",
      "Take a deep breath and think step by step to find the correct SQL query.\n",
      "<|im_end|>\n",
      "<|im_start|>assistant\n",
      "\n",
      "\n",
      "\n",
      "Максимальное количество токенов в промптах: 5092\n",
      "\n",
      "начинаем скорринг\n",
      "Загружаем чаты с данными...\n"
     ]
    },
    {
     "name": "stderr",
     "output_type": "stream",
     "text": [
      "100%|██████████| 1534/1534 [00:00<00:00, 1450092.93it/s]\n"
     ]
    },
    {
     "name": "stdout",
     "output_type": "stream",
     "text": [
      "Данные успешно загружены\n",
      "Начали генерацию SQL запросов\n"
     ]
    },
    {
     "name": "stderr",
     "output_type": "stream",
     "text": [
      "Processed prompts: 100%|██████████| 1534/1534 [05:13<00:00,  4.89it/s, est. speed input: 10910.02 toks/s, output: 3191.79 toks/s]"
     ]
    },
    {
     "name": "stdout",
     "output_type": "stream",
     "text": [
      "extract_think количество ошибок:  0\n",
      "extract_sql количество ошибок:  0\n",
      "Закончили генерацию SQL запросов\n",
      "Начали скорр полученных SQL запросов\n"
     ]
    },
    {
     "name": "stderr",
     "output_type": "stream",
     "text": [
      "\n"
     ]
    },
    {
     "name": "stdout",
     "output_type": "stream",
     "text": [
      "OmniSQL-14B DEV Финальный результат EX: 62.78\n",
      "OmniSQL-14B процент запросов, которые успешно выполнились DEV: 96.48%\n",
      "====================================================================================================\n",
      "\n",
      "\n",
      "Загружаем чаты с данными...\n"
     ]
    },
    {
     "name": "stderr",
     "output_type": "stream",
     "text": [
      "100%|██████████| 1534/1534 [00:00<00:00, 1057190.66it/s]\n"
     ]
    },
    {
     "name": "stdout",
     "output_type": "stream",
     "text": [
      "Данные успешно загружены\n",
      "Начали генерацию SQL запросов\n"
     ]
    },
    {
     "name": "stderr",
     "output_type": "stream",
     "text": [
      "Processed prompts: 100%|██████████| 1534/1534 [05:08<00:00,  4.98it/s, est. speed input: 11110.09 toks/s, output: 3236.34 toks/s]"
     ]
    },
    {
     "name": "stdout",
     "output_type": "stream",
     "text": [
      "extract_think количество ошибок:  0\n",
      "extract_sql количество ошибок:  0\n",
      "Закончили генерацию SQL запросов\n",
      "Начали скорр полученных SQL запросов\n"
     ]
    },
    {
     "name": "stderr",
     "output_type": "stream",
     "text": [
      "\n"
     ]
    },
    {
     "name": "stdout",
     "output_type": "stream",
     "text": [
      "OmniSQL-14B DEV Финальный результат EX: 63.43\n",
      "OmniSQL-14B процент запросов, которые успешно выполнились DEV: 96.68%\n",
      "====================================================================================================\n",
      "\n",
      "\n",
      "Загружаем чаты с данными...\n"
     ]
    },
    {
     "name": "stderr",
     "output_type": "stream",
     "text": [
      "100%|██████████| 1534/1534 [00:00<00:00, 1222044.13it/s]\n"
     ]
    },
    {
     "name": "stdout",
     "output_type": "stream",
     "text": [
      "Данные успешно загружены\n",
      "Начали генерацию SQL запросов\n"
     ]
    },
    {
     "name": "stderr",
     "output_type": "stream",
     "text": [
      "Processed prompts: 100%|██████████| 1534/1534 [05:09<00:00,  4.95it/s, est. speed input: 11052.25 toks/s, output: 3223.47 toks/s]"
     ]
    },
    {
     "name": "stdout",
     "output_type": "stream",
     "text": [
      "extract_think количество ошибок:  0\n",
      "extract_sql количество ошибок:  0\n",
      "Закончили генерацию SQL запросов\n",
      "Начали скорр полученных SQL запросов\n"
     ]
    },
    {
     "name": "stderr",
     "output_type": "stream",
     "text": [
      "\n"
     ]
    },
    {
     "name": "stdout",
     "output_type": "stream",
     "text": [
      "OmniSQL-14B DEV Финальный результат EX: 62.71\n",
      "OmniSQL-14B процент запросов, которые успешно выполнились DEV: 96.61%\n",
      "====================================================================================================\n",
      "\n",
      "\n",
      "Загружаем чаты с данными...\n"
     ]
    },
    {
     "name": "stderr",
     "output_type": "stream",
     "text": [
      "100%|██████████| 1534/1534 [00:00<00:00, 1138973.68it/s]\n"
     ]
    },
    {
     "name": "stdout",
     "output_type": "stream",
     "text": [
      "Данные успешно загружены\n",
      "Начали генерацию SQL запросов\n"
     ]
    },
    {
     "name": "stderr",
     "output_type": "stream",
     "text": [
      "Processed prompts: 100%|██████████| 1534/1534 [05:07<00:00,  5.00it/s, est. speed input: 11145.48 toks/s, output: 3231.46 toks/s]"
     ]
    },
    {
     "name": "stdout",
     "output_type": "stream",
     "text": [
      "extract_think количество ошибок:  0\n",
      "extract_sql количество ошибок:  0\n",
      "Закончили генерацию SQL запросов\n",
      "Начали скорр полученных SQL запросов\n"
     ]
    },
    {
     "name": "stderr",
     "output_type": "stream",
     "text": [
      "\n"
     ]
    },
    {
     "name": "stdout",
     "output_type": "stream",
     "text": [
      "OmniSQL-14B DEV Финальный результат EX: 62.91\n",
      "OmniSQL-14B процент запросов, которые успешно выполнились DEV: 96.48%\n",
      "====================================================================================================\n",
      "\n",
      "\n",
      "Загружаем чаты с данными...\n"
     ]
    },
    {
     "name": "stderr",
     "output_type": "stream",
     "text": [
      "100%|██████████| 1534/1534 [00:00<00:00, 1145054.70it/s]\n"
     ]
    },
    {
     "name": "stdout",
     "output_type": "stream",
     "text": [
      "Данные успешно загружены\n",
      "Начали генерацию SQL запросов\n"
     ]
    },
    {
     "name": "stderr",
     "output_type": "stream",
     "text": [
      "Processed prompts: 100%|██████████| 1534/1534 [05:17<00:00,  4.84it/s, est. speed input: 10788.70 toks/s, output: 3131.71 toks/s]"
     ]
    },
    {
     "name": "stdout",
     "output_type": "stream",
     "text": [
      "extract_think количество ошибок:  0\n",
      "extract_sql количество ошибок:  0\n",
      "Закончили генерацию SQL запросов\n",
      "Начали скорр полученных SQL запросов\n"
     ]
    },
    {
     "name": "stderr",
     "output_type": "stream",
     "text": [
      "\n"
     ]
    },
    {
     "name": "stdout",
     "output_type": "stream",
     "text": [
      "OmniSQL-14B DEV Финальный результат EX: 63.62\n",
      "OmniSQL-14B процент запросов, которые успешно выполнились DEV: 97.07%\n",
      "====================================================================================================\n",
      "\n",
      "\n",
      "Загружаем чаты с данными...\n"
     ]
    },
    {
     "name": "stderr",
     "output_type": "stream",
     "text": [
      "100%|██████████| 1534/1534 [00:00<00:00, 1158664.21it/s]\n"
     ]
    },
    {
     "name": "stdout",
     "output_type": "stream",
     "text": [
      "Данные успешно загружены\n",
      "Начали генерацию SQL запросов\n"
     ]
    },
    {
     "name": "stderr",
     "output_type": "stream",
     "text": [
      "Processed prompts: 100%|██████████| 1534/1534 [05:10<00:00,  4.93it/s, est. speed input: 11010.28 toks/s, output: 3223.22 toks/s]"
     ]
    },
    {
     "name": "stdout",
     "output_type": "stream",
     "text": [
      "extract_think количество ошибок:  0\n",
      "extract_sql количество ошибок:  0\n",
      "Закончили генерацию SQL запросов\n",
      "Начали скорр полученных SQL запросов\n"
     ]
    },
    {
     "name": "stderr",
     "output_type": "stream",
     "text": [
      "\n"
     ]
    },
    {
     "name": "stdout",
     "output_type": "stream",
     "text": [
      "OmniSQL-14B DEV Финальный результат EX: 62.52\n",
      "OmniSQL-14B процент запросов, которые успешно выполнились DEV: 96.94%\n",
      "====================================================================================================\n",
      "\n",
      "\n",
      "Загружаем чаты с данными...\n"
     ]
    },
    {
     "name": "stderr",
     "output_type": "stream",
     "text": [
      "100%|██████████| 1534/1534 [00:00<00:00, 1124050.02it/s]\n"
     ]
    },
    {
     "name": "stdout",
     "output_type": "stream",
     "text": [
      "Данные успешно загружены\n",
      "Начали генерацию SQL запросов\n"
     ]
    },
    {
     "name": "stderr",
     "output_type": "stream",
     "text": [
      "Processed prompts: 100%|██████████| 1534/1534 [05:07<00:00,  4.99it/s, est. speed input: 11124.80 toks/s, output: 3248.39 toks/s]"
     ]
    },
    {
     "name": "stdout",
     "output_type": "stream",
     "text": [
      "extract_think количество ошибок:  0\n",
      "extract_sql количество ошибок:  0\n",
      "Закончили генерацию SQL запросов\n",
      "Начали скорр полученных SQL запросов\n"
     ]
    },
    {
     "name": "stderr",
     "output_type": "stream",
     "text": [
      "\n"
     ]
    },
    {
     "name": "stdout",
     "output_type": "stream",
     "text": [
      "OmniSQL-14B DEV Финальный результат EX: 62.78\n",
      "OmniSQL-14B процент запросов, которые успешно выполнились DEV: 96.48%\n",
      "====================================================================================================\n",
      "\n",
      "\n",
      "Загружаем чаты с данными...\n"
     ]
    },
    {
     "name": "stderr",
     "output_type": "stream",
     "text": [
      "100%|██████████| 1534/1534 [00:00<00:00, 1083357.86it/s]\n"
     ]
    },
    {
     "name": "stdout",
     "output_type": "stream",
     "text": [
      "Данные успешно загружены\n",
      "Начали генерацию SQL запросов\n"
     ]
    },
    {
     "name": "stderr",
     "output_type": "stream",
     "text": [
      "Processed prompts: 100%|██████████| 1534/1534 [05:08<00:00,  4.97it/s, est. speed input: 11088.18 toks/s, output: 3226.95 toks/s]"
     ]
    },
    {
     "name": "stdout",
     "output_type": "stream",
     "text": [
      "extract_think количество ошибок:  0\n",
      "extract_sql количество ошибок:  0\n",
      "Закончили генерацию SQL запросов\n",
      "Начали скорр полученных SQL запросов\n"
     ]
    },
    {
     "name": "stderr",
     "output_type": "stream",
     "text": [
      "\n"
     ]
    },
    {
     "name": "stdout",
     "output_type": "stream",
     "text": [
      "OmniSQL-14B DEV Финальный результат EX: 62.91\n",
      "OmniSQL-14B процент запросов, которые успешно выполнились DEV: 96.87%\n",
      "====================================================================================================\n",
      "\n",
      "\n",
      "Загружаем чаты с данными...\n"
     ]
    },
    {
     "name": "stderr",
     "output_type": "stream",
     "text": [
      "100%|██████████| 1534/1534 [00:00<00:00, 1099463.83it/s]\n"
     ]
    },
    {
     "name": "stdout",
     "output_type": "stream",
     "text": [
      "Данные успешно загружены\n",
      "Начали генерацию SQL запросов\n"
     ]
    },
    {
     "name": "stderr",
     "output_type": "stream",
     "text": [
      "Processed prompts: 100%|██████████| 1534/1534 [05:10<00:00,  4.94it/s, est. speed input: 11018.98 toks/s, output: 3216.22 toks/s]"
     ]
    },
    {
     "name": "stdout",
     "output_type": "stream",
     "text": [
      "extract_think количество ошибок:  0\n",
      "extract_sql количество ошибок:  0\n",
      "Закончили генерацию SQL запросов\n",
      "Начали скорр полученных SQL запросов\n"
     ]
    },
    {
     "name": "stderr",
     "output_type": "stream",
     "text": [
      "\n"
     ]
    },
    {
     "name": "stdout",
     "output_type": "stream",
     "text": [
      "OmniSQL-14B DEV Финальный результат EX: 64.15\n",
      "OmniSQL-14B процент запросов, которые успешно выполнились DEV: 97.33%\n",
      "====================================================================================================\n",
      "\n",
      "\n",
      "Загружаем чаты с данными...\n"
     ]
    },
    {
     "name": "stderr",
     "output_type": "stream",
     "text": [
      "100%|██████████| 1534/1534 [00:00<00:00, 1041616.05it/s]\n"
     ]
    },
    {
     "name": "stdout",
     "output_type": "stream",
     "text": [
      "Данные успешно загружены\n",
      "Начали генерацию SQL запросов\n"
     ]
    },
    {
     "name": "stderr",
     "output_type": "stream",
     "text": [
      "Processed prompts: 100%|██████████| 1534/1534 [05:10<00:00,  4.95it/s, est. speed input: 11035.90 toks/s, output: 3214.55 toks/s]"
     ]
    },
    {
     "name": "stdout",
     "output_type": "stream",
     "text": [
      "extract_think количество ошибок:  0\n",
      "extract_sql количество ошибок:  0\n",
      "Закончили генерацию SQL запросов\n",
      "Начали скорр полученных SQL запросов\n"
     ]
    },
    {
     "name": "stderr",
     "output_type": "stream",
     "text": [
      "\n"
     ]
    },
    {
     "name": "stdout",
     "output_type": "stream",
     "text": [
      "OmniSQL-14B DEV Финальный результат EX: 62.39\n",
      "OmniSQL-14B процент запросов, которые успешно выполнились DEV: 96.15%\n",
      "====================================================================================================\n",
      "\n",
      "\n",
      "Загружаем чаты с данными...\n"
     ]
    },
    {
     "name": "stderr",
     "output_type": "stream",
     "text": [
      "100%|██████████| 1534/1534 [00:00<00:00, 1070737.62it/s]\n"
     ]
    },
    {
     "name": "stdout",
     "output_type": "stream",
     "text": [
      "Данные успешно загружены\n",
      "Начали генерацию SQL запросов\n"
     ]
    },
    {
     "name": "stderr",
     "output_type": "stream",
     "text": [
      "Processed prompts: 100%|██████████| 1534/1534 [05:12<00:00,  4.92it/s, est. speed input: 10967.05 toks/s, output: 3215.15 toks/s]"
     ]
    },
    {
     "name": "stdout",
     "output_type": "stream",
     "text": [
      "extract_think количество ошибок:  0\n",
      "extract_sql количество ошибок:  0\n",
      "Закончили генерацию SQL запросов\n",
      "Начали скорр полученных SQL запросов\n"
     ]
    },
    {
     "name": "stderr",
     "output_type": "stream",
     "text": [
      "\n"
     ]
    },
    {
     "name": "stdout",
     "output_type": "stream",
     "text": [
      "OmniSQL-14B DEV Финальный результат EX: 64.60\n",
      "OmniSQL-14B процент запросов, которые успешно выполнились DEV: 96.61%\n",
      "====================================================================================================\n",
      "\n",
      "\n",
      "Загружаем чаты с данными...\n"
     ]
    },
    {
     "name": "stderr",
     "output_type": "stream",
     "text": [
      "100%|██████████| 1534/1534 [00:00<00:00, 1115282.08it/s]\n"
     ]
    },
    {
     "name": "stdout",
     "output_type": "stream",
     "text": [
      "Данные успешно загружены\n",
      "Начали генерацию SQL запросов\n"
     ]
    },
    {
     "name": "stderr",
     "output_type": "stream",
     "text": [
      "Processed prompts: 100%|██████████| 1534/1534 [05:07<00:00,  4.98it/s, est. speed input: 11121.81 toks/s, output: 3230.96 toks/s]"
     ]
    },
    {
     "name": "stdout",
     "output_type": "stream",
     "text": [
      "extract_think количество ошибок:  0\n",
      "extract_sql количество ошибок:  0\n",
      "Закончили генерацию SQL запросов\n",
      "Начали скорр полученных SQL запросов\n"
     ]
    },
    {
     "name": "stderr",
     "output_type": "stream",
     "text": [
      "\n"
     ]
    },
    {
     "name": "stdout",
     "output_type": "stream",
     "text": [
      "OmniSQL-14B DEV Финальный результат EX: 63.56\n",
      "OmniSQL-14B процент запросов, которые успешно выполнились DEV: 96.48%\n",
      "====================================================================================================\n",
      "\n",
      "\n",
      "Загружаем чаты с данными...\n"
     ]
    },
    {
     "name": "stderr",
     "output_type": "stream",
     "text": [
      "100%|██████████| 1534/1534 [00:00<00:00, 1024043.03it/s]\n"
     ]
    },
    {
     "name": "stdout",
     "output_type": "stream",
     "text": [
      "Данные успешно загружены\n",
      "Начали генерацию SQL запросов\n"
     ]
    },
    {
     "name": "stderr",
     "output_type": "stream",
     "text": [
      "Processed prompts: 100%|██████████| 1534/1534 [05:06<00:00,  5.00it/s, est. speed input: 11157.78 toks/s, output: 3232.37 toks/s]"
     ]
    },
    {
     "name": "stdout",
     "output_type": "stream",
     "text": [
      "extract_think количество ошибок:  0\n",
      "extract_sql количество ошибок:  0\n",
      "Закончили генерацию SQL запросов\n",
      "Начали скорр полученных SQL запросов\n"
     ]
    },
    {
     "name": "stderr",
     "output_type": "stream",
     "text": [
      "\n"
     ]
    },
    {
     "name": "stdout",
     "output_type": "stream",
     "text": [
      "OmniSQL-14B DEV Финальный результат EX: 63.43\n",
      "OmniSQL-14B процент запросов, которые успешно выполнились DEV: 96.02%\n",
      "====================================================================================================\n",
      "\n",
      "\n",
      "Загружаем чаты с данными...\n"
     ]
    },
    {
     "name": "stderr",
     "output_type": "stream",
     "text": [
      "100%|██████████| 1534/1534 [00:00<00:00, 995984.88it/s]\n"
     ]
    },
    {
     "name": "stdout",
     "output_type": "stream",
     "text": [
      "Данные успешно загружены\n",
      "Начали генерацию SQL запросов\n"
     ]
    },
    {
     "name": "stderr",
     "output_type": "stream",
     "text": [
      "Processed prompts: 100%|██████████| 1534/1534 [05:07<00:00,  4.98it/s, est. speed input: 11117.40 toks/s, output: 3222.97 toks/s]"
     ]
    },
    {
     "name": "stdout",
     "output_type": "stream",
     "text": [
      "extract_think количество ошибок:  0\n",
      "extract_sql количество ошибок:  0\n",
      "Закончили генерацию SQL запросов\n",
      "Начали скорр полученных SQL запросов\n"
     ]
    },
    {
     "name": "stderr",
     "output_type": "stream",
     "text": [
      "\n"
     ]
    },
    {
     "name": "stdout",
     "output_type": "stream",
     "text": [
      "OmniSQL-14B DEV Финальный результат EX: 63.95\n",
      "OmniSQL-14B процент запросов, которые успешно выполнились DEV: 96.74%\n",
      "====================================================================================================\n",
      "\n",
      "\n",
      "Загружаем чаты с данными...\n"
     ]
    },
    {
     "name": "stderr",
     "output_type": "stream",
     "text": [
      "100%|██████████| 1534/1534 [00:00<00:00, 1026329.93it/s]\n"
     ]
    },
    {
     "name": "stdout",
     "output_type": "stream",
     "text": [
      "Данные успешно загружены\n",
      "Начали генерацию SQL запросов\n"
     ]
    },
    {
     "name": "stderr",
     "output_type": "stream",
     "text": [
      "Processed prompts: 100%|██████████| 1534/1534 [05:07<00:00,  4.99it/s, est. speed input: 11138.14 toks/s, output: 3229.84 toks/s]"
     ]
    },
    {
     "name": "stdout",
     "output_type": "stream",
     "text": [
      "extract_think количество ошибок:  0\n",
      "extract_sql количество ошибок:  0\n",
      "Закончили генерацию SQL запросов\n",
      "Начали скорр полученных SQL запросов\n"
     ]
    },
    {
     "name": "stderr",
     "output_type": "stream",
     "text": [
      "\n"
     ]
    },
    {
     "name": "stdout",
     "output_type": "stream",
     "text": [
      "OmniSQL-14B DEV Финальный результат EX: 63.82\n",
      "OmniSQL-14B процент запросов, которые успешно выполнились DEV: 96.48%\n",
      "====================================================================================================\n",
      "\n",
      "\n",
      "Загружаем чаты с данными...\n"
     ]
    },
    {
     "name": "stderr",
     "output_type": "stream",
     "text": [
      "100%|██████████| 1534/1534 [00:00<00:00, 1014676.29it/s]\n"
     ]
    },
    {
     "name": "stdout",
     "output_type": "stream",
     "text": [
      "Данные успешно загружены\n",
      "Начали генерацию SQL запросов\n"
     ]
    },
    {
     "name": "stderr",
     "output_type": "stream",
     "text": [
      "Processed prompts: 100%|██████████| 1534/1534 [05:08<00:00,  4.96it/s, est. speed input: 11076.63 toks/s, output: 3213.64 toks/s]"
     ]
    },
    {
     "name": "stdout",
     "output_type": "stream",
     "text": [
      "extract_think количество ошибок:  0\n",
      "extract_sql количество ошибок:  0\n",
      "Закончили генерацию SQL запросов\n",
      "Начали скорр полученных SQL запросов\n"
     ]
    },
    {
     "name": "stderr",
     "output_type": "stream",
     "text": [
      "\n"
     ]
    },
    {
     "name": "stdout",
     "output_type": "stream",
     "text": [
      "OmniSQL-14B DEV Финальный результат EX: 64.93\n",
      "OmniSQL-14B процент запросов, которые успешно выполнились DEV: 97.33%\n",
      "====================================================================================================\n",
      "\n",
      "\n",
      "Загружаем чаты с данными...\n"
     ]
    },
    {
     "name": "stderr",
     "output_type": "stream",
     "text": [
      "100%|██████████| 1534/1534 [00:00<00:00, 828811.33it/s]\n"
     ]
    },
    {
     "name": "stdout",
     "output_type": "stream",
     "text": [
      "Данные успешно загружены\n",
      "Начали генерацию SQL запросов\n"
     ]
    },
    {
     "name": "stderr",
     "output_type": "stream",
     "text": [
      "Processed prompts: 100%|██████████| 1534/1534 [05:09<00:00,  4.95it/s, est. speed input: 11042.24 toks/s, output: 3208.89 toks/s]"
     ]
    },
    {
     "name": "stdout",
     "output_type": "stream",
     "text": [
      "extract_think количество ошибок:  0\n",
      "extract_sql количество ошибок:  0\n",
      "Закончили генерацию SQL запросов\n",
      "Начали скорр полученных SQL запросов\n"
     ]
    },
    {
     "name": "stderr",
     "output_type": "stream",
     "text": [
      "\n"
     ]
    },
    {
     "name": "stdout",
     "output_type": "stream",
     "text": [
      "OmniSQL-14B DEV Финальный результат EX: 62.91\n",
      "OmniSQL-14B процент запросов, которые успешно выполнились DEV: 96.15%\n",
      "====================================================================================================\n",
      "\n",
      "\n",
      "Загружаем чаты с данными...\n"
     ]
    },
    {
     "name": "stderr",
     "output_type": "stream",
     "text": [
      "100%|██████████| 1534/1534 [00:00<00:00, 1059628.18it/s]\n"
     ]
    },
    {
     "name": "stdout",
     "output_type": "stream",
     "text": [
      "Данные успешно загружены\n",
      "Начали генерацию SQL запросов\n"
     ]
    },
    {
     "name": "stderr",
     "output_type": "stream",
     "text": [
      "Processed prompts: 100%|██████████| 1534/1534 [05:20<00:00,  4.79it/s, est. speed input: 10692.71 toks/s, output: 3112.66 toks/s]"
     ]
    },
    {
     "name": "stdout",
     "output_type": "stream",
     "text": [
      "extract_think количество ошибок:  0\n",
      "extract_sql количество ошибок:  0\n",
      "Закончили генерацию SQL запросов\n",
      "Начали скорр полученных SQL запросов\n"
     ]
    },
    {
     "name": "stderr",
     "output_type": "stream",
     "text": [
      "\n"
     ]
    },
    {
     "name": "stdout",
     "output_type": "stream",
     "text": [
      "OmniSQL-14B DEV Финальный результат EX: 62.91\n",
      "OmniSQL-14B процент запросов, которые успешно выполнились DEV: 96.41%\n",
      "====================================================================================================\n",
      "\n",
      "\n",
      "Загружаем чаты с данными...\n"
     ]
    },
    {
     "name": "stderr",
     "output_type": "stream",
     "text": [
      "100%|██████████| 1534/1534 [00:00<00:00, 762149.06it/s]\n"
     ]
    },
    {
     "name": "stdout",
     "output_type": "stream",
     "text": [
      "Данные успешно загружены\n",
      "Начали генерацию SQL запросов\n"
     ]
    },
    {
     "name": "stderr",
     "output_type": "stream",
     "text": [
      "Processed prompts: 100%|██████████| 1534/1534 [05:08<00:00,  4.97it/s, est. speed input: 11078.93 toks/s, output: 3229.64 toks/s]"
     ]
    },
    {
     "name": "stdout",
     "output_type": "stream",
     "text": [
      "extract_think количество ошибок:  0\n",
      "extract_sql количество ошибок:  0\n",
      "Закончили генерацию SQL запросов\n",
      "Начали скорр полученных SQL запросов\n"
     ]
    },
    {
     "name": "stderr",
     "output_type": "stream",
     "text": [
      "\n"
     ]
    },
    {
     "name": "stdout",
     "output_type": "stream",
     "text": [
      "OmniSQL-14B DEV Финальный результат EX: 62.39\n",
      "OmniSQL-14B процент запросов, которые успешно выполнились DEV: 96.61%\n",
      "====================================================================================================\n",
      "\n",
      "\n",
      "Загружаем чаты с данными...\n"
     ]
    },
    {
     "name": "stderr",
     "output_type": "stream",
     "text": [
      "100%|██████████| 1534/1534 [00:00<00:00, 841934.35it/s]\n"
     ]
    },
    {
     "name": "stdout",
     "output_type": "stream",
     "text": [
      "Данные успешно загружены\n",
      "Начали генерацию SQL запросов\n"
     ]
    },
    {
     "name": "stderr",
     "output_type": "stream",
     "text": [
      "Processed prompts: 100%|██████████| 1534/1534 [05:10<00:00,  4.94it/s, est. speed input: 11030.44 toks/s, output: 3210.84 toks/s]"
     ]
    },
    {
     "name": "stdout",
     "output_type": "stream",
     "text": [
      "extract_think количество ошибок:  0\n",
      "extract_sql количество ошибок:  0\n",
      "Закончили генерацию SQL запросов\n",
      "Начали скорр полученных SQL запросов\n"
     ]
    },
    {
     "name": "stderr",
     "output_type": "stream",
     "text": [
      "\n"
     ]
    },
    {
     "name": "stdout",
     "output_type": "stream",
     "text": [
      "OmniSQL-14B DEV Финальный результат EX: 63.69\n",
      "OmniSQL-14B процент запросов, которые успешно выполнились DEV: 96.81%\n",
      "====================================================================================================\n",
      "\n",
      "\n"
     ]
    }
   ],
   "source": [
    "run_think_experiment(model,arr_seeds,arr_versions)"
   ]
  },
  {
   "cell_type": "markdown",
   "id": "81c34c01-00c6-498b-b626-e0452ab4ddb6",
   "metadata": {},
   "source": [
    "## Выводим средний скорр think подхода"
   ]
  },
  {
   "cell_type": "code",
   "execution_count": 4,
   "id": "1e66fa7c-ddda-472d-93a3-2d563b0129df",
   "metadata": {},
   "outputs": [],
   "source": [
    "import pickle"
   ]
  },
  {
   "cell_type": "code",
   "execution_count": 5,
   "id": "ce529050-623f-4d4f-bfac-9ab5d43e2c4a",
   "metadata": {},
   "outputs": [],
   "source": [
    "def load_results(k):\n",
    "    with open(f\"/data/home/vkropoti/sql_llm_answers/bird_dev_m_schema/sql_results_{model}-reasoning-v{k}\", \"rb\") as fp:\n",
    "        results = np.array(pickle.load(fp))\n",
    "    return results"
   ]
  },
  {
   "cell_type": "code",
   "execution_count": 6,
   "id": "53838cd4-51fb-42d2-88c5-340999184bba",
   "metadata": {},
   "outputs": [],
   "source": [
    "def load_executed(k):\n",
    "    with open(f\"/data/home/vkropoti/sql_llm_answers/bird_dev_m_schema/sql_executed_{model}-reasoning-v{k}\", \"rb\") as fp:\n",
    "        executed = np.array(pickle.load(fp))\n",
    "    return executed"
   ]
  },
  {
   "cell_type": "code",
   "execution_count": 7,
   "id": "c4defcb9-0814-4f71-8080-a3e3c52317ac",
   "metadata": {},
   "outputs": [],
   "source": [
    "def get_think_results(model,n):\n",
    "    arr_mean_scores = []\n",
    "    arr_mean_executed = []\n",
    "    for i in range(n):\n",
    "        results, executed = load_results(i), load_executed(i)\n",
    "        arr_mean_scores.append(np.mean(results))\n",
    "        arr_mean_executed.append(np.mean(executed))\n",
    "        \n",
    "    print(f\"{model} Mini DEV Финальный результат EX: {np.mean(np.array(arr_mean_scores)):.3f}, при std: {np.std(np.array(arr_mean_scores)):.3f}\")\n",
    "    print(f\"{model} процент запросов, которые успешно выполнились Mini DEV: {np.mean(np.array(arr_mean_executed)):.3f}, при std: {np.std(np.array(arr_mean_executed)):.3f}\")\n",
    "    "
   ]
  },
  {
   "cell_type": "code",
   "execution_count": 8,
   "id": "9f57e1a5-7e57-4e87-9f42-e4a844087e40",
   "metadata": {},
   "outputs": [
    {
     "name": "stdout",
     "output_type": "stream",
     "text": [
      "OmniSQL-14B Mini DEV Финальный результат EX: 0.633, при std: 0.007\n",
      "OmniSQL-14B процент запросов, которые успешно выполнились Mini DEV: 0.966, при std: 0.003\n"
     ]
    }
   ],
   "source": [
    "get_think_results(model,20)"
   ]
  },
  {
   "cell_type": "code",
   "execution_count": null,
   "id": "9a1876d1-c8e8-4882-95b5-264801a905c5",
   "metadata": {},
   "outputs": [],
   "source": []
  }
 ],
 "metadata": {
  "kernelspec": {
   "display_name": "vllm",
   "language": "python",
   "name": "vllm"
  },
  "language_info": {
   "codemirror_mode": {
    "name": "ipython",
    "version": 3
   },
   "file_extension": ".py",
   "mimetype": "text/x-python",
   "name": "python",
   "nbconvert_exporter": "python",
   "pygments_lexer": "ipython3",
   "version": "3.12.4"
  }
 },
 "nbformat": 4,
 "nbformat_minor": 5
}
