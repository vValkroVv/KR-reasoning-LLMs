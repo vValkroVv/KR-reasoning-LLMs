{
 "cells": [
  {
   "cell_type": "code",
   "execution_count": 1,
   "id": "6f20e5ea-3a64-4bfa-8502-13bb8469c893",
   "metadata": {},
   "outputs": [],
   "source": [
    "import os, sys\n",
    "sys.path.append(\"/home/vkropoti/vllm\")"
   ]
  },
  {
   "cell_type": "code",
   "execution_count": 2,
   "id": "4fc844b5-83f1-48aa-a6c8-3d93f16a861d",
   "metadata": {},
   "outputs": [
    {
     "name": "stdout",
     "output_type": "stream",
     "text": [
      "INFO 05-25 03:21:51 [__init__.py:239] Automatically detected platform cuda.\n"
     ]
    },
    {
     "name": "stderr",
     "output_type": "stream",
     "text": [
      "2025-05-25 03:21:52,590\tINFO util.py:154 -- Missing packages: ['ipywidgets']. Run `pip install -U ipywidgets`, then restart the notebook server for rich notebook output.\n"
     ]
    }
   ],
   "source": [
    "from src.experiment import run_cot_experiment\n",
    "import random\n",
    "import numpy as np"
   ]
  },
  {
   "cell_type": "markdown",
   "id": "56cbd008-e8be-44cd-a2f8-83886376560e",
   "metadata": {},
   "source": [
    "# part1: reasoning+answer"
   ]
  },
  {
   "cell_type": "markdown",
   "id": "1d4174ff-32eb-4901-9b13-dfc26f6bd8e3",
   "metadata": {},
   "source": [
    "### 2 наблюдения"
   ]
  },
  {
   "cell_type": "code",
   "execution_count": 3,
   "id": "5635dae6-2ae1-4d4d-af1f-dfcd7abc923b",
   "metadata": {},
   "outputs": [
    {
     "name": "stdout",
     "output_type": "stream",
     "text": [
      "[135, 589, 226, 121, 170, 269, 681, 450, 660, 19, 756, 865, 515, 447, 93, 921, 488, 644, 821, 864]\n",
      "model: Qwen3-8B\n"
     ]
    }
   ],
   "source": [
    "n= 20\n",
    "arr_seeds = [random.randint(0,1000) for _ in range(n)]\n",
    "arr_versions = [x for x in range(n)]\n",
    "model = \"Qwen3-8B\"\n",
    "num_observations = 2\n",
    "type_cot = 'all_new'\n",
    "print(arr_seeds)\n",
    "print(f\"model: {model}\")"
   ]
  },
  {
   "cell_type": "code",
   "execution_count": 4,
   "id": "499630a1-5ce2-4867-9648-dc199d088be4",
   "metadata": {
    "scrolled": true
   },
   "outputs": [
    {
     "name": "stdout",
     "output_type": "stream",
     "text": [
      "Загружаем модель...\n"
     ]
    },
    {
     "name": "stderr",
     "output_type": "stream",
     "text": [
      "Loading safetensors checkpoint shards:   0% Completed | 0/4 [00:00<?, ?it/s]\n",
      "Loading safetensors checkpoint shards:  25% Completed | 1/4 [00:00<00:00,  8.29it/s]\n",
      "Loading safetensors checkpoint shards:  50% Completed | 2/4 [00:00<00:00,  2.54it/s]\n",
      "Loading safetensors checkpoint shards:  75% Completed | 3/4 [00:01<00:00,  1.79it/s]\n",
      "Loading safetensors checkpoint shards: 100% Completed | 4/4 [00:02<00:00,  1.58it/s]\n",
      "Loading safetensors checkpoint shards: 100% Completed | 4/4 [00:02<00:00,  1.81it/s]\n",
      "\u001b[1;36m(VllmWorker rank=0 pid=969597)\u001b[0;0m \n"
     ]
    },
    {
     "name": "stdout",
     "output_type": "stream",
     "text": [
      "Модель успешно загружена\n",
      "model_config {'model': '/data/home/vkropoti/models/Qwen3-8B', 'tensor_parallel_size': 2, 'max_model_len': 40000, 'max_new_tokens': 1500, 'temperature': 0, 'top_k': 1, 'top_p': 0.8, 'gpu_memory_utilization': 0.9, 'trust_remote_code': False, 'seed': 135}\n",
      "\n",
      "prompts_config {'path_dev_json': '/data/home/vkropoti/sql_data/dev_spider.json', 'path_sql_dbs': '/data/home/vkropoti/sql_data/data_bases_spider/', 'use_reasoning': False, 'paths_to_cot': ['/data/home/vkropoti/sql_llm_answers/spider_dev_m_schema/sql_all_new_Qwen3-8B-reasoning-v0', '/data/home/vkropoti/sql_llm_answers/spider_dev_m_schema/sql_all_new_Qwen3-8B-reasoning-v1']}\n",
      "\n",
      "save_config {'path_sql_save': '/data/home/vkropoti/sql_llm_answers/spider_dev_m_schema/sql_all_Qwen3-8B-cot_all_new_think==False_nobs2-v0', 'path_think_save': None, 'path_sql_answers_save': '/data/home/vkropoti/sql_llm_answers/spider_dev_m_schema/sql_predict_Qwen3-8B-cot_all_new_think==False_nobs2-v0', 'path_to_save_scores': '/data/home/vkropoti/sql_llm_answers/spider_dev_m_schema/sql_results_Qwen3-8B-cot_all_new_think==False_nobs2-v0', 'path_to_save_executed': '/data/home/vkropoti/sql_llm_answers/spider_dev_m_schema/sql_executed_Qwen3-8B-cot_all_new_think==False_nobs2-v0'}\n",
      "\n",
      "Модель успешно загружена\n",
      "Пример промпта\n",
      "<|im_start|>system\n",
      "\n",
      "You are a data science expert. Below, you are provided with a database schema and a natural language question. Your task is to understand the schema and generate a valid SQL query to answer the question.\n",
      "\n",
      "Database Engine: SQLite\n",
      "\n",
      "You will be given an additional analysis of other models, please take it into account, so the plan is\n",
      "1. Analyse given addition analysis from other models (find in which analysis the same and differ, how to use that to answer question)\n",
      "2. Combine best from previous part and think how to solve the problem (analyze tables, take care what columns avaliable in each table and so on, check the syntacsis)\n",
      "3. Create the answers. The answer should be only sql query.\n",
      "\n",
      "Carefully follow the instruction and add <|im_end|> and the end of the final answer<|im_end|>\n",
      "<|im_start|>user\n",
      "Here is addition analysis from other models which can be helpfull, please take this into account but be careful (choose the best from each analysis, combine them to make the most proper answer):\n",
      "\n",
      "model 0 analysis:\n",
      " Reasoning process:\n",
      "\n",
      "Okay, let's tackle this question. The user is asking, \"How many singers do we have?\" So I need to find the total number of singers in the database.\n",
      "\n",
      "First, I should check the tables provided. The relevant table here is the 'singer' table. The 'singer' table has a column 'Singer_ID' which is the primary key. Since each singer is uniquely identified by their Singer_ID, counting the number of rows in this table should give the total number of singers.\n",
      "\n",
      "Wait, are there any other tables that might have singer information? Let me check. The other tables are concert, stadium, and singer_in_concert. The 'singer_in_concert' table links singers to concerts, but that's just a relationship table. The actual singer data is in the 'singer' table. So the answer should come from the 'singer' table.\n",
      "\n",
      "So the correct approach is to count all the rows in the 'singer' table. The SQL query for that would be SELECT COUNT(*) FROM singer. That should return the total number of singers. I don't need to join any other tables because the question is straightforward. There's no mention of filtering by any criteria like country or concert participation. So the query is simple.\n",
      "\n",
      "Final answer based om reasoning for this model:\n",
      "\n",
      "\n",
      "```\n",
      "SELECT COUNT(*) FROM singer;\n",
      "```\n",
      "\n",
      "model 1 analysis:\n",
      " Reasoning process:\n",
      "\n",
      "Okay, let's see. The user is asking how many singers we have. So I need to find the total number of singers in the database.\n",
      "\n",
      "Looking at the tables provided, there's a 'singer' table. The schema for that table includes columns like Singer_ID, Name, Country, etc. The Singer_ID is the primary key, which means each singer has a unique identifier. \n",
      "\n",
      "Since the question is about counting the number of singers, the most straightforward approach is to count the rows in the singer table. Each row represents a singer. So the SQL query should select the count of all rows from the singer table.\n",
      "\n",
      "I need to make sure I'm using the correct table name and column. The singer table has Singer_ID as the primary key, but the question doesn't require any specific column. The COUNT(*) function will count all records, which is exactly what the user wants.\n",
      "\n",
      "Wait, maybe I should check if there are any other tables that might have singer information. The other tables are concert, stadium, and singer_in_concert. But those tables are related to concerts and stadiums, not singers themselves. The singer_in_concert table links singers to concerts, but that's a many-to-many relationship. However, the actual singer data is in the singer table. So the count should come from the singer table.\n",
      "\n",
      "Therefore, the correct SQL query is SELECT COUNT(*) FROM singer;. That should give the total number of singers. I don't need to join any other tables because the question is simply about the number of singers, not their participation in concerts or other details.\n",
      "\n",
      "Final answer based om reasoning for this model:\n",
      "\n",
      "\n",
      "```\n",
      "SELECT COUNT(*) FROM singer;\n",
      "```\n",
      "\n",
      "\n",
      "here is avaliable tables and their structure below\n",
      "【DB_ID】 concert_singer\n",
      "【Schema】\n",
      "# Table: concert\n",
      "[\n",
      "(concert_ID:INTEGER, Primary Key, Examples: [1, 2, 3]),\n",
      "(concert_Name:TEXT, Examples: [Auditions, Super bootcamp, Home Visits]),\n",
      "(Theme:TEXT, Examples: [Free choice, Free choice 2, Bleeding Love]),\n",
      "(Stadium_ID:TEXT, maps to stadium.Stadium_ID, Examples: [1, 2, 10]),\n",
      "(Year:TEXT, Examples: [2014, 2015, 2016])\n",
      "]\n",
      "# Table: singer\n",
      "[\n",
      "(Singer_ID:INTEGER, Primary Key, Examples: [1, 2, 3]),\n",
      "(Name:TEXT, Examples: [Joe Sharp, Timbaland, Justin Brown]),\n",
      "(Country:TEXT, Examples: [Netherlands, United States, France]),\n",
      "(Song_Name:TEXT, Examples: [You, Dangerous, Hey Oh]),\n",
      "(Song_release_year:TEXT, Examples: [1992, 2008, 2013]),\n",
      "(Age:INTEGER, Examples: [52, 32, 29]),\n",
      "(Is_male:BOOLEAN, Examples: [False, True])\n",
      "]\n",
      "# Table: singer_in_concert\n",
      "[\n",
      "(concert_ID:INTEGER, maps to concert.concert_ID, Primary Key, Examples: [1, 2, 3]),\n",
      "(Singer_ID:TEXT, maps to singer.Singer_ID, Primary Key, Examples: [2, 3, 5])\n",
      "]\n",
      "# Table: stadium\n",
      "[\n",
      "(Stadium_ID:INTEGER, Primary Key, Examples: [1, 2, 3]),\n",
      "(Location:TEXT, Examples: [Raith Rovers, Ayr United, East Fife]),\n",
      "(Name:TEXT, Examples: [Stark's Park, Somerset Park, Bayview Stadium]),\n",
      "(Capacity:INTEGER, Examples: [10104, 11998, 2000]),\n",
      "(Highest:INTEGER, Examples: [4812, 2363, 1980]),\n",
      "(Lowest:INTEGER, Examples: [1294, 1057, 533]),\n",
      "(Average:INTEGER, Examples: [2106, 1477, 864])\n",
      "]\n",
      "【Foreign keys】\n",
      "concert.Stadium_ID=stadium.Stadium_ID\n",
      "singer_in_concert.concert_ID=concert.concert_ID\n",
      "singer_in_concert.Singer_ID=singer.Singer_ID\n",
      "\n",
      "-- Using valid SQLite, answer the following questions for the tables provided above.\n",
      "-- How many singers do we have?\n",
      "\n",
      "\n",
      "\n",
      "Generate the SQLite for the above question after thinking step by step: \n",
      "\n",
      "\n",
      "Instructions:\n",
      "- Make sure you only output the information that is asked in the question. If the question asks for a specific column, make sure to only include that column in the SELECT clause, nothing more.\n",
      "- The generated query should return all of the information asked in the question without any missing or extra information.\n",
      "- Before generating the final SQL query, please think through the steps of how to write the query.\n",
      "- Do not misuse column names, keep them in quotes `\n",
      "- Carefully understand what colomns belond to what tables\n",
      "- Use only initial column names, change names prohibited\n",
      "        \n",
      "Output Format:\n",
      "In your answer, please enclose the generated SQL query in a code block:\n",
      "```\n",
      "-- Your SQL query\n",
      "```    \n",
      "and nothing else, no exaplains, no comments (asnwer should be less than 512 characters)\n",
      "\n",
      "Take a deep breath and think step by step to find the correct SQL query in SQLite format.\n",
      "\n",
      "Question repetition: How many singers do we have?\n",
      "\n",
      "Be care! Include only what i want it questiona and nothing else<|im_end|>\n",
      "<|im_start|>assistant\n",
      "<think>\n",
      "\n",
      "</think>\n",
      "\n",
      "\n",
      "\n",
      "\n",
      "Максимальное количество токенов в промптах: 9573\n",
      "\n",
      "начинаем скорринг\n",
      "Загружаем чаты с данными...\n",
      "Данные успешно загружены\n",
      "Начали генерацию SQL запросов\n"
     ]
    },
    {
     "name": "stderr",
     "output_type": "stream",
     "text": [
      "Processed prompts: 100%|██████████| 1076/1076 [00:57<00:00, 18.61it/s, est. speed input: 46623.93 toks/s, output: 561.36 toks/s] "
     ]
    },
    {
     "name": "stdout",
     "output_type": "stream",
     "text": [
      "extract_think количество ошибок:  0\n",
      "extract_sql количество ошибок:  0\n",
      "Закончили генерацию SQL запросов\n",
      "Начали скорр полученных SQL запросов\n"
     ]
    },
    {
     "name": "stderr",
     "output_type": "stream",
     "text": [
      "\n"
     ]
    },
    {
     "name": "stdout",
     "output_type": "stream",
     "text": [
      "Qwen3-8B DEV Финальный результат EX: 73.05\n",
      "Qwen3-8B процент запросов, которые успешно выполнились DEV: 98.51%\n",
      "====================================================================================================\n",
      "\n",
      "\n",
      "Загружаем чаты с данными...\n",
      "Данные успешно загружены\n",
      "Начали генерацию SQL запросов\n"
     ]
    },
    {
     "name": "stderr",
     "output_type": "stream",
     "text": [
      "Processed prompts: 100%|██████████| 1076/1076 [00:59<00:00, 18.06it/s, est. speed input: 46241.48 toks/s, output: 542.53 toks/s] "
     ]
    },
    {
     "name": "stdout",
     "output_type": "stream",
     "text": [
      "extract_think количество ошибок:  0\n",
      "extract_sql количество ошибок:  0\n",
      "Закончили генерацию SQL запросов\n",
      "Начали скорр полученных SQL запросов\n"
     ]
    },
    {
     "name": "stderr",
     "output_type": "stream",
     "text": [
      "\n"
     ]
    },
    {
     "name": "stdout",
     "output_type": "stream",
     "text": [
      "Qwen3-8B DEV Финальный результат EX: 73.23\n",
      "Qwen3-8B процент запросов, которые успешно выполнились DEV: 98.70%\n",
      "====================================================================================================\n",
      "\n",
      "\n",
      "Загружаем чаты с данными...\n",
      "Данные успешно загружены\n",
      "Начали генерацию SQL запросов\n"
     ]
    },
    {
     "name": "stderr",
     "output_type": "stream",
     "text": [
      "Processed prompts: 100%|██████████| 1076/1076 [01:00<00:00, 17.81it/s, est. speed input: 46223.59 toks/s, output: 537.66 toks/s] "
     ]
    },
    {
     "name": "stdout",
     "output_type": "stream",
     "text": [
      "extract_think количество ошибок:  0\n",
      "extract_sql количество ошибок:  0\n",
      "Закончили генерацию SQL запросов\n",
      "Начали скорр полученных SQL запросов\n"
     ]
    },
    {
     "name": "stderr",
     "output_type": "stream",
     "text": [
      "\n"
     ]
    },
    {
     "name": "stdout",
     "output_type": "stream",
     "text": [
      "Qwen3-8B DEV Финальный результат EX: 73.14\n",
      "Qwen3-8B процент запросов, которые успешно выполнились DEV: 98.70%\n",
      "====================================================================================================\n",
      "\n",
      "\n",
      "Загружаем чаты с данными...\n",
      "Данные успешно загружены\n",
      "Начали генерацию SQL запросов\n"
     ]
    },
    {
     "name": "stderr",
     "output_type": "stream",
     "text": [
      "Processed prompts: 100%|██████████| 1076/1076 [00:59<00:00, 18.09it/s, est. speed input: 46153.03 toks/s, output: 545.06 toks/s] "
     ]
    },
    {
     "name": "stdout",
     "output_type": "stream",
     "text": [
      "extract_think количество ошибок:  0\n",
      "extract_sql количество ошибок:  0\n",
      "Закончили генерацию SQL запросов\n",
      "Начали скорр полученных SQL запросов\n"
     ]
    },
    {
     "name": "stderr",
     "output_type": "stream",
     "text": [
      "\n"
     ]
    },
    {
     "name": "stdout",
     "output_type": "stream",
     "text": [
      "Qwen3-8B DEV Финальный результат EX: 72.86\n",
      "Qwen3-8B процент запросов, которые успешно выполнились DEV: 98.61%\n",
      "====================================================================================================\n",
      "\n",
      "\n",
      "Загружаем чаты с данными...\n",
      "Данные успешно загружены\n",
      "Начали генерацию SQL запросов\n"
     ]
    },
    {
     "name": "stderr",
     "output_type": "stream",
     "text": [
      "Processed prompts: 100%|██████████| 1076/1076 [00:58<00:00, 18.44it/s, est. speed input: 46312.79 toks/s, output: 552.87 toks/s] "
     ]
    },
    {
     "name": "stdout",
     "output_type": "stream",
     "text": [
      "extract_think количество ошибок:  0\n",
      "extract_sql количество ошибок:  0\n",
      "Закончили генерацию SQL запросов\n",
      "Начали скорр полученных SQL запросов\n"
     ]
    },
    {
     "name": "stderr",
     "output_type": "stream",
     "text": [
      "\n"
     ]
    },
    {
     "name": "stdout",
     "output_type": "stream",
     "text": [
      "Qwen3-8B DEV Финальный результат EX: 73.42\n",
      "Qwen3-8B процент запросов, которые успешно выполнились DEV: 98.61%\n",
      "====================================================================================================\n",
      "\n",
      "\n",
      "Загружаем чаты с данными...\n",
      "Данные успешно загружены\n",
      "Начали генерацию SQL запросов\n"
     ]
    },
    {
     "name": "stderr",
     "output_type": "stream",
     "text": [
      "Processed prompts: 100%|██████████| 1076/1076 [00:58<00:00, 18.43it/s, est. speed input: 46335.65 toks/s, output: 553.84 toks/s] "
     ]
    },
    {
     "name": "stdout",
     "output_type": "stream",
     "text": [
      "extract_think количество ошибок:  0\n",
      "extract_sql количество ошибок:  0\n",
      "Закончили генерацию SQL запросов\n",
      "Начали скорр полученных SQL запросов\n"
     ]
    },
    {
     "name": "stderr",
     "output_type": "stream",
     "text": [
      "\n"
     ]
    },
    {
     "name": "stdout",
     "output_type": "stream",
     "text": [
      "Qwen3-8B DEV Финальный результат EX: 74.07\n",
      "Qwen3-8B процент запросов, которые успешно выполнились DEV: 98.70%\n",
      "====================================================================================================\n",
      "\n",
      "\n",
      "Загружаем чаты с данными...\n",
      "Данные успешно загружены\n",
      "Начали генерацию SQL запросов\n"
     ]
    },
    {
     "name": "stderr",
     "output_type": "stream",
     "text": [
      "Processed prompts: 100%|██████████| 1076/1076 [01:00<00:00, 17.87it/s, est. speed input: 45944.47 toks/s, output: 536.93 toks/s] "
     ]
    },
    {
     "name": "stdout",
     "output_type": "stream",
     "text": [
      "extract_think количество ошибок:  0\n",
      "extract_sql количество ошибок:  0\n",
      "Закончили генерацию SQL запросов\n",
      "Начали скорр полученных SQL запросов\n"
     ]
    },
    {
     "name": "stderr",
     "output_type": "stream",
     "text": [
      "\n"
     ]
    },
    {
     "name": "stdout",
     "output_type": "stream",
     "text": [
      "Qwen3-8B DEV Финальный результат EX: 73.42\n",
      "Qwen3-8B процент запросов, которые успешно выполнились DEV: 98.88%\n",
      "====================================================================================================\n",
      "\n",
      "\n",
      "Загружаем чаты с данными...\n",
      "Данные успешно загружены\n",
      "Начали генерацию SQL запросов\n"
     ]
    },
    {
     "name": "stderr",
     "output_type": "stream",
     "text": [
      "Processed prompts: 100%|██████████| 1076/1076 [01:01<00:00, 17.57it/s, est. speed input: 45371.90 toks/s, output: 531.15 toks/s] "
     ]
    },
    {
     "name": "stdout",
     "output_type": "stream",
     "text": [
      "extract_think количество ошибок:  0\n",
      "extract_sql количество ошибок:  0\n",
      "Закончили генерацию SQL запросов\n",
      "Начали скорр полученных SQL запросов\n"
     ]
    },
    {
     "name": "stderr",
     "output_type": "stream",
     "text": [
      "\n"
     ]
    },
    {
     "name": "stdout",
     "output_type": "stream",
     "text": [
      "Qwen3-8B DEV Финальный результат EX: 73.23\n",
      "Qwen3-8B процент запросов, которые успешно выполнились DEV: 98.33%\n",
      "====================================================================================================\n",
      "\n",
      "\n",
      "Загружаем чаты с данными...\n",
      "Данные успешно загружены\n",
      "Начали генерацию SQL запросов\n"
     ]
    },
    {
     "name": "stderr",
     "output_type": "stream",
     "text": [
      "Processed prompts: 100%|██████████| 1076/1076 [00:58<00:00, 18.25it/s, est. speed input: 45969.48 toks/s, output: 550.01 toks/s] "
     ]
    },
    {
     "name": "stdout",
     "output_type": "stream",
     "text": [
      "extract_think количество ошибок:  0\n",
      "extract_sql количество ошибок:  0\n",
      "Закончили генерацию SQL запросов\n",
      "Начали скорр полученных SQL запросов\n"
     ]
    },
    {
     "name": "stderr",
     "output_type": "stream",
     "text": [
      "\n"
     ]
    },
    {
     "name": "stdout",
     "output_type": "stream",
     "text": [
      "Qwen3-8B DEV Финальный результат EX: 73.61\n",
      "Qwen3-8B процент запросов, которые успешно выполнились DEV: 98.79%\n",
      "====================================================================================================\n",
      "\n",
      "\n",
      "Загружаем чаты с данными...\n",
      "Данные успешно загружены\n",
      "Начали генерацию SQL запросов\n"
     ]
    },
    {
     "name": "stderr",
     "output_type": "stream",
     "text": [
      "Processed prompts: 100%|██████████| 1076/1076 [01:01<00:00, 17.40it/s, est. speed input: 45764.34 toks/s, output: 527.69 toks/s] "
     ]
    },
    {
     "name": "stdout",
     "output_type": "stream",
     "text": [
      "extract_think количество ошибок:  0\n",
      "extract_sql количество ошибок:  0\n",
      "Закончили генерацию SQL запросов\n",
      "Начали скорр полученных SQL запросов\n"
     ]
    },
    {
     "name": "stderr",
     "output_type": "stream",
     "text": [
      "\n"
     ]
    },
    {
     "name": "stdout",
     "output_type": "stream",
     "text": [
      "Qwen3-8B DEV Финальный результат EX: 73.98\n",
      "Qwen3-8B процент запросов, которые успешно выполнились DEV: 98.70%\n",
      "====================================================================================================\n",
      "\n",
      "\n",
      "Загружаем чаты с данными...\n",
      "Данные успешно загружены\n",
      "Начали генерацию SQL запросов\n"
     ]
    },
    {
     "name": "stderr",
     "output_type": "stream",
     "text": [
      "Processed prompts: 100%|██████████| 1076/1076 [01:02<00:00, 17.23it/s, est. speed input: 45723.70 toks/s, output: 520.28 toks/s] "
     ]
    },
    {
     "name": "stdout",
     "output_type": "stream",
     "text": [
      "extract_think количество ошибок:  0\n",
      "extract_sql количество ошибок:  0\n",
      "Закончили генерацию SQL запросов\n",
      "Начали скорр полученных SQL запросов\n"
     ]
    },
    {
     "name": "stderr",
     "output_type": "stream",
     "text": [
      "\n"
     ]
    },
    {
     "name": "stdout",
     "output_type": "stream",
     "text": [
      "Qwen3-8B DEV Финальный результат EX: 74.26\n",
      "Qwen3-8B процент запросов, которые успешно выполнились DEV: 98.88%\n",
      "====================================================================================================\n",
      "\n",
      "\n",
      "Загружаем чаты с данными...\n",
      "Данные успешно загружены\n",
      "Начали генерацию SQL запросов\n"
     ]
    },
    {
     "name": "stderr",
     "output_type": "stream",
     "text": [
      "Processed prompts: 100%|██████████| 1076/1076 [00:59<00:00, 18.06it/s, est. speed input: 46008.64 toks/s, output: 547.18 toks/s] "
     ]
    },
    {
     "name": "stdout",
     "output_type": "stream",
     "text": [
      "extract_think количество ошибок:  0\n",
      "extract_sql количество ошибок:  0\n",
      "Закончили генерацию SQL запросов\n",
      "Начали скорр полученных SQL запросов\n"
     ]
    },
    {
     "name": "stderr",
     "output_type": "stream",
     "text": [
      "\n"
     ]
    },
    {
     "name": "stdout",
     "output_type": "stream",
     "text": [
      "Qwen3-8B DEV Финальный результат EX: 73.70\n",
      "Qwen3-8B процент запросов, которые успешно выполнились DEV: 99.07%\n",
      "====================================================================================================\n",
      "\n",
      "\n",
      "Загружаем чаты с данными...\n",
      "Данные успешно загружены\n",
      "Начали генерацию SQL запросов\n"
     ]
    },
    {
     "name": "stderr",
     "output_type": "stream",
     "text": [
      "Processed prompts: 100%|██████████| 1076/1076 [00:58<00:00, 18.28it/s, est. speed input: 45729.33 toks/s, output: 550.09 toks/s] "
     ]
    },
    {
     "name": "stdout",
     "output_type": "stream",
     "text": [
      "extract_think количество ошибок:  0\n",
      "extract_sql количество ошибок:  0\n",
      "Закончили генерацию SQL запросов\n",
      "Начали скорр полученных SQL запросов\n"
     ]
    },
    {
     "name": "stderr",
     "output_type": "stream",
     "text": [
      "\n"
     ]
    },
    {
     "name": "stdout",
     "output_type": "stream",
     "text": [
      "Qwen3-8B DEV Финальный результат EX: 73.98\n",
      "Qwen3-8B процент запросов, которые успешно выполнились DEV: 99.16%\n",
      "====================================================================================================\n",
      "\n",
      "\n",
      "Загружаем чаты с данными...\n",
      "Данные успешно загружены\n",
      "Начали генерацию SQL запросов\n"
     ]
    },
    {
     "name": "stderr",
     "output_type": "stream",
     "text": [
      "Processed prompts: 100%|██████████| 1076/1076 [00:58<00:00, 18.28it/s, est. speed input: 46075.18 toks/s, output: 547.28 toks/s] "
     ]
    },
    {
     "name": "stdout",
     "output_type": "stream",
     "text": [
      "extract_think количество ошибок:  0\n",
      "extract_sql количество ошибок:  0\n",
      "Закончили генерацию SQL запросов\n",
      "Начали скорр полученных SQL запросов\n"
     ]
    },
    {
     "name": "stderr",
     "output_type": "stream",
     "text": [
      "\n"
     ]
    },
    {
     "name": "stdout",
     "output_type": "stream",
     "text": [
      "Qwen3-8B DEV Финальный результат EX: 74.07\n",
      "Qwen3-8B процент запросов, которые успешно выполнились DEV: 99.16%\n",
      "====================================================================================================\n",
      "\n",
      "\n",
      "Загружаем чаты с данными...\n",
      "Данные успешно загружены\n",
      "Начали генерацию SQL запросов\n"
     ]
    },
    {
     "name": "stderr",
     "output_type": "stream",
     "text": [
      "Processed prompts: 100%|██████████| 1076/1076 [01:01<00:00, 17.51it/s, est. speed input: 45443.11 toks/s, output: 525.20 toks/s] "
     ]
    },
    {
     "name": "stdout",
     "output_type": "stream",
     "text": [
      "extract_think количество ошибок:  0\n",
      "extract_sql количество ошибок:  0\n",
      "Закончили генерацию SQL запросов\n",
      "Начали скорр полученных SQL запросов\n"
     ]
    },
    {
     "name": "stderr",
     "output_type": "stream",
     "text": [
      "\n"
     ]
    },
    {
     "name": "stdout",
     "output_type": "stream",
     "text": [
      "Qwen3-8B DEV Финальный результат EX: 73.88\n",
      "Qwen3-8B процент запросов, которые успешно выполнились DEV: 98.61%\n",
      "====================================================================================================\n",
      "\n",
      "\n",
      "Загружаем чаты с данными...\n",
      "Данные успешно загружены\n",
      "Начали генерацию SQL запросов\n"
     ]
    },
    {
     "name": "stderr",
     "output_type": "stream",
     "text": [
      "Processed prompts: 100%|██████████| 1076/1076 [01:00<00:00, 17.87it/s, est. speed input: 45758.72 toks/s, output: 538.08 toks/s] "
     ]
    },
    {
     "name": "stdout",
     "output_type": "stream",
     "text": [
      "extract_think количество ошибок:  0\n",
      "extract_sql количество ошибок:  0\n",
      "Закончили генерацию SQL запросов\n",
      "Начали скорр полученных SQL запросов\n"
     ]
    },
    {
     "name": "stderr",
     "output_type": "stream",
     "text": [
      "\n"
     ]
    },
    {
     "name": "stdout",
     "output_type": "stream",
     "text": [
      "Qwen3-8B DEV Финальный результат EX: 73.61\n",
      "Qwen3-8B процент запросов, которые успешно выполнились DEV: 98.61%\n",
      "====================================================================================================\n",
      "\n",
      "\n",
      "Загружаем чаты с данными...\n",
      "Данные успешно загружены\n",
      "Начали генерацию SQL запросов\n"
     ]
    },
    {
     "name": "stderr",
     "output_type": "stream",
     "text": [
      "Processed prompts: 100%|██████████| 1076/1076 [00:58<00:00, 18.24it/s, est. speed input: 46197.06 toks/s, output: 549.12 toks/s] "
     ]
    },
    {
     "name": "stdout",
     "output_type": "stream",
     "text": [
      "extract_think количество ошибок:  0\n",
      "extract_sql количество ошибок:  0\n",
      "Закончили генерацию SQL запросов\n",
      "Начали скорр полученных SQL запросов\n"
     ]
    },
    {
     "name": "stderr",
     "output_type": "stream",
     "text": [
      "\n"
     ]
    },
    {
     "name": "stdout",
     "output_type": "stream",
     "text": [
      "Qwen3-8B DEV Финальный результат EX: 73.79\n",
      "Qwen3-8B процент запросов, которые успешно выполнились DEV: 98.98%\n",
      "====================================================================================================\n",
      "\n",
      "\n",
      "Загружаем чаты с данными...\n",
      "Данные успешно загружены\n",
      "Начали генерацию SQL запросов\n"
     ]
    },
    {
     "name": "stderr",
     "output_type": "stream",
     "text": [
      "Processed prompts: 100%|██████████| 1076/1076 [01:00<00:00, 17.87it/s, est. speed input: 45808.57 toks/s, output: 542.54 toks/s] "
     ]
    },
    {
     "name": "stdout",
     "output_type": "stream",
     "text": [
      "extract_think количество ошибок:  0\n",
      "extract_sql количество ошибок:  0\n",
      "Закончили генерацию SQL запросов\n",
      "Начали скорр полученных SQL запросов\n"
     ]
    },
    {
     "name": "stderr",
     "output_type": "stream",
     "text": [
      "\n"
     ]
    },
    {
     "name": "stdout",
     "output_type": "stream",
     "text": [
      "Qwen3-8B DEV Финальный результат EX: 73.33\n",
      "Qwen3-8B процент запросов, которые успешно выполнились DEV: 98.61%\n",
      "====================================================================================================\n",
      "\n",
      "\n",
      "Загружаем чаты с данными...\n",
      "Данные успешно загружены\n",
      "Начали генерацию SQL запросов\n"
     ]
    },
    {
     "name": "stderr",
     "output_type": "stream",
     "text": [
      "Processed prompts: 100%|██████████| 1076/1076 [00:59<00:00, 17.97it/s, est. speed input: 46253.10 toks/s, output: 538.03 toks/s] "
     ]
    },
    {
     "name": "stdout",
     "output_type": "stream",
     "text": [
      "extract_think количество ошибок:  0\n",
      "extract_sql количество ошибок:  0\n",
      "Закончили генерацию SQL запросов\n",
      "Начали скорр полученных SQL запросов\n"
     ]
    },
    {
     "name": "stderr",
     "output_type": "stream",
     "text": [
      "\n"
     ]
    },
    {
     "name": "stdout",
     "output_type": "stream",
     "text": [
      "Qwen3-8B DEV Финальный результат EX: 73.88\n",
      "Qwen3-8B процент запросов, которые успешно выполнились DEV: 99.16%\n",
      "====================================================================================================\n",
      "\n",
      "\n",
      "Загружаем чаты с данными...\n",
      "Данные успешно загружены\n",
      "Начали генерацию SQL запросов\n"
     ]
    },
    {
     "name": "stderr",
     "output_type": "stream",
     "text": [
      "Processed prompts: 100%|██████████| 1076/1076 [00:59<00:00, 18.12it/s, est. speed input: 45832.11 toks/s, output: 546.93 toks/s] "
     ]
    },
    {
     "name": "stdout",
     "output_type": "stream",
     "text": [
      "extract_think количество ошибок:  0\n",
      "extract_sql количество ошибок:  0\n",
      "Закончили генерацию SQL запросов\n",
      "Начали скорр полученных SQL запросов\n"
     ]
    },
    {
     "name": "stderr",
     "output_type": "stream",
     "text": [
      "\n"
     ]
    },
    {
     "name": "stdout",
     "output_type": "stream",
     "text": [
      "Qwen3-8B DEV Финальный результат EX: 73.33\n",
      "Qwen3-8B процент запросов, которые успешно выполнились DEV: 99.26%\n",
      "====================================================================================================\n",
      "\n",
      "\n"
     ]
    }
   ],
   "source": [
    "run_cot_experiment(model,arr_seeds,arr_versions, type_cot, num_observations=num_observations)"
   ]
  },
  {
   "cell_type": "markdown",
   "id": "6046825c-8b23-4466-9c8c-2bd8d22da520",
   "metadata": {},
   "source": [
    "## 3 наблюдения"
   ]
  },
  {
   "cell_type": "code",
   "execution_count": 5,
   "id": "087d84b5-c110-41ff-a60d-7dbdeb15ffce",
   "metadata": {},
   "outputs": [
    {
     "name": "stdout",
     "output_type": "stream",
     "text": [
      "[249, 505, 995, 131, 58, 786, 206, 109, 435, 629, 541, 230, 726, 739, 809, 98, 496, 523, 98, 168]\n",
      "model: Qwen3-8B\n"
     ]
    }
   ],
   "source": [
    "n= 20\n",
    "arr_seeds = [random.randint(0,1000) for _ in range(n)]\n",
    "arr_versions = [x for x in range(n)]\n",
    "model = \"Qwen3-8B\"\n",
    "num_observations = 3\n",
    "type_cot = 'all_new'\n",
    "print(arr_seeds)\n",
    "print(f\"model: {model}\")"
   ]
  },
  {
   "cell_type": "code",
   "execution_count": 6,
   "id": "75073cd5-a80a-47f6-90d0-af48f09fc511",
   "metadata": {
    "scrolled": true
   },
   "outputs": [
    {
     "name": "stdout",
     "output_type": "stream",
     "text": [
      "Загружаем модель...\n"
     ]
    },
    {
     "name": "stderr",
     "output_type": "stream",
     "text": [
      "Loading safetensors checkpoint shards:   0% Completed | 0/4 [00:00<?, ?it/s]\n",
      "Loading safetensors checkpoint shards:  25% Completed | 1/4 [00:00<00:00,  8.83it/s]\n",
      "Loading safetensors checkpoint shards:  50% Completed | 2/4 [00:00<00:00,  2.52it/s]\n",
      "Loading safetensors checkpoint shards:  75% Completed | 3/4 [00:01<00:00,  1.78it/s]\n",
      "Loading safetensors checkpoint shards: 100% Completed | 4/4 [00:02<00:00,  1.58it/s]\n",
      "Loading safetensors checkpoint shards: 100% Completed | 4/4 [00:02<00:00,  1.81it/s]\n",
      "\u001b[1;36m(VllmWorker rank=0 pid=1008988)\u001b[0;0m \n"
     ]
    },
    {
     "name": "stdout",
     "output_type": "stream",
     "text": [
      "Модель успешно загружена\n",
      "model_config {'model': '/data/home/vkropoti/models/Qwen3-8B', 'tensor_parallel_size': 2, 'max_model_len': 40000, 'max_new_tokens': 1500, 'temperature': 0, 'top_k': 1, 'top_p': 0.8, 'gpu_memory_utilization': 0.9, 'trust_remote_code': False, 'seed': 249}\n",
      "\n",
      "prompts_config {'path_dev_json': '/data/home/vkropoti/sql_data/dev_spider.json', 'path_sql_dbs': '/data/home/vkropoti/sql_data/data_bases_spider/', 'use_reasoning': False, 'paths_to_cot': ['/data/home/vkropoti/sql_llm_answers/spider_dev_m_schema/sql_all_new_Qwen3-8B-reasoning-v0', '/data/home/vkropoti/sql_llm_answers/spider_dev_m_schema/sql_all_new_Qwen3-8B-reasoning-v1', '/data/home/vkropoti/sql_llm_answers/spider_dev_m_schema/sql_all_new_Qwen3-8B-reasoning-v2']}\n",
      "\n",
      "save_config {'path_sql_save': '/data/home/vkropoti/sql_llm_answers/spider_dev_m_schema/sql_all_Qwen3-8B-cot_all_new_think==False_nobs3-v0', 'path_think_save': None, 'path_sql_answers_save': '/data/home/vkropoti/sql_llm_answers/spider_dev_m_schema/sql_predict_Qwen3-8B-cot_all_new_think==False_nobs3-v0', 'path_to_save_scores': '/data/home/vkropoti/sql_llm_answers/spider_dev_m_schema/sql_results_Qwen3-8B-cot_all_new_think==False_nobs3-v0', 'path_to_save_executed': '/data/home/vkropoti/sql_llm_answers/spider_dev_m_schema/sql_executed_Qwen3-8B-cot_all_new_think==False_nobs3-v0'}\n",
      "\n",
      "Модель успешно загружена\n",
      "Пример промпта\n",
      "<|im_start|>system\n",
      "\n",
      "You are a data science expert. Below, you are provided with a database schema and a natural language question. Your task is to understand the schema and generate a valid SQL query to answer the question.\n",
      "\n",
      "Database Engine: SQLite\n",
      "\n",
      "You will be given an additional analysis of other models, please take it into account, so the plan is\n",
      "1. Analyse given addition analysis from other models (find in which analysis the same and differ, how to use that to answer question)\n",
      "2. Combine best from previous part and think how to solve the problem (analyze tables, take care what columns avaliable in each table and so on, check the syntacsis)\n",
      "3. Create the answers. The answer should be only sql query.\n",
      "\n",
      "Carefully follow the instruction and add <|im_end|> and the end of the final answer<|im_end|>\n",
      "<|im_start|>user\n",
      "Here is addition analysis from other models which can be helpfull, please take this into account but be careful (choose the best from each analysis, combine them to make the most proper answer):\n",
      "\n",
      "model 0 analysis:\n",
      " Reasoning process:\n",
      "\n",
      "Okay, let's tackle this question. The user is asking, \"How many singers do we have?\" So I need to find the total number of singers in the database.\n",
      "\n",
      "First, I should check the tables provided. The relevant table here is the 'singer' table. The 'singer' table has a column 'Singer_ID' which is the primary key. Since each singer is uniquely identified by their Singer_ID, counting the number of rows in this table should give the total number of singers.\n",
      "\n",
      "Wait, are there any other tables that might have singer information? Let me check. The other tables are concert, stadium, and singer_in_concert. The 'singer_in_concert' table links singers to concerts, but that's just a relationship table. The actual singer data is in the 'singer' table. So the answer should come from the 'singer' table.\n",
      "\n",
      "So the correct approach is to count all the rows in the 'singer' table. The SQL query for that would be SELECT COUNT(*) FROM singer. That should return the total number of singers. I don't need to join any other tables because the question is straightforward. There's no mention of filtering by any criteria like country or concert participation. So the query is simple.\n",
      "\n",
      "Final answer based om reasoning for this model:\n",
      "\n",
      "\n",
      "```\n",
      "SELECT COUNT(*) FROM singer;\n",
      "```\n",
      "\n",
      "model 1 analysis:\n",
      " Reasoning process:\n",
      "\n",
      "Okay, let's see. The user is asking how many singers we have. So I need to find the total number of singers in the database.\n",
      "\n",
      "Looking at the tables provided, there's a 'singer' table. The schema for that table includes columns like Singer_ID, Name, Country, etc. The Singer_ID is the primary key, which means each singer has a unique identifier. \n",
      "\n",
      "Since the question is about counting the number of singers, the most straightforward approach is to count the rows in the singer table. Each row represents a singer. So the SQL query should select the count of all rows from the singer table.\n",
      "\n",
      "I need to make sure I'm using the correct table name and column. The singer table has Singer_ID as the primary key, but the question doesn't require any specific column. The COUNT(*) function will count all records, which is exactly what the user wants.\n",
      "\n",
      "Wait, maybe I should check if there are any other tables that might have singer information. The other tables are concert, stadium, and singer_in_concert. But those tables are related to concerts and stadiums, not singers themselves. The singer_in_concert table links singers to concerts, but that's a many-to-many relationship. However, the actual singer data is in the singer table. So the count should come from the singer table.\n",
      "\n",
      "Therefore, the correct SQL query is SELECT COUNT(*) FROM singer;. That should give the total number of singers. I don't need to join any other tables because the question is simply about the number of singers, not their participation in concerts or other details.\n",
      "\n",
      "Final answer based om reasoning for this model:\n",
      "\n",
      "\n",
      "```\n",
      "SELECT COUNT(*) FROM singer;\n",
      "```\n",
      "\n",
      "model 2 analysis:\n",
      " Reasoning process:\n",
      "\n",
      "Okay, let's see. The user is asking how many singers there are in total. So I need to find the count of singers from the singer table.\n",
      "\n",
      "First, I should check the tables available. The singer table has columns like Singer_ID, Name, Country, etc. The primary key is Singer_ID, which means each singer has a unique ID. To get the total number of singers, I should count the number of rows in the singer table.\n",
      "\n",
      "The correct approach is to use the COUNT() function on the Singer_ID column. Since Singer_ID is the primary key, it's guaranteed to be unique and non-null. So, selecting COUNT(Singer_ID) from the singer table should give the exact number of singers.\n",
      "\n",
      "I don't need to join any other tables because the question is purely about the singer table. There's no mention of concerts or stadiums here. So the SQL query should be straightforward: SELECT COUNT(Singer_ID) FROM singer. That's all. No need for additional conditions or joins. Just count the rows in the singer table.\n",
      "\n",
      "Final answer based om reasoning for this model:\n",
      "\n",
      "\n",
      "```\n",
      "SELECT COUNT(Singer_ID) FROM singer;\n",
      "```\n",
      "\n",
      "\n",
      "here is avaliable tables and their structure below\n",
      "【DB_ID】 concert_singer\n",
      "【Schema】\n",
      "# Table: concert\n",
      "[\n",
      "(concert_ID:INTEGER, Primary Key, Examples: [1, 2, 3]),\n",
      "(concert_Name:TEXT, Examples: [Auditions, Super bootcamp, Home Visits]),\n",
      "(Theme:TEXT, Examples: [Free choice, Free choice 2, Bleeding Love]),\n",
      "(Stadium_ID:TEXT, maps to stadium.Stadium_ID, Examples: [1, 2, 10]),\n",
      "(Year:TEXT, Examples: [2014, 2015, 2016])\n",
      "]\n",
      "# Table: singer\n",
      "[\n",
      "(Singer_ID:INTEGER, Primary Key, Examples: [1, 2, 3]),\n",
      "(Name:TEXT, Examples: [Joe Sharp, Timbaland, Justin Brown]),\n",
      "(Country:TEXT, Examples: [Netherlands, United States, France]),\n",
      "(Song_Name:TEXT, Examples: [You, Dangerous, Hey Oh]),\n",
      "(Song_release_year:TEXT, Examples: [1992, 2008, 2013]),\n",
      "(Age:INTEGER, Examples: [52, 32, 29]),\n",
      "(Is_male:BOOLEAN, Examples: [False, True])\n",
      "]\n",
      "# Table: singer_in_concert\n",
      "[\n",
      "(concert_ID:INTEGER, maps to concert.concert_ID, Primary Key, Examples: [1, 2, 3]),\n",
      "(Singer_ID:TEXT, maps to singer.Singer_ID, Primary Key, Examples: [2, 3, 5])\n",
      "]\n",
      "# Table: stadium\n",
      "[\n",
      "(Stadium_ID:INTEGER, Primary Key, Examples: [1, 2, 3]),\n",
      "(Location:TEXT, Examples: [Raith Rovers, Ayr United, East Fife]),\n",
      "(Name:TEXT, Examples: [Stark's Park, Somerset Park, Bayview Stadium]),\n",
      "(Capacity:INTEGER, Examples: [10104, 11998, 2000]),\n",
      "(Highest:INTEGER, Examples: [4812, 2363, 1980]),\n",
      "(Lowest:INTEGER, Examples: [1294, 1057, 533]),\n",
      "(Average:INTEGER, Examples: [2106, 1477, 864])\n",
      "]\n",
      "【Foreign keys】\n",
      "concert.Stadium_ID=stadium.Stadium_ID\n",
      "singer_in_concert.concert_ID=concert.concert_ID\n",
      "singer_in_concert.Singer_ID=singer.Singer_ID\n",
      "\n",
      "-- Using valid SQLite, answer the following questions for the tables provided above.\n",
      "-- How many singers do we have?\n",
      "\n",
      "\n",
      "\n",
      "Generate the SQLite for the above question after thinking step by step: \n",
      "\n",
      "\n",
      "Instructions:\n",
      "- Make sure you only output the information that is asked in the question. If the question asks for a specific column, make sure to only include that column in the SELECT clause, nothing more.\n",
      "- The generated query should return all of the information asked in the question without any missing or extra information.\n",
      "- Before generating the final SQL query, please think through the steps of how to write the query.\n",
      "- Do not misuse column names, keep them in quotes `\n",
      "- Carefully understand what colomns belond to what tables\n",
      "- Use only initial column names, change names prohibited\n",
      "        \n",
      "Output Format:\n",
      "In your answer, please enclose the generated SQL query in a code block:\n",
      "```\n",
      "-- Your SQL query\n",
      "```    \n",
      "and nothing else, no exaplains, no comments (asnwer should be less than 512 characters)\n",
      "\n",
      "Take a deep breath and think step by step to find the correct SQL query in SQLite format.\n",
      "\n",
      "Question repetition: How many singers do we have?\n",
      "\n",
      "Be care! Include only what i want it questiona and nothing else<|im_end|>\n",
      "<|im_start|>assistant\n",
      "<think>\n",
      "\n",
      "</think>\n",
      "\n",
      "\n",
      "\n",
      "\n",
      "Максимальное количество токенов в промптах: 14290\n",
      "\n",
      "начинаем скорринг\n",
      "Загружаем чаты с данными...\n",
      "Данные успешно загружены\n",
      "Начали генерацию SQL запросов\n"
     ]
    },
    {
     "name": "stderr",
     "output_type": "stream",
     "text": [
      "Processed prompts: 100%|██████████| 1076/1076 [01:17<00:00, 13.87it/s, est. speed input: 44974.14 toks/s, output: 418.07 toks/s] "
     ]
    },
    {
     "name": "stdout",
     "output_type": "stream",
     "text": [
      "extract_think количество ошибок:  0\n",
      "extract_sql количество ошибок:  0\n",
      "Закончили генерацию SQL запросов\n",
      "Начали скорр полученных SQL запросов\n"
     ]
    },
    {
     "name": "stderr",
     "output_type": "stream",
     "text": [
      "\n"
     ]
    },
    {
     "name": "stdout",
     "output_type": "stream",
     "text": [
      "Qwen3-8B DEV Финальный результат EX: 73.14\n",
      "Qwen3-8B процент запросов, которые успешно выполнились DEV: 98.79%\n",
      "====================================================================================================\n",
      "\n",
      "\n",
      "Загружаем чаты с данными...\n",
      "Данные успешно загружены\n",
      "Начали генерацию SQL запросов\n"
     ]
    },
    {
     "name": "stderr",
     "output_type": "stream",
     "text": [
      "Processed prompts: 100%|██████████| 1076/1076 [01:19<00:00, 13.55it/s, est. speed input: 44792.93 toks/s, output: 408.72 toks/s] "
     ]
    },
    {
     "name": "stdout",
     "output_type": "stream",
     "text": [
      "extract_think количество ошибок:  0\n",
      "extract_sql количество ошибок:  0\n",
      "Закончили генерацию SQL запросов\n",
      "Начали скорр полученных SQL запросов\n"
     ]
    },
    {
     "name": "stderr",
     "output_type": "stream",
     "text": [
      "\n"
     ]
    },
    {
     "name": "stdout",
     "output_type": "stream",
     "text": [
      "Qwen3-8B DEV Финальный результат EX: 73.61\n",
      "Qwen3-8B процент запросов, которые успешно выполнились DEV: 98.79%\n",
      "====================================================================================================\n",
      "\n",
      "\n",
      "Загружаем чаты с данными...\n",
      "Данные успешно загружены\n",
      "Начали генерацию SQL запросов\n"
     ]
    },
    {
     "name": "stderr",
     "output_type": "stream",
     "text": [
      "Processed prompts: 100%|██████████| 1076/1076 [01:19<00:00, 13.55it/s, est. speed input: 44570.91 toks/s, output: 410.89 toks/s] "
     ]
    },
    {
     "name": "stdout",
     "output_type": "stream",
     "text": [
      "extract_think количество ошибок:  0\n",
      "extract_sql количество ошибок:  0\n",
      "Закончили генерацию SQL запросов\n",
      "Начали скорр полученных SQL запросов\n"
     ]
    },
    {
     "name": "stderr",
     "output_type": "stream",
     "text": [
      "\n"
     ]
    },
    {
     "name": "stdout",
     "output_type": "stream",
     "text": [
      "Qwen3-8B DEV Финальный результат EX: 73.23\n",
      "Qwen3-8B процент запросов, которые успешно выполнились DEV: 98.79%\n",
      "====================================================================================================\n",
      "\n",
      "\n",
      "Загружаем чаты с данными...\n",
      "Данные успешно загружены\n",
      "Начали генерацию SQL запросов\n"
     ]
    },
    {
     "name": "stderr",
     "output_type": "stream",
     "text": [
      "Processed prompts: 100%|██████████| 1076/1076 [01:18<00:00, 13.76it/s, est. speed input: 44830.00 toks/s, output: 412.24 toks/s] "
     ]
    },
    {
     "name": "stdout",
     "output_type": "stream",
     "text": [
      "extract_think количество ошибок:  0\n",
      "extract_sql количество ошибок:  0\n",
      "Закончили генерацию SQL запросов\n",
      "Начали скорр полученных SQL запросов\n"
     ]
    },
    {
     "name": "stderr",
     "output_type": "stream",
     "text": [
      "\n"
     ]
    },
    {
     "name": "stdout",
     "output_type": "stream",
     "text": [
      "Qwen3-8B DEV Финальный результат EX: 73.61\n",
      "Qwen3-8B процент запросов, которые успешно выполнились DEV: 98.61%\n",
      "====================================================================================================\n",
      "\n",
      "\n",
      "Загружаем чаты с данными...\n",
      "Данные успешно загружены\n",
      "Начали генерацию SQL запросов\n"
     ]
    },
    {
     "name": "stderr",
     "output_type": "stream",
     "text": [
      "Processed prompts: 100%|██████████| 1076/1076 [01:17<00:00, 13.94it/s, est. speed input: 44704.74 toks/s, output: 419.70 toks/s] "
     ]
    },
    {
     "name": "stdout",
     "output_type": "stream",
     "text": [
      "extract_think количество ошибок:  0\n",
      "extract_sql количество ошибок:  0\n",
      "Закончили генерацию SQL запросов\n",
      "Начали скорр полученных SQL запросов\n"
     ]
    },
    {
     "name": "stderr",
     "output_type": "stream",
     "text": [
      "\n"
     ]
    },
    {
     "name": "stdout",
     "output_type": "stream",
     "text": [
      "Qwen3-8B DEV Финальный результат EX: 73.79\n",
      "Qwen3-8B процент запросов, которые успешно выполнились DEV: 98.79%\n",
      "====================================================================================================\n",
      "\n",
      "\n",
      "Загружаем чаты с данными...\n",
      "Данные успешно загружены\n",
      "Начали генерацию SQL запросов\n"
     ]
    },
    {
     "name": "stderr",
     "output_type": "stream",
     "text": [
      "Processed prompts: 100%|██████████| 1076/1076 [01:19<00:00, 13.51it/s, est. speed input: 44272.71 toks/s, output: 405.98 toks/s] "
     ]
    },
    {
     "name": "stdout",
     "output_type": "stream",
     "text": [
      "extract_think количество ошибок:  0\n",
      "extract_sql количество ошибок:  0\n",
      "Закончили генерацию SQL запросов\n",
      "Начали скорр полученных SQL запросов\n"
     ]
    },
    {
     "name": "stderr",
     "output_type": "stream",
     "text": [
      "\n"
     ]
    },
    {
     "name": "stdout",
     "output_type": "stream",
     "text": [
      "Qwen3-8B DEV Финальный результат EX: 73.23\n",
      "Qwen3-8B процент запросов, которые успешно выполнились DEV: 98.33%\n",
      "====================================================================================================\n",
      "\n",
      "\n",
      "Загружаем чаты с данными...\n",
      "Данные успешно загружены\n",
      "Начали генерацию SQL запросов\n"
     ]
    },
    {
     "name": "stderr",
     "output_type": "stream",
     "text": [
      "Processed prompts: 100%|██████████| 1076/1076 [01:19<00:00, 13.54it/s, est. speed input: 44386.67 toks/s, output: 407.38 toks/s] "
     ]
    },
    {
     "name": "stdout",
     "output_type": "stream",
     "text": [
      "extract_think количество ошибок:  0\n",
      "extract_sql количество ошибок:  0\n",
      "Закончили генерацию SQL запросов\n",
      "Начали скорр полученных SQL запросов\n"
     ]
    },
    {
     "name": "stderr",
     "output_type": "stream",
     "text": [
      "\n"
     ]
    },
    {
     "name": "stdout",
     "output_type": "stream",
     "text": [
      "Qwen3-8B DEV Финальный результат EX: 73.14\n",
      "Qwen3-8B процент запросов, которые успешно выполнились DEV: 98.23%\n",
      "====================================================================================================\n",
      "\n",
      "\n",
      "Загружаем чаты с данными...\n",
      "Данные успешно загружены\n",
      "Начали генерацию SQL запросов\n"
     ]
    },
    {
     "name": "stderr",
     "output_type": "stream",
     "text": [
      "Processed prompts: 100%|██████████| 1076/1076 [01:19<00:00, 13.55it/s, est. speed input: 44460.47 toks/s, output: 409.66 toks/s] "
     ]
    },
    {
     "name": "stdout",
     "output_type": "stream",
     "text": [
      "extract_think количество ошибок:  0\n",
      "extract_sql количество ошибок:  0\n",
      "Закончили генерацию SQL запросов\n",
      "Начали скорр полученных SQL запросов\n"
     ]
    },
    {
     "name": "stderr",
     "output_type": "stream",
     "text": [
      "\n"
     ]
    },
    {
     "name": "stdout",
     "output_type": "stream",
     "text": [
      "Qwen3-8B DEV Финальный результат EX: 73.42\n",
      "Qwen3-8B процент запросов, которые успешно выполнились DEV: 98.98%\n",
      "====================================================================================================\n",
      "\n",
      "\n",
      "Загружаем чаты с данными...\n",
      "Данные успешно загружены\n",
      "Начали генерацию SQL запросов\n"
     ]
    },
    {
     "name": "stderr",
     "output_type": "stream",
     "text": [
      "Processed prompts: 100%|██████████| 1076/1076 [01:20<00:00, 13.39it/s, est. speed input: 44675.58 toks/s, output: 404.30 toks/s] "
     ]
    },
    {
     "name": "stdout",
     "output_type": "stream",
     "text": [
      "extract_think количество ошибок:  0\n",
      "extract_sql количество ошибок:  0\n",
      "Закончили генерацию SQL запросов\n",
      "Начали скорр полученных SQL запросов\n"
     ]
    },
    {
     "name": "stderr",
     "output_type": "stream",
     "text": [
      "\n"
     ]
    },
    {
     "name": "stdout",
     "output_type": "stream",
     "text": [
      "Qwen3-8B DEV Финальный результат EX: 74.35\n",
      "Qwen3-8B процент запросов, которые успешно выполнились DEV: 98.33%\n",
      "====================================================================================================\n",
      "\n",
      "\n",
      "Загружаем чаты с данными...\n",
      "Данные успешно загружены\n",
      "Начали генерацию SQL запросов\n"
     ]
    },
    {
     "name": "stderr",
     "output_type": "stream",
     "text": [
      "Processed prompts: 100%|██████████| 1076/1076 [01:20<00:00, 13.35it/s, est. speed input: 44771.51 toks/s, output: 403.79 toks/s] "
     ]
    },
    {
     "name": "stdout",
     "output_type": "stream",
     "text": [
      "extract_think количество ошибок:  0\n",
      "extract_sql количество ошибок:  0\n",
      "Закончили генерацию SQL запросов\n",
      "Начали скорр полученных SQL запросов\n"
     ]
    },
    {
     "name": "stderr",
     "output_type": "stream",
     "text": [
      "\n"
     ]
    },
    {
     "name": "stdout",
     "output_type": "stream",
     "text": [
      "Qwen3-8B DEV Финальный результат EX: 74.26\n",
      "Qwen3-8B процент запросов, которые успешно выполнились DEV: 99.07%\n",
      "====================================================================================================\n",
      "\n",
      "\n",
      "Загружаем чаты с данными...\n",
      "Данные успешно загружены\n",
      "Начали генерацию SQL запросов\n"
     ]
    },
    {
     "name": "stderr",
     "output_type": "stream",
     "text": [
      "Processed prompts: 100%|██████████| 1076/1076 [01:21<00:00, 13.20it/s, est. speed input: 44440.23 toks/s, output: 400.91 toks/s] "
     ]
    },
    {
     "name": "stdout",
     "output_type": "stream",
     "text": [
      "extract_think количество ошибок:  0\n",
      "extract_sql количество ошибок:  0\n",
      "Закончили генерацию SQL запросов\n",
      "Начали скорр полученных SQL запросов\n"
     ]
    },
    {
     "name": "stderr",
     "output_type": "stream",
     "text": [
      "\n"
     ]
    },
    {
     "name": "stdout",
     "output_type": "stream",
     "text": [
      "Qwen3-8B DEV Финальный результат EX: 74.16\n",
      "Qwen3-8B процент запросов, которые успешно выполнились DEV: 99.16%\n",
      "====================================================================================================\n",
      "\n",
      "\n",
      "Загружаем чаты с данными...\n",
      "Данные успешно загружены\n",
      "Начали генерацию SQL запросов\n"
     ]
    },
    {
     "name": "stderr",
     "output_type": "stream",
     "text": [
      "Processed prompts: 100%|██████████| 1076/1076 [01:17<00:00, 13.90it/s, est. speed input: 44809.13 toks/s, output: 418.85 toks/s] "
     ]
    },
    {
     "name": "stdout",
     "output_type": "stream",
     "text": [
      "extract_think количество ошибок:  0\n",
      "extract_sql количество ошибок:  0\n",
      "Закончили генерацию SQL запросов\n",
      "Начали скорр полученных SQL запросов\n"
     ]
    },
    {
     "name": "stderr",
     "output_type": "stream",
     "text": [
      "\n"
     ]
    },
    {
     "name": "stdout",
     "output_type": "stream",
     "text": [
      "Qwen3-8B DEV Финальный результат EX: 73.14\n",
      "Qwen3-8B процент запросов, которые успешно выполнились DEV: 99.07%\n",
      "====================================================================================================\n",
      "\n",
      "\n",
      "Загружаем чаты с данными...\n",
      "Данные успешно загружены\n",
      "Начали генерацию SQL запросов\n"
     ]
    },
    {
     "name": "stderr",
     "output_type": "stream",
     "text": [
      "Processed prompts: 100%|██████████| 1076/1076 [01:17<00:00, 13.84it/s, est. speed input: 44733.73 toks/s, output: 415.96 toks/s] "
     ]
    },
    {
     "name": "stdout",
     "output_type": "stream",
     "text": [
      "extract_think количество ошибок:  0\n",
      "extract_sql количество ошибок:  0\n",
      "Закончили генерацию SQL запросов\n",
      "Начали скорр полученных SQL запросов\n"
     ]
    },
    {
     "name": "stderr",
     "output_type": "stream",
     "text": [
      "\n"
     ]
    },
    {
     "name": "stdout",
     "output_type": "stream",
     "text": [
      "Qwen3-8B DEV Финальный результат EX: 73.98\n",
      "Qwen3-8B процент запросов, которые успешно выполнились DEV: 98.98%\n",
      "====================================================================================================\n",
      "\n",
      "\n",
      "Загружаем чаты с данными...\n",
      "Данные успешно загружены\n",
      "Начали генерацию SQL запросов\n"
     ]
    },
    {
     "name": "stderr",
     "output_type": "stream",
     "text": [
      "Processed prompts: 100%|██████████| 1076/1076 [01:19<00:00, 13.60it/s, est. speed input: 44488.71 toks/s, output: 406.89 toks/s] "
     ]
    },
    {
     "name": "stdout",
     "output_type": "stream",
     "text": [
      "extract_think количество ошибок:  0\n",
      "extract_sql количество ошибок:  0\n",
      "Закончили генерацию SQL запросов\n",
      "Начали скорр полученных SQL запросов\n"
     ]
    },
    {
     "name": "stderr",
     "output_type": "stream",
     "text": [
      "\n"
     ]
    },
    {
     "name": "stdout",
     "output_type": "stream",
     "text": [
      "Qwen3-8B DEV Финальный результат EX: 73.98\n",
      "Qwen3-8B процент запросов, которые успешно выполнились DEV: 98.61%\n",
      "====================================================================================================\n",
      "\n",
      "\n",
      "Загружаем чаты с данными...\n",
      "Данные успешно загружены\n",
      "Начали генерацию SQL запросов\n"
     ]
    },
    {
     "name": "stderr",
     "output_type": "stream",
     "text": [
      "Processed prompts: 100%|██████████| 1076/1076 [01:19<00:00, 13.56it/s, est. speed input: 44644.18 toks/s, output: 406.73 toks/s] "
     ]
    },
    {
     "name": "stdout",
     "output_type": "stream",
     "text": [
      "extract_think количество ошибок:  0\n",
      "extract_sql количество ошибок:  0\n",
      "Закончили генерацию SQL запросов\n",
      "Начали скорр полученных SQL запросов\n"
     ]
    },
    {
     "name": "stderr",
     "output_type": "stream",
     "text": [
      "\n"
     ]
    },
    {
     "name": "stdout",
     "output_type": "stream",
     "text": [
      "Qwen3-8B DEV Финальный результат EX: 73.79\n",
      "Qwen3-8B процент запросов, которые успешно выполнились DEV: 98.70%\n",
      "====================================================================================================\n",
      "\n",
      "\n",
      "Загружаем чаты с данными...\n",
      "Данные успешно загружены\n",
      "Начали генерацию SQL запросов\n"
     ]
    },
    {
     "name": "stderr",
     "output_type": "stream",
     "text": [
      "Processed prompts: 100%|██████████| 1076/1076 [01:19<00:00, 13.60it/s, est. speed input: 44641.03 toks/s, output: 409.86 toks/s] "
     ]
    },
    {
     "name": "stdout",
     "output_type": "stream",
     "text": [
      "extract_think количество ошибок:  0\n",
      "extract_sql количество ошибок:  0\n",
      "Закончили генерацию SQL запросов\n",
      "Начали скорр полученных SQL запросов\n"
     ]
    },
    {
     "name": "stderr",
     "output_type": "stream",
     "text": [
      "\n"
     ]
    },
    {
     "name": "stdout",
     "output_type": "stream",
     "text": [
      "Qwen3-8B DEV Финальный результат EX: 74.07\n",
      "Qwen3-8B процент запросов, которые успешно выполнились DEV: 98.98%\n",
      "====================================================================================================\n",
      "\n",
      "\n",
      "Загружаем чаты с данными...\n",
      "Данные успешно загружены\n",
      "Начали генерацию SQL запросов\n"
     ]
    },
    {
     "name": "stderr",
     "output_type": "stream",
     "text": [
      "Processed prompts: 100%|██████████| 1076/1076 [01:18<00:00, 13.63it/s, est. speed input: 44424.70 toks/s, output: 412.02 toks/s] "
     ]
    },
    {
     "name": "stdout",
     "output_type": "stream",
     "text": [
      "extract_think количество ошибок:  0\n",
      "extract_sql количество ошибок:  0\n",
      "Закончили генерацию SQL запросов\n",
      "Начали скорр полученных SQL запросов\n"
     ]
    },
    {
     "name": "stderr",
     "output_type": "stream",
     "text": [
      "\n"
     ]
    },
    {
     "name": "stdout",
     "output_type": "stream",
     "text": [
      "Qwen3-8B DEV Финальный результат EX: 74.07\n",
      "Qwen3-8B процент запросов, которые успешно выполнились DEV: 98.61%\n",
      "====================================================================================================\n",
      "\n",
      "\n",
      "Загружаем чаты с данными...\n",
      "Данные успешно загружены\n",
      "Начали генерацию SQL запросов\n"
     ]
    },
    {
     "name": "stderr",
     "output_type": "stream",
     "text": [
      "Processed prompts: 100%|██████████| 1076/1076 [01:19<00:00, 13.53it/s, est. speed input: 44609.38 toks/s, output: 406.71 toks/s] "
     ]
    },
    {
     "name": "stdout",
     "output_type": "stream",
     "text": [
      "extract_think количество ошибок:  0\n",
      "extract_sql количество ошибок:  0\n",
      "Закончили генерацию SQL запросов\n",
      "Начали скорр полученных SQL запросов\n"
     ]
    },
    {
     "name": "stderr",
     "output_type": "stream",
     "text": [
      "\n"
     ]
    },
    {
     "name": "stdout",
     "output_type": "stream",
     "text": [
      "Qwen3-8B DEV Финальный результат EX: 73.61\n",
      "Qwen3-8B процент запросов, которые успешно выполнились DEV: 98.88%\n",
      "====================================================================================================\n",
      "\n",
      "\n",
      "Загружаем чаты с данными...\n",
      "Данные успешно загружены\n",
      "Начали генерацию SQL запросов\n"
     ]
    },
    {
     "name": "stderr",
     "output_type": "stream",
     "text": [
      "Processed prompts: 100%|██████████| 1076/1076 [01:18<00:00, 13.72it/s, est. speed input: 44688.05 toks/s, output: 413.41 toks/s] "
     ]
    },
    {
     "name": "stdout",
     "output_type": "stream",
     "text": [
      "extract_think количество ошибок:  0\n",
      "extract_sql количество ошибок:  0\n",
      "Закончили генерацию SQL запросов\n",
      "Начали скорр полученных SQL запросов\n"
     ]
    },
    {
     "name": "stderr",
     "output_type": "stream",
     "text": [
      "\n"
     ]
    },
    {
     "name": "stdout",
     "output_type": "stream",
     "text": [
      "Qwen3-8B DEV Финальный результат EX: 73.88\n",
      "Qwen3-8B процент запросов, которые успешно выполнились DEV: 99.07%\n",
      "====================================================================================================\n",
      "\n",
      "\n",
      "Загружаем чаты с данными...\n",
      "Данные успешно загружены\n",
      "Начали генерацию SQL запросов\n"
     ]
    },
    {
     "name": "stderr",
     "output_type": "stream",
     "text": [
      "Processed prompts: 100%|██████████| 1076/1076 [01:17<00:00, 13.85it/s, est. speed input: 44840.26 toks/s, output: 416.22 toks/s] "
     ]
    },
    {
     "name": "stdout",
     "output_type": "stream",
     "text": [
      "extract_think количество ошибок:  0\n",
      "extract_sql количество ошибок:  0\n",
      "Закончили генерацию SQL запросов\n",
      "Начали скорр полученных SQL запросов\n"
     ]
    },
    {
     "name": "stderr",
     "output_type": "stream",
     "text": [
      "\n"
     ]
    },
    {
     "name": "stdout",
     "output_type": "stream",
     "text": [
      "Qwen3-8B DEV Финальный результат EX: 73.14\n",
      "Qwen3-8B процент запросов, которые успешно выполнились DEV: 98.88%\n",
      "====================================================================================================\n",
      "\n",
      "\n"
     ]
    }
   ],
   "source": [
    "run_cot_experiment(model,arr_seeds,arr_versions, type_cot,num_observations=num_observations)"
   ]
  },
  {
   "cell_type": "markdown",
   "id": "497ba1a7-9a17-4849-b915-86790c9c7d3b",
   "metadata": {},
   "source": [
    "## 4 наблюдения"
   ]
  },
  {
   "cell_type": "code",
   "execution_count": 7,
   "id": "ce49c4fe-8bad-4a23-82e6-10e210d49af7",
   "metadata": {},
   "outputs": [
    {
     "name": "stdout",
     "output_type": "stream",
     "text": [
      "[752, 41, 674, 698, 243, 386, 208, 92, 785, 745, 725, 30, 976, 19, 174, 855, 539, 354, 365, 606]\n",
      "model: Qwen3-8B\n"
     ]
    }
   ],
   "source": [
    "n= 20\n",
    "arr_seeds = [random.randint(0,1000) for _ in range(n)]\n",
    "arr_versions = [x for x in range(n)]\n",
    "model = \"Qwen3-8B\"\n",
    "num_observations = 4\n",
    "type_cot = 'all_new'\n",
    "print(arr_seeds)\n",
    "print(f\"model: {model}\")"
   ]
  },
  {
   "cell_type": "code",
   "execution_count": 8,
   "id": "7a21f95e-0959-4d46-b161-3dd97031a48f",
   "metadata": {
    "scrolled": true
   },
   "outputs": [
    {
     "name": "stdout",
     "output_type": "stream",
     "text": [
      "Загружаем модель...\n"
     ]
    },
    {
     "name": "stderr",
     "output_type": "stream",
     "text": [
      "Loading safetensors checkpoint shards:   0% Completed | 0/4 [00:00<?, ?it/s]\n",
      "Loading safetensors checkpoint shards:  25% Completed | 1/4 [00:00<00:00,  8.38it/s]\n",
      "Loading safetensors checkpoint shards:  50% Completed | 2/4 [00:00<00:00,  2.50it/s]\n",
      "Loading safetensors checkpoint shards:  75% Completed | 3/4 [00:01<00:00,  1.80it/s]\n",
      "Loading safetensors checkpoint shards: 100% Completed | 4/4 [00:02<00:00,  1.59it/s]\n",
      "Loading safetensors checkpoint shards: 100% Completed | 4/4 [00:02<00:00,  1.82it/s]\n",
      "\u001b[1;36m(VllmWorker rank=0 pid=1053419)\u001b[0;0m \n"
     ]
    },
    {
     "name": "stdout",
     "output_type": "stream",
     "text": [
      "Модель успешно загружена\n",
      "model_config {'model': '/data/home/vkropoti/models/Qwen3-8B', 'tensor_parallel_size': 2, 'max_model_len': 40000, 'max_new_tokens': 1500, 'temperature': 0, 'top_k': 1, 'top_p': 0.8, 'gpu_memory_utilization': 0.9, 'trust_remote_code': False, 'seed': 752}\n",
      "\n",
      "prompts_config {'path_dev_json': '/data/home/vkropoti/sql_data/dev_spider.json', 'path_sql_dbs': '/data/home/vkropoti/sql_data/data_bases_spider/', 'use_reasoning': False, 'paths_to_cot': ['/data/home/vkropoti/sql_llm_answers/spider_dev_m_schema/sql_all_new_Qwen3-8B-reasoning-v0', '/data/home/vkropoti/sql_llm_answers/spider_dev_m_schema/sql_all_new_Qwen3-8B-reasoning-v1', '/data/home/vkropoti/sql_llm_answers/spider_dev_m_schema/sql_all_new_Qwen3-8B-reasoning-v2', '/data/home/vkropoti/sql_llm_answers/spider_dev_m_schema/sql_all_new_Qwen3-8B-reasoning-v3']}\n",
      "\n",
      "save_config {'path_sql_save': '/data/home/vkropoti/sql_llm_answers/spider_dev_m_schema/sql_all_Qwen3-8B-cot_all_new_think==False_nobs4-v0', 'path_think_save': None, 'path_sql_answers_save': '/data/home/vkropoti/sql_llm_answers/spider_dev_m_schema/sql_predict_Qwen3-8B-cot_all_new_think==False_nobs4-v0', 'path_to_save_scores': '/data/home/vkropoti/sql_llm_answers/spider_dev_m_schema/sql_results_Qwen3-8B-cot_all_new_think==False_nobs4-v0', 'path_to_save_executed': '/data/home/vkropoti/sql_llm_answers/spider_dev_m_schema/sql_executed_Qwen3-8B-cot_all_new_think==False_nobs4-v0'}\n",
      "\n",
      "Модель успешно загружена\n",
      "Пример промпта\n",
      "<|im_start|>system\n",
      "\n",
      "You are a data science expert. Below, you are provided with a database schema and a natural language question. Your task is to understand the schema and generate a valid SQL query to answer the question.\n",
      "\n",
      "Database Engine: SQLite\n",
      "\n",
      "You will be given an additional analysis of other models, please take it into account, so the plan is\n",
      "1. Analyse given addition analysis from other models (find in which analysis the same and differ, how to use that to answer question)\n",
      "2. Combine best from previous part and think how to solve the problem (analyze tables, take care what columns avaliable in each table and so on, check the syntacsis)\n",
      "3. Create the answers. The answer should be only sql query.\n",
      "\n",
      "Carefully follow the instruction and add <|im_end|> and the end of the final answer<|im_end|>\n",
      "<|im_start|>user\n",
      "Here is addition analysis from other models which can be helpfull, please take this into account but be careful (choose the best from each analysis, combine them to make the most proper answer):\n",
      "\n",
      "model 0 analysis:\n",
      " Reasoning process:\n",
      "\n",
      "Okay, let's tackle this question. The user is asking, \"How many singers do we have?\" So I need to find the total number of singers in the database.\n",
      "\n",
      "First, I should check the tables provided. The relevant table here is the 'singer' table. The 'singer' table has a column 'Singer_ID' which is the primary key. Since each singer is uniquely identified by their Singer_ID, counting the number of rows in this table should give the total number of singers.\n",
      "\n",
      "Wait, are there any other tables that might have singer information? Let me check. The other tables are concert, stadium, and singer_in_concert. The 'singer_in_concert' table links singers to concerts, but that's just a relationship table. The actual singer data is in the 'singer' table. So the answer should come from the 'singer' table.\n",
      "\n",
      "So the correct approach is to count all the rows in the 'singer' table. The SQL query for that would be SELECT COUNT(*) FROM singer. That should return the total number of singers. I don't need to join any other tables because the question is straightforward. There's no mention of filtering by any criteria like country or concert participation. So the query is simple.\n",
      "\n",
      "Final answer based om reasoning for this model:\n",
      "\n",
      "\n",
      "```\n",
      "SELECT COUNT(*) FROM singer;\n",
      "```\n",
      "\n",
      "model 1 analysis:\n",
      " Reasoning process:\n",
      "\n",
      "Okay, let's see. The user is asking how many singers we have. So I need to find the total number of singers in the database.\n",
      "\n",
      "Looking at the tables provided, there's a 'singer' table. The schema for that table includes columns like Singer_ID, Name, Country, etc. The Singer_ID is the primary key, which means each singer has a unique identifier. \n",
      "\n",
      "Since the question is about counting the number of singers, the most straightforward approach is to count the rows in the singer table. Each row represents a singer. So the SQL query should select the count of all rows from the singer table.\n",
      "\n",
      "I need to make sure I'm using the correct table name and column. The singer table has Singer_ID as the primary key, but the question doesn't require any specific column. The COUNT(*) function will count all records, which is exactly what the user wants.\n",
      "\n",
      "Wait, maybe I should check if there are any other tables that might have singer information. The other tables are concert, stadium, and singer_in_concert. But those tables are related to concerts and stadiums, not singers themselves. The singer_in_concert table links singers to concerts, but that's a many-to-many relationship. However, the actual singer data is in the singer table. So the count should come from the singer table.\n",
      "\n",
      "Therefore, the correct SQL query is SELECT COUNT(*) FROM singer;. That should give the total number of singers. I don't need to join any other tables because the question is simply about the number of singers, not their participation in concerts or other details.\n",
      "\n",
      "Final answer based om reasoning for this model:\n",
      "\n",
      "\n",
      "```\n",
      "SELECT COUNT(*) FROM singer;\n",
      "```\n",
      "\n",
      "model 2 analysis:\n",
      " Reasoning process:\n",
      "\n",
      "Okay, let's see. The user is asking how many singers there are in total. So I need to find the count of singers from the singer table.\n",
      "\n",
      "First, I should check the tables available. The singer table has columns like Singer_ID, Name, Country, etc. The primary key is Singer_ID, which means each singer has a unique ID. To get the total number of singers, I should count the number of rows in the singer table.\n",
      "\n",
      "The correct approach is to use the COUNT() function on the Singer_ID column. Since Singer_ID is the primary key, it's guaranteed to be unique and non-null. So, selecting COUNT(Singer_ID) from the singer table should give the exact number of singers.\n",
      "\n",
      "I don't need to join any other tables because the question is purely about the singer table. There's no mention of concerts or stadiums here. So the SQL query should be straightforward: SELECT COUNT(Singer_ID) FROM singer. That's all. No need for additional conditions or joins. Just count the rows in the singer table.\n",
      "\n",
      "Final answer based om reasoning for this model:\n",
      "\n",
      "\n",
      "```\n",
      "SELECT COUNT(Singer_ID) FROM singer;\n",
      "```\n",
      "\n",
      "model 3 analysis:\n",
      " Reasoning process:\n",
      "\n",
      "Okay, let's see. The user is asking how many singers we have. So, the main task is to count the number of singers in the database.\n",
      "\n",
      "First, I need to check which tables are relevant here. The tables provided are concert, singer, singer_in_concert, and stadium. The question is about singers, so the singer table is the primary one here. \n",
      "\n",
      "Looking at the singer table's structure, it has columns like Singer_ID, Name, Country, etc. The Singer_ID is the primary key, which means each row in the singer table represents a unique singer. So, to find the total number of singers, I should count the number of rows in the singer table.\n",
      "\n",
      "Wait, but maybe there's a possibility of duplicates or some other factors? The problem statement doesn't mention any such issues. The primary key ensures that each singer is uniquely identified by Singer_ID, so each row is a distinct singer. Therefore, counting all rows in the singer table should give the correct number.\n",
      "\n",
      "The user wants the SQL query to return the count. The correct approach is to use the COUNT function on the Singer_ID column. Since Singer_ID is the primary key, it's guaranteed to be non-null and unique. So, SELECT COUNT(*) FROM singer would work. Alternatively, using COUNT(Singer_ID) would also work, but COUNT(*) is more straightforward here.\n",
      "\n",
      "I should make sure there are no other tables that might have singer information. The singer_in_concert table links singers to concerts, but that's just a many-to-many relationship. The actual singer data is in the singer table. So, the answer is simply counting the rows in the singer table.\n",
      "\n",
      "So the SQL query would be SELECT COUNT(*) FROM singer;. That's it. There's no need to join with other tables because the question is about the total number of singers, not related to concerts or stadiums.\n",
      "\n",
      "Final answer based om reasoning for this model:\n",
      "\n",
      "\n",
      "```\n",
      "SELECT COUNT(*) FROM singer;\n",
      "```\n",
      "\n",
      "\n",
      "here is avaliable tables and their structure below\n",
      "【DB_ID】 concert_singer\n",
      "【Schema】\n",
      "# Table: concert\n",
      "[\n",
      "(concert_ID:INTEGER, Primary Key, Examples: [1, 2, 3]),\n",
      "(concert_Name:TEXT, Examples: [Auditions, Super bootcamp, Home Visits]),\n",
      "(Theme:TEXT, Examples: [Free choice, Free choice 2, Bleeding Love]),\n",
      "(Stadium_ID:TEXT, maps to stadium.Stadium_ID, Examples: [1, 2, 10]),\n",
      "(Year:TEXT, Examples: [2014, 2015, 2016])\n",
      "]\n",
      "# Table: singer\n",
      "[\n",
      "(Singer_ID:INTEGER, Primary Key, Examples: [1, 2, 3]),\n",
      "(Name:TEXT, Examples: [Joe Sharp, Timbaland, Justin Brown]),\n",
      "(Country:TEXT, Examples: [Netherlands, United States, France]),\n",
      "(Song_Name:TEXT, Examples: [You, Dangerous, Hey Oh]),\n",
      "(Song_release_year:TEXT, Examples: [1992, 2008, 2013]),\n",
      "(Age:INTEGER, Examples: [52, 32, 29]),\n",
      "(Is_male:BOOLEAN, Examples: [False, True])\n",
      "]\n",
      "# Table: singer_in_concert\n",
      "[\n",
      "(concert_ID:INTEGER, maps to concert.concert_ID, Primary Key, Examples: [1, 2, 3]),\n",
      "(Singer_ID:TEXT, maps to singer.Singer_ID, Primary Key, Examples: [2, 3, 5])\n",
      "]\n",
      "# Table: stadium\n",
      "[\n",
      "(Stadium_ID:INTEGER, Primary Key, Examples: [1, 2, 3]),\n",
      "(Location:TEXT, Examples: [Raith Rovers, Ayr United, East Fife]),\n",
      "(Name:TEXT, Examples: [Stark's Park, Somerset Park, Bayview Stadium]),\n",
      "(Capacity:INTEGER, Examples: [10104, 11998, 2000]),\n",
      "(Highest:INTEGER, Examples: [4812, 2363, 1980]),\n",
      "(Lowest:INTEGER, Examples: [1294, 1057, 533]),\n",
      "(Average:INTEGER, Examples: [2106, 1477, 864])\n",
      "]\n",
      "【Foreign keys】\n",
      "concert.Stadium_ID=stadium.Stadium_ID\n",
      "singer_in_concert.concert_ID=concert.concert_ID\n",
      "singer_in_concert.Singer_ID=singer.Singer_ID\n",
      "\n",
      "-- Using valid SQLite, answer the following questions for the tables provided above.\n",
      "-- How many singers do we have?\n",
      "\n",
      "\n",
      "\n",
      "Generate the SQLite for the above question after thinking step by step: \n",
      "\n",
      "\n",
      "Instructions:\n",
      "- Make sure you only output the information that is asked in the question. If the question asks for a specific column, make sure to only include that column in the SELECT clause, nothing more.\n",
      "- The generated query should return all of the information asked in the question without any missing or extra information.\n",
      "- Before generating the final SQL query, please think through the steps of how to write the query.\n",
      "- Do not misuse column names, keep them in quotes `\n",
      "- Carefully understand what colomns belond to what tables\n",
      "- Use only initial column names, change names prohibited\n",
      "        \n",
      "Output Format:\n",
      "In your answer, please enclose the generated SQL query in a code block:\n",
      "```\n",
      "-- Your SQL query\n",
      "```    \n",
      "and nothing else, no exaplains, no comments (asnwer should be less than 512 characters)\n",
      "\n",
      "Take a deep breath and think step by step to find the correct SQL query in SQLite format.\n",
      "\n",
      "Question repetition: How many singers do we have?\n",
      "\n",
      "Be care! Include only what i want it questiona and nothing else<|im_end|>\n",
      "<|im_start|>assistant\n",
      "<think>\n",
      "\n",
      "</think>\n",
      "\n",
      "\n",
      "\n",
      "\n",
      "Максимальное количество токенов в промптах: 20369\n",
      "\n",
      "начинаем скорринг\n",
      "Загружаем чаты с данными...\n",
      "Данные успешно загружены\n",
      "Начали генерацию SQL запросов\n"
     ]
    },
    {
     "name": "stderr",
     "output_type": "stream",
     "text": [
      "Processed prompts: 100%|██████████| 1076/1076 [01:38<00:00, 10.97it/s, est. speed input: 43722.72 toks/s, output: 332.19 toks/s] "
     ]
    },
    {
     "name": "stdout",
     "output_type": "stream",
     "text": [
      "extract_think количество ошибок:  0\n",
      "extract_sql количество ошибок:  0\n",
      "Закончили генерацию SQL запросов\n",
      "Начали скорр полученных SQL запросов\n"
     ]
    },
    {
     "name": "stderr",
     "output_type": "stream",
     "text": [
      "\n"
     ]
    },
    {
     "name": "stdout",
     "output_type": "stream",
     "text": [
      "Qwen3-8B DEV Финальный результат EX: 73.61\n",
      "Qwen3-8B процент запросов, которые успешно выполнились DEV: 98.88%\n",
      "====================================================================================================\n",
      "\n",
      "\n",
      "Загружаем чаты с данными...\n",
      "Данные успешно загружены\n",
      "Начали генерацию SQL запросов\n"
     ]
    },
    {
     "name": "stderr",
     "output_type": "stream",
     "text": [
      "Processed prompts: 100%|██████████| 1076/1076 [01:39<00:00, 10.86it/s, est. speed input: 43400.91 toks/s, output: 327.54 toks/s] "
     ]
    },
    {
     "name": "stdout",
     "output_type": "stream",
     "text": [
      "extract_think количество ошибок:  0\n",
      "extract_sql количество ошибок:  0\n",
      "Закончили генерацию SQL запросов\n",
      "Начали скорр полученных SQL запросов\n"
     ]
    },
    {
     "name": "stderr",
     "output_type": "stream",
     "text": [
      "\n"
     ]
    },
    {
     "name": "stdout",
     "output_type": "stream",
     "text": [
      "Qwen3-8B DEV Финальный результат EX: 73.23\n",
      "Qwen3-8B процент запросов, которые успешно выполнились DEV: 98.51%\n",
      "====================================================================================================\n",
      "\n",
      "\n",
      "Загружаем чаты с данными...\n",
      "Данные успешно загружены\n",
      "Начали генерацию SQL запросов\n"
     ]
    },
    {
     "name": "stderr",
     "output_type": "stream",
     "text": [
      "Processed prompts: 100%|██████████| 1076/1076 [01:39<00:00, 10.86it/s, est. speed input: 43402.06 toks/s, output: 326.47 toks/s] "
     ]
    },
    {
     "name": "stdout",
     "output_type": "stream",
     "text": [
      "extract_think количество ошибок:  0\n",
      "extract_sql количество ошибок:  0\n",
      "Закончили генерацию SQL запросов\n",
      "Начали скорр полученных SQL запросов\n"
     ]
    },
    {
     "name": "stderr",
     "output_type": "stream",
     "text": [
      "\n"
     ]
    },
    {
     "name": "stdout",
     "output_type": "stream",
     "text": [
      "Qwen3-8B DEV Финальный результат EX: 73.23\n",
      "Qwen3-8B процент запросов, которые успешно выполнились DEV: 98.70%\n",
      "====================================================================================================\n",
      "\n",
      "\n",
      "Загружаем чаты с данными...\n",
      "Данные успешно загружены\n",
      "Начали генерацию SQL запросов\n"
     ]
    },
    {
     "name": "stderr",
     "output_type": "stream",
     "text": [
      "Processed prompts: 100%|██████████| 1076/1076 [01:38<00:00, 10.95it/s, est. speed input: 43274.52 toks/s, output: 329.15 toks/s] "
     ]
    },
    {
     "name": "stdout",
     "output_type": "stream",
     "text": [
      "extract_think количество ошибок:  0\n",
      "extract_sql количество ошибок:  0\n",
      "Закончили генерацию SQL запросов\n",
      "Начали скорр полученных SQL запросов\n"
     ]
    },
    {
     "name": "stderr",
     "output_type": "stream",
     "text": [
      "\n"
     ]
    },
    {
     "name": "stdout",
     "output_type": "stream",
     "text": [
      "Qwen3-8B DEV Финальный результат EX: 73.51\n",
      "Qwen3-8B процент запросов, которые успешно выполнились DEV: 98.51%\n",
      "====================================================================================================\n",
      "\n",
      "\n",
      "Загружаем чаты с данными...\n",
      "Данные успешно загружены\n",
      "Начали генерацию SQL запросов\n"
     ]
    },
    {
     "name": "stderr",
     "output_type": "stream",
     "text": [
      "Processed prompts: 100%|██████████| 1076/1076 [01:38<00:00, 10.90it/s, est. speed input: 43294.41 toks/s, output: 330.34 toks/s] "
     ]
    },
    {
     "name": "stdout",
     "output_type": "stream",
     "text": [
      "extract_think количество ошибок:  0\n",
      "extract_sql количество ошибок:  0\n",
      "Закончили генерацию SQL запросов\n",
      "Начали скорр полученных SQL запросов\n"
     ]
    },
    {
     "name": "stderr",
     "output_type": "stream",
     "text": [
      "\n"
     ]
    },
    {
     "name": "stdout",
     "output_type": "stream",
     "text": [
      "Qwen3-8B DEV Финальный результат EX: 73.33\n",
      "Qwen3-8B процент запросов, которые успешно выполнились DEV: 98.70%\n",
      "====================================================================================================\n",
      "\n",
      "\n",
      "Загружаем чаты с данными...\n",
      "Данные успешно загружены\n",
      "Начали генерацию SQL запросов\n"
     ]
    },
    {
     "name": "stderr",
     "output_type": "stream",
     "text": [
      "Processed prompts: 100%|██████████| 1076/1076 [01:39<00:00, 10.86it/s, est. speed input: 43270.76 toks/s, output: 326.70 toks/s] "
     ]
    },
    {
     "name": "stdout",
     "output_type": "stream",
     "text": [
      "extract_think количество ошибок:  0\n",
      "extract_sql количество ошибок:  0\n",
      "Закончили генерацию SQL запросов\n",
      "Начали скорр полученных SQL запросов\n"
     ]
    },
    {
     "name": "stderr",
     "output_type": "stream",
     "text": [
      "\n"
     ]
    },
    {
     "name": "stdout",
     "output_type": "stream",
     "text": [
      "Qwen3-8B DEV Финальный результат EX: 73.51\n",
      "Qwen3-8B процент запросов, которые успешно выполнились DEV: 98.33%\n",
      "====================================================================================================\n",
      "\n",
      "\n",
      "Загружаем чаты с данными...\n",
      "Данные успешно загружены\n",
      "Начали генерацию SQL запросов\n"
     ]
    },
    {
     "name": "stderr",
     "output_type": "stream",
     "text": [
      "Processed prompts: 100%|██████████| 1076/1076 [01:38<00:00, 10.89it/s, est. speed input: 43332.77 toks/s, output: 330.04 toks/s] "
     ]
    },
    {
     "name": "stdout",
     "output_type": "stream",
     "text": [
      "extract_think количество ошибок:  0\n",
      "extract_sql количество ошибок:  0\n",
      "Закончили генерацию SQL запросов\n",
      "Начали скорр полученных SQL запросов\n"
     ]
    },
    {
     "name": "stderr",
     "output_type": "stream",
     "text": [
      "\n"
     ]
    },
    {
     "name": "stdout",
     "output_type": "stream",
     "text": [
      "Qwen3-8B DEV Финальный результат EX: 74.07\n",
      "Qwen3-8B процент запросов, которые успешно выполнились DEV: 98.79%\n",
      "====================================================================================================\n",
      "\n",
      "\n",
      "Загружаем чаты с данными...\n",
      "Данные успешно загружены\n",
      "Начали генерацию SQL запросов\n"
     ]
    },
    {
     "name": "stderr",
     "output_type": "stream",
     "text": [
      "Processed prompts: 100%|██████████| 1076/1076 [01:42<00:00, 10.53it/s, est. speed input: 43159.12 toks/s, output: 317.67 toks/s] "
     ]
    },
    {
     "name": "stdout",
     "output_type": "stream",
     "text": [
      "extract_think количество ошибок:  0\n",
      "extract_sql количество ошибок:  0\n",
      "Закончили генерацию SQL запросов\n",
      "Начали скорр полученных SQL запросов\n"
     ]
    },
    {
     "name": "stderr",
     "output_type": "stream",
     "text": [
      "\n"
     ]
    },
    {
     "name": "stdout",
     "output_type": "stream",
     "text": [
      "Qwen3-8B DEV Финальный результат EX: 74.26\n",
      "Qwen3-8B процент запросов, которые успешно выполнились DEV: 98.98%\n",
      "====================================================================================================\n",
      "\n",
      "\n",
      "Загружаем чаты с данными...\n",
      "Данные успешно загружены\n",
      "Начали генерацию SQL запросов\n"
     ]
    },
    {
     "name": "stderr",
     "output_type": "stream",
     "text": [
      "Processed prompts: 100%|██████████| 1076/1076 [01:40<00:00, 10.69it/s, est. speed input: 43391.29 toks/s, output: 322.86 toks/s] "
     ]
    },
    {
     "name": "stdout",
     "output_type": "stream",
     "text": [
      "extract_think количество ошибок:  0\n",
      "extract_sql количество ошибок:  0\n",
      "Закончили генерацию SQL запросов\n",
      "Начали скорр полученных SQL запросов\n"
     ]
    },
    {
     "name": "stderr",
     "output_type": "stream",
     "text": [
      "\n"
     ]
    },
    {
     "name": "stdout",
     "output_type": "stream",
     "text": [
      "Qwen3-8B DEV Финальный результат EX: 74.07\n",
      "Qwen3-8B процент запросов, которые успешно выполнились DEV: 98.88%\n",
      "====================================================================================================\n",
      "\n",
      "\n",
      "Загружаем чаты с данными...\n",
      "Данные успешно загружены\n",
      "Начали генерацию SQL запросов\n"
     ]
    },
    {
     "name": "stderr",
     "output_type": "stream",
     "text": [
      "Processed prompts: 100%|██████████| 1076/1076 [01:41<00:00, 10.65it/s, est. speed input: 43282.76 toks/s, output: 322.16 toks/s] "
     ]
    },
    {
     "name": "stdout",
     "output_type": "stream",
     "text": [
      "extract_think количество ошибок:  0\n",
      "extract_sql количество ошибок:  0\n",
      "Закончили генерацию SQL запросов\n",
      "Начали скорр полученных SQL запросов\n"
     ]
    },
    {
     "name": "stderr",
     "output_type": "stream",
     "text": [
      "\n"
     ]
    },
    {
     "name": "stdout",
     "output_type": "stream",
     "text": [
      "Qwen3-8B DEV Финальный результат EX: 73.79\n",
      "Qwen3-8B процент запросов, которые успешно выполнились DEV: 99.16%\n",
      "====================================================================================================\n",
      "\n",
      "\n",
      "Загружаем чаты с данными...\n",
      "Данные успешно загружены\n",
      "Начали генерацию SQL запросов\n"
     ]
    },
    {
     "name": "stderr",
     "output_type": "stream",
     "text": [
      "Processed prompts: 100%|██████████| 1076/1076 [01:40<00:00, 10.75it/s, est. speed input: 43463.23 toks/s, output: 324.70 toks/s] "
     ]
    },
    {
     "name": "stdout",
     "output_type": "stream",
     "text": [
      "extract_think количество ошибок:  0\n",
      "extract_sql количество ошибок:  0\n",
      "Закончили генерацию SQL запросов\n",
      "Начали скорр полученных SQL запросов\n"
     ]
    },
    {
     "name": "stderr",
     "output_type": "stream",
     "text": [
      "\n"
     ]
    },
    {
     "name": "stdout",
     "output_type": "stream",
     "text": [
      "Qwen3-8B DEV Финальный результат EX: 74.26\n",
      "Qwen3-8B процент запросов, которые успешно выполнились DEV: 98.88%\n",
      "====================================================================================================\n",
      "\n",
      "\n",
      "Загружаем чаты с данными...\n",
      "Данные успешно загружены\n",
      "Начали генерацию SQL запросов\n"
     ]
    },
    {
     "name": "stderr",
     "output_type": "stream",
     "text": [
      "Processed prompts: 100%|██████████| 1076/1076 [01:38<00:00, 10.98it/s, est. speed input: 43407.89 toks/s, output: 330.82 toks/s] "
     ]
    },
    {
     "name": "stdout",
     "output_type": "stream",
     "text": [
      "extract_think количество ошибок:  0\n",
      "extract_sql количество ошибок:  0\n",
      "Закончили генерацию SQL запросов\n",
      "Начали скорр полученных SQL запросов\n"
     ]
    },
    {
     "name": "stderr",
     "output_type": "stream",
     "text": [
      "\n"
     ]
    },
    {
     "name": "stdout",
     "output_type": "stream",
     "text": [
      "Qwen3-8B DEV Финальный результат EX: 73.79\n",
      "Qwen3-8B процент запросов, которые успешно выполнились DEV: 98.98%\n",
      "====================================================================================================\n",
      "\n",
      "\n",
      "Загружаем чаты с данными...\n",
      "Данные успешно загружены\n",
      "Начали генерацию SQL запросов\n"
     ]
    },
    {
     "name": "stderr",
     "output_type": "stream",
     "text": [
      "Processed prompts: 100%|██████████| 1076/1076 [01:38<00:00, 10.94it/s, est. speed input: 43571.75 toks/s, output: 327.85 toks/s] "
     ]
    },
    {
     "name": "stdout",
     "output_type": "stream",
     "text": [
      "extract_think количество ошибок:  0\n",
      "extract_sql количество ошибок:  0\n",
      "Закончили генерацию SQL запросов\n",
      "Начали скорр полученных SQL запросов\n"
     ]
    },
    {
     "name": "stderr",
     "output_type": "stream",
     "text": [
      "\n"
     ]
    },
    {
     "name": "stdout",
     "output_type": "stream",
     "text": [
      "Qwen3-8B DEV Финальный результат EX: 74.26\n",
      "Qwen3-8B процент запросов, которые успешно выполнились DEV: 99.07%\n",
      "====================================================================================================\n",
      "\n",
      "\n",
      "Загружаем чаты с данными...\n",
      "Данные успешно загружены\n",
      "Начали генерацию SQL запросов\n"
     ]
    },
    {
     "name": "stderr",
     "output_type": "stream",
     "text": [
      "Processed prompts: 100%|██████████| 1076/1076 [01:38<00:00, 10.93it/s, est. speed input: 43373.94 toks/s, output: 328.72 toks/s] "
     ]
    },
    {
     "name": "stdout",
     "output_type": "stream",
     "text": [
      "extract_think количество ошибок:  0\n",
      "extract_sql количество ошибок:  0\n",
      "Закончили генерацию SQL запросов\n",
      "Начали скорр полученных SQL запросов\n"
     ]
    },
    {
     "name": "stderr",
     "output_type": "stream",
     "text": [
      "\n"
     ]
    },
    {
     "name": "stdout",
     "output_type": "stream",
     "text": [
      "Qwen3-8B DEV Финальный результат EX: 73.79\n",
      "Qwen3-8B процент запросов, которые успешно выполнились DEV: 98.98%\n",
      "====================================================================================================\n",
      "\n",
      "\n",
      "Загружаем чаты с данными...\n",
      "Данные успешно загружены\n",
      "Начали генерацию SQL запросов\n"
     ]
    },
    {
     "name": "stderr",
     "output_type": "stream",
     "text": [
      "Processed prompts: 100%|██████████| 1076/1076 [01:39<00:00, 10.83it/s, est. speed input: 43483.96 toks/s, output: 324.61 toks/s] "
     ]
    },
    {
     "name": "stdout",
     "output_type": "stream",
     "text": [
      "extract_think количество ошибок:  0\n",
      "extract_sql количество ошибок:  0\n",
      "Закончили генерацию SQL запросов\n",
      "Начали скорр полученных SQL запросов\n"
     ]
    },
    {
     "name": "stderr",
     "output_type": "stream",
     "text": [
      "\n"
     ]
    },
    {
     "name": "stdout",
     "output_type": "stream",
     "text": [
      "Qwen3-8B DEV Финальный результат EX: 73.70\n",
      "Qwen3-8B процент запросов, которые успешно выполнились DEV: 98.61%\n",
      "====================================================================================================\n",
      "\n",
      "\n",
      "Загружаем чаты с данными...\n",
      "Данные успешно загружены\n",
      "Начали генерацию SQL запросов\n"
     ]
    },
    {
     "name": "stderr",
     "output_type": "stream",
     "text": [
      "Processed prompts: 100%|██████████| 1076/1076 [01:39<00:00, 10.82it/s, est. speed input: 43409.69 toks/s, output: 327.79 toks/s] "
     ]
    },
    {
     "name": "stdout",
     "output_type": "stream",
     "text": [
      "extract_think количество ошибок:  0\n",
      "extract_sql количество ошибок:  0\n",
      "Закончили генерацию SQL запросов\n",
      "Начали скорр полученных SQL запросов\n"
     ]
    },
    {
     "name": "stderr",
     "output_type": "stream",
     "text": [
      "\n"
     ]
    },
    {
     "name": "stdout",
     "output_type": "stream",
     "text": [
      "Qwen3-8B DEV Финальный результат EX: 73.79\n",
      "Qwen3-8B процент запросов, которые успешно выполнились DEV: 98.79%\n",
      "====================================================================================================\n",
      "\n",
      "\n",
      "Загружаем чаты с данными...\n",
      "Данные успешно загружены\n",
      "Начали генерацию SQL запросов\n"
     ]
    },
    {
     "name": "stderr",
     "output_type": "stream",
     "text": [
      "Processed prompts: 100%|██████████| 1076/1076 [01:38<00:00, 10.90it/s, est. speed input: 43527.09 toks/s, output: 328.93 toks/s] "
     ]
    },
    {
     "name": "stdout",
     "output_type": "stream",
     "text": [
      "extract_think количество ошибок:  0\n",
      "extract_sql количество ошибок:  0\n",
      "Закончили генерацию SQL запросов\n",
      "Начали скорр полученных SQL запросов\n"
     ]
    },
    {
     "name": "stderr",
     "output_type": "stream",
     "text": [
      "\n"
     ]
    },
    {
     "name": "stdout",
     "output_type": "stream",
     "text": [
      "Qwen3-8B DEV Финальный результат EX: 73.79\n",
      "Qwen3-8B процент запросов, которые успешно выполнились DEV: 98.88%\n",
      "====================================================================================================\n",
      "\n",
      "\n",
      "Загружаем чаты с данными...\n",
      "Данные успешно загружены\n",
      "Начали генерацию SQL запросов\n"
     ]
    },
    {
     "name": "stderr",
     "output_type": "stream",
     "text": [
      "Processed prompts: 100%|██████████| 1076/1076 [01:38<00:00, 10.89it/s, est. speed input: 43320.59 toks/s, output: 329.62 toks/s] "
     ]
    },
    {
     "name": "stdout",
     "output_type": "stream",
     "text": [
      "extract_think количество ошибок:  0\n",
      "extract_sql количество ошибок:  0\n",
      "Закончили генерацию SQL запросов\n",
      "Начали скорр полученных SQL запросов\n"
     ]
    },
    {
     "name": "stderr",
     "output_type": "stream",
     "text": [
      "\n"
     ]
    },
    {
     "name": "stdout",
     "output_type": "stream",
     "text": [
      "Qwen3-8B DEV Финальный результат EX: 74.26\n",
      "Qwen3-8B процент запросов, которые успешно выполнились DEV: 99.26%\n",
      "====================================================================================================\n",
      "\n",
      "\n",
      "Загружаем чаты с данными...\n",
      "Данные успешно загружены\n",
      "Начали генерацию SQL запросов\n"
     ]
    },
    {
     "name": "stderr",
     "output_type": "stream",
     "text": [
      "Processed prompts: 100%|██████████| 1076/1076 [01:38<00:00, 10.98it/s, est. speed input: 43534.63 toks/s, output: 328.98 toks/s] "
     ]
    },
    {
     "name": "stdout",
     "output_type": "stream",
     "text": [
      "extract_think количество ошибок:  0\n",
      "extract_sql количество ошибок:  0\n",
      "Закончили генерацию SQL запросов\n",
      "Начали скорр полученных SQL запросов\n"
     ]
    },
    {
     "name": "stderr",
     "output_type": "stream",
     "text": [
      "\n"
     ]
    },
    {
     "name": "stdout",
     "output_type": "stream",
     "text": [
      "Qwen3-8B DEV Финальный результат EX: 73.33\n",
      "Qwen3-8B процент запросов, которые успешно выполнились DEV: 98.79%\n",
      "====================================================================================================\n",
      "\n",
      "\n",
      "Загружаем чаты с данными...\n",
      "Данные успешно загружены\n",
      "Начали генерацию SQL запросов\n"
     ]
    },
    {
     "name": "stderr",
     "output_type": "stream",
     "text": [
      "Processed prompts: 100%|██████████| 1076/1076 [01:38<00:00, 10.96it/s, est. speed input: 43578.44 toks/s, output: 329.09 toks/s] "
     ]
    },
    {
     "name": "stdout",
     "output_type": "stream",
     "text": [
      "extract_think количество ошибок:  0\n",
      "extract_sql количество ошибок:  0\n",
      "Закончили генерацию SQL запросов\n",
      "Начали скорр полученных SQL запросов\n"
     ]
    },
    {
     "name": "stderr",
     "output_type": "stream",
     "text": [
      "\n"
     ]
    },
    {
     "name": "stdout",
     "output_type": "stream",
     "text": [
      "Qwen3-8B DEV Финальный результат EX: 73.23\n",
      "Qwen3-8B процент запросов, которые успешно выполнились DEV: 99.07%\n",
      "====================================================================================================\n",
      "\n",
      "\n"
     ]
    }
   ],
   "source": [
    "run_cot_experiment(model,arr_seeds,arr_versions, type_cot,num_observations=num_observations)"
   ]
  },
  {
   "cell_type": "markdown",
   "id": "e8321b48-e1ff-41e4-b667-d7196e984c17",
   "metadata": {},
   "source": [
    "## 5 наблюдений"
   ]
  },
  {
   "cell_type": "code",
   "execution_count": 9,
   "id": "613df4ca-270b-4de3-9fb0-a403da4769f9",
   "metadata": {},
   "outputs": [
    {
     "name": "stdout",
     "output_type": "stream",
     "text": [
      "[265, 856, 857, 380, 361, 339, 857, 21, 351, 776, 674, 596, 818, 563, 313, 368, 678, 584, 488, 60]\n",
      "model: Qwen3-8B\n"
     ]
    }
   ],
   "source": [
    "n= 20\n",
    "arr_seeds = [random.randint(0,1000) for _ in range(n)]\n",
    "arr_versions = [x for x in range(n)]\n",
    "model = \"Qwen3-8B\"\n",
    "num_observations = 5\n",
    "type_cot = 'all_new'\n",
    "print(arr_seeds)\n",
    "print(f\"model: {model}\")"
   ]
  },
  {
   "cell_type": "code",
   "execution_count": 10,
   "id": "cecc36c2-8753-43db-a939-82d14892b0f5",
   "metadata": {
    "scrolled": true
   },
   "outputs": [
    {
     "name": "stdout",
     "output_type": "stream",
     "text": [
      "Загружаем модель...\n"
     ]
    },
    {
     "name": "stderr",
     "output_type": "stream",
     "text": [
      "Loading safetensors checkpoint shards:   0% Completed | 0/4 [00:00<?, ?it/s]\n",
      "Loading safetensors checkpoint shards:  25% Completed | 1/4 [00:00<00:00,  8.76it/s]\n",
      "Loading safetensors checkpoint shards:  50% Completed | 2/4 [00:00<00:00,  2.53it/s]\n",
      "Loading safetensors checkpoint shards:  75% Completed | 3/4 [00:01<00:00,  1.79it/s]\n",
      "Loading safetensors checkpoint shards: 100% Completed | 4/4 [00:02<00:00,  1.59it/s]\n",
      "Loading safetensors checkpoint shards: 100% Completed | 4/4 [00:02<00:00,  1.82it/s]\n",
      "\u001b[1;36m(VllmWorker rank=0 pid=1100713)\u001b[0;0m \n"
     ]
    },
    {
     "name": "stdout",
     "output_type": "stream",
     "text": [
      "Модель успешно загружена\n",
      "model_config {'model': '/data/home/vkropoti/models/Qwen3-8B', 'tensor_parallel_size': 2, 'max_model_len': 40000, 'max_new_tokens': 1500, 'temperature': 0, 'top_k': 1, 'top_p': 0.8, 'gpu_memory_utilization': 0.9, 'trust_remote_code': False, 'seed': 265}\n",
      "\n",
      "prompts_config {'path_dev_json': '/data/home/vkropoti/sql_data/dev_spider.json', 'path_sql_dbs': '/data/home/vkropoti/sql_data/data_bases_spider/', 'use_reasoning': False, 'paths_to_cot': ['/data/home/vkropoti/sql_llm_answers/spider_dev_m_schema/sql_all_new_Qwen3-8B-reasoning-v0', '/data/home/vkropoti/sql_llm_answers/spider_dev_m_schema/sql_all_new_Qwen3-8B-reasoning-v1', '/data/home/vkropoti/sql_llm_answers/spider_dev_m_schema/sql_all_new_Qwen3-8B-reasoning-v2', '/data/home/vkropoti/sql_llm_answers/spider_dev_m_schema/sql_all_new_Qwen3-8B-reasoning-v3', '/data/home/vkropoti/sql_llm_answers/spider_dev_m_schema/sql_all_new_Qwen3-8B-reasoning-v4']}\n",
      "\n",
      "save_config {'path_sql_save': '/data/home/vkropoti/sql_llm_answers/spider_dev_m_schema/sql_all_Qwen3-8B-cot_all_new_think==False_nobs5-v0', 'path_think_save': None, 'path_sql_answers_save': '/data/home/vkropoti/sql_llm_answers/spider_dev_m_schema/sql_predict_Qwen3-8B-cot_all_new_think==False_nobs5-v0', 'path_to_save_scores': '/data/home/vkropoti/sql_llm_answers/spider_dev_m_schema/sql_results_Qwen3-8B-cot_all_new_think==False_nobs5-v0', 'path_to_save_executed': '/data/home/vkropoti/sql_llm_answers/spider_dev_m_schema/sql_executed_Qwen3-8B-cot_all_new_think==False_nobs5-v0'}\n",
      "\n",
      "Модель успешно загружена\n",
      "Пример промпта\n",
      "<|im_start|>system\n",
      "\n",
      "You are a data science expert. Below, you are provided with a database schema and a natural language question. Your task is to understand the schema and generate a valid SQL query to answer the question.\n",
      "\n",
      "Database Engine: SQLite\n",
      "\n",
      "You will be given an additional analysis of other models, please take it into account, so the plan is\n",
      "1. Analyse given addition analysis from other models (find in which analysis the same and differ, how to use that to answer question)\n",
      "2. Combine best from previous part and think how to solve the problem (analyze tables, take care what columns avaliable in each table and so on, check the syntacsis)\n",
      "3. Create the answers. The answer should be only sql query.\n",
      "\n",
      "Carefully follow the instruction and add <|im_end|> and the end of the final answer<|im_end|>\n",
      "<|im_start|>user\n",
      "Here is addition analysis from other models which can be helpfull, please take this into account but be careful (choose the best from each analysis, combine them to make the most proper answer):\n",
      "\n",
      "model 0 analysis:\n",
      " Reasoning process:\n",
      "\n",
      "Okay, let's tackle this question. The user is asking, \"How many singers do we have?\" So I need to find the total number of singers in the database.\n",
      "\n",
      "First, I should check the tables provided. The relevant table here is the 'singer' table. The 'singer' table has a column 'Singer_ID' which is the primary key. Since each singer is uniquely identified by their Singer_ID, counting the number of rows in this table should give the total number of singers.\n",
      "\n",
      "Wait, are there any other tables that might have singer information? Let me check. The other tables are concert, stadium, and singer_in_concert. The 'singer_in_concert' table links singers to concerts, but that's just a relationship table. The actual singer data is in the 'singer' table. So the answer should come from the 'singer' table.\n",
      "\n",
      "So the correct approach is to count all the rows in the 'singer' table. The SQL query for that would be SELECT COUNT(*) FROM singer. That should return the total number of singers. I don't need to join any other tables because the question is straightforward. There's no mention of filtering by any criteria like country or concert participation. So the query is simple.\n",
      "\n",
      "Final answer based om reasoning for this model:\n",
      "\n",
      "\n",
      "```\n",
      "SELECT COUNT(*) FROM singer;\n",
      "```\n",
      "\n",
      "model 1 analysis:\n",
      " Reasoning process:\n",
      "\n",
      "Okay, let's see. The user is asking how many singers we have. So I need to find the total number of singers in the database.\n",
      "\n",
      "Looking at the tables provided, there's a 'singer' table. The schema for that table includes columns like Singer_ID, Name, Country, etc. The Singer_ID is the primary key, which means each singer has a unique identifier. \n",
      "\n",
      "Since the question is about counting the number of singers, the most straightforward approach is to count the rows in the singer table. Each row represents a singer. So the SQL query should select the count of all rows from the singer table.\n",
      "\n",
      "I need to make sure I'm using the correct table name and column. The singer table has Singer_ID as the primary key, but the question doesn't require any specific column. The COUNT(*) function will count all records, which is exactly what the user wants.\n",
      "\n",
      "Wait, maybe I should check if there are any other tables that might have singer information. The other tables are concert, stadium, and singer_in_concert. But those tables are related to concerts and stadiums, not singers themselves. The singer_in_concert table links singers to concerts, but that's a many-to-many relationship. However, the actual singer data is in the singer table. So the count should come from the singer table.\n",
      "\n",
      "Therefore, the correct SQL query is SELECT COUNT(*) FROM singer;. That should give the total number of singers. I don't need to join any other tables because the question is simply about the number of singers, not their participation in concerts or other details.\n",
      "\n",
      "Final answer based om reasoning for this model:\n",
      "\n",
      "\n",
      "```\n",
      "SELECT COUNT(*) FROM singer;\n",
      "```\n",
      "\n",
      "model 2 analysis:\n",
      " Reasoning process:\n",
      "\n",
      "Okay, let's see. The user is asking how many singers there are in total. So I need to find the count of singers from the singer table.\n",
      "\n",
      "First, I should check the tables available. The singer table has columns like Singer_ID, Name, Country, etc. The primary key is Singer_ID, which means each singer has a unique ID. To get the total number of singers, I should count the number of rows in the singer table.\n",
      "\n",
      "The correct approach is to use the COUNT() function on the Singer_ID column. Since Singer_ID is the primary key, it's guaranteed to be unique and non-null. So, selecting COUNT(Singer_ID) from the singer table should give the exact number of singers.\n",
      "\n",
      "I don't need to join any other tables because the question is purely about the singer table. There's no mention of concerts or stadiums here. So the SQL query should be straightforward: SELECT COUNT(Singer_ID) FROM singer. That's all. No need for additional conditions or joins. Just count the rows in the singer table.\n",
      "\n",
      "Final answer based om reasoning for this model:\n",
      "\n",
      "\n",
      "```\n",
      "SELECT COUNT(Singer_ID) FROM singer;\n",
      "```\n",
      "\n",
      "model 3 analysis:\n",
      " Reasoning process:\n",
      "\n",
      "Okay, let's see. The user is asking how many singers we have. So, the main task is to count the number of singers in the database.\n",
      "\n",
      "First, I need to check which tables are relevant here. The tables provided are concert, singer, singer_in_concert, and stadium. The question is about singers, so the singer table is the primary one here. \n",
      "\n",
      "Looking at the singer table's structure, it has columns like Singer_ID, Name, Country, etc. The Singer_ID is the primary key, which means each row in the singer table represents a unique singer. So, to find the total number of singers, I should count the number of rows in the singer table.\n",
      "\n",
      "Wait, but maybe there's a possibility of duplicates or some other factors? The problem statement doesn't mention any such issues. The primary key ensures that each singer is uniquely identified by Singer_ID, so each row is a distinct singer. Therefore, counting all rows in the singer table should give the correct number.\n",
      "\n",
      "The user wants the SQL query to return the count. The correct approach is to use the COUNT function on the Singer_ID column. Since Singer_ID is the primary key, it's guaranteed to be non-null and unique. So, SELECT COUNT(*) FROM singer would work. Alternatively, using COUNT(Singer_ID) would also work, but COUNT(*) is more straightforward here.\n",
      "\n",
      "I should make sure there are no other tables that might have singer information. The singer_in_concert table links singers to concerts, but that's just a many-to-many relationship. The actual singer data is in the singer table. So, the answer is simply counting the rows in the singer table.\n",
      "\n",
      "So the SQL query would be SELECT COUNT(*) FROM singer;. That's it. There's no need to join with other tables because the question is about the total number of singers, not related to concerts or stadiums.\n",
      "\n",
      "Final answer based om reasoning for this model:\n",
      "\n",
      "\n",
      "```\n",
      "SELECT COUNT(*) FROM singer;\n",
      "```\n",
      "\n",
      "model 4 analysis:\n",
      " Reasoning process:\n",
      "\n",
      "Okay, I need to find out how many singers there are in the database. Let's look at the tables provided. The singer table has a Singer_ID as the primary key, which means each row in that table represents a unique singer. So the simplest way is to count the number of rows in the singer table.\n",
      "\n",
      "Wait, are there any other tables that might have singer information? The concert and stadium tables don't seem related to singers directly. The singer_in_concert table links singers to concerts, but that's just a relationship table. The actual singer data is in the singer table. \n",
      "\n",
      "So the correct approach is to select the count of all rows in the singer table. The question asks for the number of singers, which is the number of entries in the singer table. I should use the COUNT(*) function on the singer table. \n",
      "\n",
      "I need to make sure I'm not including any other tables. The answer should be a simple SELECT COUNT(*) FROM singer;. That should give the total number of singers. Let me double-check the schema. Yes, the singer table has Singer_ID as the primary key, so each row is a unique singer. No other tables have singer data. So the query is straightforward.\n",
      "\n",
      "Final answer based om reasoning for this model:\n",
      "\n",
      "\n",
      "```\n",
      "SELECT COUNT(*) FROM singer;\n",
      "```\n",
      "\n",
      "\n",
      "here is avaliable tables and their structure below\n",
      "【DB_ID】 concert_singer\n",
      "【Schema】\n",
      "# Table: concert\n",
      "[\n",
      "(concert_ID:INTEGER, Primary Key, Examples: [1, 2, 3]),\n",
      "(concert_Name:TEXT, Examples: [Auditions, Super bootcamp, Home Visits]),\n",
      "(Theme:TEXT, Examples: [Free choice, Free choice 2, Bleeding Love]),\n",
      "(Stadium_ID:TEXT, maps to stadium.Stadium_ID, Examples: [1, 2, 10]),\n",
      "(Year:TEXT, Examples: [2014, 2015, 2016])\n",
      "]\n",
      "# Table: singer\n",
      "[\n",
      "(Singer_ID:INTEGER, Primary Key, Examples: [1, 2, 3]),\n",
      "(Name:TEXT, Examples: [Joe Sharp, Timbaland, Justin Brown]),\n",
      "(Country:TEXT, Examples: [Netherlands, United States, France]),\n",
      "(Song_Name:TEXT, Examples: [You, Dangerous, Hey Oh]),\n",
      "(Song_release_year:TEXT, Examples: [1992, 2008, 2013]),\n",
      "(Age:INTEGER, Examples: [52, 32, 29]),\n",
      "(Is_male:BOOLEAN, Examples: [False, True])\n",
      "]\n",
      "# Table: singer_in_concert\n",
      "[\n",
      "(concert_ID:INTEGER, maps to concert.concert_ID, Primary Key, Examples: [1, 2, 3]),\n",
      "(Singer_ID:TEXT, maps to singer.Singer_ID, Primary Key, Examples: [2, 3, 5])\n",
      "]\n",
      "# Table: stadium\n",
      "[\n",
      "(Stadium_ID:INTEGER, Primary Key, Examples: [1, 2, 3]),\n",
      "(Location:TEXT, Examples: [Raith Rovers, Ayr United, East Fife]),\n",
      "(Name:TEXT, Examples: [Stark's Park, Somerset Park, Bayview Stadium]),\n",
      "(Capacity:INTEGER, Examples: [10104, 11998, 2000]),\n",
      "(Highest:INTEGER, Examples: [4812, 2363, 1980]),\n",
      "(Lowest:INTEGER, Examples: [1294, 1057, 533]),\n",
      "(Average:INTEGER, Examples: [2106, 1477, 864])\n",
      "]\n",
      "【Foreign keys】\n",
      "concert.Stadium_ID=stadium.Stadium_ID\n",
      "singer_in_concert.concert_ID=concert.concert_ID\n",
      "singer_in_concert.Singer_ID=singer.Singer_ID\n",
      "\n",
      "-- Using valid SQLite, answer the following questions for the tables provided above.\n",
      "-- How many singers do we have?\n",
      "\n",
      "\n",
      "\n",
      "Generate the SQLite for the above question after thinking step by step: \n",
      "\n",
      "\n",
      "Instructions:\n",
      "- Make sure you only output the information that is asked in the question. If the question asks for a specific column, make sure to only include that column in the SELECT clause, nothing more.\n",
      "- The generated query should return all of the information asked in the question without any missing or extra information.\n",
      "- Before generating the final SQL query, please think through the steps of how to write the query.\n",
      "- Do not misuse column names, keep them in quotes `\n",
      "- Carefully understand what colomns belond to what tables\n",
      "- Use only initial column names, change names prohibited\n",
      "        \n",
      "Output Format:\n",
      "In your answer, please enclose the generated SQL query in a code block:\n",
      "```\n",
      "-- Your SQL query\n",
      "```    \n",
      "and nothing else, no exaplains, no comments (asnwer should be less than 512 characters)\n",
      "\n",
      "Take a deep breath and think step by step to find the correct SQL query in SQLite format.\n",
      "\n",
      "Question repetition: How many singers do we have?\n",
      "\n",
      "Be care! Include only what i want it questiona and nothing else<|im_end|>\n",
      "<|im_start|>assistant\n",
      "<think>\n",
      "\n",
      "</think>\n",
      "\n",
      "\n",
      "\n",
      "\n",
      "Максимальное количество токенов в промптах: 22351\n",
      "\n",
      "начинаем скорринг\n",
      "Загружаем чаты с данными...\n",
      "Данные успешно загружены\n",
      "Начали генерацию SQL запросов\n"
     ]
    },
    {
     "name": "stderr",
     "output_type": "stream",
     "text": [
      "Processed prompts: 100%|██████████| 1076/1076 [01:58<00:00,  9.12it/s, est. speed input: 42674.11 toks/s, output: 276.12 toks/s]"
     ]
    },
    {
     "name": "stdout",
     "output_type": "stream",
     "text": [
      "extract_think количество ошибок:  0\n",
      "extract_sql количество ошибок:  0\n",
      "Закончили генерацию SQL запросов\n",
      "Начали скорр полученных SQL запросов\n"
     ]
    },
    {
     "name": "stderr",
     "output_type": "stream",
     "text": [
      "\n"
     ]
    },
    {
     "name": "stdout",
     "output_type": "stream",
     "text": [
      "Qwen3-8B DEV Финальный результат EX: 73.70\n",
      "Qwen3-8B процент запросов, которые успешно выполнились DEV: 98.70%\n",
      "====================================================================================================\n",
      "\n",
      "\n",
      "Загружаем чаты с данными...\n",
      "Данные успешно загружены\n",
      "Начали генерацию SQL запросов\n"
     ]
    },
    {
     "name": "stderr",
     "output_type": "stream",
     "text": [
      "Processed prompts: 100%|██████████| 1076/1076 [01:59<00:00,  9.01it/s, est. speed input: 42401.50 toks/s, output: 270.94 toks/s]"
     ]
    },
    {
     "name": "stdout",
     "output_type": "stream",
     "text": [
      "extract_think количество ошибок:  0\n",
      "extract_sql количество ошибок:  0\n",
      "Закончили генерацию SQL запросов\n",
      "Начали скорр полученных SQL запросов\n"
     ]
    },
    {
     "name": "stderr",
     "output_type": "stream",
     "text": [
      "\n"
     ]
    },
    {
     "name": "stdout",
     "output_type": "stream",
     "text": [
      "Qwen3-8B DEV Финальный результат EX: 73.79\n",
      "Qwen3-8B процент запросов, которые успешно выполнились DEV: 98.61%\n",
      "====================================================================================================\n",
      "\n",
      "\n",
      "Загружаем чаты с данными...\n",
      "Данные успешно загружены\n",
      "Начали генерацию SQL запросов\n"
     ]
    },
    {
     "name": "stderr",
     "output_type": "stream",
     "text": [
      "Processed prompts: 100%|██████████| 1076/1076 [01:59<00:00,  9.03it/s, est. speed input: 42365.39 toks/s, output: 271.48 toks/s]"
     ]
    },
    {
     "name": "stdout",
     "output_type": "stream",
     "text": [
      "extract_think количество ошибок:  0\n",
      "extract_sql количество ошибок:  0\n",
      "Закончили генерацию SQL запросов\n",
      "Начали скорр полученных SQL запросов\n"
     ]
    },
    {
     "name": "stderr",
     "output_type": "stream",
     "text": [
      "\n"
     ]
    },
    {
     "name": "stdout",
     "output_type": "stream",
     "text": [
      "Qwen3-8B DEV Финальный результат EX: 73.70\n",
      "Qwen3-8B процент запросов, которые успешно выполнились DEV: 98.98%\n",
      "====================================================================================================\n",
      "\n",
      "\n",
      "Загружаем чаты с данными...\n",
      "Данные успешно загружены\n",
      "Начали генерацию SQL запросов\n"
     ]
    },
    {
     "name": "stderr",
     "output_type": "stream",
     "text": [
      "Processed prompts: 100%|██████████| 1076/1076 [01:59<00:00,  9.02it/s, est. speed input: 42533.18 toks/s, output: 271.32 toks/s]"
     ]
    },
    {
     "name": "stdout",
     "output_type": "stream",
     "text": [
      "extract_think количество ошибок:  0\n",
      "extract_sql количество ошибок:  0\n",
      "Закончили генерацию SQL запросов\n",
      "Начали скорр полученных SQL запросов\n"
     ]
    },
    {
     "name": "stderr",
     "output_type": "stream",
     "text": [
      "\n"
     ]
    },
    {
     "name": "stdout",
     "output_type": "stream",
     "text": [
      "Qwen3-8B DEV Финальный результат EX: 73.05\n",
      "Qwen3-8B процент запросов, которые успешно выполнились DEV: 98.70%\n",
      "====================================================================================================\n",
      "\n",
      "\n",
      "Загружаем чаты с данными...\n",
      "Данные успешно загружены\n",
      "Начали генерацию SQL запросов\n"
     ]
    },
    {
     "name": "stderr",
     "output_type": "stream",
     "text": [
      "Processed prompts: 100%|██████████| 1076/1076 [01:58<00:00,  9.09it/s, est. speed input: 42496.80 toks/s, output: 273.38 toks/s] \n"
     ]
    },
    {
     "name": "stdout",
     "output_type": "stream",
     "text": [
      "extract_think количество ошибок:  0\n",
      "extract_sql количество ошибок:  0\n",
      "Закончили генерацию SQL запросов\n",
      "Начали скорр полученных SQL запросов\n",
      "Qwen3-8B DEV Финальный результат EX: 73.33\n",
      "Qwen3-8B процент запросов, которые успешно выполнились DEV: 98.42%\n",
      "====================================================================================================\n",
      "\n",
      "\n",
      "Загружаем чаты с данными...\n",
      "Данные успешно загружены\n",
      "Начали генерацию SQL запросов\n"
     ]
    },
    {
     "name": "stderr",
     "output_type": "stream",
     "text": [
      "Processed prompts: 100%|██████████| 1076/1076 [01:58<00:00,  9.08it/s, est. speed input: 42540.76 toks/s, output: 273.84 toks/s] "
     ]
    },
    {
     "name": "stdout",
     "output_type": "stream",
     "text": [
      "extract_think количество ошибок:  0\n",
      "extract_sql количество ошибок:  0\n",
      "Закончили генерацию SQL запросов\n",
      "Начали скорр полученных SQL запросов\n"
     ]
    },
    {
     "name": "stderr",
     "output_type": "stream",
     "text": [
      "\n"
     ]
    },
    {
     "name": "stdout",
     "output_type": "stream",
     "text": [
      "Qwen3-8B DEV Финальный результат EX: 73.61\n",
      "Qwen3-8B процент запросов, которые успешно выполнились DEV: 98.88%\n",
      "====================================================================================================\n",
      "\n",
      "\n",
      "Загружаем чаты с данными...\n",
      "Данные успешно загружены\n",
      "Начали генерацию SQL запросов\n"
     ]
    },
    {
     "name": "stderr",
     "output_type": "stream",
     "text": [
      "Processed prompts: 100%|██████████| 1076/1076 [02:01<00:00,  8.84it/s, est. speed input: 42370.89 toks/s, output: 265.54 toks/s]"
     ]
    },
    {
     "name": "stdout",
     "output_type": "stream",
     "text": [
      "extract_think количество ошибок:  0\n",
      "extract_sql количество ошибок:  0\n",
      "Закончили генерацию SQL запросов\n",
      "Начали скорр полученных SQL запросов\n"
     ]
    },
    {
     "name": "stderr",
     "output_type": "stream",
     "text": [
      "\n"
     ]
    },
    {
     "name": "stdout",
     "output_type": "stream",
     "text": [
      "Qwen3-8B DEV Финальный результат EX: 74.35\n",
      "Qwen3-8B процент запросов, которые успешно выполнились DEV: 98.61%\n",
      "====================================================================================================\n",
      "\n",
      "\n",
      "Загружаем чаты с данными...\n",
      "Данные успешно загружены\n",
      "Начали генерацию SQL запросов\n"
     ]
    },
    {
     "name": "stderr",
     "output_type": "stream",
     "text": [
      "Processed prompts: 100%|██████████| 1076/1076 [02:02<00:00,  8.78it/s, est. speed input: 42350.36 toks/s, output: 265.95 toks/s]"
     ]
    },
    {
     "name": "stdout",
     "output_type": "stream",
     "text": [
      "extract_think количество ошибок:  0\n",
      "extract_sql количество ошибок:  0\n",
      "Закончили генерацию SQL запросов\n",
      "Начали скорр полученных SQL запросов\n"
     ]
    },
    {
     "name": "stderr",
     "output_type": "stream",
     "text": [
      "\n"
     ]
    },
    {
     "name": "stdout",
     "output_type": "stream",
     "text": [
      "Qwen3-8B DEV Финальный результат EX: 73.98\n",
      "Qwen3-8B процент запросов, которые успешно выполнились DEV: 98.88%\n",
      "====================================================================================================\n",
      "\n",
      "\n",
      "Загружаем чаты с данными...\n",
      "Данные успешно загружены\n",
      "Начали генерацию SQL запросов\n"
     ]
    },
    {
     "name": "stderr",
     "output_type": "stream",
     "text": [
      "Processed prompts: 100%|██████████| 1076/1076 [02:00<00:00,  8.90it/s, est. speed input: 42469.85 toks/s, output: 268.95 toks/s]"
     ]
    },
    {
     "name": "stdout",
     "output_type": "stream",
     "text": [
      "extract_think количество ошибок:  0\n",
      "extract_sql количество ошибок:  0\n",
      "Закончили генерацию SQL запросов\n",
      "Начали скорр полученных SQL запросов\n"
     ]
    },
    {
     "name": "stderr",
     "output_type": "stream",
     "text": [
      "\n"
     ]
    },
    {
     "name": "stdout",
     "output_type": "stream",
     "text": [
      "Qwen3-8B DEV Финальный результат EX: 74.07\n",
      "Qwen3-8B процент запросов, которые успешно выполнились DEV: 99.16%\n",
      "====================================================================================================\n",
      "\n",
      "\n",
      "Загружаем чаты с данными...\n",
      "Данные успешно загружены\n",
      "Начали генерацию SQL запросов\n"
     ]
    },
    {
     "name": "stderr",
     "output_type": "stream",
     "text": [
      "Processed prompts: 100%|██████████| 1076/1076 [02:00<00:00,  8.93it/s, est. speed input: 42352.04 toks/s, output: 271.36 toks/s]"
     ]
    },
    {
     "name": "stdout",
     "output_type": "stream",
     "text": [
      "extract_think количество ошибок:  0\n",
      "extract_sql количество ошибок:  0\n",
      "Закончили генерацию SQL запросов\n",
      "Начали скорр полученных SQL запросов\n"
     ]
    },
    {
     "name": "stderr",
     "output_type": "stream",
     "text": [
      "\n"
     ]
    },
    {
     "name": "stdout",
     "output_type": "stream",
     "text": [
      "Qwen3-8B DEV Финальный результат EX: 73.79\n",
      "Qwen3-8B процент запросов, которые успешно выполнились DEV: 99.16%\n",
      "====================================================================================================\n",
      "\n",
      "\n",
      "Загружаем чаты с данными...\n",
      "Данные успешно загружены\n",
      "Начали генерацию SQL запросов\n"
     ]
    },
    {
     "name": "stderr",
     "output_type": "stream",
     "text": [
      "Processed prompts: 100%|██████████| 1076/1076 [02:00<00:00,  8.92it/s, est. speed input: 42566.22 toks/s, output: 266.91 toks/s] "
     ]
    },
    {
     "name": "stdout",
     "output_type": "stream",
     "text": [
      "extract_think количество ошибок:  0\n",
      "extract_sql количество ошибок:  0\n",
      "Закончили генерацию SQL запросов\n",
      "Начали скорр полученных SQL запросов\n"
     ]
    },
    {
     "name": "stderr",
     "output_type": "stream",
     "text": [
      "\n"
     ]
    },
    {
     "name": "stdout",
     "output_type": "stream",
     "text": [
      "Qwen3-8B DEV Финальный результат EX: 74.91\n",
      "Qwen3-8B процент запросов, которые успешно выполнились DEV: 98.79%\n",
      "====================================================================================================\n",
      "\n",
      "\n",
      "Загружаем чаты с данными...\n",
      "Данные успешно загружены\n",
      "Начали генерацию SQL запросов\n"
     ]
    },
    {
     "name": "stderr",
     "output_type": "stream",
     "text": [
      "Processed prompts: 100%|██████████| 1076/1076 [01:59<00:00,  9.02it/s, est. speed input: 42474.01 toks/s, output: 272.05 toks/s]"
     ]
    },
    {
     "name": "stdout",
     "output_type": "stream",
     "text": [
      "extract_think количество ошибок:  0\n",
      "extract_sql количество ошибок:  0\n",
      "Закончили генерацию SQL запросов\n",
      "Начали скорр полученных SQL запросов\n"
     ]
    },
    {
     "name": "stderr",
     "output_type": "stream",
     "text": [
      "\n"
     ]
    },
    {
     "name": "stdout",
     "output_type": "stream",
     "text": [
      "Qwen3-8B DEV Финальный результат EX: 73.51\n",
      "Qwen3-8B процент запросов, которые успешно выполнились DEV: 99.07%\n",
      "====================================================================================================\n",
      "\n",
      "\n",
      "Загружаем чаты с данными...\n",
      "Данные успешно загружены\n",
      "Начали генерацию SQL запросов\n"
     ]
    },
    {
     "name": "stderr",
     "output_type": "stream",
     "text": [
      "Processed prompts: 100%|██████████| 1076/1076 [01:58<00:00,  9.09it/s, est. speed input: 42552.09 toks/s, output: 274.72 toks/s]"
     ]
    },
    {
     "name": "stdout",
     "output_type": "stream",
     "text": [
      "extract_think количество ошибок:  0\n",
      "extract_sql количество ошибок:  0\n",
      "Закончили генерацию SQL запросов\n",
      "Начали скорр полученных SQL запросов\n"
     ]
    },
    {
     "name": "stderr",
     "output_type": "stream",
     "text": [
      "\n"
     ]
    },
    {
     "name": "stdout",
     "output_type": "stream",
     "text": [
      "Qwen3-8B DEV Финальный результат EX: 74.16\n",
      "Qwen3-8B процент запросов, которые успешно выполнились DEV: 98.70%\n",
      "====================================================================================================\n",
      "\n",
      "\n",
      "Загружаем чаты с данными...\n",
      "Данные успешно загружены\n",
      "Начали генерацию SQL запросов\n"
     ]
    },
    {
     "name": "stderr",
     "output_type": "stream",
     "text": [
      "Processed prompts: 100%|██████████| 1076/1076 [01:58<00:00,  9.06it/s, est. speed input: 42493.41 toks/s, output: 272.21 toks/s]"
     ]
    },
    {
     "name": "stdout",
     "output_type": "stream",
     "text": [
      "extract_think количество ошибок:  0\n",
      "extract_sql количество ошибок:  0\n",
      "Закончили генерацию SQL запросов\n",
      "Начали скорр полученных SQL запросов\n"
     ]
    },
    {
     "name": "stderr",
     "output_type": "stream",
     "text": [
      "\n"
     ]
    },
    {
     "name": "stdout",
     "output_type": "stream",
     "text": [
      "Qwen3-8B DEV Финальный результат EX: 73.42\n",
      "Qwen3-8B процент запросов, которые успешно выполнились DEV: 98.79%\n",
      "====================================================================================================\n",
      "\n",
      "\n",
      "Загружаем чаты с данными...\n",
      "Данные успешно загружены\n",
      "Начали генерацию SQL запросов\n"
     ]
    },
    {
     "name": "stderr",
     "output_type": "stream",
     "text": [
      "Processed prompts: 100%|██████████| 1076/1076 [01:59<00:00,  8.97it/s, est. speed input: 42524.64 toks/s, output: 270.06 toks/s]"
     ]
    },
    {
     "name": "stdout",
     "output_type": "stream",
     "text": [
      "extract_think количество ошибок:  0\n",
      "extract_sql количество ошибок:  0\n",
      "Закончили генерацию SQL запросов\n",
      "Начали скорр полученных SQL запросов\n"
     ]
    },
    {
     "name": "stderr",
     "output_type": "stream",
     "text": [
      "\n"
     ]
    },
    {
     "name": "stdout",
     "output_type": "stream",
     "text": [
      "Qwen3-8B DEV Финальный результат EX: 74.16\n",
      "Qwen3-8B процент запросов, которые успешно выполнились DEV: 98.51%\n",
      "====================================================================================================\n",
      "\n",
      "\n",
      "Загружаем чаты с данными...\n",
      "Данные успешно загружены\n",
      "Начали генерацию SQL запросов\n"
     ]
    },
    {
     "name": "stderr",
     "output_type": "stream",
     "text": [
      "Processed prompts: 100%|██████████| 1076/1076 [02:00<00:00,  8.90it/s, est. speed input: 42219.96 toks/s, output: 268.52 toks/s]"
     ]
    },
    {
     "name": "stdout",
     "output_type": "stream",
     "text": [
      "extract_think количество ошибок:  0\n",
      "extract_sql количество ошибок:  0\n",
      "Закончили генерацию SQL запросов\n",
      "Начали скорр полученных SQL запросов\n"
     ]
    },
    {
     "name": "stderr",
     "output_type": "stream",
     "text": [
      "\n"
     ]
    },
    {
     "name": "stdout",
     "output_type": "stream",
     "text": [
      "Qwen3-8B DEV Финальный результат EX: 73.51\n",
      "Qwen3-8B процент запросов, которые успешно выполнились DEV: 98.98%\n",
      "====================================================================================================\n",
      "\n",
      "\n",
      "Загружаем чаты с данными...\n",
      "Данные успешно загружены\n",
      "Начали генерацию SQL запросов\n"
     ]
    },
    {
     "name": "stderr",
     "output_type": "stream",
     "text": [
      "Processed prompts: 100%|██████████| 1076/1076 [01:58<00:00,  9.08it/s, est. speed input: 42444.04 toks/s, output: 274.76 toks/s]"
     ]
    },
    {
     "name": "stdout",
     "output_type": "stream",
     "text": [
      "extract_think количество ошибок:  0\n",
      "extract_sql количество ошибок:  0\n",
      "Закончили генерацию SQL запросов\n",
      "Начали скорр полученных SQL запросов\n"
     ]
    },
    {
     "name": "stderr",
     "output_type": "stream",
     "text": [
      "\n"
     ]
    },
    {
     "name": "stdout",
     "output_type": "stream",
     "text": [
      "Qwen3-8B DEV Финальный результат EX: 73.98\n",
      "Qwen3-8B процент запросов, которые успешно выполнились DEV: 98.88%\n",
      "====================================================================================================\n",
      "\n",
      "\n",
      "Загружаем чаты с данными...\n",
      "Данные успешно загружены\n",
      "Начали генерацию SQL запросов\n"
     ]
    },
    {
     "name": "stderr",
     "output_type": "stream",
     "text": [
      "Processed prompts: 100%|██████████| 1076/1076 [01:58<00:00,  9.08it/s, est. speed input: 42559.49 toks/s, output: 273.84 toks/s] "
     ]
    },
    {
     "name": "stdout",
     "output_type": "stream",
     "text": [
      "extract_think количество ошибок:  0\n",
      "extract_sql количество ошибок:  0\n",
      "Закончили генерацию SQL запросов\n",
      "Начали скорр полученных SQL запросов\n"
     ]
    },
    {
     "name": "stderr",
     "output_type": "stream",
     "text": [
      "\n"
     ]
    },
    {
     "name": "stdout",
     "output_type": "stream",
     "text": [
      "Qwen3-8B DEV Финальный результат EX: 74.07\n",
      "Qwen3-8B процент запросов, которые успешно выполнились DEV: 98.79%\n",
      "====================================================================================================\n",
      "\n",
      "\n",
      "Загружаем чаты с данными...\n",
      "Данные успешно загружены\n",
      "Начали генерацию SQL запросов\n"
     ]
    },
    {
     "name": "stderr",
     "output_type": "stream",
     "text": [
      "Processed prompts: 100%|██████████| 1076/1076 [01:59<00:00,  9.02it/s, est. speed input: 42422.01 toks/s, output: 271.58 toks/s]"
     ]
    },
    {
     "name": "stdout",
     "output_type": "stream",
     "text": [
      "extract_think количество ошибок:  0\n",
      "extract_sql количество ошибок:  0\n",
      "Закончили генерацию SQL запросов\n",
      "Начали скорр полученных SQL запросов\n"
     ]
    },
    {
     "name": "stderr",
     "output_type": "stream",
     "text": [
      "\n"
     ]
    },
    {
     "name": "stdout",
     "output_type": "stream",
     "text": [
      "Qwen3-8B DEV Финальный результат EX: 73.98\n",
      "Qwen3-8B процент запросов, которые успешно выполнились DEV: 98.98%\n",
      "====================================================================================================\n",
      "\n",
      "\n",
      "Загружаем чаты с данными...\n",
      "Данные успешно загружены\n",
      "Начали генерацию SQL запросов\n"
     ]
    },
    {
     "name": "stderr",
     "output_type": "stream",
     "text": [
      "Processed prompts: 100%|██████████| 1076/1076 [01:59<00:00,  8.98it/s, est. speed input: 42406.34 toks/s, output: 270.53 toks/s] "
     ]
    },
    {
     "name": "stdout",
     "output_type": "stream",
     "text": [
      "extract_think количество ошибок:  0\n",
      "extract_sql количество ошибок:  0\n",
      "Закончили генерацию SQL запросов\n",
      "Начали скорр полученных SQL запросов\n"
     ]
    },
    {
     "name": "stderr",
     "output_type": "stream",
     "text": [
      "\n"
     ]
    },
    {
     "name": "stdout",
     "output_type": "stream",
     "text": [
      "Qwen3-8B DEV Финальный результат EX: 73.33\n",
      "Qwen3-8B процент запросов, которые успешно выполнились DEV: 99.07%\n",
      "====================================================================================================\n",
      "\n",
      "\n"
     ]
    }
   ],
   "source": [
    "run_cot_experiment(model,arr_seeds,arr_versions, type_cot,num_observations=num_observations)"
   ]
  },
  {
   "cell_type": "markdown",
   "id": "87878e5f-093d-453a-9788-03dc8dd66798",
   "metadata": {},
   "source": [
    "# part2: answer"
   ]
  },
  {
   "cell_type": "code",
   "execution_count": 11,
   "id": "bceafaae-0c5b-4fb9-a4f9-91e86a81a4fc",
   "metadata": {},
   "outputs": [
    {
     "name": "stdout",
     "output_type": "stream",
     "text": [
      "[820, 535, 163, 141, 811, 916, 806, 792, 127, 559, 970, 785, 625, 587, 925, 852, 449, 492, 289, 423]\n",
      "model: Qwen3-8B\n"
     ]
    }
   ],
   "source": [
    "n= 20\n",
    "arr_seeds = [random.randint(0,1000) for _ in range(n)]\n",
    "arr_versions = [x for x in range(n)]\n",
    "model = \"Qwen3-8B\"\n",
    "num_observations = 2\n",
    "type_cot = 'predict'\n",
    "print(arr_seeds)\n",
    "print(f\"model: {model}\")"
   ]
  },
  {
   "cell_type": "code",
   "execution_count": 12,
   "id": "612ac94a-93c5-4681-978d-f7322871fb25",
   "metadata": {
    "scrolled": true
   },
   "outputs": [
    {
     "name": "stdout",
     "output_type": "stream",
     "text": [
      "Загружаем модель...\n"
     ]
    },
    {
     "name": "stderr",
     "output_type": "stream",
     "text": [
      "Loading safetensors checkpoint shards:   0% Completed | 0/4 [00:00<?, ?it/s]\n",
      "Loading safetensors checkpoint shards:  25% Completed | 1/4 [00:00<00:00,  8.72it/s]\n",
      "Loading safetensors checkpoint shards:  50% Completed | 2/4 [00:00<00:00,  2.53it/s]\n",
      "Loading safetensors checkpoint shards:  75% Completed | 3/4 [00:01<00:00,  1.79it/s]\n",
      "Loading safetensors checkpoint shards: 100% Completed | 4/4 [00:02<00:00,  1.58it/s]\n",
      "Loading safetensors checkpoint shards: 100% Completed | 4/4 [00:02<00:00,  1.81it/s]\n",
      "\u001b[1;36m(VllmWorker rank=0 pid=1149712)\u001b[0;0m \n"
     ]
    },
    {
     "name": "stdout",
     "output_type": "stream",
     "text": [
      "Модель успешно загружена\n",
      "model_config {'model': '/data/home/vkropoti/models/Qwen3-8B', 'tensor_parallel_size': 2, 'max_model_len': 40000, 'max_new_tokens': 1500, 'temperature': 0, 'top_k': 1, 'top_p': 0.8, 'gpu_memory_utilization': 0.9, 'trust_remote_code': False, 'seed': 820}\n",
      "\n",
      "prompts_config {'path_dev_json': '/data/home/vkropoti/sql_data/dev_spider.json', 'path_sql_dbs': '/data/home/vkropoti/sql_data/data_bases_spider/', 'use_reasoning': False, 'paths_to_cot': ['/data/home/vkropoti/sql_llm_answers/spider_dev_m_schema/sql_predict_Qwen3-8B-reasoning-v0', '/data/home/vkropoti/sql_llm_answers/spider_dev_m_schema/sql_predict_Qwen3-8B-reasoning-v1']}\n",
      "\n",
      "save_config {'path_sql_save': '/data/home/vkropoti/sql_llm_answers/spider_dev_m_schema/sql_all_Qwen3-8B-cot_predict_think==False_nobs2-v0', 'path_think_save': None, 'path_sql_answers_save': '/data/home/vkropoti/sql_llm_answers/spider_dev_m_schema/sql_predict_Qwen3-8B-cot_predict_think==False_nobs2-v0', 'path_to_save_scores': '/data/home/vkropoti/sql_llm_answers/spider_dev_m_schema/sql_results_Qwen3-8B-cot_predict_think==False_nobs2-v0', 'path_to_save_executed': '/data/home/vkropoti/sql_llm_answers/spider_dev_m_schema/sql_executed_Qwen3-8B-cot_predict_think==False_nobs2-v0'}\n",
      "\n",
      "Модель успешно загружена\n",
      "Пример промпта\n",
      "<|im_start|>system\n",
      "\n",
      "You are a data science expert. Below, you are provided with a database schema and a natural language question. Your task is to understand the schema and generate a valid SQL query to answer the question.\n",
      "\n",
      "Database Engine: SQLite\n",
      "\n",
      "You will be given an additional analysis of other models, please take it into account, so the plan is\n",
      "1. Analyse given addition analysis from other models (find in which analysis the same and differ, how to use that to answer question)\n",
      "2. Combine best from previous part and think how to solve the problem (analyze tables, take care what columns avaliable in each table and so on, check the syntacsis)\n",
      "3. Create the answers. The answer should be only sql query.\n",
      "\n",
      "Carefully follow the instruction and add <|im_end|> and the end of the final answer<|im_end|>\n",
      "<|im_start|>user\n",
      "Here is addition analysis from other models which can be helpfull, please take this into account but be careful (choose the best from each analysis, combine them to make the most proper answer):\n",
      "\n",
      "model 0 analysis:\n",
      " SELECT COUNT(*) FROM singer;\n",
      "\n",
      "model 1 analysis:\n",
      " SELECT COUNT(*) FROM singer;\n",
      "\n",
      "\n",
      "here is avaliable tables and their structure below\n",
      "【DB_ID】 concert_singer\n",
      "【Schema】\n",
      "# Table: concert\n",
      "[\n",
      "(concert_ID:INTEGER, Primary Key, Examples: [1, 2, 3]),\n",
      "(concert_Name:TEXT, Examples: [Auditions, Super bootcamp, Home Visits]),\n",
      "(Theme:TEXT, Examples: [Free choice, Free choice 2, Bleeding Love]),\n",
      "(Stadium_ID:TEXT, maps to stadium.Stadium_ID, Examples: [1, 2, 10]),\n",
      "(Year:TEXT, Examples: [2014, 2015, 2016])\n",
      "]\n",
      "# Table: singer\n",
      "[\n",
      "(Singer_ID:INTEGER, Primary Key, Examples: [1, 2, 3]),\n",
      "(Name:TEXT, Examples: [Joe Sharp, Timbaland, Justin Brown]),\n",
      "(Country:TEXT, Examples: [Netherlands, United States, France]),\n",
      "(Song_Name:TEXT, Examples: [You, Dangerous, Hey Oh]),\n",
      "(Song_release_year:TEXT, Examples: [1992, 2008, 2013]),\n",
      "(Age:INTEGER, Examples: [52, 32, 29]),\n",
      "(Is_male:BOOLEAN, Examples: [False, True])\n",
      "]\n",
      "# Table: singer_in_concert\n",
      "[\n",
      "(concert_ID:INTEGER, maps to concert.concert_ID, Primary Key, Examples: [1, 2, 3]),\n",
      "(Singer_ID:TEXT, maps to singer.Singer_ID, Primary Key, Examples: [2, 3, 5])\n",
      "]\n",
      "# Table: stadium\n",
      "[\n",
      "(Stadium_ID:INTEGER, Primary Key, Examples: [1, 2, 3]),\n",
      "(Location:TEXT, Examples: [Raith Rovers, Ayr United, East Fife]),\n",
      "(Name:TEXT, Examples: [Stark's Park, Somerset Park, Bayview Stadium]),\n",
      "(Capacity:INTEGER, Examples: [10104, 11998, 2000]),\n",
      "(Highest:INTEGER, Examples: [4812, 2363, 1980]),\n",
      "(Lowest:INTEGER, Examples: [1294, 1057, 533]),\n",
      "(Average:INTEGER, Examples: [2106, 1477, 864])\n",
      "]\n",
      "【Foreign keys】\n",
      "concert.Stadium_ID=stadium.Stadium_ID\n",
      "singer_in_concert.concert_ID=concert.concert_ID\n",
      "singer_in_concert.Singer_ID=singer.Singer_ID\n",
      "\n",
      "-- Using valid SQLite, answer the following questions for the tables provided above.\n",
      "-- How many singers do we have?\n",
      "\n",
      "\n",
      "\n",
      "Generate the SQLite for the above question after thinking step by step: \n",
      "\n",
      "\n",
      "Instructions:\n",
      "- Make sure you only output the information that is asked in the question. If the question asks for a specific column, make sure to only include that column in the SELECT clause, nothing more.\n",
      "- The generated query should return all of the information asked in the question without any missing or extra information.\n",
      "- Before generating the final SQL query, please think through the steps of how to write the query.\n",
      "- Do not misuse column names, keep them in quotes `\n",
      "- Carefully understand what colomns belond to what tables\n",
      "- Use only initial column names, change names prohibited\n",
      "        \n",
      "Output Format:\n",
      "In your answer, please enclose the generated SQL query in a code block:\n",
      "```\n",
      "-- Your SQL query\n",
      "```    \n",
      "and nothing else, no exaplains, no comments (asnwer should be less than 512 characters)\n",
      "\n",
      "Take a deep breath and think step by step to find the correct SQL query in SQLite format.\n",
      "\n",
      "Question repetition: How many singers do we have?\n",
      "\n",
      "Be care! Include only what i want it questiona and nothing else<|im_end|>\n",
      "<|im_start|>assistant\n",
      "<think>\n",
      "\n",
      "</think>\n",
      "\n",
      "\n",
      "\n",
      "\n",
      "Максимальное количество токенов в промптах: 2062\n",
      "\n",
      "начинаем скорринг\n",
      "Загружаем чаты с данными...\n",
      "Данные успешно загружены\n",
      "Начали генерацию SQL запросов\n"
     ]
    },
    {
     "name": "stderr",
     "output_type": "stream",
     "text": [
      "Processed prompts: 100%|██████████| 1076/1076 [00:22<00:00, 48.65it/s, est. speed input: 57239.60 toks/s, output: 1475.70 toks/s] "
     ]
    },
    {
     "name": "stdout",
     "output_type": "stream",
     "text": [
      "extract_think количество ошибок:  0\n",
      "extract_sql количество ошибок:  0\n",
      "Закончили генерацию SQL запросов\n",
      "Начали скорр полученных SQL запросов\n"
     ]
    },
    {
     "name": "stderr",
     "output_type": "stream",
     "text": [
      "\n"
     ]
    },
    {
     "name": "stdout",
     "output_type": "stream",
     "text": [
      "Qwen3-8B DEV Финальный результат EX: 72.96\n",
      "Qwen3-8B процент запросов, которые успешно выполнились DEV: 98.61%\n",
      "====================================================================================================\n",
      "\n",
      "\n",
      "Загружаем чаты с данными...\n",
      "Данные успешно загружены\n",
      "Начали генерацию SQL запросов\n"
     ]
    },
    {
     "name": "stderr",
     "output_type": "stream",
     "text": [
      "Processed prompts: 100%|██████████| 1076/1076 [00:21<00:00, 49.97it/s, est. speed input: 58788.28 toks/s, output: 1500.10 toks/s] "
     ]
    },
    {
     "name": "stdout",
     "output_type": "stream",
     "text": [
      "extract_think количество ошибок:  0\n",
      "extract_sql количество ошибок:  0\n",
      "Закончили генерацию SQL запросов\n",
      "Начали скорр полученных SQL запросов\n"
     ]
    },
    {
     "name": "stderr",
     "output_type": "stream",
     "text": [
      "\n"
     ]
    },
    {
     "name": "stdout",
     "output_type": "stream",
     "text": [
      "Qwen3-8B DEV Финальный результат EX: 72.86\n",
      "Qwen3-8B процент запросов, которые успешно выполнились DEV: 98.33%\n",
      "====================================================================================================\n",
      "\n",
      "\n",
      "Загружаем чаты с данными...\n",
      "Данные успешно загружены\n",
      "Начали генерацию SQL запросов\n"
     ]
    },
    {
     "name": "stderr",
     "output_type": "stream",
     "text": [
      "Processed prompts: 100%|██████████| 1076/1076 [00:21<00:00, 50.02it/s, est. speed input: 58858.18 toks/s, output: 1517.99 toks/s] "
     ]
    },
    {
     "name": "stdout",
     "output_type": "stream",
     "text": [
      "extract_think количество ошибок:  0\n",
      "extract_sql количество ошибок:  0\n",
      "Закончили генерацию SQL запросов\n",
      "Начали скорр полученных SQL запросов\n"
     ]
    },
    {
     "name": "stderr",
     "output_type": "stream",
     "text": [
      "\n"
     ]
    },
    {
     "name": "stdout",
     "output_type": "stream",
     "text": [
      "Qwen3-8B DEV Финальный результат EX: 73.51\n",
      "Qwen3-8B процент запросов, которые успешно выполнились DEV: 98.70%\n",
      "====================================================================================================\n",
      "\n",
      "\n",
      "Загружаем чаты с данными...\n",
      "Данные успешно загружены\n",
      "Начали генерацию SQL запросов\n"
     ]
    },
    {
     "name": "stderr",
     "output_type": "stream",
     "text": [
      "Processed prompts: 100%|██████████| 1076/1076 [00:21<00:00, 49.00it/s, est. speed input: 57685.14 toks/s, output: 1494.92 toks/s] "
     ]
    },
    {
     "name": "stdout",
     "output_type": "stream",
     "text": [
      "extract_think количество ошибок:  0\n",
      "extract_sql количество ошибок:  0\n",
      "Закончили генерацию SQL запросов\n",
      "Начали скорр полученных SQL запросов\n"
     ]
    },
    {
     "name": "stderr",
     "output_type": "stream",
     "text": [
      "\n"
     ]
    },
    {
     "name": "stdout",
     "output_type": "stream",
     "text": [
      "Qwen3-8B DEV Финальный результат EX: 73.05\n",
      "Qwen3-8B процент запросов, которые успешно выполнились DEV: 98.98%\n",
      "====================================================================================================\n",
      "\n",
      "\n",
      "Загружаем чаты с данными...\n",
      "Данные успешно загружены\n",
      "Начали генерацию SQL запросов\n"
     ]
    },
    {
     "name": "stderr",
     "output_type": "stream",
     "text": [
      "Processed prompts: 100%|██████████| 1076/1076 [00:22<00:00, 46.94it/s, est. speed input: 55892.84 toks/s, output: 1424.21 toks/s] "
     ]
    },
    {
     "name": "stdout",
     "output_type": "stream",
     "text": [
      "extract_think количество ошибок:  0\n",
      "extract_sql количество ошибок:  0\n",
      "Закончили генерацию SQL запросов\n",
      "Начали скорр полученных SQL запросов\n"
     ]
    },
    {
     "name": "stderr",
     "output_type": "stream",
     "text": [
      "\n"
     ]
    },
    {
     "name": "stdout",
     "output_type": "stream",
     "text": [
      "Qwen3-8B DEV Финальный результат EX: 74.07\n",
      "Qwen3-8B процент запросов, которые успешно выполнились DEV: 98.51%\n",
      "====================================================================================================\n",
      "\n",
      "\n",
      "Загружаем чаты с данными...\n",
      "Данные успешно загружены\n",
      "Начали генерацию SQL запросов\n"
     ]
    },
    {
     "name": "stderr",
     "output_type": "stream",
     "text": [
      "Processed prompts: 100%|██████████| 1076/1076 [00:22<00:00, 47.53it/s, est. speed input: 56559.78 toks/s, output: 1432.83 toks/s] "
     ]
    },
    {
     "name": "stdout",
     "output_type": "stream",
     "text": [
      "extract_think количество ошибок:  0\n",
      "extract_sql количество ошибок:  0\n",
      "Закончили генерацию SQL запросов\n",
      "Начали скорр полученных SQL запросов\n"
     ]
    },
    {
     "name": "stderr",
     "output_type": "stream",
     "text": [
      "\n"
     ]
    },
    {
     "name": "stdout",
     "output_type": "stream",
     "text": [
      "Qwen3-8B DEV Финальный результат EX: 73.98\n",
      "Qwen3-8B процент запросов, которые успешно выполнились DEV: 98.88%\n",
      "====================================================================================================\n",
      "\n",
      "\n",
      "Загружаем чаты с данными...\n",
      "Данные успешно загружены\n",
      "Начали генерацию SQL запросов\n"
     ]
    },
    {
     "name": "stderr",
     "output_type": "stream",
     "text": [
      "Processed prompts: 100%|██████████| 1076/1076 [00:22<00:00, 48.05it/s, est. speed input: 56536.81 toks/s, output: 1452.75 toks/s] "
     ]
    },
    {
     "name": "stdout",
     "output_type": "stream",
     "text": [
      "extract_think количество ошибок:  0\n",
      "extract_sql количество ошибок:  0\n",
      "Закончили генерацию SQL запросов\n",
      "Начали скорр полученных SQL запросов\n"
     ]
    },
    {
     "name": "stderr",
     "output_type": "stream",
     "text": [
      "\n"
     ]
    },
    {
     "name": "stdout",
     "output_type": "stream",
     "text": [
      "Qwen3-8B DEV Финальный результат EX: 73.98\n",
      "Qwen3-8B процент запросов, которые успешно выполнились DEV: 99.16%\n",
      "====================================================================================================\n",
      "\n",
      "\n",
      "Загружаем чаты с данными...\n",
      "Данные успешно загружены\n",
      "Начали генерацию SQL запросов\n"
     ]
    },
    {
     "name": "stderr",
     "output_type": "stream",
     "text": [
      "Processed prompts: 100%|██████████| 1076/1076 [00:23<00:00, 46.59it/s, est. speed input: 54818.73 toks/s, output: 1416.95 toks/s] "
     ]
    },
    {
     "name": "stdout",
     "output_type": "stream",
     "text": [
      "extract_think количество ошибок:  0\n",
      "extract_sql количество ошибок:  0\n",
      "Закончили генерацию SQL запросов\n",
      "Начали скорр полученных SQL запросов\n"
     ]
    },
    {
     "name": "stderr",
     "output_type": "stream",
     "text": [
      "\n"
     ]
    },
    {
     "name": "stdout",
     "output_type": "stream",
     "text": [
      "Qwen3-8B DEV Финальный результат EX: 73.70\n",
      "Qwen3-8B процент запросов, которые успешно выполнились DEV: 98.51%\n",
      "====================================================================================================\n",
      "\n",
      "\n",
      "Загружаем чаты с данными...\n",
      "Данные успешно загружены\n",
      "Начали генерацию SQL запросов\n"
     ]
    },
    {
     "name": "stderr",
     "output_type": "stream",
     "text": [
      "Processed prompts: 100%|██████████| 1076/1076 [00:21<00:00, 49.53it/s, est. speed input: 58284.59 toks/s, output: 1508.19 toks/s] "
     ]
    },
    {
     "name": "stdout",
     "output_type": "stream",
     "text": [
      "extract_think количество ошибок:  0\n",
      "extract_sql количество ошибок:  0\n",
      "Закончили генерацию SQL запросов\n",
      "Начали скорр полученных SQL запросов\n"
     ]
    },
    {
     "name": "stderr",
     "output_type": "stream",
     "text": [
      "\n"
     ]
    },
    {
     "name": "stdout",
     "output_type": "stream",
     "text": [
      "Qwen3-8B DEV Финальный результат EX: 73.23\n",
      "Qwen3-8B процент запросов, которые успешно выполнились DEV: 98.88%\n",
      "====================================================================================================\n",
      "\n",
      "\n",
      "Загружаем чаты с данными...\n",
      "Данные успешно загружены\n",
      "Начали генерацию SQL запросов\n"
     ]
    },
    {
     "name": "stderr",
     "output_type": "stream",
     "text": [
      "Processed prompts: 100%|██████████| 1076/1076 [00:22<00:00, 48.14it/s, est. speed input: 56652.89 toks/s, output: 1463.44 toks/s] "
     ]
    },
    {
     "name": "stdout",
     "output_type": "stream",
     "text": [
      "extract_think количество ошибок:  0\n",
      "extract_sql количество ошибок:  0\n",
      "Закончили генерацию SQL запросов\n",
      "Начали скорр полученных SQL запросов\n"
     ]
    },
    {
     "name": "stderr",
     "output_type": "stream",
     "text": [
      "\n"
     ]
    },
    {
     "name": "stdout",
     "output_type": "stream",
     "text": [
      "Qwen3-8B DEV Финальный результат EX: 74.07\n",
      "Qwen3-8B процент запросов, которые успешно выполнились DEV: 98.79%\n",
      "====================================================================================================\n",
      "\n",
      "\n",
      "Загружаем чаты с данными...\n",
      "Данные успешно загружены\n",
      "Начали генерацию SQL запросов\n"
     ]
    },
    {
     "name": "stderr",
     "output_type": "stream",
     "text": [
      "Processed prompts: 100%|██████████| 1076/1076 [00:22<00:00, 48.51it/s, est. speed input: 57086.02 toks/s, output: 1471.97 toks/s] "
     ]
    },
    {
     "name": "stdout",
     "output_type": "stream",
     "text": [
      "extract_think количество ошибок:  0\n",
      "extract_sql количество ошибок:  0\n",
      "Закончили генерацию SQL запросов\n",
      "Начали скорр полученных SQL запросов\n"
     ]
    },
    {
     "name": "stderr",
     "output_type": "stream",
     "text": [
      "\n"
     ]
    },
    {
     "name": "stdout",
     "output_type": "stream",
     "text": [
      "Qwen3-8B DEV Финальный результат EX: 73.61\n",
      "Qwen3-8B процент запросов, которые успешно выполнились DEV: 98.88%\n",
      "====================================================================================================\n",
      "\n",
      "\n",
      "Загружаем чаты с данными...\n",
      "Данные успешно загружены\n",
      "Начали генерацию SQL запросов\n"
     ]
    },
    {
     "name": "stderr",
     "output_type": "stream",
     "text": [
      "Processed prompts: 100%|██████████| 1076/1076 [00:21<00:00, 49.47it/s, est. speed input: 58210.09 toks/s, output: 1506.63 toks/s] "
     ]
    },
    {
     "name": "stdout",
     "output_type": "stream",
     "text": [
      "extract_think количество ошибок:  0\n",
      "extract_sql количество ошибок:  0\n",
      "Закончили генерацию SQL запросов\n",
      "Начали скорр полученных SQL запросов\n"
     ]
    },
    {
     "name": "stderr",
     "output_type": "stream",
     "text": [
      "\n"
     ]
    },
    {
     "name": "stdout",
     "output_type": "stream",
     "text": [
      "Qwen3-8B DEV Финальный результат EX: 73.70\n",
      "Qwen3-8B процент запросов, которые успешно выполнились DEV: 99.16%\n",
      "====================================================================================================\n",
      "\n",
      "\n",
      "Загружаем чаты с данными...\n",
      "Данные успешно загружены\n",
      "Начали генерацию SQL запросов\n"
     ]
    },
    {
     "name": "stderr",
     "output_type": "stream",
     "text": [
      "Processed prompts: 100%|██████████| 1076/1076 [00:22<00:00, 48.31it/s, est. speed input: 56833.80 toks/s, output: 1465.93 toks/s] "
     ]
    },
    {
     "name": "stdout",
     "output_type": "stream",
     "text": [
      "extract_think количество ошибок:  0\n",
      "extract_sql количество ошибок:  0\n",
      "Закончили генерацию SQL запросов\n",
      "Начали скорр полученных SQL запросов\n"
     ]
    },
    {
     "name": "stderr",
     "output_type": "stream",
     "text": [
      "\n"
     ]
    },
    {
     "name": "stdout",
     "output_type": "stream",
     "text": [
      "Qwen3-8B DEV Финальный результат EX: 74.16\n",
      "Qwen3-8B процент запросов, которые успешно выполнились DEV: 99.07%\n",
      "====================================================================================================\n",
      "\n",
      "\n",
      "Загружаем чаты с данными...\n",
      "Данные успешно загружены\n",
      "Начали генерацию SQL запросов\n"
     ]
    },
    {
     "name": "stderr",
     "output_type": "stream",
     "text": [
      "Processed prompts: 100%|██████████| 1076/1076 [00:21<00:00, 49.07it/s, est. speed input: 57726.34 toks/s, output: 1479.13 toks/s] "
     ]
    },
    {
     "name": "stdout",
     "output_type": "stream",
     "text": [
      "extract_think количество ошибок:  0\n",
      "extract_sql количество ошибок:  0\n",
      "Закончили генерацию SQL запросов\n",
      "Начали скорр полученных SQL запросов\n"
     ]
    },
    {
     "name": "stderr",
     "output_type": "stream",
     "text": [
      "\n"
     ]
    },
    {
     "name": "stdout",
     "output_type": "stream",
     "text": [
      "Qwen3-8B DEV Финальный результат EX: 74.07\n",
      "Qwen3-8B процент запросов, которые успешно выполнились DEV: 98.79%\n",
      "====================================================================================================\n",
      "\n",
      "\n",
      "Загружаем чаты с данными...\n",
      "Данные успешно загружены\n",
      "Начали генерацию SQL запросов\n"
     ]
    },
    {
     "name": "stderr",
     "output_type": "stream",
     "text": [
      "Processed prompts: 100%|██████████| 1076/1076 [00:21<00:00, 49.39it/s, est. speed input: 58101.75 toks/s, output: 1495.90 toks/s] "
     ]
    },
    {
     "name": "stdout",
     "output_type": "stream",
     "text": [
      "extract_think количество ошибок:  0\n",
      "extract_sql количество ошибок:  0\n",
      "Закончили генерацию SQL запросов\n",
      "Начали скорр полученных SQL запросов\n"
     ]
    },
    {
     "name": "stderr",
     "output_type": "stream",
     "text": [
      "\n"
     ]
    },
    {
     "name": "stdout",
     "output_type": "stream",
     "text": [
      "Qwen3-8B DEV Финальный результат EX: 74.54\n",
      "Qwen3-8B процент запросов, которые успешно выполнились DEV: 99.35%\n",
      "====================================================================================================\n",
      "\n",
      "\n",
      "Загружаем чаты с данными...\n",
      "Данные успешно загружены\n",
      "Начали генерацию SQL запросов\n"
     ]
    },
    {
     "name": "stderr",
     "output_type": "stream",
     "text": [
      "Processed prompts: 100%|██████████| 1076/1076 [00:21<00:00, 48.99it/s, est. speed input: 57647.69 toks/s, output: 1486.70 toks/s] "
     ]
    },
    {
     "name": "stdout",
     "output_type": "stream",
     "text": [
      "extract_think количество ошибок:  0\n",
      "extract_sql количество ошибок:  0\n",
      "Закончили генерацию SQL запросов\n",
      "Начали скорр полученных SQL запросов\n"
     ]
    },
    {
     "name": "stderr",
     "output_type": "stream",
     "text": [
      "\n"
     ]
    },
    {
     "name": "stdout",
     "output_type": "stream",
     "text": [
      "Qwen3-8B DEV Финальный результат EX: 73.79\n",
      "Qwen3-8B процент запросов, которые успешно выполнились DEV: 98.70%\n",
      "====================================================================================================\n",
      "\n",
      "\n",
      "Загружаем чаты с данными...\n",
      "Данные успешно загружены\n",
      "Начали генерацию SQL запросов\n"
     ]
    },
    {
     "name": "stderr",
     "output_type": "stream",
     "text": [
      "Processed prompts: 100%|██████████| 1076/1076 [00:22<00:00, 48.03it/s, est. speed input: 56507.86 toks/s, output: 1453.18 toks/s] "
     ]
    },
    {
     "name": "stdout",
     "output_type": "stream",
     "text": [
      "extract_think количество ошибок:  0\n",
      "extract_sql количество ошибок:  0\n",
      "Закончили генерацию SQL запросов\n",
      "Начали скорр полученных SQL запросов\n"
     ]
    },
    {
     "name": "stderr",
     "output_type": "stream",
     "text": [
      "\n"
     ]
    },
    {
     "name": "stdout",
     "output_type": "stream",
     "text": [
      "Qwen3-8B DEV Финальный результат EX: 73.79\n",
      "Qwen3-8B процент запросов, которые успешно выполнились DEV: 98.98%\n",
      "====================================================================================================\n",
      "\n",
      "\n",
      "Загружаем чаты с данными...\n",
      "Данные успешно загружены\n",
      "Начали генерацию SQL запросов\n"
     ]
    },
    {
     "name": "stderr",
     "output_type": "stream",
     "text": [
      "Processed prompts: 100%|██████████| 1076/1076 [00:21<00:00, 49.03it/s, est. speed input: 57680.23 toks/s, output: 1495.41 toks/s] "
     ]
    },
    {
     "name": "stdout",
     "output_type": "stream",
     "text": [
      "extract_think количество ошибок:  0\n",
      "extract_sql количество ошибок:  0\n",
      "Закончили генерацию SQL запросов\n",
      "Начали скорр полученных SQL запросов\n"
     ]
    },
    {
     "name": "stderr",
     "output_type": "stream",
     "text": [
      "\n"
     ]
    },
    {
     "name": "stdout",
     "output_type": "stream",
     "text": [
      "Qwen3-8B DEV Финальный результат EX: 74.44\n",
      "Qwen3-8B процент запросов, которые успешно выполнились DEV: 98.70%\n",
      "====================================================================================================\n",
      "\n",
      "\n",
      "Загружаем чаты с данными...\n",
      "Данные успешно загружены\n",
      "Начали генерацию SQL запросов\n"
     ]
    },
    {
     "name": "stderr",
     "output_type": "stream",
     "text": [
      "Processed prompts: 100%|██████████| 1076/1076 [00:22<00:00, 48.09it/s, est. speed input: 56578.06 toks/s, output: 1447.56 toks/s] "
     ]
    },
    {
     "name": "stdout",
     "output_type": "stream",
     "text": [
      "extract_think количество ошибок:  0\n",
      "extract_sql количество ошибок:  0\n",
      "Закончили генерацию SQL запросов\n",
      "Начали скорр полученных SQL запросов\n"
     ]
    },
    {
     "name": "stderr",
     "output_type": "stream",
     "text": [
      "\n"
     ]
    },
    {
     "name": "stdout",
     "output_type": "stream",
     "text": [
      "Qwen3-8B DEV Финальный результат EX: 73.42\n",
      "Qwen3-8B процент запросов, которые успешно выполнились DEV: 99.26%\n",
      "====================================================================================================\n",
      "\n",
      "\n",
      "Загружаем чаты с данными...\n",
      "Данные успешно загружены\n",
      "Начали генерацию SQL запросов\n"
     ]
    },
    {
     "name": "stderr",
     "output_type": "stream",
     "text": [
      "Processed prompts: 100%|██████████| 1076/1076 [00:22<00:00, 48.32it/s, est. speed input: 56850.24 toks/s, output: 1465.87 toks/s] "
     ]
    },
    {
     "name": "stdout",
     "output_type": "stream",
     "text": [
      "extract_think количество ошибок:  0\n",
      "extract_sql количество ошибок:  0\n",
      "Закончили генерацию SQL запросов\n",
      "Начали скорр полученных SQL запросов\n"
     ]
    },
    {
     "name": "stderr",
     "output_type": "stream",
     "text": [
      "\n"
     ]
    },
    {
     "name": "stdout",
     "output_type": "stream",
     "text": [
      "Qwen3-8B DEV Финальный результат EX: 73.51\n",
      "Qwen3-8B процент запросов, которые успешно выполнились DEV: 98.79%\n",
      "====================================================================================================\n",
      "\n",
      "\n"
     ]
    }
   ],
   "source": [
    "run_cot_experiment(model,arr_seeds,arr_versions, type_cot,num_observations=num_observations)"
   ]
  },
  {
   "cell_type": "code",
   "execution_count": 13,
   "id": "567aebd6-c42e-43f1-b038-e70215d348ba",
   "metadata": {},
   "outputs": [
    {
     "name": "stdout",
     "output_type": "stream",
     "text": [
      "[43, 993, 687, 2, 59, 408, 902, 987, 788, 119, 844, 270, 525, 327, 748, 232, 531, 190, 420, 643]\n",
      "model: Qwen3-8B\n"
     ]
    }
   ],
   "source": [
    "n= 20\n",
    "arr_seeds = [random.randint(0,1000) for _ in range(n)]\n",
    "arr_versions = [x for x in range(n)]\n",
    "model = \"Qwen3-8B\"\n",
    "num_observations = 3\n",
    "type_cot = 'predict'\n",
    "print(arr_seeds)\n",
    "print(f\"model: {model}\")"
   ]
  },
  {
   "cell_type": "code",
   "execution_count": 14,
   "id": "ae9448a7-0cef-4f51-b3ca-c3e9733ea56f",
   "metadata": {
    "scrolled": true
   },
   "outputs": [
    {
     "name": "stdout",
     "output_type": "stream",
     "text": [
      "Загружаем модель...\n"
     ]
    },
    {
     "name": "stderr",
     "output_type": "stream",
     "text": [
      "Loading safetensors checkpoint shards:   0% Completed | 0/4 [00:00<?, ?it/s]\n",
      "Loading safetensors checkpoint shards:  25% Completed | 1/4 [00:00<00:00,  8.79it/s]\n",
      "Loading safetensors checkpoint shards:  50% Completed | 2/4 [00:00<00:00,  2.56it/s]\n",
      "Loading safetensors checkpoint shards:  75% Completed | 3/4 [00:01<00:00,  1.81it/s]\n",
      "Loading safetensors checkpoint shards: 100% Completed | 4/4 [00:02<00:00,  1.58it/s]\n",
      "Loading safetensors checkpoint shards: 100% Completed | 4/4 [00:02<00:00,  1.82it/s]\n",
      "\u001b[1;36m(VllmWorker rank=0 pid=1177685)\u001b[0;0m \n"
     ]
    },
    {
     "name": "stdout",
     "output_type": "stream",
     "text": [
      "Модель успешно загружена\n",
      "model_config {'model': '/data/home/vkropoti/models/Qwen3-8B', 'tensor_parallel_size': 2, 'max_model_len': 40000, 'max_new_tokens': 1500, 'temperature': 0, 'top_k': 1, 'top_p': 0.8, 'gpu_memory_utilization': 0.9, 'trust_remote_code': False, 'seed': 43}\n",
      "\n",
      "prompts_config {'path_dev_json': '/data/home/vkropoti/sql_data/dev_spider.json', 'path_sql_dbs': '/data/home/vkropoti/sql_data/data_bases_spider/', 'use_reasoning': False, 'paths_to_cot': ['/data/home/vkropoti/sql_llm_answers/spider_dev_m_schema/sql_predict_Qwen3-8B-reasoning-v0', '/data/home/vkropoti/sql_llm_answers/spider_dev_m_schema/sql_predict_Qwen3-8B-reasoning-v1', '/data/home/vkropoti/sql_llm_answers/spider_dev_m_schema/sql_predict_Qwen3-8B-reasoning-v2']}\n",
      "\n",
      "save_config {'path_sql_save': '/data/home/vkropoti/sql_llm_answers/spider_dev_m_schema/sql_all_Qwen3-8B-cot_predict_think==False_nobs3-v0', 'path_think_save': None, 'path_sql_answers_save': '/data/home/vkropoti/sql_llm_answers/spider_dev_m_schema/sql_predict_Qwen3-8B-cot_predict_think==False_nobs3-v0', 'path_to_save_scores': '/data/home/vkropoti/sql_llm_answers/spider_dev_m_schema/sql_results_Qwen3-8B-cot_predict_think==False_nobs3-v0', 'path_to_save_executed': '/data/home/vkropoti/sql_llm_answers/spider_dev_m_schema/sql_executed_Qwen3-8B-cot_predict_think==False_nobs3-v0'}\n",
      "\n",
      "Модель успешно загружена\n",
      "Пример промпта\n",
      "<|im_start|>system\n",
      "\n",
      "You are a data science expert. Below, you are provided with a database schema and a natural language question. Your task is to understand the schema and generate a valid SQL query to answer the question.\n",
      "\n",
      "Database Engine: SQLite\n",
      "\n",
      "You will be given an additional analysis of other models, please take it into account, so the plan is\n",
      "1. Analyse given addition analysis from other models (find in which analysis the same and differ, how to use that to answer question)\n",
      "2. Combine best from previous part and think how to solve the problem (analyze tables, take care what columns avaliable in each table and so on, check the syntacsis)\n",
      "3. Create the answers. The answer should be only sql query.\n",
      "\n",
      "Carefully follow the instruction and add <|im_end|> and the end of the final answer<|im_end|>\n",
      "<|im_start|>user\n",
      "Here is addition analysis from other models which can be helpfull, please take this into account but be careful (choose the best from each analysis, combine them to make the most proper answer):\n",
      "\n",
      "model 0 analysis:\n",
      " SELECT COUNT(*) FROM singer;\n",
      "\n",
      "model 1 analysis:\n",
      " SELECT COUNT(*) FROM singer;\n",
      "\n",
      "model 2 analysis:\n",
      " SELECT COUNT(Singer_ID) FROM singer;\n",
      "\n",
      "\n",
      "here is avaliable tables and their structure below\n",
      "【DB_ID】 concert_singer\n",
      "【Schema】\n",
      "# Table: concert\n",
      "[\n",
      "(concert_ID:INTEGER, Primary Key, Examples: [1, 2, 3]),\n",
      "(concert_Name:TEXT, Examples: [Auditions, Super bootcamp, Home Visits]),\n",
      "(Theme:TEXT, Examples: [Free choice, Free choice 2, Bleeding Love]),\n",
      "(Stadium_ID:TEXT, maps to stadium.Stadium_ID, Examples: [1, 2, 10]),\n",
      "(Year:TEXT, Examples: [2014, 2015, 2016])\n",
      "]\n",
      "# Table: singer\n",
      "[\n",
      "(Singer_ID:INTEGER, Primary Key, Examples: [1, 2, 3]),\n",
      "(Name:TEXT, Examples: [Joe Sharp, Timbaland, Justin Brown]),\n",
      "(Country:TEXT, Examples: [Netherlands, United States, France]),\n",
      "(Song_Name:TEXT, Examples: [You, Dangerous, Hey Oh]),\n",
      "(Song_release_year:TEXT, Examples: [1992, 2008, 2013]),\n",
      "(Age:INTEGER, Examples: [52, 32, 29]),\n",
      "(Is_male:BOOLEAN, Examples: [False, True])\n",
      "]\n",
      "# Table: singer_in_concert\n",
      "[\n",
      "(concert_ID:INTEGER, maps to concert.concert_ID, Primary Key, Examples: [1, 2, 3]),\n",
      "(Singer_ID:TEXT, maps to singer.Singer_ID, Primary Key, Examples: [2, 3, 5])\n",
      "]\n",
      "# Table: stadium\n",
      "[\n",
      "(Stadium_ID:INTEGER, Primary Key, Examples: [1, 2, 3]),\n",
      "(Location:TEXT, Examples: [Raith Rovers, Ayr United, East Fife]),\n",
      "(Name:TEXT, Examples: [Stark's Park, Somerset Park, Bayview Stadium]),\n",
      "(Capacity:INTEGER, Examples: [10104, 11998, 2000]),\n",
      "(Highest:INTEGER, Examples: [4812, 2363, 1980]),\n",
      "(Lowest:INTEGER, Examples: [1294, 1057, 533]),\n",
      "(Average:INTEGER, Examples: [2106, 1477, 864])\n",
      "]\n",
      "【Foreign keys】\n",
      "concert.Stadium_ID=stadium.Stadium_ID\n",
      "singer_in_concert.concert_ID=concert.concert_ID\n",
      "singer_in_concert.Singer_ID=singer.Singer_ID\n",
      "\n",
      "-- Using valid SQLite, answer the following questions for the tables provided above.\n",
      "-- How many singers do we have?\n",
      "\n",
      "\n",
      "\n",
      "Generate the SQLite for the above question after thinking step by step: \n",
      "\n",
      "\n",
      "Instructions:\n",
      "- Make sure you only output the information that is asked in the question. If the question asks for a specific column, make sure to only include that column in the SELECT clause, nothing more.\n",
      "- The generated query should return all of the information asked in the question without any missing or extra information.\n",
      "- Before generating the final SQL query, please think through the steps of how to write the query.\n",
      "- Do not misuse column names, keep them in quotes `\n",
      "- Carefully understand what colomns belond to what tables\n",
      "- Use only initial column names, change names prohibited\n",
      "        \n",
      "Output Format:\n",
      "In your answer, please enclose the generated SQL query in a code block:\n",
      "```\n",
      "-- Your SQL query\n",
      "```    \n",
      "and nothing else, no exaplains, no comments (asnwer should be less than 512 characters)\n",
      "\n",
      "Take a deep breath and think step by step to find the correct SQL query in SQLite format.\n",
      "\n",
      "Question repetition: How many singers do we have?\n",
      "\n",
      "Be care! Include only what i want it questiona and nothing else<|im_end|>\n",
      "<|im_start|>assistant\n",
      "<think>\n",
      "\n",
      "</think>\n",
      "\n",
      "\n",
      "\n",
      "\n",
      "Максимальное количество токенов в промптах: 2185\n",
      "\n",
      "начинаем скорринг\n",
      "Загружаем чаты с данными...\n",
      "Данные успешно загружены\n",
      "Начали генерацию SQL запросов\n"
     ]
    },
    {
     "name": "stderr",
     "output_type": "stream",
     "text": [
      "Processed prompts: 100%|██████████| 1076/1076 [00:23<00:00, 46.39it/s, est. speed input: 56056.14 toks/s, output: 1404.57 toks/s] "
     ]
    },
    {
     "name": "stdout",
     "output_type": "stream",
     "text": [
      "extract_think количество ошибок:  0\n",
      "extract_sql количество ошибок:  0\n",
      "Закончили генерацию SQL запросов\n",
      "Начали скорр полученных SQL запросов\n"
     ]
    },
    {
     "name": "stderr",
     "output_type": "stream",
     "text": [
      "\n"
     ]
    },
    {
     "name": "stdout",
     "output_type": "stream",
     "text": [
      "Qwen3-8B DEV Финальный результат EX: 73.14\n",
      "Qwen3-8B процент запросов, которые успешно выполнились DEV: 98.79%\n",
      "====================================================================================================\n",
      "\n",
      "\n",
      "Загружаем чаты с данными...\n",
      "Данные успешно загружены\n",
      "Начали генерацию SQL запросов\n"
     ]
    },
    {
     "name": "stderr",
     "output_type": "stream",
     "text": [
      "Processed prompts: 100%|██████████| 1076/1076 [00:23<00:00, 46.49it/s, est. speed input: 56171.16 toks/s, output: 1413.26 toks/s] "
     ]
    },
    {
     "name": "stdout",
     "output_type": "stream",
     "text": [
      "extract_think количество ошибок:  0\n",
      "extract_sql количество ошибок:  0\n",
      "Закончили генерацию SQL запросов\n",
      "Начали скорр полученных SQL запросов\n"
     ]
    },
    {
     "name": "stderr",
     "output_type": "stream",
     "text": [
      "\n"
     ]
    },
    {
     "name": "stdout",
     "output_type": "stream",
     "text": [
      "Qwen3-8B DEV Финальный результат EX: 73.51\n",
      "Qwen3-8B процент запросов, которые успешно выполнились DEV: 98.70%\n",
      "====================================================================================================\n",
      "\n",
      "\n",
      "Загружаем чаты с данными...\n",
      "Данные успешно загружены\n",
      "Начали генерацию SQL запросов\n"
     ]
    },
    {
     "name": "stderr",
     "output_type": "stream",
     "text": [
      "Processed prompts: 100%|██████████| 1076/1076 [00:22<00:00, 46.92it/s, est. speed input: 56724.26 toks/s, output: 1425.95 toks/s] "
     ]
    },
    {
     "name": "stdout",
     "output_type": "stream",
     "text": [
      "extract_think количество ошибок:  0\n",
      "extract_sql количество ошибок:  0\n",
      "Закончили генерацию SQL запросов\n",
      "Начали скорр полученных SQL запросов\n"
     ]
    },
    {
     "name": "stderr",
     "output_type": "stream",
     "text": [
      "\n"
     ]
    },
    {
     "name": "stdout",
     "output_type": "stream",
     "text": [
      "Qwen3-8B DEV Финальный результат EX: 72.86\n",
      "Qwen3-8B процент запросов, которые успешно выполнились DEV: 98.88%\n",
      "====================================================================================================\n",
      "\n",
      "\n",
      "Загружаем чаты с данными...\n",
      "Данные успешно загружены\n",
      "Начали генерацию SQL запросов\n"
     ]
    },
    {
     "name": "stderr",
     "output_type": "stream",
     "text": [
      "Processed prompts: 100%|██████████| 1076/1076 [00:24<00:00, 44.58it/s, est. speed input: 54494.91 toks/s, output: 1357.76 toks/s] "
     ]
    },
    {
     "name": "stdout",
     "output_type": "stream",
     "text": [
      "extract_think количество ошибок:  0\n",
      "extract_sql количество ошибок:  0\n",
      "Закончили генерацию SQL запросов\n",
      "Начали скорр полученных SQL запросов\n"
     ]
    },
    {
     "name": "stderr",
     "output_type": "stream",
     "text": [
      "\n"
     ]
    },
    {
     "name": "stdout",
     "output_type": "stream",
     "text": [
      "Qwen3-8B DEV Финальный результат EX: 73.05\n",
      "Qwen3-8B процент запросов, которые успешно выполнились DEV: 98.42%\n",
      "====================================================================================================\n",
      "\n",
      "\n",
      "Загружаем чаты с данными...\n",
      "Данные успешно загружены\n",
      "Начали генерацию SQL запросов\n"
     ]
    },
    {
     "name": "stderr",
     "output_type": "stream",
     "text": [
      "Processed prompts: 100%|██████████| 1076/1076 [00:24<00:00, 44.77it/s, est. speed input: 54724.19 toks/s, output: 1352.55 toks/s] "
     ]
    },
    {
     "name": "stdout",
     "output_type": "stream",
     "text": [
      "extract_think количество ошибок:  0\n",
      "extract_sql количество ошибок:  0\n",
      "Закончили генерацию SQL запросов\n",
      "Начали скорр полученных SQL запросов\n"
     ]
    },
    {
     "name": "stderr",
     "output_type": "stream",
     "text": [
      "\n"
     ]
    },
    {
     "name": "stdout",
     "output_type": "stream",
     "text": [
      "Qwen3-8B DEV Финальный результат EX: 74.07\n",
      "Qwen3-8B процент запросов, которые успешно выполнились DEV: 98.98%\n",
      "====================================================================================================\n",
      "\n",
      "\n",
      "Загружаем чаты с данными...\n",
      "Данные успешно загружены\n",
      "Начали генерацию SQL запросов\n"
     ]
    },
    {
     "name": "stderr",
     "output_type": "stream",
     "text": [
      "Processed prompts: 100%|██████████| 1076/1076 [00:24<00:00, 44.83it/s, est. speed input: 54779.04 toks/s, output: 1357.07 toks/s] "
     ]
    },
    {
     "name": "stdout",
     "output_type": "stream",
     "text": [
      "extract_think количество ошибок:  0\n",
      "extract_sql количество ошибок:  0\n",
      "Закончили генерацию SQL запросов\n",
      "Начали скорр полученных SQL запросов\n"
     ]
    },
    {
     "name": "stderr",
     "output_type": "stream",
     "text": [
      "\n"
     ]
    },
    {
     "name": "stdout",
     "output_type": "stream",
     "text": [
      "Qwen3-8B DEV Финальный результат EX: 74.54\n",
      "Qwen3-8B процент запросов, которые успешно выполнились DEV: 98.88%\n",
      "====================================================================================================\n",
      "\n",
      "\n",
      "Загружаем чаты с данными...\n",
      "Данные успешно загружены\n",
      "Начали генерацию SQL запросов\n"
     ]
    },
    {
     "name": "stderr",
     "output_type": "stream",
     "text": [
      "Processed prompts: 100%|██████████| 1076/1076 [00:23<00:00, 45.29it/s, est. speed input: 54730.56 toks/s, output: 1376.94 toks/s] "
     ]
    },
    {
     "name": "stdout",
     "output_type": "stream",
     "text": [
      "extract_think количество ошибок:  0\n",
      "extract_sql количество ошибок:  0\n",
      "Закончили генерацию SQL запросов\n",
      "Начали скорр полученных SQL запросов\n"
     ]
    },
    {
     "name": "stderr",
     "output_type": "stream",
     "text": [
      "\n"
     ]
    },
    {
     "name": "stdout",
     "output_type": "stream",
     "text": [
      "Qwen3-8B DEV Финальный результат EX: 73.88\n",
      "Qwen3-8B процент запросов, которые успешно выполнились DEV: 98.70%\n",
      "====================================================================================================\n",
      "\n",
      "\n",
      "Загружаем чаты с данными...\n",
      "Данные успешно загружены\n",
      "Начали генерацию SQL запросов\n"
     ]
    },
    {
     "name": "stderr",
     "output_type": "stream",
     "text": [
      "Processed prompts: 100%|██████████| 1076/1076 [00:23<00:00, 46.03it/s, est. speed input: 55629.37 toks/s, output: 1399.35 toks/s] "
     ]
    },
    {
     "name": "stdout",
     "output_type": "stream",
     "text": [
      "extract_think количество ошибок:  0\n",
      "extract_sql количество ошибок:  0\n",
      "Закончили генерацию SQL запросов\n",
      "Начали скорр полученных SQL запросов\n"
     ]
    },
    {
     "name": "stderr",
     "output_type": "stream",
     "text": [
      "\n"
     ]
    },
    {
     "name": "stdout",
     "output_type": "stream",
     "text": [
      "Qwen3-8B DEV Финальный результат EX: 74.16\n",
      "Qwen3-8B процент запросов, которые успешно выполнились DEV: 98.98%\n",
      "====================================================================================================\n",
      "\n",
      "\n",
      "Загружаем чаты с данными...\n",
      "Данные успешно загружены\n",
      "Начали генерацию SQL запросов\n"
     ]
    },
    {
     "name": "stderr",
     "output_type": "stream",
     "text": [
      "Processed prompts: 100%|██████████| 1076/1076 [00:23<00:00, 46.22it/s, est. speed input: 55861.04 toks/s, output: 1400.21 toks/s] "
     ]
    },
    {
     "name": "stdout",
     "output_type": "stream",
     "text": [
      "extract_think количество ошибок:  0\n",
      "extract_sql количество ошибок:  0\n",
      "Закончили генерацию SQL запросов\n",
      "Начали скорр полученных SQL запросов\n"
     ]
    },
    {
     "name": "stderr",
     "output_type": "stream",
     "text": [
      "\n"
     ]
    },
    {
     "name": "stdout",
     "output_type": "stream",
     "text": [
      "Qwen3-8B DEV Финальный результат EX: 72.68\n",
      "Qwen3-8B процент запросов, которые успешно выполнились DEV: 98.70%\n",
      "====================================================================================================\n",
      "\n",
      "\n",
      "Загружаем чаты с данными...\n",
      "Данные успешно загружены\n",
      "Начали генерацию SQL запросов\n"
     ]
    },
    {
     "name": "stderr",
     "output_type": "stream",
     "text": [
      "Processed prompts: 100%|██████████| 1076/1076 [00:23<00:00, 46.15it/s, est. speed input: 55791.00 toks/s, output: 1402.80 toks/s] "
     ]
    },
    {
     "name": "stdout",
     "output_type": "stream",
     "text": [
      "extract_think количество ошибок:  0\n",
      "extract_sql количество ошибок:  0\n",
      "Закончили генерацию SQL запросов\n",
      "Начали скорр полученных SQL запросов\n"
     ]
    },
    {
     "name": "stderr",
     "output_type": "stream",
     "text": [
      "\n"
     ]
    },
    {
     "name": "stdout",
     "output_type": "stream",
     "text": [
      "Qwen3-8B DEV Финальный результат EX: 74.44\n",
      "Qwen3-8B процент запросов, которые успешно выполнились DEV: 99.07%\n",
      "====================================================================================================\n",
      "\n",
      "\n",
      "Загружаем чаты с данными...\n",
      "Данные успешно загружены\n",
      "Начали генерацию SQL запросов\n"
     ]
    },
    {
     "name": "stderr",
     "output_type": "stream",
     "text": [
      "Processed prompts: 100%|██████████| 1076/1076 [00:22<00:00, 46.83it/s, est. speed input: 56601.80 toks/s, output: 1420.39 toks/s] "
     ]
    },
    {
     "name": "stdout",
     "output_type": "stream",
     "text": [
      "extract_think количество ошибок:  0\n",
      "extract_sql количество ошибок:  0\n",
      "Закончили генерацию SQL запросов\n",
      "Начали скорр полученных SQL запросов\n"
     ]
    },
    {
     "name": "stderr",
     "output_type": "stream",
     "text": [
      "\n"
     ]
    },
    {
     "name": "stdout",
     "output_type": "stream",
     "text": [
      "Qwen3-8B DEV Финальный результат EX: 74.26\n",
      "Qwen3-8B процент запросов, которые успешно выполнились DEV: 99.07%\n",
      "====================================================================================================\n",
      "\n",
      "\n",
      "Загружаем чаты с данными...\n",
      "Данные успешно загружены\n",
      "Начали генерацию SQL запросов\n"
     ]
    },
    {
     "name": "stderr",
     "output_type": "stream",
     "text": [
      "Processed prompts: 100%|██████████| 1076/1076 [00:23<00:00, 46.62it/s, est. speed input: 56331.67 toks/s, output: 1414.70 toks/s] "
     ]
    },
    {
     "name": "stdout",
     "output_type": "stream",
     "text": [
      "extract_think количество ошибок:  0\n",
      "extract_sql количество ошибок:  0\n",
      "Закончили генерацию SQL запросов\n",
      "Начали скорр полученных SQL запросов\n"
     ]
    },
    {
     "name": "stderr",
     "output_type": "stream",
     "text": [
      "\n"
     ]
    },
    {
     "name": "stdout",
     "output_type": "stream",
     "text": [
      "Qwen3-8B DEV Финальный результат EX: 73.14\n",
      "Qwen3-8B процент запросов, которые успешно выполнились DEV: 98.88%\n",
      "====================================================================================================\n",
      "\n",
      "\n",
      "Загружаем чаты с данными...\n",
      "Данные успешно загружены\n",
      "Начали генерацию SQL запросов\n"
     ]
    },
    {
     "name": "stderr",
     "output_type": "stream",
     "text": [
      "Processed prompts: 100%|██████████| 1076/1076 [00:22<00:00, 46.96it/s, est. speed input: 56736.24 toks/s, output: 1420.47 toks/s] "
     ]
    },
    {
     "name": "stdout",
     "output_type": "stream",
     "text": [
      "extract_think количество ошибок:  0\n",
      "extract_sql количество ошибок:  0\n",
      "Закончили генерацию SQL запросов\n",
      "Начали скорр полученных SQL запросов\n"
     ]
    },
    {
     "name": "stderr",
     "output_type": "stream",
     "text": [
      "\n"
     ]
    },
    {
     "name": "stdout",
     "output_type": "stream",
     "text": [
      "Qwen3-8B DEV Финальный результат EX: 74.16\n",
      "Qwen3-8B процент запросов, которые успешно выполнились DEV: 99.07%\n",
      "====================================================================================================\n",
      "\n",
      "\n",
      "Загружаем чаты с данными...\n",
      "Данные успешно загружены\n",
      "Начали генерацию SQL запросов\n"
     ]
    },
    {
     "name": "stderr",
     "output_type": "stream",
     "text": [
      "Processed prompts: 100%|██████████| 1076/1076 [00:23<00:00, 46.51it/s, est. speed input: 56192.25 toks/s, output: 1403.52 toks/s] "
     ]
    },
    {
     "name": "stdout",
     "output_type": "stream",
     "text": [
      "extract_think количество ошибок:  0\n",
      "extract_sql количество ошибок:  0\n",
      "Закончили генерацию SQL запросов\n",
      "Начали скорр полученных SQL запросов\n"
     ]
    },
    {
     "name": "stderr",
     "output_type": "stream",
     "text": [
      "\n"
     ]
    },
    {
     "name": "stdout",
     "output_type": "stream",
     "text": [
      "Qwen3-8B DEV Финальный результат EX: 74.35\n",
      "Qwen3-8B процент запросов, которые успешно выполнились DEV: 98.98%\n",
      "====================================================================================================\n",
      "\n",
      "\n",
      "Загружаем чаты с данными...\n",
      "Данные успешно загружены\n",
      "Начали генерацию SQL запросов\n"
     ]
    },
    {
     "name": "stderr",
     "output_type": "stream",
     "text": [
      "Processed prompts: 100%|██████████| 1076/1076 [00:23<00:00, 46.11it/s, est. speed input: 55714.02 toks/s, output: 1398.45 toks/s] "
     ]
    },
    {
     "name": "stdout",
     "output_type": "stream",
     "text": [
      "extract_think количество ошибок:  0\n",
      "extract_sql количество ошибок:  0\n",
      "Закончили генерацию SQL запросов\n",
      "Начали скорр полученных SQL запросов\n"
     ]
    },
    {
     "name": "stderr",
     "output_type": "stream",
     "text": [
      "\n"
     ]
    },
    {
     "name": "stdout",
     "output_type": "stream",
     "text": [
      "Qwen3-8B DEV Финальный результат EX: 73.61\n",
      "Qwen3-8B процент запросов, которые успешно выполнились DEV: 98.79%\n",
      "====================================================================================================\n",
      "\n",
      "\n",
      "Загружаем чаты с данными...\n",
      "Данные успешно загружены\n",
      "Начали генерацию SQL запросов\n"
     ]
    },
    {
     "name": "stderr",
     "output_type": "stream",
     "text": [
      "Processed prompts: 100%|██████████| 1076/1076 [00:23<00:00, 46.76it/s, est. speed input: 56489.92 toks/s, output: 1414.60 toks/s] "
     ]
    },
    {
     "name": "stdout",
     "output_type": "stream",
     "text": [
      "extract_think количество ошибок:  0\n",
      "extract_sql количество ошибок:  0\n",
      "Закончили генерацию SQL запросов\n",
      "Начали скорр полученных SQL запросов\n"
     ]
    },
    {
     "name": "stderr",
     "output_type": "stream",
     "text": [
      "\n"
     ]
    },
    {
     "name": "stdout",
     "output_type": "stream",
     "text": [
      "Qwen3-8B DEV Финальный результат EX: 74.07\n",
      "Qwen3-8B процент запросов, которые успешно выполнились DEV: 99.16%\n",
      "====================================================================================================\n",
      "\n",
      "\n",
      "Загружаем чаты с данными...\n",
      "Данные успешно загружены\n",
      "Начали генерацию SQL запросов\n"
     ]
    },
    {
     "name": "stderr",
     "output_type": "stream",
     "text": [
      "Processed prompts: 100%|██████████| 1076/1076 [00:23<00:00, 45.96it/s, est. speed input: 55533.72 toks/s, output: 1396.17 toks/s] "
     ]
    },
    {
     "name": "stdout",
     "output_type": "stream",
     "text": [
      "extract_think количество ошибок:  0\n",
      "extract_sql количество ошибок:  0\n",
      "Закончили генерацию SQL запросов\n",
      "Начали скорр полученных SQL запросов\n"
     ]
    },
    {
     "name": "stderr",
     "output_type": "stream",
     "text": [
      "\n"
     ]
    },
    {
     "name": "stdout",
     "output_type": "stream",
     "text": [
      "Qwen3-8B DEV Финальный результат EX: 73.79\n",
      "Qwen3-8B процент запросов, которые успешно выполнились DEV: 98.98%\n",
      "====================================================================================================\n",
      "\n",
      "\n",
      "Загружаем чаты с данными...\n",
      "Данные успешно загружены\n",
      "Начали генерацию SQL запросов\n"
     ]
    },
    {
     "name": "stderr",
     "output_type": "stream",
     "text": [
      "Processed prompts: 100%|██████████| 1076/1076 [00:23<00:00, 45.72it/s, est. speed input: 55236.81 toks/s, output: 1383.49 toks/s] "
     ]
    },
    {
     "name": "stdout",
     "output_type": "stream",
     "text": [
      "extract_think количество ошибок:  0\n",
      "extract_sql количество ошибок:  0\n",
      "Закончили генерацию SQL запросов\n",
      "Начали скорр полученных SQL запросов\n"
     ]
    },
    {
     "name": "stderr",
     "output_type": "stream",
     "text": [
      "\n"
     ]
    },
    {
     "name": "stdout",
     "output_type": "stream",
     "text": [
      "Qwen3-8B DEV Финальный результат EX: 73.98\n",
      "Qwen3-8B процент запросов, которые успешно выполнились DEV: 99.16%\n",
      "====================================================================================================\n",
      "\n",
      "\n",
      "Загружаем чаты с данными...\n",
      "Данные успешно загружены\n",
      "Начали генерацию SQL запросов\n"
     ]
    },
    {
     "name": "stderr",
     "output_type": "stream",
     "text": [
      "Processed prompts: 100%|██████████| 1076/1076 [00:23<00:00, 46.27it/s, est. speed input: 55916.54 toks/s, output: 1408.57 toks/s] "
     ]
    },
    {
     "name": "stdout",
     "output_type": "stream",
     "text": [
      "extract_think количество ошибок:  0\n",
      "extract_sql количество ошибок:  0\n",
      "Закончили генерацию SQL запросов\n",
      "Начали скорр полученных SQL запросов\n"
     ]
    },
    {
     "name": "stderr",
     "output_type": "stream",
     "text": [
      "\n"
     ]
    },
    {
     "name": "stdout",
     "output_type": "stream",
     "text": [
      "Qwen3-8B DEV Финальный результат EX: 73.79\n",
      "Qwen3-8B процент запросов, которые успешно выполнились DEV: 98.79%\n",
      "====================================================================================================\n",
      "\n",
      "\n",
      "Загружаем чаты с данными...\n",
      "Данные успешно загружены\n",
      "Начали генерацию SQL запросов\n"
     ]
    },
    {
     "name": "stderr",
     "output_type": "stream",
     "text": [
      "Processed prompts: 100%|██████████| 1076/1076 [00:23<00:00, 46.02it/s, est. speed input: 55607.69 toks/s, output: 1393.12 toks/s] "
     ]
    },
    {
     "name": "stdout",
     "output_type": "stream",
     "text": [
      "extract_think количество ошибок:  0\n",
      "extract_sql количество ошибок:  0\n",
      "Закончили генерацию SQL запросов\n",
      "Начали скорр полученных SQL запросов\n"
     ]
    },
    {
     "name": "stderr",
     "output_type": "stream",
     "text": [
      "\n"
     ]
    },
    {
     "name": "stdout",
     "output_type": "stream",
     "text": [
      "Qwen3-8B DEV Финальный результат EX: 73.61\n",
      "Qwen3-8B процент запросов, которые успешно выполнились DEV: 98.51%\n",
      "====================================================================================================\n",
      "\n",
      "\n"
     ]
    }
   ],
   "source": [
    "run_cot_experiment(model,arr_seeds,arr_versions, type_cot,num_observations=num_observations)"
   ]
  },
  {
   "cell_type": "code",
   "execution_count": 15,
   "id": "57efa230-434d-4803-901f-a4d09f2971ad",
   "metadata": {},
   "outputs": [
    {
     "name": "stdout",
     "output_type": "stream",
     "text": [
      "[855, 604, 996, 394, 260, 644, 95, 814, 845, 739, 778, 235, 536, 488, 342, 646, 271, 36, 528, 31]\n",
      "model: Qwen3-8B\n"
     ]
    }
   ],
   "source": [
    "n= 20\n",
    "arr_seeds = [random.randint(0,1000) for _ in range(n)]\n",
    "arr_versions = [x for x in range(n)]\n",
    "model = \"Qwen3-8B\"\n",
    "num_observations = 4\n",
    "type_cot = 'predict'\n",
    "print(arr_seeds)\n",
    "print(f\"model: {model}\")"
   ]
  },
  {
   "cell_type": "code",
   "execution_count": 16,
   "id": "84e49863-1bc7-4141-93e1-a7dbca7ce991",
   "metadata": {
    "scrolled": true
   },
   "outputs": [
    {
     "name": "stdout",
     "output_type": "stream",
     "text": [
      "Загружаем модель...\n"
     ]
    },
    {
     "name": "stderr",
     "output_type": "stream",
     "text": [
      "Loading safetensors checkpoint shards:   0% Completed | 0/4 [00:00<?, ?it/s]\n",
      "Loading safetensors checkpoint shards:  25% Completed | 1/4 [00:00<00:00,  8.66it/s]\n",
      "Loading safetensors checkpoint shards:  50% Completed | 2/4 [00:00<00:00,  2.52it/s]\n",
      "Loading safetensors checkpoint shards:  75% Completed | 3/4 [00:01<00:00,  1.80it/s]\n",
      "Loading safetensors checkpoint shards: 100% Completed | 4/4 [00:02<00:00,  1.59it/s]\n",
      "Loading safetensors checkpoint shards: 100% Completed | 4/4 [00:02<00:00,  1.82it/s]\n",
      "\u001b[1;36m(VllmWorker rank=0 pid=1205587)\u001b[0;0m \n"
     ]
    },
    {
     "name": "stdout",
     "output_type": "stream",
     "text": [
      "Модель успешно загружена\n",
      "model_config {'model': '/data/home/vkropoti/models/Qwen3-8B', 'tensor_parallel_size': 2, 'max_model_len': 40000, 'max_new_tokens': 1500, 'temperature': 0, 'top_k': 1, 'top_p': 0.8, 'gpu_memory_utilization': 0.9, 'trust_remote_code': False, 'seed': 855}\n",
      "\n",
      "prompts_config {'path_dev_json': '/data/home/vkropoti/sql_data/dev_spider.json', 'path_sql_dbs': '/data/home/vkropoti/sql_data/data_bases_spider/', 'use_reasoning': False, 'paths_to_cot': ['/data/home/vkropoti/sql_llm_answers/spider_dev_m_schema/sql_predict_Qwen3-8B-reasoning-v0', '/data/home/vkropoti/sql_llm_answers/spider_dev_m_schema/sql_predict_Qwen3-8B-reasoning-v1', '/data/home/vkropoti/sql_llm_answers/spider_dev_m_schema/sql_predict_Qwen3-8B-reasoning-v2', '/data/home/vkropoti/sql_llm_answers/spider_dev_m_schema/sql_predict_Qwen3-8B-reasoning-v3']}\n",
      "\n",
      "save_config {'path_sql_save': '/data/home/vkropoti/sql_llm_answers/spider_dev_m_schema/sql_all_Qwen3-8B-cot_predict_think==False_nobs4-v0', 'path_think_save': None, 'path_sql_answers_save': '/data/home/vkropoti/sql_llm_answers/spider_dev_m_schema/sql_predict_Qwen3-8B-cot_predict_think==False_nobs4-v0', 'path_to_save_scores': '/data/home/vkropoti/sql_llm_answers/spider_dev_m_schema/sql_results_Qwen3-8B-cot_predict_think==False_nobs4-v0', 'path_to_save_executed': '/data/home/vkropoti/sql_llm_answers/spider_dev_m_schema/sql_executed_Qwen3-8B-cot_predict_think==False_nobs4-v0'}\n",
      "\n",
      "Модель успешно загружена\n",
      "Пример промпта\n",
      "<|im_start|>system\n",
      "\n",
      "You are a data science expert. Below, you are provided with a database schema and a natural language question. Your task is to understand the schema and generate a valid SQL query to answer the question.\n",
      "\n",
      "Database Engine: SQLite\n",
      "\n",
      "You will be given an additional analysis of other models, please take it into account, so the plan is\n",
      "1. Analyse given addition analysis from other models (find in which analysis the same and differ, how to use that to answer question)\n",
      "2. Combine best from previous part and think how to solve the problem (analyze tables, take care what columns avaliable in each table and so on, check the syntacsis)\n",
      "3. Create the answers. The answer should be only sql query.\n",
      "\n",
      "Carefully follow the instruction and add <|im_end|> and the end of the final answer<|im_end|>\n",
      "<|im_start|>user\n",
      "Here is addition analysis from other models which can be helpfull, please take this into account but be careful (choose the best from each analysis, combine them to make the most proper answer):\n",
      "\n",
      "model 0 analysis:\n",
      " SELECT COUNT(*) FROM singer;\n",
      "\n",
      "model 1 analysis:\n",
      " SELECT COUNT(*) FROM singer;\n",
      "\n",
      "model 2 analysis:\n",
      " SELECT COUNT(Singer_ID) FROM singer;\n",
      "\n",
      "model 3 analysis:\n",
      " SELECT COUNT(*) FROM singer;\n",
      "\n",
      "\n",
      "here is avaliable tables and their structure below\n",
      "【DB_ID】 concert_singer\n",
      "【Schema】\n",
      "# Table: concert\n",
      "[\n",
      "(concert_ID:INTEGER, Primary Key, Examples: [1, 2, 3]),\n",
      "(concert_Name:TEXT, Examples: [Auditions, Super bootcamp, Home Visits]),\n",
      "(Theme:TEXT, Examples: [Free choice, Free choice 2, Bleeding Love]),\n",
      "(Stadium_ID:TEXT, maps to stadium.Stadium_ID, Examples: [1, 2, 10]),\n",
      "(Year:TEXT, Examples: [2014, 2015, 2016])\n",
      "]\n",
      "# Table: singer\n",
      "[\n",
      "(Singer_ID:INTEGER, Primary Key, Examples: [1, 2, 3]),\n",
      "(Name:TEXT, Examples: [Joe Sharp, Timbaland, Justin Brown]),\n",
      "(Country:TEXT, Examples: [Netherlands, United States, France]),\n",
      "(Song_Name:TEXT, Examples: [You, Dangerous, Hey Oh]),\n",
      "(Song_release_year:TEXT, Examples: [1992, 2008, 2013]),\n",
      "(Age:INTEGER, Examples: [52, 32, 29]),\n",
      "(Is_male:BOOLEAN, Examples: [False, True])\n",
      "]\n",
      "# Table: singer_in_concert\n",
      "[\n",
      "(concert_ID:INTEGER, maps to concert.concert_ID, Primary Key, Examples: [1, 2, 3]),\n",
      "(Singer_ID:TEXT, maps to singer.Singer_ID, Primary Key, Examples: [2, 3, 5])\n",
      "]\n",
      "# Table: stadium\n",
      "[\n",
      "(Stadium_ID:INTEGER, Primary Key, Examples: [1, 2, 3]),\n",
      "(Location:TEXT, Examples: [Raith Rovers, Ayr United, East Fife]),\n",
      "(Name:TEXT, Examples: [Stark's Park, Somerset Park, Bayview Stadium]),\n",
      "(Capacity:INTEGER, Examples: [10104, 11998, 2000]),\n",
      "(Highest:INTEGER, Examples: [4812, 2363, 1980]),\n",
      "(Lowest:INTEGER, Examples: [1294, 1057, 533]),\n",
      "(Average:INTEGER, Examples: [2106, 1477, 864])\n",
      "]\n",
      "【Foreign keys】\n",
      "concert.Stadium_ID=stadium.Stadium_ID\n",
      "singer_in_concert.concert_ID=concert.concert_ID\n",
      "singer_in_concert.Singer_ID=singer.Singer_ID\n",
      "\n",
      "-- Using valid SQLite, answer the following questions for the tables provided above.\n",
      "-- How many singers do we have?\n",
      "\n",
      "\n",
      "\n",
      "Generate the SQLite for the above question after thinking step by step: \n",
      "\n",
      "\n",
      "Instructions:\n",
      "- Make sure you only output the information that is asked in the question. If the question asks for a specific column, make sure to only include that column in the SELECT clause, nothing more.\n",
      "- The generated query should return all of the information asked in the question without any missing or extra information.\n",
      "- Before generating the final SQL query, please think through the steps of how to write the query.\n",
      "- Do not misuse column names, keep them in quotes `\n",
      "- Carefully understand what colomns belond to what tables\n",
      "- Use only initial column names, change names prohibited\n",
      "        \n",
      "Output Format:\n",
      "In your answer, please enclose the generated SQL query in a code block:\n",
      "```\n",
      "-- Your SQL query\n",
      "```    \n",
      "and nothing else, no exaplains, no comments (asnwer should be less than 512 characters)\n",
      "\n",
      "Take a deep breath and think step by step to find the correct SQL query in SQLite format.\n",
      "\n",
      "Question repetition: How many singers do we have?\n",
      "\n",
      "Be care! Include only what i want it questiona and nothing else<|im_end|>\n",
      "<|im_start|>assistant\n",
      "<think>\n",
      "\n",
      "</think>\n",
      "\n",
      "\n",
      "\n",
      "\n",
      "Максимальное количество токенов в промптах: 2346\n",
      "\n",
      "начинаем скорринг\n",
      "Загружаем чаты с данными...\n",
      "Данные успешно загружены\n",
      "Начали генерацию SQL запросов\n"
     ]
    },
    {
     "name": "stderr",
     "output_type": "stream",
     "text": [
      "Processed prompts: 100%|██████████| 1076/1076 [00:24<00:00, 43.92it/s, est. speed input: 54463.40 toks/s, output: 1332.88 toks/s] "
     ]
    },
    {
     "name": "stdout",
     "output_type": "stream",
     "text": [
      "extract_think количество ошибок:  0\n",
      "extract_sql количество ошибок:  0\n",
      "Закончили генерацию SQL запросов\n",
      "Начали скорр полученных SQL запросов\n"
     ]
    },
    {
     "name": "stderr",
     "output_type": "stream",
     "text": [
      "\n"
     ]
    },
    {
     "name": "stdout",
     "output_type": "stream",
     "text": [
      "Qwen3-8B DEV Финальный результат EX: 73.05\n",
      "Qwen3-8B процент запросов, которые успешно выполнились DEV: 98.61%\n",
      "====================================================================================================\n",
      "\n",
      "\n",
      "Загружаем чаты с данными...\n",
      "Данные успешно загружены\n",
      "Начали генерацию SQL запросов\n"
     ]
    },
    {
     "name": "stderr",
     "output_type": "stream",
     "text": [
      "Processed prompts: 100%|██████████| 1076/1076 [00:24<00:00, 44.20it/s, est. speed input: 54838.54 toks/s, output: 1343.10 toks/s] "
     ]
    },
    {
     "name": "stdout",
     "output_type": "stream",
     "text": [
      "extract_think количество ошибок:  0\n",
      "extract_sql количество ошибок:  0\n",
      "Закончили генерацию SQL запросов\n",
      "Начали скорр полученных SQL запросов\n"
     ]
    },
    {
     "name": "stderr",
     "output_type": "stream",
     "text": [
      "\n"
     ]
    },
    {
     "name": "stdout",
     "output_type": "stream",
     "text": [
      "Qwen3-8B DEV Финальный результат EX: 72.77\n",
      "Qwen3-8B процент запросов, которые успешно выполнились DEV: 98.70%\n",
      "====================================================================================================\n",
      "\n",
      "\n",
      "Загружаем чаты с данными...\n",
      "Данные успешно загружены\n",
      "Начали генерацию SQL запросов\n"
     ]
    },
    {
     "name": "stderr",
     "output_type": "stream",
     "text": [
      "Processed prompts: 100%|██████████| 1076/1076 [00:24<00:00, 43.59it/s, est. speed input: 54668.57 toks/s, output: 1325.44 toks/s] "
     ]
    },
    {
     "name": "stdout",
     "output_type": "stream",
     "text": [
      "extract_think количество ошибок:  0\n",
      "extract_sql количество ошибок:  0\n",
      "Закончили генерацию SQL запросов\n",
      "Начали скорр полученных SQL запросов\n"
     ]
    },
    {
     "name": "stderr",
     "output_type": "stream",
     "text": [
      "\n"
     ]
    },
    {
     "name": "stdout",
     "output_type": "stream",
     "text": [
      "Qwen3-8B DEV Финальный результат EX: 73.33\n",
      "Qwen3-8B процент запросов, которые успешно выполнились DEV: 98.61%\n",
      "====================================================================================================\n",
      "\n",
      "\n",
      "Загружаем чаты с данными...\n",
      "Данные успешно загружены\n",
      "Начали генерацию SQL запросов\n"
     ]
    },
    {
     "name": "stderr",
     "output_type": "stream",
     "text": [
      "Processed prompts: 100%|██████████| 1076/1076 [00:25<00:00, 42.83it/s, est. speed input: 53720.57 toks/s, output: 1300.64 toks/s] "
     ]
    },
    {
     "name": "stdout",
     "output_type": "stream",
     "text": [
      "extract_think количество ошибок:  0\n",
      "extract_sql количество ошибок:  0\n",
      "Закончили генерацию SQL запросов\n",
      "Начали скорр полученных SQL запросов\n"
     ]
    },
    {
     "name": "stderr",
     "output_type": "stream",
     "text": [
      "\n"
     ]
    },
    {
     "name": "stdout",
     "output_type": "stream",
     "text": [
      "Qwen3-8B DEV Финальный результат EX: 73.70\n",
      "Qwen3-8B процент запросов, которые успешно выполнились DEV: 98.70%\n",
      "====================================================================================================\n",
      "\n",
      "\n",
      "Загружаем чаты с данными...\n",
      "Данные успешно загружены\n",
      "Начали генерацию SQL запросов\n"
     ]
    },
    {
     "name": "stderr",
     "output_type": "stream",
     "text": [
      "Processed prompts: 100%|██████████| 1076/1076 [00:24<00:00, 43.24it/s, est. speed input: 54235.13 toks/s, output: 1321.88 toks/s] "
     ]
    },
    {
     "name": "stdout",
     "output_type": "stream",
     "text": [
      "extract_think количество ошибок:  0\n",
      "extract_sql количество ошибок:  0\n",
      "Закончили генерацию SQL запросов\n",
      "Начали скорр полученных SQL запросов\n"
     ]
    },
    {
     "name": "stderr",
     "output_type": "stream",
     "text": [
      "\n"
     ]
    },
    {
     "name": "stdout",
     "output_type": "stream",
     "text": [
      "Qwen3-8B DEV Финальный результат EX: 73.98\n",
      "Qwen3-8B процент запросов, которые успешно выполнились DEV: 98.98%\n",
      "====================================================================================================\n",
      "\n",
      "\n",
      "Загружаем чаты с данными...\n",
      "Данные успешно загружены\n",
      "Начали генерацию SQL запросов\n"
     ]
    },
    {
     "name": "stderr",
     "output_type": "stream",
     "text": [
      "Processed prompts: 100%|██████████| 1076/1076 [00:25<00:00, 42.80it/s, est. speed input: 53660.61 toks/s, output: 1294.96 toks/s] "
     ]
    },
    {
     "name": "stdout",
     "output_type": "stream",
     "text": [
      "extract_think количество ошибок:  0\n",
      "extract_sql количество ошибок:  0\n",
      "Закончили генерацию SQL запросов\n",
      "Начали скорр полученных SQL запросов\n"
     ]
    },
    {
     "name": "stderr",
     "output_type": "stream",
     "text": [
      "\n"
     ]
    },
    {
     "name": "stdout",
     "output_type": "stream",
     "text": [
      "Qwen3-8B DEV Финальный результат EX: 74.16\n",
      "Qwen3-8B процент запросов, которые успешно выполнились DEV: 98.42%\n",
      "====================================================================================================\n",
      "\n",
      "\n",
      "Загружаем чаты с данными...\n",
      "Данные успешно загружены\n",
      "Начали генерацию SQL запросов\n"
     ]
    },
    {
     "name": "stderr",
     "output_type": "stream",
     "text": [
      "Processed prompts: 100%|██████████| 1076/1076 [00:24<00:00, 43.46it/s, est. speed input: 53899.04 toks/s, output: 1323.45 toks/s] "
     ]
    },
    {
     "name": "stdout",
     "output_type": "stream",
     "text": [
      "extract_think количество ошибок:  0\n",
      "extract_sql количество ошибок:  0\n",
      "Закончили генерацию SQL запросов\n",
      "Начали скорр полученных SQL запросов\n"
     ]
    },
    {
     "name": "stderr",
     "output_type": "stream",
     "text": [
      "\n"
     ]
    },
    {
     "name": "stdout",
     "output_type": "stream",
     "text": [
      "Qwen3-8B DEV Финальный результат EX: 73.88\n",
      "Qwen3-8B процент запросов, которые успешно выполнились DEV: 98.88%\n",
      "====================================================================================================\n",
      "\n",
      "\n",
      "Загружаем чаты с данными...\n",
      "Данные успешно загружены\n",
      "Начали генерацию SQL запросов\n"
     ]
    },
    {
     "name": "stderr",
     "output_type": "stream",
     "text": [
      "Processed prompts: 100%|██████████| 1076/1076 [00:24<00:00, 43.78it/s, est. speed input: 54311.85 toks/s, output: 1324.82 toks/s] "
     ]
    },
    {
     "name": "stdout",
     "output_type": "stream",
     "text": [
      "extract_think количество ошибок:  0\n",
      "extract_sql количество ошибок:  0\n",
      "Закончили генерацию SQL запросов\n",
      "Начали скорр полученных SQL запросов\n"
     ]
    },
    {
     "name": "stderr",
     "output_type": "stream",
     "text": [
      "\n"
     ]
    },
    {
     "name": "stdout",
     "output_type": "stream",
     "text": [
      "Qwen3-8B DEV Финальный результат EX: 74.16\n",
      "Qwen3-8B процент запросов, которые успешно выполнились DEV: 98.88%\n",
      "====================================================================================================\n",
      "\n",
      "\n",
      "Загружаем чаты с данными...\n",
      "Данные успешно загружены\n",
      "Начали генерацию SQL запросов\n"
     ]
    },
    {
     "name": "stderr",
     "output_type": "stream",
     "text": [
      "Processed prompts: 100%|██████████| 1076/1076 [00:24<00:00, 44.28it/s, est. speed input: 54932.58 toks/s, output: 1343.17 toks/s] "
     ]
    },
    {
     "name": "stdout",
     "output_type": "stream",
     "text": [
      "extract_think количество ошибок:  0\n",
      "extract_sql количество ошибок:  0\n",
      "Закончили генерацию SQL запросов\n",
      "Начали скорр полученных SQL запросов\n"
     ]
    },
    {
     "name": "stderr",
     "output_type": "stream",
     "text": [
      "\n"
     ]
    },
    {
     "name": "stdout",
     "output_type": "stream",
     "text": [
      "Qwen3-8B DEV Финальный результат EX: 73.98\n",
      "Qwen3-8B процент запросов, которые успешно выполнились DEV: 98.98%\n",
      "====================================================================================================\n",
      "\n",
      "\n",
      "Загружаем чаты с данными...\n",
      "Данные успешно загружены\n",
      "Начали генерацию SQL запросов\n"
     ]
    },
    {
     "name": "stderr",
     "output_type": "stream",
     "text": [
      "Processed prompts: 100%|██████████| 1076/1076 [00:24<00:00, 44.60it/s, est. speed input: 55325.45 toks/s, output: 1359.16 toks/s] "
     ]
    },
    {
     "name": "stdout",
     "output_type": "stream",
     "text": [
      "extract_think количество ошибок:  0\n",
      "extract_sql количество ошибок:  0\n",
      "Закончили генерацию SQL запросов\n",
      "Начали скорр полученных SQL запросов\n"
     ]
    },
    {
     "name": "stderr",
     "output_type": "stream",
     "text": [
      "\n"
     ]
    },
    {
     "name": "stdout",
     "output_type": "stream",
     "text": [
      "Qwen3-8B DEV Финальный результат EX: 74.26\n",
      "Qwen3-8B процент запросов, которые успешно выполнились DEV: 98.88%\n",
      "====================================================================================================\n",
      "\n",
      "\n",
      "Загружаем чаты с данными...\n",
      "Данные успешно загружены\n",
      "Начали генерацию SQL запросов\n"
     ]
    },
    {
     "name": "stderr",
     "output_type": "stream",
     "text": [
      "Processed prompts: 100%|██████████| 1076/1076 [00:24<00:00, 44.66it/s, est. speed input: 55392.91 toks/s, output: 1352.92 toks/s] "
     ]
    },
    {
     "name": "stdout",
     "output_type": "stream",
     "text": [
      "extract_think количество ошибок:  0\n",
      "extract_sql количество ошибок:  0\n",
      "Закончили генерацию SQL запросов\n",
      "Начали скорр полученных SQL запросов\n"
     ]
    },
    {
     "name": "stderr",
     "output_type": "stream",
     "text": [
      "\n"
     ]
    },
    {
     "name": "stdout",
     "output_type": "stream",
     "text": [
      "Qwen3-8B DEV Финальный результат EX: 73.42\n",
      "Qwen3-8B процент запросов, которые успешно выполнились DEV: 98.79%\n",
      "====================================================================================================\n",
      "\n",
      "\n",
      "Загружаем чаты с данными...\n",
      "Данные успешно загружены\n",
      "Начали генерацию SQL запросов\n"
     ]
    },
    {
     "name": "stderr",
     "output_type": "stream",
     "text": [
      "Processed prompts: 100%|██████████| 1076/1076 [00:23<00:00, 44.97it/s, est. speed input: 55758.64 toks/s, output: 1354.56 toks/s] "
     ]
    },
    {
     "name": "stdout",
     "output_type": "stream",
     "text": [
      "extract_think количество ошибок:  0\n",
      "extract_sql количество ошибок:  0\n",
      "Закончили генерацию SQL запросов\n",
      "Начали скорр полученных SQL запросов\n"
     ]
    },
    {
     "name": "stderr",
     "output_type": "stream",
     "text": [
      "\n"
     ]
    },
    {
     "name": "stdout",
     "output_type": "stream",
     "text": [
      "Qwen3-8B DEV Финальный результат EX: 74.26\n",
      "Qwen3-8B процент запросов, которые успешно выполнились DEV: 98.98%\n",
      "====================================================================================================\n",
      "\n",
      "\n",
      "Загружаем чаты с данными...\n",
      "Данные успешно загружены\n",
      "Начали генерацию SQL запросов\n"
     ]
    },
    {
     "name": "stderr",
     "output_type": "stream",
     "text": [
      "Processed prompts: 100%|██████████| 1076/1076 [00:24<00:00, 44.39it/s, est. speed input: 55041.92 toks/s, output: 1342.08 toks/s] "
     ]
    },
    {
     "name": "stdout",
     "output_type": "stream",
     "text": [
      "extract_think количество ошибок:  0\n",
      "extract_sql количество ошибок:  0\n",
      "Закончили генерацию SQL запросов\n",
      "Начали скорр полученных SQL запросов\n"
     ]
    },
    {
     "name": "stderr",
     "output_type": "stream",
     "text": [
      "\n"
     ]
    },
    {
     "name": "stdout",
     "output_type": "stream",
     "text": [
      "Qwen3-8B DEV Финальный результат EX: 73.79\n",
      "Qwen3-8B процент запросов, которые успешно выполнились DEV: 98.88%\n",
      "====================================================================================================\n",
      "\n",
      "\n",
      "Загружаем чаты с данными...\n",
      "Данные успешно загружены\n",
      "Начали генерацию SQL запросов\n"
     ]
    },
    {
     "name": "stderr",
     "output_type": "stream",
     "text": [
      "Processed prompts: 100%|██████████| 1076/1076 [00:24<00:00, 43.87it/s, est. speed input: 54386.90 toks/s, output: 1325.43 toks/s] "
     ]
    },
    {
     "name": "stdout",
     "output_type": "stream",
     "text": [
      "extract_think количество ошибок:  0\n",
      "extract_sql количество ошибок:  0\n",
      "Закончили генерацию SQL запросов\n",
      "Начали скорр полученных SQL запросов\n"
     ]
    },
    {
     "name": "stderr",
     "output_type": "stream",
     "text": [
      "\n"
     ]
    },
    {
     "name": "stdout",
     "output_type": "stream",
     "text": [
      "Qwen3-8B DEV Финальный результат EX: 73.42\n",
      "Qwen3-8B процент запросов, которые успешно выполнились DEV: 98.79%\n",
      "====================================================================================================\n",
      "\n",
      "\n",
      "Загружаем чаты с данными...\n",
      "Данные успешно загружены\n",
      "Начали генерацию SQL запросов\n"
     ]
    },
    {
     "name": "stderr",
     "output_type": "stream",
     "text": [
      "Processed prompts: 100%|██████████| 1076/1076 [00:24<00:00, 44.20it/s, est. speed input: 54800.59 toks/s, output: 1336.55 toks/s] "
     ]
    },
    {
     "name": "stdout",
     "output_type": "stream",
     "text": [
      "extract_think количество ошибок:  0\n",
      "extract_sql количество ошибок:  0\n",
      "Закончили генерацию SQL запросов\n",
      "Начали скорр полученных SQL запросов\n"
     ]
    },
    {
     "name": "stderr",
     "output_type": "stream",
     "text": [
      "\n"
     ]
    },
    {
     "name": "stdout",
     "output_type": "stream",
     "text": [
      "Qwen3-8B DEV Финальный результат EX: 74.54\n",
      "Qwen3-8B процент запросов, которые успешно выполнились DEV: 98.51%\n",
      "====================================================================================================\n",
      "\n",
      "\n",
      "Загружаем чаты с данными...\n",
      "Данные успешно загружены\n",
      "Начали генерацию SQL запросов\n"
     ]
    },
    {
     "name": "stderr",
     "output_type": "stream",
     "text": [
      "Processed prompts: 100%|██████████| 1076/1076 [00:24<00:00, 44.03it/s, est. speed input: 54601.89 toks/s, output: 1338.10 toks/s] "
     ]
    },
    {
     "name": "stdout",
     "output_type": "stream",
     "text": [
      "extract_think количество ошибок:  0\n",
      "extract_sql количество ошибок:  0\n",
      "Закончили генерацию SQL запросов\n",
      "Начали скорр полученных SQL запросов\n"
     ]
    },
    {
     "name": "stderr",
     "output_type": "stream",
     "text": [
      "\n"
     ]
    },
    {
     "name": "stdout",
     "output_type": "stream",
     "text": [
      "Qwen3-8B DEV Финальный результат EX: 73.88\n",
      "Qwen3-8B процент запросов, которые успешно выполнились DEV: 98.88%\n",
      "====================================================================================================\n",
      "\n",
      "\n",
      "Загружаем чаты с данными...\n",
      "Данные успешно загружены\n",
      "Начали генерацию SQL запросов\n"
     ]
    },
    {
     "name": "stderr",
     "output_type": "stream",
     "text": [
      "Processed prompts: 100%|██████████| 1076/1076 [00:24<00:00, 44.13it/s, est. speed input: 54718.69 toks/s, output: 1337.48 toks/s] "
     ]
    },
    {
     "name": "stdout",
     "output_type": "stream",
     "text": [
      "extract_think количество ошибок:  0\n",
      "extract_sql количество ошибок:  0\n",
      "Закончили генерацию SQL запросов\n",
      "Начали скорр полученных SQL запросов\n"
     ]
    },
    {
     "name": "stderr",
     "output_type": "stream",
     "text": [
      "\n"
     ]
    },
    {
     "name": "stdout",
     "output_type": "stream",
     "text": [
      "Qwen3-8B DEV Финальный результат EX: 73.42\n",
      "Qwen3-8B процент запросов, которые успешно выполнились DEV: 99.26%\n",
      "====================================================================================================\n",
      "\n",
      "\n",
      "Загружаем чаты с данными...\n",
      "Данные успешно загружены\n",
      "Начали генерацию SQL запросов\n"
     ]
    },
    {
     "name": "stderr",
     "output_type": "stream",
     "text": [
      "Processed prompts: 100%|██████████| 1076/1076 [00:24<00:00, 43.90it/s, est. speed input: 54429.74 toks/s, output: 1329.02 toks/s] "
     ]
    },
    {
     "name": "stdout",
     "output_type": "stream",
     "text": [
      "extract_think количество ошибок:  0\n",
      "extract_sql количество ошибок:  0\n",
      "Закончили генерацию SQL запросов\n",
      "Начали скорр полученных SQL запросов\n"
     ]
    },
    {
     "name": "stderr",
     "output_type": "stream",
     "text": [
      "\n"
     ]
    },
    {
     "name": "stdout",
     "output_type": "stream",
     "text": [
      "Qwen3-8B DEV Финальный результат EX: 73.79\n",
      "Qwen3-8B процент запросов, которые успешно выполнились DEV: 98.88%\n",
      "====================================================================================================\n",
      "\n",
      "\n",
      "Загружаем чаты с данными...\n",
      "Данные успешно загружены\n",
      "Начали генерацию SQL запросов\n"
     ]
    },
    {
     "name": "stderr",
     "output_type": "stream",
     "text": [
      "Processed prompts: 100%|██████████| 1076/1076 [00:24<00:00, 43.97it/s, est. speed input: 54524.65 toks/s, output: 1326.62 toks/s] "
     ]
    },
    {
     "name": "stdout",
     "output_type": "stream",
     "text": [
      "extract_think количество ошибок:  0\n",
      "extract_sql количество ошибок:  0\n",
      "Закончили генерацию SQL запросов\n",
      "Начали скорр полученных SQL запросов\n"
     ]
    },
    {
     "name": "stderr",
     "output_type": "stream",
     "text": [
      "\n"
     ]
    },
    {
     "name": "stdout",
     "output_type": "stream",
     "text": [
      "Qwen3-8B DEV Финальный результат EX: 73.51\n",
      "Qwen3-8B процент запросов, которые успешно выполнились DEV: 98.79%\n",
      "====================================================================================================\n",
      "\n",
      "\n",
      "Загружаем чаты с данными...\n",
      "Данные успешно загружены\n",
      "Начали генерацию SQL запросов\n"
     ]
    },
    {
     "name": "stderr",
     "output_type": "stream",
     "text": [
      "Processed prompts: 100%|██████████| 1076/1076 [00:24<00:00, 44.43it/s, est. speed input: 55092.91 toks/s, output: 1343.21 toks/s] "
     ]
    },
    {
     "name": "stdout",
     "output_type": "stream",
     "text": [
      "extract_think количество ошибок:  0\n",
      "extract_sql количество ошибок:  0\n",
      "Закончили генерацию SQL запросов\n",
      "Начали скорр полученных SQL запросов\n"
     ]
    },
    {
     "name": "stderr",
     "output_type": "stream",
     "text": [
      "\n"
     ]
    },
    {
     "name": "stdout",
     "output_type": "stream",
     "text": [
      "Qwen3-8B DEV Финальный результат EX: 73.61\n",
      "Qwen3-8B процент запросов, которые успешно выполнились DEV: 98.79%\n",
      "====================================================================================================\n",
      "\n",
      "\n"
     ]
    }
   ],
   "source": [
    "run_cot_experiment(model,arr_seeds,arr_versions, type_cot,num_observations=num_observations)"
   ]
  },
  {
   "cell_type": "code",
   "execution_count": 17,
   "id": "c1e5e144-1e1f-44de-8094-e7172daff51b",
   "metadata": {},
   "outputs": [
    {
     "name": "stdout",
     "output_type": "stream",
     "text": [
      "[54, 235, 387, 964, 841, 698, 867, 836, 424, 620, 910, 51, 401, 82, 360, 425, 298, 132, 491, 632]\n",
      "model: Qwen3-8B\n"
     ]
    }
   ],
   "source": [
    "n= 20\n",
    "arr_seeds = [random.randint(0,1000) for _ in range(n)]\n",
    "arr_versions = [x for x in range(n)]\n",
    "model = \"Qwen3-8B\"\n",
    "num_observations = 5\n",
    "type_cot = 'predict'\n",
    "print(arr_seeds)\n",
    "print(f\"model: {model}\")"
   ]
  },
  {
   "cell_type": "code",
   "execution_count": 18,
   "id": "25a08606-4784-406f-965a-c029463c9e15",
   "metadata": {
    "scrolled": true
   },
   "outputs": [
    {
     "name": "stdout",
     "output_type": "stream",
     "text": [
      "Загружаем модель...\n"
     ]
    },
    {
     "name": "stderr",
     "output_type": "stream",
     "text": [
      "Loading safetensors checkpoint shards:   0% Completed | 0/4 [00:00<?, ?it/s]\n",
      "Loading safetensors checkpoint shards:  25% Completed | 1/4 [00:00<00:00,  8.64it/s]\n",
      "Loading safetensors checkpoint shards:  50% Completed | 2/4 [00:00<00:00,  2.52it/s]\n",
      "Loading safetensors checkpoint shards:  75% Completed | 3/4 [00:01<00:00,  1.79it/s]\n",
      "Loading safetensors checkpoint shards: 100% Completed | 4/4 [00:02<00:00,  1.59it/s]\n",
      "Loading safetensors checkpoint shards: 100% Completed | 4/4 [00:02<00:00,  1.82it/s]\n",
      "\u001b[1;36m(VllmWorker rank=0 pid=1234717)\u001b[0;0m \n"
     ]
    },
    {
     "name": "stdout",
     "output_type": "stream",
     "text": [
      "Модель успешно загружена\n",
      "model_config {'model': '/data/home/vkropoti/models/Qwen3-8B', 'tensor_parallel_size': 2, 'max_model_len': 40000, 'max_new_tokens': 1500, 'temperature': 0, 'top_k': 1, 'top_p': 0.8, 'gpu_memory_utilization': 0.9, 'trust_remote_code': False, 'seed': 54}\n",
      "\n",
      "prompts_config {'path_dev_json': '/data/home/vkropoti/sql_data/dev_spider.json', 'path_sql_dbs': '/data/home/vkropoti/sql_data/data_bases_spider/', 'use_reasoning': False, 'paths_to_cot': ['/data/home/vkropoti/sql_llm_answers/spider_dev_m_schema/sql_predict_Qwen3-8B-reasoning-v0', '/data/home/vkropoti/sql_llm_answers/spider_dev_m_schema/sql_predict_Qwen3-8B-reasoning-v1', '/data/home/vkropoti/sql_llm_answers/spider_dev_m_schema/sql_predict_Qwen3-8B-reasoning-v2', '/data/home/vkropoti/sql_llm_answers/spider_dev_m_schema/sql_predict_Qwen3-8B-reasoning-v3', '/data/home/vkropoti/sql_llm_answers/spider_dev_m_schema/sql_predict_Qwen3-8B-reasoning-v4']}\n",
      "\n",
      "save_config {'path_sql_save': '/data/home/vkropoti/sql_llm_answers/spider_dev_m_schema/sql_all_Qwen3-8B-cot_predict_think==False_nobs5-v0', 'path_think_save': None, 'path_sql_answers_save': '/data/home/vkropoti/sql_llm_answers/spider_dev_m_schema/sql_predict_Qwen3-8B-cot_predict_think==False_nobs5-v0', 'path_to_save_scores': '/data/home/vkropoti/sql_llm_answers/spider_dev_m_schema/sql_results_Qwen3-8B-cot_predict_think==False_nobs5-v0', 'path_to_save_executed': '/data/home/vkropoti/sql_llm_answers/spider_dev_m_schema/sql_executed_Qwen3-8B-cot_predict_think==False_nobs5-v0'}\n",
      "\n",
      "Модель успешно загружена\n",
      "Пример промпта\n",
      "<|im_start|>system\n",
      "\n",
      "You are a data science expert. Below, you are provided with a database schema and a natural language question. Your task is to understand the schema and generate a valid SQL query to answer the question.\n",
      "\n",
      "Database Engine: SQLite\n",
      "\n",
      "You will be given an additional analysis of other models, please take it into account, so the plan is\n",
      "1. Analyse given addition analysis from other models (find in which analysis the same and differ, how to use that to answer question)\n",
      "2. Combine best from previous part and think how to solve the problem (analyze tables, take care what columns avaliable in each table and so on, check the syntacsis)\n",
      "3. Create the answers. The answer should be only sql query.\n",
      "\n",
      "Carefully follow the instruction and add <|im_end|> and the end of the final answer<|im_end|>\n",
      "<|im_start|>user\n",
      "Here is addition analysis from other models which can be helpfull, please take this into account but be careful (choose the best from each analysis, combine them to make the most proper answer):\n",
      "\n",
      "model 0 analysis:\n",
      " SELECT COUNT(*) FROM singer;\n",
      "\n",
      "model 1 analysis:\n",
      " SELECT COUNT(*) FROM singer;\n",
      "\n",
      "model 2 analysis:\n",
      " SELECT COUNT(Singer_ID) FROM singer;\n",
      "\n",
      "model 3 analysis:\n",
      " SELECT COUNT(*) FROM singer;\n",
      "\n",
      "model 4 analysis:\n",
      " SELECT COUNT(*) FROM singer;\n",
      "\n",
      "\n",
      "here is avaliable tables and their structure below\n",
      "【DB_ID】 concert_singer\n",
      "【Schema】\n",
      "# Table: concert\n",
      "[\n",
      "(concert_ID:INTEGER, Primary Key, Examples: [1, 2, 3]),\n",
      "(concert_Name:TEXT, Examples: [Auditions, Super bootcamp, Home Visits]),\n",
      "(Theme:TEXT, Examples: [Free choice, Free choice 2, Bleeding Love]),\n",
      "(Stadium_ID:TEXT, maps to stadium.Stadium_ID, Examples: [1, 2, 10]),\n",
      "(Year:TEXT, Examples: [2014, 2015, 2016])\n",
      "]\n",
      "# Table: singer\n",
      "[\n",
      "(Singer_ID:INTEGER, Primary Key, Examples: [1, 2, 3]),\n",
      "(Name:TEXT, Examples: [Joe Sharp, Timbaland, Justin Brown]),\n",
      "(Country:TEXT, Examples: [Netherlands, United States, France]),\n",
      "(Song_Name:TEXT, Examples: [You, Dangerous, Hey Oh]),\n",
      "(Song_release_year:TEXT, Examples: [1992, 2008, 2013]),\n",
      "(Age:INTEGER, Examples: [52, 32, 29]),\n",
      "(Is_male:BOOLEAN, Examples: [False, True])\n",
      "]\n",
      "# Table: singer_in_concert\n",
      "[\n",
      "(concert_ID:INTEGER, maps to concert.concert_ID, Primary Key, Examples: [1, 2, 3]),\n",
      "(Singer_ID:TEXT, maps to singer.Singer_ID, Primary Key, Examples: [2, 3, 5])\n",
      "]\n",
      "# Table: stadium\n",
      "[\n",
      "(Stadium_ID:INTEGER, Primary Key, Examples: [1, 2, 3]),\n",
      "(Location:TEXT, Examples: [Raith Rovers, Ayr United, East Fife]),\n",
      "(Name:TEXT, Examples: [Stark's Park, Somerset Park, Bayview Stadium]),\n",
      "(Capacity:INTEGER, Examples: [10104, 11998, 2000]),\n",
      "(Highest:INTEGER, Examples: [4812, 2363, 1980]),\n",
      "(Lowest:INTEGER, Examples: [1294, 1057, 533]),\n",
      "(Average:INTEGER, Examples: [2106, 1477, 864])\n",
      "]\n",
      "【Foreign keys】\n",
      "concert.Stadium_ID=stadium.Stadium_ID\n",
      "singer_in_concert.concert_ID=concert.concert_ID\n",
      "singer_in_concert.Singer_ID=singer.Singer_ID\n",
      "\n",
      "-- Using valid SQLite, answer the following questions for the tables provided above.\n",
      "-- How many singers do we have?\n",
      "\n",
      "\n",
      "\n",
      "Generate the SQLite for the above question after thinking step by step: \n",
      "\n",
      "\n",
      "Instructions:\n",
      "- Make sure you only output the information that is asked in the question. If the question asks for a specific column, make sure to only include that column in the SELECT clause, nothing more.\n",
      "- The generated query should return all of the information asked in the question without any missing or extra information.\n",
      "- Before generating the final SQL query, please think through the steps of how to write the query.\n",
      "- Do not misuse column names, keep them in quotes `\n",
      "- Carefully understand what colomns belond to what tables\n",
      "- Use only initial column names, change names prohibited\n",
      "        \n",
      "Output Format:\n",
      "In your answer, please enclose the generated SQL query in a code block:\n",
      "```\n",
      "-- Your SQL query\n",
      "```    \n",
      "and nothing else, no exaplains, no comments (asnwer should be less than 512 characters)\n",
      "\n",
      "Take a deep breath and think step by step to find the correct SQL query in SQLite format.\n",
      "\n",
      "Question repetition: How many singers do we have?\n",
      "\n",
      "Be care! Include only what i want it questiona and nothing else<|im_end|>\n",
      "<|im_start|>assistant\n",
      "<think>\n",
      "\n",
      "</think>\n",
      "\n",
      "\n",
      "\n",
      "\n",
      "Максимальное количество токенов в промптах: 2416\n",
      "\n",
      "начинаем скорринг\n",
      "Загружаем чаты с данными...\n",
      "Данные успешно загружены\n",
      "Начали генерацию SQL запросов\n"
     ]
    },
    {
     "name": "stderr",
     "output_type": "stream",
     "text": [
      "Processed prompts: 100%|██████████| 1076/1076 [00:25<00:00, 42.64it/s, est. speed input: 54250.47 toks/s, output: 1294.43 toks/s] "
     ]
    },
    {
     "name": "stdout",
     "output_type": "stream",
     "text": [
      "extract_think количество ошибок:  0\n",
      "extract_sql количество ошибок:  0\n",
      "Закончили генерацию SQL запросов\n",
      "Начали скорр полученных SQL запросов\n"
     ]
    },
    {
     "name": "stderr",
     "output_type": "stream",
     "text": [
      "\n"
     ]
    },
    {
     "name": "stdout",
     "output_type": "stream",
     "text": [
      "Qwen3-8B DEV Финальный результат EX: 73.05\n",
      "Qwen3-8B процент запросов, которые успешно выполнились DEV: 98.79%\n",
      "====================================================================================================\n",
      "\n",
      "\n",
      "Загружаем чаты с данными...\n",
      "Данные успешно загружены\n",
      "Начали генерацию SQL запросов\n"
     ]
    },
    {
     "name": "stderr",
     "output_type": "stream",
     "text": [
      "Processed prompts: 100%|██████████| 1076/1076 [00:25<00:00, 41.69it/s, est. speed input: 53607.37 toks/s, output: 1265.92 toks/s] "
     ]
    },
    {
     "name": "stdout",
     "output_type": "stream",
     "text": [
      "extract_think количество ошибок:  0\n",
      "extract_sql количество ошибок:  0\n",
      "Закончили генерацию SQL запросов\n",
      "Начали скорр полученных SQL запросов\n"
     ]
    },
    {
     "name": "stderr",
     "output_type": "stream",
     "text": [
      "\n"
     ]
    },
    {
     "name": "stdout",
     "output_type": "stream",
     "text": [
      "Qwen3-8B DEV Финальный результат EX: 73.51\n",
      "Qwen3-8B процент запросов, которые успешно выполнились DEV: 98.33%\n",
      "====================================================================================================\n",
      "\n",
      "\n",
      "Загружаем чаты с данными...\n",
      "Данные успешно загружены\n",
      "Начали генерацию SQL запросов\n"
     ]
    },
    {
     "name": "stderr",
     "output_type": "stream",
     "text": [
      "Processed prompts: 100%|██████████| 1076/1076 [00:25<00:00, 42.11it/s, est. speed input: 54141.38 toks/s, output: 1274.18 toks/s] "
     ]
    },
    {
     "name": "stdout",
     "output_type": "stream",
     "text": [
      "extract_think количество ошибок:  0\n",
      "extract_sql количество ошибок:  0\n",
      "Закончили генерацию SQL запросов\n",
      "Начали скорр полученных SQL запросов\n"
     ]
    },
    {
     "name": "stderr",
     "output_type": "stream",
     "text": [
      "\n"
     ]
    },
    {
     "name": "stdout",
     "output_type": "stream",
     "text": [
      "Qwen3-8B DEV Финальный результат EX: 73.33\n",
      "Qwen3-8B процент запросов, которые успешно выполнились DEV: 98.51%\n",
      "====================================================================================================\n",
      "\n",
      "\n",
      "Загружаем чаты с данными...\n",
      "Данные успешно загружены\n",
      "Начали генерацию SQL запросов\n"
     ]
    },
    {
     "name": "stderr",
     "output_type": "stream",
     "text": [
      "Processed prompts: 100%|██████████| 1076/1076 [00:25<00:00, 41.45it/s, est. speed input: 53307.10 toks/s, output: 1261.97 toks/s] "
     ]
    },
    {
     "name": "stdout",
     "output_type": "stream",
     "text": [
      "extract_think количество ошибок:  0\n",
      "extract_sql количество ошибок:  0\n",
      "Закончили генерацию SQL запросов\n",
      "Начали скорр полученных SQL запросов\n"
     ]
    },
    {
     "name": "stderr",
     "output_type": "stream",
     "text": [
      "\n"
     ]
    },
    {
     "name": "stdout",
     "output_type": "stream",
     "text": [
      "Qwen3-8B DEV Финальный результат EX: 74.26\n",
      "Qwen3-8B процент запросов, которые успешно выполнились DEV: 98.70%\n",
      "====================================================================================================\n",
      "\n",
      "\n",
      "Загружаем чаты с данными...\n",
      "Данные успешно загружены\n",
      "Начали генерацию SQL запросов\n"
     ]
    },
    {
     "name": "stderr",
     "output_type": "stream",
     "text": [
      "Processed prompts: 100%|██████████| 1076/1076 [00:25<00:00, 41.63it/s, est. speed input: 53530.75 toks/s, output: 1270.23 toks/s] "
     ]
    },
    {
     "name": "stdout",
     "output_type": "stream",
     "text": [
      "extract_think количество ошибок:  0\n",
      "extract_sql количество ошибок:  0\n",
      "Закончили генерацию SQL запросов\n",
      "Начали скорр полученных SQL запросов\n"
     ]
    },
    {
     "name": "stderr",
     "output_type": "stream",
     "text": [
      "\n"
     ]
    },
    {
     "name": "stdout",
     "output_type": "stream",
     "text": [
      "Qwen3-8B DEV Финальный результат EX: 73.61\n",
      "Qwen3-8B процент запросов, которые успешно выполнились DEV: 98.70%\n",
      "====================================================================================================\n",
      "\n",
      "\n",
      "Загружаем чаты с данными...\n",
      "Данные успешно загружены\n",
      "Начали генерацию SQL запросов\n"
     ]
    },
    {
     "name": "stderr",
     "output_type": "stream",
     "text": [
      "Processed prompts: 100%|██████████| 1076/1076 [00:25<00:00, 41.61it/s, est. speed input: 53489.37 toks/s, output: 1257.87 toks/s] "
     ]
    },
    {
     "name": "stdout",
     "output_type": "stream",
     "text": [
      "extract_think количество ошибок:  0\n",
      "extract_sql количество ошибок:  0\n",
      "Закончили генерацию SQL запросов\n",
      "Начали скорр полученных SQL запросов\n"
     ]
    },
    {
     "name": "stderr",
     "output_type": "stream",
     "text": [
      "\n"
     ]
    },
    {
     "name": "stdout",
     "output_type": "stream",
     "text": [
      "Qwen3-8B DEV Финальный результат EX: 73.42\n",
      "Qwen3-8B процент запросов, которые успешно выполнились DEV: 98.61%\n",
      "====================================================================================================\n",
      "\n",
      "\n",
      "Загружаем чаты с данными...\n",
      "Данные успешно загружены\n",
      "Начали генерацию SQL запросов\n"
     ]
    },
    {
     "name": "stderr",
     "output_type": "stream",
     "text": [
      "Processed prompts: 100%|██████████| 1076/1076 [00:25<00:00, 41.89it/s, est. speed input: 53285.52 toks/s, output: 1271.38 toks/s] "
     ]
    },
    {
     "name": "stdout",
     "output_type": "stream",
     "text": [
      "extract_think количество ошибок:  0\n",
      "extract_sql количество ошибок:  0\n",
      "Закончили генерацию SQL запросов\n",
      "Начали скорр полученных SQL запросов\n"
     ]
    },
    {
     "name": "stderr",
     "output_type": "stream",
     "text": [
      "\n"
     ]
    },
    {
     "name": "stdout",
     "output_type": "stream",
     "text": [
      "Qwen3-8B DEV Финальный результат EX: 73.98\n",
      "Qwen3-8B процент запросов, которые успешно выполнились DEV: 98.79%\n",
      "====================================================================================================\n",
      "\n",
      "\n",
      "Загружаем чаты с данными...\n",
      "Данные успешно загружены\n",
      "Начали генерацию SQL запросов\n"
     ]
    },
    {
     "name": "stderr",
     "output_type": "stream",
     "text": [
      "Processed prompts: 100%|██████████| 1076/1076 [00:25<00:00, 41.75it/s, est. speed input: 53125.82 toks/s, output: 1268.68 toks/s] "
     ]
    },
    {
     "name": "stdout",
     "output_type": "stream",
     "text": [
      "extract_think количество ошибок:  0\n",
      "extract_sql количество ошибок:  0\n",
      "Закончили генерацию SQL запросов\n",
      "Начали скорр полученных SQL запросов\n"
     ]
    },
    {
     "name": "stderr",
     "output_type": "stream",
     "text": [
      "\n"
     ]
    },
    {
     "name": "stdout",
     "output_type": "stream",
     "text": [
      "Qwen3-8B DEV Финальный результат EX: 74.35\n",
      "Qwen3-8B процент запросов, которые успешно выполнились DEV: 99.07%\n",
      "====================================================================================================\n",
      "\n",
      "\n",
      "Загружаем чаты с данными...\n",
      "Данные успешно загружены\n",
      "Начали генерацию SQL запросов\n"
     ]
    },
    {
     "name": "stderr",
     "output_type": "stream",
     "text": [
      "Processed prompts: 100%|██████████| 1076/1076 [00:25<00:00, 42.24it/s, est. speed input: 53742.73 toks/s, output: 1283.12 toks/s] "
     ]
    },
    {
     "name": "stdout",
     "output_type": "stream",
     "text": [
      "extract_think количество ошибок:  0\n",
      "extract_sql количество ошибок:  0\n",
      "Закончили генерацию SQL запросов\n",
      "Начали скорр полученных SQL запросов\n"
     ]
    },
    {
     "name": "stderr",
     "output_type": "stream",
     "text": [
      "\n"
     ]
    },
    {
     "name": "stdout",
     "output_type": "stream",
     "text": [
      "Qwen3-8B DEV Финальный результат EX: 73.79\n",
      "Qwen3-8B процент запросов, которые успешно выполнились DEV: 98.70%\n",
      "====================================================================================================\n",
      "\n",
      "\n",
      "Загружаем чаты с данными...\n",
      "Данные успешно загружены\n",
      "Начали генерацию SQL запросов\n"
     ]
    },
    {
     "name": "stderr",
     "output_type": "stream",
     "text": [
      "Processed prompts: 100%|██████████| 1076/1076 [00:25<00:00, 42.72it/s, est. speed input: 54349.10 toks/s, output: 1298.94 toks/s] "
     ]
    },
    {
     "name": "stdout",
     "output_type": "stream",
     "text": [
      "extract_think количество ошибок:  0\n",
      "extract_sql количество ошибок:  0\n",
      "Закончили генерацию SQL запросов\n",
      "Начали скорр полученных SQL запросов\n"
     ]
    },
    {
     "name": "stderr",
     "output_type": "stream",
     "text": [
      "\n"
     ]
    },
    {
     "name": "stdout",
     "output_type": "stream",
     "text": [
      "Qwen3-8B DEV Финальный результат EX: 74.35\n",
      "Qwen3-8B процент запросов, которые успешно выполнились DEV: 99.07%\n",
      "====================================================================================================\n",
      "\n",
      "\n",
      "Загружаем чаты с данными...\n",
      "Данные успешно загружены\n",
      "Начали генерацию SQL запросов\n"
     ]
    },
    {
     "name": "stderr",
     "output_type": "stream",
     "text": [
      "Processed prompts: 100%|██████████| 1076/1076 [00:25<00:00, 42.32it/s, est. speed input: 53828.56 toks/s, output: 1285.00 toks/s] "
     ]
    },
    {
     "name": "stdout",
     "output_type": "stream",
     "text": [
      "extract_think количество ошибок:  0\n",
      "extract_sql количество ошибок:  0\n",
      "Закончили генерацию SQL запросов\n",
      "Начали скорр полученных SQL запросов\n"
     ]
    },
    {
     "name": "stderr",
     "output_type": "stream",
     "text": [
      "\n"
     ]
    },
    {
     "name": "stdout",
     "output_type": "stream",
     "text": [
      "Qwen3-8B DEV Финальный результат EX: 73.98\n",
      "Qwen3-8B процент запросов, которые успешно выполнились DEV: 98.88%\n",
      "====================================================================================================\n",
      "\n",
      "\n",
      "Загружаем чаты с данными...\n",
      "Данные успешно загружены\n",
      "Начали генерацию SQL запросов\n"
     ]
    },
    {
     "name": "stderr",
     "output_type": "stream",
     "text": [
      "Processed prompts: 100%|██████████| 1076/1076 [00:25<00:00, 42.92it/s, est. speed input: 54587.35 toks/s, output: 1298.57 toks/s] "
     ]
    },
    {
     "name": "stdout",
     "output_type": "stream",
     "text": [
      "extract_think количество ошибок:  0\n",
      "extract_sql количество ошибок:  0\n",
      "Закончили генерацию SQL запросов\n",
      "Начали скорр полученных SQL запросов\n"
     ]
    },
    {
     "name": "stderr",
     "output_type": "stream",
     "text": [
      "\n"
     ]
    },
    {
     "name": "stdout",
     "output_type": "stream",
     "text": [
      "Qwen3-8B DEV Финальный результат EX: 74.07\n",
      "Qwen3-8B процент запросов, которые успешно выполнились DEV: 98.88%\n",
      "====================================================================================================\n",
      "\n",
      "\n",
      "Загружаем чаты с данными...\n",
      "Данные успешно загружены\n",
      "Начали генерацию SQL запросов\n"
     ]
    },
    {
     "name": "stderr",
     "output_type": "stream",
     "text": [
      "Processed prompts: 100%|██████████| 1076/1076 [00:25<00:00, 42.35it/s, est. speed input: 53849.84 toks/s, output: 1284.76 toks/s] "
     ]
    },
    {
     "name": "stdout",
     "output_type": "stream",
     "text": [
      "extract_think количество ошибок:  0\n",
      "extract_sql количество ошибок:  0\n",
      "Закончили генерацию SQL запросов\n",
      "Начали скорр полученных SQL запросов\n"
     ]
    },
    {
     "name": "stderr",
     "output_type": "stream",
     "text": [
      "\n"
     ]
    },
    {
     "name": "stdout",
     "output_type": "stream",
     "text": [
      "Qwen3-8B DEV Финальный результат EX: 74.63\n",
      "Qwen3-8B процент запросов, которые успешно выполнились DEV: 99.07%\n",
      "====================================================================================================\n",
      "\n",
      "\n",
      "Загружаем чаты с данными...\n",
      "Данные успешно загружены\n",
      "Начали генерацию SQL запросов\n"
     ]
    },
    {
     "name": "stderr",
     "output_type": "stream",
     "text": [
      "Processed prompts: 100%|██████████| 1076/1076 [00:25<00:00, 42.08it/s, est. speed input: 53495.54 toks/s, output: 1272.74 toks/s] "
     ]
    },
    {
     "name": "stdout",
     "output_type": "stream",
     "text": [
      "extract_think количество ошибок:  0\n",
      "extract_sql количество ошибок:  0\n",
      "Закончили генерацию SQL запросов\n",
      "Начали скорр полученных SQL запросов\n"
     ]
    },
    {
     "name": "stderr",
     "output_type": "stream",
     "text": [
      "\n"
     ]
    },
    {
     "name": "stdout",
     "output_type": "stream",
     "text": [
      "Qwen3-8B DEV Финальный результат EX: 73.98\n",
      "Qwen3-8B процент запросов, которые успешно выполнились DEV: 98.61%\n",
      "====================================================================================================\n",
      "\n",
      "\n",
      "Загружаем чаты с данными...\n",
      "Данные успешно загружены\n",
      "Начали генерацию SQL запросов\n"
     ]
    },
    {
     "name": "stderr",
     "output_type": "stream",
     "text": [
      "Processed prompts: 100%|██████████| 1076/1076 [00:25<00:00, 41.87it/s, est. speed input: 53234.76 toks/s, output: 1269.54 toks/s] "
     ]
    },
    {
     "name": "stdout",
     "output_type": "stream",
     "text": [
      "extract_think количество ошибок:  0\n",
      "extract_sql количество ошибок:  0\n",
      "Закончили генерацию SQL запросов\n",
      "Начали скорр полученных SQL запросов\n"
     ]
    },
    {
     "name": "stderr",
     "output_type": "stream",
     "text": [
      "\n"
     ]
    },
    {
     "name": "stdout",
     "output_type": "stream",
     "text": [
      "Qwen3-8B DEV Финальный результат EX: 74.54\n",
      "Qwen3-8B процент запросов, которые успешно выполнились DEV: 98.61%\n",
      "====================================================================================================\n",
      "\n",
      "\n",
      "Загружаем чаты с данными...\n",
      "Данные успешно загружены\n",
      "Начали генерацию SQL запросов\n"
     ]
    },
    {
     "name": "stderr",
     "output_type": "stream",
     "text": [
      "Processed prompts: 100%|██████████| 1076/1076 [00:25<00:00, 42.18it/s, est. speed input: 53640.48 toks/s, output: 1275.66 toks/s] "
     ]
    },
    {
     "name": "stdout",
     "output_type": "stream",
     "text": [
      "extract_think количество ошибок:  0\n",
      "extract_sql количество ошибок:  0\n",
      "Закончили генерацию SQL запросов\n",
      "Начали скорр полученных SQL запросов\n"
     ]
    },
    {
     "name": "stderr",
     "output_type": "stream",
     "text": [
      "\n"
     ]
    },
    {
     "name": "stdout",
     "output_type": "stream",
     "text": [
      "Qwen3-8B DEV Финальный результат EX: 73.88\n",
      "Qwen3-8B процент запросов, которые успешно выполнились DEV: 98.98%\n",
      "====================================================================================================\n",
      "\n",
      "\n",
      "Загружаем чаты с данными...\n",
      "Данные успешно загружены\n",
      "Начали генерацию SQL запросов\n"
     ]
    },
    {
     "name": "stderr",
     "output_type": "stream",
     "text": [
      "Processed prompts: 100%|██████████| 1076/1076 [00:25<00:00, 42.36it/s, est. speed input: 53872.01 toks/s, output: 1289.62 toks/s] "
     ]
    },
    {
     "name": "stdout",
     "output_type": "stream",
     "text": [
      "extract_think количество ошибок:  0\n",
      "extract_sql количество ошибок:  0\n",
      "Закончили генерацию SQL запросов\n",
      "Начали скорр полученных SQL запросов\n"
     ]
    },
    {
     "name": "stderr",
     "output_type": "stream",
     "text": [
      "\n"
     ]
    },
    {
     "name": "stdout",
     "output_type": "stream",
     "text": [
      "Qwen3-8B DEV Финальный результат EX: 73.79\n",
      "Qwen3-8B процент запросов, которые успешно выполнились DEV: 98.88%\n",
      "====================================================================================================\n",
      "\n",
      "\n",
      "Загружаем чаты с данными...\n",
      "Данные успешно загружены\n",
      "Начали генерацию SQL запросов\n"
     ]
    },
    {
     "name": "stderr",
     "output_type": "stream",
     "text": [
      "Processed prompts: 100%|██████████| 1076/1076 [00:25<00:00, 41.93it/s, est. speed input: 53320.34 toks/s, output: 1268.61 toks/s] "
     ]
    },
    {
     "name": "stdout",
     "output_type": "stream",
     "text": [
      "extract_think количество ошибок:  0\n",
      "extract_sql количество ошибок:  0\n",
      "Закончили генерацию SQL запросов\n",
      "Начали скорр полученных SQL запросов\n"
     ]
    },
    {
     "name": "stderr",
     "output_type": "stream",
     "text": [
      "\n"
     ]
    },
    {
     "name": "stdout",
     "output_type": "stream",
     "text": [
      "Qwen3-8B DEV Финальный результат EX: 73.70\n",
      "Qwen3-8B процент запросов, которые успешно выполнились DEV: 98.79%\n",
      "====================================================================================================\n",
      "\n",
      "\n",
      "Загружаем чаты с данными...\n",
      "Данные успешно загружены\n",
      "Начали генерацию SQL запросов\n"
     ]
    },
    {
     "name": "stderr",
     "output_type": "stream",
     "text": [
      "Processed prompts: 100%|██████████| 1076/1076 [00:25<00:00, 42.57it/s, est. speed input: 54135.79 toks/s, output: 1290.19 toks/s] "
     ]
    },
    {
     "name": "stdout",
     "output_type": "stream",
     "text": [
      "extract_think количество ошибок:  0\n",
      "extract_sql количество ошибок:  0\n",
      "Закончили генерацию SQL запросов\n",
      "Начали скорр полученных SQL запросов\n"
     ]
    },
    {
     "name": "stderr",
     "output_type": "stream",
     "text": [
      "\n"
     ]
    },
    {
     "name": "stdout",
     "output_type": "stream",
     "text": [
      "Qwen3-8B DEV Финальный результат EX: 73.61\n",
      "Qwen3-8B процент запросов, которые успешно выполнились DEV: 98.51%\n",
      "====================================================================================================\n",
      "\n",
      "\n",
      "Загружаем чаты с данными...\n",
      "Данные успешно загружены\n",
      "Начали генерацию SQL запросов\n"
     ]
    },
    {
     "name": "stderr",
     "output_type": "stream",
     "text": [
      "Processed prompts: 100%|██████████| 1076/1076 [00:25<00:00, 42.15it/s, est. speed input: 53607.22 toks/s, output: 1275.83 toks/s] "
     ]
    },
    {
     "name": "stdout",
     "output_type": "stream",
     "text": [
      "extract_think количество ошибок:  0\n",
      "extract_sql количество ошибок:  0\n",
      "Закончили генерацию SQL запросов\n",
      "Начали скорр полученных SQL запросов\n"
     ]
    },
    {
     "name": "stderr",
     "output_type": "stream",
     "text": [
      "\n"
     ]
    },
    {
     "name": "stdout",
     "output_type": "stream",
     "text": [
      "Qwen3-8B DEV Финальный результат EX: 73.05\n",
      "Qwen3-8B процент запросов, которые успешно выполнились DEV: 98.79%\n",
      "====================================================================================================\n",
      "\n",
      "\n"
     ]
    }
   ],
   "source": [
    "run_cot_experiment(model,arr_seeds,arr_versions, type_cot,num_observations=num_observations)"
   ]
  },
  {
   "cell_type": "markdown",
   "id": "c4dd2157-7279-458f-8a86-22686112bf5f",
   "metadata": {},
   "source": [
    "# part3: think"
   ]
  },
  {
   "cell_type": "code",
   "execution_count": 19,
   "id": "02febb85-1132-4b71-9ed8-e30241d01dc3",
   "metadata": {},
   "outputs": [
    {
     "name": "stdout",
     "output_type": "stream",
     "text": [
      "[416, 73, 408, 114, 203, 805, 920, 470, 51, 441, 591, 172, 772, 609, 558, 831, 310, 379, 243, 631]\n",
      "model: Qwen3-8B\n"
     ]
    }
   ],
   "source": [
    "n= 20\n",
    "arr_seeds = [random.randint(0,1000) for _ in range(n)]\n",
    "arr_versions = [x for x in range(n)]\n",
    "model = \"Qwen3-8B\"\n",
    "num_observations = 2\n",
    "type_cot = 'think'\n",
    "print(arr_seeds)\n",
    "print(f\"model: {model}\")"
   ]
  },
  {
   "cell_type": "code",
   "execution_count": 20,
   "id": "e9e60717-ffae-4f1f-8831-a4902529303e",
   "metadata": {
    "scrolled": true
   },
   "outputs": [
    {
     "name": "stdout",
     "output_type": "stream",
     "text": [
      "Загружаем модель...\n"
     ]
    },
    {
     "name": "stderr",
     "output_type": "stream",
     "text": [
      "Loading safetensors checkpoint shards:   0% Completed | 0/4 [00:00<?, ?it/s]\n",
      "Loading safetensors checkpoint shards:  25% Completed | 1/4 [00:00<00:00,  8.78it/s]\n",
      "Loading safetensors checkpoint shards:  50% Completed | 2/4 [00:00<00:00,  2.51it/s]\n",
      "Loading safetensors checkpoint shards:  75% Completed | 3/4 [00:01<00:00,  1.78it/s]\n",
      "Loading safetensors checkpoint shards: 100% Completed | 4/4 [00:02<00:00,  1.58it/s]\n",
      "Loading safetensors checkpoint shards: 100% Completed | 4/4 [00:02<00:00,  1.81it/s]\n",
      "\u001b[1;36m(VllmWorker rank=0 pid=1262303)\u001b[0;0m \n"
     ]
    },
    {
     "name": "stdout",
     "output_type": "stream",
     "text": [
      "Модель успешно загружена\n",
      "model_config {'model': '/data/home/vkropoti/models/Qwen3-8B', 'tensor_parallel_size': 2, 'max_model_len': 40000, 'max_new_tokens': 1500, 'temperature': 0, 'top_k': 1, 'top_p': 0.8, 'gpu_memory_utilization': 0.9, 'trust_remote_code': False, 'seed': 416}\n",
      "\n",
      "prompts_config {'path_dev_json': '/data/home/vkropoti/sql_data/dev_spider.json', 'path_sql_dbs': '/data/home/vkropoti/sql_data/data_bases_spider/', 'use_reasoning': False, 'paths_to_cot': ['/data/home/vkropoti/sql_llm_answers/spider_dev_m_schema/sql_think_Qwen3-8B-reasoning-v0', '/data/home/vkropoti/sql_llm_answers/spider_dev_m_schema/sql_think_Qwen3-8B-reasoning-v1']}\n",
      "\n",
      "save_config {'path_sql_save': '/data/home/vkropoti/sql_llm_answers/spider_dev_m_schema/sql_all_Qwen3-8B-cot_think_think==False_nobs2-v0', 'path_think_save': None, 'path_sql_answers_save': '/data/home/vkropoti/sql_llm_answers/spider_dev_m_schema/sql_predict_Qwen3-8B-cot_think_think==False_nobs2-v0', 'path_to_save_scores': '/data/home/vkropoti/sql_llm_answers/spider_dev_m_schema/sql_results_Qwen3-8B-cot_think_think==False_nobs2-v0', 'path_to_save_executed': '/data/home/vkropoti/sql_llm_answers/spider_dev_m_schema/sql_executed_Qwen3-8B-cot_think_think==False_nobs2-v0'}\n",
      "\n",
      "Модель успешно загружена\n",
      "Пример промпта\n",
      "<|im_start|>system\n",
      "\n",
      "You are a data science expert. Below, you are provided with a database schema and a natural language question. Your task is to understand the schema and generate a valid SQL query to answer the question.\n",
      "\n",
      "Database Engine: SQLite\n",
      "\n",
      "You will be given an additional analysis of other models, please take it into account, so the plan is\n",
      "1. Analyse given addition analysis from other models (find in which analysis the same and differ, how to use that to answer question)\n",
      "2. Combine best from previous part and think how to solve the problem (analyze tables, take care what columns avaliable in each table and so on, check the syntacsis)\n",
      "3. Create the answers. The answer should be only sql query.\n",
      "\n",
      "Carefully follow the instruction and add <|im_end|> and the end of the final answer<|im_end|>\n",
      "<|im_start|>user\n",
      "Here is addition analysis from other models which can be helpfull, please take this into account but be careful (choose the best from each analysis, combine them to make the most proper answer):\n",
      "\n",
      "model 0 analysis:\n",
      " Okay, let's tackle this question. The user is asking, \"How many singers do we have?\" So I need to find the total number of singers in the database.\n",
      "\n",
      "First, I should check the tables provided. The relevant table here is the 'singer' table. The 'singer' table has a column 'Singer_ID' which is the primary key. Since each singer is uniquely identified by their Singer_ID, counting the number of rows in this table should give the total number of singers.\n",
      "\n",
      "Wait, are there any other tables that might have singer information? Let me check. The other tables are concert, stadium, and singer_in_concert. The 'singer_in_concert' table links singers to concerts, but that's just a relationship table. The actual singer data is in the 'singer' table. So the answer should come from the 'singer' table.\n",
      "\n",
      "So the correct approach is to count all the rows in the 'singer' table. The SQL query for that would be SELECT COUNT(*) FROM singer. That should return the total number of singers. I don't need to join any other tables because the question is straightforward. There's no mention of filtering by any criteria like country or concert participation. So the query is simple.\n",
      "\n",
      "model 1 analysis:\n",
      " Okay, let's see. The user is asking how many singers we have. So I need to find the total number of singers in the database.\n",
      "\n",
      "Looking at the tables provided, there's a 'singer' table. The schema for that table includes columns like Singer_ID, Name, Country, etc. The Singer_ID is the primary key, which means each singer has a unique identifier. \n",
      "\n",
      "Since the question is about counting the number of singers, the most straightforward approach is to count the rows in the singer table. Each row represents a singer. So the SQL query should select the count of all rows from the singer table.\n",
      "\n",
      "I need to make sure I'm using the correct table name and column. The singer table has Singer_ID as the primary key, but the question doesn't require any specific column. The COUNT(*) function will count all records, which is exactly what the user wants.\n",
      "\n",
      "Wait, maybe I should check if there are any other tables that might have singer information. The other tables are concert, stadium, and singer_in_concert. But those tables are related to concerts and stadiums, not singers themselves. The singer_in_concert table links singers to concerts, but that's a many-to-many relationship. However, the actual singer data is in the singer table. So the count should come from the singer table.\n",
      "\n",
      "Therefore, the correct SQL query is SELECT COUNT(*) FROM singer;. That should give the total number of singers. I don't need to join any other tables because the question is simply about the number of singers, not their participation in concerts or other details.\n",
      "\n",
      "\n",
      "here is avaliable tables and their structure below\n",
      "【DB_ID】 concert_singer\n",
      "【Schema】\n",
      "# Table: concert\n",
      "[\n",
      "(concert_ID:INTEGER, Primary Key, Examples: [1, 2, 3]),\n",
      "(concert_Name:TEXT, Examples: [Auditions, Super bootcamp, Home Visits]),\n",
      "(Theme:TEXT, Examples: [Free choice, Free choice 2, Bleeding Love]),\n",
      "(Stadium_ID:TEXT, maps to stadium.Stadium_ID, Examples: [1, 2, 10]),\n",
      "(Year:TEXT, Examples: [2014, 2015, 2016])\n",
      "]\n",
      "# Table: singer\n",
      "[\n",
      "(Singer_ID:INTEGER, Primary Key, Examples: [1, 2, 3]),\n",
      "(Name:TEXT, Examples: [Joe Sharp, Timbaland, Justin Brown]),\n",
      "(Country:TEXT, Examples: [Netherlands, United States, France]),\n",
      "(Song_Name:TEXT, Examples: [You, Dangerous, Hey Oh]),\n",
      "(Song_release_year:TEXT, Examples: [1992, 2008, 2013]),\n",
      "(Age:INTEGER, Examples: [52, 32, 29]),\n",
      "(Is_male:BOOLEAN, Examples: [False, True])\n",
      "]\n",
      "# Table: singer_in_concert\n",
      "[\n",
      "(concert_ID:INTEGER, maps to concert.concert_ID, Primary Key, Examples: [1, 2, 3]),\n",
      "(Singer_ID:TEXT, maps to singer.Singer_ID, Primary Key, Examples: [2, 3, 5])\n",
      "]\n",
      "# Table: stadium\n",
      "[\n",
      "(Stadium_ID:INTEGER, Primary Key, Examples: [1, 2, 3]),\n",
      "(Location:TEXT, Examples: [Raith Rovers, Ayr United, East Fife]),\n",
      "(Name:TEXT, Examples: [Stark's Park, Somerset Park, Bayview Stadium]),\n",
      "(Capacity:INTEGER, Examples: [10104, 11998, 2000]),\n",
      "(Highest:INTEGER, Examples: [4812, 2363, 1980]),\n",
      "(Lowest:INTEGER, Examples: [1294, 1057, 533]),\n",
      "(Average:INTEGER, Examples: [2106, 1477, 864])\n",
      "]\n",
      "【Foreign keys】\n",
      "concert.Stadium_ID=stadium.Stadium_ID\n",
      "singer_in_concert.concert_ID=concert.concert_ID\n",
      "singer_in_concert.Singer_ID=singer.Singer_ID\n",
      "\n",
      "-- Using valid SQLite, answer the following questions for the tables provided above.\n",
      "-- How many singers do we have?\n",
      "\n",
      "\n",
      "\n",
      "Generate the SQLite for the above question after thinking step by step: \n",
      "\n",
      "\n",
      "Instructions:\n",
      "- Make sure you only output the information that is asked in the question. If the question asks for a specific column, make sure to only include that column in the SELECT clause, nothing more.\n",
      "- The generated query should return all of the information asked in the question without any missing or extra information.\n",
      "- Before generating the final SQL query, please think through the steps of how to write the query.\n",
      "- Do not misuse column names, keep them in quotes `\n",
      "- Carefully understand what colomns belond to what tables\n",
      "- Use only initial column names, change names prohibited\n",
      "        \n",
      "Output Format:\n",
      "In your answer, please enclose the generated SQL query in a code block:\n",
      "```\n",
      "-- Your SQL query\n",
      "```    \n",
      "and nothing else, no exaplains, no comments (asnwer should be less than 512 characters)\n",
      "\n",
      "Take a deep breath and think step by step to find the correct SQL query in SQLite format.\n",
      "\n",
      "Question repetition: How many singers do we have?\n",
      "\n",
      "Be care! Include only what i want it questiona and nothing else<|im_end|>\n",
      "<|im_start|>assistant\n",
      "<think>\n",
      "\n",
      "</think>\n",
      "\n",
      "\n",
      "\n",
      "\n",
      "Максимальное количество токенов в промптах: 9470\n",
      "\n",
      "начинаем скорринг\n",
      "Загружаем чаты с данными...\n",
      "Данные успешно загружены\n",
      "Начали генерацию SQL запросов\n"
     ]
    },
    {
     "name": "stderr",
     "output_type": "stream",
     "text": [
      "Processed prompts: 100%|██████████| 1076/1076 [00:55<00:00, 19.25it/s, est. speed input: 46522.64 toks/s, output: 583.29 toks/s] "
     ]
    },
    {
     "name": "stdout",
     "output_type": "stream",
     "text": [
      "extract_think количество ошибок:  0\n",
      "extract_sql количество ошибок:  0\n",
      "Закончили генерацию SQL запросов\n",
      "Начали скорр полученных SQL запросов\n"
     ]
    },
    {
     "name": "stderr",
     "output_type": "stream",
     "text": [
      "\n"
     ]
    },
    {
     "name": "stdout",
     "output_type": "stream",
     "text": [
      "Qwen3-8B DEV Финальный результат EX: 69.14\n",
      "Qwen3-8B процент запросов, которые успешно выполнились DEV: 98.51%\n",
      "====================================================================================================\n",
      "\n",
      "\n",
      "Загружаем чаты с данными...\n",
      "Данные успешно загружены\n",
      "Начали генерацию SQL запросов\n"
     ]
    },
    {
     "name": "stderr",
     "output_type": "stream",
     "text": [
      "Processed prompts: 100%|██████████| 1076/1076 [00:57<00:00, 18.68it/s, est. speed input: 46185.07 toks/s, output: 566.13 toks/s] "
     ]
    },
    {
     "name": "stdout",
     "output_type": "stream",
     "text": [
      "extract_think количество ошибок:  0\n",
      "extract_sql количество ошибок:  0\n",
      "Закончили генерацию SQL запросов\n",
      "Начали скорр полученных SQL запросов\n"
     ]
    },
    {
     "name": "stderr",
     "output_type": "stream",
     "text": [
      "\n"
     ]
    },
    {
     "name": "stdout",
     "output_type": "stream",
     "text": [
      "Qwen3-8B DEV Финальный результат EX: 70.54\n",
      "Qwen3-8B процент запросов, которые успешно выполнились DEV: 98.79%\n",
      "====================================================================================================\n",
      "\n",
      "\n",
      "Загружаем чаты с данными...\n",
      "Данные успешно загружены\n",
      "Начали генерацию SQL запросов\n"
     ]
    },
    {
     "name": "stderr",
     "output_type": "stream",
     "text": [
      "Processed prompts: 100%|██████████| 1076/1076 [00:58<00:00, 18.33it/s, est. speed input: 45962.24 toks/s, output: 557.92 toks/s] "
     ]
    },
    {
     "name": "stdout",
     "output_type": "stream",
     "text": [
      "extract_think количество ошибок:  0\n",
      "extract_sql количество ошибок:  0\n",
      "Закончили генерацию SQL запросов\n",
      "Начали скорр полученных SQL запросов\n"
     ]
    },
    {
     "name": "stderr",
     "output_type": "stream",
     "text": [
      "\n"
     ]
    },
    {
     "name": "stdout",
     "output_type": "stream",
     "text": [
      "Qwen3-8B DEV Финальный результат EX: 70.26\n",
      "Qwen3-8B процент запросов, которые успешно выполнились DEV: 99.16%\n",
      "====================================================================================================\n",
      "\n",
      "\n",
      "Загружаем чаты с данными...\n",
      "Данные успешно загружены\n",
      "Начали генерацию SQL запросов\n"
     ]
    },
    {
     "name": "stderr",
     "output_type": "stream",
     "text": [
      "Processed prompts: 100%|██████████| 1076/1076 [00:56<00:00, 18.92it/s, est. speed input: 46611.10 toks/s, output: 572.17 toks/s] "
     ]
    },
    {
     "name": "stdout",
     "output_type": "stream",
     "text": [
      "extract_think количество ошибок:  0\n",
      "extract_sql количество ошибок:  0\n",
      "Закончили генерацию SQL запросов\n",
      "Начали скорр полученных SQL запросов\n"
     ]
    },
    {
     "name": "stderr",
     "output_type": "stream",
     "text": [
      "\n"
     ]
    },
    {
     "name": "stdout",
     "output_type": "stream",
     "text": [
      "Qwen3-8B DEV Финальный результат EX: 70.45\n",
      "Qwen3-8B процент запросов, которые успешно выполнились DEV: 98.79%\n",
      "====================================================================================================\n",
      "\n",
      "\n",
      "Загружаем чаты с данными...\n",
      "Данные успешно загружены\n",
      "Начали генерацию SQL запросов\n"
     ]
    },
    {
     "name": "stderr",
     "output_type": "stream",
     "text": [
      "Processed prompts: 100%|██████████| 1076/1076 [00:56<00:00, 19.08it/s, est. speed input: 46259.34 toks/s, output: 571.76 toks/s] "
     ]
    },
    {
     "name": "stdout",
     "output_type": "stream",
     "text": [
      "extract_think количество ошибок:  0\n",
      "extract_sql количество ошибок:  0\n",
      "Закончили генерацию SQL запросов\n",
      "Начали скорр полученных SQL запросов\n"
     ]
    },
    {
     "name": "stderr",
     "output_type": "stream",
     "text": [
      "\n"
     ]
    },
    {
     "name": "stdout",
     "output_type": "stream",
     "text": [
      "Qwen3-8B DEV Финальный результат EX: 69.70\n",
      "Qwen3-8B процент запросов, которые успешно выполнились DEV: 98.51%\n",
      "====================================================================================================\n",
      "\n",
      "\n",
      "Загружаем чаты с данными...\n",
      "Данные успешно загружены\n",
      "Начали генерацию SQL запросов\n"
     ]
    },
    {
     "name": "stderr",
     "output_type": "stream",
     "text": [
      "Processed prompts: 100%|██████████| 1076/1076 [00:56<00:00, 19.14it/s, est. speed input: 46471.04 toks/s, output: 576.83 toks/s] "
     ]
    },
    {
     "name": "stdout",
     "output_type": "stream",
     "text": [
      "extract_think количество ошибок:  0\n",
      "extract_sql количество ошибок:  0\n",
      "Закончили генерацию SQL запросов\n",
      "Начали скорр полученных SQL запросов\n"
     ]
    },
    {
     "name": "stderr",
     "output_type": "stream",
     "text": [
      "\n"
     ]
    },
    {
     "name": "stdout",
     "output_type": "stream",
     "text": [
      "Qwen3-8B DEV Финальный результат EX: 70.82\n",
      "Qwen3-8B процент запросов, которые успешно выполнились DEV: 99.26%\n",
      "====================================================================================================\n",
      "\n",
      "\n",
      "Загружаем чаты с данными...\n",
      "Данные успешно загружены\n",
      "Начали генерацию SQL запросов\n"
     ]
    },
    {
     "name": "stderr",
     "output_type": "stream",
     "text": [
      "Processed prompts: 100%|██████████| 1076/1076 [00:58<00:00, 18.53it/s, est. speed input: 46031.11 toks/s, output: 561.72 toks/s] "
     ]
    },
    {
     "name": "stdout",
     "output_type": "stream",
     "text": [
      "extract_think количество ошибок:  0\n",
      "extract_sql количество ошибок:  0\n",
      "Закончили генерацию SQL запросов\n",
      "Начали скорр полученных SQL запросов\n"
     ]
    },
    {
     "name": "stderr",
     "output_type": "stream",
     "text": [
      "\n"
     ]
    },
    {
     "name": "stdout",
     "output_type": "stream",
     "text": [
      "Qwen3-8B DEV Финальный результат EX: 69.24\n",
      "Qwen3-8B процент запросов, которые успешно выполнились DEV: 98.70%\n",
      "====================================================================================================\n",
      "\n",
      "\n",
      "Загружаем чаты с данными...\n",
      "Данные успешно загружены\n",
      "Начали генерацию SQL запросов\n"
     ]
    },
    {
     "name": "stderr",
     "output_type": "stream",
     "text": [
      "Processed prompts: 100%|██████████| 1076/1076 [00:59<00:00, 18.15it/s, est. speed input: 45283.55 toks/s, output: 550.40 toks/s] "
     ]
    },
    {
     "name": "stdout",
     "output_type": "stream",
     "text": [
      "extract_think количество ошибок:  0\n",
      "extract_sql количество ошибок:  0\n",
      "Закончили генерацию SQL запросов\n",
      "Начали скорр полученных SQL запросов\n"
     ]
    },
    {
     "name": "stderr",
     "output_type": "stream",
     "text": [
      "\n"
     ]
    },
    {
     "name": "stdout",
     "output_type": "stream",
     "text": [
      "Qwen3-8B DEV Финальный результат EX: 69.24\n",
      "Qwen3-8B процент запросов, которые успешно выполнились DEV: 98.51%\n",
      "====================================================================================================\n",
      "\n",
      "\n",
      "Загружаем чаты с данными...\n",
      "Данные успешно загружены\n",
      "Начали генерацию SQL запросов\n"
     ]
    },
    {
     "name": "stderr",
     "output_type": "stream",
     "text": [
      "Processed prompts: 100%|██████████| 1076/1076 [00:56<00:00, 19.03it/s, est. speed input: 46279.27 toks/s, output: 577.67 toks/s] "
     ]
    },
    {
     "name": "stdout",
     "output_type": "stream",
     "text": [
      "extract_think количество ошибок:  0\n",
      "extract_sql количество ошибок:  0\n",
      "Закончили генерацию SQL запросов\n",
      "Начали скорр полученных SQL запросов\n"
     ]
    },
    {
     "name": "stderr",
     "output_type": "stream",
     "text": [
      "\n"
     ]
    },
    {
     "name": "stdout",
     "output_type": "stream",
     "text": [
      "Qwen3-8B DEV Финальный результат EX: 70.35\n",
      "Qwen3-8B процент запросов, которые успешно выполнились DEV: 98.79%\n",
      "====================================================================================================\n",
      "\n",
      "\n",
      "Загружаем чаты с данными...\n",
      "Данные успешно загружены\n",
      "Начали генерацию SQL запросов\n"
     ]
    },
    {
     "name": "stderr",
     "output_type": "stream",
     "text": [
      "Processed prompts: 100%|██████████| 1076/1076 [01:00<00:00, 17.92it/s, est. speed input: 45574.47 toks/s, output: 543.37 toks/s] "
     ]
    },
    {
     "name": "stdout",
     "output_type": "stream",
     "text": [
      "extract_think количество ошибок:  0\n",
      "extract_sql количество ошибок:  0\n",
      "Закончили генерацию SQL запросов\n",
      "Начали скорр полученных SQL запросов\n"
     ]
    },
    {
     "name": "stderr",
     "output_type": "stream",
     "text": [
      "\n"
     ]
    },
    {
     "name": "stdout",
     "output_type": "stream",
     "text": [
      "Qwen3-8B DEV Финальный результат EX: 70.07\n",
      "Qwen3-8B процент запросов, которые успешно выполнились DEV: 98.79%\n",
      "====================================================================================================\n",
      "\n",
      "\n",
      "Загружаем чаты с данными...\n",
      "Данные успешно загружены\n",
      "Начали генерацию SQL запросов\n"
     ]
    },
    {
     "name": "stderr",
     "output_type": "stream",
     "text": [
      "Processed prompts: 100%|██████████| 1076/1076 [00:59<00:00, 17.95it/s, est. speed input: 46060.72 toks/s, output: 541.16 toks/s] "
     ]
    },
    {
     "name": "stdout",
     "output_type": "stream",
     "text": [
      "extract_think количество ошибок:  0\n",
      "extract_sql количество ошибок:  0\n",
      "Закончили генерацию SQL запросов\n",
      "Начали скорр полученных SQL запросов\n"
     ]
    },
    {
     "name": "stderr",
     "output_type": "stream",
     "text": [
      "\n"
     ]
    },
    {
     "name": "stdout",
     "output_type": "stream",
     "text": [
      "Qwen3-8B DEV Финальный результат EX: 70.82\n",
      "Qwen3-8B процент запросов, которые успешно выполнились DEV: 98.70%\n",
      "====================================================================================================\n",
      "\n",
      "\n",
      "Загружаем чаты с данными...\n",
      "Данные успешно загружены\n",
      "Начали генерацию SQL запросов\n"
     ]
    },
    {
     "name": "stderr",
     "output_type": "stream",
     "text": [
      "Processed prompts: 100%|██████████| 1076/1076 [00:57<00:00, 18.81it/s, est. speed input: 46277.16 toks/s, output: 572.13 toks/s] "
     ]
    },
    {
     "name": "stdout",
     "output_type": "stream",
     "text": [
      "extract_think количество ошибок:  0\n",
      "extract_sql количество ошибок:  0\n",
      "Закончили генерацию SQL запросов\n",
      "Начали скорр полученных SQL запросов\n"
     ]
    },
    {
     "name": "stderr",
     "output_type": "stream",
     "text": [
      "\n"
     ]
    },
    {
     "name": "stdout",
     "output_type": "stream",
     "text": [
      "Qwen3-8B DEV Финальный результат EX: 69.70\n",
      "Qwen3-8B процент запросов, которые успешно выполнились DEV: 98.88%\n",
      "====================================================================================================\n",
      "\n",
      "\n",
      "Загружаем чаты с данными...\n",
      "Данные успешно загружены\n",
      "Начали генерацию SQL запросов\n"
     ]
    },
    {
     "name": "stderr",
     "output_type": "stream",
     "text": [
      "Processed prompts: 100%|██████████| 1076/1076 [00:56<00:00, 19.03it/s, est. speed input: 45932.73 toks/s, output: 574.67 toks/s] "
     ]
    },
    {
     "name": "stdout",
     "output_type": "stream",
     "text": [
      "extract_think количество ошибок:  0\n",
      "extract_sql количество ошибок:  0\n",
      "Закончили генерацию SQL запросов\n",
      "Начали скорр полученных SQL запросов\n"
     ]
    },
    {
     "name": "stderr",
     "output_type": "stream",
     "text": [
      "\n"
     ]
    },
    {
     "name": "stdout",
     "output_type": "stream",
     "text": [
      "Qwen3-8B DEV Финальный результат EX: 69.98\n",
      "Qwen3-8B процент запросов, которые успешно выполнились DEV: 98.88%\n",
      "====================================================================================================\n",
      "\n",
      "\n",
      "Загружаем чаты с данными...\n",
      "Данные успешно загружены\n",
      "Начали генерацию SQL запросов\n"
     ]
    },
    {
     "name": "stderr",
     "output_type": "stream",
     "text": [
      "Processed prompts: 100%|██████████| 1076/1076 [00:56<00:00, 19.00it/s, est. speed input: 46231.67 toks/s, output: 570.30 toks/s] "
     ]
    },
    {
     "name": "stdout",
     "output_type": "stream",
     "text": [
      "extract_think количество ошибок:  0\n",
      "extract_sql количество ошибок:  0\n",
      "Закончили генерацию SQL запросов\n",
      "Начали скорр полученных SQL запросов\n"
     ]
    },
    {
     "name": "stderr",
     "output_type": "stream",
     "text": [
      "\n"
     ]
    },
    {
     "name": "stdout",
     "output_type": "stream",
     "text": [
      "Qwen3-8B DEV Финальный результат EX: 71.28\n",
      "Qwen3-8B процент запросов, которые успешно выполнились DEV: 99.07%\n",
      "====================================================================================================\n",
      "\n",
      "\n",
      "Загружаем чаты с данными...\n",
      "Данные успешно загружены\n",
      "Начали генерацию SQL запросов\n"
     ]
    },
    {
     "name": "stderr",
     "output_type": "stream",
     "text": [
      "Processed prompts: 100%|██████████| 1076/1076 [00:59<00:00, 18.23it/s, est. speed input: 45721.42 toks/s, output: 543.81 toks/s] "
     ]
    },
    {
     "name": "stdout",
     "output_type": "stream",
     "text": [
      "extract_think количество ошибок:  0\n",
      "extract_sql количество ошибок:  0\n",
      "Закончили генерацию SQL запросов\n",
      "Начали скорр полученных SQL запросов\n"
     ]
    },
    {
     "name": "stderr",
     "output_type": "stream",
     "text": [
      "\n"
     ]
    },
    {
     "name": "stdout",
     "output_type": "stream",
     "text": [
      "Qwen3-8B DEV Финальный результат EX: 70.54\n",
      "Qwen3-8B процент запросов, которые успешно выполнились DEV: 98.79%\n",
      "====================================================================================================\n",
      "\n",
      "\n",
      "Загружаем чаты с данными...\n",
      "Данные успешно загружены\n",
      "Начали генерацию SQL запросов\n"
     ]
    },
    {
     "name": "stderr",
     "output_type": "stream",
     "text": [
      "Processed prompts: 100%|██████████| 1076/1076 [00:58<00:00, 18.53it/s, est. speed input: 45827.60 toks/s, output: 560.73 toks/s] "
     ]
    },
    {
     "name": "stdout",
     "output_type": "stream",
     "text": [
      "extract_think количество ошибок:  0\n",
      "extract_sql количество ошибок:  0\n",
      "Закончили генерацию SQL запросов\n",
      "Начали скорр полученных SQL запросов\n"
     ]
    },
    {
     "name": "stderr",
     "output_type": "stream",
     "text": [
      "\n"
     ]
    },
    {
     "name": "stdout",
     "output_type": "stream",
     "text": [
      "Qwen3-8B DEV Финальный результат EX: 70.72\n",
      "Qwen3-8B процент запросов, которые успешно выполнились DEV: 98.79%\n",
      "====================================================================================================\n",
      "\n",
      "\n",
      "Загружаем чаты с данными...\n",
      "Данные успешно загружены\n",
      "Начали генерацию SQL запросов\n"
     ]
    },
    {
     "name": "stderr",
     "output_type": "stream",
     "text": [
      "Processed prompts: 100%|██████████| 1076/1076 [00:57<00:00, 18.78it/s, est. speed input: 45923.72 toks/s, output: 566.51 toks/s] "
     ]
    },
    {
     "name": "stdout",
     "output_type": "stream",
     "text": [
      "extract_think количество ошибок:  0\n",
      "extract_sql количество ошибок:  0\n",
      "Закончили генерацию SQL запросов\n",
      "Начали скорр полученных SQL запросов\n"
     ]
    },
    {
     "name": "stderr",
     "output_type": "stream",
     "text": [
      "\n"
     ]
    },
    {
     "name": "stdout",
     "output_type": "stream",
     "text": [
      "Qwen3-8B DEV Финальный результат EX: 69.98\n",
      "Qwen3-8B процент запросов, которые успешно выполнились DEV: 98.98%\n",
      "====================================================================================================\n",
      "\n",
      "\n",
      "Загружаем чаты с данными...\n",
      "Данные успешно загружены\n",
      "Начали генерацию SQL запросов\n"
     ]
    },
    {
     "name": "stderr",
     "output_type": "stream",
     "text": [
      "Processed prompts: 100%|██████████| 1076/1076 [00:57<00:00, 18.76it/s, est. speed input: 46461.25 toks/s, output: 567.05 toks/s] "
     ]
    },
    {
     "name": "stdout",
     "output_type": "stream",
     "text": [
      "extract_think количество ошибок:  0\n",
      "extract_sql количество ошибок:  0\n",
      "Закончили генерацию SQL запросов\n",
      "Начали скорр полученных SQL запросов\n"
     ]
    },
    {
     "name": "stderr",
     "output_type": "stream",
     "text": [
      "\n"
     ]
    },
    {
     "name": "stdout",
     "output_type": "stream",
     "text": [
      "Qwen3-8B DEV Финальный результат EX: 69.61\n",
      "Qwen3-8B процент запросов, которые успешно выполнились DEV: 98.70%\n",
      "====================================================================================================\n",
      "\n",
      "\n",
      "Загружаем чаты с данными...\n",
      "Данные успешно загружены\n",
      "Начали генерацию SQL запросов\n"
     ]
    },
    {
     "name": "stderr",
     "output_type": "stream",
     "text": [
      "Processed prompts: 100%|██████████| 1076/1076 [00:57<00:00, 18.71it/s, est. speed input: 46533.44 toks/s, output: 560.77 toks/s] "
     ]
    },
    {
     "name": "stdout",
     "output_type": "stream",
     "text": [
      "extract_think количество ошибок:  0\n",
      "extract_sql количество ошибок:  0\n",
      "Закончили генерацию SQL запросов\n",
      "Начали скорр полученных SQL запросов\n"
     ]
    },
    {
     "name": "stderr",
     "output_type": "stream",
     "text": [
      "\n"
     ]
    },
    {
     "name": "stdout",
     "output_type": "stream",
     "text": [
      "Qwen3-8B DEV Финальный результат EX: 71.19\n",
      "Qwen3-8B процент запросов, которые успешно выполнились DEV: 99.16%\n",
      "====================================================================================================\n",
      "\n",
      "\n",
      "Загружаем чаты с данными...\n",
      "Данные успешно загружены\n",
      "Начали генерацию SQL запросов\n"
     ]
    },
    {
     "name": "stderr",
     "output_type": "stream",
     "text": [
      "Processed prompts: 100%|██████████| 1076/1076 [00:56<00:00, 18.98it/s, est. speed input: 46332.10 toks/s, output: 574.19 toks/s] "
     ]
    },
    {
     "name": "stdout",
     "output_type": "stream",
     "text": [
      "extract_think количество ошибок:  0\n",
      "extract_sql количество ошибок:  0\n",
      "Закончили генерацию SQL запросов\n",
      "Начали скорр полученных SQL запросов\n"
     ]
    },
    {
     "name": "stderr",
     "output_type": "stream",
     "text": [
      "\n"
     ]
    },
    {
     "name": "stdout",
     "output_type": "stream",
     "text": [
      "Qwen3-8B DEV Финальный результат EX: 68.77\n",
      "Qwen3-8B процент запросов, которые успешно выполнились DEV: 99.35%\n",
      "====================================================================================================\n",
      "\n",
      "\n"
     ]
    }
   ],
   "source": [
    "run_cot_experiment(model,arr_seeds,arr_versions, type_cot,num_observations=num_observations)"
   ]
  },
  {
   "cell_type": "code",
   "execution_count": 21,
   "id": "a20fe4f1-be38-4f30-b534-5959cc12deea",
   "metadata": {},
   "outputs": [
    {
     "name": "stdout",
     "output_type": "stream",
     "text": [
      "[354, 790, 673, 239, 74, 792, 870, 90, 64, 576, 583, 528, 392, 216, 448, 527, 709, 748, 649, 440]\n",
      "model: Qwen3-8B\n"
     ]
    }
   ],
   "source": [
    "n= 20\n",
    "arr_seeds = [random.randint(0,1000) for _ in range(n)]\n",
    "arr_versions = [x for x in range(n)]\n",
    "model = \"Qwen3-8B\"\n",
    "num_observations = 3\n",
    "type_cot = 'think'\n",
    "print(arr_seeds)\n",
    "print(f\"model: {model}\")"
   ]
  },
  {
   "cell_type": "code",
   "execution_count": 22,
   "id": "61d9bd8d-dd04-4a14-a288-585190158702",
   "metadata": {
    "scrolled": true
   },
   "outputs": [
    {
     "name": "stdout",
     "output_type": "stream",
     "text": [
      "Загружаем модель...\n"
     ]
    },
    {
     "name": "stderr",
     "output_type": "stream",
     "text": [
      "Loading safetensors checkpoint shards:   0% Completed | 0/4 [00:00<?, ?it/s]\n",
      "Loading safetensors checkpoint shards:  25% Completed | 1/4 [00:00<00:00,  8.73it/s]\n",
      "Loading safetensors checkpoint shards:  50% Completed | 2/4 [00:00<00:00,  2.54it/s]\n",
      "Loading safetensors checkpoint shards:  75% Completed | 3/4 [00:01<00:00,  1.80it/s]\n",
      "Loading safetensors checkpoint shards: 100% Completed | 4/4 [00:02<00:00,  1.60it/s]\n",
      "Loading safetensors checkpoint shards: 100% Completed | 4/4 [00:02<00:00,  1.83it/s]\n",
      "\u001b[1;36m(VllmWorker rank=0 pid=1299471)\u001b[0;0m \n"
     ]
    },
    {
     "name": "stdout",
     "output_type": "stream",
     "text": [
      "Модель успешно загружена\n",
      "model_config {'model': '/data/home/vkropoti/models/Qwen3-8B', 'tensor_parallel_size': 2, 'max_model_len': 40000, 'max_new_tokens': 1500, 'temperature': 0, 'top_k': 1, 'top_p': 0.8, 'gpu_memory_utilization': 0.9, 'trust_remote_code': False, 'seed': 354}\n",
      "\n",
      "prompts_config {'path_dev_json': '/data/home/vkropoti/sql_data/dev_spider.json', 'path_sql_dbs': '/data/home/vkropoti/sql_data/data_bases_spider/', 'use_reasoning': False, 'paths_to_cot': ['/data/home/vkropoti/sql_llm_answers/spider_dev_m_schema/sql_think_Qwen3-8B-reasoning-v0', '/data/home/vkropoti/sql_llm_answers/spider_dev_m_schema/sql_think_Qwen3-8B-reasoning-v1', '/data/home/vkropoti/sql_llm_answers/spider_dev_m_schema/sql_think_Qwen3-8B-reasoning-v2']}\n",
      "\n",
      "save_config {'path_sql_save': '/data/home/vkropoti/sql_llm_answers/spider_dev_m_schema/sql_all_Qwen3-8B-cot_think_think==False_nobs3-v0', 'path_think_save': None, 'path_sql_answers_save': '/data/home/vkropoti/sql_llm_answers/spider_dev_m_schema/sql_predict_Qwen3-8B-cot_think_think==False_nobs3-v0', 'path_to_save_scores': '/data/home/vkropoti/sql_llm_answers/spider_dev_m_schema/sql_results_Qwen3-8B-cot_think_think==False_nobs3-v0', 'path_to_save_executed': '/data/home/vkropoti/sql_llm_answers/spider_dev_m_schema/sql_executed_Qwen3-8B-cot_think_think==False_nobs3-v0'}\n",
      "\n",
      "Модель успешно загружена\n",
      "Пример промпта\n",
      "<|im_start|>system\n",
      "\n",
      "You are a data science expert. Below, you are provided with a database schema and a natural language question. Your task is to understand the schema and generate a valid SQL query to answer the question.\n",
      "\n",
      "Database Engine: SQLite\n",
      "\n",
      "You will be given an additional analysis of other models, please take it into account, so the plan is\n",
      "1. Analyse given addition analysis from other models (find in which analysis the same and differ, how to use that to answer question)\n",
      "2. Combine best from previous part and think how to solve the problem (analyze tables, take care what columns avaliable in each table and so on, check the syntacsis)\n",
      "3. Create the answers. The answer should be only sql query.\n",
      "\n",
      "Carefully follow the instruction and add <|im_end|> and the end of the final answer<|im_end|>\n",
      "<|im_start|>user\n",
      "Here is addition analysis from other models which can be helpfull, please take this into account but be careful (choose the best from each analysis, combine them to make the most proper answer):\n",
      "\n",
      "model 0 analysis:\n",
      " Okay, let's tackle this question. The user is asking, \"How many singers do we have?\" So I need to find the total number of singers in the database.\n",
      "\n",
      "First, I should check the tables provided. The relevant table here is the 'singer' table. The 'singer' table has a column 'Singer_ID' which is the primary key. Since each singer is uniquely identified by their Singer_ID, counting the number of rows in this table should give the total number of singers.\n",
      "\n",
      "Wait, are there any other tables that might have singer information? Let me check. The other tables are concert, stadium, and singer_in_concert. The 'singer_in_concert' table links singers to concerts, but that's just a relationship table. The actual singer data is in the 'singer' table. So the answer should come from the 'singer' table.\n",
      "\n",
      "So the correct approach is to count all the rows in the 'singer' table. The SQL query for that would be SELECT COUNT(*) FROM singer. That should return the total number of singers. I don't need to join any other tables because the question is straightforward. There's no mention of filtering by any criteria like country or concert participation. So the query is simple.\n",
      "\n",
      "model 1 analysis:\n",
      " Okay, let's see. The user is asking how many singers we have. So I need to find the total number of singers in the database.\n",
      "\n",
      "Looking at the tables provided, there's a 'singer' table. The schema for that table includes columns like Singer_ID, Name, Country, etc. The Singer_ID is the primary key, which means each singer has a unique identifier. \n",
      "\n",
      "Since the question is about counting the number of singers, the most straightforward approach is to count the rows in the singer table. Each row represents a singer. So the SQL query should select the count of all rows from the singer table.\n",
      "\n",
      "I need to make sure I'm using the correct table name and column. The singer table has Singer_ID as the primary key, but the question doesn't require any specific column. The COUNT(*) function will count all records, which is exactly what the user wants.\n",
      "\n",
      "Wait, maybe I should check if there are any other tables that might have singer information. The other tables are concert, stadium, and singer_in_concert. But those tables are related to concerts and stadiums, not singers themselves. The singer_in_concert table links singers to concerts, but that's a many-to-many relationship. However, the actual singer data is in the singer table. So the count should come from the singer table.\n",
      "\n",
      "Therefore, the correct SQL query is SELECT COUNT(*) FROM singer;. That should give the total number of singers. I don't need to join any other tables because the question is simply about the number of singers, not their participation in concerts or other details.\n",
      "\n",
      "model 2 analysis:\n",
      " Okay, let's see. The user is asking how many singers there are in total. So I need to find the count of singers from the singer table.\n",
      "\n",
      "First, I should check the tables available. The singer table has columns like Singer_ID, Name, Country, etc. The primary key is Singer_ID, which means each singer has a unique ID. To get the total number of singers, I should count the number of rows in the singer table.\n",
      "\n",
      "The correct approach is to use the COUNT() function on the Singer_ID column. Since Singer_ID is the primary key, it's guaranteed to be unique and non-null. So, selecting COUNT(Singer_ID) from the singer table should give the exact number of singers.\n",
      "\n",
      "I don't need to join any other tables because the question is purely about the singer table. There's no mention of concerts or stadiums here. So the SQL query should be straightforward: SELECT COUNT(Singer_ID) FROM singer. That's all. No need for additional conditions or joins. Just count the rows in the singer table.\n",
      "\n",
      "\n",
      "here is avaliable tables and their structure below\n",
      "【DB_ID】 concert_singer\n",
      "【Schema】\n",
      "# Table: concert\n",
      "[\n",
      "(concert_ID:INTEGER, Primary Key, Examples: [1, 2, 3]),\n",
      "(concert_Name:TEXT, Examples: [Auditions, Super bootcamp, Home Visits]),\n",
      "(Theme:TEXT, Examples: [Free choice, Free choice 2, Bleeding Love]),\n",
      "(Stadium_ID:TEXT, maps to stadium.Stadium_ID, Examples: [1, 2, 10]),\n",
      "(Year:TEXT, Examples: [2014, 2015, 2016])\n",
      "]\n",
      "# Table: singer\n",
      "[\n",
      "(Singer_ID:INTEGER, Primary Key, Examples: [1, 2, 3]),\n",
      "(Name:TEXT, Examples: [Joe Sharp, Timbaland, Justin Brown]),\n",
      "(Country:TEXT, Examples: [Netherlands, United States, France]),\n",
      "(Song_Name:TEXT, Examples: [You, Dangerous, Hey Oh]),\n",
      "(Song_release_year:TEXT, Examples: [1992, 2008, 2013]),\n",
      "(Age:INTEGER, Examples: [52, 32, 29]),\n",
      "(Is_male:BOOLEAN, Examples: [False, True])\n",
      "]\n",
      "# Table: singer_in_concert\n",
      "[\n",
      "(concert_ID:INTEGER, maps to concert.concert_ID, Primary Key, Examples: [1, 2, 3]),\n",
      "(Singer_ID:TEXT, maps to singer.Singer_ID, Primary Key, Examples: [2, 3, 5])\n",
      "]\n",
      "# Table: stadium\n",
      "[\n",
      "(Stadium_ID:INTEGER, Primary Key, Examples: [1, 2, 3]),\n",
      "(Location:TEXT, Examples: [Raith Rovers, Ayr United, East Fife]),\n",
      "(Name:TEXT, Examples: [Stark's Park, Somerset Park, Bayview Stadium]),\n",
      "(Capacity:INTEGER, Examples: [10104, 11998, 2000]),\n",
      "(Highest:INTEGER, Examples: [4812, 2363, 1980]),\n",
      "(Lowest:INTEGER, Examples: [1294, 1057, 533]),\n",
      "(Average:INTEGER, Examples: [2106, 1477, 864])\n",
      "]\n",
      "【Foreign keys】\n",
      "concert.Stadium_ID=stadium.Stadium_ID\n",
      "singer_in_concert.concert_ID=concert.concert_ID\n",
      "singer_in_concert.Singer_ID=singer.Singer_ID\n",
      "\n",
      "-- Using valid SQLite, answer the following questions for the tables provided above.\n",
      "-- How many singers do we have?\n",
      "\n",
      "\n",
      "\n",
      "Generate the SQLite for the above question after thinking step by step: \n",
      "\n",
      "\n",
      "Instructions:\n",
      "- Make sure you only output the information that is asked in the question. If the question asks for a specific column, make sure to only include that column in the SELECT clause, nothing more.\n",
      "- The generated query should return all of the information asked in the question without any missing or extra information.\n",
      "- Before generating the final SQL query, please think through the steps of how to write the query.\n",
      "- Do not misuse column names, keep them in quotes `\n",
      "- Carefully understand what colomns belond to what tables\n",
      "- Use only initial column names, change names prohibited\n",
      "        \n",
      "Output Format:\n",
      "In your answer, please enclose the generated SQL query in a code block:\n",
      "```\n",
      "-- Your SQL query\n",
      "```    \n",
      "and nothing else, no exaplains, no comments (asnwer should be less than 512 characters)\n",
      "\n",
      "Take a deep breath and think step by step to find the correct SQL query in SQLite format.\n",
      "\n",
      "Question repetition: How many singers do we have?\n",
      "\n",
      "Be care! Include only what i want it questiona and nothing else<|im_end|>\n",
      "<|im_start|>assistant\n",
      "<think>\n",
      "\n",
      "</think>\n",
      "\n",
      "\n",
      "\n",
      "\n",
      "Максимальное количество токенов в промптах: 14115\n",
      "\n",
      "начинаем скорринг\n",
      "Загружаем чаты с данными...\n",
      "Данные успешно загружены\n",
      "Начали генерацию SQL запросов\n"
     ]
    },
    {
     "name": "stderr",
     "output_type": "stream",
     "text": [
      "Processed prompts: 100%|██████████| 1076/1076 [01:14<00:00, 14.47it/s, est. speed input: 45025.61 toks/s, output: 435.79 toks/s] "
     ]
    },
    {
     "name": "stdout",
     "output_type": "stream",
     "text": [
      "extract_think количество ошибок:  0\n",
      "extract_sql количество ошибок:  0\n",
      "Закончили генерацию SQL запросов\n",
      "Начали скорр полученных SQL запросов\n"
     ]
    },
    {
     "name": "stderr",
     "output_type": "stream",
     "text": [
      "\n"
     ]
    },
    {
     "name": "stdout",
     "output_type": "stream",
     "text": [
      "Qwen3-8B DEV Финальный результат EX: 71.84\n",
      "Qwen3-8B процент запросов, которые успешно выполнились DEV: 98.98%\n",
      "====================================================================================================\n",
      "\n",
      "\n",
      "Загружаем чаты с данными...\n",
      "Данные успешно загружены\n",
      "Начали генерацию SQL запросов\n"
     ]
    },
    {
     "name": "stderr",
     "output_type": "stream",
     "text": [
      "Processed prompts: 100%|██████████| 1076/1076 [01:16<00:00, 14.03it/s, est. speed input: 44523.03 toks/s, output: 427.47 toks/s] "
     ]
    },
    {
     "name": "stdout",
     "output_type": "stream",
     "text": [
      "extract_think количество ошибок:  0\n",
      "extract_sql количество ошибок:  0\n",
      "Закончили генерацию SQL запросов\n",
      "Начали скорр полученных SQL запросов\n"
     ]
    },
    {
     "name": "stderr",
     "output_type": "stream",
     "text": [
      "\n"
     ]
    },
    {
     "name": "stdout",
     "output_type": "stream",
     "text": [
      "Qwen3-8B DEV Финальный результат EX: 71.65\n",
      "Qwen3-8B процент запросов, которые успешно выполнились DEV: 98.88%\n",
      "====================================================================================================\n",
      "\n",
      "\n",
      "Загружаем чаты с данными...\n",
      "Данные успешно загружены\n",
      "Начали генерацию SQL запросов\n"
     ]
    },
    {
     "name": "stderr",
     "output_type": "stream",
     "text": [
      "Processed prompts: 100%|██████████| 1076/1076 [01:15<00:00, 14.27it/s, est. speed input: 45036.53 toks/s, output: 433.51 toks/s] "
     ]
    },
    {
     "name": "stdout",
     "output_type": "stream",
     "text": [
      "extract_think количество ошибок:  0\n",
      "extract_sql количество ошибок:  0\n",
      "Закончили генерацию SQL запросов\n",
      "Начали скорр полученных SQL запросов\n"
     ]
    },
    {
     "name": "stderr",
     "output_type": "stream",
     "text": [
      "\n"
     ]
    },
    {
     "name": "stdout",
     "output_type": "stream",
     "text": [
      "Qwen3-8B DEV Финальный результат EX: 70.82\n",
      "Qwen3-8B процент запросов, которые успешно выполнились DEV: 98.79%\n",
      "====================================================================================================\n",
      "\n",
      "\n",
      "Загружаем чаты с данными...\n",
      "Данные успешно загружены\n",
      "Начали генерацию SQL запросов\n"
     ]
    },
    {
     "name": "stderr",
     "output_type": "stream",
     "text": [
      "Processed prompts: 100%|██████████| 1076/1076 [01:14<00:00, 14.47it/s, est. speed input: 45217.13 toks/s, output: 434.55 toks/s] "
     ]
    },
    {
     "name": "stdout",
     "output_type": "stream",
     "text": [
      "extract_think количество ошибок:  0\n",
      "extract_sql количество ошибок:  0\n",
      "Закончили генерацию SQL запросов\n",
      "Начали скорр полученных SQL запросов\n"
     ]
    },
    {
     "name": "stderr",
     "output_type": "stream",
     "text": [
      "\n"
     ]
    },
    {
     "name": "stdout",
     "output_type": "stream",
     "text": [
      "Qwen3-8B DEV Финальный результат EX: 72.03\n",
      "Qwen3-8B процент запросов, которые успешно выполнились DEV: 98.70%\n",
      "====================================================================================================\n",
      "\n",
      "\n",
      "Загружаем чаты с данными...\n",
      "Данные успешно загружены\n",
      "Начали генерацию SQL запросов\n"
     ]
    },
    {
     "name": "stderr",
     "output_type": "stream",
     "text": [
      "Processed prompts: 100%|██████████| 1076/1076 [01:13<00:00, 14.60it/s, est. speed input: 44926.05 toks/s, output: 441.28 toks/s] "
     ]
    },
    {
     "name": "stdout",
     "output_type": "stream",
     "text": [
      "extract_think количество ошибок:  0\n",
      "extract_sql количество ошибок:  0\n",
      "Закончили генерацию SQL запросов\n",
      "Начали скорр полученных SQL запросов\n"
     ]
    },
    {
     "name": "stderr",
     "output_type": "stream",
     "text": [
      "\n"
     ]
    },
    {
     "name": "stdout",
     "output_type": "stream",
     "text": [
      "Qwen3-8B DEV Финальный результат EX: 71.38\n",
      "Qwen3-8B процент запросов, которые успешно выполнились DEV: 98.79%\n",
      "====================================================================================================\n",
      "\n",
      "\n",
      "Загружаем чаты с данными...\n",
      "Данные успешно загружены\n",
      "Начали генерацию SQL запросов\n"
     ]
    },
    {
     "name": "stderr",
     "output_type": "stream",
     "text": [
      "Processed prompts: 100%|██████████| 1076/1076 [01:15<00:00, 14.16it/s, est. speed input: 44563.85 toks/s, output: 427.38 toks/s] "
     ]
    },
    {
     "name": "stdout",
     "output_type": "stream",
     "text": [
      "extract_think количество ошибок:  0\n",
      "extract_sql количество ошибок:  0\n",
      "Закончили генерацию SQL запросов\n",
      "Начали скорр полученных SQL запросов\n"
     ]
    },
    {
     "name": "stderr",
     "output_type": "stream",
     "text": [
      "\n"
     ]
    },
    {
     "name": "stdout",
     "output_type": "stream",
     "text": [
      "Qwen3-8B DEV Финальный результат EX: 71.38\n",
      "Qwen3-8B процент запросов, которые успешно выполнились DEV: 98.98%\n",
      "====================================================================================================\n",
      "\n",
      "\n",
      "Загружаем чаты с данными...\n",
      "Данные успешно загружены\n",
      "Начали генерацию SQL запросов\n"
     ]
    },
    {
     "name": "stderr",
     "output_type": "stream",
     "text": [
      "Processed prompts: 100%|██████████| 1076/1076 [01:14<00:00, 14.35it/s, est. speed input: 45142.76 toks/s, output: 432.64 toks/s] "
     ]
    },
    {
     "name": "stdout",
     "output_type": "stream",
     "text": [
      "extract_think количество ошибок:  0\n",
      "extract_sql количество ошибок:  0\n",
      "Закончили генерацию SQL запросов\n",
      "Начали скорр полученных SQL запросов\n"
     ]
    },
    {
     "name": "stderr",
     "output_type": "stream",
     "text": [
      "\n"
     ]
    },
    {
     "name": "stdout",
     "output_type": "stream",
     "text": [
      "Qwen3-8B DEV Финальный результат EX: 71.19\n",
      "Qwen3-8B процент запросов, которые успешно выполнились DEV: 98.61%\n",
      "====================================================================================================\n",
      "\n",
      "\n",
      "Загружаем чаты с данными...\n",
      "Данные успешно загружены\n",
      "Начали генерацию SQL запросов\n"
     ]
    },
    {
     "name": "stderr",
     "output_type": "stream",
     "text": [
      "Processed prompts: 100%|██████████| 1076/1076 [01:15<00:00, 14.24it/s, est. speed input: 44873.94 toks/s, output: 430.66 toks/s] "
     ]
    },
    {
     "name": "stdout",
     "output_type": "stream",
     "text": [
      "extract_think количество ошибок:  0\n",
      "extract_sql количество ошибок:  0\n",
      "Закончили генерацию SQL запросов\n",
      "Начали скорр полученных SQL запросов\n"
     ]
    },
    {
     "name": "stderr",
     "output_type": "stream",
     "text": [
      "\n"
     ]
    },
    {
     "name": "stdout",
     "output_type": "stream",
     "text": [
      "Qwen3-8B DEV Финальный результат EX: 72.03\n",
      "Qwen3-8B процент запросов, которые успешно выполнились DEV: 99.07%\n",
      "====================================================================================================\n",
      "\n",
      "\n",
      "Загружаем чаты с данными...\n",
      "Данные успешно загружены\n",
      "Начали генерацию SQL запросов\n"
     ]
    },
    {
     "name": "stderr",
     "output_type": "stream",
     "text": [
      "Processed prompts: 100%|██████████| 1076/1076 [01:17<00:00, 13.96it/s, est. speed input: 44750.96 toks/s, output: 421.07 toks/s] "
     ]
    },
    {
     "name": "stdout",
     "output_type": "stream",
     "text": [
      "extract_think количество ошибок:  0\n",
      "extract_sql количество ошибок:  0\n",
      "Закончили генерацию SQL запросов\n",
      "Начали скорр полученных SQL запросов\n"
     ]
    },
    {
     "name": "stderr",
     "output_type": "stream",
     "text": [
      "\n"
     ]
    },
    {
     "name": "stdout",
     "output_type": "stream",
     "text": [
      "Qwen3-8B DEV Финальный результат EX: 72.40\n",
      "Qwen3-8B процент запросов, которые успешно выполнились DEV: 98.61%\n",
      "====================================================================================================\n",
      "\n",
      "\n",
      "Загружаем чаты с данными...\n",
      "Данные успешно загружены\n",
      "Начали генерацию SQL запросов\n"
     ]
    },
    {
     "name": "stderr",
     "output_type": "stream",
     "text": [
      "Processed prompts: 100%|██████████| 1076/1076 [01:17<00:00, 13.88it/s, est. speed input: 44721.20 toks/s, output: 421.09 toks/s] "
     ]
    },
    {
     "name": "stdout",
     "output_type": "stream",
     "text": [
      "extract_think количество ошибок:  0\n",
      "extract_sql количество ошибок:  0\n",
      "Закончили генерацию SQL запросов\n",
      "Начали скорр полученных SQL запросов\n"
     ]
    },
    {
     "name": "stderr",
     "output_type": "stream",
     "text": [
      "\n"
     ]
    },
    {
     "name": "stdout",
     "output_type": "stream",
     "text": [
      "Qwen3-8B DEV Финальный результат EX: 72.21\n",
      "Qwen3-8B процент запросов, которые успешно выполнились DEV: 98.70%\n",
      "====================================================================================================\n",
      "\n",
      "\n",
      "Загружаем чаты с данными...\n",
      "Данные успешно загружены\n",
      "Начали генерацию SQL запросов\n"
     ]
    },
    {
     "name": "stderr",
     "output_type": "stream",
     "text": [
      "Processed prompts: 100%|██████████| 1076/1076 [01:17<00:00, 13.87it/s, est. speed input: 44860.22 toks/s, output: 423.70 toks/s] "
     ]
    },
    {
     "name": "stdout",
     "output_type": "stream",
     "text": [
      "extract_think количество ошибок:  0\n",
      "extract_sql количество ошибок:  0\n",
      "Закончили генерацию SQL запросов\n",
      "Начали скорр полученных SQL запросов\n"
     ]
    },
    {
     "name": "stderr",
     "output_type": "stream",
     "text": [
      "\n"
     ]
    },
    {
     "name": "stdout",
     "output_type": "stream",
     "text": [
      "Qwen3-8B DEV Финальный результат EX: 72.40\n",
      "Qwen3-8B процент запросов, которые успешно выполнились DEV: 98.79%\n",
      "====================================================================================================\n",
      "\n",
      "\n",
      "Загружаем чаты с данными...\n",
      "Данные успешно загружены\n",
      "Начали генерацию SQL запросов\n"
     ]
    },
    {
     "name": "stderr",
     "output_type": "stream",
     "text": [
      "Processed prompts: 100%|██████████| 1076/1076 [01:14<00:00, 14.42it/s, est. speed input: 44622.42 toks/s, output: 436.99 toks/s] "
     ]
    },
    {
     "name": "stdout",
     "output_type": "stream",
     "text": [
      "extract_think количество ошибок:  0\n",
      "extract_sql количество ошибок:  0\n",
      "Закончили генерацию SQL запросов\n",
      "Начали скорр полученных SQL запросов\n"
     ]
    },
    {
     "name": "stderr",
     "output_type": "stream",
     "text": [
      "\n"
     ]
    },
    {
     "name": "stdout",
     "output_type": "stream",
     "text": [
      "Qwen3-8B DEV Финальный результат EX: 72.03\n",
      "Qwen3-8B процент запросов, которые успешно выполнились DEV: 99.07%\n",
      "====================================================================================================\n",
      "\n",
      "\n",
      "Загружаем чаты с данными...\n",
      "Данные успешно загружены\n",
      "Начали генерацию SQL запросов\n"
     ]
    },
    {
     "name": "stderr",
     "output_type": "stream",
     "text": [
      "Processed prompts: 100%|██████████| 1076/1076 [01:15<00:00, 14.34it/s, est. speed input: 44462.29 toks/s, output: 434.14 toks/s] "
     ]
    },
    {
     "name": "stdout",
     "output_type": "stream",
     "text": [
      "extract_think количество ошибок:  0\n",
      "extract_sql количество ошибок:  0\n",
      "Закончили генерацию SQL запросов\n",
      "Начали скорр полученных SQL запросов\n"
     ]
    },
    {
     "name": "stderr",
     "output_type": "stream",
     "text": [
      "\n"
     ]
    },
    {
     "name": "stdout",
     "output_type": "stream",
     "text": [
      "Qwen3-8B DEV Финальный результат EX: 72.40\n",
      "Qwen3-8B процент запросов, которые успешно выполнились DEV: 98.70%\n",
      "====================================================================================================\n",
      "\n",
      "\n",
      "Загружаем чаты с данными...\n",
      "Данные успешно загружены\n",
      "Начали генерацию SQL запросов\n"
     ]
    },
    {
     "name": "stderr",
     "output_type": "stream",
     "text": [
      "Processed prompts: 100%|██████████| 1076/1076 [01:15<00:00, 14.25it/s, est. speed input: 44750.32 toks/s, output: 429.72 toks/s] "
     ]
    },
    {
     "name": "stdout",
     "output_type": "stream",
     "text": [
      "extract_think количество ошибок:  0\n",
      "extract_sql количество ошибок:  0\n",
      "Закончили генерацию SQL запросов\n",
      "Начали скорр полученных SQL запросов\n"
     ]
    },
    {
     "name": "stderr",
     "output_type": "stream",
     "text": [
      "\n"
     ]
    },
    {
     "name": "stdout",
     "output_type": "stream",
     "text": [
      "Qwen3-8B DEV Финальный результат EX: 72.03\n",
      "Qwen3-8B процент запросов, которые успешно выполнились DEV: 98.88%\n",
      "====================================================================================================\n",
      "\n",
      "\n",
      "Загружаем чаты с данными...\n",
      "Данные успешно загружены\n",
      "Начали генерацию SQL запросов\n"
     ]
    },
    {
     "name": "stderr",
     "output_type": "stream",
     "text": [
      "Processed prompts: 100%|██████████| 1076/1076 [01:16<00:00, 14.14it/s, est. speed input: 44701.59 toks/s, output: 426.94 toks/s] "
     ]
    },
    {
     "name": "stdout",
     "output_type": "stream",
     "text": [
      "extract_think количество ошибок:  0\n",
      "extract_sql количество ошибок:  0\n",
      "Закончили генерацию SQL запросов\n",
      "Начали скорр полученных SQL запросов\n"
     ]
    },
    {
     "name": "stderr",
     "output_type": "stream",
     "text": [
      "\n"
     ]
    },
    {
     "name": "stdout",
     "output_type": "stream",
     "text": [
      "Qwen3-8B DEV Финальный результат EX: 72.03\n",
      "Qwen3-8B процент запросов, которые успешно выполнились DEV: 98.79%\n",
      "====================================================================================================\n",
      "\n",
      "\n",
      "Загружаем чаты с данными...\n",
      "Данные успешно загружены\n",
      "Начали генерацию SQL запросов\n"
     ]
    },
    {
     "name": "stderr",
     "output_type": "stream",
     "text": [
      "Processed prompts: 100%|██████████| 1076/1076 [01:15<00:00, 14.27it/s, est. speed input: 44978.97 toks/s, output: 431.43 toks/s] "
     ]
    },
    {
     "name": "stdout",
     "output_type": "stream",
     "text": [
      "extract_think количество ошибок:  0\n",
      "extract_sql количество ошибок:  0\n",
      "Закончили генерацию SQL запросов\n",
      "Начали скорр полученных SQL запросов\n"
     ]
    },
    {
     "name": "stderr",
     "output_type": "stream",
     "text": [
      "\n"
     ]
    },
    {
     "name": "stdout",
     "output_type": "stream",
     "text": [
      "Qwen3-8B DEV Финальный результат EX: 72.03\n",
      "Qwen3-8B процент запросов, которые успешно выполнились DEV: 98.98%\n",
      "====================================================================================================\n",
      "\n",
      "\n",
      "Загружаем чаты с данными...\n",
      "Данные успешно загружены\n",
      "Начали генерацию SQL запросов\n"
     ]
    },
    {
     "name": "stderr",
     "output_type": "stream",
     "text": [
      "Processed prompts: 100%|██████████| 1076/1076 [01:15<00:00, 14.29it/s, est. speed input: 44714.40 toks/s, output: 433.44 toks/s] "
     ]
    },
    {
     "name": "stdout",
     "output_type": "stream",
     "text": [
      "extract_think количество ошибок:  0\n",
      "extract_sql количество ошибок:  0\n",
      "Закончили генерацию SQL запросов\n",
      "Начали скорр полученных SQL запросов\n"
     ]
    },
    {
     "name": "stderr",
     "output_type": "stream",
     "text": [
      "\n"
     ]
    },
    {
     "name": "stdout",
     "output_type": "stream",
     "text": [
      "Qwen3-8B DEV Финальный результат EX: 72.49\n",
      "Qwen3-8B процент запросов, которые успешно выполнились DEV: 98.79%\n",
      "====================================================================================================\n",
      "\n",
      "\n",
      "Загружаем чаты с данными...\n",
      "Данные успешно загружены\n",
      "Начали генерацию SQL запросов\n"
     ]
    },
    {
     "name": "stderr",
     "output_type": "stream",
     "text": [
      "Processed prompts: 100%|██████████| 1076/1076 [01:16<00:00, 14.11it/s, est. speed input: 44667.96 toks/s, output: 425.24 toks/s] "
     ]
    },
    {
     "name": "stdout",
     "output_type": "stream",
     "text": [
      "extract_think количество ошибок:  0\n",
      "extract_sql количество ошибок:  0\n",
      "Закончили генерацию SQL запросов\n",
      "Начали скорр полученных SQL запросов\n"
     ]
    },
    {
     "name": "stderr",
     "output_type": "stream",
     "text": [
      "\n"
     ]
    },
    {
     "name": "stdout",
     "output_type": "stream",
     "text": [
      "Qwen3-8B DEV Финальный результат EX: 72.30\n",
      "Qwen3-8B процент запросов, которые успешно выполнились DEV: 99.16%\n",
      "====================================================================================================\n",
      "\n",
      "\n",
      "Загружаем чаты с данными...\n",
      "Данные успешно загружены\n",
      "Начали генерацию SQL запросов\n"
     ]
    },
    {
     "name": "stderr",
     "output_type": "stream",
     "text": [
      "Processed prompts: 100%|██████████| 1076/1076 [01:15<00:00, 14.30it/s, est. speed input: 44679.80 toks/s, output: 432.61 toks/s] "
     ]
    },
    {
     "name": "stdout",
     "output_type": "stream",
     "text": [
      "extract_think количество ошибок:  0\n",
      "extract_sql количество ошибок:  0\n",
      "Закончили генерацию SQL запросов\n",
      "Начали скорр полученных SQL запросов\n"
     ]
    },
    {
     "name": "stderr",
     "output_type": "stream",
     "text": [
      "\n"
     ]
    },
    {
     "name": "stdout",
     "output_type": "stream",
     "text": [
      "Qwen3-8B DEV Финальный результат EX: 72.68\n",
      "Qwen3-8B процент запросов, которые успешно выполнились DEV: 99.26%\n",
      "====================================================================================================\n",
      "\n",
      "\n",
      "Загружаем чаты с данными...\n",
      "Данные успешно загружены\n",
      "Начали генерацию SQL запросов\n"
     ]
    },
    {
     "name": "stderr",
     "output_type": "stream",
     "text": [
      "Processed prompts: 100%|██████████| 1076/1076 [01:14<00:00, 14.49it/s, est. speed input: 45011.58 toks/s, output: 438.22 toks/s] "
     ]
    },
    {
     "name": "stdout",
     "output_type": "stream",
     "text": [
      "extract_think количество ошибок:  0\n",
      "extract_sql количество ошибок:  0\n",
      "Закончили генерацию SQL запросов\n",
      "Начали скорр полученных SQL запросов\n"
     ]
    },
    {
     "name": "stderr",
     "output_type": "stream",
     "text": [
      "\n"
     ]
    },
    {
     "name": "stdout",
     "output_type": "stream",
     "text": [
      "Qwen3-8B DEV Финальный результат EX: 71.93\n",
      "Qwen3-8B процент запросов, которые успешно выполнились DEV: 98.88%\n",
      "====================================================================================================\n",
      "\n",
      "\n"
     ]
    }
   ],
   "source": [
    "run_cot_experiment(model,arr_seeds,arr_versions, type_cot,num_observations=num_observations)"
   ]
  },
  {
   "cell_type": "code",
   "execution_count": 23,
   "id": "91935ea9-35a9-44aa-9e58-6390439df74f",
   "metadata": {},
   "outputs": [
    {
     "name": "stdout",
     "output_type": "stream",
     "text": [
      "[870, 641, 276, 436, 250, 350, 39, 612, 852, 487, 734, 713, 284, 755, 678, 820, 839, 735, 637, 150]\n",
      "model: Qwen3-8B\n"
     ]
    }
   ],
   "source": [
    "n= 20\n",
    "arr_seeds = [random.randint(0,1000) for _ in range(n)]\n",
    "arr_versions = [x for x in range(n)]\n",
    "model = \"Qwen3-8B\"\n",
    "num_observations = 4\n",
    "type_cot = 'think'\n",
    "print(arr_seeds)\n",
    "print(f\"model: {model}\")"
   ]
  },
  {
   "cell_type": "code",
   "execution_count": 24,
   "id": "a29f1083-de0f-4092-8479-ac68ef1c2d4a",
   "metadata": {
    "scrolled": true
   },
   "outputs": [
    {
     "name": "stdout",
     "output_type": "stream",
     "text": [
      "Загружаем модель...\n"
     ]
    },
    {
     "name": "stderr",
     "output_type": "stream",
     "text": [
      "Loading safetensors checkpoint shards:   0% Completed | 0/4 [00:00<?, ?it/s]\n",
      "Loading safetensors checkpoint shards:  25% Completed | 1/4 [00:00<00:00,  8.54it/s]\n",
      "Loading safetensors checkpoint shards:  50% Completed | 2/4 [00:00<00:00,  2.54it/s]\n",
      "Loading safetensors checkpoint shards:  75% Completed | 3/4 [00:01<00:00,  1.82it/s]\n",
      "Loading safetensors checkpoint shards: 100% Completed | 4/4 [00:02<00:00,  1.60it/s]\n",
      "Loading safetensors checkpoint shards: 100% Completed | 4/4 [00:02<00:00,  1.83it/s]\n",
      "\u001b[1;36m(VllmWorker rank=0 pid=1363824)\u001b[0;0m \n"
     ]
    },
    {
     "name": "stdout",
     "output_type": "stream",
     "text": [
      "Модель успешно загружена\n",
      "model_config {'model': '/data/home/vkropoti/models/Qwen3-8B', 'tensor_parallel_size': 2, 'max_model_len': 40000, 'max_new_tokens': 1500, 'temperature': 0, 'top_k': 1, 'top_p': 0.8, 'gpu_memory_utilization': 0.9, 'trust_remote_code': False, 'seed': 870}\n",
      "\n",
      "prompts_config {'path_dev_json': '/data/home/vkropoti/sql_data/dev_spider.json', 'path_sql_dbs': '/data/home/vkropoti/sql_data/data_bases_spider/', 'use_reasoning': False, 'paths_to_cot': ['/data/home/vkropoti/sql_llm_answers/spider_dev_m_schema/sql_think_Qwen3-8B-reasoning-v0', '/data/home/vkropoti/sql_llm_answers/spider_dev_m_schema/sql_think_Qwen3-8B-reasoning-v1', '/data/home/vkropoti/sql_llm_answers/spider_dev_m_schema/sql_think_Qwen3-8B-reasoning-v2', '/data/home/vkropoti/sql_llm_answers/spider_dev_m_schema/sql_think_Qwen3-8B-reasoning-v3']}\n",
      "\n",
      "save_config {'path_sql_save': '/data/home/vkropoti/sql_llm_answers/spider_dev_m_schema/sql_all_Qwen3-8B-cot_think_think==False_nobs4-v0', 'path_think_save': None, 'path_sql_answers_save': '/data/home/vkropoti/sql_llm_answers/spider_dev_m_schema/sql_predict_Qwen3-8B-cot_think_think==False_nobs4-v0', 'path_to_save_scores': '/data/home/vkropoti/sql_llm_answers/spider_dev_m_schema/sql_results_Qwen3-8B-cot_think_think==False_nobs4-v0', 'path_to_save_executed': '/data/home/vkropoti/sql_llm_answers/spider_dev_m_schema/sql_executed_Qwen3-8B-cot_think_think==False_nobs4-v0'}\n",
      "\n",
      "Модель успешно загружена\n",
      "Пример промпта\n",
      "<|im_start|>system\n",
      "\n",
      "You are a data science expert. Below, you are provided with a database schema and a natural language question. Your task is to understand the schema and generate a valid SQL query to answer the question.\n",
      "\n",
      "Database Engine: SQLite\n",
      "\n",
      "You will be given an additional analysis of other models, please take it into account, so the plan is\n",
      "1. Analyse given addition analysis from other models (find in which analysis the same and differ, how to use that to answer question)\n",
      "2. Combine best from previous part and think how to solve the problem (analyze tables, take care what columns avaliable in each table and so on, check the syntacsis)\n",
      "3. Create the answers. The answer should be only sql query.\n",
      "\n",
      "Carefully follow the instruction and add <|im_end|> and the end of the final answer<|im_end|>\n",
      "<|im_start|>user\n",
      "Here is addition analysis from other models which can be helpfull, please take this into account but be careful (choose the best from each analysis, combine them to make the most proper answer):\n",
      "\n",
      "model 0 analysis:\n",
      " Okay, let's tackle this question. The user is asking, \"How many singers do we have?\" So I need to find the total number of singers in the database.\n",
      "\n",
      "First, I should check the tables provided. The relevant table here is the 'singer' table. The 'singer' table has a column 'Singer_ID' which is the primary key. Since each singer is uniquely identified by their Singer_ID, counting the number of rows in this table should give the total number of singers.\n",
      "\n",
      "Wait, are there any other tables that might have singer information? Let me check. The other tables are concert, stadium, and singer_in_concert. The 'singer_in_concert' table links singers to concerts, but that's just a relationship table. The actual singer data is in the 'singer' table. So the answer should come from the 'singer' table.\n",
      "\n",
      "So the correct approach is to count all the rows in the 'singer' table. The SQL query for that would be SELECT COUNT(*) FROM singer. That should return the total number of singers. I don't need to join any other tables because the question is straightforward. There's no mention of filtering by any criteria like country or concert participation. So the query is simple.\n",
      "\n",
      "model 1 analysis:\n",
      " Okay, let's see. The user is asking how many singers we have. So I need to find the total number of singers in the database.\n",
      "\n",
      "Looking at the tables provided, there's a 'singer' table. The schema for that table includes columns like Singer_ID, Name, Country, etc. The Singer_ID is the primary key, which means each singer has a unique identifier. \n",
      "\n",
      "Since the question is about counting the number of singers, the most straightforward approach is to count the rows in the singer table. Each row represents a singer. So the SQL query should select the count of all rows from the singer table.\n",
      "\n",
      "I need to make sure I'm using the correct table name and column. The singer table has Singer_ID as the primary key, but the question doesn't require any specific column. The COUNT(*) function will count all records, which is exactly what the user wants.\n",
      "\n",
      "Wait, maybe I should check if there are any other tables that might have singer information. The other tables are concert, stadium, and singer_in_concert. But those tables are related to concerts and stadiums, not singers themselves. The singer_in_concert table links singers to concerts, but that's a many-to-many relationship. However, the actual singer data is in the singer table. So the count should come from the singer table.\n",
      "\n",
      "Therefore, the correct SQL query is SELECT COUNT(*) FROM singer;. That should give the total number of singers. I don't need to join any other tables because the question is simply about the number of singers, not their participation in concerts or other details.\n",
      "\n",
      "model 2 analysis:\n",
      " Okay, let's see. The user is asking how many singers there are in total. So I need to find the count of singers from the singer table.\n",
      "\n",
      "First, I should check the tables available. The singer table has columns like Singer_ID, Name, Country, etc. The primary key is Singer_ID, which means each singer has a unique ID. To get the total number of singers, I should count the number of rows in the singer table.\n",
      "\n",
      "The correct approach is to use the COUNT() function on the Singer_ID column. Since Singer_ID is the primary key, it's guaranteed to be unique and non-null. So, selecting COUNT(Singer_ID) from the singer table should give the exact number of singers.\n",
      "\n",
      "I don't need to join any other tables because the question is purely about the singer table. There's no mention of concerts or stadiums here. So the SQL query should be straightforward: SELECT COUNT(Singer_ID) FROM singer. That's all. No need for additional conditions or joins. Just count the rows in the singer table.\n",
      "\n",
      "model 3 analysis:\n",
      " Okay, let's see. The user is asking how many singers we have. So, the main task is to count the number of singers in the database.\n",
      "\n",
      "First, I need to check which tables are relevant here. The tables provided are concert, singer, singer_in_concert, and stadium. The question is about singers, so the singer table is the primary one here. \n",
      "\n",
      "Looking at the singer table's structure, it has columns like Singer_ID, Name, Country, etc. The Singer_ID is the primary key, which means each row in the singer table represents a unique singer. So, to find the total number of singers, I should count the number of rows in the singer table.\n",
      "\n",
      "Wait, but maybe there's a possibility of duplicates or some other factors? The problem statement doesn't mention any such issues. The primary key ensures that each singer is uniquely identified by Singer_ID, so each row is a distinct singer. Therefore, counting all rows in the singer table should give the correct number.\n",
      "\n",
      "The user wants the SQL query to return the count. The correct approach is to use the COUNT function on the Singer_ID column. Since Singer_ID is the primary key, it's guaranteed to be non-null and unique. So, SELECT COUNT(*) FROM singer would work. Alternatively, using COUNT(Singer_ID) would also work, but COUNT(*) is more straightforward here.\n",
      "\n",
      "I should make sure there are no other tables that might have singer information. The singer_in_concert table links singers to concerts, but that's just a many-to-many relationship. The actual singer data is in the singer table. So, the answer is simply counting the rows in the singer table.\n",
      "\n",
      "So the SQL query would be SELECT COUNT(*) FROM singer;. That's it. There's no need to join with other tables because the question is about the total number of singers, not related to concerts or stadiums.\n",
      "\n",
      "\n",
      "here is avaliable tables and their structure below\n",
      "【DB_ID】 concert_singer\n",
      "【Schema】\n",
      "# Table: concert\n",
      "[\n",
      "(concert_ID:INTEGER, Primary Key, Examples: [1, 2, 3]),\n",
      "(concert_Name:TEXT, Examples: [Auditions, Super bootcamp, Home Visits]),\n",
      "(Theme:TEXT, Examples: [Free choice, Free choice 2, Bleeding Love]),\n",
      "(Stadium_ID:TEXT, maps to stadium.Stadium_ID, Examples: [1, 2, 10]),\n",
      "(Year:TEXT, Examples: [2014, 2015, 2016])\n",
      "]\n",
      "# Table: singer\n",
      "[\n",
      "(Singer_ID:INTEGER, Primary Key, Examples: [1, 2, 3]),\n",
      "(Name:TEXT, Examples: [Joe Sharp, Timbaland, Justin Brown]),\n",
      "(Country:TEXT, Examples: [Netherlands, United States, France]),\n",
      "(Song_Name:TEXT, Examples: [You, Dangerous, Hey Oh]),\n",
      "(Song_release_year:TEXT, Examples: [1992, 2008, 2013]),\n",
      "(Age:INTEGER, Examples: [52, 32, 29]),\n",
      "(Is_male:BOOLEAN, Examples: [False, True])\n",
      "]\n",
      "# Table: singer_in_concert\n",
      "[\n",
      "(concert_ID:INTEGER, maps to concert.concert_ID, Primary Key, Examples: [1, 2, 3]),\n",
      "(Singer_ID:TEXT, maps to singer.Singer_ID, Primary Key, Examples: [2, 3, 5])\n",
      "]\n",
      "# Table: stadium\n",
      "[\n",
      "(Stadium_ID:INTEGER, Primary Key, Examples: [1, 2, 3]),\n",
      "(Location:TEXT, Examples: [Raith Rovers, Ayr United, East Fife]),\n",
      "(Name:TEXT, Examples: [Stark's Park, Somerset Park, Bayview Stadium]),\n",
      "(Capacity:INTEGER, Examples: [10104, 11998, 2000]),\n",
      "(Highest:INTEGER, Examples: [4812, 2363, 1980]),\n",
      "(Lowest:INTEGER, Examples: [1294, 1057, 533]),\n",
      "(Average:INTEGER, Examples: [2106, 1477, 864])\n",
      "]\n",
      "【Foreign keys】\n",
      "concert.Stadium_ID=stadium.Stadium_ID\n",
      "singer_in_concert.concert_ID=concert.concert_ID\n",
      "singer_in_concert.Singer_ID=singer.Singer_ID\n",
      "\n",
      "-- Using valid SQLite, answer the following questions for the tables provided above.\n",
      "-- How many singers do we have?\n",
      "\n",
      "\n",
      "\n",
      "Generate the SQLite for the above question after thinking step by step: \n",
      "\n",
      "\n",
      "Instructions:\n",
      "- Make sure you only output the information that is asked in the question. If the question asks for a specific column, make sure to only include that column in the SELECT clause, nothing more.\n",
      "- The generated query should return all of the information asked in the question without any missing or extra information.\n",
      "- Before generating the final SQL query, please think through the steps of how to write the query.\n",
      "- Do not misuse column names, keep them in quotes `\n",
      "- Carefully understand what colomns belond to what tables\n",
      "- Use only initial column names, change names prohibited\n",
      "        \n",
      "Output Format:\n",
      "In your answer, please enclose the generated SQL query in a code block:\n",
      "```\n",
      "-- Your SQL query\n",
      "```    \n",
      "and nothing else, no exaplains, no comments (asnwer should be less than 512 characters)\n",
      "\n",
      "Take a deep breath and think step by step to find the correct SQL query in SQLite format.\n",
      "\n",
      "Question repetition: How many singers do we have?\n",
      "\n",
      "Be care! Include only what i want it questiona and nothing else<|im_end|>\n",
      "<|im_start|>assistant\n",
      "<think>\n",
      "\n",
      "</think>\n",
      "\n",
      "\n",
      "\n",
      "\n",
      "Максимальное количество токенов в промптах: 20143\n",
      "\n",
      "начинаем скорринг\n",
      "Загружаем чаты с данными...\n",
      "Данные успешно загружены\n",
      "Начали генерацию SQL запросов\n"
     ]
    },
    {
     "name": "stderr",
     "output_type": "stream",
     "text": [
      "Processed prompts: 100%|██████████| 1076/1076 [01:33<00:00, 11.53it/s, est. speed input: 43963.40 toks/s, output: 352.54 toks/s] "
     ]
    },
    {
     "name": "stdout",
     "output_type": "stream",
     "text": [
      "extract_think количество ошибок:  0\n",
      "extract_sql количество ошибок:  0\n",
      "Закончили генерацию SQL запросов\n",
      "Начали скорр полученных SQL запросов\n"
     ]
    },
    {
     "name": "stderr",
     "output_type": "stream",
     "text": [
      "\n"
     ]
    },
    {
     "name": "stdout",
     "output_type": "stream",
     "text": [
      "Qwen3-8B DEV Финальный результат EX: 72.49\n",
      "Qwen3-8B процент запросов, которые успешно выполнились DEV: 98.98%\n",
      "====================================================================================================\n",
      "\n",
      "\n",
      "Загружаем чаты с данными...\n",
      "Данные успешно загружены\n",
      "Начали генерацию SQL запросов\n"
     ]
    },
    {
     "name": "stderr",
     "output_type": "stream",
     "text": [
      "Processed prompts: 100%|██████████| 1076/1076 [01:34<00:00, 11.41it/s, est. speed input: 43625.97 toks/s, output: 346.78 toks/s] "
     ]
    },
    {
     "name": "stdout",
     "output_type": "stream",
     "text": [
      "extract_think количество ошибок:  0\n",
      "extract_sql количество ошибок:  0\n",
      "Закончили генерацию SQL запросов\n",
      "Начали скорр полученных SQL запросов\n"
     ]
    },
    {
     "name": "stderr",
     "output_type": "stream",
     "text": [
      "\n"
     ]
    },
    {
     "name": "stdout",
     "output_type": "stream",
     "text": [
      "Qwen3-8B DEV Финальный результат EX: 72.58\n",
      "Qwen3-8B процент запросов, которые успешно выполнились DEV: 98.42%\n",
      "====================================================================================================\n",
      "\n",
      "\n",
      "Загружаем чаты с данными...\n",
      "Данные успешно загружены\n",
      "Начали генерацию SQL запросов\n"
     ]
    },
    {
     "name": "stderr",
     "output_type": "stream",
     "text": [
      "Processed prompts: 100%|██████████| 1076/1076 [01:34<00:00, 11.37it/s, est. speed input: 43423.23 toks/s, output: 343.31 toks/s] "
     ]
    },
    {
     "name": "stdout",
     "output_type": "stream",
     "text": [
      "extract_think количество ошибок:  0\n",
      "extract_sql количество ошибок:  0\n",
      "Закончили генерацию SQL запросов\n",
      "Начали скорр полученных SQL запросов\n"
     ]
    },
    {
     "name": "stderr",
     "output_type": "stream",
     "text": [
      "\n"
     ]
    },
    {
     "name": "stdout",
     "output_type": "stream",
     "text": [
      "Qwen3-8B DEV Финальный результат EX: 72.49\n",
      "Qwen3-8B процент запросов, которые успешно выполнились DEV: 98.79%\n",
      "====================================================================================================\n",
      "\n",
      "\n",
      "Загружаем чаты с данными...\n",
      "Данные успешно загружены\n",
      "Начали генерацию SQL запросов\n"
     ]
    },
    {
     "name": "stderr",
     "output_type": "stream",
     "text": [
      "Processed prompts: 100%|██████████| 1076/1076 [01:33<00:00, 11.57it/s, est. speed input: 43698.59 toks/s, output: 348.76 toks/s] "
     ]
    },
    {
     "name": "stdout",
     "output_type": "stream",
     "text": [
      "extract_think количество ошибок:  0\n",
      "extract_sql количество ошибок:  0\n",
      "Закончили генерацию SQL запросов\n",
      "Начали скорр полученных SQL запросов\n"
     ]
    },
    {
     "name": "stderr",
     "output_type": "stream",
     "text": [
      "\n"
     ]
    },
    {
     "name": "stdout",
     "output_type": "stream",
     "text": [
      "Qwen3-8B DEV Финальный результат EX: 72.49\n",
      "Qwen3-8B процент запросов, которые успешно выполнились DEV: 99.07%\n",
      "====================================================================================================\n",
      "\n",
      "\n",
      "Загружаем чаты с данными...\n",
      "Данные успешно загружены\n",
      "Начали генерацию SQL запросов\n"
     ]
    },
    {
     "name": "stderr",
     "output_type": "stream",
     "text": [
      "Processed prompts: 100%|██████████| 1076/1076 [01:34<00:00, 11.35it/s, est. speed input: 43066.83 toks/s, output: 345.17 toks/s] "
     ]
    },
    {
     "name": "stdout",
     "output_type": "stream",
     "text": [
      "extract_think количество ошибок:  0\n",
      "extract_sql количество ошибок:  0\n",
      "Закончили генерацию SQL запросов\n",
      "Начали скорр полученных SQL запросов\n"
     ]
    },
    {
     "name": "stderr",
     "output_type": "stream",
     "text": [
      "\n"
     ]
    },
    {
     "name": "stdout",
     "output_type": "stream",
     "text": [
      "Qwen3-8B DEV Финальный результат EX: 71.65\n",
      "Qwen3-8B процент запросов, которые успешно выполнились DEV: 98.79%\n",
      "====================================================================================================\n",
      "\n",
      "\n",
      "Загружаем чаты с данными...\n",
      "Данные успешно загружены\n",
      "Начали генерацию SQL запросов\n"
     ]
    },
    {
     "name": "stderr",
     "output_type": "stream",
     "text": [
      "Processed prompts: 100%|██████████| 1076/1076 [01:34<00:00, 11.41it/s, est. speed input: 43446.14 toks/s, output: 344.10 toks/s] "
     ]
    },
    {
     "name": "stdout",
     "output_type": "stream",
     "text": [
      "extract_think количество ошибок:  0\n",
      "extract_sql количество ошибок:  0\n",
      "Закончили генерацию SQL запросов\n",
      "Начали скорр полученных SQL запросов\n"
     ]
    },
    {
     "name": "stderr",
     "output_type": "stream",
     "text": [
      "\n"
     ]
    },
    {
     "name": "stdout",
     "output_type": "stream",
     "text": [
      "Qwen3-8B DEV Финальный результат EX: 72.49\n",
      "Qwen3-8B процент запросов, которые успешно выполнились DEV: 98.98%\n",
      "====================================================================================================\n",
      "\n",
      "\n",
      "Загружаем чаты с данными...\n",
      "Данные успешно загружены\n",
      "Начали генерацию SQL запросов\n"
     ]
    },
    {
     "name": "stderr",
     "output_type": "stream",
     "text": [
      "Processed prompts: 100%|██████████| 1076/1076 [01:34<00:00, 11.44it/s, est. speed input: 43484.65 toks/s, output: 348.14 toks/s] "
     ]
    },
    {
     "name": "stdout",
     "output_type": "stream",
     "text": [
      "extract_think количество ошибок:  0\n",
      "extract_sql количество ошибок:  0\n",
      "Закончили генерацию SQL запросов\n",
      "Начали скорр полученных SQL запросов\n"
     ]
    },
    {
     "name": "stderr",
     "output_type": "stream",
     "text": [
      "\n"
     ]
    },
    {
     "name": "stdout",
     "output_type": "stream",
     "text": [
      "Qwen3-8B DEV Финальный результат EX: 73.05\n",
      "Qwen3-8B процент запросов, которые успешно выполнились DEV: 99.16%\n",
      "====================================================================================================\n",
      "\n",
      "\n",
      "Загружаем чаты с данными...\n",
      "Данные успешно загружены\n",
      "Начали генерацию SQL запросов\n"
     ]
    },
    {
     "name": "stderr",
     "output_type": "stream",
     "text": [
      "Processed prompts: 100%|██████████| 1076/1076 [01:37<00:00, 11.08it/s, est. speed input: 43496.68 toks/s, output: 336.69 toks/s] "
     ]
    },
    {
     "name": "stdout",
     "output_type": "stream",
     "text": [
      "extract_think количество ошибок:  0\n",
      "extract_sql количество ошибок:  0\n",
      "Закончили генерацию SQL запросов\n",
      "Начали скорр полученных SQL запросов\n"
     ]
    },
    {
     "name": "stderr",
     "output_type": "stream",
     "text": [
      "\n"
     ]
    },
    {
     "name": "stdout",
     "output_type": "stream",
     "text": [
      "Qwen3-8B DEV Финальный результат EX: 73.23\n",
      "Qwen3-8B процент запросов, которые успешно выполнились DEV: 98.88%\n",
      "====================================================================================================\n",
      "\n",
      "\n",
      "Загружаем чаты с данными...\n",
      "Данные успешно загружены\n",
      "Начали генерацию SQL запросов\n"
     ]
    },
    {
     "name": "stderr",
     "output_type": "stream",
     "text": [
      "Processed prompts: 100%|██████████| 1076/1076 [01:35<00:00, 11.23it/s, est. speed input: 43641.48 toks/s, output: 340.07 toks/s] "
     ]
    },
    {
     "name": "stdout",
     "output_type": "stream",
     "text": [
      "extract_think количество ошибок:  0\n",
      "extract_sql количество ошибок:  0\n",
      "Закончили генерацию SQL запросов\n",
      "Начали скорр полученных SQL запросов\n"
     ]
    },
    {
     "name": "stderr",
     "output_type": "stream",
     "text": [
      "\n"
     ]
    },
    {
     "name": "stdout",
     "output_type": "stream",
     "text": [
      "Qwen3-8B DEV Финальный результат EX: 73.33\n",
      "Qwen3-8B процент запросов, которые успешно выполнились DEV: 98.88%\n",
      "====================================================================================================\n",
      "\n",
      "\n",
      "Загружаем чаты с данными...\n",
      "Данные успешно загружены\n",
      "Начали генерацию SQL запросов\n"
     ]
    },
    {
     "name": "stderr",
     "output_type": "stream",
     "text": [
      "Processed prompts: 100%|██████████| 1076/1076 [01:36<00:00, 11.17it/s, est. speed input: 43436.20 toks/s, output: 340.24 toks/s] "
     ]
    },
    {
     "name": "stdout",
     "output_type": "stream",
     "text": [
      "extract_think количество ошибок:  0\n",
      "extract_sql количество ошибок:  0\n",
      "Закончили генерацию SQL запросов\n",
      "Начали скорр полученных SQL запросов\n"
     ]
    },
    {
     "name": "stderr",
     "output_type": "stream",
     "text": [
      "\n"
     ]
    },
    {
     "name": "stdout",
     "output_type": "stream",
     "text": [
      "Qwen3-8B DEV Финальный результат EX: 72.30\n",
      "Qwen3-8B процент запросов, которые успешно выполнились DEV: 98.88%\n",
      "====================================================================================================\n",
      "\n",
      "\n",
      "Загружаем чаты с данными...\n",
      "Данные успешно загружены\n",
      "Начали генерацию SQL запросов\n"
     ]
    },
    {
     "name": "stderr",
     "output_type": "stream",
     "text": [
      "Processed prompts: 100%|██████████| 1076/1076 [01:34<00:00, 11.34it/s, est. speed input: 43839.81 toks/s, output: 343.87 toks/s] "
     ]
    },
    {
     "name": "stdout",
     "output_type": "stream",
     "text": [
      "extract_think количество ошибок:  0\n",
      "extract_sql количество ошибок:  0\n",
      "Закончили генерацию SQL запросов\n",
      "Начали скорр полученных SQL запросов\n"
     ]
    },
    {
     "name": "stderr",
     "output_type": "stream",
     "text": [
      "\n"
     ]
    },
    {
     "name": "stdout",
     "output_type": "stream",
     "text": [
      "Qwen3-8B DEV Финальный результат EX: 73.14\n",
      "Qwen3-8B процент запросов, которые успешно выполнились DEV: 98.70%\n",
      "====================================================================================================\n",
      "\n",
      "\n",
      "Загружаем чаты с данными...\n",
      "Данные успешно загружены\n",
      "Начали генерацию SQL запросов\n"
     ]
    },
    {
     "name": "stderr",
     "output_type": "stream",
     "text": [
      "Processed prompts: 100%|██████████| 1076/1076 [01:32<00:00, 11.63it/s, est. speed input: 43948.77 toks/s, output: 351.41 toks/s] "
     ]
    },
    {
     "name": "stdout",
     "output_type": "stream",
     "text": [
      "extract_think количество ошибок:  0\n",
      "extract_sql количество ошибок:  0\n",
      "Закончили генерацию SQL запросов\n",
      "Начали скорр полученных SQL запросов\n"
     ]
    },
    {
     "name": "stderr",
     "output_type": "stream",
     "text": [
      "\n"
     ]
    },
    {
     "name": "stdout",
     "output_type": "stream",
     "text": [
      "Qwen3-8B DEV Финальный результат EX: 73.61\n",
      "Qwen3-8B процент запросов, которые успешно выполнились DEV: 99.16%\n",
      "====================================================================================================\n",
      "\n",
      "\n",
      "Загружаем чаты с данными...\n",
      "Данные успешно загружены\n",
      "Начали генерацию SQL запросов\n"
     ]
    },
    {
     "name": "stderr",
     "output_type": "stream",
     "text": [
      "Processed prompts: 100%|██████████| 1076/1076 [01:33<00:00, 11.46it/s, est. speed input: 43632.28 toks/s, output: 346.26 toks/s] "
     ]
    },
    {
     "name": "stdout",
     "output_type": "stream",
     "text": [
      "extract_think количество ошибок:  0\n",
      "extract_sql количество ошибок:  0\n",
      "Закончили генерацию SQL запросов\n",
      "Начали скорр полученных SQL запросов\n"
     ]
    },
    {
     "name": "stderr",
     "output_type": "stream",
     "text": [
      "\n"
     ]
    },
    {
     "name": "stdout",
     "output_type": "stream",
     "text": [
      "Qwen3-8B DEV Финальный результат EX: 73.70\n",
      "Qwen3-8B процент запросов, которые успешно выполнились DEV: 98.79%\n",
      "====================================================================================================\n",
      "\n",
      "\n",
      "Загружаем чаты с данными...\n",
      "Данные успешно загружены\n",
      "Начали генерацию SQL запросов\n"
     ]
    },
    {
     "name": "stderr",
     "output_type": "stream",
     "text": [
      "Processed prompts: 100%|██████████| 1076/1076 [01:33<00:00, 11.47it/s, est. speed input: 43521.95 toks/s, output: 346.59 toks/s] "
     ]
    },
    {
     "name": "stdout",
     "output_type": "stream",
     "text": [
      "extract_think количество ошибок:  0\n",
      "extract_sql количество ошибок:  0\n",
      "Закончили генерацию SQL запросов\n",
      "Начали скорр полученных SQL запросов\n"
     ]
    },
    {
     "name": "stderr",
     "output_type": "stream",
     "text": [
      "\n"
     ]
    },
    {
     "name": "stdout",
     "output_type": "stream",
     "text": [
      "Qwen3-8B DEV Финальный результат EX: 72.86\n",
      "Qwen3-8B процент запросов, которые успешно выполнились DEV: 99.07%\n",
      "====================================================================================================\n",
      "\n",
      "\n",
      "Загружаем чаты с данными...\n",
      "Данные успешно загружены\n",
      "Начали генерацию SQL запросов\n"
     ]
    },
    {
     "name": "stderr",
     "output_type": "stream",
     "text": [
      "Processed prompts: 100%|██████████| 1076/1076 [01:34<00:00, 11.36it/s, est. speed input: 43630.70 toks/s, output: 343.35 toks/s] "
     ]
    },
    {
     "name": "stdout",
     "output_type": "stream",
     "text": [
      "extract_think количество ошибок:  0\n",
      "extract_sql количество ошибок:  0\n",
      "Закончили генерацию SQL запросов\n",
      "Начали скорр полученных SQL запросов\n"
     ]
    },
    {
     "name": "stderr",
     "output_type": "stream",
     "text": [
      "\n"
     ]
    },
    {
     "name": "stdout",
     "output_type": "stream",
     "text": [
      "Qwen3-8B DEV Финальный результат EX: 73.05\n",
      "Qwen3-8B процент запросов, которые успешно выполнились DEV: 98.79%\n",
      "====================================================================================================\n",
      "\n",
      "\n",
      "Загружаем чаты с данными...\n",
      "Данные успешно загружены\n",
      "Начали генерацию SQL запросов\n"
     ]
    },
    {
     "name": "stderr",
     "output_type": "stream",
     "text": [
      "Processed prompts: 100%|██████████| 1076/1076 [01:34<00:00, 11.39it/s, est. speed input: 43683.60 toks/s, output: 345.62 toks/s] "
     ]
    },
    {
     "name": "stdout",
     "output_type": "stream",
     "text": [
      "extract_think количество ошибок:  0\n",
      "extract_sql количество ошибок:  0\n",
      "Закончили генерацию SQL запросов\n",
      "Начали скорр полученных SQL запросов\n"
     ]
    },
    {
     "name": "stderr",
     "output_type": "stream",
     "text": [
      "\n"
     ]
    },
    {
     "name": "stdout",
     "output_type": "stream",
     "text": [
      "Qwen3-8B DEV Финальный результат EX: 73.61\n",
      "Qwen3-8B процент запросов, которые успешно выполнились DEV: 98.79%\n",
      "====================================================================================================\n",
      "\n",
      "\n",
      "Загружаем чаты с данными...\n",
      "Данные успешно загружены\n",
      "Начали генерацию SQL запросов\n"
     ]
    },
    {
     "name": "stderr",
     "output_type": "stream",
     "text": [
      "Processed prompts: 100%|██████████| 1076/1076 [01:34<00:00, 11.40it/s, est. speed input: 43519.41 toks/s, output: 346.29 toks/s] "
     ]
    },
    {
     "name": "stdout",
     "output_type": "stream",
     "text": [
      "extract_think количество ошибок:  0\n",
      "extract_sql количество ошибок:  0\n",
      "Закончили генерацию SQL запросов\n",
      "Начали скорр полученных SQL запросов\n"
     ]
    },
    {
     "name": "stderr",
     "output_type": "stream",
     "text": [
      "\n"
     ]
    },
    {
     "name": "stdout",
     "output_type": "stream",
     "text": [
      "Qwen3-8B DEV Финальный результат EX: 72.96\n",
      "Qwen3-8B процент запросов, которые успешно выполнились DEV: 98.98%\n",
      "====================================================================================================\n",
      "\n",
      "\n",
      "Загружаем чаты с данными...\n",
      "Данные успешно загружены\n",
      "Начали генерацию SQL запросов\n"
     ]
    },
    {
     "name": "stderr",
     "output_type": "stream",
     "text": [
      "Processed prompts: 100%|██████████| 1076/1076 [01:33<00:00, 11.49it/s, est. speed input: 43701.92 toks/s, output: 348.51 toks/s] "
     ]
    },
    {
     "name": "stdout",
     "output_type": "stream",
     "text": [
      "extract_think количество ошибок:  0\n",
      "extract_sql количество ошибок:  0\n",
      "Закончили генерацию SQL запросов\n",
      "Начали скорр полученных SQL запросов\n"
     ]
    },
    {
     "name": "stderr",
     "output_type": "stream",
     "text": [
      "\n"
     ]
    },
    {
     "name": "stdout",
     "output_type": "stream",
     "text": [
      "Qwen3-8B DEV Финальный результат EX: 72.96\n",
      "Qwen3-8B процент запросов, которые успешно выполнились DEV: 98.98%\n",
      "====================================================================================================\n",
      "\n",
      "\n",
      "Загружаем чаты с данными...\n",
      "Данные успешно загружены\n",
      "Начали генерацию SQL запросов\n"
     ]
    },
    {
     "name": "stderr",
     "output_type": "stream",
     "text": [
      "Processed prompts: 100%|██████████| 1076/1076 [01:33<00:00, 11.52it/s, est. speed input: 43675.35 toks/s, output: 348.59 toks/s] "
     ]
    },
    {
     "name": "stdout",
     "output_type": "stream",
     "text": [
      "extract_think количество ошибок:  0\n",
      "extract_sql количество ошибок:  0\n",
      "Закончили генерацию SQL запросов\n",
      "Начали скорр полученных SQL запросов\n"
     ]
    },
    {
     "name": "stderr",
     "output_type": "stream",
     "text": [
      "\n"
     ]
    },
    {
     "name": "stdout",
     "output_type": "stream",
     "text": [
      "Qwen3-8B DEV Финальный результат EX: 72.49\n",
      "Qwen3-8B процент запросов, которые успешно выполнились DEV: 98.88%\n",
      "====================================================================================================\n",
      "\n",
      "\n",
      "Загружаем чаты с данными...\n",
      "Данные успешно загружены\n",
      "Начали генерацию SQL запросов\n"
     ]
    },
    {
     "name": "stderr",
     "output_type": "stream",
     "text": [
      "Processed prompts: 100%|██████████| 1076/1076 [01:33<00:00, 11.49it/s, est. speed input: 43654.70 toks/s, output: 348.52 toks/s] "
     ]
    },
    {
     "name": "stdout",
     "output_type": "stream",
     "text": [
      "extract_think количество ошибок:  0\n",
      "extract_sql количество ошибок:  0\n",
      "Закончили генерацию SQL запросов\n",
      "Начали скорр полученных SQL запросов\n"
     ]
    },
    {
     "name": "stderr",
     "output_type": "stream",
     "text": [
      "\n"
     ]
    },
    {
     "name": "stdout",
     "output_type": "stream",
     "text": [
      "Qwen3-8B DEV Финальный результат EX: 73.33\n",
      "Qwen3-8B процент запросов, которые успешно выполнились DEV: 99.44%\n",
      "====================================================================================================\n",
      "\n",
      "\n"
     ]
    }
   ],
   "source": [
    "run_cot_experiment(model,arr_seeds,arr_versions, type_cot,num_observations=num_observations)"
   ]
  },
  {
   "cell_type": "code",
   "execution_count": 26,
   "id": "297e4c3e-c5be-4721-b770-83fa97d03f5e",
   "metadata": {},
   "outputs": [
    {
     "name": "stdout",
     "output_type": "stream",
     "text": [
      "[533, 973, 75, 401, 547, 887, 686, 455, 973, 395, 922, 218, 601, 759, 261, 175, 855, 335, 38, 750]\n",
      "model: Qwen3-8B\n"
     ]
    }
   ],
   "source": [
    "n= 20\n",
    "arr_seeds = [random.randint(0,1000) for _ in range(n)]\n",
    "arr_versions = [x for x in range(n)]\n",
    "model = \"Qwen3-8B\"\n",
    "num_observations = 5\n",
    "type_cot = 'think'\n",
    "print(arr_seeds)\n",
    "print(f\"model: {model}\")"
   ]
  },
  {
   "cell_type": "code",
   "execution_count": 27,
   "id": "604c03b5-0971-48e5-8b26-be78a74e2b9d",
   "metadata": {
    "scrolled": true
   },
   "outputs": [
    {
     "name": "stdout",
     "output_type": "stream",
     "text": [
      "Загружаем модель...\n"
     ]
    },
    {
     "name": "stderr",
     "output_type": "stream",
     "text": [
      "Loading safetensors checkpoint shards:   0% Completed | 0/4 [00:00<?, ?it/s]\n",
      "Loading safetensors checkpoint shards:  25% Completed | 1/4 [00:00<00:00,  8.74it/s]\n",
      "Loading safetensors checkpoint shards:  50% Completed | 2/4 [00:00<00:00,  2.59it/s]\n",
      "Loading safetensors checkpoint shards:  75% Completed | 3/4 [00:01<00:00,  1.84it/s]\n",
      "Loading safetensors checkpoint shards: 100% Completed | 4/4 [00:02<00:00,  1.64it/s]\n",
      "Loading safetensors checkpoint shards: 100% Completed | 4/4 [00:02<00:00,  1.87it/s]\n",
      "\u001b[1;36m(VllmWorker rank=0 pid=1632668)\u001b[0;0m \n"
     ]
    },
    {
     "name": "stdout",
     "output_type": "stream",
     "text": [
      "Модель успешно загружена\n",
      "model_config {'model': '/data/home/vkropoti/models/Qwen3-8B', 'tensor_parallel_size': 2, 'max_model_len': 40000, 'max_new_tokens': 1500, 'temperature': 0, 'top_k': 1, 'top_p': 0.8, 'gpu_memory_utilization': 0.9, 'trust_remote_code': False, 'seed': 533}\n",
      "\n",
      "prompts_config {'path_dev_json': '/data/home/vkropoti/sql_data/dev_spider.json', 'path_sql_dbs': '/data/home/vkropoti/sql_data/data_bases_spider/', 'use_reasoning': False, 'paths_to_cot': ['/data/home/vkropoti/sql_llm_answers/spider_dev_m_schema/sql_think_Qwen3-8B-reasoning-v0', '/data/home/vkropoti/sql_llm_answers/spider_dev_m_schema/sql_think_Qwen3-8B-reasoning-v1', '/data/home/vkropoti/sql_llm_answers/spider_dev_m_schema/sql_think_Qwen3-8B-reasoning-v2', '/data/home/vkropoti/sql_llm_answers/spider_dev_m_schema/sql_think_Qwen3-8B-reasoning-v3', '/data/home/vkropoti/sql_llm_answers/spider_dev_m_schema/sql_think_Qwen3-8B-reasoning-v4']}\n",
      "\n",
      "save_config {'path_sql_save': '/data/home/vkropoti/sql_llm_answers/spider_dev_m_schema/sql_all_Qwen3-8B-cot_think_think==False_nobs5-v0', 'path_think_save': None, 'path_sql_answers_save': '/data/home/vkropoti/sql_llm_answers/spider_dev_m_schema/sql_predict_Qwen3-8B-cot_think_think==False_nobs5-v0', 'path_to_save_scores': '/data/home/vkropoti/sql_llm_answers/spider_dev_m_schema/sql_results_Qwen3-8B-cot_think_think==False_nobs5-v0', 'path_to_save_executed': '/data/home/vkropoti/sql_llm_answers/spider_dev_m_schema/sql_executed_Qwen3-8B-cot_think_think==False_nobs5-v0'}\n",
      "\n",
      "Модель успешно загружена\n",
      "Пример промпта\n",
      "<|im_start|>system\n",
      "\n",
      "You are a data science expert. Below, you are provided with a database schema and a natural language question. Your task is to understand the schema and generate a valid SQL query to answer the question.\n",
      "\n",
      "Database Engine: SQLite\n",
      "\n",
      "You will be given an additional analysis of other models, please take it into account, so the plan is\n",
      "1. Analyse given addition analysis from other models (find in which analysis the same and differ, how to use that to answer question)\n",
      "2. Combine best from previous part and think how to solve the problem (analyze tables, take care what columns avaliable in each table and so on, check the syntacsis)\n",
      "3. Create the answers. The answer should be only sql query.\n",
      "\n",
      "Carefully follow the instruction and add <|im_end|> and the end of the final answer<|im_end|>\n",
      "<|im_start|>user\n",
      "Here is addition analysis from other models which can be helpfull, please take this into account but be careful (choose the best from each analysis, combine them to make the most proper answer):\n",
      "\n",
      "model 0 analysis:\n",
      " Okay, let's tackle this question. The user is asking, \"How many singers do we have?\" So I need to find the total number of singers in the database.\n",
      "\n",
      "First, I should check the tables provided. The relevant table here is the 'singer' table. The 'singer' table has a column 'Singer_ID' which is the primary key. Since each singer is uniquely identified by their Singer_ID, counting the number of rows in this table should give the total number of singers.\n",
      "\n",
      "Wait, are there any other tables that might have singer information? Let me check. The other tables are concert, stadium, and singer_in_concert. The 'singer_in_concert' table links singers to concerts, but that's just a relationship table. The actual singer data is in the 'singer' table. So the answer should come from the 'singer' table.\n",
      "\n",
      "So the correct approach is to count all the rows in the 'singer' table. The SQL query for that would be SELECT COUNT(*) FROM singer. That should return the total number of singers. I don't need to join any other tables because the question is straightforward. There's no mention of filtering by any criteria like country or concert participation. So the query is simple.\n",
      "\n",
      "model 1 analysis:\n",
      " Okay, let's see. The user is asking how many singers we have. So I need to find the total number of singers in the database.\n",
      "\n",
      "Looking at the tables provided, there's a 'singer' table. The schema for that table includes columns like Singer_ID, Name, Country, etc. The Singer_ID is the primary key, which means each singer has a unique identifier. \n",
      "\n",
      "Since the question is about counting the number of singers, the most straightforward approach is to count the rows in the singer table. Each row represents a singer. So the SQL query should select the count of all rows from the singer table.\n",
      "\n",
      "I need to make sure I'm using the correct table name and column. The singer table has Singer_ID as the primary key, but the question doesn't require any specific column. The COUNT(*) function will count all records, which is exactly what the user wants.\n",
      "\n",
      "Wait, maybe I should check if there are any other tables that might have singer information. The other tables are concert, stadium, and singer_in_concert. But those tables are related to concerts and stadiums, not singers themselves. The singer_in_concert table links singers to concerts, but that's a many-to-many relationship. However, the actual singer data is in the singer table. So the count should come from the singer table.\n",
      "\n",
      "Therefore, the correct SQL query is SELECT COUNT(*) FROM singer;. That should give the total number of singers. I don't need to join any other tables because the question is simply about the number of singers, not their participation in concerts or other details.\n",
      "\n",
      "model 2 analysis:\n",
      " Okay, let's see. The user is asking how many singers there are in total. So I need to find the count of singers from the singer table.\n",
      "\n",
      "First, I should check the tables available. The singer table has columns like Singer_ID, Name, Country, etc. The primary key is Singer_ID, which means each singer has a unique ID. To get the total number of singers, I should count the number of rows in the singer table.\n",
      "\n",
      "The correct approach is to use the COUNT() function on the Singer_ID column. Since Singer_ID is the primary key, it's guaranteed to be unique and non-null. So, selecting COUNT(Singer_ID) from the singer table should give the exact number of singers.\n",
      "\n",
      "I don't need to join any other tables because the question is purely about the singer table. There's no mention of concerts or stadiums here. So the SQL query should be straightforward: SELECT COUNT(Singer_ID) FROM singer. That's all. No need for additional conditions or joins. Just count the rows in the singer table.\n",
      "\n",
      "model 3 analysis:\n",
      " Okay, let's see. The user is asking how many singers we have. So, the main task is to count the number of singers in the database.\n",
      "\n",
      "First, I need to check which tables are relevant here. The tables provided are concert, singer, singer_in_concert, and stadium. The question is about singers, so the singer table is the primary one here. \n",
      "\n",
      "Looking at the singer table's structure, it has columns like Singer_ID, Name, Country, etc. The Singer_ID is the primary key, which means each row in the singer table represents a unique singer. So, to find the total number of singers, I should count the number of rows in the singer table.\n",
      "\n",
      "Wait, but maybe there's a possibility of duplicates or some other factors? The problem statement doesn't mention any such issues. The primary key ensures that each singer is uniquely identified by Singer_ID, so each row is a distinct singer. Therefore, counting all rows in the singer table should give the correct number.\n",
      "\n",
      "The user wants the SQL query to return the count. The correct approach is to use the COUNT function on the Singer_ID column. Since Singer_ID is the primary key, it's guaranteed to be non-null and unique. So, SELECT COUNT(*) FROM singer would work. Alternatively, using COUNT(Singer_ID) would also work, but COUNT(*) is more straightforward here.\n",
      "\n",
      "I should make sure there are no other tables that might have singer information. The singer_in_concert table links singers to concerts, but that's just a many-to-many relationship. The actual singer data is in the singer table. So, the answer is simply counting the rows in the singer table.\n",
      "\n",
      "So the SQL query would be SELECT COUNT(*) FROM singer;. That's it. There's no need to join with other tables because the question is about the total number of singers, not related to concerts or stadiums.\n",
      "\n",
      "model 4 analysis:\n",
      " Okay, I need to find out how many singers there are in the database. Let's look at the tables provided. The singer table has a Singer_ID as the primary key, which means each row in that table represents a unique singer. So the simplest way is to count the number of rows in the singer table.\n",
      "\n",
      "Wait, are there any other tables that might have singer information? The concert and stadium tables don't seem related to singers directly. The singer_in_concert table links singers to concerts, but that's just a relationship table. The actual singer data is in the singer table. \n",
      "\n",
      "So the correct approach is to select the count of all rows in the singer table. The question asks for the number of singers, which is the number of entries in the singer table. I should use the COUNT(*) function on the singer table. \n",
      "\n",
      "I need to make sure I'm not including any other tables. The answer should be a simple SELECT COUNT(*) FROM singer;. That should give the total number of singers. Let me double-check the schema. Yes, the singer table has Singer_ID as the primary key, so each row is a unique singer. No other tables have singer data. So the query is straightforward.\n",
      "\n",
      "\n",
      "here is avaliable tables and their structure below\n",
      "【DB_ID】 concert_singer\n",
      "【Schema】\n",
      "# Table: concert\n",
      "[\n",
      "(concert_ID:INTEGER, Primary Key, Examples: [1, 2, 3]),\n",
      "(concert_Name:TEXT, Examples: [Auditions, Super bootcamp, Home Visits]),\n",
      "(Theme:TEXT, Examples: [Free choice, Free choice 2, Bleeding Love]),\n",
      "(Stadium_ID:TEXT, maps to stadium.Stadium_ID, Examples: [1, 2, 10]),\n",
      "(Year:TEXT, Examples: [2014, 2015, 2016])\n",
      "]\n",
      "# Table: singer\n",
      "[\n",
      "(Singer_ID:INTEGER, Primary Key, Examples: [1, 2, 3]),\n",
      "(Name:TEXT, Examples: [Joe Sharp, Timbaland, Justin Brown]),\n",
      "(Country:TEXT, Examples: [Netherlands, United States, France]),\n",
      "(Song_Name:TEXT, Examples: [You, Dangerous, Hey Oh]),\n",
      "(Song_release_year:TEXT, Examples: [1992, 2008, 2013]),\n",
      "(Age:INTEGER, Examples: [52, 32, 29]),\n",
      "(Is_male:BOOLEAN, Examples: [False, True])\n",
      "]\n",
      "# Table: singer_in_concert\n",
      "[\n",
      "(concert_ID:INTEGER, maps to concert.concert_ID, Primary Key, Examples: [1, 2, 3]),\n",
      "(Singer_ID:TEXT, maps to singer.Singer_ID, Primary Key, Examples: [2, 3, 5])\n",
      "]\n",
      "# Table: stadium\n",
      "[\n",
      "(Stadium_ID:INTEGER, Primary Key, Examples: [1, 2, 3]),\n",
      "(Location:TEXT, Examples: [Raith Rovers, Ayr United, East Fife]),\n",
      "(Name:TEXT, Examples: [Stark's Park, Somerset Park, Bayview Stadium]),\n",
      "(Capacity:INTEGER, Examples: [10104, 11998, 2000]),\n",
      "(Highest:INTEGER, Examples: [4812, 2363, 1980]),\n",
      "(Lowest:INTEGER, Examples: [1294, 1057, 533]),\n",
      "(Average:INTEGER, Examples: [2106, 1477, 864])\n",
      "]\n",
      "【Foreign keys】\n",
      "concert.Stadium_ID=stadium.Stadium_ID\n",
      "singer_in_concert.concert_ID=concert.concert_ID\n",
      "singer_in_concert.Singer_ID=singer.Singer_ID\n",
      "\n",
      "-- Using valid SQLite, answer the following questions for the tables provided above.\n",
      "-- How many singers do we have?\n",
      "\n",
      "\n",
      "\n",
      "Generate the SQLite for the above question after thinking step by step: \n",
      "\n",
      "\n",
      "Instructions:\n",
      "- Make sure you only output the information that is asked in the question. If the question asks for a specific column, make sure to only include that column in the SELECT clause, nothing more.\n",
      "- The generated query should return all of the information asked in the question without any missing or extra information.\n",
      "- Before generating the final SQL query, please think through the steps of how to write the query.\n",
      "- Do not misuse column names, keep them in quotes `\n",
      "- Carefully understand what colomns belond to what tables\n",
      "- Use only initial column names, change names prohibited\n",
      "        \n",
      "Output Format:\n",
      "In your answer, please enclose the generated SQL query in a code block:\n",
      "```\n",
      "-- Your SQL query\n",
      "```    \n",
      "and nothing else, no exaplains, no comments (asnwer should be less than 512 characters)\n",
      "\n",
      "Take a deep breath and think step by step to find the correct SQL query in SQLite format.\n",
      "\n",
      "Question repetition: How many singers do we have?\n",
      "\n",
      "Be care! Include only what i want it questiona and nothing else<|im_end|>\n",
      "<|im_start|>assistant\n",
      "<think>\n",
      "\n",
      "</think>\n",
      "\n",
      "\n",
      "\n",
      "\n",
      "Максимальное количество токенов в промптах: 22076\n",
      "\n",
      "начинаем скорринг\n",
      "Загружаем чаты с данными...\n",
      "Данные успешно загружены\n",
      "Начали генерацию SQL запросов\n"
     ]
    },
    {
     "name": "stderr",
     "output_type": "stream",
     "text": [
      "Processed prompts: 100%|██████████| 1076/1076 [01:51<00:00,  9.62it/s, est. speed input: 42906.66 toks/s, output: 292.38 toks/s] "
     ]
    },
    {
     "name": "stdout",
     "output_type": "stream",
     "text": [
      "extract_think количество ошибок:  0\n",
      "extract_sql количество ошибок:  0\n",
      "Закончили генерацию SQL запросов\n",
      "Начали скорр полученных SQL запросов\n"
     ]
    },
    {
     "name": "stderr",
     "output_type": "stream",
     "text": [
      "\n"
     ]
    },
    {
     "name": "stdout",
     "output_type": "stream",
     "text": [
      "Qwen3-8B DEV Финальный результат EX: 72.96\n",
      "Qwen3-8B процент запросов, которые успешно выполнились DEV: 98.88%\n",
      "====================================================================================================\n",
      "\n",
      "\n",
      "Загружаем чаты с данными...\n",
      "Данные успешно загружены\n",
      "Начали генерацию SQL запросов\n"
     ]
    },
    {
     "name": "stderr",
     "output_type": "stream",
     "text": [
      "Processed prompts: 100%|██████████| 1076/1076 [01:52<00:00,  9.58it/s, est. speed input: 42961.90 toks/s, output: 289.84 toks/s] "
     ]
    },
    {
     "name": "stdout",
     "output_type": "stream",
     "text": [
      "extract_think количество ошибок:  0\n",
      "extract_sql количество ошибок:  0\n",
      "Закончили генерацию SQL запросов\n",
      "Начали скорр полученных SQL запросов\n"
     ]
    },
    {
     "name": "stderr",
     "output_type": "stream",
     "text": [
      "\n"
     ]
    },
    {
     "name": "stdout",
     "output_type": "stream",
     "text": [
      "Qwen3-8B DEV Финальный результат EX: 73.14\n",
      "Qwen3-8B процент запросов, которые успешно выполнились DEV: 98.70%\n",
      "====================================================================================================\n",
      "\n",
      "\n",
      "Загружаем чаты с данными...\n",
      "Данные успешно загружены\n",
      "Начали генерацию SQL запросов\n"
     ]
    },
    {
     "name": "stderr",
     "output_type": "stream",
     "text": [
      "Processed prompts: 100%|██████████| 1076/1076 [01:51<00:00,  9.62it/s, est. speed input: 43021.21 toks/s, output: 291.57 toks/s] "
     ]
    },
    {
     "name": "stdout",
     "output_type": "stream",
     "text": [
      "extract_think количество ошибок:  0\n",
      "extract_sql количество ошибок:  0\n",
      "Закончили генерацию SQL запросов\n",
      "Начали скорр полученных SQL запросов\n"
     ]
    },
    {
     "name": "stderr",
     "output_type": "stream",
     "text": [
      "\n"
     ]
    },
    {
     "name": "stdout",
     "output_type": "stream",
     "text": [
      "Qwen3-8B DEV Финальный результат EX: 73.33\n",
      "Qwen3-8B процент запросов, которые успешно выполнились DEV: 99.16%\n",
      "====================================================================================================\n",
      "\n",
      "\n",
      "Загружаем чаты с данными...\n",
      "Данные успешно загружены\n",
      "Начали генерацию SQL запросов\n"
     ]
    },
    {
     "name": "stderr",
     "output_type": "stream",
     "text": [
      "Processed prompts: 100%|██████████| 1076/1076 [01:53<00:00,  9.52it/s, est. speed input: 42808.61 toks/s, output: 287.88 toks/s] "
     ]
    },
    {
     "name": "stdout",
     "output_type": "stream",
     "text": [
      "extract_think количество ошибок:  0\n",
      "extract_sql количество ошибок:  0\n",
      "Закончили генерацию SQL запросов\n",
      "Начали скорр полученных SQL запросов\n"
     ]
    },
    {
     "name": "stderr",
     "output_type": "stream",
     "text": [
      "\n"
     ]
    },
    {
     "name": "stdout",
     "output_type": "stream",
     "text": [
      "Qwen3-8B DEV Финальный результат EX: 73.05\n",
      "Qwen3-8B процент запросов, которые успешно выполнились DEV: 99.07%\n",
      "====================================================================================================\n",
      "\n",
      "\n",
      "Загружаем чаты с данными...\n",
      "Данные успешно загружены\n",
      "Начали генерацию SQL запросов\n"
     ]
    },
    {
     "name": "stderr",
     "output_type": "stream",
     "text": [
      "Processed prompts: 100%|██████████| 1076/1076 [01:52<00:00,  9.58it/s, est. speed input: 42718.74 toks/s, output: 289.83 toks/s] "
     ]
    },
    {
     "name": "stdout",
     "output_type": "stream",
     "text": [
      "extract_think количество ошибок:  0\n",
      "extract_sql количество ошибок:  0\n",
      "Закончили генерацию SQL запросов\n",
      "Начали скорр полученных SQL запросов\n"
     ]
    },
    {
     "name": "stderr",
     "output_type": "stream",
     "text": [
      "\n"
     ]
    },
    {
     "name": "stdout",
     "output_type": "stream",
     "text": [
      "Qwen3-8B DEV Финальный результат EX: 73.14\n",
      "Qwen3-8B процент запросов, которые успешно выполнились DEV: 98.51%\n",
      "====================================================================================================\n",
      "\n",
      "\n",
      "Загружаем чаты с данными...\n",
      "Данные успешно загружены\n",
      "Начали генерацию SQL запросов\n"
     ]
    },
    {
     "name": "stderr",
     "output_type": "stream",
     "text": [
      "Processed prompts: 100%|██████████| 1076/1076 [01:52<00:00,  9.58it/s, est. speed input: 42758.17 toks/s, output: 290.19 toks/s] "
     ]
    },
    {
     "name": "stdout",
     "output_type": "stream",
     "text": [
      "extract_think количество ошибок:  0\n",
      "extract_sql количество ошибок:  0\n",
      "Закончили генерацию SQL запросов\n",
      "Начали скорр полученных SQL запросов\n"
     ]
    },
    {
     "name": "stderr",
     "output_type": "stream",
     "text": [
      "\n"
     ]
    },
    {
     "name": "stdout",
     "output_type": "stream",
     "text": [
      "Qwen3-8B DEV Финальный результат EX: 73.14\n",
      "Qwen3-8B процент запросов, которые успешно выполнились DEV: 99.16%\n",
      "====================================================================================================\n",
      "\n",
      "\n",
      "Загружаем чаты с данными...\n",
      "Данные успешно загружены\n",
      "Начали генерацию SQL запросов\n"
     ]
    },
    {
     "name": "stderr",
     "output_type": "stream",
     "text": [
      "Processed prompts: 100%|██████████| 1076/1076 [01:54<00:00,  9.37it/s, est. speed input: 42873.24 toks/s, output: 283.87 toks/s] "
     ]
    },
    {
     "name": "stdout",
     "output_type": "stream",
     "text": [
      "extract_think количество ошибок:  0\n",
      "extract_sql количество ошибок:  0\n",
      "Закончили генерацию SQL запросов\n",
      "Начали скорр полученных SQL запросов\n"
     ]
    },
    {
     "name": "stderr",
     "output_type": "stream",
     "text": [
      "\n"
     ]
    },
    {
     "name": "stdout",
     "output_type": "stream",
     "text": [
      "Qwen3-8B DEV Финальный результат EX: 73.42\n",
      "Qwen3-8B процент запросов, которые успешно выполнились DEV: 99.07%\n",
      "====================================================================================================\n",
      "\n",
      "\n",
      "Загружаем чаты с данными...\n",
      "Данные успешно загружены\n",
      "Начали генерацию SQL запросов\n"
     ]
    },
    {
     "name": "stderr",
     "output_type": "stream",
     "text": [
      "Processed prompts: 100%|██████████| 1076/1076 [01:56<00:00,  9.26it/s, est. speed input: 42643.13 toks/s, output: 281.53 toks/s] "
     ]
    },
    {
     "name": "stdout",
     "output_type": "stream",
     "text": [
      "extract_think количество ошибок:  0\n",
      "extract_sql количество ошибок:  0\n",
      "Закончили генерацию SQL запросов\n",
      "Начали скорр полученных SQL запросов\n"
     ]
    },
    {
     "name": "stderr",
     "output_type": "stream",
     "text": [
      "\n"
     ]
    },
    {
     "name": "stdout",
     "output_type": "stream",
     "text": [
      "Qwen3-8B DEV Финальный результат EX: 73.61\n",
      "Qwen3-8B процент запросов, которые успешно выполнились DEV: 98.79%\n",
      "====================================================================================================\n",
      "\n",
      "\n",
      "Загружаем чаты с данными...\n",
      "Данные успешно загружены\n",
      "Начали генерацию SQL запросов\n"
     ]
    },
    {
     "name": "stderr",
     "output_type": "stream",
     "text": [
      "Processed prompts: 100%|██████████| 1076/1076 [01:54<00:00,  9.40it/s, est. speed input: 42807.22 toks/s, output: 286.94 toks/s] "
     ]
    },
    {
     "name": "stdout",
     "output_type": "stream",
     "text": [
      "extract_think количество ошибок:  0\n",
      "extract_sql количество ошибок:  0\n",
      "Закончили генерацию SQL запросов\n",
      "Начали скорр полученных SQL запросов\n"
     ]
    },
    {
     "name": "stderr",
     "output_type": "stream",
     "text": [
      "\n"
     ]
    },
    {
     "name": "stdout",
     "output_type": "stream",
     "text": [
      "Qwen3-8B DEV Финальный результат EX: 72.86\n",
      "Qwen3-8B процент запросов, которые успешно выполнились DEV: 98.70%\n",
      "====================================================================================================\n",
      "\n",
      "\n",
      "Загружаем чаты с данными...\n",
      "Данные успешно загружены\n",
      "Начали генерацию SQL запросов\n"
     ]
    },
    {
     "name": "stderr",
     "output_type": "stream",
     "text": [
      "Processed prompts: 100%|██████████| 1076/1076 [01:54<00:00,  9.44it/s, est. speed input: 42685.50 toks/s, output: 288.53 toks/s] "
     ]
    },
    {
     "name": "stdout",
     "output_type": "stream",
     "text": [
      "extract_think количество ошибок:  0\n",
      "extract_sql количество ошибок:  0\n",
      "Закончили генерацию SQL запросов\n",
      "Начали скорр полученных SQL запросов\n"
     ]
    },
    {
     "name": "stderr",
     "output_type": "stream",
     "text": [
      "\n"
     ]
    },
    {
     "name": "stdout",
     "output_type": "stream",
     "text": [
      "Qwen3-8B DEV Финальный результат EX: 73.14\n",
      "Qwen3-8B процент запросов, которые успешно выполнились DEV: 98.79%\n",
      "====================================================================================================\n",
      "\n",
      "\n",
      "Загружаем чаты с данными...\n",
      "Данные успешно загружены\n",
      "Начали генерацию SQL запросов\n"
     ]
    },
    {
     "name": "stderr",
     "output_type": "stream",
     "text": [
      "Processed prompts: 100%|██████████| 1076/1076 [01:54<00:00,  9.41it/s, est. speed input: 42863.82 toks/s, output: 284.08 toks/s] "
     ]
    },
    {
     "name": "stdout",
     "output_type": "stream",
     "text": [
      "extract_think количество ошибок:  0\n",
      "extract_sql количество ошибок:  0\n",
      "Закончили генерацию SQL запросов\n",
      "Начали скорр полученных SQL запросов\n"
     ]
    },
    {
     "name": "stderr",
     "output_type": "stream",
     "text": [
      "\n"
     ]
    },
    {
     "name": "stdout",
     "output_type": "stream",
     "text": [
      "Qwen3-8B DEV Финальный результат EX: 73.51\n",
      "Qwen3-8B процент запросов, которые успешно выполнились DEV: 98.70%\n",
      "====================================================================================================\n",
      "\n",
      "\n",
      "Загружаем чаты с данными...\n",
      "Данные успешно загружены\n",
      "Начали генерацию SQL запросов\n"
     ]
    },
    {
     "name": "stderr",
     "output_type": "stream",
     "text": [
      "Processed prompts: 100%|██████████| 1076/1076 [01:52<00:00,  9.53it/s, est. speed input: 42773.46 toks/s, output: 288.79 toks/s]"
     ]
    },
    {
     "name": "stdout",
     "output_type": "stream",
     "text": [
      "extract_think количество ошибок:  0\n",
      "extract_sql количество ошибок:  0\n",
      "Закончили генерацию SQL запросов\n",
      "Начали скорр полученных SQL запросов\n"
     ]
    },
    {
     "name": "stderr",
     "output_type": "stream",
     "text": [
      "\n"
     ]
    },
    {
     "name": "stdout",
     "output_type": "stream",
     "text": [
      "Qwen3-8B DEV Финальный результат EX: 73.70\n",
      "Qwen3-8B процент запросов, которые успешно выполнились DEV: 99.44%\n",
      "====================================================================================================\n",
      "\n",
      "\n",
      "Загружаем чаты с данными...\n",
      "Данные успешно загружены\n",
      "Начали генерацию SQL запросов\n"
     ]
    },
    {
     "name": "stderr",
     "output_type": "stream",
     "text": [
      "Processed prompts: 100%|██████████| 1076/1076 [01:52<00:00,  9.59it/s, est. speed input: 42774.68 toks/s, output: 291.98 toks/s]"
     ]
    },
    {
     "name": "stdout",
     "output_type": "stream",
     "text": [
      "extract_think количество ошибок:  0\n",
      "extract_sql количество ошибок:  0\n",
      "Закончили генерацию SQL запросов\n",
      "Начали скорр полученных SQL запросов\n"
     ]
    },
    {
     "name": "stderr",
     "output_type": "stream",
     "text": [
      "\n"
     ]
    },
    {
     "name": "stdout",
     "output_type": "stream",
     "text": [
      "Qwen3-8B DEV Финальный результат EX: 73.61\n",
      "Qwen3-8B процент запросов, которые успешно выполнились DEV: 98.61%\n",
      "====================================================================================================\n",
      "\n",
      "\n",
      "Загружаем чаты с данными...\n",
      "Данные успешно загружены\n",
      "Начали генерацию SQL запросов\n"
     ]
    },
    {
     "name": "stderr",
     "output_type": "stream",
     "text": [
      "Processed prompts: 100%|██████████| 1076/1076 [01:52<00:00,  9.58it/s, est. speed input: 42851.83 toks/s, output: 289.04 toks/s]"
     ]
    },
    {
     "name": "stdout",
     "output_type": "stream",
     "text": [
      "extract_think количество ошибок:  0\n",
      "extract_sql количество ошибок:  0\n",
      "Закончили генерацию SQL запросов\n",
      "Начали скорр полученных SQL запросов\n"
     ]
    },
    {
     "name": "stderr",
     "output_type": "stream",
     "text": [
      "\n"
     ]
    },
    {
     "name": "stdout",
     "output_type": "stream",
     "text": [
      "Qwen3-8B DEV Финальный результат EX: 72.58\n",
      "Qwen3-8B процент запросов, которые успешно выполнились DEV: 98.51%\n",
      "====================================================================================================\n",
      "\n",
      "\n",
      "Загружаем чаты с данными...\n",
      "Данные успешно загружены\n",
      "Начали генерацию SQL запросов\n"
     ]
    },
    {
     "name": "stderr",
     "output_type": "stream",
     "text": [
      "Processed prompts: 100%|██████████| 1076/1076 [01:53<00:00,  9.51it/s, est. speed input: 43006.33 toks/s, output: 287.75 toks/s] "
     ]
    },
    {
     "name": "stdout",
     "output_type": "stream",
     "text": [
      "extract_think количество ошибок:  0\n",
      "extract_sql количество ошибок:  0\n",
      "Закончили генерацию SQL запросов\n",
      "Начали скорр полученных SQL запросов\n"
     ]
    },
    {
     "name": "stderr",
     "output_type": "stream",
     "text": [
      "\n"
     ]
    },
    {
     "name": "stdout",
     "output_type": "stream",
     "text": [
      "Qwen3-8B DEV Финальный результат EX: 73.88\n",
      "Qwen3-8B процент запросов, которые успешно выполнились DEV: 98.88%\n",
      "====================================================================================================\n",
      "\n",
      "\n",
      "Загружаем чаты с данными...\n",
      "Данные успешно загружены\n",
      "Начали генерацию SQL запросов\n"
     ]
    },
    {
     "name": "stderr",
     "output_type": "stream",
     "text": [
      "Processed prompts: 100%|██████████| 1076/1076 [01:53<00:00,  9.45it/s, est. speed input: 42770.50 toks/s, output: 285.64 toks/s]"
     ]
    },
    {
     "name": "stdout",
     "output_type": "stream",
     "text": [
      "extract_think количество ошибок:  0\n",
      "extract_sql количество ошибок:  0\n",
      "Закончили генерацию SQL запросов\n",
      "Начали скорр полученных SQL запросов\n"
     ]
    },
    {
     "name": "stderr",
     "output_type": "stream",
     "text": [
      "\n"
     ]
    },
    {
     "name": "stdout",
     "output_type": "stream",
     "text": [
      "Qwen3-8B DEV Финальный результат EX: 74.07\n",
      "Qwen3-8B процент запросов, которые успешно выполнились DEV: 99.07%\n",
      "====================================================================================================\n",
      "\n",
      "\n",
      "Загружаем чаты с данными...\n",
      "Данные успешно загружены\n",
      "Начали генерацию SQL запросов\n"
     ]
    },
    {
     "name": "stderr",
     "output_type": "stream",
     "text": [
      "Processed prompts: 100%|██████████| 1076/1076 [01:51<00:00,  9.65it/s, est. speed input: 42991.20 toks/s, output: 293.83 toks/s] "
     ]
    },
    {
     "name": "stdout",
     "output_type": "stream",
     "text": [
      "extract_think количество ошибок:  0\n",
      "extract_sql количество ошибок:  0\n",
      "Закончили генерацию SQL запросов\n",
      "Начали скорр полученных SQL запросов\n"
     ]
    },
    {
     "name": "stderr",
     "output_type": "stream",
     "text": [
      "\n"
     ]
    },
    {
     "name": "stdout",
     "output_type": "stream",
     "text": [
      "Qwen3-8B DEV Финальный результат EX: 73.42\n",
      "Qwen3-8B процент запросов, которые успешно выполнились DEV: 98.88%\n",
      "====================================================================================================\n",
      "\n",
      "\n",
      "Загружаем чаты с данными...\n",
      "Данные успешно загружены\n",
      "Начали генерацию SQL запросов\n"
     ]
    },
    {
     "name": "stderr",
     "output_type": "stream",
     "text": [
      "Processed prompts: 100%|██████████| 1076/1076 [01:51<00:00,  9.62it/s, est. speed input: 43015.29 toks/s, output: 292.86 toks/s] "
     ]
    },
    {
     "name": "stdout",
     "output_type": "stream",
     "text": [
      "extract_think количество ошибок:  0\n",
      "extract_sql количество ошибок:  0\n",
      "Закончили генерацию SQL запросов\n",
      "Начали скорр полученных SQL запросов\n"
     ]
    },
    {
     "name": "stderr",
     "output_type": "stream",
     "text": [
      "\n"
     ]
    },
    {
     "name": "stdout",
     "output_type": "stream",
     "text": [
      "Qwen3-8B DEV Финальный результат EX: 73.33\n",
      "Qwen3-8B процент запросов, которые успешно выполнились DEV: 98.70%\n",
      "====================================================================================================\n",
      "\n",
      "\n",
      "Загружаем чаты с данными...\n",
      "Данные успешно загружены\n",
      "Начали генерацию SQL запросов\n"
     ]
    },
    {
     "name": "stderr",
     "output_type": "stream",
     "text": [
      "Processed prompts: 100%|██████████| 1076/1076 [01:52<00:00,  9.59it/s, est. speed input: 43002.99 toks/s, output: 289.70 toks/s] "
     ]
    },
    {
     "name": "stdout",
     "output_type": "stream",
     "text": [
      "extract_think количество ошибок:  0\n",
      "extract_sql количество ошибок:  0\n",
      "Закончили генерацию SQL запросов\n",
      "Начали скорр полученных SQL запросов\n"
     ]
    },
    {
     "name": "stderr",
     "output_type": "stream",
     "text": [
      "\n"
     ]
    },
    {
     "name": "stdout",
     "output_type": "stream",
     "text": [
      "Qwen3-8B DEV Финальный результат EX: 73.88\n",
      "Qwen3-8B процент запросов, которые успешно выполнились DEV: 99.16%\n",
      "====================================================================================================\n",
      "\n",
      "\n",
      "Загружаем чаты с данными...\n",
      "Данные успешно загружены\n",
      "Начали генерацию SQL запросов\n"
     ]
    },
    {
     "name": "stderr",
     "output_type": "stream",
     "text": [
      "Processed prompts: 100%|██████████| 1076/1076 [01:52<00:00,  9.57it/s, est. speed input: 43077.56 toks/s, output: 290.31 toks/s]"
     ]
    },
    {
     "name": "stdout",
     "output_type": "stream",
     "text": [
      "extract_think количество ошибок:  0\n",
      "extract_sql количество ошибок:  0\n",
      "Закончили генерацию SQL запросов\n",
      "Начали скорр полученных SQL запросов\n"
     ]
    },
    {
     "name": "stderr",
     "output_type": "stream",
     "text": [
      "\n"
     ]
    },
    {
     "name": "stdout",
     "output_type": "stream",
     "text": [
      "Qwen3-8B DEV Финальный результат EX: 72.68\n",
      "Qwen3-8B процент запросов, которые успешно выполнились DEV: 99.16%\n",
      "====================================================================================================\n",
      "\n",
      "\n"
     ]
    }
   ],
   "source": [
    "run_cot_experiment(model,arr_seeds,arr_versions, type_cot,num_observations=num_observations)"
   ]
  },
  {
   "cell_type": "code",
   "execution_count": null,
   "id": "778de288-b491-4a74-b7ba-c43a19d8b2b7",
   "metadata": {},
   "outputs": [],
   "source": []
  }
 ],
 "metadata": {
  "kernelspec": {
   "display_name": "vllm",
   "language": "python",
   "name": "vllm"
  },
  "language_info": {
   "codemirror_mode": {
    "name": "ipython",
    "version": 3
   },
   "file_extension": ".py",
   "mimetype": "text/x-python",
   "name": "python",
   "nbconvert_exporter": "python",
   "pygments_lexer": "ipython3",
   "version": "3.12.4"
  }
 },
 "nbformat": 4,
 "nbformat_minor": 5
}
