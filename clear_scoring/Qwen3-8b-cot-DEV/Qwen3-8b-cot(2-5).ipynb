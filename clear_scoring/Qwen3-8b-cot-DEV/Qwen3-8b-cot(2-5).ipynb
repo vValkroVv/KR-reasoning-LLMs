{
 "cells": [
  {
   "cell_type": "code",
   "execution_count": 1,
   "id": "6f20e5ea-3a64-4bfa-8502-13bb8469c893",
   "metadata": {},
   "outputs": [],
   "source": [
    "import os, sys\n",
    "sys.path.append(\"/home/vkropoti/vllm\")"
   ]
  },
  {
   "cell_type": "code",
   "execution_count": 2,
   "id": "4fc844b5-83f1-48aa-a6c8-3d93f16a861d",
   "metadata": {},
   "outputs": [
    {
     "name": "stdout",
     "output_type": "stream",
     "text": [
      "INFO 05-17 02:01:49 [__init__.py:239] Automatically detected platform cuda.\n"
     ]
    },
    {
     "name": "stderr",
     "output_type": "stream",
     "text": [
      "2025-05-17 02:01:50,644\tINFO util.py:154 -- Missing packages: ['ipywidgets']. Run `pip install -U ipywidgets`, then restart the notebook server for rich notebook output.\n"
     ]
    }
   ],
   "source": [
    "from src.experiment import run_cot_experiment\n",
    "import random\n",
    "import numpy as np"
   ]
  },
  {
   "cell_type": "markdown",
   "id": "56cbd008-e8be-44cd-a2f8-83886376560e",
   "metadata": {},
   "source": [
    "# part1: reasoning+answer"
   ]
  },
  {
   "cell_type": "markdown",
   "id": "1d4174ff-32eb-4901-9b13-dfc26f6bd8e3",
   "metadata": {},
   "source": [
    "### 2 наблюдения"
   ]
  },
  {
   "cell_type": "code",
   "execution_count": 3,
   "id": "5635dae6-2ae1-4d4d-af1f-dfcd7abc923b",
   "metadata": {},
   "outputs": [
    {
     "name": "stdout",
     "output_type": "stream",
     "text": [
      "[216, 184, 775, 324, 544, 514, 805, 612, 623, 296, 988, 583, 292, 205, 337, 774, 430, 774, 247, 99]\n",
      "model: Qwen3-8B\n"
     ]
    }
   ],
   "source": [
    "n= 20\n",
    "arr_seeds = [random.randint(0,1000) for _ in range(n)]\n",
    "arr_versions = [x for x in range(n)]\n",
    "model = \"Qwen3-8B\"\n",
    "num_observations = 2\n",
    "type_cot = 'all_new'\n",
    "print(arr_seeds)\n",
    "print(f\"model: {model}\")"
   ]
  },
  {
   "cell_type": "code",
   "execution_count": 4,
   "id": "499630a1-5ce2-4867-9648-dc199d088be4",
   "metadata": {
    "scrolled": true
   },
   "outputs": [
    {
     "name": "stdout",
     "output_type": "stream",
     "text": [
      "Загружаем модель...\n"
     ]
    },
    {
     "name": "stderr",
     "output_type": "stream",
     "text": [
      "Loading safetensors checkpoint shards:   0% Completed | 0/4 [00:00<?, ?it/s]\n",
      "Loading safetensors checkpoint shards:  25% Completed | 1/4 [00:00<00:00,  8.73it/s]\n",
      "Loading safetensors checkpoint shards:  50% Completed | 2/4 [00:00<00:00,  2.54it/s]\n",
      "Loading safetensors checkpoint shards:  75% Completed | 3/4 [00:01<00:00,  1.85it/s]\n",
      "Loading safetensors checkpoint shards: 100% Completed | 4/4 [00:02<00:00,  1.64it/s]\n",
      "Loading safetensors checkpoint shards: 100% Completed | 4/4 [00:02<00:00,  1.88it/s]\n",
      "\u001b[1;36m(VllmWorker rank=0 pid=3793812)\u001b[0;0m \n"
     ]
    },
    {
     "name": "stdout",
     "output_type": "stream",
     "text": [
      "Модель успешно загружена\n",
      "model_config {'model': '/data/home/vkropoti/models/Qwen3-8B', 'tensor_parallel_size': 2, 'max_model_len': 40000, 'max_new_tokens': 1500, 'temperature': 0, 'top_k': 1, 'top_p': 0.8, 'gpu_memory_utilization': 0.9, 'trust_remote_code': False, 'seed': 216}\n",
      "\n",
      "prompts_config {'path_dev_json': '/home/vkropoti/vllm/dev.json', 'path_sql_dbs': '/data/home/vkropoti/sql_data/dev_databases/', 'use_reasoning': False, 'paths_to_cot': ['/data/home/vkropoti/sql_llm_answers/bird_dev/sql_all_new_Qwen3-8B-reasoning-v0', '/data/home/vkropoti/sql_llm_answers/bird_dev/sql_all_new_Qwen3-8B-reasoning-v1']}\n",
      "\n",
      "save_config {'path_sql_save': '/data/home/vkropoti/sql_llm_answers/bird_dev/sql_all_Qwen3-8B-cot_all_new_think==False_nobs2-v0', 'path_think_save': None, 'path_sql_answers_save': '/data/home/vkropoti/sql_llm_answers/bird_dev/sql_predict_Qwen3-8B-cot_all_new_think==False_nobs2-v0', 'path_to_save_scores': '/data/home/vkropoti/sql_llm_answers/bird_dev/sql_results_Qwen3-8B-cot_all_new_think==False_nobs2-v0', 'path_to_save_executed': '/data/home/vkropoti/sql_llm_answers/bird_dev/sql_executed_Qwen3-8B-cot_all_new_think==False_nobs2-v0'}\n",
      "\n",
      "Модель успешно загружена\n",
      "Пример промпта\n",
      "<|im_start|>system\n",
      "\n",
      "You are a data science expert. Below, you are provided with a database schema and a natural language question. Your task is to understand the schema and generate a valid SQL query to answer the question.\n",
      "\n",
      "Database Engine: SQLite\n",
      "\n",
      "You will be given an additional analysis of other models, please take it into account, so the plan is\n",
      "1. Analyse given addition analysis from other models (find in which analysis the same and differ, how to use that to answer question)\n",
      "2. Combine best from previous part and think how to solve the problem (analyze tables, take care what columns avaliable in each table and so on, check the syntacsis)\n",
      "3. Create the answers. The answer should be only sql query.\n",
      "\n",
      "Carefully follow the instruction and add <|im_end|> and the end of the final answer<|im_end|>\n",
      "<|im_start|>user\n",
      "Here is addition analysis from other models which can be helpfull, please take this into account but be careful (choose the best from each analysis, combine them to make the most proper answer):\n",
      "\n",
      "model 0 analysis:\n",
      " Reasoning process:\n",
      "\n",
      "Okay, I need to find the highest eligible free rate for K-12 students in schools located in Alameda County. Let's start by understanding the tables and the data available.\n",
      "\n",
      "First, the question involves two main tables: frpm and schools. The frpm table has the `Free Meal Count (K-12)` and `Enrollment (K-12)` columns needed to calculate the eligible free rate. The schools table has the County information, specifically the `County` column. \n",
      "\n",
      "So, the first step is to join these two tables on the CDSCode, which is the common key. The frpm table's CDSCode is a foreign key referencing the schools table's CDSCode. That makes sense. \n",
      "\n",
      "Next, I need to filter the schools in Alameda County. The schools table has a `County` column, so I'll add a WHERE clause to check if County equals 'Alameda'. \n",
      "\n",
      "Once the data is filtered, I need to calculate the eligible free rate using the formula provided: `Free Meal Count (K-12) / Enrollment (K-12)`. However, I should be cautious about division by zero. But since the question is about schools with data, maybe there's a safety net, but the problem might not require handling that here. \n",
      "\n",
      "The goal is to find the highest rate, so I'll use the MAX function on the calculated rate. But to do that, I need to compute the rate for each school and then find the maximum value. \n",
      "\n",
      "Putting it all together, the SQL query should select the maximum of the calculated rate from the joined tables where the County is Alameda. \n",
      "\n",
      "Wait, but the formula is Free Meal Count divided by Enrollment. So in SQL, that would be `Free Meal Count (K-12) / Enrollment (K-12)`. \n",
      "\n",
      "So the query structure would be: \n",
      "\n",
      "SELECT MAX(`Free Meal Count (K-12)` / `Enrollment (K-12)`) AS highest_rate\n",
      "FROM frpm\n",
      "JOIN schools ON frpm.CDSCode = schools.CDSCode\n",
      "WHERE schools.County = 'Alameda';\n",
      "\n",
      "But I should check if there are any schools in Alameda County. Also, ensure that the columns are correctly quoted since some have spaces. \n",
      "\n",
      "I should make sure that the JOIN is correctly using the CDSCode from both tables. Also, the schools table's County column is the right one to filter. \n",
      "\n",
      "I think that's all. The final query should select the maximum value of the calculated rate from the relevant schools.\n",
      "\n",
      "Final answer based om reasoning for this model:\n",
      "\n",
      "\n",
      "```\n",
      "SELECT MAX(`Free Meal Count (K-12)` / `Enrollment (K-12)`) FROM frpm JOIN schools ON frpm.CDSCode = schools.CDSCode WHERE County = 'Alameda';\n",
      "```\n",
      "\n",
      "model 1 analysis:\n",
      " Reasoning process:\n",
      "\n",
      "Okay, let's tackle this question. The user wants the highest eligible free rate for K-12 students in Alameda County. First, I need to figure out which tables and columns are involved.\n",
      "\n",
      "The eligible free rate is calculated as Free Meal Count (K-12) divided by Enrollment (K-12). The frpm table has these columns. But I also need to filter schools in Alameda County. The schools table has a County column. So I need to join frpm with schools on CDSCode to get the county information.\n",
      "\n",
      "Wait, the frpm table has a foreign key to schools' CDSCode, so joining them on CDSCode makes sense. Then, I can filter where County = 'Alameda'. Once I have the eligible free rate for each school, I need to find the maximum value. \n",
      "\n",
      "So the steps are: join frpm and schools on CDSCode, filter for Alameda County, calculate the ratio, and then select the maximum. But I need to make sure that Enrollment (K-12) isn't zero to avoid division by zero. However, the question might assume that enrollment is non-zero. \n",
      "\n",
      "The SQL query would select the maximum of (Free Meal Count / Enrollment) from the joined tables where County is Alameda. I should use the correct column names with backticks. Also, since the user wants only the highest rate, using MAX() on the calculated value should work. \n",
      "\n",
      "Wait, but the question says \"highest eligible free rate\", which is the percentage. So the calculation is (Free Meal Count / Enrollment) * 100. But the columns in frpm are Free Meal Count (K-12) and Enrollment (K-12). So the query would be:\n",
      "\n",
      "SELECT MAX(`Free Meal Count (K-12)` / `Enrollment (K-12)`) AS MaxRate\n",
      "FROM frpm\n",
      "JOIN schools ON frpm.CDSCode = schools.CDSCode\n",
      "WHERE schools.County = 'Alameda';\n",
      "\n",
      "But I need to check if the County column in schools is case-sensitive. The question says Alameda County, so the value in County might be 'Alameda'. Also, ensuring that Enrollment isn't zero. However, the problem might not require handling that. \n",
      "\n",
      "So the final query should join the tables, filter by County, compute the ratio, and find the maximum. That's the plan.\n",
      "\n",
      "Final answer based om reasoning for this model:\n",
      "\n",
      "\n",
      "```\n",
      "SELECT MAX(`Free Meal Count (K-12)` / `Enrollment (K-12)`) FROM frpm JOIN schools ON frpm.CDSCode = schools.CDSCode WHERE schools.County = 'Alameda';\n",
      "```\n",
      "\n",
      "\n",
      "here is avaliable tables below\n",
      "\n",
      "\n",
      "Table: frpm\n",
      "CREATE TABLE frpm\n",
      "(\n",
      "    CDSCode                                       TEXT not null\n",
      "        primary key,\n",
      "    `Academic Year`                               TEXT  null,\n",
      "    `County Code`                                 TEXT  null,\n",
      "    `District Code`                               INTEGER         null,\n",
      "    `School Code`                                 TEXT  null,\n",
      "    `County Name`                                 TEXT null,\n",
      "    `District Name`                               TEXT null,\n",
      "    `School Name`                                 TEXT null,\n",
      "    `District Type`                               TEXT null,\n",
      "    `School Type`                                 TEXT null,\n",
      "    `Educational Option Type`                     TEXT null,\n",
      "    `NSLP Provision Status`                       TEXT null,\n",
      "    `Charter School (Y/N)`                        INTEGER    null,\n",
      "    `Charter School Number`                       TEXT  null,\n",
      "    `Charter Funding Type`                        TEXT null,\n",
      "    IRC                                           INTEGER    null,\n",
      "    `Low Grade`                                   TEXT  null,\n",
      "    `High Grade`                                  TEXT null,\n",
      "    `Enrollment (K-12)`                           REAL      null,\n",
      "    `Free Meal Count (K-12)`                      REAL       null,\n",
      "    `Percent (%) Eligible Free (K-12)`            REAL       null,\n",
      "    `FRPM Count (K-12)`                           REAL       null,\n",
      "    `Percent (%) Eligible FRPM (K-12)`            REAL       null,\n",
      "    `Enrollment (Ages 5-17)`                      REAL       null,\n",
      "    `Free Meal Count (Ages 5-17)`                 REAL       null,\n",
      "    `Percent (%) Eligible Free (Ages 5-17)`       REAL       null,\n",
      "    `FRPM Count (Ages 5-17)`                      REAL       null,\n",
      "    `Percent (%) Eligible FRPM (Ages 5-17)`       REAL       null,\n",
      "    `2013-14 CALPADS Fall 1 Certification Status` INTEGER    null,\n",
      "    foreign key (CDSCode) references schools (CDSCode)\n",
      ")\n",
      "\n",
      "Table: satscores\n",
      "CREATE TABLE satscores\n",
      "(\n",
      "    cds         TEXT not null\n",
      "        primary key,\n",
      "    rtype       TEXT  not null,\n",
      "    sname       TEXT null,\n",
      "    dname       TEXT null,\n",
      "    cname       TEXT null,\n",
      "    enroll12    INTEGER         not null,\n",
      "    NumTstTakr  INTEGER          not null,\n",
      "    AvgScrRead  INTEGER          null,\n",
      "    AvgScrMath  INTEGER          null,\n",
      "    AvgScrWrite INTEGER          null,\n",
      "    NumGE1500   INTEGER          null,\n",
      "--     PctGE1500   double      null,\n",
      "        foreign key (cds) references schools (CDSCode)\n",
      ")\n",
      "\n",
      "Table: schools\n",
      "CREATE TABLE schools\n",
      "(\n",
      "    CDSCode     TEXT not null\n",
      "        primary key,\n",
      "    NCESDist    TEXT  null,\n",
      "    NCESSchool  TEXT  null,\n",
      "    StatusType  TEXT  not null,\n",
      "    County      TEXT not null,\n",
      "    District    TEXT not null,\n",
      "    School      TEXT null,\n",
      "    Street      TEXT null,\n",
      "    StreetAbr   TEXT null,\n",
      "    City        TEXT null,\n",
      "    Zip         TEXT null,\n",
      "    State       TEXT  null,\n",
      "    MailStreet  TEXT null,\n",
      "    MailStrAbr  TEXT null,\n",
      "    MailCity    TEXT null,\n",
      "    MailZip     TEXT null,\n",
      "    MailState   TEXT  null,\n",
      "    Phone       TEXT null,\n",
      "    Ext         TEXT  null,\n",
      "    Website     TEXT null,\n",
      "    OpenDate    DATE        null,\n",
      "    ClosedDate  DATE        null,\n",
      "    Charter     INTEGER    null,\n",
      "    CharterNum  TEXT  null,\n",
      "    FundingType TEXT null,\n",
      "    DOC         TEXT  not null,\n",
      "    DOCType     TEXT not null,\n",
      "    SOC         TEXT  null,\n",
      "    SOCType     TEXT null,\n",
      "    EdOpsCode   TEXT  null,\n",
      "    EdOpsName   TEXT null,\n",
      "    EILCode     TEXT  null,\n",
      "    EILName     TEXT null,\n",
      "    GSoffered   TEXT null,\n",
      "    GSserved    TEXT  null,\n",
      "    Virtual     TEXT  null,\n",
      "    Magnet      INTEGER   null,\n",
      "    Latitude    REAL      null,\n",
      "    Longitude   REAL      null,\n",
      "    AdmFName1   TEXT null,\n",
      "    AdmLName1   TEXT null,\n",
      "    AdmEmail1   TEXT null,\n",
      "    AdmFName2   TEXT null,\n",
      "    AdmLName2   TEXT null,\n",
      "    AdmEmail2   TEXT null,\n",
      "    AdmFName3   TEXT  null,\n",
      "    AdmLName3   TEXT null,\n",
      "    AdmEmail3   TEXT null,\n",
      "    LastUpdate  DATE        not null\n",
      ")\n",
      "\n",
      "-- Using valid SQLite and understanding External Knowledge, answer the following questions for the tables provided above.\n",
      "-- What is the highest eligible free rate for K-12 students in the schools in Alameda County?\n",
      "-- External Knowledge: Eligible free rate for K-12 = `Free Meal Count (K-12)` / `Enrollment (K-12)`\n",
      "\n",
      "\n",
      "Generate the SQLite for the above question after thinking step by step: \n",
      "\n",
      "\n",
      "Instructions:\n",
      "- Make sure you only output the information that is asked in the question. If the question asks for a specific column, make sure to only include that column in the SELECT clause, nothing more.\n",
      "- The generated query should return all of the information asked in the question without any missing or extra information.\n",
      "- Before generating the final SQL query, please think through the steps of how to write the query.\n",
      "- Do not misuse column names, keep them in quotes `\n",
      "- Carefully understand what colomns belond to what tables\n",
      "- Use only initial column names, change names prohibited\n",
      "        \n",
      "Output Format:\n",
      "In your answer, please enclose the generated SQL query in a code block:\n",
      "```\n",
      "-- Your SQL query\n",
      "```    \n",
      "and nothing else, no exaplains, no comments (asnwer should be less than 512 characters)\n",
      "\n",
      "Take a deep breath and think step by step to find the correct SQL query in SQLite format.\n",
      "\n",
      "Question repetition: What is the highest eligible free rate for K-12 students in the schools in Alameda County?\n",
      "\n",
      "Be care! Include only what i want it questiona and nothing else<|im_end|>\n",
      "<|im_start|>assistant\n",
      "<think>\n",
      "\n",
      "</think>\n",
      "\n",
      "\n",
      "\n",
      "\n",
      "Максимальное количество токенов в промптах: 11196\n",
      "\n",
      "начинаем скорринг\n",
      "Загружаем чаты с данными...\n",
      "Данные успешно загружены\n",
      "Начали генерацию SQL запросов\n"
     ]
    },
    {
     "name": "stderr",
     "output_type": "stream",
     "text": [
      "Processed prompts: 100%|██████████| 1534/1534 [01:56<00:00, 13.17it/s, est. speed input: 42591.87 toks/s, output: 630.63 toks/s] "
     ]
    },
    {
     "name": "stdout",
     "output_type": "stream",
     "text": [
      "extract_think количество ошибок:  0\n",
      "extract_sql количество ошибок:  0\n",
      "Закончили генерацию SQL запросов\n",
      "Начали скорр полученных SQL запросов\n"
     ]
    },
    {
     "name": "stderr",
     "output_type": "stream",
     "text": [
      "\n"
     ]
    },
    {
     "name": "stdout",
     "output_type": "stream",
     "text": [
      "Qwen3-8B DEV Финальный результат EX: 56.84\n",
      "Qwen3-8B процент запросов, которые успешно выполнились DEV: 94.52%\n",
      "====================================================================================================\n",
      "\n",
      "\n",
      "Загружаем чаты с данными...\n",
      "Данные успешно загружены\n",
      "Начали генерацию SQL запросов\n"
     ]
    },
    {
     "name": "stderr",
     "output_type": "stream",
     "text": [
      "Processed prompts: 100%|██████████| 1534/1534 [01:58<00:00, 12.95it/s, est. speed input: 42115.96 toks/s, output: 628.60 toks/s] "
     ]
    },
    {
     "name": "stdout",
     "output_type": "stream",
     "text": [
      "extract_think количество ошибок:  0\n",
      "extract_sql количество ошибок:  0\n",
      "Закончили генерацию SQL запросов\n",
      "Начали скорр полученных SQL запросов\n"
     ]
    },
    {
     "name": "stderr",
     "output_type": "stream",
     "text": [
      "\n"
     ]
    },
    {
     "name": "stdout",
     "output_type": "stream",
     "text": [
      "Qwen3-8B DEV Финальный результат EX: 57.43\n",
      "Qwen3-8B процент запросов, которые успешно выполнились DEV: 95.44%\n",
      "====================================================================================================\n",
      "\n",
      "\n",
      "Загружаем чаты с данными...\n",
      "Данные успешно загружены\n",
      "Начали генерацию SQL запросов\n"
     ]
    },
    {
     "name": "stderr",
     "output_type": "stream",
     "text": [
      "Processed prompts: 100%|██████████| 1534/1534 [01:59<00:00, 12.89it/s, est. speed input: 42028.93 toks/s, output: 616.78 toks/s] "
     ]
    },
    {
     "name": "stdout",
     "output_type": "stream",
     "text": [
      "extract_think количество ошибок:  0\n",
      "extract_sql количество ошибок:  0\n",
      "Закончили генерацию SQL запросов\n",
      "Начали скорр полученных SQL запросов\n"
     ]
    },
    {
     "name": "stderr",
     "output_type": "stream",
     "text": [
      "\n"
     ]
    },
    {
     "name": "stdout",
     "output_type": "stream",
     "text": [
      "Qwen3-8B DEV Финальный результат EX: 57.04\n",
      "Qwen3-8B процент запросов, которые успешно выполнились DEV: 95.70%\n",
      "====================================================================================================\n",
      "\n",
      "\n",
      "Загружаем чаты с данными...\n",
      "Данные успешно загружены\n",
      "Начали генерацию SQL запросов\n"
     ]
    },
    {
     "name": "stderr",
     "output_type": "stream",
     "text": [
      "Processed prompts: 100%|██████████| 1534/1534 [02:00<00:00, 12.72it/s, est. speed input: 41745.85 toks/s, output: 608.18 toks/s] "
     ]
    },
    {
     "name": "stdout",
     "output_type": "stream",
     "text": [
      "extract_think количество ошибок:  0\n",
      "extract_sql количество ошибок:  0\n",
      "Закончили генерацию SQL запросов\n",
      "Начали скорр полученных SQL запросов\n"
     ]
    },
    {
     "name": "stderr",
     "output_type": "stream",
     "text": [
      "\n"
     ]
    },
    {
     "name": "stdout",
     "output_type": "stream",
     "text": [
      "Qwen3-8B DEV Финальный результат EX: 57.24\n",
      "Qwen3-8B процент запросов, которые успешно выполнились DEV: 96.09%\n",
      "====================================================================================================\n",
      "\n",
      "\n",
      "Загружаем чаты с данными...\n",
      "Данные успешно загружены\n",
      "Начали генерацию SQL запросов\n"
     ]
    },
    {
     "name": "stderr",
     "output_type": "stream",
     "text": [
      "Processed prompts: 100%|██████████| 1534/1534 [01:59<00:00, 12.79it/s, est. speed input: 41561.56 toks/s, output: 622.41 toks/s] "
     ]
    },
    {
     "name": "stdout",
     "output_type": "stream",
     "text": [
      "extract_think количество ошибок:  0\n",
      "extract_sql количество ошибок:  0\n",
      "Закончили генерацию SQL запросов\n",
      "Начали скорр полученных SQL запросов\n"
     ]
    },
    {
     "name": "stderr",
     "output_type": "stream",
     "text": [
      "\n"
     ]
    },
    {
     "name": "stdout",
     "output_type": "stream",
     "text": [
      "Qwen3-8B DEV Финальный результат EX: 57.24\n",
      "Qwen3-8B процент запросов, которые успешно выполнились DEV: 95.44%\n",
      "====================================================================================================\n",
      "\n",
      "\n",
      "Загружаем чаты с данными...\n",
      "Данные успешно загружены\n",
      "Начали генерацию SQL запросов\n"
     ]
    },
    {
     "name": "stderr",
     "output_type": "stream",
     "text": [
      "Processed prompts: 100%|██████████| 1534/1534 [01:59<00:00, 12.86it/s, est. speed input: 41463.57 toks/s, output: 625.62 toks/s] "
     ]
    },
    {
     "name": "stdout",
     "output_type": "stream",
     "text": [
      "extract_think количество ошибок:  0\n",
      "extract_sql количество ошибок:  0\n",
      "Закончили генерацию SQL запросов\n",
      "Начали скорр полученных SQL запросов\n"
     ]
    },
    {
     "name": "stderr",
     "output_type": "stream",
     "text": [
      "\n"
     ]
    },
    {
     "name": "stdout",
     "output_type": "stream",
     "text": [
      "Qwen3-8B DEV Финальный результат EX: 57.69\n",
      "Qwen3-8B процент запросов, которые успешно выполнились DEV: 95.50%\n",
      "====================================================================================================\n",
      "\n",
      "\n",
      "Загружаем чаты с данными...\n",
      "Данные успешно загружены\n",
      "Начали генерацию SQL запросов\n"
     ]
    },
    {
     "name": "stderr",
     "output_type": "stream",
     "text": [
      "Processed prompts: 100%|██████████| 1534/1534 [02:07<00:00, 12.05it/s, est. speed input: 39650.65 toks/s, output: 599.54 toks/s] "
     ]
    },
    {
     "name": "stdout",
     "output_type": "stream",
     "text": [
      "extract_think количество ошибок:  0\n",
      "extract_sql количество ошибок:  0\n",
      "Закончили генерацию SQL запросов\n",
      "Начали скорр полученных SQL запросов\n"
     ]
    },
    {
     "name": "stderr",
     "output_type": "stream",
     "text": [
      "\n"
     ]
    },
    {
     "name": "stdout",
     "output_type": "stream",
     "text": [
      "Qwen3-8B DEV Финальный результат EX: 56.84\n",
      "Qwen3-8B процент запросов, которые успешно выполнились DEV: 95.44%\n",
      "====================================================================================================\n",
      "\n",
      "\n",
      "Загружаем чаты с данными...\n",
      "Данные успешно загружены\n",
      "Начали генерацию SQL запросов\n"
     ]
    },
    {
     "name": "stderr",
     "output_type": "stream",
     "text": [
      "Processed prompts: 100%|██████████| 1534/1534 [02:02<00:00, 12.52it/s, est. speed input: 41427.57 toks/s, output: 604.59 toks/s] "
     ]
    },
    {
     "name": "stdout",
     "output_type": "stream",
     "text": [
      "extract_think количество ошибок:  0\n",
      "extract_sql количество ошибок:  0\n",
      "Закончили генерацию SQL запросов\n",
      "Начали скорр полученных SQL запросов\n"
     ]
    },
    {
     "name": "stderr",
     "output_type": "stream",
     "text": [
      "\n"
     ]
    },
    {
     "name": "stdout",
     "output_type": "stream",
     "text": [
      "Qwen3-8B DEV Финальный результат EX: 57.24\n",
      "Qwen3-8B процент запросов, которые успешно выполнились DEV: 95.24%\n",
      "====================================================================================================\n",
      "\n",
      "\n",
      "Загружаем чаты с данными...\n",
      "Данные успешно загружены\n",
      "Начали генерацию SQL запросов\n"
     ]
    },
    {
     "name": "stderr",
     "output_type": "stream",
     "text": [
      "Processed prompts: 100%|██████████| 1534/1534 [02:00<00:00, 12.78it/s, est. speed input: 41295.07 toks/s, output: 621.41 toks/s] "
     ]
    },
    {
     "name": "stdout",
     "output_type": "stream",
     "text": [
      "extract_think количество ошибок:  0\n",
      "extract_sql количество ошибок:  0\n",
      "Закончили генерацию SQL запросов\n",
      "Начали скорр полученных SQL запросов\n"
     ]
    },
    {
     "name": "stderr",
     "output_type": "stream",
     "text": [
      "\n"
     ]
    },
    {
     "name": "stdout",
     "output_type": "stream",
     "text": [
      "Qwen3-8B DEV Финальный результат EX: 56.98\n",
      "Qwen3-8B процент запросов, которые успешно выполнились DEV: 96.15%\n",
      "====================================================================================================\n",
      "\n",
      "\n",
      "Загружаем чаты с данными...\n",
      "Данные успешно загружены\n",
      "Начали генерацию SQL запросов\n"
     ]
    },
    {
     "name": "stderr",
     "output_type": "stream",
     "text": [
      "Processed prompts: 100%|██████████| 1534/1534 [01:57<00:00, 13.08it/s, est. speed input: 42343.57 toks/s, output: 620.52 toks/s] "
     ]
    },
    {
     "name": "stdout",
     "output_type": "stream",
     "text": [
      "extract_think количество ошибок:  0\n",
      "extract_sql количество ошибок:  0\n",
      "Закончили генерацию SQL запросов\n",
      "Начали скорр полученных SQL запросов\n"
     ]
    },
    {
     "name": "stderr",
     "output_type": "stream",
     "text": [
      "\n"
     ]
    },
    {
     "name": "stdout",
     "output_type": "stream",
     "text": [
      "Qwen3-8B DEV Финальный результат EX: 57.30\n",
      "Qwen3-8B процент запросов, которые успешно выполнились DEV: 96.41%\n",
      "====================================================================================================\n",
      "\n",
      "\n",
      "Загружаем чаты с данными...\n",
      "Данные успешно загружены\n",
      "Начали генерацию SQL запросов\n"
     ]
    },
    {
     "name": "stderr",
     "output_type": "stream",
     "text": [
      "Processed prompts: 100%|██████████| 1534/1534 [02:04<00:00, 12.37it/s, est. speed input: 40881.20 toks/s, output: 594.69 toks/s] "
     ]
    },
    {
     "name": "stdout",
     "output_type": "stream",
     "text": [
      "extract_think количество ошибок:  0\n",
      "extract_sql количество ошибок:  0\n",
      "Закончили генерацию SQL запросов\n",
      "Начали скорр полученных SQL запросов\n"
     ]
    },
    {
     "name": "stderr",
     "output_type": "stream",
     "text": [
      "\n"
     ]
    },
    {
     "name": "stdout",
     "output_type": "stream",
     "text": [
      "Qwen3-8B DEV Финальный результат EX: 57.37\n",
      "Qwen3-8B процент запросов, которые успешно выполнились DEV: 95.76%\n",
      "====================================================================================================\n",
      "\n",
      "\n",
      "Загружаем чаты с данными...\n",
      "Данные успешно загружены\n",
      "Начали генерацию SQL запросов\n"
     ]
    },
    {
     "name": "stderr",
     "output_type": "stream",
     "text": [
      "Processed prompts: 100%|██████████| 1534/1534 [02:03<00:00, 12.39it/s, est. speed input: 40830.32 toks/s, output: 605.25 toks/s] "
     ]
    },
    {
     "name": "stdout",
     "output_type": "stream",
     "text": [
      "extract_think количество ошибок:  0\n",
      "extract_sql количество ошибок:  0\n",
      "Закончили генерацию SQL запросов\n",
      "Начали скорр полученных SQL запросов\n"
     ]
    },
    {
     "name": "stderr",
     "output_type": "stream",
     "text": [
      "\n"
     ]
    },
    {
     "name": "stdout",
     "output_type": "stream",
     "text": [
      "Qwen3-8B DEV Финальный результат EX: 56.58\n",
      "Qwen3-8B процент запросов, которые успешно выполнились DEV: 95.57%\n",
      "====================================================================================================\n",
      "\n",
      "\n",
      "Загружаем чаты с данными...\n",
      "Данные успешно загружены\n",
      "Начали генерацию SQL запросов\n"
     ]
    },
    {
     "name": "stderr",
     "output_type": "stream",
     "text": [
      "Processed prompts: 100%|██████████| 1534/1534 [02:02<00:00, 12.52it/s, est. speed input: 40774.86 toks/s, output: 609.07 toks/s] "
     ]
    },
    {
     "name": "stdout",
     "output_type": "stream",
     "text": [
      "extract_think количество ошибок:  0\n",
      "extract_sql количество ошибок:  0\n",
      "Закончили генерацию SQL запросов\n",
      "Начали скорр полученных SQL запросов\n"
     ]
    },
    {
     "name": "stderr",
     "output_type": "stream",
     "text": [
      "\n"
     ]
    },
    {
     "name": "stdout",
     "output_type": "stream",
     "text": [
      "Qwen3-8B DEV Финальный результат EX: 56.78\n",
      "Qwen3-8B процент запросов, которые успешно выполнились DEV: 95.89%\n",
      "====================================================================================================\n",
      "\n",
      "\n",
      "Загружаем чаты с данными...\n",
      "Данные успешно загружены\n",
      "Начали генерацию SQL запросов\n"
     ]
    },
    {
     "name": "stderr",
     "output_type": "stream",
     "text": [
      "Processed prompts: 100%|██████████| 1534/1534 [02:02<00:00, 12.55it/s, est. speed input: 40403.35 toks/s, output: 606.57 toks/s] "
     ]
    },
    {
     "name": "stdout",
     "output_type": "stream",
     "text": [
      "extract_think количество ошибок:  0\n",
      "extract_sql количество ошибок:  0\n",
      "Закончили генерацию SQL запросов\n",
      "Начали скорр полученных SQL запросов\n"
     ]
    },
    {
     "name": "stderr",
     "output_type": "stream",
     "text": [
      "\n"
     ]
    },
    {
     "name": "stdout",
     "output_type": "stream",
     "text": [
      "Qwen3-8B DEV Финальный результат EX: 57.30\n",
      "Qwen3-8B процент запросов, которые успешно выполнились DEV: 95.63%\n",
      "====================================================================================================\n",
      "\n",
      "\n",
      "Загружаем чаты с данными...\n",
      "Данные успешно загружены\n",
      "Начали генерацию SQL запросов\n"
     ]
    },
    {
     "name": "stderr",
     "output_type": "stream",
     "text": [
      "Processed prompts: 100%|██████████| 1534/1534 [02:00<00:00, 12.71it/s, est. speed input: 41030.95 toks/s, output: 618.76 toks/s] "
     ]
    },
    {
     "name": "stdout",
     "output_type": "stream",
     "text": [
      "extract_think количество ошибок:  0\n",
      "extract_sql количество ошибок:  0\n",
      "Закончили генерацию SQL запросов\n",
      "Начали скорр полученных SQL запросов\n"
     ]
    },
    {
     "name": "stderr",
     "output_type": "stream",
     "text": [
      "\n"
     ]
    },
    {
     "name": "stdout",
     "output_type": "stream",
     "text": [
      "Qwen3-8B DEV Финальный результат EX: 57.50\n",
      "Qwen3-8B процент запросов, которые успешно выполнились DEV: 95.83%\n",
      "====================================================================================================\n",
      "\n",
      "\n",
      "Загружаем чаты с данными...\n",
      "Данные успешно загружены\n",
      "Начали генерацию SQL запросов\n"
     ]
    },
    {
     "name": "stderr",
     "output_type": "stream",
     "text": [
      "Processed prompts: 100%|██████████| 1534/1534 [01:59<00:00, 12.83it/s, est. speed input: 41159.57 toks/s, output: 635.52 toks/s] "
     ]
    },
    {
     "name": "stdout",
     "output_type": "stream",
     "text": [
      "extract_think количество ошибок:  0\n",
      "extract_sql количество ошибок:  0\n",
      "Закончили генерацию SQL запросов\n",
      "Начали скорр полученных SQL запросов\n"
     ]
    },
    {
     "name": "stderr",
     "output_type": "stream",
     "text": [
      "\n"
     ]
    },
    {
     "name": "stdout",
     "output_type": "stream",
     "text": [
      "Qwen3-8B DEV Финальный результат EX: 57.56\n",
      "Qwen3-8B процент запросов, которые успешно выполнились DEV: 95.70%\n",
      "====================================================================================================\n",
      "\n",
      "\n",
      "Загружаем чаты с данными...\n",
      "Данные успешно загружены\n",
      "Начали генерацию SQL запросов\n"
     ]
    },
    {
     "name": "stderr",
     "output_type": "stream",
     "text": [
      "Processed prompts: 100%|██████████| 1534/1534 [01:59<00:00, 12.88it/s, est. speed input: 41710.33 toks/s, output: 619.79 toks/s] "
     ]
    },
    {
     "name": "stdout",
     "output_type": "stream",
     "text": [
      "extract_think количество ошибок:  0\n",
      "extract_sql количество ошибок:  0\n",
      "Закончили генерацию SQL запросов\n",
      "Начали скорр полученных SQL запросов\n"
     ]
    },
    {
     "name": "stderr",
     "output_type": "stream",
     "text": [
      "\n"
     ]
    },
    {
     "name": "stdout",
     "output_type": "stream",
     "text": [
      "Qwen3-8B DEV Финальный результат EX: 57.63\n",
      "Qwen3-8B процент запросов, которые успешно выполнились DEV: 95.63%\n",
      "====================================================================================================\n",
      "\n",
      "\n",
      "Загружаем чаты с данными...\n",
      "Данные успешно загружены\n",
      "Начали генерацию SQL запросов\n"
     ]
    },
    {
     "name": "stderr",
     "output_type": "stream",
     "text": [
      "Processed prompts: 100%|██████████| 1534/1534 [02:03<00:00, 12.47it/s, est. speed input: 40930.57 toks/s, output: 606.03 toks/s] "
     ]
    },
    {
     "name": "stdout",
     "output_type": "stream",
     "text": [
      "extract_think количество ошибок:  0\n",
      "extract_sql количество ошибок:  0\n",
      "Закончили генерацию SQL запросов\n",
      "Начали скорр полученных SQL запросов\n"
     ]
    },
    {
     "name": "stderr",
     "output_type": "stream",
     "text": [
      "\n"
     ]
    },
    {
     "name": "stdout",
     "output_type": "stream",
     "text": [
      "Qwen3-8B DEV Финальный результат EX: 57.89\n",
      "Qwen3-8B процент запросов, которые успешно выполнились DEV: 95.89%\n",
      "====================================================================================================\n",
      "\n",
      "\n",
      "Загружаем чаты с данными...\n",
      "Данные успешно загружены\n",
      "Начали генерацию SQL запросов\n"
     ]
    },
    {
     "name": "stderr",
     "output_type": "stream",
     "text": [
      "Processed prompts: 100%|██████████| 1534/1534 [01:59<00:00, 12.81it/s, est. speed input: 41559.55 toks/s, output: 620.86 toks/s] "
     ]
    },
    {
     "name": "stdout",
     "output_type": "stream",
     "text": [
      "extract_think количество ошибок:  0\n",
      "extract_sql количество ошибок:  0\n",
      "Закончили генерацию SQL запросов\n",
      "Начали скорр полученных SQL запросов\n"
     ]
    },
    {
     "name": "stderr",
     "output_type": "stream",
     "text": [
      "\n"
     ]
    },
    {
     "name": "stdout",
     "output_type": "stream",
     "text": [
      "Qwen3-8B DEV Финальный результат EX: 57.69\n",
      "Qwen3-8B процент запросов, которые успешно выполнились DEV: 95.70%\n",
      "====================================================================================================\n",
      "\n",
      "\n",
      "Загружаем чаты с данными...\n",
      "Данные успешно загружены\n",
      "Начали генерацию SQL запросов\n"
     ]
    },
    {
     "name": "stderr",
     "output_type": "stream",
     "text": [
      "Processed prompts: 100%|██████████| 1534/1534 [02:01<00:00, 12.62it/s, est. speed input: 40728.98 toks/s, output: 613.68 toks/s] "
     ]
    },
    {
     "name": "stdout",
     "output_type": "stream",
     "text": [
      "extract_think количество ошибок:  0\n",
      "extract_sql количество ошибок:  0\n",
      "Закончили генерацию SQL запросов\n",
      "Начали скорр полученных SQL запросов\n"
     ]
    },
    {
     "name": "stderr",
     "output_type": "stream",
     "text": [
      "\n"
     ]
    },
    {
     "name": "stdout",
     "output_type": "stream",
     "text": [
      "Qwen3-8B DEV Финальный результат EX: 56.84\n",
      "Qwen3-8B процент запросов, которые успешно выполнились DEV: 95.50%\n",
      "====================================================================================================\n",
      "\n",
      "\n"
     ]
    }
   ],
   "source": [
    "run_cot_experiment(model,arr_seeds,arr_versions, type_cot, num_observations=num_observations)"
   ]
  },
  {
   "cell_type": "markdown",
   "id": "6046825c-8b23-4466-9c8c-2bd8d22da520",
   "metadata": {},
   "source": [
    "## 3 наблюдения"
   ]
  },
  {
   "cell_type": "code",
   "execution_count": 5,
   "id": "087d84b5-c110-41ff-a60d-7dbdeb15ffce",
   "metadata": {},
   "outputs": [
    {
     "name": "stdout",
     "output_type": "stream",
     "text": [
      "[593, 917, 599, 845, 959, 334, 630, 622, 900, 377, 30, 312, 108, 19, 792, 234, 865, 322, 437, 253]\n",
      "model: Qwen3-8B\n"
     ]
    }
   ],
   "source": [
    "n= 20\n",
    "arr_seeds = [random.randint(0,1000) for _ in range(n)]\n",
    "arr_versions = [x for x in range(n)]\n",
    "model = \"Qwen3-8B\"\n",
    "num_observations = 3\n",
    "type_cot = 'all_new'\n",
    "print(arr_seeds)\n",
    "print(f\"model: {model}\")"
   ]
  },
  {
   "cell_type": "code",
   "execution_count": 6,
   "id": "75073cd5-a80a-47f6-90d0-af48f09fc511",
   "metadata": {
    "scrolled": true
   },
   "outputs": [
    {
     "name": "stdout",
     "output_type": "stream",
     "text": [
      "Загружаем модель...\n"
     ]
    },
    {
     "name": "stderr",
     "output_type": "stream",
     "text": [
      "Loading safetensors checkpoint shards:   0% Completed | 0/4 [00:00<?, ?it/s]\n",
      "Loading safetensors checkpoint shards:  25% Completed | 1/4 [00:00<00:00,  8.49it/s]\n",
      "Loading safetensors checkpoint shards:  50% Completed | 2/4 [00:00<00:00,  2.57it/s]\n",
      "Loading safetensors checkpoint shards:  75% Completed | 3/4 [00:01<00:00,  1.85it/s]\n",
      "Loading safetensors checkpoint shards: 100% Completed | 4/4 [00:02<00:00,  1.65it/s]\n",
      "Loading safetensors checkpoint shards: 100% Completed | 4/4 [00:02<00:00,  1.88it/s]\n",
      "\u001b[1;36m(VllmWorker rank=0 pid=3836812)\u001b[0;0m \n"
     ]
    },
    {
     "name": "stdout",
     "output_type": "stream",
     "text": [
      "Модель успешно загружена\n",
      "model_config {'model': '/data/home/vkropoti/models/Qwen3-8B', 'tensor_parallel_size': 2, 'max_model_len': 40000, 'max_new_tokens': 1500, 'temperature': 0, 'top_k': 1, 'top_p': 0.8, 'gpu_memory_utilization': 0.9, 'trust_remote_code': False, 'seed': 593}\n",
      "\n",
      "prompts_config {'path_dev_json': '/home/vkropoti/vllm/dev.json', 'path_sql_dbs': '/data/home/vkropoti/sql_data/dev_databases/', 'use_reasoning': False, 'paths_to_cot': ['/data/home/vkropoti/sql_llm_answers/bird_dev/sql_all_new_Qwen3-8B-reasoning-v0', '/data/home/vkropoti/sql_llm_answers/bird_dev/sql_all_new_Qwen3-8B-reasoning-v1', '/data/home/vkropoti/sql_llm_answers/bird_dev/sql_all_new_Qwen3-8B-reasoning-v2']}\n",
      "\n",
      "save_config {'path_sql_save': '/data/home/vkropoti/sql_llm_answers/bird_dev/sql_all_Qwen3-8B-cot_all_new_think==False_nobs3-v0', 'path_think_save': None, 'path_sql_answers_save': '/data/home/vkropoti/sql_llm_answers/bird_dev/sql_predict_Qwen3-8B-cot_all_new_think==False_nobs3-v0', 'path_to_save_scores': '/data/home/vkropoti/sql_llm_answers/bird_dev/sql_results_Qwen3-8B-cot_all_new_think==False_nobs3-v0', 'path_to_save_executed': '/data/home/vkropoti/sql_llm_answers/bird_dev/sql_executed_Qwen3-8B-cot_all_new_think==False_nobs3-v0'}\n",
      "\n",
      "Модель успешно загружена\n",
      "Пример промпта\n",
      "<|im_start|>system\n",
      "\n",
      "You are a data science expert. Below, you are provided with a database schema and a natural language question. Your task is to understand the schema and generate a valid SQL query to answer the question.\n",
      "\n",
      "Database Engine: SQLite\n",
      "\n",
      "You will be given an additional analysis of other models, please take it into account, so the plan is\n",
      "1. Analyse given addition analysis from other models (find in which analysis the same and differ, how to use that to answer question)\n",
      "2. Combine best from previous part and think how to solve the problem (analyze tables, take care what columns avaliable in each table and so on, check the syntacsis)\n",
      "3. Create the answers. The answer should be only sql query.\n",
      "\n",
      "Carefully follow the instruction and add <|im_end|> and the end of the final answer<|im_end|>\n",
      "<|im_start|>user\n",
      "Here is addition analysis from other models which can be helpfull, please take this into account but be careful (choose the best from each analysis, combine them to make the most proper answer):\n",
      "\n",
      "model 0 analysis:\n",
      " Reasoning process:\n",
      "\n",
      "Okay, I need to find the highest eligible free rate for K-12 students in schools located in Alameda County. Let's start by understanding the tables and the data available.\n",
      "\n",
      "First, the question involves two main tables: frpm and schools. The frpm table has the `Free Meal Count (K-12)` and `Enrollment (K-12)` columns needed to calculate the eligible free rate. The schools table has the County information, specifically the `County` column. \n",
      "\n",
      "So, the first step is to join these two tables on the CDSCode, which is the common key. The frpm table's CDSCode is a foreign key referencing the schools table's CDSCode. That makes sense. \n",
      "\n",
      "Next, I need to filter the schools in Alameda County. The schools table has a `County` column, so I'll add a WHERE clause to check if County equals 'Alameda'. \n",
      "\n",
      "Once the data is filtered, I need to calculate the eligible free rate using the formula provided: `Free Meal Count (K-12) / Enrollment (K-12)`. However, I should be cautious about division by zero. But since the question is about schools with data, maybe there's a safety net, but the problem might not require handling that here. \n",
      "\n",
      "The goal is to find the highest rate, so I'll use the MAX function on the calculated rate. But to do that, I need to compute the rate for each school and then find the maximum value. \n",
      "\n",
      "Putting it all together, the SQL query should select the maximum of the calculated rate from the joined tables where the County is Alameda. \n",
      "\n",
      "Wait, but the formula is Free Meal Count divided by Enrollment. So in SQL, that would be `Free Meal Count (K-12) / Enrollment (K-12)`. \n",
      "\n",
      "So the query structure would be: \n",
      "\n",
      "SELECT MAX(`Free Meal Count (K-12)` / `Enrollment (K-12)`) AS highest_rate\n",
      "FROM frpm\n",
      "JOIN schools ON frpm.CDSCode = schools.CDSCode\n",
      "WHERE schools.County = 'Alameda';\n",
      "\n",
      "But I should check if there are any schools in Alameda County. Also, ensure that the columns are correctly quoted since some have spaces. \n",
      "\n",
      "I should make sure that the JOIN is correctly using the CDSCode from both tables. Also, the schools table's County column is the right one to filter. \n",
      "\n",
      "I think that's all. The final query should select the maximum value of the calculated rate from the relevant schools.\n",
      "\n",
      "Final answer based om reasoning for this model:\n",
      "\n",
      "\n",
      "```\n",
      "SELECT MAX(`Free Meal Count (K-12)` / `Enrollment (K-12)`) FROM frpm JOIN schools ON frpm.CDSCode = schools.CDSCode WHERE County = 'Alameda';\n",
      "```\n",
      "\n",
      "model 1 analysis:\n",
      " Reasoning process:\n",
      "\n",
      "Okay, let's tackle this question. The user wants the highest eligible free rate for K-12 students in Alameda County. First, I need to figure out which tables and columns are involved.\n",
      "\n",
      "The eligible free rate is calculated as Free Meal Count (K-12) divided by Enrollment (K-12). The frpm table has these columns. But I also need to filter schools in Alameda County. The schools table has a County column. So I need to join frpm with schools on CDSCode to get the county information.\n",
      "\n",
      "Wait, the frpm table has a foreign key to schools' CDSCode, so joining them on CDSCode makes sense. Then, I can filter where County = 'Alameda'. Once I have the eligible free rate for each school, I need to find the maximum value. \n",
      "\n",
      "So the steps are: join frpm and schools on CDSCode, filter for Alameda County, calculate the ratio, and then select the maximum. But I need to make sure that Enrollment (K-12) isn't zero to avoid division by zero. However, the question might assume that enrollment is non-zero. \n",
      "\n",
      "The SQL query would select the maximum of (Free Meal Count / Enrollment) from the joined tables where County is Alameda. I should use the correct column names with backticks. Also, since the user wants only the highest rate, using MAX() on the calculated value should work. \n",
      "\n",
      "Wait, but the question says \"highest eligible free rate\", which is the percentage. So the calculation is (Free Meal Count / Enrollment) * 100. But the columns in frpm are Free Meal Count (K-12) and Enrollment (K-12). So the query would be:\n",
      "\n",
      "SELECT MAX(`Free Meal Count (K-12)` / `Enrollment (K-12)`) AS MaxRate\n",
      "FROM frpm\n",
      "JOIN schools ON frpm.CDSCode = schools.CDSCode\n",
      "WHERE schools.County = 'Alameda';\n",
      "\n",
      "But I need to check if the County column in schools is case-sensitive. The question says Alameda County, so the value in County might be 'Alameda'. Also, ensuring that Enrollment isn't zero. However, the problem might not require handling that. \n",
      "\n",
      "So the final query should join the tables, filter by County, compute the ratio, and find the maximum. That's the plan.\n",
      "\n",
      "Final answer based om reasoning for this model:\n",
      "\n",
      "\n",
      "```\n",
      "SELECT MAX(`Free Meal Count (K-12)` / `Enrollment (K-12)`) FROM frpm JOIN schools ON frpm.CDSCode = schools.CDSCode WHERE schools.County = 'Alameda';\n",
      "```\n",
      "\n",
      "model 2 analysis:\n",
      " Reasoning process:\n",
      "\n",
      "Okay, I need to find the highest eligible free rate for K-12 students in schools located in Alameda County. Let's start by understanding the data structure and the tables involved.\n",
      "\n",
      "First, the question mentions \"eligible free rate for K-12,\" which is calculated as Free Meal Count (K-12) divided by Enrollment (K-12). The tables provided are frpm, satscores, and schools. The schools table has a County column, so I'll need to filter schools in Alameda County from there. \n",
      "\n",
      "The frpm table has the necessary columns for the free meal count and enrollment. However, I need to ensure that the schools in the frpm table are linked to the schools in the schools table. The frpm table has a CDSCode as the primary key, which is also a foreign key referencing the schools table's CDSCode. So, I can join these two tables on CDSCode.\n",
      "\n",
      "So the plan is: join frpm and schools on CDSCode where schools.County is 'Alameda'. Then compute the eligible free rate as (Free Meal Count (K-12) / Enrollment (K-12)) for each school. Finally, find the maximum value of this rate.\n",
      "\n",
      "Wait, but the question says \"highest eligible free rate,\" which is the maximum of the calculated rate. So I need to select the maximum value of (Free Meal Count / Enrollment) from the joined tables where County is Alameda.\n",
      "\n",
      "I need to make sure that the columns are correctly named. In the frpm table, the columns are `Free Meal Count (K-12)` and `Enrollment (K-12)`. The schools table's County column is named County. So the SQL query should join frpm and schools on CDSCode, filter where County = 'Alameda', and then calculate the rate. Then use MAX() to find the highest value.\n",
      "\n",
      "But wait, what if there are null values in Enrollment (K-12)? The question doesn't mention handling that, so I'll assume the data is clean. Also, division in SQL can be tricky. Since the columns are REAL, dividing them should work. So the query would be:\n",
      "\n",
      "SELECT MAX(`Free Meal Count (K-12)` / `Enrollment (K-12)`) AS MaxEligibleFreeRate\n",
      "FROM frpm\n",
      "JOIN schools ON frpm.CDSCode = schools.CDSCode\n",
      "WHERE schools.County = 'Alameda';\n",
      "\n",
      "But I need to check if the County column in schools is named correctly. Yes, the schools table has a County column. So this should work. That's the final query.\n",
      "\n",
      "Final answer based om reasoning for this model:\n",
      "\n",
      "\n",
      "```\n",
      "SELECT MAX(`Free Meal Count (K-12)` / `Enrollment (K-12)`) FROM frpm JOIN schools ON frpm.CDSCode = schools.CDSCode WHERE schools.County = 'Alameda';\n",
      "```\n",
      "\n",
      "\n",
      "here is avaliable tables below\n",
      "\n",
      "\n",
      "Table: frpm\n",
      "CREATE TABLE frpm\n",
      "(\n",
      "    CDSCode                                       TEXT not null\n",
      "        primary key,\n",
      "    `Academic Year`                               TEXT  null,\n",
      "    `County Code`                                 TEXT  null,\n",
      "    `District Code`                               INTEGER         null,\n",
      "    `School Code`                                 TEXT  null,\n",
      "    `County Name`                                 TEXT null,\n",
      "    `District Name`                               TEXT null,\n",
      "    `School Name`                                 TEXT null,\n",
      "    `District Type`                               TEXT null,\n",
      "    `School Type`                                 TEXT null,\n",
      "    `Educational Option Type`                     TEXT null,\n",
      "    `NSLP Provision Status`                       TEXT null,\n",
      "    `Charter School (Y/N)`                        INTEGER    null,\n",
      "    `Charter School Number`                       TEXT  null,\n",
      "    `Charter Funding Type`                        TEXT null,\n",
      "    IRC                                           INTEGER    null,\n",
      "    `Low Grade`                                   TEXT  null,\n",
      "    `High Grade`                                  TEXT null,\n",
      "    `Enrollment (K-12)`                           REAL      null,\n",
      "    `Free Meal Count (K-12)`                      REAL       null,\n",
      "    `Percent (%) Eligible Free (K-12)`            REAL       null,\n",
      "    `FRPM Count (K-12)`                           REAL       null,\n",
      "    `Percent (%) Eligible FRPM (K-12)`            REAL       null,\n",
      "    `Enrollment (Ages 5-17)`                      REAL       null,\n",
      "    `Free Meal Count (Ages 5-17)`                 REAL       null,\n",
      "    `Percent (%) Eligible Free (Ages 5-17)`       REAL       null,\n",
      "    `FRPM Count (Ages 5-17)`                      REAL       null,\n",
      "    `Percent (%) Eligible FRPM (Ages 5-17)`       REAL       null,\n",
      "    `2013-14 CALPADS Fall 1 Certification Status` INTEGER    null,\n",
      "    foreign key (CDSCode) references schools (CDSCode)\n",
      ")\n",
      "\n",
      "Table: satscores\n",
      "CREATE TABLE satscores\n",
      "(\n",
      "    cds         TEXT not null\n",
      "        primary key,\n",
      "    rtype       TEXT  not null,\n",
      "    sname       TEXT null,\n",
      "    dname       TEXT null,\n",
      "    cname       TEXT null,\n",
      "    enroll12    INTEGER         not null,\n",
      "    NumTstTakr  INTEGER          not null,\n",
      "    AvgScrRead  INTEGER          null,\n",
      "    AvgScrMath  INTEGER          null,\n",
      "    AvgScrWrite INTEGER          null,\n",
      "    NumGE1500   INTEGER          null,\n",
      "--     PctGE1500   double      null,\n",
      "        foreign key (cds) references schools (CDSCode)\n",
      ")\n",
      "\n",
      "Table: schools\n",
      "CREATE TABLE schools\n",
      "(\n",
      "    CDSCode     TEXT not null\n",
      "        primary key,\n",
      "    NCESDist    TEXT  null,\n",
      "    NCESSchool  TEXT  null,\n",
      "    StatusType  TEXT  not null,\n",
      "    County      TEXT not null,\n",
      "    District    TEXT not null,\n",
      "    School      TEXT null,\n",
      "    Street      TEXT null,\n",
      "    StreetAbr   TEXT null,\n",
      "    City        TEXT null,\n",
      "    Zip         TEXT null,\n",
      "    State       TEXT  null,\n",
      "    MailStreet  TEXT null,\n",
      "    MailStrAbr  TEXT null,\n",
      "    MailCity    TEXT null,\n",
      "    MailZip     TEXT null,\n",
      "    MailState   TEXT  null,\n",
      "    Phone       TEXT null,\n",
      "    Ext         TEXT  null,\n",
      "    Website     TEXT null,\n",
      "    OpenDate    DATE        null,\n",
      "    ClosedDate  DATE        null,\n",
      "    Charter     INTEGER    null,\n",
      "    CharterNum  TEXT  null,\n",
      "    FundingType TEXT null,\n",
      "    DOC         TEXT  not null,\n",
      "    DOCType     TEXT not null,\n",
      "    SOC         TEXT  null,\n",
      "    SOCType     TEXT null,\n",
      "    EdOpsCode   TEXT  null,\n",
      "    EdOpsName   TEXT null,\n",
      "    EILCode     TEXT  null,\n",
      "    EILName     TEXT null,\n",
      "    GSoffered   TEXT null,\n",
      "    GSserved    TEXT  null,\n",
      "    Virtual     TEXT  null,\n",
      "    Magnet      INTEGER   null,\n",
      "    Latitude    REAL      null,\n",
      "    Longitude   REAL      null,\n",
      "    AdmFName1   TEXT null,\n",
      "    AdmLName1   TEXT null,\n",
      "    AdmEmail1   TEXT null,\n",
      "    AdmFName2   TEXT null,\n",
      "    AdmLName2   TEXT null,\n",
      "    AdmEmail2   TEXT null,\n",
      "    AdmFName3   TEXT  null,\n",
      "    AdmLName3   TEXT null,\n",
      "    AdmEmail3   TEXT null,\n",
      "    LastUpdate  DATE        not null\n",
      ")\n",
      "\n",
      "-- Using valid SQLite and understanding External Knowledge, answer the following questions for the tables provided above.\n",
      "-- What is the highest eligible free rate for K-12 students in the schools in Alameda County?\n",
      "-- External Knowledge: Eligible free rate for K-12 = `Free Meal Count (K-12)` / `Enrollment (K-12)`\n",
      "\n",
      "\n",
      "Generate the SQLite for the above question after thinking step by step: \n",
      "\n",
      "\n",
      "Instructions:\n",
      "- Make sure you only output the information that is asked in the question. If the question asks for a specific column, make sure to only include that column in the SELECT clause, nothing more.\n",
      "- The generated query should return all of the information asked in the question without any missing or extra information.\n",
      "- Before generating the final SQL query, please think through the steps of how to write the query.\n",
      "- Do not misuse column names, keep them in quotes `\n",
      "- Carefully understand what colomns belond to what tables\n",
      "- Use only initial column names, change names prohibited\n",
      "        \n",
      "Output Format:\n",
      "In your answer, please enclose the generated SQL query in a code block:\n",
      "```\n",
      "-- Your SQL query\n",
      "```    \n",
      "and nothing else, no exaplains, no comments (asnwer should be less than 512 characters)\n",
      "\n",
      "Take a deep breath and think step by step to find the correct SQL query in SQLite format.\n",
      "\n",
      "Question repetition: What is the highest eligible free rate for K-12 students in the schools in Alameda County?\n",
      "\n",
      "Be care! Include only what i want it questiona and nothing else<|im_end|>\n",
      "<|im_start|>assistant\n",
      "<think>\n",
      "\n",
      "</think>\n",
      "\n",
      "\n",
      "\n",
      "\n",
      "Максимальное количество токенов в промптах: 15784\n",
      "\n",
      "начинаем скорринг\n",
      "Загружаем чаты с данными...\n",
      "Данные успешно загружены\n",
      "Начали генерацию SQL запросов\n"
     ]
    },
    {
     "name": "stderr",
     "output_type": "stream",
     "text": [
      "Processed prompts: 100%|██████████| 1534/1534 [02:35<00:00,  9.84it/s, est. speed input: 41045.02 toks/s, output: 471.59 toks/s]"
     ]
    },
    {
     "name": "stdout",
     "output_type": "stream",
     "text": [
      "extract_think количество ошибок:  0\n",
      "extract_sql количество ошибок:  0\n",
      "Закончили генерацию SQL запросов\n",
      "Начали скорр полученных SQL запросов\n"
     ]
    },
    {
     "name": "stderr",
     "output_type": "stream",
     "text": [
      "\n"
     ]
    },
    {
     "name": "stdout",
     "output_type": "stream",
     "text": [
      "Qwen3-8B DEV Финальный результат EX: 57.50\n",
      "Qwen3-8B процент запросов, которые успешно выполнились DEV: 95.11%\n",
      "====================================================================================================\n",
      "\n",
      "\n",
      "Загружаем чаты с данными...\n",
      "Данные успешно загружены\n",
      "Начали генерацию SQL запросов\n"
     ]
    },
    {
     "name": "stderr",
     "output_type": "stream",
     "text": [
      "Processed prompts: 100%|██████████| 1534/1534 [02:37<00:00,  9.71it/s, est. speed input: 40721.33 toks/s, output: 462.15 toks/s]"
     ]
    },
    {
     "name": "stdout",
     "output_type": "stream",
     "text": [
      "extract_think количество ошибок:  0\n",
      "extract_sql количество ошибок:  0\n",
      "Закончили генерацию SQL запросов\n",
      "Начали скорр полученных SQL запросов\n"
     ]
    },
    {
     "name": "stderr",
     "output_type": "stream",
     "text": [
      "\n"
     ]
    },
    {
     "name": "stdout",
     "output_type": "stream",
     "text": [
      "Qwen3-8B DEV Финальный результат EX: 57.69\n",
      "Qwen3-8B процент запросов, которые успешно выполнились DEV: 95.37%\n",
      "====================================================================================================\n",
      "\n",
      "\n",
      "Загружаем чаты с данными...\n",
      "Данные успешно загружены\n",
      "Начали генерацию SQL запросов\n"
     ]
    },
    {
     "name": "stderr",
     "output_type": "stream",
     "text": [
      "Processed prompts: 100%|██████████| 1534/1534 [02:40<00:00,  9.59it/s, est. speed input: 40448.14 toks/s, output: 458.29 toks/s]"
     ]
    },
    {
     "name": "stdout",
     "output_type": "stream",
     "text": [
      "extract_think количество ошибок:  0\n",
      "extract_sql количество ошибок:  0\n",
      "Закончили генерацию SQL запросов\n",
      "Начали скорр полученных SQL запросов\n"
     ]
    },
    {
     "name": "stderr",
     "output_type": "stream",
     "text": [
      "\n"
     ]
    },
    {
     "name": "stdout",
     "output_type": "stream",
     "text": [
      "Qwen3-8B DEV Финальный результат EX: 57.43\n",
      "Qwen3-8B процент запросов, которые успешно выполнились DEV: 96.09%\n",
      "====================================================================================================\n",
      "\n",
      "\n",
      "Загружаем чаты с данными...\n",
      "Данные успешно загружены\n",
      "Начали генерацию SQL запросов\n"
     ]
    },
    {
     "name": "stderr",
     "output_type": "stream",
     "text": [
      "Processed prompts: 100%|██████████| 1534/1534 [02:38<00:00,  9.67it/s, est. speed input: 40487.31 toks/s, output: 467.89 toks/s]"
     ]
    },
    {
     "name": "stdout",
     "output_type": "stream",
     "text": [
      "extract_think количество ошибок:  0\n",
      "extract_sql количество ошибок:  0\n",
      "Закончили генерацию SQL запросов\n",
      "Начали скорр полученных SQL запросов\n"
     ]
    },
    {
     "name": "stderr",
     "output_type": "stream",
     "text": [
      "\n"
     ]
    },
    {
     "name": "stdout",
     "output_type": "stream",
     "text": [
      "Qwen3-8B DEV Финальный результат EX: 58.02\n",
      "Qwen3-8B процент запросов, которые успешно выполнились DEV: 95.76%\n",
      "====================================================================================================\n",
      "\n",
      "\n",
      "Загружаем чаты с данными...\n",
      "Данные успешно загружены\n",
      "Начали генерацию SQL запросов\n"
     ]
    },
    {
     "name": "stderr",
     "output_type": "stream",
     "text": [
      "Processed prompts: 100%|██████████| 1534/1534 [02:37<00:00,  9.74it/s, est. speed input: 40729.84 toks/s, output: 465.19 toks/s]"
     ]
    },
    {
     "name": "stdout",
     "output_type": "stream",
     "text": [
      "extract_think количество ошибок:  0\n",
      "extract_sql количество ошибок:  0\n",
      "Закончили генерацию SQL запросов\n",
      "Начали скорр полученных SQL запросов\n"
     ]
    },
    {
     "name": "stderr",
     "output_type": "stream",
     "text": [
      "\n"
     ]
    },
    {
     "name": "stdout",
     "output_type": "stream",
     "text": [
      "Qwen3-8B DEV Финальный результат EX: 57.82\n",
      "Qwen3-8B процент запросов, которые успешно выполнились DEV: 96.15%\n",
      "====================================================================================================\n",
      "\n",
      "\n",
      "Загружаем чаты с данными...\n",
      "Данные успешно загружены\n",
      "Начали генерацию SQL запросов\n"
     ]
    },
    {
     "name": "stderr",
     "output_type": "stream",
     "text": [
      "Processed prompts: 100%|██████████| 1534/1534 [02:41<00:00,  9.50it/s, est. speed input: 39876.02 toks/s, output: 465.84 toks/s]"
     ]
    },
    {
     "name": "stdout",
     "output_type": "stream",
     "text": [
      "extract_think количество ошибок:  0\n",
      "extract_sql количество ошибок:  0\n",
      "Закончили генерацию SQL запросов\n",
      "Начали скорр полученных SQL запросов\n"
     ]
    },
    {
     "name": "stderr",
     "output_type": "stream",
     "text": [
      "\n"
     ]
    },
    {
     "name": "stdout",
     "output_type": "stream",
     "text": [
      "Qwen3-8B DEV Финальный результат EX: 58.02\n",
      "Qwen3-8B процент запросов, которые успешно выполнились DEV: 95.63%\n",
      "====================================================================================================\n",
      "\n",
      "\n",
      "Загружаем чаты с данными...\n",
      "Данные успешно загружены\n",
      "Начали генерацию SQL запросов\n"
     ]
    },
    {
     "name": "stderr",
     "output_type": "stream",
     "text": [
      "Processed prompts: 100%|██████████| 1534/1534 [02:40<00:00,  9.56it/s, est. speed input: 40548.54 toks/s, output: 464.33 toks/s]"
     ]
    },
    {
     "name": "stdout",
     "output_type": "stream",
     "text": [
      "extract_think количество ошибок:  0\n",
      "extract_sql количество ошибок:  0\n",
      "Закончили генерацию SQL запросов\n",
      "Начали скорр полученных SQL запросов\n"
     ]
    },
    {
     "name": "stderr",
     "output_type": "stream",
     "text": [
      "\n"
     ]
    },
    {
     "name": "stdout",
     "output_type": "stream",
     "text": [
      "Qwen3-8B DEV Финальный результат EX: 56.98\n",
      "Qwen3-8B процент запросов, которые успешно выполнились DEV: 95.50%\n",
      "====================================================================================================\n",
      "\n",
      "\n",
      "Загружаем чаты с данными...\n",
      "Данные успешно загружены\n",
      "Начали генерацию SQL запросов\n"
     ]
    },
    {
     "name": "stderr",
     "output_type": "stream",
     "text": [
      "Processed prompts: 100%|██████████| 1534/1534 [02:37<00:00,  9.71it/s, est. speed input: 40832.60 toks/s, output: 468.09 toks/s]"
     ]
    },
    {
     "name": "stdout",
     "output_type": "stream",
     "text": [
      "extract_think количество ошибок:  0\n",
      "extract_sql количество ошибок:  0\n",
      "Закончили генерацию SQL запросов\n",
      "Начали скорр полученных SQL запросов\n"
     ]
    },
    {
     "name": "stderr",
     "output_type": "stream",
     "text": [
      "\n"
     ]
    },
    {
     "name": "stdout",
     "output_type": "stream",
     "text": [
      "Qwen3-8B DEV Финальный результат EX: 57.76\n",
      "Qwen3-8B процент запросов, которые успешно выполнились DEV: 95.89%\n",
      "====================================================================================================\n",
      "\n",
      "\n",
      "Загружаем чаты с данными...\n",
      "Данные успешно загружены\n",
      "Начали генерацию SQL запросов\n"
     ]
    },
    {
     "name": "stderr",
     "output_type": "stream",
     "text": [
      "Processed prompts: 100%|██████████| 1534/1534 [02:34<00:00,  9.94it/s, est. speed input: 41649.82 toks/s, output: 469.32 toks/s]"
     ]
    },
    {
     "name": "stdout",
     "output_type": "stream",
     "text": [
      "extract_think количество ошибок:  0\n",
      "extract_sql количество ошибок:  0\n",
      "Закончили генерацию SQL запросов\n",
      "Начали скорр полученных SQL запросов\n"
     ]
    },
    {
     "name": "stderr",
     "output_type": "stream",
     "text": [
      "\n"
     ]
    },
    {
     "name": "stdout",
     "output_type": "stream",
     "text": [
      "Qwen3-8B DEV Финальный результат EX: 57.04\n",
      "Qwen3-8B процент запросов, которые успешно выполнились DEV: 96.28%\n",
      "====================================================================================================\n",
      "\n",
      "\n",
      "Загружаем чаты с данными...\n",
      "Данные успешно загружены\n",
      "Начали генерацию SQL запросов\n"
     ]
    },
    {
     "name": "stderr",
     "output_type": "stream",
     "text": [
      "Processed prompts: 100%|██████████| 1534/1534 [02:43<00:00,  9.41it/s, est. speed input: 39510.81 toks/s, output: 455.73 toks/s]"
     ]
    },
    {
     "name": "stdout",
     "output_type": "stream",
     "text": [
      "extract_think количество ошибок:  0\n",
      "extract_sql количество ошибок:  0\n",
      "Закончили генерацию SQL запросов\n",
      "Начали скорр полученных SQL запросов\n"
     ]
    },
    {
     "name": "stderr",
     "output_type": "stream",
     "text": [
      "\n"
     ]
    },
    {
     "name": "stdout",
     "output_type": "stream",
     "text": [
      "Qwen3-8B DEV Финальный результат EX: 56.91\n",
      "Qwen3-8B процент запросов, которые успешно выполнились DEV: 96.15%\n",
      "====================================================================================================\n",
      "\n",
      "\n",
      "Загружаем чаты с данными...\n",
      "Данные успешно загружены\n",
      "Начали генерацию SQL запросов\n"
     ]
    },
    {
     "name": "stderr",
     "output_type": "stream",
     "text": [
      "Processed prompts: 100%|██████████| 1534/1534 [02:42<00:00,  9.42it/s, est. speed input: 40045.88 toks/s, output: 456.75 toks/s]"
     ]
    },
    {
     "name": "stdout",
     "output_type": "stream",
     "text": [
      "extract_think количество ошибок:  0\n",
      "extract_sql количество ошибок:  0\n",
      "Закончили генерацию SQL запросов\n",
      "Начали скорр полученных SQL запросов\n"
     ]
    },
    {
     "name": "stderr",
     "output_type": "stream",
     "text": [
      "\n"
     ]
    },
    {
     "name": "stdout",
     "output_type": "stream",
     "text": [
      "Qwen3-8B DEV Финальный результат EX: 57.82\n",
      "Qwen3-8B процент запросов, которые успешно выполнились DEV: 95.31%\n",
      "====================================================================================================\n",
      "\n",
      "\n",
      "Загружаем чаты с данными...\n",
      "Данные успешно загружены\n",
      "Начали генерацию SQL запросов\n"
     ]
    },
    {
     "name": "stderr",
     "output_type": "stream",
     "text": [
      "Processed prompts: 100%|██████████| 1534/1534 [02:42<00:00,  9.45it/s, est. speed input: 39868.30 toks/s, output: 457.07 toks/s]"
     ]
    },
    {
     "name": "stdout",
     "output_type": "stream",
     "text": [
      "extract_think количество ошибок:  0\n",
      "extract_sql количество ошибок:  0\n",
      "Закончили генерацию SQL запросов\n",
      "Начали скорр полученных SQL запросов\n"
     ]
    },
    {
     "name": "stderr",
     "output_type": "stream",
     "text": [
      "\n"
     ]
    },
    {
     "name": "stdout",
     "output_type": "stream",
     "text": [
      "Qwen3-8B DEV Финальный результат EX: 57.04\n",
      "Qwen3-8B процент запросов, которые успешно выполнились DEV: 95.83%\n",
      "====================================================================================================\n",
      "\n",
      "\n",
      "Загружаем чаты с данными...\n",
      "Данные успешно загружены\n",
      "Начали генерацию SQL запросов\n"
     ]
    },
    {
     "name": "stderr",
     "output_type": "stream",
     "text": [
      "Processed prompts: 100%|██████████| 1534/1534 [02:39<00:00,  9.59it/s, est. speed input: 39974.47 toks/s, output: 465.07 toks/s]"
     ]
    },
    {
     "name": "stdout",
     "output_type": "stream",
     "text": [
      "extract_think количество ошибок:  0\n",
      "extract_sql количество ошибок:  0\n",
      "Закончили генерацию SQL запросов\n",
      "Начали скорр полученных SQL запросов\n"
     ]
    },
    {
     "name": "stderr",
     "output_type": "stream",
     "text": [
      "\n"
     ]
    },
    {
     "name": "stdout",
     "output_type": "stream",
     "text": [
      "Qwen3-8B DEV Финальный результат EX: 57.56\n",
      "Qwen3-8B процент запросов, которые успешно выполнились DEV: 95.76%\n",
      "====================================================================================================\n",
      "\n",
      "\n",
      "Загружаем чаты с данными...\n",
      "Данные успешно загружены\n",
      "Начали генерацию SQL запросов\n"
     ]
    },
    {
     "name": "stderr",
     "output_type": "stream",
     "text": [
      "Processed prompts: 100%|██████████| 1534/1534 [02:36<00:00,  9.79it/s, est. speed input: 40633.95 toks/s, output: 465.29 toks/s]"
     ]
    },
    {
     "name": "stdout",
     "output_type": "stream",
     "text": [
      "extract_think количество ошибок:  0\n",
      "extract_sql количество ошибок:  0\n",
      "Закончили генерацию SQL запросов\n",
      "Начали скорр полученных SQL запросов\n"
     ]
    },
    {
     "name": "stderr",
     "output_type": "stream",
     "text": [
      "\n"
     ]
    },
    {
     "name": "stdout",
     "output_type": "stream",
     "text": [
      "Qwen3-8B DEV Финальный результат EX: 57.50\n",
      "Qwen3-8B процент запросов, которые успешно выполнились DEV: 95.44%\n",
      "====================================================================================================\n",
      "\n",
      "\n",
      "Загружаем чаты с данными...\n",
      "Данные успешно загружены\n",
      "Начали генерацию SQL запросов\n"
     ]
    },
    {
     "name": "stderr",
     "output_type": "stream",
     "text": [
      "Processed prompts: 100%|██████████| 1534/1534 [02:36<00:00,  9.81it/s, est. speed input: 40374.23 toks/s, output: 477.92 toks/s]"
     ]
    },
    {
     "name": "stdout",
     "output_type": "stream",
     "text": [
      "extract_think количество ошибок:  0\n",
      "extract_sql количество ошибок:  0\n",
      "Закончили генерацию SQL запросов\n",
      "Начали скорр полученных SQL запросов\n"
     ]
    },
    {
     "name": "stderr",
     "output_type": "stream",
     "text": [
      "\n"
     ]
    },
    {
     "name": "stdout",
     "output_type": "stream",
     "text": [
      "Qwen3-8B DEV Финальный результат EX: 57.95\n",
      "Qwen3-8B процент запросов, которые успешно выполнились DEV: 95.50%\n",
      "====================================================================================================\n",
      "\n",
      "\n",
      "Загружаем чаты с данными...\n",
      "Данные успешно загружены\n",
      "Начали генерацию SQL запросов\n"
     ]
    },
    {
     "name": "stderr",
     "output_type": "stream",
     "text": [
      "Processed prompts: 100%|██████████| 1534/1534 [02:38<00:00,  9.68it/s, est. speed input: 40366.44 toks/s, output: 470.92 toks/s]"
     ]
    },
    {
     "name": "stdout",
     "output_type": "stream",
     "text": [
      "extract_think количество ошибок:  0\n",
      "extract_sql количество ошибок:  0\n",
      "Закончили генерацию SQL запросов\n",
      "Начали скорр полученных SQL запросов\n"
     ]
    },
    {
     "name": "stderr",
     "output_type": "stream",
     "text": [
      "\n"
     ]
    },
    {
     "name": "stdout",
     "output_type": "stream",
     "text": [
      "Qwen3-8B DEV Финальный результат EX: 57.69\n",
      "Qwen3-8B процент запросов, которые успешно выполнились DEV: 95.44%\n",
      "====================================================================================================\n",
      "\n",
      "\n",
      "Загружаем чаты с данными...\n",
      "Данные успешно загружены\n",
      "Начали генерацию SQL запросов\n"
     ]
    },
    {
     "name": "stderr",
     "output_type": "stream",
     "text": [
      "Processed prompts: 100%|██████████| 1534/1534 [02:37<00:00,  9.76it/s, est. speed input: 40728.25 toks/s, output: 469.18 toks/s]"
     ]
    },
    {
     "name": "stdout",
     "output_type": "stream",
     "text": [
      "extract_think количество ошибок:  0\n",
      "extract_sql количество ошибок:  0\n",
      "Закончили генерацию SQL запросов\n",
      "Начали скорр полученных SQL запросов\n"
     ]
    },
    {
     "name": "stderr",
     "output_type": "stream",
     "text": [
      "\n"
     ]
    },
    {
     "name": "stdout",
     "output_type": "stream",
     "text": [
      "Qwen3-8B DEV Финальный результат EX: 58.41\n",
      "Qwen3-8B процент запросов, которые успешно выполнились DEV: 95.89%\n",
      "====================================================================================================\n",
      "\n",
      "\n",
      "Загружаем чаты с данными...\n",
      "Данные успешно загружены\n",
      "Начали генерацию SQL запросов\n"
     ]
    },
    {
     "name": "stderr",
     "output_type": "stream",
     "text": [
      "Processed prompts: 100%|██████████| 1534/1534 [02:39<00:00,  9.63it/s, est. speed input: 40514.66 toks/s, output: 468.08 toks/s]"
     ]
    },
    {
     "name": "stdout",
     "output_type": "stream",
     "text": [
      "extract_think количество ошибок:  0\n",
      "extract_sql количество ошибок:  0\n",
      "Закончили генерацию SQL запросов\n",
      "Начали скорр полученных SQL запросов\n"
     ]
    },
    {
     "name": "stderr",
     "output_type": "stream",
     "text": [
      "\n"
     ]
    },
    {
     "name": "stdout",
     "output_type": "stream",
     "text": [
      "Qwen3-8B DEV Финальный результат EX: 57.95\n",
      "Qwen3-8B процент запросов, которые успешно выполнились DEV: 96.02%\n",
      "====================================================================================================\n",
      "\n",
      "\n",
      "Загружаем чаты с данными...\n",
      "Данные успешно загружены\n",
      "Начали генерацию SQL запросов\n"
     ]
    },
    {
     "name": "stderr",
     "output_type": "stream",
     "text": [
      "Processed prompts: 100%|██████████| 1534/1534 [02:38<00:00,  9.68it/s, est. speed input: 40268.19 toks/s, output: 466.64 toks/s]"
     ]
    },
    {
     "name": "stdout",
     "output_type": "stream",
     "text": [
      "extract_think количество ошибок:  0\n",
      "extract_sql количество ошибок:  0\n",
      "Закончили генерацию SQL запросов\n",
      "Начали скорр полученных SQL запросов\n"
     ]
    },
    {
     "name": "stderr",
     "output_type": "stream",
     "text": [
      "\n"
     ]
    },
    {
     "name": "stdout",
     "output_type": "stream",
     "text": [
      "Qwen3-8B DEV Финальный результат EX: 58.21\n",
      "Qwen3-8B процент запросов, которые успешно выполнились DEV: 95.18%\n",
      "====================================================================================================\n",
      "\n",
      "\n",
      "Загружаем чаты с данными...\n",
      "Данные успешно загружены\n",
      "Начали генерацию SQL запросов\n"
     ]
    },
    {
     "name": "stderr",
     "output_type": "stream",
     "text": [
      "Processed prompts: 100%|██████████| 1534/1534 [02:38<00:00,  9.70it/s, est. speed input: 40327.62 toks/s, output: 469.29 toks/s]"
     ]
    },
    {
     "name": "stdout",
     "output_type": "stream",
     "text": [
      "extract_think количество ошибок:  0\n",
      "extract_sql количество ошибок:  0\n",
      "Закончили генерацию SQL запросов\n",
      "Начали скорр полученных SQL запросов\n"
     ]
    },
    {
     "name": "stderr",
     "output_type": "stream",
     "text": [
      "\n"
     ]
    },
    {
     "name": "stdout",
     "output_type": "stream",
     "text": [
      "Qwen3-8B DEV Финальный результат EX: 57.24\n",
      "Qwen3-8B процент запросов, которые успешно выполнились DEV: 95.57%\n",
      "====================================================================================================\n",
      "\n",
      "\n"
     ]
    }
   ],
   "source": [
    "run_cot_experiment(model,arr_seeds,arr_versions, type_cot,num_observations=num_observations)"
   ]
  },
  {
   "cell_type": "markdown",
   "id": "497ba1a7-9a17-4849-b915-86790c9c7d3b",
   "metadata": {},
   "source": [
    "## 4 наблюдения"
   ]
  },
  {
   "cell_type": "code",
   "execution_count": 7,
   "id": "ce49c4fe-8bad-4a23-82e6-10e210d49af7",
   "metadata": {},
   "outputs": [
    {
     "name": "stdout",
     "output_type": "stream",
     "text": [
      "[673, 47, 418, 835, 930, 779, 689, 96, 506, 619, 973, 457, 191, 15, 126, 620, 232, 61, 175, 682]\n",
      "model: Qwen3-8B\n"
     ]
    }
   ],
   "source": [
    "n= 20\n",
    "arr_seeds = [random.randint(0,1000) for _ in range(n)]\n",
    "arr_versions = [x for x in range(n)]\n",
    "model = \"Qwen3-8B\"\n",
    "num_observations = 4\n",
    "type_cot = 'all_new'\n",
    "print(arr_seeds)\n",
    "print(f\"model: {model}\")"
   ]
  },
  {
   "cell_type": "code",
   "execution_count": 8,
   "id": "7a21f95e-0959-4d46-b161-3dd97031a48f",
   "metadata": {
    "scrolled": true
   },
   "outputs": [
    {
     "name": "stdout",
     "output_type": "stream",
     "text": [
      "Загружаем модель...\n"
     ]
    },
    {
     "name": "stderr",
     "output_type": "stream",
     "text": [
      "Loading safetensors checkpoint shards:   0% Completed | 0/4 [00:00<?, ?it/s]\n",
      "Loading safetensors checkpoint shards:  25% Completed | 1/4 [00:00<00:00,  8.43it/s]\n",
      "Loading safetensors checkpoint shards:  50% Completed | 2/4 [00:00<00:00,  2.57it/s]\n",
      "Loading safetensors checkpoint shards:  75% Completed | 3/4 [00:01<00:00,  1.83it/s]\n",
      "Loading safetensors checkpoint shards: 100% Completed | 4/4 [00:02<00:00,  1.63it/s]\n",
      "Loading safetensors checkpoint shards: 100% Completed | 4/4 [00:02<00:00,  1.86it/s]\n",
      "\u001b[1;36m(VllmWorker rank=0 pid=3882648)\u001b[0;0m \n"
     ]
    },
    {
     "name": "stdout",
     "output_type": "stream",
     "text": [
      "Модель успешно загружена\n",
      "model_config {'model': '/data/home/vkropoti/models/Qwen3-8B', 'tensor_parallel_size': 2, 'max_model_len': 40000, 'max_new_tokens': 1500, 'temperature': 0, 'top_k': 1, 'top_p': 0.8, 'gpu_memory_utilization': 0.9, 'trust_remote_code': False, 'seed': 673}\n",
      "\n",
      "prompts_config {'path_dev_json': '/home/vkropoti/vllm/dev.json', 'path_sql_dbs': '/data/home/vkropoti/sql_data/dev_databases/', 'use_reasoning': False, 'paths_to_cot': ['/data/home/vkropoti/sql_llm_answers/bird_dev/sql_all_new_Qwen3-8B-reasoning-v0', '/data/home/vkropoti/sql_llm_answers/bird_dev/sql_all_new_Qwen3-8B-reasoning-v1', '/data/home/vkropoti/sql_llm_answers/bird_dev/sql_all_new_Qwen3-8B-reasoning-v2', '/data/home/vkropoti/sql_llm_answers/bird_dev/sql_all_new_Qwen3-8B-reasoning-v3']}\n",
      "\n",
      "save_config {'path_sql_save': '/data/home/vkropoti/sql_llm_answers/bird_dev/sql_all_Qwen3-8B-cot_all_new_think==False_nobs4-v0', 'path_think_save': None, 'path_sql_answers_save': '/data/home/vkropoti/sql_llm_answers/bird_dev/sql_predict_Qwen3-8B-cot_all_new_think==False_nobs4-v0', 'path_to_save_scores': '/data/home/vkropoti/sql_llm_answers/bird_dev/sql_results_Qwen3-8B-cot_all_new_think==False_nobs4-v0', 'path_to_save_executed': '/data/home/vkropoti/sql_llm_answers/bird_dev/sql_executed_Qwen3-8B-cot_all_new_think==False_nobs4-v0'}\n",
      "\n",
      "Модель успешно загружена\n",
      "Пример промпта\n",
      "<|im_start|>system\n",
      "\n",
      "You are a data science expert. Below, you are provided with a database schema and a natural language question. Your task is to understand the schema and generate a valid SQL query to answer the question.\n",
      "\n",
      "Database Engine: SQLite\n",
      "\n",
      "You will be given an additional analysis of other models, please take it into account, so the plan is\n",
      "1. Analyse given addition analysis from other models (find in which analysis the same and differ, how to use that to answer question)\n",
      "2. Combine best from previous part and think how to solve the problem (analyze tables, take care what columns avaliable in each table and so on, check the syntacsis)\n",
      "3. Create the answers. The answer should be only sql query.\n",
      "\n",
      "Carefully follow the instruction and add <|im_end|> and the end of the final answer<|im_end|>\n",
      "<|im_start|>user\n",
      "Here is addition analysis from other models which can be helpfull, please take this into account but be careful (choose the best from each analysis, combine them to make the most proper answer):\n",
      "\n",
      "model 0 analysis:\n",
      " Reasoning process:\n",
      "\n",
      "Okay, I need to find the highest eligible free rate for K-12 students in schools located in Alameda County. Let's start by understanding the tables and the data available.\n",
      "\n",
      "First, the question involves two main tables: frpm and schools. The frpm table has the `Free Meal Count (K-12)` and `Enrollment (K-12)` columns needed to calculate the eligible free rate. The schools table has the County information, specifically the `County` column. \n",
      "\n",
      "So, the first step is to join these two tables on the CDSCode, which is the common key. The frpm table's CDSCode is a foreign key referencing the schools table's CDSCode. That makes sense. \n",
      "\n",
      "Next, I need to filter the schools in Alameda County. The schools table has a `County` column, so I'll add a WHERE clause to check if County equals 'Alameda'. \n",
      "\n",
      "Once the data is filtered, I need to calculate the eligible free rate using the formula provided: `Free Meal Count (K-12) / Enrollment (K-12)`. However, I should be cautious about division by zero. But since the question is about schools with data, maybe there's a safety net, but the problem might not require handling that here. \n",
      "\n",
      "The goal is to find the highest rate, so I'll use the MAX function on the calculated rate. But to do that, I need to compute the rate for each school and then find the maximum value. \n",
      "\n",
      "Putting it all together, the SQL query should select the maximum of the calculated rate from the joined tables where the County is Alameda. \n",
      "\n",
      "Wait, but the formula is Free Meal Count divided by Enrollment. So in SQL, that would be `Free Meal Count (K-12) / Enrollment (K-12)`. \n",
      "\n",
      "So the query structure would be: \n",
      "\n",
      "SELECT MAX(`Free Meal Count (K-12)` / `Enrollment (K-12)`) AS highest_rate\n",
      "FROM frpm\n",
      "JOIN schools ON frpm.CDSCode = schools.CDSCode\n",
      "WHERE schools.County = 'Alameda';\n",
      "\n",
      "But I should check if there are any schools in Alameda County. Also, ensure that the columns are correctly quoted since some have spaces. \n",
      "\n",
      "I should make sure that the JOIN is correctly using the CDSCode from both tables. Also, the schools table's County column is the right one to filter. \n",
      "\n",
      "I think that's all. The final query should select the maximum value of the calculated rate from the relevant schools.\n",
      "\n",
      "Final answer based om reasoning for this model:\n",
      "\n",
      "\n",
      "```\n",
      "SELECT MAX(`Free Meal Count (K-12)` / `Enrollment (K-12)`) FROM frpm JOIN schools ON frpm.CDSCode = schools.CDSCode WHERE County = 'Alameda';\n",
      "```\n",
      "\n",
      "model 1 analysis:\n",
      " Reasoning process:\n",
      "\n",
      "Okay, let's tackle this question. The user wants the highest eligible free rate for K-12 students in Alameda County. First, I need to figure out which tables and columns are involved.\n",
      "\n",
      "The eligible free rate is calculated as Free Meal Count (K-12) divided by Enrollment (K-12). The frpm table has these columns. But I also need to filter schools in Alameda County. The schools table has a County column. So I need to join frpm with schools on CDSCode to get the county information.\n",
      "\n",
      "Wait, the frpm table has a foreign key to schools' CDSCode, so joining them on CDSCode makes sense. Then, I can filter where County = 'Alameda'. Once I have the eligible free rate for each school, I need to find the maximum value. \n",
      "\n",
      "So the steps are: join frpm and schools on CDSCode, filter for Alameda County, calculate the ratio, and then select the maximum. But I need to make sure that Enrollment (K-12) isn't zero to avoid division by zero. However, the question might assume that enrollment is non-zero. \n",
      "\n",
      "The SQL query would select the maximum of (Free Meal Count / Enrollment) from the joined tables where County is Alameda. I should use the correct column names with backticks. Also, since the user wants only the highest rate, using MAX() on the calculated value should work. \n",
      "\n",
      "Wait, but the question says \"highest eligible free rate\", which is the percentage. So the calculation is (Free Meal Count / Enrollment) * 100. But the columns in frpm are Free Meal Count (K-12) and Enrollment (K-12). So the query would be:\n",
      "\n",
      "SELECT MAX(`Free Meal Count (K-12)` / `Enrollment (K-12)`) AS MaxRate\n",
      "FROM frpm\n",
      "JOIN schools ON frpm.CDSCode = schools.CDSCode\n",
      "WHERE schools.County = 'Alameda';\n",
      "\n",
      "But I need to check if the County column in schools is case-sensitive. The question says Alameda County, so the value in County might be 'Alameda'. Also, ensuring that Enrollment isn't zero. However, the problem might not require handling that. \n",
      "\n",
      "So the final query should join the tables, filter by County, compute the ratio, and find the maximum. That's the plan.\n",
      "\n",
      "Final answer based om reasoning for this model:\n",
      "\n",
      "\n",
      "```\n",
      "SELECT MAX(`Free Meal Count (K-12)` / `Enrollment (K-12)`) FROM frpm JOIN schools ON frpm.CDSCode = schools.CDSCode WHERE schools.County = 'Alameda';\n",
      "```\n",
      "\n",
      "model 2 analysis:\n",
      " Reasoning process:\n",
      "\n",
      "Okay, I need to find the highest eligible free rate for K-12 students in schools located in Alameda County. Let's start by understanding the data structure and the tables involved.\n",
      "\n",
      "First, the question mentions \"eligible free rate for K-12,\" which is calculated as Free Meal Count (K-12) divided by Enrollment (K-12). The tables provided are frpm, satscores, and schools. The schools table has a County column, so I'll need to filter schools in Alameda County from there. \n",
      "\n",
      "The frpm table has the necessary columns for the free meal count and enrollment. However, I need to ensure that the schools in the frpm table are linked to the schools in the schools table. The frpm table has a CDSCode as the primary key, which is also a foreign key referencing the schools table's CDSCode. So, I can join these two tables on CDSCode.\n",
      "\n",
      "So the plan is: join frpm and schools on CDSCode where schools.County is 'Alameda'. Then compute the eligible free rate as (Free Meal Count (K-12) / Enrollment (K-12)) for each school. Finally, find the maximum value of this rate.\n",
      "\n",
      "Wait, but the question says \"highest eligible free rate,\" which is the maximum of the calculated rate. So I need to select the maximum value of (Free Meal Count / Enrollment) from the joined tables where County is Alameda.\n",
      "\n",
      "I need to make sure that the columns are correctly named. In the frpm table, the columns are `Free Meal Count (K-12)` and `Enrollment (K-12)`. The schools table's County column is named County. So the SQL query should join frpm and schools on CDSCode, filter where County = 'Alameda', and then calculate the rate. Then use MAX() to find the highest value.\n",
      "\n",
      "But wait, what if there are null values in Enrollment (K-12)? The question doesn't mention handling that, so I'll assume the data is clean. Also, division in SQL can be tricky. Since the columns are REAL, dividing them should work. So the query would be:\n",
      "\n",
      "SELECT MAX(`Free Meal Count (K-12)` / `Enrollment (K-12)`) AS MaxEligibleFreeRate\n",
      "FROM frpm\n",
      "JOIN schools ON frpm.CDSCode = schools.CDSCode\n",
      "WHERE schools.County = 'Alameda';\n",
      "\n",
      "But I need to check if the County column in schools is named correctly. Yes, the schools table has a County column. So this should work. That's the final query.\n",
      "\n",
      "Final answer based om reasoning for this model:\n",
      "\n",
      "\n",
      "```\n",
      "SELECT MAX(`Free Meal Count (K-12)` / `Enrollment (K-12)`) FROM frpm JOIN schools ON frpm.CDSCode = schools.CDSCode WHERE schools.County = 'Alameda';\n",
      "```\n",
      "\n",
      "model 3 analysis:\n",
      " Reasoning process:\n",
      "\n",
      "Okay, I need to find the highest eligible free rate for K-12 students in schools located in Alameda County. Let's break this down step by step.\n",
      "\n",
      "First, the question mentions \"eligible free rate for K-12,\" which the external knowledge defines as `Free Meal Count (K-12)` divided by `Enrollment (K-12)`. So I'll need to calculate this ratio for each school. But I need to make sure that division is handled correctly, maybe using real numbers to avoid integer division issues.\n",
      "\n",
      "Next, the schools are in Alameda County. The `frpm` table has a `County Name` column, so I should filter schools where `County Name` is 'Alameda'. However, I should check if the `frpm` table has the necessary data. The `frpm` table's columns include `County Name`, so that's where I'll get the county information.\n",
      "\n",
      "Wait, but the `schools` table also has a `County` column. Which one should I use? The question refers to \"Alameda County,\" and the `frpm` table's `County Name` might be the right column. But I should confirm. However, since the `frpm` table is linked via `CDSCode` to the `schools` table, maybe the `County Name` in `frpm` is the correct one. But perhaps the `schools` table's `County` column is more accurate. Hmm. But the user's external knowledge might assume using `frpm`'s `County Name`. Let me check the tables again.\n",
      "\n",
      "The `frpm` table has a `County Name` column, and the `schools` table has a `County` column. The question is about schools in Alameda County. The `frpm` table's `County Name` likely refers to the county where the school is located. But maybe I should cross-reference. However, the `frpm` table is linked to `schools` via `CDSCode`, so if I use `frpm`'s `County Name`, that's the right approach. But the user's question might have the `County` column in `schools` as the correct one. Wait, the question doesn't specify which table's county to use, but the external knowledge's formula uses columns from `frpm`. So perhaps the `County Name` in `frpm` is the correct one.\n",
      "\n",
      "So the plan is: join the `frpm` table with the `schools` table on `CDSCode`, filter where `County Name` is 'Alameda', calculate the eligible free rate as `Free Meal Count (K-12) / Enrollment (K-12)`, and then find the maximum value of that rate.\n",
      "\n",
      "Wait, but the `frpm` table might not have all the schools. The `schools` table has a `CDSCode` as primary key, and `frpm` has a foreign key to `schools`'s `CDSCode`. So `frpm` might have entries for schools that are in the `schools` table. But if I need to get the county information, I should use the `County Name` from `frpm` because it's directly related to the school's location. But maybe the `schools` table's `County` is more accurate. However, the user's external knowledge uses `frpm`'s columns, so I should use `frpm`'s `County Name`.\n",
      "\n",
      "So, the SQL query would select the `Free Meal Count (K-12)` and `Enrollment (K-12)` from `frpm` where `County Name` is 'Alameda', calculate the ratio, and find the maximum. But I need to ensure that `Enrollment (K-12)` is not zero to avoid division by zero. However, the question doesn't mention handling that, so maybe it's safe to proceed.\n",
      "\n",
      "So the steps are:\n",
      "\n",
      "1. Select from `frpm` where `County Name` = 'Alameda'.\n",
      "2. Calculate `Free Meal Count (K-12) / Enrollment (K-12)` as the eligible free rate.\n",
      "3. Find the maximum value of this rate.\n",
      "\n",
      "But I need to make sure that the columns are correctly referenced. The `frpm` table has `Free Meal Count (K-12)` and `Enrollment (K-12)` as columns. Also, the `County Name` is in `frpm`.\n",
      "\n",
      "So the SQL query would be:\n",
      "\n",
      "SELECT MAX(`Free Meal Count (K-12)` / `Enrollment (K-12)`) AS highest_eligible_free_rate\n",
      "FROM frpm\n",
      "WHERE `County Name` = 'Alameda';\n",
      "\n",
      "Wait, but what if there are schools with zero enrollment? The division would result in NULL or an error. However, the problem doesn't mention handling that, so perhaps it's acceptable. Also, the question might assume that the data is valid.\n",
      "\n",
      "But the user's question asks for the highest eligible free rate, so the query should return a single value. Using MAX on the calculated ratio would give the maximum.\n",
      "\n",
      "So the final SQL query should be as above.\n",
      "\n",
      "Final answer based om reasoning for this model:\n",
      "\n",
      "\n",
      "```\n",
      "-- Your SQL query\n",
      "SELECT MAX(`Free Meal Count (K-12)` / `Enrollment (K-12)`) FROM frpm WHERE `County Name` = 'Alameda';\n",
      "```\n",
      "\n",
      "\n",
      "here is avaliable tables below\n",
      "\n",
      "\n",
      "Table: frpm\n",
      "CREATE TABLE frpm\n",
      "(\n",
      "    CDSCode                                       TEXT not null\n",
      "        primary key,\n",
      "    `Academic Year`                               TEXT  null,\n",
      "    `County Code`                                 TEXT  null,\n",
      "    `District Code`                               INTEGER         null,\n",
      "    `School Code`                                 TEXT  null,\n",
      "    `County Name`                                 TEXT null,\n",
      "    `District Name`                               TEXT null,\n",
      "    `School Name`                                 TEXT null,\n",
      "    `District Type`                               TEXT null,\n",
      "    `School Type`                                 TEXT null,\n",
      "    `Educational Option Type`                     TEXT null,\n",
      "    `NSLP Provision Status`                       TEXT null,\n",
      "    `Charter School (Y/N)`                        INTEGER    null,\n",
      "    `Charter School Number`                       TEXT  null,\n",
      "    `Charter Funding Type`                        TEXT null,\n",
      "    IRC                                           INTEGER    null,\n",
      "    `Low Grade`                                   TEXT  null,\n",
      "    `High Grade`                                  TEXT null,\n",
      "    `Enrollment (K-12)`                           REAL      null,\n",
      "    `Free Meal Count (K-12)`                      REAL       null,\n",
      "    `Percent (%) Eligible Free (K-12)`            REAL       null,\n",
      "    `FRPM Count (K-12)`                           REAL       null,\n",
      "    `Percent (%) Eligible FRPM (K-12)`            REAL       null,\n",
      "    `Enrollment (Ages 5-17)`                      REAL       null,\n",
      "    `Free Meal Count (Ages 5-17)`                 REAL       null,\n",
      "    `Percent (%) Eligible Free (Ages 5-17)`       REAL       null,\n",
      "    `FRPM Count (Ages 5-17)`                      REAL       null,\n",
      "    `Percent (%) Eligible FRPM (Ages 5-17)`       REAL       null,\n",
      "    `2013-14 CALPADS Fall 1 Certification Status` INTEGER    null,\n",
      "    foreign key (CDSCode) references schools (CDSCode)\n",
      ")\n",
      "\n",
      "Table: satscores\n",
      "CREATE TABLE satscores\n",
      "(\n",
      "    cds         TEXT not null\n",
      "        primary key,\n",
      "    rtype       TEXT  not null,\n",
      "    sname       TEXT null,\n",
      "    dname       TEXT null,\n",
      "    cname       TEXT null,\n",
      "    enroll12    INTEGER         not null,\n",
      "    NumTstTakr  INTEGER          not null,\n",
      "    AvgScrRead  INTEGER          null,\n",
      "    AvgScrMath  INTEGER          null,\n",
      "    AvgScrWrite INTEGER          null,\n",
      "    NumGE1500   INTEGER          null,\n",
      "--     PctGE1500   double      null,\n",
      "        foreign key (cds) references schools (CDSCode)\n",
      ")\n",
      "\n",
      "Table: schools\n",
      "CREATE TABLE schools\n",
      "(\n",
      "    CDSCode     TEXT not null\n",
      "        primary key,\n",
      "    NCESDist    TEXT  null,\n",
      "    NCESSchool  TEXT  null,\n",
      "    StatusType  TEXT  not null,\n",
      "    County      TEXT not null,\n",
      "    District    TEXT not null,\n",
      "    School      TEXT null,\n",
      "    Street      TEXT null,\n",
      "    StreetAbr   TEXT null,\n",
      "    City        TEXT null,\n",
      "    Zip         TEXT null,\n",
      "    State       TEXT  null,\n",
      "    MailStreet  TEXT null,\n",
      "    MailStrAbr  TEXT null,\n",
      "    MailCity    TEXT null,\n",
      "    MailZip     TEXT null,\n",
      "    MailState   TEXT  null,\n",
      "    Phone       TEXT null,\n",
      "    Ext         TEXT  null,\n",
      "    Website     TEXT null,\n",
      "    OpenDate    DATE        null,\n",
      "    ClosedDate  DATE        null,\n",
      "    Charter     INTEGER    null,\n",
      "    CharterNum  TEXT  null,\n",
      "    FundingType TEXT null,\n",
      "    DOC         TEXT  not null,\n",
      "    DOCType     TEXT not null,\n",
      "    SOC         TEXT  null,\n",
      "    SOCType     TEXT null,\n",
      "    EdOpsCode   TEXT  null,\n",
      "    EdOpsName   TEXT null,\n",
      "    EILCode     TEXT  null,\n",
      "    EILName     TEXT null,\n",
      "    GSoffered   TEXT null,\n",
      "    GSserved    TEXT  null,\n",
      "    Virtual     TEXT  null,\n",
      "    Magnet      INTEGER   null,\n",
      "    Latitude    REAL      null,\n",
      "    Longitude   REAL      null,\n",
      "    AdmFName1   TEXT null,\n",
      "    AdmLName1   TEXT null,\n",
      "    AdmEmail1   TEXT null,\n",
      "    AdmFName2   TEXT null,\n",
      "    AdmLName2   TEXT null,\n",
      "    AdmEmail2   TEXT null,\n",
      "    AdmFName3   TEXT  null,\n",
      "    AdmLName3   TEXT null,\n",
      "    AdmEmail3   TEXT null,\n",
      "    LastUpdate  DATE        not null\n",
      ")\n",
      "\n",
      "-- Using valid SQLite and understanding External Knowledge, answer the following questions for the tables provided above.\n",
      "-- What is the highest eligible free rate for K-12 students in the schools in Alameda County?\n",
      "-- External Knowledge: Eligible free rate for K-12 = `Free Meal Count (K-12)` / `Enrollment (K-12)`\n",
      "\n",
      "\n",
      "Generate the SQLite for the above question after thinking step by step: \n",
      "\n",
      "\n",
      "Instructions:\n",
      "- Make sure you only output the information that is asked in the question. If the question asks for a specific column, make sure to only include that column in the SELECT clause, nothing more.\n",
      "- The generated query should return all of the information asked in the question without any missing or extra information.\n",
      "- Before generating the final SQL query, please think through the steps of how to write the query.\n",
      "- Do not misuse column names, keep them in quotes `\n",
      "- Carefully understand what colomns belond to what tables\n",
      "- Use only initial column names, change names prohibited\n",
      "        \n",
      "Output Format:\n",
      "In your answer, please enclose the generated SQL query in a code block:\n",
      "```\n",
      "-- Your SQL query\n",
      "```    \n",
      "and nothing else, no exaplains, no comments (asnwer should be less than 512 characters)\n",
      "\n",
      "Take a deep breath and think step by step to find the correct SQL query in SQLite format.\n",
      "\n",
      "Question repetition: What is the highest eligible free rate for K-12 students in the schools in Alameda County?\n",
      "\n",
      "Be care! Include only what i want it questiona and nothing else<|im_end|>\n",
      "<|im_start|>assistant\n",
      "<think>\n",
      "\n",
      "</think>\n",
      "\n",
      "\n",
      "\n",
      "\n",
      "Максимальное количество токенов в промптах: 20660\n",
      "\n",
      "начинаем скорринг\n",
      "Загружаем чаты с данными...\n",
      "Данные успешно загружены\n",
      "Начали генерацию SQL запросов\n"
     ]
    },
    {
     "name": "stderr",
     "output_type": "stream",
     "text": [
      "Processed prompts: 100%|██████████| 1534/1534 [03:13<00:00,  7.91it/s, est. speed input: 40419.28 toks/s, output: 375.01 toks/s]"
     ]
    },
    {
     "name": "stdout",
     "output_type": "stream",
     "text": [
      "extract_think количество ошибок:  0\n",
      "extract_sql количество ошибок:  0\n",
      "Закончили генерацию SQL запросов\n",
      "Начали скорр полученных SQL запросов\n"
     ]
    },
    {
     "name": "stderr",
     "output_type": "stream",
     "text": [
      "\n"
     ]
    },
    {
     "name": "stdout",
     "output_type": "stream",
     "text": [
      "Qwen3-8B DEV Финальный результат EX: 57.89\n",
      "Qwen3-8B процент запросов, которые успешно выполнились DEV: 95.31%\n",
      "====================================================================================================\n",
      "\n",
      "\n",
      "Загружаем чаты с данными...\n",
      "Данные успешно загружены\n",
      "Начали генерацию SQL запросов\n"
     ]
    },
    {
     "name": "stderr",
     "output_type": "stream",
     "text": [
      "Processed prompts: 100%|██████████| 1534/1534 [03:19<00:00,  7.70it/s, est. speed input: 39672.77 toks/s, output: 366.13 toks/s]"
     ]
    },
    {
     "name": "stdout",
     "output_type": "stream",
     "text": [
      "extract_think количество ошибок:  0\n",
      "extract_sql количество ошибок:  0\n",
      "Закончили генерацию SQL запросов\n",
      "Начали скорр полученных SQL запросов\n"
     ]
    },
    {
     "name": "stderr",
     "output_type": "stream",
     "text": [
      "\n"
     ]
    },
    {
     "name": "stdout",
     "output_type": "stream",
     "text": [
      "Qwen3-8B DEV Финальный результат EX: 57.69\n",
      "Qwen3-8B процент запросов, которые успешно выполнились DEV: 95.89%\n",
      "====================================================================================================\n",
      "\n",
      "\n",
      "Загружаем чаты с данными...\n",
      "Данные успешно загружены\n",
      "Начали генерацию SQL запросов\n"
     ]
    },
    {
     "name": "stderr",
     "output_type": "stream",
     "text": [
      "Processed prompts: 100%|██████████| 1534/1534 [03:18<00:00,  7.74it/s, est. speed input: 39689.06 toks/s, output: 372.83 toks/s]"
     ]
    },
    {
     "name": "stdout",
     "output_type": "stream",
     "text": [
      "extract_think количество ошибок:  0\n",
      "extract_sql количество ошибок:  0\n",
      "Закончили генерацию SQL запросов\n",
      "Начали скорр полученных SQL запросов\n"
     ]
    },
    {
     "name": "stderr",
     "output_type": "stream",
     "text": [
      "\n"
     ]
    },
    {
     "name": "stdout",
     "output_type": "stream",
     "text": [
      "Qwen3-8B DEV Финальный результат EX: 58.02\n",
      "Qwen3-8B процент запросов, которые успешно выполнились DEV: 95.57%\n",
      "====================================================================================================\n",
      "\n",
      "\n",
      "Загружаем чаты с данными...\n",
      "Данные успешно загружены\n",
      "Начали генерацию SQL запросов\n"
     ]
    },
    {
     "name": "stderr",
     "output_type": "stream",
     "text": [
      "Processed prompts: 100%|██████████| 1534/1534 [03:17<00:00,  7.78it/s, est. speed input: 39854.22 toks/s, output: 371.90 toks/s]"
     ]
    },
    {
     "name": "stdout",
     "output_type": "stream",
     "text": [
      "extract_think количество ошибок:  0\n",
      "extract_sql количество ошибок:  0\n",
      "Закончили генерацию SQL запросов\n",
      "Начали скорр полученных SQL запросов\n"
     ]
    },
    {
     "name": "stderr",
     "output_type": "stream",
     "text": [
      "\n"
     ]
    },
    {
     "name": "stdout",
     "output_type": "stream",
     "text": [
      "Qwen3-8B DEV Финальный результат EX: 57.89\n",
      "Qwen3-8B процент запросов, которые успешно выполнились DEV: 96.09%\n",
      "====================================================================================================\n",
      "\n",
      "\n",
      "Загружаем чаты с данными...\n",
      "Данные успешно загружены\n",
      "Начали генерацию SQL запросов\n"
     ]
    },
    {
     "name": "stderr",
     "output_type": "stream",
     "text": [
      "Processed prompts: 100%|██████████| 1534/1534 [03:20<00:00,  7.67it/s, est. speed input: 39517.18 toks/s, output: 367.48 toks/s]"
     ]
    },
    {
     "name": "stdout",
     "output_type": "stream",
     "text": [
      "extract_think количество ошибок:  0\n",
      "extract_sql количество ошибок:  0\n",
      "Закончили генерацию SQL запросов\n",
      "Начали скорр полученных SQL запросов\n"
     ]
    },
    {
     "name": "stderr",
     "output_type": "stream",
     "text": [
      "\n"
     ]
    },
    {
     "name": "stdout",
     "output_type": "stream",
     "text": [
      "Qwen3-8B DEV Финальный результат EX: 58.08\n",
      "Qwen3-8B процент запросов, которые успешно выполнились DEV: 96.15%\n",
      "====================================================================================================\n",
      "\n",
      "\n",
      "Загружаем чаты с данными...\n",
      "Данные успешно загружены\n",
      "Начали генерацию SQL запросов\n"
     ]
    },
    {
     "name": "stderr",
     "output_type": "stream",
     "text": [
      "Processed prompts: 100%|██████████| 1534/1534 [03:17<00:00,  7.77it/s, est. speed input: 40021.84 toks/s, output: 373.38 toks/s]"
     ]
    },
    {
     "name": "stdout",
     "output_type": "stream",
     "text": [
      "extract_think количество ошибок:  0\n",
      "extract_sql количество ошибок:  0\n",
      "Закончили генерацию SQL запросов\n",
      "Начали скорр полученных SQL запросов\n"
     ]
    },
    {
     "name": "stderr",
     "output_type": "stream",
     "text": [
      "\n"
     ]
    },
    {
     "name": "stdout",
     "output_type": "stream",
     "text": [
      "Qwen3-8B DEV Финальный результат EX: 58.08\n",
      "Qwen3-8B процент запросов, которые успешно выполнились DEV: 95.89%\n",
      "====================================================================================================\n",
      "\n",
      "\n",
      "Загружаем чаты с данными...\n",
      "Данные успешно загружены\n",
      "Начали генерацию SQL запросов\n"
     ]
    },
    {
     "name": "stderr",
     "output_type": "stream",
     "text": [
      "Processed prompts: 100%|██████████| 1534/1534 [03:16<00:00,  7.79it/s, est. speed input: 40035.39 toks/s, output: 373.37 toks/s]"
     ]
    },
    {
     "name": "stdout",
     "output_type": "stream",
     "text": [
      "extract_think количество ошибок:  0\n",
      "extract_sql количество ошибок:  0\n",
      "Закончили генерацию SQL запросов\n",
      "Начали скорр полученных SQL запросов\n"
     ]
    },
    {
     "name": "stderr",
     "output_type": "stream",
     "text": [
      "\n"
     ]
    },
    {
     "name": "stdout",
     "output_type": "stream",
     "text": [
      "Qwen3-8B DEV Финальный результат EX: 57.56\n",
      "Qwen3-8B процент запросов, которые успешно выполнились DEV: 96.35%\n",
      "====================================================================================================\n",
      "\n",
      "\n",
      "Загружаем чаты с данными...\n",
      "Данные успешно загружены\n",
      "Начали генерацию SQL запросов\n"
     ]
    },
    {
     "name": "stderr",
     "output_type": "stream",
     "text": [
      "Processed prompts: 100%|██████████| 1534/1534 [03:15<00:00,  7.83it/s, est. speed input: 40441.42 toks/s, output: 369.39 toks/s]"
     ]
    },
    {
     "name": "stdout",
     "output_type": "stream",
     "text": [
      "extract_think количество ошибок:  0\n",
      "extract_sql количество ошибок:  0\n",
      "Закончили генерацию SQL запросов\n",
      "Начали скорр полученных SQL запросов\n"
     ]
    },
    {
     "name": "stderr",
     "output_type": "stream",
     "text": [
      "\n"
     ]
    },
    {
     "name": "stdout",
     "output_type": "stream",
     "text": [
      "Qwen3-8B DEV Финальный результат EX: 57.11\n",
      "Qwen3-8B процент запросов, которые успешно выполнились DEV: 96.28%\n",
      "====================================================================================================\n",
      "\n",
      "\n",
      "Загружаем чаты с данными...\n",
      "Данные успешно загружены\n",
      "Начали генерацию SQL запросов\n"
     ]
    },
    {
     "name": "stderr",
     "output_type": "stream",
     "text": [
      "Processed prompts: 100%|██████████| 1534/1534 [03:20<00:00,  7.66it/s, est. speed input: 39466.90 toks/s, output: 366.55 toks/s]"
     ]
    },
    {
     "name": "stdout",
     "output_type": "stream",
     "text": [
      "extract_think количество ошибок:  0\n",
      "extract_sql количество ошибок:  0\n",
      "Закончили генерацию SQL запросов\n",
      "Начали скорр полученных SQL запросов\n"
     ]
    },
    {
     "name": "stderr",
     "output_type": "stream",
     "text": [
      "\n"
     ]
    },
    {
     "name": "stdout",
     "output_type": "stream",
     "text": [
      "Qwen3-8B DEV Финальный результат EX: 57.37\n",
      "Qwen3-8B процент запросов, которые успешно выполнились DEV: 96.09%\n",
      "====================================================================================================\n",
      "\n",
      "\n",
      "Загружаем чаты с данными...\n",
      "Данные успешно загружены\n",
      "Начали генерацию SQL запросов\n"
     ]
    },
    {
     "name": "stderr",
     "output_type": "stream",
     "text": [
      "Processed prompts: 100%|██████████| 1534/1534 [03:17<00:00,  7.76it/s, est. speed input: 39923.37 toks/s, output: 372.09 toks/s]"
     ]
    },
    {
     "name": "stdout",
     "output_type": "stream",
     "text": [
      "extract_think количество ошибок:  0\n",
      "extract_sql количество ошибок:  0\n",
      "Закончили генерацию SQL запросов\n",
      "Начали скорр полученных SQL запросов\n"
     ]
    },
    {
     "name": "stderr",
     "output_type": "stream",
     "text": [
      "\n"
     ]
    },
    {
     "name": "stdout",
     "output_type": "stream",
     "text": [
      "Qwen3-8B DEV Финальный результат EX: 57.43\n",
      "Qwen3-8B процент запросов, которые успешно выполнились DEV: 96.22%\n",
      "====================================================================================================\n",
      "\n",
      "\n",
      "Загружаем чаты с данными...\n",
      "Данные успешно загружены\n",
      "Начали генерацию SQL запросов\n"
     ]
    },
    {
     "name": "stderr",
     "output_type": "stream",
     "text": [
      "Processed prompts: 100%|██████████| 1534/1534 [03:22<00:00,  7.59it/s, est. speed input: 39286.62 toks/s, output: 364.57 toks/s]"
     ]
    },
    {
     "name": "stdout",
     "output_type": "stream",
     "text": [
      "extract_think количество ошибок:  0\n",
      "extract_sql количество ошибок:  0\n",
      "Закончили генерацию SQL запросов\n",
      "Начали скорр полученных SQL запросов\n"
     ]
    },
    {
     "name": "stderr",
     "output_type": "stream",
     "text": [
      "\n"
     ]
    },
    {
     "name": "stdout",
     "output_type": "stream",
     "text": [
      "Qwen3-8B DEV Финальный результат EX: 57.37\n",
      "Qwen3-8B процент запросов, которые успешно выполнились DEV: 96.09%\n",
      "====================================================================================================\n",
      "\n",
      "\n",
      "Загружаем чаты с данными...\n",
      "Данные успешно загружены\n",
      "Начали генерацию SQL запросов\n"
     ]
    },
    {
     "name": "stderr",
     "output_type": "stream",
     "text": [
      "Processed prompts: 100%|██████████| 1534/1534 [03:21<00:00,  7.61it/s, est. speed input: 39043.77 toks/s, output: 368.44 toks/s]"
     ]
    },
    {
     "name": "stdout",
     "output_type": "stream",
     "text": [
      "extract_think количество ошибок:  0\n",
      "extract_sql количество ошибок:  0\n",
      "Закончили генерацию SQL запросов\n",
      "Начали скорр полученных SQL запросов\n"
     ]
    },
    {
     "name": "stderr",
     "output_type": "stream",
     "text": [
      "\n"
     ]
    },
    {
     "name": "stdout",
     "output_type": "stream",
     "text": [
      "Qwen3-8B DEV Финальный результат EX: 57.82\n",
      "Qwen3-8B процент запросов, которые успешно выполнились DEV: 95.89%\n",
      "====================================================================================================\n",
      "\n",
      "\n",
      "Загружаем чаты с данными...\n",
      "Данные успешно загружены\n",
      "Начали генерацию SQL запросов\n"
     ]
    },
    {
     "name": "stderr",
     "output_type": "stream",
     "text": [
      "Processed prompts: 100%|██████████| 1534/1534 [03:17<00:00,  7.77it/s, est. speed input: 39629.15 toks/s, output: 373.47 toks/s]"
     ]
    },
    {
     "name": "stdout",
     "output_type": "stream",
     "text": [
      "extract_think количество ошибок:  0\n",
      "extract_sql количество ошибок:  0\n",
      "Закончили генерацию SQL запросов\n",
      "Начали скорр полученных SQL запросов\n"
     ]
    },
    {
     "name": "stderr",
     "output_type": "stream",
     "text": [
      "\n"
     ]
    },
    {
     "name": "stdout",
     "output_type": "stream",
     "text": [
      "Qwen3-8B DEV Финальный результат EX: 57.04\n",
      "Qwen3-8B процент запросов, которые успешно выполнились DEV: 95.76%\n",
      "====================================================================================================\n",
      "\n",
      "\n",
      "Загружаем чаты с данными...\n",
      "Данные успешно загружены\n",
      "Начали генерацию SQL запросов\n"
     ]
    },
    {
     "name": "stderr",
     "output_type": "stream",
     "text": [
      "Processed prompts: 100%|██████████| 1534/1534 [03:14<00:00,  7.87it/s, est. speed input: 39654.61 toks/s, output: 382.90 toks/s]"
     ]
    },
    {
     "name": "stdout",
     "output_type": "stream",
     "text": [
      "extract_think количество ошибок:  0\n",
      "extract_sql количество ошибок:  0\n",
      "Закончили генерацию SQL запросов\n",
      "Начали скорр полученных SQL запросов\n"
     ]
    },
    {
     "name": "stderr",
     "output_type": "stream",
     "text": [
      "\n"
     ]
    },
    {
     "name": "stdout",
     "output_type": "stream",
     "text": [
      "Qwen3-8B DEV Финальный результат EX: 58.08\n",
      "Qwen3-8B процент запросов, которые успешно выполнились DEV: 95.83%\n",
      "====================================================================================================\n",
      "\n",
      "\n",
      "Загружаем чаты с данными...\n",
      "Данные успешно загружены\n",
      "Начали генерацию SQL запросов\n"
     ]
    },
    {
     "name": "stderr",
     "output_type": "stream",
     "text": [
      "Processed prompts: 100%|██████████| 1534/1534 [03:12<00:00,  7.97it/s, est. speed input: 40491.28 toks/s, output: 379.32 toks/s]"
     ]
    },
    {
     "name": "stdout",
     "output_type": "stream",
     "text": [
      "extract_think количество ошибок:  0\n",
      "extract_sql количество ошибок:  0\n",
      "Закончили генерацию SQL запросов\n",
      "Начали скорр полученных SQL запросов\n"
     ]
    },
    {
     "name": "stderr",
     "output_type": "stream",
     "text": [
      "\n"
     ]
    },
    {
     "name": "stdout",
     "output_type": "stream",
     "text": [
      "Qwen3-8B DEV Финальный результат EX: 57.50\n",
      "Qwen3-8B процент запросов, которые успешно выполнились DEV: 95.70%\n",
      "====================================================================================================\n",
      "\n",
      "\n",
      "Загружаем чаты с данными...\n",
      "Данные успешно загружены\n",
      "Начали генерацию SQL запросов\n"
     ]
    },
    {
     "name": "stderr",
     "output_type": "stream",
     "text": [
      "Processed prompts: 100%|██████████| 1534/1534 [03:16<00:00,  7.80it/s, est. speed input: 39805.87 toks/s, output: 376.96 toks/s]"
     ]
    },
    {
     "name": "stdout",
     "output_type": "stream",
     "text": [
      "extract_think количество ошибок:  0\n",
      "extract_sql количество ошибок:  0\n",
      "Закончили генерацию SQL запросов\n",
      "Начали скорр полученных SQL запросов\n"
     ]
    },
    {
     "name": "stderr",
     "output_type": "stream",
     "text": [
      "\n"
     ]
    },
    {
     "name": "stdout",
     "output_type": "stream",
     "text": [
      "Qwen3-8B DEV Финальный результат EX: 58.67\n",
      "Qwen3-8B процент запросов, которые успешно выполнились DEV: 96.02%\n",
      "====================================================================================================\n",
      "\n",
      "\n",
      "Загружаем чаты с данными...\n",
      "Данные успешно загружены\n",
      "Начали генерацию SQL запросов\n"
     ]
    },
    {
     "name": "stderr",
     "output_type": "stream",
     "text": [
      "Processed prompts: 100%|██████████| 1534/1534 [03:16<00:00,  7.80it/s, est. speed input: 39751.43 toks/s, output: 377.53 toks/s]"
     ]
    },
    {
     "name": "stdout",
     "output_type": "stream",
     "text": [
      "extract_think количество ошибок:  0\n",
      "extract_sql количество ошибок:  0\n",
      "Закончили генерацию SQL запросов\n",
      "Начали скорр полученных SQL запросов\n"
     ]
    },
    {
     "name": "stderr",
     "output_type": "stream",
     "text": [
      "\n"
     ]
    },
    {
     "name": "stdout",
     "output_type": "stream",
     "text": [
      "Qwen3-8B DEV Финальный результат EX: 58.28\n",
      "Qwen3-8B процент запросов, которые успешно выполнились DEV: 96.09%\n",
      "====================================================================================================\n",
      "\n",
      "\n",
      "Загружаем чаты с данными...\n",
      "Данные успешно загружены\n",
      "Начали генерацию SQL запросов\n"
     ]
    },
    {
     "name": "stderr",
     "output_type": "stream",
     "text": [
      "Processed prompts: 100%|██████████| 1534/1534 [03:19<00:00,  7.69it/s, est. speed input: 39390.67 toks/s, output: 369.81 toks/s]"
     ]
    },
    {
     "name": "stdout",
     "output_type": "stream",
     "text": [
      "extract_think количество ошибок:  0\n",
      "extract_sql количество ошибок:  0\n",
      "Закончили генерацию SQL запросов\n",
      "Начали скорр полученных SQL запросов\n"
     ]
    },
    {
     "name": "stderr",
     "output_type": "stream",
     "text": [
      "\n"
     ]
    },
    {
     "name": "stdout",
     "output_type": "stream",
     "text": [
      "Qwen3-8B DEV Финальный результат EX: 58.34\n",
      "Qwen3-8B процент запросов, которые успешно выполнились DEV: 96.09%\n",
      "====================================================================================================\n",
      "\n",
      "\n",
      "Загружаем чаты с данными...\n",
      "Данные успешно загружены\n",
      "Начали генерацию SQL запросов\n"
     ]
    },
    {
     "name": "stderr",
     "output_type": "stream",
     "text": [
      "Processed prompts: 100%|██████████| 1534/1534 [03:14<00:00,  7.87it/s, est. speed input: 40069.82 toks/s, output: 376.56 toks/s]"
     ]
    },
    {
     "name": "stdout",
     "output_type": "stream",
     "text": [
      "extract_think количество ошибок:  0\n",
      "extract_sql количество ошибок:  0\n",
      "Закончили генерацию SQL запросов\n",
      "Начали скорр полученных SQL запросов\n"
     ]
    },
    {
     "name": "stderr",
     "output_type": "stream",
     "text": [
      "\n"
     ]
    },
    {
     "name": "stdout",
     "output_type": "stream",
     "text": [
      "Qwen3-8B DEV Финальный результат EX: 57.37\n",
      "Qwen3-8B процент запросов, которые успешно выполнились DEV: 95.57%\n",
      "====================================================================================================\n",
      "\n",
      "\n",
      "Загружаем чаты с данными...\n",
      "Данные успешно загружены\n",
      "Начали генерацию SQL запросов\n"
     ]
    },
    {
     "name": "stderr",
     "output_type": "stream",
     "text": [
      "Processed prompts: 100%|██████████| 1534/1534 [03:15<00:00,  7.84it/s, est. speed input: 39931.12 toks/s, output: 375.87 toks/s]"
     ]
    },
    {
     "name": "stdout",
     "output_type": "stream",
     "text": [
      "extract_think количество ошибок:  0\n",
      "extract_sql количество ошибок:  0\n",
      "Закончили генерацию SQL запросов\n",
      "Начали скорр полученных SQL запросов\n"
     ]
    },
    {
     "name": "stderr",
     "output_type": "stream",
     "text": [
      "\n"
     ]
    },
    {
     "name": "stdout",
     "output_type": "stream",
     "text": [
      "Qwen3-8B DEV Финальный результат EX: 56.98\n",
      "Qwen3-8B процент запросов, которые успешно выполнились DEV: 95.37%\n",
      "====================================================================================================\n",
      "\n",
      "\n"
     ]
    }
   ],
   "source": [
    "run_cot_experiment(model,arr_seeds,arr_versions, type_cot,num_observations=num_observations)"
   ]
  },
  {
   "cell_type": "markdown",
   "id": "e8321b48-e1ff-41e4-b667-d7196e984c17",
   "metadata": {},
   "source": [
    "## 5 наблюдений"
   ]
  },
  {
   "cell_type": "code",
   "execution_count": 9,
   "id": "613df4ca-270b-4de3-9fb0-a403da4769f9",
   "metadata": {},
   "outputs": [
    {
     "name": "stdout",
     "output_type": "stream",
     "text": [
      "[141, 470, 980, 791, 767, 241, 128, 616, 443, 286, 396, 443, 90, 446, 385, 473, 680, 965, 26, 386]\n",
      "model: Qwen3-8B\n"
     ]
    }
   ],
   "source": [
    "n= 20\n",
    "arr_seeds = [random.randint(0,1000) for _ in range(n)]\n",
    "arr_versions = [x for x in range(n)]\n",
    "model = \"Qwen3-8B\"\n",
    "num_observations = 5\n",
    "type_cot = 'all_new'\n",
    "print(arr_seeds)\n",
    "print(f\"model: {model}\")"
   ]
  },
  {
   "cell_type": "code",
   "execution_count": 10,
   "id": "cecc36c2-8753-43db-a939-82d14892b0f5",
   "metadata": {
    "scrolled": true
   },
   "outputs": [
    {
     "name": "stdout",
     "output_type": "stream",
     "text": [
      "Загружаем модель...\n"
     ]
    },
    {
     "name": "stderr",
     "output_type": "stream",
     "text": [
      "Loading safetensors checkpoint shards:   0% Completed | 0/4 [00:00<?, ?it/s]\n",
      "Loading safetensors checkpoint shards:  25% Completed | 1/4 [00:00<00:00,  7.93it/s]\n",
      "Loading safetensors checkpoint shards:  50% Completed | 2/4 [00:00<00:00,  2.71it/s]\n",
      "Loading safetensors checkpoint shards:  75% Completed | 3/4 [00:01<00:00,  1.99it/s]\n",
      "Loading safetensors checkpoint shards: 100% Completed | 4/4 [00:01<00:00,  1.76it/s]\n",
      "Loading safetensors checkpoint shards: 100% Completed | 4/4 [00:01<00:00,  2.01it/s]\n",
      "\u001b[1;36m(VllmWorker rank=0 pid=3932085)\u001b[0;0m \n"
     ]
    },
    {
     "name": "stdout",
     "output_type": "stream",
     "text": [
      "Модель успешно загружена\n",
      "model_config {'model': '/data/home/vkropoti/models/Qwen3-8B', 'tensor_parallel_size': 2, 'max_model_len': 40000, 'max_new_tokens': 1500, 'temperature': 0, 'top_k': 1, 'top_p': 0.8, 'gpu_memory_utilization': 0.9, 'trust_remote_code': False, 'seed': 141}\n",
      "\n",
      "prompts_config {'path_dev_json': '/home/vkropoti/vllm/dev.json', 'path_sql_dbs': '/data/home/vkropoti/sql_data/dev_databases/', 'use_reasoning': False, 'paths_to_cot': ['/data/home/vkropoti/sql_llm_answers/bird_dev/sql_all_new_Qwen3-8B-reasoning-v0', '/data/home/vkropoti/sql_llm_answers/bird_dev/sql_all_new_Qwen3-8B-reasoning-v1', '/data/home/vkropoti/sql_llm_answers/bird_dev/sql_all_new_Qwen3-8B-reasoning-v2', '/data/home/vkropoti/sql_llm_answers/bird_dev/sql_all_new_Qwen3-8B-reasoning-v3', '/data/home/vkropoti/sql_llm_answers/bird_dev/sql_all_new_Qwen3-8B-reasoning-v4']}\n",
      "\n",
      "save_config {'path_sql_save': '/data/home/vkropoti/sql_llm_answers/bird_dev/sql_all_Qwen3-8B-cot_all_new_think==False_nobs5-v0', 'path_think_save': None, 'path_sql_answers_save': '/data/home/vkropoti/sql_llm_answers/bird_dev/sql_predict_Qwen3-8B-cot_all_new_think==False_nobs5-v0', 'path_to_save_scores': '/data/home/vkropoti/sql_llm_answers/bird_dev/sql_results_Qwen3-8B-cot_all_new_think==False_nobs5-v0', 'path_to_save_executed': '/data/home/vkropoti/sql_llm_answers/bird_dev/sql_executed_Qwen3-8B-cot_all_new_think==False_nobs5-v0'}\n",
      "\n",
      "Модель успешно загружена\n",
      "Пример промпта\n",
      "<|im_start|>system\n",
      "\n",
      "You are a data science expert. Below, you are provided with a database schema and a natural language question. Your task is to understand the schema and generate a valid SQL query to answer the question.\n",
      "\n",
      "Database Engine: SQLite\n",
      "\n",
      "You will be given an additional analysis of other models, please take it into account, so the plan is\n",
      "1. Analyse given addition analysis from other models (find in which analysis the same and differ, how to use that to answer question)\n",
      "2. Combine best from previous part and think how to solve the problem (analyze tables, take care what columns avaliable in each table and so on, check the syntacsis)\n",
      "3. Create the answers. The answer should be only sql query.\n",
      "\n",
      "Carefully follow the instruction and add <|im_end|> and the end of the final answer<|im_end|>\n",
      "<|im_start|>user\n",
      "Here is addition analysis from other models which can be helpfull, please take this into account but be careful (choose the best from each analysis, combine them to make the most proper answer):\n",
      "\n",
      "model 0 analysis:\n",
      " Reasoning process:\n",
      "\n",
      "Okay, I need to find the highest eligible free rate for K-12 students in schools located in Alameda County. Let's start by understanding the tables and the data available.\n",
      "\n",
      "First, the question involves two main tables: frpm and schools. The frpm table has the `Free Meal Count (K-12)` and `Enrollment (K-12)` columns needed to calculate the eligible free rate. The schools table has the County information, specifically the `County` column. \n",
      "\n",
      "So, the first step is to join these two tables on the CDSCode, which is the common key. The frpm table's CDSCode is a foreign key referencing the schools table's CDSCode. That makes sense. \n",
      "\n",
      "Next, I need to filter the schools in Alameda County. The schools table has a `County` column, so I'll add a WHERE clause to check if County equals 'Alameda'. \n",
      "\n",
      "Once the data is filtered, I need to calculate the eligible free rate using the formula provided: `Free Meal Count (K-12) / Enrollment (K-12)`. However, I should be cautious about division by zero. But since the question is about schools with data, maybe there's a safety net, but the problem might not require handling that here. \n",
      "\n",
      "The goal is to find the highest rate, so I'll use the MAX function on the calculated rate. But to do that, I need to compute the rate for each school and then find the maximum value. \n",
      "\n",
      "Putting it all together, the SQL query should select the maximum of the calculated rate from the joined tables where the County is Alameda. \n",
      "\n",
      "Wait, but the formula is Free Meal Count divided by Enrollment. So in SQL, that would be `Free Meal Count (K-12) / Enrollment (K-12)`. \n",
      "\n",
      "So the query structure would be: \n",
      "\n",
      "SELECT MAX(`Free Meal Count (K-12)` / `Enrollment (K-12)`) AS highest_rate\n",
      "FROM frpm\n",
      "JOIN schools ON frpm.CDSCode = schools.CDSCode\n",
      "WHERE schools.County = 'Alameda';\n",
      "\n",
      "But I should check if there are any schools in Alameda County. Also, ensure that the columns are correctly quoted since some have spaces. \n",
      "\n",
      "I should make sure that the JOIN is correctly using the CDSCode from both tables. Also, the schools table's County column is the right one to filter. \n",
      "\n",
      "I think that's all. The final query should select the maximum value of the calculated rate from the relevant schools.\n",
      "\n",
      "Final answer based om reasoning for this model:\n",
      "\n",
      "\n",
      "```\n",
      "SELECT MAX(`Free Meal Count (K-12)` / `Enrollment (K-12)`) FROM frpm JOIN schools ON frpm.CDSCode = schools.CDSCode WHERE County = 'Alameda';\n",
      "```\n",
      "\n",
      "model 1 analysis:\n",
      " Reasoning process:\n",
      "\n",
      "Okay, let's tackle this question. The user wants the highest eligible free rate for K-12 students in Alameda County. First, I need to figure out which tables and columns are involved.\n",
      "\n",
      "The eligible free rate is calculated as Free Meal Count (K-12) divided by Enrollment (K-12). The frpm table has these columns. But I also need to filter schools in Alameda County. The schools table has a County column. So I need to join frpm with schools on CDSCode to get the county information.\n",
      "\n",
      "Wait, the frpm table has a foreign key to schools' CDSCode, so joining them on CDSCode makes sense. Then, I can filter where County = 'Alameda'. Once I have the eligible free rate for each school, I need to find the maximum value. \n",
      "\n",
      "So the steps are: join frpm and schools on CDSCode, filter for Alameda County, calculate the ratio, and then select the maximum. But I need to make sure that Enrollment (K-12) isn't zero to avoid division by zero. However, the question might assume that enrollment is non-zero. \n",
      "\n",
      "The SQL query would select the maximum of (Free Meal Count / Enrollment) from the joined tables where County is Alameda. I should use the correct column names with backticks. Also, since the user wants only the highest rate, using MAX() on the calculated value should work. \n",
      "\n",
      "Wait, but the question says \"highest eligible free rate\", which is the percentage. So the calculation is (Free Meal Count / Enrollment) * 100. But the columns in frpm are Free Meal Count (K-12) and Enrollment (K-12). So the query would be:\n",
      "\n",
      "SELECT MAX(`Free Meal Count (K-12)` / `Enrollment (K-12)`) AS MaxRate\n",
      "FROM frpm\n",
      "JOIN schools ON frpm.CDSCode = schools.CDSCode\n",
      "WHERE schools.County = 'Alameda';\n",
      "\n",
      "But I need to check if the County column in schools is case-sensitive. The question says Alameda County, so the value in County might be 'Alameda'. Also, ensuring that Enrollment isn't zero. However, the problem might not require handling that. \n",
      "\n",
      "So the final query should join the tables, filter by County, compute the ratio, and find the maximum. That's the plan.\n",
      "\n",
      "Final answer based om reasoning for this model:\n",
      "\n",
      "\n",
      "```\n",
      "SELECT MAX(`Free Meal Count (K-12)` / `Enrollment (K-12)`) FROM frpm JOIN schools ON frpm.CDSCode = schools.CDSCode WHERE schools.County = 'Alameda';\n",
      "```\n",
      "\n",
      "model 2 analysis:\n",
      " Reasoning process:\n",
      "\n",
      "Okay, I need to find the highest eligible free rate for K-12 students in schools located in Alameda County. Let's start by understanding the data structure and the tables involved.\n",
      "\n",
      "First, the question mentions \"eligible free rate for K-12,\" which is calculated as Free Meal Count (K-12) divided by Enrollment (K-12). The tables provided are frpm, satscores, and schools. The schools table has a County column, so I'll need to filter schools in Alameda County from there. \n",
      "\n",
      "The frpm table has the necessary columns for the free meal count and enrollment. However, I need to ensure that the schools in the frpm table are linked to the schools in the schools table. The frpm table has a CDSCode as the primary key, which is also a foreign key referencing the schools table's CDSCode. So, I can join these two tables on CDSCode.\n",
      "\n",
      "So the plan is: join frpm and schools on CDSCode where schools.County is 'Alameda'. Then compute the eligible free rate as (Free Meal Count (K-12) / Enrollment (K-12)) for each school. Finally, find the maximum value of this rate.\n",
      "\n",
      "Wait, but the question says \"highest eligible free rate,\" which is the maximum of the calculated rate. So I need to select the maximum value of (Free Meal Count / Enrollment) from the joined tables where County is Alameda.\n",
      "\n",
      "I need to make sure that the columns are correctly named. In the frpm table, the columns are `Free Meal Count (K-12)` and `Enrollment (K-12)`. The schools table's County column is named County. So the SQL query should join frpm and schools on CDSCode, filter where County = 'Alameda', and then calculate the rate. Then use MAX() to find the highest value.\n",
      "\n",
      "But wait, what if there are null values in Enrollment (K-12)? The question doesn't mention handling that, so I'll assume the data is clean. Also, division in SQL can be tricky. Since the columns are REAL, dividing them should work. So the query would be:\n",
      "\n",
      "SELECT MAX(`Free Meal Count (K-12)` / `Enrollment (K-12)`) AS MaxEligibleFreeRate\n",
      "FROM frpm\n",
      "JOIN schools ON frpm.CDSCode = schools.CDSCode\n",
      "WHERE schools.County = 'Alameda';\n",
      "\n",
      "But I need to check if the County column in schools is named correctly. Yes, the schools table has a County column. So this should work. That's the final query.\n",
      "\n",
      "Final answer based om reasoning for this model:\n",
      "\n",
      "\n",
      "```\n",
      "SELECT MAX(`Free Meal Count (K-12)` / `Enrollment (K-12)`) FROM frpm JOIN schools ON frpm.CDSCode = schools.CDSCode WHERE schools.County = 'Alameda';\n",
      "```\n",
      "\n",
      "model 3 analysis:\n",
      " Reasoning process:\n",
      "\n",
      "Okay, I need to find the highest eligible free rate for K-12 students in schools located in Alameda County. Let's break this down step by step.\n",
      "\n",
      "First, the question mentions \"eligible free rate for K-12,\" which the external knowledge defines as `Free Meal Count (K-12)` divided by `Enrollment (K-12)`. So I'll need to calculate this ratio for each school. But I need to make sure that division is handled correctly, maybe using real numbers to avoid integer division issues.\n",
      "\n",
      "Next, the schools are in Alameda County. The `frpm` table has a `County Name` column, so I should filter schools where `County Name` is 'Alameda'. However, I should check if the `frpm` table has the necessary data. The `frpm` table's columns include `County Name`, so that's where I'll get the county information.\n",
      "\n",
      "Wait, but the `schools` table also has a `County` column. Which one should I use? The question refers to \"Alameda County,\" and the `frpm` table's `County Name` might be the right column. But I should confirm. However, since the `frpm` table is linked via `CDSCode` to the `schools` table, maybe the `County Name` in `frpm` is the correct one. But perhaps the `schools` table's `County` column is more accurate. Hmm. But the user's external knowledge might assume using `frpm`'s `County Name`. Let me check the tables again.\n",
      "\n",
      "The `frpm` table has a `County Name` column, and the `schools` table has a `County` column. The question is about schools in Alameda County. The `frpm` table's `County Name` likely refers to the county where the school is located. But maybe I should cross-reference. However, the `frpm` table is linked to `schools` via `CDSCode`, so if I use `frpm`'s `County Name`, that's the right approach. But the user's question might have the `County` column in `schools` as the correct one. Wait, the question doesn't specify which table's county to use, but the external knowledge's formula uses columns from `frpm`. So perhaps the `County Name` in `frpm` is the correct one.\n",
      "\n",
      "So the plan is: join the `frpm` table with the `schools` table on `CDSCode`, filter where `County Name` is 'Alameda', calculate the eligible free rate as `Free Meal Count (K-12) / Enrollment (K-12)`, and then find the maximum value of that rate.\n",
      "\n",
      "Wait, but the `frpm` table might not have all the schools. The `schools` table has a `CDSCode` as primary key, and `frpm` has a foreign key to `schools`'s `CDSCode`. So `frpm` might have entries for schools that are in the `schools` table. But if I need to get the county information, I should use the `County Name` from `frpm` because it's directly related to the school's location. But maybe the `schools` table's `County` is more accurate. However, the user's external knowledge uses `frpm`'s columns, so I should use `frpm`'s `County Name`.\n",
      "\n",
      "So, the SQL query would select the `Free Meal Count (K-12)` and `Enrollment (K-12)` from `frpm` where `County Name` is 'Alameda', calculate the ratio, and find the maximum. But I need to ensure that `Enrollment (K-12)` is not zero to avoid division by zero. However, the question doesn't mention handling that, so maybe it's safe to proceed.\n",
      "\n",
      "So the steps are:\n",
      "\n",
      "1. Select from `frpm` where `County Name` = 'Alameda'.\n",
      "2. Calculate `Free Meal Count (K-12) / Enrollment (K-12)` as the eligible free rate.\n",
      "3. Find the maximum value of this rate.\n",
      "\n",
      "But I need to make sure that the columns are correctly referenced. The `frpm` table has `Free Meal Count (K-12)` and `Enrollment (K-12)` as columns. Also, the `County Name` is in `frpm`.\n",
      "\n",
      "So the SQL query would be:\n",
      "\n",
      "SELECT MAX(`Free Meal Count (K-12)` / `Enrollment (K-12)`) AS highest_eligible_free_rate\n",
      "FROM frpm\n",
      "WHERE `County Name` = 'Alameda';\n",
      "\n",
      "Wait, but what if there are schools with zero enrollment? The division would result in NULL or an error. However, the problem doesn't mention handling that, so perhaps it's acceptable. Also, the question might assume that the data is valid.\n",
      "\n",
      "But the user's question asks for the highest eligible free rate, so the query should return a single value. Using MAX on the calculated ratio would give the maximum.\n",
      "\n",
      "So the final SQL query should be as above.\n",
      "\n",
      "Final answer based om reasoning for this model:\n",
      "\n",
      "\n",
      "```\n",
      "-- Your SQL query\n",
      "SELECT MAX(`Free Meal Count (K-12)` / `Enrollment (K-12)`) FROM frpm WHERE `County Name` = 'Alameda';\n",
      "```\n",
      "\n",
      "model 4 analysis:\n",
      " Reasoning process:\n",
      "\n",
      "Okay, let's tackle this question. The user wants the highest eligible free rate for K-12 students in Alameda County. First, I need to figure out which tables and columns are relevant.\n",
      "\n",
      "The eligible free rate is calculated as Free Meal Count (K-12) divided by Enrollment (K-12). So I need to get those two values from the frpm table. But wait, the schools are in Alameda County, so I need to link the frpm table with the schools table to check the county.\n",
      "\n",
      "Looking at the tables, the frpm table has a County Name column, but the schools table has a County column. The frpm's CDSCode is a foreign key to schools' CDSCode. So I should join frpm with schools on CDSCode to get the county information.\n",
      "\n",
      "Wait, the question specifies Alameda County. So I need to filter where schools.County = 'Alameda'. But the frpm table has County Name, but maybe the schools table's County is more accurate. Let me check the tables again. The schools table has a County column, which is likely the correct one to use for filtering. So I should join frpm and schools on CDSCode, then filter where schools.County is 'Alameda'.\n",
      "\n",
      "Once I have the correct schools in Alameda County, I can calculate the eligible free rate as Free Meal Count divided by Enrollment. Then, I need to find the maximum value of that rate. So the SQL query should select the maximum of (Free Meal Count / Enrollment) from the joined tables where County is Alameda.\n",
      "\n",
      "Wait, but the columns in frpm are named with backticks because they have spaces. So in the query, I need to use `Free Meal Count (K-12)` and `Enrollment (K-12)`. Also, the schools table's County column is named County. So the join condition is frpm.CDSCode = schools.CDSCode.\n",
      "\n",
      "Putting it all together: join frpm and schools on CDSCode, filter where schools.County = 'Alameda', compute the ratio, and find the maximum. The final query would use MAX(`Free Meal Count (K-12)` / `Enrollment (K-12)`) as the select clause, joined with the schools table where County is Alameda. Make sure to handle possible nulls, but since the question is about schools in Alameda, maybe the data is present.\n",
      "\n",
      "Final answer based om reasoning for this model:\n",
      "\n",
      "\n",
      "```\n",
      "SELECT MAX(`Free Meal Count (K-12)` / `Enrollment (K-12)`) FROM frpm JOIN schools ON frpm.CDSCode = schools.CDSCode WHERE schools.County = 'Alameda';\n",
      "```\n",
      "\n",
      "\n",
      "here is avaliable tables below\n",
      "\n",
      "\n",
      "Table: frpm\n",
      "CREATE TABLE frpm\n",
      "(\n",
      "    CDSCode                                       TEXT not null\n",
      "        primary key,\n",
      "    `Academic Year`                               TEXT  null,\n",
      "    `County Code`                                 TEXT  null,\n",
      "    `District Code`                               INTEGER         null,\n",
      "    `School Code`                                 TEXT  null,\n",
      "    `County Name`                                 TEXT null,\n",
      "    `District Name`                               TEXT null,\n",
      "    `School Name`                                 TEXT null,\n",
      "    `District Type`                               TEXT null,\n",
      "    `School Type`                                 TEXT null,\n",
      "    `Educational Option Type`                     TEXT null,\n",
      "    `NSLP Provision Status`                       TEXT null,\n",
      "    `Charter School (Y/N)`                        INTEGER    null,\n",
      "    `Charter School Number`                       TEXT  null,\n",
      "    `Charter Funding Type`                        TEXT null,\n",
      "    IRC                                           INTEGER    null,\n",
      "    `Low Grade`                                   TEXT  null,\n",
      "    `High Grade`                                  TEXT null,\n",
      "    `Enrollment (K-12)`                           REAL      null,\n",
      "    `Free Meal Count (K-12)`                      REAL       null,\n",
      "    `Percent (%) Eligible Free (K-12)`            REAL       null,\n",
      "    `FRPM Count (K-12)`                           REAL       null,\n",
      "    `Percent (%) Eligible FRPM (K-12)`            REAL       null,\n",
      "    `Enrollment (Ages 5-17)`                      REAL       null,\n",
      "    `Free Meal Count (Ages 5-17)`                 REAL       null,\n",
      "    `Percent (%) Eligible Free (Ages 5-17)`       REAL       null,\n",
      "    `FRPM Count (Ages 5-17)`                      REAL       null,\n",
      "    `Percent (%) Eligible FRPM (Ages 5-17)`       REAL       null,\n",
      "    `2013-14 CALPADS Fall 1 Certification Status` INTEGER    null,\n",
      "    foreign key (CDSCode) references schools (CDSCode)\n",
      ")\n",
      "\n",
      "Table: satscores\n",
      "CREATE TABLE satscores\n",
      "(\n",
      "    cds         TEXT not null\n",
      "        primary key,\n",
      "    rtype       TEXT  not null,\n",
      "    sname       TEXT null,\n",
      "    dname       TEXT null,\n",
      "    cname       TEXT null,\n",
      "    enroll12    INTEGER         not null,\n",
      "    NumTstTakr  INTEGER          not null,\n",
      "    AvgScrRead  INTEGER          null,\n",
      "    AvgScrMath  INTEGER          null,\n",
      "    AvgScrWrite INTEGER          null,\n",
      "    NumGE1500   INTEGER          null,\n",
      "--     PctGE1500   double      null,\n",
      "        foreign key (cds) references schools (CDSCode)\n",
      ")\n",
      "\n",
      "Table: schools\n",
      "CREATE TABLE schools\n",
      "(\n",
      "    CDSCode     TEXT not null\n",
      "        primary key,\n",
      "    NCESDist    TEXT  null,\n",
      "    NCESSchool  TEXT  null,\n",
      "    StatusType  TEXT  not null,\n",
      "    County      TEXT not null,\n",
      "    District    TEXT not null,\n",
      "    School      TEXT null,\n",
      "    Street      TEXT null,\n",
      "    StreetAbr   TEXT null,\n",
      "    City        TEXT null,\n",
      "    Zip         TEXT null,\n",
      "    State       TEXT  null,\n",
      "    MailStreet  TEXT null,\n",
      "    MailStrAbr  TEXT null,\n",
      "    MailCity    TEXT null,\n",
      "    MailZip     TEXT null,\n",
      "    MailState   TEXT  null,\n",
      "    Phone       TEXT null,\n",
      "    Ext         TEXT  null,\n",
      "    Website     TEXT null,\n",
      "    OpenDate    DATE        null,\n",
      "    ClosedDate  DATE        null,\n",
      "    Charter     INTEGER    null,\n",
      "    CharterNum  TEXT  null,\n",
      "    FundingType TEXT null,\n",
      "    DOC         TEXT  not null,\n",
      "    DOCType     TEXT not null,\n",
      "    SOC         TEXT  null,\n",
      "    SOCType     TEXT null,\n",
      "    EdOpsCode   TEXT  null,\n",
      "    EdOpsName   TEXT null,\n",
      "    EILCode     TEXT  null,\n",
      "    EILName     TEXT null,\n",
      "    GSoffered   TEXT null,\n",
      "    GSserved    TEXT  null,\n",
      "    Virtual     TEXT  null,\n",
      "    Magnet      INTEGER   null,\n",
      "    Latitude    REAL      null,\n",
      "    Longitude   REAL      null,\n",
      "    AdmFName1   TEXT null,\n",
      "    AdmLName1   TEXT null,\n",
      "    AdmEmail1   TEXT null,\n",
      "    AdmFName2   TEXT null,\n",
      "    AdmLName2   TEXT null,\n",
      "    AdmEmail2   TEXT null,\n",
      "    AdmFName3   TEXT  null,\n",
      "    AdmLName3   TEXT null,\n",
      "    AdmEmail3   TEXT null,\n",
      "    LastUpdate  DATE        not null\n",
      ")\n",
      "\n",
      "-- Using valid SQLite and understanding External Knowledge, answer the following questions for the tables provided above.\n",
      "-- What is the highest eligible free rate for K-12 students in the schools in Alameda County?\n",
      "-- External Knowledge: Eligible free rate for K-12 = `Free Meal Count (K-12)` / `Enrollment (K-12)`\n",
      "\n",
      "\n",
      "Generate the SQLite for the above question after thinking step by step: \n",
      "\n",
      "\n",
      "Instructions:\n",
      "- Make sure you only output the information that is asked in the question. If the question asks for a specific column, make sure to only include that column in the SELECT clause, nothing more.\n",
      "- The generated query should return all of the information asked in the question without any missing or extra information.\n",
      "- Before generating the final SQL query, please think through the steps of how to write the query.\n",
      "- Do not misuse column names, keep them in quotes `\n",
      "- Carefully understand what colomns belond to what tables\n",
      "- Use only initial column names, change names prohibited\n",
      "        \n",
      "Output Format:\n",
      "In your answer, please enclose the generated SQL query in a code block:\n",
      "```\n",
      "-- Your SQL query\n",
      "```    \n",
      "and nothing else, no exaplains, no comments (asnwer should be less than 512 characters)\n",
      "\n",
      "Take a deep breath and think step by step to find the correct SQL query in SQLite format.\n",
      "\n",
      "Question repetition: What is the highest eligible free rate for K-12 students in the schools in Alameda County?\n",
      "\n",
      "Be care! Include only what i want it questiona and nothing else<|im_end|>\n",
      "<|im_start|>assistant\n",
      "<think>\n",
      "\n",
      "</think>\n",
      "\n",
      "\n",
      "\n",
      "\n",
      "Максимальное количество токенов в промптах: 24489\n",
      "\n",
      "начинаем скорринг\n",
      "Загружаем чаты с данными...\n",
      "Данные успешно загружены\n",
      "Начали генерацию SQL запросов\n"
     ]
    },
    {
     "name": "stderr",
     "output_type": "stream",
     "text": [
      "Processed prompts: 100%|██████████| 1534/1534 [04:00<00:00,  6.39it/s, est. speed input: 38746.95 toks/s, output: 305.64 toks/s]"
     ]
    },
    {
     "name": "stdout",
     "output_type": "stream",
     "text": [
      "extract_think количество ошибок:  0\n",
      "extract_sql количество ошибок:  0\n",
      "Закончили генерацию SQL запросов\n",
      "Начали скорр полученных SQL запросов\n"
     ]
    },
    {
     "name": "stderr",
     "output_type": "stream",
     "text": [
      "\n"
     ]
    },
    {
     "name": "stdout",
     "output_type": "stream",
     "text": [
      "Qwen3-8B DEV Финальный результат EX: 58.02\n",
      "Qwen3-8B процент запросов, которые успешно выполнились DEV: 95.83%\n",
      "====================================================================================================\n",
      "\n",
      "\n",
      "Загружаем чаты с данными...\n",
      "Данные успешно загружены\n",
      "Начали генерацию SQL запросов\n"
     ]
    },
    {
     "name": "stderr",
     "output_type": "stream",
     "text": [
      "Processed prompts: 100%|██████████| 1534/1534 [03:59<00:00,  6.41it/s, est. speed input: 38804.27 toks/s, output: 307.97 toks/s]"
     ]
    },
    {
     "name": "stdout",
     "output_type": "stream",
     "text": [
      "extract_think количество ошибок:  0\n",
      "extract_sql количество ошибок:  0\n",
      "Закончили генерацию SQL запросов\n",
      "Начали скорр полученных SQL запросов\n"
     ]
    },
    {
     "name": "stderr",
     "output_type": "stream",
     "text": [
      "\n"
     ]
    },
    {
     "name": "stdout",
     "output_type": "stream",
     "text": [
      "Qwen3-8B DEV Финальный результат EX: 58.02\n",
      "Qwen3-8B процент запросов, которые успешно выполнились DEV: 95.50%\n",
      "====================================================================================================\n",
      "\n",
      "\n",
      "Загружаем чаты с данными...\n",
      "Данные успешно загружены\n",
      "Начали генерацию SQL запросов\n"
     ]
    },
    {
     "name": "stderr",
     "output_type": "stream",
     "text": [
      "Processed prompts: 100%|██████████| 1534/1534 [03:56<00:00,  6.49it/s, est. speed input: 39337.97 toks/s, output: 310.03 toks/s]"
     ]
    },
    {
     "name": "stdout",
     "output_type": "stream",
     "text": [
      "extract_think количество ошибок:  0\n",
      "extract_sql количество ошибок:  0\n",
      "Закончили генерацию SQL запросов\n",
      "Начали скорр полученных SQL запросов\n"
     ]
    },
    {
     "name": "stderr",
     "output_type": "stream",
     "text": [
      "\n"
     ]
    },
    {
     "name": "stdout",
     "output_type": "stream",
     "text": [
      "Qwen3-8B DEV Финальный результат EX: 58.02\n",
      "Qwen3-8B процент запросов, которые успешно выполнились DEV: 95.89%\n",
      "====================================================================================================\n",
      "\n",
      "\n",
      "Загружаем чаты с данными...\n",
      "Данные успешно загружены\n",
      "Начали генерацию SQL запросов\n"
     ]
    },
    {
     "name": "stderr",
     "output_type": "stream",
     "text": [
      "Processed prompts: 100%|██████████| 1534/1534 [04:01<00:00,  6.35it/s, est. speed input: 38710.42 toks/s, output: 306.85 toks/s]"
     ]
    },
    {
     "name": "stdout",
     "output_type": "stream",
     "text": [
      "extract_think количество ошибок:  0\n",
      "extract_sql количество ошибок:  0\n",
      "Закончили генерацию SQL запросов\n",
      "Начали скорр полученных SQL запросов\n"
     ]
    },
    {
     "name": "stderr",
     "output_type": "stream",
     "text": [
      "\n"
     ]
    },
    {
     "name": "stdout",
     "output_type": "stream",
     "text": [
      "Qwen3-8B DEV Финальный результат EX: 57.82\n",
      "Qwen3-8B процент запросов, которые успешно выполнились DEV: 95.83%\n",
      "====================================================================================================\n",
      "\n",
      "\n",
      "Загружаем чаты с данными...\n",
      "Данные успешно загружены\n",
      "Начали генерацию SQL запросов\n"
     ]
    },
    {
     "name": "stderr",
     "output_type": "stream",
     "text": [
      "Processed prompts: 100%|██████████| 1534/1534 [04:01<00:00,  6.36it/s, est. speed input: 38847.34 toks/s, output: 305.63 toks/s]"
     ]
    },
    {
     "name": "stdout",
     "output_type": "stream",
     "text": [
      "extract_think количество ошибок:  0\n",
      "extract_sql количество ошибок:  0\n",
      "Закончили генерацию SQL запросов\n",
      "Начали скорр полученных SQL запросов\n"
     ]
    },
    {
     "name": "stderr",
     "output_type": "stream",
     "text": [
      "\n"
     ]
    },
    {
     "name": "stdout",
     "output_type": "stream",
     "text": [
      "Qwen3-8B DEV Финальный результат EX: 57.11\n",
      "Qwen3-8B процент запросов, которые успешно выполнились DEV: 95.83%\n",
      "====================================================================================================\n",
      "\n",
      "\n",
      "Загружаем чаты с данными...\n",
      "Данные успешно загружены\n",
      "Начали генерацию SQL запросов\n"
     ]
    },
    {
     "name": "stderr",
     "output_type": "stream",
     "text": [
      "Processed prompts: 100%|██████████| 1534/1534 [03:58<00:00,  6.43it/s, est. speed input: 38846.00 toks/s, output: 313.22 toks/s]"
     ]
    },
    {
     "name": "stdout",
     "output_type": "stream",
     "text": [
      "extract_think количество ошибок:  0\n",
      "extract_sql количество ошибок:  0\n",
      "Закончили генерацию SQL запросов\n",
      "Начали скорр полученных SQL запросов\n"
     ]
    },
    {
     "name": "stderr",
     "output_type": "stream",
     "text": [
      "\n"
     ]
    },
    {
     "name": "stdout",
     "output_type": "stream",
     "text": [
      "Qwen3-8B DEV Финальный результат EX: 58.08\n",
      "Qwen3-8B процент запросов, которые успешно выполнились DEV: 96.09%\n",
      "====================================================================================================\n",
      "\n",
      "\n",
      "Загружаем чаты с данными...\n",
      "Данные успешно загружены\n",
      "Начали генерацию SQL запросов\n"
     ]
    },
    {
     "name": "stderr",
     "output_type": "stream",
     "text": [
      "Processed prompts: 100%|██████████| 1534/1534 [03:55<00:00,  6.50it/s, est. speed input: 39615.89 toks/s, output: 307.07 toks/s]"
     ]
    },
    {
     "name": "stdout",
     "output_type": "stream",
     "text": [
      "extract_think количество ошибок:  0\n",
      "extract_sql количество ошибок:  0\n",
      "Закончили генерацию SQL запросов\n",
      "Начали скорр полученных SQL запросов\n"
     ]
    },
    {
     "name": "stderr",
     "output_type": "stream",
     "text": [
      "\n"
     ]
    },
    {
     "name": "stdout",
     "output_type": "stream",
     "text": [
      "Qwen3-8B DEV Финальный результат EX: 57.04\n",
      "Qwen3-8B процент запросов, которые успешно выполнились DEV: 96.48%\n",
      "====================================================================================================\n",
      "\n",
      "\n",
      "Загружаем чаты с данными...\n",
      "Данные успешно загружены\n",
      "Начали генерацию SQL запросов\n"
     ]
    },
    {
     "name": "stderr",
     "output_type": "stream",
     "text": [
      "Processed prompts: 100%|██████████| 1534/1534 [04:02<00:00,  6.33it/s, est. speed input: 38774.81 toks/s, output: 301.53 toks/s]"
     ]
    },
    {
     "name": "stdout",
     "output_type": "stream",
     "text": [
      "extract_think количество ошибок:  0\n",
      "extract_sql количество ошибок:  0\n",
      "Закончили генерацию SQL запросов\n",
      "Начали скорр полученных SQL запросов\n"
     ]
    },
    {
     "name": "stderr",
     "output_type": "stream",
     "text": [
      "\n"
     ]
    },
    {
     "name": "stdout",
     "output_type": "stream",
     "text": [
      "Qwen3-8B DEV Финальный результат EX: 57.43\n",
      "Qwen3-8B процент запросов, которые успешно выполнились DEV: 95.83%\n",
      "====================================================================================================\n",
      "\n",
      "\n",
      "Загружаем чаты с данными...\n",
      "Данные успешно загружены\n",
      "Начали генерацию SQL запросов\n"
     ]
    },
    {
     "name": "stderr",
     "output_type": "stream",
     "text": [
      "Processed prompts: 100%|██████████| 1534/1534 [04:00<00:00,  6.37it/s, est. speed input: 38848.00 toks/s, output: 304.88 toks/s]"
     ]
    },
    {
     "name": "stdout",
     "output_type": "stream",
     "text": [
      "extract_think количество ошибок:  0\n",
      "extract_sql количество ошибок:  0\n",
      "Закончили генерацию SQL запросов\n",
      "Начали скорр полученных SQL запросов\n"
     ]
    },
    {
     "name": "stderr",
     "output_type": "stream",
     "text": [
      "\n"
     ]
    },
    {
     "name": "stdout",
     "output_type": "stream",
     "text": [
      "Qwen3-8B DEV Финальный результат EX: 57.24\n",
      "Qwen3-8B процент запросов, которые успешно выполнились DEV: 96.02%\n",
      "====================================================================================================\n",
      "\n",
      "\n",
      "Загружаем чаты с данными...\n",
      "Данные успешно загружены\n",
      "Начали генерацию SQL запросов\n"
     ]
    },
    {
     "name": "stderr",
     "output_type": "stream",
     "text": [
      "Processed prompts: 100%|██████████| 1534/1534 [04:00<00:00,  6.37it/s, est. speed input: 38661.21 toks/s, output: 305.91 toks/s]"
     ]
    },
    {
     "name": "stdout",
     "output_type": "stream",
     "text": [
      "extract_think количество ошибок:  0\n",
      "extract_sql количество ошибок:  0\n",
      "Закончили генерацию SQL запросов\n",
      "Начали скорр полученных SQL запросов\n"
     ]
    },
    {
     "name": "stderr",
     "output_type": "stream",
     "text": [
      "\n"
     ]
    },
    {
     "name": "stdout",
     "output_type": "stream",
     "text": [
      "Qwen3-8B DEV Финальный результат EX: 56.98\n",
      "Qwen3-8B процент запросов, которые успешно выполнились DEV: 96.22%\n",
      "====================================================================================================\n",
      "\n",
      "\n",
      "Загружаем чаты с данными...\n",
      "Данные успешно загружены\n",
      "Начали генерацию SQL запросов\n"
     ]
    },
    {
     "name": "stderr",
     "output_type": "stream",
     "text": [
      "Processed prompts: 100%|██████████| 1534/1534 [03:55<00:00,  6.52it/s, est. speed input: 39689.33 toks/s, output: 304.34 toks/s]"
     ]
    },
    {
     "name": "stdout",
     "output_type": "stream",
     "text": [
      "extract_think количество ошибок:  0\n",
      "extract_sql количество ошибок:  0\n",
      "Закончили генерацию SQL запросов\n",
      "Начали скорр полученных SQL запросов\n"
     ]
    },
    {
     "name": "stderr",
     "output_type": "stream",
     "text": [
      "\n"
     ]
    },
    {
     "name": "stdout",
     "output_type": "stream",
     "text": [
      "Qwen3-8B DEV Финальный результат EX: 58.15\n",
      "Qwen3-8B процент запросов, которые успешно выполнились DEV: 95.76%\n",
      "====================================================================================================\n",
      "\n",
      "\n",
      "Загружаем чаты с данными...\n",
      "Данные успешно загружены\n",
      "Начали генерацию SQL запросов\n"
     ]
    },
    {
     "name": "stderr",
     "output_type": "stream",
     "text": [
      "Processed prompts: 100%|██████████| 1534/1534 [03:59<00:00,  6.41it/s, est. speed input: 38823.28 toks/s, output: 305.69 toks/s]"
     ]
    },
    {
     "name": "stdout",
     "output_type": "stream",
     "text": [
      "extract_think количество ошибок:  0\n",
      "extract_sql количество ошибок:  0\n",
      "Закончили генерацию SQL запросов\n",
      "Начали скорр полученных SQL запросов\n"
     ]
    },
    {
     "name": "stderr",
     "output_type": "stream",
     "text": [
      "\n"
     ]
    },
    {
     "name": "stdout",
     "output_type": "stream",
     "text": [
      "Qwen3-8B DEV Финальный результат EX: 57.56\n",
      "Qwen3-8B процент запросов, которые успешно выполнились DEV: 96.28%\n",
      "====================================================================================================\n",
      "\n",
      "\n",
      "Загружаем чаты с данными...\n",
      "Данные успешно загружены\n",
      "Начали генерацию SQL запросов\n"
     ]
    },
    {
     "name": "stderr",
     "output_type": "stream",
     "text": [
      "Processed prompts: 100%|██████████| 1534/1534 [03:56<00:00,  6.49it/s, est. speed input: 38874.64 toks/s, output: 314.68 toks/s]"
     ]
    },
    {
     "name": "stdout",
     "output_type": "stream",
     "text": [
      "extract_think количество ошибок:  0\n",
      "extract_sql количество ошибок:  0\n",
      "Закончили генерацию SQL запросов\n",
      "Начали скорр полученных SQL запросов\n"
     ]
    },
    {
     "name": "stderr",
     "output_type": "stream",
     "text": [
      "\n"
     ]
    },
    {
     "name": "stdout",
     "output_type": "stream",
     "text": [
      "Qwen3-8B DEV Финальный результат EX: 57.76\n",
      "Qwen3-8B процент запросов, которые успешно выполнились DEV: 95.76%\n",
      "====================================================================================================\n",
      "\n",
      "\n",
      "Загружаем чаты с данными...\n",
      "Данные успешно загружены\n",
      "Начали генерацию SQL запросов\n"
     ]
    },
    {
     "name": "stderr",
     "output_type": "stream",
     "text": [
      "Processed prompts: 100%|██████████| 1534/1534 [03:56<00:00,  6.49it/s, est. speed input: 38978.08 toks/s, output: 312.34 toks/s]"
     ]
    },
    {
     "name": "stdout",
     "output_type": "stream",
     "text": [
      "extract_think количество ошибок:  0\n",
      "extract_sql количество ошибок:  0\n",
      "Закончили генерацию SQL запросов\n",
      "Начали скорр полученных SQL запросов\n"
     ]
    },
    {
     "name": "stderr",
     "output_type": "stream",
     "text": [
      "\n"
     ]
    },
    {
     "name": "stdout",
     "output_type": "stream",
     "text": [
      "Qwen3-8B DEV Финальный результат EX: 57.43\n",
      "Qwen3-8B процент запросов, которые успешно выполнились DEV: 95.70%\n",
      "====================================================================================================\n",
      "\n",
      "\n",
      "Загружаем чаты с данными...\n",
      "Данные успешно загружены\n",
      "Начали генерацию SQL запросов\n"
     ]
    },
    {
     "name": "stderr",
     "output_type": "stream",
     "text": [
      "Processed prompts: 100%|██████████| 1534/1534 [04:00<00:00,  6.39it/s, est. speed input: 38432.18 toks/s, output: 312.70 toks/s]"
     ]
    },
    {
     "name": "stdout",
     "output_type": "stream",
     "text": [
      "extract_think количество ошибок:  0\n",
      "extract_sql количество ошибок:  0\n",
      "Закончили генерацию SQL запросов\n",
      "Начали скорр полученных SQL запросов\n"
     ]
    },
    {
     "name": "stderr",
     "output_type": "stream",
     "text": [
      "\n"
     ]
    },
    {
     "name": "stdout",
     "output_type": "stream",
     "text": [
      "Qwen3-8B DEV Финальный результат EX: 58.21\n",
      "Qwen3-8B процент запросов, которые успешно выполнились DEV: 95.83%\n",
      "====================================================================================================\n",
      "\n",
      "\n",
      "Загружаем чаты с данными...\n",
      "Данные успешно загружены\n",
      "Начали генерацию SQL запросов\n"
     ]
    },
    {
     "name": "stderr",
     "output_type": "stream",
     "text": [
      "Processed prompts: 100%|██████████| 1534/1534 [03:57<00:00,  6.47it/s, est. speed input: 39001.55 toks/s, output: 312.62 toks/s]"
     ]
    },
    {
     "name": "stdout",
     "output_type": "stream",
     "text": [
      "extract_think количество ошибок:  0\n",
      "extract_sql количество ошибок:  0\n",
      "Закончили генерацию SQL запросов\n",
      "Начали скорр полученных SQL запросов\n"
     ]
    },
    {
     "name": "stderr",
     "output_type": "stream",
     "text": [
      "\n"
     ]
    },
    {
     "name": "stdout",
     "output_type": "stream",
     "text": [
      "Qwen3-8B DEV Финальный результат EX: 58.34\n",
      "Qwen3-8B процент запросов, которые успешно выполнились DEV: 96.22%\n",
      "====================================================================================================\n",
      "\n",
      "\n",
      "Загружаем чаты с данными...\n",
      "Данные успешно загружены\n",
      "Начали генерацию SQL запросов\n"
     ]
    },
    {
     "name": "stderr",
     "output_type": "stream",
     "text": [
      "Processed prompts: 100%|██████████| 1534/1534 [03:58<00:00,  6.44it/s, est. speed input: 38735.95 toks/s, output: 311.73 toks/s]"
     ]
    },
    {
     "name": "stdout",
     "output_type": "stream",
     "text": [
      "extract_think количество ошибок:  0\n",
      "extract_sql количество ошибок:  0\n",
      "Закончили генерацию SQL запросов\n",
      "Начали скорр полученных SQL запросов\n"
     ]
    },
    {
     "name": "stderr",
     "output_type": "stream",
     "text": [
      "\n"
     ]
    },
    {
     "name": "stdout",
     "output_type": "stream",
     "text": [
      "Qwen3-8B DEV Финальный результат EX: 58.34\n",
      "Qwen3-8B процент запросов, которые успешно выполнились DEV: 95.89%\n",
      "====================================================================================================\n",
      "\n",
      "\n",
      "Загружаем чаты с данными...\n",
      "Данные успешно загружены\n",
      "Начали генерацию SQL запросов\n"
     ]
    },
    {
     "name": "stderr",
     "output_type": "stream",
     "text": [
      "Processed prompts: 100%|██████████| 1534/1534 [03:56<00:00,  6.49it/s, est. speed input: 39282.39 toks/s, output: 308.70 toks/s]"
     ]
    },
    {
     "name": "stdout",
     "output_type": "stream",
     "text": [
      "extract_think количество ошибок:  0\n",
      "extract_sql количество ошибок:  0\n",
      "Закончили генерацию SQL запросов\n",
      "Начали скорр полученных SQL запросов\n"
     ]
    },
    {
     "name": "stderr",
     "output_type": "stream",
     "text": [
      "\n"
     ]
    },
    {
     "name": "stdout",
     "output_type": "stream",
     "text": [
      "Qwen3-8B DEV Финальный результат EX: 57.69\n",
      "Qwen3-8B процент запросов, которые успешно выполнились DEV: 95.70%\n",
      "====================================================================================================\n",
      "\n",
      "\n",
      "Загружаем чаты с данными...\n",
      "Данные успешно загружены\n",
      "Начали генерацию SQL запросов\n"
     ]
    },
    {
     "name": "stderr",
     "output_type": "stream",
     "text": [
      "Processed prompts: 100%|██████████| 1534/1534 [03:57<00:00,  6.46it/s, est. speed input: 38969.07 toks/s, output: 311.86 toks/s]"
     ]
    },
    {
     "name": "stdout",
     "output_type": "stream",
     "text": [
      "extract_think количество ошибок:  0\n",
      "extract_sql количество ошибок:  0\n",
      "Закончили генерацию SQL запросов\n",
      "Начали скорр полученных SQL запросов\n"
     ]
    },
    {
     "name": "stderr",
     "output_type": "stream",
     "text": [
      "\n"
     ]
    },
    {
     "name": "stdout",
     "output_type": "stream",
     "text": [
      "Qwen3-8B DEV Финальный результат EX: 57.69\n",
      "Qwen3-8B процент запросов, которые успешно выполнились DEV: 95.50%\n",
      "====================================================================================================\n",
      "\n",
      "\n",
      "Загружаем чаты с данными...\n",
      "Данные успешно загружены\n",
      "Начали генерацию SQL запросов\n"
     ]
    },
    {
     "name": "stderr",
     "output_type": "stream",
     "text": [
      "Processed prompts: 100%|██████████| 1534/1534 [03:56<00:00,  6.48it/s, est. speed input: 39092.52 toks/s, output: 309.92 toks/s]"
     ]
    },
    {
     "name": "stdout",
     "output_type": "stream",
     "text": [
      "extract_think количество ошибок:  0\n",
      "extract_sql количество ошибок:  0\n",
      "Закончили генерацию SQL запросов\n",
      "Начали скорр полученных SQL запросов\n"
     ]
    },
    {
     "name": "stderr",
     "output_type": "stream",
     "text": [
      "\n"
     ]
    },
    {
     "name": "stdout",
     "output_type": "stream",
     "text": [
      "Qwen3-8B DEV Финальный результат EX: 57.37\n",
      "Qwen3-8B процент запросов, которые успешно выполнились DEV: 95.57%\n",
      "====================================================================================================\n",
      "\n",
      "\n"
     ]
    }
   ],
   "source": [
    "run_cot_experiment(model,arr_seeds,arr_versions, type_cot,num_observations=num_observations)"
   ]
  },
  {
   "cell_type": "markdown",
   "id": "8ecdae85-ab3f-4123-8cb2-d235fe12a9b6",
   "metadata": {},
   "source": [
    "## 6 наблюдений"
   ]
  },
  {
   "cell_type": "code",
   "execution_count": 11,
   "id": "4cf5d319-24ae-42c5-a259-219dab753f06",
   "metadata": {},
   "outputs": [
    {
     "name": "stdout",
     "output_type": "stream",
     "text": [
      "[903, 418, 80, 318, 137, 182, 778, 567, 321, 623, 645, 530, 747, 653, 503, 721, 981, 706, 702, 660]\n",
      "model: Qwen3-8B\n"
     ]
    }
   ],
   "source": [
    "n= 20\n",
    "arr_seeds = [random.randint(0,1000) for _ in range(n)]\n",
    "arr_versions = [x for x in range(n)]\n",
    "model = \"Qwen3-8B\"\n",
    "num_observations = 6\n",
    "type_cot = 'all_new'\n",
    "print(arr_seeds)\n",
    "print(f\"model: {model}\")"
   ]
  },
  {
   "cell_type": "code",
   "execution_count": 12,
   "id": "658afdd2-e3e5-4436-989d-2a8c484bbd3f",
   "metadata": {
    "scrolled": true
   },
   "outputs": [
    {
     "name": "stdout",
     "output_type": "stream",
     "text": [
      "Загружаем модель...\n"
     ]
    },
    {
     "name": "stderr",
     "output_type": "stream",
     "text": [
      "Loading safetensors checkpoint shards:   0% Completed | 0/4 [00:00<?, ?it/s]\n",
      "Loading safetensors checkpoint shards:  25% Completed | 1/4 [00:00<00:00,  7.79it/s]\n",
      "Loading safetensors checkpoint shards:  50% Completed | 2/4 [00:00<00:00,  2.71it/s]\n",
      "Loading safetensors checkpoint shards:  75% Completed | 3/4 [00:01<00:00,  2.01it/s]\n",
      "Loading safetensors checkpoint shards: 100% Completed | 4/4 [00:01<00:00,  1.79it/s]\n",
      "Loading safetensors checkpoint shards: 100% Completed | 4/4 [00:01<00:00,  2.03it/s]\n",
      "\u001b[1;36m(VllmWorker rank=0 pid=3984380)\u001b[0;0m \n"
     ]
    },
    {
     "name": "stdout",
     "output_type": "stream",
     "text": [
      "Модель успешно загружена\n",
      "model_config {'model': '/data/home/vkropoti/models/Qwen3-8B', 'tensor_parallel_size': 2, 'max_model_len': 40000, 'max_new_tokens': 1500, 'temperature': 0, 'top_k': 1, 'top_p': 0.8, 'gpu_memory_utilization': 0.9, 'trust_remote_code': False, 'seed': 903}\n",
      "\n",
      "prompts_config {'path_dev_json': '/home/vkropoti/vllm/dev.json', 'path_sql_dbs': '/data/home/vkropoti/sql_data/dev_databases/', 'use_reasoning': False, 'paths_to_cot': ['/data/home/vkropoti/sql_llm_answers/bird_dev/sql_all_new_Qwen3-8B-reasoning-v0', '/data/home/vkropoti/sql_llm_answers/bird_dev/sql_all_new_Qwen3-8B-reasoning-v1', '/data/home/vkropoti/sql_llm_answers/bird_dev/sql_all_new_Qwen3-8B-reasoning-v2', '/data/home/vkropoti/sql_llm_answers/bird_dev/sql_all_new_Qwen3-8B-reasoning-v3', '/data/home/vkropoti/sql_llm_answers/bird_dev/sql_all_new_Qwen3-8B-reasoning-v4', '/data/home/vkropoti/sql_llm_answers/bird_dev/sql_all_new_Qwen3-8B-reasoning-v5']}\n",
      "\n",
      "save_config {'path_sql_save': '/data/home/vkropoti/sql_llm_answers/bird_dev/sql_all_Qwen3-8B-cot_all_new_think==False_nobs6-v0', 'path_think_save': None, 'path_sql_answers_save': '/data/home/vkropoti/sql_llm_answers/bird_dev/sql_predict_Qwen3-8B-cot_all_new_think==False_nobs6-v0', 'path_to_save_scores': '/data/home/vkropoti/sql_llm_answers/bird_dev/sql_results_Qwen3-8B-cot_all_new_think==False_nobs6-v0', 'path_to_save_executed': '/data/home/vkropoti/sql_llm_answers/bird_dev/sql_executed_Qwen3-8B-cot_all_new_think==False_nobs6-v0'}\n",
      "\n",
      "Модель успешно загружена\n",
      "Пример промпта\n",
      "<|im_start|>system\n",
      "\n",
      "You are a data science expert. Below, you are provided with a database schema and a natural language question. Your task is to understand the schema and generate a valid SQL query to answer the question.\n",
      "\n",
      "Database Engine: SQLite\n",
      "\n",
      "You will be given an additional analysis of other models, please take it into account, so the plan is\n",
      "1. Analyse given addition analysis from other models (find in which analysis the same and differ, how to use that to answer question)\n",
      "2. Combine best from previous part and think how to solve the problem (analyze tables, take care what columns avaliable in each table and so on, check the syntacsis)\n",
      "3. Create the answers. The answer should be only sql query.\n",
      "\n",
      "Carefully follow the instruction and add <|im_end|> and the end of the final answer<|im_end|>\n",
      "<|im_start|>user\n",
      "Here is addition analysis from other models which can be helpfull, please take this into account but be careful (choose the best from each analysis, combine them to make the most proper answer):\n",
      "\n",
      "model 0 analysis:\n",
      " Reasoning process:\n",
      "\n",
      "Okay, I need to find the highest eligible free rate for K-12 students in schools located in Alameda County. Let's start by understanding the tables and the data available.\n",
      "\n",
      "First, the question involves two main tables: frpm and schools. The frpm table has the `Free Meal Count (K-12)` and `Enrollment (K-12)` columns needed to calculate the eligible free rate. The schools table has the County information, specifically the `County` column. \n",
      "\n",
      "So, the first step is to join these two tables on the CDSCode, which is the common key. The frpm table's CDSCode is a foreign key referencing the schools table's CDSCode. That makes sense. \n",
      "\n",
      "Next, I need to filter the schools in Alameda County. The schools table has a `County` column, so I'll add a WHERE clause to check if County equals 'Alameda'. \n",
      "\n",
      "Once the data is filtered, I need to calculate the eligible free rate using the formula provided: `Free Meal Count (K-12) / Enrollment (K-12)`. However, I should be cautious about division by zero. But since the question is about schools with data, maybe there's a safety net, but the problem might not require handling that here. \n",
      "\n",
      "The goal is to find the highest rate, so I'll use the MAX function on the calculated rate. But to do that, I need to compute the rate for each school and then find the maximum value. \n",
      "\n",
      "Putting it all together, the SQL query should select the maximum of the calculated rate from the joined tables where the County is Alameda. \n",
      "\n",
      "Wait, but the formula is Free Meal Count divided by Enrollment. So in SQL, that would be `Free Meal Count (K-12) / Enrollment (K-12)`. \n",
      "\n",
      "So the query structure would be: \n",
      "\n",
      "SELECT MAX(`Free Meal Count (K-12)` / `Enrollment (K-12)`) AS highest_rate\n",
      "FROM frpm\n",
      "JOIN schools ON frpm.CDSCode = schools.CDSCode\n",
      "WHERE schools.County = 'Alameda';\n",
      "\n",
      "But I should check if there are any schools in Alameda County. Also, ensure that the columns are correctly quoted since some have spaces. \n",
      "\n",
      "I should make sure that the JOIN is correctly using the CDSCode from both tables. Also, the schools table's County column is the right one to filter. \n",
      "\n",
      "I think that's all. The final query should select the maximum value of the calculated rate from the relevant schools.\n",
      "\n",
      "Final answer based om reasoning for this model:\n",
      "\n",
      "\n",
      "```\n",
      "SELECT MAX(`Free Meal Count (K-12)` / `Enrollment (K-12)`) FROM frpm JOIN schools ON frpm.CDSCode = schools.CDSCode WHERE County = 'Alameda';\n",
      "```\n",
      "\n",
      "model 1 analysis:\n",
      " Reasoning process:\n",
      "\n",
      "Okay, let's tackle this question. The user wants the highest eligible free rate for K-12 students in Alameda County. First, I need to figure out which tables and columns are involved.\n",
      "\n",
      "The eligible free rate is calculated as Free Meal Count (K-12) divided by Enrollment (K-12). The frpm table has these columns. But I also need to filter schools in Alameda County. The schools table has a County column. So I need to join frpm with schools on CDSCode to get the county information.\n",
      "\n",
      "Wait, the frpm table has a foreign key to schools' CDSCode, so joining them on CDSCode makes sense. Then, I can filter where County = 'Alameda'. Once I have the eligible free rate for each school, I need to find the maximum value. \n",
      "\n",
      "So the steps are: join frpm and schools on CDSCode, filter for Alameda County, calculate the ratio, and then select the maximum. But I need to make sure that Enrollment (K-12) isn't zero to avoid division by zero. However, the question might assume that enrollment is non-zero. \n",
      "\n",
      "The SQL query would select the maximum of (Free Meal Count / Enrollment) from the joined tables where County is Alameda. I should use the correct column names with backticks. Also, since the user wants only the highest rate, using MAX() on the calculated value should work. \n",
      "\n",
      "Wait, but the question says \"highest eligible free rate\", which is the percentage. So the calculation is (Free Meal Count / Enrollment) * 100. But the columns in frpm are Free Meal Count (K-12) and Enrollment (K-12). So the query would be:\n",
      "\n",
      "SELECT MAX(`Free Meal Count (K-12)` / `Enrollment (K-12)`) AS MaxRate\n",
      "FROM frpm\n",
      "JOIN schools ON frpm.CDSCode = schools.CDSCode\n",
      "WHERE schools.County = 'Alameda';\n",
      "\n",
      "But I need to check if the County column in schools is case-sensitive. The question says Alameda County, so the value in County might be 'Alameda'. Also, ensuring that Enrollment isn't zero. However, the problem might not require handling that. \n",
      "\n",
      "So the final query should join the tables, filter by County, compute the ratio, and find the maximum. That's the plan.\n",
      "\n",
      "Final answer based om reasoning for this model:\n",
      "\n",
      "\n",
      "```\n",
      "SELECT MAX(`Free Meal Count (K-12)` / `Enrollment (K-12)`) FROM frpm JOIN schools ON frpm.CDSCode = schools.CDSCode WHERE schools.County = 'Alameda';\n",
      "```\n",
      "\n",
      "model 2 analysis:\n",
      " Reasoning process:\n",
      "\n",
      "Okay, I need to find the highest eligible free rate for K-12 students in schools located in Alameda County. Let's start by understanding the data structure and the tables involved.\n",
      "\n",
      "First, the question mentions \"eligible free rate for K-12,\" which is calculated as Free Meal Count (K-12) divided by Enrollment (K-12). The tables provided are frpm, satscores, and schools. The schools table has a County column, so I'll need to filter schools in Alameda County from there. \n",
      "\n",
      "The frpm table has the necessary columns for the free meal count and enrollment. However, I need to ensure that the schools in the frpm table are linked to the schools in the schools table. The frpm table has a CDSCode as the primary key, which is also a foreign key referencing the schools table's CDSCode. So, I can join these two tables on CDSCode.\n",
      "\n",
      "So the plan is: join frpm and schools on CDSCode where schools.County is 'Alameda'. Then compute the eligible free rate as (Free Meal Count (K-12) / Enrollment (K-12)) for each school. Finally, find the maximum value of this rate.\n",
      "\n",
      "Wait, but the question says \"highest eligible free rate,\" which is the maximum of the calculated rate. So I need to select the maximum value of (Free Meal Count / Enrollment) from the joined tables where County is Alameda.\n",
      "\n",
      "I need to make sure that the columns are correctly named. In the frpm table, the columns are `Free Meal Count (K-12)` and `Enrollment (K-12)`. The schools table's County column is named County. So the SQL query should join frpm and schools on CDSCode, filter where County = 'Alameda', and then calculate the rate. Then use MAX() to find the highest value.\n",
      "\n",
      "But wait, what if there are null values in Enrollment (K-12)? The question doesn't mention handling that, so I'll assume the data is clean. Also, division in SQL can be tricky. Since the columns are REAL, dividing them should work. So the query would be:\n",
      "\n",
      "SELECT MAX(`Free Meal Count (K-12)` / `Enrollment (K-12)`) AS MaxEligibleFreeRate\n",
      "FROM frpm\n",
      "JOIN schools ON frpm.CDSCode = schools.CDSCode\n",
      "WHERE schools.County = 'Alameda';\n",
      "\n",
      "But I need to check if the County column in schools is named correctly. Yes, the schools table has a County column. So this should work. That's the final query.\n",
      "\n",
      "Final answer based om reasoning for this model:\n",
      "\n",
      "\n",
      "```\n",
      "SELECT MAX(`Free Meal Count (K-12)` / `Enrollment (K-12)`) FROM frpm JOIN schools ON frpm.CDSCode = schools.CDSCode WHERE schools.County = 'Alameda';\n",
      "```\n",
      "\n",
      "model 3 analysis:\n",
      " Reasoning process:\n",
      "\n",
      "Okay, I need to find the highest eligible free rate for K-12 students in schools located in Alameda County. Let's break this down step by step.\n",
      "\n",
      "First, the question mentions \"eligible free rate for K-12,\" which the external knowledge defines as `Free Meal Count (K-12)` divided by `Enrollment (K-12)`. So I'll need to calculate this ratio for each school. But I need to make sure that division is handled correctly, maybe using real numbers to avoid integer division issues.\n",
      "\n",
      "Next, the schools are in Alameda County. The `frpm` table has a `County Name` column, so I should filter schools where `County Name` is 'Alameda'. However, I should check if the `frpm` table has the necessary data. The `frpm` table's columns include `County Name`, so that's where I'll get the county information.\n",
      "\n",
      "Wait, but the `schools` table also has a `County` column. Which one should I use? The question refers to \"Alameda County,\" and the `frpm` table's `County Name` might be the right column. But I should confirm. However, since the `frpm` table is linked via `CDSCode` to the `schools` table, maybe the `County Name` in `frpm` is the correct one. But perhaps the `schools` table's `County` column is more accurate. Hmm. But the user's external knowledge might assume using `frpm`'s `County Name`. Let me check the tables again.\n",
      "\n",
      "The `frpm` table has a `County Name` column, and the `schools` table has a `County` column. The question is about schools in Alameda County. The `frpm` table's `County Name` likely refers to the county where the school is located. But maybe I should cross-reference. However, the `frpm` table is linked to `schools` via `CDSCode`, so if I use `frpm`'s `County Name`, that's the right approach. But the user's question might have the `County` column in `schools` as the correct one. Wait, the question doesn't specify which table's county to use, but the external knowledge's formula uses columns from `frpm`. So perhaps the `County Name` in `frpm` is the correct one.\n",
      "\n",
      "So the plan is: join the `frpm` table with the `schools` table on `CDSCode`, filter where `County Name` is 'Alameda', calculate the eligible free rate as `Free Meal Count (K-12) / Enrollment (K-12)`, and then find the maximum value of that rate.\n",
      "\n",
      "Wait, but the `frpm` table might not have all the schools. The `schools` table has a `CDSCode` as primary key, and `frpm` has a foreign key to `schools`'s `CDSCode`. So `frpm` might have entries for schools that are in the `schools` table. But if I need to get the county information, I should use the `County Name` from `frpm` because it's directly related to the school's location. But maybe the `schools` table's `County` is more accurate. However, the user's external knowledge uses `frpm`'s columns, so I should use `frpm`'s `County Name`.\n",
      "\n",
      "So, the SQL query would select the `Free Meal Count (K-12)` and `Enrollment (K-12)` from `frpm` where `County Name` is 'Alameda', calculate the ratio, and find the maximum. But I need to ensure that `Enrollment (K-12)` is not zero to avoid division by zero. However, the question doesn't mention handling that, so maybe it's safe to proceed.\n",
      "\n",
      "So the steps are:\n",
      "\n",
      "1. Select from `frpm` where `County Name` = 'Alameda'.\n",
      "2. Calculate `Free Meal Count (K-12) / Enrollment (K-12)` as the eligible free rate.\n",
      "3. Find the maximum value of this rate.\n",
      "\n",
      "But I need to make sure that the columns are correctly referenced. The `frpm` table has `Free Meal Count (K-12)` and `Enrollment (K-12)` as columns. Also, the `County Name` is in `frpm`.\n",
      "\n",
      "So the SQL query would be:\n",
      "\n",
      "SELECT MAX(`Free Meal Count (K-12)` / `Enrollment (K-12)`) AS highest_eligible_free_rate\n",
      "FROM frpm\n",
      "WHERE `County Name` = 'Alameda';\n",
      "\n",
      "Wait, but what if there are schools with zero enrollment? The division would result in NULL or an error. However, the problem doesn't mention handling that, so perhaps it's acceptable. Also, the question might assume that the data is valid.\n",
      "\n",
      "But the user's question asks for the highest eligible free rate, so the query should return a single value. Using MAX on the calculated ratio would give the maximum.\n",
      "\n",
      "So the final SQL query should be as above.\n",
      "\n",
      "Final answer based om reasoning for this model:\n",
      "\n",
      "\n",
      "```\n",
      "-- Your SQL query\n",
      "SELECT MAX(`Free Meal Count (K-12)` / `Enrollment (K-12)`) FROM frpm WHERE `County Name` = 'Alameda';\n",
      "```\n",
      "\n",
      "model 4 analysis:\n",
      " Reasoning process:\n",
      "\n",
      "Okay, let's tackle this question. The user wants the highest eligible free rate for K-12 students in Alameda County. First, I need to figure out which tables and columns are relevant.\n",
      "\n",
      "The eligible free rate is calculated as Free Meal Count (K-12) divided by Enrollment (K-12). So I need to get those two values from the frpm table. But wait, the schools are in Alameda County, so I need to link the frpm table with the schools table to check the county.\n",
      "\n",
      "Looking at the tables, the frpm table has a County Name column, but the schools table has a County column. The frpm's CDSCode is a foreign key to schools' CDSCode. So I should join frpm with schools on CDSCode to get the county information.\n",
      "\n",
      "Wait, the question specifies Alameda County. So I need to filter where schools.County = 'Alameda'. But the frpm table has County Name, but maybe the schools table's County is more accurate. Let me check the tables again. The schools table has a County column, which is likely the correct one to use for filtering. So I should join frpm and schools on CDSCode, then filter where schools.County is 'Alameda'.\n",
      "\n",
      "Once I have the correct schools in Alameda County, I can calculate the eligible free rate as Free Meal Count divided by Enrollment. Then, I need to find the maximum value of that rate. So the SQL query should select the maximum of (Free Meal Count / Enrollment) from the joined tables where County is Alameda.\n",
      "\n",
      "Wait, but the columns in frpm are named with backticks because they have spaces. So in the query, I need to use `Free Meal Count (K-12)` and `Enrollment (K-12)`. Also, the schools table's County column is named County. So the join condition is frpm.CDSCode = schools.CDSCode.\n",
      "\n",
      "Putting it all together: join frpm and schools on CDSCode, filter where schools.County = 'Alameda', compute the ratio, and find the maximum. The final query would use MAX(`Free Meal Count (K-12)` / `Enrollment (K-12)`) as the select clause, joined with the schools table where County is Alameda. Make sure to handle possible nulls, but since the question is about schools in Alameda, maybe the data is present.\n",
      "\n",
      "Final answer based om reasoning for this model:\n",
      "\n",
      "\n",
      "```\n",
      "SELECT MAX(`Free Meal Count (K-12)` / `Enrollment (K-12)`) FROM frpm JOIN schools ON frpm.CDSCode = schools.CDSCode WHERE schools.County = 'Alameda';\n",
      "```\n",
      "\n",
      "model 5 analysis:\n",
      " Reasoning process:\n",
      "\n",
      "Okay, let's see. The user is asking for the highest eligible free rate for K-12 students in schools located in Alameda County. The eligible free rate is calculated as Free Meal Count (K-12) divided by Enrollment (K-12). \n",
      "\n",
      "First, I need to figure out which tables to use. The frpm table has the Free Meal Count (K-12) and Enrollment (K-12) columns. But the County Name is in the frpm table as `County Name`. So, I should join the frpm table with the schools table to get the county information. Wait, no, the schools table has a County column. Wait, the schools table's County column is directly the county name. Wait, the frpm table has `County Name`, but the schools table has County. Which one should I use? The question specifies Alameda County, so I need to check which table has the County Name. Let me check the tables again.\n",
      "\n",
      "Looking at the schools table, there's a County column. The frpm table has `County Name`. So maybe the schools table's County is the same as frpm's `County Name`. But since the schools table is linked via CDSCode, and frpm has a foreign key to schools, perhaps the County in schools is the same as `County Name` in frpm. But to be safe, maybe I should check which one has the county information. However, the user is asking about Alameda County. Let me think. The schools table has a County column, which is probably the county name. So, I can filter on schools.County = 'Alameda'.\n",
      "\n",
      "But wait, the frpm table has `County Name` as well. However, the schools table's County is a direct field. Since the frpm table is linked to schools via CDSCode, perhaps the County in schools is the same as `County Name` in frpm. But to avoid confusion, maybe I should use the schools table's County column. Because the schools table is the primary table with school details, and the frpm table might have redundant county info. But the user might have different data. However, the question is about the county, so I need to make sure which table's county field to use.\n",
      "\n",
      "Alternatively, maybe the frpm table's `County Name` is the correct one. But since the schools table is linked via CDSCode, and the County is in schools, perhaps the schools table is the source for the county. But without knowing the data structure, it's safer to check both. However, given that the user's question is about the county, perhaps the County in the schools table is the correct field. \n",
      "\n",
      "Wait, the question is about schools in Alameda County. So I need to find all schools where the county is Alameda. So, I need to filter the schools table where County = 'Alameda'. But the frpm table has `County Name`, but that's linked to schools. So perhaps the correct approach is to join frpm with schools on CDSCode, then filter schools.County = 'Alameda'.\n",
      "\n",
      "Alternatively, maybe the frpm table's `County Name` is sufficient, but if the schools table's County is more accurate, then I should use that. But since the schools table is the main table with school details, and frpm is linked to it, perhaps the County in schools is the correct column. \n",
      "\n",
      "So, the plan is: \n",
      "\n",
      "1. Join frpm with schools on CDSCode to get the county information. \n",
      "\n",
      "But wait, the frpm table has a foreign key to schools, so each frpm record is linked to a school. So, if I join frpm with schools on CDSCode, I can get the County from schools. \n",
      "\n",
      "Alternatively, the frpm table has a `County Name` column, which might be redundant. But if the user wants to use that, then perhaps it's in frpm. But the question is about schools in Alameda County. So, the County column in the schools table would be the correct one. \n",
      "\n",
      "So, to answer the question, the steps are:\n",
      "\n",
      "- Find all schools in Alameda County (using schools.County = 'Alameda').\n",
      "- For those schools, get the Free Meal Count (K-12) and Enrollment (K-12) from the frpm table.\n",
      "- Calculate the eligible free rate as Free Meal Count / Enrollment.\n",
      "- Find the maximum value of this rate.\n",
      "\n",
      "But how to join the tables? The frpm table has a foreign key to schools (CDSCode), so joining on CDSCode would link the frpm data to the school's county. \n",
      "\n",
      "So the SQL query would involve joining frpm with schools on CDSCode, then filtering where schools.County = 'Alameda', then computing the rate and finding the maximum.\n",
      "\n",
      "But the user's question is about the highest eligible free rate. So the SQL should select the maximum of (Free Meal Count (K-12) / Enrollment (K-12)) where the county is Alameda.\n",
      "\n",
      "So the query would be:\n",
      "\n",
      "SELECT MAX(`Free Meal Count (K-12)` / `Enrollment (K-12)`) AS MaxEligibleFreeRate\n",
      "FROM frpm\n",
      "JOIN schools ON frpm.CDSCode = schools.CDSCode\n",
      "WHERE schools.County = 'Alameda';\n",
      "\n",
      "But wait, the frpm table has `Free Meal Count (K-12)` and `Enrollment (K-12)` columns. So yes.\n",
      "\n",
      "But need to check if there are any null values. For example, if Enrollment (K-12) is zero, division by zero would be an error. But the question probably assumes that enrollment is not zero. Alternatively, the data may have non-null values. Assuming that the data is clean, the query can proceed.\n",
      "\n",
      "Thus, the correct SQL is as above.\n",
      "\n",
      "Final answer based om reasoning for this model:\n",
      "\n",
      "\n",
      "```\n",
      "SELECT MAX(`Free Meal Count (K-12)` / `Enrollment (K-12)`) FROM frpm JOIN schools ON frpm.CDSCode = schools.CDSCode WHERE schools.County = 'Alameda';\n",
      "```\n",
      "\n",
      "\n",
      "here is avaliable tables below\n",
      "\n",
      "\n",
      "Table: frpm\n",
      "CREATE TABLE frpm\n",
      "(\n",
      "    CDSCode                                       TEXT not null\n",
      "        primary key,\n",
      "    `Academic Year`                               TEXT  null,\n",
      "    `County Code`                                 TEXT  null,\n",
      "    `District Code`                               INTEGER         null,\n",
      "    `School Code`                                 TEXT  null,\n",
      "    `County Name`                                 TEXT null,\n",
      "    `District Name`                               TEXT null,\n",
      "    `School Name`                                 TEXT null,\n",
      "    `District Type`                               TEXT null,\n",
      "    `School Type`                                 TEXT null,\n",
      "    `Educational Option Type`                     TEXT null,\n",
      "    `NSLP Provision Status`                       TEXT null,\n",
      "    `Charter School (Y/N)`                        INTEGER    null,\n",
      "    `Charter School Number`                       TEXT  null,\n",
      "    `Charter Funding Type`                        TEXT null,\n",
      "    IRC                                           INTEGER    null,\n",
      "    `Low Grade`                                   TEXT  null,\n",
      "    `High Grade`                                  TEXT null,\n",
      "    `Enrollment (K-12)`                           REAL      null,\n",
      "    `Free Meal Count (K-12)`                      REAL       null,\n",
      "    `Percent (%) Eligible Free (K-12)`            REAL       null,\n",
      "    `FRPM Count (K-12)`                           REAL       null,\n",
      "    `Percent (%) Eligible FRPM (K-12)`            REAL       null,\n",
      "    `Enrollment (Ages 5-17)`                      REAL       null,\n",
      "    `Free Meal Count (Ages 5-17)`                 REAL       null,\n",
      "    `Percent (%) Eligible Free (Ages 5-17)`       REAL       null,\n",
      "    `FRPM Count (Ages 5-17)`                      REAL       null,\n",
      "    `Percent (%) Eligible FRPM (Ages 5-17)`       REAL       null,\n",
      "    `2013-14 CALPADS Fall 1 Certification Status` INTEGER    null,\n",
      "    foreign key (CDSCode) references schools (CDSCode)\n",
      ")\n",
      "\n",
      "Table: satscores\n",
      "CREATE TABLE satscores\n",
      "(\n",
      "    cds         TEXT not null\n",
      "        primary key,\n",
      "    rtype       TEXT  not null,\n",
      "    sname       TEXT null,\n",
      "    dname       TEXT null,\n",
      "    cname       TEXT null,\n",
      "    enroll12    INTEGER         not null,\n",
      "    NumTstTakr  INTEGER          not null,\n",
      "    AvgScrRead  INTEGER          null,\n",
      "    AvgScrMath  INTEGER          null,\n",
      "    AvgScrWrite INTEGER          null,\n",
      "    NumGE1500   INTEGER          null,\n",
      "--     PctGE1500   double      null,\n",
      "        foreign key (cds) references schools (CDSCode)\n",
      ")\n",
      "\n",
      "Table: schools\n",
      "CREATE TABLE schools\n",
      "(\n",
      "    CDSCode     TEXT not null\n",
      "        primary key,\n",
      "    NCESDist    TEXT  null,\n",
      "    NCESSchool  TEXT  null,\n",
      "    StatusType  TEXT  not null,\n",
      "    County      TEXT not null,\n",
      "    District    TEXT not null,\n",
      "    School      TEXT null,\n",
      "    Street      TEXT null,\n",
      "    StreetAbr   TEXT null,\n",
      "    City        TEXT null,\n",
      "    Zip         TEXT null,\n",
      "    State       TEXT  null,\n",
      "    MailStreet  TEXT null,\n",
      "    MailStrAbr  TEXT null,\n",
      "    MailCity    TEXT null,\n",
      "    MailZip     TEXT null,\n",
      "    MailState   TEXT  null,\n",
      "    Phone       TEXT null,\n",
      "    Ext         TEXT  null,\n",
      "    Website     TEXT null,\n",
      "    OpenDate    DATE        null,\n",
      "    ClosedDate  DATE        null,\n",
      "    Charter     INTEGER    null,\n",
      "    CharterNum  TEXT  null,\n",
      "    FundingType TEXT null,\n",
      "    DOC         TEXT  not null,\n",
      "    DOCType     TEXT not null,\n",
      "    SOC         TEXT  null,\n",
      "    SOCType     TEXT null,\n",
      "    EdOpsCode   TEXT  null,\n",
      "    EdOpsName   TEXT null,\n",
      "    EILCode     TEXT  null,\n",
      "    EILName     TEXT null,\n",
      "    GSoffered   TEXT null,\n",
      "    GSserved    TEXT  null,\n",
      "    Virtual     TEXT  null,\n",
      "    Magnet      INTEGER   null,\n",
      "    Latitude    REAL      null,\n",
      "    Longitude   REAL      null,\n",
      "    AdmFName1   TEXT null,\n",
      "    AdmLName1   TEXT null,\n",
      "    AdmEmail1   TEXT null,\n",
      "    AdmFName2   TEXT null,\n",
      "    AdmLName2   TEXT null,\n",
      "    AdmEmail2   TEXT null,\n",
      "    AdmFName3   TEXT  null,\n",
      "    AdmLName3   TEXT null,\n",
      "    AdmEmail3   TEXT null,\n",
      "    LastUpdate  DATE        not null\n",
      ")\n",
      "\n",
      "-- Using valid SQLite and understanding External Knowledge, answer the following questions for the tables provided above.\n",
      "-- What is the highest eligible free rate for K-12 students in the schools in Alameda County?\n",
      "-- External Knowledge: Eligible free rate for K-12 = `Free Meal Count (K-12)` / `Enrollment (K-12)`\n",
      "\n",
      "\n",
      "Generate the SQLite for the above question after thinking step by step: \n",
      "\n",
      "\n",
      "Instructions:\n",
      "- Make sure you only output the information that is asked in the question. If the question asks for a specific column, make sure to only include that column in the SELECT clause, nothing more.\n",
      "- The generated query should return all of the information asked in the question without any missing or extra information.\n",
      "- Before generating the final SQL query, please think through the steps of how to write the query.\n",
      "- Do not misuse column names, keep them in quotes `\n",
      "- Carefully understand what colomns belond to what tables\n",
      "- Use only initial column names, change names prohibited\n",
      "        \n",
      "Output Format:\n",
      "In your answer, please enclose the generated SQL query in a code block:\n",
      "```\n",
      "-- Your SQL query\n",
      "```    \n",
      "and nothing else, no exaplains, no comments (asnwer should be less than 512 characters)\n",
      "\n",
      "Take a deep breath and think step by step to find the correct SQL query in SQLite format.\n",
      "\n",
      "Question repetition: What is the highest eligible free rate for K-12 students in the schools in Alameda County?\n",
      "\n",
      "Be care! Include only what i want it questiona and nothing else<|im_end|>\n",
      "<|im_start|>assistant\n",
      "<think>\n",
      "\n",
      "</think>\n",
      "\n",
      "\n",
      "\n",
      "\n",
      "Максимальное количество токенов в промптах: 28715\n",
      "\n",
      "начинаем скорринг\n",
      "Загружаем чаты с данными...\n",
      "Данные успешно загружены\n",
      "Начали генерацию SQL запросов\n"
     ]
    },
    {
     "name": "stderr",
     "output_type": "stream",
     "text": [
      "Processed prompts: 100%|██████████| 1534/1534 [04:41<00:00,  5.45it/s, est. speed input: 37973.65 toks/s, output: 262.55 toks/s]"
     ]
    },
    {
     "name": "stdout",
     "output_type": "stream",
     "text": [
      "extract_think количество ошибок:  0\n",
      "extract_sql количество ошибок:  0\n",
      "Закончили генерацию SQL запросов\n",
      "Начали скорр полученных SQL запросов\n"
     ]
    },
    {
     "name": "stderr",
     "output_type": "stream",
     "text": [
      "\n"
     ]
    },
    {
     "name": "stdout",
     "output_type": "stream",
     "text": [
      "Qwen3-8B DEV Финальный результат EX: 58.15\n",
      "Qwen3-8B процент запросов, которые успешно выполнились DEV: 95.57%\n",
      "====================================================================================================\n",
      "\n",
      "\n",
      "Загружаем чаты с данными...\n",
      "Данные успешно загружены\n",
      "Начали генерацию SQL запросов\n"
     ]
    },
    {
     "name": "stderr",
     "output_type": "stream",
     "text": [
      "Processed prompts: 100%|██████████| 1534/1534 [04:38<00:00,  5.51it/s, est. speed input: 38495.62 toks/s, output: 260.29 toks/s]"
     ]
    },
    {
     "name": "stdout",
     "output_type": "stream",
     "text": [
      "extract_think количество ошибок:  0\n",
      "extract_sql количество ошибок:  0\n",
      "Закончили генерацию SQL запросов\n",
      "Начали скорр полученных SQL запросов\n"
     ]
    },
    {
     "name": "stderr",
     "output_type": "stream",
     "text": [
      "\n"
     ]
    },
    {
     "name": "stdout",
     "output_type": "stream",
     "text": [
      "Qwen3-8B DEV Финальный результат EX: 58.02\n",
      "Qwen3-8B процент запросов, которые успешно выполнились DEV: 95.83%\n",
      "====================================================================================================\n",
      "\n",
      "\n",
      "Загружаем чаты с данными...\n",
      "Данные успешно загружены\n",
      "Начали генерацию SQL запросов\n"
     ]
    },
    {
     "name": "stderr",
     "output_type": "stream",
     "text": [
      "Processed prompts: 100%|██████████| 1534/1534 [04:46<00:00,  5.36it/s, est. speed input: 37695.35 toks/s, output: 257.54 toks/s]"
     ]
    },
    {
     "name": "stdout",
     "output_type": "stream",
     "text": [
      "extract_think количество ошибок:  0\n",
      "extract_sql количество ошибок:  0\n",
      "Закончили генерацию SQL запросов\n",
      "Начали скорр полученных SQL запросов\n"
     ]
    },
    {
     "name": "stderr",
     "output_type": "stream",
     "text": [
      "\n"
     ]
    },
    {
     "name": "stdout",
     "output_type": "stream",
     "text": [
      "Qwen3-8B DEV Финальный результат EX: 58.15\n",
      "Qwen3-8B процент запросов, которые успешно выполнились DEV: 95.76%\n",
      "====================================================================================================\n",
      "\n",
      "\n",
      "Загружаем чаты с данными...\n",
      "Данные успешно загружены\n",
      "Начали генерацию SQL запросов\n"
     ]
    },
    {
     "name": "stderr",
     "output_type": "stream",
     "text": [
      "Processed prompts: 100%|██████████| 1534/1534 [04:44<00:00,  5.40it/s, est. speed input: 38032.77 toks/s, output: 257.33 toks/s]"
     ]
    },
    {
     "name": "stdout",
     "output_type": "stream",
     "text": [
      "extract_think количество ошибок:  0\n",
      "extract_sql количество ошибок:  0\n",
      "Закончили генерацию SQL запросов\n",
      "Начали скорр полученных SQL запросов\n"
     ]
    },
    {
     "name": "stderr",
     "output_type": "stream",
     "text": [
      "\n"
     ]
    },
    {
     "name": "stdout",
     "output_type": "stream",
     "text": [
      "Qwen3-8B DEV Финальный результат EX: 57.50\n",
      "Qwen3-8B процент запросов, которые успешно выполнились DEV: 95.76%\n",
      "====================================================================================================\n",
      "\n",
      "\n",
      "Загружаем чаты с данными...\n",
      "Данные успешно загружены\n",
      "Начали генерацию SQL запросов\n"
     ]
    },
    {
     "name": "stderr",
     "output_type": "stream",
     "text": [
      "Processed prompts: 100%|██████████| 1534/1534 [04:44<00:00,  5.39it/s, est. speed input: 37715.38 toks/s, output: 258.56 toks/s]"
     ]
    },
    {
     "name": "stdout",
     "output_type": "stream",
     "text": [
      "extract_think количество ошибок:  0\n",
      "extract_sql количество ошибок:  0\n",
      "Закончили генерацию SQL запросов\n",
      "Начали скорр полученных SQL запросов\n"
     ]
    },
    {
     "name": "stderr",
     "output_type": "stream",
     "text": [
      "\n"
     ]
    },
    {
     "name": "stdout",
     "output_type": "stream",
     "text": [
      "Qwen3-8B DEV Финальный результат EX: 58.28\n",
      "Qwen3-8B процент запросов, которые успешно выполнились DEV: 96.15%\n",
      "====================================================================================================\n",
      "\n",
      "\n",
      "Загружаем чаты с данными...\n",
      "Данные успешно загружены\n",
      "Начали генерацию SQL запросов\n"
     ]
    },
    {
     "name": "stderr",
     "output_type": "stream",
     "text": [
      "Processed prompts: 100%|██████████| 1534/1534 [04:40<00:00,  5.48it/s, est. speed input: 38328.57 toks/s, output: 258.96 toks/s]"
     ]
    },
    {
     "name": "stdout",
     "output_type": "stream",
     "text": [
      "extract_think количество ошибок:  0\n",
      "extract_sql количество ошибок:  0\n",
      "Закончили генерацию SQL запросов\n",
      "Начали скорр полученных SQL запросов\n"
     ]
    },
    {
     "name": "stderr",
     "output_type": "stream",
     "text": [
      "\n"
     ]
    },
    {
     "name": "stdout",
     "output_type": "stream",
     "text": [
      "Qwen3-8B DEV Финальный результат EX: 57.56\n",
      "Qwen3-8B процент запросов, которые успешно выполнились DEV: 96.35%\n",
      "====================================================================================================\n",
      "\n",
      "\n",
      "Загружаем чаты с данными...\n",
      "Данные успешно загружены\n",
      "Начали генерацию SQL запросов\n"
     ]
    },
    {
     "name": "stderr",
     "output_type": "stream",
     "text": [
      "Processed prompts: 100%|██████████| 1534/1534 [04:49<00:00,  5.29it/s, est. speed input: 37343.71 toks/s, output: 253.23 toks/s]"
     ]
    },
    {
     "name": "stdout",
     "output_type": "stream",
     "text": [
      "extract_think количество ошибок:  0\n",
      "extract_sql количество ошибок:  0\n",
      "Закончили генерацию SQL запросов\n",
      "Начали скорр полученных SQL запросов\n"
     ]
    },
    {
     "name": "stderr",
     "output_type": "stream",
     "text": [
      "\n"
     ]
    },
    {
     "name": "stdout",
     "output_type": "stream",
     "text": [
      "Qwen3-8B DEV Финальный результат EX: 57.50\n",
      "Qwen3-8B процент запросов, которые успешно выполнились DEV: 96.61%\n",
      "====================================================================================================\n",
      "\n",
      "\n",
      "Загружаем чаты с данными...\n",
      "Данные успешно загружены\n",
      "Начали генерацию SQL запросов\n"
     ]
    },
    {
     "name": "stderr",
     "output_type": "stream",
     "text": [
      "Processed prompts: 100%|██████████| 1534/1534 [04:49<00:00,  5.30it/s, est. speed input: 37474.03 toks/s, output: 255.58 toks/s]"
     ]
    },
    {
     "name": "stdout",
     "output_type": "stream",
     "text": [
      "extract_think количество ошибок:  0\n",
      "extract_sql количество ошибок:  0\n",
      "Закончили генерацию SQL запросов\n",
      "Начали скорр полученных SQL запросов\n"
     ]
    },
    {
     "name": "stderr",
     "output_type": "stream",
     "text": [
      "\n"
     ]
    },
    {
     "name": "stdout",
     "output_type": "stream",
     "text": [
      "Qwen3-8B DEV Финальный результат EX: 58.02\n",
      "Qwen3-8B процент запросов, которые успешно выполнились DEV: 95.89%\n",
      "====================================================================================================\n",
      "\n",
      "\n",
      "Загружаем чаты с данными...\n",
      "Данные успешно загружены\n",
      "Начали генерацию SQL запросов\n"
     ]
    },
    {
     "name": "stderr",
     "output_type": "stream",
     "text": [
      "Processed prompts: 100%|██████████| 1534/1534 [04:47<00:00,  5.34it/s, est. speed input: 37513.26 toks/s, output: 258.13 toks/s]"
     ]
    },
    {
     "name": "stdout",
     "output_type": "stream",
     "text": [
      "extract_think количество ошибок:  0\n",
      "extract_sql количество ошибок:  0\n",
      "Закончили генерацию SQL запросов\n",
      "Начали скорр полученных SQL запросов\n"
     ]
    },
    {
     "name": "stderr",
     "output_type": "stream",
     "text": [
      "\n"
     ]
    },
    {
     "name": "stdout",
     "output_type": "stream",
     "text": [
      "Qwen3-8B DEV Финальный результат EX: 57.24\n",
      "Qwen3-8B процент запросов, которые успешно выполнились DEV: 95.89%\n",
      "====================================================================================================\n",
      "\n",
      "\n",
      "Загружаем чаты с данными...\n",
      "Данные успешно загружены\n",
      "Начали генерацию SQL запросов\n"
     ]
    },
    {
     "name": "stderr",
     "output_type": "stream",
     "text": [
      "Processed prompts: 100%|██████████| 1534/1534 [04:38<00:00,  5.50it/s, est. speed input: 38393.22 toks/s, output: 257.19 toks/s]"
     ]
    },
    {
     "name": "stdout",
     "output_type": "stream",
     "text": [
      "extract_think количество ошибок:  0\n",
      "extract_sql количество ошибок:  0\n",
      "Закончили генерацию SQL запросов\n",
      "Начали скорр полученных SQL запросов\n"
     ]
    },
    {
     "name": "stderr",
     "output_type": "stream",
     "text": [
      "\n"
     ]
    },
    {
     "name": "stdout",
     "output_type": "stream",
     "text": [
      "Qwen3-8B DEV Финальный результат EX: 57.43\n",
      "Qwen3-8B процент запросов, которые успешно выполнились DEV: 95.89%\n",
      "====================================================================================================\n",
      "\n",
      "\n",
      "Загружаем чаты с данными...\n",
      "Данные успешно загружены\n",
      "Начали генерацию SQL запросов\n"
     ]
    },
    {
     "name": "stderr",
     "output_type": "stream",
     "text": [
      "Processed prompts: 100%|██████████| 1534/1534 [04:44<00:00,  5.39it/s, est. speed input: 37832.90 toks/s, output: 255.57 toks/s]"
     ]
    },
    {
     "name": "stdout",
     "output_type": "stream",
     "text": [
      "extract_think количество ошибок:  0\n",
      "extract_sql количество ошибок:  0\n",
      "Закончили генерацию SQL запросов\n",
      "Начали скорр полученных SQL запросов\n"
     ]
    },
    {
     "name": "stderr",
     "output_type": "stream",
     "text": [
      "\n"
     ]
    },
    {
     "name": "stdout",
     "output_type": "stream",
     "text": [
      "Qwen3-8B DEV Финальный результат EX: 58.08\n",
      "Qwen3-8B процент запросов, которые успешно выполнились DEV: 96.35%\n",
      "====================================================================================================\n",
      "\n",
      "\n",
      "Загружаем чаты с данными...\n",
      "Данные успешно загружены\n",
      "Начали генерацию SQL запросов\n"
     ]
    },
    {
     "name": "stderr",
     "output_type": "stream",
     "text": [
      "Processed prompts: 100%|██████████| 1534/1534 [04:41<00:00,  5.44it/s, est. speed input: 37823.49 toks/s, output: 262.48 toks/s]"
     ]
    },
    {
     "name": "stdout",
     "output_type": "stream",
     "text": [
      "extract_think количество ошибок:  0\n",
      "extract_sql количество ошибок:  0\n",
      "Закончили генерацию SQL запросов\n",
      "Начали скорр полученных SQL запросов\n"
     ]
    },
    {
     "name": "stderr",
     "output_type": "stream",
     "text": [
      "\n"
     ]
    },
    {
     "name": "stdout",
     "output_type": "stream",
     "text": [
      "Qwen3-8B DEV Финальный результат EX: 57.56\n",
      "Qwen3-8B процент запросов, которые успешно выполнились DEV: 96.02%\n",
      "====================================================================================================\n",
      "\n",
      "\n",
      "Загружаем чаты с данными...\n",
      "Данные успешно загружены\n",
      "Начали генерацию SQL запросов\n"
     ]
    },
    {
     "name": "stderr",
     "output_type": "stream",
     "text": [
      "Processed prompts: 100%|██████████| 1534/1534 [04:42<00:00,  5.42it/s, est. speed input: 37688.01 toks/s, output: 262.30 toks/s]"
     ]
    },
    {
     "name": "stdout",
     "output_type": "stream",
     "text": [
      "extract_think количество ошибок:  0\n",
      "extract_sql количество ошибок:  0\n",
      "Закончили генерацию SQL запросов\n",
      "Начали скорр полученных SQL запросов\n"
     ]
    },
    {
     "name": "stderr",
     "output_type": "stream",
     "text": [
      "\n"
     ]
    },
    {
     "name": "stdout",
     "output_type": "stream",
     "text": [
      "Qwen3-8B DEV Финальный результат EX: 57.30\n",
      "Qwen3-8B процент запросов, которые успешно выполнились DEV: 96.09%\n",
      "====================================================================================================\n",
      "\n",
      "\n",
      "Загружаем чаты с данными...\n",
      "Данные успешно загружены\n",
      "Начали генерацию SQL запросов\n"
     ]
    },
    {
     "name": "stderr",
     "output_type": "stream",
     "text": [
      "Processed prompts: 100%|██████████| 1534/1534 [04:39<00:00,  5.48it/s, est. speed input: 38056.05 toks/s, output: 263.74 toks/s]"
     ]
    },
    {
     "name": "stdout",
     "output_type": "stream",
     "text": [
      "extract_think количество ошибок:  0\n",
      "extract_sql количество ошибок:  0\n",
      "Закончили генерацию SQL запросов\n",
      "Начали скорр полученных SQL запросов\n"
     ]
    },
    {
     "name": "stderr",
     "output_type": "stream",
     "text": [
      "\n"
     ]
    },
    {
     "name": "stdout",
     "output_type": "stream",
     "text": [
      "Qwen3-8B DEV Финальный результат EX: 57.76\n",
      "Qwen3-8B процент запросов, которые успешно выполнились DEV: 96.22%\n",
      "====================================================================================================\n",
      "\n",
      "\n",
      "Загружаем чаты с данными...\n",
      "Данные успешно загружены\n",
      "Начали генерацию SQL запросов\n"
     ]
    },
    {
     "name": "stderr",
     "output_type": "stream",
     "text": [
      "Processed prompts: 100%|██████████| 1534/1534 [04:38<00:00,  5.50it/s, est. speed input: 38188.66 toks/s, output: 263.15 toks/s]"
     ]
    },
    {
     "name": "stdout",
     "output_type": "stream",
     "text": [
      "extract_think количество ошибок:  0\n",
      "extract_sql количество ошибок:  0\n",
      "Закончили генерацию SQL запросов\n",
      "Начали скорр полученных SQL запросов\n"
     ]
    },
    {
     "name": "stderr",
     "output_type": "stream",
     "text": [
      "\n"
     ]
    },
    {
     "name": "stdout",
     "output_type": "stream",
     "text": [
      "Qwen3-8B DEV Финальный результат EX: 57.82\n",
      "Qwen3-8B процент запросов, которые успешно выполнились DEV: 96.02%\n",
      "====================================================================================================\n",
      "\n",
      "\n",
      "Загружаем чаты с данными...\n",
      "Данные успешно загружены\n",
      "Начали генерацию SQL запросов\n"
     ]
    },
    {
     "name": "stderr",
     "output_type": "stream",
     "text": [
      "Processed prompts: 100%|██████████| 1534/1534 [04:43<00:00,  5.41it/s, est. speed input: 37598.60 toks/s, output: 259.59 toks/s]"
     ]
    },
    {
     "name": "stdout",
     "output_type": "stream",
     "text": [
      "extract_think количество ошибок:  0\n",
      "extract_sql количество ошибок:  0\n",
      "Закончили генерацию SQL запросов\n",
      "Начали скорр полученных SQL запросов\n"
     ]
    },
    {
     "name": "stderr",
     "output_type": "stream",
     "text": [
      "\n"
     ]
    },
    {
     "name": "stdout",
     "output_type": "stream",
     "text": [
      "Qwen3-8B DEV Финальный результат EX: 57.95\n",
      "Qwen3-8B процент запросов, которые успешно выполнились DEV: 95.89%\n",
      "====================================================================================================\n",
      "\n",
      "\n",
      "Загружаем чаты с данными...\n",
      "Данные успешно загружены\n",
      "Начали генерацию SQL запросов\n"
     ]
    },
    {
     "name": "stderr",
     "output_type": "stream",
     "text": [
      "Processed prompts: 100%|██████████| 1534/1534 [04:39<00:00,  5.49it/s, est. speed input: 38110.78 toks/s, output: 260.48 toks/s]"
     ]
    },
    {
     "name": "stdout",
     "output_type": "stream",
     "text": [
      "extract_think количество ошибок:  0\n",
      "extract_sql количество ошибок:  0\n",
      "Закончили генерацию SQL запросов\n",
      "Начали скорр полученных SQL запросов\n"
     ]
    },
    {
     "name": "stderr",
     "output_type": "stream",
     "text": [
      "\n"
     ]
    },
    {
     "name": "stdout",
     "output_type": "stream",
     "text": [
      "Qwen3-8B DEV Финальный результат EX: 58.28\n",
      "Qwen3-8B процент запросов, которые успешно выполнились DEV: 95.50%\n",
      "====================================================================================================\n",
      "\n",
      "\n",
      "Загружаем чаты с данными...\n",
      "Данные успешно загружены\n",
      "Начали генерацию SQL запросов\n"
     ]
    },
    {
     "name": "stderr",
     "output_type": "stream",
     "text": [
      "Processed prompts: 100%|██████████| 1534/1534 [04:43<00:00,  5.41it/s, est. speed input: 37803.85 toks/s, output: 261.04 toks/s]"
     ]
    },
    {
     "name": "stdout",
     "output_type": "stream",
     "text": [
      "extract_think количество ошибок:  0\n",
      "extract_sql количество ошибок:  0\n",
      "Закончили генерацию SQL запросов\n",
      "Начали скорр полученных SQL запросов\n"
     ]
    },
    {
     "name": "stderr",
     "output_type": "stream",
     "text": [
      "\n"
     ]
    },
    {
     "name": "stdout",
     "output_type": "stream",
     "text": [
      "Qwen3-8B DEV Финальный результат EX: 57.76\n",
      "Qwen3-8B процент запросов, которые успешно выполнились DEV: 95.76%\n",
      "====================================================================================================\n",
      "\n",
      "\n",
      "Загружаем чаты с данными...\n",
      "Данные успешно загружены\n",
      "Начали генерацию SQL запросов\n"
     ]
    },
    {
     "name": "stderr",
     "output_type": "stream",
     "text": [
      "Processed prompts: 100%|██████████| 1534/1534 [04:41<00:00,  5.45it/s, est. speed input: 38004.07 toks/s, output: 260.95 toks/s]"
     ]
    },
    {
     "name": "stdout",
     "output_type": "stream",
     "text": [
      "extract_think количество ошибок:  0\n",
      "extract_sql количество ошибок:  0\n",
      "Закончили генерацию SQL запросов\n",
      "Начали скорр полученных SQL запросов\n"
     ]
    },
    {
     "name": "stderr",
     "output_type": "stream",
     "text": [
      "\n"
     ]
    },
    {
     "name": "stdout",
     "output_type": "stream",
     "text": [
      "Qwen3-8B DEV Финальный результат EX: 58.02\n",
      "Qwen3-8B процент запросов, которые успешно выполнились DEV: 95.96%\n",
      "====================================================================================================\n",
      "\n",
      "\n",
      "Загружаем чаты с данными...\n",
      "Данные успешно загружены\n",
      "Начали генерацию SQL запросов\n"
     ]
    },
    {
     "name": "stderr",
     "output_type": "stream",
     "text": [
      "Processed prompts: 100%|██████████| 1534/1534 [04:44<00:00,  5.40it/s, est. speed input: 37733.64 toks/s, output: 258.19 toks/s]"
     ]
    },
    {
     "name": "stdout",
     "output_type": "stream",
     "text": [
      "extract_think количество ошибок:  0\n",
      "extract_sql количество ошибок:  0\n",
      "Закончили генерацию SQL запросов\n",
      "Начали скорр полученных SQL запросов\n"
     ]
    },
    {
     "name": "stderr",
     "output_type": "stream",
     "text": [
      "\n"
     ]
    },
    {
     "name": "stdout",
     "output_type": "stream",
     "text": [
      "Qwen3-8B DEV Финальный результат EX: 57.50\n",
      "Qwen3-8B процент запросов, которые успешно выполнились DEV: 95.89%\n",
      "====================================================================================================\n",
      "\n",
      "\n"
     ]
    }
   ],
   "source": [
    "run_cot_experiment(model,arr_seeds,arr_versions, type_cot,num_observations=num_observations)"
   ]
  },
  {
   "cell_type": "markdown",
   "id": "51d986a1-0b51-4b35-9b9c-0acb184dcbda",
   "metadata": {},
   "source": [
    "## 7 наблюдений"
   ]
  },
  {
   "cell_type": "code",
   "execution_count": 13,
   "id": "1df4a57b-8c8c-4ec0-ba80-8dd616f717e7",
   "metadata": {},
   "outputs": [
    {
     "name": "stdout",
     "output_type": "stream",
     "text": [
      "[256, 724, 602, 225, 515, 74, 46, 339, 158, 224, 125, 506, 323, 733, 39, 937, 441, 803, 812, 928]\n",
      "model: Qwen3-8B\n"
     ]
    }
   ],
   "source": [
    "n= 20\n",
    "arr_seeds = [random.randint(0,1000) for _ in range(n)]\n",
    "arr_versions = [x for x in range(n)]\n",
    "model = \"Qwen3-8B\"\n",
    "num_observations = 7\n",
    "type_cot = 'all_new'\n",
    "print(arr_seeds)\n",
    "print(f\"model: {model}\")"
   ]
  },
  {
   "cell_type": "code",
   "execution_count": 14,
   "id": "6399f201-99a9-4c61-86dc-3570cf4878cd",
   "metadata": {
    "scrolled": true
   },
   "outputs": [
    {
     "name": "stdout",
     "output_type": "stream",
     "text": [
      "Загружаем модель...\n"
     ]
    },
    {
     "name": "stderr",
     "output_type": "stream",
     "text": [
      "Loading safetensors checkpoint shards:   0% Completed | 0/4 [00:00<?, ?it/s]\n",
      "Loading safetensors checkpoint shards:  25% Completed | 1/4 [00:00<00:00,  7.74it/s]\n",
      "Loading safetensors checkpoint shards:  50% Completed | 2/4 [00:00<00:00,  2.70it/s]\n",
      "Loading safetensors checkpoint shards:  75% Completed | 3/4 [00:01<00:00,  1.98it/s]\n",
      "Loading safetensors checkpoint shards: 100% Completed | 4/4 [00:01<00:00,  1.77it/s]\n",
      "Loading safetensors checkpoint shards: 100% Completed | 4/4 [00:01<00:00,  2.01it/s]\n",
      "\u001b[1;36m(VllmWorker rank=0 pid=4040344)\u001b[0;0m \n"
     ]
    },
    {
     "name": "stdout",
     "output_type": "stream",
     "text": [
      "Модель успешно загружена\n",
      "model_config {'model': '/data/home/vkropoti/models/Qwen3-8B', 'tensor_parallel_size': 2, 'max_model_len': 40000, 'max_new_tokens': 1500, 'temperature': 0, 'top_k': 1, 'top_p': 0.8, 'gpu_memory_utilization': 0.9, 'trust_remote_code': False, 'seed': 256}\n",
      "\n",
      "prompts_config {'path_dev_json': '/home/vkropoti/vllm/dev.json', 'path_sql_dbs': '/data/home/vkropoti/sql_data/dev_databases/', 'use_reasoning': False, 'paths_to_cot': ['/data/home/vkropoti/sql_llm_answers/bird_dev/sql_all_new_Qwen3-8B-reasoning-v0', '/data/home/vkropoti/sql_llm_answers/bird_dev/sql_all_new_Qwen3-8B-reasoning-v1', '/data/home/vkropoti/sql_llm_answers/bird_dev/sql_all_new_Qwen3-8B-reasoning-v2', '/data/home/vkropoti/sql_llm_answers/bird_dev/sql_all_new_Qwen3-8B-reasoning-v3', '/data/home/vkropoti/sql_llm_answers/bird_dev/sql_all_new_Qwen3-8B-reasoning-v4', '/data/home/vkropoti/sql_llm_answers/bird_dev/sql_all_new_Qwen3-8B-reasoning-v5', '/data/home/vkropoti/sql_llm_answers/bird_dev/sql_all_new_Qwen3-8B-reasoning-v6']}\n",
      "\n",
      "save_config {'path_sql_save': '/data/home/vkropoti/sql_llm_answers/bird_dev/sql_all_Qwen3-8B-cot_all_new_think==False_nobs7-v0', 'path_think_save': None, 'path_sql_answers_save': '/data/home/vkropoti/sql_llm_answers/bird_dev/sql_predict_Qwen3-8B-cot_all_new_think==False_nobs7-v0', 'path_to_save_scores': '/data/home/vkropoti/sql_llm_answers/bird_dev/sql_results_Qwen3-8B-cot_all_new_think==False_nobs7-v0', 'path_to_save_executed': '/data/home/vkropoti/sql_llm_answers/bird_dev/sql_executed_Qwen3-8B-cot_all_new_think==False_nobs7-v0'}\n",
      "\n",
      "Модель успешно загружена\n",
      "Пример промпта\n",
      "<|im_start|>system\n",
      "\n",
      "You are a data science expert. Below, you are provided with a database schema and a natural language question. Your task is to understand the schema and generate a valid SQL query to answer the question.\n",
      "\n",
      "Database Engine: SQLite\n",
      "\n",
      "You will be given an additional analysis of other models, please take it into account, so the plan is\n",
      "1. Analyse given addition analysis from other models (find in which analysis the same and differ, how to use that to answer question)\n",
      "2. Combine best from previous part and think how to solve the problem (analyze tables, take care what columns avaliable in each table and so on, check the syntacsis)\n",
      "3. Create the answers. The answer should be only sql query.\n",
      "\n",
      "Carefully follow the instruction and add <|im_end|> and the end of the final answer<|im_end|>\n",
      "<|im_start|>user\n",
      "Here is addition analysis from other models which can be helpfull, please take this into account but be careful (choose the best from each analysis, combine them to make the most proper answer):\n",
      "\n",
      "model 0 analysis:\n",
      " Reasoning process:\n",
      "\n",
      "Okay, I need to find the highest eligible free rate for K-12 students in schools located in Alameda County. Let's start by understanding the tables and the data available.\n",
      "\n",
      "First, the question involves two main tables: frpm and schools. The frpm table has the `Free Meal Count (K-12)` and `Enrollment (K-12)` columns needed to calculate the eligible free rate. The schools table has the County information, specifically the `County` column. \n",
      "\n",
      "So, the first step is to join these two tables on the CDSCode, which is the common key. The frpm table's CDSCode is a foreign key referencing the schools table's CDSCode. That makes sense. \n",
      "\n",
      "Next, I need to filter the schools in Alameda County. The schools table has a `County` column, so I'll add a WHERE clause to check if County equals 'Alameda'. \n",
      "\n",
      "Once the data is filtered, I need to calculate the eligible free rate using the formula provided: `Free Meal Count (K-12) / Enrollment (K-12)`. However, I should be cautious about division by zero. But since the question is about schools with data, maybe there's a safety net, but the problem might not require handling that here. \n",
      "\n",
      "The goal is to find the highest rate, so I'll use the MAX function on the calculated rate. But to do that, I need to compute the rate for each school and then find the maximum value. \n",
      "\n",
      "Putting it all together, the SQL query should select the maximum of the calculated rate from the joined tables where the County is Alameda. \n",
      "\n",
      "Wait, but the formula is Free Meal Count divided by Enrollment. So in SQL, that would be `Free Meal Count (K-12) / Enrollment (K-12)`. \n",
      "\n",
      "So the query structure would be: \n",
      "\n",
      "SELECT MAX(`Free Meal Count (K-12)` / `Enrollment (K-12)`) AS highest_rate\n",
      "FROM frpm\n",
      "JOIN schools ON frpm.CDSCode = schools.CDSCode\n",
      "WHERE schools.County = 'Alameda';\n",
      "\n",
      "But I should check if there are any schools in Alameda County. Also, ensure that the columns are correctly quoted since some have spaces. \n",
      "\n",
      "I should make sure that the JOIN is correctly using the CDSCode from both tables. Also, the schools table's County column is the right one to filter. \n",
      "\n",
      "I think that's all. The final query should select the maximum value of the calculated rate from the relevant schools.\n",
      "\n",
      "Final answer based om reasoning for this model:\n",
      "\n",
      "\n",
      "```\n",
      "SELECT MAX(`Free Meal Count (K-12)` / `Enrollment (K-12)`) FROM frpm JOIN schools ON frpm.CDSCode = schools.CDSCode WHERE County = 'Alameda';\n",
      "```\n",
      "\n",
      "model 1 analysis:\n",
      " Reasoning process:\n",
      "\n",
      "Okay, let's tackle this question. The user wants the highest eligible free rate for K-12 students in Alameda County. First, I need to figure out which tables and columns are involved.\n",
      "\n",
      "The eligible free rate is calculated as Free Meal Count (K-12) divided by Enrollment (K-12). The frpm table has these columns. But I also need to filter schools in Alameda County. The schools table has a County column. So I need to join frpm with schools on CDSCode to get the county information.\n",
      "\n",
      "Wait, the frpm table has a foreign key to schools' CDSCode, so joining them on CDSCode makes sense. Then, I can filter where County = 'Alameda'. Once I have the eligible free rate for each school, I need to find the maximum value. \n",
      "\n",
      "So the steps are: join frpm and schools on CDSCode, filter for Alameda County, calculate the ratio, and then select the maximum. But I need to make sure that Enrollment (K-12) isn't zero to avoid division by zero. However, the question might assume that enrollment is non-zero. \n",
      "\n",
      "The SQL query would select the maximum of (Free Meal Count / Enrollment) from the joined tables where County is Alameda. I should use the correct column names with backticks. Also, since the user wants only the highest rate, using MAX() on the calculated value should work. \n",
      "\n",
      "Wait, but the question says \"highest eligible free rate\", which is the percentage. So the calculation is (Free Meal Count / Enrollment) * 100. But the columns in frpm are Free Meal Count (K-12) and Enrollment (K-12). So the query would be:\n",
      "\n",
      "SELECT MAX(`Free Meal Count (K-12)` / `Enrollment (K-12)`) AS MaxRate\n",
      "FROM frpm\n",
      "JOIN schools ON frpm.CDSCode = schools.CDSCode\n",
      "WHERE schools.County = 'Alameda';\n",
      "\n",
      "But I need to check if the County column in schools is case-sensitive. The question says Alameda County, so the value in County might be 'Alameda'. Also, ensuring that Enrollment isn't zero. However, the problem might not require handling that. \n",
      "\n",
      "So the final query should join the tables, filter by County, compute the ratio, and find the maximum. That's the plan.\n",
      "\n",
      "Final answer based om reasoning for this model:\n",
      "\n",
      "\n",
      "```\n",
      "SELECT MAX(`Free Meal Count (K-12)` / `Enrollment (K-12)`) FROM frpm JOIN schools ON frpm.CDSCode = schools.CDSCode WHERE schools.County = 'Alameda';\n",
      "```\n",
      "\n",
      "model 2 analysis:\n",
      " Reasoning process:\n",
      "\n",
      "Okay, I need to find the highest eligible free rate for K-12 students in schools located in Alameda County. Let's start by understanding the data structure and the tables involved.\n",
      "\n",
      "First, the question mentions \"eligible free rate for K-12,\" which is calculated as Free Meal Count (K-12) divided by Enrollment (K-12). The tables provided are frpm, satscores, and schools. The schools table has a County column, so I'll need to filter schools in Alameda County from there. \n",
      "\n",
      "The frpm table has the necessary columns for the free meal count and enrollment. However, I need to ensure that the schools in the frpm table are linked to the schools in the schools table. The frpm table has a CDSCode as the primary key, which is also a foreign key referencing the schools table's CDSCode. So, I can join these two tables on CDSCode.\n",
      "\n",
      "So the plan is: join frpm and schools on CDSCode where schools.County is 'Alameda'. Then compute the eligible free rate as (Free Meal Count (K-12) / Enrollment (K-12)) for each school. Finally, find the maximum value of this rate.\n",
      "\n",
      "Wait, but the question says \"highest eligible free rate,\" which is the maximum of the calculated rate. So I need to select the maximum value of (Free Meal Count / Enrollment) from the joined tables where County is Alameda.\n",
      "\n",
      "I need to make sure that the columns are correctly named. In the frpm table, the columns are `Free Meal Count (K-12)` and `Enrollment (K-12)`. The schools table's County column is named County. So the SQL query should join frpm and schools on CDSCode, filter where County = 'Alameda', and then calculate the rate. Then use MAX() to find the highest value.\n",
      "\n",
      "But wait, what if there are null values in Enrollment (K-12)? The question doesn't mention handling that, so I'll assume the data is clean. Also, division in SQL can be tricky. Since the columns are REAL, dividing them should work. So the query would be:\n",
      "\n",
      "SELECT MAX(`Free Meal Count (K-12)` / `Enrollment (K-12)`) AS MaxEligibleFreeRate\n",
      "FROM frpm\n",
      "JOIN schools ON frpm.CDSCode = schools.CDSCode\n",
      "WHERE schools.County = 'Alameda';\n",
      "\n",
      "But I need to check if the County column in schools is named correctly. Yes, the schools table has a County column. So this should work. That's the final query.\n",
      "\n",
      "Final answer based om reasoning for this model:\n",
      "\n",
      "\n",
      "```\n",
      "SELECT MAX(`Free Meal Count (K-12)` / `Enrollment (K-12)`) FROM frpm JOIN schools ON frpm.CDSCode = schools.CDSCode WHERE schools.County = 'Alameda';\n",
      "```\n",
      "\n",
      "model 3 analysis:\n",
      " Reasoning process:\n",
      "\n",
      "Okay, I need to find the highest eligible free rate for K-12 students in schools located in Alameda County. Let's break this down step by step.\n",
      "\n",
      "First, the question mentions \"eligible free rate for K-12,\" which the external knowledge defines as `Free Meal Count (K-12)` divided by `Enrollment (K-12)`. So I'll need to calculate this ratio for each school. But I need to make sure that division is handled correctly, maybe using real numbers to avoid integer division issues.\n",
      "\n",
      "Next, the schools are in Alameda County. The `frpm` table has a `County Name` column, so I should filter schools where `County Name` is 'Alameda'. However, I should check if the `frpm` table has the necessary data. The `frpm` table's columns include `County Name`, so that's where I'll get the county information.\n",
      "\n",
      "Wait, but the `schools` table also has a `County` column. Which one should I use? The question refers to \"Alameda County,\" and the `frpm` table's `County Name` might be the right column. But I should confirm. However, since the `frpm` table is linked via `CDSCode` to the `schools` table, maybe the `County Name` in `frpm` is the correct one. But perhaps the `schools` table's `County` column is more accurate. Hmm. But the user's external knowledge might assume using `frpm`'s `County Name`. Let me check the tables again.\n",
      "\n",
      "The `frpm` table has a `County Name` column, and the `schools` table has a `County` column. The question is about schools in Alameda County. The `frpm` table's `County Name` likely refers to the county where the school is located. But maybe I should cross-reference. However, the `frpm` table is linked to `schools` via `CDSCode`, so if I use `frpm`'s `County Name`, that's the right approach. But the user's question might have the `County` column in `schools` as the correct one. Wait, the question doesn't specify which table's county to use, but the external knowledge's formula uses columns from `frpm`. So perhaps the `County Name` in `frpm` is the correct one.\n",
      "\n",
      "So the plan is: join the `frpm` table with the `schools` table on `CDSCode`, filter where `County Name` is 'Alameda', calculate the eligible free rate as `Free Meal Count (K-12) / Enrollment (K-12)`, and then find the maximum value of that rate.\n",
      "\n",
      "Wait, but the `frpm` table might not have all the schools. The `schools` table has a `CDSCode` as primary key, and `frpm` has a foreign key to `schools`'s `CDSCode`. So `frpm` might have entries for schools that are in the `schools` table. But if I need to get the county information, I should use the `County Name` from `frpm` because it's directly related to the school's location. But maybe the `schools` table's `County` is more accurate. However, the user's external knowledge uses `frpm`'s columns, so I should use `frpm`'s `County Name`.\n",
      "\n",
      "So, the SQL query would select the `Free Meal Count (K-12)` and `Enrollment (K-12)` from `frpm` where `County Name` is 'Alameda', calculate the ratio, and find the maximum. But I need to ensure that `Enrollment (K-12)` is not zero to avoid division by zero. However, the question doesn't mention handling that, so maybe it's safe to proceed.\n",
      "\n",
      "So the steps are:\n",
      "\n",
      "1. Select from `frpm` where `County Name` = 'Alameda'.\n",
      "2. Calculate `Free Meal Count (K-12) / Enrollment (K-12)` as the eligible free rate.\n",
      "3. Find the maximum value of this rate.\n",
      "\n",
      "But I need to make sure that the columns are correctly referenced. The `frpm` table has `Free Meal Count (K-12)` and `Enrollment (K-12)` as columns. Also, the `County Name` is in `frpm`.\n",
      "\n",
      "So the SQL query would be:\n",
      "\n",
      "SELECT MAX(`Free Meal Count (K-12)` / `Enrollment (K-12)`) AS highest_eligible_free_rate\n",
      "FROM frpm\n",
      "WHERE `County Name` = 'Alameda';\n",
      "\n",
      "Wait, but what if there are schools with zero enrollment? The division would result in NULL or an error. However, the problem doesn't mention handling that, so perhaps it's acceptable. Also, the question might assume that the data is valid.\n",
      "\n",
      "But the user's question asks for the highest eligible free rate, so the query should return a single value. Using MAX on the calculated ratio would give the maximum.\n",
      "\n",
      "So the final SQL query should be as above.\n",
      "\n",
      "Final answer based om reasoning for this model:\n",
      "\n",
      "\n",
      "```\n",
      "-- Your SQL query\n",
      "SELECT MAX(`Free Meal Count (K-12)` / `Enrollment (K-12)`) FROM frpm WHERE `County Name` = 'Alameda';\n",
      "```\n",
      "\n",
      "model 4 analysis:\n",
      " Reasoning process:\n",
      "\n",
      "Okay, let's tackle this question. The user wants the highest eligible free rate for K-12 students in Alameda County. First, I need to figure out which tables and columns are relevant.\n",
      "\n",
      "The eligible free rate is calculated as Free Meal Count (K-12) divided by Enrollment (K-12). So I need to get those two values from the frpm table. But wait, the schools are in Alameda County, so I need to link the frpm table with the schools table to check the county.\n",
      "\n",
      "Looking at the tables, the frpm table has a County Name column, but the schools table has a County column. The frpm's CDSCode is a foreign key to schools' CDSCode. So I should join frpm with schools on CDSCode to get the county information.\n",
      "\n",
      "Wait, the question specifies Alameda County. So I need to filter where schools.County = 'Alameda'. But the frpm table has County Name, but maybe the schools table's County is more accurate. Let me check the tables again. The schools table has a County column, which is likely the correct one to use for filtering. So I should join frpm and schools on CDSCode, then filter where schools.County is 'Alameda'.\n",
      "\n",
      "Once I have the correct schools in Alameda County, I can calculate the eligible free rate as Free Meal Count divided by Enrollment. Then, I need to find the maximum value of that rate. So the SQL query should select the maximum of (Free Meal Count / Enrollment) from the joined tables where County is Alameda.\n",
      "\n",
      "Wait, but the columns in frpm are named with backticks because they have spaces. So in the query, I need to use `Free Meal Count (K-12)` and `Enrollment (K-12)`. Also, the schools table's County column is named County. So the join condition is frpm.CDSCode = schools.CDSCode.\n",
      "\n",
      "Putting it all together: join frpm and schools on CDSCode, filter where schools.County = 'Alameda', compute the ratio, and find the maximum. The final query would use MAX(`Free Meal Count (K-12)` / `Enrollment (K-12)`) as the select clause, joined with the schools table where County is Alameda. Make sure to handle possible nulls, but since the question is about schools in Alameda, maybe the data is present.\n",
      "\n",
      "Final answer based om reasoning for this model:\n",
      "\n",
      "\n",
      "```\n",
      "SELECT MAX(`Free Meal Count (K-12)` / `Enrollment (K-12)`) FROM frpm JOIN schools ON frpm.CDSCode = schools.CDSCode WHERE schools.County = 'Alameda';\n",
      "```\n",
      "\n",
      "model 5 analysis:\n",
      " Reasoning process:\n",
      "\n",
      "Okay, let's see. The user is asking for the highest eligible free rate for K-12 students in schools located in Alameda County. The eligible free rate is calculated as Free Meal Count (K-12) divided by Enrollment (K-12). \n",
      "\n",
      "First, I need to figure out which tables to use. The frpm table has the Free Meal Count (K-12) and Enrollment (K-12) columns. But the County Name is in the frpm table as `County Name`. So, I should join the frpm table with the schools table to get the county information. Wait, no, the schools table has a County column. Wait, the schools table's County column is directly the county name. Wait, the frpm table has `County Name`, but the schools table has County. Which one should I use? The question specifies Alameda County, so I need to check which table has the County Name. Let me check the tables again.\n",
      "\n",
      "Looking at the schools table, there's a County column. The frpm table has `County Name`. So maybe the schools table's County is the same as frpm's `County Name`. But since the schools table is linked via CDSCode, and frpm has a foreign key to schools, perhaps the County in schools is the same as `County Name` in frpm. But to be safe, maybe I should check which one has the county information. However, the user is asking about Alameda County. Let me think. The schools table has a County column, which is probably the county name. So, I can filter on schools.County = 'Alameda'.\n",
      "\n",
      "But wait, the frpm table has `County Name` as well. However, the schools table's County is a direct field. Since the frpm table is linked to schools via CDSCode, perhaps the County in schools is the same as `County Name` in frpm. But to avoid confusion, maybe I should use the schools table's County column. Because the schools table is the primary table with school details, and the frpm table might have redundant county info. But the user might have different data. However, the question is about the county, so I need to make sure which table's county field to use.\n",
      "\n",
      "Alternatively, maybe the frpm table's `County Name` is the correct one. But since the schools table is linked via CDSCode, and the County is in schools, perhaps the schools table is the source for the county. But without knowing the data structure, it's safer to check both. However, given that the user's question is about the county, perhaps the County in the schools table is the correct field. \n",
      "\n",
      "Wait, the question is about schools in Alameda County. So I need to find all schools where the county is Alameda. So, I need to filter the schools table where County = 'Alameda'. But the frpm table has `County Name`, but that's linked to schools. So perhaps the correct approach is to join frpm with schools on CDSCode, then filter schools.County = 'Alameda'.\n",
      "\n",
      "Alternatively, maybe the frpm table's `County Name` is sufficient, but if the schools table's County is more accurate, then I should use that. But since the schools table is the main table with school details, and frpm is linked to it, perhaps the County in schools is the correct column. \n",
      "\n",
      "So, the plan is: \n",
      "\n",
      "1. Join frpm with schools on CDSCode to get the county information. \n",
      "\n",
      "But wait, the frpm table has a foreign key to schools, so each frpm record is linked to a school. So, if I join frpm with schools on CDSCode, I can get the County from schools. \n",
      "\n",
      "Alternatively, the frpm table has a `County Name` column, which might be redundant. But if the user wants to use that, then perhaps it's in frpm. But the question is about schools in Alameda County. So, the County column in the schools table would be the correct one. \n",
      "\n",
      "So, to answer the question, the steps are:\n",
      "\n",
      "- Find all schools in Alameda County (using schools.County = 'Alameda').\n",
      "- For those schools, get the Free Meal Count (K-12) and Enrollment (K-12) from the frpm table.\n",
      "- Calculate the eligible free rate as Free Meal Count / Enrollment.\n",
      "- Find the maximum value of this rate.\n",
      "\n",
      "But how to join the tables? The frpm table has a foreign key to schools (CDSCode), so joining on CDSCode would link the frpm data to the school's county. \n",
      "\n",
      "So the SQL query would involve joining frpm with schools on CDSCode, then filtering where schools.County = 'Alameda', then computing the rate and finding the maximum.\n",
      "\n",
      "But the user's question is about the highest eligible free rate. So the SQL should select the maximum of (Free Meal Count (K-12) / Enrollment (K-12)) where the county is Alameda.\n",
      "\n",
      "So the query would be:\n",
      "\n",
      "SELECT MAX(`Free Meal Count (K-12)` / `Enrollment (K-12)`) AS MaxEligibleFreeRate\n",
      "FROM frpm\n",
      "JOIN schools ON frpm.CDSCode = schools.CDSCode\n",
      "WHERE schools.County = 'Alameda';\n",
      "\n",
      "But wait, the frpm table has `Free Meal Count (K-12)` and `Enrollment (K-12)` columns. So yes.\n",
      "\n",
      "But need to check if there are any null values. For example, if Enrollment (K-12) is zero, division by zero would be an error. But the question probably assumes that enrollment is not zero. Alternatively, the data may have non-null values. Assuming that the data is clean, the query can proceed.\n",
      "\n",
      "Thus, the correct SQL is as above.\n",
      "\n",
      "Final answer based om reasoning for this model:\n",
      "\n",
      "\n",
      "```\n",
      "SELECT MAX(`Free Meal Count (K-12)` / `Enrollment (K-12)`) FROM frpm JOIN schools ON frpm.CDSCode = schools.CDSCode WHERE schools.County = 'Alameda';\n",
      "```\n",
      "\n",
      "model 6 analysis:\n",
      " Reasoning process:\n",
      "\n",
      "Okay, let's tackle this question. The user wants the highest eligible free rate for K-12 students in schools located in Alameda County. \n",
      "\n",
      "First, I need to figure out which tables to use. The frpm table has the necessary columns for calculating the eligible free rate. The 'Free Meal Count (K-12)' and 'Enrollment (K-12)' are both in the frpm table. But I also need to filter schools in Alameda County. The schools table has a 'County' column, so I need to join frpm with schools on CDSCode to get the county information.\n",
      "\n",
      "Wait, the frpm table has a foreign key to schools.CDSCode, so joining them on CDSCode makes sense. So the plan is to join frpm and schools on CDSCode, filter where schools.County is 'Alameda', then calculate the eligible free rate as (Free Meal Count / Enrollment). Then find the maximum of that value.\n",
      "\n",
      "But I need to make sure that Enrollment isn't zero to avoid division by zero. However, the problem might assume that enrollment is non-zero. Let's proceed.\n",
      "\n",
      "So the SQL query would select the max of (Free Meal Count / Enrollment) from frpm joined with schools where County is 'Alameda'. But the columns are named with spaces, so I need to use quotes. Also, the column names in the frpm table are `Free Meal Count (K-12)` and `Enrollment (K-12)`. \n",
      "\n",
      "Wait, the schools table's County column is named 'County', so the join condition is on frpm.CDSCode = schools.CDSCode. Then, the WHERE clause is schools.County = 'Alameda'. \n",
      "\n",
      "The final query would select the maximum value of (`Free Meal Count (K-12)` / `Enrollment (K-12)`) from the joined tables where County is Alameda. I should use ROUND or cast to avoid floating point issues, but the question doesn't specify, so just calculate the max.\n",
      "\n",
      "So the SQL would be:\n",
      "\n",
      "SELECT MAX(`Free Meal Count (K-12)` / `Enrollment (K-12)`) AS highest_rate\n",
      "FROM frpm\n",
      "JOIN schools ON frpm.CDSCode = schools.CDSCode\n",
      "WHERE schools.County = 'Alameda';\n",
      "\n",
      "Wait, but the frpm table's columns are `Free Meal Count (K-12)` and `Enrollment (K-12)`. So that's correct. Also, checking if the join is correct. The foreign key in frpm references schools.CDSCode, so the join is valid. \n",
      "\n",
      "Yes, that should do it. Make sure to use the correct column names with quotes and the join condition. The answer should be the maximum value of that ratio where the county is Alameda.\n",
      "\n",
      "Final answer based om reasoning for this model:\n",
      "\n",
      "\n",
      "```\n",
      "SELECT MAX(`Free Meal Count (K-12)` / `Enrollment (K-12)`) FROM frpm JOIN schools ON frpm.CDSCode = schools.CDSCode WHERE schools.County = 'Alameda';\n",
      "```\n",
      "\n",
      "\n",
      "here is avaliable tables below\n",
      "\n",
      "\n",
      "Table: frpm\n",
      "CREATE TABLE frpm\n",
      "(\n",
      "    CDSCode                                       TEXT not null\n",
      "        primary key,\n",
      "    `Academic Year`                               TEXT  null,\n",
      "    `County Code`                                 TEXT  null,\n",
      "    `District Code`                               INTEGER         null,\n",
      "    `School Code`                                 TEXT  null,\n",
      "    `County Name`                                 TEXT null,\n",
      "    `District Name`                               TEXT null,\n",
      "    `School Name`                                 TEXT null,\n",
      "    `District Type`                               TEXT null,\n",
      "    `School Type`                                 TEXT null,\n",
      "    `Educational Option Type`                     TEXT null,\n",
      "    `NSLP Provision Status`                       TEXT null,\n",
      "    `Charter School (Y/N)`                        INTEGER    null,\n",
      "    `Charter School Number`                       TEXT  null,\n",
      "    `Charter Funding Type`                        TEXT null,\n",
      "    IRC                                           INTEGER    null,\n",
      "    `Low Grade`                                   TEXT  null,\n",
      "    `High Grade`                                  TEXT null,\n",
      "    `Enrollment (K-12)`                           REAL      null,\n",
      "    `Free Meal Count (K-12)`                      REAL       null,\n",
      "    `Percent (%) Eligible Free (K-12)`            REAL       null,\n",
      "    `FRPM Count (K-12)`                           REAL       null,\n",
      "    `Percent (%) Eligible FRPM (K-12)`            REAL       null,\n",
      "    `Enrollment (Ages 5-17)`                      REAL       null,\n",
      "    `Free Meal Count (Ages 5-17)`                 REAL       null,\n",
      "    `Percent (%) Eligible Free (Ages 5-17)`       REAL       null,\n",
      "    `FRPM Count (Ages 5-17)`                      REAL       null,\n",
      "    `Percent (%) Eligible FRPM (Ages 5-17)`       REAL       null,\n",
      "    `2013-14 CALPADS Fall 1 Certification Status` INTEGER    null,\n",
      "    foreign key (CDSCode) references schools (CDSCode)\n",
      ")\n",
      "\n",
      "Table: satscores\n",
      "CREATE TABLE satscores\n",
      "(\n",
      "    cds         TEXT not null\n",
      "        primary key,\n",
      "    rtype       TEXT  not null,\n",
      "    sname       TEXT null,\n",
      "    dname       TEXT null,\n",
      "    cname       TEXT null,\n",
      "    enroll12    INTEGER         not null,\n",
      "    NumTstTakr  INTEGER          not null,\n",
      "    AvgScrRead  INTEGER          null,\n",
      "    AvgScrMath  INTEGER          null,\n",
      "    AvgScrWrite INTEGER          null,\n",
      "    NumGE1500   INTEGER          null,\n",
      "--     PctGE1500   double      null,\n",
      "        foreign key (cds) references schools (CDSCode)\n",
      ")\n",
      "\n",
      "Table: schools\n",
      "CREATE TABLE schools\n",
      "(\n",
      "    CDSCode     TEXT not null\n",
      "        primary key,\n",
      "    NCESDist    TEXT  null,\n",
      "    NCESSchool  TEXT  null,\n",
      "    StatusType  TEXT  not null,\n",
      "    County      TEXT not null,\n",
      "    District    TEXT not null,\n",
      "    School      TEXT null,\n",
      "    Street      TEXT null,\n",
      "    StreetAbr   TEXT null,\n",
      "    City        TEXT null,\n",
      "    Zip         TEXT null,\n",
      "    State       TEXT  null,\n",
      "    MailStreet  TEXT null,\n",
      "    MailStrAbr  TEXT null,\n",
      "    MailCity    TEXT null,\n",
      "    MailZip     TEXT null,\n",
      "    MailState   TEXT  null,\n",
      "    Phone       TEXT null,\n",
      "    Ext         TEXT  null,\n",
      "    Website     TEXT null,\n",
      "    OpenDate    DATE        null,\n",
      "    ClosedDate  DATE        null,\n",
      "    Charter     INTEGER    null,\n",
      "    CharterNum  TEXT  null,\n",
      "    FundingType TEXT null,\n",
      "    DOC         TEXT  not null,\n",
      "    DOCType     TEXT not null,\n",
      "    SOC         TEXT  null,\n",
      "    SOCType     TEXT null,\n",
      "    EdOpsCode   TEXT  null,\n",
      "    EdOpsName   TEXT null,\n",
      "    EILCode     TEXT  null,\n",
      "    EILName     TEXT null,\n",
      "    GSoffered   TEXT null,\n",
      "    GSserved    TEXT  null,\n",
      "    Virtual     TEXT  null,\n",
      "    Magnet      INTEGER   null,\n",
      "    Latitude    REAL      null,\n",
      "    Longitude   REAL      null,\n",
      "    AdmFName1   TEXT null,\n",
      "    AdmLName1   TEXT null,\n",
      "    AdmEmail1   TEXT null,\n",
      "    AdmFName2   TEXT null,\n",
      "    AdmLName2   TEXT null,\n",
      "    AdmEmail2   TEXT null,\n",
      "    AdmFName3   TEXT  null,\n",
      "    AdmLName3   TEXT null,\n",
      "    AdmEmail3   TEXT null,\n",
      "    LastUpdate  DATE        not null\n",
      ")\n",
      "\n",
      "-- Using valid SQLite and understanding External Knowledge, answer the following questions for the tables provided above.\n",
      "-- What is the highest eligible free rate for K-12 students in the schools in Alameda County?\n",
      "-- External Knowledge: Eligible free rate for K-12 = `Free Meal Count (K-12)` / `Enrollment (K-12)`\n",
      "\n",
      "\n",
      "Generate the SQLite for the above question after thinking step by step: \n",
      "\n",
      "\n",
      "Instructions:\n",
      "- Make sure you only output the information that is asked in the question. If the question asks for a specific column, make sure to only include that column in the SELECT clause, nothing more.\n",
      "- The generated query should return all of the information asked in the question without any missing or extra information.\n",
      "- Before generating the final SQL query, please think through the steps of how to write the query.\n",
      "- Do not misuse column names, keep them in quotes `\n",
      "- Carefully understand what colomns belond to what tables\n",
      "- Use only initial column names, change names prohibited\n",
      "        \n",
      "Output Format:\n",
      "In your answer, please enclose the generated SQL query in a code block:\n",
      "```\n",
      "-- Your SQL query\n",
      "```    \n",
      "and nothing else, no exaplains, no comments (asnwer should be less than 512 characters)\n",
      "\n",
      "Take a deep breath and think step by step to find the correct SQL query in SQLite format.\n",
      "\n",
      "Question repetition: What is the highest eligible free rate for K-12 students in the schools in Alameda County?\n",
      "\n",
      "Be care! Include only what i want it questiona and nothing else<|im_end|>\n",
      "<|im_start|>assistant\n",
      "<think>\n",
      "\n",
      "</think>\n",
      "\n",
      "\n",
      "\n",
      "\n",
      "Максимальное количество токенов в промптах: 32704\n",
      "\n",
      "начинаем скорринг\n",
      "Загружаем чаты с данными...\n",
      "Данные успешно загружены\n",
      "Начали генерацию SQL запросов\n"
     ]
    },
    {
     "name": "stderr",
     "output_type": "stream",
     "text": [
      "Processed prompts: 100%|██████████| 1534/1534 [05:23<00:00,  4.75it/s, est. speed input: 37522.04 toks/s, output: 227.35 toks/s]"
     ]
    },
    {
     "name": "stdout",
     "output_type": "stream",
     "text": [
      "extract_think количество ошибок:  0\n",
      "extract_sql количество ошибок:  0\n",
      "Закончили генерацию SQL запросов\n",
      "Начали скорр полученных SQL запросов\n"
     ]
    },
    {
     "name": "stderr",
     "output_type": "stream",
     "text": [
      "\n"
     ]
    },
    {
     "name": "stdout",
     "output_type": "stream",
     "text": [
      "Qwen3-8B DEV Финальный результат EX: 57.69\n",
      "Qwen3-8B процент запросов, которые успешно выполнились DEV: 95.18%\n",
      "====================================================================================================\n",
      "\n",
      "\n",
      "Загружаем чаты с данными...\n",
      "Данные успешно загружены\n",
      "Начали генерацию SQL запросов\n"
     ]
    },
    {
     "name": "stderr",
     "output_type": "stream",
     "text": [
      "Processed prompts: 100%|██████████| 1534/1534 [05:30<00:00,  4.64it/s, est. speed input: 36980.60 toks/s, output: 221.90 toks/s]"
     ]
    },
    {
     "name": "stdout",
     "output_type": "stream",
     "text": [
      "extract_think количество ошибок:  0\n",
      "extract_sql количество ошибок:  0\n",
      "Закончили генерацию SQL запросов\n",
      "Начали скорр полученных SQL запросов\n"
     ]
    },
    {
     "name": "stderr",
     "output_type": "stream",
     "text": [
      "\n"
     ]
    },
    {
     "name": "stdout",
     "output_type": "stream",
     "text": [
      "Qwen3-8B DEV Финальный результат EX: 57.95\n",
      "Qwen3-8B процент запросов, которые успешно выполнились DEV: 95.50%\n",
      "====================================================================================================\n",
      "\n",
      "\n",
      "Загружаем чаты с данными...\n",
      "Данные успешно загружены\n",
      "Начали генерацию SQL запросов\n"
     ]
    },
    {
     "name": "stderr",
     "output_type": "stream",
     "text": [
      "Processed prompts: 100%|██████████| 1534/1534 [05:32<00:00,  4.62it/s, est. speed input: 36866.13 toks/s, output: 222.21 toks/s]"
     ]
    },
    {
     "name": "stdout",
     "output_type": "stream",
     "text": [
      "extract_think количество ошибок:  0\n",
      "extract_sql количество ошибок:  0\n",
      "Закончили генерацию SQL запросов\n",
      "Начали скорр полученных SQL запросов\n"
     ]
    },
    {
     "name": "stderr",
     "output_type": "stream",
     "text": [
      "\n"
     ]
    },
    {
     "name": "stdout",
     "output_type": "stream",
     "text": [
      "Qwen3-8B DEV Финальный результат EX: 57.43\n",
      "Qwen3-8B процент запросов, которые успешно выполнились DEV: 95.50%\n",
      "====================================================================================================\n",
      "\n",
      "\n",
      "Загружаем чаты с данными...\n",
      "Данные успешно загружены\n",
      "Начали генерацию SQL запросов\n"
     ]
    },
    {
     "name": "stderr",
     "output_type": "stream",
     "text": [
      "Processed prompts: 100%|██████████| 1534/1534 [05:26<00:00,  4.70it/s, est. speed input: 37315.44 toks/s, output: 223.47 toks/s]"
     ]
    },
    {
     "name": "stdout",
     "output_type": "stream",
     "text": [
      "extract_think количество ошибок:  0\n",
      "extract_sql количество ошибок:  0\n",
      "Закончили генерацию SQL запросов\n",
      "Начали скорр полученных SQL запросов\n"
     ]
    },
    {
     "name": "stderr",
     "output_type": "stream",
     "text": [
      "\n"
     ]
    },
    {
     "name": "stdout",
     "output_type": "stream",
     "text": [
      "Qwen3-8B DEV Финальный результат EX: 58.34\n",
      "Qwen3-8B процент запросов, которые успешно выполнились DEV: 96.09%\n",
      "====================================================================================================\n",
      "\n",
      "\n",
      "Загружаем чаты с данными...\n",
      "Данные успешно загружены\n",
      "Начали генерацию SQL запросов\n"
     ]
    },
    {
     "name": "stderr",
     "output_type": "stream",
     "text": [
      "Processed prompts: 100%|██████████| 1534/1534 [05:30<00:00,  4.65it/s, est. speed input: 36981.88 toks/s, output: 221.90 toks/s]"
     ]
    },
    {
     "name": "stdout",
     "output_type": "stream",
     "text": [
      "extract_think количество ошибок:  0\n",
      "extract_sql количество ошибок:  0\n",
      "Закончили генерацию SQL запросов\n",
      "Начали скорр полученных SQL запросов\n"
     ]
    },
    {
     "name": "stderr",
     "output_type": "stream",
     "text": [
      "\n"
     ]
    },
    {
     "name": "stdout",
     "output_type": "stream",
     "text": [
      "Qwen3-8B DEV Финальный результат EX: 57.11\n",
      "Qwen3-8B процент запросов, которые успешно выполнились DEV: 96.35%\n",
      "====================================================================================================\n",
      "\n",
      "\n",
      "Загружаем чаты с данными...\n",
      "Данные успешно загружены\n",
      "Начали генерацию SQL запросов\n"
     ]
    },
    {
     "name": "stderr",
     "output_type": "stream",
     "text": [
      "Processed prompts: 100%|██████████| 1534/1534 [05:30<00:00,  4.64it/s, est. speed input: 36938.97 toks/s, output: 222.53 toks/s]"
     ]
    },
    {
     "name": "stdout",
     "output_type": "stream",
     "text": [
      "extract_think количество ошибок:  0\n",
      "extract_sql количество ошибок:  0\n",
      "Закончили генерацию SQL запросов\n",
      "Начали скорр полученных SQL запросов\n"
     ]
    },
    {
     "name": "stderr",
     "output_type": "stream",
     "text": [
      "\n"
     ]
    },
    {
     "name": "stdout",
     "output_type": "stream",
     "text": [
      "Qwen3-8B DEV Финальный результат EX: 58.02\n",
      "Qwen3-8B процент запросов, которые успешно выполнились DEV: 96.02%\n",
      "====================================================================================================\n",
      "\n",
      "\n",
      "Загружаем чаты с данными...\n",
      "Данные успешно загружены\n",
      "Начали генерацию SQL запросов\n"
     ]
    },
    {
     "name": "stderr",
     "output_type": "stream",
     "text": [
      "Processed prompts: 100%|██████████| 1534/1534 [05:29<00:00,  4.65it/s, est. speed input: 37233.60 toks/s, output: 224.13 toks/s]"
     ]
    },
    {
     "name": "stdout",
     "output_type": "stream",
     "text": [
      "extract_think количество ошибок:  0\n",
      "extract_sql количество ошибок:  0\n",
      "Закончили генерацию SQL запросов\n",
      "Начали скорр полученных SQL запросов\n"
     ]
    },
    {
     "name": "stderr",
     "output_type": "stream",
     "text": [
      "\n"
     ]
    },
    {
     "name": "stdout",
     "output_type": "stream",
     "text": [
      "Qwen3-8B DEV Финальный результат EX: 57.43\n",
      "Qwen3-8B процент запросов, которые успешно выполнились DEV: 96.22%\n",
      "====================================================================================================\n",
      "\n",
      "\n",
      "Загружаем чаты с данными...\n",
      "Данные успешно загружены\n",
      "Начали генерацию SQL запросов\n"
     ]
    },
    {
     "name": "stderr",
     "output_type": "stream",
     "text": [
      "Processed prompts: 100%|██████████| 1534/1534 [05:32<00:00,  4.62it/s, est. speed input: 36943.59 toks/s, output: 221.92 toks/s]"
     ]
    },
    {
     "name": "stdout",
     "output_type": "stream",
     "text": [
      "extract_think количество ошибок:  0\n",
      "extract_sql количество ошибок:  0\n",
      "Закончили генерацию SQL запросов\n",
      "Начали скорр полученных SQL запросов\n"
     ]
    },
    {
     "name": "stderr",
     "output_type": "stream",
     "text": [
      "\n"
     ]
    },
    {
     "name": "stdout",
     "output_type": "stream",
     "text": [
      "Qwen3-8B DEV Финальный результат EX: 57.63\n",
      "Qwen3-8B процент запросов, которые успешно выполнились DEV: 96.02%\n",
      "====================================================================================================\n",
      "\n",
      "\n",
      "Загружаем чаты с данными...\n",
      "Данные успешно загружены\n",
      "Начали генерацию SQL запросов\n"
     ]
    },
    {
     "name": "stderr",
     "output_type": "stream",
     "text": [
      "Processed prompts: 100%|██████████| 1534/1534 [05:22<00:00,  4.75it/s, est. speed input: 37714.94 toks/s, output: 222.86 toks/s]"
     ]
    },
    {
     "name": "stdout",
     "output_type": "stream",
     "text": [
      "extract_think количество ошибок:  0\n",
      "extract_sql количество ошибок:  0\n",
      "Закончили генерацию SQL запросов\n",
      "Начали скорр полученных SQL запросов\n"
     ]
    },
    {
     "name": "stderr",
     "output_type": "stream",
     "text": [
      "\n"
     ]
    },
    {
     "name": "stdout",
     "output_type": "stream",
     "text": [
      "Qwen3-8B DEV Финальный результат EX: 57.50\n",
      "Qwen3-8B процент запросов, которые успешно выполнились DEV: 95.57%\n",
      "====================================================================================================\n",
      "\n",
      "\n",
      "Загружаем чаты с данными...\n",
      "Данные успешно загружены\n",
      "Начали генерацию SQL запросов\n"
     ]
    },
    {
     "name": "stderr",
     "output_type": "stream",
     "text": [
      "Processed prompts: 100%|██████████| 1534/1534 [05:25<00:00,  4.71it/s, est. speed input: 37244.34 toks/s, output: 223.58 toks/s]"
     ]
    },
    {
     "name": "stdout",
     "output_type": "stream",
     "text": [
      "extract_think количество ошибок:  0\n",
      "extract_sql количество ошибок:  0\n",
      "Закончили генерацию SQL запросов\n",
      "Начали скорр полученных SQL запросов\n"
     ]
    },
    {
     "name": "stderr",
     "output_type": "stream",
     "text": [
      "\n"
     ]
    },
    {
     "name": "stdout",
     "output_type": "stream",
     "text": [
      "Qwen3-8B DEV Финальный результат EX: 57.69\n",
      "Qwen3-8B процент запросов, которые успешно выполнились DEV: 96.61%\n",
      "====================================================================================================\n",
      "\n",
      "\n",
      "Загружаем чаты с данными...\n",
      "Данные успешно загружены\n",
      "Начали генерацию SQL запросов\n"
     ]
    },
    {
     "name": "stderr",
     "output_type": "stream",
     "text": [
      "Processed prompts: 100%|██████████| 1534/1534 [05:27<00:00,  4.68it/s, est. speed input: 37002.16 toks/s, output: 226.27 toks/s]"
     ]
    },
    {
     "name": "stdout",
     "output_type": "stream",
     "text": [
      "extract_think количество ошибок:  0\n",
      "extract_sql количество ошибок:  0\n",
      "Закончили генерацию SQL запросов\n",
      "Начали скорр полученных SQL запросов\n"
     ]
    },
    {
     "name": "stderr",
     "output_type": "stream",
     "text": [
      "\n"
     ]
    },
    {
     "name": "stdout",
     "output_type": "stream",
     "text": [
      "Qwen3-8B DEV Финальный результат EX: 57.82\n",
      "Qwen3-8B процент запросов, которые успешно выполнились DEV: 96.09%\n",
      "====================================================================================================\n",
      "\n",
      "\n",
      "Загружаем чаты с данными...\n",
      "Данные успешно загружены\n",
      "Начали генерацию SQL запросов\n"
     ]
    },
    {
     "name": "stderr",
     "output_type": "stream",
     "text": [
      "Processed prompts: 100%|██████████| 1534/1534 [05:30<00:00,  4.64it/s, est. speed input: 36747.56 toks/s, output: 225.44 toks/s]"
     ]
    },
    {
     "name": "stdout",
     "output_type": "stream",
     "text": [
      "extract_think количество ошибок:  0\n",
      "extract_sql количество ошибок:  0\n",
      "Закончили генерацию SQL запросов\n",
      "Начали скорр полученных SQL запросов\n"
     ]
    },
    {
     "name": "stderr",
     "output_type": "stream",
     "text": [
      "\n"
     ]
    },
    {
     "name": "stdout",
     "output_type": "stream",
     "text": [
      "Qwen3-8B DEV Финальный результат EX: 57.69\n",
      "Qwen3-8B процент запросов, которые успешно выполнились DEV: 96.02%\n",
      "====================================================================================================\n",
      "\n",
      "\n",
      "Загружаем чаты с данными...\n",
      "Данные успешно загружены\n",
      "Начали генерацию SQL запросов\n"
     ]
    },
    {
     "name": "stderr",
     "output_type": "stream",
     "text": [
      "Processed prompts: 100%|██████████| 1534/1534 [05:25<00:00,  4.71it/s, est. speed input: 37136.26 toks/s, output: 228.14 toks/s]"
     ]
    },
    {
     "name": "stdout",
     "output_type": "stream",
     "text": [
      "extract_think количество ошибок:  0\n",
      "extract_sql количество ошибок:  0\n",
      "Закончили генерацию SQL запросов\n",
      "Начали скорр полученных SQL запросов\n"
     ]
    },
    {
     "name": "stderr",
     "output_type": "stream",
     "text": [
      "\n"
     ]
    },
    {
     "name": "stdout",
     "output_type": "stream",
     "text": [
      "Qwen3-8B DEV Финальный результат EX: 57.24\n",
      "Qwen3-8B процент запросов, которые успешно выполнились DEV: 96.15%\n",
      "====================================================================================================\n",
      "\n",
      "\n",
      "Загружаем чаты с данными...\n",
      "Данные успешно загружены\n",
      "Начали генерацию SQL запросов\n"
     ]
    },
    {
     "name": "stderr",
     "output_type": "stream",
     "text": [
      "Processed prompts: 100%|██████████| 1534/1534 [05:26<00:00,  4.70it/s, est. speed input: 36970.50 toks/s, output: 225.29 toks/s]"
     ]
    },
    {
     "name": "stdout",
     "output_type": "stream",
     "text": [
      "extract_think количество ошибок:  0\n",
      "extract_sql количество ошибок:  0\n",
      "Закончили генерацию SQL запросов\n",
      "Начали скорр полученных SQL запросов\n"
     ]
    },
    {
     "name": "stderr",
     "output_type": "stream",
     "text": [
      "\n"
     ]
    },
    {
     "name": "stdout",
     "output_type": "stream",
     "text": [
      "Qwen3-8B DEV Финальный результат EX: 57.69\n",
      "Qwen3-8B процент запросов, которые успешно выполнились DEV: 96.02%\n",
      "====================================================================================================\n",
      "\n",
      "\n",
      "Загружаем чаты с данными...\n",
      "Данные успешно загружены\n",
      "Начали генерацию SQL запросов\n"
     ]
    },
    {
     "name": "stderr",
     "output_type": "stream",
     "text": [
      "Processed prompts: 100%|██████████| 1534/1534 [05:25<00:00,  4.71it/s, est. speed input: 36994.33 toks/s, output: 226.15 toks/s]"
     ]
    },
    {
     "name": "stdout",
     "output_type": "stream",
     "text": [
      "extract_think количество ошибок:  0\n",
      "extract_sql количество ошибок:  0\n",
      "Закончили генерацию SQL запросов\n",
      "Начали скорр полученных SQL запросов\n"
     ]
    },
    {
     "name": "stderr",
     "output_type": "stream",
     "text": [
      "\n"
     ]
    },
    {
     "name": "stdout",
     "output_type": "stream",
     "text": [
      "Qwen3-8B DEV Финальный результат EX: 57.50\n",
      "Qwen3-8B процент запросов, которые успешно выполнились DEV: 95.31%\n",
      "====================================================================================================\n",
      "\n",
      "\n",
      "Загружаем чаты с данными...\n",
      "Данные успешно загружены\n",
      "Начали генерацию SQL запросов\n"
     ]
    },
    {
     "name": "stderr",
     "output_type": "stream",
     "text": [
      "Processed prompts: 100%|██████████| 1534/1534 [05:25<00:00,  4.71it/s, est. speed input: 37101.27 toks/s, output: 224.37 toks/s]"
     ]
    },
    {
     "name": "stdout",
     "output_type": "stream",
     "text": [
      "extract_think количество ошибок:  0\n",
      "extract_sql количество ошибок:  0\n",
      "Закончили генерацию SQL запросов\n",
      "Начали скорр полученных SQL запросов\n"
     ]
    },
    {
     "name": "stderr",
     "output_type": "stream",
     "text": [
      "\n"
     ]
    },
    {
     "name": "stdout",
     "output_type": "stream",
     "text": [
      "Qwen3-8B DEV Финальный результат EX: 58.28\n",
      "Qwen3-8B процент запросов, которые успешно выполнились DEV: 95.70%\n",
      "====================================================================================================\n",
      "\n",
      "\n",
      "Загружаем чаты с данными...\n",
      "Данные успешно загружены\n",
      "Начали генерацию SQL запросов\n"
     ]
    },
    {
     "name": "stderr",
     "output_type": "stream",
     "text": [
      "Processed prompts: 100%|██████████| 1534/1534 [05:22<00:00,  4.76it/s, est. speed input: 37545.66 toks/s, output: 229.87 toks/s]"
     ]
    },
    {
     "name": "stdout",
     "output_type": "stream",
     "text": [
      "extract_think количество ошибок:  0\n",
      "extract_sql количество ошибок:  0\n",
      "Закончили генерацию SQL запросов\n",
      "Начали скорр полученных SQL запросов\n"
     ]
    },
    {
     "name": "stderr",
     "output_type": "stream",
     "text": [
      "\n"
     ]
    },
    {
     "name": "stdout",
     "output_type": "stream",
     "text": [
      "Qwen3-8B DEV Финальный результат EX: 57.69\n",
      "Qwen3-8B процент запросов, которые успешно выполнились DEV: 95.70%\n",
      "====================================================================================================\n",
      "\n",
      "\n",
      "Загружаем чаты с данными...\n",
      "Данные успешно загружены\n",
      "Начали генерацию SQL запросов\n"
     ]
    },
    {
     "name": "stderr",
     "output_type": "stream",
     "text": [
      "Processed prompts: 100%|██████████| 1534/1534 [05:23<00:00,  4.74it/s, est. speed input: 37574.20 toks/s, output: 226.57 toks/s]"
     ]
    },
    {
     "name": "stdout",
     "output_type": "stream",
     "text": [
      "extract_think количество ошибок:  0\n",
      "extract_sql количество ошибок:  0\n",
      "Закончили генерацию SQL запросов\n",
      "Начали скорр полученных SQL запросов\n"
     ]
    },
    {
     "name": "stderr",
     "output_type": "stream",
     "text": [
      "\n"
     ]
    },
    {
     "name": "stdout",
     "output_type": "stream",
     "text": [
      "Qwen3-8B DEV Финальный результат EX: 57.95\n",
      "Qwen3-8B процент запросов, которые успешно выполнились DEV: 95.89%\n",
      "====================================================================================================\n",
      "\n",
      "\n",
      "Загружаем чаты с данными...\n",
      "Данные успешно загружены\n",
      "Начали генерацию SQL запросов\n"
     ]
    },
    {
     "name": "stderr",
     "output_type": "stream",
     "text": [
      "Processed prompts: 100%|██████████| 1534/1534 [05:25<00:00,  4.71it/s, est. speed input: 37323.48 toks/s, output: 224.02 toks/s]"
     ]
    },
    {
     "name": "stdout",
     "output_type": "stream",
     "text": [
      "extract_think количество ошибок:  0\n",
      "extract_sql количество ошибок:  0\n",
      "Закончили генерацию SQL запросов\n",
      "Начали скорр полученных SQL запросов\n"
     ]
    },
    {
     "name": "stderr",
     "output_type": "stream",
     "text": [
      "\n"
     ]
    },
    {
     "name": "stdout",
     "output_type": "stream",
     "text": [
      "Qwen3-8B DEV Финальный результат EX: 57.69\n",
      "Qwen3-8B процент запросов, которые успешно выполнились DEV: 96.22%\n",
      "====================================================================================================\n",
      "\n",
      "\n",
      "Загружаем чаты с данными...\n",
      "Данные успешно загружены\n",
      "Начали генерацию SQL запросов\n"
     ]
    },
    {
     "name": "stderr",
     "output_type": "stream",
     "text": [
      "Processed prompts: 100%|██████████| 1534/1534 [05:25<00:00,  4.72it/s, est. speed input: 37261.27 toks/s, output: 227.69 toks/s]"
     ]
    },
    {
     "name": "stdout",
     "output_type": "stream",
     "text": [
      "extract_think количество ошибок:  0\n",
      "extract_sql количество ошибок:  0\n",
      "Закончили генерацию SQL запросов\n",
      "Начали скорр полученных SQL запросов\n"
     ]
    },
    {
     "name": "stderr",
     "output_type": "stream",
     "text": [
      "\n"
     ]
    },
    {
     "name": "stdout",
     "output_type": "stream",
     "text": [
      "Qwen3-8B DEV Финальный результат EX: 57.69\n",
      "Qwen3-8B процент запросов, которые успешно выполнились DEV: 95.44%\n",
      "====================================================================================================\n",
      "\n",
      "\n"
     ]
    }
   ],
   "source": [
    "run_cot_experiment(model,arr_seeds,arr_versions, type_cot,num_observations=num_observations)"
   ]
  },
  {
   "cell_type": "markdown",
   "id": "87878e5f-093d-453a-9788-03dc8dd66798",
   "metadata": {},
   "source": [
    "# part2: answer"
   ]
  },
  {
   "cell_type": "code",
   "execution_count": 15,
   "id": "bceafaae-0c5b-4fb9-a4f9-91e86a81a4fc",
   "metadata": {},
   "outputs": [
    {
     "name": "stdout",
     "output_type": "stream",
     "text": [
      "[302, 601, 709, 951, 698, 439, 370, 277, 4, 985, 649, 471, 475, 305, 672, 726, 993, 527, 17, 622]\n",
      "model: Qwen3-8B\n"
     ]
    }
   ],
   "source": [
    "n= 20\n",
    "arr_seeds = [random.randint(0,1000) for _ in range(n)]\n",
    "arr_versions = [x for x in range(n)]\n",
    "model = \"Qwen3-8B\"\n",
    "num_observations = 2\n",
    "type_cot = 'predict'\n",
    "print(arr_seeds)\n",
    "print(f\"model: {model}\")"
   ]
  },
  {
   "cell_type": "code",
   "execution_count": 16,
   "id": "612ac94a-93c5-4681-978d-f7322871fb25",
   "metadata": {
    "scrolled": true
   },
   "outputs": [
    {
     "name": "stdout",
     "output_type": "stream",
     "text": [
      "Загружаем модель...\n"
     ]
    },
    {
     "name": "stderr",
     "output_type": "stream",
     "text": [
      "Loading safetensors checkpoint shards:   0% Completed | 0/4 [00:00<?, ?it/s]\n",
      "Loading safetensors checkpoint shards:  25% Completed | 1/4 [00:00<00:00,  8.51it/s]\n",
      "Loading safetensors checkpoint shards:  50% Completed | 2/4 [00:00<00:00,  2.55it/s]\n",
      "Loading safetensors checkpoint shards:  75% Completed | 3/4 [00:01<00:00,  1.81it/s]\n",
      "Loading safetensors checkpoint shards: 100% Completed | 4/4 [00:02<00:00,  1.61it/s]\n",
      "Loading safetensors checkpoint shards: 100% Completed | 4/4 [00:02<00:00,  1.84it/s]\n",
      "\u001b[1;36m(VllmWorker rank=0 pid=4100264)\u001b[0;0m \n"
     ]
    },
    {
     "name": "stdout",
     "output_type": "stream",
     "text": [
      "Модель успешно загружена\n",
      "model_config {'model': '/data/home/vkropoti/models/Qwen3-8B', 'tensor_parallel_size': 2, 'max_model_len': 40000, 'max_new_tokens': 1500, 'temperature': 0, 'top_k': 1, 'top_p': 0.8, 'gpu_memory_utilization': 0.9, 'trust_remote_code': False, 'seed': 302}\n",
      "\n",
      "prompts_config {'path_dev_json': '/home/vkropoti/vllm/dev.json', 'path_sql_dbs': '/data/home/vkropoti/sql_data/dev_databases/', 'use_reasoning': False, 'paths_to_cot': ['/data/home/vkropoti/sql_llm_answers/bird_dev/sql_predict_Qwen3-8B-reasoning-v0', '/data/home/vkropoti/sql_llm_answers/bird_dev/sql_predict_Qwen3-8B-reasoning-v1']}\n",
      "\n",
      "save_config {'path_sql_save': '/data/home/vkropoti/sql_llm_answers/bird_dev/sql_all_Qwen3-8B-cot_predict_think==False_nobs2-v0', 'path_think_save': None, 'path_sql_answers_save': '/data/home/vkropoti/sql_llm_answers/bird_dev/sql_predict_Qwen3-8B-cot_predict_think==False_nobs2-v0', 'path_to_save_scores': '/data/home/vkropoti/sql_llm_answers/bird_dev/sql_results_Qwen3-8B-cot_predict_think==False_nobs2-v0', 'path_to_save_executed': '/data/home/vkropoti/sql_llm_answers/bird_dev/sql_executed_Qwen3-8B-cot_predict_think==False_nobs2-v0'}\n",
      "\n",
      "Модель успешно загружена\n",
      "Пример промпта\n",
      "<|im_start|>system\n",
      "\n",
      "You are a data science expert. Below, you are provided with a database schema and a natural language question. Your task is to understand the schema and generate a valid SQL query to answer the question.\n",
      "\n",
      "Database Engine: SQLite\n",
      "\n",
      "You will be given an additional analysis of other models, please take it into account, so the plan is\n",
      "1. Analyse given addition analysis from other models (find in which analysis the same and differ, how to use that to answer question)\n",
      "2. Combine best from previous part and think how to solve the problem (analyze tables, take care what columns avaliable in each table and so on, check the syntacsis)\n",
      "3. Create the answers. The answer should be only sql query.\n",
      "\n",
      "Carefully follow the instruction and add <|im_end|> and the end of the final answer<|im_end|>\n",
      "<|im_start|>user\n",
      "Here is addition analysis from other models which can be helpfull, please take this into account but be careful (choose the best from each analysis, combine them to make the most proper answer):\n",
      "\n",
      "model 0 analysis:\n",
      " SELECT MAX(`Free Meal Count (K-12)` / `Enrollment (K-12)`) FROM frpm JOIN schools ON frpm.CDSCode = schools.CDSCode WHERE County = 'Alameda';\n",
      "\n",
      "model 1 analysis:\n",
      " SELECT MAX(`Free Meal Count (K-12)` / `Enrollment (K-12)`) FROM frpm JOIN schools ON frpm.CDSCode = schools.CDSCode WHERE schools.County = 'Alameda';\n",
      "\n",
      "\n",
      "here is avaliable tables below\n",
      "\n",
      "\n",
      "Table: frpm\n",
      "CREATE TABLE frpm\n",
      "(\n",
      "    CDSCode                                       TEXT not null\n",
      "        primary key,\n",
      "    `Academic Year`                               TEXT  null,\n",
      "    `County Code`                                 TEXT  null,\n",
      "    `District Code`                               INTEGER         null,\n",
      "    `School Code`                                 TEXT  null,\n",
      "    `County Name`                                 TEXT null,\n",
      "    `District Name`                               TEXT null,\n",
      "    `School Name`                                 TEXT null,\n",
      "    `District Type`                               TEXT null,\n",
      "    `School Type`                                 TEXT null,\n",
      "    `Educational Option Type`                     TEXT null,\n",
      "    `NSLP Provision Status`                       TEXT null,\n",
      "    `Charter School (Y/N)`                        INTEGER    null,\n",
      "    `Charter School Number`                       TEXT  null,\n",
      "    `Charter Funding Type`                        TEXT null,\n",
      "    IRC                                           INTEGER    null,\n",
      "    `Low Grade`                                   TEXT  null,\n",
      "    `High Grade`                                  TEXT null,\n",
      "    `Enrollment (K-12)`                           REAL      null,\n",
      "    `Free Meal Count (K-12)`                      REAL       null,\n",
      "    `Percent (%) Eligible Free (K-12)`            REAL       null,\n",
      "    `FRPM Count (K-12)`                           REAL       null,\n",
      "    `Percent (%) Eligible FRPM (K-12)`            REAL       null,\n",
      "    `Enrollment (Ages 5-17)`                      REAL       null,\n",
      "    `Free Meal Count (Ages 5-17)`                 REAL       null,\n",
      "    `Percent (%) Eligible Free (Ages 5-17)`       REAL       null,\n",
      "    `FRPM Count (Ages 5-17)`                      REAL       null,\n",
      "    `Percent (%) Eligible FRPM (Ages 5-17)`       REAL       null,\n",
      "    `2013-14 CALPADS Fall 1 Certification Status` INTEGER    null,\n",
      "    foreign key (CDSCode) references schools (CDSCode)\n",
      ")\n",
      "\n",
      "Table: satscores\n",
      "CREATE TABLE satscores\n",
      "(\n",
      "    cds         TEXT not null\n",
      "        primary key,\n",
      "    rtype       TEXT  not null,\n",
      "    sname       TEXT null,\n",
      "    dname       TEXT null,\n",
      "    cname       TEXT null,\n",
      "    enroll12    INTEGER         not null,\n",
      "    NumTstTakr  INTEGER          not null,\n",
      "    AvgScrRead  INTEGER          null,\n",
      "    AvgScrMath  INTEGER          null,\n",
      "    AvgScrWrite INTEGER          null,\n",
      "    NumGE1500   INTEGER          null,\n",
      "--     PctGE1500   double      null,\n",
      "        foreign key (cds) references schools (CDSCode)\n",
      ")\n",
      "\n",
      "Table: schools\n",
      "CREATE TABLE schools\n",
      "(\n",
      "    CDSCode     TEXT not null\n",
      "        primary key,\n",
      "    NCESDist    TEXT  null,\n",
      "    NCESSchool  TEXT  null,\n",
      "    StatusType  TEXT  not null,\n",
      "    County      TEXT not null,\n",
      "    District    TEXT not null,\n",
      "    School      TEXT null,\n",
      "    Street      TEXT null,\n",
      "    StreetAbr   TEXT null,\n",
      "    City        TEXT null,\n",
      "    Zip         TEXT null,\n",
      "    State       TEXT  null,\n",
      "    MailStreet  TEXT null,\n",
      "    MailStrAbr  TEXT null,\n",
      "    MailCity    TEXT null,\n",
      "    MailZip     TEXT null,\n",
      "    MailState   TEXT  null,\n",
      "    Phone       TEXT null,\n",
      "    Ext         TEXT  null,\n",
      "    Website     TEXT null,\n",
      "    OpenDate    DATE        null,\n",
      "    ClosedDate  DATE        null,\n",
      "    Charter     INTEGER    null,\n",
      "    CharterNum  TEXT  null,\n",
      "    FundingType TEXT null,\n",
      "    DOC         TEXT  not null,\n",
      "    DOCType     TEXT not null,\n",
      "    SOC         TEXT  null,\n",
      "    SOCType     TEXT null,\n",
      "    EdOpsCode   TEXT  null,\n",
      "    EdOpsName   TEXT null,\n",
      "    EILCode     TEXT  null,\n",
      "    EILName     TEXT null,\n",
      "    GSoffered   TEXT null,\n",
      "    GSserved    TEXT  null,\n",
      "    Virtual     TEXT  null,\n",
      "    Magnet      INTEGER   null,\n",
      "    Latitude    REAL      null,\n",
      "    Longitude   REAL      null,\n",
      "    AdmFName1   TEXT null,\n",
      "    AdmLName1   TEXT null,\n",
      "    AdmEmail1   TEXT null,\n",
      "    AdmFName2   TEXT null,\n",
      "    AdmLName2   TEXT null,\n",
      "    AdmEmail2   TEXT null,\n",
      "    AdmFName3   TEXT  null,\n",
      "    AdmLName3   TEXT null,\n",
      "    AdmEmail3   TEXT null,\n",
      "    LastUpdate  DATE        not null\n",
      ")\n",
      "\n",
      "-- Using valid SQLite and understanding External Knowledge, answer the following questions for the tables provided above.\n",
      "-- What is the highest eligible free rate for K-12 students in the schools in Alameda County?\n",
      "-- External Knowledge: Eligible free rate for K-12 = `Free Meal Count (K-12)` / `Enrollment (K-12)`\n",
      "\n",
      "\n",
      "Generate the SQLite for the above question after thinking step by step: \n",
      "\n",
      "\n",
      "Instructions:\n",
      "- Make sure you only output the information that is asked in the question. If the question asks for a specific column, make sure to only include that column in the SELECT clause, nothing more.\n",
      "- The generated query should return all of the information asked in the question without any missing or extra information.\n",
      "- Before generating the final SQL query, please think through the steps of how to write the query.\n",
      "- Do not misuse column names, keep them in quotes `\n",
      "- Carefully understand what colomns belond to what tables\n",
      "- Use only initial column names, change names prohibited\n",
      "        \n",
      "Output Format:\n",
      "In your answer, please enclose the generated SQL query in a code block:\n",
      "```\n",
      "-- Your SQL query\n",
      "```    \n",
      "and nothing else, no exaplains, no comments (asnwer should be less than 512 characters)\n",
      "\n",
      "Take a deep breath and think step by step to find the correct SQL query in SQLite format.\n",
      "\n",
      "Question repetition: What is the highest eligible free rate for K-12 students in the schools in Alameda County?\n",
      "\n",
      "Be care! Include only what i want it questiona and nothing else<|im_end|>\n",
      "<|im_start|>assistant\n",
      "<think>\n",
      "\n",
      "</think>\n",
      "\n",
      "\n",
      "\n",
      "\n",
      "Максимальное количество токенов в промптах: 3801\n",
      "\n",
      "начинаем скорринг\n",
      "Загружаем чаты с данными...\n",
      "Данные успешно загружены\n",
      "Начали генерацию SQL запросов\n"
     ]
    },
    {
     "name": "stderr",
     "output_type": "stream",
     "text": [
      "Processed prompts: 100%|██████████| 1534/1534 [00:53<00:00, 28.84it/s, est. speed input: 42847.75 toks/s, output: 1392.05 toks/s] "
     ]
    },
    {
     "name": "stdout",
     "output_type": "stream",
     "text": [
      "extract_think количество ошибок:  0\n",
      "extract_sql количество ошибок:  0\n",
      "Закончили генерацию SQL запросов\n",
      "Начали скорр полученных SQL запросов\n"
     ]
    },
    {
     "name": "stderr",
     "output_type": "stream",
     "text": [
      "\n"
     ]
    },
    {
     "name": "stdout",
     "output_type": "stream",
     "text": [
      "Qwen3-8B DEV Финальный результат EX: 56.71\n",
      "Qwen3-8B процент запросов, которые успешно выполнились DEV: 95.05%\n",
      "====================================================================================================\n",
      "\n",
      "\n",
      "Загружаем чаты с данными...\n",
      "Данные успешно загружены\n",
      "Начали генерацию SQL запросов\n"
     ]
    },
    {
     "name": "stderr",
     "output_type": "stream",
     "text": [
      "Processed prompts: 100%|██████████| 1534/1534 [00:51<00:00, 29.60it/s, est. speed input: 43975.22 toks/s, output: 1440.93 toks/s] "
     ]
    },
    {
     "name": "stdout",
     "output_type": "stream",
     "text": [
      "extract_think количество ошибок:  0\n",
      "extract_sql количество ошибок:  0\n",
      "Закончили генерацию SQL запросов\n",
      "Начали скорр полученных SQL запросов\n"
     ]
    },
    {
     "name": "stderr",
     "output_type": "stream",
     "text": [
      "\n"
     ]
    },
    {
     "name": "stdout",
     "output_type": "stream",
     "text": [
      "Qwen3-8B DEV Финальный результат EX: 56.32\n",
      "Qwen3-8B процент запросов, которые успешно выполнились DEV: 94.26%\n",
      "====================================================================================================\n",
      "\n",
      "\n",
      "Загружаем чаты с данными...\n",
      "Данные успешно загружены\n",
      "Начали генерацию SQL запросов\n"
     ]
    },
    {
     "name": "stderr",
     "output_type": "stream",
     "text": [
      "Processed prompts: 100%|██████████| 1534/1534 [00:51<00:00, 29.68it/s, est. speed input: 44112.13 toks/s, output: 1430.74 toks/s] "
     ]
    },
    {
     "name": "stdout",
     "output_type": "stream",
     "text": [
      "extract_think количество ошибок:  0\n",
      "extract_sql количество ошибок:  0\n",
      "Закончили генерацию SQL запросов\n",
      "Начали скорр полученных SQL запросов\n"
     ]
    },
    {
     "name": "stderr",
     "output_type": "stream",
     "text": [
      "\n"
     ]
    },
    {
     "name": "stdout",
     "output_type": "stream",
     "text": [
      "Qwen3-8B DEV Финальный результат EX: 57.04\n",
      "Qwen3-8B процент запросов, которые успешно выполнились DEV: 95.11%\n",
      "====================================================================================================\n",
      "\n",
      "\n",
      "Загружаем чаты с данными...\n",
      "Данные успешно загружены\n",
      "Начали генерацию SQL запросов\n"
     ]
    },
    {
     "name": "stderr",
     "output_type": "stream",
     "text": [
      "Processed prompts: 100%|██████████| 1534/1534 [00:53<00:00, 28.93it/s, est. speed input: 42980.55 toks/s, output: 1401.83 toks/s] "
     ]
    },
    {
     "name": "stdout",
     "output_type": "stream",
     "text": [
      "extract_think количество ошибок:  0\n",
      "extract_sql количество ошибок:  0\n",
      "Закончили генерацию SQL запросов\n",
      "Начали скорр полученных SQL запросов\n"
     ]
    },
    {
     "name": "stderr",
     "output_type": "stream",
     "text": [
      "\n"
     ]
    },
    {
     "name": "stdout",
     "output_type": "stream",
     "text": [
      "Qwen3-8B DEV Финальный результат EX: 56.71\n",
      "Qwen3-8B процент запросов, которые успешно выполнились DEV: 95.50%\n",
      "====================================================================================================\n",
      "\n",
      "\n",
      "Загружаем чаты с данными...\n",
      "Данные успешно загружены\n",
      "Начали генерацию SQL запросов\n"
     ]
    },
    {
     "name": "stderr",
     "output_type": "stream",
     "text": [
      "Processed prompts: 100%|██████████| 1534/1534 [00:52<00:00, 29.34it/s, est. speed input: 43597.09 toks/s, output: 1413.17 toks/s] "
     ]
    },
    {
     "name": "stdout",
     "output_type": "stream",
     "text": [
      "extract_think количество ошибок:  0\n",
      "extract_sql количество ошибок:  0\n",
      "Закончили генерацию SQL запросов\n",
      "Начали скорр полученных SQL запросов\n"
     ]
    },
    {
     "name": "stderr",
     "output_type": "stream",
     "text": [
      "\n"
     ]
    },
    {
     "name": "stdout",
     "output_type": "stream",
     "text": [
      "Qwen3-8B DEV Финальный результат EX: 56.78\n",
      "Qwen3-8B процент запросов, которые успешно выполнились DEV: 95.11%\n",
      "====================================================================================================\n",
      "\n",
      "\n",
      "Загружаем чаты с данными...\n",
      "Данные успешно загружены\n",
      "Начали генерацию SQL запросов\n"
     ]
    },
    {
     "name": "stderr",
     "output_type": "stream",
     "text": [
      "Processed prompts: 100%|██████████| 1534/1534 [00:52<00:00, 29.08it/s, est. speed input: 43248.92 toks/s, output: 1426.69 toks/s] "
     ]
    },
    {
     "name": "stdout",
     "output_type": "stream",
     "text": [
      "extract_think количество ошибок:  0\n",
      "extract_sql количество ошибок:  0\n",
      "Закончили генерацию SQL запросов\n",
      "Начали скорр полученных SQL запросов\n"
     ]
    },
    {
     "name": "stderr",
     "output_type": "stream",
     "text": [
      "\n"
     ]
    },
    {
     "name": "stdout",
     "output_type": "stream",
     "text": [
      "Qwen3-8B DEV Финальный результат EX: 57.11\n",
      "Qwen3-8B процент запросов, которые успешно выполнились DEV: 95.31%\n",
      "====================================================================================================\n",
      "\n",
      "\n",
      "Загружаем чаты с данными...\n",
      "Данные успешно загружены\n",
      "Начали генерацию SQL запросов\n"
     ]
    },
    {
     "name": "stderr",
     "output_type": "stream",
     "text": [
      "Processed prompts: 100%|██████████| 1534/1534 [00:53<00:00, 28.85it/s, est. speed input: 43060.96 toks/s, output: 1409.35 toks/s] "
     ]
    },
    {
     "name": "stdout",
     "output_type": "stream",
     "text": [
      "extract_think количество ошибок:  0\n",
      "extract_sql количество ошибок:  0\n",
      "Закончили генерацию SQL запросов\n",
      "Начали скорр полученных SQL запросов\n"
     ]
    },
    {
     "name": "stderr",
     "output_type": "stream",
     "text": [
      "\n"
     ]
    },
    {
     "name": "stdout",
     "output_type": "stream",
     "text": [
      "Qwen3-8B DEV Финальный результат EX: 56.32\n",
      "Qwen3-8B процент запросов, которые успешно выполнились DEV: 95.18%\n",
      "====================================================================================================\n",
      "\n",
      "\n",
      "Загружаем чаты с данными...\n",
      "Данные успешно загружены\n",
      "Начали генерацию SQL запросов\n"
     ]
    },
    {
     "name": "stderr",
     "output_type": "stream",
     "text": [
      "Processed prompts: 100%|██████████| 1534/1534 [00:52<00:00, 29.40it/s, est. speed input: 43879.83 toks/s, output: 1427.83 toks/s] "
     ]
    },
    {
     "name": "stdout",
     "output_type": "stream",
     "text": [
      "extract_think количество ошибок:  0\n",
      "extract_sql количество ошибок:  0\n",
      "Закончили генерацию SQL запросов\n",
      "Начали скорр полученных SQL запросов\n"
     ]
    },
    {
     "name": "stderr",
     "output_type": "stream",
     "text": [
      "\n"
     ]
    },
    {
     "name": "stdout",
     "output_type": "stream",
     "text": [
      "Qwen3-8B DEV Финальный результат EX: 56.71\n",
      "Qwen3-8B процент запросов, которые успешно выполнились DEV: 94.98%\n",
      "====================================================================================================\n",
      "\n",
      "\n",
      "Загружаем чаты с данными...\n",
      "Данные успешно загружены\n",
      "Начали генерацию SQL запросов\n"
     ]
    },
    {
     "name": "stderr",
     "output_type": "stream",
     "text": [
      "Processed prompts: 100%|██████████| 1534/1534 [00:52<00:00, 29.44it/s, est. speed input: 43758.41 toks/s, output: 1425.98 toks/s] "
     ]
    },
    {
     "name": "stdout",
     "output_type": "stream",
     "text": [
      "extract_think количество ошибок:  0\n",
      "extract_sql количество ошибок:  0\n",
      "Закончили генерацию SQL запросов\n",
      "Начали скорр полученных SQL запросов\n"
     ]
    },
    {
     "name": "stderr",
     "output_type": "stream",
     "text": [
      "\n"
     ]
    },
    {
     "name": "stdout",
     "output_type": "stream",
     "text": [
      "Qwen3-8B DEV Финальный результат EX: 57.17\n",
      "Qwen3-8B процент запросов, которые успешно выполнились DEV: 95.24%\n",
      "====================================================================================================\n",
      "\n",
      "\n",
      "Загружаем чаты с данными...\n",
      "Данные успешно загружены\n",
      "Начали генерацию SQL запросов\n"
     ]
    },
    {
     "name": "stderr",
     "output_type": "stream",
     "text": [
      "Processed prompts: 100%|██████████| 1534/1534 [00:49<00:00, 31.09it/s, est. speed input: 46164.72 toks/s, output: 1480.70 toks/s] "
     ]
    },
    {
     "name": "stdout",
     "output_type": "stream",
     "text": [
      "extract_think количество ошибок:  0\n",
      "extract_sql количество ошибок:  0\n",
      "Закончили генерацию SQL запросов\n",
      "Начали скорр полученных SQL запросов\n"
     ]
    },
    {
     "name": "stderr",
     "output_type": "stream",
     "text": [
      "\n"
     ]
    },
    {
     "name": "stdout",
     "output_type": "stream",
     "text": [
      "Qwen3-8B DEV Финальный результат EX: 56.32\n",
      "Qwen3-8B процент запросов, которые успешно выполнились DEV: 95.11%\n",
      "====================================================================================================\n",
      "\n",
      "\n",
      "Загружаем чаты с данными...\n",
      "Данные успешно загружены\n",
      "Начали генерацию SQL запросов\n"
     ]
    },
    {
     "name": "stderr",
     "output_type": "stream",
     "text": [
      "Processed prompts: 100%|██████████| 1534/1534 [00:54<00:00, 28.32it/s, est. speed input: 42082.23 toks/s, output: 1353.02 toks/s] "
     ]
    },
    {
     "name": "stdout",
     "output_type": "stream",
     "text": [
      "extract_think количество ошибок:  0\n",
      "extract_sql количество ошибок:  0\n",
      "Закончили генерацию SQL запросов\n",
      "Начали скорр полученных SQL запросов\n"
     ]
    },
    {
     "name": "stderr",
     "output_type": "stream",
     "text": [
      "\n"
     ]
    },
    {
     "name": "stdout",
     "output_type": "stream",
     "text": [
      "Qwen3-8B DEV Финальный результат EX: 56.58\n",
      "Qwen3-8B процент запросов, которые успешно выполнились DEV: 95.57%\n",
      "====================================================================================================\n",
      "\n",
      "\n",
      "Загружаем чаты с данными...\n",
      "Данные успешно загружены\n",
      "Начали генерацию SQL запросов\n"
     ]
    },
    {
     "name": "stderr",
     "output_type": "stream",
     "text": [
      "Processed prompts: 100%|██████████| 1534/1534 [00:56<00:00, 27.06it/s, est. speed input: 40235.67 toks/s, output: 1340.33 toks/s] "
     ]
    },
    {
     "name": "stdout",
     "output_type": "stream",
     "text": [
      "extract_think количество ошибок:  0\n",
      "extract_sql количество ошибок:  0\n",
      "Закончили генерацию SQL запросов\n",
      "Начали скорр полученных SQL запросов\n"
     ]
    },
    {
     "name": "stderr",
     "output_type": "stream",
     "text": [
      "\n"
     ]
    },
    {
     "name": "stdout",
     "output_type": "stream",
     "text": [
      "Qwen3-8B DEV Финальный результат EX: 55.80\n",
      "Qwen3-8B процент запросов, которые успешно выполнились DEV: 94.72%\n",
      "====================================================================================================\n",
      "\n",
      "\n",
      "Загружаем чаты с данными...\n",
      "Данные успешно загружены\n",
      "Начали генерацию SQL запросов\n"
     ]
    },
    {
     "name": "stderr",
     "output_type": "stream",
     "text": [
      "Processed prompts: 100%|██████████| 1534/1534 [00:54<00:00, 28.23it/s, est. speed input: 41959.57 toks/s, output: 1383.56 toks/s] "
     ]
    },
    {
     "name": "stdout",
     "output_type": "stream",
     "text": [
      "extract_think количество ошибок:  0\n",
      "extract_sql количество ошибок:  0\n",
      "Закончили генерацию SQL запросов\n",
      "Начали скорр полученных SQL запросов\n"
     ]
    },
    {
     "name": "stderr",
     "output_type": "stream",
     "text": [
      "\n"
     ]
    },
    {
     "name": "stdout",
     "output_type": "stream",
     "text": [
      "Qwen3-8B DEV Финальный результат EX: 56.19\n",
      "Qwen3-8B процент запросов, которые успешно выполнились DEV: 94.98%\n",
      "====================================================================================================\n",
      "\n",
      "\n",
      "Загружаем чаты с данными...\n",
      "Данные успешно загружены\n",
      "Начали генерацию SQL запросов\n"
     ]
    },
    {
     "name": "stderr",
     "output_type": "stream",
     "text": [
      "Processed prompts: 100%|██████████| 1534/1534 [00:54<00:00, 28.25it/s, est. speed input: 41990.60 toks/s, output: 1353.89 toks/s] "
     ]
    },
    {
     "name": "stdout",
     "output_type": "stream",
     "text": [
      "extract_think количество ошибок:  0\n",
      "extract_sql количество ошибок:  0\n",
      "Закончили генерацию SQL запросов\n",
      "Начали скорр полученных SQL запросов\n"
     ]
    },
    {
     "name": "stderr",
     "output_type": "stream",
     "text": [
      "\n"
     ]
    },
    {
     "name": "stdout",
     "output_type": "stream",
     "text": [
      "Qwen3-8B DEV Финальный результат EX: 56.65\n",
      "Qwen3-8B процент запросов, которые успешно выполнились DEV: 94.72%\n",
      "====================================================================================================\n",
      "\n",
      "\n",
      "Загружаем чаты с данными...\n",
      "Данные успешно загружены\n",
      "Начали генерацию SQL запросов\n"
     ]
    },
    {
     "name": "stderr",
     "output_type": "stream",
     "text": [
      "Processed prompts: 100%|██████████| 1534/1534 [00:53<00:00, 28.86it/s, est. speed input: 42897.18 toks/s, output: 1389.42 toks/s] "
     ]
    },
    {
     "name": "stdout",
     "output_type": "stream",
     "text": [
      "extract_think количество ошибок:  0\n",
      "extract_sql количество ошибок:  0\n",
      "Закончили генерацию SQL запросов\n",
      "Начали скорр полученных SQL запросов\n"
     ]
    },
    {
     "name": "stderr",
     "output_type": "stream",
     "text": [
      "\n"
     ]
    },
    {
     "name": "stdout",
     "output_type": "stream",
     "text": [
      "Qwen3-8B DEV Финальный результат EX: 56.91\n",
      "Qwen3-8B процент запросов, которые успешно выполнились DEV: 95.11%\n",
      "====================================================================================================\n",
      "\n",
      "\n",
      "Загружаем чаты с данными...\n",
      "Данные успешно загружены\n",
      "Начали генерацию SQL запросов\n"
     ]
    },
    {
     "name": "stderr",
     "output_type": "stream",
     "text": [
      "Processed prompts: 100%|██████████| 1534/1534 [00:53<00:00, 28.80it/s, est. speed input: 42824.91 toks/s, output: 1416.36 toks/s] "
     ]
    },
    {
     "name": "stdout",
     "output_type": "stream",
     "text": [
      "extract_think количество ошибок:  0\n",
      "extract_sql количество ошибок:  0\n",
      "Закончили генерацию SQL запросов\n",
      "Начали скорр полученных SQL запросов\n"
     ]
    },
    {
     "name": "stderr",
     "output_type": "stream",
     "text": [
      "\n"
     ]
    },
    {
     "name": "stdout",
     "output_type": "stream",
     "text": [
      "Qwen3-8B DEV Финальный результат EX: 56.65\n",
      "Qwen3-8B процент запросов, которые успешно выполнились DEV: 94.78%\n",
      "====================================================================================================\n",
      "\n",
      "\n",
      "Загружаем чаты с данными...\n",
      "Данные успешно загружены\n",
      "Начали генерацию SQL запросов\n"
     ]
    },
    {
     "name": "stderr",
     "output_type": "stream",
     "text": [
      "Processed prompts: 100%|██████████| 1534/1534 [00:53<00:00, 28.74it/s, est. speed input: 42720.69 toks/s, output: 1395.59 toks/s] "
     ]
    },
    {
     "name": "stdout",
     "output_type": "stream",
     "text": [
      "extract_think количество ошибок:  0\n",
      "extract_sql количество ошибок:  0\n",
      "Закончили генерацию SQL запросов\n",
      "Начали скорр полученных SQL запросов\n"
     ]
    },
    {
     "name": "stderr",
     "output_type": "stream",
     "text": [
      "\n"
     ]
    },
    {
     "name": "stdout",
     "output_type": "stream",
     "text": [
      "Qwen3-8B DEV Финальный результат EX: 56.84\n",
      "Qwen3-8B процент запросов, которые успешно выполнились DEV: 95.37%\n",
      "====================================================================================================\n",
      "\n",
      "\n",
      "Загружаем чаты с данными...\n",
      "Данные успешно загружены\n",
      "Начали генерацию SQL запросов\n"
     ]
    },
    {
     "name": "stderr",
     "output_type": "stream",
     "text": [
      "Processed prompts: 100%|██████████| 1534/1534 [00:52<00:00, 29.37it/s, est. speed input: 43673.47 toks/s, output: 1426.38 toks/s] "
     ]
    },
    {
     "name": "stdout",
     "output_type": "stream",
     "text": [
      "extract_think количество ошибок:  0\n",
      "extract_sql количество ошибок:  0\n",
      "Закончили генерацию SQL запросов\n",
      "Начали скорр полученных SQL запросов\n"
     ]
    },
    {
     "name": "stderr",
     "output_type": "stream",
     "text": [
      "\n"
     ]
    },
    {
     "name": "stdout",
     "output_type": "stream",
     "text": [
      "Qwen3-8B DEV Финальный результат EX: 58.54\n",
      "Qwen3-8B процент запросов, которые успешно выполнились DEV: 95.44%\n",
      "====================================================================================================\n",
      "\n",
      "\n",
      "Загружаем чаты с данными...\n",
      "Данные успешно загружены\n",
      "Начали генерацию SQL запросов\n"
     ]
    },
    {
     "name": "stderr",
     "output_type": "stream",
     "text": [
      "Processed prompts: 100%|██████████| 1534/1534 [00:51<00:00, 29.72it/s, est. speed input: 44193.09 toks/s, output: 1446.96 toks/s] "
     ]
    },
    {
     "name": "stdout",
     "output_type": "stream",
     "text": [
      "extract_think количество ошибок:  0\n",
      "extract_sql количество ошибок:  0\n",
      "Закончили генерацию SQL запросов\n",
      "Начали скорр полученных SQL запросов\n"
     ]
    },
    {
     "name": "stderr",
     "output_type": "stream",
     "text": [
      "\n"
     ]
    },
    {
     "name": "stdout",
     "output_type": "stream",
     "text": [
      "Qwen3-8B DEV Финальный результат EX: 57.24\n",
      "Qwen3-8B процент запросов, которые успешно выполнились DEV: 94.92%\n",
      "====================================================================================================\n",
      "\n",
      "\n",
      "Загружаем чаты с данными...\n",
      "Данные успешно загружены\n",
      "Начали генерацию SQL запросов\n"
     ]
    },
    {
     "name": "stderr",
     "output_type": "stream",
     "text": [
      "Processed prompts: 100%|██████████| 1534/1534 [00:54<00:00, 28.27it/s, est. speed input: 42024.13 toks/s, output: 1369.77 toks/s] "
     ]
    },
    {
     "name": "stdout",
     "output_type": "stream",
     "text": [
      "extract_think количество ошибок:  0\n",
      "extract_sql количество ошибок:  0\n",
      "Закончили генерацию SQL запросов\n",
      "Начали скорр полученных SQL запросов\n"
     ]
    },
    {
     "name": "stderr",
     "output_type": "stream",
     "text": [
      "\n"
     ]
    },
    {
     "name": "stdout",
     "output_type": "stream",
     "text": [
      "Qwen3-8B DEV Финальный результат EX: 56.00\n",
      "Qwen3-8B процент запросов, которые успешно выполнились DEV: 94.26%\n",
      "====================================================================================================\n",
      "\n",
      "\n"
     ]
    }
   ],
   "source": [
    "run_cot_experiment(model,arr_seeds,arr_versions, type_cot,num_observations=num_observations)"
   ]
  },
  {
   "cell_type": "code",
   "execution_count": 17,
   "id": "567aebd6-c42e-43f1-b038-e70215d348ba",
   "metadata": {},
   "outputs": [
    {
     "name": "stdout",
     "output_type": "stream",
     "text": [
      "[551, 848, 201, 535, 717, 438, 249, 872, 966, 60, 448, 764, 762, 613, 404, 424, 805, 336, 378, 476]\n",
      "model: Qwen3-8B\n"
     ]
    }
   ],
   "source": [
    "n= 20\n",
    "arr_seeds = [random.randint(0,1000) for _ in range(n)]\n",
    "arr_versions = [x for x in range(n)]\n",
    "model = \"Qwen3-8B\"\n",
    "num_observations = 3\n",
    "type_cot = 'predict'\n",
    "print(arr_seeds)\n",
    "print(f\"model: {model}\")"
   ]
  },
  {
   "cell_type": "code",
   "execution_count": 18,
   "id": "ae9448a7-0cef-4f51-b3ca-c3e9733ea56f",
   "metadata": {
    "scrolled": true
   },
   "outputs": [
    {
     "name": "stdout",
     "output_type": "stream",
     "text": [
      "Загружаем модель...\n"
     ]
    },
    {
     "name": "stderr",
     "output_type": "stream",
     "text": [
      "Loading safetensors checkpoint shards:   0% Completed | 0/4 [00:00<?, ?it/s]\n",
      "Loading safetensors checkpoint shards:  25% Completed | 1/4 [00:00<00:00,  8.59it/s]\n",
      "Loading safetensors checkpoint shards:  50% Completed | 2/4 [00:00<00:00,  2.55it/s]\n",
      "Loading safetensors checkpoint shards:  75% Completed | 3/4 [00:01<00:00,  1.81it/s]\n",
      "Loading safetensors checkpoint shards: 100% Completed | 4/4 [00:02<00:00,  1.62it/s]\n",
      "Loading safetensors checkpoint shards: 100% Completed | 4/4 [00:02<00:00,  1.85it/s]\n",
      "\u001b[1;36m(VllmWorker rank=0 pid=4137728)\u001b[0;0m \n"
     ]
    },
    {
     "name": "stdout",
     "output_type": "stream",
     "text": [
      "Модель успешно загружена\n",
      "model_config {'model': '/data/home/vkropoti/models/Qwen3-8B', 'tensor_parallel_size': 2, 'max_model_len': 40000, 'max_new_tokens': 1500, 'temperature': 0, 'top_k': 1, 'top_p': 0.8, 'gpu_memory_utilization': 0.9, 'trust_remote_code': False, 'seed': 551}\n",
      "\n",
      "prompts_config {'path_dev_json': '/home/vkropoti/vllm/dev.json', 'path_sql_dbs': '/data/home/vkropoti/sql_data/dev_databases/', 'use_reasoning': False, 'paths_to_cot': ['/data/home/vkropoti/sql_llm_answers/bird_dev/sql_predict_Qwen3-8B-reasoning-v0', '/data/home/vkropoti/sql_llm_answers/bird_dev/sql_predict_Qwen3-8B-reasoning-v1', '/data/home/vkropoti/sql_llm_answers/bird_dev/sql_predict_Qwen3-8B-reasoning-v2']}\n",
      "\n",
      "save_config {'path_sql_save': '/data/home/vkropoti/sql_llm_answers/bird_dev/sql_all_Qwen3-8B-cot_predict_think==False_nobs3-v0', 'path_think_save': None, 'path_sql_answers_save': '/data/home/vkropoti/sql_llm_answers/bird_dev/sql_predict_Qwen3-8B-cot_predict_think==False_nobs3-v0', 'path_to_save_scores': '/data/home/vkropoti/sql_llm_answers/bird_dev/sql_results_Qwen3-8B-cot_predict_think==False_nobs3-v0', 'path_to_save_executed': '/data/home/vkropoti/sql_llm_answers/bird_dev/sql_executed_Qwen3-8B-cot_predict_think==False_nobs3-v0'}\n",
      "\n",
      "Модель успешно загружена\n",
      "Пример промпта\n",
      "<|im_start|>system\n",
      "\n",
      "You are a data science expert. Below, you are provided with a database schema and a natural language question. Your task is to understand the schema and generate a valid SQL query to answer the question.\n",
      "\n",
      "Database Engine: SQLite\n",
      "\n",
      "You will be given an additional analysis of other models, please take it into account, so the plan is\n",
      "1. Analyse given addition analysis from other models (find in which analysis the same and differ, how to use that to answer question)\n",
      "2. Combine best from previous part and think how to solve the problem (analyze tables, take care what columns avaliable in each table and so on, check the syntacsis)\n",
      "3. Create the answers. The answer should be only sql query.\n",
      "\n",
      "Carefully follow the instruction and add <|im_end|> and the end of the final answer<|im_end|>\n",
      "<|im_start|>user\n",
      "Here is addition analysis from other models which can be helpfull, please take this into account but be careful (choose the best from each analysis, combine them to make the most proper answer):\n",
      "\n",
      "model 0 analysis:\n",
      " SELECT MAX(`Free Meal Count (K-12)` / `Enrollment (K-12)`) FROM frpm JOIN schools ON frpm.CDSCode = schools.CDSCode WHERE County = 'Alameda';\n",
      "\n",
      "model 1 analysis:\n",
      " SELECT MAX(`Free Meal Count (K-12)` / `Enrollment (K-12)`) FROM frpm JOIN schools ON frpm.CDSCode = schools.CDSCode WHERE schools.County = 'Alameda';\n",
      "\n",
      "model 2 analysis:\n",
      " SELECT MAX(`Free Meal Count (K-12)` / `Enrollment (K-12)`) FROM frpm JOIN schools ON frpm.CDSCode = schools.CDSCode WHERE schools.County = 'Alameda';\n",
      "\n",
      "\n",
      "here is avaliable tables below\n",
      "\n",
      "\n",
      "Table: frpm\n",
      "CREATE TABLE frpm\n",
      "(\n",
      "    CDSCode                                       TEXT not null\n",
      "        primary key,\n",
      "    `Academic Year`                               TEXT  null,\n",
      "    `County Code`                                 TEXT  null,\n",
      "    `District Code`                               INTEGER         null,\n",
      "    `School Code`                                 TEXT  null,\n",
      "    `County Name`                                 TEXT null,\n",
      "    `District Name`                               TEXT null,\n",
      "    `School Name`                                 TEXT null,\n",
      "    `District Type`                               TEXT null,\n",
      "    `School Type`                                 TEXT null,\n",
      "    `Educational Option Type`                     TEXT null,\n",
      "    `NSLP Provision Status`                       TEXT null,\n",
      "    `Charter School (Y/N)`                        INTEGER    null,\n",
      "    `Charter School Number`                       TEXT  null,\n",
      "    `Charter Funding Type`                        TEXT null,\n",
      "    IRC                                           INTEGER    null,\n",
      "    `Low Grade`                                   TEXT  null,\n",
      "    `High Grade`                                  TEXT null,\n",
      "    `Enrollment (K-12)`                           REAL      null,\n",
      "    `Free Meal Count (K-12)`                      REAL       null,\n",
      "    `Percent (%) Eligible Free (K-12)`            REAL       null,\n",
      "    `FRPM Count (K-12)`                           REAL       null,\n",
      "    `Percent (%) Eligible FRPM (K-12)`            REAL       null,\n",
      "    `Enrollment (Ages 5-17)`                      REAL       null,\n",
      "    `Free Meal Count (Ages 5-17)`                 REAL       null,\n",
      "    `Percent (%) Eligible Free (Ages 5-17)`       REAL       null,\n",
      "    `FRPM Count (Ages 5-17)`                      REAL       null,\n",
      "    `Percent (%) Eligible FRPM (Ages 5-17)`       REAL       null,\n",
      "    `2013-14 CALPADS Fall 1 Certification Status` INTEGER    null,\n",
      "    foreign key (CDSCode) references schools (CDSCode)\n",
      ")\n",
      "\n",
      "Table: satscores\n",
      "CREATE TABLE satscores\n",
      "(\n",
      "    cds         TEXT not null\n",
      "        primary key,\n",
      "    rtype       TEXT  not null,\n",
      "    sname       TEXT null,\n",
      "    dname       TEXT null,\n",
      "    cname       TEXT null,\n",
      "    enroll12    INTEGER         not null,\n",
      "    NumTstTakr  INTEGER          not null,\n",
      "    AvgScrRead  INTEGER          null,\n",
      "    AvgScrMath  INTEGER          null,\n",
      "    AvgScrWrite INTEGER          null,\n",
      "    NumGE1500   INTEGER          null,\n",
      "--     PctGE1500   double      null,\n",
      "        foreign key (cds) references schools (CDSCode)\n",
      ")\n",
      "\n",
      "Table: schools\n",
      "CREATE TABLE schools\n",
      "(\n",
      "    CDSCode     TEXT not null\n",
      "        primary key,\n",
      "    NCESDist    TEXT  null,\n",
      "    NCESSchool  TEXT  null,\n",
      "    StatusType  TEXT  not null,\n",
      "    County      TEXT not null,\n",
      "    District    TEXT not null,\n",
      "    School      TEXT null,\n",
      "    Street      TEXT null,\n",
      "    StreetAbr   TEXT null,\n",
      "    City        TEXT null,\n",
      "    Zip         TEXT null,\n",
      "    State       TEXT  null,\n",
      "    MailStreet  TEXT null,\n",
      "    MailStrAbr  TEXT null,\n",
      "    MailCity    TEXT null,\n",
      "    MailZip     TEXT null,\n",
      "    MailState   TEXT  null,\n",
      "    Phone       TEXT null,\n",
      "    Ext         TEXT  null,\n",
      "    Website     TEXT null,\n",
      "    OpenDate    DATE        null,\n",
      "    ClosedDate  DATE        null,\n",
      "    Charter     INTEGER    null,\n",
      "    CharterNum  TEXT  null,\n",
      "    FundingType TEXT null,\n",
      "    DOC         TEXT  not null,\n",
      "    DOCType     TEXT not null,\n",
      "    SOC         TEXT  null,\n",
      "    SOCType     TEXT null,\n",
      "    EdOpsCode   TEXT  null,\n",
      "    EdOpsName   TEXT null,\n",
      "    EILCode     TEXT  null,\n",
      "    EILName     TEXT null,\n",
      "    GSoffered   TEXT null,\n",
      "    GSserved    TEXT  null,\n",
      "    Virtual     TEXT  null,\n",
      "    Magnet      INTEGER   null,\n",
      "    Latitude    REAL      null,\n",
      "    Longitude   REAL      null,\n",
      "    AdmFName1   TEXT null,\n",
      "    AdmLName1   TEXT null,\n",
      "    AdmEmail1   TEXT null,\n",
      "    AdmFName2   TEXT null,\n",
      "    AdmLName2   TEXT null,\n",
      "    AdmEmail2   TEXT null,\n",
      "    AdmFName3   TEXT  null,\n",
      "    AdmLName3   TEXT null,\n",
      "    AdmEmail3   TEXT null,\n",
      "    LastUpdate  DATE        not null\n",
      ")\n",
      "\n",
      "-- Using valid SQLite and understanding External Knowledge, answer the following questions for the tables provided above.\n",
      "-- What is the highest eligible free rate for K-12 students in the schools in Alameda County?\n",
      "-- External Knowledge: Eligible free rate for K-12 = `Free Meal Count (K-12)` / `Enrollment (K-12)`\n",
      "\n",
      "\n",
      "Generate the SQLite for the above question after thinking step by step: \n",
      "\n",
      "\n",
      "Instructions:\n",
      "- Make sure you only output the information that is asked in the question. If the question asks for a specific column, make sure to only include that column in the SELECT clause, nothing more.\n",
      "- The generated query should return all of the information asked in the question without any missing or extra information.\n",
      "- Before generating the final SQL query, please think through the steps of how to write the query.\n",
      "- Do not misuse column names, keep them in quotes `\n",
      "- Carefully understand what colomns belond to what tables\n",
      "- Use only initial column names, change names prohibited\n",
      "        \n",
      "Output Format:\n",
      "In your answer, please enclose the generated SQL query in a code block:\n",
      "```\n",
      "-- Your SQL query\n",
      "```    \n",
      "and nothing else, no exaplains, no comments (asnwer should be less than 512 characters)\n",
      "\n",
      "Take a deep breath and think step by step to find the correct SQL query in SQLite format.\n",
      "\n",
      "Question repetition: What is the highest eligible free rate for K-12 students in the schools in Alameda County?\n",
      "\n",
      "Be care! Include only what i want it questiona and nothing else<|im_end|>\n",
      "<|im_start|>assistant\n",
      "<think>\n",
      "\n",
      "</think>\n",
      "\n",
      "\n",
      "\n",
      "\n",
      "Максимальное количество токенов в промптах: 4217\n",
      "\n",
      "начинаем скорринг\n",
      "Загружаем чаты с данными...\n",
      "Данные успешно загружены\n",
      "Начали генерацию SQL запросов\n"
     ]
    },
    {
     "name": "stderr",
     "output_type": "stream",
     "text": [
      "Processed prompts: 100%|██████████| 1534/1534 [00:54<00:00, 27.97it/s, est. speed input: 42979.44 toks/s, output: 1351.77 toks/s] "
     ]
    },
    {
     "name": "stdout",
     "output_type": "stream",
     "text": [
      "extract_think количество ошибок:  0\n",
      "extract_sql количество ошибок:  0\n",
      "Закончили генерацию SQL запросов\n",
      "Начали скорр полученных SQL запросов\n"
     ]
    },
    {
     "name": "stderr",
     "output_type": "stream",
     "text": [
      "\n"
     ]
    },
    {
     "name": "stdout",
     "output_type": "stream",
     "text": [
      "Qwen3-8B DEV Финальный результат EX: 56.65\n",
      "Qwen3-8B процент запросов, которые успешно выполнились DEV: 94.52%\n",
      "====================================================================================================\n",
      "\n",
      "\n",
      "Загружаем чаты с данными...\n",
      "Данные успешно загружены\n",
      "Начали генерацию SQL запросов\n"
     ]
    },
    {
     "name": "stderr",
     "output_type": "stream",
     "text": [
      "Processed prompts: 100%|██████████| 1534/1534 [00:51<00:00, 29.57it/s, est. speed input: 45425.62 toks/s, output: 1422.34 toks/s] "
     ]
    },
    {
     "name": "stdout",
     "output_type": "stream",
     "text": [
      "extract_think количество ошибок:  0\n",
      "extract_sql количество ошибок:  0\n",
      "Закончили генерацию SQL запросов\n",
      "Начали скорр полученных SQL запросов\n"
     ]
    },
    {
     "name": "stderr",
     "output_type": "stream",
     "text": [
      "\n"
     ]
    },
    {
     "name": "stdout",
     "output_type": "stream",
     "text": [
      "Qwen3-8B DEV Финальный результат EX: 56.71\n",
      "Qwen3-8B процент запросов, которые успешно выполнились DEV: 95.18%\n",
      "====================================================================================================\n",
      "\n",
      "\n",
      "Загружаем чаты с данными...\n",
      "Данные успешно загружены\n",
      "Начали генерацию SQL запросов\n"
     ]
    },
    {
     "name": "stderr",
     "output_type": "stream",
     "text": [
      "Processed prompts: 100%|██████████| 1534/1534 [00:54<00:00, 28.18it/s, est. speed input: 43291.35 toks/s, output: 1353.31 toks/s] "
     ]
    },
    {
     "name": "stdout",
     "output_type": "stream",
     "text": [
      "extract_think количество ошибок:  0\n",
      "extract_sql количество ошибок:  0\n",
      "Закончили генерацию SQL запросов\n",
      "Начали скорр полученных SQL запросов\n"
     ]
    },
    {
     "name": "stderr",
     "output_type": "stream",
     "text": [
      "\n"
     ]
    },
    {
     "name": "stdout",
     "output_type": "stream",
     "text": [
      "Qwen3-8B DEV Финальный результат EX: 56.78\n",
      "Qwen3-8B процент запросов, которые успешно выполнились DEV: 95.57%\n",
      "====================================================================================================\n",
      "\n",
      "\n",
      "Загружаем чаты с данными...\n",
      "Данные успешно загружены\n",
      "Начали генерацию SQL запросов\n"
     ]
    },
    {
     "name": "stderr",
     "output_type": "stream",
     "text": [
      "Processed prompts: 100%|██████████| 1534/1534 [00:54<00:00, 28.03it/s, est. speed input: 43074.53 toks/s, output: 1354.21 toks/s] "
     ]
    },
    {
     "name": "stdout",
     "output_type": "stream",
     "text": [
      "extract_think количество ошибок:  0\n",
      "extract_sql количество ошибок:  0\n",
      "Закончили генерацию SQL запросов\n",
      "Начали скорр полученных SQL запросов\n"
     ]
    },
    {
     "name": "stderr",
     "output_type": "stream",
     "text": [
      "\n"
     ]
    },
    {
     "name": "stdout",
     "output_type": "stream",
     "text": [
      "Qwen3-8B DEV Финальный результат EX: 56.39\n",
      "Qwen3-8B процент запросов, которые успешно выполнились DEV: 95.11%\n",
      "====================================================================================================\n",
      "\n",
      "\n",
      "Загружаем чаты с данными...\n",
      "Данные успешно загружены\n",
      "Начали генерацию SQL запросов\n"
     ]
    },
    {
     "name": "stderr",
     "output_type": "stream",
     "text": [
      "Processed prompts: 100%|██████████| 1534/1534 [00:54<00:00, 28.24it/s, est. speed input: 43414.11 toks/s, output: 1367.25 toks/s] "
     ]
    },
    {
     "name": "stdout",
     "output_type": "stream",
     "text": [
      "extract_think количество ошибок:  0\n",
      "extract_sql количество ошибок:  0\n",
      "Закончили генерацию SQL запросов\n",
      "Начали скорр полученных SQL запросов\n"
     ]
    },
    {
     "name": "stderr",
     "output_type": "stream",
     "text": [
      "\n"
     ]
    },
    {
     "name": "stdout",
     "output_type": "stream",
     "text": [
      "Qwen3-8B DEV Финальный результат EX: 57.50\n",
      "Qwen3-8B процент запросов, которые успешно выполнились DEV: 95.70%\n",
      "====================================================================================================\n",
      "\n",
      "\n",
      "Загружаем чаты с данными...\n",
      "Данные успешно загружены\n",
      "Начали генерацию SQL запросов\n"
     ]
    },
    {
     "name": "stderr",
     "output_type": "stream",
     "text": [
      "Processed prompts: 100%|██████████| 1534/1534 [00:55<00:00, 27.81it/s, est. speed input: 42926.95 toks/s, output: 1371.64 toks/s] "
     ]
    },
    {
     "name": "stdout",
     "output_type": "stream",
     "text": [
      "extract_think количество ошибок:  0\n",
      "extract_sql количество ошибок:  0\n",
      "Закончили генерацию SQL запросов\n",
      "Начали скорр полученных SQL запросов\n"
     ]
    },
    {
     "name": "stderr",
     "output_type": "stream",
     "text": [
      "\n"
     ]
    },
    {
     "name": "stdout",
     "output_type": "stream",
     "text": [
      "Qwen3-8B DEV Финальный результат EX: 56.78\n",
      "Qwen3-8B процент запросов, которые успешно выполнились DEV: 95.31%\n",
      "====================================================================================================\n",
      "\n",
      "\n",
      "Загружаем чаты с данными...\n",
      "Данные успешно загружены\n",
      "Начали генерацию SQL запросов\n"
     ]
    },
    {
     "name": "stderr",
     "output_type": "stream",
     "text": [
      "Processed prompts: 100%|██████████| 1534/1534 [00:54<00:00, 28.03it/s, est. speed input: 43268.77 toks/s, output: 1358.82 toks/s] "
     ]
    },
    {
     "name": "stdout",
     "output_type": "stream",
     "text": [
      "extract_think количество ошибок:  0\n",
      "extract_sql количество ошибок:  0\n",
      "Закончили генерацию SQL запросов\n",
      "Начали скорр полученных SQL запросов\n"
     ]
    },
    {
     "name": "stderr",
     "output_type": "stream",
     "text": [
      "\n"
     ]
    },
    {
     "name": "stdout",
     "output_type": "stream",
     "text": [
      "Qwen3-8B DEV Финальный результат EX: 56.58\n",
      "Qwen3-8B процент запросов, которые успешно выполнились DEV: 95.37%\n",
      "====================================================================================================\n",
      "\n",
      "\n",
      "Загружаем чаты с данными...\n",
      "Данные успешно загружены\n",
      "Начали генерацию SQL запросов\n"
     ]
    },
    {
     "name": "stderr",
     "output_type": "stream",
     "text": [
      "Processed prompts: 100%|██████████| 1534/1534 [00:53<00:00, 28.44it/s, est. speed input: 43868.65 toks/s, output: 1369.60 toks/s] "
     ]
    },
    {
     "name": "stdout",
     "output_type": "stream",
     "text": [
      "extract_think количество ошибок:  0\n",
      "extract_sql количество ошибок:  0\n",
      "Закончили генерацию SQL запросов\n",
      "Начали скорр полученных SQL запросов\n"
     ]
    },
    {
     "name": "stderr",
     "output_type": "stream",
     "text": [
      "\n"
     ]
    },
    {
     "name": "stdout",
     "output_type": "stream",
     "text": [
      "Qwen3-8B DEV Финальный результат EX: 57.50\n",
      "Qwen3-8B процент запросов, которые успешно выполнились DEV: 95.57%\n",
      "====================================================================================================\n",
      "\n",
      "\n",
      "Загружаем чаты с данными...\n",
      "Данные успешно загружены\n",
      "Начали генерацию SQL запросов\n"
     ]
    },
    {
     "name": "stderr",
     "output_type": "stream",
     "text": [
      "Processed prompts: 100%|██████████| 1534/1534 [00:53<00:00, 28.54it/s, est. speed input: 43839.78 toks/s, output: 1357.60 toks/s] "
     ]
    },
    {
     "name": "stdout",
     "output_type": "stream",
     "text": [
      "extract_think количество ошибок:  0\n",
      "extract_sql количество ошибок:  0\n",
      "Закончили генерацию SQL запросов\n",
      "Начали скорр полученных SQL запросов\n"
     ]
    },
    {
     "name": "stderr",
     "output_type": "stream",
     "text": [
      "\n"
     ]
    },
    {
     "name": "stdout",
     "output_type": "stream",
     "text": [
      "Qwen3-8B DEV Финальный результат EX: 57.11\n",
      "Qwen3-8B процент запросов, которые успешно выполнились DEV: 95.70%\n",
      "====================================================================================================\n",
      "\n",
      "\n",
      "Загружаем чаты с данными...\n",
      "Данные успешно загружены\n",
      "Начали генерацию SQL запросов\n"
     ]
    },
    {
     "name": "stderr",
     "output_type": "stream",
     "text": [
      "Processed prompts: 100%|██████████| 1534/1534 [00:51<00:00, 29.75it/s, est. speed input: 45702.23 toks/s, output: 1408.54 toks/s] "
     ]
    },
    {
     "name": "stdout",
     "output_type": "stream",
     "text": [
      "extract_think количество ошибок:  0\n",
      "extract_sql количество ошибок:  0\n",
      "Закончили генерацию SQL запросов\n",
      "Начали скорр полученных SQL запросов\n"
     ]
    },
    {
     "name": "stderr",
     "output_type": "stream",
     "text": [
      "\n"
     ]
    },
    {
     "name": "stdout",
     "output_type": "stream",
     "text": [
      "Qwen3-8B DEV Финальный результат EX: 57.04\n",
      "Qwen3-8B процент запросов, которые успешно выполнились DEV: 96.02%\n",
      "====================================================================================================\n",
      "\n",
      "\n",
      "Загружаем чаты с данными...\n",
      "Данные успешно загружены\n",
      "Начали генерацию SQL запросов\n"
     ]
    },
    {
     "name": "stderr",
     "output_type": "stream",
     "text": [
      "Processed prompts: 100%|██████████| 1534/1534 [00:55<00:00, 27.41it/s, est. speed input: 42121.57 toks/s, output: 1329.67 toks/s] "
     ]
    },
    {
     "name": "stdout",
     "output_type": "stream",
     "text": [
      "extract_think количество ошибок:  0\n",
      "extract_sql количество ошибок:  0\n",
      "Закончили генерацию SQL запросов\n",
      "Начали скорр полученных SQL запросов\n"
     ]
    },
    {
     "name": "stderr",
     "output_type": "stream",
     "text": [
      "\n"
     ]
    },
    {
     "name": "stdout",
     "output_type": "stream",
     "text": [
      "Qwen3-8B DEV Финальный результат EX: 56.58\n",
      "Qwen3-8B процент запросов, которые успешно выполнились DEV: 95.44%\n",
      "====================================================================================================\n",
      "\n",
      "\n",
      "Загружаем чаты с данными...\n",
      "Данные успешно загружены\n",
      "Начали генерацию SQL запросов\n"
     ]
    },
    {
     "name": "stderr",
     "output_type": "stream",
     "text": [
      "Processed prompts: 100%|██████████| 1534/1534 [00:55<00:00, 27.52it/s, est. speed input: 42327.66 toks/s, output: 1345.01 toks/s] "
     ]
    },
    {
     "name": "stdout",
     "output_type": "stream",
     "text": [
      "extract_think количество ошибок:  0\n",
      "extract_sql количество ошибок:  0\n",
      "Закончили генерацию SQL запросов\n",
      "Начали скорр полученных SQL запросов\n"
     ]
    },
    {
     "name": "stderr",
     "output_type": "stream",
     "text": [
      "\n"
     ]
    },
    {
     "name": "stdout",
     "output_type": "stream",
     "text": [
      "Qwen3-8B DEV Финальный результат EX: 56.45\n",
      "Qwen3-8B процент запросов, которые успешно выполнились DEV: 95.18%\n",
      "====================================================================================================\n",
      "\n",
      "\n",
      "Загружаем чаты с данными...\n",
      "Данные успешно загружены\n",
      "Начали генерацию SQL запросов\n"
     ]
    },
    {
     "name": "stderr",
     "output_type": "stream",
     "text": [
      "Processed prompts: 100%|██████████| 1534/1534 [00:55<00:00, 27.79it/s, est. speed input: 42707.39 toks/s, output: 1337.16 toks/s] "
     ]
    },
    {
     "name": "stdout",
     "output_type": "stream",
     "text": [
      "extract_think количество ошибок:  0\n",
      "extract_sql количество ошибок:  0\n",
      "Закончили генерацию SQL запросов\n",
      "Начали скорр полученных SQL запросов\n"
     ]
    },
    {
     "name": "stderr",
     "output_type": "stream",
     "text": [
      "\n"
     ]
    },
    {
     "name": "stdout",
     "output_type": "stream",
     "text": [
      "Qwen3-8B DEV Финальный результат EX: 56.52\n",
      "Qwen3-8B процент запросов, которые успешно выполнились DEV: 95.24%\n",
      "====================================================================================================\n",
      "\n",
      "\n",
      "Загружаем чаты с данными...\n",
      "Данные успешно загружены\n",
      "Начали генерацию SQL запросов\n"
     ]
    },
    {
     "name": "stderr",
     "output_type": "stream",
     "text": [
      "Processed prompts: 100%|██████████| 1534/1534 [00:55<00:00, 27.80it/s, est. speed input: 42737.95 toks/s, output: 1344.14 toks/s] "
     ]
    },
    {
     "name": "stdout",
     "output_type": "stream",
     "text": [
      "extract_think количество ошибок:  0\n",
      "extract_sql количество ошибок:  0\n",
      "Закончили генерацию SQL запросов\n",
      "Начали скорр полученных SQL запросов\n"
     ]
    },
    {
     "name": "stderr",
     "output_type": "stream",
     "text": [
      "\n"
     ]
    },
    {
     "name": "stdout",
     "output_type": "stream",
     "text": [
      "Qwen3-8B DEV Финальный результат EX: 57.30\n",
      "Qwen3-8B процент запросов, которые успешно выполнились DEV: 95.05%\n",
      "====================================================================================================\n",
      "\n",
      "\n",
      "Загружаем чаты с данными...\n",
      "Данные успешно загружены\n",
      "Начали генерацию SQL запросов\n"
     ]
    },
    {
     "name": "stderr",
     "output_type": "stream",
     "text": [
      "Processed prompts: 100%|██████████| 1534/1534 [00:55<00:00, 27.56it/s, est. speed input: 42369.35 toks/s, output: 1328.89 toks/s] "
     ]
    },
    {
     "name": "stdout",
     "output_type": "stream",
     "text": [
      "extract_think количество ошибок:  0\n",
      "extract_sql количество ошибок:  0\n",
      "Закончили генерацию SQL запросов\n",
      "Начали скорр полученных SQL запросов\n"
     ]
    },
    {
     "name": "stderr",
     "output_type": "stream",
     "text": [
      "\n"
     ]
    },
    {
     "name": "stdout",
     "output_type": "stream",
     "text": [
      "Qwen3-8B DEV Финальный результат EX: 57.17\n",
      "Qwen3-8B процент запросов, которые успешно выполнились DEV: 95.05%\n",
      "====================================================================================================\n",
      "\n",
      "\n",
      "Загружаем чаты с данными...\n",
      "Данные успешно загружены\n",
      "Начали генерацию SQL запросов\n"
     ]
    },
    {
     "name": "stderr",
     "output_type": "stream",
     "text": [
      "Processed prompts: 100%|██████████| 1534/1534 [00:55<00:00, 27.66it/s, est. speed input: 42530.63 toks/s, output: 1365.09 toks/s] "
     ]
    },
    {
     "name": "stdout",
     "output_type": "stream",
     "text": [
      "extract_think количество ошибок:  0\n",
      "extract_sql количество ошибок:  0\n",
      "Закончили генерацию SQL запросов\n",
      "Начали скорр полученных SQL запросов\n"
     ]
    },
    {
     "name": "stderr",
     "output_type": "stream",
     "text": [
      "\n"
     ]
    },
    {
     "name": "stdout",
     "output_type": "stream",
     "text": [
      "Qwen3-8B DEV Финальный результат EX: 56.58\n",
      "Qwen3-8B процент запросов, которые успешно выполнились DEV: 95.05%\n",
      "====================================================================================================\n",
      "\n",
      "\n",
      "Загружаем чаты с данными...\n",
      "Данные успешно загружены\n",
      "Начали генерацию SQL запросов\n"
     ]
    },
    {
     "name": "stderr",
     "output_type": "stream",
     "text": [
      "Processed prompts: 100%|██████████| 1534/1534 [00:54<00:00, 28.31it/s, est. speed input: 43539.61 toks/s, output: 1378.78 toks/s] "
     ]
    },
    {
     "name": "stdout",
     "output_type": "stream",
     "text": [
      "extract_think количество ошибок:  0\n",
      "extract_sql количество ошибок:  0\n",
      "Закончили генерацию SQL запросов\n",
      "Начали скорр полученных SQL запросов\n"
     ]
    },
    {
     "name": "stderr",
     "output_type": "stream",
     "text": [
      "\n"
     ]
    },
    {
     "name": "stdout",
     "output_type": "stream",
     "text": [
      "Qwen3-8B DEV Финальный результат EX: 57.63\n",
      "Qwen3-8B процент запросов, которые успешно выполнились DEV: 94.92%\n",
      "====================================================================================================\n",
      "\n",
      "\n",
      "Загружаем чаты с данными...\n",
      "Данные успешно загружены\n",
      "Начали генерацию SQL запросов\n"
     ]
    },
    {
     "name": "stderr",
     "output_type": "stream",
     "text": [
      "Processed prompts: 100%|██████████| 1534/1534 [00:54<00:00, 28.37it/s, est. speed input: 43617.53 toks/s, output: 1386.63 toks/s] "
     ]
    },
    {
     "name": "stdout",
     "output_type": "stream",
     "text": [
      "extract_think количество ошибок:  0\n",
      "extract_sql количество ошибок:  0\n",
      "Закончили генерацию SQL запросов\n",
      "Начали скорр полученных SQL запросов\n"
     ]
    },
    {
     "name": "stderr",
     "output_type": "stream",
     "text": [
      "\n"
     ]
    },
    {
     "name": "stdout",
     "output_type": "stream",
     "text": [
      "Qwen3-8B DEV Финальный результат EX: 58.28\n",
      "Qwen3-8B процент запросов, которые успешно выполнились DEV: 95.24%\n",
      "====================================================================================================\n",
      "\n",
      "\n",
      "Загружаем чаты с данными...\n",
      "Данные успешно загружены\n",
      "Начали генерацию SQL запросов\n"
     ]
    },
    {
     "name": "stderr",
     "output_type": "stream",
     "text": [
      "Processed prompts: 100%|██████████| 1534/1534 [00:55<00:00, 27.55it/s, est. speed input: 42365.21 toks/s, output: 1338.29 toks/s] "
     ]
    },
    {
     "name": "stdout",
     "output_type": "stream",
     "text": [
      "extract_think количество ошибок:  0\n",
      "extract_sql количество ошибок:  0\n",
      "Закончили генерацию SQL запросов\n",
      "Начали скорр полученных SQL запросов\n"
     ]
    },
    {
     "name": "stderr",
     "output_type": "stream",
     "text": [
      "\n"
     ]
    },
    {
     "name": "stdout",
     "output_type": "stream",
     "text": [
      "Qwen3-8B DEV Финальный результат EX: 57.50\n",
      "Qwen3-8B процент запросов, которые успешно выполнились DEV: 94.59%\n",
      "====================================================================================================\n",
      "\n",
      "\n",
      "Загружаем чаты с данными...\n",
      "Данные успешно загружены\n",
      "Начали генерацию SQL запросов\n"
     ]
    },
    {
     "name": "stderr",
     "output_type": "stream",
     "text": [
      "Processed prompts: 100%|██████████| 1534/1534 [00:51<00:00, 29.75it/s, est. speed input: 45703.63 toks/s, output: 1417.03 toks/s] "
     ]
    },
    {
     "name": "stdout",
     "output_type": "stream",
     "text": [
      "extract_think количество ошибок:  0\n",
      "extract_sql количество ошибок:  0\n",
      "Закончили генерацию SQL запросов\n",
      "Начали скорр полученных SQL запросов\n"
     ]
    },
    {
     "name": "stderr",
     "output_type": "stream",
     "text": [
      "\n"
     ]
    },
    {
     "name": "stdout",
     "output_type": "stream",
     "text": [
      "Qwen3-8B DEV Финальный результат EX: 56.39\n",
      "Qwen3-8B процент запросов, которые успешно выполнились DEV: 94.26%\n",
      "====================================================================================================\n",
      "\n",
      "\n"
     ]
    }
   ],
   "source": [
    "run_cot_experiment(model,arr_seeds,arr_versions, type_cot,num_observations=num_observations)"
   ]
  },
  {
   "cell_type": "code",
   "execution_count": 19,
   "id": "57efa230-434d-4803-901f-a4d09f2971ad",
   "metadata": {},
   "outputs": [
    {
     "name": "stdout",
     "output_type": "stream",
     "text": [
      "[953, 384, 159, 275, 612, 459, 83, 648, 966, 555, 921, 583, 643, 69, 407, 489, 402, 856, 254, 646]\n",
      "model: Qwen3-8B\n"
     ]
    }
   ],
   "source": [
    "n= 20\n",
    "arr_seeds = [random.randint(0,1000) for _ in range(n)]\n",
    "arr_versions = [x for x in range(n)]\n",
    "model = \"Qwen3-8B\"\n",
    "num_observations = 4\n",
    "type_cot = 'predict'\n",
    "print(arr_seeds)\n",
    "print(f\"model: {model}\")"
   ]
  },
  {
   "cell_type": "code",
   "execution_count": 20,
   "id": "84e49863-1bc7-4141-93e1-a7dbca7ce991",
   "metadata": {
    "scrolled": true
   },
   "outputs": [
    {
     "name": "stdout",
     "output_type": "stream",
     "text": [
      "Загружаем модель...\n"
     ]
    },
    {
     "name": "stderr",
     "output_type": "stream",
     "text": [
      "Loading safetensors checkpoint shards:   0% Completed | 0/4 [00:00<?, ?it/s]\n",
      "Loading safetensors checkpoint shards:  25% Completed | 1/4 [00:00<00:00,  8.77it/s]\n",
      "Loading safetensors checkpoint shards:  50% Completed | 2/4 [00:00<00:00,  2.59it/s]\n",
      "Loading safetensors checkpoint shards:  75% Completed | 3/4 [00:01<00:00,  1.85it/s]\n",
      "Loading safetensors checkpoint shards: 100% Completed | 4/4 [00:02<00:00,  1.63it/s]\n",
      "Loading safetensors checkpoint shards: 100% Completed | 4/4 [00:02<00:00,  1.87it/s]\n",
      "\u001b[1;36m(VllmWorker rank=0 pid=4176018)\u001b[0;0m \n"
     ]
    },
    {
     "name": "stdout",
     "output_type": "stream",
     "text": [
      "Модель успешно загружена\n",
      "model_config {'model': '/data/home/vkropoti/models/Qwen3-8B', 'tensor_parallel_size': 2, 'max_model_len': 40000, 'max_new_tokens': 1500, 'temperature': 0, 'top_k': 1, 'top_p': 0.8, 'gpu_memory_utilization': 0.9, 'trust_remote_code': False, 'seed': 953}\n",
      "\n",
      "prompts_config {'path_dev_json': '/home/vkropoti/vllm/dev.json', 'path_sql_dbs': '/data/home/vkropoti/sql_data/dev_databases/', 'use_reasoning': False, 'paths_to_cot': ['/data/home/vkropoti/sql_llm_answers/bird_dev/sql_predict_Qwen3-8B-reasoning-v0', '/data/home/vkropoti/sql_llm_answers/bird_dev/sql_predict_Qwen3-8B-reasoning-v1', '/data/home/vkropoti/sql_llm_answers/bird_dev/sql_predict_Qwen3-8B-reasoning-v2', '/data/home/vkropoti/sql_llm_answers/bird_dev/sql_predict_Qwen3-8B-reasoning-v3']}\n",
      "\n",
      "save_config {'path_sql_save': '/data/home/vkropoti/sql_llm_answers/bird_dev/sql_all_Qwen3-8B-cot_predict_think==False_nobs4-v0', 'path_think_save': None, 'path_sql_answers_save': '/data/home/vkropoti/sql_llm_answers/bird_dev/sql_predict_Qwen3-8B-cot_predict_think==False_nobs4-v0', 'path_to_save_scores': '/data/home/vkropoti/sql_llm_answers/bird_dev/sql_results_Qwen3-8B-cot_predict_think==False_nobs4-v0', 'path_to_save_executed': '/data/home/vkropoti/sql_llm_answers/bird_dev/sql_executed_Qwen3-8B-cot_predict_think==False_nobs4-v0'}\n",
      "\n",
      "Модель успешно загружена\n",
      "Пример промпта\n",
      "<|im_start|>system\n",
      "\n",
      "You are a data science expert. Below, you are provided with a database schema and a natural language question. Your task is to understand the schema and generate a valid SQL query to answer the question.\n",
      "\n",
      "Database Engine: SQLite\n",
      "\n",
      "You will be given an additional analysis of other models, please take it into account, so the plan is\n",
      "1. Analyse given addition analysis from other models (find in which analysis the same and differ, how to use that to answer question)\n",
      "2. Combine best from previous part and think how to solve the problem (analyze tables, take care what columns avaliable in each table and so on, check the syntacsis)\n",
      "3. Create the answers. The answer should be only sql query.\n",
      "\n",
      "Carefully follow the instruction and add <|im_end|> and the end of the final answer<|im_end|>\n",
      "<|im_start|>user\n",
      "Here is addition analysis from other models which can be helpfull, please take this into account but be careful (choose the best from each analysis, combine them to make the most proper answer):\n",
      "\n",
      "model 0 analysis:\n",
      " SELECT MAX(`Free Meal Count (K-12)` / `Enrollment (K-12)`) FROM frpm JOIN schools ON frpm.CDSCode = schools.CDSCode WHERE County = 'Alameda';\n",
      "\n",
      "model 1 analysis:\n",
      " SELECT MAX(`Free Meal Count (K-12)` / `Enrollment (K-12)`) FROM frpm JOIN schools ON frpm.CDSCode = schools.CDSCode WHERE schools.County = 'Alameda';\n",
      "\n",
      "model 2 analysis:\n",
      " SELECT MAX(`Free Meal Count (K-12)` / `Enrollment (K-12)`) FROM frpm JOIN schools ON frpm.CDSCode = schools.CDSCode WHERE schools.County = 'Alameda';\n",
      "\n",
      "model 3 analysis:\n",
      " -- Your SQL query\n",
      "SELECT MAX(`Free Meal Count (K-12)` / `Enrollment (K-12)`) FROM frpm WHERE `County Name` = 'Alameda';\n",
      "\n",
      "\n",
      "here is avaliable tables below\n",
      "\n",
      "\n",
      "Table: frpm\n",
      "CREATE TABLE frpm\n",
      "(\n",
      "    CDSCode                                       TEXT not null\n",
      "        primary key,\n",
      "    `Academic Year`                               TEXT  null,\n",
      "    `County Code`                                 TEXT  null,\n",
      "    `District Code`                               INTEGER         null,\n",
      "    `School Code`                                 TEXT  null,\n",
      "    `County Name`                                 TEXT null,\n",
      "    `District Name`                               TEXT null,\n",
      "    `School Name`                                 TEXT null,\n",
      "    `District Type`                               TEXT null,\n",
      "    `School Type`                                 TEXT null,\n",
      "    `Educational Option Type`                     TEXT null,\n",
      "    `NSLP Provision Status`                       TEXT null,\n",
      "    `Charter School (Y/N)`                        INTEGER    null,\n",
      "    `Charter School Number`                       TEXT  null,\n",
      "    `Charter Funding Type`                        TEXT null,\n",
      "    IRC                                           INTEGER    null,\n",
      "    `Low Grade`                                   TEXT  null,\n",
      "    `High Grade`                                  TEXT null,\n",
      "    `Enrollment (K-12)`                           REAL      null,\n",
      "    `Free Meal Count (K-12)`                      REAL       null,\n",
      "    `Percent (%) Eligible Free (K-12)`            REAL       null,\n",
      "    `FRPM Count (K-12)`                           REAL       null,\n",
      "    `Percent (%) Eligible FRPM (K-12)`            REAL       null,\n",
      "    `Enrollment (Ages 5-17)`                      REAL       null,\n",
      "    `Free Meal Count (Ages 5-17)`                 REAL       null,\n",
      "    `Percent (%) Eligible Free (Ages 5-17)`       REAL       null,\n",
      "    `FRPM Count (Ages 5-17)`                      REAL       null,\n",
      "    `Percent (%) Eligible FRPM (Ages 5-17)`       REAL       null,\n",
      "    `2013-14 CALPADS Fall 1 Certification Status` INTEGER    null,\n",
      "    foreign key (CDSCode) references schools (CDSCode)\n",
      ")\n",
      "\n",
      "Table: satscores\n",
      "CREATE TABLE satscores\n",
      "(\n",
      "    cds         TEXT not null\n",
      "        primary key,\n",
      "    rtype       TEXT  not null,\n",
      "    sname       TEXT null,\n",
      "    dname       TEXT null,\n",
      "    cname       TEXT null,\n",
      "    enroll12    INTEGER         not null,\n",
      "    NumTstTakr  INTEGER          not null,\n",
      "    AvgScrRead  INTEGER          null,\n",
      "    AvgScrMath  INTEGER          null,\n",
      "    AvgScrWrite INTEGER          null,\n",
      "    NumGE1500   INTEGER          null,\n",
      "--     PctGE1500   double      null,\n",
      "        foreign key (cds) references schools (CDSCode)\n",
      ")\n",
      "\n",
      "Table: schools\n",
      "CREATE TABLE schools\n",
      "(\n",
      "    CDSCode     TEXT not null\n",
      "        primary key,\n",
      "    NCESDist    TEXT  null,\n",
      "    NCESSchool  TEXT  null,\n",
      "    StatusType  TEXT  not null,\n",
      "    County      TEXT not null,\n",
      "    District    TEXT not null,\n",
      "    School      TEXT null,\n",
      "    Street      TEXT null,\n",
      "    StreetAbr   TEXT null,\n",
      "    City        TEXT null,\n",
      "    Zip         TEXT null,\n",
      "    State       TEXT  null,\n",
      "    MailStreet  TEXT null,\n",
      "    MailStrAbr  TEXT null,\n",
      "    MailCity    TEXT null,\n",
      "    MailZip     TEXT null,\n",
      "    MailState   TEXT  null,\n",
      "    Phone       TEXT null,\n",
      "    Ext         TEXT  null,\n",
      "    Website     TEXT null,\n",
      "    OpenDate    DATE        null,\n",
      "    ClosedDate  DATE        null,\n",
      "    Charter     INTEGER    null,\n",
      "    CharterNum  TEXT  null,\n",
      "    FundingType TEXT null,\n",
      "    DOC         TEXT  not null,\n",
      "    DOCType     TEXT not null,\n",
      "    SOC         TEXT  null,\n",
      "    SOCType     TEXT null,\n",
      "    EdOpsCode   TEXT  null,\n",
      "    EdOpsName   TEXT null,\n",
      "    EILCode     TEXT  null,\n",
      "    EILName     TEXT null,\n",
      "    GSoffered   TEXT null,\n",
      "    GSserved    TEXT  null,\n",
      "    Virtual     TEXT  null,\n",
      "    Magnet      INTEGER   null,\n",
      "    Latitude    REAL      null,\n",
      "    Longitude   REAL      null,\n",
      "    AdmFName1   TEXT null,\n",
      "    AdmLName1   TEXT null,\n",
      "    AdmEmail1   TEXT null,\n",
      "    AdmFName2   TEXT null,\n",
      "    AdmLName2   TEXT null,\n",
      "    AdmEmail2   TEXT null,\n",
      "    AdmFName3   TEXT  null,\n",
      "    AdmLName3   TEXT null,\n",
      "    AdmEmail3   TEXT null,\n",
      "    LastUpdate  DATE        not null\n",
      ")\n",
      "\n",
      "-- Using valid SQLite and understanding External Knowledge, answer the following questions for the tables provided above.\n",
      "-- What is the highest eligible free rate for K-12 students in the schools in Alameda County?\n",
      "-- External Knowledge: Eligible free rate for K-12 = `Free Meal Count (K-12)` / `Enrollment (K-12)`\n",
      "\n",
      "\n",
      "Generate the SQLite for the above question after thinking step by step: \n",
      "\n",
      "\n",
      "Instructions:\n",
      "- Make sure you only output the information that is asked in the question. If the question asks for a specific column, make sure to only include that column in the SELECT clause, nothing more.\n",
      "- The generated query should return all of the information asked in the question without any missing or extra information.\n",
      "- Before generating the final SQL query, please think through the steps of how to write the query.\n",
      "- Do not misuse column names, keep them in quotes `\n",
      "- Carefully understand what colomns belond to what tables\n",
      "- Use only initial column names, change names prohibited\n",
      "        \n",
      "Output Format:\n",
      "In your answer, please enclose the generated SQL query in a code block:\n",
      "```\n",
      "-- Your SQL query\n",
      "```    \n",
      "and nothing else, no exaplains, no comments (asnwer should be less than 512 characters)\n",
      "\n",
      "Take a deep breath and think step by step to find the correct SQL query in SQLite format.\n",
      "\n",
      "Question repetition: What is the highest eligible free rate for K-12 students in the schools in Alameda County?\n",
      "\n",
      "Be care! Include only what i want it questiona and nothing else<|im_end|>\n",
      "<|im_start|>assistant\n",
      "<think>\n",
      "\n",
      "</think>\n",
      "\n",
      "\n",
      "\n",
      "\n",
      "Максимальное количество токенов в промптах: 4710\n",
      "\n",
      "начинаем скорринг\n",
      "Загружаем чаты с данными...\n",
      "Данные успешно загружены\n",
      "Начали генерацию SQL запросов\n"
     ]
    },
    {
     "name": "stderr",
     "output_type": "stream",
     "text": [
      "Processed prompts: 100%|██████████| 1534/1534 [00:53<00:00, 28.78it/s, est. speed input: 45673.81 toks/s, output: 1377.62 toks/s] "
     ]
    },
    {
     "name": "stdout",
     "output_type": "stream",
     "text": [
      "extract_think количество ошибок:  0\n",
      "extract_sql количество ошибок:  0\n",
      "Закончили генерацию SQL запросов\n",
      "Начали скорр полученных SQL запросов\n"
     ]
    },
    {
     "name": "stderr",
     "output_type": "stream",
     "text": [
      "\n"
     ]
    },
    {
     "name": "stdout",
     "output_type": "stream",
     "text": [
      "Qwen3-8B DEV Финальный результат EX: 56.71\n",
      "Qwen3-8B процент запросов, которые успешно выполнились DEV: 95.05%\n",
      "====================================================================================================\n",
      "\n",
      "\n",
      "Загружаем чаты с данными...\n",
      "Данные успешно загружены\n",
      "Начали генерацию SQL запросов\n"
     ]
    },
    {
     "name": "stderr",
     "output_type": "stream",
     "text": [
      "Processed prompts: 100%|██████████| 1534/1534 [00:56<00:00, 27.35it/s, est. speed input: 43393.01 toks/s, output: 1307.34 toks/s] "
     ]
    },
    {
     "name": "stdout",
     "output_type": "stream",
     "text": [
      "extract_think количество ошибок:  0\n",
      "extract_sql количество ошибок:  0\n",
      "Закончили генерацию SQL запросов\n",
      "Начали скорр полученных SQL запросов\n"
     ]
    },
    {
     "name": "stderr",
     "output_type": "stream",
     "text": [
      "\n"
     ]
    },
    {
     "name": "stdout",
     "output_type": "stream",
     "text": [
      "Qwen3-8B DEV Финальный результат EX: 57.04\n",
      "Qwen3-8B процент запросов, которые успешно выполнились DEV: 95.37%\n",
      "====================================================================================================\n",
      "\n",
      "\n",
      "Загружаем чаты с данными...\n",
      "Данные успешно загружены\n",
      "Начали генерацию SQL запросов\n"
     ]
    },
    {
     "name": "stderr",
     "output_type": "stream",
     "text": [
      "Processed prompts: 100%|██████████| 1534/1534 [00:56<00:00, 27.35it/s, est. speed input: 43419.17 toks/s, output: 1315.10 toks/s] "
     ]
    },
    {
     "name": "stdout",
     "output_type": "stream",
     "text": [
      "extract_think количество ошибок:  0\n",
      "extract_sql количество ошибок:  0\n",
      "Закончили генерацию SQL запросов\n",
      "Начали скорр полученных SQL запросов\n"
     ]
    },
    {
     "name": "stderr",
     "output_type": "stream",
     "text": [
      "\n"
     ]
    },
    {
     "name": "stdout",
     "output_type": "stream",
     "text": [
      "Qwen3-8B DEV Финальный результат EX: 56.84\n",
      "Qwen3-8B процент запросов, которые успешно выполнились DEV: 95.11%\n",
      "====================================================================================================\n",
      "\n",
      "\n",
      "Загружаем чаты с данными...\n",
      "Данные успешно загружены\n",
      "Начали генерацию SQL запросов\n"
     ]
    },
    {
     "name": "stderr",
     "output_type": "stream",
     "text": [
      "Processed prompts: 100%|██████████| 1534/1534 [00:56<00:00, 26.95it/s, est. speed input: 42794.02 toks/s, output: 1297.65 toks/s] "
     ]
    },
    {
     "name": "stdout",
     "output_type": "stream",
     "text": [
      "extract_think количество ошибок:  0\n",
      "extract_sql количество ошибок:  0\n",
      "Закончили генерацию SQL запросов\n",
      "Начали скорр полученных SQL запросов\n"
     ]
    },
    {
     "name": "stderr",
     "output_type": "stream",
     "text": [
      "\n"
     ]
    },
    {
     "name": "stdout",
     "output_type": "stream",
     "text": [
      "Qwen3-8B DEV Финальный результат EX: 56.98\n",
      "Qwen3-8B процент запросов, которые успешно выполнились DEV: 95.31%\n",
      "====================================================================================================\n",
      "\n",
      "\n",
      "Загружаем чаты с данными...\n",
      "Данные успешно загружены\n",
      "Начали генерацию SQL запросов\n"
     ]
    },
    {
     "name": "stderr",
     "output_type": "stream",
     "text": [
      "Processed prompts: 100%|██████████| 1534/1534 [00:56<00:00, 27.02it/s, est. speed input: 43058.72 toks/s, output: 1303.79 toks/s] "
     ]
    },
    {
     "name": "stdout",
     "output_type": "stream",
     "text": [
      "extract_think количество ошибок:  0\n",
      "extract_sql количество ошибок:  0\n",
      "Закончили генерацию SQL запросов\n",
      "Начали скорр полученных SQL запросов\n"
     ]
    },
    {
     "name": "stderr",
     "output_type": "stream",
     "text": [
      "\n"
     ]
    },
    {
     "name": "stdout",
     "output_type": "stream",
     "text": [
      "Qwen3-8B DEV Финальный результат EX: 57.69\n",
      "Qwen3-8B процент запросов, которые успешно выполнились DEV: 95.63%\n",
      "====================================================================================================\n",
      "\n",
      "\n",
      "Загружаем чаты с данными...\n",
      "Данные успешно загружены\n",
      "Начали генерацию SQL запросов\n"
     ]
    },
    {
     "name": "stderr",
     "output_type": "stream",
     "text": [
      "Processed prompts: 100%|██████████| 1534/1534 [00:56<00:00, 27.36it/s, est. speed input: 43627.54 toks/s, output: 1318.50 toks/s] "
     ]
    },
    {
     "name": "stdout",
     "output_type": "stream",
     "text": [
      "extract_think количество ошибок:  0\n",
      "extract_sql количество ошибок:  0\n",
      "Закончили генерацию SQL запросов\n",
      "Начали скорр полученных SQL запросов\n"
     ]
    },
    {
     "name": "stderr",
     "output_type": "stream",
     "text": [
      "\n"
     ]
    },
    {
     "name": "stdout",
     "output_type": "stream",
     "text": [
      "Qwen3-8B DEV Финальный результат EX: 56.91\n",
      "Qwen3-8B процент запросов, которые успешно выполнились DEV: 95.50%\n",
      "====================================================================================================\n",
      "\n",
      "\n",
      "Загружаем чаты с данными...\n",
      "Данные успешно загружены\n",
      "Начали генерацию SQL запросов\n"
     ]
    },
    {
     "name": "stderr",
     "output_type": "stream",
     "text": [
      "Processed prompts: 100%|██████████| 1534/1534 [00:56<00:00, 27.20it/s, est. speed input: 43353.78 toks/s, output: 1311.79 toks/s] "
     ]
    },
    {
     "name": "stdout",
     "output_type": "stream",
     "text": [
      "extract_think количество ошибок:  0\n",
      "extract_sql количество ошибок:  0\n",
      "Закончили генерацию SQL запросов\n",
      "Начали скорр полученных SQL запросов\n"
     ]
    },
    {
     "name": "stderr",
     "output_type": "stream",
     "text": [
      "\n"
     ]
    },
    {
     "name": "stdout",
     "output_type": "stream",
     "text": [
      "Qwen3-8B DEV Финальный результат EX: 57.24\n",
      "Qwen3-8B процент запросов, которые успешно выполнились DEV: 95.83%\n",
      "====================================================================================================\n",
      "\n",
      "\n",
      "Загружаем чаты с данными...\n",
      "Данные успешно загружены\n",
      "Начали генерацию SQL запросов\n"
     ]
    },
    {
     "name": "stderr",
     "output_type": "stream",
     "text": [
      "Processed prompts: 100%|██████████| 1534/1534 [00:56<00:00, 27.25it/s, est. speed input: 43382.65 toks/s, output: 1299.81 toks/s] "
     ]
    },
    {
     "name": "stdout",
     "output_type": "stream",
     "text": [
      "extract_think количество ошибок:  0\n",
      "extract_sql количество ошибок:  0\n",
      "Закончили генерацию SQL запросов\n",
      "Начали скорр полученных SQL запросов\n"
     ]
    },
    {
     "name": "stderr",
     "output_type": "stream",
     "text": [
      "\n"
     ]
    },
    {
     "name": "stdout",
     "output_type": "stream",
     "text": [
      "Qwen3-8B DEV Финальный результат EX: 56.98\n",
      "Qwen3-8B процент запросов, которые успешно выполнились DEV: 95.63%\n",
      "====================================================================================================\n",
      "\n",
      "\n",
      "Загружаем чаты с данными...\n",
      "Данные успешно загружены\n",
      "Начали генерацию SQL запросов\n"
     ]
    },
    {
     "name": "stderr",
     "output_type": "stream",
     "text": [
      "Processed prompts: 100%|██████████| 1534/1534 [00:53<00:00, 28.93it/s, est. speed input: 45914.67 toks/s, output: 1371.79 toks/s] "
     ]
    },
    {
     "name": "stdout",
     "output_type": "stream",
     "text": [
      "extract_think количество ошибок:  0\n",
      "extract_sql количество ошибок:  0\n",
      "Закончили генерацию SQL запросов\n",
      "Начали скорр полученных SQL запросов\n"
     ]
    },
    {
     "name": "stderr",
     "output_type": "stream",
     "text": [
      "\n"
     ]
    },
    {
     "name": "stdout",
     "output_type": "stream",
     "text": [
      "Qwen3-8B DEV Финальный результат EX: 57.11\n",
      "Qwen3-8B процент запросов, которые успешно выполнились DEV: 96.09%\n",
      "====================================================================================================\n",
      "\n",
      "\n",
      "Загружаем чаты с данными...\n",
      "Данные успешно загружены\n",
      "Начали генерацию SQL запросов\n"
     ]
    },
    {
     "name": "stderr",
     "output_type": "stream",
     "text": [
      "Processed prompts: 100%|██████████| 1534/1534 [00:57<00:00, 26.51it/s, est. speed input: 42056.45 toks/s, output: 1271.09 toks/s] "
     ]
    },
    {
     "name": "stdout",
     "output_type": "stream",
     "text": [
      "extract_think количество ошибок:  0\n",
      "extract_sql количество ошибок:  0\n",
      "Закончили генерацию SQL запросов\n",
      "Начали скорр полученных SQL запросов\n"
     ]
    },
    {
     "name": "stderr",
     "output_type": "stream",
     "text": [
      "\n"
     ]
    },
    {
     "name": "stdout",
     "output_type": "stream",
     "text": [
      "Qwen3-8B DEV Финальный результат EX: 57.04\n",
      "Qwen3-8B процент запросов, которые успешно выполнились DEV: 96.15%\n",
      "====================================================================================================\n",
      "\n",
      "\n",
      "Загружаем чаты с данными...\n",
      "Данные успешно загружены\n",
      "Начали генерацию SQL запросов\n"
     ]
    },
    {
     "name": "stderr",
     "output_type": "stream",
     "text": [
      "Processed prompts: 100%|██████████| 1534/1534 [00:56<00:00, 26.95it/s, est. speed input: 42782.70 toks/s, output: 1291.84 toks/s] "
     ]
    },
    {
     "name": "stdout",
     "output_type": "stream",
     "text": [
      "extract_think количество ошибок:  0\n",
      "extract_sql количество ошибок:  0\n",
      "Закончили генерацию SQL запросов\n",
      "Начали скорр полученных SQL запросов\n"
     ]
    },
    {
     "name": "stderr",
     "output_type": "stream",
     "text": [
      "\n"
     ]
    },
    {
     "name": "stdout",
     "output_type": "stream",
     "text": [
      "Qwen3-8B DEV Финальный результат EX: 56.84\n",
      "Qwen3-8B процент запросов, которые успешно выполнились DEV: 95.50%\n",
      "====================================================================================================\n",
      "\n",
      "\n",
      "Загружаем чаты с данными...\n",
      "Данные успешно загружены\n",
      "Начали генерацию SQL запросов\n"
     ]
    },
    {
     "name": "stderr",
     "output_type": "stream",
     "text": [
      "Processed prompts: 100%|██████████| 1534/1534 [00:57<00:00, 26.73it/s, est. speed input: 42447.69 toks/s, output: 1284.82 toks/s] "
     ]
    },
    {
     "name": "stdout",
     "output_type": "stream",
     "text": [
      "extract_think количество ошибок:  0\n",
      "extract_sql количество ошибок:  0\n",
      "Закончили генерацию SQL запросов\n",
      "Начали скорр полученных SQL запросов\n"
     ]
    },
    {
     "name": "stderr",
     "output_type": "stream",
     "text": [
      "\n"
     ]
    },
    {
     "name": "stdout",
     "output_type": "stream",
     "text": [
      "Qwen3-8B DEV Финальный результат EX: 57.04\n",
      "Qwen3-8B процент запросов, которые успешно выполнились DEV: 95.05%\n",
      "====================================================================================================\n",
      "\n",
      "\n",
      "Загружаем чаты с данными...\n",
      "Данные успешно загружены\n",
      "Начали генерацию SQL запросов\n"
     ]
    },
    {
     "name": "stderr",
     "output_type": "stream",
     "text": [
      "Processed prompts: 100%|██████████| 1534/1534 [00:57<00:00, 26.74it/s, est. speed input: 42465.79 toks/s, output: 1296.58 toks/s] "
     ]
    },
    {
     "name": "stdout",
     "output_type": "stream",
     "text": [
      "extract_think количество ошибок:  0\n",
      "extract_sql количество ошибок:  0\n",
      "Закончили генерацию SQL запросов\n",
      "Начали скорр полученных SQL запросов\n"
     ]
    },
    {
     "name": "stderr",
     "output_type": "stream",
     "text": [
      "\n"
     ]
    },
    {
     "name": "stdout",
     "output_type": "stream",
     "text": [
      "Qwen3-8B DEV Финальный результат EX: 56.26\n",
      "Qwen3-8B процент запросов, которые успешно выполнились DEV: 95.18%\n",
      "====================================================================================================\n",
      "\n",
      "\n",
      "Загружаем чаты с данными...\n",
      "Данные успешно загружены\n",
      "Начали генерацию SQL запросов\n"
     ]
    },
    {
     "name": "stderr",
     "output_type": "stream",
     "text": [
      "Processed prompts: 100%|██████████| 1534/1534 [00:57<00:00, 26.84it/s, est. speed input: 42629.02 toks/s, output: 1294.00 toks/s] "
     ]
    },
    {
     "name": "stdout",
     "output_type": "stream",
     "text": [
      "extract_think количество ошибок:  0\n",
      "extract_sql количество ошибок:  0\n",
      "Закончили генерацию SQL запросов\n",
      "Начали скорр полученных SQL запросов\n"
     ]
    },
    {
     "name": "stderr",
     "output_type": "stream",
     "text": [
      "\n"
     ]
    },
    {
     "name": "stdout",
     "output_type": "stream",
     "text": [
      "Qwen3-8B DEV Финальный результат EX: 57.63\n",
      "Qwen3-8B процент запросов, которые успешно выполнились DEV: 95.31%\n",
      "====================================================================================================\n",
      "\n",
      "\n",
      "Загружаем чаты с данными...\n",
      "Данные успешно загружены\n",
      "Начали генерацию SQL запросов\n"
     ]
    },
    {
     "name": "stderr",
     "output_type": "stream",
     "text": [
      "Processed prompts: 100%|██████████| 1534/1534 [00:57<00:00, 26.57it/s, est. speed input: 42192.72 toks/s, output: 1292.28 toks/s] "
     ]
    },
    {
     "name": "stdout",
     "output_type": "stream",
     "text": [
      "extract_think количество ошибок:  0\n",
      "extract_sql количество ошибок:  0\n",
      "Закончили генерацию SQL запросов\n",
      "Начали скорр полученных SQL запросов\n"
     ]
    },
    {
     "name": "stderr",
     "output_type": "stream",
     "text": [
      "\n"
     ]
    },
    {
     "name": "stdout",
     "output_type": "stream",
     "text": [
      "Qwen3-8B DEV Финальный результат EX: 56.91\n",
      "Qwen3-8B процент запросов, которые успешно выполнились DEV: 95.05%\n",
      "====================================================================================================\n",
      "\n",
      "\n",
      "Загружаем чаты с данными...\n",
      "Данные успешно загружены\n",
      "Начали генерацию SQL запросов\n"
     ]
    },
    {
     "name": "stderr",
     "output_type": "stream",
     "text": [
      "Processed prompts: 100%|██████████| 1534/1534 [00:56<00:00, 27.08it/s, est. speed input: 43028.38 toks/s, output: 1325.94 toks/s] "
     ]
    },
    {
     "name": "stdout",
     "output_type": "stream",
     "text": [
      "extract_think количество ошибок:  0\n",
      "extract_sql количество ошибок:  0\n",
      "Закончили генерацию SQL запросов\n",
      "Начали скорр полученных SQL запросов\n"
     ]
    },
    {
     "name": "stderr",
     "output_type": "stream",
     "text": [
      "\n"
     ]
    },
    {
     "name": "stdout",
     "output_type": "stream",
     "text": [
      "Qwen3-8B DEV Финальный результат EX: 57.82\n",
      "Qwen3-8B процент запросов, которые успешно выполнились DEV: 95.37%\n",
      "====================================================================================================\n",
      "\n",
      "\n",
      "Загружаем чаты с данными...\n",
      "Данные успешно загружены\n",
      "Начали генерацию SQL запросов\n"
     ]
    },
    {
     "name": "stderr",
     "output_type": "stream",
     "text": [
      "Processed prompts: 100%|██████████| 1534/1534 [00:56<00:00, 27.34it/s, est. speed input: 43422.30 toks/s, output: 1319.43 toks/s] "
     ]
    },
    {
     "name": "stdout",
     "output_type": "stream",
     "text": [
      "extract_think количество ошибок:  0\n",
      "extract_sql количество ошибок:  0\n",
      "Закончили генерацию SQL запросов\n",
      "Начали скорр полученных SQL запросов\n"
     ]
    },
    {
     "name": "stderr",
     "output_type": "stream",
     "text": [
      "\n"
     ]
    },
    {
     "name": "stdout",
     "output_type": "stream",
     "text": [
      "Qwen3-8B DEV Финальный результат EX: 57.89\n",
      "Qwen3-8B процент запросов, которые успешно выполнились DEV: 94.98%\n",
      "====================================================================================================\n",
      "\n",
      "\n",
      "Загружаем чаты с данными...\n",
      "Данные успешно загружены\n",
      "Начали генерацию SQL запросов\n"
     ]
    },
    {
     "name": "stderr",
     "output_type": "stream",
     "text": [
      "Processed prompts: 100%|██████████| 1534/1534 [00:58<00:00, 26.21it/s, est. speed input: 41623.21 toks/s, output: 1277.49 toks/s] "
     ]
    },
    {
     "name": "stdout",
     "output_type": "stream",
     "text": [
      "extract_think количество ошибок:  0\n",
      "extract_sql количество ошибок:  0\n",
      "Закончили генерацию SQL запросов\n",
      "Начали скорр полученных SQL запросов\n"
     ]
    },
    {
     "name": "stderr",
     "output_type": "stream",
     "text": [
      "\n"
     ]
    },
    {
     "name": "stdout",
     "output_type": "stream",
     "text": [
      "Qwen3-8B DEV Финальный результат EX: 58.02\n",
      "Qwen3-8B процент запросов, которые успешно выполнились DEV: 94.98%\n",
      "====================================================================================================\n",
      "\n",
      "\n",
      "Загружаем чаты с данными...\n",
      "Данные успешно загружены\n",
      "Начали генерацию SQL запросов\n"
     ]
    },
    {
     "name": "stderr",
     "output_type": "stream",
     "text": [
      "Processed prompts: 100%|██████████| 1534/1534 [00:53<00:00, 28.62it/s, est. speed input: 45444.54 toks/s, output: 1368.95 toks/s] "
     ]
    },
    {
     "name": "stdout",
     "output_type": "stream",
     "text": [
      "extract_think количество ошибок:  0\n",
      "extract_sql количество ошибок:  0\n",
      "Закончили генерацию SQL запросов\n",
      "Начали скорр полученных SQL запросов\n"
     ]
    },
    {
     "name": "stderr",
     "output_type": "stream",
     "text": [
      "\n"
     ]
    },
    {
     "name": "stdout",
     "output_type": "stream",
     "text": [
      "Qwen3-8B DEV Финальный результат EX: 57.43\n",
      "Qwen3-8B процент запросов, которые успешно выполнились DEV: 94.92%\n",
      "====================================================================================================\n",
      "\n",
      "\n",
      "Загружаем чаты с данными...\n",
      "Данные успешно загружены\n",
      "Начали генерацию SQL запросов\n"
     ]
    },
    {
     "name": "stderr",
     "output_type": "stream",
     "text": [
      "Processed prompts: 100%|██████████| 1534/1534 [00:56<00:00, 27.07it/s, est. speed input: 42967.37 toks/s, output: 1302.28 toks/s] "
     ]
    },
    {
     "name": "stdout",
     "output_type": "stream",
     "text": [
      "extract_think количество ошибок:  0\n",
      "extract_sql количество ошибок:  0\n",
      "Закончили генерацию SQL запросов\n",
      "Начали скорр полученных SQL запросов\n"
     ]
    },
    {
     "name": "stderr",
     "output_type": "stream",
     "text": [
      "\n"
     ]
    },
    {
     "name": "stdout",
     "output_type": "stream",
     "text": [
      "Qwen3-8B DEV Финальный результат EX: 57.11\n",
      "Qwen3-8B процент запросов, которые успешно выполнились DEV: 94.72%\n",
      "====================================================================================================\n",
      "\n",
      "\n"
     ]
    }
   ],
   "source": [
    "run_cot_experiment(model,arr_seeds,arr_versions, type_cot,num_observations=num_observations)"
   ]
  },
  {
   "cell_type": "code",
   "execution_count": 21,
   "id": "c1e5e144-1e1f-44de-8094-e7172daff51b",
   "metadata": {},
   "outputs": [
    {
     "name": "stdout",
     "output_type": "stream",
     "text": [
      "[327, 574, 959, 118, 574, 325, 915, 290, 806, 479, 86, 853, 485, 753, 733, 184, 835, 630, 681, 443]\n",
      "model: Qwen3-8B\n"
     ]
    }
   ],
   "source": [
    "n= 20\n",
    "arr_seeds = [random.randint(0,1000) for _ in range(n)]\n",
    "arr_versions = [x for x in range(n)]\n",
    "model = \"Qwen3-8B\"\n",
    "num_observations = 5\n",
    "type_cot = 'predict'\n",
    "print(arr_seeds)\n",
    "print(f\"model: {model}\")"
   ]
  },
  {
   "cell_type": "code",
   "execution_count": 22,
   "id": "25a08606-4784-406f-965a-c029463c9e15",
   "metadata": {
    "scrolled": true
   },
   "outputs": [
    {
     "name": "stdout",
     "output_type": "stream",
     "text": [
      "Загружаем модель...\n"
     ]
    },
    {
     "name": "stderr",
     "output_type": "stream",
     "text": [
      "Loading safetensors checkpoint shards:   0% Completed | 0/4 [00:00<?, ?it/s]\n",
      "Loading safetensors checkpoint shards:  25% Completed | 1/4 [00:00<00:00,  7.43it/s]\n",
      "Loading safetensors checkpoint shards:  50% Completed | 2/4 [00:00<00:00,  2.60it/s]\n",
      "Loading safetensors checkpoint shards:  75% Completed | 3/4 [00:01<00:00,  1.91it/s]\n",
      "Loading safetensors checkpoint shards: 100% Completed | 4/4 [00:02<00:00,  1.70it/s]\n",
      "Loading safetensors checkpoint shards: 100% Completed | 4/4 [00:02<00:00,  1.93it/s]\n",
      "\u001b[1;36m(VllmWorker rank=0 pid=20813)\u001b[0;0m \n"
     ]
    },
    {
     "name": "stdout",
     "output_type": "stream",
     "text": [
      "Модель успешно загружена\n",
      "model_config {'model': '/data/home/vkropoti/models/Qwen3-8B', 'tensor_parallel_size': 2, 'max_model_len': 40000, 'max_new_tokens': 1500, 'temperature': 0, 'top_k': 1, 'top_p': 0.8, 'gpu_memory_utilization': 0.9, 'trust_remote_code': False, 'seed': 327}\n",
      "\n",
      "prompts_config {'path_dev_json': '/home/vkropoti/vllm/dev.json', 'path_sql_dbs': '/data/home/vkropoti/sql_data/dev_databases/', 'use_reasoning': False, 'paths_to_cot': ['/data/home/vkropoti/sql_llm_answers/bird_dev/sql_predict_Qwen3-8B-reasoning-v0', '/data/home/vkropoti/sql_llm_answers/bird_dev/sql_predict_Qwen3-8B-reasoning-v1', '/data/home/vkropoti/sql_llm_answers/bird_dev/sql_predict_Qwen3-8B-reasoning-v2', '/data/home/vkropoti/sql_llm_answers/bird_dev/sql_predict_Qwen3-8B-reasoning-v3', '/data/home/vkropoti/sql_llm_answers/bird_dev/sql_predict_Qwen3-8B-reasoning-v4']}\n",
      "\n",
      "save_config {'path_sql_save': '/data/home/vkropoti/sql_llm_answers/bird_dev/sql_all_Qwen3-8B-cot_predict_think==False_nobs5-v0', 'path_think_save': None, 'path_sql_answers_save': '/data/home/vkropoti/sql_llm_answers/bird_dev/sql_predict_Qwen3-8B-cot_predict_think==False_nobs5-v0', 'path_to_save_scores': '/data/home/vkropoti/sql_llm_answers/bird_dev/sql_results_Qwen3-8B-cot_predict_think==False_nobs5-v0', 'path_to_save_executed': '/data/home/vkropoti/sql_llm_answers/bird_dev/sql_executed_Qwen3-8B-cot_predict_think==False_nobs5-v0'}\n",
      "\n",
      "Модель успешно загружена\n",
      "Пример промпта\n",
      "<|im_start|>system\n",
      "\n",
      "You are a data science expert. Below, you are provided with a database schema and a natural language question. Your task is to understand the schema and generate a valid SQL query to answer the question.\n",
      "\n",
      "Database Engine: SQLite\n",
      "\n",
      "You will be given an additional analysis of other models, please take it into account, so the plan is\n",
      "1. Analyse given addition analysis from other models (find in which analysis the same and differ, how to use that to answer question)\n",
      "2. Combine best from previous part and think how to solve the problem (analyze tables, take care what columns avaliable in each table and so on, check the syntacsis)\n",
      "3. Create the answers. The answer should be only sql query.\n",
      "\n",
      "Carefully follow the instruction and add <|im_end|> and the end of the final answer<|im_end|>\n",
      "<|im_start|>user\n",
      "Here is addition analysis from other models which can be helpfull, please take this into account but be careful (choose the best from each analysis, combine them to make the most proper answer):\n",
      "\n",
      "model 0 analysis:\n",
      " SELECT MAX(`Free Meal Count (K-12)` / `Enrollment (K-12)`) FROM frpm JOIN schools ON frpm.CDSCode = schools.CDSCode WHERE County = 'Alameda';\n",
      "\n",
      "model 1 analysis:\n",
      " SELECT MAX(`Free Meal Count (K-12)` / `Enrollment (K-12)`) FROM frpm JOIN schools ON frpm.CDSCode = schools.CDSCode WHERE schools.County = 'Alameda';\n",
      "\n",
      "model 2 analysis:\n",
      " SELECT MAX(`Free Meal Count (K-12)` / `Enrollment (K-12)`) FROM frpm JOIN schools ON frpm.CDSCode = schools.CDSCode WHERE schools.County = 'Alameda';\n",
      "\n",
      "model 3 analysis:\n",
      " -- Your SQL query\n",
      "SELECT MAX(`Free Meal Count (K-12)` / `Enrollment (K-12)`) FROM frpm WHERE `County Name` = 'Alameda';\n",
      "\n",
      "model 4 analysis:\n",
      " SELECT MAX(`Free Meal Count (K-12)` / `Enrollment (K-12)`) FROM frpm JOIN schools ON frpm.CDSCode = schools.CDSCode WHERE schools.County = 'Alameda';\n",
      "\n",
      "\n",
      "here is avaliable tables below\n",
      "\n",
      "\n",
      "Table: frpm\n",
      "CREATE TABLE frpm\n",
      "(\n",
      "    CDSCode                                       TEXT not null\n",
      "        primary key,\n",
      "    `Academic Year`                               TEXT  null,\n",
      "    `County Code`                                 TEXT  null,\n",
      "    `District Code`                               INTEGER         null,\n",
      "    `School Code`                                 TEXT  null,\n",
      "    `County Name`                                 TEXT null,\n",
      "    `District Name`                               TEXT null,\n",
      "    `School Name`                                 TEXT null,\n",
      "    `District Type`                               TEXT null,\n",
      "    `School Type`                                 TEXT null,\n",
      "    `Educational Option Type`                     TEXT null,\n",
      "    `NSLP Provision Status`                       TEXT null,\n",
      "    `Charter School (Y/N)`                        INTEGER    null,\n",
      "    `Charter School Number`                       TEXT  null,\n",
      "    `Charter Funding Type`                        TEXT null,\n",
      "    IRC                                           INTEGER    null,\n",
      "    `Low Grade`                                   TEXT  null,\n",
      "    `High Grade`                                  TEXT null,\n",
      "    `Enrollment (K-12)`                           REAL      null,\n",
      "    `Free Meal Count (K-12)`                      REAL       null,\n",
      "    `Percent (%) Eligible Free (K-12)`            REAL       null,\n",
      "    `FRPM Count (K-12)`                           REAL       null,\n",
      "    `Percent (%) Eligible FRPM (K-12)`            REAL       null,\n",
      "    `Enrollment (Ages 5-17)`                      REAL       null,\n",
      "    `Free Meal Count (Ages 5-17)`                 REAL       null,\n",
      "    `Percent (%) Eligible Free (Ages 5-17)`       REAL       null,\n",
      "    `FRPM Count (Ages 5-17)`                      REAL       null,\n",
      "    `Percent (%) Eligible FRPM (Ages 5-17)`       REAL       null,\n",
      "    `2013-14 CALPADS Fall 1 Certification Status` INTEGER    null,\n",
      "    foreign key (CDSCode) references schools (CDSCode)\n",
      ")\n",
      "\n",
      "Table: satscores\n",
      "CREATE TABLE satscores\n",
      "(\n",
      "    cds         TEXT not null\n",
      "        primary key,\n",
      "    rtype       TEXT  not null,\n",
      "    sname       TEXT null,\n",
      "    dname       TEXT null,\n",
      "    cname       TEXT null,\n",
      "    enroll12    INTEGER         not null,\n",
      "    NumTstTakr  INTEGER          not null,\n",
      "    AvgScrRead  INTEGER          null,\n",
      "    AvgScrMath  INTEGER          null,\n",
      "    AvgScrWrite INTEGER          null,\n",
      "    NumGE1500   INTEGER          null,\n",
      "--     PctGE1500   double      null,\n",
      "        foreign key (cds) references schools (CDSCode)\n",
      ")\n",
      "\n",
      "Table: schools\n",
      "CREATE TABLE schools\n",
      "(\n",
      "    CDSCode     TEXT not null\n",
      "        primary key,\n",
      "    NCESDist    TEXT  null,\n",
      "    NCESSchool  TEXT  null,\n",
      "    StatusType  TEXT  not null,\n",
      "    County      TEXT not null,\n",
      "    District    TEXT not null,\n",
      "    School      TEXT null,\n",
      "    Street      TEXT null,\n",
      "    StreetAbr   TEXT null,\n",
      "    City        TEXT null,\n",
      "    Zip         TEXT null,\n",
      "    State       TEXT  null,\n",
      "    MailStreet  TEXT null,\n",
      "    MailStrAbr  TEXT null,\n",
      "    MailCity    TEXT null,\n",
      "    MailZip     TEXT null,\n",
      "    MailState   TEXT  null,\n",
      "    Phone       TEXT null,\n",
      "    Ext         TEXT  null,\n",
      "    Website     TEXT null,\n",
      "    OpenDate    DATE        null,\n",
      "    ClosedDate  DATE        null,\n",
      "    Charter     INTEGER    null,\n",
      "    CharterNum  TEXT  null,\n",
      "    FundingType TEXT null,\n",
      "    DOC         TEXT  not null,\n",
      "    DOCType     TEXT not null,\n",
      "    SOC         TEXT  null,\n",
      "    SOCType     TEXT null,\n",
      "    EdOpsCode   TEXT  null,\n",
      "    EdOpsName   TEXT null,\n",
      "    EILCode     TEXT  null,\n",
      "    EILName     TEXT null,\n",
      "    GSoffered   TEXT null,\n",
      "    GSserved    TEXT  null,\n",
      "    Virtual     TEXT  null,\n",
      "    Magnet      INTEGER   null,\n",
      "    Latitude    REAL      null,\n",
      "    Longitude   REAL      null,\n",
      "    AdmFName1   TEXT null,\n",
      "    AdmLName1   TEXT null,\n",
      "    AdmEmail1   TEXT null,\n",
      "    AdmFName2   TEXT null,\n",
      "    AdmLName2   TEXT null,\n",
      "    AdmEmail2   TEXT null,\n",
      "    AdmFName3   TEXT  null,\n",
      "    AdmLName3   TEXT null,\n",
      "    AdmEmail3   TEXT null,\n",
      "    LastUpdate  DATE        not null\n",
      ")\n",
      "\n",
      "-- Using valid SQLite and understanding External Knowledge, answer the following questions for the tables provided above.\n",
      "-- What is the highest eligible free rate for K-12 students in the schools in Alameda County?\n",
      "-- External Knowledge: Eligible free rate for K-12 = `Free Meal Count (K-12)` / `Enrollment (K-12)`\n",
      "\n",
      "\n",
      "Generate the SQLite for the above question after thinking step by step: \n",
      "\n",
      "\n",
      "Instructions:\n",
      "- Make sure you only output the information that is asked in the question. If the question asks for a specific column, make sure to only include that column in the SELECT clause, nothing more.\n",
      "- The generated query should return all of the information asked in the question without any missing or extra information.\n",
      "- Before generating the final SQL query, please think through the steps of how to write the query.\n",
      "- Do not misuse column names, keep them in quotes `\n",
      "- Carefully understand what colomns belond to what tables\n",
      "- Use only initial column names, change names prohibited\n",
      "        \n",
      "Output Format:\n",
      "In your answer, please enclose the generated SQL query in a code block:\n",
      "```\n",
      "-- Your SQL query\n",
      "```    \n",
      "and nothing else, no exaplains, no comments (asnwer should be less than 512 characters)\n",
      "\n",
      "Take a deep breath and think step by step to find the correct SQL query in SQLite format.\n",
      "\n",
      "Question repetition: What is the highest eligible free rate for K-12 students in the schools in Alameda County?\n",
      "\n",
      "Be care! Include only what i want it questiona and nothing else<|im_end|>\n",
      "<|im_start|>assistant\n",
      "<think>\n",
      "\n",
      "</think>\n",
      "\n",
      "\n",
      "\n",
      "\n",
      "Максимальное количество токенов в промптах: 5769\n",
      "\n",
      "начинаем скорринг\n",
      "Загружаем чаты с данными...\n",
      "Данные успешно загружены\n",
      "Начали генерацию SQL запросов\n"
     ]
    },
    {
     "name": "stderr",
     "output_type": "stream",
     "text": [
      "Processed prompts: 100%|██████████| 1534/1534 [00:59<00:00, 25.93it/s, est. speed input: 42452.74 toks/s, output: 1244.59 toks/s] "
     ]
    },
    {
     "name": "stdout",
     "output_type": "stream",
     "text": [
      "extract_think количество ошибок:  0\n",
      "extract_sql количество ошибок:  0\n",
      "Закончили генерацию SQL запросов\n",
      "Начали скорр полученных SQL запросов\n"
     ]
    },
    {
     "name": "stderr",
     "output_type": "stream",
     "text": [
      "\n"
     ]
    },
    {
     "name": "stdout",
     "output_type": "stream",
     "text": [
      "Qwen3-8B DEV Финальный результат EX: 56.98\n",
      "Qwen3-8B процент запросов, которые успешно выполнились DEV: 95.44%\n",
      "====================================================================================================\n",
      "\n",
      "\n",
      "Загружаем чаты с данными...\n",
      "Данные успешно загружены\n",
      "Начали генерацию SQL запросов\n"
     ]
    },
    {
     "name": "stderr",
     "output_type": "stream",
     "text": [
      "Processed prompts: 100%|██████████| 1534/1534 [00:57<00:00, 26.61it/s, est. speed input: 43572.96 toks/s, output: 1285.27 toks/s] "
     ]
    },
    {
     "name": "stdout",
     "output_type": "stream",
     "text": [
      "extract_think количество ошибок:  0\n",
      "extract_sql количество ошибок:  0\n",
      "Закончили генерацию SQL запросов\n",
      "Начали скорр полученных SQL запросов\n"
     ]
    },
    {
     "name": "stderr",
     "output_type": "stream",
     "text": [
      "\n"
     ]
    },
    {
     "name": "stdout",
     "output_type": "stream",
     "text": [
      "Qwen3-8B DEV Финальный результат EX: 57.37\n",
      "Qwen3-8B процент запросов, которые успешно выполнились DEV: 95.57%\n",
      "====================================================================================================\n",
      "\n",
      "\n",
      "Загружаем чаты с данными...\n",
      "Данные успешно загружены\n",
      "Начали генерацию SQL запросов\n"
     ]
    },
    {
     "name": "stderr",
     "output_type": "stream",
     "text": [
      "Processed prompts: 100%|██████████| 1534/1534 [00:58<00:00, 26.01it/s, est. speed input: 42617.24 toks/s, output: 1254.14 toks/s] "
     ]
    },
    {
     "name": "stdout",
     "output_type": "stream",
     "text": [
      "extract_think количество ошибок:  0\n",
      "extract_sql количество ошибок:  0\n",
      "Закончили генерацию SQL запросов\n",
      "Начали скорр полученных SQL запросов\n"
     ]
    },
    {
     "name": "stderr",
     "output_type": "stream",
     "text": [
      "\n"
     ]
    },
    {
     "name": "stdout",
     "output_type": "stream",
     "text": [
      "Qwen3-8B DEV Финальный результат EX: 56.84\n",
      "Qwen3-8B процент запросов, которые успешно выполнились DEV: 95.50%\n",
      "====================================================================================================\n",
      "\n",
      "\n",
      "Загружаем чаты с данными...\n",
      "Данные успешно загружены\n",
      "Начали генерацию SQL запросов\n"
     ]
    },
    {
     "name": "stderr",
     "output_type": "stream",
     "text": [
      "Processed prompts: 100%|██████████| 1534/1534 [00:59<00:00, 25.81it/s, est. speed input: 42434.53 toks/s, output: 1249.03 toks/s] "
     ]
    },
    {
     "name": "stdout",
     "output_type": "stream",
     "text": [
      "extract_think количество ошибок:  0\n",
      "extract_sql количество ошибок:  0\n",
      "Закончили генерацию SQL запросов\n",
      "Начали скорр полученных SQL запросов\n"
     ]
    },
    {
     "name": "stderr",
     "output_type": "stream",
     "text": [
      "\n"
     ]
    },
    {
     "name": "stdout",
     "output_type": "stream",
     "text": [
      "Qwen3-8B DEV Финальный результат EX: 57.17\n",
      "Qwen3-8B процент запросов, которые успешно выполнились DEV: 95.44%\n",
      "====================================================================================================\n",
      "\n",
      "\n",
      "Загружаем чаты с данными...\n",
      "Данные успешно загружены\n",
      "Начали генерацию SQL запросов\n"
     ]
    },
    {
     "name": "stderr",
     "output_type": "stream",
     "text": [
      "Processed prompts: 100%|██████████| 1534/1534 [00:59<00:00, 25.75it/s, est. speed input: 42356.15 toks/s, output: 1244.37 toks/s] "
     ]
    },
    {
     "name": "stdout",
     "output_type": "stream",
     "text": [
      "extract_think количество ошибок:  0\n",
      "extract_sql количество ошибок:  0\n",
      "Закончили генерацию SQL запросов\n",
      "Начали скорр полученных SQL запросов\n"
     ]
    },
    {
     "name": "stderr",
     "output_type": "stream",
     "text": [
      "\n"
     ]
    },
    {
     "name": "stdout",
     "output_type": "stream",
     "text": [
      "Qwen3-8B DEV Финальный результат EX: 57.43\n",
      "Qwen3-8B процент запросов, которые успешно выполнились DEV: 95.44%\n",
      "====================================================================================================\n",
      "\n",
      "\n",
      "Загружаем чаты с данными...\n",
      "Данные успешно загружены\n",
      "Начали генерацию SQL запросов\n"
     ]
    },
    {
     "name": "stderr",
     "output_type": "stream",
     "text": [
      "Processed prompts: 100%|██████████| 1534/1534 [00:58<00:00, 26.15it/s, est. speed input: 43014.52 toks/s, output: 1262.49 toks/s] "
     ]
    },
    {
     "name": "stdout",
     "output_type": "stream",
     "text": [
      "extract_think количество ошибок:  0\n",
      "extract_sql количество ошибок:  0\n",
      "Закончили генерацию SQL запросов\n",
      "Начали скорр полученных SQL запросов\n"
     ]
    },
    {
     "name": "stderr",
     "output_type": "stream",
     "text": [
      "\n"
     ]
    },
    {
     "name": "stdout",
     "output_type": "stream",
     "text": [
      "Qwen3-8B DEV Финальный результат EX: 57.50\n",
      "Qwen3-8B процент запросов, которые успешно выполнились DEV: 95.44%\n",
      "====================================================================================================\n",
      "\n",
      "\n",
      "Загружаем чаты с данными...\n",
      "Данные успешно загружены\n",
      "Начали генерацию SQL запросов\n"
     ]
    },
    {
     "name": "stderr",
     "output_type": "stream",
     "text": [
      "Processed prompts: 100%|██████████| 1534/1534 [00:57<00:00, 26.47it/s, est. speed input: 43505.59 toks/s, output: 1270.33 toks/s] "
     ]
    },
    {
     "name": "stdout",
     "output_type": "stream",
     "text": [
      "extract_think количество ошибок:  0\n",
      "extract_sql количество ошибок:  0\n",
      "Закончили генерацию SQL запросов\n",
      "Начали скорр полученных SQL запросов\n"
     ]
    },
    {
     "name": "stderr",
     "output_type": "stream",
     "text": [
      "\n"
     ]
    },
    {
     "name": "stdout",
     "output_type": "stream",
     "text": [
      "Qwen3-8B DEV Финальный результат EX: 57.11\n",
      "Qwen3-8B процент запросов, которые успешно выполнились DEV: 95.96%\n",
      "====================================================================================================\n",
      "\n",
      "\n",
      "Загружаем чаты с данными...\n",
      "Данные успешно загружены\n",
      "Начали генерацию SQL запросов\n"
     ]
    },
    {
     "name": "stderr",
     "output_type": "stream",
     "text": [
      "Processed prompts: 100%|██████████| 1534/1534 [00:55<00:00, 27.67it/s, est. speed input: 45460.69 toks/s, output: 1314.81 toks/s] "
     ]
    },
    {
     "name": "stdout",
     "output_type": "stream",
     "text": [
      "extract_think количество ошибок:  0\n",
      "extract_sql количество ошибок:  0\n",
      "Закончили генерацию SQL запросов\n",
      "Начали скорр полученных SQL запросов\n"
     ]
    },
    {
     "name": "stderr",
     "output_type": "stream",
     "text": [
      "\n"
     ]
    },
    {
     "name": "stdout",
     "output_type": "stream",
     "text": [
      "Qwen3-8B DEV Финальный результат EX: 57.37\n",
      "Qwen3-8B процент запросов, которые успешно выполнились DEV: 95.70%\n",
      "====================================================================================================\n",
      "\n",
      "\n",
      "Загружаем чаты с данными...\n",
      "Данные успешно загружены\n",
      "Начали генерацию SQL запросов\n"
     ]
    },
    {
     "name": "stderr",
     "output_type": "stream",
     "text": [
      "Processed prompts: 100%|██████████| 1534/1534 [00:55<00:00, 27.81it/s, est. speed input: 45547.45 toks/s, output: 1326.01 toks/s] "
     ]
    },
    {
     "name": "stdout",
     "output_type": "stream",
     "text": [
      "extract_think количество ошибок:  0\n",
      "extract_sql количество ошибок:  0\n",
      "Закончили генерацию SQL запросов\n",
      "Начали скорр полученных SQL запросов\n"
     ]
    },
    {
     "name": "stderr",
     "output_type": "stream",
     "text": [
      "\n"
     ]
    },
    {
     "name": "stdout",
     "output_type": "stream",
     "text": [
      "Qwen3-8B DEV Финальный результат EX: 56.58\n",
      "Qwen3-8B процент запросов, которые успешно выполнились DEV: 95.76%\n",
      "====================================================================================================\n",
      "\n",
      "\n",
      "Загружаем чаты с данными...\n",
      "Данные успешно загружены\n",
      "Начали генерацию SQL запросов\n"
     ]
    },
    {
     "name": "stderr",
     "output_type": "stream",
     "text": [
      "Processed prompts: 100%|██████████| 1534/1534 [01:00<00:00, 25.48it/s, est. speed input: 41715.01 toks/s, output: 1238.68 toks/s] "
     ]
    },
    {
     "name": "stdout",
     "output_type": "stream",
     "text": [
      "extract_think количество ошибок:  0\n",
      "extract_sql количество ошибок:  0\n",
      "Закончили генерацию SQL запросов\n",
      "Начали скорр полученных SQL запросов\n"
     ]
    },
    {
     "name": "stderr",
     "output_type": "stream",
     "text": [
      "\n"
     ]
    },
    {
     "name": "stdout",
     "output_type": "stream",
     "text": [
      "Qwen3-8B DEV Финальный результат EX: 56.84\n",
      "Qwen3-8B процент запросов, которые успешно выполнились DEV: 96.02%\n",
      "====================================================================================================\n",
      "\n",
      "\n",
      "Загружаем чаты с данными...\n",
      "Данные успешно загружены\n",
      "Начали генерацию SQL запросов\n"
     ]
    },
    {
     "name": "stderr",
     "output_type": "stream",
     "text": [
      "Processed prompts: 100%|██████████| 1534/1534 [00:59<00:00, 25.89it/s, est. speed input: 42399.46 toks/s, output: 1233.00 toks/s] "
     ]
    },
    {
     "name": "stdout",
     "output_type": "stream",
     "text": [
      "extract_think количество ошибок:  0\n",
      "extract_sql количество ошибок:  0\n",
      "Закончили генерацию SQL запросов\n",
      "Начали скорр полученных SQL запросов\n"
     ]
    },
    {
     "name": "stderr",
     "output_type": "stream",
     "text": [
      "\n"
     ]
    },
    {
     "name": "stdout",
     "output_type": "stream",
     "text": [
      "Qwen3-8B DEV Финальный результат EX: 56.78\n",
      "Qwen3-8B процент запросов, которые успешно выполнились DEV: 95.70%\n",
      "====================================================================================================\n",
      "\n",
      "\n",
      "Загружаем чаты с данными...\n",
      "Данные успешно загружены\n",
      "Начали генерацию SQL запросов\n"
     ]
    },
    {
     "name": "stderr",
     "output_type": "stream",
     "text": [
      "Processed prompts: 100%|██████████| 1534/1534 [00:58<00:00, 26.00it/s, est. speed input: 42627.45 toks/s, output: 1258.81 toks/s] "
     ]
    },
    {
     "name": "stdout",
     "output_type": "stream",
     "text": [
      "extract_think количество ошибок:  0\n",
      "extract_sql количество ошибок:  0\n",
      "Закончили генерацию SQL запросов\n",
      "Начали скорр полученных SQL запросов\n"
     ]
    },
    {
     "name": "stderr",
     "output_type": "stream",
     "text": [
      "\n"
     ]
    },
    {
     "name": "stdout",
     "output_type": "stream",
     "text": [
      "Qwen3-8B DEV Финальный результат EX: 57.11\n",
      "Qwen3-8B процент запросов, которые успешно выполнились DEV: 95.18%\n",
      "====================================================================================================\n",
      "\n",
      "\n",
      "Загружаем чаты с данными...\n",
      "Данные успешно загружены\n",
      "Начали генерацию SQL запросов\n"
     ]
    },
    {
     "name": "stderr",
     "output_type": "stream",
     "text": [
      "Processed prompts: 100%|██████████| 1534/1534 [00:59<00:00, 25.81it/s, est. speed input: 42291.88 toks/s, output: 1253.71 toks/s] "
     ]
    },
    {
     "name": "stdout",
     "output_type": "stream",
     "text": [
      "extract_think количество ошибок:  0\n",
      "extract_sql количество ошибок:  0\n",
      "Закончили генерацию SQL запросов\n",
      "Начали скорр полученных SQL запросов\n"
     ]
    },
    {
     "name": "stderr",
     "output_type": "stream",
     "text": [
      "\n"
     ]
    },
    {
     "name": "stdout",
     "output_type": "stream",
     "text": [
      "Qwen3-8B DEV Финальный результат EX: 56.78\n",
      "Qwen3-8B процент запросов, которые успешно выполнились DEV: 95.50%\n",
      "====================================================================================================\n",
      "\n",
      "\n",
      "Загружаем чаты с данными...\n",
      "Данные успешно загружены\n",
      "Начали генерацию SQL запросов\n"
     ]
    },
    {
     "name": "stderr",
     "output_type": "stream",
     "text": [
      "Processed prompts: 100%|██████████| 1534/1534 [00:57<00:00, 26.63it/s, est. speed input: 43627.89 toks/s, output: 1276.33 toks/s] "
     ]
    },
    {
     "name": "stdout",
     "output_type": "stream",
     "text": [
      "extract_think количество ошибок:  0\n",
      "extract_sql количество ошибок:  0\n",
      "Закончили генерацию SQL запросов\n",
      "Начали скорр полученных SQL запросов\n"
     ]
    },
    {
     "name": "stderr",
     "output_type": "stream",
     "text": [
      "\n"
     ]
    },
    {
     "name": "stdout",
     "output_type": "stream",
     "text": [
      "Qwen3-8B DEV Финальный результат EX: 57.37\n",
      "Qwen3-8B процент запросов, которые успешно выполнились DEV: 95.18%\n",
      "====================================================================================================\n",
      "\n",
      "\n",
      "Загружаем чаты с данными...\n",
      "Данные успешно загружены\n",
      "Начали генерацию SQL запросов\n"
     ]
    },
    {
     "name": "stderr",
     "output_type": "stream",
     "text": [
      "Processed prompts: 100%|██████████| 1534/1534 [01:00<00:00, 25.41it/s, est. speed input: 41654.69 toks/s, output: 1250.96 toks/s] "
     ]
    },
    {
     "name": "stdout",
     "output_type": "stream",
     "text": [
      "extract_think количество ошибок:  0\n",
      "extract_sql количество ошибок:  0\n",
      "Закончили генерацию SQL запросов\n",
      "Начали скорр полученных SQL запросов\n"
     ]
    },
    {
     "name": "stderr",
     "output_type": "stream",
     "text": [
      "\n"
     ]
    },
    {
     "name": "stdout",
     "output_type": "stream",
     "text": [
      "Qwen3-8B DEV Финальный результат EX: 57.89\n",
      "Qwen3-8B процент запросов, которые успешно выполнились DEV: 94.78%\n",
      "====================================================================================================\n",
      "\n",
      "\n",
      "Загружаем чаты с данными...\n",
      "Данные успешно загружены\n",
      "Начали генерацию SQL запросов\n"
     ]
    },
    {
     "name": "stderr",
     "output_type": "stream",
     "text": [
      "Processed prompts: 100%|██████████| 1534/1534 [00:59<00:00, 25.85it/s, est. speed input: 42376.71 toks/s, output: 1275.81 toks/s] "
     ]
    },
    {
     "name": "stdout",
     "output_type": "stream",
     "text": [
      "extract_think количество ошибок:  0\n",
      "extract_sql количество ошибок:  0\n",
      "Закончили генерацию SQL запросов\n",
      "Начали скорр полученных SQL запросов\n"
     ]
    },
    {
     "name": "stderr",
     "output_type": "stream",
     "text": [
      "\n"
     ]
    },
    {
     "name": "stdout",
     "output_type": "stream",
     "text": [
      "Qwen3-8B DEV Финальный результат EX: 57.17\n",
      "Qwen3-8B процент запросов, которые успешно выполнились DEV: 95.44%\n",
      "====================================================================================================\n",
      "\n",
      "\n",
      "Загружаем чаты с данными...\n",
      "Данные успешно загружены\n",
      "Начали генерацию SQL запросов\n"
     ]
    },
    {
     "name": "stderr",
     "output_type": "stream",
     "text": [
      "Processed prompts: 100%|██████████| 1534/1534 [01:00<00:00, 25.50it/s, est. speed input: 41805.73 toks/s, output: 1236.11 toks/s] "
     ]
    },
    {
     "name": "stdout",
     "output_type": "stream",
     "text": [
      "extract_think количество ошибок:  0\n",
      "extract_sql количество ошибок:  0\n",
      "Закончили генерацию SQL запросов\n",
      "Начали скорр полученных SQL запросов\n"
     ]
    },
    {
     "name": "stderr",
     "output_type": "stream",
     "text": [
      "\n"
     ]
    },
    {
     "name": "stdout",
     "output_type": "stream",
     "text": [
      "Qwen3-8B DEV Финальный результат EX: 57.63\n",
      "Qwen3-8B процент запросов, которые успешно выполнились DEV: 95.24%\n",
      "====================================================================================================\n",
      "\n",
      "\n",
      "Загружаем чаты с данными...\n",
      "Данные успешно загружены\n",
      "Начали генерацию SQL запросов\n"
     ]
    },
    {
     "name": "stderr",
     "output_type": "stream",
     "text": [
      "Processed prompts: 100%|██████████| 1534/1534 [00:55<00:00, 27.62it/s, est. speed input: 45253.85 toks/s, output: 1319.38 toks/s] "
     ]
    },
    {
     "name": "stdout",
     "output_type": "stream",
     "text": [
      "extract_think количество ошибок:  0\n",
      "extract_sql количество ошибок:  0\n",
      "Закончили генерацию SQL запросов\n",
      "Начали скорр полученных SQL запросов\n"
     ]
    },
    {
     "name": "stderr",
     "output_type": "stream",
     "text": [
      "\n"
     ]
    },
    {
     "name": "stdout",
     "output_type": "stream",
     "text": [
      "Qwen3-8B DEV Финальный результат EX: 57.63\n",
      "Qwen3-8B процент запросов, которые успешно выполнились DEV: 95.11%\n",
      "====================================================================================================\n",
      "\n",
      "\n",
      "Загружаем чаты с данными...\n",
      "Данные успешно загружены\n",
      "Начали генерацию SQL запросов\n"
     ]
    },
    {
     "name": "stderr",
     "output_type": "stream",
     "text": [
      "Processed prompts: 100%|██████████| 1534/1534 [00:59<00:00, 25.77it/s, est. speed input: 42226.57 toks/s, output: 1244.51 toks/s] "
     ]
    },
    {
     "name": "stdout",
     "output_type": "stream",
     "text": [
      "extract_think количество ошибок:  0\n",
      "extract_sql количество ошибок:  0\n",
      "Закончили генерацию SQL запросов\n",
      "Начали скорр полученных SQL запросов\n"
     ]
    },
    {
     "name": "stderr",
     "output_type": "stream",
     "text": [
      "\n"
     ]
    },
    {
     "name": "stdout",
     "output_type": "stream",
     "text": [
      "Qwen3-8B DEV Финальный результат EX: 57.11\n",
      "Qwen3-8B процент запросов, которые успешно выполнились DEV: 94.78%\n",
      "====================================================================================================\n",
      "\n",
      "\n",
      "Загружаем чаты с данными...\n",
      "Данные успешно загружены\n",
      "Начали генерацию SQL запросов\n"
     ]
    },
    {
     "name": "stderr",
     "output_type": "stream",
     "text": [
      "Processed prompts: 100%|██████████| 1534/1534 [00:55<00:00, 27.61it/s, est. speed input: 45217.71 toks/s, output: 1318.35 toks/s] "
     ]
    },
    {
     "name": "stdout",
     "output_type": "stream",
     "text": [
      "extract_think количество ошибок:  0\n",
      "extract_sql количество ошибок:  0\n",
      "Закончили генерацию SQL запросов\n",
      "Начали скорр полученных SQL запросов\n"
     ]
    },
    {
     "name": "stderr",
     "output_type": "stream",
     "text": [
      "\n"
     ]
    },
    {
     "name": "stdout",
     "output_type": "stream",
     "text": [
      "Qwen3-8B DEV Финальный результат EX: 56.39\n",
      "Qwen3-8B процент запросов, которые успешно выполнились DEV: 95.18%\n",
      "====================================================================================================\n",
      "\n",
      "\n"
     ]
    }
   ],
   "source": [
    "run_cot_experiment(model,arr_seeds,arr_versions, type_cot,num_observations=num_observations)"
   ]
  },
  {
   "cell_type": "code",
   "execution_count": 23,
   "id": "8ae6563c-4ff4-406d-ac16-83ebfd6bc432",
   "metadata": {},
   "outputs": [
    {
     "name": "stdout",
     "output_type": "stream",
     "text": [
      "[158, 604, 967, 535, 77, 225, 334, 277, 415, 618, 804, 455, 776, 244, 489, 978, 157, 617, 638, 26]\n",
      "model: Qwen3-8B\n"
     ]
    }
   ],
   "source": [
    "n= 20\n",
    "arr_seeds = [random.randint(0,1000) for _ in range(n)]\n",
    "arr_versions = [x for x in range(n)]\n",
    "model = \"Qwen3-8B\"\n",
    "num_observations = 6\n",
    "type_cot = 'predict'\n",
    "print(arr_seeds)\n",
    "print(f\"model: {model}\")"
   ]
  },
  {
   "cell_type": "code",
   "execution_count": 24,
   "id": "5bb17664-8fd5-4e8f-84de-49f872c5aa4a",
   "metadata": {
    "scrolled": true
   },
   "outputs": [
    {
     "name": "stdout",
     "output_type": "stream",
     "text": [
      "Загружаем модель...\n"
     ]
    },
    {
     "name": "stderr",
     "output_type": "stream",
     "text": [
      "Loading safetensors checkpoint shards:   0% Completed | 0/4 [00:00<?, ?it/s]\n",
      "Loading safetensors checkpoint shards:  25% Completed | 1/4 [00:00<00:00,  8.44it/s]\n",
      "Loading safetensors checkpoint shards:  50% Completed | 2/4 [00:00<00:00,  2.55it/s]\n",
      "Loading safetensors checkpoint shards:  75% Completed | 3/4 [00:01<00:00,  1.81it/s]\n",
      "Loading safetensors checkpoint shards: 100% Completed | 4/4 [00:02<00:00,  1.59it/s]\n",
      "Loading safetensors checkpoint shards: 100% Completed | 4/4 [00:02<00:00,  1.82it/s]\n",
      "\u001b[1;36m(VllmWorker rank=0 pid=59225)\u001b[0;0m \n"
     ]
    },
    {
     "name": "stdout",
     "output_type": "stream",
     "text": [
      "Модель успешно загружена\n",
      "model_config {'model': '/data/home/vkropoti/models/Qwen3-8B', 'tensor_parallel_size': 2, 'max_model_len': 40000, 'max_new_tokens': 1500, 'temperature': 0, 'top_k': 1, 'top_p': 0.8, 'gpu_memory_utilization': 0.9, 'trust_remote_code': False, 'seed': 158}\n",
      "\n",
      "prompts_config {'path_dev_json': '/home/vkropoti/vllm/dev.json', 'path_sql_dbs': '/data/home/vkropoti/sql_data/dev_databases/', 'use_reasoning': False, 'paths_to_cot': ['/data/home/vkropoti/sql_llm_answers/bird_dev/sql_predict_Qwen3-8B-reasoning-v0', '/data/home/vkropoti/sql_llm_answers/bird_dev/sql_predict_Qwen3-8B-reasoning-v1', '/data/home/vkropoti/sql_llm_answers/bird_dev/sql_predict_Qwen3-8B-reasoning-v2', '/data/home/vkropoti/sql_llm_answers/bird_dev/sql_predict_Qwen3-8B-reasoning-v3', '/data/home/vkropoti/sql_llm_answers/bird_dev/sql_predict_Qwen3-8B-reasoning-v4', '/data/home/vkropoti/sql_llm_answers/bird_dev/sql_predict_Qwen3-8B-reasoning-v5']}\n",
      "\n",
      "save_config {'path_sql_save': '/data/home/vkropoti/sql_llm_answers/bird_dev/sql_all_Qwen3-8B-cot_predict_think==False_nobs6-v0', 'path_think_save': None, 'path_sql_answers_save': '/data/home/vkropoti/sql_llm_answers/bird_dev/sql_predict_Qwen3-8B-cot_predict_think==False_nobs6-v0', 'path_to_save_scores': '/data/home/vkropoti/sql_llm_answers/bird_dev/sql_results_Qwen3-8B-cot_predict_think==False_nobs6-v0', 'path_to_save_executed': '/data/home/vkropoti/sql_llm_answers/bird_dev/sql_executed_Qwen3-8B-cot_predict_think==False_nobs6-v0'}\n",
      "\n",
      "Модель успешно загружена\n",
      "Пример промпта\n",
      "<|im_start|>system\n",
      "\n",
      "You are a data science expert. Below, you are provided with a database schema and a natural language question. Your task is to understand the schema and generate a valid SQL query to answer the question.\n",
      "\n",
      "Database Engine: SQLite\n",
      "\n",
      "You will be given an additional analysis of other models, please take it into account, so the plan is\n",
      "1. Analyse given addition analysis from other models (find in which analysis the same and differ, how to use that to answer question)\n",
      "2. Combine best from previous part and think how to solve the problem (analyze tables, take care what columns avaliable in each table and so on, check the syntacsis)\n",
      "3. Create the answers. The answer should be only sql query.\n",
      "\n",
      "Carefully follow the instruction and add <|im_end|> and the end of the final answer<|im_end|>\n",
      "<|im_start|>user\n",
      "Here is addition analysis from other models which can be helpfull, please take this into account but be careful (choose the best from each analysis, combine them to make the most proper answer):\n",
      "\n",
      "model 0 analysis:\n",
      " SELECT MAX(`Free Meal Count (K-12)` / `Enrollment (K-12)`) FROM frpm JOIN schools ON frpm.CDSCode = schools.CDSCode WHERE County = 'Alameda';\n",
      "\n",
      "model 1 analysis:\n",
      " SELECT MAX(`Free Meal Count (K-12)` / `Enrollment (K-12)`) FROM frpm JOIN schools ON frpm.CDSCode = schools.CDSCode WHERE schools.County = 'Alameda';\n",
      "\n",
      "model 2 analysis:\n",
      " SELECT MAX(`Free Meal Count (K-12)` / `Enrollment (K-12)`) FROM frpm JOIN schools ON frpm.CDSCode = schools.CDSCode WHERE schools.County = 'Alameda';\n",
      "\n",
      "model 3 analysis:\n",
      " -- Your SQL query\n",
      "SELECT MAX(`Free Meal Count (K-12)` / `Enrollment (K-12)`) FROM frpm WHERE `County Name` = 'Alameda';\n",
      "\n",
      "model 4 analysis:\n",
      " SELECT MAX(`Free Meal Count (K-12)` / `Enrollment (K-12)`) FROM frpm JOIN schools ON frpm.CDSCode = schools.CDSCode WHERE schools.County = 'Alameda';\n",
      "\n",
      "model 5 analysis:\n",
      " SELECT MAX(`Free Meal Count (K-12)` / `Enrollment (K-12)`) FROM frpm JOIN schools ON frpm.CDSCode = schools.CDSCode WHERE schools.County = 'Alameda';\n",
      "\n",
      "\n",
      "here is avaliable tables below\n",
      "\n",
      "\n",
      "Table: frpm\n",
      "CREATE TABLE frpm\n",
      "(\n",
      "    CDSCode                                       TEXT not null\n",
      "        primary key,\n",
      "    `Academic Year`                               TEXT  null,\n",
      "    `County Code`                                 TEXT  null,\n",
      "    `District Code`                               INTEGER         null,\n",
      "    `School Code`                                 TEXT  null,\n",
      "    `County Name`                                 TEXT null,\n",
      "    `District Name`                               TEXT null,\n",
      "    `School Name`                                 TEXT null,\n",
      "    `District Type`                               TEXT null,\n",
      "    `School Type`                                 TEXT null,\n",
      "    `Educational Option Type`                     TEXT null,\n",
      "    `NSLP Provision Status`                       TEXT null,\n",
      "    `Charter School (Y/N)`                        INTEGER    null,\n",
      "    `Charter School Number`                       TEXT  null,\n",
      "    `Charter Funding Type`                        TEXT null,\n",
      "    IRC                                           INTEGER    null,\n",
      "    `Low Grade`                                   TEXT  null,\n",
      "    `High Grade`                                  TEXT null,\n",
      "    `Enrollment (K-12)`                           REAL      null,\n",
      "    `Free Meal Count (K-12)`                      REAL       null,\n",
      "    `Percent (%) Eligible Free (K-12)`            REAL       null,\n",
      "    `FRPM Count (K-12)`                           REAL       null,\n",
      "    `Percent (%) Eligible FRPM (K-12)`            REAL       null,\n",
      "    `Enrollment (Ages 5-17)`                      REAL       null,\n",
      "    `Free Meal Count (Ages 5-17)`                 REAL       null,\n",
      "    `Percent (%) Eligible Free (Ages 5-17)`       REAL       null,\n",
      "    `FRPM Count (Ages 5-17)`                      REAL       null,\n",
      "    `Percent (%) Eligible FRPM (Ages 5-17)`       REAL       null,\n",
      "    `2013-14 CALPADS Fall 1 Certification Status` INTEGER    null,\n",
      "    foreign key (CDSCode) references schools (CDSCode)\n",
      ")\n",
      "\n",
      "Table: satscores\n",
      "CREATE TABLE satscores\n",
      "(\n",
      "    cds         TEXT not null\n",
      "        primary key,\n",
      "    rtype       TEXT  not null,\n",
      "    sname       TEXT null,\n",
      "    dname       TEXT null,\n",
      "    cname       TEXT null,\n",
      "    enroll12    INTEGER         not null,\n",
      "    NumTstTakr  INTEGER          not null,\n",
      "    AvgScrRead  INTEGER          null,\n",
      "    AvgScrMath  INTEGER          null,\n",
      "    AvgScrWrite INTEGER          null,\n",
      "    NumGE1500   INTEGER          null,\n",
      "--     PctGE1500   double      null,\n",
      "        foreign key (cds) references schools (CDSCode)\n",
      ")\n",
      "\n",
      "Table: schools\n",
      "CREATE TABLE schools\n",
      "(\n",
      "    CDSCode     TEXT not null\n",
      "        primary key,\n",
      "    NCESDist    TEXT  null,\n",
      "    NCESSchool  TEXT  null,\n",
      "    StatusType  TEXT  not null,\n",
      "    County      TEXT not null,\n",
      "    District    TEXT not null,\n",
      "    School      TEXT null,\n",
      "    Street      TEXT null,\n",
      "    StreetAbr   TEXT null,\n",
      "    City        TEXT null,\n",
      "    Zip         TEXT null,\n",
      "    State       TEXT  null,\n",
      "    MailStreet  TEXT null,\n",
      "    MailStrAbr  TEXT null,\n",
      "    MailCity    TEXT null,\n",
      "    MailZip     TEXT null,\n",
      "    MailState   TEXT  null,\n",
      "    Phone       TEXT null,\n",
      "    Ext         TEXT  null,\n",
      "    Website     TEXT null,\n",
      "    OpenDate    DATE        null,\n",
      "    ClosedDate  DATE        null,\n",
      "    Charter     INTEGER    null,\n",
      "    CharterNum  TEXT  null,\n",
      "    FundingType TEXT null,\n",
      "    DOC         TEXT  not null,\n",
      "    DOCType     TEXT not null,\n",
      "    SOC         TEXT  null,\n",
      "    SOCType     TEXT null,\n",
      "    EdOpsCode   TEXT  null,\n",
      "    EdOpsName   TEXT null,\n",
      "    EILCode     TEXT  null,\n",
      "    EILName     TEXT null,\n",
      "    GSoffered   TEXT null,\n",
      "    GSserved    TEXT  null,\n",
      "    Virtual     TEXT  null,\n",
      "    Magnet      INTEGER   null,\n",
      "    Latitude    REAL      null,\n",
      "    Longitude   REAL      null,\n",
      "    AdmFName1   TEXT null,\n",
      "    AdmLName1   TEXT null,\n",
      "    AdmEmail1   TEXT null,\n",
      "    AdmFName2   TEXT null,\n",
      "    AdmLName2   TEXT null,\n",
      "    AdmEmail2   TEXT null,\n",
      "    AdmFName3   TEXT  null,\n",
      "    AdmLName3   TEXT null,\n",
      "    AdmEmail3   TEXT null,\n",
      "    LastUpdate  DATE        not null\n",
      ")\n",
      "\n",
      "-- Using valid SQLite and understanding External Knowledge, answer the following questions for the tables provided above.\n",
      "-- What is the highest eligible free rate for K-12 students in the schools in Alameda County?\n",
      "-- External Knowledge: Eligible free rate for K-12 = `Free Meal Count (K-12)` / `Enrollment (K-12)`\n",
      "\n",
      "\n",
      "Generate the SQLite for the above question after thinking step by step: \n",
      "\n",
      "\n",
      "Instructions:\n",
      "- Make sure you only output the information that is asked in the question. If the question asks for a specific column, make sure to only include that column in the SELECT clause, nothing more.\n",
      "- The generated query should return all of the information asked in the question without any missing or extra information.\n",
      "- Before generating the final SQL query, please think through the steps of how to write the query.\n",
      "- Do not misuse column names, keep them in quotes `\n",
      "- Carefully understand what colomns belond to what tables\n",
      "- Use only initial column names, change names prohibited\n",
      "        \n",
      "Output Format:\n",
      "In your answer, please enclose the generated SQL query in a code block:\n",
      "```\n",
      "-- Your SQL query\n",
      "```    \n",
      "and nothing else, no exaplains, no comments (asnwer should be less than 512 characters)\n",
      "\n",
      "Take a deep breath and think step by step to find the correct SQL query in SQLite format.\n",
      "\n",
      "Question repetition: What is the highest eligible free rate for K-12 students in the schools in Alameda County?\n",
      "\n",
      "Be care! Include only what i want it questiona and nothing else<|im_end|>\n",
      "<|im_start|>assistant\n",
      "<think>\n",
      "\n",
      "</think>\n",
      "\n",
      "\n",
      "\n",
      "\n",
      "Максимальное количество токенов в промптах: 6518\n",
      "\n",
      "начинаем скорринг\n",
      "Загружаем чаты с данными...\n",
      "Данные успешно загружены\n",
      "Начали генерацию SQL запросов\n"
     ]
    },
    {
     "name": "stderr",
     "output_type": "stream",
     "text": [
      "Processed prompts: 100%|██████████| 1534/1534 [01:00<00:00, 25.40it/s, est. speed input: 42876.37 toks/s, output: 1224.32 toks/s] "
     ]
    },
    {
     "name": "stdout",
     "output_type": "stream",
     "text": [
      "extract_think количество ошибок:  0\n",
      "extract_sql количество ошибок:  0\n",
      "Закончили генерацию SQL запросов\n",
      "Начали скорр полученных SQL запросов\n"
     ]
    },
    {
     "name": "stderr",
     "output_type": "stream",
     "text": [
      "\n"
     ]
    },
    {
     "name": "stdout",
     "output_type": "stream",
     "text": [
      "Qwen3-8B DEV Финальный результат EX: 56.91\n",
      "Qwen3-8B процент запросов, которые успешно выполнились DEV: 95.44%\n",
      "====================================================================================================\n",
      "\n",
      "\n",
      "Загружаем чаты с данными...\n",
      "Данные успешно загружены\n",
      "Начали генерацию SQL запросов\n"
     ]
    },
    {
     "name": "stderr",
     "output_type": "stream",
     "text": [
      "Processed prompts: 100%|██████████| 1534/1534 [00:59<00:00, 25.58it/s, est. speed input: 43189.86 toks/s, output: 1243.96 toks/s] "
     ]
    },
    {
     "name": "stdout",
     "output_type": "stream",
     "text": [
      "extract_think количество ошибок:  0\n",
      "extract_sql количество ошибок:  0\n",
      "Закончили генерацию SQL запросов\n",
      "Начали скорр полученных SQL запросов\n"
     ]
    },
    {
     "name": "stderr",
     "output_type": "stream",
     "text": [
      "\n"
     ]
    },
    {
     "name": "stdout",
     "output_type": "stream",
     "text": [
      "Qwen3-8B DEV Финальный результат EX: 57.24\n",
      "Qwen3-8B процент запросов, которые успешно выполнились DEV: 95.44%\n",
      "====================================================================================================\n",
      "\n",
      "\n",
      "Загружаем чаты с данными...\n",
      "Данные успешно загружены\n",
      "Начали генерацию SQL запросов\n"
     ]
    },
    {
     "name": "stderr",
     "output_type": "stream",
     "text": [
      "Processed prompts: 100%|██████████| 1534/1534 [01:00<00:00, 25.22it/s, est. speed input: 42744.93 toks/s, output: 1210.39 toks/s] "
     ]
    },
    {
     "name": "stdout",
     "output_type": "stream",
     "text": [
      "extract_think количество ошибок:  0\n",
      "extract_sql количество ошибок:  0\n",
      "Закончили генерацию SQL запросов\n",
      "Начали скорр полученных SQL запросов\n"
     ]
    },
    {
     "name": "stderr",
     "output_type": "stream",
     "text": [
      "\n"
     ]
    },
    {
     "name": "stdout",
     "output_type": "stream",
     "text": [
      "Qwen3-8B DEV Финальный результат EX: 56.98\n",
      "Qwen3-8B процент запросов, которые успешно выполнились DEV: 94.78%\n",
      "====================================================================================================\n",
      "\n",
      "\n",
      "Загружаем чаты с данными...\n",
      "Данные успешно загружены\n",
      "Начали генерацию SQL запросов\n"
     ]
    },
    {
     "name": "stderr",
     "output_type": "stream",
     "text": [
      "Processed prompts: 100%|██████████| 1534/1534 [01:00<00:00, 25.19it/s, est. speed input: 42698.07 toks/s, output: 1215.15 toks/s] "
     ]
    },
    {
     "name": "stdout",
     "output_type": "stream",
     "text": [
      "extract_think количество ошибок:  0\n",
      "extract_sql количество ошибок:  0\n",
      "Закончили генерацию SQL запросов\n",
      "Начали скорр полученных SQL запросов\n"
     ]
    },
    {
     "name": "stderr",
     "output_type": "stream",
     "text": [
      "\n"
     ]
    },
    {
     "name": "stdout",
     "output_type": "stream",
     "text": [
      "Qwen3-8B DEV Финальный результат EX: 57.04\n",
      "Qwen3-8B процент запросов, которые успешно выполнились DEV: 95.57%\n",
      "====================================================================================================\n",
      "\n",
      "\n",
      "Загружаем чаты с данными...\n",
      "Данные успешно загружены\n",
      "Начали генерацию SQL запросов\n"
     ]
    },
    {
     "name": "stderr",
     "output_type": "stream",
     "text": [
      "Processed prompts: 100%|██████████| 1534/1534 [01:00<00:00, 25.20it/s, est. speed input: 42707.66 toks/s, output: 1214.31 toks/s] "
     ]
    },
    {
     "name": "stdout",
     "output_type": "stream",
     "text": [
      "extract_think количество ошибок:  0\n",
      "extract_sql количество ошибок:  0\n",
      "Закончили генерацию SQL запросов\n",
      "Начали скорр полученных SQL запросов\n"
     ]
    },
    {
     "name": "stderr",
     "output_type": "stream",
     "text": [
      "\n"
     ]
    },
    {
     "name": "stdout",
     "output_type": "stream",
     "text": [
      "Qwen3-8B DEV Финальный результат EX: 57.56\n",
      "Qwen3-8B процент запросов, которые успешно выполнились DEV: 95.83%\n",
      "====================================================================================================\n",
      "\n",
      "\n",
      "Загружаем чаты с данными...\n",
      "Данные успешно загружены\n",
      "Начали генерацию SQL запросов\n"
     ]
    },
    {
     "name": "stderr",
     "output_type": "stream",
     "text": [
      "Processed prompts: 100%|██████████| 1534/1534 [00:57<00:00, 26.76it/s, est. speed input: 45330.82 toks/s, output: 1269.46 toks/s] "
     ]
    },
    {
     "name": "stdout",
     "output_type": "stream",
     "text": [
      "extract_think количество ошибок:  0\n",
      "extract_sql количество ошибок:  0\n",
      "Закончили генерацию SQL запросов\n",
      "Начали скорр полученных SQL запросов\n"
     ]
    },
    {
     "name": "stderr",
     "output_type": "stream",
     "text": [
      "\n"
     ]
    },
    {
     "name": "stdout",
     "output_type": "stream",
     "text": [
      "Qwen3-8B DEV Финальный результат EX: 56.78\n",
      "Qwen3-8B процент запросов, которые успешно выполнились DEV: 95.63%\n",
      "====================================================================================================\n",
      "\n",
      "\n",
      "Загружаем чаты с данными...\n",
      "Данные успешно загружены\n",
      "Начали генерацию SQL запросов\n"
     ]
    },
    {
     "name": "stderr",
     "output_type": "stream",
     "text": [
      "Processed prompts: 100%|██████████| 1534/1534 [00:59<00:00, 25.69it/s, est. speed input: 43535.39 toks/s, output: 1226.84 toks/s] "
     ]
    },
    {
     "name": "stdout",
     "output_type": "stream",
     "text": [
      "extract_think количество ошибок:  0\n",
      "extract_sql количество ошибок:  0\n",
      "Закончили генерацию SQL запросов\n",
      "Начали скорр полученных SQL запросов\n"
     ]
    },
    {
     "name": "stderr",
     "output_type": "stream",
     "text": [
      "\n"
     ]
    },
    {
     "name": "stdout",
     "output_type": "stream",
     "text": [
      "Qwen3-8B DEV Финальный результат EX: 56.84\n",
      "Qwen3-8B процент запросов, которые успешно выполнились DEV: 95.63%\n",
      "====================================================================================================\n",
      "\n",
      "\n",
      "Загружаем чаты с данными...\n",
      "Данные успешно загружены\n",
      "Начали генерацию SQL запросов\n"
     ]
    },
    {
     "name": "stderr",
     "output_type": "stream",
     "text": [
      "Processed prompts: 100%|██████████| 1534/1534 [00:56<00:00, 27.04it/s, est. speed input: 45801.46 toks/s, output: 1281.73 toks/s] "
     ]
    },
    {
     "name": "stdout",
     "output_type": "stream",
     "text": [
      "extract_think количество ошибок:  0\n",
      "extract_sql количество ошибок:  0\n",
      "Закончили генерацию SQL запросов\n",
      "Начали скорр полученных SQL запросов\n"
     ]
    },
    {
     "name": "stderr",
     "output_type": "stream",
     "text": [
      "\n"
     ]
    },
    {
     "name": "stdout",
     "output_type": "stream",
     "text": [
      "Qwen3-8B DEV Финальный результат EX: 57.17\n",
      "Qwen3-8B процент запросов, которые успешно выполнились DEV: 95.63%\n",
      "====================================================================================================\n",
      "\n",
      "\n",
      "Загружаем чаты с данными...\n",
      "Данные успешно загружены\n",
      "Начали генерацию SQL запросов\n"
     ]
    },
    {
     "name": "stderr",
     "output_type": "stream",
     "text": [
      "Processed prompts: 100%|██████████| 1534/1534 [00:56<00:00, 27.03it/s, est. speed input: 45637.24 toks/s, output: 1285.28 toks/s] "
     ]
    },
    {
     "name": "stdout",
     "output_type": "stream",
     "text": [
      "extract_think количество ошибок:  0\n",
      "extract_sql количество ошибок:  0\n",
      "Закончили генерацию SQL запросов\n",
      "Начали скорр полученных SQL запросов\n"
     ]
    },
    {
     "name": "stderr",
     "output_type": "stream",
     "text": [
      "\n"
     ]
    },
    {
     "name": "stdout",
     "output_type": "stream",
     "text": [
      "Qwen3-8B DEV Финальный результат EX: 56.65\n",
      "Qwen3-8B процент запросов, которые успешно выполнились DEV: 96.09%\n",
      "====================================================================================================\n",
      "\n",
      "\n",
      "Загружаем чаты с данными...\n",
      "Данные успешно загружены\n",
      "Начали генерацию SQL запросов\n"
     ]
    },
    {
     "name": "stderr",
     "output_type": "stream",
     "text": [
      "Processed prompts: 100%|██████████| 1534/1534 [00:59<00:00, 25.69it/s, est. speed input: 43355.10 toks/s, output: 1234.03 toks/s] "
     ]
    },
    {
     "name": "stdout",
     "output_type": "stream",
     "text": [
      "extract_think количество ошибок:  0\n",
      "extract_sql количество ошибок:  0\n",
      "Закончили генерацию SQL запросов\n",
      "Начали скорр полученных SQL запросов\n"
     ]
    },
    {
     "name": "stderr",
     "output_type": "stream",
     "text": [
      "\n"
     ]
    },
    {
     "name": "stdout",
     "output_type": "stream",
     "text": [
      "Qwen3-8B DEV Финальный результат EX: 57.24\n",
      "Qwen3-8B процент запросов, которые успешно выполнились DEV: 96.41%\n",
      "====================================================================================================\n",
      "\n",
      "\n",
      "Загружаем чаты с данными...\n",
      "Данные успешно загружены\n",
      "Начали генерацию SQL запросов\n"
     ]
    },
    {
     "name": "stderr",
     "output_type": "stream",
     "text": [
      "Processed prompts: 100%|██████████| 1534/1534 [01:01<00:00, 24.82it/s, est. speed input: 41918.94 toks/s, output: 1195.01 toks/s] "
     ]
    },
    {
     "name": "stdout",
     "output_type": "stream",
     "text": [
      "extract_think количество ошибок:  0\n",
      "extract_sql количество ошибок:  0\n",
      "Закончили генерацию SQL запросов\n",
      "Начали скорр полученных SQL запросов\n"
     ]
    },
    {
     "name": "stderr",
     "output_type": "stream",
     "text": [
      "\n"
     ]
    },
    {
     "name": "stdout",
     "output_type": "stream",
     "text": [
      "Qwen3-8B DEV Финальный результат EX: 56.65\n",
      "Qwen3-8B процент запросов, которые успешно выполнились DEV: 95.63%\n",
      "====================================================================================================\n",
      "\n",
      "\n",
      "Загружаем чаты с данными...\n",
      "Данные успешно загружены\n",
      "Начали генерацию SQL запросов\n"
     ]
    },
    {
     "name": "stderr",
     "output_type": "stream",
     "text": [
      "Processed prompts: 100%|██████████| 1534/1534 [01:00<00:00, 25.19it/s, est. speed input: 42566.38 toks/s, output: 1220.40 toks/s] "
     ]
    },
    {
     "name": "stdout",
     "output_type": "stream",
     "text": [
      "extract_think количество ошибок:  0\n",
      "extract_sql количество ошибок:  0\n",
      "Закончили генерацию SQL запросов\n",
      "Начали скорр полученных SQL запросов\n"
     ]
    },
    {
     "name": "stderr",
     "output_type": "stream",
     "text": [
      "\n"
     ]
    },
    {
     "name": "stdout",
     "output_type": "stream",
     "text": [
      "Qwen3-8B DEV Финальный результат EX: 56.98\n",
      "Qwen3-8B процент запросов, которые успешно выполнились DEV: 95.05%\n",
      "====================================================================================================\n",
      "\n",
      "\n",
      "Загружаем чаты с данными...\n",
      "Данные успешно загружены\n",
      "Начали генерацию SQL запросов\n"
     ]
    },
    {
     "name": "stderr",
     "output_type": "stream",
     "text": [
      "Processed prompts: 100%|██████████| 1534/1534 [00:59<00:00, 25.63it/s, est. speed input: 43301.33 toks/s, output: 1228.97 toks/s] "
     ]
    },
    {
     "name": "stdout",
     "output_type": "stream",
     "text": [
      "extract_think количество ошибок:  0\n",
      "extract_sql количество ошибок:  0\n",
      "Закончили генерацию SQL запросов\n",
      "Начали скорр полученных SQL запросов\n"
     ]
    },
    {
     "name": "stderr",
     "output_type": "stream",
     "text": [
      "\n"
     ]
    },
    {
     "name": "stdout",
     "output_type": "stream",
     "text": [
      "Qwen3-8B DEV Финальный результат EX: 56.52\n",
      "Qwen3-8B процент запросов, которые успешно выполнились DEV: 95.44%\n",
      "====================================================================================================\n",
      "\n",
      "\n",
      "Загружаем чаты с данными...\n",
      "Данные успешно загружены\n",
      "Начали генерацию SQL запросов\n"
     ]
    },
    {
     "name": "stderr",
     "output_type": "stream",
     "text": [
      "Processed prompts: 100%|██████████| 1534/1534 [00:59<00:00, 25.61it/s, est. speed input: 43276.79 toks/s, output: 1237.27 toks/s] "
     ]
    },
    {
     "name": "stdout",
     "output_type": "stream",
     "text": [
      "extract_think количество ошибок:  0\n",
      "extract_sql количество ошибок:  0\n",
      "Закончили генерацию SQL запросов\n",
      "Начали скорр полученных SQL запросов\n"
     ]
    },
    {
     "name": "stderr",
     "output_type": "stream",
     "text": [
      "\n"
     ]
    },
    {
     "name": "stdout",
     "output_type": "stream",
     "text": [
      "Qwen3-8B DEV Финальный результат EX: 57.63\n",
      "Qwen3-8B процент запросов, которые успешно выполнились DEV: 95.24%\n",
      "====================================================================================================\n",
      "\n",
      "\n",
      "Загружаем чаты с данными...\n",
      "Данные успешно загружены\n",
      "Начали генерацию SQL запросов\n"
     ]
    },
    {
     "name": "stderr",
     "output_type": "stream",
     "text": [
      "Processed prompts: 100%|██████████| 1534/1534 [00:59<00:00, 25.57it/s, est. speed input: 43206.27 toks/s, output: 1237.99 toks/s] "
     ]
    },
    {
     "name": "stdout",
     "output_type": "stream",
     "text": [
      "extract_think количество ошибок:  0\n",
      "extract_sql количество ошибок:  0\n",
      "Закончили генерацию SQL запросов\n",
      "Начали скорр полученных SQL запросов\n"
     ]
    },
    {
     "name": "stderr",
     "output_type": "stream",
     "text": [
      "\n"
     ]
    },
    {
     "name": "stdout",
     "output_type": "stream",
     "text": [
      "Qwen3-8B DEV Финальный результат EX: 57.56\n",
      "Qwen3-8B процент запросов, которые успешно выполнились DEV: 95.18%\n",
      "====================================================================================================\n",
      "\n",
      "\n",
      "Загружаем чаты с данными...\n",
      "Данные успешно загружены\n",
      "Начали генерацию SQL запросов\n"
     ]
    },
    {
     "name": "stderr",
     "output_type": "stream",
     "text": [
      "Processed prompts: 100%|██████████| 1534/1534 [01:01<00:00, 24.85it/s, est. speed input: 41998.30 toks/s, output: 1228.00 toks/s] "
     ]
    },
    {
     "name": "stdout",
     "output_type": "stream",
     "text": [
      "extract_think количество ошибок:  0\n",
      "extract_sql количество ошибок:  0\n",
      "Закончили генерацию SQL запросов\n",
      "Начали скорр полученных SQL запросов\n"
     ]
    },
    {
     "name": "stderr",
     "output_type": "stream",
     "text": [
      "\n"
     ]
    },
    {
     "name": "stdout",
     "output_type": "stream",
     "text": [
      "Qwen3-8B DEV Финальный результат EX: 57.69\n",
      "Qwen3-8B процент запросов, которые успешно выполнились DEV: 94.92%\n",
      "====================================================================================================\n",
      "\n",
      "\n",
      "Загружаем чаты с данными...\n",
      "Данные успешно загружены\n",
      "Начали генерацию SQL запросов\n"
     ]
    },
    {
     "name": "stderr",
     "output_type": "stream",
     "text": [
      "Processed prompts: 100%|██████████| 1534/1534 [01:01<00:00, 24.79it/s, est. speed input: 41872.17 toks/s, output: 1211.56 toks/s] "
     ]
    },
    {
     "name": "stdout",
     "output_type": "stream",
     "text": [
      "extract_think количество ошибок:  0\n",
      "extract_sql количество ошибок:  0\n",
      "Закончили генерацию SQL запросов\n",
      "Начали скорр полученных SQL запросов\n"
     ]
    },
    {
     "name": "stderr",
     "output_type": "stream",
     "text": [
      "\n"
     ]
    },
    {
     "name": "stdout",
     "output_type": "stream",
     "text": [
      "Qwen3-8B DEV Финальный результат EX: 57.43\n",
      "Qwen3-8B процент запросов, которые успешно выполнились DEV: 94.92%\n",
      "====================================================================================================\n",
      "\n",
      "\n",
      "Загружаем чаты с данными...\n",
      "Данные успешно загружены\n",
      "Начали генерацию SQL запросов\n"
     ]
    },
    {
     "name": "stderr",
     "output_type": "stream",
     "text": [
      "Processed prompts: 100%|██████████| 1534/1534 [00:59<00:00, 25.62it/s, est. speed input: 43274.11 toks/s, output: 1238.64 toks/s] "
     ]
    },
    {
     "name": "stdout",
     "output_type": "stream",
     "text": [
      "extract_think количество ошибок:  0\n",
      "extract_sql количество ошибок:  0\n",
      "Закончили генерацию SQL запросов\n",
      "Начали скорр полученных SQL запросов\n"
     ]
    },
    {
     "name": "stderr",
     "output_type": "stream",
     "text": [
      "\n"
     ]
    },
    {
     "name": "stdout",
     "output_type": "stream",
     "text": [
      "Qwen3-8B DEV Финальный результат EX: 57.69\n",
      "Qwen3-8B процент запросов, которые успешно выполнились DEV: 95.24%\n",
      "====================================================================================================\n",
      "\n",
      "\n",
      "Загружаем чаты с данными...\n",
      "Данные успешно загружены\n",
      "Начали генерацию SQL запросов\n"
     ]
    },
    {
     "name": "stderr",
     "output_type": "stream",
     "text": [
      "Processed prompts: 100%|██████████| 1534/1534 [00:57<00:00, 26.48it/s, est. speed input: 44722.82 toks/s, output: 1266.55 toks/s] "
     ]
    },
    {
     "name": "stdout",
     "output_type": "stream",
     "text": [
      "extract_think количество ошибок:  0\n",
      "extract_sql количество ошибок:  0\n",
      "Закончили генерацию SQL запросов\n",
      "Начали скорр полученных SQL запросов\n"
     ]
    },
    {
     "name": "stderr",
     "output_type": "stream",
     "text": [
      "\n"
     ]
    },
    {
     "name": "stdout",
     "output_type": "stream",
     "text": [
      "Qwen3-8B DEV Финальный результат EX: 57.76\n",
      "Qwen3-8B процент запросов, которые успешно выполнились DEV: 95.57%\n",
      "====================================================================================================\n",
      "\n",
      "\n",
      "Загружаем чаты с данными...\n",
      "Данные успешно загружены\n",
      "Начали генерацию SQL запросов\n"
     ]
    },
    {
     "name": "stderr",
     "output_type": "stream",
     "text": [
      "Processed prompts: 100%|██████████| 1534/1534 [01:00<00:00, 25.53it/s, est. speed input: 43087.34 toks/s, output: 1216.53 toks/s] "
     ]
    },
    {
     "name": "stdout",
     "output_type": "stream",
     "text": [
      "extract_think количество ошибок:  0\n",
      "extract_sql количество ошибок:  0\n",
      "Закончили генерацию SQL запросов\n",
      "Начали скорр полученных SQL запросов\n"
     ]
    },
    {
     "name": "stderr",
     "output_type": "stream",
     "text": [
      "\n"
     ]
    },
    {
     "name": "stdout",
     "output_type": "stream",
     "text": [
      "Qwen3-8B DEV Финальный результат EX: 57.04\n",
      "Qwen3-8B процент запросов, которые успешно выполнились DEV: 95.44%\n",
      "====================================================================================================\n",
      "\n",
      "\n"
     ]
    }
   ],
   "source": [
    "run_cot_experiment(model,arr_seeds,arr_versions, type_cot,num_observations=num_observations)"
   ]
  },
  {
   "cell_type": "code",
   "execution_count": 25,
   "id": "a94cd47b-49f8-474e-b88d-fe0c14ff3e2e",
   "metadata": {},
   "outputs": [
    {
     "name": "stdout",
     "output_type": "stream",
     "text": [
      "[933, 629, 845, 967, 417, 939, 385, 770, 834, 666, 311, 544, 104, 589, 668, 499, 899, 316, 943, 196]\n",
      "model: Qwen3-8B\n"
     ]
    }
   ],
   "source": [
    "n= 20\n",
    "arr_seeds = [random.randint(0,1000) for _ in range(n)]\n",
    "arr_versions = [x for x in range(n)]\n",
    "model = \"Qwen3-8B\"\n",
    "num_observations = 7\n",
    "type_cot = 'predict'\n",
    "print(arr_seeds)\n",
    "print(f\"model: {model}\")"
   ]
  },
  {
   "cell_type": "code",
   "execution_count": 26,
   "id": "91c21ffa-aee2-4dba-abad-52c7011ded7d",
   "metadata": {
    "scrolled": true
   },
   "outputs": [
    {
     "name": "stdout",
     "output_type": "stream",
     "text": [
      "Загружаем модель...\n"
     ]
    },
    {
     "name": "stderr",
     "output_type": "stream",
     "text": [
      "Loading safetensors checkpoint shards:   0% Completed | 0/4 [00:00<?, ?it/s]\n",
      "Loading safetensors checkpoint shards:  25% Completed | 1/4 [00:00<00:00,  8.78it/s]\n",
      "Loading safetensors checkpoint shards:  50% Completed | 2/4 [00:00<00:00,  2.59it/s]\n",
      "Loading safetensors checkpoint shards:  75% Completed | 3/4 [00:01<00:00,  1.85it/s]\n",
      "Loading safetensors checkpoint shards: 100% Completed | 4/4 [00:02<00:00,  1.64it/s]\n",
      "Loading safetensors checkpoint shards: 100% Completed | 4/4 [00:02<00:00,  1.88it/s]\n",
      "\u001b[1;36m(VllmWorker rank=0 pid=97769)\u001b[0;0m \n"
     ]
    },
    {
     "name": "stdout",
     "output_type": "stream",
     "text": [
      "Модель успешно загружена\n",
      "model_config {'model': '/data/home/vkropoti/models/Qwen3-8B', 'tensor_parallel_size': 2, 'max_model_len': 40000, 'max_new_tokens': 1500, 'temperature': 0, 'top_k': 1, 'top_p': 0.8, 'gpu_memory_utilization': 0.9, 'trust_remote_code': False, 'seed': 933}\n",
      "\n",
      "prompts_config {'path_dev_json': '/home/vkropoti/vllm/dev.json', 'path_sql_dbs': '/data/home/vkropoti/sql_data/dev_databases/', 'use_reasoning': False, 'paths_to_cot': ['/data/home/vkropoti/sql_llm_answers/bird_dev/sql_predict_Qwen3-8B-reasoning-v0', '/data/home/vkropoti/sql_llm_answers/bird_dev/sql_predict_Qwen3-8B-reasoning-v1', '/data/home/vkropoti/sql_llm_answers/bird_dev/sql_predict_Qwen3-8B-reasoning-v2', '/data/home/vkropoti/sql_llm_answers/bird_dev/sql_predict_Qwen3-8B-reasoning-v3', '/data/home/vkropoti/sql_llm_answers/bird_dev/sql_predict_Qwen3-8B-reasoning-v4', '/data/home/vkropoti/sql_llm_answers/bird_dev/sql_predict_Qwen3-8B-reasoning-v5', '/data/home/vkropoti/sql_llm_answers/bird_dev/sql_predict_Qwen3-8B-reasoning-v6']}\n",
      "\n",
      "save_config {'path_sql_save': '/data/home/vkropoti/sql_llm_answers/bird_dev/sql_all_Qwen3-8B-cot_predict_think==False_nobs7-v0', 'path_think_save': None, 'path_sql_answers_save': '/data/home/vkropoti/sql_llm_answers/bird_dev/sql_predict_Qwen3-8B-cot_predict_think==False_nobs7-v0', 'path_to_save_scores': '/data/home/vkropoti/sql_llm_answers/bird_dev/sql_results_Qwen3-8B-cot_predict_think==False_nobs7-v0', 'path_to_save_executed': '/data/home/vkropoti/sql_llm_answers/bird_dev/sql_executed_Qwen3-8B-cot_predict_think==False_nobs7-v0'}\n",
      "\n",
      "Модель успешно загружена\n",
      "Пример промпта\n",
      "<|im_start|>system\n",
      "\n",
      "You are a data science expert. Below, you are provided with a database schema and a natural language question. Your task is to understand the schema and generate a valid SQL query to answer the question.\n",
      "\n",
      "Database Engine: SQLite\n",
      "\n",
      "You will be given an additional analysis of other models, please take it into account, so the plan is\n",
      "1. Analyse given addition analysis from other models (find in which analysis the same and differ, how to use that to answer question)\n",
      "2. Combine best from previous part and think how to solve the problem (analyze tables, take care what columns avaliable in each table and so on, check the syntacsis)\n",
      "3. Create the answers. The answer should be only sql query.\n",
      "\n",
      "Carefully follow the instruction and add <|im_end|> and the end of the final answer<|im_end|>\n",
      "<|im_start|>user\n",
      "Here is addition analysis from other models which can be helpfull, please take this into account but be careful (choose the best from each analysis, combine them to make the most proper answer):\n",
      "\n",
      "model 0 analysis:\n",
      " SELECT MAX(`Free Meal Count (K-12)` / `Enrollment (K-12)`) FROM frpm JOIN schools ON frpm.CDSCode = schools.CDSCode WHERE County = 'Alameda';\n",
      "\n",
      "model 1 analysis:\n",
      " SELECT MAX(`Free Meal Count (K-12)` / `Enrollment (K-12)`) FROM frpm JOIN schools ON frpm.CDSCode = schools.CDSCode WHERE schools.County = 'Alameda';\n",
      "\n",
      "model 2 analysis:\n",
      " SELECT MAX(`Free Meal Count (K-12)` / `Enrollment (K-12)`) FROM frpm JOIN schools ON frpm.CDSCode = schools.CDSCode WHERE schools.County = 'Alameda';\n",
      "\n",
      "model 3 analysis:\n",
      " -- Your SQL query\n",
      "SELECT MAX(`Free Meal Count (K-12)` / `Enrollment (K-12)`) FROM frpm WHERE `County Name` = 'Alameda';\n",
      "\n",
      "model 4 analysis:\n",
      " SELECT MAX(`Free Meal Count (K-12)` / `Enrollment (K-12)`) FROM frpm JOIN schools ON frpm.CDSCode = schools.CDSCode WHERE schools.County = 'Alameda';\n",
      "\n",
      "model 5 analysis:\n",
      " SELECT MAX(`Free Meal Count (K-12)` / `Enrollment (K-12)`) FROM frpm JOIN schools ON frpm.CDSCode = schools.CDSCode WHERE schools.County = 'Alameda';\n",
      "\n",
      "model 6 analysis:\n",
      " SELECT MAX(`Free Meal Count (K-12)` / `Enrollment (K-12)`) FROM frpm JOIN schools ON frpm.CDSCode = schools.CDSCode WHERE schools.County = 'Alameda';\n",
      "\n",
      "\n",
      "here is avaliable tables below\n",
      "\n",
      "\n",
      "Table: frpm\n",
      "CREATE TABLE frpm\n",
      "(\n",
      "    CDSCode                                       TEXT not null\n",
      "        primary key,\n",
      "    `Academic Year`                               TEXT  null,\n",
      "    `County Code`                                 TEXT  null,\n",
      "    `District Code`                               INTEGER         null,\n",
      "    `School Code`                                 TEXT  null,\n",
      "    `County Name`                                 TEXT null,\n",
      "    `District Name`                               TEXT null,\n",
      "    `School Name`                                 TEXT null,\n",
      "    `District Type`                               TEXT null,\n",
      "    `School Type`                                 TEXT null,\n",
      "    `Educational Option Type`                     TEXT null,\n",
      "    `NSLP Provision Status`                       TEXT null,\n",
      "    `Charter School (Y/N)`                        INTEGER    null,\n",
      "    `Charter School Number`                       TEXT  null,\n",
      "    `Charter Funding Type`                        TEXT null,\n",
      "    IRC                                           INTEGER    null,\n",
      "    `Low Grade`                                   TEXT  null,\n",
      "    `High Grade`                                  TEXT null,\n",
      "    `Enrollment (K-12)`                           REAL      null,\n",
      "    `Free Meal Count (K-12)`                      REAL       null,\n",
      "    `Percent (%) Eligible Free (K-12)`            REAL       null,\n",
      "    `FRPM Count (K-12)`                           REAL       null,\n",
      "    `Percent (%) Eligible FRPM (K-12)`            REAL       null,\n",
      "    `Enrollment (Ages 5-17)`                      REAL       null,\n",
      "    `Free Meal Count (Ages 5-17)`                 REAL       null,\n",
      "    `Percent (%) Eligible Free (Ages 5-17)`       REAL       null,\n",
      "    `FRPM Count (Ages 5-17)`                      REAL       null,\n",
      "    `Percent (%) Eligible FRPM (Ages 5-17)`       REAL       null,\n",
      "    `2013-14 CALPADS Fall 1 Certification Status` INTEGER    null,\n",
      "    foreign key (CDSCode) references schools (CDSCode)\n",
      ")\n",
      "\n",
      "Table: satscores\n",
      "CREATE TABLE satscores\n",
      "(\n",
      "    cds         TEXT not null\n",
      "        primary key,\n",
      "    rtype       TEXT  not null,\n",
      "    sname       TEXT null,\n",
      "    dname       TEXT null,\n",
      "    cname       TEXT null,\n",
      "    enroll12    INTEGER         not null,\n",
      "    NumTstTakr  INTEGER          not null,\n",
      "    AvgScrRead  INTEGER          null,\n",
      "    AvgScrMath  INTEGER          null,\n",
      "    AvgScrWrite INTEGER          null,\n",
      "    NumGE1500   INTEGER          null,\n",
      "--     PctGE1500   double      null,\n",
      "        foreign key (cds) references schools (CDSCode)\n",
      ")\n",
      "\n",
      "Table: schools\n",
      "CREATE TABLE schools\n",
      "(\n",
      "    CDSCode     TEXT not null\n",
      "        primary key,\n",
      "    NCESDist    TEXT  null,\n",
      "    NCESSchool  TEXT  null,\n",
      "    StatusType  TEXT  not null,\n",
      "    County      TEXT not null,\n",
      "    District    TEXT not null,\n",
      "    School      TEXT null,\n",
      "    Street      TEXT null,\n",
      "    StreetAbr   TEXT null,\n",
      "    City        TEXT null,\n",
      "    Zip         TEXT null,\n",
      "    State       TEXT  null,\n",
      "    MailStreet  TEXT null,\n",
      "    MailStrAbr  TEXT null,\n",
      "    MailCity    TEXT null,\n",
      "    MailZip     TEXT null,\n",
      "    MailState   TEXT  null,\n",
      "    Phone       TEXT null,\n",
      "    Ext         TEXT  null,\n",
      "    Website     TEXT null,\n",
      "    OpenDate    DATE        null,\n",
      "    ClosedDate  DATE        null,\n",
      "    Charter     INTEGER    null,\n",
      "    CharterNum  TEXT  null,\n",
      "    FundingType TEXT null,\n",
      "    DOC         TEXT  not null,\n",
      "    DOCType     TEXT not null,\n",
      "    SOC         TEXT  null,\n",
      "    SOCType     TEXT null,\n",
      "    EdOpsCode   TEXT  null,\n",
      "    EdOpsName   TEXT null,\n",
      "    EILCode     TEXT  null,\n",
      "    EILName     TEXT null,\n",
      "    GSoffered   TEXT null,\n",
      "    GSserved    TEXT  null,\n",
      "    Virtual     TEXT  null,\n",
      "    Magnet      INTEGER   null,\n",
      "    Latitude    REAL      null,\n",
      "    Longitude   REAL      null,\n",
      "    AdmFName1   TEXT null,\n",
      "    AdmLName1   TEXT null,\n",
      "    AdmEmail1   TEXT null,\n",
      "    AdmFName2   TEXT null,\n",
      "    AdmLName2   TEXT null,\n",
      "    AdmEmail2   TEXT null,\n",
      "    AdmFName3   TEXT  null,\n",
      "    AdmLName3   TEXT null,\n",
      "    AdmEmail3   TEXT null,\n",
      "    LastUpdate  DATE        not null\n",
      ")\n",
      "\n",
      "-- Using valid SQLite and understanding External Knowledge, answer the following questions for the tables provided above.\n",
      "-- What is the highest eligible free rate for K-12 students in the schools in Alameda County?\n",
      "-- External Knowledge: Eligible free rate for K-12 = `Free Meal Count (K-12)` / `Enrollment (K-12)`\n",
      "\n",
      "\n",
      "Generate the SQLite for the above question after thinking step by step: \n",
      "\n",
      "\n",
      "Instructions:\n",
      "- Make sure you only output the information that is asked in the question. If the question asks for a specific column, make sure to only include that column in the SELECT clause, nothing more.\n",
      "- The generated query should return all of the information asked in the question without any missing or extra information.\n",
      "- Before generating the final SQL query, please think through the steps of how to write the query.\n",
      "- Do not misuse column names, keep them in quotes `\n",
      "- Carefully understand what colomns belond to what tables\n",
      "- Use only initial column names, change names prohibited\n",
      "        \n",
      "Output Format:\n",
      "In your answer, please enclose the generated SQL query in a code block:\n",
      "```\n",
      "-- Your SQL query\n",
      "```    \n",
      "and nothing else, no exaplains, no comments (asnwer should be less than 512 characters)\n",
      "\n",
      "Take a deep breath and think step by step to find the correct SQL query in SQLite format.\n",
      "\n",
      "Question repetition: What is the highest eligible free rate for K-12 students in the schools in Alameda County?\n",
      "\n",
      "Be care! Include only what i want it questiona and nothing else<|im_end|>\n",
      "<|im_start|>assistant\n",
      "<think>\n",
      "\n",
      "</think>\n",
      "\n",
      "\n",
      "\n",
      "\n",
      "Максимальное количество токенов в промптах: 7244\n",
      "\n",
      "начинаем скорринг\n",
      "Загружаем чаты с данными...\n",
      "Данные успешно загружены\n",
      "Начали генерацию SQL запросов\n"
     ]
    },
    {
     "name": "stderr",
     "output_type": "stream",
     "text": [
      "Processed prompts: 100%|██████████| 1534/1534 [01:02<00:00, 24.61it/s, est. speed input: 42811.32 toks/s, output: 1183.63 toks/s] "
     ]
    },
    {
     "name": "stdout",
     "output_type": "stream",
     "text": [
      "extract_think количество ошибок:  0\n",
      "extract_sql количество ошибок:  0\n",
      "Закончили генерацию SQL запросов\n",
      "Начали скорр полученных SQL запросов\n"
     ]
    },
    {
     "name": "stderr",
     "output_type": "stream",
     "text": [
      "\n"
     ]
    },
    {
     "name": "stdout",
     "output_type": "stream",
     "text": [
      "Qwen3-8B DEV Финальный результат EX: 56.91\n",
      "Qwen3-8B процент запросов, которые успешно выполнились DEV: 95.57%\n",
      "====================================================================================================\n",
      "\n",
      "\n",
      "Загружаем чаты с данными...\n",
      "Данные успешно загружены\n",
      "Начали генерацию SQL запросов\n"
     ]
    },
    {
     "name": "stderr",
     "output_type": "stream",
     "text": [
      "Processed prompts: 100%|██████████| 1534/1534 [01:01<00:00, 24.80it/s, est. speed input: 43268.16 toks/s, output: 1200.78 toks/s] "
     ]
    },
    {
     "name": "stdout",
     "output_type": "stream",
     "text": [
      "extract_think количество ошибок:  0\n",
      "extract_sql количество ошибок:  0\n",
      "Закончили генерацию SQL запросов\n",
      "Начали скорр полученных SQL запросов\n"
     ]
    },
    {
     "name": "stderr",
     "output_type": "stream",
     "text": [
      "\n"
     ]
    },
    {
     "name": "stdout",
     "output_type": "stream",
     "text": [
      "Qwen3-8B DEV Финальный результат EX: 57.30\n",
      "Qwen3-8B процент запросов, которые успешно выполнились DEV: 95.44%\n",
      "====================================================================================================\n",
      "\n",
      "\n",
      "Загружаем чаты с данными...\n",
      "Данные успешно загружены\n",
      "Начали генерацию SQL запросов\n"
     ]
    },
    {
     "name": "stderr",
     "output_type": "stream",
     "text": [
      "Processed prompts: 100%|██████████| 1534/1534 [01:02<00:00, 24.40it/s, est. speed input: 42595.55 toks/s, output: 1169.52 toks/s] "
     ]
    },
    {
     "name": "stdout",
     "output_type": "stream",
     "text": [
      "extract_think количество ошибок:  0\n",
      "extract_sql количество ошибок:  0\n",
      "Закончили генерацию SQL запросов\n",
      "Начали скорр полученных SQL запросов\n"
     ]
    },
    {
     "name": "stderr",
     "output_type": "stream",
     "text": [
      "\n"
     ]
    },
    {
     "name": "stdout",
     "output_type": "stream",
     "text": [
      "Qwen3-8B DEV Финальный результат EX: 57.04\n",
      "Qwen3-8B процент запросов, которые успешно выполнились DEV: 95.24%\n",
      "====================================================================================================\n",
      "\n",
      "\n",
      "Загружаем чаты с данными...\n",
      "Данные успешно загружены\n",
      "Начали генерацию SQL запросов\n"
     ]
    },
    {
     "name": "stderr",
     "output_type": "stream",
     "text": [
      "Processed prompts: 100%|██████████| 1534/1534 [00:59<00:00, 25.61it/s, est. speed input: 44697.43 toks/s, output: 1223.44 toks/s] "
     ]
    },
    {
     "name": "stdout",
     "output_type": "stream",
     "text": [
      "extract_think количество ошибок:  0\n",
      "extract_sql количество ошибок:  0\n",
      "Закончили генерацию SQL запросов\n",
      "Начали скорр полученных SQL запросов\n"
     ]
    },
    {
     "name": "stderr",
     "output_type": "stream",
     "text": [
      "\n"
     ]
    },
    {
     "name": "stdout",
     "output_type": "stream",
     "text": [
      "Qwen3-8B DEV Финальный результат EX: 57.17\n",
      "Qwen3-8B процент запросов, которые успешно выполнились DEV: 95.89%\n",
      "====================================================================================================\n",
      "\n",
      "\n",
      "Загружаем чаты с данными...\n",
      "Данные успешно загружены\n",
      "Начали генерацию SQL запросов\n"
     ]
    },
    {
     "name": "stderr",
     "output_type": "stream",
     "text": [
      "Processed prompts: 100%|██████████| 1534/1534 [00:59<00:00, 25.96it/s, est. speed input: 45277.71 toks/s, output: 1231.06 toks/s] "
     ]
    },
    {
     "name": "stdout",
     "output_type": "stream",
     "text": [
      "extract_think количество ошибок:  0\n",
      "extract_sql количество ошибок:  0\n",
      "Закончили генерацию SQL запросов\n",
      "Начали скорр полученных SQL запросов\n"
     ]
    },
    {
     "name": "stderr",
     "output_type": "stream",
     "text": [
      "\n"
     ]
    },
    {
     "name": "stdout",
     "output_type": "stream",
     "text": [
      "Qwen3-8B DEV Финальный результат EX: 57.17\n",
      "Qwen3-8B процент запросов, которые успешно выполнились DEV: 95.96%\n",
      "====================================================================================================\n",
      "\n",
      "\n",
      "Загружаем чаты с данными...\n",
      "Данные успешно загружены\n",
      "Начали генерацию SQL запросов\n"
     ]
    },
    {
     "name": "stderr",
     "output_type": "stream",
     "text": [
      "Processed prompts: 100%|██████████| 1534/1534 [00:59<00:00, 25.78it/s, est. speed input: 44994.11 toks/s, output: 1226.75 toks/s] "
     ]
    },
    {
     "name": "stdout",
     "output_type": "stream",
     "text": [
      "extract_think количество ошибок:  0\n",
      "extract_sql количество ошибок:  0\n",
      "Закончили генерацию SQL запросов\n",
      "Начали скорр полученных SQL запросов\n"
     ]
    },
    {
     "name": "stderr",
     "output_type": "stream",
     "text": [
      "\n"
     ]
    },
    {
     "name": "stdout",
     "output_type": "stream",
     "text": [
      "Qwen3-8B DEV Финальный результат EX: 57.37\n",
      "Qwen3-8B процент запросов, которые успешно выполнились DEV: 95.63%\n",
      "====================================================================================================\n",
      "\n",
      "\n",
      "Загружаем чаты с данными...\n",
      "Данные успешно загружены\n",
      "Начали генерацию SQL запросов\n"
     ]
    },
    {
     "name": "stderr",
     "output_type": "stream",
     "text": [
      "Processed prompts: 100%|██████████| 1534/1534 [01:01<00:00, 25.13it/s, est. speed input: 43854.37 toks/s, output: 1197.89 toks/s] "
     ]
    },
    {
     "name": "stdout",
     "output_type": "stream",
     "text": [
      "extract_think количество ошибок:  0\n",
      "extract_sql количество ошибок:  0\n",
      "Закончили генерацию SQL запросов\n",
      "Начали скорр полученных SQL запросов\n"
     ]
    },
    {
     "name": "stderr",
     "output_type": "stream",
     "text": [
      "\n"
     ]
    },
    {
     "name": "stdout",
     "output_type": "stream",
     "text": [
      "Qwen3-8B DEV Финальный результат EX: 56.45\n",
      "Qwen3-8B процент запросов, которые успешно выполнились DEV: 95.63%\n",
      "====================================================================================================\n",
      "\n",
      "\n",
      "Загружаем чаты с данными...\n",
      "Данные успешно загружены\n",
      "Начали генерацию SQL запросов\n"
     ]
    },
    {
     "name": "stderr",
     "output_type": "stream",
     "text": [
      "Processed prompts: 100%|██████████| 1534/1534 [00:59<00:00, 25.94it/s, est. speed input: 45248.01 toks/s, output: 1233.66 toks/s] "
     ]
    },
    {
     "name": "stdout",
     "output_type": "stream",
     "text": [
      "extract_think количество ошибок:  0\n",
      "extract_sql количество ошибок:  0\n",
      "Закончили генерацию SQL запросов\n",
      "Начали скорр полученных SQL запросов\n"
     ]
    },
    {
     "name": "stderr",
     "output_type": "stream",
     "text": [
      "\n"
     ]
    },
    {
     "name": "stdout",
     "output_type": "stream",
     "text": [
      "Qwen3-8B DEV Финальный результат EX: 57.43\n",
      "Qwen3-8B процент запросов, которые успешно выполнились DEV: 95.50%\n",
      "====================================================================================================\n",
      "\n",
      "\n",
      "Загружаем чаты с данными...\n",
      "Данные успешно загружены\n",
      "Начали генерацию SQL запросов\n"
     ]
    },
    {
     "name": "stderr",
     "output_type": "stream",
     "text": [
      "Processed prompts: 100%|██████████| 1534/1534 [00:58<00:00, 26.23it/s, est. speed input: 45611.41 toks/s, output: 1251.42 toks/s] "
     ]
    },
    {
     "name": "stdout",
     "output_type": "stream",
     "text": [
      "extract_think количество ошибок:  0\n",
      "extract_sql количество ошибок:  0\n",
      "Закончили генерацию SQL запросов\n",
      "Начали скорр полученных SQL запросов\n"
     ]
    },
    {
     "name": "stderr",
     "output_type": "stream",
     "text": [
      "\n"
     ]
    },
    {
     "name": "stdout",
     "output_type": "stream",
     "text": [
      "Qwen3-8B DEV Финальный результат EX: 57.04\n",
      "Qwen3-8B процент запросов, которые успешно выполнились DEV: 95.83%\n",
      "====================================================================================================\n",
      "\n",
      "\n",
      "Загружаем чаты с данными...\n",
      "Данные успешно загружены\n",
      "Начали генерацию SQL запросов\n"
     ]
    },
    {
     "name": "stderr",
     "output_type": "stream",
     "text": [
      "Processed prompts: 100%|██████████| 1534/1534 [01:03<00:00, 24.32it/s, est. speed input: 42294.72 toks/s, output: 1179.44 toks/s] "
     ]
    },
    {
     "name": "stdout",
     "output_type": "stream",
     "text": [
      "extract_think количество ошибок:  0\n",
      "extract_sql количество ошибок:  0\n",
      "Закончили генерацию SQL запросов\n",
      "Начали скорр полученных SQL запросов\n"
     ]
    },
    {
     "name": "stderr",
     "output_type": "stream",
     "text": [
      "\n"
     ]
    },
    {
     "name": "stdout",
     "output_type": "stream",
     "text": [
      "Qwen3-8B DEV Финальный результат EX: 56.71\n",
      "Qwen3-8B процент запросов, которые успешно выполнились DEV: 95.63%\n",
      "====================================================================================================\n",
      "\n",
      "\n",
      "Загружаем чаты с данными...\n",
      "Данные успешно загружены\n",
      "Начали генерацию SQL запросов\n"
     ]
    },
    {
     "name": "stderr",
     "output_type": "stream",
     "text": [
      "Processed prompts: 100%|██████████| 1534/1534 [01:03<00:00, 23.99it/s, est. speed input: 41726.33 toks/s, output: 1157.57 toks/s] "
     ]
    },
    {
     "name": "stdout",
     "output_type": "stream",
     "text": [
      "extract_think количество ошибок:  0\n",
      "extract_sql количество ошибок:  0\n",
      "Закончили генерацию SQL запросов\n",
      "Начали скорр полученных SQL запросов\n"
     ]
    },
    {
     "name": "stderr",
     "output_type": "stream",
     "text": [
      "\n"
     ]
    },
    {
     "name": "stdout",
     "output_type": "stream",
     "text": [
      "Qwen3-8B DEV Финальный результат EX: 56.52\n",
      "Qwen3-8B процент запросов, которые успешно выполнились DEV: 95.63%\n",
      "====================================================================================================\n",
      "\n",
      "\n",
      "Загружаем чаты с данными...\n",
      "Данные успешно загружены\n",
      "Начали генерацию SQL запросов\n"
     ]
    },
    {
     "name": "stderr",
     "output_type": "stream",
     "text": [
      "Processed prompts: 100%|██████████| 1534/1534 [01:02<00:00, 24.64it/s, est. speed input: 42893.52 toks/s, output: 1182.23 toks/s] "
     ]
    },
    {
     "name": "stdout",
     "output_type": "stream",
     "text": [
      "extract_think количество ошибок:  0\n",
      "extract_sql количество ошибок:  0\n",
      "Закончили генерацию SQL запросов\n",
      "Начали скорр полученных SQL запросов\n"
     ]
    },
    {
     "name": "stderr",
     "output_type": "stream",
     "text": [
      "\n"
     ]
    },
    {
     "name": "stdout",
     "output_type": "stream",
     "text": [
      "Qwen3-8B DEV Финальный результат EX: 56.91\n",
      "Qwen3-8B процент запросов, которые успешно выполнились DEV: 95.05%\n",
      "====================================================================================================\n",
      "\n",
      "\n",
      "Загружаем чаты с данными...\n",
      "Данные успешно загружены\n",
      "Начали генерацию SQL запросов\n"
     ]
    },
    {
     "name": "stderr",
     "output_type": "stream",
     "text": [
      "Processed prompts: 100%|██████████| 1534/1534 [01:01<00:00, 24.78it/s, est. speed input: 43139.80 toks/s, output: 1195.17 toks/s] "
     ]
    },
    {
     "name": "stdout",
     "output_type": "stream",
     "text": [
      "extract_think количество ошибок:  0\n",
      "extract_sql количество ошибок:  0\n",
      "Закончили генерацию SQL запросов\n",
      "Начали скорр полученных SQL запросов\n"
     ]
    },
    {
     "name": "stderr",
     "output_type": "stream",
     "text": [
      "\n"
     ]
    },
    {
     "name": "stdout",
     "output_type": "stream",
     "text": [
      "Qwen3-8B DEV Финальный результат EX: 57.17\n",
      "Qwen3-8B процент запросов, которые успешно выполнились DEV: 95.70%\n",
      "====================================================================================================\n",
      "\n",
      "\n",
      "Загружаем чаты с данными...\n",
      "Данные успешно загружены\n",
      "Начали генерацию SQL запросов\n"
     ]
    },
    {
     "name": "stderr",
     "output_type": "stream",
     "text": [
      "Processed prompts: 100%|██████████| 1534/1534 [01:02<00:00, 24.39it/s, est. speed input: 42455.98 toks/s, output: 1194.34 toks/s] "
     ]
    },
    {
     "name": "stdout",
     "output_type": "stream",
     "text": [
      "extract_think количество ошибок:  0\n",
      "extract_sql количество ошибок:  0\n",
      "Закончили генерацию SQL запросов\n",
      "Начали скорр полученных SQL запросов\n"
     ]
    },
    {
     "name": "stderr",
     "output_type": "stream",
     "text": [
      "\n"
     ]
    },
    {
     "name": "stdout",
     "output_type": "stream",
     "text": [
      "Qwen3-8B DEV Финальный результат EX: 57.37\n",
      "Qwen3-8B процент запросов, которые успешно выполнились DEV: 95.31%\n",
      "====================================================================================================\n",
      "\n",
      "\n",
      "Загружаем чаты с данными...\n",
      "Данные успешно загружены\n",
      "Начали генерацию SQL запросов\n"
     ]
    },
    {
     "name": "stderr",
     "output_type": "stream",
     "text": [
      "Processed prompts: 100%|██████████| 1534/1534 [01:04<00:00, 23.75it/s, est. speed input: 41340.47 toks/s, output: 1164.12 toks/s] "
     ]
    },
    {
     "name": "stdout",
     "output_type": "stream",
     "text": [
      "extract_think количество ошибок:  0\n",
      "extract_sql количество ошибок:  0\n",
      "Закончили генерацию SQL запросов\n",
      "Начали скорр полученных SQL запросов\n"
     ]
    },
    {
     "name": "stderr",
     "output_type": "stream",
     "text": [
      "\n"
     ]
    },
    {
     "name": "stdout",
     "output_type": "stream",
     "text": [
      "Qwen3-8B DEV Финальный результат EX: 57.30\n",
      "Qwen3-8B процент запросов, которые успешно выполнились DEV: 94.72%\n",
      "====================================================================================================\n",
      "\n",
      "\n",
      "Загружаем чаты с данными...\n",
      "Данные успешно загружены\n",
      "Начали генерацию SQL запросов\n"
     ]
    },
    {
     "name": "stderr",
     "output_type": "stream",
     "text": [
      "Processed prompts: 100%|██████████| 1534/1534 [01:04<00:00, 23.74it/s, est. speed input: 41312.00 toks/s, output: 1182.71 toks/s] "
     ]
    },
    {
     "name": "stdout",
     "output_type": "stream",
     "text": [
      "extract_think количество ошибок:  0\n",
      "extract_sql количество ошибок:  0\n",
      "Закончили генерацию SQL запросов\n",
      "Начали скорр полученных SQL запросов\n"
     ]
    },
    {
     "name": "stderr",
     "output_type": "stream",
     "text": [
      "\n"
     ]
    },
    {
     "name": "stdout",
     "output_type": "stream",
     "text": [
      "Qwen3-8B DEV Финальный результат EX: 57.63\n",
      "Qwen3-8B процент запросов, которые успешно выполнились DEV: 94.85%\n",
      "====================================================================================================\n",
      "\n",
      "\n",
      "Загружаем чаты с данными...\n",
      "Данные успешно загружены\n",
      "Начали генерацию SQL запросов\n"
     ]
    },
    {
     "name": "stderr",
     "output_type": "stream",
     "text": [
      "Processed prompts: 100%|██████████| 1534/1534 [01:04<00:00, 23.85it/s, est. speed input: 41489.70 toks/s, output: 1165.91 toks/s] "
     ]
    },
    {
     "name": "stdout",
     "output_type": "stream",
     "text": [
      "extract_think количество ошибок:  0\n",
      "extract_sql количество ошибок:  0\n",
      "Закончили генерацию SQL запросов\n",
      "Начали скорр полученных SQL запросов\n"
     ]
    },
    {
     "name": "stderr",
     "output_type": "stream",
     "text": [
      "\n"
     ]
    },
    {
     "name": "stdout",
     "output_type": "stream",
     "text": [
      "Qwen3-8B DEV Финальный результат EX: 57.76\n",
      "Qwen3-8B процент запросов, которые успешно выполнились DEV: 94.92%\n",
      "====================================================================================================\n",
      "\n",
      "\n",
      "Загружаем чаты с данными...\n",
      "Данные успешно загружены\n",
      "Начали генерацию SQL запросов\n"
     ]
    },
    {
     "name": "stderr",
     "output_type": "stream",
     "text": [
      "Processed prompts: 100%|██████████| 1534/1534 [01:01<00:00, 24.75it/s, est. speed input: 43050.05 toks/s, output: 1189.03 toks/s] "
     ]
    },
    {
     "name": "stdout",
     "output_type": "stream",
     "text": [
      "extract_think количество ошибок:  0\n",
      "extract_sql количество ошибок:  0\n",
      "Закончили генерацию SQL запросов\n",
      "Начали скорр полученных SQL запросов\n"
     ]
    },
    {
     "name": "stderr",
     "output_type": "stream",
     "text": [
      "\n"
     ]
    },
    {
     "name": "stdout",
     "output_type": "stream",
     "text": [
      "Qwen3-8B DEV Финальный результат EX: 57.95\n",
      "Qwen3-8B процент запросов, которые успешно выполнились DEV: 95.44%\n",
      "====================================================================================================\n",
      "\n",
      "\n",
      "Загружаем чаты с данными...\n",
      "Данные успешно загружены\n",
      "Начали генерацию SQL запросов\n"
     ]
    },
    {
     "name": "stderr",
     "output_type": "stream",
     "text": [
      "Processed prompts: 100%|██████████| 1534/1534 [01:02<00:00, 24.71it/s, est. speed input: 42963.65 toks/s, output: 1183.38 toks/s] "
     ]
    },
    {
     "name": "stdout",
     "output_type": "stream",
     "text": [
      "extract_think количество ошибок:  0\n",
      "extract_sql количество ошибок:  0\n",
      "Закончили генерацию SQL запросов\n",
      "Начали скорр полученных SQL запросов\n"
     ]
    },
    {
     "name": "stderr",
     "output_type": "stream",
     "text": [
      "\n"
     ]
    },
    {
     "name": "stdout",
     "output_type": "stream",
     "text": [
      "Qwen3-8B DEV Финальный результат EX: 57.37\n",
      "Qwen3-8B процент запросов, которые успешно выполнились DEV: 95.50%\n",
      "====================================================================================================\n",
      "\n",
      "\n",
      "Загружаем чаты с данными...\n",
      "Данные успешно загружены\n",
      "Начали генерацию SQL запросов\n"
     ]
    },
    {
     "name": "stderr",
     "output_type": "stream",
     "text": [
      "Processed prompts: 100%|██████████| 1534/1534 [01:03<00:00, 24.29it/s, est. speed input: 42229.58 toks/s, output: 1179.11 toks/s] "
     ]
    },
    {
     "name": "stdout",
     "output_type": "stream",
     "text": [
      "extract_think количество ошибок:  0\n",
      "extract_sql количество ошибок:  0\n",
      "Закончили генерацию SQL запросов\n",
      "Начали скорр полученных SQL запросов\n"
     ]
    },
    {
     "name": "stderr",
     "output_type": "stream",
     "text": [
      "\n"
     ]
    },
    {
     "name": "stdout",
     "output_type": "stream",
     "text": [
      "Qwen3-8B DEV Финальный результат EX: 56.91\n",
      "Qwen3-8B процент запросов, которые успешно выполнились DEV: 95.57%\n",
      "====================================================================================================\n",
      "\n",
      "\n"
     ]
    }
   ],
   "source": [
    "run_cot_experiment(model,arr_seeds,arr_versions, type_cot,num_observations=num_observations)"
   ]
  },
  {
   "cell_type": "markdown",
   "id": "c4dd2157-7279-458f-8a86-22686112bf5f",
   "metadata": {},
   "source": [
    "# part3: think"
   ]
  },
  {
   "cell_type": "code",
   "execution_count": 27,
   "id": "02febb85-1132-4b71-9ed8-e30241d01dc3",
   "metadata": {},
   "outputs": [
    {
     "name": "stdout",
     "output_type": "stream",
     "text": [
      "[398, 536, 483, 291, 949, 534, 215, 275, 944, 153, 378, 567, 293, 43, 80, 679, 621, 242, 464, 42]\n",
      "model: Qwen3-8B\n"
     ]
    }
   ],
   "source": [
    "n= 20\n",
    "arr_seeds = [random.randint(0,1000) for _ in range(n)]\n",
    "arr_versions = [x for x in range(n)]\n",
    "model = \"Qwen3-8B\"\n",
    "num_observations = 2\n",
    "type_cot = 'think'\n",
    "print(arr_seeds)\n",
    "print(f\"model: {model}\")"
   ]
  },
  {
   "cell_type": "code",
   "execution_count": 28,
   "id": "e9e60717-ffae-4f1f-8831-a4902529303e",
   "metadata": {
    "scrolled": true
   },
   "outputs": [
    {
     "name": "stdout",
     "output_type": "stream",
     "text": [
      "Загружаем модель...\n"
     ]
    },
    {
     "name": "stderr",
     "output_type": "stream",
     "text": [
      "Loading safetensors checkpoint shards:   0% Completed | 0/4 [00:00<?, ?it/s]\n",
      "Loading safetensors checkpoint shards:  25% Completed | 1/4 [00:00<00:00,  7.71it/s]\n",
      "Loading safetensors checkpoint shards:  50% Completed | 2/4 [00:00<00:00,  2.63it/s]\n",
      "Loading safetensors checkpoint shards:  75% Completed | 3/4 [00:01<00:00,  1.94it/s]\n",
      "Loading safetensors checkpoint shards: 100% Completed | 4/4 [00:02<00:00,  1.74it/s]\n",
      "Loading safetensors checkpoint shards: 100% Completed | 4/4 [00:02<00:00,  1.97it/s]\n",
      "\u001b[1;36m(VllmWorker rank=0 pid=135939)\u001b[0;0m \n"
     ]
    },
    {
     "name": "stdout",
     "output_type": "stream",
     "text": [
      "Модель успешно загружена\n",
      "model_config {'model': '/data/home/vkropoti/models/Qwen3-8B', 'tensor_parallel_size': 2, 'max_model_len': 40000, 'max_new_tokens': 1500, 'temperature': 0, 'top_k': 1, 'top_p': 0.8, 'gpu_memory_utilization': 0.9, 'trust_remote_code': False, 'seed': 398}\n",
      "\n",
      "prompts_config {'path_dev_json': '/home/vkropoti/vllm/dev.json', 'path_sql_dbs': '/data/home/vkropoti/sql_data/dev_databases/', 'use_reasoning': False, 'paths_to_cot': ['/data/home/vkropoti/sql_llm_answers/bird_dev/sql_think_Qwen3-8B-reasoning-v0', '/data/home/vkropoti/sql_llm_answers/bird_dev/sql_think_Qwen3-8B-reasoning-v1']}\n",
      "\n",
      "save_config {'path_sql_save': '/data/home/vkropoti/sql_llm_answers/bird_dev/sql_all_Qwen3-8B-cot_think_think==False_nobs2-v0', 'path_think_save': None, 'path_sql_answers_save': '/data/home/vkropoti/sql_llm_answers/bird_dev/sql_predict_Qwen3-8B-cot_think_think==False_nobs2-v0', 'path_to_save_scores': '/data/home/vkropoti/sql_llm_answers/bird_dev/sql_results_Qwen3-8B-cot_think_think==False_nobs2-v0', 'path_to_save_executed': '/data/home/vkropoti/sql_llm_answers/bird_dev/sql_executed_Qwen3-8B-cot_think_think==False_nobs2-v0'}\n",
      "\n",
      "Модель успешно загружена\n",
      "Пример промпта\n",
      "<|im_start|>system\n",
      "\n",
      "You are a data science expert. Below, you are provided with a database schema and a natural language question. Your task is to understand the schema and generate a valid SQL query to answer the question.\n",
      "\n",
      "Database Engine: SQLite\n",
      "\n",
      "You will be given an additional analysis of other models, please take it into account, so the plan is\n",
      "1. Analyse given addition analysis from other models (find in which analysis the same and differ, how to use that to answer question)\n",
      "2. Combine best from previous part and think how to solve the problem (analyze tables, take care what columns avaliable in each table and so on, check the syntacsis)\n",
      "3. Create the answers. The answer should be only sql query.\n",
      "\n",
      "Carefully follow the instruction and add <|im_end|> and the end of the final answer<|im_end|>\n",
      "<|im_start|>user\n",
      "Here is addition analysis from other models which can be helpfull, please take this into account but be careful (choose the best from each analysis, combine them to make the most proper answer):\n",
      "\n",
      "model 0 analysis:\n",
      " Okay, I need to find the highest eligible free rate for K-12 students in schools located in Alameda County. Let's start by understanding the tables and the data available.\n",
      "\n",
      "First, the question involves two main tables: frpm and schools. The frpm table has the `Free Meal Count (K-12)` and `Enrollment (K-12)` columns needed to calculate the eligible free rate. The schools table has the County information, specifically the `County` column. \n",
      "\n",
      "So, the first step is to join these two tables on the CDSCode, which is the common key. The frpm table's CDSCode is a foreign key referencing the schools table's CDSCode. That makes sense. \n",
      "\n",
      "Next, I need to filter the schools in Alameda County. The schools table has a `County` column, so I'll add a WHERE clause to check if County equals 'Alameda'. \n",
      "\n",
      "Once the data is filtered, I need to calculate the eligible free rate using the formula provided: `Free Meal Count (K-12) / Enrollment (K-12)`. However, I should be cautious about division by zero. But since the question is about schools with data, maybe there's a safety net, but the problem might not require handling that here. \n",
      "\n",
      "The goal is to find the highest rate, so I'll use the MAX function on the calculated rate. But to do that, I need to compute the rate for each school and then find the maximum value. \n",
      "\n",
      "Putting it all together, the SQL query should select the maximum of the calculated rate from the joined tables where the County is Alameda. \n",
      "\n",
      "Wait, but the formula is Free Meal Count divided by Enrollment. So in SQL, that would be `Free Meal Count (K-12) / Enrollment (K-12)`. \n",
      "\n",
      "So the query structure would be: \n",
      "\n",
      "SELECT MAX(`Free Meal Count (K-12)` / `Enrollment (K-12)`) AS highest_rate\n",
      "FROM frpm\n",
      "JOIN schools ON frpm.CDSCode = schools.CDSCode\n",
      "WHERE schools.County = 'Alameda';\n",
      "\n",
      "But I should check if there are any schools in Alameda County. Also, ensure that the columns are correctly quoted since some have spaces. \n",
      "\n",
      "I should make sure that the JOIN is correctly using the CDSCode from both tables. Also, the schools table's County column is the right one to filter. \n",
      "\n",
      "I think that's all. The final query should select the maximum value of the calculated rate from the relevant schools.\n",
      "\n",
      "model 1 analysis:\n",
      " Okay, let's tackle this question. The user wants the highest eligible free rate for K-12 students in Alameda County. First, I need to figure out which tables and columns are involved.\n",
      "\n",
      "The eligible free rate is calculated as Free Meal Count (K-12) divided by Enrollment (K-12). The frpm table has these columns. But I also need to filter schools in Alameda County. The schools table has a County column. So I need to join frpm with schools on CDSCode to get the county information.\n",
      "\n",
      "Wait, the frpm table has a foreign key to schools' CDSCode, so joining them on CDSCode makes sense. Then, I can filter where County = 'Alameda'. Once I have the eligible free rate for each school, I need to find the maximum value. \n",
      "\n",
      "So the steps are: join frpm and schools on CDSCode, filter for Alameda County, calculate the ratio, and then select the maximum. But I need to make sure that Enrollment (K-12) isn't zero to avoid division by zero. However, the question might assume that enrollment is non-zero. \n",
      "\n",
      "The SQL query would select the maximum of (Free Meal Count / Enrollment) from the joined tables where County is Alameda. I should use the correct column names with backticks. Also, since the user wants only the highest rate, using MAX() on the calculated value should work. \n",
      "\n",
      "Wait, but the question says \"highest eligible free rate\", which is the percentage. So the calculation is (Free Meal Count / Enrollment) * 100. But the columns in frpm are Free Meal Count (K-12) and Enrollment (K-12). So the query would be:\n",
      "\n",
      "SELECT MAX(`Free Meal Count (K-12)` / `Enrollment (K-12)`) AS MaxRate\n",
      "FROM frpm\n",
      "JOIN schools ON frpm.CDSCode = schools.CDSCode\n",
      "WHERE schools.County = 'Alameda';\n",
      "\n",
      "But I need to check if the County column in schools is case-sensitive. The question says Alameda County, so the value in County might be 'Alameda'. Also, ensuring that Enrollment isn't zero. However, the problem might not require handling that. \n",
      "\n",
      "So the final query should join the tables, filter by County, compute the ratio, and find the maximum. That's the plan.\n",
      "\n",
      "\n",
      "here is avaliable tables below\n",
      "\n",
      "\n",
      "Table: frpm\n",
      "CREATE TABLE frpm\n",
      "(\n",
      "    CDSCode                                       TEXT not null\n",
      "        primary key,\n",
      "    `Academic Year`                               TEXT  null,\n",
      "    `County Code`                                 TEXT  null,\n",
      "    `District Code`                               INTEGER         null,\n",
      "    `School Code`                                 TEXT  null,\n",
      "    `County Name`                                 TEXT null,\n",
      "    `District Name`                               TEXT null,\n",
      "    `School Name`                                 TEXT null,\n",
      "    `District Type`                               TEXT null,\n",
      "    `School Type`                                 TEXT null,\n",
      "    `Educational Option Type`                     TEXT null,\n",
      "    `NSLP Provision Status`                       TEXT null,\n",
      "    `Charter School (Y/N)`                        INTEGER    null,\n",
      "    `Charter School Number`                       TEXT  null,\n",
      "    `Charter Funding Type`                        TEXT null,\n",
      "    IRC                                           INTEGER    null,\n",
      "    `Low Grade`                                   TEXT  null,\n",
      "    `High Grade`                                  TEXT null,\n",
      "    `Enrollment (K-12)`                           REAL      null,\n",
      "    `Free Meal Count (K-12)`                      REAL       null,\n",
      "    `Percent (%) Eligible Free (K-12)`            REAL       null,\n",
      "    `FRPM Count (K-12)`                           REAL       null,\n",
      "    `Percent (%) Eligible FRPM (K-12)`            REAL       null,\n",
      "    `Enrollment (Ages 5-17)`                      REAL       null,\n",
      "    `Free Meal Count (Ages 5-17)`                 REAL       null,\n",
      "    `Percent (%) Eligible Free (Ages 5-17)`       REAL       null,\n",
      "    `FRPM Count (Ages 5-17)`                      REAL       null,\n",
      "    `Percent (%) Eligible FRPM (Ages 5-17)`       REAL       null,\n",
      "    `2013-14 CALPADS Fall 1 Certification Status` INTEGER    null,\n",
      "    foreign key (CDSCode) references schools (CDSCode)\n",
      ")\n",
      "\n",
      "Table: satscores\n",
      "CREATE TABLE satscores\n",
      "(\n",
      "    cds         TEXT not null\n",
      "        primary key,\n",
      "    rtype       TEXT  not null,\n",
      "    sname       TEXT null,\n",
      "    dname       TEXT null,\n",
      "    cname       TEXT null,\n",
      "    enroll12    INTEGER         not null,\n",
      "    NumTstTakr  INTEGER          not null,\n",
      "    AvgScrRead  INTEGER          null,\n",
      "    AvgScrMath  INTEGER          null,\n",
      "    AvgScrWrite INTEGER          null,\n",
      "    NumGE1500   INTEGER          null,\n",
      "--     PctGE1500   double      null,\n",
      "        foreign key (cds) references schools (CDSCode)\n",
      ")\n",
      "\n",
      "Table: schools\n",
      "CREATE TABLE schools\n",
      "(\n",
      "    CDSCode     TEXT not null\n",
      "        primary key,\n",
      "    NCESDist    TEXT  null,\n",
      "    NCESSchool  TEXT  null,\n",
      "    StatusType  TEXT  not null,\n",
      "    County      TEXT not null,\n",
      "    District    TEXT not null,\n",
      "    School      TEXT null,\n",
      "    Street      TEXT null,\n",
      "    StreetAbr   TEXT null,\n",
      "    City        TEXT null,\n",
      "    Zip         TEXT null,\n",
      "    State       TEXT  null,\n",
      "    MailStreet  TEXT null,\n",
      "    MailStrAbr  TEXT null,\n",
      "    MailCity    TEXT null,\n",
      "    MailZip     TEXT null,\n",
      "    MailState   TEXT  null,\n",
      "    Phone       TEXT null,\n",
      "    Ext         TEXT  null,\n",
      "    Website     TEXT null,\n",
      "    OpenDate    DATE        null,\n",
      "    ClosedDate  DATE        null,\n",
      "    Charter     INTEGER    null,\n",
      "    CharterNum  TEXT  null,\n",
      "    FundingType TEXT null,\n",
      "    DOC         TEXT  not null,\n",
      "    DOCType     TEXT not null,\n",
      "    SOC         TEXT  null,\n",
      "    SOCType     TEXT null,\n",
      "    EdOpsCode   TEXT  null,\n",
      "    EdOpsName   TEXT null,\n",
      "    EILCode     TEXT  null,\n",
      "    EILName     TEXT null,\n",
      "    GSoffered   TEXT null,\n",
      "    GSserved    TEXT  null,\n",
      "    Virtual     TEXT  null,\n",
      "    Magnet      INTEGER   null,\n",
      "    Latitude    REAL      null,\n",
      "    Longitude   REAL      null,\n",
      "    AdmFName1   TEXT null,\n",
      "    AdmLName1   TEXT null,\n",
      "    AdmEmail1   TEXT null,\n",
      "    AdmFName2   TEXT null,\n",
      "    AdmLName2   TEXT null,\n",
      "    AdmEmail2   TEXT null,\n",
      "    AdmFName3   TEXT  null,\n",
      "    AdmLName3   TEXT null,\n",
      "    AdmEmail3   TEXT null,\n",
      "    LastUpdate  DATE        not null\n",
      ")\n",
      "\n",
      "-- Using valid SQLite and understanding External Knowledge, answer the following questions for the tables provided above.\n",
      "-- What is the highest eligible free rate for K-12 students in the schools in Alameda County?\n",
      "-- External Knowledge: Eligible free rate for K-12 = `Free Meal Count (K-12)` / `Enrollment (K-12)`\n",
      "\n",
      "\n",
      "Generate the SQLite for the above question after thinking step by step: \n",
      "\n",
      "\n",
      "Instructions:\n",
      "- Make sure you only output the information that is asked in the question. If the question asks for a specific column, make sure to only include that column in the SELECT clause, nothing more.\n",
      "- The generated query should return all of the information asked in the question without any missing or extra information.\n",
      "- Before generating the final SQL query, please think through the steps of how to write the query.\n",
      "- Do not misuse column names, keep them in quotes `\n",
      "- Carefully understand what colomns belond to what tables\n",
      "- Use only initial column names, change names prohibited\n",
      "        \n",
      "Output Format:\n",
      "In your answer, please enclose the generated SQL query in a code block:\n",
      "```\n",
      "-- Your SQL query\n",
      "```    \n",
      "and nothing else, no exaplains, no comments (asnwer should be less than 512 characters)\n",
      "\n",
      "Take a deep breath and think step by step to find the correct SQL query in SQLite format.\n",
      "\n",
      "Question repetition: What is the highest eligible free rate for K-12 students in the schools in Alameda County?\n",
      "\n",
      "Be care! Include only what i want it questiona and nothing else<|im_end|>\n",
      "<|im_start|>assistant\n",
      "<think>\n",
      "\n",
      "</think>\n",
      "\n",
      "\n",
      "\n",
      "\n",
      "Максимальное количество токенов в промптах: 11061\n",
      "\n",
      "начинаем скорринг\n",
      "Загружаем чаты с данными...\n",
      "Данные успешно загружены\n",
      "Начали генерацию SQL запросов\n"
     ]
    },
    {
     "name": "stderr",
     "output_type": "stream",
     "text": [
      "Processed prompts: 100%|██████████| 1534/1534 [01:52<00:00, 13.67it/s, est. speed input: 42513.38 toks/s, output: 635.17 toks/s] "
     ]
    },
    {
     "name": "stdout",
     "output_type": "stream",
     "text": [
      "extract_think количество ошибок:  0\n",
      "extract_sql количество ошибок:  0\n",
      "Закончили генерацию SQL запросов\n",
      "Начали скорр полученных SQL запросов\n"
     ]
    },
    {
     "name": "stderr",
     "output_type": "stream",
     "text": [
      "\n"
     ]
    },
    {
     "name": "stdout",
     "output_type": "stream",
     "text": [
      "Qwen3-8B DEV Финальный результат EX: 56.78\n",
      "Qwen3-8B процент запросов, которые успешно выполнились DEV: 94.46%\n",
      "====================================================================================================\n",
      "\n",
      "\n",
      "Загружаем чаты с данными...\n",
      "Данные успешно загружены\n",
      "Начали генерацию SQL запросов\n"
     ]
    },
    {
     "name": "stderr",
     "output_type": "stream",
     "text": [
      "Processed prompts: 100%|██████████| 1534/1534 [01:53<00:00, 13.48it/s, est. speed input: 42175.98 toks/s, output: 637.15 toks/s] "
     ]
    },
    {
     "name": "stdout",
     "output_type": "stream",
     "text": [
      "extract_think количество ошибок:  0\n",
      "extract_sql количество ошибок:  0\n",
      "Закончили генерацию SQL запросов\n",
      "Начали скорр полученных SQL запросов\n"
     ]
    },
    {
     "name": "stderr",
     "output_type": "stream",
     "text": [
      "\n"
     ]
    },
    {
     "name": "stdout",
     "output_type": "stream",
     "text": [
      "Qwen3-8B DEV Финальный результат EX: 57.89\n",
      "Qwen3-8B процент запросов, которые успешно выполнились DEV: 95.50%\n",
      "====================================================================================================\n",
      "\n",
      "\n",
      "Загружаем чаты с данными...\n",
      "Данные успешно загружены\n",
      "Начали генерацию SQL запросов\n"
     ]
    },
    {
     "name": "stderr",
     "output_type": "stream",
     "text": [
      "Processed prompts: 100%|██████████| 1534/1534 [01:53<00:00, 13.51it/s, est. speed input: 42380.58 toks/s, output: 627.73 toks/s] "
     ]
    },
    {
     "name": "stdout",
     "output_type": "stream",
     "text": [
      "extract_think количество ошибок:  0\n",
      "extract_sql количество ошибок:  0\n",
      "Закончили генерацию SQL запросов\n",
      "Начали скорр полученных SQL запросов\n"
     ]
    },
    {
     "name": "stderr",
     "output_type": "stream",
     "text": [
      "\n"
     ]
    },
    {
     "name": "stdout",
     "output_type": "stream",
     "text": [
      "Qwen3-8B DEV Финальный результат EX: 57.30\n",
      "Qwen3-8B процент запросов, которые успешно выполнились DEV: 95.50%\n",
      "====================================================================================================\n",
      "\n",
      "\n",
      "Загружаем чаты с данными...\n",
      "Данные успешно загружены\n",
      "Начали генерацию SQL запросов\n"
     ]
    },
    {
     "name": "stderr",
     "output_type": "stream",
     "text": [
      "Processed prompts: 100%|██████████| 1534/1534 [01:57<00:00, 13.06it/s, est. speed input: 41246.81 toks/s, output: 607.91 toks/s] "
     ]
    },
    {
     "name": "stdout",
     "output_type": "stream",
     "text": [
      "extract_think количество ошибок:  0\n",
      "extract_sql количество ошибок:  0\n",
      "Закончили генерацию SQL запросов\n",
      "Начали скорр полученных SQL запросов\n"
     ]
    },
    {
     "name": "stderr",
     "output_type": "stream",
     "text": [
      "\n"
     ]
    },
    {
     "name": "stdout",
     "output_type": "stream",
     "text": [
      "Qwen3-8B DEV Финальный результат EX: 56.78\n",
      "Qwen3-8B процент запросов, которые успешно выполнились DEV: 96.09%\n",
      "====================================================================================================\n",
      "\n",
      "\n",
      "Загружаем чаты с данными...\n",
      "Данные успешно загружены\n",
      "Начали генерацию SQL запросов\n"
     ]
    },
    {
     "name": "stderr",
     "output_type": "stream",
     "text": [
      "Processed prompts: 100%|██████████| 1534/1534 [01:55<00:00, 13.32it/s, est. speed input: 41604.02 toks/s, output: 626.35 toks/s] "
     ]
    },
    {
     "name": "stdout",
     "output_type": "stream",
     "text": [
      "extract_think количество ошибок:  0\n",
      "extract_sql количество ошибок:  0\n",
      "Закончили генерацию SQL запросов\n",
      "Начали скорр полученных SQL запросов\n"
     ]
    },
    {
     "name": "stderr",
     "output_type": "stream",
     "text": [
      "\n"
     ]
    },
    {
     "name": "stdout",
     "output_type": "stream",
     "text": [
      "Qwen3-8B DEV Финальный результат EX: 57.50\n",
      "Qwen3-8B процент запросов, которые успешно выполнились DEV: 95.76%\n",
      "====================================================================================================\n",
      "\n",
      "\n",
      "Загружаем чаты с данными...\n",
      "Данные успешно загружены\n",
      "Начали генерацию SQL запросов\n"
     ]
    },
    {
     "name": "stderr",
     "output_type": "stream",
     "text": [
      "Processed prompts: 100%|██████████| 1534/1534 [01:53<00:00, 13.55it/s, est. speed input: 41976.73 toks/s, output: 639.08 toks/s] "
     ]
    },
    {
     "name": "stdout",
     "output_type": "stream",
     "text": [
      "extract_think количество ошибок:  0\n",
      "extract_sql количество ошибок:  0\n",
      "Закончили генерацию SQL запросов\n",
      "Начали скорр полученных SQL запросов\n"
     ]
    },
    {
     "name": "stderr",
     "output_type": "stream",
     "text": [
      "\n"
     ]
    },
    {
     "name": "stdout",
     "output_type": "stream",
     "text": [
      "Qwen3-8B DEV Финальный результат EX: 57.56\n",
      "Qwen3-8B процент запросов, которые успешно выполнились DEV: 95.76%\n",
      "====================================================================================================\n",
      "\n",
      "\n",
      "Загружаем чаты с данными...\n",
      "Данные успешно загружены\n",
      "Начали генерацию SQL запросов\n"
     ]
    },
    {
     "name": "stderr",
     "output_type": "stream",
     "text": [
      "Processed prompts: 100%|██████████| 1534/1534 [01:56<00:00, 13.14it/s, est. speed input: 41511.22 toks/s, output: 615.42 toks/s] "
     ]
    },
    {
     "name": "stdout",
     "output_type": "stream",
     "text": [
      "extract_think количество ошибок:  0\n",
      "extract_sql количество ошибок:  0\n",
      "Закончили генерацию SQL запросов\n",
      "Начали скорр полученных SQL запросов\n"
     ]
    },
    {
     "name": "stderr",
     "output_type": "stream",
     "text": [
      "\n"
     ]
    },
    {
     "name": "stdout",
     "output_type": "stream",
     "text": [
      "Qwen3-8B DEV Финальный результат EX: 57.04\n",
      "Qwen3-8B процент запросов, которые успешно выполнились DEV: 95.50%\n",
      "====================================================================================================\n",
      "\n",
      "\n",
      "Загружаем чаты с данными...\n",
      "Данные успешно загружены\n",
      "Начали генерацию SQL запросов\n"
     ]
    },
    {
     "name": "stderr",
     "output_type": "stream",
     "text": [
      "Processed prompts: 100%|██████████| 1534/1534 [01:58<00:00, 12.96it/s, est. speed input: 41187.14 toks/s, output: 615.70 toks/s] "
     ]
    },
    {
     "name": "stdout",
     "output_type": "stream",
     "text": [
      "extract_think количество ошибок:  0\n",
      "extract_sql количество ошибок:  0\n",
      "Закончили генерацию SQL запросов\n",
      "Начали скорр полученных SQL запросов\n"
     ]
    },
    {
     "name": "stderr",
     "output_type": "stream",
     "text": [
      "\n"
     ]
    },
    {
     "name": "stdout",
     "output_type": "stream",
     "text": [
      "Qwen3-8B DEV Финальный результат EX: 57.63\n",
      "Qwen3-8B процент запросов, которые успешно выполнились DEV: 95.37%\n",
      "====================================================================================================\n",
      "\n",
      "\n",
      "Загружаем чаты с данными...\n",
      "Данные успешно загружены\n",
      "Начали генерацию SQL запросов\n"
     ]
    },
    {
     "name": "stderr",
     "output_type": "stream",
     "text": [
      "Processed prompts: 100%|██████████| 1534/1534 [01:55<00:00, 13.26it/s, est. speed input: 41205.93 toks/s, output: 625.81 toks/s] "
     ]
    },
    {
     "name": "stdout",
     "output_type": "stream",
     "text": [
      "extract_think количество ошибок:  0\n",
      "extract_sql количество ошибок:  0\n",
      "Закончили генерацию SQL запросов\n",
      "Начали скорр полученных SQL запросов\n"
     ]
    },
    {
     "name": "stderr",
     "output_type": "stream",
     "text": [
      "\n"
     ]
    },
    {
     "name": "stdout",
     "output_type": "stream",
     "text": [
      "Qwen3-8B DEV Финальный результат EX: 57.30\n",
      "Qwen3-8B процент запросов, которые успешно выполнились DEV: 96.28%\n",
      "====================================================================================================\n",
      "\n",
      "\n",
      "Загружаем чаты с данными...\n",
      "Данные успешно загружены\n",
      "Начали генерацию SQL запросов\n"
     ]
    },
    {
     "name": "stderr",
     "output_type": "stream",
     "text": [
      "Processed prompts: 100%|██████████| 1534/1534 [01:52<00:00, 13.69it/s, est. speed input: 42626.78 toks/s, output: 630.72 toks/s] "
     ]
    },
    {
     "name": "stdout",
     "output_type": "stream",
     "text": [
      "extract_think количество ошибок:  0\n",
      "extract_sql количество ошибок:  0\n",
      "Закончили генерацию SQL запросов\n",
      "Начали скорр полученных SQL запросов\n"
     ]
    },
    {
     "name": "stderr",
     "output_type": "stream",
     "text": [
      "\n"
     ]
    },
    {
     "name": "stdout",
     "output_type": "stream",
     "text": [
      "Qwen3-8B DEV Финальный результат EX: 56.78\n",
      "Qwen3-8B процент запросов, которые успешно выполнились DEV: 96.41%\n",
      "====================================================================================================\n",
      "\n",
      "\n",
      "Загружаем чаты с данными...\n",
      "Данные успешно загружены\n",
      "Начали генерацию SQL запросов\n"
     ]
    },
    {
     "name": "stderr",
     "output_type": "stream",
     "text": [
      "Processed prompts: 100%|██████████| 1534/1534 [01:57<00:00, 13.07it/s, est. speed input: 41557.19 toks/s, output: 606.66 toks/s] "
     ]
    },
    {
     "name": "stdout",
     "output_type": "stream",
     "text": [
      "extract_think количество ошибок:  0\n",
      "extract_sql количество ошибок:  0\n",
      "Закончили генерацию SQL запросов\n",
      "Начали скорр полученных SQL запросов\n"
     ]
    },
    {
     "name": "stderr",
     "output_type": "stream",
     "text": [
      "\n"
     ]
    },
    {
     "name": "stdout",
     "output_type": "stream",
     "text": [
      "Qwen3-8B DEV Финальный результат EX: 57.82\n",
      "Qwen3-8B процент запросов, которые успешно выполнились DEV: 96.02%\n",
      "====================================================================================================\n",
      "\n",
      "\n",
      "Загружаем чаты с данными...\n",
      "Данные успешно загружены\n",
      "Начали генерацию SQL запросов\n"
     ]
    },
    {
     "name": "stderr",
     "output_type": "stream",
     "text": [
      "Processed prompts: 100%|██████████| 1534/1534 [01:56<00:00, 13.11it/s, est. speed input: 41546.37 toks/s, output: 616.84 toks/s] "
     ]
    },
    {
     "name": "stdout",
     "output_type": "stream",
     "text": [
      "extract_think количество ошибок:  0\n",
      "extract_sql количество ошибок:  0\n",
      "Закончили генерацию SQL запросов\n",
      "Начали скорр полученных SQL запросов\n"
     ]
    },
    {
     "name": "stderr",
     "output_type": "stream",
     "text": [
      "\n"
     ]
    },
    {
     "name": "stdout",
     "output_type": "stream",
     "text": [
      "Qwen3-8B DEV Финальный результат EX: 57.11\n",
      "Qwen3-8B процент запросов, которые успешно выполнились DEV: 95.37%\n",
      "====================================================================================================\n",
      "\n",
      "\n",
      "Загружаем чаты с данными...\n",
      "Данные успешно загружены\n",
      "Начали генерацию SQL запросов\n"
     ]
    },
    {
     "name": "stderr",
     "output_type": "stream",
     "text": [
      "Processed prompts: 100%|██████████| 1534/1534 [01:56<00:00, 13.19it/s, est. speed input: 41288.39 toks/s, output: 619.71 toks/s] "
     ]
    },
    {
     "name": "stdout",
     "output_type": "stream",
     "text": [
      "extract_think количество ошибок:  0\n",
      "extract_sql количество ошибок:  0\n",
      "Закончили генерацию SQL запросов\n",
      "Начали скорр полученных SQL запросов\n"
     ]
    },
    {
     "name": "stderr",
     "output_type": "stream",
     "text": [
      "\n"
     ]
    },
    {
     "name": "stdout",
     "output_type": "stream",
     "text": [
      "Qwen3-8B DEV Финальный результат EX: 57.04\n",
      "Qwen3-8B процент запросов, которые успешно выполнились DEV: 95.89%\n",
      "====================================================================================================\n",
      "\n",
      "\n",
      "Загружаем чаты с данными...\n",
      "Данные успешно загружены\n",
      "Начали генерацию SQL запросов\n"
     ]
    },
    {
     "name": "stderr",
     "output_type": "stream",
     "text": [
      "Processed prompts: 100%|██████████| 1534/1534 [01:55<00:00, 13.30it/s, est. speed input: 41153.98 toks/s, output: 617.88 toks/s] "
     ]
    },
    {
     "name": "stdout",
     "output_type": "stream",
     "text": [
      "extract_think количество ошибок:  0\n",
      "extract_sql количество ошибок:  0\n",
      "Закончили генерацию SQL запросов\n",
      "Начали скорр полученных SQL запросов\n"
     ]
    },
    {
     "name": "stderr",
     "output_type": "stream",
     "text": [
      "\n"
     ]
    },
    {
     "name": "stdout",
     "output_type": "stream",
     "text": [
      "Qwen3-8B DEV Финальный результат EX: 58.34\n",
      "Qwen3-8B процент запросов, которые успешно выполнились DEV: 95.89%\n",
      "====================================================================================================\n",
      "\n",
      "\n",
      "Загружаем чаты с данными...\n",
      "Данные успешно загружены\n",
      "Начали генерацию SQL запросов\n"
     ]
    },
    {
     "name": "stderr",
     "output_type": "stream",
     "text": [
      "Processed prompts: 100%|██████████| 1534/1534 [01:56<00:00, 13.15it/s, est. speed input: 40791.99 toks/s, output: 622.35 toks/s] "
     ]
    },
    {
     "name": "stdout",
     "output_type": "stream",
     "text": [
      "extract_think количество ошибок:  0\n",
      "extract_sql количество ошибок:  0\n",
      "Закончили генерацию SQL запросов\n",
      "Начали скорр полученных SQL запросов\n"
     ]
    },
    {
     "name": "stderr",
     "output_type": "stream",
     "text": [
      "\n"
     ]
    },
    {
     "name": "stdout",
     "output_type": "stream",
     "text": [
      "Qwen3-8B DEV Финальный результат EX: 58.02\n",
      "Qwen3-8B процент запросов, которые успешно выполнились DEV: 95.63%\n",
      "====================================================================================================\n",
      "\n",
      "\n",
      "Загружаем чаты с данными...\n",
      "Данные успешно загружены\n",
      "Начали генерацию SQL запросов\n"
     ]
    },
    {
     "name": "stderr",
     "output_type": "stream",
     "text": [
      "Processed prompts: 100%|██████████| 1534/1534 [01:55<00:00, 13.26it/s, est. speed input: 40852.13 toks/s, output: 636.06 toks/s] "
     ]
    },
    {
     "name": "stdout",
     "output_type": "stream",
     "text": [
      "extract_think количество ошибок:  0\n",
      "extract_sql количество ошибок:  0\n",
      "Закончили генерацию SQL запросов\n",
      "Начали скорр полученных SQL запросов\n"
     ]
    },
    {
     "name": "stderr",
     "output_type": "stream",
     "text": [
      "\n"
     ]
    },
    {
     "name": "stdout",
     "output_type": "stream",
     "text": [
      "Qwen3-8B DEV Финальный результат EX: 57.37\n",
      "Qwen3-8B процент запросов, которые успешно выполнились DEV: 95.70%\n",
      "====================================================================================================\n",
      "\n",
      "\n",
      "Загружаем чаты с данными...\n",
      "Данные успешно загружены\n",
      "Начали генерацию SQL запросов\n"
     ]
    },
    {
     "name": "stderr",
     "output_type": "stream",
     "text": [
      "Processed prompts: 100%|██████████| 1534/1534 [01:55<00:00, 13.29it/s, est. speed input: 41378.98 toks/s, output: 626.14 toks/s] "
     ]
    },
    {
     "name": "stdout",
     "output_type": "stream",
     "text": [
      "extract_think количество ошибок:  0\n",
      "extract_sql количество ошибок:  0\n",
      "Закончили генерацию SQL запросов\n",
      "Начали скорр полученных SQL запросов\n"
     ]
    },
    {
     "name": "stderr",
     "output_type": "stream",
     "text": [
      "\n"
     ]
    },
    {
     "name": "stdout",
     "output_type": "stream",
     "text": [
      "Qwen3-8B DEV Финальный результат EX: 57.43\n",
      "Qwen3-8B процент запросов, которые успешно выполнились DEV: 95.89%\n",
      "====================================================================================================\n",
      "\n",
      "\n",
      "Загружаем чаты с данными...\n",
      "Данные успешно загружены\n",
      "Начали генерацию SQL запросов\n"
     ]
    },
    {
     "name": "stderr",
     "output_type": "stream",
     "text": [
      "Processed prompts: 100%|██████████| 1534/1534 [01:58<00:00, 12.90it/s, est. speed input: 40739.94 toks/s, output: 612.17 toks/s] "
     ]
    },
    {
     "name": "stdout",
     "output_type": "stream",
     "text": [
      "extract_think количество ошибок:  0\n",
      "extract_sql количество ошибок:  0\n",
      "Закончили генерацию SQL запросов\n",
      "Начали скорр полученных SQL запросов\n"
     ]
    },
    {
     "name": "stderr",
     "output_type": "stream",
     "text": [
      "\n"
     ]
    },
    {
     "name": "stdout",
     "output_type": "stream",
     "text": [
      "Qwen3-8B DEV Финальный результат EX: 57.69\n",
      "Qwen3-8B процент запросов, которые успешно выполнились DEV: 95.50%\n",
      "====================================================================================================\n",
      "\n",
      "\n",
      "Загружаем чаты с данными...\n",
      "Данные успешно загружены\n",
      "Начали генерацию SQL запросов\n"
     ]
    },
    {
     "name": "stderr",
     "output_type": "stream",
     "text": [
      "Processed prompts: 100%|██████████| 1534/1534 [01:54<00:00, 13.40it/s, est. speed input: 41773.47 toks/s, output: 624.15 toks/s] "
     ]
    },
    {
     "name": "stdout",
     "output_type": "stream",
     "text": [
      "extract_think количество ошибок:  0\n",
      "extract_sql количество ошибок:  0\n",
      "Закончили генерацию SQL запросов\n",
      "Начали скорр полученных SQL запросов\n"
     ]
    },
    {
     "name": "stderr",
     "output_type": "stream",
     "text": [
      "\n"
     ]
    },
    {
     "name": "stdout",
     "output_type": "stream",
     "text": [
      "Qwen3-8B DEV Финальный результат EX: 58.15\n",
      "Qwen3-8B процент запросов, которые успешно выполнились DEV: 95.89%\n",
      "====================================================================================================\n",
      "\n",
      "\n",
      "Загружаем чаты с данными...\n",
      "Данные успешно загружены\n",
      "Начали генерацию SQL запросов\n"
     ]
    },
    {
     "name": "stderr",
     "output_type": "stream",
     "text": [
      "Processed prompts: 100%|██████████| 1534/1534 [01:56<00:00, 13.20it/s, est. speed input: 40941.99 toks/s, output: 623.89 toks/s] "
     ]
    },
    {
     "name": "stdout",
     "output_type": "stream",
     "text": [
      "extract_think количество ошибок:  0\n",
      "extract_sql количество ошибок:  0\n",
      "Закончили генерацию SQL запросов\n",
      "Начали скорр полученных SQL запросов\n"
     ]
    },
    {
     "name": "stderr",
     "output_type": "stream",
     "text": [
      "\n"
     ]
    },
    {
     "name": "stdout",
     "output_type": "stream",
     "text": [
      "Qwen3-8B DEV Финальный результат EX: 56.91\n",
      "Qwen3-8B процент запросов, которые успешно выполнились DEV: 95.05%\n",
      "====================================================================================================\n",
      "\n",
      "\n"
     ]
    }
   ],
   "source": [
    "run_cot_experiment(model,arr_seeds,arr_versions, type_cot,num_observations=num_observations)"
   ]
  },
  {
   "cell_type": "code",
   "execution_count": 29,
   "id": "a20fe4f1-be38-4f30-b534-5959cc12deea",
   "metadata": {},
   "outputs": [
    {
     "name": "stdout",
     "output_type": "stream",
     "text": [
      "[819, 646, 1000, 74, 4, 623, 427, 54, 390, 230, 939, 738, 502, 613, 132, 275, 323, 722, 234, 585]\n",
      "model: Qwen3-8B\n"
     ]
    }
   ],
   "source": [
    "n= 20\n",
    "arr_seeds = [random.randint(0,1000) for _ in range(n)]\n",
    "arr_versions = [x for x in range(n)]\n",
    "model = \"Qwen3-8B\"\n",
    "num_observations = 3\n",
    "type_cot = 'think'\n",
    "print(arr_seeds)\n",
    "print(f\"model: {model}\")"
   ]
  },
  {
   "cell_type": "code",
   "execution_count": 30,
   "id": "61d9bd8d-dd04-4a14-a288-585190158702",
   "metadata": {
    "scrolled": true
   },
   "outputs": [
    {
     "name": "stdout",
     "output_type": "stream",
     "text": [
      "Загружаем модель...\n"
     ]
    },
    {
     "name": "stderr",
     "output_type": "stream",
     "text": [
      "Loading safetensors checkpoint shards:   0% Completed | 0/4 [00:00<?, ?it/s]\n",
      "Loading safetensors checkpoint shards:  25% Completed | 1/4 [00:00<00:00,  8.10it/s]\n",
      "Loading safetensors checkpoint shards:  50% Completed | 2/4 [00:00<00:00,  2.57it/s]\n",
      "Loading safetensors checkpoint shards:  75% Completed | 3/4 [00:01<00:00,  1.83it/s]\n",
      "Loading safetensors checkpoint shards: 100% Completed | 4/4 [00:02<00:00,  1.62it/s]\n",
      "Loading safetensors checkpoint shards: 100% Completed | 4/4 [00:02<00:00,  1.85it/s]\n",
      "\u001b[1;36m(VllmWorker rank=0 pid=178783)\u001b[0;0m \n"
     ]
    },
    {
     "name": "stdout",
     "output_type": "stream",
     "text": [
      "Модель успешно загружена\n",
      "model_config {'model': '/data/home/vkropoti/models/Qwen3-8B', 'tensor_parallel_size': 2, 'max_model_len': 40000, 'max_new_tokens': 1500, 'temperature': 0, 'top_k': 1, 'top_p': 0.8, 'gpu_memory_utilization': 0.9, 'trust_remote_code': False, 'seed': 819}\n",
      "\n",
      "prompts_config {'path_dev_json': '/home/vkropoti/vllm/dev.json', 'path_sql_dbs': '/data/home/vkropoti/sql_data/dev_databases/', 'use_reasoning': False, 'paths_to_cot': ['/data/home/vkropoti/sql_llm_answers/bird_dev/sql_think_Qwen3-8B-reasoning-v0', '/data/home/vkropoti/sql_llm_answers/bird_dev/sql_think_Qwen3-8B-reasoning-v1', '/data/home/vkropoti/sql_llm_answers/bird_dev/sql_think_Qwen3-8B-reasoning-v2']}\n",
      "\n",
      "save_config {'path_sql_save': '/data/home/vkropoti/sql_llm_answers/bird_dev/sql_all_Qwen3-8B-cot_think_think==False_nobs3-v0', 'path_think_save': None, 'path_sql_answers_save': '/data/home/vkropoti/sql_llm_answers/bird_dev/sql_predict_Qwen3-8B-cot_think_think==False_nobs3-v0', 'path_to_save_scores': '/data/home/vkropoti/sql_llm_answers/bird_dev/sql_results_Qwen3-8B-cot_think_think==False_nobs3-v0', 'path_to_save_executed': '/data/home/vkropoti/sql_llm_answers/bird_dev/sql_executed_Qwen3-8B-cot_think_think==False_nobs3-v0'}\n",
      "\n",
      "Модель успешно загружена\n",
      "Пример промпта\n",
      "<|im_start|>system\n",
      "\n",
      "You are a data science expert. Below, you are provided with a database schema and a natural language question. Your task is to understand the schema and generate a valid SQL query to answer the question.\n",
      "\n",
      "Database Engine: SQLite\n",
      "\n",
      "You will be given an additional analysis of other models, please take it into account, so the plan is\n",
      "1. Analyse given addition analysis from other models (find in which analysis the same and differ, how to use that to answer question)\n",
      "2. Combine best from previous part and think how to solve the problem (analyze tables, take care what columns avaliable in each table and so on, check the syntacsis)\n",
      "3. Create the answers. The answer should be only sql query.\n",
      "\n",
      "Carefully follow the instruction and add <|im_end|> and the end of the final answer<|im_end|>\n",
      "<|im_start|>user\n",
      "Here is addition analysis from other models which can be helpfull, please take this into account but be careful (choose the best from each analysis, combine them to make the most proper answer):\n",
      "\n",
      "model 0 analysis:\n",
      " Okay, I need to find the highest eligible free rate for K-12 students in schools located in Alameda County. Let's start by understanding the tables and the data available.\n",
      "\n",
      "First, the question involves two main tables: frpm and schools. The frpm table has the `Free Meal Count (K-12)` and `Enrollment (K-12)` columns needed to calculate the eligible free rate. The schools table has the County information, specifically the `County` column. \n",
      "\n",
      "So, the first step is to join these two tables on the CDSCode, which is the common key. The frpm table's CDSCode is a foreign key referencing the schools table's CDSCode. That makes sense. \n",
      "\n",
      "Next, I need to filter the schools in Alameda County. The schools table has a `County` column, so I'll add a WHERE clause to check if County equals 'Alameda'. \n",
      "\n",
      "Once the data is filtered, I need to calculate the eligible free rate using the formula provided: `Free Meal Count (K-12) / Enrollment (K-12)`. However, I should be cautious about division by zero. But since the question is about schools with data, maybe there's a safety net, but the problem might not require handling that here. \n",
      "\n",
      "The goal is to find the highest rate, so I'll use the MAX function on the calculated rate. But to do that, I need to compute the rate for each school and then find the maximum value. \n",
      "\n",
      "Putting it all together, the SQL query should select the maximum of the calculated rate from the joined tables where the County is Alameda. \n",
      "\n",
      "Wait, but the formula is Free Meal Count divided by Enrollment. So in SQL, that would be `Free Meal Count (K-12) / Enrollment (K-12)`. \n",
      "\n",
      "So the query structure would be: \n",
      "\n",
      "SELECT MAX(`Free Meal Count (K-12)` / `Enrollment (K-12)`) AS highest_rate\n",
      "FROM frpm\n",
      "JOIN schools ON frpm.CDSCode = schools.CDSCode\n",
      "WHERE schools.County = 'Alameda';\n",
      "\n",
      "But I should check if there are any schools in Alameda County. Also, ensure that the columns are correctly quoted since some have spaces. \n",
      "\n",
      "I should make sure that the JOIN is correctly using the CDSCode from both tables. Also, the schools table's County column is the right one to filter. \n",
      "\n",
      "I think that's all. The final query should select the maximum value of the calculated rate from the relevant schools.\n",
      "\n",
      "model 1 analysis:\n",
      " Okay, let's tackle this question. The user wants the highest eligible free rate for K-12 students in Alameda County. First, I need to figure out which tables and columns are involved.\n",
      "\n",
      "The eligible free rate is calculated as Free Meal Count (K-12) divided by Enrollment (K-12). The frpm table has these columns. But I also need to filter schools in Alameda County. The schools table has a County column. So I need to join frpm with schools on CDSCode to get the county information.\n",
      "\n",
      "Wait, the frpm table has a foreign key to schools' CDSCode, so joining them on CDSCode makes sense. Then, I can filter where County = 'Alameda'. Once I have the eligible free rate for each school, I need to find the maximum value. \n",
      "\n",
      "So the steps are: join frpm and schools on CDSCode, filter for Alameda County, calculate the ratio, and then select the maximum. But I need to make sure that Enrollment (K-12) isn't zero to avoid division by zero. However, the question might assume that enrollment is non-zero. \n",
      "\n",
      "The SQL query would select the maximum of (Free Meal Count / Enrollment) from the joined tables where County is Alameda. I should use the correct column names with backticks. Also, since the user wants only the highest rate, using MAX() on the calculated value should work. \n",
      "\n",
      "Wait, but the question says \"highest eligible free rate\", which is the percentage. So the calculation is (Free Meal Count / Enrollment) * 100. But the columns in frpm are Free Meal Count (K-12) and Enrollment (K-12). So the query would be:\n",
      "\n",
      "SELECT MAX(`Free Meal Count (K-12)` / `Enrollment (K-12)`) AS MaxRate\n",
      "FROM frpm\n",
      "JOIN schools ON frpm.CDSCode = schools.CDSCode\n",
      "WHERE schools.County = 'Alameda';\n",
      "\n",
      "But I need to check if the County column in schools is case-sensitive. The question says Alameda County, so the value in County might be 'Alameda'. Also, ensuring that Enrollment isn't zero. However, the problem might not require handling that. \n",
      "\n",
      "So the final query should join the tables, filter by County, compute the ratio, and find the maximum. That's the plan.\n",
      "\n",
      "model 2 analysis:\n",
      " Okay, I need to find the highest eligible free rate for K-12 students in schools located in Alameda County. Let's start by understanding the data structure and the tables involved.\n",
      "\n",
      "First, the question mentions \"eligible free rate for K-12,\" which is calculated as Free Meal Count (K-12) divided by Enrollment (K-12). The tables provided are frpm, satscores, and schools. The schools table has a County column, so I'll need to filter schools in Alameda County from there. \n",
      "\n",
      "The frpm table has the necessary columns for the free meal count and enrollment. However, I need to ensure that the schools in the frpm table are linked to the schools in the schools table. The frpm table has a CDSCode as the primary key, which is also a foreign key referencing the schools table's CDSCode. So, I can join these two tables on CDSCode.\n",
      "\n",
      "So the plan is: join frpm and schools on CDSCode where schools.County is 'Alameda'. Then compute the eligible free rate as (Free Meal Count (K-12) / Enrollment (K-12)) for each school. Finally, find the maximum value of this rate.\n",
      "\n",
      "Wait, but the question says \"highest eligible free rate,\" which is the maximum of the calculated rate. So I need to select the maximum value of (Free Meal Count / Enrollment) from the joined tables where County is Alameda.\n",
      "\n",
      "I need to make sure that the columns are correctly named. In the frpm table, the columns are `Free Meal Count (K-12)` and `Enrollment (K-12)`. The schools table's County column is named County. So the SQL query should join frpm and schools on CDSCode, filter where County = 'Alameda', and then calculate the rate. Then use MAX() to find the highest value.\n",
      "\n",
      "But wait, what if there are null values in Enrollment (K-12)? The question doesn't mention handling that, so I'll assume the data is clean. Also, division in SQL can be tricky. Since the columns are REAL, dividing them should work. So the query would be:\n",
      "\n",
      "SELECT MAX(`Free Meal Count (K-12)` / `Enrollment (K-12)`) AS MaxEligibleFreeRate\n",
      "FROM frpm\n",
      "JOIN schools ON frpm.CDSCode = schools.CDSCode\n",
      "WHERE schools.County = 'Alameda';\n",
      "\n",
      "But I need to check if the County column in schools is named correctly. Yes, the schools table has a County column. So this should work. That's the final query.\n",
      "\n",
      "\n",
      "here is avaliable tables below\n",
      "\n",
      "\n",
      "Table: frpm\n",
      "CREATE TABLE frpm\n",
      "(\n",
      "    CDSCode                                       TEXT not null\n",
      "        primary key,\n",
      "    `Academic Year`                               TEXT  null,\n",
      "    `County Code`                                 TEXT  null,\n",
      "    `District Code`                               INTEGER         null,\n",
      "    `School Code`                                 TEXT  null,\n",
      "    `County Name`                                 TEXT null,\n",
      "    `District Name`                               TEXT null,\n",
      "    `School Name`                                 TEXT null,\n",
      "    `District Type`                               TEXT null,\n",
      "    `School Type`                                 TEXT null,\n",
      "    `Educational Option Type`                     TEXT null,\n",
      "    `NSLP Provision Status`                       TEXT null,\n",
      "    `Charter School (Y/N)`                        INTEGER    null,\n",
      "    `Charter School Number`                       TEXT  null,\n",
      "    `Charter Funding Type`                        TEXT null,\n",
      "    IRC                                           INTEGER    null,\n",
      "    `Low Grade`                                   TEXT  null,\n",
      "    `High Grade`                                  TEXT null,\n",
      "    `Enrollment (K-12)`                           REAL      null,\n",
      "    `Free Meal Count (K-12)`                      REAL       null,\n",
      "    `Percent (%) Eligible Free (K-12)`            REAL       null,\n",
      "    `FRPM Count (K-12)`                           REAL       null,\n",
      "    `Percent (%) Eligible FRPM (K-12)`            REAL       null,\n",
      "    `Enrollment (Ages 5-17)`                      REAL       null,\n",
      "    `Free Meal Count (Ages 5-17)`                 REAL       null,\n",
      "    `Percent (%) Eligible Free (Ages 5-17)`       REAL       null,\n",
      "    `FRPM Count (Ages 5-17)`                      REAL       null,\n",
      "    `Percent (%) Eligible FRPM (Ages 5-17)`       REAL       null,\n",
      "    `2013-14 CALPADS Fall 1 Certification Status` INTEGER    null,\n",
      "    foreign key (CDSCode) references schools (CDSCode)\n",
      ")\n",
      "\n",
      "Table: satscores\n",
      "CREATE TABLE satscores\n",
      "(\n",
      "    cds         TEXT not null\n",
      "        primary key,\n",
      "    rtype       TEXT  not null,\n",
      "    sname       TEXT null,\n",
      "    dname       TEXT null,\n",
      "    cname       TEXT null,\n",
      "    enroll12    INTEGER         not null,\n",
      "    NumTstTakr  INTEGER          not null,\n",
      "    AvgScrRead  INTEGER          null,\n",
      "    AvgScrMath  INTEGER          null,\n",
      "    AvgScrWrite INTEGER          null,\n",
      "    NumGE1500   INTEGER          null,\n",
      "--     PctGE1500   double      null,\n",
      "        foreign key (cds) references schools (CDSCode)\n",
      ")\n",
      "\n",
      "Table: schools\n",
      "CREATE TABLE schools\n",
      "(\n",
      "    CDSCode     TEXT not null\n",
      "        primary key,\n",
      "    NCESDist    TEXT  null,\n",
      "    NCESSchool  TEXT  null,\n",
      "    StatusType  TEXT  not null,\n",
      "    County      TEXT not null,\n",
      "    District    TEXT not null,\n",
      "    School      TEXT null,\n",
      "    Street      TEXT null,\n",
      "    StreetAbr   TEXT null,\n",
      "    City        TEXT null,\n",
      "    Zip         TEXT null,\n",
      "    State       TEXT  null,\n",
      "    MailStreet  TEXT null,\n",
      "    MailStrAbr  TEXT null,\n",
      "    MailCity    TEXT null,\n",
      "    MailZip     TEXT null,\n",
      "    MailState   TEXT  null,\n",
      "    Phone       TEXT null,\n",
      "    Ext         TEXT  null,\n",
      "    Website     TEXT null,\n",
      "    OpenDate    DATE        null,\n",
      "    ClosedDate  DATE        null,\n",
      "    Charter     INTEGER    null,\n",
      "    CharterNum  TEXT  null,\n",
      "    FundingType TEXT null,\n",
      "    DOC         TEXT  not null,\n",
      "    DOCType     TEXT not null,\n",
      "    SOC         TEXT  null,\n",
      "    SOCType     TEXT null,\n",
      "    EdOpsCode   TEXT  null,\n",
      "    EdOpsName   TEXT null,\n",
      "    EILCode     TEXT  null,\n",
      "    EILName     TEXT null,\n",
      "    GSoffered   TEXT null,\n",
      "    GSserved    TEXT  null,\n",
      "    Virtual     TEXT  null,\n",
      "    Magnet      INTEGER   null,\n",
      "    Latitude    REAL      null,\n",
      "    Longitude   REAL      null,\n",
      "    AdmFName1   TEXT null,\n",
      "    AdmLName1   TEXT null,\n",
      "    AdmEmail1   TEXT null,\n",
      "    AdmFName2   TEXT null,\n",
      "    AdmLName2   TEXT null,\n",
      "    AdmEmail2   TEXT null,\n",
      "    AdmFName3   TEXT  null,\n",
      "    AdmLName3   TEXT null,\n",
      "    AdmEmail3   TEXT null,\n",
      "    LastUpdate  DATE        not null\n",
      ")\n",
      "\n",
      "-- Using valid SQLite and understanding External Knowledge, answer the following questions for the tables provided above.\n",
      "-- What is the highest eligible free rate for K-12 students in the schools in Alameda County?\n",
      "-- External Knowledge: Eligible free rate for K-12 = `Free Meal Count (K-12)` / `Enrollment (K-12)`\n",
      "\n",
      "\n",
      "Generate the SQLite for the above question after thinking step by step: \n",
      "\n",
      "\n",
      "Instructions:\n",
      "- Make sure you only output the information that is asked in the question. If the question asks for a specific column, make sure to only include that column in the SELECT clause, nothing more.\n",
      "- The generated query should return all of the information asked in the question without any missing or extra information.\n",
      "- Before generating the final SQL query, please think through the steps of how to write the query.\n",
      "- Do not misuse column names, keep them in quotes `\n",
      "- Carefully understand what colomns belond to what tables\n",
      "- Use only initial column names, change names prohibited\n",
      "        \n",
      "Output Format:\n",
      "In your answer, please enclose the generated SQL query in a code block:\n",
      "```\n",
      "-- Your SQL query\n",
      "```    \n",
      "and nothing else, no exaplains, no comments (asnwer should be less than 512 characters)\n",
      "\n",
      "Take a deep breath and think step by step to find the correct SQL query in SQLite format.\n",
      "\n",
      "Question repetition: What is the highest eligible free rate for K-12 students in the schools in Alameda County?\n",
      "\n",
      "Be care! Include only what i want it questiona and nothing else<|im_end|>\n",
      "<|im_start|>assistant\n",
      "<think>\n",
      "\n",
      "</think>\n",
      "\n",
      "\n",
      "\n",
      "\n",
      "Максимальное количество токенов в промптах: 15181\n",
      "\n",
      "начинаем скорринг\n",
      "Загружаем чаты с данными...\n",
      "Данные успешно загружены\n",
      "Начали генерацию SQL запросов\n"
     ]
    },
    {
     "name": "stderr",
     "output_type": "stream",
     "text": [
      "Processed prompts: 100%|██████████| 1534/1534 [02:27<00:00, 10.39it/s, est. speed input: 41373.15 toks/s, output: 486.42 toks/s]"
     ]
    },
    {
     "name": "stdout",
     "output_type": "stream",
     "text": [
      "extract_think количество ошибок:  0\n",
      "extract_sql количество ошибок:  0\n",
      "Закончили генерацию SQL запросов\n",
      "Начали скорр полученных SQL запросов\n"
     ]
    },
    {
     "name": "stderr",
     "output_type": "stream",
     "text": [
      "\n"
     ]
    },
    {
     "name": "stdout",
     "output_type": "stream",
     "text": [
      "Qwen3-8B DEV Финальный результат EX: 58.02\n",
      "Qwen3-8B процент запросов, которые успешно выполнились DEV: 95.24%\n",
      "====================================================================================================\n",
      "\n",
      "\n",
      "Загружаем чаты с данными...\n",
      "Данные успешно загружены\n",
      "Начали генерацию SQL запросов\n"
     ]
    },
    {
     "name": "stderr",
     "output_type": "stream",
     "text": [
      "Processed prompts: 100%|██████████| 1534/1534 [02:27<00:00, 10.38it/s, est. speed input: 41596.13 toks/s, output: 478.31 toks/s]"
     ]
    },
    {
     "name": "stdout",
     "output_type": "stream",
     "text": [
      "extract_think количество ошибок:  0\n",
      "extract_sql количество ошибок:  0\n",
      "Закончили генерацию SQL запросов\n",
      "Начали скорр полученных SQL запросов\n"
     ]
    },
    {
     "name": "stderr",
     "output_type": "stream",
     "text": [
      "\n"
     ]
    },
    {
     "name": "stdout",
     "output_type": "stream",
     "text": [
      "Qwen3-8B DEV Финальный результат EX: 57.69\n",
      "Qwen3-8B процент запросов, которые успешно выполнились DEV: 95.96%\n",
      "====================================================================================================\n",
      "\n",
      "\n",
      "Загружаем чаты с данными...\n",
      "Данные успешно загружены\n",
      "Начали генерацию SQL запросов\n"
     ]
    },
    {
     "name": "stderr",
     "output_type": "stream",
     "text": [
      "Processed prompts: 100%|██████████| 1534/1534 [02:31<00:00, 10.16it/s, est. speed input: 40958.18 toks/s, output: 470.39 toks/s] "
     ]
    },
    {
     "name": "stdout",
     "output_type": "stream",
     "text": [
      "extract_think количество ошибок:  0\n",
      "extract_sql количество ошибок:  0\n",
      "Закончили генерацию SQL запросов\n",
      "Начали скорр полученных SQL запросов\n"
     ]
    },
    {
     "name": "stderr",
     "output_type": "stream",
     "text": [
      "\n"
     ]
    },
    {
     "name": "stdout",
     "output_type": "stream",
     "text": [
      "Qwen3-8B DEV Финальный результат EX: 57.50\n",
      "Qwen3-8B процент запросов, которые успешно выполнились DEV: 95.89%\n",
      "====================================================================================================\n",
      "\n",
      "\n",
      "Загружаем чаты с данными...\n",
      "Данные успешно загружены\n",
      "Начали генерацию SQL запросов\n"
     ]
    },
    {
     "name": "stderr",
     "output_type": "stream",
     "text": [
      "Processed prompts: 100%|██████████| 1534/1534 [02:30<00:00, 10.21it/s, est. speed input: 40846.42 toks/s, output: 479.63 toks/s] "
     ]
    },
    {
     "name": "stdout",
     "output_type": "stream",
     "text": [
      "extract_think количество ошибок:  0\n",
      "extract_sql количество ошибок:  0\n",
      "Закончили генерацию SQL запросов\n",
      "Начали скорр полученных SQL запросов\n"
     ]
    },
    {
     "name": "stderr",
     "output_type": "stream",
     "text": [
      "\n"
     ]
    },
    {
     "name": "stdout",
     "output_type": "stream",
     "text": [
      "Qwen3-8B DEV Финальный результат EX: 57.82\n",
      "Qwen3-8B процент запросов, которые успешно выполнились DEV: 95.63%\n",
      "====================================================================================================\n",
      "\n",
      "\n",
      "Загружаем чаты с данными...\n",
      "Данные успешно загружены\n",
      "Начали генерацию SQL запросов\n"
     ]
    },
    {
     "name": "stderr",
     "output_type": "stream",
     "text": [
      "Processed prompts: 100%|██████████| 1534/1534 [02:29<00:00, 10.28it/s, est. speed input: 41040.48 toks/s, output: 479.78 toks/s] "
     ]
    },
    {
     "name": "stdout",
     "output_type": "stream",
     "text": [
      "extract_think количество ошибок:  0\n",
      "extract_sql количество ошибок:  0\n",
      "Закончили генерацию SQL запросов\n",
      "Начали скорр полученных SQL запросов\n"
     ]
    },
    {
     "name": "stderr",
     "output_type": "stream",
     "text": [
      "\n"
     ]
    },
    {
     "name": "stdout",
     "output_type": "stream",
     "text": [
      "Qwen3-8B DEV Финальный результат EX: 57.17\n",
      "Qwen3-8B процент запросов, которые успешно выполнились DEV: 95.37%\n",
      "====================================================================================================\n",
      "\n",
      "\n",
      "Загружаем чаты с данными...\n",
      "Данные успешно загружены\n",
      "Начали генерацию SQL запросов\n"
     ]
    },
    {
     "name": "stderr",
     "output_type": "stream",
     "text": [
      "Processed prompts: 100%|██████████| 1534/1534 [02:31<00:00, 10.11it/s, est. speed input: 40444.19 toks/s, output: 480.26 toks/s]"
     ]
    },
    {
     "name": "stdout",
     "output_type": "stream",
     "text": [
      "extract_think количество ошибок:  0\n",
      "extract_sql количество ошибок:  0\n",
      "Закончили генерацию SQL запросов\n",
      "Начали скорр полученных SQL запросов\n"
     ]
    },
    {
     "name": "stderr",
     "output_type": "stream",
     "text": [
      "\n"
     ]
    },
    {
     "name": "stdout",
     "output_type": "stream",
     "text": [
      "Qwen3-8B DEV Финальный результат EX: 57.95\n",
      "Qwen3-8B процент запросов, которые успешно выполнились DEV: 95.96%\n",
      "====================================================================================================\n",
      "\n",
      "\n",
      "Загружаем чаты с данными...\n",
      "Данные успешно загружены\n",
      "Начали генерацию SQL запросов\n"
     ]
    },
    {
     "name": "stderr",
     "output_type": "stream",
     "text": [
      "Processed prompts: 100%|██████████| 1534/1534 [02:32<00:00, 10.06it/s, est. speed input: 40702.70 toks/s, output: 476.68 toks/s]"
     ]
    },
    {
     "name": "stdout",
     "output_type": "stream",
     "text": [
      "extract_think количество ошибок:  0\n",
      "extract_sql количество ошибок:  0\n",
      "Закончили генерацию SQL запросов\n",
      "Начали скорр полученных SQL запросов\n"
     ]
    },
    {
     "name": "stderr",
     "output_type": "stream",
     "text": [
      "\n"
     ]
    },
    {
     "name": "stdout",
     "output_type": "stream",
     "text": [
      "Qwen3-8B DEV Финальный результат EX: 57.43\n",
      "Qwen3-8B процент запросов, которые успешно выполнились DEV: 95.83%\n",
      "====================================================================================================\n",
      "\n",
      "\n",
      "Загружаем чаты с данными...\n",
      "Данные успешно загружены\n",
      "Начали генерацию SQL запросов\n"
     ]
    },
    {
     "name": "stderr",
     "output_type": "stream",
     "text": [
      "Processed prompts: 100%|██████████| 1534/1534 [02:31<00:00, 10.14it/s, est. speed input: 40671.63 toks/s, output: 477.01 toks/s]"
     ]
    },
    {
     "name": "stdout",
     "output_type": "stream",
     "text": [
      "extract_think количество ошибок:  0\n",
      "extract_sql количество ошибок:  0\n",
      "Закончили генерацию SQL запросов\n",
      "Начали скорр полученных SQL запросов\n"
     ]
    },
    {
     "name": "stderr",
     "output_type": "stream",
     "text": [
      "\n"
     ]
    },
    {
     "name": "stdout",
     "output_type": "stream",
     "text": [
      "Qwen3-8B DEV Финальный результат EX: 57.17\n",
      "Qwen3-8B процент запросов, которые успешно выполнились DEV: 96.09%\n",
      "====================================================================================================\n",
      "\n",
      "\n",
      "Загружаем чаты с данными...\n",
      "Данные успешно загружены\n",
      "Начали генерацию SQL запросов\n"
     ]
    },
    {
     "name": "stderr",
     "output_type": "stream",
     "text": [
      "Processed prompts: 100%|██████████| 1534/1534 [02:26<00:00, 10.48it/s, est. speed input: 41958.09 toks/s, output: 479.70 toks/s] "
     ]
    },
    {
     "name": "stdout",
     "output_type": "stream",
     "text": [
      "extract_think количество ошибок:  0\n",
      "extract_sql количество ошибок:  0\n",
      "Закончили генерацию SQL запросов\n",
      "Начали скорр полученных SQL запросов\n"
     ]
    },
    {
     "name": "stderr",
     "output_type": "stream",
     "text": [
      "\n"
     ]
    },
    {
     "name": "stdout",
     "output_type": "stream",
     "text": [
      "Qwen3-8B DEV Финальный результат EX: 57.50\n",
      "Qwen3-8B процент запросов, которые успешно выполнились DEV: 96.61%\n",
      "====================================================================================================\n",
      "\n",
      "\n",
      "Загружаем чаты с данными...\n",
      "Данные успешно загружены\n",
      "Начали генерацию SQL запросов\n"
     ]
    },
    {
     "name": "stderr",
     "output_type": "stream",
     "text": [
      "Processed prompts: 100%|██████████| 1534/1534 [02:31<00:00, 10.14it/s, est. speed input: 40671.55 toks/s, output: 475.09 toks/s] "
     ]
    },
    {
     "name": "stdout",
     "output_type": "stream",
     "text": [
      "extract_think количество ошибок:  0\n",
      "extract_sql количество ошибок:  0\n",
      "Закончили генерацию SQL запросов\n",
      "Начали скорр полученных SQL запросов\n"
     ]
    },
    {
     "name": "stderr",
     "output_type": "stream",
     "text": [
      "\n"
     ]
    },
    {
     "name": "stdout",
     "output_type": "stream",
     "text": [
      "Qwen3-8B DEV Финальный результат EX: 57.37\n",
      "Qwen3-8B процент запросов, которые успешно выполнились DEV: 96.15%\n",
      "====================================================================================================\n",
      "\n",
      "\n",
      "Загружаем чаты с данными...\n",
      "Данные успешно загружены\n",
      "Начали генерацию SQL запросов\n"
     ]
    },
    {
     "name": "stderr",
     "output_type": "stream",
     "text": [
      "Processed prompts: 100%|██████████| 1534/1534 [02:32<00:00, 10.07it/s, est. speed input: 40907.47 toks/s, output: 467.59 toks/s]"
     ]
    },
    {
     "name": "stdout",
     "output_type": "stream",
     "text": [
      "extract_think количество ошибок:  0\n",
      "extract_sql количество ошибок:  0\n",
      "Закончили генерацию SQL запросов\n",
      "Начали скорр полученных SQL запросов\n"
     ]
    },
    {
     "name": "stderr",
     "output_type": "stream",
     "text": [
      "\n"
     ]
    },
    {
     "name": "stdout",
     "output_type": "stream",
     "text": [
      "Qwen3-8B DEV Финальный результат EX: 57.50\n",
      "Qwen3-8B процент запросов, которые успешно выполнились DEV: 95.70%\n",
      "====================================================================================================\n",
      "\n",
      "\n",
      "Загружаем чаты с данными...\n",
      "Данные успешно загружены\n",
      "Начали генерацию SQL запросов\n"
     ]
    },
    {
     "name": "stderr",
     "output_type": "stream",
     "text": [
      "Processed prompts: 100%|██████████| 1534/1534 [02:32<00:00, 10.07it/s, est. speed input: 40558.30 toks/s, output: 474.98 toks/s] "
     ]
    },
    {
     "name": "stdout",
     "output_type": "stream",
     "text": [
      "extract_think количество ошибок:  0\n",
      "extract_sql количество ошибок:  0\n",
      "Закончили генерацию SQL запросов\n",
      "Начали скорр полученных SQL запросов\n"
     ]
    },
    {
     "name": "stderr",
     "output_type": "stream",
     "text": [
      "\n"
     ]
    },
    {
     "name": "stdout",
     "output_type": "stream",
     "text": [
      "Qwen3-8B DEV Финальный результат EX: 57.37\n",
      "Qwen3-8B процент запросов, которые успешно выполнились DEV: 95.70%\n",
      "====================================================================================================\n",
      "\n",
      "\n",
      "Загружаем чаты с данными...\n",
      "Данные успешно загружены\n",
      "Начали генерацию SQL запросов\n"
     ]
    },
    {
     "name": "stderr",
     "output_type": "stream",
     "text": [
      "Processed prompts: 100%|██████████| 1534/1534 [02:30<00:00, 10.18it/s, est. speed input: 40502.46 toks/s, output: 484.77 toks/s] "
     ]
    },
    {
     "name": "stdout",
     "output_type": "stream",
     "text": [
      "extract_think количество ошибок:  0\n",
      "extract_sql количество ошибок:  0\n",
      "Закончили генерацию SQL запросов\n",
      "Начали скорр полученных SQL запросов\n"
     ]
    },
    {
     "name": "stderr",
     "output_type": "stream",
     "text": [
      "\n"
     ]
    },
    {
     "name": "stdout",
     "output_type": "stream",
     "text": [
      "Qwen3-8B DEV Финальный результат EX: 58.21\n",
      "Qwen3-8B процент запросов, которые успешно выполнились DEV: 95.76%\n",
      "====================================================================================================\n",
      "\n",
      "\n",
      "Загружаем чаты с данными...\n",
      "Данные успешно загружены\n",
      "Начали генерацию SQL запросов\n"
     ]
    },
    {
     "name": "stderr",
     "output_type": "stream",
     "text": [
      "Processed prompts: 100%|██████████| 1534/1534 [02:28<00:00, 10.36it/s, est. speed input: 41067.25 toks/s, output: 487.30 toks/s]"
     ]
    },
    {
     "name": "stdout",
     "output_type": "stream",
     "text": [
      "extract_think количество ошибок:  0\n",
      "extract_sql количество ошибок:  0\n",
      "Закончили генерацию SQL запросов\n",
      "Начали скорр полученных SQL запросов\n"
     ]
    },
    {
     "name": "stderr",
     "output_type": "stream",
     "text": [
      "\n"
     ]
    },
    {
     "name": "stdout",
     "output_type": "stream",
     "text": [
      "Qwen3-8B DEV Финальный результат EX: 58.08\n",
      "Qwen3-8B процент запросов, которые успешно выполнились DEV: 96.09%\n",
      "====================================================================================================\n",
      "\n",
      "\n",
      "Загружаем чаты с данными...\n",
      "Данные успешно загружены\n",
      "Начали генерацию SQL запросов\n"
     ]
    },
    {
     "name": "stderr",
     "output_type": "stream",
     "text": [
      "Processed prompts: 100%|██████████| 1534/1534 [02:27<00:00, 10.38it/s, est. speed input: 40783.48 toks/s, output: 493.60 toks/s] "
     ]
    },
    {
     "name": "stdout",
     "output_type": "stream",
     "text": [
      "extract_think количество ошибок:  0\n",
      "extract_sql количество ошибок:  0\n",
      "Закончили генерацию SQL запросов\n",
      "Начали скорр полученных SQL запросов\n"
     ]
    },
    {
     "name": "stderr",
     "output_type": "stream",
     "text": [
      "\n"
     ]
    },
    {
     "name": "stdout",
     "output_type": "stream",
     "text": [
      "Qwen3-8B DEV Финальный результат EX: 58.08\n",
      "Qwen3-8B процент запросов, которые успешно выполнились DEV: 95.37%\n",
      "====================================================================================================\n",
      "\n",
      "\n",
      "Загружаем чаты с данными...\n",
      "Данные успешно загружены\n",
      "Начали генерацию SQL запросов\n"
     ]
    },
    {
     "name": "stderr",
     "output_type": "stream",
     "text": [
      "Processed prompts: 100%|██████████| 1534/1534 [02:30<00:00, 10.16it/s, est. speed input: 40464.17 toks/s, output: 480.90 toks/s]"
     ]
    },
    {
     "name": "stdout",
     "output_type": "stream",
     "text": [
      "extract_think количество ошибок:  0\n",
      "extract_sql количество ошибок:  0\n",
      "Закончили генерацию SQL запросов\n",
      "Начали скорр полученных SQL запросов\n"
     ]
    },
    {
     "name": "stderr",
     "output_type": "stream",
     "text": [
      "\n"
     ]
    },
    {
     "name": "stdout",
     "output_type": "stream",
     "text": [
      "Qwen3-8B DEV Финальный результат EX: 57.89\n",
      "Qwen3-8B процент запросов, которые успешно выполнились DEV: 95.63%\n",
      "====================================================================================================\n",
      "\n",
      "\n",
      "Загружаем чаты с данными...\n",
      "Данные успешно загружены\n",
      "Начали генерацию SQL запросов\n"
     ]
    },
    {
     "name": "stderr",
     "output_type": "stream",
     "text": [
      "Processed prompts: 100%|██████████| 1534/1534 [02:29<00:00, 10.27it/s, est. speed input: 40919.90 toks/s, output: 485.40 toks/s]"
     ]
    },
    {
     "name": "stdout",
     "output_type": "stream",
     "text": [
      "extract_think количество ошибок:  0\n",
      "extract_sql количество ошибок:  0\n",
      "Закончили генерацию SQL запросов\n",
      "Начали скорр полученных SQL запросов\n"
     ]
    },
    {
     "name": "stderr",
     "output_type": "stream",
     "text": [
      "\n"
     ]
    },
    {
     "name": "stdout",
     "output_type": "stream",
     "text": [
      "Qwen3-8B DEV Финальный результат EX: 57.89\n",
      "Qwen3-8B процент запросов, которые успешно выполнились DEV: 95.50%\n",
      "====================================================================================================\n",
      "\n",
      "\n",
      "Загружаем чаты с данными...\n",
      "Данные успешно загружены\n",
      "Начали генерацию SQL запросов\n"
     ]
    },
    {
     "name": "stderr",
     "output_type": "stream",
     "text": [
      "Processed prompts: 100%|██████████| 1534/1534 [02:30<00:00, 10.19it/s, est. speed input: 40960.90 toks/s, output: 478.90 toks/s]"
     ]
    },
    {
     "name": "stdout",
     "output_type": "stream",
     "text": [
      "extract_think количество ошибок:  0\n",
      "extract_sql количество ошибок:  0\n",
      "Закончили генерацию SQL запросов\n",
      "Начали скорр полученных SQL запросов\n"
     ]
    },
    {
     "name": "stderr",
     "output_type": "stream",
     "text": [
      "\n"
     ]
    },
    {
     "name": "stdout",
     "output_type": "stream",
     "text": [
      "Qwen3-8B DEV Финальный результат EX: 58.15\n",
      "Qwen3-8B процент запросов, которые успешно выполнились DEV: 96.22%\n",
      "====================================================================================================\n",
      "\n",
      "\n",
      "Загружаем чаты с данными...\n",
      "Данные успешно загружены\n",
      "Начали генерацию SQL запросов\n"
     ]
    },
    {
     "name": "stderr",
     "output_type": "stream",
     "text": [
      "Processed prompts: 100%|██████████| 1534/1534 [02:30<00:00, 10.18it/s, est. speed input: 40420.09 toks/s, output: 477.30 toks/s]"
     ]
    },
    {
     "name": "stdout",
     "output_type": "stream",
     "text": [
      "extract_think количество ошибок:  0\n",
      "extract_sql количество ошибок:  0\n",
      "Закончили генерацию SQL запросов\n",
      "Начали скорр полученных SQL запросов\n"
     ]
    },
    {
     "name": "stderr",
     "output_type": "stream",
     "text": [
      "\n"
     ]
    },
    {
     "name": "stdout",
     "output_type": "stream",
     "text": [
      "Qwen3-8B DEV Финальный результат EX: 58.08\n",
      "Qwen3-8B процент запросов, которые успешно выполнились DEV: 95.37%\n",
      "====================================================================================================\n",
      "\n",
      "\n",
      "Загружаем чаты с данными...\n",
      "Данные успешно загружены\n",
      "Начали генерацию SQL запросов\n"
     ]
    },
    {
     "name": "stderr",
     "output_type": "stream",
     "text": [
      "Processed prompts: 100%|██████████| 1534/1534 [02:29<00:00, 10.27it/s, est. speed input: 40799.62 toks/s, output: 483.13 toks/s]"
     ]
    },
    {
     "name": "stdout",
     "output_type": "stream",
     "text": [
      "extract_think количество ошибок:  0\n",
      "extract_sql количество ошибок:  0\n",
      "Закончили генерацию SQL запросов\n",
      "Начали скорр полученных SQL запросов\n"
     ]
    },
    {
     "name": "stderr",
     "output_type": "stream",
     "text": [
      "\n"
     ]
    },
    {
     "name": "stdout",
     "output_type": "stream",
     "text": [
      "Qwen3-8B DEV Финальный результат EX: 57.04\n",
      "Qwen3-8B процент запросов, которые успешно выполнились DEV: 95.50%\n",
      "====================================================================================================\n",
      "\n",
      "\n"
     ]
    }
   ],
   "source": [
    "run_cot_experiment(model,arr_seeds,arr_versions, type_cot,num_observations=num_observations)"
   ]
  },
  {
   "cell_type": "code",
   "execution_count": 31,
   "id": "91935ea9-35a9-44aa-9e58-6390439df74f",
   "metadata": {},
   "outputs": [
    {
     "name": "stdout",
     "output_type": "stream",
     "text": [
      "[170, 922, 651, 77, 337, 513, 399, 498, 267, 889, 956, 165, 734, 541, 869, 915, 543, 456, 767, 182]\n",
      "model: Qwen3-8B\n"
     ]
    }
   ],
   "source": [
    "n= 20\n",
    "arr_seeds = [random.randint(0,1000) for _ in range(n)]\n",
    "arr_versions = [x for x in range(n)]\n",
    "model = \"Qwen3-8B\"\n",
    "num_observations = 4\n",
    "type_cot = 'think'\n",
    "print(arr_seeds)\n",
    "print(f\"model: {model}\")"
   ]
  },
  {
   "cell_type": "code",
   "execution_count": 32,
   "id": "a29f1083-de0f-4092-8479-ac68ef1c2d4a",
   "metadata": {
    "scrolled": true
   },
   "outputs": [
    {
     "name": "stdout",
     "output_type": "stream",
     "text": [
      "Загружаем модель...\n"
     ]
    },
    {
     "name": "stderr",
     "output_type": "stream",
     "text": [
      "Loading safetensors checkpoint shards:   0% Completed | 0/4 [00:00<?, ?it/s]\n",
      "Loading safetensors checkpoint shards:  25% Completed | 1/4 [00:00<00:00,  8.31it/s]\n",
      "Loading safetensors checkpoint shards:  50% Completed | 2/4 [00:00<00:00,  2.57it/s]\n",
      "Loading safetensors checkpoint shards:  75% Completed | 3/4 [00:01<00:00,  1.83it/s]\n",
      "Loading safetensors checkpoint shards: 100% Completed | 4/4 [00:02<00:00,  1.61it/s]\n",
      "Loading safetensors checkpoint shards: 100% Completed | 4/4 [00:02<00:00,  1.85it/s]\n",
      "\u001b[1;36m(VllmWorker rank=0 pid=224263)\u001b[0;0m \n"
     ]
    },
    {
     "name": "stdout",
     "output_type": "stream",
     "text": [
      "Модель успешно загружена\n",
      "model_config {'model': '/data/home/vkropoti/models/Qwen3-8B', 'tensor_parallel_size': 2, 'max_model_len': 40000, 'max_new_tokens': 1500, 'temperature': 0, 'top_k': 1, 'top_p': 0.8, 'gpu_memory_utilization': 0.9, 'trust_remote_code': False, 'seed': 170}\n",
      "\n",
      "prompts_config {'path_dev_json': '/home/vkropoti/vllm/dev.json', 'path_sql_dbs': '/data/home/vkropoti/sql_data/dev_databases/', 'use_reasoning': False, 'paths_to_cot': ['/data/home/vkropoti/sql_llm_answers/bird_dev/sql_think_Qwen3-8B-reasoning-v0', '/data/home/vkropoti/sql_llm_answers/bird_dev/sql_think_Qwen3-8B-reasoning-v1', '/data/home/vkropoti/sql_llm_answers/bird_dev/sql_think_Qwen3-8B-reasoning-v2', '/data/home/vkropoti/sql_llm_answers/bird_dev/sql_think_Qwen3-8B-reasoning-v3']}\n",
      "\n",
      "save_config {'path_sql_save': '/data/home/vkropoti/sql_llm_answers/bird_dev/sql_all_Qwen3-8B-cot_think_think==False_nobs4-v0', 'path_think_save': None, 'path_sql_answers_save': '/data/home/vkropoti/sql_llm_answers/bird_dev/sql_predict_Qwen3-8B-cot_think_think==False_nobs4-v0', 'path_to_save_scores': '/data/home/vkropoti/sql_llm_answers/bird_dev/sql_results_Qwen3-8B-cot_think_think==False_nobs4-v0', 'path_to_save_executed': '/data/home/vkropoti/sql_llm_answers/bird_dev/sql_executed_Qwen3-8B-cot_think_think==False_nobs4-v0'}\n",
      "\n",
      "Модель успешно загружена\n",
      "Пример промпта\n",
      "<|im_start|>system\n",
      "\n",
      "You are a data science expert. Below, you are provided with a database schema and a natural language question. Your task is to understand the schema and generate a valid SQL query to answer the question.\n",
      "\n",
      "Database Engine: SQLite\n",
      "\n",
      "You will be given an additional analysis of other models, please take it into account, so the plan is\n",
      "1. Analyse given addition analysis from other models (find in which analysis the same and differ, how to use that to answer question)\n",
      "2. Combine best from previous part and think how to solve the problem (analyze tables, take care what columns avaliable in each table and so on, check the syntacsis)\n",
      "3. Create the answers. The answer should be only sql query.\n",
      "\n",
      "Carefully follow the instruction and add <|im_end|> and the end of the final answer<|im_end|>\n",
      "<|im_start|>user\n",
      "Here is addition analysis from other models which can be helpfull, please take this into account but be careful (choose the best from each analysis, combine them to make the most proper answer):\n",
      "\n",
      "model 0 analysis:\n",
      " Okay, I need to find the highest eligible free rate for K-12 students in schools located in Alameda County. Let's start by understanding the tables and the data available.\n",
      "\n",
      "First, the question involves two main tables: frpm and schools. The frpm table has the `Free Meal Count (K-12)` and `Enrollment (K-12)` columns needed to calculate the eligible free rate. The schools table has the County information, specifically the `County` column. \n",
      "\n",
      "So, the first step is to join these two tables on the CDSCode, which is the common key. The frpm table's CDSCode is a foreign key referencing the schools table's CDSCode. That makes sense. \n",
      "\n",
      "Next, I need to filter the schools in Alameda County. The schools table has a `County` column, so I'll add a WHERE clause to check if County equals 'Alameda'. \n",
      "\n",
      "Once the data is filtered, I need to calculate the eligible free rate using the formula provided: `Free Meal Count (K-12) / Enrollment (K-12)`. However, I should be cautious about division by zero. But since the question is about schools with data, maybe there's a safety net, but the problem might not require handling that here. \n",
      "\n",
      "The goal is to find the highest rate, so I'll use the MAX function on the calculated rate. But to do that, I need to compute the rate for each school and then find the maximum value. \n",
      "\n",
      "Putting it all together, the SQL query should select the maximum of the calculated rate from the joined tables where the County is Alameda. \n",
      "\n",
      "Wait, but the formula is Free Meal Count divided by Enrollment. So in SQL, that would be `Free Meal Count (K-12) / Enrollment (K-12)`. \n",
      "\n",
      "So the query structure would be: \n",
      "\n",
      "SELECT MAX(`Free Meal Count (K-12)` / `Enrollment (K-12)`) AS highest_rate\n",
      "FROM frpm\n",
      "JOIN schools ON frpm.CDSCode = schools.CDSCode\n",
      "WHERE schools.County = 'Alameda';\n",
      "\n",
      "But I should check if there are any schools in Alameda County. Also, ensure that the columns are correctly quoted since some have spaces. \n",
      "\n",
      "I should make sure that the JOIN is correctly using the CDSCode from both tables. Also, the schools table's County column is the right one to filter. \n",
      "\n",
      "I think that's all. The final query should select the maximum value of the calculated rate from the relevant schools.\n",
      "\n",
      "model 1 analysis:\n",
      " Okay, let's tackle this question. The user wants the highest eligible free rate for K-12 students in Alameda County. First, I need to figure out which tables and columns are involved.\n",
      "\n",
      "The eligible free rate is calculated as Free Meal Count (K-12) divided by Enrollment (K-12). The frpm table has these columns. But I also need to filter schools in Alameda County. The schools table has a County column. So I need to join frpm with schools on CDSCode to get the county information.\n",
      "\n",
      "Wait, the frpm table has a foreign key to schools' CDSCode, so joining them on CDSCode makes sense. Then, I can filter where County = 'Alameda'. Once I have the eligible free rate for each school, I need to find the maximum value. \n",
      "\n",
      "So the steps are: join frpm and schools on CDSCode, filter for Alameda County, calculate the ratio, and then select the maximum. But I need to make sure that Enrollment (K-12) isn't zero to avoid division by zero. However, the question might assume that enrollment is non-zero. \n",
      "\n",
      "The SQL query would select the maximum of (Free Meal Count / Enrollment) from the joined tables where County is Alameda. I should use the correct column names with backticks. Also, since the user wants only the highest rate, using MAX() on the calculated value should work. \n",
      "\n",
      "Wait, but the question says \"highest eligible free rate\", which is the percentage. So the calculation is (Free Meal Count / Enrollment) * 100. But the columns in frpm are Free Meal Count (K-12) and Enrollment (K-12). So the query would be:\n",
      "\n",
      "SELECT MAX(`Free Meal Count (K-12)` / `Enrollment (K-12)`) AS MaxRate\n",
      "FROM frpm\n",
      "JOIN schools ON frpm.CDSCode = schools.CDSCode\n",
      "WHERE schools.County = 'Alameda';\n",
      "\n",
      "But I need to check if the County column in schools is case-sensitive. The question says Alameda County, so the value in County might be 'Alameda'. Also, ensuring that Enrollment isn't zero. However, the problem might not require handling that. \n",
      "\n",
      "So the final query should join the tables, filter by County, compute the ratio, and find the maximum. That's the plan.\n",
      "\n",
      "model 2 analysis:\n",
      " Okay, I need to find the highest eligible free rate for K-12 students in schools located in Alameda County. Let's start by understanding the data structure and the tables involved.\n",
      "\n",
      "First, the question mentions \"eligible free rate for K-12,\" which is calculated as Free Meal Count (K-12) divided by Enrollment (K-12). The tables provided are frpm, satscores, and schools. The schools table has a County column, so I'll need to filter schools in Alameda County from there. \n",
      "\n",
      "The frpm table has the necessary columns for the free meal count and enrollment. However, I need to ensure that the schools in the frpm table are linked to the schools in the schools table. The frpm table has a CDSCode as the primary key, which is also a foreign key referencing the schools table's CDSCode. So, I can join these two tables on CDSCode.\n",
      "\n",
      "So the plan is: join frpm and schools on CDSCode where schools.County is 'Alameda'. Then compute the eligible free rate as (Free Meal Count (K-12) / Enrollment (K-12)) for each school. Finally, find the maximum value of this rate.\n",
      "\n",
      "Wait, but the question says \"highest eligible free rate,\" which is the maximum of the calculated rate. So I need to select the maximum value of (Free Meal Count / Enrollment) from the joined tables where County is Alameda.\n",
      "\n",
      "I need to make sure that the columns are correctly named. In the frpm table, the columns are `Free Meal Count (K-12)` and `Enrollment (K-12)`. The schools table's County column is named County. So the SQL query should join frpm and schools on CDSCode, filter where County = 'Alameda', and then calculate the rate. Then use MAX() to find the highest value.\n",
      "\n",
      "But wait, what if there are null values in Enrollment (K-12)? The question doesn't mention handling that, so I'll assume the data is clean. Also, division in SQL can be tricky. Since the columns are REAL, dividing them should work. So the query would be:\n",
      "\n",
      "SELECT MAX(`Free Meal Count (K-12)` / `Enrollment (K-12)`) AS MaxEligibleFreeRate\n",
      "FROM frpm\n",
      "JOIN schools ON frpm.CDSCode = schools.CDSCode\n",
      "WHERE schools.County = 'Alameda';\n",
      "\n",
      "But I need to check if the County column in schools is named correctly. Yes, the schools table has a County column. So this should work. That's the final query.\n",
      "\n",
      "model 3 analysis:\n",
      " Okay, I need to find the highest eligible free rate for K-12 students in schools located in Alameda County. Let's break this down step by step.\n",
      "\n",
      "First, the question mentions \"eligible free rate for K-12,\" which the external knowledge defines as `Free Meal Count (K-12)` divided by `Enrollment (K-12)`. So I'll need to calculate this ratio for each school. But I need to make sure that division is handled correctly, maybe using real numbers to avoid integer division issues.\n",
      "\n",
      "Next, the schools are in Alameda County. The `frpm` table has a `County Name` column, so I should filter schools where `County Name` is 'Alameda'. However, I should check if the `frpm` table has the necessary data. The `frpm` table's columns include `County Name`, so that's where I'll get the county information.\n",
      "\n",
      "Wait, but the `schools` table also has a `County` column. Which one should I use? The question refers to \"Alameda County,\" and the `frpm` table's `County Name` might be the right column. But I should confirm. However, since the `frpm` table is linked via `CDSCode` to the `schools` table, maybe the `County Name` in `frpm` is the correct one. But perhaps the `schools` table's `County` column is more accurate. Hmm. But the user's external knowledge might assume using `frpm`'s `County Name`. Let me check the tables again.\n",
      "\n",
      "The `frpm` table has a `County Name` column, and the `schools` table has a `County` column. The question is about schools in Alameda County. The `frpm` table's `County Name` likely refers to the county where the school is located. But maybe I should cross-reference. However, the `frpm` table is linked to `schools` via `CDSCode`, so if I use `frpm`'s `County Name`, that's the right approach. But the user's question might have the `County` column in `schools` as the correct one. Wait, the question doesn't specify which table's county to use, but the external knowledge's formula uses columns from `frpm`. So perhaps the `County Name` in `frpm` is the correct one.\n",
      "\n",
      "So the plan is: join the `frpm` table with the `schools` table on `CDSCode`, filter where `County Name` is 'Alameda', calculate the eligible free rate as `Free Meal Count (K-12) / Enrollment (K-12)`, and then find the maximum value of that rate.\n",
      "\n",
      "Wait, but the `frpm` table might not have all the schools. The `schools` table has a `CDSCode` as primary key, and `frpm` has a foreign key to `schools`'s `CDSCode`. So `frpm` might have entries for schools that are in the `schools` table. But if I need to get the county information, I should use the `County Name` from `frpm` because it's directly related to the school's location. But maybe the `schools` table's `County` is more accurate. However, the user's external knowledge uses `frpm`'s columns, so I should use `frpm`'s `County Name`.\n",
      "\n",
      "So, the SQL query would select the `Free Meal Count (K-12)` and `Enrollment (K-12)` from `frpm` where `County Name` is 'Alameda', calculate the ratio, and find the maximum. But I need to ensure that `Enrollment (K-12)` is not zero to avoid division by zero. However, the question doesn't mention handling that, so maybe it's safe to proceed.\n",
      "\n",
      "So the steps are:\n",
      "\n",
      "1. Select from `frpm` where `County Name` = 'Alameda'.\n",
      "2. Calculate `Free Meal Count (K-12) / Enrollment (K-12)` as the eligible free rate.\n",
      "3. Find the maximum value of this rate.\n",
      "\n",
      "But I need to make sure that the columns are correctly referenced. The `frpm` table has `Free Meal Count (K-12)` and `Enrollment (K-12)` as columns. Also, the `County Name` is in `frpm`.\n",
      "\n",
      "So the SQL query would be:\n",
      "\n",
      "SELECT MAX(`Free Meal Count (K-12)` / `Enrollment (K-12)`) AS highest_eligible_free_rate\n",
      "FROM frpm\n",
      "WHERE `County Name` = 'Alameda';\n",
      "\n",
      "Wait, but what if there are schools with zero enrollment? The division would result in NULL or an error. However, the problem doesn't mention handling that, so perhaps it's acceptable. Also, the question might assume that the data is valid.\n",
      "\n",
      "But the user's question asks for the highest eligible free rate, so the query should return a single value. Using MAX on the calculated ratio would give the maximum.\n",
      "\n",
      "So the final SQL query should be as above.\n",
      "\n",
      "\n",
      "here is avaliable tables below\n",
      "\n",
      "\n",
      "Table: frpm\n",
      "CREATE TABLE frpm\n",
      "(\n",
      "    CDSCode                                       TEXT not null\n",
      "        primary key,\n",
      "    `Academic Year`                               TEXT  null,\n",
      "    `County Code`                                 TEXT  null,\n",
      "    `District Code`                               INTEGER         null,\n",
      "    `School Code`                                 TEXT  null,\n",
      "    `County Name`                                 TEXT null,\n",
      "    `District Name`                               TEXT null,\n",
      "    `School Name`                                 TEXT null,\n",
      "    `District Type`                               TEXT null,\n",
      "    `School Type`                                 TEXT null,\n",
      "    `Educational Option Type`                     TEXT null,\n",
      "    `NSLP Provision Status`                       TEXT null,\n",
      "    `Charter School (Y/N)`                        INTEGER    null,\n",
      "    `Charter School Number`                       TEXT  null,\n",
      "    `Charter Funding Type`                        TEXT null,\n",
      "    IRC                                           INTEGER    null,\n",
      "    `Low Grade`                                   TEXT  null,\n",
      "    `High Grade`                                  TEXT null,\n",
      "    `Enrollment (K-12)`                           REAL      null,\n",
      "    `Free Meal Count (K-12)`                      REAL       null,\n",
      "    `Percent (%) Eligible Free (K-12)`            REAL       null,\n",
      "    `FRPM Count (K-12)`                           REAL       null,\n",
      "    `Percent (%) Eligible FRPM (K-12)`            REAL       null,\n",
      "    `Enrollment (Ages 5-17)`                      REAL       null,\n",
      "    `Free Meal Count (Ages 5-17)`                 REAL       null,\n",
      "    `Percent (%) Eligible Free (Ages 5-17)`       REAL       null,\n",
      "    `FRPM Count (Ages 5-17)`                      REAL       null,\n",
      "    `Percent (%) Eligible FRPM (Ages 5-17)`       REAL       null,\n",
      "    `2013-14 CALPADS Fall 1 Certification Status` INTEGER    null,\n",
      "    foreign key (CDSCode) references schools (CDSCode)\n",
      ")\n",
      "\n",
      "Table: satscores\n",
      "CREATE TABLE satscores\n",
      "(\n",
      "    cds         TEXT not null\n",
      "        primary key,\n",
      "    rtype       TEXT  not null,\n",
      "    sname       TEXT null,\n",
      "    dname       TEXT null,\n",
      "    cname       TEXT null,\n",
      "    enroll12    INTEGER         not null,\n",
      "    NumTstTakr  INTEGER          not null,\n",
      "    AvgScrRead  INTEGER          null,\n",
      "    AvgScrMath  INTEGER          null,\n",
      "    AvgScrWrite INTEGER          null,\n",
      "    NumGE1500   INTEGER          null,\n",
      "--     PctGE1500   double      null,\n",
      "        foreign key (cds) references schools (CDSCode)\n",
      ")\n",
      "\n",
      "Table: schools\n",
      "CREATE TABLE schools\n",
      "(\n",
      "    CDSCode     TEXT not null\n",
      "        primary key,\n",
      "    NCESDist    TEXT  null,\n",
      "    NCESSchool  TEXT  null,\n",
      "    StatusType  TEXT  not null,\n",
      "    County      TEXT not null,\n",
      "    District    TEXT not null,\n",
      "    School      TEXT null,\n",
      "    Street      TEXT null,\n",
      "    StreetAbr   TEXT null,\n",
      "    City        TEXT null,\n",
      "    Zip         TEXT null,\n",
      "    State       TEXT  null,\n",
      "    MailStreet  TEXT null,\n",
      "    MailStrAbr  TEXT null,\n",
      "    MailCity    TEXT null,\n",
      "    MailZip     TEXT null,\n",
      "    MailState   TEXT  null,\n",
      "    Phone       TEXT null,\n",
      "    Ext         TEXT  null,\n",
      "    Website     TEXT null,\n",
      "    OpenDate    DATE        null,\n",
      "    ClosedDate  DATE        null,\n",
      "    Charter     INTEGER    null,\n",
      "    CharterNum  TEXT  null,\n",
      "    FundingType TEXT null,\n",
      "    DOC         TEXT  not null,\n",
      "    DOCType     TEXT not null,\n",
      "    SOC         TEXT  null,\n",
      "    SOCType     TEXT null,\n",
      "    EdOpsCode   TEXT  null,\n",
      "    EdOpsName   TEXT null,\n",
      "    EILCode     TEXT  null,\n",
      "    EILName     TEXT null,\n",
      "    GSoffered   TEXT null,\n",
      "    GSserved    TEXT  null,\n",
      "    Virtual     TEXT  null,\n",
      "    Magnet      INTEGER   null,\n",
      "    Latitude    REAL      null,\n",
      "    Longitude   REAL      null,\n",
      "    AdmFName1   TEXT null,\n",
      "    AdmLName1   TEXT null,\n",
      "    AdmEmail1   TEXT null,\n",
      "    AdmFName2   TEXT null,\n",
      "    AdmLName2   TEXT null,\n",
      "    AdmEmail2   TEXT null,\n",
      "    AdmFName3   TEXT  null,\n",
      "    AdmLName3   TEXT null,\n",
      "    AdmEmail3   TEXT null,\n",
      "    LastUpdate  DATE        not null\n",
      ")\n",
      "\n",
      "-- Using valid SQLite and understanding External Knowledge, answer the following questions for the tables provided above.\n",
      "-- What is the highest eligible free rate for K-12 students in the schools in Alameda County?\n",
      "-- External Knowledge: Eligible free rate for K-12 = `Free Meal Count (K-12)` / `Enrollment (K-12)`\n",
      "\n",
      "\n",
      "Generate the SQLite for the above question after thinking step by step: \n",
      "\n",
      "\n",
      "Instructions:\n",
      "- Make sure you only output the information that is asked in the question. If the question asks for a specific column, make sure to only include that column in the SELECT clause, nothing more.\n",
      "- The generated query should return all of the information asked in the question without any missing or extra information.\n",
      "- Before generating the final SQL query, please think through the steps of how to write the query.\n",
      "- Do not misuse column names, keep them in quotes `\n",
      "- Carefully understand what colomns belond to what tables\n",
      "- Use only initial column names, change names prohibited\n",
      "        \n",
      "Output Format:\n",
      "In your answer, please enclose the generated SQL query in a code block:\n",
      "```\n",
      "-- Your SQL query\n",
      "```    \n",
      "and nothing else, no exaplains, no comments (asnwer should be less than 512 characters)\n",
      "\n",
      "Take a deep breath and think step by step to find the correct SQL query in SQLite format.\n",
      "\n",
      "Question repetition: What is the highest eligible free rate for K-12 students in the schools in Alameda County?\n",
      "\n",
      "Be care! Include only what i want it questiona and nothing else<|im_end|>\n",
      "<|im_start|>assistant\n",
      "<think>\n",
      "\n",
      "</think>\n",
      "\n",
      "\n",
      "\n",
      "\n",
      "Максимальное количество токенов в промптах: 19766\n",
      "\n",
      "начинаем скорринг\n",
      "Загружаем чаты с данными...\n",
      "Данные успешно загружены\n",
      "Начали генерацию SQL запросов\n"
     ]
    },
    {
     "name": "stderr",
     "output_type": "stream",
     "text": [
      "Processed prompts: 100%|██████████| 1534/1534 [03:11<00:00,  8.00it/s, est. speed input: 38862.87 toks/s, output: 379.36 toks/s]"
     ]
    },
    {
     "name": "stdout",
     "output_type": "stream",
     "text": [
      "extract_think количество ошибок:  0\n",
      "extract_sql количество ошибок:  0\n",
      "Закончили генерацию SQL запросов\n",
      "Начали скорр полученных SQL запросов\n"
     ]
    },
    {
     "name": "stderr",
     "output_type": "stream",
     "text": [
      "\n"
     ]
    },
    {
     "name": "stdout",
     "output_type": "stream",
     "text": [
      "Qwen3-8B DEV Финальный результат EX: 57.76\n",
      "Qwen3-8B процент запросов, которые успешно выполнились DEV: 95.37%\n",
      "====================================================================================================\n",
      "\n",
      "\n",
      "Загружаем чаты с данными...\n",
      "Данные успешно загружены\n",
      "Начали генерацию SQL запросов\n"
     ]
    },
    {
     "name": "stderr",
     "output_type": "stream",
     "text": [
      "Processed prompts: 100%|██████████| 1534/1534 [03:07<00:00,  8.19it/s, est. speed input: 40128.88 toks/s, output: 380.26 toks/s]"
     ]
    },
    {
     "name": "stdout",
     "output_type": "stream",
     "text": [
      "extract_think количество ошибок:  0\n",
      "extract_sql количество ошибок:  0\n",
      "Закончили генерацию SQL запросов\n",
      "Начали скорр полученных SQL запросов\n"
     ]
    },
    {
     "name": "stderr",
     "output_type": "stream",
     "text": [
      "\n"
     ]
    },
    {
     "name": "stdout",
     "output_type": "stream",
     "text": [
      "Qwen3-8B DEV Финальный результат EX: 57.89\n",
      "Qwen3-8B процент запросов, которые успешно выполнились DEV: 95.96%\n",
      "====================================================================================================\n",
      "\n",
      "\n",
      "Загружаем чаты с данными...\n",
      "Данные успешно загружены\n",
      "Начали генерацию SQL запросов\n"
     ]
    },
    {
     "name": "stderr",
     "output_type": "stream",
     "text": [
      "Processed prompts: 100%|██████████| 1534/1534 [03:06<00:00,  8.22it/s, est. speed input: 40076.60 toks/s, output: 385.41 toks/s]"
     ]
    },
    {
     "name": "stdout",
     "output_type": "stream",
     "text": [
      "extract_think количество ошибок:  0\n",
      "extract_sql количество ошибок:  0\n",
      "Закончили генерацию SQL запросов\n",
      "Начали скорр полученных SQL запросов\n"
     ]
    },
    {
     "name": "stderr",
     "output_type": "stream",
     "text": [
      "\n"
     ]
    },
    {
     "name": "stdout",
     "output_type": "stream",
     "text": [
      "Qwen3-8B DEV Финальный результат EX: 57.95\n",
      "Qwen3-8B процент запросов, которые успешно выполнились DEV: 95.57%\n",
      "====================================================================================================\n",
      "\n",
      "\n",
      "Загружаем чаты с данными...\n",
      "Данные успешно загружены\n",
      "Начали генерацию SQL запросов\n"
     ]
    },
    {
     "name": "stderr",
     "output_type": "stream",
     "text": [
      "Processed prompts: 100%|██████████| 1534/1534 [03:06<00:00,  8.22it/s, est. speed input: 40049.04 toks/s, output: 383.34 toks/s]"
     ]
    },
    {
     "name": "stdout",
     "output_type": "stream",
     "text": [
      "extract_think количество ошибок:  0\n",
      "extract_sql количество ошибок:  0\n",
      "Закончили генерацию SQL запросов\n",
      "Начали скорр полученных SQL запросов\n"
     ]
    },
    {
     "name": "stderr",
     "output_type": "stream",
     "text": [
      "\n"
     ]
    },
    {
     "name": "stdout",
     "output_type": "stream",
     "text": [
      "Qwen3-8B DEV Финальный результат EX: 57.82\n",
      "Qwen3-8B процент запросов, которые успешно выполнились DEV: 95.96%\n",
      "====================================================================================================\n",
      "\n",
      "\n",
      "Загружаем чаты с данными...\n",
      "Данные успешно загружены\n",
      "Начали генерацию SQL запросов\n"
     ]
    },
    {
     "name": "stderr",
     "output_type": "stream",
     "text": [
      "Processed prompts: 100%|██████████| 1534/1534 [03:07<00:00,  8.17it/s, est. speed input: 40027.52 toks/s, output: 382.00 toks/s]"
     ]
    },
    {
     "name": "stdout",
     "output_type": "stream",
     "text": [
      "extract_think количество ошибок:  0\n",
      "extract_sql количество ошибок:  0\n",
      "Закончили генерацию SQL запросов\n",
      "Начали скорр полученных SQL запросов\n"
     ]
    },
    {
     "name": "stderr",
     "output_type": "stream",
     "text": [
      "\n"
     ]
    },
    {
     "name": "stdout",
     "output_type": "stream",
     "text": [
      "Qwen3-8B DEV Финальный результат EX: 57.82\n",
      "Qwen3-8B процент запросов, которые успешно выполнились DEV: 96.02%\n",
      "====================================================================================================\n",
      "\n",
      "\n",
      "Загружаем чаты с данными...\n",
      "Данные успешно загружены\n",
      "Начали генерацию SQL запросов\n"
     ]
    },
    {
     "name": "stderr",
     "output_type": "stream",
     "text": [
      "Processed prompts: 100%|██████████| 1534/1534 [03:08<00:00,  8.12it/s, est. speed input: 39714.78 toks/s, output: 385.75 toks/s]"
     ]
    },
    {
     "name": "stdout",
     "output_type": "stream",
     "text": [
      "extract_think количество ошибок:  0\n",
      "extract_sql количество ошибок:  0\n",
      "Закончили генерацию SQL запросов\n",
      "Начали скорр полученных SQL запросов\n"
     ]
    },
    {
     "name": "stderr",
     "output_type": "stream",
     "text": [
      "\n"
     ]
    },
    {
     "name": "stdout",
     "output_type": "stream",
     "text": [
      "Qwen3-8B DEV Финальный результат EX: 58.34\n",
      "Qwen3-8B процент запросов, которые успешно выполнились DEV: 96.15%\n",
      "====================================================================================================\n",
      "\n",
      "\n",
      "Загружаем чаты с данными...\n",
      "Данные успешно загружены\n",
      "Начали генерацию SQL запросов\n"
     ]
    },
    {
     "name": "stderr",
     "output_type": "stream",
     "text": [
      "Processed prompts: 100%|██████████| 1534/1534 [03:06<00:00,  8.22it/s, est. speed input: 40131.19 toks/s, output: 385.94 toks/s]"
     ]
    },
    {
     "name": "stdout",
     "output_type": "stream",
     "text": [
      "extract_think количество ошибок:  0\n",
      "extract_sql количество ошибок:  0\n",
      "Закончили генерацию SQL запросов\n",
      "Начали скорр полученных SQL запросов\n"
     ]
    },
    {
     "name": "stderr",
     "output_type": "stream",
     "text": [
      "\n"
     ]
    },
    {
     "name": "stdout",
     "output_type": "stream",
     "text": [
      "Qwen3-8B DEV Финальный результат EX: 56.98\n",
      "Qwen3-8B процент запросов, которые успешно выполнились DEV: 96.15%\n",
      "====================================================================================================\n",
      "\n",
      "\n",
      "Загружаем чаты с данными...\n",
      "Данные успешно загружены\n",
      "Начали генерацию SQL запросов\n"
     ]
    },
    {
     "name": "stderr",
     "output_type": "stream",
     "text": [
      "Processed prompts: 100%|██████████| 1534/1534 [03:05<00:00,  8.26it/s, est. speed input: 40522.68 toks/s, output: 382.54 toks/s]"
     ]
    },
    {
     "name": "stdout",
     "output_type": "stream",
     "text": [
      "extract_think количество ошибок:  0\n",
      "extract_sql количество ошибок:  0\n",
      "Закончили генерацию SQL запросов\n",
      "Начали скорр полученных SQL запросов\n"
     ]
    },
    {
     "name": "stderr",
     "output_type": "stream",
     "text": [
      "\n"
     ]
    },
    {
     "name": "stdout",
     "output_type": "stream",
     "text": [
      "Qwen3-8B DEV Финальный результат EX: 56.84\n",
      "Qwen3-8B процент запросов, которые успешно выполнились DEV: 96.02%\n",
      "====================================================================================================\n",
      "\n",
      "\n",
      "Загружаем чаты с данными...\n",
      "Данные успешно загружены\n",
      "Начали генерацию SQL запросов\n"
     ]
    },
    {
     "name": "stderr",
     "output_type": "stream",
     "text": [
      "Processed prompts: 100%|██████████| 1534/1534 [03:08<00:00,  8.12it/s, est. speed input: 39801.76 toks/s, output: 382.50 toks/s]"
     ]
    },
    {
     "name": "stdout",
     "output_type": "stream",
     "text": [
      "extract_think количество ошибок:  0\n",
      "extract_sql количество ошибок:  0\n",
      "Закончили генерацию SQL запросов\n",
      "Начали скорр полученных SQL запросов\n"
     ]
    },
    {
     "name": "stderr",
     "output_type": "stream",
     "text": [
      "\n"
     ]
    },
    {
     "name": "stdout",
     "output_type": "stream",
     "text": [
      "Qwen3-8B DEV Финальный результат EX: 57.63\n",
      "Qwen3-8B процент запросов, которые успешно выполнились DEV: 95.89%\n",
      "====================================================================================================\n",
      "\n",
      "\n",
      "Загружаем чаты с данными...\n",
      "Данные успешно загружены\n",
      "Начали генерацию SQL запросов\n"
     ]
    },
    {
     "name": "stderr",
     "output_type": "stream",
     "text": [
      "Processed prompts: 100%|██████████| 1534/1534 [03:07<00:00,  8.20it/s, est. speed input: 40150.27 toks/s, output: 386.95 toks/s]"
     ]
    },
    {
     "name": "stdout",
     "output_type": "stream",
     "text": [
      "extract_think количество ошибок:  0\n",
      "extract_sql количество ошибок:  0\n",
      "Закончили генерацию SQL запросов\n",
      "Начали скорр полученных SQL запросов\n"
     ]
    },
    {
     "name": "stderr",
     "output_type": "stream",
     "text": [
      "\n"
     ]
    },
    {
     "name": "stdout",
     "output_type": "stream",
     "text": [
      "Qwen3-8B DEV Финальный результат EX: 57.50\n",
      "Qwen3-8B процент запросов, которые успешно выполнились DEV: 96.09%\n",
      "====================================================================================================\n",
      "\n",
      "\n",
      "Загружаем чаты с данными...\n",
      "Данные успешно загружены\n",
      "Начали генерацию SQL запросов\n"
     ]
    },
    {
     "name": "stderr",
     "output_type": "stream",
     "text": [
      "Processed prompts: 100%|██████████| 1534/1534 [03:10<00:00,  8.05it/s, est. speed input: 39655.84 toks/s, output: 376.43 toks/s]"
     ]
    },
    {
     "name": "stdout",
     "output_type": "stream",
     "text": [
      "extract_think количество ошибок:  0\n",
      "extract_sql количество ошибок:  0\n",
      "Закончили генерацию SQL запросов\n",
      "Начали скорр полученных SQL запросов\n"
     ]
    },
    {
     "name": "stderr",
     "output_type": "stream",
     "text": [
      "\n"
     ]
    },
    {
     "name": "stdout",
     "output_type": "stream",
     "text": [
      "Qwen3-8B DEV Финальный результат EX: 57.76\n",
      "Qwen3-8B процент запросов, которые успешно выполнились DEV: 95.89%\n",
      "====================================================================================================\n",
      "\n",
      "\n",
      "Загружаем чаты с данными...\n",
      "Данные успешно загружены\n",
      "Начали генерацию SQL запросов\n"
     ]
    },
    {
     "name": "stderr",
     "output_type": "stream",
     "text": [
      "Processed prompts: 100%|██████████| 1534/1534 [03:07<00:00,  8.19it/s, est. speed input: 39932.55 toks/s, output: 384.69 toks/s]"
     ]
    },
    {
     "name": "stdout",
     "output_type": "stream",
     "text": [
      "extract_think количество ошибок:  0\n",
      "extract_sql количество ошибок:  0\n",
      "Закончили генерацию SQL запросов\n",
      "Начали скорр полученных SQL запросов\n"
     ]
    },
    {
     "name": "stderr",
     "output_type": "stream",
     "text": [
      "\n"
     ]
    },
    {
     "name": "stdout",
     "output_type": "stream",
     "text": [
      "Qwen3-8B DEV Финальный результат EX: 57.95\n",
      "Qwen3-8B процент запросов, которые успешно выполнились DEV: 95.50%\n",
      "====================================================================================================\n",
      "\n",
      "\n",
      "Загружаем чаты с данными...\n",
      "Данные успешно загружены\n",
      "Начали генерацию SQL запросов\n"
     ]
    },
    {
     "name": "stderr",
     "output_type": "stream",
     "text": [
      "Processed prompts: 100%|██████████| 1534/1534 [03:06<00:00,  8.23it/s, est. speed input: 39916.93 toks/s, output: 387.22 toks/s]"
     ]
    },
    {
     "name": "stdout",
     "output_type": "stream",
     "text": [
      "extract_think количество ошибок:  0\n",
      "extract_sql количество ошибок:  0\n",
      "Закончили генерацию SQL запросов\n",
      "Начали скорр полученных SQL запросов\n"
     ]
    },
    {
     "name": "stderr",
     "output_type": "stream",
     "text": [
      "\n"
     ]
    },
    {
     "name": "stdout",
     "output_type": "stream",
     "text": [
      "Qwen3-8B DEV Финальный результат EX: 57.50\n",
      "Qwen3-8B процент запросов, которые успешно выполнились DEV: 95.70%\n",
      "====================================================================================================\n",
      "\n",
      "\n",
      "Загружаем чаты с данными...\n",
      "Данные успешно загружены\n",
      "Начали генерацию SQL запросов\n"
     ]
    },
    {
     "name": "stderr",
     "output_type": "stream",
     "text": [
      "Processed prompts: 100%|██████████| 1534/1534 [03:02<00:00,  8.43it/s, est. speed input: 40360.96 toks/s, output: 392.33 toks/s]"
     ]
    },
    {
     "name": "stdout",
     "output_type": "stream",
     "text": [
      "extract_think количество ошибок:  0\n",
      "extract_sql количество ошибок:  0\n",
      "Закончили генерацию SQL запросов\n",
      "Начали скорр полученных SQL запросов\n"
     ]
    },
    {
     "name": "stderr",
     "output_type": "stream",
     "text": [
      "\n"
     ]
    },
    {
     "name": "stdout",
     "output_type": "stream",
     "text": [
      "Qwen3-8B DEV Финальный результат EX: 58.15\n",
      "Qwen3-8B процент запросов, которые успешно выполнились DEV: 96.02%\n",
      "====================================================================================================\n",
      "\n",
      "\n",
      "Загружаем чаты с данными...\n",
      "Данные успешно загружены\n",
      "Начали генерацию SQL запросов\n"
     ]
    },
    {
     "name": "stderr",
     "output_type": "stream",
     "text": [
      "Processed prompts: 100%|██████████| 1534/1534 [03:06<00:00,  8.23it/s, est. speed input: 39766.96 toks/s, output: 393.40 toks/s]"
     ]
    },
    {
     "name": "stdout",
     "output_type": "stream",
     "text": [
      "extract_think количество ошибок:  0\n",
      "extract_sql количество ошибок:  0\n",
      "Закончили генерацию SQL запросов\n",
      "Начали скорр полученных SQL запросов\n"
     ]
    },
    {
     "name": "stderr",
     "output_type": "stream",
     "text": [
      "\n"
     ]
    },
    {
     "name": "stdout",
     "output_type": "stream",
     "text": [
      "Qwen3-8B DEV Финальный результат EX: 58.08\n",
      "Qwen3-8B процент запросов, которые успешно выполнились DEV: 95.83%\n",
      "====================================================================================================\n",
      "\n",
      "\n",
      "Загружаем чаты с данными...\n",
      "Данные успешно загружены\n",
      "Начали генерацию SQL запросов\n"
     ]
    },
    {
     "name": "stderr",
     "output_type": "stream",
     "text": [
      "Processed prompts: 100%|██████████| 1534/1534 [03:08<00:00,  8.15it/s, est. speed input: 39581.35 toks/s, output: 390.85 toks/s]"
     ]
    },
    {
     "name": "stdout",
     "output_type": "stream",
     "text": [
      "extract_think количество ошибок:  0\n",
      "extract_sql количество ошибок:  0\n",
      "Закончили генерацию SQL запросов\n",
      "Начали скорр полученных SQL запросов\n"
     ]
    },
    {
     "name": "stderr",
     "output_type": "stream",
     "text": [
      "\n"
     ]
    },
    {
     "name": "stdout",
     "output_type": "stream",
     "text": [
      "Qwen3-8B DEV Финальный результат EX: 58.67\n",
      "Qwen3-8B процент запросов, которые успешно выполнились DEV: 95.50%\n",
      "====================================================================================================\n",
      "\n",
      "\n",
      "Загружаем чаты с данными...\n",
      "Данные успешно загружены\n",
      "Начали генерацию SQL запросов\n"
     ]
    },
    {
     "name": "stderr",
     "output_type": "stream",
     "text": [
      "Processed prompts: 100%|██████████| 1534/1534 [03:06<00:00,  8.24it/s, est. speed input: 39924.37 toks/s, output: 387.63 toks/s]"
     ]
    },
    {
     "name": "stdout",
     "output_type": "stream",
     "text": [
      "extract_think количество ошибок:  0\n",
      "extract_sql количество ошибок:  0\n",
      "Закончили генерацию SQL запросов\n",
      "Начали скорр полученных SQL запросов\n"
     ]
    },
    {
     "name": "stderr",
     "output_type": "stream",
     "text": [
      "\n"
     ]
    },
    {
     "name": "stdout",
     "output_type": "stream",
     "text": [
      "Qwen3-8B DEV Финальный результат EX: 58.15\n",
      "Qwen3-8B процент запросов, которые успешно выполнились DEV: 95.63%\n",
      "====================================================================================================\n",
      "\n",
      "\n",
      "Загружаем чаты с данными...\n",
      "Данные успешно загружены\n",
      "Начали генерацию SQL запросов\n"
     ]
    },
    {
     "name": "stderr",
     "output_type": "stream",
     "text": [
      "Processed prompts: 100%|██████████| 1534/1534 [03:09<00:00,  8.10it/s, est. speed input: 39459.74 toks/s, output: 382.79 toks/s]"
     ]
    },
    {
     "name": "stdout",
     "output_type": "stream",
     "text": [
      "extract_think количество ошибок:  0\n",
      "extract_sql количество ошибок:  0\n",
      "Закончили генерацию SQL запросов\n",
      "Начали скорр полученных SQL запросов\n"
     ]
    },
    {
     "name": "stderr",
     "output_type": "stream",
     "text": [
      "\n"
     ]
    },
    {
     "name": "stdout",
     "output_type": "stream",
     "text": [
      "Qwen3-8B DEV Финальный результат EX: 58.54\n",
      "Qwen3-8B процент запросов, которые успешно выполнились DEV: 95.31%\n",
      "====================================================================================================\n",
      "\n",
      "\n",
      "Загружаем чаты с данными...\n",
      "Данные успешно загружены\n",
      "Начали генерацию SQL запросов\n"
     ]
    },
    {
     "name": "stderr",
     "output_type": "stream",
     "text": [
      "Processed prompts: 100%|██████████| 1534/1534 [03:07<00:00,  8.18it/s, est. speed input: 39620.60 toks/s, output: 385.84 toks/s]"
     ]
    },
    {
     "name": "stdout",
     "output_type": "stream",
     "text": [
      "extract_think количество ошибок:  0\n",
      "extract_sql количество ошибок:  0\n",
      "Закончили генерацию SQL запросов\n",
      "Начали скорр полученных SQL запросов\n"
     ]
    },
    {
     "name": "stderr",
     "output_type": "stream",
     "text": [
      "\n"
     ]
    },
    {
     "name": "stdout",
     "output_type": "stream",
     "text": [
      "Qwen3-8B DEV Финальный результат EX: 57.56\n",
      "Qwen3-8B процент запросов, которые успешно выполнились DEV: 95.31%\n",
      "====================================================================================================\n",
      "\n",
      "\n",
      "Загружаем чаты с данными...\n",
      "Данные успешно загружены\n",
      "Начали генерацию SQL запросов\n"
     ]
    },
    {
     "name": "stderr",
     "output_type": "stream",
     "text": [
      "Processed prompts: 100%|██████████| 1534/1534 [03:03<00:00,  8.37it/s, est. speed input: 40543.44 toks/s, output: 388.65 toks/s]"
     ]
    },
    {
     "name": "stdout",
     "output_type": "stream",
     "text": [
      "extract_think количество ошибок:  0\n",
      "extract_sql количество ошибок:  0\n",
      "Закончили генерацию SQL запросов\n",
      "Начали скорр полученных SQL запросов\n"
     ]
    },
    {
     "name": "stderr",
     "output_type": "stream",
     "text": [
      "\n"
     ]
    },
    {
     "name": "stdout",
     "output_type": "stream",
     "text": [
      "Qwen3-8B DEV Финальный результат EX: 57.50\n",
      "Qwen3-8B процент запросов, которые успешно выполнились DEV: 95.57%\n",
      "====================================================================================================\n",
      "\n",
      "\n"
     ]
    }
   ],
   "source": [
    "run_cot_experiment(model,arr_seeds,arr_versions, type_cot,num_observations=num_observations)"
   ]
  },
  {
   "cell_type": "code",
   "execution_count": 33,
   "id": "297e4c3e-c5be-4721-b770-83fa97d03f5e",
   "metadata": {},
   "outputs": [
    {
     "name": "stdout",
     "output_type": "stream",
     "text": [
      "[572, 169, 137, 828, 72, 997, 205, 255, 120, 946, 231, 955, 817, 325, 824, 866, 456, 317, 120, 369]\n",
      "model: Qwen3-8B\n"
     ]
    }
   ],
   "source": [
    "n= 20\n",
    "arr_seeds = [random.randint(0,1000) for _ in range(n)]\n",
    "arr_versions = [x for x in range(n)]\n",
    "model = \"Qwen3-8B\"\n",
    "num_observations = 5\n",
    "type_cot = 'think'\n",
    "print(arr_seeds)\n",
    "print(f\"model: {model}\")"
   ]
  },
  {
   "cell_type": "code",
   "execution_count": 34,
   "id": "604c03b5-0971-48e5-8b26-be78a74e2b9d",
   "metadata": {
    "scrolled": true
   },
   "outputs": [
    {
     "name": "stdout",
     "output_type": "stream",
     "text": [
      "Загружаем модель...\n"
     ]
    },
    {
     "name": "stderr",
     "output_type": "stream",
     "text": [
      "Loading safetensors checkpoint shards:   0% Completed | 0/4 [00:00<?, ?it/s]\n",
      "Loading safetensors checkpoint shards:  25% Completed | 1/4 [00:00<00:00,  6.59it/s]\n",
      "Loading safetensors checkpoint shards:  50% Completed | 2/4 [00:00<00:00,  2.49it/s]\n",
      "Loading safetensors checkpoint shards:  75% Completed | 3/4 [00:01<00:00,  1.84it/s]\n",
      "Loading safetensors checkpoint shards: 100% Completed | 4/4 [00:02<00:00,  1.65it/s]\n",
      "Loading safetensors checkpoint shards: 100% Completed | 4/4 [00:02<00:00,  1.87it/s]\n",
      "\u001b[1;36m(VllmWorker rank=0 pid=273083)\u001b[0;0m \n"
     ]
    },
    {
     "name": "stdout",
     "output_type": "stream",
     "text": [
      "Модель успешно загружена\n",
      "model_config {'model': '/data/home/vkropoti/models/Qwen3-8B', 'tensor_parallel_size': 2, 'max_model_len': 40000, 'max_new_tokens': 1500, 'temperature': 0, 'top_k': 1, 'top_p': 0.8, 'gpu_memory_utilization': 0.9, 'trust_remote_code': False, 'seed': 572}\n",
      "\n",
      "prompts_config {'path_dev_json': '/home/vkropoti/vllm/dev.json', 'path_sql_dbs': '/data/home/vkropoti/sql_data/dev_databases/', 'use_reasoning': False, 'paths_to_cot': ['/data/home/vkropoti/sql_llm_answers/bird_dev/sql_think_Qwen3-8B-reasoning-v0', '/data/home/vkropoti/sql_llm_answers/bird_dev/sql_think_Qwen3-8B-reasoning-v1', '/data/home/vkropoti/sql_llm_answers/bird_dev/sql_think_Qwen3-8B-reasoning-v2', '/data/home/vkropoti/sql_llm_answers/bird_dev/sql_think_Qwen3-8B-reasoning-v3', '/data/home/vkropoti/sql_llm_answers/bird_dev/sql_think_Qwen3-8B-reasoning-v4']}\n",
      "\n",
      "save_config {'path_sql_save': '/data/home/vkropoti/sql_llm_answers/bird_dev/sql_all_Qwen3-8B-cot_think_think==False_nobs5-v0', 'path_think_save': None, 'path_sql_answers_save': '/data/home/vkropoti/sql_llm_answers/bird_dev/sql_predict_Qwen3-8B-cot_think_think==False_nobs5-v0', 'path_to_save_scores': '/data/home/vkropoti/sql_llm_answers/bird_dev/sql_results_Qwen3-8B-cot_think_think==False_nobs5-v0', 'path_to_save_executed': '/data/home/vkropoti/sql_llm_answers/bird_dev/sql_executed_Qwen3-8B-cot_think_think==False_nobs5-v0'}\n",
      "\n",
      "Модель успешно загружена\n",
      "Пример промпта\n",
      "<|im_start|>system\n",
      "\n",
      "You are a data science expert. Below, you are provided with a database schema and a natural language question. Your task is to understand the schema and generate a valid SQL query to answer the question.\n",
      "\n",
      "Database Engine: SQLite\n",
      "\n",
      "You will be given an additional analysis of other models, please take it into account, so the plan is\n",
      "1. Analyse given addition analysis from other models (find in which analysis the same and differ, how to use that to answer question)\n",
      "2. Combine best from previous part and think how to solve the problem (analyze tables, take care what columns avaliable in each table and so on, check the syntacsis)\n",
      "3. Create the answers. The answer should be only sql query.\n",
      "\n",
      "Carefully follow the instruction and add <|im_end|> and the end of the final answer<|im_end|>\n",
      "<|im_start|>user\n",
      "Here is addition analysis from other models which can be helpfull, please take this into account but be careful (choose the best from each analysis, combine them to make the most proper answer):\n",
      "\n",
      "model 0 analysis:\n",
      " Okay, I need to find the highest eligible free rate for K-12 students in schools located in Alameda County. Let's start by understanding the tables and the data available.\n",
      "\n",
      "First, the question involves two main tables: frpm and schools. The frpm table has the `Free Meal Count (K-12)` and `Enrollment (K-12)` columns needed to calculate the eligible free rate. The schools table has the County information, specifically the `County` column. \n",
      "\n",
      "So, the first step is to join these two tables on the CDSCode, which is the common key. The frpm table's CDSCode is a foreign key referencing the schools table's CDSCode. That makes sense. \n",
      "\n",
      "Next, I need to filter the schools in Alameda County. The schools table has a `County` column, so I'll add a WHERE clause to check if County equals 'Alameda'. \n",
      "\n",
      "Once the data is filtered, I need to calculate the eligible free rate using the formula provided: `Free Meal Count (K-12) / Enrollment (K-12)`. However, I should be cautious about division by zero. But since the question is about schools with data, maybe there's a safety net, but the problem might not require handling that here. \n",
      "\n",
      "The goal is to find the highest rate, so I'll use the MAX function on the calculated rate. But to do that, I need to compute the rate for each school and then find the maximum value. \n",
      "\n",
      "Putting it all together, the SQL query should select the maximum of the calculated rate from the joined tables where the County is Alameda. \n",
      "\n",
      "Wait, but the formula is Free Meal Count divided by Enrollment. So in SQL, that would be `Free Meal Count (K-12) / Enrollment (K-12)`. \n",
      "\n",
      "So the query structure would be: \n",
      "\n",
      "SELECT MAX(`Free Meal Count (K-12)` / `Enrollment (K-12)`) AS highest_rate\n",
      "FROM frpm\n",
      "JOIN schools ON frpm.CDSCode = schools.CDSCode\n",
      "WHERE schools.County = 'Alameda';\n",
      "\n",
      "But I should check if there are any schools in Alameda County. Also, ensure that the columns are correctly quoted since some have spaces. \n",
      "\n",
      "I should make sure that the JOIN is correctly using the CDSCode from both tables. Also, the schools table's County column is the right one to filter. \n",
      "\n",
      "I think that's all. The final query should select the maximum value of the calculated rate from the relevant schools.\n",
      "\n",
      "model 1 analysis:\n",
      " Okay, let's tackle this question. The user wants the highest eligible free rate for K-12 students in Alameda County. First, I need to figure out which tables and columns are involved.\n",
      "\n",
      "The eligible free rate is calculated as Free Meal Count (K-12) divided by Enrollment (K-12). The frpm table has these columns. But I also need to filter schools in Alameda County. The schools table has a County column. So I need to join frpm with schools on CDSCode to get the county information.\n",
      "\n",
      "Wait, the frpm table has a foreign key to schools' CDSCode, so joining them on CDSCode makes sense. Then, I can filter where County = 'Alameda'. Once I have the eligible free rate for each school, I need to find the maximum value. \n",
      "\n",
      "So the steps are: join frpm and schools on CDSCode, filter for Alameda County, calculate the ratio, and then select the maximum. But I need to make sure that Enrollment (K-12) isn't zero to avoid division by zero. However, the question might assume that enrollment is non-zero. \n",
      "\n",
      "The SQL query would select the maximum of (Free Meal Count / Enrollment) from the joined tables where County is Alameda. I should use the correct column names with backticks. Also, since the user wants only the highest rate, using MAX() on the calculated value should work. \n",
      "\n",
      "Wait, but the question says \"highest eligible free rate\", which is the percentage. So the calculation is (Free Meal Count / Enrollment) * 100. But the columns in frpm are Free Meal Count (K-12) and Enrollment (K-12). So the query would be:\n",
      "\n",
      "SELECT MAX(`Free Meal Count (K-12)` / `Enrollment (K-12)`) AS MaxRate\n",
      "FROM frpm\n",
      "JOIN schools ON frpm.CDSCode = schools.CDSCode\n",
      "WHERE schools.County = 'Alameda';\n",
      "\n",
      "But I need to check if the County column in schools is case-sensitive. The question says Alameda County, so the value in County might be 'Alameda'. Also, ensuring that Enrollment isn't zero. However, the problem might not require handling that. \n",
      "\n",
      "So the final query should join the tables, filter by County, compute the ratio, and find the maximum. That's the plan.\n",
      "\n",
      "model 2 analysis:\n",
      " Okay, I need to find the highest eligible free rate for K-12 students in schools located in Alameda County. Let's start by understanding the data structure and the tables involved.\n",
      "\n",
      "First, the question mentions \"eligible free rate for K-12,\" which is calculated as Free Meal Count (K-12) divided by Enrollment (K-12). The tables provided are frpm, satscores, and schools. The schools table has a County column, so I'll need to filter schools in Alameda County from there. \n",
      "\n",
      "The frpm table has the necessary columns for the free meal count and enrollment. However, I need to ensure that the schools in the frpm table are linked to the schools in the schools table. The frpm table has a CDSCode as the primary key, which is also a foreign key referencing the schools table's CDSCode. So, I can join these two tables on CDSCode.\n",
      "\n",
      "So the plan is: join frpm and schools on CDSCode where schools.County is 'Alameda'. Then compute the eligible free rate as (Free Meal Count (K-12) / Enrollment (K-12)) for each school. Finally, find the maximum value of this rate.\n",
      "\n",
      "Wait, but the question says \"highest eligible free rate,\" which is the maximum of the calculated rate. So I need to select the maximum value of (Free Meal Count / Enrollment) from the joined tables where County is Alameda.\n",
      "\n",
      "I need to make sure that the columns are correctly named. In the frpm table, the columns are `Free Meal Count (K-12)` and `Enrollment (K-12)`. The schools table's County column is named County. So the SQL query should join frpm and schools on CDSCode, filter where County = 'Alameda', and then calculate the rate. Then use MAX() to find the highest value.\n",
      "\n",
      "But wait, what if there are null values in Enrollment (K-12)? The question doesn't mention handling that, so I'll assume the data is clean. Also, division in SQL can be tricky. Since the columns are REAL, dividing them should work. So the query would be:\n",
      "\n",
      "SELECT MAX(`Free Meal Count (K-12)` / `Enrollment (K-12)`) AS MaxEligibleFreeRate\n",
      "FROM frpm\n",
      "JOIN schools ON frpm.CDSCode = schools.CDSCode\n",
      "WHERE schools.County = 'Alameda';\n",
      "\n",
      "But I need to check if the County column in schools is named correctly. Yes, the schools table has a County column. So this should work. That's the final query.\n",
      "\n",
      "model 3 analysis:\n",
      " Okay, I need to find the highest eligible free rate for K-12 students in schools located in Alameda County. Let's break this down step by step.\n",
      "\n",
      "First, the question mentions \"eligible free rate for K-12,\" which the external knowledge defines as `Free Meal Count (K-12)` divided by `Enrollment (K-12)`. So I'll need to calculate this ratio for each school. But I need to make sure that division is handled correctly, maybe using real numbers to avoid integer division issues.\n",
      "\n",
      "Next, the schools are in Alameda County. The `frpm` table has a `County Name` column, so I should filter schools where `County Name` is 'Alameda'. However, I should check if the `frpm` table has the necessary data. The `frpm` table's columns include `County Name`, so that's where I'll get the county information.\n",
      "\n",
      "Wait, but the `schools` table also has a `County` column. Which one should I use? The question refers to \"Alameda County,\" and the `frpm` table's `County Name` might be the right column. But I should confirm. However, since the `frpm` table is linked via `CDSCode` to the `schools` table, maybe the `County Name` in `frpm` is the correct one. But perhaps the `schools` table's `County` column is more accurate. Hmm. But the user's external knowledge might assume using `frpm`'s `County Name`. Let me check the tables again.\n",
      "\n",
      "The `frpm` table has a `County Name` column, and the `schools` table has a `County` column. The question is about schools in Alameda County. The `frpm` table's `County Name` likely refers to the county where the school is located. But maybe I should cross-reference. However, the `frpm` table is linked to `schools` via `CDSCode`, so if I use `frpm`'s `County Name`, that's the right approach. But the user's question might have the `County` column in `schools` as the correct one. Wait, the question doesn't specify which table's county to use, but the external knowledge's formula uses columns from `frpm`. So perhaps the `County Name` in `frpm` is the correct one.\n",
      "\n",
      "So the plan is: join the `frpm` table with the `schools` table on `CDSCode`, filter where `County Name` is 'Alameda', calculate the eligible free rate as `Free Meal Count (K-12) / Enrollment (K-12)`, and then find the maximum value of that rate.\n",
      "\n",
      "Wait, but the `frpm` table might not have all the schools. The `schools` table has a `CDSCode` as primary key, and `frpm` has a foreign key to `schools`'s `CDSCode`. So `frpm` might have entries for schools that are in the `schools` table. But if I need to get the county information, I should use the `County Name` from `frpm` because it's directly related to the school's location. But maybe the `schools` table's `County` is more accurate. However, the user's external knowledge uses `frpm`'s columns, so I should use `frpm`'s `County Name`.\n",
      "\n",
      "So, the SQL query would select the `Free Meal Count (K-12)` and `Enrollment (K-12)` from `frpm` where `County Name` is 'Alameda', calculate the ratio, and find the maximum. But I need to ensure that `Enrollment (K-12)` is not zero to avoid division by zero. However, the question doesn't mention handling that, so maybe it's safe to proceed.\n",
      "\n",
      "So the steps are:\n",
      "\n",
      "1. Select from `frpm` where `County Name` = 'Alameda'.\n",
      "2. Calculate `Free Meal Count (K-12) / Enrollment (K-12)` as the eligible free rate.\n",
      "3. Find the maximum value of this rate.\n",
      "\n",
      "But I need to make sure that the columns are correctly referenced. The `frpm` table has `Free Meal Count (K-12)` and `Enrollment (K-12)` as columns. Also, the `County Name` is in `frpm`.\n",
      "\n",
      "So the SQL query would be:\n",
      "\n",
      "SELECT MAX(`Free Meal Count (K-12)` / `Enrollment (K-12)`) AS highest_eligible_free_rate\n",
      "FROM frpm\n",
      "WHERE `County Name` = 'Alameda';\n",
      "\n",
      "Wait, but what if there are schools with zero enrollment? The division would result in NULL or an error. However, the problem doesn't mention handling that, so perhaps it's acceptable. Also, the question might assume that the data is valid.\n",
      "\n",
      "But the user's question asks for the highest eligible free rate, so the query should return a single value. Using MAX on the calculated ratio would give the maximum.\n",
      "\n",
      "So the final SQL query should be as above.\n",
      "\n",
      "model 4 analysis:\n",
      " Okay, let's tackle this question. The user wants the highest eligible free rate for K-12 students in Alameda County. First, I need to figure out which tables and columns are relevant.\n",
      "\n",
      "The eligible free rate is calculated as Free Meal Count (K-12) divided by Enrollment (K-12). So I need to get those two values from the frpm table. But wait, the schools are in Alameda County, so I need to link the frpm table with the schools table to check the county.\n",
      "\n",
      "Looking at the tables, the frpm table has a County Name column, but the schools table has a County column. The frpm's CDSCode is a foreign key to schools' CDSCode. So I should join frpm with schools on CDSCode to get the county information.\n",
      "\n",
      "Wait, the question specifies Alameda County. So I need to filter where schools.County = 'Alameda'. But the frpm table has County Name, but maybe the schools table's County is more accurate. Let me check the tables again. The schools table has a County column, which is likely the correct one to use for filtering. So I should join frpm and schools on CDSCode, then filter where schools.County is 'Alameda'.\n",
      "\n",
      "Once I have the correct schools in Alameda County, I can calculate the eligible free rate as Free Meal Count divided by Enrollment. Then, I need to find the maximum value of that rate. So the SQL query should select the maximum of (Free Meal Count / Enrollment) from the joined tables where County is Alameda.\n",
      "\n",
      "Wait, but the columns in frpm are named with backticks because they have spaces. So in the query, I need to use `Free Meal Count (K-12)` and `Enrollment (K-12)`. Also, the schools table's County column is named County. So the join condition is frpm.CDSCode = schools.CDSCode.\n",
      "\n",
      "Putting it all together: join frpm and schools on CDSCode, filter where schools.County = 'Alameda', compute the ratio, and find the maximum. The final query would use MAX(`Free Meal Count (K-12)` / `Enrollment (K-12)`) as the select clause, joined with the schools table where County is Alameda. Make sure to handle possible nulls, but since the question is about schools in Alameda, maybe the data is present.\n",
      "\n",
      "\n",
      "here is avaliable tables below\n",
      "\n",
      "\n",
      "Table: frpm\n",
      "CREATE TABLE frpm\n",
      "(\n",
      "    CDSCode                                       TEXT not null\n",
      "        primary key,\n",
      "    `Academic Year`                               TEXT  null,\n",
      "    `County Code`                                 TEXT  null,\n",
      "    `District Code`                               INTEGER         null,\n",
      "    `School Code`                                 TEXT  null,\n",
      "    `County Name`                                 TEXT null,\n",
      "    `District Name`                               TEXT null,\n",
      "    `School Name`                                 TEXT null,\n",
      "    `District Type`                               TEXT null,\n",
      "    `School Type`                                 TEXT null,\n",
      "    `Educational Option Type`                     TEXT null,\n",
      "    `NSLP Provision Status`                       TEXT null,\n",
      "    `Charter School (Y/N)`                        INTEGER    null,\n",
      "    `Charter School Number`                       TEXT  null,\n",
      "    `Charter Funding Type`                        TEXT null,\n",
      "    IRC                                           INTEGER    null,\n",
      "    `Low Grade`                                   TEXT  null,\n",
      "    `High Grade`                                  TEXT null,\n",
      "    `Enrollment (K-12)`                           REAL      null,\n",
      "    `Free Meal Count (K-12)`                      REAL       null,\n",
      "    `Percent (%) Eligible Free (K-12)`            REAL       null,\n",
      "    `FRPM Count (K-12)`                           REAL       null,\n",
      "    `Percent (%) Eligible FRPM (K-12)`            REAL       null,\n",
      "    `Enrollment (Ages 5-17)`                      REAL       null,\n",
      "    `Free Meal Count (Ages 5-17)`                 REAL       null,\n",
      "    `Percent (%) Eligible Free (Ages 5-17)`       REAL       null,\n",
      "    `FRPM Count (Ages 5-17)`                      REAL       null,\n",
      "    `Percent (%) Eligible FRPM (Ages 5-17)`       REAL       null,\n",
      "    `2013-14 CALPADS Fall 1 Certification Status` INTEGER    null,\n",
      "    foreign key (CDSCode) references schools (CDSCode)\n",
      ")\n",
      "\n",
      "Table: satscores\n",
      "CREATE TABLE satscores\n",
      "(\n",
      "    cds         TEXT not null\n",
      "        primary key,\n",
      "    rtype       TEXT  not null,\n",
      "    sname       TEXT null,\n",
      "    dname       TEXT null,\n",
      "    cname       TEXT null,\n",
      "    enroll12    INTEGER         not null,\n",
      "    NumTstTakr  INTEGER          not null,\n",
      "    AvgScrRead  INTEGER          null,\n",
      "    AvgScrMath  INTEGER          null,\n",
      "    AvgScrWrite INTEGER          null,\n",
      "    NumGE1500   INTEGER          null,\n",
      "--     PctGE1500   double      null,\n",
      "        foreign key (cds) references schools (CDSCode)\n",
      ")\n",
      "\n",
      "Table: schools\n",
      "CREATE TABLE schools\n",
      "(\n",
      "    CDSCode     TEXT not null\n",
      "        primary key,\n",
      "    NCESDist    TEXT  null,\n",
      "    NCESSchool  TEXT  null,\n",
      "    StatusType  TEXT  not null,\n",
      "    County      TEXT not null,\n",
      "    District    TEXT not null,\n",
      "    School      TEXT null,\n",
      "    Street      TEXT null,\n",
      "    StreetAbr   TEXT null,\n",
      "    City        TEXT null,\n",
      "    Zip         TEXT null,\n",
      "    State       TEXT  null,\n",
      "    MailStreet  TEXT null,\n",
      "    MailStrAbr  TEXT null,\n",
      "    MailCity    TEXT null,\n",
      "    MailZip     TEXT null,\n",
      "    MailState   TEXT  null,\n",
      "    Phone       TEXT null,\n",
      "    Ext         TEXT  null,\n",
      "    Website     TEXT null,\n",
      "    OpenDate    DATE        null,\n",
      "    ClosedDate  DATE        null,\n",
      "    Charter     INTEGER    null,\n",
      "    CharterNum  TEXT  null,\n",
      "    FundingType TEXT null,\n",
      "    DOC         TEXT  not null,\n",
      "    DOCType     TEXT not null,\n",
      "    SOC         TEXT  null,\n",
      "    SOCType     TEXT null,\n",
      "    EdOpsCode   TEXT  null,\n",
      "    EdOpsName   TEXT null,\n",
      "    EILCode     TEXT  null,\n",
      "    EILName     TEXT null,\n",
      "    GSoffered   TEXT null,\n",
      "    GSserved    TEXT  null,\n",
      "    Virtual     TEXT  null,\n",
      "    Magnet      INTEGER   null,\n",
      "    Latitude    REAL      null,\n",
      "    Longitude   REAL      null,\n",
      "    AdmFName1   TEXT null,\n",
      "    AdmLName1   TEXT null,\n",
      "    AdmEmail1   TEXT null,\n",
      "    AdmFName2   TEXT null,\n",
      "    AdmLName2   TEXT null,\n",
      "    AdmEmail2   TEXT null,\n",
      "    AdmFName3   TEXT  null,\n",
      "    AdmLName3   TEXT null,\n",
      "    AdmEmail3   TEXT null,\n",
      "    LastUpdate  DATE        not null\n",
      ")\n",
      "\n",
      "-- Using valid SQLite and understanding External Knowledge, answer the following questions for the tables provided above.\n",
      "-- What is the highest eligible free rate for K-12 students in the schools in Alameda County?\n",
      "-- External Knowledge: Eligible free rate for K-12 = `Free Meal Count (K-12)` / `Enrollment (K-12)`\n",
      "\n",
      "\n",
      "Generate the SQLite for the above question after thinking step by step: \n",
      "\n",
      "\n",
      "Instructions:\n",
      "- Make sure you only output the information that is asked in the question. If the question asks for a specific column, make sure to only include that column in the SELECT clause, nothing more.\n",
      "- The generated query should return all of the information asked in the question without any missing or extra information.\n",
      "- Before generating the final SQL query, please think through the steps of how to write the query.\n",
      "- Do not misuse column names, keep them in quotes `\n",
      "- Carefully understand what colomns belond to what tables\n",
      "- Use only initial column names, change names prohibited\n",
      "        \n",
      "Output Format:\n",
      "In your answer, please enclose the generated SQL query in a code block:\n",
      "```\n",
      "-- Your SQL query\n",
      "```    \n",
      "and nothing else, no exaplains, no comments (asnwer should be less than 512 characters)\n",
      "\n",
      "Take a deep breath and think step by step to find the correct SQL query in SQLite format.\n",
      "\n",
      "Question repetition: What is the highest eligible free rate for K-12 students in the schools in Alameda County?\n",
      "\n",
      "Be care! Include only what i want it questiona and nothing else<|im_end|>\n",
      "<|im_start|>assistant\n",
      "<think>\n",
      "\n",
      "</think>\n",
      "\n",
      "\n",
      "\n",
      "\n",
      "Максимальное количество токенов в промптах: 23383\n",
      "\n",
      "начинаем скорринг\n",
      "Загружаем чаты с данными...\n",
      "Данные успешно загружены\n",
      "Начали генерацию SQL запросов\n"
     ]
    },
    {
     "name": "stderr",
     "output_type": "stream",
     "text": [
      "Processed prompts: 100%|██████████| 1534/1534 [03:47<00:00,  6.74it/s, est. speed input: 38791.32 toks/s, output: 314.59 toks/s]"
     ]
    },
    {
     "name": "stdout",
     "output_type": "stream",
     "text": [
      "extract_think количество ошибок:  0\n",
      "extract_sql количество ошибок:  0\n",
      "Закончили генерацию SQL запросов\n",
      "Начали скорр полученных SQL запросов\n"
     ]
    },
    {
     "name": "stderr",
     "output_type": "stream",
     "text": [
      "\n"
     ]
    },
    {
     "name": "stdout",
     "output_type": "stream",
     "text": [
      "Qwen3-8B DEV Финальный результат EX: 57.82\n",
      "Qwen3-8B процент запросов, которые успешно выполнились DEV: 95.63%\n",
      "====================================================================================================\n",
      "\n",
      "\n",
      "Загружаем чаты с данными...\n",
      "Данные успешно загружены\n",
      "Начали генерацию SQL запросов\n"
     ]
    },
    {
     "name": "stderr",
     "output_type": "stream",
     "text": [
      "Processed prompts: 100%|██████████| 1534/1534 [03:45<00:00,  6.79it/s, est. speed input: 39022.15 toks/s, output: 315.11 toks/s]"
     ]
    },
    {
     "name": "stdout",
     "output_type": "stream",
     "text": [
      "extract_think количество ошибок:  0\n",
      "extract_sql количество ошибок:  0\n",
      "Закончили генерацию SQL запросов\n",
      "Начали скорр полученных SQL запросов\n"
     ]
    },
    {
     "name": "stderr",
     "output_type": "stream",
     "text": [
      "\n"
     ]
    },
    {
     "name": "stdout",
     "output_type": "stream",
     "text": [
      "Qwen3-8B DEV Финальный результат EX: 57.69\n",
      "Qwen3-8B процент запросов, которые успешно выполнились DEV: 94.98%\n",
      "====================================================================================================\n",
      "\n",
      "\n",
      "Загружаем чаты с данными...\n",
      "Данные успешно загружены\n",
      "Начали генерацию SQL запросов\n"
     ]
    },
    {
     "name": "stderr",
     "output_type": "stream",
     "text": [
      "Processed prompts: 100%|██████████| 1534/1534 [03:47<00:00,  6.76it/s, est. speed input: 38810.66 toks/s, output: 315.99 toks/s]"
     ]
    },
    {
     "name": "stdout",
     "output_type": "stream",
     "text": [
      "extract_think количество ошибок:  0\n",
      "extract_sql количество ошибок:  0\n",
      "Закончили генерацию SQL запросов\n",
      "Начали скорр полученных SQL запросов\n"
     ]
    },
    {
     "name": "stderr",
     "output_type": "stream",
     "text": [
      "\n"
     ]
    },
    {
     "name": "stdout",
     "output_type": "stream",
     "text": [
      "Qwen3-8B DEV Финальный результат EX: 57.69\n",
      "Qwen3-8B процент запросов, которые успешно выполнились DEV: 95.57%\n",
      "====================================================================================================\n",
      "\n",
      "\n",
      "Загружаем чаты с данными...\n",
      "Данные успешно загружены\n",
      "Начали генерацию SQL запросов\n"
     ]
    },
    {
     "name": "stderr",
     "output_type": "stream",
     "text": [
      "Processed prompts: 100%|██████████| 1534/1534 [03:48<00:00,  6.73it/s, est. speed input: 38834.90 toks/s, output: 315.25 toks/s]"
     ]
    },
    {
     "name": "stdout",
     "output_type": "stream",
     "text": [
      "extract_think количество ошибок:  0\n",
      "extract_sql количество ошибок:  0\n",
      "Закончили генерацию SQL запросов\n",
      "Начали скорр полученных SQL запросов\n"
     ]
    },
    {
     "name": "stderr",
     "output_type": "stream",
     "text": [
      "\n"
     ]
    },
    {
     "name": "stdout",
     "output_type": "stream",
     "text": [
      "Qwen3-8B DEV Финальный результат EX: 57.56\n",
      "Qwen3-8B процент запросов, которые успешно выполнились DEV: 95.76%\n",
      "====================================================================================================\n",
      "\n",
      "\n",
      "Загружаем чаты с данными...\n",
      "Данные успешно загружены\n",
      "Начали генерацию SQL запросов\n"
     ]
    },
    {
     "name": "stderr",
     "output_type": "stream",
     "text": [
      "Processed prompts: 100%|██████████| 1534/1534 [03:51<00:00,  6.62it/s, est. speed input: 38309.66 toks/s, output: 314.66 toks/s]"
     ]
    },
    {
     "name": "stdout",
     "output_type": "stream",
     "text": [
      "extract_think количество ошибок:  0\n",
      "extract_sql количество ошибок:  0\n",
      "Закончили генерацию SQL запросов\n",
      "Начали скорр полученных SQL запросов\n"
     ]
    },
    {
     "name": "stderr",
     "output_type": "stream",
     "text": [
      "\n"
     ]
    },
    {
     "name": "stdout",
     "output_type": "stream",
     "text": [
      "Qwen3-8B DEV Финальный результат EX: 57.56\n",
      "Qwen3-8B процент запросов, которые успешно выполнились DEV: 95.63%\n",
      "====================================================================================================\n",
      "\n",
      "\n",
      "Загружаем чаты с данными...\n",
      "Данные успешно загружены\n",
      "Начали генерацию SQL запросов\n"
     ]
    },
    {
     "name": "stderr",
     "output_type": "stream",
     "text": [
      "Processed prompts: 100%|██████████| 1534/1534 [03:45<00:00,  6.81it/s, est. speed input: 38996.86 toks/s, output: 323.17 toks/s]"
     ]
    },
    {
     "name": "stdout",
     "output_type": "stream",
     "text": [
      "extract_think количество ошибок:  0\n",
      "extract_sql количество ошибок:  0\n",
      "Закончили генерацию SQL запросов\n",
      "Начали скорр полученных SQL запросов\n"
     ]
    },
    {
     "name": "stderr",
     "output_type": "stream",
     "text": [
      "\n"
     ]
    },
    {
     "name": "stdout",
     "output_type": "stream",
     "text": [
      "Qwen3-8B DEV Финальный результат EX: 58.02\n",
      "Qwen3-8B процент запросов, которые успешно выполнились DEV: 95.89%\n",
      "====================================================================================================\n",
      "\n",
      "\n",
      "Загружаем чаты с данными...\n",
      "Данные успешно загружены\n",
      "Начали генерацию SQL запросов\n"
     ]
    },
    {
     "name": "stderr",
     "output_type": "stream",
     "text": [
      "Processed prompts: 100%|██████████| 1534/1534 [03:47<00:00,  6.75it/s, est. speed input: 38993.90 toks/s, output: 317.09 toks/s]"
     ]
    },
    {
     "name": "stdout",
     "output_type": "stream",
     "text": [
      "extract_think количество ошибок:  0\n",
      "extract_sql количество ошибок:  0\n",
      "Закончили генерацию SQL запросов\n",
      "Начали скорр полученных SQL запросов\n"
     ]
    },
    {
     "name": "stderr",
     "output_type": "stream",
     "text": [
      "\n"
     ]
    },
    {
     "name": "stdout",
     "output_type": "stream",
     "text": [
      "Qwen3-8B DEV Финальный результат EX: 56.26\n",
      "Qwen3-8B процент запросов, которые успешно выполнились DEV: 96.09%\n",
      "====================================================================================================\n",
      "\n",
      "\n",
      "Загружаем чаты с данными...\n",
      "Данные успешно загружены\n",
      "Начали генерацию SQL запросов\n"
     ]
    },
    {
     "name": "stderr",
     "output_type": "stream",
     "text": [
      "Processed prompts: 100%|██████████| 1534/1534 [03:49<00:00,  6.67it/s, est. speed input: 38735.50 toks/s, output: 312.26 toks/s]"
     ]
    },
    {
     "name": "stdout",
     "output_type": "stream",
     "text": [
      "extract_think количество ошибок:  0\n",
      "extract_sql количество ошибок:  0\n",
      "Закончили генерацию SQL запросов\n",
      "Начали скорр полученных SQL запросов\n"
     ]
    },
    {
     "name": "stderr",
     "output_type": "stream",
     "text": [
      "\n"
     ]
    },
    {
     "name": "stdout",
     "output_type": "stream",
     "text": [
      "Qwen3-8B DEV Финальный результат EX: 57.17\n",
      "Qwen3-8B процент запросов, которые успешно выполнились DEV: 95.50%\n",
      "====================================================================================================\n",
      "\n",
      "\n",
      "Загружаем чаты с данными...\n",
      "Данные успешно загружены\n",
      "Начали генерацию SQL запросов\n"
     ]
    },
    {
     "name": "stderr",
     "output_type": "stream",
     "text": [
      "Processed prompts: 100%|██████████| 1534/1534 [03:50<00:00,  6.66it/s, est. speed input: 38555.92 toks/s, output: 316.88 toks/s]"
     ]
    },
    {
     "name": "stdout",
     "output_type": "stream",
     "text": [
      "extract_think количество ошибок:  0\n",
      "extract_sql количество ошибок:  0\n",
      "Закончили генерацию SQL запросов\n",
      "Начали скорр полученных SQL запросов\n"
     ]
    },
    {
     "name": "stderr",
     "output_type": "stream",
     "text": [
      "\n"
     ]
    },
    {
     "name": "stdout",
     "output_type": "stream",
     "text": [
      "Qwen3-8B DEV Финальный результат EX: 57.76\n",
      "Qwen3-8B процент запросов, которые успешно выполнились DEV: 96.22%\n",
      "====================================================================================================\n",
      "\n",
      "\n",
      "Загружаем чаты с данными...\n",
      "Данные успешно загружены\n",
      "Начали генерацию SQL запросов\n"
     ]
    },
    {
     "name": "stderr",
     "output_type": "stream",
     "text": [
      "Processed prompts: 100%|██████████| 1534/1534 [03:47<00:00,  6.73it/s, est. speed input: 38770.98 toks/s, output: 316.48 toks/s]"
     ]
    },
    {
     "name": "stdout",
     "output_type": "stream",
     "text": [
      "extract_think количество ошибок:  0\n",
      "extract_sql количество ошибок:  0\n",
      "Закончили генерацию SQL запросов\n",
      "Начали скорр полученных SQL запросов\n"
     ]
    },
    {
     "name": "stderr",
     "output_type": "stream",
     "text": [
      "\n"
     ]
    },
    {
     "name": "stdout",
     "output_type": "stream",
     "text": [
      "Qwen3-8B DEV Финальный результат EX: 57.50\n",
      "Qwen3-8B процент запросов, которые успешно выполнились DEV: 95.96%\n",
      "====================================================================================================\n",
      "\n",
      "\n",
      "Загружаем чаты с данными...\n",
      "Данные успешно загружены\n",
      "Начали генерацию SQL запросов\n"
     ]
    },
    {
     "name": "stderr",
     "output_type": "stream",
     "text": [
      "Processed prompts: 100%|██████████| 1534/1534 [03:47<00:00,  6.74it/s, est. speed input: 38916.50 toks/s, output: 312.57 toks/s]"
     ]
    },
    {
     "name": "stdout",
     "output_type": "stream",
     "text": [
      "extract_think количество ошибок:  0\n",
      "extract_sql количество ошибок:  0\n",
      "Закончили генерацию SQL запросов\n",
      "Начали скорр полученных SQL запросов\n"
     ]
    },
    {
     "name": "stderr",
     "output_type": "stream",
     "text": [
      "\n"
     ]
    },
    {
     "name": "stdout",
     "output_type": "stream",
     "text": [
      "Qwen3-8B DEV Финальный результат EX: 58.02\n",
      "Qwen3-8B процент запросов, которые успешно выполнились DEV: 95.89%\n",
      "====================================================================================================\n",
      "\n",
      "\n",
      "Загружаем чаты с данными...\n",
      "Данные успешно загружены\n",
      "Начали генерацию SQL запросов\n"
     ]
    },
    {
     "name": "stderr",
     "output_type": "stream",
     "text": [
      "Processed prompts: 100%|██████████| 1534/1534 [03:44<00:00,  6.82it/s, est. speed input: 39178.99 toks/s, output: 318.43 toks/s]"
     ]
    },
    {
     "name": "stdout",
     "output_type": "stream",
     "text": [
      "extract_think количество ошибок:  0\n",
      "extract_sql количество ошибок:  0\n",
      "Закончили генерацию SQL запросов\n",
      "Начали скорр полученных SQL запросов\n"
     ]
    },
    {
     "name": "stderr",
     "output_type": "stream",
     "text": [
      "\n"
     ]
    },
    {
     "name": "stdout",
     "output_type": "stream",
     "text": [
      "Qwen3-8B DEV Финальный результат EX: 57.95\n",
      "Qwen3-8B процент запросов, которые успешно выполнились DEV: 96.09%\n",
      "====================================================================================================\n",
      "\n",
      "\n",
      "Загружаем чаты с данными...\n",
      "Данные успешно загружены\n",
      "Начали генерацию SQL запросов\n"
     ]
    },
    {
     "name": "stderr",
     "output_type": "stream",
     "text": [
      "Processed prompts: 100%|██████████| 1534/1534 [03:41<00:00,  6.94it/s, est. speed input: 39389.95 toks/s, output: 323.34 toks/s]"
     ]
    },
    {
     "name": "stdout",
     "output_type": "stream",
     "text": [
      "extract_think количество ошибок:  0\n",
      "extract_sql количество ошибок:  0\n",
      "Закончили генерацию SQL запросов\n",
      "Начали скорр полученных SQL запросов\n"
     ]
    },
    {
     "name": "stderr",
     "output_type": "stream",
     "text": [
      "\n"
     ]
    },
    {
     "name": "stdout",
     "output_type": "stream",
     "text": [
      "Qwen3-8B DEV Финальный результат EX: 57.95\n",
      "Qwen3-8B процент запросов, которые успешно выполнились DEV: 95.63%\n",
      "====================================================================================================\n",
      "\n",
      "\n",
      "Загружаем чаты с данными...\n",
      "Данные успешно загружены\n",
      "Начали генерацию SQL запросов\n"
     ]
    },
    {
     "name": "stderr",
     "output_type": "stream",
     "text": [
      "Processed prompts: 100%|██████████| 1534/1534 [03:42<00:00,  6.89it/s, est. speed input: 39190.21 toks/s, output: 322.20 toks/s]"
     ]
    },
    {
     "name": "stdout",
     "output_type": "stream",
     "text": [
      "extract_think количество ошибок:  0\n",
      "extract_sql количество ошибок:  0\n",
      "Закончили генерацию SQL запросов\n",
      "Начали скорр полученных SQL запросов\n"
     ]
    },
    {
     "name": "stderr",
     "output_type": "stream",
     "text": [
      "\n"
     ]
    },
    {
     "name": "stdout",
     "output_type": "stream",
     "text": [
      "Qwen3-8B DEV Финальный результат EX: 58.87\n",
      "Qwen3-8B процент запросов, которые успешно выполнились DEV: 96.15%\n",
      "====================================================================================================\n",
      "\n",
      "\n",
      "Загружаем чаты с данными...\n",
      "Данные успешно загружены\n",
      "Начали генерацию SQL запросов\n"
     ]
    },
    {
     "name": "stderr",
     "output_type": "stream",
     "text": [
      "Processed prompts: 100%|██████████| 1534/1534 [03:44<00:00,  6.83it/s, est. speed input: 38928.74 toks/s, output: 324.41 toks/s]"
     ]
    },
    {
     "name": "stdout",
     "output_type": "stream",
     "text": [
      "extract_think количество ошибок:  0\n",
      "extract_sql количество ошибок:  0\n",
      "Закончили генерацию SQL запросов\n",
      "Начали скорр полученных SQL запросов\n"
     ]
    },
    {
     "name": "stderr",
     "output_type": "stream",
     "text": [
      "\n"
     ]
    },
    {
     "name": "stdout",
     "output_type": "stream",
     "text": [
      "Qwen3-8B DEV Финальный результат EX: 58.80\n",
      "Qwen3-8B процент запросов, которые успешно выполнились DEV: 95.83%\n",
      "====================================================================================================\n",
      "\n",
      "\n",
      "Загружаем чаты с данными...\n",
      "Данные успешно загружены\n",
      "Начали генерацию SQL запросов\n"
     ]
    },
    {
     "name": "stderr",
     "output_type": "stream",
     "text": [
      "Processed prompts: 100%|██████████| 1534/1534 [03:47<00:00,  6.75it/s, est. speed input: 38587.01 toks/s, output: 321.88 toks/s]"
     ]
    },
    {
     "name": "stdout",
     "output_type": "stream",
     "text": [
      "extract_think количество ошибок:  0\n",
      "extract_sql количество ошибок:  0\n",
      "Закончили генерацию SQL запросов\n",
      "Начали скорр полученных SQL запросов\n"
     ]
    },
    {
     "name": "stderr",
     "output_type": "stream",
     "text": [
      "\n"
     ]
    },
    {
     "name": "stdout",
     "output_type": "stream",
     "text": [
      "Qwen3-8B DEV Финальный результат EX: 58.28\n",
      "Qwen3-8B процент запросов, которые успешно выполнились DEV: 95.57%\n",
      "====================================================================================================\n",
      "\n",
      "\n",
      "Загружаем чаты с данными...\n",
      "Данные успешно загружены\n",
      "Начали генерацию SQL запросов\n"
     ]
    },
    {
     "name": "stderr",
     "output_type": "stream",
     "text": [
      "Processed prompts: 100%|██████████| 1534/1534 [03:46<00:00,  6.77it/s, est. speed input: 38578.95 toks/s, output: 322.59 toks/s]"
     ]
    },
    {
     "name": "stdout",
     "output_type": "stream",
     "text": [
      "extract_think количество ошибок:  0\n",
      "extract_sql количество ошибок:  0\n",
      "Закончили генерацию SQL запросов\n",
      "Начали скорр полученных SQL запросов\n"
     ]
    },
    {
     "name": "stderr",
     "output_type": "stream",
     "text": [
      "\n"
     ]
    },
    {
     "name": "stdout",
     "output_type": "stream",
     "text": [
      "Qwen3-8B DEV Финальный результат EX: 58.34\n",
      "Qwen3-8B процент запросов, которые успешно выполнились DEV: 95.37%\n",
      "====================================================================================================\n",
      "\n",
      "\n",
      "Загружаем чаты с данными...\n",
      "Данные успешно загружены\n",
      "Начали генерацию SQL запросов\n"
     ]
    },
    {
     "name": "stderr",
     "output_type": "stream",
     "text": [
      "Processed prompts: 100%|██████████| 1534/1534 [03:47<00:00,  6.74it/s, est. speed input: 38683.86 toks/s, output: 316.69 toks/s]"
     ]
    },
    {
     "name": "stdout",
     "output_type": "stream",
     "text": [
      "extract_think количество ошибок:  0\n",
      "extract_sql количество ошибок:  0\n",
      "Закончили генерацию SQL запросов\n",
      "Начали скорр полученных SQL запросов\n"
     ]
    },
    {
     "name": "stderr",
     "output_type": "stream",
     "text": [
      "\n"
     ]
    },
    {
     "name": "stdout",
     "output_type": "stream",
     "text": [
      "Qwen3-8B DEV Финальный результат EX: 58.15\n",
      "Qwen3-8B процент запросов, которые успешно выполнились DEV: 95.11%\n",
      "====================================================================================================\n",
      "\n",
      "\n",
      "Загружаем чаты с данными...\n",
      "Данные успешно загружены\n",
      "Начали генерацию SQL запросов\n"
     ]
    },
    {
     "name": "stderr",
     "output_type": "stream",
     "text": [
      "Processed prompts: 100%|██████████| 1534/1534 [03:43<00:00,  6.86it/s, est. speed input: 39204.97 toks/s, output: 320.93 toks/s]"
     ]
    },
    {
     "name": "stdout",
     "output_type": "stream",
     "text": [
      "extract_think количество ошибок:  0\n",
      "extract_sql количество ошибок:  0\n",
      "Закончили генерацию SQL запросов\n",
      "Начали скорр полученных SQL запросов\n"
     ]
    },
    {
     "name": "stderr",
     "output_type": "stream",
     "text": [
      "\n"
     ]
    },
    {
     "name": "stdout",
     "output_type": "stream",
     "text": [
      "Qwen3-8B DEV Финальный результат EX: 58.41\n",
      "Qwen3-8B процент запросов, которые успешно выполнились DEV: 95.57%\n",
      "====================================================================================================\n",
      "\n",
      "\n",
      "Загружаем чаты с данными...\n",
      "Данные успешно загружены\n",
      "Начали генерацию SQL запросов\n"
     ]
    },
    {
     "name": "stderr",
     "output_type": "stream",
     "text": [
      "Processed prompts: 100%|██████████| 1534/1534 [03:46<00:00,  6.79it/s, est. speed input: 38834.06 toks/s, output: 318.69 toks/s]"
     ]
    },
    {
     "name": "stdout",
     "output_type": "stream",
     "text": [
      "extract_think количество ошибок:  0\n",
      "extract_sql количество ошибок:  0\n",
      "Закончили генерацию SQL запросов\n",
      "Начали скорр полученных SQL запросов\n"
     ]
    },
    {
     "name": "stderr",
     "output_type": "stream",
     "text": [
      "\n"
     ]
    },
    {
     "name": "stdout",
     "output_type": "stream",
     "text": [
      "Qwen3-8B DEV Финальный результат EX: 57.17\n",
      "Qwen3-8B процент запросов, которые успешно выполнились DEV: 95.76%\n",
      "====================================================================================================\n",
      "\n",
      "\n"
     ]
    }
   ],
   "source": [
    "run_cot_experiment(model,arr_seeds,arr_versions, type_cot,num_observations=num_observations)"
   ]
  },
  {
   "cell_type": "code",
   "execution_count": 35,
   "id": "618682f5-a160-460f-8f95-1cf78a4111df",
   "metadata": {},
   "outputs": [
    {
     "name": "stdout",
     "output_type": "stream",
     "text": [
      "[856, 737, 35, 811, 630, 717, 111, 819, 374, 432, 284, 136, 224, 186, 675, 925, 873, 90, 371, 841]\n",
      "model: Qwen3-8B\n"
     ]
    }
   ],
   "source": [
    "n= 20\n",
    "arr_seeds = [random.randint(0,1000) for _ in range(n)]\n",
    "arr_versions = [x for x in range(n)]\n",
    "model = \"Qwen3-8B\"\n",
    "num_observations = 6\n",
    "type_cot = 'think'\n",
    "print(arr_seeds)\n",
    "print(f\"model: {model}\")"
   ]
  },
  {
   "cell_type": "code",
   "execution_count": 36,
   "id": "5346e0c4-95a5-4b8b-99f8-bd9905dbdbf5",
   "metadata": {
    "scrolled": true
   },
   "outputs": [
    {
     "name": "stdout",
     "output_type": "stream",
     "text": [
      "Загружаем модель...\n"
     ]
    },
    {
     "name": "stderr",
     "output_type": "stream",
     "text": [
      "Loading safetensors checkpoint shards:   0% Completed | 0/4 [00:00<?, ?it/s]\n",
      "Loading safetensors checkpoint shards:  25% Completed | 1/4 [00:00<00:00,  8.17it/s]\n",
      "Loading safetensors checkpoint shards:  50% Completed | 2/4 [00:00<00:00,  2.53it/s]\n",
      "Loading safetensors checkpoint shards:  75% Completed | 3/4 [00:01<00:00,  1.83it/s]\n",
      "Loading safetensors checkpoint shards: 100% Completed | 4/4 [00:02<00:00,  1.64it/s]\n",
      "Loading safetensors checkpoint shards: 100% Completed | 4/4 [00:02<00:00,  1.87it/s]\n",
      "\u001b[1;36m(VllmWorker rank=0 pid=324897)\u001b[0;0m \n"
     ]
    },
    {
     "name": "stdout",
     "output_type": "stream",
     "text": [
      "Модель успешно загружена\n",
      "model_config {'model': '/data/home/vkropoti/models/Qwen3-8B', 'tensor_parallel_size': 2, 'max_model_len': 40000, 'max_new_tokens': 1500, 'temperature': 0, 'top_k': 1, 'top_p': 0.8, 'gpu_memory_utilization': 0.9, 'trust_remote_code': False, 'seed': 856}\n",
      "\n",
      "prompts_config {'path_dev_json': '/home/vkropoti/vllm/dev.json', 'path_sql_dbs': '/data/home/vkropoti/sql_data/dev_databases/', 'use_reasoning': False, 'paths_to_cot': ['/data/home/vkropoti/sql_llm_answers/bird_dev/sql_think_Qwen3-8B-reasoning-v0', '/data/home/vkropoti/sql_llm_answers/bird_dev/sql_think_Qwen3-8B-reasoning-v1', '/data/home/vkropoti/sql_llm_answers/bird_dev/sql_think_Qwen3-8B-reasoning-v2', '/data/home/vkropoti/sql_llm_answers/bird_dev/sql_think_Qwen3-8B-reasoning-v3', '/data/home/vkropoti/sql_llm_answers/bird_dev/sql_think_Qwen3-8B-reasoning-v4', '/data/home/vkropoti/sql_llm_answers/bird_dev/sql_think_Qwen3-8B-reasoning-v5']}\n",
      "\n",
      "save_config {'path_sql_save': '/data/home/vkropoti/sql_llm_answers/bird_dev/sql_all_Qwen3-8B-cot_think_think==False_nobs6-v0', 'path_think_save': None, 'path_sql_answers_save': '/data/home/vkropoti/sql_llm_answers/bird_dev/sql_predict_Qwen3-8B-cot_think_think==False_nobs6-v0', 'path_to_save_scores': '/data/home/vkropoti/sql_llm_answers/bird_dev/sql_results_Qwen3-8B-cot_think_think==False_nobs6-v0', 'path_to_save_executed': '/data/home/vkropoti/sql_llm_answers/bird_dev/sql_executed_Qwen3-8B-cot_think_think==False_nobs6-v0'}\n",
      "\n",
      "Модель успешно загружена\n",
      "Пример промпта\n",
      "<|im_start|>system\n",
      "\n",
      "You are a data science expert. Below, you are provided with a database schema and a natural language question. Your task is to understand the schema and generate a valid SQL query to answer the question.\n",
      "\n",
      "Database Engine: SQLite\n",
      "\n",
      "You will be given an additional analysis of other models, please take it into account, so the plan is\n",
      "1. Analyse given addition analysis from other models (find in which analysis the same and differ, how to use that to answer question)\n",
      "2. Combine best from previous part and think how to solve the problem (analyze tables, take care what columns avaliable in each table and so on, check the syntacsis)\n",
      "3. Create the answers. The answer should be only sql query.\n",
      "\n",
      "Carefully follow the instruction and add <|im_end|> and the end of the final answer<|im_end|>\n",
      "<|im_start|>user\n",
      "Here is addition analysis from other models which can be helpfull, please take this into account but be careful (choose the best from each analysis, combine them to make the most proper answer):\n",
      "\n",
      "model 0 analysis:\n",
      " Okay, I need to find the highest eligible free rate for K-12 students in schools located in Alameda County. Let's start by understanding the tables and the data available.\n",
      "\n",
      "First, the question involves two main tables: frpm and schools. The frpm table has the `Free Meal Count (K-12)` and `Enrollment (K-12)` columns needed to calculate the eligible free rate. The schools table has the County information, specifically the `County` column. \n",
      "\n",
      "So, the first step is to join these two tables on the CDSCode, which is the common key. The frpm table's CDSCode is a foreign key referencing the schools table's CDSCode. That makes sense. \n",
      "\n",
      "Next, I need to filter the schools in Alameda County. The schools table has a `County` column, so I'll add a WHERE clause to check if County equals 'Alameda'. \n",
      "\n",
      "Once the data is filtered, I need to calculate the eligible free rate using the formula provided: `Free Meal Count (K-12) / Enrollment (K-12)`. However, I should be cautious about division by zero. But since the question is about schools with data, maybe there's a safety net, but the problem might not require handling that here. \n",
      "\n",
      "The goal is to find the highest rate, so I'll use the MAX function on the calculated rate. But to do that, I need to compute the rate for each school and then find the maximum value. \n",
      "\n",
      "Putting it all together, the SQL query should select the maximum of the calculated rate from the joined tables where the County is Alameda. \n",
      "\n",
      "Wait, but the formula is Free Meal Count divided by Enrollment. So in SQL, that would be `Free Meal Count (K-12) / Enrollment (K-12)`. \n",
      "\n",
      "So the query structure would be: \n",
      "\n",
      "SELECT MAX(`Free Meal Count (K-12)` / `Enrollment (K-12)`) AS highest_rate\n",
      "FROM frpm\n",
      "JOIN schools ON frpm.CDSCode = schools.CDSCode\n",
      "WHERE schools.County = 'Alameda';\n",
      "\n",
      "But I should check if there are any schools in Alameda County. Also, ensure that the columns are correctly quoted since some have spaces. \n",
      "\n",
      "I should make sure that the JOIN is correctly using the CDSCode from both tables. Also, the schools table's County column is the right one to filter. \n",
      "\n",
      "I think that's all. The final query should select the maximum value of the calculated rate from the relevant schools.\n",
      "\n",
      "model 1 analysis:\n",
      " Okay, let's tackle this question. The user wants the highest eligible free rate for K-12 students in Alameda County. First, I need to figure out which tables and columns are involved.\n",
      "\n",
      "The eligible free rate is calculated as Free Meal Count (K-12) divided by Enrollment (K-12). The frpm table has these columns. But I also need to filter schools in Alameda County. The schools table has a County column. So I need to join frpm with schools on CDSCode to get the county information.\n",
      "\n",
      "Wait, the frpm table has a foreign key to schools' CDSCode, so joining them on CDSCode makes sense. Then, I can filter where County = 'Alameda'. Once I have the eligible free rate for each school, I need to find the maximum value. \n",
      "\n",
      "So the steps are: join frpm and schools on CDSCode, filter for Alameda County, calculate the ratio, and then select the maximum. But I need to make sure that Enrollment (K-12) isn't zero to avoid division by zero. However, the question might assume that enrollment is non-zero. \n",
      "\n",
      "The SQL query would select the maximum of (Free Meal Count / Enrollment) from the joined tables where County is Alameda. I should use the correct column names with backticks. Also, since the user wants only the highest rate, using MAX() on the calculated value should work. \n",
      "\n",
      "Wait, but the question says \"highest eligible free rate\", which is the percentage. So the calculation is (Free Meal Count / Enrollment) * 100. But the columns in frpm are Free Meal Count (K-12) and Enrollment (K-12). So the query would be:\n",
      "\n",
      "SELECT MAX(`Free Meal Count (K-12)` / `Enrollment (K-12)`) AS MaxRate\n",
      "FROM frpm\n",
      "JOIN schools ON frpm.CDSCode = schools.CDSCode\n",
      "WHERE schools.County = 'Alameda';\n",
      "\n",
      "But I need to check if the County column in schools is case-sensitive. The question says Alameda County, so the value in County might be 'Alameda'. Also, ensuring that Enrollment isn't zero. However, the problem might not require handling that. \n",
      "\n",
      "So the final query should join the tables, filter by County, compute the ratio, and find the maximum. That's the plan.\n",
      "\n",
      "model 2 analysis:\n",
      " Okay, I need to find the highest eligible free rate for K-12 students in schools located in Alameda County. Let's start by understanding the data structure and the tables involved.\n",
      "\n",
      "First, the question mentions \"eligible free rate for K-12,\" which is calculated as Free Meal Count (K-12) divided by Enrollment (K-12). The tables provided are frpm, satscores, and schools. The schools table has a County column, so I'll need to filter schools in Alameda County from there. \n",
      "\n",
      "The frpm table has the necessary columns for the free meal count and enrollment. However, I need to ensure that the schools in the frpm table are linked to the schools in the schools table. The frpm table has a CDSCode as the primary key, which is also a foreign key referencing the schools table's CDSCode. So, I can join these two tables on CDSCode.\n",
      "\n",
      "So the plan is: join frpm and schools on CDSCode where schools.County is 'Alameda'. Then compute the eligible free rate as (Free Meal Count (K-12) / Enrollment (K-12)) for each school. Finally, find the maximum value of this rate.\n",
      "\n",
      "Wait, but the question says \"highest eligible free rate,\" which is the maximum of the calculated rate. So I need to select the maximum value of (Free Meal Count / Enrollment) from the joined tables where County is Alameda.\n",
      "\n",
      "I need to make sure that the columns are correctly named. In the frpm table, the columns are `Free Meal Count (K-12)` and `Enrollment (K-12)`. The schools table's County column is named County. So the SQL query should join frpm and schools on CDSCode, filter where County = 'Alameda', and then calculate the rate. Then use MAX() to find the highest value.\n",
      "\n",
      "But wait, what if there are null values in Enrollment (K-12)? The question doesn't mention handling that, so I'll assume the data is clean. Also, division in SQL can be tricky. Since the columns are REAL, dividing them should work. So the query would be:\n",
      "\n",
      "SELECT MAX(`Free Meal Count (K-12)` / `Enrollment (K-12)`) AS MaxEligibleFreeRate\n",
      "FROM frpm\n",
      "JOIN schools ON frpm.CDSCode = schools.CDSCode\n",
      "WHERE schools.County = 'Alameda';\n",
      "\n",
      "But I need to check if the County column in schools is named correctly. Yes, the schools table has a County column. So this should work. That's the final query.\n",
      "\n",
      "model 3 analysis:\n",
      " Okay, I need to find the highest eligible free rate for K-12 students in schools located in Alameda County. Let's break this down step by step.\n",
      "\n",
      "First, the question mentions \"eligible free rate for K-12,\" which the external knowledge defines as `Free Meal Count (K-12)` divided by `Enrollment (K-12)`. So I'll need to calculate this ratio for each school. But I need to make sure that division is handled correctly, maybe using real numbers to avoid integer division issues.\n",
      "\n",
      "Next, the schools are in Alameda County. The `frpm` table has a `County Name` column, so I should filter schools where `County Name` is 'Alameda'. However, I should check if the `frpm` table has the necessary data. The `frpm` table's columns include `County Name`, so that's where I'll get the county information.\n",
      "\n",
      "Wait, but the `schools` table also has a `County` column. Which one should I use? The question refers to \"Alameda County,\" and the `frpm` table's `County Name` might be the right column. But I should confirm. However, since the `frpm` table is linked via `CDSCode` to the `schools` table, maybe the `County Name` in `frpm` is the correct one. But perhaps the `schools` table's `County` column is more accurate. Hmm. But the user's external knowledge might assume using `frpm`'s `County Name`. Let me check the tables again.\n",
      "\n",
      "The `frpm` table has a `County Name` column, and the `schools` table has a `County` column. The question is about schools in Alameda County. The `frpm` table's `County Name` likely refers to the county where the school is located. But maybe I should cross-reference. However, the `frpm` table is linked to `schools` via `CDSCode`, so if I use `frpm`'s `County Name`, that's the right approach. But the user's question might have the `County` column in `schools` as the correct one. Wait, the question doesn't specify which table's county to use, but the external knowledge's formula uses columns from `frpm`. So perhaps the `County Name` in `frpm` is the correct one.\n",
      "\n",
      "So the plan is: join the `frpm` table with the `schools` table on `CDSCode`, filter where `County Name` is 'Alameda', calculate the eligible free rate as `Free Meal Count (K-12) / Enrollment (K-12)`, and then find the maximum value of that rate.\n",
      "\n",
      "Wait, but the `frpm` table might not have all the schools. The `schools` table has a `CDSCode` as primary key, and `frpm` has a foreign key to `schools`'s `CDSCode`. So `frpm` might have entries for schools that are in the `schools` table. But if I need to get the county information, I should use the `County Name` from `frpm` because it's directly related to the school's location. But maybe the `schools` table's `County` is more accurate. However, the user's external knowledge uses `frpm`'s columns, so I should use `frpm`'s `County Name`.\n",
      "\n",
      "So, the SQL query would select the `Free Meal Count (K-12)` and `Enrollment (K-12)` from `frpm` where `County Name` is 'Alameda', calculate the ratio, and find the maximum. But I need to ensure that `Enrollment (K-12)` is not zero to avoid division by zero. However, the question doesn't mention handling that, so maybe it's safe to proceed.\n",
      "\n",
      "So the steps are:\n",
      "\n",
      "1. Select from `frpm` where `County Name` = 'Alameda'.\n",
      "2. Calculate `Free Meal Count (K-12) / Enrollment (K-12)` as the eligible free rate.\n",
      "3. Find the maximum value of this rate.\n",
      "\n",
      "But I need to make sure that the columns are correctly referenced. The `frpm` table has `Free Meal Count (K-12)` and `Enrollment (K-12)` as columns. Also, the `County Name` is in `frpm`.\n",
      "\n",
      "So the SQL query would be:\n",
      "\n",
      "SELECT MAX(`Free Meal Count (K-12)` / `Enrollment (K-12)`) AS highest_eligible_free_rate\n",
      "FROM frpm\n",
      "WHERE `County Name` = 'Alameda';\n",
      "\n",
      "Wait, but what if there are schools with zero enrollment? The division would result in NULL or an error. However, the problem doesn't mention handling that, so perhaps it's acceptable. Also, the question might assume that the data is valid.\n",
      "\n",
      "But the user's question asks for the highest eligible free rate, so the query should return a single value. Using MAX on the calculated ratio would give the maximum.\n",
      "\n",
      "So the final SQL query should be as above.\n",
      "\n",
      "model 4 analysis:\n",
      " Okay, let's tackle this question. The user wants the highest eligible free rate for K-12 students in Alameda County. First, I need to figure out which tables and columns are relevant.\n",
      "\n",
      "The eligible free rate is calculated as Free Meal Count (K-12) divided by Enrollment (K-12). So I need to get those two values from the frpm table. But wait, the schools are in Alameda County, so I need to link the frpm table with the schools table to check the county.\n",
      "\n",
      "Looking at the tables, the frpm table has a County Name column, but the schools table has a County column. The frpm's CDSCode is a foreign key to schools' CDSCode. So I should join frpm with schools on CDSCode to get the county information.\n",
      "\n",
      "Wait, the question specifies Alameda County. So I need to filter where schools.County = 'Alameda'. But the frpm table has County Name, but maybe the schools table's County is more accurate. Let me check the tables again. The schools table has a County column, which is likely the correct one to use for filtering. So I should join frpm and schools on CDSCode, then filter where schools.County is 'Alameda'.\n",
      "\n",
      "Once I have the correct schools in Alameda County, I can calculate the eligible free rate as Free Meal Count divided by Enrollment. Then, I need to find the maximum value of that rate. So the SQL query should select the maximum of (Free Meal Count / Enrollment) from the joined tables where County is Alameda.\n",
      "\n",
      "Wait, but the columns in frpm are named with backticks because they have spaces. So in the query, I need to use `Free Meal Count (K-12)` and `Enrollment (K-12)`. Also, the schools table's County column is named County. So the join condition is frpm.CDSCode = schools.CDSCode.\n",
      "\n",
      "Putting it all together: join frpm and schools on CDSCode, filter where schools.County = 'Alameda', compute the ratio, and find the maximum. The final query would use MAX(`Free Meal Count (K-12)` / `Enrollment (K-12)`) as the select clause, joined with the schools table where County is Alameda. Make sure to handle possible nulls, but since the question is about schools in Alameda, maybe the data is present.\n",
      "\n",
      "model 5 analysis:\n",
      " Okay, let's see. The user is asking for the highest eligible free rate for K-12 students in schools located in Alameda County. The eligible free rate is calculated as Free Meal Count (K-12) divided by Enrollment (K-12). \n",
      "\n",
      "First, I need to figure out which tables to use. The frpm table has the Free Meal Count (K-12) and Enrollment (K-12) columns. But the County Name is in the frpm table as `County Name`. So, I should join the frpm table with the schools table to get the county information. Wait, no, the schools table has a County column. Wait, the schools table's County column is directly the county name. Wait, the frpm table has `County Name`, but the schools table has County. Which one should I use? The question specifies Alameda County, so I need to check which table has the County Name. Let me check the tables again.\n",
      "\n",
      "Looking at the schools table, there's a County column. The frpm table has `County Name`. So maybe the schools table's County is the same as frpm's `County Name`. But since the schools table is linked via CDSCode, and frpm has a foreign key to schools, perhaps the County in schools is the same as `County Name` in frpm. But to be safe, maybe I should check which one has the county information. However, the user is asking about Alameda County. Let me think. The schools table has a County column, which is probably the county name. So, I can filter on schools.County = 'Alameda'.\n",
      "\n",
      "But wait, the frpm table has `County Name` as well. However, the schools table's County is a direct field. Since the frpm table is linked to schools via CDSCode, perhaps the County in schools is the same as `County Name` in frpm. But to avoid confusion, maybe I should use the schools table's County column. Because the schools table is the primary table with school details, and the frpm table might have redundant county info. But the user might have different data. However, the question is about the county, so I need to make sure which table's county field to use.\n",
      "\n",
      "Alternatively, maybe the frpm table's `County Name` is the correct one. But since the schools table is linked via CDSCode, and the County is in schools, perhaps the schools table is the source for the county. But without knowing the data structure, it's safer to check both. However, given that the user's question is about the county, perhaps the County in the schools table is the correct field. \n",
      "\n",
      "Wait, the question is about schools in Alameda County. So I need to find all schools where the county is Alameda. So, I need to filter the schools table where County = 'Alameda'. But the frpm table has `County Name`, but that's linked to schools. So perhaps the correct approach is to join frpm with schools on CDSCode, then filter schools.County = 'Alameda'.\n",
      "\n",
      "Alternatively, maybe the frpm table's `County Name` is sufficient, but if the schools table's County is more accurate, then I should use that. But since the schools table is the main table with school details, and frpm is linked to it, perhaps the County in schools is the correct column. \n",
      "\n",
      "So, the plan is: \n",
      "\n",
      "1. Join frpm with schools on CDSCode to get the county information. \n",
      "\n",
      "But wait, the frpm table has a foreign key to schools, so each frpm record is linked to a school. So, if I join frpm with schools on CDSCode, I can get the County from schools. \n",
      "\n",
      "Alternatively, the frpm table has a `County Name` column, which might be redundant. But if the user wants to use that, then perhaps it's in frpm. But the question is about schools in Alameda County. So, the County column in the schools table would be the correct one. \n",
      "\n",
      "So, to answer the question, the steps are:\n",
      "\n",
      "- Find all schools in Alameda County (using schools.County = 'Alameda').\n",
      "- For those schools, get the Free Meal Count (K-12) and Enrollment (K-12) from the frpm table.\n",
      "- Calculate the eligible free rate as Free Meal Count / Enrollment.\n",
      "- Find the maximum value of this rate.\n",
      "\n",
      "But how to join the tables? The frpm table has a foreign key to schools (CDSCode), so joining on CDSCode would link the frpm data to the school's county. \n",
      "\n",
      "So the SQL query would involve joining frpm with schools on CDSCode, then filtering where schools.County = 'Alameda', then computing the rate and finding the maximum.\n",
      "\n",
      "But the user's question is about the highest eligible free rate. So the SQL should select the maximum of (Free Meal Count (K-12) / Enrollment (K-12)) where the county is Alameda.\n",
      "\n",
      "So the query would be:\n",
      "\n",
      "SELECT MAX(`Free Meal Count (K-12)` / `Enrollment (K-12)`) AS MaxEligibleFreeRate\n",
      "FROM frpm\n",
      "JOIN schools ON frpm.CDSCode = schools.CDSCode\n",
      "WHERE schools.County = 'Alameda';\n",
      "\n",
      "But wait, the frpm table has `Free Meal Count (K-12)` and `Enrollment (K-12)` columns. So yes.\n",
      "\n",
      "But need to check if there are any null values. For example, if Enrollment (K-12) is zero, division by zero would be an error. But the question probably assumes that enrollment is not zero. Alternatively, the data may have non-null values. Assuming that the data is clean, the query can proceed.\n",
      "\n",
      "Thus, the correct SQL is as above.\n",
      "\n",
      "\n",
      "here is avaliable tables below\n",
      "\n",
      "\n",
      "Table: frpm\n",
      "CREATE TABLE frpm\n",
      "(\n",
      "    CDSCode                                       TEXT not null\n",
      "        primary key,\n",
      "    `Academic Year`                               TEXT  null,\n",
      "    `County Code`                                 TEXT  null,\n",
      "    `District Code`                               INTEGER         null,\n",
      "    `School Code`                                 TEXT  null,\n",
      "    `County Name`                                 TEXT null,\n",
      "    `District Name`                               TEXT null,\n",
      "    `School Name`                                 TEXT null,\n",
      "    `District Type`                               TEXT null,\n",
      "    `School Type`                                 TEXT null,\n",
      "    `Educational Option Type`                     TEXT null,\n",
      "    `NSLP Provision Status`                       TEXT null,\n",
      "    `Charter School (Y/N)`                        INTEGER    null,\n",
      "    `Charter School Number`                       TEXT  null,\n",
      "    `Charter Funding Type`                        TEXT null,\n",
      "    IRC                                           INTEGER    null,\n",
      "    `Low Grade`                                   TEXT  null,\n",
      "    `High Grade`                                  TEXT null,\n",
      "    `Enrollment (K-12)`                           REAL      null,\n",
      "    `Free Meal Count (K-12)`                      REAL       null,\n",
      "    `Percent (%) Eligible Free (K-12)`            REAL       null,\n",
      "    `FRPM Count (K-12)`                           REAL       null,\n",
      "    `Percent (%) Eligible FRPM (K-12)`            REAL       null,\n",
      "    `Enrollment (Ages 5-17)`                      REAL       null,\n",
      "    `Free Meal Count (Ages 5-17)`                 REAL       null,\n",
      "    `Percent (%) Eligible Free (Ages 5-17)`       REAL       null,\n",
      "    `FRPM Count (Ages 5-17)`                      REAL       null,\n",
      "    `Percent (%) Eligible FRPM (Ages 5-17)`       REAL       null,\n",
      "    `2013-14 CALPADS Fall 1 Certification Status` INTEGER    null,\n",
      "    foreign key (CDSCode) references schools (CDSCode)\n",
      ")\n",
      "\n",
      "Table: satscores\n",
      "CREATE TABLE satscores\n",
      "(\n",
      "    cds         TEXT not null\n",
      "        primary key,\n",
      "    rtype       TEXT  not null,\n",
      "    sname       TEXT null,\n",
      "    dname       TEXT null,\n",
      "    cname       TEXT null,\n",
      "    enroll12    INTEGER         not null,\n",
      "    NumTstTakr  INTEGER          not null,\n",
      "    AvgScrRead  INTEGER          null,\n",
      "    AvgScrMath  INTEGER          null,\n",
      "    AvgScrWrite INTEGER          null,\n",
      "    NumGE1500   INTEGER          null,\n",
      "--     PctGE1500   double      null,\n",
      "        foreign key (cds) references schools (CDSCode)\n",
      ")\n",
      "\n",
      "Table: schools\n",
      "CREATE TABLE schools\n",
      "(\n",
      "    CDSCode     TEXT not null\n",
      "        primary key,\n",
      "    NCESDist    TEXT  null,\n",
      "    NCESSchool  TEXT  null,\n",
      "    StatusType  TEXT  not null,\n",
      "    County      TEXT not null,\n",
      "    District    TEXT not null,\n",
      "    School      TEXT null,\n",
      "    Street      TEXT null,\n",
      "    StreetAbr   TEXT null,\n",
      "    City        TEXT null,\n",
      "    Zip         TEXT null,\n",
      "    State       TEXT  null,\n",
      "    MailStreet  TEXT null,\n",
      "    MailStrAbr  TEXT null,\n",
      "    MailCity    TEXT null,\n",
      "    MailZip     TEXT null,\n",
      "    MailState   TEXT  null,\n",
      "    Phone       TEXT null,\n",
      "    Ext         TEXT  null,\n",
      "    Website     TEXT null,\n",
      "    OpenDate    DATE        null,\n",
      "    ClosedDate  DATE        null,\n",
      "    Charter     INTEGER    null,\n",
      "    CharterNum  TEXT  null,\n",
      "    FundingType TEXT null,\n",
      "    DOC         TEXT  not null,\n",
      "    DOCType     TEXT not null,\n",
      "    SOC         TEXT  null,\n",
      "    SOCType     TEXT null,\n",
      "    EdOpsCode   TEXT  null,\n",
      "    EdOpsName   TEXT null,\n",
      "    EILCode     TEXT  null,\n",
      "    EILName     TEXT null,\n",
      "    GSoffered   TEXT null,\n",
      "    GSserved    TEXT  null,\n",
      "    Virtual     TEXT  null,\n",
      "    Magnet      INTEGER   null,\n",
      "    Latitude    REAL      null,\n",
      "    Longitude   REAL      null,\n",
      "    AdmFName1   TEXT null,\n",
      "    AdmLName1   TEXT null,\n",
      "    AdmEmail1   TEXT null,\n",
      "    AdmFName2   TEXT null,\n",
      "    AdmLName2   TEXT null,\n",
      "    AdmEmail2   TEXT null,\n",
      "    AdmFName3   TEXT  null,\n",
      "    AdmLName3   TEXT null,\n",
      "    AdmEmail3   TEXT null,\n",
      "    LastUpdate  DATE        not null\n",
      ")\n",
      "\n",
      "-- Using valid SQLite and understanding External Knowledge, answer the following questions for the tables provided above.\n",
      "-- What is the highest eligible free rate for K-12 students in the schools in Alameda County?\n",
      "-- External Knowledge: Eligible free rate for K-12 = `Free Meal Count (K-12)` / `Enrollment (K-12)`\n",
      "\n",
      "\n",
      "Generate the SQLite for the above question after thinking step by step: \n",
      "\n",
      "\n",
      "Instructions:\n",
      "- Make sure you only output the information that is asked in the question. If the question asks for a specific column, make sure to only include that column in the SELECT clause, nothing more.\n",
      "- The generated query should return all of the information asked in the question without any missing or extra information.\n",
      "- Before generating the final SQL query, please think through the steps of how to write the query.\n",
      "- Do not misuse column names, keep them in quotes `\n",
      "- Carefully understand what colomns belond to what tables\n",
      "- Use only initial column names, change names prohibited\n",
      "        \n",
      "Output Format:\n",
      "In your answer, please enclose the generated SQL query in a code block:\n",
      "```\n",
      "-- Your SQL query\n",
      "```    \n",
      "and nothing else, no exaplains, no comments (asnwer should be less than 512 characters)\n",
      "\n",
      "Take a deep breath and think step by step to find the correct SQL query in SQLite format.\n",
      "\n",
      "Question repetition: What is the highest eligible free rate for K-12 students in the schools in Alameda County?\n",
      "\n",
      "Be care! Include only what i want it questiona and nothing else<|im_end|>\n",
      "<|im_start|>assistant\n",
      "<think>\n",
      "\n",
      "</think>\n",
      "\n",
      "\n",
      "\n",
      "\n",
      "Максимальное количество токенов в промптах: 27373\n",
      "\n",
      "начинаем скорринг\n",
      "Загружаем чаты с данными...\n",
      "Данные успешно загружены\n",
      "Начали генерацию SQL запросов\n"
     ]
    },
    {
     "name": "stderr",
     "output_type": "stream",
     "text": [
      "Processed prompts: 100%|██████████| 1534/1534 [04:23<00:00,  5.83it/s, est. speed input: 38471.27 toks/s, output: 274.81 toks/s]"
     ]
    },
    {
     "name": "stdout",
     "output_type": "stream",
     "text": [
      "extract_think количество ошибок:  0\n",
      "extract_sql количество ошибок:  0\n",
      "Закончили генерацию SQL запросов\n",
      "Начали скорр полученных SQL запросов\n"
     ]
    },
    {
     "name": "stderr",
     "output_type": "stream",
     "text": [
      "\n"
     ]
    },
    {
     "name": "stdout",
     "output_type": "stream",
     "text": [
      "Qwen3-8B DEV Финальный результат EX: 58.41\n",
      "Qwen3-8B процент запросов, которые успешно выполнились DEV: 95.57%\n",
      "====================================================================================================\n",
      "\n",
      "\n",
      "Загружаем чаты с данными...\n",
      "Данные успешно загружены\n",
      "Начали генерацию SQL запросов\n"
     ]
    },
    {
     "name": "stderr",
     "output_type": "stream",
     "text": [
      "Processed prompts: 100%|██████████| 1534/1534 [04:24<00:00,  5.79it/s, est. speed input: 38284.20 toks/s, output: 270.45 toks/s]"
     ]
    },
    {
     "name": "stdout",
     "output_type": "stream",
     "text": [
      "extract_think количество ошибок:  0\n",
      "extract_sql количество ошибок:  0\n",
      "Закончили генерацию SQL запросов\n",
      "Начали скорр полученных SQL запросов\n"
     ]
    },
    {
     "name": "stderr",
     "output_type": "stream",
     "text": [
      "\n"
     ]
    },
    {
     "name": "stdout",
     "output_type": "stream",
     "text": [
      "Qwen3-8B DEV Финальный результат EX: 58.15\n",
      "Qwen3-8B процент запросов, которые успешно выполнились DEV: 95.57%\n",
      "====================================================================================================\n",
      "\n",
      "\n",
      "Загружаем чаты с данными...\n",
      "Данные успешно загружены\n",
      "Начали генерацию SQL запросов\n"
     ]
    },
    {
     "name": "stderr",
     "output_type": "stream",
     "text": [
      "Processed prompts: 100%|██████████| 1534/1534 [04:26<00:00,  5.76it/s, est. speed input: 38274.81 toks/s, output: 273.22 toks/s]"
     ]
    },
    {
     "name": "stdout",
     "output_type": "stream",
     "text": [
      "extract_think количество ошибок:  0\n",
      "extract_sql количество ошибок:  0\n",
      "Закончили генерацию SQL запросов\n",
      "Начали скорр полученных SQL запросов\n"
     ]
    },
    {
     "name": "stderr",
     "output_type": "stream",
     "text": [
      "\n"
     ]
    },
    {
     "name": "stdout",
     "output_type": "stream",
     "text": [
      "Qwen3-8B DEV Финальный результат EX: 58.34\n",
      "Qwen3-8B процент запросов, которые успешно выполнились DEV: 95.83%\n",
      "====================================================================================================\n",
      "\n",
      "\n",
      "Загружаем чаты с данными...\n",
      "Данные успешно загружены\n",
      "Начали генерацию SQL запросов\n"
     ]
    },
    {
     "name": "stderr",
     "output_type": "stream",
     "text": [
      "Processed prompts: 100%|██████████| 1534/1534 [04:27<00:00,  5.74it/s, est. speed input: 38224.47 toks/s, output: 271.76 toks/s]"
     ]
    },
    {
     "name": "stdout",
     "output_type": "stream",
     "text": [
      "extract_think количество ошибок:  0\n",
      "extract_sql количество ошибок:  0\n",
      "Закончили генерацию SQL запросов\n",
      "Начали скорр полученных SQL запросов\n"
     ]
    },
    {
     "name": "stderr",
     "output_type": "stream",
     "text": [
      "\n"
     ]
    },
    {
     "name": "stdout",
     "output_type": "stream",
     "text": [
      "Qwen3-8B DEV Финальный результат EX: 57.37\n",
      "Qwen3-8B процент запросов, которые успешно выполнились DEV: 95.96%\n",
      "====================================================================================================\n",
      "\n",
      "\n",
      "Загружаем чаты с данными...\n",
      "Данные успешно загружены\n",
      "Начали генерацию SQL запросов\n"
     ]
    },
    {
     "name": "stderr",
     "output_type": "stream",
     "text": [
      "Processed prompts: 100%|██████████| 1534/1534 [04:25<00:00,  5.79it/s, est. speed input: 38305.32 toks/s, output: 270.94 toks/s]"
     ]
    },
    {
     "name": "stdout",
     "output_type": "stream",
     "text": [
      "extract_think количество ошибок:  0\n",
      "extract_sql количество ошибок:  0\n",
      "Закончили генерацию SQL запросов\n",
      "Начали скорр полученных SQL запросов\n"
     ]
    },
    {
     "name": "stderr",
     "output_type": "stream",
     "text": [
      "\n"
     ]
    },
    {
     "name": "stdout",
     "output_type": "stream",
     "text": [
      "Qwen3-8B DEV Финальный результат EX: 57.76\n",
      "Qwen3-8B процент запросов, которые успешно выполнились DEV: 96.02%\n",
      "====================================================================================================\n",
      "\n",
      "\n",
      "Загружаем чаты с данными...\n",
      "Данные успешно загружены\n",
      "Начали генерацию SQL запросов\n"
     ]
    },
    {
     "name": "stderr",
     "output_type": "stream",
     "text": [
      "Processed prompts: 100%|██████████| 1534/1534 [04:23<00:00,  5.82it/s, est. speed input: 38544.93 toks/s, output: 272.25 toks/s]"
     ]
    },
    {
     "name": "stdout",
     "output_type": "stream",
     "text": [
      "extract_think количество ошибок:  0\n",
      "extract_sql количество ошибок:  0\n",
      "Закончили генерацию SQL запросов\n",
      "Начали скорр полученных SQL запросов\n"
     ]
    },
    {
     "name": "stderr",
     "output_type": "stream",
     "text": [
      "\n"
     ]
    },
    {
     "name": "stdout",
     "output_type": "stream",
     "text": [
      "Qwen3-8B DEV Финальный результат EX: 57.69\n",
      "Qwen3-8B процент запросов, которые успешно выполнились DEV: 96.02%\n",
      "====================================================================================================\n",
      "\n",
      "\n",
      "Загружаем чаты с данными...\n",
      "Данные успешно загружены\n",
      "Начали генерацию SQL запросов\n"
     ]
    },
    {
     "name": "stderr",
     "output_type": "stream",
     "text": [
      "Processed prompts: 100%|██████████| 1534/1534 [04:26<00:00,  5.76it/s, est. speed input: 38436.80 toks/s, output: 269.40 toks/s]"
     ]
    },
    {
     "name": "stdout",
     "output_type": "stream",
     "text": [
      "extract_think количество ошибок:  0\n",
      "extract_sql количество ошибок:  0\n",
      "Закончили генерацию SQL запросов\n",
      "Начали скорр полученных SQL запросов\n"
     ]
    },
    {
     "name": "stderr",
     "output_type": "stream",
     "text": [
      "\n"
     ]
    },
    {
     "name": "stdout",
     "output_type": "stream",
     "text": [
      "Qwen3-8B DEV Финальный результат EX: 57.04\n",
      "Qwen3-8B процент запросов, которые успешно выполнились DEV: 95.89%\n",
      "====================================================================================================\n",
      "\n",
      "\n",
      "Загружаем чаты с данными...\n",
      "Данные успешно загружены\n",
      "Начали генерацию SQL запросов\n"
     ]
    },
    {
     "name": "stderr",
     "output_type": "stream",
     "text": [
      "Processed prompts: 100%|██████████| 1534/1534 [04:29<00:00,  5.69it/s, est. speed input: 38057.28 toks/s, output: 269.96 toks/s]"
     ]
    },
    {
     "name": "stdout",
     "output_type": "stream",
     "text": [
      "extract_think количество ошибок:  0\n",
      "extract_sql количество ошибок:  0\n",
      "Закончили генерацию SQL запросов\n",
      "Начали скорр полученных SQL запросов\n"
     ]
    },
    {
     "name": "stderr",
     "output_type": "stream",
     "text": [
      "\n"
     ]
    },
    {
     "name": "stdout",
     "output_type": "stream",
     "text": [
      "Qwen3-8B DEV Финальный результат EX: 57.63\n",
      "Qwen3-8B процент запросов, которые успешно выполнились DEV: 95.89%\n",
      "====================================================================================================\n",
      "\n",
      "\n",
      "Загружаем чаты с данными...\n",
      "Данные успешно загружены\n",
      "Начали генерацию SQL запросов\n"
     ]
    },
    {
     "name": "stderr",
     "output_type": "stream",
     "text": [
      "Processed prompts: 100%|██████████| 1534/1534 [04:28<00:00,  5.71it/s, est. speed input: 37967.06 toks/s, output: 268.23 toks/s]"
     ]
    },
    {
     "name": "stdout",
     "output_type": "stream",
     "text": [
      "extract_think количество ошибок:  0\n",
      "extract_sql количество ошибок:  0\n",
      "Закончили генерацию SQL запросов\n",
      "Начали скорр полученных SQL запросов\n"
     ]
    },
    {
     "name": "stderr",
     "output_type": "stream",
     "text": [
      "\n"
     ]
    },
    {
     "name": "stdout",
     "output_type": "stream",
     "text": [
      "Qwen3-8B DEV Финальный результат EX: 57.69\n",
      "Qwen3-8B процент запросов, которые успешно выполнились DEV: 95.63%\n",
      "====================================================================================================\n",
      "\n",
      "\n",
      "Загружаем чаты с данными...\n",
      "Данные успешно загружены\n",
      "Начали генерацию SQL запросов\n"
     ]
    },
    {
     "name": "stderr",
     "output_type": "stream",
     "text": [
      "Processed prompts: 100%|██████████| 1534/1534 [04:25<00:00,  5.78it/s, est. speed input: 38146.15 toks/s, output: 269.26 toks/s]"
     ]
    },
    {
     "name": "stdout",
     "output_type": "stream",
     "text": [
      "extract_think количество ошибок:  0\n",
      "extract_sql количество ошибок:  0\n",
      "Закончили генерацию SQL запросов\n",
      "Начали скорр полученных SQL запросов\n"
     ]
    },
    {
     "name": "stderr",
     "output_type": "stream",
     "text": [
      "\n"
     ]
    },
    {
     "name": "stdout",
     "output_type": "stream",
     "text": [
      "Qwen3-8B DEV Финальный результат EX: 57.76\n",
      "Qwen3-8B процент запросов, которые успешно выполнились DEV: 95.76%\n",
      "====================================================================================================\n",
      "\n",
      "\n",
      "Загружаем чаты с данными...\n",
      "Данные успешно загружены\n",
      "Начали генерацию SQL запросов\n"
     ]
    },
    {
     "name": "stderr",
     "output_type": "stream",
     "text": [
      "Processed prompts: 100%|██████████| 1534/1534 [04:25<00:00,  5.78it/s, est. speed input: 38374.64 toks/s, output: 267.60 toks/s]"
     ]
    },
    {
     "name": "stdout",
     "output_type": "stream",
     "text": [
      "extract_think количество ошибок:  0\n",
      "extract_sql количество ошибок:  0\n",
      "Закончили генерацию SQL запросов\n",
      "Начали скорр полученных SQL запросов\n"
     ]
    },
    {
     "name": "stderr",
     "output_type": "stream",
     "text": [
      "\n"
     ]
    },
    {
     "name": "stdout",
     "output_type": "stream",
     "text": [
      "Qwen3-8B DEV Финальный результат EX: 58.02\n",
      "Qwen3-8B процент запросов, которые успешно выполнились DEV: 95.57%\n",
      "====================================================================================================\n",
      "\n",
      "\n",
      "Загружаем чаты с данными...\n",
      "Данные успешно загружены\n",
      "Начали генерацию SQL запросов\n"
     ]
    },
    {
     "name": "stderr",
     "output_type": "stream",
     "text": [
      "Processed prompts: 100%|██████████| 1534/1534 [04:24<00:00,  5.79it/s, est. speed input: 38068.65 toks/s, output: 272.61 toks/s]"
     ]
    },
    {
     "name": "stdout",
     "output_type": "stream",
     "text": [
      "extract_think количество ошибок:  0\n",
      "extract_sql количество ошибок:  0\n",
      "Закончили генерацию SQL запросов\n",
      "Начали скорр полученных SQL запросов\n"
     ]
    },
    {
     "name": "stderr",
     "output_type": "stream",
     "text": [
      "\n"
     ]
    },
    {
     "name": "stdout",
     "output_type": "stream",
     "text": [
      "Qwen3-8B DEV Финальный результат EX: 57.89\n",
      "Qwen3-8B процент запросов, которые успешно выполнились DEV: 96.15%\n",
      "====================================================================================================\n",
      "\n",
      "\n",
      "Загружаем чаты с данными...\n",
      "Данные успешно загружены\n",
      "Начали генерацию SQL запросов\n"
     ]
    },
    {
     "name": "stderr",
     "output_type": "stream",
     "text": [
      "Processed prompts: 100%|██████████| 1534/1534 [04:24<00:00,  5.79it/s, est. speed input: 38088.20 toks/s, output: 274.63 toks/s]"
     ]
    },
    {
     "name": "stdout",
     "output_type": "stream",
     "text": [
      "extract_think количество ошибок:  0\n",
      "extract_sql количество ошибок:  0\n",
      "Закончили генерацию SQL запросов\n",
      "Начали скорр полученных SQL запросов\n"
     ]
    },
    {
     "name": "stderr",
     "output_type": "stream",
     "text": [
      "\n"
     ]
    },
    {
     "name": "stdout",
     "output_type": "stream",
     "text": [
      "Qwen3-8B DEV Финальный результат EX: 58.08\n",
      "Qwen3-8B процент запросов, которые успешно выполнились DEV: 96.35%\n",
      "====================================================================================================\n",
      "\n",
      "\n",
      "Загружаем чаты с данными...\n",
      "Данные успешно загружены\n",
      "Начали генерацию SQL запросов\n"
     ]
    },
    {
     "name": "stderr",
     "output_type": "stream",
     "text": [
      "Processed prompts: 100%|██████████| 1534/1534 [04:21<00:00,  5.87it/s, est. speed input: 38493.38 toks/s, output: 275.81 toks/s]"
     ]
    },
    {
     "name": "stdout",
     "output_type": "stream",
     "text": [
      "extract_think количество ошибок:  0\n",
      "extract_sql количество ошибок:  0\n",
      "Закончили генерацию SQL запросов\n",
      "Начали скорр полученных SQL запросов\n"
     ]
    },
    {
     "name": "stderr",
     "output_type": "stream",
     "text": [
      "\n"
     ]
    },
    {
     "name": "stdout",
     "output_type": "stream",
     "text": [
      "Qwen3-8B DEV Финальный результат EX: 58.34\n",
      "Qwen3-8B процент запросов, которые успешно выполнились DEV: 96.02%\n",
      "====================================================================================================\n",
      "\n",
      "\n",
      "Загружаем чаты с данными...\n",
      "Данные успешно загружены\n",
      "Начали генерацию SQL запросов\n"
     ]
    },
    {
     "name": "stderr",
     "output_type": "stream",
     "text": [
      "Processed prompts: 100%|██████████| 1534/1534 [04:24<00:00,  5.80it/s, est. speed input: 38080.47 toks/s, output: 277.02 toks/s]"
     ]
    },
    {
     "name": "stdout",
     "output_type": "stream",
     "text": [
      "extract_think количество ошибок:  0\n",
      "extract_sql количество ошибок:  0\n",
      "Закончили генерацию SQL запросов\n",
      "Начали скорр полученных SQL запросов\n"
     ]
    },
    {
     "name": "stderr",
     "output_type": "stream",
     "text": [
      "\n"
     ]
    },
    {
     "name": "stdout",
     "output_type": "stream",
     "text": [
      "Qwen3-8B DEV Финальный результат EX: 58.60\n",
      "Qwen3-8B процент запросов, которые успешно выполнились DEV: 95.57%\n",
      "====================================================================================================\n",
      "\n",
      "\n",
      "Загружаем чаты с данными...\n",
      "Данные успешно загружены\n",
      "Начали генерацию SQL запросов\n"
     ]
    },
    {
     "name": "stderr",
     "output_type": "stream",
     "text": [
      "Processed prompts: 100%|██████████| 1534/1534 [04:24<00:00,  5.81it/s, est. speed input: 38164.12 toks/s, output: 273.56 toks/s]"
     ]
    },
    {
     "name": "stdout",
     "output_type": "stream",
     "text": [
      "extract_think количество ошибок:  0\n",
      "extract_sql количество ошибок:  0\n",
      "Закончили генерацию SQL запросов\n",
      "Начали скорр полученных SQL запросов\n"
     ]
    },
    {
     "name": "stderr",
     "output_type": "stream",
     "text": [
      "\n"
     ]
    },
    {
     "name": "stdout",
     "output_type": "stream",
     "text": [
      "Qwen3-8B DEV Финальный результат EX: 58.34\n",
      "Qwen3-8B процент запросов, которые успешно выполнились DEV: 95.44%\n",
      "====================================================================================================\n",
      "\n",
      "\n",
      "Загружаем чаты с данными...\n",
      "Данные успешно загружены\n",
      "Начали генерацию SQL запросов\n"
     ]
    },
    {
     "name": "stderr",
     "output_type": "stream",
     "text": [
      "Processed prompts: 100%|██████████| 1534/1534 [04:21<00:00,  5.87it/s, est. speed input: 38558.50 toks/s, output: 274.67 toks/s]"
     ]
    },
    {
     "name": "stdout",
     "output_type": "stream",
     "text": [
      "extract_think количество ошибок:  0\n",
      "extract_sql количество ошибок:  0\n",
      "Закончили генерацию SQL запросов\n",
      "Начали скорр полученных SQL запросов\n"
     ]
    },
    {
     "name": "stderr",
     "output_type": "stream",
     "text": [
      "\n"
     ]
    },
    {
     "name": "stdout",
     "output_type": "stream",
     "text": [
      "Qwen3-8B DEV Финальный результат EX: 57.76\n",
      "Qwen3-8B процент запросов, которые успешно выполнились DEV: 95.31%\n",
      "====================================================================================================\n",
      "\n",
      "\n",
      "Загружаем чаты с данными...\n",
      "Данные успешно загружены\n",
      "Начали генерацию SQL запросов\n"
     ]
    },
    {
     "name": "stderr",
     "output_type": "stream",
     "text": [
      "Processed prompts: 100%|██████████| 1534/1534 [04:22<00:00,  5.85it/s, est. speed input: 38689.06 toks/s, output: 272.66 toks/s]"
     ]
    },
    {
     "name": "stdout",
     "output_type": "stream",
     "text": [
      "extract_think количество ошибок:  0\n",
      "extract_sql количество ошибок:  0\n",
      "Закончили генерацию SQL запросов\n",
      "Начали скорр полученных SQL запросов\n"
     ]
    },
    {
     "name": "stderr",
     "output_type": "stream",
     "text": [
      "\n"
     ]
    },
    {
     "name": "stdout",
     "output_type": "stream",
     "text": [
      "Qwen3-8B DEV Финальный результат EX: 57.82\n",
      "Qwen3-8B процент запросов, которые успешно выполнились DEV: 95.24%\n",
      "====================================================================================================\n",
      "\n",
      "\n",
      "Загружаем чаты с данными...\n",
      "Данные успешно загружены\n",
      "Начали генерацию SQL запросов\n"
     ]
    },
    {
     "name": "stderr",
     "output_type": "stream",
     "text": [
      "Processed prompts: 100%|██████████| 1534/1534 [04:23<00:00,  5.82it/s, est. speed input: 38403.70 toks/s, output: 272.64 toks/s]"
     ]
    },
    {
     "name": "stdout",
     "output_type": "stream",
     "text": [
      "extract_think количество ошибок:  0\n",
      "extract_sql количество ошибок:  0\n",
      "Закончили генерацию SQL запросов\n",
      "Начали скорр полученных SQL запросов\n"
     ]
    },
    {
     "name": "stderr",
     "output_type": "stream",
     "text": [
      "\n"
     ]
    },
    {
     "name": "stdout",
     "output_type": "stream",
     "text": [
      "Qwen3-8B DEV Финальный результат EX: 57.89\n",
      "Qwen3-8B процент запросов, которые успешно выполнились DEV: 95.57%\n",
      "====================================================================================================\n",
      "\n",
      "\n",
      "Загружаем чаты с данными...\n",
      "Данные успешно загружены\n",
      "Начали генерацию SQL запросов\n"
     ]
    },
    {
     "name": "stderr",
     "output_type": "stream",
     "text": [
      "Processed prompts: 100%|██████████| 1534/1534 [04:25<00:00,  5.77it/s, est. speed input: 38163.59 toks/s, output: 269.58 toks/s]"
     ]
    },
    {
     "name": "stdout",
     "output_type": "stream",
     "text": [
      "extract_think количество ошибок:  0\n",
      "extract_sql количество ошибок:  0\n",
      "Закончили генерацию SQL запросов\n",
      "Начали скорр полученных SQL запросов\n"
     ]
    },
    {
     "name": "stderr",
     "output_type": "stream",
     "text": [
      "\n"
     ]
    },
    {
     "name": "stdout",
     "output_type": "stream",
     "text": [
      "Qwen3-8B DEV Финальный результат EX: 57.50\n",
      "Qwen3-8B процент запросов, которые успешно выполнились DEV: 95.44%\n",
      "====================================================================================================\n",
      "\n",
      "\n"
     ]
    }
   ],
   "source": [
    "run_cot_experiment(model,arr_seeds,arr_versions, type_cot,num_observations=num_observations)"
   ]
  },
  {
   "cell_type": "code",
   "execution_count": 37,
   "id": "e1546848-51e6-48b8-a752-2e11cf612fba",
   "metadata": {},
   "outputs": [
    {
     "name": "stdout",
     "output_type": "stream",
     "text": [
      "[906, 759, 33, 612, 866, 626, 238, 87, 298, 130, 405, 210, 670, 132, 115, 170, 804, 234, 709, 668]\n",
      "model: Qwen3-8B\n"
     ]
    }
   ],
   "source": [
    "n= 20\n",
    "arr_seeds = [random.randint(0,1000) for _ in range(n)]\n",
    "arr_versions = [x for x in range(n)]\n",
    "model = \"Qwen3-8B\"\n",
    "num_observations = 7\n",
    "type_cot = 'think'\n",
    "print(arr_seeds)\n",
    "print(f\"model: {model}\")"
   ]
  },
  {
   "cell_type": "code",
   "execution_count": 38,
   "id": "bbd1c5d7-3f56-4d9b-b2da-ced7d7af5dcd",
   "metadata": {
    "scrolled": true
   },
   "outputs": [
    {
     "name": "stdout",
     "output_type": "stream",
     "text": [
      "Загружаем модель...\n"
     ]
    },
    {
     "name": "stderr",
     "output_type": "stream",
     "text": [
      "Loading safetensors checkpoint shards:   0% Completed | 0/4 [00:00<?, ?it/s]\n",
      "Loading safetensors checkpoint shards:  25% Completed | 1/4 [00:00<00:00,  8.64it/s]\n",
      "Loading safetensors checkpoint shards:  50% Completed | 2/4 [00:00<00:00,  2.52it/s]\n",
      "Loading safetensors checkpoint shards:  75% Completed | 3/4 [00:01<00:00,  1.79it/s]\n",
      "Loading safetensors checkpoint shards: 100% Completed | 4/4 [00:02<00:00,  1.59it/s]\n",
      "Loading safetensors checkpoint shards: 100% Completed | 4/4 [00:02<00:00,  1.82it/s]\n",
      "\u001b[1;36m(VllmWorker rank=0 pid=379283)\u001b[0;0m \n"
     ]
    },
    {
     "name": "stdout",
     "output_type": "stream",
     "text": [
      "Модель успешно загружена\n",
      "model_config {'model': '/data/home/vkropoti/models/Qwen3-8B', 'tensor_parallel_size': 2, 'max_model_len': 40000, 'max_new_tokens': 1500, 'temperature': 0, 'top_k': 1, 'top_p': 0.8, 'gpu_memory_utilization': 0.9, 'trust_remote_code': False, 'seed': 906}\n",
      "\n",
      "prompts_config {'path_dev_json': '/home/vkropoti/vllm/dev.json', 'path_sql_dbs': '/data/home/vkropoti/sql_data/dev_databases/', 'use_reasoning': False, 'paths_to_cot': ['/data/home/vkropoti/sql_llm_answers/bird_dev/sql_think_Qwen3-8B-reasoning-v0', '/data/home/vkropoti/sql_llm_answers/bird_dev/sql_think_Qwen3-8B-reasoning-v1', '/data/home/vkropoti/sql_llm_answers/bird_dev/sql_think_Qwen3-8B-reasoning-v2', '/data/home/vkropoti/sql_llm_answers/bird_dev/sql_think_Qwen3-8B-reasoning-v3', '/data/home/vkropoti/sql_llm_answers/bird_dev/sql_think_Qwen3-8B-reasoning-v4', '/data/home/vkropoti/sql_llm_answers/bird_dev/sql_think_Qwen3-8B-reasoning-v5', '/data/home/vkropoti/sql_llm_answers/bird_dev/sql_think_Qwen3-8B-reasoning-v6']}\n",
      "\n",
      "save_config {'path_sql_save': '/data/home/vkropoti/sql_llm_answers/bird_dev/sql_all_Qwen3-8B-cot_think_think==False_nobs7-v0', 'path_think_save': None, 'path_sql_answers_save': '/data/home/vkropoti/sql_llm_answers/bird_dev/sql_predict_Qwen3-8B-cot_think_think==False_nobs7-v0', 'path_to_save_scores': '/data/home/vkropoti/sql_llm_answers/bird_dev/sql_results_Qwen3-8B-cot_think_think==False_nobs7-v0', 'path_to_save_executed': '/data/home/vkropoti/sql_llm_answers/bird_dev/sql_executed_Qwen3-8B-cot_think_think==False_nobs7-v0'}\n",
      "\n",
      "Модель успешно загружена\n",
      "Пример промпта\n",
      "<|im_start|>system\n",
      "\n",
      "You are a data science expert. Below, you are provided with a database schema and a natural language question. Your task is to understand the schema and generate a valid SQL query to answer the question.\n",
      "\n",
      "Database Engine: SQLite\n",
      "\n",
      "You will be given an additional analysis of other models, please take it into account, so the plan is\n",
      "1. Analyse given addition analysis from other models (find in which analysis the same and differ, how to use that to answer question)\n",
      "2. Combine best from previous part and think how to solve the problem (analyze tables, take care what columns avaliable in each table and so on, check the syntacsis)\n",
      "3. Create the answers. The answer should be only sql query.\n",
      "\n",
      "Carefully follow the instruction and add <|im_end|> and the end of the final answer<|im_end|>\n",
      "<|im_start|>user\n",
      "Here is addition analysis from other models which can be helpfull, please take this into account but be careful (choose the best from each analysis, combine them to make the most proper answer):\n",
      "\n",
      "model 0 analysis:\n",
      " Okay, I need to find the highest eligible free rate for K-12 students in schools located in Alameda County. Let's start by understanding the tables and the data available.\n",
      "\n",
      "First, the question involves two main tables: frpm and schools. The frpm table has the `Free Meal Count (K-12)` and `Enrollment (K-12)` columns needed to calculate the eligible free rate. The schools table has the County information, specifically the `County` column. \n",
      "\n",
      "So, the first step is to join these two tables on the CDSCode, which is the common key. The frpm table's CDSCode is a foreign key referencing the schools table's CDSCode. That makes sense. \n",
      "\n",
      "Next, I need to filter the schools in Alameda County. The schools table has a `County` column, so I'll add a WHERE clause to check if County equals 'Alameda'. \n",
      "\n",
      "Once the data is filtered, I need to calculate the eligible free rate using the formula provided: `Free Meal Count (K-12) / Enrollment (K-12)`. However, I should be cautious about division by zero. But since the question is about schools with data, maybe there's a safety net, but the problem might not require handling that here. \n",
      "\n",
      "The goal is to find the highest rate, so I'll use the MAX function on the calculated rate. But to do that, I need to compute the rate for each school and then find the maximum value. \n",
      "\n",
      "Putting it all together, the SQL query should select the maximum of the calculated rate from the joined tables where the County is Alameda. \n",
      "\n",
      "Wait, but the formula is Free Meal Count divided by Enrollment. So in SQL, that would be `Free Meal Count (K-12) / Enrollment (K-12)`. \n",
      "\n",
      "So the query structure would be: \n",
      "\n",
      "SELECT MAX(`Free Meal Count (K-12)` / `Enrollment (K-12)`) AS highest_rate\n",
      "FROM frpm\n",
      "JOIN schools ON frpm.CDSCode = schools.CDSCode\n",
      "WHERE schools.County = 'Alameda';\n",
      "\n",
      "But I should check if there are any schools in Alameda County. Also, ensure that the columns are correctly quoted since some have spaces. \n",
      "\n",
      "I should make sure that the JOIN is correctly using the CDSCode from both tables. Also, the schools table's County column is the right one to filter. \n",
      "\n",
      "I think that's all. The final query should select the maximum value of the calculated rate from the relevant schools.\n",
      "\n",
      "model 1 analysis:\n",
      " Okay, let's tackle this question. The user wants the highest eligible free rate for K-12 students in Alameda County. First, I need to figure out which tables and columns are involved.\n",
      "\n",
      "The eligible free rate is calculated as Free Meal Count (K-12) divided by Enrollment (K-12). The frpm table has these columns. But I also need to filter schools in Alameda County. The schools table has a County column. So I need to join frpm with schools on CDSCode to get the county information.\n",
      "\n",
      "Wait, the frpm table has a foreign key to schools' CDSCode, so joining them on CDSCode makes sense. Then, I can filter where County = 'Alameda'. Once I have the eligible free rate for each school, I need to find the maximum value. \n",
      "\n",
      "So the steps are: join frpm and schools on CDSCode, filter for Alameda County, calculate the ratio, and then select the maximum. But I need to make sure that Enrollment (K-12) isn't zero to avoid division by zero. However, the question might assume that enrollment is non-zero. \n",
      "\n",
      "The SQL query would select the maximum of (Free Meal Count / Enrollment) from the joined tables where County is Alameda. I should use the correct column names with backticks. Also, since the user wants only the highest rate, using MAX() on the calculated value should work. \n",
      "\n",
      "Wait, but the question says \"highest eligible free rate\", which is the percentage. So the calculation is (Free Meal Count / Enrollment) * 100. But the columns in frpm are Free Meal Count (K-12) and Enrollment (K-12). So the query would be:\n",
      "\n",
      "SELECT MAX(`Free Meal Count (K-12)` / `Enrollment (K-12)`) AS MaxRate\n",
      "FROM frpm\n",
      "JOIN schools ON frpm.CDSCode = schools.CDSCode\n",
      "WHERE schools.County = 'Alameda';\n",
      "\n",
      "But I need to check if the County column in schools is case-sensitive. The question says Alameda County, so the value in County might be 'Alameda'. Also, ensuring that Enrollment isn't zero. However, the problem might not require handling that. \n",
      "\n",
      "So the final query should join the tables, filter by County, compute the ratio, and find the maximum. That's the plan.\n",
      "\n",
      "model 2 analysis:\n",
      " Okay, I need to find the highest eligible free rate for K-12 students in schools located in Alameda County. Let's start by understanding the data structure and the tables involved.\n",
      "\n",
      "First, the question mentions \"eligible free rate for K-12,\" which is calculated as Free Meal Count (K-12) divided by Enrollment (K-12). The tables provided are frpm, satscores, and schools. The schools table has a County column, so I'll need to filter schools in Alameda County from there. \n",
      "\n",
      "The frpm table has the necessary columns for the free meal count and enrollment. However, I need to ensure that the schools in the frpm table are linked to the schools in the schools table. The frpm table has a CDSCode as the primary key, which is also a foreign key referencing the schools table's CDSCode. So, I can join these two tables on CDSCode.\n",
      "\n",
      "So the plan is: join frpm and schools on CDSCode where schools.County is 'Alameda'. Then compute the eligible free rate as (Free Meal Count (K-12) / Enrollment (K-12)) for each school. Finally, find the maximum value of this rate.\n",
      "\n",
      "Wait, but the question says \"highest eligible free rate,\" which is the maximum of the calculated rate. So I need to select the maximum value of (Free Meal Count / Enrollment) from the joined tables where County is Alameda.\n",
      "\n",
      "I need to make sure that the columns are correctly named. In the frpm table, the columns are `Free Meal Count (K-12)` and `Enrollment (K-12)`. The schools table's County column is named County. So the SQL query should join frpm and schools on CDSCode, filter where County = 'Alameda', and then calculate the rate. Then use MAX() to find the highest value.\n",
      "\n",
      "But wait, what if there are null values in Enrollment (K-12)? The question doesn't mention handling that, so I'll assume the data is clean. Also, division in SQL can be tricky. Since the columns are REAL, dividing them should work. So the query would be:\n",
      "\n",
      "SELECT MAX(`Free Meal Count (K-12)` / `Enrollment (K-12)`) AS MaxEligibleFreeRate\n",
      "FROM frpm\n",
      "JOIN schools ON frpm.CDSCode = schools.CDSCode\n",
      "WHERE schools.County = 'Alameda';\n",
      "\n",
      "But I need to check if the County column in schools is named correctly. Yes, the schools table has a County column. So this should work. That's the final query.\n",
      "\n",
      "model 3 analysis:\n",
      " Okay, I need to find the highest eligible free rate for K-12 students in schools located in Alameda County. Let's break this down step by step.\n",
      "\n",
      "First, the question mentions \"eligible free rate for K-12,\" which the external knowledge defines as `Free Meal Count (K-12)` divided by `Enrollment (K-12)`. So I'll need to calculate this ratio for each school. But I need to make sure that division is handled correctly, maybe using real numbers to avoid integer division issues.\n",
      "\n",
      "Next, the schools are in Alameda County. The `frpm` table has a `County Name` column, so I should filter schools where `County Name` is 'Alameda'. However, I should check if the `frpm` table has the necessary data. The `frpm` table's columns include `County Name`, so that's where I'll get the county information.\n",
      "\n",
      "Wait, but the `schools` table also has a `County` column. Which one should I use? The question refers to \"Alameda County,\" and the `frpm` table's `County Name` might be the right column. But I should confirm. However, since the `frpm` table is linked via `CDSCode` to the `schools` table, maybe the `County Name` in `frpm` is the correct one. But perhaps the `schools` table's `County` column is more accurate. Hmm. But the user's external knowledge might assume using `frpm`'s `County Name`. Let me check the tables again.\n",
      "\n",
      "The `frpm` table has a `County Name` column, and the `schools` table has a `County` column. The question is about schools in Alameda County. The `frpm` table's `County Name` likely refers to the county where the school is located. But maybe I should cross-reference. However, the `frpm` table is linked to `schools` via `CDSCode`, so if I use `frpm`'s `County Name`, that's the right approach. But the user's question might have the `County` column in `schools` as the correct one. Wait, the question doesn't specify which table's county to use, but the external knowledge's formula uses columns from `frpm`. So perhaps the `County Name` in `frpm` is the correct one.\n",
      "\n",
      "So the plan is: join the `frpm` table with the `schools` table on `CDSCode`, filter where `County Name` is 'Alameda', calculate the eligible free rate as `Free Meal Count (K-12) / Enrollment (K-12)`, and then find the maximum value of that rate.\n",
      "\n",
      "Wait, but the `frpm` table might not have all the schools. The `schools` table has a `CDSCode` as primary key, and `frpm` has a foreign key to `schools`'s `CDSCode`. So `frpm` might have entries for schools that are in the `schools` table. But if I need to get the county information, I should use the `County Name` from `frpm` because it's directly related to the school's location. But maybe the `schools` table's `County` is more accurate. However, the user's external knowledge uses `frpm`'s columns, so I should use `frpm`'s `County Name`.\n",
      "\n",
      "So, the SQL query would select the `Free Meal Count (K-12)` and `Enrollment (K-12)` from `frpm` where `County Name` is 'Alameda', calculate the ratio, and find the maximum. But I need to ensure that `Enrollment (K-12)` is not zero to avoid division by zero. However, the question doesn't mention handling that, so maybe it's safe to proceed.\n",
      "\n",
      "So the steps are:\n",
      "\n",
      "1. Select from `frpm` where `County Name` = 'Alameda'.\n",
      "2. Calculate `Free Meal Count (K-12) / Enrollment (K-12)` as the eligible free rate.\n",
      "3. Find the maximum value of this rate.\n",
      "\n",
      "But I need to make sure that the columns are correctly referenced. The `frpm` table has `Free Meal Count (K-12)` and `Enrollment (K-12)` as columns. Also, the `County Name` is in `frpm`.\n",
      "\n",
      "So the SQL query would be:\n",
      "\n",
      "SELECT MAX(`Free Meal Count (K-12)` / `Enrollment (K-12)`) AS highest_eligible_free_rate\n",
      "FROM frpm\n",
      "WHERE `County Name` = 'Alameda';\n",
      "\n",
      "Wait, but what if there are schools with zero enrollment? The division would result in NULL or an error. However, the problem doesn't mention handling that, so perhaps it's acceptable. Also, the question might assume that the data is valid.\n",
      "\n",
      "But the user's question asks for the highest eligible free rate, so the query should return a single value. Using MAX on the calculated ratio would give the maximum.\n",
      "\n",
      "So the final SQL query should be as above.\n",
      "\n",
      "model 4 analysis:\n",
      " Okay, let's tackle this question. The user wants the highest eligible free rate for K-12 students in Alameda County. First, I need to figure out which tables and columns are relevant.\n",
      "\n",
      "The eligible free rate is calculated as Free Meal Count (K-12) divided by Enrollment (K-12). So I need to get those two values from the frpm table. But wait, the schools are in Alameda County, so I need to link the frpm table with the schools table to check the county.\n",
      "\n",
      "Looking at the tables, the frpm table has a County Name column, but the schools table has a County column. The frpm's CDSCode is a foreign key to schools' CDSCode. So I should join frpm with schools on CDSCode to get the county information.\n",
      "\n",
      "Wait, the question specifies Alameda County. So I need to filter where schools.County = 'Alameda'. But the frpm table has County Name, but maybe the schools table's County is more accurate. Let me check the tables again. The schools table has a County column, which is likely the correct one to use for filtering. So I should join frpm and schools on CDSCode, then filter where schools.County is 'Alameda'.\n",
      "\n",
      "Once I have the correct schools in Alameda County, I can calculate the eligible free rate as Free Meal Count divided by Enrollment. Then, I need to find the maximum value of that rate. So the SQL query should select the maximum of (Free Meal Count / Enrollment) from the joined tables where County is Alameda.\n",
      "\n",
      "Wait, but the columns in frpm are named with backticks because they have spaces. So in the query, I need to use `Free Meal Count (K-12)` and `Enrollment (K-12)`. Also, the schools table's County column is named County. So the join condition is frpm.CDSCode = schools.CDSCode.\n",
      "\n",
      "Putting it all together: join frpm and schools on CDSCode, filter where schools.County = 'Alameda', compute the ratio, and find the maximum. The final query would use MAX(`Free Meal Count (K-12)` / `Enrollment (K-12)`) as the select clause, joined with the schools table where County is Alameda. Make sure to handle possible nulls, but since the question is about schools in Alameda, maybe the data is present.\n",
      "\n",
      "model 5 analysis:\n",
      " Okay, let's see. The user is asking for the highest eligible free rate for K-12 students in schools located in Alameda County. The eligible free rate is calculated as Free Meal Count (K-12) divided by Enrollment (K-12). \n",
      "\n",
      "First, I need to figure out which tables to use. The frpm table has the Free Meal Count (K-12) and Enrollment (K-12) columns. But the County Name is in the frpm table as `County Name`. So, I should join the frpm table with the schools table to get the county information. Wait, no, the schools table has a County column. Wait, the schools table's County column is directly the county name. Wait, the frpm table has `County Name`, but the schools table has County. Which one should I use? The question specifies Alameda County, so I need to check which table has the County Name. Let me check the tables again.\n",
      "\n",
      "Looking at the schools table, there's a County column. The frpm table has `County Name`. So maybe the schools table's County is the same as frpm's `County Name`. But since the schools table is linked via CDSCode, and frpm has a foreign key to schools, perhaps the County in schools is the same as `County Name` in frpm. But to be safe, maybe I should check which one has the county information. However, the user is asking about Alameda County. Let me think. The schools table has a County column, which is probably the county name. So, I can filter on schools.County = 'Alameda'.\n",
      "\n",
      "But wait, the frpm table has `County Name` as well. However, the schools table's County is a direct field. Since the frpm table is linked to schools via CDSCode, perhaps the County in schools is the same as `County Name` in frpm. But to avoid confusion, maybe I should use the schools table's County column. Because the schools table is the primary table with school details, and the frpm table might have redundant county info. But the user might have different data. However, the question is about the county, so I need to make sure which table's county field to use.\n",
      "\n",
      "Alternatively, maybe the frpm table's `County Name` is the correct one. But since the schools table is linked via CDSCode, and the County is in schools, perhaps the schools table is the source for the county. But without knowing the data structure, it's safer to check both. However, given that the user's question is about the county, perhaps the County in the schools table is the correct field. \n",
      "\n",
      "Wait, the question is about schools in Alameda County. So I need to find all schools where the county is Alameda. So, I need to filter the schools table where County = 'Alameda'. But the frpm table has `County Name`, but that's linked to schools. So perhaps the correct approach is to join frpm with schools on CDSCode, then filter schools.County = 'Alameda'.\n",
      "\n",
      "Alternatively, maybe the frpm table's `County Name` is sufficient, but if the schools table's County is more accurate, then I should use that. But since the schools table is the main table with school details, and frpm is linked to it, perhaps the County in schools is the correct column. \n",
      "\n",
      "So, the plan is: \n",
      "\n",
      "1. Join frpm with schools on CDSCode to get the county information. \n",
      "\n",
      "But wait, the frpm table has a foreign key to schools, so each frpm record is linked to a school. So, if I join frpm with schools on CDSCode, I can get the County from schools. \n",
      "\n",
      "Alternatively, the frpm table has a `County Name` column, which might be redundant. But if the user wants to use that, then perhaps it's in frpm. But the question is about schools in Alameda County. So, the County column in the schools table would be the correct one. \n",
      "\n",
      "So, to answer the question, the steps are:\n",
      "\n",
      "- Find all schools in Alameda County (using schools.County = 'Alameda').\n",
      "- For those schools, get the Free Meal Count (K-12) and Enrollment (K-12) from the frpm table.\n",
      "- Calculate the eligible free rate as Free Meal Count / Enrollment.\n",
      "- Find the maximum value of this rate.\n",
      "\n",
      "But how to join the tables? The frpm table has a foreign key to schools (CDSCode), so joining on CDSCode would link the frpm data to the school's county. \n",
      "\n",
      "So the SQL query would involve joining frpm with schools on CDSCode, then filtering where schools.County = 'Alameda', then computing the rate and finding the maximum.\n",
      "\n",
      "But the user's question is about the highest eligible free rate. So the SQL should select the maximum of (Free Meal Count (K-12) / Enrollment (K-12)) where the county is Alameda.\n",
      "\n",
      "So the query would be:\n",
      "\n",
      "SELECT MAX(`Free Meal Count (K-12)` / `Enrollment (K-12)`) AS MaxEligibleFreeRate\n",
      "FROM frpm\n",
      "JOIN schools ON frpm.CDSCode = schools.CDSCode\n",
      "WHERE schools.County = 'Alameda';\n",
      "\n",
      "But wait, the frpm table has `Free Meal Count (K-12)` and `Enrollment (K-12)` columns. So yes.\n",
      "\n",
      "But need to check if there are any null values. For example, if Enrollment (K-12) is zero, division by zero would be an error. But the question probably assumes that enrollment is not zero. Alternatively, the data may have non-null values. Assuming that the data is clean, the query can proceed.\n",
      "\n",
      "Thus, the correct SQL is as above.\n",
      "\n",
      "model 6 analysis:\n",
      " Okay, let's tackle this question. The user wants the highest eligible free rate for K-12 students in schools located in Alameda County. \n",
      "\n",
      "First, I need to figure out which tables to use. The frpm table has the necessary columns for calculating the eligible free rate. The 'Free Meal Count (K-12)' and 'Enrollment (K-12)' are both in the frpm table. But I also need to filter schools in Alameda County. The schools table has a 'County' column, so I need to join frpm with schools on CDSCode to get the county information.\n",
      "\n",
      "Wait, the frpm table has a foreign key to schools.CDSCode, so joining them on CDSCode makes sense. So the plan is to join frpm and schools on CDSCode, filter where schools.County is 'Alameda', then calculate the eligible free rate as (Free Meal Count / Enrollment). Then find the maximum of that value.\n",
      "\n",
      "But I need to make sure that Enrollment isn't zero to avoid division by zero. However, the problem might assume that enrollment is non-zero. Let's proceed.\n",
      "\n",
      "So the SQL query would select the max of (Free Meal Count / Enrollment) from frpm joined with schools where County is 'Alameda'. But the columns are named with spaces, so I need to use quotes. Also, the column names in the frpm table are `Free Meal Count (K-12)` and `Enrollment (K-12)`. \n",
      "\n",
      "Wait, the schools table's County column is named 'County', so the join condition is on frpm.CDSCode = schools.CDSCode. Then, the WHERE clause is schools.County = 'Alameda'. \n",
      "\n",
      "The final query would select the maximum value of (`Free Meal Count (K-12)` / `Enrollment (K-12)`) from the joined tables where County is Alameda. I should use ROUND or cast to avoid floating point issues, but the question doesn't specify, so just calculate the max.\n",
      "\n",
      "So the SQL would be:\n",
      "\n",
      "SELECT MAX(`Free Meal Count (K-12)` / `Enrollment (K-12)`) AS highest_rate\n",
      "FROM frpm\n",
      "JOIN schools ON frpm.CDSCode = schools.CDSCode\n",
      "WHERE schools.County = 'Alameda';\n",
      "\n",
      "Wait, but the frpm table's columns are `Free Meal Count (K-12)` and `Enrollment (K-12)`. So that's correct. Also, checking if the join is correct. The foreign key in frpm references schools.CDSCode, so the join is valid. \n",
      "\n",
      "Yes, that should do it. Make sure to use the correct column names with quotes and the join condition. The answer should be the maximum value of that ratio where the county is Alameda.\n",
      "\n",
      "\n",
      "here is avaliable tables below\n",
      "\n",
      "\n",
      "Table: frpm\n",
      "CREATE TABLE frpm\n",
      "(\n",
      "    CDSCode                                       TEXT not null\n",
      "        primary key,\n",
      "    `Academic Year`                               TEXT  null,\n",
      "    `County Code`                                 TEXT  null,\n",
      "    `District Code`                               INTEGER         null,\n",
      "    `School Code`                                 TEXT  null,\n",
      "    `County Name`                                 TEXT null,\n",
      "    `District Name`                               TEXT null,\n",
      "    `School Name`                                 TEXT null,\n",
      "    `District Type`                               TEXT null,\n",
      "    `School Type`                                 TEXT null,\n",
      "    `Educational Option Type`                     TEXT null,\n",
      "    `NSLP Provision Status`                       TEXT null,\n",
      "    `Charter School (Y/N)`                        INTEGER    null,\n",
      "    `Charter School Number`                       TEXT  null,\n",
      "    `Charter Funding Type`                        TEXT null,\n",
      "    IRC                                           INTEGER    null,\n",
      "    `Low Grade`                                   TEXT  null,\n",
      "    `High Grade`                                  TEXT null,\n",
      "    `Enrollment (K-12)`                           REAL      null,\n",
      "    `Free Meal Count (K-12)`                      REAL       null,\n",
      "    `Percent (%) Eligible Free (K-12)`            REAL       null,\n",
      "    `FRPM Count (K-12)`                           REAL       null,\n",
      "    `Percent (%) Eligible FRPM (K-12)`            REAL       null,\n",
      "    `Enrollment (Ages 5-17)`                      REAL       null,\n",
      "    `Free Meal Count (Ages 5-17)`                 REAL       null,\n",
      "    `Percent (%) Eligible Free (Ages 5-17)`       REAL       null,\n",
      "    `FRPM Count (Ages 5-17)`                      REAL       null,\n",
      "    `Percent (%) Eligible FRPM (Ages 5-17)`       REAL       null,\n",
      "    `2013-14 CALPADS Fall 1 Certification Status` INTEGER    null,\n",
      "    foreign key (CDSCode) references schools (CDSCode)\n",
      ")\n",
      "\n",
      "Table: satscores\n",
      "CREATE TABLE satscores\n",
      "(\n",
      "    cds         TEXT not null\n",
      "        primary key,\n",
      "    rtype       TEXT  not null,\n",
      "    sname       TEXT null,\n",
      "    dname       TEXT null,\n",
      "    cname       TEXT null,\n",
      "    enroll12    INTEGER         not null,\n",
      "    NumTstTakr  INTEGER          not null,\n",
      "    AvgScrRead  INTEGER          null,\n",
      "    AvgScrMath  INTEGER          null,\n",
      "    AvgScrWrite INTEGER          null,\n",
      "    NumGE1500   INTEGER          null,\n",
      "--     PctGE1500   double      null,\n",
      "        foreign key (cds) references schools (CDSCode)\n",
      ")\n",
      "\n",
      "Table: schools\n",
      "CREATE TABLE schools\n",
      "(\n",
      "    CDSCode     TEXT not null\n",
      "        primary key,\n",
      "    NCESDist    TEXT  null,\n",
      "    NCESSchool  TEXT  null,\n",
      "    StatusType  TEXT  not null,\n",
      "    County      TEXT not null,\n",
      "    District    TEXT not null,\n",
      "    School      TEXT null,\n",
      "    Street      TEXT null,\n",
      "    StreetAbr   TEXT null,\n",
      "    City        TEXT null,\n",
      "    Zip         TEXT null,\n",
      "    State       TEXT  null,\n",
      "    MailStreet  TEXT null,\n",
      "    MailStrAbr  TEXT null,\n",
      "    MailCity    TEXT null,\n",
      "    MailZip     TEXT null,\n",
      "    MailState   TEXT  null,\n",
      "    Phone       TEXT null,\n",
      "    Ext         TEXT  null,\n",
      "    Website     TEXT null,\n",
      "    OpenDate    DATE        null,\n",
      "    ClosedDate  DATE        null,\n",
      "    Charter     INTEGER    null,\n",
      "    CharterNum  TEXT  null,\n",
      "    FundingType TEXT null,\n",
      "    DOC         TEXT  not null,\n",
      "    DOCType     TEXT not null,\n",
      "    SOC         TEXT  null,\n",
      "    SOCType     TEXT null,\n",
      "    EdOpsCode   TEXT  null,\n",
      "    EdOpsName   TEXT null,\n",
      "    EILCode     TEXT  null,\n",
      "    EILName     TEXT null,\n",
      "    GSoffered   TEXT null,\n",
      "    GSserved    TEXT  null,\n",
      "    Virtual     TEXT  null,\n",
      "    Magnet      INTEGER   null,\n",
      "    Latitude    REAL      null,\n",
      "    Longitude   REAL      null,\n",
      "    AdmFName1   TEXT null,\n",
      "    AdmLName1   TEXT null,\n",
      "    AdmEmail1   TEXT null,\n",
      "    AdmFName2   TEXT null,\n",
      "    AdmLName2   TEXT null,\n",
      "    AdmEmail2   TEXT null,\n",
      "    AdmFName3   TEXT  null,\n",
      "    AdmLName3   TEXT null,\n",
      "    AdmEmail3   TEXT null,\n",
      "    LastUpdate  DATE        not null\n",
      ")\n",
      "\n",
      "-- Using valid SQLite and understanding External Knowledge, answer the following questions for the tables provided above.\n",
      "-- What is the highest eligible free rate for K-12 students in the schools in Alameda County?\n",
      "-- External Knowledge: Eligible free rate for K-12 = `Free Meal Count (K-12)` / `Enrollment (K-12)`\n",
      "\n",
      "\n",
      "Generate the SQLite for the above question after thinking step by step: \n",
      "\n",
      "\n",
      "Instructions:\n",
      "- Make sure you only output the information that is asked in the question. If the question asks for a specific column, make sure to only include that column in the SELECT clause, nothing more.\n",
      "- The generated query should return all of the information asked in the question without any missing or extra information.\n",
      "- Before generating the final SQL query, please think through the steps of how to write the query.\n",
      "- Do not misuse column names, keep them in quotes `\n",
      "- Carefully understand what colomns belond to what tables\n",
      "- Use only initial column names, change names prohibited\n",
      "        \n",
      "Output Format:\n",
      "In your answer, please enclose the generated SQL query in a code block:\n",
      "```\n",
      "-- Your SQL query\n",
      "```    \n",
      "and nothing else, no exaplains, no comments (asnwer should be less than 512 characters)\n",
      "\n",
      "Take a deep breath and think step by step to find the correct SQL query in SQLite format.\n",
      "\n",
      "Question repetition: What is the highest eligible free rate for K-12 students in the schools in Alameda County?\n",
      "\n",
      "Be care! Include only what i want it questiona and nothing else<|im_end|>\n",
      "<|im_start|>assistant\n",
      "<think>\n",
      "\n",
      "</think>\n",
      "\n",
      "\n",
      "\n",
      "\n",
      "Максимальное количество токенов в промптах: 31108\n",
      "\n",
      "начинаем скорринг\n",
      "Загружаем чаты с данными...\n",
      "Данные успешно загружены\n",
      "Начали генерацию SQL запросов\n"
     ]
    },
    {
     "name": "stderr",
     "output_type": "stream",
     "text": [
      "Processed prompts: 100%|██████████| 1534/1534 [05:05<00:00,  5.02it/s, est. speed input: 37454.83 toks/s, output: 238.30 toks/s]"
     ]
    },
    {
     "name": "stdout",
     "output_type": "stream",
     "text": [
      "extract_think количество ошибок:  0\n",
      "extract_sql количество ошибок:  0\n",
      "Закончили генерацию SQL запросов\n",
      "Начали скорр полученных SQL запросов\n"
     ]
    },
    {
     "name": "stderr",
     "output_type": "stream",
     "text": [
      "\n"
     ]
    },
    {
     "name": "stdout",
     "output_type": "stream",
     "text": [
      "Qwen3-8B DEV Финальный результат EX: 58.21\n",
      "Qwen3-8B процент запросов, которые успешно выполнились DEV: 95.50%\n",
      "====================================================================================================\n",
      "\n",
      "\n",
      "Загружаем чаты с данными...\n",
      "Данные успешно загружены\n",
      "Начали генерацию SQL запросов\n"
     ]
    },
    {
     "name": "stderr",
     "output_type": "stream",
     "text": [
      "Processed prompts: 100%|██████████| 1534/1534 [05:04<00:00,  5.04it/s, est. speed input: 37863.63 toks/s, output: 237.01 toks/s]"
     ]
    },
    {
     "name": "stdout",
     "output_type": "stream",
     "text": [
      "extract_think количество ошибок:  0\n",
      "extract_sql количество ошибок:  0\n",
      "Закончили генерацию SQL запросов\n",
      "Начали скорр полученных SQL запросов\n"
     ]
    },
    {
     "name": "stderr",
     "output_type": "stream",
     "text": [
      "\n"
     ]
    },
    {
     "name": "stdout",
     "output_type": "stream",
     "text": [
      "Qwen3-8B DEV Финальный результат EX: 57.69\n",
      "Qwen3-8B процент запросов, которые успешно выполнились DEV: 94.98%\n",
      "====================================================================================================\n",
      "\n",
      "\n",
      "Загружаем чаты с данными...\n",
      "Данные успешно загружены\n",
      "Начали генерацию SQL запросов\n"
     ]
    },
    {
     "name": "stderr",
     "output_type": "stream",
     "text": [
      "Processed prompts: 100%|██████████| 1534/1534 [05:05<00:00,  5.03it/s, est. speed input: 37891.19 toks/s, output: 238.44 toks/s]"
     ]
    },
    {
     "name": "stdout",
     "output_type": "stream",
     "text": [
      "extract_think количество ошибок:  0\n",
      "extract_sql количество ошибок:  0\n",
      "Закончили генерацию SQL запросов\n",
      "Начали скорр полученных SQL запросов\n"
     ]
    },
    {
     "name": "stderr",
     "output_type": "stream",
     "text": [
      "\n"
     ]
    },
    {
     "name": "stdout",
     "output_type": "stream",
     "text": [
      "Qwen3-8B DEV Финальный результат EX: 58.02\n",
      "Qwen3-8B процент запросов, которые успешно выполнились DEV: 95.96%\n",
      "====================================================================================================\n",
      "\n",
      "\n",
      "Загружаем чаты с данными...\n",
      "Данные успешно загружены\n",
      "Начали генерацию SQL запросов\n"
     ]
    },
    {
     "name": "stderr",
     "output_type": "stream",
     "text": [
      "Processed prompts: 100%|██████████| 1534/1534 [05:00<00:00,  5.11it/s, est. speed input: 38266.84 toks/s, output: 237.52 toks/s]"
     ]
    },
    {
     "name": "stdout",
     "output_type": "stream",
     "text": [
      "extract_think количество ошибок:  0\n",
      "extract_sql количество ошибок:  0\n",
      "Закончили генерацию SQL запросов\n",
      "Начали скорр полученных SQL запросов\n"
     ]
    },
    {
     "name": "stderr",
     "output_type": "stream",
     "text": [
      "\n"
     ]
    },
    {
     "name": "stdout",
     "output_type": "stream",
     "text": [
      "Qwen3-8B DEV Финальный результат EX: 58.08\n",
      "Qwen3-8B процент запросов, которые успешно выполнились DEV: 95.89%\n",
      "====================================================================================================\n",
      "\n",
      "\n",
      "Загружаем чаты с данными...\n",
      "Данные успешно загружены\n",
      "Начали генерацию SQL запросов\n"
     ]
    },
    {
     "name": "stderr",
     "output_type": "stream",
     "text": [
      "Processed prompts: 100%|██████████| 1534/1534 [05:02<00:00,  5.08it/s, est. speed input: 38163.40 toks/s, output: 234.60 toks/s]"
     ]
    },
    {
     "name": "stdout",
     "output_type": "stream",
     "text": [
      "extract_think количество ошибок:  0\n",
      "extract_sql количество ошибок:  0\n",
      "Закончили генерацию SQL запросов\n",
      "Начали скорр полученных SQL запросов\n"
     ]
    },
    {
     "name": "stderr",
     "output_type": "stream",
     "text": [
      "\n"
     ]
    },
    {
     "name": "stdout",
     "output_type": "stream",
     "text": [
      "Qwen3-8B DEV Финальный результат EX: 57.43\n",
      "Qwen3-8B процент запросов, которые успешно выполнились DEV: 96.22%\n",
      "====================================================================================================\n",
      "\n",
      "\n",
      "Загружаем чаты с данными...\n",
      "Данные успешно загружены\n",
      "Начали генерацию SQL запросов\n"
     ]
    },
    {
     "name": "stderr",
     "output_type": "stream",
     "text": [
      "Processed prompts: 100%|██████████| 1534/1534 [05:05<00:00,  5.02it/s, est. speed input: 37727.61 toks/s, output: 238.59 toks/s]"
     ]
    },
    {
     "name": "stdout",
     "output_type": "stream",
     "text": [
      "extract_think количество ошибок:  0\n",
      "extract_sql количество ошибок:  0\n",
      "Закончили генерацию SQL запросов\n",
      "Начали скорр полученных SQL запросов\n"
     ]
    },
    {
     "name": "stderr",
     "output_type": "stream",
     "text": [
      "\n"
     ]
    },
    {
     "name": "stdout",
     "output_type": "stream",
     "text": [
      "Qwen3-8B DEV Финальный результат EX: 58.21\n",
      "Qwen3-8B процент запросов, которые успешно выполнились DEV: 95.76%\n",
      "====================================================================================================\n",
      "\n",
      "\n",
      "Загружаем чаты с данными...\n",
      "Данные успешно загружены\n",
      "Начали генерацию SQL запросов\n"
     ]
    },
    {
     "name": "stderr",
     "output_type": "stream",
     "text": [
      "Processed prompts: 100%|██████████| 1534/1534 [05:08<00:00,  4.98it/s, est. speed input: 37613.19 toks/s, output: 237.48 toks/s]"
     ]
    },
    {
     "name": "stdout",
     "output_type": "stream",
     "text": [
      "extract_think количество ошибок:  0\n",
      "extract_sql количество ошибок:  0\n",
      "Закончили генерацию SQL запросов\n",
      "Начали скорр полученных SQL запросов\n"
     ]
    },
    {
     "name": "stderr",
     "output_type": "stream",
     "text": [
      "\n"
     ]
    },
    {
     "name": "stdout",
     "output_type": "stream",
     "text": [
      "Qwen3-8B DEV Финальный результат EX: 56.78\n",
      "Qwen3-8B процент запросов, которые успешно выполнились DEV: 95.83%\n",
      "====================================================================================================\n",
      "\n",
      "\n",
      "Загружаем чаты с данными...\n",
      "Данные успешно загружены\n",
      "Начали генерацию SQL запросов\n"
     ]
    },
    {
     "name": "stderr",
     "output_type": "stream",
     "text": [
      "Processed prompts: 100%|██████████| 1534/1534 [05:08<00:00,  4.97it/s, est. speed input: 37547.14 toks/s, output: 235.32 toks/s]"
     ]
    },
    {
     "name": "stdout",
     "output_type": "stream",
     "text": [
      "extract_think количество ошибок:  0\n",
      "extract_sql количество ошибок:  0\n",
      "Закончили генерацию SQL запросов\n",
      "Начали скорр полученных SQL запросов\n"
     ]
    },
    {
     "name": "stderr",
     "output_type": "stream",
     "text": [
      "\n"
     ]
    },
    {
     "name": "stdout",
     "output_type": "stream",
     "text": [
      "Qwen3-8B DEV Финальный результат EX: 57.89\n",
      "Qwen3-8B процент запросов, которые успешно выполнились DEV: 95.96%\n",
      "====================================================================================================\n",
      "\n",
      "\n",
      "Загружаем чаты с данными...\n",
      "Данные успешно загружены\n",
      "Начали генерацию SQL запросов\n"
     ]
    },
    {
     "name": "stderr",
     "output_type": "stream",
     "text": [
      "Processed prompts: 100%|██████████| 1534/1534 [05:02<00:00,  5.08it/s, est. speed input: 38064.63 toks/s, output: 234.66 toks/s]"
     ]
    },
    {
     "name": "stdout",
     "output_type": "stream",
     "text": [
      "extract_think количество ошибок:  0\n",
      "extract_sql количество ошибок:  0\n",
      "Закончили генерацию SQL запросов\n",
      "Начали скорр полученных SQL запросов\n"
     ]
    },
    {
     "name": "stderr",
     "output_type": "stream",
     "text": [
      "\n"
     ]
    },
    {
     "name": "stdout",
     "output_type": "stream",
     "text": [
      "Qwen3-8B DEV Финальный результат EX: 57.63\n",
      "Qwen3-8B процент запросов, которые успешно выполнились DEV: 95.50%\n",
      "====================================================================================================\n",
      "\n",
      "\n",
      "Загружаем чаты с данными...\n",
      "Данные успешно загружены\n",
      "Начали генерацию SQL запросов\n"
     ]
    },
    {
     "name": "stderr",
     "output_type": "stream",
     "text": [
      "Processed prompts: 100%|██████████| 1534/1534 [05:03<00:00,  5.06it/s, est. speed input: 37799.67 toks/s, output: 239.36 toks/s]"
     ]
    },
    {
     "name": "stdout",
     "output_type": "stream",
     "text": [
      "extract_think количество ошибок:  0\n",
      "extract_sql количество ошибок:  0\n",
      "Закончили генерацию SQL запросов\n",
      "Начали скорр полученных SQL запросов\n"
     ]
    },
    {
     "name": "stderr",
     "output_type": "stream",
     "text": [
      "\n"
     ]
    },
    {
     "name": "stdout",
     "output_type": "stream",
     "text": [
      "Qwen3-8B DEV Финальный результат EX: 57.69\n",
      "Qwen3-8B процент запросов, которые успешно выполнились DEV: 96.28%\n",
      "====================================================================================================\n",
      "\n",
      "\n",
      "Загружаем чаты с данными...\n",
      "Данные успешно загружены\n",
      "Начали генерацию SQL запросов\n"
     ]
    },
    {
     "name": "stderr",
     "output_type": "stream",
     "text": [
      "Processed prompts: 100%|██████████| 1534/1534 [05:02<00:00,  5.06it/s, est. speed input: 37813.83 toks/s, output: 238.06 toks/s]"
     ]
    },
    {
     "name": "stdout",
     "output_type": "stream",
     "text": [
      "extract_think количество ошибок:  0\n",
      "extract_sql количество ошибок:  0\n",
      "Закончили генерацию SQL запросов\n",
      "Начали скорр полученных SQL запросов\n"
     ]
    },
    {
     "name": "stderr",
     "output_type": "stream",
     "text": [
      "\n"
     ]
    },
    {
     "name": "stdout",
     "output_type": "stream",
     "text": [
      "Qwen3-8B DEV Финальный результат EX: 58.41\n",
      "Qwen3-8B процент запросов, которые успешно выполнились DEV: 95.96%\n",
      "====================================================================================================\n",
      "\n",
      "\n",
      "Загружаем чаты с данными...\n",
      "Данные успешно загружены\n",
      "Начали генерацию SQL запросов\n"
     ]
    },
    {
     "name": "stderr",
     "output_type": "stream",
     "text": [
      "Processed prompts: 100%|██████████| 1534/1534 [05:02<00:00,  5.06it/s, est. speed input: 37846.76 toks/s, output: 237.73 toks/s]"
     ]
    },
    {
     "name": "stdout",
     "output_type": "stream",
     "text": [
      "extract_think количество ошибок:  0\n",
      "extract_sql количество ошибок:  0\n",
      "Закончили генерацию SQL запросов\n",
      "Начали скорр полученных SQL запросов\n"
     ]
    },
    {
     "name": "stderr",
     "output_type": "stream",
     "text": [
      "\n"
     ]
    },
    {
     "name": "stdout",
     "output_type": "stream",
     "text": [
      "Qwen3-8B DEV Финальный результат EX: 58.02\n",
      "Qwen3-8B процент запросов, которые успешно выполнились DEV: 96.09%\n",
      "====================================================================================================\n",
      "\n",
      "\n",
      "Загружаем чаты с данными...\n",
      "Данные успешно загружены\n",
      "Начали генерацию SQL запросов\n"
     ]
    },
    {
     "name": "stderr",
     "output_type": "stream",
     "text": [
      "Processed prompts: 100%|██████████| 1534/1534 [04:59<00:00,  5.13it/s, est. speed input: 38193.46 toks/s, output: 242.08 toks/s]"
     ]
    },
    {
     "name": "stdout",
     "output_type": "stream",
     "text": [
      "extract_think количество ошибок:  0\n",
      "extract_sql количество ошибок:  0\n",
      "Закончили генерацию SQL запросов\n",
      "Начали скорр полученных SQL запросов\n"
     ]
    },
    {
     "name": "stderr",
     "output_type": "stream",
     "text": [
      "\n"
     ]
    },
    {
     "name": "stdout",
     "output_type": "stream",
     "text": [
      "Qwen3-8B DEV Финальный результат EX: 58.28\n",
      "Qwen3-8B процент запросов, которые успешно выполнились DEV: 95.89%\n",
      "====================================================================================================\n",
      "\n",
      "\n",
      "Загружаем чаты с данными...\n",
      "Данные успешно загружены\n",
      "Начали генерацию SQL запросов\n"
     ]
    },
    {
     "name": "stderr",
     "output_type": "stream",
     "text": [
      "Processed prompts: 100%|██████████| 1534/1534 [05:01<00:00,  5.08it/s, est. speed input: 37743.21 toks/s, output: 238.97 toks/s]"
     ]
    },
    {
     "name": "stdout",
     "output_type": "stream",
     "text": [
      "extract_think количество ошибок:  0\n",
      "extract_sql количество ошибок:  0\n",
      "Закончили генерацию SQL запросов\n",
      "Начали скорр полученных SQL запросов\n"
     ]
    },
    {
     "name": "stderr",
     "output_type": "stream",
     "text": [
      "\n"
     ]
    },
    {
     "name": "stdout",
     "output_type": "stream",
     "text": [
      "Qwen3-8B DEV Финальный результат EX: 58.21\n",
      "Qwen3-8B процент запросов, которые успешно выполнились DEV: 95.76%\n",
      "====================================================================================================\n",
      "\n",
      "\n",
      "Загружаем чаты с данными...\n",
      "Данные успешно загружены\n",
      "Начали генерацию SQL запросов\n"
     ]
    },
    {
     "name": "stderr",
     "output_type": "stream",
     "text": [
      "Processed prompts: 100%|██████████| 1534/1534 [05:01<00:00,  5.08it/s, est. speed input: 37693.63 toks/s, output: 238.71 toks/s]"
     ]
    },
    {
     "name": "stdout",
     "output_type": "stream",
     "text": [
      "extract_think количество ошибок:  0\n",
      "extract_sql количество ошибок:  0\n",
      "Закончили генерацию SQL запросов\n",
      "Начали скорр полученных SQL запросов\n"
     ]
    },
    {
     "name": "stderr",
     "output_type": "stream",
     "text": [
      "\n"
     ]
    },
    {
     "name": "stdout",
     "output_type": "stream",
     "text": [
      "Qwen3-8B DEV Финальный результат EX: 58.21\n",
      "Qwen3-8B процент запросов, которые успешно выполнились DEV: 95.50%\n",
      "====================================================================================================\n",
      "\n",
      "\n",
      "Загружаем чаты с данными...\n",
      "Данные успешно загружены\n",
      "Начали генерацию SQL запросов\n"
     ]
    },
    {
     "name": "stderr",
     "output_type": "stream",
     "text": [
      "Processed prompts: 100%|██████████| 1534/1534 [05:01<00:00,  5.08it/s, est. speed input: 37814.90 toks/s, output: 239.13 toks/s]"
     ]
    },
    {
     "name": "stdout",
     "output_type": "stream",
     "text": [
      "extract_think количество ошибок:  0\n",
      "extract_sql количество ошибок:  0\n",
      "Закончили генерацию SQL запросов\n",
      "Начали скорр полученных SQL запросов\n"
     ]
    },
    {
     "name": "stderr",
     "output_type": "stream",
     "text": [
      "\n"
     ]
    },
    {
     "name": "stdout",
     "output_type": "stream",
     "text": [
      "Qwen3-8B DEV Финальный результат EX: 58.34\n",
      "Qwen3-8B процент запросов, которые успешно выполнились DEV: 95.11%\n",
      "====================================================================================================\n",
      "\n",
      "\n",
      "Загружаем чаты с данными...\n",
      "Данные успешно загружены\n",
      "Начали генерацию SQL запросов\n"
     ]
    },
    {
     "name": "stderr",
     "output_type": "stream",
     "text": [
      "Processed prompts: 100%|██████████| 1534/1534 [04:57<00:00,  5.15it/s, est. speed input: 38334.23 toks/s, output: 240.81 toks/s]"
     ]
    },
    {
     "name": "stdout",
     "output_type": "stream",
     "text": [
      "extract_think количество ошибок:  0\n",
      "extract_sql количество ошибок:  0\n",
      "Закончили генерацию SQL запросов\n",
      "Начали скорр полученных SQL запросов\n"
     ]
    },
    {
     "name": "stderr",
     "output_type": "stream",
     "text": [
      "\n"
     ]
    },
    {
     "name": "stdout",
     "output_type": "stream",
     "text": [
      "Qwen3-8B DEV Финальный результат EX: 57.89\n",
      "Qwen3-8B процент запросов, которые успешно выполнились DEV: 95.63%\n",
      "====================================================================================================\n",
      "\n",
      "\n",
      "Загружаем чаты с данными...\n",
      "Данные успешно загружены\n",
      "Начали генерацию SQL запросов\n"
     ]
    },
    {
     "name": "stderr",
     "output_type": "stream",
     "text": [
      "Processed prompts: 100%|██████████| 1534/1534 [05:03<00:00,  5.06it/s, est. speed input: 37896.30 toks/s, output: 238.22 toks/s]"
     ]
    },
    {
     "name": "stdout",
     "output_type": "stream",
     "text": [
      "extract_think количество ошибок:  0\n",
      "extract_sql количество ошибок:  0\n",
      "Закончили генерацию SQL запросов\n",
      "Начали скорр полученных SQL запросов\n"
     ]
    },
    {
     "name": "stderr",
     "output_type": "stream",
     "text": [
      "\n"
     ]
    },
    {
     "name": "stdout",
     "output_type": "stream",
     "text": [
      "Qwen3-8B DEV Финальный результат EX: 58.28\n",
      "Qwen3-8B процент запросов, которые успешно выполнились DEV: 95.57%\n",
      "====================================================================================================\n",
      "\n",
      "\n",
      "Загружаем чаты с данными...\n",
      "Данные успешно загружены\n",
      "Начали генерацию SQL запросов\n"
     ]
    },
    {
     "name": "stderr",
     "output_type": "stream",
     "text": [
      "Processed prompts: 100%|██████████| 1534/1534 [05:03<00:00,  5.05it/s, est. speed input: 37841.91 toks/s, output: 235.09 toks/s]"
     ]
    },
    {
     "name": "stdout",
     "output_type": "stream",
     "text": [
      "extract_think количество ошибок:  0\n",
      "extract_sql количество ошибок:  0\n",
      "Закончили генерацию SQL запросов\n",
      "Начали скорр полученных SQL запросов\n"
     ]
    },
    {
     "name": "stderr",
     "output_type": "stream",
     "text": [
      "\n"
     ]
    },
    {
     "name": "stdout",
     "output_type": "stream",
     "text": [
      "Qwen3-8B DEV Финальный результат EX: 57.89\n",
      "Qwen3-8B процент запросов, которые успешно выполнились DEV: 95.76%\n",
      "====================================================================================================\n",
      "\n",
      "\n",
      "Загружаем чаты с данными...\n",
      "Данные успешно загружены\n",
      "Начали генерацию SQL запросов\n"
     ]
    },
    {
     "name": "stderr",
     "output_type": "stream",
     "text": [
      "Processed prompts: 100%|██████████| 1534/1534 [05:03<00:00,  5.06it/s, est. speed input: 37754.84 toks/s, output: 237.38 toks/s]"
     ]
    },
    {
     "name": "stdout",
     "output_type": "stream",
     "text": [
      "extract_think количество ошибок:  0\n",
      "extract_sql количество ошибок:  0\n",
      "Закончили генерацию SQL запросов\n",
      "Начали скорр полученных SQL запросов\n"
     ]
    },
    {
     "name": "stderr",
     "output_type": "stream",
     "text": [
      "\n"
     ]
    },
    {
     "name": "stdout",
     "output_type": "stream",
     "text": [
      "Qwen3-8B DEV Финальный результат EX: 57.37\n",
      "Qwen3-8B процент запросов, которые успешно выполнились DEV: 95.24%\n",
      "====================================================================================================\n",
      "\n",
      "\n"
     ]
    }
   ],
   "source": [
    "run_cot_experiment(model,arr_seeds,arr_versions, type_cot,num_observations=num_observations)"
   ]
  },
  {
   "cell_type": "code",
   "execution_count": null,
   "id": "1f275770-a1ff-4c32-9410-a2f1b90d6387",
   "metadata": {},
   "outputs": [],
   "source": []
  }
 ],
 "metadata": {
  "kernelspec": {
   "display_name": "vllm",
   "language": "python",
   "name": "vllm"
  },
  "language_info": {
   "codemirror_mode": {
    "name": "ipython",
    "version": 3
   },
   "file_extension": ".py",
   "mimetype": "text/x-python",
   "name": "python",
   "nbconvert_exporter": "python",
   "pygments_lexer": "ipython3",
   "version": "3.12.4"
  }
 },
 "nbformat": 4,
 "nbformat_minor": 5
}
