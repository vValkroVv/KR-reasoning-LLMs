{
 "cells": [
  {
   "cell_type": "code",
   "execution_count": 1,
   "id": "6f20e5ea-3a64-4bfa-8502-13bb8469c893",
   "metadata": {},
   "outputs": [],
   "source": [
    "import os, sys\n",
    "sys.path.append(\"/home/vkropoti/vllm\")"
   ]
  },
  {
   "cell_type": "code",
   "execution_count": 2,
   "id": "4fc844b5-83f1-48aa-a6c8-3d93f16a861d",
   "metadata": {},
   "outputs": [
    {
     "name": "stdout",
     "output_type": "stream",
     "text": [
      "INFO 05-26 23:38:04 [__init__.py:239] Automatically detected platform cuda.\n"
     ]
    },
    {
     "name": "stderr",
     "output_type": "stream",
     "text": [
      "2025-05-26 23:38:06,080\tINFO util.py:154 -- Missing packages: ['ipywidgets']. Run `pip install -U ipywidgets`, then restart the notebook server for rich notebook output.\n"
     ]
    }
   ],
   "source": [
    "from src.experiment import run_cot_experiment\n",
    "import random\n",
    "import numpy as np"
   ]
  },
  {
   "cell_type": "markdown",
   "id": "56cbd008-e8be-44cd-a2f8-83886376560e",
   "metadata": {},
   "source": [
    "# part1: reasoning+answer"
   ]
  },
  {
   "cell_type": "markdown",
   "id": "1d4174ff-32eb-4901-9b13-dfc26f6bd8e3",
   "metadata": {},
   "source": [
    "### 2 наблюдения"
   ]
  },
  {
   "cell_type": "code",
   "execution_count": 3,
   "id": "5635dae6-2ae1-4d4d-af1f-dfcd7abc923b",
   "metadata": {},
   "outputs": [
    {
     "name": "stdout",
     "output_type": "stream",
     "text": [
      "[347, 762, 910, 735, 790, 107, 5, 680, 295, 339, 81, 163, 14, 685, 475, 308, 880, 319, 679, 211]\n",
      "model: Qwen3-1.7B\n"
     ]
    }
   ],
   "source": [
    "n= 20\n",
    "arr_seeds = [random.randint(0,1000) for _ in range(n)]\n",
    "arr_versions = [x for x in range(n)]\n",
    "model = \"Qwen3-1.7B\"\n",
    "num_observations = 2\n",
    "type_cot = 'all_new'\n",
    "print(arr_seeds)\n",
    "print(f\"model: {model}\")"
   ]
  },
  {
   "cell_type": "code",
   "execution_count": 4,
   "id": "499630a1-5ce2-4867-9648-dc199d088be4",
   "metadata": {
    "scrolled": true
   },
   "outputs": [
    {
     "name": "stdout",
     "output_type": "stream",
     "text": [
      "Загружаем модель...\n"
     ]
    },
    {
     "name": "stderr",
     "output_type": "stream",
     "text": [
      "Loading safetensors checkpoint shards:   0% Completed | 0/2 [00:00<?, ?it/s]\n",
      "Loading safetensors checkpoint shards:  50% Completed | 1/2 [00:00<00:00,  1.03it/s]\n",
      "Loading safetensors checkpoint shards: 100% Completed | 2/2 [00:01<00:00,  1.95it/s]\n",
      "\u001b[1;36m(VllmWorker rank=0 pid=2417729)\u001b[0;0m \n"
     ]
    },
    {
     "name": "stdout",
     "output_type": "stream",
     "text": [
      "Модель успешно загружена\n",
      "model_config {'model': '/data/home/vkropoti/models/Qwen3-1.7B', 'tensor_parallel_size': 2, 'max_model_len': 40000, 'max_new_tokens': 1500, 'temperature': 0, 'top_k': 1, 'top_p': 0.8, 'gpu_memory_utilization': 0.9, 'trust_remote_code': False, 'seed': 347}\n",
      "\n",
      "prompts_config {'path_dev_json': '/home/vkropoti/vllm/dev.json', 'path_sql_dbs': '/data/home/vkropoti/sql_data/dev_databases/', 'use_reasoning': False, 'paths_to_cot': ['/data/home/vkropoti/sql_llm_answers/bird_dev_m_schema/sql_all_new_Qwen3-1.7B-reasoning-v0', '/data/home/vkropoti/sql_llm_answers/bird_dev_m_schema/sql_all_new_Qwen3-1.7B-reasoning-v1']}\n",
      "\n",
      "save_config {'path_sql_save': '/data/home/vkropoti/sql_llm_answers/bird_dev_m_schema/sql_all_Qwen3-1.7B-cot_all_new_think==False_nobs2-v0', 'path_think_save': None, 'path_sql_answers_save': '/data/home/vkropoti/sql_llm_answers/bird_dev_m_schema/sql_predict_Qwen3-1.7B-cot_all_new_think==False_nobs2-v0', 'path_to_save_scores': '/data/home/vkropoti/sql_llm_answers/bird_dev_m_schema/sql_results_Qwen3-1.7B-cot_all_new_think==False_nobs2-v0', 'path_to_save_executed': '/data/home/vkropoti/sql_llm_answers/bird_dev_m_schema/sql_executed_Qwen3-1.7B-cot_all_new_think==False_nobs2-v0'}\n",
      "\n",
      "Модель успешно загружена\n",
      "Пример промпта\n",
      "<|im_start|>system\n",
      "\n",
      "You are a data science expert. Below, you are provided with a database schema and a natural language question. Your task is to understand the schema and generate a valid SQL query to answer the question.\n",
      "\n",
      "Database Engine: SQLite\n",
      "\n",
      "You will be given an additional analysis of other models, please take it into account, so the plan is\n",
      "1. Analyse given addition analysis from other models (find in which analysis the same and differ, how to use that to answer question)\n",
      "2. Combine best from previous part and think how to solve the problem (analyze tables, take care what columns avaliable in each table and so on, check the syntacsis)\n",
      "3. Create the answers. The answer should be only sql query.\n",
      "\n",
      "Carefully follow the instruction and add <|im_end|> and the end of the final answer<|im_end|>\n",
      "<|im_start|>user\n",
      "Here is addition analysis from other models which can be helpfull, please take this into account but be careful (choose the best from each analysis, combine them to make the most proper answer):\n",
      "\n",
      "model 0 analysis:\n",
      " Reasoning process:\n",
      "\n",
      "Okay, let's tackle this question step by step. The user wants the highest eligible free rate for K-12 students in Alameda County. \n",
      "\n",
      "First, I need to figure out which tables are involved. The eligible free rate is calculated as Free Meal Count (K-12) divided by Enrollment (K-12). So I need data from the frpm table. But the frpm table has the Free Meal Count and Enrollment values. However, the schools table has the County information, so I need to join the schools table with the frpm table on the CDSCode.\n",
      "\n",
      "Wait, the foreign keys are frpm.CDSCode = schools.CDSCode and satscores.cds = schools.CDSCode. So the schools table has the CDSCode, which is linked to frpm. So the plan is to join schools with frpm on CDSCode, filter where the County is 'Alameda County', then calculate the ratio.\n",
      "\n",
      "But wait, the schools table's County column has examples like 'Alameda', 'Alpine', etc. So the County column is a TEXT field. So I need to check if the County is 'Alameda' exactly. But maybe the actual county names might have spaces or different formats. However, the examples given in the schools table's County column are 'Alameda', so assuming that 'Alameda' is the correct value.\n",
      "\n",
      "So the steps are:\n",
      "\n",
      "1. Join schools and frpm on CDSCode.\n",
      "2. Filter where schools.County = 'Alameda'.\n",
      "3. Calculate Free Meal Count (K-12) / Enrollment (K-12) for each school.\n",
      "4. Find the maximum value of this ratio.\n",
      "\n",
      "But the question says \"highest eligible free rate\", so we need the maximum value from the calculated ratio.\n",
      "\n",
      "Now, the SQL query would need to select the maximum of (Free Meal Count (K-12) / Enrollment (K-12)) from the joined tables where County is 'Alameda'.\n",
      "\n",
      "But wait, the frpm table has the Free Meal Count (K-12) as a REAL number and Enrollment (K-12) as a REAL number. So the division would be done in the query.\n",
      "\n",
      "So the SQL query would be:\n",
      "\n",
      "SELECT MAX(Free Meal Count (K-12) / Enrollment (K-12)) FROM schools JOIN frpm ON schools.CDSCode = frpm.CDSCode WHERE schools.County = 'Alameda';\n",
      "\n",
      "But need to check if the County is exactly 'Alameda' or if there's a need to use a LIKE clause. The examples given in the schools table's County column are 'Alameda', so it's likely that the exact value is 'Alameda'. However, in practice, sometimes counties might have different names, but based on the given data, we can assume that.\n",
      "\n",
      "Another thing: the schools table has a District column, but the County is the primary field here. So the JOIN is on CDSCode, which is the same in both tables.\n",
      "\n",
      "So the final query would be as above. But need to make sure that the columns are correctly referenced. The frpm table has Free Meal Count (K-12) as a column, and Enrollment (K-12) as another column. So the division is between those two.\n",
      "\n",
      "Therefore, the SQL query should select the maximum of that ratio from the joined tables where the county is Alameda.\n",
      "\n",
      "Final answer based om reasoning for this model:\n",
      "\n",
      "\n",
      "```\n",
      "SELECT MAX(Free Meal Count (K-12)/Enrollment (K-12)) FROM schools JOIN frpm ON schools.CDSCode = frpm.CDSCode WHERE schools.County = 'Alameda';\n",
      "```\n",
      "\n",
      "model 1 analysis:\n",
      " Reasoning process:\n",
      "\n",
      "Okay, let's tackle this question. The user wants the highest eligible free rate for K-12 students in Alameda County. \n",
      "\n",
      "First, I need to figure out which tables are involved. The relevant tables here are 'frpm' and 'schools' because the 'frpm' table has the eligible free rates and the 'schools' table has the county information. \n",
      "\n",
      "The 'schools' table has a 'County' column, and we need to filter for Alameda County. So, I'll start by joining the 'schools' table with the 'frpm' table on the 'CDSCode' since that's the primary key link. \n",
      "\n",
      "Next, the eligible free rate is calculated as Free Meal Count (K-12) divided by Enrollment (K-12). But wait, the question specifies K-12 students, so I need to make sure that the rows in frpm are for K-12. The 'Low Grade' and 'High Grade' columns in frpm might indicate the grade levels, but the question is specifically about K-12. So maybe the 'Low Grade' is K, and the 'High Grade' is 12. But the user might just want the rate for K-12 students, so perhaps we can assume that the rows in frpm where Low Grade is 'K' and High Grade is '12' are the ones we need. However, the problem statement says \"K-12 students,\" so maybe we need to check if the frpm data includes that. But the user's question doesn't specify filtering by grade, just K-12. So perhaps the frpm table's rows are already for K-12, or we need to check the data.\n",
      "\n",
      "But since the question is about K-12, maybe the frpm table's rows are for K-12. However, the 'Low Grade' and 'High Grade' columns might not be directly relevant here. The user's question is about the highest eligible free rate for K-12 students, so the frpm table's rows where the school is in Alameda County and the grade levels are K-12. But the problem is that the 'frpm' table's 'Low Grade' is 'K' and 'High Grade' is '12', so perhaps we need to filter where Low Grade is 'K' and High Grade is '12'.\n",
      "\n",
      "But the user's question might not require that, since the question is about K-12 students in general. However, the data might have entries for K-12, so perhaps we can just use the frpm table's rows where the school is in Alameda County. \n",
      "\n",
      "Wait, the 'schools' table has a 'County' column, so we need to join on that. So the plan is: join schools and frpm on CDSCode, filter where County is 'Alameda', then calculate the eligible free rate as Free Meal Count (K-12) / Enrollment (K-12), and find the maximum value.\n",
      "\n",
      "But the user's question says \"highest eligible free rate for K-12 students in the schools in Alameda County\". So the steps are:\n",
      "\n",
      "1. Join schools and frpm on CDSCode.\n",
      "2. Filter schools where County is 'Alameda'.\n",
      "3. Calculate the eligible free rate for K-12 students (Free Meal Count (K-12) / Enrollment (K-12)).\n",
      "4. Find the maximum value of this rate.\n",
      "\n",
      "But the problem is that the frpm table's 'Low Grade' and 'High Grade' might not be directly relevant here. However, the question is about K-12 students, so maybe the frpm table's rows are for K-12. Alternatively, the 'Low Grade' is 'K' and 'High Grade' is '12', so the rows where Low Grade is 'K' and High Grade is '12' are for K-12. Therefore, we need to filter those rows.\n",
      "\n",
      "So the query would be:\n",
      "\n",
      "SELECT MAX( (Free Meal Count (K-12) / Enrollment (K-12)) ) AS highest_rate\n",
      "FROM frpm\n",
      "JOIN schools ON frpm.CDSCode = schools.CDSCode\n",
      "WHERE schools.County = 'Alameda' AND frpm.Low Grade = 'K' AND frpm.High Grade = '12';\n",
      "\n",
      "But the user's question might not require checking the grade levels, just the K-12 students. However, the data might not have entries for K-12. But the problem says \"K-12 students\", so perhaps the frpm table's rows are for K-12. But the 'Low Grade' and 'High Grade' columns are part of the frpm table. So the correct approach is to check those columns.\n",
      "\n",
      "But the user's question is phrased as \"highest eligible free rate for K-12 students in the schools in Alameda County\". So the answer would require that the frpm data includes K-12 students. Therefore, the query would need to filter where Low Grade is 'K' and High Grade is '12'.\n",
      "\n",
      "But the user might not have that data. However, based on the schema, the frpm table's columns include Low Grade and High Grade, so the answer must consider those.\n",
      "\n",
      "So the final SQL query would be:\n",
      "\n",
      "SELECT MAX( (Free Meal Count (K-12) / Enrollment (K-12)) ) AS highest_rate\n",
      "FROM frpm\n",
      "JOIN schools ON frpm.CDSCode = schools.CDSCode\n",
      "WHERE schools.County = 'Alameda' AND frpm.Low Grade = 'K' AND frpm.High Grade = '12';\n",
      "\n",
      "But the problem is that in SQLite, the column names are in quotes. Also, the user wants only the column in the SELECT clause, which is the highest rate. So the query should select the maximum of that rate.\n",
      "\n",
      "But the question might not require the actual values, just the maximum. So the query would be as above.\n",
      "\n",
      "Wait, but the user's question is to get the highest eligible free rate. So the SQL would be to select the maximum of (Free Meal Count (K-12)/Enrollment (K-12)) where the school is in Alameda County and the grade levels are K-12.\n",
      "\n",
      "Therefore, the correct query is as above.\n",
      "\n",
      "Final answer based om reasoning for this model:\n",
      "\n",
      "\n",
      "```\n",
      "SELECT MAX((Free Meal Count (K-12) / Enrollment (K-12))) AS highest_rate\n",
      "FROM frpm\n",
      "JOIN schools ON frpm.CDSCode = schools.CDSCode\n",
      "WHERE schools.County = 'Alameda' AND frpm.Low Grade = 'K' AND frpm.High Grade = '12';\n",
      "```\n",
      "\n",
      "\n",
      "here is avaliable tables and their structure below\n",
      "【DB_ID】 california_schools\n",
      "【Schema】\n",
      "# Table: frpm\n",
      "[\n",
      "(CDSCode:TEXT, maps to schools.CDSCode, Primary Key, Examples: [01100170109835, 01100170112607, 01100170118489]),\n",
      "(Academic Year:TEXT, Examples: [2014-2015]),\n",
      "(County Code:TEXT, Examples: [01, 02, 03]),\n",
      "(District Code:INTEGER, Examples: [10017, 31609, 31617]),\n",
      "(School Code:TEXT, Examples: [0109835, 0112607, 0118489]),\n",
      "(County Name:TEXT, Examples: [Alameda, Alpine, Amador]),\n",
      "(District Name:TEXT),\n",
      "(School Name:TEXT, Examples: [FAME Public Charter]),\n",
      "(District Type:TEXT, Examples: [County Office of Education (COE)]),\n",
      "(School Type:TEXT, Examples: [K-12 Schools (Public)]),\n",
      "(Educational Option Type:TEXT, Examples: [Traditional]),\n",
      "(NSLP Provision Status:TEXT, Examples: [Breakfast Provision 2]),\n",
      "(Charter School (Y/N):INTEGER, Examples: [1, 0]),\n",
      "(Charter School Number:TEXT, Examples: [0728, 0811, 1049]),\n",
      "(Charter Funding Type:TEXT, Examples: [Directly funded]),\n",
      "(IRC:INTEGER, Examples: [1, 0]),\n",
      "(Low Grade:TEXT, Examples: [K, 9, 1]),\n",
      "(High Grade:TEXT, Examples: [12, 8, 5]),\n",
      "(Enrollment (K-12):REAL, Examples: [1087.0, 395.0, 244.0]),\n",
      "(Free Meal Count (K-12):REAL, Examples: [565.0, 186.0, 134.0]),\n",
      "(Percent (%) Eligible Free (K-12):REAL, Examples: [0.519779208831647, 0.470886075949367, 0.549180327868853]),\n",
      "(FRPM Count (K-12):REAL, Examples: [715.0, 186.0, 175.0]),\n",
      "(Percent (%) Eligible FRPM (K-12):REAL, Examples: [0.657773689052438, 0.470886075949367, 0.717213114754098]),\n",
      "(Enrollment (Ages 5-17):REAL, Examples: [1070.0, 376.0, 230.0]),\n",
      "(Free Meal Count (Ages 5-17):REAL, Examples: [553.0, 182.0, 128.0]),\n",
      "(Percent (%) Eligible Free (Ages 5-17):REAL, Examples: [0.516822429906542, 0.484042553191489, 0.556521739130435]),\n",
      "(FRPM Count (Ages 5-17):REAL, Examples: [702.0, 182.0, 168.0]),\n",
      "(Percent (%) Eligible FRPM (Ages 5-17):REAL, Examples: [0.65607476635514, 0.484042553191489, 0.730434782608696]),\n",
      "(2013-14 CALPADS Fall 1 Certification Status:INTEGER, Examples: [1])\n",
      "]\n",
      "# Table: satscores\n",
      "[\n",
      "(cds:TEXT, maps to schools.CDSCode, Primary Key, Examples: [10101080000000, 10101080109991, 10101080111682]),\n",
      "(rtype:TEXT, Examples: [D, S]),\n",
      "(sname:TEXT, Examples: [FAME Public Charter]),\n",
      "(dname:TEXT, Examples: [Alameda County Office of Education]),\n",
      "(cname:TEXT, Examples: [Alameda, Amador, Butte]),\n",
      "(enroll12:INTEGER, Examples: [398, 62, 75]),\n",
      "(NumTstTakr:INTEGER, Examples: [88, 17, 71]),\n",
      "(AvgScrRead:INTEGER, Examples: [418, 503, 397]),\n",
      "(AvgScrMath:INTEGER, Examples: [418, 546, 387]),\n",
      "(AvgScrWrite:INTEGER, Examples: [417, 505, 395]),\n",
      "(NumGE1500:INTEGER, Examples: [14, 9, 5])\n",
      "]\n",
      "# Table: schools\n",
      "[\n",
      "(CDSCode:TEXT, Primary Key, Examples: [01100170000000, 01100170109835, 01100170112607]),\n",
      "(NCESDist:TEXT, Examples: [0691051, 0600002, 0600003]),\n",
      "(NCESSchool:TEXT, Examples: [10546, 10947, 12283]),\n",
      "(StatusType:TEXT, Examples: [Active, Closed, Merged]),\n",
      "(County:TEXT, Examples: [Alameda, Alpine, Amador]),\n",
      "(District:TEXT),\n",
      "(School:TEXT, Examples: [FAME Public Charter]),\n",
      "(Street:TEXT, Examples: [313 West Winton Avenue]),\n",
      "(StreetAbr:TEXT, Examples: [313 West Winton Ave.]),\n",
      "(City:TEXT, Examples: [Hayward, Newark, Oakland]),\n",
      "(Zip:TEXT, Examples: [94544-1136, 94560-5359, 94612-3355]),\n",
      "(State:TEXT, Examples: [CA]),\n",
      "(MailStreet:TEXT, Examples: [313 West Winton Avenue]),\n",
      "(MailStrAbr:TEXT, Examples: [313 West Winton Ave.]),\n",
      "(MailCity:TEXT, Examples: [Hayward, Newark, Oakland]),\n",
      "(MailZip:TEXT, Examples: [94544-1136, 94560-5359, 94612]),\n",
      "(MailState:TEXT, Examples: [CA]),\n",
      "(Phone:TEXT, Examples: [(510) 887-0152, (510) 596-8901, (510) 686-4131]),\n",
      "(Ext:TEXT, Examples: [130, 1240, 1200]),\n",
      "(Website:TEXT, Examples: [www.acoe.org]),\n",
      "(OpenDate:DATE, Examples: [2005-08-29]),\n",
      "(ClosedDate:DATE, Examples: [2015-07-31]),\n",
      "(Charter:INTEGER, Examples: [1, 0]),\n",
      "(CharterNum:TEXT, Examples: [0728, 0811, 1049]),\n",
      "(FundingType:TEXT, Examples: [Directly funded]),\n",
      "(DOC:TEXT, Examples: [00, 31, 34]),\n",
      "(DOCType:TEXT, Examples: [County Office of Education (COE)]),\n",
      "(SOC:TEXT, Examples: [65, 66, 60]),\n",
      "(SOCType:TEXT, Examples: [K-12 Schools (Public)]),\n",
      "(EdOpsCode:TEXT, Examples: [TRAD, JUV, COMM]),\n",
      "(EdOpsName:TEXT, Examples: [Traditional]),\n",
      "(EILCode:TEXT, Examples: [ELEMHIGH, HS, ELEM]),\n",
      "(EILName:TEXT, Examples: [Elementary-High Combination]),\n",
      "(GSoffered:TEXT, Examples: [K-12, 9-12, K-8]),\n",
      "(GSserved:TEXT, Examples: [K-12, 9-12, K-7]),\n",
      "(Virtual:TEXT, Examples: [P, N, F]),\n",
      "(Magnet:INTEGER, Examples: [0, 1]),\n",
      "(Latitude:REAL, Examples: [37.658212, 37.521436, 37.80452]),\n",
      "(Longitude:REAL, Examples: [-122.09713, -121.99391, -122.26815]),\n",
      "(AdmFName1:TEXT, Examples: [L Karen, Laura, Clifford]),\n",
      "(AdmLName1:TEXT, Examples: [Monroe, Robell, Thompson]),\n",
      "(AdmEmail1:TEXT),\n",
      "(AdmFName2:TEXT, Examples: [Sau-Lim (Lance), Jennifer, Annalisa]),\n",
      "(AdmLName2:TEXT, Examples: [Tsang, Koelling, Moore]),\n",
      "(AdmEmail2:TEXT),\n",
      "(AdmFName3:TEXT, Examples: [Drew, Irma, Vickie]),\n",
      "(AdmLName3:TEXT, Examples: [Sarratore, Munoz, Chang]),\n",
      "(AdmEmail3:TEXT),\n",
      "(LastUpdate:DATE, Examples: [2015-06-23])\n",
      "]\n",
      "【Foreign keys】\n",
      "frpm.CDSCode=schools.CDSCode\n",
      "satscores.cds=schools.CDSCode\n",
      "\n",
      "-- Using valid SQLite and understanding External Knowledge, answer the following questions for the tables provided above.\n",
      "-- What is the highest eligible free rate for K-12 students in the schools in Alameda County?\n",
      "-- External Knowledge: Eligible free rate for K-12 = `Free Meal Count (K-12)` / `Enrollment (K-12)`\n",
      "\n",
      "\n",
      "Generate the SQLite for the above question after thinking step by step: \n",
      "\n",
      "\n",
      "Instructions:\n",
      "- Make sure you only output the information that is asked in the question. If the question asks for a specific column, make sure to only include that column in the SELECT clause, nothing more.\n",
      "- The generated query should return all of the information asked in the question without any missing or extra information.\n",
      "- Before generating the final SQL query, please think through the steps of how to write the query.\n",
      "- Do not misuse column names, keep them in quotes `\n",
      "- Carefully understand what colomns belond to what tables\n",
      "- Use only initial column names, change names prohibited\n",
      "        \n",
      "Output Format:\n",
      "In your answer, please enclose the generated SQL query in a code block:\n",
      "```\n",
      "-- Your SQL query\n",
      "```    \n",
      "and nothing else, no exaplains, no comments (asnwer should be less than 512 characters)\n",
      "\n",
      "Take a deep breath and think step by step to find the correct SQL query in SQLite format.\n",
      "\n",
      "Question repetition: What is the highest eligible free rate for K-12 students in the schools in Alameda County?\n",
      "\n",
      "Be care! Include only what i want it questiona and nothing else<|im_end|>\n",
      "<|im_start|>assistant\n",
      "<think>\n",
      "\n",
      "</think>\n",
      "\n",
      "\n",
      "\n",
      "\n",
      "Максимальное количество токенов в промптах: 20956\n",
      "\n",
      "начинаем скорринг\n",
      "Загружаем чаты с данными...\n",
      "Данные успешно загружены\n",
      "Начали генерацию SQL запросов\n"
     ]
    },
    {
     "name": "stderr",
     "output_type": "stream",
     "text": [
      "Processed prompts: 100%|██████████| 1534/1534 [00:47<00:00, 32.46it/s, est. speed input: 144989.85 toks/s, output: 1524.11 toks/s] "
     ]
    },
    {
     "name": "stdout",
     "output_type": "stream",
     "text": [
      "extract_think количество ошибок:  0\n",
      "extract_sql количество ошибок:  0\n",
      "Закончили генерацию SQL запросов\n",
      "Начали скорр полученных SQL запросов\n"
     ]
    },
    {
     "name": "stderr",
     "output_type": "stream",
     "text": [
      "\n"
     ]
    },
    {
     "name": "stdout",
     "output_type": "stream",
     "text": [
      "Qwen3-1.7B DEV Финальный результат EX: 46.68\n",
      "Qwen3-1.7B процент запросов, которые успешно выполнились DEV: 80.83%\n",
      "====================================================================================================\n",
      "\n",
      "\n",
      "Загружаем чаты с данными...\n",
      "Данные успешно загружены\n",
      "Начали генерацию SQL запросов\n"
     ]
    },
    {
     "name": "stderr",
     "output_type": "stream",
     "text": [
      "Processed prompts: 100%|██████████| 1534/1534 [00:44<00:00, 34.70it/s, est. speed input: 149349.18 toks/s, output: 1604.30 toks/s] "
     ]
    },
    {
     "name": "stdout",
     "output_type": "stream",
     "text": [
      "extract_think количество ошибок:  0\n",
      "extract_sql количество ошибок:  0\n",
      "Закончили генерацию SQL запросов\n",
      "Начали скорр полученных SQL запросов\n"
     ]
    },
    {
     "name": "stderr",
     "output_type": "stream",
     "text": [
      "\n"
     ]
    },
    {
     "name": "stdout",
     "output_type": "stream",
     "text": [
      "Qwen3-1.7B DEV Финальный результат EX: 46.15\n",
      "Qwen3-1.7B процент запросов, которые успешно выполнились DEV: 80.05%\n",
      "====================================================================================================\n",
      "\n",
      "\n",
      "Загружаем чаты с данными...\n",
      "Данные успешно загружены\n",
      "Начали генерацию SQL запросов\n"
     ]
    },
    {
     "name": "stderr",
     "output_type": "stream",
     "text": [
      "Processed prompts: 100%|██████████| 1534/1534 [00:45<00:00, 33.96it/s, est. speed input: 146183.64 toks/s, output: 1578.66 toks/s] "
     ]
    },
    {
     "name": "stdout",
     "output_type": "stream",
     "text": [
      "extract_think количество ошибок:  0\n",
      "extract_sql количество ошибок:  0\n",
      "Закончили генерацию SQL запросов\n",
      "Начали скорр полученных SQL запросов\n"
     ]
    },
    {
     "name": "stderr",
     "output_type": "stream",
     "text": [
      "\n"
     ]
    },
    {
     "name": "stdout",
     "output_type": "stream",
     "text": [
      "Qwen3-1.7B DEV Финальный результат EX: 45.96\n",
      "Qwen3-1.7B процент запросов, которые успешно выполнились DEV: 79.20%\n",
      "====================================================================================================\n",
      "\n",
      "\n",
      "Загружаем чаты с данными...\n",
      "Данные успешно загружены\n",
      "Начали генерацию SQL запросов\n"
     ]
    },
    {
     "name": "stderr",
     "output_type": "stream",
     "text": [
      "Processed prompts: 100%|██████████| 1534/1534 [00:46<00:00, 32.92it/s, est. speed input: 145910.66 toks/s, output: 1532.30 toks/s] "
     ]
    },
    {
     "name": "stdout",
     "output_type": "stream",
     "text": [
      "extract_think количество ошибок:  0\n",
      "extract_sql количество ошибок:  0\n",
      "Закончили генерацию SQL запросов\n",
      "Начали скорр полученных SQL запросов\n"
     ]
    },
    {
     "name": "stderr",
     "output_type": "stream",
     "text": [
      "\n",
      "Exception ignored in: <bound method IPythonKernel._clean_thread_parent_frames of <ipykernel.ipkernel.IPythonKernel object at 0x7f785bb23440>>\n",
      "Traceback (most recent call last):\n",
      "  File \"/data/home/vkropoti/vllm/lib64/python3.12/site-packages/ipykernel/ipkernel.py\", line 775, in _clean_thread_parent_frames\n",
      "    def _clean_thread_parent_frames(\n",
      "\n",
      "func_timeout.dafunc.FunctionTimedOut-4273253567483564204: Function execute_query (args=('/data/home/vkropoti/sql_data/dev_databases/', 'codebase_community', 'SELECT Name FROM badges AS T1 INNER JOIN comments AS T2 ON T1.UserId = t2.UserId GROUP BY T2.UserId ORDER BY COUNT(T2.UserId) DESC LIMIT 1', 'SELECT u.Id, b.Name\\nFROM users u\\nJOIN comments c ON u.Id = c.UserId\\nJOIN badges b ON u.Id = b.UserId\\nGROUP BY u.Id\\nORDER BY COUNT(c.Id) DESC')) (kwargs={}) timed out after 5.000000 seconds.\n",
      "\n"
     ]
    },
    {
     "name": "stdout",
     "output_type": "stream",
     "text": [
      "Qwen3-1.7B DEV Финальный результат EX: 46.81\n",
      "Qwen3-1.7B процент запросов, которые успешно выполнились DEV: 80.38%\n",
      "====================================================================================================\n",
      "\n",
      "\n",
      "Загружаем чаты с данными...\n",
      "Данные успешно загружены\n",
      "Начали генерацию SQL запросов\n"
     ]
    },
    {
     "name": "stderr",
     "output_type": "stream",
     "text": [
      "Processed prompts: 100%|██████████| 1534/1534 [00:48<00:00, 31.64it/s, est. speed input: 141540.61 toks/s, output: 1469.50 toks/s] "
     ]
    },
    {
     "name": "stdout",
     "output_type": "stream",
     "text": [
      "extract_think количество ошибок:  0\n",
      "extract_sql количество ошибок:  0\n",
      "Закончили генерацию SQL запросов\n",
      "Начали скорр полученных SQL запросов\n"
     ]
    },
    {
     "name": "stderr",
     "output_type": "stream",
     "text": [
      "\n"
     ]
    },
    {
     "name": "stdout",
     "output_type": "stream",
     "text": [
      "Qwen3-1.7B DEV Финальный результат EX: 47.65\n",
      "Qwen3-1.7B процент запросов, которые успешно выполнились DEV: 81.23%\n",
      "====================================================================================================\n",
      "\n",
      "\n",
      "Загружаем чаты с данными...\n",
      "Данные успешно загружены\n",
      "Начали генерацию SQL запросов\n"
     ]
    },
    {
     "name": "stderr",
     "output_type": "stream",
     "text": [
      "Processed prompts: 100%|██████████| 1534/1534 [00:48<00:00, 31.60it/s, est. speed input: 142711.49 toks/s, output: 1466.93 toks/s] "
     ]
    },
    {
     "name": "stdout",
     "output_type": "stream",
     "text": [
      "extract_think количество ошибок:  0\n",
      "extract_sql количество ошибок:  0\n",
      "Закончили генерацию SQL запросов\n",
      "Начали скорр полученных SQL запросов\n"
     ]
    },
    {
     "name": "stderr",
     "output_type": "stream",
     "text": [
      "\n"
     ]
    },
    {
     "name": "stdout",
     "output_type": "stream",
     "text": [
      "Qwen3-1.7B DEV Финальный результат EX: 47.07\n",
      "Qwen3-1.7B процент запросов, которые успешно выполнились DEV: 80.18%\n",
      "====================================================================================================\n",
      "\n",
      "\n",
      "Загружаем чаты с данными...\n",
      "Данные успешно загружены\n",
      "Начали генерацию SQL запросов\n"
     ]
    },
    {
     "name": "stderr",
     "output_type": "stream",
     "text": [
      "Processed prompts: 100%|██████████| 1534/1534 [00:47<00:00, 32.43it/s, est. speed input: 144803.28 toks/s, output: 1513.14 toks/s] "
     ]
    },
    {
     "name": "stdout",
     "output_type": "stream",
     "text": [
      "extract_think количество ошибок:  0\n",
      "extract_sql количество ошибок:  0\n",
      "Закончили генерацию SQL запросов\n",
      "Начали скорр полученных SQL запросов\n"
     ]
    },
    {
     "name": "stderr",
     "output_type": "stream",
     "text": [
      "\n"
     ]
    },
    {
     "name": "stdout",
     "output_type": "stream",
     "text": [
      "Qwen3-1.7B DEV Финальный результат EX: 47.39\n",
      "Qwen3-1.7B процент запросов, которые успешно выполнились DEV: 81.16%\n",
      "====================================================================================================\n",
      "\n",
      "\n",
      "Загружаем чаты с данными...\n",
      "Данные успешно загружены\n",
      "Начали генерацию SQL запросов\n"
     ]
    },
    {
     "name": "stderr",
     "output_type": "stream",
     "text": [
      "Processed prompts: 100%|██████████| 1534/1534 [00:46<00:00, 32.87it/s, est. speed input: 145428.39 toks/s, output: 1524.28 toks/s] "
     ]
    },
    {
     "name": "stdout",
     "output_type": "stream",
     "text": [
      "extract_think количество ошибок:  0\n",
      "extract_sql количество ошибок:  0\n",
      "Закончили генерацию SQL запросов\n",
      "Начали скорр полученных SQL запросов\n"
     ]
    },
    {
     "name": "stderr",
     "output_type": "stream",
     "text": [
      "\n"
     ]
    },
    {
     "name": "stdout",
     "output_type": "stream",
     "text": [
      "Qwen3-1.7B DEV Финальный результат EX: 47.65\n",
      "Qwen3-1.7B процент запросов, которые успешно выполнились DEV: 80.83%\n",
      "====================================================================================================\n",
      "\n",
      "\n",
      "Загружаем чаты с данными...\n",
      "Данные успешно загружены\n",
      "Начали генерацию SQL запросов\n"
     ]
    },
    {
     "name": "stderr",
     "output_type": "stream",
     "text": [
      "Processed prompts: 100%|██████████| 1534/1534 [00:51<00:00, 29.96it/s, est. speed input: 133780.12 toks/s, output: 1417.33 toks/s] "
     ]
    },
    {
     "name": "stdout",
     "output_type": "stream",
     "text": [
      "extract_think количество ошибок:  0\n",
      "extract_sql количество ошибок:  0\n",
      "Закончили генерацию SQL запросов\n",
      "Начали скорр полученных SQL запросов\n"
     ]
    },
    {
     "name": "stderr",
     "output_type": "stream",
     "text": [
      "\n"
     ]
    },
    {
     "name": "stdout",
     "output_type": "stream",
     "text": [
      "Qwen3-1.7B DEV Финальный результат EX: 47.13\n",
      "Qwen3-1.7B процент запросов, которые успешно выполнились DEV: 80.83%\n",
      "====================================================================================================\n",
      "\n",
      "\n",
      "Загружаем чаты с данными...\n",
      "Данные успешно загружены\n",
      "Начали генерацию SQL запросов\n"
     ]
    },
    {
     "name": "stderr",
     "output_type": "stream",
     "text": [
      "Processed prompts: 100%|██████████| 1534/1534 [00:48<00:00, 31.31it/s, est. speed input: 141736.32 toks/s, output: 1459.57 toks/s] "
     ]
    },
    {
     "name": "stdout",
     "output_type": "stream",
     "text": [
      "extract_think количество ошибок:  0\n",
      "extract_sql количество ошибок:  0\n",
      "Закончили генерацию SQL запросов\n",
      "Начали скорр полученных SQL запросов\n"
     ]
    },
    {
     "name": "stderr",
     "output_type": "stream",
     "text": [
      "\n"
     ]
    },
    {
     "name": "stdout",
     "output_type": "stream",
     "text": [
      "Qwen3-1.7B DEV Финальный результат EX: 47.13\n",
      "Qwen3-1.7B процент запросов, которые успешно выполнились DEV: 81.42%\n",
      "====================================================================================================\n",
      "\n",
      "\n",
      "Загружаем чаты с данными...\n",
      "Данные успешно загружены\n",
      "Начали генерацию SQL запросов\n"
     ]
    },
    {
     "name": "stderr",
     "output_type": "stream",
     "text": [
      "Processed prompts: 100%|██████████| 1534/1534 [00:48<00:00, 31.81it/s, est. speed input: 143968.08 toks/s, output: 1480.14 toks/s] "
     ]
    },
    {
     "name": "stdout",
     "output_type": "stream",
     "text": [
      "extract_think количество ошибок:  0\n",
      "extract_sql количество ошибок:  0\n",
      "Закончили генерацию SQL запросов\n",
      "Начали скорр полученных SQL запросов\n"
     ]
    },
    {
     "name": "stderr",
     "output_type": "stream",
     "text": [
      "\n"
     ]
    },
    {
     "name": "stdout",
     "output_type": "stream",
     "text": [
      "Qwen3-1.7B DEV Финальный результат EX: 46.81\n",
      "Qwen3-1.7B процент запросов, которые успешно выполнились DEV: 80.44%\n",
      "====================================================================================================\n",
      "\n",
      "\n",
      "Загружаем чаты с данными...\n",
      "Данные успешно загружены\n",
      "Начали генерацию SQL запросов\n"
     ]
    },
    {
     "name": "stderr",
     "output_type": "stream",
     "text": [
      "Processed prompts: 100%|██████████| 1534/1534 [00:47<00:00, 32.14it/s, est. speed input: 143269.45 toks/s, output: 1490.63 toks/s] "
     ]
    },
    {
     "name": "stdout",
     "output_type": "stream",
     "text": [
      "extract_think количество ошибок:  0\n",
      "extract_sql количество ошибок:  0\n",
      "Закончили генерацию SQL запросов\n",
      "Начали скорр полученных SQL запросов\n"
     ]
    },
    {
     "name": "stderr",
     "output_type": "stream",
     "text": [
      "\n"
     ]
    },
    {
     "name": "stdout",
     "output_type": "stream",
     "text": [
      "Qwen3-1.7B DEV Финальный результат EX: 46.87\n",
      "Qwen3-1.7B процент запросов, которые успешно выполнились DEV: 80.51%\n",
      "====================================================================================================\n",
      "\n",
      "\n",
      "Загружаем чаты с данными...\n",
      "Данные успешно загружены\n",
      "Начали генерацию SQL запросов\n"
     ]
    },
    {
     "name": "stderr",
     "output_type": "stream",
     "text": [
      "Processed prompts: 100%|██████████| 1534/1534 [00:47<00:00, 32.54it/s, est. speed input: 144400.80 toks/s, output: 1517.67 toks/s] "
     ]
    },
    {
     "name": "stdout",
     "output_type": "stream",
     "text": [
      "extract_think количество ошибок:  0\n",
      "extract_sql количество ошибок:  0\n",
      "Закончили генерацию SQL запросов\n",
      "Начали скорр полученных SQL запросов\n"
     ]
    },
    {
     "name": "stderr",
     "output_type": "stream",
     "text": [
      "\n"
     ]
    },
    {
     "name": "stdout",
     "output_type": "stream",
     "text": [
      "Qwen3-1.7B DEV Финальный результат EX: 46.87\n",
      "Qwen3-1.7B процент запросов, которые успешно выполнились DEV: 79.99%\n",
      "====================================================================================================\n",
      "\n",
      "\n",
      "Загружаем чаты с данными...\n",
      "Данные успешно загружены\n",
      "Начали генерацию SQL запросов\n"
     ]
    },
    {
     "name": "stderr",
     "output_type": "stream",
     "text": [
      "Processed prompts: 100%|██████████| 1534/1534 [00:47<00:00, 32.20it/s, est. speed input: 143282.32 toks/s, output: 1491.08 toks/s] "
     ]
    },
    {
     "name": "stdout",
     "output_type": "stream",
     "text": [
      "extract_think количество ошибок:  0\n",
      "extract_sql количество ошибок:  0\n",
      "Закончили генерацию SQL запросов\n",
      "Начали скорр полученных SQL запросов\n"
     ]
    },
    {
     "name": "stderr",
     "output_type": "stream",
     "text": [
      "\n"
     ]
    },
    {
     "name": "stdout",
     "output_type": "stream",
     "text": [
      "Qwen3-1.7B DEV Финальный результат EX: 47.00\n",
      "Qwen3-1.7B процент запросов, которые успешно выполнились DEV: 80.44%\n",
      "====================================================================================================\n",
      "\n",
      "\n",
      "Загружаем чаты с данными...\n",
      "Данные успешно загружены\n",
      "Начали генерацию SQL запросов\n"
     ]
    },
    {
     "name": "stderr",
     "output_type": "stream",
     "text": [
      "Processed prompts: 100%|██████████| 1534/1534 [00:47<00:00, 32.38it/s, est. speed input: 145097.13 toks/s, output: 1503.13 toks/s] "
     ]
    },
    {
     "name": "stdout",
     "output_type": "stream",
     "text": [
      "extract_think количество ошибок:  0\n",
      "extract_sql количество ошибок:  0\n",
      "Закончили генерацию SQL запросов\n",
      "Начали скорр полученных SQL запросов\n"
     ]
    },
    {
     "name": "stderr",
     "output_type": "stream",
     "text": [
      "\n"
     ]
    },
    {
     "name": "stdout",
     "output_type": "stream",
     "text": [
      "Qwen3-1.7B DEV Финальный результат EX: 47.13\n",
      "Qwen3-1.7B процент запросов, которые успешно выполнились DEV: 79.53%\n",
      "====================================================================================================\n",
      "\n",
      "\n",
      "Загружаем чаты с данными...\n",
      "Данные успешно загружены\n",
      "Начали генерацию SQL запросов\n"
     ]
    },
    {
     "name": "stderr",
     "output_type": "stream",
     "text": [
      "Processed prompts: 100%|██████████| 1534/1534 [00:48<00:00, 31.65it/s, est. speed input: 142807.56 toks/s, output: 1482.17 toks/s] "
     ]
    },
    {
     "name": "stdout",
     "output_type": "stream",
     "text": [
      "extract_think количество ошибок:  0\n",
      "extract_sql количество ошибок:  0\n",
      "Закончили генерацию SQL запросов\n",
      "Начали скорр полученных SQL запросов\n"
     ]
    },
    {
     "name": "stderr",
     "output_type": "stream",
     "text": [
      "\n"
     ]
    },
    {
     "name": "stdout",
     "output_type": "stream",
     "text": [
      "Qwen3-1.7B DEV Финальный результат EX: 46.74\n",
      "Qwen3-1.7B процент запросов, которые успешно выполнились DEV: 80.90%\n",
      "====================================================================================================\n",
      "\n",
      "\n",
      "Загружаем чаты с данными...\n",
      "Данные успешно загружены\n",
      "Начали генерацию SQL запросов\n"
     ]
    },
    {
     "name": "stderr",
     "output_type": "stream",
     "text": [
      "Processed prompts: 100%|██████████| 1534/1534 [00:47<00:00, 32.14it/s, est. speed input: 144511.38 toks/s, output: 1500.92 toks/s] "
     ]
    },
    {
     "name": "stdout",
     "output_type": "stream",
     "text": [
      "extract_think количество ошибок:  0\n",
      "extract_sql количество ошибок:  0\n",
      "Закончили генерацию SQL запросов\n",
      "Начали скорр полученных SQL запросов\n"
     ]
    },
    {
     "name": "stderr",
     "output_type": "stream",
     "text": [
      "\n"
     ]
    },
    {
     "name": "stdout",
     "output_type": "stream",
     "text": [
      "Qwen3-1.7B DEV Финальный результат EX: 47.39\n",
      "Qwen3-1.7B процент запросов, которые успешно выполнились DEV: 80.05%\n",
      "====================================================================================================\n",
      "\n",
      "\n",
      "Загружаем чаты с данными...\n",
      "Данные успешно загружены\n",
      "Начали генерацию SQL запросов\n"
     ]
    },
    {
     "name": "stderr",
     "output_type": "stream",
     "text": [
      "Processed prompts: 100%|██████████| 1534/1534 [00:48<00:00, 31.66it/s, est. speed input: 140029.13 toks/s, output: 1495.53 toks/s] "
     ]
    },
    {
     "name": "stdout",
     "output_type": "stream",
     "text": [
      "extract_think количество ошибок:  0\n",
      "extract_sql количество ошибок:  0\n",
      "Закончили генерацию SQL запросов\n",
      "Начали скорр полученных SQL запросов\n"
     ]
    },
    {
     "name": "stderr",
     "output_type": "stream",
     "text": [
      "\n"
     ]
    },
    {
     "name": "stdout",
     "output_type": "stream",
     "text": [
      "Qwen3-1.7B DEV Финальный результат EX: 47.20\n",
      "Qwen3-1.7B процент запросов, которые успешно выполнились DEV: 80.70%\n",
      "====================================================================================================\n",
      "\n",
      "\n",
      "Загружаем чаты с данными...\n",
      "Данные успешно загружены\n",
      "Начали генерацию SQL запросов\n"
     ]
    },
    {
     "name": "stderr",
     "output_type": "stream",
     "text": [
      "Processed prompts: 100%|██████████| 1534/1534 [00:46<00:00, 33.01it/s, est. speed input: 144953.19 toks/s, output: 1527.31 toks/s] "
     ]
    },
    {
     "name": "stdout",
     "output_type": "stream",
     "text": [
      "extract_think количество ошибок:  0\n",
      "extract_sql количество ошибок:  0\n",
      "Закончили генерацию SQL запросов\n",
      "Начали скорр полученных SQL запросов\n"
     ]
    },
    {
     "name": "stderr",
     "output_type": "stream",
     "text": [
      "\n"
     ]
    },
    {
     "name": "stdout",
     "output_type": "stream",
     "text": [
      "Qwen3-1.7B DEV Финальный результат EX: 47.39\n",
      "Qwen3-1.7B процент запросов, которые успешно выполнились DEV: 80.57%\n",
      "====================================================================================================\n",
      "\n",
      "\n",
      "Загружаем чаты с данными...\n",
      "Данные успешно загружены\n",
      "Начали генерацию SQL запросов\n"
     ]
    },
    {
     "name": "stderr",
     "output_type": "stream",
     "text": [
      "Processed prompts: 100%|██████████| 1534/1534 [00:47<00:00, 32.41it/s, est. speed input: 144616.92 toks/s, output: 1520.47 toks/s] "
     ]
    },
    {
     "name": "stdout",
     "output_type": "stream",
     "text": [
      "extract_think количество ошибок:  0\n",
      "extract_sql количество ошибок:  0\n",
      "Закончили генерацию SQL запросов\n",
      "Начали скорр полученных SQL запросов\n"
     ]
    },
    {
     "name": "stderr",
     "output_type": "stream",
     "text": [
      "\n"
     ]
    },
    {
     "name": "stdout",
     "output_type": "stream",
     "text": [
      "Qwen3-1.7B DEV Финальный результат EX: 47.00\n",
      "Qwen3-1.7B процент запросов, которые успешно выполнились DEV: 81.68%\n",
      "====================================================================================================\n",
      "\n",
      "\n"
     ]
    }
   ],
   "source": [
    "run_cot_experiment(model,arr_seeds,arr_versions, type_cot, num_observations=num_observations)"
   ]
  },
  {
   "cell_type": "markdown",
   "id": "6046825c-8b23-4466-9c8c-2bd8d22da520",
   "metadata": {},
   "source": [
    "## 3 наблюдения"
   ]
  },
  {
   "cell_type": "code",
   "execution_count": 5,
   "id": "087d84b5-c110-41ff-a60d-7dbdeb15ffce",
   "metadata": {},
   "outputs": [
    {
     "name": "stdout",
     "output_type": "stream",
     "text": [
      "[815, 650, 57, 580, 840, 821, 90, 732, 623, 237, 645, 120, 438, 178, 806, 119, 495, 221, 317, 140]\n",
      "model: Qwen3-1.7B\n"
     ]
    }
   ],
   "source": [
    "n= 20\n",
    "arr_seeds = [random.randint(0,1000) for _ in range(n)]\n",
    "arr_versions = [x for x in range(n)]\n",
    "model = \"Qwen3-1.7B\"\n",
    "num_observations = 3\n",
    "type_cot = 'all_new'\n",
    "print(arr_seeds)\n",
    "print(f\"model: {model}\")"
   ]
  },
  {
   "cell_type": "code",
   "execution_count": 6,
   "id": "75073cd5-a80a-47f6-90d0-af48f09fc511",
   "metadata": {
    "scrolled": true
   },
   "outputs": [
    {
     "name": "stdout",
     "output_type": "stream",
     "text": [
      "Загружаем модель...\n"
     ]
    },
    {
     "name": "stderr",
     "output_type": "stream",
     "text": [
      "Loading safetensors checkpoint shards:   0% Completed | 0/2 [00:00<?, ?it/s]\n",
      "Loading safetensors checkpoint shards:  50% Completed | 1/2 [00:01<00:01,  1.10s/it]\n",
      "Loading safetensors checkpoint shards: 100% Completed | 2/2 [00:01<00:00,  1.75it/s]\n",
      "\u001b[1;36m(VllmWorker rank=0 pid=2465988)\u001b[0;0m \n"
     ]
    },
    {
     "name": "stdout",
     "output_type": "stream",
     "text": [
      "Модель успешно загружена\n",
      "model_config {'model': '/data/home/vkropoti/models/Qwen3-1.7B', 'tensor_parallel_size': 2, 'max_model_len': 40000, 'max_new_tokens': 1500, 'temperature': 0, 'top_k': 1, 'top_p': 0.8, 'gpu_memory_utilization': 0.9, 'trust_remote_code': False, 'seed': 815}\n",
      "\n",
      "prompts_config {'path_dev_json': '/home/vkropoti/vllm/dev.json', 'path_sql_dbs': '/data/home/vkropoti/sql_data/dev_databases/', 'use_reasoning': False, 'paths_to_cot': ['/data/home/vkropoti/sql_llm_answers/bird_dev_m_schema/sql_all_new_Qwen3-1.7B-reasoning-v0', '/data/home/vkropoti/sql_llm_answers/bird_dev_m_schema/sql_all_new_Qwen3-1.7B-reasoning-v1', '/data/home/vkropoti/sql_llm_answers/bird_dev_m_schema/sql_all_new_Qwen3-1.7B-reasoning-v2']}\n",
      "\n",
      "save_config {'path_sql_save': '/data/home/vkropoti/sql_llm_answers/bird_dev_m_schema/sql_all_Qwen3-1.7B-cot_all_new_think==False_nobs3-v0', 'path_think_save': None, 'path_sql_answers_save': '/data/home/vkropoti/sql_llm_answers/bird_dev_m_schema/sql_predict_Qwen3-1.7B-cot_all_new_think==False_nobs3-v0', 'path_to_save_scores': '/data/home/vkropoti/sql_llm_answers/bird_dev_m_schema/sql_results_Qwen3-1.7B-cot_all_new_think==False_nobs3-v0', 'path_to_save_executed': '/data/home/vkropoti/sql_llm_answers/bird_dev_m_schema/sql_executed_Qwen3-1.7B-cot_all_new_think==False_nobs3-v0'}\n",
      "\n",
      "Модель успешно загружена\n",
      "Пример промпта\n",
      "<|im_start|>system\n",
      "\n",
      "You are a data science expert. Below, you are provided with a database schema and a natural language question. Your task is to understand the schema and generate a valid SQL query to answer the question.\n",
      "\n",
      "Database Engine: SQLite\n",
      "\n",
      "You will be given an additional analysis of other models, please take it into account, so the plan is\n",
      "1. Analyse given addition analysis from other models (find in which analysis the same and differ, how to use that to answer question)\n",
      "2. Combine best from previous part and think how to solve the problem (analyze tables, take care what columns avaliable in each table and so on, check the syntacsis)\n",
      "3. Create the answers. The answer should be only sql query.\n",
      "\n",
      "Carefully follow the instruction and add <|im_end|> and the end of the final answer<|im_end|>\n",
      "<|im_start|>user\n",
      "Here is addition analysis from other models which can be helpfull, please take this into account but be careful (choose the best from each analysis, combine them to make the most proper answer):\n",
      "\n",
      "model 0 analysis:\n",
      " Reasoning process:\n",
      "\n",
      "Okay, let's tackle this question step by step. The user wants the highest eligible free rate for K-12 students in Alameda County. \n",
      "\n",
      "First, I need to figure out which tables are involved. The eligible free rate is calculated as Free Meal Count (K-12) divided by Enrollment (K-12). So I need data from the frpm table. But the frpm table has the Free Meal Count and Enrollment values. However, the schools table has the County information, so I need to join the schools table with the frpm table on the CDSCode.\n",
      "\n",
      "Wait, the foreign keys are frpm.CDSCode = schools.CDSCode and satscores.cds = schools.CDSCode. So the schools table has the CDSCode, which is linked to frpm. So the plan is to join schools with frpm on CDSCode, filter where the County is 'Alameda County', then calculate the ratio.\n",
      "\n",
      "But wait, the schools table's County column has examples like 'Alameda', 'Alpine', etc. So the County column is a TEXT field. So I need to check if the County is 'Alameda' exactly. But maybe the actual county names might have spaces or different formats. However, the examples given in the schools table's County column are 'Alameda', so assuming that 'Alameda' is the correct value.\n",
      "\n",
      "So the steps are:\n",
      "\n",
      "1. Join schools and frpm on CDSCode.\n",
      "2. Filter where schools.County = 'Alameda'.\n",
      "3. Calculate Free Meal Count (K-12) / Enrollment (K-12) for each school.\n",
      "4. Find the maximum value of this ratio.\n",
      "\n",
      "But the question says \"highest eligible free rate\", so we need the maximum value from the calculated ratio.\n",
      "\n",
      "Now, the SQL query would need to select the maximum of (Free Meal Count (K-12) / Enrollment (K-12)) from the joined tables where County is 'Alameda'.\n",
      "\n",
      "But wait, the frpm table has the Free Meal Count (K-12) as a REAL number and Enrollment (K-12) as a REAL number. So the division would be done in the query.\n",
      "\n",
      "So the SQL query would be:\n",
      "\n",
      "SELECT MAX(Free Meal Count (K-12) / Enrollment (K-12)) FROM schools JOIN frpm ON schools.CDSCode = frpm.CDSCode WHERE schools.County = 'Alameda';\n",
      "\n",
      "But need to check if the County is exactly 'Alameda' or if there's a need to use a LIKE clause. The examples given in the schools table's County column are 'Alameda', so it's likely that the exact value is 'Alameda'. However, in practice, sometimes counties might have different names, but based on the given data, we can assume that.\n",
      "\n",
      "Another thing: the schools table has a District column, but the County is the primary field here. So the JOIN is on CDSCode, which is the same in both tables.\n",
      "\n",
      "So the final query would be as above. But need to make sure that the columns are correctly referenced. The frpm table has Free Meal Count (K-12) as a column, and Enrollment (K-12) as another column. So the division is between those two.\n",
      "\n",
      "Therefore, the SQL query should select the maximum of that ratio from the joined tables where the county is Alameda.\n",
      "\n",
      "Final answer based om reasoning for this model:\n",
      "\n",
      "\n",
      "```\n",
      "SELECT MAX(Free Meal Count (K-12)/Enrollment (K-12)) FROM schools JOIN frpm ON schools.CDSCode = frpm.CDSCode WHERE schools.County = 'Alameda';\n",
      "```\n",
      "\n",
      "model 1 analysis:\n",
      " Reasoning process:\n",
      "\n",
      "Okay, let's tackle this question. The user wants the highest eligible free rate for K-12 students in Alameda County. \n",
      "\n",
      "First, I need to figure out which tables are involved. The relevant tables here are 'frpm' and 'schools' because the 'frpm' table has the eligible free rates and the 'schools' table has the county information. \n",
      "\n",
      "The 'schools' table has a 'County' column, and we need to filter for Alameda County. So, I'll start by joining the 'schools' table with the 'frpm' table on the 'CDSCode' since that's the primary key link. \n",
      "\n",
      "Next, the eligible free rate is calculated as Free Meal Count (K-12) divided by Enrollment (K-12). But wait, the question specifies K-12 students, so I need to make sure that the rows in frpm are for K-12. The 'Low Grade' and 'High Grade' columns in frpm might indicate the grade levels, but the question is specifically about K-12. So maybe the 'Low Grade' is K, and the 'High Grade' is 12. But the user might just want the rate for K-12 students, so perhaps we can assume that the rows in frpm where Low Grade is 'K' and High Grade is '12' are the ones we need. However, the problem statement says \"K-12 students,\" so maybe we need to check if the frpm data includes that. But the user's question doesn't specify filtering by grade, just K-12. So perhaps the frpm table's rows are already for K-12, or we need to check the data.\n",
      "\n",
      "But since the question is about K-12, maybe the frpm table's rows are for K-12. However, the 'Low Grade' and 'High Grade' columns might not be directly relevant here. The user's question is about the highest eligible free rate for K-12 students, so the frpm table's rows where the school is in Alameda County and the grade levels are K-12. But the problem is that the 'frpm' table's 'Low Grade' is 'K' and 'High Grade' is '12', so perhaps we need to filter where Low Grade is 'K' and High Grade is '12'.\n",
      "\n",
      "But the user's question might not require that, since the question is about K-12 students in general. However, the data might have entries for K-12, so perhaps we can just use the frpm table's rows where the school is in Alameda County. \n",
      "\n",
      "Wait, the 'schools' table has a 'County' column, so we need to join on that. So the plan is: join schools and frpm on CDSCode, filter where County is 'Alameda', then calculate the eligible free rate as Free Meal Count (K-12) / Enrollment (K-12), and find the maximum value.\n",
      "\n",
      "But the user's question says \"highest eligible free rate for K-12 students in the schools in Alameda County\". So the steps are:\n",
      "\n",
      "1. Join schools and frpm on CDSCode.\n",
      "2. Filter schools where County is 'Alameda'.\n",
      "3. Calculate the eligible free rate for K-12 students (Free Meal Count (K-12) / Enrollment (K-12)).\n",
      "4. Find the maximum value of this rate.\n",
      "\n",
      "But the problem is that the frpm table's 'Low Grade' and 'High Grade' might not be directly relevant here. However, the question is about K-12 students, so maybe the frpm table's rows are for K-12. Alternatively, the 'Low Grade' is 'K' and 'High Grade' is '12', so the rows where Low Grade is 'K' and High Grade is '12' are for K-12. Therefore, we need to filter those rows.\n",
      "\n",
      "So the query would be:\n",
      "\n",
      "SELECT MAX( (Free Meal Count (K-12) / Enrollment (K-12)) ) AS highest_rate\n",
      "FROM frpm\n",
      "JOIN schools ON frpm.CDSCode = schools.CDSCode\n",
      "WHERE schools.County = 'Alameda' AND frpm.Low Grade = 'K' AND frpm.High Grade = '12';\n",
      "\n",
      "But the user's question might not require checking the grade levels, just the K-12 students. However, the data might not have entries for K-12. But the problem says \"K-12 students\", so perhaps the frpm table's rows are for K-12. But the 'Low Grade' and 'High Grade' columns are part of the frpm table. So the correct approach is to check those columns.\n",
      "\n",
      "But the user's question is phrased as \"highest eligible free rate for K-12 students in the schools in Alameda County\". So the answer would require that the frpm data includes K-12 students. Therefore, the query would need to filter where Low Grade is 'K' and High Grade is '12'.\n",
      "\n",
      "But the user might not have that data. However, based on the schema, the frpm table's columns include Low Grade and High Grade, so the answer must consider those.\n",
      "\n",
      "So the final SQL query would be:\n",
      "\n",
      "SELECT MAX( (Free Meal Count (K-12) / Enrollment (K-12)) ) AS highest_rate\n",
      "FROM frpm\n",
      "JOIN schools ON frpm.CDSCode = schools.CDSCode\n",
      "WHERE schools.County = 'Alameda' AND frpm.Low Grade = 'K' AND frpm.High Grade = '12';\n",
      "\n",
      "But the problem is that in SQLite, the column names are in quotes. Also, the user wants only the column in the SELECT clause, which is the highest rate. So the query should select the maximum of that rate.\n",
      "\n",
      "But the question might not require the actual values, just the maximum. So the query would be as above.\n",
      "\n",
      "Wait, but the user's question is to get the highest eligible free rate. So the SQL would be to select the maximum of (Free Meal Count (K-12)/Enrollment (K-12)) where the school is in Alameda County and the grade levels are K-12.\n",
      "\n",
      "Therefore, the correct query is as above.\n",
      "\n",
      "Final answer based om reasoning for this model:\n",
      "\n",
      "\n",
      "```\n",
      "SELECT MAX((Free Meal Count (K-12) / Enrollment (K-12))) AS highest_rate\n",
      "FROM frpm\n",
      "JOIN schools ON frpm.CDSCode = schools.CDSCode\n",
      "WHERE schools.County = 'Alameda' AND frpm.Low Grade = 'K' AND frpm.High Grade = '12';\n",
      "```\n",
      "\n",
      "model 2 analysis:\n",
      " Reasoning process:\n",
      "\n",
      "Okay, let's tackle this question. The user wants the highest eligible free rate for K-12 students in Alameda County. \n",
      "\n",
      "First, I need to figure out which tables are involved. The relevant tables here are 'schools' and 'frpm' because they have the CDSCode and County information. The 'satscores' table might not be necessary here since the question is about free meal counts and enrollments.\n",
      "\n",
      "The 'schools' table has the County field, so I can filter for County = 'Alameda'. The 'frpm' table has 'County Name' and 'Enrollment (K-12)', 'Free Meal Count (K-12)', and 'Percent (%) Eligible Free (K-12)' columns. \n",
      "\n",
      "Wait, the 'frpm' table's 'County Name' might have the county names, but the 'schools' table's 'County' field is a TEXT field. So I need to join the two tables on schools.CDSCode = frpm.CDSCode. Then, filter where schools.County = 'Alameda'.\n",
      "\n",
      "But the question is about the highest eligible free rate. So I need to calculate the percentage from the 'Percent (%) Eligible Free (K-12)' column. Then, find the maximum value among those that are in Alameda County.\n",
      "\n",
      "So the steps are: join schools and frpm on CDSCode, filter where County is 'Alameda', select the Percent column, order by it descending, limit 1.\n",
      "\n",
      "Wait, but the 'frpm' table has 'Percent (%) Eligible Free (K-12)' as a column. So the SQL would be:\n",
      "\n",
      "SELECT MAX(Percent (%) Eligible Free (K-12)) FROM frpm JOIN schools ON frpm.CDSCode = schools.CDSCode WHERE schools.County = 'Alameda';\n",
      "\n",
      "But I need to make sure that the column names are correct. The 'frpm' table has 'Percent (%) Eligible Free (K-12)' as a column, so that's correct. The 'schools' table has 'County' as a column. \n",
      "\n",
      "But the question says \"schools in Alameda County\", so the 'schools' table's County must be 'Alameda'. \n",
      "\n",
      "So the final query would be joining the two tables on CDSCode, filtering the County, then selecting the max of the eligible free rate. \n",
      "\n",
      "But wait, the user wants the highest rate, so MAX() is correct. \n",
      "\n",
      "I need to make sure that the columns are correctly referenced. Also, the 'frpm' table's 'County Name' might have the county name, but the 'schools' table's 'County' is the one to filter. So the join is correct.\n",
      "\n",
      "So the SQL query would be:\n",
      "\n",
      "SELECT MAX(Percent (%) Eligible Free (K-12)) FROM frpm JOIN schools ON frpm.CDSCode = schools.CDSCode WHERE schools.County = 'Alameda';\n",
      "\n",
      "Final answer based om reasoning for this model:\n",
      "\n",
      "\n",
      "```\n",
      "SELECT MAX(Percent (%) Eligible Free (K-12)) FROM frpm JOIN schools ON frpm.CDSCode = schools.CDSCode WHERE schools.County = 'Alameda';\n",
      "```\n",
      "\n",
      "\n",
      "here is avaliable tables and their structure below\n",
      "【DB_ID】 california_schools\n",
      "【Schema】\n",
      "# Table: frpm\n",
      "[\n",
      "(CDSCode:TEXT, maps to schools.CDSCode, Primary Key, Examples: [01100170109835, 01100170112607, 01100170118489]),\n",
      "(Academic Year:TEXT, Examples: [2014-2015]),\n",
      "(County Code:TEXT, Examples: [01, 02, 03]),\n",
      "(District Code:INTEGER, Examples: [10017, 31609, 31617]),\n",
      "(School Code:TEXT, Examples: [0109835, 0112607, 0118489]),\n",
      "(County Name:TEXT, Examples: [Alameda, Alpine, Amador]),\n",
      "(District Name:TEXT),\n",
      "(School Name:TEXT, Examples: [FAME Public Charter]),\n",
      "(District Type:TEXT, Examples: [County Office of Education (COE)]),\n",
      "(School Type:TEXT, Examples: [K-12 Schools (Public)]),\n",
      "(Educational Option Type:TEXT, Examples: [Traditional]),\n",
      "(NSLP Provision Status:TEXT, Examples: [Breakfast Provision 2]),\n",
      "(Charter School (Y/N):INTEGER, Examples: [1, 0]),\n",
      "(Charter School Number:TEXT, Examples: [0728, 0811, 1049]),\n",
      "(Charter Funding Type:TEXT, Examples: [Directly funded]),\n",
      "(IRC:INTEGER, Examples: [1, 0]),\n",
      "(Low Grade:TEXT, Examples: [K, 9, 1]),\n",
      "(High Grade:TEXT, Examples: [12, 8, 5]),\n",
      "(Enrollment (K-12):REAL, Examples: [1087.0, 395.0, 244.0]),\n",
      "(Free Meal Count (K-12):REAL, Examples: [565.0, 186.0, 134.0]),\n",
      "(Percent (%) Eligible Free (K-12):REAL, Examples: [0.519779208831647, 0.470886075949367, 0.549180327868853]),\n",
      "(FRPM Count (K-12):REAL, Examples: [715.0, 186.0, 175.0]),\n",
      "(Percent (%) Eligible FRPM (K-12):REAL, Examples: [0.657773689052438, 0.470886075949367, 0.717213114754098]),\n",
      "(Enrollment (Ages 5-17):REAL, Examples: [1070.0, 376.0, 230.0]),\n",
      "(Free Meal Count (Ages 5-17):REAL, Examples: [553.0, 182.0, 128.0]),\n",
      "(Percent (%) Eligible Free (Ages 5-17):REAL, Examples: [0.516822429906542, 0.484042553191489, 0.556521739130435]),\n",
      "(FRPM Count (Ages 5-17):REAL, Examples: [702.0, 182.0, 168.0]),\n",
      "(Percent (%) Eligible FRPM (Ages 5-17):REAL, Examples: [0.65607476635514, 0.484042553191489, 0.730434782608696]),\n",
      "(2013-14 CALPADS Fall 1 Certification Status:INTEGER, Examples: [1])\n",
      "]\n",
      "# Table: satscores\n",
      "[\n",
      "(cds:TEXT, maps to schools.CDSCode, Primary Key, Examples: [10101080000000, 10101080109991, 10101080111682]),\n",
      "(rtype:TEXT, Examples: [D, S]),\n",
      "(sname:TEXT, Examples: [FAME Public Charter]),\n",
      "(dname:TEXT, Examples: [Alameda County Office of Education]),\n",
      "(cname:TEXT, Examples: [Alameda, Amador, Butte]),\n",
      "(enroll12:INTEGER, Examples: [398, 62, 75]),\n",
      "(NumTstTakr:INTEGER, Examples: [88, 17, 71]),\n",
      "(AvgScrRead:INTEGER, Examples: [418, 503, 397]),\n",
      "(AvgScrMath:INTEGER, Examples: [418, 546, 387]),\n",
      "(AvgScrWrite:INTEGER, Examples: [417, 505, 395]),\n",
      "(NumGE1500:INTEGER, Examples: [14, 9, 5])\n",
      "]\n",
      "# Table: schools\n",
      "[\n",
      "(CDSCode:TEXT, Primary Key, Examples: [01100170000000, 01100170109835, 01100170112607]),\n",
      "(NCESDist:TEXT, Examples: [0691051, 0600002, 0600003]),\n",
      "(NCESSchool:TEXT, Examples: [10546, 10947, 12283]),\n",
      "(StatusType:TEXT, Examples: [Active, Closed, Merged]),\n",
      "(County:TEXT, Examples: [Alameda, Alpine, Amador]),\n",
      "(District:TEXT),\n",
      "(School:TEXT, Examples: [FAME Public Charter]),\n",
      "(Street:TEXT, Examples: [313 West Winton Avenue]),\n",
      "(StreetAbr:TEXT, Examples: [313 West Winton Ave.]),\n",
      "(City:TEXT, Examples: [Hayward, Newark, Oakland]),\n",
      "(Zip:TEXT, Examples: [94544-1136, 94560-5359, 94612-3355]),\n",
      "(State:TEXT, Examples: [CA]),\n",
      "(MailStreet:TEXT, Examples: [313 West Winton Avenue]),\n",
      "(MailStrAbr:TEXT, Examples: [313 West Winton Ave.]),\n",
      "(MailCity:TEXT, Examples: [Hayward, Newark, Oakland]),\n",
      "(MailZip:TEXT, Examples: [94544-1136, 94560-5359, 94612]),\n",
      "(MailState:TEXT, Examples: [CA]),\n",
      "(Phone:TEXT, Examples: [(510) 887-0152, (510) 596-8901, (510) 686-4131]),\n",
      "(Ext:TEXT, Examples: [130, 1240, 1200]),\n",
      "(Website:TEXT, Examples: [www.acoe.org]),\n",
      "(OpenDate:DATE, Examples: [2005-08-29]),\n",
      "(ClosedDate:DATE, Examples: [2015-07-31]),\n",
      "(Charter:INTEGER, Examples: [1, 0]),\n",
      "(CharterNum:TEXT, Examples: [0728, 0811, 1049]),\n",
      "(FundingType:TEXT, Examples: [Directly funded]),\n",
      "(DOC:TEXT, Examples: [00, 31, 34]),\n",
      "(DOCType:TEXT, Examples: [County Office of Education (COE)]),\n",
      "(SOC:TEXT, Examples: [65, 66, 60]),\n",
      "(SOCType:TEXT, Examples: [K-12 Schools (Public)]),\n",
      "(EdOpsCode:TEXT, Examples: [TRAD, JUV, COMM]),\n",
      "(EdOpsName:TEXT, Examples: [Traditional]),\n",
      "(EILCode:TEXT, Examples: [ELEMHIGH, HS, ELEM]),\n",
      "(EILName:TEXT, Examples: [Elementary-High Combination]),\n",
      "(GSoffered:TEXT, Examples: [K-12, 9-12, K-8]),\n",
      "(GSserved:TEXT, Examples: [K-12, 9-12, K-7]),\n",
      "(Virtual:TEXT, Examples: [P, N, F]),\n",
      "(Magnet:INTEGER, Examples: [0, 1]),\n",
      "(Latitude:REAL, Examples: [37.658212, 37.521436, 37.80452]),\n",
      "(Longitude:REAL, Examples: [-122.09713, -121.99391, -122.26815]),\n",
      "(AdmFName1:TEXT, Examples: [L Karen, Laura, Clifford]),\n",
      "(AdmLName1:TEXT, Examples: [Monroe, Robell, Thompson]),\n",
      "(AdmEmail1:TEXT),\n",
      "(AdmFName2:TEXT, Examples: [Sau-Lim (Lance), Jennifer, Annalisa]),\n",
      "(AdmLName2:TEXT, Examples: [Tsang, Koelling, Moore]),\n",
      "(AdmEmail2:TEXT),\n",
      "(AdmFName3:TEXT, Examples: [Drew, Irma, Vickie]),\n",
      "(AdmLName3:TEXT, Examples: [Sarratore, Munoz, Chang]),\n",
      "(AdmEmail3:TEXT),\n",
      "(LastUpdate:DATE, Examples: [2015-06-23])\n",
      "]\n",
      "【Foreign keys】\n",
      "frpm.CDSCode=schools.CDSCode\n",
      "satscores.cds=schools.CDSCode\n",
      "\n",
      "-- Using valid SQLite and understanding External Knowledge, answer the following questions for the tables provided above.\n",
      "-- What is the highest eligible free rate for K-12 students in the schools in Alameda County?\n",
      "-- External Knowledge: Eligible free rate for K-12 = `Free Meal Count (K-12)` / `Enrollment (K-12)`\n",
      "\n",
      "\n",
      "Generate the SQLite for the above question after thinking step by step: \n",
      "\n",
      "\n",
      "Instructions:\n",
      "- Make sure you only output the information that is asked in the question. If the question asks for a specific column, make sure to only include that column in the SELECT clause, nothing more.\n",
      "- The generated query should return all of the information asked in the question without any missing or extra information.\n",
      "- Before generating the final SQL query, please think through the steps of how to write the query.\n",
      "- Do not misuse column names, keep them in quotes `\n",
      "- Carefully understand what colomns belond to what tables\n",
      "- Use only initial column names, change names prohibited\n",
      "        \n",
      "Output Format:\n",
      "In your answer, please enclose the generated SQL query in a code block:\n",
      "```\n",
      "-- Your SQL query\n",
      "```    \n",
      "and nothing else, no exaplains, no comments (asnwer should be less than 512 characters)\n",
      "\n",
      "Take a deep breath and think step by step to find the correct SQL query in SQLite format.\n",
      "\n",
      "Question repetition: What is the highest eligible free rate for K-12 students in the schools in Alameda County?\n",
      "\n",
      "Be care! Include only what i want it questiona and nothing else<|im_end|>\n",
      "<|im_start|>assistant\n",
      "<think>\n",
      "\n",
      "</think>\n",
      "\n",
      "\n",
      "\n",
      "\n",
      "Максимальное количество токенов в промптах: 21174\n",
      "\n",
      "начинаем скорринг\n",
      "Загружаем чаты с данными...\n",
      "Данные успешно загружены\n",
      "Начали генерацию SQL запросов\n"
     ]
    },
    {
     "name": "stderr",
     "output_type": "stream",
     "text": [
      "Processed prompts: 100%|██████████| 1534/1534 [00:58<00:00, 26.41it/s, est. speed input: 141973.63 toks/s, output: 1230.58 toks/s] "
     ]
    },
    {
     "name": "stdout",
     "output_type": "stream",
     "text": [
      "extract_think количество ошибок:  0\n",
      "extract_sql количество ошибок:  0\n",
      "Закончили генерацию SQL запросов\n",
      "Начали скорр полученных SQL запросов\n"
     ]
    },
    {
     "name": "stderr",
     "output_type": "stream",
     "text": [
      "\n"
     ]
    },
    {
     "name": "stdout",
     "output_type": "stream",
     "text": [
      "Qwen3-1.7B DEV Финальный результат EX: 47.85\n",
      "Qwen3-1.7B процент запросов, которые успешно выполнились DEV: 80.90%\n",
      "====================================================================================================\n",
      "\n",
      "\n",
      "Загружаем чаты с данными...\n",
      "Данные успешно загружены\n",
      "Начали генерацию SQL запросов\n"
     ]
    },
    {
     "name": "stderr",
     "output_type": "stream",
     "text": [
      "Processed prompts: 100%|██████████| 1534/1534 [00:57<00:00, 26.61it/s, est. speed input: 141757.33 toks/s, output: 1237.12 toks/s] "
     ]
    },
    {
     "name": "stdout",
     "output_type": "stream",
     "text": [
      "extract_think количество ошибок:  0\n",
      "extract_sql количество ошибок:  0\n",
      "Закончили генерацию SQL запросов\n",
      "Начали скорр полученных SQL запросов\n"
     ]
    },
    {
     "name": "stderr",
     "output_type": "stream",
     "text": [
      "\n"
     ]
    },
    {
     "name": "stdout",
     "output_type": "stream",
     "text": [
      "Qwen3-1.7B DEV Финальный результат EX: 45.24\n",
      "Qwen3-1.7B процент запросов, которые успешно выполнились DEV: 78.81%\n",
      "====================================================================================================\n",
      "\n",
      "\n",
      "Загружаем чаты с данными...\n",
      "Данные успешно загружены\n",
      "Начали генерацию SQL запросов\n"
     ]
    },
    {
     "name": "stderr",
     "output_type": "stream",
     "text": [
      "Processed prompts: 100%|██████████| 1534/1534 [00:58<00:00, 26.37it/s, est. speed input: 140830.29 toks/s, output: 1223.29 toks/s] "
     ]
    },
    {
     "name": "stdout",
     "output_type": "stream",
     "text": [
      "extract_think количество ошибок:  0\n",
      "extract_sql количество ошибок:  0\n",
      "Закончили генерацию SQL запросов\n",
      "Начали скорр полученных SQL запросов\n"
     ]
    },
    {
     "name": "stderr",
     "output_type": "stream",
     "text": [
      "\n"
     ]
    },
    {
     "name": "stdout",
     "output_type": "stream",
     "text": [
      "Qwen3-1.7B DEV Финальный результат EX: 46.28\n",
      "Qwen3-1.7B процент запросов, которые успешно выполнились DEV: 81.16%\n",
      "====================================================================================================\n",
      "\n",
      "\n",
      "Загружаем чаты с данными...\n",
      "Данные успешно загружены\n",
      "Начали генерацию SQL запросов\n"
     ]
    },
    {
     "name": "stderr",
     "output_type": "stream",
     "text": [
      "Processed prompts: 100%|██████████| 1534/1534 [01:01<00:00, 25.05it/s, est. speed input: 137722.80 toks/s, output: 1164.02 toks/s] "
     ]
    },
    {
     "name": "stdout",
     "output_type": "stream",
     "text": [
      "extract_think количество ошибок:  0\n",
      "extract_sql количество ошибок:  0\n",
      "Закончили генерацию SQL запросов\n",
      "Начали скорр полученных SQL запросов\n"
     ]
    },
    {
     "name": "stderr",
     "output_type": "stream",
     "text": [
      "\n"
     ]
    },
    {
     "name": "stdout",
     "output_type": "stream",
     "text": [
      "Qwen3-1.7B DEV Финальный результат EX: 48.76\n",
      "Qwen3-1.7B процент запросов, которые успешно выполнились DEV: 80.77%\n",
      "====================================================================================================\n",
      "\n",
      "\n",
      "Загружаем чаты с данными...\n",
      "Данные успешно загружены\n",
      "Начали генерацию SQL запросов\n"
     ]
    },
    {
     "name": "stderr",
     "output_type": "stream",
     "text": [
      "Processed prompts: 100%|██████████| 1534/1534 [01:00<00:00, 25.16it/s, est. speed input: 139671.13 toks/s, output: 1165.68 toks/s]  "
     ]
    },
    {
     "name": "stdout",
     "output_type": "stream",
     "text": [
      "extract_think количество ошибок:  0\n",
      "extract_sql количество ошибок:  0\n",
      "Закончили генерацию SQL запросов\n",
      "Начали скорр полученных SQL запросов\n"
     ]
    },
    {
     "name": "stderr",
     "output_type": "stream",
     "text": [
      "\n"
     ]
    },
    {
     "name": "stdout",
     "output_type": "stream",
     "text": [
      "Qwen3-1.7B DEV Финальный результат EX: 48.50\n",
      "Qwen3-1.7B процент запросов, которые успешно выполнились DEV: 81.16%\n",
      "====================================================================================================\n",
      "\n",
      "\n",
      "Загружаем чаты с данными...\n",
      "Данные успешно загружены\n",
      "Начали генерацию SQL запросов\n"
     ]
    },
    {
     "name": "stderr",
     "output_type": "stream",
     "text": [
      "Processed prompts: 100%|██████████| 1534/1534 [01:01<00:00, 25.14it/s, est. speed input: 139051.84 toks/s, output: 1165.51 toks/s] "
     ]
    },
    {
     "name": "stdout",
     "output_type": "stream",
     "text": [
      "extract_think количество ошибок:  0\n",
      "extract_sql количество ошибок:  0\n",
      "Закончили генерацию SQL запросов\n",
      "Начали скорр полученных SQL запросов\n"
     ]
    },
    {
     "name": "stderr",
     "output_type": "stream",
     "text": [
      "\n"
     ]
    },
    {
     "name": "stdout",
     "output_type": "stream",
     "text": [
      "Qwen3-1.7B DEV Финальный результат EX: 48.17\n",
      "Qwen3-1.7B процент запросов, которые успешно выполнились DEV: 82.14%\n",
      "====================================================================================================\n",
      "\n",
      "\n",
      "Загружаем чаты с данными...\n",
      "Данные успешно загружены\n",
      "Начали генерацию SQL запросов\n"
     ]
    },
    {
     "name": "stderr",
     "output_type": "stream",
     "text": [
      "Processed prompts: 100%|██████████| 1534/1534 [00:59<00:00, 25.65it/s, est. speed input: 141113.55 toks/s, output: 1184.76 toks/s] "
     ]
    },
    {
     "name": "stdout",
     "output_type": "stream",
     "text": [
      "extract_think количество ошибок:  0\n",
      "extract_sql количество ошибок:  0\n",
      "Закончили генерацию SQL запросов\n",
      "Начали скорр полученных SQL запросов\n"
     ]
    },
    {
     "name": "stderr",
     "output_type": "stream",
     "text": [
      "\n"
     ]
    },
    {
     "name": "stdout",
     "output_type": "stream",
     "text": [
      "Qwen3-1.7B DEV Финальный результат EX: 48.57\n",
      "Qwen3-1.7B процент запросов, которые успешно выполнились DEV: 81.55%\n",
      "====================================================================================================\n",
      "\n",
      "\n",
      "Загружаем чаты с данными...\n",
      "Данные успешно загружены\n",
      "Начали генерацию SQL запросов\n"
     ]
    },
    {
     "name": "stderr",
     "output_type": "stream",
     "text": [
      "Processed prompts: 100%|██████████| 1534/1534 [00:59<00:00, 25.76it/s, est. speed input: 141150.50 toks/s, output: 1193.45 toks/s]  "
     ]
    },
    {
     "name": "stdout",
     "output_type": "stream",
     "text": [
      "extract_think количество ошибок:  0\n",
      "extract_sql количество ошибок:  0\n",
      "Закончили генерацию SQL запросов\n",
      "Начали скорр полученных SQL запросов\n"
     ]
    },
    {
     "name": "stderr",
     "output_type": "stream",
     "text": [
      "\n"
     ]
    },
    {
     "name": "stdout",
     "output_type": "stream",
     "text": [
      "Qwen3-1.7B DEV Финальный результат EX: 48.31\n",
      "Qwen3-1.7B процент запросов, которые успешно выполнились DEV: 82.72%\n",
      "====================================================================================================\n",
      "\n",
      "\n",
      "Загружаем чаты с данными...\n",
      "Данные успешно загружены\n",
      "Начали генерацию SQL запросов\n"
     ]
    },
    {
     "name": "stderr",
     "output_type": "stream",
     "text": [
      "Processed prompts: 100%|██████████| 1534/1534 [01:01<00:00, 25.04it/s, est. speed input: 139355.93 toks/s, output: 1174.88 toks/s]  "
     ]
    },
    {
     "name": "stdout",
     "output_type": "stream",
     "text": [
      "extract_think количество ошибок:  0\n",
      "extract_sql количество ошибок:  0\n",
      "Закончили генерацию SQL запросов\n",
      "Начали скорр полученных SQL запросов\n"
     ]
    },
    {
     "name": "stderr",
     "output_type": "stream",
     "text": [
      "\n"
     ]
    },
    {
     "name": "stdout",
     "output_type": "stream",
     "text": [
      "Qwen3-1.7B DEV Финальный результат EX: 48.17\n",
      "Qwen3-1.7B процент запросов, которые успешно выполнились DEV: 81.62%\n",
      "====================================================================================================\n",
      "\n",
      "\n",
      "Загружаем чаты с данными...\n",
      "Данные успешно загружены\n",
      "Начали генерацию SQL запросов\n"
     ]
    },
    {
     "name": "stderr",
     "output_type": "stream",
     "text": [
      "Processed prompts: 100%|██████████| 1534/1534 [01:00<00:00, 25.19it/s, est. speed input: 140605.81 toks/s, output: 1172.65 toks/s]   "
     ]
    },
    {
     "name": "stdout",
     "output_type": "stream",
     "text": [
      "extract_think количество ошибок:  0\n",
      "extract_sql количество ошибок:  0\n",
      "Закончили генерацию SQL запросов\n",
      "Начали скорр полученных SQL запросов\n"
     ]
    },
    {
     "name": "stderr",
     "output_type": "stream",
     "text": [
      "\n"
     ]
    },
    {
     "name": "stdout",
     "output_type": "stream",
     "text": [
      "Qwen3-1.7B DEV Финальный результат EX: 47.78\n",
      "Qwen3-1.7B процент запросов, которые успешно выполнились DEV: 82.27%\n",
      "====================================================================================================\n",
      "\n",
      "\n",
      "Загружаем чаты с данными...\n",
      "Данные успешно загружены\n",
      "Начали генерацию SQL запросов\n"
     ]
    },
    {
     "name": "stderr",
     "output_type": "stream",
     "text": [
      "Processed prompts: 100%|██████████| 1534/1534 [01:01<00:00, 24.93it/s, est. speed input: 138553.43 toks/s, output: 1153.15 toks/s]  "
     ]
    },
    {
     "name": "stdout",
     "output_type": "stream",
     "text": [
      "extract_think количество ошибок:  0\n",
      "extract_sql количество ошибок:  0\n",
      "Закончили генерацию SQL запросов\n",
      "Начали скорр полученных SQL запросов\n"
     ]
    },
    {
     "name": "stderr",
     "output_type": "stream",
     "text": [
      "\n"
     ]
    },
    {
     "name": "stdout",
     "output_type": "stream",
     "text": [
      "Qwen3-1.7B DEV Финальный результат EX: 48.83\n",
      "Qwen3-1.7B процент запросов, которые успешно выполнились DEV: 81.29%\n",
      "====================================================================================================\n",
      "\n",
      "\n",
      "Загружаем чаты с данными...\n",
      "Данные успешно загружены\n",
      "Начали генерацию SQL запросов\n"
     ]
    },
    {
     "name": "stderr",
     "output_type": "stream",
     "text": [
      "Processed prompts: 100%|██████████| 1534/1534 [01:00<00:00, 25.47it/s, est. speed input: 139864.21 toks/s, output: 1185.50 toks/s]  "
     ]
    },
    {
     "name": "stdout",
     "output_type": "stream",
     "text": [
      "extract_think количество ошибок:  0\n",
      "extract_sql количество ошибок:  0\n",
      "Закончили генерацию SQL запросов\n",
      "Начали скорр полученных SQL запросов\n"
     ]
    },
    {
     "name": "stderr",
     "output_type": "stream",
     "text": [
      "\n"
     ]
    },
    {
     "name": "stdout",
     "output_type": "stream",
     "text": [
      "Qwen3-1.7B DEV Финальный результат EX: 47.72\n",
      "Qwen3-1.7B процент запросов, которые успешно выполнились DEV: 80.31%\n",
      "====================================================================================================\n",
      "\n",
      "\n",
      "Загружаем чаты с данными...\n",
      "Данные успешно загружены\n",
      "Начали генерацию SQL запросов\n"
     ]
    },
    {
     "name": "stderr",
     "output_type": "stream",
     "text": [
      "Processed prompts: 100%|██████████| 1534/1534 [00:59<00:00, 25.60it/s, est. speed input: 140300.49 toks/s, output: 1180.60 toks/s]  "
     ]
    },
    {
     "name": "stdout",
     "output_type": "stream",
     "text": [
      "extract_think количество ошибок:  0\n",
      "extract_sql количество ошибок:  0\n",
      "Закончили генерацию SQL запросов\n",
      "Начали скорр полученных SQL запросов\n"
     ]
    },
    {
     "name": "stderr",
     "output_type": "stream",
     "text": [
      "\n"
     ]
    },
    {
     "name": "stdout",
     "output_type": "stream",
     "text": [
      "Qwen3-1.7B DEV Финальный результат EX: 48.24\n",
      "Qwen3-1.7B процент запросов, которые успешно выполнились DEV: 81.55%\n",
      "====================================================================================================\n",
      "\n",
      "\n",
      "Загружаем чаты с данными...\n",
      "Данные успешно загружены\n",
      "Начали генерацию SQL запросов\n"
     ]
    },
    {
     "name": "stderr",
     "output_type": "stream",
     "text": [
      "Processed prompts: 100%|██████████| 1534/1534 [01:00<00:00, 25.33it/s, est. speed input: 139700.11 toks/s, output: 1174.48 toks/s] "
     ]
    },
    {
     "name": "stdout",
     "output_type": "stream",
     "text": [
      "extract_think количество ошибок:  0\n",
      "extract_sql количество ошибок:  0\n",
      "Закончили генерацию SQL запросов\n",
      "Начали скорр полученных SQL запросов\n"
     ]
    },
    {
     "name": "stderr",
     "output_type": "stream",
     "text": [
      "\n"
     ]
    },
    {
     "name": "stdout",
     "output_type": "stream",
     "text": [
      "Qwen3-1.7B DEV Финальный результат EX: 47.85\n",
      "Qwen3-1.7B процент запросов, которые успешно выполнились DEV: 80.64%\n",
      "====================================================================================================\n",
      "\n",
      "\n",
      "Загружаем чаты с данными...\n",
      "Данные успешно загружены\n",
      "Начали генерацию SQL запросов\n"
     ]
    },
    {
     "name": "stderr",
     "output_type": "stream",
     "text": [
      "Processed prompts: 100%|██████████| 1534/1534 [01:00<00:00, 25.15it/s, est. speed input: 139706.06 toks/s, output: 1165.40 toks/s]  "
     ]
    },
    {
     "name": "stdout",
     "output_type": "stream",
     "text": [
      "extract_think количество ошибок:  0\n",
      "extract_sql количество ошибок:  0\n",
      "Закончили генерацию SQL запросов\n",
      "Начали скорр полученных SQL запросов\n"
     ]
    },
    {
     "name": "stderr",
     "output_type": "stream",
     "text": [
      "\n"
     ]
    },
    {
     "name": "stdout",
     "output_type": "stream",
     "text": [
      "Qwen3-1.7B DEV Финальный результат EX: 48.37\n",
      "Qwen3-1.7B процент запросов, которые успешно выполнились DEV: 81.10%\n",
      "====================================================================================================\n",
      "\n",
      "\n",
      "Загружаем чаты с данными...\n",
      "Данные успешно загружены\n",
      "Начали генерацию SQL запросов\n"
     ]
    },
    {
     "name": "stderr",
     "output_type": "stream",
     "text": [
      "Processed prompts: 100%|██████████| 1534/1534 [01:01<00:00, 25.00it/s, est. speed input: 139064.48 toks/s, output: 1160.26 toks/s] "
     ]
    },
    {
     "name": "stdout",
     "output_type": "stream",
     "text": [
      "extract_think количество ошибок:  0\n",
      "extract_sql количество ошибок:  0\n",
      "Закончили генерацию SQL запросов\n",
      "Начали скорр полученных SQL запросов\n"
     ]
    },
    {
     "name": "stderr",
     "output_type": "stream",
     "text": [
      "\n"
     ]
    },
    {
     "name": "stdout",
     "output_type": "stream",
     "text": [
      "Qwen3-1.7B DEV Финальный результат EX: 47.85\n",
      "Qwen3-1.7B процент запросов, которые успешно выполнились DEV: 81.62%\n",
      "====================================================================================================\n",
      "\n",
      "\n",
      "Загружаем чаты с данными...\n",
      "Данные успешно загружены\n",
      "Начали генерацию SQL запросов\n"
     ]
    },
    {
     "name": "stderr",
     "output_type": "stream",
     "text": [
      "Processed prompts: 100%|██████████| 1534/1534 [01:01<00:00, 24.85it/s, est. speed input: 136634.94 toks/s, output: 1166.07 toks/s]  "
     ]
    },
    {
     "name": "stdout",
     "output_type": "stream",
     "text": [
      "extract_think количество ошибок:  0\n",
      "extract_sql количество ошибок:  0\n",
      "Закончили генерацию SQL запросов\n",
      "Начали скорр полученных SQL запросов\n"
     ]
    },
    {
     "name": "stderr",
     "output_type": "stream",
     "text": [
      "\n"
     ]
    },
    {
     "name": "stdout",
     "output_type": "stream",
     "text": [
      "Qwen3-1.7B DEV Финальный результат EX: 48.04\n",
      "Qwen3-1.7B процент запросов, которые успешно выполнились DEV: 81.81%\n",
      "====================================================================================================\n",
      "\n",
      "\n",
      "Загружаем чаты с данными...\n",
      "Данные успешно загружены\n",
      "Начали генерацию SQL запросов\n"
     ]
    },
    {
     "name": "stderr",
     "output_type": "stream",
     "text": [
      "Processed prompts: 100%|██████████| 1534/1534 [00:59<00:00, 25.73it/s, est. speed input: 139997.85 toks/s, output: 1191.03 toks/s] "
     ]
    },
    {
     "name": "stdout",
     "output_type": "stream",
     "text": [
      "extract_think количество ошибок:  0\n",
      "extract_sql количество ошибок:  0\n",
      "Закончили генерацию SQL запросов\n",
      "Начали скорр полученных SQL запросов\n"
     ]
    },
    {
     "name": "stderr",
     "output_type": "stream",
     "text": [
      "\n"
     ]
    },
    {
     "name": "stdout",
     "output_type": "stream",
     "text": [
      "Qwen3-1.7B DEV Финальный результат EX: 48.17\n",
      "Qwen3-1.7B процент запросов, которые успешно выполнились DEV: 81.94%\n",
      "====================================================================================================\n",
      "\n",
      "\n",
      "Загружаем чаты с данными...\n",
      "Данные успешно загружены\n",
      "Начали генерацию SQL запросов\n"
     ]
    },
    {
     "name": "stderr",
     "output_type": "stream",
     "text": [
      "Processed prompts: 100%|██████████| 1534/1534 [01:00<00:00, 25.49it/s, est. speed input: 139243.86 toks/s, output: 1188.68 toks/s] "
     ]
    },
    {
     "name": "stdout",
     "output_type": "stream",
     "text": [
      "extract_think количество ошибок:  0\n",
      "extract_sql количество ошибок:  0\n",
      "Закончили генерацию SQL запросов\n",
      "Начали скорр полученных SQL запросов\n"
     ]
    },
    {
     "name": "stderr",
     "output_type": "stream",
     "text": [
      "\n"
     ]
    },
    {
     "name": "stdout",
     "output_type": "stream",
     "text": [
      "Qwen3-1.7B DEV Финальный результат EX: 48.50\n",
      "Qwen3-1.7B процент запросов, которые успешно выполнились DEV: 82.40%\n",
      "====================================================================================================\n",
      "\n",
      "\n",
      "Загружаем чаты с данными...\n",
      "Данные успешно загружены\n",
      "Начали генерацию SQL запросов\n"
     ]
    },
    {
     "name": "stderr",
     "output_type": "stream",
     "text": [
      "Processed prompts: 100%|██████████| 1534/1534 [01:00<00:00, 25.56it/s, est. speed input: 140147.55 toks/s, output: 1183.97 toks/s] "
     ]
    },
    {
     "name": "stdout",
     "output_type": "stream",
     "text": [
      "extract_think количество ошибок:  0\n",
      "extract_sql количество ошибок:  0\n",
      "Закончили генерацию SQL запросов\n",
      "Начали скорр полученных SQL запросов\n"
     ]
    },
    {
     "name": "stderr",
     "output_type": "stream",
     "text": [
      "\n"
     ]
    },
    {
     "name": "stdout",
     "output_type": "stream",
     "text": [
      "Qwen3-1.7B DEV Финальный результат EX: 47.13\n",
      "Qwen3-1.7B процент запросов, которые успешно выполнились DEV: 81.23%\n",
      "====================================================================================================\n",
      "\n",
      "\n"
     ]
    }
   ],
   "source": [
    "run_cot_experiment(model,arr_seeds,arr_versions, type_cot,num_observations=num_observations)"
   ]
  },
  {
   "cell_type": "markdown",
   "id": "497ba1a7-9a17-4849-b915-86790c9c7d3b",
   "metadata": {},
   "source": [
    "## 4 наблюдения"
   ]
  },
  {
   "cell_type": "code",
   "execution_count": 7,
   "id": "ce49c4fe-8bad-4a23-82e6-10e210d49af7",
   "metadata": {},
   "outputs": [
    {
     "name": "stdout",
     "output_type": "stream",
     "text": [
      "[486, 921, 880, 223, 770, 80, 421, 661, 953, 947, 3, 535, 657, 846, 917, 194, 299, 842, 205, 128]\n",
      "model: Qwen3-1.7B\n"
     ]
    }
   ],
   "source": [
    "n= 20\n",
    "arr_seeds = [random.randint(0,1000) for _ in range(n)]\n",
    "arr_versions = [x for x in range(n)]\n",
    "model = \"Qwen3-1.7B\"\n",
    "num_observations = 4\n",
    "type_cot = 'all_new'\n",
    "print(arr_seeds)\n",
    "print(f\"model: {model}\")"
   ]
  },
  {
   "cell_type": "code",
   "execution_count": 8,
   "id": "7a21f95e-0959-4d46-b161-3dd97031a48f",
   "metadata": {
    "scrolled": true
   },
   "outputs": [
    {
     "name": "stdout",
     "output_type": "stream",
     "text": [
      "Загружаем модель...\n"
     ]
    },
    {
     "name": "stderr",
     "output_type": "stream",
     "text": [
      "Loading safetensors checkpoint shards:   0% Completed | 0/2 [00:00<?, ?it/s]\n",
      "Loading safetensors checkpoint shards:  50% Completed | 1/2 [00:01<00:01,  1.26s/it]\n",
      "Loading safetensors checkpoint shards: 100% Completed | 2/2 [00:01<00:00,  1.52it/s]\n",
      "\u001b[1;36m(VllmWorker rank=0 pid=2516768)\u001b[0;0m \n"
     ]
    },
    {
     "name": "stdout",
     "output_type": "stream",
     "text": [
      "Модель успешно загружена\n",
      "model_config {'model': '/data/home/vkropoti/models/Qwen3-1.7B', 'tensor_parallel_size': 2, 'max_model_len': 40000, 'max_new_tokens': 1500, 'temperature': 0, 'top_k': 1, 'top_p': 0.8, 'gpu_memory_utilization': 0.9, 'trust_remote_code': False, 'seed': 486}\n",
      "\n",
      "prompts_config {'path_dev_json': '/home/vkropoti/vllm/dev.json', 'path_sql_dbs': '/data/home/vkropoti/sql_data/dev_databases/', 'use_reasoning': False, 'paths_to_cot': ['/data/home/vkropoti/sql_llm_answers/bird_dev_m_schema/sql_all_new_Qwen3-1.7B-reasoning-v0', '/data/home/vkropoti/sql_llm_answers/bird_dev_m_schema/sql_all_new_Qwen3-1.7B-reasoning-v1', '/data/home/vkropoti/sql_llm_answers/bird_dev_m_schema/sql_all_new_Qwen3-1.7B-reasoning-v2', '/data/home/vkropoti/sql_llm_answers/bird_dev_m_schema/sql_all_new_Qwen3-1.7B-reasoning-v3']}\n",
      "\n",
      "save_config {'path_sql_save': '/data/home/vkropoti/sql_llm_answers/bird_dev_m_schema/sql_all_Qwen3-1.7B-cot_all_new_think==False_nobs4-v0', 'path_think_save': None, 'path_sql_answers_save': '/data/home/vkropoti/sql_llm_answers/bird_dev_m_schema/sql_predict_Qwen3-1.7B-cot_all_new_think==False_nobs4-v0', 'path_to_save_scores': '/data/home/vkropoti/sql_llm_answers/bird_dev_m_schema/sql_results_Qwen3-1.7B-cot_all_new_think==False_nobs4-v0', 'path_to_save_executed': '/data/home/vkropoti/sql_llm_answers/bird_dev_m_schema/sql_executed_Qwen3-1.7B-cot_all_new_think==False_nobs4-v0'}\n",
      "\n",
      "Модель успешно загружена\n",
      "Пример промпта\n",
      "<|im_start|>system\n",
      "\n",
      "You are a data science expert. Below, you are provided with a database schema and a natural language question. Your task is to understand the schema and generate a valid SQL query to answer the question.\n",
      "\n",
      "Database Engine: SQLite\n",
      "\n",
      "You will be given an additional analysis of other models, please take it into account, so the plan is\n",
      "1. Analyse given addition analysis from other models (find in which analysis the same and differ, how to use that to answer question)\n",
      "2. Combine best from previous part and think how to solve the problem (analyze tables, take care what columns avaliable in each table and so on, check the syntacsis)\n",
      "3. Create the answers. The answer should be only sql query.\n",
      "\n",
      "Carefully follow the instruction and add <|im_end|> and the end of the final answer<|im_end|>\n",
      "<|im_start|>user\n",
      "Here is addition analysis from other models which can be helpfull, please take this into account but be careful (choose the best from each analysis, combine them to make the most proper answer):\n",
      "\n",
      "model 0 analysis:\n",
      " Reasoning process:\n",
      "\n",
      "Okay, let's tackle this question step by step. The user wants the highest eligible free rate for K-12 students in Alameda County. \n",
      "\n",
      "First, I need to figure out which tables are involved. The eligible free rate is calculated as Free Meal Count (K-12) divided by Enrollment (K-12). So I need data from the frpm table. But the frpm table has the Free Meal Count and Enrollment values. However, the schools table has the County information, so I need to join the schools table with the frpm table on the CDSCode.\n",
      "\n",
      "Wait, the foreign keys are frpm.CDSCode = schools.CDSCode and satscores.cds = schools.CDSCode. So the schools table has the CDSCode, which is linked to frpm. So the plan is to join schools with frpm on CDSCode, filter where the County is 'Alameda County', then calculate the ratio.\n",
      "\n",
      "But wait, the schools table's County column has examples like 'Alameda', 'Alpine', etc. So the County column is a TEXT field. So I need to check if the County is 'Alameda' exactly. But maybe the actual county names might have spaces or different formats. However, the examples given in the schools table's County column are 'Alameda', so assuming that 'Alameda' is the correct value.\n",
      "\n",
      "So the steps are:\n",
      "\n",
      "1. Join schools and frpm on CDSCode.\n",
      "2. Filter where schools.County = 'Alameda'.\n",
      "3. Calculate Free Meal Count (K-12) / Enrollment (K-12) for each school.\n",
      "4. Find the maximum value of this ratio.\n",
      "\n",
      "But the question says \"highest eligible free rate\", so we need the maximum value from the calculated ratio.\n",
      "\n",
      "Now, the SQL query would need to select the maximum of (Free Meal Count (K-12) / Enrollment (K-12)) from the joined tables where County is 'Alameda'.\n",
      "\n",
      "But wait, the frpm table has the Free Meal Count (K-12) as a REAL number and Enrollment (K-12) as a REAL number. So the division would be done in the query.\n",
      "\n",
      "So the SQL query would be:\n",
      "\n",
      "SELECT MAX(Free Meal Count (K-12) / Enrollment (K-12)) FROM schools JOIN frpm ON schools.CDSCode = frpm.CDSCode WHERE schools.County = 'Alameda';\n",
      "\n",
      "But need to check if the County is exactly 'Alameda' or if there's a need to use a LIKE clause. The examples given in the schools table's County column are 'Alameda', so it's likely that the exact value is 'Alameda'. However, in practice, sometimes counties might have different names, but based on the given data, we can assume that.\n",
      "\n",
      "Another thing: the schools table has a District column, but the County is the primary field here. So the JOIN is on CDSCode, which is the same in both tables.\n",
      "\n",
      "So the final query would be as above. But need to make sure that the columns are correctly referenced. The frpm table has Free Meal Count (K-12) as a column, and Enrollment (K-12) as another column. So the division is between those two.\n",
      "\n",
      "Therefore, the SQL query should select the maximum of that ratio from the joined tables where the county is Alameda.\n",
      "\n",
      "Final answer based om reasoning for this model:\n",
      "\n",
      "\n",
      "```\n",
      "SELECT MAX(Free Meal Count (K-12)/Enrollment (K-12)) FROM schools JOIN frpm ON schools.CDSCode = frpm.CDSCode WHERE schools.County = 'Alameda';\n",
      "```\n",
      "\n",
      "model 1 analysis:\n",
      " Reasoning process:\n",
      "\n",
      "Okay, let's tackle this question. The user wants the highest eligible free rate for K-12 students in Alameda County. \n",
      "\n",
      "First, I need to figure out which tables are involved. The relevant tables here are 'frpm' and 'schools' because the 'frpm' table has the eligible free rates and the 'schools' table has the county information. \n",
      "\n",
      "The 'schools' table has a 'County' column, and we need to filter for Alameda County. So, I'll start by joining the 'schools' table with the 'frpm' table on the 'CDSCode' since that's the primary key link. \n",
      "\n",
      "Next, the eligible free rate is calculated as Free Meal Count (K-12) divided by Enrollment (K-12). But wait, the question specifies K-12 students, so I need to make sure that the rows in frpm are for K-12. The 'Low Grade' and 'High Grade' columns in frpm might indicate the grade levels, but the question is specifically about K-12. So maybe the 'Low Grade' is K, and the 'High Grade' is 12. But the user might just want the rate for K-12 students, so perhaps we can assume that the rows in frpm where Low Grade is 'K' and High Grade is '12' are the ones we need. However, the problem statement says \"K-12 students,\" so maybe we need to check if the frpm data includes that. But the user's question doesn't specify filtering by grade, just K-12. So perhaps the frpm table's rows are already for K-12, or we need to check the data.\n",
      "\n",
      "But since the question is about K-12, maybe the frpm table's rows are for K-12. However, the 'Low Grade' and 'High Grade' columns might not be directly relevant here. The user's question is about the highest eligible free rate for K-12 students, so the frpm table's rows where the school is in Alameda County and the grade levels are K-12. But the problem is that the 'frpm' table's 'Low Grade' is 'K' and 'High Grade' is '12', so perhaps we need to filter where Low Grade is 'K' and High Grade is '12'.\n",
      "\n",
      "But the user's question might not require that, since the question is about K-12 students in general. However, the data might have entries for K-12, so perhaps we can just use the frpm table's rows where the school is in Alameda County. \n",
      "\n",
      "Wait, the 'schools' table has a 'County' column, so we need to join on that. So the plan is: join schools and frpm on CDSCode, filter where County is 'Alameda', then calculate the eligible free rate as Free Meal Count (K-12) / Enrollment (K-12), and find the maximum value.\n",
      "\n",
      "But the user's question says \"highest eligible free rate for K-12 students in the schools in Alameda County\". So the steps are:\n",
      "\n",
      "1. Join schools and frpm on CDSCode.\n",
      "2. Filter schools where County is 'Alameda'.\n",
      "3. Calculate the eligible free rate for K-12 students (Free Meal Count (K-12) / Enrollment (K-12)).\n",
      "4. Find the maximum value of this rate.\n",
      "\n",
      "But the problem is that the frpm table's 'Low Grade' and 'High Grade' might not be directly relevant here. However, the question is about K-12 students, so maybe the frpm table's rows are for K-12. Alternatively, the 'Low Grade' is 'K' and 'High Grade' is '12', so the rows where Low Grade is 'K' and High Grade is '12' are for K-12. Therefore, we need to filter those rows.\n",
      "\n",
      "So the query would be:\n",
      "\n",
      "SELECT MAX( (Free Meal Count (K-12) / Enrollment (K-12)) ) AS highest_rate\n",
      "FROM frpm\n",
      "JOIN schools ON frpm.CDSCode = schools.CDSCode\n",
      "WHERE schools.County = 'Alameda' AND frpm.Low Grade = 'K' AND frpm.High Grade = '12';\n",
      "\n",
      "But the user's question might not require checking the grade levels, just the K-12 students. However, the data might not have entries for K-12. But the problem says \"K-12 students\", so perhaps the frpm table's rows are for K-12. But the 'Low Grade' and 'High Grade' columns are part of the frpm table. So the correct approach is to check those columns.\n",
      "\n",
      "But the user's question is phrased as \"highest eligible free rate for K-12 students in the schools in Alameda County\". So the answer would require that the frpm data includes K-12 students. Therefore, the query would need to filter where Low Grade is 'K' and High Grade is '12'.\n",
      "\n",
      "But the user might not have that data. However, based on the schema, the frpm table's columns include Low Grade and High Grade, so the answer must consider those.\n",
      "\n",
      "So the final SQL query would be:\n",
      "\n",
      "SELECT MAX( (Free Meal Count (K-12) / Enrollment (K-12)) ) AS highest_rate\n",
      "FROM frpm\n",
      "JOIN schools ON frpm.CDSCode = schools.CDSCode\n",
      "WHERE schools.County = 'Alameda' AND frpm.Low Grade = 'K' AND frpm.High Grade = '12';\n",
      "\n",
      "But the problem is that in SQLite, the column names are in quotes. Also, the user wants only the column in the SELECT clause, which is the highest rate. So the query should select the maximum of that rate.\n",
      "\n",
      "But the question might not require the actual values, just the maximum. So the query would be as above.\n",
      "\n",
      "Wait, but the user's question is to get the highest eligible free rate. So the SQL would be to select the maximum of (Free Meal Count (K-12)/Enrollment (K-12)) where the school is in Alameda County and the grade levels are K-12.\n",
      "\n",
      "Therefore, the correct query is as above.\n",
      "\n",
      "Final answer based om reasoning for this model:\n",
      "\n",
      "\n",
      "```\n",
      "SELECT MAX((Free Meal Count (K-12) / Enrollment (K-12))) AS highest_rate\n",
      "FROM frpm\n",
      "JOIN schools ON frpm.CDSCode = schools.CDSCode\n",
      "WHERE schools.County = 'Alameda' AND frpm.Low Grade = 'K' AND frpm.High Grade = '12';\n",
      "```\n",
      "\n",
      "model 2 analysis:\n",
      " Reasoning process:\n",
      "\n",
      "Okay, let's tackle this question. The user wants the highest eligible free rate for K-12 students in Alameda County. \n",
      "\n",
      "First, I need to figure out which tables are involved. The relevant tables here are 'schools' and 'frpm' because they have the CDSCode and County information. The 'satscores' table might not be necessary here since the question is about free meal counts and enrollments.\n",
      "\n",
      "The 'schools' table has the County field, so I can filter for County = 'Alameda'. The 'frpm' table has 'County Name' and 'Enrollment (K-12)', 'Free Meal Count (K-12)', and 'Percent (%) Eligible Free (K-12)' columns. \n",
      "\n",
      "Wait, the 'frpm' table's 'County Name' might have the county names, but the 'schools' table's 'County' field is a TEXT field. So I need to join the two tables on schools.CDSCode = frpm.CDSCode. Then, filter where schools.County = 'Alameda'.\n",
      "\n",
      "But the question is about the highest eligible free rate. So I need to calculate the percentage from the 'Percent (%) Eligible Free (K-12)' column. Then, find the maximum value among those that are in Alameda County.\n",
      "\n",
      "So the steps are: join schools and frpm on CDSCode, filter where County is 'Alameda', select the Percent column, order by it descending, limit 1.\n",
      "\n",
      "Wait, but the 'frpm' table has 'Percent (%) Eligible Free (K-12)' as a column. So the SQL would be:\n",
      "\n",
      "SELECT MAX(Percent (%) Eligible Free (K-12)) FROM frpm JOIN schools ON frpm.CDSCode = schools.CDSCode WHERE schools.County = 'Alameda';\n",
      "\n",
      "But I need to make sure that the column names are correct. The 'frpm' table has 'Percent (%) Eligible Free (K-12)' as a column, so that's correct. The 'schools' table has 'County' as a column. \n",
      "\n",
      "But the question says \"schools in Alameda County\", so the 'schools' table's County must be 'Alameda'. \n",
      "\n",
      "So the final query would be joining the two tables on CDSCode, filtering the County, then selecting the max of the eligible free rate. \n",
      "\n",
      "But wait, the user wants the highest rate, so MAX() is correct. \n",
      "\n",
      "I need to make sure that the columns are correctly referenced. Also, the 'frpm' table's 'County Name' might have the county name, but the 'schools' table's 'County' is the one to filter. So the join is correct.\n",
      "\n",
      "So the SQL query would be:\n",
      "\n",
      "SELECT MAX(Percent (%) Eligible Free (K-12)) FROM frpm JOIN schools ON frpm.CDSCode = schools.CDSCode WHERE schools.County = 'Alameda';\n",
      "\n",
      "Final answer based om reasoning for this model:\n",
      "\n",
      "\n",
      "```\n",
      "SELECT MAX(Percent (%) Eligible Free (K-12)) FROM frpm JOIN schools ON frpm.CDSCode = schools.CDSCode WHERE schools.County = 'Alameda';\n",
      "```\n",
      "\n",
      "model 3 analysis:\n",
      " Reasoning process:\n",
      "\n",
      "Okay, let's tackle this question. The user wants the highest eligible free rate for K-12 students in Alameda County. \n",
      "\n",
      "First, I need to figure out which tables are involved. The relevant tables here are 'frpm' and 'schools' because the 'frpm' table has the eligible free rates and the 'schools' table has the county information. \n",
      "\n",
      "The 'schools' table has a 'County' column, and we need to filter for Alameda County. So, I'll start by joining the 'schools' table with the 'frpm' table on the 'CDSCode' since that's the primary key link. \n",
      "\n",
      "Next, the eligible free rate is calculated as Free Meal Count (K-12) divided by Enrollment (K-12). But wait, the question specifies K-12 students, so I need to make sure that the rows in frpm are for K-12. The 'Low Grade' and 'High Grade' columns in frpm might indicate the grade levels, but the question is specifically about K-12. So maybe the 'Low Grade' is K, and the 'High Grade' is 12. But the user might just want the rate for K-12 students, so perhaps we can assume that the rows in frpm where Low Grade is 'K' and High Grade is '12' are the ones we need. However, the problem statement says \"K-12 students,\" so maybe the frpm table's data already covers that. But to be safe, maybe we need to filter where Low Grade is 'K' and High Grade is '12'. \n",
      "\n",
      "Wait, the user's question says \"for K-12 students,\" so the frpm data should have entries for K-12. But the 'frpm' table's columns have 'Low Grade' and 'High Grade' as TEXT. So maybe the rows where Low Grade is 'K' and High Grade is '12' are the K-12 students. So I need to filter those rows. \n",
      "\n",
      "So the query would join schools and frpm on CDSCode, filter schools where County is 'Alameda', and then filter frpm where Low Grade is 'K' and High Grade is '12'. Then calculate the percentage (Free Meal Count (K-12) / Enrollment (K-12)) and find the maximum value. \n",
      "\n",
      "But the user wants the highest eligible free rate, so after joining and filtering, I need to compute the percentage and select the maximum. \n",
      "\n",
      "Wait, the question says \"the highest eligible free rate for K-12 students in the schools in Alameda County.\" So the steps are:\n",
      "\n",
      "1. Join schools and frpm on CDSCode.\n",
      "2. Filter schools where County is 'Alameda'.\n",
      "3. Filter frpm where Low Grade is 'K' and High Grade is '12'.\n",
      "4. Calculate the percentage (Free Meal Count (K-12) / Enrollment (K-12)).\n",
      "5. Find the maximum value of this percentage.\n",
      "\n",
      "So the SQL query would select the maximum of the calculated percentage from the joined tables. \n",
      "\n",
      "But how to structure this in SQL. Let's see. The tables are 'schools' and 'frpm'. The join is on schools.CDSCode = frpm.CDSCode. \n",
      "\n",
      "So the query would be:\n",
      "\n",
      "SELECT MAX( (frpm.Free Meal Count (K-12) / frpm.Enrollment (K-12)) * 100 ) AS highest_rate\n",
      "FROM schools\n",
      "JOIN frpm ON schools.CDSCode = frpm.CDSCode\n",
      "WHERE schools.County = 'Alameda' AND frpm.Low Grade = 'K' AND frpm.High Grade = '12';\n",
      "\n",
      "Wait, but the columns in the frpm table are named with quotes. The user specified that the columns should be in quotes. So the column names in the frpm table are like 'Free Meal Count (K-12)' and 'Enrollment (K-12)'. So the correct column names in the SQL query would be with quotes. \n",
      "\n",
      "So the query would be:\n",
      "\n",
      "SELECT MAX( (frpm.Free Meal Count (K-12) / frpm.Enrollment (K-12)) ) AS highest_rate\n",
      "FROM schools\n",
      "JOIN frpm ON schools.CDSCode = frpm.CDSCode\n",
      "WHERE schools.County = 'Alameda' AND frpm.Low Grade = 'K' AND frpm.High Grade = '12';\n",
      "\n",
      "But the question says \"highest eligible free rate\" which is the percentage. So the calculation is (Free Meal Count / Enrollment) * 100? Or is it (Free Meal Count / Enrollment) as a percentage? The user's external knowledge says Eligible free rate is Free Meal Count / Enrollment. But the question says \"Percent (%) Eligible Free (K-12)\" in the frpm table. So the actual value in the frpm table is the percentage. So maybe the value is already in percentage, so we don't need to multiply by 100. Wait, the example for Percent (%) Eligible Free (K-12) is [0.519779208831647, 0.470886075949367, 0.549180327868853]. So these are decimal numbers, not percentages. So the actual value is the percentage as a decimal. So the user's question says \"highest eligible free rate\" which is the value in the frpm table, which is already in percentage. So the calculation is just selecting the maximum of that value. \n",
      "\n",
      "Wait, but the user's external knowledge says Eligible free rate is Free Meal Count / Enrollment. But the frpm table has the Percent (%) Eligible Free (K-12) as a decimal. So perhaps the value in frpm is already the percentage. So the query would just select the maximum of that column. \n",
      "\n",
      "But the user's question is asking for the highest eligible free rate, which is the value in the Percent (%) Eligible Free (K-12) column. So the correct query is to select the maximum of that column where the conditions are met. \n",
      "\n",
      "So the query would be:\n",
      "\n",
      "SELECT MAX(Percent (%) Eligible Free (K-12)) \n",
      "FROM frpm\n",
      "JOIN schools ON frpm.CDSCode = schools.CDSCode\n",
      "WHERE schools.County = 'Alameda' AND frpm.Low Grade = 'K' AND frpm.High Grade = '12';\n",
      "\n",
      "But the user wants the answer in the correct format. Also, the columns in the frpm table are named with quotes. So in the SQL query, the column names must be in quotes. \n",
      "\n",
      "So the final query would be:\n",
      "\n",
      "SELECT MAX(Percent (%) Eligible Free (K-12)) \n",
      "FROM schools \n",
      "JOIN frpm ON schools.CDSCode = frpm.CDSCode \n",
      "WHERE schools.County = 'Alameda' AND frpm.Low Grade = 'K' AND frpm.High Grade = '12';\n",
      "\n",
      "But the user might have the columns in the frpm table as 'Free Meal Count (K-12)' and 'Enrollment (K-12)', but the question is about the Percent (%) Eligible Free (K-12) column. So the query would select that column. \n",
      "\n",
      "So the correct SQL is:\n",
      "\n",
      "SELECT MAX(Percent (%) Eligible Free (K-12)) \n",
      "FROM schools \n",
      "JOIN frpm ON schools.CDSCode = frpm.CDSCode \n",
      "WHERE schools.County = 'Alameda' AND frpm.Low Grade = 'K' AND frpm.High Grade = '12';\n",
      "\n",
      "But the problem says that the user wants the highest eligible free rate, which is the maximum of that column. \n",
      "\n",
      "So the final answer is that SQL query.\n",
      "\n",
      "Final answer based om reasoning for this model:\n",
      "\n",
      "\n",
      "```\n",
      "SELECT MAX(Percent (%) Eligible Free (K-12)) \n",
      "FROM schools \n",
      "JOIN frpm ON schools.CDSCode = frpm.CDSCode \n",
      "WHERE schools.County = 'Alameda' AND frpm.Low Grade = 'K' AND frpm.High Grade = '12';\n",
      "```\n",
      "\n",
      "\n",
      "here is avaliable tables and their structure below\n",
      "【DB_ID】 california_schools\n",
      "【Schema】\n",
      "# Table: frpm\n",
      "[\n",
      "(CDSCode:TEXT, maps to schools.CDSCode, Primary Key, Examples: [01100170109835, 01100170112607, 01100170118489]),\n",
      "(Academic Year:TEXT, Examples: [2014-2015]),\n",
      "(County Code:TEXT, Examples: [01, 02, 03]),\n",
      "(District Code:INTEGER, Examples: [10017, 31609, 31617]),\n",
      "(School Code:TEXT, Examples: [0109835, 0112607, 0118489]),\n",
      "(County Name:TEXT, Examples: [Alameda, Alpine, Amador]),\n",
      "(District Name:TEXT),\n",
      "(School Name:TEXT, Examples: [FAME Public Charter]),\n",
      "(District Type:TEXT, Examples: [County Office of Education (COE)]),\n",
      "(School Type:TEXT, Examples: [K-12 Schools (Public)]),\n",
      "(Educational Option Type:TEXT, Examples: [Traditional]),\n",
      "(NSLP Provision Status:TEXT, Examples: [Breakfast Provision 2]),\n",
      "(Charter School (Y/N):INTEGER, Examples: [1, 0]),\n",
      "(Charter School Number:TEXT, Examples: [0728, 0811, 1049]),\n",
      "(Charter Funding Type:TEXT, Examples: [Directly funded]),\n",
      "(IRC:INTEGER, Examples: [1, 0]),\n",
      "(Low Grade:TEXT, Examples: [K, 9, 1]),\n",
      "(High Grade:TEXT, Examples: [12, 8, 5]),\n",
      "(Enrollment (K-12):REAL, Examples: [1087.0, 395.0, 244.0]),\n",
      "(Free Meal Count (K-12):REAL, Examples: [565.0, 186.0, 134.0]),\n",
      "(Percent (%) Eligible Free (K-12):REAL, Examples: [0.519779208831647, 0.470886075949367, 0.549180327868853]),\n",
      "(FRPM Count (K-12):REAL, Examples: [715.0, 186.0, 175.0]),\n",
      "(Percent (%) Eligible FRPM (K-12):REAL, Examples: [0.657773689052438, 0.470886075949367, 0.717213114754098]),\n",
      "(Enrollment (Ages 5-17):REAL, Examples: [1070.0, 376.0, 230.0]),\n",
      "(Free Meal Count (Ages 5-17):REAL, Examples: [553.0, 182.0, 128.0]),\n",
      "(Percent (%) Eligible Free (Ages 5-17):REAL, Examples: [0.516822429906542, 0.484042553191489, 0.556521739130435]),\n",
      "(FRPM Count (Ages 5-17):REAL, Examples: [702.0, 182.0, 168.0]),\n",
      "(Percent (%) Eligible FRPM (Ages 5-17):REAL, Examples: [0.65607476635514, 0.484042553191489, 0.730434782608696]),\n",
      "(2013-14 CALPADS Fall 1 Certification Status:INTEGER, Examples: [1])\n",
      "]\n",
      "# Table: satscores\n",
      "[\n",
      "(cds:TEXT, maps to schools.CDSCode, Primary Key, Examples: [10101080000000, 10101080109991, 10101080111682]),\n",
      "(rtype:TEXT, Examples: [D, S]),\n",
      "(sname:TEXT, Examples: [FAME Public Charter]),\n",
      "(dname:TEXT, Examples: [Alameda County Office of Education]),\n",
      "(cname:TEXT, Examples: [Alameda, Amador, Butte]),\n",
      "(enroll12:INTEGER, Examples: [398, 62, 75]),\n",
      "(NumTstTakr:INTEGER, Examples: [88, 17, 71]),\n",
      "(AvgScrRead:INTEGER, Examples: [418, 503, 397]),\n",
      "(AvgScrMath:INTEGER, Examples: [418, 546, 387]),\n",
      "(AvgScrWrite:INTEGER, Examples: [417, 505, 395]),\n",
      "(NumGE1500:INTEGER, Examples: [14, 9, 5])\n",
      "]\n",
      "# Table: schools\n",
      "[\n",
      "(CDSCode:TEXT, Primary Key, Examples: [01100170000000, 01100170109835, 01100170112607]),\n",
      "(NCESDist:TEXT, Examples: [0691051, 0600002, 0600003]),\n",
      "(NCESSchool:TEXT, Examples: [10546, 10947, 12283]),\n",
      "(StatusType:TEXT, Examples: [Active, Closed, Merged]),\n",
      "(County:TEXT, Examples: [Alameda, Alpine, Amador]),\n",
      "(District:TEXT),\n",
      "(School:TEXT, Examples: [FAME Public Charter]),\n",
      "(Street:TEXT, Examples: [313 West Winton Avenue]),\n",
      "(StreetAbr:TEXT, Examples: [313 West Winton Ave.]),\n",
      "(City:TEXT, Examples: [Hayward, Newark, Oakland]),\n",
      "(Zip:TEXT, Examples: [94544-1136, 94560-5359, 94612-3355]),\n",
      "(State:TEXT, Examples: [CA]),\n",
      "(MailStreet:TEXT, Examples: [313 West Winton Avenue]),\n",
      "(MailStrAbr:TEXT, Examples: [313 West Winton Ave.]),\n",
      "(MailCity:TEXT, Examples: [Hayward, Newark, Oakland]),\n",
      "(MailZip:TEXT, Examples: [94544-1136, 94560-5359, 94612]),\n",
      "(MailState:TEXT, Examples: [CA]),\n",
      "(Phone:TEXT, Examples: [(510) 887-0152, (510) 596-8901, (510) 686-4131]),\n",
      "(Ext:TEXT, Examples: [130, 1240, 1200]),\n",
      "(Website:TEXT, Examples: [www.acoe.org]),\n",
      "(OpenDate:DATE, Examples: [2005-08-29]),\n",
      "(ClosedDate:DATE, Examples: [2015-07-31]),\n",
      "(Charter:INTEGER, Examples: [1, 0]),\n",
      "(CharterNum:TEXT, Examples: [0728, 0811, 1049]),\n",
      "(FundingType:TEXT, Examples: [Directly funded]),\n",
      "(DOC:TEXT, Examples: [00, 31, 34]),\n",
      "(DOCType:TEXT, Examples: [County Office of Education (COE)]),\n",
      "(SOC:TEXT, Examples: [65, 66, 60]),\n",
      "(SOCType:TEXT, Examples: [K-12 Schools (Public)]),\n",
      "(EdOpsCode:TEXT, Examples: [TRAD, JUV, COMM]),\n",
      "(EdOpsName:TEXT, Examples: [Traditional]),\n",
      "(EILCode:TEXT, Examples: [ELEMHIGH, HS, ELEM]),\n",
      "(EILName:TEXT, Examples: [Elementary-High Combination]),\n",
      "(GSoffered:TEXT, Examples: [K-12, 9-12, K-8]),\n",
      "(GSserved:TEXT, Examples: [K-12, 9-12, K-7]),\n",
      "(Virtual:TEXT, Examples: [P, N, F]),\n",
      "(Magnet:INTEGER, Examples: [0, 1]),\n",
      "(Latitude:REAL, Examples: [37.658212, 37.521436, 37.80452]),\n",
      "(Longitude:REAL, Examples: [-122.09713, -121.99391, -122.26815]),\n",
      "(AdmFName1:TEXT, Examples: [L Karen, Laura, Clifford]),\n",
      "(AdmLName1:TEXT, Examples: [Monroe, Robell, Thompson]),\n",
      "(AdmEmail1:TEXT),\n",
      "(AdmFName2:TEXT, Examples: [Sau-Lim (Lance), Jennifer, Annalisa]),\n",
      "(AdmLName2:TEXT, Examples: [Tsang, Koelling, Moore]),\n",
      "(AdmEmail2:TEXT),\n",
      "(AdmFName3:TEXT, Examples: [Drew, Irma, Vickie]),\n",
      "(AdmLName3:TEXT, Examples: [Sarratore, Munoz, Chang]),\n",
      "(AdmEmail3:TEXT),\n",
      "(LastUpdate:DATE, Examples: [2015-06-23])\n",
      "]\n",
      "【Foreign keys】\n",
      "frpm.CDSCode=schools.CDSCode\n",
      "satscores.cds=schools.CDSCode\n",
      "\n",
      "-- Using valid SQLite and understanding External Knowledge, answer the following questions for the tables provided above.\n",
      "-- What is the highest eligible free rate for K-12 students in the schools in Alameda County?\n",
      "-- External Knowledge: Eligible free rate for K-12 = `Free Meal Count (K-12)` / `Enrollment (K-12)`\n",
      "\n",
      "\n",
      "Generate the SQLite for the above question after thinking step by step: \n",
      "\n",
      "\n",
      "Instructions:\n",
      "- Make sure you only output the information that is asked in the question. If the question asks for a specific column, make sure to only include that column in the SELECT clause, nothing more.\n",
      "- The generated query should return all of the information asked in the question without any missing or extra information.\n",
      "- Before generating the final SQL query, please think through the steps of how to write the query.\n",
      "- Do not misuse column names, keep them in quotes `\n",
      "- Carefully understand what colomns belond to what tables\n",
      "- Use only initial column names, change names prohibited\n",
      "        \n",
      "Output Format:\n",
      "In your answer, please enclose the generated SQL query in a code block:\n",
      "```\n",
      "-- Your SQL query\n",
      "```    \n",
      "and nothing else, no exaplains, no comments (asnwer should be less than 512 characters)\n",
      "\n",
      "Take a deep breath and think step by step to find the correct SQL query in SQLite format.\n",
      "\n",
      "Question repetition: What is the highest eligible free rate for K-12 students in the schools in Alameda County?\n",
      "\n",
      "Be care! Include only what i want it questiona and nothing else<|im_end|>\n",
      "<|im_start|>assistant\n",
      "<think>\n",
      "\n",
      "</think>\n",
      "\n",
      "\n",
      "\n",
      "\n",
      "Максимальное количество токенов в промптах: 23820\n",
      "\n",
      "начинаем скорринг\n",
      "Загружаем чаты с данными...\n",
      "Данные успешно загружены\n",
      "Начали генерацию SQL запросов\n"
     ]
    },
    {
     "name": "stderr",
     "output_type": "stream",
     "text": [
      "Processed prompts: 100%|██████████| 1534/1534 [01:11<00:00, 21.51it/s, est. speed input: 137612.83 toks/s, output: 1002.39 toks/s]  "
     ]
    },
    {
     "name": "stdout",
     "output_type": "stream",
     "text": [
      "extract_think количество ошибок:  0\n",
      "extract_sql количество ошибок:  0\n",
      "Закончили генерацию SQL запросов\n",
      "Начали скорр полученных SQL запросов\n"
     ]
    },
    {
     "name": "stderr",
     "output_type": "stream",
     "text": [
      "\n"
     ]
    },
    {
     "name": "stdout",
     "output_type": "stream",
     "text": [
      "Qwen3-1.7B DEV Финальный результат EX: 47.65\n",
      "Qwen3-1.7B процент запросов, которые успешно выполнились DEV: 81.62%\n",
      "====================================================================================================\n",
      "\n",
      "\n",
      "Загружаем чаты с данными...\n",
      "Данные успешно загружены\n",
      "Начали генерацию SQL запросов\n"
     ]
    },
    {
     "name": "stderr",
     "output_type": "stream",
     "text": [
      "Processed prompts: 100%|██████████| 1534/1534 [01:11<00:00, 21.40it/s, est. speed input: 136131.95 toks/s, output: 996.07 toks/s]   "
     ]
    },
    {
     "name": "stdout",
     "output_type": "stream",
     "text": [
      "extract_think количество ошибок:  0\n",
      "extract_sql количество ошибок:  0\n",
      "Закончили генерацию SQL запросов\n",
      "Начали скорр полученных SQL запросов\n"
     ]
    },
    {
     "name": "stderr",
     "output_type": "stream",
     "text": [
      "\n"
     ]
    },
    {
     "name": "stdout",
     "output_type": "stream",
     "text": [
      "Qwen3-1.7B DEV Финальный результат EX: 47.91\n",
      "Qwen3-1.7B процент запросов, которые успешно выполнились DEV: 80.77%\n",
      "====================================================================================================\n",
      "\n",
      "\n",
      "Загружаем чаты с данными...\n",
      "Данные успешно загружены\n",
      "Начали генерацию SQL запросов\n"
     ]
    },
    {
     "name": "stderr",
     "output_type": "stream",
     "text": [
      "Processed prompts: 100%|██████████| 1534/1534 [01:11<00:00, 21.39it/s, est. speed input: 137034.25 toks/s, output: 984.41 toks/s]   "
     ]
    },
    {
     "name": "stdout",
     "output_type": "stream",
     "text": [
      "extract_think количество ошибок:  0\n",
      "extract_sql количество ошибок:  0\n",
      "Закончили генерацию SQL запросов\n",
      "Начали скорр полученных SQL запросов\n"
     ]
    },
    {
     "name": "stderr",
     "output_type": "stream",
     "text": [
      "\n"
     ]
    },
    {
     "name": "stdout",
     "output_type": "stream",
     "text": [
      "Qwen3-1.7B DEV Финальный результат EX: 48.70\n",
      "Qwen3-1.7B процент запросов, которые успешно выполнились DEV: 81.94%\n",
      "====================================================================================================\n",
      "\n",
      "\n",
      "Загружаем чаты с данными...\n",
      "Данные успешно загружены\n",
      "Начали генерацию SQL запросов\n"
     ]
    },
    {
     "name": "stderr",
     "output_type": "stream",
     "text": [
      "Processed prompts: 100%|██████████| 1534/1534 [01:14<00:00, 20.63it/s, est. speed input: 135623.64 toks/s, output: 961.78 toks/s]   "
     ]
    },
    {
     "name": "stdout",
     "output_type": "stream",
     "text": [
      "extract_think количество ошибок:  0\n",
      "extract_sql количество ошибок:  0\n",
      "Закончили генерацию SQL запросов\n",
      "Начали скорр полученных SQL запросов\n"
     ]
    },
    {
     "name": "stderr",
     "output_type": "stream",
     "text": [
      "\n"
     ]
    },
    {
     "name": "stdout",
     "output_type": "stream",
     "text": [
      "Qwen3-1.7B DEV Финальный результат EX: 49.35\n",
      "Qwen3-1.7B процент запросов, которые успешно выполнились DEV: 81.03%\n",
      "====================================================================================================\n",
      "\n",
      "\n",
      "Загружаем чаты с данными...\n",
      "Данные успешно загружены\n",
      "Начали генерацию SQL запросов\n"
     ]
    },
    {
     "name": "stderr",
     "output_type": "stream",
     "text": [
      "Processed prompts: 100%|██████████| 1534/1534 [01:14<00:00, 20.64it/s, est. speed input: 135545.81 toks/s, output: 959.82 toks/s]   "
     ]
    },
    {
     "name": "stdout",
     "output_type": "stream",
     "text": [
      "extract_think количество ошибок:  0\n",
      "extract_sql количество ошибок:  0\n",
      "Закончили генерацию SQL запросов\n",
      "Начали скорр полученных SQL запросов\n"
     ]
    },
    {
     "name": "stderr",
     "output_type": "stream",
     "text": [
      "\n"
     ]
    },
    {
     "name": "stdout",
     "output_type": "stream",
     "text": [
      "Qwen3-1.7B DEV Финальный результат EX: 49.48\n",
      "Qwen3-1.7B процент запросов, которые успешно выполнились DEV: 82.99%\n",
      "====================================================================================================\n",
      "\n",
      "\n",
      "Загружаем чаты с данными...\n",
      "Данные успешно загружены\n",
      "Начали генерацию SQL запросов\n"
     ]
    },
    {
     "name": "stderr",
     "output_type": "stream",
     "text": [
      "Processed prompts: 100%|██████████| 1534/1534 [01:14<00:00, 20.71it/s, est. speed input: 136046.83 toks/s, output: 953.21 toks/s]   "
     ]
    },
    {
     "name": "stdout",
     "output_type": "stream",
     "text": [
      "extract_think количество ошибок:  0\n",
      "extract_sql количество ошибок:  0\n",
      "Закончили генерацию SQL запросов\n",
      "Начали скорр полученных SQL запросов\n"
     ]
    },
    {
     "name": "stderr",
     "output_type": "stream",
     "text": [
      "\n"
     ]
    },
    {
     "name": "stdout",
     "output_type": "stream",
     "text": [
      "Qwen3-1.7B DEV Финальный результат EX: 48.89\n",
      "Qwen3-1.7B процент запросов, которые успешно выполнились DEV: 81.75%\n",
      "====================================================================================================\n",
      "\n",
      "\n",
      "Загружаем чаты с данными...\n",
      "Данные успешно загружены\n",
      "Начали генерацию SQL запросов\n"
     ]
    },
    {
     "name": "stderr",
     "output_type": "stream",
     "text": [
      "Processed prompts: 100%|██████████| 1534/1534 [01:13<00:00, 20.82it/s, est. speed input: 136563.88 toks/s, output: 965.60 toks/s]   "
     ]
    },
    {
     "name": "stdout",
     "output_type": "stream",
     "text": [
      "extract_think количество ошибок:  0\n",
      "extract_sql количество ошибок:  0\n",
      "Закончили генерацию SQL запросов\n",
      "Начали скорр полученных SQL запросов\n"
     ]
    },
    {
     "name": "stderr",
     "output_type": "stream",
     "text": [
      "\n"
     ]
    },
    {
     "name": "stdout",
     "output_type": "stream",
     "text": [
      "Qwen3-1.7B DEV Финальный результат EX: 49.74\n",
      "Qwen3-1.7B процент запросов, которые успешно выполнились DEV: 82.79%\n",
      "====================================================================================================\n",
      "\n",
      "\n",
      "Загружаем чаты с данными...\n",
      "Данные успешно загружены\n",
      "Начали генерацию SQL запросов\n"
     ]
    },
    {
     "name": "stderr",
     "output_type": "stream",
     "text": [
      "Processed prompts: 100%|██████████| 1534/1534 [01:14<00:00, 20.66it/s, est. speed input: 135917.99 toks/s, output: 958.52 toks/s]   "
     ]
    },
    {
     "name": "stdout",
     "output_type": "stream",
     "text": [
      "extract_think количество ошибок:  0\n",
      "extract_sql количество ошибок:  0\n",
      "Закончили генерацию SQL запросов\n",
      "Начали скорр полученных SQL запросов\n"
     ]
    },
    {
     "name": "stderr",
     "output_type": "stream",
     "text": [
      "\n"
     ]
    },
    {
     "name": "stdout",
     "output_type": "stream",
     "text": [
      "Qwen3-1.7B DEV Финальный результат EX: 48.44\n",
      "Qwen3-1.7B процент запросов, которые успешно выполнились DEV: 82.99%\n",
      "====================================================================================================\n",
      "\n",
      "\n",
      "Загружаем чаты с данными...\n",
      "Данные успешно загружены\n",
      "Начали генерацию SQL запросов\n"
     ]
    },
    {
     "name": "stderr",
     "output_type": "stream",
     "text": [
      "Processed prompts: 100%|██████████| 1534/1534 [01:14<00:00, 20.48it/s, est. speed input: 135559.20 toks/s, output: 952.26 toks/s]   "
     ]
    },
    {
     "name": "stdout",
     "output_type": "stream",
     "text": [
      "extract_think количество ошибок:  0\n",
      "extract_sql количество ошибок:  0\n",
      "Закончили генерацию SQL запросов\n",
      "Начали скорр полученных SQL запросов\n"
     ]
    },
    {
     "name": "stderr",
     "output_type": "stream",
     "text": [
      "\n"
     ]
    },
    {
     "name": "stdout",
     "output_type": "stream",
     "text": [
      "Qwen3-1.7B DEV Финальный результат EX: 48.57\n",
      "Qwen3-1.7B процент запросов, которые успешно выполнились DEV: 81.75%\n",
      "====================================================================================================\n",
      "\n",
      "\n",
      "Загружаем чаты с данными...\n",
      "Данные успешно загружены\n",
      "Начали генерацию SQL запросов\n"
     ]
    },
    {
     "name": "stderr",
     "output_type": "stream",
     "text": [
      "Processed prompts: 100%|██████████| 1534/1534 [01:15<00:00, 20.41it/s, est. speed input: 134925.38 toks/s, output: 945.01 toks/s]   "
     ]
    },
    {
     "name": "stdout",
     "output_type": "stream",
     "text": [
      "extract_think количество ошибок:  0\n",
      "extract_sql количество ошибок:  0\n",
      "Закончили генерацию SQL запросов\n",
      "Начали скорр полученных SQL запросов\n"
     ]
    },
    {
     "name": "stderr",
     "output_type": "stream",
     "text": [
      "\n"
     ]
    },
    {
     "name": "stdout",
     "output_type": "stream",
     "text": [
      "Qwen3-1.7B DEV Финальный результат EX: 48.24\n",
      "Qwen3-1.7B процент запросов, которые успешно выполнились DEV: 82.33%\n",
      "====================================================================================================\n",
      "\n",
      "\n",
      "Загружаем чаты с данными...\n",
      "Данные успешно загружены\n",
      "Начали генерацию SQL запросов\n"
     ]
    },
    {
     "name": "stderr",
     "output_type": "stream",
     "text": [
      "Processed prompts: 100%|██████████| 1534/1534 [01:15<00:00, 20.36it/s, est. speed input: 134194.45 toks/s, output: 952.21 toks/s]   "
     ]
    },
    {
     "name": "stdout",
     "output_type": "stream",
     "text": [
      "extract_think количество ошибок:  0\n",
      "extract_sql количество ошибок:  0\n",
      "Закончили генерацию SQL запросов\n",
      "Начали скорр полученных SQL запросов\n"
     ]
    },
    {
     "name": "stderr",
     "output_type": "stream",
     "text": [
      "\n"
     ]
    },
    {
     "name": "stdout",
     "output_type": "stream",
     "text": [
      "Qwen3-1.7B DEV Финальный результат EX: 49.67\n",
      "Qwen3-1.7B процент запросов, которые успешно выполнились DEV: 81.36%\n",
      "====================================================================================================\n",
      "\n",
      "\n",
      "Загружаем чаты с данными...\n",
      "Данные успешно загружены\n",
      "Начали генерацию SQL запросов\n"
     ]
    },
    {
     "name": "stderr",
     "output_type": "stream",
     "text": [
      "Processed prompts: 100%|██████████| 1534/1534 [01:13<00:00, 20.81it/s, est. speed input: 135971.98 toks/s, output: 965.39 toks/s]    "
     ]
    },
    {
     "name": "stdout",
     "output_type": "stream",
     "text": [
      "extract_think количество ошибок:  0\n",
      "extract_sql количество ошибок:  0\n",
      "Закончили генерацию SQL запросов\n",
      "Начали скорр полученных SQL запросов\n"
     ]
    },
    {
     "name": "stderr",
     "output_type": "stream",
     "text": [
      "\n"
     ]
    },
    {
     "name": "stdout",
     "output_type": "stream",
     "text": [
      "Qwen3-1.7B DEV Финальный результат EX: 48.96\n",
      "Qwen3-1.7B процент запросов, которые успешно выполнились DEV: 81.42%\n",
      "====================================================================================================\n",
      "\n",
      "\n",
      "Загружаем чаты с данными...\n",
      "Данные успешно загружены\n",
      "Начали генерацию SQL запросов\n"
     ]
    },
    {
     "name": "stderr",
     "output_type": "stream",
     "text": [
      "Processed prompts: 100%|██████████| 1534/1534 [01:13<00:00, 20.91it/s, est. speed input: 136863.59 toks/s, output: 967.81 toks/s]   "
     ]
    },
    {
     "name": "stdout",
     "output_type": "stream",
     "text": [
      "extract_think количество ошибок:  0\n",
      "extract_sql количество ошибок:  0\n",
      "Закончили генерацию SQL запросов\n",
      "Начали скорр полученных SQL запросов\n"
     ]
    },
    {
     "name": "stderr",
     "output_type": "stream",
     "text": [
      "\n"
     ]
    },
    {
     "name": "stdout",
     "output_type": "stream",
     "text": [
      "Qwen3-1.7B DEV Финальный результат EX: 47.78\n",
      "Qwen3-1.7B процент запросов, которые успешно выполнились DEV: 81.10%\n",
      "====================================================================================================\n",
      "\n",
      "\n",
      "Загружаем чаты с данными...\n",
      "Данные успешно загружены\n",
      "Начали генерацию SQL запросов\n"
     ]
    },
    {
     "name": "stderr",
     "output_type": "stream",
     "text": [
      "Processed prompts: 100%|██████████| 1534/1534 [01:14<00:00, 20.68it/s, est. speed input: 136277.10 toks/s, output: 956.26 toks/s]   "
     ]
    },
    {
     "name": "stdout",
     "output_type": "stream",
     "text": [
      "extract_think количество ошибок:  0\n",
      "extract_sql количество ошибок:  0\n",
      "Закончили генерацию SQL запросов\n",
      "Начали скорр полученных SQL запросов\n"
     ]
    },
    {
     "name": "stderr",
     "output_type": "stream",
     "text": [
      "\n"
     ]
    },
    {
     "name": "stdout",
     "output_type": "stream",
     "text": [
      "Qwen3-1.7B DEV Финальный результат EX: 48.76\n",
      "Qwen3-1.7B процент запросов, которые успешно выполнились DEV: 82.07%\n",
      "====================================================================================================\n",
      "\n",
      "\n",
      "Загружаем чаты с данными...\n",
      "Данные успешно загружены\n",
      "Начали генерацию SQL запросов\n"
     ]
    },
    {
     "name": "stderr",
     "output_type": "stream",
     "text": [
      "Processed prompts: 100%|██████████| 1534/1534 [01:13<00:00, 20.77it/s, est. speed input: 137152.16 toks/s, output: 960.90 toks/s]    "
     ]
    },
    {
     "name": "stdout",
     "output_type": "stream",
     "text": [
      "extract_think количество ошибок:  0\n",
      "extract_sql количество ошибок:  0\n",
      "Закончили генерацию SQL запросов\n",
      "Начали скорр полученных SQL запросов\n"
     ]
    },
    {
     "name": "stderr",
     "output_type": "stream",
     "text": [
      "\n"
     ]
    },
    {
     "name": "stdout",
     "output_type": "stream",
     "text": [
      "Qwen3-1.7B DEV Финальный результат EX: 48.89\n",
      "Qwen3-1.7B процент запросов, которые успешно выполнились DEV: 81.88%\n",
      "====================================================================================================\n",
      "\n",
      "\n",
      "Загружаем чаты с данными...\n",
      "Данные успешно загружены\n",
      "Начали генерацию SQL запросов\n"
     ]
    },
    {
     "name": "stderr",
     "output_type": "stream",
     "text": [
      "Processed prompts: 100%|██████████| 1534/1534 [01:15<00:00, 20.21it/s, est. speed input: 132627.20 toks/s, output: 942.37 toks/s]   "
     ]
    },
    {
     "name": "stdout",
     "output_type": "stream",
     "text": [
      "extract_think количество ошибок:  0\n",
      "extract_sql количество ошибок:  0\n",
      "Закончили генерацию SQL запросов\n",
      "Начали скорр полученных SQL запросов\n"
     ]
    },
    {
     "name": "stderr",
     "output_type": "stream",
     "text": [
      "\n"
     ]
    },
    {
     "name": "stdout",
     "output_type": "stream",
     "text": [
      "Qwen3-1.7B DEV Финальный результат EX: 49.41\n",
      "Qwen3-1.7B процент запросов, которые успешно выполнились DEV: 82.99%\n",
      "====================================================================================================\n",
      "\n",
      "\n",
      "Загружаем чаты с данными...\n",
      "Данные успешно загружены\n",
      "Начали генерацию SQL запросов\n"
     ]
    },
    {
     "name": "stderr",
     "output_type": "stream",
     "text": [
      "Processed prompts: 100%|██████████| 1534/1534 [01:13<00:00, 20.75it/s, est. speed input: 135180.22 toks/s, output: 961.50 toks/s]   "
     ]
    },
    {
     "name": "stdout",
     "output_type": "stream",
     "text": [
      "extract_think количество ошибок:  0\n",
      "extract_sql количество ошибок:  0\n",
      "Закончили генерацию SQL запросов\n",
      "Начали скорр полученных SQL запросов\n"
     ]
    },
    {
     "name": "stderr",
     "output_type": "stream",
     "text": [
      "\n"
     ]
    },
    {
     "name": "stdout",
     "output_type": "stream",
     "text": [
      "Qwen3-1.7B DEV Финальный результат EX: 48.37\n",
      "Qwen3-1.7B процент запросов, которые успешно выполнились DEV: 82.46%\n",
      "====================================================================================================\n",
      "\n",
      "\n",
      "Загружаем чаты с данными...\n",
      "Данные успешно загружены\n",
      "Начали генерацию SQL запросов\n"
     ]
    },
    {
     "name": "stderr",
     "output_type": "stream",
     "text": [
      "Processed prompts: 100%|██████████| 1534/1534 [01:14<00:00, 20.71it/s, est. speed input: 134868.55 toks/s, output: 970.69 toks/s]   "
     ]
    },
    {
     "name": "stdout",
     "output_type": "stream",
     "text": [
      "extract_think количество ошибок:  0\n",
      "extract_sql количество ошибок:  0\n",
      "Закончили генерацию SQL запросов\n",
      "Начали скорр полученных SQL запросов\n"
     ]
    },
    {
     "name": "stderr",
     "output_type": "stream",
     "text": [
      "\n"
     ]
    },
    {
     "name": "stdout",
     "output_type": "stream",
     "text": [
      "Qwen3-1.7B DEV Финальный результат EX: 48.70\n",
      "Qwen3-1.7B процент запросов, которые успешно выполнились DEV: 82.27%\n",
      "====================================================================================================\n",
      "\n",
      "\n",
      "Загружаем чаты с данными...\n",
      "Данные успешно загружены\n",
      "Начали генерацию SQL запросов\n"
     ]
    },
    {
     "name": "stderr",
     "output_type": "stream",
     "text": [
      "Processed prompts: 100%|██████████| 1534/1534 [01:13<00:00, 20.98it/s, est. speed input: 136070.38 toks/s, output: 978.03 toks/s]   "
     ]
    },
    {
     "name": "stdout",
     "output_type": "stream",
     "text": [
      "extract_think количество ошибок:  0\n",
      "extract_sql количество ошибок:  0\n",
      "Закончили генерацию SQL запросов\n",
      "Начали скорр полученных SQL запросов\n"
     ]
    },
    {
     "name": "stderr",
     "output_type": "stream",
     "text": [
      "\n"
     ]
    },
    {
     "name": "stdout",
     "output_type": "stream",
     "text": [
      "Qwen3-1.7B DEV Финальный результат EX: 48.70\n",
      "Qwen3-1.7B процент запросов, которые успешно выполнились DEV: 82.92%\n",
      "====================================================================================================\n",
      "\n",
      "\n",
      "Загружаем чаты с данными...\n",
      "Данные успешно загружены\n",
      "Начали генерацию SQL запросов\n"
     ]
    },
    {
     "name": "stderr",
     "output_type": "stream",
     "text": [
      "Processed prompts: 100%|██████████| 1534/1534 [01:12<00:00, 21.28it/s, est. speed input: 136015.03 toks/s, output: 990.03 toks/s]   "
     ]
    },
    {
     "name": "stdout",
     "output_type": "stream",
     "text": [
      "extract_think количество ошибок:  0\n",
      "extract_sql количество ошибок:  0\n",
      "Закончили генерацию SQL запросов\n",
      "Начали скорр полученных SQL запросов\n"
     ]
    },
    {
     "name": "stderr",
     "output_type": "stream",
     "text": [
      "\n"
     ]
    },
    {
     "name": "stdout",
     "output_type": "stream",
     "text": [
      "Qwen3-1.7B DEV Финальный результат EX: 47.33\n",
      "Qwen3-1.7B процент запросов, которые успешно выполнились DEV: 81.29%\n",
      "====================================================================================================\n",
      "\n",
      "\n"
     ]
    }
   ],
   "source": [
    "run_cot_experiment(model,arr_seeds,arr_versions, type_cot,num_observations=num_observations)"
   ]
  },
  {
   "cell_type": "markdown",
   "id": "e8321b48-e1ff-41e4-b667-d7196e984c17",
   "metadata": {},
   "source": [
    "## 5 наблюдений"
   ]
  },
  {
   "cell_type": "code",
   "execution_count": 3,
   "id": "613df4ca-270b-4de3-9fb0-a403da4769f9",
   "metadata": {},
   "outputs": [
    {
     "name": "stdout",
     "output_type": "stream",
     "text": [
      "[876, 605, 273, 265, 609, 127, 915, 339, 719, 555, 215, 157, 483, 605, 609, 76, 865, 127, 503, 292]\n",
      "model: Qwen3-1.7B\n"
     ]
    }
   ],
   "source": [
    "n= 20\n",
    "arr_seeds = [random.randint(0,1000) for _ in range(n)]\n",
    "arr_versions = [x for x in range(n)]\n",
    "model = \"Qwen3-1.7B\"\n",
    "num_observations = 5\n",
    "type_cot = 'all_new'\n",
    "print(arr_seeds)\n",
    "print(f\"model: {model}\")"
   ]
  },
  {
   "cell_type": "code",
   "execution_count": 4,
   "id": "cecc36c2-8753-43db-a939-82d14892b0f5",
   "metadata": {
    "scrolled": true
   },
   "outputs": [
    {
     "name": "stdout",
     "output_type": "stream",
     "text": [
      "Загружаем модель...\n"
     ]
    },
    {
     "name": "stderr",
     "output_type": "stream",
     "text": [
      "Loading safetensors checkpoint shards:   0% Completed | 0/2 [00:00<?, ?it/s]\n",
      "Loading safetensors checkpoint shards:  50% Completed | 1/2 [00:00<00:00,  1.02it/s]\n",
      "Loading safetensors checkpoint shards: 100% Completed | 2/2 [00:01<00:00,  1.95it/s]\n",
      "\u001b[1;36m(VllmWorker rank=0 pid=2780443)\u001b[0;0m \n"
     ]
    },
    {
     "name": "stdout",
     "output_type": "stream",
     "text": [
      "Модель успешно загружена\n",
      "model_config {'model': '/data/home/vkropoti/models/Qwen3-1.7B', 'tensor_parallel_size': 2, 'max_model_len': 40000, 'max_new_tokens': 1500, 'temperature': 0, 'top_k': 1, 'top_p': 0.8, 'gpu_memory_utilization': 0.9, 'trust_remote_code': False, 'seed': 876}\n",
      "\n",
      "prompts_config {'path_dev_json': '/home/vkropoti/vllm/dev.json', 'path_sql_dbs': '/data/home/vkropoti/sql_data/dev_databases/', 'use_reasoning': False, 'paths_to_cot': ['/data/home/vkropoti/sql_llm_answers/bird_dev_m_schema/sql_all_new_Qwen3-1.7B-reasoning-v0', '/data/home/vkropoti/sql_llm_answers/bird_dev_m_schema/sql_all_new_Qwen3-1.7B-reasoning-v1', '/data/home/vkropoti/sql_llm_answers/bird_dev_m_schema/sql_all_new_Qwen3-1.7B-reasoning-v2', '/data/home/vkropoti/sql_llm_answers/bird_dev_m_schema/sql_all_new_Qwen3-1.7B-reasoning-v3', '/data/home/vkropoti/sql_llm_answers/bird_dev_m_schema/sql_all_new_Qwen3-1.7B-reasoning-v4']}\n",
      "\n",
      "save_config {'path_sql_save': '/data/home/vkropoti/sql_llm_answers/bird_dev_m_schema/sql_all_Qwen3-1.7B-cot_all_new_think==False_nobs5-v0', 'path_think_save': None, 'path_sql_answers_save': '/data/home/vkropoti/sql_llm_answers/bird_dev_m_schema/sql_predict_Qwen3-1.7B-cot_all_new_think==False_nobs5-v0', 'path_to_save_scores': '/data/home/vkropoti/sql_llm_answers/bird_dev_m_schema/sql_results_Qwen3-1.7B-cot_all_new_think==False_nobs5-v0', 'path_to_save_executed': '/data/home/vkropoti/sql_llm_answers/bird_dev_m_schema/sql_executed_Qwen3-1.7B-cot_all_new_think==False_nobs5-v0'}\n",
      "\n",
      "Модель успешно загружена\n",
      "Пример промпта\n",
      "<|im_start|>system\n",
      "\n",
      "You are a data science expert. Below, you are provided with a database schema and a natural language question. Your task is to understand the schema and generate a valid SQL query to answer the question.\n",
      "\n",
      "Database Engine: SQLite\n",
      "\n",
      "You will be given an additional analysis of other models, please take it into account, so the plan is\n",
      "1. Analyse given addition analysis from other models (find in which analysis the same and differ, how to use that to answer question)\n",
      "2. Combine best from previous part and think how to solve the problem (analyze tables, take care what columns avaliable in each table and so on, check the syntacsis)\n",
      "3. Create the answers. The answer should be only sql query.\n",
      "\n",
      "Carefully follow the instruction and add <|im_end|> and the end of the final answer<|im_end|>\n",
      "<|im_start|>user\n",
      "Here is addition analysis from other models which can be helpfull, please take this into account but be careful (choose the best from each analysis, combine them to make the most proper answer):\n",
      "\n",
      "model 0 analysis:\n",
      " Reasoning process:\n",
      "\n",
      "Okay, let's tackle this question step by step. The user wants the highest eligible free rate for K-12 students in Alameda County. \n",
      "\n",
      "First, I need to figure out which tables are involved. The eligible free rate is calculated as Free Meal Count (K-12) divided by Enrollment (K-12). So I need data from the frpm table. But the frpm table has the Free Meal Count and Enrollment values. However, the schools table has the County information, so I need to join the schools table with the frpm table on the CDSCode.\n",
      "\n",
      "Wait, the foreign keys are frpm.CDSCode = schools.CDSCode and satscores.cds = schools.CDSCode. So the schools table has the CDSCode, which is linked to frpm. So the plan is to join schools with frpm on CDSCode, filter where the County is 'Alameda County', then calculate the ratio.\n",
      "\n",
      "But wait, the schools table's County column has examples like 'Alameda', 'Alpine', etc. So the County column is a TEXT field. So I need to check if the County is 'Alameda' exactly. But maybe the actual county names might have spaces or different formats. However, the examples given in the schools table's County column are 'Alameda', so assuming that 'Alameda' is the correct value.\n",
      "\n",
      "So the steps are:\n",
      "\n",
      "1. Join schools and frpm on CDSCode.\n",
      "2. Filter where schools.County = 'Alameda'.\n",
      "3. Calculate Free Meal Count (K-12) / Enrollment (K-12) for each school.\n",
      "4. Find the maximum value of this ratio.\n",
      "\n",
      "But the question says \"highest eligible free rate\", so we need the maximum value from the calculated ratio.\n",
      "\n",
      "Now, the SQL query would need to select the maximum of (Free Meal Count (K-12) / Enrollment (K-12)) from the joined tables where County is 'Alameda'.\n",
      "\n",
      "But wait, the frpm table has the Free Meal Count (K-12) as a REAL number and Enrollment (K-12) as a REAL number. So the division would be done in the query.\n",
      "\n",
      "So the SQL query would be:\n",
      "\n",
      "SELECT MAX(Free Meal Count (K-12) / Enrollment (K-12)) FROM schools JOIN frpm ON schools.CDSCode = frpm.CDSCode WHERE schools.County = 'Alameda';\n",
      "\n",
      "But need to check if the County is exactly 'Alameda' or if there's a need to use a LIKE clause. The examples given in the schools table's County column are 'Alameda', so it's likely that the exact value is 'Alameda'. However, in practice, sometimes counties might have different names, but based on the given data, we can assume that.\n",
      "\n",
      "Another thing: the schools table has a District column, but the County is the primary field here. So the JOIN is on CDSCode, which is the same in both tables.\n",
      "\n",
      "So the final query would be as above. But need to make sure that the columns are correctly referenced. The frpm table has Free Meal Count (K-12) as a column, and Enrollment (K-12) as another column. So the division is between those two.\n",
      "\n",
      "Therefore, the SQL query should select the maximum of that ratio from the joined tables where the county is Alameda.\n",
      "\n",
      "Final answer based om reasoning for this model:\n",
      "\n",
      "\n",
      "```\n",
      "SELECT MAX(Free Meal Count (K-12)/Enrollment (K-12)) FROM schools JOIN frpm ON schools.CDSCode = frpm.CDSCode WHERE schools.County = 'Alameda';\n",
      "```\n",
      "\n",
      "model 1 analysis:\n",
      " Reasoning process:\n",
      "\n",
      "Okay, let's tackle this question. The user wants the highest eligible free rate for K-12 students in Alameda County. \n",
      "\n",
      "First, I need to figure out which tables are involved. The relevant tables here are 'frpm' and 'schools' because the 'frpm' table has the eligible free rates and the 'schools' table has the county information. \n",
      "\n",
      "The 'schools' table has a 'County' column, and we need to filter for Alameda County. So, I'll start by joining the 'schools' table with the 'frpm' table on the 'CDSCode' since that's the primary key link. \n",
      "\n",
      "Next, the eligible free rate is calculated as Free Meal Count (K-12) divided by Enrollment (K-12). But wait, the question specifies K-12 students, so I need to make sure that the rows in frpm are for K-12. The 'Low Grade' and 'High Grade' columns in frpm might indicate the grade levels, but the question is specifically about K-12. So maybe the 'Low Grade' is K, and the 'High Grade' is 12. But the user might just want the rate for K-12 students, so perhaps we can assume that the rows in frpm where Low Grade is 'K' and High Grade is '12' are the ones we need. However, the problem statement says \"K-12 students,\" so maybe we need to check if the frpm data includes that. But the user's question doesn't specify filtering by grade, just K-12. So perhaps the frpm table's rows are already for K-12, or we need to check the data.\n",
      "\n",
      "But since the question is about K-12, maybe the frpm table's rows are for K-12. However, the 'Low Grade' and 'High Grade' columns might not be directly relevant here. The user's question is about the highest eligible free rate for K-12 students, so the frpm table's rows where the school is in Alameda County and the grade levels are K-12. But the problem is that the 'frpm' table's 'Low Grade' is 'K' and 'High Grade' is '12', so perhaps we need to filter where Low Grade is 'K' and High Grade is '12'.\n",
      "\n",
      "But the user's question might not require that, since the question is about K-12 students in general. However, the data might have entries for K-12, so perhaps we can just use the frpm table's rows where the school is in Alameda County. \n",
      "\n",
      "Wait, the 'schools' table has a 'County' column, so we need to join on that. So the plan is: join schools and frpm on CDSCode, filter where County is 'Alameda', then calculate the eligible free rate as Free Meal Count (K-12) / Enrollment (K-12), and find the maximum value.\n",
      "\n",
      "But the user's question says \"highest eligible free rate for K-12 students in the schools in Alameda County\". So the steps are:\n",
      "\n",
      "1. Join schools and frpm on CDSCode.\n",
      "2. Filter schools where County is 'Alameda'.\n",
      "3. Calculate the eligible free rate for K-12 students (Free Meal Count (K-12) / Enrollment (K-12)).\n",
      "4. Find the maximum value of this rate.\n",
      "\n",
      "But the problem is that the frpm table's 'Low Grade' and 'High Grade' might not be directly relevant here. However, the question is about K-12 students, so maybe the frpm table's rows are for K-12. Alternatively, the 'Low Grade' is 'K' and 'High Grade' is '12', so the rows where Low Grade is 'K' and High Grade is '12' are for K-12. Therefore, we need to filter those rows.\n",
      "\n",
      "So the query would be:\n",
      "\n",
      "SELECT MAX( (Free Meal Count (K-12) / Enrollment (K-12)) ) AS highest_rate\n",
      "FROM frpm\n",
      "JOIN schools ON frpm.CDSCode = schools.CDSCode\n",
      "WHERE schools.County = 'Alameda' AND frpm.Low Grade = 'K' AND frpm.High Grade = '12';\n",
      "\n",
      "But the user's question might not require checking the grade levels, just the K-12 students. However, the data might not have entries for K-12. But the problem says \"K-12 students\", so perhaps the frpm table's rows are for K-12. But the 'Low Grade' and 'High Grade' columns are part of the frpm table. So the correct approach is to check those columns.\n",
      "\n",
      "But the user's question is phrased as \"highest eligible free rate for K-12 students in the schools in Alameda County\". So the answer would require that the frpm data includes K-12 students. Therefore, the query would need to filter where Low Grade is 'K' and High Grade is '12'.\n",
      "\n",
      "But the user might not have that data. However, based on the schema, the frpm table's columns include Low Grade and High Grade, so the answer must consider those.\n",
      "\n",
      "So the final SQL query would be:\n",
      "\n",
      "SELECT MAX( (Free Meal Count (K-12) / Enrollment (K-12)) ) AS highest_rate\n",
      "FROM frpm\n",
      "JOIN schools ON frpm.CDSCode = schools.CDSCode\n",
      "WHERE schools.County = 'Alameda' AND frpm.Low Grade = 'K' AND frpm.High Grade = '12';\n",
      "\n",
      "But the problem is that in SQLite, the column names are in quotes. Also, the user wants only the column in the SELECT clause, which is the highest rate. So the query should select the maximum of that rate.\n",
      "\n",
      "But the question might not require the actual values, just the maximum. So the query would be as above.\n",
      "\n",
      "Wait, but the user's question is to get the highest eligible free rate. So the SQL would be to select the maximum of (Free Meal Count (K-12)/Enrollment (K-12)) where the school is in Alameda County and the grade levels are K-12.\n",
      "\n",
      "Therefore, the correct query is as above.\n",
      "\n",
      "Final answer based om reasoning for this model:\n",
      "\n",
      "\n",
      "```\n",
      "SELECT MAX((Free Meal Count (K-12) / Enrollment (K-12))) AS highest_rate\n",
      "FROM frpm\n",
      "JOIN schools ON frpm.CDSCode = schools.CDSCode\n",
      "WHERE schools.County = 'Alameda' AND frpm.Low Grade = 'K' AND frpm.High Grade = '12';\n",
      "```\n",
      "\n",
      "model 2 analysis:\n",
      " Reasoning process:\n",
      "\n",
      "Okay, let's tackle this question. The user wants the highest eligible free rate for K-12 students in Alameda County. \n",
      "\n",
      "First, I need to figure out which tables are involved. The relevant tables here are 'schools' and 'frpm' because they have the CDSCode and County information. The 'satscores' table might not be necessary here since the question is about free meal counts and enrollments.\n",
      "\n",
      "The 'schools' table has the County field, so I can filter for County = 'Alameda'. The 'frpm' table has 'County Name' and 'Enrollment (K-12)', 'Free Meal Count (K-12)', and 'Percent (%) Eligible Free (K-12)' columns. \n",
      "\n",
      "Wait, the 'frpm' table's 'County Name' might have the county names, but the 'schools' table's 'County' field is a TEXT field. So I need to join the two tables on schools.CDSCode = frpm.CDSCode. Then, filter where schools.County = 'Alameda'.\n",
      "\n",
      "But the question is about the highest eligible free rate. So I need to calculate the percentage from the 'Percent (%) Eligible Free (K-12)' column. Then, find the maximum value among those that are in Alameda County.\n",
      "\n",
      "So the steps are: join schools and frpm on CDSCode, filter where County is 'Alameda', select the Percent column, order by it descending, limit 1.\n",
      "\n",
      "Wait, but the 'frpm' table has 'Percent (%) Eligible Free (K-12)' as a column. So the SQL would be:\n",
      "\n",
      "SELECT MAX(Percent (%) Eligible Free (K-12)) FROM frpm JOIN schools ON frpm.CDSCode = schools.CDSCode WHERE schools.County = 'Alameda';\n",
      "\n",
      "But I need to make sure that the column names are correct. The 'frpm' table has 'Percent (%) Eligible Free (K-12)' as a column, so that's correct. The 'schools' table has 'County' as a column. \n",
      "\n",
      "But the question says \"schools in Alameda County\", so the 'schools' table's County must be 'Alameda'. \n",
      "\n",
      "So the final query would be joining the two tables on CDSCode, filtering the County, then selecting the max of the eligible free rate. \n",
      "\n",
      "But wait, the user wants the highest rate, so MAX() is correct. \n",
      "\n",
      "I need to make sure that the columns are correctly referenced. Also, the 'frpm' table's 'County Name' might have the county name, but the 'schools' table's 'County' is the one to filter. So the join is correct.\n",
      "\n",
      "So the SQL query would be:\n",
      "\n",
      "SELECT MAX(Percent (%) Eligible Free (K-12)) FROM frpm JOIN schools ON frpm.CDSCode = schools.CDSCode WHERE schools.County = 'Alameda';\n",
      "\n",
      "Final answer based om reasoning for this model:\n",
      "\n",
      "\n",
      "```\n",
      "SELECT MAX(Percent (%) Eligible Free (K-12)) FROM frpm JOIN schools ON frpm.CDSCode = schools.CDSCode WHERE schools.County = 'Alameda';\n",
      "```\n",
      "\n",
      "model 3 analysis:\n",
      " Reasoning process:\n",
      "\n",
      "Okay, let's tackle this question. The user wants the highest eligible free rate for K-12 students in Alameda County. \n",
      "\n",
      "First, I need to figure out which tables are involved. The relevant tables here are 'frpm' and 'schools' because the 'frpm' table has the eligible free rates and the 'schools' table has the county information. \n",
      "\n",
      "The 'schools' table has a 'County' column, and we need to filter for Alameda County. So, I'll start by joining the 'schools' table with the 'frpm' table on the 'CDSCode' since that's the primary key link. \n",
      "\n",
      "Next, the eligible free rate is calculated as Free Meal Count (K-12) divided by Enrollment (K-12). But wait, the question specifies K-12 students, so I need to make sure that the rows in frpm are for K-12. The 'Low Grade' and 'High Grade' columns in frpm might indicate the grade levels, but the question is specifically about K-12. So maybe the 'Low Grade' is K, and the 'High Grade' is 12. But the user might just want the rate for K-12 students, so perhaps we can assume that the rows in frpm where Low Grade is 'K' and High Grade is '12' are the ones we need. However, the problem statement says \"K-12 students,\" so maybe the frpm table's data already covers that. But to be safe, maybe we need to filter where Low Grade is 'K' and High Grade is '12'. \n",
      "\n",
      "Wait, the user's question says \"for K-12 students,\" so the frpm data should have entries for K-12. But the 'frpm' table's columns have 'Low Grade' and 'High Grade' as TEXT. So maybe the rows where Low Grade is 'K' and High Grade is '12' are the K-12 students. So I need to filter those rows. \n",
      "\n",
      "So the query would join schools and frpm on CDSCode, filter schools where County is 'Alameda', and then filter frpm where Low Grade is 'K' and High Grade is '12'. Then calculate the percentage (Free Meal Count (K-12) / Enrollment (K-12)) and find the maximum value. \n",
      "\n",
      "But the user wants the highest eligible free rate, so after joining and filtering, I need to compute the percentage and select the maximum. \n",
      "\n",
      "Wait, the question says \"the highest eligible free rate for K-12 students in the schools in Alameda County.\" So the steps are:\n",
      "\n",
      "1. Join schools and frpm on CDSCode.\n",
      "2. Filter schools where County is 'Alameda'.\n",
      "3. Filter frpm where Low Grade is 'K' and High Grade is '12'.\n",
      "4. Calculate the percentage (Free Meal Count (K-12) / Enrollment (K-12)).\n",
      "5. Find the maximum value of this percentage.\n",
      "\n",
      "So the SQL query would select the maximum of the calculated percentage from the joined tables. \n",
      "\n",
      "But how to structure this in SQL. Let's see. The tables are 'schools' and 'frpm'. The join is on schools.CDSCode = frpm.CDSCode. \n",
      "\n",
      "So the query would be:\n",
      "\n",
      "SELECT MAX( (frpm.Free Meal Count (K-12) / frpm.Enrollment (K-12)) * 100 ) AS highest_rate\n",
      "FROM schools\n",
      "JOIN frpm ON schools.CDSCode = frpm.CDSCode\n",
      "WHERE schools.County = 'Alameda' AND frpm.Low Grade = 'K' AND frpm.High Grade = '12';\n",
      "\n",
      "Wait, but the columns in the frpm table are named with quotes. The user specified that the columns should be in quotes. So the column names in the frpm table are like 'Free Meal Count (K-12)' and 'Enrollment (K-12)'. So the correct column names in the SQL query would be with quotes. \n",
      "\n",
      "So the query would be:\n",
      "\n",
      "SELECT MAX( (frpm.Free Meal Count (K-12) / frpm.Enrollment (K-12)) ) AS highest_rate\n",
      "FROM schools\n",
      "JOIN frpm ON schools.CDSCode = frpm.CDSCode\n",
      "WHERE schools.County = 'Alameda' AND frpm.Low Grade = 'K' AND frpm.High Grade = '12';\n",
      "\n",
      "But the question says \"highest eligible free rate\" which is the percentage. So the calculation is (Free Meal Count / Enrollment) * 100? Or is it (Free Meal Count / Enrollment) as a percentage? The user's external knowledge says Eligible free rate is Free Meal Count / Enrollment. But the question says \"Percent (%) Eligible Free (K-12)\" in the frpm table. So the actual value in the frpm table is the percentage. So maybe the value is already in percentage, so we don't need to multiply by 100. Wait, the example for Percent (%) Eligible Free (K-12) is [0.519779208831647, 0.470886075949367, 0.549180327868853]. So these are decimal numbers, not percentages. So the actual value is the percentage as a decimal. So the user's question says \"highest eligible free rate\" which is the value in the frpm table, which is already in percentage. So the calculation is just selecting the maximum of that value. \n",
      "\n",
      "Wait, but the user's external knowledge says Eligible free rate is Free Meal Count / Enrollment. But the frpm table has the Percent (%) Eligible Free (K-12) as a decimal. So perhaps the value in frpm is already the percentage. So the query would just select the maximum of that column. \n",
      "\n",
      "But the user's question is asking for the highest eligible free rate, which is the value in the Percent (%) Eligible Free (K-12) column. So the correct query is to select the maximum of that column where the conditions are met. \n",
      "\n",
      "So the query would be:\n",
      "\n",
      "SELECT MAX(Percent (%) Eligible Free (K-12)) \n",
      "FROM frpm\n",
      "JOIN schools ON frpm.CDSCode = schools.CDSCode\n",
      "WHERE schools.County = 'Alameda' AND frpm.Low Grade = 'K' AND frpm.High Grade = '12';\n",
      "\n",
      "But the user wants the answer in the correct format. Also, the columns in the frpm table are named with quotes. So in the SQL query, the column names must be in quotes. \n",
      "\n",
      "So the final query would be:\n",
      "\n",
      "SELECT MAX(Percent (%) Eligible Free (K-12)) \n",
      "FROM schools \n",
      "JOIN frpm ON schools.CDSCode = frpm.CDSCode \n",
      "WHERE schools.County = 'Alameda' AND frpm.Low Grade = 'K' AND frpm.High Grade = '12';\n",
      "\n",
      "But the user might have the columns in the frpm table as 'Free Meal Count (K-12)' and 'Enrollment (K-12)', but the question is about the Percent (%) Eligible Free (K-12) column. So the query would select that column. \n",
      "\n",
      "So the correct SQL is:\n",
      "\n",
      "SELECT MAX(Percent (%) Eligible Free (K-12)) \n",
      "FROM schools \n",
      "JOIN frpm ON schools.CDSCode = frpm.CDSCode \n",
      "WHERE schools.County = 'Alameda' AND frpm.Low Grade = 'K' AND frpm.High Grade = '12';\n",
      "\n",
      "But the problem says that the user wants the highest eligible free rate, which is the maximum of that column. \n",
      "\n",
      "So the final answer is that SQL query.\n",
      "\n",
      "Final answer based om reasoning for this model:\n",
      "\n",
      "\n",
      "```\n",
      "SELECT MAX(Percent (%) Eligible Free (K-12)) \n",
      "FROM schools \n",
      "JOIN frpm ON schools.CDSCode = frpm.CDSCode \n",
      "WHERE schools.County = 'Alameda' AND frpm.Low Grade = 'K' AND frpm.High Grade = '12';\n",
      "```\n",
      "\n",
      "model 4 analysis:\n",
      " Reasoning process:\n",
      "\n",
      "Okay, let's tackle this problem. The user wants the highest eligible free rate for K-12 students in Alameda County. First, I need to figure out which tables are involved. The relevant tables here are frpm and schools, probably. Because the frpm table has the eligible free rates, and the schools table has the county information.\n",
      "\n",
      "Wait, the frpm table has columns like Percent (%) Eligible Free (K-12) and Enrollment (K-12). The question is about Alameda County, so I need to filter schools where County is Alameda. Then, from the frpm table, get the Percent Eligible Free (K-12) and Enrollment (K-12) for those schools.\n",
      "\n",
      "But wait, the schools table has a County column, so I need to join schools with frpm on schools.CDSCode equals frpm.CDSCode. Then, filter the schools where County is 'Alameda'. Then calculate the ratio of Free Meal Count (K-12) to Enrollment (K-12) and take the maximum value.\n",
      "\n",
      "Wait, the user mentioned the formula: Eligible free rate is Free Meal Count (K-12) divided by Enrollment (K-12). So, for each school in Alameda County, calculate that ratio and find the maximum.\n",
      "\n",
      "So the steps are: join schools and frpm on CDSCode, filter county = 'Alameda', then compute the ratio and find the max.\n",
      "\n",
      "But how to structure the SQL. Let's think.\n",
      "\n",
      "SELECT MAX(Percent (%) Eligible Free (K-12)) FROM frpm JOIN schools ON frpm.CDSCode = schools.CDSCode WHERE schools.County = 'Alameda';\n",
      "\n",
      "Wait, but the schools table has a County column, which is a TEXT. So the query would be:\n",
      "\n",
      "SELECT MAX(Percent (%) Eligible Free (K-12)) \n",
      "FROM frpm \n",
      "JOIN schools ON frpm.CDSCode = schools.CDSCode \n",
      "WHERE schools.County = 'Alameda';\n",
      "\n",
      "But the problem is that the frpm table has the Percent (%) Eligible Free (K-12) as a column, and the schools table has the County. So joining on CDSCode and filtering County = 'Alameda' should give the necessary rows. Then, taking the maximum of that column.\n",
      "\n",
      "But wait, the user wants the highest rate, so MAX() is correct. However, sometimes there might be multiple schools in Alameda, and we need the maximum value among them. So the query should be as above.\n",
      "\n",
      "But need to make sure that the columns are correctly named. The frpm table's columns are in the initial description. Let me check again.\n",
      "\n",
      "In the frpm table, the columns include Percent (%) Eligible Free (K-12) as a column. The schools table has County as a column. So the SQL should be correct.\n",
      "\n",
      "But the user said to use only the initial column names, not the ones in the schema. Wait, the user said: \"Use only initial column names, change names prohibited\". So the column names in the schema are as given. So the columns in the frpm table are: CDSCode, Academic Year, County Code, District Code, School Code, County Name, District Name, School Name, District Type, School Type, Educational Option Type, NSLP Provision Status, Charter School (Y/N), Charter School Number, Charter Funding Type, IRC, Low Grade, High Grade, Enrollment (K-12), Free Meal Count (K-12), Percent (%) Eligible Free (K-12), etc.\n",
      "\n",
      "So the column names in the frpm table are as listed. So the query should reference those exact column names.\n",
      "\n",
      "So the correct SQL would be:\n",
      "\n",
      "SELECT MAX(Percent (%) Eligible Free (K-12)) \n",
      "FROM frpm \n",
      "JOIN schools ON frpm.CDSCode = schools.CDSCode \n",
      "WHERE schools.County = 'Alameda';\n",
      "\n",
      "But wait, the schools table's County column is a TEXT, and the example values are like 'Alameda', 'Alpine', etc. So the WHERE clause is correct.\n",
      "\n",
      "But need to make sure that the County is exactly 'Alameda' (case-sensitive? Well, in SQLite, string comparisons are case-sensitive unless the database is set to case-insensitive, but the examples show 'Alameda' as the value, so the query should use 'Alameda' exactly.\n",
      "\n",
      "So the final query is as above. Let me check the word count. The user said the answer should be less than 512 characters. Let me count:\n",
      "\n",
      "SELECT MAX(Percent (%) Eligible Free (K-12)) FROM frpm JOIN schools ON frpm.CDSCode = schools.CDSCode WHERE schools.County = 'Alameda';\n",
      "\n",
      "That's 145 characters. So it's under 512. So that's the answer.\n",
      "\n",
      "Final answer based om reasoning for this model:\n",
      "\n",
      "\n",
      "```\n",
      "SELECT MAX(Percent (%) Eligible Free (K-12)) FROM frpm JOIN schools ON frpm.CDSCode = schools.CDSCode WHERE schools.County = 'Alameda';\n",
      "```\n",
      "\n",
      "\n",
      "here is avaliable tables and their structure below\n",
      "【DB_ID】 california_schools\n",
      "【Schema】\n",
      "# Table: frpm\n",
      "[\n",
      "(CDSCode:TEXT, maps to schools.CDSCode, Primary Key, Examples: [01100170109835, 01100170112607, 01100170118489]),\n",
      "(Academic Year:TEXT, Examples: [2014-2015]),\n",
      "(County Code:TEXT, Examples: [01, 02, 03]),\n",
      "(District Code:INTEGER, Examples: [10017, 31609, 31617]),\n",
      "(School Code:TEXT, Examples: [0109835, 0112607, 0118489]),\n",
      "(County Name:TEXT, Examples: [Alameda, Alpine, Amador]),\n",
      "(District Name:TEXT),\n",
      "(School Name:TEXT, Examples: [FAME Public Charter]),\n",
      "(District Type:TEXT, Examples: [County Office of Education (COE)]),\n",
      "(School Type:TEXT, Examples: [K-12 Schools (Public)]),\n",
      "(Educational Option Type:TEXT, Examples: [Traditional]),\n",
      "(NSLP Provision Status:TEXT, Examples: [Breakfast Provision 2]),\n",
      "(Charter School (Y/N):INTEGER, Examples: [1, 0]),\n",
      "(Charter School Number:TEXT, Examples: [0728, 0811, 1049]),\n",
      "(Charter Funding Type:TEXT, Examples: [Directly funded]),\n",
      "(IRC:INTEGER, Examples: [1, 0]),\n",
      "(Low Grade:TEXT, Examples: [K, 9, 1]),\n",
      "(High Grade:TEXT, Examples: [12, 8, 5]),\n",
      "(Enrollment (K-12):REAL, Examples: [1087.0, 395.0, 244.0]),\n",
      "(Free Meal Count (K-12):REAL, Examples: [565.0, 186.0, 134.0]),\n",
      "(Percent (%) Eligible Free (K-12):REAL, Examples: [0.519779208831647, 0.470886075949367, 0.549180327868853]),\n",
      "(FRPM Count (K-12):REAL, Examples: [715.0, 186.0, 175.0]),\n",
      "(Percent (%) Eligible FRPM (K-12):REAL, Examples: [0.657773689052438, 0.470886075949367, 0.717213114754098]),\n",
      "(Enrollment (Ages 5-17):REAL, Examples: [1070.0, 376.0, 230.0]),\n",
      "(Free Meal Count (Ages 5-17):REAL, Examples: [553.0, 182.0, 128.0]),\n",
      "(Percent (%) Eligible Free (Ages 5-17):REAL, Examples: [0.516822429906542, 0.484042553191489, 0.556521739130435]),\n",
      "(FRPM Count (Ages 5-17):REAL, Examples: [702.0, 182.0, 168.0]),\n",
      "(Percent (%) Eligible FRPM (Ages 5-17):REAL, Examples: [0.65607476635514, 0.484042553191489, 0.730434782608696]),\n",
      "(2013-14 CALPADS Fall 1 Certification Status:INTEGER, Examples: [1])\n",
      "]\n",
      "# Table: satscores\n",
      "[\n",
      "(cds:TEXT, maps to schools.CDSCode, Primary Key, Examples: [10101080000000, 10101080109991, 10101080111682]),\n",
      "(rtype:TEXT, Examples: [D, S]),\n",
      "(sname:TEXT, Examples: [FAME Public Charter]),\n",
      "(dname:TEXT, Examples: [Alameda County Office of Education]),\n",
      "(cname:TEXT, Examples: [Alameda, Amador, Butte]),\n",
      "(enroll12:INTEGER, Examples: [398, 62, 75]),\n",
      "(NumTstTakr:INTEGER, Examples: [88, 17, 71]),\n",
      "(AvgScrRead:INTEGER, Examples: [418, 503, 397]),\n",
      "(AvgScrMath:INTEGER, Examples: [418, 546, 387]),\n",
      "(AvgScrWrite:INTEGER, Examples: [417, 505, 395]),\n",
      "(NumGE1500:INTEGER, Examples: [14, 9, 5])\n",
      "]\n",
      "# Table: schools\n",
      "[\n",
      "(CDSCode:TEXT, Primary Key, Examples: [01100170000000, 01100170109835, 01100170112607]),\n",
      "(NCESDist:TEXT, Examples: [0691051, 0600002, 0600003]),\n",
      "(NCESSchool:TEXT, Examples: [10546, 10947, 12283]),\n",
      "(StatusType:TEXT, Examples: [Active, Closed, Merged]),\n",
      "(County:TEXT, Examples: [Alameda, Alpine, Amador]),\n",
      "(District:TEXT),\n",
      "(School:TEXT, Examples: [FAME Public Charter]),\n",
      "(Street:TEXT, Examples: [313 West Winton Avenue]),\n",
      "(StreetAbr:TEXT, Examples: [313 West Winton Ave.]),\n",
      "(City:TEXT, Examples: [Hayward, Newark, Oakland]),\n",
      "(Zip:TEXT, Examples: [94544-1136, 94560-5359, 94612-3355]),\n",
      "(State:TEXT, Examples: [CA]),\n",
      "(MailStreet:TEXT, Examples: [313 West Winton Avenue]),\n",
      "(MailStrAbr:TEXT, Examples: [313 West Winton Ave.]),\n",
      "(MailCity:TEXT, Examples: [Hayward, Newark, Oakland]),\n",
      "(MailZip:TEXT, Examples: [94544-1136, 94560-5359, 94612]),\n",
      "(MailState:TEXT, Examples: [CA]),\n",
      "(Phone:TEXT, Examples: [(510) 887-0152, (510) 596-8901, (510) 686-4131]),\n",
      "(Ext:TEXT, Examples: [130, 1240, 1200]),\n",
      "(Website:TEXT, Examples: [www.acoe.org]),\n",
      "(OpenDate:DATE, Examples: [2005-08-29]),\n",
      "(ClosedDate:DATE, Examples: [2015-07-31]),\n",
      "(Charter:INTEGER, Examples: [1, 0]),\n",
      "(CharterNum:TEXT, Examples: [0728, 0811, 1049]),\n",
      "(FundingType:TEXT, Examples: [Directly funded]),\n",
      "(DOC:TEXT, Examples: [00, 31, 34]),\n",
      "(DOCType:TEXT, Examples: [County Office of Education (COE)]),\n",
      "(SOC:TEXT, Examples: [65, 66, 60]),\n",
      "(SOCType:TEXT, Examples: [K-12 Schools (Public)]),\n",
      "(EdOpsCode:TEXT, Examples: [TRAD, JUV, COMM]),\n",
      "(EdOpsName:TEXT, Examples: [Traditional]),\n",
      "(EILCode:TEXT, Examples: [ELEMHIGH, HS, ELEM]),\n",
      "(EILName:TEXT, Examples: [Elementary-High Combination]),\n",
      "(GSoffered:TEXT, Examples: [K-12, 9-12, K-8]),\n",
      "(GSserved:TEXT, Examples: [K-12, 9-12, K-7]),\n",
      "(Virtual:TEXT, Examples: [P, N, F]),\n",
      "(Magnet:INTEGER, Examples: [0, 1]),\n",
      "(Latitude:REAL, Examples: [37.658212, 37.521436, 37.80452]),\n",
      "(Longitude:REAL, Examples: [-122.09713, -121.99391, -122.26815]),\n",
      "(AdmFName1:TEXT, Examples: [L Karen, Laura, Clifford]),\n",
      "(AdmLName1:TEXT, Examples: [Monroe, Robell, Thompson]),\n",
      "(AdmEmail1:TEXT),\n",
      "(AdmFName2:TEXT, Examples: [Sau-Lim (Lance), Jennifer, Annalisa]),\n",
      "(AdmLName2:TEXT, Examples: [Tsang, Koelling, Moore]),\n",
      "(AdmEmail2:TEXT),\n",
      "(AdmFName3:TEXT, Examples: [Drew, Irma, Vickie]),\n",
      "(AdmLName3:TEXT, Examples: [Sarratore, Munoz, Chang]),\n",
      "(AdmEmail3:TEXT),\n",
      "(LastUpdate:DATE, Examples: [2015-06-23])\n",
      "]\n",
      "【Foreign keys】\n",
      "frpm.CDSCode=schools.CDSCode\n",
      "satscores.cds=schools.CDSCode\n",
      "\n",
      "-- Using valid SQLite and understanding External Knowledge, answer the following questions for the tables provided above.\n",
      "-- What is the highest eligible free rate for K-12 students in the schools in Alameda County?\n",
      "-- External Knowledge: Eligible free rate for K-12 = `Free Meal Count (K-12)` / `Enrollment (K-12)`\n",
      "\n",
      "\n",
      "Generate the SQLite for the above question after thinking step by step: \n",
      "\n",
      "\n",
      "Instructions:\n",
      "- Make sure you only output the information that is asked in the question. If the question asks for a specific column, make sure to only include that column in the SELECT clause, nothing more.\n",
      "- The generated query should return all of the information asked in the question without any missing or extra information.\n",
      "- Before generating the final SQL query, please think through the steps of how to write the query.\n",
      "- Do not misuse column names, keep them in quotes `\n",
      "- Carefully understand what colomns belond to what tables\n",
      "- Use only initial column names, change names prohibited\n",
      "        \n",
      "Output Format:\n",
      "In your answer, please enclose the generated SQL query in a code block:\n",
      "```\n",
      "-- Your SQL query\n",
      "```    \n",
      "and nothing else, no exaplains, no comments (asnwer should be less than 512 characters)\n",
      "\n",
      "Take a deep breath and think step by step to find the correct SQL query in SQLite format.\n",
      "\n",
      "Question repetition: What is the highest eligible free rate for K-12 students in the schools in Alameda County?\n",
      "\n",
      "Be care! Include only what i want it questiona and nothing else<|im_end|>\n",
      "<|im_start|>assistant\n",
      "<think>\n",
      "\n",
      "</think>\n",
      "\n",
      "\n",
      "\n",
      "\n",
      "Максимальное количество токенов в промптах: 26518\n",
      "\n",
      "начинаем скорринг\n",
      "Загружаем чаты с данными...\n",
      "Данные успешно загружены\n",
      "Начали генерацию SQL запросов\n"
     ]
    },
    {
     "name": "stderr",
     "output_type": "stream",
     "text": [
      "Processed prompts: 100%|██████████| 1534/1534 [01:24<00:00, 18.25it/s, est. speed input: 135687.99 toks/s, output: 848.03 toks/s]   "
     ]
    },
    {
     "name": "stdout",
     "output_type": "stream",
     "text": [
      "extract_think количество ошибок:  0\n",
      "extract_sql количество ошибок:  0\n",
      "Закончили генерацию SQL запросов\n",
      "Начали скорр полученных SQL запросов\n"
     ]
    },
    {
     "name": "stderr",
     "output_type": "stream",
     "text": [
      "\n"
     ]
    },
    {
     "name": "stdout",
     "output_type": "stream",
     "text": [
      "Qwen3-1.7B DEV Финальный результат EX: 48.63\n",
      "Qwen3-1.7B процент запросов, которые успешно выполнились DEV: 81.94%\n",
      "====================================================================================================\n",
      "\n",
      "\n",
      "Загружаем чаты с данными...\n",
      "Данные успешно загружены\n",
      "Начали генерацию SQL запросов\n"
     ]
    },
    {
     "name": "stderr",
     "output_type": "stream",
     "text": [
      "Processed prompts: 100%|██████████| 1534/1534 [01:25<00:00, 18.00it/s, est. speed input: 133676.45 toks/s, output: 833.59 toks/s]   "
     ]
    },
    {
     "name": "stdout",
     "output_type": "stream",
     "text": [
      "extract_think количество ошибок:  0\n",
      "extract_sql количество ошибок:  0\n",
      "Закончили генерацию SQL запросов\n",
      "Начали скорр полученных SQL запросов\n"
     ]
    },
    {
     "name": "stderr",
     "output_type": "stream",
     "text": [
      "\n"
     ]
    },
    {
     "name": "stdout",
     "output_type": "stream",
     "text": [
      "Qwen3-1.7B DEV Финальный результат EX: 48.96\n",
      "Qwen3-1.7B процент запросов, которые успешно выполнились DEV: 81.29%\n",
      "====================================================================================================\n",
      "\n",
      "\n",
      "Загружаем чаты с данными...\n",
      "Данные успешно загружены\n",
      "Начали генерацию SQL запросов\n"
     ]
    },
    {
     "name": "stderr",
     "output_type": "stream",
     "text": [
      "Processed prompts: 100%|██████████| 1534/1534 [01:27<00:00, 17.59it/s, est. speed input: 131665.18 toks/s, output: 816.84 toks/s]   "
     ]
    },
    {
     "name": "stdout",
     "output_type": "stream",
     "text": [
      "extract_think количество ошибок:  0\n",
      "extract_sql количество ошибок:  0\n",
      "Закончили генерацию SQL запросов\n",
      "Начали скорр полученных SQL запросов\n"
     ]
    },
    {
     "name": "stderr",
     "output_type": "stream",
     "text": [
      "\n"
     ]
    },
    {
     "name": "stdout",
     "output_type": "stream",
     "text": [
      "Qwen3-1.7B DEV Финальный результат EX: 49.09\n",
      "Qwen3-1.7B процент запросов, которые успешно выполнились DEV: 81.55%\n",
      "====================================================================================================\n",
      "\n",
      "\n",
      "Загружаем чаты с данными...\n",
      "Данные успешно загружены\n",
      "Начали генерацию SQL запросов\n"
     ]
    },
    {
     "name": "stderr",
     "output_type": "stream",
     "text": [
      "Processed prompts: 100%|██████████| 1534/1534 [01:29<00:00, 17.19it/s, est. speed input: 130464.22 toks/s, output: 806.76 toks/s]     "
     ]
    },
    {
     "name": "stdout",
     "output_type": "stream",
     "text": [
      "extract_think количество ошибок:  0\n",
      "extract_sql количество ошибок:  0\n",
      "Закончили генерацию SQL запросов\n",
      "Начали скорр полученных SQL запросов\n"
     ]
    },
    {
     "name": "stderr",
     "output_type": "stream",
     "text": [
      "\n"
     ]
    },
    {
     "name": "stdout",
     "output_type": "stream",
     "text": [
      "Qwen3-1.7B DEV Финальный результат EX: 50.13\n",
      "Qwen3-1.7B процент запросов, которые успешно выполнились DEV: 82.92%\n",
      "====================================================================================================\n",
      "\n",
      "\n",
      "Загружаем чаты с данными...\n",
      "Данные успешно загружены\n",
      "Начали генерацию SQL запросов\n"
     ]
    },
    {
     "name": "stderr",
     "output_type": "stream",
     "text": [
      "Processed prompts: 100%|██████████| 1534/1534 [01:27<00:00, 17.45it/s, est. speed input: 132721.15 toks/s, output: 805.71 toks/s]   "
     ]
    },
    {
     "name": "stdout",
     "output_type": "stream",
     "text": [
      "extract_think количество ошибок:  0\n",
      "extract_sql количество ошибок:  0\n",
      "Закончили генерацию SQL запросов\n",
      "Начали скорр полученных SQL запросов\n"
     ]
    },
    {
     "name": "stderr",
     "output_type": "stream",
     "text": [
      "\n"
     ]
    },
    {
     "name": "stdout",
     "output_type": "stream",
     "text": [
      "Qwen3-1.7B DEV Финальный результат EX: 48.83\n",
      "Qwen3-1.7B процент запросов, которые успешно выполнились DEV: 81.81%\n",
      "====================================================================================================\n",
      "\n",
      "\n",
      "Загружаем чаты с данными...\n",
      "Данные успешно загружены\n",
      "Начали генерацию SQL запросов\n"
     ]
    },
    {
     "name": "stderr",
     "output_type": "stream",
     "text": [
      "Processed prompts: 100%|██████████| 1534/1534 [01:27<00:00, 17.52it/s, est. speed input: 133551.42 toks/s, output: 809.66 toks/s]   "
     ]
    },
    {
     "name": "stdout",
     "output_type": "stream",
     "text": [
      "extract_think количество ошибок:  0\n",
      "extract_sql количество ошибок:  0\n",
      "Закончили генерацию SQL запросов\n",
      "Начали скорр полученных SQL запросов\n"
     ]
    },
    {
     "name": "stderr",
     "output_type": "stream",
     "text": [
      "\n"
     ]
    },
    {
     "name": "stdout",
     "output_type": "stream",
     "text": [
      "Qwen3-1.7B DEV Финальный результат EX: 50.52\n",
      "Qwen3-1.7B процент запросов, которые успешно выполнились DEV: 84.03%\n",
      "====================================================================================================\n",
      "\n",
      "\n",
      "Загружаем чаты с данными...\n",
      "Данные успешно загружены\n",
      "Начали генерацию SQL запросов\n"
     ]
    },
    {
     "name": "stderr",
     "output_type": "stream",
     "text": [
      "Processed prompts: 100%|██████████| 1534/1534 [01:30<00:00, 17.03it/s, est. speed input: 130372.92 toks/s, output: 796.18 toks/s]   "
     ]
    },
    {
     "name": "stdout",
     "output_type": "stream",
     "text": [
      "extract_think количество ошибок:  0\n",
      "extract_sql количество ошибок:  0\n",
      "Закончили генерацию SQL запросов\n",
      "Начали скорр полученных SQL запросов\n"
     ]
    },
    {
     "name": "stderr",
     "output_type": "stream",
     "text": [
      "\n"
     ]
    },
    {
     "name": "stdout",
     "output_type": "stream",
     "text": [
      "Qwen3-1.7B DEV Финальный результат EX: 49.54\n",
      "Qwen3-1.7B процент запросов, которые успешно выполнились DEV: 82.53%\n",
      "====================================================================================================\n",
      "\n",
      "\n",
      "Загружаем чаты с данными...\n",
      "Данные успешно загружены\n",
      "Начали генерацию SQL запросов\n"
     ]
    },
    {
     "name": "stderr",
     "output_type": "stream",
     "text": [
      "Processed prompts: 100%|██████████| 1534/1534 [01:29<00:00, 17.10it/s, est. speed input: 130537.81 toks/s, output: 797.87 toks/s]   "
     ]
    },
    {
     "name": "stdout",
     "output_type": "stream",
     "text": [
      "extract_think количество ошибок:  0\n",
      "extract_sql количество ошибок:  0\n",
      "Закончили генерацию SQL запросов\n",
      "Начали скорр полученных SQL запросов\n"
     ]
    },
    {
     "name": "stderr",
     "output_type": "stream",
     "text": [
      "\n"
     ]
    },
    {
     "name": "stdout",
     "output_type": "stream",
     "text": [
      "Qwen3-1.7B DEV Финальный результат EX: 48.04\n",
      "Qwen3-1.7B процент запросов, которые успешно выполнились DEV: 82.53%\n",
      "====================================================================================================\n",
      "\n",
      "\n",
      "Загружаем чаты с данными...\n",
      "Данные успешно загружены\n",
      "Начали генерацию SQL запросов\n"
     ]
    },
    {
     "name": "stderr",
     "output_type": "stream",
     "text": [
      "Processed prompts: 100%|██████████| 1534/1534 [01:29<00:00, 17.10it/s, est. speed input: 130802.97 toks/s, output: 796.44 toks/s]   "
     ]
    },
    {
     "name": "stdout",
     "output_type": "stream",
     "text": [
      "extract_think количество ошибок:  0\n",
      "extract_sql количество ошибок:  0\n",
      "Закончили генерацию SQL запросов\n",
      "Начали скорр полученных SQL запросов\n"
     ]
    },
    {
     "name": "stderr",
     "output_type": "stream",
     "text": [
      "\n"
     ]
    },
    {
     "name": "stdout",
     "output_type": "stream",
     "text": [
      "Qwen3-1.7B DEV Финальный результат EX: 48.76\n",
      "Qwen3-1.7B процент запросов, которые успешно выполнились DEV: 82.20%\n",
      "====================================================================================================\n",
      "\n",
      "\n",
      "Загружаем чаты с данными...\n",
      "Данные успешно загружены\n",
      "Начали генерацию SQL запросов\n"
     ]
    },
    {
     "name": "stderr",
     "output_type": "stream",
     "text": [
      "Processed prompts: 100%|██████████| 1534/1534 [01:30<00:00, 16.98it/s, est. speed input: 129788.86 toks/s, output: 789.68 toks/s]   "
     ]
    },
    {
     "name": "stdout",
     "output_type": "stream",
     "text": [
      "extract_think количество ошибок:  0\n",
      "extract_sql количество ошибок:  0\n",
      "Закончили генерацию SQL запросов\n",
      "Начали скорр полученных SQL запросов\n"
     ]
    },
    {
     "name": "stderr",
     "output_type": "stream",
     "text": [
      "\n"
     ]
    },
    {
     "name": "stdout",
     "output_type": "stream",
     "text": [
      "Qwen3-1.7B DEV Финальный результат EX: 49.15\n",
      "Qwen3-1.7B процент запросов, которые успешно выполнились DEV: 82.66%\n",
      "====================================================================================================\n",
      "\n",
      "\n",
      "Загружаем чаты с данными...\n",
      "Данные успешно загружены\n",
      "Начали генерацию SQL запросов\n"
     ]
    },
    {
     "name": "stderr",
     "output_type": "stream",
     "text": [
      "Processed prompts: 100%|██████████| 1534/1534 [01:28<00:00, 17.26it/s, est. speed input: 131764.91 toks/s, output: 796.27 toks/s]   "
     ]
    },
    {
     "name": "stdout",
     "output_type": "stream",
     "text": [
      "extract_think количество ошибок:  0\n",
      "extract_sql количество ошибок:  0\n",
      "Закончили генерацию SQL запросов\n",
      "Начали скорр полученных SQL запросов\n"
     ]
    },
    {
     "name": "stderr",
     "output_type": "stream",
     "text": [
      "\n"
     ]
    },
    {
     "name": "stdout",
     "output_type": "stream",
     "text": [
      "Qwen3-1.7B DEV Финальный результат EX: 48.96\n",
      "Qwen3-1.7B процент запросов, которые успешно выполнились DEV: 82.20%\n",
      "====================================================================================================\n",
      "\n",
      "\n",
      "Загружаем чаты с данными...\n",
      "Данные успешно загружены\n",
      "Начали генерацию SQL запросов\n"
     ]
    },
    {
     "name": "stderr",
     "output_type": "stream",
     "text": [
      "Processed prompts: 100%|██████████| 1534/1534 [01:28<00:00, 17.37it/s, est. speed input: 132007.78 toks/s, output: 809.56 toks/s]   "
     ]
    },
    {
     "name": "stdout",
     "output_type": "stream",
     "text": [
      "extract_think количество ошибок:  0\n",
      "extract_sql количество ошибок:  0\n",
      "Закончили генерацию SQL запросов\n",
      "Начали скорр полученных SQL запросов\n"
     ]
    },
    {
     "name": "stderr",
     "output_type": "stream",
     "text": [
      "\n"
     ]
    },
    {
     "name": "stdout",
     "output_type": "stream",
     "text": [
      "Qwen3-1.7B DEV Финальный результат EX: 47.46\n",
      "Qwen3-1.7B процент запросов, которые успешно выполнились DEV: 80.90%\n",
      "====================================================================================================\n",
      "\n",
      "\n",
      "Загружаем чаты с данными...\n",
      "Данные успешно загружены\n",
      "Начали генерацию SQL запросов\n"
     ]
    },
    {
     "name": "stderr",
     "output_type": "stream",
     "text": [
      "Processed prompts: 100%|██████████| 1534/1534 [01:27<00:00, 17.58it/s, est. speed input: 133927.65 toks/s, output: 811.68 toks/s]   "
     ]
    },
    {
     "name": "stdout",
     "output_type": "stream",
     "text": [
      "extract_think количество ошибок:  0\n",
      "extract_sql количество ошибок:  0\n",
      "Закончили генерацию SQL запросов\n",
      "Начали скорр полученных SQL запросов\n"
     ]
    },
    {
     "name": "stderr",
     "output_type": "stream",
     "text": [
      "\n"
     ]
    },
    {
     "name": "stdout",
     "output_type": "stream",
     "text": [
      "Qwen3-1.7B DEV Финальный результат EX: 48.50\n",
      "Qwen3-1.7B процент запросов, которые успешно выполнились DEV: 81.75%\n",
      "====================================================================================================\n",
      "\n",
      "\n",
      "Загружаем чаты с данными...\n",
      "Данные успешно загружены\n",
      "Начали генерацию SQL запросов\n"
     ]
    },
    {
     "name": "stderr",
     "output_type": "stream",
     "text": [
      "Processed prompts: 100%|██████████| 1534/1534 [01:28<00:00, 17.24it/s, est. speed input: 131690.54 toks/s, output: 796.38 toks/s]   "
     ]
    },
    {
     "name": "stdout",
     "output_type": "stream",
     "text": [
      "extract_think количество ошибок:  0\n",
      "extract_sql количество ошибок:  0\n",
      "Закончили генерацию SQL запросов\n",
      "Начали скорр полученных SQL запросов\n"
     ]
    },
    {
     "name": "stderr",
     "output_type": "stream",
     "text": [
      "\n"
     ]
    },
    {
     "name": "stdout",
     "output_type": "stream",
     "text": [
      "Qwen3-1.7B DEV Финальный результат EX: 49.48\n",
      "Qwen3-1.7B процент запросов, которые успешно выполнились DEV: 82.46%\n",
      "====================================================================================================\n",
      "\n",
      "\n",
      "Загружаем чаты с данными...\n",
      "Данные успешно загружены\n",
      "Начали генерацию SQL запросов\n"
     ]
    },
    {
     "name": "stderr",
     "output_type": "stream",
     "text": [
      "Processed prompts: 100%|██████████| 1534/1534 [01:30<00:00, 16.88it/s, est. speed input: 128410.56 toks/s, output: 790.05 toks/s]   "
     ]
    },
    {
     "name": "stdout",
     "output_type": "stream",
     "text": [
      "extract_think количество ошибок:  0\n",
      "extract_sql количество ошибок:  0\n",
      "Закончили генерацию SQL запросов\n",
      "Начали скорр полученных SQL запросов\n"
     ]
    },
    {
     "name": "stderr",
     "output_type": "stream",
     "text": [
      "\n"
     ]
    },
    {
     "name": "stdout",
     "output_type": "stream",
     "text": [
      "Qwen3-1.7B DEV Финальный результат EX: 50.39\n",
      "Qwen3-1.7B процент запросов, которые успешно выполнились DEV: 83.05%\n",
      "====================================================================================================\n",
      "\n",
      "\n",
      "Загружаем чаты с данными...\n",
      "Данные успешно загружены\n",
      "Начали генерацию SQL запросов\n"
     ]
    },
    {
     "name": "stderr",
     "output_type": "stream",
     "text": [
      "Processed prompts: 100%|██████████| 1534/1534 [01:28<00:00, 17.35it/s, est. speed input: 131489.72 toks/s, output: 801.63 toks/s]   "
     ]
    },
    {
     "name": "stdout",
     "output_type": "stream",
     "text": [
      "extract_think количество ошибок:  0\n",
      "extract_sql количество ошибок:  0\n",
      "Закончили генерацию SQL запросов\n",
      "Начали скорр полученных SQL запросов\n"
     ]
    },
    {
     "name": "stderr",
     "output_type": "stream",
     "text": [
      "\n"
     ]
    },
    {
     "name": "stdout",
     "output_type": "stream",
     "text": [
      "Qwen3-1.7B DEV Финальный результат EX: 48.63\n",
      "Qwen3-1.7B процент запросов, которые успешно выполнились DEV: 82.46%\n",
      "====================================================================================================\n",
      "\n",
      "\n",
      "Загружаем чаты с данными...\n",
      "Данные успешно загружены\n",
      "Начали генерацию SQL запросов\n"
     ]
    },
    {
     "name": "stderr",
     "output_type": "stream",
     "text": [
      "Processed prompts: 100%|██████████| 1534/1534 [01:27<00:00, 17.45it/s, est. speed input: 132365.05 toks/s, output: 809.24 toks/s]   "
     ]
    },
    {
     "name": "stdout",
     "output_type": "stream",
     "text": [
      "extract_think количество ошибок:  0\n",
      "extract_sql количество ошибок:  0\n",
      "Закончили генерацию SQL запросов\n",
      "Начали скорр полученных SQL запросов\n"
     ]
    },
    {
     "name": "stderr",
     "output_type": "stream",
     "text": [
      "\n"
     ]
    },
    {
     "name": "stdout",
     "output_type": "stream",
     "text": [
      "Qwen3-1.7B DEV Финальный результат EX: 48.50\n",
      "Qwen3-1.7B процент запросов, которые успешно выполнились DEV: 82.07%\n",
      "====================================================================================================\n",
      "\n",
      "\n",
      "Загружаем чаты с данными...\n",
      "Данные успешно загружены\n",
      "Начали генерацию SQL запросов\n"
     ]
    },
    {
     "name": "stderr",
     "output_type": "stream",
     "text": [
      "Processed prompts: 100%|██████████| 1534/1534 [01:28<00:00, 17.41it/s, est. speed input: 131175.29 toks/s, output: 815.18 toks/s]   "
     ]
    },
    {
     "name": "stdout",
     "output_type": "stream",
     "text": [
      "extract_think количество ошибок:  0\n",
      "extract_sql количество ошибок:  0\n",
      "Закончили генерацию SQL запросов\n",
      "Начали скорр полученных SQL запросов\n"
     ]
    },
    {
     "name": "stderr",
     "output_type": "stream",
     "text": [
      "\n"
     ]
    },
    {
     "name": "stdout",
     "output_type": "stream",
     "text": [
      "Qwen3-1.7B DEV Финальный результат EX: 49.22\n",
      "Qwen3-1.7B процент запросов, которые успешно выполнились DEV: 81.88%\n",
      "====================================================================================================\n",
      "\n",
      "\n",
      "Загружаем чаты с данными...\n",
      "Данные успешно загружены\n",
      "Начали генерацию SQL запросов\n"
     ]
    },
    {
     "name": "stderr",
     "output_type": "stream",
     "text": [
      "Processed prompts: 100%|██████████| 1534/1534 [01:24<00:00, 18.09it/s, est. speed input: 133783.16 toks/s, output: 837.73 toks/s]   "
     ]
    },
    {
     "name": "stdout",
     "output_type": "stream",
     "text": [
      "extract_think количество ошибок:  0\n",
      "extract_sql количество ошибок:  0\n",
      "Закончили генерацию SQL запросов\n",
      "Начали скорр полученных SQL запросов\n"
     ]
    },
    {
     "name": "stderr",
     "output_type": "stream",
     "text": [
      "\n"
     ]
    },
    {
     "name": "stdout",
     "output_type": "stream",
     "text": [
      "Qwen3-1.7B DEV Финальный результат EX: 48.89\n",
      "Qwen3-1.7B процент запросов, которые успешно выполнились DEV: 82.53%\n",
      "====================================================================================================\n",
      "\n",
      "\n",
      "Загружаем чаты с данными...\n",
      "Данные успешно загружены\n",
      "Начали генерацию SQL запросов\n"
     ]
    },
    {
     "name": "stderr",
     "output_type": "stream",
     "text": [
      "Processed prompts: 100%|██████████| 1534/1534 [01:26<00:00, 17.73it/s, est. speed input: 131507.42 toks/s, output: 824.04 toks/s]   "
     ]
    },
    {
     "name": "stdout",
     "output_type": "stream",
     "text": [
      "extract_think количество ошибок:  0\n",
      "extract_sql количество ошибок:  0\n",
      "Закончили генерацию SQL запросов\n",
      "Начали скорр полученных SQL запросов\n"
     ]
    },
    {
     "name": "stderr",
     "output_type": "stream",
     "text": [
      "\n"
     ]
    },
    {
     "name": "stdout",
     "output_type": "stream",
     "text": [
      "Qwen3-1.7B DEV Финальный результат EX: 48.11\n",
      "Qwen3-1.7B процент запросов, которые успешно выполнились DEV: 81.42%\n",
      "====================================================================================================\n",
      "\n",
      "\n"
     ]
    }
   ],
   "source": [
    "run_cot_experiment(model,arr_seeds,arr_versions, type_cot,num_observations=num_observations)"
   ]
  },
  {
   "cell_type": "markdown",
   "id": "8ecdae85-ab3f-4123-8cb2-d235fe12a9b6",
   "metadata": {},
   "source": [
    "## 6 наблюдений"
   ]
  },
  {
   "cell_type": "code",
   "execution_count": 5,
   "id": "4cf5d319-24ae-42c5-a259-219dab753f06",
   "metadata": {},
   "outputs": [
    {
     "name": "stdout",
     "output_type": "stream",
     "text": [
      "[532, 80, 390, 669, 591, 791, 38, 212, 326, 176, 768, 662, 91, 659, 206, 919, 741, 335, 777, 133]\n",
      "model: Qwen3-1.7B\n"
     ]
    }
   ],
   "source": [
    "n= 20\n",
    "arr_seeds = [random.randint(0,1000) for _ in range(n)]\n",
    "arr_versions = [x for x in range(n)]\n",
    "model = \"Qwen3-1.7B\"\n",
    "num_observations = 6\n",
    "type_cot = 'all_new'\n",
    "print(arr_seeds)\n",
    "print(f\"model: {model}\")"
   ]
  },
  {
   "cell_type": "code",
   "execution_count": 6,
   "id": "658afdd2-e3e5-4436-989d-2a8c484bbd3f",
   "metadata": {
    "scrolled": true
   },
   "outputs": [
    {
     "name": "stdout",
     "output_type": "stream",
     "text": [
      "Загружаем модель...\n"
     ]
    },
    {
     "name": "stderr",
     "output_type": "stream",
     "text": [
      "Loading safetensors checkpoint shards:   0% Completed | 0/2 [00:00<?, ?it/s]\n",
      "Loading safetensors checkpoint shards:  50% Completed | 1/2 [00:01<00:01,  1.18s/it]\n",
      "Loading safetensors checkpoint shards: 100% Completed | 2/2 [00:01<00:00,  1.64it/s]\n",
      "\u001b[1;36m(VllmWorker rank=0 pid=2846770)\u001b[0;0m \n"
     ]
    },
    {
     "name": "stdout",
     "output_type": "stream",
     "text": [
      "Модель успешно загружена\n",
      "model_config {'model': '/data/home/vkropoti/models/Qwen3-1.7B', 'tensor_parallel_size': 2, 'max_model_len': 40000, 'max_new_tokens': 1500, 'temperature': 0, 'top_k': 1, 'top_p': 0.8, 'gpu_memory_utilization': 0.9, 'trust_remote_code': False, 'seed': 532}\n",
      "\n",
      "prompts_config {'path_dev_json': '/home/vkropoti/vllm/dev.json', 'path_sql_dbs': '/data/home/vkropoti/sql_data/dev_databases/', 'use_reasoning': False, 'paths_to_cot': ['/data/home/vkropoti/sql_llm_answers/bird_dev_m_schema/sql_all_new_Qwen3-1.7B-reasoning-v0', '/data/home/vkropoti/sql_llm_answers/bird_dev_m_schema/sql_all_new_Qwen3-1.7B-reasoning-v1', '/data/home/vkropoti/sql_llm_answers/bird_dev_m_schema/sql_all_new_Qwen3-1.7B-reasoning-v2', '/data/home/vkropoti/sql_llm_answers/bird_dev_m_schema/sql_all_new_Qwen3-1.7B-reasoning-v3', '/data/home/vkropoti/sql_llm_answers/bird_dev_m_schema/sql_all_new_Qwen3-1.7B-reasoning-v4', '/data/home/vkropoti/sql_llm_answers/bird_dev_m_schema/sql_all_new_Qwen3-1.7B-reasoning-v5']}\n",
      "\n",
      "save_config {'path_sql_save': '/data/home/vkropoti/sql_llm_answers/bird_dev_m_schema/sql_all_Qwen3-1.7B-cot_all_new_think==False_nobs6-v0', 'path_think_save': None, 'path_sql_answers_save': '/data/home/vkropoti/sql_llm_answers/bird_dev_m_schema/sql_predict_Qwen3-1.7B-cot_all_new_think==False_nobs6-v0', 'path_to_save_scores': '/data/home/vkropoti/sql_llm_answers/bird_dev_m_schema/sql_results_Qwen3-1.7B-cot_all_new_think==False_nobs6-v0', 'path_to_save_executed': '/data/home/vkropoti/sql_llm_answers/bird_dev_m_schema/sql_executed_Qwen3-1.7B-cot_all_new_think==False_nobs6-v0'}\n",
      "\n",
      "Модель успешно загружена\n",
      "Пример промпта\n",
      "<|im_start|>system\n",
      "\n",
      "You are a data science expert. Below, you are provided with a database schema and a natural language question. Your task is to understand the schema and generate a valid SQL query to answer the question.\n",
      "\n",
      "Database Engine: SQLite\n",
      "\n",
      "You will be given an additional analysis of other models, please take it into account, so the plan is\n",
      "1. Analyse given addition analysis from other models (find in which analysis the same and differ, how to use that to answer question)\n",
      "2. Combine best from previous part and think how to solve the problem (analyze tables, take care what columns avaliable in each table and so on, check the syntacsis)\n",
      "3. Create the answers. The answer should be only sql query.\n",
      "\n",
      "Carefully follow the instruction and add <|im_end|> and the end of the final answer<|im_end|>\n",
      "<|im_start|>user\n",
      "Here is addition analysis from other models which can be helpfull, please take this into account but be careful (choose the best from each analysis, combine them to make the most proper answer):\n",
      "\n",
      "model 0 analysis:\n",
      " Reasoning process:\n",
      "\n",
      "Okay, let's tackle this question step by step. The user wants the highest eligible free rate for K-12 students in Alameda County. \n",
      "\n",
      "First, I need to figure out which tables are involved. The eligible free rate is calculated as Free Meal Count (K-12) divided by Enrollment (K-12). So I need data from the frpm table. But the frpm table has the Free Meal Count and Enrollment values. However, the schools table has the County information, so I need to join the schools table with the frpm table on the CDSCode.\n",
      "\n",
      "Wait, the foreign keys are frpm.CDSCode = schools.CDSCode and satscores.cds = schools.CDSCode. So the schools table has the CDSCode, which is linked to frpm. So the plan is to join schools with frpm on CDSCode, filter where the County is 'Alameda County', then calculate the ratio.\n",
      "\n",
      "But wait, the schools table's County column has examples like 'Alameda', 'Alpine', etc. So the County column is a TEXT field. So I need to check if the County is 'Alameda' exactly. But maybe the actual county names might have spaces or different formats. However, the examples given in the schools table's County column are 'Alameda', so assuming that 'Alameda' is the correct value.\n",
      "\n",
      "So the steps are:\n",
      "\n",
      "1. Join schools and frpm on CDSCode.\n",
      "2. Filter where schools.County = 'Alameda'.\n",
      "3. Calculate Free Meal Count (K-12) / Enrollment (K-12) for each school.\n",
      "4. Find the maximum value of this ratio.\n",
      "\n",
      "But the question says \"highest eligible free rate\", so we need the maximum value from the calculated ratio.\n",
      "\n",
      "Now, the SQL query would need to select the maximum of (Free Meal Count (K-12) / Enrollment (K-12)) from the joined tables where County is 'Alameda'.\n",
      "\n",
      "But wait, the frpm table has the Free Meal Count (K-12) as a REAL number and Enrollment (K-12) as a REAL number. So the division would be done in the query.\n",
      "\n",
      "So the SQL query would be:\n",
      "\n",
      "SELECT MAX(Free Meal Count (K-12) / Enrollment (K-12)) FROM schools JOIN frpm ON schools.CDSCode = frpm.CDSCode WHERE schools.County = 'Alameda';\n",
      "\n",
      "But need to check if the County is exactly 'Alameda' or if there's a need to use a LIKE clause. The examples given in the schools table's County column are 'Alameda', so it's likely that the exact value is 'Alameda'. However, in practice, sometimes counties might have different names, but based on the given data, we can assume that.\n",
      "\n",
      "Another thing: the schools table has a District column, but the County is the primary field here. So the JOIN is on CDSCode, which is the same in both tables.\n",
      "\n",
      "So the final query would be as above. But need to make sure that the columns are correctly referenced. The frpm table has Free Meal Count (K-12) as a column, and Enrollment (K-12) as another column. So the division is between those two.\n",
      "\n",
      "Therefore, the SQL query should select the maximum of that ratio from the joined tables where the county is Alameda.\n",
      "\n",
      "Final answer based om reasoning for this model:\n",
      "\n",
      "\n",
      "```\n",
      "SELECT MAX(Free Meal Count (K-12)/Enrollment (K-12)) FROM schools JOIN frpm ON schools.CDSCode = frpm.CDSCode WHERE schools.County = 'Alameda';\n",
      "```\n",
      "\n",
      "model 1 analysis:\n",
      " Reasoning process:\n",
      "\n",
      "Okay, let's tackle this question. The user wants the highest eligible free rate for K-12 students in Alameda County. \n",
      "\n",
      "First, I need to figure out which tables are involved. The relevant tables here are 'frpm' and 'schools' because the 'frpm' table has the eligible free rates and the 'schools' table has the county information. \n",
      "\n",
      "The 'schools' table has a 'County' column, and we need to filter for Alameda County. So, I'll start by joining the 'schools' table with the 'frpm' table on the 'CDSCode' since that's the primary key link. \n",
      "\n",
      "Next, the eligible free rate is calculated as Free Meal Count (K-12) divided by Enrollment (K-12). But wait, the question specifies K-12 students, so I need to make sure that the rows in frpm are for K-12. The 'Low Grade' and 'High Grade' columns in frpm might indicate the grade levels, but the question is specifically about K-12. So maybe the 'Low Grade' is K, and the 'High Grade' is 12. But the user might just want the rate for K-12 students, so perhaps we can assume that the rows in frpm where Low Grade is 'K' and High Grade is '12' are the ones we need. However, the problem statement says \"K-12 students,\" so maybe we need to check if the frpm data includes that. But the user's question doesn't specify filtering by grade, just K-12. So perhaps the frpm table's rows are already for K-12, or we need to check the data.\n",
      "\n",
      "But since the question is about K-12, maybe the frpm table's rows are for K-12. However, the 'Low Grade' and 'High Grade' columns might not be directly relevant here. The user's question is about the highest eligible free rate for K-12 students, so the frpm table's rows where the school is in Alameda County and the grade levels are K-12. But the problem is that the 'frpm' table's 'Low Grade' is 'K' and 'High Grade' is '12', so perhaps we need to filter where Low Grade is 'K' and High Grade is '12'.\n",
      "\n",
      "But the user's question might not require that, since the question is about K-12 students in general. However, the data might have entries for K-12, so perhaps we can just use the frpm table's rows where the school is in Alameda County. \n",
      "\n",
      "Wait, the 'schools' table has a 'County' column, so we need to join on that. So the plan is: join schools and frpm on CDSCode, filter where County is 'Alameda', then calculate the eligible free rate as Free Meal Count (K-12) / Enrollment (K-12), and find the maximum value.\n",
      "\n",
      "But the user's question says \"highest eligible free rate for K-12 students in the schools in Alameda County\". So the steps are:\n",
      "\n",
      "1. Join schools and frpm on CDSCode.\n",
      "2. Filter schools where County is 'Alameda'.\n",
      "3. Calculate the eligible free rate for K-12 students (Free Meal Count (K-12) / Enrollment (K-12)).\n",
      "4. Find the maximum value of this rate.\n",
      "\n",
      "But the problem is that the frpm table's 'Low Grade' and 'High Grade' might not be directly relevant here. However, the question is about K-12 students, so maybe the frpm table's rows are for K-12. Alternatively, the 'Low Grade' is 'K' and 'High Grade' is '12', so the rows where Low Grade is 'K' and High Grade is '12' are for K-12. Therefore, we need to filter those rows.\n",
      "\n",
      "So the query would be:\n",
      "\n",
      "SELECT MAX( (Free Meal Count (K-12) / Enrollment (K-12)) ) AS highest_rate\n",
      "FROM frpm\n",
      "JOIN schools ON frpm.CDSCode = schools.CDSCode\n",
      "WHERE schools.County = 'Alameda' AND frpm.Low Grade = 'K' AND frpm.High Grade = '12';\n",
      "\n",
      "But the user's question might not require checking the grade levels, just the K-12 students. However, the data might not have entries for K-12. But the problem says \"K-12 students\", so perhaps the frpm table's rows are for K-12. But the 'Low Grade' and 'High Grade' columns are part of the frpm table. So the correct approach is to check those columns.\n",
      "\n",
      "But the user's question is phrased as \"highest eligible free rate for K-12 students in the schools in Alameda County\". So the answer would require that the frpm data includes K-12 students. Therefore, the query would need to filter where Low Grade is 'K' and High Grade is '12'.\n",
      "\n",
      "But the user might not have that data. However, based on the schema, the frpm table's columns include Low Grade and High Grade, so the answer must consider those.\n",
      "\n",
      "So the final SQL query would be:\n",
      "\n",
      "SELECT MAX( (Free Meal Count (K-12) / Enrollment (K-12)) ) AS highest_rate\n",
      "FROM frpm\n",
      "JOIN schools ON frpm.CDSCode = schools.CDSCode\n",
      "WHERE schools.County = 'Alameda' AND frpm.Low Grade = 'K' AND frpm.High Grade = '12';\n",
      "\n",
      "But the problem is that in SQLite, the column names are in quotes. Also, the user wants only the column in the SELECT clause, which is the highest rate. So the query should select the maximum of that rate.\n",
      "\n",
      "But the question might not require the actual values, just the maximum. So the query would be as above.\n",
      "\n",
      "Wait, but the user's question is to get the highest eligible free rate. So the SQL would be to select the maximum of (Free Meal Count (K-12)/Enrollment (K-12)) where the school is in Alameda County and the grade levels are K-12.\n",
      "\n",
      "Therefore, the correct query is as above.\n",
      "\n",
      "Final answer based om reasoning for this model:\n",
      "\n",
      "\n",
      "```\n",
      "SELECT MAX((Free Meal Count (K-12) / Enrollment (K-12))) AS highest_rate\n",
      "FROM frpm\n",
      "JOIN schools ON frpm.CDSCode = schools.CDSCode\n",
      "WHERE schools.County = 'Alameda' AND frpm.Low Grade = 'K' AND frpm.High Grade = '12';\n",
      "```\n",
      "\n",
      "model 2 analysis:\n",
      " Reasoning process:\n",
      "\n",
      "Okay, let's tackle this question. The user wants the highest eligible free rate for K-12 students in Alameda County. \n",
      "\n",
      "First, I need to figure out which tables are involved. The relevant tables here are 'schools' and 'frpm' because they have the CDSCode and County information. The 'satscores' table might not be necessary here since the question is about free meal counts and enrollments.\n",
      "\n",
      "The 'schools' table has the County field, so I can filter for County = 'Alameda'. The 'frpm' table has 'County Name' and 'Enrollment (K-12)', 'Free Meal Count (K-12)', and 'Percent (%) Eligible Free (K-12)' columns. \n",
      "\n",
      "Wait, the 'frpm' table's 'County Name' might have the county names, but the 'schools' table's 'County' field is a TEXT field. So I need to join the two tables on schools.CDSCode = frpm.CDSCode. Then, filter where schools.County = 'Alameda'.\n",
      "\n",
      "But the question is about the highest eligible free rate. So I need to calculate the percentage from the 'Percent (%) Eligible Free (K-12)' column. Then, find the maximum value among those that are in Alameda County.\n",
      "\n",
      "So the steps are: join schools and frpm on CDSCode, filter where County is 'Alameda', select the Percent column, order by it descending, limit 1.\n",
      "\n",
      "Wait, but the 'frpm' table has 'Percent (%) Eligible Free (K-12)' as a column. So the SQL would be:\n",
      "\n",
      "SELECT MAX(Percent (%) Eligible Free (K-12)) FROM frpm JOIN schools ON frpm.CDSCode = schools.CDSCode WHERE schools.County = 'Alameda';\n",
      "\n",
      "But I need to make sure that the column names are correct. The 'frpm' table has 'Percent (%) Eligible Free (K-12)' as a column, so that's correct. The 'schools' table has 'County' as a column. \n",
      "\n",
      "But the question says \"schools in Alameda County\", so the 'schools' table's County must be 'Alameda'. \n",
      "\n",
      "So the final query would be joining the two tables on CDSCode, filtering the County, then selecting the max of the eligible free rate. \n",
      "\n",
      "But wait, the user wants the highest rate, so MAX() is correct. \n",
      "\n",
      "I need to make sure that the columns are correctly referenced. Also, the 'frpm' table's 'County Name' might have the county name, but the 'schools' table's 'County' is the one to filter. So the join is correct.\n",
      "\n",
      "So the SQL query would be:\n",
      "\n",
      "SELECT MAX(Percent (%) Eligible Free (K-12)) FROM frpm JOIN schools ON frpm.CDSCode = schools.CDSCode WHERE schools.County = 'Alameda';\n",
      "\n",
      "Final answer based om reasoning for this model:\n",
      "\n",
      "\n",
      "```\n",
      "SELECT MAX(Percent (%) Eligible Free (K-12)) FROM frpm JOIN schools ON frpm.CDSCode = schools.CDSCode WHERE schools.County = 'Alameda';\n",
      "```\n",
      "\n",
      "model 3 analysis:\n",
      " Reasoning process:\n",
      "\n",
      "Okay, let's tackle this question. The user wants the highest eligible free rate for K-12 students in Alameda County. \n",
      "\n",
      "First, I need to figure out which tables are involved. The relevant tables here are 'frpm' and 'schools' because the 'frpm' table has the eligible free rates and the 'schools' table has the county information. \n",
      "\n",
      "The 'schools' table has a 'County' column, and we need to filter for Alameda County. So, I'll start by joining the 'schools' table with the 'frpm' table on the 'CDSCode' since that's the primary key link. \n",
      "\n",
      "Next, the eligible free rate is calculated as Free Meal Count (K-12) divided by Enrollment (K-12). But wait, the question specifies K-12 students, so I need to make sure that the rows in frpm are for K-12. The 'Low Grade' and 'High Grade' columns in frpm might indicate the grade levels, but the question is specifically about K-12. So maybe the 'Low Grade' is K, and the 'High Grade' is 12. But the user might just want the rate for K-12 students, so perhaps we can assume that the rows in frpm where Low Grade is 'K' and High Grade is '12' are the ones we need. However, the problem statement says \"K-12 students,\" so maybe the frpm table's data already covers that. But to be safe, maybe we need to filter where Low Grade is 'K' and High Grade is '12'. \n",
      "\n",
      "Wait, the user's question says \"for K-12 students,\" so the frpm data should have entries for K-12. But the 'frpm' table's columns have 'Low Grade' and 'High Grade' as TEXT. So maybe the rows where Low Grade is 'K' and High Grade is '12' are the K-12 students. So I need to filter those rows. \n",
      "\n",
      "So the query would join schools and frpm on CDSCode, filter schools where County is 'Alameda', and then filter frpm where Low Grade is 'K' and High Grade is '12'. Then calculate the percentage (Free Meal Count (K-12) / Enrollment (K-12)) and find the maximum value. \n",
      "\n",
      "But the user wants the highest eligible free rate, so after joining and filtering, I need to compute the percentage and select the maximum. \n",
      "\n",
      "Wait, the question says \"the highest eligible free rate for K-12 students in the schools in Alameda County.\" So the steps are:\n",
      "\n",
      "1. Join schools and frpm on CDSCode.\n",
      "2. Filter schools where County is 'Alameda'.\n",
      "3. Filter frpm where Low Grade is 'K' and High Grade is '12'.\n",
      "4. Calculate the percentage (Free Meal Count (K-12) / Enrollment (K-12)).\n",
      "5. Find the maximum value of this percentage.\n",
      "\n",
      "So the SQL query would select the maximum of the calculated percentage from the joined tables. \n",
      "\n",
      "But how to structure this in SQL. Let's see. The tables are 'schools' and 'frpm'. The join is on schools.CDSCode = frpm.CDSCode. \n",
      "\n",
      "So the query would be:\n",
      "\n",
      "SELECT MAX( (frpm.Free Meal Count (K-12) / frpm.Enrollment (K-12)) * 100 ) AS highest_rate\n",
      "FROM schools\n",
      "JOIN frpm ON schools.CDSCode = frpm.CDSCode\n",
      "WHERE schools.County = 'Alameda' AND frpm.Low Grade = 'K' AND frpm.High Grade = '12';\n",
      "\n",
      "Wait, but the columns in the frpm table are named with quotes. The user specified that the columns should be in quotes. So the column names in the frpm table are like 'Free Meal Count (K-12)' and 'Enrollment (K-12)'. So the correct column names in the SQL query would be with quotes. \n",
      "\n",
      "So the query would be:\n",
      "\n",
      "SELECT MAX( (frpm.Free Meal Count (K-12) / frpm.Enrollment (K-12)) ) AS highest_rate\n",
      "FROM schools\n",
      "JOIN frpm ON schools.CDSCode = frpm.CDSCode\n",
      "WHERE schools.County = 'Alameda' AND frpm.Low Grade = 'K' AND frpm.High Grade = '12';\n",
      "\n",
      "But the question says \"highest eligible free rate\" which is the percentage. So the calculation is (Free Meal Count / Enrollment) * 100? Or is it (Free Meal Count / Enrollment) as a percentage? The user's external knowledge says Eligible free rate is Free Meal Count / Enrollment. But the question says \"Percent (%) Eligible Free (K-12)\" in the frpm table. So the actual value in the frpm table is the percentage. So maybe the value is already in percentage, so we don't need to multiply by 100. Wait, the example for Percent (%) Eligible Free (K-12) is [0.519779208831647, 0.470886075949367, 0.549180327868853]. So these are decimal numbers, not percentages. So the actual value is the percentage as a decimal. So the user's question says \"highest eligible free rate\" which is the value in the frpm table, which is already in percentage. So the calculation is just selecting the maximum of that value. \n",
      "\n",
      "Wait, but the user's external knowledge says Eligible free rate is Free Meal Count / Enrollment. But the frpm table has the Percent (%) Eligible Free (K-12) as a decimal. So perhaps the value in frpm is already the percentage. So the query would just select the maximum of that column. \n",
      "\n",
      "But the user's question is asking for the highest eligible free rate, which is the value in the Percent (%) Eligible Free (K-12) column. So the correct query is to select the maximum of that column where the conditions are met. \n",
      "\n",
      "So the query would be:\n",
      "\n",
      "SELECT MAX(Percent (%) Eligible Free (K-12)) \n",
      "FROM frpm\n",
      "JOIN schools ON frpm.CDSCode = schools.CDSCode\n",
      "WHERE schools.County = 'Alameda' AND frpm.Low Grade = 'K' AND frpm.High Grade = '12';\n",
      "\n",
      "But the user wants the answer in the correct format. Also, the columns in the frpm table are named with quotes. So in the SQL query, the column names must be in quotes. \n",
      "\n",
      "So the final query would be:\n",
      "\n",
      "SELECT MAX(Percent (%) Eligible Free (K-12)) \n",
      "FROM schools \n",
      "JOIN frpm ON schools.CDSCode = frpm.CDSCode \n",
      "WHERE schools.County = 'Alameda' AND frpm.Low Grade = 'K' AND frpm.High Grade = '12';\n",
      "\n",
      "But the user might have the columns in the frpm table as 'Free Meal Count (K-12)' and 'Enrollment (K-12)', but the question is about the Percent (%) Eligible Free (K-12) column. So the query would select that column. \n",
      "\n",
      "So the correct SQL is:\n",
      "\n",
      "SELECT MAX(Percent (%) Eligible Free (K-12)) \n",
      "FROM schools \n",
      "JOIN frpm ON schools.CDSCode = frpm.CDSCode \n",
      "WHERE schools.County = 'Alameda' AND frpm.Low Grade = 'K' AND frpm.High Grade = '12';\n",
      "\n",
      "But the problem says that the user wants the highest eligible free rate, which is the maximum of that column. \n",
      "\n",
      "So the final answer is that SQL query.\n",
      "\n",
      "Final answer based om reasoning for this model:\n",
      "\n",
      "\n",
      "```\n",
      "SELECT MAX(Percent (%) Eligible Free (K-12)) \n",
      "FROM schools \n",
      "JOIN frpm ON schools.CDSCode = frpm.CDSCode \n",
      "WHERE schools.County = 'Alameda' AND frpm.Low Grade = 'K' AND frpm.High Grade = '12';\n",
      "```\n",
      "\n",
      "model 4 analysis:\n",
      " Reasoning process:\n",
      "\n",
      "Okay, let's tackle this problem. The user wants the highest eligible free rate for K-12 students in Alameda County. First, I need to figure out which tables are involved. The relevant tables here are frpm and schools, probably. Because the frpm table has the eligible free rates, and the schools table has the county information.\n",
      "\n",
      "Wait, the frpm table has columns like Percent (%) Eligible Free (K-12) and Enrollment (K-12). The question is about Alameda County, so I need to filter schools where County is Alameda. Then, from the frpm table, get the Percent Eligible Free (K-12) and Enrollment (K-12) for those schools.\n",
      "\n",
      "But wait, the schools table has a County column, so I need to join schools with frpm on schools.CDSCode equals frpm.CDSCode. Then, filter the schools where County is 'Alameda'. Then calculate the ratio of Free Meal Count (K-12) to Enrollment (K-12) and take the maximum value.\n",
      "\n",
      "Wait, the user mentioned the formula: Eligible free rate is Free Meal Count (K-12) divided by Enrollment (K-12). So, for each school in Alameda County, calculate that ratio and find the maximum.\n",
      "\n",
      "So the steps are: join schools and frpm on CDSCode, filter county = 'Alameda', then compute the ratio and find the max.\n",
      "\n",
      "But how to structure the SQL. Let's think.\n",
      "\n",
      "SELECT MAX(Percent (%) Eligible Free (K-12)) FROM frpm JOIN schools ON frpm.CDSCode = schools.CDSCode WHERE schools.County = 'Alameda';\n",
      "\n",
      "Wait, but the schools table has a County column, which is a TEXT. So the query would be:\n",
      "\n",
      "SELECT MAX(Percent (%) Eligible Free (K-12)) \n",
      "FROM frpm \n",
      "JOIN schools ON frpm.CDSCode = schools.CDSCode \n",
      "WHERE schools.County = 'Alameda';\n",
      "\n",
      "But the problem is that the frpm table has the Percent (%) Eligible Free (K-12) as a column, and the schools table has the County. So joining on CDSCode and filtering County = 'Alameda' should give the necessary rows. Then, taking the maximum of that column.\n",
      "\n",
      "But wait, the user wants the highest rate, so MAX() is correct. However, sometimes there might be multiple schools in Alameda, and we need the maximum value among them. So the query should be as above.\n",
      "\n",
      "But need to make sure that the columns are correctly named. The frpm table's columns are in the initial description. Let me check again.\n",
      "\n",
      "In the frpm table, the columns include Percent (%) Eligible Free (K-12) as a column. The schools table has County as a column. So the SQL should be correct.\n",
      "\n",
      "But the user said to use only the initial column names, not the ones in the schema. Wait, the user said: \"Use only initial column names, change names prohibited\". So the column names in the schema are as given. So the columns in the frpm table are: CDSCode, Academic Year, County Code, District Code, School Code, County Name, District Name, School Name, District Type, School Type, Educational Option Type, NSLP Provision Status, Charter School (Y/N), Charter School Number, Charter Funding Type, IRC, Low Grade, High Grade, Enrollment (K-12), Free Meal Count (K-12), Percent (%) Eligible Free (K-12), etc.\n",
      "\n",
      "So the column names in the frpm table are as listed. So the query should reference those exact column names.\n",
      "\n",
      "So the correct SQL would be:\n",
      "\n",
      "SELECT MAX(Percent (%) Eligible Free (K-12)) \n",
      "FROM frpm \n",
      "JOIN schools ON frpm.CDSCode = schools.CDSCode \n",
      "WHERE schools.County = 'Alameda';\n",
      "\n",
      "But wait, the schools table's County column is a TEXT, and the example values are like 'Alameda', 'Alpine', etc. So the WHERE clause is correct.\n",
      "\n",
      "But need to make sure that the County is exactly 'Alameda' (case-sensitive? Well, in SQLite, string comparisons are case-sensitive unless the database is set to case-insensitive, but the examples show 'Alameda' as the value, so the query should use 'Alameda' exactly.\n",
      "\n",
      "So the final query is as above. Let me check the word count. The user said the answer should be less than 512 characters. Let me count:\n",
      "\n",
      "SELECT MAX(Percent (%) Eligible Free (K-12)) FROM frpm JOIN schools ON frpm.CDSCode = schools.CDSCode WHERE schools.County = 'Alameda';\n",
      "\n",
      "That's 145 characters. So it's under 512. So that's the answer.\n",
      "\n",
      "Final answer based om reasoning for this model:\n",
      "\n",
      "\n",
      "```\n",
      "SELECT MAX(Percent (%) Eligible Free (K-12)) FROM frpm JOIN schools ON frpm.CDSCode = schools.CDSCode WHERE schools.County = 'Alameda';\n",
      "```\n",
      "\n",
      "model 5 analysis:\n",
      " Reasoning process:\n",
      "\n",
      "Okay, let's tackle this question. The user wants the highest eligible free rate for K-12 students in Alameda County. \n",
      "\n",
      "First, I need to figure out which tables are involved. The relevant tables here are frpm and schools, maybe satscores, but the question is about free meal counts and enrollments, so frpm and schools probably play a role. \n",
      "\n",
      "Looking at the tables, the schools table has CDSCode, which is linked to frpm via the foreign key. The schools table also has County, so I need to filter for Alameda County. The frpm table has Percent (%) Eligible Free (K-12) and Enrollment (K-12). \n",
      "\n",
      "The formula given is Eligible Free Rate = Free Meal Count (K-12) / Enrollment (K-12). So I need to join the schools and frpm tables on CDSCode, filter where County is 'Alameda', then calculate that ratio. \n",
      "\n",
      "Wait, but the schools table has County, and the frpm has County Code. So I need to join on schools.CDSCode = frpm.CDSCode, and then filter schools.County = 'Alameda'. \n",
      "\n",
      "Then, I need to select the Percent (%) Eligible Free (K-12) and calculate the ratio. But since the question asks for the highest rate, I need to order by that rate descending and limit to 1. \n",
      "\n",
      "So the steps are: join schools and frpm on CDSCode, filter County = 'Alameda', calculate the ratio, order by that ratio descending, and select the top one. \n",
      "\n",
      "But wait, the frpm table has Enrollment (K-12) as a REAL value. So the division would be FreeMealCount / Enrollment. \n",
      "\n",
      "But I need to make sure that the division is done correctly. Also, the question says \"highest eligible free rate,\" so the maximum value. \n",
      "\n",
      "So the SQL query would be a JOIN between schools and frpm on CDSCode, filter where schools.County = 'Alameda', then calculate the ratio. Then order by that ratio descending and take the first row. \n",
      "\n",
      "But how to structure the query. Let's think about the columns. The schools table has County, and frpm has the percentages. \n",
      "\n",
      "So the query would be:\n",
      "\n",
      "SELECT MAX(Percent (%) Eligible Free (K-12)) AS max_rate\n",
      "FROM frpm\n",
      "JOIN schools ON frpm.CDSCode = schools.CDSCode\n",
      "WHERE schools.County = 'Alameda';\n",
      "\n",
      "Wait, but MAX might not be the right approach here. Because the ratio is (FreeMealCount / Enrollment), which is a single value per row. So maybe I need to calculate that ratio for each row and then find the maximum. \n",
      "\n",
      "So the correct approach is to calculate the ratio for each row, then find the maximum. \n",
      "\n",
      "So the query would be:\n",
      "\n",
      "SELECT MAX(Free Meal Count (K-12)/Enrollment (K-12)) AS max_rate\n",
      "FROM frpm\n",
      "JOIN schools ON frpm.CDSCode = schools.CDSCode\n",
      "WHERE schools.County = 'Alameda';\n",
      "\n",
      "But wait, in SQLite, division is done with /, and REAL numbers. Also, the columns are in quotes. \n",
      "\n",
      "But the question asks for the highest rate, so the MAX function would give the maximum value. However, if there are multiple rows with the same maximum, it would return the first one. But since the question says \"highest,\" it's okay. \n",
      "\n",
      "But the user might want the actual value, not just the maximum. However, the question says \"the highest eligible free rate,\" so the MAX is correct. \n",
      "\n",
      "But I need to make sure that the columns are correctly named. The frpm table has Free Meal Count (K-12) as a column, and Enrollment (K-12) as another. So the division is FreeMealCount / Enrollment. \n",
      "\n",
      "So the final query would be:\n",
      "\n",
      "SELECT MAX(Free Meal Count (K-12)/Enrollment (K-12)) AS max_rate\n",
      "FROM frpm\n",
      "JOIN schools ON frpm.CDSCode = schools.CDSCode\n",
      "WHERE schools.County = 'Alameda';\n",
      "\n",
      "But wait, the question says \"the highest eligible free rate for K-12 students in the schools in Alameda County.\" So the answer is the maximum of those ratios. \n",
      "\n",
      "However, the user might want the actual value, not the maximum. But the question says \"highest,\" which implies the maximum. \n",
      "\n",
      "So the query should be as above. But I need to check if the columns are correctly referenced. The frpm table has Free Meal Count (K-12) and Enrollment (K-12) as columns. \n",
      "\n",
      "Yes. So the final SQL query is as written.\n",
      "\n",
      "Final answer based om reasoning for this model:\n",
      "\n",
      "\n",
      "```\n",
      "SELECT MAX(Free Meal Count (K-12)/Enrollment (K-12)) AS max_rate\n",
      "FROM frpm\n",
      "JOIN schools ON frpm.CDSCode = schools.CDSCode\n",
      "WHERE schools.County = 'Alameda';\n",
      "```\n",
      "\n",
      "\n",
      "here is avaliable tables and their structure below\n",
      "【DB_ID】 california_schools\n",
      "【Schema】\n",
      "# Table: frpm\n",
      "[\n",
      "(CDSCode:TEXT, maps to schools.CDSCode, Primary Key, Examples: [01100170109835, 01100170112607, 01100170118489]),\n",
      "(Academic Year:TEXT, Examples: [2014-2015]),\n",
      "(County Code:TEXT, Examples: [01, 02, 03]),\n",
      "(District Code:INTEGER, Examples: [10017, 31609, 31617]),\n",
      "(School Code:TEXT, Examples: [0109835, 0112607, 0118489]),\n",
      "(County Name:TEXT, Examples: [Alameda, Alpine, Amador]),\n",
      "(District Name:TEXT),\n",
      "(School Name:TEXT, Examples: [FAME Public Charter]),\n",
      "(District Type:TEXT, Examples: [County Office of Education (COE)]),\n",
      "(School Type:TEXT, Examples: [K-12 Schools (Public)]),\n",
      "(Educational Option Type:TEXT, Examples: [Traditional]),\n",
      "(NSLP Provision Status:TEXT, Examples: [Breakfast Provision 2]),\n",
      "(Charter School (Y/N):INTEGER, Examples: [1, 0]),\n",
      "(Charter School Number:TEXT, Examples: [0728, 0811, 1049]),\n",
      "(Charter Funding Type:TEXT, Examples: [Directly funded]),\n",
      "(IRC:INTEGER, Examples: [1, 0]),\n",
      "(Low Grade:TEXT, Examples: [K, 9, 1]),\n",
      "(High Grade:TEXT, Examples: [12, 8, 5]),\n",
      "(Enrollment (K-12):REAL, Examples: [1087.0, 395.0, 244.0]),\n",
      "(Free Meal Count (K-12):REAL, Examples: [565.0, 186.0, 134.0]),\n",
      "(Percent (%) Eligible Free (K-12):REAL, Examples: [0.519779208831647, 0.470886075949367, 0.549180327868853]),\n",
      "(FRPM Count (K-12):REAL, Examples: [715.0, 186.0, 175.0]),\n",
      "(Percent (%) Eligible FRPM (K-12):REAL, Examples: [0.657773689052438, 0.470886075949367, 0.717213114754098]),\n",
      "(Enrollment (Ages 5-17):REAL, Examples: [1070.0, 376.0, 230.0]),\n",
      "(Free Meal Count (Ages 5-17):REAL, Examples: [553.0, 182.0, 128.0]),\n",
      "(Percent (%) Eligible Free (Ages 5-17):REAL, Examples: [0.516822429906542, 0.484042553191489, 0.556521739130435]),\n",
      "(FRPM Count (Ages 5-17):REAL, Examples: [702.0, 182.0, 168.0]),\n",
      "(Percent (%) Eligible FRPM (Ages 5-17):REAL, Examples: [0.65607476635514, 0.484042553191489, 0.730434782608696]),\n",
      "(2013-14 CALPADS Fall 1 Certification Status:INTEGER, Examples: [1])\n",
      "]\n",
      "# Table: satscores\n",
      "[\n",
      "(cds:TEXT, maps to schools.CDSCode, Primary Key, Examples: [10101080000000, 10101080109991, 10101080111682]),\n",
      "(rtype:TEXT, Examples: [D, S]),\n",
      "(sname:TEXT, Examples: [FAME Public Charter]),\n",
      "(dname:TEXT, Examples: [Alameda County Office of Education]),\n",
      "(cname:TEXT, Examples: [Alameda, Amador, Butte]),\n",
      "(enroll12:INTEGER, Examples: [398, 62, 75]),\n",
      "(NumTstTakr:INTEGER, Examples: [88, 17, 71]),\n",
      "(AvgScrRead:INTEGER, Examples: [418, 503, 397]),\n",
      "(AvgScrMath:INTEGER, Examples: [418, 546, 387]),\n",
      "(AvgScrWrite:INTEGER, Examples: [417, 505, 395]),\n",
      "(NumGE1500:INTEGER, Examples: [14, 9, 5])\n",
      "]\n",
      "# Table: schools\n",
      "[\n",
      "(CDSCode:TEXT, Primary Key, Examples: [01100170000000, 01100170109835, 01100170112607]),\n",
      "(NCESDist:TEXT, Examples: [0691051, 0600002, 0600003]),\n",
      "(NCESSchool:TEXT, Examples: [10546, 10947, 12283]),\n",
      "(StatusType:TEXT, Examples: [Active, Closed, Merged]),\n",
      "(County:TEXT, Examples: [Alameda, Alpine, Amador]),\n",
      "(District:TEXT),\n",
      "(School:TEXT, Examples: [FAME Public Charter]),\n",
      "(Street:TEXT, Examples: [313 West Winton Avenue]),\n",
      "(StreetAbr:TEXT, Examples: [313 West Winton Ave.]),\n",
      "(City:TEXT, Examples: [Hayward, Newark, Oakland]),\n",
      "(Zip:TEXT, Examples: [94544-1136, 94560-5359, 94612-3355]),\n",
      "(State:TEXT, Examples: [CA]),\n",
      "(MailStreet:TEXT, Examples: [313 West Winton Avenue]),\n",
      "(MailStrAbr:TEXT, Examples: [313 West Winton Ave.]),\n",
      "(MailCity:TEXT, Examples: [Hayward, Newark, Oakland]),\n",
      "(MailZip:TEXT, Examples: [94544-1136, 94560-5359, 94612]),\n",
      "(MailState:TEXT, Examples: [CA]),\n",
      "(Phone:TEXT, Examples: [(510) 887-0152, (510) 596-8901, (510) 686-4131]),\n",
      "(Ext:TEXT, Examples: [130, 1240, 1200]),\n",
      "(Website:TEXT, Examples: [www.acoe.org]),\n",
      "(OpenDate:DATE, Examples: [2005-08-29]),\n",
      "(ClosedDate:DATE, Examples: [2015-07-31]),\n",
      "(Charter:INTEGER, Examples: [1, 0]),\n",
      "(CharterNum:TEXT, Examples: [0728, 0811, 1049]),\n",
      "(FundingType:TEXT, Examples: [Directly funded]),\n",
      "(DOC:TEXT, Examples: [00, 31, 34]),\n",
      "(DOCType:TEXT, Examples: [County Office of Education (COE)]),\n",
      "(SOC:TEXT, Examples: [65, 66, 60]),\n",
      "(SOCType:TEXT, Examples: [K-12 Schools (Public)]),\n",
      "(EdOpsCode:TEXT, Examples: [TRAD, JUV, COMM]),\n",
      "(EdOpsName:TEXT, Examples: [Traditional]),\n",
      "(EILCode:TEXT, Examples: [ELEMHIGH, HS, ELEM]),\n",
      "(EILName:TEXT, Examples: [Elementary-High Combination]),\n",
      "(GSoffered:TEXT, Examples: [K-12, 9-12, K-8]),\n",
      "(GSserved:TEXT, Examples: [K-12, 9-12, K-7]),\n",
      "(Virtual:TEXT, Examples: [P, N, F]),\n",
      "(Magnet:INTEGER, Examples: [0, 1]),\n",
      "(Latitude:REAL, Examples: [37.658212, 37.521436, 37.80452]),\n",
      "(Longitude:REAL, Examples: [-122.09713, -121.99391, -122.26815]),\n",
      "(AdmFName1:TEXT, Examples: [L Karen, Laura, Clifford]),\n",
      "(AdmLName1:TEXT, Examples: [Monroe, Robell, Thompson]),\n",
      "(AdmEmail1:TEXT),\n",
      "(AdmFName2:TEXT, Examples: [Sau-Lim (Lance), Jennifer, Annalisa]),\n",
      "(AdmLName2:TEXT, Examples: [Tsang, Koelling, Moore]),\n",
      "(AdmEmail2:TEXT),\n",
      "(AdmFName3:TEXT, Examples: [Drew, Irma, Vickie]),\n",
      "(AdmLName3:TEXT, Examples: [Sarratore, Munoz, Chang]),\n",
      "(AdmEmail3:TEXT),\n",
      "(LastUpdate:DATE, Examples: [2015-06-23])\n",
      "]\n",
      "【Foreign keys】\n",
      "frpm.CDSCode=schools.CDSCode\n",
      "satscores.cds=schools.CDSCode\n",
      "\n",
      "-- Using valid SQLite and understanding External Knowledge, answer the following questions for the tables provided above.\n",
      "-- What is the highest eligible free rate for K-12 students in the schools in Alameda County?\n",
      "-- External Knowledge: Eligible free rate for K-12 = `Free Meal Count (K-12)` / `Enrollment (K-12)`\n",
      "\n",
      "\n",
      "Generate the SQLite for the above question after thinking step by step: \n",
      "\n",
      "\n",
      "Instructions:\n",
      "- Make sure you only output the information that is asked in the question. If the question asks for a specific column, make sure to only include that column in the SELECT clause, nothing more.\n",
      "- The generated query should return all of the information asked in the question without any missing or extra information.\n",
      "- Before generating the final SQL query, please think through the steps of how to write the query.\n",
      "- Do not misuse column names, keep them in quotes `\n",
      "- Carefully understand what colomns belond to what tables\n",
      "- Use only initial column names, change names prohibited\n",
      "        \n",
      "Output Format:\n",
      "In your answer, please enclose the generated SQL query in a code block:\n",
      "```\n",
      "-- Your SQL query\n",
      "```    \n",
      "and nothing else, no exaplains, no comments (asnwer should be less than 512 characters)\n",
      "\n",
      "Take a deep breath and think step by step to find the correct SQL query in SQLite format.\n",
      "\n",
      "Question repetition: What is the highest eligible free rate for K-12 students in the schools in Alameda County?\n",
      "\n",
      "Be care! Include only what i want it questiona and nothing else<|im_end|>\n",
      "<|im_start|>assistant\n",
      "<think>\n",
      "\n",
      "</think>\n",
      "\n",
      "\n",
      "\n",
      "\n",
      "Максимальное количество токенов в промптах: 36536\n",
      "\n",
      "начинаем скорринг\n",
      "Загружаем чаты с данными...\n",
      "Данные успешно загружены\n",
      "Начали генерацию SQL запросов\n"
     ]
    },
    {
     "name": "stderr",
     "output_type": "stream",
     "text": [
      "Processed prompts: 100%|██████████| 1534/1534 [01:41<00:00, 15.04it/s, est. speed input: 127853.64 toks/s, output: 700.16 toks/s]   "
     ]
    },
    {
     "name": "stdout",
     "output_type": "stream",
     "text": [
      "extract_think количество ошибок:  0\n",
      "extract_sql количество ошибок:  0\n",
      "Закончили генерацию SQL запросов\n",
      "Начали скорр полученных SQL запросов\n"
     ]
    },
    {
     "name": "stderr",
     "output_type": "stream",
     "text": [
      "\n"
     ]
    },
    {
     "name": "stdout",
     "output_type": "stream",
     "text": [
      "Qwen3-1.7B DEV Финальный результат EX: 49.80\n",
      "Qwen3-1.7B процент запросов, которые успешно выполнились DEV: 82.33%\n",
      "====================================================================================================\n",
      "\n",
      "\n",
      "Загружаем чаты с данными...\n",
      "Данные успешно загружены\n",
      "Начали генерацию SQL запросов\n"
     ]
    },
    {
     "name": "stderr",
     "output_type": "stream",
     "text": [
      "Processed prompts: 100%|██████████| 1534/1534 [01:40<00:00, 15.24it/s, est. speed input: 129666.93 toks/s, output: 711.38 toks/s]   "
     ]
    },
    {
     "name": "stdout",
     "output_type": "stream",
     "text": [
      "extract_think количество ошибок:  0\n",
      "extract_sql количество ошибок:  0\n",
      "Закончили генерацию SQL запросов\n",
      "Начали скорр полученных SQL запросов\n"
     ]
    },
    {
     "name": "stderr",
     "output_type": "stream",
     "text": [
      "\n"
     ]
    },
    {
     "name": "stdout",
     "output_type": "stream",
     "text": [
      "Qwen3-1.7B DEV Финальный результат EX: 49.67\n",
      "Qwen3-1.7B процент запросов, которые успешно выполнились DEV: 81.55%\n",
      "====================================================================================================\n",
      "\n",
      "\n",
      "Загружаем чаты с данными...\n",
      "Данные успешно загружены\n",
      "Начали генерацию SQL запросов\n"
     ]
    },
    {
     "name": "stderr",
     "output_type": "stream",
     "text": [
      "Processed prompts: 100%|██████████| 1534/1534 [01:41<00:00, 15.08it/s, est. speed input: 128184.60 toks/s, output: 704.40 toks/s]   "
     ]
    },
    {
     "name": "stdout",
     "output_type": "stream",
     "text": [
      "extract_think количество ошибок:  0\n",
      "extract_sql количество ошибок:  0\n",
      "Закончили генерацию SQL запросов\n",
      "Начали скорр полученных SQL запросов\n"
     ]
    },
    {
     "name": "stderr",
     "output_type": "stream",
     "text": [
      "\n"
     ]
    },
    {
     "name": "stdout",
     "output_type": "stream",
     "text": [
      "Qwen3-1.7B DEV Финальный результат EX: 48.89\n",
      "Qwen3-1.7B процент запросов, которые успешно выполнились DEV: 81.88%\n",
      "====================================================================================================\n",
      "\n",
      "\n",
      "Загружаем чаты с данными...\n",
      "Данные успешно загружены\n",
      "Начали генерацию SQL запросов\n"
     ]
    },
    {
     "name": "stderr",
     "output_type": "stream",
     "text": [
      "Processed prompts: 100%|██████████| 1534/1534 [01:41<00:00, 15.06it/s, est. speed input: 129947.63 toks/s, output: 697.11 toks/s]   "
     ]
    },
    {
     "name": "stdout",
     "output_type": "stream",
     "text": [
      "extract_think количество ошибок:  0\n",
      "extract_sql количество ошибок:  0\n",
      "Закончили генерацию SQL запросов\n",
      "Начали скорр полученных SQL запросов\n"
     ]
    },
    {
     "name": "stderr",
     "output_type": "stream",
     "text": [
      "\n"
     ]
    },
    {
     "name": "stdout",
     "output_type": "stream",
     "text": [
      "Qwen3-1.7B DEV Финальный результат EX: 49.28\n",
      "Qwen3-1.7B процент запросов, которые успешно выполнились DEV: 82.40%\n",
      "====================================================================================================\n",
      "\n",
      "\n",
      "Загружаем чаты с данными...\n",
      "Данные успешно загружены\n",
      "Начали генерацию SQL запросов\n"
     ]
    },
    {
     "name": "stderr",
     "output_type": "stream",
     "text": [
      "Processed prompts: 100%|██████████| 1534/1534 [01:44<00:00, 14.71it/s, est. speed input: 127399.85 toks/s, output: 684.62 toks/s]   "
     ]
    },
    {
     "name": "stdout",
     "output_type": "stream",
     "text": [
      "extract_think количество ошибок:  0\n",
      "extract_sql количество ошибок:  0\n",
      "Закончили генерацию SQL запросов\n",
      "Начали скорр полученных SQL запросов\n"
     ]
    },
    {
     "name": "stderr",
     "output_type": "stream",
     "text": [
      "\n"
     ]
    },
    {
     "name": "stdout",
     "output_type": "stream",
     "text": [
      "Qwen3-1.7B DEV Финальный результат EX: 50.20\n",
      "Qwen3-1.7B процент запросов, которые успешно выполнились DEV: 83.96%\n",
      "====================================================================================================\n",
      "\n",
      "\n",
      "Загружаем чаты с данными...\n",
      "Данные успешно загружены\n",
      "Начали генерацию SQL запросов\n"
     ]
    },
    {
     "name": "stderr",
     "output_type": "stream",
     "text": [
      "Processed prompts: 100%|██████████| 1534/1534 [01:44<00:00, 14.63it/s, est. speed input: 127605.72 toks/s, output: 678.89 toks/s]   "
     ]
    },
    {
     "name": "stdout",
     "output_type": "stream",
     "text": [
      "extract_think количество ошибок:  0\n",
      "extract_sql количество ошибок:  0\n",
      "Закончили генерацию SQL запросов\n",
      "Начали скорр полученных SQL запросов\n"
     ]
    },
    {
     "name": "stderr",
     "output_type": "stream",
     "text": [
      "\n"
     ]
    },
    {
     "name": "stdout",
     "output_type": "stream",
     "text": [
      "Qwen3-1.7B DEV Финальный результат EX: 51.17\n",
      "Qwen3-1.7B процент запросов, которые успешно выполнились DEV: 83.38%\n",
      "====================================================================================================\n",
      "\n",
      "\n",
      "Загружаем чаты с данными...\n",
      "Данные успешно загружены\n",
      "Начали генерацию SQL запросов\n"
     ]
    },
    {
     "name": "stderr",
     "output_type": "stream",
     "text": [
      "Processed prompts: 100%|██████████| 1534/1534 [01:44<00:00, 14.62it/s, est. speed input: 127367.31 toks/s, output: 680.43 toks/s]   "
     ]
    },
    {
     "name": "stdout",
     "output_type": "stream",
     "text": [
      "extract_think количество ошибок:  0\n",
      "extract_sql количество ошибок:  0\n",
      "Закончили генерацию SQL запросов\n",
      "Начали скорр полученных SQL запросов\n"
     ]
    },
    {
     "name": "stderr",
     "output_type": "stream",
     "text": [
      "\n"
     ]
    },
    {
     "name": "stdout",
     "output_type": "stream",
     "text": [
      "Qwen3-1.7B DEV Финальный результат EX: 49.02\n",
      "Qwen3-1.7B процент запросов, которые успешно выполнились DEV: 82.99%\n",
      "====================================================================================================\n",
      "\n",
      "\n",
      "Загружаем чаты с данными...\n",
      "Данные успешно загружены\n",
      "Начали генерацию SQL запросов\n"
     ]
    },
    {
     "name": "stderr",
     "output_type": "stream",
     "text": [
      "Processed prompts: 100%|██████████| 1534/1534 [01:43<00:00, 14.77it/s, est. speed input: 127995.38 toks/s, output: 686.37 toks/s]     "
     ]
    },
    {
     "name": "stdout",
     "output_type": "stream",
     "text": [
      "extract_think количество ошибок:  0\n",
      "extract_sql количество ошибок:  0\n",
      "Закончили генерацию SQL запросов\n",
      "Начали скорр полученных SQL запросов\n"
     ]
    },
    {
     "name": "stderr",
     "output_type": "stream",
     "text": [
      "\n"
     ]
    },
    {
     "name": "stdout",
     "output_type": "stream",
     "text": [
      "Qwen3-1.7B DEV Финальный результат EX: 48.57\n",
      "Qwen3-1.7B процент запросов, которые успешно выполнились DEV: 82.99%\n",
      "====================================================================================================\n",
      "\n",
      "\n",
      "Загружаем чаты с данными...\n",
      "Данные успешно загружены\n",
      "Начали генерацию SQL запросов\n"
     ]
    },
    {
     "name": "stderr",
     "output_type": "stream",
     "text": [
      "Processed prompts: 100%|██████████| 1534/1534 [01:43<00:00, 14.78it/s, est. speed input: 128315.74 toks/s, output: 691.30 toks/s]     "
     ]
    },
    {
     "name": "stdout",
     "output_type": "stream",
     "text": [
      "extract_think количество ошибок:  0\n",
      "extract_sql количество ошибок:  0\n",
      "Закончили генерацию SQL запросов\n",
      "Начали скорр полученных SQL запросов\n"
     ]
    },
    {
     "name": "stderr",
     "output_type": "stream",
     "text": [
      "\n"
     ]
    },
    {
     "name": "stdout",
     "output_type": "stream",
     "text": [
      "Qwen3-1.7B DEV Финальный результат EX: 48.96\n",
      "Qwen3-1.7B процент запросов, которые успешно выполнились DEV: 81.94%\n",
      "====================================================================================================\n",
      "\n",
      "\n",
      "Загружаем чаты с данными...\n",
      "Данные успешно загружены\n",
      "Начали генерацию SQL запросов\n"
     ]
    },
    {
     "name": "stderr",
     "output_type": "stream",
     "text": [
      "Processed prompts: 100%|██████████| 1534/1534 [01:44<00:00, 14.72it/s, est. speed input: 127935.31 toks/s, output: 680.32 toks/s]   "
     ]
    },
    {
     "name": "stdout",
     "output_type": "stream",
     "text": [
      "extract_think количество ошибок:  0\n",
      "extract_sql количество ошибок:  0\n",
      "Закончили генерацию SQL запросов\n",
      "Начали скорр полученных SQL запросов\n"
     ]
    },
    {
     "name": "stderr",
     "output_type": "stream",
     "text": [
      "\n"
     ]
    },
    {
     "name": "stdout",
     "output_type": "stream",
     "text": [
      "Qwen3-1.7B DEV Финальный результат EX: 48.83\n",
      "Qwen3-1.7B процент запросов, которые успешно выполнились DEV: 82.66%\n",
      "====================================================================================================\n",
      "\n",
      "\n",
      "Загружаем чаты с данными...\n",
      "Данные успешно загружены\n",
      "Начали генерацию SQL запросов\n"
     ]
    },
    {
     "name": "stderr",
     "output_type": "stream",
     "text": [
      "Processed prompts: 100%|██████████| 1534/1534 [01:45<00:00, 14.59it/s, est. speed input: 126897.49 toks/s, output: 675.94 toks/s]   "
     ]
    },
    {
     "name": "stdout",
     "output_type": "stream",
     "text": [
      "extract_think количество ошибок:  0\n",
      "extract_sql количество ошибок:  0\n",
      "Закончили генерацию SQL запросов\n",
      "Начали скорр полученных SQL запросов\n"
     ]
    },
    {
     "name": "stderr",
     "output_type": "stream",
     "text": [
      "\n"
     ]
    },
    {
     "name": "stdout",
     "output_type": "stream",
     "text": [
      "Qwen3-1.7B DEV Финальный результат EX: 49.15\n",
      "Qwen3-1.7B процент запросов, которые успешно выполнились DEV: 81.68%\n",
      "====================================================================================================\n",
      "\n",
      "\n",
      "Загружаем чаты с данными...\n",
      "Данные успешно загружены\n",
      "Начали генерацию SQL запросов\n"
     ]
    },
    {
     "name": "stderr",
     "output_type": "stream",
     "text": [
      "Processed prompts: 100%|██████████| 1534/1534 [01:44<00:00, 14.67it/s, est. speed input: 127279.89 toks/s, output: 680.42 toks/s]   "
     ]
    },
    {
     "name": "stdout",
     "output_type": "stream",
     "text": [
      "extract_think количество ошибок:  0\n",
      "extract_sql количество ошибок:  0\n",
      "Закончили генерацию SQL запросов\n",
      "Начали скорр полученных SQL запросов\n"
     ]
    },
    {
     "name": "stderr",
     "output_type": "stream",
     "text": [
      "\n"
     ]
    },
    {
     "name": "stdout",
     "output_type": "stream",
     "text": [
      "Qwen3-1.7B DEV Финальный результат EX: 48.63\n",
      "Qwen3-1.7B процент запросов, которые успешно выполнились DEV: 81.75%\n",
      "====================================================================================================\n",
      "\n",
      "\n",
      "Загружаем чаты с данными...\n",
      "Данные успешно загружены\n",
      "Начали генерацию SQL запросов\n"
     ]
    },
    {
     "name": "stderr",
     "output_type": "stream",
     "text": [
      "Processed prompts: 100%|██████████| 1534/1534 [01:43<00:00, 14.76it/s, est. speed input: 127927.66 toks/s, output: 681.71 toks/s]   "
     ]
    },
    {
     "name": "stdout",
     "output_type": "stream",
     "text": [
      "extract_think количество ошибок:  0\n",
      "extract_sql количество ошибок:  0\n",
      "Закончили генерацию SQL запросов\n",
      "Начали скорр полученных SQL запросов\n"
     ]
    },
    {
     "name": "stderr",
     "output_type": "stream",
     "text": [
      "\n"
     ]
    },
    {
     "name": "stdout",
     "output_type": "stream",
     "text": [
      "Qwen3-1.7B DEV Финальный результат EX: 49.67\n",
      "Qwen3-1.7B процент запросов, которые успешно выполнились DEV: 82.99%\n",
      "====================================================================================================\n",
      "\n",
      "\n",
      "Загружаем чаты с данными...\n",
      "Данные успешно загружены\n",
      "Начали генерацию SQL запросов\n"
     ]
    },
    {
     "name": "stderr",
     "output_type": "stream",
     "text": [
      "Processed prompts: 100%|██████████| 1534/1534 [01:45<00:00, 14.60it/s, est. speed input: 126114.71 toks/s, output: 685.16 toks/s]   "
     ]
    },
    {
     "name": "stdout",
     "output_type": "stream",
     "text": [
      "extract_think количество ошибок:  0\n",
      "extract_sql количество ошибок:  0\n",
      "Закончили генерацию SQL запросов\n",
      "Начали скорр полученных SQL запросов\n"
     ]
    },
    {
     "name": "stderr",
     "output_type": "stream",
     "text": [
      "\n"
     ]
    },
    {
     "name": "stdout",
     "output_type": "stream",
     "text": [
      "Qwen3-1.7B DEV Финальный результат EX: 50.78\n",
      "Qwen3-1.7B процент запросов, которые успешно выполнились DEV: 82.99%\n",
      "====================================================================================================\n",
      "\n",
      "\n",
      "Загружаем чаты с данными...\n",
      "Данные успешно загружены\n",
      "Начали генерацию SQL запросов\n"
     ]
    },
    {
     "name": "stderr",
     "output_type": "stream",
     "text": [
      "Processed prompts: 100%|██████████| 1534/1534 [01:42<00:00, 15.02it/s, est. speed input: 129540.85 toks/s, output: 697.00 toks/s]   "
     ]
    },
    {
     "name": "stdout",
     "output_type": "stream",
     "text": [
      "extract_think количество ошибок:  0\n",
      "extract_sql количество ошибок:  0\n",
      "Закончили генерацию SQL запросов\n",
      "Начали скорр полученных SQL запросов\n"
     ]
    },
    {
     "name": "stderr",
     "output_type": "stream",
     "text": [
      "\n"
     ]
    },
    {
     "name": "stdout",
     "output_type": "stream",
     "text": [
      "Qwen3-1.7B DEV Финальный результат EX: 49.54\n",
      "Qwen3-1.7B процент запросов, которые успешно выполнились DEV: 82.66%\n",
      "====================================================================================================\n",
      "\n",
      "\n",
      "Загружаем чаты с данными...\n",
      "Данные успешно загружены\n",
      "Начали генерацию SQL запросов\n"
     ]
    },
    {
     "name": "stderr",
     "output_type": "stream",
     "text": [
      "Processed prompts: 100%|██████████| 1534/1534 [01:44<00:00, 14.64it/s, est. speed input: 126659.92 toks/s, output: 683.66 toks/s]   "
     ]
    },
    {
     "name": "stdout",
     "output_type": "stream",
     "text": [
      "extract_think количество ошибок:  0\n",
      "extract_sql количество ошибок:  0\n",
      "Закончили генерацию SQL запросов\n",
      "Начали скорр полученных SQL запросов\n"
     ]
    },
    {
     "name": "stderr",
     "output_type": "stream",
     "text": [
      "\n"
     ]
    },
    {
     "name": "stdout",
     "output_type": "stream",
     "text": [
      "Qwen3-1.7B DEV Финальный результат EX: 49.54\n",
      "Qwen3-1.7B процент запросов, которые успешно выполнились DEV: 82.59%\n",
      "====================================================================================================\n",
      "\n",
      "\n",
      "Загружаем чаты с данными...\n",
      "Данные успешно загружены\n",
      "Начали генерацию SQL запросов\n"
     ]
    },
    {
     "name": "stderr",
     "output_type": "stream",
     "text": [
      "Processed prompts: 100%|██████████| 1534/1534 [01:44<00:00, 14.72it/s, est. speed input: 126691.68 toks/s, output: 683.33 toks/s]   "
     ]
    },
    {
     "name": "stdout",
     "output_type": "stream",
     "text": [
      "extract_think количество ошибок:  0\n",
      "extract_sql количество ошибок:  0\n",
      "Закончили генерацию SQL запросов\n",
      "Начали скорр полученных SQL запросов\n"
     ]
    },
    {
     "name": "stderr",
     "output_type": "stream",
     "text": [
      "\n"
     ]
    },
    {
     "name": "stdout",
     "output_type": "stream",
     "text": [
      "Qwen3-1.7B DEV Финальный результат EX: 49.28\n",
      "Qwen3-1.7B процент запросов, которые успешно выполнились DEV: 82.59%\n",
      "====================================================================================================\n",
      "\n",
      "\n",
      "Загружаем чаты с данными...\n",
      "Данные успешно загружены\n",
      "Начали генерацию SQL запросов\n"
     ]
    },
    {
     "name": "stderr",
     "output_type": "stream",
     "text": [
      "Processed prompts: 100%|██████████| 1534/1534 [01:40<00:00, 15.25it/s, est. speed input: 128794.19 toks/s, output: 708.45 toks/s]   "
     ]
    },
    {
     "name": "stdout",
     "output_type": "stream",
     "text": [
      "extract_think количество ошибок:  0\n",
      "extract_sql количество ошибок:  0\n",
      "Закончили генерацию SQL запросов\n",
      "Начали скорр полученных SQL запросов\n"
     ]
    },
    {
     "name": "stderr",
     "output_type": "stream",
     "text": [
      "\n"
     ]
    },
    {
     "name": "stdout",
     "output_type": "stream",
     "text": [
      "Qwen3-1.7B DEV Финальный результат EX: 49.35\n",
      "Qwen3-1.7B процент запросов, которые успешно выполнились DEV: 82.20%\n",
      "====================================================================================================\n",
      "\n",
      "\n",
      "Загружаем чаты с данными...\n",
      "Данные успешно загружены\n",
      "Начали генерацию SQL запросов\n"
     ]
    },
    {
     "name": "stderr",
     "output_type": "stream",
     "text": [
      "Processed prompts: 100%|██████████| 1534/1534 [01:41<00:00, 15.15it/s, est. speed input: 127543.88 toks/s, output: 703.69 toks/s]   "
     ]
    },
    {
     "name": "stdout",
     "output_type": "stream",
     "text": [
      "extract_think количество ошибок:  0\n",
      "extract_sql количество ошибок:  0\n",
      "Закончили генерацию SQL запросов\n",
      "Начали скорр полученных SQL запросов\n"
     ]
    },
    {
     "name": "stderr",
     "output_type": "stream",
     "text": [
      "\n"
     ]
    },
    {
     "name": "stdout",
     "output_type": "stream",
     "text": [
      "Qwen3-1.7B DEV Финальный результат EX: 48.83\n",
      "Qwen3-1.7B процент запросов, которые успешно выполнились DEV: 82.66%\n",
      "====================================================================================================\n",
      "\n",
      "\n",
      "Загружаем чаты с данными...\n",
      "Данные успешно загружены\n",
      "Начали генерацию SQL запросов\n"
     ]
    },
    {
     "name": "stderr",
     "output_type": "stream",
     "text": [
      "Processed prompts: 100%|██████████| 1534/1534 [01:41<00:00, 15.14it/s, est. speed input: 127963.11 toks/s, output: 703.20 toks/s]   "
     ]
    },
    {
     "name": "stdout",
     "output_type": "stream",
     "text": [
      "extract_think количество ошибок:  0\n",
      "extract_sql количество ошибок:  0\n",
      "Закончили генерацию SQL запросов\n",
      "Начали скорр полученных SQL запросов\n"
     ]
    },
    {
     "name": "stderr",
     "output_type": "stream",
     "text": [
      "\n"
     ]
    },
    {
     "name": "stdout",
     "output_type": "stream",
     "text": [
      "Qwen3-1.7B DEV Финальный результат EX: 48.96\n",
      "Qwen3-1.7B процент запросов, которые успешно выполнились DEV: 82.20%\n",
      "====================================================================================================\n",
      "\n",
      "\n"
     ]
    }
   ],
   "source": [
    "run_cot_experiment(model,arr_seeds,arr_versions, type_cot,num_observations=num_observations)"
   ]
  },
  {
   "cell_type": "markdown",
   "id": "51d986a1-0b51-4b35-9b9c-0acb184dcbda",
   "metadata": {},
   "source": [
    "## 7 наблюдений"
   ]
  },
  {
   "cell_type": "code",
   "execution_count": 7,
   "id": "1df4a57b-8c8c-4ec0-ba80-8dd616f717e7",
   "metadata": {},
   "outputs": [
    {
     "name": "stdout",
     "output_type": "stream",
     "text": [
      "[257, 82, 478, 644, 760, 493, 376, 993, 50, 301, 247, 269, 280, 447, 262, 983, 666, 425, 578, 859]\n",
      "model: Qwen3-1.7B\n"
     ]
    }
   ],
   "source": [
    "n= 20\n",
    "arr_seeds = [random.randint(0,1000) for _ in range(n)]\n",
    "arr_versions = [x for x in range(n)]\n",
    "model = \"Qwen3-1.7B\"\n",
    "num_observations = 7\n",
    "type_cot = 'all_new'\n",
    "print(arr_seeds)\n",
    "print(f\"model: {model}\")"
   ]
  },
  {
   "cell_type": "code",
   "execution_count": 8,
   "id": "6399f201-99a9-4c61-86dc-3570cf4878cd",
   "metadata": {
    "scrolled": true
   },
   "outputs": [
    {
     "name": "stdout",
     "output_type": "stream",
     "text": [
      "Загружаем модель...\n"
     ]
    },
    {
     "name": "stderr",
     "output_type": "stream",
     "text": [
      "Loading safetensors checkpoint shards:   0% Completed | 0/2 [00:00<?, ?it/s]\n",
      "Loading safetensors checkpoint shards:  50% Completed | 1/2 [00:00<00:00,  1.10it/s]\n",
      "Loading safetensors checkpoint shards: 100% Completed | 2/2 [00:00<00:00,  2.10it/s]\n",
      "\u001b[1;36m(VllmWorker rank=0 pid=2915104)\u001b[0;0m \n"
     ]
    },
    {
     "name": "stdout",
     "output_type": "stream",
     "text": [
      "Модель успешно загружена\n",
      "model_config {'model': '/data/home/vkropoti/models/Qwen3-1.7B', 'tensor_parallel_size': 2, 'max_model_len': 40000, 'max_new_tokens': 1500, 'temperature': 0, 'top_k': 1, 'top_p': 0.8, 'gpu_memory_utilization': 0.9, 'trust_remote_code': False, 'seed': 257}\n",
      "\n",
      "prompts_config {'path_dev_json': '/home/vkropoti/vllm/dev.json', 'path_sql_dbs': '/data/home/vkropoti/sql_data/dev_databases/', 'use_reasoning': False, 'paths_to_cot': ['/data/home/vkropoti/sql_llm_answers/bird_dev_m_schema/sql_all_new_Qwen3-1.7B-reasoning-v0', '/data/home/vkropoti/sql_llm_answers/bird_dev_m_schema/sql_all_new_Qwen3-1.7B-reasoning-v1', '/data/home/vkropoti/sql_llm_answers/bird_dev_m_schema/sql_all_new_Qwen3-1.7B-reasoning-v2', '/data/home/vkropoti/sql_llm_answers/bird_dev_m_schema/sql_all_new_Qwen3-1.7B-reasoning-v3', '/data/home/vkropoti/sql_llm_answers/bird_dev_m_schema/sql_all_new_Qwen3-1.7B-reasoning-v4', '/data/home/vkropoti/sql_llm_answers/bird_dev_m_schema/sql_all_new_Qwen3-1.7B-reasoning-v5', '/data/home/vkropoti/sql_llm_answers/bird_dev_m_schema/sql_all_new_Qwen3-1.7B-reasoning-v6']}\n",
      "\n",
      "save_config {'path_sql_save': '/data/home/vkropoti/sql_llm_answers/bird_dev_m_schema/sql_all_Qwen3-1.7B-cot_all_new_think==False_nobs7-v0', 'path_think_save': None, 'path_sql_answers_save': '/data/home/vkropoti/sql_llm_answers/bird_dev_m_schema/sql_predict_Qwen3-1.7B-cot_all_new_think==False_nobs7-v0', 'path_to_save_scores': '/data/home/vkropoti/sql_llm_answers/bird_dev_m_schema/sql_results_Qwen3-1.7B-cot_all_new_think==False_nobs7-v0', 'path_to_save_executed': '/data/home/vkropoti/sql_llm_answers/bird_dev_m_schema/sql_executed_Qwen3-1.7B-cot_all_new_think==False_nobs7-v0'}\n",
      "\n",
      "Модель успешно загружена\n",
      "Пример промпта\n",
      "<|im_start|>system\n",
      "\n",
      "You are a data science expert. Below, you are provided with a database schema and a natural language question. Your task is to understand the schema and generate a valid SQL query to answer the question.\n",
      "\n",
      "Database Engine: SQLite\n",
      "\n",
      "You will be given an additional analysis of other models, please take it into account, so the plan is\n",
      "1. Analyse given addition analysis from other models (find in which analysis the same and differ, how to use that to answer question)\n",
      "2. Combine best from previous part and think how to solve the problem (analyze tables, take care what columns avaliable in each table and so on, check the syntacsis)\n",
      "3. Create the answers. The answer should be only sql query.\n",
      "\n",
      "Carefully follow the instruction and add <|im_end|> and the end of the final answer<|im_end|>\n",
      "<|im_start|>user\n",
      "Here is addition analysis from other models which can be helpfull, please take this into account but be careful (choose the best from each analysis, combine them to make the most proper answer):\n",
      "\n",
      "model 0 analysis:\n",
      " Reasoning process:\n",
      "\n",
      "Okay, let's tackle this question step by step. The user wants the highest eligible free rate for K-12 students in Alameda County. \n",
      "\n",
      "First, I need to figure out which tables are involved. The eligible free rate is calculated as Free Meal Count (K-12) divided by Enrollment (K-12). So I need data from the frpm table. But the frpm table has the Free Meal Count and Enrollment values. However, the schools table has the County information, so I need to join the schools table with the frpm table on the CDSCode.\n",
      "\n",
      "Wait, the foreign keys are frpm.CDSCode = schools.CDSCode and satscores.cds = schools.CDSCode. So the schools table has the CDSCode, which is linked to frpm. So the plan is to join schools with frpm on CDSCode, filter where the County is 'Alameda County', then calculate the ratio.\n",
      "\n",
      "But wait, the schools table's County column has examples like 'Alameda', 'Alpine', etc. So the County column is a TEXT field. So I need to check if the County is 'Alameda' exactly. But maybe the actual county names might have spaces or different formats. However, the examples given in the schools table's County column are 'Alameda', so assuming that 'Alameda' is the correct value.\n",
      "\n",
      "So the steps are:\n",
      "\n",
      "1. Join schools and frpm on CDSCode.\n",
      "2. Filter where schools.County = 'Alameda'.\n",
      "3. Calculate Free Meal Count (K-12) / Enrollment (K-12) for each school.\n",
      "4. Find the maximum value of this ratio.\n",
      "\n",
      "But the question says \"highest eligible free rate\", so we need the maximum value from the calculated ratio.\n",
      "\n",
      "Now, the SQL query would need to select the maximum of (Free Meal Count (K-12) / Enrollment (K-12)) from the joined tables where County is 'Alameda'.\n",
      "\n",
      "But wait, the frpm table has the Free Meal Count (K-12) as a REAL number and Enrollment (K-12) as a REAL number. So the division would be done in the query.\n",
      "\n",
      "So the SQL query would be:\n",
      "\n",
      "SELECT MAX(Free Meal Count (K-12) / Enrollment (K-12)) FROM schools JOIN frpm ON schools.CDSCode = frpm.CDSCode WHERE schools.County = 'Alameda';\n",
      "\n",
      "But need to check if the County is exactly 'Alameda' or if there's a need to use a LIKE clause. The examples given in the schools table's County column are 'Alameda', so it's likely that the exact value is 'Alameda'. However, in practice, sometimes counties might have different names, but based on the given data, we can assume that.\n",
      "\n",
      "Another thing: the schools table has a District column, but the County is the primary field here. So the JOIN is on CDSCode, which is the same in both tables.\n",
      "\n",
      "So the final query would be as above. But need to make sure that the columns are correctly referenced. The frpm table has Free Meal Count (K-12) as a column, and Enrollment (K-12) as another column. So the division is between those two.\n",
      "\n",
      "Therefore, the SQL query should select the maximum of that ratio from the joined tables where the county is Alameda.\n",
      "\n",
      "Final answer based om reasoning for this model:\n",
      "\n",
      "\n",
      "```\n",
      "SELECT MAX(Free Meal Count (K-12)/Enrollment (K-12)) FROM schools JOIN frpm ON schools.CDSCode = frpm.CDSCode WHERE schools.County = 'Alameda';\n",
      "```\n",
      "\n",
      "model 1 analysis:\n",
      " Reasoning process:\n",
      "\n",
      "Okay, let's tackle this question. The user wants the highest eligible free rate for K-12 students in Alameda County. \n",
      "\n",
      "First, I need to figure out which tables are involved. The relevant tables here are 'frpm' and 'schools' because the 'frpm' table has the eligible free rates and the 'schools' table has the county information. \n",
      "\n",
      "The 'schools' table has a 'County' column, and we need to filter for Alameda County. So, I'll start by joining the 'schools' table with the 'frpm' table on the 'CDSCode' since that's the primary key link. \n",
      "\n",
      "Next, the eligible free rate is calculated as Free Meal Count (K-12) divided by Enrollment (K-12). But wait, the question specifies K-12 students, so I need to make sure that the rows in frpm are for K-12. The 'Low Grade' and 'High Grade' columns in frpm might indicate the grade levels, but the question is specifically about K-12. So maybe the 'Low Grade' is K, and the 'High Grade' is 12. But the user might just want the rate for K-12 students, so perhaps we can assume that the rows in frpm where Low Grade is 'K' and High Grade is '12' are the ones we need. However, the problem statement says \"K-12 students,\" so maybe we need to check if the frpm data includes that. But the user's question doesn't specify filtering by grade, just K-12. So perhaps the frpm table's rows are already for K-12, or we need to check the data.\n",
      "\n",
      "But since the question is about K-12, maybe the frpm table's rows are for K-12. However, the 'Low Grade' and 'High Grade' columns might not be directly relevant here. The user's question is about the highest eligible free rate for K-12 students, so the frpm table's rows where the school is in Alameda County and the grade levels are K-12. But the problem is that the 'frpm' table's 'Low Grade' is 'K' and 'High Grade' is '12', so perhaps we need to filter where Low Grade is 'K' and High Grade is '12'.\n",
      "\n",
      "But the user's question might not require that, since the question is about K-12 students in general. However, the data might have entries for K-12, so perhaps we can just use the frpm table's rows where the school is in Alameda County. \n",
      "\n",
      "Wait, the 'schools' table has a 'County' column, so we need to join on that. So the plan is: join schools and frpm on CDSCode, filter where County is 'Alameda', then calculate the eligible free rate as Free Meal Count (K-12) / Enrollment (K-12), and find the maximum value.\n",
      "\n",
      "But the user's question says \"highest eligible free rate for K-12 students in the schools in Alameda County\". So the steps are:\n",
      "\n",
      "1. Join schools and frpm on CDSCode.\n",
      "2. Filter schools where County is 'Alameda'.\n",
      "3. Calculate the eligible free rate for K-12 students (Free Meal Count (K-12) / Enrollment (K-12)).\n",
      "4. Find the maximum value of this rate.\n",
      "\n",
      "But the problem is that the frpm table's 'Low Grade' and 'High Grade' might not be directly relevant here. However, the question is about K-12 students, so maybe the frpm table's rows are for K-12. Alternatively, the 'Low Grade' is 'K' and 'High Grade' is '12', so the rows where Low Grade is 'K' and High Grade is '12' are for K-12. Therefore, we need to filter those rows.\n",
      "\n",
      "So the query would be:\n",
      "\n",
      "SELECT MAX( (Free Meal Count (K-12) / Enrollment (K-12)) ) AS highest_rate\n",
      "FROM frpm\n",
      "JOIN schools ON frpm.CDSCode = schools.CDSCode\n",
      "WHERE schools.County = 'Alameda' AND frpm.Low Grade = 'K' AND frpm.High Grade = '12';\n",
      "\n",
      "But the user's question might not require checking the grade levels, just the K-12 students. However, the data might not have entries for K-12. But the problem says \"K-12 students\", so perhaps the frpm table's rows are for K-12. But the 'Low Grade' and 'High Grade' columns are part of the frpm table. So the correct approach is to check those columns.\n",
      "\n",
      "But the user's question is phrased as \"highest eligible free rate for K-12 students in the schools in Alameda County\". So the answer would require that the frpm data includes K-12 students. Therefore, the query would need to filter where Low Grade is 'K' and High Grade is '12'.\n",
      "\n",
      "But the user might not have that data. However, based on the schema, the frpm table's columns include Low Grade and High Grade, so the answer must consider those.\n",
      "\n",
      "So the final SQL query would be:\n",
      "\n",
      "SELECT MAX( (Free Meal Count (K-12) / Enrollment (K-12)) ) AS highest_rate\n",
      "FROM frpm\n",
      "JOIN schools ON frpm.CDSCode = schools.CDSCode\n",
      "WHERE schools.County = 'Alameda' AND frpm.Low Grade = 'K' AND frpm.High Grade = '12';\n",
      "\n",
      "But the problem is that in SQLite, the column names are in quotes. Also, the user wants only the column in the SELECT clause, which is the highest rate. So the query should select the maximum of that rate.\n",
      "\n",
      "But the question might not require the actual values, just the maximum. So the query would be as above.\n",
      "\n",
      "Wait, but the user's question is to get the highest eligible free rate. So the SQL would be to select the maximum of (Free Meal Count (K-12)/Enrollment (K-12)) where the school is in Alameda County and the grade levels are K-12.\n",
      "\n",
      "Therefore, the correct query is as above.\n",
      "\n",
      "Final answer based om reasoning for this model:\n",
      "\n",
      "\n",
      "```\n",
      "SELECT MAX((Free Meal Count (K-12) / Enrollment (K-12))) AS highest_rate\n",
      "FROM frpm\n",
      "JOIN schools ON frpm.CDSCode = schools.CDSCode\n",
      "WHERE schools.County = 'Alameda' AND frpm.Low Grade = 'K' AND frpm.High Grade = '12';\n",
      "```\n",
      "\n",
      "model 2 analysis:\n",
      " Reasoning process:\n",
      "\n",
      "Okay, let's tackle this question. The user wants the highest eligible free rate for K-12 students in Alameda County. \n",
      "\n",
      "First, I need to figure out which tables are involved. The relevant tables here are 'schools' and 'frpm' because they have the CDSCode and County information. The 'satscores' table might not be necessary here since the question is about free meal counts and enrollments.\n",
      "\n",
      "The 'schools' table has the County field, so I can filter for County = 'Alameda'. The 'frpm' table has 'County Name' and 'Enrollment (K-12)', 'Free Meal Count (K-12)', and 'Percent (%) Eligible Free (K-12)' columns. \n",
      "\n",
      "Wait, the 'frpm' table's 'County Name' might have the county names, but the 'schools' table's 'County' field is a TEXT field. So I need to join the two tables on schools.CDSCode = frpm.CDSCode. Then, filter where schools.County = 'Alameda'.\n",
      "\n",
      "But the question is about the highest eligible free rate. So I need to calculate the percentage from the 'Percent (%) Eligible Free (K-12)' column. Then, find the maximum value among those that are in Alameda County.\n",
      "\n",
      "So the steps are: join schools and frpm on CDSCode, filter where County is 'Alameda', select the Percent column, order by it descending, limit 1.\n",
      "\n",
      "Wait, but the 'frpm' table has 'Percent (%) Eligible Free (K-12)' as a column. So the SQL would be:\n",
      "\n",
      "SELECT MAX(Percent (%) Eligible Free (K-12)) FROM frpm JOIN schools ON frpm.CDSCode = schools.CDSCode WHERE schools.County = 'Alameda';\n",
      "\n",
      "But I need to make sure that the column names are correct. The 'frpm' table has 'Percent (%) Eligible Free (K-12)' as a column, so that's correct. The 'schools' table has 'County' as a column. \n",
      "\n",
      "But the question says \"schools in Alameda County\", so the 'schools' table's County must be 'Alameda'. \n",
      "\n",
      "So the final query would be joining the two tables on CDSCode, filtering the County, then selecting the max of the eligible free rate. \n",
      "\n",
      "But wait, the user wants the highest rate, so MAX() is correct. \n",
      "\n",
      "I need to make sure that the columns are correctly referenced. Also, the 'frpm' table's 'County Name' might have the county name, but the 'schools' table's 'County' is the one to filter. So the join is correct.\n",
      "\n",
      "So the SQL query would be:\n",
      "\n",
      "SELECT MAX(Percent (%) Eligible Free (K-12)) FROM frpm JOIN schools ON frpm.CDSCode = schools.CDSCode WHERE schools.County = 'Alameda';\n",
      "\n",
      "Final answer based om reasoning for this model:\n",
      "\n",
      "\n",
      "```\n",
      "SELECT MAX(Percent (%) Eligible Free (K-12)) FROM frpm JOIN schools ON frpm.CDSCode = schools.CDSCode WHERE schools.County = 'Alameda';\n",
      "```\n",
      "\n",
      "model 3 analysis:\n",
      " Reasoning process:\n",
      "\n",
      "Okay, let's tackle this question. The user wants the highest eligible free rate for K-12 students in Alameda County. \n",
      "\n",
      "First, I need to figure out which tables are involved. The relevant tables here are 'frpm' and 'schools' because the 'frpm' table has the eligible free rates and the 'schools' table has the county information. \n",
      "\n",
      "The 'schools' table has a 'County' column, and we need to filter for Alameda County. So, I'll start by joining the 'schools' table with the 'frpm' table on the 'CDSCode' since that's the primary key link. \n",
      "\n",
      "Next, the eligible free rate is calculated as Free Meal Count (K-12) divided by Enrollment (K-12). But wait, the question specifies K-12 students, so I need to make sure that the rows in frpm are for K-12. The 'Low Grade' and 'High Grade' columns in frpm might indicate the grade levels, but the question is specifically about K-12. So maybe the 'Low Grade' is K, and the 'High Grade' is 12. But the user might just want the rate for K-12 students, so perhaps we can assume that the rows in frpm where Low Grade is 'K' and High Grade is '12' are the ones we need. However, the problem statement says \"K-12 students,\" so maybe the frpm table's data already covers that. But to be safe, maybe we need to filter where Low Grade is 'K' and High Grade is '12'. \n",
      "\n",
      "Wait, the user's question says \"for K-12 students,\" so the frpm data should have entries for K-12. But the 'frpm' table's columns have 'Low Grade' and 'High Grade' as TEXT. So maybe the rows where Low Grade is 'K' and High Grade is '12' are the K-12 students. So I need to filter those rows. \n",
      "\n",
      "So the query would join schools and frpm on CDSCode, filter schools where County is 'Alameda', and then filter frpm where Low Grade is 'K' and High Grade is '12'. Then calculate the percentage (Free Meal Count (K-12) / Enrollment (K-12)) and find the maximum value. \n",
      "\n",
      "But the user wants the highest eligible free rate, so after joining and filtering, I need to compute the percentage and select the maximum. \n",
      "\n",
      "Wait, the question says \"the highest eligible free rate for K-12 students in the schools in Alameda County.\" So the steps are:\n",
      "\n",
      "1. Join schools and frpm on CDSCode.\n",
      "2. Filter schools where County is 'Alameda'.\n",
      "3. Filter frpm where Low Grade is 'K' and High Grade is '12'.\n",
      "4. Calculate the percentage (Free Meal Count (K-12) / Enrollment (K-12)).\n",
      "5. Find the maximum value of this percentage.\n",
      "\n",
      "So the SQL query would select the maximum of the calculated percentage from the joined tables. \n",
      "\n",
      "But how to structure this in SQL. Let's see. The tables are 'schools' and 'frpm'. The join is on schools.CDSCode = frpm.CDSCode. \n",
      "\n",
      "So the query would be:\n",
      "\n",
      "SELECT MAX( (frpm.Free Meal Count (K-12) / frpm.Enrollment (K-12)) * 100 ) AS highest_rate\n",
      "FROM schools\n",
      "JOIN frpm ON schools.CDSCode = frpm.CDSCode\n",
      "WHERE schools.County = 'Alameda' AND frpm.Low Grade = 'K' AND frpm.High Grade = '12';\n",
      "\n",
      "Wait, but the columns in the frpm table are named with quotes. The user specified that the columns should be in quotes. So the column names in the frpm table are like 'Free Meal Count (K-12)' and 'Enrollment (K-12)'. So the correct column names in the SQL query would be with quotes. \n",
      "\n",
      "So the query would be:\n",
      "\n",
      "SELECT MAX( (frpm.Free Meal Count (K-12) / frpm.Enrollment (K-12)) ) AS highest_rate\n",
      "FROM schools\n",
      "JOIN frpm ON schools.CDSCode = frpm.CDSCode\n",
      "WHERE schools.County = 'Alameda' AND frpm.Low Grade = 'K' AND frpm.High Grade = '12';\n",
      "\n",
      "But the question says \"highest eligible free rate\" which is the percentage. So the calculation is (Free Meal Count / Enrollment) * 100? Or is it (Free Meal Count / Enrollment) as a percentage? The user's external knowledge says Eligible free rate is Free Meal Count / Enrollment. But the question says \"Percent (%) Eligible Free (K-12)\" in the frpm table. So the actual value in the frpm table is the percentage. So maybe the value is already in percentage, so we don't need to multiply by 100. Wait, the example for Percent (%) Eligible Free (K-12) is [0.519779208831647, 0.470886075949367, 0.549180327868853]. So these are decimal numbers, not percentages. So the actual value is the percentage as a decimal. So the user's question says \"highest eligible free rate\" which is the value in the frpm table, which is already in percentage. So the calculation is just selecting the maximum of that value. \n",
      "\n",
      "Wait, but the user's external knowledge says Eligible free rate is Free Meal Count / Enrollment. But the frpm table has the Percent (%) Eligible Free (K-12) as a decimal. So perhaps the value in frpm is already the percentage. So the query would just select the maximum of that column. \n",
      "\n",
      "But the user's question is asking for the highest eligible free rate, which is the value in the Percent (%) Eligible Free (K-12) column. So the correct query is to select the maximum of that column where the conditions are met. \n",
      "\n",
      "So the query would be:\n",
      "\n",
      "SELECT MAX(Percent (%) Eligible Free (K-12)) \n",
      "FROM frpm\n",
      "JOIN schools ON frpm.CDSCode = schools.CDSCode\n",
      "WHERE schools.County = 'Alameda' AND frpm.Low Grade = 'K' AND frpm.High Grade = '12';\n",
      "\n",
      "But the user wants the answer in the correct format. Also, the columns in the frpm table are named with quotes. So in the SQL query, the column names must be in quotes. \n",
      "\n",
      "So the final query would be:\n",
      "\n",
      "SELECT MAX(Percent (%) Eligible Free (K-12)) \n",
      "FROM schools \n",
      "JOIN frpm ON schools.CDSCode = frpm.CDSCode \n",
      "WHERE schools.County = 'Alameda' AND frpm.Low Grade = 'K' AND frpm.High Grade = '12';\n",
      "\n",
      "But the user might have the columns in the frpm table as 'Free Meal Count (K-12)' and 'Enrollment (K-12)', but the question is about the Percent (%) Eligible Free (K-12) column. So the query would select that column. \n",
      "\n",
      "So the correct SQL is:\n",
      "\n",
      "SELECT MAX(Percent (%) Eligible Free (K-12)) \n",
      "FROM schools \n",
      "JOIN frpm ON schools.CDSCode = frpm.CDSCode \n",
      "WHERE schools.County = 'Alameda' AND frpm.Low Grade = 'K' AND frpm.High Grade = '12';\n",
      "\n",
      "But the problem says that the user wants the highest eligible free rate, which is the maximum of that column. \n",
      "\n",
      "So the final answer is that SQL query.\n",
      "\n",
      "Final answer based om reasoning for this model:\n",
      "\n",
      "\n",
      "```\n",
      "SELECT MAX(Percent (%) Eligible Free (K-12)) \n",
      "FROM schools \n",
      "JOIN frpm ON schools.CDSCode = frpm.CDSCode \n",
      "WHERE schools.County = 'Alameda' AND frpm.Low Grade = 'K' AND frpm.High Grade = '12';\n",
      "```\n",
      "\n",
      "model 4 analysis:\n",
      " Reasoning process:\n",
      "\n",
      "Okay, let's tackle this problem. The user wants the highest eligible free rate for K-12 students in Alameda County. First, I need to figure out which tables are involved. The relevant tables here are frpm and schools, probably. Because the frpm table has the eligible free rates, and the schools table has the county information.\n",
      "\n",
      "Wait, the frpm table has columns like Percent (%) Eligible Free (K-12) and Enrollment (K-12). The question is about Alameda County, so I need to filter schools where County is Alameda. Then, from the frpm table, get the Percent Eligible Free (K-12) and Enrollment (K-12) for those schools.\n",
      "\n",
      "But wait, the schools table has a County column, so I need to join schools with frpm on schools.CDSCode equals frpm.CDSCode. Then, filter the schools where County is 'Alameda'. Then calculate the ratio of Free Meal Count (K-12) to Enrollment (K-12) and take the maximum value.\n",
      "\n",
      "Wait, the user mentioned the formula: Eligible free rate is Free Meal Count (K-12) divided by Enrollment (K-12). So, for each school in Alameda County, calculate that ratio and find the maximum.\n",
      "\n",
      "So the steps are: join schools and frpm on CDSCode, filter county = 'Alameda', then compute the ratio and find the max.\n",
      "\n",
      "But how to structure the SQL. Let's think.\n",
      "\n",
      "SELECT MAX(Percent (%) Eligible Free (K-12)) FROM frpm JOIN schools ON frpm.CDSCode = schools.CDSCode WHERE schools.County = 'Alameda';\n",
      "\n",
      "Wait, but the schools table has a County column, which is a TEXT. So the query would be:\n",
      "\n",
      "SELECT MAX(Percent (%) Eligible Free (K-12)) \n",
      "FROM frpm \n",
      "JOIN schools ON frpm.CDSCode = schools.CDSCode \n",
      "WHERE schools.County = 'Alameda';\n",
      "\n",
      "But the problem is that the frpm table has the Percent (%) Eligible Free (K-12) as a column, and the schools table has the County. So joining on CDSCode and filtering County = 'Alameda' should give the necessary rows. Then, taking the maximum of that column.\n",
      "\n",
      "But wait, the user wants the highest rate, so MAX() is correct. However, sometimes there might be multiple schools in Alameda, and we need the maximum value among them. So the query should be as above.\n",
      "\n",
      "But need to make sure that the columns are correctly named. The frpm table's columns are in the initial description. Let me check again.\n",
      "\n",
      "In the frpm table, the columns include Percent (%) Eligible Free (K-12) as a column. The schools table has County as a column. So the SQL should be correct.\n",
      "\n",
      "But the user said to use only the initial column names, not the ones in the schema. Wait, the user said: \"Use only initial column names, change names prohibited\". So the column names in the schema are as given. So the columns in the frpm table are: CDSCode, Academic Year, County Code, District Code, School Code, County Name, District Name, School Name, District Type, School Type, Educational Option Type, NSLP Provision Status, Charter School (Y/N), Charter School Number, Charter Funding Type, IRC, Low Grade, High Grade, Enrollment (K-12), Free Meal Count (K-12), Percent (%) Eligible Free (K-12), etc.\n",
      "\n",
      "So the column names in the frpm table are as listed. So the query should reference those exact column names.\n",
      "\n",
      "So the correct SQL would be:\n",
      "\n",
      "SELECT MAX(Percent (%) Eligible Free (K-12)) \n",
      "FROM frpm \n",
      "JOIN schools ON frpm.CDSCode = schools.CDSCode \n",
      "WHERE schools.County = 'Alameda';\n",
      "\n",
      "But wait, the schools table's County column is a TEXT, and the example values are like 'Alameda', 'Alpine', etc. So the WHERE clause is correct.\n",
      "\n",
      "But need to make sure that the County is exactly 'Alameda' (case-sensitive? Well, in SQLite, string comparisons are case-sensitive unless the database is set to case-insensitive, but the examples show 'Alameda' as the value, so the query should use 'Alameda' exactly.\n",
      "\n",
      "So the final query is as above. Let me check the word count. The user said the answer should be less than 512 characters. Let me count:\n",
      "\n",
      "SELECT MAX(Percent (%) Eligible Free (K-12)) FROM frpm JOIN schools ON frpm.CDSCode = schools.CDSCode WHERE schools.County = 'Alameda';\n",
      "\n",
      "That's 145 characters. So it's under 512. So that's the answer.\n",
      "\n",
      "Final answer based om reasoning for this model:\n",
      "\n",
      "\n",
      "```\n",
      "SELECT MAX(Percent (%) Eligible Free (K-12)) FROM frpm JOIN schools ON frpm.CDSCode = schools.CDSCode WHERE schools.County = 'Alameda';\n",
      "```\n",
      "\n",
      "model 5 analysis:\n",
      " Reasoning process:\n",
      "\n",
      "Okay, let's tackle this question. The user wants the highest eligible free rate for K-12 students in Alameda County. \n",
      "\n",
      "First, I need to figure out which tables are involved. The relevant tables here are frpm and schools, maybe satscores, but the question is about free meal counts and enrollments, so frpm and schools probably play a role. \n",
      "\n",
      "Looking at the tables, the schools table has CDSCode, which is linked to frpm via the foreign key. The schools table also has County, so I need to filter for Alameda County. The frpm table has Percent (%) Eligible Free (K-12) and Enrollment (K-12). \n",
      "\n",
      "The formula given is Eligible Free Rate = Free Meal Count (K-12) / Enrollment (K-12). So I need to join the schools and frpm tables on CDSCode, filter where County is 'Alameda', then calculate that ratio. \n",
      "\n",
      "Wait, but the schools table has County, and the frpm has County Code. So I need to join on schools.CDSCode = frpm.CDSCode, and then filter schools.County = 'Alameda'. \n",
      "\n",
      "Then, I need to select the Percent (%) Eligible Free (K-12) and calculate the ratio. But since the question asks for the highest rate, I need to order by that rate descending and limit to 1. \n",
      "\n",
      "So the steps are: join schools and frpm on CDSCode, filter County = 'Alameda', calculate the ratio, order by that ratio descending, and select the top one. \n",
      "\n",
      "But wait, the frpm table has Enrollment (K-12) as a REAL value. So the division would be FreeMealCount / Enrollment. \n",
      "\n",
      "But I need to make sure that the division is done correctly. Also, the question says \"highest eligible free rate,\" so the maximum value. \n",
      "\n",
      "So the SQL query would be a JOIN between schools and frpm on CDSCode, filter where schools.County = 'Alameda', then calculate the ratio. Then order by that ratio descending and take the first row. \n",
      "\n",
      "But how to structure the query. Let's think about the columns. The schools table has County, and frpm has the percentages. \n",
      "\n",
      "So the query would be:\n",
      "\n",
      "SELECT MAX(Percent (%) Eligible Free (K-12)) AS max_rate\n",
      "FROM frpm\n",
      "JOIN schools ON frpm.CDSCode = schools.CDSCode\n",
      "WHERE schools.County = 'Alameda';\n",
      "\n",
      "Wait, but MAX might not be the right approach here. Because the ratio is (FreeMealCount / Enrollment), which is a single value per row. So maybe I need to calculate that ratio for each row and then find the maximum. \n",
      "\n",
      "So the correct approach is to calculate the ratio for each row, then find the maximum. \n",
      "\n",
      "So the query would be:\n",
      "\n",
      "SELECT MAX(Free Meal Count (K-12)/Enrollment (K-12)) AS max_rate\n",
      "FROM frpm\n",
      "JOIN schools ON frpm.CDSCode = schools.CDSCode\n",
      "WHERE schools.County = 'Alameda';\n",
      "\n",
      "But wait, in SQLite, division is done with /, and REAL numbers. Also, the columns are in quotes. \n",
      "\n",
      "But the question asks for the highest rate, so the MAX function would give the maximum value. However, if there are multiple rows with the same maximum, it would return the first one. But since the question says \"highest,\" it's okay. \n",
      "\n",
      "But the user might want the actual value, not just the maximum. However, the question says \"the highest eligible free rate,\" so the MAX is correct. \n",
      "\n",
      "But I need to make sure that the columns are correctly named. The frpm table has Free Meal Count (K-12) as a column, and Enrollment (K-12) as another. So the division is FreeMealCount / Enrollment. \n",
      "\n",
      "So the final query would be:\n",
      "\n",
      "SELECT MAX(Free Meal Count (K-12)/Enrollment (K-12)) AS max_rate\n",
      "FROM frpm\n",
      "JOIN schools ON frpm.CDSCode = schools.CDSCode\n",
      "WHERE schools.County = 'Alameda';\n",
      "\n",
      "But wait, the question says \"the highest eligible free rate for K-12 students in the schools in Alameda County.\" So the answer is the maximum of those ratios. \n",
      "\n",
      "However, the user might want the actual value, not the maximum. But the question says \"highest,\" which implies the maximum. \n",
      "\n",
      "So the query should be as above. But I need to check if the columns are correctly referenced. The frpm table has Free Meal Count (K-12) and Enrollment (K-12) as columns. \n",
      "\n",
      "Yes. So the final SQL query is as written.\n",
      "\n",
      "Final answer based om reasoning for this model:\n",
      "\n",
      "\n",
      "```\n",
      "SELECT MAX(Free Meal Count (K-12)/Enrollment (K-12)) AS max_rate\n",
      "FROM frpm\n",
      "JOIN schools ON frpm.CDSCode = schools.CDSCode\n",
      "WHERE schools.County = 'Alameda';\n",
      "```\n",
      "\n",
      "model 6 analysis:\n",
      " Reasoning process:\n",
      "\n",
      "Okay, let's tackle this problem. The user wants the highest eligible free rate for K-12 students in Alameda County. \n",
      "\n",
      "First, I need to figure out which tables are involved. The relevant tables here are 'frpm' and 'schools' because the 'frpm' table has the eligible free rates and the 'schools' table has the county information. The foreign key between frpm and schools is the CDSCode, which links them together.\n",
      "\n",
      "So, the first step is to join these two tables on schools.CDSCode = frpm.CDSCode. Then, filter the results to only include schools in Alameda County. The County field in the 'schools' table should be 'Alameda'.\n",
      "\n",
      "Next, I need to calculate the eligible free rate. The formula given is Free Meal Count (K-12) divided by Enrollment (K-12). But I need to make sure that the columns in the 'frpm' table are correctly referenced. The 'Free Meal Count (K-12)' is in the frpm table, and 'Enrollment (K-12)' is also there. \n",
      "\n",
      "Wait, the 'schools' table has the 'County' field, so I need to check if that's correctly mapped. The example for County in schools is 'Alameda', so that's correct. \n",
      "\n",
      "Once the data is joined and filtered, I need to find the maximum value of the eligible free rate. The MAX function will be used here. \n",
      "\n",
      "So the SQL query would select the MAX of (Free Meal Count (K-12) / Enrollment (K-12)) from the joined tables where County is 'Alameda'. \n",
      "\n",
      "But I need to make sure that the columns are correctly named. The 'frpm' table has 'Free Meal Count (K-12)' and 'Enrollment (K-12)', and the 'schools' table has 'County'. \n",
      "\n",
      "Putting it all together: JOIN frpm and schools on CDSCode, filter County = 'Alameda', then calculate the max of the ratio. \n",
      "\n",
      "Wait, but the user wants the highest rate, so using MAX is correct. Also, the columns need to be correctly referenced. \n",
      "\n",
      "I think that's all. Now, the SQL query should be structured with the JOIN, WHERE clause, and SELECT with MAX.\n",
      "\n",
      "Final answer based om reasoning for this model:\n",
      "\n",
      "\n",
      "```\n",
      "SELECT MAX(Free Meal Count (K-12)/Enrollment (K-12)) FROM frpm JOIN schools ON frpm.CDSCode = schools.CDSCode WHERE schools.County = 'Alameda';\n",
      "```\n",
      "\n",
      "\n",
      "here is avaliable tables and their structure below\n",
      "【DB_ID】 california_schools\n",
      "【Schema】\n",
      "# Table: frpm\n",
      "[\n",
      "(CDSCode:TEXT, maps to schools.CDSCode, Primary Key, Examples: [01100170109835, 01100170112607, 01100170118489]),\n",
      "(Academic Year:TEXT, Examples: [2014-2015]),\n",
      "(County Code:TEXT, Examples: [01, 02, 03]),\n",
      "(District Code:INTEGER, Examples: [10017, 31609, 31617]),\n",
      "(School Code:TEXT, Examples: [0109835, 0112607, 0118489]),\n",
      "(County Name:TEXT, Examples: [Alameda, Alpine, Amador]),\n",
      "(District Name:TEXT),\n",
      "(School Name:TEXT, Examples: [FAME Public Charter]),\n",
      "(District Type:TEXT, Examples: [County Office of Education (COE)]),\n",
      "(School Type:TEXT, Examples: [K-12 Schools (Public)]),\n",
      "(Educational Option Type:TEXT, Examples: [Traditional]),\n",
      "(NSLP Provision Status:TEXT, Examples: [Breakfast Provision 2]),\n",
      "(Charter School (Y/N):INTEGER, Examples: [1, 0]),\n",
      "(Charter School Number:TEXT, Examples: [0728, 0811, 1049]),\n",
      "(Charter Funding Type:TEXT, Examples: [Directly funded]),\n",
      "(IRC:INTEGER, Examples: [1, 0]),\n",
      "(Low Grade:TEXT, Examples: [K, 9, 1]),\n",
      "(High Grade:TEXT, Examples: [12, 8, 5]),\n",
      "(Enrollment (K-12):REAL, Examples: [1087.0, 395.0, 244.0]),\n",
      "(Free Meal Count (K-12):REAL, Examples: [565.0, 186.0, 134.0]),\n",
      "(Percent (%) Eligible Free (K-12):REAL, Examples: [0.519779208831647, 0.470886075949367, 0.549180327868853]),\n",
      "(FRPM Count (K-12):REAL, Examples: [715.0, 186.0, 175.0]),\n",
      "(Percent (%) Eligible FRPM (K-12):REAL, Examples: [0.657773689052438, 0.470886075949367, 0.717213114754098]),\n",
      "(Enrollment (Ages 5-17):REAL, Examples: [1070.0, 376.0, 230.0]),\n",
      "(Free Meal Count (Ages 5-17):REAL, Examples: [553.0, 182.0, 128.0]),\n",
      "(Percent (%) Eligible Free (Ages 5-17):REAL, Examples: [0.516822429906542, 0.484042553191489, 0.556521739130435]),\n",
      "(FRPM Count (Ages 5-17):REAL, Examples: [702.0, 182.0, 168.0]),\n",
      "(Percent (%) Eligible FRPM (Ages 5-17):REAL, Examples: [0.65607476635514, 0.484042553191489, 0.730434782608696]),\n",
      "(2013-14 CALPADS Fall 1 Certification Status:INTEGER, Examples: [1])\n",
      "]\n",
      "# Table: satscores\n",
      "[\n",
      "(cds:TEXT, maps to schools.CDSCode, Primary Key, Examples: [10101080000000, 10101080109991, 10101080111682]),\n",
      "(rtype:TEXT, Examples: [D, S]),\n",
      "(sname:TEXT, Examples: [FAME Public Charter]),\n",
      "(dname:TEXT, Examples: [Alameda County Office of Education]),\n",
      "(cname:TEXT, Examples: [Alameda, Amador, Butte]),\n",
      "(enroll12:INTEGER, Examples: [398, 62, 75]),\n",
      "(NumTstTakr:INTEGER, Examples: [88, 17, 71]),\n",
      "(AvgScrRead:INTEGER, Examples: [418, 503, 397]),\n",
      "(AvgScrMath:INTEGER, Examples: [418, 546, 387]),\n",
      "(AvgScrWrite:INTEGER, Examples: [417, 505, 395]),\n",
      "(NumGE1500:INTEGER, Examples: [14, 9, 5])\n",
      "]\n",
      "# Table: schools\n",
      "[\n",
      "(CDSCode:TEXT, Primary Key, Examples: [01100170000000, 01100170109835, 01100170112607]),\n",
      "(NCESDist:TEXT, Examples: [0691051, 0600002, 0600003]),\n",
      "(NCESSchool:TEXT, Examples: [10546, 10947, 12283]),\n",
      "(StatusType:TEXT, Examples: [Active, Closed, Merged]),\n",
      "(County:TEXT, Examples: [Alameda, Alpine, Amador]),\n",
      "(District:TEXT),\n",
      "(School:TEXT, Examples: [FAME Public Charter]),\n",
      "(Street:TEXT, Examples: [313 West Winton Avenue]),\n",
      "(StreetAbr:TEXT, Examples: [313 West Winton Ave.]),\n",
      "(City:TEXT, Examples: [Hayward, Newark, Oakland]),\n",
      "(Zip:TEXT, Examples: [94544-1136, 94560-5359, 94612-3355]),\n",
      "(State:TEXT, Examples: [CA]),\n",
      "(MailStreet:TEXT, Examples: [313 West Winton Avenue]),\n",
      "(MailStrAbr:TEXT, Examples: [313 West Winton Ave.]),\n",
      "(MailCity:TEXT, Examples: [Hayward, Newark, Oakland]),\n",
      "(MailZip:TEXT, Examples: [94544-1136, 94560-5359, 94612]),\n",
      "(MailState:TEXT, Examples: [CA]),\n",
      "(Phone:TEXT, Examples: [(510) 887-0152, (510) 596-8901, (510) 686-4131]),\n",
      "(Ext:TEXT, Examples: [130, 1240, 1200]),\n",
      "(Website:TEXT, Examples: [www.acoe.org]),\n",
      "(OpenDate:DATE, Examples: [2005-08-29]),\n",
      "(ClosedDate:DATE, Examples: [2015-07-31]),\n",
      "(Charter:INTEGER, Examples: [1, 0]),\n",
      "(CharterNum:TEXT, Examples: [0728, 0811, 1049]),\n",
      "(FundingType:TEXT, Examples: [Directly funded]),\n",
      "(DOC:TEXT, Examples: [00, 31, 34]),\n",
      "(DOCType:TEXT, Examples: [County Office of Education (COE)]),\n",
      "(SOC:TEXT, Examples: [65, 66, 60]),\n",
      "(SOCType:TEXT, Examples: [K-12 Schools (Public)]),\n",
      "(EdOpsCode:TEXT, Examples: [TRAD, JUV, COMM]),\n",
      "(EdOpsName:TEXT, Examples: [Traditional]),\n",
      "(EILCode:TEXT, Examples: [ELEMHIGH, HS, ELEM]),\n",
      "(EILName:TEXT, Examples: [Elementary-High Combination]),\n",
      "(GSoffered:TEXT, Examples: [K-12, 9-12, K-8]),\n",
      "(GSserved:TEXT, Examples: [K-12, 9-12, K-7]),\n",
      "(Virtual:TEXT, Examples: [P, N, F]),\n",
      "(Magnet:INTEGER, Examples: [0, 1]),\n",
      "(Latitude:REAL, Examples: [37.658212, 37.521436, 37.80452]),\n",
      "(Longitude:REAL, Examples: [-122.09713, -121.99391, -122.26815]),\n",
      "(AdmFName1:TEXT, Examples: [L Karen, Laura, Clifford]),\n",
      "(AdmLName1:TEXT, Examples: [Monroe, Robell, Thompson]),\n",
      "(AdmEmail1:TEXT),\n",
      "(AdmFName2:TEXT, Examples: [Sau-Lim (Lance), Jennifer, Annalisa]),\n",
      "(AdmLName2:TEXT, Examples: [Tsang, Koelling, Moore]),\n",
      "(AdmEmail2:TEXT),\n",
      "(AdmFName3:TEXT, Examples: [Drew, Irma, Vickie]),\n",
      "(AdmLName3:TEXT, Examples: [Sarratore, Munoz, Chang]),\n",
      "(AdmEmail3:TEXT),\n",
      "(LastUpdate:DATE, Examples: [2015-06-23])\n",
      "]\n",
      "【Foreign keys】\n",
      "frpm.CDSCode=schools.CDSCode\n",
      "satscores.cds=schools.CDSCode\n",
      "\n",
      "-- Using valid SQLite and understanding External Knowledge, answer the following questions for the tables provided above.\n",
      "-- What is the highest eligible free rate for K-12 students in the schools in Alameda County?\n",
      "-- External Knowledge: Eligible free rate for K-12 = `Free Meal Count (K-12)` / `Enrollment (K-12)`\n",
      "\n",
      "\n",
      "Generate the SQLite for the above question after thinking step by step: \n",
      "\n",
      "\n",
      "Instructions:\n",
      "- Make sure you only output the information that is asked in the question. If the question asks for a specific column, make sure to only include that column in the SELECT clause, nothing more.\n",
      "- The generated query should return all of the information asked in the question without any missing or extra information.\n",
      "- Before generating the final SQL query, please think through the steps of how to write the query.\n",
      "- Do not misuse column names, keep them in quotes `\n",
      "- Carefully understand what colomns belond to what tables\n",
      "- Use only initial column names, change names prohibited\n",
      "        \n",
      "Output Format:\n",
      "In your answer, please enclose the generated SQL query in a code block:\n",
      "```\n",
      "-- Your SQL query\n",
      "```    \n",
      "and nothing else, no exaplains, no comments (asnwer should be less than 512 characters)\n",
      "\n",
      "Take a deep breath and think step by step to find the correct SQL query in SQLite format.\n",
      "\n",
      "Question repetition: What is the highest eligible free rate for K-12 students in the schools in Alameda County?\n",
      "\n",
      "Be care! Include only what i want it questiona and nothing else<|im_end|>\n",
      "<|im_start|>assistant\n",
      "<think>\n",
      "\n",
      "</think>\n",
      "\n",
      "\n",
      "\n",
      "\n",
      "Максимальное количество токенов в промптах: 38417\n",
      "\n",
      "начинаем скорринг\n",
      "Загружаем чаты с данными...\n",
      "Данные успешно загружены\n",
      "Начали генерацию SQL запросов\n"
     ]
    },
    {
     "name": "stderr",
     "output_type": "stream",
     "text": [
      "Processed prompts: 100%|██████████| 1534/1534 [01:57<00:00, 13.07it/s, est. speed input: 125144.39 toks/s, output: 608.97 toks/s]    "
     ]
    },
    {
     "name": "stdout",
     "output_type": "stream",
     "text": [
      "extract_think количество ошибок:  0\n",
      "extract_sql количество ошибок:  0\n",
      "Закончили генерацию SQL запросов\n",
      "Начали скорр полученных SQL запросов\n"
     ]
    },
    {
     "name": "stderr",
     "output_type": "stream",
     "text": [
      "\n"
     ]
    },
    {
     "name": "stdout",
     "output_type": "stream",
     "text": [
      "Qwen3-1.7B DEV Финальный результат EX: 50.52\n",
      "Qwen3-1.7B процент запросов, которые успешно выполнились DEV: 82.66%\n",
      "====================================================================================================\n",
      "\n",
      "\n",
      "Загружаем чаты с данными...\n",
      "Данные успешно загружены\n",
      "Начали генерацию SQL запросов\n"
     ]
    },
    {
     "name": "stderr",
     "output_type": "stream",
     "text": [
      "Processed prompts: 100%|██████████| 1534/1534 [01:57<00:00, 13.11it/s, est. speed input: 124766.22 toks/s, output: 610.16 toks/s]   "
     ]
    },
    {
     "name": "stdout",
     "output_type": "stream",
     "text": [
      "extract_think количество ошибок:  0\n",
      "extract_sql количество ошибок:  0\n",
      "Закончили генерацию SQL запросов\n",
      "Начали скорр полученных SQL запросов\n"
     ]
    },
    {
     "name": "stderr",
     "output_type": "stream",
     "text": [
      "\n",
      "Exception ignored in: <bound method IPythonKernel._clean_thread_parent_frames of <ipykernel.ipkernel.IPythonKernel object at 0x7f8ff480b1a0>>\n",
      "Traceback (most recent call last):\n",
      "  File \"/data/home/vkropoti/vllm/lib64/python3.12/site-packages/ipykernel/ipkernel.py\", line 775, in _clean_thread_parent_frames\n",
      "    def _clean_thread_parent_frames(\n",
      "\n",
      "func_timeout.dafunc.FunctionTimedOut3298689638419723160: Function execute_query (args=('/data/home/vkropoti/sql_data/dev_databases/', 'codebase_community', 'SELECT Name FROM badges AS T1 INNER JOIN comments AS T2 ON T1.UserId = t2.UserId GROUP BY T2.UserId ORDER BY COUNT(T2.UserId) DESC LIMIT 1', 'SELECT u.Id, b.Name\\nFROM users u\\nJOIN comments c ON u.Id = c.UserId\\nJOIN badges b ON u.Id = b.UserId\\nGROUP BY u.Id\\nORDER BY COUNT(c.Id) DESC')) (kwargs={}) timed out after 5.000000 seconds.\n",
      "\n"
     ]
    },
    {
     "name": "stdout",
     "output_type": "stream",
     "text": [
      "Qwen3-1.7B DEV Финальный результат EX: 50.26\n",
      "Qwen3-1.7B процент запросов, которые успешно выполнились DEV: 83.25%\n",
      "====================================================================================================\n",
      "\n",
      "\n",
      "Загружаем чаты с данными...\n",
      "Данные успешно загружены\n",
      "Начали генерацию SQL запросов\n"
     ]
    },
    {
     "name": "stderr",
     "output_type": "stream",
     "text": [
      "Processed prompts: 100%|██████████| 1534/1534 [01:56<00:00, 13.12it/s, est. speed input: 125149.64 toks/s, output: 609.84 toks/s]   "
     ]
    },
    {
     "name": "stdout",
     "output_type": "stream",
     "text": [
      "extract_think количество ошибок:  0\n",
      "extract_sql количество ошибок:  0\n",
      "Закончили генерацию SQL запросов\n",
      "Начали скорр полученных SQL запросов\n"
     ]
    },
    {
     "name": "stderr",
     "output_type": "stream",
     "text": [
      "\n"
     ]
    },
    {
     "name": "stdout",
     "output_type": "stream",
     "text": [
      "Qwen3-1.7B DEV Финальный результат EX: 49.35\n",
      "Qwen3-1.7B процент запросов, которые успешно выполнились DEV: 81.81%\n",
      "====================================================================================================\n",
      "\n",
      "\n",
      "Загружаем чаты с данными...\n",
      "Данные успешно загружены\n",
      "Начали генерацию SQL запросов\n"
     ]
    },
    {
     "ename": "ValueError",
     "evalue": "The decoder prompt (length 41780) is longer than the maximum model length of 40960. Make sure that `max_model_len` is no smaller than the number of text tokens.",
     "output_type": "error",
     "traceback": [
      "\u001b[31m---------------------------------------------------------------------------\u001b[39m",
      "\u001b[31mValueError\u001b[39m                                Traceback (most recent call last)",
      "\u001b[36mCell\u001b[39m\u001b[36m \u001b[39m\u001b[32mIn[8]\u001b[39m\u001b[32m, line 1\u001b[39m\n\u001b[32m----> \u001b[39m\u001b[32m1\u001b[39m \u001b[43mrun_cot_experiment\u001b[49m\u001b[43m(\u001b[49m\u001b[43mmodel\u001b[49m\u001b[43m,\u001b[49m\u001b[43marr_seeds\u001b[49m\u001b[43m,\u001b[49m\u001b[43marr_versions\u001b[49m\u001b[43m,\u001b[49m\u001b[43m \u001b[49m\u001b[43mtype_cot\u001b[49m\u001b[43m,\u001b[49m\u001b[43mnum_observations\u001b[49m\u001b[43m=\u001b[49m\u001b[43mnum_observations\u001b[49m\u001b[43m)\u001b[49m\n",
      "\u001b[36mFile \u001b[39m\u001b[32m~/vllm/src/experiment.py:91\u001b[39m, in \u001b[36mrun_cot_experiment\u001b[39m\u001b[34m(model, arr_seeds, arr_versions, type_cot, use_think, num_observations)\u001b[39m\n\u001b[32m     89\u001b[39m \u001b[38;5;28;01mfor\u001b[39;00m seed, version \u001b[38;5;129;01min\u001b[39;00m \u001b[38;5;28mzip\u001b[39m(arr_seeds,arr_versions):\n\u001b[32m     90\u001b[39m     model_config, prompts_config, save_config = create_cot_configs(model,seed,version,type_cot, \u001b[38;5;28mlen\u001b[39m(arr_versions),use_think=use_think,num_observations=num_observations)\n\u001b[32m---> \u001b[39m\u001b[32m91\u001b[39m     \u001b[43mpipeline\u001b[49m\u001b[43m(\u001b[49m\u001b[43mllm\u001b[49m\u001b[43m,\u001b[49m\u001b[43mmodel_config\u001b[49m\u001b[43m,\u001b[49m\u001b[43m \u001b[49m\u001b[43mprompts_config\u001b[49m\u001b[43m,\u001b[49m\u001b[43m \u001b[49m\u001b[43msave_config\u001b[49m\u001b[43m)\u001b[49m\n\u001b[32m     93\u001b[39m     \u001b[38;5;28mprint\u001b[39m(\u001b[33m\"\u001b[39m\u001b[33m=\u001b[39m\u001b[33m\"\u001b[39m*\u001b[32m100\u001b[39m)\n\u001b[32m     94\u001b[39m     \u001b[38;5;28mprint\u001b[39m()\n",
      "\u001b[36mFile \u001b[39m\u001b[32m~/vllm/src/pipeline.py:86\u001b[39m, in \u001b[36mpipeline\u001b[39m\u001b[34m(llm, model_config, prompts_config, save_config)\u001b[39m\n\u001b[32m     83\u001b[39m \u001b[38;5;28mprint\u001b[39m(\u001b[33m\"\u001b[39m\u001b[33mДанные успешно загружены\u001b[39m\u001b[33m\"\u001b[39m)\n\u001b[32m     85\u001b[39m \u001b[38;5;28mprint\u001b[39m(\u001b[33m\"\u001b[39m\u001b[33mНачали генерацию SQL запросов\u001b[39m\u001b[33m\"\u001b[39m)\n\u001b[32m---> \u001b[39m\u001b[32m86\u001b[39m outputs = \u001b[43mllm\u001b[49m\u001b[43m.\u001b[49m\u001b[43mgenerate\u001b[49m\u001b[43m(\u001b[49m\u001b[43mbatch_prompts\u001b[49m\u001b[43m,\u001b[49m\u001b[43msampling_params\u001b[49m\u001b[43m=\u001b[49m\u001b[43msampling_params\u001b[49m\u001b[43m)\u001b[49m\n\u001b[32m     87\u001b[39m sql_predict = answers_process_pipeline(outputs,\n\u001b[32m     88\u001b[39m                                       path_sql_save=save_config[\u001b[33m'\u001b[39m\u001b[33mpath_sql_save\u001b[39m\u001b[33m'\u001b[39m],\n\u001b[32m     89\u001b[39m                                        path_think_save=save_config[\u001b[33m'\u001b[39m\u001b[33mpath_think_save\u001b[39m\u001b[33m'\u001b[39m],\n\u001b[32m     90\u001b[39m                                        path_sql_answers_save=save_config[\u001b[33m'\u001b[39m\u001b[33mpath_sql_answers_save\u001b[39m\u001b[33m'\u001b[39m],\n\u001b[32m     91\u001b[39m                                       )\n\u001b[32m     92\u001b[39m \u001b[38;5;28mprint\u001b[39m(\u001b[33m\"\u001b[39m\u001b[33mЗакончили генерацию SQL запросов\u001b[39m\u001b[33m\"\u001b[39m)\n",
      "\u001b[36mFile \u001b[39m\u001b[32m/data/home/vkropoti/vllm/lib64/python3.12/site-packages/vllm/utils.py:1134\u001b[39m, in \u001b[36mdeprecate_kwargs.<locals>.wrapper.<locals>.inner\u001b[39m\u001b[34m(*args, **kwargs)\u001b[39m\n\u001b[32m   1127\u001b[39m             msg += \u001b[33mf\u001b[39m\u001b[33m\"\u001b[39m\u001b[33m \u001b[39m\u001b[38;5;132;01m{\u001b[39;00madditional_message\u001b[38;5;132;01m}\u001b[39;00m\u001b[33m\"\u001b[39m\n\u001b[32m   1129\u001b[39m         warnings.warn(\n\u001b[32m   1130\u001b[39m             \u001b[38;5;167;01mDeprecationWarning\u001b[39;00m(msg),\n\u001b[32m   1131\u001b[39m             stacklevel=\u001b[32m3\u001b[39m,  \u001b[38;5;66;03m# The inner function takes up one level\u001b[39;00m\n\u001b[32m   1132\u001b[39m         )\n\u001b[32m-> \u001b[39m\u001b[32m1134\u001b[39m \u001b[38;5;28;01mreturn\u001b[39;00m \u001b[43mfn\u001b[49m\u001b[43m(\u001b[49m\u001b[43m*\u001b[49m\u001b[43margs\u001b[49m\u001b[43m,\u001b[49m\u001b[43m \u001b[49m\u001b[43m*\u001b[49m\u001b[43m*\u001b[49m\u001b[43mkwargs\u001b[49m\u001b[43m)\u001b[49m\n",
      "\u001b[36mFile \u001b[39m\u001b[32m/data/home/vkropoti/vllm/lib64/python3.12/site-packages/vllm/entrypoints/llm.py:462\u001b[39m, in \u001b[36mLLM.generate\u001b[39m\u001b[34m(self, prompts, sampling_params, prompt_token_ids, use_tqdm, lora_request, prompt_adapter_request, guided_options_request, priority)\u001b[39m\n\u001b[32m    458\u001b[39m \u001b[38;5;28;01mif\u001b[39;00m sampling_params \u001b[38;5;129;01mis\u001b[39;00m \u001b[38;5;28;01mNone\u001b[39;00m:\n\u001b[32m    459\u001b[39m     \u001b[38;5;66;03m# Use default sampling params.\u001b[39;00m\n\u001b[32m    460\u001b[39m     sampling_params = \u001b[38;5;28mself\u001b[39m.get_default_sampling_params()\n\u001b[32m--> \u001b[39m\u001b[32m462\u001b[39m \u001b[38;5;28;43mself\u001b[39;49m\u001b[43m.\u001b[49m\u001b[43m_validate_and_add_requests\u001b[49m\u001b[43m(\u001b[49m\n\u001b[32m    463\u001b[39m \u001b[43m    \u001b[49m\u001b[43mprompts\u001b[49m\u001b[43m=\u001b[49m\u001b[43mparsed_prompts\u001b[49m\u001b[43m,\u001b[49m\n\u001b[32m    464\u001b[39m \u001b[43m    \u001b[49m\u001b[43mparams\u001b[49m\u001b[43m=\u001b[49m\u001b[43msampling_params\u001b[49m\u001b[43m,\u001b[49m\n\u001b[32m    465\u001b[39m \u001b[43m    \u001b[49m\u001b[43mlora_request\u001b[49m\u001b[43m=\u001b[49m\u001b[43mlora_request\u001b[49m\u001b[43m,\u001b[49m\n\u001b[32m    466\u001b[39m \u001b[43m    \u001b[49m\u001b[43mprompt_adapter_request\u001b[49m\u001b[43m=\u001b[49m\u001b[43mprompt_adapter_request\u001b[49m\u001b[43m,\u001b[49m\n\u001b[32m    467\u001b[39m \u001b[43m    \u001b[49m\u001b[43mguided_options\u001b[49m\u001b[43m=\u001b[49m\u001b[43mguided_options_request\u001b[49m\u001b[43m,\u001b[49m\n\u001b[32m    468\u001b[39m \u001b[43m    \u001b[49m\u001b[43mpriority\u001b[49m\u001b[43m=\u001b[49m\u001b[43mpriority\u001b[49m\u001b[43m)\u001b[49m\n\u001b[32m    470\u001b[39m outputs = \u001b[38;5;28mself\u001b[39m._run_engine(use_tqdm=use_tqdm)\n\u001b[32m    471\u001b[39m \u001b[38;5;28;01mreturn\u001b[39;00m \u001b[38;5;28mself\u001b[39m.engine_class.validate_outputs(outputs, RequestOutput)\n",
      "\u001b[36mFile \u001b[39m\u001b[32m/data/home/vkropoti/vllm/lib64/python3.12/site-packages/vllm/entrypoints/llm.py:1342\u001b[39m, in \u001b[36mLLM._validate_and_add_requests\u001b[39m\u001b[34m(self, prompts, params, lora_request, prompt_adapter_request, guided_options, priority)\u001b[39m\n\u001b[32m   1340\u001b[39m \u001b[38;5;66;03m# Add requests to the engine.\u001b[39;00m\n\u001b[32m   1341\u001b[39m \u001b[38;5;28;01mfor\u001b[39;00m i, prompt \u001b[38;5;129;01min\u001b[39;00m \u001b[38;5;28menumerate\u001b[39m(prompts):\n\u001b[32m-> \u001b[39m\u001b[32m1342\u001b[39m     \u001b[38;5;28;43mself\u001b[39;49m\u001b[43m.\u001b[49m\u001b[43m_add_request\u001b[49m\u001b[43m(\u001b[49m\n\u001b[32m   1343\u001b[39m \u001b[43m        \u001b[49m\u001b[43mprompt\u001b[49m\u001b[43m,\u001b[49m\n\u001b[32m   1344\u001b[39m \u001b[43m        \u001b[49m\u001b[43mparams\u001b[49m\u001b[43m[\u001b[49m\u001b[43mi\u001b[49m\u001b[43m]\u001b[49m\u001b[43m \u001b[49m\u001b[38;5;28;43;01mif\u001b[39;49;00m\u001b[43m \u001b[49m\u001b[38;5;28;43misinstance\u001b[39;49m\u001b[43m(\u001b[49m\u001b[43mparams\u001b[49m\u001b[43m,\u001b[49m\u001b[43m \u001b[49m\u001b[43mSequence\u001b[49m\u001b[43m)\u001b[49m\u001b[43m \u001b[49m\u001b[38;5;28;43;01melse\u001b[39;49;00m\u001b[43m \u001b[49m\u001b[43mparams\u001b[49m\u001b[43m,\u001b[49m\n\u001b[32m   1345\u001b[39m \u001b[43m        \u001b[49m\u001b[43mlora_request\u001b[49m\u001b[43m=\u001b[49m\u001b[43mlora_request\u001b[49m\u001b[43m[\u001b[49m\u001b[43mi\u001b[49m\u001b[43m]\u001b[49m\u001b[43m \u001b[49m\u001b[38;5;28;43;01mif\u001b[39;49;00m\u001b[43m \u001b[49m\u001b[38;5;28;43misinstance\u001b[39;49m\u001b[43m(\u001b[49m\n\u001b[32m   1346\u001b[39m \u001b[43m            \u001b[49m\u001b[43mlora_request\u001b[49m\u001b[43m,\u001b[49m\u001b[43m \u001b[49m\u001b[43mSequence\u001b[49m\u001b[43m)\u001b[49m\u001b[43m \u001b[49m\u001b[38;5;28;43;01melse\u001b[39;49;00m\u001b[43m \u001b[49m\u001b[43mlora_request\u001b[49m\u001b[43m,\u001b[49m\n\u001b[32m   1347\u001b[39m \u001b[43m        \u001b[49m\u001b[43mprompt_adapter_request\u001b[49m\u001b[43m=\u001b[49m\u001b[43mprompt_adapter_request\u001b[49m\u001b[43m,\u001b[49m\n\u001b[32m   1348\u001b[39m \u001b[43m        \u001b[49m\u001b[43mpriority\u001b[49m\u001b[43m=\u001b[49m\u001b[43mpriority\u001b[49m\u001b[43m[\u001b[49m\u001b[43mi\u001b[49m\u001b[43m]\u001b[49m\u001b[43m \u001b[49m\u001b[38;5;28;43;01mif\u001b[39;49;00m\u001b[43m \u001b[49m\u001b[43mpriority\u001b[49m\u001b[43m \u001b[49m\u001b[38;5;28;43;01melse\u001b[39;49;00m\u001b[43m \u001b[49m\u001b[32;43m0\u001b[39;49m\u001b[43m,\u001b[49m\n\u001b[32m   1349\u001b[39m \u001b[43m    \u001b[49m\u001b[43m)\u001b[49m\n",
      "\u001b[36mFile \u001b[39m\u001b[32m/data/home/vkropoti/vllm/lib64/python3.12/site-packages/vllm/entrypoints/llm.py:1360\u001b[39m, in \u001b[36mLLM._add_request\u001b[39m\u001b[34m(self, prompt, params, lora_request, prompt_adapter_request, priority)\u001b[39m\n\u001b[32m   1351\u001b[39m \u001b[38;5;28;01mdef\u001b[39;00m\u001b[38;5;250m \u001b[39m\u001b[34m_add_request\u001b[39m(\n\u001b[32m   1352\u001b[39m     \u001b[38;5;28mself\u001b[39m,\n\u001b[32m   1353\u001b[39m     prompt: PromptType,\n\u001b[32m   (...)\u001b[39m\u001b[32m   1357\u001b[39m     priority: \u001b[38;5;28mint\u001b[39m = \u001b[32m0\u001b[39m,\n\u001b[32m   1358\u001b[39m ) -> \u001b[38;5;28;01mNone\u001b[39;00m:\n\u001b[32m   1359\u001b[39m     request_id = \u001b[38;5;28mstr\u001b[39m(\u001b[38;5;28mnext\u001b[39m(\u001b[38;5;28mself\u001b[39m.request_counter))\n\u001b[32m-> \u001b[39m\u001b[32m1360\u001b[39m     \u001b[38;5;28;43mself\u001b[39;49m\u001b[43m.\u001b[49m\u001b[43mllm_engine\u001b[49m\u001b[43m.\u001b[49m\u001b[43madd_request\u001b[49m\u001b[43m(\u001b[49m\n\u001b[32m   1361\u001b[39m \u001b[43m        \u001b[49m\u001b[43mrequest_id\u001b[49m\u001b[43m,\u001b[49m\n\u001b[32m   1362\u001b[39m \u001b[43m        \u001b[49m\u001b[43mprompt\u001b[49m\u001b[43m,\u001b[49m\n\u001b[32m   1363\u001b[39m \u001b[43m        \u001b[49m\u001b[43mparams\u001b[49m\u001b[43m,\u001b[49m\n\u001b[32m   1364\u001b[39m \u001b[43m        \u001b[49m\u001b[43mlora_request\u001b[49m\u001b[43m=\u001b[49m\u001b[43mlora_request\u001b[49m\u001b[43m,\u001b[49m\n\u001b[32m   1365\u001b[39m \u001b[43m        \u001b[49m\u001b[43mprompt_adapter_request\u001b[49m\u001b[43m=\u001b[49m\u001b[43mprompt_adapter_request\u001b[49m\u001b[43m,\u001b[49m\n\u001b[32m   1366\u001b[39m \u001b[43m        \u001b[49m\u001b[43mpriority\u001b[49m\u001b[43m=\u001b[49m\u001b[43mpriority\u001b[49m\u001b[43m,\u001b[49m\n\u001b[32m   1367\u001b[39m \u001b[43m    \u001b[49m\u001b[43m)\u001b[49m\n",
      "\u001b[36mFile \u001b[39m\u001b[32m/data/home/vkropoti/vllm/lib64/python3.12/site-packages/vllm/v1/engine/llm_engine.py:186\u001b[39m, in \u001b[36mLLMEngine.add_request\u001b[39m\u001b[34m(self, request_id, prompt, params, arrival_time, lora_request, trace_headers, prompt_adapter_request, priority)\u001b[39m\n\u001b[32m    174\u001b[39m \u001b[38;5;28;01mdef\u001b[39;00m\u001b[38;5;250m \u001b[39m\u001b[34madd_request\u001b[39m(\n\u001b[32m    175\u001b[39m     \u001b[38;5;28mself\u001b[39m,\n\u001b[32m    176\u001b[39m     request_id: \u001b[38;5;28mstr\u001b[39m,\n\u001b[32m   (...)\u001b[39m\u001b[32m    184\u001b[39m ) -> \u001b[38;5;28;01mNone\u001b[39;00m:\n\u001b[32m    185\u001b[39m     \u001b[38;5;66;03m# Process raw inputs into the request.\u001b[39;00m\n\u001b[32m--> \u001b[39m\u001b[32m186\u001b[39m     request = \u001b[38;5;28;43mself\u001b[39;49m\u001b[43m.\u001b[49m\u001b[43mprocessor\u001b[49m\u001b[43m.\u001b[49m\u001b[43mprocess_inputs\u001b[49m\u001b[43m(\u001b[49m\u001b[43mrequest_id\u001b[49m\u001b[43m,\u001b[49m\u001b[43m \u001b[49m\u001b[43mprompt\u001b[49m\u001b[43m,\u001b[49m\u001b[43m \u001b[49m\u001b[43mparams\u001b[49m\u001b[43m,\u001b[49m\n\u001b[32m    187\u001b[39m \u001b[43m                                            \u001b[49m\u001b[43marrival_time\u001b[49m\u001b[43m,\u001b[49m\u001b[43m \u001b[49m\u001b[43mlora_request\u001b[49m\u001b[43m,\u001b[49m\n\u001b[32m    188\u001b[39m \u001b[43m                                            \u001b[49m\u001b[43mtrace_headers\u001b[49m\u001b[43m,\u001b[49m\n\u001b[32m    189\u001b[39m \u001b[43m                                            \u001b[49m\u001b[43mprompt_adapter_request\u001b[49m\u001b[43m,\u001b[49m\n\u001b[32m    190\u001b[39m \u001b[43m                                            \u001b[49m\u001b[43mpriority\u001b[49m\u001b[43m)\u001b[49m\n\u001b[32m    192\u001b[39m     n = params.n \u001b[38;5;28;01mif\u001b[39;00m \u001b[38;5;28misinstance\u001b[39m(params, SamplingParams) \u001b[38;5;28;01melse\u001b[39;00m \u001b[32m1\u001b[39m\n\u001b[32m    194\u001b[39m     \u001b[38;5;28;01mif\u001b[39;00m n == \u001b[32m1\u001b[39m:\n\u001b[32m    195\u001b[39m         \u001b[38;5;66;03m# Make a new RequestState and queue.\u001b[39;00m\n",
      "\u001b[36mFile \u001b[39m\u001b[32m/data/home/vkropoti/vllm/lib64/python3.12/site-packages/vllm/v1/engine/processor.py:236\u001b[39m, in \u001b[36mProcessor.process_inputs\u001b[39m\u001b[34m(self, request_id, prompt, params, arrival_time, lora_request, trace_headers, prompt_adapter_request, priority)\u001b[39m\n\u001b[32m    228\u001b[39m processed_inputs: ProcessorInputs = \u001b[38;5;28mself\u001b[39m.input_preprocessor.preprocess(\n\u001b[32m    229\u001b[39m     prompt,\n\u001b[32m    230\u001b[39m     lora_request=lora_request,\n\u001b[32m    231\u001b[39m     prompt_adapter_request=prompt_adapter_request,\n\u001b[32m    232\u001b[39m     return_mm_hashes=\u001b[38;5;28mself\u001b[39m.use_hash,\n\u001b[32m    233\u001b[39m )\n\u001b[32m    234\u001b[39m eos_token_id = \u001b[38;5;28mself\u001b[39m.input_preprocessor.get_eos_token_id(lora_request)\n\u001b[32m--> \u001b[39m\u001b[32m236\u001b[39m \u001b[38;5;28;43mself\u001b[39;49m\u001b[43m.\u001b[49m\u001b[43m_validate_model_inputs\u001b[49m\u001b[43m(\u001b[49m\u001b[43mprocessed_inputs\u001b[49m\u001b[43m,\u001b[49m\u001b[43m \u001b[49m\u001b[43mlora_request\u001b[49m\u001b[43m)\u001b[49m\n\u001b[32m    238\u001b[39m encoder_inputs, decoder_inputs = split_enc_dec_inputs(processed_inputs)\n\u001b[32m    240\u001b[39m \u001b[38;5;66;03m# TODO: Impl encoder-decoder\u001b[39;00m\n",
      "\u001b[36mFile \u001b[39m\u001b[32m/data/home/vkropoti/vllm/lib64/python3.12/site-packages/vllm/v1/engine/processor.py:328\u001b[39m, in \u001b[36mProcessor._validate_model_inputs\u001b[39m\u001b[34m(self, inputs, lora_request)\u001b[39m\n\u001b[32m    323\u001b[39m \u001b[38;5;28;01mif\u001b[39;00m encoder_inputs \u001b[38;5;129;01mis\u001b[39;00m \u001b[38;5;129;01mnot\u001b[39;00m \u001b[38;5;28;01mNone\u001b[39;00m:\n\u001b[32m    324\u001b[39m     \u001b[38;5;28mself\u001b[39m._validate_model_input(encoder_inputs,\n\u001b[32m    325\u001b[39m                                lora_request,\n\u001b[32m    326\u001b[39m                                prompt_type=\u001b[33m\"\u001b[39m\u001b[33mencoder\u001b[39m\u001b[33m\"\u001b[39m)\n\u001b[32m--> \u001b[39m\u001b[32m328\u001b[39m \u001b[38;5;28;43mself\u001b[39;49m\u001b[43m.\u001b[49m\u001b[43m_validate_model_input\u001b[49m\u001b[43m(\u001b[49m\u001b[43mdecoder_inputs\u001b[49m\u001b[43m,\u001b[49m\n\u001b[32m    329\u001b[39m \u001b[43m                           \u001b[49m\u001b[43mlora_request\u001b[49m\u001b[43m,\u001b[49m\n\u001b[32m    330\u001b[39m \u001b[43m                           \u001b[49m\u001b[43mprompt_type\u001b[49m\u001b[43m=\u001b[49m\u001b[33;43m\"\u001b[39;49m\u001b[33;43mdecoder\u001b[39;49m\u001b[33;43m\"\u001b[39;49m\u001b[43m)\u001b[49m\n",
      "\u001b[36mFile \u001b[39m\u001b[32m/data/home/vkropoti/vllm/lib64/python3.12/site-packages/vllm/v1/engine/processor.py:377\u001b[39m, in \u001b[36mProcessor._validate_model_input\u001b[39m\u001b[34m(self, prompt_inputs, lora_request, prompt_type)\u001b[39m\n\u001b[32m    372\u001b[39m \u001b[38;5;28;01melse\u001b[39;00m:\n\u001b[32m    373\u001b[39m     suggestion = (\n\u001b[32m    374\u001b[39m         \u001b[33m\"\u001b[39m\u001b[33mMake sure that `max_model_len` is no smaller than the \u001b[39m\u001b[33m\"\u001b[39m\n\u001b[32m    375\u001b[39m         \u001b[33m\"\u001b[39m\u001b[33mnumber of text tokens.\u001b[39m\u001b[33m\"\u001b[39m)\n\u001b[32m--> \u001b[39m\u001b[32m377\u001b[39m \u001b[38;5;28;01mraise\u001b[39;00m \u001b[38;5;167;01mValueError\u001b[39;00m(\n\u001b[32m    378\u001b[39m     \u001b[33mf\u001b[39m\u001b[33m\"\u001b[39m\u001b[33mThe \u001b[39m\u001b[38;5;132;01m{\u001b[39;00mprompt_type\u001b[38;5;132;01m}\u001b[39;00m\u001b[33m prompt (length \u001b[39m\u001b[38;5;132;01m{\u001b[39;00m\u001b[38;5;28mlen\u001b[39m(prompt_ids)\u001b[38;5;132;01m}\u001b[39;00m\u001b[33m) is \u001b[39m\u001b[33m\"\u001b[39m\n\u001b[32m    379\u001b[39m     \u001b[33mf\u001b[39m\u001b[33m\"\u001b[39m\u001b[33mlonger than the maximum model length of \u001b[39m\u001b[38;5;132;01m{\u001b[39;00mmax_prompt_len\u001b[38;5;132;01m}\u001b[39;00m\u001b[33m. \u001b[39m\u001b[33m\"\u001b[39m\n\u001b[32m    380\u001b[39m     \u001b[33mf\u001b[39m\u001b[33m\"\u001b[39m\u001b[38;5;132;01m{\u001b[39;00msuggestion\u001b[38;5;132;01m}\u001b[39;00m\u001b[33m\"\u001b[39m)\n",
      "\u001b[31mValueError\u001b[39m: The decoder prompt (length 41780) is longer than the maximum model length of 40960. Make sure that `max_model_len` is no smaller than the number of text tokens."
     ]
    }
   ],
   "source": [
    "run_cot_experiment(model,arr_seeds,arr_versions, type_cot,num_observations=num_observations)"
   ]
  },
  {
   "cell_type": "markdown",
   "id": "87878e5f-093d-453a-9788-03dc8dd66798",
   "metadata": {},
   "source": [
    "# part2: answer"
   ]
  },
  {
   "cell_type": "code",
   "execution_count": 3,
   "id": "bceafaae-0c5b-4fb9-a4f9-91e86a81a4fc",
   "metadata": {},
   "outputs": [
    {
     "name": "stdout",
     "output_type": "stream",
     "text": [
      "[762, 673, 817, 186, 675, 132, 371, 993, 607, 325, 486, 72, 184, 675, 728, 65, 467, 394, 683, 938]\n",
      "model: Qwen3-1.7B\n"
     ]
    }
   ],
   "source": [
    "n= 20\n",
    "arr_seeds = [random.randint(0,1000) for _ in range(n)]\n",
    "arr_versions = [x for x in range(n)]\n",
    "model = \"Qwen3-1.7B\"\n",
    "num_observations = 2\n",
    "type_cot = 'predict'\n",
    "print(arr_seeds)\n",
    "print(f\"model: {model}\")"
   ]
  },
  {
   "cell_type": "code",
   "execution_count": 4,
   "id": "612ac94a-93c5-4681-978d-f7322871fb25",
   "metadata": {
    "scrolled": true
   },
   "outputs": [
    {
     "name": "stdout",
     "output_type": "stream",
     "text": [
      "Загружаем модель...\n"
     ]
    },
    {
     "name": "stderr",
     "output_type": "stream",
     "text": [
      "Loading safetensors checkpoint shards:   0% Completed | 0/2 [00:00<?, ?it/s]\n",
      "Loading safetensors checkpoint shards:  50% Completed | 1/2 [00:00<00:00,  1.03it/s]\n",
      "Loading safetensors checkpoint shards: 100% Completed | 2/2 [00:01<00:00,  1.97it/s]\n",
      "\u001b[1;36m(VllmWorker rank=0 pid=2954877)\u001b[0;0m \n"
     ]
    },
    {
     "name": "stdout",
     "output_type": "stream",
     "text": [
      "Модель успешно загружена\n",
      "model_config {'model': '/data/home/vkropoti/models/Qwen3-1.7B', 'tensor_parallel_size': 2, 'max_model_len': 40000, 'max_new_tokens': 1500, 'temperature': 0, 'top_k': 1, 'top_p': 0.8, 'gpu_memory_utilization': 0.9, 'trust_remote_code': False, 'seed': 762}\n",
      "\n",
      "prompts_config {'path_dev_json': '/home/vkropoti/vllm/dev.json', 'path_sql_dbs': '/data/home/vkropoti/sql_data/dev_databases/', 'use_reasoning': False, 'paths_to_cot': ['/data/home/vkropoti/sql_llm_answers/bird_dev_m_schema/sql_predict_Qwen3-1.7B-reasoning-v0', '/data/home/vkropoti/sql_llm_answers/bird_dev_m_schema/sql_predict_Qwen3-1.7B-reasoning-v1']}\n",
      "\n",
      "save_config {'path_sql_save': '/data/home/vkropoti/sql_llm_answers/bird_dev_m_schema/sql_all_Qwen3-1.7B-cot_predict_think==False_nobs2-v0', 'path_think_save': None, 'path_sql_answers_save': '/data/home/vkropoti/sql_llm_answers/bird_dev_m_schema/sql_predict_Qwen3-1.7B-cot_predict_think==False_nobs2-v0', 'path_to_save_scores': '/data/home/vkropoti/sql_llm_answers/bird_dev_m_schema/sql_results_Qwen3-1.7B-cot_predict_think==False_nobs2-v0', 'path_to_save_executed': '/data/home/vkropoti/sql_llm_answers/bird_dev_m_schema/sql_executed_Qwen3-1.7B-cot_predict_think==False_nobs2-v0'}\n",
      "\n",
      "Модель успешно загружена\n",
      "Пример промпта\n",
      "<|im_start|>system\n",
      "\n",
      "You are a data science expert. Below, you are provided with a database schema and a natural language question. Your task is to understand the schema and generate a valid SQL query to answer the question.\n",
      "\n",
      "Database Engine: SQLite\n",
      "\n",
      "You will be given an additional analysis of other models, please take it into account, so the plan is\n",
      "1. Analyse given addition analysis from other models (find in which analysis the same and differ, how to use that to answer question)\n",
      "2. Combine best from previous part and think how to solve the problem (analyze tables, take care what columns avaliable in each table and so on, check the syntacsis)\n",
      "3. Create the answers. The answer should be only sql query.\n",
      "\n",
      "Carefully follow the instruction and add <|im_end|> and the end of the final answer<|im_end|>\n",
      "<|im_start|>user\n",
      "Here is addition analysis from other models which can be helpfull, please take this into account but be careful (choose the best from each analysis, combine them to make the most proper answer):\n",
      "\n",
      "model 0 analysis:\n",
      " SELECT MAX(Free Meal Count (K-12)/Enrollment (K-12)) FROM schools JOIN frpm ON schools.CDSCode = frpm.CDSCode WHERE schools.County = 'Alameda';\n",
      "\n",
      "model 1 analysis:\n",
      " SELECT MAX((Free Meal Count (K-12) / Enrollment (K-12))) AS highest_rate\n",
      "FROM frpm\n",
      "JOIN schools ON frpm.CDSCode = schools.CDSCode\n",
      "WHERE schools.County = 'Alameda' AND frpm.Low Grade = 'K' AND frpm.High Grade = '12';\n",
      "\n",
      "\n",
      "here is avaliable tables and their structure below\n",
      "【DB_ID】 california_schools\n",
      "【Schema】\n",
      "# Table: frpm\n",
      "[\n",
      "(CDSCode:TEXT, maps to schools.CDSCode, Primary Key, Examples: [01100170109835, 01100170112607, 01100170118489]),\n",
      "(Academic Year:TEXT, Examples: [2014-2015]),\n",
      "(County Code:TEXT, Examples: [01, 02, 03]),\n",
      "(District Code:INTEGER, Examples: [10017, 31609, 31617]),\n",
      "(School Code:TEXT, Examples: [0109835, 0112607, 0118489]),\n",
      "(County Name:TEXT, Examples: [Alameda, Alpine, Amador]),\n",
      "(District Name:TEXT),\n",
      "(School Name:TEXT, Examples: [FAME Public Charter]),\n",
      "(District Type:TEXT, Examples: [County Office of Education (COE)]),\n",
      "(School Type:TEXT, Examples: [K-12 Schools (Public)]),\n",
      "(Educational Option Type:TEXT, Examples: [Traditional]),\n",
      "(NSLP Provision Status:TEXT, Examples: [Breakfast Provision 2]),\n",
      "(Charter School (Y/N):INTEGER, Examples: [1, 0]),\n",
      "(Charter School Number:TEXT, Examples: [0728, 0811, 1049]),\n",
      "(Charter Funding Type:TEXT, Examples: [Directly funded]),\n",
      "(IRC:INTEGER, Examples: [1, 0]),\n",
      "(Low Grade:TEXT, Examples: [K, 9, 1]),\n",
      "(High Grade:TEXT, Examples: [12, 8, 5]),\n",
      "(Enrollment (K-12):REAL, Examples: [1087.0, 395.0, 244.0]),\n",
      "(Free Meal Count (K-12):REAL, Examples: [565.0, 186.0, 134.0]),\n",
      "(Percent (%) Eligible Free (K-12):REAL, Examples: [0.519779208831647, 0.470886075949367, 0.549180327868853]),\n",
      "(FRPM Count (K-12):REAL, Examples: [715.0, 186.0, 175.0]),\n",
      "(Percent (%) Eligible FRPM (K-12):REAL, Examples: [0.657773689052438, 0.470886075949367, 0.717213114754098]),\n",
      "(Enrollment (Ages 5-17):REAL, Examples: [1070.0, 376.0, 230.0]),\n",
      "(Free Meal Count (Ages 5-17):REAL, Examples: [553.0, 182.0, 128.0]),\n",
      "(Percent (%) Eligible Free (Ages 5-17):REAL, Examples: [0.516822429906542, 0.484042553191489, 0.556521739130435]),\n",
      "(FRPM Count (Ages 5-17):REAL, Examples: [702.0, 182.0, 168.0]),\n",
      "(Percent (%) Eligible FRPM (Ages 5-17):REAL, Examples: [0.65607476635514, 0.484042553191489, 0.730434782608696]),\n",
      "(2013-14 CALPADS Fall 1 Certification Status:INTEGER, Examples: [1])\n",
      "]\n",
      "# Table: satscores\n",
      "[\n",
      "(cds:TEXT, maps to schools.CDSCode, Primary Key, Examples: [10101080000000, 10101080109991, 10101080111682]),\n",
      "(rtype:TEXT, Examples: [D, S]),\n",
      "(sname:TEXT, Examples: [FAME Public Charter]),\n",
      "(dname:TEXT, Examples: [Alameda County Office of Education]),\n",
      "(cname:TEXT, Examples: [Alameda, Amador, Butte]),\n",
      "(enroll12:INTEGER, Examples: [398, 62, 75]),\n",
      "(NumTstTakr:INTEGER, Examples: [88, 17, 71]),\n",
      "(AvgScrRead:INTEGER, Examples: [418, 503, 397]),\n",
      "(AvgScrMath:INTEGER, Examples: [418, 546, 387]),\n",
      "(AvgScrWrite:INTEGER, Examples: [417, 505, 395]),\n",
      "(NumGE1500:INTEGER, Examples: [14, 9, 5])\n",
      "]\n",
      "# Table: schools\n",
      "[\n",
      "(CDSCode:TEXT, Primary Key, Examples: [01100170000000, 01100170109835, 01100170112607]),\n",
      "(NCESDist:TEXT, Examples: [0691051, 0600002, 0600003]),\n",
      "(NCESSchool:TEXT, Examples: [10546, 10947, 12283]),\n",
      "(StatusType:TEXT, Examples: [Active, Closed, Merged]),\n",
      "(County:TEXT, Examples: [Alameda, Alpine, Amador]),\n",
      "(District:TEXT),\n",
      "(School:TEXT, Examples: [FAME Public Charter]),\n",
      "(Street:TEXT, Examples: [313 West Winton Avenue]),\n",
      "(StreetAbr:TEXT, Examples: [313 West Winton Ave.]),\n",
      "(City:TEXT, Examples: [Hayward, Newark, Oakland]),\n",
      "(Zip:TEXT, Examples: [94544-1136, 94560-5359, 94612-3355]),\n",
      "(State:TEXT, Examples: [CA]),\n",
      "(MailStreet:TEXT, Examples: [313 West Winton Avenue]),\n",
      "(MailStrAbr:TEXT, Examples: [313 West Winton Ave.]),\n",
      "(MailCity:TEXT, Examples: [Hayward, Newark, Oakland]),\n",
      "(MailZip:TEXT, Examples: [94544-1136, 94560-5359, 94612]),\n",
      "(MailState:TEXT, Examples: [CA]),\n",
      "(Phone:TEXT, Examples: [(510) 887-0152, (510) 596-8901, (510) 686-4131]),\n",
      "(Ext:TEXT, Examples: [130, 1240, 1200]),\n",
      "(Website:TEXT, Examples: [www.acoe.org]),\n",
      "(OpenDate:DATE, Examples: [2005-08-29]),\n",
      "(ClosedDate:DATE, Examples: [2015-07-31]),\n",
      "(Charter:INTEGER, Examples: [1, 0]),\n",
      "(CharterNum:TEXT, Examples: [0728, 0811, 1049]),\n",
      "(FundingType:TEXT, Examples: [Directly funded]),\n",
      "(DOC:TEXT, Examples: [00, 31, 34]),\n",
      "(DOCType:TEXT, Examples: [County Office of Education (COE)]),\n",
      "(SOC:TEXT, Examples: [65, 66, 60]),\n",
      "(SOCType:TEXT, Examples: [K-12 Schools (Public)]),\n",
      "(EdOpsCode:TEXT, Examples: [TRAD, JUV, COMM]),\n",
      "(EdOpsName:TEXT, Examples: [Traditional]),\n",
      "(EILCode:TEXT, Examples: [ELEMHIGH, HS, ELEM]),\n",
      "(EILName:TEXT, Examples: [Elementary-High Combination]),\n",
      "(GSoffered:TEXT, Examples: [K-12, 9-12, K-8]),\n",
      "(GSserved:TEXT, Examples: [K-12, 9-12, K-7]),\n",
      "(Virtual:TEXT, Examples: [P, N, F]),\n",
      "(Magnet:INTEGER, Examples: [0, 1]),\n",
      "(Latitude:REAL, Examples: [37.658212, 37.521436, 37.80452]),\n",
      "(Longitude:REAL, Examples: [-122.09713, -121.99391, -122.26815]),\n",
      "(AdmFName1:TEXT, Examples: [L Karen, Laura, Clifford]),\n",
      "(AdmLName1:TEXT, Examples: [Monroe, Robell, Thompson]),\n",
      "(AdmEmail1:TEXT),\n",
      "(AdmFName2:TEXT, Examples: [Sau-Lim (Lance), Jennifer, Annalisa]),\n",
      "(AdmLName2:TEXT, Examples: [Tsang, Koelling, Moore]),\n",
      "(AdmEmail2:TEXT),\n",
      "(AdmFName3:TEXT, Examples: [Drew, Irma, Vickie]),\n",
      "(AdmLName3:TEXT, Examples: [Sarratore, Munoz, Chang]),\n",
      "(AdmEmail3:TEXT),\n",
      "(LastUpdate:DATE, Examples: [2015-06-23])\n",
      "]\n",
      "【Foreign keys】\n",
      "frpm.CDSCode=schools.CDSCode\n",
      "satscores.cds=schools.CDSCode\n",
      "\n",
      "-- Using valid SQLite and understanding External Knowledge, answer the following questions for the tables provided above.\n",
      "-- What is the highest eligible free rate for K-12 students in the schools in Alameda County?\n",
      "-- External Knowledge: Eligible free rate for K-12 = `Free Meal Count (K-12)` / `Enrollment (K-12)`\n",
      "\n",
      "\n",
      "Generate the SQLite for the above question after thinking step by step: \n",
      "\n",
      "\n",
      "Instructions:\n",
      "- Make sure you only output the information that is asked in the question. If the question asks for a specific column, make sure to only include that column in the SELECT clause, nothing more.\n",
      "- The generated query should return all of the information asked in the question without any missing or extra information.\n",
      "- Before generating the final SQL query, please think through the steps of how to write the query.\n",
      "- Do not misuse column names, keep them in quotes `\n",
      "- Carefully understand what colomns belond to what tables\n",
      "- Use only initial column names, change names prohibited\n",
      "        \n",
      "Output Format:\n",
      "In your answer, please enclose the generated SQL query in a code block:\n",
      "```\n",
      "-- Your SQL query\n",
      "```    \n",
      "and nothing else, no exaplains, no comments (asnwer should be less than 512 characters)\n",
      "\n",
      "Take a deep breath and think step by step to find the correct SQL query in SQLite format.\n",
      "\n",
      "Question repetition: What is the highest eligible free rate for K-12 students in the schools in Alameda County?\n",
      "\n",
      "Be care! Include only what i want it questiona and nothing else<|im_end|>\n",
      "<|im_start|>assistant\n",
      "<think>\n",
      "\n",
      "</think>\n",
      "\n",
      "\n",
      "\n",
      "\n",
      "Максимальное количество токенов в промптах: 20930\n",
      "\n",
      "начинаем скорринг\n",
      "Загружаем чаты с данными...\n",
      "Данные успешно загружены\n",
      "Начали генерацию SQL запросов\n"
     ]
    },
    {
     "name": "stderr",
     "output_type": "stream",
     "text": [
      "Processed prompts: 100%|██████████| 1534/1534 [00:28<00:00, 53.31it/s, est. speed input: 132330.30 toks/s, output: 2504.25 toks/s] "
     ]
    },
    {
     "name": "stdout",
     "output_type": "stream",
     "text": [
      "extract_think количество ошибок:  0\n",
      "extract_sql количество ошибок:  0\n",
      "Закончили генерацию SQL запросов\n",
      "Начали скорр полученных SQL запросов\n"
     ]
    },
    {
     "name": "stderr",
     "output_type": "stream",
     "text": [
      "\n"
     ]
    },
    {
     "name": "stdout",
     "output_type": "stream",
     "text": [
      "Qwen3-1.7B DEV Финальный результат EX: 44.00\n",
      "Qwen3-1.7B процент запросов, которые успешно выполнились DEV: 76.60%\n",
      "====================================================================================================\n",
      "\n",
      "\n",
      "Загружаем чаты с данными...\n",
      "Данные успешно загружены\n",
      "Начали генерацию SQL запросов\n"
     ]
    },
    {
     "name": "stderr",
     "output_type": "stream",
     "text": [
      "Processed prompts: 100%|██████████| 1534/1534 [00:24<00:00, 62.42it/s, est. speed input: 154971.91 toks/s, output: 2874.27 toks/s] "
     ]
    },
    {
     "name": "stdout",
     "output_type": "stream",
     "text": [
      "extract_think количество ошибок:  0\n",
      "extract_sql количество ошибок:  0\n",
      "Закончили генерацию SQL запросов\n",
      "Начали скорр полученных SQL запросов\n"
     ]
    },
    {
     "name": "stderr",
     "output_type": "stream",
     "text": [
      "\n"
     ]
    },
    {
     "name": "stdout",
     "output_type": "stream",
     "text": [
      "Qwen3-1.7B DEV Финальный результат EX: 43.29\n",
      "Qwen3-1.7B процент запросов, которые успешно выполнились DEV: 75.49%\n",
      "====================================================================================================\n",
      "\n",
      "\n",
      "Загружаем чаты с данными...\n",
      "Данные успешно загружены\n",
      "Начали генерацию SQL запросов\n"
     ]
    },
    {
     "name": "stderr",
     "output_type": "stream",
     "text": [
      "Processed prompts: 100%|██████████| 1534/1534 [00:24<00:00, 61.38it/s, est. speed input: 152397.87 toks/s, output: 2824.73 toks/s] "
     ]
    },
    {
     "name": "stdout",
     "output_type": "stream",
     "text": [
      "extract_think количество ошибок:  0\n",
      "extract_sql количество ошибок:  0\n",
      "Закончили генерацию SQL запросов\n",
      "Начали скорр полученных SQL запросов\n"
     ]
    },
    {
     "name": "stderr",
     "output_type": "stream",
     "text": [
      "\n"
     ]
    },
    {
     "name": "stdout",
     "output_type": "stream",
     "text": [
      "Qwen3-1.7B DEV Финальный результат EX: 42.76\n",
      "Qwen3-1.7B процент запросов, которые успешно выполнились DEV: 74.38%\n",
      "====================================================================================================\n",
      "\n",
      "\n",
      "Загружаем чаты с данными...\n",
      "Данные успешно загружены\n",
      "Начали генерацию SQL запросов\n"
     ]
    },
    {
     "name": "stderr",
     "output_type": "stream",
     "text": [
      "Processed prompts: 100%|██████████| 1534/1534 [00:25<00:00, 61.23it/s, est. speed input: 151342.69 toks/s, output: 2805.35 toks/s] "
     ]
    },
    {
     "name": "stdout",
     "output_type": "stream",
     "text": [
      "extract_think количество ошибок:  0\n",
      "extract_sql количество ошибок:  0\n",
      "Закончили генерацию SQL запросов\n",
      "Начали скорр полученных SQL запросов\n"
     ]
    },
    {
     "name": "stderr",
     "output_type": "stream",
     "text": [
      "\n"
     ]
    },
    {
     "name": "stdout",
     "output_type": "stream",
     "text": [
      "Qwen3-1.7B DEV Финальный результат EX: 44.07\n",
      "Qwen3-1.7B процент запросов, которые успешно выполнились DEV: 75.55%\n",
      "====================================================================================================\n",
      "\n",
      "\n",
      "Загружаем чаты с данными...\n",
      "Данные успешно загружены\n",
      "Начали генерацию SQL запросов\n"
     ]
    },
    {
     "name": "stderr",
     "output_type": "stream",
     "text": [
      "Processed prompts: 100%|██████████| 1534/1534 [00:24<00:00, 63.52it/s, est. speed input: 156861.51 toks/s, output: 2906.57 toks/s] "
     ]
    },
    {
     "name": "stdout",
     "output_type": "stream",
     "text": [
      "extract_think количество ошибок:  0\n",
      "extract_sql количество ошибок:  0\n",
      "Закончили генерацию SQL запросов\n",
      "Начали скорр полученных SQL запросов\n"
     ]
    },
    {
     "name": "stderr",
     "output_type": "stream",
     "text": [
      "\n"
     ]
    },
    {
     "name": "stdout",
     "output_type": "stream",
     "text": [
      "Qwen3-1.7B DEV Финальный результат EX: 44.78\n",
      "Qwen3-1.7B процент запросов, которые успешно выполнились DEV: 76.79%\n",
      "====================================================================================================\n",
      "\n",
      "\n",
      "Загружаем чаты с данными...\n",
      "Данные успешно загружены\n",
      "Начали генерацию SQL запросов\n"
     ]
    },
    {
     "name": "stderr",
     "output_type": "stream",
     "text": [
      "Processed prompts: 100%|██████████| 1534/1534 [00:24<00:00, 61.45it/s, est. speed input: 152395.61 toks/s, output: 2845.80 toks/s] "
     ]
    },
    {
     "name": "stdout",
     "output_type": "stream",
     "text": [
      "extract_think количество ошибок:  0\n",
      "extract_sql количество ошибок:  0\n",
      "Закончили генерацию SQL запросов\n",
      "Начали скорр полученных SQL запросов\n"
     ]
    },
    {
     "name": "stderr",
     "output_type": "stream",
     "text": [
      "\n"
     ]
    },
    {
     "name": "stdout",
     "output_type": "stream",
     "text": [
      "Qwen3-1.7B DEV Финальный результат EX: 45.44\n",
      "Qwen3-1.7B процент запросов, которые успешно выполнились DEV: 76.34%\n",
      "====================================================================================================\n",
      "\n",
      "\n",
      "Загружаем чаты с данными...\n",
      "Данные успешно загружены\n",
      "Начали генерацию SQL запросов\n"
     ]
    },
    {
     "name": "stderr",
     "output_type": "stream",
     "text": [
      "Processed prompts: 100%|██████████| 1534/1534 [00:25<00:00, 59.23it/s, est. speed input: 146897.97 toks/s, output: 2743.68 toks/s] "
     ]
    },
    {
     "name": "stdout",
     "output_type": "stream",
     "text": [
      "extract_think количество ошибок:  0\n",
      "extract_sql количество ошибок:  0\n",
      "Закончили генерацию SQL запросов\n",
      "Начали скорр полученных SQL запросов\n"
     ]
    },
    {
     "name": "stderr",
     "output_type": "stream",
     "text": [
      "\n"
     ]
    },
    {
     "name": "stdout",
     "output_type": "stream",
     "text": [
      "Qwen3-1.7B DEV Финальный результат EX: 46.09\n",
      "Qwen3-1.7B процент запросов, которые успешно выполнились DEV: 78.16%\n",
      "====================================================================================================\n",
      "\n",
      "\n",
      "Загружаем чаты с данными...\n",
      "Данные успешно загружены\n",
      "Начали генерацию SQL запросов\n"
     ]
    },
    {
     "name": "stderr",
     "output_type": "stream",
     "text": [
      "Processed prompts: 100%|██████████| 1534/1534 [00:24<00:00, 61.40it/s, est. speed input: 151640.06 toks/s, output: 2812.96 toks/s] "
     ]
    },
    {
     "name": "stdout",
     "output_type": "stream",
     "text": [
      "extract_think количество ошибок:  0\n",
      "extract_sql количество ошибок:  0\n",
      "Закончили генерацию SQL запросов\n",
      "Начали скорр полученных SQL запросов\n"
     ]
    },
    {
     "name": "stderr",
     "output_type": "stream",
     "text": [
      "\n"
     ]
    },
    {
     "name": "stdout",
     "output_type": "stream",
     "text": [
      "Qwen3-1.7B DEV Финальный результат EX: 45.18\n",
      "Qwen3-1.7B процент запросов, которые успешно выполнились DEV: 77.57%\n",
      "====================================================================================================\n",
      "\n",
      "\n",
      "Загружаем чаты с данными...\n",
      "Данные успешно загружены\n",
      "Начали генерацию SQL запросов\n"
     ]
    },
    {
     "name": "stderr",
     "output_type": "stream",
     "text": [
      "Processed prompts: 100%|██████████| 1534/1534 [00:24<00:00, 62.54it/s, est. speed input: 154447.26 toks/s, output: 2863.93 toks/s] "
     ]
    },
    {
     "name": "stdout",
     "output_type": "stream",
     "text": [
      "extract_think количество ошибок:  0\n",
      "extract_sql количество ошибок:  0\n",
      "Закончили генерацию SQL запросов\n",
      "Начали скорр полученных SQL запросов\n"
     ]
    },
    {
     "name": "stderr",
     "output_type": "stream",
     "text": [
      "\n"
     ]
    },
    {
     "name": "stdout",
     "output_type": "stream",
     "text": [
      "Qwen3-1.7B DEV Финальный результат EX: 45.57\n",
      "Qwen3-1.7B процент запросов, которые успешно выполнились DEV: 77.44%\n",
      "====================================================================================================\n",
      "\n",
      "\n",
      "Загружаем чаты с данными...\n",
      "Данные успешно загружены\n",
      "Начали генерацию SQL запросов\n"
     ]
    },
    {
     "name": "stderr",
     "output_type": "stream",
     "text": [
      "Processed prompts: 100%|██████████| 1534/1534 [00:25<00:00, 60.15it/s, est. speed input: 149770.53 toks/s, output: 2760.97 toks/s] "
     ]
    },
    {
     "name": "stdout",
     "output_type": "stream",
     "text": [
      "extract_think количество ошибок:  0\n",
      "extract_sql количество ошибок:  0\n",
      "Закончили генерацию SQL запросов\n",
      "Начали скорр полученных SQL запросов\n"
     ]
    },
    {
     "name": "stderr",
     "output_type": "stream",
     "text": [
      "\n"
     ]
    },
    {
     "name": "stdout",
     "output_type": "stream",
     "text": [
      "Qwen3-1.7B DEV Финальный результат EX: 44.92\n",
      "Qwen3-1.7B процент запросов, которые успешно выполнились DEV: 77.12%\n",
      "====================================================================================================\n",
      "\n",
      "\n",
      "Загружаем чаты с данными...\n",
      "Данные успешно загружены\n",
      "Начали генерацию SQL запросов\n"
     ]
    },
    {
     "name": "stderr",
     "output_type": "stream",
     "text": [
      "Processed prompts: 100%|██████████| 1534/1534 [00:26<00:00, 57.35it/s, est. speed input: 142812.75 toks/s, output: 2677.95 toks/s] "
     ]
    },
    {
     "name": "stdout",
     "output_type": "stream",
     "text": [
      "extract_think количество ошибок:  0\n",
      "extract_sql количество ошибок:  0\n",
      "Закончили генерацию SQL запросов\n",
      "Начали скорр полученных SQL запросов\n"
     ]
    },
    {
     "name": "stderr",
     "output_type": "stream",
     "text": [
      "\n"
     ]
    },
    {
     "name": "stdout",
     "output_type": "stream",
     "text": [
      "Qwen3-1.7B DEV Финальный результат EX: 45.11\n",
      "Qwen3-1.7B процент запросов, которые успешно выполнились DEV: 76.34%\n",
      "====================================================================================================\n",
      "\n",
      "\n",
      "Загружаем чаты с данными...\n",
      "Данные успешно загружены\n",
      "Начали генерацию SQL запросов\n"
     ]
    },
    {
     "name": "stderr",
     "output_type": "stream",
     "text": [
      "Processed prompts: 100%|██████████| 1534/1534 [00:25<00:00, 60.69it/s, est. speed input: 149898.06 toks/s, output: 2791.42 toks/s] "
     ]
    },
    {
     "name": "stdout",
     "output_type": "stream",
     "text": [
      "extract_think количество ошибок:  0\n",
      "extract_sql количество ошибок:  0\n",
      "Закончили генерацию SQL запросов\n",
      "Начали скорр полученных SQL запросов\n"
     ]
    },
    {
     "name": "stderr",
     "output_type": "stream",
     "text": [
      "\n"
     ]
    },
    {
     "name": "stdout",
     "output_type": "stream",
     "text": [
      "Qwen3-1.7B DEV Финальный результат EX: 44.33\n",
      "Qwen3-1.7B процент запросов, которые успешно выполнились DEV: 75.49%\n",
      "====================================================================================================\n",
      "\n",
      "\n",
      "Загружаем чаты с данными...\n",
      "Данные успешно загружены\n",
      "Начали генерацию SQL запросов\n"
     ]
    },
    {
     "name": "stderr",
     "output_type": "stream",
     "text": [
      "Processed prompts: 100%|██████████| 1534/1534 [00:25<00:00, 61.05it/s, est. speed input: 150831.17 toks/s, output: 2822.37 toks/s] "
     ]
    },
    {
     "name": "stdout",
     "output_type": "stream",
     "text": [
      "extract_think количество ошибок:  0\n",
      "extract_sql количество ошибок:  0\n",
      "Закончили генерацию SQL запросов\n",
      "Начали скорр полученных SQL запросов\n"
     ]
    },
    {
     "name": "stderr",
     "output_type": "stream",
     "text": [
      "\n"
     ]
    },
    {
     "name": "stdout",
     "output_type": "stream",
     "text": [
      "Qwen3-1.7B DEV Финальный результат EX: 44.33\n",
      "Qwen3-1.7B процент запросов, которые успешно выполнились DEV: 75.68%\n",
      "====================================================================================================\n",
      "\n",
      "\n",
      "Загружаем чаты с данными...\n",
      "Данные успешно загружены\n",
      "Начали генерацию SQL запросов\n"
     ]
    },
    {
     "name": "stderr",
     "output_type": "stream",
     "text": [
      "Processed prompts: 100%|██████████| 1534/1534 [00:24<00:00, 61.51it/s, est. speed input: 152034.43 toks/s, output: 2838.31 toks/s] "
     ]
    },
    {
     "name": "stdout",
     "output_type": "stream",
     "text": [
      "extract_think количество ошибок:  0\n",
      "extract_sql количество ошибок:  0\n",
      "Закончили генерацию SQL запросов\n",
      "Начали скорр полученных SQL запросов\n"
     ]
    },
    {
     "name": "stderr",
     "output_type": "stream",
     "text": [
      "\n"
     ]
    },
    {
     "name": "stdout",
     "output_type": "stream",
     "text": [
      "Qwen3-1.7B DEV Финальный результат EX: 44.85\n",
      "Qwen3-1.7B процент запросов, которые успешно выполнились DEV: 75.68%\n",
      "====================================================================================================\n",
      "\n",
      "\n",
      "Загружаем чаты с данными...\n",
      "Данные успешно загружены\n",
      "Начали генерацию SQL запросов\n"
     ]
    },
    {
     "name": "stderr",
     "output_type": "stream",
     "text": [
      "Processed prompts: 100%|██████████| 1534/1534 [00:24<00:00, 62.28it/s, est. speed input: 153884.19 toks/s, output: 2860.26 toks/s] "
     ]
    },
    {
     "name": "stdout",
     "output_type": "stream",
     "text": [
      "extract_think количество ошибок:  0\n",
      "extract_sql количество ошибок:  0\n",
      "Закончили генерацию SQL запросов\n",
      "Начали скорр полученных SQL запросов\n"
     ]
    },
    {
     "name": "stderr",
     "output_type": "stream",
     "text": [
      "\n"
     ]
    },
    {
     "name": "stdout",
     "output_type": "stream",
     "text": [
      "Qwen3-1.7B DEV Финальный результат EX: 45.11\n",
      "Qwen3-1.7B процент запросов, которые успешно выполнились DEV: 75.49%\n",
      "====================================================================================================\n",
      "\n",
      "\n",
      "Загружаем чаты с данными...\n",
      "Данные успешно загружены\n",
      "Начали генерацию SQL запросов\n"
     ]
    },
    {
     "name": "stderr",
     "output_type": "stream",
     "text": [
      "Processed prompts: 100%|██████████| 1534/1534 [00:25<00:00, 60.27it/s, est. speed input: 149532.91 toks/s, output: 2800.06 toks/s] "
     ]
    },
    {
     "name": "stdout",
     "output_type": "stream",
     "text": [
      "extract_think количество ошибок:  0\n",
      "extract_sql количество ошибок:  0\n",
      "Закончили генерацию SQL запросов\n",
      "Начали скорр полученных SQL запросов\n"
     ]
    },
    {
     "name": "stderr",
     "output_type": "stream",
     "text": [
      "\n"
     ]
    },
    {
     "name": "stdout",
     "output_type": "stream",
     "text": [
      "Qwen3-1.7B DEV Финальный результат EX: 45.24\n",
      "Qwen3-1.7B процент запросов, которые успешно выполнились DEV: 76.60%\n",
      "====================================================================================================\n",
      "\n",
      "\n",
      "Загружаем чаты с данными...\n",
      "Данные успешно загружены\n",
      "Начали генерацию SQL запросов\n"
     ]
    },
    {
     "name": "stderr",
     "output_type": "stream",
     "text": [
      "Processed prompts: 100%|██████████| 1534/1534 [00:25<00:00, 60.76it/s, est. speed input: 150799.69 toks/s, output: 2792.34 toks/s] "
     ]
    },
    {
     "name": "stdout",
     "output_type": "stream",
     "text": [
      "extract_think количество ошибок:  0\n",
      "extract_sql количество ошибок:  0\n",
      "Закончили генерацию SQL запросов\n",
      "Начали скорр полученных SQL запросов\n"
     ]
    },
    {
     "name": "stderr",
     "output_type": "stream",
     "text": [
      "\n"
     ]
    },
    {
     "name": "stdout",
     "output_type": "stream",
     "text": [
      "Qwen3-1.7B DEV Финальный результат EX: 44.92\n",
      "Qwen3-1.7B процент запросов, которые успешно выполнились DEV: 76.14%\n",
      "====================================================================================================\n",
      "\n",
      "\n",
      "Загружаем чаты с данными...\n",
      "Данные успешно загружены\n",
      "Начали генерацию SQL запросов\n"
     ]
    },
    {
     "name": "stderr",
     "output_type": "stream",
     "text": [
      "Processed prompts: 100%|██████████| 1534/1534 [00:24<00:00, 61.67it/s, est. speed input: 152623.52 toks/s, output: 2836.16 toks/s] "
     ]
    },
    {
     "name": "stdout",
     "output_type": "stream",
     "text": [
      "extract_think количество ошибок:  0\n",
      "extract_sql количество ошибок:  0\n",
      "Закончили генерацию SQL запросов\n",
      "Начали скорр полученных SQL запросов\n"
     ]
    },
    {
     "name": "stderr",
     "output_type": "stream",
     "text": [
      "\n"
     ]
    },
    {
     "name": "stdout",
     "output_type": "stream",
     "text": [
      "Qwen3-1.7B DEV Финальный результат EX: 44.39\n",
      "Qwen3-1.7B процент запросов, которые успешно выполнились DEV: 74.90%\n",
      "====================================================================================================\n",
      "\n",
      "\n",
      "Загружаем чаты с данными...\n",
      "Данные успешно загружены\n",
      "Начали генерацию SQL запросов\n"
     ]
    },
    {
     "name": "stderr",
     "output_type": "stream",
     "text": [
      "Processed prompts: 100%|██████████| 1534/1534 [00:26<00:00, 58.94it/s, est. speed input: 145857.96 toks/s, output: 2737.26 toks/s] "
     ]
    },
    {
     "name": "stdout",
     "output_type": "stream",
     "text": [
      "extract_think количество ошибок:  0\n",
      "extract_sql количество ошибок:  0\n",
      "Закончили генерацию SQL запросов\n",
      "Начали скорр полученных SQL запросов\n"
     ]
    },
    {
     "name": "stderr",
     "output_type": "stream",
     "text": [
      "\n"
     ]
    },
    {
     "name": "stdout",
     "output_type": "stream",
     "text": [
      "Qwen3-1.7B DEV Финальный результат EX: 45.11\n",
      "Qwen3-1.7B процент запросов, которые успешно выполнились DEV: 77.05%\n",
      "====================================================================================================\n",
      "\n",
      "\n",
      "Загружаем чаты с данными...\n",
      "Данные успешно загружены\n",
      "Начали генерацию SQL запросов\n"
     ]
    },
    {
     "name": "stderr",
     "output_type": "stream",
     "text": [
      "Processed prompts: 100%|██████████| 1534/1534 [00:25<00:00, 60.55it/s, est. speed input: 150229.02 toks/s, output: 2788.40 toks/s] "
     ]
    },
    {
     "name": "stdout",
     "output_type": "stream",
     "text": [
      "extract_think количество ошибок:  0\n",
      "extract_sql количество ошибок:  0\n",
      "Закончили генерацию SQL запросов\n",
      "Начали скорр полученных SQL запросов\n"
     ]
    },
    {
     "name": "stderr",
     "output_type": "stream",
     "text": [
      "\n"
     ]
    },
    {
     "name": "stdout",
     "output_type": "stream",
     "text": [
      "Qwen3-1.7B DEV Финальный результат EX: 45.50\n",
      "Qwen3-1.7B процент запросов, которые успешно выполнились DEV: 77.12%\n",
      "====================================================================================================\n",
      "\n",
      "\n"
     ]
    }
   ],
   "source": [
    "run_cot_experiment(model,arr_seeds,arr_versions, type_cot,num_observations=num_observations)"
   ]
  },
  {
   "cell_type": "code",
   "execution_count": 5,
   "id": "567aebd6-c42e-43f1-b038-e70215d348ba",
   "metadata": {},
   "outputs": [
    {
     "name": "stdout",
     "output_type": "stream",
     "text": [
      "[495, 453, 237, 446, 284, 286, 64, 546, 448, 63, 582, 394, 33, 798, 865, 499, 504, 333, 621, 256]\n",
      "model: Qwen3-1.7B\n"
     ]
    }
   ],
   "source": [
    "n= 20\n",
    "arr_seeds = [random.randint(0,1000) for _ in range(n)]\n",
    "arr_versions = [x for x in range(n)]\n",
    "model = \"Qwen3-1.7B\"\n",
    "num_observations = 3\n",
    "type_cot = 'predict'\n",
    "print(arr_seeds)\n",
    "print(f\"model: {model}\")"
   ]
  },
  {
   "cell_type": "code",
   "execution_count": 6,
   "id": "ae9448a7-0cef-4f51-b3ca-c3e9733ea56f",
   "metadata": {
    "scrolled": true
   },
   "outputs": [
    {
     "name": "stdout",
     "output_type": "stream",
     "text": [
      "Загружаем модель...\n"
     ]
    },
    {
     "name": "stderr",
     "output_type": "stream",
     "text": [
      "Loading safetensors checkpoint shards:   0% Completed | 0/2 [00:00<?, ?it/s]\n",
      "Loading safetensors checkpoint shards:  50% Completed | 1/2 [00:01<00:01,  1.13s/it]\n",
      "Loading safetensors checkpoint shards: 100% Completed | 2/2 [00:01<00:00,  1.71it/s]\n",
      "\u001b[1;36m(VllmWorker rank=0 pid=2994181)\u001b[0;0m \n"
     ]
    },
    {
     "name": "stdout",
     "output_type": "stream",
     "text": [
      "Модель успешно загружена\n",
      "model_config {'model': '/data/home/vkropoti/models/Qwen3-1.7B', 'tensor_parallel_size': 2, 'max_model_len': 40000, 'max_new_tokens': 1500, 'temperature': 0, 'top_k': 1, 'top_p': 0.8, 'gpu_memory_utilization': 0.9, 'trust_remote_code': False, 'seed': 495}\n",
      "\n",
      "prompts_config {'path_dev_json': '/home/vkropoti/vllm/dev.json', 'path_sql_dbs': '/data/home/vkropoti/sql_data/dev_databases/', 'use_reasoning': False, 'paths_to_cot': ['/data/home/vkropoti/sql_llm_answers/bird_dev_m_schema/sql_predict_Qwen3-1.7B-reasoning-v0', '/data/home/vkropoti/sql_llm_answers/bird_dev_m_schema/sql_predict_Qwen3-1.7B-reasoning-v1', '/data/home/vkropoti/sql_llm_answers/bird_dev_m_schema/sql_predict_Qwen3-1.7B-reasoning-v2']}\n",
      "\n",
      "save_config {'path_sql_save': '/data/home/vkropoti/sql_llm_answers/bird_dev_m_schema/sql_all_Qwen3-1.7B-cot_predict_think==False_nobs3-v0', 'path_think_save': None, 'path_sql_answers_save': '/data/home/vkropoti/sql_llm_answers/bird_dev_m_schema/sql_predict_Qwen3-1.7B-cot_predict_think==False_nobs3-v0', 'path_to_save_scores': '/data/home/vkropoti/sql_llm_answers/bird_dev_m_schema/sql_results_Qwen3-1.7B-cot_predict_think==False_nobs3-v0', 'path_to_save_executed': '/data/home/vkropoti/sql_llm_answers/bird_dev_m_schema/sql_executed_Qwen3-1.7B-cot_predict_think==False_nobs3-v0'}\n",
      "\n",
      "Модель успешно загружена\n",
      "Пример промпта\n",
      "<|im_start|>system\n",
      "\n",
      "You are a data science expert. Below, you are provided with a database schema and a natural language question. Your task is to understand the schema and generate a valid SQL query to answer the question.\n",
      "\n",
      "Database Engine: SQLite\n",
      "\n",
      "You will be given an additional analysis of other models, please take it into account, so the plan is\n",
      "1. Analyse given addition analysis from other models (find in which analysis the same and differ, how to use that to answer question)\n",
      "2. Combine best from previous part and think how to solve the problem (analyze tables, take care what columns avaliable in each table and so on, check the syntacsis)\n",
      "3. Create the answers. The answer should be only sql query.\n",
      "\n",
      "Carefully follow the instruction and add <|im_end|> and the end of the final answer<|im_end|>\n",
      "<|im_start|>user\n",
      "Here is addition analysis from other models which can be helpfull, please take this into account but be careful (choose the best from each analysis, combine them to make the most proper answer):\n",
      "\n",
      "model 0 analysis:\n",
      " SELECT MAX(Free Meal Count (K-12)/Enrollment (K-12)) FROM schools JOIN frpm ON schools.CDSCode = frpm.CDSCode WHERE schools.County = 'Alameda';\n",
      "\n",
      "model 1 analysis:\n",
      " SELECT MAX((Free Meal Count (K-12) / Enrollment (K-12))) AS highest_rate\n",
      "FROM frpm\n",
      "JOIN schools ON frpm.CDSCode = schools.CDSCode\n",
      "WHERE schools.County = 'Alameda' AND frpm.Low Grade = 'K' AND frpm.High Grade = '12';\n",
      "\n",
      "model 2 analysis:\n",
      " SELECT MAX(Percent (%) Eligible Free (K-12)) FROM frpm JOIN schools ON frpm.CDSCode = schools.CDSCode WHERE schools.County = 'Alameda';\n",
      "\n",
      "\n",
      "here is avaliable tables and their structure below\n",
      "【DB_ID】 california_schools\n",
      "【Schema】\n",
      "# Table: frpm\n",
      "[\n",
      "(CDSCode:TEXT, maps to schools.CDSCode, Primary Key, Examples: [01100170109835, 01100170112607, 01100170118489]),\n",
      "(Academic Year:TEXT, Examples: [2014-2015]),\n",
      "(County Code:TEXT, Examples: [01, 02, 03]),\n",
      "(District Code:INTEGER, Examples: [10017, 31609, 31617]),\n",
      "(School Code:TEXT, Examples: [0109835, 0112607, 0118489]),\n",
      "(County Name:TEXT, Examples: [Alameda, Alpine, Amador]),\n",
      "(District Name:TEXT),\n",
      "(School Name:TEXT, Examples: [FAME Public Charter]),\n",
      "(District Type:TEXT, Examples: [County Office of Education (COE)]),\n",
      "(School Type:TEXT, Examples: [K-12 Schools (Public)]),\n",
      "(Educational Option Type:TEXT, Examples: [Traditional]),\n",
      "(NSLP Provision Status:TEXT, Examples: [Breakfast Provision 2]),\n",
      "(Charter School (Y/N):INTEGER, Examples: [1, 0]),\n",
      "(Charter School Number:TEXT, Examples: [0728, 0811, 1049]),\n",
      "(Charter Funding Type:TEXT, Examples: [Directly funded]),\n",
      "(IRC:INTEGER, Examples: [1, 0]),\n",
      "(Low Grade:TEXT, Examples: [K, 9, 1]),\n",
      "(High Grade:TEXT, Examples: [12, 8, 5]),\n",
      "(Enrollment (K-12):REAL, Examples: [1087.0, 395.0, 244.0]),\n",
      "(Free Meal Count (K-12):REAL, Examples: [565.0, 186.0, 134.0]),\n",
      "(Percent (%) Eligible Free (K-12):REAL, Examples: [0.519779208831647, 0.470886075949367, 0.549180327868853]),\n",
      "(FRPM Count (K-12):REAL, Examples: [715.0, 186.0, 175.0]),\n",
      "(Percent (%) Eligible FRPM (K-12):REAL, Examples: [0.657773689052438, 0.470886075949367, 0.717213114754098]),\n",
      "(Enrollment (Ages 5-17):REAL, Examples: [1070.0, 376.0, 230.0]),\n",
      "(Free Meal Count (Ages 5-17):REAL, Examples: [553.0, 182.0, 128.0]),\n",
      "(Percent (%) Eligible Free (Ages 5-17):REAL, Examples: [0.516822429906542, 0.484042553191489, 0.556521739130435]),\n",
      "(FRPM Count (Ages 5-17):REAL, Examples: [702.0, 182.0, 168.0]),\n",
      "(Percent (%) Eligible FRPM (Ages 5-17):REAL, Examples: [0.65607476635514, 0.484042553191489, 0.730434782608696]),\n",
      "(2013-14 CALPADS Fall 1 Certification Status:INTEGER, Examples: [1])\n",
      "]\n",
      "# Table: satscores\n",
      "[\n",
      "(cds:TEXT, maps to schools.CDSCode, Primary Key, Examples: [10101080000000, 10101080109991, 10101080111682]),\n",
      "(rtype:TEXT, Examples: [D, S]),\n",
      "(sname:TEXT, Examples: [FAME Public Charter]),\n",
      "(dname:TEXT, Examples: [Alameda County Office of Education]),\n",
      "(cname:TEXT, Examples: [Alameda, Amador, Butte]),\n",
      "(enroll12:INTEGER, Examples: [398, 62, 75]),\n",
      "(NumTstTakr:INTEGER, Examples: [88, 17, 71]),\n",
      "(AvgScrRead:INTEGER, Examples: [418, 503, 397]),\n",
      "(AvgScrMath:INTEGER, Examples: [418, 546, 387]),\n",
      "(AvgScrWrite:INTEGER, Examples: [417, 505, 395]),\n",
      "(NumGE1500:INTEGER, Examples: [14, 9, 5])\n",
      "]\n",
      "# Table: schools\n",
      "[\n",
      "(CDSCode:TEXT, Primary Key, Examples: [01100170000000, 01100170109835, 01100170112607]),\n",
      "(NCESDist:TEXT, Examples: [0691051, 0600002, 0600003]),\n",
      "(NCESSchool:TEXT, Examples: [10546, 10947, 12283]),\n",
      "(StatusType:TEXT, Examples: [Active, Closed, Merged]),\n",
      "(County:TEXT, Examples: [Alameda, Alpine, Amador]),\n",
      "(District:TEXT),\n",
      "(School:TEXT, Examples: [FAME Public Charter]),\n",
      "(Street:TEXT, Examples: [313 West Winton Avenue]),\n",
      "(StreetAbr:TEXT, Examples: [313 West Winton Ave.]),\n",
      "(City:TEXT, Examples: [Hayward, Newark, Oakland]),\n",
      "(Zip:TEXT, Examples: [94544-1136, 94560-5359, 94612-3355]),\n",
      "(State:TEXT, Examples: [CA]),\n",
      "(MailStreet:TEXT, Examples: [313 West Winton Avenue]),\n",
      "(MailStrAbr:TEXT, Examples: [313 West Winton Ave.]),\n",
      "(MailCity:TEXT, Examples: [Hayward, Newark, Oakland]),\n",
      "(MailZip:TEXT, Examples: [94544-1136, 94560-5359, 94612]),\n",
      "(MailState:TEXT, Examples: [CA]),\n",
      "(Phone:TEXT, Examples: [(510) 887-0152, (510) 596-8901, (510) 686-4131]),\n",
      "(Ext:TEXT, Examples: [130, 1240, 1200]),\n",
      "(Website:TEXT, Examples: [www.acoe.org]),\n",
      "(OpenDate:DATE, Examples: [2005-08-29]),\n",
      "(ClosedDate:DATE, Examples: [2015-07-31]),\n",
      "(Charter:INTEGER, Examples: [1, 0]),\n",
      "(CharterNum:TEXT, Examples: [0728, 0811, 1049]),\n",
      "(FundingType:TEXT, Examples: [Directly funded]),\n",
      "(DOC:TEXT, Examples: [00, 31, 34]),\n",
      "(DOCType:TEXT, Examples: [County Office of Education (COE)]),\n",
      "(SOC:TEXT, Examples: [65, 66, 60]),\n",
      "(SOCType:TEXT, Examples: [K-12 Schools (Public)]),\n",
      "(EdOpsCode:TEXT, Examples: [TRAD, JUV, COMM]),\n",
      "(EdOpsName:TEXT, Examples: [Traditional]),\n",
      "(EILCode:TEXT, Examples: [ELEMHIGH, HS, ELEM]),\n",
      "(EILName:TEXT, Examples: [Elementary-High Combination]),\n",
      "(GSoffered:TEXT, Examples: [K-12, 9-12, K-8]),\n",
      "(GSserved:TEXT, Examples: [K-12, 9-12, K-7]),\n",
      "(Virtual:TEXT, Examples: [P, N, F]),\n",
      "(Magnet:INTEGER, Examples: [0, 1]),\n",
      "(Latitude:REAL, Examples: [37.658212, 37.521436, 37.80452]),\n",
      "(Longitude:REAL, Examples: [-122.09713, -121.99391, -122.26815]),\n",
      "(AdmFName1:TEXT, Examples: [L Karen, Laura, Clifford]),\n",
      "(AdmLName1:TEXT, Examples: [Monroe, Robell, Thompson]),\n",
      "(AdmEmail1:TEXT),\n",
      "(AdmFName2:TEXT, Examples: [Sau-Lim (Lance), Jennifer, Annalisa]),\n",
      "(AdmLName2:TEXT, Examples: [Tsang, Koelling, Moore]),\n",
      "(AdmEmail2:TEXT),\n",
      "(AdmFName3:TEXT, Examples: [Drew, Irma, Vickie]),\n",
      "(AdmLName3:TEXT, Examples: [Sarratore, Munoz, Chang]),\n",
      "(AdmEmail3:TEXT),\n",
      "(LastUpdate:DATE, Examples: [2015-06-23])\n",
      "]\n",
      "【Foreign keys】\n",
      "frpm.CDSCode=schools.CDSCode\n",
      "satscores.cds=schools.CDSCode\n",
      "\n",
      "-- Using valid SQLite and understanding External Knowledge, answer the following questions for the tables provided above.\n",
      "-- What is the highest eligible free rate for K-12 students in the schools in Alameda County?\n",
      "-- External Knowledge: Eligible free rate for K-12 = `Free Meal Count (K-12)` / `Enrollment (K-12)`\n",
      "\n",
      "\n",
      "Generate the SQLite for the above question after thinking step by step: \n",
      "\n",
      "\n",
      "Instructions:\n",
      "- Make sure you only output the information that is asked in the question. If the question asks for a specific column, make sure to only include that column in the SELECT clause, nothing more.\n",
      "- The generated query should return all of the information asked in the question without any missing or extra information.\n",
      "- Before generating the final SQL query, please think through the steps of how to write the query.\n",
      "- Do not misuse column names, keep them in quotes `\n",
      "- Carefully understand what colomns belond to what tables\n",
      "- Use only initial column names, change names prohibited\n",
      "        \n",
      "Output Format:\n",
      "In your answer, please enclose the generated SQL query in a code block:\n",
      "```\n",
      "-- Your SQL query\n",
      "```    \n",
      "and nothing else, no exaplains, no comments (asnwer should be less than 512 characters)\n",
      "\n",
      "Take a deep breath and think step by step to find the correct SQL query in SQLite format.\n",
      "\n",
      "Question repetition: What is the highest eligible free rate for K-12 students in the schools in Alameda County?\n",
      "\n",
      "Be care! Include only what i want it questiona and nothing else<|im_end|>\n",
      "<|im_start|>assistant\n",
      "<think>\n",
      "\n",
      "</think>\n",
      "\n",
      "\n",
      "\n",
      "\n",
      "Максимальное количество токенов в промптах: 21132\n",
      "\n",
      "начинаем скорринг\n",
      "Загружаем чаты с данными...\n",
      "Данные успешно загружены\n",
      "Начали генерацию SQL запросов\n"
     ]
    },
    {
     "name": "stderr",
     "output_type": "stream",
     "text": [
      "Processed prompts: 100%|██████████| 1534/1534 [00:25<00:00, 59.98it/s, est. speed input: 152442.04 toks/s, output: 2766.28 toks/s] "
     ]
    },
    {
     "name": "stdout",
     "output_type": "stream",
     "text": [
      "extract_think количество ошибок:  0\n",
      "extract_sql количество ошибок:  0\n",
      "Закончили генерацию SQL запросов\n",
      "Начали скорр полученных SQL запросов\n"
     ]
    },
    {
     "name": "stderr",
     "output_type": "stream",
     "text": [
      "\n"
     ]
    },
    {
     "name": "stdout",
     "output_type": "stream",
     "text": [
      "Qwen3-1.7B DEV Финальный результат EX: 43.94\n",
      "Qwen3-1.7B процент запросов, которые успешно выполнились DEV: 76.14%\n",
      "====================================================================================================\n",
      "\n",
      "\n",
      "Загружаем чаты с данными...\n",
      "Данные успешно загружены\n",
      "Начали генерацию SQL запросов\n"
     ]
    },
    {
     "name": "stderr",
     "output_type": "stream",
     "text": [
      "Processed prompts: 100%|██████████| 1534/1534 [00:25<00:00, 59.69it/s, est. speed input: 151208.92 toks/s, output: 2765.15 toks/s] "
     ]
    },
    {
     "name": "stdout",
     "output_type": "stream",
     "text": [
      "extract_think количество ошибок:  0\n",
      "extract_sql количество ошибок:  0\n",
      "Закончили генерацию SQL запросов\n",
      "Начали скорр полученных SQL запросов\n"
     ]
    },
    {
     "name": "stderr",
     "output_type": "stream",
     "text": [
      "\n"
     ]
    },
    {
     "name": "stdout",
     "output_type": "stream",
     "text": [
      "Qwen3-1.7B DEV Финальный результат EX: 43.74\n",
      "Qwen3-1.7B процент запросов, которые успешно выполнились DEV: 75.95%\n",
      "====================================================================================================\n",
      "\n",
      "\n",
      "Загружаем чаты с данными...\n",
      "Данные успешно загружены\n",
      "Начали генерацию SQL запросов\n"
     ]
    },
    {
     "name": "stderr",
     "output_type": "stream",
     "text": [
      "Processed prompts: 100%|██████████| 1534/1534 [00:25<00:00, 59.88it/s, est. speed input: 151569.97 toks/s, output: 2763.70 toks/s] "
     ]
    },
    {
     "name": "stdout",
     "output_type": "stream",
     "text": [
      "extract_think количество ошибок:  0\n",
      "extract_sql количество ошибок:  0\n",
      "Закончили генерацию SQL запросов\n",
      "Начали скорр полученных SQL запросов\n"
     ]
    },
    {
     "name": "stderr",
     "output_type": "stream",
     "text": [
      "\n"
     ]
    },
    {
     "name": "stdout",
     "output_type": "stream",
     "text": [
      "Qwen3-1.7B DEV Финальный результат EX: 43.81\n",
      "Qwen3-1.7B процент запросов, которые успешно выполнились DEV: 75.81%\n",
      "====================================================================================================\n",
      "\n",
      "\n",
      "Загружаем чаты с данными...\n",
      "Данные успешно загружены\n",
      "Начали генерацию SQL запросов\n"
     ]
    },
    {
     "name": "stderr",
     "output_type": "stream",
     "text": [
      "Processed prompts: 100%|██████████| 1534/1534 [00:26<00:00, 58.53it/s, est. speed input: 147499.95 toks/s, output: 2698.67 toks/s] "
     ]
    },
    {
     "name": "stdout",
     "output_type": "stream",
     "text": [
      "extract_think количество ошибок:  0\n",
      "extract_sql количество ошибок:  0\n",
      "Закончили генерацию SQL запросов\n",
      "Начали скорр полученных SQL запросов\n"
     ]
    },
    {
     "name": "stderr",
     "output_type": "stream",
     "text": [
      "\n"
     ]
    },
    {
     "name": "stdout",
     "output_type": "stream",
     "text": [
      "Qwen3-1.7B DEV Финальный результат EX: 45.50\n",
      "Qwen3-1.7B процент запросов, которые успешно выполнились DEV: 76.34%\n",
      "====================================================================================================\n",
      "\n",
      "\n",
      "Загружаем чаты с данными...\n",
      "Данные успешно загружены\n",
      "Начали генерацию SQL запросов\n"
     ]
    },
    {
     "name": "stderr",
     "output_type": "stream",
     "text": [
      "Processed prompts: 100%|██████████| 1534/1534 [00:25<00:00, 59.34it/s, est. speed input: 150017.30 toks/s, output: 2738.27 toks/s] "
     ]
    },
    {
     "name": "stdout",
     "output_type": "stream",
     "text": [
      "extract_think количество ошибок:  0\n",
      "extract_sql количество ошибок:  0\n",
      "Закончили генерацию SQL запросов\n",
      "Начали скорр полученных SQL запросов\n"
     ]
    },
    {
     "name": "stderr",
     "output_type": "stream",
     "text": [
      "\n"
     ]
    },
    {
     "name": "stdout",
     "output_type": "stream",
     "text": [
      "Qwen3-1.7B DEV Финальный результат EX: 45.18\n",
      "Qwen3-1.7B процент запросов, которые успешно выполнились DEV: 76.66%\n",
      "====================================================================================================\n",
      "\n",
      "\n",
      "Загружаем чаты с данными...\n",
      "Данные успешно загружены\n",
      "Начали генерацию SQL запросов\n"
     ]
    },
    {
     "name": "stderr",
     "output_type": "stream",
     "text": [
      "Processed prompts: 100%|██████████| 1534/1534 [00:25<00:00, 59.17it/s, est. speed input: 149606.09 toks/s, output: 2748.27 toks/s] "
     ]
    },
    {
     "name": "stdout",
     "output_type": "stream",
     "text": [
      "extract_think количество ошибок:  0\n",
      "extract_sql количество ошибок:  0\n",
      "Закончили генерацию SQL запросов\n",
      "Начали скорр полученных SQL запросов\n"
     ]
    },
    {
     "name": "stderr",
     "output_type": "stream",
     "text": [
      "\n"
     ]
    },
    {
     "name": "stdout",
     "output_type": "stream",
     "text": [
      "Qwen3-1.7B DEV Финальный результат EX: 46.41\n",
      "Qwen3-1.7B процент запросов, которые успешно выполнились DEV: 77.77%\n",
      "====================================================================================================\n",
      "\n",
      "\n",
      "Загружаем чаты с данными...\n",
      "Данные успешно загружены\n",
      "Начали генерацию SQL запросов\n"
     ]
    },
    {
     "name": "stderr",
     "output_type": "stream",
     "text": [
      "Processed prompts: 100%|██████████| 1534/1534 [00:26<00:00, 57.43it/s, est. speed input: 145201.92 toks/s, output: 2649.02 toks/s] "
     ]
    },
    {
     "name": "stdout",
     "output_type": "stream",
     "text": [
      "extract_think количество ошибок:  0\n",
      "extract_sql количество ошибок:  0\n",
      "Закончили генерацию SQL запросов\n",
      "Начали скорр полученных SQL запросов\n"
     ]
    },
    {
     "name": "stderr",
     "output_type": "stream",
     "text": [
      "\n"
     ]
    },
    {
     "name": "stdout",
     "output_type": "stream",
     "text": [
      "Qwen3-1.7B DEV Финальный результат EX: 46.28\n",
      "Qwen3-1.7B процент запросов, которые успешно выполнились DEV: 77.44%\n",
      "====================================================================================================\n",
      "\n",
      "\n",
      "Загружаем чаты с данными...\n",
      "Данные успешно загружены\n",
      "Начали генерацию SQL запросов\n"
     ]
    },
    {
     "name": "stderr",
     "output_type": "stream",
     "text": [
      "Processed prompts: 100%|██████████| 1534/1534 [00:25<00:00, 60.87it/s, est. speed input: 153289.28 toks/s, output: 2780.85 toks/s] "
     ]
    },
    {
     "name": "stdout",
     "output_type": "stream",
     "text": [
      "extract_think количество ошибок:  0\n",
      "extract_sql количество ошибок:  0\n",
      "Закончили генерацию SQL запросов\n",
      "Начали скорр полученных SQL запросов\n"
     ]
    },
    {
     "name": "stderr",
     "output_type": "stream",
     "text": [
      "\n"
     ]
    },
    {
     "name": "stdout",
     "output_type": "stream",
     "text": [
      "Qwen3-1.7B DEV Финальный результат EX: 46.02\n",
      "Qwen3-1.7B процент запросов, которые успешно выполнились DEV: 78.23%\n",
      "====================================================================================================\n",
      "\n",
      "\n",
      "Загружаем чаты с данными...\n",
      "Данные успешно загружены\n",
      "Начали генерацию SQL запросов\n"
     ]
    },
    {
     "name": "stderr",
     "output_type": "stream",
     "text": [
      "Processed prompts: 100%|██████████| 1534/1534 [00:26<00:00, 58.64it/s, est. speed input: 148836.26 toks/s, output: 2703.85 toks/s] "
     ]
    },
    {
     "name": "stdout",
     "output_type": "stream",
     "text": [
      "extract_think количество ошибок:  0\n",
      "extract_sql количество ошибок:  0\n",
      "Закончили генерацию SQL запросов\n",
      "Начали скорр полученных SQL запросов\n"
     ]
    },
    {
     "name": "stderr",
     "output_type": "stream",
     "text": [
      "\n"
     ]
    },
    {
     "name": "stdout",
     "output_type": "stream",
     "text": [
      "Qwen3-1.7B DEV Финальный результат EX: 46.35\n",
      "Qwen3-1.7B процент запросов, которые успешно выполнились DEV: 77.44%\n",
      "====================================================================================================\n",
      "\n",
      "\n",
      "Загружаем чаты с данными...\n",
      "Данные успешно загружены\n",
      "Начали генерацию SQL запросов\n"
     ]
    },
    {
     "name": "stderr",
     "output_type": "stream",
     "text": [
      "Processed prompts: 100%|██████████| 1534/1534 [00:26<00:00, 58.10it/s, est. speed input: 147499.99 toks/s, output: 2688.49 toks/s] "
     ]
    },
    {
     "name": "stdout",
     "output_type": "stream",
     "text": [
      "extract_think количество ошибок:  0\n",
      "extract_sql количество ошибок:  0\n",
      "Закончили генерацию SQL запросов\n",
      "Начали скорр полученных SQL запросов\n"
     ]
    },
    {
     "name": "stderr",
     "output_type": "stream",
     "text": [
      "\n"
     ]
    },
    {
     "name": "stdout",
     "output_type": "stream",
     "text": [
      "Qwen3-1.7B DEV Финальный результат EX: 45.83\n",
      "Qwen3-1.7B процент запросов, которые успешно выполнились DEV: 77.31%\n",
      "====================================================================================================\n",
      "\n",
      "\n",
      "Загружаем чаты с данными...\n",
      "Данные успешно загружены\n",
      "Начали генерацию SQL запросов\n"
     ]
    },
    {
     "name": "stderr",
     "output_type": "stream",
     "text": [
      "Processed prompts: 100%|██████████| 1534/1534 [00:26<00:00, 58.66it/s, est. speed input: 148919.72 toks/s, output: 2701.72 toks/s] "
     ]
    },
    {
     "name": "stdout",
     "output_type": "stream",
     "text": [
      "extract_think количество ошибок:  0\n",
      "extract_sql количество ошибок:  0\n",
      "Закончили генерацию SQL запросов\n",
      "Начали скорр полученных SQL запросов\n"
     ]
    },
    {
     "name": "stderr",
     "output_type": "stream",
     "text": [
      "\n"
     ]
    },
    {
     "name": "stdout",
     "output_type": "stream",
     "text": [
      "Qwen3-1.7B DEV Финальный результат EX: 45.50\n",
      "Qwen3-1.7B процент запросов, которые успешно выполнились DEV: 77.05%\n",
      "====================================================================================================\n",
      "\n",
      "\n",
      "Загружаем чаты с данными...\n",
      "Данные успешно загружены\n",
      "Начали генерацию SQL запросов\n"
     ]
    },
    {
     "name": "stderr",
     "output_type": "stream",
     "text": [
      "Processed prompts: 100%|██████████| 1534/1534 [00:24<00:00, 61.81it/s, est. speed input: 155727.23 toks/s, output: 2854.55 toks/s] "
     ]
    },
    {
     "name": "stdout",
     "output_type": "stream",
     "text": [
      "extract_think количество ошибок:  0\n",
      "extract_sql количество ошибок:  0\n",
      "Закончили генерацию SQL запросов\n",
      "Начали скорр полученных SQL запросов\n"
     ]
    },
    {
     "name": "stderr",
     "output_type": "stream",
     "text": [
      "\n"
     ]
    },
    {
     "name": "stdout",
     "output_type": "stream",
     "text": [
      "Qwen3-1.7B DEV Финальный результат EX: 45.50\n",
      "Qwen3-1.7B процент запросов, которые успешно выполнились DEV: 76.66%\n",
      "====================================================================================================\n",
      "\n",
      "\n",
      "Загружаем чаты с данными...\n",
      "Данные успешно загружены\n",
      "Начали генерацию SQL запросов\n"
     ]
    },
    {
     "name": "stderr",
     "output_type": "stream",
     "text": [
      "Processed prompts: 100%|██████████| 1534/1534 [00:25<00:00, 60.55it/s, est. speed input: 152587.35 toks/s, output: 2815.81 toks/s] "
     ]
    },
    {
     "name": "stdout",
     "output_type": "stream",
     "text": [
      "extract_think количество ошибок:  0\n",
      "extract_sql количество ошибок:  0\n",
      "Закончили генерацию SQL запросов\n",
      "Начали скорр полученных SQL запросов\n"
     ]
    },
    {
     "name": "stderr",
     "output_type": "stream",
     "text": [
      "\n"
     ]
    },
    {
     "name": "stdout",
     "output_type": "stream",
     "text": [
      "Qwen3-1.7B DEV Финальный результат EX: 45.76\n",
      "Qwen3-1.7B процент запросов, которые успешно выполнились DEV: 76.34%\n",
      "====================================================================================================\n",
      "\n",
      "\n",
      "Загружаем чаты с данными...\n",
      "Данные успешно загружены\n",
      "Начали генерацию SQL запросов\n"
     ]
    },
    {
     "name": "stderr",
     "output_type": "stream",
     "text": [
      "Processed prompts: 100%|██████████| 1534/1534 [00:25<00:00, 59.66it/s, est. speed input: 150358.69 toks/s, output: 2743.80 toks/s] "
     ]
    },
    {
     "name": "stdout",
     "output_type": "stream",
     "text": [
      "extract_think количество ошибок:  0\n",
      "extract_sql количество ошибок:  0\n",
      "Закончили генерацию SQL запросов\n",
      "Начали скорр полученных SQL запросов\n"
     ]
    },
    {
     "name": "stderr",
     "output_type": "stream",
     "text": [
      "\n"
     ]
    },
    {
     "name": "stdout",
     "output_type": "stream",
     "text": [
      "Qwen3-1.7B DEV Финальный результат EX: 45.11\n",
      "Qwen3-1.7B процент запросов, которые успешно выполнились DEV: 76.34%\n",
      "====================================================================================================\n",
      "\n",
      "\n",
      "Загружаем чаты с данными...\n",
      "Данные успешно загружены\n",
      "Начали генерацию SQL запросов\n"
     ]
    },
    {
     "name": "stderr",
     "output_type": "stream",
     "text": [
      "Processed prompts: 100%|██████████| 1534/1534 [00:25<00:00, 59.32it/s, est. speed input: 150112.90 toks/s, output: 2736.32 toks/s] "
     ]
    },
    {
     "name": "stdout",
     "output_type": "stream",
     "text": [
      "extract_think количество ошибок:  0\n",
      "extract_sql количество ошибок:  0\n",
      "Закончили генерацию SQL запросов\n",
      "Начали скорр полученных SQL запросов\n"
     ]
    },
    {
     "name": "stderr",
     "output_type": "stream",
     "text": [
      "\n"
     ]
    },
    {
     "name": "stdout",
     "output_type": "stream",
     "text": [
      "Qwen3-1.7B DEV Финальный результат EX: 46.48\n",
      "Qwen3-1.7B процент запросов, которые успешно выполнились DEV: 77.31%\n",
      "====================================================================================================\n",
      "\n",
      "\n",
      "Загружаем чаты с данными...\n",
      "Данные успешно загружены\n",
      "Начали генерацию SQL запросов\n"
     ]
    },
    {
     "name": "stderr",
     "output_type": "stream",
     "text": [
      "Processed prompts: 100%|██████████| 1534/1534 [00:25<00:00, 59.38it/s, est. speed input: 150288.57 toks/s, output: 2745.34 toks/s] "
     ]
    },
    {
     "name": "stdout",
     "output_type": "stream",
     "text": [
      "extract_think количество ошибок:  0\n",
      "extract_sql количество ошибок:  0\n",
      "Закончили генерацию SQL запросов\n",
      "Начали скорр полученных SQL запросов\n"
     ]
    },
    {
     "name": "stderr",
     "output_type": "stream",
     "text": [
      "\n"
     ]
    },
    {
     "name": "stdout",
     "output_type": "stream",
     "text": [
      "Qwen3-1.7B DEV Финальный результат EX: 46.28\n",
      "Qwen3-1.7B процент запросов, которые успешно выполнились DEV: 76.53%\n",
      "====================================================================================================\n",
      "\n",
      "\n",
      "Загружаем чаты с данными...\n",
      "Данные успешно загружены\n",
      "Начали генерацию SQL запросов\n"
     ]
    },
    {
     "name": "stderr",
     "output_type": "stream",
     "text": [
      "Processed prompts: 100%|██████████| 1534/1534 [00:25<00:00, 59.65it/s, est. speed input: 151179.35 toks/s, output: 2751.55 toks/s] "
     ]
    },
    {
     "name": "stdout",
     "output_type": "stream",
     "text": [
      "extract_think количество ошибок:  0\n",
      "extract_sql количество ошибок:  0\n",
      "Закончили генерацию SQL запросов\n",
      "Начали скорр полученных SQL запросов\n"
     ]
    },
    {
     "name": "stderr",
     "output_type": "stream",
     "text": [
      "\n"
     ]
    },
    {
     "name": "stdout",
     "output_type": "stream",
     "text": [
      "Qwen3-1.7B DEV Финальный результат EX: 45.76\n",
      "Qwen3-1.7B процент запросов, которые успешно выполнились DEV: 76.79%\n",
      "====================================================================================================\n",
      "\n",
      "\n",
      "Загружаем чаты с данными...\n",
      "Данные успешно загружены\n",
      "Начали генерацию SQL запросов\n"
     ]
    },
    {
     "name": "stderr",
     "output_type": "stream",
     "text": [
      "Processed prompts: 100%|██████████| 1534/1534 [00:26<00:00, 58.97it/s, est. speed input: 148871.27 toks/s, output: 2728.99 toks/s] "
     ]
    },
    {
     "name": "stdout",
     "output_type": "stream",
     "text": [
      "extract_think количество ошибок:  0\n",
      "extract_sql количество ошибок:  0\n",
      "Закончили генерацию SQL запросов\n",
      "Начали скорр полученных SQL запросов\n"
     ]
    },
    {
     "name": "stderr",
     "output_type": "stream",
     "text": [
      "\n"
     ]
    },
    {
     "name": "stdout",
     "output_type": "stream",
     "text": [
      "Qwen3-1.7B DEV Финальный результат EX: 44.98\n",
      "Qwen3-1.7B процент запросов, которые успешно выполнились DEV: 76.86%\n",
      "====================================================================================================\n",
      "\n",
      "\n",
      "Загружаем чаты с данными...\n",
      "Данные успешно загружены\n",
      "Начали генерацию SQL запросов\n"
     ]
    },
    {
     "name": "stderr",
     "output_type": "stream",
     "text": [
      "Processed prompts: 100%|██████████| 1534/1534 [00:27<00:00, 55.22it/s, est. speed input: 139886.24 toks/s, output: 2569.63 toks/s] "
     ]
    },
    {
     "name": "stdout",
     "output_type": "stream",
     "text": [
      "extract_think количество ошибок:  0\n",
      "extract_sql количество ошибок:  0\n",
      "Закончили генерацию SQL запросов\n",
      "Начали скорр полученных SQL запросов\n"
     ]
    },
    {
     "name": "stderr",
     "output_type": "stream",
     "text": [
      "\n"
     ]
    },
    {
     "name": "stdout",
     "output_type": "stream",
     "text": [
      "Qwen3-1.7B DEV Финальный результат EX: 46.48\n",
      "Qwen3-1.7B процент запросов, которые успешно выполнились DEV: 78.49%\n",
      "====================================================================================================\n",
      "\n",
      "\n",
      "Загружаем чаты с данными...\n",
      "Данные успешно загружены\n",
      "Начали генерацию SQL запросов\n"
     ]
    },
    {
     "name": "stderr",
     "output_type": "stream",
     "text": [
      "Processed prompts: 100%|██████████| 1534/1534 [00:25<00:00, 60.77it/s, est. speed input: 153838.47 toks/s, output: 2794.66 toks/s] "
     ]
    },
    {
     "name": "stdout",
     "output_type": "stream",
     "text": [
      "extract_think количество ошибок:  0\n",
      "extract_sql количество ошибок:  0\n",
      "Закончили генерацию SQL запросов\n",
      "Начали скорр полученных SQL запросов\n"
     ]
    },
    {
     "name": "stderr",
     "output_type": "stream",
     "text": [
      "\n"
     ]
    },
    {
     "name": "stdout",
     "output_type": "stream",
     "text": [
      "Qwen3-1.7B DEV Финальный результат EX: 45.18\n",
      "Qwen3-1.7B процент запросов, которые успешно выполнились DEV: 77.57%\n",
      "====================================================================================================\n",
      "\n",
      "\n"
     ]
    }
   ],
   "source": [
    "run_cot_experiment(model,arr_seeds,arr_versions, type_cot,num_observations=num_observations)"
   ]
  },
  {
   "cell_type": "code",
   "execution_count": 7,
   "id": "57efa230-434d-4803-901f-a4d09f2971ad",
   "metadata": {},
   "outputs": [
    {
     "name": "stdout",
     "output_type": "stream",
     "text": [
      "[84, 110, 115, 502, 894, 772, 645, 490, 352, 511, 987, 527, 417, 367, 669, 52, 541, 564, 62, 471]\n",
      "model: Qwen3-1.7B\n"
     ]
    }
   ],
   "source": [
    "n= 20\n",
    "arr_seeds = [random.randint(0,1000) for _ in range(n)]\n",
    "arr_versions = [x for x in range(n)]\n",
    "model =\"Qwen3-1.7B\"\n",
    "num_observations = 4\n",
    "type_cot = 'predict'\n",
    "print(arr_seeds)\n",
    "print(f\"model: {model}\")"
   ]
  },
  {
   "cell_type": "code",
   "execution_count": 8,
   "id": "84e49863-1bc7-4141-93e1-a7dbca7ce991",
   "metadata": {
    "scrolled": true
   },
   "outputs": [
    {
     "name": "stdout",
     "output_type": "stream",
     "text": [
      "Загружаем модель...\n"
     ]
    },
    {
     "name": "stderr",
     "output_type": "stream",
     "text": [
      "Loading safetensors checkpoint shards:   0% Completed | 0/2 [00:00<?, ?it/s]\n",
      "Loading safetensors checkpoint shards:  50% Completed | 1/2 [00:01<00:01,  1.05s/it]\n",
      "Loading safetensors checkpoint shards: 100% Completed | 2/2 [00:01<00:00,  1.83it/s]\n",
      "\u001b[1;36m(VllmWorker rank=0 pid=3034828)\u001b[0;0m \n"
     ]
    },
    {
     "name": "stdout",
     "output_type": "stream",
     "text": [
      "Модель успешно загружена\n",
      "model_config {'model': '/data/home/vkropoti/models/Qwen3-1.7B', 'tensor_parallel_size': 2, 'max_model_len': 40000, 'max_new_tokens': 1500, 'temperature': 0, 'top_k': 1, 'top_p': 0.8, 'gpu_memory_utilization': 0.9, 'trust_remote_code': False, 'seed': 84}\n",
      "\n",
      "prompts_config {'path_dev_json': '/home/vkropoti/vllm/dev.json', 'path_sql_dbs': '/data/home/vkropoti/sql_data/dev_databases/', 'use_reasoning': False, 'paths_to_cot': ['/data/home/vkropoti/sql_llm_answers/bird_dev_m_schema/sql_predict_Qwen3-1.7B-reasoning-v0', '/data/home/vkropoti/sql_llm_answers/bird_dev_m_schema/sql_predict_Qwen3-1.7B-reasoning-v1', '/data/home/vkropoti/sql_llm_answers/bird_dev_m_schema/sql_predict_Qwen3-1.7B-reasoning-v2', '/data/home/vkropoti/sql_llm_answers/bird_dev_m_schema/sql_predict_Qwen3-1.7B-reasoning-v3']}\n",
      "\n",
      "save_config {'path_sql_save': '/data/home/vkropoti/sql_llm_answers/bird_dev_m_schema/sql_all_Qwen3-1.7B-cot_predict_think==False_nobs4-v0', 'path_think_save': None, 'path_sql_answers_save': '/data/home/vkropoti/sql_llm_answers/bird_dev_m_schema/sql_predict_Qwen3-1.7B-cot_predict_think==False_nobs4-v0', 'path_to_save_scores': '/data/home/vkropoti/sql_llm_answers/bird_dev_m_schema/sql_results_Qwen3-1.7B-cot_predict_think==False_nobs4-v0', 'path_to_save_executed': '/data/home/vkropoti/sql_llm_answers/bird_dev_m_schema/sql_executed_Qwen3-1.7B-cot_predict_think==False_nobs4-v0'}\n",
      "\n",
      "Модель успешно загружена\n",
      "Пример промпта\n",
      "<|im_start|>system\n",
      "\n",
      "You are a data science expert. Below, you are provided with a database schema and a natural language question. Your task is to understand the schema and generate a valid SQL query to answer the question.\n",
      "\n",
      "Database Engine: SQLite\n",
      "\n",
      "You will be given an additional analysis of other models, please take it into account, so the plan is\n",
      "1. Analyse given addition analysis from other models (find in which analysis the same and differ, how to use that to answer question)\n",
      "2. Combine best from previous part and think how to solve the problem (analyze tables, take care what columns avaliable in each table and so on, check the syntacsis)\n",
      "3. Create the answers. The answer should be only sql query.\n",
      "\n",
      "Carefully follow the instruction and add <|im_end|> and the end of the final answer<|im_end|>\n",
      "<|im_start|>user\n",
      "Here is addition analysis from other models which can be helpfull, please take this into account but be careful (choose the best from each analysis, combine them to make the most proper answer):\n",
      "\n",
      "model 0 analysis:\n",
      " SELECT MAX(Free Meal Count (K-12)/Enrollment (K-12)) FROM schools JOIN frpm ON schools.CDSCode = frpm.CDSCode WHERE schools.County = 'Alameda';\n",
      "\n",
      "model 1 analysis:\n",
      " SELECT MAX((Free Meal Count (K-12) / Enrollment (K-12))) AS highest_rate\n",
      "FROM frpm\n",
      "JOIN schools ON frpm.CDSCode = schools.CDSCode\n",
      "WHERE schools.County = 'Alameda' AND frpm.Low Grade = 'K' AND frpm.High Grade = '12';\n",
      "\n",
      "model 2 analysis:\n",
      " SELECT MAX(Percent (%) Eligible Free (K-12)) FROM frpm JOIN schools ON frpm.CDSCode = schools.CDSCode WHERE schools.County = 'Alameda';\n",
      "\n",
      "model 3 analysis:\n",
      " SELECT MAX(Percent (%) Eligible Free (K-12)) \n",
      "FROM schools \n",
      "JOIN frpm ON schools.CDSCode = frpm.CDSCode \n",
      "WHERE schools.County = 'Alameda' AND frpm.Low Grade = 'K' AND frpm.High Grade = '12';\n",
      "\n",
      "\n",
      "here is avaliable tables and their structure below\n",
      "【DB_ID】 california_schools\n",
      "【Schema】\n",
      "# Table: frpm\n",
      "[\n",
      "(CDSCode:TEXT, maps to schools.CDSCode, Primary Key, Examples: [01100170109835, 01100170112607, 01100170118489]),\n",
      "(Academic Year:TEXT, Examples: [2014-2015]),\n",
      "(County Code:TEXT, Examples: [01, 02, 03]),\n",
      "(District Code:INTEGER, Examples: [10017, 31609, 31617]),\n",
      "(School Code:TEXT, Examples: [0109835, 0112607, 0118489]),\n",
      "(County Name:TEXT, Examples: [Alameda, Alpine, Amador]),\n",
      "(District Name:TEXT),\n",
      "(School Name:TEXT, Examples: [FAME Public Charter]),\n",
      "(District Type:TEXT, Examples: [County Office of Education (COE)]),\n",
      "(School Type:TEXT, Examples: [K-12 Schools (Public)]),\n",
      "(Educational Option Type:TEXT, Examples: [Traditional]),\n",
      "(NSLP Provision Status:TEXT, Examples: [Breakfast Provision 2]),\n",
      "(Charter School (Y/N):INTEGER, Examples: [1, 0]),\n",
      "(Charter School Number:TEXT, Examples: [0728, 0811, 1049]),\n",
      "(Charter Funding Type:TEXT, Examples: [Directly funded]),\n",
      "(IRC:INTEGER, Examples: [1, 0]),\n",
      "(Low Grade:TEXT, Examples: [K, 9, 1]),\n",
      "(High Grade:TEXT, Examples: [12, 8, 5]),\n",
      "(Enrollment (K-12):REAL, Examples: [1087.0, 395.0, 244.0]),\n",
      "(Free Meal Count (K-12):REAL, Examples: [565.0, 186.0, 134.0]),\n",
      "(Percent (%) Eligible Free (K-12):REAL, Examples: [0.519779208831647, 0.470886075949367, 0.549180327868853]),\n",
      "(FRPM Count (K-12):REAL, Examples: [715.0, 186.0, 175.0]),\n",
      "(Percent (%) Eligible FRPM (K-12):REAL, Examples: [0.657773689052438, 0.470886075949367, 0.717213114754098]),\n",
      "(Enrollment (Ages 5-17):REAL, Examples: [1070.0, 376.0, 230.0]),\n",
      "(Free Meal Count (Ages 5-17):REAL, Examples: [553.0, 182.0, 128.0]),\n",
      "(Percent (%) Eligible Free (Ages 5-17):REAL, Examples: [0.516822429906542, 0.484042553191489, 0.556521739130435]),\n",
      "(FRPM Count (Ages 5-17):REAL, Examples: [702.0, 182.0, 168.0]),\n",
      "(Percent (%) Eligible FRPM (Ages 5-17):REAL, Examples: [0.65607476635514, 0.484042553191489, 0.730434782608696]),\n",
      "(2013-14 CALPADS Fall 1 Certification Status:INTEGER, Examples: [1])\n",
      "]\n",
      "# Table: satscores\n",
      "[\n",
      "(cds:TEXT, maps to schools.CDSCode, Primary Key, Examples: [10101080000000, 10101080109991, 10101080111682]),\n",
      "(rtype:TEXT, Examples: [D, S]),\n",
      "(sname:TEXT, Examples: [FAME Public Charter]),\n",
      "(dname:TEXT, Examples: [Alameda County Office of Education]),\n",
      "(cname:TEXT, Examples: [Alameda, Amador, Butte]),\n",
      "(enroll12:INTEGER, Examples: [398, 62, 75]),\n",
      "(NumTstTakr:INTEGER, Examples: [88, 17, 71]),\n",
      "(AvgScrRead:INTEGER, Examples: [418, 503, 397]),\n",
      "(AvgScrMath:INTEGER, Examples: [418, 546, 387]),\n",
      "(AvgScrWrite:INTEGER, Examples: [417, 505, 395]),\n",
      "(NumGE1500:INTEGER, Examples: [14, 9, 5])\n",
      "]\n",
      "# Table: schools\n",
      "[\n",
      "(CDSCode:TEXT, Primary Key, Examples: [01100170000000, 01100170109835, 01100170112607]),\n",
      "(NCESDist:TEXT, Examples: [0691051, 0600002, 0600003]),\n",
      "(NCESSchool:TEXT, Examples: [10546, 10947, 12283]),\n",
      "(StatusType:TEXT, Examples: [Active, Closed, Merged]),\n",
      "(County:TEXT, Examples: [Alameda, Alpine, Amador]),\n",
      "(District:TEXT),\n",
      "(School:TEXT, Examples: [FAME Public Charter]),\n",
      "(Street:TEXT, Examples: [313 West Winton Avenue]),\n",
      "(StreetAbr:TEXT, Examples: [313 West Winton Ave.]),\n",
      "(City:TEXT, Examples: [Hayward, Newark, Oakland]),\n",
      "(Zip:TEXT, Examples: [94544-1136, 94560-5359, 94612-3355]),\n",
      "(State:TEXT, Examples: [CA]),\n",
      "(MailStreet:TEXT, Examples: [313 West Winton Avenue]),\n",
      "(MailStrAbr:TEXT, Examples: [313 West Winton Ave.]),\n",
      "(MailCity:TEXT, Examples: [Hayward, Newark, Oakland]),\n",
      "(MailZip:TEXT, Examples: [94544-1136, 94560-5359, 94612]),\n",
      "(MailState:TEXT, Examples: [CA]),\n",
      "(Phone:TEXT, Examples: [(510) 887-0152, (510) 596-8901, (510) 686-4131]),\n",
      "(Ext:TEXT, Examples: [130, 1240, 1200]),\n",
      "(Website:TEXT, Examples: [www.acoe.org]),\n",
      "(OpenDate:DATE, Examples: [2005-08-29]),\n",
      "(ClosedDate:DATE, Examples: [2015-07-31]),\n",
      "(Charter:INTEGER, Examples: [1, 0]),\n",
      "(CharterNum:TEXT, Examples: [0728, 0811, 1049]),\n",
      "(FundingType:TEXT, Examples: [Directly funded]),\n",
      "(DOC:TEXT, Examples: [00, 31, 34]),\n",
      "(DOCType:TEXT, Examples: [County Office of Education (COE)]),\n",
      "(SOC:TEXT, Examples: [65, 66, 60]),\n",
      "(SOCType:TEXT, Examples: [K-12 Schools (Public)]),\n",
      "(EdOpsCode:TEXT, Examples: [TRAD, JUV, COMM]),\n",
      "(EdOpsName:TEXT, Examples: [Traditional]),\n",
      "(EILCode:TEXT, Examples: [ELEMHIGH, HS, ELEM]),\n",
      "(EILName:TEXT, Examples: [Elementary-High Combination]),\n",
      "(GSoffered:TEXT, Examples: [K-12, 9-12, K-8]),\n",
      "(GSserved:TEXT, Examples: [K-12, 9-12, K-7]),\n",
      "(Virtual:TEXT, Examples: [P, N, F]),\n",
      "(Magnet:INTEGER, Examples: [0, 1]),\n",
      "(Latitude:REAL, Examples: [37.658212, 37.521436, 37.80452]),\n",
      "(Longitude:REAL, Examples: [-122.09713, -121.99391, -122.26815]),\n",
      "(AdmFName1:TEXT, Examples: [L Karen, Laura, Clifford]),\n",
      "(AdmLName1:TEXT, Examples: [Monroe, Robell, Thompson]),\n",
      "(AdmEmail1:TEXT),\n",
      "(AdmFName2:TEXT, Examples: [Sau-Lim (Lance), Jennifer, Annalisa]),\n",
      "(AdmLName2:TEXT, Examples: [Tsang, Koelling, Moore]),\n",
      "(AdmEmail2:TEXT),\n",
      "(AdmFName3:TEXT, Examples: [Drew, Irma, Vickie]),\n",
      "(AdmLName3:TEXT, Examples: [Sarratore, Munoz, Chang]),\n",
      "(AdmEmail3:TEXT),\n",
      "(LastUpdate:DATE, Examples: [2015-06-23])\n",
      "]\n",
      "【Foreign keys】\n",
      "frpm.CDSCode=schools.CDSCode\n",
      "satscores.cds=schools.CDSCode\n",
      "\n",
      "-- Using valid SQLite and understanding External Knowledge, answer the following questions for the tables provided above.\n",
      "-- What is the highest eligible free rate for K-12 students in the schools in Alameda County?\n",
      "-- External Knowledge: Eligible free rate for K-12 = `Free Meal Count (K-12)` / `Enrollment (K-12)`\n",
      "\n",
      "\n",
      "Generate the SQLite for the above question after thinking step by step: \n",
      "\n",
      "\n",
      "Instructions:\n",
      "- Make sure you only output the information that is asked in the question. If the question asks for a specific column, make sure to only include that column in the SELECT clause, nothing more.\n",
      "- The generated query should return all of the information asked in the question without any missing or extra information.\n",
      "- Before generating the final SQL query, please think through the steps of how to write the query.\n",
      "- Do not misuse column names, keep them in quotes `\n",
      "- Carefully understand what colomns belond to what tables\n",
      "- Use only initial column names, change names prohibited\n",
      "        \n",
      "Output Format:\n",
      "In your answer, please enclose the generated SQL query in a code block:\n",
      "```\n",
      "-- Your SQL query\n",
      "```    \n",
      "and nothing else, no exaplains, no comments (asnwer should be less than 512 characters)\n",
      "\n",
      "Take a deep breath and think step by step to find the correct SQL query in SQLite format.\n",
      "\n",
      "Question repetition: What is the highest eligible free rate for K-12 students in the schools in Alameda County?\n",
      "\n",
      "Be care! Include only what i want it questiona and nothing else<|im_end|>\n",
      "<|im_start|>assistant\n",
      "<think>\n",
      "\n",
      "</think>\n",
      "\n",
      "\n",
      "\n",
      "\n",
      "Максимальное количество токенов в промптах: 21344\n",
      "\n",
      "начинаем скорринг\n",
      "Загружаем чаты с данными...\n",
      "Данные успешно загружены\n",
      "Начали генерацию SQL запросов\n"
     ]
    },
    {
     "name": "stderr",
     "output_type": "stream",
     "text": [
      "Processed prompts: 100%|██████████| 1534/1534 [00:26<00:00, 57.88it/s, est. speed input: 150033.61 toks/s, output: 2693.72 toks/s] "
     ]
    },
    {
     "name": "stdout",
     "output_type": "stream",
     "text": [
      "extract_think количество ошибок:  0\n",
      "extract_sql количество ошибок:  0\n",
      "Закончили генерацию SQL запросов\n",
      "Начали скорр полученных SQL запросов\n"
     ]
    },
    {
     "name": "stderr",
     "output_type": "stream",
     "text": [
      "\n"
     ]
    },
    {
     "name": "stdout",
     "output_type": "stream",
     "text": [
      "Qwen3-1.7B DEV Финальный результат EX: 43.81\n",
      "Qwen3-1.7B процент запросов, которые успешно выполнились DEV: 76.73%\n",
      "====================================================================================================\n",
      "\n",
      "\n",
      "Загружаем чаты с данными...\n",
      "Данные успешно загружены\n",
      "Начали генерацию SQL запросов\n"
     ]
    },
    {
     "name": "stderr",
     "output_type": "stream",
     "text": [
      "Processed prompts: 100%|██████████| 1534/1534 [00:25<00:00, 59.61it/s, est. speed input: 153896.57 toks/s, output: 2758.84 toks/s] "
     ]
    },
    {
     "name": "stdout",
     "output_type": "stream",
     "text": [
      "extract_think количество ошибок:  0\n",
      "extract_sql количество ошибок:  0\n",
      "Закончили генерацию SQL запросов\n",
      "Начали скорр полученных SQL запросов\n"
     ]
    },
    {
     "name": "stderr",
     "output_type": "stream",
     "text": [
      "\n"
     ]
    },
    {
     "name": "stdout",
     "output_type": "stream",
     "text": [
      "Qwen3-1.7B DEV Финальный результат EX: 44.07\n",
      "Qwen3-1.7B процент запросов, которые успешно выполнились DEV: 76.01%\n",
      "====================================================================================================\n",
      "\n",
      "\n",
      "Загружаем чаты с данными...\n",
      "Данные успешно загружены\n",
      "Начали генерацию SQL запросов\n"
     ]
    },
    {
     "name": "stderr",
     "output_type": "stream",
     "text": [
      "Processed prompts: 100%|██████████| 1534/1534 [00:26<00:00, 58.83it/s, est. speed input: 151760.83 toks/s, output: 2725.81 toks/s] "
     ]
    },
    {
     "name": "stdout",
     "output_type": "stream",
     "text": [
      "extract_think количество ошибок:  0\n",
      "extract_sql количество ошибок:  0\n",
      "Закончили генерацию SQL запросов\n",
      "Начали скорр полученных SQL запросов\n"
     ]
    },
    {
     "name": "stderr",
     "output_type": "stream",
     "text": [
      "\n"
     ]
    },
    {
     "name": "stdout",
     "output_type": "stream",
     "text": [
      "Qwen3-1.7B DEV Финальный результат EX: 45.05\n",
      "Qwen3-1.7B процент запросов, которые успешно выполнились DEV: 75.81%\n",
      "====================================================================================================\n",
      "\n",
      "\n",
      "Загружаем чаты с данными...\n",
      "Данные успешно загружены\n",
      "Начали генерацию SQL запросов\n"
     ]
    },
    {
     "name": "stderr",
     "output_type": "stream",
     "text": [
      "Processed prompts: 100%|██████████| 1534/1534 [00:27<00:00, 56.18it/s, est. speed input: 144883.11 toks/s, output: 2599.66 toks/s] "
     ]
    },
    {
     "name": "stdout",
     "output_type": "stream",
     "text": [
      "extract_think количество ошибок:  0\n",
      "extract_sql количество ошибок:  0\n",
      "Закончили генерацию SQL запросов\n",
      "Начали скорр полученных SQL запросов\n"
     ]
    },
    {
     "name": "stderr",
     "output_type": "stream",
     "text": [
      "\n"
     ]
    },
    {
     "name": "stdout",
     "output_type": "stream",
     "text": [
      "Qwen3-1.7B DEV Финальный результат EX: 46.22\n",
      "Qwen3-1.7B процент запросов, которые успешно выполнились DEV: 76.86%\n",
      "====================================================================================================\n",
      "\n",
      "\n",
      "Загружаем чаты с данными...\n",
      "Данные успешно загружены\n",
      "Начали генерацию SQL запросов\n"
     ]
    },
    {
     "name": "stderr",
     "output_type": "stream",
     "text": [
      "Processed prompts: 100%|██████████| 1534/1534 [00:26<00:00, 58.67it/s, est. speed input: 151188.92 toks/s, output: 2688.87 toks/s] "
     ]
    },
    {
     "name": "stdout",
     "output_type": "stream",
     "text": [
      "extract_think количество ошибок:  0\n",
      "extract_sql количество ошибок:  0\n",
      "Закончили генерацию SQL запросов\n",
      "Начали скорр полученных SQL запросов\n"
     ]
    },
    {
     "name": "stderr",
     "output_type": "stream",
     "text": [
      "\n"
     ]
    },
    {
     "name": "stdout",
     "output_type": "stream",
     "text": [
      "Qwen3-1.7B DEV Финальный результат EX: 46.41\n",
      "Qwen3-1.7B процент запросов, которые успешно выполнились DEV: 77.71%\n",
      "====================================================================================================\n",
      "\n",
      "\n",
      "Загружаем чаты с данными...\n",
      "Данные успешно загружены\n",
      "Начали генерацию SQL запросов\n"
     ]
    },
    {
     "name": "stderr",
     "output_type": "stream",
     "text": [
      "Processed prompts: 100%|██████████| 1534/1534 [00:26<00:00, 58.31it/s, est. speed input: 150259.58 toks/s, output: 2694.29 toks/s] "
     ]
    },
    {
     "name": "stdout",
     "output_type": "stream",
     "text": [
      "extract_think количество ошибок:  0\n",
      "extract_sql количество ошибок:  0\n",
      "Закончили генерацию SQL запросов\n",
      "Начали скорр полученных SQL запросов\n"
     ]
    },
    {
     "name": "stderr",
     "output_type": "stream",
     "text": [
      "\n"
     ]
    },
    {
     "name": "stdout",
     "output_type": "stream",
     "text": [
      "Qwen3-1.7B DEV Финальный результат EX: 46.87\n",
      "Qwen3-1.7B процент запросов, которые успешно выполнились DEV: 77.71%\n",
      "====================================================================================================\n",
      "\n",
      "\n",
      "Загружаем чаты с данными...\n",
      "Данные успешно загружены\n",
      "Начали генерацию SQL запросов\n"
     ]
    },
    {
     "name": "stderr",
     "output_type": "stream",
     "text": [
      "Processed prompts: 100%|██████████| 1534/1534 [00:26<00:00, 56.94it/s, est. speed input: 146715.59 toks/s, output: 2630.00 toks/s] "
     ]
    },
    {
     "name": "stdout",
     "output_type": "stream",
     "text": [
      "extract_think количество ошибок:  0\n",
      "extract_sql количество ошибок:  0\n",
      "Закончили генерацию SQL запросов\n",
      "Начали скорр полученных SQL запросов\n"
     ]
    },
    {
     "name": "stderr",
     "output_type": "stream",
     "text": [
      "\n"
     ]
    },
    {
     "name": "stdout",
     "output_type": "stream",
     "text": [
      "Qwen3-1.7B DEV Финальный результат EX: 45.83\n",
      "Qwen3-1.7B процент запросов, которые успешно выполнились DEV: 77.84%\n",
      "====================================================================================================\n",
      "\n",
      "\n",
      "Загружаем чаты с данными...\n",
      "Данные успешно загружены\n",
      "Начали генерацию SQL запросов\n"
     ]
    },
    {
     "name": "stderr",
     "output_type": "stream",
     "text": [
      "Processed prompts: 100%|██████████| 1534/1534 [00:26<00:00, 57.29it/s, est. speed input: 148184.11 toks/s, output: 2641.16 toks/s] "
     ]
    },
    {
     "name": "stdout",
     "output_type": "stream",
     "text": [
      "extract_think количество ошибок:  0\n",
      "extract_sql количество ошибок:  0\n",
      "Закончили генерацию SQL запросов\n",
      "Начали скорр полученных SQL запросов\n"
     ]
    },
    {
     "name": "stderr",
     "output_type": "stream",
     "text": [
      "\n"
     ]
    },
    {
     "name": "stdout",
     "output_type": "stream",
     "text": [
      "Qwen3-1.7B DEV Финальный результат EX: 46.48\n",
      "Qwen3-1.7B процент запросов, которые успешно выполнились DEV: 78.75%\n",
      "====================================================================================================\n",
      "\n",
      "\n",
      "Загружаем чаты с данными...\n",
      "Данные успешно загружены\n",
      "Начали генерацию SQL запросов\n"
     ]
    },
    {
     "name": "stderr",
     "output_type": "stream",
     "text": [
      "Processed prompts: 100%|██████████| 1534/1534 [00:27<00:00, 56.58it/s, est. speed input: 146356.80 toks/s, output: 2629.40 toks/s] "
     ]
    },
    {
     "name": "stdout",
     "output_type": "stream",
     "text": [
      "extract_think количество ошибок:  0\n",
      "extract_sql количество ошибок:  0\n",
      "Закончили генерацию SQL запросов\n",
      "Начали скорр полученных SQL запросов\n"
     ]
    },
    {
     "name": "stderr",
     "output_type": "stream",
     "text": [
      "\n"
     ]
    },
    {
     "name": "stdout",
     "output_type": "stream",
     "text": [
      "Qwen3-1.7B DEV Финальный результат EX: 46.41\n",
      "Qwen3-1.7B процент запросов, которые успешно выполнились DEV: 77.71%\n",
      "====================================================================================================\n",
      "\n",
      "\n",
      "Загружаем чаты с данными...\n",
      "Данные успешно загружены\n",
      "Начали генерацию SQL запросов\n"
     ]
    },
    {
     "name": "stderr",
     "output_type": "stream",
     "text": [
      "Processed prompts: 100%|██████████| 1534/1534 [00:26<00:00, 57.47it/s, est. speed input: 148668.97 toks/s, output: 2664.66 toks/s] "
     ]
    },
    {
     "name": "stdout",
     "output_type": "stream",
     "text": [
      "extract_think количество ошибок:  0\n",
      "extract_sql количество ошибок:  0\n",
      "Закончили генерацию SQL запросов\n",
      "Начали скорр полученных SQL запросов\n"
     ]
    },
    {
     "name": "stderr",
     "output_type": "stream",
     "text": [
      "\n"
     ]
    },
    {
     "name": "stdout",
     "output_type": "stream",
     "text": [
      "Qwen3-1.7B DEV Финальный результат EX: 46.02\n",
      "Qwen3-1.7B процент запросов, которые успешно выполнились DEV: 78.29%\n",
      "====================================================================================================\n",
      "\n",
      "\n",
      "Загружаем чаты с данными...\n",
      "Данные успешно загружены\n",
      "Начали генерацию SQL запросов\n"
     ]
    },
    {
     "name": "stderr",
     "output_type": "stream",
     "text": [
      "Processed prompts: 100%|██████████| 1534/1534 [00:26<00:00, 57.87it/s, est. speed input: 149772.17 toks/s, output: 2669.96 toks/s] "
     ]
    },
    {
     "name": "stdout",
     "output_type": "stream",
     "text": [
      "extract_think количество ошибок:  0\n",
      "extract_sql количество ошибок:  0\n",
      "Закончили генерацию SQL запросов\n",
      "Начали скорр полученных SQL запросов\n"
     ]
    },
    {
     "name": "stderr",
     "output_type": "stream",
     "text": [
      "\n"
     ]
    },
    {
     "name": "stdout",
     "output_type": "stream",
     "text": [
      "Qwen3-1.7B DEV Финальный результат EX: 45.83\n",
      "Qwen3-1.7B процент запросов, которые успешно выполнились DEV: 77.25%\n",
      "====================================================================================================\n",
      "\n",
      "\n",
      "Загружаем чаты с данными...\n",
      "Данные успешно загружены\n",
      "Начали генерацию SQL запросов\n"
     ]
    },
    {
     "name": "stderr",
     "output_type": "stream",
     "text": [
      "Processed prompts: 100%|██████████| 1534/1534 [00:26<00:00, 58.65it/s, est. speed input: 150671.97 toks/s, output: 2715.97 toks/s] "
     ]
    },
    {
     "name": "stdout",
     "output_type": "stream",
     "text": [
      "extract_think количество ошибок:  0\n",
      "extract_sql количество ошибок:  0\n",
      "Закончили генерацию SQL запросов\n",
      "Начали скорр полученных SQL запросов\n"
     ]
    },
    {
     "name": "stderr",
     "output_type": "stream",
     "text": [
      "\n"
     ]
    },
    {
     "name": "stdout",
     "output_type": "stream",
     "text": [
      "Qwen3-1.7B DEV Финальный результат EX: 45.76\n",
      "Qwen3-1.7B процент запросов, которые успешно выполнились DEV: 76.66%\n",
      "====================================================================================================\n",
      "\n",
      "\n",
      "Загружаем чаты с данными...\n",
      "Данные успешно загружены\n",
      "Начали генерацию SQL запросов\n"
     ]
    },
    {
     "name": "stderr",
     "output_type": "stream",
     "text": [
      "Processed prompts: 100%|██████████| 1534/1534 [00:26<00:00, 58.64it/s, est. speed input: 150629.21 toks/s, output: 2712.94 toks/s] "
     ]
    },
    {
     "name": "stdout",
     "output_type": "stream",
     "text": [
      "extract_think количество ошибок:  0\n",
      "extract_sql количество ошибок:  0\n",
      "Закончили генерацию SQL запросов\n",
      "Начали скорр полученных SQL запросов\n"
     ]
    },
    {
     "name": "stderr",
     "output_type": "stream",
     "text": [
      "\n"
     ]
    },
    {
     "name": "stdout",
     "output_type": "stream",
     "text": [
      "Qwen3-1.7B DEV Финальный результат EX: 45.70\n",
      "Qwen3-1.7B процент запросов, которые успешно выполнились DEV: 76.86%\n",
      "====================================================================================================\n",
      "\n",
      "\n",
      "Загружаем чаты с данными...\n",
      "Данные успешно загружены\n",
      "Начали генерацию SQL запросов\n"
     ]
    },
    {
     "name": "stderr",
     "output_type": "stream",
     "text": [
      "Processed prompts: 100%|██████████| 1534/1534 [00:26<00:00, 57.75it/s, est. speed input: 149006.61 toks/s, output: 2670.59 toks/s] "
     ]
    },
    {
     "name": "stdout",
     "output_type": "stream",
     "text": [
      "extract_think количество ошибок:  0\n",
      "extract_sql количество ошибок:  0\n",
      "Закончили генерацию SQL запросов\n",
      "Начали скорр полученных SQL запросов\n"
     ]
    },
    {
     "name": "stderr",
     "output_type": "stream",
     "text": [
      "\n"
     ]
    },
    {
     "name": "stdout",
     "output_type": "stream",
     "text": [
      "Qwen3-1.7B DEV Финальный результат EX: 45.57\n",
      "Qwen3-1.7B процент запросов, которые успешно выполнились DEV: 77.12%\n",
      "====================================================================================================\n",
      "\n",
      "\n",
      "Загружаем чаты с данными...\n",
      "Данные успешно загружены\n",
      "Начали генерацию SQL запросов\n"
     ]
    },
    {
     "name": "stderr",
     "output_type": "stream",
     "text": [
      "Processed prompts: 100%|██████████| 1534/1534 [00:26<00:00, 58.80it/s, est. speed input: 151717.37 toks/s, output: 2716.66 toks/s] "
     ]
    },
    {
     "name": "stdout",
     "output_type": "stream",
     "text": [
      "extract_think количество ошибок:  0\n",
      "extract_sql количество ошибок:  0\n",
      "Закончили генерацию SQL запросов\n",
      "Начали скорр полученных SQL запросов\n"
     ]
    },
    {
     "name": "stderr",
     "output_type": "stream",
     "text": [
      "\n"
     ]
    },
    {
     "name": "stdout",
     "output_type": "stream",
     "text": [
      "Qwen3-1.7B DEV Финальный результат EX: 47.13\n",
      "Qwen3-1.7B процент запросов, которые успешно выполнились DEV: 77.71%\n",
      "====================================================================================================\n",
      "\n",
      "\n",
      "Загружаем чаты с данными...\n",
      "Данные успешно загружены\n",
      "Начали генерацию SQL запросов\n"
     ]
    },
    {
     "name": "stderr",
     "output_type": "stream",
     "text": [
      "Processed prompts: 100%|██████████| 1534/1534 [00:26<00:00, 57.27it/s, est. speed input: 147929.97 toks/s, output: 2644.18 toks/s] "
     ]
    },
    {
     "name": "stdout",
     "output_type": "stream",
     "text": [
      "extract_think количество ошибок:  0\n",
      "extract_sql количество ошибок:  0\n",
      "Закончили генерацию SQL запросов\n",
      "Начали скорр полученных SQL запросов\n"
     ]
    },
    {
     "name": "stderr",
     "output_type": "stream",
     "text": [
      "\n"
     ]
    },
    {
     "name": "stdout",
     "output_type": "stream",
     "text": [
      "Qwen3-1.7B DEV Финальный результат EX: 46.02\n",
      "Qwen3-1.7B процент запросов, которые успешно выполнились DEV: 77.31%\n",
      "====================================================================================================\n",
      "\n",
      "\n",
      "Загружаем чаты с данными...\n",
      "Данные успешно загружены\n",
      "Начали генерацию SQL запросов\n"
     ]
    },
    {
     "name": "stderr",
     "output_type": "stream",
     "text": [
      "Processed prompts: 100%|██████████| 1534/1534 [00:26<00:00, 57.74it/s, est. speed input: 149211.12 toks/s, output: 2676.40 toks/s] "
     ]
    },
    {
     "name": "stdout",
     "output_type": "stream",
     "text": [
      "extract_think количество ошибок:  0\n",
      "extract_sql количество ошибок:  0\n",
      "Закончили генерацию SQL запросов\n",
      "Начали скорр полученных SQL запросов\n"
     ]
    },
    {
     "name": "stderr",
     "output_type": "stream",
     "text": [
      "\n"
     ]
    },
    {
     "name": "stdout",
     "output_type": "stream",
     "text": [
      "Qwen3-1.7B DEV Финальный результат EX: 45.89\n",
      "Qwen3-1.7B процент запросов, которые успешно выполнились DEV: 77.64%\n",
      "====================================================================================================\n",
      "\n",
      "\n",
      "Загружаем чаты с данными...\n",
      "Данные успешно загружены\n",
      "Начали генерацию SQL запросов\n"
     ]
    },
    {
     "name": "stderr",
     "output_type": "stream",
     "text": [
      "Processed prompts: 100%|██████████| 1534/1534 [00:26<00:00, 56.85it/s, est. speed input: 146862.12 toks/s, output: 2642.26 toks/s] "
     ]
    },
    {
     "name": "stdout",
     "output_type": "stream",
     "text": [
      "extract_think количество ошибок:  0\n",
      "extract_sql количество ошибок:  0\n",
      "Закончили генерацию SQL запросов\n",
      "Начали скорр полученных SQL запросов\n"
     ]
    },
    {
     "name": "stderr",
     "output_type": "stream",
     "text": [
      "\n"
     ]
    },
    {
     "name": "stdout",
     "output_type": "stream",
     "text": [
      "Qwen3-1.7B DEV Финальный результат EX: 45.89\n",
      "Qwen3-1.7B процент запросов, которые успешно выполнились DEV: 77.25%\n",
      "====================================================================================================\n",
      "\n",
      "\n",
      "Загружаем чаты с данными...\n",
      "Данные успешно загружены\n",
      "Начали генерацию SQL запросов\n"
     ]
    },
    {
     "name": "stderr",
     "output_type": "stream",
     "text": [
      "Processed prompts: 100%|██████████| 1534/1534 [00:27<00:00, 55.06it/s, est. speed input: 142263.88 toks/s, output: 2565.64 toks/s] "
     ]
    },
    {
     "name": "stdout",
     "output_type": "stream",
     "text": [
      "extract_think количество ошибок:  0\n",
      "extract_sql количество ошибок:  0\n",
      "Закончили генерацию SQL запросов\n",
      "Начали скорр полученных SQL запросов\n"
     ]
    },
    {
     "name": "stderr",
     "output_type": "stream",
     "text": [
      "\n"
     ]
    },
    {
     "name": "stdout",
     "output_type": "stream",
     "text": [
      "Qwen3-1.7B DEV Финальный результат EX: 45.18\n",
      "Qwen3-1.7B процент запросов, которые успешно выполнились DEV: 77.90%\n",
      "====================================================================================================\n",
      "\n",
      "\n",
      "Загружаем чаты с данными...\n",
      "Данные успешно загружены\n",
      "Начали генерацию SQL запросов\n"
     ]
    },
    {
     "name": "stderr",
     "output_type": "stream",
     "text": [
      "Processed prompts: 100%|██████████| 1534/1534 [00:26<00:00, 57.20it/s, est. speed input: 148206.68 toks/s, output: 2647.45 toks/s] "
     ]
    },
    {
     "name": "stdout",
     "output_type": "stream",
     "text": [
      "extract_think количество ошибок:  0\n",
      "extract_sql количество ошибок:  0\n",
      "Закончили генерацию SQL запросов\n",
      "Начали скорр полученных SQL запросов\n"
     ]
    },
    {
     "name": "stderr",
     "output_type": "stream",
     "text": [
      "\n"
     ]
    },
    {
     "name": "stdout",
     "output_type": "stream",
     "text": [
      "Qwen3-1.7B DEV Финальный результат EX: 44.85\n",
      "Qwen3-1.7B процент запросов, которые успешно выполнились DEV: 77.90%\n",
      "====================================================================================================\n",
      "\n",
      "\n"
     ]
    }
   ],
   "source": [
    "run_cot_experiment(model,arr_seeds,arr_versions, type_cot,num_observations=num_observations)"
   ]
  },
  {
   "cell_type": "code",
   "execution_count": 9,
   "id": "c1e5e144-1e1f-44de-8094-e7172daff51b",
   "metadata": {},
   "outputs": [
    {
     "name": "stdout",
     "output_type": "stream",
     "text": [
      "[432, 577, 698, 496, 989, 224, 128, 561, 355, 724, 96, 375, 189, 193, 497, 531, 794, 830, 424, 870]\n",
      "model: Qwen3-1.7B\n"
     ]
    }
   ],
   "source": [
    "n= 20\n",
    "arr_seeds = [random.randint(0,1000) for _ in range(n)]\n",
    "arr_versions = [x for x in range(n)]\n",
    "model = \"Qwen3-1.7B\"\n",
    "num_observations = 5\n",
    "type_cot = 'predict'\n",
    "print(arr_seeds)\n",
    "print(f\"model: {model}\")"
   ]
  },
  {
   "cell_type": "code",
   "execution_count": 10,
   "id": "25a08606-4784-406f-965a-c029463c9e15",
   "metadata": {
    "scrolled": true
   },
   "outputs": [
    {
     "name": "stdout",
     "output_type": "stream",
     "text": [
      "Загружаем модель...\n"
     ]
    },
    {
     "name": "stderr",
     "output_type": "stream",
     "text": [
      "Loading safetensors checkpoint shards:   0% Completed | 0/2 [00:00<?, ?it/s]\n",
      "Loading safetensors checkpoint shards:  50% Completed | 1/2 [00:01<00:01,  1.20s/it]\n",
      "Loading safetensors checkpoint shards: 100% Completed | 2/2 [00:01<00:00,  1.60it/s]\n",
      "\u001b[1;36m(VllmWorker rank=0 pid=3077803)\u001b[0;0m \n"
     ]
    },
    {
     "name": "stdout",
     "output_type": "stream",
     "text": [
      "Модель успешно загружена\n",
      "model_config {'model': '/data/home/vkropoti/models/Qwen3-1.7B', 'tensor_parallel_size': 2, 'max_model_len': 40000, 'max_new_tokens': 1500, 'temperature': 0, 'top_k': 1, 'top_p': 0.8, 'gpu_memory_utilization': 0.9, 'trust_remote_code': False, 'seed': 432}\n",
      "\n",
      "prompts_config {'path_dev_json': '/home/vkropoti/vllm/dev.json', 'path_sql_dbs': '/data/home/vkropoti/sql_data/dev_databases/', 'use_reasoning': False, 'paths_to_cot': ['/data/home/vkropoti/sql_llm_answers/bird_dev_m_schema/sql_predict_Qwen3-1.7B-reasoning-v0', '/data/home/vkropoti/sql_llm_answers/bird_dev_m_schema/sql_predict_Qwen3-1.7B-reasoning-v1', '/data/home/vkropoti/sql_llm_answers/bird_dev_m_schema/sql_predict_Qwen3-1.7B-reasoning-v2', '/data/home/vkropoti/sql_llm_answers/bird_dev_m_schema/sql_predict_Qwen3-1.7B-reasoning-v3', '/data/home/vkropoti/sql_llm_answers/bird_dev_m_schema/sql_predict_Qwen3-1.7B-reasoning-v4']}\n",
      "\n",
      "save_config {'path_sql_save': '/data/home/vkropoti/sql_llm_answers/bird_dev_m_schema/sql_all_Qwen3-1.7B-cot_predict_think==False_nobs5-v0', 'path_think_save': None, 'path_sql_answers_save': '/data/home/vkropoti/sql_llm_answers/bird_dev_m_schema/sql_predict_Qwen3-1.7B-cot_predict_think==False_nobs5-v0', 'path_to_save_scores': '/data/home/vkropoti/sql_llm_answers/bird_dev_m_schema/sql_results_Qwen3-1.7B-cot_predict_think==False_nobs5-v0', 'path_to_save_executed': '/data/home/vkropoti/sql_llm_answers/bird_dev_m_schema/sql_executed_Qwen3-1.7B-cot_predict_think==False_nobs5-v0'}\n",
      "\n",
      "Модель успешно загружена\n",
      "Пример промпта\n",
      "<|im_start|>system\n",
      "\n",
      "You are a data science expert. Below, you are provided with a database schema and a natural language question. Your task is to understand the schema and generate a valid SQL query to answer the question.\n",
      "\n",
      "Database Engine: SQLite\n",
      "\n",
      "You will be given an additional analysis of other models, please take it into account, so the plan is\n",
      "1. Analyse given addition analysis from other models (find in which analysis the same and differ, how to use that to answer question)\n",
      "2. Combine best from previous part and think how to solve the problem (analyze tables, take care what columns avaliable in each table and so on, check the syntacsis)\n",
      "3. Create the answers. The answer should be only sql query.\n",
      "\n",
      "Carefully follow the instruction and add <|im_end|> and the end of the final answer<|im_end|>\n",
      "<|im_start|>user\n",
      "Here is addition analysis from other models which can be helpfull, please take this into account but be careful (choose the best from each analysis, combine them to make the most proper answer):\n",
      "\n",
      "model 0 analysis:\n",
      " SELECT MAX(Free Meal Count (K-12)/Enrollment (K-12)) FROM schools JOIN frpm ON schools.CDSCode = frpm.CDSCode WHERE schools.County = 'Alameda';\n",
      "\n",
      "model 1 analysis:\n",
      " SELECT MAX((Free Meal Count (K-12) / Enrollment (K-12))) AS highest_rate\n",
      "FROM frpm\n",
      "JOIN schools ON frpm.CDSCode = schools.CDSCode\n",
      "WHERE schools.County = 'Alameda' AND frpm.Low Grade = 'K' AND frpm.High Grade = '12';\n",
      "\n",
      "model 2 analysis:\n",
      " SELECT MAX(Percent (%) Eligible Free (K-12)) FROM frpm JOIN schools ON frpm.CDSCode = schools.CDSCode WHERE schools.County = 'Alameda';\n",
      "\n",
      "model 3 analysis:\n",
      " SELECT MAX(Percent (%) Eligible Free (K-12)) \n",
      "FROM schools \n",
      "JOIN frpm ON schools.CDSCode = frpm.CDSCode \n",
      "WHERE schools.County = 'Alameda' AND frpm.Low Grade = 'K' AND frpm.High Grade = '12';\n",
      "\n",
      "model 4 analysis:\n",
      " SELECT MAX(Percent (%) Eligible Free (K-12)) FROM frpm JOIN schools ON frpm.CDSCode = schools.CDSCode WHERE schools.County = 'Alameda';\n",
      "\n",
      "\n",
      "here is avaliable tables and their structure below\n",
      "【DB_ID】 california_schools\n",
      "【Schema】\n",
      "# Table: frpm\n",
      "[\n",
      "(CDSCode:TEXT, maps to schools.CDSCode, Primary Key, Examples: [01100170109835, 01100170112607, 01100170118489]),\n",
      "(Academic Year:TEXT, Examples: [2014-2015]),\n",
      "(County Code:TEXT, Examples: [01, 02, 03]),\n",
      "(District Code:INTEGER, Examples: [10017, 31609, 31617]),\n",
      "(School Code:TEXT, Examples: [0109835, 0112607, 0118489]),\n",
      "(County Name:TEXT, Examples: [Alameda, Alpine, Amador]),\n",
      "(District Name:TEXT),\n",
      "(School Name:TEXT, Examples: [FAME Public Charter]),\n",
      "(District Type:TEXT, Examples: [County Office of Education (COE)]),\n",
      "(School Type:TEXT, Examples: [K-12 Schools (Public)]),\n",
      "(Educational Option Type:TEXT, Examples: [Traditional]),\n",
      "(NSLP Provision Status:TEXT, Examples: [Breakfast Provision 2]),\n",
      "(Charter School (Y/N):INTEGER, Examples: [1, 0]),\n",
      "(Charter School Number:TEXT, Examples: [0728, 0811, 1049]),\n",
      "(Charter Funding Type:TEXT, Examples: [Directly funded]),\n",
      "(IRC:INTEGER, Examples: [1, 0]),\n",
      "(Low Grade:TEXT, Examples: [K, 9, 1]),\n",
      "(High Grade:TEXT, Examples: [12, 8, 5]),\n",
      "(Enrollment (K-12):REAL, Examples: [1087.0, 395.0, 244.0]),\n",
      "(Free Meal Count (K-12):REAL, Examples: [565.0, 186.0, 134.0]),\n",
      "(Percent (%) Eligible Free (K-12):REAL, Examples: [0.519779208831647, 0.470886075949367, 0.549180327868853]),\n",
      "(FRPM Count (K-12):REAL, Examples: [715.0, 186.0, 175.0]),\n",
      "(Percent (%) Eligible FRPM (K-12):REAL, Examples: [0.657773689052438, 0.470886075949367, 0.717213114754098]),\n",
      "(Enrollment (Ages 5-17):REAL, Examples: [1070.0, 376.0, 230.0]),\n",
      "(Free Meal Count (Ages 5-17):REAL, Examples: [553.0, 182.0, 128.0]),\n",
      "(Percent (%) Eligible Free (Ages 5-17):REAL, Examples: [0.516822429906542, 0.484042553191489, 0.556521739130435]),\n",
      "(FRPM Count (Ages 5-17):REAL, Examples: [702.0, 182.0, 168.0]),\n",
      "(Percent (%) Eligible FRPM (Ages 5-17):REAL, Examples: [0.65607476635514, 0.484042553191489, 0.730434782608696]),\n",
      "(2013-14 CALPADS Fall 1 Certification Status:INTEGER, Examples: [1])\n",
      "]\n",
      "# Table: satscores\n",
      "[\n",
      "(cds:TEXT, maps to schools.CDSCode, Primary Key, Examples: [10101080000000, 10101080109991, 10101080111682]),\n",
      "(rtype:TEXT, Examples: [D, S]),\n",
      "(sname:TEXT, Examples: [FAME Public Charter]),\n",
      "(dname:TEXT, Examples: [Alameda County Office of Education]),\n",
      "(cname:TEXT, Examples: [Alameda, Amador, Butte]),\n",
      "(enroll12:INTEGER, Examples: [398, 62, 75]),\n",
      "(NumTstTakr:INTEGER, Examples: [88, 17, 71]),\n",
      "(AvgScrRead:INTEGER, Examples: [418, 503, 397]),\n",
      "(AvgScrMath:INTEGER, Examples: [418, 546, 387]),\n",
      "(AvgScrWrite:INTEGER, Examples: [417, 505, 395]),\n",
      "(NumGE1500:INTEGER, Examples: [14, 9, 5])\n",
      "]\n",
      "# Table: schools\n",
      "[\n",
      "(CDSCode:TEXT, Primary Key, Examples: [01100170000000, 01100170109835, 01100170112607]),\n",
      "(NCESDist:TEXT, Examples: [0691051, 0600002, 0600003]),\n",
      "(NCESSchool:TEXT, Examples: [10546, 10947, 12283]),\n",
      "(StatusType:TEXT, Examples: [Active, Closed, Merged]),\n",
      "(County:TEXT, Examples: [Alameda, Alpine, Amador]),\n",
      "(District:TEXT),\n",
      "(School:TEXT, Examples: [FAME Public Charter]),\n",
      "(Street:TEXT, Examples: [313 West Winton Avenue]),\n",
      "(StreetAbr:TEXT, Examples: [313 West Winton Ave.]),\n",
      "(City:TEXT, Examples: [Hayward, Newark, Oakland]),\n",
      "(Zip:TEXT, Examples: [94544-1136, 94560-5359, 94612-3355]),\n",
      "(State:TEXT, Examples: [CA]),\n",
      "(MailStreet:TEXT, Examples: [313 West Winton Avenue]),\n",
      "(MailStrAbr:TEXT, Examples: [313 West Winton Ave.]),\n",
      "(MailCity:TEXT, Examples: [Hayward, Newark, Oakland]),\n",
      "(MailZip:TEXT, Examples: [94544-1136, 94560-5359, 94612]),\n",
      "(MailState:TEXT, Examples: [CA]),\n",
      "(Phone:TEXT, Examples: [(510) 887-0152, (510) 596-8901, (510) 686-4131]),\n",
      "(Ext:TEXT, Examples: [130, 1240, 1200]),\n",
      "(Website:TEXT, Examples: [www.acoe.org]),\n",
      "(OpenDate:DATE, Examples: [2005-08-29]),\n",
      "(ClosedDate:DATE, Examples: [2015-07-31]),\n",
      "(Charter:INTEGER, Examples: [1, 0]),\n",
      "(CharterNum:TEXT, Examples: [0728, 0811, 1049]),\n",
      "(FundingType:TEXT, Examples: [Directly funded]),\n",
      "(DOC:TEXT, Examples: [00, 31, 34]),\n",
      "(DOCType:TEXT, Examples: [County Office of Education (COE)]),\n",
      "(SOC:TEXT, Examples: [65, 66, 60]),\n",
      "(SOCType:TEXT, Examples: [K-12 Schools (Public)]),\n",
      "(EdOpsCode:TEXT, Examples: [TRAD, JUV, COMM]),\n",
      "(EdOpsName:TEXT, Examples: [Traditional]),\n",
      "(EILCode:TEXT, Examples: [ELEMHIGH, HS, ELEM]),\n",
      "(EILName:TEXT, Examples: [Elementary-High Combination]),\n",
      "(GSoffered:TEXT, Examples: [K-12, 9-12, K-8]),\n",
      "(GSserved:TEXT, Examples: [K-12, 9-12, K-7]),\n",
      "(Virtual:TEXT, Examples: [P, N, F]),\n",
      "(Magnet:INTEGER, Examples: [0, 1]),\n",
      "(Latitude:REAL, Examples: [37.658212, 37.521436, 37.80452]),\n",
      "(Longitude:REAL, Examples: [-122.09713, -121.99391, -122.26815]),\n",
      "(AdmFName1:TEXT, Examples: [L Karen, Laura, Clifford]),\n",
      "(AdmLName1:TEXT, Examples: [Monroe, Robell, Thompson]),\n",
      "(AdmEmail1:TEXT),\n",
      "(AdmFName2:TEXT, Examples: [Sau-Lim (Lance), Jennifer, Annalisa]),\n",
      "(AdmLName2:TEXT, Examples: [Tsang, Koelling, Moore]),\n",
      "(AdmEmail2:TEXT),\n",
      "(AdmFName3:TEXT, Examples: [Drew, Irma, Vickie]),\n",
      "(AdmLName3:TEXT, Examples: [Sarratore, Munoz, Chang]),\n",
      "(AdmEmail3:TEXT),\n",
      "(LastUpdate:DATE, Examples: [2015-06-23])\n",
      "]\n",
      "【Foreign keys】\n",
      "frpm.CDSCode=schools.CDSCode\n",
      "satscores.cds=schools.CDSCode\n",
      "\n",
      "-- Using valid SQLite and understanding External Knowledge, answer the following questions for the tables provided above.\n",
      "-- What is the highest eligible free rate for K-12 students in the schools in Alameda County?\n",
      "-- External Knowledge: Eligible free rate for K-12 = `Free Meal Count (K-12)` / `Enrollment (K-12)`\n",
      "\n",
      "\n",
      "Generate the SQLite for the above question after thinking step by step: \n",
      "\n",
      "\n",
      "Instructions:\n",
      "- Make sure you only output the information that is asked in the question. If the question asks for a specific column, make sure to only include that column in the SELECT clause, nothing more.\n",
      "- The generated query should return all of the information asked in the question without any missing or extra information.\n",
      "- Before generating the final SQL query, please think through the steps of how to write the query.\n",
      "- Do not misuse column names, keep them in quotes `\n",
      "- Carefully understand what colomns belond to what tables\n",
      "- Use only initial column names, change names prohibited\n",
      "        \n",
      "Output Format:\n",
      "In your answer, please enclose the generated SQL query in a code block:\n",
      "```\n",
      "-- Your SQL query\n",
      "```    \n",
      "and nothing else, no exaplains, no comments (asnwer should be less than 512 characters)\n",
      "\n",
      "Take a deep breath and think step by step to find the correct SQL query in SQLite format.\n",
      "\n",
      "Question repetition: What is the highest eligible free rate for K-12 students in the schools in Alameda County?\n",
      "\n",
      "Be care! Include only what i want it questiona and nothing else<|im_end|>\n",
      "<|im_start|>assistant\n",
      "<think>\n",
      "\n",
      "</think>\n",
      "\n",
      "\n",
      "\n",
      "\n",
      "Максимальное количество токенов в промптах: 21415\n",
      "\n",
      "начинаем скорринг\n",
      "Загружаем чаты с данными...\n",
      "Данные успешно загружены\n",
      "Начали генерацию SQL запросов\n"
     ]
    },
    {
     "name": "stderr",
     "output_type": "stream",
     "text": [
      "Processed prompts: 100%|██████████| 1534/1534 [00:26<00:00, 57.40it/s, est. speed input: 151571.42 toks/s, output: 2679.78 toks/s] "
     ]
    },
    {
     "name": "stdout",
     "output_type": "stream",
     "text": [
      "extract_think количество ошибок:  0\n",
      "extract_sql количество ошибок:  0\n",
      "Закончили генерацию SQL запросов\n",
      "Начали скорр полученных SQL запросов\n"
     ]
    },
    {
     "name": "stderr",
     "output_type": "stream",
     "text": [
      "\n"
     ]
    },
    {
     "name": "stdout",
     "output_type": "stream",
     "text": [
      "Qwen3-1.7B DEV Финальный результат EX: 44.26\n",
      "Qwen3-1.7B процент запросов, которые успешно выполнились DEV: 76.99%\n",
      "====================================================================================================\n",
      "\n",
      "\n",
      "Загружаем чаты с данными...\n",
      "Данные успешно загружены\n",
      "Начали генерацию SQL запросов\n"
     ]
    },
    {
     "name": "stderr",
     "output_type": "stream",
     "text": [
      "Processed prompts: 100%|██████████| 1534/1534 [00:26<00:00, 58.12it/s, est. speed input: 152849.34 toks/s, output: 2719.20 toks/s] "
     ]
    },
    {
     "name": "stdout",
     "output_type": "stream",
     "text": [
      "extract_think количество ошибок:  0\n",
      "extract_sql количество ошибок:  0\n",
      "Закончили генерацию SQL запросов\n",
      "Начали скорр полученных SQL запросов\n"
     ]
    },
    {
     "name": "stderr",
     "output_type": "stream",
     "text": [
      "\n"
     ]
    },
    {
     "name": "stdout",
     "output_type": "stream",
     "text": [
      "Qwen3-1.7B DEV Финальный результат EX: 44.85\n",
      "Qwen3-1.7B процент запросов, которые успешно выполнились DEV: 75.95%\n",
      "====================================================================================================\n",
      "\n",
      "\n",
      "Загружаем чаты с данными...\n",
      "Данные успешно загружены\n",
      "Начали генерацию SQL запросов\n"
     ]
    },
    {
     "name": "stderr",
     "output_type": "stream",
     "text": [
      "Processed prompts: 100%|██████████| 1534/1534 [00:27<00:00, 56.43it/s, est. speed input: 148868.37 toks/s, output: 2627.91 toks/s] "
     ]
    },
    {
     "name": "stdout",
     "output_type": "stream",
     "text": [
      "extract_think количество ошибок:  0\n",
      "extract_sql количество ошибок:  0\n",
      "Закончили генерацию SQL запросов\n",
      "Начали скорр полученных SQL запросов\n"
     ]
    },
    {
     "name": "stderr",
     "output_type": "stream",
     "text": [
      "\n"
     ]
    },
    {
     "name": "stdout",
     "output_type": "stream",
     "text": [
      "Qwen3-1.7B DEV Финальный результат EX: 45.57\n",
      "Qwen3-1.7B процент запросов, которые успешно выполнились DEV: 76.08%\n",
      "====================================================================================================\n",
      "\n",
      "\n",
      "Загружаем чаты с данными...\n",
      "Данные успешно загружены\n",
      "Начали генерацию SQL запросов\n"
     ]
    },
    {
     "name": "stderr",
     "output_type": "stream",
     "text": [
      "Processed prompts: 100%|██████████| 1534/1534 [00:27<00:00, 55.56it/s, est. speed input: 145973.49 toks/s, output: 2565.09 toks/s] "
     ]
    },
    {
     "name": "stdout",
     "output_type": "stream",
     "text": [
      "extract_think количество ошибок:  0\n",
      "extract_sql количество ошибок:  0\n",
      "Закончили генерацию SQL запросов\n",
      "Начали скорр полученных SQL запросов\n"
     ]
    },
    {
     "name": "stderr",
     "output_type": "stream",
     "text": [
      "\n"
     ]
    },
    {
     "name": "stdout",
     "output_type": "stream",
     "text": [
      "Qwen3-1.7B DEV Финальный результат EX: 45.83\n",
      "Qwen3-1.7B процент запросов, которые успешно выполнились DEV: 76.47%\n",
      "====================================================================================================\n",
      "\n",
      "\n",
      "Загружаем чаты с данными...\n",
      "Данные успешно загружены\n",
      "Начали генерацию SQL запросов\n"
     ]
    },
    {
     "name": "stderr",
     "output_type": "stream",
     "text": [
      "Processed prompts: 100%|██████████| 1534/1534 [00:26<00:00, 58.10it/s, est. speed input: 152510.61 toks/s, output: 2671.75 toks/s] "
     ]
    },
    {
     "name": "stdout",
     "output_type": "stream",
     "text": [
      "extract_think количество ошибок:  0\n",
      "extract_sql количество ошибок:  0\n",
      "Закончили генерацию SQL запросов\n",
      "Начали скорр полученных SQL запросов\n"
     ]
    },
    {
     "name": "stderr",
     "output_type": "stream",
     "text": [
      "\n"
     ]
    },
    {
     "name": "stdout",
     "output_type": "stream",
     "text": [
      "Qwen3-1.7B DEV Финальный результат EX: 45.89\n",
      "Qwen3-1.7B процент запросов, которые успешно выполнились DEV: 77.51%\n",
      "====================================================================================================\n",
      "\n",
      "\n",
      "Загружаем чаты с данными...\n",
      "Данные успешно загружены\n",
      "Начали генерацию SQL запросов\n"
     ]
    },
    {
     "name": "stderr",
     "output_type": "stream",
     "text": [
      "Processed prompts: 100%|██████████| 1534/1534 [00:26<00:00, 57.47it/s, est. speed input: 150869.45 toks/s, output: 2658.91 toks/s] "
     ]
    },
    {
     "name": "stdout",
     "output_type": "stream",
     "text": [
      "extract_think количество ошибок:  0\n",
      "extract_sql количество ошибок:  0\n",
      "Закончили генерацию SQL запросов\n",
      "Начали скорр полученных SQL запросов\n"
     ]
    },
    {
     "name": "stderr",
     "output_type": "stream",
     "text": [
      "\n"
     ]
    },
    {
     "name": "stdout",
     "output_type": "stream",
     "text": [
      "Qwen3-1.7B DEV Финальный результат EX: 46.94\n",
      "Qwen3-1.7B процент запросов, которые успешно выполнились DEV: 77.51%\n",
      "====================================================================================================\n",
      "\n",
      "\n",
      "Загружаем чаты с данными...\n",
      "Данные успешно загружены\n",
      "Начали генерацию SQL запросов\n"
     ]
    },
    {
     "name": "stderr",
     "output_type": "stream",
     "text": [
      "Processed prompts: 100%|██████████| 1534/1534 [00:28<00:00, 54.14it/s, est. speed input: 143212.31 toks/s, output: 2524.89 toks/s] "
     ]
    },
    {
     "name": "stdout",
     "output_type": "stream",
     "text": [
      "extract_think количество ошибок:  0\n",
      "extract_sql количество ошибок:  0\n",
      "Закончили генерацию SQL запросов\n",
      "Начали скорр полученных SQL запросов\n"
     ]
    },
    {
     "name": "stderr",
     "output_type": "stream",
     "text": [
      "\n"
     ]
    },
    {
     "name": "stdout",
     "output_type": "stream",
     "text": [
      "Qwen3-1.7B DEV Финальный результат EX: 47.07\n",
      "Qwen3-1.7B процент запросов, которые успешно выполнились DEV: 78.16%\n",
      "====================================================================================================\n",
      "\n",
      "\n",
      "Загружаем чаты с данными...\n",
      "Данные успешно загружены\n",
      "Начали генерацию SQL запросов\n"
     ]
    },
    {
     "name": "stderr",
     "output_type": "stream",
     "text": [
      "Processed prompts: 100%|██████████| 1534/1534 [00:27<00:00, 55.57it/s, est. speed input: 146452.63 toks/s, output: 2578.87 toks/s] "
     ]
    },
    {
     "name": "stdout",
     "output_type": "stream",
     "text": [
      "extract_think количество ошибок:  0\n",
      "extract_sql количество ошибок:  0\n",
      "Закончили генерацию SQL запросов\n",
      "Начали скорр полученных SQL запросов\n"
     ]
    },
    {
     "name": "stderr",
     "output_type": "stream",
     "text": [
      "\n"
     ]
    },
    {
     "name": "stdout",
     "output_type": "stream",
     "text": [
      "Qwen3-1.7B DEV Финальный результат EX: 46.09\n",
      "Qwen3-1.7B процент запросов, которые успешно выполнились DEV: 78.23%\n",
      "====================================================================================================\n",
      "\n",
      "\n",
      "Загружаем чаты с данными...\n",
      "Данные успешно загружены\n",
      "Начали генерацию SQL запросов\n"
     ]
    },
    {
     "name": "stderr",
     "output_type": "stream",
     "text": [
      "Processed prompts: 100%|██████████| 1534/1534 [00:27<00:00, 55.87it/s, est. speed input: 147223.82 toks/s, output: 2607.92 toks/s] "
     ]
    },
    {
     "name": "stdout",
     "output_type": "stream",
     "text": [
      "extract_think количество ошибок:  0\n",
      "extract_sql количество ошибок:  0\n",
      "Закончили генерацию SQL запросов\n",
      "Начали скорр полученных SQL запросов\n"
     ]
    },
    {
     "name": "stderr",
     "output_type": "stream",
     "text": [
      "\n"
     ]
    },
    {
     "name": "stdout",
     "output_type": "stream",
     "text": [
      "Qwen3-1.7B DEV Финальный результат EX: 46.74\n",
      "Qwen3-1.7B процент запросов, которые успешно выполнились DEV: 78.36%\n",
      "====================================================================================================\n",
      "\n",
      "\n",
      "Загружаем чаты с данными...\n",
      "Данные успешно загружены\n",
      "Начали генерацию SQL запросов\n"
     ]
    },
    {
     "name": "stderr",
     "output_type": "stream",
     "text": [
      "Processed prompts: 100%|██████████| 1534/1534 [00:27<00:00, 56.62it/s, est. speed input: 149286.70 toks/s, output: 2613.64 toks/s] "
     ]
    },
    {
     "name": "stdout",
     "output_type": "stream",
     "text": [
      "extract_think количество ошибок:  0\n",
      "extract_sql количество ошибок:  0\n",
      "Закончили генерацию SQL запросов\n",
      "Начали скорр полученных SQL запросов\n"
     ]
    },
    {
     "name": "stderr",
     "output_type": "stream",
     "text": [
      "\n"
     ]
    },
    {
     "name": "stdout",
     "output_type": "stream",
     "text": [
      "Qwen3-1.7B DEV Финальный результат EX: 46.48\n",
      "Qwen3-1.7B процент запросов, которые успешно выполнились DEV: 77.90%\n",
      "====================================================================================================\n",
      "\n",
      "\n",
      "Загружаем чаты с данными...\n",
      "Данные успешно загружены\n",
      "Начали генерацию SQL запросов\n"
     ]
    },
    {
     "name": "stderr",
     "output_type": "stream",
     "text": [
      "Processed prompts: 100%|██████████| 1534/1534 [00:27<00:00, 56.60it/s, est. speed input: 149279.88 toks/s, output: 2618.58 toks/s] "
     ]
    },
    {
     "name": "stdout",
     "output_type": "stream",
     "text": [
      "extract_think количество ошибок:  0\n",
      "extract_sql количество ошибок:  0\n",
      "Закончили генерацию SQL запросов\n",
      "Начали скорр полученных SQL запросов\n"
     ]
    },
    {
     "name": "stderr",
     "output_type": "stream",
     "text": [
      "\n"
     ]
    },
    {
     "name": "stdout",
     "output_type": "stream",
     "text": [
      "Qwen3-1.7B DEV Финальный результат EX: 45.76\n",
      "Qwen3-1.7B процент запросов, которые успешно выполнились DEV: 77.31%\n",
      "====================================================================================================\n",
      "\n",
      "\n",
      "Загружаем чаты с данными...\n",
      "Данные успешно загружены\n",
      "Начали генерацию SQL запросов\n"
     ]
    },
    {
     "name": "stderr",
     "output_type": "stream",
     "text": [
      "Processed prompts: 100%|██████████| 1534/1534 [00:26<00:00, 57.89it/s, est. speed input: 151530.28 toks/s, output: 2690.65 toks/s] "
     ]
    },
    {
     "name": "stdout",
     "output_type": "stream",
     "text": [
      "extract_think количество ошибок:  0\n",
      "extract_sql количество ошибок:  0\n",
      "Закончили генерацию SQL запросов\n",
      "Начали скорр полученных SQL запросов\n"
     ]
    },
    {
     "name": "stderr",
     "output_type": "stream",
     "text": [
      "\n"
     ]
    },
    {
     "name": "stdout",
     "output_type": "stream",
     "text": [
      "Qwen3-1.7B DEV Финальный результат EX: 45.89\n",
      "Qwen3-1.7B процент запросов, которые успешно выполнились DEV: 77.44%\n",
      "====================================================================================================\n",
      "\n",
      "\n",
      "Загружаем чаты с данными...\n",
      "Данные успешно загружены\n",
      "Начали генерацию SQL запросов\n"
     ]
    },
    {
     "name": "stderr",
     "output_type": "stream",
     "text": [
      "Processed prompts: 100%|██████████| 1534/1534 [00:26<00:00, 57.68it/s, est. speed input: 151589.78 toks/s, output: 2678.68 toks/s] "
     ]
    },
    {
     "name": "stdout",
     "output_type": "stream",
     "text": [
      "extract_think количество ошибок:  0\n",
      "extract_sql количество ошибок:  0\n",
      "Закончили генерацию SQL запросов\n",
      "Начали скорр полученных SQL запросов\n"
     ]
    },
    {
     "name": "stderr",
     "output_type": "stream",
     "text": [
      "\n"
     ]
    },
    {
     "name": "stdout",
     "output_type": "stream",
     "text": [
      "Qwen3-1.7B DEV Финальный результат EX: 45.89\n",
      "Qwen3-1.7B процент запросов, которые успешно выполнились DEV: 77.18%\n",
      "====================================================================================================\n",
      "\n",
      "\n",
      "Загружаем чаты с данными...\n",
      "Данные успешно загружены\n",
      "Начали генерацию SQL запросов\n"
     ]
    },
    {
     "name": "stderr",
     "output_type": "stream",
     "text": [
      "Processed prompts: 100%|██████████| 1534/1534 [00:27<00:00, 56.61it/s, est. speed input: 148861.03 toks/s, output: 2623.42 toks/s] "
     ]
    },
    {
     "name": "stdout",
     "output_type": "stream",
     "text": [
      "extract_think количество ошибок:  0\n",
      "extract_sql количество ошибок:  0\n",
      "Закончили генерацию SQL запросов\n",
      "Начали скорр полученных SQL запросов\n"
     ]
    },
    {
     "name": "stderr",
     "output_type": "stream",
     "text": [
      "\n"
     ]
    },
    {
     "name": "stdout",
     "output_type": "stream",
     "text": [
      "Qwen3-1.7B DEV Финальный результат EX: 46.15\n",
      "Qwen3-1.7B процент запросов, которые успешно выполнились DEV: 77.38%\n",
      "====================================================================================================\n",
      "\n",
      "\n",
      "Загружаем чаты с данными...\n",
      "Данные успешно загружены\n",
      "Начали генерацию SQL запросов\n"
     ]
    },
    {
     "name": "stderr",
     "output_type": "stream",
     "text": [
      "Processed prompts: 100%|██████████| 1534/1534 [00:26<00:00, 58.11it/s, est. speed input: 152971.46 toks/s, output: 2687.80 toks/s] "
     ]
    },
    {
     "name": "stdout",
     "output_type": "stream",
     "text": [
      "extract_think количество ошибок:  0\n",
      "extract_sql количество ошибок:  0\n",
      "Закончили генерацию SQL запросов\n",
      "Начали скорр полученных SQL запросов\n"
     ]
    },
    {
     "name": "stderr",
     "output_type": "stream",
     "text": [
      "\n"
     ]
    },
    {
     "name": "stdout",
     "output_type": "stream",
     "text": [
      "Qwen3-1.7B DEV Финальный результат EX: 46.94\n",
      "Qwen3-1.7B процент запросов, которые успешно выполнились DEV: 77.18%\n",
      "====================================================================================================\n",
      "\n",
      "\n",
      "Загружаем чаты с данными...\n",
      "Данные успешно загружены\n",
      "Начали генерацию SQL запросов\n"
     ]
    },
    {
     "name": "stderr",
     "output_type": "stream",
     "text": [
      "Processed prompts: 100%|██████████| 1534/1534 [00:27<00:00, 56.42it/s, est. speed input: 148542.99 toks/s, output: 2602.39 toks/s] "
     ]
    },
    {
     "name": "stdout",
     "output_type": "stream",
     "text": [
      "extract_think количество ошибок:  0\n",
      "extract_sql количество ошибок:  0\n",
      "Закончили генерацию SQL запросов\n",
      "Начали скорр полученных SQL запросов\n"
     ]
    },
    {
     "name": "stderr",
     "output_type": "stream",
     "text": [
      "\n"
     ]
    },
    {
     "name": "stdout",
     "output_type": "stream",
     "text": [
      "Qwen3-1.7B DEV Финальный результат EX: 46.87\n",
      "Qwen3-1.7B процент запросов, которые успешно выполнились DEV: 77.71%\n",
      "====================================================================================================\n",
      "\n",
      "\n",
      "Загружаем чаты с данными...\n",
      "Данные успешно загружены\n",
      "Начали генерацию SQL запросов\n"
     ]
    },
    {
     "name": "stderr",
     "output_type": "stream",
     "text": [
      "Processed prompts: 100%|██████████| 1534/1534 [00:27<00:00, 56.77it/s, est. speed input: 150014.90 toks/s, output: 2626.43 toks/s] "
     ]
    },
    {
     "name": "stdout",
     "output_type": "stream",
     "text": [
      "extract_think количество ошибок:  0\n",
      "extract_sql количество ошибок:  0\n",
      "Закончили генерацию SQL запросов\n",
      "Начали скорр полученных SQL запросов\n"
     ]
    },
    {
     "name": "stderr",
     "output_type": "stream",
     "text": [
      "\n"
     ]
    },
    {
     "name": "stdout",
     "output_type": "stream",
     "text": [
      "Qwen3-1.7B DEV Финальный результат EX: 45.70\n",
      "Qwen3-1.7B процент запросов, которые успешно выполнились DEV: 77.44%\n",
      "====================================================================================================\n",
      "\n",
      "\n",
      "Загружаем чаты с данными...\n",
      "Данные успешно загружены\n",
      "Начали генерацию SQL запросов\n"
     ]
    },
    {
     "name": "stderr",
     "output_type": "stream",
     "text": [
      "Processed prompts: 100%|██████████| 1534/1534 [00:27<00:00, 55.93it/s, est. speed input: 147299.42 toks/s, output: 2582.25 toks/s] "
     ]
    },
    {
     "name": "stdout",
     "output_type": "stream",
     "text": [
      "extract_think количество ошибок:  0\n",
      "extract_sql количество ошибок:  0\n",
      "Закончили генерацию SQL запросов\n",
      "Начали скорр полученных SQL запросов\n"
     ]
    },
    {
     "name": "stderr",
     "output_type": "stream",
     "text": [
      "\n"
     ]
    },
    {
     "name": "stdout",
     "output_type": "stream",
     "text": [
      "Qwen3-1.7B DEV Финальный результат EX: 45.57\n",
      "Qwen3-1.7B процент запросов, которые успешно выполнились DEV: 77.25%\n",
      "====================================================================================================\n",
      "\n",
      "\n",
      "Загружаем чаты с данными...\n",
      "Данные успешно загружены\n",
      "Начали генерацию SQL запросов\n"
     ]
    },
    {
     "name": "stderr",
     "output_type": "stream",
     "text": [
      "Processed prompts: 100%|██████████| 1534/1534 [00:27<00:00, 56.41it/s, est. speed input: 149128.29 toks/s, output: 2619.11 toks/s] "
     ]
    },
    {
     "name": "stdout",
     "output_type": "stream",
     "text": [
      "extract_think количество ошибок:  0\n",
      "extract_sql количество ошибок:  0\n",
      "Закончили генерацию SQL запросов\n",
      "Начали скорр полученных SQL запросов\n"
     ]
    },
    {
     "name": "stderr",
     "output_type": "stream",
     "text": [
      "\n"
     ]
    },
    {
     "name": "stdout",
     "output_type": "stream",
     "text": [
      "Qwen3-1.7B DEV Финальный результат EX: 45.05\n",
      "Qwen3-1.7B процент запросов, которые успешно выполнились DEV: 77.90%\n",
      "====================================================================================================\n",
      "\n",
      "\n",
      "Загружаем чаты с данными...\n",
      "Данные успешно загружены\n",
      "Начали генерацию SQL запросов\n"
     ]
    },
    {
     "name": "stderr",
     "output_type": "stream",
     "text": [
      "Processed prompts: 100%|██████████| 1534/1534 [00:27<00:00, 56.53it/s, est. speed input: 149328.86 toks/s, output: 2613.89 toks/s] "
     ]
    },
    {
     "name": "stdout",
     "output_type": "stream",
     "text": [
      "extract_think количество ошибок:  0\n",
      "extract_sql количество ошибок:  0\n",
      "Закончили генерацию SQL запросов\n",
      "Начали скорр полученных SQL запросов\n"
     ]
    },
    {
     "name": "stderr",
     "output_type": "stream",
     "text": [
      "\n"
     ]
    },
    {
     "name": "stdout",
     "output_type": "stream",
     "text": [
      "Qwen3-1.7B DEV Финальный результат EX: 44.20\n",
      "Qwen3-1.7B процент запросов, которые успешно выполнились DEV: 76.99%\n",
      "====================================================================================================\n",
      "\n",
      "\n"
     ]
    }
   ],
   "source": [
    "run_cot_experiment(model,arr_seeds,arr_versions, type_cot,num_observations=num_observations)"
   ]
  },
  {
   "cell_type": "code",
   "execution_count": null,
   "id": "8ae6563c-4ff4-406d-ac16-83ebfd6bc432",
   "metadata": {},
   "outputs": [],
   "source": [
    "n= 20\n",
    "arr_seeds = [random.randint(0,1000) for _ in range(n)]\n",
    "arr_versions = [x for x in range(n)]\n",
    "model = \"Qwen3-1.7B\"\n",
    "num_observations = 6\n",
    "type_cot = 'predict'\n",
    "print(arr_seeds)\n",
    "print(f\"model: {model}\")"
   ]
  },
  {
   "cell_type": "code",
   "execution_count": null,
   "id": "5bb17664-8fd5-4e8f-84de-49f872c5aa4a",
   "metadata": {
    "scrolled": true
   },
   "outputs": [],
   "source": [
    "run_cot_experiment(model,arr_seeds,arr_versions, type_cot,num_observations=num_observations)"
   ]
  },
  {
   "cell_type": "code",
   "execution_count": null,
   "id": "a94cd47b-49f8-474e-b88d-fe0c14ff3e2e",
   "metadata": {},
   "outputs": [],
   "source": [
    "n= 20\n",
    "arr_seeds = [random.randint(0,1000) for _ in range(n)]\n",
    "arr_versions = [x for x in range(n)]\n",
    "model = \"Qwen3-1.7B\"\n",
    "num_observations = 7\n",
    "type_cot = 'predict'\n",
    "print(arr_seeds)\n",
    "print(f\"model: {model}\")"
   ]
  },
  {
   "cell_type": "code",
   "execution_count": null,
   "id": "91c21ffa-aee2-4dba-abad-52c7011ded7d",
   "metadata": {
    "scrolled": true
   },
   "outputs": [],
   "source": [
    "run_cot_experiment(model,arr_seeds,arr_versions, type_cot,num_observations=num_observations)"
   ]
  },
  {
   "cell_type": "markdown",
   "id": "c4dd2157-7279-458f-8a86-22686112bf5f",
   "metadata": {},
   "source": [
    "# part3: think"
   ]
  },
  {
   "cell_type": "code",
   "execution_count": 11,
   "id": "02febb85-1132-4b71-9ed8-e30241d01dc3",
   "metadata": {},
   "outputs": [
    {
     "name": "stdout",
     "output_type": "stream",
     "text": [
      "[502, 889, 949, 435, 293, 559, 630, 910, 816, 945, 463, 577, 979, 400, 711, 586, 135, 95, 317, 969]\n",
      "model: Qwen3-1.7B\n"
     ]
    }
   ],
   "source": [
    "n= 20\n",
    "arr_seeds = [random.randint(0,1000) for _ in range(n)]\n",
    "arr_versions = [x for x in range(n)]\n",
    "model =\"Qwen3-1.7B\"\n",
    "num_observations = 2\n",
    "type_cot = 'think'\n",
    "print(arr_seeds)\n",
    "print(f\"model: {model}\")"
   ]
  },
  {
   "cell_type": "code",
   "execution_count": 12,
   "id": "e9e60717-ffae-4f1f-8831-a4902529303e",
   "metadata": {
    "scrolled": true
   },
   "outputs": [
    {
     "name": "stdout",
     "output_type": "stream",
     "text": [
      "Загружаем модель...\n"
     ]
    },
    {
     "name": "stderr",
     "output_type": "stream",
     "text": [
      "Loading safetensors checkpoint shards:   0% Completed | 0/2 [00:00<?, ?it/s]\n",
      "Loading safetensors checkpoint shards:  50% Completed | 1/2 [00:01<00:01,  1.10s/it]\n",
      "Loading safetensors checkpoint shards: 100% Completed | 2/2 [00:01<00:00,  1.76it/s]\n",
      "\u001b[1;36m(VllmWorker rank=0 pid=3118645)\u001b[0;0m \n"
     ]
    },
    {
     "name": "stdout",
     "output_type": "stream",
     "text": [
      "Модель успешно загружена\n",
      "model_config {'model': '/data/home/vkropoti/models/Qwen3-1.7B', 'tensor_parallel_size': 2, 'max_model_len': 40000, 'max_new_tokens': 1500, 'temperature': 0, 'top_k': 1, 'top_p': 0.8, 'gpu_memory_utilization': 0.9, 'trust_remote_code': False, 'seed': 502}\n",
      "\n",
      "prompts_config {'path_dev_json': '/home/vkropoti/vllm/dev.json', 'path_sql_dbs': '/data/home/vkropoti/sql_data/dev_databases/', 'use_reasoning': False, 'paths_to_cot': ['/data/home/vkropoti/sql_llm_answers/bird_dev_m_schema/sql_think_Qwen3-1.7B-reasoning-v0', '/data/home/vkropoti/sql_llm_answers/bird_dev_m_schema/sql_think_Qwen3-1.7B-reasoning-v1']}\n",
      "\n",
      "save_config {'path_sql_save': '/data/home/vkropoti/sql_llm_answers/bird_dev_m_schema/sql_all_Qwen3-1.7B-cot_think_think==False_nobs2-v0', 'path_think_save': None, 'path_sql_answers_save': '/data/home/vkropoti/sql_llm_answers/bird_dev_m_schema/sql_predict_Qwen3-1.7B-cot_think_think==False_nobs2-v0', 'path_to_save_scores': '/data/home/vkropoti/sql_llm_answers/bird_dev_m_schema/sql_results_Qwen3-1.7B-cot_think_think==False_nobs2-v0', 'path_to_save_executed': '/data/home/vkropoti/sql_llm_answers/bird_dev_m_schema/sql_executed_Qwen3-1.7B-cot_think_think==False_nobs2-v0'}\n",
      "\n",
      "Модель успешно загружена\n",
      "Пример промпта\n",
      "<|im_start|>system\n",
      "\n",
      "You are a data science expert. Below, you are provided with a database schema and a natural language question. Your task is to understand the schema and generate a valid SQL query to answer the question.\n",
      "\n",
      "Database Engine: SQLite\n",
      "\n",
      "You will be given an additional analysis of other models, please take it into account, so the plan is\n",
      "1. Analyse given addition analysis from other models (find in which analysis the same and differ, how to use that to answer question)\n",
      "2. Combine best from previous part and think how to solve the problem (analyze tables, take care what columns avaliable in each table and so on, check the syntacsis)\n",
      "3. Create the answers. The answer should be only sql query.\n",
      "\n",
      "Carefully follow the instruction and add <|im_end|> and the end of the final answer<|im_end|>\n",
      "<|im_start|>user\n",
      "Here is addition analysis from other models which can be helpfull, please take this into account but be careful (choose the best from each analysis, combine them to make the most proper answer):\n",
      "\n",
      "model 0 analysis:\n",
      " Okay, let's tackle this question step by step. The user wants the highest eligible free rate for K-12 students in Alameda County. \n",
      "\n",
      "First, I need to figure out which tables are involved. The eligible free rate is calculated as Free Meal Count (K-12) divided by Enrollment (K-12). So I need data from the frpm table. But the frpm table has the Free Meal Count and Enrollment values. However, the schools table has the County information, so I need to join the schools table with the frpm table on the CDSCode.\n",
      "\n",
      "Wait, the foreign keys are frpm.CDSCode = schools.CDSCode and satscores.cds = schools.CDSCode. So the schools table has the CDSCode, which is linked to frpm. So the plan is to join schools with frpm on CDSCode, filter where the County is 'Alameda County', then calculate the ratio.\n",
      "\n",
      "But wait, the schools table's County column has examples like 'Alameda', 'Alpine', etc. So the County column is a TEXT field. So I need to check if the County is 'Alameda' exactly. But maybe the actual county names might have spaces or different formats. However, the examples given in the schools table's County column are 'Alameda', so assuming that 'Alameda' is the correct value.\n",
      "\n",
      "So the steps are:\n",
      "\n",
      "1. Join schools and frpm on CDSCode.\n",
      "2. Filter where schools.County = 'Alameda'.\n",
      "3. Calculate Free Meal Count (K-12) / Enrollment (K-12) for each school.\n",
      "4. Find the maximum value of this ratio.\n",
      "\n",
      "But the question says \"highest eligible free rate\", so we need the maximum value from the calculated ratio.\n",
      "\n",
      "Now, the SQL query would need to select the maximum of (Free Meal Count (K-12) / Enrollment (K-12)) from the joined tables where County is 'Alameda'.\n",
      "\n",
      "But wait, the frpm table has the Free Meal Count (K-12) as a REAL number and Enrollment (K-12) as a REAL number. So the division would be done in the query.\n",
      "\n",
      "So the SQL query would be:\n",
      "\n",
      "SELECT MAX(Free Meal Count (K-12) / Enrollment (K-12)) FROM schools JOIN frpm ON schools.CDSCode = frpm.CDSCode WHERE schools.County = 'Alameda';\n",
      "\n",
      "But need to check if the County is exactly 'Alameda' or if there's a need to use a LIKE clause. The examples given in the schools table's County column are 'Alameda', so it's likely that the exact value is 'Alameda'. However, in practice, sometimes counties might have different names, but based on the given data, we can assume that.\n",
      "\n",
      "Another thing: the schools table has a District column, but the County is the primary field here. So the JOIN is on CDSCode, which is the same in both tables.\n",
      "\n",
      "So the final query would be as above. But need to make sure that the columns are correctly referenced. The frpm table has Free Meal Count (K-12) as a column, and Enrollment (K-12) as another column. So the division is between those two.\n",
      "\n",
      "Therefore, the SQL query should select the maximum of that ratio from the joined tables where the county is Alameda.\n",
      "\n",
      "model 1 analysis:\n",
      " Okay, let's tackle this question. The user wants the highest eligible free rate for K-12 students in Alameda County. \n",
      "\n",
      "First, I need to figure out which tables are involved. The relevant tables here are 'frpm' and 'schools' because the 'frpm' table has the eligible free rates and the 'schools' table has the county information. \n",
      "\n",
      "The 'schools' table has a 'County' column, and we need to filter for Alameda County. So, I'll start by joining the 'schools' table with the 'frpm' table on the 'CDSCode' since that's the primary key link. \n",
      "\n",
      "Next, the eligible free rate is calculated as Free Meal Count (K-12) divided by Enrollment (K-12). But wait, the question specifies K-12 students, so I need to make sure that the rows in frpm are for K-12. The 'Low Grade' and 'High Grade' columns in frpm might indicate the grade levels, but the question is specifically about K-12. So maybe the 'Low Grade' is K, and the 'High Grade' is 12. But the user might just want the rate for K-12 students, so perhaps we can assume that the rows in frpm where Low Grade is 'K' and High Grade is '12' are the ones we need. However, the problem statement says \"K-12 students,\" so maybe we need to check if the frpm data includes that. But the user's question doesn't specify filtering by grade, just K-12. So perhaps the frpm table's rows are already for K-12, or we need to check the data.\n",
      "\n",
      "But since the question is about K-12, maybe the frpm table's rows are for K-12. However, the 'Low Grade' and 'High Grade' columns might not be directly relevant here. The user's question is about the highest eligible free rate for K-12 students, so the frpm table's rows where the school is in Alameda County and the grade levels are K-12. But the problem is that the 'frpm' table's 'Low Grade' is 'K' and 'High Grade' is '12', so perhaps we need to filter where Low Grade is 'K' and High Grade is '12'.\n",
      "\n",
      "But the user's question might not require that, since the question is about K-12 students in general. However, the data might have entries for K-12, so perhaps we can just use the frpm table's rows where the school is in Alameda County. \n",
      "\n",
      "Wait, the 'schools' table has a 'County' column, so we need to join on that. So the plan is: join schools and frpm on CDSCode, filter where County is 'Alameda', then calculate the eligible free rate as Free Meal Count (K-12) / Enrollment (K-12), and find the maximum value.\n",
      "\n",
      "But the user's question says \"highest eligible free rate for K-12 students in the schools in Alameda County\". So the steps are:\n",
      "\n",
      "1. Join schools and frpm on CDSCode.\n",
      "2. Filter schools where County is 'Alameda'.\n",
      "3. Calculate the eligible free rate for K-12 students (Free Meal Count (K-12) / Enrollment (K-12)).\n",
      "4. Find the maximum value of this rate.\n",
      "\n",
      "But the problem is that the frpm table's 'Low Grade' and 'High Grade' might not be directly relevant here. However, the question is about K-12 students, so maybe the frpm table's rows are for K-12. Alternatively, the 'Low Grade' is 'K' and 'High Grade' is '12', so the rows where Low Grade is 'K' and High Grade is '12' are for K-12. Therefore, we need to filter those rows.\n",
      "\n",
      "So the query would be:\n",
      "\n",
      "SELECT MAX( (Free Meal Count (K-12) / Enrollment (K-12)) ) AS highest_rate\n",
      "FROM frpm\n",
      "JOIN schools ON frpm.CDSCode = schools.CDSCode\n",
      "WHERE schools.County = 'Alameda' AND frpm.Low Grade = 'K' AND frpm.High Grade = '12';\n",
      "\n",
      "But the user's question might not require checking the grade levels, just the K-12 students. However, the data might not have entries for K-12. But the problem says \"K-12 students\", so perhaps the frpm table's rows are for K-12. But the 'Low Grade' and 'High Grade' columns are part of the frpm table. So the correct approach is to check those columns.\n",
      "\n",
      "But the user's question is phrased as \"highest eligible free rate for K-12 students in the schools in Alameda County\". So the answer would require that the frpm data includes K-12 students. Therefore, the query would need to filter where Low Grade is 'K' and High Grade is '12'.\n",
      "\n",
      "But the user might not have that data. However, based on the schema, the frpm table's columns include Low Grade and High Grade, so the answer must consider those.\n",
      "\n",
      "So the final SQL query would be:\n",
      "\n",
      "SELECT MAX( (Free Meal Count (K-12) / Enrollment (K-12)) ) AS highest_rate\n",
      "FROM frpm\n",
      "JOIN schools ON frpm.CDSCode = schools.CDSCode\n",
      "WHERE schools.County = 'Alameda' AND frpm.Low Grade = 'K' AND frpm.High Grade = '12';\n",
      "\n",
      "But the problem is that in SQLite, the column names are in quotes. Also, the user wants only the column in the SELECT clause, which is the highest rate. So the query should select the maximum of that rate.\n",
      "\n",
      "But the question might not require the actual values, just the maximum. So the query would be as above.\n",
      "\n",
      "Wait, but the user's question is to get the highest eligible free rate. So the SQL would be to select the maximum of (Free Meal Count (K-12)/Enrollment (K-12)) where the school is in Alameda County and the grade levels are K-12.\n",
      "\n",
      "Therefore, the correct query is as above.\n",
      "\n",
      "\n",
      "here is avaliable tables and their structure below\n",
      "【DB_ID】 california_schools\n",
      "【Schema】\n",
      "# Table: frpm\n",
      "[\n",
      "(CDSCode:TEXT, maps to schools.CDSCode, Primary Key, Examples: [01100170109835, 01100170112607, 01100170118489]),\n",
      "(Academic Year:TEXT, Examples: [2014-2015]),\n",
      "(County Code:TEXT, Examples: [01, 02, 03]),\n",
      "(District Code:INTEGER, Examples: [10017, 31609, 31617]),\n",
      "(School Code:TEXT, Examples: [0109835, 0112607, 0118489]),\n",
      "(County Name:TEXT, Examples: [Alameda, Alpine, Amador]),\n",
      "(District Name:TEXT),\n",
      "(School Name:TEXT, Examples: [FAME Public Charter]),\n",
      "(District Type:TEXT, Examples: [County Office of Education (COE)]),\n",
      "(School Type:TEXT, Examples: [K-12 Schools (Public)]),\n",
      "(Educational Option Type:TEXT, Examples: [Traditional]),\n",
      "(NSLP Provision Status:TEXT, Examples: [Breakfast Provision 2]),\n",
      "(Charter School (Y/N):INTEGER, Examples: [1, 0]),\n",
      "(Charter School Number:TEXT, Examples: [0728, 0811, 1049]),\n",
      "(Charter Funding Type:TEXT, Examples: [Directly funded]),\n",
      "(IRC:INTEGER, Examples: [1, 0]),\n",
      "(Low Grade:TEXT, Examples: [K, 9, 1]),\n",
      "(High Grade:TEXT, Examples: [12, 8, 5]),\n",
      "(Enrollment (K-12):REAL, Examples: [1087.0, 395.0, 244.0]),\n",
      "(Free Meal Count (K-12):REAL, Examples: [565.0, 186.0, 134.0]),\n",
      "(Percent (%) Eligible Free (K-12):REAL, Examples: [0.519779208831647, 0.470886075949367, 0.549180327868853]),\n",
      "(FRPM Count (K-12):REAL, Examples: [715.0, 186.0, 175.0]),\n",
      "(Percent (%) Eligible FRPM (K-12):REAL, Examples: [0.657773689052438, 0.470886075949367, 0.717213114754098]),\n",
      "(Enrollment (Ages 5-17):REAL, Examples: [1070.0, 376.0, 230.0]),\n",
      "(Free Meal Count (Ages 5-17):REAL, Examples: [553.0, 182.0, 128.0]),\n",
      "(Percent (%) Eligible Free (Ages 5-17):REAL, Examples: [0.516822429906542, 0.484042553191489, 0.556521739130435]),\n",
      "(FRPM Count (Ages 5-17):REAL, Examples: [702.0, 182.0, 168.0]),\n",
      "(Percent (%) Eligible FRPM (Ages 5-17):REAL, Examples: [0.65607476635514, 0.484042553191489, 0.730434782608696]),\n",
      "(2013-14 CALPADS Fall 1 Certification Status:INTEGER, Examples: [1])\n",
      "]\n",
      "# Table: satscores\n",
      "[\n",
      "(cds:TEXT, maps to schools.CDSCode, Primary Key, Examples: [10101080000000, 10101080109991, 10101080111682]),\n",
      "(rtype:TEXT, Examples: [D, S]),\n",
      "(sname:TEXT, Examples: [FAME Public Charter]),\n",
      "(dname:TEXT, Examples: [Alameda County Office of Education]),\n",
      "(cname:TEXT, Examples: [Alameda, Amador, Butte]),\n",
      "(enroll12:INTEGER, Examples: [398, 62, 75]),\n",
      "(NumTstTakr:INTEGER, Examples: [88, 17, 71]),\n",
      "(AvgScrRead:INTEGER, Examples: [418, 503, 397]),\n",
      "(AvgScrMath:INTEGER, Examples: [418, 546, 387]),\n",
      "(AvgScrWrite:INTEGER, Examples: [417, 505, 395]),\n",
      "(NumGE1500:INTEGER, Examples: [14, 9, 5])\n",
      "]\n",
      "# Table: schools\n",
      "[\n",
      "(CDSCode:TEXT, Primary Key, Examples: [01100170000000, 01100170109835, 01100170112607]),\n",
      "(NCESDist:TEXT, Examples: [0691051, 0600002, 0600003]),\n",
      "(NCESSchool:TEXT, Examples: [10546, 10947, 12283]),\n",
      "(StatusType:TEXT, Examples: [Active, Closed, Merged]),\n",
      "(County:TEXT, Examples: [Alameda, Alpine, Amador]),\n",
      "(District:TEXT),\n",
      "(School:TEXT, Examples: [FAME Public Charter]),\n",
      "(Street:TEXT, Examples: [313 West Winton Avenue]),\n",
      "(StreetAbr:TEXT, Examples: [313 West Winton Ave.]),\n",
      "(City:TEXT, Examples: [Hayward, Newark, Oakland]),\n",
      "(Zip:TEXT, Examples: [94544-1136, 94560-5359, 94612-3355]),\n",
      "(State:TEXT, Examples: [CA]),\n",
      "(MailStreet:TEXT, Examples: [313 West Winton Avenue]),\n",
      "(MailStrAbr:TEXT, Examples: [313 West Winton Ave.]),\n",
      "(MailCity:TEXT, Examples: [Hayward, Newark, Oakland]),\n",
      "(MailZip:TEXT, Examples: [94544-1136, 94560-5359, 94612]),\n",
      "(MailState:TEXT, Examples: [CA]),\n",
      "(Phone:TEXT, Examples: [(510) 887-0152, (510) 596-8901, (510) 686-4131]),\n",
      "(Ext:TEXT, Examples: [130, 1240, 1200]),\n",
      "(Website:TEXT, Examples: [www.acoe.org]),\n",
      "(OpenDate:DATE, Examples: [2005-08-29]),\n",
      "(ClosedDate:DATE, Examples: [2015-07-31]),\n",
      "(Charter:INTEGER, Examples: [1, 0]),\n",
      "(CharterNum:TEXT, Examples: [0728, 0811, 1049]),\n",
      "(FundingType:TEXT, Examples: [Directly funded]),\n",
      "(DOC:TEXT, Examples: [00, 31, 34]),\n",
      "(DOCType:TEXT, Examples: [County Office of Education (COE)]),\n",
      "(SOC:TEXT, Examples: [65, 66, 60]),\n",
      "(SOCType:TEXT, Examples: [K-12 Schools (Public)]),\n",
      "(EdOpsCode:TEXT, Examples: [TRAD, JUV, COMM]),\n",
      "(EdOpsName:TEXT, Examples: [Traditional]),\n",
      "(EILCode:TEXT, Examples: [ELEMHIGH, HS, ELEM]),\n",
      "(EILName:TEXT, Examples: [Elementary-High Combination]),\n",
      "(GSoffered:TEXT, Examples: [K-12, 9-12, K-8]),\n",
      "(GSserved:TEXT, Examples: [K-12, 9-12, K-7]),\n",
      "(Virtual:TEXT, Examples: [P, N, F]),\n",
      "(Magnet:INTEGER, Examples: [0, 1]),\n",
      "(Latitude:REAL, Examples: [37.658212, 37.521436, 37.80452]),\n",
      "(Longitude:REAL, Examples: [-122.09713, -121.99391, -122.26815]),\n",
      "(AdmFName1:TEXT, Examples: [L Karen, Laura, Clifford]),\n",
      "(AdmLName1:TEXT, Examples: [Monroe, Robell, Thompson]),\n",
      "(AdmEmail1:TEXT),\n",
      "(AdmFName2:TEXT, Examples: [Sau-Lim (Lance), Jennifer, Annalisa]),\n",
      "(AdmLName2:TEXT, Examples: [Tsang, Koelling, Moore]),\n",
      "(AdmEmail2:TEXT),\n",
      "(AdmFName3:TEXT, Examples: [Drew, Irma, Vickie]),\n",
      "(AdmLName3:TEXT, Examples: [Sarratore, Munoz, Chang]),\n",
      "(AdmEmail3:TEXT),\n",
      "(LastUpdate:DATE, Examples: [2015-06-23])\n",
      "]\n",
      "【Foreign keys】\n",
      "frpm.CDSCode=schools.CDSCode\n",
      "satscores.cds=schools.CDSCode\n",
      "\n",
      "-- Using valid SQLite and understanding External Knowledge, answer the following questions for the tables provided above.\n",
      "-- What is the highest eligible free rate for K-12 students in the schools in Alameda County?\n",
      "-- External Knowledge: Eligible free rate for K-12 = `Free Meal Count (K-12)` / `Enrollment (K-12)`\n",
      "\n",
      "\n",
      "Generate the SQLite for the above question after thinking step by step: \n",
      "\n",
      "\n",
      "Instructions:\n",
      "- Make sure you only output the information that is asked in the question. If the question asks for a specific column, make sure to only include that column in the SELECT clause, nothing more.\n",
      "- The generated query should return all of the information asked in the question without any missing or extra information.\n",
      "- Before generating the final SQL query, please think through the steps of how to write the query.\n",
      "- Do not misuse column names, keep them in quotes `\n",
      "- Carefully understand what colomns belond to what tables\n",
      "- Use only initial column names, change names prohibited\n",
      "        \n",
      "Output Format:\n",
      "In your answer, please enclose the generated SQL query in a code block:\n",
      "```\n",
      "-- Your SQL query\n",
      "```    \n",
      "and nothing else, no exaplains, no comments (asnwer should be less than 512 characters)\n",
      "\n",
      "Take a deep breath and think step by step to find the correct SQL query in SQLite format.\n",
      "\n",
      "Question repetition: What is the highest eligible free rate for K-12 students in the schools in Alameda County?\n",
      "\n",
      "Be care! Include only what i want it questiona and nothing else<|im_end|>\n",
      "<|im_start|>assistant\n",
      "<think>\n",
      "\n",
      "</think>\n",
      "\n",
      "\n",
      "\n",
      "\n",
      "Максимальное количество токенов в промптах: 20721\n",
      "\n",
      "начинаем скорринг\n",
      "Загружаем чаты с данными...\n",
      "Данные успешно загружены\n",
      "Начали генерацию SQL запросов\n"
     ]
    },
    {
     "name": "stderr",
     "output_type": "stream",
     "text": [
      "Processed prompts: 100%|██████████| 1534/1534 [00:45<00:00, 33.78it/s, est. speed input: 146736.19 toks/s, output: 1603.64 toks/s] "
     ]
    },
    {
     "name": "stdout",
     "output_type": "stream",
     "text": [
      "extract_think количество ошибок:  0\n",
      "extract_sql количество ошибок:  0\n",
      "Закончили генерацию SQL запросов\n",
      "Начали скорр полученных SQL запросов\n"
     ]
    },
    {
     "name": "stderr",
     "output_type": "stream",
     "text": [
      "\n"
     ]
    },
    {
     "name": "stdout",
     "output_type": "stream",
     "text": [
      "Qwen3-1.7B DEV Финальный результат EX: 47.20\n",
      "Qwen3-1.7B процент запросов, которые успешно выполнились DEV: 81.49%\n",
      "====================================================================================================\n",
      "\n",
      "\n",
      "Загружаем чаты с данными...\n",
      "Данные успешно загружены\n",
      "Начали генерацию SQL запросов\n"
     ]
    },
    {
     "name": "stderr",
     "output_type": "stream",
     "text": [
      "Processed prompts: 100%|██████████| 1534/1534 [00:42<00:00, 36.48it/s, est. speed input: 152135.17 toks/s, output: 1703.99 toks/s] "
     ]
    },
    {
     "name": "stdout",
     "output_type": "stream",
     "text": [
      "extract_think количество ошибок:  0\n",
      "extract_sql количество ошибок:  0\n",
      "Закончили генерацию SQL запросов\n",
      "Начали скорр полученных SQL запросов\n"
     ]
    },
    {
     "name": "stderr",
     "output_type": "stream",
     "text": [
      "\n"
     ]
    },
    {
     "name": "stdout",
     "output_type": "stream",
     "text": [
      "Qwen3-1.7B DEV Финальный результат EX: 45.50\n",
      "Qwen3-1.7B процент запросов, которые успешно выполнились DEV: 79.34%\n",
      "====================================================================================================\n",
      "\n",
      "\n",
      "Загружаем чаты с данными...\n",
      "Данные успешно загружены\n",
      "Начали генерацию SQL запросов\n"
     ]
    },
    {
     "name": "stderr",
     "output_type": "stream",
     "text": [
      "Processed prompts: 100%|██████████| 1534/1534 [00:42<00:00, 36.03it/s, est. speed input: 150276.58 toks/s, output: 1679.46 toks/s] "
     ]
    },
    {
     "name": "stdout",
     "output_type": "stream",
     "text": [
      "extract_think количество ошибок:  0\n",
      "extract_sql количество ошибок:  0\n",
      "Закончили генерацию SQL запросов\n",
      "Начали скорр полученных SQL запросов\n"
     ]
    },
    {
     "name": "stderr",
     "output_type": "stream",
     "text": [
      "\n"
     ]
    },
    {
     "name": "stdout",
     "output_type": "stream",
     "text": [
      "Qwen3-1.7B DEV Финальный результат EX: 45.05\n",
      "Qwen3-1.7B процент запросов, которые успешно выполнились DEV: 79.07%\n",
      "====================================================================================================\n",
      "\n",
      "\n",
      "Загружаем чаты с данными...\n",
      "Данные успешно загружены\n",
      "Начали генерацию SQL запросов\n"
     ]
    },
    {
     "name": "stderr",
     "output_type": "stream",
     "text": [
      "Processed prompts: 100%|██████████| 1534/1534 [00:45<00:00, 33.56it/s, est. speed input: 144598.93 toks/s, output: 1581.70 toks/s] "
     ]
    },
    {
     "name": "stdout",
     "output_type": "stream",
     "text": [
      "extract_think количество ошибок:  0\n",
      "extract_sql количество ошибок:  0\n",
      "Закончили генерацию SQL запросов\n",
      "Начали скорр полученных SQL запросов\n"
     ]
    },
    {
     "name": "stderr",
     "output_type": "stream",
     "text": [
      "\n"
     ]
    },
    {
     "name": "stdout",
     "output_type": "stream",
     "text": [
      "Qwen3-1.7B DEV Финальный результат EX: 47.07\n",
      "Qwen3-1.7B процент запросов, которые успешно выполнились DEV: 80.70%\n",
      "====================================================================================================\n",
      "\n",
      "\n",
      "Загружаем чаты с данными...\n",
      "Данные успешно загружены\n",
      "Начали генерацию SQL запросов\n"
     ]
    },
    {
     "name": "stderr",
     "output_type": "stream",
     "text": [
      "Processed prompts: 100%|██████████| 1534/1534 [00:47<00:00, 32.52it/s, est. speed input: 141595.92 toks/s, output: 1528.89 toks/s] "
     ]
    },
    {
     "name": "stdout",
     "output_type": "stream",
     "text": [
      "extract_think количество ошибок:  0\n",
      "extract_sql количество ошибок:  0\n",
      "Закончили генерацию SQL запросов\n",
      "Начали скорр полученных SQL запросов\n"
     ]
    },
    {
     "name": "stderr",
     "output_type": "stream",
     "text": [
      "\n"
     ]
    },
    {
     "name": "stdout",
     "output_type": "stream",
     "text": [
      "Qwen3-1.7B DEV Финальный результат EX: 47.65\n",
      "Qwen3-1.7B процент запросов, которые успешно выполнились DEV: 81.03%\n",
      "====================================================================================================\n",
      "\n",
      "\n",
      "Загружаем чаты с данными...\n",
      "Данные успешно загружены\n",
      "Начали генерацию SQL запросов\n"
     ]
    },
    {
     "name": "stderr",
     "output_type": "stream",
     "text": [
      "Processed prompts: 100%|██████████| 1534/1534 [00:47<00:00, 32.15it/s, est. speed input: 141313.96 toks/s, output: 1526.66 toks/s] "
     ]
    },
    {
     "name": "stdout",
     "output_type": "stream",
     "text": [
      "extract_think количество ошибок:  0\n",
      "extract_sql количество ошибок:  0\n",
      "Закончили генерацию SQL запросов\n",
      "Начали скорр полученных SQL запросов\n"
     ]
    },
    {
     "name": "stderr",
     "output_type": "stream",
     "text": [
      "\n"
     ]
    },
    {
     "name": "stdout",
     "output_type": "stream",
     "text": [
      "Qwen3-1.7B DEV Финальный результат EX: 47.26\n",
      "Qwen3-1.7B процент запросов, которые успешно выполнились DEV: 80.38%\n",
      "====================================================================================================\n",
      "\n",
      "\n",
      "Загружаем чаты с данными...\n",
      "Данные успешно загружены\n",
      "Начали генерацию SQL запросов\n"
     ]
    },
    {
     "name": "stderr",
     "output_type": "stream",
     "text": [
      "Processed prompts: 100%|██████████| 1534/1534 [00:46<00:00, 32.98it/s, est. speed input: 143267.96 toks/s, output: 1569.79 toks/s] "
     ]
    },
    {
     "name": "stdout",
     "output_type": "stream",
     "text": [
      "extract_think количество ошибок:  0\n",
      "extract_sql количество ошибок:  0\n",
      "Закончили генерацию SQL запросов\n",
      "Начали скорр полученных SQL запросов\n"
     ]
    },
    {
     "name": "stderr",
     "output_type": "stream",
     "text": [
      "\n"
     ]
    },
    {
     "name": "stdout",
     "output_type": "stream",
     "text": [
      "Qwen3-1.7B DEV Финальный результат EX: 47.46\n",
      "Qwen3-1.7B процент запросов, которые успешно выполнились DEV: 80.18%\n",
      "====================================================================================================\n",
      "\n",
      "\n",
      "Загружаем чаты с данными...\n",
      "Данные успешно загружены\n",
      "Начали генерацию SQL запросов\n"
     ]
    },
    {
     "name": "stderr",
     "output_type": "stream",
     "text": [
      "Processed prompts: 100%|██████████| 1534/1534 [00:45<00:00, 33.69it/s, est. speed input: 144991.90 toks/s, output: 1591.93 toks/s] "
     ]
    },
    {
     "name": "stdout",
     "output_type": "stream",
     "text": [
      "extract_think количество ошибок:  0\n",
      "extract_sql количество ошибок:  0\n",
      "Закончили генерацию SQL запросов\n",
      "Начали скорр полученных SQL запросов\n"
     ]
    },
    {
     "name": "stderr",
     "output_type": "stream",
     "text": [
      "\n"
     ]
    },
    {
     "name": "stdout",
     "output_type": "stream",
     "text": [
      "Qwen3-1.7B DEV Финальный результат EX: 47.20\n",
      "Qwen3-1.7B процент запросов, которые успешно выполнились DEV: 80.18%\n",
      "====================================================================================================\n",
      "\n",
      "\n",
      "Загружаем чаты с данными...\n",
      "Данные успешно загружены\n",
      "Начали генерацию SQL запросов\n"
     ]
    },
    {
     "name": "stderr",
     "output_type": "stream",
     "text": [
      "Processed prompts: 100%|██████████| 1534/1534 [00:45<00:00, 34.03it/s, est. speed input: 147873.28 toks/s, output: 1594.36 toks/s] "
     ]
    },
    {
     "name": "stdout",
     "output_type": "stream",
     "text": [
      "extract_think количество ошибок:  0\n",
      "extract_sql количество ошибок:  0\n",
      "Закончили генерацию SQL запросов\n",
      "Начали скорр полученных SQL запросов\n"
     ]
    },
    {
     "name": "stderr",
     "output_type": "stream",
     "text": [
      "\n"
     ]
    },
    {
     "name": "stdout",
     "output_type": "stream",
     "text": [
      "Qwen3-1.7B DEV Финальный результат EX: 46.87\n",
      "Qwen3-1.7B процент запросов, которые успешно выполнились DEV: 81.29%\n",
      "====================================================================================================\n",
      "\n",
      "\n",
      "Загружаем чаты с данными...\n",
      "Данные успешно загружены\n",
      "Начали генерацию SQL запросов\n"
     ]
    },
    {
     "name": "stderr",
     "output_type": "stream",
     "text": [
      "Processed prompts: 100%|██████████| 1534/1534 [00:48<00:00, 31.49it/s, est. speed input: 138725.36 toks/s, output: 1493.77 toks/s] "
     ]
    },
    {
     "name": "stdout",
     "output_type": "stream",
     "text": [
      "extract_think количество ошибок:  0\n",
      "extract_sql количество ошибок:  0\n",
      "Закончили генерацию SQL запросов\n",
      "Начали скорр полученных SQL запросов\n"
     ]
    },
    {
     "name": "stderr",
     "output_type": "stream",
     "text": [
      "\n"
     ]
    },
    {
     "name": "stdout",
     "output_type": "stream",
     "text": [
      "Qwen3-1.7B DEV Финальный результат EX: 46.94\n",
      "Qwen3-1.7B процент запросов, которые успешно выполнились DEV: 80.90%\n",
      "====================================================================================================\n",
      "\n",
      "\n",
      "Загружаем чаты с данными...\n",
      "Данные успешно загружены\n",
      "Начали генерацию SQL запросов\n"
     ]
    },
    {
     "name": "stderr",
     "output_type": "stream",
     "text": [
      "Processed prompts: 100%|██████████| 1534/1534 [00:47<00:00, 32.46it/s, est. speed input: 142991.11 toks/s, output: 1535.56 toks/s] "
     ]
    },
    {
     "name": "stdout",
     "output_type": "stream",
     "text": [
      "extract_think количество ошибок:  0\n",
      "extract_sql количество ошибок:  0\n",
      "Закончили генерацию SQL запросов\n",
      "Начали скорр полученных SQL запросов\n"
     ]
    },
    {
     "name": "stderr",
     "output_type": "stream",
     "text": [
      "\n"
     ]
    },
    {
     "name": "stdout",
     "output_type": "stream",
     "text": [
      "Qwen3-1.7B DEV Финальный результат EX: 46.54\n",
      "Qwen3-1.7B процент запросов, которые успешно выполнились DEV: 80.70%\n",
      "====================================================================================================\n",
      "\n",
      "\n",
      "Загружаем чаты с данными...\n",
      "Данные успешно загружены\n",
      "Начали генерацию SQL запросов\n"
     ]
    },
    {
     "name": "stderr",
     "output_type": "stream",
     "text": [
      "Processed prompts: 100%|██████████| 1534/1534 [00:46<00:00, 33.19it/s, est. speed input: 143948.38 toks/s, output: 1556.13 toks/s] "
     ]
    },
    {
     "name": "stdout",
     "output_type": "stream",
     "text": [
      "extract_think количество ошибок:  0\n",
      "extract_sql количество ошибок:  0\n",
      "Закончили генерацию SQL запросов\n",
      "Начали скорр полученных SQL запросов\n"
     ]
    },
    {
     "name": "stderr",
     "output_type": "stream",
     "text": [
      "\n"
     ]
    },
    {
     "name": "stdout",
     "output_type": "stream",
     "text": [
      "Qwen3-1.7B DEV Финальный результат EX: 47.20\n",
      "Qwen3-1.7B процент запросов, которые успешно выполнились DEV: 80.38%\n",
      "====================================================================================================\n",
      "\n",
      "\n",
      "Загружаем чаты с данными...\n",
      "Данные успешно загружены\n",
      "Начали генерацию SQL запросов\n"
     ]
    },
    {
     "name": "stderr",
     "output_type": "stream",
     "text": [
      "Processed prompts: 100%|██████████| 1534/1534 [00:45<00:00, 33.50it/s, est. speed input: 144589.33 toks/s, output: 1581.95 toks/s] "
     ]
    },
    {
     "name": "stdout",
     "output_type": "stream",
     "text": [
      "extract_think количество ошибок:  0\n",
      "extract_sql количество ошибок:  0\n",
      "Закончили генерацию SQL запросов\n",
      "Начали скорр полученных SQL запросов\n"
     ]
    },
    {
     "name": "stderr",
     "output_type": "stream",
     "text": [
      "\n"
     ]
    },
    {
     "name": "stdout",
     "output_type": "stream",
     "text": [
      "Qwen3-1.7B DEV Финальный результат EX: 46.74\n",
      "Qwen3-1.7B процент запросов, которые успешно выполнились DEV: 79.60%\n",
      "====================================================================================================\n",
      "\n",
      "\n",
      "Загружаем чаты с данными...\n",
      "Данные успешно загружены\n",
      "Начали генерацию SQL запросов\n"
     ]
    },
    {
     "name": "stderr",
     "output_type": "stream",
     "text": [
      "Processed prompts: 100%|██████████| 1534/1534 [00:45<00:00, 33.73it/s, est. speed input: 145933.52 toks/s, output: 1576.88 toks/s] "
     ]
    },
    {
     "name": "stdout",
     "output_type": "stream",
     "text": [
      "extract_think количество ошибок:  0\n",
      "extract_sql количество ошибок:  0\n",
      "Закончили генерацию SQL запросов\n",
      "Начали скорр полученных SQL запросов\n"
     ]
    },
    {
     "name": "stderr",
     "output_type": "stream",
     "text": [
      "\n"
     ]
    },
    {
     "name": "stdout",
     "output_type": "stream",
     "text": [
      "Qwen3-1.7B DEV Финальный результат EX: 47.13\n",
      "Qwen3-1.7B процент запросов, которые успешно выполнились DEV: 79.92%\n",
      "====================================================================================================\n",
      "\n",
      "\n",
      "Загружаем чаты с данными...\n",
      "Данные успешно загружены\n",
      "Начали генерацию SQL запросов\n"
     ]
    },
    {
     "name": "stderr",
     "output_type": "stream",
     "text": [
      "Processed prompts: 100%|██████████| 1534/1534 [00:46<00:00, 33.04it/s, est. speed input: 144015.37 toks/s, output: 1569.75 toks/s] "
     ]
    },
    {
     "name": "stdout",
     "output_type": "stream",
     "text": [
      "extract_think количество ошибок:  0\n",
      "extract_sql количество ошибок:  0\n",
      "Закончили генерацию SQL запросов\n",
      "Начали скорр полученных SQL запросов\n"
     ]
    },
    {
     "name": "stderr",
     "output_type": "stream",
     "text": [
      "\n"
     ]
    },
    {
     "name": "stdout",
     "output_type": "stream",
     "text": [
      "Qwen3-1.7B DEV Финальный результат EX: 47.13\n",
      "Qwen3-1.7B процент запросов, которые успешно выполнились DEV: 79.86%\n",
      "====================================================================================================\n",
      "\n",
      "\n",
      "Загружаем чаты с данными...\n",
      "Данные успешно загружены\n",
      "Начали генерацию SQL запросов\n"
     ]
    },
    {
     "name": "stderr",
     "output_type": "stream",
     "text": [
      "Processed prompts: 100%|██████████| 1534/1534 [00:46<00:00, 32.68it/s, est. speed input: 143477.42 toks/s, output: 1550.22 toks/s] "
     ]
    },
    {
     "name": "stdout",
     "output_type": "stream",
     "text": [
      "extract_think количество ошибок:  0\n",
      "extract_sql количество ошибок:  0\n",
      "Закончили генерацию SQL запросов\n",
      "Начали скорр полученных SQL запросов\n"
     ]
    },
    {
     "name": "stderr",
     "output_type": "stream",
     "text": [
      "\n"
     ]
    },
    {
     "name": "stdout",
     "output_type": "stream",
     "text": [
      "Qwen3-1.7B DEV Финальный результат EX: 47.00\n",
      "Qwen3-1.7B процент запросов, которые успешно выполнились DEV: 80.51%\n",
      "====================================================================================================\n",
      "\n",
      "\n",
      "Загружаем чаты с данными...\n",
      "Данные успешно загружены\n",
      "Начали генерацию SQL запросов\n"
     ]
    },
    {
     "name": "stderr",
     "output_type": "stream",
     "text": [
      "Processed prompts: 100%|██████████| 1534/1534 [00:46<00:00, 32.99it/s, est. speed input: 144313.65 toks/s, output: 1559.63 toks/s] "
     ]
    },
    {
     "name": "stdout",
     "output_type": "stream",
     "text": [
      "extract_think количество ошибок:  0\n",
      "extract_sql количество ошибок:  0\n",
      "Закончили генерацию SQL запросов\n",
      "Начали скорр полученных SQL запросов\n"
     ]
    },
    {
     "name": "stderr",
     "output_type": "stream",
     "text": [
      "\n"
     ]
    },
    {
     "name": "stdout",
     "output_type": "stream",
     "text": [
      "Qwen3-1.7B DEV Финальный результат EX: 47.00\n",
      "Qwen3-1.7B процент запросов, которые успешно выполнились DEV: 79.99%\n",
      "====================================================================================================\n",
      "\n",
      "\n",
      "Загружаем чаты с данными...\n",
      "Данные успешно загружены\n",
      "Начали генерацию SQL запросов\n"
     ]
    },
    {
     "name": "stderr",
     "output_type": "stream",
     "text": [
      "Processed prompts: 100%|██████████| 1534/1534 [00:46<00:00, 32.90it/s, est. speed input: 141407.68 toks/s, output: 1575.97 toks/s] "
     ]
    },
    {
     "name": "stdout",
     "output_type": "stream",
     "text": [
      "extract_think количество ошибок:  0\n",
      "extract_sql количество ошибок:  0\n",
      "Закончили генерацию SQL запросов\n",
      "Начали скорр полученных SQL запросов\n"
     ]
    },
    {
     "name": "stderr",
     "output_type": "stream",
     "text": [
      "\n"
     ]
    },
    {
     "name": "stdout",
     "output_type": "stream",
     "text": [
      "Qwen3-1.7B DEV Финальный результат EX: 47.13\n",
      "Qwen3-1.7B процент запросов, которые успешно выполнились DEV: 80.44%\n",
      "====================================================================================================\n",
      "\n",
      "\n",
      "Загружаем чаты с данными...\n",
      "Данные успешно загружены\n",
      "Начали генерацию SQL запросов\n"
     ]
    },
    {
     "name": "stderr",
     "output_type": "stream",
     "text": [
      "Processed prompts: 100%|██████████| 1534/1534 [00:45<00:00, 33.68it/s, est. speed input: 143633.77 toks/s, output: 1592.54 toks/s] "
     ]
    },
    {
     "name": "stdout",
     "output_type": "stream",
     "text": [
      "extract_think количество ошибок:  0\n",
      "extract_sql количество ошибок:  0\n",
      "Закончили генерацию SQL запросов\n",
      "Начали скорр полученных SQL запросов\n"
     ]
    },
    {
     "name": "stderr",
     "output_type": "stream",
     "text": [
      "\n"
     ]
    },
    {
     "name": "stdout",
     "output_type": "stream",
     "text": [
      "Qwen3-1.7B DEV Финальный результат EX: 47.59\n",
      "Qwen3-1.7B процент запросов, которые успешно выполнились DEV: 80.83%\n",
      "====================================================================================================\n",
      "\n",
      "\n",
      "Загружаем чаты с данными...\n",
      "Данные успешно загружены\n",
      "Начали генерацию SQL запросов\n"
     ]
    },
    {
     "name": "stderr",
     "output_type": "stream",
     "text": [
      "Processed prompts: 100%|██████████| 1534/1534 [00:46<00:00, 33.07it/s, est. speed input: 143507.07 toks/s, output: 1576.31 toks/s] "
     ]
    },
    {
     "name": "stdout",
     "output_type": "stream",
     "text": [
      "extract_think количество ошибок:  0\n",
      "extract_sql количество ошибок:  0\n",
      "Закончили генерацию SQL запросов\n",
      "Начали скорр полученных SQL запросов\n"
     ]
    },
    {
     "name": "stderr",
     "output_type": "stream",
     "text": [
      "\n"
     ]
    },
    {
     "name": "stdout",
     "output_type": "stream",
     "text": [
      "Qwen3-1.7B DEV Финальный результат EX: 46.68\n",
      "Qwen3-1.7B процент запросов, которые успешно выполнились DEV: 80.90%\n",
      "====================================================================================================\n",
      "\n",
      "\n"
     ]
    }
   ],
   "source": [
    "run_cot_experiment(model,arr_seeds,arr_versions, type_cot,num_observations=num_observations)"
   ]
  },
  {
   "cell_type": "code",
   "execution_count": 13,
   "id": "a20fe4f1-be38-4f30-b534-5959cc12deea",
   "metadata": {},
   "outputs": [
    {
     "name": "stdout",
     "output_type": "stream",
     "text": [
      "[711, 370, 886, 893, 505, 696, 411, 557, 111, 131, 775, 617, 198, 999, 977, 764, 578, 348, 529, 195]\n",
      "model: Qwen3-1.7B\n"
     ]
    }
   ],
   "source": [
    "n= 20\n",
    "arr_seeds = [random.randint(0,1000) for _ in range(n)]\n",
    "arr_versions = [x for x in range(n)]\n",
    "model = \"Qwen3-1.7B\"\n",
    "num_observations = 3\n",
    "type_cot = 'think'\n",
    "print(arr_seeds)\n",
    "print(f\"model: {model}\")"
   ]
  },
  {
   "cell_type": "code",
   "execution_count": 14,
   "id": "61d9bd8d-dd04-4a14-a288-585190158702",
   "metadata": {
    "scrolled": true
   },
   "outputs": [
    {
     "name": "stdout",
     "output_type": "stream",
     "text": [
      "Загружаем модель...\n"
     ]
    },
    {
     "name": "stderr",
     "output_type": "stream",
     "text": [
      "Loading safetensors checkpoint shards:   0% Completed | 0/2 [00:00<?, ?it/s]\n",
      "Loading safetensors checkpoint shards:  50% Completed | 1/2 [00:01<00:01,  1.23s/it]\n",
      "Loading safetensors checkpoint shards: 100% Completed | 2/2 [00:01<00:00,  1.57it/s]\n",
      "\u001b[1;36m(VllmWorker rank=0 pid=3160247)\u001b[0;0m \n"
     ]
    },
    {
     "name": "stdout",
     "output_type": "stream",
     "text": [
      "Модель успешно загружена\n",
      "model_config {'model': '/data/home/vkropoti/models/Qwen3-1.7B', 'tensor_parallel_size': 2, 'max_model_len': 40000, 'max_new_tokens': 1500, 'temperature': 0, 'top_k': 1, 'top_p': 0.8, 'gpu_memory_utilization': 0.9, 'trust_remote_code': False, 'seed': 711}\n",
      "\n",
      "prompts_config {'path_dev_json': '/home/vkropoti/vllm/dev.json', 'path_sql_dbs': '/data/home/vkropoti/sql_data/dev_databases/', 'use_reasoning': False, 'paths_to_cot': ['/data/home/vkropoti/sql_llm_answers/bird_dev_m_schema/sql_think_Qwen3-1.7B-reasoning-v0', '/data/home/vkropoti/sql_llm_answers/bird_dev_m_schema/sql_think_Qwen3-1.7B-reasoning-v1', '/data/home/vkropoti/sql_llm_answers/bird_dev_m_schema/sql_think_Qwen3-1.7B-reasoning-v2']}\n",
      "\n",
      "save_config {'path_sql_save': '/data/home/vkropoti/sql_llm_answers/bird_dev_m_schema/sql_all_Qwen3-1.7B-cot_think_think==False_nobs3-v0', 'path_think_save': None, 'path_sql_answers_save': '/data/home/vkropoti/sql_llm_answers/bird_dev_m_schema/sql_predict_Qwen3-1.7B-cot_think_think==False_nobs3-v0', 'path_to_save_scores': '/data/home/vkropoti/sql_llm_answers/bird_dev_m_schema/sql_results_Qwen3-1.7B-cot_think_think==False_nobs3-v0', 'path_to_save_executed': '/data/home/vkropoti/sql_llm_answers/bird_dev_m_schema/sql_executed_Qwen3-1.7B-cot_think_think==False_nobs3-v0'}\n",
      "\n",
      "Модель успешно загружена\n",
      "Пример промпта\n",
      "<|im_start|>system\n",
      "\n",
      "You are a data science expert. Below, you are provided with a database schema and a natural language question. Your task is to understand the schema and generate a valid SQL query to answer the question.\n",
      "\n",
      "Database Engine: SQLite\n",
      "\n",
      "You will be given an additional analysis of other models, please take it into account, so the plan is\n",
      "1. Analyse given addition analysis from other models (find in which analysis the same and differ, how to use that to answer question)\n",
      "2. Combine best from previous part and think how to solve the problem (analyze tables, take care what columns avaliable in each table and so on, check the syntacsis)\n",
      "3. Create the answers. The answer should be only sql query.\n",
      "\n",
      "Carefully follow the instruction and add <|im_end|> and the end of the final answer<|im_end|>\n",
      "<|im_start|>user\n",
      "Here is addition analysis from other models which can be helpfull, please take this into account but be careful (choose the best from each analysis, combine them to make the most proper answer):\n",
      "\n",
      "model 0 analysis:\n",
      " Okay, let's tackle this question step by step. The user wants the highest eligible free rate for K-12 students in Alameda County. \n",
      "\n",
      "First, I need to figure out which tables are involved. The eligible free rate is calculated as Free Meal Count (K-12) divided by Enrollment (K-12). So I need data from the frpm table. But the frpm table has the Free Meal Count and Enrollment values. However, the schools table has the County information, so I need to join the schools table with the frpm table on the CDSCode.\n",
      "\n",
      "Wait, the foreign keys are frpm.CDSCode = schools.CDSCode and satscores.cds = schools.CDSCode. So the schools table has the CDSCode, which is linked to frpm. So the plan is to join schools with frpm on CDSCode, filter where the County is 'Alameda County', then calculate the ratio.\n",
      "\n",
      "But wait, the schools table's County column has examples like 'Alameda', 'Alpine', etc. So the County column is a TEXT field. So I need to check if the County is 'Alameda' exactly. But maybe the actual county names might have spaces or different formats. However, the examples given in the schools table's County column are 'Alameda', so assuming that 'Alameda' is the correct value.\n",
      "\n",
      "So the steps are:\n",
      "\n",
      "1. Join schools and frpm on CDSCode.\n",
      "2. Filter where schools.County = 'Alameda'.\n",
      "3. Calculate Free Meal Count (K-12) / Enrollment (K-12) for each school.\n",
      "4. Find the maximum value of this ratio.\n",
      "\n",
      "But the question says \"highest eligible free rate\", so we need the maximum value from the calculated ratio.\n",
      "\n",
      "Now, the SQL query would need to select the maximum of (Free Meal Count (K-12) / Enrollment (K-12)) from the joined tables where County is 'Alameda'.\n",
      "\n",
      "But wait, the frpm table has the Free Meal Count (K-12) as a REAL number and Enrollment (K-12) as a REAL number. So the division would be done in the query.\n",
      "\n",
      "So the SQL query would be:\n",
      "\n",
      "SELECT MAX(Free Meal Count (K-12) / Enrollment (K-12)) FROM schools JOIN frpm ON schools.CDSCode = frpm.CDSCode WHERE schools.County = 'Alameda';\n",
      "\n",
      "But need to check if the County is exactly 'Alameda' or if there's a need to use a LIKE clause. The examples given in the schools table's County column are 'Alameda', so it's likely that the exact value is 'Alameda'. However, in practice, sometimes counties might have different names, but based on the given data, we can assume that.\n",
      "\n",
      "Another thing: the schools table has a District column, but the County is the primary field here. So the JOIN is on CDSCode, which is the same in both tables.\n",
      "\n",
      "So the final query would be as above. But need to make sure that the columns are correctly referenced. The frpm table has Free Meal Count (K-12) as a column, and Enrollment (K-12) as another column. So the division is between those two.\n",
      "\n",
      "Therefore, the SQL query should select the maximum of that ratio from the joined tables where the county is Alameda.\n",
      "\n",
      "model 1 analysis:\n",
      " Okay, let's tackle this question. The user wants the highest eligible free rate for K-12 students in Alameda County. \n",
      "\n",
      "First, I need to figure out which tables are involved. The relevant tables here are 'frpm' and 'schools' because the 'frpm' table has the eligible free rates and the 'schools' table has the county information. \n",
      "\n",
      "The 'schools' table has a 'County' column, and we need to filter for Alameda County. So, I'll start by joining the 'schools' table with the 'frpm' table on the 'CDSCode' since that's the primary key link. \n",
      "\n",
      "Next, the eligible free rate is calculated as Free Meal Count (K-12) divided by Enrollment (K-12). But wait, the question specifies K-12 students, so I need to make sure that the rows in frpm are for K-12. The 'Low Grade' and 'High Grade' columns in frpm might indicate the grade levels, but the question is specifically about K-12. So maybe the 'Low Grade' is K, and the 'High Grade' is 12. But the user might just want the rate for K-12 students, so perhaps we can assume that the rows in frpm where Low Grade is 'K' and High Grade is '12' are the ones we need. However, the problem statement says \"K-12 students,\" so maybe we need to check if the frpm data includes that. But the user's question doesn't specify filtering by grade, just K-12. So perhaps the frpm table's rows are already for K-12, or we need to check the data.\n",
      "\n",
      "But since the question is about K-12, maybe the frpm table's rows are for K-12. However, the 'Low Grade' and 'High Grade' columns might not be directly relevant here. The user's question is about the highest eligible free rate for K-12 students, so the frpm table's rows where the school is in Alameda County and the grade levels are K-12. But the problem is that the 'frpm' table's 'Low Grade' is 'K' and 'High Grade' is '12', so perhaps we need to filter where Low Grade is 'K' and High Grade is '12'.\n",
      "\n",
      "But the user's question might not require that, since the question is about K-12 students in general. However, the data might have entries for K-12, so perhaps we can just use the frpm table's rows where the school is in Alameda County. \n",
      "\n",
      "Wait, the 'schools' table has a 'County' column, so we need to join on that. So the plan is: join schools and frpm on CDSCode, filter where County is 'Alameda', then calculate the eligible free rate as Free Meal Count (K-12) / Enrollment (K-12), and find the maximum value.\n",
      "\n",
      "But the user's question says \"highest eligible free rate for K-12 students in the schools in Alameda County\". So the steps are:\n",
      "\n",
      "1. Join schools and frpm on CDSCode.\n",
      "2. Filter schools where County is 'Alameda'.\n",
      "3. Calculate the eligible free rate for K-12 students (Free Meal Count (K-12) / Enrollment (K-12)).\n",
      "4. Find the maximum value of this rate.\n",
      "\n",
      "But the problem is that the frpm table's 'Low Grade' and 'High Grade' might not be directly relevant here. However, the question is about K-12 students, so maybe the frpm table's rows are for K-12. Alternatively, the 'Low Grade' is 'K' and 'High Grade' is '12', so the rows where Low Grade is 'K' and High Grade is '12' are for K-12. Therefore, we need to filter those rows.\n",
      "\n",
      "So the query would be:\n",
      "\n",
      "SELECT MAX( (Free Meal Count (K-12) / Enrollment (K-12)) ) AS highest_rate\n",
      "FROM frpm\n",
      "JOIN schools ON frpm.CDSCode = schools.CDSCode\n",
      "WHERE schools.County = 'Alameda' AND frpm.Low Grade = 'K' AND frpm.High Grade = '12';\n",
      "\n",
      "But the user's question might not require checking the grade levels, just the K-12 students. However, the data might not have entries for K-12. But the problem says \"K-12 students\", so perhaps the frpm table's rows are for K-12. But the 'Low Grade' and 'High Grade' columns are part of the frpm table. So the correct approach is to check those columns.\n",
      "\n",
      "But the user's question is phrased as \"highest eligible free rate for K-12 students in the schools in Alameda County\". So the answer would require that the frpm data includes K-12 students. Therefore, the query would need to filter where Low Grade is 'K' and High Grade is '12'.\n",
      "\n",
      "But the user might not have that data. However, based on the schema, the frpm table's columns include Low Grade and High Grade, so the answer must consider those.\n",
      "\n",
      "So the final SQL query would be:\n",
      "\n",
      "SELECT MAX( (Free Meal Count (K-12) / Enrollment (K-12)) ) AS highest_rate\n",
      "FROM frpm\n",
      "JOIN schools ON frpm.CDSCode = schools.CDSCode\n",
      "WHERE schools.County = 'Alameda' AND frpm.Low Grade = 'K' AND frpm.High Grade = '12';\n",
      "\n",
      "But the problem is that in SQLite, the column names are in quotes. Also, the user wants only the column in the SELECT clause, which is the highest rate. So the query should select the maximum of that rate.\n",
      "\n",
      "But the question might not require the actual values, just the maximum. So the query would be as above.\n",
      "\n",
      "Wait, but the user's question is to get the highest eligible free rate. So the SQL would be to select the maximum of (Free Meal Count (K-12)/Enrollment (K-12)) where the school is in Alameda County and the grade levels are K-12.\n",
      "\n",
      "Therefore, the correct query is as above.\n",
      "\n",
      "model 2 analysis:\n",
      " Okay, let's tackle this question. The user wants the highest eligible free rate for K-12 students in Alameda County. \n",
      "\n",
      "First, I need to figure out which tables are involved. The relevant tables here are 'schools' and 'frpm' because they have the CDSCode and County information. The 'satscores' table might not be necessary here since the question is about free meal counts and enrollments.\n",
      "\n",
      "The 'schools' table has the County field, so I can filter for County = 'Alameda'. The 'frpm' table has 'County Name' and 'Enrollment (K-12)', 'Free Meal Count (K-12)', and 'Percent (%) Eligible Free (K-12)' columns. \n",
      "\n",
      "Wait, the 'frpm' table's 'County Name' might have the county names, but the 'schools' table's 'County' field is a TEXT field. So I need to join the two tables on schools.CDSCode = frpm.CDSCode. Then, filter where schools.County = 'Alameda'.\n",
      "\n",
      "But the question is about the highest eligible free rate. So I need to calculate the percentage from the 'Percent (%) Eligible Free (K-12)' column. Then, find the maximum value among those that are in Alameda County.\n",
      "\n",
      "So the steps are: join schools and frpm on CDSCode, filter where County is 'Alameda', select the Percent column, order by it descending, limit 1.\n",
      "\n",
      "Wait, but the 'frpm' table has 'Percent (%) Eligible Free (K-12)' as a column. So the SQL would be:\n",
      "\n",
      "SELECT MAX(Percent (%) Eligible Free (K-12)) FROM frpm JOIN schools ON frpm.CDSCode = schools.CDSCode WHERE schools.County = 'Alameda';\n",
      "\n",
      "But I need to make sure that the column names are correct. The 'frpm' table has 'Percent (%) Eligible Free (K-12)' as a column, so that's correct. The 'schools' table has 'County' as a column. \n",
      "\n",
      "But the question says \"schools in Alameda County\", so the 'schools' table's County must be 'Alameda'. \n",
      "\n",
      "So the final query would be joining the two tables on CDSCode, filtering the County, then selecting the max of the eligible free rate. \n",
      "\n",
      "But wait, the user wants the highest rate, so MAX() is correct. \n",
      "\n",
      "I need to make sure that the columns are correctly referenced. Also, the 'frpm' table's 'County Name' might have the county name, but the 'schools' table's 'County' is the one to filter. So the join is correct.\n",
      "\n",
      "So the SQL query would be:\n",
      "\n",
      "SELECT MAX(Percent (%) Eligible Free (K-12)) FROM frpm JOIN schools ON frpm.CDSCode = schools.CDSCode WHERE schools.County = 'Alameda';\n",
      "\n",
      "\n",
      "here is avaliable tables and their structure below\n",
      "【DB_ID】 california_schools\n",
      "【Schema】\n",
      "# Table: frpm\n",
      "[\n",
      "(CDSCode:TEXT, maps to schools.CDSCode, Primary Key, Examples: [01100170109835, 01100170112607, 01100170118489]),\n",
      "(Academic Year:TEXT, Examples: [2014-2015]),\n",
      "(County Code:TEXT, Examples: [01, 02, 03]),\n",
      "(District Code:INTEGER, Examples: [10017, 31609, 31617]),\n",
      "(School Code:TEXT, Examples: [0109835, 0112607, 0118489]),\n",
      "(County Name:TEXT, Examples: [Alameda, Alpine, Amador]),\n",
      "(District Name:TEXT),\n",
      "(School Name:TEXT, Examples: [FAME Public Charter]),\n",
      "(District Type:TEXT, Examples: [County Office of Education (COE)]),\n",
      "(School Type:TEXT, Examples: [K-12 Schools (Public)]),\n",
      "(Educational Option Type:TEXT, Examples: [Traditional]),\n",
      "(NSLP Provision Status:TEXT, Examples: [Breakfast Provision 2]),\n",
      "(Charter School (Y/N):INTEGER, Examples: [1, 0]),\n",
      "(Charter School Number:TEXT, Examples: [0728, 0811, 1049]),\n",
      "(Charter Funding Type:TEXT, Examples: [Directly funded]),\n",
      "(IRC:INTEGER, Examples: [1, 0]),\n",
      "(Low Grade:TEXT, Examples: [K, 9, 1]),\n",
      "(High Grade:TEXT, Examples: [12, 8, 5]),\n",
      "(Enrollment (K-12):REAL, Examples: [1087.0, 395.0, 244.0]),\n",
      "(Free Meal Count (K-12):REAL, Examples: [565.0, 186.0, 134.0]),\n",
      "(Percent (%) Eligible Free (K-12):REAL, Examples: [0.519779208831647, 0.470886075949367, 0.549180327868853]),\n",
      "(FRPM Count (K-12):REAL, Examples: [715.0, 186.0, 175.0]),\n",
      "(Percent (%) Eligible FRPM (K-12):REAL, Examples: [0.657773689052438, 0.470886075949367, 0.717213114754098]),\n",
      "(Enrollment (Ages 5-17):REAL, Examples: [1070.0, 376.0, 230.0]),\n",
      "(Free Meal Count (Ages 5-17):REAL, Examples: [553.0, 182.0, 128.0]),\n",
      "(Percent (%) Eligible Free (Ages 5-17):REAL, Examples: [0.516822429906542, 0.484042553191489, 0.556521739130435]),\n",
      "(FRPM Count (Ages 5-17):REAL, Examples: [702.0, 182.0, 168.0]),\n",
      "(Percent (%) Eligible FRPM (Ages 5-17):REAL, Examples: [0.65607476635514, 0.484042553191489, 0.730434782608696]),\n",
      "(2013-14 CALPADS Fall 1 Certification Status:INTEGER, Examples: [1])\n",
      "]\n",
      "# Table: satscores\n",
      "[\n",
      "(cds:TEXT, maps to schools.CDSCode, Primary Key, Examples: [10101080000000, 10101080109991, 10101080111682]),\n",
      "(rtype:TEXT, Examples: [D, S]),\n",
      "(sname:TEXT, Examples: [FAME Public Charter]),\n",
      "(dname:TEXT, Examples: [Alameda County Office of Education]),\n",
      "(cname:TEXT, Examples: [Alameda, Amador, Butte]),\n",
      "(enroll12:INTEGER, Examples: [398, 62, 75]),\n",
      "(NumTstTakr:INTEGER, Examples: [88, 17, 71]),\n",
      "(AvgScrRead:INTEGER, Examples: [418, 503, 397]),\n",
      "(AvgScrMath:INTEGER, Examples: [418, 546, 387]),\n",
      "(AvgScrWrite:INTEGER, Examples: [417, 505, 395]),\n",
      "(NumGE1500:INTEGER, Examples: [14, 9, 5])\n",
      "]\n",
      "# Table: schools\n",
      "[\n",
      "(CDSCode:TEXT, Primary Key, Examples: [01100170000000, 01100170109835, 01100170112607]),\n",
      "(NCESDist:TEXT, Examples: [0691051, 0600002, 0600003]),\n",
      "(NCESSchool:TEXT, Examples: [10546, 10947, 12283]),\n",
      "(StatusType:TEXT, Examples: [Active, Closed, Merged]),\n",
      "(County:TEXT, Examples: [Alameda, Alpine, Amador]),\n",
      "(District:TEXT),\n",
      "(School:TEXT, Examples: [FAME Public Charter]),\n",
      "(Street:TEXT, Examples: [313 West Winton Avenue]),\n",
      "(StreetAbr:TEXT, Examples: [313 West Winton Ave.]),\n",
      "(City:TEXT, Examples: [Hayward, Newark, Oakland]),\n",
      "(Zip:TEXT, Examples: [94544-1136, 94560-5359, 94612-3355]),\n",
      "(State:TEXT, Examples: [CA]),\n",
      "(MailStreet:TEXT, Examples: [313 West Winton Avenue]),\n",
      "(MailStrAbr:TEXT, Examples: [313 West Winton Ave.]),\n",
      "(MailCity:TEXT, Examples: [Hayward, Newark, Oakland]),\n",
      "(MailZip:TEXT, Examples: [94544-1136, 94560-5359, 94612]),\n",
      "(MailState:TEXT, Examples: [CA]),\n",
      "(Phone:TEXT, Examples: [(510) 887-0152, (510) 596-8901, (510) 686-4131]),\n",
      "(Ext:TEXT, Examples: [130, 1240, 1200]),\n",
      "(Website:TEXT, Examples: [www.acoe.org]),\n",
      "(OpenDate:DATE, Examples: [2005-08-29]),\n",
      "(ClosedDate:DATE, Examples: [2015-07-31]),\n",
      "(Charter:INTEGER, Examples: [1, 0]),\n",
      "(CharterNum:TEXT, Examples: [0728, 0811, 1049]),\n",
      "(FundingType:TEXT, Examples: [Directly funded]),\n",
      "(DOC:TEXT, Examples: [00, 31, 34]),\n",
      "(DOCType:TEXT, Examples: [County Office of Education (COE)]),\n",
      "(SOC:TEXT, Examples: [65, 66, 60]),\n",
      "(SOCType:TEXT, Examples: [K-12 Schools (Public)]),\n",
      "(EdOpsCode:TEXT, Examples: [TRAD, JUV, COMM]),\n",
      "(EdOpsName:TEXT, Examples: [Traditional]),\n",
      "(EILCode:TEXT, Examples: [ELEMHIGH, HS, ELEM]),\n",
      "(EILName:TEXT, Examples: [Elementary-High Combination]),\n",
      "(GSoffered:TEXT, Examples: [K-12, 9-12, K-8]),\n",
      "(GSserved:TEXT, Examples: [K-12, 9-12, K-7]),\n",
      "(Virtual:TEXT, Examples: [P, N, F]),\n",
      "(Magnet:INTEGER, Examples: [0, 1]),\n",
      "(Latitude:REAL, Examples: [37.658212, 37.521436, 37.80452]),\n",
      "(Longitude:REAL, Examples: [-122.09713, -121.99391, -122.26815]),\n",
      "(AdmFName1:TEXT, Examples: [L Karen, Laura, Clifford]),\n",
      "(AdmLName1:TEXT, Examples: [Monroe, Robell, Thompson]),\n",
      "(AdmEmail1:TEXT),\n",
      "(AdmFName2:TEXT, Examples: [Sau-Lim (Lance), Jennifer, Annalisa]),\n",
      "(AdmLName2:TEXT, Examples: [Tsang, Koelling, Moore]),\n",
      "(AdmEmail2:TEXT),\n",
      "(AdmFName3:TEXT, Examples: [Drew, Irma, Vickie]),\n",
      "(AdmLName3:TEXT, Examples: [Sarratore, Munoz, Chang]),\n",
      "(AdmEmail3:TEXT),\n",
      "(LastUpdate:DATE, Examples: [2015-06-23])\n",
      "]\n",
      "【Foreign keys】\n",
      "frpm.CDSCode=schools.CDSCode\n",
      "satscores.cds=schools.CDSCode\n",
      "\n",
      "-- Using valid SQLite and understanding External Knowledge, answer the following questions for the tables provided above.\n",
      "-- What is the highest eligible free rate for K-12 students in the schools in Alameda County?\n",
      "-- External Knowledge: Eligible free rate for K-12 = `Free Meal Count (K-12)` / `Enrollment (K-12)`\n",
      "\n",
      "\n",
      "Generate the SQLite for the above question after thinking step by step: \n",
      "\n",
      "\n",
      "Instructions:\n",
      "- Make sure you only output the information that is asked in the question. If the question asks for a specific column, make sure to only include that column in the SELECT clause, nothing more.\n",
      "- The generated query should return all of the information asked in the question without any missing or extra information.\n",
      "- Before generating the final SQL query, please think through the steps of how to write the query.\n",
      "- Do not misuse column names, keep them in quotes `\n",
      "- Carefully understand what colomns belond to what tables\n",
      "- Use only initial column names, change names prohibited\n",
      "        \n",
      "Output Format:\n",
      "In your answer, please enclose the generated SQL query in a code block:\n",
      "```\n",
      "-- Your SQL query\n",
      "```    \n",
      "and nothing else, no exaplains, no comments (asnwer should be less than 512 characters)\n",
      "\n",
      "Take a deep breath and think step by step to find the correct SQL query in SQLite format.\n",
      "\n",
      "Question repetition: What is the highest eligible free rate for K-12 students in the schools in Alameda County?\n",
      "\n",
      "Be care! Include only what i want it questiona and nothing else<|im_end|>\n",
      "<|im_start|>assistant\n",
      "<think>\n",
      "\n",
      "</think>\n",
      "\n",
      "\n",
      "\n",
      "\n",
      "Максимальное количество токенов в промптах: 20727\n",
      "\n",
      "начинаем скорринг\n",
      "Загружаем чаты с данными...\n",
      "Данные успешно загружены\n",
      "Начали генерацию SQL запросов\n"
     ]
    },
    {
     "name": "stderr",
     "output_type": "stream",
     "text": [
      "Processed prompts: 100%|██████████| 1534/1534 [00:56<00:00, 27.25it/s, est. speed input: 141215.68 toks/s, output: 1289.31 toks/s] "
     ]
    },
    {
     "name": "stdout",
     "output_type": "stream",
     "text": [
      "extract_think количество ошибок:  0\n",
      "extract_sql количество ошибок:  0\n",
      "Закончили генерацию SQL запросов\n",
      "Начали скорр полученных SQL запросов\n"
     ]
    },
    {
     "name": "stderr",
     "output_type": "stream",
     "text": [
      "\n"
     ]
    },
    {
     "name": "stdout",
     "output_type": "stream",
     "text": [
      "Qwen3-1.7B DEV Финальный результат EX: 47.91\n",
      "Qwen3-1.7B процент запросов, которые успешно выполнились DEV: 81.68%\n",
      "====================================================================================================\n",
      "\n",
      "\n",
      "Загружаем чаты с данными...\n",
      "Данные успешно загружены\n",
      "Начали генерацию SQL запросов\n"
     ]
    },
    {
     "name": "stderr",
     "output_type": "stream",
     "text": [
      "Processed prompts: 100%|██████████| 1534/1534 [00:54<00:00, 28.06it/s, est. speed input: 143967.53 toks/s, output: 1312.89 toks/s] "
     ]
    },
    {
     "name": "stdout",
     "output_type": "stream",
     "text": [
      "extract_think количество ошибок:  0\n",
      "extract_sql количество ошибок:  0\n",
      "Закончили генерацию SQL запросов\n",
      "Начали скорр полученных SQL запросов\n"
     ]
    },
    {
     "name": "stderr",
     "output_type": "stream",
     "text": [
      "\n"
     ]
    },
    {
     "name": "stdout",
     "output_type": "stream",
     "text": [
      "Qwen3-1.7B DEV Финальный результат EX: 44.72\n",
      "Qwen3-1.7B процент запросов, которые успешно выполнились DEV: 78.68%\n",
      "====================================================================================================\n",
      "\n",
      "\n",
      "Загружаем чаты с данными...\n",
      "Данные успешно загружены\n",
      "Начали генерацию SQL запросов\n"
     ]
    },
    {
     "name": "stderr",
     "output_type": "stream",
     "text": [
      "Processed prompts: 100%|██████████| 1534/1534 [00:55<00:00, 27.88it/s, est. speed input: 143508.14 toks/s, output: 1307.62 toks/s] "
     ]
    },
    {
     "name": "stdout",
     "output_type": "stream",
     "text": [
      "extract_think количество ошибок:  0\n",
      "extract_sql количество ошибок:  0\n",
      "Закончили генерацию SQL запросов\n",
      "Начали скорр полученных SQL запросов\n"
     ]
    },
    {
     "name": "stderr",
     "output_type": "stream",
     "text": [
      "\n"
     ]
    },
    {
     "name": "stdout",
     "output_type": "stream",
     "text": [
      "Qwen3-1.7B DEV Финальный результат EX: 45.96\n",
      "Qwen3-1.7B процент запросов, которые успешно выполнились DEV: 80.51%\n",
      "====================================================================================================\n",
      "\n",
      "\n",
      "Загружаем чаты с данными...\n",
      "Данные успешно загружены\n",
      "Начали генерацию SQL запросов\n"
     ]
    },
    {
     "name": "stderr",
     "output_type": "stream",
     "text": [
      "Processed prompts: 100%|██████████| 1534/1534 [00:58<00:00, 26.01it/s, est. speed input: 138208.88 toks/s, output: 1227.94 toks/s] "
     ]
    },
    {
     "name": "stdout",
     "output_type": "stream",
     "text": [
      "extract_think количество ошибок:  0\n",
      "extract_sql количество ошибок:  0\n",
      "Закончили генерацию SQL запросов\n",
      "Начали скорр полученных SQL запросов\n"
     ]
    },
    {
     "name": "stderr",
     "output_type": "stream",
     "text": [
      "\n"
     ]
    },
    {
     "name": "stdout",
     "output_type": "stream",
     "text": [
      "Qwen3-1.7B DEV Финальный результат EX: 48.11\n",
      "Qwen3-1.7B процент запросов, которые успешно выполнились DEV: 80.70%\n",
      "====================================================================================================\n",
      "\n",
      "\n",
      "Загружаем чаты с данными...\n",
      "Данные успешно загружены\n",
      "Начали генерацию SQL запросов\n"
     ]
    },
    {
     "name": "stderr",
     "output_type": "stream",
     "text": [
      "Processed prompts: 100%|██████████| 1534/1534 [00:59<00:00, 25.84it/s, est. speed input: 138762.55 toks/s, output: 1218.19 toks/s] "
     ]
    },
    {
     "name": "stdout",
     "output_type": "stream",
     "text": [
      "extract_think количество ошибок:  0\n",
      "extract_sql количество ошибок:  0\n",
      "Закончили генерацию SQL запросов\n",
      "Начали скорр полученных SQL запросов\n"
     ]
    },
    {
     "name": "stderr",
     "output_type": "stream",
     "text": [
      "\n"
     ]
    },
    {
     "name": "stdout",
     "output_type": "stream",
     "text": [
      "Qwen3-1.7B DEV Финальный результат EX: 48.57\n",
      "Qwen3-1.7B процент запросов, которые успешно выполнились DEV: 81.29%\n",
      "====================================================================================================\n",
      "\n",
      "\n",
      "Загружаем чаты с данными...\n",
      "Данные успешно загружены\n",
      "Начали генерацию SQL запросов\n"
     ]
    },
    {
     "name": "stderr",
     "output_type": "stream",
     "text": [
      "Processed prompts: 100%|██████████| 1534/1534 [00:58<00:00, 26.21it/s, est. speed input: 140205.22 toks/s, output: 1234.74 toks/s] "
     ]
    },
    {
     "name": "stdout",
     "output_type": "stream",
     "text": [
      "extract_think количество ошибок:  0\n",
      "extract_sql количество ошибок:  0\n",
      "Закончили генерацию SQL запросов\n",
      "Начали скорр полученных SQL запросов\n"
     ]
    },
    {
     "name": "stderr",
     "output_type": "stream",
     "text": [
      "\n"
     ]
    },
    {
     "name": "stdout",
     "output_type": "stream",
     "text": [
      "Qwen3-1.7B DEV Финальный результат EX: 48.57\n",
      "Qwen3-1.7B процент запросов, которые успешно выполнились DEV: 82.20%\n",
      "====================================================================================================\n",
      "\n",
      "\n",
      "Загружаем чаты с данными...\n",
      "Данные успешно загружены\n",
      "Начали генерацию SQL запросов\n"
     ]
    },
    {
     "name": "stderr",
     "output_type": "stream",
     "text": [
      "Processed prompts: 100%|██████████| 1534/1534 [00:58<00:00, 26.33it/s, est. speed input: 140107.01 toks/s, output: 1243.13 toks/s] "
     ]
    },
    {
     "name": "stdout",
     "output_type": "stream",
     "text": [
      "extract_think количество ошибок:  0\n",
      "extract_sql количество ошибок:  0\n",
      "Закончили генерацию SQL запросов\n",
      "Начали скорр полученных SQL запросов\n"
     ]
    },
    {
     "name": "stderr",
     "output_type": "stream",
     "text": [
      "\n"
     ]
    },
    {
     "name": "stdout",
     "output_type": "stream",
     "text": [
      "Qwen3-1.7B DEV Финальный результат EX: 48.24\n",
      "Qwen3-1.7B процент запросов, которые успешно выполнились DEV: 80.83%\n",
      "====================================================================================================\n",
      "\n",
      "\n",
      "Загружаем чаты с данными...\n",
      "Данные успешно загружены\n",
      "Начали генерацию SQL запросов\n"
     ]
    },
    {
     "name": "stderr",
     "output_type": "stream",
     "text": [
      "Processed prompts: 100%|██████████| 1534/1534 [00:57<00:00, 26.53it/s, est. speed input: 140562.42 toks/s, output: 1246.07 toks/s] "
     ]
    },
    {
     "name": "stdout",
     "output_type": "stream",
     "text": [
      "extract_think количество ошибок:  0\n",
      "extract_sql количество ошибок:  0\n",
      "Закончили генерацию SQL запросов\n",
      "Начали скорр полученных SQL запросов\n"
     ]
    },
    {
     "name": "stderr",
     "output_type": "stream",
     "text": [
      "\n"
     ]
    },
    {
     "name": "stdout",
     "output_type": "stream",
     "text": [
      "Qwen3-1.7B DEV Финальный результат EX: 48.70\n",
      "Qwen3-1.7B процент запросов, которые успешно выполнились DEV: 83.38%\n",
      "====================================================================================================\n",
      "\n",
      "\n",
      "Загружаем чаты с данными...\n",
      "Данные успешно загружены\n",
      "Начали генерацию SQL запросов\n"
     ]
    },
    {
     "name": "stderr",
     "output_type": "stream",
     "text": [
      "Processed prompts: 100%|██████████| 1534/1534 [00:59<00:00, 25.71it/s, est. speed input: 138402.50 toks/s, output: 1220.92 toks/s] "
     ]
    },
    {
     "name": "stdout",
     "output_type": "stream",
     "text": [
      "extract_think количество ошибок:  0\n",
      "extract_sql количество ошибок:  0\n",
      "Закончили генерацию SQL запросов\n",
      "Начали скорр полученных SQL запросов\n"
     ]
    },
    {
     "name": "stderr",
     "output_type": "stream",
     "text": [
      "\n"
     ]
    },
    {
     "name": "stdout",
     "output_type": "stream",
     "text": [
      "Qwen3-1.7B DEV Финальный результат EX: 48.96\n",
      "Qwen3-1.7B процент запросов, которые успешно выполнились DEV: 82.27%\n",
      "====================================================================================================\n",
      "\n",
      "\n",
      "Загружаем чаты с данными...\n",
      "Данные успешно загружены\n",
      "Начали генерацию SQL запросов\n"
     ]
    },
    {
     "name": "stderr",
     "output_type": "stream",
     "text": [
      "Processed prompts: 100%|██████████| 1534/1534 [00:59<00:00, 25.69it/s, est. speed input: 138691.19 toks/s, output: 1215.97 toks/s] "
     ]
    },
    {
     "name": "stdout",
     "output_type": "stream",
     "text": [
      "extract_think количество ошибок:  0\n",
      "extract_sql количество ошибок:  0\n",
      "Закончили генерацию SQL запросов\n",
      "Начали скорр полученных SQL запросов\n"
     ]
    },
    {
     "name": "stderr",
     "output_type": "stream",
     "text": [
      "\n"
     ]
    },
    {
     "name": "stdout",
     "output_type": "stream",
     "text": [
      "Qwen3-1.7B DEV Финальный результат EX: 48.50\n",
      "Qwen3-1.7B процент запросов, которые успешно выполнились DEV: 82.40%\n",
      "====================================================================================================\n",
      "\n",
      "\n",
      "Загружаем чаты с данными...\n",
      "Данные успешно загружены\n",
      "Начали генерацию SQL запросов\n"
     ]
    },
    {
     "name": "stderr",
     "output_type": "stream",
     "text": [
      "Processed prompts: 100%|██████████| 1534/1534 [00:59<00:00, 25.82it/s, est. speed input: 138794.01 toks/s, output: 1213.75 toks/s] "
     ]
    },
    {
     "name": "stdout",
     "output_type": "stream",
     "text": [
      "extract_think количество ошибок:  0\n",
      "extract_sql количество ошибок:  0\n",
      "Закончили генерацию SQL запросов\n",
      "Начали скорр полученных SQL запросов\n"
     ]
    },
    {
     "name": "stderr",
     "output_type": "stream",
     "text": [
      "\n"
     ]
    },
    {
     "name": "stdout",
     "output_type": "stream",
     "text": [
      "Qwen3-1.7B DEV Финальный результат EX: 48.37\n",
      "Qwen3-1.7B процент запросов, которые успешно выполнились DEV: 81.68%\n",
      "====================================================================================================\n",
      "\n",
      "\n",
      "Загружаем чаты с данными...\n",
      "Данные успешно загружены\n",
      "Начали генерацию SQL запросов\n"
     ]
    },
    {
     "name": "stderr",
     "output_type": "stream",
     "text": [
      "Processed prompts: 100%|██████████| 1534/1534 [00:58<00:00, 26.40it/s, est. speed input: 140136.51 toks/s, output: 1246.52 toks/s] "
     ]
    },
    {
     "name": "stdout",
     "output_type": "stream",
     "text": [
      "extract_think количество ошибок:  0\n",
      "extract_sql количество ошибок:  0\n",
      "Закончили генерацию SQL запросов\n",
      "Начали скорр полученных SQL запросов\n"
     ]
    },
    {
     "name": "stderr",
     "output_type": "stream",
     "text": [
      "\n"
     ]
    },
    {
     "name": "stdout",
     "output_type": "stream",
     "text": [
      "Qwen3-1.7B DEV Финальный результат EX: 47.98\n",
      "Qwen3-1.7B процент запросов, которые успешно выполнились DEV: 80.96%\n",
      "====================================================================================================\n",
      "\n",
      "\n",
      "Загружаем чаты с данными...\n",
      "Данные успешно загружены\n",
      "Начали генерацию SQL запросов\n"
     ]
    },
    {
     "name": "stderr",
     "output_type": "stream",
     "text": [
      "Processed prompts: 100%|██████████| 1534/1534 [00:57<00:00, 26.70it/s, est. speed input: 141437.92 toks/s, output: 1248.85 toks/s] "
     ]
    },
    {
     "name": "stdout",
     "output_type": "stream",
     "text": [
      "extract_think количество ошибок:  0\n",
      "extract_sql количество ошибок:  0\n",
      "Закончили генерацию SQL запросов\n",
      "Начали скорр полученных SQL запросов\n"
     ]
    },
    {
     "name": "stderr",
     "output_type": "stream",
     "text": [
      "\n"
     ]
    },
    {
     "name": "stdout",
     "output_type": "stream",
     "text": [
      "Qwen3-1.7B DEV Финальный результат EX: 48.50\n",
      "Qwen3-1.7B процент запросов, которые успешно выполнились DEV: 81.49%\n",
      "====================================================================================================\n",
      "\n",
      "\n",
      "Загружаем чаты с данными...\n",
      "Данные успешно загружены\n",
      "Начали генерацию SQL запросов\n"
     ]
    },
    {
     "name": "stderr",
     "output_type": "stream",
     "text": [
      "Processed prompts: 100%|██████████| 1534/1534 [00:58<00:00, 26.32it/s, est. speed input: 140301.15 toks/s, output: 1238.93 toks/s] "
     ]
    },
    {
     "name": "stdout",
     "output_type": "stream",
     "text": [
      "extract_think количество ошибок:  0\n",
      "extract_sql количество ошибок:  0\n",
      "Закончили генерацию SQL запросов\n",
      "Начали скорр полученных SQL запросов\n"
     ]
    },
    {
     "name": "stderr",
     "output_type": "stream",
     "text": [
      "\n"
     ]
    },
    {
     "name": "stdout",
     "output_type": "stream",
     "text": [
      "Qwen3-1.7B DEV Финальный результат EX: 47.85\n",
      "Qwen3-1.7B процент запросов, которые успешно выполнились DEV: 80.90%\n",
      "====================================================================================================\n",
      "\n",
      "\n",
      "Загружаем чаты с данными...\n",
      "Данные успешно загружены\n",
      "Начали генерацию SQL запросов\n"
     ]
    },
    {
     "name": "stderr",
     "output_type": "stream",
     "text": [
      "Processed prompts: 100%|██████████| 1534/1534 [00:58<00:00, 26.18it/s, est. speed input: 140646.65 toks/s, output: 1234.83 toks/s]  "
     ]
    },
    {
     "name": "stdout",
     "output_type": "stream",
     "text": [
      "extract_think количество ошибок:  0\n",
      "extract_sql количество ошибок:  0\n",
      "Закончили генерацию SQL запросов\n",
      "Начали скорр полученных SQL запросов\n"
     ]
    },
    {
     "name": "stderr",
     "output_type": "stream",
     "text": [
      "\n"
     ]
    },
    {
     "name": "stdout",
     "output_type": "stream",
     "text": [
      "Qwen3-1.7B DEV Финальный результат EX: 48.24\n",
      "Qwen3-1.7B процент запросов, которые успешно выполнились DEV: 80.44%\n",
      "====================================================================================================\n",
      "\n",
      "\n",
      "Загружаем чаты с данными...\n",
      "Данные успешно загружены\n",
      "Начали генерацию SQL запросов\n"
     ]
    },
    {
     "name": "stderr",
     "output_type": "stream",
     "text": [
      "Processed prompts: 100%|██████████| 1534/1534 [00:58<00:00, 26.06it/s, est. speed input: 140182.60 toks/s, output: 1223.58 toks/s] "
     ]
    },
    {
     "name": "stdout",
     "output_type": "stream",
     "text": [
      "extract_think количество ошибок:  0\n",
      "extract_sql количество ошибок:  0\n",
      "Закончили генерацию SQL запросов\n",
      "Начали скорр полученных SQL запросов\n"
     ]
    },
    {
     "name": "stderr",
     "output_type": "stream",
     "text": [
      "\n"
     ]
    },
    {
     "name": "stdout",
     "output_type": "stream",
     "text": [
      "Qwen3-1.7B DEV Финальный результат EX: 47.85\n",
      "Qwen3-1.7B процент запросов, которые успешно выполнились DEV: 81.29%\n",
      "====================================================================================================\n",
      "\n",
      "\n",
      "Загружаем чаты с данными...\n",
      "Данные успешно загружены\n",
      "Начали генерацию SQL запросов\n"
     ]
    },
    {
     "name": "stderr",
     "output_type": "stream",
     "text": [
      "Processed prompts: 100%|██████████| 1534/1534 [00:58<00:00, 26.24it/s, est. speed input: 139371.94 toks/s, output: 1242.00 toks/s] "
     ]
    },
    {
     "name": "stdout",
     "output_type": "stream",
     "text": [
      "extract_think количество ошибок:  0\n",
      "extract_sql количество ошибок:  0\n",
      "Закончили генерацию SQL запросов\n",
      "Начали скорр полученных SQL запросов\n"
     ]
    },
    {
     "name": "stderr",
     "output_type": "stream",
     "text": [
      "\n"
     ]
    },
    {
     "name": "stdout",
     "output_type": "stream",
     "text": [
      "Qwen3-1.7B DEV Финальный результат EX: 48.70\n",
      "Qwen3-1.7B процент запросов, которые успешно выполнились DEV: 82.86%\n",
      "====================================================================================================\n",
      "\n",
      "\n",
      "Загружаем чаты с данными...\n",
      "Данные успешно загружены\n",
      "Начали генерацию SQL запросов\n"
     ]
    },
    {
     "name": "stderr",
     "output_type": "stream",
     "text": [
      "Processed prompts: 100%|██████████| 1534/1534 [00:57<00:00, 26.76it/s, est. speed input: 140569.28 toks/s, output: 1263.34 toks/s] "
     ]
    },
    {
     "name": "stdout",
     "output_type": "stream",
     "text": [
      "extract_think количество ошибок:  0\n",
      "extract_sql количество ошибок:  0\n",
      "Закончили генерацию SQL запросов\n",
      "Начали скорр полученных SQL запросов\n"
     ]
    },
    {
     "name": "stderr",
     "output_type": "stream",
     "text": [
      "\n"
     ]
    },
    {
     "name": "stdout",
     "output_type": "stream",
     "text": [
      "Qwen3-1.7B DEV Финальный результат EX: 48.44\n",
      "Qwen3-1.7B процент запросов, которые успешно выполнились DEV: 81.81%\n",
      "====================================================================================================\n",
      "\n",
      "\n",
      "Загружаем чаты с данными...\n",
      "Данные успешно загружены\n",
      "Начали генерацию SQL запросов\n"
     ]
    },
    {
     "name": "stderr",
     "output_type": "stream",
     "text": [
      "Processed prompts: 100%|██████████| 1534/1534 [00:57<00:00, 26.72it/s, est. speed input: 140976.13 toks/s, output: 1264.62 toks/s] "
     ]
    },
    {
     "name": "stdout",
     "output_type": "stream",
     "text": [
      "extract_think количество ошибок:  0\n",
      "extract_sql количество ошибок:  0\n",
      "Закончили генерацию SQL запросов\n",
      "Начали скорр полученных SQL запросов\n"
     ]
    },
    {
     "name": "stderr",
     "output_type": "stream",
     "text": [
      "\n"
     ]
    },
    {
     "name": "stdout",
     "output_type": "stream",
     "text": [
      "Qwen3-1.7B DEV Финальный результат EX: 48.63\n",
      "Qwen3-1.7B процент запросов, которые успешно выполнились DEV: 82.79%\n",
      "====================================================================================================\n",
      "\n",
      "\n",
      "Загружаем чаты с данными...\n",
      "Данные успешно загружены\n",
      "Начали генерацию SQL запросов\n"
     ]
    },
    {
     "name": "stderr",
     "output_type": "stream",
     "text": [
      "Processed prompts: 100%|██████████| 1534/1534 [00:58<00:00, 26.20it/s, est. speed input: 138823.63 toks/s, output: 1234.41 toks/s] "
     ]
    },
    {
     "name": "stdout",
     "output_type": "stream",
     "text": [
      "extract_think количество ошибок:  0\n",
      "extract_sql количество ошибок:  0\n",
      "Закончили генерацию SQL запросов\n",
      "Начали скорр полученных SQL запросов\n"
     ]
    },
    {
     "name": "stderr",
     "output_type": "stream",
     "text": [
      "\n"
     ]
    },
    {
     "name": "stdout",
     "output_type": "stream",
     "text": [
      "Qwen3-1.7B DEV Финальный результат EX: 47.13\n",
      "Qwen3-1.7B процент запросов, которые успешно выполнились DEV: 80.90%\n",
      "====================================================================================================\n",
      "\n",
      "\n"
     ]
    }
   ],
   "source": [
    "run_cot_experiment(model,arr_seeds,arr_versions, type_cot,num_observations=num_observations)"
   ]
  },
  {
   "cell_type": "code",
   "execution_count": 15,
   "id": "91935ea9-35a9-44aa-9e58-6390439df74f",
   "metadata": {},
   "outputs": [
    {
     "name": "stdout",
     "output_type": "stream",
     "text": [
      "[550, 215, 506, 59, 422, 62, 442, 396, 817, 244, 106, 833, 194, 885, 203, 514, 201, 330, 329, 403]\n",
      "model: Qwen3-1.7B\n"
     ]
    }
   ],
   "source": [
    "n= 20\n",
    "arr_seeds = [random.randint(0,1000) for _ in range(n)]\n",
    "arr_versions = [x for x in range(n)]\n",
    "model =\"Qwen3-1.7B\"\n",
    "num_observations = 4\n",
    "type_cot = 'think'\n",
    "print(arr_seeds)\n",
    "print(f\"model: {model}\")"
   ]
  },
  {
   "cell_type": "code",
   "execution_count": 16,
   "id": "a29f1083-de0f-4092-8479-ac68ef1c2d4a",
   "metadata": {
    "scrolled": true
   },
   "outputs": [
    {
     "name": "stdout",
     "output_type": "stream",
     "text": [
      "Загружаем модель...\n"
     ]
    },
    {
     "name": "stderr",
     "output_type": "stream",
     "text": [
      "Loading safetensors checkpoint shards:   0% Completed | 0/2 [00:00<?, ?it/s]\n",
      "Loading safetensors checkpoint shards:  50% Completed | 1/2 [00:01<00:01,  1.21s/it]\n",
      "Loading safetensors checkpoint shards: 100% Completed | 2/2 [00:01<00:00,  1.59it/s]\n",
      "\u001b[1;36m(VllmWorker rank=0 pid=3196589)\u001b[0;0m \n"
     ]
    },
    {
     "name": "stdout",
     "output_type": "stream",
     "text": [
      "Модель успешно загружена\n",
      "model_config {'model': '/data/home/vkropoti/models/Qwen3-1.7B', 'tensor_parallel_size': 2, 'max_model_len': 40000, 'max_new_tokens': 1500, 'temperature': 0, 'top_k': 1, 'top_p': 0.8, 'gpu_memory_utilization': 0.9, 'trust_remote_code': False, 'seed': 550}\n",
      "\n",
      "prompts_config {'path_dev_json': '/home/vkropoti/vllm/dev.json', 'path_sql_dbs': '/data/home/vkropoti/sql_data/dev_databases/', 'use_reasoning': False, 'paths_to_cot': ['/data/home/vkropoti/sql_llm_answers/bird_dev_m_schema/sql_think_Qwen3-1.7B-reasoning-v0', '/data/home/vkropoti/sql_llm_answers/bird_dev_m_schema/sql_think_Qwen3-1.7B-reasoning-v1', '/data/home/vkropoti/sql_llm_answers/bird_dev_m_schema/sql_think_Qwen3-1.7B-reasoning-v2', '/data/home/vkropoti/sql_llm_answers/bird_dev_m_schema/sql_think_Qwen3-1.7B-reasoning-v3']}\n",
      "\n",
      "save_config {'path_sql_save': '/data/home/vkropoti/sql_llm_answers/bird_dev_m_schema/sql_all_Qwen3-1.7B-cot_think_think==False_nobs4-v0', 'path_think_save': None, 'path_sql_answers_save': '/data/home/vkropoti/sql_llm_answers/bird_dev_m_schema/sql_predict_Qwen3-1.7B-cot_think_think==False_nobs4-v0', 'path_to_save_scores': '/data/home/vkropoti/sql_llm_answers/bird_dev_m_schema/sql_results_Qwen3-1.7B-cot_think_think==False_nobs4-v0', 'path_to_save_executed': '/data/home/vkropoti/sql_llm_answers/bird_dev_m_schema/sql_executed_Qwen3-1.7B-cot_think_think==False_nobs4-v0'}\n",
      "\n",
      "Модель успешно загружена\n",
      "Пример промпта\n",
      "<|im_start|>system\n",
      "\n",
      "You are a data science expert. Below, you are provided with a database schema and a natural language question. Your task is to understand the schema and generate a valid SQL query to answer the question.\n",
      "\n",
      "Database Engine: SQLite\n",
      "\n",
      "You will be given an additional analysis of other models, please take it into account, so the plan is\n",
      "1. Analyse given addition analysis from other models (find in which analysis the same and differ, how to use that to answer question)\n",
      "2. Combine best from previous part and think how to solve the problem (analyze tables, take care what columns avaliable in each table and so on, check the syntacsis)\n",
      "3. Create the answers. The answer should be only sql query.\n",
      "\n",
      "Carefully follow the instruction and add <|im_end|> and the end of the final answer<|im_end|>\n",
      "<|im_start|>user\n",
      "Here is addition analysis from other models which can be helpfull, please take this into account but be careful (choose the best from each analysis, combine them to make the most proper answer):\n",
      "\n",
      "model 0 analysis:\n",
      " Okay, let's tackle this question step by step. The user wants the highest eligible free rate for K-12 students in Alameda County. \n",
      "\n",
      "First, I need to figure out which tables are involved. The eligible free rate is calculated as Free Meal Count (K-12) divided by Enrollment (K-12). So I need data from the frpm table. But the frpm table has the Free Meal Count and Enrollment values. However, the schools table has the County information, so I need to join the schools table with the frpm table on the CDSCode.\n",
      "\n",
      "Wait, the foreign keys are frpm.CDSCode = schools.CDSCode and satscores.cds = schools.CDSCode. So the schools table has the CDSCode, which is linked to frpm. So the plan is to join schools with frpm on CDSCode, filter where the County is 'Alameda County', then calculate the ratio.\n",
      "\n",
      "But wait, the schools table's County column has examples like 'Alameda', 'Alpine', etc. So the County column is a TEXT field. So I need to check if the County is 'Alameda' exactly. But maybe the actual county names might have spaces or different formats. However, the examples given in the schools table's County column are 'Alameda', so assuming that 'Alameda' is the correct value.\n",
      "\n",
      "So the steps are:\n",
      "\n",
      "1. Join schools and frpm on CDSCode.\n",
      "2. Filter where schools.County = 'Alameda'.\n",
      "3. Calculate Free Meal Count (K-12) / Enrollment (K-12) for each school.\n",
      "4. Find the maximum value of this ratio.\n",
      "\n",
      "But the question says \"highest eligible free rate\", so we need the maximum value from the calculated ratio.\n",
      "\n",
      "Now, the SQL query would need to select the maximum of (Free Meal Count (K-12) / Enrollment (K-12)) from the joined tables where County is 'Alameda'.\n",
      "\n",
      "But wait, the frpm table has the Free Meal Count (K-12) as a REAL number and Enrollment (K-12) as a REAL number. So the division would be done in the query.\n",
      "\n",
      "So the SQL query would be:\n",
      "\n",
      "SELECT MAX(Free Meal Count (K-12) / Enrollment (K-12)) FROM schools JOIN frpm ON schools.CDSCode = frpm.CDSCode WHERE schools.County = 'Alameda';\n",
      "\n",
      "But need to check if the County is exactly 'Alameda' or if there's a need to use a LIKE clause. The examples given in the schools table's County column are 'Alameda', so it's likely that the exact value is 'Alameda'. However, in practice, sometimes counties might have different names, but based on the given data, we can assume that.\n",
      "\n",
      "Another thing: the schools table has a District column, but the County is the primary field here. So the JOIN is on CDSCode, which is the same in both tables.\n",
      "\n",
      "So the final query would be as above. But need to make sure that the columns are correctly referenced. The frpm table has Free Meal Count (K-12) as a column, and Enrollment (K-12) as another column. So the division is between those two.\n",
      "\n",
      "Therefore, the SQL query should select the maximum of that ratio from the joined tables where the county is Alameda.\n",
      "\n",
      "model 1 analysis:\n",
      " Okay, let's tackle this question. The user wants the highest eligible free rate for K-12 students in Alameda County. \n",
      "\n",
      "First, I need to figure out which tables are involved. The relevant tables here are 'frpm' and 'schools' because the 'frpm' table has the eligible free rates and the 'schools' table has the county information. \n",
      "\n",
      "The 'schools' table has a 'County' column, and we need to filter for Alameda County. So, I'll start by joining the 'schools' table with the 'frpm' table on the 'CDSCode' since that's the primary key link. \n",
      "\n",
      "Next, the eligible free rate is calculated as Free Meal Count (K-12) divided by Enrollment (K-12). But wait, the question specifies K-12 students, so I need to make sure that the rows in frpm are for K-12. The 'Low Grade' and 'High Grade' columns in frpm might indicate the grade levels, but the question is specifically about K-12. So maybe the 'Low Grade' is K, and the 'High Grade' is 12. But the user might just want the rate for K-12 students, so perhaps we can assume that the rows in frpm where Low Grade is 'K' and High Grade is '12' are the ones we need. However, the problem statement says \"K-12 students,\" so maybe we need to check if the frpm data includes that. But the user's question doesn't specify filtering by grade, just K-12. So perhaps the frpm table's rows are already for K-12, or we need to check the data.\n",
      "\n",
      "But since the question is about K-12, maybe the frpm table's rows are for K-12. However, the 'Low Grade' and 'High Grade' columns might not be directly relevant here. The user's question is about the highest eligible free rate for K-12 students, so the frpm table's rows where the school is in Alameda County and the grade levels are K-12. But the problem is that the 'frpm' table's 'Low Grade' is 'K' and 'High Grade' is '12', so perhaps we need to filter where Low Grade is 'K' and High Grade is '12'.\n",
      "\n",
      "But the user's question might not require that, since the question is about K-12 students in general. However, the data might have entries for K-12, so perhaps we can just use the frpm table's rows where the school is in Alameda County. \n",
      "\n",
      "Wait, the 'schools' table has a 'County' column, so we need to join on that. So the plan is: join schools and frpm on CDSCode, filter where County is 'Alameda', then calculate the eligible free rate as Free Meal Count (K-12) / Enrollment (K-12), and find the maximum value.\n",
      "\n",
      "But the user's question says \"highest eligible free rate for K-12 students in the schools in Alameda County\". So the steps are:\n",
      "\n",
      "1. Join schools and frpm on CDSCode.\n",
      "2. Filter schools where County is 'Alameda'.\n",
      "3. Calculate the eligible free rate for K-12 students (Free Meal Count (K-12) / Enrollment (K-12)).\n",
      "4. Find the maximum value of this rate.\n",
      "\n",
      "But the problem is that the frpm table's 'Low Grade' and 'High Grade' might not be directly relevant here. However, the question is about K-12 students, so maybe the frpm table's rows are for K-12. Alternatively, the 'Low Grade' is 'K' and 'High Grade' is '12', so the rows where Low Grade is 'K' and High Grade is '12' are for K-12. Therefore, we need to filter those rows.\n",
      "\n",
      "So the query would be:\n",
      "\n",
      "SELECT MAX( (Free Meal Count (K-12) / Enrollment (K-12)) ) AS highest_rate\n",
      "FROM frpm\n",
      "JOIN schools ON frpm.CDSCode = schools.CDSCode\n",
      "WHERE schools.County = 'Alameda' AND frpm.Low Grade = 'K' AND frpm.High Grade = '12';\n",
      "\n",
      "But the user's question might not require checking the grade levels, just the K-12 students. However, the data might not have entries for K-12. But the problem says \"K-12 students\", so perhaps the frpm table's rows are for K-12. But the 'Low Grade' and 'High Grade' columns are part of the frpm table. So the correct approach is to check those columns.\n",
      "\n",
      "But the user's question is phrased as \"highest eligible free rate for K-12 students in the schools in Alameda County\". So the answer would require that the frpm data includes K-12 students. Therefore, the query would need to filter where Low Grade is 'K' and High Grade is '12'.\n",
      "\n",
      "But the user might not have that data. However, based on the schema, the frpm table's columns include Low Grade and High Grade, so the answer must consider those.\n",
      "\n",
      "So the final SQL query would be:\n",
      "\n",
      "SELECT MAX( (Free Meal Count (K-12) / Enrollment (K-12)) ) AS highest_rate\n",
      "FROM frpm\n",
      "JOIN schools ON frpm.CDSCode = schools.CDSCode\n",
      "WHERE schools.County = 'Alameda' AND frpm.Low Grade = 'K' AND frpm.High Grade = '12';\n",
      "\n",
      "But the problem is that in SQLite, the column names are in quotes. Also, the user wants only the column in the SELECT clause, which is the highest rate. So the query should select the maximum of that rate.\n",
      "\n",
      "But the question might not require the actual values, just the maximum. So the query would be as above.\n",
      "\n",
      "Wait, but the user's question is to get the highest eligible free rate. So the SQL would be to select the maximum of (Free Meal Count (K-12)/Enrollment (K-12)) where the school is in Alameda County and the grade levels are K-12.\n",
      "\n",
      "Therefore, the correct query is as above.\n",
      "\n",
      "model 2 analysis:\n",
      " Okay, let's tackle this question. The user wants the highest eligible free rate for K-12 students in Alameda County. \n",
      "\n",
      "First, I need to figure out which tables are involved. The relevant tables here are 'schools' and 'frpm' because they have the CDSCode and County information. The 'satscores' table might not be necessary here since the question is about free meal counts and enrollments.\n",
      "\n",
      "The 'schools' table has the County field, so I can filter for County = 'Alameda'. The 'frpm' table has 'County Name' and 'Enrollment (K-12)', 'Free Meal Count (K-12)', and 'Percent (%) Eligible Free (K-12)' columns. \n",
      "\n",
      "Wait, the 'frpm' table's 'County Name' might have the county names, but the 'schools' table's 'County' field is a TEXT field. So I need to join the two tables on schools.CDSCode = frpm.CDSCode. Then, filter where schools.County = 'Alameda'.\n",
      "\n",
      "But the question is about the highest eligible free rate. So I need to calculate the percentage from the 'Percent (%) Eligible Free (K-12)' column. Then, find the maximum value among those that are in Alameda County.\n",
      "\n",
      "So the steps are: join schools and frpm on CDSCode, filter where County is 'Alameda', select the Percent column, order by it descending, limit 1.\n",
      "\n",
      "Wait, but the 'frpm' table has 'Percent (%) Eligible Free (K-12)' as a column. So the SQL would be:\n",
      "\n",
      "SELECT MAX(Percent (%) Eligible Free (K-12)) FROM frpm JOIN schools ON frpm.CDSCode = schools.CDSCode WHERE schools.County = 'Alameda';\n",
      "\n",
      "But I need to make sure that the column names are correct. The 'frpm' table has 'Percent (%) Eligible Free (K-12)' as a column, so that's correct. The 'schools' table has 'County' as a column. \n",
      "\n",
      "But the question says \"schools in Alameda County\", so the 'schools' table's County must be 'Alameda'. \n",
      "\n",
      "So the final query would be joining the two tables on CDSCode, filtering the County, then selecting the max of the eligible free rate. \n",
      "\n",
      "But wait, the user wants the highest rate, so MAX() is correct. \n",
      "\n",
      "I need to make sure that the columns are correctly referenced. Also, the 'frpm' table's 'County Name' might have the county name, but the 'schools' table's 'County' is the one to filter. So the join is correct.\n",
      "\n",
      "So the SQL query would be:\n",
      "\n",
      "SELECT MAX(Percent (%) Eligible Free (K-12)) FROM frpm JOIN schools ON frpm.CDSCode = schools.CDSCode WHERE schools.County = 'Alameda';\n",
      "\n",
      "model 3 analysis:\n",
      " Okay, let's tackle this question. The user wants the highest eligible free rate for K-12 students in Alameda County. \n",
      "\n",
      "First, I need to figure out which tables are involved. The relevant tables here are 'frpm' and 'schools' because the 'frpm' table has the eligible free rates and the 'schools' table has the county information. \n",
      "\n",
      "The 'schools' table has a 'County' column, and we need to filter for Alameda County. So, I'll start by joining the 'schools' table with the 'frpm' table on the 'CDSCode' since that's the primary key link. \n",
      "\n",
      "Next, the eligible free rate is calculated as Free Meal Count (K-12) divided by Enrollment (K-12). But wait, the question specifies K-12 students, so I need to make sure that the rows in frpm are for K-12. The 'Low Grade' and 'High Grade' columns in frpm might indicate the grade levels, but the question is specifically about K-12. So maybe the 'Low Grade' is K, and the 'High Grade' is 12. But the user might just want the rate for K-12 students, so perhaps we can assume that the rows in frpm where Low Grade is 'K' and High Grade is '12' are the ones we need. However, the problem statement says \"K-12 students,\" so maybe the frpm table's data already covers that. But to be safe, maybe we need to filter where Low Grade is 'K' and High Grade is '12'. \n",
      "\n",
      "Wait, the user's question says \"for K-12 students,\" so the frpm data should have entries for K-12. But the 'frpm' table's columns have 'Low Grade' and 'High Grade' as TEXT. So maybe the rows where Low Grade is 'K' and High Grade is '12' are the K-12 students. So I need to filter those rows. \n",
      "\n",
      "So the query would join schools and frpm on CDSCode, filter schools where County is 'Alameda', and then filter frpm where Low Grade is 'K' and High Grade is '12'. Then calculate the percentage (Free Meal Count (K-12) / Enrollment (K-12)) and find the maximum value. \n",
      "\n",
      "But the user wants the highest eligible free rate, so after joining and filtering, I need to compute the percentage and select the maximum. \n",
      "\n",
      "Wait, the question says \"the highest eligible free rate for K-12 students in the schools in Alameda County.\" So the steps are:\n",
      "\n",
      "1. Join schools and frpm on CDSCode.\n",
      "2. Filter schools where County is 'Alameda'.\n",
      "3. Filter frpm where Low Grade is 'K' and High Grade is '12'.\n",
      "4. Calculate the percentage (Free Meal Count (K-12) / Enrollment (K-12)).\n",
      "5. Find the maximum value of this percentage.\n",
      "\n",
      "So the SQL query would select the maximum of the calculated percentage from the joined tables. \n",
      "\n",
      "But how to structure this in SQL. Let's see. The tables are 'schools' and 'frpm'. The join is on schools.CDSCode = frpm.CDSCode. \n",
      "\n",
      "So the query would be:\n",
      "\n",
      "SELECT MAX( (frpm.Free Meal Count (K-12) / frpm.Enrollment (K-12)) * 100 ) AS highest_rate\n",
      "FROM schools\n",
      "JOIN frpm ON schools.CDSCode = frpm.CDSCode\n",
      "WHERE schools.County = 'Alameda' AND frpm.Low Grade = 'K' AND frpm.High Grade = '12';\n",
      "\n",
      "Wait, but the columns in the frpm table are named with quotes. The user specified that the columns should be in quotes. So the column names in the frpm table are like 'Free Meal Count (K-12)' and 'Enrollment (K-12)'. So the correct column names in the SQL query would be with quotes. \n",
      "\n",
      "So the query would be:\n",
      "\n",
      "SELECT MAX( (frpm.Free Meal Count (K-12) / frpm.Enrollment (K-12)) ) AS highest_rate\n",
      "FROM schools\n",
      "JOIN frpm ON schools.CDSCode = frpm.CDSCode\n",
      "WHERE schools.County = 'Alameda' AND frpm.Low Grade = 'K' AND frpm.High Grade = '12';\n",
      "\n",
      "But the question says \"highest eligible free rate\" which is the percentage. So the calculation is (Free Meal Count / Enrollment) * 100? Or is it (Free Meal Count / Enrollment) as a percentage? The user's external knowledge says Eligible free rate is Free Meal Count / Enrollment. But the question says \"Percent (%) Eligible Free (K-12)\" in the frpm table. So the actual value in the frpm table is the percentage. So maybe the value is already in percentage, so we don't need to multiply by 100. Wait, the example for Percent (%) Eligible Free (K-12) is [0.519779208831647, 0.470886075949367, 0.549180327868853]. So these are decimal numbers, not percentages. So the actual value is the percentage as a decimal. So the user's question says \"highest eligible free rate\" which is the value in the frpm table, which is already in percentage. So the calculation is just selecting the maximum of that value. \n",
      "\n",
      "Wait, but the user's external knowledge says Eligible free rate is Free Meal Count / Enrollment. But the frpm table has the Percent (%) Eligible Free (K-12) as a decimal. So perhaps the value in frpm is already the percentage. So the query would just select the maximum of that column. \n",
      "\n",
      "But the user's question is asking for the highest eligible free rate, which is the value in the Percent (%) Eligible Free (K-12) column. So the correct query is to select the maximum of that column where the conditions are met. \n",
      "\n",
      "So the query would be:\n",
      "\n",
      "SELECT MAX(Percent (%) Eligible Free (K-12)) \n",
      "FROM frpm\n",
      "JOIN schools ON frpm.CDSCode = schools.CDSCode\n",
      "WHERE schools.County = 'Alameda' AND frpm.Low Grade = 'K' AND frpm.High Grade = '12';\n",
      "\n",
      "But the user wants the answer in the correct format. Also, the columns in the frpm table are named with quotes. So in the SQL query, the column names must be in quotes. \n",
      "\n",
      "So the final query would be:\n",
      "\n",
      "SELECT MAX(Percent (%) Eligible Free (K-12)) \n",
      "FROM schools \n",
      "JOIN frpm ON schools.CDSCode = frpm.CDSCode \n",
      "WHERE schools.County = 'Alameda' AND frpm.Low Grade = 'K' AND frpm.High Grade = '12';\n",
      "\n",
      "But the user might have the columns in the frpm table as 'Free Meal Count (K-12)' and 'Enrollment (K-12)', but the question is about the Percent (%) Eligible Free (K-12) column. So the query would select that column. \n",
      "\n",
      "So the correct SQL is:\n",
      "\n",
      "SELECT MAX(Percent (%) Eligible Free (K-12)) \n",
      "FROM schools \n",
      "JOIN frpm ON schools.CDSCode = frpm.CDSCode \n",
      "WHERE schools.County = 'Alameda' AND frpm.Low Grade = 'K' AND frpm.High Grade = '12';\n",
      "\n",
      "But the problem says that the user wants the highest eligible free rate, which is the maximum of that column. \n",
      "\n",
      "So the final answer is that SQL query.\n",
      "\n",
      "\n",
      "here is avaliable tables and their structure below\n",
      "【DB_ID】 california_schools\n",
      "【Schema】\n",
      "# Table: frpm\n",
      "[\n",
      "(CDSCode:TEXT, maps to schools.CDSCode, Primary Key, Examples: [01100170109835, 01100170112607, 01100170118489]),\n",
      "(Academic Year:TEXT, Examples: [2014-2015]),\n",
      "(County Code:TEXT, Examples: [01, 02, 03]),\n",
      "(District Code:INTEGER, Examples: [10017, 31609, 31617]),\n",
      "(School Code:TEXT, Examples: [0109835, 0112607, 0118489]),\n",
      "(County Name:TEXT, Examples: [Alameda, Alpine, Amador]),\n",
      "(District Name:TEXT),\n",
      "(School Name:TEXT, Examples: [FAME Public Charter]),\n",
      "(District Type:TEXT, Examples: [County Office of Education (COE)]),\n",
      "(School Type:TEXT, Examples: [K-12 Schools (Public)]),\n",
      "(Educational Option Type:TEXT, Examples: [Traditional]),\n",
      "(NSLP Provision Status:TEXT, Examples: [Breakfast Provision 2]),\n",
      "(Charter School (Y/N):INTEGER, Examples: [1, 0]),\n",
      "(Charter School Number:TEXT, Examples: [0728, 0811, 1049]),\n",
      "(Charter Funding Type:TEXT, Examples: [Directly funded]),\n",
      "(IRC:INTEGER, Examples: [1, 0]),\n",
      "(Low Grade:TEXT, Examples: [K, 9, 1]),\n",
      "(High Grade:TEXT, Examples: [12, 8, 5]),\n",
      "(Enrollment (K-12):REAL, Examples: [1087.0, 395.0, 244.0]),\n",
      "(Free Meal Count (K-12):REAL, Examples: [565.0, 186.0, 134.0]),\n",
      "(Percent (%) Eligible Free (K-12):REAL, Examples: [0.519779208831647, 0.470886075949367, 0.549180327868853]),\n",
      "(FRPM Count (K-12):REAL, Examples: [715.0, 186.0, 175.0]),\n",
      "(Percent (%) Eligible FRPM (K-12):REAL, Examples: [0.657773689052438, 0.470886075949367, 0.717213114754098]),\n",
      "(Enrollment (Ages 5-17):REAL, Examples: [1070.0, 376.0, 230.0]),\n",
      "(Free Meal Count (Ages 5-17):REAL, Examples: [553.0, 182.0, 128.0]),\n",
      "(Percent (%) Eligible Free (Ages 5-17):REAL, Examples: [0.516822429906542, 0.484042553191489, 0.556521739130435]),\n",
      "(FRPM Count (Ages 5-17):REAL, Examples: [702.0, 182.0, 168.0]),\n",
      "(Percent (%) Eligible FRPM (Ages 5-17):REAL, Examples: [0.65607476635514, 0.484042553191489, 0.730434782608696]),\n",
      "(2013-14 CALPADS Fall 1 Certification Status:INTEGER, Examples: [1])\n",
      "]\n",
      "# Table: satscores\n",
      "[\n",
      "(cds:TEXT, maps to schools.CDSCode, Primary Key, Examples: [10101080000000, 10101080109991, 10101080111682]),\n",
      "(rtype:TEXT, Examples: [D, S]),\n",
      "(sname:TEXT, Examples: [FAME Public Charter]),\n",
      "(dname:TEXT, Examples: [Alameda County Office of Education]),\n",
      "(cname:TEXT, Examples: [Alameda, Amador, Butte]),\n",
      "(enroll12:INTEGER, Examples: [398, 62, 75]),\n",
      "(NumTstTakr:INTEGER, Examples: [88, 17, 71]),\n",
      "(AvgScrRead:INTEGER, Examples: [418, 503, 397]),\n",
      "(AvgScrMath:INTEGER, Examples: [418, 546, 387]),\n",
      "(AvgScrWrite:INTEGER, Examples: [417, 505, 395]),\n",
      "(NumGE1500:INTEGER, Examples: [14, 9, 5])\n",
      "]\n",
      "# Table: schools\n",
      "[\n",
      "(CDSCode:TEXT, Primary Key, Examples: [01100170000000, 01100170109835, 01100170112607]),\n",
      "(NCESDist:TEXT, Examples: [0691051, 0600002, 0600003]),\n",
      "(NCESSchool:TEXT, Examples: [10546, 10947, 12283]),\n",
      "(StatusType:TEXT, Examples: [Active, Closed, Merged]),\n",
      "(County:TEXT, Examples: [Alameda, Alpine, Amador]),\n",
      "(District:TEXT),\n",
      "(School:TEXT, Examples: [FAME Public Charter]),\n",
      "(Street:TEXT, Examples: [313 West Winton Avenue]),\n",
      "(StreetAbr:TEXT, Examples: [313 West Winton Ave.]),\n",
      "(City:TEXT, Examples: [Hayward, Newark, Oakland]),\n",
      "(Zip:TEXT, Examples: [94544-1136, 94560-5359, 94612-3355]),\n",
      "(State:TEXT, Examples: [CA]),\n",
      "(MailStreet:TEXT, Examples: [313 West Winton Avenue]),\n",
      "(MailStrAbr:TEXT, Examples: [313 West Winton Ave.]),\n",
      "(MailCity:TEXT, Examples: [Hayward, Newark, Oakland]),\n",
      "(MailZip:TEXT, Examples: [94544-1136, 94560-5359, 94612]),\n",
      "(MailState:TEXT, Examples: [CA]),\n",
      "(Phone:TEXT, Examples: [(510) 887-0152, (510) 596-8901, (510) 686-4131]),\n",
      "(Ext:TEXT, Examples: [130, 1240, 1200]),\n",
      "(Website:TEXT, Examples: [www.acoe.org]),\n",
      "(OpenDate:DATE, Examples: [2005-08-29]),\n",
      "(ClosedDate:DATE, Examples: [2015-07-31]),\n",
      "(Charter:INTEGER, Examples: [1, 0]),\n",
      "(CharterNum:TEXT, Examples: [0728, 0811, 1049]),\n",
      "(FundingType:TEXT, Examples: [Directly funded]),\n",
      "(DOC:TEXT, Examples: [00, 31, 34]),\n",
      "(DOCType:TEXT, Examples: [County Office of Education (COE)]),\n",
      "(SOC:TEXT, Examples: [65, 66, 60]),\n",
      "(SOCType:TEXT, Examples: [K-12 Schools (Public)]),\n",
      "(EdOpsCode:TEXT, Examples: [TRAD, JUV, COMM]),\n",
      "(EdOpsName:TEXT, Examples: [Traditional]),\n",
      "(EILCode:TEXT, Examples: [ELEMHIGH, HS, ELEM]),\n",
      "(EILName:TEXT, Examples: [Elementary-High Combination]),\n",
      "(GSoffered:TEXT, Examples: [K-12, 9-12, K-8]),\n",
      "(GSserved:TEXT, Examples: [K-12, 9-12, K-7]),\n",
      "(Virtual:TEXT, Examples: [P, N, F]),\n",
      "(Magnet:INTEGER, Examples: [0, 1]),\n",
      "(Latitude:REAL, Examples: [37.658212, 37.521436, 37.80452]),\n",
      "(Longitude:REAL, Examples: [-122.09713, -121.99391, -122.26815]),\n",
      "(AdmFName1:TEXT, Examples: [L Karen, Laura, Clifford]),\n",
      "(AdmLName1:TEXT, Examples: [Monroe, Robell, Thompson]),\n",
      "(AdmEmail1:TEXT),\n",
      "(AdmFName2:TEXT, Examples: [Sau-Lim (Lance), Jennifer, Annalisa]),\n",
      "(AdmLName2:TEXT, Examples: [Tsang, Koelling, Moore]),\n",
      "(AdmEmail2:TEXT),\n",
      "(AdmFName3:TEXT, Examples: [Drew, Irma, Vickie]),\n",
      "(AdmLName3:TEXT, Examples: [Sarratore, Munoz, Chang]),\n",
      "(AdmEmail3:TEXT),\n",
      "(LastUpdate:DATE, Examples: [2015-06-23])\n",
      "]\n",
      "【Foreign keys】\n",
      "frpm.CDSCode=schools.CDSCode\n",
      "satscores.cds=schools.CDSCode\n",
      "\n",
      "-- Using valid SQLite and understanding External Knowledge, answer the following questions for the tables provided above.\n",
      "-- What is the highest eligible free rate for K-12 students in the schools in Alameda County?\n",
      "-- External Knowledge: Eligible free rate for K-12 = `Free Meal Count (K-12)` / `Enrollment (K-12)`\n",
      "\n",
      "\n",
      "Generate the SQLite for the above question after thinking step by step: \n",
      "\n",
      "\n",
      "Instructions:\n",
      "- Make sure you only output the information that is asked in the question. If the question asks for a specific column, make sure to only include that column in the SELECT clause, nothing more.\n",
      "- The generated query should return all of the information asked in the question without any missing or extra information.\n",
      "- Before generating the final SQL query, please think through the steps of how to write the query.\n",
      "- Do not misuse column names, keep them in quotes `\n",
      "- Carefully understand what colomns belond to what tables\n",
      "- Use only initial column names, change names prohibited\n",
      "        \n",
      "Output Format:\n",
      "In your answer, please enclose the generated SQL query in a code block:\n",
      "```\n",
      "-- Your SQL query\n",
      "```    \n",
      "and nothing else, no exaplains, no comments (asnwer should be less than 512 characters)\n",
      "\n",
      "Take a deep breath and think step by step to find the correct SQL query in SQLite format.\n",
      "\n",
      "Question repetition: What is the highest eligible free rate for K-12 students in the schools in Alameda County?\n",
      "\n",
      "Be care! Include only what i want it questiona and nothing else<|im_end|>\n",
      "<|im_start|>assistant\n",
      "<think>\n",
      "\n",
      "</think>\n",
      "\n",
      "\n",
      "\n",
      "\n",
      "Максимальное количество токенов в промптах: 23418\n",
      "\n",
      "начинаем скорринг\n",
      "Загружаем чаты с данными...\n",
      "Данные успешно загружены\n",
      "Начали генерацию SQL запросов\n"
     ]
    },
    {
     "name": "stderr",
     "output_type": "stream",
     "text": [
      "Processed prompts: 100%|██████████| 1534/1534 [01:08<00:00, 22.48it/s, est. speed input: 138049.96 toks/s, output: 1060.26 toks/s]  "
     ]
    },
    {
     "name": "stdout",
     "output_type": "stream",
     "text": [
      "extract_think количество ошибок:  0\n",
      "extract_sql количество ошибок:  0\n",
      "Закончили генерацию SQL запросов\n",
      "Начали скорр полученных SQL запросов\n"
     ]
    },
    {
     "name": "stderr",
     "output_type": "stream",
     "text": [
      "\n"
     ]
    },
    {
     "name": "stdout",
     "output_type": "stream",
     "text": [
      "Qwen3-1.7B DEV Финальный результат EX: 47.98\n",
      "Qwen3-1.7B процент запросов, которые успешно выполнились DEV: 82.20%\n",
      "====================================================================================================\n",
      "\n",
      "\n",
      "Загружаем чаты с данными...\n",
      "Данные успешно загружены\n",
      "Начали генерацию SQL запросов\n"
     ]
    },
    {
     "name": "stderr",
     "output_type": "stream",
     "text": [
      "Processed prompts: 100%|██████████| 1534/1534 [01:08<00:00, 22.49it/s, est. speed input: 137324.54 toks/s, output: 1056.82 toks/s] "
     ]
    },
    {
     "name": "stdout",
     "output_type": "stream",
     "text": [
      "extract_think количество ошибок:  0\n",
      "extract_sql количество ошибок:  0\n",
      "Закончили генерацию SQL запросов\n",
      "Начали скорр полученных SQL запросов\n"
     ]
    },
    {
     "name": "stderr",
     "output_type": "stream",
     "text": [
      "\n"
     ]
    },
    {
     "name": "stdout",
     "output_type": "stream",
     "text": [
      "Qwen3-1.7B DEV Финальный результат EX: 48.37\n",
      "Qwen3-1.7B процент запросов, которые успешно выполнились DEV: 81.16%\n",
      "====================================================================================================\n",
      "\n",
      "\n",
      "Загружаем чаты с данными...\n",
      "Данные успешно загружены\n",
      "Начали генерацию SQL запросов\n"
     ]
    },
    {
     "name": "stderr",
     "output_type": "stream",
     "text": [
      "Processed prompts: 100%|██████████| 1534/1534 [01:09<00:00, 22.21it/s, est. speed input: 136626.27 toks/s, output: 1042.90 toks/s]  "
     ]
    },
    {
     "name": "stdout",
     "output_type": "stream",
     "text": [
      "extract_think количество ошибок:  0\n",
      "extract_sql количество ошибок:  0\n",
      "Закончили генерацию SQL запросов\n",
      "Начали скорр полученных SQL запросов\n"
     ]
    },
    {
     "name": "stderr",
     "output_type": "stream",
     "text": [
      "\n"
     ]
    },
    {
     "name": "stdout",
     "output_type": "stream",
     "text": [
      "Qwen3-1.7B DEV Финальный результат EX: 48.11\n",
      "Qwen3-1.7B процент запросов, которые успешно выполнились DEV: 81.49%\n",
      "====================================================================================================\n",
      "\n",
      "\n",
      "Загружаем чаты с данными...\n",
      "Данные успешно загружены\n",
      "Начали генерацию SQL запросов\n"
     ]
    },
    {
     "name": "stderr",
     "output_type": "stream",
     "text": [
      "Processed prompts: 100%|██████████| 1534/1534 [01:11<00:00, 21.37it/s, est. speed input: 135312.18 toks/s, output: 1009.01 toks/s]  "
     ]
    },
    {
     "name": "stdout",
     "output_type": "stream",
     "text": [
      "extract_think количество ошибок:  0\n",
      "extract_sql количество ошибок:  0\n",
      "Закончили генерацию SQL запросов\n",
      "Начали скорр полученных SQL запросов\n"
     ]
    },
    {
     "name": "stderr",
     "output_type": "stream",
     "text": [
      "\n"
     ]
    },
    {
     "name": "stdout",
     "output_type": "stream",
     "text": [
      "Qwen3-1.7B DEV Финальный результат EX: 49.22\n",
      "Qwen3-1.7B процент запросов, которые успешно выполнились DEV: 81.55%\n",
      "====================================================================================================\n",
      "\n",
      "\n",
      "Загружаем чаты с данными...\n",
      "Данные успешно загружены\n",
      "Начали генерацию SQL запросов\n"
     ]
    },
    {
     "name": "stderr",
     "output_type": "stream",
     "text": [
      "Processed prompts: 100%|██████████| 1534/1534 [01:11<00:00, 21.33it/s, est. speed input: 134904.38 toks/s, output: 1006.30 toks/s] "
     ]
    },
    {
     "name": "stdout",
     "output_type": "stream",
     "text": [
      "extract_think количество ошибок:  0\n",
      "extract_sql количество ошибок:  0\n",
      "Закончили генерацию SQL запросов\n",
      "Начали скорр полученных SQL запросов\n"
     ]
    },
    {
     "name": "stderr",
     "output_type": "stream",
     "text": [
      "\n"
     ]
    },
    {
     "name": "stdout",
     "output_type": "stream",
     "text": [
      "Qwen3-1.7B DEV Финальный результат EX: 50.07\n",
      "Qwen3-1.7B процент запросов, которые успешно выполнились DEV: 83.05%\n",
      "====================================================================================================\n",
      "\n",
      "\n",
      "Загружаем чаты с данными...\n",
      "Данные успешно загружены\n",
      "Начали генерацию SQL запросов\n"
     ]
    },
    {
     "name": "stderr",
     "output_type": "stream",
     "text": [
      "Processed prompts: 100%|██████████| 1534/1534 [01:11<00:00, 21.56it/s, est. speed input: 136397.03 toks/s, output: 1009.95 toks/s] "
     ]
    },
    {
     "name": "stdout",
     "output_type": "stream",
     "text": [
      "extract_think количество ошибок:  0\n",
      "extract_sql количество ошибок:  0\n",
      "Закончили генерацию SQL запросов\n",
      "Начали скорр полученных SQL запросов\n"
     ]
    },
    {
     "name": "stderr",
     "output_type": "stream",
     "text": [
      "\n"
     ]
    },
    {
     "name": "stdout",
     "output_type": "stream",
     "text": [
      "Qwen3-1.7B DEV Финальный результат EX: 49.54\n",
      "Qwen3-1.7B процент запросов, которые успешно выполнились DEV: 82.27%\n",
      "====================================================================================================\n",
      "\n",
      "\n",
      "Загружаем чаты с данными...\n",
      "Данные успешно загружены\n",
      "Начали генерацию SQL запросов\n"
     ]
    },
    {
     "name": "stderr",
     "output_type": "stream",
     "text": [
      "Processed prompts: 100%|██████████| 1534/1534 [01:11<00:00, 21.48it/s, est. speed input: 135648.06 toks/s, output: 1013.29 toks/s] "
     ]
    },
    {
     "name": "stdout",
     "output_type": "stream",
     "text": [
      "extract_think количество ошибок:  0\n",
      "extract_sql количество ошибок:  0\n",
      "Закончили генерацию SQL запросов\n",
      "Начали скорр полученных SQL запросов\n"
     ]
    },
    {
     "name": "stderr",
     "output_type": "stream",
     "text": [
      "\n"
     ]
    },
    {
     "name": "stdout",
     "output_type": "stream",
     "text": [
      "Qwen3-1.7B DEV Финальный результат EX: 50.20\n",
      "Qwen3-1.7B процент запросов, которые успешно выполнились DEV: 83.18%\n",
      "====================================================================================================\n",
      "\n",
      "\n",
      "Загружаем чаты с данными...\n",
      "Данные успешно загружены\n",
      "Начали генерацию SQL запросов\n"
     ]
    },
    {
     "name": "stderr",
     "output_type": "stream",
     "text": [
      "Processed prompts: 100%|██████████| 1534/1534 [01:12<00:00, 21.29it/s, est. speed input: 134902.16 toks/s, output: 1012.09 toks/s] "
     ]
    },
    {
     "name": "stdout",
     "output_type": "stream",
     "text": [
      "extract_think количество ошибок:  0\n",
      "extract_sql количество ошибок:  0\n",
      "Закончили генерацию SQL запросов\n",
      "Начали скорр полученных SQL запросов\n"
     ]
    },
    {
     "name": "stderr",
     "output_type": "stream",
     "text": [
      "\n"
     ]
    },
    {
     "name": "stdout",
     "output_type": "stream",
     "text": [
      "Qwen3-1.7B DEV Финальный результат EX: 48.89\n",
      "Qwen3-1.7B процент запросов, которые успешно выполнились DEV: 83.05%\n",
      "====================================================================================================\n",
      "\n",
      "\n",
      "Загружаем чаты с данными...\n",
      "Данные успешно загружены\n",
      "Начали генерацию SQL запросов\n"
     ]
    },
    {
     "name": "stderr",
     "output_type": "stream",
     "text": [
      "Processed prompts: 100%|██████████| 1534/1534 [01:12<00:00, 21.12it/s, est. speed input: 134671.43 toks/s, output: 999.39 toks/s]   "
     ]
    },
    {
     "name": "stdout",
     "output_type": "stream",
     "text": [
      "extract_think количество ошибок:  0\n",
      "extract_sql количество ошибок:  0\n",
      "Закончили генерацию SQL запросов\n",
      "Начали скорр полученных SQL запросов\n"
     ]
    },
    {
     "name": "stderr",
     "output_type": "stream",
     "text": [
      "\n"
     ]
    },
    {
     "name": "stdout",
     "output_type": "stream",
     "text": [
      "Qwen3-1.7B DEV Финальный результат EX: 48.96\n",
      "Qwen3-1.7B процент запросов, которые успешно выполнились DEV: 82.27%\n",
      "====================================================================================================\n",
      "\n",
      "\n",
      "Загружаем чаты с данными...\n",
      "Данные успешно загружены\n",
      "Начали генерацию SQL запросов\n"
     ]
    },
    {
     "name": "stderr",
     "output_type": "stream",
     "text": [
      "Processed prompts: 100%|██████████| 1534/1534 [01:12<00:00, 21.22it/s, est. speed input: 135176.88 toks/s, output: 993.48 toks/s]   "
     ]
    },
    {
     "name": "stdout",
     "output_type": "stream",
     "text": [
      "extract_think количество ошибок:  0\n",
      "extract_sql количество ошибок:  0\n",
      "Закончили генерацию SQL запросов\n",
      "Начали скорр полученных SQL запросов\n"
     ]
    },
    {
     "name": "stderr",
     "output_type": "stream",
     "text": [
      "\n"
     ]
    },
    {
     "name": "stdout",
     "output_type": "stream",
     "text": [
      "Qwen3-1.7B DEV Финальный результат EX: 48.76\n",
      "Qwen3-1.7B процент запросов, которые успешно выполнились DEV: 82.86%\n",
      "====================================================================================================\n",
      "\n",
      "\n",
      "Загружаем чаты с данными...\n",
      "Данные успешно загружены\n",
      "Начали генерацию SQL запросов\n"
     ]
    },
    {
     "name": "stderr",
     "output_type": "stream",
     "text": [
      "Processed prompts: 100%|██████████| 1534/1534 [01:11<00:00, 21.34it/s, est. speed input: 135441.77 toks/s, output: 1009.26 toks/s]  "
     ]
    },
    {
     "name": "stdout",
     "output_type": "stream",
     "text": [
      "extract_think количество ошибок:  0\n",
      "extract_sql количество ошибок:  0\n",
      "Закончили генерацию SQL запросов\n",
      "Начали скорр полученных SQL запросов\n"
     ]
    },
    {
     "name": "stderr",
     "output_type": "stream",
     "text": [
      "\n"
     ]
    },
    {
     "name": "stdout",
     "output_type": "stream",
     "text": [
      "Qwen3-1.7B DEV Финальный результат EX: 49.28\n",
      "Qwen3-1.7B процент запросов, которые успешно выполнились DEV: 81.88%\n",
      "====================================================================================================\n",
      "\n",
      "\n",
      "Загружаем чаты с данными...\n",
      "Данные успешно загружены\n",
      "Начали генерацию SQL запросов\n"
     ]
    },
    {
     "name": "stderr",
     "output_type": "stream",
     "text": [
      "Processed prompts: 100%|██████████| 1534/1534 [01:10<00:00, 21.67it/s, est. speed input: 136320.01 toks/s, output: 1016.84 toks/s]  "
     ]
    },
    {
     "name": "stdout",
     "output_type": "stream",
     "text": [
      "extract_think количество ошибок:  0\n",
      "extract_sql количество ошибок:  0\n",
      "Закончили генерацию SQL запросов\n",
      "Начали скорр полученных SQL запросов\n"
     ]
    },
    {
     "name": "stderr",
     "output_type": "stream",
     "text": [
      "\n"
     ]
    },
    {
     "name": "stdout",
     "output_type": "stream",
     "text": [
      "Qwen3-1.7B DEV Финальный результат EX: 49.09\n",
      "Qwen3-1.7B процент запросов, которые успешно выполнились DEV: 82.20%\n",
      "====================================================================================================\n",
      "\n",
      "\n",
      "Загружаем чаты с данными...\n",
      "Данные успешно загружены\n",
      "Начали генерацию SQL запросов\n"
     ]
    },
    {
     "name": "stderr",
     "output_type": "stream",
     "text": [
      "Processed prompts: 100%|██████████| 1534/1534 [01:10<00:00, 21.63it/s, est. speed input: 136319.94 toks/s, output: 1011.27 toks/s]  "
     ]
    },
    {
     "name": "stdout",
     "output_type": "stream",
     "text": [
      "extract_think количество ошибок:  0\n",
      "extract_sql количество ошибок:  0\n",
      "Закончили генерацию SQL запросов\n",
      "Начали скорр полученных SQL запросов\n"
     ]
    },
    {
     "name": "stderr",
     "output_type": "stream",
     "text": [
      "\n"
     ]
    },
    {
     "name": "stdout",
     "output_type": "stream",
     "text": [
      "Qwen3-1.7B DEV Финальный результат EX: 48.44\n",
      "Qwen3-1.7B процент запросов, которые успешно выполнились DEV: 81.49%\n",
      "====================================================================================================\n",
      "\n",
      "\n",
      "Загружаем чаты с данными...\n",
      "Данные успешно загружены\n",
      "Начали генерацию SQL запросов\n"
     ]
    },
    {
     "name": "stderr",
     "output_type": "stream",
     "text": [
      "Processed prompts: 100%|██████████| 1534/1534 [01:10<00:00, 21.61it/s, est. speed input: 137092.24 toks/s, output: 1015.34 toks/s]  "
     ]
    },
    {
     "name": "stdout",
     "output_type": "stream",
     "text": [
      "extract_think количество ошибок:  0\n",
      "extract_sql количество ошибок:  0\n",
      "Закончили генерацию SQL запросов\n",
      "Начали скорр полученных SQL запросов\n"
     ]
    },
    {
     "name": "stderr",
     "output_type": "stream",
     "text": [
      "\n"
     ]
    },
    {
     "name": "stdout",
     "output_type": "stream",
     "text": [
      "Qwen3-1.7B DEV Финальный результат EX: 48.83\n",
      "Qwen3-1.7B процент запросов, которые успешно выполнились DEV: 81.94%\n",
      "====================================================================================================\n",
      "\n",
      "\n",
      "Загружаем чаты с данными...\n",
      "Данные успешно загружены\n",
      "Начали генерацию SQL запросов\n"
     ]
    },
    {
     "name": "stderr",
     "output_type": "stream",
     "text": [
      "Processed prompts: 100%|██████████| 1534/1534 [01:12<00:00, 21.30it/s, est. speed input: 135505.91 toks/s, output: 1003.42 toks/s] "
     ]
    },
    {
     "name": "stdout",
     "output_type": "stream",
     "text": [
      "extract_think количество ошибок:  0\n",
      "extract_sql количество ошибок:  0\n",
      "Закончили генерацию SQL запросов\n",
      "Начали скорр полученных SQL запросов\n"
     ]
    },
    {
     "name": "stderr",
     "output_type": "stream",
     "text": [
      "\n"
     ]
    },
    {
     "name": "stdout",
     "output_type": "stream",
     "text": [
      "Qwen3-1.7B DEV Финальный результат EX: 48.96\n",
      "Qwen3-1.7B процент запросов, которые успешно выполнились DEV: 81.49%\n",
      "====================================================================================================\n",
      "\n",
      "\n",
      "Загружаем чаты с данными...\n",
      "Данные успешно загружены\n",
      "Начали генерацию SQL запросов\n"
     ]
    },
    {
     "name": "stderr",
     "output_type": "stream",
     "text": [
      "Processed prompts: 100%|██████████| 1534/1534 [01:11<00:00, 21.53it/s, est. speed input: 135990.62 toks/s, output: 1013.70 toks/s]  "
     ]
    },
    {
     "name": "stdout",
     "output_type": "stream",
     "text": [
      "extract_think количество ошибок:  0\n",
      "extract_sql количество ошибок:  0\n",
      "Закончили генерацию SQL запросов\n",
      "Начали скорр полученных SQL запросов\n"
     ]
    },
    {
     "name": "stderr",
     "output_type": "stream",
     "text": [
      "\n"
     ]
    },
    {
     "name": "stdout",
     "output_type": "stream",
     "text": [
      "Qwen3-1.7B DEV Финальный результат EX: 49.67\n",
      "Qwen3-1.7B процент запросов, которые успешно выполнились DEV: 83.44%\n",
      "====================================================================================================\n",
      "\n",
      "\n",
      "Загружаем чаты с данными...\n",
      "Данные успешно загружены\n",
      "Начали генерацию SQL запросов\n"
     ]
    },
    {
     "name": "stderr",
     "output_type": "stream",
     "text": [
      "Processed prompts: 100%|██████████| 1534/1534 [01:10<00:00, 21.62it/s, est. speed input: 135474.30 toks/s, output: 1020.72 toks/s]  "
     ]
    },
    {
     "name": "stdout",
     "output_type": "stream",
     "text": [
      "extract_think количество ошибок:  0\n",
      "extract_sql количество ошибок:  0\n",
      "Закончили генерацию SQL запросов\n",
      "Начали скорр полученных SQL запросов\n"
     ]
    },
    {
     "name": "stderr",
     "output_type": "stream",
     "text": [
      "\n"
     ]
    },
    {
     "name": "stdout",
     "output_type": "stream",
     "text": [
      "Qwen3-1.7B DEV Финальный результат EX: 49.09\n",
      "Qwen3-1.7B процент запросов, которые успешно выполнились DEV: 82.79%\n",
      "====================================================================================================\n",
      "\n",
      "\n",
      "Загружаем чаты с данными...\n",
      "Данные успешно загружены\n",
      "Начали генерацию SQL запросов\n"
     ]
    },
    {
     "name": "stderr",
     "output_type": "stream",
     "text": [
      "Processed prompts: 100%|██████████| 1534/1534 [01:10<00:00, 21.69it/s, est. speed input: 135887.10 toks/s, output: 1028.10 toks/s] "
     ]
    },
    {
     "name": "stdout",
     "output_type": "stream",
     "text": [
      "extract_think количество ошибок:  0\n",
      "extract_sql количество ошибок:  0\n",
      "Закончили генерацию SQL запросов\n",
      "Начали скорр полученных SQL запросов\n"
     ]
    },
    {
     "name": "stderr",
     "output_type": "stream",
     "text": [
      "\n"
     ]
    },
    {
     "name": "stdout",
     "output_type": "stream",
     "text": [
      "Qwen3-1.7B DEV Финальный результат EX: 48.63\n",
      "Qwen3-1.7B процент запросов, которые успешно выполнились DEV: 82.66%\n",
      "====================================================================================================\n",
      "\n",
      "\n",
      "Загружаем чаты с данными...\n",
      "Данные успешно загружены\n",
      "Начали генерацию SQL запросов\n"
     ]
    },
    {
     "name": "stderr",
     "output_type": "stream",
     "text": [
      "Processed prompts: 100%|██████████| 1534/1534 [01:10<00:00, 21.81it/s, est. speed input: 135978.95 toks/s, output: 1033.81 toks/s]  "
     ]
    },
    {
     "name": "stdout",
     "output_type": "stream",
     "text": [
      "extract_think количество ошибок:  0\n",
      "extract_sql количество ошибок:  0\n",
      "Закончили генерацию SQL запросов\n",
      "Начали скорр полученных SQL запросов\n"
     ]
    },
    {
     "name": "stderr",
     "output_type": "stream",
     "text": [
      "\n"
     ]
    },
    {
     "name": "stdout",
     "output_type": "stream",
     "text": [
      "Qwen3-1.7B DEV Финальный результат EX: 49.09\n",
      "Qwen3-1.7B процент запросов, которые успешно выполнились DEV: 82.92%\n",
      "====================================================================================================\n",
      "\n",
      "\n",
      "Загружаем чаты с данными...\n",
      "Данные успешно загружены\n",
      "Начали генерацию SQL запросов\n"
     ]
    },
    {
     "name": "stderr",
     "output_type": "stream",
     "text": [
      "Processed prompts: 100%|██████████| 1534/1534 [01:08<00:00, 22.34it/s, est. speed input: 137110.70 toks/s, output: 1059.59 toks/s] "
     ]
    },
    {
     "name": "stdout",
     "output_type": "stream",
     "text": [
      "extract_think количество ошибок:  0\n",
      "extract_sql количество ошибок:  0\n",
      "Закончили генерацию SQL запросов\n",
      "Начали скорр полученных SQL запросов\n"
     ]
    },
    {
     "name": "stderr",
     "output_type": "stream",
     "text": [
      "\n"
     ]
    },
    {
     "name": "stdout",
     "output_type": "stream",
     "text": [
      "Qwen3-1.7B DEV Финальный результат EX: 46.81\n",
      "Qwen3-1.7B процент запросов, которые успешно выполнились DEV: 81.36%\n",
      "====================================================================================================\n",
      "\n",
      "\n"
     ]
    }
   ],
   "source": [
    "run_cot_experiment(model,arr_seeds,arr_versions, type_cot,num_observations=num_observations)"
   ]
  },
  {
   "cell_type": "code",
   "execution_count": 18,
   "id": "297e4c3e-c5be-4721-b770-83fa97d03f5e",
   "metadata": {},
   "outputs": [
    {
     "name": "stdout",
     "output_type": "stream",
     "text": [
      "[622, 355, 454, 616, 842, 381, 686, 341, 60, 216, 864, 780, 706, 571, 10, 371, 831, 941, 439, 167]\n",
      "model: Qwen3-1.7B\n"
     ]
    }
   ],
   "source": [
    "n= 20\n",
    "arr_seeds = [random.randint(0,1000) for _ in range(n)]\n",
    "arr_versions = [x for x in range(n)]\n",
    "model =\"Qwen3-1.7B\"\n",
    "num_observations = 5\n",
    "type_cot = 'think'\n",
    "print(arr_seeds)\n",
    "print(f\"model: {model}\")"
   ]
  },
  {
   "cell_type": "code",
   "execution_count": 19,
   "id": "604c03b5-0971-48e5-8b26-be78a74e2b9d",
   "metadata": {
    "scrolled": true
   },
   "outputs": [
    {
     "name": "stdout",
     "output_type": "stream",
     "text": [
      "Загружаем модель...\n"
     ]
    },
    {
     "name": "stderr",
     "output_type": "stream",
     "text": [
      "Loading safetensors checkpoint shards:   0% Completed | 0/2 [00:00<?, ?it/s]\n",
      "Loading safetensors checkpoint shards:  50% Completed | 1/2 [00:01<00:01,  1.21s/it]\n",
      "Loading safetensors checkpoint shards: 100% Completed | 2/2 [00:01<00:00,  1.60it/s]\n",
      "\u001b[1;36m(VllmWorker rank=0 pid=3233882)\u001b[0;0m \n"
     ]
    },
    {
     "name": "stdout",
     "output_type": "stream",
     "text": [
      "Модель успешно загружена\n",
      "model_config {'model': '/data/home/vkropoti/models/Qwen3-1.7B', 'tensor_parallel_size': 2, 'max_model_len': 40000, 'max_new_tokens': 1500, 'temperature': 0, 'top_k': 1, 'top_p': 0.8, 'gpu_memory_utilization': 0.9, 'trust_remote_code': False, 'seed': 622}\n",
      "\n",
      "prompts_config {'path_dev_json': '/home/vkropoti/vllm/dev.json', 'path_sql_dbs': '/data/home/vkropoti/sql_data/dev_databases/', 'use_reasoning': False, 'paths_to_cot': ['/data/home/vkropoti/sql_llm_answers/bird_dev_m_schema/sql_think_Qwen3-1.7B-reasoning-v0', '/data/home/vkropoti/sql_llm_answers/bird_dev_m_schema/sql_think_Qwen3-1.7B-reasoning-v1', '/data/home/vkropoti/sql_llm_answers/bird_dev_m_schema/sql_think_Qwen3-1.7B-reasoning-v2', '/data/home/vkropoti/sql_llm_answers/bird_dev_m_schema/sql_think_Qwen3-1.7B-reasoning-v3', '/data/home/vkropoti/sql_llm_answers/bird_dev_m_schema/sql_think_Qwen3-1.7B-reasoning-v4']}\n",
      "\n",
      "save_config {'path_sql_save': '/data/home/vkropoti/sql_llm_answers/bird_dev_m_schema/sql_all_Qwen3-1.7B-cot_think_think==False_nobs5-v0', 'path_think_save': None, 'path_sql_answers_save': '/data/home/vkropoti/sql_llm_answers/bird_dev_m_schema/sql_predict_Qwen3-1.7B-cot_think_think==False_nobs5-v0', 'path_to_save_scores': '/data/home/vkropoti/sql_llm_answers/bird_dev_m_schema/sql_results_Qwen3-1.7B-cot_think_think==False_nobs5-v0', 'path_to_save_executed': '/data/home/vkropoti/sql_llm_answers/bird_dev_m_schema/sql_executed_Qwen3-1.7B-cot_think_think==False_nobs5-v0'}\n",
      "\n",
      "Модель успешно загружена\n",
      "Пример промпта\n",
      "<|im_start|>system\n",
      "\n",
      "You are a data science expert. Below, you are provided with a database schema and a natural language question. Your task is to understand the schema and generate a valid SQL query to answer the question.\n",
      "\n",
      "Database Engine: SQLite\n",
      "\n",
      "You will be given an additional analysis of other models, please take it into account, so the plan is\n",
      "1. Analyse given addition analysis from other models (find in which analysis the same and differ, how to use that to answer question)\n",
      "2. Combine best from previous part and think how to solve the problem (analyze tables, take care what columns avaliable in each table and so on, check the syntacsis)\n",
      "3. Create the answers. The answer should be only sql query.\n",
      "\n",
      "Carefully follow the instruction and add <|im_end|> and the end of the final answer<|im_end|>\n",
      "<|im_start|>user\n",
      "Here is addition analysis from other models which can be helpfull, please take this into account but be careful (choose the best from each analysis, combine them to make the most proper answer):\n",
      "\n",
      "model 0 analysis:\n",
      " Okay, let's tackle this question step by step. The user wants the highest eligible free rate for K-12 students in Alameda County. \n",
      "\n",
      "First, I need to figure out which tables are involved. The eligible free rate is calculated as Free Meal Count (K-12) divided by Enrollment (K-12). So I need data from the frpm table. But the frpm table has the Free Meal Count and Enrollment values. However, the schools table has the County information, so I need to join the schools table with the frpm table on the CDSCode.\n",
      "\n",
      "Wait, the foreign keys are frpm.CDSCode = schools.CDSCode and satscores.cds = schools.CDSCode. So the schools table has the CDSCode, which is linked to frpm. So the plan is to join schools with frpm on CDSCode, filter where the County is 'Alameda County', then calculate the ratio.\n",
      "\n",
      "But wait, the schools table's County column has examples like 'Alameda', 'Alpine', etc. So the County column is a TEXT field. So I need to check if the County is 'Alameda' exactly. But maybe the actual county names might have spaces or different formats. However, the examples given in the schools table's County column are 'Alameda', so assuming that 'Alameda' is the correct value.\n",
      "\n",
      "So the steps are:\n",
      "\n",
      "1. Join schools and frpm on CDSCode.\n",
      "2. Filter where schools.County = 'Alameda'.\n",
      "3. Calculate Free Meal Count (K-12) / Enrollment (K-12) for each school.\n",
      "4. Find the maximum value of this ratio.\n",
      "\n",
      "But the question says \"highest eligible free rate\", so we need the maximum value from the calculated ratio.\n",
      "\n",
      "Now, the SQL query would need to select the maximum of (Free Meal Count (K-12) / Enrollment (K-12)) from the joined tables where County is 'Alameda'.\n",
      "\n",
      "But wait, the frpm table has the Free Meal Count (K-12) as a REAL number and Enrollment (K-12) as a REAL number. So the division would be done in the query.\n",
      "\n",
      "So the SQL query would be:\n",
      "\n",
      "SELECT MAX(Free Meal Count (K-12) / Enrollment (K-12)) FROM schools JOIN frpm ON schools.CDSCode = frpm.CDSCode WHERE schools.County = 'Alameda';\n",
      "\n",
      "But need to check if the County is exactly 'Alameda' or if there's a need to use a LIKE clause. The examples given in the schools table's County column are 'Alameda', so it's likely that the exact value is 'Alameda'. However, in practice, sometimes counties might have different names, but based on the given data, we can assume that.\n",
      "\n",
      "Another thing: the schools table has a District column, but the County is the primary field here. So the JOIN is on CDSCode, which is the same in both tables.\n",
      "\n",
      "So the final query would be as above. But need to make sure that the columns are correctly referenced. The frpm table has Free Meal Count (K-12) as a column, and Enrollment (K-12) as another column. So the division is between those two.\n",
      "\n",
      "Therefore, the SQL query should select the maximum of that ratio from the joined tables where the county is Alameda.\n",
      "\n",
      "model 1 analysis:\n",
      " Okay, let's tackle this question. The user wants the highest eligible free rate for K-12 students in Alameda County. \n",
      "\n",
      "First, I need to figure out which tables are involved. The relevant tables here are 'frpm' and 'schools' because the 'frpm' table has the eligible free rates and the 'schools' table has the county information. \n",
      "\n",
      "The 'schools' table has a 'County' column, and we need to filter for Alameda County. So, I'll start by joining the 'schools' table with the 'frpm' table on the 'CDSCode' since that's the primary key link. \n",
      "\n",
      "Next, the eligible free rate is calculated as Free Meal Count (K-12) divided by Enrollment (K-12). But wait, the question specifies K-12 students, so I need to make sure that the rows in frpm are for K-12. The 'Low Grade' and 'High Grade' columns in frpm might indicate the grade levels, but the question is specifically about K-12. So maybe the 'Low Grade' is K, and the 'High Grade' is 12. But the user might just want the rate for K-12 students, so perhaps we can assume that the rows in frpm where Low Grade is 'K' and High Grade is '12' are the ones we need. However, the problem statement says \"K-12 students,\" so maybe we need to check if the frpm data includes that. But the user's question doesn't specify filtering by grade, just K-12. So perhaps the frpm table's rows are already for K-12, or we need to check the data.\n",
      "\n",
      "But since the question is about K-12, maybe the frpm table's rows are for K-12. However, the 'Low Grade' and 'High Grade' columns might not be directly relevant here. The user's question is about the highest eligible free rate for K-12 students, so the frpm table's rows where the school is in Alameda County and the grade levels are K-12. But the problem is that the 'frpm' table's 'Low Grade' is 'K' and 'High Grade' is '12', so perhaps we need to filter where Low Grade is 'K' and High Grade is '12'.\n",
      "\n",
      "But the user's question might not require that, since the question is about K-12 students in general. However, the data might have entries for K-12, so perhaps we can just use the frpm table's rows where the school is in Alameda County. \n",
      "\n",
      "Wait, the 'schools' table has a 'County' column, so we need to join on that. So the plan is: join schools and frpm on CDSCode, filter where County is 'Alameda', then calculate the eligible free rate as Free Meal Count (K-12) / Enrollment (K-12), and find the maximum value.\n",
      "\n",
      "But the user's question says \"highest eligible free rate for K-12 students in the schools in Alameda County\". So the steps are:\n",
      "\n",
      "1. Join schools and frpm on CDSCode.\n",
      "2. Filter schools where County is 'Alameda'.\n",
      "3. Calculate the eligible free rate for K-12 students (Free Meal Count (K-12) / Enrollment (K-12)).\n",
      "4. Find the maximum value of this rate.\n",
      "\n",
      "But the problem is that the frpm table's 'Low Grade' and 'High Grade' might not be directly relevant here. However, the question is about K-12 students, so maybe the frpm table's rows are for K-12. Alternatively, the 'Low Grade' is 'K' and 'High Grade' is '12', so the rows where Low Grade is 'K' and High Grade is '12' are for K-12. Therefore, we need to filter those rows.\n",
      "\n",
      "So the query would be:\n",
      "\n",
      "SELECT MAX( (Free Meal Count (K-12) / Enrollment (K-12)) ) AS highest_rate\n",
      "FROM frpm\n",
      "JOIN schools ON frpm.CDSCode = schools.CDSCode\n",
      "WHERE schools.County = 'Alameda' AND frpm.Low Grade = 'K' AND frpm.High Grade = '12';\n",
      "\n",
      "But the user's question might not require checking the grade levels, just the K-12 students. However, the data might not have entries for K-12. But the problem says \"K-12 students\", so perhaps the frpm table's rows are for K-12. But the 'Low Grade' and 'High Grade' columns are part of the frpm table. So the correct approach is to check those columns.\n",
      "\n",
      "But the user's question is phrased as \"highest eligible free rate for K-12 students in the schools in Alameda County\". So the answer would require that the frpm data includes K-12 students. Therefore, the query would need to filter where Low Grade is 'K' and High Grade is '12'.\n",
      "\n",
      "But the user might not have that data. However, based on the schema, the frpm table's columns include Low Grade and High Grade, so the answer must consider those.\n",
      "\n",
      "So the final SQL query would be:\n",
      "\n",
      "SELECT MAX( (Free Meal Count (K-12) / Enrollment (K-12)) ) AS highest_rate\n",
      "FROM frpm\n",
      "JOIN schools ON frpm.CDSCode = schools.CDSCode\n",
      "WHERE schools.County = 'Alameda' AND frpm.Low Grade = 'K' AND frpm.High Grade = '12';\n",
      "\n",
      "But the problem is that in SQLite, the column names are in quotes. Also, the user wants only the column in the SELECT clause, which is the highest rate. So the query should select the maximum of that rate.\n",
      "\n",
      "But the question might not require the actual values, just the maximum. So the query would be as above.\n",
      "\n",
      "Wait, but the user's question is to get the highest eligible free rate. So the SQL would be to select the maximum of (Free Meal Count (K-12)/Enrollment (K-12)) where the school is in Alameda County and the grade levels are K-12.\n",
      "\n",
      "Therefore, the correct query is as above.\n",
      "\n",
      "model 2 analysis:\n",
      " Okay, let's tackle this question. The user wants the highest eligible free rate for K-12 students in Alameda County. \n",
      "\n",
      "First, I need to figure out which tables are involved. The relevant tables here are 'schools' and 'frpm' because they have the CDSCode and County information. The 'satscores' table might not be necessary here since the question is about free meal counts and enrollments.\n",
      "\n",
      "The 'schools' table has the County field, so I can filter for County = 'Alameda'. The 'frpm' table has 'County Name' and 'Enrollment (K-12)', 'Free Meal Count (K-12)', and 'Percent (%) Eligible Free (K-12)' columns. \n",
      "\n",
      "Wait, the 'frpm' table's 'County Name' might have the county names, but the 'schools' table's 'County' field is a TEXT field. So I need to join the two tables on schools.CDSCode = frpm.CDSCode. Then, filter where schools.County = 'Alameda'.\n",
      "\n",
      "But the question is about the highest eligible free rate. So I need to calculate the percentage from the 'Percent (%) Eligible Free (K-12)' column. Then, find the maximum value among those that are in Alameda County.\n",
      "\n",
      "So the steps are: join schools and frpm on CDSCode, filter where County is 'Alameda', select the Percent column, order by it descending, limit 1.\n",
      "\n",
      "Wait, but the 'frpm' table has 'Percent (%) Eligible Free (K-12)' as a column. So the SQL would be:\n",
      "\n",
      "SELECT MAX(Percent (%) Eligible Free (K-12)) FROM frpm JOIN schools ON frpm.CDSCode = schools.CDSCode WHERE schools.County = 'Alameda';\n",
      "\n",
      "But I need to make sure that the column names are correct. The 'frpm' table has 'Percent (%) Eligible Free (K-12)' as a column, so that's correct. The 'schools' table has 'County' as a column. \n",
      "\n",
      "But the question says \"schools in Alameda County\", so the 'schools' table's County must be 'Alameda'. \n",
      "\n",
      "So the final query would be joining the two tables on CDSCode, filtering the County, then selecting the max of the eligible free rate. \n",
      "\n",
      "But wait, the user wants the highest rate, so MAX() is correct. \n",
      "\n",
      "I need to make sure that the columns are correctly referenced. Also, the 'frpm' table's 'County Name' might have the county name, but the 'schools' table's 'County' is the one to filter. So the join is correct.\n",
      "\n",
      "So the SQL query would be:\n",
      "\n",
      "SELECT MAX(Percent (%) Eligible Free (K-12)) FROM frpm JOIN schools ON frpm.CDSCode = schools.CDSCode WHERE schools.County = 'Alameda';\n",
      "\n",
      "model 3 analysis:\n",
      " Okay, let's tackle this question. The user wants the highest eligible free rate for K-12 students in Alameda County. \n",
      "\n",
      "First, I need to figure out which tables are involved. The relevant tables here are 'frpm' and 'schools' because the 'frpm' table has the eligible free rates and the 'schools' table has the county information. \n",
      "\n",
      "The 'schools' table has a 'County' column, and we need to filter for Alameda County. So, I'll start by joining the 'schools' table with the 'frpm' table on the 'CDSCode' since that's the primary key link. \n",
      "\n",
      "Next, the eligible free rate is calculated as Free Meal Count (K-12) divided by Enrollment (K-12). But wait, the question specifies K-12 students, so I need to make sure that the rows in frpm are for K-12. The 'Low Grade' and 'High Grade' columns in frpm might indicate the grade levels, but the question is specifically about K-12. So maybe the 'Low Grade' is K, and the 'High Grade' is 12. But the user might just want the rate for K-12 students, so perhaps we can assume that the rows in frpm where Low Grade is 'K' and High Grade is '12' are the ones we need. However, the problem statement says \"K-12 students,\" so maybe the frpm table's data already covers that. But to be safe, maybe we need to filter where Low Grade is 'K' and High Grade is '12'. \n",
      "\n",
      "Wait, the user's question says \"for K-12 students,\" so the frpm data should have entries for K-12. But the 'frpm' table's columns have 'Low Grade' and 'High Grade' as TEXT. So maybe the rows where Low Grade is 'K' and High Grade is '12' are the K-12 students. So I need to filter those rows. \n",
      "\n",
      "So the query would join schools and frpm on CDSCode, filter schools where County is 'Alameda', and then filter frpm where Low Grade is 'K' and High Grade is '12'. Then calculate the percentage (Free Meal Count (K-12) / Enrollment (K-12)) and find the maximum value. \n",
      "\n",
      "But the user wants the highest eligible free rate, so after joining and filtering, I need to compute the percentage and select the maximum. \n",
      "\n",
      "Wait, the question says \"the highest eligible free rate for K-12 students in the schools in Alameda County.\" So the steps are:\n",
      "\n",
      "1. Join schools and frpm on CDSCode.\n",
      "2. Filter schools where County is 'Alameda'.\n",
      "3. Filter frpm where Low Grade is 'K' and High Grade is '12'.\n",
      "4. Calculate the percentage (Free Meal Count (K-12) / Enrollment (K-12)).\n",
      "5. Find the maximum value of this percentage.\n",
      "\n",
      "So the SQL query would select the maximum of the calculated percentage from the joined tables. \n",
      "\n",
      "But how to structure this in SQL. Let's see. The tables are 'schools' and 'frpm'. The join is on schools.CDSCode = frpm.CDSCode. \n",
      "\n",
      "So the query would be:\n",
      "\n",
      "SELECT MAX( (frpm.Free Meal Count (K-12) / frpm.Enrollment (K-12)) * 100 ) AS highest_rate\n",
      "FROM schools\n",
      "JOIN frpm ON schools.CDSCode = frpm.CDSCode\n",
      "WHERE schools.County = 'Alameda' AND frpm.Low Grade = 'K' AND frpm.High Grade = '12';\n",
      "\n",
      "Wait, but the columns in the frpm table are named with quotes. The user specified that the columns should be in quotes. So the column names in the frpm table are like 'Free Meal Count (K-12)' and 'Enrollment (K-12)'. So the correct column names in the SQL query would be with quotes. \n",
      "\n",
      "So the query would be:\n",
      "\n",
      "SELECT MAX( (frpm.Free Meal Count (K-12) / frpm.Enrollment (K-12)) ) AS highest_rate\n",
      "FROM schools\n",
      "JOIN frpm ON schools.CDSCode = frpm.CDSCode\n",
      "WHERE schools.County = 'Alameda' AND frpm.Low Grade = 'K' AND frpm.High Grade = '12';\n",
      "\n",
      "But the question says \"highest eligible free rate\" which is the percentage. So the calculation is (Free Meal Count / Enrollment) * 100? Or is it (Free Meal Count / Enrollment) as a percentage? The user's external knowledge says Eligible free rate is Free Meal Count / Enrollment. But the question says \"Percent (%) Eligible Free (K-12)\" in the frpm table. So the actual value in the frpm table is the percentage. So maybe the value is already in percentage, so we don't need to multiply by 100. Wait, the example for Percent (%) Eligible Free (K-12) is [0.519779208831647, 0.470886075949367, 0.549180327868853]. So these are decimal numbers, not percentages. So the actual value is the percentage as a decimal. So the user's question says \"highest eligible free rate\" which is the value in the frpm table, which is already in percentage. So the calculation is just selecting the maximum of that value. \n",
      "\n",
      "Wait, but the user's external knowledge says Eligible free rate is Free Meal Count / Enrollment. But the frpm table has the Percent (%) Eligible Free (K-12) as a decimal. So perhaps the value in frpm is already the percentage. So the query would just select the maximum of that column. \n",
      "\n",
      "But the user's question is asking for the highest eligible free rate, which is the value in the Percent (%) Eligible Free (K-12) column. So the correct query is to select the maximum of that column where the conditions are met. \n",
      "\n",
      "So the query would be:\n",
      "\n",
      "SELECT MAX(Percent (%) Eligible Free (K-12)) \n",
      "FROM frpm\n",
      "JOIN schools ON frpm.CDSCode = schools.CDSCode\n",
      "WHERE schools.County = 'Alameda' AND frpm.Low Grade = 'K' AND frpm.High Grade = '12';\n",
      "\n",
      "But the user wants the answer in the correct format. Also, the columns in the frpm table are named with quotes. So in the SQL query, the column names must be in quotes. \n",
      "\n",
      "So the final query would be:\n",
      "\n",
      "SELECT MAX(Percent (%) Eligible Free (K-12)) \n",
      "FROM schools \n",
      "JOIN frpm ON schools.CDSCode = frpm.CDSCode \n",
      "WHERE schools.County = 'Alameda' AND frpm.Low Grade = 'K' AND frpm.High Grade = '12';\n",
      "\n",
      "But the user might have the columns in the frpm table as 'Free Meal Count (K-12)' and 'Enrollment (K-12)', but the question is about the Percent (%) Eligible Free (K-12) column. So the query would select that column. \n",
      "\n",
      "So the correct SQL is:\n",
      "\n",
      "SELECT MAX(Percent (%) Eligible Free (K-12)) \n",
      "FROM schools \n",
      "JOIN frpm ON schools.CDSCode = frpm.CDSCode \n",
      "WHERE schools.County = 'Alameda' AND frpm.Low Grade = 'K' AND frpm.High Grade = '12';\n",
      "\n",
      "But the problem says that the user wants the highest eligible free rate, which is the maximum of that column. \n",
      "\n",
      "So the final answer is that SQL query.\n",
      "\n",
      "model 4 analysis:\n",
      " Okay, let's tackle this problem. The user wants the highest eligible free rate for K-12 students in Alameda County. First, I need to figure out which tables are involved. The relevant tables here are frpm and schools, probably. Because the frpm table has the eligible free rates, and the schools table has the county information.\n",
      "\n",
      "Wait, the frpm table has columns like Percent (%) Eligible Free (K-12) and Enrollment (K-12). The question is about Alameda County, so I need to filter schools where County is Alameda. Then, from the frpm table, get the Percent Eligible Free (K-12) and Enrollment (K-12) for those schools.\n",
      "\n",
      "But wait, the schools table has a County column, so I need to join schools with frpm on schools.CDSCode equals frpm.CDSCode. Then, filter the schools where County is 'Alameda'. Then calculate the ratio of Free Meal Count (K-12) to Enrollment (K-12) and take the maximum value.\n",
      "\n",
      "Wait, the user mentioned the formula: Eligible free rate is Free Meal Count (K-12) divided by Enrollment (K-12). So, for each school in Alameda County, calculate that ratio and find the maximum.\n",
      "\n",
      "So the steps are: join schools and frpm on CDSCode, filter county = 'Alameda', then compute the ratio and find the max.\n",
      "\n",
      "But how to structure the SQL. Let's think.\n",
      "\n",
      "SELECT MAX(Percent (%) Eligible Free (K-12)) FROM frpm JOIN schools ON frpm.CDSCode = schools.CDSCode WHERE schools.County = 'Alameda';\n",
      "\n",
      "Wait, but the schools table has a County column, which is a TEXT. So the query would be:\n",
      "\n",
      "SELECT MAX(Percent (%) Eligible Free (K-12)) \n",
      "FROM frpm \n",
      "JOIN schools ON frpm.CDSCode = schools.CDSCode \n",
      "WHERE schools.County = 'Alameda';\n",
      "\n",
      "But the problem is that the frpm table has the Percent (%) Eligible Free (K-12) as a column, and the schools table has the County. So joining on CDSCode and filtering County = 'Alameda' should give the necessary rows. Then, taking the maximum of that column.\n",
      "\n",
      "But wait, the user wants the highest rate, so MAX() is correct. However, sometimes there might be multiple schools in Alameda, and we need the maximum value among them. So the query should be as above.\n",
      "\n",
      "But need to make sure that the columns are correctly named. The frpm table's columns are in the initial description. Let me check again.\n",
      "\n",
      "In the frpm table, the columns include Percent (%) Eligible Free (K-12) as a column. The schools table has County as a column. So the SQL should be correct.\n",
      "\n",
      "But the user said to use only the initial column names, not the ones in the schema. Wait, the user said: \"Use only initial column names, change names prohibited\". So the column names in the schema are as given. So the columns in the frpm table are: CDSCode, Academic Year, County Code, District Code, School Code, County Name, District Name, School Name, District Type, School Type, Educational Option Type, NSLP Provision Status, Charter School (Y/N), Charter School Number, Charter Funding Type, IRC, Low Grade, High Grade, Enrollment (K-12), Free Meal Count (K-12), Percent (%) Eligible Free (K-12), etc.\n",
      "\n",
      "So the column names in the frpm table are as listed. So the query should reference those exact column names.\n",
      "\n",
      "So the correct SQL would be:\n",
      "\n",
      "SELECT MAX(Percent (%) Eligible Free (K-12)) \n",
      "FROM frpm \n",
      "JOIN schools ON frpm.CDSCode = schools.CDSCode \n",
      "WHERE schools.County = 'Alameda';\n",
      "\n",
      "But wait, the schools table's County column is a TEXT, and the example values are like 'Alameda', 'Alpine', etc. So the WHERE clause is correct.\n",
      "\n",
      "But need to make sure that the County is exactly 'Alameda' (case-sensitive? Well, in SQLite, string comparisons are case-sensitive unless the database is set to case-insensitive, but the examples show 'Alameda' as the value, so the query should use 'Alameda' exactly.\n",
      "\n",
      "So the final query is as above. Let me check the word count. The user said the answer should be less than 512 characters. Let me count:\n",
      "\n",
      "SELECT MAX(Percent (%) Eligible Free (K-12)) FROM frpm JOIN schools ON frpm.CDSCode = schools.CDSCode WHERE schools.County = 'Alameda';\n",
      "\n",
      "That's 145 characters. So it's under 512. So that's the answer.\n",
      "\n",
      "\n",
      "here is avaliable tables and their structure below\n",
      "【DB_ID】 california_schools\n",
      "【Schema】\n",
      "# Table: frpm\n",
      "[\n",
      "(CDSCode:TEXT, maps to schools.CDSCode, Primary Key, Examples: [01100170109835, 01100170112607, 01100170118489]),\n",
      "(Academic Year:TEXT, Examples: [2014-2015]),\n",
      "(County Code:TEXT, Examples: [01, 02, 03]),\n",
      "(District Code:INTEGER, Examples: [10017, 31609, 31617]),\n",
      "(School Code:TEXT, Examples: [0109835, 0112607, 0118489]),\n",
      "(County Name:TEXT, Examples: [Alameda, Alpine, Amador]),\n",
      "(District Name:TEXT),\n",
      "(School Name:TEXT, Examples: [FAME Public Charter]),\n",
      "(District Type:TEXT, Examples: [County Office of Education (COE)]),\n",
      "(School Type:TEXT, Examples: [K-12 Schools (Public)]),\n",
      "(Educational Option Type:TEXT, Examples: [Traditional]),\n",
      "(NSLP Provision Status:TEXT, Examples: [Breakfast Provision 2]),\n",
      "(Charter School (Y/N):INTEGER, Examples: [1, 0]),\n",
      "(Charter School Number:TEXT, Examples: [0728, 0811, 1049]),\n",
      "(Charter Funding Type:TEXT, Examples: [Directly funded]),\n",
      "(IRC:INTEGER, Examples: [1, 0]),\n",
      "(Low Grade:TEXT, Examples: [K, 9, 1]),\n",
      "(High Grade:TEXT, Examples: [12, 8, 5]),\n",
      "(Enrollment (K-12):REAL, Examples: [1087.0, 395.0, 244.0]),\n",
      "(Free Meal Count (K-12):REAL, Examples: [565.0, 186.0, 134.0]),\n",
      "(Percent (%) Eligible Free (K-12):REAL, Examples: [0.519779208831647, 0.470886075949367, 0.549180327868853]),\n",
      "(FRPM Count (K-12):REAL, Examples: [715.0, 186.0, 175.0]),\n",
      "(Percent (%) Eligible FRPM (K-12):REAL, Examples: [0.657773689052438, 0.470886075949367, 0.717213114754098]),\n",
      "(Enrollment (Ages 5-17):REAL, Examples: [1070.0, 376.0, 230.0]),\n",
      "(Free Meal Count (Ages 5-17):REAL, Examples: [553.0, 182.0, 128.0]),\n",
      "(Percent (%) Eligible Free (Ages 5-17):REAL, Examples: [0.516822429906542, 0.484042553191489, 0.556521739130435]),\n",
      "(FRPM Count (Ages 5-17):REAL, Examples: [702.0, 182.0, 168.0]),\n",
      "(Percent (%) Eligible FRPM (Ages 5-17):REAL, Examples: [0.65607476635514, 0.484042553191489, 0.730434782608696]),\n",
      "(2013-14 CALPADS Fall 1 Certification Status:INTEGER, Examples: [1])\n",
      "]\n",
      "# Table: satscores\n",
      "[\n",
      "(cds:TEXT, maps to schools.CDSCode, Primary Key, Examples: [10101080000000, 10101080109991, 10101080111682]),\n",
      "(rtype:TEXT, Examples: [D, S]),\n",
      "(sname:TEXT, Examples: [FAME Public Charter]),\n",
      "(dname:TEXT, Examples: [Alameda County Office of Education]),\n",
      "(cname:TEXT, Examples: [Alameda, Amador, Butte]),\n",
      "(enroll12:INTEGER, Examples: [398, 62, 75]),\n",
      "(NumTstTakr:INTEGER, Examples: [88, 17, 71]),\n",
      "(AvgScrRead:INTEGER, Examples: [418, 503, 397]),\n",
      "(AvgScrMath:INTEGER, Examples: [418, 546, 387]),\n",
      "(AvgScrWrite:INTEGER, Examples: [417, 505, 395]),\n",
      "(NumGE1500:INTEGER, Examples: [14, 9, 5])\n",
      "]\n",
      "# Table: schools\n",
      "[\n",
      "(CDSCode:TEXT, Primary Key, Examples: [01100170000000, 01100170109835, 01100170112607]),\n",
      "(NCESDist:TEXT, Examples: [0691051, 0600002, 0600003]),\n",
      "(NCESSchool:TEXT, Examples: [10546, 10947, 12283]),\n",
      "(StatusType:TEXT, Examples: [Active, Closed, Merged]),\n",
      "(County:TEXT, Examples: [Alameda, Alpine, Amador]),\n",
      "(District:TEXT),\n",
      "(School:TEXT, Examples: [FAME Public Charter]),\n",
      "(Street:TEXT, Examples: [313 West Winton Avenue]),\n",
      "(StreetAbr:TEXT, Examples: [313 West Winton Ave.]),\n",
      "(City:TEXT, Examples: [Hayward, Newark, Oakland]),\n",
      "(Zip:TEXT, Examples: [94544-1136, 94560-5359, 94612-3355]),\n",
      "(State:TEXT, Examples: [CA]),\n",
      "(MailStreet:TEXT, Examples: [313 West Winton Avenue]),\n",
      "(MailStrAbr:TEXT, Examples: [313 West Winton Ave.]),\n",
      "(MailCity:TEXT, Examples: [Hayward, Newark, Oakland]),\n",
      "(MailZip:TEXT, Examples: [94544-1136, 94560-5359, 94612]),\n",
      "(MailState:TEXT, Examples: [CA]),\n",
      "(Phone:TEXT, Examples: [(510) 887-0152, (510) 596-8901, (510) 686-4131]),\n",
      "(Ext:TEXT, Examples: [130, 1240, 1200]),\n",
      "(Website:TEXT, Examples: [www.acoe.org]),\n",
      "(OpenDate:DATE, Examples: [2005-08-29]),\n",
      "(ClosedDate:DATE, Examples: [2015-07-31]),\n",
      "(Charter:INTEGER, Examples: [1, 0]),\n",
      "(CharterNum:TEXT, Examples: [0728, 0811, 1049]),\n",
      "(FundingType:TEXT, Examples: [Directly funded]),\n",
      "(DOC:TEXT, Examples: [00, 31, 34]),\n",
      "(DOCType:TEXT, Examples: [County Office of Education (COE)]),\n",
      "(SOC:TEXT, Examples: [65, 66, 60]),\n",
      "(SOCType:TEXT, Examples: [K-12 Schools (Public)]),\n",
      "(EdOpsCode:TEXT, Examples: [TRAD, JUV, COMM]),\n",
      "(EdOpsName:TEXT, Examples: [Traditional]),\n",
      "(EILCode:TEXT, Examples: [ELEMHIGH, HS, ELEM]),\n",
      "(EILName:TEXT, Examples: [Elementary-High Combination]),\n",
      "(GSoffered:TEXT, Examples: [K-12, 9-12, K-8]),\n",
      "(GSserved:TEXT, Examples: [K-12, 9-12, K-7]),\n",
      "(Virtual:TEXT, Examples: [P, N, F]),\n",
      "(Magnet:INTEGER, Examples: [0, 1]),\n",
      "(Latitude:REAL, Examples: [37.658212, 37.521436, 37.80452]),\n",
      "(Longitude:REAL, Examples: [-122.09713, -121.99391, -122.26815]),\n",
      "(AdmFName1:TEXT, Examples: [L Karen, Laura, Clifford]),\n",
      "(AdmLName1:TEXT, Examples: [Monroe, Robell, Thompson]),\n",
      "(AdmEmail1:TEXT),\n",
      "(AdmFName2:TEXT, Examples: [Sau-Lim (Lance), Jennifer, Annalisa]),\n",
      "(AdmLName2:TEXT, Examples: [Tsang, Koelling, Moore]),\n",
      "(AdmEmail2:TEXT),\n",
      "(AdmFName3:TEXT, Examples: [Drew, Irma, Vickie]),\n",
      "(AdmLName3:TEXT, Examples: [Sarratore, Munoz, Chang]),\n",
      "(AdmEmail3:TEXT),\n",
      "(LastUpdate:DATE, Examples: [2015-06-23])\n",
      "]\n",
      "【Foreign keys】\n",
      "frpm.CDSCode=schools.CDSCode\n",
      "satscores.cds=schools.CDSCode\n",
      "\n",
      "-- Using valid SQLite and understanding External Knowledge, answer the following questions for the tables provided above.\n",
      "-- What is the highest eligible free rate for K-12 students in the schools in Alameda County?\n",
      "-- External Knowledge: Eligible free rate for K-12 = `Free Meal Count (K-12)` / `Enrollment (K-12)`\n",
      "\n",
      "\n",
      "Generate the SQLite for the above question after thinking step by step: \n",
      "\n",
      "\n",
      "Instructions:\n",
      "- Make sure you only output the information that is asked in the question. If the question asks for a specific column, make sure to only include that column in the SELECT clause, nothing more.\n",
      "- The generated query should return all of the information asked in the question without any missing or extra information.\n",
      "- Before generating the final SQL query, please think through the steps of how to write the query.\n",
      "- Do not misuse column names, keep them in quotes `\n",
      "- Carefully understand what colomns belond to what tables\n",
      "- Use only initial column names, change names prohibited\n",
      "        \n",
      "Output Format:\n",
      "In your answer, please enclose the generated SQL query in a code block:\n",
      "```\n",
      "-- Your SQL query\n",
      "```    \n",
      "and nothing else, no exaplains, no comments (asnwer should be less than 512 characters)\n",
      "\n",
      "Take a deep breath and think step by step to find the correct SQL query in SQLite format.\n",
      "\n",
      "Question repetition: What is the highest eligible free rate for K-12 students in the schools in Alameda County?\n",
      "\n",
      "Be care! Include only what i want it questiona and nothing else<|im_end|>\n",
      "<|im_start|>assistant\n",
      "<think>\n",
      "\n",
      "</think>\n",
      "\n",
      "\n",
      "\n",
      "\n",
      "Максимальное количество токенов в промптах: 25848\n",
      "\n",
      "начинаем скорринг\n",
      "Загружаем чаты с данными...\n",
      "Данные успешно загружены\n",
      "Начали генерацию SQL запросов\n"
     ]
    },
    {
     "name": "stderr",
     "output_type": "stream",
     "text": [
      "Processed prompts: 100%|██████████| 1534/1534 [01:21<00:00, 18.87it/s, est. speed input: 134277.51 toks/s, output: 885.88 toks/s]    "
     ]
    },
    {
     "name": "stdout",
     "output_type": "stream",
     "text": [
      "extract_think количество ошибок:  0\n",
      "extract_sql количество ошибок:  0\n",
      "Закончили генерацию SQL запросов\n",
      "Начали скорр полученных SQL запросов\n"
     ]
    },
    {
     "name": "stderr",
     "output_type": "stream",
     "text": [
      "\n"
     ]
    },
    {
     "name": "stdout",
     "output_type": "stream",
     "text": [
      "Qwen3-1.7B DEV Финальный результат EX: 48.11\n",
      "Qwen3-1.7B процент запросов, которые успешно выполнились DEV: 81.81%\n",
      "====================================================================================================\n",
      "\n",
      "\n",
      "Загружаем чаты с данными...\n",
      "Данные успешно загружены\n",
      "Начали генерацию SQL запросов\n"
     ]
    },
    {
     "name": "stderr",
     "output_type": "stream",
     "text": [
      "Processed prompts: 100%|██████████| 1534/1534 [01:22<00:00, 18.56it/s, est. speed input: 132018.54 toks/s, output: 874.58 toks/s]   "
     ]
    },
    {
     "name": "stdout",
     "output_type": "stream",
     "text": [
      "extract_think количество ошибок:  0\n",
      "extract_sql количество ошибок:  0\n",
      "Закончили генерацию SQL запросов\n",
      "Начали скорр полученных SQL запросов\n"
     ]
    },
    {
     "name": "stderr",
     "output_type": "stream",
     "text": [
      "\n"
     ]
    },
    {
     "name": "stdout",
     "output_type": "stream",
     "text": [
      "Qwen3-1.7B DEV Финальный результат EX: 49.28\n",
      "Qwen3-1.7B процент запросов, которые успешно выполнились DEV: 82.33%\n",
      "====================================================================================================\n",
      "\n",
      "\n",
      "Загружаем чаты с данными...\n",
      "Данные успешно загружены\n",
      "Начали генерацию SQL запросов\n"
     ]
    },
    {
     "name": "stderr",
     "output_type": "stream",
     "text": [
      "Processed prompts: 100%|██████████| 1534/1534 [01:23<00:00, 18.39it/s, est. speed input: 131805.60 toks/s, output: 866.81 toks/s]   "
     ]
    },
    {
     "name": "stdout",
     "output_type": "stream",
     "text": [
      "extract_think количество ошибок:  0\n",
      "extract_sql количество ошибок:  0\n",
      "Закончили генерацию SQL запросов\n",
      "Начали скорр полученных SQL запросов\n"
     ]
    },
    {
     "name": "stderr",
     "output_type": "stream",
     "text": [
      "\n"
     ]
    },
    {
     "name": "stdout",
     "output_type": "stream",
     "text": [
      "Qwen3-1.7B DEV Финальный результат EX: 49.54\n",
      "Qwen3-1.7B процент запросов, которые успешно выполнились DEV: 81.94%\n",
      "====================================================================================================\n",
      "\n",
      "\n",
      "Загружаем чаты с данными...\n",
      "Данные успешно загружены\n",
      "Начали генерацию SQL запросов\n"
     ]
    },
    {
     "name": "stderr",
     "output_type": "stream",
     "text": [
      "Processed prompts: 100%|██████████| 1534/1534 [01:25<00:00, 17.85it/s, est. speed input: 130062.40 toks/s, output: 847.96 toks/s]   "
     ]
    },
    {
     "name": "stdout",
     "output_type": "stream",
     "text": [
      "extract_think количество ошибок:  0\n",
      "extract_sql количество ошибок:  0\n",
      "Закончили генерацию SQL запросов\n",
      "Начали скорр полученных SQL запросов\n"
     ]
    },
    {
     "name": "stderr",
     "output_type": "stream",
     "text": [
      "\n"
     ]
    },
    {
     "name": "stdout",
     "output_type": "stream",
     "text": [
      "Qwen3-1.7B DEV Финальный результат EX: 50.26\n",
      "Qwen3-1.7B процент запросов, которые успешно выполнились DEV: 83.31%\n",
      "====================================================================================================\n",
      "\n",
      "\n",
      "Загружаем чаты с данными...\n",
      "Данные успешно загружены\n",
      "Начали генерацию SQL запросов\n"
     ]
    },
    {
     "name": "stderr",
     "output_type": "stream",
     "text": [
      "Processed prompts: 100%|██████████| 1534/1534 [01:25<00:00, 17.96it/s, est. speed input: 131164.19 toks/s, output: 842.99 toks/s]   "
     ]
    },
    {
     "name": "stdout",
     "output_type": "stream",
     "text": [
      "extract_think количество ошибок:  0\n",
      "extract_sql количество ошибок:  0\n",
      "Закончили генерацию SQL запросов\n",
      "Начали скорр полученных SQL запросов\n"
     ]
    },
    {
     "name": "stderr",
     "output_type": "stream",
     "text": [
      "\n"
     ]
    },
    {
     "name": "stdout",
     "output_type": "stream",
     "text": [
      "Qwen3-1.7B DEV Финальный результат EX: 49.87\n",
      "Qwen3-1.7B процент запросов, которые успешно выполнились DEV: 82.72%\n",
      "====================================================================================================\n",
      "\n",
      "\n",
      "Загружаем чаты с данными...\n",
      "Данные успешно загружены\n",
      "Начали генерацию SQL запросов\n"
     ]
    },
    {
     "name": "stderr",
     "output_type": "stream",
     "text": [
      "Processed prompts: 100%|██████████| 1534/1534 [01:26<00:00, 17.67it/s, est. speed input: 129355.61 toks/s, output: 835.93 toks/s]   "
     ]
    },
    {
     "name": "stdout",
     "output_type": "stream",
     "text": [
      "extract_think количество ошибок:  0\n",
      "extract_sql количество ошибок:  0\n",
      "Закончили генерацию SQL запросов\n",
      "Начали скорр полученных SQL запросов\n"
     ]
    },
    {
     "name": "stderr",
     "output_type": "stream",
     "text": [
      "\n"
     ]
    },
    {
     "name": "stdout",
     "output_type": "stream",
     "text": [
      "Qwen3-1.7B DEV Финальный результат EX: 50.78\n",
      "Qwen3-1.7B процент запросов, которые успешно выполнились DEV: 84.16%\n",
      "====================================================================================================\n",
      "\n",
      "\n",
      "Загружаем чаты с данными...\n",
      "Данные успешно загружены\n",
      "Начали генерацию SQL запросов\n"
     ]
    },
    {
     "name": "stderr",
     "output_type": "stream",
     "text": [
      "Processed prompts: 100%|██████████| 1534/1534 [01:26<00:00, 17.67it/s, est. speed input: 129918.14 toks/s, output: 835.48 toks/s]   "
     ]
    },
    {
     "name": "stdout",
     "output_type": "stream",
     "text": [
      "extract_think количество ошибок:  0\n",
      "extract_sql количество ошибок:  0\n",
      "Закончили генерацию SQL запросов\n",
      "Начали скорр полученных SQL запросов\n"
     ]
    },
    {
     "name": "stderr",
     "output_type": "stream",
     "text": [
      "\n"
     ]
    },
    {
     "name": "stdout",
     "output_type": "stream",
     "text": [
      "Qwen3-1.7B DEV Финальный результат EX: 50.59\n",
      "Qwen3-1.7B процент запросов, которые успешно выполнились DEV: 82.86%\n",
      "====================================================================================================\n",
      "\n",
      "\n",
      "Загружаем чаты с данными...\n",
      "Данные успешно загружены\n",
      "Начали генерацию SQL запросов\n"
     ]
    },
    {
     "name": "stderr",
     "output_type": "stream",
     "text": [
      "Processed prompts: 100%|██████████| 1534/1534 [01:26<00:00, 17.77it/s, est. speed input: 130297.81 toks/s, output: 839.83 toks/s]   "
     ]
    },
    {
     "name": "stdout",
     "output_type": "stream",
     "text": [
      "extract_think количество ошибок:  0\n",
      "extract_sql количество ошибок:  0\n",
      "Закончили генерацию SQL запросов\n",
      "Начали скорр полученных SQL запросов\n"
     ]
    },
    {
     "name": "stderr",
     "output_type": "stream",
     "text": [
      "\n"
     ]
    },
    {
     "name": "stdout",
     "output_type": "stream",
     "text": [
      "Qwen3-1.7B DEV Финальный результат EX: 48.70\n",
      "Qwen3-1.7B процент запросов, которые успешно выполнились DEV: 82.99%\n",
      "====================================================================================================\n",
      "\n",
      "\n",
      "Загружаем чаты с данными...\n",
      "Данные успешно загружены\n",
      "Начали генерацию SQL запросов\n"
     ]
    },
    {
     "name": "stderr",
     "output_type": "stream",
     "text": [
      "Processed prompts: 100%|██████████| 1534/1534 [01:26<00:00, 17.83it/s, est. speed input: 130968.21 toks/s, output: 836.94 toks/s]   "
     ]
    },
    {
     "name": "stdout",
     "output_type": "stream",
     "text": [
      "extract_think количество ошибок:  0\n",
      "extract_sql количество ошибок:  0\n",
      "Закончили генерацию SQL запросов\n",
      "Начали скорр полученных SQL запросов\n"
     ]
    },
    {
     "name": "stderr",
     "output_type": "stream",
     "text": [
      "\n"
     ]
    },
    {
     "name": "stdout",
     "output_type": "stream",
     "text": [
      "Qwen3-1.7B DEV Финальный результат EX: 49.93\n",
      "Qwen3-1.7B процент запросов, которые успешно выполнились DEV: 83.25%\n",
      "====================================================================================================\n",
      "\n",
      "\n",
      "Загружаем чаты с данными...\n",
      "Данные успешно загружены\n",
      "Начали генерацию SQL запросов\n"
     ]
    },
    {
     "name": "stderr",
     "output_type": "stream",
     "text": [
      "Processed prompts: 100%|██████████| 1534/1534 [01:26<00:00, 17.81it/s, est. speed input: 130749.30 toks/s, output: 839.95 toks/s]   "
     ]
    },
    {
     "name": "stdout",
     "output_type": "stream",
     "text": [
      "extract_think количество ошибок:  0\n",
      "extract_sql количество ошибок:  0\n",
      "Закончили генерацию SQL запросов\n",
      "Начали скорр полученных SQL запросов\n"
     ]
    },
    {
     "name": "stderr",
     "output_type": "stream",
     "text": [
      "\n"
     ]
    },
    {
     "name": "stdout",
     "output_type": "stream",
     "text": [
      "Qwen3-1.7B DEV Финальный результат EX: 49.35\n",
      "Qwen3-1.7B процент запросов, которые успешно выполнились DEV: 83.38%\n",
      "====================================================================================================\n",
      "\n",
      "\n",
      "Загружаем чаты с данными...\n",
      "Данные успешно загружены\n",
      "Начали генерацию SQL запросов\n"
     ]
    },
    {
     "name": "stderr",
     "output_type": "stream",
     "text": [
      "Processed prompts: 100%|██████████| 1534/1534 [01:25<00:00, 17.93it/s, est. speed input: 131434.93 toks/s, output: 840.87 toks/s]   "
     ]
    },
    {
     "name": "stdout",
     "output_type": "stream",
     "text": [
      "extract_think количество ошибок:  0\n",
      "extract_sql количество ошибок:  0\n",
      "Закончили генерацию SQL запросов\n",
      "Начали скорр полученных SQL запросов\n"
     ]
    },
    {
     "name": "stderr",
     "output_type": "stream",
     "text": [
      "\n"
     ]
    },
    {
     "name": "stdout",
     "output_type": "stream",
     "text": [
      "Qwen3-1.7B DEV Финальный результат EX: 50.00\n",
      "Qwen3-1.7B процент запросов, которые успешно выполнились DEV: 82.92%\n",
      "====================================================================================================\n",
      "\n",
      "\n",
      "Загружаем чаты с данными...\n",
      "Данные успешно загружены\n",
      "Начали генерацию SQL запросов\n"
     ]
    },
    {
     "name": "stderr",
     "output_type": "stream",
     "text": [
      "Processed prompts: 100%|██████████| 1534/1534 [01:24<00:00, 18.09it/s, est. speed input: 131959.51 toks/s, output: 852.27 toks/s]   "
     ]
    },
    {
     "name": "stdout",
     "output_type": "stream",
     "text": [
      "extract_think количество ошибок:  0\n",
      "extract_sql количество ошибок:  0\n",
      "Закончили генерацию SQL запросов\n",
      "Начали скорр полученных SQL запросов\n"
     ]
    },
    {
     "name": "stderr",
     "output_type": "stream",
     "text": [
      "\n"
     ]
    },
    {
     "name": "stdout",
     "output_type": "stream",
     "text": [
      "Qwen3-1.7B DEV Финальный результат EX: 48.76\n",
      "Qwen3-1.7B процент запросов, которые успешно выполнились DEV: 81.88%\n",
      "====================================================================================================\n",
      "\n",
      "\n",
      "Загружаем чаты с данными...\n",
      "Данные успешно загружены\n",
      "Начали генерацию SQL запросов\n"
     ]
    },
    {
     "name": "stderr",
     "output_type": "stream",
     "text": [
      "Processed prompts: 100%|██████████| 1534/1534 [01:25<00:00, 17.94it/s, est. speed input: 131238.71 toks/s, output: 843.00 toks/s]   "
     ]
    },
    {
     "name": "stdout",
     "output_type": "stream",
     "text": [
      "extract_think количество ошибок:  0\n",
      "extract_sql количество ошибок:  0\n",
      "Закончили генерацию SQL запросов\n",
      "Начали скорр полученных SQL запросов\n"
     ]
    },
    {
     "name": "stderr",
     "output_type": "stream",
     "text": [
      "\n"
     ]
    },
    {
     "name": "stdout",
     "output_type": "stream",
     "text": [
      "Qwen3-1.7B DEV Финальный результат EX: 48.50\n",
      "Qwen3-1.7B процент запросов, которые успешно выполнились DEV: 82.14%\n",
      "====================================================================================================\n",
      "\n",
      "\n",
      "Загружаем чаты с данными...\n",
      "Данные успешно загружены\n",
      "Начали генерацию SQL запросов\n"
     ]
    },
    {
     "name": "stderr",
     "output_type": "stream",
     "text": [
      "Processed prompts: 100%|██████████| 1534/1534 [01:25<00:00, 17.88it/s, est. speed input: 131145.61 toks/s, output: 838.39 toks/s]   "
     ]
    },
    {
     "name": "stdout",
     "output_type": "stream",
     "text": [
      "extract_think количество ошибок:  0\n",
      "extract_sql количество ошибок:  0\n",
      "Закончили генерацию SQL запросов\n",
      "Начали скорр полученных SQL запросов\n"
     ]
    },
    {
     "name": "stderr",
     "output_type": "stream",
     "text": [
      "\n"
     ]
    },
    {
     "name": "stdout",
     "output_type": "stream",
     "text": [
      "Qwen3-1.7B DEV Финальный результат EX: 49.87\n",
      "Qwen3-1.7B процент запросов, которые успешно выполнились DEV: 82.92%\n",
      "====================================================================================================\n",
      "\n",
      "\n",
      "Загружаем чаты с данными...\n",
      "Данные успешно загружены\n",
      "Начали генерацию SQL запросов\n"
     ]
    },
    {
     "name": "stderr",
     "output_type": "stream",
     "text": [
      "Processed prompts: 100%|██████████| 1534/1534 [01:25<00:00, 18.01it/s, est. speed input: 131408.05 toks/s, output: 851.19 toks/s]   "
     ]
    },
    {
     "name": "stdout",
     "output_type": "stream",
     "text": [
      "extract_think количество ошибок:  0\n",
      "extract_sql количество ошибок:  0\n",
      "Закончили генерацию SQL запросов\n",
      "Начали скорр полученных SQL запросов\n"
     ]
    },
    {
     "name": "stderr",
     "output_type": "stream",
     "text": [
      "\n"
     ]
    },
    {
     "name": "stdout",
     "output_type": "stream",
     "text": [
      "Qwen3-1.7B DEV Финальный результат EX: 50.46\n",
      "Qwen3-1.7B процент запросов, которые успешно выполнились DEV: 83.57%\n",
      "====================================================================================================\n",
      "\n",
      "\n",
      "Загружаем чаты с данными...\n",
      "Данные успешно загружены\n",
      "Начали генерацию SQL запросов\n"
     ]
    },
    {
     "name": "stderr",
     "output_type": "stream",
     "text": [
      "Processed prompts: 100%|██████████| 1534/1534 [01:25<00:00, 17.92it/s, est. speed input: 130317.34 toks/s, output: 841.37 toks/s]   "
     ]
    },
    {
     "name": "stdout",
     "output_type": "stream",
     "text": [
      "extract_think количество ошибок:  0\n",
      "extract_sql количество ошибок:  0\n",
      "Закончили генерацию SQL запросов\n",
      "Начали скорр полученных SQL запросов\n"
     ]
    },
    {
     "name": "stderr",
     "output_type": "stream",
     "text": [
      "\n"
     ]
    },
    {
     "name": "stdout",
     "output_type": "stream",
     "text": [
      "Qwen3-1.7B DEV Финальный результат EX: 48.96\n",
      "Qwen3-1.7B процент запросов, которые успешно выполнились DEV: 83.12%\n",
      "====================================================================================================\n",
      "\n",
      "\n",
      "Загружаем чаты с данными...\n",
      "Данные успешно загружены\n",
      "Начали генерацию SQL запросов\n"
     ]
    },
    {
     "name": "stderr",
     "output_type": "stream",
     "text": [
      "Processed prompts: 100%|██████████| 1534/1534 [01:25<00:00, 17.93it/s, est. speed input: 130518.07 toks/s, output: 851.70 toks/s]   "
     ]
    },
    {
     "name": "stdout",
     "output_type": "stream",
     "text": [
      "extract_think количество ошибок:  0\n",
      "extract_sql количество ошибок:  0\n",
      "Закончили генерацию SQL запросов\n",
      "Начали скорр полученных SQL запросов\n"
     ]
    },
    {
     "name": "stderr",
     "output_type": "stream",
     "text": [
      "\n"
     ]
    },
    {
     "name": "stdout",
     "output_type": "stream",
     "text": [
      "Qwen3-1.7B DEV Финальный результат EX: 49.02\n",
      "Qwen3-1.7B процент запросов, которые успешно выполнились DEV: 82.66%\n",
      "====================================================================================================\n",
      "\n",
      "\n",
      "Загружаем чаты с данными...\n",
      "Данные успешно загружены\n",
      "Начали генерацию SQL запросов\n"
     ]
    },
    {
     "name": "stderr",
     "output_type": "stream",
     "text": [
      "Processed prompts: 100%|██████████| 1534/1534 [01:24<00:00, 18.09it/s, est. speed input: 130702.75 toks/s, output: 856.84 toks/s]   "
     ]
    },
    {
     "name": "stdout",
     "output_type": "stream",
     "text": [
      "extract_think количество ошибок:  0\n",
      "extract_sql количество ошибок:  0\n",
      "Закончили генерацию SQL запросов\n",
      "Начали скорр полученных SQL запросов\n"
     ]
    },
    {
     "name": "stderr",
     "output_type": "stream",
     "text": [
      "\n"
     ]
    },
    {
     "name": "stdout",
     "output_type": "stream",
     "text": [
      "Qwen3-1.7B DEV Финальный результат EX: 49.22\n",
      "Qwen3-1.7B процент запросов, которые успешно выполнились DEV: 81.81%\n",
      "====================================================================================================\n",
      "\n",
      "\n",
      "Загружаем чаты с данными...\n",
      "Данные успешно загружены\n",
      "Начали генерацию SQL запросов\n"
     ]
    },
    {
     "name": "stderr",
     "output_type": "stream",
     "text": [
      "Processed prompts: 100%|██████████| 1534/1534 [01:22<00:00, 18.62it/s, est. speed input: 131677.70 toks/s, output: 877.35 toks/s]   "
     ]
    },
    {
     "name": "stdout",
     "output_type": "stream",
     "text": [
      "extract_think количество ошибок:  0\n",
      "extract_sql количество ошибок:  0\n",
      "Закончили генерацию SQL запросов\n",
      "Начали скорр полученных SQL запросов\n"
     ]
    },
    {
     "name": "stderr",
     "output_type": "stream",
     "text": [
      "\n"
     ]
    },
    {
     "name": "stdout",
     "output_type": "stream",
     "text": [
      "Qwen3-1.7B DEV Финальный результат EX: 49.61\n",
      "Qwen3-1.7B процент запросов, которые успешно выполнились DEV: 82.99%\n",
      "====================================================================================================\n",
      "\n",
      "\n",
      "Загружаем чаты с данными...\n",
      "Данные успешно загружены\n",
      "Начали генерацию SQL запросов\n"
     ]
    },
    {
     "name": "stderr",
     "output_type": "stream",
     "text": [
      "Processed prompts: 100%|██████████| 1534/1534 [01:22<00:00, 18.49it/s, est. speed input: 131218.07 toks/s, output: 874.43 toks/s]   "
     ]
    },
    {
     "name": "stdout",
     "output_type": "stream",
     "text": [
      "extract_think количество ошибок:  0\n",
      "extract_sql количество ошибок:  0\n",
      "Закончили генерацию SQL запросов\n",
      "Начали скорр полученных SQL запросов\n"
     ]
    },
    {
     "name": "stderr",
     "output_type": "stream",
     "text": [
      "\n"
     ]
    },
    {
     "name": "stdout",
     "output_type": "stream",
     "text": [
      "Qwen3-1.7B DEV Финальный результат EX: 47.13\n",
      "Qwen3-1.7B процент запросов, которые успешно выполнились DEV: 81.29%\n",
      "====================================================================================================\n",
      "\n",
      "\n"
     ]
    }
   ],
   "source": [
    "run_cot_experiment(model,arr_seeds,arr_versions, type_cot,num_observations=num_observations)"
   ]
  },
  {
   "cell_type": "code",
   "execution_count": 20,
   "id": "618682f5-a160-460f-8f95-1cf78a4111df",
   "metadata": {},
   "outputs": [
    {
     "name": "stdout",
     "output_type": "stream",
     "text": [
      "[756, 346, 421, 654, 553, 106, 845, 537, 356, 502, 78, 50, 195, 302, 83, 683, 873, 886, 697, 28]\n",
      "model: Qwen3-1.7B\n"
     ]
    }
   ],
   "source": [
    "n= 20\n",
    "arr_seeds = [random.randint(0,1000) for _ in range(n)]\n",
    "arr_versions = [x for x in range(n)]\n",
    "model = \"Qwen3-1.7B\"\n",
    "num_observations = 6\n",
    "type_cot = 'think'\n",
    "print(arr_seeds)\n",
    "print(f\"model: {model}\")"
   ]
  },
  {
   "cell_type": "code",
   "execution_count": 21,
   "id": "5346e0c4-95a5-4b8b-99f8-bd9905dbdbf5",
   "metadata": {
    "scrolled": true
   },
   "outputs": [
    {
     "name": "stdout",
     "output_type": "stream",
     "text": [
      "Загружаем модель...\n"
     ]
    },
    {
     "name": "stderr",
     "output_type": "stream",
     "text": [
      "Loading safetensors checkpoint shards:   0% Completed | 0/2 [00:00<?, ?it/s]\n",
      "Loading safetensors checkpoint shards:  50% Completed | 1/2 [00:01<00:01,  1.21s/it]\n",
      "Loading safetensors checkpoint shards: 100% Completed | 2/2 [00:01<00:00,  1.59it/s]\n",
      "\u001b[1;36m(VllmWorker rank=0 pid=3294660)\u001b[0;0m \n"
     ]
    },
    {
     "name": "stdout",
     "output_type": "stream",
     "text": [
      "Модель успешно загружена\n",
      "model_config {'model': '/data/home/vkropoti/models/Qwen3-1.7B', 'tensor_parallel_size': 2, 'max_model_len': 40000, 'max_new_tokens': 1500, 'temperature': 0, 'top_k': 1, 'top_p': 0.8, 'gpu_memory_utilization': 0.9, 'trust_remote_code': False, 'seed': 756}\n",
      "\n",
      "prompts_config {'path_dev_json': '/home/vkropoti/vllm/dev.json', 'path_sql_dbs': '/data/home/vkropoti/sql_data/dev_databases/', 'use_reasoning': False, 'paths_to_cot': ['/data/home/vkropoti/sql_llm_answers/bird_dev_m_schema/sql_think_Qwen3-1.7B-reasoning-v0', '/data/home/vkropoti/sql_llm_answers/bird_dev_m_schema/sql_think_Qwen3-1.7B-reasoning-v1', '/data/home/vkropoti/sql_llm_answers/bird_dev_m_schema/sql_think_Qwen3-1.7B-reasoning-v2', '/data/home/vkropoti/sql_llm_answers/bird_dev_m_schema/sql_think_Qwen3-1.7B-reasoning-v3', '/data/home/vkropoti/sql_llm_answers/bird_dev_m_schema/sql_think_Qwen3-1.7B-reasoning-v4', '/data/home/vkropoti/sql_llm_answers/bird_dev_m_schema/sql_think_Qwen3-1.7B-reasoning-v5']}\n",
      "\n",
      "save_config {'path_sql_save': '/data/home/vkropoti/sql_llm_answers/bird_dev_m_schema/sql_all_Qwen3-1.7B-cot_think_think==False_nobs6-v0', 'path_think_save': None, 'path_sql_answers_save': '/data/home/vkropoti/sql_llm_answers/bird_dev_m_schema/sql_predict_Qwen3-1.7B-cot_think_think==False_nobs6-v0', 'path_to_save_scores': '/data/home/vkropoti/sql_llm_answers/bird_dev_m_schema/sql_results_Qwen3-1.7B-cot_think_think==False_nobs6-v0', 'path_to_save_executed': '/data/home/vkropoti/sql_llm_answers/bird_dev_m_schema/sql_executed_Qwen3-1.7B-cot_think_think==False_nobs6-v0'}\n",
      "\n",
      "Модель успешно загружена\n",
      "Пример промпта\n",
      "<|im_start|>system\n",
      "\n",
      "You are a data science expert. Below, you are provided with a database schema and a natural language question. Your task is to understand the schema and generate a valid SQL query to answer the question.\n",
      "\n",
      "Database Engine: SQLite\n",
      "\n",
      "You will be given an additional analysis of other models, please take it into account, so the plan is\n",
      "1. Analyse given addition analysis from other models (find in which analysis the same and differ, how to use that to answer question)\n",
      "2. Combine best from previous part and think how to solve the problem (analyze tables, take care what columns avaliable in each table and so on, check the syntacsis)\n",
      "3. Create the answers. The answer should be only sql query.\n",
      "\n",
      "Carefully follow the instruction and add <|im_end|> and the end of the final answer<|im_end|>\n",
      "<|im_start|>user\n",
      "Here is addition analysis from other models which can be helpfull, please take this into account but be careful (choose the best from each analysis, combine them to make the most proper answer):\n",
      "\n",
      "model 0 analysis:\n",
      " Okay, let's tackle this question step by step. The user wants the highest eligible free rate for K-12 students in Alameda County. \n",
      "\n",
      "First, I need to figure out which tables are involved. The eligible free rate is calculated as Free Meal Count (K-12) divided by Enrollment (K-12). So I need data from the frpm table. But the frpm table has the Free Meal Count and Enrollment values. However, the schools table has the County information, so I need to join the schools table with the frpm table on the CDSCode.\n",
      "\n",
      "Wait, the foreign keys are frpm.CDSCode = schools.CDSCode and satscores.cds = schools.CDSCode. So the schools table has the CDSCode, which is linked to frpm. So the plan is to join schools with frpm on CDSCode, filter where the County is 'Alameda County', then calculate the ratio.\n",
      "\n",
      "But wait, the schools table's County column has examples like 'Alameda', 'Alpine', etc. So the County column is a TEXT field. So I need to check if the County is 'Alameda' exactly. But maybe the actual county names might have spaces or different formats. However, the examples given in the schools table's County column are 'Alameda', so assuming that 'Alameda' is the correct value.\n",
      "\n",
      "So the steps are:\n",
      "\n",
      "1. Join schools and frpm on CDSCode.\n",
      "2. Filter where schools.County = 'Alameda'.\n",
      "3. Calculate Free Meal Count (K-12) / Enrollment (K-12) for each school.\n",
      "4. Find the maximum value of this ratio.\n",
      "\n",
      "But the question says \"highest eligible free rate\", so we need the maximum value from the calculated ratio.\n",
      "\n",
      "Now, the SQL query would need to select the maximum of (Free Meal Count (K-12) / Enrollment (K-12)) from the joined tables where County is 'Alameda'.\n",
      "\n",
      "But wait, the frpm table has the Free Meal Count (K-12) as a REAL number and Enrollment (K-12) as a REAL number. So the division would be done in the query.\n",
      "\n",
      "So the SQL query would be:\n",
      "\n",
      "SELECT MAX(Free Meal Count (K-12) / Enrollment (K-12)) FROM schools JOIN frpm ON schools.CDSCode = frpm.CDSCode WHERE schools.County = 'Alameda';\n",
      "\n",
      "But need to check if the County is exactly 'Alameda' or if there's a need to use a LIKE clause. The examples given in the schools table's County column are 'Alameda', so it's likely that the exact value is 'Alameda'. However, in practice, sometimes counties might have different names, but based on the given data, we can assume that.\n",
      "\n",
      "Another thing: the schools table has a District column, but the County is the primary field here. So the JOIN is on CDSCode, which is the same in both tables.\n",
      "\n",
      "So the final query would be as above. But need to make sure that the columns are correctly referenced. The frpm table has Free Meal Count (K-12) as a column, and Enrollment (K-12) as another column. So the division is between those two.\n",
      "\n",
      "Therefore, the SQL query should select the maximum of that ratio from the joined tables where the county is Alameda.\n",
      "\n",
      "model 1 analysis:\n",
      " Okay, let's tackle this question. The user wants the highest eligible free rate for K-12 students in Alameda County. \n",
      "\n",
      "First, I need to figure out which tables are involved. The relevant tables here are 'frpm' and 'schools' because the 'frpm' table has the eligible free rates and the 'schools' table has the county information. \n",
      "\n",
      "The 'schools' table has a 'County' column, and we need to filter for Alameda County. So, I'll start by joining the 'schools' table with the 'frpm' table on the 'CDSCode' since that's the primary key link. \n",
      "\n",
      "Next, the eligible free rate is calculated as Free Meal Count (K-12) divided by Enrollment (K-12). But wait, the question specifies K-12 students, so I need to make sure that the rows in frpm are for K-12. The 'Low Grade' and 'High Grade' columns in frpm might indicate the grade levels, but the question is specifically about K-12. So maybe the 'Low Grade' is K, and the 'High Grade' is 12. But the user might just want the rate for K-12 students, so perhaps we can assume that the rows in frpm where Low Grade is 'K' and High Grade is '12' are the ones we need. However, the problem statement says \"K-12 students,\" so maybe we need to check if the frpm data includes that. But the user's question doesn't specify filtering by grade, just K-12. So perhaps the frpm table's rows are already for K-12, or we need to check the data.\n",
      "\n",
      "But since the question is about K-12, maybe the frpm table's rows are for K-12. However, the 'Low Grade' and 'High Grade' columns might not be directly relevant here. The user's question is about the highest eligible free rate for K-12 students, so the frpm table's rows where the school is in Alameda County and the grade levels are K-12. But the problem is that the 'frpm' table's 'Low Grade' is 'K' and 'High Grade' is '12', so perhaps we need to filter where Low Grade is 'K' and High Grade is '12'.\n",
      "\n",
      "But the user's question might not require that, since the question is about K-12 students in general. However, the data might have entries for K-12, so perhaps we can just use the frpm table's rows where the school is in Alameda County. \n",
      "\n",
      "Wait, the 'schools' table has a 'County' column, so we need to join on that. So the plan is: join schools and frpm on CDSCode, filter where County is 'Alameda', then calculate the eligible free rate as Free Meal Count (K-12) / Enrollment (K-12), and find the maximum value.\n",
      "\n",
      "But the user's question says \"highest eligible free rate for K-12 students in the schools in Alameda County\". So the steps are:\n",
      "\n",
      "1. Join schools and frpm on CDSCode.\n",
      "2. Filter schools where County is 'Alameda'.\n",
      "3. Calculate the eligible free rate for K-12 students (Free Meal Count (K-12) / Enrollment (K-12)).\n",
      "4. Find the maximum value of this rate.\n",
      "\n",
      "But the problem is that the frpm table's 'Low Grade' and 'High Grade' might not be directly relevant here. However, the question is about K-12 students, so maybe the frpm table's rows are for K-12. Alternatively, the 'Low Grade' is 'K' and 'High Grade' is '12', so the rows where Low Grade is 'K' and High Grade is '12' are for K-12. Therefore, we need to filter those rows.\n",
      "\n",
      "So the query would be:\n",
      "\n",
      "SELECT MAX( (Free Meal Count (K-12) / Enrollment (K-12)) ) AS highest_rate\n",
      "FROM frpm\n",
      "JOIN schools ON frpm.CDSCode = schools.CDSCode\n",
      "WHERE schools.County = 'Alameda' AND frpm.Low Grade = 'K' AND frpm.High Grade = '12';\n",
      "\n",
      "But the user's question might not require checking the grade levels, just the K-12 students. However, the data might not have entries for K-12. But the problem says \"K-12 students\", so perhaps the frpm table's rows are for K-12. But the 'Low Grade' and 'High Grade' columns are part of the frpm table. So the correct approach is to check those columns.\n",
      "\n",
      "But the user's question is phrased as \"highest eligible free rate for K-12 students in the schools in Alameda County\". So the answer would require that the frpm data includes K-12 students. Therefore, the query would need to filter where Low Grade is 'K' and High Grade is '12'.\n",
      "\n",
      "But the user might not have that data. However, based on the schema, the frpm table's columns include Low Grade and High Grade, so the answer must consider those.\n",
      "\n",
      "So the final SQL query would be:\n",
      "\n",
      "SELECT MAX( (Free Meal Count (K-12) / Enrollment (K-12)) ) AS highest_rate\n",
      "FROM frpm\n",
      "JOIN schools ON frpm.CDSCode = schools.CDSCode\n",
      "WHERE schools.County = 'Alameda' AND frpm.Low Grade = 'K' AND frpm.High Grade = '12';\n",
      "\n",
      "But the problem is that in SQLite, the column names are in quotes. Also, the user wants only the column in the SELECT clause, which is the highest rate. So the query should select the maximum of that rate.\n",
      "\n",
      "But the question might not require the actual values, just the maximum. So the query would be as above.\n",
      "\n",
      "Wait, but the user's question is to get the highest eligible free rate. So the SQL would be to select the maximum of (Free Meal Count (K-12)/Enrollment (K-12)) where the school is in Alameda County and the grade levels are K-12.\n",
      "\n",
      "Therefore, the correct query is as above.\n",
      "\n",
      "model 2 analysis:\n",
      " Okay, let's tackle this question. The user wants the highest eligible free rate for K-12 students in Alameda County. \n",
      "\n",
      "First, I need to figure out which tables are involved. The relevant tables here are 'schools' and 'frpm' because they have the CDSCode and County information. The 'satscores' table might not be necessary here since the question is about free meal counts and enrollments.\n",
      "\n",
      "The 'schools' table has the County field, so I can filter for County = 'Alameda'. The 'frpm' table has 'County Name' and 'Enrollment (K-12)', 'Free Meal Count (K-12)', and 'Percent (%) Eligible Free (K-12)' columns. \n",
      "\n",
      "Wait, the 'frpm' table's 'County Name' might have the county names, but the 'schools' table's 'County' field is a TEXT field. So I need to join the two tables on schools.CDSCode = frpm.CDSCode. Then, filter where schools.County = 'Alameda'.\n",
      "\n",
      "But the question is about the highest eligible free rate. So I need to calculate the percentage from the 'Percent (%) Eligible Free (K-12)' column. Then, find the maximum value among those that are in Alameda County.\n",
      "\n",
      "So the steps are: join schools and frpm on CDSCode, filter where County is 'Alameda', select the Percent column, order by it descending, limit 1.\n",
      "\n",
      "Wait, but the 'frpm' table has 'Percent (%) Eligible Free (K-12)' as a column. So the SQL would be:\n",
      "\n",
      "SELECT MAX(Percent (%) Eligible Free (K-12)) FROM frpm JOIN schools ON frpm.CDSCode = schools.CDSCode WHERE schools.County = 'Alameda';\n",
      "\n",
      "But I need to make sure that the column names are correct. The 'frpm' table has 'Percent (%) Eligible Free (K-12)' as a column, so that's correct. The 'schools' table has 'County' as a column. \n",
      "\n",
      "But the question says \"schools in Alameda County\", so the 'schools' table's County must be 'Alameda'. \n",
      "\n",
      "So the final query would be joining the two tables on CDSCode, filtering the County, then selecting the max of the eligible free rate. \n",
      "\n",
      "But wait, the user wants the highest rate, so MAX() is correct. \n",
      "\n",
      "I need to make sure that the columns are correctly referenced. Also, the 'frpm' table's 'County Name' might have the county name, but the 'schools' table's 'County' is the one to filter. So the join is correct.\n",
      "\n",
      "So the SQL query would be:\n",
      "\n",
      "SELECT MAX(Percent (%) Eligible Free (K-12)) FROM frpm JOIN schools ON frpm.CDSCode = schools.CDSCode WHERE schools.County = 'Alameda';\n",
      "\n",
      "model 3 analysis:\n",
      " Okay, let's tackle this question. The user wants the highest eligible free rate for K-12 students in Alameda County. \n",
      "\n",
      "First, I need to figure out which tables are involved. The relevant tables here are 'frpm' and 'schools' because the 'frpm' table has the eligible free rates and the 'schools' table has the county information. \n",
      "\n",
      "The 'schools' table has a 'County' column, and we need to filter for Alameda County. So, I'll start by joining the 'schools' table with the 'frpm' table on the 'CDSCode' since that's the primary key link. \n",
      "\n",
      "Next, the eligible free rate is calculated as Free Meal Count (K-12) divided by Enrollment (K-12). But wait, the question specifies K-12 students, so I need to make sure that the rows in frpm are for K-12. The 'Low Grade' and 'High Grade' columns in frpm might indicate the grade levels, but the question is specifically about K-12. So maybe the 'Low Grade' is K, and the 'High Grade' is 12. But the user might just want the rate for K-12 students, so perhaps we can assume that the rows in frpm where Low Grade is 'K' and High Grade is '12' are the ones we need. However, the problem statement says \"K-12 students,\" so maybe the frpm table's data already covers that. But to be safe, maybe we need to filter where Low Grade is 'K' and High Grade is '12'. \n",
      "\n",
      "Wait, the user's question says \"for K-12 students,\" so the frpm data should have entries for K-12. But the 'frpm' table's columns have 'Low Grade' and 'High Grade' as TEXT. So maybe the rows where Low Grade is 'K' and High Grade is '12' are the K-12 students. So I need to filter those rows. \n",
      "\n",
      "So the query would join schools and frpm on CDSCode, filter schools where County is 'Alameda', and then filter frpm where Low Grade is 'K' and High Grade is '12'. Then calculate the percentage (Free Meal Count (K-12) / Enrollment (K-12)) and find the maximum value. \n",
      "\n",
      "But the user wants the highest eligible free rate, so after joining and filtering, I need to compute the percentage and select the maximum. \n",
      "\n",
      "Wait, the question says \"the highest eligible free rate for K-12 students in the schools in Alameda County.\" So the steps are:\n",
      "\n",
      "1. Join schools and frpm on CDSCode.\n",
      "2. Filter schools where County is 'Alameda'.\n",
      "3. Filter frpm where Low Grade is 'K' and High Grade is '12'.\n",
      "4. Calculate the percentage (Free Meal Count (K-12) / Enrollment (K-12)).\n",
      "5. Find the maximum value of this percentage.\n",
      "\n",
      "So the SQL query would select the maximum of the calculated percentage from the joined tables. \n",
      "\n",
      "But how to structure this in SQL. Let's see. The tables are 'schools' and 'frpm'. The join is on schools.CDSCode = frpm.CDSCode. \n",
      "\n",
      "So the query would be:\n",
      "\n",
      "SELECT MAX( (frpm.Free Meal Count (K-12) / frpm.Enrollment (K-12)) * 100 ) AS highest_rate\n",
      "FROM schools\n",
      "JOIN frpm ON schools.CDSCode = frpm.CDSCode\n",
      "WHERE schools.County = 'Alameda' AND frpm.Low Grade = 'K' AND frpm.High Grade = '12';\n",
      "\n",
      "Wait, but the columns in the frpm table are named with quotes. The user specified that the columns should be in quotes. So the column names in the frpm table are like 'Free Meal Count (K-12)' and 'Enrollment (K-12)'. So the correct column names in the SQL query would be with quotes. \n",
      "\n",
      "So the query would be:\n",
      "\n",
      "SELECT MAX( (frpm.Free Meal Count (K-12) / frpm.Enrollment (K-12)) ) AS highest_rate\n",
      "FROM schools\n",
      "JOIN frpm ON schools.CDSCode = frpm.CDSCode\n",
      "WHERE schools.County = 'Alameda' AND frpm.Low Grade = 'K' AND frpm.High Grade = '12';\n",
      "\n",
      "But the question says \"highest eligible free rate\" which is the percentage. So the calculation is (Free Meal Count / Enrollment) * 100? Or is it (Free Meal Count / Enrollment) as a percentage? The user's external knowledge says Eligible free rate is Free Meal Count / Enrollment. But the question says \"Percent (%) Eligible Free (K-12)\" in the frpm table. So the actual value in the frpm table is the percentage. So maybe the value is already in percentage, so we don't need to multiply by 100. Wait, the example for Percent (%) Eligible Free (K-12) is [0.519779208831647, 0.470886075949367, 0.549180327868853]. So these are decimal numbers, not percentages. So the actual value is the percentage as a decimal. So the user's question says \"highest eligible free rate\" which is the value in the frpm table, which is already in percentage. So the calculation is just selecting the maximum of that value. \n",
      "\n",
      "Wait, but the user's external knowledge says Eligible free rate is Free Meal Count / Enrollment. But the frpm table has the Percent (%) Eligible Free (K-12) as a decimal. So perhaps the value in frpm is already the percentage. So the query would just select the maximum of that column. \n",
      "\n",
      "But the user's question is asking for the highest eligible free rate, which is the value in the Percent (%) Eligible Free (K-12) column. So the correct query is to select the maximum of that column where the conditions are met. \n",
      "\n",
      "So the query would be:\n",
      "\n",
      "SELECT MAX(Percent (%) Eligible Free (K-12)) \n",
      "FROM frpm\n",
      "JOIN schools ON frpm.CDSCode = schools.CDSCode\n",
      "WHERE schools.County = 'Alameda' AND frpm.Low Grade = 'K' AND frpm.High Grade = '12';\n",
      "\n",
      "But the user wants the answer in the correct format. Also, the columns in the frpm table are named with quotes. So in the SQL query, the column names must be in quotes. \n",
      "\n",
      "So the final query would be:\n",
      "\n",
      "SELECT MAX(Percent (%) Eligible Free (K-12)) \n",
      "FROM schools \n",
      "JOIN frpm ON schools.CDSCode = frpm.CDSCode \n",
      "WHERE schools.County = 'Alameda' AND frpm.Low Grade = 'K' AND frpm.High Grade = '12';\n",
      "\n",
      "But the user might have the columns in the frpm table as 'Free Meal Count (K-12)' and 'Enrollment (K-12)', but the question is about the Percent (%) Eligible Free (K-12) column. So the query would select that column. \n",
      "\n",
      "So the correct SQL is:\n",
      "\n",
      "SELECT MAX(Percent (%) Eligible Free (K-12)) \n",
      "FROM schools \n",
      "JOIN frpm ON schools.CDSCode = frpm.CDSCode \n",
      "WHERE schools.County = 'Alameda' AND frpm.Low Grade = 'K' AND frpm.High Grade = '12';\n",
      "\n",
      "But the problem says that the user wants the highest eligible free rate, which is the maximum of that column. \n",
      "\n",
      "So the final answer is that SQL query.\n",
      "\n",
      "model 4 analysis:\n",
      " Okay, let's tackle this problem. The user wants the highest eligible free rate for K-12 students in Alameda County. First, I need to figure out which tables are involved. The relevant tables here are frpm and schools, probably. Because the frpm table has the eligible free rates, and the schools table has the county information.\n",
      "\n",
      "Wait, the frpm table has columns like Percent (%) Eligible Free (K-12) and Enrollment (K-12). The question is about Alameda County, so I need to filter schools where County is Alameda. Then, from the frpm table, get the Percent Eligible Free (K-12) and Enrollment (K-12) for those schools.\n",
      "\n",
      "But wait, the schools table has a County column, so I need to join schools with frpm on schools.CDSCode equals frpm.CDSCode. Then, filter the schools where County is 'Alameda'. Then calculate the ratio of Free Meal Count (K-12) to Enrollment (K-12) and take the maximum value.\n",
      "\n",
      "Wait, the user mentioned the formula: Eligible free rate is Free Meal Count (K-12) divided by Enrollment (K-12). So, for each school in Alameda County, calculate that ratio and find the maximum.\n",
      "\n",
      "So the steps are: join schools and frpm on CDSCode, filter county = 'Alameda', then compute the ratio and find the max.\n",
      "\n",
      "But how to structure the SQL. Let's think.\n",
      "\n",
      "SELECT MAX(Percent (%) Eligible Free (K-12)) FROM frpm JOIN schools ON frpm.CDSCode = schools.CDSCode WHERE schools.County = 'Alameda';\n",
      "\n",
      "Wait, but the schools table has a County column, which is a TEXT. So the query would be:\n",
      "\n",
      "SELECT MAX(Percent (%) Eligible Free (K-12)) \n",
      "FROM frpm \n",
      "JOIN schools ON frpm.CDSCode = schools.CDSCode \n",
      "WHERE schools.County = 'Alameda';\n",
      "\n",
      "But the problem is that the frpm table has the Percent (%) Eligible Free (K-12) as a column, and the schools table has the County. So joining on CDSCode and filtering County = 'Alameda' should give the necessary rows. Then, taking the maximum of that column.\n",
      "\n",
      "But wait, the user wants the highest rate, so MAX() is correct. However, sometimes there might be multiple schools in Alameda, and we need the maximum value among them. So the query should be as above.\n",
      "\n",
      "But need to make sure that the columns are correctly named. The frpm table's columns are in the initial description. Let me check again.\n",
      "\n",
      "In the frpm table, the columns include Percent (%) Eligible Free (K-12) as a column. The schools table has County as a column. So the SQL should be correct.\n",
      "\n",
      "But the user said to use only the initial column names, not the ones in the schema. Wait, the user said: \"Use only initial column names, change names prohibited\". So the column names in the schema are as given. So the columns in the frpm table are: CDSCode, Academic Year, County Code, District Code, School Code, County Name, District Name, School Name, District Type, School Type, Educational Option Type, NSLP Provision Status, Charter School (Y/N), Charter School Number, Charter Funding Type, IRC, Low Grade, High Grade, Enrollment (K-12), Free Meal Count (K-12), Percent (%) Eligible Free (K-12), etc.\n",
      "\n",
      "So the column names in the frpm table are as listed. So the query should reference those exact column names.\n",
      "\n",
      "So the correct SQL would be:\n",
      "\n",
      "SELECT MAX(Percent (%) Eligible Free (K-12)) \n",
      "FROM frpm \n",
      "JOIN schools ON frpm.CDSCode = schools.CDSCode \n",
      "WHERE schools.County = 'Alameda';\n",
      "\n",
      "But wait, the schools table's County column is a TEXT, and the example values are like 'Alameda', 'Alpine', etc. So the WHERE clause is correct.\n",
      "\n",
      "But need to make sure that the County is exactly 'Alameda' (case-sensitive? Well, in SQLite, string comparisons are case-sensitive unless the database is set to case-insensitive, but the examples show 'Alameda' as the value, so the query should use 'Alameda' exactly.\n",
      "\n",
      "So the final query is as above. Let me check the word count. The user said the answer should be less than 512 characters. Let me count:\n",
      "\n",
      "SELECT MAX(Percent (%) Eligible Free (K-12)) FROM frpm JOIN schools ON frpm.CDSCode = schools.CDSCode WHERE schools.County = 'Alameda';\n",
      "\n",
      "That's 145 characters. So it's under 512. So that's the answer.\n",
      "\n",
      "model 5 analysis:\n",
      " Okay, let's tackle this question. The user wants the highest eligible free rate for K-12 students in Alameda County. \n",
      "\n",
      "First, I need to figure out which tables are involved. The relevant tables here are frpm and schools, maybe satscores, but the question is about free meal counts and enrollments, so frpm and schools probably play a role. \n",
      "\n",
      "Looking at the tables, the schools table has CDSCode, which is linked to frpm via the foreign key. The schools table also has County, so I need to filter for Alameda County. The frpm table has Percent (%) Eligible Free (K-12) and Enrollment (K-12). \n",
      "\n",
      "The formula given is Eligible Free Rate = Free Meal Count (K-12) / Enrollment (K-12). So I need to join the schools and frpm tables on CDSCode, filter where County is 'Alameda', then calculate that ratio. \n",
      "\n",
      "Wait, but the schools table has County, and the frpm has County Code. So I need to join on schools.CDSCode = frpm.CDSCode, and then filter schools.County = 'Alameda'. \n",
      "\n",
      "Then, I need to select the Percent (%) Eligible Free (K-12) and calculate the ratio. But since the question asks for the highest rate, I need to order by that rate descending and limit to 1. \n",
      "\n",
      "So the steps are: join schools and frpm on CDSCode, filter County = 'Alameda', calculate the ratio, order by that ratio descending, and select the top one. \n",
      "\n",
      "But wait, the frpm table has Enrollment (K-12) as a REAL value. So the division would be FreeMealCount / Enrollment. \n",
      "\n",
      "But I need to make sure that the division is done correctly. Also, the question says \"highest eligible free rate,\" so the maximum value. \n",
      "\n",
      "So the SQL query would be a JOIN between schools and frpm on CDSCode, filter where schools.County = 'Alameda', then calculate the ratio. Then order by that ratio descending and take the first row. \n",
      "\n",
      "But how to structure the query. Let's think about the columns. The schools table has County, and frpm has the percentages. \n",
      "\n",
      "So the query would be:\n",
      "\n",
      "SELECT MAX(Percent (%) Eligible Free (K-12)) AS max_rate\n",
      "FROM frpm\n",
      "JOIN schools ON frpm.CDSCode = schools.CDSCode\n",
      "WHERE schools.County = 'Alameda';\n",
      "\n",
      "Wait, but MAX might not be the right approach here. Because the ratio is (FreeMealCount / Enrollment), which is a single value per row. So maybe I need to calculate that ratio for each row and then find the maximum. \n",
      "\n",
      "So the correct approach is to calculate the ratio for each row, then find the maximum. \n",
      "\n",
      "So the query would be:\n",
      "\n",
      "SELECT MAX(Free Meal Count (K-12)/Enrollment (K-12)) AS max_rate\n",
      "FROM frpm\n",
      "JOIN schools ON frpm.CDSCode = schools.CDSCode\n",
      "WHERE schools.County = 'Alameda';\n",
      "\n",
      "But wait, in SQLite, division is done with /, and REAL numbers. Also, the columns are in quotes. \n",
      "\n",
      "But the question asks for the highest rate, so the MAX function would give the maximum value. However, if there are multiple rows with the same maximum, it would return the first one. But since the question says \"highest,\" it's okay. \n",
      "\n",
      "But the user might want the actual value, not just the maximum. However, the question says \"the highest eligible free rate,\" so the MAX is correct. \n",
      "\n",
      "But I need to make sure that the columns are correctly named. The frpm table has Free Meal Count (K-12) as a column, and Enrollment (K-12) as another. So the division is FreeMealCount / Enrollment. \n",
      "\n",
      "So the final query would be:\n",
      "\n",
      "SELECT MAX(Free Meal Count (K-12)/Enrollment (K-12)) AS max_rate\n",
      "FROM frpm\n",
      "JOIN schools ON frpm.CDSCode = schools.CDSCode\n",
      "WHERE schools.County = 'Alameda';\n",
      "\n",
      "But wait, the question says \"the highest eligible free rate for K-12 students in the schools in Alameda County.\" So the answer is the maximum of those ratios. \n",
      "\n",
      "However, the user might want the actual value, not the maximum. But the question says \"highest,\" which implies the maximum. \n",
      "\n",
      "So the query should be as above. But I need to check if the columns are correctly referenced. The frpm table has Free Meal Count (K-12) and Enrollment (K-12) as columns. \n",
      "\n",
      "Yes. So the final SQL query is as written.\n",
      "\n",
      "\n",
      "here is avaliable tables and their structure below\n",
      "【DB_ID】 california_schools\n",
      "【Schema】\n",
      "# Table: frpm\n",
      "[\n",
      "(CDSCode:TEXT, maps to schools.CDSCode, Primary Key, Examples: [01100170109835, 01100170112607, 01100170118489]),\n",
      "(Academic Year:TEXT, Examples: [2014-2015]),\n",
      "(County Code:TEXT, Examples: [01, 02, 03]),\n",
      "(District Code:INTEGER, Examples: [10017, 31609, 31617]),\n",
      "(School Code:TEXT, Examples: [0109835, 0112607, 0118489]),\n",
      "(County Name:TEXT, Examples: [Alameda, Alpine, Amador]),\n",
      "(District Name:TEXT),\n",
      "(School Name:TEXT, Examples: [FAME Public Charter]),\n",
      "(District Type:TEXT, Examples: [County Office of Education (COE)]),\n",
      "(School Type:TEXT, Examples: [K-12 Schools (Public)]),\n",
      "(Educational Option Type:TEXT, Examples: [Traditional]),\n",
      "(NSLP Provision Status:TEXT, Examples: [Breakfast Provision 2]),\n",
      "(Charter School (Y/N):INTEGER, Examples: [1, 0]),\n",
      "(Charter School Number:TEXT, Examples: [0728, 0811, 1049]),\n",
      "(Charter Funding Type:TEXT, Examples: [Directly funded]),\n",
      "(IRC:INTEGER, Examples: [1, 0]),\n",
      "(Low Grade:TEXT, Examples: [K, 9, 1]),\n",
      "(High Grade:TEXT, Examples: [12, 8, 5]),\n",
      "(Enrollment (K-12):REAL, Examples: [1087.0, 395.0, 244.0]),\n",
      "(Free Meal Count (K-12):REAL, Examples: [565.0, 186.0, 134.0]),\n",
      "(Percent (%) Eligible Free (K-12):REAL, Examples: [0.519779208831647, 0.470886075949367, 0.549180327868853]),\n",
      "(FRPM Count (K-12):REAL, Examples: [715.0, 186.0, 175.0]),\n",
      "(Percent (%) Eligible FRPM (K-12):REAL, Examples: [0.657773689052438, 0.470886075949367, 0.717213114754098]),\n",
      "(Enrollment (Ages 5-17):REAL, Examples: [1070.0, 376.0, 230.0]),\n",
      "(Free Meal Count (Ages 5-17):REAL, Examples: [553.0, 182.0, 128.0]),\n",
      "(Percent (%) Eligible Free (Ages 5-17):REAL, Examples: [0.516822429906542, 0.484042553191489, 0.556521739130435]),\n",
      "(FRPM Count (Ages 5-17):REAL, Examples: [702.0, 182.0, 168.0]),\n",
      "(Percent (%) Eligible FRPM (Ages 5-17):REAL, Examples: [0.65607476635514, 0.484042553191489, 0.730434782608696]),\n",
      "(2013-14 CALPADS Fall 1 Certification Status:INTEGER, Examples: [1])\n",
      "]\n",
      "# Table: satscores\n",
      "[\n",
      "(cds:TEXT, maps to schools.CDSCode, Primary Key, Examples: [10101080000000, 10101080109991, 10101080111682]),\n",
      "(rtype:TEXT, Examples: [D, S]),\n",
      "(sname:TEXT, Examples: [FAME Public Charter]),\n",
      "(dname:TEXT, Examples: [Alameda County Office of Education]),\n",
      "(cname:TEXT, Examples: [Alameda, Amador, Butte]),\n",
      "(enroll12:INTEGER, Examples: [398, 62, 75]),\n",
      "(NumTstTakr:INTEGER, Examples: [88, 17, 71]),\n",
      "(AvgScrRead:INTEGER, Examples: [418, 503, 397]),\n",
      "(AvgScrMath:INTEGER, Examples: [418, 546, 387]),\n",
      "(AvgScrWrite:INTEGER, Examples: [417, 505, 395]),\n",
      "(NumGE1500:INTEGER, Examples: [14, 9, 5])\n",
      "]\n",
      "# Table: schools\n",
      "[\n",
      "(CDSCode:TEXT, Primary Key, Examples: [01100170000000, 01100170109835, 01100170112607]),\n",
      "(NCESDist:TEXT, Examples: [0691051, 0600002, 0600003]),\n",
      "(NCESSchool:TEXT, Examples: [10546, 10947, 12283]),\n",
      "(StatusType:TEXT, Examples: [Active, Closed, Merged]),\n",
      "(County:TEXT, Examples: [Alameda, Alpine, Amador]),\n",
      "(District:TEXT),\n",
      "(School:TEXT, Examples: [FAME Public Charter]),\n",
      "(Street:TEXT, Examples: [313 West Winton Avenue]),\n",
      "(StreetAbr:TEXT, Examples: [313 West Winton Ave.]),\n",
      "(City:TEXT, Examples: [Hayward, Newark, Oakland]),\n",
      "(Zip:TEXT, Examples: [94544-1136, 94560-5359, 94612-3355]),\n",
      "(State:TEXT, Examples: [CA]),\n",
      "(MailStreet:TEXT, Examples: [313 West Winton Avenue]),\n",
      "(MailStrAbr:TEXT, Examples: [313 West Winton Ave.]),\n",
      "(MailCity:TEXT, Examples: [Hayward, Newark, Oakland]),\n",
      "(MailZip:TEXT, Examples: [94544-1136, 94560-5359, 94612]),\n",
      "(MailState:TEXT, Examples: [CA]),\n",
      "(Phone:TEXT, Examples: [(510) 887-0152, (510) 596-8901, (510) 686-4131]),\n",
      "(Ext:TEXT, Examples: [130, 1240, 1200]),\n",
      "(Website:TEXT, Examples: [www.acoe.org]),\n",
      "(OpenDate:DATE, Examples: [2005-08-29]),\n",
      "(ClosedDate:DATE, Examples: [2015-07-31]),\n",
      "(Charter:INTEGER, Examples: [1, 0]),\n",
      "(CharterNum:TEXT, Examples: [0728, 0811, 1049]),\n",
      "(FundingType:TEXT, Examples: [Directly funded]),\n",
      "(DOC:TEXT, Examples: [00, 31, 34]),\n",
      "(DOCType:TEXT, Examples: [County Office of Education (COE)]),\n",
      "(SOC:TEXT, Examples: [65, 66, 60]),\n",
      "(SOCType:TEXT, Examples: [K-12 Schools (Public)]),\n",
      "(EdOpsCode:TEXT, Examples: [TRAD, JUV, COMM]),\n",
      "(EdOpsName:TEXT, Examples: [Traditional]),\n",
      "(EILCode:TEXT, Examples: [ELEMHIGH, HS, ELEM]),\n",
      "(EILName:TEXT, Examples: [Elementary-High Combination]),\n",
      "(GSoffered:TEXT, Examples: [K-12, 9-12, K-8]),\n",
      "(GSserved:TEXT, Examples: [K-12, 9-12, K-7]),\n",
      "(Virtual:TEXT, Examples: [P, N, F]),\n",
      "(Magnet:INTEGER, Examples: [0, 1]),\n",
      "(Latitude:REAL, Examples: [37.658212, 37.521436, 37.80452]),\n",
      "(Longitude:REAL, Examples: [-122.09713, -121.99391, -122.26815]),\n",
      "(AdmFName1:TEXT, Examples: [L Karen, Laura, Clifford]),\n",
      "(AdmLName1:TEXT, Examples: [Monroe, Robell, Thompson]),\n",
      "(AdmEmail1:TEXT),\n",
      "(AdmFName2:TEXT, Examples: [Sau-Lim (Lance), Jennifer, Annalisa]),\n",
      "(AdmLName2:TEXT, Examples: [Tsang, Koelling, Moore]),\n",
      "(AdmEmail2:TEXT),\n",
      "(AdmFName3:TEXT, Examples: [Drew, Irma, Vickie]),\n",
      "(AdmLName3:TEXT, Examples: [Sarratore, Munoz, Chang]),\n",
      "(AdmEmail3:TEXT),\n",
      "(LastUpdate:DATE, Examples: [2015-06-23])\n",
      "]\n",
      "【Foreign keys】\n",
      "frpm.CDSCode=schools.CDSCode\n",
      "satscores.cds=schools.CDSCode\n",
      "\n",
      "-- Using valid SQLite and understanding External Knowledge, answer the following questions for the tables provided above.\n",
      "-- What is the highest eligible free rate for K-12 students in the schools in Alameda County?\n",
      "-- External Knowledge: Eligible free rate for K-12 = `Free Meal Count (K-12)` / `Enrollment (K-12)`\n",
      "\n",
      "\n",
      "Generate the SQLite for the above question after thinking step by step: \n",
      "\n",
      "\n",
      "Instructions:\n",
      "- Make sure you only output the information that is asked in the question. If the question asks for a specific column, make sure to only include that column in the SELECT clause, nothing more.\n",
      "- The generated query should return all of the information asked in the question without any missing or extra information.\n",
      "- Before generating the final SQL query, please think through the steps of how to write the query.\n",
      "- Do not misuse column names, keep them in quotes `\n",
      "- Carefully understand what colomns belond to what tables\n",
      "- Use only initial column names, change names prohibited\n",
      "        \n",
      "Output Format:\n",
      "In your answer, please enclose the generated SQL query in a code block:\n",
      "```\n",
      "-- Your SQL query\n",
      "```    \n",
      "and nothing else, no exaplains, no comments (asnwer should be less than 512 characters)\n",
      "\n",
      "Take a deep breath and think step by step to find the correct SQL query in SQLite format.\n",
      "\n",
      "Question repetition: What is the highest eligible free rate for K-12 students in the schools in Alameda County?\n",
      "\n",
      "Be care! Include only what i want it questiona and nothing else<|im_end|>\n",
      "<|im_start|>assistant\n",
      "<think>\n",
      "\n",
      "</think>\n",
      "\n",
      "\n",
      "\n",
      "\n",
      "Максимальное количество токенов в промптах: 34558\n",
      "\n",
      "начинаем скорринг\n",
      "Загружаем чаты с данными...\n",
      "Данные успешно загружены\n",
      "Начали генерацию SQL запросов\n"
     ]
    },
    {
     "name": "stderr",
     "output_type": "stream",
     "text": [
      "Processed prompts: 100%|██████████| 1534/1534 [01:36<00:00, 15.86it/s, est. speed input: 128803.43 toks/s, output: 746.56 toks/s]   "
     ]
    },
    {
     "name": "stdout",
     "output_type": "stream",
     "text": [
      "extract_think количество ошибок:  0\n",
      "extract_sql количество ошибок:  0\n",
      "Закончили генерацию SQL запросов\n",
      "Начали скорр полученных SQL запросов\n"
     ]
    },
    {
     "name": "stderr",
     "output_type": "stream",
     "text": [
      "\n"
     ]
    },
    {
     "name": "stdout",
     "output_type": "stream",
     "text": [
      "Qwen3-1.7B DEV Финальный результат EX: 49.80\n",
      "Qwen3-1.7B процент запросов, которые успешно выполнились DEV: 82.53%\n",
      "====================================================================================================\n",
      "\n",
      "\n",
      "Загружаем чаты с данными...\n",
      "Данные успешно загружены\n",
      "Начали генерацию SQL запросов\n"
     ]
    },
    {
     "name": "stderr",
     "output_type": "stream",
     "text": [
      "Processed prompts: 100%|██████████| 1534/1534 [01:37<00:00, 15.71it/s, est. speed input: 127737.71 toks/s, output: 744.97 toks/s]   "
     ]
    },
    {
     "name": "stdout",
     "output_type": "stream",
     "text": [
      "extract_think количество ошибок:  0\n",
      "extract_sql количество ошибок:  0\n",
      "Закончили генерацию SQL запросов\n",
      "Начали скорр полученных SQL запросов\n"
     ]
    },
    {
     "name": "stderr",
     "output_type": "stream",
     "text": [
      "\n"
     ]
    },
    {
     "name": "stdout",
     "output_type": "stream",
     "text": [
      "Qwen3-1.7B DEV Финальный результат EX: 49.48\n",
      "Qwen3-1.7B процент запросов, которые успешно выполнились DEV: 82.53%\n",
      "====================================================================================================\n",
      "\n",
      "\n",
      "Загружаем чаты с данными...\n",
      "Данные успешно загружены\n",
      "Начали генерацию SQL запросов\n"
     ]
    },
    {
     "name": "stderr",
     "output_type": "stream",
     "text": [
      "Processed prompts: 100%|██████████| 1534/1534 [01:38<00:00, 15.54it/s, est. speed input: 126268.03 toks/s, output: 735.43 toks/s]   "
     ]
    },
    {
     "name": "stdout",
     "output_type": "stream",
     "text": [
      "extract_think количество ошибок:  0\n",
      "extract_sql количество ошибок:  0\n",
      "Закончили генерацию SQL запросов\n",
      "Начали скорр полученных SQL запросов\n"
     ]
    },
    {
     "name": "stderr",
     "output_type": "stream",
     "text": [
      "\n"
     ]
    },
    {
     "name": "stdout",
     "output_type": "stream",
     "text": [
      "Qwen3-1.7B DEV Финальный результат EX: 49.35\n",
      "Qwen3-1.7B процент запросов, которые успешно выполнились DEV: 82.59%\n",
      "====================================================================================================\n",
      "\n",
      "\n",
      "Загружаем чаты с данными...\n",
      "Данные успешно загружены\n",
      "Начали генерацию SQL запросов\n"
     ]
    },
    {
     "name": "stderr",
     "output_type": "stream",
     "text": [
      "Processed prompts: 100%|██████████| 1534/1534 [01:40<00:00, 15.20it/s, est. speed input: 125584.39 toks/s, output: 717.63 toks/s]   "
     ]
    },
    {
     "name": "stdout",
     "output_type": "stream",
     "text": [
      "extract_think количество ошибок:  0\n",
      "extract_sql количество ошибок:  0\n",
      "Закончили генерацию SQL запросов\n",
      "Начали скорр полученных SQL запросов\n"
     ]
    },
    {
     "name": "stderr",
     "output_type": "stream",
     "text": [
      "\n"
     ]
    },
    {
     "name": "stdout",
     "output_type": "stream",
     "text": [
      "Qwen3-1.7B DEV Финальный результат EX: 49.54\n",
      "Qwen3-1.7B процент запросов, которые успешно выполнились DEV: 82.66%\n",
      "====================================================================================================\n",
      "\n",
      "\n",
      "Загружаем чаты с данными...\n",
      "Данные успешно загружены\n",
      "Начали генерацию SQL запросов\n"
     ]
    },
    {
     "name": "stderr",
     "output_type": "stream",
     "text": [
      "Processed prompts: 100%|██████████| 1534/1534 [01:41<00:00, 15.18it/s, est. speed input: 125938.79 toks/s, output: 717.83 toks/s]   "
     ]
    },
    {
     "name": "stdout",
     "output_type": "stream",
     "text": [
      "extract_think количество ошибок:  0\n",
      "extract_sql количество ошибок:  0\n",
      "Закончили генерацию SQL запросов\n",
      "Начали скорр полученных SQL запросов\n"
     ]
    },
    {
     "name": "stderr",
     "output_type": "stream",
     "text": [
      "\n"
     ]
    },
    {
     "name": "stdout",
     "output_type": "stream",
     "text": [
      "Qwen3-1.7B DEV Финальный результат EX: 51.63\n",
      "Qwen3-1.7B процент запросов, которые успешно выполнились DEV: 84.35%\n",
      "====================================================================================================\n",
      "\n",
      "\n",
      "Загружаем чаты с данными...\n",
      "Данные успешно загружены\n",
      "Начали генерацию SQL запросов\n"
     ]
    },
    {
     "name": "stderr",
     "output_type": "stream",
     "text": [
      "Processed prompts: 100%|██████████| 1534/1534 [01:41<00:00, 15.19it/s, est. speed input: 126949.37 toks/s, output: 718.23 toks/s]     "
     ]
    },
    {
     "name": "stdout",
     "output_type": "stream",
     "text": [
      "extract_think количество ошибок:  0\n",
      "extract_sql количество ошибок:  0\n",
      "Закончили генерацию SQL запросов\n",
      "Начали скорр полученных SQL запросов\n"
     ]
    },
    {
     "name": "stderr",
     "output_type": "stream",
     "text": [
      "\n"
     ]
    },
    {
     "name": "stdout",
     "output_type": "stream",
     "text": [
      "Qwen3-1.7B DEV Финальный результат EX: 51.50\n",
      "Qwen3-1.7B процент запросов, которые успешно выполнились DEV: 83.90%\n",
      "====================================================================================================\n",
      "\n",
      "\n",
      "Загружаем чаты с данными...\n",
      "Данные успешно загружены\n",
      "Начали генерацию SQL запросов\n"
     ]
    },
    {
     "name": "stderr",
     "output_type": "stream",
     "text": [
      "Processed prompts: 100%|██████████| 1534/1534 [01:42<00:00, 15.04it/s, est. speed input: 125517.88 toks/s, output: 717.43 toks/s]   "
     ]
    },
    {
     "name": "stdout",
     "output_type": "stream",
     "text": [
      "extract_think количество ошибок:  0\n",
      "extract_sql количество ошибок:  0\n",
      "Закончили генерацию SQL запросов\n",
      "Начали скорр полученных SQL запросов\n"
     ]
    },
    {
     "name": "stderr",
     "output_type": "stream",
     "text": [
      "\n"
     ]
    },
    {
     "name": "stdout",
     "output_type": "stream",
     "text": [
      "Qwen3-1.7B DEV Финальный результат EX: 49.80\n",
      "Qwen3-1.7B процент запросов, которые успешно выполнились DEV: 83.12%\n",
      "====================================================================================================\n",
      "\n",
      "\n",
      "Загружаем чаты с данными...\n",
      "Данные успешно загружены\n",
      "Начали генерацию SQL запросов\n"
     ]
    },
    {
     "name": "stderr",
     "output_type": "stream",
     "text": [
      "Processed prompts: 100%|██████████| 1534/1534 [01:40<00:00, 15.29it/s, est. speed input: 126941.38 toks/s, output: 719.60 toks/s]   "
     ]
    },
    {
     "name": "stdout",
     "output_type": "stream",
     "text": [
      "extract_think количество ошибок:  0\n",
      "extract_sql количество ошибок:  0\n",
      "Закончили генерацию SQL запросов\n",
      "Начали скорр полученных SQL запросов\n"
     ]
    },
    {
     "name": "stderr",
     "output_type": "stream",
     "text": [
      "\n"
     ]
    },
    {
     "name": "stdout",
     "output_type": "stream",
     "text": [
      "Qwen3-1.7B DEV Финальный результат EX: 49.15\n",
      "Qwen3-1.7B процент запросов, которые успешно выполнились DEV: 83.64%\n",
      "====================================================================================================\n",
      "\n",
      "\n",
      "Загружаем чаты с данными...\n",
      "Данные успешно загружены\n",
      "Начали генерацию SQL запросов\n"
     ]
    },
    {
     "name": "stderr",
     "output_type": "stream",
     "text": [
      "Processed prompts: 100%|██████████| 1534/1534 [01:41<00:00, 15.15it/s, est. speed input: 126015.78 toks/s, output: 714.08 toks/s]     "
     ]
    },
    {
     "name": "stdout",
     "output_type": "stream",
     "text": [
      "extract_think количество ошибок:  0\n",
      "extract_sql количество ошибок:  0\n",
      "Закончили генерацию SQL запросов\n",
      "Начали скорр полученных SQL запросов\n"
     ]
    },
    {
     "name": "stderr",
     "output_type": "stream",
     "text": [
      "\n"
     ]
    },
    {
     "name": "stdout",
     "output_type": "stream",
     "text": [
      "Qwen3-1.7B DEV Финальный результат EX: 50.00\n",
      "Qwen3-1.7B процент запросов, которые успешно выполнились DEV: 82.66%\n",
      "====================================================================================================\n",
      "\n",
      "\n",
      "Загружаем чаты с данными...\n",
      "Данные успешно загружены\n",
      "Начали генерацию SQL запросов\n"
     ]
    },
    {
     "name": "stderr",
     "output_type": "stream",
     "text": [
      "Processed prompts: 100%|██████████| 1534/1534 [01:40<00:00, 15.24it/s, est. speed input: 126862.08 toks/s, output: 713.87 toks/s]   "
     ]
    },
    {
     "name": "stdout",
     "output_type": "stream",
     "text": [
      "extract_think количество ошибок:  0\n",
      "extract_sql количество ошибок:  0\n",
      "Закончили генерацию SQL запросов\n",
      "Начали скорр полученных SQL запросов\n"
     ]
    },
    {
     "name": "stderr",
     "output_type": "stream",
     "text": [
      "\n"
     ]
    },
    {
     "name": "stdout",
     "output_type": "stream",
     "text": [
      "Qwen3-1.7B DEV Финальный результат EX: 49.67\n",
      "Qwen3-1.7B процент запросов, которые успешно выполнились DEV: 83.38%\n",
      "====================================================================================================\n",
      "\n",
      "\n",
      "Загружаем чаты с данными...\n",
      "Данные успешно загружены\n",
      "Начали генерацию SQL запросов\n"
     ]
    },
    {
     "name": "stderr",
     "output_type": "stream",
     "text": [
      "Processed prompts: 100%|██████████| 1534/1534 [01:40<00:00, 15.25it/s, est. speed input: 127101.91 toks/s, output: 718.11 toks/s]   "
     ]
    },
    {
     "name": "stdout",
     "output_type": "stream",
     "text": [
      "extract_think количество ошибок:  0\n",
      "extract_sql количество ошибок:  0\n",
      "Закончили генерацию SQL запросов\n",
      "Начали скорр полученных SQL запросов\n"
     ]
    },
    {
     "name": "stderr",
     "output_type": "stream",
     "text": [
      "\n"
     ]
    },
    {
     "name": "stdout",
     "output_type": "stream",
     "text": [
      "Qwen3-1.7B DEV Финальный результат EX: 49.54\n",
      "Qwen3-1.7B процент запросов, которые успешно выполнились DEV: 82.40%\n",
      "====================================================================================================\n",
      "\n",
      "\n",
      "Загружаем чаты с данными...\n",
      "Данные успешно загружены\n",
      "Начали генерацию SQL запросов\n"
     ]
    },
    {
     "name": "stderr",
     "output_type": "stream",
     "text": [
      "Processed prompts: 100%|██████████| 1534/1534 [01:39<00:00, 15.41it/s, est. speed input: 128012.99 toks/s, output: 725.75 toks/s]  "
     ]
    },
    {
     "name": "stdout",
     "output_type": "stream",
     "text": [
      "extract_think количество ошибок:  0\n",
      "extract_sql количество ошибок:  0\n",
      "Закончили генерацию SQL запросов\n",
      "Начали скорр полученных SQL запросов\n"
     ]
    },
    {
     "name": "stderr",
     "output_type": "stream",
     "text": [
      "\n"
     ]
    },
    {
     "name": "stdout",
     "output_type": "stream",
     "text": [
      "Qwen3-1.7B DEV Финальный результат EX: 48.57\n",
      "Qwen3-1.7B процент запросов, которые успешно выполнились DEV: 82.01%\n",
      "====================================================================================================\n",
      "\n",
      "\n",
      "Загружаем чаты с данными...\n",
      "Данные успешно загружены\n",
      "Начали генерацию SQL запросов\n"
     ]
    },
    {
     "name": "stderr",
     "output_type": "stream",
     "text": [
      "Processed prompts: 100%|██████████| 1534/1534 [01:40<00:00, 15.31it/s, est. speed input: 127141.17 toks/s, output: 717.18 toks/s]    "
     ]
    },
    {
     "name": "stdout",
     "output_type": "stream",
     "text": [
      "extract_think количество ошибок:  0\n",
      "extract_sql количество ошибок:  0\n",
      "Закончили генерацию SQL запросов\n",
      "Начали скорр полученных SQL запросов\n"
     ]
    },
    {
     "name": "stderr",
     "output_type": "stream",
     "text": [
      "\n"
     ]
    },
    {
     "name": "stdout",
     "output_type": "stream",
     "text": [
      "Qwen3-1.7B DEV Финальный результат EX: 49.54\n",
      "Qwen3-1.7B процент запросов, которые успешно выполнились DEV: 82.99%\n",
      "====================================================================================================\n",
      "\n",
      "\n",
      "Загружаем чаты с данными...\n",
      "Данные успешно загружены\n",
      "Начали генерацию SQL запросов\n"
     ]
    },
    {
     "name": "stderr",
     "output_type": "stream",
     "text": [
      "Processed prompts: 100%|██████████| 1534/1534 [01:40<00:00, 15.27it/s, est. speed input: 126264.50 toks/s, output: 722.48 toks/s]   "
     ]
    },
    {
     "name": "stdout",
     "output_type": "stream",
     "text": [
      "extract_think количество ошибок:  0\n",
      "extract_sql количество ошибок:  0\n",
      "Закончили генерацию SQL запросов\n",
      "Начали скорр полученных SQL запросов\n"
     ]
    },
    {
     "name": "stderr",
     "output_type": "stream",
     "text": [
      "\n"
     ]
    },
    {
     "name": "stdout",
     "output_type": "stream",
     "text": [
      "Qwen3-1.7B DEV Финальный результат EX: 50.07\n",
      "Qwen3-1.7B процент запросов, которые успешно выполнились DEV: 83.96%\n",
      "====================================================================================================\n",
      "\n",
      "\n",
      "Загружаем чаты с данными...\n",
      "Данные успешно загружены\n",
      "Начали генерацию SQL запросов\n"
     ]
    },
    {
     "name": "stderr",
     "output_type": "stream",
     "text": [
      "Processed prompts: 100%|██████████| 1534/1534 [01:40<00:00, 15.25it/s, est. speed input: 125863.04 toks/s, output: 720.57 toks/s]   "
     ]
    },
    {
     "name": "stdout",
     "output_type": "stream",
     "text": [
      "extract_think количество ошибок:  0\n",
      "extract_sql количество ошибок:  0\n",
      "Закончили генерацию SQL запросов\n",
      "Начали скорр полученных SQL запросов\n"
     ]
    },
    {
     "name": "stderr",
     "output_type": "stream",
     "text": [
      "\n"
     ]
    },
    {
     "name": "stdout",
     "output_type": "stream",
     "text": [
      "Qwen3-1.7B DEV Финальный результат EX: 49.67\n",
      "Qwen3-1.7B процент запросов, которые успешно выполнились DEV: 83.44%\n",
      "====================================================================================================\n",
      "\n",
      "\n",
      "Загружаем чаты с данными...\n",
      "Данные успешно загружены\n",
      "Начали генерацию SQL запросов\n"
     ]
    },
    {
     "name": "stderr",
     "output_type": "stream",
     "text": [
      "Processed prompts: 100%|██████████| 1534/1534 [01:39<00:00, 15.42it/s, est. speed input: 127687.20 toks/s, output: 729.04 toks/s]   "
     ]
    },
    {
     "name": "stdout",
     "output_type": "stream",
     "text": [
      "extract_think количество ошибок:  0\n",
      "extract_sql количество ошибок:  0\n",
      "Закончили генерацию SQL запросов\n",
      "Начали скорр полученных SQL запросов\n"
     ]
    },
    {
     "name": "stderr",
     "output_type": "stream",
     "text": [
      "\n"
     ]
    },
    {
     "name": "stdout",
     "output_type": "stream",
     "text": [
      "Qwen3-1.7B DEV Финальный результат EX: 48.89\n",
      "Qwen3-1.7B процент запросов, которые успешно выполнились DEV: 82.79%\n",
      "====================================================================================================\n",
      "\n",
      "\n",
      "Загружаем чаты с данными...\n",
      "Данные успешно загружены\n",
      "Начали генерацию SQL запросов\n"
     ]
    },
    {
     "name": "stderr",
     "output_type": "stream",
     "text": [
      "Processed prompts: 100%|██████████| 1534/1534 [01:40<00:00, 15.25it/s, est. speed input: 125673.07 toks/s, output: 723.12 toks/s]   "
     ]
    },
    {
     "name": "stdout",
     "output_type": "stream",
     "text": [
      "extract_think количество ошибок:  0\n",
      "extract_sql количество ошибок:  0\n",
      "Закончили генерацию SQL запросов\n",
      "Начали скорр полученных SQL запросов\n"
     ]
    },
    {
     "name": "stderr",
     "output_type": "stream",
     "text": [
      "\n"
     ]
    },
    {
     "name": "stdout",
     "output_type": "stream",
     "text": [
      "Qwen3-1.7B DEV Финальный результат EX: 49.54\n",
      "Qwen3-1.7B процент запросов, которые успешно выполнились DEV: 83.18%\n",
      "====================================================================================================\n",
      "\n",
      "\n",
      "Загружаем чаты с данными...\n",
      "Данные успешно загружены\n",
      "Начали генерацию SQL запросов\n"
     ]
    },
    {
     "name": "stderr",
     "output_type": "stream",
     "text": [
      "Processed prompts: 100%|██████████| 1534/1534 [01:37<00:00, 15.79it/s, est. speed input: 127271.37 toks/s, output: 745.35 toks/s]   "
     ]
    },
    {
     "name": "stdout",
     "output_type": "stream",
     "text": [
      "extract_think количество ошибок:  0\n",
      "extract_sql количество ошибок:  0\n",
      "Закончили генерацию SQL запросов\n",
      "Начали скорр полученных SQL запросов\n"
     ]
    },
    {
     "name": "stderr",
     "output_type": "stream",
     "text": [
      "\n"
     ]
    },
    {
     "name": "stdout",
     "output_type": "stream",
     "text": [
      "Qwen3-1.7B DEV Финальный результат EX: 49.74\n",
      "Qwen3-1.7B процент запросов, которые успешно выполнились DEV: 82.72%\n",
      "====================================================================================================\n",
      "\n",
      "\n",
      "Загружаем чаты с данными...\n",
      "Данные успешно загружены\n",
      "Начали генерацию SQL запросов\n"
     ]
    },
    {
     "name": "stderr",
     "output_type": "stream",
     "text": [
      "Processed prompts: 100%|██████████| 1534/1534 [01:37<00:00, 15.79it/s, est. speed input: 126839.46 toks/s, output: 746.58 toks/s]   "
     ]
    },
    {
     "name": "stdout",
     "output_type": "stream",
     "text": [
      "extract_think количество ошибок:  0\n",
      "extract_sql количество ошибок:  0\n",
      "Закончили генерацию SQL запросов\n",
      "Начали скорр полученных SQL запросов\n"
     ]
    },
    {
     "name": "stderr",
     "output_type": "stream",
     "text": [
      "\n"
     ]
    },
    {
     "name": "stdout",
     "output_type": "stream",
     "text": [
      "Qwen3-1.7B DEV Финальный результат EX: 48.57\n",
      "Qwen3-1.7B процент запросов, которые успешно выполнились DEV: 82.33%\n",
      "====================================================================================================\n",
      "\n",
      "\n",
      "Загружаем чаты с данными...\n",
      "Данные успешно загружены\n",
      "Начали генерацию SQL запросов\n"
     ]
    },
    {
     "name": "stderr",
     "output_type": "stream",
     "text": [
      "Processed prompts: 100%|██████████| 1534/1534 [01:36<00:00, 15.87it/s, est. speed input: 128149.38 toks/s, output: 745.81 toks/s]   "
     ]
    },
    {
     "name": "stdout",
     "output_type": "stream",
     "text": [
      "extract_think количество ошибок:  0\n",
      "extract_sql количество ошибок:  0\n",
      "Закончили генерацию SQL запросов\n",
      "Начали скорр полученных SQL запросов\n"
     ]
    },
    {
     "name": "stderr",
     "output_type": "stream",
     "text": [
      "\n"
     ]
    },
    {
     "name": "stdout",
     "output_type": "stream",
     "text": [
      "Qwen3-1.7B DEV Финальный результат EX: 48.76\n",
      "Qwen3-1.7B процент запросов, которые успешно выполнились DEV: 82.20%\n",
      "====================================================================================================\n",
      "\n",
      "\n"
     ]
    }
   ],
   "source": [
    "run_cot_experiment(model,arr_seeds,arr_versions, type_cot,num_observations=num_observations)"
   ]
  },
  {
   "cell_type": "code",
   "execution_count": null,
   "id": "e1546848-51e6-48b8-a752-2e11cf612fba",
   "metadata": {},
   "outputs": [],
   "source": [
    "n= 20\n",
    "arr_seeds = [random.randint(0,1000) for _ in range(n)]\n",
    "arr_versions = [x for x in range(n)]\n",
    "model = \"Qwen3-1.7B\"\n",
    "num_observations = 7\n",
    "type_cot = 'think'\n",
    "print(arr_seeds)\n",
    "print(f\"model: {model}\")"
   ]
  },
  {
   "cell_type": "code",
   "execution_count": null,
   "id": "bbd1c5d7-3f56-4d9b-b2da-ced7d7af5dcd",
   "metadata": {
    "scrolled": true
   },
   "outputs": [],
   "source": [
    "run_cot_experiment(model,arr_seeds,arr_versions, type_cot,num_observations=num_observations)"
   ]
  },
  {
   "cell_type": "code",
   "execution_count": null,
   "id": "1f275770-a1ff-4c32-9410-a2f1b90d6387",
   "metadata": {},
   "outputs": [],
   "source": []
  },
  {
   "cell_type": "code",
   "execution_count": null,
   "id": "13e7997c-2824-4176-a753-79f042f3b33c",
   "metadata": {},
   "outputs": [],
   "source": []
  }
 ],
 "metadata": {
  "kernelspec": {
   "display_name": "vllm",
   "language": "python",
   "name": "vllm"
  },
  "language_info": {
   "codemirror_mode": {
    "name": "ipython",
    "version": 3
   },
   "file_extension": ".py",
   "mimetype": "text/x-python",
   "name": "python",
   "nbconvert_exporter": "python",
   "pygments_lexer": "ipython3",
   "version": "3.12.4"
  }
 },
 "nbformat": 4,
 "nbformat_minor": 5
}
